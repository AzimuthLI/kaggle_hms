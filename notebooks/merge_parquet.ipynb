{
 "cells": [
  {
   "cell_type": "code",
   "execution_count": 1,
   "metadata": {},
   "outputs": [],
   "source": [
    "import numpy as np\n",
    "import pandas as pd\n",
    "from pathlib import Path"
   ]
  },
  {
   "cell_type": "code",
   "execution_count": 2,
   "metadata": {},
   "outputs": [],
   "source": [
    "eeg_files = list(Path(\"../train_eegs/\").glob(\"*.parquet\") )\n",
    "\n",
    "def load_eeg(filepath):\n",
    "    df = pd.read_parquet(filepath)\n",
    "    cols = df.columns\n",
    "    df['eeg_id'] = filepath.stem \n",
    "    df = df[['eeg_id']+list(cols)]\n",
    "    return df\n",
    "\n",
    "all_eegs = [\n",
    "    load_eeg(eeg_file) for eeg_file in eeg_files\n",
    "]\n",
    "\n",
    "all_eegs_merge = pd.concat(all_eegs)\n",
    "\n",
    "# save to a new parquet file\n",
    "all_eegs_merge.to_parquet(\"../all_eegs.parquet\")"
   ]
  },
  {
   "cell_type": "code",
   "execution_count": null,
   "metadata": {},
   "outputs": [],
   "source": [
    "spec_files = list( Path(\"../train_spectrograms\").glob(\"*.parquet\") )\n",
    "\n",
    "def load_spec(filepath):\n",
    "    df = pd.read_parquet(filepath)\n",
    "    cols = df.columns\n",
    "    df['spec_id'] = filepath.stem \n",
    "    df = df[['spec_id']+list(cols)]\n",
    "    return df\n",
    "\n",
    "all_specs = [\n",
    "    load_spec(spec_file) for spec_file in spec_files[:10]\n",
    "]\n",
    "\n",
    "all_specs_merge = pd.concat(all_specs)\n",
    "\n",
    "# save to a new parquet file\n",
    "all_specs_merge.to_parquet(\"../all_specs.parquet\")"
   ]
  },
  {
   "cell_type": "code",
   "execution_count": null,
   "metadata": {},
   "outputs": [],
   "source": []
  }
 ],
 "metadata": {
  "kernelspec": {
   "display_name": "kaggle",
   "language": "python",
   "name": "python3"
  },
  "language_info": {
   "codemirror_mode": {
    "name": "ipython",
    "version": 3
   },
   "file_extension": ".py",
   "mimetype": "text/x-python",
   "name": "python",
   "nbconvert_exporter": "python",
   "pygments_lexer": "ipython3",
   "version": "3.10.13"
  }
 },
 "nbformat": 4,
 "nbformat_minor": 2
}
