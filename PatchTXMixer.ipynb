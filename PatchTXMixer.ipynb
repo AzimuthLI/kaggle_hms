{
 "cells": [
  {
   "cell_type": "code",
   "execution_count": 1,
   "metadata": {},
   "outputs": [],
   "source": [
    "import os, gc\n",
    "import numpy as np\n",
    "import pandas as pd \n",
    "from pathlib import Path\n",
    "import matplotlib.pyplot as plt\n",
    "from typing import List, Dict\n",
    "from tqdm.notebook import tqdm\n",
    "\n",
    "from sklearn.model_selection import KFold\n",
    "\n",
    "import torch\n",
    "from torch import nn\n",
    "from torch.nn import functional as F\n",
    "from torch.utils.data import DataLoader, Dataset\n",
    "from torchvision.transforms import v2\n",
    "from torch.optim.lr_scheduler import OneCycleLR\n",
    "from time import time, ctime\n",
    "\n",
    "from transformers import PatchTSMixerConfig, PatchTSMixerForTimeSeriesClassification\n",
    "\n",
    "from engine_hms_trainer import (\n",
    "    seed_everything, gen_non_overlap_samples, calc_entropy, evaluate_oof, get_logger, TARGETS, TARGETS_PRED, Trainer\n",
    ")\n",
    "from engine_hms_model import (\n",
    "    KagglePaths, LocalPaths, ModelConfig\n",
    ")\n",
    "\n",
    "from scipy.signal import butter, lfilter, freqz\n",
    "from scipy.stats import entropy"
   ]
  },
  {
   "cell_type": "code",
   "execution_count": 2,
   "metadata": {},
   "outputs": [
    {
     "name": "stdout",
     "output_type": "stream",
     "text": [
      "Output Dir:  ./outputs/\n"
     ]
    }
   ],
   "source": [
    "DEVICE = torch.device(\"cuda\" if torch.cuda.is_available() else \"cpu\")\n",
    "\n",
    "PATHS = KagglePaths if os.path.exists(KagglePaths.OUTPUT_DIR) else LocalPaths\n",
    "print(\"Output Dir: \", PATHS.OUTPUT_DIR)\n",
    "\n",
    "EEG_FEAT_ALL = [\n",
    "    'Fp1', 'F3', 'C3', 'P3', \n",
    "    'F7', 'T3', 'T5', 'O1', \n",
    "    'Fz', 'Cz', 'Pz', 'Fp2', \n",
    "    'F4', 'C4', 'P4', 'F8', \n",
    "    'T4', 'T6', 'O2', 'EKG'\n",
    "    ]\n",
    "\n",
    "EEG_FEAT_USE =  ['Fp1','T3','C3','O1','Fp2','C4','T4','O2']\n",
    "EEF_FEAT_INDEX = {x:y for x,y in zip(EEG_FEAT_USE, range(len(EEG_FEAT_USE)))}\n",
    "\n",
    "seed_everything(ModelConfig.SEED)"
   ]
  },
  {
   "cell_type": "code",
   "execution_count": 3,
   "metadata": {},
   "outputs": [],
   "source": [
    "def eeg_from_parquet(parquet_path: str, display: bool = False) -> np.ndarray:\n",
    "    \"\"\"\n",
    "    This function reads a parquet file and extracts the middle 50 seconds of readings. Then it fills NaN values\n",
    "    with the mean value (ignoring NaNs).\n",
    "    :param parquet_path: path to parquet file.\n",
    "    :param display: whether to display EEG plots or not.\n",
    "    :return data: np.array of shape  (time_steps, eeg_features) -> (10_000, 8)\n",
    "    \"\"\"\n",
    "    # === Extract middle 50 seconds ===\n",
    "    eeg = pd.read_parquet(parquet_path, columns=EEG_FEAT_USE)\n",
    "    rows = len(eeg)\n",
    "    offset = (rows - 10_000) // 2 # 50 * 200 = 10_000\n",
    "    eeg = eeg.iloc[offset:offset+10_000] # middle 50 seconds, has the same amount of readings to left and right\n",
    "    if display: \n",
    "        plt.figure(figsize=(10,5))\n",
    "        offset = 0\n",
    "    # === Convert to numpy ===\n",
    "    data = np.zeros((10_000, len(EEG_FEAT_USE))) # create placeholder of same shape with zeros\n",
    "    for index, feature in enumerate(EEG_FEAT_USE):\n",
    "        x = eeg[feature].values.astype('float32') # convert to float32\n",
    "        mean = np.nanmean(x) # arithmetic mean along the specified axis, ignoring NaNs\n",
    "        nan_percentage = np.isnan(x).mean() # percentage of NaN values in feature\n",
    "        # === Fill nan values ===\n",
    "        if nan_percentage < 1: # if some values are nan, but not all\n",
    "            x = np.nan_to_num(x, nan=mean)\n",
    "        else: # if all values are nan\n",
    "            x[:] = 0\n",
    "        data[:, index] = x\n",
    "        if display: \n",
    "            if index != 0:\n",
    "                offset += x.max()\n",
    "            plt.plot(range(10_000), x-offset, label=feature)\n",
    "            offset -= x.min()\n",
    "    if display:\n",
    "        plt.legend()\n",
    "        name = parquet_path.split('/')[-1].split('.')[0]\n",
    "        plt.yticks([])\n",
    "        plt.title(f'EEG {name}',size=16)\n",
    "        plt.show()    \n",
    "    return data"
   ]
  },
  {
   "cell_type": "code",
   "execution_count": 4,
   "metadata": {},
   "outputs": [],
   "source": [
    "CREATE_EEGS = False\n",
    "ALL_EEG_SIGNALS = {}\n",
    "eeg_paths = list(Path(PATHS.TRAIN_EEGS).glob('*.parquet'))\n",
    "preload_eegs_path = Path('./inputs/eegs.npy')\n",
    "\n",
    "if CREATE_EEGS:\n",
    "    for parquet_path in tqdm(eeg_paths, total=len(eeg_paths)):\n",
    "        # Save EEG to Python dictionary of numpy arrays\n",
    "        eeg_id = int(parquet_path.stem)\n",
    "        eeg_path = str(parquet_path)\n",
    "        data = eeg_from_parquet(eeg_path, display=eeg_id<1)\n",
    "        ALL_EEG_SIGNALS[eeg_id] = data\n",
    "\n",
    "    np.save(\"./inputs/eegs.npy\", ALL_EEG_SIGNALS)\n",
    "else:\n",
    "    ALL_EEG_SIGNALS = np.load(preload_eegs_path, allow_pickle=True).item()"
   ]
  },
  {
   "cell_type": "code",
   "execution_count": 5,
   "metadata": {},
   "outputs": [],
   "source": [
    "def butter_bandpass_filter(data, lowcut, highcut, fs, order=5):\n",
    "    b, a = butter(order, [lowcut, highcut], fs=fs, btype='band')\n",
    "    y = lfilter(b, a, data)\n",
    "    return y\n",
    "\n",
    "def denoise_filter(x):\n",
    "    # Sample rate and desired cutoff frequencies (in Hz).\n",
    "    fs = 200.0\n",
    "    lowcut = 1.0\n",
    "    highcut = 25.0\n",
    "    \n",
    "    # Filter a noisy signal.\n",
    "    T = 50\n",
    "    nsamples = T * fs\n",
    "    t = np.arange(0, nsamples) / fs\n",
    "    y = butter_bandpass_filter(x, lowcut, highcut, fs, order=6)\n",
    "    y = (y + np.roll(y,-1)+ np.roll(y,-2)+ np.roll(y,-3))/4\n",
    "    y = y[0:-1:4]\n",
    "    \n",
    "    return y\n",
    "\n",
    "def mu_law_encoding(data, mu):\n",
    "    mu_x = np.sign(data) * np.log(1 + mu * np.abs(data)) / np.log(mu + 1)\n",
    "    return mu_x\n",
    "\n",
    "def mu_law_expansion(data, mu):\n",
    "    s = np.sign(data) * (np.exp(np.abs(data) * np.log(mu + 1)) - 1) / mu\n",
    "    return s\n",
    "\n",
    "def quantize_data(data, classes):\n",
    "    mu_x = mu_law_encoding(data, classes)\n",
    "    return mu_x #quantized\n",
    "\n",
    "def butter_lowpass_filter(data, cutoff_freq=20, sampling_rate=200, order=4):\n",
    "    nyquist = 0.5 * sampling_rate\n",
    "    normal_cutoff = cutoff_freq / nyquist\n",
    "    b, a = butter(order, normal_cutoff, btype='low', analog=False)\n",
    "    filtered_data = lfilter(b, a, data, axis=0)\n",
    "    return filtered_data\n"
   ]
  },
  {
   "cell_type": "code",
   "execution_count": 6,
   "metadata": {},
   "outputs": [],
   "source": [
    "class TXMixerDataset(Dataset):\n",
    "    def __init__(self, df, config, eegs, mode='train', downsample=None):\n",
    "        self.df = df\n",
    "        self.config = config\n",
    "        self.mode = mode\n",
    "        self.eegs = eegs\n",
    "        self.downsample = downsample\n",
    "\n",
    "    def __len__(self):\n",
    "        return len(self.df)\n",
    "\n",
    "    def __getitem__(self, idx):\n",
    "        \n",
    "        X, y_prob = self.__data_generation(idx)\n",
    "\n",
    "        if self.downsample is not None:\n",
    "            X = X[::self.downsample,:]\n",
    "\n",
    "        return torch.tensor(X, dtype=torch.float32), torch.tensor(y_prob, dtype=torch.float32)\n",
    "    \n",
    "    def __data_generation(self, index):\n",
    "        row = self.df.iloc[index]\n",
    "        X = np.zeros((10_000, 8), dtype='float32')\n",
    "        y = np.zeros(6, dtype='float32')\n",
    "        data = self.eegs[row.eeg_id]\n",
    "\n",
    "        # === Feature engineering ===\n",
    "        X[:,0] = data[:,EEF_FEAT_INDEX['Fp1']] - data[:,EEF_FEAT_INDEX['T3']]\n",
    "        X[:,1] = data[:,EEF_FEAT_INDEX['T3']] - data[:,EEF_FEAT_INDEX['O1']]\n",
    "\n",
    "        X[:,2] = data[:,EEF_FEAT_INDEX['Fp1']] - data[:,EEF_FEAT_INDEX['C3']]\n",
    "        X[:,3] = data[:,EEF_FEAT_INDEX['C3']] - data[:,EEF_FEAT_INDEX['O1']]\n",
    "\n",
    "        X[:,4] = data[:,EEF_FEAT_INDEX['Fp2']] - data[:,EEF_FEAT_INDEX['C4']]\n",
    "        X[:,5] = data[:,EEF_FEAT_INDEX['C4']] - data[:,EEF_FEAT_INDEX['O2']]\n",
    "\n",
    "        X[:,6] = data[:,EEF_FEAT_INDEX['Fp2']] - data[:,EEF_FEAT_INDEX['T4']]\n",
    "        X[:,7] = data[:,EEF_FEAT_INDEX['T4']] - data[:,EEF_FEAT_INDEX['O2']]\n",
    "\n",
    "        # === Standarize ===\n",
    "        X = np.clip(X,-1024, 1024)\n",
    "        X = np.nan_to_num(X, nan=0) / 32.0\n",
    "\n",
    "        # === Butter Low-pass Filter ===\n",
    "        X = butter_lowpass_filter(X)\n",
    "\n",
    "        if self.mode != 'test':\n",
    "            y_prob = row[TARGETS].values.astype(np.float32)\n",
    "\n",
    "        return X, y_prob\n",
    "\n",
    "def pad_collate(batch, max_length=512):\n",
    "    x = [item[0] for item in batch]\n",
    "    y = [item[1] for item in batch]\n",
    "\n",
    "    x_tensor = torch.stack(x, dim=0).unsqueeze(0)\n",
    "    y_tensor = torch.stack(y, dim=0)\n",
    "\n",
    "    pad_len = (max_length - x_tensor.size(2)) // 2\n",
    "    x_pad = F.pad(x_tensor, (0, 0, pad_len, pad_len), mode='constant', value=0).squeeze(0)\n",
    "\n",
    "    return x_pad, y_tensor\n",
    "\n",
    "class CustomPatchTSMixer(nn.Module):\n",
    "    def __init__(self, in_channels=8, num_classes=6):\n",
    "        super().__init__()\n",
    "\n",
    "        mixer_config = PatchTSMixerConfig().from_pretrained(\"ibm/patchtsmixer-etth1-pretrain\")\n",
    "        mixer_config.num_input_channels = in_channels\n",
    "        mixer_config.num_targets = num_classes\n",
    "\n",
    "        self.model = PatchTSMixerForTimeSeriesClassification(mixer_config)\n",
    "    \n",
    "    def forward(self, x):\n",
    "        output = self.model(x)\n",
    "        return output.prediction_outputs\n"
   ]
  },
  {
   "cell_type": "code",
   "execution_count": 7,
   "metadata": {},
   "outputs": [],
   "source": [
    "def prepare_k_fold(df, k_folds=5):\n",
    "\n",
    "    kf = KFold(n_splits=k_folds, shuffle=True, random_state=ModelConfig.SEED)\n",
    "    unique_spec_id = df['spectrogram_id'].unique()\n",
    "    df['fold'] = k_folds\n",
    "\n",
    "    for fold, (train_index, valid_index) in enumerate(kf.split(unique_spec_id)):\n",
    "        df.loc[df['spectrogram_id'].isin(unique_spec_id[valid_index]), 'fold'] = fold\n",
    "\n",
    "    return df\n",
    "\n",
    "\n",
    "def train_fold(model, fold_id, train_folds, valid_folds, logger, stage=1, checkpoint=None):\n",
    "\n",
    "    train_dataset = TXMixerDataset(train_folds, ModelConfig, ALL_EEG_SIGNALS, mode=\"train\", downsample=20)\n",
    "    valid_dataset = TXMixerDataset(valid_folds, ModelConfig, ALL_EEG_SIGNALS, mode=\"valid\", downsample=20)\n",
    "\n",
    "    # ======== DATALOADERS ==========\n",
    "    loader_kwargs = {\n",
    "        \"batch_size\": ModelConfig.BATCH_SIZE,\n",
    "        \"num_workers\": ModelConfig.NUM_WORKERS,\n",
    "        \"pin_memory\": True,\n",
    "        \"shuffle\": False,\n",
    "    }\n",
    "\n",
    "    train_loader = DataLoader(train_dataset, drop_last=True, collate_fn=pad_collate, **loader_kwargs)\n",
    "    valid_loader = DataLoader(valid_dataset, drop_last=False, collate_fn=pad_collate, **loader_kwargs)\n",
    "\n",
    "    trainer = Trainer(model, ModelConfig, logger)\n",
    "    best_weights, best_preds, loss_records = trainer.train(\n",
    "        train_loader, valid_loader, from_checkpoint=checkpoint)\n",
    "\n",
    "    save_model_name = f\"{ModelConfig.MODEL_NAME}_fold_{fold_id}_stage_{stage}.pth\"\n",
    "    torch.save(best_weights, os.path.join(PATHS.OUTPUT_DIR, save_model_name))\n",
    "\n",
    "    del train_dataset, valid_dataset, train_loader, valid_loader\n",
    "    torch.cuda.empty_cache()\n",
    "    gc.collect()\n",
    "\n",
    "    return best_preds, loss_records"
   ]
  },
  {
   "cell_type": "code",
   "execution_count": 8,
   "metadata": {},
   "outputs": [
    {
     "name": "stdout",
     "output_type": "stream",
     "text": [
      "targets:  ['seizure_vote', 'lpd_vote', 'gpd_vote', 'lrda_vote', 'grda_vote', 'other_vote']\n",
      "train_all.shape =  (20183, 12)\n",
      "train_all nan_count:  0\n"
     ]
    },
    {
     "data": {
      "text/html": [
       "<div>\n",
       "<style scoped>\n",
       "    .dataframe tbody tr th:only-of-type {\n",
       "        vertical-align: middle;\n",
       "    }\n",
       "\n",
       "    .dataframe tbody tr th {\n",
       "        vertical-align: top;\n",
       "    }\n",
       "\n",
       "    .dataframe thead th {\n",
       "        text-align: right;\n",
       "    }\n",
       "</style>\n",
       "<table border=\"1\" class=\"dataframe\">\n",
       "  <thead>\n",
       "    <tr style=\"text-align: right;\">\n",
       "      <th></th>\n",
       "      <th>eeg_id</th>\n",
       "      <th>seizure_vote</th>\n",
       "      <th>lpd_vote</th>\n",
       "      <th>gpd_vote</th>\n",
       "      <th>lrda_vote</th>\n",
       "      <th>grda_vote</th>\n",
       "      <th>other_vote</th>\n",
       "      <th>spectrogram_id</th>\n",
       "      <th>min</th>\n",
       "      <th>max</th>\n",
       "      <th>patient_id</th>\n",
       "      <th>target</th>\n",
       "    </tr>\n",
       "  </thead>\n",
       "  <tbody>\n",
       "    <tr>\n",
       "      <th>0</th>\n",
       "      <td>568657</td>\n",
       "      <td>0.0</td>\n",
       "      <td>0.000000</td>\n",
       "      <td>0.25</td>\n",
       "      <td>0.000000</td>\n",
       "      <td>0.166667</td>\n",
       "      <td>0.583333</td>\n",
       "      <td>789577333</td>\n",
       "      <td>0.0</td>\n",
       "      <td>16.0</td>\n",
       "      <td>20654</td>\n",
       "      <td>Other</td>\n",
       "    </tr>\n",
       "    <tr>\n",
       "      <th>1</th>\n",
       "      <td>582999</td>\n",
       "      <td>0.0</td>\n",
       "      <td>0.857143</td>\n",
       "      <td>0.00</td>\n",
       "      <td>0.071429</td>\n",
       "      <td>0.000000</td>\n",
       "      <td>0.071429</td>\n",
       "      <td>1552638400</td>\n",
       "      <td>0.0</td>\n",
       "      <td>38.0</td>\n",
       "      <td>20230</td>\n",
       "      <td>LPD</td>\n",
       "    </tr>\n",
       "    <tr>\n",
       "      <th>2</th>\n",
       "      <td>642382</td>\n",
       "      <td>0.0</td>\n",
       "      <td>0.000000</td>\n",
       "      <td>0.00</td>\n",
       "      <td>0.000000</td>\n",
       "      <td>0.000000</td>\n",
       "      <td>1.000000</td>\n",
       "      <td>14960202</td>\n",
       "      <td>1008.0</td>\n",
       "      <td>1032.0</td>\n",
       "      <td>5955</td>\n",
       "      <td>Other</td>\n",
       "    </tr>\n",
       "    <tr>\n",
       "      <th>3</th>\n",
       "      <td>751790</td>\n",
       "      <td>0.0</td>\n",
       "      <td>0.000000</td>\n",
       "      <td>1.00</td>\n",
       "      <td>0.000000</td>\n",
       "      <td>0.000000</td>\n",
       "      <td>0.000000</td>\n",
       "      <td>618728447</td>\n",
       "      <td>908.0</td>\n",
       "      <td>908.0</td>\n",
       "      <td>38549</td>\n",
       "      <td>GPD</td>\n",
       "    </tr>\n",
       "    <tr>\n",
       "      <th>4</th>\n",
       "      <td>778705</td>\n",
       "      <td>0.0</td>\n",
       "      <td>0.000000</td>\n",
       "      <td>0.00</td>\n",
       "      <td>0.000000</td>\n",
       "      <td>0.000000</td>\n",
       "      <td>1.000000</td>\n",
       "      <td>52296320</td>\n",
       "      <td>0.0</td>\n",
       "      <td>0.0</td>\n",
       "      <td>40955</td>\n",
       "      <td>Other</td>\n",
       "    </tr>\n",
       "  </tbody>\n",
       "</table>\n",
       "</div>"
      ],
      "text/plain": [
       "   eeg_id  seizure_vote  lpd_vote  gpd_vote  lrda_vote  grda_vote  other_vote  \\\n",
       "0  568657           0.0  0.000000      0.25   0.000000   0.166667    0.583333   \n",
       "1  582999           0.0  0.857143      0.00   0.071429   0.000000    0.071429   \n",
       "2  642382           0.0  0.000000      0.00   0.000000   0.000000    1.000000   \n",
       "3  751790           0.0  0.000000      1.00   0.000000   0.000000    0.000000   \n",
       "4  778705           0.0  0.000000      0.00   0.000000   0.000000    1.000000   \n",
       "\n",
       "   spectrogram_id     min     max  patient_id target  \n",
       "0       789577333     0.0    16.0       20654  Other  \n",
       "1      1552638400     0.0    38.0       20230    LPD  \n",
       "2        14960202  1008.0  1032.0        5955  Other  \n",
       "3       618728447   908.0   908.0       38549    GPD  \n",
       "4        52296320     0.0     0.0       40955  Other  "
      ]
     },
     "metadata": {},
     "output_type": "display_data"
    },
    {
     "name": "stdout",
     "output_type": "stream",
     "text": [
      " \n",
      "train_hard.shape =  (6187, 12)\n",
      "train_hard nan_count:  0\n"
     ]
    },
    {
     "data": {
      "text/html": [
       "<div>\n",
       "<style scoped>\n",
       "    .dataframe tbody tr th:only-of-type {\n",
       "        vertical-align: middle;\n",
       "    }\n",
       "\n",
       "    .dataframe tbody tr th {\n",
       "        vertical-align: top;\n",
       "    }\n",
       "\n",
       "    .dataframe thead th {\n",
       "        text-align: right;\n",
       "    }\n",
       "</style>\n",
       "<table border=\"1\" class=\"dataframe\">\n",
       "  <thead>\n",
       "    <tr style=\"text-align: right;\">\n",
       "      <th></th>\n",
       "      <th>eeg_id</th>\n",
       "      <th>seizure_vote</th>\n",
       "      <th>lpd_vote</th>\n",
       "      <th>gpd_vote</th>\n",
       "      <th>lrda_vote</th>\n",
       "      <th>grda_vote</th>\n",
       "      <th>other_vote</th>\n",
       "      <th>spectrogram_id</th>\n",
       "      <th>min</th>\n",
       "      <th>max</th>\n",
       "      <th>patient_id</th>\n",
       "      <th>target</th>\n",
       "    </tr>\n",
       "  </thead>\n",
       "  <tbody>\n",
       "    <tr>\n",
       "      <th>0</th>\n",
       "      <td>568657</td>\n",
       "      <td>0.000000</td>\n",
       "      <td>0.000000</td>\n",
       "      <td>0.250000</td>\n",
       "      <td>0.000000</td>\n",
       "      <td>0.166667</td>\n",
       "      <td>0.583333</td>\n",
       "      <td>789577333</td>\n",
       "      <td>0.0</td>\n",
       "      <td>16.0</td>\n",
       "      <td>20654</td>\n",
       "      <td>Other</td>\n",
       "    </tr>\n",
       "    <tr>\n",
       "      <th>1</th>\n",
       "      <td>582999</td>\n",
       "      <td>0.000000</td>\n",
       "      <td>0.857143</td>\n",
       "      <td>0.000000</td>\n",
       "      <td>0.071429</td>\n",
       "      <td>0.000000</td>\n",
       "      <td>0.071429</td>\n",
       "      <td>1552638400</td>\n",
       "      <td>0.0</td>\n",
       "      <td>38.0</td>\n",
       "      <td>20230</td>\n",
       "      <td>LPD</td>\n",
       "    </tr>\n",
       "    <tr>\n",
       "      <th>2</th>\n",
       "      <td>1895581</td>\n",
       "      <td>0.076923</td>\n",
       "      <td>0.000000</td>\n",
       "      <td>0.000000</td>\n",
       "      <td>0.000000</td>\n",
       "      <td>0.076923</td>\n",
       "      <td>0.846154</td>\n",
       "      <td>128369999</td>\n",
       "      <td>1138.0</td>\n",
       "      <td>1138.0</td>\n",
       "      <td>47999</td>\n",
       "      <td>Other</td>\n",
       "    </tr>\n",
       "    <tr>\n",
       "      <th>3</th>\n",
       "      <td>2482631</td>\n",
       "      <td>0.000000</td>\n",
       "      <td>0.000000</td>\n",
       "      <td>0.133333</td>\n",
       "      <td>0.066667</td>\n",
       "      <td>0.133333</td>\n",
       "      <td>0.666667</td>\n",
       "      <td>978166025</td>\n",
       "      <td>1902.0</td>\n",
       "      <td>1944.0</td>\n",
       "      <td>20606</td>\n",
       "      <td>Other</td>\n",
       "    </tr>\n",
       "    <tr>\n",
       "      <th>4</th>\n",
       "      <td>2521897</td>\n",
       "      <td>0.000000</td>\n",
       "      <td>0.000000</td>\n",
       "      <td>0.083333</td>\n",
       "      <td>0.083333</td>\n",
       "      <td>0.333333</td>\n",
       "      <td>0.500000</td>\n",
       "      <td>673742515</td>\n",
       "      <td>0.0</td>\n",
       "      <td>4.0</td>\n",
       "      <td>62117</td>\n",
       "      <td>Other</td>\n",
       "    </tr>\n",
       "  </tbody>\n",
       "</table>\n",
       "</div>"
      ],
      "text/plain": [
       "    eeg_id  seizure_vote  lpd_vote  gpd_vote  lrda_vote  grda_vote  \\\n",
       "0   568657      0.000000  0.000000  0.250000   0.000000   0.166667   \n",
       "1   582999      0.000000  0.857143  0.000000   0.071429   0.000000   \n",
       "2  1895581      0.076923  0.000000  0.000000   0.000000   0.076923   \n",
       "3  2482631      0.000000  0.000000  0.133333   0.066667   0.133333   \n",
       "4  2521897      0.000000  0.000000  0.083333   0.083333   0.333333   \n",
       "\n",
       "   other_vote  spectrogram_id     min     max  patient_id target  \n",
       "0    0.583333       789577333     0.0    16.0       20654  Other  \n",
       "1    0.071429      1552638400     0.0    38.0       20230    LPD  \n",
       "2    0.846154       128369999  1138.0  1138.0       47999  Other  \n",
       "3    0.666667       978166025  1902.0  1944.0       20606  Other  \n",
       "4    0.500000       673742515     0.0     4.0       62117  Other  "
      ]
     },
     "metadata": {},
     "output_type": "display_data"
    }
   ],
   "source": [
    "train_csv = pd.read_csv(PATHS.TRAIN_CSV)\n",
    "targets = train_csv.columns[-6:]\n",
    "\n",
    "print(\"targets: \", targets.to_list())\n",
    "\n",
    "train_csv['entropy'] = train_csv.apply(calc_entropy, axis=1, tgt_list=targets)\n",
    "train_csv['total_votes'] = train_csv[targets].sum(axis=1)\n",
    "\n",
    "hard_csv = train_csv[train_csv['entropy'] < ModelConfig.SPLIT_ENTROPY].copy().reset_index(drop=True)\n",
    "\n",
    "train_all = gen_non_overlap_samples(train_csv, targets)\n",
    "train_hard = gen_non_overlap_samples(hard_csv, targets)\n",
    "\n",
    "print(\"train_all.shape = \", train_all.shape)\n",
    "print(\"train_all nan_count: \", train_all.isnull().sum().sum())\n",
    "display(train_all.head())\n",
    "\n",
    "print(\" \")\n",
    "\n",
    "print(\"train_hard.shape = \", train_hard.shape)\n",
    "print(\"train_hard nan_count: \", train_hard.isnull().sum().sum())\n",
    "display(train_hard.head())"
   ]
  },
  {
   "cell_type": "code",
   "execution_count": 9,
   "metadata": {},
   "outputs": [],
   "source": [
    "# # visualize the dataset\n",
    "# train_dataset = TXMixerDataset(train_all, ModelConfig, ALL_EEG_SIGNALS, mode=\"train\", downsample=20)\n",
    "# train_loader = DataLoader(train_dataset, drop_last=True, collate_fn=pad_collate, batch_size=16, num_workers=4, pin_memory=True, shuffle=False)\n",
    "\n",
    "# for batch in train_loader:\n",
    "#     X, y = batch\n",
    "#     print(f\"X shape: {X.shape}\")\n",
    "#     print(f\"y shape: {y.shape}\")\n",
    "#     # for item in range(4):\n",
    "#     #     plt.figure(figsize=(20,4))\n",
    "#     #     offset = 0\n",
    "#     #     for col in range(X.shape[-1]):\n",
    "#     #         if col != 0:\n",
    "#     #             offset -= X[item,:,col].min()\n",
    "#     #         plt.plot(np.arange(X.shape[1]), X[item,:,col]+offset, label=f'feature {col+1}')\n",
    "#     #         offset += X[item,:,col].max()\n",
    "#     #     tt = f'{y[col][0]:0.1f}'\n",
    "#     #     for t in y[col][1:]:\n",
    "#     #         tt += f', {t:0.1f}'\n",
    "#     #     plt.title(f'Target = {tt}',size=14)\n",
    "#     #     plt.legend()\n",
    "#     #     plt.show()\n",
    "#     break"
   ]
  },
  {
   "cell_type": "code",
   "execution_count": 9,
   "metadata": {},
   "outputs": [],
   "source": [
    "ModelConfig.EPOCHS = 15\n",
    "ModelConfig.BATCH_SIZE = 32\n",
    "ModelConfig.GRADIENT_ACCUMULATION_STEPS = 1\n",
    "ModelConfig.MODEL_BACKBONE = 'patchtsmixer'\n",
    "ModelConfig.MODEL_NAME = \"PatchTSMixer\""
   ]
  },
  {
   "cell_type": "code",
   "execution_count": 10,
   "metadata": {},
   "outputs": [
    {
     "name": "stderr",
     "output_type": "stream",
     "text": [
      "****************************************************************************************************\n",
      "Script Start: Mon Mar 25 01:44:22 2024\n",
      "Model Configurations:\n",
      "SEED: 20\n",
      "SPLIT_ENTROPY: 5.5\n",
      "MODEL_NAME: PatchTSMixer\n",
      "MODEL_BACKBONE: patchtsmixer\n",
      "BATCH_SIZE: 32\n",
      "EPOCHS: 15\n",
      "GRADIENT_ACCUMULATION_STEPS: 1\n",
      "DROP_RATE: 0.15\n",
      "DROP_PATH_RATE: 0.25\n",
      "WEIGHT_DECAY: 0.01\n",
      "REGULARIZATION: None\n",
      "USE_KAGGLE_SPECTROGRAMS: True\n",
      "USE_EEG_SPECTROGRAMS: True\n",
      "AMP: True\n",
      "AUGMENT: False\n",
      "AUGMENTATIONS: ['h_flip', 'v_flip', 'xy_masking', 'cutmix']\n",
      "PRINT_FREQ: 50\n",
      "FREEZE: False\n",
      "NUM_FROZEN_LAYERS: 0\n",
      "NUM_WORKERS: 0\n",
      "MAX_GRAD_NORM: 10000000.0\n",
      "DUAL_ENCODER_BACKBONE: tf_efficientnet_b2\n",
      "MAE_PRETRAINED_WEIGHTS: facebook/vit-mae-base\n",
      "MAE_HIDDEN_DROPOUT_PROB: 0.05\n",
      "MAE_ATTENTION_DROPOUT_PROB: 0.05\n",
      "****************************************************************************************************\n",
      "====================================================================================================\n",
      "Fold: 0 || Valid size 3988 \n",
      "====================================================================================================\n",
      "- First Stage -\n"
     ]
    },
    {
     "data": {
      "application/vnd.jupyter.widget-view+json": {
       "model_id": "6f2b5054310a4309a566f54041876a3a",
       "version_major": 2,
       "version_minor": 0
      },
      "text/plain": [
       "Train [0]:   0%|          | 0/506 [00:00<?, ?batch/s]"
      ]
     },
     "metadata": {},
     "output_type": "display_data"
    },
    {
     "name": "stdout",
     "output_type": "stream",
     "text": [
      "Epoch 1 [0/506] | Train Loss: 1.4880 Grad: 190778.8750 LR: 4.0004e-06 | Elapse: 0.36s\n",
      "Epoch 1 [50/506] | Train Loss: 1.4160 Grad: 129359.8125 LR: 5.0683e-06 | Elapse: 2.87s\n",
      "Epoch 1 [100/506] | Train Loss: 1.3903 Grad: 278513.3438 LR: 8.1444e-06 | Elapse: 5.32s\n",
      "Epoch 1 [150/506] | Train Loss: 1.3843 Grad: 175436.3750 LR: 1.3097e-05 | Elapse: 7.76s\n",
      "Epoch 1 [200/506] | Train Loss: 1.3781 Grad: 192201.6719 LR: 1.9715e-05 | Elapse: 10.20s\n",
      "Epoch 1 [250/506] | Train Loss: 1.3654 Grad: 137501.9844 LR: 2.7713e-05 | Elapse: 12.69s\n",
      "Epoch 1 [300/506] | Train Loss: 1.3548 Grad: 110536.7734 LR: 3.6752e-05 | Elapse: 15.15s\n",
      "Epoch 1 [350/506] | Train Loss: 1.3472 Grad: 140179.0156 LR: 4.6442e-05 | Elapse: 17.66s\n",
      "Epoch 1 [400/506] | Train Loss: 1.3398 Grad: 126895.2500 LR: 5.6371e-05 | Elapse: 20.14s\n",
      "Epoch 1 [450/506] | Train Loss: 1.3313 Grad: 107270.7031 LR: 6.6112e-05 | Elapse: 22.62s\n",
      "Epoch 1 [500/506] | Train Loss: 1.3247 Grad: 102964.9531 LR: 7.5250e-05 | Elapse: 25.12s\n",
      "Epoch 1 [505/506] | Train Loss: 1.3241 Grad: 105824.2266 LR: 7.6115e-05 | Elapse: 25.37s\n"
     ]
    },
    {
     "data": {
      "application/vnd.jupyter.widget-view+json": {
       "model_id": "82a067f8f3ab48b88f1f6d1dbf951ca5",
       "version_major": 2,
       "version_minor": 0
      },
      "text/plain": [
       "Valid [0]:   0%|          | 0/125 [00:00<?, ?batch/s]"
      ]
     },
     "metadata": {},
     "output_type": "display_data"
    },
    {
     "name": "stdout",
     "output_type": "stream",
     "text": [
      "Epoch 1 [0/125] | Valid Loss: 1.2169 | Elapse: 0.05s\n",
      "Epoch 1 [50/125] | Valid Loss: 1.2824 | Elapse: 2.17s\n",
      "Epoch 1 [100/125] | Valid Loss: 1.2750 | Elapse: 4.30s\n"
     ]
    },
    {
     "name": "stderr",
     "output_type": "stream",
     "text": [
      "----------------------------------------------------------------------------------------------------\n",
      "Epoch 1 - Average Loss: (train) 1.3241; (valid) 1.2693 | Time: 30.67s\n",
      "Best model found in epoch 1 | valid loss: 1.2693\n"
     ]
    },
    {
     "name": "stdout",
     "output_type": "stream",
     "text": [
      "Epoch 1 [124/125] | Valid Loss: 1.2693 | Elapse: 5.30s\n"
     ]
    },
    {
     "data": {
      "application/vnd.jupyter.widget-view+json": {
       "model_id": "8922685c49e5463a8b742de8eabe90c5",
       "version_major": 2,
       "version_minor": 0
      },
      "text/plain": [
       "Train [1]:   0%|          | 0/506 [00:00<?, ?batch/s]"
      ]
     },
     "metadata": {},
     "output_type": "display_data"
    },
    {
     "name": "stdout",
     "output_type": "stream",
     "text": [
      "Epoch 2 [0/506] | Train Loss: 1.3835 Grad: 117209.8125 LR: 7.6287e-05 | Elapse: 0.05s\n",
      "Epoch 2 [50/506] | Train Loss: 1.2770 Grad: 49754.9297 LR: 8.4285e-05 | Elapse: 2.52s\n",
      "Epoch 2 [100/506] | Train Loss: 1.2620 Grad: 139432.8438 LR: 9.0903e-05 | Elapse: 4.98s\n",
      "Epoch 2 [150/506] | Train Loss: 1.2720 Grad: 57364.9219 LR: 9.5856e-05 | Elapse: 7.47s\n",
      "Epoch 2 [200/506] | Train Loss: 1.2735 Grad: 72708.0000 LR: 9.8932e-05 | Elapse: 9.95s\n",
      "Epoch 2 [250/506] | Train Loss: 1.2716 Grad: 55497.4727 LR: 1.0000e-04 | Elapse: 12.41s\n",
      "Epoch 2 [300/506] | Train Loss: 1.2676 Grad: 41522.7188 LR: 9.9987e-05 | Elapse: 14.89s\n",
      "Epoch 2 [350/506] | Train Loss: 1.2662 Grad: 55308.4375 LR: 9.9948e-05 | Elapse: 17.36s\n",
      "Epoch 2 [400/506] | Train Loss: 1.2614 Grad: 51483.2148 LR: 9.9883e-05 | Elapse: 19.86s\n",
      "Epoch 2 [450/506] | Train Loss: 1.2560 Grad: 43121.4570 LR: 9.9791e-05 | Elapse: 22.36s\n",
      "Epoch 2 [500/506] | Train Loss: 1.2527 Grad: 49652.2734 LR: 9.9673e-05 | Elapse: 24.87s\n",
      "Epoch 2 [505/506] | Train Loss: 1.2522 Grad: 48376.2539 LR: 9.9659e-05 | Elapse: 25.12s\n"
     ]
    },
    {
     "data": {
      "application/vnd.jupyter.widget-view+json": {
       "model_id": "83a07ef91dc64f869016eb0548926b67",
       "version_major": 2,
       "version_minor": 0
      },
      "text/plain": [
       "Valid [1]:   0%|          | 0/125 [00:00<?, ?batch/s]"
      ]
     },
     "metadata": {},
     "output_type": "display_data"
    },
    {
     "name": "stdout",
     "output_type": "stream",
     "text": [
      "Epoch 2 [0/125] | Valid Loss: 1.1469 | Elapse: 0.05s\n",
      "Epoch 2 [50/125] | Valid Loss: 1.2254 | Elapse: 2.18s\n",
      "Epoch 2 [100/125] | Valid Loss: 1.2240 | Elapse: 4.31s\n"
     ]
    },
    {
     "name": "stderr",
     "output_type": "stream",
     "text": [
      "----------------------------------------------------------------------------------------------------\n",
      "Epoch 2 - Average Loss: (train) 1.2522; (valid) 1.2184 | Time: 30.43s\n",
      "Best model found in epoch 2 | valid loss: 1.2184\n"
     ]
    },
    {
     "name": "stdout",
     "output_type": "stream",
     "text": [
      "Epoch 2 [124/125] | Valid Loss: 1.2184 | Elapse: 5.31s\n"
     ]
    },
    {
     "data": {
      "application/vnd.jupyter.widget-view+json": {
       "model_id": "c01ba7046b2e4fa0a10505c40a9757e0",
       "version_major": 2,
       "version_minor": 0
      },
      "text/plain": [
       "Train [2]:   0%|          | 0/506 [00:00<?, ?batch/s]"
      ]
     },
     "metadata": {},
     "output_type": "display_data"
    },
    {
     "name": "stdout",
     "output_type": "stream",
     "text": [
      "Epoch 3 [0/506] | Train Loss: 1.3168 Grad: 106155.5156 LR: 9.9657e-05 | Elapse: 0.05s\n",
      "Epoch 3 [50/506] | Train Loss: 1.2307 Grad: 86217.9922 LR: 9.9509e-05 | Elapse: 2.51s\n",
      "Epoch 3 [100/506] | Train Loss: 1.2106 Grad: 263161.0000 LR: 9.9335e-05 | Elapse: 4.98s\n",
      "Epoch 3 [150/506] | Train Loss: 1.2203 Grad: 98713.9141 LR: 9.9136e-05 | Elapse: 7.49s\n",
      "Epoch 3 [200/506] | Train Loss: 1.2222 Grad: 132473.0781 LR: 9.8910e-05 | Elapse: 9.97s\n",
      "Epoch 3 [250/506] | Train Loss: 1.2208 Grad: 108710.2344 LR: 9.8658e-05 | Elapse: 12.46s\n",
      "Epoch 3 [300/506] | Train Loss: 1.2171 Grad: 87815.4141 LR: 9.8381e-05 | Elapse: 14.93s\n",
      "Epoch 3 [350/506] | Train Loss: 1.2149 Grad: 110115.3125 LR: 9.8078e-05 | Elapse: 17.41s\n",
      "Epoch 3 [400/506] | Train Loss: 1.2119 Grad: 99427.1797 LR: 9.7749e-05 | Elapse: 19.88s\n",
      "Epoch 3 [450/506] | Train Loss: 1.2072 Grad: 99881.3750 LR: 9.7396e-05 | Elapse: 22.38s\n",
      "Epoch 3 [500/506] | Train Loss: 1.2040 Grad: 91163.2969 LR: 9.7017e-05 | Elapse: 24.87s\n",
      "Epoch 3 [505/506] | Train Loss: 1.2033 Grad: 100518.4609 LR: 9.6978e-05 | Elapse: 25.12s\n"
     ]
    },
    {
     "data": {
      "application/vnd.jupyter.widget-view+json": {
       "model_id": "1f3fe800ae714189b3482cd1eac63c6f",
       "version_major": 2,
       "version_minor": 0
      },
      "text/plain": [
       "Valid [2]:   0%|          | 0/125 [00:00<?, ?batch/s]"
      ]
     },
     "metadata": {},
     "output_type": "display_data"
    },
    {
     "name": "stdout",
     "output_type": "stream",
     "text": [
      "Epoch 3 [0/125] | Valid Loss: 1.0755 | Elapse: 0.05s\n",
      "Epoch 3 [50/125] | Valid Loss: 1.1727 | Elapse: 2.19s\n",
      "Epoch 3 [100/125] | Valid Loss: 1.1773 | Elapse: 4.32s\n"
     ]
    },
    {
     "name": "stderr",
     "output_type": "stream",
     "text": [
      "----------------------------------------------------------------------------------------------------\n",
      "Epoch 3 - Average Loss: (train) 1.2033; (valid) 1.1714 | Time: 30.44s\n",
      "Best model found in epoch 3 | valid loss: 1.1714\n"
     ]
    },
    {
     "name": "stdout",
     "output_type": "stream",
     "text": [
      "Epoch 3 [124/125] | Valid Loss: 1.1714 | Elapse: 5.32s\n"
     ]
    },
    {
     "data": {
      "application/vnd.jupyter.widget-view+json": {
       "model_id": "d5961b08d8c8451eb7c25a96aaf92b39",
       "version_major": 2,
       "version_minor": 0
      },
      "text/plain": [
       "Train [3]:   0%|          | 0/506 [00:00<?, ?batch/s]"
      ]
     },
     "metadata": {},
     "output_type": "display_data"
    },
    {
     "name": "stdout",
     "output_type": "stream",
     "text": [
      "Epoch 4 [0/506] | Train Loss: 1.2412 Grad: 113001.6328 LR: 9.6970e-05 | Elapse: 0.05s\n",
      "Epoch 4 [50/506] | Train Loss: 1.1863 Grad: 91643.9141 LR: 9.6564e-05 | Elapse: 2.56s\n",
      "Epoch 4 [100/506] | Train Loss: 1.1723 Grad: 278655.5000 LR: 9.6133e-05 | Elapse: 5.04s\n",
      "Epoch 4 [150/506] | Train Loss: 1.1846 Grad: 109110.0703 LR: 9.5677e-05 | Elapse: 7.54s\n",
      "Epoch 4 [200/506] | Train Loss: 1.1841 Grad: 138244.1250 LR: 9.5198e-05 | Elapse: 10.01s\n",
      "Epoch 4 [250/506] | Train Loss: 1.1793 Grad: 110430.2266 LR: 9.4694e-05 | Elapse: 12.48s\n",
      "Epoch 4 [300/506] | Train Loss: 1.1765 Grad: 93045.2188 LR: 9.4167e-05 | Elapse: 14.99s\n",
      "Epoch 4 [350/506] | Train Loss: 1.1750 Grad: 103860.5312 LR: 9.3617e-05 | Elapse: 17.50s\n",
      "Epoch 4 [400/506] | Train Loss: 1.1726 Grad: 97734.0781 LR: 9.3043e-05 | Elapse: 19.99s\n",
      "Epoch 4 [450/506] | Train Loss: 1.1682 Grad: 90680.6719 LR: 9.2447e-05 | Elapse: 22.48s\n",
      "Epoch 4 [500/506] | Train Loss: 1.1664 Grad: 88763.0391 LR: 9.1828e-05 | Elapse: 24.95s\n",
      "Epoch 4 [505/506] | Train Loss: 1.1656 Grad: 110611.8516 LR: 9.1765e-05 | Elapse: 25.20s\n"
     ]
    },
    {
     "data": {
      "application/vnd.jupyter.widget-view+json": {
       "model_id": "8430fa10bd9c403cb1ecffe35aa1453b",
       "version_major": 2,
       "version_minor": 0
      },
      "text/plain": [
       "Valid [3]:   0%|          | 0/125 [00:00<?, ?batch/s]"
      ]
     },
     "metadata": {},
     "output_type": "display_data"
    },
    {
     "name": "stdout",
     "output_type": "stream",
     "text": [
      "Epoch 4 [0/125] | Valid Loss: 1.0213 | Elapse: 0.05s\n",
      "Epoch 4 [50/125] | Valid Loss: 1.1362 | Elapse: 2.18s\n",
      "Epoch 4 [100/125] | Valid Loss: 1.1447 | Elapse: 4.30s\n"
     ]
    },
    {
     "name": "stderr",
     "output_type": "stream",
     "text": [
      "----------------------------------------------------------------------------------------------------\n",
      "Epoch 4 - Average Loss: (train) 1.1656; (valid) 1.1390 | Time: 30.50s\n",
      "Best model found in epoch 4 | valid loss: 1.1390\n"
     ]
    },
    {
     "name": "stdout",
     "output_type": "stream",
     "text": [
      "Epoch 4 [124/125] | Valid Loss: 1.1390 | Elapse: 5.30s\n"
     ]
    },
    {
     "data": {
      "application/vnd.jupyter.widget-view+json": {
       "model_id": "bc2bc18499694a26b97ff1bf6258309b",
       "version_major": 2,
       "version_minor": 0
      },
      "text/plain": [
       "Train [4]:   0%|          | 0/506 [00:00<?, ?batch/s]"
      ]
     },
     "metadata": {},
     "output_type": "display_data"
    },
    {
     "name": "stdout",
     "output_type": "stream",
     "text": [
      "Epoch 5 [0/506] | Train Loss: 1.1904 Grad: 105793.7734 LR: 9.1752e-05 | Elapse: 0.05s\n",
      "Epoch 5 [50/506] | Train Loss: 1.1504 Grad: 98890.1484 LR: 9.1109e-05 | Elapse: 2.51s\n",
      "Epoch 5 [100/506] | Train Loss: 1.1364 Grad: 276307.0000 LR: 9.0444e-05 | Elapse: 4.95s\n",
      "Epoch 5 [150/506] | Train Loss: 1.1506 Grad: 108126.3359 LR: 8.9757e-05 | Elapse: 7.42s\n",
      "Epoch 5 [200/506] | Train Loss: 1.1519 Grad: 137206.8594 LR: 8.9050e-05 | Elapse: 9.92s\n",
      "Epoch 5 [250/506] | Train Loss: 1.1494 Grad: 112649.9688 LR: 8.8322e-05 | Elapse: 12.40s\n",
      "Epoch 5 [300/506] | Train Loss: 1.1477 Grad: 91586.2109 LR: 8.7573e-05 | Elapse: 14.87s\n",
      "Epoch 5 [350/506] | Train Loss: 1.1468 Grad: 108630.4297 LR: 8.6805e-05 | Elapse: 17.35s\n",
      "Epoch 5 [400/506] | Train Loss: 1.1452 Grad: 100781.0625 LR: 8.6017e-05 | Elapse: 19.86s\n",
      "Epoch 5 [450/506] | Train Loss: 1.1411 Grad: 96666.4609 LR: 8.5211e-05 | Elapse: 22.36s\n",
      "Epoch 5 [500/506] | Train Loss: 1.1406 Grad: 100286.3359 LR: 8.4385e-05 | Elapse: 24.80s\n",
      "Epoch 5 [505/506] | Train Loss: 1.1399 Grad: 113001.3281 LR: 8.4302e-05 | Elapse: 25.04s\n"
     ]
    },
    {
     "data": {
      "application/vnd.jupyter.widget-view+json": {
       "model_id": "505842527a2e4f0d9f8a7a32fa20f408",
       "version_major": 2,
       "version_minor": 0
      },
      "text/plain": [
       "Valid [4]:   0%|          | 0/125 [00:00<?, ?batch/s]"
      ]
     },
     "metadata": {},
     "output_type": "display_data"
    },
    {
     "name": "stdout",
     "output_type": "stream",
     "text": [
      "Epoch 5 [0/125] | Valid Loss: 0.9971 | Elapse: 0.05s\n",
      "Epoch 5 [50/125] | Valid Loss: 1.1150 | Elapse: 2.17s\n",
      "Epoch 5 [100/125] | Valid Loss: 1.1254 | Elapse: 4.31s\n"
     ]
    },
    {
     "name": "stderr",
     "output_type": "stream",
     "text": [
      "----------------------------------------------------------------------------------------------------\n",
      "Epoch 5 - Average Loss: (train) 1.1399; (valid) 1.1202 | Time: 30.36s\n",
      "Best model found in epoch 5 | valid loss: 1.1202\n"
     ]
    },
    {
     "name": "stdout",
     "output_type": "stream",
     "text": [
      "Epoch 5 [124/125] | Valid Loss: 1.1202 | Elapse: 5.32s\n"
     ]
    },
    {
     "data": {
      "application/vnd.jupyter.widget-view+json": {
       "model_id": "33f04a7fbe6d4003ae7def332e966d52",
       "version_major": 2,
       "version_minor": 0
      },
      "text/plain": [
       "Train [5]:   0%|          | 0/506 [00:00<?, ?batch/s]"
      ]
     },
     "metadata": {},
     "output_type": "display_data"
    },
    {
     "name": "stdout",
     "output_type": "stream",
     "text": [
      "Epoch 6 [0/506] | Train Loss: 1.1399 Grad: 98482.9922 LR: 8.4285e-05 | Elapse: 0.06s\n",
      "Epoch 6 [50/506] | Train Loss: 1.1245 Grad: 94553.7109 LR: 8.3439e-05 | Elapse: 2.56s\n",
      "Epoch 6 [100/506] | Train Loss: 1.1145 Grad: 278514.1250 LR: 8.2576e-05 | Elapse: 5.04s\n",
      "Epoch 6 [150/506] | Train Loss: 1.1315 Grad: 104578.8906 LR: 8.1695e-05 | Elapse: 7.51s\n",
      "Epoch 6 [200/506] | Train Loss: 1.1348 Grad: 131375.5312 LR: 8.0798e-05 | Elapse: 10.01s\n",
      "Epoch 6 [250/506] | Train Loss: 1.1311 Grad: 109764.8906 LR: 7.9884e-05 | Elapse: 12.48s\n",
      "Epoch 6 [300/506] | Train Loss: 1.1309 Grad: 93172.5000 LR: 7.8955e-05 | Elapse: 14.97s\n",
      "Epoch 6 [350/506] | Train Loss: 1.1300 Grad: 107908.1953 LR: 7.8010e-05 | Elapse: 17.48s\n",
      "Epoch 6 [400/506] | Train Loss: 1.1285 Grad: 90174.3281 LR: 7.7051e-05 | Elapse: 19.97s\n",
      "Epoch 6 [450/506] | Train Loss: 1.1241 Grad: 90139.9766 LR: 7.6077e-05 | Elapse: 22.46s\n",
      "Epoch 6 [500/506] | Train Loss: 1.1236 Grad: 89802.7109 LR: 7.5090e-05 | Elapse: 24.97s\n",
      "Epoch 6 [505/506] | Train Loss: 1.1230 Grad: 116965.9453 LR: 7.4990e-05 | Elapse: 25.21s\n"
     ]
    },
    {
     "data": {
      "application/vnd.jupyter.widget-view+json": {
       "model_id": "0bb45b90401d40858f66851d2e7759d5",
       "version_major": 2,
       "version_minor": 0
      },
      "text/plain": [
       "Valid [5]:   0%|          | 0/125 [00:00<?, ?batch/s]"
      ]
     },
     "metadata": {},
     "output_type": "display_data"
    },
    {
     "name": "stdout",
     "output_type": "stream",
     "text": [
      "Epoch 6 [0/125] | Valid Loss: 0.9789 | Elapse: 0.05s\n",
      "Epoch 6 [50/125] | Valid Loss: 1.1026 | Elapse: 2.17s\n",
      "Epoch 6 [100/125] | Valid Loss: 1.1141 | Elapse: 4.29s\n"
     ]
    },
    {
     "name": "stderr",
     "output_type": "stream",
     "text": [
      "----------------------------------------------------------------------------------------------------\n",
      "Epoch 6 - Average Loss: (train) 1.1230; (valid) 1.1093 | Time: 30.50s\n",
      "Best model found in epoch 6 | valid loss: 1.1093\n"
     ]
    },
    {
     "name": "stdout",
     "output_type": "stream",
     "text": [
      "Epoch 6 [124/125] | Valid Loss: 1.1093 | Elapse: 5.29s\n"
     ]
    },
    {
     "data": {
      "application/vnd.jupyter.widget-view+json": {
       "model_id": "72b7cfd2746c4c45b5d4d1ae6fdba771",
       "version_major": 2,
       "version_minor": 0
      },
      "text/plain": [
       "Train [6]:   0%|          | 0/506 [00:00<?, ?batch/s]"
      ]
     },
     "metadata": {},
     "output_type": "display_data"
    },
    {
     "name": "stdout",
     "output_type": "stream",
     "text": [
      "Epoch 7 [0/506] | Train Loss: 1.0731 Grad: 104712.8516 LR: 7.4970e-05 | Elapse: 0.05s\n",
      "Epoch 7 [50/506] | Train Loss: 1.1081 Grad: 98395.3516 LR: 7.3968e-05 | Elapse: 2.55s\n",
      "Epoch 7 [100/506] | Train Loss: 1.0967 Grad: 272880.3750 LR: 7.2953e-05 | Elapse: 5.06s\n",
      "Epoch 7 [150/506] | Train Loss: 1.1127 Grad: 105172.1250 LR: 7.1926e-05 | Elapse: 7.53s\n",
      "Epoch 7 [200/506] | Train Loss: 1.1171 Grad: 130225.7031 LR: 7.0887e-05 | Elapse: 10.02s\n",
      "Epoch 7 [250/506] | Train Loss: 1.1139 Grad: 117463.8750 LR: 6.9837e-05 | Elapse: 12.52s\n",
      "Epoch 7 [300/506] | Train Loss: 1.1153 Grad: 91932.1328 LR: 6.8777e-05 | Elapse: 15.00s\n",
      "Epoch 7 [350/506] | Train Loss: 1.1141 Grad: 105893.3516 LR: 6.7707e-05 | Elapse: 17.49s\n",
      "Epoch 7 [400/506] | Train Loss: 1.1137 Grad: 96847.9688 LR: 6.6627e-05 | Elapse: 19.95s\n",
      "Epoch 7 [450/506] | Train Loss: 1.1103 Grad: 91939.3828 LR: 6.5539e-05 | Elapse: 22.43s\n",
      "Epoch 7 [500/506] | Train Loss: 1.1104 Grad: 95329.3438 LR: 6.4442e-05 | Elapse: 24.91s\n",
      "Epoch 7 [505/506] | Train Loss: 1.1099 Grad: 106209.3516 LR: 6.4332e-05 | Elapse: 25.18s\n"
     ]
    },
    {
     "data": {
      "application/vnd.jupyter.widget-view+json": {
       "model_id": "54ec83a151794f8dab43a46283ab6f62",
       "version_major": 2,
       "version_minor": 0
      },
      "text/plain": [
       "Valid [6]:   0%|          | 0/125 [00:00<?, ?batch/s]"
      ]
     },
     "metadata": {},
     "output_type": "display_data"
    },
    {
     "name": "stdout",
     "output_type": "stream",
     "text": [
      "Epoch 7 [0/125] | Valid Loss: 0.9670 | Elapse: 0.05s\n",
      "Epoch 7 [50/125] | Valid Loss: 1.0913 | Elapse: 2.17s\n",
      "Epoch 7 [100/125] | Valid Loss: 1.1034 | Elapse: 4.29s\n"
     ]
    },
    {
     "name": "stderr",
     "output_type": "stream",
     "text": [
      "----------------------------------------------------------------------------------------------------\n",
      "Epoch 7 - Average Loss: (train) 1.1099; (valid) 1.0990 | Time: 30.47s\n",
      "Best model found in epoch 7 | valid loss: 1.0990\n"
     ]
    },
    {
     "name": "stdout",
     "output_type": "stream",
     "text": [
      "Epoch 7 [124/125] | Valid Loss: 1.0990 | Elapse: 5.29s\n"
     ]
    },
    {
     "data": {
      "application/vnd.jupyter.widget-view+json": {
       "model_id": "182f4f1a162e46e88f805482344766ee",
       "version_major": 2,
       "version_minor": 0
      },
      "text/plain": [
       "Train [7]:   0%|          | 0/506 [00:00<?, ?batch/s]"
      ]
     },
     "metadata": {},
     "output_type": "display_data"
    },
    {
     "name": "stdout",
     "output_type": "stream",
     "text": [
      "Epoch 8 [0/506] | Train Loss: 1.1416 Grad: 112509.0234 LR: 6.4310e-05 | Elapse: 0.05s\n",
      "Epoch 8 [50/506] | Train Loss: 1.0978 Grad: 101164.1250 LR: 6.3205e-05 | Elapse: 2.53s\n",
      "Epoch 8 [100/506] | Train Loss: 1.0871 Grad: 273463.9688 LR: 6.2093e-05 | Elapse: 5.01s\n",
      "Epoch 8 [150/506] | Train Loss: 1.1037 Grad: 107042.3672 LR: 6.0975e-05 | Elapse: 7.50s\n",
      "Epoch 8 [200/506] | Train Loss: 1.1075 Grad: 136095.2969 LR: 5.9851e-05 | Elapse: 9.98s\n",
      "Epoch 8 [250/506] | Train Loss: 1.1043 Grad: 114429.8203 LR: 5.8722e-05 | Elapse: 12.47s\n",
      "Epoch 8 [300/506] | Train Loss: 1.1058 Grad: 101987.2969 LR: 5.7588e-05 | Elapse: 14.96s\n",
      "Epoch 8 [350/506] | Train Loss: 1.1047 Grad: 106712.4453 LR: 5.6450e-05 | Elapse: 17.43s\n",
      "Epoch 8 [400/506] | Train Loss: 1.1050 Grad: 96740.4688 LR: 5.5308e-05 | Elapse: 19.91s\n",
      "Epoch 8 [450/506] | Train Loss: 1.1020 Grad: 84710.6094 LR: 5.4164e-05 | Elapse: 22.38s\n",
      "Epoch 8 [500/506] | Train Loss: 1.1033 Grad: 90951.5391 LR: 5.3018e-05 | Elapse: 24.86s\n",
      "Epoch 8 [505/506] | Train Loss: 1.1031 Grad: 110377.8203 LR: 5.2903e-05 | Elapse: 25.11s\n"
     ]
    },
    {
     "data": {
      "application/vnd.jupyter.widget-view+json": {
       "model_id": "17ace4680ba44082bd6c7780033c4709",
       "version_major": 2,
       "version_minor": 0
      },
      "text/plain": [
       "Valid [7]:   0%|          | 0/125 [00:00<?, ?batch/s]"
      ]
     },
     "metadata": {},
     "output_type": "display_data"
    },
    {
     "name": "stdout",
     "output_type": "stream",
     "text": [
      "Epoch 8 [0/125] | Valid Loss: 0.9627 | Elapse: 0.05s\n",
      "Epoch 8 [50/125] | Valid Loss: 1.0834 | Elapse: 2.17s\n",
      "Epoch 8 [100/125] | Valid Loss: 1.0956 | Elapse: 4.28s\n"
     ]
    },
    {
     "name": "stderr",
     "output_type": "stream",
     "text": [
      "----------------------------------------------------------------------------------------------------\n",
      "Epoch 8 - Average Loss: (train) 1.1031; (valid) 1.0914 | Time: 30.40s\n",
      "Best model found in epoch 8 | valid loss: 1.0914\n"
     ]
    },
    {
     "name": "stdout",
     "output_type": "stream",
     "text": [
      "Epoch 8 [124/125] | Valid Loss: 1.0914 | Elapse: 5.28s\n"
     ]
    },
    {
     "data": {
      "application/vnd.jupyter.widget-view+json": {
       "model_id": "c48a7c27ace64e9fb4b2ca01d7f702f1",
       "version_major": 2,
       "version_minor": 0
      },
      "text/plain": [
       "Train [8]:   0%|          | 0/506 [00:00<?, ?batch/s]"
      ]
     },
     "metadata": {},
     "output_type": "display_data"
    },
    {
     "name": "stdout",
     "output_type": "stream",
     "text": [
      "Epoch 9 [0/506] | Train Loss: 1.1868 Grad: 109120.5469 LR: 5.2880e-05 | Elapse: 0.05s\n",
      "Epoch 9 [50/506] | Train Loss: 1.0914 Grad: 104675.2812 LR: 5.1732e-05 | Elapse: 2.53s\n",
      "Epoch 9 [100/506] | Train Loss: 1.0826 Grad: 269122.6250 LR: 5.0583e-05 | Elapse: 5.02s\n",
      "Epoch 9 [150/506] | Train Loss: 1.0996 Grad: 106239.3672 LR: 4.9434e-05 | Elapse: 7.51s\n",
      "Epoch 9 [200/506] | Train Loss: 1.1046 Grad: 126506.3828 LR: 4.8285e-05 | Elapse: 10.00s\n",
      "Epoch 9 [250/506] | Train Loss: 1.1022 Grad: 113312.6484 LR: 4.7137e-05 | Elapse: 12.50s\n",
      "Epoch 9 [300/506] | Train Loss: 1.1019 Grad: 99682.7656 LR: 4.5990e-05 | Elapse: 15.00s\n",
      "Epoch 9 [350/506] | Train Loss: 1.0996 Grad: 108161.8594 LR: 4.4846e-05 | Elapse: 17.48s\n",
      "Epoch 9 [400/506] | Train Loss: 1.0985 Grad: 96749.9219 LR: 4.3704e-05 | Elapse: 19.95s\n",
      "Epoch 9 [450/506] | Train Loss: 1.0953 Grad: 96754.1172 LR: 4.2566e-05 | Elapse: 22.45s\n",
      "Epoch 9 [500/506] | Train Loss: 1.0963 Grad: 81940.8906 LR: 4.1432e-05 | Elapse: 24.94s\n",
      "Epoch 9 [505/506] | Train Loss: 1.0960 Grad: 112681.7031 LR: 4.1318e-05 | Elapse: 25.19s\n"
     ]
    },
    {
     "data": {
      "application/vnd.jupyter.widget-view+json": {
       "model_id": "db1241b54341439ba20ee312c0198ddf",
       "version_major": 2,
       "version_minor": 0
      },
      "text/plain": [
       "Valid [8]:   0%|          | 0/125 [00:00<?, ?batch/s]"
      ]
     },
     "metadata": {},
     "output_type": "display_data"
    },
    {
     "name": "stdout",
     "output_type": "stream",
     "text": [
      "Epoch 9 [0/125] | Valid Loss: 0.9568 | Elapse: 0.06s\n",
      "Epoch 9 [50/125] | Valid Loss: 1.0787 | Elapse: 2.18s\n",
      "Epoch 9 [100/125] | Valid Loss: 1.0914 | Elapse: 4.29s\n"
     ]
    },
    {
     "name": "stderr",
     "output_type": "stream",
     "text": [
      "----------------------------------------------------------------------------------------------------\n",
      "Epoch 9 - Average Loss: (train) 1.0960; (valid) 1.0874 | Time: 30.49s\n",
      "Best model found in epoch 9 | valid loss: 1.0874\n"
     ]
    },
    {
     "name": "stdout",
     "output_type": "stream",
     "text": [
      "Epoch 9 [124/125] | Valid Loss: 1.0874 | Elapse: 5.30s\n"
     ]
    },
    {
     "data": {
      "application/vnd.jupyter.widget-view+json": {
       "model_id": "aec76b25a98d41c995ba8bb546e90ebb",
       "version_major": 2,
       "version_minor": 0
      },
      "text/plain": [
       "Train [9]:   0%|          | 0/506 [00:00<?, ?batch/s]"
      ]
     },
     "metadata": {},
     "output_type": "display_data"
    },
    {
     "name": "stdout",
     "output_type": "stream",
     "text": [
      "Epoch 10 [0/506] | Train Loss: 1.0981 Grad: 112546.0078 LR: 4.1296e-05 | Elapse: 0.05s\n",
      "Epoch 10 [50/506] | Train Loss: 1.0751 Grad: 104666.5781 LR: 4.0167e-05 | Elapse: 2.54s\n",
      "Epoch 10 [100/506] | Train Loss: 1.0697 Grad: 258125.0156 LR: 3.9043e-05 | Elapse: 4.96s\n",
      "Epoch 10 [150/506] | Train Loss: 1.0857 Grad: 102926.1797 LR: 3.7924e-05 | Elapse: 7.41s\n",
      "Epoch 10 [200/506] | Train Loss: 1.0908 Grad: 137986.3594 LR: 3.6812e-05 | Elapse: 9.85s\n",
      "Epoch 10 [250/506] | Train Loss: 1.0908 Grad: 104967.3594 LR: 3.5708e-05 | Elapse: 12.30s\n",
      "Epoch 10 [300/506] | Train Loss: 1.0921 Grad: 97394.4531 LR: 3.4610e-05 | Elapse: 14.77s\n",
      "Epoch 10 [350/506] | Train Loss: 1.0909 Grad: 111852.8125 LR: 3.3521e-05 | Elapse: 17.22s\n",
      "Epoch 10 [400/506] | Train Loss: 1.0917 Grad: 93830.7109 LR: 3.2441e-05 | Elapse: 19.71s\n",
      "Epoch 10 [450/506] | Train Loss: 1.0877 Grad: 95181.0000 LR: 3.1370e-05 | Elapse: 22.19s\n",
      "Epoch 10 [500/506] | Train Loss: 1.0885 Grad: 96660.8594 LR: 3.0308e-05 | Elapse: 24.70s\n",
      "Epoch 10 [505/506] | Train Loss: 1.0878 Grad: 111003.4766 LR: 3.0203e-05 | Elapse: 24.94s\n"
     ]
    },
    {
     "data": {
      "application/vnd.jupyter.widget-view+json": {
       "model_id": "8d8adf0be40f45f89f0ab013f7f5380e",
       "version_major": 2,
       "version_minor": 0
      },
      "text/plain": [
       "Valid [9]:   0%|          | 0/125 [00:00<?, ?batch/s]"
      ]
     },
     "metadata": {},
     "output_type": "display_data"
    },
    {
     "name": "stdout",
     "output_type": "stream",
     "text": [
      "Epoch 10 [0/125] | Valid Loss: 0.9531 | Elapse: 0.05s\n",
      "Epoch 10 [50/125] | Valid Loss: 1.0746 | Elapse: 2.16s\n",
      "Epoch 10 [100/125] | Valid Loss: 1.0874 | Elapse: 4.28s\n"
     ]
    },
    {
     "name": "stderr",
     "output_type": "stream",
     "text": [
      "----------------------------------------------------------------------------------------------------\n",
      "Epoch 10 - Average Loss: (train) 1.0878; (valid) 1.0837 | Time: 30.22s\n",
      "Best model found in epoch 10 | valid loss: 1.0837\n"
     ]
    },
    {
     "name": "stdout",
     "output_type": "stream",
     "text": [
      "Epoch 10 [124/125] | Valid Loss: 1.0837 | Elapse: 5.28s\n"
     ]
    },
    {
     "data": {
      "application/vnd.jupyter.widget-view+json": {
       "model_id": "fcd7b385b9dd474ebc4dafe5ceb3cc44",
       "version_major": 2,
       "version_minor": 0
      },
      "text/plain": [
       "Train [10]:   0%|          | 0/506 [00:00<?, ?batch/s]"
      ]
     },
     "metadata": {},
     "output_type": "display_data"
    },
    {
     "name": "stdout",
     "output_type": "stream",
     "text": [
      "Epoch 11 [0/506] | Train Loss: 1.0344 Grad: 107905.2891 LR: 3.0182e-05 | Elapse: 0.05s\n",
      "Epoch 11 [50/506] | Train Loss: 1.0704 Grad: 107584.2656 LR: 2.9132e-05 | Elapse: 2.52s\n",
      "Epoch 11 [100/506] | Train Loss: 1.0667 Grad: 280257.9688 LR: 2.8094e-05 | Elapse: 5.00s\n",
      "Epoch 11 [150/506] | Train Loss: 1.0863 Grad: 103111.8672 LR: 2.7067e-05 | Elapse: 7.48s\n",
      "Epoch 11 [200/506] | Train Loss: 1.0909 Grad: 122162.8203 LR: 2.6052e-05 | Elapse: 9.96s\n",
      "Epoch 11 [250/506] | Train Loss: 1.0883 Grad: 111105.7109 LR: 2.5050e-05 | Elapse: 12.44s\n",
      "Epoch 11 [300/506] | Train Loss: 1.0886 Grad: 94076.7656 LR: 2.4061e-05 | Elapse: 14.93s\n",
      "Epoch 11 [350/506] | Train Loss: 1.0878 Grad: 101340.1484 LR: 2.3086e-05 | Elapse: 17.42s\n",
      "Epoch 11 [400/506] | Train Loss: 1.0883 Grad: 97958.3125 LR: 2.2125e-05 | Elapse: 19.92s\n",
      "Epoch 11 [450/506] | Train Loss: 1.0848 Grad: 97675.5156 LR: 2.1179e-05 | Elapse: 22.42s\n",
      "Epoch 11 [500/506] | Train Loss: 1.0849 Grad: 91515.8203 LR: 2.0248e-05 | Elapse: 24.92s\n",
      "Epoch 11 [505/506] | Train Loss: 1.0843 Grad: 101162.6719 LR: 2.0156e-05 | Elapse: 25.17s\n"
     ]
    },
    {
     "data": {
      "application/vnd.jupyter.widget-view+json": {
       "model_id": "180aa1dfbf8d4ae08ee9044232c036c1",
       "version_major": 2,
       "version_minor": 0
      },
      "text/plain": [
       "Valid [10]:   0%|          | 0/125 [00:00<?, ?batch/s]"
      ]
     },
     "metadata": {},
     "output_type": "display_data"
    },
    {
     "name": "stdout",
     "output_type": "stream",
     "text": [
      "Epoch 11 [0/125] | Valid Loss: 0.9497 | Elapse: 0.05s\n",
      "Epoch 11 [50/125] | Valid Loss: 1.0730 | Elapse: 2.17s\n",
      "Epoch 11 [100/125] | Valid Loss: 1.0855 | Elapse: 4.30s\n"
     ]
    },
    {
     "name": "stderr",
     "output_type": "stream",
     "text": [
      "----------------------------------------------------------------------------------------------------\n",
      "Epoch 11 - Average Loss: (train) 1.0843; (valid) 1.0821 | Time: 30.47s\n",
      "Best model found in epoch 11 | valid loss: 1.0821\n"
     ]
    },
    {
     "name": "stdout",
     "output_type": "stream",
     "text": [
      "Epoch 11 [124/125] | Valid Loss: 1.0821 | Elapse: 5.30s\n"
     ]
    },
    {
     "data": {
      "application/vnd.jupyter.widget-view+json": {
       "model_id": "a87341ae3bfc4232b9ec13360b366ffa",
       "version_major": 2,
       "version_minor": 0
      },
      "text/plain": [
       "Train [11]:   0%|          | 0/506 [00:00<?, ?batch/s]"
      ]
     },
     "metadata": {},
     "output_type": "display_data"
    },
    {
     "name": "stdout",
     "output_type": "stream",
     "text": [
      "Epoch 12 [0/506] | Train Loss: 1.1108 Grad: 114189.6953 LR: 2.0137e-05 | Elapse: 0.05s\n",
      "Epoch 12 [50/506] | Train Loss: 1.0717 Grad: 114662.6797 LR: 1.9224e-05 | Elapse: 2.54s\n",
      "Epoch 12 [100/506] | Train Loss: 1.0614 Grad: 269482.5000 LR: 1.8327e-05 | Elapse: 5.01s\n",
      "Epoch 12 [150/506] | Train Loss: 1.0769 Grad: 106199.1797 LR: 1.7447e-05 | Elapse: 7.50s\n",
      "Epoch 12 [200/506] | Train Loss: 1.0850 Grad: 139828.0000 LR: 1.6584e-05 | Elapse: 10.02s\n",
      "Epoch 12 [250/506] | Train Loss: 1.0817 Grad: 113112.1484 LR: 1.5738e-05 | Elapse: 12.49s\n",
      "Epoch 12 [300/506] | Train Loss: 1.0847 Grad: 100062.1328 LR: 1.4911e-05 | Elapse: 14.95s\n",
      "Epoch 12 [350/506] | Train Loss: 1.0834 Grad: 105796.6328 LR: 1.4103e-05 | Elapse: 17.42s\n",
      "Epoch 12 [400/506] | Train Loss: 1.0860 Grad: 98991.7656 LR: 1.3313e-05 | Elapse: 19.92s\n",
      "Epoch 12 [450/506] | Train Loss: 1.0831 Grad: 94733.4531 LR: 1.2543e-05 | Elapse: 22.36s\n",
      "Epoch 12 [500/506] | Train Loss: 1.0841 Grad: 91099.1797 LR: 1.1792e-05 | Elapse: 24.85s\n",
      "Epoch 12 [505/506] | Train Loss: 1.0838 Grad: 114298.2266 LR: 1.1718e-05 | Elapse: 25.10s\n"
     ]
    },
    {
     "data": {
      "application/vnd.jupyter.widget-view+json": {
       "model_id": "8bbfba7e70fc49778c01396b53d76506",
       "version_major": 2,
       "version_minor": 0
      },
      "text/plain": [
       "Valid [11]:   0%|          | 0/125 [00:00<?, ?batch/s]"
      ]
     },
     "metadata": {},
     "output_type": "display_data"
    },
    {
     "name": "stdout",
     "output_type": "stream",
     "text": [
      "Epoch 12 [0/125] | Valid Loss: 0.9481 | Elapse: 0.05s\n",
      "Epoch 12 [50/125] | Valid Loss: 1.0721 | Elapse: 2.19s\n",
      "Epoch 12 [100/125] | Valid Loss: 1.0844 | Elapse: 4.32s\n"
     ]
    },
    {
     "name": "stderr",
     "output_type": "stream",
     "text": [
      "----------------------------------------------------------------------------------------------------\n",
      "Epoch 12 - Average Loss: (train) 1.0838; (valid) 1.0812 | Time: 30.43s\n",
      "Best model found in epoch 12 | valid loss: 1.0812\n"
     ]
    },
    {
     "name": "stdout",
     "output_type": "stream",
     "text": [
      "Epoch 12 [124/125] | Valid Loss: 1.0812 | Elapse: 5.33s\n"
     ]
    },
    {
     "data": {
      "application/vnd.jupyter.widget-view+json": {
       "model_id": "3f730c9819cc4661bee3d4a1572f4b54",
       "version_major": 2,
       "version_minor": 0
      },
      "text/plain": [
       "Train [12]:   0%|          | 0/506 [00:00<?, ?batch/s]"
      ]
     },
     "metadata": {},
     "output_type": "display_data"
    },
    {
     "name": "stdout",
     "output_type": "stream",
     "text": [
      "Epoch 13 [0/506] | Train Loss: 1.1189 Grad: 116606.1953 LR: 1.1704e-05 | Elapse: 0.05s\n",
      "Epoch 13 [50/506] | Train Loss: 1.0655 Grad: 110162.4297 LR: 1.0976e-05 | Elapse: 2.52s\n",
      "Epoch 13 [100/506] | Train Loss: 1.0556 Grad: 285432.9375 LR: 1.0269e-05 | Elapse: 5.01s\n",
      "Epoch 13 [150/506] | Train Loss: 1.0726 Grad: 115482.8594 LR: 9.5826e-06 | Elapse: 7.47s\n",
      "Epoch 13 [200/506] | Train Loss: 1.0821 Grad: 133667.6875 LR: 8.9179e-06 | Elapse: 9.96s\n",
      "Epoch 13 [250/506] | Train Loss: 1.0803 Grad: 124640.6953 LR: 8.2750e-06 | Elapse: 12.44s\n",
      "Epoch 13 [300/506] | Train Loss: 1.0825 Grad: 96287.4453 LR: 7.6541e-06 | Elapse: 14.93s\n",
      "Epoch 13 [350/506] | Train Loss: 1.0819 Grad: 101277.2422 LR: 7.0556e-06 | Elapse: 17.38s\n",
      "Epoch 13 [400/506] | Train Loss: 1.0833 Grad: 96250.9766 LR: 6.4798e-06 | Elapse: 19.86s\n",
      "Epoch 13 [450/506] | Train Loss: 1.0806 Grad: 93803.1172 LR: 5.9270e-06 | Elapse: 22.36s\n",
      "Epoch 13 [500/506] | Train Loss: 1.0813 Grad: 95741.2656 LR: 5.3976e-06 | Elapse: 24.84s\n",
      "Epoch 13 [505/506] | Train Loss: 1.0810 Grad: 111213.3359 LR: 5.3459e-06 | Elapse: 25.09s\n"
     ]
    },
    {
     "data": {
      "application/vnd.jupyter.widget-view+json": {
       "model_id": "427ed2380da5425bbc9f7a36521d2688",
       "version_major": 2,
       "version_minor": 0
      },
      "text/plain": [
       "Valid [12]:   0%|          | 0/125 [00:00<?, ?batch/s]"
      ]
     },
     "metadata": {},
     "output_type": "display_data"
    },
    {
     "name": "stdout",
     "output_type": "stream",
     "text": [
      "Epoch 13 [0/125] | Valid Loss: 0.9476 | Elapse: 0.05s\n",
      "Epoch 13 [50/125] | Valid Loss: 1.0709 | Elapse: 2.17s\n",
      "Epoch 13 [100/125] | Valid Loss: 1.0834 | Elapse: 4.30s\n"
     ]
    },
    {
     "name": "stderr",
     "output_type": "stream",
     "text": [
      "----------------------------------------------------------------------------------------------------\n",
      "Epoch 13 - Average Loss: (train) 1.0810; (valid) 1.0802 | Time: 30.40s\n",
      "Best model found in epoch 13 | valid loss: 1.0802\n"
     ]
    },
    {
     "name": "stdout",
     "output_type": "stream",
     "text": [
      "Epoch 13 [124/125] | Valid Loss: 1.0802 | Elapse: 5.31s\n"
     ]
    },
    {
     "data": {
      "application/vnd.jupyter.widget-view+json": {
       "model_id": "df0f7eff1ff6473fb4ba4a679bc8ccc0",
       "version_major": 2,
       "version_minor": 0
      },
      "text/plain": [
       "Train [13]:   0%|          | 0/506 [00:00<?, ?batch/s]"
      ]
     },
     "metadata": {},
     "output_type": "display_data"
    },
    {
     "name": "stdout",
     "output_type": "stream",
     "text": [
      "Epoch 14 [0/506] | Train Loss: 1.0962 Grad: 112885.6875 LR: 5.3356e-06 | Elapse: 0.05s\n",
      "Epoch 14 [50/506] | Train Loss: 1.0706 Grad: 110068.3125 LR: 4.8326e-06 | Elapse: 2.58s\n",
      "Epoch 14 [100/506] | Train Loss: 1.0631 Grad: 269757.4062 LR: 4.3535e-06 | Elapse: 5.07s\n",
      "Epoch 14 [150/506] | Train Loss: 1.0807 Grad: 111450.5234 LR: 3.8986e-06 | Elapse: 7.55s\n",
      "Epoch 14 [200/506] | Train Loss: 1.0855 Grad: 131361.6719 LR: 3.4680e-06 | Elapse: 10.00s\n",
      "Epoch 14 [250/506] | Train Loss: 1.0829 Grad: 115369.5703 LR: 3.0620e-06 | Elapse: 12.49s\n",
      "Epoch 14 [300/506] | Train Loss: 1.0826 Grad: 99865.9844 LR: 2.6809e-06 | Elapse: 14.98s\n",
      "Epoch 14 [350/506] | Train Loss: 1.0822 Grad: 104957.5625 LR: 2.3248e-06 | Elapse: 17.46s\n",
      "Epoch 14 [400/506] | Train Loss: 1.0817 Grad: 100370.2734 LR: 1.9939e-06 | Elapse: 19.97s\n",
      "Epoch 14 [450/506] | Train Loss: 1.0787 Grad: 91574.1328 LR: 1.6884e-06 | Elapse: 22.46s\n",
      "Epoch 14 [500/506] | Train Loss: 1.0795 Grad: 90444.2969 LR: 1.4085e-06 | Elapse: 24.95s\n",
      "Epoch 14 [505/506] | Train Loss: 1.0790 Grad: 110434.2188 LR: 1.3819e-06 | Elapse: 25.20s\n"
     ]
    },
    {
     "data": {
      "application/vnd.jupyter.widget-view+json": {
       "model_id": "38bb4a50c8d64e1aaf0eb171030803c6",
       "version_major": 2,
       "version_minor": 0
      },
      "text/plain": [
       "Valid [13]:   0%|          | 0/125 [00:00<?, ?batch/s]"
      ]
     },
     "metadata": {},
     "output_type": "display_data"
    },
    {
     "name": "stdout",
     "output_type": "stream",
     "text": [
      "Epoch 14 [0/125] | Valid Loss: 0.9476 | Elapse: 0.05s\n",
      "Epoch 14 [50/125] | Valid Loss: 1.0707 | Elapse: 2.17s\n",
      "Epoch 14 [100/125] | Valid Loss: 1.0832 | Elapse: 4.30s\n"
     ]
    },
    {
     "name": "stderr",
     "output_type": "stream",
     "text": [
      "----------------------------------------------------------------------------------------------------\n",
      "Epoch 14 - Average Loss: (train) 1.0790; (valid) 1.0800 | Time: 30.51s\n",
      "Best model found in epoch 14 | valid loss: 1.0800\n"
     ]
    },
    {
     "name": "stdout",
     "output_type": "stream",
     "text": [
      "Epoch 14 [124/125] | Valid Loss: 1.0800 | Elapse: 5.30s\n"
     ]
    },
    {
     "data": {
      "application/vnd.jupyter.widget-view+json": {
       "model_id": "34c79975ee714dbc8fd6c8db078315bb",
       "version_major": 2,
       "version_minor": 0
      },
      "text/plain": [
       "Train [14]:   0%|          | 0/506 [00:00<?, ?batch/s]"
      ]
     },
     "metadata": {},
     "output_type": "display_data"
    },
    {
     "name": "stdout",
     "output_type": "stream",
     "text": [
      "Epoch 15 [0/506] | Train Loss: 1.1193 Grad: 117731.4766 LR: 1.3766e-06 | Elapse: 0.05s\n",
      "Epoch 15 [50/506] | Train Loss: 1.0685 Grad: 97041.6562 LR: 1.1255e-06 | Elapse: 2.49s\n",
      "Epoch 15 [100/506] | Train Loss: 1.0600 Grad: 263783.1250 LR: 9.0022e-07 | Elapse: 4.99s\n",
      "Epoch 15 [150/506] | Train Loss: 1.0778 Grad: 110977.2344 LR: 7.0091e-07 | Elapse: 7.50s\n",
      "Epoch 15 [200/506] | Train Loss: 1.0846 Grad: 134374.2812 LR: 5.2768e-07 | Elapse: 9.94s\n",
      "Epoch 15 [250/506] | Train Loss: 1.0832 Grad: 114642.9688 LR: 3.8062e-07 | Elapse: 12.39s\n",
      "Epoch 15 [300/506] | Train Loss: 1.0857 Grad: 103641.6094 LR: 2.5981e-07 | Elapse: 14.83s\n",
      "Epoch 15 [350/506] | Train Loss: 1.0837 Grad: 102026.9062 LR: 1.6530e-07 | Elapse: 17.27s\n",
      "Epoch 15 [400/506] | Train Loss: 1.0839 Grad: 108504.2891 LR: 9.7159e-08 | Elapse: 19.72s\n",
      "Epoch 15 [450/506] | Train Loss: 1.0808 Grad: 94029.0234 LR: 5.5412e-08 | Elapse: 22.14s\n",
      "Epoch 15 [500/506] | Train Loss: 1.0815 Grad: 92557.7578 LR: 4.0085e-08 | Elapse: 24.59s\n",
      "Epoch 15 [505/506] | Train Loss: 1.0812 Grad: 107553.8047 LR: 4.0005e-08 | Elapse: 24.85s\n"
     ]
    },
    {
     "data": {
      "application/vnd.jupyter.widget-view+json": {
       "model_id": "526f67abd20746d8b7d8652f2207a85b",
       "version_major": 2,
       "version_minor": 0
      },
      "text/plain": [
       "Valid [14]:   0%|          | 0/125 [00:00<?, ?batch/s]"
      ]
     },
     "metadata": {},
     "output_type": "display_data"
    },
    {
     "name": "stdout",
     "output_type": "stream",
     "text": [
      "Epoch 15 [0/125] | Valid Loss: 0.9477 | Elapse: 0.05s\n",
      "Epoch 15 [50/125] | Valid Loss: 1.0707 | Elapse: 2.17s\n",
      "Epoch 15 [100/125] | Valid Loss: 1.0832 | Elapse: 4.29s\n"
     ]
    },
    {
     "name": "stderr",
     "output_type": "stream",
     "text": [
      "----------------------------------------------------------------------------------------------------\n",
      "Epoch 15 - Average Loss: (train) 1.0812; (valid) 1.0799 | Time: 30.14s\n",
      "Best model found in epoch 15 | valid loss: 1.0799\n",
      "====================================================================================================\n",
      "Fold 0 Valid Loss: 1.079906702041626\n",
      "Elapse: 7.63 min \n",
      "====================================================================================================\n",
      "- Second Stage -\n",
      "Use Checkpoint: PatchTSMixer_fold_0_stage_1.pth\n"
     ]
    },
    {
     "name": "stdout",
     "output_type": "stream",
     "text": [
      "Epoch 15 [124/125] | Valid Loss: 1.0799 | Elapse: 5.29s\n"
     ]
    },
    {
     "data": {
      "application/vnd.jupyter.widget-view+json": {
       "model_id": "c1b691ba126441c494aff9efec60b67f",
       "version_major": 2,
       "version_minor": 0
      },
      "text/plain": [
       "Train [0]:   0%|          | 0/193 [00:00<?, ?batch/s]"
      ]
     },
     "metadata": {},
     "output_type": "display_data"
    },
    {
     "name": "stdout",
     "output_type": "stream",
     "text": [
      "Epoch 1 [0/193] | Train Loss: 0.6391 Grad: 76600.3281 LR: 4.0028e-06 | Elapse: 0.05s\n",
      "Epoch 1 [50/193] | Train Loss: 0.7392 Grad: 94226.9141 LR: 1.1214e-05 | Elapse: 2.51s\n",
      "Epoch 1 [100/193] | Train Loss: 0.7361 Grad: 88451.0859 LR: 3.0220e-05 | Elapse: 4.96s\n",
      "Epoch 1 [150/193] | Train Loss: 0.7339 Grad: 64030.9414 LR: 5.5525e-05 | Elapse: 7.42s\n",
      "Epoch 1 [192/193] | Train Loss: 0.7252 Grad: 84486.8672 LR: 7.6301e-05 | Elapse: 9.49s\n"
     ]
    },
    {
     "data": {
      "application/vnd.jupyter.widget-view+json": {
       "model_id": "08a6c9efee994e4bae918597f2d87add",
       "version_major": 2,
       "version_minor": 0
      },
      "text/plain": [
       "Valid [0]:   0%|          | 0/125 [00:00<?, ?batch/s]"
      ]
     },
     "metadata": {},
     "output_type": "display_data"
    },
    {
     "name": "stdout",
     "output_type": "stream",
     "text": [
      "Epoch 1 [0/125] | Valid Loss: 1.0036 | Elapse: 0.05s\n",
      "Epoch 1 [50/125] | Valid Loss: 1.1186 | Elapse: 2.17s\n",
      "Epoch 1 [100/125] | Valid Loss: 1.1323 | Elapse: 4.30s\n"
     ]
    },
    {
     "name": "stderr",
     "output_type": "stream",
     "text": [
      "----------------------------------------------------------------------------------------------------\n",
      "Epoch 1 - Average Loss: (train) 0.7252; (valid) 1.1263 | Time: 14.80s\n",
      "Best model found in epoch 1 | valid loss: 1.1263\n"
     ]
    },
    {
     "name": "stdout",
     "output_type": "stream",
     "text": [
      "Epoch 1 [124/125] | Valid Loss: 1.1263 | Elapse: 5.30s\n"
     ]
    },
    {
     "data": {
      "application/vnd.jupyter.widget-view+json": {
       "model_id": "b09d3cabcb6e42c69837abbb9bb2ac5e",
       "version_major": 2,
       "version_minor": 0
      },
      "text/plain": [
       "Train [1]:   0%|          | 0/193 [00:00<?, ?batch/s]"
      ]
     },
     "metadata": {},
     "output_type": "display_data"
    },
    {
     "name": "stdout",
     "output_type": "stream",
     "text": [
      "Epoch 2 [0/193] | Train Loss: 0.6056 Grad: 61545.0625 LR: 7.6750e-05 | Elapse: 0.05s\n",
      "Epoch 2 [50/193] | Train Loss: 0.6959 Grad: 84228.6875 LR: 9.4474e-05 | Elapse: 2.55s\n",
      "Epoch 2 [100/193] | Train Loss: 0.6956 Grad: 78304.3828 LR: 9.9999e-05 | Elapse: 5.03s\n",
      "Epoch 2 [150/193] | Train Loss: 0.6979 Grad: 57129.2891 LR: 9.9888e-05 | Elapse: 7.50s\n",
      "Epoch 2 [192/193] | Train Loss: 0.6953 Grad: 76106.4375 LR: 9.9655e-05 | Elapse: 9.59s\n"
     ]
    },
    {
     "data": {
      "application/vnd.jupyter.widget-view+json": {
       "model_id": "0e0aa00c56e34626a37d1f71ec0ebb11",
       "version_major": 2,
       "version_minor": 0
      },
      "text/plain": [
       "Valid [1]:   0%|          | 0/125 [00:00<?, ?batch/s]"
      ]
     },
     "metadata": {},
     "output_type": "display_data"
    },
    {
     "name": "stdout",
     "output_type": "stream",
     "text": [
      "Epoch 2 [0/125] | Valid Loss: 1.0457 | Elapse: 0.05s\n",
      "Epoch 2 [50/125] | Valid Loss: 1.1475 | Elapse: 2.18s\n",
      "Epoch 2 [100/125] | Valid Loss: 1.1611 | Elapse: 4.30s\n"
     ]
    },
    {
     "name": "stderr",
     "output_type": "stream",
     "text": [
      "----------------------------------------------------------------------------------------------------\n",
      "Epoch 2 - Average Loss: (train) 0.6953; (valid) 1.1545 | Time: 14.90s\n"
     ]
    },
    {
     "name": "stdout",
     "output_type": "stream",
     "text": [
      "Epoch 2 [124/125] | Valid Loss: 1.1545 | Elapse: 5.30s\n"
     ]
    },
    {
     "data": {
      "application/vnd.jupyter.widget-view+json": {
       "model_id": "b0c964b589674301aed6555713adf5f3",
       "version_major": 2,
       "version_minor": 0
      },
      "text/plain": [
       "Train [2]:   0%|          | 0/193 [00:00<?, ?batch/s]"
      ]
     },
     "metadata": {},
     "output_type": "display_data"
    },
    {
     "name": "stdout",
     "output_type": "stream",
     "text": [
      "Epoch 3 [0/193] | Train Loss: 0.6014 Grad: 60767.3242 LR: 9.9648e-05 | Elapse: 0.05s\n",
      "Epoch 3 [50/193] | Train Loss: 0.6902 Grad: 79167.0625 LR: 9.9201e-05 | Elapse: 2.55s\n",
      "Epoch 3 [100/193] | Train Loss: 0.6909 Grad: 73170.2109 LR: 9.8575e-05 | Elapse: 5.06s\n",
      "Epoch 3 [150/193] | Train Loss: 0.6947 Grad: 61971.6758 LR: 9.7773e-05 | Elapse: 7.56s\n",
      "Epoch 3 [192/193] | Train Loss: 0.6912 Grad: 80152.2422 LR: 9.6965e-05 | Elapse: 9.65s\n"
     ]
    },
    {
     "data": {
      "application/vnd.jupyter.widget-view+json": {
       "model_id": "cc1b8b0353c74d0da564cc7608f06081",
       "version_major": 2,
       "version_minor": 0
      },
      "text/plain": [
       "Valid [2]:   0%|          | 0/125 [00:00<?, ?batch/s]"
      ]
     },
     "metadata": {},
     "output_type": "display_data"
    },
    {
     "name": "stdout",
     "output_type": "stream",
     "text": [
      "Epoch 3 [0/125] | Valid Loss: 1.0540 | Elapse: 0.05s\n",
      "Epoch 3 [50/125] | Valid Loss: 1.1502 | Elapse: 2.18s\n",
      "Epoch 3 [100/125] | Valid Loss: 1.1639 | Elapse: 4.30s\n"
     ]
    },
    {
     "name": "stderr",
     "output_type": "stream",
     "text": [
      "----------------------------------------------------------------------------------------------------\n",
      "Epoch 3 - Average Loss: (train) 0.6912; (valid) 1.1573 | Time: 14.96s\n"
     ]
    },
    {
     "name": "stdout",
     "output_type": "stream",
     "text": [
      "Epoch 3 [124/125] | Valid Loss: 1.1573 | Elapse: 5.31s\n"
     ]
    },
    {
     "data": {
      "application/vnd.jupyter.widget-view+json": {
       "model_id": "67d60060d97a441aaa37f7e066a2bb21",
       "version_major": 2,
       "version_minor": 0
      },
      "text/plain": [
       "Train [3]:   0%|          | 0/193 [00:00<?, ?batch/s]"
      ]
     },
     "metadata": {},
     "output_type": "display_data"
    },
    {
     "name": "stdout",
     "output_type": "stream",
     "text": [
      "Epoch 4 [0/193] | Train Loss: 0.6125 Grad: 56379.4062 LR: 9.6944e-05 | Elapse: 0.05s\n",
      "Epoch 4 [50/193] | Train Loss: 0.6842 Grad: 77058.9141 LR: 9.5822e-05 | Elapse: 2.55s\n",
      "Epoch 4 [100/193] | Train Loss: 0.6867 Grad: 75316.7500 LR: 9.4534e-05 | Elapse: 5.03s\n",
      "Epoch 4 [150/193] | Train Loss: 0.6900 Grad: 61565.6680 LR: 9.3084e-05 | Elapse: 7.51s\n",
      "Epoch 4 [192/193] | Train Loss: 0.6862 Grad: 72516.3438 LR: 9.1745e-05 | Elapse: 9.58s\n"
     ]
    },
    {
     "data": {
      "application/vnd.jupyter.widget-view+json": {
       "model_id": "16b7507759ad4aae995fe52afd74bde1",
       "version_major": 2,
       "version_minor": 0
      },
      "text/plain": [
       "Valid [3]:   0%|          | 0/125 [00:00<?, ?batch/s]"
      ]
     },
     "metadata": {},
     "output_type": "display_data"
    },
    {
     "name": "stdout",
     "output_type": "stream",
     "text": [
      "Epoch 4 [0/125] | Valid Loss: 1.0530 | Elapse: 0.05s\n",
      "Epoch 4 [50/125] | Valid Loss: 1.1473 | Elapse: 2.19s\n",
      "Epoch 4 [100/125] | Valid Loss: 1.1610 | Elapse: 4.32s\n"
     ]
    },
    {
     "name": "stderr",
     "output_type": "stream",
     "text": [
      "----------------------------------------------------------------------------------------------------\n",
      "Epoch 4 - Average Loss: (train) 0.6862; (valid) 1.1542 | Time: 14.90s\n"
     ]
    },
    {
     "name": "stdout",
     "output_type": "stream",
     "text": [
      "Epoch 4 [124/125] | Valid Loss: 1.1542 | Elapse: 5.33s\n"
     ]
    },
    {
     "data": {
      "application/vnd.jupyter.widget-view+json": {
       "model_id": "39b1c21efe0345e4976498780c2ef830",
       "version_major": 2,
       "version_minor": 0
      },
      "text/plain": [
       "Train [4]:   0%|          | 0/193 [00:00<?, ?batch/s]"
      ]
     },
     "metadata": {},
     "output_type": "display_data"
    },
    {
     "name": "stdout",
     "output_type": "stream",
     "text": [
      "Epoch 5 [0/193] | Train Loss: 0.6075 Grad: 59071.9102 LR: 9.1711e-05 | Elapse: 0.05s\n",
      "Epoch 5 [50/193] | Train Loss: 0.6783 Grad: 74509.2422 LR: 8.9975e-05 | Elapse: 2.56s\n",
      "Epoch 5 [100/193] | Train Loss: 0.6799 Grad: 78686.5156 LR: 8.8093e-05 | Elapse: 5.04s\n",
      "Epoch 5 [150/193] | Train Loss: 0.6857 Grad: 55852.1641 LR: 8.6073e-05 | Elapse: 7.49s\n",
      "Epoch 5 [192/193] | Train Loss: 0.6826 Grad: 73058.6953 LR: 8.4274e-05 | Elapse: 9.58s\n"
     ]
    },
    {
     "data": {
      "application/vnd.jupyter.widget-view+json": {
       "model_id": "8ecc64a335494c588f786b09b2d3db7d",
       "version_major": 2,
       "version_minor": 0
      },
      "text/plain": [
       "Valid [4]:   0%|          | 0/125 [00:00<?, ?batch/s]"
      ]
     },
     "metadata": {},
     "output_type": "display_data"
    },
    {
     "name": "stdout",
     "output_type": "stream",
     "text": [
      "Epoch 5 [0/125] | Valid Loss: 1.0491 | Elapse: 0.05s\n",
      "Epoch 5 [50/125] | Valid Loss: 1.1483 | Elapse: 2.17s\n",
      "Epoch 5 [100/125] | Valid Loss: 1.1623 | Elapse: 4.30s\n"
     ]
    },
    {
     "name": "stderr",
     "output_type": "stream",
     "text": [
      "----------------------------------------------------------------------------------------------------\n",
      "Epoch 5 - Average Loss: (train) 0.6826; (valid) 1.1556 | Time: 14.89s\n"
     ]
    },
    {
     "name": "stdout",
     "output_type": "stream",
     "text": [
      "Epoch 5 [124/125] | Valid Loss: 1.1556 | Elapse: 5.30s\n"
     ]
    },
    {
     "data": {
      "application/vnd.jupyter.widget-view+json": {
       "model_id": "2c055a035359405295a72ce89d812a5e",
       "version_major": 2,
       "version_minor": 0
      },
      "text/plain": [
       "Train [5]:   0%|          | 0/193 [00:00<?, ?batch/s]"
      ]
     },
     "metadata": {},
     "output_type": "display_data"
    },
    {
     "name": "stdout",
     "output_type": "stream",
     "text": [
      "Epoch 6 [0/193] | Train Loss: 0.6408 Grad: 56808.0586 LR: 8.4231e-05 | Elapse: 0.05s\n",
      "Epoch 6 [50/193] | Train Loss: 0.6796 Grad: 76188.0000 LR: 8.1973e-05 | Elapse: 2.54s\n",
      "Epoch 6 [100/193] | Train Loss: 0.6810 Grad: 67615.8047 LR: 7.9599e-05 | Elapse: 5.06s\n",
      "Epoch 6 [150/193] | Train Loss: 0.6859 Grad: 57852.2578 LR: 7.7118e-05 | Elapse: 7.56s\n",
      "Epoch 6 [192/193] | Train Loss: 0.6827 Grad: 72315.3672 LR: 7.4958e-05 | Elapse: 9.64s\n"
     ]
    },
    {
     "data": {
      "application/vnd.jupyter.widget-view+json": {
       "model_id": "918111a2d8b645d9b0ac6ca59a2290a4",
       "version_major": 2,
       "version_minor": 0
      },
      "text/plain": [
       "Valid [5]:   0%|          | 0/125 [00:00<?, ?batch/s]"
      ]
     },
     "metadata": {},
     "output_type": "display_data"
    },
    {
     "name": "stdout",
     "output_type": "stream",
     "text": [
      "Epoch 6 [0/125] | Valid Loss: 1.0533 | Elapse: 0.05s\n",
      "Epoch 6 [50/125] | Valid Loss: 1.1502 | Elapse: 2.18s\n",
      "Epoch 6 [100/125] | Valid Loss: 1.1646 | Elapse: 4.30s\n"
     ]
    },
    {
     "name": "stderr",
     "output_type": "stream",
     "text": [
      "----------------------------------------------------------------------------------------------------\n",
      "Epoch 6 - Average Loss: (train) 0.6827; (valid) 1.1579 | Time: 14.94s\n"
     ]
    },
    {
     "name": "stdout",
     "output_type": "stream",
     "text": [
      "Epoch 6 [124/125] | Valid Loss: 1.1579 | Elapse: 5.30s\n"
     ]
    },
    {
     "data": {
      "application/vnd.jupyter.widget-view+json": {
       "model_id": "c6817d21858f46a98c7e89ca879d5827",
       "version_major": 2,
       "version_minor": 0
      },
      "text/plain": [
       "Train [6]:   0%|          | 0/193 [00:00<?, ?batch/s]"
      ]
     },
     "metadata": {},
     "output_type": "display_data"
    },
    {
     "name": "stdout",
     "output_type": "stream",
     "text": [
      "Epoch 7 [0/193] | Train Loss: 0.6339 Grad: 60187.5977 LR: 7.4906e-05 | Elapse: 0.05s\n",
      "Epoch 7 [50/193] | Train Loss: 0.6728 Grad: 73846.7344 LR: 7.2249e-05 | Elapse: 2.56s\n",
      "Epoch 7 [100/193] | Train Loss: 0.6759 Grad: 68276.6172 LR: 6.9511e-05 | Elapse: 5.06s\n",
      "Epoch 7 [150/193] | Train Loss: 0.6796 Grad: 56325.1289 LR: 6.6703e-05 | Elapse: 7.55s\n",
      "Epoch 7 [192/193] | Train Loss: 0.6766 Grad: 74653.7031 LR: 6.4297e-05 | Elapse: 9.64s\n"
     ]
    },
    {
     "data": {
      "application/vnd.jupyter.widget-view+json": {
       "model_id": "05906dc6dd7c4fdb96ade5c70d2453f4",
       "version_major": 2,
       "version_minor": 0
      },
      "text/plain": [
       "Valid [6]:   0%|          | 0/125 [00:00<?, ?batch/s]"
      ]
     },
     "metadata": {},
     "output_type": "display_data"
    },
    {
     "name": "stdout",
     "output_type": "stream",
     "text": [
      "Epoch 7 [0/125] | Valid Loss: 1.0480 | Elapse: 0.05s\n",
      "Epoch 7 [50/125] | Valid Loss: 1.1440 | Elapse: 2.20s\n",
      "Epoch 7 [100/125] | Valid Loss: 1.1583 | Elapse: 4.34s\n"
     ]
    },
    {
     "name": "stderr",
     "output_type": "stream",
     "text": [
      "----------------------------------------------------------------------------------------------------\n",
      "Epoch 7 - Average Loss: (train) 0.6766; (valid) 1.1518 | Time: 15.00s\n"
     ]
    },
    {
     "name": "stdout",
     "output_type": "stream",
     "text": [
      "Epoch 7 [124/125] | Valid Loss: 1.1518 | Elapse: 5.35s\n"
     ]
    },
    {
     "data": {
      "application/vnd.jupyter.widget-view+json": {
       "model_id": "0e0697625f9c48558c9b70aca41eace8",
       "version_major": 2,
       "version_minor": 0
      },
      "text/plain": [
       "Train [7]:   0%|          | 0/193 [00:00<?, ?batch/s]"
      ]
     },
     "metadata": {},
     "output_type": "display_data"
    },
    {
     "name": "stdout",
     "output_type": "stream",
     "text": [
      "Epoch 8 [0/193] | Train Loss: 0.6285 Grad: 58917.8047 LR: 6.4239e-05 | Elapse: 0.06s\n",
      "Epoch 8 [50/193] | Train Loss: 0.6762 Grad: 74567.3203 LR: 6.1326e-05 | Elapse: 2.55s\n",
      "Epoch 8 [100/193] | Train Loss: 0.6758 Grad: 68042.3438 LR: 5.8372e-05 | Elapse: 5.05s\n",
      "Epoch 8 [150/193] | Train Loss: 0.6822 Grad: 62727.4336 LR: 5.5388e-05 | Elapse: 7.50s\n",
      "Epoch 8 [192/193] | Train Loss: 0.6789 Grad: 67366.7109 LR: 5.2866e-05 | Elapse: 9.56s\n"
     ]
    },
    {
     "data": {
      "application/vnd.jupyter.widget-view+json": {
       "model_id": "83e7f058754341e297428549f365715f",
       "version_major": 2,
       "version_minor": 0
      },
      "text/plain": [
       "Valid [7]:   0%|          | 0/125 [00:00<?, ?batch/s]"
      ]
     },
     "metadata": {},
     "output_type": "display_data"
    },
    {
     "name": "stdout",
     "output_type": "stream",
     "text": [
      "Epoch 8 [0/125] | Valid Loss: 1.0455 | Elapse: 0.05s\n",
      "Epoch 8 [50/125] | Valid Loss: 1.1407 | Elapse: 2.18s\n",
      "Epoch 8 [100/125] | Valid Loss: 1.1551 | Elapse: 4.31s\n"
     ]
    },
    {
     "name": "stderr",
     "output_type": "stream",
     "text": [
      "----------------------------------------------------------------------------------------------------\n",
      "Epoch 8 - Average Loss: (train) 0.6789; (valid) 1.1489 | Time: 14.88s\n"
     ]
    },
    {
     "name": "stdout",
     "output_type": "stream",
     "text": [
      "Epoch 8 [124/125] | Valid Loss: 1.1489 | Elapse: 5.32s\n"
     ]
    },
    {
     "data": {
      "application/vnd.jupyter.widget-view+json": {
       "model_id": "c3b38abf83e04baca024de8670fe7a23",
       "version_major": 2,
       "version_minor": 0
      },
      "text/plain": [
       "Train [8]:   0%|          | 0/193 [00:00<?, ?batch/s]"
      ]
     },
     "metadata": {},
     "output_type": "display_data"
    },
    {
     "name": "stdout",
     "output_type": "stream",
     "text": [
      "Epoch 9 [0/193] | Train Loss: 0.6179 Grad: 57111.9336 LR: 5.2806e-05 | Elapse: 0.05s\n",
      "Epoch 9 [50/193] | Train Loss: 0.6724 Grad: 74448.6953 LR: 4.9794e-05 | Elapse: 2.53s\n",
      "Epoch 9 [100/193] | Train Loss: 0.6741 Grad: 71927.1328 LR: 4.6783e-05 | Elapse: 5.00s\n",
      "Epoch 9 [150/193] | Train Loss: 0.6790 Grad: 54158.9141 LR: 4.3784e-05 | Elapse: 7.49s\n",
      "Epoch 9 [192/193] | Train Loss: 0.6758 Grad: 75359.8516 LR: 4.1282e-05 | Elapse: 9.58s\n"
     ]
    },
    {
     "data": {
      "application/vnd.jupyter.widget-view+json": {
       "model_id": "26eea1ae0d894492a8e0ef040503cc57",
       "version_major": 2,
       "version_minor": 0
      },
      "text/plain": [
       "Valid [8]:   0%|          | 0/125 [00:00<?, ?batch/s]"
      ]
     },
     "metadata": {},
     "output_type": "display_data"
    },
    {
     "name": "stdout",
     "output_type": "stream",
     "text": [
      "Epoch 9 [0/125] | Valid Loss: 1.0459 | Elapse: 0.05s\n",
      "Epoch 9 [50/125] | Valid Loss: 1.1396 | Elapse: 2.18s\n",
      "Epoch 9 [100/125] | Valid Loss: 1.1541 | Elapse: 4.31s\n"
     ]
    },
    {
     "name": "stderr",
     "output_type": "stream",
     "text": [
      "----------------------------------------------------------------------------------------------------\n",
      "Epoch 9 - Average Loss: (train) 0.6758; (valid) 1.1479 | Time: 14.91s\n"
     ]
    },
    {
     "name": "stdout",
     "output_type": "stream",
     "text": [
      "Epoch 9 [124/125] | Valid Loss: 1.1479 | Elapse: 5.32s\n"
     ]
    },
    {
     "data": {
      "application/vnd.jupyter.widget-view+json": {
       "model_id": "baa7906231844267a977112927abb321",
       "version_major": 2,
       "version_minor": 0
      },
      "text/plain": [
       "Train [9]:   0%|          | 0/193 [00:00<?, ?batch/s]"
      ]
     },
     "metadata": {},
     "output_type": "display_data"
    },
    {
     "name": "stdout",
     "output_type": "stream",
     "text": [
      "Epoch 10 [0/193] | Train Loss: 0.6172 Grad: 53157.6211 LR: 4.1222e-05 | Elapse: 0.05s\n",
      "Epoch 10 [50/193] | Train Loss: 0.6711 Grad: 79547.7500 LR: 3.8274e-05 | Elapse: 2.56s\n",
      "Epoch 10 [100/193] | Train Loss: 0.6713 Grad: 68811.3203 LR: 3.5368e-05 | Elapse: 5.07s\n",
      "Epoch 10 [150/193] | Train Loss: 0.6756 Grad: 62078.6055 LR: 3.2516e-05 | Elapse: 7.59s\n",
      "Epoch 10 [192/193] | Train Loss: 0.6731 Grad: 79661.3828 LR: 3.0169e-05 | Elapse: 9.67s\n"
     ]
    },
    {
     "data": {
      "application/vnd.jupyter.widget-view+json": {
       "model_id": "76371145d59b458f8e94487d2152214e",
       "version_major": 2,
       "version_minor": 0
      },
      "text/plain": [
       "Valid [9]:   0%|          | 0/125 [00:00<?, ?batch/s]"
      ]
     },
     "metadata": {},
     "output_type": "display_data"
    },
    {
     "name": "stdout",
     "output_type": "stream",
     "text": [
      "Epoch 10 [0/125] | Valid Loss: 1.0437 | Elapse: 0.05s\n",
      "Epoch 10 [50/125] | Valid Loss: 1.1381 | Elapse: 2.18s\n",
      "Epoch 10 [100/125] | Valid Loss: 1.1526 | Elapse: 4.31s\n"
     ]
    },
    {
     "name": "stderr",
     "output_type": "stream",
     "text": [
      "----------------------------------------------------------------------------------------------------\n",
      "Epoch 10 - Average Loss: (train) 0.6731; (valid) 1.1465 | Time: 14.99s\n"
     ]
    },
    {
     "name": "stdout",
     "output_type": "stream",
     "text": [
      "Epoch 10 [124/125] | Valid Loss: 1.1465 | Elapse: 5.32s\n"
     ]
    },
    {
     "data": {
      "application/vnd.jupyter.widget-view+json": {
       "model_id": "e11ba8954df34770b2ee9e4da9766730",
       "version_major": 2,
       "version_minor": 0
      },
      "text/plain": [
       "Train [10]:   0%|          | 0/193 [00:00<?, ?batch/s]"
      ]
     },
     "metadata": {},
     "output_type": "display_data"
    },
    {
     "name": "stdout",
     "output_type": "stream",
     "text": [
      "Epoch 11 [0/193] | Train Loss: 0.6260 Grad: 56117.6875 LR: 3.0113e-05 | Elapse: 0.05s\n",
      "Epoch 11 [50/193] | Train Loss: 0.6702 Grad: 73372.8047 LR: 2.7387e-05 | Elapse: 2.56s\n",
      "Epoch 11 [100/193] | Train Loss: 0.6683 Grad: 66032.4453 LR: 2.4744e-05 | Elapse: 5.05s\n",
      "Epoch 11 [150/193] | Train Loss: 0.6740 Grad: 58554.7305 LR: 2.2192e-05 | Elapse: 7.55s\n",
      "Epoch 11 [192/193] | Train Loss: 0.6717 Grad: 75534.2188 LR: 2.0126e-05 | Elapse: 9.65s\n"
     ]
    },
    {
     "data": {
      "application/vnd.jupyter.widget-view+json": {
       "model_id": "a7e7c83527c74556bab0e38b9559eb43",
       "version_major": 2,
       "version_minor": 0
      },
      "text/plain": [
       "Valid [10]:   0%|          | 0/125 [00:00<?, ?batch/s]"
      ]
     },
     "metadata": {},
     "output_type": "display_data"
    },
    {
     "name": "stdout",
     "output_type": "stream",
     "text": [
      "Epoch 11 [0/125] | Valid Loss: 1.0443 | Elapse: 0.05s\n",
      "Epoch 11 [50/125] | Valid Loss: 1.1381 | Elapse: 2.19s\n",
      "Epoch 11 [100/125] | Valid Loss: 1.1526 | Elapse: 4.33s\n"
     ]
    },
    {
     "name": "stderr",
     "output_type": "stream",
     "text": [
      "----------------------------------------------------------------------------------------------------\n",
      "Epoch 11 - Average Loss: (train) 0.6717; (valid) 1.1465 | Time: 14.99s\n"
     ]
    },
    {
     "name": "stdout",
     "output_type": "stream",
     "text": [
      "Epoch 11 [124/125] | Valid Loss: 1.1465 | Elapse: 5.34s\n"
     ]
    },
    {
     "data": {
      "application/vnd.jupyter.widget-view+json": {
       "model_id": "286556d09cb94f97a6581b0a6e273df4",
       "version_major": 2,
       "version_minor": 0
      },
      "text/plain": [
       "Train [11]:   0%|          | 0/193 [00:00<?, ?batch/s]"
      ]
     },
     "metadata": {},
     "output_type": "display_data"
    },
    {
     "name": "stdout",
     "output_type": "stream",
     "text": [
      "Epoch 12 [0/193] | Train Loss: 0.6096 Grad: 59184.7891 LR: 2.0077e-05 | Elapse: 0.05s\n",
      "Epoch 12 [50/193] | Train Loss: 0.6667 Grad: 75052.7812 LR: 1.7721e-05 | Elapse: 2.55s\n",
      "Epoch 12 [100/193] | Train Loss: 0.6691 Grad: 67401.5938 LR: 1.5481e-05 | Elapse: 5.07s\n",
      "Epoch 12 [150/193] | Train Loss: 0.6740 Grad: 56904.3125 LR: 1.3367e-05 | Elapse: 7.55s\n",
      "Epoch 12 [192/193] | Train Loss: 0.6711 Grad: 82524.9531 LR: 1.1694e-05 | Elapse: 9.65s\n"
     ]
    },
    {
     "data": {
      "application/vnd.jupyter.widget-view+json": {
       "model_id": "a58a43a94d9b4ca0bea6be97355e927c",
       "version_major": 2,
       "version_minor": 0
      },
      "text/plain": [
       "Valid [11]:   0%|          | 0/125 [00:00<?, ?batch/s]"
      ]
     },
     "metadata": {},
     "output_type": "display_data"
    },
    {
     "name": "stdout",
     "output_type": "stream",
     "text": [
      "Epoch 12 [0/125] | Valid Loss: 1.0423 | Elapse: 0.05s\n",
      "Epoch 12 [50/125] | Valid Loss: 1.1364 | Elapse: 2.19s\n",
      "Epoch 12 [100/125] | Valid Loss: 1.1506 | Elapse: 4.32s\n"
     ]
    },
    {
     "name": "stderr",
     "output_type": "stream",
     "text": [
      "----------------------------------------------------------------------------------------------------\n",
      "Epoch 12 - Average Loss: (train) 0.6711; (valid) 1.1446 | Time: 14.99s\n"
     ]
    },
    {
     "name": "stdout",
     "output_type": "stream",
     "text": [
      "Epoch 12 [124/125] | Valid Loss: 1.1446 | Elapse: 5.34s\n"
     ]
    },
    {
     "data": {
      "application/vnd.jupyter.widget-view+json": {
       "model_id": "9fa64c726520437f888908b539b300b9",
       "version_major": 2,
       "version_minor": 0
      },
      "text/plain": [
       "Train [12]:   0%|          | 0/193 [00:00<?, ?batch/s]"
      ]
     },
     "metadata": {},
     "output_type": "display_data"
    },
    {
     "name": "stdout",
     "output_type": "stream",
     "text": [
      "Epoch 13 [0/193] | Train Loss: 0.6064 Grad: 56961.6445 LR: 1.1656e-05 | Elapse: 0.05s\n",
      "Epoch 13 [50/193] | Train Loss: 0.6672 Grad: 79452.2812 LR: 9.7953e-06 | Elapse: 2.53s\n",
      "Epoch 13 [100/193] | Train Loss: 0.6709 Grad: 68035.7109 LR: 8.0811e-06 | Elapse: 5.02s\n",
      "Epoch 13 [150/193] | Train Loss: 0.6728 Grad: 59668.1914 LR: 6.5193e-06 | Elapse: 7.48s\n",
      "Epoch 13 [192/193] | Train Loss: 0.6714 Grad: 75682.4844 LR: 5.3292e-06 | Elapse: 9.54s\n"
     ]
    },
    {
     "data": {
      "application/vnd.jupyter.widget-view+json": {
       "model_id": "069cf329402c412a941ddf1887c667b7",
       "version_major": 2,
       "version_minor": 0
      },
      "text/plain": [
       "Valid [12]:   0%|          | 0/125 [00:00<?, ?batch/s]"
      ]
     },
     "metadata": {},
     "output_type": "display_data"
    },
    {
     "name": "stdout",
     "output_type": "stream",
     "text": [
      "Epoch 13 [0/125] | Valid Loss: 1.0421 | Elapse: 0.05s\n",
      "Epoch 13 [50/125] | Valid Loss: 1.1364 | Elapse: 2.18s\n",
      "Epoch 13 [100/125] | Valid Loss: 1.1506 | Elapse: 4.30s\n"
     ]
    },
    {
     "name": "stderr",
     "output_type": "stream",
     "text": [
      "----------------------------------------------------------------------------------------------------\n",
      "Epoch 13 - Average Loss: (train) 0.6714; (valid) 1.1446 | Time: 14.85s\n"
     ]
    },
    {
     "name": "stdout",
     "output_type": "stream",
     "text": [
      "Epoch 13 [124/125] | Valid Loss: 1.1446 | Elapse: 5.30s\n"
     ]
    },
    {
     "data": {
      "application/vnd.jupyter.widget-view+json": {
       "model_id": "c00036d59871493095bca2efdc98e333",
       "version_major": 2,
       "version_minor": 0
      },
      "text/plain": [
       "Train [13]:   0%|          | 0/193 [00:00<?, ?batch/s]"
      ]
     },
     "metadata": {},
     "output_type": "display_data"
    },
    {
     "name": "stdout",
     "output_type": "stream",
     "text": [
      "Epoch 14 [0/193] | Train Loss: 0.6155 Grad: 52938.5742 LR: 5.3023e-06 | Elapse: 0.05s\n",
      "Epoch 14 [50/193] | Train Loss: 0.6676 Grad: 71390.6406 LR: 4.0385e-06 | Elapse: 2.50s\n",
      "Epoch 14 [100/193] | Train Loss: 0.6685 Grad: 69514.9609 LR: 2.9418e-06 | Elapse: 4.95s\n",
      "Epoch 14 [150/193] | Train Loss: 0.6745 Grad: 61845.8789 LR: 2.0162e-06 | Elapse: 7.41s\n",
      "Epoch 14 [192/193] | Train Loss: 0.6716 Grad: 77345.3906 LR: 1.3734e-06 | Elapse: 9.48s\n"
     ]
    },
    {
     "data": {
      "application/vnd.jupyter.widget-view+json": {
       "model_id": "1f4f13213e334d09ae41e369ac0fdb00",
       "version_major": 2,
       "version_minor": 0
      },
      "text/plain": [
       "Valid [13]:   0%|          | 0/125 [00:00<?, ?batch/s]"
      ]
     },
     "metadata": {},
     "output_type": "display_data"
    },
    {
     "name": "stdout",
     "output_type": "stream",
     "text": [
      "Epoch 14 [0/125] | Valid Loss: 1.0415 | Elapse: 0.05s\n",
      "Epoch 14 [50/125] | Valid Loss: 1.1356 | Elapse: 2.18s\n",
      "Epoch 14 [100/125] | Valid Loss: 1.1498 | Elapse: 4.30s\n"
     ]
    },
    {
     "name": "stderr",
     "output_type": "stream",
     "text": [
      "----------------------------------------------------------------------------------------------------\n",
      "Epoch 14 - Average Loss: (train) 0.6716; (valid) 1.1438 | Time: 14.79s\n"
     ]
    },
    {
     "name": "stdout",
     "output_type": "stream",
     "text": [
      "Epoch 14 [124/125] | Valid Loss: 1.1438 | Elapse: 5.31s\n"
     ]
    },
    {
     "data": {
      "application/vnd.jupyter.widget-view+json": {
       "model_id": "d88ecedc050d4750891e05a5bdfc2b9b",
       "version_major": 2,
       "version_minor": 0
      },
      "text/plain": [
       "Train [14]:   0%|          | 0/193 [00:00<?, ?batch/s]"
      ]
     },
     "metadata": {},
     "output_type": "display_data"
    },
    {
     "name": "stdout",
     "output_type": "stream",
     "text": [
      "Epoch 15 [0/193] | Train Loss: 0.6124 Grad: 53859.3398 LR: 1.3596e-06 | Elapse: 0.05s\n",
      "Epoch 15 [50/193] | Train Loss: 0.6692 Grad: 69261.8359 LR: 7.6057e-07 | Elapse: 2.52s\n",
      "Epoch 15 [100/193] | Train Loss: 0.6685 Grad: 71118.4844 LR: 3.4056e-07 | Elapse: 4.97s\n",
      "Epoch 15 [150/193] | Train Loss: 0.6740 Grad: 59551.3438 LR: 1.0106e-07 | Elapse: 7.43s\n",
      "Epoch 15 [192/193] | Train Loss: 0.6714 Grad: 76640.0547 LR: 4.0036e-08 | Elapse: 9.50s\n"
     ]
    },
    {
     "data": {
      "application/vnd.jupyter.widget-view+json": {
       "model_id": "91a23b1d84b04593bb3a0d18ef8f4fbb",
       "version_major": 2,
       "version_minor": 0
      },
      "text/plain": [
       "Valid [14]:   0%|          | 0/125 [00:00<?, ?batch/s]"
      ]
     },
     "metadata": {},
     "output_type": "display_data"
    },
    {
     "name": "stdout",
     "output_type": "stream",
     "text": [
      "Epoch 15 [0/125] | Valid Loss: 1.0415 | Elapse: 0.05s\n",
      "Epoch 15 [50/125] | Valid Loss: 1.1356 | Elapse: 2.18s\n",
      "Epoch 15 [100/125] | Valid Loss: 1.1497 | Elapse: 4.31s\n"
     ]
    },
    {
     "name": "stderr",
     "output_type": "stream",
     "text": [
      "----------------------------------------------------------------------------------------------------\n",
      "Epoch 15 - Average Loss: (train) 0.6714; (valid) 1.1438 | Time: 14.82s\n",
      "====================================================================================================\n",
      "Fold 0 Valid Loss: 1.1262528896331787\n",
      "Elapse: 3.73 min \n",
      "====================================================================================================\n"
     ]
    },
    {
     "name": "stdout",
     "output_type": "stream",
     "text": [
      "Epoch 15 [124/125] | Valid Loss: 1.1438 | Elapse: 5.31s\n"
     ]
    },
    {
     "name": "stderr",
     "output_type": "stream",
     "text": [
      "====================================================================================================\n",
      "Fold: 1 || Valid size 3886 \n",
      "====================================================================================================\n",
      "- First Stage -\n"
     ]
    },
    {
     "data": {
      "application/vnd.jupyter.widget-view+json": {
       "model_id": "5280f9de0d8144f79fa28502e62eae52",
       "version_major": 2,
       "version_minor": 0
      },
      "text/plain": [
       "Train [0]:   0%|          | 0/509 [00:00<?, ?batch/s]"
      ]
     },
     "metadata": {},
     "output_type": "display_data"
    },
    {
     "name": "stdout",
     "output_type": "stream",
     "text": [
      "Epoch 1 [0/509] | Train Loss: 1.6708 Grad: 282720.4375 LR: 4.0004e-06 | Elapse: 0.06s\n",
      "Epoch 1 [50/509] | Train Loss: 1.6600 Grad: 143746.8750 LR: 5.0558e-06 | Elapse: 2.58s\n",
      "Epoch 1 [100/509] | Train Loss: 1.6347 Grad: 131883.5938 LR: 8.0964e-06 | Elapse: 5.09s\n",
      "Epoch 1 [150/509] | Train Loss: 1.6171 Grad: 119046.4922 LR: 1.2994e-05 | Elapse: 7.56s\n",
      "Epoch 1 [200/509] | Train Loss: 1.5894 Grad: 108820.8438 LR: 1.9540e-05 | Elapse: 10.05s\n",
      "Epoch 1 [250/509] | Train Loss: 1.5551 Grad: 74953.5391 LR: 2.7460e-05 | Elapse: 12.52s\n",
      "Epoch 1 [300/509] | Train Loss: 1.5220 Grad: 79066.1953 LR: 3.6417e-05 | Elapse: 14.99s\n",
      "Epoch 1 [350/509] | Train Loss: 1.4928 Grad: 69258.4297 LR: 4.6033e-05 | Elapse: 17.45s\n",
      "Epoch 1 [400/509] | Train Loss: 1.4696 Grad: 62360.9883 LR: 5.5902e-05 | Elapse: 19.88s\n",
      "Epoch 1 [450/509] | Train Loss: 1.4509 Grad: 82513.9688 LR: 6.5605e-05 | Elapse: 22.30s\n",
      "Epoch 1 [500/509] | Train Loss: 1.4302 Grad: 67001.2656 LR: 7.4733e-05 | Elapse: 24.76s\n",
      "Epoch 1 [508/509] | Train Loss: 1.4274 Grad: 62563.9297 LR: 7.6114e-05 | Elapse: 25.15s\n"
     ]
    },
    {
     "data": {
      "application/vnd.jupyter.widget-view+json": {
       "model_id": "f51ecb41d91f4433b93874918a8d9bd7",
       "version_major": 2,
       "version_minor": 0
      },
      "text/plain": [
       "Valid [0]:   0%|          | 0/122 [00:00<?, ?batch/s]"
      ]
     },
     "metadata": {},
     "output_type": "display_data"
    },
    {
     "name": "stdout",
     "output_type": "stream",
     "text": [
      "Epoch 1 [0/122] | Valid Loss: 1.1349 | Elapse: 0.05s\n",
      "Epoch 1 [50/122] | Valid Loss: 1.2682 | Elapse: 2.16s\n",
      "Epoch 1 [100/122] | Valid Loss: 1.2589 | Elapse: 4.27s\n"
     ]
    },
    {
     "name": "stderr",
     "output_type": "stream",
     "text": [
      "----------------------------------------------------------------------------------------------------\n",
      "Epoch 1 - Average Loss: (train) 1.4274; (valid) 1.2572 | Time: 30.28s\n",
      "Best model found in epoch 1 | valid loss: 1.2572\n"
     ]
    },
    {
     "name": "stdout",
     "output_type": "stream",
     "text": [
      "Epoch 1 [121/122] | Valid Loss: 1.2572 | Elapse: 5.14s\n"
     ]
    },
    {
     "data": {
      "application/vnd.jupyter.widget-view+json": {
       "model_id": "5313066a885644c998788080c6a4be3c",
       "version_major": 2,
       "version_minor": 0
      },
      "text/plain": [
       "Train [1]:   0%|          | 0/509 [00:00<?, ?batch/s]"
      ]
     },
     "metadata": {},
     "output_type": "display_data"
    },
    {
     "name": "stdout",
     "output_type": "stream",
     "text": [
      "Epoch 2 [0/509] | Train Loss: 1.2771 Grad: 138335.1406 LR: 7.6285e-05 | Elapse: 0.05s\n",
      "Epoch 2 [50/509] | Train Loss: 1.2850 Grad: 116325.3047 LR: 8.4241e-05 | Elapse: 2.49s\n",
      "Epoch 2 [100/509] | Train Loss: 1.2677 Grad: 235700.2344 LR: 9.0833e-05 | Elapse: 4.94s\n",
      "Epoch 2 [150/509] | Train Loss: 1.2820 Grad: 118321.7656 LR: 9.5783e-05 | Elapse: 7.38s\n",
      "Epoch 2 [200/509] | Train Loss: 1.2866 Grad: 114346.7812 LR: 9.8881e-05 | Elapse: 9.82s\n",
      "Epoch 2 [250/509] | Train Loss: 1.2839 Grad: 110329.7109 LR: 9.9997e-05 | Elapse: 12.29s\n",
      "Epoch 2 [300/509] | Train Loss: 1.2788 Grad: 97175.8984 LR: 9.9988e-05 | Elapse: 14.73s\n",
      "Epoch 2 [350/509] | Train Loss: 1.2771 Grad: 111700.9062 LR: 9.9950e-05 | Elapse: 17.19s\n",
      "Epoch 2 [400/509] | Train Loss: 1.2743 Grad: 98654.6953 LR: 9.9886e-05 | Elapse: 19.63s\n",
      "Epoch 2 [450/509] | Train Loss: 1.2708 Grad: 139208.5938 LR: 9.9796e-05 | Elapse: 22.06s\n",
      "Epoch 2 [500/509] | Train Loss: 1.2651 Grad: 121171.4609 LR: 9.9680e-05 | Elapse: 24.50s\n",
      "Epoch 2 [508/509] | Train Loss: 1.2637 Grad: 115700.7109 LR: 9.9659e-05 | Elapse: 24.89s\n"
     ]
    },
    {
     "data": {
      "application/vnd.jupyter.widget-view+json": {
       "model_id": "da6abeff8e7b454dbf9ee8615412740b",
       "version_major": 2,
       "version_minor": 0
      },
      "text/plain": [
       "Valid [1]:   0%|          | 0/122 [00:00<?, ?batch/s]"
      ]
     },
     "metadata": {},
     "output_type": "display_data"
    },
    {
     "name": "stdout",
     "output_type": "stream",
     "text": [
      "Epoch 2 [0/122] | Valid Loss: 1.0844 | Elapse: 0.05s\n",
      "Epoch 2 [50/122] | Valid Loss: 1.2263 | Elapse: 2.16s\n",
      "Epoch 2 [100/122] | Valid Loss: 1.2174 | Elapse: 4.28s\n"
     ]
    },
    {
     "name": "stderr",
     "output_type": "stream",
     "text": [
      "----------------------------------------------------------------------------------------------------\n",
      "Epoch 2 - Average Loss: (train) 1.2637; (valid) 1.2156 | Time: 30.04s\n",
      "Best model found in epoch 2 | valid loss: 1.2156\n"
     ]
    },
    {
     "name": "stdout",
     "output_type": "stream",
     "text": [
      "Epoch 2 [121/122] | Valid Loss: 1.2156 | Elapse: 5.14s\n"
     ]
    },
    {
     "data": {
      "application/vnd.jupyter.widget-view+json": {
       "model_id": "1bc5426826e54d06a68b17b995a6fbd4",
       "version_major": 2,
       "version_minor": 0
      },
      "text/plain": [
       "Train [2]:   0%|          | 0/509 [00:00<?, ?batch/s]"
      ]
     },
     "metadata": {},
     "output_type": "display_data"
    },
    {
     "name": "stdout",
     "output_type": "stream",
     "text": [
      "Epoch 3 [0/509] | Train Loss: 1.1849 Grad: 108214.4922 LR: 9.9657e-05 | Elapse: 0.05s\n",
      "Epoch 3 [50/509] | Train Loss: 1.2517 Grad: 95410.8125 LR: 9.9510e-05 | Elapse: 2.49s\n",
      "Epoch 3 [100/509] | Train Loss: 1.2308 Grad: 205912.2031 LR: 9.9338e-05 | Elapse: 4.95s\n",
      "Epoch 3 [150/509] | Train Loss: 1.2370 Grad: 107022.0234 LR: 9.9139e-05 | Elapse: 7.38s\n",
      "Epoch 3 [200/509] | Train Loss: 1.2372 Grad: 100552.8359 LR: 9.8915e-05 | Elapse: 9.83s\n",
      "Epoch 3 [250/509] | Train Loss: 1.2355 Grad: 106554.2734 LR: 9.8666e-05 | Elapse: 12.28s\n",
      "Epoch 3 [300/509] | Train Loss: 1.2320 Grad: 100048.0234 LR: 9.8391e-05 | Elapse: 14.74s\n",
      "Epoch 3 [350/509] | Train Loss: 1.2299 Grad: 111596.4297 LR: 9.8091e-05 | Elapse: 17.17s\n",
      "Epoch 3 [400/509] | Train Loss: 1.2268 Grad: 95910.3438 LR: 9.7766e-05 | Elapse: 19.61s\n",
      "Epoch 3 [450/509] | Train Loss: 1.2240 Grad: 133020.7344 LR: 9.7415e-05 | Elapse: 22.05s\n",
      "Epoch 3 [500/509] | Train Loss: 1.2188 Grad: 112841.7109 LR: 9.7040e-05 | Elapse: 24.49s\n",
      "Epoch 3 [508/509] | Train Loss: 1.2172 Grad: 124165.7656 LR: 9.6978e-05 | Elapse: 24.88s\n"
     ]
    },
    {
     "data": {
      "application/vnd.jupyter.widget-view+json": {
       "model_id": "82dad58b372b4ba08daa839c0bb86a80",
       "version_major": 2,
       "version_minor": 0
      },
      "text/plain": [
       "Valid [2]:   0%|          | 0/122 [00:00<?, ?batch/s]"
      ]
     },
     "metadata": {},
     "output_type": "display_data"
    },
    {
     "name": "stdout",
     "output_type": "stream",
     "text": [
      "Epoch 3 [0/122] | Valid Loss: 1.0202 | Elapse: 0.05s\n",
      "Epoch 3 [50/122] | Valid Loss: 1.1803 | Elapse: 2.16s\n",
      "Epoch 3 [100/122] | Valid Loss: 1.1708 | Elapse: 4.27s\n"
     ]
    },
    {
     "name": "stderr",
     "output_type": "stream",
     "text": [
      "----------------------------------------------------------------------------------------------------\n",
      "Epoch 3 - Average Loss: (train) 1.2172; (valid) 1.1686 | Time: 30.02s\n",
      "Best model found in epoch 3 | valid loss: 1.1686\n"
     ]
    },
    {
     "name": "stdout",
     "output_type": "stream",
     "text": [
      "Epoch 3 [121/122] | Valid Loss: 1.1686 | Elapse: 5.14s\n"
     ]
    },
    {
     "data": {
      "application/vnd.jupyter.widget-view+json": {
       "model_id": "821255bbfea64fd9a94b649b875b0e1e",
       "version_major": 2,
       "version_minor": 0
      },
      "text/plain": [
       "Train [3]:   0%|          | 0/509 [00:00<?, ?batch/s]"
      ]
     },
     "metadata": {},
     "output_type": "display_data"
    },
    {
     "name": "stdout",
     "output_type": "stream",
     "text": [
      "Epoch 4 [0/509] | Train Loss: 1.1334 Grad: 104587.5625 LR: 9.6970e-05 | Elapse: 0.06s\n",
      "Epoch 4 [50/509] | Train Loss: 1.2024 Grad: 97463.5312 LR: 9.6566e-05 | Elapse: 2.53s\n",
      "Epoch 4 [100/509] | Train Loss: 1.1838 Grad: 209653.5000 LR: 9.6138e-05 | Elapse: 5.01s\n",
      "Epoch 4 [150/509] | Train Loss: 1.1956 Grad: 101075.1172 LR: 9.5686e-05 | Elapse: 7.46s\n",
      "Epoch 4 [200/509] | Train Loss: 1.1953 Grad: 110568.5625 LR: 9.5209e-05 | Elapse: 9.94s\n",
      "Epoch 4 [250/509] | Train Loss: 1.1927 Grad: 114304.4844 LR: 9.4709e-05 | Elapse: 12.42s\n",
      "Epoch 4 [300/509] | Train Loss: 1.1905 Grad: 91210.9609 LR: 9.4186e-05 | Elapse: 14.88s\n",
      "Epoch 4 [350/509] | Train Loss: 1.1894 Grad: 117961.1016 LR: 9.3640e-05 | Elapse: 17.35s\n",
      "Epoch 4 [400/509] | Train Loss: 1.1871 Grad: 99562.6250 LR: 9.3071e-05 | Elapse: 19.81s\n",
      "Epoch 4 [450/509] | Train Loss: 1.1842 Grad: 129831.4297 LR: 9.2479e-05 | Elapse: 22.34s\n",
      "Epoch 4 [500/509] | Train Loss: 1.1802 Grad: 125462.4141 LR: 9.1865e-05 | Elapse: 24.78s\n",
      "Epoch 4 [508/509] | Train Loss: 1.1793 Grad: 118206.4531 LR: 9.1765e-05 | Elapse: 25.18s\n"
     ]
    },
    {
     "data": {
      "application/vnd.jupyter.widget-view+json": {
       "model_id": "141f9a60bdde4468bc42df389550d738",
       "version_major": 2,
       "version_minor": 0
      },
      "text/plain": [
       "Valid [3]:   0%|          | 0/122 [00:00<?, ?batch/s]"
      ]
     },
     "metadata": {},
     "output_type": "display_data"
    },
    {
     "name": "stdout",
     "output_type": "stream",
     "text": [
      "Epoch 4 [0/122] | Valid Loss: 0.9700 | Elapse: 0.05s\n",
      "Epoch 4 [50/122] | Valid Loss: 1.1451 | Elapse: 2.17s\n",
      "Epoch 4 [100/122] | Valid Loss: 1.1358 | Elapse: 4.29s\n"
     ]
    },
    {
     "name": "stderr",
     "output_type": "stream",
     "text": [
      "----------------------------------------------------------------------------------------------------\n",
      "Epoch 4 - Average Loss: (train) 1.1793; (valid) 1.1333 | Time: 30.35s\n",
      "Best model found in epoch 4 | valid loss: 1.1333\n"
     ]
    },
    {
     "name": "stdout",
     "output_type": "stream",
     "text": [
      "Epoch 4 [121/122] | Valid Loss: 1.1333 | Elapse: 5.16s\n"
     ]
    },
    {
     "data": {
      "application/vnd.jupyter.widget-view+json": {
       "model_id": "7b0658490a9f48e588c456f2ba6330ca",
       "version_major": 2,
       "version_minor": 0
      },
      "text/plain": [
       "Train [4]:   0%|          | 0/509 [00:00<?, ?batch/s]"
      ]
     },
     "metadata": {},
     "output_type": "display_data"
    },
    {
     "name": "stdout",
     "output_type": "stream",
     "text": [
      "Epoch 5 [0/509] | Train Loss: 1.0207 Grad: 104515.5625 LR: 9.1753e-05 | Elapse: 0.05s\n",
      "Epoch 5 [50/509] | Train Loss: 1.1647 Grad: 95326.1484 LR: 9.1113e-05 | Elapse: 2.54s\n",
      "Epoch 5 [100/509] | Train Loss: 1.1506 Grad: 204274.0781 LR: 9.0452e-05 | Elapse: 5.03s\n",
      "Epoch 5 [150/509] | Train Loss: 1.1632 Grad: 89965.6641 LR: 8.9770e-05 | Elapse: 7.51s\n",
      "Epoch 5 [200/509] | Train Loss: 1.1675 Grad: 106974.2266 LR: 8.9067e-05 | Elapse: 9.99s\n",
      "Epoch 5 [250/509] | Train Loss: 1.1649 Grad: 114689.3281 LR: 8.8344e-05 | Elapse: 12.50s\n",
      "Epoch 5 [300/509] | Train Loss: 1.1630 Grad: 88189.5234 LR: 8.7600e-05 | Elapse: 14.99s\n",
      "Epoch 5 [350/509] | Train Loss: 1.1623 Grad: 107441.7266 LR: 8.6837e-05 | Elapse: 17.49s\n",
      "Epoch 5 [400/509] | Train Loss: 1.1615 Grad: 93182.4609 LR: 8.6055e-05 | Elapse: 19.99s\n",
      "Epoch 5 [450/509] | Train Loss: 1.1580 Grad: 133644.9375 LR: 8.5254e-05 | Elapse: 22.45s\n",
      "Epoch 5 [500/509] | Train Loss: 1.1542 Grad: 114074.0078 LR: 8.4435e-05 | Elapse: 24.94s\n",
      "Epoch 5 [508/509] | Train Loss: 1.1531 Grad: 118516.8906 LR: 8.4302e-05 | Elapse: 25.33s\n"
     ]
    },
    {
     "data": {
      "application/vnd.jupyter.widget-view+json": {
       "model_id": "73ea4a5fa73842578a2db48dbc0c279a",
       "version_major": 2,
       "version_minor": 0
      },
      "text/plain": [
       "Valid [4]:   0%|          | 0/122 [00:00<?, ?batch/s]"
      ]
     },
     "metadata": {},
     "output_type": "display_data"
    },
    {
     "name": "stdout",
     "output_type": "stream",
     "text": [
      "Epoch 5 [0/122] | Valid Loss: 0.9398 | Elapse: 0.05s\n",
      "Epoch 5 [50/122] | Valid Loss: 1.1231 | Elapse: 2.17s\n",
      "Epoch 5 [100/122] | Valid Loss: 1.1146 | Elapse: 4.28s\n"
     ]
    },
    {
     "name": "stderr",
     "output_type": "stream",
     "text": [
      "----------------------------------------------------------------------------------------------------\n",
      "Epoch 5 - Average Loss: (train) 1.1531; (valid) 1.1122 | Time: 30.48s\n",
      "Best model found in epoch 5 | valid loss: 1.1122\n"
     ]
    },
    {
     "name": "stdout",
     "output_type": "stream",
     "text": [
      "Epoch 5 [121/122] | Valid Loss: 1.1122 | Elapse: 5.14s\n"
     ]
    },
    {
     "data": {
      "application/vnd.jupyter.widget-view+json": {
       "model_id": "fc36ce1bfbfe4bc68b1a924db00e7620",
       "version_major": 2,
       "version_minor": 0
      },
      "text/plain": [
       "Train [5]:   0%|          | 0/509 [00:00<?, ?batch/s]"
      ]
     },
     "metadata": {},
     "output_type": "display_data"
    },
    {
     "name": "stdout",
     "output_type": "stream",
     "text": [
      "Epoch 6 [0/509] | Train Loss: 1.0733 Grad: 102791.0391 LR: 8.4285e-05 | Elapse: 0.05s\n",
      "Epoch 6 [50/509] | Train Loss: 1.1461 Grad: 94840.4219 LR: 8.3444e-05 | Elapse: 2.53s\n",
      "Epoch 6 [100/509] | Train Loss: 1.1355 Grad: 210619.7344 LR: 8.2586e-05 | Elapse: 5.02s\n",
      "Epoch 6 [150/509] | Train Loss: 1.1444 Grad: 105239.4297 LR: 8.1711e-05 | Elapse: 7.47s\n",
      "Epoch 6 [200/509] | Train Loss: 1.1461 Grad: 104552.4219 LR: 8.0820e-05 | Elapse: 9.94s\n",
      "Epoch 6 [250/509] | Train Loss: 1.1416 Grad: 113483.1562 LR: 7.9912e-05 | Elapse: 12.41s\n",
      "Epoch 6 [300/509] | Train Loss: 1.1425 Grad: 95451.6875 LR: 7.8988e-05 | Elapse: 14.85s\n",
      "Epoch 6 [350/509] | Train Loss: 1.1415 Grad: 111094.0703 LR: 7.8050e-05 | Elapse: 17.34s\n",
      "Epoch 6 [400/509] | Train Loss: 1.1407 Grad: 99425.1250 LR: 7.7097e-05 | Elapse: 19.82s\n",
      "Epoch 6 [450/509] | Train Loss: 1.1383 Grad: 126616.0391 LR: 7.6129e-05 | Elapse: 22.29s\n",
      "Epoch 6 [500/509] | Train Loss: 1.1356 Grad: 113232.1875 LR: 7.5148e-05 | Elapse: 24.76s\n",
      "Epoch 6 [508/509] | Train Loss: 1.1349 Grad: 113095.8672 LR: 7.4990e-05 | Elapse: 25.17s\n"
     ]
    },
    {
     "data": {
      "application/vnd.jupyter.widget-view+json": {
       "model_id": "7950daeb07bd455e83e7418338cf9983",
       "version_major": 2,
       "version_minor": 0
      },
      "text/plain": [
       "Valid [5]:   0%|          | 0/122 [00:00<?, ?batch/s]"
      ]
     },
     "metadata": {},
     "output_type": "display_data"
    },
    {
     "name": "stdout",
     "output_type": "stream",
     "text": [
      "Epoch 6 [0/122] | Valid Loss: 0.9267 | Elapse: 0.05s\n",
      "Epoch 6 [50/122] | Valid Loss: 1.1079 | Elapse: 2.16s\n",
      "Epoch 6 [100/122] | Valid Loss: 1.0997 | Elapse: 4.28s\n"
     ]
    },
    {
     "name": "stderr",
     "output_type": "stream",
     "text": [
      "----------------------------------------------------------------------------------------------------\n",
      "Epoch 6 - Average Loss: (train) 1.1349; (valid) 1.0973 | Time: 30.31s\n",
      "Best model found in epoch 6 | valid loss: 1.0973\n"
     ]
    },
    {
     "name": "stdout",
     "output_type": "stream",
     "text": [
      "Epoch 6 [121/122] | Valid Loss: 1.0973 | Elapse: 5.15s\n"
     ]
    },
    {
     "data": {
      "application/vnd.jupyter.widget-view+json": {
       "model_id": "b612cc867c4049228acb29167d47f209",
       "version_major": 2,
       "version_minor": 0
      },
      "text/plain": [
       "Train [6]:   0%|          | 0/509 [00:00<?, ?batch/s]"
      ]
     },
     "metadata": {},
     "output_type": "display_data"
    },
    {
     "name": "stdout",
     "output_type": "stream",
     "text": [
      "Epoch 7 [0/509] | Train Loss: 1.0120 Grad: 99044.3594 LR: 7.4970e-05 | Elapse: 0.06s\n",
      "Epoch 7 [50/509] | Train Loss: 1.1179 Grad: 91424.6562 LR: 7.3974e-05 | Elapse: 2.53s\n",
      "Epoch 7 [100/509] | Train Loss: 1.1100 Grad: 199095.9531 LR: 7.2965e-05 | Elapse: 5.02s\n",
      "Epoch 7 [150/509] | Train Loss: 1.1212 Grad: 94648.1953 LR: 7.1944e-05 | Elapse: 7.52s\n",
      "Epoch 7 [200/509] | Train Loss: 1.1260 Grad: 101255.7891 LR: 7.0912e-05 | Elapse: 10.01s\n",
      "Epoch 7 [250/509] | Train Loss: 1.1252 Grad: 113073.2188 LR: 6.9869e-05 | Elapse: 12.50s\n",
      "Epoch 7 [300/509] | Train Loss: 1.1267 Grad: 87874.3906 LR: 6.8815e-05 | Elapse: 15.00s\n",
      "Epoch 7 [350/509] | Train Loss: 1.1268 Grad: 122461.5469 LR: 6.7751e-05 | Elapse: 17.46s\n",
      "Epoch 7 [400/509] | Train Loss: 1.1268 Grad: 98697.4844 LR: 6.6679e-05 | Elapse: 19.94s\n",
      "Epoch 7 [450/509] | Train Loss: 1.1250 Grad: 134331.0625 LR: 6.5597e-05 | Elapse: 22.43s\n",
      "Epoch 7 [500/509] | Train Loss: 1.1220 Grad: 108949.4766 LR: 6.4508e-05 | Elapse: 24.91s\n",
      "Epoch 7 [508/509] | Train Loss: 1.1214 Grad: 102561.8750 LR: 6.4333e-05 | Elapse: 25.31s\n"
     ]
    },
    {
     "data": {
      "application/vnd.jupyter.widget-view+json": {
       "model_id": "55fff72c741840c391a30a3b4ca3d50f",
       "version_major": 2,
       "version_minor": 0
      },
      "text/plain": [
       "Valid [6]:   0%|          | 0/122 [00:00<?, ?batch/s]"
      ]
     },
     "metadata": {},
     "output_type": "display_data"
    },
    {
     "name": "stdout",
     "output_type": "stream",
     "text": [
      "Epoch 7 [0/122] | Valid Loss: 0.9165 | Elapse: 0.05s\n",
      "Epoch 7 [50/122] | Valid Loss: 1.0938 | Elapse: 2.16s\n",
      "Epoch 7 [100/122] | Valid Loss: 1.0862 | Elapse: 4.27s\n"
     ]
    },
    {
     "name": "stderr",
     "output_type": "stream",
     "text": [
      "----------------------------------------------------------------------------------------------------\n",
      "Epoch 7 - Average Loss: (train) 1.1214; (valid) 1.0841 | Time: 30.45s\n",
      "Best model found in epoch 7 | valid loss: 1.0841\n"
     ]
    },
    {
     "name": "stdout",
     "output_type": "stream",
     "text": [
      "Epoch 7 [121/122] | Valid Loss: 1.0841 | Elapse: 5.14s\n"
     ]
    },
    {
     "data": {
      "application/vnd.jupyter.widget-view+json": {
       "model_id": "d4404c1b6d4c4c5dbb29cfe750b9fe32",
       "version_major": 2,
       "version_minor": 0
      },
      "text/plain": [
       "Train [7]:   0%|          | 0/509 [00:00<?, ?batch/s]"
      ]
     },
     "metadata": {},
     "output_type": "display_data"
    },
    {
     "name": "stdout",
     "output_type": "stream",
     "text": [
      "Epoch 8 [0/509] | Train Loss: 1.0004 Grad: 99488.5312 LR: 6.4311e-05 | Elapse: 0.05s\n",
      "Epoch 8 [50/509] | Train Loss: 1.1135 Grad: 97016.6328 LR: 6.3212e-05 | Elapse: 2.55s\n",
      "Epoch 8 [100/509] | Train Loss: 1.1037 Grad: 197304.8438 LR: 6.2107e-05 | Elapse: 5.04s\n",
      "Epoch 8 [150/509] | Train Loss: 1.1138 Grad: 93073.8281 LR: 6.0995e-05 | Elapse: 7.52s\n",
      "Epoch 8 [200/509] | Train Loss: 1.1169 Grad: 98417.3281 LR: 5.9878e-05 | Elapse: 9.99s\n",
      "Epoch 8 [250/509] | Train Loss: 1.1145 Grad: 116342.0703 LR: 5.8755e-05 | Elapse: 12.45s\n",
      "Epoch 8 [300/509] | Train Loss: 1.1159 Grad: 93743.8047 LR: 5.7628e-05 | Elapse: 14.94s\n",
      "Epoch 8 [350/509] | Train Loss: 1.1150 Grad: 111882.4219 LR: 5.6497e-05 | Elapse: 17.42s\n",
      "Epoch 8 [400/509] | Train Loss: 1.1135 Grad: 91709.2344 LR: 5.5362e-05 | Elapse: 19.88s\n",
      "Epoch 8 [450/509] | Train Loss: 1.1114 Grad: 130101.5625 LR: 5.4225e-05 | Elapse: 22.35s\n",
      "Epoch 8 [500/509] | Train Loss: 1.1093 Grad: 111641.3594 LR: 5.3086e-05 | Elapse: 24.80s\n",
      "Epoch 8 [508/509] | Train Loss: 1.1088 Grad: 106117.8359 LR: 5.2903e-05 | Elapse: 25.18s\n"
     ]
    },
    {
     "data": {
      "application/vnd.jupyter.widget-view+json": {
       "model_id": "0d64b7fb419e44659117d50fa4239b28",
       "version_major": 2,
       "version_minor": 0
      },
      "text/plain": [
       "Valid [7]:   0%|          | 0/122 [00:00<?, ?batch/s]"
      ]
     },
     "metadata": {},
     "output_type": "display_data"
    },
    {
     "name": "stdout",
     "output_type": "stream",
     "text": [
      "Epoch 8 [0/122] | Valid Loss: 0.9095 | Elapse: 0.05s\n",
      "Epoch 8 [50/122] | Valid Loss: 1.0833 | Elapse: 2.16s\n",
      "Epoch 8 [100/122] | Valid Loss: 1.0764 | Elapse: 4.28s\n"
     ]
    },
    {
     "name": "stderr",
     "output_type": "stream",
     "text": [
      "----------------------------------------------------------------------------------------------------\n",
      "Epoch 8 - Average Loss: (train) 1.1088; (valid) 1.0746 | Time: 30.32s\n",
      "Best model found in epoch 8 | valid loss: 1.0746\n"
     ]
    },
    {
     "name": "stdout",
     "output_type": "stream",
     "text": [
      "Epoch 8 [121/122] | Valid Loss: 1.0746 | Elapse: 5.14s\n"
     ]
    },
    {
     "data": {
      "application/vnd.jupyter.widget-view+json": {
       "model_id": "1cd11fb84a494184aac9cc284881d732",
       "version_major": 2,
       "version_minor": 0
      },
      "text/plain": [
       "Train [8]:   0%|          | 0/509 [00:00<?, ?batch/s]"
      ]
     },
     "metadata": {},
     "output_type": "display_data"
    },
    {
     "name": "stdout",
     "output_type": "stream",
     "text": [
      "Epoch 9 [0/509] | Train Loss: 0.9679 Grad: 96351.8281 LR: 5.2880e-05 | Elapse: 0.05s\n",
      "Epoch 9 [50/509] | Train Loss: 1.0936 Grad: 96527.2344 LR: 5.1739e-05 | Elapse: 2.49s\n",
      "Epoch 9 [100/509] | Train Loss: 1.0879 Grad: 204047.0469 LR: 5.0597e-05 | Elapse: 4.95s\n",
      "Epoch 9 [150/509] | Train Loss: 1.0981 Grad: 96708.5781 LR: 4.9454e-05 | Elapse: 7.40s\n",
      "Epoch 9 [200/509] | Train Loss: 1.1039 Grad: 106930.6016 LR: 4.8312e-05 | Elapse: 9.86s\n",
      "Epoch 9 [250/509] | Train Loss: 1.1031 Grad: 112053.4688 LR: 4.7171e-05 | Elapse: 12.30s\n",
      "Epoch 9 [300/509] | Train Loss: 1.1049 Grad: 92681.8750 LR: 4.6031e-05 | Elapse: 14.74s\n",
      "Epoch 9 [350/509] | Train Loss: 1.1044 Grad: 103339.6016 LR: 4.4893e-05 | Elapse: 17.20s\n",
      "Epoch 9 [400/509] | Train Loss: 1.1045 Grad: 94381.7266 LR: 4.3758e-05 | Elapse: 19.65s\n",
      "Epoch 9 [450/509] | Train Loss: 1.1035 Grad: 135656.1250 LR: 4.2627e-05 | Elapse: 22.11s\n",
      "Epoch 9 [500/509] | Train Loss: 1.1011 Grad: 119629.0703 LR: 4.1499e-05 | Elapse: 24.60s\n",
      "Epoch 9 [508/509] | Train Loss: 1.1008 Grad: 113459.6250 LR: 4.1319e-05 | Elapse: 25.00s\n"
     ]
    },
    {
     "data": {
      "application/vnd.jupyter.widget-view+json": {
       "model_id": "fa86bff1b4014b2d921ad7558515b05b",
       "version_major": 2,
       "version_minor": 0
      },
      "text/plain": [
       "Valid [8]:   0%|          | 0/122 [00:00<?, ?batch/s]"
      ]
     },
     "metadata": {},
     "output_type": "display_data"
    },
    {
     "name": "stdout",
     "output_type": "stream",
     "text": [
      "Epoch 9 [0/122] | Valid Loss: 0.9038 | Elapse: 0.05s\n",
      "Epoch 9 [50/122] | Valid Loss: 1.0752 | Elapse: 2.16s\n",
      "Epoch 9 [100/122] | Valid Loss: 1.0689 | Elapse: 4.27s\n"
     ]
    },
    {
     "name": "stderr",
     "output_type": "stream",
     "text": [
      "----------------------------------------------------------------------------------------------------\n",
      "Epoch 9 - Average Loss: (train) 1.1008; (valid) 1.0673 | Time: 30.14s\n",
      "Best model found in epoch 9 | valid loss: 1.0673\n"
     ]
    },
    {
     "name": "stdout",
     "output_type": "stream",
     "text": [
      "Epoch 9 [121/122] | Valid Loss: 1.0673 | Elapse: 5.14s\n"
     ]
    },
    {
     "data": {
      "application/vnd.jupyter.widget-view+json": {
       "model_id": "8b4bb13f07994a96b71130fe504befbe",
       "version_major": 2,
       "version_minor": 0
      },
      "text/plain": [
       "Train [9]:   0%|          | 0/509 [00:00<?, ?batch/s]"
      ]
     },
     "metadata": {},
     "output_type": "display_data"
    },
    {
     "name": "stdout",
     "output_type": "stream",
     "text": [
      "Epoch 10 [0/509] | Train Loss: 1.0090 Grad: 104497.1250 LR: 4.1296e-05 | Elapse: 0.05s\n",
      "Epoch 10 [50/509] | Train Loss: 1.0882 Grad: 92319.0391 LR: 4.0173e-05 | Elapse: 2.52s\n",
      "Epoch 10 [100/509] | Train Loss: 1.0839 Grad: 195323.6250 LR: 3.9056e-05 | Elapse: 5.00s\n",
      "Epoch 10 [150/509] | Train Loss: 1.0930 Grad: 91398.5703 LR: 3.7944e-05 | Elapse: 7.46s\n",
      "Epoch 10 [200/509] | Train Loss: 1.0983 Grad: 106526.6719 LR: 3.6839e-05 | Elapse: 9.95s\n",
      "Epoch 10 [250/509] | Train Loss: 1.0976 Grad: 118944.4766 LR: 3.5740e-05 | Elapse: 12.42s\n",
      "Epoch 10 [300/509] | Train Loss: 1.0991 Grad: 89965.4766 LR: 3.4649e-05 | Elapse: 14.91s\n",
      "Epoch 10 [350/509] | Train Loss: 1.0979 Grad: 112268.4219 LR: 3.3566e-05 | Elapse: 17.38s\n",
      "Epoch 10 [400/509] | Train Loss: 1.0982 Grad: 101637.3438 LR: 3.2492e-05 | Elapse: 19.82s\n",
      "Epoch 10 [450/509] | Train Loss: 1.0966 Grad: 132285.7656 LR: 3.1426e-05 | Elapse: 22.29s\n",
      "Epoch 10 [500/509] | Train Loss: 1.0954 Grad: 127280.4688 LR: 3.0371e-05 | Elapse: 24.77s\n",
      "Epoch 10 [508/509] | Train Loss: 1.0953 Grad: 100089.2656 LR: 3.0203e-05 | Elapse: 25.17s\n"
     ]
    },
    {
     "data": {
      "application/vnd.jupyter.widget-view+json": {
       "model_id": "b77db6f092a949e58282be5d0a14e44d",
       "version_major": 2,
       "version_minor": 0
      },
      "text/plain": [
       "Valid [9]:   0%|          | 0/122 [00:00<?, ?batch/s]"
      ]
     },
     "metadata": {},
     "output_type": "display_data"
    },
    {
     "name": "stdout",
     "output_type": "stream",
     "text": [
      "Epoch 10 [0/122] | Valid Loss: 0.9044 | Elapse: 0.05s\n",
      "Epoch 10 [50/122] | Valid Loss: 1.0694 | Elapse: 2.17s\n",
      "Epoch 10 [100/122] | Valid Loss: 1.0636 | Elapse: 4.30s\n"
     ]
    },
    {
     "name": "stderr",
     "output_type": "stream",
     "text": [
      "----------------------------------------------------------------------------------------------------\n",
      "Epoch 10 - Average Loss: (train) 1.0953; (valid) 1.0620 | Time: 30.33s\n",
      "Best model found in epoch 10 | valid loss: 1.0620\n"
     ]
    },
    {
     "name": "stdout",
     "output_type": "stream",
     "text": [
      "Epoch 10 [121/122] | Valid Loss: 1.0620 | Elapse: 5.16s\n"
     ]
    },
    {
     "data": {
      "application/vnd.jupyter.widget-view+json": {
       "model_id": "95662d6aa1df45989efcef1ab7f0bef3",
       "version_major": 2,
       "version_minor": 0
      },
      "text/plain": [
       "Train [10]:   0%|          | 0/509 [00:00<?, ?batch/s]"
      ]
     },
     "metadata": {},
     "output_type": "display_data"
    },
    {
     "name": "stdout",
     "output_type": "stream",
     "text": [
      "Epoch 11 [0/509] | Train Loss: 0.9988 Grad: 104627.2656 LR: 3.0182e-05 | Elapse: 0.05s\n",
      "Epoch 11 [50/509] | Train Loss: 1.0911 Grad: 100794.9062 LR: 2.9139e-05 | Elapse: 2.54s\n",
      "Epoch 11 [100/509] | Train Loss: 1.0813 Grad: 201013.2188 LR: 2.8106e-05 | Elapse: 5.02s\n",
      "Epoch 11 [150/509] | Train Loss: 1.0881 Grad: 93029.7266 LR: 2.7085e-05 | Elapse: 7.50s\n",
      "Epoch 11 [200/509] | Train Loss: 1.0940 Grad: 112949.9609 LR: 2.6076e-05 | Elapse: 9.95s\n",
      "Epoch 11 [250/509] | Train Loss: 1.0929 Grad: 115725.4297 LR: 2.5079e-05 | Elapse: 12.39s\n",
      "Epoch 11 [300/509] | Train Loss: 1.0961 Grad: 89572.6406 LR: 2.4096e-05 | Elapse: 14.85s\n",
      "Epoch 11 [350/509] | Train Loss: 1.0962 Grad: 116922.3594 LR: 2.3126e-05 | Elapse: 17.33s\n",
      "Epoch 11 [400/509] | Train Loss: 1.0964 Grad: 102542.2812 LR: 2.2170e-05 | Elapse: 19.83s\n",
      "Epoch 11 [450/509] | Train Loss: 1.0948 Grad: 137554.2969 LR: 2.1229e-05 | Elapse: 22.31s\n",
      "Epoch 11 [500/509] | Train Loss: 1.0928 Grad: 129002.2578 LR: 2.0302e-05 | Elapse: 24.83s\n",
      "Epoch 11 [508/509] | Train Loss: 1.0926 Grad: 107393.2812 LR: 2.0156e-05 | Elapse: 25.24s\n"
     ]
    },
    {
     "data": {
      "application/vnd.jupyter.widget-view+json": {
       "model_id": "fd162b4a813641c1b4829dabe016e790",
       "version_major": 2,
       "version_minor": 0
      },
      "text/plain": [
       "Valid [10]:   0%|          | 0/122 [00:00<?, ?batch/s]"
      ]
     },
     "metadata": {},
     "output_type": "display_data"
    },
    {
     "name": "stdout",
     "output_type": "stream",
     "text": [
      "Epoch 11 [0/122] | Valid Loss: 0.9045 | Elapse: 0.05s\n",
      "Epoch 11 [50/122] | Valid Loss: 1.0658 | Elapse: 2.18s\n",
      "Epoch 11 [100/122] | Valid Loss: 1.0598 | Elapse: 4.30s\n"
     ]
    },
    {
     "name": "stderr",
     "output_type": "stream",
     "text": [
      "----------------------------------------------------------------------------------------------------\n",
      "Epoch 11 - Average Loss: (train) 1.0926; (valid) 1.0582 | Time: 30.41s\n",
      "Best model found in epoch 11 | valid loss: 1.0582\n"
     ]
    },
    {
     "name": "stdout",
     "output_type": "stream",
     "text": [
      "Epoch 11 [121/122] | Valid Loss: 1.0582 | Elapse: 5.17s\n"
     ]
    },
    {
     "data": {
      "application/vnd.jupyter.widget-view+json": {
       "model_id": "cc016da3d59e4e88bdc32557f734878d",
       "version_major": 2,
       "version_minor": 0
      },
      "text/plain": [
       "Train [11]:   0%|          | 0/509 [00:00<?, ?batch/s]"
      ]
     },
     "metadata": {},
     "output_type": "display_data"
    },
    {
     "name": "stdout",
     "output_type": "stream",
     "text": [
      "Epoch 12 [0/509] | Train Loss: 0.9444 Grad: 113115.1641 LR: 2.0137e-05 | Elapse: 0.05s\n",
      "Epoch 12 [50/509] | Train Loss: 1.0810 Grad: 88242.3750 LR: 1.9229e-05 | Elapse: 2.53s\n",
      "Epoch 12 [100/509] | Train Loss: 1.0736 Grad: 192299.4844 LR: 1.8338e-05 | Elapse: 5.01s\n",
      "Epoch 12 [150/509] | Train Loss: 1.0822 Grad: 93497.5625 LR: 1.7462e-05 | Elapse: 7.48s\n",
      "Epoch 12 [200/509] | Train Loss: 1.0884 Grad: 105670.3359 LR: 1.6604e-05 | Elapse: 9.96s\n",
      "Epoch 12 [250/509] | Train Loss: 1.0871 Grad: 116977.0781 LR: 1.5763e-05 | Elapse: 12.42s\n",
      "Epoch 12 [300/509] | Train Loss: 1.0906 Grad: 91254.3750 LR: 1.4940e-05 | Elapse: 14.93s\n",
      "Epoch 12 [350/509] | Train Loss: 1.0911 Grad: 101117.4609 LR: 1.4136e-05 | Elapse: 17.40s\n",
      "Epoch 12 [400/509] | Train Loss: 1.0923 Grad: 98163.4766 LR: 1.3350e-05 | Elapse: 19.87s\n",
      "Epoch 12 [450/509] | Train Loss: 1.0916 Grad: 136464.9844 LR: 1.2583e-05 | Elapse: 22.35s\n",
      "Epoch 12 [500/509] | Train Loss: 1.0904 Grad: 120614.5703 LR: 1.1836e-05 | Elapse: 24.83s\n",
      "Epoch 12 [508/509] | Train Loss: 1.0898 Grad: 105665.6797 LR: 1.1718e-05 | Elapse: 25.24s\n"
     ]
    },
    {
     "data": {
      "application/vnd.jupyter.widget-view+json": {
       "model_id": "1ce9c5f99b4c496cb89f7c220e231400",
       "version_major": 2,
       "version_minor": 0
      },
      "text/plain": [
       "Valid [11]:   0%|          | 0/122 [00:00<?, ?batch/s]"
      ]
     },
     "metadata": {},
     "output_type": "display_data"
    },
    {
     "name": "stdout",
     "output_type": "stream",
     "text": [
      "Epoch 12 [0/122] | Valid Loss: 0.9049 | Elapse: 0.05s\n",
      "Epoch 12 [50/122] | Valid Loss: 1.0635 | Elapse: 2.16s\n",
      "Epoch 12 [100/122] | Valid Loss: 1.0575 | Elapse: 4.28s\n"
     ]
    },
    {
     "name": "stderr",
     "output_type": "stream",
     "text": [
      "----------------------------------------------------------------------------------------------------\n",
      "Epoch 12 - Average Loss: (train) 1.0898; (valid) 1.0559 | Time: 30.40s\n",
      "Best model found in epoch 12 | valid loss: 1.0559\n"
     ]
    },
    {
     "name": "stdout",
     "output_type": "stream",
     "text": [
      "Epoch 12 [121/122] | Valid Loss: 1.0559 | Elapse: 5.15s\n"
     ]
    },
    {
     "data": {
      "application/vnd.jupyter.widget-view+json": {
       "model_id": "38c22ea2065542d290182736ca52372e",
       "version_major": 2,
       "version_minor": 0
      },
      "text/plain": [
       "Train [12]:   0%|          | 0/509 [00:00<?, ?batch/s]"
      ]
     },
     "metadata": {},
     "output_type": "display_data"
    },
    {
     "name": "stdout",
     "output_type": "stream",
     "text": [
      "Epoch 13 [0/509] | Train Loss: 1.0271 Grad: 111869.9844 LR: 1.1704e-05 | Elapse: 0.06s\n",
      "Epoch 13 [50/509] | Train Loss: 1.0810 Grad: 94002.1328 LR: 1.0980e-05 | Elapse: 2.55s\n",
      "Epoch 13 [100/509] | Train Loss: 1.0727 Grad: 182642.5000 LR: 1.0277e-05 | Elapse: 4.98s\n",
      "Epoch 13 [150/509] | Train Loss: 1.0835 Grad: 91100.2812 LR: 9.5947e-06 | Elapse: 7.44s\n",
      "Epoch 13 [200/509] | Train Loss: 1.0865 Grad: 108318.5469 LR: 8.9335e-06 | Elapse: 9.89s\n",
      "Epoch 13 [250/509] | Train Loss: 1.0854 Grad: 120884.1172 LR: 8.2937e-06 | Elapse: 12.34s\n",
      "Epoch 13 [300/509] | Train Loss: 1.0878 Grad: 93653.7031 LR: 7.6758e-06 | Elapse: 14.79s\n",
      "Epoch 13 [350/509] | Train Loss: 1.0873 Grad: 104232.9609 LR: 7.0799e-06 | Elapse: 17.22s\n",
      "Epoch 13 [400/509] | Train Loss: 1.0882 Grad: 101703.7422 LR: 6.5065e-06 | Elapse: 19.66s\n",
      "Epoch 13 [450/509] | Train Loss: 1.0877 Grad: 139738.7812 LR: 5.9559e-06 | Elapse: 22.10s\n",
      "Epoch 13 [500/509] | Train Loss: 1.0866 Grad: 123657.8594 LR: 5.4283e-06 | Elapse: 24.57s\n",
      "Epoch 13 [508/509] | Train Loss: 1.0861 Grad: 103432.7969 LR: 5.3460e-06 | Elapse: 24.96s\n"
     ]
    },
    {
     "data": {
      "application/vnd.jupyter.widget-view+json": {
       "model_id": "03189391b0f742068813525e44563ddd",
       "version_major": 2,
       "version_minor": 0
      },
      "text/plain": [
       "Valid [12]:   0%|          | 0/122 [00:00<?, ?batch/s]"
      ]
     },
     "metadata": {},
     "output_type": "display_data"
    },
    {
     "name": "stdout",
     "output_type": "stream",
     "text": [
      "Epoch 13 [0/122] | Valid Loss: 0.9051 | Elapse: 0.05s\n",
      "Epoch 13 [50/122] | Valid Loss: 1.0622 | Elapse: 2.16s\n",
      "Epoch 13 [100/122] | Valid Loss: 1.0563 | Elapse: 4.27s\n"
     ]
    },
    {
     "name": "stderr",
     "output_type": "stream",
     "text": [
      "----------------------------------------------------------------------------------------------------\n",
      "Epoch 13 - Average Loss: (train) 1.0861; (valid) 1.0547 | Time: 30.09s\n",
      "Best model found in epoch 13 | valid loss: 1.0547\n"
     ]
    },
    {
     "name": "stdout",
     "output_type": "stream",
     "text": [
      "Epoch 13 [121/122] | Valid Loss: 1.0547 | Elapse: 5.13s\n"
     ]
    },
    {
     "data": {
      "application/vnd.jupyter.widget-view+json": {
       "model_id": "02c947b85a694712acb670f9d56c1f24",
       "version_major": 2,
       "version_minor": 0
      },
      "text/plain": [
       "Train [13]:   0%|          | 0/509 [00:00<?, ?batch/s]"
      ]
     },
     "metadata": {},
     "output_type": "display_data"
    },
    {
     "name": "stdout",
     "output_type": "stream",
     "text": [
      "Epoch 14 [0/509] | Train Loss: 0.9660 Grad: 107337.8672 LR: 5.3357e-06 | Elapse: 0.05s\n",
      "Epoch 14 [50/509] | Train Loss: 1.0797 Grad: 100646.0469 LR: 4.8356e-06 | Elapse: 2.51s\n",
      "Epoch 14 [100/509] | Train Loss: 1.0738 Grad: 205479.2031 LR: 4.3591e-06 | Elapse: 4.95s\n",
      "Epoch 14 [150/509] | Train Loss: 1.0821 Grad: 86909.4766 LR: 3.9065e-06 | Elapse: 7.41s\n",
      "Epoch 14 [200/509] | Train Loss: 1.0875 Grad: 116165.3906 LR: 3.4780e-06 | Elapse: 9.88s\n",
      "Epoch 14 [250/509] | Train Loss: 1.0855 Grad: 124732.0156 LR: 3.0737e-06 | Elapse: 12.34s\n",
      "Epoch 14 [300/509] | Train Loss: 1.0896 Grad: 99316.0391 LR: 2.6940e-06 | Elapse: 14.78s\n",
      "Epoch 14 [350/509] | Train Loss: 1.0887 Grad: 103119.1875 LR: 2.3391e-06 | Elapse: 17.24s\n",
      "Epoch 14 [400/509] | Train Loss: 1.0887 Grad: 99015.6250 LR: 2.0090e-06 | Elapse: 19.67s\n",
      "Epoch 14 [450/509] | Train Loss: 1.0876 Grad: 125392.7578 LR: 1.7041e-06 | Elapse: 22.13s\n",
      "Epoch 14 [500/509] | Train Loss: 1.0870 Grad: 138378.3906 LR: 1.4244e-06 | Elapse: 24.55s\n",
      "Epoch 14 [508/509] | Train Loss: 1.0866 Grad: 98392.2500 LR: 1.3820e-06 | Elapse: 24.95s\n"
     ]
    },
    {
     "data": {
      "application/vnd.jupyter.widget-view+json": {
       "model_id": "97a0f794b3de40ce8bfb8b0e053feb56",
       "version_major": 2,
       "version_minor": 0
      },
      "text/plain": [
       "Valid [13]:   0%|          | 0/122 [00:00<?, ?batch/s]"
      ]
     },
     "metadata": {},
     "output_type": "display_data"
    },
    {
     "name": "stdout",
     "output_type": "stream",
     "text": [
      "Epoch 14 [0/122] | Valid Loss: 0.9053 | Elapse: 0.05s\n",
      "Epoch 14 [50/122] | Valid Loss: 1.0617 | Elapse: 2.16s\n",
      "Epoch 14 [100/122] | Valid Loss: 1.0559 | Elapse: 4.27s\n"
     ]
    },
    {
     "name": "stderr",
     "output_type": "stream",
     "text": [
      "----------------------------------------------------------------------------------------------------\n",
      "Epoch 14 - Average Loss: (train) 1.0866; (valid) 1.0543 | Time: 30.09s\n",
      "Best model found in epoch 14 | valid loss: 1.0543\n"
     ]
    },
    {
     "name": "stdout",
     "output_type": "stream",
     "text": [
      "Epoch 14 [121/122] | Valid Loss: 1.0543 | Elapse: 5.14s\n"
     ]
    },
    {
     "data": {
      "application/vnd.jupyter.widget-view+json": {
       "model_id": "c3613cb4f7544d89952fd4be4a990b81",
       "version_major": 2,
       "version_minor": 0
      },
      "text/plain": [
       "Train [14]:   0%|          | 0/509 [00:00<?, ?batch/s]"
      ]
     },
     "metadata": {},
     "output_type": "display_data"
    },
    {
     "name": "stdout",
     "output_type": "stream",
     "text": [
      "Epoch 15 [0/509] | Train Loss: 0.9157 Grad: 109543.3906 LR: 1.3767e-06 | Elapse: 0.05s\n",
      "Epoch 15 [50/509] | Train Loss: 1.0742 Grad: 93818.1328 LR: 1.1270e-06 | Elapse: 2.49s\n",
      "Epoch 15 [100/509] | Train Loss: 1.0703 Grad: 186128.7812 LR: 9.0278e-07 | Elapse: 4.95s\n",
      "Epoch 15 [150/509] | Train Loss: 1.0784 Grad: 89062.3438 LR: 7.0426e-07 | Elapse: 7.40s\n",
      "Epoch 15 [200/509] | Train Loss: 1.0844 Grad: 104498.5156 LR: 5.3150e-07 | Elapse: 9.85s\n",
      "Epoch 15 [250/509] | Train Loss: 1.0848 Grad: 115437.2031 LR: 3.8461e-07 | Elapse: 12.31s\n",
      "Epoch 15 [300/509] | Train Loss: 1.0877 Grad: 94940.9844 LR: 2.6366e-07 | Elapse: 14.76s\n",
      "Epoch 15 [350/509] | Train Loss: 1.0866 Grad: 110624.2109 LR: 1.6870e-07 | Elapse: 17.18s\n",
      "Epoch 15 [400/509] | Train Loss: 1.0872 Grad: 100763.0859 LR: 9.9792e-08 | Elapse: 19.60s\n",
      "Epoch 15 [450/509] | Train Loss: 1.0870 Grad: 130905.4453 LR: 5.6970e-08 | Elapse: 22.03s\n",
      "Epoch 15 [500/509] | Train Loss: 1.0856 Grad: 122728.4297 LR: 4.0256e-08 | Elapse: 24.47s\n",
      "Epoch 15 [508/509] | Train Loss: 1.0851 Grad: 105280.8750 LR: 4.0005e-08 | Elapse: 24.88s\n"
     ]
    },
    {
     "data": {
      "application/vnd.jupyter.widget-view+json": {
       "model_id": "0e5f1a80d35747738961face44caa1a1",
       "version_major": 2,
       "version_minor": 0
      },
      "text/plain": [
       "Valid [14]:   0%|          | 0/122 [00:00<?, ?batch/s]"
      ]
     },
     "metadata": {},
     "output_type": "display_data"
    },
    {
     "name": "stdout",
     "output_type": "stream",
     "text": [
      "Epoch 15 [0/122] | Valid Loss: 0.9051 | Elapse: 0.05s\n",
      "Epoch 15 [50/122] | Valid Loss: 1.0617 | Elapse: 2.16s\n",
      "Epoch 15 [100/122] | Valid Loss: 1.0558 | Elapse: 4.27s\n"
     ]
    },
    {
     "name": "stderr",
     "output_type": "stream",
     "text": [
      "----------------------------------------------------------------------------------------------------\n",
      "Epoch 15 - Average Loss: (train) 1.0851; (valid) 1.0543 | Time: 30.01s\n",
      "Best model found in epoch 15 | valid loss: 1.0543\n",
      "====================================================================================================\n",
      "Fold 1 Valid Loss: 1.0542757511138916\n",
      "Elapse: 7.57 min \n",
      "====================================================================================================\n",
      "- Second Stage -\n",
      "Use Checkpoint: PatchTSMixer_fold_1_stage_1.pth\n"
     ]
    },
    {
     "name": "stdout",
     "output_type": "stream",
     "text": [
      "Epoch 15 [121/122] | Valid Loss: 1.0543 | Elapse: 5.14s\n"
     ]
    },
    {
     "data": {
      "application/vnd.jupyter.widget-view+json": {
       "model_id": "02e1ff1ac99b4f478849739ac233aa89",
       "version_major": 2,
       "version_minor": 0
      },
      "text/plain": [
       "Train [0]:   0%|          | 0/193 [00:00<?, ?batch/s]"
      ]
     },
     "metadata": {},
     "output_type": "display_data"
    },
    {
     "name": "stdout",
     "output_type": "stream",
     "text": [
      "Epoch 1 [0/193] | Train Loss: 0.6620 Grad: 82092.0312 LR: 4.0028e-06 | Elapse: 0.05s\n",
      "Epoch 1 [50/193] | Train Loss: 0.7376 Grad: 93764.1641 LR: 1.1214e-05 | Elapse: 2.52s\n",
      "Epoch 1 [100/193] | Train Loss: 0.7282 Grad: 83645.9531 LR: 3.0220e-05 | Elapse: 4.97s\n",
      "Epoch 1 [150/193] | Train Loss: 0.7275 Grad: 67135.6719 LR: 5.5525e-05 | Elapse: 7.43s\n",
      "Epoch 1 [192/193] | Train Loss: 0.7189 Grad: 83079.0000 LR: 7.6301e-05 | Elapse: 9.48s\n"
     ]
    },
    {
     "data": {
      "application/vnd.jupyter.widget-view+json": {
       "model_id": "a3356c85b14345abac75f5780482a52f",
       "version_major": 2,
       "version_minor": 0
      },
      "text/plain": [
       "Valid [0]:   0%|          | 0/122 [00:00<?, ?batch/s]"
      ]
     },
     "metadata": {},
     "output_type": "display_data"
    },
    {
     "name": "stdout",
     "output_type": "stream",
     "text": [
      "Epoch 1 [0/122] | Valid Loss: 0.9746 | Elapse: 0.05s\n",
      "Epoch 1 [50/122] | Valid Loss: 1.1121 | Elapse: 2.18s\n",
      "Epoch 1 [100/122] | Valid Loss: 1.1116 | Elapse: 4.31s\n"
     ]
    },
    {
     "name": "stderr",
     "output_type": "stream",
     "text": [
      "----------------------------------------------------------------------------------------------------\n",
      "Epoch 1 - Average Loss: (train) 0.7189; (valid) 1.1109 | Time: 14.66s\n",
      "Best model found in epoch 1 | valid loss: 1.1109\n"
     ]
    },
    {
     "name": "stdout",
     "output_type": "stream",
     "text": [
      "Epoch 1 [121/122] | Valid Loss: 1.1109 | Elapse: 5.18s\n"
     ]
    },
    {
     "data": {
      "application/vnd.jupyter.widget-view+json": {
       "model_id": "e72944c6025845d69806dc271725ce98",
       "version_major": 2,
       "version_minor": 0
      },
      "text/plain": [
       "Train [1]:   0%|          | 0/193 [00:00<?, ?batch/s]"
      ]
     },
     "metadata": {},
     "output_type": "display_data"
    },
    {
     "name": "stdout",
     "output_type": "stream",
     "text": [
      "Epoch 2 [0/193] | Train Loss: 0.6064 Grad: 61765.1602 LR: 7.6750e-05 | Elapse: 0.05s\n",
      "Epoch 2 [50/193] | Train Loss: 0.6927 Grad: 89488.4688 LR: 9.4474e-05 | Elapse: 2.55s\n",
      "Epoch 2 [100/193] | Train Loss: 0.6925 Grad: 71857.0859 LR: 9.9999e-05 | Elapse: 5.05s\n",
      "Epoch 2 [150/193] | Train Loss: 0.6973 Grad: 61589.9023 LR: 9.9888e-05 | Elapse: 7.52s\n",
      "Epoch 2 [192/193] | Train Loss: 0.6927 Grad: 80915.1172 LR: 9.9655e-05 | Elapse: 9.58s\n"
     ]
    },
    {
     "data": {
      "application/vnd.jupyter.widget-view+json": {
       "model_id": "2f4f7b3cc1a44c2d95e6c95d893e6cca",
       "version_major": 2,
       "version_minor": 0
      },
      "text/plain": [
       "Valid [1]:   0%|          | 0/122 [00:00<?, ?batch/s]"
      ]
     },
     "metadata": {},
     "output_type": "display_data"
    },
    {
     "name": "stdout",
     "output_type": "stream",
     "text": [
      "Epoch 2 [0/122] | Valid Loss: 0.9983 | Elapse: 0.05s\n",
      "Epoch 2 [50/122] | Valid Loss: 1.1375 | Elapse: 2.18s\n",
      "Epoch 2 [100/122] | Valid Loss: 1.1368 | Elapse: 4.31s\n"
     ]
    },
    {
     "name": "stderr",
     "output_type": "stream",
     "text": [
      "----------------------------------------------------------------------------------------------------\n",
      "Epoch 2 - Average Loss: (train) 0.6927; (valid) 1.1362 | Time: 14.77s\n"
     ]
    },
    {
     "name": "stdout",
     "output_type": "stream",
     "text": [
      "Epoch 2 [121/122] | Valid Loss: 1.1362 | Elapse: 5.18s\n"
     ]
    },
    {
     "data": {
      "application/vnd.jupyter.widget-view+json": {
       "model_id": "db03099ad18c4c6ba020d0de6a7305da",
       "version_major": 2,
       "version_minor": 0
      },
      "text/plain": [
       "Train [2]:   0%|          | 0/193 [00:00<?, ?batch/s]"
      ]
     },
     "metadata": {},
     "output_type": "display_data"
    },
    {
     "name": "stdout",
     "output_type": "stream",
     "text": [
      "Epoch 3 [0/193] | Train Loss: 0.6342 Grad: 55863.2539 LR: 9.9648e-05 | Elapse: 0.05s\n",
      "Epoch 3 [50/193] | Train Loss: 0.6894 Grad: 85491.3828 LR: 9.9201e-05 | Elapse: 2.52s\n",
      "Epoch 3 [100/193] | Train Loss: 0.6897 Grad: 74385.2578 LR: 9.8575e-05 | Elapse: 5.00s\n",
      "Epoch 3 [150/193] | Train Loss: 0.6929 Grad: 62821.8477 LR: 9.7773e-05 | Elapse: 7.46s\n",
      "Epoch 3 [192/193] | Train Loss: 0.6891 Grad: 76138.7891 LR: 9.6965e-05 | Elapse: 9.53s\n"
     ]
    },
    {
     "data": {
      "application/vnd.jupyter.widget-view+json": {
       "model_id": "f71562cc38ab408ca73a188b602191ae",
       "version_major": 2,
       "version_minor": 0
      },
      "text/plain": [
       "Valid [2]:   0%|          | 0/122 [00:00<?, ?batch/s]"
      ]
     },
     "metadata": {},
     "output_type": "display_data"
    },
    {
     "name": "stdout",
     "output_type": "stream",
     "text": [
      "Epoch 3 [0/122] | Valid Loss: 1.0019 | Elapse: 0.05s\n",
      "Epoch 3 [50/122] | Valid Loss: 1.1462 | Elapse: 2.18s\n",
      "Epoch 3 [100/122] | Valid Loss: 1.1459 | Elapse: 4.30s\n"
     ]
    },
    {
     "name": "stderr",
     "output_type": "stream",
     "text": [
      "----------------------------------------------------------------------------------------------------\n",
      "Epoch 3 - Average Loss: (train) 0.6891; (valid) 1.1453 | Time: 14.71s\n"
     ]
    },
    {
     "name": "stdout",
     "output_type": "stream",
     "text": [
      "Epoch 3 [121/122] | Valid Loss: 1.1453 | Elapse: 5.17s\n"
     ]
    },
    {
     "data": {
      "application/vnd.jupyter.widget-view+json": {
       "model_id": "e866adc1370c4a89bad1aeaf3cab8f73",
       "version_major": 2,
       "version_minor": 0
      },
      "text/plain": [
       "Train [3]:   0%|          | 0/193 [00:00<?, ?batch/s]"
      ]
     },
     "metadata": {},
     "output_type": "display_data"
    },
    {
     "name": "stdout",
     "output_type": "stream",
     "text": [
      "Epoch 4 [0/193] | Train Loss: 0.6187 Grad: 52330.9102 LR: 9.6944e-05 | Elapse: 0.05s\n",
      "Epoch 4 [50/193] | Train Loss: 0.6813 Grad: 82966.6250 LR: 9.5822e-05 | Elapse: 2.52s\n",
      "Epoch 4 [100/193] | Train Loss: 0.6789 Grad: 69602.9453 LR: 9.4534e-05 | Elapse: 5.01s\n",
      "Epoch 4 [150/193] | Train Loss: 0.6845 Grad: 59540.4258 LR: 9.3084e-05 | Elapse: 7.48s\n",
      "Epoch 4 [192/193] | Train Loss: 0.6807 Grad: 74858.6641 LR: 9.1745e-05 | Elapse: 9.55s\n"
     ]
    },
    {
     "data": {
      "application/vnd.jupyter.widget-view+json": {
       "model_id": "51cab9cf92de4aabb322d0990094ac6c",
       "version_major": 2,
       "version_minor": 0
      },
      "text/plain": [
       "Valid [3]:   0%|          | 0/122 [00:00<?, ?batch/s]"
      ]
     },
     "metadata": {},
     "output_type": "display_data"
    },
    {
     "name": "stdout",
     "output_type": "stream",
     "text": [
      "Epoch 4 [0/122] | Valid Loss: 0.9978 | Elapse: 0.05s\n",
      "Epoch 4 [50/122] | Valid Loss: 1.1434 | Elapse: 2.18s\n",
      "Epoch 4 [100/122] | Valid Loss: 1.1435 | Elapse: 4.30s\n"
     ]
    },
    {
     "name": "stderr",
     "output_type": "stream",
     "text": [
      "----------------------------------------------------------------------------------------------------\n",
      "Epoch 4 - Average Loss: (train) 0.6807; (valid) 1.1430 | Time: 14.72s\n"
     ]
    },
    {
     "name": "stdout",
     "output_type": "stream",
     "text": [
      "Epoch 4 [121/122] | Valid Loss: 1.1430 | Elapse: 5.17s\n"
     ]
    },
    {
     "data": {
      "application/vnd.jupyter.widget-view+json": {
       "model_id": "6d7b035317f34407afab822ca918f63e",
       "version_major": 2,
       "version_minor": 0
      },
      "text/plain": [
       "Train [4]:   0%|          | 0/193 [00:00<?, ?batch/s]"
      ]
     },
     "metadata": {},
     "output_type": "display_data"
    },
    {
     "name": "stdout",
     "output_type": "stream",
     "text": [
      "Epoch 5 [0/193] | Train Loss: 0.6271 Grad: 58946.7070 LR: 9.1711e-05 | Elapse: 0.05s\n",
      "Epoch 5 [50/193] | Train Loss: 0.6790 Grad: 73115.3672 LR: 8.9975e-05 | Elapse: 2.53s\n",
      "Epoch 5 [100/193] | Train Loss: 0.6786 Grad: 66441.6484 LR: 8.8093e-05 | Elapse: 5.04s\n",
      "Epoch 5 [150/193] | Train Loss: 0.6825 Grad: 59857.8438 LR: 8.6073e-05 | Elapse: 7.53s\n",
      "Epoch 5 [192/193] | Train Loss: 0.6794 Grad: 74641.4922 LR: 8.4274e-05 | Elapse: 9.66s\n"
     ]
    },
    {
     "data": {
      "application/vnd.jupyter.widget-view+json": {
       "model_id": "da471d97b2a942f3bc6952cd1b14343f",
       "version_major": 2,
       "version_minor": 0
      },
      "text/plain": [
       "Valid [4]:   0%|          | 0/122 [00:00<?, ?batch/s]"
      ]
     },
     "metadata": {},
     "output_type": "display_data"
    },
    {
     "name": "stdout",
     "output_type": "stream",
     "text": [
      "Epoch 5 [0/122] | Valid Loss: 0.9970 | Elapse: 0.06s\n",
      "Epoch 5 [50/122] | Valid Loss: 1.1454 | Elapse: 2.20s\n",
      "Epoch 5 [100/122] | Valid Loss: 1.1459 | Elapse: 4.38s\n"
     ]
    },
    {
     "name": "stderr",
     "output_type": "stream",
     "text": [
      "----------------------------------------------------------------------------------------------------\n",
      "Epoch 5 - Average Loss: (train) 0.6794; (valid) 1.1454 | Time: 14.91s\n"
     ]
    },
    {
     "name": "stdout",
     "output_type": "stream",
     "text": [
      "Epoch 5 [121/122] | Valid Loss: 1.1454 | Elapse: 5.25s\n"
     ]
    },
    {
     "data": {
      "application/vnd.jupyter.widget-view+json": {
       "model_id": "407ebae3378a4020b1abd74f878d1f46",
       "version_major": 2,
       "version_minor": 0
      },
      "text/plain": [
       "Train [5]:   0%|          | 0/193 [00:00<?, ?batch/s]"
      ]
     },
     "metadata": {},
     "output_type": "display_data"
    },
    {
     "name": "stdout",
     "output_type": "stream",
     "text": [
      "Epoch 6 [0/193] | Train Loss: 0.6285 Grad: 54371.9023 LR: 8.4231e-05 | Elapse: 0.05s\n",
      "Epoch 6 [50/193] | Train Loss: 0.6822 Grad: 79155.2969 LR: 8.1973e-05 | Elapse: 2.53s\n",
      "Epoch 6 [100/193] | Train Loss: 0.6806 Grad: 70561.9688 LR: 7.9599e-05 | Elapse: 4.99s\n",
      "Epoch 6 [150/193] | Train Loss: 0.6835 Grad: 65224.0195 LR: 7.7118e-05 | Elapse: 7.46s\n",
      "Epoch 6 [192/193] | Train Loss: 0.6795 Grad: 78056.5547 LR: 7.4958e-05 | Elapse: 9.53s\n"
     ]
    },
    {
     "data": {
      "application/vnd.jupyter.widget-view+json": {
       "model_id": "6f6bfe46275a4c8fab8b623d20f7e45d",
       "version_major": 2,
       "version_minor": 0
      },
      "text/plain": [
       "Valid [5]:   0%|          | 0/122 [00:00<?, ?batch/s]"
      ]
     },
     "metadata": {},
     "output_type": "display_data"
    },
    {
     "name": "stdout",
     "output_type": "stream",
     "text": [
      "Epoch 6 [0/122] | Valid Loss: 0.9921 | Elapse: 0.05s\n",
      "Epoch 6 [50/122] | Valid Loss: 1.1436 | Elapse: 2.19s\n",
      "Epoch 6 [100/122] | Valid Loss: 1.1434 | Elapse: 4.31s\n"
     ]
    },
    {
     "name": "stderr",
     "output_type": "stream",
     "text": [
      "----------------------------------------------------------------------------------------------------\n",
      "Epoch 6 - Average Loss: (train) 0.6795; (valid) 1.1428 | Time: 14.71s\n"
     ]
    },
    {
     "name": "stdout",
     "output_type": "stream",
     "text": [
      "Epoch 6 [121/122] | Valid Loss: 1.1428 | Elapse: 5.18s\n"
     ]
    },
    {
     "data": {
      "application/vnd.jupyter.widget-view+json": {
       "model_id": "71cbb6c3db104fe9ad86f86e87e50e3e",
       "version_major": 2,
       "version_minor": 0
      },
      "text/plain": [
       "Train [6]:   0%|          | 0/193 [00:00<?, ?batch/s]"
      ]
     },
     "metadata": {},
     "output_type": "display_data"
    },
    {
     "name": "stdout",
     "output_type": "stream",
     "text": [
      "Epoch 7 [0/193] | Train Loss: 0.6159 Grad: 51619.5820 LR: 7.4906e-05 | Elapse: 0.05s\n",
      "Epoch 7 [50/193] | Train Loss: 0.6734 Grad: 78889.0469 LR: 7.2249e-05 | Elapse: 2.55s\n",
      "Epoch 7 [100/193] | Train Loss: 0.6739 Grad: 75638.2969 LR: 6.9511e-05 | Elapse: 5.03s\n",
      "Epoch 7 [150/193] | Train Loss: 0.6805 Grad: 61060.8398 LR: 6.6703e-05 | Elapse: 7.53s\n",
      "Epoch 7 [192/193] | Train Loss: 0.6762 Grad: 82537.1562 LR: 6.4297e-05 | Elapse: 9.64s\n"
     ]
    },
    {
     "data": {
      "application/vnd.jupyter.widget-view+json": {
       "model_id": "a37645e5257440ec8f83dcf5371a158b",
       "version_major": 2,
       "version_minor": 0
      },
      "text/plain": [
       "Valid [6]:   0%|          | 0/122 [00:00<?, ?batch/s]"
      ]
     },
     "metadata": {},
     "output_type": "display_data"
    },
    {
     "name": "stdout",
     "output_type": "stream",
     "text": [
      "Epoch 7 [0/122] | Valid Loss: 0.9863 | Elapse: 0.05s\n",
      "Epoch 7 [50/122] | Valid Loss: 1.1360 | Elapse: 2.18s\n",
      "Epoch 7 [100/122] | Valid Loss: 1.1361 | Elapse: 4.31s\n"
     ]
    },
    {
     "name": "stderr",
     "output_type": "stream",
     "text": [
      "----------------------------------------------------------------------------------------------------\n",
      "Epoch 7 - Average Loss: (train) 0.6762; (valid) 1.1355 | Time: 14.82s\n"
     ]
    },
    {
     "name": "stdout",
     "output_type": "stream",
     "text": [
      "Epoch 7 [121/122] | Valid Loss: 1.1355 | Elapse: 5.18s\n"
     ]
    },
    {
     "data": {
      "application/vnd.jupyter.widget-view+json": {
       "model_id": "de3af1929b1949d6ae29ef7255b37493",
       "version_major": 2,
       "version_minor": 0
      },
      "text/plain": [
       "Train [7]:   0%|          | 0/193 [00:00<?, ?batch/s]"
      ]
     },
     "metadata": {},
     "output_type": "display_data"
    },
    {
     "name": "stdout",
     "output_type": "stream",
     "text": [
      "Epoch 8 [0/193] | Train Loss: 0.5986 Grad: 54318.0195 LR: 6.4239e-05 | Elapse: 0.05s\n",
      "Epoch 8 [50/193] | Train Loss: 0.6730 Grad: 76028.2188 LR: 6.1326e-05 | Elapse: 2.53s\n",
      "Epoch 8 [100/193] | Train Loss: 0.6740 Grad: 70565.7969 LR: 5.8372e-05 | Elapse: 5.00s\n",
      "Epoch 8 [150/193] | Train Loss: 0.6782 Grad: 62263.5625 LR: 5.5388e-05 | Elapse: 7.48s\n",
      "Epoch 8 [192/193] | Train Loss: 0.6745 Grad: 78100.1094 LR: 5.2866e-05 | Elapse: 9.57s\n"
     ]
    },
    {
     "data": {
      "application/vnd.jupyter.widget-view+json": {
       "model_id": "7962a2c5f5af4d6e8eaa1221858df37c",
       "version_major": 2,
       "version_minor": 0
      },
      "text/plain": [
       "Valid [7]:   0%|          | 0/122 [00:00<?, ?batch/s]"
      ]
     },
     "metadata": {},
     "output_type": "display_data"
    },
    {
     "name": "stdout",
     "output_type": "stream",
     "text": [
      "Epoch 8 [0/122] | Valid Loss: 0.9861 | Elapse: 0.05s\n",
      "Epoch 8 [50/122] | Valid Loss: 1.1359 | Elapse: 2.22s\n",
      "Epoch 8 [100/122] | Valid Loss: 1.1362 | Elapse: 4.34s\n"
     ]
    },
    {
     "name": "stderr",
     "output_type": "stream",
     "text": [
      "----------------------------------------------------------------------------------------------------\n",
      "Epoch 8 - Average Loss: (train) 0.6745; (valid) 1.1356 | Time: 14.79s\n"
     ]
    },
    {
     "name": "stdout",
     "output_type": "stream",
     "text": [
      "Epoch 8 [121/122] | Valid Loss: 1.1356 | Elapse: 5.21s\n"
     ]
    },
    {
     "data": {
      "application/vnd.jupyter.widget-view+json": {
       "model_id": "4216214b65c044e195075685036c3739",
       "version_major": 2,
       "version_minor": 0
      },
      "text/plain": [
       "Train [8]:   0%|          | 0/193 [00:00<?, ?batch/s]"
      ]
     },
     "metadata": {},
     "output_type": "display_data"
    },
    {
     "name": "stdout",
     "output_type": "stream",
     "text": [
      "Epoch 9 [0/193] | Train Loss: 0.6047 Grad: 55385.2031 LR: 5.2806e-05 | Elapse: 0.06s\n",
      "Epoch 9 [50/193] | Train Loss: 0.6709 Grad: 73881.4688 LR: 4.9794e-05 | Elapse: 2.57s\n",
      "Epoch 9 [100/193] | Train Loss: 0.6704 Grad: 66222.2266 LR: 4.6783e-05 | Elapse: 5.03s\n",
      "Epoch 9 [150/193] | Train Loss: 0.6765 Grad: 56603.4766 LR: 4.3784e-05 | Elapse: 7.50s\n",
      "Epoch 9 [192/193] | Train Loss: 0.6724 Grad: 80052.4297 LR: 4.1282e-05 | Elapse: 9.57s\n"
     ]
    },
    {
     "data": {
      "application/vnd.jupyter.widget-view+json": {
       "model_id": "3115ddd5dedd413bbb75cd3a7a491c1e",
       "version_major": 2,
       "version_minor": 0
      },
      "text/plain": [
       "Valid [8]:   0%|          | 0/122 [00:00<?, ?batch/s]"
      ]
     },
     "metadata": {},
     "output_type": "display_data"
    },
    {
     "name": "stdout",
     "output_type": "stream",
     "text": [
      "Epoch 9 [0/122] | Valid Loss: 0.9845 | Elapse: 0.05s\n",
      "Epoch 9 [50/122] | Valid Loss: 1.1339 | Elapse: 2.17s\n",
      "Epoch 9 [100/122] | Valid Loss: 1.1336 | Elapse: 4.30s\n"
     ]
    },
    {
     "name": "stderr",
     "output_type": "stream",
     "text": [
      "----------------------------------------------------------------------------------------------------\n",
      "Epoch 9 - Average Loss: (train) 0.6724; (valid) 1.1330 | Time: 14.74s\n"
     ]
    },
    {
     "name": "stdout",
     "output_type": "stream",
     "text": [
      "Epoch 9 [121/122] | Valid Loss: 1.1330 | Elapse: 5.17s\n"
     ]
    },
    {
     "data": {
      "application/vnd.jupyter.widget-view+json": {
       "model_id": "de1842137e0f4db9986106c32711a3ff",
       "version_major": 2,
       "version_minor": 0
      },
      "text/plain": [
       "Train [9]:   0%|          | 0/193 [00:00<?, ?batch/s]"
      ]
     },
     "metadata": {},
     "output_type": "display_data"
    },
    {
     "name": "stdout",
     "output_type": "stream",
     "text": [
      "Epoch 10 [0/193] | Train Loss: 0.6035 Grad: 56584.9062 LR: 4.1222e-05 | Elapse: 0.05s\n",
      "Epoch 10 [50/193] | Train Loss: 0.6699 Grad: 73399.5703 LR: 3.8274e-05 | Elapse: 2.55s\n",
      "Epoch 10 [100/193] | Train Loss: 0.6695 Grad: 69730.3672 LR: 3.5368e-05 | Elapse: 5.01s\n",
      "Epoch 10 [150/193] | Train Loss: 0.6745 Grad: 61263.5977 LR: 3.2516e-05 | Elapse: 7.47s\n",
      "Epoch 10 [192/193] | Train Loss: 0.6707 Grad: 81832.1719 LR: 3.0169e-05 | Elapse: 9.53s\n"
     ]
    },
    {
     "data": {
      "application/vnd.jupyter.widget-view+json": {
       "model_id": "6b9b971f9d144775a5d4c7e606c45e6e",
       "version_major": 2,
       "version_minor": 0
      },
      "text/plain": [
       "Valid [9]:   0%|          | 0/122 [00:00<?, ?batch/s]"
      ]
     },
     "metadata": {},
     "output_type": "display_data"
    },
    {
     "name": "stdout",
     "output_type": "stream",
     "text": [
      "Epoch 10 [0/122] | Valid Loss: 0.9859 | Elapse: 0.05s\n",
      "Epoch 10 [50/122] | Valid Loss: 1.1349 | Elapse: 2.18s\n",
      "Epoch 10 [100/122] | Valid Loss: 1.1349 | Elapse: 4.31s\n"
     ]
    },
    {
     "name": "stderr",
     "output_type": "stream",
     "text": [
      "----------------------------------------------------------------------------------------------------\n",
      "Epoch 10 - Average Loss: (train) 0.6707; (valid) 1.1343 | Time: 14.71s\n"
     ]
    },
    {
     "name": "stdout",
     "output_type": "stream",
     "text": [
      "Epoch 10 [121/122] | Valid Loss: 1.1343 | Elapse: 5.18s\n"
     ]
    },
    {
     "data": {
      "application/vnd.jupyter.widget-view+json": {
       "model_id": "37dd33666b3548ac971d2158b6ec7c12",
       "version_major": 2,
       "version_minor": 0
      },
      "text/plain": [
       "Train [10]:   0%|          | 0/193 [00:00<?, ?batch/s]"
      ]
     },
     "metadata": {},
     "output_type": "display_data"
    },
    {
     "name": "stdout",
     "output_type": "stream",
     "text": [
      "Epoch 11 [0/193] | Train Loss: 0.5973 Grad: 52460.3320 LR: 3.0113e-05 | Elapse: 0.05s\n",
      "Epoch 11 [50/193] | Train Loss: 0.6681 Grad: 71023.4219 LR: 2.7387e-05 | Elapse: 2.53s\n",
      "Epoch 11 [100/193] | Train Loss: 0.6674 Grad: 80110.7656 LR: 2.4744e-05 | Elapse: 4.98s\n",
      "Epoch 11 [150/193] | Train Loss: 0.6735 Grad: 58442.5859 LR: 2.2192e-05 | Elapse: 7.43s\n",
      "Epoch 11 [192/193] | Train Loss: 0.6696 Grad: 76920.9219 LR: 2.0126e-05 | Elapse: 9.50s\n"
     ]
    },
    {
     "data": {
      "application/vnd.jupyter.widget-view+json": {
       "model_id": "85379e172ee142e68b2472a47832afbe",
       "version_major": 2,
       "version_minor": 0
      },
      "text/plain": [
       "Valid [10]:   0%|          | 0/122 [00:00<?, ?batch/s]"
      ]
     },
     "metadata": {},
     "output_type": "display_data"
    },
    {
     "name": "stdout",
     "output_type": "stream",
     "text": [
      "Epoch 11 [0/122] | Valid Loss: 0.9861 | Elapse: 0.05s\n",
      "Epoch 11 [50/122] | Valid Loss: 1.1344 | Elapse: 2.18s\n",
      "Epoch 11 [100/122] | Valid Loss: 1.1346 | Elapse: 4.31s\n"
     ]
    },
    {
     "name": "stderr",
     "output_type": "stream",
     "text": [
      "----------------------------------------------------------------------------------------------------\n",
      "Epoch 11 - Average Loss: (train) 0.6696; (valid) 1.1342 | Time: 14.69s\n"
     ]
    },
    {
     "name": "stdout",
     "output_type": "stream",
     "text": [
      "Epoch 11 [121/122] | Valid Loss: 1.1342 | Elapse: 5.18s\n"
     ]
    },
    {
     "data": {
      "application/vnd.jupyter.widget-view+json": {
       "model_id": "d8c5809d79bc49b2a56595bdbe488cc2",
       "version_major": 2,
       "version_minor": 0
      },
      "text/plain": [
       "Train [11]:   0%|          | 0/193 [00:00<?, ?batch/s]"
      ]
     },
     "metadata": {},
     "output_type": "display_data"
    },
    {
     "name": "stdout",
     "output_type": "stream",
     "text": [
      "Epoch 12 [0/193] | Train Loss: 0.6096 Grad: 53488.2031 LR: 2.0077e-05 | Elapse: 0.05s\n",
      "Epoch 12 [50/193] | Train Loss: 0.6663 Grad: 71192.5781 LR: 1.7721e-05 | Elapse: 2.50s\n",
      "Epoch 12 [100/193] | Train Loss: 0.6669 Grad: 69791.7734 LR: 1.5481e-05 | Elapse: 4.97s\n",
      "Epoch 12 [150/193] | Train Loss: 0.6711 Grad: 60724.9883 LR: 1.3367e-05 | Elapse: 7.44s\n",
      "Epoch 12 [192/193] | Train Loss: 0.6672 Grad: 72829.1016 LR: 1.1694e-05 | Elapse: 9.53s\n"
     ]
    },
    {
     "data": {
      "application/vnd.jupyter.widget-view+json": {
       "model_id": "8f8d35931aef47478d12156607c55e47",
       "version_major": 2,
       "version_minor": 0
      },
      "text/plain": [
       "Valid [11]:   0%|          | 0/122 [00:00<?, ?batch/s]"
      ]
     },
     "metadata": {},
     "output_type": "display_data"
    },
    {
     "name": "stdout",
     "output_type": "stream",
     "text": [
      "Epoch 12 [0/122] | Valid Loss: 0.9876 | Elapse: 0.05s\n",
      "Epoch 12 [50/122] | Valid Loss: 1.1325 | Elapse: 2.18s\n",
      "Epoch 12 [100/122] | Valid Loss: 1.1326 | Elapse: 4.31s\n"
     ]
    },
    {
     "name": "stderr",
     "output_type": "stream",
     "text": [
      "----------------------------------------------------------------------------------------------------\n",
      "Epoch 12 - Average Loss: (train) 0.6672; (valid) 1.1321 | Time: 14.71s\n"
     ]
    },
    {
     "name": "stdout",
     "output_type": "stream",
     "text": [
      "Epoch 12 [121/122] | Valid Loss: 1.1321 | Elapse: 5.18s\n"
     ]
    },
    {
     "data": {
      "application/vnd.jupyter.widget-view+json": {
       "model_id": "ecfcd18b51d04096b442147214ce8a20",
       "version_major": 2,
       "version_minor": 0
      },
      "text/plain": [
       "Train [12]:   0%|          | 0/193 [00:00<?, ?batch/s]"
      ]
     },
     "metadata": {},
     "output_type": "display_data"
    },
    {
     "name": "stdout",
     "output_type": "stream",
     "text": [
      "Epoch 13 [0/193] | Train Loss: 0.5937 Grad: 53432.1758 LR: 1.1656e-05 | Elapse: 0.05s\n",
      "Epoch 13 [50/193] | Train Loss: 0.6620 Grad: 73503.2031 LR: 9.7953e-06 | Elapse: 2.52s\n",
      "Epoch 13 [100/193] | Train Loss: 0.6620 Grad: 67447.2734 LR: 8.0811e-06 | Elapse: 5.00s\n",
      "Epoch 13 [150/193] | Train Loss: 0.6690 Grad: 67416.4844 LR: 6.5193e-06 | Elapse: 7.50s\n",
      "Epoch 13 [192/193] | Train Loss: 0.6668 Grad: 79706.8125 LR: 5.3292e-06 | Elapse: 9.59s\n"
     ]
    },
    {
     "data": {
      "application/vnd.jupyter.widget-view+json": {
       "model_id": "4bc72211e5b94170a0e42e7bc1ea8967",
       "version_major": 2,
       "version_minor": 0
      },
      "text/plain": [
       "Valid [12]:   0%|          | 0/122 [00:00<?, ?batch/s]"
      ]
     },
     "metadata": {},
     "output_type": "display_data"
    },
    {
     "name": "stdout",
     "output_type": "stream",
     "text": [
      "Epoch 13 [0/122] | Valid Loss: 0.9865 | Elapse: 0.05s\n",
      "Epoch 13 [50/122] | Valid Loss: 1.1307 | Elapse: 2.18s\n",
      "Epoch 13 [100/122] | Valid Loss: 1.1307 | Elapse: 4.31s\n"
     ]
    },
    {
     "name": "stderr",
     "output_type": "stream",
     "text": [
      "----------------------------------------------------------------------------------------------------\n",
      "Epoch 13 - Average Loss: (train) 0.6668; (valid) 1.1302 | Time: 14.77s\n"
     ]
    },
    {
     "name": "stdout",
     "output_type": "stream",
     "text": [
      "Epoch 13 [121/122] | Valid Loss: 1.1302 | Elapse: 5.18s\n"
     ]
    },
    {
     "data": {
      "application/vnd.jupyter.widget-view+json": {
       "model_id": "5da90f41e2b44e2bb78f4e797259ec74",
       "version_major": 2,
       "version_minor": 0
      },
      "text/plain": [
       "Train [13]:   0%|          | 0/193 [00:00<?, ?batch/s]"
      ]
     },
     "metadata": {},
     "output_type": "display_data"
    },
    {
     "name": "stdout",
     "output_type": "stream",
     "text": [
      "Epoch 14 [0/193] | Train Loss: 0.6262 Grad: 58630.3242 LR: 5.3023e-06 | Elapse: 0.05s\n",
      "Epoch 14 [50/193] | Train Loss: 0.6667 Grad: 73070.3516 LR: 4.0385e-06 | Elapse: 2.55s\n",
      "Epoch 14 [100/193] | Train Loss: 0.6665 Grad: 70739.5938 LR: 2.9418e-06 | Elapse: 5.04s\n",
      "Epoch 14 [150/193] | Train Loss: 0.6733 Grad: 65659.4766 LR: 2.0162e-06 | Elapse: 7.52s\n",
      "Epoch 14 [192/193] | Train Loss: 0.6695 Grad: 76971.6172 LR: 1.3734e-06 | Elapse: 9.61s\n"
     ]
    },
    {
     "data": {
      "application/vnd.jupyter.widget-view+json": {
       "model_id": "b7a4a3ec0e5a443ab64458e4def2fee7",
       "version_major": 2,
       "version_minor": 0
      },
      "text/plain": [
       "Valid [13]:   0%|          | 0/122 [00:00<?, ?batch/s]"
      ]
     },
     "metadata": {},
     "output_type": "display_data"
    },
    {
     "name": "stdout",
     "output_type": "stream",
     "text": [
      "Epoch 14 [0/122] | Valid Loss: 0.9864 | Elapse: 0.05s\n",
      "Epoch 14 [50/122] | Valid Loss: 1.1305 | Elapse: 2.19s\n",
      "Epoch 14 [100/122] | Valid Loss: 1.1305 | Elapse: 4.33s\n"
     ]
    },
    {
     "name": "stderr",
     "output_type": "stream",
     "text": [
      "----------------------------------------------------------------------------------------------------\n",
      "Epoch 14 - Average Loss: (train) 0.6695; (valid) 1.1300 | Time: 14.83s\n"
     ]
    },
    {
     "name": "stdout",
     "output_type": "stream",
     "text": [
      "Epoch 14 [121/122] | Valid Loss: 1.1300 | Elapse: 5.21s\n"
     ]
    },
    {
     "data": {
      "application/vnd.jupyter.widget-view+json": {
       "model_id": "975d0ce5208d4f88a77f9a520ce0af0e",
       "version_major": 2,
       "version_minor": 0
      },
      "text/plain": [
       "Train [14]:   0%|          | 0/193 [00:00<?, ?batch/s]"
      ]
     },
     "metadata": {},
     "output_type": "display_data"
    },
    {
     "name": "stdout",
     "output_type": "stream",
     "text": [
      "Epoch 15 [0/193] | Train Loss: 0.6055 Grad: 51652.0586 LR: 1.3596e-06 | Elapse: 0.06s\n",
      "Epoch 15 [50/193] | Train Loss: 0.6644 Grad: 69253.9453 LR: 7.6057e-07 | Elapse: 2.60s\n",
      "Epoch 15 [100/193] | Train Loss: 0.6645 Grad: 67296.1484 LR: 3.4056e-07 | Elapse: 5.08s\n",
      "Epoch 15 [150/193] | Train Loss: 0.6700 Grad: 62489.6250 LR: 1.0106e-07 | Elapse: 7.60s\n",
      "Epoch 15 [192/193] | Train Loss: 0.6665 Grad: 77531.7109 LR: 4.0036e-08 | Elapse: 9.71s\n"
     ]
    },
    {
     "data": {
      "application/vnd.jupyter.widget-view+json": {
       "model_id": "23a7e52ec5ca4553a3c45c7f37a4e0bd",
       "version_major": 2,
       "version_minor": 0
      },
      "text/plain": [
       "Valid [14]:   0%|          | 0/122 [00:00<?, ?batch/s]"
      ]
     },
     "metadata": {},
     "output_type": "display_data"
    },
    {
     "name": "stdout",
     "output_type": "stream",
     "text": [
      "Epoch 15 [0/122] | Valid Loss: 0.9863 | Elapse: 0.05s\n",
      "Epoch 15 [50/122] | Valid Loss: 1.1304 | Elapse: 2.19s\n",
      "Epoch 15 [100/122] | Valid Loss: 1.1303 | Elapse: 4.33s\n"
     ]
    },
    {
     "name": "stderr",
     "output_type": "stream",
     "text": [
      "----------------------------------------------------------------------------------------------------\n",
      "Epoch 15 - Average Loss: (train) 0.6665; (valid) 1.1299 | Time: 14.91s\n",
      "====================================================================================================\n",
      "Fold 1 Valid Loss: 1.1109051704406738\n",
      "Elapse: 3.69 min \n",
      "====================================================================================================\n"
     ]
    },
    {
     "name": "stdout",
     "output_type": "stream",
     "text": [
      "Epoch 15 [121/122] | Valid Loss: 1.1299 | Elapse: 5.20s\n"
     ]
    },
    {
     "name": "stderr",
     "output_type": "stream",
     "text": [
      "====================================================================================================\n",
      "Fold: 2 || Valid size 4124 \n",
      "====================================================================================================\n",
      "- First Stage -\n"
     ]
    },
    {
     "data": {
      "application/vnd.jupyter.widget-view+json": {
       "model_id": "14b021a147b645d788c71456d986f332",
       "version_major": 2,
       "version_minor": 0
      },
      "text/plain": [
       "Train [0]:   0%|          | 0/501 [00:00<?, ?batch/s]"
      ]
     },
     "metadata": {},
     "output_type": "display_data"
    },
    {
     "name": "stdout",
     "output_type": "stream",
     "text": [
      "Epoch 1 [0/501] | Train Loss: 1.5029 Grad: 211087.7656 LR: 4.0004e-06 | Elapse: 0.05s\n",
      "Epoch 1 [50/501] | Train Loss: 1.5000 Grad: 104726.6562 LR: 5.0897e-06 | Elapse: 2.59s\n",
      "Epoch 1 [100/501] | Train Loss: 1.4715 Grad: 112505.2266 LR: 8.2264e-06 | Elapse: 5.16s\n",
      "Epoch 1 [150/501] | Train Loss: 1.4628 Grad: 94750.7188 LR: 1.3274e-05 | Elapse: 7.67s\n",
      "Epoch 1 [200/501] | Train Loss: 1.4522 Grad: 83583.3359 LR: 2.0011e-05 | Elapse: 10.15s\n",
      "Epoch 1 [250/501] | Train Loss: 1.4313 Grad: 69841.8281 LR: 2.8145e-05 | Elapse: 12.64s\n",
      "Epoch 1 [300/501] | Train Loss: 1.4096 Grad: 83122.6250 LR: 3.7320e-05 | Elapse: 15.09s\n",
      "Epoch 1 [350/501] | Train Loss: 1.3944 Grad: 85447.6328 LR: 4.7136e-05 | Elapse: 17.56s\n",
      "Epoch 1 [400/501] | Train Loss: 1.3804 Grad: 57180.8984 LR: 5.7164e-05 | Elapse: 20.08s\n",
      "Epoch 1 [450/501] | Train Loss: 1.3694 Grad: 56795.7891 LR: 6.6967e-05 | Elapse: 22.56s\n",
      "Epoch 1 [500/501] | Train Loss: 1.3582 Grad: 83587.0156 LR: 7.6116e-05 | Elapse: 25.05s\n"
     ]
    },
    {
     "data": {
      "application/vnd.jupyter.widget-view+json": {
       "model_id": "908a549b2f924293be7d0d9e6e65519d",
       "version_major": 2,
       "version_minor": 0
      },
      "text/plain": [
       "Valid [0]:   0%|          | 0/129 [00:00<?, ?batch/s]"
      ]
     },
     "metadata": {},
     "output_type": "display_data"
    },
    {
     "name": "stdout",
     "output_type": "stream",
     "text": [
      "Epoch 1 [0/129] | Valid Loss: 1.1496 | Elapse: 0.05s\n",
      "Epoch 1 [50/129] | Valid Loss: 1.2217 | Elapse: 2.17s\n",
      "Epoch 1 [100/129] | Valid Loss: 1.2333 | Elapse: 4.29s\n"
     ]
    },
    {
     "name": "stderr",
     "output_type": "stream",
     "text": [
      "----------------------------------------------------------------------------------------------------\n",
      "Epoch 1 - Average Loss: (train) 1.3582; (valid) 1.2292 | Time: 30.52s\n",
      "Best model found in epoch 1 | valid loss: 1.2292\n"
     ]
    },
    {
     "name": "stdout",
     "output_type": "stream",
     "text": [
      "Epoch 1 [128/129] | Valid Loss: 1.2292 | Elapse: 5.48s\n"
     ]
    },
    {
     "data": {
      "application/vnd.jupyter.widget-view+json": {
       "model_id": "8d3f94ab70614486a10213f3826426a0",
       "version_major": 2,
       "version_minor": 0
      },
      "text/plain": [
       "Train [1]:   0%|          | 0/501 [00:00<?, ?batch/s]"
      ]
     },
     "metadata": {},
     "output_type": "display_data"
    },
    {
     "name": "stdout",
     "output_type": "stream",
     "text": [
      "Epoch 2 [0/501] | Train Loss: 1.1888 Grad: 105426.8516 LR: 7.6289e-05 | Elapse: 0.05s\n",
      "Epoch 2 [50/501] | Train Loss: 1.2880 Grad: 54929.1406 LR: 8.4361e-05 | Elapse: 2.56s\n",
      "Epoch 2 [100/501] | Train Loss: 1.2712 Grad: 67283.7266 LR: 9.1021e-05 | Elapse: 5.05s\n",
      "Epoch 2 [150/501] | Train Loss: 1.2785 Grad: 57462.5469 LR: 9.5977e-05 | Elapse: 7.55s\n",
      "Epoch 2 [200/501] | Train Loss: 1.2781 Grad: 76355.3125 LR: 9.9014e-05 | Elapse: 10.04s\n",
      "Epoch 2 [250/501] | Train Loss: 1.2720 Grad: 56582.9883 LR: 1.0000e-04 | Elapse: 12.53s\n",
      "Epoch 2 [300/501] | Train Loss: 1.2652 Grad: 58563.6562 LR: 9.9986e-05 | Elapse: 15.05s\n",
      "Epoch 2 [350/501] | Train Loss: 1.2612 Grad: 64348.1289 LR: 9.9944e-05 | Elapse: 17.54s\n",
      "Epoch 2 [400/501] | Train Loss: 1.2571 Grad: 46829.2656 LR: 9.9876e-05 | Elapse: 20.00s\n",
      "Epoch 2 [450/501] | Train Loss: 1.2517 Grad: 48784.5703 LR: 9.9781e-05 | Elapse: 22.48s\n",
      "Epoch 2 [500/501] | Train Loss: 1.2454 Grad: 82556.0547 LR: 9.9659e-05 | Elapse: 24.93s\n"
     ]
    },
    {
     "data": {
      "application/vnd.jupyter.widget-view+json": {
       "model_id": "d027b1e74d924b569310ab150317a9d4",
       "version_major": 2,
       "version_minor": 0
      },
      "text/plain": [
       "Valid [1]:   0%|          | 0/129 [00:00<?, ?batch/s]"
      ]
     },
     "metadata": {},
     "output_type": "display_data"
    },
    {
     "name": "stdout",
     "output_type": "stream",
     "text": [
      "Epoch 2 [0/129] | Valid Loss: 1.0833 | Elapse: 0.05s\n",
      "Epoch 2 [50/129] | Valid Loss: 1.1736 | Elapse: 2.17s\n",
      "Epoch 2 [100/129] | Valid Loss: 1.1862 | Elapse: 4.30s\n"
     ]
    },
    {
     "name": "stderr",
     "output_type": "stream",
     "text": [
      "----------------------------------------------------------------------------------------------------\n",
      "Epoch 2 - Average Loss: (train) 1.2454; (valid) 1.1847 | Time: 30.42s\n",
      "Best model found in epoch 2 | valid loss: 1.1847\n"
     ]
    },
    {
     "name": "stdout",
     "output_type": "stream",
     "text": [
      "Epoch 2 [128/129] | Valid Loss: 1.1847 | Elapse: 5.49s\n"
     ]
    },
    {
     "data": {
      "application/vnd.jupyter.widget-view+json": {
       "model_id": "a8a86bc7cf2d4bb682da8538383dd04c",
       "version_major": 2,
       "version_minor": 0
      },
      "text/plain": [
       "Train [2]:   0%|          | 0/501 [00:00<?, ?batch/s]"
      ]
     },
     "metadata": {},
     "output_type": "display_data"
    },
    {
     "name": "stdout",
     "output_type": "stream",
     "text": [
      "Epoch 3 [0/501] | Train Loss: 1.1839 Grad: 102523.5078 LR: 9.9657e-05 | Elapse: 0.05s\n",
      "Epoch 3 [50/501] | Train Loss: 1.2385 Grad: 51931.2969 LR: 9.9507e-05 | Elapse: 2.50s\n",
      "Epoch 3 [100/501] | Train Loss: 1.2081 Grad: 61225.3359 LR: 9.9332e-05 | Elapse: 4.99s\n",
      "Epoch 3 [150/501] | Train Loss: 1.2170 Grad: 52807.1914 LR: 9.9129e-05 | Elapse: 7.49s\n",
      "Epoch 3 [200/501] | Train Loss: 1.2176 Grad: 73431.1484 LR: 9.8900e-05 | Elapse: 9.96s\n",
      "Epoch 3 [250/501] | Train Loss: 1.2120 Grad: 54989.7969 LR: 9.8645e-05 | Elapse: 12.45s\n",
      "Epoch 3 [300/501] | Train Loss: 1.2078 Grad: 54889.8086 LR: 9.8363e-05 | Elapse: 14.95s\n",
      "Epoch 3 [350/501] | Train Loss: 1.2065 Grad: 61229.1211 LR: 9.8056e-05 | Elapse: 17.42s\n",
      "Epoch 3 [400/501] | Train Loss: 1.2032 Grad: 48527.4883 LR: 9.7722e-05 | Elapse: 19.93s\n",
      "Epoch 3 [450/501] | Train Loss: 1.2002 Grad: 50181.8203 LR: 9.7363e-05 | Elapse: 22.41s\n",
      "Epoch 3 [500/501] | Train Loss: 1.1956 Grad: 81911.2422 LR: 9.6978e-05 | Elapse: 24.93s\n"
     ]
    },
    {
     "data": {
      "application/vnd.jupyter.widget-view+json": {
       "model_id": "a900bc514cdb4efb88311b67a22ff029",
       "version_major": 2,
       "version_minor": 0
      },
      "text/plain": [
       "Valid [2]:   0%|          | 0/129 [00:00<?, ?batch/s]"
      ]
     },
     "metadata": {},
     "output_type": "display_data"
    },
    {
     "name": "stdout",
     "output_type": "stream",
     "text": [
      "Epoch 3 [0/129] | Valid Loss: 1.0234 | Elapse: 0.05s\n",
      "Epoch 3 [50/129] | Valid Loss: 1.1355 | Elapse: 2.18s\n",
      "Epoch 3 [100/129] | Valid Loss: 1.1477 | Elapse: 4.31s\n"
     ]
    },
    {
     "name": "stderr",
     "output_type": "stream",
     "text": [
      "----------------------------------------------------------------------------------------------------\n",
      "Epoch 3 - Average Loss: (train) 1.1956; (valid) 1.1488 | Time: 30.42s\n",
      "Best model found in epoch 3 | valid loss: 1.1488\n"
     ]
    },
    {
     "name": "stdout",
     "output_type": "stream",
     "text": [
      "Epoch 3 [128/129] | Valid Loss: 1.1488 | Elapse: 5.49s\n"
     ]
    },
    {
     "data": {
      "application/vnd.jupyter.widget-view+json": {
       "model_id": "4fb07b26dc1145b29461db34e1aa90bf",
       "version_major": 2,
       "version_minor": 0
      },
      "text/plain": [
       "Train [3]:   0%|          | 0/501 [00:00<?, ?batch/s]"
      ]
     },
     "metadata": {},
     "output_type": "display_data"
    },
    {
     "name": "stdout",
     "output_type": "stream",
     "text": [
      "Epoch 4 [0/501] | Train Loss: 1.1348 Grad: 100905.5391 LR: 9.6970e-05 | Elapse: 0.05s\n",
      "Epoch 4 [50/501] | Train Loss: 1.1893 Grad: 52010.6719 LR: 9.6559e-05 | Elapse: 2.54s\n",
      "Epoch 4 [100/501] | Train Loss: 1.1697 Grad: 65079.2070 LR: 9.6124e-05 | Elapse: 5.03s\n",
      "Epoch 4 [150/501] | Train Loss: 1.1769 Grad: 51889.7305 LR: 9.5663e-05 | Elapse: 7.51s\n",
      "Epoch 4 [200/501] | Train Loss: 1.1792 Grad: 68835.7734 LR: 9.5178e-05 | Elapse: 9.99s\n",
      "Epoch 4 [250/501] | Train Loss: 1.1748 Grad: 54929.6445 LR: 9.4668e-05 | Elapse: 12.46s\n",
      "Epoch 4 [300/501] | Train Loss: 1.1739 Grad: 55263.9922 LR: 9.4134e-05 | Elapse: 14.96s\n",
      "Epoch 4 [350/501] | Train Loss: 1.1722 Grad: 63293.5742 LR: 9.3577e-05 | Elapse: 17.44s\n",
      "Epoch 4 [400/501] | Train Loss: 1.1705 Grad: 49430.9961 LR: 9.2996e-05 | Elapse: 19.93s\n",
      "Epoch 4 [450/501] | Train Loss: 1.1670 Grad: 48385.0039 LR: 9.2392e-05 | Elapse: 22.42s\n",
      "Epoch 4 [500/501] | Train Loss: 1.1626 Grad: 77222.6797 LR: 9.1765e-05 | Elapse: 24.93s\n"
     ]
    },
    {
     "data": {
      "application/vnd.jupyter.widget-view+json": {
       "model_id": "38bf8052ca9049a59b5fbdc37857b9b7",
       "version_major": 2,
       "version_minor": 0
      },
      "text/plain": [
       "Valid [3]:   0%|          | 0/129 [00:00<?, ?batch/s]"
      ]
     },
     "metadata": {},
     "output_type": "display_data"
    },
    {
     "name": "stdout",
     "output_type": "stream",
     "text": [
      "Epoch 4 [0/129] | Valid Loss: 0.9948 | Elapse: 0.05s\n",
      "Epoch 4 [50/129] | Valid Loss: 1.1106 | Elapse: 2.19s\n",
      "Epoch 4 [100/129] | Valid Loss: 1.1233 | Elapse: 4.33s\n"
     ]
    },
    {
     "name": "stderr",
     "output_type": "stream",
     "text": [
      "----------------------------------------------------------------------------------------------------\n",
      "Epoch 4 - Average Loss: (train) 1.1626; (valid) 1.1259 | Time: 30.45s\n",
      "Best model found in epoch 4 | valid loss: 1.1259\n"
     ]
    },
    {
     "name": "stdout",
     "output_type": "stream",
     "text": [
      "Epoch 4 [128/129] | Valid Loss: 1.1259 | Elapse: 5.53s\n"
     ]
    },
    {
     "data": {
      "application/vnd.jupyter.widget-view+json": {
       "model_id": "629b98cf0f394c35af3c7074c16dc674",
       "version_major": 2,
       "version_minor": 0
      },
      "text/plain": [
       "Train [4]:   0%|          | 0/501 [00:00<?, ?batch/s]"
      ]
     },
     "metadata": {},
     "output_type": "display_data"
    },
    {
     "name": "stdout",
     "output_type": "stream",
     "text": [
      "Epoch 5 [0/501] | Train Loss: 1.0608 Grad: 102041.9141 LR: 9.1752e-05 | Elapse: 0.06s\n",
      "Epoch 5 [50/501] | Train Loss: 1.1631 Grad: 99269.8359 LR: 9.1102e-05 | Elapse: 2.57s\n",
      "Epoch 5 [100/501] | Train Loss: 1.1440 Grad: 133144.6719 LR: 9.0430e-05 | Elapse: 5.06s\n",
      "Epoch 5 [150/501] | Train Loss: 1.1533 Grad: 112861.8047 LR: 8.9736e-05 | Elapse: 7.57s\n",
      "Epoch 5 [200/501] | Train Loss: 1.1543 Grad: 125613.6016 LR: 8.9021e-05 | Elapse: 10.04s\n",
      "Epoch 5 [250/501] | Train Loss: 1.1496 Grad: 111725.7109 LR: 8.8285e-05 | Elapse: 12.54s\n",
      "Epoch 5 [300/501] | Train Loss: 1.1483 Grad: 109056.5703 LR: 8.7528e-05 | Elapse: 15.06s\n",
      "Epoch 5 [350/501] | Train Loss: 1.1466 Grad: 120696.4922 LR: 8.6750e-05 | Elapse: 17.55s\n",
      "Epoch 5 [400/501] | Train Loss: 1.1460 Grad: 94115.4844 LR: 8.5953e-05 | Elapse: 20.05s\n",
      "Epoch 5 [450/501] | Train Loss: 1.1432 Grad: 94069.1406 LR: 8.5137e-05 | Elapse: 22.53s\n",
      "Epoch 5 [500/501] | Train Loss: 1.1409 Grad: 163502.4062 LR: 8.4301e-05 | Elapse: 24.98s\n"
     ]
    },
    {
     "data": {
      "application/vnd.jupyter.widget-view+json": {
       "model_id": "27dfa2e85c764e449c3bce7819c15b40",
       "version_major": 2,
       "version_minor": 0
      },
      "text/plain": [
       "Valid [4]:   0%|          | 0/129 [00:00<?, ?batch/s]"
      ]
     },
     "metadata": {},
     "output_type": "display_data"
    },
    {
     "name": "stdout",
     "output_type": "stream",
     "text": [
      "Epoch 5 [0/129] | Valid Loss: 0.9692 | Elapse: 0.05s\n",
      "Epoch 5 [50/129] | Valid Loss: 1.0961 | Elapse: 2.19s\n",
      "Epoch 5 [100/129] | Valid Loss: 1.1093 | Elapse: 4.33s\n"
     ]
    },
    {
     "name": "stderr",
     "output_type": "stream",
     "text": [
      "----------------------------------------------------------------------------------------------------\n",
      "Epoch 5 - Average Loss: (train) 1.1409; (valid) 1.1133 | Time: 30.51s\n",
      "Best model found in epoch 5 | valid loss: 1.1133\n"
     ]
    },
    {
     "name": "stdout",
     "output_type": "stream",
     "text": [
      "Epoch 5 [128/129] | Valid Loss: 1.1133 | Elapse: 5.53s\n"
     ]
    },
    {
     "data": {
      "application/vnd.jupyter.widget-view+json": {
       "model_id": "4a21dcee664b40629c8c1c306e14fa77",
       "version_major": 2,
       "version_minor": 0
      },
      "text/plain": [
       "Train [5]:   0%|          | 0/501 [00:00<?, ?batch/s]"
      ]
     },
     "metadata": {},
     "output_type": "display_data"
    },
    {
     "name": "stdout",
     "output_type": "stream",
     "text": [
      "Epoch 6 [0/501] | Train Loss: 1.0269 Grad: 95114.5938 LR: 8.4285e-05 | Elapse: 0.05s\n",
      "Epoch 6 [50/501] | Train Loss: 1.1522 Grad: 96181.1172 LR: 8.3430e-05 | Elapse: 2.52s\n",
      "Epoch 6 [100/501] | Train Loss: 1.1352 Grad: 120834.6797 LR: 8.2558e-05 | Elapse: 4.99s\n",
      "Epoch 6 [150/501] | Train Loss: 1.1405 Grad: 116906.1641 LR: 8.1668e-05 | Elapse: 7.47s\n",
      "Epoch 6 [200/501] | Train Loss: 1.1422 Grad: 128348.5312 LR: 8.0761e-05 | Elapse: 9.95s\n",
      "Epoch 6 [250/501] | Train Loss: 1.1378 Grad: 106092.8281 LR: 7.9838e-05 | Elapse: 12.41s\n",
      "Epoch 6 [300/501] | Train Loss: 1.1357 Grad: 109278.2734 LR: 7.8899e-05 | Elapse: 14.88s\n",
      "Epoch 6 [350/501] | Train Loss: 1.1346 Grad: 115930.4062 LR: 7.7943e-05 | Elapse: 17.35s\n",
      "Epoch 6 [400/501] | Train Loss: 1.1334 Grad: 96060.0312 LR: 7.6973e-05 | Elapse: 19.83s\n",
      "Epoch 6 [450/501] | Train Loss: 1.1311 Grad: 97067.7422 LR: 7.5989e-05 | Elapse: 22.34s\n",
      "Epoch 6 [500/501] | Train Loss: 1.1284 Grad: 159604.7500 LR: 7.4990e-05 | Elapse: 24.83s\n"
     ]
    },
    {
     "data": {
      "application/vnd.jupyter.widget-view+json": {
       "model_id": "3b28abb590c74c7f824c8ed78e02c705",
       "version_major": 2,
       "version_minor": 0
      },
      "text/plain": [
       "Valid [5]:   0%|          | 0/129 [00:00<?, ?batch/s]"
      ]
     },
     "metadata": {},
     "output_type": "display_data"
    },
    {
     "name": "stdout",
     "output_type": "stream",
     "text": [
      "Epoch 6 [0/129] | Valid Loss: 0.9524 | Elapse: 0.06s\n",
      "Epoch 6 [50/129] | Valid Loss: 1.0839 | Elapse: 2.21s\n",
      "Epoch 6 [100/129] | Valid Loss: 1.0972 | Elapse: 4.35s\n"
     ]
    },
    {
     "name": "stderr",
     "output_type": "stream",
     "text": [
      "----------------------------------------------------------------------------------------------------\n",
      "Epoch 6 - Average Loss: (train) 1.1284; (valid) 1.1019 | Time: 30.37s\n",
      "Best model found in epoch 6 | valid loss: 1.1019\n"
     ]
    },
    {
     "name": "stdout",
     "output_type": "stream",
     "text": [
      "Epoch 6 [128/129] | Valid Loss: 1.1019 | Elapse: 5.55s\n"
     ]
    },
    {
     "data": {
      "application/vnd.jupyter.widget-view+json": {
       "model_id": "cec049a0aa9d450591679558e80094b5",
       "version_major": 2,
       "version_minor": 0
      },
      "text/plain": [
       "Train [6]:   0%|          | 0/501 [00:00<?, ?batch/s]"
      ]
     },
     "metadata": {},
     "output_type": "display_data"
    },
    {
     "name": "stdout",
     "output_type": "stream",
     "text": [
      "Epoch 7 [0/501] | Train Loss: 0.9911 Grad: 95090.3984 LR: 7.4970e-05 | Elapse: 0.06s\n",
      "Epoch 7 [50/501] | Train Loss: 1.1269 Grad: 94442.2031 LR: 7.3957e-05 | Elapse: 2.62s\n",
      "Epoch 7 [100/501] | Train Loss: 1.1089 Grad: 139476.3750 LR: 7.2932e-05 | Elapse: 5.13s\n",
      "Epoch 7 [150/501] | Train Loss: 1.1213 Grad: 114388.2812 LR: 7.1894e-05 | Elapse: 7.65s\n",
      "Epoch 7 [200/501] | Train Loss: 1.1244 Grad: 115087.1250 LR: 7.0845e-05 | Elapse: 10.12s\n",
      "Epoch 7 [250/501] | Train Loss: 1.1219 Grad: 109115.7734 LR: 6.9784e-05 | Elapse: 12.61s\n",
      "Epoch 7 [300/501] | Train Loss: 1.1213 Grad: 117856.0859 LR: 6.8713e-05 | Elapse: 15.10s\n",
      "Epoch 7 [350/501] | Train Loss: 1.1211 Grad: 118390.9375 LR: 6.7631e-05 | Elapse: 17.63s\n",
      "Epoch 7 [400/501] | Train Loss: 1.1204 Grad: 95287.7344 LR: 6.6540e-05 | Elapse: 20.11s\n",
      "Epoch 7 [450/501] | Train Loss: 1.1186 Grad: 97094.3438 LR: 6.5440e-05 | Elapse: 22.64s\n",
      "Epoch 7 [500/501] | Train Loss: 1.1160 Grad: 151193.5625 LR: 6.4332e-05 | Elapse: 25.13s\n"
     ]
    },
    {
     "data": {
      "application/vnd.jupyter.widget-view+json": {
       "model_id": "c1c8f593e3f541f5855785e4a23726b8",
       "version_major": 2,
       "version_minor": 0
      },
      "text/plain": [
       "Valid [6]:   0%|          | 0/129 [00:00<?, ?batch/s]"
      ]
     },
     "metadata": {},
     "output_type": "display_data"
    },
    {
     "name": "stdout",
     "output_type": "stream",
     "text": [
      "Epoch 7 [0/129] | Valid Loss: 0.9439 | Elapse: 0.05s\n",
      "Epoch 7 [50/129] | Valid Loss: 1.0751 | Elapse: 2.21s\n",
      "Epoch 7 [100/129] | Valid Loss: 1.0886 | Elapse: 4.37s\n"
     ]
    },
    {
     "name": "stderr",
     "output_type": "stream",
     "text": [
      "----------------------------------------------------------------------------------------------------\n",
      "Epoch 7 - Average Loss: (train) 1.1160; (valid) 1.0936 | Time: 30.71s\n",
      "Best model found in epoch 7 | valid loss: 1.0936\n"
     ]
    },
    {
     "name": "stdout",
     "output_type": "stream",
     "text": [
      "Epoch 7 [128/129] | Valid Loss: 1.0936 | Elapse: 5.57s\n"
     ]
    },
    {
     "data": {
      "application/vnd.jupyter.widget-view+json": {
       "model_id": "47cbf5aed8334bdb85b87dcb1ca50fb7",
       "version_major": 2,
       "version_minor": 0
      },
      "text/plain": [
       "Train [7]:   0%|          | 0/501 [00:00<?, ?batch/s]"
      ]
     },
     "metadata": {},
     "output_type": "display_data"
    },
    {
     "name": "stdout",
     "output_type": "stream",
     "text": [
      "Epoch 8 [0/501] | Train Loss: 1.0010 Grad: 90669.9844 LR: 6.4310e-05 | Elapse: 0.06s\n",
      "Epoch 8 [50/501] | Train Loss: 1.1184 Grad: 96460.8125 LR: 6.3194e-05 | Elapse: 2.57s\n",
      "Epoch 8 [100/501] | Train Loss: 1.1048 Grad: 120411.2812 LR: 6.2071e-05 | Elapse: 5.05s\n",
      "Epoch 8 [150/501] | Train Loss: 1.1118 Grad: 114874.4453 LR: 6.0941e-05 | Elapse: 7.55s\n",
      "Epoch 8 [200/501] | Train Loss: 1.1152 Grad: 125063.4141 LR: 5.9805e-05 | Elapse: 10.02s\n",
      "Epoch 8 [250/501] | Train Loss: 1.1117 Grad: 110775.4297 LR: 5.8665e-05 | Elapse: 12.53s\n",
      "Epoch 8 [300/501] | Train Loss: 1.1115 Grad: 114713.3125 LR: 5.7519e-05 | Elapse: 15.00s\n",
      "Epoch 8 [350/501] | Train Loss: 1.1110 Grad: 111649.2422 LR: 5.6370e-05 | Elapse: 17.46s\n",
      "Epoch 8 [400/501] | Train Loss: 1.1106 Grad: 97550.9375 LR: 5.5217e-05 | Elapse: 19.94s\n",
      "Epoch 8 [450/501] | Train Loss: 1.1082 Grad: 97193.2969 LR: 5.4061e-05 | Elapse: 22.40s\n",
      "Epoch 8 [500/501] | Train Loss: 1.1062 Grad: 160762.2031 LR: 5.2903e-05 | Elapse: 24.89s\n"
     ]
    },
    {
     "data": {
      "application/vnd.jupyter.widget-view+json": {
       "model_id": "cb1a476ed1d34233bfc9691bb5960c51",
       "version_major": 2,
       "version_minor": 0
      },
      "text/plain": [
       "Valid [7]:   0%|          | 0/129 [00:00<?, ?batch/s]"
      ]
     },
     "metadata": {},
     "output_type": "display_data"
    },
    {
     "name": "stdout",
     "output_type": "stream",
     "text": [
      "Epoch 8 [0/129] | Valid Loss: 0.9395 | Elapse: 0.05s\n",
      "Epoch 8 [50/129] | Valid Loss: 1.0689 | Elapse: 2.19s\n",
      "Epoch 8 [100/129] | Valid Loss: 1.0820 | Elapse: 4.33s\n"
     ]
    },
    {
     "name": "stderr",
     "output_type": "stream",
     "text": [
      "----------------------------------------------------------------------------------------------------\n",
      "Epoch 8 - Average Loss: (train) 1.1062; (valid) 1.0871 | Time: 30.41s\n",
      "Best model found in epoch 8 | valid loss: 1.0871\n"
     ]
    },
    {
     "name": "stdout",
     "output_type": "stream",
     "text": [
      "Epoch 8 [128/129] | Valid Loss: 1.0871 | Elapse: 5.53s\n"
     ]
    },
    {
     "data": {
      "application/vnd.jupyter.widget-view+json": {
       "model_id": "78fbdcd801d949ec88d49dcebb8964c4",
       "version_major": 2,
       "version_minor": 0
      },
      "text/plain": [
       "Train [8]:   0%|          | 0/501 [00:00<?, ?batch/s]"
      ]
     },
     "metadata": {},
     "output_type": "display_data"
    },
    {
     "name": "stdout",
     "output_type": "stream",
     "text": [
      "Epoch 9 [0/501] | Train Loss: 0.9485 Grad: 96984.4531 LR: 5.2880e-05 | Elapse: 0.05s\n",
      "Epoch 9 [50/501] | Train Loss: 1.1075 Grad: 89938.9766 LR: 5.1720e-05 | Elapse: 2.57s\n",
      "Epoch 9 [100/501] | Train Loss: 1.0916 Grad: 135459.2656 LR: 5.0560e-05 | Elapse: 5.06s\n",
      "Epoch 9 [150/501] | Train Loss: 1.1030 Grad: 120920.7109 LR: 4.9399e-05 | Elapse: 7.53s\n",
      "Epoch 9 [200/501] | Train Loss: 1.1072 Grad: 119398.3984 LR: 4.8239e-05 | Elapse: 10.01s\n",
      "Epoch 9 [250/501] | Train Loss: 1.1053 Grad: 105764.8203 LR: 4.7079e-05 | Elapse: 12.54s\n",
      "Epoch 9 [300/501] | Train Loss: 1.1053 Grad: 116605.1953 LR: 4.5921e-05 | Elapse: 15.03s\n",
      "Epoch 9 [350/501] | Train Loss: 1.1035 Grad: 112819.7969 LR: 4.4766e-05 | Elapse: 17.51s\n",
      "Epoch 9 [400/501] | Train Loss: 1.1023 Grad: 97199.3125 LR: 4.3613e-05 | Elapse: 20.00s\n",
      "Epoch 9 [450/501] | Train Loss: 1.1010 Grad: 94497.1094 LR: 4.2463e-05 | Elapse: 22.51s\n",
      "Epoch 9 [500/501] | Train Loss: 1.0998 Grad: 155872.7656 LR: 4.1318e-05 | Elapse: 25.00s\n"
     ]
    },
    {
     "data": {
      "application/vnd.jupyter.widget-view+json": {
       "model_id": "7cc4a82d113d4de2bb424f6266cd5e3b",
       "version_major": 2,
       "version_minor": 0
      },
      "text/plain": [
       "Valid [8]:   0%|          | 0/129 [00:00<?, ?batch/s]"
      ]
     },
     "metadata": {},
     "output_type": "display_data"
    },
    {
     "name": "stdout",
     "output_type": "stream",
     "text": [
      "Epoch 9 [0/129] | Valid Loss: 0.9352 | Elapse: 0.05s\n",
      "Epoch 9 [50/129] | Valid Loss: 1.0643 | Elapse: 2.18s\n",
      "Epoch 9 [100/129] | Valid Loss: 1.0775 | Elapse: 4.31s\n"
     ]
    },
    {
     "name": "stderr",
     "output_type": "stream",
     "text": [
      "----------------------------------------------------------------------------------------------------\n",
      "Epoch 9 - Average Loss: (train) 1.0998; (valid) 1.0828 | Time: 30.50s\n",
      "Best model found in epoch 9 | valid loss: 1.0828\n"
     ]
    },
    {
     "name": "stdout",
     "output_type": "stream",
     "text": [
      "Epoch 9 [128/129] | Valid Loss: 1.0828 | Elapse: 5.50s\n"
     ]
    },
    {
     "data": {
      "application/vnd.jupyter.widget-view+json": {
       "model_id": "1d3acbe5079a4750b6a03dfda065eb87",
       "version_major": 2,
       "version_minor": 0
      },
      "text/plain": [
       "Train [9]:   0%|          | 0/501 [00:00<?, ?batch/s]"
      ]
     },
     "metadata": {},
     "output_type": "display_data"
    },
    {
     "name": "stdout",
     "output_type": "stream",
     "text": [
      "Epoch 10 [0/501] | Train Loss: 1.0105 Grad: 102445.7812 LR: 4.1295e-05 | Elapse: 0.05s\n",
      "Epoch 10 [50/501] | Train Loss: 1.1031 Grad: 92869.7734 LR: 4.0155e-05 | Elapse: 2.56s\n",
      "Epoch 10 [100/501] | Train Loss: 1.0916 Grad: 130946.3359 LR: 3.9020e-05 | Elapse: 5.06s\n",
      "Epoch 10 [150/501] | Train Loss: 1.1002 Grad: 116087.7188 LR: 3.7890e-05 | Elapse: 7.52s\n",
      "Epoch 10 [200/501] | Train Loss: 1.1056 Grad: 108421.7266 LR: 3.6768e-05 | Elapse: 10.04s\n",
      "Epoch 10 [250/501] | Train Loss: 1.1017 Grad: 111890.8438 LR: 3.5652e-05 | Elapse: 12.56s\n",
      "Epoch 10 [300/501] | Train Loss: 1.1022 Grad: 111335.9844 LR: 3.4544e-05 | Elapse: 15.06s\n",
      "Epoch 10 [350/501] | Train Loss: 1.1009 Grad: 114109.0625 LR: 3.3445e-05 | Elapse: 17.55s\n",
      "Epoch 10 [400/501] | Train Loss: 1.1013 Grad: 92492.1016 LR: 3.2354e-05 | Elapse: 20.05s\n",
      "Epoch 10 [450/501] | Train Loss: 1.0991 Grad: 95524.4141 LR: 3.1273e-05 | Elapse: 22.54s\n",
      "Epoch 10 [500/501] | Train Loss: 1.0960 Grad: 161398.2812 LR: 3.0203e-05 | Elapse: 25.03s\n"
     ]
    },
    {
     "data": {
      "application/vnd.jupyter.widget-view+json": {
       "model_id": "ea57e4029b154cd5af0456c54657b54d",
       "version_major": 2,
       "version_minor": 0
      },
      "text/plain": [
       "Valid [9]:   0%|          | 0/129 [00:00<?, ?batch/s]"
      ]
     },
     "metadata": {},
     "output_type": "display_data"
    },
    {
     "name": "stdout",
     "output_type": "stream",
     "text": [
      "Epoch 10 [0/129] | Valid Loss: 0.9358 | Elapse: 0.05s\n",
      "Epoch 10 [50/129] | Valid Loss: 1.0609 | Elapse: 2.20s\n",
      "Epoch 10 [100/129] | Valid Loss: 1.0741 | Elapse: 4.36s\n"
     ]
    },
    {
     "name": "stderr",
     "output_type": "stream",
     "text": [
      "----------------------------------------------------------------------------------------------------\n",
      "Epoch 10 - Average Loss: (train) 1.0960; (valid) 1.0795 | Time: 30.58s\n",
      "Best model found in epoch 10 | valid loss: 1.0795\n"
     ]
    },
    {
     "name": "stdout",
     "output_type": "stream",
     "text": [
      "Epoch 10 [128/129] | Valid Loss: 1.0795 | Elapse: 5.55s\n"
     ]
    },
    {
     "data": {
      "application/vnd.jupyter.widget-view+json": {
       "model_id": "c4013b8aac544c66b7a184fcad6c2717",
       "version_major": 2,
       "version_minor": 0
      },
      "text/plain": [
       "Train [10]:   0%|          | 0/501 [00:00<?, ?batch/s]"
      ]
     },
     "metadata": {},
     "output_type": "display_data"
    },
    {
     "name": "stdout",
     "output_type": "stream",
     "text": [
      "Epoch 11 [0/501] | Train Loss: 1.0136 Grad: 101306.6797 LR: 3.0181e-05 | Elapse: 0.05s\n",
      "Epoch 11 [50/501] | Train Loss: 1.0964 Grad: 97044.4297 LR: 2.9121e-05 | Elapse: 2.53s\n",
      "Epoch 11 [100/501] | Train Loss: 1.0814 Grad: 131966.7500 LR: 2.8073e-05 | Elapse: 5.00s\n",
      "Epoch 11 [150/501] | Train Loss: 1.0915 Grad: 123585.2422 LR: 2.7036e-05 | Elapse: 7.48s\n",
      "Epoch 11 [200/501] | Train Loss: 1.0971 Grad: 116906.0938 LR: 2.6011e-05 | Elapse: 9.94s\n",
      "Epoch 11 [250/501] | Train Loss: 1.0955 Grad: 128445.3438 LR: 2.5000e-05 | Elapse: 12.41s\n",
      "Epoch 11 [300/501] | Train Loss: 1.0954 Grad: 111797.0781 LR: 2.4002e-05 | Elapse: 14.89s\n",
      "Epoch 11 [350/501] | Train Loss: 1.0944 Grad: 118676.4219 LR: 2.3018e-05 | Elapse: 17.38s\n",
      "Epoch 11 [400/501] | Train Loss: 1.0952 Grad: 91609.9219 LR: 2.2048e-05 | Elapse: 19.85s\n",
      "Epoch 11 [450/501] | Train Loss: 1.0934 Grad: 96377.5938 LR: 2.1094e-05 | Elapse: 22.34s\n",
      "Epoch 11 [500/501] | Train Loss: 1.0912 Grad: 162190.1562 LR: 2.0155e-05 | Elapse: 24.82s\n"
     ]
    },
    {
     "data": {
      "application/vnd.jupyter.widget-view+json": {
       "model_id": "abb662443e374fae8fcf9b5ce6737405",
       "version_major": 2,
       "version_minor": 0
      },
      "text/plain": [
       "Valid [10]:   0%|          | 0/129 [00:00<?, ?batch/s]"
      ]
     },
     "metadata": {},
     "output_type": "display_data"
    },
    {
     "name": "stdout",
     "output_type": "stream",
     "text": [
      "Epoch 11 [0/129] | Valid Loss: 0.9322 | Elapse: 0.05s\n",
      "Epoch 11 [50/129] | Valid Loss: 1.0588 | Elapse: 2.20s\n",
      "Epoch 11 [100/129] | Valid Loss: 1.0718 | Elapse: 4.34s\n"
     ]
    },
    {
     "name": "stderr",
     "output_type": "stream",
     "text": [
      "----------------------------------------------------------------------------------------------------\n",
      "Epoch 11 - Average Loss: (train) 1.0912; (valid) 1.0773 | Time: 30.36s\n",
      "Best model found in epoch 11 | valid loss: 1.0773\n"
     ]
    },
    {
     "name": "stdout",
     "output_type": "stream",
     "text": [
      "Epoch 11 [128/129] | Valid Loss: 1.0773 | Elapse: 5.53s\n"
     ]
    },
    {
     "data": {
      "application/vnd.jupyter.widget-view+json": {
       "model_id": "0b8d806280fb4cc69ac29ca5f73c49d7",
       "version_major": 2,
       "version_minor": 0
      },
      "text/plain": [
       "Train [11]:   0%|          | 0/501 [00:00<?, ?batch/s]"
      ]
     },
     "metadata": {},
     "output_type": "display_data"
    },
    {
     "name": "stdout",
     "output_type": "stream",
     "text": [
      "Epoch 12 [0/501] | Train Loss: 0.9478 Grad: 101231.2578 LR: 2.0137e-05 | Elapse: 0.06s\n",
      "Epoch 12 [50/501] | Train Loss: 1.0832 Grad: 96005.4766 LR: 1.9214e-05 | Elapse: 2.49s\n",
      "Epoch 12 [100/501] | Train Loss: 1.0781 Grad: 125571.5234 LR: 1.8309e-05 | Elapse: 5.01s\n",
      "Epoch 12 [150/501] | Train Loss: 1.0872 Grad: 135236.5156 LR: 1.7420e-05 | Elapse: 7.52s\n",
      "Epoch 12 [200/501] | Train Loss: 1.0904 Grad: 137995.7500 LR: 1.6549e-05 | Elapse: 10.07s\n",
      "Epoch 12 [250/501] | Train Loss: 1.0888 Grad: 108264.7422 LR: 1.5696e-05 | Elapse: 12.58s\n",
      "Epoch 12 [300/501] | Train Loss: 1.0909 Grad: 110061.9297 LR: 1.4862e-05 | Elapse: 15.11s\n",
      "Epoch 12 [350/501] | Train Loss: 1.0905 Grad: 112444.4688 LR: 1.4046e-05 | Elapse: 17.64s\n",
      "Epoch 12 [400/501] | Train Loss: 1.0912 Grad: 96557.7500 LR: 1.3250e-05 | Elapse: 20.15s\n",
      "Epoch 12 [450/501] | Train Loss: 1.0892 Grad: 92473.7422 LR: 1.2474e-05 | Elapse: 22.66s\n",
      "Epoch 12 [500/501] | Train Loss: 1.0878 Grad: 153079.8594 LR: 1.1718e-05 | Elapse: 25.16s\n"
     ]
    },
    {
     "data": {
      "application/vnd.jupyter.widget-view+json": {
       "model_id": "d0bb0b9f14d048e29524fb3e85081421",
       "version_major": 2,
       "version_minor": 0
      },
      "text/plain": [
       "Valid [11]:   0%|          | 0/129 [00:00<?, ?batch/s]"
      ]
     },
     "metadata": {},
     "output_type": "display_data"
    },
    {
     "name": "stdout",
     "output_type": "stream",
     "text": [
      "Epoch 12 [0/129] | Valid Loss: 0.9315 | Elapse: 0.05s\n",
      "Epoch 12 [50/129] | Valid Loss: 1.0571 | Elapse: 2.19s\n",
      "Epoch 12 [100/129] | Valid Loss: 1.0701 | Elapse: 4.36s\n"
     ]
    },
    {
     "name": "stderr",
     "output_type": "stream",
     "text": [
      "----------------------------------------------------------------------------------------------------\n",
      "Epoch 12 - Average Loss: (train) 1.0878; (valid) 1.0757 | Time: 30.71s\n",
      "Best model found in epoch 12 | valid loss: 1.0757\n"
     ]
    },
    {
     "name": "stdout",
     "output_type": "stream",
     "text": [
      "Epoch 12 [128/129] | Valid Loss: 1.0757 | Elapse: 5.55s\n"
     ]
    },
    {
     "data": {
      "application/vnd.jupyter.widget-view+json": {
       "model_id": "c092483c7b914852ab2f68fccfd29893",
       "version_major": 2,
       "version_minor": 0
      },
      "text/plain": [
       "Train [12]:   0%|          | 0/501 [00:00<?, ?batch/s]"
      ]
     },
     "metadata": {},
     "output_type": "display_data"
    },
    {
     "name": "stdout",
     "output_type": "stream",
     "text": [
      "Epoch 13 [0/501] | Train Loss: 0.9811 Grad: 107547.2109 LR: 1.1703e-05 | Elapse: 0.06s\n",
      "Epoch 13 [50/501] | Train Loss: 1.0891 Grad: 94313.4688 LR: 1.0968e-05 | Elapse: 2.58s\n",
      "Epoch 13 [100/501] | Train Loss: 1.0796 Grad: 124052.8438 LR: 1.0255e-05 | Elapse: 5.07s\n",
      "Epoch 13 [150/501] | Train Loss: 1.0881 Grad: 129709.6406 LR: 9.5621e-06 | Elapse: 7.58s\n",
      "Epoch 13 [200/501] | Train Loss: 1.0932 Grad: 135984.7344 LR: 8.8916e-06 | Elapse: 10.10s\n",
      "Epoch 13 [250/501] | Train Loss: 1.0917 Grad: 113106.9766 LR: 8.2432e-06 | Elapse: 12.58s\n",
      "Epoch 13 [300/501] | Train Loss: 1.0925 Grad: 122947.8828 LR: 7.6173e-06 | Elapse: 15.10s\n",
      "Epoch 13 [350/501] | Train Loss: 1.0911 Grad: 108224.1641 LR: 7.0144e-06 | Elapse: 17.57s\n",
      "Epoch 13 [400/501] | Train Loss: 1.0909 Grad: 95912.1016 LR: 6.4346e-06 | Elapse: 20.06s\n",
      "Epoch 13 [450/501] | Train Loss: 1.0900 Grad: 94557.6484 LR: 5.8783e-06 | Elapse: 22.58s\n",
      "Epoch 13 [500/501] | Train Loss: 1.0885 Grad: 175644.3125 LR: 5.3458e-06 | Elapse: 25.07s\n"
     ]
    },
    {
     "data": {
      "application/vnd.jupyter.widget-view+json": {
       "model_id": "73d932cbdc364a71816a965d72886615",
       "version_major": 2,
       "version_minor": 0
      },
      "text/plain": [
       "Valid [12]:   0%|          | 0/129 [00:00<?, ?batch/s]"
      ]
     },
     "metadata": {},
     "output_type": "display_data"
    },
    {
     "name": "stdout",
     "output_type": "stream",
     "text": [
      "Epoch 13 [0/129] | Valid Loss: 0.9316 | Elapse: 0.05s\n",
      "Epoch 13 [50/129] | Valid Loss: 1.0564 | Elapse: 2.21s\n",
      "Epoch 13 [100/129] | Valid Loss: 1.0693 | Elapse: 4.37s\n"
     ]
    },
    {
     "name": "stderr",
     "output_type": "stream",
     "text": [
      "----------------------------------------------------------------------------------------------------\n",
      "Epoch 13 - Average Loss: (train) 1.0885; (valid) 1.0750 | Time: 30.63s\n",
      "Best model found in epoch 13 | valid loss: 1.0750\n"
     ]
    },
    {
     "name": "stdout",
     "output_type": "stream",
     "text": [
      "Epoch 13 [128/129] | Valid Loss: 1.0750 | Elapse: 5.56s\n"
     ]
    },
    {
     "data": {
      "application/vnd.jupyter.widget-view+json": {
       "model_id": "c5853af09cc349968b4e137e0b7a1f6d",
       "version_major": 2,
       "version_minor": 0
      },
      "text/plain": [
       "Train [13]:   0%|          | 0/501 [00:00<?, ?batch/s]"
      ]
     },
     "metadata": {},
     "output_type": "display_data"
    },
    {
     "name": "stdout",
     "output_type": "stream",
     "text": [
      "Epoch 14 [0/501] | Train Loss: 0.9041 Grad: 99059.2266 LR: 5.3354e-06 | Elapse: 0.06s\n",
      "Epoch 14 [50/501] | Train Loss: 1.0841 Grad: 89341.5938 LR: 4.8275e-06 | Elapse: 2.56s\n",
      "Epoch 14 [100/501] | Train Loss: 1.0729 Grad: 132829.4688 LR: 4.3440e-06 | Elapse: 5.05s\n",
      "Epoch 14 [150/501] | Train Loss: 1.0863 Grad: 131357.4219 LR: 3.8851e-06 | Elapse: 7.58s\n",
      "Epoch 14 [200/501] | Train Loss: 1.0914 Grad: 125093.7656 LR: 3.4511e-06 | Elapse: 10.10s\n",
      "Epoch 14 [250/501] | Train Loss: 1.0884 Grad: 106791.3750 LR: 3.0423e-06 | Elapse: 12.62s\n",
      "Epoch 14 [300/501] | Train Loss: 1.0911 Grad: 122753.0156 LR: 2.6587e-06 | Elapse: 15.15s\n",
      "Epoch 14 [350/501] | Train Loss: 1.0905 Grad: 110823.7812 LR: 2.3007e-06 | Elapse: 17.67s\n",
      "Epoch 14 [400/501] | Train Loss: 1.0908 Grad: 96223.3438 LR: 1.9685e-06 | Elapse: 20.16s\n",
      "Epoch 14 [450/501] | Train Loss: 1.0885 Grad: 96819.6250 LR: 1.6621e-06 | Elapse: 22.65s\n",
      "Epoch 14 [500/501] | Train Loss: 1.0868 Grad: 156597.2344 LR: 1.3819e-06 | Elapse: 25.17s\n"
     ]
    },
    {
     "data": {
      "application/vnd.jupyter.widget-view+json": {
       "model_id": "eef28ec3d4bb42c3a7167de498693381",
       "version_major": 2,
       "version_minor": 0
      },
      "text/plain": [
       "Valid [13]:   0%|          | 0/129 [00:00<?, ?batch/s]"
      ]
     },
     "metadata": {},
     "output_type": "display_data"
    },
    {
     "name": "stdout",
     "output_type": "stream",
     "text": [
      "Epoch 14 [0/129] | Valid Loss: 0.9309 | Elapse: 0.05s\n",
      "Epoch 14 [50/129] | Valid Loss: 1.0562 | Elapse: 2.19s\n",
      "Epoch 14 [100/129] | Valid Loss: 1.0691 | Elapse: 4.34s\n"
     ]
    },
    {
     "name": "stderr",
     "output_type": "stream",
     "text": [
      "----------------------------------------------------------------------------------------------------\n",
      "Epoch 14 - Average Loss: (train) 1.0868; (valid) 1.0748 | Time: 30.71s\n",
      "Best model found in epoch 14 | valid loss: 1.0748\n"
     ]
    },
    {
     "name": "stdout",
     "output_type": "stream",
     "text": [
      "Epoch 14 [128/129] | Valid Loss: 1.0748 | Elapse: 5.53s\n"
     ]
    },
    {
     "data": {
      "application/vnd.jupyter.widget-view+json": {
       "model_id": "6c7356576c1e467ead4251454e46bd69",
       "version_major": 2,
       "version_minor": 0
      },
      "text/plain": [
       "Train [14]:   0%|          | 0/501 [00:00<?, ?batch/s]"
      ]
     },
     "metadata": {},
     "output_type": "display_data"
    },
    {
     "name": "stdout",
     "output_type": "stream",
     "text": [
      "Epoch 15 [0/501] | Train Loss: 0.9395 Grad: 102178.0469 LR: 1.3765e-06 | Elapse: 0.05s\n",
      "Epoch 15 [50/501] | Train Loss: 1.0790 Grad: 92081.3359 LR: 1.1230e-06 | Elapse: 2.55s\n",
      "Epoch 15 [100/501] | Train Loss: 1.0698 Grad: 134343.4062 LR: 8.9590e-07 | Elapse: 5.10s\n",
      "Epoch 15 [150/501] | Train Loss: 1.0812 Grad: 122595.3672 LR: 6.9527e-07 | Elapse: 7.59s\n",
      "Epoch 15 [200/501] | Train Loss: 1.0882 Grad: 140900.2812 LR: 5.2125e-07 | Elapse: 10.10s\n",
      "Epoch 15 [250/501] | Train Loss: 1.0879 Grad: 114751.7422 LR: 3.7392e-07 | Elapse: 12.60s\n",
      "Epoch 15 [300/501] | Train Loss: 1.0903 Grad: 121165.6953 LR: 2.5336e-07 | Elapse: 15.13s\n",
      "Epoch 15 [350/501] | Train Loss: 1.0895 Grad: 115055.6016 LR: 1.5965e-07 | Elapse: 17.64s\n",
      "Epoch 15 [400/501] | Train Loss: 1.0908 Grad: 94697.6406 LR: 9.2834e-08 | Elapse: 20.15s\n",
      "Epoch 15 [450/501] | Train Loss: 1.0892 Grad: 95080.6250 LR: 5.2945e-08 | Elapse: 22.65s\n",
      "Epoch 15 [500/501] | Train Loss: 1.0881 Grad: 165724.4844 LR: 4.0005e-08 | Elapse: 25.14s\n"
     ]
    },
    {
     "data": {
      "application/vnd.jupyter.widget-view+json": {
       "model_id": "007c280a2a684eca99b085b879a84bc8",
       "version_major": 2,
       "version_minor": 0
      },
      "text/plain": [
       "Valid [14]:   0%|          | 0/129 [00:00<?, ?batch/s]"
      ]
     },
     "metadata": {},
     "output_type": "display_data"
    },
    {
     "name": "stdout",
     "output_type": "stream",
     "text": [
      "Epoch 15 [0/129] | Valid Loss: 0.9302 | Elapse: 0.05s\n",
      "Epoch 15 [50/129] | Valid Loss: 1.0562 | Elapse: 2.21s\n",
      "Epoch 15 [100/129] | Valid Loss: 1.0691 | Elapse: 4.35s\n"
     ]
    },
    {
     "name": "stderr",
     "output_type": "stream",
     "text": [
      "----------------------------------------------------------------------------------------------------\n",
      "Epoch 15 - Average Loss: (train) 1.0881; (valid) 1.0748 | Time: 30.69s\n",
      "Best model found in epoch 15 | valid loss: 1.0748\n",
      "====================================================================================================\n",
      "Fold 2 Valid Loss: 1.0748398303985596\n",
      "Elapse: 7.64 min \n",
      "====================================================================================================\n"
     ]
    },
    {
     "name": "stdout",
     "output_type": "stream",
     "text": [
      "Epoch 15 [128/129] | Valid Loss: 1.0748 | Elapse: 5.55s\n"
     ]
    },
    {
     "name": "stderr",
     "output_type": "stream",
     "text": [
      "- Second Stage -\n",
      "Use Checkpoint: PatchTSMixer_fold_2_stage_1.pth\n"
     ]
    },
    {
     "data": {
      "application/vnd.jupyter.widget-view+json": {
       "model_id": "72008f9cb82d44f2b011ccebe9268f7d",
       "version_major": 2,
       "version_minor": 0
      },
      "text/plain": [
       "Train [0]:   0%|          | 0/193 [00:00<?, ?batch/s]"
      ]
     },
     "metadata": {},
     "output_type": "display_data"
    },
    {
     "name": "stdout",
     "output_type": "stream",
     "text": [
      "Epoch 1 [0/193] | Train Loss: 0.6661 Grad: 85594.5703 LR: 4.0028e-06 | Elapse: 0.06s\n",
      "Epoch 1 [50/193] | Train Loss: 0.7385 Grad: 91327.7031 LR: 1.1214e-05 | Elapse: 2.56s\n",
      "Epoch 1 [100/193] | Train Loss: 0.7321 Grad: 84013.6953 LR: 3.0220e-05 | Elapse: 5.05s\n",
      "Epoch 1 [150/193] | Train Loss: 0.7329 Grad: 65416.0742 LR: 5.5525e-05 | Elapse: 7.57s\n",
      "Epoch 1 [192/193] | Train Loss: 0.7257 Grad: 67022.4844 LR: 7.6301e-05 | Elapse: 9.65s\n"
     ]
    },
    {
     "data": {
      "application/vnd.jupyter.widget-view+json": {
       "model_id": "61b7f69795a549a6ae38bf4054c49e18",
       "version_major": 2,
       "version_minor": 0
      },
      "text/plain": [
       "Valid [0]:   0%|          | 0/129 [00:00<?, ?batch/s]"
      ]
     },
     "metadata": {},
     "output_type": "display_data"
    },
    {
     "name": "stdout",
     "output_type": "stream",
     "text": [
      "Epoch 1 [0/129] | Valid Loss: 0.9591 | Elapse: 0.06s\n",
      "Epoch 1 [50/129] | Valid Loss: 1.1046 | Elapse: 2.24s\n",
      "Epoch 1 [100/129] | Valid Loss: 1.1199 | Elapse: 4.40s\n"
     ]
    },
    {
     "name": "stderr",
     "output_type": "stream",
     "text": [
      "----------------------------------------------------------------------------------------------------\n",
      "Epoch 1 - Average Loss: (train) 0.7257; (valid) 1.1213 | Time: 15.26s\n",
      "Best model found in epoch 1 | valid loss: 1.1213\n"
     ]
    },
    {
     "name": "stdout",
     "output_type": "stream",
     "text": [
      "Epoch 1 [128/129] | Valid Loss: 1.1213 | Elapse: 5.61s\n"
     ]
    },
    {
     "data": {
      "application/vnd.jupyter.widget-view+json": {
       "model_id": "e07b7fbc519c45deb780dcd008ae9148",
       "version_major": 2,
       "version_minor": 0
      },
      "text/plain": [
       "Train [1]:   0%|          | 0/193 [00:00<?, ?batch/s]"
      ]
     },
     "metadata": {},
     "output_type": "display_data"
    },
    {
     "name": "stdout",
     "output_type": "stream",
     "text": [
      "Epoch 2 [0/193] | Train Loss: 0.6201 Grad: 57539.4609 LR: 7.6750e-05 | Elapse: 0.05s\n",
      "Epoch 2 [50/193] | Train Loss: 0.6854 Grad: 87362.3594 LR: 9.4474e-05 | Elapse: 2.55s\n",
      "Epoch 2 [100/193] | Train Loss: 0.6898 Grad: 71257.1953 LR: 9.9999e-05 | Elapse: 5.02s\n",
      "Epoch 2 [150/193] | Train Loss: 0.6957 Grad: 64552.1953 LR: 9.9888e-05 | Elapse: 7.48s\n",
      "Epoch 2 [192/193] | Train Loss: 0.6926 Grad: 71945.2031 LR: 9.9655e-05 | Elapse: 9.57s\n"
     ]
    },
    {
     "data": {
      "application/vnd.jupyter.widget-view+json": {
       "model_id": "dac669fa8a804055ad57755b9b6a3495",
       "version_major": 2,
       "version_minor": 0
      },
      "text/plain": [
       "Valid [1]:   0%|          | 0/129 [00:00<?, ?batch/s]"
      ]
     },
     "metadata": {},
     "output_type": "display_data"
    },
    {
     "name": "stdout",
     "output_type": "stream",
     "text": [
      "Epoch 2 [0/129] | Valid Loss: 0.9896 | Elapse: 0.05s\n",
      "Epoch 2 [50/129] | Valid Loss: 1.1325 | Elapse: 2.21s\n",
      "Epoch 2 [100/129] | Valid Loss: 1.1501 | Elapse: 4.35s\n"
     ]
    },
    {
     "name": "stderr",
     "output_type": "stream",
     "text": [
      "----------------------------------------------------------------------------------------------------\n",
      "Epoch 2 - Average Loss: (train) 0.6926; (valid) 1.1495 | Time: 15.12s\n"
     ]
    },
    {
     "name": "stdout",
     "output_type": "stream",
     "text": [
      "Epoch 2 [128/129] | Valid Loss: 1.1495 | Elapse: 5.55s\n"
     ]
    },
    {
     "data": {
      "application/vnd.jupyter.widget-view+json": {
       "model_id": "52a2428eea884ed8aa7f37c9b6453163",
       "version_major": 2,
       "version_minor": 0
      },
      "text/plain": [
       "Train [2]:   0%|          | 0/193 [00:00<?, ?batch/s]"
      ]
     },
     "metadata": {},
     "output_type": "display_data"
    },
    {
     "name": "stdout",
     "output_type": "stream",
     "text": [
      "Epoch 3 [0/193] | Train Loss: 0.6289 Grad: 55913.9062 LR: 9.9648e-05 | Elapse: 0.05s\n",
      "Epoch 3 [50/193] | Train Loss: 0.6852 Grad: 80412.5156 LR: 9.9201e-05 | Elapse: 2.54s\n",
      "Epoch 3 [100/193] | Train Loss: 0.6896 Grad: 71310.9297 LR: 9.8575e-05 | Elapse: 5.07s\n",
      "Epoch 3 [150/193] | Train Loss: 0.6936 Grad: 64455.8047 LR: 9.7773e-05 | Elapse: 7.59s\n",
      "Epoch 3 [192/193] | Train Loss: 0.6905 Grad: 61010.3672 LR: 9.6965e-05 | Elapse: 9.71s\n"
     ]
    },
    {
     "data": {
      "application/vnd.jupyter.widget-view+json": {
       "model_id": "50a94c7aae534082be61cb2e9cd6add2",
       "version_major": 2,
       "version_minor": 0
      },
      "text/plain": [
       "Valid [2]:   0%|          | 0/129 [00:00<?, ?batch/s]"
      ]
     },
     "metadata": {},
     "output_type": "display_data"
    },
    {
     "name": "stdout",
     "output_type": "stream",
     "text": [
      "Epoch 3 [0/129] | Valid Loss: 0.9953 | Elapse: 0.05s\n",
      "Epoch 3 [50/129] | Valid Loss: 1.1321 | Elapse: 2.20s\n",
      "Epoch 3 [100/129] | Valid Loss: 1.1513 | Elapse: 4.35s\n"
     ]
    },
    {
     "name": "stderr",
     "output_type": "stream",
     "text": [
      "----------------------------------------------------------------------------------------------------\n",
      "Epoch 3 - Average Loss: (train) 0.6905; (valid) 1.1505 | Time: 15.28s\n"
     ]
    },
    {
     "name": "stdout",
     "output_type": "stream",
     "text": [
      "Epoch 3 [128/129] | Valid Loss: 1.1505 | Elapse: 5.57s\n"
     ]
    },
    {
     "data": {
      "application/vnd.jupyter.widget-view+json": {
       "model_id": "c7df73b274e740dc8b4e040eb423cbe8",
       "version_major": 2,
       "version_minor": 0
      },
      "text/plain": [
       "Train [3]:   0%|          | 0/193 [00:00<?, ?batch/s]"
      ]
     },
     "metadata": {},
     "output_type": "display_data"
    },
    {
     "name": "stdout",
     "output_type": "stream",
     "text": [
      "Epoch 4 [0/193] | Train Loss: 0.6663 Grad: 57402.1875 LR: 9.6944e-05 | Elapse: 0.06s\n",
      "Epoch 4 [50/193] | Train Loss: 0.6858 Grad: 80956.8281 LR: 9.5822e-05 | Elapse: 2.62s\n",
      "Epoch 4 [100/193] | Train Loss: 0.6864 Grad: 68650.6641 LR: 9.4534e-05 | Elapse: 5.18s\n",
      "Epoch 4 [150/193] | Train Loss: 0.6902 Grad: 60053.7383 LR: 9.3084e-05 | Elapse: 7.70s\n",
      "Epoch 4 [192/193] | Train Loss: 0.6877 Grad: 63280.3945 LR: 9.1745e-05 | Elapse: 9.78s\n"
     ]
    },
    {
     "data": {
      "application/vnd.jupyter.widget-view+json": {
       "model_id": "5229592cf2074c36be96d57c1df082e1",
       "version_major": 2,
       "version_minor": 0
      },
      "text/plain": [
       "Valid [3]:   0%|          | 0/129 [00:00<?, ?batch/s]"
      ]
     },
     "metadata": {},
     "output_type": "display_data"
    },
    {
     "name": "stdout",
     "output_type": "stream",
     "text": [
      "Epoch 4 [0/129] | Valid Loss: 0.9940 | Elapse: 0.05s\n",
      "Epoch 4 [50/129] | Valid Loss: 1.1295 | Elapse: 2.20s\n",
      "Epoch 4 [100/129] | Valid Loss: 1.1489 | Elapse: 4.35s\n"
     ]
    },
    {
     "name": "stderr",
     "output_type": "stream",
     "text": [
      "----------------------------------------------------------------------------------------------------\n",
      "Epoch 4 - Average Loss: (train) 0.6877; (valid) 1.1480 | Time: 15.33s\n"
     ]
    },
    {
     "name": "stdout",
     "output_type": "stream",
     "text": [
      "Epoch 4 [128/129] | Valid Loss: 1.1480 | Elapse: 5.55s\n"
     ]
    },
    {
     "data": {
      "application/vnd.jupyter.widget-view+json": {
       "model_id": "e14fc63b21074d848712ecf5902a3b82",
       "version_major": 2,
       "version_minor": 0
      },
      "text/plain": [
       "Train [4]:   0%|          | 0/193 [00:00<?, ?batch/s]"
      ]
     },
     "metadata": {},
     "output_type": "display_data"
    },
    {
     "name": "stdout",
     "output_type": "stream",
     "text": [
      "Epoch 5 [0/193] | Train Loss: 0.6205 Grad: 55718.9219 LR: 9.1711e-05 | Elapse: 0.06s\n",
      "Epoch 5 [50/193] | Train Loss: 0.6771 Grad: 78451.2344 LR: 8.9975e-05 | Elapse: 2.51s\n",
      "Epoch 5 [100/193] | Train Loss: 0.6809 Grad: 69682.1797 LR: 8.8093e-05 | Elapse: 5.01s\n",
      "Epoch 5 [150/193] | Train Loss: 0.6850 Grad: 61104.6406 LR: 8.6073e-05 | Elapse: 7.54s\n",
      "Epoch 5 [192/193] | Train Loss: 0.6819 Grad: 58890.2891 LR: 8.4274e-05 | Elapse: 9.63s\n"
     ]
    },
    {
     "data": {
      "application/vnd.jupyter.widget-view+json": {
       "model_id": "8a1613ed09a2452d8e332f80ac0f7808",
       "version_major": 2,
       "version_minor": 0
      },
      "text/plain": [
       "Valid [4]:   0%|          | 0/129 [00:00<?, ?batch/s]"
      ]
     },
     "metadata": {},
     "output_type": "display_data"
    },
    {
     "name": "stdout",
     "output_type": "stream",
     "text": [
      "Epoch 5 [0/129] | Valid Loss: 0.9921 | Elapse: 0.05s\n",
      "Epoch 5 [50/129] | Valid Loss: 1.1255 | Elapse: 2.19s\n",
      "Epoch 5 [100/129] | Valid Loss: 1.1449 | Elapse: 4.32s\n"
     ]
    },
    {
     "name": "stderr",
     "output_type": "stream",
     "text": [
      "----------------------------------------------------------------------------------------------------\n",
      "Epoch 5 - Average Loss: (train) 0.6819; (valid) 1.1440 | Time: 15.14s\n"
     ]
    },
    {
     "name": "stdout",
     "output_type": "stream",
     "text": [
      "Epoch 5 [128/129] | Valid Loss: 1.1440 | Elapse: 5.51s\n"
     ]
    },
    {
     "data": {
      "application/vnd.jupyter.widget-view+json": {
       "model_id": "5ebc5c92edf24d98a379109d72fa6ee2",
       "version_major": 2,
       "version_minor": 0
      },
      "text/plain": [
       "Train [5]:   0%|          | 0/193 [00:00<?, ?batch/s]"
      ]
     },
     "metadata": {},
     "output_type": "display_data"
    },
    {
     "name": "stdout",
     "output_type": "stream",
     "text": [
      "Epoch 6 [0/193] | Train Loss: 0.6206 Grad: 56433.5430 LR: 8.4231e-05 | Elapse: 0.05s\n",
      "Epoch 6 [50/193] | Train Loss: 0.6773 Grad: 82459.0469 LR: 8.1973e-05 | Elapse: 2.57s\n",
      "Epoch 6 [100/193] | Train Loss: 0.6774 Grad: 73600.9922 LR: 7.9599e-05 | Elapse: 5.07s\n",
      "Epoch 6 [150/193] | Train Loss: 0.6827 Grad: 61334.3281 LR: 7.7118e-05 | Elapse: 7.59s\n",
      "Epoch 6 [192/193] | Train Loss: 0.6800 Grad: 66027.3828 LR: 7.4958e-05 | Elapse: 9.68s\n"
     ]
    },
    {
     "data": {
      "application/vnd.jupyter.widget-view+json": {
       "model_id": "aef6d1b6fc094128ad0e21d044fa0d6d",
       "version_major": 2,
       "version_minor": 0
      },
      "text/plain": [
       "Valid [5]:   0%|          | 0/129 [00:00<?, ?batch/s]"
      ]
     },
     "metadata": {},
     "output_type": "display_data"
    },
    {
     "name": "stdout",
     "output_type": "stream",
     "text": [
      "Epoch 6 [0/129] | Valid Loss: 0.9908 | Elapse: 0.05s\n",
      "Epoch 6 [50/129] | Valid Loss: 1.1247 | Elapse: 2.18s\n",
      "Epoch 6 [100/129] | Valid Loss: 1.1448 | Elapse: 4.31s\n"
     ]
    },
    {
     "name": "stderr",
     "output_type": "stream",
     "text": [
      "----------------------------------------------------------------------------------------------------\n",
      "Epoch 6 - Average Loss: (train) 0.6800; (valid) 1.1441 | Time: 15.18s\n"
     ]
    },
    {
     "name": "stdout",
     "output_type": "stream",
     "text": [
      "Epoch 6 [128/129] | Valid Loss: 1.1441 | Elapse: 5.49s\n"
     ]
    },
    {
     "data": {
      "application/vnd.jupyter.widget-view+json": {
       "model_id": "cc77b94b44434623bd308ea4acc5c0d7",
       "version_major": 2,
       "version_minor": 0
      },
      "text/plain": [
       "Train [6]:   0%|          | 0/193 [00:00<?, ?batch/s]"
      ]
     },
     "metadata": {},
     "output_type": "display_data"
    },
    {
     "name": "stdout",
     "output_type": "stream",
     "text": [
      "Epoch 7 [0/193] | Train Loss: 0.6202 Grad: 55721.2773 LR: 7.4906e-05 | Elapse: 0.05s\n",
      "Epoch 7 [50/193] | Train Loss: 0.6731 Grad: 70009.6797 LR: 7.2249e-05 | Elapse: 2.56s\n",
      "Epoch 7 [100/193] | Train Loss: 0.6749 Grad: 68326.2734 LR: 6.9511e-05 | Elapse: 5.07s\n",
      "Epoch 7 [150/193] | Train Loss: 0.6800 Grad: 60808.3281 LR: 6.6703e-05 | Elapse: 7.58s\n",
      "Epoch 7 [192/193] | Train Loss: 0.6771 Grad: 64609.7227 LR: 6.4297e-05 | Elapse: 9.69s\n"
     ]
    },
    {
     "data": {
      "application/vnd.jupyter.widget-view+json": {
       "model_id": "7b3e3e2731814cb2af6bb0e18801f130",
       "version_major": 2,
       "version_minor": 0
      },
      "text/plain": [
       "Valid [6]:   0%|          | 0/129 [00:00<?, ?batch/s]"
      ]
     },
     "metadata": {},
     "output_type": "display_data"
    },
    {
     "name": "stdout",
     "output_type": "stream",
     "text": [
      "Epoch 7 [0/129] | Valid Loss: 0.9899 | Elapse: 0.05s\n",
      "Epoch 7 [50/129] | Valid Loss: 1.1229 | Elapse: 2.18s\n",
      "Epoch 7 [100/129] | Valid Loss: 1.1436 | Elapse: 4.31s\n"
     ]
    },
    {
     "name": "stderr",
     "output_type": "stream",
     "text": [
      "----------------------------------------------------------------------------------------------------\n",
      "Epoch 7 - Average Loss: (train) 0.6771; (valid) 1.1429 | Time: 15.19s\n"
     ]
    },
    {
     "name": "stdout",
     "output_type": "stream",
     "text": [
      "Epoch 7 [128/129] | Valid Loss: 1.1429 | Elapse: 5.49s\n"
     ]
    },
    {
     "data": {
      "application/vnd.jupyter.widget-view+json": {
       "model_id": "42ce3fd6de0e4bae93b741564a68e21f",
       "version_major": 2,
       "version_minor": 0
      },
      "text/plain": [
       "Train [7]:   0%|          | 0/193 [00:00<?, ?batch/s]"
      ]
     },
     "metadata": {},
     "output_type": "display_data"
    },
    {
     "name": "stdout",
     "output_type": "stream",
     "text": [
      "Epoch 8 [0/193] | Train Loss: 0.6154 Grad: 59354.3711 LR: 6.4239e-05 | Elapse: 0.05s\n",
      "Epoch 8 [50/193] | Train Loss: 0.6736 Grad: 72128.3125 LR: 6.1326e-05 | Elapse: 2.56s\n",
      "Epoch 8 [100/193] | Train Loss: 0.6740 Grad: 69043.8516 LR: 5.8372e-05 | Elapse: 5.08s\n",
      "Epoch 8 [150/193] | Train Loss: 0.6794 Grad: 59948.1289 LR: 5.5388e-05 | Elapse: 7.59s\n",
      "Epoch 8 [192/193] | Train Loss: 0.6766 Grad: 69153.1250 LR: 5.2866e-05 | Elapse: 9.72s\n"
     ]
    },
    {
     "data": {
      "application/vnd.jupyter.widget-view+json": {
       "model_id": "a2d2283891ff44e6b603fcafe60c2e2c",
       "version_major": 2,
       "version_minor": 0
      },
      "text/plain": [
       "Valid [7]:   0%|          | 0/129 [00:00<?, ?batch/s]"
      ]
     },
     "metadata": {},
     "output_type": "display_data"
    },
    {
     "name": "stdout",
     "output_type": "stream",
     "text": [
      "Epoch 8 [0/129] | Valid Loss: 0.9865 | Elapse: 0.05s\n",
      "Epoch 8 [50/129] | Valid Loss: 1.1176 | Elapse: 2.24s\n",
      "Epoch 8 [100/129] | Valid Loss: 1.1384 | Elapse: 4.38s\n"
     ]
    },
    {
     "name": "stderr",
     "output_type": "stream",
     "text": [
      "----------------------------------------------------------------------------------------------------\n",
      "Epoch 8 - Average Loss: (train) 0.6766; (valid) 1.1378 | Time: 15.31s\n"
     ]
    },
    {
     "name": "stdout",
     "output_type": "stream",
     "text": [
      "Epoch 8 [128/129] | Valid Loss: 1.1378 | Elapse: 5.59s\n"
     ]
    },
    {
     "data": {
      "application/vnd.jupyter.widget-view+json": {
       "model_id": "4a731288fd474cbaa5b797608948e479",
       "version_major": 2,
       "version_minor": 0
      },
      "text/plain": [
       "Train [8]:   0%|          | 0/193 [00:00<?, ?batch/s]"
      ]
     },
     "metadata": {},
     "output_type": "display_data"
    },
    {
     "name": "stdout",
     "output_type": "stream",
     "text": [
      "Epoch 9 [0/193] | Train Loss: 0.5980 Grad: 54764.0664 LR: 5.2806e-05 | Elapse: 0.06s\n",
      "Epoch 9 [50/193] | Train Loss: 0.6641 Grad: 76160.3828 LR: 4.9794e-05 | Elapse: 2.60s\n",
      "Epoch 9 [100/193] | Train Loss: 0.6685 Grad: 66464.9219 LR: 4.6783e-05 | Elapse: 5.14s\n",
      "Epoch 9 [150/193] | Train Loss: 0.6751 Grad: 67702.6406 LR: 4.3784e-05 | Elapse: 7.68s\n",
      "Epoch 9 [192/193] | Train Loss: 0.6734 Grad: 65723.9062 LR: 4.1282e-05 | Elapse: 9.78s\n"
     ]
    },
    {
     "data": {
      "application/vnd.jupyter.widget-view+json": {
       "model_id": "cbfb184b23d64775b956c25ccb96ef01",
       "version_major": 2,
       "version_minor": 0
      },
      "text/plain": [
       "Valid [8]:   0%|          | 0/129 [00:00<?, ?batch/s]"
      ]
     },
     "metadata": {},
     "output_type": "display_data"
    },
    {
     "name": "stdout",
     "output_type": "stream",
     "text": [
      "Epoch 9 [0/129] | Valid Loss: 0.9860 | Elapse: 0.06s\n",
      "Epoch 9 [50/129] | Valid Loss: 1.1175 | Elapse: 2.24s\n",
      "Epoch 9 [100/129] | Valid Loss: 1.1385 | Elapse: 4.40s\n"
     ]
    },
    {
     "name": "stderr",
     "output_type": "stream",
     "text": [
      "----------------------------------------------------------------------------------------------------\n",
      "Epoch 9 - Average Loss: (train) 0.6734; (valid) 1.1377 | Time: 15.38s\n"
     ]
    },
    {
     "name": "stdout",
     "output_type": "stream",
     "text": [
      "Epoch 9 [128/129] | Valid Loss: 1.1377 | Elapse: 5.60s\n"
     ]
    },
    {
     "data": {
      "application/vnd.jupyter.widget-view+json": {
       "model_id": "126b794eda3d4f7ea92f778bee4a13aa",
       "version_major": 2,
       "version_minor": 0
      },
      "text/plain": [
       "Train [9]:   0%|          | 0/193 [00:00<?, ?batch/s]"
      ]
     },
     "metadata": {},
     "output_type": "display_data"
    },
    {
     "name": "stdout",
     "output_type": "stream",
     "text": [
      "Epoch 10 [0/193] | Train Loss: 0.6142 Grad: 55707.5156 LR: 4.1222e-05 | Elapse: 0.05s\n",
      "Epoch 10 [50/193] | Train Loss: 0.6709 Grad: 75973.6172 LR: 3.8274e-05 | Elapse: 2.57s\n",
      "Epoch 10 [100/193] | Train Loss: 0.6726 Grad: 67445.5781 LR: 3.5368e-05 | Elapse: 5.07s\n",
      "Epoch 10 [150/193] | Train Loss: 0.6783 Grad: 60722.6484 LR: 3.2516e-05 | Elapse: 7.56s\n",
      "Epoch 10 [192/193] | Train Loss: 0.6756 Grad: 67338.0156 LR: 3.0169e-05 | Elapse: 9.65s\n"
     ]
    },
    {
     "data": {
      "application/vnd.jupyter.widget-view+json": {
       "model_id": "53405046fd1b43aaa9068e8795568622",
       "version_major": 2,
       "version_minor": 0
      },
      "text/plain": [
       "Valid [9]:   0%|          | 0/129 [00:00<?, ?batch/s]"
      ]
     },
     "metadata": {},
     "output_type": "display_data"
    },
    {
     "name": "stdout",
     "output_type": "stream",
     "text": [
      "Epoch 10 [0/129] | Valid Loss: 0.9850 | Elapse: 0.05s\n",
      "Epoch 10 [50/129] | Valid Loss: 1.1154 | Elapse: 2.20s\n",
      "Epoch 10 [100/129] | Valid Loss: 1.1366 | Elapse: 4.36s\n"
     ]
    },
    {
     "name": "stderr",
     "output_type": "stream",
     "text": [
      "----------------------------------------------------------------------------------------------------\n",
      "Epoch 10 - Average Loss: (train) 0.6756; (valid) 1.1359 | Time: 15.21s\n"
     ]
    },
    {
     "name": "stdout",
     "output_type": "stream",
     "text": [
      "Epoch 10 [128/129] | Valid Loss: 1.1359 | Elapse: 5.56s\n"
     ]
    },
    {
     "data": {
      "application/vnd.jupyter.widget-view+json": {
       "model_id": "ef920f110e0142228791829f4021faf6",
       "version_major": 2,
       "version_minor": 0
      },
      "text/plain": [
       "Train [10]:   0%|          | 0/193 [00:00<?, ?batch/s]"
      ]
     },
     "metadata": {},
     "output_type": "display_data"
    },
    {
     "name": "stdout",
     "output_type": "stream",
     "text": [
      "Epoch 11 [0/193] | Train Loss: 0.6265 Grad: 51551.1562 LR: 3.0113e-05 | Elapse: 0.05s\n",
      "Epoch 11 [50/193] | Train Loss: 0.6706 Grad: 75058.6797 LR: 2.7387e-05 | Elapse: 2.55s\n",
      "Epoch 11 [100/193] | Train Loss: 0.6709 Grad: 65959.9688 LR: 2.4744e-05 | Elapse: 5.04s\n",
      "Epoch 11 [150/193] | Train Loss: 0.6771 Grad: 59055.1328 LR: 2.2192e-05 | Elapse: 7.52s\n",
      "Epoch 11 [192/193] | Train Loss: 0.6745 Grad: 70503.3828 LR: 2.0126e-05 | Elapse: 9.65s\n"
     ]
    },
    {
     "data": {
      "application/vnd.jupyter.widget-view+json": {
       "model_id": "9952ef7dac8d4b69b81622a8d8577d0a",
       "version_major": 2,
       "version_minor": 0
      },
      "text/plain": [
       "Valid [10]:   0%|          | 0/129 [00:00<?, ?batch/s]"
      ]
     },
     "metadata": {},
     "output_type": "display_data"
    },
    {
     "name": "stdout",
     "output_type": "stream",
     "text": [
      "Epoch 11 [0/129] | Valid Loss: 0.9859 | Elapse: 0.05s\n",
      "Epoch 11 [50/129] | Valid Loss: 1.1134 | Elapse: 2.21s\n",
      "Epoch 11 [100/129] | Valid Loss: 1.1347 | Elapse: 4.36s\n"
     ]
    },
    {
     "name": "stderr",
     "output_type": "stream",
     "text": [
      "----------------------------------------------------------------------------------------------------\n",
      "Epoch 11 - Average Loss: (train) 0.6745; (valid) 1.1341 | Time: 15.20s\n"
     ]
    },
    {
     "name": "stdout",
     "output_type": "stream",
     "text": [
      "Epoch 11 [128/129] | Valid Loss: 1.1341 | Elapse: 5.56s\n"
     ]
    },
    {
     "data": {
      "application/vnd.jupyter.widget-view+json": {
       "model_id": "25c067c373f64829ab293ce966fd22eb",
       "version_major": 2,
       "version_minor": 0
      },
      "text/plain": [
       "Train [11]:   0%|          | 0/193 [00:00<?, ?batch/s]"
      ]
     },
     "metadata": {},
     "output_type": "display_data"
    },
    {
     "name": "stdout",
     "output_type": "stream",
     "text": [
      "Epoch 12 [0/193] | Train Loss: 0.6391 Grad: 54460.0820 LR: 2.0077e-05 | Elapse: 0.05s\n",
      "Epoch 12 [50/193] | Train Loss: 0.6677 Grad: 74878.6875 LR: 1.7721e-05 | Elapse: 2.56s\n",
      "Epoch 12 [100/193] | Train Loss: 0.6681 Grad: 70590.7734 LR: 1.5481e-05 | Elapse: 5.07s\n",
      "Epoch 12 [150/193] | Train Loss: 0.6729 Grad: 64526.6875 LR: 1.3367e-05 | Elapse: 7.56s\n",
      "Epoch 12 [192/193] | Train Loss: 0.6710 Grad: 68286.2344 LR: 1.1694e-05 | Elapse: 9.66s\n"
     ]
    },
    {
     "data": {
      "application/vnd.jupyter.widget-view+json": {
       "model_id": "842d260658a9496b85e2ff049a33d189",
       "version_major": 2,
       "version_minor": 0
      },
      "text/plain": [
       "Valid [11]:   0%|          | 0/129 [00:00<?, ?batch/s]"
      ]
     },
     "metadata": {},
     "output_type": "display_data"
    },
    {
     "name": "stdout",
     "output_type": "stream",
     "text": [
      "Epoch 12 [0/129] | Valid Loss: 0.9853 | Elapse: 0.05s\n",
      "Epoch 12 [50/129] | Valid Loss: 1.1108 | Elapse: 2.20s\n",
      "Epoch 12 [100/129] | Valid Loss: 1.1322 | Elapse: 4.35s\n"
     ]
    },
    {
     "name": "stderr",
     "output_type": "stream",
     "text": [
      "----------------------------------------------------------------------------------------------------\n",
      "Epoch 12 - Average Loss: (train) 0.6710; (valid) 1.1315 | Time: 15.21s\n"
     ]
    },
    {
     "name": "stdout",
     "output_type": "stream",
     "text": [
      "Epoch 12 [128/129] | Valid Loss: 1.1315 | Elapse: 5.55s\n"
     ]
    },
    {
     "data": {
      "application/vnd.jupyter.widget-view+json": {
       "model_id": "595cf8e6a8924f28a3355a6e54d2b84d",
       "version_major": 2,
       "version_minor": 0
      },
      "text/plain": [
       "Train [12]:   0%|          | 0/193 [00:00<?, ?batch/s]"
      ]
     },
     "metadata": {},
     "output_type": "display_data"
    },
    {
     "name": "stdout",
     "output_type": "stream",
     "text": [
      "Epoch 13 [0/193] | Train Loss: 0.6010 Grad: 50979.9531 LR: 1.1656e-05 | Elapse: 0.05s\n",
      "Epoch 13 [50/193] | Train Loss: 0.6622 Grad: 74369.0781 LR: 9.7953e-06 | Elapse: 2.56s\n",
      "Epoch 13 [100/193] | Train Loss: 0.6667 Grad: 67479.1328 LR: 8.0811e-06 | Elapse: 5.06s\n",
      "Epoch 13 [150/193] | Train Loss: 0.6738 Grad: 65888.1562 LR: 6.5193e-06 | Elapse: 7.58s\n",
      "Epoch 13 [192/193] | Train Loss: 0.6699 Grad: 62707.1523 LR: 5.3292e-06 | Elapse: 9.72s\n"
     ]
    },
    {
     "data": {
      "application/vnd.jupyter.widget-view+json": {
       "model_id": "a6eca1baed254aad8b86d6528029f62b",
       "version_major": 2,
       "version_minor": 0
      },
      "text/plain": [
       "Valid [12]:   0%|          | 0/129 [00:00<?, ?batch/s]"
      ]
     },
     "metadata": {},
     "output_type": "display_data"
    },
    {
     "name": "stdout",
     "output_type": "stream",
     "text": [
      "Epoch 13 [0/129] | Valid Loss: 0.9861 | Elapse: 0.05s\n",
      "Epoch 13 [50/129] | Valid Loss: 1.1097 | Elapse: 2.20s\n",
      "Epoch 13 [100/129] | Valid Loss: 1.1311 | Elapse: 4.36s\n"
     ]
    },
    {
     "name": "stderr",
     "output_type": "stream",
     "text": [
      "----------------------------------------------------------------------------------------------------\n",
      "Epoch 13 - Average Loss: (train) 0.6699; (valid) 1.1305 | Time: 15.29s\n"
     ]
    },
    {
     "name": "stdout",
     "output_type": "stream",
     "text": [
      "Epoch 13 [128/129] | Valid Loss: 1.1305 | Elapse: 5.56s\n"
     ]
    },
    {
     "data": {
      "application/vnd.jupyter.widget-view+json": {
       "model_id": "df567810f3ba4ae8a6fddfcce9e4402e",
       "version_major": 2,
       "version_minor": 0
      },
      "text/plain": [
       "Train [13]:   0%|          | 0/193 [00:00<?, ?batch/s]"
      ]
     },
     "metadata": {},
     "output_type": "display_data"
    },
    {
     "name": "stdout",
     "output_type": "stream",
     "text": [
      "Epoch 14 [0/193] | Train Loss: 0.6493 Grad: 58046.5703 LR: 5.3023e-06 | Elapse: 0.06s\n",
      "Epoch 14 [50/193] | Train Loss: 0.6652 Grad: 72123.7031 LR: 4.0385e-06 | Elapse: 2.55s\n",
      "Epoch 14 [100/193] | Train Loss: 0.6692 Grad: 67699.9531 LR: 2.9418e-06 | Elapse: 5.04s\n",
      "Epoch 14 [150/193] | Train Loss: 0.6739 Grad: 57593.6680 LR: 2.0162e-06 | Elapse: 7.55s\n",
      "Epoch 14 [192/193] | Train Loss: 0.6714 Grad: 63053.5742 LR: 1.3734e-06 | Elapse: 9.66s\n"
     ]
    },
    {
     "data": {
      "application/vnd.jupyter.widget-view+json": {
       "model_id": "d0bc489948594bdb8158b2bb4b660427",
       "version_major": 2,
       "version_minor": 0
      },
      "text/plain": [
       "Valid [13]:   0%|          | 0/129 [00:00<?, ?batch/s]"
      ]
     },
     "metadata": {},
     "output_type": "display_data"
    },
    {
     "name": "stdout",
     "output_type": "stream",
     "text": [
      "Epoch 14 [0/129] | Valid Loss: 0.9860 | Elapse: 0.05s\n",
      "Epoch 14 [50/129] | Valid Loss: 1.1095 | Elapse: 2.21s\n",
      "Epoch 14 [100/129] | Valid Loss: 1.1310 | Elapse: 4.35s\n"
     ]
    },
    {
     "name": "stderr",
     "output_type": "stream",
     "text": [
      "----------------------------------------------------------------------------------------------------\n",
      "Epoch 14 - Average Loss: (train) 0.6714; (valid) 1.1304 | Time: 15.22s\n"
     ]
    },
    {
     "name": "stdout",
     "output_type": "stream",
     "text": [
      "Epoch 14 [128/129] | Valid Loss: 1.1304 | Elapse: 5.56s\n"
     ]
    },
    {
     "data": {
      "application/vnd.jupyter.widget-view+json": {
       "model_id": "66a37755e10a41a592cd8e3993dfad29",
       "version_major": 2,
       "version_minor": 0
      },
      "text/plain": [
       "Train [14]:   0%|          | 0/193 [00:00<?, ?batch/s]"
      ]
     },
     "metadata": {},
     "output_type": "display_data"
    },
    {
     "name": "stdout",
     "output_type": "stream",
     "text": [
      "Epoch 15 [0/193] | Train Loss: 0.6291 Grad: 53616.3828 LR: 1.3596e-06 | Elapse: 0.06s\n",
      "Epoch 15 [50/193] | Train Loss: 0.6663 Grad: 73117.8516 LR: 7.6057e-07 | Elapse: 2.57s\n",
      "Epoch 15 [100/193] | Train Loss: 0.6688 Grad: 65592.9453 LR: 3.4056e-07 | Elapse: 5.10s\n",
      "Epoch 15 [150/193] | Train Loss: 0.6740 Grad: 62479.3164 LR: 1.0106e-07 | Elapse: 7.62s\n",
      "Epoch 15 [192/193] | Train Loss: 0.6712 Grad: 63639.9805 LR: 4.0036e-08 | Elapse: 9.74s\n"
     ]
    },
    {
     "data": {
      "application/vnd.jupyter.widget-view+json": {
       "model_id": "cbc086ba05ab44dea28b67291987a2dc",
       "version_major": 2,
       "version_minor": 0
      },
      "text/plain": [
       "Valid [14]:   0%|          | 0/129 [00:00<?, ?batch/s]"
      ]
     },
     "metadata": {},
     "output_type": "display_data"
    },
    {
     "name": "stdout",
     "output_type": "stream",
     "text": [
      "Epoch 15 [0/129] | Valid Loss: 0.9860 | Elapse: 0.05s\n",
      "Epoch 15 [50/129] | Valid Loss: 1.1094 | Elapse: 2.19s\n",
      "Epoch 15 [100/129] | Valid Loss: 1.1308 | Elapse: 4.33s\n"
     ]
    },
    {
     "name": "stderr",
     "output_type": "stream",
     "text": [
      "----------------------------------------------------------------------------------------------------\n",
      "Epoch 15 - Average Loss: (train) 0.6712; (valid) 1.1302 | Time: 15.26s\n",
      "====================================================================================================\n",
      "Fold 2 Valid Loss: 1.121292233467102\n",
      "Elapse: 3.81 min \n",
      "====================================================================================================\n"
     ]
    },
    {
     "name": "stdout",
     "output_type": "stream",
     "text": [
      "Epoch 15 [128/129] | Valid Loss: 1.1302 | Elapse: 5.51s\n"
     ]
    },
    {
     "name": "stderr",
     "output_type": "stream",
     "text": [
      "====================================================================================================\n",
      "Fold: 3 || Valid size 3846 \n",
      "====================================================================================================\n",
      "- First Stage -\n"
     ]
    },
    {
     "data": {
      "application/vnd.jupyter.widget-view+json": {
       "model_id": "e40f859939ce408c9d8ea25476db553c",
       "version_major": 2,
       "version_minor": 0
      },
      "text/plain": [
       "Train [0]:   0%|          | 0/510 [00:00<?, ?batch/s]"
      ]
     },
     "metadata": {},
     "output_type": "display_data"
    },
    {
     "name": "stdout",
     "output_type": "stream",
     "text": [
      "Epoch 1 [0/510] | Train Loss: 1.7010 Grad: 243973.1094 LR: 4.0004e-06 | Elapse: 0.05s\n",
      "Epoch 1 [50/510] | Train Loss: 1.5259 Grad: 186443.9688 LR: 5.0517e-06 | Elapse: 2.56s\n",
      "Epoch 1 [100/510] | Train Loss: 1.5025 Grad: 240045.8750 LR: 8.0805e-06 | Elapse: 5.09s\n",
      "Epoch 1 [150/510] | Train Loss: 1.4890 Grad: 180083.3125 LR: 1.2959e-05 | Elapse: 7.62s\n",
      "Epoch 1 [200/510] | Train Loss: 1.4776 Grad: 206477.8906 LR: 1.9483e-05 | Elapse: 10.11s\n",
      "Epoch 1 [250/510] | Train Loss: 1.4563 Grad: 125672.3047 LR: 2.7376e-05 | Elapse: 12.64s\n",
      "Epoch 1 [300/510] | Train Loss: 1.4336 Grad: 111617.5625 LR: 3.6306e-05 | Elapse: 15.11s\n",
      "Epoch 1 [350/510] | Train Loss: 1.4153 Grad: 143360.7500 LR: 4.5898e-05 | Elapse: 17.62s\n",
      "Epoch 1 [400/510] | Train Loss: 1.3993 Grad: 101234.2812 LR: 5.5746e-05 | Elapse: 20.12s\n",
      "Epoch 1 [450/510] | Train Loss: 1.3862 Grad: 159132.8438 LR: 6.5437e-05 | Elapse: 22.60s\n",
      "Epoch 1 [500/510] | Train Loss: 1.3746 Grad: 141252.1406 LR: 7.4562e-05 | Elapse: 25.10s\n",
      "Epoch 1 [509/510] | Train Loss: 1.3733 Grad: 131789.0312 LR: 7.6114e-05 | Elapse: 25.55s\n"
     ]
    },
    {
     "data": {
      "application/vnd.jupyter.widget-view+json": {
       "model_id": "d5e8f0fbae7947449ec21b7919ed9a70",
       "version_major": 2,
       "version_minor": 0
      },
      "text/plain": [
       "Valid [0]:   0%|          | 0/121 [00:00<?, ?batch/s]"
      ]
     },
     "metadata": {},
     "output_type": "display_data"
    },
    {
     "name": "stdout",
     "output_type": "stream",
     "text": [
      "Epoch 1 [0/121] | Valid Loss: 1.1553 | Elapse: 0.05s\n",
      "Epoch 1 [50/121] | Valid Loss: 1.2522 | Elapse: 2.17s\n",
      "Epoch 1 [100/121] | Valid Loss: 1.2546 | Elapse: 4.30s\n"
     ]
    },
    {
     "name": "stderr",
     "output_type": "stream",
     "text": [
      "----------------------------------------------------------------------------------------------------\n",
      "Epoch 1 - Average Loss: (train) 1.3733; (valid) 1.2492 | Time: 30.67s\n",
      "Best model found in epoch 1 | valid loss: 1.2492\n"
     ]
    },
    {
     "name": "stdout",
     "output_type": "stream",
     "text": [
      "Epoch 1 [120/121] | Valid Loss: 1.2492 | Elapse: 5.12s\n"
     ]
    },
    {
     "data": {
      "application/vnd.jupyter.widget-view+json": {
       "model_id": "3b3950d7badf4f1cbe499b5cc4f03756",
       "version_major": 2,
       "version_minor": 0
      },
      "text/plain": [
       "Train [1]:   0%|          | 0/510 [00:00<?, ?batch/s]"
      ]
     },
     "metadata": {},
     "output_type": "display_data"
    },
    {
     "name": "stdout",
     "output_type": "stream",
     "text": [
      "Epoch 2 [0/510] | Train Loss: 1.3750 Grad: 134648.0156 LR: 7.6284e-05 | Elapse: 0.05s\n",
      "Epoch 2 [50/510] | Train Loss: 1.2936 Grad: 51812.3438 LR: 8.4226e-05 | Elapse: 2.52s\n",
      "Epoch 2 [100/510] | Train Loss: 1.2804 Grad: 63715.5273 LR: 9.0810e-05 | Elapse: 5.00s\n",
      "Epoch 2 [150/510] | Train Loss: 1.2795 Grad: 80138.4062 LR: 9.5759e-05 | Elapse: 7.49s\n",
      "Epoch 2 [200/510] | Train Loss: 1.2808 Grad: 62991.0430 LR: 9.8865e-05 | Elapse: 9.97s\n",
      "Epoch 2 [250/510] | Train Loss: 1.2788 Grad: 51924.3672 LR: 9.9996e-05 | Elapse: 12.43s\n",
      "Epoch 2 [300/510] | Train Loss: 1.2728 Grad: 48075.3789 LR: 9.9989e-05 | Elapse: 14.92s\n",
      "Epoch 2 [350/510] | Train Loss: 1.2694 Grad: 56063.9375 LR: 9.9951e-05 | Elapse: 17.42s\n",
      "Epoch 2 [400/510] | Train Loss: 1.2642 Grad: 46283.8047 LR: 9.9888e-05 | Elapse: 19.91s\n",
      "Epoch 2 [450/510] | Train Loss: 1.2593 Grad: 73080.9375 LR: 9.9798e-05 | Elapse: 22.42s\n",
      "Epoch 2 [500/510] | Train Loss: 1.2551 Grad: 62278.0664 LR: 9.9683e-05 | Elapse: 24.92s\n",
      "Epoch 2 [509/510] | Train Loss: 1.2550 Grad: 65490.6680 LR: 9.9659e-05 | Elapse: 25.37s\n"
     ]
    },
    {
     "data": {
      "application/vnd.jupyter.widget-view+json": {
       "model_id": "5a983e6470b04db7a816227c7a9f89d5",
       "version_major": 2,
       "version_minor": 0
      },
      "text/plain": [
       "Valid [1]:   0%|          | 0/121 [00:00<?, ?batch/s]"
      ]
     },
     "metadata": {},
     "output_type": "display_data"
    },
    {
     "name": "stdout",
     "output_type": "stream",
     "text": [
      "Epoch 2 [0/121] | Valid Loss: 1.1296 | Elapse: 0.05s\n",
      "Epoch 2 [50/121] | Valid Loss: 1.2065 | Elapse: 2.17s\n",
      "Epoch 2 [100/121] | Valid Loss: 1.2069 | Elapse: 4.30s\n"
     ]
    },
    {
     "name": "stderr",
     "output_type": "stream",
     "text": [
      "----------------------------------------------------------------------------------------------------\n",
      "Epoch 2 - Average Loss: (train) 1.2550; (valid) 1.2007 | Time: 30.49s\n",
      "Best model found in epoch 2 | valid loss: 1.2007\n"
     ]
    },
    {
     "name": "stdout",
     "output_type": "stream",
     "text": [
      "Epoch 2 [120/121] | Valid Loss: 1.2007 | Elapse: 5.11s\n"
     ]
    },
    {
     "data": {
      "application/vnd.jupyter.widget-view+json": {
       "model_id": "9ec300053b8a4620afa27580b70228ff",
       "version_major": 2,
       "version_minor": 0
      },
      "text/plain": [
       "Train [2]:   0%|          | 0/510 [00:00<?, ?batch/s]"
      ]
     },
     "metadata": {},
     "output_type": "display_data"
    },
    {
     "name": "stdout",
     "output_type": "stream",
     "text": [
      "Epoch 3 [0/510] | Train Loss: 1.2709 Grad: 114900.2969 LR: 9.9657e-05 | Elapse: 0.05s\n",
      "Epoch 3 [50/510] | Train Loss: 1.2243 Grad: 96252.9531 LR: 9.9510e-05 | Elapse: 2.55s\n",
      "Epoch 3 [100/510] | Train Loss: 1.2124 Grad: 119936.9766 LR: 9.9338e-05 | Elapse: 5.05s\n",
      "Epoch 3 [150/510] | Train Loss: 1.2183 Grad: 148160.7812 LR: 9.9141e-05 | Elapse: 7.56s\n",
      "Epoch 3 [200/510] | Train Loss: 1.2197 Grad: 121541.8906 LR: 9.8917e-05 | Elapse: 10.04s\n",
      "Epoch 3 [250/510] | Train Loss: 1.2176 Grad: 102985.2109 LR: 9.8669e-05 | Elapse: 12.54s\n",
      "Epoch 3 [300/510] | Train Loss: 1.2140 Grad: 98279.6562 LR: 9.8394e-05 | Elapse: 15.05s\n",
      "Epoch 3 [350/510] | Train Loss: 1.2085 Grad: 109489.7188 LR: 9.8095e-05 | Elapse: 17.54s\n",
      "Epoch 3 [400/510] | Train Loss: 1.2032 Grad: 93259.8203 LR: 9.7771e-05 | Elapse: 20.05s\n",
      "Epoch 3 [450/510] | Train Loss: 1.1991 Grad: 142593.4688 LR: 9.7422e-05 | Elapse: 22.57s\n",
      "Epoch 3 [500/510] | Train Loss: 1.1966 Grad: 136476.3750 LR: 9.7048e-05 | Elapse: 25.05s\n",
      "Epoch 3 [509/510] | Train Loss: 1.1964 Grad: 131334.5781 LR: 9.6978e-05 | Elapse: 25.51s\n"
     ]
    },
    {
     "data": {
      "application/vnd.jupyter.widget-view+json": {
       "model_id": "1da7d4fa6f954eceb308df7c391c168a",
       "version_major": 2,
       "version_minor": 0
      },
      "text/plain": [
       "Valid [2]:   0%|          | 0/121 [00:00<?, ?batch/s]"
      ]
     },
     "metadata": {},
     "output_type": "display_data"
    },
    {
     "name": "stdout",
     "output_type": "stream",
     "text": [
      "Epoch 3 [0/121] | Valid Loss: 1.0996 | Elapse: 0.05s\n",
      "Epoch 3 [50/121] | Valid Loss: 1.1596 | Elapse: 2.17s\n",
      "Epoch 3 [100/121] | Valid Loss: 1.1601 | Elapse: 4.29s\n"
     ]
    },
    {
     "name": "stderr",
     "output_type": "stream",
     "text": [
      "----------------------------------------------------------------------------------------------------\n",
      "Epoch 3 - Average Loss: (train) 1.1964; (valid) 1.1527 | Time: 30.62s\n",
      "Best model found in epoch 3 | valid loss: 1.1527\n"
     ]
    },
    {
     "name": "stdout",
     "output_type": "stream",
     "text": [
      "Epoch 3 [120/121] | Valid Loss: 1.1527 | Elapse: 5.11s\n"
     ]
    },
    {
     "data": {
      "application/vnd.jupyter.widget-view+json": {
       "model_id": "b63a7ab348b04dec893991675aa2853e",
       "version_major": 2,
       "version_minor": 0
      },
      "text/plain": [
       "Train [3]:   0%|          | 0/510 [00:00<?, ?batch/s]"
      ]
     },
     "metadata": {},
     "output_type": "display_data"
    },
    {
     "name": "stdout",
     "output_type": "stream",
     "text": [
      "Epoch 4 [0/510] | Train Loss: 1.2055 Grad: 112048.1016 LR: 9.6970e-05 | Elapse: 0.05s\n",
      "Epoch 4 [50/510] | Train Loss: 1.1769 Grad: 91766.5625 LR: 9.6567e-05 | Elapse: 2.52s\n",
      "Epoch 4 [100/510] | Train Loss: 1.1667 Grad: 104040.7969 LR: 9.6140e-05 | Elapse: 5.03s\n",
      "Epoch 4 [150/510] | Train Loss: 1.1710 Grad: 139238.5469 LR: 9.5688e-05 | Elapse: 7.50s\n",
      "Epoch 4 [200/510] | Train Loss: 1.1723 Grad: 118557.5312 LR: 9.5213e-05 | Elapse: 9.99s\n",
      "Epoch 4 [250/510] | Train Loss: 1.1685 Grad: 101055.3516 LR: 9.4714e-05 | Elapse: 12.48s\n",
      "Epoch 4 [300/510] | Train Loss: 1.1670 Grad: 96452.9609 LR: 9.4192e-05 | Elapse: 14.98s\n",
      "Epoch 4 [350/510] | Train Loss: 1.1636 Grad: 111606.2500 LR: 9.3648e-05 | Elapse: 17.49s\n",
      "Epoch 4 [400/510] | Train Loss: 1.1605 Grad: 94034.0703 LR: 9.3080e-05 | Elapse: 19.96s\n",
      "Epoch 4 [450/510] | Train Loss: 1.1570 Grad: 123867.8828 LR: 9.2490e-05 | Elapse: 22.47s\n",
      "Epoch 4 [500/510] | Train Loss: 1.1558 Grad: 128526.1484 LR: 9.1878e-05 | Elapse: 24.94s\n",
      "Epoch 4 [509/510] | Train Loss: 1.1557 Grad: 120670.9844 LR: 9.1765e-05 | Elapse: 25.39s\n"
     ]
    },
    {
     "data": {
      "application/vnd.jupyter.widget-view+json": {
       "model_id": "b658fc01501c46519bca73bc5c865dc3",
       "version_major": 2,
       "version_minor": 0
      },
      "text/plain": [
       "Valid [3]:   0%|          | 0/121 [00:00<?, ?batch/s]"
      ]
     },
     "metadata": {},
     "output_type": "display_data"
    },
    {
     "name": "stdout",
     "output_type": "stream",
     "text": [
      "Epoch 4 [0/121] | Valid Loss: 1.0739 | Elapse: 0.05s\n",
      "Epoch 4 [50/121] | Valid Loss: 1.1336 | Elapse: 2.16s\n",
      "Epoch 4 [100/121] | Valid Loss: 1.1345 | Elapse: 4.28s\n"
     ]
    },
    {
     "name": "stderr",
     "output_type": "stream",
     "text": [
      "----------------------------------------------------------------------------------------------------\n",
      "Epoch 4 - Average Loss: (train) 1.1557; (valid) 1.1261 | Time: 30.49s\n",
      "Best model found in epoch 4 | valid loss: 1.1261\n"
     ]
    },
    {
     "name": "stdout",
     "output_type": "stream",
     "text": [
      "Epoch 4 [120/121] | Valid Loss: 1.1261 | Elapse: 5.10s\n"
     ]
    },
    {
     "data": {
      "application/vnd.jupyter.widget-view+json": {
       "model_id": "ab2e58582baa4c3d80f152a189710e29",
       "version_major": 2,
       "version_minor": 0
      },
      "text/plain": [
       "Train [4]:   0%|          | 0/510 [00:00<?, ?batch/s]"
      ]
     },
     "metadata": {},
     "output_type": "display_data"
    },
    {
     "name": "stdout",
     "output_type": "stream",
     "text": [
      "Epoch 5 [0/510] | Train Loss: 1.1404 Grad: 106218.0000 LR: 9.1753e-05 | Elapse: 0.05s\n",
      "Epoch 5 [50/510] | Train Loss: 1.1451 Grad: 92868.4141 LR: 9.1114e-05 | Elapse: 2.53s\n",
      "Epoch 5 [100/510] | Train Loss: 1.1351 Grad: 109104.7422 LR: 9.0455e-05 | Elapse: 5.01s\n",
      "Epoch 5 [150/510] | Train Loss: 1.1393 Grad: 144743.9062 LR: 8.9774e-05 | Elapse: 7.51s\n",
      "Epoch 5 [200/510] | Train Loss: 1.1402 Grad: 117593.8281 LR: 8.9073e-05 | Elapse: 9.97s\n",
      "Epoch 5 [250/510] | Train Loss: 1.1386 Grad: 92156.9844 LR: 8.8351e-05 | Elapse: 12.44s\n",
      "Epoch 5 [300/510] | Train Loss: 1.1394 Grad: 96446.9297 LR: 8.7609e-05 | Elapse: 14.91s\n",
      "Epoch 5 [350/510] | Train Loss: 1.1355 Grad: 115879.3359 LR: 8.6848e-05 | Elapse: 17.37s\n",
      "Epoch 5 [400/510] | Train Loss: 1.1333 Grad: 86007.8359 LR: 8.6068e-05 | Elapse: 19.83s\n",
      "Epoch 5 [450/510] | Train Loss: 1.1306 Grad: 128469.4766 LR: 8.5268e-05 | Elapse: 22.30s\n",
      "Epoch 5 [500/510] | Train Loss: 1.1298 Grad: 139151.9375 LR: 8.4451e-05 | Elapse: 24.75s\n",
      "Epoch 5 [509/510] | Train Loss: 1.1300 Grad: 122745.8125 LR: 8.4302e-05 | Elapse: 25.22s\n"
     ]
    },
    {
     "data": {
      "application/vnd.jupyter.widget-view+json": {
       "model_id": "533aa2c460984d61acf69d277407582c",
       "version_major": 2,
       "version_minor": 0
      },
      "text/plain": [
       "Valid [4]:   0%|          | 0/121 [00:00<?, ?batch/s]"
      ]
     },
     "metadata": {},
     "output_type": "display_data"
    },
    {
     "name": "stdout",
     "output_type": "stream",
     "text": [
      "Epoch 5 [0/121] | Valid Loss: 1.0541 | Elapse: 0.05s\n",
      "Epoch 5 [50/121] | Valid Loss: 1.1178 | Elapse: 2.18s\n",
      "Epoch 5 [100/121] | Valid Loss: 1.1191 | Elapse: 4.32s\n"
     ]
    },
    {
     "name": "stderr",
     "output_type": "stream",
     "text": [
      "----------------------------------------------------------------------------------------------------\n",
      "Epoch 5 - Average Loss: (train) 1.1300; (valid) 1.1102 | Time: 30.35s\n",
      "Best model found in epoch 5 | valid loss: 1.1102\n"
     ]
    },
    {
     "name": "stdout",
     "output_type": "stream",
     "text": [
      "Epoch 5 [120/121] | Valid Loss: 1.1102 | Elapse: 5.13s\n"
     ]
    },
    {
     "data": {
      "application/vnd.jupyter.widget-view+json": {
       "model_id": "7ccaf9e99eba40098f6365dd498a6ed7",
       "version_major": 2,
       "version_minor": 0
      },
      "text/plain": [
       "Train [5]:   0%|          | 0/510 [00:00<?, ?batch/s]"
      ]
     },
     "metadata": {},
     "output_type": "display_data"
    },
    {
     "name": "stdout",
     "output_type": "stream",
     "text": [
      "Epoch 6 [0/510] | Train Loss: 1.1060 Grad: 105347.2031 LR: 8.4285e-05 | Elapse: 0.05s\n",
      "Epoch 6 [50/510] | Train Loss: 1.1188 Grad: 96823.3828 LR: 8.3446e-05 | Elapse: 2.55s\n",
      "Epoch 6 [100/510] | Train Loss: 1.1055 Grad: 106157.3281 LR: 8.2590e-05 | Elapse: 5.04s\n",
      "Epoch 6 [150/510] | Train Loss: 1.1136 Grad: 152373.3281 LR: 8.1717e-05 | Elapse: 7.50s\n",
      "Epoch 6 [200/510] | Train Loss: 1.1152 Grad: 121172.5859 LR: 8.0827e-05 | Elapse: 10.00s\n",
      "Epoch 6 [250/510] | Train Loss: 1.1143 Grad: 97014.4609 LR: 7.9921e-05 | Elapse: 12.44s\n",
      "Epoch 6 [300/510] | Train Loss: 1.1161 Grad: 93749.6250 LR: 7.8999e-05 | Elapse: 14.89s\n",
      "Epoch 6 [350/510] | Train Loss: 1.1137 Grad: 120501.7734 LR: 7.8063e-05 | Elapse: 17.38s\n",
      "Epoch 6 [400/510] | Train Loss: 1.1128 Grad: 97879.7422 LR: 7.7112e-05 | Elapse: 19.84s\n",
      "Epoch 6 [450/510] | Train Loss: 1.1101 Grad: 134117.7656 LR: 7.6147e-05 | Elapse: 22.32s\n",
      "Epoch 6 [500/510] | Train Loss: 1.1100 Grad: 156532.7812 LR: 7.5168e-05 | Elapse: 24.83s\n",
      "Epoch 6 [509/510] | Train Loss: 1.1103 Grad: 127070.3750 LR: 7.4990e-05 | Elapse: 25.28s\n"
     ]
    },
    {
     "data": {
      "application/vnd.jupyter.widget-view+json": {
       "model_id": "96b8f9489eb5433ba2cdadfa036f7e7b",
       "version_major": 2,
       "version_minor": 0
      },
      "text/plain": [
       "Valid [5]:   0%|          | 0/121 [00:00<?, ?batch/s]"
      ]
     },
     "metadata": {},
     "output_type": "display_data"
    },
    {
     "name": "stdout",
     "output_type": "stream",
     "text": [
      "Epoch 6 [0/121] | Valid Loss: 1.0374 | Elapse: 0.05s\n",
      "Epoch 6 [50/121] | Valid Loss: 1.1074 | Elapse: 2.19s\n",
      "Epoch 6 [100/121] | Valid Loss: 1.1092 | Elapse: 4.33s\n"
     ]
    },
    {
     "name": "stderr",
     "output_type": "stream",
     "text": [
      "----------------------------------------------------------------------------------------------------\n",
      "Epoch 6 - Average Loss: (train) 1.1103; (valid) 1.0996 | Time: 30.43s\n",
      "Best model found in epoch 6 | valid loss: 1.0996\n"
     ]
    },
    {
     "name": "stdout",
     "output_type": "stream",
     "text": [
      "Epoch 6 [120/121] | Valid Loss: 1.0996 | Elapse: 5.15s\n"
     ]
    },
    {
     "data": {
      "application/vnd.jupyter.widget-view+json": {
       "model_id": "e2c2a7f2439b4fd0903b50afac776e2b",
       "version_major": 2,
       "version_minor": 0
      },
      "text/plain": [
       "Train [6]:   0%|          | 0/510 [00:00<?, ?batch/s]"
      ]
     },
     "metadata": {},
     "output_type": "display_data"
    },
    {
     "name": "stdout",
     "output_type": "stream",
     "text": [
      "Epoch 7 [0/510] | Train Loss: 1.0496 Grad: 103100.2188 LR: 7.4970e-05 | Elapse: 0.06s\n",
      "Epoch 7 [50/510] | Train Loss: 1.1070 Grad: 95466.8672 LR: 7.3976e-05 | Elapse: 2.54s\n",
      "Epoch 7 [100/510] | Train Loss: 1.0955 Grad: 108262.7734 LR: 7.2969e-05 | Elapse: 5.05s\n",
      "Epoch 7 [150/510] | Train Loss: 1.1011 Grad: 149329.0938 LR: 7.1950e-05 | Elapse: 7.53s\n",
      "Epoch 7 [200/510] | Train Loss: 1.1034 Grad: 121813.7188 LR: 7.0920e-05 | Elapse: 10.06s\n",
      "Epoch 7 [250/510] | Train Loss: 1.1022 Grad: 95701.9766 LR: 6.9879e-05 | Elapse: 12.54s\n",
      "Epoch 7 [300/510] | Train Loss: 1.1042 Grad: 96056.3984 LR: 6.8827e-05 | Elapse: 15.02s\n",
      "Epoch 7 [350/510] | Train Loss: 1.1015 Grad: 125694.7891 LR: 6.7766e-05 | Elapse: 17.52s\n",
      "Epoch 7 [400/510] | Train Loss: 1.1007 Grad: 91934.0938 LR: 6.6696e-05 | Elapse: 20.00s\n",
      "Epoch 7 [450/510] | Train Loss: 1.0980 Grad: 126121.5469 LR: 6.5616e-05 | Elapse: 22.46s\n",
      "Epoch 7 [500/510] | Train Loss: 1.0986 Grad: 145723.7812 LR: 6.4529e-05 | Elapse: 24.95s\n",
      "Epoch 7 [509/510] | Train Loss: 1.0990 Grad: 132464.1562 LR: 6.4333e-05 | Elapse: 25.40s\n"
     ]
    },
    {
     "data": {
      "application/vnd.jupyter.widget-view+json": {
       "model_id": "aeebf38aed1e4d6087a0b87c7ad82f4e",
       "version_major": 2,
       "version_minor": 0
      },
      "text/plain": [
       "Valid [6]:   0%|          | 0/121 [00:00<?, ?batch/s]"
      ]
     },
     "metadata": {},
     "output_type": "display_data"
    },
    {
     "name": "stdout",
     "output_type": "stream",
     "text": [
      "Epoch 7 [0/121] | Valid Loss: 1.0320 | Elapse: 0.05s\n",
      "Epoch 7 [50/121] | Valid Loss: 1.1002 | Elapse: 2.18s\n",
      "Epoch 7 [100/121] | Valid Loss: 1.1020 | Elapse: 4.30s\n"
     ]
    },
    {
     "name": "stderr",
     "output_type": "stream",
     "text": [
      "----------------------------------------------------------------------------------------------------\n",
      "Epoch 7 - Average Loss: (train) 1.0990; (valid) 1.0920 | Time: 30.52s\n",
      "Best model found in epoch 7 | valid loss: 1.0920\n"
     ]
    },
    {
     "name": "stdout",
     "output_type": "stream",
     "text": [
      "Epoch 7 [120/121] | Valid Loss: 1.0920 | Elapse: 5.12s\n"
     ]
    },
    {
     "data": {
      "application/vnd.jupyter.widget-view+json": {
       "model_id": "4e9b8f5e1efb4c23ba7dc0a6ba71e2c2",
       "version_major": 2,
       "version_minor": 0
      },
      "text/plain": [
       "Train [7]:   0%|          | 0/510 [00:00<?, ?batch/s]"
      ]
     },
     "metadata": {},
     "output_type": "display_data"
    },
    {
     "name": "stdout",
     "output_type": "stream",
     "text": [
      "Epoch 8 [0/510] | Train Loss: 1.0206 Grad: 106227.8906 LR: 6.4311e-05 | Elapse: 0.05s\n",
      "Epoch 8 [50/510] | Train Loss: 1.0979 Grad: 95146.7422 LR: 6.3214e-05 | Elapse: 2.49s\n",
      "Epoch 8 [100/510] | Train Loss: 1.0834 Grad: 106188.3672 LR: 6.2111e-05 | Elapse: 4.95s\n",
      "Epoch 8 [150/510] | Train Loss: 1.0921 Grad: 158443.6562 LR: 6.1002e-05 | Elapse: 7.45s\n",
      "Epoch 8 [200/510] | Train Loss: 1.0942 Grad: 118249.3906 LR: 5.9887e-05 | Elapse: 9.95s\n",
      "Epoch 8 [250/510] | Train Loss: 1.0939 Grad: 89708.7344 LR: 5.8766e-05 | Elapse: 12.45s\n",
      "Epoch 8 [300/510] | Train Loss: 1.0968 Grad: 102005.2266 LR: 5.7641e-05 | Elapse: 14.90s\n",
      "Epoch 8 [350/510] | Train Loss: 1.0937 Grad: 128811.3047 LR: 5.6513e-05 | Elapse: 17.34s\n",
      "Epoch 8 [400/510] | Train Loss: 1.0930 Grad: 99831.5156 LR: 5.5380e-05 | Elapse: 19.81s\n",
      "Epoch 8 [450/510] | Train Loss: 1.0904 Grad: 139138.9062 LR: 5.4245e-05 | Elapse: 22.28s\n",
      "Epoch 8 [500/510] | Train Loss: 1.0910 Grad: 152954.8281 LR: 5.3108e-05 | Elapse: 24.75s\n",
      "Epoch 8 [509/510] | Train Loss: 1.0913 Grad: 122975.6641 LR: 5.2903e-05 | Elapse: 25.19s\n"
     ]
    },
    {
     "data": {
      "application/vnd.jupyter.widget-view+json": {
       "model_id": "e0b2bbdf721743fe8ba0f6e341da7a30",
       "version_major": 2,
       "version_minor": 0
      },
      "text/plain": [
       "Valid [7]:   0%|          | 0/121 [00:00<?, ?batch/s]"
      ]
     },
     "metadata": {},
     "output_type": "display_data"
    },
    {
     "name": "stdout",
     "output_type": "stream",
     "text": [
      "Epoch 8 [0/121] | Valid Loss: 1.0282 | Elapse: 0.05s\n",
      "Epoch 8 [50/121] | Valid Loss: 1.0935 | Elapse: 2.19s\n",
      "Epoch 8 [100/121] | Valid Loss: 1.0960 | Elapse: 4.31s\n"
     ]
    },
    {
     "name": "stderr",
     "output_type": "stream",
     "text": [
      "----------------------------------------------------------------------------------------------------\n",
      "Epoch 8 - Average Loss: (train) 1.0913; (valid) 1.0860 | Time: 30.32s\n",
      "Best model found in epoch 8 | valid loss: 1.0860\n"
     ]
    },
    {
     "name": "stdout",
     "output_type": "stream",
     "text": [
      "Epoch 8 [120/121] | Valid Loss: 1.0860 | Elapse: 5.13s\n"
     ]
    },
    {
     "data": {
      "application/vnd.jupyter.widget-view+json": {
       "model_id": "83ea2e6e83ba4f689032077ffca163cb",
       "version_major": 2,
       "version_minor": 0
      },
      "text/plain": [
       "Train [8]:   0%|          | 0/510 [00:00<?, ?batch/s]"
      ]
     },
     "metadata": {},
     "output_type": "display_data"
    },
    {
     "name": "stdout",
     "output_type": "stream",
     "text": [
      "Epoch 9 [0/510] | Train Loss: 1.0044 Grad: 109650.3281 LR: 5.2881e-05 | Elapse: 0.06s\n",
      "Epoch 9 [50/510] | Train Loss: 1.0798 Grad: 97055.9531 LR: 5.1741e-05 | Elapse: 2.57s\n",
      "Epoch 9 [100/510] | Train Loss: 1.0698 Grad: 97027.2578 LR: 5.0602e-05 | Elapse: 5.06s\n",
      "Epoch 9 [150/510] | Train Loss: 1.0766 Grad: 150609.2656 LR: 4.9461e-05 | Elapse: 7.55s\n",
      "Epoch 9 [200/510] | Train Loss: 1.0803 Grad: 129075.0391 LR: 4.8321e-05 | Elapse: 10.03s\n",
      "Epoch 9 [250/510] | Train Loss: 1.0813 Grad: 100647.9609 LR: 4.7182e-05 | Elapse: 12.47s\n",
      "Epoch 9 [300/510] | Train Loss: 1.0837 Grad: 107303.8047 LR: 4.6045e-05 | Elapse: 14.94s\n",
      "Epoch 9 [350/510] | Train Loss: 1.0825 Grad: 125768.1328 LR: 4.4909e-05 | Elapse: 17.41s\n",
      "Epoch 9 [400/510] | Train Loss: 1.0826 Grad: 86978.4219 LR: 4.3776e-05 | Elapse: 19.90s\n",
      "Epoch 9 [450/510] | Train Loss: 1.0810 Grad: 140932.4531 LR: 4.2647e-05 | Elapse: 22.38s\n",
      "Epoch 9 [500/510] | Train Loss: 1.0809 Grad: 156972.2969 LR: 4.1521e-05 | Elapse: 24.85s\n",
      "Epoch 9 [509/510] | Train Loss: 1.0814 Grad: 141504.2969 LR: 4.1319e-05 | Elapse: 25.29s\n"
     ]
    },
    {
     "data": {
      "application/vnd.jupyter.widget-view+json": {
       "model_id": "dcb0c98c94a34a36b029a564e16d647e",
       "version_major": 2,
       "version_minor": 0
      },
      "text/plain": [
       "Valid [8]:   0%|          | 0/121 [00:00<?, ?batch/s]"
      ]
     },
     "metadata": {},
     "output_type": "display_data"
    },
    {
     "name": "stdout",
     "output_type": "stream",
     "text": [
      "Epoch 9 [0/121] | Valid Loss: 1.0258 | Elapse: 0.05s\n",
      "Epoch 9 [50/121] | Valid Loss: 1.0886 | Elapse: 2.17s\n",
      "Epoch 9 [100/121] | Valid Loss: 1.0913 | Elapse: 4.29s\n"
     ]
    },
    {
     "name": "stderr",
     "output_type": "stream",
     "text": [
      "----------------------------------------------------------------------------------------------------\n",
      "Epoch 9 - Average Loss: (train) 1.0814; (valid) 1.0810 | Time: 30.40s\n",
      "Best model found in epoch 9 | valid loss: 1.0810\n"
     ]
    },
    {
     "name": "stdout",
     "output_type": "stream",
     "text": [
      "Epoch 9 [120/121] | Valid Loss: 1.0810 | Elapse: 5.11s\n"
     ]
    },
    {
     "data": {
      "application/vnd.jupyter.widget-view+json": {
       "model_id": "30986710f9844aef91dc862ef95793e9",
       "version_major": 2,
       "version_minor": 0
      },
      "text/plain": [
       "Train [9]:   0%|          | 0/510 [00:00<?, ?batch/s]"
      ]
     },
     "metadata": {},
     "output_type": "display_data"
    },
    {
     "name": "stdout",
     "output_type": "stream",
     "text": [
      "Epoch 10 [0/510] | Train Loss: 1.0034 Grad: 111168.0000 LR: 4.1296e-05 | Elapse: 0.06s\n",
      "Epoch 10 [50/510] | Train Loss: 1.0771 Grad: 95778.0703 LR: 4.0176e-05 | Elapse: 2.56s\n",
      "Epoch 10 [100/510] | Train Loss: 1.0633 Grad: 106622.8984 LR: 3.9060e-05 | Elapse: 5.04s\n",
      "Epoch 10 [150/510] | Train Loss: 1.0722 Grad: 154095.4219 LR: 3.7951e-05 | Elapse: 7.52s\n",
      "Epoch 10 [200/510] | Train Loss: 1.0775 Grad: 119464.8047 LR: 3.6848e-05 | Elapse: 10.02s\n",
      "Epoch 10 [250/510] | Train Loss: 1.0771 Grad: 99711.1797 LR: 3.5751e-05 | Elapse: 12.49s\n",
      "Epoch 10 [300/510] | Train Loss: 1.0813 Grad: 104024.6484 LR: 3.4662e-05 | Elapse: 14.98s\n",
      "Epoch 10 [350/510] | Train Loss: 1.0789 Grad: 127606.4453 LR: 3.3581e-05 | Elapse: 17.45s\n",
      "Epoch 10 [400/510] | Train Loss: 1.0778 Grad: 98406.4844 LR: 3.2509e-05 | Elapse: 19.90s\n",
      "Epoch 10 [450/510] | Train Loss: 1.0757 Grad: 121035.4453 LR: 3.1445e-05 | Elapse: 22.37s\n",
      "Epoch 10 [500/510] | Train Loss: 1.0766 Grad: 147738.0781 LR: 3.0392e-05 | Elapse: 24.85s\n",
      "Epoch 10 [509/510] | Train Loss: 1.0770 Grad: 124299.3828 LR: 3.0203e-05 | Elapse: 25.30s\n"
     ]
    },
    {
     "data": {
      "application/vnd.jupyter.widget-view+json": {
       "model_id": "734419ca56d343c7b9828d39ced51dca",
       "version_major": 2,
       "version_minor": 0
      },
      "text/plain": [
       "Valid [9]:   0%|          | 0/121 [00:00<?, ?batch/s]"
      ]
     },
     "metadata": {},
     "output_type": "display_data"
    },
    {
     "name": "stdout",
     "output_type": "stream",
     "text": [
      "Epoch 10 [0/121] | Valid Loss: 1.0208 | Elapse: 0.05s\n",
      "Epoch 10 [50/121] | Valid Loss: 1.0862 | Elapse: 2.20s\n",
      "Epoch 10 [100/121] | Valid Loss: 1.0891 | Elapse: 4.33s\n"
     ]
    },
    {
     "name": "stderr",
     "output_type": "stream",
     "text": [
      "----------------------------------------------------------------------------------------------------\n",
      "Epoch 10 - Average Loss: (train) 1.0770; (valid) 1.0786 | Time: 30.45s\n",
      "Best model found in epoch 10 | valid loss: 1.0786\n"
     ]
    },
    {
     "name": "stdout",
     "output_type": "stream",
     "text": [
      "Epoch 10 [120/121] | Valid Loss: 1.0786 | Elapse: 5.15s\n"
     ]
    },
    {
     "data": {
      "application/vnd.jupyter.widget-view+json": {
       "model_id": "8419e74205e3444fa59da008340ab0ae",
       "version_major": 2,
       "version_minor": 0
      },
      "text/plain": [
       "Train [10]:   0%|          | 0/510 [00:00<?, ?batch/s]"
      ]
     },
     "metadata": {},
     "output_type": "display_data"
    },
    {
     "name": "stdout",
     "output_type": "stream",
     "text": [
      "Epoch 11 [0/510] | Train Loss: 1.0349 Grad: 108445.7422 LR: 3.0182e-05 | Elapse: 0.05s\n",
      "Epoch 11 [50/510] | Train Loss: 1.0801 Grad: 99882.2500 LR: 2.9141e-05 | Elapse: 2.51s\n",
      "Epoch 11 [100/510] | Train Loss: 1.0648 Grad: 97493.1172 LR: 2.8110e-05 | Elapse: 4.99s\n",
      "Epoch 11 [150/510] | Train Loss: 1.0703 Grad: 159847.8281 LR: 2.7091e-05 | Elapse: 7.47s\n",
      "Epoch 11 [200/510] | Train Loss: 1.0724 Grad: 124859.0078 LR: 2.6084e-05 | Elapse: 9.95s\n",
      "Epoch 11 [250/510] | Train Loss: 1.0728 Grad: 101071.6562 LR: 2.5089e-05 | Elapse: 12.45s\n",
      "Epoch 11 [300/510] | Train Loss: 1.0761 Grad: 102497.0156 LR: 2.4108e-05 | Elapse: 14.95s\n",
      "Epoch 11 [350/510] | Train Loss: 1.0735 Grad: 121502.1016 LR: 2.3139e-05 | Elapse: 17.49s\n",
      "Epoch 11 [400/510] | Train Loss: 1.0737 Grad: 102294.8672 LR: 2.2185e-05 | Elapse: 19.99s\n",
      "Epoch 11 [450/510] | Train Loss: 1.0709 Grad: 138686.7500 LR: 2.1245e-05 | Elapse: 22.49s\n",
      "Epoch 11 [500/510] | Train Loss: 1.0719 Grad: 156599.5156 LR: 2.0321e-05 | Elapse: 24.95s\n",
      "Epoch 11 [509/510] | Train Loss: 1.0724 Grad: 126281.2266 LR: 2.0156e-05 | Elapse: 25.40s\n"
     ]
    },
    {
     "data": {
      "application/vnd.jupyter.widget-view+json": {
       "model_id": "8fdb8a9aba0f450eaaf68a2476eea51a",
       "version_major": 2,
       "version_minor": 0
      },
      "text/plain": [
       "Valid [10]:   0%|          | 0/121 [00:00<?, ?batch/s]"
      ]
     },
     "metadata": {},
     "output_type": "display_data"
    },
    {
     "name": "stdout",
     "output_type": "stream",
     "text": [
      "Epoch 11 [0/121] | Valid Loss: 1.0210 | Elapse: 0.05s\n",
      "Epoch 11 [50/121] | Valid Loss: 1.0839 | Elapse: 2.18s\n",
      "Epoch 11 [100/121] | Valid Loss: 1.0869 | Elapse: 4.30s\n"
     ]
    },
    {
     "name": "stderr",
     "output_type": "stream",
     "text": [
      "----------------------------------------------------------------------------------------------------\n",
      "Epoch 11 - Average Loss: (train) 1.0724; (valid) 1.0765 | Time: 30.52s\n",
      "Best model found in epoch 11 | valid loss: 1.0765\n"
     ]
    },
    {
     "name": "stdout",
     "output_type": "stream",
     "text": [
      "Epoch 11 [120/121] | Valid Loss: 1.0765 | Elapse: 5.11s\n"
     ]
    },
    {
     "data": {
      "application/vnd.jupyter.widget-view+json": {
       "model_id": "b6c834c8de71408bbac72af44d0e66ae",
       "version_major": 2,
       "version_minor": 0
      },
      "text/plain": [
       "Train [11]:   0%|          | 0/510 [00:00<?, ?batch/s]"
      ]
     },
     "metadata": {},
     "output_type": "display_data"
    },
    {
     "name": "stdout",
     "output_type": "stream",
     "text": [
      "Epoch 12 [0/510] | Train Loss: 0.9918 Grad: 119370.6016 LR: 2.0137e-05 | Elapse: 0.05s\n",
      "Epoch 12 [50/510] | Train Loss: 1.0662 Grad: 93268.6797 LR: 1.9231e-05 | Elapse: 2.51s\n",
      "Epoch 12 [100/510] | Train Loss: 1.0552 Grad: 105300.0234 LR: 1.8341e-05 | Elapse: 4.97s\n",
      "Epoch 12 [150/510] | Train Loss: 1.0628 Grad: 154442.8438 LR: 1.7467e-05 | Elapse: 7.45s\n",
      "Epoch 12 [200/510] | Train Loss: 1.0665 Grad: 133482.8594 LR: 1.6611e-05 | Elapse: 9.93s\n",
      "Epoch 12 [250/510] | Train Loss: 1.0667 Grad: 107144.3594 LR: 1.5771e-05 | Elapse: 12.39s\n",
      "Epoch 12 [300/510] | Train Loss: 1.0704 Grad: 98652.1641 LR: 1.4950e-05 | Elapse: 14.86s\n",
      "Epoch 12 [350/510] | Train Loss: 1.0686 Grad: 122384.0547 LR: 1.4147e-05 | Elapse: 17.31s\n",
      "Epoch 12 [400/510] | Train Loss: 1.0686 Grad: 100278.9922 LR: 1.3362e-05 | Elapse: 19.78s\n",
      "Epoch 12 [450/510] | Train Loss: 1.0674 Grad: 128533.0469 LR: 1.2597e-05 | Elapse: 22.26s\n",
      "Epoch 12 [500/510] | Train Loss: 1.0682 Grad: 178284.6406 LR: 1.1851e-05 | Elapse: 24.74s\n",
      "Epoch 12 [509/510] | Train Loss: 1.0686 Grad: 130511.7812 LR: 1.1718e-05 | Elapse: 25.20s\n"
     ]
    },
    {
     "data": {
      "application/vnd.jupyter.widget-view+json": {
       "model_id": "a9ad95cfc4a645d199f43daad40c455e",
       "version_major": 2,
       "version_minor": 0
      },
      "text/plain": [
       "Valid [11]:   0%|          | 0/121 [00:00<?, ?batch/s]"
      ]
     },
     "metadata": {},
     "output_type": "display_data"
    },
    {
     "name": "stdout",
     "output_type": "stream",
     "text": [
      "Epoch 12 [0/121] | Valid Loss: 1.0195 | Elapse: 0.05s\n",
      "Epoch 12 [50/121] | Valid Loss: 1.0826 | Elapse: 2.17s\n",
      "Epoch 12 [100/121] | Valid Loss: 1.0858 | Elapse: 4.29s\n"
     ]
    },
    {
     "name": "stderr",
     "output_type": "stream",
     "text": [
      "----------------------------------------------------------------------------------------------------\n",
      "Epoch 12 - Average Loss: (train) 1.0686; (valid) 1.0753 | Time: 30.31s\n",
      "Best model found in epoch 12 | valid loss: 1.0753\n"
     ]
    },
    {
     "name": "stdout",
     "output_type": "stream",
     "text": [
      "Epoch 12 [120/121] | Valid Loss: 1.0753 | Elapse: 5.11s\n"
     ]
    },
    {
     "data": {
      "application/vnd.jupyter.widget-view+json": {
       "model_id": "92d7a179a83c4051bfbc4696eb15c5e2",
       "version_major": 2,
       "version_minor": 0
      },
      "text/plain": [
       "Train [12]:   0%|          | 0/510 [00:00<?, ?batch/s]"
      ]
     },
     "metadata": {},
     "output_type": "display_data"
    },
    {
     "name": "stdout",
     "output_type": "stream",
     "text": [
      "Epoch 13 [0/510] | Train Loss: 0.9936 Grad: 111336.7344 LR: 1.1704e-05 | Elapse: 0.05s\n",
      "Epoch 13 [50/510] | Train Loss: 1.0673 Grad: 103565.1562 LR: 1.0982e-05 | Elapse: 2.55s\n",
      "Epoch 13 [100/510] | Train Loss: 1.0541 Grad: 101679.8047 LR: 1.0280e-05 | Elapse: 5.05s\n",
      "Epoch 13 [150/510] | Train Loss: 1.0643 Grad: 158608.8906 LR: 9.5987e-06 | Elapse: 7.55s\n",
      "Epoch 13 [200/510] | Train Loss: 1.0670 Grad: 125513.9688 LR: 8.9387e-06 | Elapse: 10.03s\n",
      "Epoch 13 [250/510] | Train Loss: 1.0654 Grad: 92433.4219 LR: 8.3000e-06 | Elapse: 12.52s\n",
      "Epoch 13 [300/510] | Train Loss: 1.0699 Grad: 106026.2109 LR: 7.6830e-06 | Elapse: 15.00s\n",
      "Epoch 13 [350/510] | Train Loss: 1.0673 Grad: 124803.2578 LR: 7.0880e-06 | Elapse: 17.50s\n",
      "Epoch 13 [400/510] | Train Loss: 1.0675 Grad: 98357.7812 LR: 6.5154e-06 | Elapse: 20.02s\n",
      "Epoch 13 [450/510] | Train Loss: 1.0665 Grad: 126247.6016 LR: 5.9655e-06 | Elapse: 22.52s\n",
      "Epoch 13 [500/510] | Train Loss: 1.0671 Grad: 170548.7344 LR: 5.4384e-06 | Elapse: 25.01s\n",
      "Epoch 13 [509/510] | Train Loss: 1.0678 Grad: 130048.9062 LR: 5.3460e-06 | Elapse: 25.45s\n"
     ]
    },
    {
     "data": {
      "application/vnd.jupyter.widget-view+json": {
       "model_id": "e609ae4646064b299c28657ff6ff7040",
       "version_major": 2,
       "version_minor": 0
      },
      "text/plain": [
       "Valid [12]:   0%|          | 0/121 [00:00<?, ?batch/s]"
      ]
     },
     "metadata": {},
     "output_type": "display_data"
    },
    {
     "name": "stdout",
     "output_type": "stream",
     "text": [
      "Epoch 13 [0/121] | Valid Loss: 1.0183 | Elapse: 0.05s\n",
      "Epoch 13 [50/121] | Valid Loss: 1.0821 | Elapse: 2.17s\n",
      "Epoch 13 [100/121] | Valid Loss: 1.0856 | Elapse: 4.29s\n"
     ]
    },
    {
     "name": "stderr",
     "output_type": "stream",
     "text": [
      "----------------------------------------------------------------------------------------------------\n",
      "Epoch 13 - Average Loss: (train) 1.0678; (valid) 1.0749 | Time: 30.55s\n",
      "Best model found in epoch 13 | valid loss: 1.0749\n"
     ]
    },
    {
     "name": "stdout",
     "output_type": "stream",
     "text": [
      "Epoch 13 [120/121] | Valid Loss: 1.0749 | Elapse: 5.10s\n"
     ]
    },
    {
     "data": {
      "application/vnd.jupyter.widget-view+json": {
       "model_id": "880e5ff64ca746e787bda02da90561cd",
       "version_major": 2,
       "version_minor": 0
      },
      "text/plain": [
       "Train [13]:   0%|          | 0/510 [00:00<?, ?batch/s]"
      ]
     },
     "metadata": {},
     "output_type": "display_data"
    },
    {
     "name": "stdout",
     "output_type": "stream",
     "text": [
      "Epoch 14 [0/510] | Train Loss: 1.0123 Grad: 116254.0547 LR: 5.3358e-06 | Elapse: 0.05s\n",
      "Epoch 14 [50/510] | Train Loss: 1.0645 Grad: 92655.3516 LR: 4.8366e-06 | Elapse: 2.53s\n",
      "Epoch 14 [100/510] | Train Loss: 1.0526 Grad: 107519.0156 LR: 4.3610e-06 | Elapse: 4.99s\n",
      "Epoch 14 [150/510] | Train Loss: 1.0609 Grad: 154130.8125 LR: 3.9091e-06 | Elapse: 7.47s\n",
      "Epoch 14 [200/510] | Train Loss: 1.0646 Grad: 138047.0469 LR: 3.4813e-06 | Elapse: 9.93s\n",
      "Epoch 14 [250/510] | Train Loss: 1.0648 Grad: 106000.4609 LR: 3.0776e-06 | Elapse: 12.40s\n",
      "Epoch 14 [300/510] | Train Loss: 1.0697 Grad: 103416.0078 LR: 2.6984e-06 | Elapse: 14.92s\n",
      "Epoch 14 [350/510] | Train Loss: 1.0678 Grad: 118242.0000 LR: 2.3438e-06 | Elapse: 17.40s\n",
      "Epoch 14 [400/510] | Train Loss: 1.0683 Grad: 93516.0469 LR: 2.0140e-06 | Elapse: 19.88s\n",
      "Epoch 14 [450/510] | Train Loss: 1.0665 Grad: 126204.1094 LR: 1.7093e-06 | Elapse: 22.36s\n",
      "Epoch 14 [500/510] | Train Loss: 1.0672 Grad: 159513.8750 LR: 1.4296e-06 | Elapse: 24.82s\n",
      "Epoch 14 [509/510] | Train Loss: 1.0678 Grad: 132040.9062 LR: 1.3820e-06 | Elapse: 25.26s\n"
     ]
    },
    {
     "data": {
      "application/vnd.jupyter.widget-view+json": {
       "model_id": "546ff5d7dde54e1a80c07315c116620e",
       "version_major": 2,
       "version_minor": 0
      },
      "text/plain": [
       "Valid [13]:   0%|          | 0/121 [00:00<?, ?batch/s]"
      ]
     },
     "metadata": {},
     "output_type": "display_data"
    },
    {
     "name": "stdout",
     "output_type": "stream",
     "text": [
      "Epoch 14 [0/121] | Valid Loss: 1.0169 | Elapse: 0.05s\n",
      "Epoch 14 [50/121] | Valid Loss: 1.0820 | Elapse: 2.17s\n",
      "Epoch 14 [100/121] | Valid Loss: 1.0856 | Elapse: 4.31s\n"
     ]
    },
    {
     "name": "stderr",
     "output_type": "stream",
     "text": [
      "----------------------------------------------------------------------------------------------------\n",
      "Epoch 14 - Average Loss: (train) 1.0678; (valid) 1.0749 | Time: 30.39s\n"
     ]
    },
    {
     "name": "stdout",
     "output_type": "stream",
     "text": [
      "Epoch 14 [120/121] | Valid Loss: 1.0749 | Elapse: 5.13s\n"
     ]
    },
    {
     "data": {
      "application/vnd.jupyter.widget-view+json": {
       "model_id": "28c6884b49244bf7b6ea41cbe712b83f",
       "version_major": 2,
       "version_minor": 0
      },
      "text/plain": [
       "Train [14]:   0%|          | 0/510 [00:00<?, ?batch/s]"
      ]
     },
     "metadata": {},
     "output_type": "display_data"
    },
    {
     "name": "stdout",
     "output_type": "stream",
     "text": [
      "Epoch 15 [0/510] | Train Loss: 0.9292 Grad: 109969.6953 LR: 1.3767e-06 | Elapse: 0.05s\n",
      "Epoch 15 [50/510] | Train Loss: 1.0555 Grad: 100142.2969 LR: 1.1274e-06 | Elapse: 2.55s\n",
      "Epoch 15 [100/510] | Train Loss: 1.0484 Grad: 109386.1641 LR: 9.0362e-07 | Elapse: 5.03s\n",
      "Epoch 15 [150/510] | Train Loss: 1.0546 Grad: 150714.8750 LR: 7.0536e-07 | Elapse: 7.51s\n",
      "Epoch 15 [200/510] | Train Loss: 1.0624 Grad: 146512.8906 LR: 5.3277e-07 | Elapse: 10.00s\n",
      "Epoch 15 [250/510] | Train Loss: 1.0642 Grad: 99515.7734 LR: 3.8594e-07 | Elapse: 12.48s\n",
      "Epoch 15 [300/510] | Train Loss: 1.0687 Grad: 97678.4609 LR: 2.6494e-07 | Elapse: 14.97s\n",
      "Epoch 15 [350/510] | Train Loss: 1.0661 Grad: 113676.4297 LR: 1.6983e-07 | Elapse: 17.45s\n",
      "Epoch 15 [400/510] | Train Loss: 1.0668 Grad: 97209.4844 LR: 1.0068e-07 | Elapse: 19.94s\n",
      "Epoch 15 [450/510] | Train Loss: 1.0653 Grad: 128478.4766 LR: 5.7502e-08 | Elapse: 22.43s\n",
      "Epoch 15 [500/510] | Train Loss: 1.0670 Grad: 173613.1875 LR: 4.0333e-08 | Elapse: 24.88s\n",
      "Epoch 15 [509/510] | Train Loss: 1.0673 Grad: 127711.6953 LR: 4.0005e-08 | Elapse: 25.32s\n"
     ]
    },
    {
     "data": {
      "application/vnd.jupyter.widget-view+json": {
       "model_id": "abeb6924d4ce4f9898fef4774c1e2f08",
       "version_major": 2,
       "version_minor": 0
      },
      "text/plain": [
       "Valid [14]:   0%|          | 0/121 [00:00<?, ?batch/s]"
      ]
     },
     "metadata": {},
     "output_type": "display_data"
    },
    {
     "name": "stdout",
     "output_type": "stream",
     "text": [
      "Epoch 15 [0/121] | Valid Loss: 1.0166 | Elapse: 0.05s\n",
      "Epoch 15 [50/121] | Valid Loss: 1.0820 | Elapse: 2.17s\n",
      "Epoch 15 [100/121] | Valid Loss: 1.0857 | Elapse: 4.30s\n"
     ]
    },
    {
     "name": "stderr",
     "output_type": "stream",
     "text": [
      "----------------------------------------------------------------------------------------------------\n",
      "Epoch 15 - Average Loss: (train) 1.0673; (valid) 1.0750 | Time: 30.43s\n",
      "====================================================================================================\n",
      "Fold 3 Valid Loss: 1.074934720993042\n",
      "Elapse: 7.62 min \n",
      "====================================================================================================\n"
     ]
    },
    {
     "name": "stdout",
     "output_type": "stream",
     "text": [
      "Epoch 15 [120/121] | Valid Loss: 1.0750 | Elapse: 5.12s\n"
     ]
    },
    {
     "name": "stderr",
     "output_type": "stream",
     "text": [
      "- Second Stage -\n",
      "Use Checkpoint: PatchTSMixer_fold_3_stage_1.pth\n"
     ]
    },
    {
     "data": {
      "application/vnd.jupyter.widget-view+json": {
       "model_id": "b268ffe6f85b40c4928c637df03dee83",
       "version_major": 2,
       "version_minor": 0
      },
      "text/plain": [
       "Train [0]:   0%|          | 0/193 [00:00<?, ?batch/s]"
      ]
     },
     "metadata": {},
     "output_type": "display_data"
    },
    {
     "name": "stdout",
     "output_type": "stream",
     "text": [
      "Epoch 1 [0/193] | Train Loss: 0.6251 Grad: 72072.4453 LR: 4.0028e-06 | Elapse: 0.06s\n",
      "Epoch 1 [50/193] | Train Loss: 0.7334 Grad: 92405.7656 LR: 1.1214e-05 | Elapse: 2.56s\n",
      "Epoch 1 [100/193] | Train Loss: 0.7260 Grad: 78536.6094 LR: 3.0220e-05 | Elapse: 5.08s\n",
      "Epoch 1 [150/193] | Train Loss: 0.7263 Grad: 62594.9531 LR: 5.5525e-05 | Elapse: 7.57s\n",
      "Epoch 1 [192/193] | Train Loss: 0.7191 Grad: 74680.7656 LR: 7.6301e-05 | Elapse: 9.65s\n"
     ]
    },
    {
     "data": {
      "application/vnd.jupyter.widget-view+json": {
       "model_id": "29ed929b9d4b44698e9ca46ee372d01a",
       "version_major": 2,
       "version_minor": 0
      },
      "text/plain": [
       "Valid [0]:   0%|          | 0/121 [00:00<?, ?batch/s]"
      ]
     },
     "metadata": {},
     "output_type": "display_data"
    },
    {
     "name": "stdout",
     "output_type": "stream",
     "text": [
      "Epoch 1 [0/121] | Valid Loss: 1.0352 | Elapse: 0.05s\n",
      "Epoch 1 [50/121] | Valid Loss: 1.1267 | Elapse: 2.18s\n",
      "Epoch 1 [100/121] | Valid Loss: 1.1344 | Elapse: 4.31s\n"
     ]
    },
    {
     "name": "stderr",
     "output_type": "stream",
     "text": [
      "----------------------------------------------------------------------------------------------------\n",
      "Epoch 1 - Average Loss: (train) 0.7191; (valid) 1.1211 | Time: 14.78s\n",
      "Best model found in epoch 1 | valid loss: 1.1211\n"
     ]
    },
    {
     "name": "stdout",
     "output_type": "stream",
     "text": [
      "Epoch 1 [120/121] | Valid Loss: 1.1211 | Elapse: 5.13s\n"
     ]
    },
    {
     "data": {
      "application/vnd.jupyter.widget-view+json": {
       "model_id": "fc48ea3fd64a4858bf730ac9fed37190",
       "version_major": 2,
       "version_minor": 0
      },
      "text/plain": [
       "Train [1]:   0%|          | 0/193 [00:00<?, ?batch/s]"
      ]
     },
     "metadata": {},
     "output_type": "display_data"
    },
    {
     "name": "stdout",
     "output_type": "stream",
     "text": [
      "Epoch 2 [0/193] | Train Loss: 0.6099 Grad: 54546.2031 LR: 7.6750e-05 | Elapse: 0.05s\n",
      "Epoch 2 [50/193] | Train Loss: 0.6838 Grad: 95601.2031 LR: 9.4474e-05 | Elapse: 2.56s\n",
      "Epoch 2 [100/193] | Train Loss: 0.6836 Grad: 74385.9844 LR: 9.9999e-05 | Elapse: 5.08s\n",
      "Epoch 2 [150/193] | Train Loss: 0.6900 Grad: 72271.3281 LR: 9.9888e-05 | Elapse: 7.59s\n",
      "Epoch 2 [192/193] | Train Loss: 0.6867 Grad: 64127.9609 LR: 9.9655e-05 | Elapse: 9.68s\n"
     ]
    },
    {
     "data": {
      "application/vnd.jupyter.widget-view+json": {
       "model_id": "0e0a7ea8855a41d1b79cd5ef5e12749c",
       "version_major": 2,
       "version_minor": 0
      },
      "text/plain": [
       "Valid [1]:   0%|          | 0/121 [00:00<?, ?batch/s]"
      ]
     },
     "metadata": {},
     "output_type": "display_data"
    },
    {
     "name": "stdout",
     "output_type": "stream",
     "text": [
      "Epoch 2 [0/121] | Valid Loss: 1.0637 | Elapse: 0.05s\n",
      "Epoch 2 [50/121] | Valid Loss: 1.1518 | Elapse: 2.18s\n",
      "Epoch 2 [100/121] | Valid Loss: 1.1610 | Elapse: 4.30s\n"
     ]
    },
    {
     "name": "stderr",
     "output_type": "stream",
     "text": [
      "----------------------------------------------------------------------------------------------------\n",
      "Epoch 2 - Average Loss: (train) 0.6867; (valid) 1.1477 | Time: 14.81s\n"
     ]
    },
    {
     "name": "stdout",
     "output_type": "stream",
     "text": [
      "Epoch 2 [120/121] | Valid Loss: 1.1477 | Elapse: 5.12s\n"
     ]
    },
    {
     "data": {
      "application/vnd.jupyter.widget-view+json": {
       "model_id": "c33b65d154e64ebb9a1ada70ffacdab8",
       "version_major": 2,
       "version_minor": 0
      },
      "text/plain": [
       "Train [2]:   0%|          | 0/193 [00:00<?, ?batch/s]"
      ]
     },
     "metadata": {},
     "output_type": "display_data"
    },
    {
     "name": "stdout",
     "output_type": "stream",
     "text": [
      "Epoch 3 [0/193] | Train Loss: 0.5996 Grad: 57495.9219 LR: 9.9648e-05 | Elapse: 0.05s\n",
      "Epoch 3 [50/193] | Train Loss: 0.6755 Grad: 86515.1953 LR: 9.9201e-05 | Elapse: 2.56s\n",
      "Epoch 3 [100/193] | Train Loss: 0.6791 Grad: 74368.8750 LR: 9.8575e-05 | Elapse: 5.07s\n",
      "Epoch 3 [150/193] | Train Loss: 0.6851 Grad: 63804.8789 LR: 9.7773e-05 | Elapse: 7.56s\n",
      "Epoch 3 [192/193] | Train Loss: 0.6841 Grad: 64665.4180 LR: 9.6965e-05 | Elapse: 9.66s\n"
     ]
    },
    {
     "data": {
      "application/vnd.jupyter.widget-view+json": {
       "model_id": "2d4392790a9b446e8c7a14507bcfe20e",
       "version_major": 2,
       "version_minor": 0
      },
      "text/plain": [
       "Valid [2]:   0%|          | 0/121 [00:00<?, ?batch/s]"
      ]
     },
     "metadata": {},
     "output_type": "display_data"
    },
    {
     "name": "stdout",
     "output_type": "stream",
     "text": [
      "Epoch 3 [0/121] | Valid Loss: 1.0696 | Elapse: 0.05s\n",
      "Epoch 3 [50/121] | Valid Loss: 1.1510 | Elapse: 2.18s\n",
      "Epoch 3 [100/121] | Valid Loss: 1.1607 | Elapse: 4.31s\n"
     ]
    },
    {
     "name": "stderr",
     "output_type": "stream",
     "text": [
      "----------------------------------------------------------------------------------------------------\n",
      "Epoch 3 - Average Loss: (train) 0.6841; (valid) 1.1477 | Time: 14.79s\n"
     ]
    },
    {
     "name": "stdout",
     "output_type": "stream",
     "text": [
      "Epoch 3 [120/121] | Valid Loss: 1.1477 | Elapse: 5.12s\n"
     ]
    },
    {
     "data": {
      "application/vnd.jupyter.widget-view+json": {
       "model_id": "bc75fc22b14540c6b878e9e7d7e21e9a",
       "version_major": 2,
       "version_minor": 0
      },
      "text/plain": [
       "Train [3]:   0%|          | 0/193 [00:00<?, ?batch/s]"
      ]
     },
     "metadata": {},
     "output_type": "display_data"
    },
    {
     "name": "stdout",
     "output_type": "stream",
     "text": [
      "Epoch 4 [0/193] | Train Loss: 0.6085 Grad: 60183.2812 LR: 9.6944e-05 | Elapse: 0.05s\n",
      "Epoch 4 [50/193] | Train Loss: 0.6741 Grad: 85299.6484 LR: 9.5822e-05 | Elapse: 2.57s\n",
      "Epoch 4 [100/193] | Train Loss: 0.6742 Grad: 70345.2891 LR: 9.4534e-05 | Elapse: 5.07s\n",
      "Epoch 4 [150/193] | Train Loss: 0.6810 Grad: 53303.9922 LR: 9.3084e-05 | Elapse: 7.61s\n",
      "Epoch 4 [192/193] | Train Loss: 0.6787 Grad: 70697.0781 LR: 9.1745e-05 | Elapse: 9.72s\n"
     ]
    },
    {
     "data": {
      "application/vnd.jupyter.widget-view+json": {
       "model_id": "01516f538de14f5990e6bb378cefec3b",
       "version_major": 2,
       "version_minor": 0
      },
      "text/plain": [
       "Valid [3]:   0%|          | 0/121 [00:00<?, ?batch/s]"
      ]
     },
     "metadata": {},
     "output_type": "display_data"
    },
    {
     "name": "stdout",
     "output_type": "stream",
     "text": [
      "Epoch 4 [0/121] | Valid Loss: 1.0743 | Elapse: 0.05s\n",
      "Epoch 4 [50/121] | Valid Loss: 1.1502 | Elapse: 2.19s\n",
      "Epoch 4 [100/121] | Valid Loss: 1.1602 | Elapse: 4.32s\n"
     ]
    },
    {
     "name": "stderr",
     "output_type": "stream",
     "text": [
      "----------------------------------------------------------------------------------------------------\n",
      "Epoch 4 - Average Loss: (train) 0.6787; (valid) 1.1470 | Time: 14.86s\n"
     ]
    },
    {
     "name": "stdout",
     "output_type": "stream",
     "text": [
      "Epoch 4 [120/121] | Valid Loss: 1.1470 | Elapse: 5.14s\n"
     ]
    },
    {
     "data": {
      "application/vnd.jupyter.widget-view+json": {
       "model_id": "327a1d7df0a04962ae4baeb2ab59aa0d",
       "version_major": 2,
       "version_minor": 0
      },
      "text/plain": [
       "Train [4]:   0%|          | 0/193 [00:00<?, ?batch/s]"
      ]
     },
     "metadata": {},
     "output_type": "display_data"
    },
    {
     "name": "stdout",
     "output_type": "stream",
     "text": [
      "Epoch 5 [0/193] | Train Loss: 0.6127 Grad: 60353.6914 LR: 9.1711e-05 | Elapse: 0.05s\n",
      "Epoch 5 [50/193] | Train Loss: 0.6651 Grad: 81389.9297 LR: 8.9975e-05 | Elapse: 2.55s\n",
      "Epoch 5 [100/193] | Train Loss: 0.6698 Grad: 69459.3438 LR: 8.8093e-05 | Elapse: 5.05s\n",
      "Epoch 5 [150/193] | Train Loss: 0.6765 Grad: 58734.9688 LR: 8.6073e-05 | Elapse: 7.55s\n",
      "Epoch 5 [192/193] | Train Loss: 0.6746 Grad: 65625.6406 LR: 8.4274e-05 | Elapse: 9.65s\n"
     ]
    },
    {
     "data": {
      "application/vnd.jupyter.widget-view+json": {
       "model_id": "dbfdc49f47df4513bc951a9dd58e31cf",
       "version_major": 2,
       "version_minor": 0
      },
      "text/plain": [
       "Valid [4]:   0%|          | 0/121 [00:00<?, ?batch/s]"
      ]
     },
     "metadata": {},
     "output_type": "display_data"
    },
    {
     "name": "stdout",
     "output_type": "stream",
     "text": [
      "Epoch 5 [0/121] | Valid Loss: 1.0724 | Elapse: 0.05s\n",
      "Epoch 5 [50/121] | Valid Loss: 1.1485 | Elapse: 2.17s\n",
      "Epoch 5 [100/121] | Valid Loss: 1.1587 | Elapse: 4.30s\n"
     ]
    },
    {
     "name": "stderr",
     "output_type": "stream",
     "text": [
      "----------------------------------------------------------------------------------------------------\n",
      "Epoch 5 - Average Loss: (train) 0.6746; (valid) 1.1455 | Time: 14.77s\n"
     ]
    },
    {
     "name": "stdout",
     "output_type": "stream",
     "text": [
      "Epoch 5 [120/121] | Valid Loss: 1.1455 | Elapse: 5.12s\n"
     ]
    },
    {
     "data": {
      "application/vnd.jupyter.widget-view+json": {
       "model_id": "59dcf71742094d3b9222274625fe4c0d",
       "version_major": 2,
       "version_minor": 0
      },
      "text/plain": [
       "Train [5]:   0%|          | 0/193 [00:00<?, ?batch/s]"
      ]
     },
     "metadata": {},
     "output_type": "display_data"
    },
    {
     "name": "stdout",
     "output_type": "stream",
     "text": [
      "Epoch 6 [0/193] | Train Loss: 0.6142 Grad: 53877.1172 LR: 8.4231e-05 | Elapse: 0.05s\n",
      "Epoch 6 [50/193] | Train Loss: 0.6675 Grad: 77294.2188 LR: 8.1973e-05 | Elapse: 2.54s\n",
      "Epoch 6 [100/193] | Train Loss: 0.6677 Grad: 69131.3359 LR: 7.9599e-05 | Elapse: 5.05s\n",
      "Epoch 6 [150/193] | Train Loss: 0.6745 Grad: 62889.7812 LR: 7.7118e-05 | Elapse: 7.54s\n",
      "Epoch 6 [192/193] | Train Loss: 0.6712 Grad: 65684.4688 LR: 7.4958e-05 | Elapse: 9.62s\n"
     ]
    },
    {
     "data": {
      "application/vnd.jupyter.widget-view+json": {
       "model_id": "c0a928d329a24ebc8cbd5c84ec1347cb",
       "version_major": 2,
       "version_minor": 0
      },
      "text/plain": [
       "Valid [5]:   0%|          | 0/121 [00:00<?, ?batch/s]"
      ]
     },
     "metadata": {},
     "output_type": "display_data"
    },
    {
     "name": "stdout",
     "output_type": "stream",
     "text": [
      "Epoch 6 [0/121] | Valid Loss: 1.0751 | Elapse: 0.05s\n",
      "Epoch 6 [50/121] | Valid Loss: 1.1478 | Elapse: 2.17s\n",
      "Epoch 6 [100/121] | Valid Loss: 1.1580 | Elapse: 4.30s\n"
     ]
    },
    {
     "name": "stderr",
     "output_type": "stream",
     "text": [
      "----------------------------------------------------------------------------------------------------\n",
      "Epoch 6 - Average Loss: (train) 0.6712; (valid) 1.1448 | Time: 14.74s\n"
     ]
    },
    {
     "name": "stdout",
     "output_type": "stream",
     "text": [
      "Epoch 6 [120/121] | Valid Loss: 1.1448 | Elapse: 5.11s\n"
     ]
    },
    {
     "data": {
      "application/vnd.jupyter.widget-view+json": {
       "model_id": "ee7b7e3eff4e4df3b1dff024c4fbbd93",
       "version_major": 2,
       "version_minor": 0
      },
      "text/plain": [
       "Train [6]:   0%|          | 0/193 [00:00<?, ?batch/s]"
      ]
     },
     "metadata": {},
     "output_type": "display_data"
    },
    {
     "name": "stdout",
     "output_type": "stream",
     "text": [
      "Epoch 7 [0/193] | Train Loss: 0.5744 Grad: 54955.2500 LR: 7.4906e-05 | Elapse: 0.05s\n",
      "Epoch 7 [50/193] | Train Loss: 0.6687 Grad: 81715.6562 LR: 7.2249e-05 | Elapse: 2.54s\n",
      "Epoch 7 [100/193] | Train Loss: 0.6683 Grad: 72387.4922 LR: 6.9511e-05 | Elapse: 5.04s\n",
      "Epoch 7 [150/193] | Train Loss: 0.6747 Grad: 59215.5391 LR: 6.6703e-05 | Elapse: 7.54s\n",
      "Epoch 7 [192/193] | Train Loss: 0.6716 Grad: 65727.5625 LR: 6.4297e-05 | Elapse: 9.65s\n"
     ]
    },
    {
     "data": {
      "application/vnd.jupyter.widget-view+json": {
       "model_id": "2d545dea37904f45894211a622f197b1",
       "version_major": 2,
       "version_minor": 0
      },
      "text/plain": [
       "Valid [6]:   0%|          | 0/121 [00:00<?, ?batch/s]"
      ]
     },
     "metadata": {},
     "output_type": "display_data"
    },
    {
     "name": "stdout",
     "output_type": "stream",
     "text": [
      "Epoch 7 [0/121] | Valid Loss: 1.0713 | Elapse: 0.05s\n",
      "Epoch 7 [50/121] | Valid Loss: 1.1416 | Elapse: 2.18s\n",
      "Epoch 7 [100/121] | Valid Loss: 1.1519 | Elapse: 4.31s\n"
     ]
    },
    {
     "name": "stderr",
     "output_type": "stream",
     "text": [
      "----------------------------------------------------------------------------------------------------\n",
      "Epoch 7 - Average Loss: (train) 0.6716; (valid) 1.1390 | Time: 14.77s\n"
     ]
    },
    {
     "name": "stdout",
     "output_type": "stream",
     "text": [
      "Epoch 7 [120/121] | Valid Loss: 1.1390 | Elapse: 5.13s\n"
     ]
    },
    {
     "data": {
      "application/vnd.jupyter.widget-view+json": {
       "model_id": "a82a4d56e6734f94aa6245337cebaef6",
       "version_major": 2,
       "version_minor": 0
      },
      "text/plain": [
       "Train [7]:   0%|          | 0/193 [00:00<?, ?batch/s]"
      ]
     },
     "metadata": {},
     "output_type": "display_data"
    },
    {
     "name": "stdout",
     "output_type": "stream",
     "text": [
      "Epoch 8 [0/193] | Train Loss: 0.5967 Grad: 55512.7773 LR: 6.4239e-05 | Elapse: 0.05s\n",
      "Epoch 8 [50/193] | Train Loss: 0.6654 Grad: 74521.6328 LR: 6.1326e-05 | Elapse: 2.57s\n",
      "Epoch 8 [100/193] | Train Loss: 0.6651 Grad: 71884.2109 LR: 5.8372e-05 | Elapse: 5.06s\n",
      "Epoch 8 [150/193] | Train Loss: 0.6707 Grad: 61303.6484 LR: 5.5388e-05 | Elapse: 7.57s\n",
      "Epoch 8 [192/193] | Train Loss: 0.6691 Grad: 67579.1797 LR: 5.2866e-05 | Elapse: 9.66s\n"
     ]
    },
    {
     "data": {
      "application/vnd.jupyter.widget-view+json": {
       "model_id": "d921f20843ca4f5896fdbe6aca0ac12b",
       "version_major": 2,
       "version_minor": 0
      },
      "text/plain": [
       "Valid [7]:   0%|          | 0/121 [00:00<?, ?batch/s]"
      ]
     },
     "metadata": {},
     "output_type": "display_data"
    },
    {
     "name": "stdout",
     "output_type": "stream",
     "text": [
      "Epoch 8 [0/121] | Valid Loss: 1.0719 | Elapse: 0.05s\n",
      "Epoch 8 [50/121] | Valid Loss: 1.1426 | Elapse: 2.17s\n",
      "Epoch 8 [100/121] | Valid Loss: 1.1531 | Elapse: 4.30s\n"
     ]
    },
    {
     "name": "stderr",
     "output_type": "stream",
     "text": [
      "----------------------------------------------------------------------------------------------------\n",
      "Epoch 8 - Average Loss: (train) 0.6691; (valid) 1.1400 | Time: 14.78s\n"
     ]
    },
    {
     "name": "stdout",
     "output_type": "stream",
     "text": [
      "Epoch 8 [120/121] | Valid Loss: 1.1400 | Elapse: 5.12s\n"
     ]
    },
    {
     "data": {
      "application/vnd.jupyter.widget-view+json": {
       "model_id": "c0c2d3fd59754a3cb6db33efe12d4ee9",
       "version_major": 2,
       "version_minor": 0
      },
      "text/plain": [
       "Train [8]:   0%|          | 0/193 [00:00<?, ?batch/s]"
      ]
     },
     "metadata": {},
     "output_type": "display_data"
    },
    {
     "name": "stdout",
     "output_type": "stream",
     "text": [
      "Epoch 9 [0/193] | Train Loss: 0.6043 Grad: 55186.4688 LR: 5.2806e-05 | Elapse: 0.05s\n",
      "Epoch 9 [50/193] | Train Loss: 0.6637 Grad: 80650.3203 LR: 4.9794e-05 | Elapse: 2.56s\n",
      "Epoch 9 [100/193] | Train Loss: 0.6639 Grad: 71657.5625 LR: 4.6783e-05 | Elapse: 5.07s\n",
      "Epoch 9 [150/193] | Train Loss: 0.6704 Grad: 65141.9922 LR: 4.3784e-05 | Elapse: 7.57s\n",
      "Epoch 9 [192/193] | Train Loss: 0.6685 Grad: 72898.8438 LR: 4.1282e-05 | Elapse: 9.67s\n"
     ]
    },
    {
     "data": {
      "application/vnd.jupyter.widget-view+json": {
       "model_id": "ec52f13db20a4e93ac7994d7eb9b240a",
       "version_major": 2,
       "version_minor": 0
      },
      "text/plain": [
       "Valid [8]:   0%|          | 0/121 [00:00<?, ?batch/s]"
      ]
     },
     "metadata": {},
     "output_type": "display_data"
    },
    {
     "name": "stdout",
     "output_type": "stream",
     "text": [
      "Epoch 9 [0/121] | Valid Loss: 1.0719 | Elapse: 0.05s\n",
      "Epoch 9 [50/121] | Valid Loss: 1.1385 | Elapse: 2.19s\n",
      "Epoch 9 [100/121] | Valid Loss: 1.1490 | Elapse: 4.32s\n"
     ]
    },
    {
     "name": "stderr",
     "output_type": "stream",
     "text": [
      "----------------------------------------------------------------------------------------------------\n",
      "Epoch 9 - Average Loss: (train) 0.6685; (valid) 1.1360 | Time: 14.81s\n"
     ]
    },
    {
     "name": "stdout",
     "output_type": "stream",
     "text": [
      "Epoch 9 [120/121] | Valid Loss: 1.1360 | Elapse: 5.14s\n"
     ]
    },
    {
     "data": {
      "application/vnd.jupyter.widget-view+json": {
       "model_id": "482cdc5b56db43fdaf8ab36b9aa3d47f",
       "version_major": 2,
       "version_minor": 0
      },
      "text/plain": [
       "Train [9]:   0%|          | 0/193 [00:00<?, ?batch/s]"
      ]
     },
     "metadata": {},
     "output_type": "display_data"
    },
    {
     "name": "stdout",
     "output_type": "stream",
     "text": [
      "Epoch 10 [0/193] | Train Loss: 0.6138 Grad: 55969.8242 LR: 4.1222e-05 | Elapse: 0.05s\n",
      "Epoch 10 [50/193] | Train Loss: 0.6603 Grad: 80489.7422 LR: 3.8274e-05 | Elapse: 2.56s\n",
      "Epoch 10 [100/193] | Train Loss: 0.6620 Grad: 68559.9141 LR: 3.5368e-05 | Elapse: 5.07s\n",
      "Epoch 10 [150/193] | Train Loss: 0.6684 Grad: 60088.5039 LR: 3.2516e-05 | Elapse: 7.56s\n",
      "Epoch 10 [192/193] | Train Loss: 0.6661 Grad: 73924.1953 LR: 3.0169e-05 | Elapse: 9.67s\n"
     ]
    },
    {
     "data": {
      "application/vnd.jupyter.widget-view+json": {
       "model_id": "eecbf87ce23a47d3973bbe64b2774600",
       "version_major": 2,
       "version_minor": 0
      },
      "text/plain": [
       "Valid [9]:   0%|          | 0/121 [00:00<?, ?batch/s]"
      ]
     },
     "metadata": {},
     "output_type": "display_data"
    },
    {
     "name": "stdout",
     "output_type": "stream",
     "text": [
      "Epoch 10 [0/121] | Valid Loss: 1.0727 | Elapse: 0.05s\n",
      "Epoch 10 [50/121] | Valid Loss: 1.1401 | Elapse: 2.18s\n",
      "Epoch 10 [100/121] | Valid Loss: 1.1508 | Elapse: 4.31s\n"
     ]
    },
    {
     "name": "stderr",
     "output_type": "stream",
     "text": [
      "----------------------------------------------------------------------------------------------------\n",
      "Epoch 10 - Average Loss: (train) 0.6661; (valid) 1.1377 | Time: 14.80s\n"
     ]
    },
    {
     "name": "stdout",
     "output_type": "stream",
     "text": [
      "Epoch 10 [120/121] | Valid Loss: 1.1377 | Elapse: 5.13s\n"
     ]
    },
    {
     "data": {
      "application/vnd.jupyter.widget-view+json": {
       "model_id": "50891644fd164669819906ce2d35aff7",
       "version_major": 2,
       "version_minor": 0
      },
      "text/plain": [
       "Train [10]:   0%|          | 0/193 [00:00<?, ?batch/s]"
      ]
     },
     "metadata": {},
     "output_type": "display_data"
    },
    {
     "name": "stdout",
     "output_type": "stream",
     "text": [
      "Epoch 11 [0/193] | Train Loss: 0.6034 Grad: 56940.4453 LR: 3.0113e-05 | Elapse: 0.05s\n",
      "Epoch 11 [50/193] | Train Loss: 0.6618 Grad: 75346.3984 LR: 2.7387e-05 | Elapse: 2.53s\n",
      "Epoch 11 [100/193] | Train Loss: 0.6607 Grad: 70188.1875 LR: 2.4744e-05 | Elapse: 5.03s\n",
      "Epoch 11 [150/193] | Train Loss: 0.6671 Grad: 62465.7227 LR: 2.2192e-05 | Elapse: 7.53s\n",
      "Epoch 11 [192/193] | Train Loss: 0.6648 Grad: 75214.2734 LR: 2.0126e-05 | Elapse: 9.63s\n"
     ]
    },
    {
     "data": {
      "application/vnd.jupyter.widget-view+json": {
       "model_id": "207e1a705df14329bf7cc8eaaa69635f",
       "version_major": 2,
       "version_minor": 0
      },
      "text/plain": [
       "Valid [10]:   0%|          | 0/121 [00:00<?, ?batch/s]"
      ]
     },
     "metadata": {},
     "output_type": "display_data"
    },
    {
     "name": "stdout",
     "output_type": "stream",
     "text": [
      "Epoch 11 [0/121] | Valid Loss: 1.0711 | Elapse: 0.05s\n",
      "Epoch 11 [50/121] | Valid Loss: 1.1361 | Elapse: 2.18s\n",
      "Epoch 11 [100/121] | Valid Loss: 1.1469 | Elapse: 4.31s\n"
     ]
    },
    {
     "name": "stderr",
     "output_type": "stream",
     "text": [
      "----------------------------------------------------------------------------------------------------\n",
      "Epoch 11 - Average Loss: (train) 0.6648; (valid) 1.1340 | Time: 14.75s\n"
     ]
    },
    {
     "name": "stdout",
     "output_type": "stream",
     "text": [
      "Epoch 11 [120/121] | Valid Loss: 1.1340 | Elapse: 5.12s\n"
     ]
    },
    {
     "data": {
      "application/vnd.jupyter.widget-view+json": {
       "model_id": "848c8c22817648a5b752c9ac609e9b53",
       "version_major": 2,
       "version_minor": 0
      },
      "text/plain": [
       "Train [11]:   0%|          | 0/193 [00:00<?, ?batch/s]"
      ]
     },
     "metadata": {},
     "output_type": "display_data"
    },
    {
     "name": "stdout",
     "output_type": "stream",
     "text": [
      "Epoch 12 [0/193] | Train Loss: 0.6193 Grad: 50843.6562 LR: 2.0077e-05 | Elapse: 0.05s\n",
      "Epoch 12 [50/193] | Train Loss: 0.6594 Grad: 74686.6484 LR: 1.7721e-05 | Elapse: 2.52s\n",
      "Epoch 12 [100/193] | Train Loss: 0.6605 Grad: 75072.7891 LR: 1.5481e-05 | Elapse: 5.01s\n",
      "Epoch 12 [150/193] | Train Loss: 0.6669 Grad: 63935.7422 LR: 1.3367e-05 | Elapse: 7.49s\n",
      "Epoch 12 [192/193] | Train Loss: 0.6648 Grad: 70861.9844 LR: 1.1694e-05 | Elapse: 9.59s\n"
     ]
    },
    {
     "data": {
      "application/vnd.jupyter.widget-view+json": {
       "model_id": "bb1e3f1221074ec4821f68371a022e41",
       "version_major": 2,
       "version_minor": 0
      },
      "text/plain": [
       "Valid [11]:   0%|          | 0/121 [00:00<?, ?batch/s]"
      ]
     },
     "metadata": {},
     "output_type": "display_data"
    },
    {
     "name": "stdout",
     "output_type": "stream",
     "text": [
      "Epoch 12 [0/121] | Valid Loss: 1.0714 | Elapse: 0.05s\n",
      "Epoch 12 [50/121] | Valid Loss: 1.1356 | Elapse: 2.18s\n",
      "Epoch 12 [100/121] | Valid Loss: 1.1465 | Elapse: 4.31s\n"
     ]
    },
    {
     "name": "stderr",
     "output_type": "stream",
     "text": [
      "----------------------------------------------------------------------------------------------------\n",
      "Epoch 12 - Average Loss: (train) 0.6648; (valid) 1.1336 | Time: 14.72s\n"
     ]
    },
    {
     "name": "stdout",
     "output_type": "stream",
     "text": [
      "Epoch 12 [120/121] | Valid Loss: 1.1336 | Elapse: 5.12s\n"
     ]
    },
    {
     "data": {
      "application/vnd.jupyter.widget-view+json": {
       "model_id": "ee49e609d24f4fb5b4b6e654895d1c75",
       "version_major": 2,
       "version_minor": 0
      },
      "text/plain": [
       "Train [12]:   0%|          | 0/193 [00:00<?, ?batch/s]"
      ]
     },
     "metadata": {},
     "output_type": "display_data"
    },
    {
     "name": "stdout",
     "output_type": "stream",
     "text": [
      "Epoch 13 [0/193] | Train Loss: 0.6080 Grad: 55607.8672 LR: 1.1656e-05 | Elapse: 0.06s\n",
      "Epoch 13 [50/193] | Train Loss: 0.6587 Grad: 79457.2344 LR: 9.7953e-06 | Elapse: 2.58s\n",
      "Epoch 13 [100/193] | Train Loss: 0.6593 Grad: 71641.5156 LR: 8.0811e-06 | Elapse: 5.06s\n",
      "Epoch 13 [150/193] | Train Loss: 0.6657 Grad: 66877.2734 LR: 6.5193e-06 | Elapse: 7.56s\n",
      "Epoch 13 [192/193] | Train Loss: 0.6637 Grad: 66423.7812 LR: 5.3292e-06 | Elapse: 9.64s\n"
     ]
    },
    {
     "data": {
      "application/vnd.jupyter.widget-view+json": {
       "model_id": "cc4f521be22d4b29a2e733a64ad93ca8",
       "version_major": 2,
       "version_minor": 0
      },
      "text/plain": [
       "Valid [12]:   0%|          | 0/121 [00:00<?, ?batch/s]"
      ]
     },
     "metadata": {},
     "output_type": "display_data"
    },
    {
     "name": "stdout",
     "output_type": "stream",
     "text": [
      "Epoch 13 [0/121] | Valid Loss: 1.0706 | Elapse: 0.05s\n",
      "Epoch 13 [50/121] | Valid Loss: 1.1336 | Elapse: 2.17s\n",
      "Epoch 13 [100/121] | Valid Loss: 1.1444 | Elapse: 4.30s\n"
     ]
    },
    {
     "name": "stderr",
     "output_type": "stream",
     "text": [
      "----------------------------------------------------------------------------------------------------\n",
      "Epoch 13 - Average Loss: (train) 0.6637; (valid) 1.1316 | Time: 14.76s\n"
     ]
    },
    {
     "name": "stdout",
     "output_type": "stream",
     "text": [
      "Epoch 13 [120/121] | Valid Loss: 1.1316 | Elapse: 5.11s\n"
     ]
    },
    {
     "data": {
      "application/vnd.jupyter.widget-view+json": {
       "model_id": "e4b8344c3c9f47458bcf981fed90b91a",
       "version_major": 2,
       "version_minor": 0
      },
      "text/plain": [
       "Train [13]:   0%|          | 0/193 [00:00<?, ?batch/s]"
      ]
     },
     "metadata": {},
     "output_type": "display_data"
    },
    {
     "name": "stdout",
     "output_type": "stream",
     "text": [
      "Epoch 14 [0/193] | Train Loss: 0.5936 Grad: 58678.5430 LR: 5.3023e-06 | Elapse: 0.05s\n",
      "Epoch 14 [50/193] | Train Loss: 0.6560 Grad: 76330.5547 LR: 4.0385e-06 | Elapse: 2.55s\n",
      "Epoch 14 [100/193] | Train Loss: 0.6579 Grad: 69738.0781 LR: 2.9418e-06 | Elapse: 5.04s\n",
      "Epoch 14 [150/193] | Train Loss: 0.6659 Grad: 67209.8984 LR: 2.0162e-06 | Elapse: 7.51s\n",
      "Epoch 14 [192/193] | Train Loss: 0.6633 Grad: 68069.9688 LR: 1.3734e-06 | Elapse: 9.61s\n"
     ]
    },
    {
     "data": {
      "application/vnd.jupyter.widget-view+json": {
       "model_id": "8ed3f4c52e334b3eb8971c5a2a77898f",
       "version_major": 2,
       "version_minor": 0
      },
      "text/plain": [
       "Valid [13]:   0%|          | 0/121 [00:00<?, ?batch/s]"
      ]
     },
     "metadata": {},
     "output_type": "display_data"
    },
    {
     "name": "stdout",
     "output_type": "stream",
     "text": [
      "Epoch 14 [0/121] | Valid Loss: 1.0702 | Elapse: 0.05s\n",
      "Epoch 14 [50/121] | Valid Loss: 1.1331 | Elapse: 2.18s\n",
      "Epoch 14 [100/121] | Valid Loss: 1.1438 | Elapse: 4.30s\n"
     ]
    },
    {
     "name": "stderr",
     "output_type": "stream",
     "text": [
      "----------------------------------------------------------------------------------------------------\n",
      "Epoch 14 - Average Loss: (train) 0.6633; (valid) 1.1310 | Time: 14.72s\n"
     ]
    },
    {
     "name": "stdout",
     "output_type": "stream",
     "text": [
      "Epoch 14 [120/121] | Valid Loss: 1.1310 | Elapse: 5.12s\n"
     ]
    },
    {
     "data": {
      "application/vnd.jupyter.widget-view+json": {
       "model_id": "b9e3ff66f391456a80ae393285f35048",
       "version_major": 2,
       "version_minor": 0
      },
      "text/plain": [
       "Train [14]:   0%|          | 0/193 [00:00<?, ?batch/s]"
      ]
     },
     "metadata": {},
     "output_type": "display_data"
    },
    {
     "name": "stdout",
     "output_type": "stream",
     "text": [
      "Epoch 15 [0/193] | Train Loss: 0.5835 Grad: 54957.2227 LR: 1.3596e-06 | Elapse: 0.05s\n",
      "Epoch 15 [50/193] | Train Loss: 0.6603 Grad: 79159.6406 LR: 7.6057e-07 | Elapse: 2.53s\n",
      "Epoch 15 [100/193] | Train Loss: 0.6591 Grad: 67829.5234 LR: 3.4056e-07 | Elapse: 5.04s\n",
      "Epoch 15 [150/193] | Train Loss: 0.6660 Grad: 63636.1523 LR: 1.0106e-07 | Elapse: 7.54s\n",
      "Epoch 15 [192/193] | Train Loss: 0.6646 Grad: 77383.1328 LR: 4.0036e-08 | Elapse: 9.63s\n"
     ]
    },
    {
     "data": {
      "application/vnd.jupyter.widget-view+json": {
       "model_id": "aa73f88a38884164bd6fef935e6c1d8b",
       "version_major": 2,
       "version_minor": 0
      },
      "text/plain": [
       "Valid [14]:   0%|          | 0/121 [00:00<?, ?batch/s]"
      ]
     },
     "metadata": {},
     "output_type": "display_data"
    },
    {
     "name": "stdout",
     "output_type": "stream",
     "text": [
      "Epoch 15 [0/121] | Valid Loss: 1.0702 | Elapse: 0.05s\n",
      "Epoch 15 [50/121] | Valid Loss: 1.1330 | Elapse: 2.18s\n",
      "Epoch 15 [100/121] | Valid Loss: 1.1437 | Elapse: 4.31s\n"
     ]
    },
    {
     "name": "stderr",
     "output_type": "stream",
     "text": [
      "----------------------------------------------------------------------------------------------------\n",
      "Epoch 15 - Average Loss: (train) 0.6646; (valid) 1.1309 | Time: 14.75s\n",
      "====================================================================================================\n",
      "Fold 3 Valid Loss: 1.1211360692977905\n",
      "Elapse: 3.70 min \n",
      "====================================================================================================\n"
     ]
    },
    {
     "name": "stdout",
     "output_type": "stream",
     "text": [
      "Epoch 15 [120/121] | Valid Loss: 1.1309 | Elapse: 5.12s\n"
     ]
    },
    {
     "name": "stderr",
     "output_type": "stream",
     "text": [
      "====================================================================================================\n",
      "Fold: 4 || Valid size 4339 \n",
      "====================================================================================================\n",
      "- First Stage -\n"
     ]
    },
    {
     "data": {
      "application/vnd.jupyter.widget-view+json": {
       "model_id": "10809e48f8d749e68b78da4ad92abc98",
       "version_major": 2,
       "version_minor": 0
      },
      "text/plain": [
       "Train [0]:   0%|          | 0/495 [00:00<?, ?batch/s]"
      ]
     },
     "metadata": {},
     "output_type": "display_data"
    },
    {
     "name": "stdout",
     "output_type": "stream",
     "text": [
      "Epoch 1 [0/495] | Train Loss: 1.4265 Grad: 188644.7031 LR: 4.0004e-06 | Elapse: 0.05s\n",
      "Epoch 1 [50/495] | Train Loss: 1.5094 Grad: 250717.5469 LR: 5.1162e-06 | Elapse: 2.55s\n",
      "Epoch 1 [100/495] | Train Loss: 1.4945 Grad: 171405.2656 LR: 8.3281e-06 | Elapse: 5.06s\n",
      "Epoch 1 [150/495] | Train Loss: 1.4841 Grad: 155616.4375 LR: 1.3492e-05 | Elapse: 7.56s\n",
      "Epoch 1 [200/495] | Train Loss: 1.4699 Grad: 172745.6875 LR: 2.0378e-05 | Elapse: 10.08s\n",
      "Epoch 1 [250/495] | Train Loss: 1.4510 Grad: 159114.0469 LR: 2.8678e-05 | Elapse: 12.59s\n",
      "Epoch 1 [300/495] | Train Loss: 1.4316 Grad: 188442.1562 LR: 3.8021e-05 | Elapse: 15.10s\n",
      "Epoch 1 [350/495] | Train Loss: 1.4145 Grad: 131175.3125 LR: 4.7988e-05 | Elapse: 17.58s\n",
      "Epoch 1 [400/495] | Train Loss: 1.4010 Grad: 148986.6875 LR: 5.8135e-05 | Elapse: 20.07s\n",
      "Epoch 1 [450/495] | Train Loss: 1.3884 Grad: 113498.7344 LR: 6.8008e-05 | Elapse: 22.55s\n",
      "Epoch 1 [494/495] | Train Loss: 1.3779 Grad: 114335.3984 LR: 7.6117e-05 | Elapse: 24.74s\n"
     ]
    },
    {
     "data": {
      "application/vnd.jupyter.widget-view+json": {
       "model_id": "a9f793e9b04b4622aee51aa11127719d",
       "version_major": 2,
       "version_minor": 0
      },
      "text/plain": [
       "Valid [0]:   0%|          | 0/136 [00:00<?, ?batch/s]"
      ]
     },
     "metadata": {},
     "output_type": "display_data"
    },
    {
     "name": "stdout",
     "output_type": "stream",
     "text": [
      "Epoch 1 [0/136] | Valid Loss: 1.2556 | Elapse: 0.05s\n",
      "Epoch 1 [50/136] | Valid Loss: 1.2840 | Elapse: 2.18s\n",
      "Epoch 1 [100/136] | Valid Loss: 1.2862 | Elapse: 4.31s\n"
     ]
    },
    {
     "name": "stderr",
     "output_type": "stream",
     "text": [
      "----------------------------------------------------------------------------------------------------\n",
      "Epoch 1 - Average Loss: (train) 1.3779; (valid) 1.2790 | Time: 30.52s\n",
      "Best model found in epoch 1 | valid loss: 1.2790\n"
     ]
    },
    {
     "name": "stdout",
     "output_type": "stream",
     "text": [
      "Epoch 1 [135/136] | Valid Loss: 1.2790 | Elapse: 5.78s\n"
     ]
    },
    {
     "data": {
      "application/vnd.jupyter.widget-view+json": {
       "model_id": "889b3e91f71043b7a3f927e3a18a3226",
       "version_major": 2,
       "version_minor": 0
      },
      "text/plain": [
       "Train [1]:   0%|          | 0/495 [00:00<?, ?batch/s]"
      ]
     },
     "metadata": {},
     "output_type": "display_data"
    },
    {
     "name": "stdout",
     "output_type": "stream",
     "text": [
      "Epoch 2 [0/495] | Train Loss: 1.2769 Grad: 123728.6875 LR: 7.6293e-05 | Elapse: 0.05s\n",
      "Epoch 2 [50/495] | Train Loss: 1.2832 Grad: 120609.4609 LR: 8.4454e-05 | Elapse: 2.51s\n",
      "Epoch 2 [100/495] | Train Loss: 1.2733 Grad: 106105.0938 LR: 9.1165e-05 | Elapse: 4.98s\n",
      "Epoch 2 [150/495] | Train Loss: 1.2777 Grad: 110990.9531 LR: 9.6124e-05 | Elapse: 7.42s\n",
      "Epoch 2 [200/495] | Train Loss: 1.2756 Grad: 101336.3672 LR: 9.9111e-05 | Elapse: 9.88s\n",
      "Epoch 2 [250/495] | Train Loss: 1.2725 Grad: 112108.8438 LR: 1.0000e-04 | Elapse: 12.33s\n",
      "Epoch 2 [300/495] | Train Loss: 1.2707 Grad: 123639.5625 LR: 9.9984e-05 | Elapse: 14.78s\n",
      "Epoch 2 [350/495] | Train Loss: 1.2673 Grad: 106276.6328 LR: 9.9940e-05 | Elapse: 17.24s\n",
      "Epoch 2 [400/495] | Train Loss: 1.2636 Grad: 131155.5312 LR: 9.9868e-05 | Elapse: 19.67s\n",
      "Epoch 2 [450/495] | Train Loss: 1.2590 Grad: 90066.0234 LR: 9.9769e-05 | Elapse: 22.12s\n",
      "Epoch 2 [494/495] | Train Loss: 1.2528 Grad: 103026.5469 LR: 9.9659e-05 | Elapse: 24.31s\n"
     ]
    },
    {
     "data": {
      "application/vnd.jupyter.widget-view+json": {
       "model_id": "f722ed0e5ded4b94b5308afebf9c9312",
       "version_major": 2,
       "version_minor": 0
      },
      "text/plain": [
       "Valid [1]:   0%|          | 0/136 [00:00<?, ?batch/s]"
      ]
     },
     "metadata": {},
     "output_type": "display_data"
    },
    {
     "name": "stdout",
     "output_type": "stream",
     "text": [
      "Epoch 2 [0/136] | Valid Loss: 1.2235 | Elapse: 0.05s\n",
      "Epoch 2 [50/136] | Valid Loss: 1.2376 | Elapse: 2.17s\n",
      "Epoch 2 [100/136] | Valid Loss: 1.2396 | Elapse: 4.30s\n"
     ]
    },
    {
     "name": "stderr",
     "output_type": "stream",
     "text": [
      "----------------------------------------------------------------------------------------------------\n",
      "Epoch 2 - Average Loss: (train) 1.2528; (valid) 1.2319 | Time: 30.09s\n",
      "Best model found in epoch 2 | valid loss: 1.2319\n"
     ]
    },
    {
     "name": "stdout",
     "output_type": "stream",
     "text": [
      "Epoch 2 [135/136] | Valid Loss: 1.2319 | Elapse: 5.77s\n"
     ]
    },
    {
     "data": {
      "application/vnd.jupyter.widget-view+json": {
       "model_id": "775aa1ef76234595851280708cd661c2",
       "version_major": 2,
       "version_minor": 0
      },
      "text/plain": [
       "Train [2]:   0%|          | 0/495 [00:00<?, ?batch/s]"
      ]
     },
     "metadata": {},
     "output_type": "display_data"
    },
    {
     "name": "stdout",
     "output_type": "stream",
     "text": [
      "Epoch 3 [0/495] | Train Loss: 1.1812 Grad: 105662.6641 LR: 9.9657e-05 | Elapse: 0.05s\n",
      "Epoch 3 [50/495] | Train Loss: 1.2265 Grad: 57678.1250 LR: 9.9505e-05 | Elapse: 2.53s\n",
      "Epoch 3 [100/495] | Train Loss: 1.2179 Grad: 50376.5234 LR: 9.9327e-05 | Elapse: 5.01s\n",
      "Epoch 3 [150/495] | Train Loss: 1.2208 Grad: 49200.9023 LR: 9.9121e-05 | Elapse: 7.49s\n",
      "Epoch 3 [200/495] | Train Loss: 1.2175 Grad: 50556.1367 LR: 9.8888e-05 | Elapse: 10.00s\n",
      "Epoch 3 [250/495] | Train Loss: 1.2139 Grad: 55853.9688 LR: 9.8628e-05 | Elapse: 12.50s\n",
      "Epoch 3 [300/495] | Train Loss: 1.2133 Grad: 57720.3398 LR: 9.8342e-05 | Elapse: 14.98s\n",
      "Epoch 3 [350/495] | Train Loss: 1.2115 Grad: 51924.9023 LR: 9.8028e-05 | Elapse: 17.45s\n",
      "Epoch 3 [400/495] | Train Loss: 1.2068 Grad: 68587.7500 LR: 9.7688e-05 | Elapse: 19.96s\n",
      "Epoch 3 [450/495] | Train Loss: 1.2018 Grad: 45497.7500 LR: 9.7322e-05 | Elapse: 22.45s\n",
      "Epoch 3 [494/495] | Train Loss: 1.1968 Grad: 51001.5312 LR: 9.6978e-05 | Elapse: 24.65s\n"
     ]
    },
    {
     "data": {
      "application/vnd.jupyter.widget-view+json": {
       "model_id": "cc6b6953dc8b4d91a96574de70d67fe8",
       "version_major": 2,
       "version_minor": 0
      },
      "text/plain": [
       "Valid [2]:   0%|          | 0/136 [00:00<?, ?batch/s]"
      ]
     },
     "metadata": {},
     "output_type": "display_data"
    },
    {
     "name": "stdout",
     "output_type": "stream",
     "text": [
      "Epoch 3 [0/136] | Valid Loss: 1.2053 | Elapse: 0.05s\n",
      "Epoch 3 [50/136] | Valid Loss: 1.2007 | Elapse: 2.17s\n",
      "Epoch 3 [100/136] | Valid Loss: 1.2023 | Elapse: 4.29s\n"
     ]
    },
    {
     "name": "stderr",
     "output_type": "stream",
     "text": [
      "----------------------------------------------------------------------------------------------------\n",
      "Epoch 3 - Average Loss: (train) 1.1968; (valid) 1.1946 | Time: 30.41s\n",
      "Best model found in epoch 3 | valid loss: 1.1946\n"
     ]
    },
    {
     "name": "stdout",
     "output_type": "stream",
     "text": [
      "Epoch 3 [135/136] | Valid Loss: 1.1946 | Elapse: 5.75s\n"
     ]
    },
    {
     "data": {
      "application/vnd.jupyter.widget-view+json": {
       "model_id": "bfee95085dba49a99a2240ef4da2b88b",
       "version_major": 2,
       "version_minor": 0
      },
      "text/plain": [
       "Train [3]:   0%|          | 0/495 [00:00<?, ?batch/s]"
      ]
     },
     "metadata": {},
     "output_type": "display_data"
    },
    {
     "name": "stdout",
     "output_type": "stream",
     "text": [
      "Epoch 4 [0/495] | Train Loss: 1.0769 Grad: 101586.1094 LR: 9.6970e-05 | Elapse: 0.05s\n",
      "Epoch 4 [50/495] | Train Loss: 1.1748 Grad: 53408.0742 LR: 9.6554e-05 | Elapse: 2.50s\n",
      "Epoch 4 [100/495] | Train Loss: 1.1702 Grad: 54885.7695 LR: 9.6112e-05 | Elapse: 4.99s\n",
      "Epoch 4 [150/495] | Train Loss: 1.1743 Grad: 50994.1094 LR: 9.5645e-05 | Elapse: 7.42s\n",
      "Epoch 4 [200/495] | Train Loss: 1.1683 Grad: 49295.7930 LR: 9.5153e-05 | Elapse: 9.91s\n",
      "Epoch 4 [250/495] | Train Loss: 1.1655 Grad: 60442.5586 LR: 9.4636e-05 | Elapse: 12.41s\n",
      "Epoch 4 [300/495] | Train Loss: 1.1670 Grad: 57505.0547 LR: 9.4094e-05 | Elapse: 14.90s\n",
      "Epoch 4 [350/495] | Train Loss: 1.1648 Grad: 50346.6367 LR: 9.3528e-05 | Elapse: 17.41s\n",
      "Epoch 4 [400/495] | Train Loss: 1.1632 Grad: 71761.4688 LR: 9.2938e-05 | Elapse: 19.91s\n",
      "Epoch 4 [450/495] | Train Loss: 1.1594 Grad: 44348.8633 LR: 9.2324e-05 | Elapse: 22.36s\n",
      "Epoch 4 [494/495] | Train Loss: 1.1564 Grad: 56563.6719 LR: 9.1765e-05 | Elapse: 24.56s\n"
     ]
    },
    {
     "data": {
      "application/vnd.jupyter.widget-view+json": {
       "model_id": "04ea036e0da9400e9ea954ea4d4a146e",
       "version_major": 2,
       "version_minor": 0
      },
      "text/plain": [
       "Valid [3]:   0%|          | 0/136 [00:00<?, ?batch/s]"
      ]
     },
     "metadata": {},
     "output_type": "display_data"
    },
    {
     "name": "stdout",
     "output_type": "stream",
     "text": [
      "Epoch 4 [0/136] | Valid Loss: 1.1960 | Elapse: 0.05s\n",
      "Epoch 4 [50/136] | Valid Loss: 1.1743 | Elapse: 2.17s\n",
      "Epoch 4 [100/136] | Valid Loss: 1.1755 | Elapse: 4.29s\n"
     ]
    },
    {
     "name": "stderr",
     "output_type": "stream",
     "text": [
      "----------------------------------------------------------------------------------------------------\n",
      "Epoch 4 - Average Loss: (train) 1.1564; (valid) 1.1683 | Time: 30.32s\n",
      "Best model found in epoch 4 | valid loss: 1.1683\n"
     ]
    },
    {
     "name": "stdout",
     "output_type": "stream",
     "text": [
      "Epoch 4 [135/136] | Valid Loss: 1.1683 | Elapse: 5.75s\n"
     ]
    },
    {
     "data": {
      "application/vnd.jupyter.widget-view+json": {
       "model_id": "bc1574885b5440c9ace28324ef4a99fd",
       "version_major": 2,
       "version_minor": 0
      },
      "text/plain": [
       "Train [4]:   0%|          | 0/495 [00:00<?, ?batch/s]"
      ]
     },
     "metadata": {},
     "output_type": "display_data"
    },
    {
     "name": "stdout",
     "output_type": "stream",
     "text": [
      "Epoch 5 [0/495] | Train Loss: 1.0840 Grad: 105194.2344 LR: 9.1752e-05 | Elapse: 0.05s\n",
      "Epoch 5 [50/495] | Train Loss: 1.1546 Grad: 56000.8633 LR: 9.1094e-05 | Elapse: 2.51s\n",
      "Epoch 5 [100/495] | Train Loss: 1.1448 Grad: 51124.4648 LR: 9.0413e-05 | Elapse: 4.99s\n",
      "Epoch 5 [150/495] | Train Loss: 1.1450 Grad: 51938.6211 LR: 8.9710e-05 | Elapse: 7.45s\n",
      "Epoch 5 [200/495] | Train Loss: 1.1432 Grad: 52102.9531 LR: 8.8985e-05 | Elapse: 9.92s\n",
      "Epoch 5 [250/495] | Train Loss: 1.1421 Grad: 55704.5039 LR: 8.8239e-05 | Elapse: 12.37s\n",
      "Epoch 5 [300/495] | Train Loss: 1.1451 Grad: 55863.6953 LR: 8.7471e-05 | Elapse: 14.83s\n",
      "Epoch 5 [350/495] | Train Loss: 1.1443 Grad: 50221.2305 LR: 8.6683e-05 | Elapse: 17.32s\n",
      "Epoch 5 [400/495] | Train Loss: 1.1418 Grad: 70226.3828 LR: 8.5875e-05 | Elapse: 19.79s\n",
      "Epoch 5 [450/495] | Train Loss: 1.1385 Grad: 47103.0859 LR: 8.5046e-05 | Elapse: 22.31s\n",
      "Epoch 5 [494/495] | Train Loss: 1.1361 Grad: 58047.5820 LR: 8.4301e-05 | Elapse: 24.50s\n"
     ]
    },
    {
     "data": {
      "application/vnd.jupyter.widget-view+json": {
       "model_id": "0b7f5ffa6bf34021aa0fb0e9f0ed61b7",
       "version_major": 2,
       "version_minor": 0
      },
      "text/plain": [
       "Valid [4]:   0%|          | 0/136 [00:00<?, ?batch/s]"
      ]
     },
     "metadata": {},
     "output_type": "display_data"
    },
    {
     "name": "stdout",
     "output_type": "stream",
     "text": [
      "Epoch 5 [0/136] | Valid Loss: 1.1951 | Elapse: 0.05s\n",
      "Epoch 5 [50/136] | Valid Loss: 1.1576 | Elapse: 2.18s\n",
      "Epoch 5 [100/136] | Valid Loss: 1.1589 | Elapse: 4.31s\n"
     ]
    },
    {
     "name": "stderr",
     "output_type": "stream",
     "text": [
      "----------------------------------------------------------------------------------------------------\n",
      "Epoch 5 - Average Loss: (train) 1.1361; (valid) 1.1522 | Time: 30.29s\n",
      "Best model found in epoch 5 | valid loss: 1.1522\n"
     ]
    },
    {
     "name": "stdout",
     "output_type": "stream",
     "text": [
      "Epoch 5 [135/136] | Valid Loss: 1.1522 | Elapse: 5.79s\n"
     ]
    },
    {
     "data": {
      "application/vnd.jupyter.widget-view+json": {
       "model_id": "180941379bc64106bcb2824009c09cae",
       "version_major": 2,
       "version_minor": 0
      },
      "text/plain": [
       "Train [5]:   0%|          | 0/495 [00:00<?, ?batch/s]"
      ]
     },
     "metadata": {},
     "output_type": "display_data"
    },
    {
     "name": "stdout",
     "output_type": "stream",
     "text": [
      "Epoch 6 [0/495] | Train Loss: 1.0598 Grad: 109937.9766 LR: 8.4284e-05 | Elapse: 0.05s\n",
      "Epoch 6 [50/495] | Train Loss: 1.1228 Grad: 52610.5508 LR: 8.3419e-05 | Elapse: 2.56s\n",
      "Epoch 6 [100/495] | Train Loss: 1.1202 Grad: 50914.3320 LR: 8.2536e-05 | Elapse: 5.09s\n",
      "Epoch 6 [150/495] | Train Loss: 1.1236 Grad: 48148.3477 LR: 8.1635e-05 | Elapse: 7.54s\n",
      "Epoch 6 [200/495] | Train Loss: 1.1222 Grad: 52494.5703 LR: 8.0717e-05 | Elapse: 9.99s\n",
      "Epoch 6 [250/495] | Train Loss: 1.1217 Grad: 52758.5781 LR: 7.9781e-05 | Elapse: 12.46s\n",
      "Epoch 6 [300/495] | Train Loss: 1.1240 Grad: 53842.5859 LR: 7.8829e-05 | Elapse: 14.99s\n",
      "Epoch 6 [350/495] | Train Loss: 1.1221 Grad: 50292.7656 LR: 7.7861e-05 | Elapse: 17.49s\n",
      "Epoch 6 [400/495] | Train Loss: 1.1212 Grad: 67471.0000 LR: 7.6878e-05 | Elapse: 20.03s\n",
      "Epoch 6 [450/495] | Train Loss: 1.1172 Grad: 44580.1797 LR: 7.5880e-05 | Elapse: 22.52s\n",
      "Epoch 6 [494/495] | Train Loss: 1.1159 Grad: 57075.3008 LR: 7.4990e-05 | Elapse: 24.72s\n"
     ]
    },
    {
     "data": {
      "application/vnd.jupyter.widget-view+json": {
       "model_id": "cba2c2511d4646efab1ce0d25100a104",
       "version_major": 2,
       "version_minor": 0
      },
      "text/plain": [
       "Valid [5]:   0%|          | 0/136 [00:00<?, ?batch/s]"
      ]
     },
     "metadata": {},
     "output_type": "display_data"
    },
    {
     "name": "stdout",
     "output_type": "stream",
     "text": [
      "Epoch 6 [0/136] | Valid Loss: 1.1871 | Elapse: 0.05s\n",
      "Epoch 6 [50/136] | Valid Loss: 1.1421 | Elapse: 2.18s\n",
      "Epoch 6 [100/136] | Valid Loss: 1.1447 | Elapse: 4.32s\n"
     ]
    },
    {
     "name": "stderr",
     "output_type": "stream",
     "text": [
      "----------------------------------------------------------------------------------------------------\n",
      "Epoch 6 - Average Loss: (train) 1.1159; (valid) 1.1386 | Time: 30.51s\n",
      "Best model found in epoch 6 | valid loss: 1.1386\n"
     ]
    },
    {
     "name": "stdout",
     "output_type": "stream",
     "text": [
      "Epoch 6 [135/136] | Valid Loss: 1.1386 | Elapse: 5.79s\n"
     ]
    },
    {
     "data": {
      "application/vnd.jupyter.widget-view+json": {
       "model_id": "28af2f64047040d9b7c4735ce15df4b6",
       "version_major": 2,
       "version_minor": 0
      },
      "text/plain": [
       "Train [6]:   0%|          | 0/495 [00:00<?, ?batch/s]"
      ]
     },
     "metadata": {},
     "output_type": "display_data"
    },
    {
     "name": "stdout",
     "output_type": "stream",
     "text": [
      "Epoch 7 [0/495] | Train Loss: 1.0078 Grad: 101776.2188 LR: 7.4969e-05 | Elapse: 0.05s\n",
      "Epoch 7 [50/495] | Train Loss: 1.1017 Grad: 50114.7422 LR: 7.3945e-05 | Elapse: 2.64s\n",
      "Epoch 7 [100/495] | Train Loss: 1.1001 Grad: 51796.8711 LR: 7.2906e-05 | Elapse: 5.11s\n",
      "Epoch 7 [150/495] | Train Loss: 1.1038 Grad: 46228.0391 LR: 7.1856e-05 | Elapse: 7.57s\n",
      "Epoch 7 [200/495] | Train Loss: 1.1032 Grad: 50555.1914 LR: 7.0793e-05 | Elapse: 10.05s\n",
      "Epoch 7 [250/495] | Train Loss: 1.1038 Grad: 62207.7891 LR: 6.9719e-05 | Elapse: 12.52s\n",
      "Epoch 7 [300/495] | Train Loss: 1.1073 Grad: 53646.6133 LR: 6.8634e-05 | Elapse: 15.02s\n",
      "Epoch 7 [350/495] | Train Loss: 1.1069 Grad: 53781.9688 LR: 6.7538e-05 | Elapse: 17.51s\n",
      "Epoch 7 [400/495] | Train Loss: 1.1067 Grad: 70733.5781 LR: 6.6433e-05 | Elapse: 20.00s\n",
      "Epoch 7 [450/495] | Train Loss: 1.1029 Grad: 47775.8164 LR: 6.5319e-05 | Elapse: 22.45s\n",
      "Epoch 7 [494/495] | Train Loss: 1.1019 Grad: 58168.1953 LR: 6.4332e-05 | Elapse: 24.62s\n"
     ]
    },
    {
     "data": {
      "application/vnd.jupyter.widget-view+json": {
       "model_id": "d5e7b5a4f30f476ebf4404dd2af49e42",
       "version_major": 2,
       "version_minor": 0
      },
      "text/plain": [
       "Valid [6]:   0%|          | 0/136 [00:00<?, ?batch/s]"
      ]
     },
     "metadata": {},
     "output_type": "display_data"
    },
    {
     "name": "stdout",
     "output_type": "stream",
     "text": [
      "Epoch 7 [0/136] | Valid Loss: 1.1762 | Elapse: 0.05s\n",
      "Epoch 7 [50/136] | Valid Loss: 1.1315 | Elapse: 2.19s\n",
      "Epoch 7 [100/136] | Valid Loss: 1.1353 | Elapse: 4.34s\n"
     ]
    },
    {
     "name": "stderr",
     "output_type": "stream",
     "text": [
      "----------------------------------------------------------------------------------------------------\n",
      "Epoch 7 - Average Loss: (train) 1.1019; (valid) 1.1296 | Time: 30.44s\n",
      "Best model found in epoch 7 | valid loss: 1.1296\n"
     ]
    },
    {
     "name": "stdout",
     "output_type": "stream",
     "text": [
      "Epoch 7 [135/136] | Valid Loss: 1.1296 | Elapse: 5.81s\n"
     ]
    },
    {
     "data": {
      "application/vnd.jupyter.widget-view+json": {
       "model_id": "96a21abdfc9742a287106f4b1dea8cfd",
       "version_major": 2,
       "version_minor": 0
      },
      "text/plain": [
       "Train [7]:   0%|          | 0/495 [00:00<?, ?batch/s]"
      ]
     },
     "metadata": {},
     "output_type": "display_data"
    },
    {
     "name": "stdout",
     "output_type": "stream",
     "text": [
      "Epoch 8 [0/495] | Train Loss: 1.0477 Grad: 109757.8047 LR: 6.4309e-05 | Elapse: 0.06s\n",
      "Epoch 8 [50/495] | Train Loss: 1.0921 Grad: 54977.6797 LR: 6.3180e-05 | Elapse: 2.56s\n",
      "Epoch 8 [100/495] | Train Loss: 1.0900 Grad: 54693.3438 LR: 6.2043e-05 | Elapse: 5.05s\n",
      "Epoch 8 [150/495] | Train Loss: 1.0944 Grad: 46059.1953 LR: 6.0899e-05 | Elapse: 7.53s\n",
      "Epoch 8 [200/495] | Train Loss: 1.0932 Grad: 54040.9258 LR: 5.9750e-05 | Elapse: 10.05s\n",
      "Epoch 8 [250/495] | Train Loss: 1.0945 Grad: 60361.5938 LR: 5.8595e-05 | Elapse: 12.55s\n",
      "Epoch 8 [300/495] | Train Loss: 1.0981 Grad: 60518.0703 LR: 5.7435e-05 | Elapse: 15.04s\n",
      "Epoch 8 [350/495] | Train Loss: 1.0962 Grad: 55524.0430 LR: 5.6271e-05 | Elapse: 17.53s\n",
      "Epoch 8 [400/495] | Train Loss: 1.0964 Grad: 64022.5781 LR: 5.5104e-05 | Elapse: 20.03s\n",
      "Epoch 8 [450/495] | Train Loss: 1.0934 Grad: 46771.4648 LR: 5.3934e-05 | Elapse: 22.55s\n",
      "Epoch 8 [494/495] | Train Loss: 1.0921 Grad: 54899.1914 LR: 5.2903e-05 | Elapse: 24.75s\n"
     ]
    },
    {
     "data": {
      "application/vnd.jupyter.widget-view+json": {
       "model_id": "9ed2a07e0da94f32817f8d9a22e40c4e",
       "version_major": 2,
       "version_minor": 0
      },
      "text/plain": [
       "Valid [7]:   0%|          | 0/136 [00:00<?, ?batch/s]"
      ]
     },
     "metadata": {},
     "output_type": "display_data"
    },
    {
     "name": "stdout",
     "output_type": "stream",
     "text": [
      "Epoch 8 [0/136] | Valid Loss: 1.1715 | Elapse: 0.05s\n",
      "Epoch 8 [50/136] | Valid Loss: 1.1224 | Elapse: 2.18s\n",
      "Epoch 8 [100/136] | Valid Loss: 1.1266 | Elapse: 4.35s\n"
     ]
    },
    {
     "name": "stderr",
     "output_type": "stream",
     "text": [
      "----------------------------------------------------------------------------------------------------\n",
      "Epoch 8 - Average Loss: (train) 1.0921; (valid) 1.1216 | Time: 30.61s\n",
      "Best model found in epoch 8 | valid loss: 1.1216\n"
     ]
    },
    {
     "name": "stdout",
     "output_type": "stream",
     "text": [
      "Epoch 8 [135/136] | Valid Loss: 1.1216 | Elapse: 5.85s\n"
     ]
    },
    {
     "data": {
      "application/vnd.jupyter.widget-view+json": {
       "model_id": "44fb1bf3c38247ffb5530f413d58119c",
       "version_major": 2,
       "version_minor": 0
      },
      "text/plain": [
       "Train [8]:   0%|          | 0/495 [00:00<?, ?batch/s]"
      ]
     },
     "metadata": {},
     "output_type": "display_data"
    },
    {
     "name": "stdout",
     "output_type": "stream",
     "text": [
      "Epoch 9 [0/495] | Train Loss: 0.9623 Grad: 103126.9531 LR: 5.2879e-05 | Elapse: 0.05s\n",
      "Epoch 9 [50/495] | Train Loss: 1.0829 Grad: 51618.7773 LR: 5.1706e-05 | Elapse: 2.53s\n",
      "Epoch 9 [100/495] | Train Loss: 1.0780 Grad: 52738.0234 LR: 5.0531e-05 | Elapse: 5.05s\n",
      "Epoch 9 [150/495] | Train Loss: 1.0832 Grad: 48243.7070 LR: 4.9356e-05 | Elapse: 7.55s\n",
      "Epoch 9 [200/495] | Train Loss: 1.0852 Grad: 56267.6523 LR: 4.8182e-05 | Elapse: 10.06s\n",
      "Epoch 9 [250/495] | Train Loss: 1.0843 Grad: 59991.3242 LR: 4.7008e-05 | Elapse: 12.54s\n",
      "Epoch 9 [300/495] | Train Loss: 1.0882 Grad: 59386.5000 LR: 4.5837e-05 | Elapse: 15.02s\n",
      "Epoch 9 [350/495] | Train Loss: 1.0874 Grad: 56179.9688 LR: 4.4667e-05 | Elapse: 17.48s\n",
      "Epoch 9 [400/495] | Train Loss: 1.0874 Grad: 74888.4141 LR: 4.3501e-05 | Elapse: 19.95s\n",
      "Epoch 9 [450/495] | Train Loss: 1.0838 Grad: 50140.1406 LR: 4.2338e-05 | Elapse: 22.45s\n",
      "Epoch 9 [494/495] | Train Loss: 1.0835 Grad: 52020.8359 LR: 4.1318e-05 | Elapse: 24.63s\n"
     ]
    },
    {
     "data": {
      "application/vnd.jupyter.widget-view+json": {
       "model_id": "4aad7504ff3e4379acc0c418024bec7f",
       "version_major": 2,
       "version_minor": 0
      },
      "text/plain": [
       "Valid [8]:   0%|          | 0/136 [00:00<?, ?batch/s]"
      ]
     },
     "metadata": {},
     "output_type": "display_data"
    },
    {
     "name": "stdout",
     "output_type": "stream",
     "text": [
      "Epoch 9 [0/136] | Valid Loss: 1.1651 | Elapse: 0.05s\n",
      "Epoch 9 [50/136] | Valid Loss: 1.1153 | Elapse: 2.18s\n",
      "Epoch 9 [100/136] | Valid Loss: 1.1199 | Elapse: 4.31s\n"
     ]
    },
    {
     "name": "stderr",
     "output_type": "stream",
     "text": [
      "----------------------------------------------------------------------------------------------------\n",
      "Epoch 9 - Average Loss: (train) 1.0835; (valid) 1.1154 | Time: 30.42s\n",
      "Best model found in epoch 9 | valid loss: 1.1154\n"
     ]
    },
    {
     "name": "stdout",
     "output_type": "stream",
     "text": [
      "Epoch 9 [135/136] | Valid Loss: 1.1154 | Elapse: 5.79s\n"
     ]
    },
    {
     "data": {
      "application/vnd.jupyter.widget-view+json": {
       "model_id": "ba01f05ffe8244fc8f588874dd2bffcc",
       "version_major": 2,
       "version_minor": 0
      },
      "text/plain": [
       "Train [9]:   0%|          | 0/495 [00:00<?, ?batch/s]"
      ]
     },
     "metadata": {},
     "output_type": "display_data"
    },
    {
     "name": "stdout",
     "output_type": "stream",
     "text": [
      "Epoch 10 [0/495] | Train Loss: 0.9958 Grad: 117185.4609 LR: 4.1295e-05 | Elapse: 0.05s\n",
      "Epoch 10 [50/495] | Train Loss: 1.0799 Grad: 53296.8828 LR: 4.0141e-05 | Elapse: 2.52s\n",
      "Epoch 10 [100/495] | Train Loss: 1.0712 Grad: 55473.3047 LR: 3.8992e-05 | Elapse: 5.01s\n",
      "Epoch 10 [150/495] | Train Loss: 1.0756 Grad: 48101.4648 LR: 3.7849e-05 | Elapse: 7.50s\n",
      "Epoch 10 [200/495] | Train Loss: 1.0768 Grad: 60200.2812 LR: 3.6713e-05 | Elapse: 10.01s\n",
      "Epoch 10 [250/495] | Train Loss: 1.0775 Grad: 57052.9180 LR: 3.5584e-05 | Elapse: 12.49s\n",
      "Epoch 10 [300/495] | Train Loss: 1.0814 Grad: 58464.5625 LR: 3.4464e-05 | Elapse: 14.99s\n",
      "Epoch 10 [350/495] | Train Loss: 1.0806 Grad: 55845.7148 LR: 3.3352e-05 | Elapse: 17.51s\n",
      "Epoch 10 [400/495] | Train Loss: 1.0809 Grad: 80434.5547 LR: 3.2249e-05 | Elapse: 20.00s\n",
      "Epoch 10 [450/495] | Train Loss: 1.0772 Grad: 48839.4375 LR: 3.1156e-05 | Elapse: 22.48s\n",
      "Epoch 10 [494/495] | Train Loss: 1.0761 Grad: 51301.5312 LR: 3.0202e-05 | Elapse: 24.68s\n"
     ]
    },
    {
     "data": {
      "application/vnd.jupyter.widget-view+json": {
       "model_id": "bcbb0cf6b32140269e9f4250d95f4450",
       "version_major": 2,
       "version_minor": 0
      },
      "text/plain": [
       "Valid [9]:   0%|          | 0/136 [00:00<?, ?batch/s]"
      ]
     },
     "metadata": {},
     "output_type": "display_data"
    },
    {
     "name": "stdout",
     "output_type": "stream",
     "text": [
      "Epoch 10 [0/136] | Valid Loss: 1.1535 | Elapse: 0.05s\n",
      "Epoch 10 [50/136] | Valid Loss: 1.1108 | Elapse: 2.18s\n",
      "Epoch 10 [100/136] | Valid Loss: 1.1157 | Elapse: 4.30s\n"
     ]
    },
    {
     "name": "stderr",
     "output_type": "stream",
     "text": [
      "----------------------------------------------------------------------------------------------------\n",
      "Epoch 10 - Average Loss: (train) 1.0761; (valid) 1.1114 | Time: 30.45s\n",
      "Best model found in epoch 10 | valid loss: 1.1114\n"
     ]
    },
    {
     "name": "stdout",
     "output_type": "stream",
     "text": [
      "Epoch 10 [135/136] | Valid Loss: 1.1114 | Elapse: 5.77s\n"
     ]
    },
    {
     "data": {
      "application/vnd.jupyter.widget-view+json": {
       "model_id": "f40102e6ecbb42d3ac5e1f26394753c9",
       "version_major": 2,
       "version_minor": 0
      },
      "text/plain": [
       "Train [10]:   0%|          | 0/495 [00:00<?, ?batch/s]"
      ]
     },
     "metadata": {},
     "output_type": "display_data"
    },
    {
     "name": "stdout",
     "output_type": "stream",
     "text": [
      "Epoch 11 [0/495] | Train Loss: 0.9795 Grad: 113000.5234 LR: 3.0181e-05 | Elapse: 0.05s\n",
      "Epoch 11 [50/495] | Train Loss: 1.0739 Grad: 55976.3789 LR: 2.9108e-05 | Elapse: 2.55s\n",
      "Epoch 11 [100/495] | Train Loss: 1.0674 Grad: 54551.9023 LR: 2.8047e-05 | Elapse: 5.04s\n",
      "Epoch 11 [150/495] | Train Loss: 1.0714 Grad: 47630.4688 LR: 2.6998e-05 | Elapse: 7.53s\n",
      "Epoch 11 [200/495] | Train Loss: 1.0736 Grad: 56681.9453 LR: 2.5962e-05 | Elapse: 10.01s\n",
      "Epoch 11 [250/495] | Train Loss: 1.0732 Grad: 55797.3359 LR: 2.4938e-05 | Elapse: 12.48s\n",
      "Epoch 11 [300/495] | Train Loss: 1.0774 Grad: 58567.9844 LR: 2.3929e-05 | Elapse: 14.97s\n",
      "Epoch 11 [350/495] | Train Loss: 1.0762 Grad: 58066.5430 LR: 2.2935e-05 | Elapse: 17.46s\n",
      "Epoch 11 [400/495] | Train Loss: 1.0764 Grad: 69968.2422 LR: 2.1955e-05 | Elapse: 19.93s\n",
      "Epoch 11 [450/495] | Train Loss: 1.0730 Grad: 51705.5508 LR: 2.0990e-05 | Elapse: 22.40s\n",
      "Epoch 11 [494/495] | Train Loss: 1.0718 Grad: 51615.3750 LR: 2.0155e-05 | Elapse: 24.58s\n"
     ]
    },
    {
     "data": {
      "application/vnd.jupyter.widget-view+json": {
       "model_id": "30c4cbbc60c2427cbe3132b5459f244b",
       "version_major": 2,
       "version_minor": 0
      },
      "text/plain": [
       "Valid [10]:   0%|          | 0/136 [00:00<?, ?batch/s]"
      ]
     },
     "metadata": {},
     "output_type": "display_data"
    },
    {
     "name": "stdout",
     "output_type": "stream",
     "text": [
      "Epoch 11 [0/136] | Valid Loss: 1.1519 | Elapse: 0.05s\n",
      "Epoch 11 [50/136] | Valid Loss: 1.1081 | Elapse: 2.18s\n",
      "Epoch 11 [100/136] | Valid Loss: 1.1133 | Elapse: 4.30s\n"
     ]
    },
    {
     "name": "stderr",
     "output_type": "stream",
     "text": [
      "----------------------------------------------------------------------------------------------------\n",
      "Epoch 11 - Average Loss: (train) 1.0718; (valid) 1.1091 | Time: 30.35s\n",
      "Best model found in epoch 11 | valid loss: 1.1091\n"
     ]
    },
    {
     "name": "stdout",
     "output_type": "stream",
     "text": [
      "Epoch 11 [135/136] | Valid Loss: 1.1091 | Elapse: 5.78s\n"
     ]
    },
    {
     "data": {
      "application/vnd.jupyter.widget-view+json": {
       "model_id": "5d6731ae01424bb6ae5b593088c410e0",
       "version_major": 2,
       "version_minor": 0
      },
      "text/plain": [
       "Train [11]:   0%|          | 0/495 [00:00<?, ?batch/s]"
      ]
     },
     "metadata": {},
     "output_type": "display_data"
    },
    {
     "name": "stdout",
     "output_type": "stream",
     "text": [
      "Epoch 12 [0/495] | Train Loss: 0.9891 Grad: 113000.4766 LR: 2.0136e-05 | Elapse: 0.05s\n",
      "Epoch 12 [50/495] | Train Loss: 1.0674 Grad: 57615.0078 LR: 1.9203e-05 | Elapse: 2.52s\n",
      "Epoch 12 [100/495] | Train Loss: 1.0613 Grad: 49530.4609 LR: 1.8287e-05 | Elapse: 5.01s\n",
      "Epoch 12 [150/495] | Train Loss: 1.0680 Grad: 49262.2031 LR: 1.7388e-05 | Elapse: 7.50s\n",
      "Epoch 12 [200/495] | Train Loss: 1.0720 Grad: 57130.9492 LR: 1.6507e-05 | Elapse: 9.99s\n",
      "Epoch 12 [250/495] | Train Loss: 1.0726 Grad: 59693.7852 LR: 1.5645e-05 | Elapse: 12.52s\n",
      "Epoch 12 [300/495] | Train Loss: 1.0761 Grad: 58212.4453 LR: 1.4802e-05 | Elapse: 15.03s\n",
      "Epoch 12 [350/495] | Train Loss: 1.0765 Grad: 55669.8906 LR: 1.3978e-05 | Elapse: 17.55s\n",
      "Epoch 12 [400/495] | Train Loss: 1.0770 Grad: 74440.8125 LR: 1.3174e-05 | Elapse: 20.04s\n",
      "Epoch 12 [450/495] | Train Loss: 1.0733 Grad: 47182.6914 LR: 1.2390e-05 | Elapse: 22.57s\n",
      "Epoch 12 [494/495] | Train Loss: 1.0722 Grad: 50950.8750 LR: 1.1718e-05 | Elapse: 24.77s\n"
     ]
    },
    {
     "data": {
      "application/vnd.jupyter.widget-view+json": {
       "model_id": "5fbd33dd32de4430912a888d938d99b6",
       "version_major": 2,
       "version_minor": 0
      },
      "text/plain": [
       "Valid [11]:   0%|          | 0/136 [00:00<?, ?batch/s]"
      ]
     },
     "metadata": {},
     "output_type": "display_data"
    },
    {
     "name": "stdout",
     "output_type": "stream",
     "text": [
      "Epoch 12 [0/136] | Valid Loss: 1.1479 | Elapse: 0.05s\n",
      "Epoch 12 [50/136] | Valid Loss: 1.1064 | Elapse: 2.18s\n",
      "Epoch 12 [100/136] | Valid Loss: 1.1118 | Elapse: 4.32s\n"
     ]
    },
    {
     "name": "stderr",
     "output_type": "stream",
     "text": [
      "----------------------------------------------------------------------------------------------------\n",
      "Epoch 12 - Average Loss: (train) 1.0722; (valid) 1.1077 | Time: 30.58s\n",
      "Best model found in epoch 12 | valid loss: 1.1077\n"
     ]
    },
    {
     "name": "stdout",
     "output_type": "stream",
     "text": [
      "Epoch 12 [135/136] | Valid Loss: 1.1077 | Elapse: 5.81s\n"
     ]
    },
    {
     "data": {
      "application/vnd.jupyter.widget-view+json": {
       "model_id": "375967d8e51a414a83a545fc27f070b4",
       "version_major": 2,
       "version_minor": 0
      },
      "text/plain": [
       "Train [12]:   0%|          | 0/495 [00:00<?, ?batch/s]"
      ]
     },
     "metadata": {},
     "output_type": "display_data"
    },
    {
     "name": "stdout",
     "output_type": "stream",
     "text": [
      "Epoch 13 [0/495] | Train Loss: 0.9341 Grad: 115448.5859 LR: 1.1703e-05 | Elapse: 0.06s\n",
      "Epoch 13 [50/495] | Train Loss: 1.0613 Grad: 107865.4688 LR: 1.0959e-05 | Elapse: 2.56s\n",
      "Epoch 13 [100/495] | Train Loss: 1.0543 Grad: 108582.6562 LR: 1.0237e-05 | Elapse: 5.06s\n",
      "Epoch 13 [150/495] | Train Loss: 1.0584 Grad: 103061.1094 LR: 9.5370e-06 | Elapse: 7.53s\n",
      "Epoch 13 [200/495] | Train Loss: 1.0608 Grad: 110919.7656 LR: 8.8593e-06 | Elapse: 9.99s\n",
      "Epoch 13 [250/495] | Train Loss: 1.0636 Grad: 126678.2734 LR: 8.2043e-06 | Elapse: 12.45s\n",
      "Epoch 13 [300/495] | Train Loss: 1.0690 Grad: 122642.0234 LR: 7.5724e-06 | Elapse: 14.92s\n",
      "Epoch 13 [350/495] | Train Loss: 1.0695 Grad: 118929.4844 LR: 6.9640e-06 | Elapse: 17.38s\n",
      "Epoch 13 [400/495] | Train Loss: 1.0698 Grad: 161132.9375 LR: 6.3793e-06 | Elapse: 19.86s\n",
      "Epoch 13 [450/495] | Train Loss: 1.0675 Grad: 104729.3594 LR: 5.8188e-06 | Elapse: 22.34s\n",
      "Epoch 13 [494/495] | Train Loss: 1.0673 Grad: 105226.7812 LR: 5.3457e-06 | Elapse: 24.53s\n"
     ]
    },
    {
     "data": {
      "application/vnd.jupyter.widget-view+json": {
       "model_id": "68eb58e480054f4e83bf7fd9ea488439",
       "version_major": 2,
       "version_minor": 0
      },
      "text/plain": [
       "Valid [12]:   0%|          | 0/136 [00:00<?, ?batch/s]"
      ]
     },
     "metadata": {},
     "output_type": "display_data"
    },
    {
     "name": "stdout",
     "output_type": "stream",
     "text": [
      "Epoch 13 [0/136] | Valid Loss: 1.1473 | Elapse: 0.05s\n",
      "Epoch 13 [50/136] | Valid Loss: 1.1052 | Elapse: 2.18s\n",
      "Epoch 13 [100/136] | Valid Loss: 1.1106 | Elapse: 4.30s\n"
     ]
    },
    {
     "name": "stderr",
     "output_type": "stream",
     "text": [
      "----------------------------------------------------------------------------------------------------\n",
      "Epoch 13 - Average Loss: (train) 1.0673; (valid) 1.1067 | Time: 30.31s\n",
      "Best model found in epoch 13 | valid loss: 1.1067\n"
     ]
    },
    {
     "name": "stdout",
     "output_type": "stream",
     "text": [
      "Epoch 13 [135/136] | Valid Loss: 1.1067 | Elapse: 5.78s\n"
     ]
    },
    {
     "data": {
      "application/vnd.jupyter.widget-view+json": {
       "model_id": "09a392fb243a440eac70f87f4096ba32",
       "version_major": 2,
       "version_minor": 0
      },
      "text/plain": [
       "Train [13]:   0%|          | 0/495 [00:00<?, ?batch/s]"
      ]
     },
     "metadata": {},
     "output_type": "display_data"
    },
    {
     "name": "stdout",
     "output_type": "stream",
     "text": [
      "Epoch 14 [0/495] | Train Loss: 0.9219 Grad: 113007.4844 LR: 5.3352e-06 | Elapse: 0.05s\n",
      "Epoch 14 [50/495] | Train Loss: 1.0687 Grad: 55429.1641 LR: 4.8213e-06 | Elapse: 2.53s\n",
      "Epoch 14 [100/495] | Train Loss: 1.0635 Grad: 55781.9492 LR: 4.3324e-06 | Elapse: 5.01s\n",
      "Epoch 14 [150/495] | Train Loss: 1.0676 Grad: 52495.0625 LR: 3.8687e-06 | Elapse: 7.49s\n",
      "Epoch 14 [200/495] | Train Loss: 1.0675 Grad: 56302.7852 LR: 3.4305e-06 | Elapse: 9.97s\n",
      "Epoch 14 [250/495] | Train Loss: 1.0679 Grad: 58440.1562 LR: 3.0181e-06 | Elapse: 12.48s\n",
      "Epoch 14 [300/495] | Train Loss: 1.0733 Grad: 52817.3203 LR: 2.6316e-06 | Elapse: 14.97s\n",
      "Epoch 14 [350/495] | Train Loss: 1.0723 Grad: 57121.8477 LR: 2.2714e-06 | Elapse: 17.45s\n",
      "Epoch 14 [400/495] | Train Loss: 1.0729 Grad: 74969.5469 LR: 1.9375e-06 | Elapse: 19.94s\n",
      "Epoch 14 [450/495] | Train Loss: 1.0705 Grad: 48064.3047 LR: 1.6301e-06 | Elapse: 22.42s\n",
      "Epoch 14 [494/495] | Train Loss: 1.0704 Grad: 56530.2109 LR: 1.3818e-06 | Elapse: 24.61s\n"
     ]
    },
    {
     "data": {
      "application/vnd.jupyter.widget-view+json": {
       "model_id": "5b1f15bcc4e14e3cac055ddcd8b99a71",
       "version_major": 2,
       "version_minor": 0
      },
      "text/plain": [
       "Valid [13]:   0%|          | 0/136 [00:00<?, ?batch/s]"
      ]
     },
     "metadata": {},
     "output_type": "display_data"
    },
    {
     "name": "stdout",
     "output_type": "stream",
     "text": [
      "Epoch 14 [0/136] | Valid Loss: 1.1490 | Elapse: 0.05s\n",
      "Epoch 14 [50/136] | Valid Loss: 1.1046 | Elapse: 2.18s\n",
      "Epoch 14 [100/136] | Valid Loss: 1.1100 | Elapse: 4.31s\n"
     ]
    },
    {
     "name": "stderr",
     "output_type": "stream",
     "text": [
      "----------------------------------------------------------------------------------------------------\n",
      "Epoch 14 - Average Loss: (train) 1.0704; (valid) 1.1062 | Time: 30.39s\n",
      "Best model found in epoch 14 | valid loss: 1.1062\n"
     ]
    },
    {
     "name": "stdout",
     "output_type": "stream",
     "text": [
      "Epoch 14 [135/136] | Valid Loss: 1.1062 | Elapse: 5.78s\n"
     ]
    },
    {
     "data": {
      "application/vnd.jupyter.widget-view+json": {
       "model_id": "302426d541934aaabb975ee38df9074e",
       "version_major": 2,
       "version_minor": 0
      },
      "text/plain": [
       "Train [14]:   0%|          | 0/495 [00:00<?, ?batch/s]"
      ]
     },
     "metadata": {},
     "output_type": "display_data"
    },
    {
     "name": "stdout",
     "output_type": "stream",
     "text": [
      "Epoch 15 [0/495] | Train Loss: 0.9139 Grad: 112157.3828 LR: 1.3764e-06 | Elapse: 0.05s\n",
      "Epoch 15 [50/495] | Train Loss: 1.0590 Grad: 56282.4258 LR: 1.1200e-06 | Elapse: 2.53s\n",
      "Epoch 15 [100/495] | Train Loss: 1.0572 Grad: 51883.0078 LR: 8.9062e-07 | Elapse: 5.05s\n",
      "Epoch 15 [150/495] | Train Loss: 1.0615 Grad: 52397.4023 LR: 6.8839e-07 | Elapse: 7.53s\n",
      "Epoch 15 [200/495] | Train Loss: 1.0645 Grad: 53112.2148 LR: 5.1341e-07 | Elapse: 10.01s\n",
      "Epoch 15 [250/495] | Train Loss: 1.0654 Grad: 55168.7109 LR: 3.6578e-07 | Elapse: 12.53s\n",
      "Epoch 15 [300/495] | Train Loss: 1.0705 Grad: 55716.5273 LR: 2.4559e-07 | Elapse: 15.04s\n",
      "Epoch 15 [350/495] | Train Loss: 1.0700 Grad: 61483.0078 LR: 1.5290e-07 | Elapse: 17.52s\n",
      "Epoch 15 [400/495] | Train Loss: 1.0699 Grad: 72299.1250 LR: 8.7762e-08 | Elapse: 20.01s\n",
      "Epoch 15 [450/495] | Train Loss: 1.0676 Grad: 44870.8828 LR: 5.0212e-08 | Elapse: 22.49s\n",
      "Epoch 15 [494/495] | Train Loss: 1.0668 Grad: 52264.2070 LR: 4.0006e-08 | Elapse: 24.70s\n"
     ]
    },
    {
     "data": {
      "application/vnd.jupyter.widget-view+json": {
       "model_id": "2da1c4c2501247ddb10ecc858c1a5d53",
       "version_major": 2,
       "version_minor": 0
      },
      "text/plain": [
       "Valid [14]:   0%|          | 0/136 [00:00<?, ?batch/s]"
      ]
     },
     "metadata": {},
     "output_type": "display_data"
    },
    {
     "name": "stdout",
     "output_type": "stream",
     "text": [
      "Epoch 15 [0/136] | Valid Loss: 1.1499 | Elapse: 0.05s\n",
      "Epoch 15 [50/136] | Valid Loss: 1.1045 | Elapse: 2.18s\n",
      "Epoch 15 [100/136] | Valid Loss: 1.1099 | Elapse: 4.30s\n"
     ]
    },
    {
     "name": "stderr",
     "output_type": "stream",
     "text": [
      "----------------------------------------------------------------------------------------------------\n",
      "Epoch 15 - Average Loss: (train) 1.0668; (valid) 1.1060 | Time: 30.48s\n",
      "Best model found in epoch 15 | valid loss: 1.1060\n",
      "====================================================================================================\n",
      "Fold 4 Valid Loss: 1.106027364730835\n",
      "Elapse: 7.61 min \n",
      "====================================================================================================\n"
     ]
    },
    {
     "name": "stdout",
     "output_type": "stream",
     "text": [
      "Epoch 15 [135/136] | Valid Loss: 1.1060 | Elapse: 5.78s\n"
     ]
    },
    {
     "name": "stderr",
     "output_type": "stream",
     "text": [
      "- Second Stage -\n",
      "Use Checkpoint: PatchTSMixer_fold_4_stage_1.pth\n"
     ]
    },
    {
     "data": {
      "application/vnd.jupyter.widget-view+json": {
       "model_id": "9b51bc4e374448b4924d0a5cecd59714",
       "version_major": 2,
       "version_minor": 0
      },
      "text/plain": [
       "Train [0]:   0%|          | 0/193 [00:00<?, ?batch/s]"
      ]
     },
     "metadata": {},
     "output_type": "display_data"
    },
    {
     "name": "stdout",
     "output_type": "stream",
     "text": [
      "Epoch 1 [0/193] | Train Loss: 0.6046 Grad: 72908.0000 LR: 4.0028e-06 | Elapse: 0.05s\n",
      "Epoch 1 [50/193] | Train Loss: 0.7328 Grad: 82011.7031 LR: 1.1214e-05 | Elapse: 2.56s\n",
      "Epoch 1 [100/193] | Train Loss: 0.7284 Grad: 88132.5391 LR: 3.0220e-05 | Elapse: 5.08s\n",
      "Epoch 1 [150/193] | Train Loss: 0.7298 Grad: 64462.5234 LR: 5.5525e-05 | Elapse: 7.51s\n",
      "Epoch 1 [192/193] | Train Loss: 0.7216 Grad: 66056.4375 LR: 7.6301e-05 | Elapse: 9.57s\n"
     ]
    },
    {
     "data": {
      "application/vnd.jupyter.widget-view+json": {
       "model_id": "16aeb5263f3c4ad2a55167fc6157b081",
       "version_major": 2,
       "version_minor": 0
      },
      "text/plain": [
       "Valid [0]:   0%|          | 0/136 [00:00<?, ?batch/s]"
      ]
     },
     "metadata": {},
     "output_type": "display_data"
    },
    {
     "name": "stdout",
     "output_type": "stream",
     "text": [
      "Epoch 1 [0/136] | Valid Loss: 1.3561 | Elapse: 0.05s\n",
      "Epoch 1 [50/136] | Valid Loss: 1.1333 | Elapse: 2.19s\n",
      "Epoch 1 [100/136] | Valid Loss: 1.1407 | Elapse: 4.33s\n"
     ]
    },
    {
     "name": "stderr",
     "output_type": "stream",
     "text": [
      "----------------------------------------------------------------------------------------------------\n",
      "Epoch 1 - Average Loss: (train) 0.7216; (valid) 1.1373 | Time: 15.38s\n",
      "Best model found in epoch 1 | valid loss: 1.1373\n"
     ]
    },
    {
     "name": "stdout",
     "output_type": "stream",
     "text": [
      "Epoch 1 [135/136] | Valid Loss: 1.1373 | Elapse: 5.81s\n"
     ]
    },
    {
     "data": {
      "application/vnd.jupyter.widget-view+json": {
       "model_id": "fa1d7cd5d66042af89ed1dc70ea84593",
       "version_major": 2,
       "version_minor": 0
      },
      "text/plain": [
       "Train [1]:   0%|          | 0/193 [00:00<?, ?batch/s]"
      ]
     },
     "metadata": {},
     "output_type": "display_data"
    },
    {
     "name": "stdout",
     "output_type": "stream",
     "text": [
      "Epoch 2 [0/193] | Train Loss: 0.5764 Grad: 53289.4766 LR: 7.6750e-05 | Elapse: 0.06s\n",
      "Epoch 2 [50/193] | Train Loss: 0.6839 Grad: 87079.7031 LR: 9.4474e-05 | Elapse: 2.56s\n",
      "Epoch 2 [100/193] | Train Loss: 0.6867 Grad: 79254.9922 LR: 9.9999e-05 | Elapse: 5.09s\n",
      "Epoch 2 [150/193] | Train Loss: 0.6940 Grad: 69575.0469 LR: 9.9888e-05 | Elapse: 7.57s\n",
      "Epoch 2 [192/193] | Train Loss: 0.6895 Grad: 66882.1406 LR: 9.9655e-05 | Elapse: 9.64s\n"
     ]
    },
    {
     "data": {
      "application/vnd.jupyter.widget-view+json": {
       "model_id": "45f8302411454a0aa893d552588ecaa1",
       "version_major": 2,
       "version_minor": 0
      },
      "text/plain": [
       "Valid [1]:   0%|          | 0/136 [00:00<?, ?batch/s]"
      ]
     },
     "metadata": {},
     "output_type": "display_data"
    },
    {
     "name": "stdout",
     "output_type": "stream",
     "text": [
      "Epoch 2 [0/136] | Valid Loss: 1.4158 | Elapse: 0.05s\n",
      "Epoch 2 [50/136] | Valid Loss: 1.1534 | Elapse: 2.25s\n",
      "Epoch 2 [100/136] | Valid Loss: 1.1609 | Elapse: 4.39s\n"
     ]
    },
    {
     "name": "stderr",
     "output_type": "stream",
     "text": [
      "----------------------------------------------------------------------------------------------------\n",
      "Epoch 2 - Average Loss: (train) 0.6895; (valid) 1.1578 | Time: 15.51s\n"
     ]
    },
    {
     "name": "stdout",
     "output_type": "stream",
     "text": [
      "Epoch 2 [135/136] | Valid Loss: 1.1578 | Elapse: 5.87s\n"
     ]
    },
    {
     "data": {
      "application/vnd.jupyter.widget-view+json": {
       "model_id": "bcebd6d0675d4a63b3e736d9d725828e",
       "version_major": 2,
       "version_minor": 0
      },
      "text/plain": [
       "Train [2]:   0%|          | 0/193 [00:00<?, ?batch/s]"
      ]
     },
     "metadata": {},
     "output_type": "display_data"
    },
    {
     "name": "stdout",
     "output_type": "stream",
     "text": [
      "Epoch 3 [0/193] | Train Loss: 0.5988 Grad: 55533.2578 LR: 9.9648e-05 | Elapse: 0.05s\n",
      "Epoch 3 [50/193] | Train Loss: 0.6786 Grad: 85606.9922 LR: 9.9201e-05 | Elapse: 2.56s\n",
      "Epoch 3 [100/193] | Train Loss: 0.6801 Grad: 74237.2656 LR: 9.8575e-05 | Elapse: 5.06s\n",
      "Epoch 3 [150/193] | Train Loss: 0.6858 Grad: 64216.8945 LR: 9.7773e-05 | Elapse: 7.57s\n",
      "Epoch 3 [192/193] | Train Loss: 0.6821 Grad: 64485.4570 LR: 9.6965e-05 | Elapse: 9.67s\n"
     ]
    },
    {
     "data": {
      "application/vnd.jupyter.widget-view+json": {
       "model_id": "9e4d68734163474488990d5a4e67321d",
       "version_major": 2,
       "version_minor": 0
      },
      "text/plain": [
       "Valid [2]:   0%|          | 0/136 [00:00<?, ?batch/s]"
      ]
     },
     "metadata": {},
     "output_type": "display_data"
    },
    {
     "name": "stdout",
     "output_type": "stream",
     "text": [
      "Epoch 3 [0/136] | Valid Loss: 1.4325 | Elapse: 0.05s\n",
      "Epoch 3 [50/136] | Valid Loss: 1.1594 | Elapse: 2.19s\n",
      "Epoch 3 [100/136] | Valid Loss: 1.1661 | Elapse: 4.32s\n"
     ]
    },
    {
     "name": "stderr",
     "output_type": "stream",
     "text": [
      "----------------------------------------------------------------------------------------------------\n",
      "Epoch 3 - Average Loss: (train) 0.6821; (valid) 1.1629 | Time: 15.47s\n"
     ]
    },
    {
     "name": "stdout",
     "output_type": "stream",
     "text": [
      "Epoch 3 [135/136] | Valid Loss: 1.1629 | Elapse: 5.80s\n"
     ]
    },
    {
     "data": {
      "application/vnd.jupyter.widget-view+json": {
       "model_id": "95297b68038b49b987e03c5d3e7261b3",
       "version_major": 2,
       "version_minor": 0
      },
      "text/plain": [
       "Train [3]:   0%|          | 0/193 [00:00<?, ?batch/s]"
      ]
     },
     "metadata": {},
     "output_type": "display_data"
    },
    {
     "name": "stdout",
     "output_type": "stream",
     "text": [
      "Epoch 4 [0/193] | Train Loss: 0.5933 Grad: 54813.2109 LR: 9.6944e-05 | Elapse: 0.05s\n",
      "Epoch 4 [50/193] | Train Loss: 0.6761 Grad: 73898.9922 LR: 9.5822e-05 | Elapse: 2.57s\n",
      "Epoch 4 [100/193] | Train Loss: 0.6777 Grad: 77012.4922 LR: 9.4534e-05 | Elapse: 5.08s\n",
      "Epoch 4 [150/193] | Train Loss: 0.6831 Grad: 62506.1953 LR: 9.3084e-05 | Elapse: 7.56s\n",
      "Epoch 4 [192/193] | Train Loss: 0.6802 Grad: 65494.9375 LR: 9.1745e-05 | Elapse: 9.68s\n"
     ]
    },
    {
     "data": {
      "application/vnd.jupyter.widget-view+json": {
       "model_id": "59ce67b618714ba0b1883e7712f1f885",
       "version_major": 2,
       "version_minor": 0
      },
      "text/plain": [
       "Valid [3]:   0%|          | 0/136 [00:00<?, ?batch/s]"
      ]
     },
     "metadata": {},
     "output_type": "display_data"
    },
    {
     "name": "stdout",
     "output_type": "stream",
     "text": [
      "Epoch 4 [0/136] | Valid Loss: 1.4334 | Elapse: 0.05s\n",
      "Epoch 4 [50/136] | Valid Loss: 1.1600 | Elapse: 2.19s\n",
      "Epoch 4 [100/136] | Valid Loss: 1.1667 | Elapse: 4.32s\n"
     ]
    },
    {
     "name": "stderr",
     "output_type": "stream",
     "text": [
      "----------------------------------------------------------------------------------------------------\n",
      "Epoch 4 - Average Loss: (train) 0.6802; (valid) 1.1635 | Time: 15.48s\n"
     ]
    },
    {
     "name": "stdout",
     "output_type": "stream",
     "text": [
      "Epoch 4 [135/136] | Valid Loss: 1.1635 | Elapse: 5.79s\n"
     ]
    },
    {
     "data": {
      "application/vnd.jupyter.widget-view+json": {
       "model_id": "a73f1c530d044c73b44d3430e9450b89",
       "version_major": 2,
       "version_minor": 0
      },
      "text/plain": [
       "Train [4]:   0%|          | 0/193 [00:00<?, ?batch/s]"
      ]
     },
     "metadata": {},
     "output_type": "display_data"
    },
    {
     "name": "stdout",
     "output_type": "stream",
     "text": [
      "Epoch 5 [0/193] | Train Loss: 0.6019 Grad: 54359.8008 LR: 9.1711e-05 | Elapse: 0.05s\n",
      "Epoch 5 [50/193] | Train Loss: 0.6720 Grad: 71793.5781 LR: 8.9975e-05 | Elapse: 2.55s\n",
      "Epoch 5 [100/193] | Train Loss: 0.6750 Grad: 75638.8516 LR: 8.8093e-05 | Elapse: 5.04s\n",
      "Epoch 5 [150/193] | Train Loss: 0.6811 Grad: 62903.1523 LR: 8.6073e-05 | Elapse: 7.53s\n",
      "Epoch 5 [192/193] | Train Loss: 0.6775 Grad: 67380.8594 LR: 8.4274e-05 | Elapse: 9.63s\n"
     ]
    },
    {
     "data": {
      "application/vnd.jupyter.widget-view+json": {
       "model_id": "8e6b80a690254c10864c47cf5ff24533",
       "version_major": 2,
       "version_minor": 0
      },
      "text/plain": [
       "Valid [4]:   0%|          | 0/136 [00:00<?, ?batch/s]"
      ]
     },
     "metadata": {},
     "output_type": "display_data"
    },
    {
     "name": "stdout",
     "output_type": "stream",
     "text": [
      "Epoch 5 [0/136] | Valid Loss: 1.4305 | Elapse: 0.05s\n",
      "Epoch 5 [50/136] | Valid Loss: 1.1589 | Elapse: 2.19s\n",
      "Epoch 5 [100/136] | Valid Loss: 1.1657 | Elapse: 4.32s\n"
     ]
    },
    {
     "name": "stderr",
     "output_type": "stream",
     "text": [
      "----------------------------------------------------------------------------------------------------\n",
      "Epoch 5 - Average Loss: (train) 0.6775; (valid) 1.1626 | Time: 15.43s\n"
     ]
    },
    {
     "name": "stdout",
     "output_type": "stream",
     "text": [
      "Epoch 5 [135/136] | Valid Loss: 1.1626 | Elapse: 5.80s\n"
     ]
    },
    {
     "data": {
      "application/vnd.jupyter.widget-view+json": {
       "model_id": "e9cff7d96c994ff7a7d8d1b511db7301",
       "version_major": 2,
       "version_minor": 0
      },
      "text/plain": [
       "Train [5]:   0%|          | 0/193 [00:00<?, ?batch/s]"
      ]
     },
     "metadata": {},
     "output_type": "display_data"
    },
    {
     "name": "stdout",
     "output_type": "stream",
     "text": [
      "Epoch 6 [0/193] | Train Loss: 0.5940 Grad: 57855.1758 LR: 8.4231e-05 | Elapse: 0.05s\n",
      "Epoch 6 [50/193] | Train Loss: 0.6671 Grad: 71153.9375 LR: 8.1973e-05 | Elapse: 2.56s\n",
      "Epoch 6 [100/193] | Train Loss: 0.6711 Grad: 71262.6250 LR: 7.9599e-05 | Elapse: 5.03s\n",
      "Epoch 6 [150/193] | Train Loss: 0.6758 Grad: 62937.7930 LR: 7.7118e-05 | Elapse: 7.53s\n",
      "Epoch 6 [192/193] | Train Loss: 0.6737 Grad: 66673.3438 LR: 7.4958e-05 | Elapse: 9.63s\n"
     ]
    },
    {
     "data": {
      "application/vnd.jupyter.widget-view+json": {
       "model_id": "3173fea6a8ae47c48a3754ddb8f3477f",
       "version_major": 2,
       "version_minor": 0
      },
      "text/plain": [
       "Valid [5]:   0%|          | 0/136 [00:00<?, ?batch/s]"
      ]
     },
     "metadata": {},
     "output_type": "display_data"
    },
    {
     "name": "stdout",
     "output_type": "stream",
     "text": [
      "Epoch 6 [0/136] | Valid Loss: 1.4191 | Elapse: 0.05s\n",
      "Epoch 6 [50/136] | Valid Loss: 1.1552 | Elapse: 2.26s\n",
      "Epoch 6 [100/136] | Valid Loss: 1.1614 | Elapse: 4.38s\n"
     ]
    },
    {
     "name": "stderr",
     "output_type": "stream",
     "text": [
      "----------------------------------------------------------------------------------------------------\n",
      "Epoch 6 - Average Loss: (train) 0.6737; (valid) 1.1583 | Time: 15.48s\n"
     ]
    },
    {
     "name": "stdout",
     "output_type": "stream",
     "text": [
      "Epoch 6 [135/136] | Valid Loss: 1.1583 | Elapse: 5.85s\n"
     ]
    },
    {
     "data": {
      "application/vnd.jupyter.widget-view+json": {
       "model_id": "31416799eb8941819d4d74bc1df337f2",
       "version_major": 2,
       "version_minor": 0
      },
      "text/plain": [
       "Train [6]:   0%|          | 0/193 [00:00<?, ?batch/s]"
      ]
     },
     "metadata": {},
     "output_type": "display_data"
    },
    {
     "name": "stdout",
     "output_type": "stream",
     "text": [
      "Epoch 7 [0/193] | Train Loss: 0.5989 Grad: 53636.4023 LR: 7.4906e-05 | Elapse: 0.05s\n",
      "Epoch 7 [50/193] | Train Loss: 0.6665 Grad: 74595.9688 LR: 7.2249e-05 | Elapse: 2.55s\n",
      "Epoch 7 [100/193] | Train Loss: 0.6683 Grad: 76341.1953 LR: 6.9511e-05 | Elapse: 5.05s\n",
      "Epoch 7 [150/193] | Train Loss: 0.6747 Grad: 64910.6289 LR: 6.6703e-05 | Elapse: 7.58s\n",
      "Epoch 7 [192/193] | Train Loss: 0.6725 Grad: 65933.8125 LR: 6.4297e-05 | Elapse: 9.72s\n"
     ]
    },
    {
     "data": {
      "application/vnd.jupyter.widget-view+json": {
       "model_id": "ebf029e689964ba7a899f979bf444877",
       "version_major": 2,
       "version_minor": 0
      },
      "text/plain": [
       "Valid [6]:   0%|          | 0/136 [00:00<?, ?batch/s]"
      ]
     },
     "metadata": {},
     "output_type": "display_data"
    },
    {
     "name": "stdout",
     "output_type": "stream",
     "text": [
      "Epoch 7 [0/136] | Valid Loss: 1.4207 | Elapse: 0.05s\n",
      "Epoch 7 [50/136] | Valid Loss: 1.1556 | Elapse: 2.19s\n",
      "Epoch 7 [100/136] | Valid Loss: 1.1613 | Elapse: 4.33s\n"
     ]
    },
    {
     "name": "stderr",
     "output_type": "stream",
     "text": [
      "----------------------------------------------------------------------------------------------------\n",
      "Epoch 7 - Average Loss: (train) 0.6725; (valid) 1.1583 | Time: 15.52s\n"
     ]
    },
    {
     "name": "stdout",
     "output_type": "stream",
     "text": [
      "Epoch 7 [135/136] | Valid Loss: 1.1583 | Elapse: 5.80s\n"
     ]
    },
    {
     "data": {
      "application/vnd.jupyter.widget-view+json": {
       "model_id": "55a76fe9c6af49a8837f692c71c70e8a",
       "version_major": 2,
       "version_minor": 0
      },
      "text/plain": [
       "Train [7]:   0%|          | 0/193 [00:00<?, ?batch/s]"
      ]
     },
     "metadata": {},
     "output_type": "display_data"
    },
    {
     "name": "stdout",
     "output_type": "stream",
     "text": [
      "Epoch 8 [0/193] | Train Loss: 0.5996 Grad: 50596.9453 LR: 6.4239e-05 | Elapse: 0.05s\n",
      "Epoch 8 [50/193] | Train Loss: 0.6646 Grad: 74972.0625 LR: 6.1326e-05 | Elapse: 2.56s\n",
      "Epoch 8 [100/193] | Train Loss: 0.6668 Grad: 70131.5469 LR: 5.8372e-05 | Elapse: 5.02s\n",
      "Epoch 8 [150/193] | Train Loss: 0.6730 Grad: 71080.7422 LR: 5.5388e-05 | Elapse: 7.50s\n",
      "Epoch 8 [192/193] | Train Loss: 0.6706 Grad: 65710.5078 LR: 5.2866e-05 | Elapse: 9.59s\n"
     ]
    },
    {
     "data": {
      "application/vnd.jupyter.widget-view+json": {
       "model_id": "8d3bcddfc2ac43f8b44a3cce1b575baa",
       "version_major": 2,
       "version_minor": 0
      },
      "text/plain": [
       "Valid [7]:   0%|          | 0/136 [00:00<?, ?batch/s]"
      ]
     },
     "metadata": {},
     "output_type": "display_data"
    },
    {
     "name": "stdout",
     "output_type": "stream",
     "text": [
      "Epoch 8 [0/136] | Valid Loss: 1.4144 | Elapse: 0.05s\n",
      "Epoch 8 [50/136] | Valid Loss: 1.1522 | Elapse: 2.17s\n",
      "Epoch 8 [100/136] | Valid Loss: 1.1579 | Elapse: 4.30s\n"
     ]
    },
    {
     "name": "stderr",
     "output_type": "stream",
     "text": [
      "----------------------------------------------------------------------------------------------------\n",
      "Epoch 8 - Average Loss: (train) 0.6706; (valid) 1.1552 | Time: 15.37s\n"
     ]
    },
    {
     "name": "stdout",
     "output_type": "stream",
     "text": [
      "Epoch 8 [135/136] | Valid Loss: 1.1552 | Elapse: 5.78s\n"
     ]
    },
    {
     "data": {
      "application/vnd.jupyter.widget-view+json": {
       "model_id": "73d66911c4e942608db537b889bac8fe",
       "version_major": 2,
       "version_minor": 0
      },
      "text/plain": [
       "Train [8]:   0%|          | 0/193 [00:00<?, ?batch/s]"
      ]
     },
     "metadata": {},
     "output_type": "display_data"
    },
    {
     "name": "stdout",
     "output_type": "stream",
     "text": [
      "Epoch 9 [0/193] | Train Loss: 0.6043 Grad: 58708.9062 LR: 5.2806e-05 | Elapse: 0.05s\n",
      "Epoch 9 [50/193] | Train Loss: 0.6680 Grad: 68665.0469 LR: 4.9794e-05 | Elapse: 2.57s\n",
      "Epoch 9 [100/193] | Train Loss: 0.6657 Grad: 72570.8594 LR: 4.6783e-05 | Elapse: 5.08s\n",
      "Epoch 9 [150/193] | Train Loss: 0.6719 Grad: 62641.7734 LR: 4.3784e-05 | Elapse: 7.60s\n",
      "Epoch 9 [192/193] | Train Loss: 0.6696 Grad: 68544.7578 LR: 4.1282e-05 | Elapse: 9.70s\n"
     ]
    },
    {
     "data": {
      "application/vnd.jupyter.widget-view+json": {
       "model_id": "ec4ff50a03bc45dd9e21d8d44b80c5b5",
       "version_major": 2,
       "version_minor": 0
      },
      "text/plain": [
       "Valid [8]:   0%|          | 0/136 [00:00<?, ?batch/s]"
      ]
     },
     "metadata": {},
     "output_type": "display_data"
    },
    {
     "name": "stdout",
     "output_type": "stream",
     "text": [
      "Epoch 9 [0/136] | Valid Loss: 1.4153 | Elapse: 0.05s\n",
      "Epoch 9 [50/136] | Valid Loss: 1.1513 | Elapse: 2.19s\n",
      "Epoch 9 [100/136] | Valid Loss: 1.1571 | Elapse: 4.32s\n"
     ]
    },
    {
     "name": "stderr",
     "output_type": "stream",
     "text": [
      "----------------------------------------------------------------------------------------------------\n",
      "Epoch 9 - Average Loss: (train) 0.6696; (valid) 1.1546 | Time: 15.50s\n"
     ]
    },
    {
     "name": "stdout",
     "output_type": "stream",
     "text": [
      "Epoch 9 [135/136] | Valid Loss: 1.1546 | Elapse: 5.80s\n"
     ]
    },
    {
     "data": {
      "application/vnd.jupyter.widget-view+json": {
       "model_id": "bbc0ebe3f627432d8f09c3bb6144becb",
       "version_major": 2,
       "version_minor": 0
      },
      "text/plain": [
       "Train [9]:   0%|          | 0/193 [00:00<?, ?batch/s]"
      ]
     },
     "metadata": {},
     "output_type": "display_data"
    },
    {
     "name": "stdout",
     "output_type": "stream",
     "text": [
      "Epoch 10 [0/193] | Train Loss: 0.5957 Grad: 52478.2461 LR: 4.1222e-05 | Elapse: 0.05s\n",
      "Epoch 10 [50/193] | Train Loss: 0.6633 Grad: 70621.0625 LR: 3.8274e-05 | Elapse: 2.58s\n",
      "Epoch 10 [100/193] | Train Loss: 0.6646 Grad: 80330.1641 LR: 3.5368e-05 | Elapse: 5.06s\n",
      "Epoch 10 [150/193] | Train Loss: 0.6699 Grad: 61834.4805 LR: 3.2516e-05 | Elapse: 7.55s\n",
      "Epoch 10 [192/193] | Train Loss: 0.6678 Grad: 73093.3516 LR: 3.0169e-05 | Elapse: 9.65s\n"
     ]
    },
    {
     "data": {
      "application/vnd.jupyter.widget-view+json": {
       "model_id": "5ad8b1ebbfe4425a8f25889f83bcc6a6",
       "version_major": 2,
       "version_minor": 0
      },
      "text/plain": [
       "Valid [9]:   0%|          | 0/136 [00:00<?, ?batch/s]"
      ]
     },
     "metadata": {},
     "output_type": "display_data"
    },
    {
     "name": "stdout",
     "output_type": "stream",
     "text": [
      "Epoch 10 [0/136] | Valid Loss: 1.4092 | Elapse: 0.05s\n",
      "Epoch 10 [50/136] | Valid Loss: 1.1486 | Elapse: 2.18s\n",
      "Epoch 10 [100/136] | Valid Loss: 1.1545 | Elapse: 4.31s\n"
     ]
    },
    {
     "name": "stderr",
     "output_type": "stream",
     "text": [
      "----------------------------------------------------------------------------------------------------\n",
      "Epoch 10 - Average Loss: (train) 0.6678; (valid) 1.1521 | Time: 15.44s\n"
     ]
    },
    {
     "name": "stdout",
     "output_type": "stream",
     "text": [
      "Epoch 10 [135/136] | Valid Loss: 1.1521 | Elapse: 5.78s\n"
     ]
    },
    {
     "data": {
      "application/vnd.jupyter.widget-view+json": {
       "model_id": "1ef5984384204b7a9e1c9d8c77e2630c",
       "version_major": 2,
       "version_minor": 0
      },
      "text/plain": [
       "Train [10]:   0%|          | 0/193 [00:00<?, ?batch/s]"
      ]
     },
     "metadata": {},
     "output_type": "display_data"
    },
    {
     "name": "stdout",
     "output_type": "stream",
     "text": [
      "Epoch 11 [0/193] | Train Loss: 0.5651 Grad: 51295.0156 LR: 3.0113e-05 | Elapse: 0.05s\n",
      "Epoch 11 [50/193] | Train Loss: 0.6594 Grad: 70006.5703 LR: 2.7387e-05 | Elapse: 2.55s\n",
      "Epoch 11 [100/193] | Train Loss: 0.6596 Grad: 67734.1875 LR: 2.4744e-05 | Elapse: 5.04s\n",
      "Epoch 11 [150/193] | Train Loss: 0.6657 Grad: 63961.1641 LR: 2.2192e-05 | Elapse: 7.56s\n",
      "Epoch 11 [192/193] | Train Loss: 0.6642 Grad: 78619.7969 LR: 2.0126e-05 | Elapse: 9.67s\n"
     ]
    },
    {
     "data": {
      "application/vnd.jupyter.widget-view+json": {
       "model_id": "26590429490847c99f7480965045e515",
       "version_major": 2,
       "version_minor": 0
      },
      "text/plain": [
       "Valid [10]:   0%|          | 0/136 [00:00<?, ?batch/s]"
      ]
     },
     "metadata": {},
     "output_type": "display_data"
    },
    {
     "name": "stdout",
     "output_type": "stream",
     "text": [
      "Epoch 11 [0/136] | Valid Loss: 1.4043 | Elapse: 0.05s\n",
      "Epoch 11 [50/136] | Valid Loss: 1.1466 | Elapse: 2.18s\n",
      "Epoch 11 [100/136] | Valid Loss: 1.1525 | Elapse: 4.32s\n"
     ]
    },
    {
     "name": "stderr",
     "output_type": "stream",
     "text": [
      "----------------------------------------------------------------------------------------------------\n",
      "Epoch 11 - Average Loss: (train) 0.6642; (valid) 1.1502 | Time: 15.47s\n"
     ]
    },
    {
     "name": "stdout",
     "output_type": "stream",
     "text": [
      "Epoch 11 [135/136] | Valid Loss: 1.1502 | Elapse: 5.79s\n"
     ]
    },
    {
     "data": {
      "application/vnd.jupyter.widget-view+json": {
       "model_id": "ab32fc837a214b9daa74b67b8d9633f1",
       "version_major": 2,
       "version_minor": 0
      },
      "text/plain": [
       "Train [11]:   0%|          | 0/193 [00:00<?, ?batch/s]"
      ]
     },
     "metadata": {},
     "output_type": "display_data"
    },
    {
     "name": "stdout",
     "output_type": "stream",
     "text": [
      "Epoch 12 [0/193] | Train Loss: 0.6180 Grad: 52827.1523 LR: 2.0077e-05 | Elapse: 0.05s\n",
      "Epoch 12 [50/193] | Train Loss: 0.6632 Grad: 71330.1328 LR: 1.7721e-05 | Elapse: 2.58s\n",
      "Epoch 12 [100/193] | Train Loss: 0.6629 Grad: 72819.9844 LR: 1.5481e-05 | Elapse: 5.09s\n",
      "Epoch 12 [150/193] | Train Loss: 0.6700 Grad: 72408.4219 LR: 1.3367e-05 | Elapse: 7.58s\n",
      "Epoch 12 [192/193] | Train Loss: 0.6661 Grad: 70281.1484 LR: 1.1694e-05 | Elapse: 9.68s\n"
     ]
    },
    {
     "data": {
      "application/vnd.jupyter.widget-view+json": {
       "model_id": "f9931167a72f473e9c8773c34edfe247",
       "version_major": 2,
       "version_minor": 0
      },
      "text/plain": [
       "Valid [11]:   0%|          | 0/136 [00:00<?, ?batch/s]"
      ]
     },
     "metadata": {},
     "output_type": "display_data"
    },
    {
     "name": "stdout",
     "output_type": "stream",
     "text": [
      "Epoch 12 [0/136] | Valid Loss: 1.3984 | Elapse: 0.05s\n",
      "Epoch 12 [50/136] | Valid Loss: 1.1447 | Elapse: 2.19s\n",
      "Epoch 12 [100/136] | Valid Loss: 1.1507 | Elapse: 4.32s\n"
     ]
    },
    {
     "name": "stderr",
     "output_type": "stream",
     "text": [
      "----------------------------------------------------------------------------------------------------\n",
      "Epoch 12 - Average Loss: (train) 0.6661; (valid) 1.1485 | Time: 15.48s\n"
     ]
    },
    {
     "name": "stdout",
     "output_type": "stream",
     "text": [
      "Epoch 12 [135/136] | Valid Loss: 1.1485 | Elapse: 5.80s\n"
     ]
    },
    {
     "data": {
      "application/vnd.jupyter.widget-view+json": {
       "model_id": "5eb3f57d401244c8861a6eaff58da8a9",
       "version_major": 2,
       "version_minor": 0
      },
      "text/plain": [
       "Train [12]:   0%|          | 0/193 [00:00<?, ?batch/s]"
      ]
     },
     "metadata": {},
     "output_type": "display_data"
    },
    {
     "name": "stdout",
     "output_type": "stream",
     "text": [
      "Epoch 13 [0/193] | Train Loss: 0.5881 Grad: 58466.9922 LR: 1.1656e-05 | Elapse: 0.05s\n",
      "Epoch 13 [50/193] | Train Loss: 0.6570 Grad: 70628.5859 LR: 9.7953e-06 | Elapse: 2.55s\n",
      "Epoch 13 [100/193] | Train Loss: 0.6616 Grad: 70296.6328 LR: 8.0811e-06 | Elapse: 5.03s\n",
      "Epoch 13 [150/193] | Train Loss: 0.6672 Grad: 57050.6836 LR: 6.5193e-06 | Elapse: 7.54s\n",
      "Epoch 13 [192/193] | Train Loss: 0.6646 Grad: 65166.1406 LR: 5.3292e-06 | Elapse: 9.64s\n"
     ]
    },
    {
     "data": {
      "application/vnd.jupyter.widget-view+json": {
       "model_id": "0483ef41a2c04bccb860563db936fad2",
       "version_major": 2,
       "version_minor": 0
      },
      "text/plain": [
       "Valid [12]:   0%|          | 0/136 [00:00<?, ?batch/s]"
      ]
     },
     "metadata": {},
     "output_type": "display_data"
    },
    {
     "name": "stdout",
     "output_type": "stream",
     "text": [
      "Epoch 13 [0/136] | Valid Loss: 1.3958 | Elapse: 0.05s\n",
      "Epoch 13 [50/136] | Valid Loss: 1.1438 | Elapse: 2.18s\n",
      "Epoch 13 [100/136] | Valid Loss: 1.1498 | Elapse: 4.32s\n"
     ]
    },
    {
     "name": "stderr",
     "output_type": "stream",
     "text": [
      "----------------------------------------------------------------------------------------------------\n",
      "Epoch 13 - Average Loss: (train) 0.6646; (valid) 1.1477 | Time: 15.43s\n"
     ]
    },
    {
     "name": "stdout",
     "output_type": "stream",
     "text": [
      "Epoch 13 [135/136] | Valid Loss: 1.1477 | Elapse: 5.79s\n"
     ]
    },
    {
     "data": {
      "application/vnd.jupyter.widget-view+json": {
       "model_id": "e7c4f3b949954b46a5a965d04dad5e5f",
       "version_major": 2,
       "version_minor": 0
      },
      "text/plain": [
       "Train [13]:   0%|          | 0/193 [00:00<?, ?batch/s]"
      ]
     },
     "metadata": {},
     "output_type": "display_data"
    },
    {
     "name": "stdout",
     "output_type": "stream",
     "text": [
      "Epoch 14 [0/193] | Train Loss: 0.6008 Grad: 50980.7070 LR: 5.3023e-06 | Elapse: 0.05s\n",
      "Epoch 14 [50/193] | Train Loss: 0.6553 Grad: 72004.0469 LR: 4.0385e-06 | Elapse: 2.55s\n",
      "Epoch 14 [100/193] | Train Loss: 0.6578 Grad: 73613.5938 LR: 2.9418e-06 | Elapse: 5.06s\n",
      "Epoch 14 [150/193] | Train Loss: 0.6648 Grad: 62859.8984 LR: 2.0162e-06 | Elapse: 7.54s\n",
      "Epoch 14 [192/193] | Train Loss: 0.6633 Grad: 67805.2344 LR: 1.3734e-06 | Elapse: 9.64s\n"
     ]
    },
    {
     "data": {
      "application/vnd.jupyter.widget-view+json": {
       "model_id": "602414c168f6478386d2c52d5b8a18ef",
       "version_major": 2,
       "version_minor": 0
      },
      "text/plain": [
       "Valid [13]:   0%|          | 0/136 [00:00<?, ?batch/s]"
      ]
     },
     "metadata": {},
     "output_type": "display_data"
    },
    {
     "name": "stdout",
     "output_type": "stream",
     "text": [
      "Epoch 14 [0/136] | Valid Loss: 1.3929 | Elapse: 0.05s\n",
      "Epoch 14 [50/136] | Valid Loss: 1.1429 | Elapse: 2.19s\n",
      "Epoch 14 [100/136] | Valid Loss: 1.1488 | Elapse: 4.32s\n"
     ]
    },
    {
     "name": "stderr",
     "output_type": "stream",
     "text": [
      "----------------------------------------------------------------------------------------------------\n",
      "Epoch 14 - Average Loss: (train) 0.6633; (valid) 1.1467 | Time: 15.44s\n"
     ]
    },
    {
     "name": "stdout",
     "output_type": "stream",
     "text": [
      "Epoch 14 [135/136] | Valid Loss: 1.1467 | Elapse: 5.79s\n"
     ]
    },
    {
     "data": {
      "application/vnd.jupyter.widget-view+json": {
       "model_id": "e9b9dec423644aaa9f98ea12610f6704",
       "version_major": 2,
       "version_minor": 0
      },
      "text/plain": [
       "Train [14]:   0%|          | 0/193 [00:00<?, ?batch/s]"
      ]
     },
     "metadata": {},
     "output_type": "display_data"
    },
    {
     "name": "stdout",
     "output_type": "stream",
     "text": [
      "Epoch 15 [0/193] | Train Loss: 0.5776 Grad: 53072.0547 LR: 1.3596e-06 | Elapse: 0.05s\n",
      "Epoch 15 [50/193] | Train Loss: 0.6623 Grad: 74787.6250 LR: 7.6057e-07 | Elapse: 2.55s\n",
      "Epoch 15 [100/193] | Train Loss: 0.6627 Grad: 70190.4375 LR: 3.4056e-07 | Elapse: 5.04s\n",
      "Epoch 15 [150/193] | Train Loss: 0.6670 Grad: 72455.9062 LR: 1.0106e-07 | Elapse: 7.51s\n",
      "Epoch 15 [192/193] | Train Loss: 0.6638 Grad: 80174.2109 LR: 4.0036e-08 | Elapse: 9.61s\n"
     ]
    },
    {
     "data": {
      "application/vnd.jupyter.widget-view+json": {
       "model_id": "ea1a7e2267814d85a5bff131ef03e9b0",
       "version_major": 2,
       "version_minor": 0
      },
      "text/plain": [
       "Valid [14]:   0%|          | 0/136 [00:00<?, ?batch/s]"
      ]
     },
     "metadata": {},
     "output_type": "display_data"
    },
    {
     "name": "stdout",
     "output_type": "stream",
     "text": [
      "Epoch 15 [0/136] | Valid Loss: 1.3927 | Elapse: 0.05s\n",
      "Epoch 15 [50/136] | Valid Loss: 1.1428 | Elapse: 2.19s\n",
      "Epoch 15 [100/136] | Valid Loss: 1.1488 | Elapse: 4.33s\n"
     ]
    },
    {
     "name": "stderr",
     "output_type": "stream",
     "text": [
      "----------------------------------------------------------------------------------------------------\n",
      "Epoch 15 - Average Loss: (train) 0.6638; (valid) 1.1466 | Time: 15.42s\n",
      "====================================================================================================\n",
      "Fold 4 Valid Loss: 1.1372519731521606\n",
      "Elapse: 3.87 min \n",
      "====================================================================================================\n"
     ]
    },
    {
     "name": "stdout",
     "output_type": "stream",
     "text": [
      "Epoch 15 [135/136] | Valid Loss: 1.1466 | Elapse: 5.80s\n"
     ]
    }
   ],
   "source": [
    "logger = get_logger(PATHS.OUTPUT_DIR, f\"{ModelConfig.MODEL_NAME}_train.log\")\n",
    "\n",
    "logger.info(f\"{'*' * 100}\")\n",
    "logger.info(f\"Script Start: {ctime()}\")\n",
    "logger.info(f\"Model Configurations:\")\n",
    "for key, value in ModelConfig.__dict__.items():\n",
    "    if not key.startswith(\"__\"):\n",
    "        logger.info(f\"{key}: {value}\")\n",
    "logger.info(f\"{'*' * 100}\")\n",
    "\n",
    "# ================== Run Training ==================\n",
    "\n",
    "k_folds = 5\n",
    "train_all = prepare_k_fold(train_all, k_folds=k_folds)\n",
    "\n",
    "oof_stage_1, oof_stage_2 = pd.DataFrame(), pd.DataFrame()\n",
    "loss_history_1, loss_history_2 = [], []\n",
    "\n",
    "for fold in range(k_folds):\n",
    "    tik = time()\n",
    "\n",
    "    model = CustomPatchTSMixer()\n",
    "\n",
    "    valid_folds = train_all[train_all['fold'] == fold].reset_index(drop=True)\n",
    "    train_folds = train_all[train_all['fold'] != fold].reset_index(drop=True)\n",
    "\n",
    "    # STAGE 1\n",
    "    logger.info(f\"{'=' * 100}\\nFold: {fold} || Valid size {valid_folds.shape[0]} \\n{'=' * 100}\")\n",
    "    logger.info(f\"- First Stage -\")\n",
    "    valid_predicts, loss_records = train_fold(\n",
    "        model, fold, train_folds, valid_folds, logger, stage=1, checkpoint=None)\n",
    "\n",
    "    loss_history_1.append(loss_records)\n",
    "    valid_folds[TARGETS_PRED] = valid_predicts\n",
    "    oof_stage_1 = pd.concat([oof_stage_1, valid_folds], axis=0).reset_index(drop=True)\n",
    "    kl_loss_torch = evaluate_oof(valid_folds)\n",
    "    info = f\"{'=' * 100}\\nFold {fold} Valid Loss: {kl_loss_torch}\\n\"\n",
    "    info += f\"Elapse: {(time() - tik) / 60:.2f} min \\n{'=' * 100}\"\n",
    "    logger.info(info)\n",
    "    oof_stage_1.to_csv(os.path.join(PATHS.OUTPUT_DIR, f\"{ModelConfig.MODEL_NAME}_oof_1.csv\"), index=False)\n",
    "\n",
    "    # STAGE 2\n",
    "    tik = time()\n",
    "    logger.info(f\"- Second Stage -\")\n",
    "    check_point = os.path.join(\n",
    "        PATHS.OUTPUT_DIR,\n",
    "        f\"{ModelConfig.MODEL_NAME}_fold_{fold}_stage_1.pth\"\n",
    "    )\n",
    "    logger.info(f\"Use Checkpoint: {check_point.split('/')[-1]}\")\n",
    "\n",
    "    model = CustomPatchTSMixer()\n",
    "    valid_predicts, loss_records = train_fold(\n",
    "        model, fold, train_hard, valid_folds, logger, stage=2, checkpoint=check_point)\n",
    "\n",
    "    loss_history_2.append(loss_records)\n",
    "    valid_folds[TARGETS_PRED] = valid_predicts\n",
    "    oof_stage_2 = pd.concat([oof_stage_2, valid_folds], axis=0).reset_index(drop=True)\n",
    "    kl_loss_torch = evaluate_oof(valid_folds)\n",
    "    info = f\"{'=' * 100}\\nFold {fold} Valid Loss: {kl_loss_torch}\\n\"\n",
    "    info += f\"Elapse: {(time() - tik) / 60:.2f} min \\n{'=' * 100}\"\n",
    "    logger.info(info)\n",
    "    oof_stage_2.to_csv(os.path.join(PATHS.OUTPUT_DIR, f\"{ModelConfig.MODEL_NAME}_oof_2.csv\"), index=False)"
   ]
  },
  {
   "cell_type": "code",
   "execution_count": 13,
   "metadata": {},
   "outputs": [],
   "source": [
    "from kl_divergence import score as kaggle_score \n",
    "from sklearn.metrics import confusion_matrix\n",
    "import seaborn as sns\n",
    "\n",
    "TARGET2ID = {'Seizure': 0, 'LPD': 1, 'GPD': 2, 'LRDA': 3, 'GRDA': 4, 'Other': 5}\n",
    "\n",
    "def calc_kaggle_score(oof_df):\n",
    "    submission_df = oof_df[['eeg_id']+TARGETS_PRED].copy()\n",
    "    submission_df.columns = ['eeg_id'] + TARGETS\n",
    "    solution_df = oof_df[['eeg_id']+TARGETS].copy()\n",
    "    return kaggle_score(solution_df, submission_df, 'eeg_id')\n",
    "\n",
    "def analyze_oof(oof_csv):\n",
    "\n",
    "    kl_criteria = nn.KLDivLoss(reduction='batchmean')\n",
    "    softmax = nn.Softmax(dim=1)\n",
    "\n",
    "    oof_df = pd.read_csv(oof_csv)\n",
    "    oof_df['target_pred'] = oof_df[TARGETS_PRED].apply(lambda x: np.argmax(x), axis=1)\n",
    "    oof_df['target_id'] = oof_df[TARGETS].apply(lambda x: np.argmax(x), axis=1)\n",
    "    \n",
    "    oof_df[\"kl_loss\"] = oof_df.apply(\n",
    "    lambda row: \n",
    "        kl_criteria(\n",
    "            F.log_softmax(\n",
    "                    torch.tensor(row[TARGETS_PRED].values.astype(np.float32)).unsqueeze(0)\n",
    "                , dim=1\n",
    "                ), \n",
    "            torch.tensor(row[TARGETS].values.astype(np.float32))\n",
    "            ).numpy(),\n",
    "    axis=1)\n",
    "\n",
    "    oof_df[\"kl_loss\"] = oof_df['kl_loss'].astype(np.float32)\n",
    "\n",
    "    oof_df[TARGETS_PRED] = softmax( torch.tensor(oof_df[TARGETS_PRED].values.astype(np.float32)) )\n",
    "\n",
    "    oof_df.head()\n",
    "\n",
    "    return oof_df"
   ]
  },
  {
   "cell_type": "code",
   "execution_count": 15,
   "metadata": {},
   "outputs": [
    {
     "name": "stdout",
     "output_type": "stream",
     "text": [
      "CSV Path:  ./outputs/PatchTSMixer_oof_1.csv\n",
      "Kaggle Score:  1.0786045088133382\n",
      "Average KL Loss:  1.0786046\n"
     ]
    },
    {
     "data": {
      "text/html": [
       "<div>\n",
       "<style scoped>\n",
       "    .dataframe tbody tr th:only-of-type {\n",
       "        vertical-align: middle;\n",
       "    }\n",
       "\n",
       "    .dataframe tbody tr th {\n",
       "        vertical-align: top;\n",
       "    }\n",
       "\n",
       "    .dataframe thead th {\n",
       "        text-align: right;\n",
       "    }\n",
       "</style>\n",
       "<table border=\"1\" class=\"dataframe\">\n",
       "  <thead>\n",
       "    <tr style=\"text-align: right;\">\n",
       "      <th></th>\n",
       "      <th>eeg_id</th>\n",
       "      <th>seizure_vote</th>\n",
       "      <th>lpd_vote</th>\n",
       "      <th>gpd_vote</th>\n",
       "      <th>lrda_vote</th>\n",
       "      <th>grda_vote</th>\n",
       "      <th>other_vote</th>\n",
       "      <th>spectrogram_id</th>\n",
       "      <th>min</th>\n",
       "      <th>max</th>\n",
       "      <th>...</th>\n",
       "      <th>fold</th>\n",
       "      <th>seizure_pred</th>\n",
       "      <th>lpd_pred</th>\n",
       "      <th>gpd_pred</th>\n",
       "      <th>lrda_pred</th>\n",
       "      <th>grda_pred</th>\n",
       "      <th>other_pred</th>\n",
       "      <th>target_pred</th>\n",
       "      <th>target_id</th>\n",
       "      <th>kl_loss</th>\n",
       "    </tr>\n",
       "  </thead>\n",
       "  <tbody>\n",
       "    <tr>\n",
       "      <th>0</th>\n",
       "      <td>751790</td>\n",
       "      <td>0.0</td>\n",
       "      <td>0.000000</td>\n",
       "      <td>1.000000</td>\n",
       "      <td>0.000000</td>\n",
       "      <td>0.000000</td>\n",
       "      <td>0.000000</td>\n",
       "      <td>618728447</td>\n",
       "      <td>908.0</td>\n",
       "      <td>908.0</td>\n",
       "      <td>...</td>\n",
       "      <td>0</td>\n",
       "      <td>0.321756</td>\n",
       "      <td>0.072028</td>\n",
       "      <td>0.473037</td>\n",
       "      <td>0.017934</td>\n",
       "      <td>0.021315</td>\n",
       "      <td>0.093930</td>\n",
       "      <td>2</td>\n",
       "      <td>2</td>\n",
       "      <td>0.748582</td>\n",
       "    </tr>\n",
       "    <tr>\n",
       "      <th>1</th>\n",
       "      <td>2366870</td>\n",
       "      <td>0.0</td>\n",
       "      <td>0.333333</td>\n",
       "      <td>0.000000</td>\n",
       "      <td>0.000000</td>\n",
       "      <td>0.000000</td>\n",
       "      <td>0.666667</td>\n",
       "      <td>1232582129</td>\n",
       "      <td>0.0</td>\n",
       "      <td>30.0</td>\n",
       "      <td>...</td>\n",
       "      <td>0</td>\n",
       "      <td>0.147737</td>\n",
       "      <td>0.210221</td>\n",
       "      <td>0.048372</td>\n",
       "      <td>0.062673</td>\n",
       "      <td>0.084738</td>\n",
       "      <td>0.446258</td>\n",
       "      <td>5</td>\n",
       "      <td>5</td>\n",
       "      <td>0.421256</td>\n",
       "    </tr>\n",
       "    <tr>\n",
       "      <th>2</th>\n",
       "      <td>2482631</td>\n",
       "      <td>0.0</td>\n",
       "      <td>0.000000</td>\n",
       "      <td>0.133333</td>\n",
       "      <td>0.066667</td>\n",
       "      <td>0.133333</td>\n",
       "      <td>0.666667</td>\n",
       "      <td>978166025</td>\n",
       "      <td>1902.0</td>\n",
       "      <td>1944.0</td>\n",
       "      <td>...</td>\n",
       "      <td>0</td>\n",
       "      <td>0.147335</td>\n",
       "      <td>0.176518</td>\n",
       "      <td>0.162381</td>\n",
       "      <td>0.113005</td>\n",
       "      <td>0.222529</td>\n",
       "      <td>0.178233</td>\n",
       "      <td>4</td>\n",
       "      <td>5</td>\n",
       "      <td>0.749712</td>\n",
       "    </tr>\n",
       "    <tr>\n",
       "      <th>3</th>\n",
       "      <td>2521897</td>\n",
       "      <td>0.0</td>\n",
       "      <td>0.000000</td>\n",
       "      <td>0.083333</td>\n",
       "      <td>0.083333</td>\n",
       "      <td>0.333333</td>\n",
       "      <td>0.500000</td>\n",
       "      <td>673742515</td>\n",
       "      <td>0.0</td>\n",
       "      <td>4.0</td>\n",
       "      <td>...</td>\n",
       "      <td>0</td>\n",
       "      <td>0.283105</td>\n",
       "      <td>0.092358</td>\n",
       "      <td>0.028619</td>\n",
       "      <td>0.064987</td>\n",
       "      <td>0.078041</td>\n",
       "      <td>0.452889</td>\n",
       "      <td>5</td>\n",
       "      <td>5</td>\n",
       "      <td>0.643235</td>\n",
       "    </tr>\n",
       "    <tr>\n",
       "      <th>4</th>\n",
       "      <td>3108700</td>\n",
       "      <td>0.0</td>\n",
       "      <td>0.000000</td>\n",
       "      <td>0.000000</td>\n",
       "      <td>0.000000</td>\n",
       "      <td>0.000000</td>\n",
       "      <td>1.000000</td>\n",
       "      <td>223960986</td>\n",
       "      <td>0.0</td>\n",
       "      <td>0.0</td>\n",
       "      <td>...</td>\n",
       "      <td>0</td>\n",
       "      <td>0.113707</td>\n",
       "      <td>0.116861</td>\n",
       "      <td>0.019685</td>\n",
       "      <td>0.044966</td>\n",
       "      <td>0.063157</td>\n",
       "      <td>0.641624</td>\n",
       "      <td>5</td>\n",
       "      <td>5</td>\n",
       "      <td>0.443752</td>\n",
       "    </tr>\n",
       "  </tbody>\n",
       "</table>\n",
       "<p>5 rows × 22 columns</p>\n",
       "</div>"
      ],
      "text/plain": [
       "    eeg_id  seizure_vote  lpd_vote  gpd_vote  lrda_vote  grda_vote  \\\n",
       "0   751790           0.0  0.000000  1.000000   0.000000   0.000000   \n",
       "1  2366870           0.0  0.333333  0.000000   0.000000   0.000000   \n",
       "2  2482631           0.0  0.000000  0.133333   0.066667   0.133333   \n",
       "3  2521897           0.0  0.000000  0.083333   0.083333   0.333333   \n",
       "4  3108700           0.0  0.000000  0.000000   0.000000   0.000000   \n",
       "\n",
       "   other_vote  spectrogram_id     min     max  ...  fold seizure_pred  \\\n",
       "0    0.000000       618728447   908.0   908.0  ...     0     0.321756   \n",
       "1    0.666667      1232582129     0.0    30.0  ...     0     0.147737   \n",
       "2    0.666667       978166025  1902.0  1944.0  ...     0     0.147335   \n",
       "3    0.500000       673742515     0.0     4.0  ...     0     0.283105   \n",
       "4    1.000000       223960986     0.0     0.0  ...     0     0.113707   \n",
       "\n",
       "   lpd_pred  gpd_pred  lrda_pred  grda_pred  other_pred  target_pred  \\\n",
       "0  0.072028  0.473037   0.017934   0.021315    0.093930            2   \n",
       "1  0.210221  0.048372   0.062673   0.084738    0.446258            5   \n",
       "2  0.176518  0.162381   0.113005   0.222529    0.178233            4   \n",
       "3  0.092358  0.028619   0.064987   0.078041    0.452889            5   \n",
       "4  0.116861  0.019685   0.044966   0.063157    0.641624            5   \n",
       "\n",
       "   target_id   kl_loss  \n",
       "0          2  0.748582  \n",
       "1          5  0.421256  \n",
       "2          5  0.749712  \n",
       "3          5  0.643235  \n",
       "4          5  0.443752  \n",
       "\n",
       "[5 rows x 22 columns]"
      ]
     },
     "metadata": {},
     "output_type": "display_data"
    },
    {
     "data": {
      "image/png": "[encoded data removed]",
      "text/plain": [
       "<Figure size 600x600 with 2 Axes>"
      ]
     },
     "metadata": {},
     "output_type": "display_data"
    }
   ],
   "source": [
    "csv_path = f'./outputs/{ModelConfig.MODEL_NAME}_oof_1.csv'\n",
    "print(\"CSV Path: \", csv_path)\n",
    "\n",
    "oof_df = analyze_oof(csv_path)\n",
    "\n",
    "print(\"Kaggle Score: \", calc_kaggle_score(oof_df))\n",
    "print(\"Average KL Loss: \", oof_df[\"kl_loss\"].mean())\n",
    "\n",
    "display(oof_df.head())\n",
    "\n",
    "# plot confusion matrix\n",
    "cm = confusion_matrix(oof_df['target_id'], oof_df['target_pred']) # (y_true, y_pred)\n",
    "cm = cm / cm.sum(axis=1)[:, np.newaxis]\n",
    "\n",
    "fig = plt.figure(figsize=(6, 6))\n",
    "sns.heatmap(cm, annot=True, cmap='Blues', xticklabels=TARGET2ID.keys(), yticklabels=TARGET2ID.keys())\n",
    "plt.xlabel('Predicted', fontsize=12)\n",
    "plt.ylabel('True', fontsize=12)\n",
    "plt.title(csv_path.split('/')[-1].split('.')[0], fontsize=12)\n",
    "fig.tight_layout()\n",
    "fig.savefig(f\"./outputs/{csv_path.split('/')[-1].split('.')[0]}_CM.png\")\n",
    "plt.show()"
   ]
  },
  {
   "cell_type": "code",
   "execution_count": null,
   "metadata": {},
   "outputs": [],
   "source": []
  }
 ],
 "metadata": {
  "kernelspec": {
   "display_name": "kaggle",
   "language": "python",
   "name": "python3"
  },
  "language_info": {
   "codemirror_mode": {
    "name": "ipython",
    "version": 3
   },
   "file_extension": ".py",
   "mimetype": "text/x-python",
   "name": "python",
   "nbconvert_exporter": "python",
   "pygments_lexer": "ipython3",
   "version": "3.11.6"
  }
 },
 "nbformat": 4,
 "nbformat_minor": 2
}
