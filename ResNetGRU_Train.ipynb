{
 "cells": [
  {
   "cell_type": "code",
   "execution_count": 1,
   "metadata": {},
   "outputs": [],
   "source": [
    "import os, gc\n",
    "import numpy as np\n",
    "import pandas as pd \n",
    "from pathlib import Path\n",
    "import matplotlib.pyplot as plt\n",
    "from typing import List, Dict\n",
    "from tqdm.notebook import tqdm\n",
    "\n",
    "from sklearn.model_selection import KFold, GroupKFold\n",
    "\n",
    "import torch\n",
    "from torch import nn\n",
    "from torch.nn import functional as F\n",
    "from torch.utils.data import DataLoader, Dataset\n",
    "from torchvision.transforms import v2\n",
    "from torch.optim.lr_scheduler import OneCycleLR\n",
    "from time import time, ctime\n",
    "\n",
    "from engine_hms_trainer import (\n",
    "    seed_everything, calc_entropy, evaluate_oof, get_logger, TARGETS, TARGETS_PRED, Trainer\n",
    ")\n",
    "from engine_hms_model import (\n",
    "    KagglePaths, LocalPaths, ModelConfig\n",
    ")\n",
    "\n",
    "from scipy.signal import butter, lfilter, freqz\n",
    "from scipy.stats import entropy\n",
    "from scipy.special import rel_entr\n"
   ]
  },
  {
   "cell_type": "code",
   "execution_count": 2,
   "metadata": {},
   "outputs": [
    {
     "name": "stdout",
     "output_type": "stream",
     "text": [
      "Output Dir:  ./outputs/\n"
     ]
    }
   ],
   "source": [
    "DEVICE = torch.device(\"cuda\" if torch.cuda.is_available() else \"cpu\")\n",
    "\n",
    "PATHS = KagglePaths if os.path.exists(KagglePaths.OUTPUT_DIR) else LocalPaths\n",
    "print(\"Output Dir: \", PATHS.OUTPUT_DIR)\n",
    "\n",
    "EEG_FEAT_ALL = [\n",
    "    'Fp1', 'F3', 'C3', 'P3', \n",
    "    'F7', 'T3', 'T5', 'O1', \n",
    "    'Fz', 'Cz', 'Pz', 'Fp2', \n",
    "    'F4', 'C4', 'P4', 'F8', \n",
    "    'T4', 'T6', 'O2', 'EKG'\n",
    "    ]\n",
    "\n",
    "EEG_FEAT_USE =  ['Fp1','T3','C3','O1','Fp2','C4','T4','O2']\n",
    "EEF_FEAT_INDEX = {x:y for x,y in zip(EEG_FEAT_USE, range(len(EEG_FEAT_USE)))}\n",
    "\n",
    "seed_everything(ModelConfig.SEED)"
   ]
  },
  {
   "cell_type": "markdown",
   "metadata": {},
   "source": [
    "# Load Data"
   ]
  },
  {
   "cell_type": "code",
   "execution_count": 10,
   "metadata": {},
   "outputs": [],
   "source": [
    "def eeg_from_parquet(parquet_path: str, use_feature=EEG_FEAT_USE, display: bool = False) -> np.ndarray:\n",
    "    # === Extract full length EEG Sequence ===\n",
    "    # fill missing values with mean\n",
    "    # first fill missing values with mean of each column\n",
    "    # then if all values are missing, fill with 0\n",
    "    eeg = pd.read_parquet(parquet_path, columns=use_feature)\n",
    "    eeg = eeg.fillna(eeg.mean(skipna=True)).fillna(0)\n",
    "    data = eeg.values.astype(np.float32)\n",
    "\n",
    "    if display:\n",
    "        fig, ax = plt.subplots(len(use_feature), 1, figsize=(15, 3*len(use_feature)), sharex=True)\n",
    "        \n",
    "        for i, feat in enumerate(use_feature):\n",
    "            ax[i].plot(data[:, i], label=feat)\n",
    "            ax[i].legend()\n",
    "            ax[i].grid()\n",
    "       \n",
    "        name = parquet_path.split('/')[-1].split('.')[0]\n",
    "        ax[0].set_title(f'EEG {name}',size=16)\n",
    "        fig.tight_layout()\n",
    "        plt.show()    \n",
    "    return data\n",
    "\n",
    "def get_non_overlap(train_csv, targets):\n",
    "\n",
    "    df = train_csv.groupby(['eeg_id'] + targets).agg({\n",
    "            'spectrogram_id': 'first',\n",
    "            'spectrogram_label_offset_seconds': ['min', 'max'],\n",
    "            'eeg_label_offset_seconds': ['min', 'max'],\n",
    "            'patient_id': 'first',\n",
    "            'expert_consensus': 'first',\n",
    "            'total_votes': 'sum',\n",
    "            'entropy': 'mean',\n",
    "            'is_hard': 'mean'\n",
    "        }).reset_index()\n",
    "\n",
    "    df.columns = [\"eeg_id\"] + targets + \\\n",
    "        ['spectrogram_id', 'min', 'max', 'eeg_off_min', 'eeg_off_max', 'patient_id', 'target', 'total_votes', 'average_entropy', 'is_hard']\n",
    "\n",
    "    df[targets] = df[targets].apply(lambda x: x / x.sum(), axis=1)\n",
    "\n",
    "    return df"
   ]
  },
  {
   "cell_type": "code",
   "execution_count": 11,
   "metadata": {},
   "outputs": [],
   "source": [
    "CREATE_EEGS = False\n",
    "ALL_EEG_SIGNALS = {}\n",
    "eeg_paths = list(Path(PATHS.TRAIN_EEGS).glob('*.parquet'))\n",
    "preload_eegs_path = Path('./inputs/eegs_full.npy')\n",
    "\n",
    "if CREATE_EEGS:\n",
    "    count = 0\n",
    "    for parquet_path in tqdm(eeg_paths, total=len(eeg_paths)):\n",
    "        eeg_id = int(parquet_path.stem)\n",
    "        eeg_path = str(parquet_path)\n",
    "        data = eeg_from_parquet(eeg_path, display=count<1)\n",
    "        ALL_EEG_SIGNALS[eeg_id] = data\n",
    "        count += 1\n",
    "    np.save(\"./inputs/eegs_full.npy\", ALL_EEG_SIGNALS)\n",
    "else:\n",
    "    ALL_EEG_SIGNALS = np.load(preload_eegs_path, allow_pickle=True).item()"
   ]
  },
  {
   "cell_type": "code",
   "execution_count": 12,
   "metadata": {},
   "outputs": [
    {
     "name": "stdout",
     "output_type": "stream",
     "text": [
      "targets:  ['seizure_vote', 'lpd_vote', 'gpd_vote', 'lrda_vote', 'grda_vote', 'other_vote']\n",
      "train_all:  (20183, 17)\n",
      "hard samples:  (4096, 17)\n"
     ]
    },
    {
     "data": {
      "text/html": [
       "<div>\n",
       "<style scoped>\n",
       "    .dataframe tbody tr th:only-of-type {\n",
       "        vertical-align: middle;\n",
       "    }\n",
       "\n",
       "    .dataframe tbody tr th {\n",
       "        vertical-align: top;\n",
       "    }\n",
       "\n",
       "    .dataframe thead th {\n",
       "        text-align: right;\n",
       "    }\n",
       "</style>\n",
       "<table border=\"1\" class=\"dataframe\">\n",
       "  <thead>\n",
       "    <tr style=\"text-align: right;\">\n",
       "      <th></th>\n",
       "      <th>eeg_id</th>\n",
       "      <th>seizure_vote</th>\n",
       "      <th>lpd_vote</th>\n",
       "      <th>gpd_vote</th>\n",
       "      <th>lrda_vote</th>\n",
       "      <th>grda_vote</th>\n",
       "      <th>other_vote</th>\n",
       "      <th>spectrogram_id</th>\n",
       "      <th>min</th>\n",
       "      <th>max</th>\n",
       "      <th>eeg_off_min</th>\n",
       "      <th>eeg_off_max</th>\n",
       "      <th>patient_id</th>\n",
       "      <th>target</th>\n",
       "      <th>total_votes</th>\n",
       "      <th>average_entropy</th>\n",
       "      <th>is_hard</th>\n",
       "    </tr>\n",
       "  </thead>\n",
       "  <tbody>\n",
       "    <tr>\n",
       "      <th>0</th>\n",
       "      <td>568657</td>\n",
       "      <td>0.000000</td>\n",
       "      <td>0.000000</td>\n",
       "      <td>0.250000</td>\n",
       "      <td>0.000000</td>\n",
       "      <td>0.166667</td>\n",
       "      <td>0.583333</td>\n",
       "      <td>789577333</td>\n",
       "      <td>0.0</td>\n",
       "      <td>16.0</td>\n",
       "      <td>0.0</td>\n",
       "      <td>16.0</td>\n",
       "      <td>20654</td>\n",
       "      <td>Other</td>\n",
       "      <td>48</td>\n",
       "      <td>4.584192</td>\n",
       "      <td>1.0</td>\n",
       "    </tr>\n",
       "    <tr>\n",
       "      <th>1</th>\n",
       "      <td>582999</td>\n",
       "      <td>0.000000</td>\n",
       "      <td>0.857143</td>\n",
       "      <td>0.000000</td>\n",
       "      <td>0.071429</td>\n",
       "      <td>0.000000</td>\n",
       "      <td>0.071429</td>\n",
       "      <td>1552638400</td>\n",
       "      <td>0.0</td>\n",
       "      <td>38.0</td>\n",
       "      <td>0.0</td>\n",
       "      <td>38.0</td>\n",
       "      <td>20230</td>\n",
       "      <td>LPD</td>\n",
       "      <td>154</td>\n",
       "      <td>4.870032</td>\n",
       "      <td>1.0</td>\n",
       "    </tr>\n",
       "    <tr>\n",
       "      <th>2</th>\n",
       "      <td>642382</td>\n",
       "      <td>0.000000</td>\n",
       "      <td>0.000000</td>\n",
       "      <td>0.000000</td>\n",
       "      <td>0.000000</td>\n",
       "      <td>0.000000</td>\n",
       "      <td>1.000000</td>\n",
       "      <td>14960202</td>\n",
       "      <td>1008.0</td>\n",
       "      <td>1032.0</td>\n",
       "      <td>0.0</td>\n",
       "      <td>24.0</td>\n",
       "      <td>5955</td>\n",
       "      <td>Other</td>\n",
       "      <td>2</td>\n",
       "      <td>7.802343</td>\n",
       "      <td>0.0</td>\n",
       "    </tr>\n",
       "    <tr>\n",
       "      <th>3</th>\n",
       "      <td>751790</td>\n",
       "      <td>0.000000</td>\n",
       "      <td>0.000000</td>\n",
       "      <td>1.000000</td>\n",
       "      <td>0.000000</td>\n",
       "      <td>0.000000</td>\n",
       "      <td>0.000000</td>\n",
       "      <td>618728447</td>\n",
       "      <td>908.0</td>\n",
       "      <td>908.0</td>\n",
       "      <td>0.0</td>\n",
       "      <td>0.0</td>\n",
       "      <td>38549</td>\n",
       "      <td>GPD</td>\n",
       "      <td>1</td>\n",
       "      <td>7.802343</td>\n",
       "      <td>0.0</td>\n",
       "    </tr>\n",
       "    <tr>\n",
       "      <th>4</th>\n",
       "      <td>778705</td>\n",
       "      <td>0.000000</td>\n",
       "      <td>0.000000</td>\n",
       "      <td>0.000000</td>\n",
       "      <td>0.000000</td>\n",
       "      <td>0.000000</td>\n",
       "      <td>1.000000</td>\n",
       "      <td>52296320</td>\n",
       "      <td>0.0</td>\n",
       "      <td>0.0</td>\n",
       "      <td>0.0</td>\n",
       "      <td>0.0</td>\n",
       "      <td>40955</td>\n",
       "      <td>Other</td>\n",
       "      <td>2</td>\n",
       "      <td>7.802343</td>\n",
       "      <td>0.0</td>\n",
       "    </tr>\n",
       "    <tr>\n",
       "      <th>5</th>\n",
       "      <td>1629671</td>\n",
       "      <td>1.000000</td>\n",
       "      <td>0.000000</td>\n",
       "      <td>0.000000</td>\n",
       "      <td>0.000000</td>\n",
       "      <td>0.000000</td>\n",
       "      <td>0.000000</td>\n",
       "      <td>2036345030</td>\n",
       "      <td>0.0</td>\n",
       "      <td>160.0</td>\n",
       "      <td>0.0</td>\n",
       "      <td>160.0</td>\n",
       "      <td>37481</td>\n",
       "      <td>Seizure</td>\n",
       "      <td>51</td>\n",
       "      <td>7.802343</td>\n",
       "      <td>0.0</td>\n",
       "    </tr>\n",
       "    <tr>\n",
       "      <th>6</th>\n",
       "      <td>1895581</td>\n",
       "      <td>0.076923</td>\n",
       "      <td>0.000000</td>\n",
       "      <td>0.000000</td>\n",
       "      <td>0.000000</td>\n",
       "      <td>0.076923</td>\n",
       "      <td>0.846154</td>\n",
       "      <td>128369999</td>\n",
       "      <td>1138.0</td>\n",
       "      <td>1138.0</td>\n",
       "      <td>0.0</td>\n",
       "      <td>0.0</td>\n",
       "      <td>47999</td>\n",
       "      <td>Other</td>\n",
       "      <td>13</td>\n",
       "      <td>4.847483</td>\n",
       "      <td>1.0</td>\n",
       "    </tr>\n",
       "    <tr>\n",
       "      <th>7</th>\n",
       "      <td>2061593</td>\n",
       "      <td>0.000000</td>\n",
       "      <td>0.000000</td>\n",
       "      <td>0.000000</td>\n",
       "      <td>0.000000</td>\n",
       "      <td>0.000000</td>\n",
       "      <td>1.000000</td>\n",
       "      <td>320962633</td>\n",
       "      <td>1450.0</td>\n",
       "      <td>1450.0</td>\n",
       "      <td>0.0</td>\n",
       "      <td>0.0</td>\n",
       "      <td>23828</td>\n",
       "      <td>Other</td>\n",
       "      <td>1</td>\n",
       "      <td>7.802343</td>\n",
       "      <td>0.0</td>\n",
       "    </tr>\n",
       "    <tr>\n",
       "      <th>8</th>\n",
       "      <td>2078097</td>\n",
       "      <td>0.000000</td>\n",
       "      <td>0.000000</td>\n",
       "      <td>0.000000</td>\n",
       "      <td>0.000000</td>\n",
       "      <td>0.000000</td>\n",
       "      <td>1.000000</td>\n",
       "      <td>2074135650</td>\n",
       "      <td>3342.0</td>\n",
       "      <td>3342.0</td>\n",
       "      <td>0.0</td>\n",
       "      <td>0.0</td>\n",
       "      <td>61174</td>\n",
       "      <td>Other</td>\n",
       "      <td>2</td>\n",
       "      <td>7.802343</td>\n",
       "      <td>0.0</td>\n",
       "    </tr>\n",
       "    <tr>\n",
       "      <th>9</th>\n",
       "      <td>2366870</td>\n",
       "      <td>0.000000</td>\n",
       "      <td>0.333333</td>\n",
       "      <td>0.000000</td>\n",
       "      <td>0.000000</td>\n",
       "      <td>0.000000</td>\n",
       "      <td>0.666667</td>\n",
       "      <td>1232582129</td>\n",
       "      <td>0.0</td>\n",
       "      <td>30.0</td>\n",
       "      <td>0.0</td>\n",
       "      <td>30.0</td>\n",
       "      <td>23633</td>\n",
       "      <td>Other</td>\n",
       "      <td>18</td>\n",
       "      <td>6.134196</td>\n",
       "      <td>0.0</td>\n",
       "    </tr>\n",
       "    <tr>\n",
       "      <th>10</th>\n",
       "      <td>2482631</td>\n",
       "      <td>0.000000</td>\n",
       "      <td>0.000000</td>\n",
       "      <td>0.133333</td>\n",
       "      <td>0.066667</td>\n",
       "      <td>0.133333</td>\n",
       "      <td>0.666667</td>\n",
       "      <td>978166025</td>\n",
       "      <td>1902.0</td>\n",
       "      <td>1944.0</td>\n",
       "      <td>0.0</td>\n",
       "      <td>42.0</td>\n",
       "      <td>20606</td>\n",
       "      <td>Other</td>\n",
       "      <td>105</td>\n",
       "      <td>3.236383</td>\n",
       "      <td>1.0</td>\n",
       "    </tr>\n",
       "    <tr>\n",
       "      <th>11</th>\n",
       "      <td>2521897</td>\n",
       "      <td>0.000000</td>\n",
       "      <td>0.000000</td>\n",
       "      <td>0.083333</td>\n",
       "      <td>0.083333</td>\n",
       "      <td>0.333333</td>\n",
       "      <td>0.500000</td>\n",
       "      <td>673742515</td>\n",
       "      <td>0.0</td>\n",
       "      <td>4.0</td>\n",
       "      <td>0.0</td>\n",
       "      <td>4.0</td>\n",
       "      <td>62117</td>\n",
       "      <td>Other</td>\n",
       "      <td>24</td>\n",
       "      <td>3.172763</td>\n",
       "      <td>1.0</td>\n",
       "    </tr>\n",
       "    <tr>\n",
       "      <th>12</th>\n",
       "      <td>2918824</td>\n",
       "      <td>1.000000</td>\n",
       "      <td>0.000000</td>\n",
       "      <td>0.000000</td>\n",
       "      <td>0.000000</td>\n",
       "      <td>0.000000</td>\n",
       "      <td>0.000000</td>\n",
       "      <td>1211648246</td>\n",
       "      <td>3462.0</td>\n",
       "      <td>3462.0</td>\n",
       "      <td>0.0</td>\n",
       "      <td>0.0</td>\n",
       "      <td>14965</td>\n",
       "      <td>Seizure</td>\n",
       "      <td>2</td>\n",
       "      <td>7.802343</td>\n",
       "      <td>0.0</td>\n",
       "    </tr>\n",
       "    <tr>\n",
       "      <th>13</th>\n",
       "      <td>3108700</td>\n",
       "      <td>0.000000</td>\n",
       "      <td>0.000000</td>\n",
       "      <td>0.000000</td>\n",
       "      <td>0.000000</td>\n",
       "      <td>0.000000</td>\n",
       "      <td>1.000000</td>\n",
       "      <td>223960986</td>\n",
       "      <td>0.0</td>\n",
       "      <td>0.0</td>\n",
       "      <td>0.0</td>\n",
       "      <td>0.0</td>\n",
       "      <td>55677</td>\n",
       "      <td>Other</td>\n",
       "      <td>3</td>\n",
       "      <td>7.802343</td>\n",
       "      <td>0.0</td>\n",
       "    </tr>\n",
       "    <tr>\n",
       "      <th>14</th>\n",
       "      <td>3625731</td>\n",
       "      <td>0.000000</td>\n",
       "      <td>0.000000</td>\n",
       "      <td>0.000000</td>\n",
       "      <td>0.000000</td>\n",
       "      <td>1.000000</td>\n",
       "      <td>0.000000</td>\n",
       "      <td>2091405434</td>\n",
       "      <td>0.0</td>\n",
       "      <td>0.0</td>\n",
       "      <td>0.0</td>\n",
       "      <td>0.0</td>\n",
       "      <td>6935</td>\n",
       "      <td>GRDA</td>\n",
       "      <td>1</td>\n",
       "      <td>7.802343</td>\n",
       "      <td>0.0</td>\n",
       "    </tr>\n",
       "  </tbody>\n",
       "</table>\n",
       "</div>"
      ],
      "text/plain": [
       "     eeg_id  seizure_vote  lpd_vote  gpd_vote  lrda_vote  grda_vote  \\\n",
       "0    568657      0.000000  0.000000  0.250000   0.000000   0.166667   \n",
       "1    582999      0.000000  0.857143  0.000000   0.071429   0.000000   \n",
       "2    642382      0.000000  0.000000  0.000000   0.000000   0.000000   \n",
       "3    751790      0.000000  0.000000  1.000000   0.000000   0.000000   \n",
       "4    778705      0.000000  0.000000  0.000000   0.000000   0.000000   \n",
       "5   1629671      1.000000  0.000000  0.000000   0.000000   0.000000   \n",
       "6   1895581      0.076923  0.000000  0.000000   0.000000   0.076923   \n",
       "7   2061593      0.000000  0.000000  0.000000   0.000000   0.000000   \n",
       "8   2078097      0.000000  0.000000  0.000000   0.000000   0.000000   \n",
       "9   2366870      0.000000  0.333333  0.000000   0.000000   0.000000   \n",
       "10  2482631      0.000000  0.000000  0.133333   0.066667   0.133333   \n",
       "11  2521897      0.000000  0.000000  0.083333   0.083333   0.333333   \n",
       "12  2918824      1.000000  0.000000  0.000000   0.000000   0.000000   \n",
       "13  3108700      0.000000  0.000000  0.000000   0.000000   0.000000   \n",
       "14  3625731      0.000000  0.000000  0.000000   0.000000   1.000000   \n",
       "\n",
       "    other_vote  spectrogram_id     min     max  eeg_off_min  eeg_off_max  \\\n",
       "0     0.583333       789577333     0.0    16.0          0.0         16.0   \n",
       "1     0.071429      1552638400     0.0    38.0          0.0         38.0   \n",
       "2     1.000000        14960202  1008.0  1032.0          0.0         24.0   \n",
       "3     0.000000       618728447   908.0   908.0          0.0          0.0   \n",
       "4     1.000000        52296320     0.0     0.0          0.0          0.0   \n",
       "5     0.000000      2036345030     0.0   160.0          0.0        160.0   \n",
       "6     0.846154       128369999  1138.0  1138.0          0.0          0.0   \n",
       "7     1.000000       320962633  1450.0  1450.0          0.0          0.0   \n",
       "8     1.000000      2074135650  3342.0  3342.0          0.0          0.0   \n",
       "9     0.666667      1232582129     0.0    30.0          0.0         30.0   \n",
       "10    0.666667       978166025  1902.0  1944.0          0.0         42.0   \n",
       "11    0.500000       673742515     0.0     4.0          0.0          4.0   \n",
       "12    0.000000      1211648246  3462.0  3462.0          0.0          0.0   \n",
       "13    1.000000       223960986     0.0     0.0          0.0          0.0   \n",
       "14    0.000000      2091405434     0.0     0.0          0.0          0.0   \n",
       "\n",
       "    patient_id   target  total_votes  average_entropy  is_hard  \n",
       "0        20654    Other           48         4.584192      1.0  \n",
       "1        20230      LPD          154         4.870032      1.0  \n",
       "2         5955    Other            2         7.802343      0.0  \n",
       "3        38549      GPD            1         7.802343      0.0  \n",
       "4        40955    Other            2         7.802343      0.0  \n",
       "5        37481  Seizure           51         7.802343      0.0  \n",
       "6        47999    Other           13         4.847483      1.0  \n",
       "7        23828    Other            1         7.802343      0.0  \n",
       "8        61174    Other            2         7.802343      0.0  \n",
       "9        23633    Other           18         6.134196      0.0  \n",
       "10       20606    Other          105         3.236383      1.0  \n",
       "11       62117    Other           24         3.172763      1.0  \n",
       "12       14965  Seizure            2         7.802343      0.0  \n",
       "13       55677    Other            3         7.802343      0.0  \n",
       "14        6935     GRDA            1         7.802343      0.0  "
      ]
     },
     "execution_count": 12,
     "metadata": {},
     "output_type": "execute_result"
    }
   ],
   "source": [
    "train_csv = pd.read_csv(PATHS.TRAIN_CSV)\n",
    "targets = train_csv.columns[-6:].tolist()\n",
    "\n",
    "print(\"targets: \", targets)\n",
    "\n",
    "train_csv['total_votes'] = train_csv[targets].sum(axis=1)\n",
    "\n",
    "targets_prob = [f\"{t.split('_')[0]}_prob\" for t in targets]\n",
    "train_csv[targets_prob] = train_csv[targets].div(train_csv['total_votes'], axis=0)\n",
    "\n",
    "train_csv['entropy'] = train_csv[targets_prob].apply(lambda row: sum(rel_entr([1/6]*6, row.values+1e-5)), axis=1)\n",
    "train_csv['is_hard'] = (train_csv['entropy'] < 5.5).astype(int)\n",
    "\n",
    "train_all = get_non_overlap(train_csv, targets)\n",
    "train_hard = get_non_overlap(train_csv[train_csv['is_hard'] == 1].copy().reset_index(), targets)\n",
    "\n",
    "print(\"train_all: \", train_all.shape)\n",
    "print(\"hard samples: \", train_hard.shape)\n",
    "\n",
    "train_all.head(15)"
   ]
  },
  {
   "cell_type": "code",
   "execution_count": 13,
   "metadata": {},
   "outputs": [],
   "source": [
    "ModelConfig.MODEL_BACKBONE = 'reset_gru'\n",
    "ModelConfig.MODEL_NAME = \"EEGSeq_Wavenet\"\n",
    "ModelConfig.BATCH_SIZE = 16\n",
    "ModelConfig.GRADIENT_ACCUMULATION_STEPS = 1\n",
    "ModelConfig.EPOCHS = 30\n",
    "ModelConfig.DROP_RATE = 0.1\n",
    "ModelConfig.EARLY_STOP_ROUNDS = 5\n",
    "\n",
    "ModelConfig.RESNET_GRU_HIDDEN_SIZE = 424 # 448\n",
    "ModelConfig.RESNET_GRU_INPUT_SIZE = 8\n",
    "ModelConfig.RESNET_GRU_N_BLOCKS = 9\n",
    "ModelConfig.RESNET_GRU_KERNELS = [3, 5, 7, 9] # [3, 5, 7, 9, 11]\n",
    "ModelConfig.RESNET_GRU_FIXED_KERNEL_SIZE = 5\n",
    "ModelConfig.RESNET_GRU_DROPOUT = 0.0\n",
    "ModelConfig.RESNET_GRU_DOWNSAMPLE = None # None\n",
    "\n",
    "logger = get_logger(PATHS.OUTPUT_DIR, f\"{ModelConfig.MODEL_NAME}_train.log\")"
   ]
  },
  {
   "cell_type": "markdown",
   "metadata": {},
   "source": [
    "# Dataset"
   ]
  },
  {
   "cell_type": "code",
   "execution_count": 14,
   "metadata": {},
   "outputs": [],
   "source": [
    "def butter_bandpass_filter(data, lowcut, highcut, fs, order=5):\n",
    "    b, a = butter(order, [lowcut, highcut], fs=fs, btype='band')\n",
    "    y = lfilter(b, a, data)\n",
    "    return y\n",
    "\n",
    "def denoise_filter(x):\n",
    "    # Sample rate and desired cutoff frequencies (in Hz).\n",
    "    fs = 200.0\n",
    "    lowcut = 1.0\n",
    "    highcut = 25.0\n",
    "    \n",
    "    # Filter a noisy signal.\n",
    "    T = 50\n",
    "    nsamples = T * fs\n",
    "    t = np.arange(0, nsamples) / fs\n",
    "    y = butter_bandpass_filter(x, lowcut, highcut, fs, order=6)\n",
    "    y = (y + np.roll(y,-1)+ np.roll(y,-2)+ np.roll(y,-3))/4\n",
    "    y = y[0:-1:4]\n",
    "    \n",
    "    return y\n",
    "\n",
    "def mu_law_encoding(data, mu):\n",
    "    mu_x = np.sign(data) * np.log(1 + mu * np.abs(data)) / np.log(mu + 1)\n",
    "    return mu_x\n",
    "\n",
    "def mu_law_expansion(data, mu):\n",
    "    s = np.sign(data) * (np.exp(np.abs(data) * np.log(mu + 1)) - 1) / mu\n",
    "    return s\n",
    "\n",
    "def quantize_data(data, classes):\n",
    "    mu_x = mu_law_encoding(data, classes)\n",
    "    return mu_x #quantized\n",
    "\n",
    "def butter_lowpass_filter(data, cutoff_freq=20, sampling_rate=200, order=4):\n",
    "    nyquist = 0.5 * sampling_rate\n",
    "    normal_cutoff = cutoff_freq / nyquist\n",
    "    b, a = butter(order, normal_cutoff, btype='low', analog=False)\n",
    "    filtered_data = lfilter(b, a, data, axis=0)\n",
    "    return filtered_data\n"
   ]
  },
  {
   "cell_type": "code",
   "execution_count": 15,
   "metadata": {},
   "outputs": [],
   "source": [
    "class EEGSeqDataset(Dataset):\n",
    "    def __init__(self, df, config, eegs, mode='train', verbose=False):\n",
    "        self.df = df\n",
    "        self.mode = mode\n",
    "        self.eegs = eegs\n",
    "        self.verbose = verbose\n",
    "    \n",
    "    def __len__(self):\n",
    "        return len(self.df)\n",
    "\n",
    "    def __getitem__(self, idx):\n",
    "        \n",
    "        X, y_prob = self.__data_generation(idx)\n",
    "        \n",
    "        return torch.tensor(X, dtype=torch.float32), torch.tensor(y_prob, dtype=torch.float32)\n",
    "    \n",
    "    def __data_generation(self, index):\n",
    "        row = self.df.iloc[index]\n",
    "\n",
    "        if self.verbose:\n",
    "            print(f\"Row {index}\", row[['eeg_id', 'eeg_off_min', 'eeg_off_max', 'target']].tolist())\n",
    "\n",
    "        X = np.zeros((10_000, 8), dtype='float32')\n",
    "        \n",
    "        if self.mode == 'train':\n",
    "            start_sec = int((row['eeg_off_min'] + row['eeg_off_max']) // 2)\n",
    "            data = self.eegs[row.eeg_id][start_sec*200 : (start_sec+50)*200]\n",
    "        else:\n",
    "            data = self.eegs[row.eeg_id]\n",
    "\n",
    "        # === Feature engineering ===\n",
    "        X[:,0] = data[:,EEF_FEAT_INDEX['Fp1']] - data[:,EEF_FEAT_INDEX['T3']]\n",
    "        X[:,1] = data[:,EEF_FEAT_INDEX['T3']] - data[:,EEF_FEAT_INDEX['O1']]\n",
    "\n",
    "        X[:,2] = data[:,EEF_FEAT_INDEX['Fp1']] - data[:,EEF_FEAT_INDEX['C3']]\n",
    "        X[:,3] = data[:,EEF_FEAT_INDEX['C3']] - data[:,EEF_FEAT_INDEX['O1']]\n",
    "\n",
    "        X[:,4] = data[:,EEF_FEAT_INDEX['Fp2']] - data[:,EEF_FEAT_INDEX['C4']]\n",
    "        X[:,5] = data[:,EEF_FEAT_INDEX['C4']] - data[:,EEF_FEAT_INDEX['O2']]\n",
    "\n",
    "        X[:,6] = data[:,EEF_FEAT_INDEX['Fp2']] - data[:,EEF_FEAT_INDEX['T4']]\n",
    "        X[:,7] = data[:,EEF_FEAT_INDEX['T4']] - data[:,EEF_FEAT_INDEX['O2']]\n",
    "\n",
    "        # === Standarize ===\n",
    "        X = np.clip(X,-1024, 1024)\n",
    "        X = np.nan_to_num(X, nan=0) / 32.0\n",
    "\n",
    "        # === Butter Low-pass Filter ===\n",
    "        # !!! change to bandpass filter (low=0.5, hight=20, order=2) !!!\n",
    "        # X = butter_lowpass_filter(X)\n",
    "        X = butter_bandpass_filter(X, .5, 20, 200, order=2)\n",
    "\n",
    "        if self.mode != 'test':\n",
    "            y_prob = row[TARGETS].values.astype(np.float32)\n",
    "        else:\n",
    "            y_prob = np.zeros(6, dtype='float32')\n",
    "\n",
    "        return X, y_prob\n"
   ]
  },
  {
   "cell_type": "code",
   "execution_count": 16,
   "metadata": {},
   "outputs": [],
   "source": [
    "# visualize the dataset\n",
    "\n",
    "# train_dataset = EEGSeqDataset(train_all, ModelConfig, ALL_EEG_SIGNALS, mode=\"train\")\n",
    "# train_loader = DataLoader(train_dataset, drop_last=True, batch_size=16, num_workers=4, pin_memory=True, shuffle=False)\n",
    "\n",
    "# for batch in train_loader:\n",
    "#     X, y = batch\n",
    "#     print(f\"X shape: {X.shape}\")\n",
    "#     print(f\"y shape: {y.shape}\")\n",
    "    \n",
    "    # fig, axes = plt.subplots(4, 1, figsize=(20, 20))\n",
    "    # for item in range(4):\n",
    "    #     offset = 0\n",
    "    #     for col in range(X.shape[-1]):\n",
    "    #         if col != 0:\n",
    "    #             offset -= X[item,:,col].min()\n",
    "    #         axes[item].plot(np.arange(X.shape[1]), X[item,:,col]+offset, label=f'feature {col+1}')\n",
    "    #         offset += X[item,:,col].max()\n",
    "    #     tt = f'{y[col][0]:0.1f}'\n",
    "    #     for t in y[col][1:]:\n",
    "    #         tt += f', {t:0.1f}'\n",
    "    #     axes[item].set_title(f'Target = {tt}',size=14)\n",
    "    #     axes[item].legend()\n",
    "    # fig.tight_layout()\n",
    "    # plt.show()\n",
    "    # break"
   ]
  },
  {
   "cell_type": "markdown",
   "metadata": {},
   "source": [
    "# Model"
   ]
  },
  {
   "cell_type": "code",
   "execution_count": 17,
   "metadata": {},
   "outputs": [],
   "source": [
    "class SeqGRUEncoder(nn.Module):\n",
    "    def __init__(self, in_channels, hidden_size=128, num_layers=2, bidirectional=True):\n",
    "        super(SeqGRUEncoder, self).__init__()\n",
    "\n",
    "        self.in_channels = in_channels\n",
    "\n",
    "        # Initialize the GRU to have 128 hidden units per direction and to be bidirectional\n",
    "        self.rnn = nn.GRU(\n",
    "            input_size=in_channels, \n",
    "            hidden_size=hidden_size, \n",
    "            num_layers=num_layers,\n",
    "            bidirectional=bidirectional, \n",
    "            batch_first=True\n",
    "        )\n",
    "        \n",
    "        # Initialize the attention mechanism\n",
    "        if bidirectional:\n",
    "            emb_dim = 2 * hidden_size\n",
    "        else:\n",
    "            emb_dim = hidden_size\n",
    "        \n",
    "        self.attention_dense = nn.Linear(emb_dim, 1)\n",
    "        self.softmax = nn.Softmax(dim=-1)\n",
    "\n",
    "    def forward(self, x):\n",
    "        # x shape: [batch, seq_len, in_channels]\n",
    "        rnn_out, _ = self.rnn(x)  # -> [batch, seq_len, emb_dim]\n",
    "        identity = rnn_out\n",
    "        scores = self.attention_dense(rnn_out).squeeze(-1)\n",
    "        scores = self.softmax(scores).unsqueeze(1)\n",
    "        pooled_out = torch.matmul(scores, identity).squeeze(1)\n",
    "        # -> [batch_size, emb_dim]\n",
    "        return pooled_out"
   ]
  },
  {
   "cell_type": "code",
   "execution_count": 18,
   "metadata": {},
   "outputs": [],
   "source": [
    "class ResNet_1D_Block(nn.Module):\n",
    "    def __init__(self, in_channels, out_channels, kernel_size, stride, padding, downsampling, dropout=0.0):\n",
    "        super(ResNet_1D_Block, self).__init__()\n",
    "        self.block = nn.Sequential(\n",
    "            nn.BatchNorm1d(num_features=in_channels),\n",
    "            nn.ReLU(),\n",
    "            nn.Dropout(p=dropout),\n",
    "            nn.Conv1d(in_channels, out_channels, kernel_size, stride, padding, bias=False),\n",
    "            nn.BatchNorm1d(num_features=out_channels),\n",
    "            nn.ReLU(),\n",
    "            nn.Dropout(p=dropout),\n",
    "            nn.Conv1d(out_channels, out_channels, kernel_size, stride, padding, bias=False),\n",
    "            nn.MaxPool1d(kernel_size=2, stride=2, padding=0)\n",
    "        )\n",
    "        self.downsampling = downsampling\n",
    "\n",
    "    def forward(self, x):\n",
    "        identity = self.downsampling(x)\n",
    "        out = self.block(x)\n",
    "        out += identity\n",
    "        return out\n",
    "    \n",
    "class ResNet_1D_Encoder(nn.Module):\n",
    "    def __init__(self, kernels=[3,7,9,11], planes=24, in_channels=8, fixed_kernel_size=5, n_blocks=9, dropout=0.0):\n",
    "        super(ResNet_1D_Encoder, self).__init__()\n",
    "\n",
    "        self.parallel_conv = nn.ModuleList([\n",
    "            nn.Conv1d(\n",
    "                in_channels=in_channels, \n",
    "                out_channels=planes, \n",
    "                kernel_size=kernel_size,\n",
    "                stride=1, \n",
    "                padding=0, \n",
    "                bias=False\n",
    "            ) for kernel_size in kernels\n",
    "        ])\n",
    "\n",
    "        self.resnet_layer = ResNet_1D_Block(\n",
    "            in_channels=planes, \n",
    "            out_channels=planes, \n",
    "            kernel_size=fixed_kernel_size,\n",
    "            stride=1, \n",
    "            padding=fixed_kernel_size//2, \n",
    "            downsampling=nn.MaxPool1d(kernel_size=2, stride=2, padding=0),\n",
    "            dropout=dropout\n",
    "        )\n",
    "        \n",
    "        self.resnet_part = nn.Sequential(\n",
    "            nn.BatchNorm1d(num_features=planes),\n",
    "            nn.ReLU(inplace=False),\n",
    "            nn.Conv1d(\n",
    "                in_channels=planes, \n",
    "                out_channels=planes, \n",
    "                kernel_size=fixed_kernel_size, \n",
    "                stride=2, \n",
    "                padding=2, \n",
    "                bias=False\n",
    "            ),\n",
    "            *[self.resnet_layer for _ in range(n_blocks)],\n",
    "            nn.BatchNorm1d(num_features=planes),\n",
    "            nn.ReLU(),\n",
    "            nn.AvgPool1d(kernel_size=6, stride=6, padding=2)\n",
    "        )\n",
    "\n",
    "    def forward(self, x):\n",
    "        # x shape: [batch, seq_len, in_channels]\n",
    "        print(\"Resnet Input Shape: \", x.shape)\n",
    "        x = x.permute(0, 2, 1)  # (batch, channels, seq_len)\n",
    "       \n",
    "        out_sep = [conv(x) for conv in self.parallel_conv]\n",
    "        out = torch.cat(out_sep, dim=2)\n",
    "        out = self.resnet_part(out)\n",
    "        \n",
    "        # Return the flattened features from the last convolutional layer\n",
    "        features = out.reshape(out.shape[0], -1)\n",
    "        return features\n"
   ]
  },
  {
   "cell_type": "code",
   "execution_count": 19,
   "metadata": {},
   "outputs": [],
   "source": [
    "from typing import List\n",
    "\n",
    "class DilatedInception(nn.Module):\n",
    "    def __init__(self, in_channels: int, out_channels: int, kernel_sizes: List[int], dilation: int) -> None:\n",
    "        super().__init__()\n",
    "        assert out_channels % len(kernel_sizes) == 0, \"`out_channels` must be divisible by the number of kernel sizes.\"\n",
    "        hidden_dim = out_channels // len(kernel_sizes)\n",
    "        self.convs = nn.ModuleList([\n",
    "            nn.Conv1d(in_channels, hidden_dim, k, padding='same', dilation=dilation)\n",
    "            for k in kernel_sizes\n",
    "        ])\n",
    "\n",
    "    def forward(self, x):\n",
    "        outputs = [conv(x) for conv in self.convs]\n",
    "        out = torch.cat(outputs, dim=1)\n",
    "        return out\n",
    "\n",
    "class GatedTCN(nn.Module):\n",
    "    def __init__(self, in_dim: int, h_dim: int, kernel_sizes: List[int], dilation_factor: int, dropout: float = 0.0) -> None:\n",
    "        super().__init__()\n",
    "        self.filt = DilatedInception(in_dim, h_dim, kernel_sizes, dilation=dilation_factor)\n",
    "        self.gate = DilatedInception(in_dim, h_dim, kernel_sizes, dilation=dilation_factor)\n",
    "        self.dropout = nn.Dropout(dropout)\n",
    "\n",
    "    def forward(self, x):\n",
    "        x_filt = torch.tanh(self.filt(x))\n",
    "        x_gate = torch.sigmoid(self.gate(x))\n",
    "        h = x_filt * x_gate\n",
    "        h = self.dropout(h)\n",
    "        return h\n",
    "\n",
    "class WaveBlock(nn.Module):\n",
    "    def __init__(self, n_layers: int, in_dim: int, h_dim: int, kernel_sizes: List[int]) -> None:\n",
    "        super().__init__()\n",
    "        self.dilation_rates = [2**i for i in range(n_layers)]\n",
    "        self.in_conv = nn.Conv1d(in_dim, h_dim, kernel_size=1)\n",
    "        self.gated_tcns = nn.ModuleList([\n",
    "            GatedTCN(h_dim, h_dim, kernel_sizes, dilation)\n",
    "            for dilation in self.dilation_rates\n",
    "        ])\n",
    "        self.skip_convs = nn.ModuleList([\n",
    "            nn.Conv1d(h_dim, h_dim, kernel_size=1)\n",
    "            for _ in range(n_layers)\n",
    "            ])\n",
    "        self._initialize_weights()\n",
    "\n",
    "    def _initialize_weights(self):\n",
    "        nn.init.xavier_uniform_(self.in_conv.weight, gain=nn.init.calculate_gain('relu'))\n",
    "        nn.init.zeros_(self.in_conv.bias)\n",
    "        for conv in self.skip_convs:\n",
    "            nn.init.xavier_uniform_(conv.weight, gain=nn.init.calculate_gain('relu'))\n",
    "            nn.init.zeros_(conv.bias)\n",
    "\n",
    "    def forward(self, x):\n",
    "        # x: (B, C, L)\n",
    "        x = self.in_conv(x)\n",
    "        x_skip = x\n",
    "        for gated_tcn, skip_conv in zip(self.gated_tcns, self.skip_convs):\n",
    "            x = gated_tcn(x)\n",
    "            x = skip_conv(x)\n",
    "            x_skip = x_skip + x\n",
    "        return x_skip\n",
    "\n",
    "class DilatedWaveNet(nn.Module):\n",
    "    \"\"\"WaveNet architecture with dilated inception conv, enhanced with list comprehension for input processing.\"\"\"\n",
    "\n",
    "    def __init__(self, kernel_sizes: List[int]) -> None:\n",
    "        super().__init__()\n",
    "        self.kernel_sizes = kernel_sizes\n",
    "        \n",
    "        # Initialize wave blocks with specified kernel sizes\n",
    "        self.wave_module = nn.Sequential(\n",
    "            WaveBlock(12, 1, 16, self.kernel_sizes),\n",
    "            WaveBlock(8, 16, 32, self.kernel_sizes),\n",
    "            WaveBlock(4, 32, 64, self.kernel_sizes),\n",
    "            WaveBlock(1, 64, 64, self.kernel_sizes),\n",
    "        )\n",
    "        self.pool_layer = nn.AdaptiveAvgPool1d(1)\n",
    "\n",
    "    def forward(self, x) -> torch.Tensor:\n",
    "        # x: (B, L, C)\n",
    "        bs, seq_len, n_channels = x.shape\n",
    "        x = x.permute(0, 2, 1) # -> (B, C, L)\n",
    "        # Process different parts of the input with list comprehension\n",
    "        pooled_outputs = [\n",
    "            (\n",
    "                self.pool_layer(self.wave_module(x[:, i:i+1])) + \n",
    "                self.pool_layer(self.wave_module(x[:, i+1:i+2]))\n",
    "            ) / 2\n",
    "            for i in range(0, n_channels, 2)\n",
    "        ]\n",
    "\n",
    "        # Combine the pooled features and reshape for classification\n",
    "        features = torch.cat(pooled_outputs, dim=1).reshape(bs, -1)\n",
    "       \n",
    "        return features"
   ]
  },
  {
   "cell_type": "code",
   "execution_count": 20,
   "metadata": {},
   "outputs": [],
   "source": [
    "class EEGSeqClassifier(nn.Module):\n",
    "    def __init__(self, config, num_classes=6):\n",
    "        super(EEGSeqClassifier, self).__init__()\n",
    "\n",
    "        # downsample layer (by a factor of 2)\n",
    "        self.ds_layer = nn.Conv1d(in_channels=8, out_channels=8, kernel_size=3, stride=2, padding=1)\n",
    "        \n",
    "        # self.seqgru = SeqGRUEncoder(in_channels=8, hidden_size=128, num_layers=2, bidirectional=True)\n",
    "        # self.resnet = ResNet_1D_Encoder(\n",
    "        #     kernels=[3, 7, 9, 11], \n",
    "        #     planes=24, \n",
    "        #     in_channels=8, \n",
    "        #     fixed_kernel_size=5, \n",
    "        #     n_blocks=8, \n",
    "        #     dropout=0.0\n",
    "        # )\n",
    "        self.wavenet = DilatedWaveNet(kernel_sizes=[2, 3, 6, 7])\n",
    "\n",
    "        self.predict_head = nn.Linear(64*4, num_classes)\n",
    "\n",
    "    def forward(self, x):\n",
    "        # x shape: [batch, seq_len, in_channels]\n",
    "        x = self.ds_layer(x.permute(0, 2, 1)) # ->(batch, channels, seq_len)\n",
    "        x = x.permute(0, 2, 1)\n",
    "        # resnet_out = self.resnet(x)\n",
    "        # seqgru_out = self.seqgru(x)\n",
    "        wavenet_out = self.wavenet(x)\n",
    "        \n",
    "        # features = torch.cat([seqgru_out, resnet_out, wavenet_out], dim=1)\n",
    "\n",
    "        logits = self.predict_head(wavenet_out)\n",
    "        return logits"
   ]
  },
  {
   "cell_type": "code",
   "execution_count": 21,
   "metadata": {},
   "outputs": [],
   "source": [
    "# class ResNet_1D_Block(nn.Module):\n",
    "#     def __init__(self, in_channels, out_channels, kernel_size, stride, padding, downsampling, dropout=0.0):\n",
    "#         super(ResNet_1D_Block, self).__init__()\n",
    "#         self.block = nn.Sequential(\n",
    "#             nn.BatchNorm1d(num_features=in_channels),\n",
    "#             nn.ReLU(),\n",
    "#             nn.Dropout(p=dropout),\n",
    "#             nn.Conv1d(in_channels, out_channels, kernel_size, stride, padding, bias=False),\n",
    "#             nn.BatchNorm1d(num_features=out_channels),\n",
    "#             nn.ReLU(),\n",
    "#             nn.Dropout(p=dropout),\n",
    "#             nn.Conv1d(out_channels, out_channels, kernel_size, stride, padding, bias=False),\n",
    "#             nn.MaxPool1d(kernel_size=2, stride=2, padding=0)\n",
    "#         )\n",
    "#         self.downsampling = downsampling\n",
    "\n",
    "#     def forward(self, x):\n",
    "#         identity = self.downsampling(x)\n",
    "#         out = self.block(x)\n",
    "#         out += identity\n",
    "#         return out\n",
    "\n",
    "# class SeqPool(nn.Module):\n",
    "#     def __init__(self, emb_dim):\n",
    "#         super().__init__()\n",
    "#         self.dense = nn.Linear(emb_dim, 1)  # Dense layer to compute attention scores\n",
    "#         self.softmax = nn.Softmax(dim=-1)   # Softmax to normalize scores\n",
    "\n",
    "#     def forward(self, x):\n",
    "#         # x shape: [batch_size, seq_len, emb_dim]\n",
    "#         bs, seq_len, emb_dim = x.shape\n",
    "#         identity = x\n",
    "#         scores = self.dense(x)\n",
    "#         scores = scores.squeeze(-1).softmax(dim=-1)\n",
    "#         scores = scores.unsqueeze(1)\n",
    "#         pooled_output = torch.matmul(scores, identity)\n",
    "#         # Final shape: [batch_size, emb_dim]\n",
    "#         pooled_output = pooled_output.squeeze(1)\n",
    "#         return pooled_output\n",
    "\n",
    "\n",
    "# class SeqGRU(nn.Module):\n",
    "#     def __init__(self, in_channels, ):\n",
    "#         super(SeqGRU, self).__init__()\n",
    "\n",
    "#         self.rnn = nn.GRU(input_size=self.in_channels, hidden_size=128, num_layers=2, bidirectional=True)\n",
    "#         self.seq_pool = SeqPool(emb_dim=256)\n",
    "\n",
    "#     def forward(self, x):\n",
    "\n",
    "#         # x_down = self.downsample_block(x.permute(0, 2, 1))\n",
    "#         rnn_out, _ = self.rnn(x)\n",
    "#         new_rnn_h = self.seq_pool(rnn_out)\n",
    "#         return new_rnn_h\n"
   ]
  },
  {
   "cell_type": "code",
   "execution_count": 22,
   "metadata": {},
   "outputs": [],
   "source": [
    "# # Define ResNetGRU model\n",
    "# class ResNet_1D(nn.Module):\n",
    "\n",
    "#     def __init__(self, config, num_classes=6):\n",
    "#         super(ResNet_1D, self).__init__()\n",
    "\n",
    "#         self.kernels = config.RESNET_GRU_KERNELS\n",
    "#         self.planes = 24\n",
    "#         self.in_channels = config.RESNET_GRU_INPUT_SIZE\n",
    "\n",
    "#         # Define the separate convolutional layers\n",
    "#         self.parallel_conv = nn.ModuleList([\n",
    "#             nn.Conv1d(\n",
    "#                 in_channels=self.in_channels, \n",
    "#                 out_channels=self.planes, \n",
    "#                 kernel_size=kernel_size,\n",
    "#                 stride=1, \n",
    "#                 padding=0, \n",
    "#                 bias=False\n",
    "#             ) for kernel_size in self.kernels\n",
    "#         ])\n",
    "\n",
    "#         fixed_kernel_size = config.RESNET_GRU_FIXED_KERNEL_SIZE\n",
    "\n",
    "#         self.resnet_layer = ResNet_1D_Block(\n",
    "#             in_channels=self.planes, \n",
    "#             out_channels=self.planes, \n",
    "#             kernel_size=fixed_kernel_size,\n",
    "#             stride=1, \n",
    "#             padding=fixed_kernel_size//2, \n",
    "#             downsampling= nn.MaxPool1d(kernel_size=2, stride=2, padding=0),\n",
    "#             dropout=config.RESNET_GRU_DROPOUT\n",
    "#             )\n",
    "        \n",
    "#         # Define the ResNet part of the model\n",
    "#         self.resnet_part = nn.Sequential(\n",
    "#             nn.BatchNorm1d(num_features=self.planes),\n",
    "#             nn.ReLU(inplace=False),\n",
    "#             nn.Conv1d(\n",
    "#                 in_channels=self.planes, \n",
    "#                 out_channels=self.planes, \n",
    "#                 kernel_size=fixed_kernel_size, \n",
    "#                 stride=2, \n",
    "#                 padding=2, \n",
    "#                 bias=False\n",
    "#             ),\n",
    "#             *[self.resnet_layer for _ in range(config.RESNET_GRU_N_BLOCKS)],\n",
    "#             nn.BatchNorm1d(num_features=self.planes),\n",
    "#             nn.ReLU(inplace=False),\n",
    "#             nn.AvgPool1d(kernel_size=6, stride=6, padding=2)\n",
    "#         )\n",
    "\n",
    "#         # Define the final fully connected layer\n",
    "#         self.fc = nn.Linear(in_features=168, out_features=num_classes)\n",
    "\n",
    "#     def forward(self, x):\n",
    "#         x = x.permute(0, 2, 1) # (batch, channels, seq_len)\n",
    "       \n",
    "#         out_sep = [conv(x) for conv in self.parallel_conv]\n",
    "#         out = torch.cat(out_sep, dim=2)\n",
    "#         out = self.resnet_part(out)\n",
    "#         out = out.reshape(out.shape[0], -1)\n",
    "\n",
    "#         result = self.fc(out)\n",
    "#         return result\n",
    "\n",
    "\n",
    "# class ResNetGRU(nn.Module):\n",
    "#     def __init__(self, config, num_classes=6):\n",
    "#         super(ResNetGRU, self).__init__()\n",
    "\n",
    "#         self.kernels = config.RESNET_GRU_KERNELS\n",
    "#         self.planes = 24\n",
    "#         self.in_channels = config.RESNET_GRU_INPUT_SIZE\n",
    "\n",
    "#         # self.downsample_block = nn.Sequential(\n",
    "#         #     nn.Conv1d(\n",
    "#         #         in_channels=self.in_channels, \n",
    "#         #         out_channels=self.in_channels, \n",
    "#         #         kernel_size=5, \n",
    "#         #         stride=5,\n",
    "#         #         dilation=2, \n",
    "#         #         padding=2, \n",
    "#         #     ),\n",
    "#         #     nn.ReLU(),\n",
    "#         #     nn.BatchNorm1d(num_features=self.in_channels)\n",
    "#         # )\n",
    "\n",
    "#         # # Define the separate convolutional layers\n",
    "#         self.parallel_conv = self._make_parallel_conv_layers()\n",
    "\n",
    "#         # Define the ResNet part of the model\n",
    "#         self.resnet_part = self._make_resnet_part(\n",
    "#             config.RESNET_GRU_FIXED_KERNEL_SIZE, config.RESNET_GRU_N_BLOCKS, config.RESNET_GRU_DROPOUT)\n",
    "        \n",
    "#         # Define the GRU part of the model\n",
    "#         self.rnn = nn.GRU(input_size=self.in_channels, hidden_size=128, num_layers=2, bidirectional=True)\n",
    "#         self.seq_pool = SeqPool(emb_dim=256)\n",
    "\n",
    "#         # Define the final fully connected layer\n",
    "#         self.fc = nn.Linear(in_features=424, out_features=num_classes)\n",
    "#         # self.mlp = nn.Sequential(\n",
    "#         #     nn.Linear(in_features=config.RESNET_GRU_HIDDEN_SIZE, out_features=256),\n",
    "#         #     nn.ReLU(inplace=True),\n",
    "#         #     nn.Dropout(p=config.DROP_RATE),\n",
    "#         #     nn.Linear(in_features=256, out_features=num_classes)\n",
    "#         # )\n",
    "\n",
    "#     def _make_parallel_conv_layers(self):\n",
    "#         return nn.ModuleList([\n",
    "#             nn.Conv1d(\n",
    "#                 in_channels=self.in_channels, \n",
    "#                 out_channels=self.planes, \n",
    "#                 kernel_size=kernel_size,\n",
    "#                 stride=1, \n",
    "#                 padding=0, \n",
    "#                 bias=False\n",
    "#             ) for kernel_size in self.kernels\n",
    "#         ])\n",
    "\n",
    "#     def _make_resnet_part(self, fixed_kernel_size, blocks=9, dropout=0.0):\n",
    "#         # prepare resnet layers\n",
    "#         downsampling = nn.MaxPool1d(kernel_size=2, stride=2, padding=0)\n",
    "#         resnet_layers = [\n",
    "#             ResNet_1D_Block(\n",
    "#                 in_channels=self.planes, \n",
    "#                 out_channels=self.planes, \n",
    "#                 kernel_size=fixed_kernel_size, \n",
    "#                 stride=1, \n",
    "#                 padding=fixed_kernel_size//2, \n",
    "#                 downsampling=downsampling,\n",
    "#                 dropout=dropout)\n",
    "#             for _ in range(blocks)\n",
    "#         ]\n",
    "#         # return the resnet encoder\n",
    "#         return nn.Sequential(\n",
    "#             nn.BatchNorm1d(num_features=self.planes),\n",
    "#             nn.ReLU(inplace=False),\n",
    "#             nn.Conv1d(\n",
    "#                 in_channels=self.planes, \n",
    "#                 out_channels=self.planes, \n",
    "#                 kernel_size=fixed_kernel_size, \n",
    "#                 stride=2, \n",
    "#                 padding=2, \n",
    "#                 bias=False\n",
    "#             ),\n",
    "#             *resnet_layers,\n",
    "#             nn.BatchNorm1d(num_features=self.planes),\n",
    "#             nn.ReLU(inplace=False),\n",
    "#             nn.AvgPool1d(kernel_size=6, stride=6, padding=2)\n",
    "#         )\n",
    "    \n",
    "#     def forward(self, x):\n",
    "        \n",
    "#         x = x.permute(0, 2, 1) # (batch, channels, seq_len)\n",
    "#         # x_down = self.downsample_block(x)\n",
    "\n",
    "#         # extract features using resnet \n",
    "#         out_sep = [conv(x) for conv in self.parallel_conv]\n",
    "#         out = torch.cat(out_sep, dim=2)\n",
    "#         out = self.resnet_part(out)\n",
    "#         out = out.reshape(out.shape[0], -1)\n",
    "        \n",
    "#         # extract features using rnn\n",
    "#         rnn_out, _ = self.rnn(x.permute(0, 2, 1))\n",
    "#         new_rnn_h = x = self.seq_pool(rnn_out)\n",
    "\n",
    "#         # # concatenate the features\n",
    "#         new_out = torch.cat([out, new_rnn_h], dim=1) \n",
    "\n",
    "#         # pass through the final fully connected layer\n",
    "#         # result = self.mlp(new_out)\n",
    "#         result = self.fc(new_out)  \n",
    "        \n",
    "#         return result"
   ]
  },
  {
   "cell_type": "code",
   "execution_count": null,
   "metadata": {},
   "outputs": [],
   "source": [
    "train_dataset = EEGSeqDataset(train_all, ModelConfig, ALL_EEG_SIGNALS, mode=\"train\")\n",
    "train_loader = DataLoader(train_dataset, drop_last=True, batch_size=16, num_workers=4, pin_memory=True, shuffle=False)\n",
    "\n",
    "# model = SeqGRU( in_channels=8, hidden_size=128, num_layers=2, bidirectional=True)\n",
    "# model = ResNet_1D_Encoder(in_channels=8)\n",
    "model = EEGSeqClassifier(ModelConfig, num_classes=6)\n",
    "model.to(DEVICE)\n",
    "for i, batch in enumerate(train_loader):\n",
    "    X, y = batch\n",
    "    X = X.to(DEVICE)\n",
    "    y = y.to(DEVICE)\n",
    "    print(f\"X shape: {X.shape}\")\n",
    "    print(f\"y shape: {y.shape}\")\n",
    "    \n",
    "    y_pred = model(X)\n",
    "    print(y_pred.shape)\n",
    "    break "
   ]
  },
  {
   "cell_type": "code",
   "execution_count": 23,
   "metadata": {},
   "outputs": [
    {
     "data": {
      "text/plain": [
       "0"
      ]
     },
     "execution_count": 23,
     "metadata": {},
     "output_type": "execute_result"
    }
   ],
   "source": [
    "# del model, train_dataset, train_loader\n",
    "torch.cuda.empty_cache()\n",
    "gc.collect()"
   ]
  },
  {
   "cell_type": "code",
   "execution_count": 24,
   "metadata": {},
   "outputs": [
    {
     "name": "stdout",
     "output_type": "stream",
     "text": [
      "Fri Mar 29 20:24:47 2024       \n",
      "+-----------------------------------------------------------------------------+\n",
      "| NVIDIA-SMI 470.239.06   Driver Version: 470.239.06   CUDA Version: 11.4     |\n",
      "|-------------------------------+----------------------+----------------------+\n",
      "| GPU  Name        Persistence-M| Bus-Id        Disp.A | Volatile Uncorr. ECC |\n",
      "| Fan  Temp  Perf  Pwr:Usage/Cap|         Memory-Usage | GPU-Util  Compute M. |\n",
      "|                               |                      |               MIG M. |\n",
      "|===============================+======================+======================|\n",
      "|   0  NVIDIA GeForce ...  Off  | 00000000:0B:00.0 Off |                  N/A |\n",
      "| 26%   33C    P8     5W / 260W |   3883MiB / 11019MiB |      0%      Default |\n",
      "|                               |                      |                  N/A |\n",
      "+-------------------------------+----------------------+----------------------+\n",
      "                                                                               \n",
      "+-----------------------------------------------------------------------------+\n",
      "| Processes:                                                                  |\n",
      "|  GPU   GI   CI        PID   Type   Process name                  GPU Memory |\n",
      "|        ID   ID                                                   Usage      |\n",
      "|=============================================================================|\n",
      "|    0   N/A  N/A      1423      G   /usr/lib/xorg/Xorg                  9MiB |\n",
      "|    0   N/A  N/A      1822      G   /usr/bin/gnome-shell                4MiB |\n",
      "|    0   N/A  N/A    415458      C   ...a3/envs/kaggle/bin/python     3865MiB |\n",
      "+-----------------------------------------------------------------------------+\n"
     ]
    }
   ],
   "source": [
    "!nvidia-smi"
   ]
  },
  {
   "cell_type": "code",
   "execution_count": 25,
   "metadata": {},
   "outputs": [],
   "source": [
    "# feature_id = 0\n",
    "# feat = rnn_out.detach().cpu().numpy()\n",
    "# print(feat[0].mean(axis=0).shape)\n",
    "\n",
    "# fig, ax = plt.subplots(2, 1, figsize=(20, 5))\n",
    "# # for i in range(0, feat.shape[1], 16):\n",
    "# #     ax[0].plot(feat[:, i].detach().cpu().numpy())\n",
    "# ax[0].plot(feat[0, -1, :])\n",
    "# ax[0].plot(feat[0].mean(axis=0))\n",
    "# ax[1].plot(resnet_out[0].detach().cpu().numpy())\n",
    "\n",
    "# plt.title(f\"Feature {feature_id}\")\n",
    "# plt.show()"
   ]
  },
  {
   "cell_type": "markdown",
   "metadata": {},
   "source": [
    "# Train"
   ]
  },
  {
   "cell_type": "code",
   "execution_count": 26,
   "metadata": {},
   "outputs": [],
   "source": [
    "import warnings\n",
    "warnings.filterwarnings(\"ignore\")"
   ]
  },
  {
   "cell_type": "code",
   "execution_count": 27,
   "metadata": {},
   "outputs": [],
   "source": [
    "def prepare_k_fold(df, k_folds=5):\n",
    "\n",
    "    kf = KFold(n_splits=k_folds)\n",
    "    unique_spec_id = df['spectrogram_id'].unique()\n",
    "    df['fold'] = k_folds\n",
    "\n",
    "    for fold, (train_index, valid_index) in enumerate(kf.split(unique_spec_id)):\n",
    "        df.loc[df['spectrogram_id'].isin(unique_spec_id[valid_index]), 'fold'] = fold\n",
    "\n",
    "    return df\n",
    "\n",
    "\n",
    "def train_fold(model, fold_id, train_folds, valid_folds, logger, stage=1, checkpoint=None):\n",
    "\n",
    "    train_dataset = EEGSeqDataset(train_folds, ModelConfig, ALL_EEG_SIGNALS, mode=\"train\")\n",
    "    valid_dataset = EEGSeqDataset(valid_folds, ModelConfig, ALL_EEG_SIGNALS, mode=\"valid\")\n",
    "\n",
    "    # ======== DATALOADERS ==========\n",
    "    loader_kwargs = {\n",
    "        \"batch_size\": ModelConfig.BATCH_SIZE,\n",
    "        \"num_workers\": ModelConfig.NUM_WORKERS,\n",
    "        \"pin_memory\": True,\n",
    "        \"shuffle\": False,\n",
    "    }\n",
    "\n",
    "    train_loader = DataLoader(train_dataset, drop_last=True, collate_fn=None, **loader_kwargs)\n",
    "    valid_loader = DataLoader(valid_dataset, drop_last=False, collate_fn=None, **loader_kwargs)\n",
    "\n",
    "    trainer = Trainer(model, ModelConfig, logger)\n",
    "    best_weights, best_preds, loss_records = trainer.train(\n",
    "        train_loader, valid_loader, from_checkpoint=checkpoint)\n",
    "\n",
    "    save_model_name = f\"{ModelConfig.MODEL_NAME}_fold_{fold_id}_stage_{stage}.pth\"\n",
    "    torch.save(best_weights, os.path.join(PATHS.OUTPUT_DIR, save_model_name))\n",
    "\n",
    "    del train_dataset, valid_dataset, train_loader, valid_loader\n",
    "    torch.cuda.empty_cache()\n",
    "    gc.collect()\n",
    "\n",
    "    return best_preds, loss_records"
   ]
  },
  {
   "cell_type": "code",
   "execution_count": 28,
   "metadata": {},
   "outputs": [],
   "source": [
    "k_folds = 5\n",
    "train_all = prepare_k_fold(train_all, k_folds=k_folds)\n",
    "\n",
    "# gkf = GroupKFold(n_splits=k_folds)\n",
    "# for fold, (train_index, valid_index) in enumerate(gkf.split(train_all, train_all.target, train_all.patient_id)):\n",
    "#     train_all.loc[valid_index, \"fold\"] = int(fold)\n",
    "\n",
    "# for fold in range(k_folds):\n",
    "#     print(f\"Fold {fold} = {len(train_all[train_all['fold'] == fold])}\")"
   ]
  },
  {
   "cell_type": "code",
   "execution_count": 29,
   "metadata": {},
   "outputs": [
    {
     "name": "stderr",
     "output_type": "stream",
     "text": [
      "****************************************************************************************************\n",
      "Script Start: Fri Mar 29 20:24:53 2024\n",
      "Model Configurations:\n",
      "SEED: 20\n",
      "SPLIT_ENTROPY: 5.5\n",
      "MODEL_NAME: EEGSeq_Wavenet\n",
      "MODEL_BACKBONE: reset_gru\n",
      "BATCH_SIZE: 16\n",
      "EPOCHS: 30\n",
      "GRADIENT_ACCUMULATION_STEPS: 1\n",
      "DROP_RATE: 0.1\n",
      "DROP_PATH_RATE: 0.25\n",
      "WEIGHT_DECAY: 0.01\n",
      "REGULARIZATION: None\n",
      "USE_KAGGLE_SPECTROGRAMS: True\n",
      "USE_EEG_SPECTROGRAMS: True\n",
      "AMP: True\n",
      "AUGMENT: False\n",
      "AUGMENTATIONS: ['h_flip', 'v_flip', 'xy_masking', 'cutmix']\n",
      "PRINT_FREQ: 50\n",
      "FREEZE: False\n",
      "NUM_FROZEN_LAYERS: 0\n",
      "NUM_WORKERS: 0\n",
      "MAX_GRAD_NORM: 10000000.0\n",
      "DUAL_ENCODER_BACKBONE: tf_efficientnet_b2\n",
      "MAE_PRETRAINED_WEIGHTS: facebook/vit-mae-base\n",
      "MAE_HIDDEN_DROPOUT_PROB: 0.05\n",
      "MAE_ATTENTION_DROPOUT_PROB: 0.05\n",
      "EARLY_STOP_ROUNDS: 5\n",
      "RESNET_GRU_HIDDEN_SIZE: 424\n",
      "RESNET_GRU_INPUT_SIZE: 8\n",
      "RESNET_GRU_N_BLOCKS: 9\n",
      "RESNET_GRU_KERNELS: [3, 5, 7, 9]\n",
      "RESNET_GRU_FIXED_KERNEL_SIZE: 5\n",
      "RESNET_GRU_DROPOUT: 0.0\n",
      "RESNET_GRU_DOWNSAMPLE: None\n",
      "****************************************************************************************************\n",
      "====================================================================================================\n",
      "Stage 1: Train ResNetGRU\n",
      "====================================================================================================\n",
      "====================================================================================================\n",
      "Fold: 0 || Valid: 7314; \n",
      "====================================================================================================\n",
      "- Train: 12869; Epoch = 30; Dropout = 0.0 -\n"
     ]
    },
    {
     "data": {
      "application/vnd.jupyter.widget-view+json": {
       "model_id": "7b1b73b57fd6482c9c48c7023ddeb290",
       "version_major": 2,
       "version_minor": 0
      },
      "text/plain": [
       "Train [0]:   0%|          | 0/804 [00:00<?, ?batch/s]"
      ]
     },
     "metadata": {},
     "output_type": "display_data"
    },
    {
     "name": "stdout",
     "output_type": "stream",
     "text": [
      "Epoch 1 [0/804] | Train Loss: 1.7715 Grad: 303500.9688 LR: 4.0000e-06 | Elapse: 1.82s\n",
      "Epoch 1 [50/804] | Train Loss: 1.5406 Grad: 328130.0312 LR: 4.1059e-06 | Elapse: 35.69s\n",
      "Epoch 1 [100/804] | Train Loss: 1.5040 Grad: 256567.5469 LR: 4.4151e-06 | Elapse: 69.75s\n",
      "Epoch 1 [150/804] | Train Loss: 1.4682 Grad: 147090.1719 LR: 4.9261e-06 | Elapse: 104.11s\n",
      "Epoch 1 [200/804] | Train Loss: 1.4453 Grad: 171396.2812 LR: 5.6369e-06 | Elapse: 138.73s\n",
      "Epoch 1 [250/804] | Train Loss: 1.4209 Grad: 153045.7188 LR: 6.5444e-06 | Elapse: 173.54s\n",
      "Epoch 1 [300/804] | Train Loss: 1.4039 Grad: 202389.0938 LR: 7.6448e-06 | Elapse: 208.36s\n",
      "Epoch 1 [350/804] | Train Loss: 1.3885 Grad: 309029.9062 LR: 8.9334e-06 | Elapse: 243.28s\n",
      "Epoch 1 [400/804] | Train Loss: 1.3706 Grad: 141204.2500 LR: 1.0405e-05 | Elapse: 278.18s\n",
      "Epoch 1 [450/804] | Train Loss: 1.3591 Grad: 294451.3750 LR: 1.2053e-05 | Elapse: 312.99s\n",
      "Epoch 1 [500/804] | Train Loss: 1.3511 Grad: 180521.8281 LR: 1.3870e-05 | Elapse: 347.88s\n",
      "Epoch 1 [550/804] | Train Loss: 1.3398 Grad: 116228.2891 LR: 1.5849e-05 | Elapse: 382.69s\n",
      "Epoch 1 [600/804] | Train Loss: 1.3324 Grad: 83873.8047 LR: 1.7982e-05 | Elapse: 417.55s\n",
      "Epoch 1 [650/804] | Train Loss: 1.3279 Grad: 270563.3438 LR: 2.0258e-05 | Elapse: 452.47s\n",
      "Epoch 1 [700/804] | Train Loss: 1.3213 Grad: 188751.8594 LR: 2.2670e-05 | Elapse: 487.47s\n",
      "Epoch 1 [750/804] | Train Loss: 1.3140 Grad: 267255.9062 LR: 2.5206e-05 | Elapse: 522.36s\n",
      "Epoch 1 [800/804] | Train Loss: 1.3084 Grad: 185354.4375 LR: 2.7856e-05 | Elapse: 557.28s\n",
      "Epoch 1 [803/804] | Train Loss: 1.3082 Grad: 153888.9219 LR: 2.8018e-05 | Elapse: 559.37s\n"
     ]
    },
    {
     "data": {
      "application/vnd.jupyter.widget-view+json": {
       "model_id": "cbc7b7d4012f4e998bc9a5ab5d176737",
       "version_major": 2,
       "version_minor": 0
      },
      "text/plain": [
       "Valid [0]:   0%|          | 0/458 [00:00<?, ?batch/s]"
      ]
     },
     "metadata": {},
     "output_type": "display_data"
    },
    {
     "name": "stdout",
     "output_type": "stream",
     "text": [
      "Epoch 1 [0/458] | Valid Loss: 1.1598 | Elapse: 0.39s\n",
      "Epoch 1 [50/458] | Valid Loss: 1.2536 | Elapse: 17.42s\n",
      "Epoch 1 [100/458] | Valid Loss: 1.2701 | Elapse: 34.33s\n",
      "Epoch 1 [150/458] | Valid Loss: 1.2602 | Elapse: 51.25s\n",
      "Epoch 1 [200/458] | Valid Loss: 1.2615 | Elapse: 68.16s\n",
      "Epoch 1 [250/458] | Valid Loss: 1.2689 | Elapse: 85.05s\n",
      "Epoch 1 [300/458] | Valid Loss: 1.2746 | Elapse: 101.96s\n",
      "Epoch 1 [350/458] | Valid Loss: 1.2785 | Elapse: 118.88s\n",
      "Epoch 1 [400/458] | Valid Loss: 1.2831 | Elapse: 135.78s\n",
      "Epoch 1 [450/458] | Valid Loss: 1.2853 | Elapse: 152.65s\n"
     ]
    },
    {
     "name": "stderr",
     "output_type": "stream",
     "text": [
      "----------------------------------------------------------------------------------------------------\n",
      "Epoch 1 - Average Loss: (train) 1.3082; (valid) 1.2839 | Time: 714.23s\n",
      "Best model found in epoch 1 | valid loss: 1.2839\n"
     ]
    },
    {
     "name": "stdout",
     "output_type": "stream",
     "text": [
      "Epoch 1 [457/458] | Valid Loss: 1.2839 | Elapse: 154.86s\n"
     ]
    },
    {
     "data": {
      "application/vnd.jupyter.widget-view+json": {
       "model_id": "ff5aa21792e94e9c9733c9904a9fc2fb",
       "version_major": 2,
       "version_minor": 0
      },
      "text/plain": [
       "Train [1]:   0%|          | 0/804 [00:00<?, ?batch/s]"
      ]
     },
     "metadata": {},
     "output_type": "display_data"
    },
    {
     "name": "stdout",
     "output_type": "stream",
     "text": [
      "Epoch 2 [0/804] | Train Loss: 1.3867 Grad: 161401.7031 LR: 2.8072e-05 | Elapse: 0.70s\n",
      "Epoch 2 [50/804] | Train Loss: 1.2168 Grad: 136035.8594 LR: 3.0832e-05 | Elapse: 35.46s\n",
      "Epoch 2 [100/804] | Train Loss: 1.2343 Grad: 171919.2500 LR: 3.3682e-05 | Elapse: 70.56s\n",
      "Epoch 2 [150/804] | Train Loss: 1.2439 Grad: 275422.5625 LR: 3.6609e-05 | Elapse: 105.57s\n",
      "Epoch 2 [200/804] | Train Loss: 1.2522 Grad: 156495.4375 LR: 3.9602e-05 | Elapse: 140.53s\n",
      "Epoch 2 [250/804] | Train Loss: 1.2484 Grad: 115287.6797 LR: 4.2647e-05 | Elapse: 175.54s\n",
      "Epoch 2 [300/804] | Train Loss: 1.2483 Grad: 231472.0625 LR: 4.5732e-05 | Elapse: 210.65s\n",
      "Epoch 2 [350/804] | Train Loss: 1.2476 Grad: 327308.7500 LR: 4.8844e-05 | Elapse: 245.66s\n",
      "Epoch 2 [400/804] | Train Loss: 1.2440 Grad: 122475.8203 LR: 5.1969e-05 | Elapse: 280.66s\n",
      "Epoch 2 [450/804] | Train Loss: 1.2407 Grad: 271792.8125 LR: 5.5094e-05 | Elapse: 315.80s\n",
      "Epoch 2 [500/804] | Train Loss: 1.2407 Grad: 165766.0312 LR: 5.8206e-05 | Elapse: 350.80s\n",
      "Epoch 2 [550/804] | Train Loss: 1.2353 Grad: 139310.1406 LR: 6.1291e-05 | Elapse: 385.85s\n",
      "Epoch 2 [600/804] | Train Loss: 1.2336 Grad: 124816.5000 LR: 6.4338e-05 | Elapse: 420.91s\n",
      "Epoch 2 [650/804] | Train Loss: 1.2342 Grad: 280992.4062 LR: 6.7332e-05 | Elapse: 456.01s\n",
      "Epoch 2 [700/804] | Train Loss: 1.2307 Grad: 151342.1094 LR: 7.0260e-05 | Elapse: 491.08s\n",
      "Epoch 2 [750/804] | Train Loss: 1.2260 Grad: 246598.0000 LR: 7.3112e-05 | Elapse: 526.16s\n",
      "Epoch 2 [800/804] | Train Loss: 1.2219 Grad: 157599.6875 LR: 7.5874e-05 | Elapse: 561.34s\n",
      "Epoch 2 [803/804] | Train Loss: 1.2219 Grad: 177058.3281 LR: 7.6036e-05 | Elapse: 563.45s\n"
     ]
    },
    {
     "data": {
      "application/vnd.jupyter.widget-view+json": {
       "model_id": "6081ecf01c614e8ab97a40135faea2d2",
       "version_major": 2,
       "version_minor": 0
      },
      "text/plain": [
       "Valid [1]:   0%|          | 0/458 [00:00<?, ?batch/s]"
      ]
     },
     "metadata": {},
     "output_type": "display_data"
    },
    {
     "name": "stdout",
     "output_type": "stream",
     "text": [
      "Epoch 2 [0/458] | Valid Loss: 1.0522 | Elapse: 0.34s\n",
      "Epoch 2 [50/458] | Valid Loss: 1.1795 | Elapse: 17.47s\n",
      "Epoch 2 [100/458] | Valid Loss: 1.2176 | Elapse: 34.56s\n",
      "Epoch 2 [150/458] | Valid Loss: 1.1984 | Elapse: 51.60s\n",
      "Epoch 2 [200/458] | Valid Loss: 1.2015 | Elapse: 68.61s\n",
      "Epoch 2 [250/458] | Valid Loss: 1.2078 | Elapse: 85.60s\n",
      "Epoch 2 [300/458] | Valid Loss: 1.2133 | Elapse: 102.55s\n",
      "Epoch 2 [350/458] | Valid Loss: 1.2171 | Elapse: 119.41s\n",
      "Epoch 2 [400/458] | Valid Loss: 1.2229 | Elapse: 136.28s\n",
      "Epoch 2 [450/458] | Valid Loss: 1.2240 | Elapse: 153.09s\n"
     ]
    },
    {
     "name": "stderr",
     "output_type": "stream",
     "text": [
      "----------------------------------------------------------------------------------------------------\n",
      "Epoch 2 - Average Loss: (train) 1.2219; (valid) 1.2230 | Time: 718.67s\n",
      "Best model found in epoch 2 | valid loss: 1.2230\n"
     ]
    },
    {
     "name": "stdout",
     "output_type": "stream",
     "text": [
      "Epoch 2 [457/458] | Valid Loss: 1.2230 | Elapse: 155.22s\n"
     ]
    },
    {
     "data": {
      "application/vnd.jupyter.widget-view+json": {
       "model_id": "ce93eb4387664dc8ab3a170775fd9e0b",
       "version_major": 2,
       "version_minor": 0
      },
      "text/plain": [
       "Train [2]:   0%|          | 0/804 [00:00<?, ?batch/s]"
      ]
     },
     "metadata": {},
     "output_type": "display_data"
    },
    {
     "name": "stdout",
     "output_type": "stream",
     "text": [
      "Epoch 3 [0/804] | Train Loss: 1.4614 Grad: 353677.8750 LR: 7.6090e-05 | Elapse: 0.70s\n",
      "Epoch 3 [50/804] | Train Loss: 1.1528 Grad: 145297.1250 LR: 7.8742e-05 | Elapse: 35.65s\n",
      "Epoch 3 [100/804] | Train Loss: 1.1581 Grad: 201286.7188 LR: 8.1280e-05 | Elapse: 70.60s\n",
      "Epoch 3 [150/804] | Train Loss: 1.1629 Grad: 301907.1562 LR: 8.3695e-05 | Elapse: 105.61s\n",
      "Epoch 3 [200/804] | Train Loss: 1.1714 Grad: 177117.9375 LR: 8.5974e-05 | Elapse: 140.61s\n",
      "Epoch 3 [250/804] | Train Loss: 1.1611 Grad: 260611.7344 LR: 8.8110e-05 | Elapse: 175.68s\n",
      "Epoch 3 [300/804] | Train Loss: 1.1531 Grad: 172462.4375 LR: 9.0092e-05 | Elapse: 210.71s\n",
      "Epoch 3 [350/804] | Train Loss: 1.1508 Grad: 346195.4375 LR: 9.1913e-05 | Elapse: 245.75s\n",
      "Epoch 3 [400/804] | Train Loss: 1.1480 Grad: 79137.2500 LR: 9.3564e-05 | Elapse: 280.75s\n",
      "Epoch 3 [450/804] | Train Loss: 1.1408 Grad: 165429.7969 LR: 9.5039e-05 | Elapse: 315.81s\n",
      "Epoch 3 [500/804] | Train Loss: 1.1370 Grad: 112914.0312 LR: 9.6331e-05 | Elapse: 350.90s\n",
      "Epoch 3 [550/804] | Train Loss: 1.1286 Grad: 55155.4844 LR: 9.7435e-05 | Elapse: 385.86s\n",
      "Epoch 3 [600/804] | Train Loss: 1.1251 Grad: 63494.1602 LR: 9.8347e-05 | Elapse: 420.84s\n",
      "Epoch 3 [650/804] | Train Loss: 1.1225 Grad: 110487.7109 LR: 9.9062e-05 | Elapse: 455.92s\n",
      "Epoch 3 [700/804] | Train Loss: 1.1167 Grad: 90263.0312 LR: 9.9577e-05 | Elapse: 491.00s\n",
      "Epoch 3 [750/804] | Train Loss: 1.1128 Grad: 123775.3203 LR: 9.9890e-05 | Elapse: 526.03s\n",
      "Epoch 3 [800/804] | Train Loss: 1.1085 Grad: 121356.3125 LR: 1.0000e-04 | Elapse: 561.02s\n",
      "Epoch 3 [803/804] | Train Loss: 1.1090 Grad: 127343.9688 LR: 1.0000e-04 | Elapse: 563.12s\n"
     ]
    },
    {
     "data": {
      "application/vnd.jupyter.widget-view+json": {
       "model_id": "9b574f8ae7744b7d8ab834e608a4abfe",
       "version_major": 2,
       "version_minor": 0
      },
      "text/plain": [
       "Valid [2]:   0%|          | 0/458 [00:00<?, ?batch/s]"
      ]
     },
     "metadata": {},
     "output_type": "display_data"
    },
    {
     "name": "stdout",
     "output_type": "stream",
     "text": [
      "Epoch 3 [0/458] | Valid Loss: 0.9605 | Elapse: 0.34s\n",
      "Epoch 3 [50/458] | Valid Loss: 1.0547 | Elapse: 17.38s\n",
      "Epoch 3 [100/458] | Valid Loss: 1.0974 | Elapse: 34.36s\n",
      "Epoch 3 [150/458] | Valid Loss: 1.0728 | Elapse: 51.31s\n",
      "Epoch 3 [200/458] | Valid Loss: 1.0735 | Elapse: 68.24s\n",
      "Epoch 3 [250/458] | Valid Loss: 1.0825 | Elapse: 85.07s\n",
      "Epoch 3 [300/458] | Valid Loss: 1.0933 | Elapse: 101.92s\n",
      "Epoch 3 [350/458] | Valid Loss: 1.0990 | Elapse: 118.75s\n",
      "Epoch 3 [400/458] | Valid Loss: 1.1079 | Elapse: 135.59s\n",
      "Epoch 3 [450/458] | Valid Loss: 1.1101 | Elapse: 152.43s\n"
     ]
    },
    {
     "name": "stderr",
     "output_type": "stream",
     "text": [
      "----------------------------------------------------------------------------------------------------\n",
      "Epoch 3 - Average Loss: (train) 1.1090; (valid) 1.1087 | Time: 717.67s\n",
      "Best model found in epoch 3 | valid loss: 1.1087\n"
     ]
    },
    {
     "name": "stdout",
     "output_type": "stream",
     "text": [
      "Epoch 3 [457/458] | Valid Loss: 1.1087 | Elapse: 154.55s\n"
     ]
    },
    {
     "data": {
      "application/vnd.jupyter.widget-view+json": {
       "model_id": "f5ab74ad2050454eb076645ba40f0f17",
       "version_major": 2,
       "version_minor": 0
      },
      "text/plain": [
       "Train [3]:   0%|          | 0/804 [00:00<?, ?batch/s]"
      ]
     },
     "metadata": {},
     "output_type": "display_data"
    },
    {
     "name": "stdout",
     "output_type": "stream",
     "text": [
      "Epoch 4 [0/804] | Train Loss: 1.2546 Grad: 317557.9688 LR: 1.0000e-04 | Elapse: 0.70s\n",
      "Epoch 4 [50/804] | Train Loss: 1.0605 Grad: 137846.7188 LR: 9.9999e-05 | Elapse: 35.66s\n",
      "Epoch 4 [100/804] | Train Loss: 1.0628 Grad: 227075.2812 LR: 9.9995e-05 | Elapse: 70.73s\n",
      "Epoch 4 [150/804] | Train Loss: 1.0651 Grad: 386655.9062 LR: 9.9988e-05 | Elapse: 105.79s\n",
      "Epoch 4 [200/804] | Train Loss: 1.0758 Grad: 192606.3906 LR: 9.9979e-05 | Elapse: 140.86s\n",
      "Epoch 4 [250/804] | Train Loss: 1.0642 Grad: 293458.1562 LR: 9.9967e-05 | Elapse: 175.89s\n",
      "Epoch 4 [300/804] | Train Loss: 1.0590 Grad: 194768.1250 LR: 9.9952e-05 | Elapse: 210.98s\n",
      "Epoch 4 [350/804] | Train Loss: 1.0603 Grad: 307020.3125 LR: 9.9935e-05 | Elapse: 246.09s\n",
      "Epoch 4 [400/804] | Train Loss: 1.0615 Grad: 196356.0938 LR: 9.9915e-05 | Elapse: 281.08s\n",
      "Epoch 4 [450/804] | Train Loss: 1.0565 Grad: 292378.8438 LR: 9.9893e-05 | Elapse: 316.12s\n",
      "Epoch 4 [500/804] | Train Loss: 1.0556 Grad: 266725.1562 LR: 9.9868e-05 | Elapse: 351.23s\n",
      "Epoch 4 [550/804] | Train Loss: 1.0493 Grad: 150889.9531 LR: 9.9841e-05 | Elapse: 386.32s\n",
      "Epoch 4 [600/804] | Train Loss: 1.0497 Grad: 128437.2344 LR: 9.9810e-05 | Elapse: 421.31s\n",
      "Epoch 4 [650/804] | Train Loss: 1.0494 Grad: 252280.1719 LR: 9.9778e-05 | Elapse: 456.23s\n",
      "Epoch 4 [700/804] | Train Loss: 1.0451 Grad: 160919.2812 LR: 9.9742e-05 | Elapse: 491.23s\n",
      "Epoch 4 [750/804] | Train Loss: 1.0430 Grad: 245524.2344 LR: 9.9704e-05 | Elapse: 526.17s\n",
      "Epoch 4 [800/804] | Train Loss: 1.0408 Grad: 215011.6875 LR: 9.9664e-05 | Elapse: 561.19s\n",
      "Epoch 4 [803/804] | Train Loss: 1.0413 Grad: 222943.7188 LR: 9.9661e-05 | Elapse: 563.29s\n"
     ]
    },
    {
     "data": {
      "application/vnd.jupyter.widget-view+json": {
       "model_id": "ea8dc7d4e7ce4dee94bdcc12303acea3",
       "version_major": 2,
       "version_minor": 0
      },
      "text/plain": [
       "Valid [3]:   0%|          | 0/458 [00:00<?, ?batch/s]"
      ]
     },
     "metadata": {},
     "output_type": "display_data"
    },
    {
     "name": "stdout",
     "output_type": "stream",
     "text": [
      "Epoch 4 [0/458] | Valid Loss: 0.9019 | Elapse: 0.35s\n",
      "Epoch 4 [50/458] | Valid Loss: 1.0033 | Elapse: 17.43s\n",
      "Epoch 4 [100/458] | Valid Loss: 1.0440 | Elapse: 34.47s\n",
      "Epoch 4 [150/458] | Valid Loss: 1.0227 | Elapse: 51.48s\n",
      "Epoch 4 [200/458] | Valid Loss: 1.0231 | Elapse: 68.52s\n",
      "Epoch 4 [250/458] | Valid Loss: 1.0306 | Elapse: 85.48s\n",
      "Epoch 4 [300/458] | Valid Loss: 1.0415 | Elapse: 102.36s\n",
      "Epoch 4 [350/458] | Valid Loss: 1.0458 | Elapse: 119.26s\n",
      "Epoch 4 [400/458] | Valid Loss: 1.0538 | Elapse: 136.09s\n",
      "Epoch 4 [450/458] | Valid Loss: 1.0556 | Elapse: 153.01s\n"
     ]
    },
    {
     "name": "stderr",
     "output_type": "stream",
     "text": [
      "----------------------------------------------------------------------------------------------------\n",
      "Epoch 4 - Average Loss: (train) 1.0413; (valid) 1.0542 | Time: 718.45s\n",
      "Best model found in epoch 4 | valid loss: 1.0542\n"
     ]
    },
    {
     "name": "stdout",
     "output_type": "stream",
     "text": [
      "Epoch 4 [457/458] | Valid Loss: 1.0542 | Elapse: 155.15s\n"
     ]
    },
    {
     "data": {
      "application/vnd.jupyter.widget-view+json": {
       "model_id": "82fa1d106f234672a97f9936b18fd199",
       "version_major": 2,
       "version_minor": 0
      },
      "text/plain": [
       "Train [4]:   0%|          | 0/804 [00:00<?, ?batch/s]"
      ]
     },
     "metadata": {},
     "output_type": "display_data"
    },
    {
     "name": "stdout",
     "output_type": "stream",
     "text": [
      "Epoch 5 [0/804] | Train Loss: 1.1972 Grad: 308679.1250 LR: 9.9660e-05 | Elapse: 0.70s\n",
      "Epoch 5 [50/804] | Train Loss: 1.0164 Grad: 141183.1719 LR: 9.9617e-05 | Elapse: 35.64s\n",
      "Epoch 5 [100/804] | Train Loss: 1.0198 Grad: 203328.6094 LR: 9.9571e-05 | Elapse: 70.75s\n",
      "Epoch 5 [150/804] | Train Loss: 1.0220 Grad: inf LR: 9.9522e-05 | Elapse: 105.75s\n",
      "Epoch 5 [200/804] | Train Loss: 1.0327 Grad: 97592.4453 LR: 9.9471e-05 | Elapse: 140.80s\n",
      "Epoch 5 [250/804] | Train Loss: 1.0213 Grad: 139450.3906 LR: 9.9417e-05 | Elapse: 175.84s\n",
      "Epoch 5 [300/804] | Train Loss: 1.0167 Grad: 113856.9062 LR: 9.9361e-05 | Elapse: 210.98s\n",
      "Epoch 5 [350/804] | Train Loss: 1.0172 Grad: 148841.7656 LR: 9.9302e-05 | Elapse: 246.08s\n",
      "Epoch 5 [400/804] | Train Loss: 1.0188 Grad: 98241.4297 LR: 9.9241e-05 | Elapse: 281.14s\n",
      "Epoch 5 [450/804] | Train Loss: 1.0136 Grad: 146139.3438 LR: 9.9177e-05 | Elapse: 316.21s\n",
      "Epoch 5 [500/804] | Train Loss: 1.0115 Grad: 132025.7188 LR: 9.9110e-05 | Elapse: 351.23s\n",
      "Epoch 5 [550/804] | Train Loss: 1.0049 Grad: 82229.9609 LR: 9.9041e-05 | Elapse: 386.34s\n",
      "Epoch 5 [600/804] | Train Loss: 1.0056 Grad: 64302.5078 LR: 9.8969e-05 | Elapse: 421.52s\n",
      "Epoch 5 [650/804] | Train Loss: 1.0042 Grad: 166584.8438 LR: 9.8895e-05 | Elapse: 456.66s\n",
      "Epoch 5 [700/804] | Train Loss: 0.9988 Grad: 81087.4297 LR: 9.8818e-05 | Elapse: 491.71s\n",
      "Epoch 5 [750/804] | Train Loss: 0.9953 Grad: 126109.3047 LR: 9.8738e-05 | Elapse: 526.72s\n",
      "Epoch 5 [800/804] | Train Loss: 0.9924 Grad: 113422.4844 LR: 9.8656e-05 | Elapse: 561.89s\n",
      "Epoch 5 [803/804] | Train Loss: 0.9928 Grad: 125761.2344 LR: 9.8651e-05 | Elapse: 563.99s\n"
     ]
    },
    {
     "data": {
      "application/vnd.jupyter.widget-view+json": {
       "model_id": "b86847481e414f2fad81bd26c0e56d3a",
       "version_major": 2,
       "version_minor": 0
      },
      "text/plain": [
       "Valid [4]:   0%|          | 0/458 [00:00<?, ?batch/s]"
      ]
     },
     "metadata": {},
     "output_type": "display_data"
    },
    {
     "name": "stdout",
     "output_type": "stream",
     "text": [
      "Epoch 5 [0/458] | Valid Loss: 0.8542 | Elapse: 0.35s\n",
      "Epoch 5 [50/458] | Valid Loss: 0.9396 | Elapse: 17.40s\n",
      "Epoch 5 [100/458] | Valid Loss: 0.9752 | Elapse: 34.43s\n",
      "Epoch 5 [150/458] | Valid Loss: 0.9597 | Elapse: 51.53s\n",
      "Epoch 5 [200/458] | Valid Loss: 0.9613 | Elapse: 68.74s\n",
      "Epoch 5 [250/458] | Valid Loss: 0.9681 | Elapse: 85.76s\n",
      "Epoch 5 [300/458] | Valid Loss: 0.9774 | Elapse: 102.72s\n",
      "Epoch 5 [350/458] | Valid Loss: 0.9818 | Elapse: 119.70s\n",
      "Epoch 5 [400/458] | Valid Loss: 0.9895 | Elapse: 136.69s\n",
      "Epoch 5 [450/458] | Valid Loss: 0.9903 | Elapse: 153.67s\n"
     ]
    },
    {
     "name": "stderr",
     "output_type": "stream",
     "text": [
      "----------------------------------------------------------------------------------------------------\n",
      "Epoch 5 - Average Loss: (train) 0.9928; (valid) 0.9892 | Time: 719.80s\n",
      "Best model found in epoch 5 | valid loss: 0.9892\n"
     ]
    },
    {
     "name": "stdout",
     "output_type": "stream",
     "text": [
      "Epoch 5 [457/458] | Valid Loss: 0.9892 | Elapse: 155.81s\n"
     ]
    },
    {
     "data": {
      "application/vnd.jupyter.widget-view+json": {
       "model_id": "71ba0fe4add2437b9e9071af5e300ad7",
       "version_major": 2,
       "version_minor": 0
      },
      "text/plain": [
       "Train [5]:   0%|          | 0/804 [00:00<?, ?batch/s]"
      ]
     },
     "metadata": {},
     "output_type": "display_data"
    },
    {
     "name": "stdout",
     "output_type": "stream",
     "text": [
      "Epoch 6 [0/804] | Train Loss: 1.0435 Grad: 301736.3438 LR: 9.8649e-05 | Elapse: 0.70s\n",
      "Epoch 6 [50/804] | Train Loss: 0.9522 Grad: 166298.3125 LR: 9.8565e-05 | Elapse: 35.65s\n",
      "Epoch 6 [100/804] | Train Loss: 0.9473 Grad: 189159.4844 LR: 9.8477e-05 | Elapse: 70.72s\n",
      "Epoch 6 [150/804] | Train Loss: 0.9449 Grad: 421366.5000 LR: 9.8387e-05 | Elapse: 105.90s\n",
      "Epoch 6 [200/804] | Train Loss: 0.9531 Grad: 89069.3828 LR: 9.8295e-05 | Elapse: 140.99s\n",
      "Epoch 6 [250/804] | Train Loss: 0.9427 Grad: 141078.5469 LR: 9.8200e-05 | Elapse: 176.07s\n",
      "Epoch 6 [300/804] | Train Loss: 0.9391 Grad: 122098.2188 LR: 9.8103e-05 | Elapse: 211.15s\n",
      "Epoch 6 [350/804] | Train Loss: 0.9365 Grad: 161878.8438 LR: 9.8003e-05 | Elapse: 246.32s\n",
      "Epoch 6 [400/804] | Train Loss: 0.9372 Grad: 130686.1094 LR: 9.7900e-05 | Elapse: 281.46s\n",
      "Epoch 6 [450/804] | Train Loss: 0.9331 Grad: 156342.3750 LR: 9.7795e-05 | Elapse: 316.55s\n",
      "Epoch 6 [500/804] | Train Loss: 0.9306 Grad: 151237.3906 LR: 9.7688e-05 | Elapse: 351.69s\n",
      "Epoch 6 [550/804] | Train Loss: 0.9247 Grad: 97548.0859 LR: 9.7578e-05 | Elapse: 386.76s\n",
      "Epoch 6 [600/804] | Train Loss: 0.9267 Grad: 82833.1484 LR: 9.7465e-05 | Elapse: 421.93s\n",
      "Epoch 6 [650/804] | Train Loss: 0.9260 Grad: 226590.9844 LR: 9.7350e-05 | Elapse: 457.16s\n",
      "Epoch 6 [700/804] | Train Loss: 0.9212 Grad: 95911.4609 LR: 9.7233e-05 | Elapse: 492.27s\n",
      "Epoch 6 [750/804] | Train Loss: 0.9186 Grad: 132248.7656 LR: 9.7113e-05 | Elapse: 527.41s\n",
      "Epoch 6 [800/804] | Train Loss: 0.9159 Grad: 143796.6719 LR: 9.6991e-05 | Elapse: 562.65s\n",
      "Epoch 6 [803/804] | Train Loss: 0.9165 Grad: 143577.5625 LR: 9.6983e-05 | Elapse: 564.76s\n"
     ]
    },
    {
     "data": {
      "application/vnd.jupyter.widget-view+json": {
       "model_id": "d86a0f850e1940159403b20b2ea2a95b",
       "version_major": 2,
       "version_minor": 0
      },
      "text/plain": [
       "Valid [5]:   0%|          | 0/458 [00:00<?, ?batch/s]"
      ]
     },
     "metadata": {},
     "output_type": "display_data"
    },
    {
     "name": "stdout",
     "output_type": "stream",
     "text": [
      "Epoch 6 [0/458] | Valid Loss: 0.7955 | Elapse: 0.35s\n",
      "Epoch 6 [50/458] | Valid Loss: 0.8571 | Elapse: 17.48s\n",
      "Epoch 6 [100/458] | Valid Loss: 0.8833 | Elapse: 34.55s\n",
      "Epoch 6 [150/458] | Valid Loss: 0.8737 | Elapse: 51.58s\n",
      "Epoch 6 [200/458] | Valid Loss: 0.8781 | Elapse: 68.61s\n",
      "Epoch 6 [250/458] | Valid Loss: 0.8857 | Elapse: 85.55s\n",
      "Epoch 6 [300/458] | Valid Loss: 0.8949 | Elapse: 102.47s\n",
      "Epoch 6 [350/458] | Valid Loss: 0.8995 | Elapse: 119.40s\n",
      "Epoch 6 [400/458] | Valid Loss: 0.9068 | Elapse: 136.29s\n",
      "Epoch 6 [450/458] | Valid Loss: 0.9072 | Elapse: 153.14s\n"
     ]
    },
    {
     "name": "stderr",
     "output_type": "stream",
     "text": [
      "----------------------------------------------------------------------------------------------------\n",
      "Epoch 6 - Average Loss: (train) 0.9165; (valid) 0.9069 | Time: 720.02s\n",
      "Best model found in epoch 6 | valid loss: 0.9069\n"
     ]
    },
    {
     "name": "stdout",
     "output_type": "stream",
     "text": [
      "Epoch 6 [457/458] | Valid Loss: 0.9069 | Elapse: 155.26s\n"
     ]
    },
    {
     "data": {
      "application/vnd.jupyter.widget-view+json": {
       "model_id": "f75c61a217aa4031a86684bb3845b7f1",
       "version_major": 2,
       "version_minor": 0
      },
      "text/plain": [
       "Train [6]:   0%|          | 0/804 [00:00<?, ?batch/s]"
      ]
     },
     "metadata": {},
     "output_type": "display_data"
    },
    {
     "name": "stdout",
     "output_type": "stream",
     "text": [
      "Epoch 7 [0/804] | Train Loss: 0.8882 Grad: 261918.6250 LR: 9.6981e-05 | Elapse: 0.70s\n",
      "Epoch 7 [50/804] | Train Loss: 0.8824 Grad: 86952.8281 LR: 9.6856e-05 | Elapse: 35.61s\n",
      "Epoch 7 [100/804] | Train Loss: 0.8749 Grad: 105126.9453 LR: 9.6728e-05 | Elapse: 70.59s\n",
      "Epoch 7 [150/804] | Train Loss: 0.8756 Grad: 210978.6406 LR: 9.6598e-05 | Elapse: 105.69s\n",
      "Epoch 7 [200/804] | Train Loss: 0.8858 Grad: 121840.3906 LR: 9.6466e-05 | Elapse: 140.79s\n",
      "Epoch 7 [250/804] | Train Loss: 0.8799 Grad: 160530.4375 LR: 9.6331e-05 | Elapse: 175.95s\n",
      "Epoch 7 [300/804] | Train Loss: 0.8777 Grad: 117072.3984 LR: 9.6194e-05 | Elapse: 211.09s\n",
      "Epoch 7 [350/804] | Train Loss: 0.8763 Grad: 166639.3750 LR: 9.6054e-05 | Elapse: 246.13s\n",
      "Epoch 7 [400/804] | Train Loss: 0.8778 Grad: 135264.3281 LR: 9.5912e-05 | Elapse: 281.20s\n",
      "Epoch 7 [450/804] | Train Loss: 0.8756 Grad: 167228.3750 LR: 9.5768e-05 | Elapse: 316.23s\n",
      "Epoch 7 [500/804] | Train Loss: 0.8745 Grad: 176101.7812 LR: 9.5621e-05 | Elapse: 351.34s\n",
      "Epoch 7 [550/804] | Train Loss: 0.8703 Grad: 102888.6484 LR: 9.5472e-05 | Elapse: 386.39s\n",
      "Epoch 7 [600/804] | Train Loss: 0.8738 Grad: 96381.3750 LR: 9.5320e-05 | Elapse: 421.51s\n",
      "Epoch 7 [650/804] | Train Loss: 0.8745 Grad: 242294.4531 LR: 9.5166e-05 | Elapse: 456.57s\n",
      "Epoch 7 [700/804] | Train Loss: 0.8710 Grad: 106208.5625 LR: 9.5010e-05 | Elapse: 491.60s\n",
      "Epoch 7 [750/804] | Train Loss: 0.8697 Grad: 147021.4844 LR: 9.4851e-05 | Elapse: 526.83s\n",
      "Epoch 7 [800/804] | Train Loss: 0.8678 Grad: 152333.4375 LR: 9.4690e-05 | Elapse: 561.98s\n",
      "Epoch 7 [803/804] | Train Loss: 0.8684 Grad: 156195.3438 LR: 9.4681e-05 | Elapse: 564.09s\n"
     ]
    },
    {
     "data": {
      "application/vnd.jupyter.widget-view+json": {
       "model_id": "7b2c87d2ae414c8f9bdcd6fa553907b4",
       "version_major": 2,
       "version_minor": 0
      },
      "text/plain": [
       "Valid [6]:   0%|          | 0/458 [00:00<?, ?batch/s]"
      ]
     },
     "metadata": {},
     "output_type": "display_data"
    },
    {
     "name": "stdout",
     "output_type": "stream",
     "text": [
      "Epoch 7 [0/458] | Valid Loss: 0.7680 | Elapse: 0.35s\n",
      "Epoch 7 [50/458] | Valid Loss: 0.8128 | Elapse: 17.42s\n",
      "Epoch 7 [100/458] | Valid Loss: 0.8388 | Elapse: 34.47s\n",
      "Epoch 7 [150/458] | Valid Loss: 0.8318 | Elapse: 51.61s\n",
      "Epoch 7 [200/458] | Valid Loss: 0.8375 | Elapse: 68.68s\n",
      "Epoch 7 [250/458] | Valid Loss: 0.8446 | Elapse: 85.66s\n",
      "Epoch 7 [300/458] | Valid Loss: 0.8532 | Elapse: 102.64s\n",
      "Epoch 7 [350/458] | Valid Loss: 0.8577 | Elapse: 119.67s\n",
      "Epoch 7 [400/458] | Valid Loss: 0.8637 | Elapse: 136.66s\n",
      "Epoch 7 [450/458] | Valid Loss: 0.8640 | Elapse: 153.66s\n"
     ]
    },
    {
     "name": "stderr",
     "output_type": "stream",
     "text": [
      "----------------------------------------------------------------------------------------------------\n",
      "Epoch 7 - Average Loss: (train) 0.8684; (valid) 0.8641 | Time: 719.90s\n",
      "Best model found in epoch 7 | valid loss: 0.8641\n"
     ]
    },
    {
     "name": "stdout",
     "output_type": "stream",
     "text": [
      "Epoch 7 [457/458] | Valid Loss: 0.8641 | Elapse: 155.81s\n"
     ]
    },
    {
     "data": {
      "application/vnd.jupyter.widget-view+json": {
       "model_id": "ffd53f5e45cf43e3b2e4d5d940129d4e",
       "version_major": 2,
       "version_minor": 0
      },
      "text/plain": [
       "Train [7]:   0%|          | 0/804 [00:00<?, ?batch/s]"
      ]
     },
     "metadata": {},
     "output_type": "display_data"
    },
    {
     "name": "stdout",
     "output_type": "stream",
     "text": [
      "Epoch 8 [0/804] | Train Loss: 0.8415 Grad: 267947.9688 LR: 9.4677e-05 | Elapse: 0.70s\n",
      "Epoch 8 [50/804] | Train Loss: 0.8392 Grad: 196777.0781 LR: 9.4514e-05 | Elapse: 35.75s\n",
      "Epoch 8 [100/804] | Train Loss: 0.8390 Grad: 215992.1406 LR: 9.4348e-05 | Elapse: 70.81s\n",
      "Epoch 8 [150/804] | Train Loss: 0.8402 Grad: 424153.4688 LR: 9.4180e-05 | Elapse: 106.02s\n",
      "Epoch 8 [200/804] | Train Loss: 0.8499 Grad: 132975.9531 LR: 9.4009e-05 | Elapse: 141.16s\n",
      "Epoch 8 [250/804] | Train Loss: 0.8466 Grad: 172033.1562 LR: 9.3836e-05 | Elapse: 176.32s\n",
      "Epoch 8 [300/804] | Train Loss: 0.8452 Grad: 117604.7656 LR: 9.3661e-05 | Elapse: 211.66s\n",
      "Epoch 8 [350/804] | Train Loss: 0.8441 Grad: 162244.8906 LR: 9.3484e-05 | Elapse: 246.88s\n",
      "Epoch 8 [400/804] | Train Loss: 0.8453 Grad: 138191.5938 LR: 9.3304e-05 | Elapse: 281.91s\n",
      "Epoch 8 [450/804] | Train Loss: 0.8432 Grad: 174590.5938 LR: 9.3122e-05 | Elapse: 317.01s\n",
      "Epoch 8 [500/804] | Train Loss: 0.8427 Grad: 192659.7188 LR: 9.2938e-05 | Elapse: 352.12s\n",
      "Epoch 8 [550/804] | Train Loss: 0.8393 Grad: 114568.2656 LR: 9.2751e-05 | Elapse: 387.37s\n",
      "Epoch 8 [600/804] | Train Loss: 0.8430 Grad: 102797.0938 LR: 9.2563e-05 | Elapse: 422.68s\n",
      "Epoch 8 [650/804] | Train Loss: 0.8440 Grad: 240253.3438 LR: 9.2372e-05 | Elapse: 457.78s\n",
      "Epoch 8 [700/804] | Train Loss: 0.8411 Grad: 110059.8516 LR: 9.2179e-05 | Elapse: 493.06s\n",
      "Epoch 8 [750/804] | Train Loss: 0.8404 Grad: 152916.8281 LR: 9.1983e-05 | Elapse: 528.17s\n",
      "Epoch 8 [800/804] | Train Loss: 0.8389 Grad: 149454.5312 LR: 9.1786e-05 | Elapse: 563.28s\n",
      "Epoch 8 [803/804] | Train Loss: 0.8396 Grad: 163386.3438 LR: 9.1774e-05 | Elapse: 565.39s\n"
     ]
    },
    {
     "data": {
      "application/vnd.jupyter.widget-view+json": {
       "model_id": "96f8814744204109bc42e8f370212d12",
       "version_major": 2,
       "version_minor": 0
      },
      "text/plain": [
       "Valid [7]:   0%|          | 0/458 [00:00<?, ?batch/s]"
      ]
     },
     "metadata": {},
     "output_type": "display_data"
    },
    {
     "name": "stdout",
     "output_type": "stream",
     "text": [
      "Epoch 8 [0/458] | Valid Loss: 0.7468 | Elapse: 0.34s\n",
      "Epoch 8 [50/458] | Valid Loss: 0.7812 | Elapse: 17.43s\n",
      "Epoch 8 [100/458] | Valid Loss: 0.8078 | Elapse: 34.55s\n",
      "Epoch 8 [150/458] | Valid Loss: 0.8020 | Elapse: 51.69s\n",
      "Epoch 8 [200/458] | Valid Loss: 0.8079 | Elapse: 68.76s\n",
      "Epoch 8 [250/458] | Valid Loss: 0.8138 | Elapse: 85.74s\n",
      "Epoch 8 [300/458] | Valid Loss: 0.8216 | Elapse: 102.70s\n",
      "Epoch 8 [350/458] | Valid Loss: 0.8252 | Elapse: 119.62s\n",
      "Epoch 8 [400/458] | Valid Loss: 0.8299 | Elapse: 136.52s\n",
      "Epoch 8 [450/458] | Valid Loss: 0.8300 | Elapse: 153.39s\n"
     ]
    },
    {
     "name": "stderr",
     "output_type": "stream",
     "text": [
      "----------------------------------------------------------------------------------------------------\n",
      "Epoch 8 - Average Loss: (train) 0.8396; (valid) 0.8303 | Time: 720.92s\n",
      "Best model found in epoch 8 | valid loss: 0.8303\n"
     ]
    },
    {
     "name": "stdout",
     "output_type": "stream",
     "text": [
      "Epoch 8 [457/458] | Valid Loss: 0.8303 | Elapse: 155.52s\n"
     ]
    },
    {
     "data": {
      "application/vnd.jupyter.widget-view+json": {
       "model_id": "c79913b61d4f45d3bea8d105b78962b2",
       "version_major": 2,
       "version_minor": 0
      },
      "text/plain": [
       "Train [8]:   0%|          | 0/804 [00:00<?, ?batch/s]"
      ]
     },
     "metadata": {},
     "output_type": "display_data"
    },
    {
     "name": "stdout",
     "output_type": "stream",
     "text": [
      "Epoch 9 [0/804] | Train Loss: 0.7991 Grad: 274087.9062 LR: 9.1770e-05 | Elapse: 0.70s\n",
      "Epoch 9 [50/804] | Train Loss: 0.8117 Grad: 217494.0781 LR: 9.1570e-05 | Elapse: 35.58s\n",
      "Epoch 9 [100/804] | Train Loss: 0.8161 Grad: 223709.0469 LR: 9.1368e-05 | Elapse: 70.53s\n",
      "Epoch 9 [150/804] | Train Loss: 0.8167 Grad: 425612.4688 LR: 9.1163e-05 | Elapse: 105.51s\n",
      "Epoch 9 [200/804] | Train Loss: 0.8255 Grad: 143255.0156 LR: 9.0957e-05 | Elapse: 140.50s\n",
      "Epoch 9 [250/804] | Train Loss: 0.8237 Grad: 183188.2031 LR: 9.0749e-05 | Elapse: 175.46s\n",
      "Epoch 9 [300/804] | Train Loss: 0.8233 Grad: 118509.7422 LR: 9.0538e-05 | Elapse: 210.44s\n",
      "Epoch 9 [350/804] | Train Loss: 0.8222 Grad: 154678.9375 LR: 9.0325e-05 | Elapse: 245.47s\n",
      "Epoch 9 [400/804] | Train Loss: 0.8234 Grad: 142505.3125 LR: 9.0110e-05 | Elapse: 280.48s\n",
      "Epoch 9 [450/804] | Train Loss: 0.8215 Grad: 178604.4844 LR: 8.9893e-05 | Elapse: 315.49s\n",
      "Epoch 9 [500/804] | Train Loss: 0.8215 Grad: 199043.8750 LR: 8.9674e-05 | Elapse: 350.43s\n",
      "Epoch 9 [550/804] | Train Loss: 0.8187 Grad: 124405.2188 LR: 8.9453e-05 | Elapse: 385.42s\n",
      "Epoch 9 [600/804] | Train Loss: 0.8224 Grad: 106780.4297 LR: 8.9230e-05 | Elapse: 420.38s\n",
      "Epoch 9 [650/804] | Train Loss: 0.8235 Grad: 237715.9844 LR: 8.9004e-05 | Elapse: 455.37s\n",
      "Epoch 9 [700/804] | Train Loss: 0.8209 Grad: 113779.9297 LR: 8.8777e-05 | Elapse: 490.32s\n",
      "Epoch 9 [750/804] | Train Loss: 0.8205 Grad: 156138.5469 LR: 8.8548e-05 | Elapse: 525.34s\n",
      "Epoch 9 [800/804] | Train Loss: 0.8192 Grad: 148702.0000 LR: 8.8316e-05 | Elapse: 560.29s\n",
      "Epoch 9 [803/804] | Train Loss: 0.8199 Grad: 169243.0625 LR: 8.8302e-05 | Elapse: 562.39s\n"
     ]
    },
    {
     "data": {
      "application/vnd.jupyter.widget-view+json": {
       "model_id": "ed7f11f437e843358f55019b6f989f49",
       "version_major": 2,
       "version_minor": 0
      },
      "text/plain": [
       "Valid [8]:   0%|          | 0/458 [00:00<?, ?batch/s]"
      ]
     },
     "metadata": {},
     "output_type": "display_data"
    },
    {
     "name": "stdout",
     "output_type": "stream",
     "text": [
      "Epoch 9 [0/458] | Valid Loss: 0.7253 | Elapse: 0.35s\n",
      "Epoch 9 [50/458] | Valid Loss: 0.7598 | Elapse: 17.35s\n",
      "Epoch 9 [100/458] | Valid Loss: 0.7866 | Elapse: 34.24s\n",
      "Epoch 9 [150/458] | Valid Loss: 0.7810 | Elapse: 51.16s\n",
      "Epoch 9 [200/458] | Valid Loss: 0.7869 | Elapse: 68.05s\n",
      "Epoch 9 [250/458] | Valid Loss: 0.7916 | Elapse: 84.88s\n",
      "Epoch 9 [300/458] | Valid Loss: 0.7989 | Elapse: 101.65s\n",
      "Epoch 9 [350/458] | Valid Loss: 0.8017 | Elapse: 118.37s\n",
      "Epoch 9 [400/458] | Valid Loss: 0.8058 | Elapse: 135.07s\n",
      "Epoch 9 [450/458] | Valid Loss: 0.8059 | Elapse: 151.82s\n"
     ]
    },
    {
     "name": "stderr",
     "output_type": "stream",
     "text": [
      "----------------------------------------------------------------------------------------------------\n",
      "Epoch 9 - Average Loss: (train) 0.8199; (valid) 0.8063 | Time: 716.32s\n",
      "Best model found in epoch 9 | valid loss: 0.8063\n"
     ]
    },
    {
     "name": "stdout",
     "output_type": "stream",
     "text": [
      "Epoch 9 [457/458] | Valid Loss: 0.8063 | Elapse: 153.93s\n"
     ]
    },
    {
     "data": {
      "application/vnd.jupyter.widget-view+json": {
       "model_id": "5d0e6c821b85405a8d31903cbbf60499",
       "version_major": 2,
       "version_minor": 0
      },
      "text/plain": [
       "Train [9]:   0%|          | 0/804 [00:00<?, ?batch/s]"
      ]
     },
     "metadata": {},
     "output_type": "display_data"
    },
    {
     "name": "stdout",
     "output_type": "stream",
     "text": [
      "Epoch 10 [0/804] | Train Loss: 0.7622 Grad: 275089.8125 LR: 8.8298e-05 | Elapse: 0.70s\n",
      "Epoch 10 [50/804] | Train Loss: 0.7929 Grad: 228236.9219 LR: 8.8064e-05 | Elapse: 35.63s\n",
      "Epoch 10 [100/804] | Train Loss: 0.7986 Grad: 117873.7266 LR: 8.7829e-05 | Elapse: 70.65s\n",
      "Epoch 10 [150/804] | Train Loss: 0.7987 Grad: 214844.3125 LR: 8.7591e-05 | Elapse: 105.55s\n",
      "Epoch 10 [200/804] | Train Loss: 0.8075 Grad: 148064.2969 LR: 8.7352e-05 | Elapse: 140.46s\n",
      "Epoch 10 [250/804] | Train Loss: 0.8067 Grad: 191054.7344 LR: 8.7110e-05 | Elapse: 175.38s\n",
      "Epoch 10 [300/804] | Train Loss: 0.8069 Grad: 120898.9766 LR: 8.6867e-05 | Elapse: 210.29s\n",
      "Epoch 10 [350/804] | Train Loss: 0.8058 Grad: 148264.2812 LR: 8.6621e-05 | Elapse: 245.23s\n",
      "Epoch 10 [400/804] | Train Loss: 0.8070 Grad: 144564.7500 LR: 8.6374e-05 | Elapse: 280.25s\n",
      "Epoch 10 [450/804] | Train Loss: 0.8055 Grad: 185308.5312 LR: 8.6125e-05 | Elapse: 315.23s\n",
      "Epoch 10 [500/804] | Train Loss: 0.8058 Grad: 199897.6406 LR: 8.5874e-05 | Elapse: 350.24s\n",
      "Epoch 10 [550/804] | Train Loss: 0.8031 Grad: 134014.5625 LR: 8.5621e-05 | Elapse: 385.18s\n",
      "Epoch 10 [600/804] | Train Loss: 0.8069 Grad: 112965.5234 LR: 8.5366e-05 | Elapse: 420.13s\n",
      "Epoch 10 [650/804] | Train Loss: 0.8079 Grad: 231804.8594 LR: 8.5110e-05 | Elapse: 455.10s\n",
      "Epoch 10 [700/804] | Train Loss: 0.8055 Grad: 115882.7031 LR: 8.4851e-05 | Elapse: 490.08s\n",
      "Epoch 10 [750/804] | Train Loss: 0.8052 Grad: 153252.3281 LR: 8.4591e-05 | Elapse: 525.06s\n",
      "Epoch 10 [800/804] | Train Loss: 0.8040 Grad: 148210.8281 LR: 8.4329e-05 | Elapse: 560.02s\n",
      "Epoch 10 [803/804] | Train Loss: 0.8046 Grad: 173042.6094 LR: 8.4313e-05 | Elapse: 562.11s\n"
     ]
    },
    {
     "data": {
      "application/vnd.jupyter.widget-view+json": {
       "model_id": "557469478afe4aad8f5c6f87241340d5",
       "version_major": 2,
       "version_minor": 0
      },
      "text/plain": [
       "Valid [9]:   0%|          | 0/458 [00:00<?, ?batch/s]"
      ]
     },
     "metadata": {},
     "output_type": "display_data"
    },
    {
     "name": "stdout",
     "output_type": "stream",
     "text": [
      "Epoch 10 [0/458] | Valid Loss: 0.7052 | Elapse: 0.34s\n",
      "Epoch 10 [50/458] | Valid Loss: 0.7444 | Elapse: 17.32s\n",
      "Epoch 10 [100/458] | Valid Loss: 0.7714 | Elapse: 34.34s\n",
      "Epoch 10 [150/458] | Valid Loss: 0.7653 | Elapse: 51.33s\n",
      "Epoch 10 [200/458] | Valid Loss: 0.7714 | Elapse: 68.26s\n",
      "Epoch 10 [250/458] | Valid Loss: 0.7748 | Elapse: 85.05s\n",
      "Epoch 10 [300/458] | Valid Loss: 0.7817 | Elapse: 101.82s\n",
      "Epoch 10 [350/458] | Valid Loss: 0.7835 | Elapse: 118.54s\n",
      "Epoch 10 [400/458] | Valid Loss: 0.7875 | Elapse: 135.24s\n",
      "Epoch 10 [450/458] | Valid Loss: 0.7874 | Elapse: 151.93s\n"
     ]
    },
    {
     "name": "stderr",
     "output_type": "stream",
     "text": [
      "----------------------------------------------------------------------------------------------------\n",
      "Epoch 10 - Average Loss: (train) 0.8046; (valid) 0.7878 | Time: 716.15s\n",
      "Best model found in epoch 10 | valid loss: 0.7878\n"
     ]
    },
    {
     "name": "stdout",
     "output_type": "stream",
     "text": [
      "Epoch 10 [457/458] | Valid Loss: 0.7878 | Elapse: 154.03s\n"
     ]
    },
    {
     "data": {
      "application/vnd.jupyter.widget-view+json": {
       "model_id": "11d967184fec4c51a8151112773ca4f8",
       "version_major": 2,
       "version_minor": 0
      },
      "text/plain": [
       "Train [10]:   0%|          | 0/804 [00:00<?, ?batch/s]"
      ]
     },
     "metadata": {},
     "output_type": "display_data"
    },
    {
     "name": "stdout",
     "output_type": "stream",
     "text": [
      "Epoch 11 [0/804] | Train Loss: 0.7406 Grad: 282093.7188 LR: 8.4308e-05 | Elapse: 0.70s\n",
      "Epoch 11 [50/804] | Train Loss: 0.7783 Grad: 235330.9531 LR: 8.4044e-05 | Elapse: 35.59s\n",
      "Epoch 11 [100/804] | Train Loss: 0.7841 Grad: 122767.9062 LR: 8.3778e-05 | Elapse: 70.50s\n",
      "Epoch 11 [150/804] | Train Loss: 0.7840 Grad: 216814.7500 LR: 8.3510e-05 | Elapse: 105.44s\n",
      "Epoch 11 [200/804] | Train Loss: 0.7929 Grad: 152517.9062 LR: 8.3241e-05 | Elapse: 140.39s\n",
      "Epoch 11 [250/804] | Train Loss: 0.7927 Grad: 194925.2344 LR: 8.2970e-05 | Elapse: 175.33s\n",
      "Epoch 11 [300/804] | Train Loss: 0.7932 Grad: 124033.9297 LR: 8.2697e-05 | Elapse: 210.25s\n",
      "Epoch 11 [350/804] | Train Loss: 0.7921 Grad: 144273.2188 LR: 8.2423e-05 | Elapse: 245.20s\n",
      "Epoch 11 [400/804] | Train Loss: 0.7933 Grad: 146443.4688 LR: 8.2147e-05 | Elapse: 280.22s\n",
      "Epoch 11 [450/804] | Train Loss: 0.7922 Grad: 192069.9531 LR: 8.1869e-05 | Elapse: 315.19s\n",
      "Epoch 11 [500/804] | Train Loss: 0.7926 Grad: 201038.0938 LR: 8.1589e-05 | Elapse: 350.08s\n",
      "Epoch 11 [550/804] | Train Loss: 0.7901 Grad: 140653.8281 LR: 8.1308e-05 | Elapse: 385.08s\n",
      "Epoch 11 [600/804] | Train Loss: 0.7938 Grad: 118868.5703 LR: 8.1025e-05 | Elapse: 420.16s\n",
      "Epoch 11 [650/804] | Train Loss: 0.7946 Grad: 227862.4219 LR: 8.0741e-05 | Elapse: 455.12s\n",
      "Epoch 11 [700/804] | Train Loss: 0.7923 Grad: 117342.2578 LR: 8.0455e-05 | Elapse: 490.19s\n",
      "Epoch 11 [750/804] | Train Loss: 0.7922 Grad: 149433.2812 LR: 8.0167e-05 | Elapse: 525.10s\n",
      "Epoch 11 [800/804] | Train Loss: 0.7912 Grad: 147022.9375 LR: 7.9878e-05 | Elapse: 560.13s\n",
      "Epoch 11 [803/804] | Train Loss: 0.7917 Grad: 176709.9219 LR: 7.9860e-05 | Elapse: 562.24s\n"
     ]
    },
    {
     "data": {
      "application/vnd.jupyter.widget-view+json": {
       "model_id": "b066b1ee4dc5462d97897e99edb49bf5",
       "version_major": 2,
       "version_minor": 0
      },
      "text/plain": [
       "Valid [10]:   0%|          | 0/458 [00:00<?, ?batch/s]"
      ]
     },
     "metadata": {},
     "output_type": "display_data"
    },
    {
     "name": "stdout",
     "output_type": "stream",
     "text": [
      "Epoch 11 [0/458] | Valid Loss: 0.6913 | Elapse: 0.35s\n",
      "Epoch 11 [50/458] | Valid Loss: 0.7325 | Elapse: 17.35s\n",
      "Epoch 11 [100/458] | Valid Loss: 0.7598 | Elapse: 34.36s\n",
      "Epoch 11 [150/458] | Valid Loss: 0.7532 | Elapse: 51.33s\n",
      "Epoch 11 [200/458] | Valid Loss: 0.7595 | Elapse: 68.23s\n",
      "Epoch 11 [250/458] | Valid Loss: 0.7619 | Elapse: 85.06s\n",
      "Epoch 11 [300/458] | Valid Loss: 0.7685 | Elapse: 101.85s\n",
      "Epoch 11 [350/458] | Valid Loss: 0.7696 | Elapse: 118.59s\n",
      "Epoch 11 [400/458] | Valid Loss: 0.7736 | Elapse: 135.31s\n",
      "Epoch 11 [450/458] | Valid Loss: 0.7734 | Elapse: 152.03s\n"
     ]
    },
    {
     "name": "stderr",
     "output_type": "stream",
     "text": [
      "----------------------------------------------------------------------------------------------------\n",
      "Epoch 11 - Average Loss: (train) 0.7917; (valid) 0.7738 | Time: 716.38s\n",
      "Best model found in epoch 11 | valid loss: 0.7738\n"
     ]
    },
    {
     "name": "stdout",
     "output_type": "stream",
     "text": [
      "Epoch 11 [457/458] | Valid Loss: 0.7738 | Elapse: 154.14s\n"
     ]
    },
    {
     "data": {
      "application/vnd.jupyter.widget-view+json": {
       "model_id": "2a84b51c84114937a0e35b3e0926ef6c",
       "version_major": 2,
       "version_minor": 0
      },
      "text/plain": [
       "Train [11]:   0%|          | 0/804 [00:00<?, ?batch/s]"
      ]
     },
     "metadata": {},
     "output_type": "display_data"
    },
    {
     "name": "stdout",
     "output_type": "stream",
     "text": [
      "Epoch 12 [0/804] | Train Loss: 0.7214 Grad: 284465.0938 LR: 7.9854e-05 | Elapse: 0.70s\n",
      "Epoch 12 [50/804] | Train Loss: 0.7659 Grad: 241889.7812 LR: 7.9563e-05 | Elapse: 35.58s\n",
      "Epoch 12 [100/804] | Train Loss: 0.7711 Grad: 125906.3672 LR: 7.9271e-05 | Elapse: 70.52s\n",
      "Epoch 12 [150/804] | Train Loss: 0.7709 Grad: 219373.3125 LR: 7.8977e-05 | Elapse: 105.55s\n",
      "Epoch 12 [200/804] | Train Loss: 0.7798 Grad: 158891.4688 LR: 7.8681e-05 | Elapse: 140.52s\n",
      "Epoch 12 [250/804] | Train Loss: 0.7803 Grad: 198899.8750 LR: 7.8384e-05 | Elapse: 175.54s\n",
      "Epoch 12 [300/804] | Train Loss: 0.7808 Grad: 125329.9062 LR: 7.8086e-05 | Elapse: 210.52s\n",
      "Epoch 12 [350/804] | Train Loss: 0.7799 Grad: 142494.8594 LR: 7.7786e-05 | Elapse: 245.48s\n",
      "Epoch 12 [400/804] | Train Loss: 0.7810 Grad: 150105.2500 LR: 7.7484e-05 | Elapse: 280.47s\n",
      "Epoch 12 [450/804] | Train Loss: 0.7802 Grad: 198857.0938 LR: 7.7182e-05 | Elapse: 315.46s\n",
      "Epoch 12 [500/804] | Train Loss: 0.7808 Grad: 201027.0469 LR: 7.6877e-05 | Elapse: 350.37s\n",
      "Epoch 12 [550/804] | Train Loss: 0.7785 Grad: 140093.2500 LR: 7.6572e-05 | Elapse: 385.33s\n",
      "Epoch 12 [600/804] | Train Loss: 0.7822 Grad: 123108.8984 LR: 7.6264e-05 | Elapse: 420.28s\n",
      "Epoch 12 [650/804] | Train Loss: 0.7828 Grad: 225329.2812 LR: 7.5956e-05 | Elapse: 455.21s\n",
      "Epoch 12 [700/804] | Train Loss: 0.7807 Grad: 118664.7422 LR: 7.5646e-05 | Elapse: 490.19s\n",
      "Epoch 12 [750/804] | Train Loss: 0.7808 Grad: 145507.4219 LR: 7.5335e-05 | Elapse: 525.17s\n",
      "Epoch 12 [800/804] | Train Loss: 0.7797 Grad: 145519.7812 LR: 7.5023e-05 | Elapse: 560.09s\n",
      "Epoch 12 [803/804] | Train Loss: 0.7802 Grad: 181797.3125 LR: 7.5004e-05 | Elapse: 562.19s\n"
     ]
    },
    {
     "data": {
      "application/vnd.jupyter.widget-view+json": {
       "model_id": "d0dc8ff186404b8ead9328e12b6c3773",
       "version_major": 2,
       "version_minor": 0
      },
      "text/plain": [
       "Valid [11]:   0%|          | 0/458 [00:00<?, ?batch/s]"
      ]
     },
     "metadata": {},
     "output_type": "display_data"
    },
    {
     "name": "stdout",
     "output_type": "stream",
     "text": [
      "Epoch 12 [0/458] | Valid Loss: 0.6810 | Elapse: 0.34s\n",
      "Epoch 12 [50/458] | Valid Loss: 0.7228 | Elapse: 17.40s\n",
      "Epoch 12 [100/458] | Valid Loss: 0.7506 | Elapse: 34.37s\n",
      "Epoch 12 [150/458] | Valid Loss: 0.7437 | Elapse: 51.32s\n",
      "Epoch 12 [200/458] | Valid Loss: 0.7503 | Elapse: 68.23s\n",
      "Epoch 12 [250/458] | Valid Loss: 0.7521 | Elapse: 85.02s\n",
      "Epoch 12 [300/458] | Valid Loss: 0.7584 | Elapse: 101.75s\n",
      "Epoch 12 [350/458] | Valid Loss: 0.7590 | Elapse: 118.43s\n",
      "Epoch 12 [400/458] | Valid Loss: 0.7629 | Elapse: 135.16s\n",
      "Epoch 12 [450/458] | Valid Loss: 0.7627 | Elapse: 151.84s\n"
     ]
    },
    {
     "name": "stderr",
     "output_type": "stream",
     "text": [
      "----------------------------------------------------------------------------------------------------\n",
      "Epoch 12 - Average Loss: (train) 0.7802; (valid) 0.7631 | Time: 716.13s\n",
      "Best model found in epoch 12 | valid loss: 0.7631\n"
     ]
    },
    {
     "name": "stdout",
     "output_type": "stream",
     "text": [
      "Epoch 12 [457/458] | Valid Loss: 0.7631 | Elapse: 153.94s\n"
     ]
    },
    {
     "data": {
      "application/vnd.jupyter.widget-view+json": {
       "model_id": "65cd81095f6f478b853aabbe377d0acc",
       "version_major": 2,
       "version_minor": 0
      },
      "text/plain": [
       "Train [12]:   0%|          | 0/804 [00:00<?, ?batch/s]"
      ]
     },
     "metadata": {},
     "output_type": "display_data"
    },
    {
     "name": "stdout",
     "output_type": "stream",
     "text": [
      "Epoch 13 [0/804] | Train Loss: 0.7037 Grad: 284746.3750 LR: 7.4997e-05 | Elapse: 0.70s\n",
      "Epoch 13 [50/804] | Train Loss: 0.7547 Grad: 249899.7969 LR: 7.4684e-05 | Elapse: 35.50s\n",
      "Epoch 13 [100/804] | Train Loss: 0.7594 Grad: 128038.6328 LR: 7.4368e-05 | Elapse: 70.36s\n",
      "Epoch 13 [150/804] | Train Loss: 0.7591 Grad: 224244.9688 LR: 7.4052e-05 | Elapse: 105.21s\n",
      "Epoch 13 [200/804] | Train Loss: 0.7679 Grad: 165582.0625 LR: 7.3734e-05 | Elapse: 140.02s\n",
      "Epoch 13 [250/804] | Train Loss: 0.7690 Grad: 202022.2188 LR: 7.3415e-05 | Elapse: 174.79s\n",
      "Epoch 13 [300/804] | Train Loss: 0.7696 Grad: 127683.3438 LR: 7.3095e-05 | Elapse: 209.63s\n",
      "Epoch 13 [350/804] | Train Loss: 0.7689 Grad: 140207.9062 LR: 7.2774e-05 | Elapse: 244.43s\n",
      "Epoch 13 [400/804] | Train Loss: 0.7700 Grad: 152843.3594 LR: 7.2451e-05 | Elapse: 279.31s\n",
      "Epoch 13 [450/804] | Train Loss: 0.7694 Grad: 203129.3125 LR: 7.2127e-05 | Elapse: 314.16s\n",
      "Epoch 13 [500/804] | Train Loss: 0.7701 Grad: 199682.1562 LR: 7.1802e-05 | Elapse: 348.99s\n",
      "Epoch 13 [550/804] | Train Loss: 0.7680 Grad: 138841.7969 LR: 7.1476e-05 | Elapse: 383.76s\n",
      "Epoch 13 [600/804] | Train Loss: 0.7716 Grad: 129211.2188 LR: 7.1149e-05 | Elapse: 418.53s\n",
      "Epoch 13 [650/804] | Train Loss: 0.7721 Grad: 222777.0000 LR: 7.0821e-05 | Elapse: 453.34s\n",
      "Epoch 13 [700/804] | Train Loss: 0.7701 Grad: 120041.3984 LR: 7.0491e-05 | Elapse: 488.28s\n",
      "Epoch 13 [750/804] | Train Loss: 0.7704 Grad: 143023.6406 LR: 7.0161e-05 | Elapse: 523.27s\n",
      "Epoch 13 [800/804] | Train Loss: 0.7693 Grad: 144837.3594 LR: 6.9829e-05 | Elapse: 558.19s\n",
      "Epoch 13 [803/804] | Train Loss: 0.7697 Grad: 187407.3906 LR: 6.9809e-05 | Elapse: 560.28s\n"
     ]
    },
    {
     "data": {
      "application/vnd.jupyter.widget-view+json": {
       "model_id": "30c799078e954dd3a9aaa54dcd988383",
       "version_major": 2,
       "version_minor": 0
      },
      "text/plain": [
       "Valid [12]:   0%|          | 0/458 [00:00<?, ?batch/s]"
      ]
     },
     "metadata": {},
     "output_type": "display_data"
    },
    {
     "name": "stdout",
     "output_type": "stream",
     "text": [
      "Epoch 13 [0/458] | Valid Loss: 0.6735 | Elapse: 0.34s\n",
      "Epoch 13 [50/458] | Valid Loss: 0.7147 | Elapse: 17.15s\n",
      "Epoch 13 [100/458] | Valid Loss: 0.7429 | Elapse: 33.97s\n",
      "Epoch 13 [150/458] | Valid Loss: 0.7360 | Elapse: 50.72s\n",
      "Epoch 13 [200/458] | Valid Loss: 0.7428 | Elapse: 67.44s\n",
      "Epoch 13 [250/458] | Valid Loss: 0.7442 | Elapse: 84.12s\n",
      "Epoch 13 [300/458] | Valid Loss: 0.7504 | Elapse: 100.87s\n",
      "Epoch 13 [350/458] | Valid Loss: 0.7506 | Elapse: 117.67s\n",
      "Epoch 13 [400/458] | Valid Loss: 0.7547 | Elapse: 134.47s\n",
      "Epoch 13 [450/458] | Valid Loss: 0.7545 | Elapse: 151.25s\n"
     ]
    },
    {
     "name": "stderr",
     "output_type": "stream",
     "text": [
      "----------------------------------------------------------------------------------------------------\n",
      "Epoch 13 - Average Loss: (train) 0.7697; (valid) 0.7548 | Time: 713.66s\n",
      "Best model found in epoch 13 | valid loss: 0.7548\n"
     ]
    },
    {
     "name": "stdout",
     "output_type": "stream",
     "text": [
      "Epoch 13 [457/458] | Valid Loss: 0.7548 | Elapse: 153.37s\n"
     ]
    },
    {
     "data": {
      "application/vnd.jupyter.widget-view+json": {
       "model_id": "f8795b994e1049b3bc206d93a19afb20",
       "version_major": 2,
       "version_minor": 0
      },
      "text/plain": [
       "Train [13]:   0%|          | 0/804 [00:00<?, ?batch/s]"
      ]
     },
     "metadata": {},
     "output_type": "display_data"
    },
    {
     "name": "stdout",
     "output_type": "stream",
     "text": [
      "Epoch 14 [0/804] | Train Loss: 0.6896 Grad: 286112.9688 LR: 6.9803e-05 | Elapse: 0.70s\n",
      "Epoch 14 [50/804] | Train Loss: 0.7441 Grad: 262534.0000 LR: 6.9470e-05 | Elapse: 35.53s\n",
      "Epoch 14 [100/804] | Train Loss: 0.7488 Grad: 130642.0938 LR: 6.9136e-05 | Elapse: 70.39s\n",
      "Epoch 14 [150/804] | Train Loss: 0.7483 Grad: 230648.8594 LR: 6.8802e-05 | Elapse: 105.31s\n",
      "Epoch 14 [200/804] | Train Loss: 0.7573 Grad: 171237.0156 LR: 6.8466e-05 | Elapse: 140.16s\n",
      "Epoch 14 [250/804] | Train Loss: 0.7588 Grad: 203859.1875 LR: 6.8130e-05 | Elapse: 175.18s\n",
      "Epoch 14 [300/804] | Train Loss: 0.7595 Grad: 131620.1719 LR: 6.7792e-05 | Elapse: 210.10s\n",
      "Epoch 14 [350/804] | Train Loss: 0.7590 Grad: 136988.3125 LR: 6.7454e-05 | Elapse: 244.94s\n",
      "Epoch 14 [400/804] | Train Loss: 0.7602 Grad: 155650.0000 LR: 6.7114e-05 | Elapse: 279.75s\n",
      "Epoch 14 [450/804] | Train Loss: 0.7598 Grad: 208366.3438 LR: 6.6774e-05 | Elapse: 314.67s\n",
      "Epoch 14 [500/804] | Train Loss: 0.7605 Grad: 194486.1250 LR: 6.6433e-05 | Elapse: 349.47s\n",
      "Epoch 14 [550/804] | Train Loss: 0.7586 Grad: 138897.0938 LR: 6.6091e-05 | Elapse: 384.26s\n",
      "Epoch 14 [600/804] | Train Loss: 0.7620 Grad: 140976.2656 LR: 6.5748e-05 | Elapse: 419.20s\n",
      "Epoch 14 [650/804] | Train Loss: 0.7623 Grad: 220407.5312 LR: 6.5404e-05 | Elapse: 454.16s\n",
      "Epoch 14 [700/804] | Train Loss: 0.7606 Grad: 120971.7500 LR: 6.5060e-05 | Elapse: 489.04s\n",
      "Epoch 14 [750/804] | Train Loss: 0.7610 Grad: 141837.7344 LR: 6.4714e-05 | Elapse: 523.97s\n",
      "Epoch 14 [800/804] | Train Loss: 0.7598 Grad: 144498.6250 LR: 6.4368e-05 | Elapse: 558.91s\n",
      "Epoch 14 [803/804] | Train Loss: 0.7603 Grad: 192784.8750 LR: 6.4347e-05 | Elapse: 561.02s\n"
     ]
    },
    {
     "data": {
      "application/vnd.jupyter.widget-view+json": {
       "model_id": "4ea018dd122643ea9b5d583da5c7c79e",
       "version_major": 2,
       "version_minor": 0
      },
      "text/plain": [
       "Valid [13]:   0%|          | 0/458 [00:00<?, ?batch/s]"
      ]
     },
     "metadata": {},
     "output_type": "display_data"
    },
    {
     "name": "stdout",
     "output_type": "stream",
     "text": [
      "Epoch 14 [0/458] | Valid Loss: 0.6680 | Elapse: 0.35s\n",
      "Epoch 14 [50/458] | Valid Loss: 0.7079 | Elapse: 17.34s\n",
      "Epoch 14 [100/458] | Valid Loss: 0.7365 | Elapse: 34.37s\n",
      "Epoch 14 [150/458] | Valid Loss: 0.7297 | Elapse: 51.38s\n",
      "Epoch 14 [200/458] | Valid Loss: 0.7368 | Elapse: 68.37s\n",
      "Epoch 14 [250/458] | Valid Loss: 0.7379 | Elapse: 85.22s\n",
      "Epoch 14 [300/458] | Valid Loss: 0.7441 | Elapse: 102.11s\n",
      "Epoch 14 [350/458] | Valid Loss: 0.7441 | Elapse: 118.92s\n",
      "Epoch 14 [400/458] | Valid Loss: 0.7483 | Elapse: 135.66s\n",
      "Epoch 14 [450/458] | Valid Loss: 0.7481 | Elapse: 152.38s\n"
     ]
    },
    {
     "name": "stderr",
     "output_type": "stream",
     "text": [
      "----------------------------------------------------------------------------------------------------\n",
      "Epoch 14 - Average Loss: (train) 0.7603; (valid) 0.7484 | Time: 715.52s\n",
      "Best model found in epoch 14 | valid loss: 0.7484\n"
     ]
    },
    {
     "name": "stdout",
     "output_type": "stream",
     "text": [
      "Epoch 14 [457/458] | Valid Loss: 0.7484 | Elapse: 154.50s\n"
     ]
    },
    {
     "data": {
      "application/vnd.jupyter.widget-view+json": {
       "model_id": "901b57e35d5f48d39e4ad9bbc4f50345",
       "version_major": 2,
       "version_minor": 0
      },
      "text/plain": [
       "Train [14]:   0%|          | 0/804 [00:00<?, ?batch/s]"
      ]
     },
     "metadata": {},
     "output_type": "display_data"
    },
    {
     "name": "stdout",
     "output_type": "stream",
     "text": [
      "Epoch 15 [0/804] | Train Loss: 0.6789 Grad: 288241.6562 LR: 6.4341e-05 | Elapse: 0.70s\n",
      "Epoch 15 [50/804] | Train Loss: 0.7343 Grad: 278884.5938 LR: 6.3994e-05 | Elapse: 35.61s\n",
      "Epoch 15 [100/804] | Train Loss: 0.7393 Grad: 135119.0781 LR: 6.3646e-05 | Elapse: 70.58s\n",
      "Epoch 15 [150/804] | Train Loss: 0.7389 Grad: 236539.7188 LR: 6.3298e-05 | Elapse: 105.45s\n",
      "Epoch 15 [200/804] | Train Loss: 0.7479 Grad: 174561.7344 LR: 6.2949e-05 | Elapse: 140.41s\n",
      "Epoch 15 [250/804] | Train Loss: 0.7496 Grad: 203493.8750 LR: 6.2599e-05 | Elapse: 175.38s\n",
      "Epoch 15 [300/804] | Train Loss: 0.7505 Grad: 136408.6562 LR: 6.2249e-05 | Elapse: 210.41s\n",
      "Epoch 15 [350/804] | Train Loss: 0.7502 Grad: 133163.0469 LR: 6.1898e-05 | Elapse: 245.44s\n",
      "Epoch 15 [400/804] | Train Loss: 0.7515 Grad: 159505.0469 LR: 6.1546e-05 | Elapse: 280.57s\n",
      "Epoch 15 [450/804] | Train Loss: 0.7512 Grad: 216774.3438 LR: 6.1194e-05 | Elapse: 315.59s\n",
      "Epoch 15 [500/804] | Train Loss: 0.7519 Grad: 187923.4375 LR: 6.0841e-05 | Elapse: 350.65s\n",
      "Epoch 15 [550/804] | Train Loss: 0.7500 Grad: 140778.4219 LR: 6.0488e-05 | Elapse: 385.67s\n",
      "Epoch 15 [600/804] | Train Loss: 0.7533 Grad: 152672.6406 LR: 6.0134e-05 | Elapse: 420.60s\n",
      "Epoch 15 [650/804] | Train Loss: 0.7535 Grad: 217390.4062 LR: 5.9779e-05 | Elapse: 455.72s\n",
      "Epoch 15 [700/804] | Train Loss: 0.7519 Grad: 120591.1250 LR: 5.9425e-05 | Elapse: 490.75s\n",
      "Epoch 15 [750/804] | Train Loss: 0.7524 Grad: 142271.7188 LR: 5.9069e-05 | Elapse: 525.77s\n",
      "Epoch 15 [800/804] | Train Loss: 0.7513 Grad: 144684.7500 LR: 5.8713e-05 | Elapse: 560.90s\n",
      "Epoch 15 [803/804] | Train Loss: 0.7517 Grad: 197273.1250 LR: 5.8692e-05 | Elapse: 563.03s\n"
     ]
    },
    {
     "data": {
      "application/vnd.jupyter.widget-view+json": {
       "model_id": "215ae120ca8b4e96afa8b8d95cb1b4e4",
       "version_major": 2,
       "version_minor": 0
      },
      "text/plain": [
       "Valid [14]:   0%|          | 0/458 [00:00<?, ?batch/s]"
      ]
     },
     "metadata": {},
     "output_type": "display_data"
    },
    {
     "name": "stdout",
     "output_type": "stream",
     "text": [
      "Epoch 15 [0/458] | Valid Loss: 0.6645 | Elapse: 0.35s\n",
      "Epoch 15 [50/458] | Valid Loss: 0.7020 | Elapse: 17.54s\n",
      "Epoch 15 [100/458] | Valid Loss: 0.7308 | Elapse: 34.64s\n",
      "Epoch 15 [150/458] | Valid Loss: 0.7241 | Elapse: 51.66s\n",
      "Epoch 15 [200/458] | Valid Loss: 0.7315 | Elapse: 68.58s\n",
      "Epoch 15 [250/458] | Valid Loss: 0.7325 | Elapse: 85.49s\n",
      "Epoch 15 [300/458] | Valid Loss: 0.7386 | Elapse: 102.40s\n",
      "Epoch 15 [350/458] | Valid Loss: 0.7386 | Elapse: 119.37s\n",
      "Epoch 15 [400/458] | Valid Loss: 0.7429 | Elapse: 136.32s\n",
      "Epoch 15 [450/458] | Valid Loss: 0.7428 | Elapse: 153.27s\n"
     ]
    },
    {
     "name": "stderr",
     "output_type": "stream",
     "text": [
      "----------------------------------------------------------------------------------------------------\n",
      "Epoch 15 - Average Loss: (train) 0.7517; (valid) 0.7431 | Time: 718.44s\n",
      "Best model found in epoch 15 | valid loss: 0.7431\n"
     ]
    },
    {
     "name": "stdout",
     "output_type": "stream",
     "text": [
      "Epoch 15 [457/458] | Valid Loss: 0.7431 | Elapse: 155.41s\n"
     ]
    },
    {
     "data": {
      "application/vnd.jupyter.widget-view+json": {
       "model_id": "67ea96c3681f4ca3a2e0a284aa0a297c",
       "version_major": 2,
       "version_minor": 0
      },
      "text/plain": [
       "Train [15]:   0%|          | 0/804 [00:00<?, ?batch/s]"
      ]
     },
     "metadata": {},
     "output_type": "display_data"
    },
    {
     "name": "stdout",
     "output_type": "stream",
     "text": [
      "Epoch 16 [0/804] | Train Loss: 0.6717 Grad: 292004.8750 LR: 5.8685e-05 | Elapse: 0.70s\n",
      "Epoch 16 [50/804] | Train Loss: 0.7254 Grad: 153902.0000 LR: 5.8328e-05 | Elapse: 35.56s\n",
      "Epoch 16 [100/804] | Train Loss: 0.7313 Grad: 138742.6250 LR: 5.7971e-05 | Elapse: 70.41s\n",
      "Epoch 16 [150/804] | Train Loss: 0.7302 Grad: 238993.2031 LR: 5.7614e-05 | Elapse: 105.33s\n",
      "Epoch 16 [200/804] | Train Loss: 0.7393 Grad: 176062.4531 LR: 5.7257e-05 | Elapse: 140.25s\n",
      "Epoch 16 [250/804] | Train Loss: 0.7411 Grad: 204302.3125 LR: 5.6899e-05 | Elapse: 175.17s\n",
      "Epoch 16 [300/804] | Train Loss: 0.7421 Grad: 140401.5781 LR: 5.6540e-05 | Elapse: 210.15s\n",
      "Epoch 16 [350/804] | Train Loss: 0.7420 Grad: 127806.1094 LR: 5.6181e-05 | Elapse: 245.08s\n",
      "Epoch 16 [400/804] | Train Loss: 0.7434 Grad: 164867.5625 LR: 5.5822e-05 | Elapse: 279.99s\n",
      "Epoch 16 [450/804] | Train Loss: 0.7431 Grad: 226430.9375 LR: 5.5463e-05 | Elapse: 314.88s\n",
      "Epoch 16 [500/804] | Train Loss: 0.7440 Grad: 183221.8906 LR: 5.5103e-05 | Elapse: 349.84s\n",
      "Epoch 16 [550/804] | Train Loss: 0.7419 Grad: 144658.0781 LR: 5.4743e-05 | Elapse: 384.82s\n",
      "Epoch 16 [600/804] | Train Loss: 0.7451 Grad: 156612.5625 LR: 5.4383e-05 | Elapse: 419.69s\n",
      "Epoch 16 [650/804] | Train Loss: 0.7453 Grad: 214629.1406 LR: 5.4023e-05 | Elapse: 454.61s\n",
      "Epoch 16 [700/804] | Train Loss: 0.7439 Grad: 123339.1172 LR: 5.3662e-05 | Elapse: 489.54s\n",
      "Epoch 16 [750/804] | Train Loss: 0.7444 Grad: 144144.8281 LR: 5.3301e-05 | Elapse: 524.47s\n",
      "Epoch 16 [800/804] | Train Loss: 0.7433 Grad: 144938.2188 LR: 5.2941e-05 | Elapse: 559.60s\n",
      "Epoch 16 [803/804] | Train Loss: 0.7437 Grad: 201063.4062 LR: 5.2919e-05 | Elapse: 561.70s\n"
     ]
    },
    {
     "data": {
      "application/vnd.jupyter.widget-view+json": {
       "model_id": "37ee0683a6ef45c4bbfc56a818891e58",
       "version_major": 2,
       "version_minor": 0
      },
      "text/plain": [
       "Valid [15]:   0%|          | 0/458 [00:00<?, ?batch/s]"
      ]
     },
     "metadata": {},
     "output_type": "display_data"
    },
    {
     "name": "stdout",
     "output_type": "stream",
     "text": [
      "Epoch 16 [0/458] | Valid Loss: 0.6625 | Elapse: 0.34s\n",
      "Epoch 16 [50/458] | Valid Loss: 0.6969 | Elapse: 17.29s\n",
      "Epoch 16 [100/458] | Valid Loss: 0.7255 | Elapse: 34.23s\n",
      "Epoch 16 [150/458] | Valid Loss: 0.7187 | Elapse: 51.12s\n",
      "Epoch 16 [200/458] | Valid Loss: 0.7265 | Elapse: 68.02s\n",
      "Epoch 16 [250/458] | Valid Loss: 0.7274 | Elapse: 84.78s\n",
      "Epoch 16 [300/458] | Valid Loss: 0.7335 | Elapse: 101.60s\n",
      "Epoch 16 [350/458] | Valid Loss: 0.7334 | Elapse: 118.42s\n",
      "Epoch 16 [400/458] | Valid Loss: 0.7377 | Elapse: 135.18s\n",
      "Epoch 16 [450/458] | Valid Loss: 0.7377 | Elapse: 151.89s\n"
     ]
    },
    {
     "name": "stderr",
     "output_type": "stream",
     "text": [
      "----------------------------------------------------------------------------------------------------\n",
      "Epoch 16 - Average Loss: (train) 0.7437; (valid) 0.7379 | Time: 715.70s\n",
      "Best model found in epoch 16 | valid loss: 0.7379\n"
     ]
    },
    {
     "name": "stdout",
     "output_type": "stream",
     "text": [
      "Epoch 16 [457/458] | Valid Loss: 0.7379 | Elapse: 153.99s\n"
     ]
    },
    {
     "data": {
      "application/vnd.jupyter.widget-view+json": {
       "model_id": "df6ad9369e384dd1aa557a70eae9c2f6",
       "version_major": 2,
       "version_minor": 0
      },
      "text/plain": [
       "Train [16]:   0%|          | 0/804 [00:00<?, ?batch/s]"
      ]
     },
     "metadata": {},
     "output_type": "display_data"
    },
    {
     "name": "stdout",
     "output_type": "stream",
     "text": [
      "Epoch 17 [0/804] | Train Loss: 0.6644 Grad: 293486.5312 LR: 5.2912e-05 | Elapse: 0.70s\n",
      "Epoch 17 [50/804] | Train Loss: 0.7171 Grad: 162386.0625 LR: 5.2551e-05 | Elapse: 35.51s\n",
      "Epoch 17 [100/804] | Train Loss: 0.7238 Grad: 146569.7188 LR: 5.2189e-05 | Elapse: 70.43s\n",
      "Epoch 17 [150/804] | Train Loss: 0.7223 Grad: 240304.6250 LR: 5.1828e-05 | Elapse: 105.28s\n",
      "Epoch 17 [200/804] | Train Loss: 0.7315 Grad: 174049.0938 LR: 5.1466e-05 | Elapse: 140.18s\n",
      "Epoch 17 [250/804] | Train Loss: 0.7335 Grad: 206172.5469 LR: 5.1105e-05 | Elapse: 175.13s\n",
      "Epoch 17 [300/804] | Train Loss: 0.7344 Grad: 144532.9375 LR: 5.0743e-05 | Elapse: 210.08s\n",
      "Epoch 17 [350/804] | Train Loss: 0.7345 Grad: 120073.5938 LR: 5.0382e-05 | Elapse: 244.94s\n",
      "Epoch 17 [400/804] | Train Loss: 0.7361 Grad: 172030.1719 LR: 5.0020e-05 | Elapse: 279.82s\n",
      "Epoch 17 [450/804] | Train Loss: 0.7359 Grad: 235599.8438 LR: 4.9658e-05 | Elapse: 314.85s\n",
      "Epoch 17 [500/804] | Train Loss: 0.7368 Grad: 182310.0781 LR: 4.9297e-05 | Elapse: 349.86s\n",
      "Epoch 17 [550/804] | Train Loss: 0.7345 Grad: 148657.5625 LR: 4.8935e-05 | Elapse: 384.75s\n",
      "Epoch 17 [600/804] | Train Loss: 0.7377 Grad: 158173.7344 LR: 4.8574e-05 | Elapse: 419.81s\n",
      "Epoch 17 [650/804] | Train Loss: 0.7378 Grad: 212027.6250 LR: 4.8212e-05 | Elapse: 454.79s\n",
      "Epoch 17 [700/804] | Train Loss: 0.7364 Grad: 127242.2031 LR: 4.7851e-05 | Elapse: 489.79s\n",
      "Epoch 17 [750/804] | Train Loss: 0.7371 Grad: 146416.0938 LR: 4.7489e-05 | Elapse: 524.82s\n",
      "Epoch 17 [800/804] | Train Loss: 0.7360 Grad: 145457.3906 LR: 4.7128e-05 | Elapse: 559.80s\n",
      "Epoch 17 [803/804] | Train Loss: 0.7364 Grad: 203520.7812 LR: 4.7107e-05 | Elapse: 561.90s\n"
     ]
    },
    {
     "data": {
      "application/vnd.jupyter.widget-view+json": {
       "model_id": "36e6096c4a1640bd8f808a18ae36e362",
       "version_major": 2,
       "version_minor": 0
      },
      "text/plain": [
       "Valid [16]:   0%|          | 0/458 [00:00<?, ?batch/s]"
      ]
     },
     "metadata": {},
     "output_type": "display_data"
    },
    {
     "name": "stdout",
     "output_type": "stream",
     "text": [
      "Epoch 17 [0/458] | Valid Loss: 0.6602 | Elapse: 0.34s\n",
      "Epoch 17 [50/458] | Valid Loss: 0.6924 | Elapse: 17.37s\n",
      "Epoch 17 [100/458] | Valid Loss: 0.7207 | Elapse: 34.44s\n",
      "Epoch 17 [150/458] | Valid Loss: 0.7137 | Elapse: 51.43s\n",
      "Epoch 17 [200/458] | Valid Loss: 0.7219 | Elapse: 68.41s\n",
      "Epoch 17 [250/458] | Valid Loss: 0.7228 | Elapse: 85.29s\n",
      "Epoch 17 [300/458] | Valid Loss: 0.7290 | Elapse: 102.12s\n",
      "Epoch 17 [350/458] | Valid Loss: 0.7288 | Elapse: 118.88s\n",
      "Epoch 17 [400/458] | Valid Loss: 0.7332 | Elapse: 135.70s\n",
      "Epoch 17 [450/458] | Valid Loss: 0.7332 | Elapse: 152.53s\n"
     ]
    },
    {
     "name": "stderr",
     "output_type": "stream",
     "text": [
      "----------------------------------------------------------------------------------------------------\n",
      "Epoch 17 - Average Loss: (train) 0.7364; (valid) 0.7334 | Time: 716.55s\n",
      "Best model found in epoch 17 | valid loss: 0.7334\n"
     ]
    },
    {
     "name": "stdout",
     "output_type": "stream",
     "text": [
      "Epoch 17 [457/458] | Valid Loss: 0.7334 | Elapse: 154.65s\n"
     ]
    },
    {
     "data": {
      "application/vnd.jupyter.widget-view+json": {
       "model_id": "9a911159d4cc4ca9a5d21d556d055d78",
       "version_major": 2,
       "version_minor": 0
      },
      "text/plain": [
       "Train [17]:   0%|          | 0/804 [00:00<?, ?batch/s]"
      ]
     },
     "metadata": {},
     "output_type": "display_data"
    },
    {
     "name": "stdout",
     "output_type": "stream",
     "text": [
      "Epoch 18 [0/804] | Train Loss: 0.6580 Grad: 296136.3438 LR: 4.7099e-05 | Elapse: 0.70s\n",
      "Epoch 18 [50/804] | Train Loss: 0.7093 Grad: 170862.9219 LR: 4.6739e-05 | Elapse: 35.56s\n",
      "Epoch 18 [100/804] | Train Loss: 0.7169 Grad: 159134.1875 LR: 4.6378e-05 | Elapse: 70.51s\n",
      "Epoch 18 [150/804] | Train Loss: 0.7151 Grad: 239181.6562 LR: 4.6017e-05 | Elapse: 105.45s\n",
      "Epoch 18 [200/804] | Train Loss: 0.7243 Grad: 169311.3594 LR: 4.5657e-05 | Elapse: 140.49s\n",
      "Epoch 18 [250/804] | Train Loss: 0.7263 Grad: 209409.5781 LR: 4.5297e-05 | Elapse: 175.54s\n",
      "Epoch 18 [300/804] | Train Loss: 0.7272 Grad: 147130.1250 LR: 4.4937e-05 | Elapse: 210.57s\n",
      "Epoch 18 [350/804] | Train Loss: 0.7276 Grad: 110868.6250 LR: 4.4577e-05 | Elapse: 245.50s\n",
      "Epoch 18 [400/804] | Train Loss: 0.7294 Grad: 179611.4375 LR: 4.4218e-05 | Elapse: 280.55s\n",
      "Epoch 18 [450/804] | Train Loss: 0.7292 Grad: 241272.5156 LR: 4.3859e-05 | Elapse: 315.53s\n",
      "Epoch 18 [500/804] | Train Loss: 0.7301 Grad: 184935.2344 LR: 4.3500e-05 | Elapse: 350.59s\n",
      "Epoch 18 [550/804] | Train Loss: 0.7277 Grad: 152447.4844 LR: 4.3141e-05 | Elapse: 385.61s\n",
      "Epoch 18 [600/804] | Train Loss: 0.7309 Grad: 160386.7500 LR: 4.2783e-05 | Elapse: 420.67s\n",
      "Epoch 18 [650/804] | Train Loss: 0.7309 Grad: 210472.7344 LR: 4.2426e-05 | Elapse: 455.71s\n",
      "Epoch 18 [700/804] | Train Loss: 0.7295 Grad: 130870.8125 LR: 4.2069e-05 | Elapse: 490.92s\n",
      "Epoch 18 [750/804] | Train Loss: 0.7302 Grad: 148400.4062 LR: 4.1712e-05 | Elapse: 526.02s\n",
      "Epoch 18 [800/804] | Train Loss: 0.7292 Grad: 146451.5469 LR: 4.1355e-05 | Elapse: 561.03s\n",
      "Epoch 18 [803/804] | Train Loss: 0.7296 Grad: 206429.5000 LR: 4.1334e-05 | Elapse: 563.14s\n"
     ]
    },
    {
     "data": {
      "application/vnd.jupyter.widget-view+json": {
       "model_id": "c1aef39c70fb41eda7410da204a74dff",
       "version_major": 2,
       "version_minor": 0
      },
      "text/plain": [
       "Valid [17]:   0%|          | 0/458 [00:00<?, ?batch/s]"
      ]
     },
     "metadata": {},
     "output_type": "display_data"
    },
    {
     "name": "stdout",
     "output_type": "stream",
     "text": [
      "Epoch 18 [0/458] | Valid Loss: 0.6559 | Elapse: 0.35s\n",
      "Epoch 18 [50/458] | Valid Loss: 0.6885 | Elapse: 17.47s\n",
      "Epoch 18 [100/458] | Valid Loss: 0.7164 | Elapse: 34.45s\n",
      "Epoch 18 [150/458] | Valid Loss: 0.7093 | Elapse: 51.44s\n",
      "Epoch 18 [200/458] | Valid Loss: 0.7179 | Elapse: 68.40s\n",
      "Epoch 18 [250/458] | Valid Loss: 0.7190 | Elapse: 85.16s\n",
      "Epoch 18 [300/458] | Valid Loss: 0.7253 | Elapse: 101.88s\n",
      "Epoch 18 [350/458] | Valid Loss: 0.7251 | Elapse: 118.69s\n",
      "Epoch 18 [400/458] | Valid Loss: 0.7297 | Elapse: 135.43s\n",
      "Epoch 18 [450/458] | Valid Loss: 0.7298 | Elapse: 152.17s\n"
     ]
    },
    {
     "name": "stderr",
     "output_type": "stream",
     "text": [
      "----------------------------------------------------------------------------------------------------\n",
      "Epoch 18 - Average Loss: (train) 0.7296; (valid) 0.7300 | Time: 717.44s\n",
      "Best model found in epoch 18 | valid loss: 0.7300\n"
     ]
    },
    {
     "name": "stdout",
     "output_type": "stream",
     "text": [
      "Epoch 18 [457/458] | Valid Loss: 0.7300 | Elapse: 154.29s\n"
     ]
    },
    {
     "data": {
      "application/vnd.jupyter.widget-view+json": {
       "model_id": "7f112a958f13439f92cda05c9c672263",
       "version_major": 2,
       "version_minor": 0
      },
      "text/plain": [
       "Train [18]:   0%|          | 0/804 [00:00<?, ?batch/s]"
      ]
     },
     "metadata": {},
     "output_type": "display_data"
    },
    {
     "name": "stdout",
     "output_type": "stream",
     "text": [
      "Epoch 19 [0/804] | Train Loss: 0.6516 Grad: 300252.2188 LR: 4.1327e-05 | Elapse: 0.70s\n",
      "Epoch 19 [50/804] | Train Loss: 0.7028 Grad: 179050.4531 LR: 4.0971e-05 | Elapse: 35.63s\n",
      "Epoch 19 [100/804] | Train Loss: 0.7109 Grad: 168475.6406 LR: 4.0615e-05 | Elapse: 70.54s\n",
      "Epoch 19 [150/804] | Train Loss: 0.7085 Grad: 237860.7656 LR: 4.0261e-05 | Elapse: 105.52s\n",
      "Epoch 19 [200/804] | Train Loss: 0.7177 Grad: 165078.1094 LR: 3.9906e-05 | Elapse: 140.59s\n",
      "Epoch 19 [250/804] | Train Loss: 0.7196 Grad: 210807.0000 LR: 3.9552e-05 | Elapse: 175.55s\n",
      "Epoch 19 [300/804] | Train Loss: 0.7204 Grad: 148282.0781 LR: 3.9199e-05 | Elapse: 210.58s\n",
      "Epoch 19 [350/804] | Train Loss: 0.7211 Grad: 102965.0469 LR: 3.8846e-05 | Elapse: 245.64s\n",
      "Epoch 19 [400/804] | Train Loss: 0.7229 Grad: 184560.8281 LR: 3.8494e-05 | Elapse: 280.63s\n",
      "Epoch 19 [450/804] | Train Loss: 0.7227 Grad: 244524.5938 LR: 3.8142e-05 | Elapse: 315.68s\n",
      "Epoch 19 [500/804] | Train Loss: 0.7236 Grad: 188426.9062 LR: 3.7791e-05 | Elapse: 350.75s\n",
      "Epoch 19 [550/804] | Train Loss: 0.7211 Grad: 156211.4219 LR: 3.7441e-05 | Elapse: 385.75s\n",
      "Epoch 19 [600/804] | Train Loss: 0.7243 Grad: 162247.1562 LR: 3.7091e-05 | Elapse: 420.75s\n",
      "Epoch 19 [650/804] | Train Loss: 0.7243 Grad: 211657.9062 LR: 3.6742e-05 | Elapse: 455.68s\n",
      "Epoch 19 [700/804] | Train Loss: 0.7229 Grad: 135028.7344 LR: 3.6394e-05 | Elapse: 490.63s\n",
      "Epoch 19 [750/804] | Train Loss: 0.7238 Grad: 149713.2500 LR: 3.6046e-05 | Elapse: 525.58s\n",
      "Epoch 19 [800/804] | Train Loss: 0.7229 Grad: 147128.4062 LR: 3.5699e-05 | Elapse: 560.56s\n",
      "Epoch 19 [803/804] | Train Loss: 0.7232 Grad: 210308.0938 LR: 3.5679e-05 | Elapse: 562.65s\n"
     ]
    },
    {
     "data": {
      "application/vnd.jupyter.widget-view+json": {
       "model_id": "773f463e671f46bf90b29b8cec852ace",
       "version_major": 2,
       "version_minor": 0
      },
      "text/plain": [
       "Valid [18]:   0%|          | 0/458 [00:00<?, ?batch/s]"
      ]
     },
     "metadata": {},
     "output_type": "display_data"
    },
    {
     "name": "stdout",
     "output_type": "stream",
     "text": [
      "Epoch 19 [0/458] | Valid Loss: 0.6505 | Elapse: 0.34s\n",
      "Epoch 19 [50/458] | Valid Loss: 0.6856 | Elapse: 17.39s\n",
      "Epoch 19 [100/458] | Valid Loss: 0.7132 | Elapse: 34.41s\n",
      "Epoch 19 [150/458] | Valid Loss: 0.7060 | Elapse: 51.41s\n",
      "Epoch 19 [200/458] | Valid Loss: 0.7150 | Elapse: 68.39s\n",
      "Epoch 19 [250/458] | Valid Loss: 0.7165 | Elapse: 85.39s\n",
      "Epoch 19 [300/458] | Valid Loss: 0.7229 | Elapse: 102.35s\n",
      "Epoch 19 [350/458] | Valid Loss: 0.7228 | Elapse: 119.27s\n",
      "Epoch 19 [400/458] | Valid Loss: 0.7277 | Elapse: 136.14s\n",
      "Epoch 19 [450/458] | Valid Loss: 0.7280 | Elapse: 153.03s\n"
     ]
    },
    {
     "name": "stderr",
     "output_type": "stream",
     "text": [
      "----------------------------------------------------------------------------------------------------\n",
      "Epoch 19 - Average Loss: (train) 0.7232; (valid) 0.7281 | Time: 717.80s\n",
      "Best model found in epoch 19 | valid loss: 0.7281\n"
     ]
    },
    {
     "name": "stdout",
     "output_type": "stream",
     "text": [
      "Epoch 19 [457/458] | Valid Loss: 0.7281 | Elapse: 155.14s\n"
     ]
    },
    {
     "data": {
      "application/vnd.jupyter.widget-view+json": {
       "model_id": "0db46c8084d74d89bf0fc8a37018a2b6",
       "version_major": 2,
       "version_minor": 0
      },
      "text/plain": [
       "Train [19]:   0%|          | 0/804 [00:00<?, ?batch/s]"
      ]
     },
     "metadata": {},
     "output_type": "display_data"
    },
    {
     "name": "stdout",
     "output_type": "stream",
     "text": [
      "Epoch 20 [0/804] | Train Loss: 0.6487 Grad: 309546.6562 LR: 3.5672e-05 | Elapse: 0.70s\n",
      "Epoch 20 [50/804] | Train Loss: 0.6970 Grad: 185847.2344 LR: 3.5326e-05 | Elapse: 35.55s\n",
      "Epoch 20 [100/804] | Train Loss: 0.7055 Grad: 175530.0625 LR: 3.4980e-05 | Elapse: 70.47s\n",
      "Epoch 20 [150/804] | Train Loss: 0.7025 Grad: 236408.4531 LR: 3.4636e-05 | Elapse: 105.47s\n",
      "Epoch 20 [200/804] | Train Loss: 0.7116 Grad: 161367.6406 LR: 3.4292e-05 | Elapse: 140.62s\n",
      "Epoch 20 [250/804] | Train Loss: 0.7135 Grad: 210796.4375 LR: 3.3949e-05 | Elapse: 175.61s\n",
      "Epoch 20 [300/804] | Train Loss: 0.7143 Grad: 148089.3125 LR: 3.3607e-05 | Elapse: 210.62s\n",
      "Epoch 20 [350/804] | Train Loss: 0.7151 Grad: 97905.5391 LR: 3.3266e-05 | Elapse: 245.70s\n",
      "Epoch 20 [400/804] | Train Loss: 0.7168 Grad: 185631.0781 LR: 3.2926e-05 | Elapse: 280.77s\n",
      "Epoch 20 [450/804] | Train Loss: 0.7168 Grad: 247658.8438 LR: 3.2586e-05 | Elapse: 315.75s\n",
      "Epoch 20 [500/804] | Train Loss: 0.7176 Grad: 190830.5469 LR: 3.2248e-05 | Elapse: 350.75s\n",
      "Epoch 20 [550/804] | Train Loss: 0.7150 Grad: 159559.2969 LR: 3.1910e-05 | Elapse: 385.65s\n",
      "Epoch 20 [600/804] | Train Loss: 0.7183 Grad: 162494.2656 LR: 3.1574e-05 | Elapse: 420.75s\n",
      "Epoch 20 [650/804] | Train Loss: 0.7182 Grad: 214720.2500 LR: 3.1238e-05 | Elapse: 455.79s\n",
      "Epoch 20 [700/804] | Train Loss: 0.7169 Grad: 141194.2656 LR: 3.0904e-05 | Elapse: 490.75s\n",
      "Epoch 20 [750/804] | Train Loss: 0.7179 Grad: 149632.7500 LR: 3.0570e-05 | Elapse: 525.73s\n",
      "Epoch 20 [800/804] | Train Loss: 0.7170 Grad: 148273.8750 LR: 3.0237e-05 | Elapse: 560.70s\n",
      "Epoch 20 [803/804] | Train Loss: 0.7174 Grad: 214818.5469 LR: 3.0217e-05 | Elapse: 562.79s\n"
     ]
    },
    {
     "data": {
      "application/vnd.jupyter.widget-view+json": {
       "model_id": "b8dba32cbdfc47d1b26ff1a354e418ba",
       "version_major": 2,
       "version_minor": 0
      },
      "text/plain": [
       "Valid [19]:   0%|          | 0/458 [00:00<?, ?batch/s]"
      ]
     },
     "metadata": {},
     "output_type": "display_data"
    },
    {
     "name": "stdout",
     "output_type": "stream",
     "text": [
      "Epoch 20 [0/458] | Valid Loss: 0.6451 | Elapse: 0.35s\n",
      "Epoch 20 [50/458] | Valid Loss: 0.6840 | Elapse: 17.29s\n",
      "Epoch 20 [100/458] | Valid Loss: 0.7114 | Elapse: 34.20s\n",
      "Epoch 20 [150/458] | Valid Loss: 0.7039 | Elapse: 51.15s\n",
      "Epoch 20 [200/458] | Valid Loss: 0.7135 | Elapse: 68.02s\n",
      "Epoch 20 [250/458] | Valid Loss: 0.7155 | Elapse: 84.76s\n",
      "Epoch 20 [300/458] | Valid Loss: 0.7221 | Elapse: 101.47s\n",
      "Epoch 20 [350/458] | Valid Loss: 0.7221 | Elapse: 118.26s\n",
      "Epoch 20 [400/458] | Valid Loss: 0.7272 | Elapse: 135.07s\n",
      "Epoch 20 [450/458] | Valid Loss: 0.7278 | Elapse: 151.88s\n"
     ]
    },
    {
     "name": "stderr",
     "output_type": "stream",
     "text": [
      "----------------------------------------------------------------------------------------------------\n",
      "Epoch 20 - Average Loss: (train) 0.7174; (valid) 0.7279 | Time: 716.80s\n",
      "Best model found in epoch 20 | valid loss: 0.7279\n"
     ]
    },
    {
     "name": "stdout",
     "output_type": "stream",
     "text": [
      "Epoch 20 [457/458] | Valid Loss: 0.7279 | Elapse: 154.01s\n"
     ]
    },
    {
     "data": {
      "application/vnd.jupyter.widget-view+json": {
       "model_id": "de3dc6bddaaf4d1f82fd35fbf4d6f08a",
       "version_major": 2,
       "version_minor": 0
      },
      "text/plain": [
       "Train [20]:   0%|          | 0/804 [00:00<?, ?batch/s]"
      ]
     },
     "metadata": {},
     "output_type": "display_data"
    },
    {
     "name": "stdout",
     "output_type": "stream",
     "text": [
      "Epoch 21 [0/804] | Train Loss: 0.6509 Grad: 323147.0312 LR: 3.0211e-05 | Elapse: 0.70s\n",
      "Epoch 21 [50/804] | Train Loss: 0.6920 Grad: 192097.0781 LR: 2.9879e-05 | Elapse: 35.65s\n",
      "Epoch 21 [100/804] | Train Loss: 0.7005 Grad: 179894.4375 LR: 2.9549e-05 | Elapse: 70.67s\n",
      "Epoch 21 [150/804] | Train Loss: 0.6972 Grad: 234351.9219 LR: 2.9219e-05 | Elapse: 105.73s\n",
      "Epoch 21 [200/804] | Train Loss: 0.7061 Grad: 159903.6250 LR: 2.8891e-05 | Elapse: 140.79s\n",
      "Epoch 21 [250/804] | Train Loss: 0.7080 Grad: 210289.8438 LR: 2.8564e-05 | Elapse: 175.78s\n",
      "Epoch 21 [300/804] | Train Loss: 0.7089 Grad: 146920.3594 LR: 2.8238e-05 | Elapse: 210.70s\n",
      "Epoch 21 [350/804] | Train Loss: 0.7096 Grad: 96083.7891 LR: 2.7913e-05 | Elapse: 245.69s\n",
      "Epoch 21 [400/804] | Train Loss: 0.7113 Grad: 184715.2812 LR: 2.7589e-05 | Elapse: 280.72s\n",
      "Epoch 21 [450/804] | Train Loss: 0.7114 Grad: 250581.5156 LR: 2.7266e-05 | Elapse: 315.67s\n",
      "Epoch 21 [500/804] | Train Loss: 0.7121 Grad: 192223.0625 LR: 2.6945e-05 | Elapse: 350.59s\n",
      "Epoch 21 [550/804] | Train Loss: 0.7095 Grad: 162053.0312 LR: 2.6625e-05 | Elapse: 385.47s\n",
      "Epoch 21 [600/804] | Train Loss: 0.7128 Grad: 162292.1250 LR: 2.6306e-05 | Elapse: 420.46s\n",
      "Epoch 21 [650/804] | Train Loss: 0.7128 Grad: 217757.3594 LR: 2.5988e-05 | Elapse: 455.37s\n",
      "Epoch 21 [700/804] | Train Loss: 0.7114 Grad: 147392.1875 LR: 2.5672e-05 | Elapse: 490.41s\n",
      "Epoch 21 [750/804] | Train Loss: 0.7125 Grad: 148466.3438 LR: 2.5356e-05 | Elapse: 525.40s\n",
      "Epoch 21 [800/804] | Train Loss: 0.7117 Grad: 150495.5625 LR: 2.5043e-05 | Elapse: 560.42s\n",
      "Epoch 21 [803/804] | Train Loss: 0.7121 Grad: 217749.6406 LR: 2.5024e-05 | Elapse: 562.52s\n"
     ]
    },
    {
     "data": {
      "application/vnd.jupyter.widget-view+json": {
       "model_id": "c9eea98674ea4c1c90c34e5ee1a87180",
       "version_major": 2,
       "version_minor": 0
      },
      "text/plain": [
       "Valid [20]:   0%|          | 0/458 [00:00<?, ?batch/s]"
      ]
     },
     "metadata": {},
     "output_type": "display_data"
    },
    {
     "name": "stdout",
     "output_type": "stream",
     "text": [
      "Epoch 21 [0/458] | Valid Loss: 0.6408 | Elapse: 0.34s\n",
      "Epoch 21 [50/458] | Valid Loss: 0.6824 | Elapse: 17.32s\n",
      "Epoch 21 [100/458] | Valid Loss: 0.7098 | Elapse: 34.30s\n",
      "Epoch 21 [150/458] | Valid Loss: 0.7022 | Elapse: 51.22s\n",
      "Epoch 21 [200/458] | Valid Loss: 0.7124 | Elapse: 68.10s\n",
      "Epoch 21 [250/458] | Valid Loss: 0.7146 | Elapse: 84.98s\n",
      "Epoch 21 [300/458] | Valid Loss: 0.7214 | Elapse: 101.86s\n",
      "Epoch 21 [350/458] | Valid Loss: 0.7213 | Elapse: 118.72s\n",
      "Epoch 21 [400/458] | Valid Loss: 0.7268 | Elapse: 135.61s\n",
      "Epoch 21 [450/458] | Valid Loss: 0.7274 | Elapse: 152.58s\n"
     ]
    },
    {
     "name": "stderr",
     "output_type": "stream",
     "text": [
      "----------------------------------------------------------------------------------------------------\n",
      "Epoch 21 - Average Loss: (train) 0.7121; (valid) 0.7275 | Time: 717.24s\n",
      "Best model found in epoch 21 | valid loss: 0.7275\n"
     ]
    },
    {
     "name": "stdout",
     "output_type": "stream",
     "text": [
      "Epoch 21 [457/458] | Valid Loss: 0.7275 | Elapse: 154.72s\n"
     ]
    },
    {
     "data": {
      "application/vnd.jupyter.widget-view+json": {
       "model_id": "98ab2f3e6c8b4af78266b1492ef0abde",
       "version_major": 2,
       "version_minor": 0
      },
      "text/plain": [
       "Train [21]:   0%|          | 0/804 [00:00<?, ?batch/s]"
      ]
     },
     "metadata": {},
     "output_type": "display_data"
    },
    {
     "name": "stdout",
     "output_type": "stream",
     "text": [
      "Epoch 22 [0/804] | Train Loss: 0.6540 Grad: 335200.4688 LR: 2.5017e-05 | Elapse: 0.70s\n",
      "Epoch 22 [50/804] | Train Loss: 0.6876 Grad: 196097.1562 LR: 2.4705e-05 | Elapse: 35.75s\n",
      "Epoch 22 [100/804] | Train Loss: 0.6961 Grad: 183859.7188 LR: 2.4394e-05 | Elapse: 70.85s\n",
      "Epoch 22 [150/804] | Train Loss: 0.6924 Grad: 231076.9688 LR: 2.4084e-05 | Elapse: 106.11s\n",
      "Epoch 22 [200/804] | Train Loss: 0.7012 Grad: 162064.0312 LR: 2.3776e-05 | Elapse: 141.13s\n",
      "Epoch 22 [250/804] | Train Loss: 0.7033 Grad: 209699.1562 LR: 2.3468e-05 | Elapse: 176.18s\n",
      "Epoch 22 [300/804] | Train Loss: 0.7041 Grad: 144139.0469 LR: 2.3163e-05 | Elapse: 211.35s\n",
      "Epoch 22 [350/804] | Train Loss: 0.7047 Grad: 96517.8750 LR: 2.2858e-05 | Elapse: 246.55s\n",
      "Epoch 22 [400/804] | Train Loss: 0.7065 Grad: 183894.5938 LR: 2.2556e-05 | Elapse: 281.60s\n",
      "Epoch 22 [450/804] | Train Loss: 0.7066 Grad: 253832.3594 LR: 2.2254e-05 | Elapse: 316.63s\n",
      "Epoch 22 [500/804] | Train Loss: 0.7072 Grad: 193642.7969 LR: 2.1954e-05 | Elapse: 351.58s\n",
      "Epoch 22 [550/804] | Train Loss: 0.7047 Grad: 164392.2656 LR: 2.1656e-05 | Elapse: 386.78s\n",
      "Epoch 22 [600/804] | Train Loss: 0.7080 Grad: 160472.3438 LR: 2.1359e-05 | Elapse: 421.96s\n",
      "Epoch 22 [650/804] | Train Loss: 0.7080 Grad: 219422.1250 LR: 2.1063e-05 | Elapse: 457.09s\n",
      "Epoch 22 [700/804] | Train Loss: 0.7066 Grad: 152826.0781 LR: 2.0769e-05 | Elapse: 492.09s\n",
      "Epoch 22 [750/804] | Train Loss: 0.7078 Grad: 147381.7812 LR: 2.0477e-05 | Elapse: 527.02s\n",
      "Epoch 22 [800/804] | Train Loss: 0.7071 Grad: 152185.4062 LR: 2.0186e-05 | Elapse: 561.85s\n",
      "Epoch 22 [803/804] | Train Loss: 0.7074 Grad: 219381.7188 LR: 2.0168e-05 | Elapse: 563.94s\n"
     ]
    },
    {
     "data": {
      "application/vnd.jupyter.widget-view+json": {
       "model_id": "79d9dcfe5266408392cc1ced2ac42a38",
       "version_major": 2,
       "version_minor": 0
      },
      "text/plain": [
       "Valid [21]:   0%|          | 0/458 [00:00<?, ?batch/s]"
      ]
     },
     "metadata": {},
     "output_type": "display_data"
    },
    {
     "name": "stdout",
     "output_type": "stream",
     "text": [
      "Epoch 22 [0/458] | Valid Loss: 0.6383 | Elapse: 0.34s\n",
      "Epoch 22 [50/458] | Valid Loss: 0.6805 | Elapse: 17.19s\n",
      "Epoch 22 [100/458] | Valid Loss: 0.7077 | Elapse: 33.98s\n",
      "Epoch 22 [150/458] | Valid Loss: 0.7002 | Elapse: 50.81s\n",
      "Epoch 22 [200/458] | Valid Loss: 0.7109 | Elapse: 67.66s\n",
      "Epoch 22 [250/458] | Valid Loss: 0.7132 | Elapse: 84.37s\n",
      "Epoch 22 [300/458] | Valid Loss: 0.7199 | Elapse: 101.03s\n",
      "Epoch 22 [350/458] | Valid Loss: 0.7198 | Elapse: 117.69s\n",
      "Epoch 22 [400/458] | Valid Loss: 0.7254 | Elapse: 134.34s\n",
      "Epoch 22 [450/458] | Valid Loss: 0.7261 | Elapse: 151.08s\n"
     ]
    },
    {
     "name": "stderr",
     "output_type": "stream",
     "text": [
      "----------------------------------------------------------------------------------------------------\n",
      "Epoch 22 - Average Loss: (train) 0.7074; (valid) 0.7262 | Time: 717.13s\n",
      "Best model found in epoch 22 | valid loss: 0.7262\n"
     ]
    },
    {
     "name": "stdout",
     "output_type": "stream",
     "text": [
      "Epoch 22 [457/458] | Valid Loss: 0.7262 | Elapse: 153.18s\n"
     ]
    },
    {
     "data": {
      "application/vnd.jupyter.widget-view+json": {
       "model_id": "6039f5414335491f813ad2184634db79",
       "version_major": 2,
       "version_minor": 0
      },
      "text/plain": [
       "Train [22]:   0%|          | 0/804 [00:00<?, ?batch/s]"
      ]
     },
     "metadata": {},
     "output_type": "display_data"
    },
    {
     "name": "stdout",
     "output_type": "stream",
     "text": [
      "Epoch 23 [0/804] | Train Loss: 0.6570 Grad: 345400.0000 LR: 2.0162e-05 | Elapse: 0.70s\n",
      "Epoch 23 [50/804] | Train Loss: 0.6839 Grad: 197586.5781 LR: 1.9873e-05 | Elapse: 35.46s\n",
      "Epoch 23 [100/804] | Train Loss: 0.6924 Grad: 187371.0000 LR: 1.9585e-05 | Elapse: 70.29s\n",
      "Epoch 23 [150/804] | Train Loss: 0.6884 Grad: 226868.9688 LR: 1.9299e-05 | Elapse: 105.21s\n",
      "Epoch 23 [200/804] | Train Loss: 0.6969 Grad: 167121.9062 LR: 1.9015e-05 | Elapse: 140.05s\n",
      "Epoch 23 [250/804] | Train Loss: 0.6992 Grad: 211136.7031 LR: 1.8732e-05 | Elapse: 174.88s\n",
      "Epoch 23 [300/804] | Train Loss: 0.7001 Grad: 139513.8750 LR: 1.8451e-05 | Elapse: 209.80s\n",
      "Epoch 23 [350/804] | Train Loss: 0.7003 Grad: 98058.0234 LR: 1.8171e-05 | Elapse: 244.70s\n",
      "Epoch 23 [400/804] | Train Loss: 0.7023 Grad: 183525.1094 LR: 1.7893e-05 | Elapse: 279.46s\n",
      "Epoch 23 [450/804] | Train Loss: 0.7025 Grad: 256311.1875 LR: 1.7617e-05 | Elapse: 314.29s\n",
      "Epoch 23 [500/804] | Train Loss: 0.7030 Grad: 196299.4062 LR: 1.7343e-05 | Elapse: 349.11s\n",
      "Epoch 23 [550/804] | Train Loss: 0.7005 Grad: 165876.7500 LR: 1.7070e-05 | Elapse: 384.02s\n",
      "Epoch 23 [600/804] | Train Loss: 0.7038 Grad: 158988.3281 LR: 1.6799e-05 | Elapse: 418.98s\n",
      "Epoch 23 [650/804] | Train Loss: 0.7038 Grad: 221507.9219 LR: 1.6530e-05 | Elapse: 453.86s\n",
      "Epoch 23 [700/804] | Train Loss: 0.7025 Grad: 157700.6875 LR: 1.6262e-05 | Elapse: 488.77s\n",
      "Epoch 23 [750/804] | Train Loss: 0.7038 Grad: 148498.0625 LR: 1.5996e-05 | Elapse: 523.78s\n",
      "Epoch 23 [800/804] | Train Loss: 0.7030 Grad: 150561.3594 LR: 1.5732e-05 | Elapse: 558.81s\n",
      "Epoch 23 [803/804] | Train Loss: 0.7033 Grad: 222298.8438 LR: 1.5716e-05 | Elapse: 560.89s\n"
     ]
    },
    {
     "data": {
      "application/vnd.jupyter.widget-view+json": {
       "model_id": "5e8b799a79884a9d96b384c6d5faf504",
       "version_major": 2,
       "version_minor": 0
      },
      "text/plain": [
       "Valid [22]:   0%|          | 0/458 [00:00<?, ?batch/s]"
      ]
     },
     "metadata": {},
     "output_type": "display_data"
    },
    {
     "name": "stdout",
     "output_type": "stream",
     "text": [
      "Epoch 23 [0/458] | Valid Loss: 0.6369 | Elapse: 0.34s\n",
      "Epoch 23 [50/458] | Valid Loss: 0.6793 | Elapse: 17.20s\n",
      "Epoch 23 [100/458] | Valid Loss: 0.7064 | Elapse: 34.02s\n",
      "Epoch 23 [150/458] | Valid Loss: 0.6990 | Elapse: 50.93s\n",
      "Epoch 23 [200/458] | Valid Loss: 0.7101 | Elapse: 67.82s\n",
      "Epoch 23 [250/458] | Valid Loss: 0.7126 | Elapse: 84.59s\n",
      "Epoch 23 [300/458] | Valid Loss: 0.7194 | Elapse: 101.36s\n",
      "Epoch 23 [350/458] | Valid Loss: 0.7196 | Elapse: 118.14s\n",
      "Epoch 23 [400/458] | Valid Loss: 0.7253 | Elapse: 134.95s\n",
      "Epoch 23 [450/458] | Valid Loss: 0.7261 | Elapse: 151.74s\n"
     ]
    },
    {
     "name": "stderr",
     "output_type": "stream",
     "text": [
      "----------------------------------------------------------------------------------------------------\n",
      "Epoch 23 - Average Loss: (train) 0.7033; (valid) 0.7262 | Time: 714.74s\n",
      "Best model found in epoch 23 | valid loss: 0.7262\n"
     ]
    },
    {
     "name": "stdout",
     "output_type": "stream",
     "text": [
      "Epoch 23 [457/458] | Valid Loss: 0.7262 | Elapse: 153.85s\n"
     ]
    },
    {
     "data": {
      "application/vnd.jupyter.widget-view+json": {
       "model_id": "44199e362c16488d83bf17f5da6b7e92",
       "version_major": 2,
       "version_minor": 0
      },
      "text/plain": [
       "Train [23]:   0%|          | 0/804 [00:00<?, ?batch/s]"
      ]
     },
     "metadata": {},
     "output_type": "display_data"
    },
    {
     "name": "stdout",
     "output_type": "stream",
     "text": [
      "Epoch 24 [0/804] | Train Loss: 0.6568 Grad: 349560.1250 LR: 1.5711e-05 | Elapse: 0.70s\n",
      "Epoch 24 [50/804] | Train Loss: 0.6809 Grad: 196467.9844 LR: 1.5449e-05 | Elapse: 35.51s\n",
      "Epoch 24 [100/804] | Train Loss: 0.6894 Grad: 188746.8906 LR: 1.5189e-05 | Elapse: 70.46s\n",
      "Epoch 24 [150/804] | Train Loss: 0.6849 Grad: 221922.5469 LR: 1.4930e-05 | Elapse: 105.38s\n",
      "Epoch 24 [200/804] | Train Loss: 0.6932 Grad: 174127.2656 LR: 1.4674e-05 | Elapse: 140.39s\n",
      "Epoch 24 [250/804] | Train Loss: 0.6957 Grad: 214003.4688 LR: 1.4419e-05 | Elapse: 175.36s\n",
      "Epoch 24 [300/804] | Train Loss: 0.6967 Grad: 134336.6250 LR: 1.4166e-05 | Elapse: 210.45s\n",
      "Epoch 24 [350/804] | Train Loss: 0.6967 Grad: 100309.6406 LR: 1.3915e-05 | Elapse: 245.57s\n",
      "Epoch 24 [400/804] | Train Loss: 0.6988 Grad: 184510.9375 LR: 1.3666e-05 | Elapse: 280.57s\n",
      "Epoch 24 [450/804] | Train Loss: 0.6991 Grad: 259821.4531 LR: 1.3419e-05 | Elapse: 315.64s\n",
      "Epoch 24 [500/804] | Train Loss: 0.6994 Grad: 198094.5469 LR: 1.3173e-05 | Elapse: 350.61s\n",
      "Epoch 24 [550/804] | Train Loss: 0.6969 Grad: 166964.6406 LR: 1.2930e-05 | Elapse: 385.68s\n",
      "Epoch 24 [600/804] | Train Loss: 0.7003 Grad: 157149.2031 LR: 1.2688e-05 | Elapse: 420.71s\n",
      "Epoch 24 [650/804] | Train Loss: 0.7004 Grad: 226359.1250 LR: 1.2449e-05 | Elapse: 455.76s\n",
      "Epoch 24 [700/804] | Train Loss: 0.6991 Grad: 161063.3906 LR: 1.2211e-05 | Elapse: 490.71s\n",
      "Epoch 24 [750/804] | Train Loss: 0.7004 Grad: 152356.1562 LR: 1.1976e-05 | Elapse: 525.64s\n",
      "Epoch 24 [800/804] | Train Loss: 0.6996 Grad: 146129.4844 LR: 1.1742e-05 | Elapse: 560.64s\n",
      "Epoch 24 [803/804] | Train Loss: 0.7000 Grad: 226412.3125 LR: 1.1728e-05 | Elapse: 562.73s\n"
     ]
    },
    {
     "data": {
      "application/vnd.jupyter.widget-view+json": {
       "model_id": "6c96ffb67d664b01994376ed42294d3a",
       "version_major": 2,
       "version_minor": 0
      },
      "text/plain": [
       "Valid [23]:   0%|          | 0/458 [00:00<?, ?batch/s]"
      ]
     },
     "metadata": {},
     "output_type": "display_data"
    },
    {
     "name": "stdout",
     "output_type": "stream",
     "text": [
      "Epoch 24 [0/458] | Valid Loss: 0.6372 | Elapse: 0.35s\n",
      "Epoch 24 [50/458] | Valid Loss: 0.6793 | Elapse: 17.37s\n",
      "Epoch 24 [100/458] | Valid Loss: 0.7061 | Elapse: 34.33s\n",
      "Epoch 24 [150/458] | Valid Loss: 0.6986 | Elapse: 51.30s\n",
      "Epoch 24 [200/458] | Valid Loss: 0.7100 | Elapse: 68.25s\n",
      "Epoch 24 [250/458] | Valid Loss: 0.7129 | Elapse: 85.18s\n",
      "Epoch 24 [300/458] | Valid Loss: 0.7198 | Elapse: 102.13s\n",
      "Epoch 24 [350/458] | Valid Loss: 0.7204 | Elapse: 119.05s\n",
      "Epoch 24 [400/458] | Valid Loss: 0.7263 | Elapse: 135.92s\n",
      "Epoch 24 [450/458] | Valid Loss: 0.7272 | Elapse: 152.84s\n"
     ]
    },
    {
     "name": "stderr",
     "output_type": "stream",
     "text": [
      "----------------------------------------------------------------------------------------------------\n",
      "Epoch 24 - Average Loss: (train) 0.7000; (valid) 0.7273 | Time: 717.71s\n"
     ]
    },
    {
     "name": "stdout",
     "output_type": "stream",
     "text": [
      "Epoch 24 [457/458] | Valid Loss: 0.7273 | Elapse: 154.97s\n"
     ]
    },
    {
     "data": {
      "application/vnd.jupyter.widget-view+json": {
       "model_id": "218246b333ed415e9458df33fa26428e",
       "version_major": 2,
       "version_minor": 0
      },
      "text/plain": [
       "Train [24]:   0%|          | 0/804 [00:00<?, ?batch/s]"
      ]
     },
     "metadata": {},
     "output_type": "display_data"
    },
    {
     "name": "stdout",
     "output_type": "stream",
     "text": [
      "Epoch 25 [0/804] | Train Loss: 0.6544 Grad: 347606.2500 LR: 1.1724e-05 | Elapse: 0.70s\n",
      "Epoch 25 [50/804] | Train Loss: 0.6782 Grad: 193906.4062 LR: 1.1492e-05 | Elapse: 35.65s\n",
      "Epoch 25 [100/804] | Train Loss: 0.6866 Grad: 188460.9688 LR: 1.1263e-05 | Elapse: 70.68s\n",
      "Epoch 25 [150/804] | Train Loss: 0.6818 Grad: 217934.5312 LR: 1.1036e-05 | Elapse: 105.70s\n",
      "Epoch 25 [200/804] | Train Loss: 0.6900 Grad: 182103.7500 LR: 1.0810e-05 | Elapse: 140.56s\n",
      "Epoch 25 [250/804] | Train Loss: 0.6926 Grad: 218597.0156 LR: 1.0587e-05 | Elapse: 175.44s\n",
      "Epoch 25 [300/804] | Train Loss: 0.6937 Grad: 130322.5391 LR: 1.0366e-05 | Elapse: 210.45s\n",
      "Epoch 25 [350/804] | Train Loss: 0.6935 Grad: 102848.4297 LR: 1.0147e-05 | Elapse: 245.49s\n",
      "Epoch 25 [400/804] | Train Loss: 0.6958 Grad: 187759.8906 LR: 9.9299e-06 | Elapse: 280.46s\n",
      "Epoch 25 [450/804] | Train Loss: 0.6961 Grad: 264424.7188 LR: 9.7150e-06 | Elapse: 315.30s\n",
      "Epoch 25 [500/804] | Train Loss: 0.6964 Grad: 196561.5156 LR: 9.5022e-06 | Elapse: 350.08s\n",
      "Epoch 25 [550/804] | Train Loss: 0.6939 Grad: 168715.0938 LR: 9.2915e-06 | Elapse: 384.92s\n",
      "Epoch 25 [600/804] | Train Loss: 0.6973 Grad: 152821.6562 LR: 9.0829e-06 | Elapse: 419.88s\n",
      "Epoch 25 [650/804] | Train Loss: 0.6976 Grad: 234077.2812 LR: 8.8765e-06 | Elapse: 454.76s\n",
      "Epoch 25 [700/804] | Train Loss: 0.6963 Grad: 163412.0156 LR: 8.6723e-06 | Elapse: 489.64s\n",
      "Epoch 25 [750/804] | Train Loss: 0.6975 Grad: 156774.4531 LR: 8.4702e-06 | Elapse: 524.61s\n",
      "Epoch 25 [800/804] | Train Loss: 0.6968 Grad: 142845.6250 LR: 8.2703e-06 | Elapse: 559.50s\n",
      "Epoch 25 [803/804] | Train Loss: 0.6971 Grad: 225856.0625 LR: 8.2583e-06 | Elapse: 561.60s\n"
     ]
    },
    {
     "data": {
      "application/vnd.jupyter.widget-view+json": {
       "model_id": "4f9613ca4cb741a48a87cfdc4615bb69",
       "version_major": 2,
       "version_minor": 0
      },
      "text/plain": [
       "Valid [24]:   0%|          | 0/458 [00:00<?, ?batch/s]"
      ]
     },
     "metadata": {},
     "output_type": "display_data"
    },
    {
     "name": "stdout",
     "output_type": "stream",
     "text": [
      "Epoch 25 [0/458] | Valid Loss: 0.6383 | Elapse: 0.35s\n",
      "Epoch 25 [50/458] | Valid Loss: 0.6772 | Elapse: 17.32s\n",
      "Epoch 25 [100/458] | Valid Loss: 0.7035 | Elapse: 34.20s\n",
      "Epoch 25 [150/458] | Valid Loss: 0.6958 | Elapse: 51.01s\n",
      "Epoch 25 [200/458] | Valid Loss: 0.7073 | Elapse: 67.79s\n",
      "Epoch 25 [250/458] | Valid Loss: 0.7100 | Elapse: 84.49s\n",
      "Epoch 25 [300/458] | Valid Loss: 0.7170 | Elapse: 101.16s\n",
      "Epoch 25 [350/458] | Valid Loss: 0.7176 | Elapse: 117.87s\n",
      "Epoch 25 [400/458] | Valid Loss: 0.7235 | Elapse: 134.58s\n",
      "Epoch 25 [450/458] | Valid Loss: 0.7244 | Elapse: 151.31s\n"
     ]
    },
    {
     "name": "stderr",
     "output_type": "stream",
     "text": [
      "----------------------------------------------------------------------------------------------------\n",
      "Epoch 25 - Average Loss: (train) 0.6971; (valid) 0.7244 | Time: 715.03s\n",
      "Best model found in epoch 25 | valid loss: 0.7244\n"
     ]
    },
    {
     "name": "stdout",
     "output_type": "stream",
     "text": [
      "Epoch 25 [457/458] | Valid Loss: 0.7244 | Elapse: 153.43s\n"
     ]
    },
    {
     "data": {
      "application/vnd.jupyter.widget-view+json": {
       "model_id": "122f897ce7f541f182408637793782e7",
       "version_major": 2,
       "version_minor": 0
      },
      "text/plain": [
       "Train [25]:   0%|          | 0/804 [00:00<?, ?batch/s]"
      ]
     },
     "metadata": {},
     "output_type": "display_data"
    },
    {
     "name": "stdout",
     "output_type": "stream",
     "text": [
      "Epoch 26 [0/804] | Train Loss: 0.6510 Grad: 340453.9375 LR: 8.2544e-06 | Elapse: 0.70s\n",
      "Epoch 26 [50/804] | Train Loss: 0.6755 Grad: 193190.1094 LR: 8.0568e-06 | Elapse: 35.50s\n",
      "Epoch 26 [100/804] | Train Loss: 0.6842 Grad: 185847.8906 LR: 7.8615e-06 | Elapse: 70.42s\n",
      "Epoch 26 [150/804] | Train Loss: 0.6792 Grad: 214900.6719 LR: 7.6683e-06 | Elapse: 105.27s\n",
      "Epoch 26 [200/804] | Train Loss: 0.6873 Grad: 189682.1406 LR: 7.4774e-06 | Elapse: 140.21s\n",
      "Epoch 26 [250/804] | Train Loss: 0.6901 Grad: 224027.4844 LR: 7.2887e-06 | Elapse: 175.12s\n",
      "Epoch 26 [300/804] | Train Loss: 0.6911 Grad: 127760.2500 LR: 7.1022e-06 | Elapse: 210.17s\n",
      "Epoch 26 [350/804] | Train Loss: 0.6908 Grad: 105118.6328 LR: 6.9180e-06 | Elapse: 245.11s\n",
      "Epoch 26 [400/804] | Train Loss: 0.6933 Grad: 190497.7812 LR: 6.7361e-06 | Elapse: 280.09s\n",
      "Epoch 26 [450/804] | Train Loss: 0.6937 Grad: 267509.3125 LR: 6.5564e-06 | Elapse: 315.07s\n",
      "Epoch 26 [500/804] | Train Loss: 0.6940 Grad: 191635.1875 LR: 6.3789e-06 | Elapse: 349.93s\n",
      "Epoch 26 [550/804] | Train Loss: 0.6914 Grad: 171241.2969 LR: 6.2038e-06 | Elapse: 384.85s\n",
      "Epoch 26 [600/804] | Train Loss: 0.6949 Grad: 148593.7656 LR: 6.0310e-06 | Elapse: 419.80s\n",
      "Epoch 26 [650/804] | Train Loss: 0.6953 Grad: 240222.3906 LR: 5.8604e-06 | Elapse: 454.64s\n",
      "Epoch 26 [700/804] | Train Loss: 0.6940 Grad: 165201.6562 LR: 5.6922e-06 | Elapse: 489.47s\n",
      "Epoch 26 [750/804] | Train Loss: 0.6951 Grad: 159680.7031 LR: 5.5263e-06 | Elapse: 524.36s\n",
      "Epoch 26 [800/804] | Train Loss: 0.6945 Grad: 142051.8750 LR: 5.3627e-06 | Elapse: 559.29s\n",
      "Epoch 26 [803/804] | Train Loss: 0.6948 Grad: 220890.4219 LR: 5.3530e-06 | Elapse: 561.37s\n"
     ]
    },
    {
     "data": {
      "application/vnd.jupyter.widget-view+json": {
       "model_id": "958ad9fd63a44f5e9348424bedff8491",
       "version_major": 2,
       "version_minor": 0
      },
      "text/plain": [
       "Valid [25]:   0%|          | 0/458 [00:00<?, ?batch/s]"
      ]
     },
     "metadata": {},
     "output_type": "display_data"
    },
    {
     "name": "stdout",
     "output_type": "stream",
     "text": [
      "Epoch 26 [0/458] | Valid Loss: 0.6402 | Elapse: 0.34s\n",
      "Epoch 26 [50/458] | Valid Loss: 0.6731 | Elapse: 17.30s\n",
      "Epoch 26 [100/458] | Valid Loss: 0.6986 | Elapse: 34.33s\n",
      "Epoch 26 [150/458] | Valid Loss: 0.6907 | Elapse: 51.30s\n",
      "Epoch 26 [200/458] | Valid Loss: 0.7021 | Elapse: 68.18s\n",
      "Epoch 26 [250/458] | Valid Loss: 0.7042 | Elapse: 84.99s\n",
      "Epoch 26 [300/458] | Valid Loss: 0.7107 | Elapse: 101.80s\n",
      "Epoch 26 [350/458] | Valid Loss: 0.7112 | Elapse: 118.64s\n",
      "Epoch 26 [400/458] | Valid Loss: 0.7167 | Elapse: 135.50s\n",
      "Epoch 26 [450/458] | Valid Loss: 0.7173 | Elapse: 152.36s\n"
     ]
    },
    {
     "name": "stderr",
     "output_type": "stream",
     "text": [
      "----------------------------------------------------------------------------------------------------\n",
      "Epoch 26 - Average Loss: (train) 0.6948; (valid) 0.7174 | Time: 715.87s\n",
      "Best model found in epoch 26 | valid loss: 0.7174\n"
     ]
    },
    {
     "name": "stdout",
     "output_type": "stream",
     "text": [
      "Epoch 26 [457/458] | Valid Loss: 0.7174 | Elapse: 154.49s\n"
     ]
    },
    {
     "data": {
      "application/vnd.jupyter.widget-view+json": {
       "model_id": "eef4418aca2c454b9a71a87413049c24",
       "version_major": 2,
       "version_minor": 0
      },
      "text/plain": [
       "Train [26]:   0%|          | 0/804 [00:00<?, ?batch/s]"
      ]
     },
     "metadata": {},
     "output_type": "display_data"
    },
    {
     "name": "stdout",
     "output_type": "stream",
     "text": [
      "Epoch 27 [0/804] | Train Loss: 0.6464 Grad: 331138.9062 LR: 5.3498e-06 | Elapse: 0.70s\n",
      "Epoch 27 [50/804] | Train Loss: 0.6728 Grad: 193464.6875 LR: 5.1887e-06 | Elapse: 35.57s\n",
      "Epoch 27 [100/804] | Train Loss: 0.6821 Grad: 181791.4219 LR: 5.0300e-06 | Elapse: 70.39s\n",
      "Epoch 27 [150/804] | Train Loss: 0.6770 Grad: 212400.0000 LR: 4.8737e-06 | Elapse: 105.18s\n",
      "Epoch 27 [200/804] | Train Loss: 0.6851 Grad: 195069.0781 LR: 4.7197e-06 | Elapse: 140.00s\n",
      "Epoch 27 [250/804] | Train Loss: 0.6881 Grad: 228827.3438 LR: 4.5681e-06 | Elapse: 174.82s\n",
      "Epoch 27 [300/804] | Train Loss: 0.6892 Grad: 125962.1172 LR: 4.4188e-06 | Elapse: 209.66s\n",
      "Epoch 27 [350/804] | Train Loss: 0.6887 Grad: 105884.8828 LR: 4.2720e-06 | Elapse: 244.50s\n",
      "Epoch 27 [400/804] | Train Loss: 0.6913 Grad: 191263.9531 LR: 4.1276e-06 | Elapse: 279.32s\n",
      "Epoch 27 [450/804] | Train Loss: 0.6919 Grad: 268387.3750 LR: 3.9855e-06 | Elapse: 314.15s\n",
      "Epoch 27 [500/804] | Train Loss: 0.6921 Grad: 184657.5781 LR: 3.8459e-06 | Elapse: 348.94s\n",
      "Epoch 27 [550/804] | Train Loss: 0.6895 Grad: 172857.3594 LR: 3.7087e-06 | Elapse: 383.80s\n",
      "Epoch 27 [600/804] | Train Loss: 0.6930 Grad: 145803.8125 LR: 3.5739e-06 | Elapse: 418.59s\n",
      "Epoch 27 [650/804] | Train Loss: 0.6934 Grad: 240629.5781 LR: 3.4415e-06 | Elapse: 453.46s\n",
      "Epoch 27 [700/804] | Train Loss: 0.6921 Grad: 167479.4531 LR: 3.3116e-06 | Elapse: 488.33s\n",
      "Epoch 27 [750/804] | Train Loss: 0.6932 Grad: 159885.4375 LR: 3.1841e-06 | Elapse: 523.15s\n",
      "Epoch 27 [800/804] | Train Loss: 0.6927 Grad: 144923.3594 LR: 3.0591e-06 | Elapse: 558.00s\n",
      "Epoch 27 [803/804] | Train Loss: 0.6930 Grad: 215116.0938 LR: 3.0517e-06 | Elapse: 560.09s\n"
     ]
    },
    {
     "data": {
      "application/vnd.jupyter.widget-view+json": {
       "model_id": "b27ed818f154451bb4c012a63c75fd1e",
       "version_major": 2,
       "version_minor": 0
      },
      "text/plain": [
       "Valid [26]:   0%|          | 0/458 [00:00<?, ?batch/s]"
      ]
     },
     "metadata": {},
     "output_type": "display_data"
    },
    {
     "name": "stdout",
     "output_type": "stream",
     "text": [
      "Epoch 27 [0/458] | Valid Loss: 0.6443 | Elapse: 0.34s\n",
      "Epoch 27 [50/458] | Valid Loss: 0.6696 | Elapse: 17.24s\n",
      "Epoch 27 [100/458] | Valid Loss: 0.6943 | Elapse: 34.11s\n",
      "Epoch 27 [150/458] | Valid Loss: 0.6860 | Elapse: 50.89s\n",
      "Epoch 27 [200/458] | Valid Loss: 0.6973 | Elapse: 67.63s\n",
      "Epoch 27 [250/458] | Valid Loss: 0.6986 | Elapse: 84.22s\n",
      "Epoch 27 [300/458] | Valid Loss: 0.7047 | Elapse: 100.79s\n",
      "Epoch 27 [350/458] | Valid Loss: 0.7048 | Elapse: 117.33s\n",
      "Epoch 27 [400/458] | Valid Loss: 0.7099 | Elapse: 133.95s\n",
      "Epoch 27 [450/458] | Valid Loss: 0.7103 | Elapse: 150.61s\n"
     ]
    },
    {
     "name": "stderr",
     "output_type": "stream",
     "text": [
      "----------------------------------------------------------------------------------------------------\n",
      "Epoch 27 - Average Loss: (train) 0.6930; (valid) 0.7105 | Time: 712.80s\n",
      "Best model found in epoch 27 | valid loss: 0.7105\n"
     ]
    },
    {
     "name": "stdout",
     "output_type": "stream",
     "text": [
      "Epoch 27 [457/458] | Valid Loss: 0.7105 | Elapse: 152.70s\n"
     ]
    },
    {
     "data": {
      "application/vnd.jupyter.widget-view+json": {
       "model_id": "76f7447a7ddb4ed2b98bda2eb3488b7b",
       "version_major": 2,
       "version_minor": 0
      },
      "text/plain": [
       "Train [27]:   0%|          | 0/804 [00:00<?, ?batch/s]"
      ]
     },
     "metadata": {},
     "output_type": "display_data"
    },
    {
     "name": "stdout",
     "output_type": "stream",
     "text": [
      "Epoch 28 [0/804] | Train Loss: 0.6391 Grad: 317522.0938 LR: 3.0492e-06 | Elapse: 0.70s\n",
      "Epoch 28 [50/804] | Train Loss: 0.6700 Grad: 192464.4688 LR: 2.9269e-06 | Elapse: 35.43s\n",
      "Epoch 28 [100/804] | Train Loss: 0.6805 Grad: 175588.8281 LR: 2.8070e-06 | Elapse: 70.22s\n",
      "Epoch 28 [150/804] | Train Loss: 0.6754 Grad: 209386.7812 LR: 2.6895e-06 | Elapse: 104.99s\n",
      "Epoch 28 [200/804] | Train Loss: 0.6836 Grad: 197465.9062 LR: 2.5746e-06 | Elapse: 139.79s\n",
      "Epoch 28 [250/804] | Train Loss: 0.6866 Grad: 231108.4375 LR: 2.4621e-06 | Elapse: 174.59s\n",
      "Epoch 28 [300/804] | Train Loss: 0.6878 Grad: 125291.1250 LR: 2.3521e-06 | Elapse: 209.39s\n",
      "Epoch 28 [350/804] | Train Loss: 0.6873 Grad: 105107.7891 LR: 2.2447e-06 | Elapse: 244.26s\n",
      "Epoch 28 [400/804] | Train Loss: 0.6900 Grad: 192290.5000 LR: 2.1397e-06 | Elapse: 279.09s\n",
      "Epoch 28 [450/804] | Train Loss: 0.6905 Grad: 269775.3125 LR: 2.0372e-06 | Elapse: 313.92s\n",
      "Epoch 28 [500/804] | Train Loss: 0.6908 Grad: 178688.5156 LR: 1.9373e-06 | Elapse: 348.71s\n",
      "Epoch 28 [550/804] | Train Loss: 0.6881 Grad: 171932.1719 LR: 1.8398e-06 | Elapse: 383.51s\n",
      "Epoch 28 [600/804] | Train Loss: 0.6916 Grad: 144765.9375 LR: 1.7449e-06 | Elapse: 418.36s\n",
      "Epoch 28 [650/804] | Train Loss: 0.6920 Grad: 236967.7188 LR: 1.6525e-06 | Elapse: 453.23s\n",
      "Epoch 28 [700/804] | Train Loss: 0.6908 Grad: 170490.4219 LR: 1.5627e-06 | Elapse: 488.13s\n",
      "Epoch 28 [750/804] | Train Loss: 0.6918 Grad: 158570.6406 LR: 1.4753e-06 | Elapse: 523.12s\n",
      "Epoch 28 [800/804] | Train Loss: 0.6914 Grad: 148434.4219 LR: 1.3906e-06 | Elapse: 557.98s\n",
      "Epoch 28 [803/804] | Train Loss: 0.6917 Grad: 212119.4375 LR: 1.3855e-06 | Elapse: 560.07s\n"
     ]
    },
    {
     "data": {
      "application/vnd.jupyter.widget-view+json": {
       "model_id": "1b9f49f04a4443ab88910407428700a4",
       "version_major": 2,
       "version_minor": 0
      },
      "text/plain": [
       "Valid [27]:   0%|          | 0/458 [00:00<?, ?batch/s]"
      ]
     },
     "metadata": {},
     "output_type": "display_data"
    },
    {
     "name": "stdout",
     "output_type": "stream",
     "text": [
      "Epoch 28 [0/458] | Valid Loss: 0.6483 | Elapse: 0.34s\n",
      "Epoch 28 [50/458] | Valid Loss: 0.6686 | Elapse: 17.16s\n",
      "Epoch 28 [100/458] | Valid Loss: 0.6926 | Elapse: 34.01s\n",
      "Epoch 28 [150/458] | Valid Loss: 0.6841 | Elapse: 50.86s\n",
      "Epoch 28 [200/458] | Valid Loss: 0.6953 | Elapse: 67.70s\n",
      "Epoch 28 [250/458] | Valid Loss: 0.6961 | Elapse: 84.43s\n",
      "Epoch 28 [300/458] | Valid Loss: 0.7022 | Elapse: 101.15s\n",
      "Epoch 28 [350/458] | Valid Loss: 0.7022 | Elapse: 117.85s\n",
      "Epoch 28 [400/458] | Valid Loss: 0.7070 | Elapse: 134.53s\n",
      "Epoch 28 [450/458] | Valid Loss: 0.7074 | Elapse: 151.20s\n"
     ]
    },
    {
     "name": "stderr",
     "output_type": "stream",
     "text": [
      "----------------------------------------------------------------------------------------------------\n",
      "Epoch 28 - Average Loss: (train) 0.6917; (valid) 0.7075 | Time: 713.38s\n",
      "Best model found in epoch 28 | valid loss: 0.7075\n"
     ]
    },
    {
     "name": "stdout",
     "output_type": "stream",
     "text": [
      "Epoch 28 [457/458] | Valid Loss: 0.7075 | Elapse: 153.30s\n"
     ]
    },
    {
     "data": {
      "application/vnd.jupyter.widget-view+json": {
       "model_id": "c05099d1085f428b89a84ec9083d50b0",
       "version_major": 2,
       "version_minor": 0
      },
      "text/plain": [
       "Train [28]:   0%|          | 0/804 [00:00<?, ?batch/s]"
      ]
     },
     "metadata": {},
     "output_type": "display_data"
    },
    {
     "name": "stdout",
     "output_type": "stream",
     "text": [
      "Epoch 29 [0/804] | Train Loss: 0.6314 Grad: 303125.3438 LR: 1.3839e-06 | Elapse: 0.70s\n",
      "Epoch 29 [50/804] | Train Loss: 0.6675 Grad: 188419.8438 LR: 1.3019e-06 | Elapse: 35.52s\n",
      "Epoch 29 [100/804] | Train Loss: 0.6791 Grad: 171492.5312 LR: 1.2224e-06 | Elapse: 70.38s\n",
      "Epoch 29 [150/804] | Train Loss: 0.6743 Grad: 206758.5000 LR: 1.1455e-06 | Elapse: 105.24s\n",
      "Epoch 29 [200/804] | Train Loss: 0.6826 Grad: 198467.9688 LR: 1.0711e-06 | Elapse: 140.21s\n",
      "Epoch 29 [250/804] | Train Loss: 0.6856 Grad: 230126.5000 LR: 9.9929e-07 | Elapse: 175.11s\n",
      "Epoch 29 [300/804] | Train Loss: 0.6867 Grad: 126600.6172 LR: 9.3006e-07 | Elapse: 210.01s\n",
      "Epoch 29 [350/804] | Train Loss: 0.6863 Grad: 103280.1797 LR: 8.6340e-07 | Elapse: 244.93s\n",
      "Epoch 29 [400/804] | Train Loss: 0.6890 Grad: 192869.2500 LR: 7.9931e-07 | Elapse: 279.94s\n",
      "Epoch 29 [450/804] | Train Loss: 0.6896 Grad: 269772.0312 LR: 7.3780e-07 | Elapse: 314.94s\n",
      "Epoch 29 [500/804] | Train Loss: 0.6898 Grad: 175426.8594 LR: 6.7887e-07 | Elapse: 349.78s\n",
      "Epoch 29 [550/804] | Train Loss: 0.6872 Grad: 169741.6094 LR: 6.2252e-07 | Elapse: 384.71s\n",
      "Epoch 29 [600/804] | Train Loss: 0.6907 Grad: 144321.0781 LR: 5.6876e-07 | Elapse: 419.59s\n",
      "Epoch 29 [650/804] | Train Loss: 0.6911 Grad: 230356.3125 LR: 5.1758e-07 | Elapse: 454.53s\n",
      "Epoch 29 [700/804] | Train Loss: 0.6898 Grad: 172351.6875 LR: 4.6900e-07 | Elapse: 489.40s\n",
      "Epoch 29 [750/804] | Train Loss: 0.6909 Grad: 157982.3281 LR: 4.2302e-07 | Elapse: 524.36s\n",
      "Epoch 29 [800/804] | Train Loss: 0.6905 Grad: 151149.9688 LR: 3.7963e-07 | Elapse: 559.23s\n",
      "Epoch 29 [803/804] | Train Loss: 0.6908 Grad: 210819.5000 LR: 3.7711e-07 | Elapse: 561.32s\n"
     ]
    },
    {
     "data": {
      "application/vnd.jupyter.widget-view+json": {
       "model_id": "43ae05eff58c49dab6e26e2e3226f3da",
       "version_major": 2,
       "version_minor": 0
      },
      "text/plain": [
       "Valid [28]:   0%|          | 0/458 [00:00<?, ?batch/s]"
      ]
     },
     "metadata": {},
     "output_type": "display_data"
    },
    {
     "name": "stdout",
     "output_type": "stream",
     "text": [
      "Epoch 29 [0/458] | Valid Loss: 0.6514 | Elapse: 0.34s\n",
      "Epoch 29 [50/458] | Valid Loss: 0.6689 | Elapse: 17.22s\n",
      "Epoch 29 [100/458] | Valid Loss: 0.6924 | Elapse: 34.11s\n",
      "Epoch 29 [150/458] | Valid Loss: 0.6838 | Elapse: 51.02s\n",
      "Epoch 29 [200/458] | Valid Loss: 0.6949 | Elapse: 67.96s\n",
      "Epoch 29 [250/458] | Valid Loss: 0.6956 | Elapse: 84.77s\n",
      "Epoch 29 [300/458] | Valid Loss: 0.7017 | Elapse: 101.55s\n",
      "Epoch 29 [350/458] | Valid Loss: 0.7017 | Elapse: 118.27s\n",
      "Epoch 29 [400/458] | Valid Loss: 0.7064 | Elapse: 134.98s\n",
      "Epoch 29 [450/458] | Valid Loss: 0.7069 | Elapse: 151.73s\n"
     ]
    },
    {
     "name": "stderr",
     "output_type": "stream",
     "text": [
      "----------------------------------------------------------------------------------------------------\n",
      "Epoch 29 - Average Loss: (train) 0.6908; (valid) 0.7070 | Time: 715.16s\n",
      "Best model found in epoch 29 | valid loss: 0.7070\n"
     ]
    },
    {
     "name": "stdout",
     "output_type": "stream",
     "text": [
      "Epoch 29 [457/458] | Valid Loss: 0.7070 | Elapse: 153.84s\n"
     ]
    },
    {
     "data": {
      "application/vnd.jupyter.widget-view+json": {
       "model_id": "949742651d4f48158adf3adbe008e4b4",
       "version_major": 2,
       "version_minor": 0
      },
      "text/plain": [
       "Train [29]:   0%|          | 0/804 [00:00<?, ?batch/s]"
      ]
     },
     "metadata": {},
     "output_type": "display_data"
    },
    {
     "name": "stdout",
     "output_type": "stream",
     "text": [
      "Epoch 30 [0/804] | Train Loss: 0.6255 Grad: 291766.1250 LR: 3.7627e-07 | Elapse: 0.70s\n",
      "Epoch 30 [50/804] | Train Loss: 0.6662 Grad: 184776.4375 LR: 3.3569e-07 | Elapse: 35.48s\n",
      "Epoch 30 [100/804] | Train Loss: 0.6780 Grad: 171704.9375 LR: 2.9771e-07 | Elapse: 70.45s\n",
      "Epoch 30 [150/804] | Train Loss: 0.6735 Grad: 206622.5938 LR: 2.6233e-07 | Elapse: 105.40s\n",
      "Epoch 30 [200/804] | Train Loss: 0.6817 Grad: 196601.2344 LR: 2.2956e-07 | Elapse: 140.25s\n",
      "Epoch 30 [250/804] | Train Loss: 0.6848 Grad: 228956.2969 LR: 1.9939e-07 | Elapse: 175.10s\n",
      "Epoch 30 [300/804] | Train Loss: 0.6860 Grad: 127880.5078 LR: 1.7184e-07 | Elapse: 210.02s\n",
      "Epoch 30 [350/804] | Train Loss: 0.6857 Grad: 101419.5469 LR: 1.4689e-07 | Elapse: 245.01s\n",
      "Epoch 30 [400/804] | Train Loss: 0.6883 Grad: 190295.9219 LR: 1.2456e-07 | Elapse: 279.88s\n",
      "Epoch 30 [450/804] | Train Loss: 0.6889 Grad: 270342.5938 LR: 1.0484e-07 | Elapse: 314.76s\n",
      "Epoch 30 [500/804] | Train Loss: 0.6892 Grad: 173127.2969 LR: 8.7728e-08 | Elapse: 349.64s\n",
      "Epoch 30 [550/804] | Train Loss: 0.6865 Grad: 167456.4844 LR: 7.3234e-08 | Elapse: 384.51s\n",
      "Epoch 30 [600/804] | Train Loss: 0.6900 Grad: 146447.5625 LR: 6.1355e-08 | Elapse: 419.41s\n",
      "Epoch 30 [650/804] | Train Loss: 0.6904 Grad: 229644.0469 LR: 5.2092e-08 | Elapse: 454.35s\n",
      "Epoch 30 [700/804] | Train Loss: 0.6892 Grad: 172934.0938 LR: 4.5445e-08 | Elapse: 489.28s\n",
      "Epoch 30 [750/804] | Train Loss: 0.6903 Grad: 158347.3438 LR: 4.1415e-08 | Elapse: 524.11s\n",
      "Epoch 30 [800/804] | Train Loss: 0.6899 Grad: 151624.9219 LR: 4.0002e-08 | Elapse: 558.99s\n",
      "Epoch 30 [803/804] | Train Loss: 0.6902 Grad: 210720.4375 LR: 4.0001e-08 | Elapse: 561.09s\n"
     ]
    },
    {
     "data": {
      "application/vnd.jupyter.widget-view+json": {
       "model_id": "2d083b2f97084436a83d3f12ec81647f",
       "version_major": 2,
       "version_minor": 0
      },
      "text/plain": [
       "Valid [29]:   0%|          | 0/458 [00:00<?, ?batch/s]"
      ]
     },
     "metadata": {},
     "output_type": "display_data"
    },
    {
     "name": "stdout",
     "output_type": "stream",
     "text": [
      "Epoch 30 [0/458] | Valid Loss: 0.6520 | Elapse: 0.34s\n",
      "Epoch 30 [50/458] | Valid Loss: 0.6691 | Elapse: 17.26s\n",
      "Epoch 30 [100/458] | Valid Loss: 0.6925 | Elapse: 34.13s\n",
      "Epoch 30 [150/458] | Valid Loss: 0.6838 | Elapse: 51.08s\n",
      "Epoch 30 [200/458] | Valid Loss: 0.6949 | Elapse: 67.98s\n",
      "Epoch 30 [250/458] | Valid Loss: 0.6957 | Elapse: 84.77s\n",
      "Epoch 30 [300/458] | Valid Loss: 0.7018 | Elapse: 101.53s\n",
      "Epoch 30 [350/458] | Valid Loss: 0.7018 | Elapse: 118.29s\n",
      "Epoch 30 [400/458] | Valid Loss: 0.7065 | Elapse: 135.05s\n",
      "Epoch 30 [450/458] | Valid Loss: 0.7069 | Elapse: 151.82s\n"
     ]
    },
    {
     "name": "stderr",
     "output_type": "stream",
     "text": [
      "----------------------------------------------------------------------------------------------------\n",
      "Epoch 30 - Average Loss: (train) 0.6902; (valid) 0.7071 | Time: 715.03s\n"
     ]
    },
    {
     "name": "stdout",
     "output_type": "stream",
     "text": [
      "Epoch 30 [457/458] | Valid Loss: 0.7071 | Elapse: 153.94s\n"
     ]
    },
    {
     "name": "stderr",
     "output_type": "stream",
     "text": [
      "====================================================================================================\n",
      "Fold 0 Valid Loss: 0.7070181369781494\n",
      "Elapse: 358.36 min \n",
      "====================================================================================================\n",
      "====================================================================================================\n",
      "Fold: 1 || Valid: 4196; \n",
      "====================================================================================================\n",
      "- Train: 15987; Epoch = 30; Dropout = 0.0 -\n"
     ]
    },
    {
     "data": {
      "application/vnd.jupyter.widget-view+json": {
       "model_id": "f9589cced11049c0b3a8948f15bd2146",
       "version_major": 2,
       "version_minor": 0
      },
      "text/plain": [
       "Train [0]:   0%|          | 0/999 [00:00<?, ?batch/s]"
      ]
     },
     "metadata": {},
     "output_type": "display_data"
    },
    {
     "name": "stdout",
     "output_type": "stream",
     "text": [
      "Epoch 1 [0/999] | Train Loss: 1.5677 Grad: 315611.3750 LR: 4.0000e-06 | Elapse: 0.72s\n",
      "Epoch 1 [50/999] | Train Loss: 1.5018 Grad: 212703.7812 LR: 4.0686e-06 | Elapse: 35.47s\n",
      "Epoch 1 [100/999] | Train Loss: 1.4641 Grad: 212747.8281 LR: 4.2689e-06 | Elapse: 70.21s\n",
      "Epoch 1 [150/999] | Train Loss: 1.4339 Grad: 225451.8438 LR: 4.6004e-06 | Elapse: 104.92s\n"
     ]
    }
   ],
   "source": [
    "# Major Train Loop\n",
    "# ================== Logger ==================\n",
    "logger.info(f\"{'*' * 100}\")\n",
    "logger.info(f\"Script Start: {ctime()}\")\n",
    "logger.info(f\"Model Configurations:\")\n",
    "for key, value in ModelConfig.__dict__.items():\n",
    "    if not key.startswith(\"__\"):\n",
    "        logger.info(f\"{key}: {value}\")\n",
    "logger.info(f\"{'*' * 100}\")\n",
    "\n",
    "# ================== Run Training ==================\n",
    "oof_stage_1 = pd.DataFrame()\n",
    "loss_history_1 = []\n",
    "\n",
    "logger.info(f\"{'=' * 100}\\nStage 1: Train ResNetGRU\\n{'=' * 100}\")\n",
    "for fold in range(k_folds):\n",
    "    tik = time()\n",
    "\n",
    "    ModelConfig.RESNET_GRU_DROPOUT = 0.0\n",
    "\n",
    "    # model = ResNetGRU( ModelConfig, num_classes=6 )\n",
    "    model = EEGSeqClassifier(ModelConfig, num_classes=6)\n",
    "    \n",
    "    valid_folds = train_all[train_all['fold'] == fold].reset_index(drop=True)\n",
    "    train_folds = train_all[train_all['fold'] != fold].reset_index(drop=True)\n",
    "\n",
    "    ## STAGE 1\n",
    "    logger.info(f\"{'=' * 100}\\nFold: {fold} || Valid: {valid_folds.shape[0]}; \\n{'=' * 100}\")\n",
    "    logger.info(f\"- Train: {train_folds.shape[0]}; Epoch = {ModelConfig.EPOCHS}; Dropout = {ModelConfig.RESNET_GRU_DROPOUT} -\")\n",
    "    valid_predicts, loss_records = train_fold(\n",
    "        model, fold, train_folds, valid_folds, logger, stage=1, checkpoint=None)\n",
    "\n",
    "    loss_history_1.append(loss_records)\n",
    "    valid_folds[TARGETS_PRED] = valid_predicts\n",
    "    oof_stage_1 = pd.concat([oof_stage_1, valid_folds], axis=0).reset_index(drop=True)\n",
    "    kl_loss_torch = evaluate_oof(valid_folds)\n",
    "    info = f\"{'=' * 100}\\nFold {fold} Valid Loss: {kl_loss_torch}\\n\"\n",
    "    info += f\"Elapse: {(time() - tik) / 60:.2f} min \\n{'=' * 100}\"\n",
    "    logger.info(info)\n",
    "    oof_stage_1.to_csv(os.path.join(PATHS.OUTPUT_DIR, f\"{ModelConfig.MODEL_NAME}_oof_1.csv\"), index=False)"
   ]
  },
  {
   "cell_type": "code",
   "execution_count": null,
   "metadata": {},
   "outputs": [],
   "source": [
    "# plot loss history\n",
    "fig, ax = plt.subplots(1, 1, figsize=(8, 5))\n",
    "for i, loss in enumerate(loss_history_1):\n",
    "    ax.plot(loss['train'], marker=\"*\", ls=\"-\", label=f\"Fold {i} Train\")\n",
    "    ax.plot(loss['valid'], marker=\"o\", ls=\":\", label=f\"Fold {i} Valid\")\n",
    "\n",
    "ax.grid()\n",
    "fig.tight_layout()\n",
    "plt.legend()\n",
    "plt.show()"
   ]
  },
  {
   "cell_type": "code",
   "execution_count": null,
   "metadata": {},
   "outputs": [],
   "source": [
    "train_hard"
   ]
  },
  {
   "cell_type": "code",
   "execution_count": null,
   "metadata": {},
   "outputs": [],
   "source": [
    "## STAGE 2\n",
    "oof_stage_2 = pd.DataFrame()\n",
    "loss_history_2 = []\n",
    "\n",
    "k_folds = 5\n",
    "train_all = prepare_k_fold(train_hard, k_folds=k_folds)\n",
    "\n",
    "logger.info(f\"{'=' * 100}\\nStage 2: Train ResNetGRU\\n{'=' * 100}\")\n",
    "for fold in range(k_folds):\n",
    "    tik = time()\n",
    "    \n",
    "    ModelConfig.EPOCHS = 10\n",
    "    ModelConfig.RESNET_GRU_DROPOUT = 0.0\n",
    "\n",
    "    train_folds = train_hard[train_hard['fold'] != fold].reset_index(drop=True)\n",
    "    valid_folds = train_hard[train_hard['fold'] == fold].reset_index(drop=True)\n",
    "\n",
    "    logger.info(f\"- Hard: {train_folds.shape[0]}; Epoch: {ModelConfig.EPOCHS}; Dropout: {ModelConfig.RESNET_GRU_DROPOUT} -\")\n",
    "    check_point = os.path.join(\n",
    "        PATHS.OUTPUT_DIR,\n",
    "        f\"{ModelConfig.MODEL_NAME}_fold_{fold}_stage_1.pth\"\n",
    "    )\n",
    "    logger.info(f\"Use Checkpoint: {check_point.split('/')[-1]}\")\n",
    "\n",
    "    model = ResNetGRU(ModelConfig, num_classes=6)\n",
    "\n",
    "    valid_predicts, loss_records = train_fold(\n",
    "        model, fold, train_folds, valid_folds, logger, stage=2, checkpoint=check_point)\n",
    "\n",
    "    loss_history_2.append(loss_records)\n",
    "    valid_folds[TARGETS_PRED] = valid_predicts\n",
    "    oof_stage_2 = pd.concat([oof_stage_2, valid_folds], axis=0).reset_index(drop=True)\n",
    "    kl_loss_torch = evaluate_oof(valid_folds)\n",
    "    info = f\"{'=' * 100}\\nFold {fold} Valid Loss: {kl_loss_torch}\\n\"\n",
    "    info += f\"Elapse: {(time() - tik) / 60:.2f} min \\n{'=' * 100}\"\n",
    "    logger.info(info)\n",
    "    oof_stage_2.to_csv(os.path.join(PATHS.OUTPUT_DIR, f\"{ModelConfig.MODEL_NAME}_oof_2.csv\"), index=False)"
   ]
  },
  {
   "cell_type": "code",
   "execution_count": null,
   "metadata": {},
   "outputs": [],
   "source": [
    "# plot loss history\n",
    "fig, ax = plt.subplots(1, 1, figsize=(8, 5))\n",
    "for i, loss in enumerate(loss_history_2):\n",
    "    ax.plot(loss['train'], marker=\"*\", ls=\"-\", label=f\"Fold {i} Train\")\n",
    "    ax.plot(loss['valid'], marker=\"o\", ls=\":\", label=f\"Fold {i} Valid\")\n",
    "\n",
    "ax.grid()\n",
    "fig.tight_layout()\n",
    "plt.legend()\n",
    "plt.show()"
   ]
  },
  {
   "cell_type": "code",
   "execution_count": 3,
   "metadata": {},
   "outputs": [],
   "source": [
    "from kl_divergence import score as kaggle_score \n",
    "from sklearn.metrics import confusion_matrix\n",
    "import seaborn as sns\n",
    "\n",
    "TARGET2ID = {'Seizure': 0, 'LPD': 1, 'GPD': 2, 'LRDA': 3, 'GRDA': 4, 'Other': 5}\n",
    "\n",
    "def calc_kaggle_score(oof_df):\n",
    "    submission_df = oof_df[['eeg_id']+TARGETS_PRED].copy()\n",
    "    submission_df.columns = ['eeg_id'] + TARGETS\n",
    "    solution_df = oof_df[['eeg_id']+TARGETS].copy()\n",
    "    return kaggle_score(solution_df, submission_df, 'eeg_id')\n",
    "\n",
    "def analyze_oof(oof_csv):\n",
    "\n",
    "    kl_criteria = nn.KLDivLoss(reduction='batchmean')\n",
    "    softmax = nn.Softmax(dim=1)\n",
    "\n",
    "    oof_df = pd.read_csv(oof_csv)\n",
    "    oof_df['target_pred'] = oof_df[TARGETS_PRED].apply(lambda x: np.argmax(x), axis=1)\n",
    "    oof_df['target_id'] = oof_df[TARGETS].apply(lambda x: np.argmax(x), axis=1)\n",
    "    \n",
    "    oof_df[\"kl_loss\"] = oof_df.apply(\n",
    "    lambda row: \n",
    "        kl_criteria(\n",
    "            F.log_softmax(\n",
    "                    torch.tensor(row[TARGETS_PRED].values.astype(np.float32)).unsqueeze(0)\n",
    "                , dim=1\n",
    "                ), \n",
    "            torch.tensor(row[TARGETS].values.astype(np.float32))\n",
    "            ).numpy(),\n",
    "    axis=1)\n",
    "\n",
    "    oof_df[\"kl_loss\"] = oof_df['kl_loss'].astype(np.float32)\n",
    "\n",
    "    oof_df[TARGETS_PRED] = softmax( torch.tensor(oof_df[TARGETS_PRED].values.astype(np.float32)) )\n",
    "\n",
    "    oof_df.head()\n",
    "\n",
    "    return oof_df"
   ]
  },
  {
   "cell_type": "code",
   "execution_count": 4,
   "metadata": {},
   "outputs": [
    {
     "name": "stdout",
     "output_type": "stream",
     "text": [
      "CSV Path:  ./outputs/EfficientNet_b2_two_stage_oof_2.csv\n"
     ]
    },
    {
     "ename": "FileNotFoundError",
     "evalue": "[Errno 2] No such file or directory: './outputs/EfficientNet_b2_two_stage_oof_2.csv'",
     "output_type": "error",
     "traceback": [
      "\u001b[0;31m---------------------------------------------------------------------------\u001b[0m",
      "\u001b[0;31mFileNotFoundError\u001b[0m                         Traceback (most recent call last)",
      "Cell \u001b[0;32mIn[4], line 4\u001b[0m\n\u001b[1;32m      1\u001b[0m csv_path \u001b[38;5;241m=\u001b[39m \u001b[38;5;124mf\u001b[39m\u001b[38;5;124m'\u001b[39m\u001b[38;5;124m./outputs/\u001b[39m\u001b[38;5;132;01m{\u001b[39;00mModelConfig\u001b[38;5;241m.\u001b[39mMODEL_NAME\u001b[38;5;132;01m}\u001b[39;00m\u001b[38;5;124m_oof_2.csv\u001b[39m\u001b[38;5;124m'\u001b[39m\n\u001b[1;32m      2\u001b[0m \u001b[38;5;28mprint\u001b[39m(\u001b[38;5;124m\"\u001b[39m\u001b[38;5;124mCSV Path: \u001b[39m\u001b[38;5;124m\"\u001b[39m, csv_path)\n\u001b[0;32m----> 4\u001b[0m oof_df \u001b[38;5;241m=\u001b[39m \u001b[43manalyze_oof\u001b[49m\u001b[43m(\u001b[49m\u001b[43mcsv_path\u001b[49m\u001b[43m)\u001b[49m\n\u001b[1;32m      6\u001b[0m \u001b[38;5;28mprint\u001b[39m(\u001b[38;5;124m\"\u001b[39m\u001b[38;5;124mKaggle Score: \u001b[39m\u001b[38;5;124m\"\u001b[39m, calc_kaggle_score(oof_df))\n\u001b[1;32m      7\u001b[0m \u001b[38;5;28mprint\u001b[39m(\u001b[38;5;124m\"\u001b[39m\u001b[38;5;124mAverage KL Loss: \u001b[39m\u001b[38;5;124m\"\u001b[39m, oof_df[\u001b[38;5;124m\"\u001b[39m\u001b[38;5;124mkl_loss\u001b[39m\u001b[38;5;124m\"\u001b[39m]\u001b[38;5;241m.\u001b[39mmean())\n",
      "Cell \u001b[0;32mIn[3], line 18\u001b[0m, in \u001b[0;36manalyze_oof\u001b[0;34m(oof_csv)\u001b[0m\n\u001b[1;32m     15\u001b[0m kl_criteria \u001b[38;5;241m=\u001b[39m nn\u001b[38;5;241m.\u001b[39mKLDivLoss(reduction\u001b[38;5;241m=\u001b[39m\u001b[38;5;124m'\u001b[39m\u001b[38;5;124mbatchmean\u001b[39m\u001b[38;5;124m'\u001b[39m)\n\u001b[1;32m     16\u001b[0m softmax \u001b[38;5;241m=\u001b[39m nn\u001b[38;5;241m.\u001b[39mSoftmax(dim\u001b[38;5;241m=\u001b[39m\u001b[38;5;241m1\u001b[39m)\n\u001b[0;32m---> 18\u001b[0m oof_df \u001b[38;5;241m=\u001b[39m \u001b[43mpd\u001b[49m\u001b[38;5;241;43m.\u001b[39;49m\u001b[43mread_csv\u001b[49m\u001b[43m(\u001b[49m\u001b[43moof_csv\u001b[49m\u001b[43m)\u001b[49m\n\u001b[1;32m     19\u001b[0m oof_df[\u001b[38;5;124m'\u001b[39m\u001b[38;5;124mtarget_pred\u001b[39m\u001b[38;5;124m'\u001b[39m] \u001b[38;5;241m=\u001b[39m oof_df[TARGETS_PRED]\u001b[38;5;241m.\u001b[39mapply(\u001b[38;5;28;01mlambda\u001b[39;00m x: np\u001b[38;5;241m.\u001b[39margmax(x), axis\u001b[38;5;241m=\u001b[39m\u001b[38;5;241m1\u001b[39m)\n\u001b[1;32m     20\u001b[0m oof_df[\u001b[38;5;124m'\u001b[39m\u001b[38;5;124mtarget_id\u001b[39m\u001b[38;5;124m'\u001b[39m] \u001b[38;5;241m=\u001b[39m oof_df[TARGETS]\u001b[38;5;241m.\u001b[39mapply(\u001b[38;5;28;01mlambda\u001b[39;00m x: np\u001b[38;5;241m.\u001b[39margmax(x), axis\u001b[38;5;241m=\u001b[39m\u001b[38;5;241m1\u001b[39m)\n",
      "File \u001b[0;32m~/miniconda3/envs/kaggle/lib/python3.11/site-packages/pandas/io/parsers/readers.py:1026\u001b[0m, in \u001b[0;36mread_csv\u001b[0;34m(filepath_or_buffer, sep, delimiter, header, names, index_col, usecols, dtype, engine, converters, true_values, false_values, skipinitialspace, skiprows, skipfooter, nrows, na_values, keep_default_na, na_filter, verbose, skip_blank_lines, parse_dates, infer_datetime_format, keep_date_col, date_parser, date_format, dayfirst, cache_dates, iterator, chunksize, compression, thousands, decimal, lineterminator, quotechar, quoting, doublequote, escapechar, comment, encoding, encoding_errors, dialect, on_bad_lines, delim_whitespace, low_memory, memory_map, float_precision, storage_options, dtype_backend)\u001b[0m\n\u001b[1;32m   1013\u001b[0m kwds_defaults \u001b[38;5;241m=\u001b[39m _refine_defaults_read(\n\u001b[1;32m   1014\u001b[0m     dialect,\n\u001b[1;32m   1015\u001b[0m     delimiter,\n\u001b[0;32m   (...)\u001b[0m\n\u001b[1;32m   1022\u001b[0m     dtype_backend\u001b[38;5;241m=\u001b[39mdtype_backend,\n\u001b[1;32m   1023\u001b[0m )\n\u001b[1;32m   1024\u001b[0m kwds\u001b[38;5;241m.\u001b[39mupdate(kwds_defaults)\n\u001b[0;32m-> 1026\u001b[0m \u001b[38;5;28;01mreturn\u001b[39;00m \u001b[43m_read\u001b[49m\u001b[43m(\u001b[49m\u001b[43mfilepath_or_buffer\u001b[49m\u001b[43m,\u001b[49m\u001b[43m \u001b[49m\u001b[43mkwds\u001b[49m\u001b[43m)\u001b[49m\n",
      "File \u001b[0;32m~/miniconda3/envs/kaggle/lib/python3.11/site-packages/pandas/io/parsers/readers.py:620\u001b[0m, in \u001b[0;36m_read\u001b[0;34m(filepath_or_buffer, kwds)\u001b[0m\n\u001b[1;32m    617\u001b[0m _validate_names(kwds\u001b[38;5;241m.\u001b[39mget(\u001b[38;5;124m\"\u001b[39m\u001b[38;5;124mnames\u001b[39m\u001b[38;5;124m\"\u001b[39m, \u001b[38;5;28;01mNone\u001b[39;00m))\n\u001b[1;32m    619\u001b[0m \u001b[38;5;66;03m# Create the parser.\u001b[39;00m\n\u001b[0;32m--> 620\u001b[0m parser \u001b[38;5;241m=\u001b[39m \u001b[43mTextFileReader\u001b[49m\u001b[43m(\u001b[49m\u001b[43mfilepath_or_buffer\u001b[49m\u001b[43m,\u001b[49m\u001b[43m \u001b[49m\u001b[38;5;241;43m*\u001b[39;49m\u001b[38;5;241;43m*\u001b[39;49m\u001b[43mkwds\u001b[49m\u001b[43m)\u001b[49m\n\u001b[1;32m    622\u001b[0m \u001b[38;5;28;01mif\u001b[39;00m chunksize \u001b[38;5;129;01mor\u001b[39;00m iterator:\n\u001b[1;32m    623\u001b[0m     \u001b[38;5;28;01mreturn\u001b[39;00m parser\n",
      "File \u001b[0;32m~/miniconda3/envs/kaggle/lib/python3.11/site-packages/pandas/io/parsers/readers.py:1620\u001b[0m, in \u001b[0;36mTextFileReader.__init__\u001b[0;34m(self, f, engine, **kwds)\u001b[0m\n\u001b[1;32m   1617\u001b[0m     \u001b[38;5;28mself\u001b[39m\u001b[38;5;241m.\u001b[39moptions[\u001b[38;5;124m\"\u001b[39m\u001b[38;5;124mhas_index_names\u001b[39m\u001b[38;5;124m\"\u001b[39m] \u001b[38;5;241m=\u001b[39m kwds[\u001b[38;5;124m\"\u001b[39m\u001b[38;5;124mhas_index_names\u001b[39m\u001b[38;5;124m\"\u001b[39m]\n\u001b[1;32m   1619\u001b[0m \u001b[38;5;28mself\u001b[39m\u001b[38;5;241m.\u001b[39mhandles: IOHandles \u001b[38;5;241m|\u001b[39m \u001b[38;5;28;01mNone\u001b[39;00m \u001b[38;5;241m=\u001b[39m \u001b[38;5;28;01mNone\u001b[39;00m\n\u001b[0;32m-> 1620\u001b[0m \u001b[38;5;28mself\u001b[39m\u001b[38;5;241m.\u001b[39m_engine \u001b[38;5;241m=\u001b[39m \u001b[38;5;28;43mself\u001b[39;49m\u001b[38;5;241;43m.\u001b[39;49m\u001b[43m_make_engine\u001b[49m\u001b[43m(\u001b[49m\u001b[43mf\u001b[49m\u001b[43m,\u001b[49m\u001b[43m \u001b[49m\u001b[38;5;28;43mself\u001b[39;49m\u001b[38;5;241;43m.\u001b[39;49m\u001b[43mengine\u001b[49m\u001b[43m)\u001b[49m\n",
      "File \u001b[0;32m~/miniconda3/envs/kaggle/lib/python3.11/site-packages/pandas/io/parsers/readers.py:1880\u001b[0m, in \u001b[0;36mTextFileReader._make_engine\u001b[0;34m(self, f, engine)\u001b[0m\n\u001b[1;32m   1878\u001b[0m     \u001b[38;5;28;01mif\u001b[39;00m \u001b[38;5;124m\"\u001b[39m\u001b[38;5;124mb\u001b[39m\u001b[38;5;124m\"\u001b[39m \u001b[38;5;129;01mnot\u001b[39;00m \u001b[38;5;129;01min\u001b[39;00m mode:\n\u001b[1;32m   1879\u001b[0m         mode \u001b[38;5;241m+\u001b[39m\u001b[38;5;241m=\u001b[39m \u001b[38;5;124m\"\u001b[39m\u001b[38;5;124mb\u001b[39m\u001b[38;5;124m\"\u001b[39m\n\u001b[0;32m-> 1880\u001b[0m \u001b[38;5;28mself\u001b[39m\u001b[38;5;241m.\u001b[39mhandles \u001b[38;5;241m=\u001b[39m \u001b[43mget_handle\u001b[49m\u001b[43m(\u001b[49m\n\u001b[1;32m   1881\u001b[0m \u001b[43m    \u001b[49m\u001b[43mf\u001b[49m\u001b[43m,\u001b[49m\n\u001b[1;32m   1882\u001b[0m \u001b[43m    \u001b[49m\u001b[43mmode\u001b[49m\u001b[43m,\u001b[49m\n\u001b[1;32m   1883\u001b[0m \u001b[43m    \u001b[49m\u001b[43mencoding\u001b[49m\u001b[38;5;241;43m=\u001b[39;49m\u001b[38;5;28;43mself\u001b[39;49m\u001b[38;5;241;43m.\u001b[39;49m\u001b[43moptions\u001b[49m\u001b[38;5;241;43m.\u001b[39;49m\u001b[43mget\u001b[49m\u001b[43m(\u001b[49m\u001b[38;5;124;43m\"\u001b[39;49m\u001b[38;5;124;43mencoding\u001b[39;49m\u001b[38;5;124;43m\"\u001b[39;49m\u001b[43m,\u001b[49m\u001b[43m \u001b[49m\u001b[38;5;28;43;01mNone\u001b[39;49;00m\u001b[43m)\u001b[49m\u001b[43m,\u001b[49m\n\u001b[1;32m   1884\u001b[0m \u001b[43m    \u001b[49m\u001b[43mcompression\u001b[49m\u001b[38;5;241;43m=\u001b[39;49m\u001b[38;5;28;43mself\u001b[39;49m\u001b[38;5;241;43m.\u001b[39;49m\u001b[43moptions\u001b[49m\u001b[38;5;241;43m.\u001b[39;49m\u001b[43mget\u001b[49m\u001b[43m(\u001b[49m\u001b[38;5;124;43m\"\u001b[39;49m\u001b[38;5;124;43mcompression\u001b[39;49m\u001b[38;5;124;43m\"\u001b[39;49m\u001b[43m,\u001b[49m\u001b[43m \u001b[49m\u001b[38;5;28;43;01mNone\u001b[39;49;00m\u001b[43m)\u001b[49m\u001b[43m,\u001b[49m\n\u001b[1;32m   1885\u001b[0m \u001b[43m    \u001b[49m\u001b[43mmemory_map\u001b[49m\u001b[38;5;241;43m=\u001b[39;49m\u001b[38;5;28;43mself\u001b[39;49m\u001b[38;5;241;43m.\u001b[39;49m\u001b[43moptions\u001b[49m\u001b[38;5;241;43m.\u001b[39;49m\u001b[43mget\u001b[49m\u001b[43m(\u001b[49m\u001b[38;5;124;43m\"\u001b[39;49m\u001b[38;5;124;43mmemory_map\u001b[39;49m\u001b[38;5;124;43m\"\u001b[39;49m\u001b[43m,\u001b[49m\u001b[43m \u001b[49m\u001b[38;5;28;43;01mFalse\u001b[39;49;00m\u001b[43m)\u001b[49m\u001b[43m,\u001b[49m\n\u001b[1;32m   1886\u001b[0m \u001b[43m    \u001b[49m\u001b[43mis_text\u001b[49m\u001b[38;5;241;43m=\u001b[39;49m\u001b[43mis_text\u001b[49m\u001b[43m,\u001b[49m\n\u001b[1;32m   1887\u001b[0m \u001b[43m    \u001b[49m\u001b[43merrors\u001b[49m\u001b[38;5;241;43m=\u001b[39;49m\u001b[38;5;28;43mself\u001b[39;49m\u001b[38;5;241;43m.\u001b[39;49m\u001b[43moptions\u001b[49m\u001b[38;5;241;43m.\u001b[39;49m\u001b[43mget\u001b[49m\u001b[43m(\u001b[49m\u001b[38;5;124;43m\"\u001b[39;49m\u001b[38;5;124;43mencoding_errors\u001b[39;49m\u001b[38;5;124;43m\"\u001b[39;49m\u001b[43m,\u001b[49m\u001b[43m \u001b[49m\u001b[38;5;124;43m\"\u001b[39;49m\u001b[38;5;124;43mstrict\u001b[39;49m\u001b[38;5;124;43m\"\u001b[39;49m\u001b[43m)\u001b[49m\u001b[43m,\u001b[49m\n\u001b[1;32m   1888\u001b[0m \u001b[43m    \u001b[49m\u001b[43mstorage_options\u001b[49m\u001b[38;5;241;43m=\u001b[39;49m\u001b[38;5;28;43mself\u001b[39;49m\u001b[38;5;241;43m.\u001b[39;49m\u001b[43moptions\u001b[49m\u001b[38;5;241;43m.\u001b[39;49m\u001b[43mget\u001b[49m\u001b[43m(\u001b[49m\u001b[38;5;124;43m\"\u001b[39;49m\u001b[38;5;124;43mstorage_options\u001b[39;49m\u001b[38;5;124;43m\"\u001b[39;49m\u001b[43m,\u001b[49m\u001b[43m \u001b[49m\u001b[38;5;28;43;01mNone\u001b[39;49;00m\u001b[43m)\u001b[49m\u001b[43m,\u001b[49m\n\u001b[1;32m   1889\u001b[0m \u001b[43m\u001b[49m\u001b[43m)\u001b[49m\n\u001b[1;32m   1890\u001b[0m \u001b[38;5;28;01massert\u001b[39;00m \u001b[38;5;28mself\u001b[39m\u001b[38;5;241m.\u001b[39mhandles \u001b[38;5;129;01mis\u001b[39;00m \u001b[38;5;129;01mnot\u001b[39;00m \u001b[38;5;28;01mNone\u001b[39;00m\n\u001b[1;32m   1891\u001b[0m f \u001b[38;5;241m=\u001b[39m \u001b[38;5;28mself\u001b[39m\u001b[38;5;241m.\u001b[39mhandles\u001b[38;5;241m.\u001b[39mhandle\n",
      "File \u001b[0;32m~/miniconda3/envs/kaggle/lib/python3.11/site-packages/pandas/io/common.py:873\u001b[0m, in \u001b[0;36mget_handle\u001b[0;34m(path_or_buf, mode, encoding, compression, memory_map, is_text, errors, storage_options)\u001b[0m\n\u001b[1;32m    868\u001b[0m \u001b[38;5;28;01melif\u001b[39;00m \u001b[38;5;28misinstance\u001b[39m(handle, \u001b[38;5;28mstr\u001b[39m):\n\u001b[1;32m    869\u001b[0m     \u001b[38;5;66;03m# Check whether the filename is to be opened in binary mode.\u001b[39;00m\n\u001b[1;32m    870\u001b[0m     \u001b[38;5;66;03m# Binary mode does not support 'encoding' and 'newline'.\u001b[39;00m\n\u001b[1;32m    871\u001b[0m     \u001b[38;5;28;01mif\u001b[39;00m ioargs\u001b[38;5;241m.\u001b[39mencoding \u001b[38;5;129;01mand\u001b[39;00m \u001b[38;5;124m\"\u001b[39m\u001b[38;5;124mb\u001b[39m\u001b[38;5;124m\"\u001b[39m \u001b[38;5;129;01mnot\u001b[39;00m \u001b[38;5;129;01min\u001b[39;00m ioargs\u001b[38;5;241m.\u001b[39mmode:\n\u001b[1;32m    872\u001b[0m         \u001b[38;5;66;03m# Encoding\u001b[39;00m\n\u001b[0;32m--> 873\u001b[0m         handle \u001b[38;5;241m=\u001b[39m \u001b[38;5;28;43mopen\u001b[39;49m\u001b[43m(\u001b[49m\n\u001b[1;32m    874\u001b[0m \u001b[43m            \u001b[49m\u001b[43mhandle\u001b[49m\u001b[43m,\u001b[49m\n\u001b[1;32m    875\u001b[0m \u001b[43m            \u001b[49m\u001b[43mioargs\u001b[49m\u001b[38;5;241;43m.\u001b[39;49m\u001b[43mmode\u001b[49m\u001b[43m,\u001b[49m\n\u001b[1;32m    876\u001b[0m \u001b[43m            \u001b[49m\u001b[43mencoding\u001b[49m\u001b[38;5;241;43m=\u001b[39;49m\u001b[43mioargs\u001b[49m\u001b[38;5;241;43m.\u001b[39;49m\u001b[43mencoding\u001b[49m\u001b[43m,\u001b[49m\n\u001b[1;32m    877\u001b[0m \u001b[43m            \u001b[49m\u001b[43merrors\u001b[49m\u001b[38;5;241;43m=\u001b[39;49m\u001b[43merrors\u001b[49m\u001b[43m,\u001b[49m\n\u001b[1;32m    878\u001b[0m \u001b[43m            \u001b[49m\u001b[43mnewline\u001b[49m\u001b[38;5;241;43m=\u001b[39;49m\u001b[38;5;124;43m\"\u001b[39;49m\u001b[38;5;124;43m\"\u001b[39;49m\u001b[43m,\u001b[49m\n\u001b[1;32m    879\u001b[0m \u001b[43m        \u001b[49m\u001b[43m)\u001b[49m\n\u001b[1;32m    880\u001b[0m     \u001b[38;5;28;01melse\u001b[39;00m:\n\u001b[1;32m    881\u001b[0m         \u001b[38;5;66;03m# Binary mode\u001b[39;00m\n\u001b[1;32m    882\u001b[0m         handle \u001b[38;5;241m=\u001b[39m \u001b[38;5;28mopen\u001b[39m(handle, ioargs\u001b[38;5;241m.\u001b[39mmode)\n",
      "\u001b[0;31mFileNotFoundError\u001b[0m: [Errno 2] No such file or directory: './outputs/EfficientNet_b2_two_stage_oof_2.csv'"
     ]
    }
   ],
   "source": [
    "csv_path = f'./outputs/{ModelConfig.MODEL_NAME}_oof_2.csv'\n",
    "print(\"CSV Path: \", csv_path)\n",
    "\n",
    "oof_df = analyze_oof(csv_path)\n",
    "\n",
    "print(\"Kaggle Score: \", calc_kaggle_score(oof_df))\n",
    "print(\"Average KL Loss: \", oof_df[\"kl_loss\"].mean())\n",
    "\n",
    "display(oof_df.head())\n",
    "\n",
    "# plot confusion matrix\n",
    "cm = confusion_matrix(oof_df['target_id'], oof_df['target_pred']) # (y_true, y_pred)\n",
    "cm = cm / cm.sum(axis=1)[:, np.newaxis]\n",
    "\n",
    "fig = plt.figure(figsize=(6, 6))\n",
    "sns.heatmap(cm, annot=True, cmap='Blues', xticklabels=TARGET2ID.keys(), yticklabels=TARGET2ID.keys())\n",
    "plt.xlabel('Predicted', fontsize=12)\n",
    "plt.ylabel('True', fontsize=12)\n",
    "plt.title(csv_path.split('/')[-1].split('.')[0], fontsize=12)\n",
    "fig.tight_layout()\n",
    "fig.savefig(f\"./outputs/{csv_path.split('/')[-1].split('.')[0]}_CM.png\")\n",
    "plt.show()"
   ]
  },
  {
   "cell_type": "code",
   "execution_count": 5,
   "metadata": {},
   "outputs": [
    {
     "name": "stdout",
     "output_type": "stream",
     "text": [
      "CSV Path:  ./outputs/EEGSeq_ResNet_GRU_Wavenet_oof_1.csv\n",
      "Kaggle Score:  0.7013359133315267\n",
      "Average KL Loss:  0.70133597\n"
     ]
    },
    {
     "data": {
      "text/html": [
       "<div>\n",
       "<style scoped>\n",
       "    .dataframe tbody tr th:only-of-type {\n",
       "        vertical-align: middle;\n",
       "    }\n",
       "\n",
       "    .dataframe tbody tr th {\n",
       "        vertical-align: top;\n",
       "    }\n",
       "\n",
       "    .dataframe thead th {\n",
       "        text-align: right;\n",
       "    }\n",
       "</style>\n",
       "<table border=\"1\" class=\"dataframe\">\n",
       "  <thead>\n",
       "    <tr style=\"text-align: right;\">\n",
       "      <th></th>\n",
       "      <th>eeg_id</th>\n",
       "      <th>seizure_vote</th>\n",
       "      <th>lpd_vote</th>\n",
       "      <th>gpd_vote</th>\n",
       "      <th>lrda_vote</th>\n",
       "      <th>grda_vote</th>\n",
       "      <th>other_vote</th>\n",
       "      <th>spectrogram_id</th>\n",
       "      <th>min</th>\n",
       "      <th>max</th>\n",
       "      <th>...</th>\n",
       "      <th>fold</th>\n",
       "      <th>seizure_pred</th>\n",
       "      <th>lpd_pred</th>\n",
       "      <th>gpd_pred</th>\n",
       "      <th>lrda_pred</th>\n",
       "      <th>grda_pred</th>\n",
       "      <th>other_pred</th>\n",
       "      <th>target_pred</th>\n",
       "      <th>target_id</th>\n",
       "      <th>kl_loss</th>\n",
       "    </tr>\n",
       "  </thead>\n",
       "  <tbody>\n",
       "    <tr>\n",
       "      <th>0</th>\n",
       "      <td>568657</td>\n",
       "      <td>0.0</td>\n",
       "      <td>0.000000</td>\n",
       "      <td>0.25</td>\n",
       "      <td>0.000000</td>\n",
       "      <td>0.166667</td>\n",
       "      <td>0.583333</td>\n",
       "      <td>789577333</td>\n",
       "      <td>0.0</td>\n",
       "      <td>16.0</td>\n",
       "      <td>...</td>\n",
       "      <td>0</td>\n",
       "      <td>0.109125</td>\n",
       "      <td>0.009968</td>\n",
       "      <td>0.067567</td>\n",
       "      <td>0.030916</td>\n",
       "      <td>0.286464</td>\n",
       "      <td>0.495960</td>\n",
       "      <td>5</td>\n",
       "      <td>5</td>\n",
       "      <td>0.331470</td>\n",
       "    </tr>\n",
       "    <tr>\n",
       "      <th>1</th>\n",
       "      <td>582999</td>\n",
       "      <td>0.0</td>\n",
       "      <td>0.857143</td>\n",
       "      <td>0.00</td>\n",
       "      <td>0.071429</td>\n",
       "      <td>0.000000</td>\n",
       "      <td>0.071429</td>\n",
       "      <td>1552638400</td>\n",
       "      <td>0.0</td>\n",
       "      <td>38.0</td>\n",
       "      <td>...</td>\n",
       "      <td>0</td>\n",
       "      <td>0.233216</td>\n",
       "      <td>0.206535</td>\n",
       "      <td>0.005596</td>\n",
       "      <td>0.145550</td>\n",
       "      <td>0.033696</td>\n",
       "      <td>0.375407</td>\n",
       "      <td>5</td>\n",
       "      <td>1</td>\n",
       "      <td>1.050465</td>\n",
       "    </tr>\n",
       "    <tr>\n",
       "      <th>2</th>\n",
       "      <td>642382</td>\n",
       "      <td>0.0</td>\n",
       "      <td>0.000000</td>\n",
       "      <td>0.00</td>\n",
       "      <td>0.000000</td>\n",
       "      <td>0.000000</td>\n",
       "      <td>1.000000</td>\n",
       "      <td>14960202</td>\n",
       "      <td>1008.0</td>\n",
       "      <td>1032.0</td>\n",
       "      <td>...</td>\n",
       "      <td>0</td>\n",
       "      <td>0.008237</td>\n",
       "      <td>0.017170</td>\n",
       "      <td>0.007510</td>\n",
       "      <td>0.054486</td>\n",
       "      <td>0.043614</td>\n",
       "      <td>0.868982</td>\n",
       "      <td>5</td>\n",
       "      <td>5</td>\n",
       "      <td>0.140432</td>\n",
       "    </tr>\n",
       "    <tr>\n",
       "      <th>3</th>\n",
       "      <td>751790</td>\n",
       "      <td>0.0</td>\n",
       "      <td>0.000000</td>\n",
       "      <td>1.00</td>\n",
       "      <td>0.000000</td>\n",
       "      <td>0.000000</td>\n",
       "      <td>0.000000</td>\n",
       "      <td>618728447</td>\n",
       "      <td>908.0</td>\n",
       "      <td>908.0</td>\n",
       "      <td>...</td>\n",
       "      <td>0</td>\n",
       "      <td>0.012146</td>\n",
       "      <td>0.237113</td>\n",
       "      <td>0.746248</td>\n",
       "      <td>0.000135</td>\n",
       "      <td>0.000251</td>\n",
       "      <td>0.004108</td>\n",
       "      <td>2</td>\n",
       "      <td>2</td>\n",
       "      <td>0.292698</td>\n",
       "    </tr>\n",
       "    <tr>\n",
       "      <th>4</th>\n",
       "      <td>778705</td>\n",
       "      <td>0.0</td>\n",
       "      <td>0.000000</td>\n",
       "      <td>0.00</td>\n",
       "      <td>0.000000</td>\n",
       "      <td>0.000000</td>\n",
       "      <td>1.000000</td>\n",
       "      <td>52296320</td>\n",
       "      <td>0.0</td>\n",
       "      <td>0.0</td>\n",
       "      <td>...</td>\n",
       "      <td>0</td>\n",
       "      <td>0.193257</td>\n",
       "      <td>0.021848</td>\n",
       "      <td>0.011632</td>\n",
       "      <td>0.107219</td>\n",
       "      <td>0.178399</td>\n",
       "      <td>0.487647</td>\n",
       "      <td>5</td>\n",
       "      <td>5</td>\n",
       "      <td>0.718164</td>\n",
       "    </tr>\n",
       "  </tbody>\n",
       "</table>\n",
       "<p>5 rows × 27 columns</p>\n",
       "</div>"
      ],
      "text/plain": [
       "   eeg_id  seizure_vote  lpd_vote  gpd_vote  lrda_vote  grda_vote  other_vote  \\\n",
       "0  568657           0.0  0.000000      0.25   0.000000   0.166667    0.583333   \n",
       "1  582999           0.0  0.857143      0.00   0.071429   0.000000    0.071429   \n",
       "2  642382           0.0  0.000000      0.00   0.000000   0.000000    1.000000   \n",
       "3  751790           0.0  0.000000      1.00   0.000000   0.000000    0.000000   \n",
       "4  778705           0.0  0.000000      0.00   0.000000   0.000000    1.000000   \n",
       "\n",
       "   spectrogram_id     min     max  ...  fold  seizure_pred  lpd_pred  \\\n",
       "0       789577333     0.0    16.0  ...     0      0.109125  0.009968   \n",
       "1      1552638400     0.0    38.0  ...     0      0.233216  0.206535   \n",
       "2        14960202  1008.0  1032.0  ...     0      0.008237  0.017170   \n",
       "3       618728447   908.0   908.0  ...     0      0.012146  0.237113   \n",
       "4        52296320     0.0     0.0  ...     0      0.193257  0.021848   \n",
       "\n",
       "   gpd_pred  lrda_pred  grda_pred  other_pred  target_pred  target_id  \\\n",
       "0  0.067567   0.030916   0.286464    0.495960            5          5   \n",
       "1  0.005596   0.145550   0.033696    0.375407            5          1   \n",
       "2  0.007510   0.054486   0.043614    0.868982            5          5   \n",
       "3  0.746248   0.000135   0.000251    0.004108            2          2   \n",
       "4  0.011632   0.107219   0.178399    0.487647            5          5   \n",
       "\n",
       "    kl_loss  \n",
       "0  0.331470  \n",
       "1  1.050465  \n",
       "2  0.140432  \n",
       "3  0.292698  \n",
       "4  0.718164  \n",
       "\n",
       "[5 rows x 27 columns]"
      ]
     },
     "metadata": {},
     "output_type": "display_data"
    },
    {
     "data": {
      "image/png": "[encoded data removed]",
      "text/plain": [
       "<Figure size 600x600 with 2 Axes>"
      ]
     },
     "metadata": {},
     "output_type": "display_data"
    }
   ],
   "source": [
    "csv_path = f'./outputs/EEGSeq_ResNet_GRU_Wavenet_oof_1.csv'\n",
    "print(\"CSV Path: \", csv_path)\n",
    "\n",
    "oof_df = analyze_oof(csv_path)\n",
    "\n",
    "print(\"Kaggle Score: \", calc_kaggle_score(oof_df))\n",
    "print(\"Average KL Loss: \", oof_df[\"kl_loss\"].mean())\n",
    "\n",
    "display(oof_df.head())\n",
    "\n",
    "# plot confusion matrix\n",
    "cm = confusion_matrix(oof_df['target_id'], oof_df['target_pred']) # (y_true, y_pred)\n",
    "cm = cm / cm.sum(axis=1)[:, np.newaxis]\n",
    "\n",
    "fig = plt.figure(figsize=(6, 6))\n",
    "sns.heatmap(cm, annot=True, cmap='Blues', xticklabels=TARGET2ID.keys(), yticklabels=TARGET2ID.keys())\n",
    "plt.xlabel('Predicted', fontsize=12)\n",
    "plt.ylabel('True', fontsize=12)\n",
    "plt.title(csv_path.split('/')[-1].split('.')[0], fontsize=12)\n",
    "fig.tight_layout()\n",
    "fig.savefig(f\"./outputs/{csv_path.split('/')[-1].split('.')[0]}_CM.png\")\n",
    "plt.show()"
   ]
  },
  {
   "cell_type": "code",
   "execution_count": null,
   "metadata": {},
   "outputs": [],
   "source": []
  }
 ],
 "metadata": {
  "kernelspec": {
   "display_name": "kaggle",
   "language": "python",
   "name": "python3"
  },
  "language_info": {
   "codemirror_mode": {
    "name": "ipython",
    "version": 3
   },
   "file_extension": ".py",
   "mimetype": "text/x-python",
   "name": "python",
   "nbconvert_exporter": "python",
   "pygments_lexer": "ipython3",
   "version": "3.11.6"
  }
 },
 "nbformat": 4,
 "nbformat_minor": 2
}
