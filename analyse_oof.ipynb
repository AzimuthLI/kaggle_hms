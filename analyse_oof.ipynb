{
 "cells": [
  {
   "cell_type": "code",
   "execution_count": 2,
   "id": "initial_id",
   "metadata": {
    "collapsed": true,
    "ExecuteTime": {
     "end_time": "2024-03-19T11:15:04.730129Z",
     "start_time": "2024-03-19T11:14:59.945608Z"
    }
   },
   "outputs": [],
   "source": [
    "import pandas as pd\n",
    "import torch.nn.functional as F\n",
    "\n",
    "oof = pd.read_csv(\"oof_df.csv\")\n",
    "\n"
   ]
  },
  {
   "cell_type": "code",
   "execution_count": 28,
   "outputs": [],
   "source": [
    "from torch.nn import Softmax\n",
    "import torch\n",
    "s = Softmax(dim=1)\n",
    "prob_pred = s(torch.tensor(oof[[\"hard_pred\", \"easy_pred\"]].values))\n",
    "prob = torch.tensor(oof[[\"hard\", \"easy\"]].values)"
   ],
   "metadata": {
    "collapsed": false,
    "ExecuteTime": {
     "end_time": "2024-03-19T12:31:42.469641Z",
     "start_time": "2024-03-19T12:31:42.454773Z"
    }
   },
   "id": "a2d1cbebe6b01b4b"
  },
  {
   "cell_type": "code",
   "execution_count": 32,
   "outputs": [
    {
     "data": {
      "text/plain": "tensor(2760)"
     },
     "execution_count": 32,
     "metadata": {},
     "output_type": "execute_result"
    }
   ],
   "source": [
    "sum((prob_pred[:, 1] > 0.75) & (prob[:, 1] > 0.75))"
   ],
   "metadata": {
    "collapsed": false,
    "ExecuteTime": {
     "end_time": "2024-03-19T12:32:07.580545Z",
     "start_time": "2024-03-19T12:32:07.519929Z"
    }
   },
   "id": "322f5d8df128bb1d"
  },
  {
   "cell_type": "code",
   "execution_count": 30,
   "outputs": [
    {
     "data": {
      "text/plain": "tensor([[0.0000, 1.0000],\n        [0.6623, 0.3377],\n        [0.0000, 1.0000],\n        ...,\n        [0.8777, 0.1223],\n        [0.5800, 0.4200],\n        [0.0000, 1.0000]], dtype=torch.float64)"
     },
     "execution_count": 30,
     "metadata": {},
     "output_type": "execute_result"
    }
   ],
   "source": [],
   "metadata": {
    "collapsed": false,
    "ExecuteTime": {
     "end_time": "2024-03-19T12:31:44.887432Z",
     "start_time": "2024-03-19T12:31:44.881574Z"
    }
   },
   "id": "9f3788ff7b234554"
  },
  {
   "cell_type": "code",
   "execution_count": null,
   "outputs": [],
   "source": [],
   "metadata": {
    "collapsed": false
   },
   "id": "1769078c95a9d71c"
  }
 ],
 "metadata": {
  "kernelspec": {
   "display_name": "Python 3",
   "language": "python",
   "name": "python3"
  },
  "language_info": {
   "codemirror_mode": {
    "name": "ipython",
    "version": 2
   },
   "file_extension": ".py",
   "mimetype": "text/x-python",
   "name": "python",
   "nbconvert_exporter": "python",
   "pygments_lexer": "ipython2",
   "version": "2.7.6"
  }
 },
 "nbformat": 4,
 "nbformat_minor": 5
}
