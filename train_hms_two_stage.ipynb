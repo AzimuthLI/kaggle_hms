{
    "cells": [
        {
            "cell_type": "code",
            "execution_count": 1,
            "metadata": {},
            "outputs": [
                {
                    "name": "stderr",
                    "output_type": "stream",
                    "text": [
                        "/home/shiyi/miniconda3/envs/kaggle/lib/python3.11/site-packages/transformers/utils/generic.py:441: UserWarning: torch.utils._pytree._register_pytree_node is deprecated. Please use torch.utils._pytree.register_pytree_node instead.\n",
                        "  _torch_pytree._register_pytree_node(\n",
                        "/home/shiyi/miniconda3/envs/kaggle/lib/python3.11/site-packages/transformers/utils/generic.py:309: UserWarning: torch.utils._pytree._register_pytree_node is deprecated. Please use torch.utils._pytree.register_pytree_node instead.\n",
                        "  _torch_pytree._register_pytree_node(\n"
                    ]
                }
            ],
            "source": [
                "import pandas as pd \n",
                "import numpy as np \n",
                "import matplotlib.pyplot as plt\n",
                "\n",
                "from engine_hms_trainer import *\n",
                "from engine_hms_model import KagglePaths, LocalPaths, ModelConfig\n",
                "\n",
                "import torch\n",
                "from torch import nn\n",
                "import torch.nn.functional as F\n",
                "\n",
                "import warnings\n",
                "# warnings.filterwarnings('ignore')"
            ]
        },
        {
            "cell_type": "code",
            "execution_count": 2,
            "metadata": {},
            "outputs": [
                {
                    "name": "stdout",
                    "output_type": "stream",
                    "text": [
                        "Output Dir:  ./outputs/\n"
                    ]
                }
            ],
            "source": [
                "paths = KagglePaths if os.path.exists(KagglePaths.OUTPUT_DIR) else LocalPaths\n",
                "print(\"Output Dir: \", paths.OUTPUT_DIR)"
            ]
        },
        {
            "cell_type": "code",
            "execution_count": 3,
            "metadata": {},
            "outputs": [
                {
                    "name": "stdout",
                    "output_type": "stream",
                    "text": [
                        "(13996, 12)\n",
                        "(6187, 12)\n",
                        "0\n",
                        "0\n"
                    ]
                },
                {
                    "data": {
                        "text/html": [
                            "<div>\n",
                            "<style scoped>\n",
                            "    .dataframe tbody tr th:only-of-type {\n",
                            "        vertical-align: middle;\n",
                            "    }\n",
                            "\n",
                            "    .dataframe tbody tr th {\n",
                            "        vertical-align: top;\n",
                            "    }\n",
                            "\n",
                            "    .dataframe thead th {\n",
                            "        text-align: right;\n",
                            "    }\n",
                            "</style>\n",
                            "<table border=\"1\" class=\"dataframe\">\n",
                            "  <thead>\n",
                            "    <tr style=\"text-align: right;\">\n",
                            "      <th></th>\n",
                            "      <th>eeg_id</th>\n",
                            "      <th>seizure_vote</th>\n",
                            "      <th>lpd_vote</th>\n",
                            "      <th>gpd_vote</th>\n",
                            "      <th>lrda_vote</th>\n",
                            "      <th>grda_vote</th>\n",
                            "      <th>other_vote</th>\n",
                            "      <th>spectrogram_id</th>\n",
                            "      <th>min</th>\n",
                            "      <th>max</th>\n",
                            "      <th>patient_id</th>\n",
                            "      <th>target</th>\n",
                            "    </tr>\n",
                            "  </thead>\n",
                            "  <tbody>\n",
                            "    <tr>\n",
                            "      <th>0</th>\n",
                            "      <td>642382</td>\n",
                            "      <td>0.0</td>\n",
                            "      <td>0.0</td>\n",
                            "      <td>0.0</td>\n",
                            "      <td>0.0</td>\n",
                            "      <td>0.0</td>\n",
                            "      <td>1.0</td>\n",
                            "      <td>14960202</td>\n",
                            "      <td>1008.0</td>\n",
                            "      <td>1032.0</td>\n",
                            "      <td>5955</td>\n",
                            "      <td>Other</td>\n",
                            "    </tr>\n",
                            "    <tr>\n",
                            "      <th>1</th>\n",
                            "      <td>751790</td>\n",
                            "      <td>0.0</td>\n",
                            "      <td>0.0</td>\n",
                            "      <td>1.0</td>\n",
                            "      <td>0.0</td>\n",
                            "      <td>0.0</td>\n",
                            "      <td>0.0</td>\n",
                            "      <td>618728447</td>\n",
                            "      <td>908.0</td>\n",
                            "      <td>908.0</td>\n",
                            "      <td>38549</td>\n",
                            "      <td>GPD</td>\n",
                            "    </tr>\n",
                            "    <tr>\n",
                            "      <th>2</th>\n",
                            "      <td>778705</td>\n",
                            "      <td>0.0</td>\n",
                            "      <td>0.0</td>\n",
                            "      <td>0.0</td>\n",
                            "      <td>0.0</td>\n",
                            "      <td>0.0</td>\n",
                            "      <td>1.0</td>\n",
                            "      <td>52296320</td>\n",
                            "      <td>0.0</td>\n",
                            "      <td>0.0</td>\n",
                            "      <td>40955</td>\n",
                            "      <td>Other</td>\n",
                            "    </tr>\n",
                            "    <tr>\n",
                            "      <th>3</th>\n",
                            "      <td>1629671</td>\n",
                            "      <td>1.0</td>\n",
                            "      <td>0.0</td>\n",
                            "      <td>0.0</td>\n",
                            "      <td>0.0</td>\n",
                            "      <td>0.0</td>\n",
                            "      <td>0.0</td>\n",
                            "      <td>2036345030</td>\n",
                            "      <td>0.0</td>\n",
                            "      <td>160.0</td>\n",
                            "      <td>37481</td>\n",
                            "      <td>Seizure</td>\n",
                            "    </tr>\n",
                            "    <tr>\n",
                            "      <th>4</th>\n",
                            "      <td>2061593</td>\n",
                            "      <td>0.0</td>\n",
                            "      <td>0.0</td>\n",
                            "      <td>0.0</td>\n",
                            "      <td>0.0</td>\n",
                            "      <td>0.0</td>\n",
                            "      <td>1.0</td>\n",
                            "      <td>320962633</td>\n",
                            "      <td>1450.0</td>\n",
                            "      <td>1450.0</td>\n",
                            "      <td>23828</td>\n",
                            "      <td>Other</td>\n",
                            "    </tr>\n",
                            "  </tbody>\n",
                            "</table>\n",
                            "</div>"
                        ],
                        "text/plain": [
                            "    eeg_id  seizure_vote  lpd_vote  gpd_vote  lrda_vote  grda_vote  \\\n",
                            "0   642382           0.0       0.0       0.0        0.0        0.0   \n",
                            "1   751790           0.0       0.0       1.0        0.0        0.0   \n",
                            "2   778705           0.0       0.0       0.0        0.0        0.0   \n",
                            "3  1629671           1.0       0.0       0.0        0.0        0.0   \n",
                            "4  2061593           0.0       0.0       0.0        0.0        0.0   \n",
                            "\n",
                            "   other_vote  spectrogram_id     min     max  patient_id   target  \n",
                            "0         1.0        14960202  1008.0  1032.0        5955    Other  \n",
                            "1         0.0       618728447   908.0   908.0       38549      GPD  \n",
                            "2         1.0        52296320     0.0     0.0       40955    Other  \n",
                            "3         0.0      2036345030     0.0   160.0       37481  Seizure  \n",
                            "4         1.0       320962633  1450.0  1450.0       23828    Other  "
                        ]
                    },
                    "metadata": {},
                    "output_type": "display_data"
                },
                {
                    "name": "stdout",
                    "output_type": "stream",
                    "text": [
                        " \n"
                    ]
                },
                {
                    "data": {
                        "text/html": [
                            "<div>\n",
                            "<style scoped>\n",
                            "    .dataframe tbody tr th:only-of-type {\n",
                            "        vertical-align: middle;\n",
                            "    }\n",
                            "\n",
                            "    .dataframe tbody tr th {\n",
                            "        vertical-align: top;\n",
                            "    }\n",
                            "\n",
                            "    .dataframe thead th {\n",
                            "        text-align: right;\n",
                            "    }\n",
                            "</style>\n",
                            "<table border=\"1\" class=\"dataframe\">\n",
                            "  <thead>\n",
                            "    <tr style=\"text-align: right;\">\n",
                            "      <th></th>\n",
                            "      <th>eeg_id</th>\n",
                            "      <th>seizure_vote</th>\n",
                            "      <th>lpd_vote</th>\n",
                            "      <th>gpd_vote</th>\n",
                            "      <th>lrda_vote</th>\n",
                            "      <th>grda_vote</th>\n",
                            "      <th>other_vote</th>\n",
                            "      <th>spectrogram_id</th>\n",
                            "      <th>min</th>\n",
                            "      <th>max</th>\n",
                            "      <th>patient_id</th>\n",
                            "      <th>target</th>\n",
                            "    </tr>\n",
                            "  </thead>\n",
                            "  <tbody>\n",
                            "    <tr>\n",
                            "      <th>0</th>\n",
                            "      <td>568657</td>\n",
                            "      <td>0.000000</td>\n",
                            "      <td>0.000000</td>\n",
                            "      <td>0.250000</td>\n",
                            "      <td>0.000000</td>\n",
                            "      <td>0.166667</td>\n",
                            "      <td>0.583333</td>\n",
                            "      <td>789577333</td>\n",
                            "      <td>0.0</td>\n",
                            "      <td>16.0</td>\n",
                            "      <td>20654</td>\n",
                            "      <td>Other</td>\n",
                            "    </tr>\n",
                            "    <tr>\n",
                            "      <th>1</th>\n",
                            "      <td>582999</td>\n",
                            "      <td>0.000000</td>\n",
                            "      <td>0.857143</td>\n",
                            "      <td>0.000000</td>\n",
                            "      <td>0.071429</td>\n",
                            "      <td>0.000000</td>\n",
                            "      <td>0.071429</td>\n",
                            "      <td>1552638400</td>\n",
                            "      <td>0.0</td>\n",
                            "      <td>38.0</td>\n",
                            "      <td>20230</td>\n",
                            "      <td>LPD</td>\n",
                            "    </tr>\n",
                            "    <tr>\n",
                            "      <th>2</th>\n",
                            "      <td>1895581</td>\n",
                            "      <td>0.076923</td>\n",
                            "      <td>0.000000</td>\n",
                            "      <td>0.000000</td>\n",
                            "      <td>0.000000</td>\n",
                            "      <td>0.076923</td>\n",
                            "      <td>0.846154</td>\n",
                            "      <td>128369999</td>\n",
                            "      <td>1138.0</td>\n",
                            "      <td>1138.0</td>\n",
                            "      <td>47999</td>\n",
                            "      <td>Other</td>\n",
                            "    </tr>\n",
                            "    <tr>\n",
                            "      <th>3</th>\n",
                            "      <td>2482631</td>\n",
                            "      <td>0.000000</td>\n",
                            "      <td>0.000000</td>\n",
                            "      <td>0.133333</td>\n",
                            "      <td>0.066667</td>\n",
                            "      <td>0.133333</td>\n",
                            "      <td>0.666667</td>\n",
                            "      <td>978166025</td>\n",
                            "      <td>1902.0</td>\n",
                            "      <td>1944.0</td>\n",
                            "      <td>20606</td>\n",
                            "      <td>Other</td>\n",
                            "    </tr>\n",
                            "    <tr>\n",
                            "      <th>4</th>\n",
                            "      <td>2521897</td>\n",
                            "      <td>0.000000</td>\n",
                            "      <td>0.000000</td>\n",
                            "      <td>0.083333</td>\n",
                            "      <td>0.083333</td>\n",
                            "      <td>0.333333</td>\n",
                            "      <td>0.500000</td>\n",
                            "      <td>673742515</td>\n",
                            "      <td>0.0</td>\n",
                            "      <td>4.0</td>\n",
                            "      <td>62117</td>\n",
                            "      <td>Other</td>\n",
                            "    </tr>\n",
                            "  </tbody>\n",
                            "</table>\n",
                            "</div>"
                        ],
                        "text/plain": [
                            "    eeg_id  seizure_vote  lpd_vote  gpd_vote  lrda_vote  grda_vote  \\\n",
                            "0   568657      0.000000  0.000000  0.250000   0.000000   0.166667   \n",
                            "1   582999      0.000000  0.857143  0.000000   0.071429   0.000000   \n",
                            "2  1895581      0.076923  0.000000  0.000000   0.000000   0.076923   \n",
                            "3  2482631      0.000000  0.000000  0.133333   0.066667   0.133333   \n",
                            "4  2521897      0.000000  0.000000  0.083333   0.083333   0.333333   \n",
                            "\n",
                            "   other_vote  spectrogram_id     min     max  patient_id target  \n",
                            "0    0.583333       789577333     0.0    16.0       20654  Other  \n",
                            "1    0.071429      1552638400     0.0    38.0       20230    LPD  \n",
                            "2    0.846154       128369999  1138.0  1138.0       47999  Other  \n",
                            "3    0.666667       978166025  1902.0  1944.0       20606  Other  \n",
                            "4    0.500000       673742515     0.0     4.0       62117  Other  "
                        ]
                    },
                    "metadata": {},
                    "output_type": "display_data"
                }
            ],
            "source": [
                "train_easy, train_hard, all_specs, all_eegs = load_kaggle_data(\n",
                "    paths.TRAIN_CSV, paths.PRE_LOADED_SPECTOGRAMS, paths.PRE_LOADED_EEGS, split_entropy=ModelConfig.SPLIT_ENTROPY)\n",
                "\n",
                "print(train_easy.shape)\n",
                "print(train_hard.shape)\n",
                "\n",
                "# check if contain NaN\n",
                "print(train_easy.isnull().sum().sum())\n",
                "print(train_hard.isnull().sum().sum())\n",
                "\n",
                "display(train_easy.head())\n",
                "print(\" \")\n",
                "display(train_hard.head())"
            ]
        },
        {
            "cell_type": "code",
            "execution_count": null,
            "metadata": {},
            "outputs": [],
            "source": [
                "# check distribution of targets\n",
                "fig, axes = plt.subplots(1, 2, figsize=(10, 5))\n",
                "train_easy[\"target\"].value_counts().plot(kind=\"bar\", ax=axes[0])\n",
                "train_hard[\"target\"].value_counts().plot(kind=\"bar\", ax=axes[1])\n",
                "axes[0].set_title(\"Easy\")\n",
                "axes[1].set_title(\"Hard\")\n",
                "fig.tight_layout()\n",
                "plt.show()"
            ]
        },
        {
            "cell_type": "code",
            "execution_count": null,
            "metadata": {},
            "outputs": [],
            "source": [
                "# # calculate class weights for loss function\n",
                "# class_weights = train_easy[\"target\"].value_counts(normalize=True).sort_index()\n",
                "# class_weights"
            ]
        },
        {
            "cell_type": "code",
            "execution_count": null,
            "metadata": {},
            "outputs": [],
            "source": [
                "# Rebalance hard samples by Randomly sample from easy and add to hard.\n",
                "# tgt_to_sample = ['Seizure', 'LRDA', 'GRDA']\n",
                "# sample_ratio = 0.5 # 50% of easy to add to hard for each target label\n",
                "\n",
                "# for tgt in tgt_to_sample:\n",
                "#     easy_sample = train_easy[train_easy[\"target\"] == tgt].sample(frac=sample_ratio)\n",
                "#     train_hard = pd.concat([train_hard, easy_sample], axis=0)\n",
                "\n",
                "# print(\"Hard after adding easy: \", train_hard.shape)\n",
                "\n",
                "# # check distribution of targets\n",
                "# fig, axes = plt.subplots(1, 2, figsize=(10, 5))\n",
                "# train_easy[\"target\"].value_counts().plot(kind=\"bar\", ax=axes[0])\n",
                "# train_hard[\"target\"].value_counts().plot(kind=\"bar\", ax=axes[1])\n",
                "# axes[0].set_title(\"Easy\")\n",
                "# axes[1].set_title(\"Hard\")\n",
                "# fig.tight_layout()\n",
                "# plt.show()"
            ]
        },
        {
            "cell_type": "code",
            "execution_count": 4,
            "metadata": {},
            "outputs": [
                {
                    "name": "stderr",
                    "output_type": "stream",
                    "text": [
                        "****************************************************************************************************\n",
                        "Script Start: Sun Mar 17 21:08:01 2024\n",
                        "Model Configurations:\n",
                        "SEED: 20\n",
                        "SPLIT_ENTROPY: 5.5\n",
                        "MODEL_NAME: DualEncoder_B0\n",
                        "MODEL_BACKBONE: dual_encoder\n",
                        "BATCH_SIZE: 16\n",
                        "EPOCHS: 6\n",
                        "GRADIENT_ACCUMULATION_STEPS: 1\n",
                        "DROP_RATE: 0.15\n",
                        "DROP_PATH_RATE: 0.25\n",
                        "WEIGHT_DECAY: 0.01\n",
                        "REGULARIZATION: None\n",
                        "USE_KAGGLE_SPECTROGRAMS: True\n",
                        "USE_EEG_SPECTROGRAMS: True\n",
                        "AMP: True\n",
                        "AUGMENT: False\n",
                        "AUGMENTATIONS: []\n",
                        "PRINT_FREQ: 50\n",
                        "FREEZE: False\n",
                        "NUM_FROZEN_LAYERS: 0\n",
                        "NUM_WORKERS: 0\n",
                        "MAX_GRAD_NORM: 10000000.0\n",
                        "MAE_PRETRAINED_WEIGHTS: facebook/vit-mae-base\n",
                        "MAE_HIDDEN_DROPOUT_PROB: 0.05\n",
                        "MAE_ATTENTION_DROPOUT_PROB: 0.05\n",
                        "****************************************************************************************************\n"
                    ]
                }
            ],
            "source": [
                "# config DualEncoder\n",
                "ModelConfig.EPOCHS = 6\n",
                "ModelConfig.BATCH_SIZE = 16\n",
                "ModelConfig.GRADIENT_ACCUMULATION_STEPS = 1\n",
                "ModelConfig.MODEL_BACKBONE = 'dual_encoder'\n",
                "ModelConfig.MODEL_NAME = \"DualEncoder_B0\"\n",
                "ModelConfig.USE_KAGGLE_SPECTROGRAMS = True\n",
                "ModelConfig.USE_EEG_SPECTROGRAMS = True\n",
                "ModelConfig.REGULARIZATION = None\n",
                "ModelConfig.AUGMENT = False\n",
                "ModelConfig.AUGMENTATIONS = []\n",
                "\n",
                "hms_predictor = HMSPredictor(paths.OUTPUT_DIR, ModelConfig, k_fold=5)"
            ]
        },
        {
            "cell_type": "code",
            "execution_count": 5,
            "metadata": {},
            "outputs": [
                {
                    "name": "stderr",
                    "output_type": "stream",
                    "text": [
                        "Train Easy: (13996, 12) | Train Hard: (6187, 12)\n",
                        "====================================================================================================\n",
                        "Fold: 0 || Valid size 6635 \n",
                        "====================================================================================================\n",
                        "- First Stage \n"
                    ]
                },
                {
                    "data": {
                        "application/vnd.jupyter.widget-view+json": {
                            "model_id": "11436aea3d644c96b4c0d530f5af467e",
                            "version_major": 2,
                            "version_minor": 0
                        },
                        "text/plain": [
                            "Train [0]:   0%|          | 0/566 [00:00<?, ?batch/s]"
                        ]
                    },
                    "metadata": {},
                    "output_type": "display_data"
                },
                {
                    "name": "stdout",
                    "output_type": "stream",
                    "text": [
                        "Epoch 1 [0/566] | Train Loss: 1.7040 Grad: 198356.0625 LR: 4.0021e-06 | Elapse: 1.12s\n",
                        "Epoch 1 [50/566] | Train Loss: 1.6533 Grad: 202353.1875 LR: 9.2742e-06 | Elapse: 7.66s\n",
                        "Epoch 1 [100/566] | Train Loss: 1.6162 Grad: 118213.4141 LR: 2.3578e-05 | Elapse: 14.16s\n",
                        "Epoch 1 [150/566] | Train Loss: 1.5550 Grad: 99771.3984 LR: 4.3889e-05 | Elapse: 20.68s\n",
                        "Epoch 1 [200/566] | Train Loss: 1.4777 Grad: 102882.6328 LR: 6.5915e-05 | Elapse: 27.20s\n",
                        "Epoch 1 [250/566] | Train Loss: 1.4017 Grad: 65253.7656 LR: 8.5000e-05 | Elapse: 33.73s\n",
                        "Epoch 1 [300/566] | Train Loss: 1.3293 Grad: 61983.3750 LR: 9.7109e-05 | Elapse: 40.27s\n",
                        "Epoch 1 [350/566] | Train Loss: 1.2702 Grad: 71990.5703 LR: 9.9996e-05 | Elapse: 46.81s\n",
                        "Epoch 1 [400/566] | Train Loss: 1.2186 Grad: 58628.9297 LR: 9.9897e-05 | Elapse: 53.36s\n",
                        "Epoch 1 [450/566] | Train Loss: 1.1796 Grad: 85737.8594 LR: 9.9667e-05 | Elapse: 59.92s\n",
                        "Epoch 1 [500/566] | Train Loss: 1.1468 Grad: 64395.0391 LR: 9.9305e-05 | Elapse: 66.50s\n",
                        "Epoch 1 [550/566] | Train Loss: 1.1155 Grad: 75908.5781 LR: 9.8814e-05 | Elapse: 73.07s\n",
                        "Epoch 1 [565/566] | Train Loss: 1.1100 Grad: 61755.0117 LR: 9.8641e-05 | Elapse: 75.05s\n"
                    ]
                },
                {
                    "data": {
                        "application/vnd.jupyter.widget-view+json": {
                            "model_id": "71473932aca146b9845fc2bc3ed6b9af",
                            "version_major": 2,
                            "version_minor": 0
                        },
                        "text/plain": [
                            "Valid [0]:   0%|          | 0/415 [00:00<?, ?batch/s]"
                        ]
                    },
                    "metadata": {},
                    "output_type": "display_data"
                },
                {
                    "name": "stdout",
                    "output_type": "stream",
                    "text": [
                        "Epoch 1 [0/415] | Valid Loss: 0.8057 | Elapse: 0.11s\n",
                        "Epoch 1 [50/415] | Valid Loss: 0.7220 | Elapse: 4.11s\n",
                        "Epoch 1 [100/415] | Valid Loss: 0.7073 | Elapse: 8.11s\n",
                        "Epoch 1 [150/415] | Valid Loss: 0.7199 | Elapse: 12.12s\n",
                        "Epoch 1 [200/415] | Valid Loss: 0.7374 | Elapse: 16.14s\n",
                        "Epoch 1 [250/415] | Valid Loss: 0.7490 | Elapse: 20.16s\n",
                        "Epoch 1 [300/415] | Valid Loss: 0.7468 | Elapse: 24.18s\n",
                        "Epoch 1 [350/415] | Valid Loss: 0.7297 | Elapse: 28.19s\n",
                        "Epoch 1 [400/415] | Valid Loss: 0.7128 | Elapse: 32.21s\n"
                    ]
                },
                {
                    "name": "stderr",
                    "output_type": "stream",
                    "text": [
                        "----------------------------------------------------------------------------------------------------\n",
                        "Epoch 1 - Average Loss: (train) 1.1100; (valid) 0.7112 | Time: 108.40s\n",
                        "Best model found in epoch 1 | valid loss: 0.7112\n"
                    ]
                },
                {
                    "name": "stdout",
                    "output_type": "stream",
                    "text": [
                        "Epoch 1 [414/415] | Valid Loss: 0.7112 | Elapse: 33.34s\n"
                    ]
                },
                {
                    "data": {
                        "application/vnd.jupyter.widget-view+json": {
                            "model_id": "26179806fc094b0a834a08c2a6663fb5",
                            "version_major": 2,
                            "version_minor": 0
                        },
                        "text/plain": [
                            "Train [1]:   0%|          | 0/566 [00:00<?, ?batch/s]"
                        ]
                    },
                    "metadata": {},
                    "output_type": "display_data"
                },
                {
                    "name": "stdout",
                    "output_type": "stream",
                    "text": [
                        "Epoch 2 [0/566] | Train Loss: 0.7840 Grad: inf LR: 9.8629e-05 | Elapse: 0.13s\n",
                        "Epoch 2 [50/566] | Train Loss: 0.7768 Grad: 197379.2344 LR: 9.7968e-05 | Elapse: 6.72s\n",
                        "Epoch 2 [100/566] | Train Loss: 0.7692 Grad: 160138.8906 LR: 9.7180e-05 | Elapse: 13.36s\n",
                        "Epoch 2 [150/566] | Train Loss: 0.7653 Grad: 125127.6406 LR: 9.6267e-05 | Elapse: 19.95s\n",
                        "Epoch 2 [200/566] | Train Loss: 0.7492 Grad: 96544.8906 LR: 9.5232e-05 | Elapse: 26.54s\n",
                        "Epoch 2 [250/566] | Train Loss: 0.7359 Grad: 54459.8672 LR: 9.4078e-05 | Elapse: 33.13s\n",
                        "Epoch 2 [300/566] | Train Loss: 0.7140 Grad: 42150.5938 LR: 9.2808e-05 | Elapse: 39.72s\n",
                        "Epoch 2 [350/566] | Train Loss: 0.7006 Grad: 34292.5078 LR: 9.1424e-05 | Elapse: 46.35s\n",
                        "Epoch 2 [400/566] | Train Loss: 0.6838 Grad: 37676.6602 LR: 8.9931e-05 | Elapse: 52.96s\n",
                        "Epoch 2 [450/566] | Train Loss: 0.6762 Grad: 43811.1133 LR: 8.8333e-05 | Elapse: 59.57s\n",
                        "Epoch 2 [500/566] | Train Loss: 0.6668 Grad: 32913.5977 LR: 8.6634e-05 | Elapse: 66.19s\n",
                        "Epoch 2 [550/566] | Train Loss: 0.6565 Grad: 29041.5371 LR: 8.4838e-05 | Elapse: 72.80s\n",
                        "Epoch 2 [565/566] | Train Loss: 0.6562 Grad: 27662.4121 LR: 8.4281e-05 | Elapse: 74.79s\n"
                    ]
                },
                {
                    "data": {
                        "application/vnd.jupyter.widget-view+json": {
                            "model_id": "29567b7288fd438689c2bd0d05eba10b",
                            "version_major": 2,
                            "version_minor": 0
                        },
                        "text/plain": [
                            "Valid [1]:   0%|          | 0/415 [00:00<?, ?batch/s]"
                        ]
                    },
                    "metadata": {},
                    "output_type": "display_data"
                },
                {
                    "name": "stdout",
                    "output_type": "stream",
                    "text": [
                        "Epoch 2 [0/415] | Valid Loss: 0.6711 | Elapse: 0.08s\n",
                        "Epoch 2 [50/415] | Valid Loss: 0.6810 | Elapse: 4.09s\n",
                        "Epoch 2 [100/415] | Valid Loss: 0.6429 | Elapse: 8.08s\n",
                        "Epoch 2 [150/415] | Valid Loss: 0.6580 | Elapse: 12.09s\n",
                        "Epoch 2 [200/415] | Valid Loss: 0.6731 | Elapse: 16.13s\n",
                        "Epoch 2 [250/415] | Valid Loss: 0.6789 | Elapse: 20.17s\n",
                        "Epoch 2 [300/415] | Valid Loss: 0.6825 | Elapse: 24.21s\n",
                        "Epoch 2 [350/415] | Valid Loss: 0.6890 | Elapse: 28.25s\n",
                        "Epoch 2 [400/415] | Valid Loss: 0.6858 | Elapse: 32.29s\n"
                    ]
                },
                {
                    "name": "stderr",
                    "output_type": "stream",
                    "text": [
                        "----------------------------------------------------------------------------------------------------\n",
                        "Epoch 2 - Average Loss: (train) 0.6562; (valid) 0.6895 | Time: 108.19s\n",
                        "Best model found in epoch 2 | valid loss: 0.6895\n"
                    ]
                },
                {
                    "name": "stdout",
                    "output_type": "stream",
                    "text": [
                        "Epoch 2 [414/415] | Valid Loss: 0.6895 | Elapse: 33.40s\n"
                    ]
                },
                {
                    "data": {
                        "application/vnd.jupyter.widget-view+json": {
                            "model_id": "da80d601e5324ddebb02c3717e4e654f",
                            "version_major": 2,
                            "version_minor": 0
                        },
                        "text/plain": [
                            "Train [2]:   0%|          | 0/566 [00:00<?, ?batch/s]"
                        ]
                    },
                    "metadata": {},
                    "output_type": "display_data"
                },
                {
                    "name": "stdout",
                    "output_type": "stream",
                    "text": [
                        "Epoch 3 [0/566] | Train Loss: 0.5719 Grad: nan LR: 8.4244e-05 | Elapse: 0.13s\n",
                        "Epoch 3 [50/566] | Train Loss: 0.5638 Grad: 98038.8281 LR: 8.2327e-05 | Elapse: 6.77s\n",
                        "Epoch 3 [100/566] | Train Loss: 0.5568 Grad: 38297.2852 LR: 8.0326e-05 | Elapse: 13.40s\n",
                        "Epoch 3 [150/566] | Train Loss: 0.5545 Grad: 33033.0586 LR: 7.8244e-05 | Elapse: 20.03s\n",
                        "Epoch 3 [200/566] | Train Loss: 0.5425 Grad: 23664.9961 LR: 7.6088e-05 | Elapse: 26.74s\n",
                        "Epoch 3 [250/566] | Train Loss: 0.5341 Grad: 31247.3125 LR: 7.3863e-05 | Elapse: 33.44s\n",
                        "Epoch 3 [300/566] | Train Loss: 0.5198 Grad: 25174.2266 LR: 7.1574e-05 | Elapse: 40.11s\n",
                        "Epoch 3 [350/566] | Train Loss: 0.5088 Grad: 48084.7930 LR: 6.9230e-05 | Elapse: 46.79s\n",
                        "Epoch 3 [400/566] | Train Loss: 0.4959 Grad: 36415.3164 LR: 6.6834e-05 | Elapse: 53.44s\n",
                        "Epoch 3 [450/566] | Train Loss: 0.4898 Grad: 30432.2129 LR: 6.4394e-05 | Elapse: 60.09s\n",
                        "Epoch 3 [500/566] | Train Loss: 0.4812 Grad: 31170.8945 LR: 6.1916e-05 | Elapse: 66.74s\n",
                        "Epoch 3 [550/566] | Train Loss: 0.4739 Grad: 34573.2734 LR: 5.9406e-05 | Elapse: 73.39s\n",
                        "Epoch 3 [565/566] | Train Loss: 0.4720 Grad: 22575.9434 LR: 5.8648e-05 | Elapse: 75.39s\n"
                    ]
                },
                {
                    "data": {
                        "application/vnd.jupyter.widget-view+json": {
                            "model_id": "7c9c414bb22c43ef9294ecce708d5fb2",
                            "version_major": 2,
                            "version_minor": 0
                        },
                        "text/plain": [
                            "Valid [2]:   0%|          | 0/415 [00:00<?, ?batch/s]"
                        ]
                    },
                    "metadata": {},
                    "output_type": "display_data"
                },
                {
                    "name": "stdout",
                    "output_type": "stream",
                    "text": [
                        "Epoch 3 [0/415] | Valid Loss: 0.6294 | Elapse: 0.08s\n",
                        "Epoch 3 [50/415] | Valid Loss: 0.6485 | Elapse: 4.11s\n",
                        "Epoch 3 [100/415] | Valid Loss: 0.6128 | Elapse: 8.12s\n",
                        "Epoch 3 [150/415] | Valid Loss: 0.6313 | Elapse: 12.15s\n",
                        "Epoch 3 [200/415] | Valid Loss: 0.6449 | Elapse: 16.20s\n",
                        "Epoch 3 [250/415] | Valid Loss: 0.6473 | Elapse: 20.26s\n",
                        "Epoch 3 [300/415] | Valid Loss: 0.6511 | Elapse: 24.32s\n",
                        "Epoch 3 [350/415] | Valid Loss: 0.6677 | Elapse: 28.36s\n",
                        "Epoch 3 [400/415] | Valid Loss: 0.6792 | Elapse: 32.40s\n"
                    ]
                },
                {
                    "name": "stderr",
                    "output_type": "stream",
                    "text": [
                        "----------------------------------------------------------------------------------------------------\n",
                        "Epoch 3 - Average Loss: (train) 0.4720; (valid) 0.6863 | Time: 108.91s\n",
                        "Best model found in epoch 3 | valid loss: 0.6863\n"
                    ]
                },
                {
                    "name": "stdout",
                    "output_type": "stream",
                    "text": [
                        "Epoch 3 [414/415] | Valid Loss: 0.6863 | Elapse: 33.51s\n"
                    ]
                },
                {
                    "data": {
                        "application/vnd.jupyter.widget-view+json": {
                            "model_id": "7621acf1b0cc41ff9de4a5593fa0c61a",
                            "version_major": 2,
                            "version_minor": 0
                        },
                        "text/plain": [
                            "Train [3]:   0%|          | 0/566 [00:00<?, ?batch/s]"
                        ]
                    },
                    "metadata": {},
                    "output_type": "display_data"
                },
                {
                    "name": "stdout",
                    "output_type": "stream",
                    "text": [
                        "Epoch 4 [0/566] | Train Loss: 0.3612 Grad: 287767.1875 LR: 5.8598e-05 | Elapse: 0.15s\n",
                        "Epoch 4 [50/566] | Train Loss: 0.3959 Grad: 111751.4531 LR: 5.6057e-05 | Elapse: 6.83s\n",
                        "Epoch 4 [100/566] | Train Loss: 0.3882 Grad: 125692.8750 LR: 5.3500e-05 | Elapse: 13.47s\n",
                        "Epoch 4 [150/566] | Train Loss: 0.3903 Grad: 54413.5195 LR: 5.0934e-05 | Elapse: 20.14s\n",
                        "Epoch 4 [200/566] | Train Loss: 0.3757 Grad: 32462.0957 LR: 4.8366e-05 | Elapse: 26.80s\n",
                        "Epoch 4 [250/566] | Train Loss: 0.3665 Grad: 64869.4141 LR: 4.5802e-05 | Elapse: 33.46s\n",
                        "Epoch 4 [300/566] | Train Loss: 0.3570 Grad: 24532.0527 LR: 4.3249e-05 | Elapse: 40.13s\n",
                        "Epoch 4 [350/566] | Train Loss: 0.3489 Grad: 74633.9766 LR: 4.0714e-05 | Elapse: 46.81s\n",
                        "Epoch 4 [400/566] | Train Loss: 0.3405 Grad: 37273.6445 LR: 3.8204e-05 | Elapse: 53.47s\n",
                        "Epoch 4 [450/566] | Train Loss: 0.3363 Grad: 31066.4766 LR: 3.5725e-05 | Elapse: 60.14s\n",
                        "Epoch 4 [500/566] | Train Loss: 0.3314 Grad: 41457.7031 LR: 3.3284e-05 | Elapse: 66.83s\n",
                        "Epoch 4 [550/566] | Train Loss: 0.3264 Grad: 27712.0977 LR: 3.0886e-05 | Elapse: 73.56s\n",
                        "Epoch 4 [565/566] | Train Loss: 0.3257 Grad: 25257.6582 LR: 3.0177e-05 | Elapse: 75.57s\n"
                    ]
                },
                {
                    "data": {
                        "application/vnd.jupyter.widget-view+json": {
                            "model_id": "e350ddb1a2e44102837fdcacf6b27854",
                            "version_major": 2,
                            "version_minor": 0
                        },
                        "text/plain": [
                            "Valid [3]:   0%|          | 0/415 [00:00<?, ?batch/s]"
                        ]
                    },
                    "metadata": {},
                    "output_type": "display_data"
                },
                {
                    "name": "stdout",
                    "output_type": "stream",
                    "text": [
                        "Epoch 4 [0/415] | Valid Loss: 0.5618 | Elapse: 0.08s\n",
                        "Epoch 4 [50/415] | Valid Loss: 0.6715 | Elapse: 4.12s\n",
                        "Epoch 4 [100/415] | Valid Loss: 0.6197 | Elapse: 8.14s\n",
                        "Epoch 4 [150/415] | Valid Loss: 0.6387 | Elapse: 12.17s\n",
                        "Epoch 4 [200/415] | Valid Loss: 0.6510 | Elapse: 16.22s\n",
                        "Epoch 4 [250/415] | Valid Loss: 0.6507 | Elapse: 20.26s\n",
                        "Epoch 4 [300/415] | Valid Loss: 0.6535 | Elapse: 24.31s\n",
                        "Epoch 4 [350/415] | Valid Loss: 0.6819 | Elapse: 28.34s\n",
                        "Epoch 4 [400/415] | Valid Loss: 0.7077 | Elapse: 32.38s\n"
                    ]
                },
                {
                    "name": "stderr",
                    "output_type": "stream",
                    "text": [
                        "----------------------------------------------------------------------------------------------------\n",
                        "Epoch 4 - Average Loss: (train) 0.3257; (valid) 0.7181 | Time: 109.07s\n"
                    ]
                },
                {
                    "name": "stdout",
                    "output_type": "stream",
                    "text": [
                        "Epoch 4 [414/415] | Valid Loss: 0.7181 | Elapse: 33.49s\n"
                    ]
                },
                {
                    "data": {
                        "application/vnd.jupyter.widget-view+json": {
                            "model_id": "4f36596e390d4d7a978509ef98ab6435",
                            "version_major": 2,
                            "version_minor": 0
                        },
                        "text/plain": [
                            "Train [4]:   0%|          | 0/566 [00:00<?, ?batch/s]"
                        ]
                    },
                    "metadata": {},
                    "output_type": "display_data"
                },
                {
                    "name": "stdout",
                    "output_type": "stream",
                    "text": [
                        "Epoch 5 [0/566] | Train Loss: 0.2813 Grad: nan LR: 3.0130e-05 | Elapse: 0.14s\n",
                        "Epoch 5 [50/566] | Train Loss: 0.2907 Grad: 59760.8789 LR: 2.7800e-05 | Elapse: 6.80s\n",
                        "Epoch 5 [100/566] | Train Loss: 0.2834 Grad: 76358.6016 LR: 2.5530e-05 | Elapse: 13.44s\n",
                        "Epoch 5 [150/566] | Train Loss: 0.2756 Grad: 69263.1406 LR: 2.3324e-05 | Elapse: 20.11s\n",
                        "Epoch 5 [200/566] | Train Loss: 0.2653 Grad: 29934.1562 LR: 2.1189e-05 | Elapse: 26.74s\n",
                        "Epoch 5 [250/566] | Train Loss: 0.2606 Grad: 62914.6875 LR: 1.9130e-05 | Elapse: 33.38s\n",
                        "Epoch 5 [300/566] | Train Loss: 0.2573 Grad: 35901.3945 LR: 1.7152e-05 | Elapse: 40.02s\n",
                        "Epoch 5 [350/566] | Train Loss: 0.2538 Grad: 110305.5938 LR: 1.5261e-05 | Elapse: 46.68s\n",
                        "Epoch 5 [400/566] | Train Loss: 0.2501 Grad: 74607.5859 LR: 1.3462e-05 | Elapse: 53.32s\n",
                        "Epoch 5 [450/566] | Train Loss: 0.2493 Grad: 102015.1797 LR: 1.1760e-05 | Elapse: 59.99s\n",
                        "Epoch 5 [500/566] | Train Loss: 0.2467 Grad: 70750.3047 LR: 1.0158e-05 | Elapse: 66.68s\n",
                        "Epoch 5 [550/566] | Train Loss: 0.2450 Grad: 80782.7812 LR: 8.6618e-06 | Elapse: 73.33s\n",
                        "Epoch 5 [565/566] | Train Loss: 0.2449 Grad: 57842.9414 LR: 8.2341e-06 | Elapse: 75.33s\n"
                    ]
                },
                {
                    "data": {
                        "application/vnd.jupyter.widget-view+json": {
                            "model_id": "359f0c71a411476b87f3ac5812b93055",
                            "version_major": 2,
                            "version_minor": 0
                        },
                        "text/plain": [
                            "Valid [4]:   0%|          | 0/415 [00:00<?, ?batch/s]"
                        ]
                    },
                    "metadata": {},
                    "output_type": "display_data"
                },
                {
                    "name": "stdout",
                    "output_type": "stream",
                    "text": [
                        "Epoch 5 [0/415] | Valid Loss: 0.5178 | Elapse: 0.08s\n",
                        "Epoch 5 [50/415] | Valid Loss: 0.6896 | Elapse: 4.10s\n",
                        "Epoch 5 [100/415] | Valid Loss: 0.6375 | Elapse: 8.13s\n",
                        "Epoch 5 [150/415] | Valid Loss: 0.6551 | Elapse: 12.18s\n",
                        "Epoch 5 [200/415] | Valid Loss: 0.6704 | Elapse: 16.25s\n",
                        "Epoch 5 [250/415] | Valid Loss: 0.6691 | Elapse: 20.30s\n",
                        "Epoch 5 [300/415] | Valid Loss: 0.6740 | Elapse: 24.36s\n",
                        "Epoch 5 [350/415] | Valid Loss: 0.7067 | Elapse: 28.40s\n",
                        "Epoch 5 [400/415] | Valid Loss: 0.7382 | Elapse: 32.43s\n"
                    ]
                },
                {
                    "name": "stderr",
                    "output_type": "stream",
                    "text": [
                        "----------------------------------------------------------------------------------------------------\n",
                        "Epoch 5 - Average Loss: (train) 0.2449; (valid) 0.7495 | Time: 108.88s\n"
                    ]
                },
                {
                    "name": "stdout",
                    "output_type": "stream",
                    "text": [
                        "Epoch 5 [414/415] | Valid Loss: 0.7495 | Elapse: 33.55s\n"
                    ]
                },
                {
                    "data": {
                        "application/vnd.jupyter.widget-view+json": {
                            "model_id": "52c7b05f09b64176b96cc8dc384c0c60",
                            "version_major": 2,
                            "version_minor": 0
                        },
                        "text/plain": [
                            "Train [5]:   0%|          | 0/566 [00:00<?, ?batch/s]"
                        ]
                    },
                    "metadata": {},
                    "output_type": "display_data"
                },
                {
                    "name": "stdout",
                    "output_type": "stream",
                    "text": [
                        "Epoch 6 [0/566] | Train Loss: 0.4407 Grad: nan LR: 8.2059e-06 | Elapse: 0.13s\n",
                        "Epoch 6 [50/566] | Train Loss: 0.2379 Grad: 175547.2969 LR: 6.8547e-06 | Elapse: 6.79s\n",
                        "Epoch 6 [100/566] | Train Loss: 0.2265 Grad: 70965.4453 LR: 5.6174e-06 | Elapse: 13.43s\n",
                        "Epoch 6 [150/566] | Train Loss: 0.2318 Grad: 53433.3633 LR: 4.4974e-06 | Elapse: 20.07s\n",
                        "Epoch 6 [200/566] | Train Loss: 0.2246 Grad: 33107.1758 LR: 3.4976e-06 | Elapse: 26.77s\n",
                        "Epoch 6 [250/566] | Train Loss: 0.2231 Grad: 48620.1602 LR: 2.6207e-06 | Elapse: 33.41s\n",
                        "Epoch 6 [300/566] | Train Loss: 0.2203 Grad: 30359.5117 LR: 1.8689e-06 | Elapse: 40.15s\n",
                        "Epoch 6 [350/566] | Train Loss: 0.2167 Grad: 40062.2383 LR: 1.2443e-06 | Elapse: 46.83s\n",
                        "Epoch 6 [400/566] | Train Loss: 0.2141 Grad: 49784.0703 LR: 7.4844e-07 | Elapse: 53.49s\n",
                        "Epoch 6 [450/566] | Train Loss: 0.2143 Grad: 89540.1172 LR: 3.8273e-07 | Elapse: 60.15s\n",
                        "Epoch 6 [500/566] | Train Loss: 0.2128 Grad: 62136.8672 LR: 1.4811e-07 | Elapse: 66.83s\n",
                        "Epoch 6 [550/566] | Train Loss: 0.2122 Grad: 35362.0742 LR: 4.5175e-08 | Elapse: 73.52s\n",
                        "Epoch 6 [565/566] | Train Loss: 0.2119 Grad: 61053.1523 LR: 4.0026e-08 | Elapse: 75.52s\n"
                    ]
                },
                {
                    "data": {
                        "application/vnd.jupyter.widget-view+json": {
                            "model_id": "b094512b74514d1faa9989ad55ec114b",
                            "version_major": 2,
                            "version_minor": 0
                        },
                        "text/plain": [
                            "Valid [5]:   0%|          | 0/415 [00:00<?, ?batch/s]"
                        ]
                    },
                    "metadata": {},
                    "output_type": "display_data"
                },
                {
                    "name": "stdout",
                    "output_type": "stream",
                    "text": [
                        "Epoch 6 [0/415] | Valid Loss: 0.5386 | Elapse: 0.09s\n",
                        "Epoch 6 [50/415] | Valid Loss: 0.6848 | Elapse: 4.11s\n",
                        "Epoch 6 [100/415] | Valid Loss: 0.6342 | Elapse: 8.13s\n",
                        "Epoch 6 [150/415] | Valid Loss: 0.6538 | Elapse: 12.16s\n",
                        "Epoch 6 [200/415] | Valid Loss: 0.6692 | Elapse: 16.20s\n",
                        "Epoch 6 [250/415] | Valid Loss: 0.6694 | Elapse: 20.25s\n",
                        "Epoch 6 [300/415] | Valid Loss: 0.6760 | Elapse: 24.31s\n",
                        "Epoch 6 [350/415] | Valid Loss: 0.7100 | Elapse: 28.34s\n",
                        "Epoch 6 [400/415] | Valid Loss: 0.7428 | Elapse: 32.40s\n"
                    ]
                },
                {
                    "name": "stderr",
                    "output_type": "stream",
                    "text": [
                        "----------------------------------------------------------------------------------------------------\n",
                        "Epoch 6 - Average Loss: (train) 0.2119; (valid) 0.7544 | Time: 109.03s\n"
                    ]
                },
                {
                    "name": "stdout",
                    "output_type": "stream",
                    "text": [
                        "Epoch 6 [414/415] | Valid Loss: 0.7544 | Elapse: 33.51s\n"
                    ]
                },
                {
                    "name": "stderr",
                    "output_type": "stream",
                    "text": [
                        "====================================================================================================\n",
                        "Fold 0 Valid Loss: (Easy) 0.6495 | (Hard) 0.7800\n",
                        "Elapse: 10.90 min \n",
                        "====================================================================================================\n",
                        "- Second Stage \n",
                        "Use Checkpoint: DualEncoder_B0_fold_0_stage_1.pth\n"
                    ]
                },
                {
                    "data": {
                        "application/vnd.jupyter.widget-view+json": {
                            "model_id": "332fbfe09730411087e0badcfa03fb3a",
                            "version_major": 2,
                            "version_minor": 0
                        },
                        "text/plain": [
                            "Train [0]:   0%|          | 0/265 [00:00<?, ?batch/s]"
                        ]
                    },
                    "metadata": {},
                    "output_type": "display_data"
                },
                {
                    "name": "stderr",
                    "output_type": "stream",
                    "text": [
                        "/home/shiyi/miniconda3/envs/kaggle/lib/python3.11/site-packages/torch/optim/lr_scheduler.py:143: UserWarning: Detected call of `lr_scheduler.step()` before `optimizer.step()`. In PyTorch 1.1.0 and later, you should call them in the opposite order: `optimizer.step()` before `lr_scheduler.step()`.  Failure to do this will result in PyTorch skipping the first value of the learning rate schedule. See more details at https://pytorch.org/docs/stable/optim.html#how-to-adjust-learning-rate\n",
                        "  warnings.warn(\"Detected call of `lr_scheduler.step()` before `optimizer.step()`. \"\n"
                    ]
                },
                {
                    "name": "stdout",
                    "output_type": "stream",
                    "text": [
                        "Epoch 1 [0/265] | Train Loss: 0.7928 Grad: nan LR: 4.0095e-06 | Elapse: 0.15s\n",
                        "Epoch 1 [50/265] | Train Loss: 0.9726 Grad: 53655.3984 LR: 2.6636e-05 | Elapse: 6.77s\n",
                        "Epoch 1 [100/265] | Train Loss: 0.8521 Grad: 47526.2852 LR: 7.2334e-05 | Elapse: 13.40s\n",
                        "Epoch 1 [150/265] | Train Loss: 0.7585 Grad: 46260.3164 LR: 9.9536e-05 | Elapse: 20.03s\n",
                        "Epoch 1 [200/265] | Train Loss: 0.6908 Grad: 35897.0039 LR: 9.9777e-05 | Elapse: 26.68s\n",
                        "Epoch 1 [250/265] | Train Loss: 0.6430 Grad: 38206.0742 LR: 9.8962e-05 | Elapse: 33.32s\n",
                        "Epoch 1 [264/265] | Train Loss: 0.6291 Grad: 28776.9160 LR: 9.8627e-05 | Elapse: 35.19s\n"
                    ]
                },
                {
                    "data": {
                        "application/vnd.jupyter.widget-view+json": {
                            "model_id": "5d0ec9bda11549ff83544a800e802460",
                            "version_major": 2,
                            "version_minor": 0
                        },
                        "text/plain": [
                            "Valid [0]:   0%|          | 0/415 [00:00<?, ?batch/s]"
                        ]
                    },
                    "metadata": {},
                    "output_type": "display_data"
                },
                {
                    "name": "stdout",
                    "output_type": "stream",
                    "text": [
                        "Epoch 1 [0/415] | Valid Loss: 0.5801 | Elapse: 0.08s\n",
                        "Epoch 1 [50/415] | Valid Loss: 0.7892 | Elapse: 4.12s\n",
                        "Epoch 1 [100/415] | Valid Loss: 0.7670 | Elapse: 8.16s\n",
                        "Epoch 1 [150/415] | Valid Loss: 0.7751 | Elapse: 12.21s\n",
                        "Epoch 1 [200/415] | Valid Loss: 0.7700 | Elapse: 16.25s\n",
                        "Epoch 1 [250/415] | Valid Loss: 0.7688 | Elapse: 20.31s\n",
                        "Epoch 1 [300/415] | Valid Loss: 0.7610 | Elapse: 24.35s\n",
                        "Epoch 1 [350/415] | Valid Loss: 0.7148 | Elapse: 28.39s\n",
                        "Epoch 1 [400/415] | Valid Loss: 0.6824 | Elapse: 32.43s\n"
                    ]
                },
                {
                    "name": "stderr",
                    "output_type": "stream",
                    "text": [
                        "----------------------------------------------------------------------------------------------------\n",
                        "Epoch 1 - Average Loss: (train) 0.6291; (valid) 0.6753 | Time: 68.74s\n",
                        "Best model found in epoch 1 | valid loss: 0.6753\n"
                    ]
                },
                {
                    "name": "stdout",
                    "output_type": "stream",
                    "text": [
                        "Epoch 1 [414/415] | Valid Loss: 0.6753 | Elapse: 33.54s\n"
                    ]
                },
                {
                    "data": {
                        "application/vnd.jupyter.widget-view+json": {
                            "model_id": "f075677f516c41b4899c71fde3f86e30",
                            "version_major": 2,
                            "version_minor": 0
                        },
                        "text/plain": [
                            "Train [1]:   0%|          | 0/265 [00:00<?, ?batch/s]"
                        ]
                    },
                    "metadata": {},
                    "output_type": "display_data"
                },
                {
                    "name": "stdout",
                    "output_type": "stream",
                    "text": [
                        "Epoch 2 [0/265] | Train Loss: 0.3415 Grad: 179975.6719 LR: 9.8602e-05 | Elapse: 0.18s\n",
                        "Epoch 2 [50/265] | Train Loss: 0.4183 Grad: 78814.2031 LR: 9.7023e-05 | Elapse: 6.82s\n",
                        "Epoch 2 [100/265] | Train Loss: 0.4063 Grad: 102524.0859 LR: 9.4879e-05 | Elapse: 13.48s\n",
                        "Epoch 2 [150/265] | Train Loss: 0.3924 Grad: 111777.4453 LR: 9.2195e-05 | Elapse: 20.14s\n",
                        "Epoch 2 [200/265] | Train Loss: 0.3825 Grad: 71709.3750 LR: 8.9003e-05 | Elapse: 26.81s\n",
                        "Epoch 2 [250/265] | Train Loss: 0.3743 Grad: 106113.0234 LR: 8.5342e-05 | Elapse: 33.49s\n",
                        "Epoch 2 [264/265] | Train Loss: 0.3710 Grad: 88564.9297 LR: 8.4238e-05 | Elapse: 35.36s\n"
                    ]
                },
                {
                    "data": {
                        "application/vnd.jupyter.widget-view+json": {
                            "model_id": "db19fce994fe48b2853e2f5837767220",
                            "version_major": 2,
                            "version_minor": 0
                        },
                        "text/plain": [
                            "Valid [1]:   0%|          | 0/415 [00:00<?, ?batch/s]"
                        ]
                    },
                    "metadata": {},
                    "output_type": "display_data"
                },
                {
                    "name": "stdout",
                    "output_type": "stream",
                    "text": [
                        "Epoch 2 [0/415] | Valid Loss: 0.5908 | Elapse: 0.09s\n",
                        "Epoch 2 [50/415] | Valid Loss: 0.7817 | Elapse: 4.12s\n",
                        "Epoch 2 [100/415] | Valid Loss: 0.7584 | Elapse: 8.19s\n",
                        "Epoch 2 [150/415] | Valid Loss: 0.7612 | Elapse: 12.24s\n",
                        "Epoch 2 [200/415] | Valid Loss: 0.7516 | Elapse: 16.30s\n",
                        "Epoch 2 [250/415] | Valid Loss: 0.7502 | Elapse: 20.36s\n",
                        "Epoch 2 [300/415] | Valid Loss: 0.7430 | Elapse: 24.42s\n",
                        "Epoch 2 [350/415] | Valid Loss: 0.6950 | Elapse: 28.48s\n",
                        "Epoch 2 [400/415] | Valid Loss: 0.6605 | Elapse: 32.53s\n"
                    ]
                },
                {
                    "name": "stderr",
                    "output_type": "stream",
                    "text": [
                        "----------------------------------------------------------------------------------------------------\n",
                        "Epoch 2 - Average Loss: (train) 0.3710; (valid) 0.6533 | Time: 69.01s\n",
                        "Best model found in epoch 2 | valid loss: 0.6533\n"
                    ]
                },
                {
                    "name": "stdout",
                    "output_type": "stream",
                    "text": [
                        "Epoch 2 [414/415] | Valid Loss: 0.6533 | Elapse: 33.64s\n"
                    ]
                },
                {
                    "data": {
                        "application/vnd.jupyter.widget-view+json": {
                            "model_id": "9920bc9cba5a4edca0b4c94f7394e88f",
                            "version_major": 2,
                            "version_minor": 0
                        },
                        "text/plain": [
                            "Train [2]:   0%|          | 0/265 [00:00<?, ?batch/s]"
                        ]
                    },
                    "metadata": {},
                    "output_type": "display_data"
                },
                {
                    "name": "stdout",
                    "output_type": "stream",
                    "text": [
                        "Epoch 3 [0/265] | Train Loss: 0.2806 Grad: 158030.1250 LR: 8.4158e-05 | Elapse: 0.14s\n",
                        "Epoch 3 [50/265] | Train Loss: 0.3291 Grad: 74344.2422 LR: 7.9954e-05 | Elapse: 6.84s\n",
                        "Epoch 3 [100/265] | Train Loss: 0.3205 Grad: 73406.3828 LR: 7.5389e-05 | Elapse: 13.51s\n",
                        "Epoch 3 [150/265] | Train Loss: 0.3135 Grad: 103211.6953 LR: 7.0519e-05 | Elapse: 20.17s\n",
                        "Epoch 3 [200/265] | Train Loss: 0.3077 Grad: 60085.7383 LR: 6.5402e-05 | Elapse: 26.88s\n",
                        "Epoch 3 [250/265] | Train Loss: 0.3015 Grad: 103994.3750 LR: 6.0100e-05 | Elapse: 33.54s\n",
                        "Epoch 3 [264/265] | Train Loss: 0.2994 Grad: nan LR: 5.8591e-05 | Elapse: 35.41s\n"
                    ]
                },
                {
                    "data": {
                        "application/vnd.jupyter.widget-view+json": {
                            "model_id": "59640f92eaac4eb0bb66b9f601095388",
                            "version_major": 2,
                            "version_minor": 0
                        },
                        "text/plain": [
                            "Valid [2]:   0%|          | 0/415 [00:00<?, ?batch/s]"
                        ]
                    },
                    "metadata": {},
                    "output_type": "display_data"
                },
                {
                    "name": "stdout",
                    "output_type": "stream",
                    "text": [
                        "Epoch 3 [0/415] | Valid Loss: 0.5694 | Elapse: 0.08s\n",
                        "Epoch 3 [50/415] | Valid Loss: 0.8051 | Elapse: 4.11s\n",
                        "Epoch 3 [100/415] | Valid Loss: 0.7776 | Elapse: 8.15s\n",
                        "Epoch 3 [150/415] | Valid Loss: 0.7774 | Elapse: 12.21s\n",
                        "Epoch 3 [200/415] | Valid Loss: 0.7676 | Elapse: 16.28s\n",
                        "Epoch 3 [250/415] | Valid Loss: 0.7674 | Elapse: 20.33s\n",
                        "Epoch 3 [300/415] | Valid Loss: 0.7618 | Elapse: 24.39s\n",
                        "Epoch 3 [350/415] | Valid Loss: 0.7118 | Elapse: 28.43s\n",
                        "Epoch 3 [400/415] | Valid Loss: 0.6772 | Elapse: 32.48s\n"
                    ]
                },
                {
                    "name": "stderr",
                    "output_type": "stream",
                    "text": [
                        "----------------------------------------------------------------------------------------------------\n",
                        "Epoch 3 - Average Loss: (train) 0.2994; (valid) 0.6700 | Time: 69.01s\n"
                    ]
                },
                {
                    "name": "stdout",
                    "output_type": "stream",
                    "text": [
                        "Epoch 3 [414/415] | Valid Loss: 0.6700 | Elapse: 33.59s\n"
                    ]
                },
                {
                    "data": {
                        "application/vnd.jupyter.widget-view+json": {
                            "model_id": "fdb8e0081d514441ad29ba8d46bc4464",
                            "version_major": 2,
                            "version_minor": 0
                        },
                        "text/plain": [
                            "Train [3]:   0%|          | 0/265 [00:00<?, ?batch/s]"
                        ]
                    },
                    "metadata": {},
                    "output_type": "display_data"
                },
                {
                    "name": "stdout",
                    "output_type": "stream",
                    "text": [
                        "Epoch 4 [0/265] | Train Loss: 0.2198 Grad: 123352.5000 LR: 5.8483e-05 | Elapse: 0.16s\n",
                        "Epoch 4 [50/265] | Train Loss: 0.2683 Grad: 69926.7656 LR: 5.3036e-05 | Elapse: 6.85s\n",
                        "Epoch 4 [100/265] | Train Loss: 0.2655 Grad: 91972.2734 LR: 4.7552e-05 | Elapse: 13.55s\n",
                        "Epoch 4 [150/265] | Train Loss: 0.2631 Grad: 89042.3203 LR: 4.2098e-05 | Elapse: 20.27s\n",
                        "Epoch 4 [200/265] | Train Loss: 0.2588 Grad: 81436.6875 LR: 3.6740e-05 | Elapse: 26.95s\n",
                        "Epoch 4 [250/265] | Train Loss: 0.2542 Grad: 85041.1094 LR: 3.1542e-05 | Elapse: 33.61s\n",
                        "Epoch 4 [264/265] | Train Loss: 0.2530 Grad: 84547.5234 LR: 3.0123e-05 | Elapse: 35.48s\n"
                    ]
                },
                {
                    "data": {
                        "application/vnd.jupyter.widget-view+json": {
                            "model_id": "9f04932a722b4db0bcdcc6c9ad34bc33",
                            "version_major": 2,
                            "version_minor": 0
                        },
                        "text/plain": [
                            "Valid [3]:   0%|          | 0/415 [00:00<?, ?batch/s]"
                        ]
                    },
                    "metadata": {},
                    "output_type": "display_data"
                },
                {
                    "name": "stdout",
                    "output_type": "stream",
                    "text": [
                        "Epoch 4 [0/415] | Valid Loss: 0.5576 | Elapse: 0.08s\n",
                        "Epoch 4 [50/415] | Valid Loss: 0.8000 | Elapse: 4.11s\n",
                        "Epoch 4 [100/415] | Valid Loss: 0.7719 | Elapse: 8.15s\n",
                        "Epoch 4 [150/415] | Valid Loss: 0.7705 | Elapse: 12.19s\n",
                        "Epoch 4 [200/415] | Valid Loss: 0.7590 | Elapse: 16.25s\n",
                        "Epoch 4 [250/415] | Valid Loss: 0.7577 | Elapse: 20.30s\n",
                        "Epoch 4 [300/415] | Valid Loss: 0.7518 | Elapse: 24.35s\n",
                        "Epoch 4 [350/415] | Valid Loss: 0.7028 | Elapse: 28.38s\n",
                        "Epoch 4 [400/415] | Valid Loss: 0.6695 | Elapse: 32.42s\n"
                    ]
                },
                {
                    "name": "stderr",
                    "output_type": "stream",
                    "text": [
                        "----------------------------------------------------------------------------------------------------\n",
                        "Epoch 4 - Average Loss: (train) 0.2530; (valid) 0.6625 | Time: 69.06s\n"
                    ]
                },
                {
                    "name": "stdout",
                    "output_type": "stream",
                    "text": [
                        "Epoch 4 [414/415] | Valid Loss: 0.6625 | Elapse: 33.53s\n"
                    ]
                },
                {
                    "data": {
                        "application/vnd.jupyter.widget-view+json": {
                            "model_id": "dbc6a864428b4f1d93eddbe7deb3a2f2",
                            "version_major": 2,
                            "version_minor": 0
                        },
                        "text/plain": [
                            "Train [4]:   0%|          | 0/265 [00:00<?, ?batch/s]"
                        ]
                    },
                    "metadata": {},
                    "output_type": "display_data"
                },
                {
                    "name": "stdout",
                    "output_type": "stream",
                    "text": [
                        "Epoch 5 [0/265] | Train Loss: 0.2250 Grad: 145177.5938 LR: 3.0023e-05 | Elapse: 0.14s\n",
                        "Epoch 5 [50/265] | Train Loss: 0.2362 Grad: 74171.5703 LR: 2.5125e-05 | Elapse: 6.78s\n",
                        "Epoch 5 [100/265] | Train Loss: 0.2304 Grad: 68326.0078 LR: 2.0527e-05 | Elapse: 13.46s\n",
                        "Epoch 5 [150/265] | Train Loss: 0.2290 Grad: 105814.0000 LR: 1.6284e-05 | Elapse: 20.12s\n",
                        "Epoch 5 [200/265] | Train Loss: 0.2267 Grad: 51874.1211 LR: 1.2448e-05 | Elapse: 26.83s\n",
                        "Epoch 5 [250/265] | Train Loss: 0.2237 Grad: 62446.5469 LR: 9.0631e-06 | Elapse: 33.49s\n",
                        "Epoch 5 [264/265] | Train Loss: 0.2232 Grad: 74800.5234 LR: 8.2021e-06 | Elapse: 35.36s\n"
                    ]
                },
                {
                    "data": {
                        "application/vnd.jupyter.widget-view+json": {
                            "model_id": "369894b9804348f1a52f9372566720af",
                            "version_major": 2,
                            "version_minor": 0
                        },
                        "text/plain": [
                            "Valid [4]:   0%|          | 0/415 [00:00<?, ?batch/s]"
                        ]
                    },
                    "metadata": {},
                    "output_type": "display_data"
                },
                {
                    "name": "stdout",
                    "output_type": "stream",
                    "text": [
                        "Epoch 5 [0/415] | Valid Loss: 0.5775 | Elapse: 0.08s\n",
                        "Epoch 5 [50/415] | Valid Loss: 0.7927 | Elapse: 4.11s\n",
                        "Epoch 5 [100/415] | Valid Loss: 0.7647 | Elapse: 8.16s\n",
                        "Epoch 5 [150/415] | Valid Loss: 0.7608 | Elapse: 12.21s\n",
                        "Epoch 5 [200/415] | Valid Loss: 0.7469 | Elapse: 16.26s\n",
                        "Epoch 5 [250/415] | Valid Loss: 0.7457 | Elapse: 20.32s\n",
                        "Epoch 5 [300/415] | Valid Loss: 0.7398 | Elapse: 24.38s\n",
                        "Epoch 5 [350/415] | Valid Loss: 0.6924 | Elapse: 28.42s\n",
                        "Epoch 5 [400/415] | Valid Loss: 0.6600 | Elapse: 32.47s\n"
                    ]
                },
                {
                    "name": "stderr",
                    "output_type": "stream",
                    "text": [
                        "----------------------------------------------------------------------------------------------------\n",
                        "Epoch 5 - Average Loss: (train) 0.2232; (valid) 0.6534 | Time: 69.00s\n"
                    ]
                },
                {
                    "name": "stdout",
                    "output_type": "stream",
                    "text": [
                        "Epoch 5 [414/415] | Valid Loss: 0.6534 | Elapse: 33.58s\n"
                    ]
                },
                {
                    "data": {
                        "application/vnd.jupyter.widget-view+json": {
                            "model_id": "2fe8563ec6794868968dd48f1f82e44a",
                            "version_major": 2,
                            "version_minor": 0
                        },
                        "text/plain": [
                            "Train [5]:   0%|          | 0/265 [00:00<?, ?batch/s]"
                        ]
                    },
                    "metadata": {},
                    "output_type": "display_data"
                },
                {
                    "name": "stdout",
                    "output_type": "stream",
                    "text": [
                        "Epoch 6 [0/265] | Train Loss: 0.1824 Grad: 124093.6172 LR: 8.1421e-06 | Elapse: 0.14s\n",
                        "Epoch 6 [50/265] | Train Loss: 0.2140 Grad: 46550.0234 LR: 5.4056e-06 | Elapse: 6.81s\n",
                        "Epoch 6 [100/265] | Train Loss: 0.2125 Grad: 68865.5078 LR: 3.2061e-06 | Elapse: 13.46s\n",
                        "Epoch 6 [150/265] | Train Loss: 0.2127 Grad: 110892.4062 LR: 1.5701e-06 | Elapse: 20.14s\n",
                        "Epoch 6 [200/265] | Train Loss: 0.2115 Grad: 56120.3242 LR: 5.1728e-07 | Elapse: 26.83s\n",
                        "Epoch 6 [250/265] | Train Loss: 0.2097 Grad: 57704.2812 LR: 6.0354e-08 | Elapse: 33.52s\n",
                        "Epoch 6 [264/265] | Train Loss: 0.2099 Grad: 71372.4141 LR: 4.0120e-08 | Elapse: 35.40s\n"
                    ]
                },
                {
                    "data": {
                        "application/vnd.jupyter.widget-view+json": {
                            "model_id": "e5041e01eff9470283edfb3421607882",
                            "version_major": 2,
                            "version_minor": 0
                        },
                        "text/plain": [
                            "Valid [5]:   0%|          | 0/415 [00:00<?, ?batch/s]"
                        ]
                    },
                    "metadata": {},
                    "output_type": "display_data"
                },
                {
                    "name": "stdout",
                    "output_type": "stream",
                    "text": [
                        "Epoch 6 [0/415] | Valid Loss: 0.5703 | Elapse: 0.08s\n",
                        "Epoch 6 [50/415] | Valid Loss: 0.7885 | Elapse: 4.11s\n",
                        "Epoch 6 [100/415] | Valid Loss: 0.7591 | Elapse: 8.15s\n",
                        "Epoch 6 [150/415] | Valid Loss: 0.7558 | Elapse: 12.19s\n",
                        "Epoch 6 [200/415] | Valid Loss: 0.7431 | Elapse: 16.24s\n",
                        "Epoch 6 [250/415] | Valid Loss: 0.7424 | Elapse: 20.31s\n",
                        "Epoch 6 [300/415] | Valid Loss: 0.7367 | Elapse: 24.37s\n",
                        "Epoch 6 [350/415] | Valid Loss: 0.6898 | Elapse: 28.40s\n",
                        "Epoch 6 [400/415] | Valid Loss: 0.6575 | Elapse: 32.45s\n"
                    ]
                },
                {
                    "name": "stderr",
                    "output_type": "stream",
                    "text": [
                        "----------------------------------------------------------------------------------------------------\n",
                        "Epoch 6 - Average Loss: (train) 0.2099; (valid) 0.6510 | Time: 69.01s\n",
                        "Best model found in epoch 6 | valid loss: 0.6510\n"
                    ]
                },
                {
                    "name": "stdout",
                    "output_type": "stream",
                    "text": [
                        "Epoch 6 [414/415] | Valid Loss: 0.6510 | Elapse: 33.56s\n"
                    ]
                },
                {
                    "name": "stderr",
                    "output_type": "stream",
                    "text": [
                        "====================================================================================================\n",
                        "Fold 0 Valid Loss: (Easy) 0.7392 | (Hard) 0.4267\n",
                        "Elapse: 7.08 min \n",
                        "====================================================================================================\n",
                        "====================================================================================================\n",
                        "Fold: 1 || Valid size 4047 \n",
                        "====================================================================================================\n",
                        "- First Stage \n"
                    ]
                },
                {
                    "data": {
                        "application/vnd.jupyter.widget-view+json": {
                            "model_id": "d59cabe2809345768dbb2cf1d2fd95da",
                            "version_major": 2,
                            "version_minor": 0
                        },
                        "text/plain": [
                            "Train [0]:   0%|          | 0/688 [00:00<?, ?batch/s]"
                        ]
                    },
                    "metadata": {},
                    "output_type": "display_data"
                },
                {
                    "name": "stdout",
                    "output_type": "stream",
                    "text": [
                        "Epoch 1 [0/688] | Train Loss: 1.6416 Grad: 239163.8750 LR: 4.0014e-06 | Elapse: 0.15s\n",
                        "Epoch 1 [50/688] | Train Loss: 1.6159 Grad: 259379.1562 LR: 7.5875e-06 | Elapse: 6.78s\n",
                        "Epoch 1 [100/688] | Train Loss: 1.5858 Grad: 202738.4062 LR: 1.7558e-05 | Elapse: 13.41s\n",
                        "Epoch 1 [150/688] | Train Loss: 1.5299 Grad: 259723.8281 LR: 3.2479e-05 | Elapse: 20.06s\n",
                        "Epoch 1 [200/688] | Train Loss: 1.4824 Grad: 65549.9453 LR: 5.0206e-05 | Elapse: 26.70s\n",
                        "Epoch 1 [250/688] | Train Loss: 1.4220 Grad: 53079.6602 LR: 6.8191e-05 | Elapse: 33.37s\n",
                        "Epoch 1 [300/688] | Train Loss: 1.3649 Grad: 35544.9180 LR: 8.3849e-05 | Elapse: 40.04s\n",
                        "Epoch 1 [350/688] | Train Loss: 1.3078 Grad: 40329.6172 LR: 9.4928e-05 | Elapse: 46.69s\n",
                        "Epoch 1 [400/688] | Train Loss: 1.2582 Grad: 37780.8281 LR: 9.9837e-05 | Elapse: 53.36s\n",
                        "Epoch 1 [450/688] | Train Loss: 1.2142 Grad: 28579.8203 LR: 9.9973e-05 | Elapse: 60.02s\n",
                        "Epoch 1 [500/688] | Train Loss: 1.1805 Grad: 35966.3633 LR: 9.9858e-05 | Elapse: 66.69s\n",
                        "Epoch 1 [550/688] | Train Loss: 1.1505 Grad: 62513.4844 LR: 9.9654e-05 | Elapse: 73.34s\n",
                        "Epoch 1 [600/688] | Train Loss: 1.1213 Grad: 24402.4160 LR: 9.9362e-05 | Elapse: 79.99s\n",
                        "Epoch 1 [650/688] | Train Loss: 1.0974 Grad: 17473.3398 LR: 9.8981e-05 | Elapse: 86.64s\n",
                        "Epoch 1 [687/688] | Train Loss: 1.0807 Grad: 32589.9629 LR: 9.8643e-05 | Elapse: 91.57s\n"
                    ]
                },
                {
                    "data": {
                        "application/vnd.jupyter.widget-view+json": {
                            "model_id": "74dd18c3c5394f84b41a2a1aa8c1fc48",
                            "version_major": 2,
                            "version_minor": 0
                        },
                        "text/plain": [
                            "Valid [0]:   0%|          | 0/253 [00:00<?, ?batch/s]"
                        ]
                    },
                    "metadata": {},
                    "output_type": "display_data"
                },
                {
                    "name": "stdout",
                    "output_type": "stream",
                    "text": [
                        "Epoch 1 [0/253] | Valid Loss: 0.8245 | Elapse: 0.09s\n",
                        "Epoch 1 [50/253] | Valid Loss: 0.7170 | Elapse: 4.10s\n",
                        "Epoch 1 [100/253] | Valid Loss: 0.7158 | Elapse: 8.11s\n",
                        "Epoch 1 [150/253] | Valid Loss: 0.6966 | Elapse: 12.14s\n",
                        "Epoch 1 [200/253] | Valid Loss: 0.6832 | Elapse: 16.17s\n"
                    ]
                },
                {
                    "name": "stderr",
                    "output_type": "stream",
                    "text": [
                        "----------------------------------------------------------------------------------------------------\n",
                        "Epoch 1 - Average Loss: (train) 1.0807; (valid) 0.6736 | Time: 111.97s\n",
                        "Best model found in epoch 1 | valid loss: 0.6736\n"
                    ]
                },
                {
                    "name": "stdout",
                    "output_type": "stream",
                    "text": [
                        "Epoch 1 [250/253] | Valid Loss: 0.6740 | Elapse: 20.21s\n",
                        "Epoch 1 [252/253] | Valid Loss: 0.6736 | Elapse: 20.39s\n"
                    ]
                },
                {
                    "data": {
                        "application/vnd.jupyter.widget-view+json": {
                            "model_id": "f8a507b127e74b8483d20c5d63b7b2ac",
                            "version_major": 2,
                            "version_minor": 0
                        },
                        "text/plain": [
                            "Train [1]:   0%|          | 0/688 [00:00<?, ?batch/s]"
                        ]
                    },
                    "metadata": {},
                    "output_type": "display_data"
                },
                {
                    "name": "stdout",
                    "output_type": "stream",
                    "text": [
                        "Epoch 2 [0/688] | Train Loss: 0.8280 Grad: inf LR: 9.8633e-05 | Elapse: 0.13s\n",
                        "Epoch 2 [50/688] | Train Loss: 0.7343 Grad: 66456.9844 LR: 9.8099e-05 | Elapse: 6.80s\n",
                        "Epoch 2 [100/688] | Train Loss: 0.7376 Grad: 64096.3750 LR: 9.7479e-05 | Elapse: 13.47s\n"
                    ]
                }
            ],
            "source": [
                "hms_predictor.train_model(train_easy, train_hard, all_specs, all_eegs)"
            ]
        },
        {
            "cell_type": "code",
            "execution_count": null,
            "metadata": {},
            "outputs": [],
            "source": [
                "# # Config EfficientNet \n",
                "# ModelConfig.EPOCHS = 6\n",
                "# ModelConfig.BATCH_SIZE = 16\n",
                "# ModelConfig.GRADIENT_ACCUMULATION_STEPS = 2\n",
                "# ModelConfig.MODEL_BACKBONE = 'tf_efficientnet_b2'\n",
                "# ModelConfig.MODEL_NAME = \"ENet_b2_xymask_rebalance\"\n",
                "# ModelConfig.USE_KAGGLE_SPECTROGRAMS = True\n",
                "# ModelConfig.USE_EEG_SPECTROGRAMS = True\n",
                "# ModelConfig.REGULARIZATION = None\n",
                "# ModelConfig.AUGMENT = True\n",
                "# ModelConfig.AUGMENTATIONS = ['xy_masking']\n",
                "\n",
                "# hms_predictor = HMSPredictor(paths.OUTPUT_DIR, ModelConfig, k_fold=5)"
            ]
        },
        {
            "cell_type": "code",
            "execution_count": null,
            "metadata": {},
            "outputs": [],
            "source": [
                "# # Config ViTMAE\n",
                "# ModelConfig.EPOCHS = 6\n",
                "# ModelConfig.MODEL_BACKBONE = 'vit_mae_base'\n",
                "# ModelConfig.MODEL_NAME = \"ViTMAE_base_mlp_dropout_020\"\n",
                "# ModelConfig.AUGMENT = True\n",
                "# ModelConfig.USE_KAGGLE_SPECTROGRAMS = True\n",
                "# ModelConfig.USE_EEG_SPECTROGRAMS = True\n",
                "# ModelConfig.REGULARIZATION = None\n",
                "# ModelConfig.AUGMENTATIONS = ['xy_masking']\n",
                "# ModelConfig.MAE_PRETRAINED_WEIGHTS = \"./outputs/vit_mae_pretraining/ViTMAE_PreTrained_Best.pth\"\n",
                "# ModelConfig.MAE_HIDDEN_DROPOUT_PROB = 0.1\n",
                "# ModelConfig.MAE_ATTENTION_DROPOUT_PROB = 0.1\n",
                "# ModelConfig.DROP_RATE = 0.2\n",
                "\n",
                "# hms_predictor = HMSPredictor(paths.OUTPUT_DIR, ModelConfig, k_fold=5)"
            ]
        },
        {
            "cell_type": "code",
            "execution_count": null,
            "metadata": {},
            "outputs": [],
            "source": [
                "oof_df = pd.read_csv(\"./outputs/DualEncoder_Default_debug_oof_2.csv\")\n",
                "\n",
                "oof_df[oof_df.isnull().any(axis=1)]"
            ]
        },
        {
            "cell_type": "code",
            "execution_count": null,
            "metadata": {},
            "outputs": [],
            "source": []
        },
        {
            "cell_type": "code",
            "execution_count": null,
            "metadata": {},
            "outputs": [],
            "source": [
                "pd.set_option('display.max_columns', None)\n",
                "KL_CRITERION = nn.KLDivLoss(reduction='batchmean')\n",
                "SOFTMAX = nn.Softmax(dim=1)\n",
                "\n",
                "TARGET2ID = {\n",
                "    'Seizure': 0,\n",
                "    'LPD': 1,\n",
                "    'GPD': 2,\n",
                "    'LRDA': 3,\n",
                "    'GRDA': 4,\n",
                "    'Other': 5\n",
                "}\n",
                "\n",
                "from kl_divergence import score as kaggle_score \n",
                "\n",
                "def calc_kaggle_score(oof_df):\n",
                "    submission_df = oof_df[['eeg_id']+TARGETS_PRED].copy()\n",
                "    submission_df.columns = ['eeg_id'] + TARGETS\n",
                "    solution_df = oof_df[['eeg_id']+TARGETS].copy()\n",
                "    return kaggle_score(solution_df, submission_df, 'eeg_id')\n",
                "\n",
                "def analyze_oof(oof_csv):\n",
                "\n",
                "    oof_df = pd.read_csv(oof_csv)\n",
                "    oof_df['target_pred'] = oof_df[TARGETS_PRED].apply(lambda x: np.argmax(x), axis=1)\n",
                "    oof_df['target_id'] = oof_df[TARGETS].apply(lambda x: np.argmax(x), axis=1)\n",
                "    \n",
                "    oof_df[\"kl_loss\"] = oof_df.apply(\n",
                "    lambda row: \n",
                "        KL_CRITERION(\n",
                "            F.log_softmax(\n",
                "                    torch.tensor(row[TARGETS_PRED].values.astype(np.float32)).unsqueeze(0)\n",
                "                , dim=1\n",
                "                ), \n",
                "            torch.tensor(row[TARGETS].values.astype(np.float32))\n",
                "            ).numpy(),\n",
                "    axis=1)\n",
                "\n",
                "    oof_df[\"kl_loss\"] = oof_df['kl_loss'].astype(np.float32)\n",
                "\n",
                "    oof_df[TARGETS_PRED] = SOFTMAX( torch.tensor(oof_df[TARGETS_PRED].values.astype(np.float32)))\n",
                "\n",
                "    oof_df.head()\n",
                "\n",
                "    return oof_df"
            ]
        },
        {
            "cell_type": "code",
            "execution_count": null,
            "metadata": {},
            "outputs": [],
            "source": [
                "csv_path = f'./outputs/{ModelConfig.MODEL_NAME}_oof_1.csv'\n",
                "print(\"CSV Path: \", csv_path)\n",
                "\n",
                "oof_df = analyze_oof(csv_path)\n",
                "\n",
                "print(\"Kaggle Score: \", calc_kaggle_score(oof_df))\n",
                "print(\"Average KL Loss: \", oof_df[\"kl_loss\"].mean())\n",
                "\n",
                "oof_df.head()"
            ]
        },
        {
            "cell_type": "code",
            "execution_count": null,
            "metadata": {},
            "outputs": [],
            "source": [
                "plot_oof = oof_df.copy()\n",
                "\n",
                "# plot confusion matrix\n",
                "from sklearn.metrics import confusion_matrix\n",
                "import seaborn as sns\n",
                "\n",
                "cm = confusion_matrix(plot_oof['target_id'], plot_oof['target_pred']) # (y_true, y_pred)\n",
                "cm = cm / cm.sum(axis=1)[:, np.newaxis]\n",
                "\n",
                "fig = plt.figure(figsize=(6, 6))\n",
                "sns.heatmap(cm, annot=True, cmap='Blues', xticklabels=TARGET2ID.keys(), yticklabels=TARGET2ID.keys())\n",
                "plt.xlabel('Predicted', fontsize=12)\n",
                "plt.ylabel('True', fontsize=12)\n",
                "plt.title(csv_path.split('/')[-1].split('.')[0], fontsize=12)\n",
                "fig.tight_layout()\n",
                "fig.savefig(f\"./outputs/{csv_path.split('/')[-1].split('.')[0]}_CM.png\")\n",
                "plt.show()"
            ]
        },
        {
            "cell_type": "code",
            "execution_count": null,
            "metadata": {},
            "outputs": [],
            "source": [
                "# new figure\n",
                "fig, axes = plt.subplots(6, 5, figsize=(18, 16), sharex=True, sharey=True)\n",
                "\n",
                "plot_oof = oof_df[oof_df['kl_loss'] > 0.2]\n",
                "\n",
                "for row in range(axes.shape[0]):\n",
                "    row_selects = plot_oof[plot_oof['target_id']==row]\n",
                "    target_label = BRAIN_ACTIVITY[row]\n",
                "    for col in range(axes.shape[1]):\n",
                "        ax = axes[row, col]\n",
                "        idx = np.random.choice(row_selects.index)\n",
                "        df_rows = plot_oof.loc[idx]\n",
                "        ax.plot(df_rows[TARGETS].values , label='True')\n",
                "        ax.plot(df_rows[TARGETS_PRED].values, label='Pred')\n",
                "        ax.set_title(f\"{idx} | KL: {df_rows['kl_loss']:.4f} \") #\n",
                "        ax.set_xticks(range(6))\n",
                "        ax.set_xticklabels(BRAIN_ACTIVITY)\n",
                "        ax.grid(True)\n",
                "        ax.legend()\n",
                "        if col == 0:\n",
                "            ax.set_ylabel(target_label, fontsize=12)\n",
                "       \n",
                "fig.tight_layout()\n",
                "plt.show()\n",
                "\n",
                "\n"
            ]
        },
        {
            "cell_type": "code",
            "execution_count": null,
            "metadata": {},
            "outputs": [],
            "source": []
        },
        {
            "cell_type": "code",
            "execution_count": null,
            "metadata": {},
            "outputs": [],
            "source": []
        }
    ],
    "metadata": {
        "kernelspec": {
            "display_name": "kaggle",
            "language": "python",
            "name": "python3"
        },
        "language_info": {
            "codemirror_mode": {
                "name": "ipython",
                "version": 3
            },
            "file_extension": ".py",
            "mimetype": "text/x-python",
            "name": "python",
            "nbconvert_exporter": "python",
            "pygments_lexer": "ipython3",
            "version": "3.11.6"
        }
    },
    "nbformat": 4,
    "nbformat_minor": 2
}
