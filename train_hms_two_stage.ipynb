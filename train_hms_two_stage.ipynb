{
    "cells": [
        {
            "cell_type": "code",
            "execution_count": 3,
            "metadata": {},
            "outputs": [
                {
                    "name": "stderr",
                    "output_type": "stream",
                    "text": [
                        "/home/shiyi/miniconda3/envs/kaggle/lib/python3.11/site-packages/transformers/utils/generic.py:441: UserWarning: torch.utils._pytree._register_pytree_node is deprecated. Please use torch.utils._pytree.register_pytree_node instead.\n",
                        "  _torch_pytree._register_pytree_node(\n",
                        "/home/shiyi/miniconda3/envs/kaggle/lib/python3.11/site-packages/transformers/utils/generic.py:309: UserWarning: torch.utils._pytree._register_pytree_node is deprecated. Please use torch.utils._pytree.register_pytree_node instead.\n",
                        "  _torch_pytree._register_pytree_node(\n"
                    ]
                }
            ],
            "source": [
                "import pandas as pd \n",
                "import numpy as np \n",
                "import matplotlib.pyplot as plt\n",
                "\n",
                "from engine_hms_trainer import *\n",
                "from engine_hms_model import KagglePaths, LocalPaths, ModelConfig\n",
                "\n",
                "import torch\n",
                "from torch import nn\n",
                "import torch.nn.functional as F\n",
                "\n",
                "import warnings\n",
                "# warnings.filterwarnings('ignore')"
            ]
        },
        {
            "cell_type": "code",
            "execution_count": 4,
            "metadata": {},
            "outputs": [
                {
                    "name": "stdout",
                    "output_type": "stream",
                    "text": [
                        "Output Dir:  ./outputs/\n"
                    ]
                }
            ],
            "source": [
                "paths = KagglePaths if os.path.exists(KagglePaths.OUTPUT_DIR) else LocalPaths\n",
                "print(\"Output Dir: \", paths.OUTPUT_DIR)"
            ]
        },
        {
            "cell_type": "code",
            "execution_count": 5,
            "metadata": {},
            "outputs": [
                {
                    "name": "stdout",
                    "output_type": "stream",
                    "text": [
                        "(13996, 12)\n",
                        "(6187, 12)\n",
                        "0\n",
                        "0\n"
                    ]
                },
                {
                    "data": {
                        "text/html": [
                            "<div>\n",
                            "<style scoped>\n",
                            "    .dataframe tbody tr th:only-of-type {\n",
                            "        vertical-align: middle;\n",
                            "    }\n",
                            "\n",
                            "    .dataframe tbody tr th {\n",
                            "        vertical-align: top;\n",
                            "    }\n",
                            "\n",
                            "    .dataframe thead th {\n",
                            "        text-align: right;\n",
                            "    }\n",
                            "</style>\n",
                            "<table border=\"1\" class=\"dataframe\">\n",
                            "  <thead>\n",
                            "    <tr style=\"text-align: right;\">\n",
                            "      <th></th>\n",
                            "      <th>eeg_id</th>\n",
                            "      <th>seizure_vote</th>\n",
                            "      <th>lpd_vote</th>\n",
                            "      <th>gpd_vote</th>\n",
                            "      <th>lrda_vote</th>\n",
                            "      <th>grda_vote</th>\n",
                            "      <th>other_vote</th>\n",
                            "      <th>spectrogram_id</th>\n",
                            "      <th>min</th>\n",
                            "      <th>max</th>\n",
                            "      <th>patient_id</th>\n",
                            "      <th>target</th>\n",
                            "    </tr>\n",
                            "  </thead>\n",
                            "  <tbody>\n",
                            "    <tr>\n",
                            "      <th>0</th>\n",
                            "      <td>642382</td>\n",
                            "      <td>0.0</td>\n",
                            "      <td>0.0</td>\n",
                            "      <td>0.0</td>\n",
                            "      <td>0.0</td>\n",
                            "      <td>0.0</td>\n",
                            "      <td>1.0</td>\n",
                            "      <td>14960202</td>\n",
                            "      <td>1008.0</td>\n",
                            "      <td>1032.0</td>\n",
                            "      <td>5955</td>\n",
                            "      <td>Other</td>\n",
                            "    </tr>\n",
                            "    <tr>\n",
                            "      <th>1</th>\n",
                            "      <td>751790</td>\n",
                            "      <td>0.0</td>\n",
                            "      <td>0.0</td>\n",
                            "      <td>1.0</td>\n",
                            "      <td>0.0</td>\n",
                            "      <td>0.0</td>\n",
                            "      <td>0.0</td>\n",
                            "      <td>618728447</td>\n",
                            "      <td>908.0</td>\n",
                            "      <td>908.0</td>\n",
                            "      <td>38549</td>\n",
                            "      <td>GPD</td>\n",
                            "    </tr>\n",
                            "    <tr>\n",
                            "      <th>2</th>\n",
                            "      <td>778705</td>\n",
                            "      <td>0.0</td>\n",
                            "      <td>0.0</td>\n",
                            "      <td>0.0</td>\n",
                            "      <td>0.0</td>\n",
                            "      <td>0.0</td>\n",
                            "      <td>1.0</td>\n",
                            "      <td>52296320</td>\n",
                            "      <td>0.0</td>\n",
                            "      <td>0.0</td>\n",
                            "      <td>40955</td>\n",
                            "      <td>Other</td>\n",
                            "    </tr>\n",
                            "    <tr>\n",
                            "      <th>3</th>\n",
                            "      <td>1629671</td>\n",
                            "      <td>1.0</td>\n",
                            "      <td>0.0</td>\n",
                            "      <td>0.0</td>\n",
                            "      <td>0.0</td>\n",
                            "      <td>0.0</td>\n",
                            "      <td>0.0</td>\n",
                            "      <td>2036345030</td>\n",
                            "      <td>0.0</td>\n",
                            "      <td>160.0</td>\n",
                            "      <td>37481</td>\n",
                            "      <td>Seizure</td>\n",
                            "    </tr>\n",
                            "    <tr>\n",
                            "      <th>4</th>\n",
                            "      <td>2061593</td>\n",
                            "      <td>0.0</td>\n",
                            "      <td>0.0</td>\n",
                            "      <td>0.0</td>\n",
                            "      <td>0.0</td>\n",
                            "      <td>0.0</td>\n",
                            "      <td>1.0</td>\n",
                            "      <td>320962633</td>\n",
                            "      <td>1450.0</td>\n",
                            "      <td>1450.0</td>\n",
                            "      <td>23828</td>\n",
                            "      <td>Other</td>\n",
                            "    </tr>\n",
                            "  </tbody>\n",
                            "</table>\n",
                            "</div>"
                        ],
                        "text/plain": [
                            "    eeg_id  seizure_vote  lpd_vote  gpd_vote  lrda_vote  grda_vote  \\\n",
                            "0   642382           0.0       0.0       0.0        0.0        0.0   \n",
                            "1   751790           0.0       0.0       1.0        0.0        0.0   \n",
                            "2   778705           0.0       0.0       0.0        0.0        0.0   \n",
                            "3  1629671           1.0       0.0       0.0        0.0        0.0   \n",
                            "4  2061593           0.0       0.0       0.0        0.0        0.0   \n",
                            "\n",
                            "   other_vote  spectrogram_id     min     max  patient_id   target  \n",
                            "0         1.0        14960202  1008.0  1032.0        5955    Other  \n",
                            "1         0.0       618728447   908.0   908.0       38549      GPD  \n",
                            "2         1.0        52296320     0.0     0.0       40955    Other  \n",
                            "3         0.0      2036345030     0.0   160.0       37481  Seizure  \n",
                            "4         1.0       320962633  1450.0  1450.0       23828    Other  "
                        ]
                    },
                    "metadata": {},
                    "output_type": "display_data"
                },
                {
                    "name": "stdout",
                    "output_type": "stream",
                    "text": [
                        " \n"
                    ]
                },
                {
                    "data": {
                        "text/html": [
                            "<div>\n",
                            "<style scoped>\n",
                            "    .dataframe tbody tr th:only-of-type {\n",
                            "        vertical-align: middle;\n",
                            "    }\n",
                            "\n",
                            "    .dataframe tbody tr th {\n",
                            "        vertical-align: top;\n",
                            "    }\n",
                            "\n",
                            "    .dataframe thead th {\n",
                            "        text-align: right;\n",
                            "    }\n",
                            "</style>\n",
                            "<table border=\"1\" class=\"dataframe\">\n",
                            "  <thead>\n",
                            "    <tr style=\"text-align: right;\">\n",
                            "      <th></th>\n",
                            "      <th>eeg_id</th>\n",
                            "      <th>seizure_vote</th>\n",
                            "      <th>lpd_vote</th>\n",
                            "      <th>gpd_vote</th>\n",
                            "      <th>lrda_vote</th>\n",
                            "      <th>grda_vote</th>\n",
                            "      <th>other_vote</th>\n",
                            "      <th>spectrogram_id</th>\n",
                            "      <th>min</th>\n",
                            "      <th>max</th>\n",
                            "      <th>patient_id</th>\n",
                            "      <th>target</th>\n",
                            "    </tr>\n",
                            "  </thead>\n",
                            "  <tbody>\n",
                            "    <tr>\n",
                            "      <th>0</th>\n",
                            "      <td>568657</td>\n",
                            "      <td>0.000000</td>\n",
                            "      <td>0.000000</td>\n",
                            "      <td>0.250000</td>\n",
                            "      <td>0.000000</td>\n",
                            "      <td>0.166667</td>\n",
                            "      <td>0.583333</td>\n",
                            "      <td>789577333</td>\n",
                            "      <td>0.0</td>\n",
                            "      <td>16.0</td>\n",
                            "      <td>20654</td>\n",
                            "      <td>Other</td>\n",
                            "    </tr>\n",
                            "    <tr>\n",
                            "      <th>1</th>\n",
                            "      <td>582999</td>\n",
                            "      <td>0.000000</td>\n",
                            "      <td>0.857143</td>\n",
                            "      <td>0.000000</td>\n",
                            "      <td>0.071429</td>\n",
                            "      <td>0.000000</td>\n",
                            "      <td>0.071429</td>\n",
                            "      <td>1552638400</td>\n",
                            "      <td>0.0</td>\n",
                            "      <td>38.0</td>\n",
                            "      <td>20230</td>\n",
                            "      <td>LPD</td>\n",
                            "    </tr>\n",
                            "    <tr>\n",
                            "      <th>2</th>\n",
                            "      <td>1895581</td>\n",
                            "      <td>0.076923</td>\n",
                            "      <td>0.000000</td>\n",
                            "      <td>0.000000</td>\n",
                            "      <td>0.000000</td>\n",
                            "      <td>0.076923</td>\n",
                            "      <td>0.846154</td>\n",
                            "      <td>128369999</td>\n",
                            "      <td>1138.0</td>\n",
                            "      <td>1138.0</td>\n",
                            "      <td>47999</td>\n",
                            "      <td>Other</td>\n",
                            "    </tr>\n",
                            "    <tr>\n",
                            "      <th>3</th>\n",
                            "      <td>2482631</td>\n",
                            "      <td>0.000000</td>\n",
                            "      <td>0.000000</td>\n",
                            "      <td>0.133333</td>\n",
                            "      <td>0.066667</td>\n",
                            "      <td>0.133333</td>\n",
                            "      <td>0.666667</td>\n",
                            "      <td>978166025</td>\n",
                            "      <td>1902.0</td>\n",
                            "      <td>1944.0</td>\n",
                            "      <td>20606</td>\n",
                            "      <td>Other</td>\n",
                            "    </tr>\n",
                            "    <tr>\n",
                            "      <th>4</th>\n",
                            "      <td>2521897</td>\n",
                            "      <td>0.000000</td>\n",
                            "      <td>0.000000</td>\n",
                            "      <td>0.083333</td>\n",
                            "      <td>0.083333</td>\n",
                            "      <td>0.333333</td>\n",
                            "      <td>0.500000</td>\n",
                            "      <td>673742515</td>\n",
                            "      <td>0.0</td>\n",
                            "      <td>4.0</td>\n",
                            "      <td>62117</td>\n",
                            "      <td>Other</td>\n",
                            "    </tr>\n",
                            "  </tbody>\n",
                            "</table>\n",
                            "</div>"
                        ],
                        "text/plain": [
                            "    eeg_id  seizure_vote  lpd_vote  gpd_vote  lrda_vote  grda_vote  \\\n",
                            "0   568657      0.000000  0.000000  0.250000   0.000000   0.166667   \n",
                            "1   582999      0.000000  0.857143  0.000000   0.071429   0.000000   \n",
                            "2  1895581      0.076923  0.000000  0.000000   0.000000   0.076923   \n",
                            "3  2482631      0.000000  0.000000  0.133333   0.066667   0.133333   \n",
                            "4  2521897      0.000000  0.000000  0.083333   0.083333   0.333333   \n",
                            "\n",
                            "   other_vote  spectrogram_id     min     max  patient_id target  \n",
                            "0    0.583333       789577333     0.0    16.0       20654  Other  \n",
                            "1    0.071429      1552638400     0.0    38.0       20230    LPD  \n",
                            "2    0.846154       128369999  1138.0  1138.0       47999  Other  \n",
                            "3    0.666667       978166025  1902.0  1944.0       20606  Other  \n",
                            "4    0.500000       673742515     0.0     4.0       62117  Other  "
                        ]
                    },
                    "metadata": {},
                    "output_type": "display_data"
                }
            ],
            "source": [
                "train_easy, train_hard, all_specs, all_eegs = load_kaggle_data(\n",
                "    paths.TRAIN_CSV, paths.PRE_LOADED_SPECTOGRAMS, paths.PRE_LOADED_EEGS, split_entropy=ModelConfig.SPLIT_ENTROPY)\n",
                "\n",
                "print(train_easy.shape)\n",
                "print(train_hard.shape)\n",
                "\n",
                "# check if contain NaN\n",
                "print(train_easy.isnull().sum().sum())\n",
                "print(train_hard.isnull().sum().sum())\n",
                "\n",
                "display(train_easy.head())\n",
                "print(\" \")\n",
                "display(train_hard.head())"
            ]
        },
        {
            "cell_type": "code",
            "execution_count": null,
            "metadata": {},
            "outputs": [],
            "source": [
                "# check distribution of targets\n",
                "fig, axes = plt.subplots(1, 2, figsize=(10, 5))\n",
                "train_easy[\"target\"].value_counts().plot(kind=\"bar\", ax=axes[0])\n",
                "train_hard[\"target\"].value_counts().plot(kind=\"bar\", ax=axes[1])\n",
                "axes[0].set_title(\"Easy\")\n",
                "axes[1].set_title(\"Hard\")\n",
                "fig.tight_layout()\n",
                "plt.show()"
            ]
        },
        {
            "cell_type": "code",
            "execution_count": null,
            "metadata": {},
            "outputs": [],
            "source": [
                "# # calculate class weights for loss function\n",
                "# class_weights = train_easy[\"target\"].value_counts(normalize=True).sort_index()\n",
                "# class_weights"
            ]
        },
        {
            "cell_type": "code",
            "execution_count": null,
            "metadata": {},
            "outputs": [],
            "source": [
                "# Rebalance hard samples by Randomly sample from easy and add to hard.\n",
                "# tgt_to_sample = ['Seizure', 'LRDA', 'GRDA']\n",
                "# sample_ratio = 0.5 # 50% of easy to add to hard for each target label\n",
                "\n",
                "# for tgt in tgt_to_sample:\n",
                "#     easy_sample = train_easy[train_easy[\"target\"] == tgt].sample(frac=sample_ratio)\n",
                "#     train_hard = pd.concat([train_hard, easy_sample], axis=0)\n",
                "\n",
                "# print(\"Hard after adding easy: \", train_hard.shape)\n",
                "\n",
                "# # check distribution of targets\n",
                "# fig, axes = plt.subplots(1, 2, figsize=(10, 5))\n",
                "# train_easy[\"target\"].value_counts().plot(kind=\"bar\", ax=axes[0])\n",
                "# train_hard[\"target\"].value_counts().plot(kind=\"bar\", ax=axes[1])\n",
                "# axes[0].set_title(\"Easy\")\n",
                "# axes[1].set_title(\"Hard\")\n",
                "# fig.tight_layout()\n",
                "# plt.show()"
            ]
        },
        {
            "cell_type": "code",
            "execution_count": 4,
            "metadata": {},
            "outputs": [
                {
                    "name": "stderr",
                    "output_type": "stream",
                    "text": [
                        "****************************************************************************************************\n",
                        "Script Start: Sun Mar 17 21:08:01 2024\n",
                        "Model Configurations:\n",
                        "SEED: 20\n",
                        "SPLIT_ENTROPY: 5.5\n",
                        "MODEL_NAME: DualEncoder_B0\n",
                        "MODEL_BACKBONE: dual_encoder\n",
                        "BATCH_SIZE: 16\n",
                        "EPOCHS: 6\n",
                        "GRADIENT_ACCUMULATION_STEPS: 1\n",
                        "DROP_RATE: 0.15\n",
                        "DROP_PATH_RATE: 0.25\n",
                        "WEIGHT_DECAY: 0.01\n",
                        "REGULARIZATION: None\n",
                        "USE_KAGGLE_SPECTROGRAMS: True\n",
                        "USE_EEG_SPECTROGRAMS: True\n",
                        "AMP: True\n",
                        "AUGMENT: False\n",
                        "AUGMENTATIONS: []\n",
                        "PRINT_FREQ: 50\n",
                        "FREEZE: False\n",
                        "NUM_FROZEN_LAYERS: 0\n",
                        "NUM_WORKERS: 0\n",
                        "MAX_GRAD_NORM: 10000000.0\n",
                        "MAE_PRETRAINED_WEIGHTS: facebook/vit-mae-base\n",
                        "MAE_HIDDEN_DROPOUT_PROB: 0.05\n",
                        "MAE_ATTENTION_DROPOUT_PROB: 0.05\n",
                        "****************************************************************************************************\n"
                    ]
                }
            ],
            "source": [
                "# config DualEncoder\n",
                "ModelConfig.EPOCHS = 6\n",
                "ModelConfig.BATCH_SIZE = 16\n",
                "ModelConfig.GRADIENT_ACCUMULATION_STEPS = 1\n",
                "ModelConfig.MODEL_BACKBONE = 'dual_encoder'\n",
                "ModelConfig.MODEL_NAME = \"DualEncoder_B0\"\n",
                "ModelConfig.USE_KAGGLE_SPECTROGRAMS = True\n",
                "ModelConfig.USE_EEG_SPECTROGRAMS = True\n",
                "ModelConfig.REGULARIZATION = None\n",
                "ModelConfig.AUGMENT = False\n",
                "ModelConfig.AUGMENTATIONS = []\n",
                "\n",
                "hms_predictor = HMSPredictor(paths.OUTPUT_DIR, ModelConfig, k_fold=5)"
            ]
        },
        {
            "cell_type": "code",
            "execution_count": 5,
            "metadata": {},
            "outputs": [
                {
                    "name": "stderr",
                    "output_type": "stream",
                    "text": [
                        "Train Easy: (13996, 12) | Train Hard: (6187, 12)\n",
                        "====================================================================================================\n",
                        "Fold: 0 || Valid size 6635 \n",
                        "====================================================================================================\n",
                        "- First Stage \n"
                    ]
                },
                {
                    "data": {
                        "application/vnd.jupyter.widget-view+json": {
                            "model_id": "11436aea3d644c96b4c0d530f5af467e",
                            "version_major": 2,
                            "version_minor": 0
                        },
                        "text/plain": [
                            "Train [0]:   0%|          | 0/566 [00:00<?, ?batch/s]"
                        ]
                    },
                    "metadata": {},
                    "output_type": "display_data"
                },
                {
                    "name": "stdout",
                    "output_type": "stream",
                    "text": [
                        "Epoch 1 [0/566] | Train Loss: 1.7040 Grad: 198356.0625 LR: 4.0021e-06 | Elapse: 1.12s\n",
                        "Epoch 1 [50/566] | Train Loss: 1.6533 Grad: 202353.1875 LR: 9.2742e-06 | Elapse: 7.66s\n",
                        "Epoch 1 [100/566] | Train Loss: 1.6162 Grad: 118213.4141 LR: 2.3578e-05 | Elapse: 14.16s\n",
                        "Epoch 1 [150/566] | Train Loss: 1.5550 Grad: 99771.3984 LR: 4.3889e-05 | Elapse: 20.68s\n",
                        "Epoch 1 [200/566] | Train Loss: 1.4777 Grad: 102882.6328 LR: 6.5915e-05 | Elapse: 27.20s\n",
                        "Epoch 1 [250/566] | Train Loss: 1.4017 Grad: 65253.7656 LR: 8.5000e-05 | Elapse: 33.73s\n",
                        "Epoch 1 [300/566] | Train Loss: 1.3293 Grad: 61983.3750 LR: 9.7109e-05 | Elapse: 40.27s\n",
                        "Epoch 1 [350/566] | Train Loss: 1.2702 Grad: 71990.5703 LR: 9.9996e-05 | Elapse: 46.81s\n",
                        "Epoch 1 [400/566] | Train Loss: 1.2186 Grad: 58628.9297 LR: 9.9897e-05 | Elapse: 53.36s\n",
                        "Epoch 1 [450/566] | Train Loss: 1.1796 Grad: 85737.8594 LR: 9.9667e-05 | Elapse: 59.92s\n",
                        "Epoch 1 [500/566] | Train Loss: 1.1468 Grad: 64395.0391 LR: 9.9305e-05 | Elapse: 66.50s\n",
                        "Epoch 1 [550/566] | Train Loss: 1.1155 Grad: 75908.5781 LR: 9.8814e-05 | Elapse: 73.07s\n",
                        "Epoch 1 [565/566] | Train Loss: 1.1100 Grad: 61755.0117 LR: 9.8641e-05 | Elapse: 75.05s\n"
                    ]
                },
                {
                    "data": {
                        "application/vnd.jupyter.widget-view+json": {
                            "model_id": "71473932aca146b9845fc2bc3ed6b9af",
                            "version_major": 2,
                            "version_minor": 0
                        },
                        "text/plain": [
                            "Valid [0]:   0%|          | 0/415 [00:00<?, ?batch/s]"
                        ]
                    },
                    "metadata": {},
                    "output_type": "display_data"
                },
                {
                    "name": "stdout",
                    "output_type": "stream",
                    "text": [
                        "Epoch 1 [0/415] | Valid Loss: 0.8057 | Elapse: 0.11s\n",
                        "Epoch 1 [50/415] | Valid Loss: 0.7220 | Elapse: 4.11s\n",
                        "Epoch 1 [100/415] | Valid Loss: 0.7073 | Elapse: 8.11s\n",
                        "Epoch 1 [150/415] | Valid Loss: 0.7199 | Elapse: 12.12s\n",
                        "Epoch 1 [200/415] | Valid Loss: 0.7374 | Elapse: 16.14s\n",
                        "Epoch 1 [250/415] | Valid Loss: 0.7490 | Elapse: 20.16s\n",
                        "Epoch 1 [300/415] | Valid Loss: 0.7468 | Elapse: 24.18s\n",
                        "Epoch 1 [350/415] | Valid Loss: 0.7297 | Elapse: 28.19s\n",
                        "Epoch 1 [400/415] | Valid Loss: 0.7128 | Elapse: 32.21s\n"
                    ]
                },
                {
                    "name": "stderr",
                    "output_type": "stream",
                    "text": [
                        "----------------------------------------------------------------------------------------------------\n",
                        "Epoch 1 - Average Loss: (train) 1.1100; (valid) 0.7112 | Time: 108.40s\n",
                        "Best model found in epoch 1 | valid loss: 0.7112\n"
                    ]
                },
                {
                    "name": "stdout",
                    "output_type": "stream",
                    "text": [
                        "Epoch 1 [414/415] | Valid Loss: 0.7112 | Elapse: 33.34s\n"
                    ]
                },
                {
                    "data": {
                        "application/vnd.jupyter.widget-view+json": {
                            "model_id": "26179806fc094b0a834a08c2a6663fb5",
                            "version_major": 2,
                            "version_minor": 0
                        },
                        "text/plain": [
                            "Train [1]:   0%|          | 0/566 [00:00<?, ?batch/s]"
                        ]
                    },
                    "metadata": {},
                    "output_type": "display_data"
                },
                {
                    "name": "stdout",
                    "output_type": "stream",
                    "text": [
                        "Epoch 2 [0/566] | Train Loss: 0.7840 Grad: inf LR: 9.8629e-05 | Elapse: 0.13s\n",
                        "Epoch 2 [50/566] | Train Loss: 0.7768 Grad: 197379.2344 LR: 9.7968e-05 | Elapse: 6.72s\n",
                        "Epoch 2 [100/566] | Train Loss: 0.7692 Grad: 160138.8906 LR: 9.7180e-05 | Elapse: 13.36s\n",
                        "Epoch 2 [150/566] | Train Loss: 0.7653 Grad: 125127.6406 LR: 9.6267e-05 | Elapse: 19.95s\n",
                        "Epoch 2 [200/566] | Train Loss: 0.7492 Grad: 96544.8906 LR: 9.5232e-05 | Elapse: 26.54s\n",
                        "Epoch 2 [250/566] | Train Loss: 0.7359 Grad: 54459.8672 LR: 9.4078e-05 | Elapse: 33.13s\n",
                        "Epoch 2 [300/566] | Train Loss: 0.7140 Grad: 42150.5938 LR: 9.2808e-05 | Elapse: 39.72s\n",
                        "Epoch 2 [350/566] | Train Loss: 0.7006 Grad: 34292.5078 LR: 9.1424e-05 | Elapse: 46.35s\n",
                        "Epoch 2 [400/566] | Train Loss: 0.6838 Grad: 37676.6602 LR: 8.9931e-05 | Elapse: 52.96s\n",
                        "Epoch 2 [450/566] | Train Loss: 0.6762 Grad: 43811.1133 LR: 8.8333e-05 | Elapse: 59.57s\n",
                        "Epoch 2 [500/566] | Train Loss: 0.6668 Grad: 32913.5977 LR: 8.6634e-05 | Elapse: 66.19s\n",
                        "Epoch 2 [550/566] | Train Loss: 0.6565 Grad: 29041.5371 LR: 8.4838e-05 | Elapse: 72.80s\n",
                        "Epoch 2 [565/566] | Train Loss: 0.6562 Grad: 27662.4121 LR: 8.4281e-05 | Elapse: 74.79s\n"
                    ]
                },
                {
                    "data": {
                        "application/vnd.jupyter.widget-view+json": {
                            "model_id": "29567b7288fd438689c2bd0d05eba10b",
                            "version_major": 2,
                            "version_minor": 0
                        },
                        "text/plain": [
                            "Valid [1]:   0%|          | 0/415 [00:00<?, ?batch/s]"
                        ]
                    },
                    "metadata": {},
                    "output_type": "display_data"
                },
                {
                    "name": "stdout",
                    "output_type": "stream",
                    "text": [
                        "Epoch 2 [0/415] | Valid Loss: 0.6711 | Elapse: 0.08s\n",
                        "Epoch 2 [50/415] | Valid Loss: 0.6810 | Elapse: 4.09s\n",
                        "Epoch 2 [100/415] | Valid Loss: 0.6429 | Elapse: 8.08s\n",
                        "Epoch 2 [150/415] | Valid Loss: 0.6580 | Elapse: 12.09s\n",
                        "Epoch 2 [200/415] | Valid Loss: 0.6731 | Elapse: 16.13s\n",
                        "Epoch 2 [250/415] | Valid Loss: 0.6789 | Elapse: 20.17s\n",
                        "Epoch 2 [300/415] | Valid Loss: 0.6825 | Elapse: 24.21s\n",
                        "Epoch 2 [350/415] | Valid Loss: 0.6890 | Elapse: 28.25s\n",
                        "Epoch 2 [400/415] | Valid Loss: 0.6858 | Elapse: 32.29s\n"
                    ]
                },
                {
                    "name": "stderr",
                    "output_type": "stream",
                    "text": [
                        "----------------------------------------------------------------------------------------------------\n",
                        "Epoch 2 - Average Loss: (train) 0.6562; (valid) 0.6895 | Time: 108.19s\n",
                        "Best model found in epoch 2 | valid loss: 0.6895\n"
                    ]
                },
                {
                    "name": "stdout",
                    "output_type": "stream",
                    "text": [
                        "Epoch 2 [414/415] | Valid Loss: 0.6895 | Elapse: 33.40s\n"
                    ]
                },
                {
                    "data": {
                        "application/vnd.jupyter.widget-view+json": {
                            "model_id": "da80d601e5324ddebb02c3717e4e654f",
                            "version_major": 2,
                            "version_minor": 0
                        },
                        "text/plain": [
                            "Train [2]:   0%|          | 0/566 [00:00<?, ?batch/s]"
                        ]
                    },
                    "metadata": {},
                    "output_type": "display_data"
                },
                {
                    "name": "stdout",
                    "output_type": "stream",
                    "text": [
                        "Epoch 3 [0/566] | Train Loss: 0.5719 Grad: nan LR: 8.4244e-05 | Elapse: 0.13s\n",
                        "Epoch 3 [50/566] | Train Loss: 0.5638 Grad: 98038.8281 LR: 8.2327e-05 | Elapse: 6.77s\n",
                        "Epoch 3 [100/566] | Train Loss: 0.5568 Grad: 38297.2852 LR: 8.0326e-05 | Elapse: 13.40s\n",
                        "Epoch 3 [150/566] | Train Loss: 0.5545 Grad: 33033.0586 LR: 7.8244e-05 | Elapse: 20.03s\n",
                        "Epoch 3 [200/566] | Train Loss: 0.5425 Grad: 23664.9961 LR: 7.6088e-05 | Elapse: 26.74s\n",
                        "Epoch 3 [250/566] | Train Loss: 0.5341 Grad: 31247.3125 LR: 7.3863e-05 | Elapse: 33.44s\n",
                        "Epoch 3 [300/566] | Train Loss: 0.5198 Grad: 25174.2266 LR: 7.1574e-05 | Elapse: 40.11s\n",
                        "Epoch 3 [350/566] | Train Loss: 0.5088 Grad: 48084.7930 LR: 6.9230e-05 | Elapse: 46.79s\n",
                        "Epoch 3 [400/566] | Train Loss: 0.4959 Grad: 36415.3164 LR: 6.6834e-05 | Elapse: 53.44s\n",
                        "Epoch 3 [450/566] | Train Loss: 0.4898 Grad: 30432.2129 LR: 6.4394e-05 | Elapse: 60.09s\n",
                        "Epoch 3 [500/566] | Train Loss: 0.4812 Grad: 31170.8945 LR: 6.1916e-05 | Elapse: 66.74s\n",
                        "Epoch 3 [550/566] | Train Loss: 0.4739 Grad: 34573.2734 LR: 5.9406e-05 | Elapse: 73.39s\n",
                        "Epoch 3 [565/566] | Train Loss: 0.4720 Grad: 22575.9434 LR: 5.8648e-05 | Elapse: 75.39s\n"
                    ]
                },
                {
                    "data": {
                        "application/vnd.jupyter.widget-view+json": {
                            "model_id": "7c9c414bb22c43ef9294ecce708d5fb2",
                            "version_major": 2,
                            "version_minor": 0
                        },
                        "text/plain": [
                            "Valid [2]:   0%|          | 0/415 [00:00<?, ?batch/s]"
                        ]
                    },
                    "metadata": {},
                    "output_type": "display_data"
                },
                {
                    "name": "stdout",
                    "output_type": "stream",
                    "text": [
                        "Epoch 3 [0/415] | Valid Loss: 0.6294 | Elapse: 0.08s\n",
                        "Epoch 3 [50/415] | Valid Loss: 0.6485 | Elapse: 4.11s\n",
                        "Epoch 3 [100/415] | Valid Loss: 0.6128 | Elapse: 8.12s\n",
                        "Epoch 3 [150/415] | Valid Loss: 0.6313 | Elapse: 12.15s\n",
                        "Epoch 3 [200/415] | Valid Loss: 0.6449 | Elapse: 16.20s\n",
                        "Epoch 3 [250/415] | Valid Loss: 0.6473 | Elapse: 20.26s\n",
                        "Epoch 3 [300/415] | Valid Loss: 0.6511 | Elapse: 24.32s\n",
                        "Epoch 3 [350/415] | Valid Loss: 0.6677 | Elapse: 28.36s\n",
                        "Epoch 3 [400/415] | Valid Loss: 0.6792 | Elapse: 32.40s\n"
                    ]
                },
                {
                    "name": "stderr",
                    "output_type": "stream",
                    "text": [
                        "----------------------------------------------------------------------------------------------------\n",
                        "Epoch 3 - Average Loss: (train) 0.4720; (valid) 0.6863 | Time: 108.91s\n",
                        "Best model found in epoch 3 | valid loss: 0.6863\n"
                    ]
                },
                {
                    "name": "stdout",
                    "output_type": "stream",
                    "text": [
                        "Epoch 3 [414/415] | Valid Loss: 0.6863 | Elapse: 33.51s\n"
                    ]
                },
                {
                    "data": {
                        "application/vnd.jupyter.widget-view+json": {
                            "model_id": "7621acf1b0cc41ff9de4a5593fa0c61a",
                            "version_major": 2,
                            "version_minor": 0
                        },
                        "text/plain": [
                            "Train [3]:   0%|          | 0/566 [00:00<?, ?batch/s]"
                        ]
                    },
                    "metadata": {},
                    "output_type": "display_data"
                },
                {
                    "name": "stdout",
                    "output_type": "stream",
                    "text": [
                        "Epoch 4 [0/566] | Train Loss: 0.3612 Grad: 287767.1875 LR: 5.8598e-05 | Elapse: 0.15s\n",
                        "Epoch 4 [50/566] | Train Loss: 0.3959 Grad: 111751.4531 LR: 5.6057e-05 | Elapse: 6.83s\n",
                        "Epoch 4 [100/566] | Train Loss: 0.3882 Grad: 125692.8750 LR: 5.3500e-05 | Elapse: 13.47s\n",
                        "Epoch 4 [150/566] | Train Loss: 0.3903 Grad: 54413.5195 LR: 5.0934e-05 | Elapse: 20.14s\n",
                        "Epoch 4 [200/566] | Train Loss: 0.3757 Grad: 32462.0957 LR: 4.8366e-05 | Elapse: 26.80s\n",
                        "Epoch 4 [250/566] | Train Loss: 0.3665 Grad: 64869.4141 LR: 4.5802e-05 | Elapse: 33.46s\n",
                        "Epoch 4 [300/566] | Train Loss: 0.3570 Grad: 24532.0527 LR: 4.3249e-05 | Elapse: 40.13s\n",
                        "Epoch 4 [350/566] | Train Loss: 0.3489 Grad: 74633.9766 LR: 4.0714e-05 | Elapse: 46.81s\n",
                        "Epoch 4 [400/566] | Train Loss: 0.3405 Grad: 37273.6445 LR: 3.8204e-05 | Elapse: 53.47s\n",
                        "Epoch 4 [450/566] | Train Loss: 0.3363 Grad: 31066.4766 LR: 3.5725e-05 | Elapse: 60.14s\n",
                        "Epoch 4 [500/566] | Train Loss: 0.3314 Grad: 41457.7031 LR: 3.3284e-05 | Elapse: 66.83s\n",
                        "Epoch 4 [550/566] | Train Loss: 0.3264 Grad: 27712.0977 LR: 3.0886e-05 | Elapse: 73.56s\n",
                        "Epoch 4 [565/566] | Train Loss: 0.3257 Grad: 25257.6582 LR: 3.0177e-05 | Elapse: 75.57s\n"
                    ]
                },
                {
                    "data": {
                        "application/vnd.jupyter.widget-view+json": {
                            "model_id": "e350ddb1a2e44102837fdcacf6b27854",
                            "version_major": 2,
                            "version_minor": 0
                        },
                        "text/plain": [
                            "Valid [3]:   0%|          | 0/415 [00:00<?, ?batch/s]"
                        ]
                    },
                    "metadata": {},
                    "output_type": "display_data"
                },
                {
                    "name": "stdout",
                    "output_type": "stream",
                    "text": [
                        "Epoch 4 [0/415] | Valid Loss: 0.5618 | Elapse: 0.08s\n",
                        "Epoch 4 [50/415] | Valid Loss: 0.6715 | Elapse: 4.12s\n",
                        "Epoch 4 [100/415] | Valid Loss: 0.6197 | Elapse: 8.14s\n",
                        "Epoch 4 [150/415] | Valid Loss: 0.6387 | Elapse: 12.17s\n",
                        "Epoch 4 [200/415] | Valid Loss: 0.6510 | Elapse: 16.22s\n",
                        "Epoch 4 [250/415] | Valid Loss: 0.6507 | Elapse: 20.26s\n",
                        "Epoch 4 [300/415] | Valid Loss: 0.6535 | Elapse: 24.31s\n",
                        "Epoch 4 [350/415] | Valid Loss: 0.6819 | Elapse: 28.34s\n",
                        "Epoch 4 [400/415] | Valid Loss: 0.7077 | Elapse: 32.38s\n"
                    ]
                },
                {
                    "name": "stderr",
                    "output_type": "stream",
                    "text": [
                        "----------------------------------------------------------------------------------------------------\n",
                        "Epoch 4 - Average Loss: (train) 0.3257; (valid) 0.7181 | Time: 109.07s\n"
                    ]
                },
                {
                    "name": "stdout",
                    "output_type": "stream",
                    "text": [
                        "Epoch 4 [414/415] | Valid Loss: 0.7181 | Elapse: 33.49s\n"
                    ]
                },
                {
                    "data": {
                        "application/vnd.jupyter.widget-view+json": {
                            "model_id": "4f36596e390d4d7a978509ef98ab6435",
                            "version_major": 2,
                            "version_minor": 0
                        },
                        "text/plain": [
                            "Train [4]:   0%|          | 0/566 [00:00<?, ?batch/s]"
                        ]
                    },
                    "metadata": {},
                    "output_type": "display_data"
                },
                {
                    "name": "stdout",
                    "output_type": "stream",
                    "text": [
                        "Epoch 5 [0/566] | Train Loss: 0.2813 Grad: nan LR: 3.0130e-05 | Elapse: 0.14s\n",
                        "Epoch 5 [50/566] | Train Loss: 0.2907 Grad: 59760.8789 LR: 2.7800e-05 | Elapse: 6.80s\n",
                        "Epoch 5 [100/566] | Train Loss: 0.2834 Grad: 76358.6016 LR: 2.5530e-05 | Elapse: 13.44s\n",
                        "Epoch 5 [150/566] | Train Loss: 0.2756 Grad: 69263.1406 LR: 2.3324e-05 | Elapse: 20.11s\n",
                        "Epoch 5 [200/566] | Train Loss: 0.2653 Grad: 29934.1562 LR: 2.1189e-05 | Elapse: 26.74s\n",
                        "Epoch 5 [250/566] | Train Loss: 0.2606 Grad: 62914.6875 LR: 1.9130e-05 | Elapse: 33.38s\n",
                        "Epoch 5 [300/566] | Train Loss: 0.2573 Grad: 35901.3945 LR: 1.7152e-05 | Elapse: 40.02s\n",
                        "Epoch 5 [350/566] | Train Loss: 0.2538 Grad: 110305.5938 LR: 1.5261e-05 | Elapse: 46.68s\n",
                        "Epoch 5 [400/566] | Train Loss: 0.2501 Grad: 74607.5859 LR: 1.3462e-05 | Elapse: 53.32s\n",
                        "Epoch 5 [450/566] | Train Loss: 0.2493 Grad: 102015.1797 LR: 1.1760e-05 | Elapse: 59.99s\n",
                        "Epoch 5 [500/566] | Train Loss: 0.2467 Grad: 70750.3047 LR: 1.0158e-05 | Elapse: 66.68s\n",
                        "Epoch 5 [550/566] | Train Loss: 0.2450 Grad: 80782.7812 LR: 8.6618e-06 | Elapse: 73.33s\n",
                        "Epoch 5 [565/566] | Train Loss: 0.2449 Grad: 57842.9414 LR: 8.2341e-06 | Elapse: 75.33s\n"
                    ]
                },
                {
                    "data": {
                        "application/vnd.jupyter.widget-view+json": {
                            "model_id": "359f0c71a411476b87f3ac5812b93055",
                            "version_major": 2,
                            "version_minor": 0
                        },
                        "text/plain": [
                            "Valid [4]:   0%|          | 0/415 [00:00<?, ?batch/s]"
                        ]
                    },
                    "metadata": {},
                    "output_type": "display_data"
                },
                {
                    "name": "stdout",
                    "output_type": "stream",
                    "text": [
                        "Epoch 5 [0/415] | Valid Loss: 0.5178 | Elapse: 0.08s\n",
                        "Epoch 5 [50/415] | Valid Loss: 0.6896 | Elapse: 4.10s\n",
                        "Epoch 5 [100/415] | Valid Loss: 0.6375 | Elapse: 8.13s\n",
                        "Epoch 5 [150/415] | Valid Loss: 0.6551 | Elapse: 12.18s\n",
                        "Epoch 5 [200/415] | Valid Loss: 0.6704 | Elapse: 16.25s\n",
                        "Epoch 5 [250/415] | Valid Loss: 0.6691 | Elapse: 20.30s\n",
                        "Epoch 5 [300/415] | Valid Loss: 0.6740 | Elapse: 24.36s\n",
                        "Epoch 5 [350/415] | Valid Loss: 0.7067 | Elapse: 28.40s\n",
                        "Epoch 5 [400/415] | Valid Loss: 0.7382 | Elapse: 32.43s\n"
                    ]
                },
                {
                    "name": "stderr",
                    "output_type": "stream",
                    "text": [
                        "----------------------------------------------------------------------------------------------------\n",
                        "Epoch 5 - Average Loss: (train) 0.2449; (valid) 0.7495 | Time: 108.88s\n"
                    ]
                },
                {
                    "name": "stdout",
                    "output_type": "stream",
                    "text": [
                        "Epoch 5 [414/415] | Valid Loss: 0.7495 | Elapse: 33.55s\n"
                    ]
                },
                {
                    "data": {
                        "application/vnd.jupyter.widget-view+json": {
                            "model_id": "52c7b05f09b64176b96cc8dc384c0c60",
                            "version_major": 2,
                            "version_minor": 0
                        },
                        "text/plain": [
                            "Train [5]:   0%|          | 0/566 [00:00<?, ?batch/s]"
                        ]
                    },
                    "metadata": {},
                    "output_type": "display_data"
                },
                {
                    "name": "stdout",
                    "output_type": "stream",
                    "text": [
                        "Epoch 6 [0/566] | Train Loss: 0.4407 Grad: nan LR: 8.2059e-06 | Elapse: 0.13s\n",
                        "Epoch 6 [50/566] | Train Loss: 0.2379 Grad: 175547.2969 LR: 6.8547e-06 | Elapse: 6.79s\n",
                        "Epoch 6 [100/566] | Train Loss: 0.2265 Grad: 70965.4453 LR: 5.6174e-06 | Elapse: 13.43s\n",
                        "Epoch 6 [150/566] | Train Loss: 0.2318 Grad: 53433.3633 LR: 4.4974e-06 | Elapse: 20.07s\n",
                        "Epoch 6 [200/566] | Train Loss: 0.2246 Grad: 33107.1758 LR: 3.4976e-06 | Elapse: 26.77s\n",
                        "Epoch 6 [250/566] | Train Loss: 0.2231 Grad: 48620.1602 LR: 2.6207e-06 | Elapse: 33.41s\n",
                        "Epoch 6 [300/566] | Train Loss: 0.2203 Grad: 30359.5117 LR: 1.8689e-06 | Elapse: 40.15s\n",
                        "Epoch 6 [350/566] | Train Loss: 0.2167 Grad: 40062.2383 LR: 1.2443e-06 | Elapse: 46.83s\n",
                        "Epoch 6 [400/566] | Train Loss: 0.2141 Grad: 49784.0703 LR: 7.4844e-07 | Elapse: 53.49s\n",
                        "Epoch 6 [450/566] | Train Loss: 0.2143 Grad: 89540.1172 LR: 3.8273e-07 | Elapse: 60.15s\n",
                        "Epoch 6 [500/566] | Train Loss: 0.2128 Grad: 62136.8672 LR: 1.4811e-07 | Elapse: 66.83s\n",
                        "Epoch 6 [550/566] | Train Loss: 0.2122 Grad: 35362.0742 LR: 4.5175e-08 | Elapse: 73.52s\n",
                        "Epoch 6 [565/566] | Train Loss: 0.2119 Grad: 61053.1523 LR: 4.0026e-08 | Elapse: 75.52s\n"
                    ]
                },
                {
                    "data": {
                        "application/vnd.jupyter.widget-view+json": {
                            "model_id": "b094512b74514d1faa9989ad55ec114b",
                            "version_major": 2,
                            "version_minor": 0
                        },
                        "text/plain": [
                            "Valid [5]:   0%|          | 0/415 [00:00<?, ?batch/s]"
                        ]
                    },
                    "metadata": {},
                    "output_type": "display_data"
                },
                {
                    "name": "stdout",
                    "output_type": "stream",
                    "text": [
                        "Epoch 6 [0/415] | Valid Loss: 0.5386 | Elapse: 0.09s\n",
                        "Epoch 6 [50/415] | Valid Loss: 0.6848 | Elapse: 4.11s\n",
                        "Epoch 6 [100/415] | Valid Loss: 0.6342 | Elapse: 8.13s\n",
                        "Epoch 6 [150/415] | Valid Loss: 0.6538 | Elapse: 12.16s\n",
                        "Epoch 6 [200/415] | Valid Loss: 0.6692 | Elapse: 16.20s\n",
                        "Epoch 6 [250/415] | Valid Loss: 0.6694 | Elapse: 20.25s\n",
                        "Epoch 6 [300/415] | Valid Loss: 0.6760 | Elapse: 24.31s\n",
                        "Epoch 6 [350/415] | Valid Loss: 0.7100 | Elapse: 28.34s\n",
                        "Epoch 6 [400/415] | Valid Loss: 0.7428 | Elapse: 32.40s\n"
                    ]
                },
                {
                    "name": "stderr",
                    "output_type": "stream",
                    "text": [
                        "----------------------------------------------------------------------------------------------------\n",
                        "Epoch 6 - Average Loss: (train) 0.2119; (valid) 0.7544 | Time: 109.03s\n"
                    ]
                },
                {
                    "name": "stdout",
                    "output_type": "stream",
                    "text": [
                        "Epoch 6 [414/415] | Valid Loss: 0.7544 | Elapse: 33.51s\n"
                    ]
                },
                {
                    "name": "stderr",
                    "output_type": "stream",
                    "text": [
                        "====================================================================================================\n",
                        "Fold 0 Valid Loss: (Easy) 0.6495 | (Hard) 0.7800\n",
                        "Elapse: 10.90 min \n",
                        "====================================================================================================\n",
                        "- Second Stage \n",
                        "Use Checkpoint: DualEncoder_B0_fold_0_stage_1.pth\n"
                    ]
                },
                {
                    "data": {
                        "application/vnd.jupyter.widget-view+json": {
                            "model_id": "332fbfe09730411087e0badcfa03fb3a",
                            "version_major": 2,
                            "version_minor": 0
                        },
                        "text/plain": [
                            "Train [0]:   0%|          | 0/265 [00:00<?, ?batch/s]"
                        ]
                    },
                    "metadata": {},
                    "output_type": "display_data"
                },
                {
                    "name": "stderr",
                    "output_type": "stream",
                    "text": [
                        "/home/shiyi/miniconda3/envs/kaggle/lib/python3.11/site-packages/torch/optim/lr_scheduler.py:143: UserWarning: Detected call of `lr_scheduler.step()` before `optimizer.step()`. In PyTorch 1.1.0 and later, you should call them in the opposite order: `optimizer.step()` before `lr_scheduler.step()`.  Failure to do this will result in PyTorch skipping the first value of the learning rate schedule. See more details at https://pytorch.org/docs/stable/optim.html#how-to-adjust-learning-rate\n",
                        "  warnings.warn(\"Detected call of `lr_scheduler.step()` before `optimizer.step()`. \"\n"
                    ]
                },
                {
                    "name": "stdout",
                    "output_type": "stream",
                    "text": [
                        "Epoch 1 [0/265] | Train Loss: 0.7928 Grad: nan LR: 4.0095e-06 | Elapse: 0.15s\n",
                        "Epoch 1 [50/265] | Train Loss: 0.9726 Grad: 53655.3984 LR: 2.6636e-05 | Elapse: 6.77s\n",
                        "Epoch 1 [100/265] | Train Loss: 0.8521 Grad: 47526.2852 LR: 7.2334e-05 | Elapse: 13.40s\n",
                        "Epoch 1 [150/265] | Train Loss: 0.7585 Grad: 46260.3164 LR: 9.9536e-05 | Elapse: 20.03s\n",
                        "Epoch 1 [200/265] | Train Loss: 0.6908 Grad: 35897.0039 LR: 9.9777e-05 | Elapse: 26.68s\n",
                        "Epoch 1 [250/265] | Train Loss: 0.6430 Grad: 38206.0742 LR: 9.8962e-05 | Elapse: 33.32s\n",
                        "Epoch 1 [264/265] | Train Loss: 0.6291 Grad: 28776.9160 LR: 9.8627e-05 | Elapse: 35.19s\n"
                    ]
                },
                {
                    "data": {
                        "application/vnd.jupyter.widget-view+json": {
                            "model_id": "5d0ec9bda11549ff83544a800e802460",
                            "version_major": 2,
                            "version_minor": 0
                        },
                        "text/plain": [
                            "Valid [0]:   0%|          | 0/415 [00:00<?, ?batch/s]"
                        ]
                    },
                    "metadata": {},
                    "output_type": "display_data"
                },
                {
                    "name": "stdout",
                    "output_type": "stream",
                    "text": [
                        "Epoch 1 [0/415] | Valid Loss: 0.5801 | Elapse: 0.08s\n",
                        "Epoch 1 [50/415] | Valid Loss: 0.7892 | Elapse: 4.12s\n",
                        "Epoch 1 [100/415] | Valid Loss: 0.7670 | Elapse: 8.16s\n",
                        "Epoch 1 [150/415] | Valid Loss: 0.7751 | Elapse: 12.21s\n",
                        "Epoch 1 [200/415] | Valid Loss: 0.7700 | Elapse: 16.25s\n",
                        "Epoch 1 [250/415] | Valid Loss: 0.7688 | Elapse: 20.31s\n",
                        "Epoch 1 [300/415] | Valid Loss: 0.7610 | Elapse: 24.35s\n",
                        "Epoch 1 [350/415] | Valid Loss: 0.7148 | Elapse: 28.39s\n",
                        "Epoch 1 [400/415] | Valid Loss: 0.6824 | Elapse: 32.43s\n"
                    ]
                },
                {
                    "name": "stderr",
                    "output_type": "stream",
                    "text": [
                        "----------------------------------------------------------------------------------------------------\n",
                        "Epoch 1 - Average Loss: (train) 0.6291; (valid) 0.6753 | Time: 68.74s\n",
                        "Best model found in epoch 1 | valid loss: 0.6753\n"
                    ]
                },
                {
                    "name": "stdout",
                    "output_type": "stream",
                    "text": [
                        "Epoch 1 [414/415] | Valid Loss: 0.6753 | Elapse: 33.54s\n"
                    ]
                },
                {
                    "data": {
                        "application/vnd.jupyter.widget-view+json": {
                            "model_id": "f075677f516c41b4899c71fde3f86e30",
                            "version_major": 2,
                            "version_minor": 0
                        },
                        "text/plain": [
                            "Train [1]:   0%|          | 0/265 [00:00<?, ?batch/s]"
                        ]
                    },
                    "metadata": {},
                    "output_type": "display_data"
                },
                {
                    "name": "stdout",
                    "output_type": "stream",
                    "text": [
                        "Epoch 2 [0/265] | Train Loss: 0.3415 Grad: 179975.6719 LR: 9.8602e-05 | Elapse: 0.18s\n",
                        "Epoch 2 [50/265] | Train Loss: 0.4183 Grad: 78814.2031 LR: 9.7023e-05 | Elapse: 6.82s\n",
                        "Epoch 2 [100/265] | Train Loss: 0.4063 Grad: 102524.0859 LR: 9.4879e-05 | Elapse: 13.48s\n",
                        "Epoch 2 [150/265] | Train Loss: 0.3924 Grad: 111777.4453 LR: 9.2195e-05 | Elapse: 20.14s\n",
                        "Epoch 2 [200/265] | Train Loss: 0.3825 Grad: 71709.3750 LR: 8.9003e-05 | Elapse: 26.81s\n",
                        "Epoch 2 [250/265] | Train Loss: 0.3743 Grad: 106113.0234 LR: 8.5342e-05 | Elapse: 33.49s\n",
                        "Epoch 2 [264/265] | Train Loss: 0.3710 Grad: 88564.9297 LR: 8.4238e-05 | Elapse: 35.36s\n"
                    ]
                },
                {
                    "data": {
                        "application/vnd.jupyter.widget-view+json": {
                            "model_id": "db19fce994fe48b2853e2f5837767220",
                            "version_major": 2,
                            "version_minor": 0
                        },
                        "text/plain": [
                            "Valid [1]:   0%|          | 0/415 [00:00<?, ?batch/s]"
                        ]
                    },
                    "metadata": {},
                    "output_type": "display_data"
                },
                {
                    "name": "stdout",
                    "output_type": "stream",
                    "text": [
                        "Epoch 2 [0/415] | Valid Loss: 0.5908 | Elapse: 0.09s\n",
                        "Epoch 2 [50/415] | Valid Loss: 0.7817 | Elapse: 4.12s\n",
                        "Epoch 2 [100/415] | Valid Loss: 0.7584 | Elapse: 8.19s\n",
                        "Epoch 2 [150/415] | Valid Loss: 0.7612 | Elapse: 12.24s\n",
                        "Epoch 2 [200/415] | Valid Loss: 0.7516 | Elapse: 16.30s\n",
                        "Epoch 2 [250/415] | Valid Loss: 0.7502 | Elapse: 20.36s\n",
                        "Epoch 2 [300/415] | Valid Loss: 0.7430 | Elapse: 24.42s\n",
                        "Epoch 2 [350/415] | Valid Loss: 0.6950 | Elapse: 28.48s\n",
                        "Epoch 2 [400/415] | Valid Loss: 0.6605 | Elapse: 32.53s\n"
                    ]
                },
                {
                    "name": "stderr",
                    "output_type": "stream",
                    "text": [
                        "----------------------------------------------------------------------------------------------------\n",
                        "Epoch 2 - Average Loss: (train) 0.3710; (valid) 0.6533 | Time: 69.01s\n",
                        "Best model found in epoch 2 | valid loss: 0.6533\n"
                    ]
                },
                {
                    "name": "stdout",
                    "output_type": "stream",
                    "text": [
                        "Epoch 2 [414/415] | Valid Loss: 0.6533 | Elapse: 33.64s\n"
                    ]
                },
                {
                    "data": {
                        "application/vnd.jupyter.widget-view+json": {
                            "model_id": "9920bc9cba5a4edca0b4c94f7394e88f",
                            "version_major": 2,
                            "version_minor": 0
                        },
                        "text/plain": [
                            "Train [2]:   0%|          | 0/265 [00:00<?, ?batch/s]"
                        ]
                    },
                    "metadata": {},
                    "output_type": "display_data"
                },
                {
                    "name": "stdout",
                    "output_type": "stream",
                    "text": [
                        "Epoch 3 [0/265] | Train Loss: 0.2806 Grad: 158030.1250 LR: 8.4158e-05 | Elapse: 0.14s\n",
                        "Epoch 3 [50/265] | Train Loss: 0.3291 Grad: 74344.2422 LR: 7.9954e-05 | Elapse: 6.84s\n",
                        "Epoch 3 [100/265] | Train Loss: 0.3205 Grad: 73406.3828 LR: 7.5389e-05 | Elapse: 13.51s\n",
                        "Epoch 3 [150/265] | Train Loss: 0.3135 Grad: 103211.6953 LR: 7.0519e-05 | Elapse: 20.17s\n",
                        "Epoch 3 [200/265] | Train Loss: 0.3077 Grad: 60085.7383 LR: 6.5402e-05 | Elapse: 26.88s\n",
                        "Epoch 3 [250/265] | Train Loss: 0.3015 Grad: 103994.3750 LR: 6.0100e-05 | Elapse: 33.54s\n",
                        "Epoch 3 [264/265] | Train Loss: 0.2994 Grad: nan LR: 5.8591e-05 | Elapse: 35.41s\n"
                    ]
                },
                {
                    "data": {
                        "application/vnd.jupyter.widget-view+json": {
                            "model_id": "59640f92eaac4eb0bb66b9f601095388",
                            "version_major": 2,
                            "version_minor": 0
                        },
                        "text/plain": [
                            "Valid [2]:   0%|          | 0/415 [00:00<?, ?batch/s]"
                        ]
                    },
                    "metadata": {},
                    "output_type": "display_data"
                },
                {
                    "name": "stdout",
                    "output_type": "stream",
                    "text": [
                        "Epoch 3 [0/415] | Valid Loss: 0.5694 | Elapse: 0.08s\n",
                        "Epoch 3 [50/415] | Valid Loss: 0.8051 | Elapse: 4.11s\n",
                        "Epoch 3 [100/415] | Valid Loss: 0.7776 | Elapse: 8.15s\n",
                        "Epoch 3 [150/415] | Valid Loss: 0.7774 | Elapse: 12.21s\n",
                        "Epoch 3 [200/415] | Valid Loss: 0.7676 | Elapse: 16.28s\n",
                        "Epoch 3 [250/415] | Valid Loss: 0.7674 | Elapse: 20.33s\n",
                        "Epoch 3 [300/415] | Valid Loss: 0.7618 | Elapse: 24.39s\n",
                        "Epoch 3 [350/415] | Valid Loss: 0.7118 | Elapse: 28.43s\n",
                        "Epoch 3 [400/415] | Valid Loss: 0.6772 | Elapse: 32.48s\n"
                    ]
                },
                {
                    "name": "stderr",
                    "output_type": "stream",
                    "text": [
                        "----------------------------------------------------------------------------------------------------\n",
                        "Epoch 3 - Average Loss: (train) 0.2994; (valid) 0.6700 | Time: 69.01s\n"
                    ]
                },
                {
                    "name": "stdout",
                    "output_type": "stream",
                    "text": [
                        "Epoch 3 [414/415] | Valid Loss: 0.6700 | Elapse: 33.59s\n"
                    ]
                },
                {
                    "data": {
                        "application/vnd.jupyter.widget-view+json": {
                            "model_id": "fdb8e0081d514441ad29ba8d46bc4464",
                            "version_major": 2,
                            "version_minor": 0
                        },
                        "text/plain": [
                            "Train [3]:   0%|          | 0/265 [00:00<?, ?batch/s]"
                        ]
                    },
                    "metadata": {},
                    "output_type": "display_data"
                },
                {
                    "name": "stdout",
                    "output_type": "stream",
                    "text": [
                        "Epoch 4 [0/265] | Train Loss: 0.2198 Grad: 123352.5000 LR: 5.8483e-05 | Elapse: 0.16s\n",
                        "Epoch 4 [50/265] | Train Loss: 0.2683 Grad: 69926.7656 LR: 5.3036e-05 | Elapse: 6.85s\n",
                        "Epoch 4 [100/265] | Train Loss: 0.2655 Grad: 91972.2734 LR: 4.7552e-05 | Elapse: 13.55s\n",
                        "Epoch 4 [150/265] | Train Loss: 0.2631 Grad: 89042.3203 LR: 4.2098e-05 | Elapse: 20.27s\n",
                        "Epoch 4 [200/265] | Train Loss: 0.2588 Grad: 81436.6875 LR: 3.6740e-05 | Elapse: 26.95s\n",
                        "Epoch 4 [250/265] | Train Loss: 0.2542 Grad: 85041.1094 LR: 3.1542e-05 | Elapse: 33.61s\n",
                        "Epoch 4 [264/265] | Train Loss: 0.2530 Grad: 84547.5234 LR: 3.0123e-05 | Elapse: 35.48s\n"
                    ]
                },
                {
                    "data": {
                        "application/vnd.jupyter.widget-view+json": {
                            "model_id": "9f04932a722b4db0bcdcc6c9ad34bc33",
                            "version_major": 2,
                            "version_minor": 0
                        },
                        "text/plain": [
                            "Valid [3]:   0%|          | 0/415 [00:00<?, ?batch/s]"
                        ]
                    },
                    "metadata": {},
                    "output_type": "display_data"
                },
                {
                    "name": "stdout",
                    "output_type": "stream",
                    "text": [
                        "Epoch 4 [0/415] | Valid Loss: 0.5576 | Elapse: 0.08s\n",
                        "Epoch 4 [50/415] | Valid Loss: 0.8000 | Elapse: 4.11s\n",
                        "Epoch 4 [100/415] | Valid Loss: 0.7719 | Elapse: 8.15s\n",
                        "Epoch 4 [150/415] | Valid Loss: 0.7705 | Elapse: 12.19s\n",
                        "Epoch 4 [200/415] | Valid Loss: 0.7590 | Elapse: 16.25s\n",
                        "Epoch 4 [250/415] | Valid Loss: 0.7577 | Elapse: 20.30s\n",
                        "Epoch 4 [300/415] | Valid Loss: 0.7518 | Elapse: 24.35s\n",
                        "Epoch 4 [350/415] | Valid Loss: 0.7028 | Elapse: 28.38s\n",
                        "Epoch 4 [400/415] | Valid Loss: 0.6695 | Elapse: 32.42s\n"
                    ]
                },
                {
                    "name": "stderr",
                    "output_type": "stream",
                    "text": [
                        "----------------------------------------------------------------------------------------------------\n",
                        "Epoch 4 - Average Loss: (train) 0.2530; (valid) 0.6625 | Time: 69.06s\n"
                    ]
                },
                {
                    "name": "stdout",
                    "output_type": "stream",
                    "text": [
                        "Epoch 4 [414/415] | Valid Loss: 0.6625 | Elapse: 33.53s\n"
                    ]
                },
                {
                    "data": {
                        "application/vnd.jupyter.widget-view+json": {
                            "model_id": "dbc6a864428b4f1d93eddbe7deb3a2f2",
                            "version_major": 2,
                            "version_minor": 0
                        },
                        "text/plain": [
                            "Train [4]:   0%|          | 0/265 [00:00<?, ?batch/s]"
                        ]
                    },
                    "metadata": {},
                    "output_type": "display_data"
                },
                {
                    "name": "stdout",
                    "output_type": "stream",
                    "text": [
                        "Epoch 5 [0/265] | Train Loss: 0.2250 Grad: 145177.5938 LR: 3.0023e-05 | Elapse: 0.14s\n",
                        "Epoch 5 [50/265] | Train Loss: 0.2362 Grad: 74171.5703 LR: 2.5125e-05 | Elapse: 6.78s\n",
                        "Epoch 5 [100/265] | Train Loss: 0.2304 Grad: 68326.0078 LR: 2.0527e-05 | Elapse: 13.46s\n",
                        "Epoch 5 [150/265] | Train Loss: 0.2290 Grad: 105814.0000 LR: 1.6284e-05 | Elapse: 20.12s\n",
                        "Epoch 5 [200/265] | Train Loss: 0.2267 Grad: 51874.1211 LR: 1.2448e-05 | Elapse: 26.83s\n",
                        "Epoch 5 [250/265] | Train Loss: 0.2237 Grad: 62446.5469 LR: 9.0631e-06 | Elapse: 33.49s\n",
                        "Epoch 5 [264/265] | Train Loss: 0.2232 Grad: 74800.5234 LR: 8.2021e-06 | Elapse: 35.36s\n"
                    ]
                },
                {
                    "data": {
                        "application/vnd.jupyter.widget-view+json": {
                            "model_id": "369894b9804348f1a52f9372566720af",
                            "version_major": 2,
                            "version_minor": 0
                        },
                        "text/plain": [
                            "Valid [4]:   0%|          | 0/415 [00:00<?, ?batch/s]"
                        ]
                    },
                    "metadata": {},
                    "output_type": "display_data"
                },
                {
                    "name": "stdout",
                    "output_type": "stream",
                    "text": [
                        "Epoch 5 [0/415] | Valid Loss: 0.5775 | Elapse: 0.08s\n",
                        "Epoch 5 [50/415] | Valid Loss: 0.7927 | Elapse: 4.11s\n",
                        "Epoch 5 [100/415] | Valid Loss: 0.7647 | Elapse: 8.16s\n",
                        "Epoch 5 [150/415] | Valid Loss: 0.7608 | Elapse: 12.21s\n",
                        "Epoch 5 [200/415] | Valid Loss: 0.7469 | Elapse: 16.26s\n",
                        "Epoch 5 [250/415] | Valid Loss: 0.7457 | Elapse: 20.32s\n",
                        "Epoch 5 [300/415] | Valid Loss: 0.7398 | Elapse: 24.38s\n",
                        "Epoch 5 [350/415] | Valid Loss: 0.6924 | Elapse: 28.42s\n",
                        "Epoch 5 [400/415] | Valid Loss: 0.6600 | Elapse: 32.47s\n"
                    ]
                },
                {
                    "name": "stderr",
                    "output_type": "stream",
                    "text": [
                        "----------------------------------------------------------------------------------------------------\n",
                        "Epoch 5 - Average Loss: (train) 0.2232; (valid) 0.6534 | Time: 69.00s\n"
                    ]
                },
                {
                    "name": "stdout",
                    "output_type": "stream",
                    "text": [
                        "Epoch 5 [414/415] | Valid Loss: 0.6534 | Elapse: 33.58s\n"
                    ]
                },
                {
                    "data": {
                        "application/vnd.jupyter.widget-view+json": {
                            "model_id": "2fe8563ec6794868968dd48f1f82e44a",
                            "version_major": 2,
                            "version_minor": 0
                        },
                        "text/plain": [
                            "Train [5]:   0%|          | 0/265 [00:00<?, ?batch/s]"
                        ]
                    },
                    "metadata": {},
                    "output_type": "display_data"
                },
                {
                    "name": "stdout",
                    "output_type": "stream",
                    "text": [
                        "Epoch 6 [0/265] | Train Loss: 0.1824 Grad: 124093.6172 LR: 8.1421e-06 | Elapse: 0.14s\n",
                        "Epoch 6 [50/265] | Train Loss: 0.2140 Grad: 46550.0234 LR: 5.4056e-06 | Elapse: 6.81s\n",
                        "Epoch 6 [100/265] | Train Loss: 0.2125 Grad: 68865.5078 LR: 3.2061e-06 | Elapse: 13.46s\n",
                        "Epoch 6 [150/265] | Train Loss: 0.2127 Grad: 110892.4062 LR: 1.5701e-06 | Elapse: 20.14s\n",
                        "Epoch 6 [200/265] | Train Loss: 0.2115 Grad: 56120.3242 LR: 5.1728e-07 | Elapse: 26.83s\n",
                        "Epoch 6 [250/265] | Train Loss: 0.2097 Grad: 57704.2812 LR: 6.0354e-08 | Elapse: 33.52s\n",
                        "Epoch 6 [264/265] | Train Loss: 0.2099 Grad: 71372.4141 LR: 4.0120e-08 | Elapse: 35.40s\n"
                    ]
                },
                {
                    "data": {
                        "application/vnd.jupyter.widget-view+json": {
                            "model_id": "e5041e01eff9470283edfb3421607882",
                            "version_major": 2,
                            "version_minor": 0
                        },
                        "text/plain": [
                            "Valid [5]:   0%|          | 0/415 [00:00<?, ?batch/s]"
                        ]
                    },
                    "metadata": {},
                    "output_type": "display_data"
                },
                {
                    "name": "stdout",
                    "output_type": "stream",
                    "text": [
                        "Epoch 6 [0/415] | Valid Loss: 0.5703 | Elapse: 0.08s\n",
                        "Epoch 6 [50/415] | Valid Loss: 0.7885 | Elapse: 4.11s\n",
                        "Epoch 6 [100/415] | Valid Loss: 0.7591 | Elapse: 8.15s\n",
                        "Epoch 6 [150/415] | Valid Loss: 0.7558 | Elapse: 12.19s\n",
                        "Epoch 6 [200/415] | Valid Loss: 0.7431 | Elapse: 16.24s\n",
                        "Epoch 6 [250/415] | Valid Loss: 0.7424 | Elapse: 20.31s\n",
                        "Epoch 6 [300/415] | Valid Loss: 0.7367 | Elapse: 24.37s\n",
                        "Epoch 6 [350/415] | Valid Loss: 0.6898 | Elapse: 28.40s\n",
                        "Epoch 6 [400/415] | Valid Loss: 0.6575 | Elapse: 32.45s\n"
                    ]
                },
                {
                    "name": "stderr",
                    "output_type": "stream",
                    "text": [
                        "----------------------------------------------------------------------------------------------------\n",
                        "Epoch 6 - Average Loss: (train) 0.2099; (valid) 0.6510 | Time: 69.01s\n",
                        "Best model found in epoch 6 | valid loss: 0.6510\n"
                    ]
                },
                {
                    "name": "stdout",
                    "output_type": "stream",
                    "text": [
                        "Epoch 6 [414/415] | Valid Loss: 0.6510 | Elapse: 33.56s\n"
                    ]
                },
                {
                    "name": "stderr",
                    "output_type": "stream",
                    "text": [
                        "====================================================================================================\n",
                        "Fold 0 Valid Loss: (Easy) 0.7392 | (Hard) 0.4267\n",
                        "Elapse: 7.08 min \n",
                        "====================================================================================================\n",
                        "====================================================================================================\n",
                        "Fold: 1 || Valid size 4047 \n",
                        "====================================================================================================\n",
                        "- First Stage \n"
                    ]
                },
                {
                    "data": {
                        "application/vnd.jupyter.widget-view+json": {
                            "model_id": "d59cabe2809345768dbb2cf1d2fd95da",
                            "version_major": 2,
                            "version_minor": 0
                        },
                        "text/plain": [
                            "Train [0]:   0%|          | 0/688 [00:00<?, ?batch/s]"
                        ]
                    },
                    "metadata": {},
                    "output_type": "display_data"
                },
                {
                    "name": "stdout",
                    "output_type": "stream",
                    "text": [
                        "Epoch 1 [0/688] | Train Loss: 1.6416 Grad: 239163.8750 LR: 4.0014e-06 | Elapse: 0.15s\n",
                        "Epoch 1 [50/688] | Train Loss: 1.6159 Grad: 259379.1562 LR: 7.5875e-06 | Elapse: 6.78s\n",
                        "Epoch 1 [100/688] | Train Loss: 1.5858 Grad: 202738.4062 LR: 1.7558e-05 | Elapse: 13.41s\n",
                        "Epoch 1 [150/688] | Train Loss: 1.5299 Grad: 259723.8281 LR: 3.2479e-05 | Elapse: 20.06s\n",
                        "Epoch 1 [200/688] | Train Loss: 1.4824 Grad: 65549.9453 LR: 5.0206e-05 | Elapse: 26.70s\n",
                        "Epoch 1 [250/688] | Train Loss: 1.4220 Grad: 53079.6602 LR: 6.8191e-05 | Elapse: 33.37s\n",
                        "Epoch 1 [300/688] | Train Loss: 1.3649 Grad: 35544.9180 LR: 8.3849e-05 | Elapse: 40.04s\n",
                        "Epoch 1 [350/688] | Train Loss: 1.3078 Grad: 40329.6172 LR: 9.4928e-05 | Elapse: 46.69s\n",
                        "Epoch 1 [400/688] | Train Loss: 1.2582 Grad: 37780.8281 LR: 9.9837e-05 | Elapse: 53.36s\n",
                        "Epoch 1 [450/688] | Train Loss: 1.2142 Grad: 28579.8203 LR: 9.9973e-05 | Elapse: 60.02s\n",
                        "Epoch 1 [500/688] | Train Loss: 1.1805 Grad: 35966.3633 LR: 9.9858e-05 | Elapse: 66.69s\n",
                        "Epoch 1 [550/688] | Train Loss: 1.1505 Grad: 62513.4844 LR: 9.9654e-05 | Elapse: 73.34s\n",
                        "Epoch 1 [600/688] | Train Loss: 1.1213 Grad: 24402.4160 LR: 9.9362e-05 | Elapse: 79.99s\n",
                        "Epoch 1 [650/688] | Train Loss: 1.0974 Grad: 17473.3398 LR: 9.8981e-05 | Elapse: 86.64s\n",
                        "Epoch 1 [687/688] | Train Loss: 1.0807 Grad: 32589.9629 LR: 9.8643e-05 | Elapse: 91.57s\n"
                    ]
                },
                {
                    "data": {
                        "application/vnd.jupyter.widget-view+json": {
                            "model_id": "74dd18c3c5394f84b41a2a1aa8c1fc48",
                            "version_major": 2,
                            "version_minor": 0
                        },
                        "text/plain": [
                            "Valid [0]:   0%|          | 0/253 [00:00<?, ?batch/s]"
                        ]
                    },
                    "metadata": {},
                    "output_type": "display_data"
                },
                {
                    "name": "stdout",
                    "output_type": "stream",
                    "text": [
                        "Epoch 1 [0/253] | Valid Loss: 0.8245 | Elapse: 0.09s\n",
                        "Epoch 1 [50/253] | Valid Loss: 0.7170 | Elapse: 4.10s\n",
                        "Epoch 1 [100/253] | Valid Loss: 0.7158 | Elapse: 8.11s\n",
                        "Epoch 1 [150/253] | Valid Loss: 0.6966 | Elapse: 12.14s\n",
                        "Epoch 1 [200/253] | Valid Loss: 0.6832 | Elapse: 16.17s\n"
                    ]
                },
                {
                    "name": "stderr",
                    "output_type": "stream",
                    "text": [
                        "----------------------------------------------------------------------------------------------------\n",
                        "Epoch 1 - Average Loss: (train) 1.0807; (valid) 0.6736 | Time: 111.97s\n",
                        "Best model found in epoch 1 | valid loss: 0.6736\n"
                    ]
                },
                {
                    "name": "stdout",
                    "output_type": "stream",
                    "text": [
                        "Epoch 1 [250/253] | Valid Loss: 0.6740 | Elapse: 20.21s\n",
                        "Epoch 1 [252/253] | Valid Loss: 0.6736 | Elapse: 20.39s\n"
                    ]
                },
                {
                    "data": {
                        "application/vnd.jupyter.widget-view+json": {
                            "model_id": "f8a507b127e74b8483d20c5d63b7b2ac",
                            "version_major": 2,
                            "version_minor": 0
                        },
                        "text/plain": [
                            "Train [1]:   0%|          | 0/688 [00:00<?, ?batch/s]"
                        ]
                    },
                    "metadata": {},
                    "output_type": "display_data"
                },
                {
                    "name": "stdout",
                    "output_type": "stream",
                    "text": [
                        "Epoch 2 [0/688] | Train Loss: 0.8280 Grad: inf LR: 9.8633e-05 | Elapse: 0.13s\n",
                        "Epoch 2 [50/688] | Train Loss: 0.7343 Grad: 66456.9844 LR: 9.8099e-05 | Elapse: 6.80s\n",
                        "Epoch 2 [100/688] | Train Loss: 0.7376 Grad: 64096.3750 LR: 9.7479e-05 | Elapse: 13.47s\n",
                        "Epoch 2 [150/688] | Train Loss: 0.7366 Grad: 74138.4219 LR: 9.6774e-05 | Elapse: 20.14s\n",
                        "Epoch 2 [200/688] | Train Loss: 0.7314 Grad: 53196.1016 LR: 9.5986e-05 | Elapse: 26.80s\n",
                        "Epoch 2 [250/688] | Train Loss: 0.7175 Grad: 88000.9141 LR: 9.5115e-05 | Elapse: 33.48s\n",
                        "Epoch 2 [300/688] | Train Loss: 0.7087 Grad: 110648.2344 LR: 9.4164e-05 | Elapse: 40.16s\n",
                        "Epoch 2 [350/688] | Train Loss: 0.6952 Grad: 49978.9922 LR: 9.3134e-05 | Elapse: 46.85s\n",
                        "Epoch 2 [400/688] | Train Loss: 0.6856 Grad: 31978.7988 LR: 9.2027e-05 | Elapse: 53.52s\n",
                        "Epoch 2 [450/688] | Train Loss: 0.6716 Grad: 29428.5488 LR: 9.0845e-05 | Elapse: 60.18s\n",
                        "Epoch 2 [500/688] | Train Loss: 0.6644 Grad: 53309.0977 LR: 8.9589e-05 | Elapse: 66.83s\n",
                        "Epoch 2 [550/688] | Train Loss: 0.6591 Grad: 38857.9297 LR: 8.8263e-05 | Elapse: 73.50s\n",
                        "Epoch 2 [600/688] | Train Loss: 0.6518 Grad: 27396.2793 LR: 8.6869e-05 | Elapse: 80.18s\n",
                        "Epoch 2 [650/688] | Train Loss: 0.6458 Grad: 11255.9932 LR: 8.5409e-05 | Elapse: 86.85s\n",
                        "Epoch 2 [687/688] | Train Loss: 0.6412 Grad: 36896.7031 LR: 8.4288e-05 | Elapse: 91.79s\n"
                    ]
                },
                {
                    "data": {
                        "application/vnd.jupyter.widget-view+json": {
                            "model_id": "f9c207cdc268472fbf6159c5b770a749",
                            "version_major": 2,
                            "version_minor": 0
                        },
                        "text/plain": [
                            "Valid [1]:   0%|          | 0/253 [00:00<?, ?batch/s]"
                        ]
                    },
                    "metadata": {},
                    "output_type": "display_data"
                },
                {
                    "name": "stdout",
                    "output_type": "stream",
                    "text": [
                        "Epoch 2 [0/253] | Valid Loss: 0.7269 | Elapse: 0.08s\n",
                        "Epoch 2 [50/253] | Valid Loss: 0.6438 | Elapse: 4.09s\n",
                        "Epoch 2 [100/253] | Valid Loss: 0.6338 | Elapse: 8.10s\n",
                        "Epoch 2 [150/253] | Valid Loss: 0.6173 | Elapse: 12.12s\n",
                        "Epoch 2 [200/253] | Valid Loss: 0.6148 | Elapse: 16.16s\n"
                    ]
                },
                {
                    "name": "stderr",
                    "output_type": "stream",
                    "text": [
                        "----------------------------------------------------------------------------------------------------\n",
                        "Epoch 2 - Average Loss: (train) 0.6412; (valid) 0.6250 | Time: 112.14s\n",
                        "Best model found in epoch 2 | valid loss: 0.6250\n"
                    ]
                },
                {
                    "name": "stdout",
                    "output_type": "stream",
                    "text": [
                        "Epoch 2 [250/253] | Valid Loss: 0.6239 | Elapse: 20.19s\n",
                        "Epoch 2 [252/253] | Valid Loss: 0.6250 | Elapse: 20.35s\n"
                    ]
                },
                {
                    "data": {
                        "application/vnd.jupyter.widget-view+json": {
                            "model_id": "f8353d277bb444a1be0c7be85af3de05",
                            "version_major": 2,
                            "version_minor": 0
                        },
                        "text/plain": [
                            "Train [2]:   0%|          | 0/688 [00:00<?, ?batch/s]"
                        ]
                    },
                    "metadata": {},
                    "output_type": "display_data"
                },
                {
                    "name": "stdout",
                    "output_type": "stream",
                    "text": [
                        "Epoch 3 [0/688] | Train Loss: 0.5574 Grad: inf LR: 8.4257e-05 | Elapse: 0.13s\n",
                        "Epoch 3 [50/688] | Train Loss: 0.5406 Grad: 55533.6562 LR: 8.2687e-05 | Elapse: 6.84s\n",
                        "Epoch 3 [100/688] | Train Loss: 0.5351 Grad: 61519.1445 LR: 8.1059e-05 | Elapse: 13.51s\n",
                        "Epoch 3 [150/688] | Train Loss: 0.5238 Grad: 70276.3516 LR: 7.9376e-05 | Elapse: 20.20s\n",
                        "Epoch 3 [200/688] | Train Loss: 0.5217 Grad: 52615.5078 LR: 7.7640e-05 | Elapse: 26.85s\n",
                        "Epoch 3 [250/688] | Train Loss: 0.5144 Grad: 106649.6328 LR: 7.5854e-05 | Elapse: 33.51s\n",
                        "Epoch 3 [300/688] | Train Loss: 0.5084 Grad: 62028.4414 LR: 7.4023e-05 | Elapse: 40.20s\n",
                        "Epoch 3 [350/688] | Train Loss: 0.4988 Grad: 24869.7695 LR: 7.2148e-05 | Elapse: 46.85s\n",
                        "Epoch 3 [400/688] | Train Loss: 0.4899 Grad: 28449.8867 LR: 7.0234e-05 | Elapse: 53.59s\n",
                        "Epoch 3 [450/688] | Train Loss: 0.4818 Grad: 21732.8008 LR: 6.8284e-05 | Elapse: 60.29s\n",
                        "Epoch 3 [500/688] | Train Loss: 0.4773 Grad: 57930.1797 LR: 6.6301e-05 | Elapse: 66.94s\n",
                        "Epoch 3 [550/688] | Train Loss: 0.4765 Grad: 35169.9023 LR: 6.4290e-05 | Elapse: 73.60s\n",
                        "Epoch 3 [600/688] | Train Loss: 0.4693 Grad: 34931.9531 LR: 6.2252e-05 | Elapse: 80.24s\n",
                        "Epoch 3 [650/688] | Train Loss: 0.4633 Grad: 13959.1758 LR: 6.0193e-05 | Elapse: 86.89s\n",
                        "Epoch 3 [687/688] | Train Loss: 0.4599 Grad: 36918.5742 LR: 5.8657e-05 | Elapse: 91.81s\n"
                    ]
                },
                {
                    "data": {
                        "application/vnd.jupyter.widget-view+json": {
                            "model_id": "32d56b6d83244b25a2434778b3f77e5c",
                            "version_major": 2,
                            "version_minor": 0
                        },
                        "text/plain": [
                            "Valid [2]:   0%|          | 0/253 [00:00<?, ?batch/s]"
                        ]
                    },
                    "metadata": {},
                    "output_type": "display_data"
                },
                {
                    "name": "stdout",
                    "output_type": "stream",
                    "text": [
                        "Epoch 3 [0/253] | Valid Loss: 0.7517 | Elapse: 0.08s\n",
                        "Epoch 3 [50/253] | Valid Loss: 0.6620 | Elapse: 4.09s\n",
                        "Epoch 3 [100/253] | Valid Loss: 0.6572 | Elapse: 8.10s\n",
                        "Epoch 3 [150/253] | Valid Loss: 0.6317 | Elapse: 12.13s\n",
                        "Epoch 3 [200/253] | Valid Loss: 0.6354 | Elapse: 16.16s\n"
                    ]
                },
                {
                    "name": "stderr",
                    "output_type": "stream",
                    "text": [
                        "----------------------------------------------------------------------------------------------------\n",
                        "Epoch 3 - Average Loss: (train) 0.4599; (valid) 0.6589 | Time: 112.16s\n"
                    ]
                },
                {
                    "name": "stdout",
                    "output_type": "stream",
                    "text": [
                        "Epoch 3 [250/253] | Valid Loss: 0.6570 | Elapse: 20.18s\n",
                        "Epoch 3 [252/253] | Valid Loss: 0.6589 | Elapse: 20.34s\n"
                    ]
                },
                {
                    "data": {
                        "application/vnd.jupyter.widget-view+json": {
                            "model_id": "53bae4882f514167a8e59f230dd32e11",
                            "version_major": 2,
                            "version_minor": 0
                        },
                        "text/plain": [
                            "Train [3]:   0%|          | 0/688 [00:00<?, ?batch/s]"
                        ]
                    },
                    "metadata": {},
                    "output_type": "display_data"
                },
                {
                    "name": "stdout",
                    "output_type": "stream",
                    "text": [
                        "Epoch 4 [0/688] | Train Loss: 0.5597 Grad: nan LR: 5.8616e-05 | Elapse: 0.13s\n",
                        "Epoch 4 [50/688] | Train Loss: 0.3995 Grad: 61794.4336 LR: 5.6527e-05 | Elapse: 6.77s\n",
                        "Epoch 4 [100/688] | Train Loss: 0.3815 Grad: 81678.5938 LR: 5.4427e-05 | Elapse: 13.41s\n",
                        "Epoch 4 [150/688] | Train Loss: 0.3730 Grad: 47571.7070 LR: 5.2318e-05 | Elapse: 20.07s\n",
                        "Epoch 4 [200/688] | Train Loss: 0.3726 Grad: 45328.2344 LR: 5.0206e-05 | Elapse: 26.72s\n",
                        "Epoch 4 [250/688] | Train Loss: 0.3633 Grad: 83348.6406 LR: 4.8093e-05 | Elapse: 33.39s\n",
                        "Epoch 4 [300/688] | Train Loss: 0.3585 Grad: 79503.1719 LR: 4.5984e-05 | Elapse: 40.09s\n",
                        "Epoch 4 [350/688] | Train Loss: 0.3505 Grad: 51882.4609 LR: 4.3882e-05 | Elapse: 46.75s\n",
                        "Epoch 4 [400/688] | Train Loss: 0.3444 Grad: 77913.4844 LR: 4.1791e-05 | Elapse: 53.41s\n",
                        "Epoch 4 [450/688] | Train Loss: 0.3401 Grad: 32925.6523 LR: 3.9715e-05 | Elapse: 60.08s\n",
                        "Epoch 4 [500/688] | Train Loss: 0.3381 Grad: 73069.8125 LR: 3.7657e-05 | Elapse: 66.74s\n",
                        "Epoch 4 [550/688] | Train Loss: 0.3389 Grad: 77731.1406 LR: 3.5621e-05 | Elapse: 73.38s\n",
                        "Epoch 4 [600/688] | Train Loss: 0.3323 Grad: 51067.4609 LR: 3.3611e-05 | Elapse: 80.03s\n",
                        "Epoch 4 [650/688] | Train Loss: 0.3282 Grad: 8269.5693 LR: 3.1630e-05 | Elapse: 86.67s\n",
                        "Epoch 4 [687/688] | Train Loss: 0.3259 Grad: 29805.7383 LR: 3.0185e-05 | Elapse: 91.60s\n"
                    ]
                },
                {
                    "data": {
                        "application/vnd.jupyter.widget-view+json": {
                            "model_id": "fd487c0758174a6794d3b346a85b2771",
                            "version_major": 2,
                            "version_minor": 0
                        },
                        "text/plain": [
                            "Valid [3]:   0%|          | 0/253 [00:00<?, ?batch/s]"
                        ]
                    },
                    "metadata": {},
                    "output_type": "display_data"
                },
                {
                    "name": "stdout",
                    "output_type": "stream",
                    "text": [
                        "Epoch 4 [0/253] | Valid Loss: 0.5947 | Elapse: 0.08s\n",
                        "Epoch 4 [50/253] | Valid Loss: 0.6776 | Elapse: 4.11s\n",
                        "Epoch 4 [100/253] | Valid Loss: 0.6580 | Elapse: 8.12s\n",
                        "Epoch 4 [150/253] | Valid Loss: 0.6336 | Elapse: 12.14s\n",
                        "Epoch 4 [200/253] | Valid Loss: 0.6526 | Elapse: 16.18s\n"
                    ]
                },
                {
                    "name": "stderr",
                    "output_type": "stream",
                    "text": [
                        "----------------------------------------------------------------------------------------------------\n",
                        "Epoch 4 - Average Loss: (train) 0.3259; (valid) 0.6895 | Time: 111.97s\n"
                    ]
                },
                {
                    "name": "stdout",
                    "output_type": "stream",
                    "text": [
                        "Epoch 4 [250/253] | Valid Loss: 0.6878 | Elapse: 20.21s\n",
                        "Epoch 4 [252/253] | Valid Loss: 0.6895 | Elapse: 20.36s\n"
                    ]
                },
                {
                    "data": {
                        "application/vnd.jupyter.widget-view+json": {
                            "model_id": "fcda6f7395a0407eaa6e5ed1725943f8",
                            "version_major": 2,
                            "version_minor": 0
                        },
                        "text/plain": [
                            "Train [4]:   0%|          | 0/688 [00:00<?, ?batch/s]"
                        ]
                    },
                    "metadata": {},
                    "output_type": "display_data"
                },
                {
                    "name": "stdout",
                    "output_type": "stream",
                    "text": [
                        "Epoch 5 [0/688] | Train Loss: 0.4835 Grad: nan LR: 3.0146e-05 | Elapse: 0.13s\n",
                        "Epoch 5 [50/688] | Train Loss: 0.2923 Grad: 34476.7188 LR: 2.8226e-05 | Elapse: 6.76s\n",
                        "Epoch 5 [100/688] | Train Loss: 0.2741 Grad: 27501.5820 LR: 2.6344e-05 | Elapse: 13.41s\n",
                        "Epoch 5 [150/688] | Train Loss: 0.2737 Grad: 25676.3770 LR: 2.4505e-05 | Elapse: 20.06s\n",
                        "Epoch 5 [200/688] | Train Loss: 0.2755 Grad: 20338.0645 LR: 2.2711e-05 | Elapse: 26.71s\n",
                        "Epoch 5 [250/688] | Train Loss: 0.2665 Grad: 36684.6445 LR: 2.0966e-05 | Elapse: 33.36s\n",
                        "Epoch 5 [300/688] | Train Loss: 0.2626 Grad: 59296.2930 LR: 1.9273e-05 | Elapse: 40.02s\n",
                        "Epoch 5 [350/688] | Train Loss: 0.2557 Grad: 30749.5840 LR: 1.7635e-05 | Elapse: 46.67s\n",
                        "Epoch 5 [400/688] | Train Loss: 0.2520 Grad: 29247.1035 LR: 1.6055e-05 | Elapse: 53.36s\n",
                        "Epoch 5 [450/688] | Train Loss: 0.2502 Grad: 10474.9131 LR: 1.4536e-05 | Elapse: 60.02s\n",
                        "Epoch 5 [500/688] | Train Loss: 0.2511 Grad: 56925.7188 LR: 1.3080e-05 | Elapse: 66.67s\n",
                        "Epoch 5 [550/688] | Train Loss: 0.2522 Grad: 34099.0078 LR: 1.1690e-05 | Elapse: 73.32s\n",
                        "Epoch 5 [600/688] | Train Loss: 0.2490 Grad: 63802.9766 LR: 1.0368e-05 | Elapse: 79.97s\n",
                        "Epoch 5 [650/688] | Train Loss: 0.2473 Grad: 10329.1064 LR: 9.1176e-06 | Elapse: 86.62s\n",
                        "Epoch 5 [687/688] | Train Loss: 0.2457 Grad: 31888.3535 LR: 8.2391e-06 | Elapse: 91.54s\n"
                    ]
                },
                {
                    "data": {
                        "application/vnd.jupyter.widget-view+json": {
                            "model_id": "809defd9eb0244c59ca1aa6773dac286",
                            "version_major": 2,
                            "version_minor": 0
                        },
                        "text/plain": [
                            "Valid [4]:   0%|          | 0/253 [00:00<?, ?batch/s]"
                        ]
                    },
                    "metadata": {},
                    "output_type": "display_data"
                },
                {
                    "name": "stdout",
                    "output_type": "stream",
                    "text": [
                        "Epoch 5 [0/253] | Valid Loss: 0.6182 | Elapse: 0.08s\n",
                        "Epoch 5 [50/253] | Valid Loss: 0.6951 | Elapse: 4.10s\n",
                        "Epoch 5 [100/253] | Valid Loss: 0.6727 | Elapse: 8.11s\n",
                        "Epoch 5 [150/253] | Valid Loss: 0.6468 | Elapse: 12.14s\n",
                        "Epoch 5 [200/253] | Valid Loss: 0.6703 | Elapse: 16.18s\n"
                    ]
                },
                {
                    "name": "stderr",
                    "output_type": "stream",
                    "text": [
                        "----------------------------------------------------------------------------------------------------\n",
                        "Epoch 5 - Average Loss: (train) 0.2457; (valid) 0.7125 | Time: 111.92s\n"
                    ]
                },
                {
                    "name": "stdout",
                    "output_type": "stream",
                    "text": [
                        "Epoch 5 [250/253] | Valid Loss: 0.7102 | Elapse: 20.21s\n",
                        "Epoch 5 [252/253] | Valid Loss: 0.7125 | Elapse: 20.37s\n"
                    ]
                },
                {
                    "data": {
                        "application/vnd.jupyter.widget-view+json": {
                            "model_id": "f614312601304538b88d07d680fda571",
                            "version_major": 2,
                            "version_minor": 0
                        },
                        "text/plain": [
                            "Train [5]:   0%|          | 0/688 [00:00<?, ?batch/s]"
                        ]
                    },
                    "metadata": {},
                    "output_type": "display_data"
                },
                {
                    "name": "stdout",
                    "output_type": "stream",
                    "text": [
                        "Epoch 6 [0/688] | Train Loss: 0.4873 Grad: nan LR: 8.2159e-06 | Elapse: 0.13s\n",
                        "Epoch 6 [50/688] | Train Loss: 0.2559 Grad: 41063.1367 LR: 7.0954e-06 | Elapse: 6.79s\n",
                        "Epoch 6 [100/688] | Train Loss: 0.2346 Grad: 47158.8320 LR: 6.0516e-06 | Elapse: 13.44s\n",
                        "Epoch 6 [150/688] | Train Loss: 0.2297 Grad: 46461.3242 LR: 5.0864e-06 | Elapse: 20.10s\n",
                        "Epoch 6 [200/688] | Train Loss: 0.2343 Grad: 19182.7461 LR: 4.2015e-06 | Elapse: 26.74s\n",
                        "Epoch 6 [250/688] | Train Loss: 0.2292 Grad: 33345.5039 LR: 3.3985e-06 | Elapse: 33.39s\n",
                        "Epoch 6 [300/688] | Train Loss: 0.2252 Grad: 39485.6133 LR: 2.6789e-06 | Elapse: 40.10s\n",
                        "Epoch 6 [350/688] | Train Loss: 0.2219 Grad: 29096.6602 LR: 2.0438e-06 | Elapse: 46.76s\n",
                        "Epoch 6 [400/688] | Train Loss: 0.2208 Grad: 34234.6719 LR: 1.4945e-06 | Elapse: 53.44s\n",
                        "Epoch 6 [450/688] | Train Loss: 0.2199 Grad: 12792.6299 LR: 1.0319e-06 | Elapse: 60.10s\n",
                        "Epoch 6 [500/688] | Train Loss: 0.2201 Grad: 36542.9961 LR: 6.5692e-07 | Elapse: 66.74s\n",
                        "Epoch 6 [550/688] | Train Loss: 0.2218 Grad: 20930.4883 LR: 3.7014e-07 | Elapse: 73.47s\n",
                        "Epoch 6 [600/688] | Train Loss: 0.2191 Grad: 18187.4473 LR: 1.7210e-07 | Elapse: 80.20s\n",
                        "Epoch 6 [650/688] | Train Loss: 0.2188 Grad: 7485.7412 LR: 6.3157e-08 | Elapse: 86.89s\n",
                        "Epoch 6 [687/688] | Train Loss: 0.2182 Grad: 32971.2773 LR: 4.0018e-08 | Elapse: 91.83s\n"
                    ]
                },
                {
                    "data": {
                        "application/vnd.jupyter.widget-view+json": {
                            "model_id": "7239a93776f44ac29ec68aba44b8d615",
                            "version_major": 2,
                            "version_minor": 0
                        },
                        "text/plain": [
                            "Valid [5]:   0%|          | 0/253 [00:00<?, ?batch/s]"
                        ]
                    },
                    "metadata": {},
                    "output_type": "display_data"
                },
                {
                    "name": "stdout",
                    "output_type": "stream",
                    "text": [
                        "Epoch 6 [0/253] | Valid Loss: 0.6044 | Elapse: 0.08s\n",
                        "Epoch 6 [50/253] | Valid Loss: 0.6908 | Elapse: 4.11s\n",
                        "Epoch 6 [100/253] | Valid Loss: 0.6701 | Elapse: 8.17s\n",
                        "Epoch 6 [150/253] | Valid Loss: 0.6464 | Elapse: 12.26s\n",
                        "Epoch 6 [200/253] | Valid Loss: 0.6699 | Elapse: 16.31s\n"
                    ]
                },
                {
                    "name": "stderr",
                    "output_type": "stream",
                    "text": [
                        "----------------------------------------------------------------------------------------------------\n",
                        "Epoch 6 - Average Loss: (train) 0.2182; (valid) 0.7142 | Time: 112.36s\n"
                    ]
                },
                {
                    "name": "stdout",
                    "output_type": "stream",
                    "text": [
                        "Epoch 6 [250/253] | Valid Loss: 0.7118 | Elapse: 20.36s\n",
                        "Epoch 6 [252/253] | Valid Loss: 0.7142 | Elapse: 20.52s\n"
                    ]
                },
                {
                    "name": "stderr",
                    "output_type": "stream",
                    "text": [
                        "====================================================================================================\n",
                        "Fold 1 Valid Loss: (Easy) 0.5999 | (Hard) 0.6875\n",
                        "Elapse: 11.22 min \n",
                        "====================================================================================================\n",
                        "- Second Stage \n",
                        "Use Checkpoint: DualEncoder_B0_fold_1_stage_1.pth\n"
                    ]
                },
                {
                    "data": {
                        "application/vnd.jupyter.widget-view+json": {
                            "model_id": "5d75103316c344918d810b57e53d15d4",
                            "version_major": 2,
                            "version_minor": 0
                        },
                        "text/plain": [
                            "Train [0]:   0%|          | 0/310 [00:00<?, ?batch/s]"
                        ]
                    },
                    "metadata": {},
                    "output_type": "display_data"
                },
                {
                    "name": "stderr",
                    "output_type": "stream",
                    "text": [
                        "/home/shiyi/miniconda3/envs/kaggle/lib/python3.11/site-packages/torch/optim/lr_scheduler.py:143: UserWarning: Detected call of `lr_scheduler.step()` before `optimizer.step()`. In PyTorch 1.1.0 and later, you should call them in the opposite order: `optimizer.step()` before `lr_scheduler.step()`.  Failure to do this will result in PyTorch skipping the first value of the learning rate schedule. See more details at https://pytorch.org/docs/stable/optim.html#how-to-adjust-learning-rate\n",
                        "  warnings.warn(\"Detected call of `lr_scheduler.step()` before `optimizer.step()`. \"\n"
                    ]
                },
                {
                    "name": "stdout",
                    "output_type": "stream",
                    "text": [
                        "Epoch 1 [0/310] | Train Loss: 1.2546 Grad: nan LR: 4.0069e-06 | Elapse: 0.14s\n",
                        "Epoch 1 [50/310] | Train Loss: 0.9854 Grad: 66163.3594 LR: 2.0904e-05 | Elapse: 6.78s\n",
                        "Epoch 1 [100/310] | Train Loss: 0.8901 Grad: 55203.4180 LR: 5.8904e-05 | Elapse: 13.46s\n",
                        "Epoch 1 [150/310] | Train Loss: 0.7896 Grad: 28294.6484 LR: 9.2219e-05 | Elapse: 20.14s\n",
                        "Epoch 1 [200/310] | Train Loss: 0.7223 Grad: 46288.0977 LR: 9.9977e-05 | Elapse: 26.82s\n",
                        "Epoch 1 [250/310] | Train Loss: 0.6734 Grad: 30060.0625 LR: 9.9617e-05 | Elapse: 33.52s\n",
                        "Epoch 1 [300/310] | Train Loss: 0.6337 Grad: 20129.1035 LR: 9.8820e-05 | Elapse: 40.20s\n",
                        "Epoch 1 [309/310] | Train Loss: 0.6280 Grad: 29617.1543 LR: 9.8631e-05 | Elapse: 41.40s\n"
                    ]
                },
                {
                    "data": {
                        "application/vnd.jupyter.widget-view+json": {
                            "model_id": "04f92fd0eb814371a696f3470b7c6c4c",
                            "version_major": 2,
                            "version_minor": 0
                        },
                        "text/plain": [
                            "Valid [0]:   0%|          | 0/253 [00:00<?, ?batch/s]"
                        ]
                    },
                    "metadata": {},
                    "output_type": "display_data"
                },
                {
                    "name": "stdout",
                    "output_type": "stream",
                    "text": [
                        "Epoch 1 [0/253] | Valid Loss: 0.6911 | Elapse: 0.08s\n",
                        "Epoch 1 [50/253] | Valid Loss: 0.8198 | Elapse: 4.19s\n",
                        "Epoch 1 [100/253] | Valid Loss: 0.8144 | Elapse: 8.21s\n",
                        "Epoch 1 [150/253] | Valid Loss: 0.7776 | Elapse: 12.25s\n",
                        "Epoch 1 [200/253] | Valid Loss: 0.7168 | Elapse: 16.29s\n"
                    ]
                },
                {
                    "name": "stderr",
                    "output_type": "stream",
                    "text": [
                        "----------------------------------------------------------------------------------------------------\n",
                        "Epoch 1 - Average Loss: (train) 0.6280; (valid) 0.6539 | Time: 61.89s\n",
                        "Best model found in epoch 1 | valid loss: 0.6539\n"
                    ]
                },
                {
                    "name": "stdout",
                    "output_type": "stream",
                    "text": [
                        "Epoch 1 [250/253] | Valid Loss: 0.6554 | Elapse: 20.32s\n",
                        "Epoch 1 [252/253] | Valid Loss: 0.6539 | Elapse: 20.48s\n"
                    ]
                },
                {
                    "data": {
                        "application/vnd.jupyter.widget-view+json": {
                            "model_id": "84aae57205a54618b8224a73f7ffb8f6",
                            "version_major": 2,
                            "version_minor": 0
                        },
                        "text/plain": [
                            "Train [1]:   0%|          | 0/310 [00:00<?, ?batch/s]"
                        ]
                    },
                    "metadata": {},
                    "output_type": "display_data"
                },
                {
                    "name": "stdout",
                    "output_type": "stream",
                    "text": [
                        "Epoch 2 [0/310] | Train Loss: 0.4844 Grad: inf LR: 9.8609e-05 | Elapse: 0.13s\n",
                        "Epoch 2 [50/310] | Train Loss: 0.4262 Grad: 76616.2812 LR: 9.7298e-05 | Elapse: 6.79s\n",
                        "Epoch 2 [100/310] | Train Loss: 0.4248 Grad: 46349.4141 LR: 9.5572e-05 | Elapse: 13.45s\n",
                        "Epoch 2 [150/310] | Train Loss: 0.4060 Grad: 32401.1406 LR: 9.3444e-05 | Elapse: 20.11s\n",
                        "Epoch 2 [200/310] | Train Loss: 0.3918 Grad: 67353.1172 LR: 9.0934e-05 | Elapse: 26.84s\n",
                        "Epoch 2 [250/310] | Train Loss: 0.3837 Grad: 51098.8164 LR: 8.8065e-05 | Elapse: 33.51s\n",
                        "Epoch 2 [300/310] | Train Loss: 0.3765 Grad: 48206.1328 LR: 8.4860e-05 | Elapse: 40.23s\n",
                        "Epoch 2 [309/310] | Train Loss: 0.3761 Grad: 60184.3320 LR: 8.4250e-05 | Elapse: 41.44s\n"
                    ]
                },
                {
                    "data": {
                        "application/vnd.jupyter.widget-view+json": {
                            "model_id": "232e3121ee324dd681819fcbc536465a",
                            "version_major": 2,
                            "version_minor": 0
                        },
                        "text/plain": [
                            "Valid [1]:   0%|          | 0/253 [00:00<?, ?batch/s]"
                        ]
                    },
                    "metadata": {},
                    "output_type": "display_data"
                },
                {
                    "name": "stdout",
                    "output_type": "stream",
                    "text": [
                        "Epoch 2 [0/253] | Valid Loss: 0.6954 | Elapse: 0.09s\n",
                        "Epoch 2 [50/253] | Valid Loss: 0.8226 | Elapse: 4.13s\n",
                        "Epoch 2 [100/253] | Valid Loss: 0.8195 | Elapse: 8.16s\n",
                        "Epoch 2 [150/253] | Valid Loss: 0.7784 | Elapse: 12.22s\n",
                        "Epoch 2 [200/253] | Valid Loss: 0.7158 | Elapse: 16.26s\n"
                    ]
                },
                {
                    "name": "stderr",
                    "output_type": "stream",
                    "text": [
                        "----------------------------------------------------------------------------------------------------\n",
                        "Epoch 2 - Average Loss: (train) 0.3761; (valid) 0.6480 | Time: 61.90s\n",
                        "Best model found in epoch 2 | valid loss: 0.6480\n"
                    ]
                },
                {
                    "name": "stdout",
                    "output_type": "stream",
                    "text": [
                        "Epoch 2 [250/253] | Valid Loss: 0.6496 | Elapse: 20.30s\n",
                        "Epoch 2 [252/253] | Valid Loss: 0.6480 | Elapse: 20.45s\n"
                    ]
                },
                {
                    "data": {
                        "application/vnd.jupyter.widget-view+json": {
                            "model_id": "df9eb7143d5d4f3bbc8a5ef4ca6ed26f",
                            "version_major": 2,
                            "version_minor": 0
                        },
                        "text/plain": [
                            "Train [2]:   0%|          | 0/310 [00:00<?, ?batch/s]"
                        ]
                    },
                    "metadata": {},
                    "output_type": "display_data"
                },
                {
                    "name": "stdout",
                    "output_type": "stream",
                    "text": [
                        "Epoch 3 [0/310] | Train Loss: 0.4624 Grad: 243551.3594 LR: 8.4182e-05 | Elapse: 0.14s\n",
                        "Epoch 3 [50/310] | Train Loss: 0.3512 Grad: 86572.4219 LR: 8.0613e-05 | Elapse: 6.80s\n",
                        "Epoch 3 [100/310] | Train Loss: 0.3503 Grad: 51947.5117 LR: 7.6775e-05 | Elapse: 13.50s\n",
                        "Epoch 3 [150/310] | Train Loss: 0.3359 Grad: 29459.4004 LR: 7.2702e-05 | Elapse: 20.18s\n",
                        "Epoch 3 [200/310] | Train Loss: 0.3243 Grad: 47585.9727 LR: 6.8429e-05 | Elapse: 26.86s\n",
                        "Epoch 3 [250/310] | Train Loss: 0.3176 Grad: 49773.7617 LR: 6.3995e-05 | Elapse: 33.56s\n",
                        "Epoch 3 [300/310] | Train Loss: 0.3111 Grad: 31278.0703 LR: 5.9437e-05 | Elapse: 40.26s\n",
                        "Epoch 3 [309/310] | Train Loss: 0.3104 Grad: 44589.4453 LR: 5.8607e-05 | Elapse: 41.47s\n"
                    ]
                },
                {
                    "data": {
                        "application/vnd.jupyter.widget-view+json": {
                            "model_id": "6f8cc44154514c6e9bdeb29c7ee0f7f2",
                            "version_major": 2,
                            "version_minor": 0
                        },
                        "text/plain": [
                            "Valid [2]:   0%|          | 0/253 [00:00<?, ?batch/s]"
                        ]
                    },
                    "metadata": {},
                    "output_type": "display_data"
                },
                {
                    "name": "stdout",
                    "output_type": "stream",
                    "text": [
                        "Epoch 3 [0/253] | Valid Loss: 0.6351 | Elapse: 0.10s\n",
                        "Epoch 3 [50/253] | Valid Loss: 0.8083 | Elapse: 4.14s\n",
                        "Epoch 3 [100/253] | Valid Loss: 0.8035 | Elapse: 8.18s\n",
                        "Epoch 3 [150/253] | Valid Loss: 0.7652 | Elapse: 12.23s\n",
                        "Epoch 3 [200/253] | Valid Loss: 0.7034 | Elapse: 16.28s\n"
                    ]
                },
                {
                    "name": "stderr",
                    "output_type": "stream",
                    "text": [
                        "----------------------------------------------------------------------------------------------------\n",
                        "Epoch 3 - Average Loss: (train) 0.3104; (valid) 0.6379 | Time: 61.94s\n",
                        "Best model found in epoch 3 | valid loss: 0.6379\n"
                    ]
                },
                {
                    "name": "stdout",
                    "output_type": "stream",
                    "text": [
                        "Epoch 3 [250/253] | Valid Loss: 0.6395 | Elapse: 20.31s\n",
                        "Epoch 3 [252/253] | Valid Loss: 0.6379 | Elapse: 20.47s\n"
                    ]
                },
                {
                    "data": {
                        "application/vnd.jupyter.widget-view+json": {
                            "model_id": "439af0da1d7f41f289dfc416b121e269",
                            "version_major": 2,
                            "version_minor": 0
                        },
                        "text/plain": [
                            "Train [3]:   0%|          | 0/310 [00:00<?, ?batch/s]"
                        ]
                    },
                    "metadata": {},
                    "output_type": "display_data"
                },
                {
                    "name": "stdout",
                    "output_type": "stream",
                    "text": [
                        "Epoch 4 [0/310] | Train Loss: 0.3255 Grad: 242107.9375 LR: 5.8514e-05 | Elapse: 0.14s\n",
                        "Epoch 4 [50/310] | Train Loss: 0.2889 Grad: 76812.3359 LR: 5.3862e-05 | Elapse: 6.86s\n",
                        "Epoch 4 [100/310] | Train Loss: 0.2923 Grad: 37865.6289 LR: 4.9176e-05 | Elapse: 13.54s\n",
                        "Epoch 4 [150/310] | Train Loss: 0.2803 Grad: 30509.5449 LR: 4.4497e-05 | Elapse: 20.23s\n",
                        "Epoch 4 [200/310] | Train Loss: 0.2709 Grad: 37914.7656 LR: 3.9867e-05 | Elapse: 26.91s\n",
                        "Epoch 4 [250/310] | Train Loss: 0.2671 Grad: 49102.1250 LR: 3.5327e-05 | Elapse: 33.60s\n",
                        "Epoch 4 [300/310] | Train Loss: 0.2623 Grad: 39109.3125 LR: 3.0915e-05 | Elapse: 40.27s\n",
                        "Epoch 4 [309/310] | Train Loss: 0.2619 Grad: 41761.0625 LR: 3.0138e-05 | Elapse: 41.48s\n"
                    ]
                },
                {
                    "data": {
                        "application/vnd.jupyter.widget-view+json": {
                            "model_id": "f036ab9173c04b5090508d6bc686a0f4",
                            "version_major": 2,
                            "version_minor": 0
                        },
                        "text/plain": [
                            "Valid [3]:   0%|          | 0/253 [00:00<?, ?batch/s]"
                        ]
                    },
                    "metadata": {},
                    "output_type": "display_data"
                },
                {
                    "name": "stdout",
                    "output_type": "stream",
                    "text": [
                        "Epoch 4 [0/253] | Valid Loss: 0.6716 | Elapse: 0.08s\n",
                        "Epoch 4 [50/253] | Valid Loss: 0.8051 | Elapse: 4.12s\n",
                        "Epoch 4 [100/253] | Valid Loss: 0.8006 | Elapse: 8.15s\n",
                        "Epoch 4 [150/253] | Valid Loss: 0.7583 | Elapse: 12.20s\n",
                        "Epoch 4 [200/253] | Valid Loss: 0.6952 | Elapse: 16.26s\n"
                    ]
                },
                {
                    "name": "stderr",
                    "output_type": "stream",
                    "text": [
                        "----------------------------------------------------------------------------------------------------\n",
                        "Epoch 4 - Average Loss: (train) 0.2619; (valid) 0.6297 | Time: 61.94s\n",
                        "Best model found in epoch 4 | valid loss: 0.6297\n"
                    ]
                },
                {
                    "name": "stdout",
                    "output_type": "stream",
                    "text": [
                        "Epoch 4 [250/253] | Valid Loss: 0.6313 | Elapse: 20.30s\n",
                        "Epoch 4 [252/253] | Valid Loss: 0.6297 | Elapse: 20.46s\n"
                    ]
                },
                {
                    "data": {
                        "application/vnd.jupyter.widget-view+json": {
                            "model_id": "4bea57ede9694a10bcd6cf6eafdd10ac",
                            "version_major": 2,
                            "version_minor": 0
                        },
                        "text/plain": [
                            "Train [4]:   0%|          | 0/310 [00:00<?, ?batch/s]"
                        ]
                    },
                    "metadata": {},
                    "output_type": "display_data"
                },
                {
                    "name": "stdout",
                    "output_type": "stream",
                    "text": [
                        "Epoch 5 [0/310] | Train Loss: 0.2587 Grad: 206437.2812 LR: 3.0052e-05 | Elapse: 0.14s\n",
                        "Epoch 5 [50/310] | Train Loss: 0.2504 Grad: 55181.5977 LR: 2.5847e-05 | Elapse: 6.87s\n",
                        "Epoch 5 [100/310] | Train Loss: 0.2568 Grad: 43248.5234 LR: 2.1854e-05 | Elapse: 13.58s\n",
                        "Epoch 5 [150/310] | Train Loss: 0.2469 Grad: 34417.1289 LR: 1.8110e-05 | Elapse: 20.29s\n",
                        "Epoch 5 [200/310] | Train Loss: 0.2396 Grad: 32031.4102 LR: 1.4646e-05 | Elapse: 27.02s\n",
                        "Epoch 5 [250/310] | Train Loss: 0.2357 Grad: 51503.2852 LR: 1.1493e-05 | Elapse: 33.72s\n",
                        "Epoch 5 [300/310] | Train Loss: 0.2328 Grad: 28039.5293 LR: 8.6793e-06 | Elapse: 40.46s\n",
                        "Epoch 5 [309/310] | Train Loss: 0.2326 Grad: 45278.9375 LR: 8.2109e-06 | Elapse: 41.67s\n"
                    ]
                },
                {
                    "data": {
                        "application/vnd.jupyter.widget-view+json": {
                            "model_id": "6c53f10096ed41f884c4b4774d18d4e4",
                            "version_major": 2,
                            "version_minor": 0
                        },
                        "text/plain": [
                            "Valid [4]:   0%|          | 0/253 [00:00<?, ?batch/s]"
                        ]
                    },
                    "metadata": {},
                    "output_type": "display_data"
                },
                {
                    "name": "stdout",
                    "output_type": "stream",
                    "text": [
                        "Epoch 5 [0/253] | Valid Loss: 0.6791 | Elapse: 0.09s\n",
                        "Epoch 5 [50/253] | Valid Loss: 0.7896 | Elapse: 4.12s\n",
                        "Epoch 5 [100/253] | Valid Loss: 0.7819 | Elapse: 8.14s\n",
                        "Epoch 5 [150/253] | Valid Loss: 0.7395 | Elapse: 12.18s\n",
                        "Epoch 5 [200/253] | Valid Loss: 0.6780 | Elapse: 16.22s\n"
                    ]
                },
                {
                    "name": "stderr",
                    "output_type": "stream",
                    "text": [
                        "----------------------------------------------------------------------------------------------------\n",
                        "Epoch 5 - Average Loss: (train) 0.2326; (valid) 0.6162 | Time: 62.09s\n",
                        "Best model found in epoch 5 | valid loss: 0.6162\n"
                    ]
                },
                {
                    "name": "stdout",
                    "output_type": "stream",
                    "text": [
                        "Epoch 5 [250/253] | Valid Loss: 0.6178 | Elapse: 20.25s\n",
                        "Epoch 5 [252/253] | Valid Loss: 0.6162 | Elapse: 20.41s\n"
                    ]
                },
                {
                    "data": {
                        "application/vnd.jupyter.widget-view+json": {
                            "model_id": "c8444b1ae0e44458916f986666708b80",
                            "version_major": 2,
                            "version_minor": 0
                        },
                        "text/plain": [
                            "Train [5]:   0%|          | 0/310 [00:00<?, ?batch/s]"
                        ]
                    },
                    "metadata": {},
                    "output_type": "display_data"
                },
                {
                    "name": "stdout",
                    "output_type": "stream",
                    "text": [
                        "Epoch 6 [0/310] | Train Loss: 0.2102 Grad: 177874.1562 LR: 8.1595e-06 | Elapse: 0.14s\n",
                        "Epoch 6 [50/310] | Train Loss: 0.2290 Grad: 70063.9766 LR: 5.7850e-06 | Elapse: 6.82s\n",
                        "Epoch 6 [100/310] | Train Loss: 0.2363 Grad: 42569.3633 LR: 3.7998e-06 | Elapse: 13.49s\n",
                        "Epoch 6 [150/310] | Train Loss: 0.2273 Grad: 25237.1309 LR: 2.2211e-06 | Elapse: 20.17s\n",
                        "Epoch 6 [200/310] | Train Loss: 0.2231 Grad: 35941.5195 LR: 1.0631e-06 | Elapse: 26.90s\n",
                        "Epoch 6 [250/310] | Train Loss: 0.2216 Grad: 39974.4062 LR: 3.3579e-07 | Elapse: 33.58s\n",
                        "Epoch 6 [300/310] | Train Loss: 0.2192 Grad: 28830.0781 LR: 4.5633e-08 | Elapse: 40.29s\n",
                        "Epoch 6 [309/310] | Train Loss: 0.2194 Grad: 44004.9609 LR: 4.0088e-08 | Elapse: 41.50s\n"
                    ]
                },
                {
                    "data": {
                        "application/vnd.jupyter.widget-view+json": {
                            "model_id": "5624a67dc1394ab7b2287199e1b60f68",
                            "version_major": 2,
                            "version_minor": 0
                        },
                        "text/plain": [
                            "Valid [5]:   0%|          | 0/253 [00:00<?, ?batch/s]"
                        ]
                    },
                    "metadata": {},
                    "output_type": "display_data"
                },
                {
                    "name": "stdout",
                    "output_type": "stream",
                    "text": [
                        "Epoch 6 [0/253] | Valid Loss: 0.6762 | Elapse: 0.09s\n",
                        "Epoch 6 [50/253] | Valid Loss: 0.7824 | Elapse: 4.13s\n",
                        "Epoch 6 [100/253] | Valid Loss: 0.7745 | Elapse: 8.15s\n",
                        "Epoch 6 [150/253] | Valid Loss: 0.7338 | Elapse: 12.20s\n",
                        "Epoch 6 [200/253] | Valid Loss: 0.6737 | Elapse: 16.24s\n"
                    ]
                },
                {
                    "name": "stderr",
                    "output_type": "stream",
                    "text": [
                        "----------------------------------------------------------------------------------------------------\n",
                        "Epoch 6 - Average Loss: (train) 0.2194; (valid) 0.6135 | Time: 61.94s\n",
                        "Best model found in epoch 6 | valid loss: 0.6135\n"
                    ]
                },
                {
                    "name": "stdout",
                    "output_type": "stream",
                    "text": [
                        "Epoch 6 [250/253] | Valid Loss: 0.6151 | Elapse: 20.27s\n",
                        "Epoch 6 [252/253] | Valid Loss: 0.6135 | Elapse: 20.43s\n"
                    ]
                },
                {
                    "name": "stderr",
                    "output_type": "stream",
                    "text": [
                        "====================================================================================================\n",
                        "Fold 1 Valid Loss: (Easy) 0.7048 | (Hard) 0.3862\n",
                        "Elapse: 6.21 min \n",
                        "====================================================================================================\n",
                        "====================================================================================================\n",
                        "Fold: 2 || Valid size 3244 \n",
                        "====================================================================================================\n",
                        "- First Stage \n"
                    ]
                },
                {
                    "data": {
                        "application/vnd.jupyter.widget-view+json": {
                            "model_id": "51c14a7ed4d54a9889bd8bbce5d27521",
                            "version_major": 2,
                            "version_minor": 0
                        },
                        "text/plain": [
                            "Train [0]:   0%|          | 0/733 [00:00<?, ?batch/s]"
                        ]
                    },
                    "metadata": {},
                    "output_type": "display_data"
                },
                {
                    "name": "stdout",
                    "output_type": "stream",
                    "text": [
                        "Epoch 1 [0/733] | Train Loss: 1.6770 Grad: 207114.9531 LR: 4.0012e-06 | Elapse: 0.18s\n",
                        "Epoch 1 [50/733] | Train Loss: 1.6282 Grad: 251906.8750 LR: 7.1644e-06 | Elapse: 6.79s\n",
                        "Epoch 1 [100/733] | Train Loss: 1.5979 Grad: 202741.2969 LR: 1.6012e-05 | Elapse: 13.44s\n",
                        "Epoch 1 [150/733] | Train Loss: 1.5430 Grad: 222570.1406 LR: 2.9422e-05 | Elapse: 20.14s\n",
                        "Epoch 1 [200/733] | Train Loss: 1.4903 Grad: 147652.2344 LR: 4.5695e-05 | Elapse: 26.80s\n",
                        "Epoch 1 [250/733] | Train Loss: 1.4356 Grad: 149892.4688 LR: 6.2767e-05 | Elapse: 33.49s\n",
                        "Epoch 1 [300/733] | Train Loss: 1.3814 Grad: 140239.5000 LR: 7.8474e-05 | Elapse: 40.14s\n",
                        "Epoch 1 [350/733] | Train Loss: 1.3191 Grad: 114534.6094 LR: 9.0825e-05 | Elapse: 46.84s\n",
                        "Epoch 1 [400/733] | Train Loss: 1.2693 Grad: 168203.8750 LR: 9.8253e-05 | Elapse: 53.50s\n",
                        "Epoch 1 [450/733] | Train Loss: 1.2257 Grad: 68748.3672 LR: 9.9998e-05 | Elapse: 60.17s\n",
                        "Epoch 1 [500/733] | Train Loss: 1.1841 Grad: 62237.9648 LR: 9.9939e-05 | Elapse: 66.84s\n",
                        "Epoch 1 [550/733] | Train Loss: 1.1580 Grad: 80620.5781 LR: 9.9802e-05 | Elapse: 73.51s\n",
                        "Epoch 1 [600/733] | Train Loss: 1.1313 Grad: 61301.0117 LR: 9.9586e-05 | Elapse: 80.18s\n",
                        "Epoch 1 [650/733] | Train Loss: 1.1071 Grad: 77367.7266 LR: 9.9293e-05 | Elapse: 86.83s\n",
                        "Epoch 1 [700/733] | Train Loss: 1.0854 Grad: 65364.8672 LR: 9.8922e-05 | Elapse: 93.51s\n",
                        "Epoch 1 [732/733] | Train Loss: 1.0716 Grad: 84792.0234 LR: 9.8644e-05 | Elapse: 97.79s\n"
                    ]
                },
                {
                    "data": {
                        "application/vnd.jupyter.widget-view+json": {
                            "model_id": "acf134f38edd418fb2bbe502103c72d6",
                            "version_major": 2,
                            "version_minor": 0
                        },
                        "text/plain": [
                            "Valid [0]:   0%|          | 0/203 [00:00<?, ?batch/s]"
                        ]
                    },
                    "metadata": {},
                    "output_type": "display_data"
                },
                {
                    "name": "stdout",
                    "output_type": "stream",
                    "text": [
                        "Epoch 1 [0/203] | Valid Loss: 0.3834 | Elapse: 0.09s\n",
                        "Epoch 1 [50/203] | Valid Loss: 0.6651 | Elapse: 4.13s\n",
                        "Epoch 1 [100/203] | Valid Loss: 0.6904 | Elapse: 8.16s\n",
                        "Epoch 1 [150/203] | Valid Loss: 0.6689 | Elapse: 12.21s\n"
                    ]
                },
                {
                    "name": "stderr",
                    "output_type": "stream",
                    "text": [
                        "----------------------------------------------------------------------------------------------------\n",
                        "Epoch 1 - Average Loss: (train) 1.0716; (valid) 0.6650 | Time: 114.24s\n",
                        "Best model found in epoch 1 | valid loss: 0.6650\n"
                    ]
                },
                {
                    "name": "stdout",
                    "output_type": "stream",
                    "text": [
                        "Epoch 1 [200/203] | Valid Loss: 0.6627 | Elapse: 16.27s\n",
                        "Epoch 1 [202/203] | Valid Loss: 0.6650 | Elapse: 16.44s\n"
                    ]
                },
                {
                    "data": {
                        "application/vnd.jupyter.widget-view+json": {
                            "model_id": "3830034c09b94cbfab3da1532b3b3e9b",
                            "version_major": 2,
                            "version_minor": 0
                        },
                        "text/plain": [
                            "Train [1]:   0%|          | 0/733 [00:00<?, ?batch/s]"
                        ]
                    },
                    "metadata": {},
                    "output_type": "display_data"
                },
                {
                    "name": "stdout",
                    "output_type": "stream",
                    "text": [
                        "Epoch 2 [0/733] | Train Loss: 0.7282 Grad: 290325.2812 LR: 9.8634e-05 | Elapse: 0.15s\n",
                        "Epoch 2 [50/733] | Train Loss: 0.7012 Grad: 73564.9922 LR: 9.8136e-05 | Elapse: 6.83s\n",
                        "Epoch 2 [100/733] | Train Loss: 0.7075 Grad: 70962.0938 LR: 9.7561e-05 | Elapse: 13.54s\n",
                        "Epoch 2 [150/733] | Train Loss: 0.7107 Grad: 86232.2734 LR: 9.6912e-05 | Elapse: 20.21s\n",
                        "Epoch 2 [200/733] | Train Loss: 0.7174 Grad: 63737.5312 LR: 9.6189e-05 | Elapse: 26.88s\n",
                        "Epoch 2 [250/733] | Train Loss: 0.7118 Grad: 78224.4531 LR: 9.5393e-05 | Elapse: 33.55s\n",
                        "Epoch 2 [300/733] | Train Loss: 0.7022 Grad: 57721.3359 LR: 9.4526e-05 | Elapse: 40.23s\n",
                        "Epoch 2 [350/733] | Train Loss: 0.6838 Grad: 46826.6289 LR: 9.3589e-05 | Elapse: 46.91s\n",
                        "Epoch 2 [400/733] | Train Loss: 0.6697 Grad: 102885.3438 LR: 9.2583e-05 | Elapse: 53.60s\n",
                        "Epoch 2 [450/733] | Train Loss: 0.6570 Grad: 64450.0703 LR: 9.1510e-05 | Elapse: 60.28s\n",
                        "Epoch 2 [500/733] | Train Loss: 0.6484 Grad: 54718.0820 LR: 9.0372e-05 | Elapse: 66.94s\n",
                        "Epoch 2 [550/733] | Train Loss: 0.6455 Grad: 65108.9102 LR: 8.9170e-05 | Elapse: 73.60s\n",
                        "Epoch 2 [600/733] | Train Loss: 0.6413 Grad: 58524.0703 LR: 8.7906e-05 | Elapse: 80.30s\n",
                        "Epoch 2 [650/733] | Train Loss: 0.6357 Grad: 84607.0547 LR: 8.6583e-05 | Elapse: 86.98s\n",
                        "Epoch 2 [700/733] | Train Loss: 0.6298 Grad: 72827.6016 LR: 8.5202e-05 | Elapse: 93.65s\n",
                        "Epoch 2 [732/733] | Train Loss: 0.6261 Grad: 62066.6094 LR: 8.4289e-05 | Elapse: 97.97s\n"
                    ]
                },
                {
                    "data": {
                        "application/vnd.jupyter.widget-view+json": {
                            "model_id": "9995ffaabb9d4b39a1aa4fa58e776eb4",
                            "version_major": 2,
                            "version_minor": 0
                        },
                        "text/plain": [
                            "Valid [1]:   0%|          | 0/203 [00:00<?, ?batch/s]"
                        ]
                    },
                    "metadata": {},
                    "output_type": "display_data"
                },
                {
                    "name": "stdout",
                    "output_type": "stream",
                    "text": [
                        "Epoch 2 [0/203] | Valid Loss: 0.2783 | Elapse: 0.08s\n",
                        "Epoch 2 [50/203] | Valid Loss: 0.6099 | Elapse: 4.12s\n",
                        "Epoch 2 [100/203] | Valid Loss: 0.6345 | Elapse: 8.15s\n",
                        "Epoch 2 [150/203] | Valid Loss: 0.6210 | Elapse: 12.20s\n"
                    ]
                },
                {
                    "name": "stderr",
                    "output_type": "stream",
                    "text": [
                        "----------------------------------------------------------------------------------------------------\n",
                        "Epoch 2 - Average Loss: (train) 0.6261; (valid) 0.6526 | Time: 114.37s\n",
                        "Best model found in epoch 2 | valid loss: 0.6526\n"
                    ]
                },
                {
                    "name": "stdout",
                    "output_type": "stream",
                    "text": [
                        "Epoch 2 [200/203] | Valid Loss: 0.6498 | Elapse: 16.25s\n",
                        "Epoch 2 [202/203] | Valid Loss: 0.6526 | Elapse: 16.39s\n"
                    ]
                },
                {
                    "data": {
                        "application/vnd.jupyter.widget-view+json": {
                            "model_id": "559a62cb158445fba8530cc916763287",
                            "version_major": 2,
                            "version_minor": 0
                        },
                        "text/plain": [
                            "Train [2]:   0%|          | 0/733 [00:00<?, ?batch/s]"
                        ]
                    },
                    "metadata": {},
                    "output_type": "display_data"
                },
                {
                    "name": "stdout",
                    "output_type": "stream",
                    "text": [
                        "Epoch 3 [0/733] | Train Loss: 0.4220 Grad: 219613.5000 LR: 8.4261e-05 | Elapse: 0.14s\n",
                        "Epoch 3 [50/733] | Train Loss: 0.5165 Grad: 70017.5312 LR: 8.2789e-05 | Elapse: 6.78s\n",
                        "Epoch 3 [100/733] | Train Loss: 0.5151 Grad: 66913.3516 LR: 8.1266e-05 | Elapse: 13.45s\n",
                        "Epoch 3 [150/733] | Train Loss: 0.5200 Grad: 84060.1172 LR: 7.9694e-05 | Elapse: 20.13s\n",
                        "Epoch 3 [200/733] | Train Loss: 0.5208 Grad: 89866.9062 LR: 7.8075e-05 | Elapse: 26.79s\n",
                        "Epoch 3 [250/733] | Train Loss: 0.5181 Grad: 70034.5312 LR: 7.6412e-05 | Elapse: 33.47s\n",
                        "Epoch 3 [300/733] | Train Loss: 0.5133 Grad: 66097.3125 LR: 7.4707e-05 | Elapse: 40.15s\n",
                        "Epoch 3 [350/733] | Train Loss: 0.5018 Grad: 60513.3320 LR: 7.2964e-05 | Elapse: 46.85s\n",
                        "Epoch 3 [400/733] | Train Loss: 0.4898 Grad: 69706.3047 LR: 7.1184e-05 | Elapse: 53.55s\n",
                        "Epoch 3 [450/733] | Train Loss: 0.4813 Grad: 69643.1719 LR: 6.9371e-05 | Elapse: 60.25s\n",
                        "Epoch 3 [500/733] | Train Loss: 0.4720 Grad: 52940.4805 LR: 6.7527e-05 | Elapse: 66.94s\n",
                        "Epoch 3 [550/733] | Train Loss: 0.4704 Grad: 64783.6289 LR: 6.5656e-05 | Elapse: 73.60s\n",
                        "Epoch 3 [600/733] | Train Loss: 0.4664 Grad: 62606.6719 LR: 6.3761e-05 | Elapse: 80.28s\n",
                        "Epoch 3 [650/733] | Train Loss: 0.4609 Grad: 99716.3672 LR: 6.1843e-05 | Elapse: 86.94s\n",
                        "Epoch 3 [700/733] | Train Loss: 0.4572 Grad: 83423.3984 LR: 5.9907e-05 | Elapse: 93.60s\n",
                        "Epoch 3 [732/733] | Train Loss: 0.4537 Grad: 52884.3164 LR: 5.8660e-05 | Elapse: 97.87s\n"
                    ]
                },
                {
                    "data": {
                        "application/vnd.jupyter.widget-view+json": {
                            "model_id": "8f43c0afce9c4d868084e1556998eb74",
                            "version_major": 2,
                            "version_minor": 0
                        },
                        "text/plain": [
                            "Valid [2]:   0%|          | 0/203 [00:00<?, ?batch/s]"
                        ]
                    },
                    "metadata": {},
                    "output_type": "display_data"
                },
                {
                    "name": "stdout",
                    "output_type": "stream",
                    "text": [
                        "Epoch 3 [0/203] | Valid Loss: 0.2076 | Elapse: 0.08s\n",
                        "Epoch 3 [50/203] | Valid Loss: 0.6445 | Elapse: 4.12s\n",
                        "Epoch 3 [100/203] | Valid Loss: 0.6733 | Elapse: 8.16s\n",
                        "Epoch 3 [150/203] | Valid Loss: 0.6647 | Elapse: 12.21s\n"
                    ]
                },
                {
                    "name": "stderr",
                    "output_type": "stream",
                    "text": [
                        "----------------------------------------------------------------------------------------------------\n",
                        "Epoch 3 - Average Loss: (train) 0.4537; (valid) 0.7063 | Time: 114.28s\n"
                    ]
                },
                {
                    "name": "stdout",
                    "output_type": "stream",
                    "text": [
                        "Epoch 3 [200/203] | Valid Loss: 0.7030 | Elapse: 16.26s\n",
                        "Epoch 3 [202/203] | Valid Loss: 0.7063 | Elapse: 16.40s\n"
                    ]
                },
                {
                    "data": {
                        "application/vnd.jupyter.widget-view+json": {
                            "model_id": "539fec97af124842b3383dc52ac56fb3",
                            "version_major": 2,
                            "version_minor": 0
                        },
                        "text/plain": [
                            "Train [3]:   0%|          | 0/733 [00:00<?, ?batch/s]"
                        ]
                    },
                    "metadata": {},
                    "output_type": "display_data"
                },
                {
                    "name": "stdout",
                    "output_type": "stream",
                    "text": [
                        "Epoch 4 [0/733] | Train Loss: 0.2909 Grad: 205967.6875 LR: 5.8621e-05 | Elapse: 0.14s\n",
                        "Epoch 4 [50/733] | Train Loss: 0.3879 Grad: 97820.6250 LR: 5.6661e-05 | Elapse: 6.79s\n",
                        "Epoch 4 [100/733] | Train Loss: 0.3792 Grad: 55376.1211 LR: 5.4690e-05 | Elapse: 13.46s\n",
                        "Epoch 4 [150/733] | Train Loss: 0.3759 Grad: 103497.2891 LR: 5.2712e-05 | Elapse: 20.14s\n",
                        "Epoch 4 [200/733] | Train Loss: 0.3745 Grad: 73665.5312 LR: 5.0730e-05 | Elapse: 26.81s\n",
                        "Epoch 4 [250/733] | Train Loss: 0.3725 Grad: 67725.0469 LR: 4.8747e-05 | Elapse: 33.48s\n",
                        "Epoch 4 [300/733] | Train Loss: 0.3670 Grad: 71266.8984 LR: 4.6766e-05 | Elapse: 40.15s\n",
                        "Epoch 4 [350/733] | Train Loss: 0.3609 Grad: 46939.9609 LR: 4.4789e-05 | Elapse: 46.83s\n",
                        "Epoch 4 [400/733] | Train Loss: 0.3516 Grad: 85950.6328 LR: 4.2821e-05 | Elapse: 53.50s\n",
                        "Epoch 4 [450/733] | Train Loss: 0.3442 Grad: 48108.0430 LR: 4.0865e-05 | Elapse: 60.17s\n",
                        "Epoch 4 [500/733] | Train Loss: 0.3381 Grad: 74034.7109 LR: 3.8923e-05 | Elapse: 66.86s\n",
                        "Epoch 4 [550/733] | Train Loss: 0.3367 Grad: 88611.2891 LR: 3.6998e-05 | Elapse: 73.53s\n",
                        "Epoch 4 [600/733] | Train Loss: 0.3330 Grad: 67002.1094 LR: 3.5094e-05 | Elapse: 80.20s\n",
                        "Epoch 4 [650/733] | Train Loss: 0.3289 Grad: 113956.4688 LR: 3.3213e-05 | Elapse: 86.86s\n",
                        "Epoch 4 [700/733] | Train Loss: 0.3251 Grad: 67775.1484 LR: 3.1359e-05 | Elapse: 93.53s\n",
                        "Epoch 4 [732/733] | Train Loss: 0.3226 Grad: 43417.1094 LR: 3.0188e-05 | Elapse: 97.81s\n"
                    ]
                },
                {
                    "data": {
                        "application/vnd.jupyter.widget-view+json": {
                            "model_id": "53773dd662b1454e934e66a060d1cd3d",
                            "version_major": 2,
                            "version_minor": 0
                        },
                        "text/plain": [
                            "Valid [3]:   0%|          | 0/203 [00:00<?, ?batch/s]"
                        ]
                    },
                    "metadata": {},
                    "output_type": "display_data"
                },
                {
                    "name": "stdout",
                    "output_type": "stream",
                    "text": [
                        "Epoch 4 [0/203] | Valid Loss: 0.1820 | Elapse: 0.09s\n",
                        "Epoch 4 [50/203] | Valid Loss: 0.6599 | Elapse: 4.12s\n",
                        "Epoch 4 [100/203] | Valid Loss: 0.6979 | Elapse: 8.15s\n",
                        "Epoch 4 [150/203] | Valid Loss: 0.7013 | Elapse: 12.21s\n"
                    ]
                },
                {
                    "name": "stderr",
                    "output_type": "stream",
                    "text": [
                        "----------------------------------------------------------------------------------------------------\n",
                        "Epoch 4 - Average Loss: (train) 0.3226; (valid) 0.7650 | Time: 114.23s\n"
                    ]
                },
                {
                    "name": "stdout",
                    "output_type": "stream",
                    "text": [
                        "Epoch 4 [200/203] | Valid Loss: 0.7609 | Elapse: 16.26s\n",
                        "Epoch 4 [202/203] | Valid Loss: 0.7650 | Elapse: 16.41s\n"
                    ]
                },
                {
                    "data": {
                        "application/vnd.jupyter.widget-view+json": {
                            "model_id": "3bf30729337e4180aa554d7ce78e0f45",
                            "version_major": 2,
                            "version_minor": 0
                        },
                        "text/plain": [
                            "Train [4]:   0%|          | 0/733 [00:00<?, ?batch/s]"
                        ]
                    },
                    "metadata": {},
                    "output_type": "display_data"
                },
                {
                    "name": "stdout",
                    "output_type": "stream",
                    "text": [
                        "Epoch 5 [0/733] | Train Loss: 0.2472 Grad: nan LR: 3.0151e-05 | Elapse: 0.14s\n",
                        "Epoch 5 [50/733] | Train Loss: 0.2937 Grad: 56320.3516 LR: 2.8347e-05 | Elapse: 6.89s\n",
                        "Epoch 5 [100/733] | Train Loss: 0.2727 Grad: 66341.1797 LR: 2.6578e-05 | Elapse: 13.57s\n",
                        "Epoch 5 [150/733] | Train Loss: 0.2715 Grad: 75635.3516 LR: 2.4845e-05 | Elapse: 20.26s\n",
                        "Epoch 5 [200/733] | Train Loss: 0.2713 Grad: 115089.4375 LR: 2.3152e-05 | Elapse: 26.93s\n",
                        "Epoch 5 [250/733] | Train Loss: 0.2697 Grad: 65154.5469 LR: 2.1501e-05 | Elapse: 33.60s\n",
                        "Epoch 5 [300/733] | Train Loss: 0.2671 Grad: 52782.8125 LR: 1.9895e-05 | Elapse: 40.34s\n",
                        "Epoch 5 [350/733] | Train Loss: 0.2662 Grad: 46993.3711 LR: 1.8336e-05 | Elapse: 47.03s\n",
                        "Epoch 5 [400/733] | Train Loss: 0.2592 Grad: 70344.2656 LR: 1.6828e-05 | Elapse: 53.71s\n",
                        "Epoch 5 [450/733] | Train Loss: 0.2551 Grad: 35379.7305 LR: 1.5371e-05 | Elapse: 60.40s\n",
                        "Epoch 5 [500/733] | Train Loss: 0.2524 Grad: 66460.1953 LR: 1.3969e-05 | Elapse: 67.07s\n",
                        "Epoch 5 [550/733] | Train Loss: 0.2525 Grad: 40493.9883 LR: 1.2624e-05 | Elapse: 73.73s\n",
                        "Epoch 5 [600/733] | Train Loss: 0.2511 Grad: 62113.8672 LR: 1.1338e-05 | Elapse: 80.40s\n",
                        "Epoch 5 [650/733] | Train Loss: 0.2490 Grad: 110968.2422 LR: 1.0113e-05 | Elapse: 87.06s\n",
                        "Epoch 5 [700/733] | Train Loss: 0.2471 Grad: 53849.3672 LR: 8.9506e-06 | Elapse: 93.73s\n",
                        "Epoch 5 [732/733] | Train Loss: 0.2450 Grad: 52017.7891 LR: 8.2405e-06 | Elapse: 98.00s\n"
                    ]
                },
                {
                    "data": {
                        "application/vnd.jupyter.widget-view+json": {
                            "model_id": "7e60a5af4e044158b0644eade0610a07",
                            "version_major": 2,
                            "version_minor": 0
                        },
                        "text/plain": [
                            "Valid [4]:   0%|          | 0/203 [00:00<?, ?batch/s]"
                        ]
                    },
                    "metadata": {},
                    "output_type": "display_data"
                },
                {
                    "name": "stdout",
                    "output_type": "stream",
                    "text": [
                        "Epoch 5 [0/203] | Valid Loss: 0.1910 | Elapse: 0.08s\n",
                        "Epoch 5 [50/203] | Valid Loss: 0.6714 | Elapse: 4.11s\n",
                        "Epoch 5 [100/203] | Valid Loss: 0.7101 | Elapse: 8.13s\n",
                        "Epoch 5 [150/203] | Valid Loss: 0.7158 | Elapse: 12.17s\n"
                    ]
                },
                {
                    "name": "stderr",
                    "output_type": "stream",
                    "text": [
                        "----------------------------------------------------------------------------------------------------\n",
                        "Epoch 5 - Average Loss: (train) 0.2450; (valid) 0.7879 | Time: 114.36s\n"
                    ]
                },
                {
                    "name": "stdout",
                    "output_type": "stream",
                    "text": [
                        "Epoch 5 [200/203] | Valid Loss: 0.7837 | Elapse: 16.21s\n",
                        "Epoch 5 [202/203] | Valid Loss: 0.7879 | Elapse: 16.35s\n"
                    ]
                },
                {
                    "data": {
                        "application/vnd.jupyter.widget-view+json": {
                            "model_id": "633bb693d41d4bdf9f963096269db069",
                            "version_major": 2,
                            "version_minor": 0
                        },
                        "text/plain": [
                            "Train [5]:   0%|          | 0/733 [00:00<?, ?batch/s]"
                        ]
                    },
                    "metadata": {},
                    "output_type": "display_data"
                },
                {
                    "name": "stdout",
                    "output_type": "stream",
                    "text": [
                        "Epoch 6 [0/733] | Train Loss: 0.2416 Grad: 297675.2188 LR: 8.2188e-06 | Elapse: 0.14s\n",
                        "Epoch 6 [50/733] | Train Loss: 0.2446 Grad: 62775.9609 LR: 7.1647e-06 | Elapse: 6.79s\n",
                        "Epoch 6 [100/733] | Train Loss: 0.2247 Grad: 41137.2031 LR: 6.1781e-06 | Elapse: 13.45s\n",
                        "Epoch 6 [150/733] | Train Loss: 0.2263 Grad: 44554.7773 LR: 5.2605e-06 | Elapse: 20.14s\n",
                        "Epoch 6 [200/733] | Train Loss: 0.2254 Grad: 70983.3438 LR: 4.4134e-06 | Elapse: 26.83s\n",
                        "Epoch 6 [250/733] | Train Loss: 0.2260 Grad: 50111.1992 LR: 3.6382e-06 | Elapse: 33.55s\n",
                        "Epoch 6 [300/733] | Train Loss: 0.2233 Grad: 43561.6875 LR: 2.9359e-06 | Elapse: 40.25s\n",
                        "Epoch 6 [350/733] | Train Loss: 0.2245 Grad: 63304.8555 LR: 2.3078e-06 | Elapse: 47.03s\n",
                        "Epoch 6 [400/733] | Train Loss: 0.2193 Grad: 70181.3750 LR: 1.7549e-06 | Elapse: 53.71s\n",
                        "Epoch 6 [450/733] | Train Loss: 0.2168 Grad: 23322.7949 LR: 1.2779e-06 | Elapse: 60.41s\n",
                        "Epoch 6 [500/733] | Train Loss: 0.2147 Grad: 74096.8594 LR: 8.7768e-07 | Elapse: 67.15s\n",
                        "Epoch 6 [550/733] | Train Loss: 0.2170 Grad: 36664.8125 LR: 5.5485e-07 | Elapse: 73.83s\n",
                        "Epoch 6 [600/733] | Train Loss: 0.2165 Grad: 55549.4844 LR: 3.0991e-07 | Elapse: 80.52s\n",
                        "Epoch 6 [650/733] | Train Loss: 0.2151 Grad: 112810.6094 LR: 1.4325e-07 | Elapse: 87.20s\n",
                        "Epoch 6 [700/733] | Train Loss: 0.2147 Grad: 54828.7773 LR: 5.5128e-08 | Elapse: 93.87s\n",
                        "Epoch 6 [732/733] | Train Loss: 0.2136 Grad: 43569.3203 LR: 4.0016e-08 | Elapse: 98.17s\n"
                    ]
                },
                {
                    "data": {
                        "application/vnd.jupyter.widget-view+json": {
                            "model_id": "546dcb8108554e47acefcbd4d36ecba8",
                            "version_major": 2,
                            "version_minor": 0
                        },
                        "text/plain": [
                            "Valid [5]:   0%|          | 0/203 [00:00<?, ?batch/s]"
                        ]
                    },
                    "metadata": {},
                    "output_type": "display_data"
                },
                {
                    "name": "stdout",
                    "output_type": "stream",
                    "text": [
                        "Epoch 6 [0/203] | Valid Loss: 0.1902 | Elapse: 0.09s\n",
                        "Epoch 6 [50/203] | Valid Loss: 0.6810 | Elapse: 4.12s\n",
                        "Epoch 6 [100/203] | Valid Loss: 0.7243 | Elapse: 8.15s\n",
                        "Epoch 6 [150/203] | Valid Loss: 0.7255 | Elapse: 12.20s\n"
                    ]
                },
                {
                    "name": "stderr",
                    "output_type": "stream",
                    "text": [
                        "----------------------------------------------------------------------------------------------------\n",
                        "Epoch 6 - Average Loss: (train) 0.2136; (valid) 0.7913 | Time: 114.56s\n"
                    ]
                },
                {
                    "name": "stdout",
                    "output_type": "stream",
                    "text": [
                        "Epoch 6 [200/203] | Valid Loss: 0.7871 | Elapse: 16.25s\n",
                        "Epoch 6 [202/203] | Valid Loss: 0.7913 | Elapse: 16.39s\n"
                    ]
                },
                {
                    "name": "stderr",
                    "output_type": "stream",
                    "text": [
                        "====================================================================================================\n",
                        "Fold 2 Valid Loss: (Easy) 0.6140 | (Hard) 0.7353\n",
                        "Elapse: 11.74 min \n",
                        "====================================================================================================\n",
                        "- Second Stage \n",
                        "Use Checkpoint: DualEncoder_B0_fold_2_stage_1.pth\n"
                    ]
                },
                {
                    "data": {
                        "application/vnd.jupyter.widget-view+json": {
                            "model_id": "e20adfde6f3d45de9824dbf5212e5722",
                            "version_major": 2,
                            "version_minor": 0
                        },
                        "text/plain": [
                            "Train [0]:   0%|          | 0/318 [00:00<?, ?batch/s]"
                        ]
                    },
                    "metadata": {},
                    "output_type": "display_data"
                },
                {
                    "name": "stderr",
                    "output_type": "stream",
                    "text": [
                        "/home/shiyi/miniconda3/envs/kaggle/lib/python3.11/site-packages/torch/optim/lr_scheduler.py:143: UserWarning: Detected call of `lr_scheduler.step()` before `optimizer.step()`. In PyTorch 1.1.0 and later, you should call them in the opposite order: `optimizer.step()` before `lr_scheduler.step()`.  Failure to do this will result in PyTorch skipping the first value of the learning rate schedule. See more details at https://pytorch.org/docs/stable/optim.html#how-to-adjust-learning-rate\n",
                        "  warnings.warn(\"Detected call of `lr_scheduler.step()` before `optimizer.step()`. \"\n"
                    ]
                },
                {
                    "name": "stdout",
                    "output_type": "stream",
                    "text": [
                        "Epoch 1 [0/318] | Train Loss: 0.9786 Grad: nan LR: 4.0066e-06 | Elapse: 0.13s\n",
                        "Epoch 1 [50/318] | Train Loss: 1.0024 Grad: 50441.3711 LR: 2.0111e-05 | Elapse: 6.81s\n",
                        "Epoch 1 [100/318] | Train Loss: 0.8835 Grad: 50794.8281 LR: 5.6838e-05 | Elapse: 13.51s\n",
                        "Epoch 1 [150/318] | Train Loss: 0.7851 Grad: 39454.6016 LR: 9.0437e-05 | Elapse: 20.22s\n",
                        "Epoch 1 [200/318] | Train Loss: 0.7138 Grad: 23514.6992 LR: 9.9990e-05 | Elapse: 27.00s\n",
                        "Epoch 1 [250/318] | Train Loss: 0.6664 Grad: 25944.3496 LR: 9.9687e-05 | Elapse: 33.70s\n",
                        "Epoch 1 [300/318] | Train Loss: 0.6296 Grad: 28082.1992 LR: 9.8969e-05 | Elapse: 40.44s\n",
                        "Epoch 1 [317/318] | Train Loss: 0.6188 Grad: 24952.4609 LR: 9.8632e-05 | Elapse: 42.71s\n"
                    ]
                },
                {
                    "data": {
                        "application/vnd.jupyter.widget-view+json": {
                            "model_id": "774c3ea6dee04bd1a72d3d9f2655d662",
                            "version_major": 2,
                            "version_minor": 0
                        },
                        "text/plain": [
                            "Valid [0]:   0%|          | 0/203 [00:00<?, ?batch/s]"
                        ]
                    },
                    "metadata": {},
                    "output_type": "display_data"
                },
                {
                    "name": "stdout",
                    "output_type": "stream",
                    "text": [
                        "Epoch 1 [0/203] | Valid Loss: 0.5984 | Elapse: 0.08s\n",
                        "Epoch 1 [50/203] | Valid Loss: 0.7839 | Elapse: 4.11s\n",
                        "Epoch 1 [100/203] | Valid Loss: 0.8265 | Elapse: 8.15s\n",
                        "Epoch 1 [150/203] | Valid Loss: 0.7637 | Elapse: 12.19s\n"
                    ]
                },
                {
                    "name": "stderr",
                    "output_type": "stream",
                    "text": [
                        "----------------------------------------------------------------------------------------------------\n",
                        "Epoch 1 - Average Loss: (train) 0.6188; (valid) 0.6819 | Time: 59.09s\n",
                        "Best model found in epoch 1 | valid loss: 0.6819\n"
                    ]
                },
                {
                    "name": "stdout",
                    "output_type": "stream",
                    "text": [
                        "Epoch 1 [200/203] | Valid Loss: 0.6833 | Elapse: 16.23s\n",
                        "Epoch 1 [202/203] | Valid Loss: 0.6819 | Elapse: 16.37s\n"
                    ]
                },
                {
                    "data": {
                        "application/vnd.jupyter.widget-view+json": {
                            "model_id": "c80f00ade8b24469a8df2d4d5d0c36a7",
                            "version_major": 2,
                            "version_minor": 0
                        },
                        "text/plain": [
                            "Train [1]:   0%|          | 0/318 [00:00<?, ?batch/s]"
                        ]
                    },
                    "metadata": {},
                    "output_type": "display_data"
                },
                {
                    "name": "stdout",
                    "output_type": "stream",
                    "text": [
                        "Epoch 2 [0/318] | Train Loss: 0.5027 Grad: 218413.8906 LR: 9.8610e-05 | Elapse: 0.14s\n",
                        "Epoch 2 [50/318] | Train Loss: 0.4294 Grad: 102990.5938 LR: 9.7338e-05 | Elapse: 6.85s\n",
                        "Epoch 2 [100/318] | Train Loss: 0.4165 Grad: 96382.7031 LR: 9.5670e-05 | Elapse: 13.57s\n",
                        "Epoch 2 [150/318] | Train Loss: 0.3995 Grad: 88892.0859 LR: 9.3620e-05 | Elapse: 20.28s\n",
                        "Epoch 2 [200/318] | Train Loss: 0.3868 Grad: 58258.8086 LR: 9.1206e-05 | Elapse: 26.97s\n",
                        "Epoch 2 [250/318] | Train Loss: 0.3803 Grad: 80241.0859 LR: 8.8448e-05 | Elapse: 33.66s\n",
                        "Epoch 2 [300/318] | Train Loss: 0.3734 Grad: 99315.0781 LR: 8.5368e-05 | Elapse: 40.35s\n",
                        "Epoch 2 [317/318] | Train Loss: 0.3713 Grad: 81985.8438 LR: 8.4252e-05 | Elapse: 42.62s\n"
                    ]
                },
                {
                    "data": {
                        "application/vnd.jupyter.widget-view+json": {
                            "model_id": "4d24554214974ef4a973b508b1bc46ac",
                            "version_major": 2,
                            "version_minor": 0
                        },
                        "text/plain": [
                            "Valid [1]:   0%|          | 0/203 [00:00<?, ?batch/s]"
                        ]
                    },
                    "metadata": {},
                    "output_type": "display_data"
                },
                {
                    "name": "stdout",
                    "output_type": "stream",
                    "text": [
                        "Epoch 2 [0/203] | Valid Loss: 0.6237 | Elapse: 0.08s\n",
                        "Epoch 2 [50/203] | Valid Loss: 0.7686 | Elapse: 4.12s\n",
                        "Epoch 2 [100/203] | Valid Loss: 0.8069 | Elapse: 8.14s\n",
                        "Epoch 2 [150/203] | Valid Loss: 0.7469 | Elapse: 12.18s\n"
                    ]
                },
                {
                    "name": "stderr",
                    "output_type": "stream",
                    "text": [
                        "----------------------------------------------------------------------------------------------------\n",
                        "Epoch 2 - Average Loss: (train) 0.3713; (valid) 0.6642 | Time: 58.99s\n",
                        "Best model found in epoch 2 | valid loss: 0.6642\n"
                    ]
                },
                {
                    "name": "stdout",
                    "output_type": "stream",
                    "text": [
                        "Epoch 2 [200/203] | Valid Loss: 0.6656 | Elapse: 16.22s\n",
                        "Epoch 2 [202/203] | Valid Loss: 0.6642 | Elapse: 16.36s\n"
                    ]
                },
                {
                    "data": {
                        "application/vnd.jupyter.widget-view+json": {
                            "model_id": "b311df11f76b423daf1159b70089d03b",
                            "version_major": 2,
                            "version_minor": 0
                        },
                        "text/plain": [
                            "Train [2]:   0%|          | 0/318 [00:00<?, ?batch/s]"
                        ]
                    },
                    "metadata": {},
                    "output_type": "display_data"
                },
                {
                    "name": "stdout",
                    "output_type": "stream",
                    "text": [
                        "Epoch 3 [0/318] | Train Loss: 0.3581 Grad: 182982.3750 LR: 8.4185e-05 | Elapse: 0.14s\n",
                        "Epoch 3 [50/318] | Train Loss: 0.3504 Grad: 67600.4375 LR: 8.0710e-05 | Elapse: 6.81s\n",
                        "Epoch 3 [100/318] | Train Loss: 0.3412 Grad: 69912.7812 LR: 7.6978e-05 | Elapse: 13.48s\n",
                        "Epoch 3 [150/318] | Train Loss: 0.3284 Grad: 86355.0156 LR: 7.3021e-05 | Elapse: 20.16s\n",
                        "Epoch 3 [200/318] | Train Loss: 0.3207 Grad: 51242.4805 LR: 6.8872e-05 | Elapse: 26.84s\n",
                        "Epoch 3 [250/318] | Train Loss: 0.3153 Grad: 69004.2031 LR: 6.4565e-05 | Elapse: 33.52s\n",
                        "Epoch 3 [300/318] | Train Loss: 0.3093 Grad: 86753.7812 LR: 6.0136e-05 | Elapse: 40.20s\n",
                        "Epoch 3 [317/318] | Train Loss: 0.3078 Grad: 76678.8984 LR: 5.8609e-05 | Elapse: 42.47s\n"
                    ]
                },
                {
                    "data": {
                        "application/vnd.jupyter.widget-view+json": {
                            "model_id": "a43e26aa5e3842debb48e78298cd3122",
                            "version_major": 2,
                            "version_minor": 0
                        },
                        "text/plain": [
                            "Valid [2]:   0%|          | 0/203 [00:00<?, ?batch/s]"
                        ]
                    },
                    "metadata": {},
                    "output_type": "display_data"
                },
                {
                    "name": "stdout",
                    "output_type": "stream",
                    "text": [
                        "Epoch 3 [0/203] | Valid Loss: 0.6190 | Elapse: 0.08s\n",
                        "Epoch 3 [50/203] | Valid Loss: 0.7781 | Elapse: 4.11s\n",
                        "Epoch 3 [100/203] | Valid Loss: 0.8197 | Elapse: 8.12s\n",
                        "Epoch 3 [150/203] | Valid Loss: 0.7534 | Elapse: 12.15s\n"
                    ]
                },
                {
                    "name": "stderr",
                    "output_type": "stream",
                    "text": [
                        "----------------------------------------------------------------------------------------------------\n",
                        "Epoch 3 - Average Loss: (train) 0.3078; (valid) 0.6661 | Time: 58.83s\n"
                    ]
                },
                {
                    "name": "stdout",
                    "output_type": "stream",
                    "text": [
                        "Epoch 3 [200/203] | Valid Loss: 0.6676 | Elapse: 16.21s\n",
                        "Epoch 3 [202/203] | Valid Loss: 0.6661 | Elapse: 16.35s\n"
                    ]
                },
                {
                    "data": {
                        "application/vnd.jupyter.widget-view+json": {
                            "model_id": "4bcc5c87bb0442c2a0d6a364b5d78833",
                            "version_major": 2,
                            "version_minor": 0
                        },
                        "text/plain": [
                            "Train [3]:   0%|          | 0/318 [00:00<?, ?batch/s]"
                        ]
                    },
                    "metadata": {},
                    "output_type": "display_data"
                },
                {
                    "name": "stdout",
                    "output_type": "stream",
                    "text": [
                        "Epoch 4 [0/318] | Train Loss: 0.3213 Grad: 202390.9375 LR: 5.8519e-05 | Elapse: 0.15s\n",
                        "Epoch 4 [50/318] | Train Loss: 0.2892 Grad: 91567.5312 LR: 5.3984e-05 | Elapse: 6.82s\n",
                        "Epoch 4 [100/318] | Train Loss: 0.2860 Grad: 82843.5625 LR: 4.9417e-05 | Elapse: 13.51s\n",
                        "Epoch 4 [150/318] | Train Loss: 0.2775 Grad: 50734.1094 LR: 4.4854e-05 | Elapse: 20.19s\n",
                        "Epoch 4 [200/318] | Train Loss: 0.2707 Grad: 25706.1348 LR: 4.0334e-05 | Elapse: 26.87s\n",
                        "Epoch 4 [250/318] | Train Loss: 0.2656 Grad: 41452.4805 LR: 3.5896e-05 | Elapse: 33.56s\n",
                        "Epoch 4 [300/318] | Train Loss: 0.2601 Grad: 31760.1328 LR: 3.1576e-05 | Elapse: 40.26s\n",
                        "Epoch 4 [317/318] | Train Loss: 0.2593 Grad: 41455.1641 LR: 3.0140e-05 | Elapse: 42.55s\n"
                    ]
                },
                {
                    "data": {
                        "application/vnd.jupyter.widget-view+json": {
                            "model_id": "4098f900a8144673aa726b12d331395b",
                            "version_major": 2,
                            "version_minor": 0
                        },
                        "text/plain": [
                            "Valid [3]:   0%|          | 0/203 [00:00<?, ?batch/s]"
                        ]
                    },
                    "metadata": {},
                    "output_type": "display_data"
                },
                {
                    "name": "stdout",
                    "output_type": "stream",
                    "text": [
                        "Epoch 4 [0/203] | Valid Loss: 0.5926 | Elapse: 0.08s\n",
                        "Epoch 4 [50/203] | Valid Loss: 0.7851 | Elapse: 4.12s\n",
                        "Epoch 4 [100/203] | Valid Loss: 0.8283 | Elapse: 8.14s\n",
                        "Epoch 4 [150/203] | Valid Loss: 0.7606 | Elapse: 12.18s\n"
                    ]
                },
                {
                    "name": "stderr",
                    "output_type": "stream",
                    "text": [
                        "----------------------------------------------------------------------------------------------------\n",
                        "Epoch 4 - Average Loss: (train) 0.2593; (valid) 0.6714 | Time: 58.93s\n"
                    ]
                },
                {
                    "name": "stdout",
                    "output_type": "stream",
                    "text": [
                        "Epoch 4 [200/203] | Valid Loss: 0.6730 | Elapse: 16.23s\n",
                        "Epoch 4 [202/203] | Valid Loss: 0.6714 | Elapse: 16.37s\n"
                    ]
                },
                {
                    "data": {
                        "application/vnd.jupyter.widget-view+json": {
                            "model_id": "60107566d1fe43b98b5a3b82e1f80338",
                            "version_major": 2,
                            "version_minor": 0
                        },
                        "text/plain": [
                            "Train [4]:   0%|          | 0/318 [00:00<?, ?batch/s]"
                        ]
                    },
                    "metadata": {},
                    "output_type": "display_data"
                },
                {
                    "name": "stdout",
                    "output_type": "stream",
                    "text": [
                        "Epoch 5 [0/318] | Train Loss: 0.2643 Grad: 163888.8281 LR: 3.0056e-05 | Elapse: 0.15s\n",
                        "Epoch 5 [50/318] | Train Loss: 0.2461 Grad: 59785.2266 LR: 2.5954e-05 | Elapse: 6.85s\n",
                        "Epoch 5 [100/318] | Train Loss: 0.2424 Grad: 64743.3633 LR: 2.2053e-05 | Elapse: 13.61s\n",
                        "Epoch 5 [150/318] | Train Loss: 0.2358 Grad: 83629.9219 LR: 1.8386e-05 | Elapse: 20.36s\n",
                        "Epoch 5 [200/318] | Train Loss: 0.2318 Grad: 62709.3516 LR: 1.4984e-05 | Elapse: 27.12s\n",
                        "Epoch 5 [250/318] | Train Loss: 0.2291 Grad: 59188.9570 LR: 1.1875e-05 | Elapse: 33.82s\n",
                        "Epoch 5 [300/318] | Train Loss: 0.2270 Grad: 67575.5312 LR: 9.0840e-06 | Elapse: 40.52s\n",
                        "Epoch 5 [317/318] | Train Loss: 0.2267 Grad: 70623.5469 LR: 8.2121e-06 | Elapse: 42.79s\n"
                    ]
                },
                {
                    "data": {
                        "application/vnd.jupyter.widget-view+json": {
                            "model_id": "14d3ee6ccbb74fa39e686b1a4d2a03e3",
                            "version_major": 2,
                            "version_minor": 0
                        },
                        "text/plain": [
                            "Valid [4]:   0%|          | 0/203 [00:00<?, ?batch/s]"
                        ]
                    },
                    "metadata": {},
                    "output_type": "display_data"
                },
                {
                    "name": "stdout",
                    "output_type": "stream",
                    "text": [
                        "Epoch 5 [0/203] | Valid Loss: 0.5970 | Elapse: 0.08s\n",
                        "Epoch 5 [50/203] | Valid Loss: 0.7868 | Elapse: 4.11s\n",
                        "Epoch 5 [100/203] | Valid Loss: 0.8288 | Elapse: 8.15s\n",
                        "Epoch 5 [150/203] | Valid Loss: 0.7601 | Elapse: 12.20s\n"
                    ]
                },
                {
                    "name": "stderr",
                    "output_type": "stream",
                    "text": [
                        "----------------------------------------------------------------------------------------------------\n",
                        "Epoch 5 - Average Loss: (train) 0.2267; (valid) 0.6721 | Time: 59.17s\n"
                    ]
                },
                {
                    "name": "stdout",
                    "output_type": "stream",
                    "text": [
                        "Epoch 5 [200/203] | Valid Loss: 0.6734 | Elapse: 16.23s\n",
                        "Epoch 5 [202/203] | Valid Loss: 0.6721 | Elapse: 16.38s\n"
                    ]
                },
                {
                    "data": {
                        "application/vnd.jupyter.widget-view+json": {
                            "model_id": "4525bf34dcbc4d18b5bbc39fb180bf04",
                            "version_major": 2,
                            "version_minor": 0
                        },
                        "text/plain": [
                            "Train [5]:   0%|          | 0/318 [00:00<?, ?batch/s]"
                        ]
                    },
                    "metadata": {},
                    "output_type": "display_data"
                },
                {
                    "name": "stdout",
                    "output_type": "stream",
                    "text": [
                        "Epoch 6 [0/318] | Train Loss: 0.1762 Grad: 119353.6250 LR: 8.1621e-06 | Elapse: 0.14s\n",
                        "Epoch 6 [50/318] | Train Loss: 0.2278 Grad: 115141.2891 LR: 5.8423e-06 | Elapse: 6.81s\n",
                        "Epoch 6 [100/318] | Train Loss: 0.2233 Grad: 62530.6289 LR: 3.8919e-06 | Elapse: 13.48s\n",
                        "Epoch 6 [150/318] | Train Loss: 0.2187 Grad: 71841.4297 LR: 2.3272e-06 | Elapse: 20.16s\n",
                        "Epoch 6 [200/318] | Train Loss: 0.2165 Grad: 47899.9609 LR: 1.1613e-06 | Elapse: 26.85s\n",
                        "Epoch 6 [250/318] | Train Loss: 0.2155 Grad: 65860.1484 LR: 4.0390e-07 | Elapse: 33.54s\n",
                        "Epoch 6 [300/318] | Train Loss: 0.2138 Grad: 73031.4609 LR: 6.1411e-08 | Elapse: 40.23s\n",
                        "Epoch 6 [317/318] | Train Loss: 0.2140 Grad: 68095.1641 LR: 4.0084e-08 | Elapse: 42.51s\n"
                    ]
                },
                {
                    "data": {
                        "application/vnd.jupyter.widget-view+json": {
                            "model_id": "1005d988bc9f4d3889c097c69c8139d1",
                            "version_major": 2,
                            "version_minor": 0
                        },
                        "text/plain": [
                            "Valid [5]:   0%|          | 0/203 [00:00<?, ?batch/s]"
                        ]
                    },
                    "metadata": {},
                    "output_type": "display_data"
                },
                {
                    "name": "stdout",
                    "output_type": "stream",
                    "text": [
                        "Epoch 6 [0/203] | Valid Loss: 0.6023 | Elapse: 0.08s\n",
                        "Epoch 6 [50/203] | Valid Loss: 0.7871 | Elapse: 4.12s\n",
                        "Epoch 6 [100/203] | Valid Loss: 0.8294 | Elapse: 8.14s\n",
                        "Epoch 6 [150/203] | Valid Loss: 0.7616 | Elapse: 12.17s\n"
                    ]
                },
                {
                    "name": "stderr",
                    "output_type": "stream",
                    "text": [
                        "----------------------------------------------------------------------------------------------------\n",
                        "Epoch 6 - Average Loss: (train) 0.2140; (valid) 0.6741 | Time: 58.88s\n"
                    ]
                },
                {
                    "name": "stdout",
                    "output_type": "stream",
                    "text": [
                        "Epoch 6 [200/203] | Valid Loss: 0.6754 | Elapse: 16.21s\n",
                        "Epoch 6 [202/203] | Valid Loss: 0.6741 | Elapse: 16.36s\n"
                    ]
                },
                {
                    "name": "stderr",
                    "output_type": "stream",
                    "text": [
                        "====================================================================================================\n",
                        "Fold 2 Valid Loss: (Easy) 0.7786 | (Hard) 0.4198\n",
                        "Elapse: 5.92 min \n",
                        "====================================================================================================\n",
                        "====================================================================================================\n",
                        "Fold: 3 || Valid size 2908 \n",
                        "====================================================================================================\n",
                        "- First Stage \n"
                    ]
                },
                {
                    "data": {
                        "application/vnd.jupyter.widget-view+json": {
                            "model_id": "f58ebd9cf9af4479980d99a7dcc3b8ba",
                            "version_major": 2,
                            "version_minor": 0
                        },
                        "text/plain": [
                            "Train [0]:   0%|          | 0/749 [00:00<?, ?batch/s]"
                        ]
                    },
                    "metadata": {},
                    "output_type": "display_data"
                },
                {
                    "name": "stdout",
                    "output_type": "stream",
                    "text": [
                        "Epoch 1 [0/749] | Train Loss: 1.5675 Grad: 195546.7969 LR: 4.0012e-06 | Elapse: 0.15s\n",
                        "Epoch 1 [50/749] | Train Loss: 1.5881 Grad: 127073.9531 LR: 7.0318e-06 | Elapse: 6.76s\n",
                        "Epoch 1 [100/749] | Train Loss: 1.5637 Grad: 108519.1641 LR: 1.5525e-05 | Elapse: 13.38s\n",
                        "Epoch 1 [150/749] | Train Loss: 1.5157 Grad: 125262.3047 LR: 2.8448e-05 | Elapse: 20.04s\n",
                        "Epoch 1 [200/749] | Train Loss: 1.4701 Grad: 141791.8594 LR: 4.4232e-05 | Elapse: 26.67s\n",
                        "Epoch 1 [250/749] | Train Loss: 1.4243 Grad: 117597.4453 LR: 6.0960e-05 | Elapse: 33.31s\n",
                        "Epoch 1 [300/749] | Train Loss: 1.3782 Grad: 107792.3281 LR: 7.6599e-05 | Elapse: 40.01s\n",
                        "Epoch 1 [350/749] | Train Loss: 1.3266 Grad: 136863.2344 LR: 8.9251e-05 | Elapse: 46.64s\n",
                        "Epoch 1 [400/749] | Train Loss: 1.2775 Grad: 85795.5312 LR: 9.7377e-05 | Elapse: 53.28s\n",
                        "Epoch 1 [450/749] | Train Loss: 1.2327 Grad: 122787.1094 LR: 1.0000e-04 | Elapse: 59.95s\n",
                        "Epoch 1 [500/749] | Train Loss: 1.1907 Grad: 95393.1953 LR: 9.9958e-05 | Elapse: 66.58s\n",
                        "Epoch 1 [550/749] | Train Loss: 1.1556 Grad: 76605.9766 LR: 9.9841e-05 | Elapse: 73.25s\n",
                        "Epoch 1 [600/749] | Train Loss: 1.1269 Grad: 60097.5820 LR: 9.9649e-05 | Elapse: 79.88s\n",
                        "Epoch 1 [650/749] | Train Loss: 1.1064 Grad: 68840.1953 LR: 9.9382e-05 | Elapse: 86.52s\n",
                        "Epoch 1 [700/749] | Train Loss: 1.0823 Grad: 74923.8281 LR: 9.9041e-05 | Elapse: 93.16s\n",
                        "Epoch 1 [748/749] | Train Loss: 1.0613 Grad: 49009.3516 LR: 9.8644e-05 | Elapse: 99.56s\n"
                    ]
                },
                {
                    "data": {
                        "application/vnd.jupyter.widget-view+json": {
                            "model_id": "88d8bb1afa984d3fa470b6f126e75c2c",
                            "version_major": 2,
                            "version_minor": 0
                        },
                        "text/plain": [
                            "Valid [0]:   0%|          | 0/182 [00:00<?, ?batch/s]"
                        ]
                    },
                    "metadata": {},
                    "output_type": "display_data"
                },
                {
                    "name": "stdout",
                    "output_type": "stream",
                    "text": [
                        "Epoch 1 [0/182] | Valid Loss: 0.7629 | Elapse: 0.08s\n",
                        "Epoch 1 [50/182] | Valid Loss: 0.7358 | Elapse: 4.06s\n",
                        "Epoch 1 [100/182] | Valid Loss: 0.7311 | Elapse: 8.03s\n",
                        "Epoch 1 [150/182] | Valid Loss: 0.7210 | Elapse: 12.01s\n"
                    ]
                },
                {
                    "name": "stderr",
                    "output_type": "stream",
                    "text": [
                        "----------------------------------------------------------------------------------------------------\n",
                        "Epoch 1 - Average Loss: (train) 1.0613; (valid) 0.7147 | Time: 114.03s\n",
                        "Best model found in epoch 1 | valid loss: 0.7147\n"
                    ]
                },
                {
                    "name": "stdout",
                    "output_type": "stream",
                    "text": [
                        "Epoch 1 [181/182] | Valid Loss: 0.7147 | Elapse: 14.47s\n"
                    ]
                },
                {
                    "data": {
                        "application/vnd.jupyter.widget-view+json": {
                            "model_id": "3d36ca2adb2046bc81d479bf036ed669",
                            "version_major": 2,
                            "version_minor": 0
                        },
                        "text/plain": [
                            "Train [1]:   0%|          | 0/749 [00:00<?, ?batch/s]"
                        ]
                    },
                    "metadata": {},
                    "output_type": "display_data"
                },
                {
                    "name": "stdout",
                    "output_type": "stream",
                    "text": [
                        "Epoch 2 [0/749] | Train Loss: 0.6493 Grad: 221098.4375 LR: 9.8635e-05 | Elapse: 0.14s\n",
                        "Epoch 2 [50/749] | Train Loss: 0.7307 Grad: 27600.8652 LR: 9.8148e-05 | Elapse: 6.77s\n",
                        "Epoch 2 [100/749] | Train Loss: 0.7345 Grad: 29035.9551 LR: 9.7588e-05 | Elapse: 13.43s\n",
                        "Epoch 2 [150/749] | Train Loss: 0.7331 Grad: 59191.5898 LR: 9.6957e-05 | Elapse: 20.07s\n",
                        "Epoch 2 [200/749] | Train Loss: 0.7350 Grad: 43552.9219 LR: 9.6254e-05 | Elapse: 26.70s\n",
                        "Epoch 2 [250/749] | Train Loss: 0.7265 Grad: 34144.1992 LR: 9.5482e-05 | Elapse: 33.33s\n",
                        "Epoch 2 [300/749] | Train Loss: 0.7151 Grad: 39541.7578 LR: 9.4642e-05 | Elapse: 40.01s\n",
                        "Epoch 2 [350/749] | Train Loss: 0.7092 Grad: 37417.8438 LR: 9.3734e-05 | Elapse: 46.64s\n",
                        "Epoch 2 [400/749] | Train Loss: 0.6976 Grad: 43632.9375 LR: 9.2760e-05 | Elapse: 53.28s\n",
                        "Epoch 2 [450/749] | Train Loss: 0.6856 Grad: 58197.8203 LR: 9.1722e-05 | Elapse: 59.91s\n",
                        "Epoch 2 [500/749] | Train Loss: 0.6684 Grad: 42242.0703 LR: 9.0621e-05 | Elapse: 66.55s\n",
                        "Epoch 2 [550/749] | Train Loss: 0.6579 Grad: 45028.9375 LR: 8.9459e-05 | Elapse: 73.24s\n",
                        "Epoch 2 [600/749] | Train Loss: 0.6501 Grad: 32545.2188 LR: 8.8237e-05 | Elapse: 79.87s\n",
                        "Epoch 2 [650/749] | Train Loss: 0.6435 Grad: 19819.9512 LR: 8.6958e-05 | Elapse: 86.49s\n",
                        "Epoch 2 [700/749] | Train Loss: 0.6360 Grad: 41287.0117 LR: 8.5622e-05 | Elapse: 93.13s\n",
                        "Epoch 2 [748/749] | Train Loss: 0.6295 Grad: 47781.5312 LR: 8.4290e-05 | Elapse: 99.55s\n"
                    ]
                },
                {
                    "data": {
                        "application/vnd.jupyter.widget-view+json": {
                            "model_id": "58993b878a8d4ea9a6c6dc698a326a54",
                            "version_major": 2,
                            "version_minor": 0
                        },
                        "text/plain": [
                            "Valid [1]:   0%|          | 0/182 [00:00<?, ?batch/s]"
                        ]
                    },
                    "metadata": {},
                    "output_type": "display_data"
                },
                {
                    "name": "stdout",
                    "output_type": "stream",
                    "text": [
                        "Epoch 2 [0/182] | Valid Loss: 0.5702 | Elapse: 0.08s\n",
                        "Epoch 2 [50/182] | Valid Loss: 0.6471 | Elapse: 4.06s\n",
                        "Epoch 2 [100/182] | Valid Loss: 0.6388 | Elapse: 8.03s\n",
                        "Epoch 2 [150/182] | Valid Loss: 0.6540 | Elapse: 12.02s\n"
                    ]
                },
                {
                    "name": "stderr",
                    "output_type": "stream",
                    "text": [
                        "----------------------------------------------------------------------------------------------------\n",
                        "Epoch 2 - Average Loss: (train) 0.6295; (valid) 0.6676 | Time: 114.04s\n",
                        "Best model found in epoch 2 | valid loss: 0.6676\n"
                    ]
                },
                {
                    "name": "stdout",
                    "output_type": "stream",
                    "text": [
                        "Epoch 2 [181/182] | Valid Loss: 0.6676 | Elapse: 14.48s\n"
                    ]
                },
                {
                    "data": {
                        "application/vnd.jupyter.widget-view+json": {
                            "model_id": "7fc385e1a2c24eb48cfc68d2c2276e2f",
                            "version_major": 2,
                            "version_minor": 0
                        },
                        "text/plain": [
                            "Train [2]:   0%|          | 0/749 [00:00<?, ?batch/s]"
                        ]
                    },
                    "metadata": {},
                    "output_type": "display_data"
                },
                {
                    "name": "stdout",
                    "output_type": "stream",
                    "text": [
                        "Epoch 3 [0/749] | Train Loss: 0.5574 Grad: inf LR: 8.4262e-05 | Elapse: 0.13s\n",
                        "Epoch 3 [50/749] | Train Loss: 0.5198 Grad: 22084.6797 LR: 8.2822e-05 | Elapse: 6.75s\n",
                        "Epoch 3 [100/749] | Train Loss: 0.5193 Grad: 30047.1016 LR: 8.1334e-05 | Elapse: 13.38s\n",
                        "Epoch 3 [150/749] | Train Loss: 0.5223 Grad: 65293.8945 LR: 7.9797e-05 | Elapse: 20.01s\n",
                        "Epoch 3 [200/749] | Train Loss: 0.5278 Grad: 43815.0156 LR: 7.8216e-05 | Elapse: 26.67s\n",
                        "Epoch 3 [250/749] | Train Loss: 0.5209 Grad: 29786.8711 LR: 7.6593e-05 | Elapse: 33.32s\n",
                        "Epoch 3 [300/749] | Train Loss: 0.5137 Grad: 48229.0586 LR: 7.4929e-05 | Elapse: 39.95s\n",
                        "Epoch 3 [350/749] | Train Loss: 0.5106 Grad: 39955.2812 LR: 7.3228e-05 | Elapse: 46.58s\n",
                        "Epoch 3 [400/749] | Train Loss: 0.5045 Grad: 40986.1445 LR: 7.1492e-05 | Elapse: 53.25s\n",
                        "Epoch 3 [450/749] | Train Loss: 0.4968 Grad: 74909.1250 LR: 6.9723e-05 | Elapse: 59.89s\n",
                        "Epoch 3 [500/749] | Train Loss: 0.4841 Grad: 34201.1758 LR: 6.7925e-05 | Elapse: 66.56s\n",
                        "Epoch 3 [550/749] | Train Loss: 0.4758 Grad: 28634.7500 LR: 6.6100e-05 | Elapse: 73.21s\n",
                        "Epoch 3 [600/749] | Train Loss: 0.4722 Grad: 26531.9473 LR: 6.4250e-05 | Elapse: 79.84s\n",
                        "Epoch 3 [650/749] | Train Loss: 0.4663 Grad: 25630.9824 LR: 6.2379e-05 | Elapse: 86.48s\n",
                        "Epoch 3 [700/749] | Train Loss: 0.4595 Grad: 36334.0156 LR: 6.0490e-05 | Elapse: 93.10s\n",
                        "Epoch 3 [748/749] | Train Loss: 0.4546 Grad: 29713.9043 LR: 5.8661e-05 | Elapse: 99.47s\n"
                    ]
                },
                {
                    "data": {
                        "application/vnd.jupyter.widget-view+json": {
                            "model_id": "b477cfef33c54f7ab6bd088070d90d23",
                            "version_major": 2,
                            "version_minor": 0
                        },
                        "text/plain": [
                            "Valid [2]:   0%|          | 0/182 [00:00<?, ?batch/s]"
                        ]
                    },
                    "metadata": {},
                    "output_type": "display_data"
                },
                {
                    "name": "stdout",
                    "output_type": "stream",
                    "text": [
                        "Epoch 3 [0/182] | Valid Loss: 0.5335 | Elapse: 0.08s\n",
                        "Epoch 3 [50/182] | Valid Loss: 0.6780 | Elapse: 4.06s\n",
                        "Epoch 3 [100/182] | Valid Loss: 0.6589 | Elapse: 8.03s\n",
                        "Epoch 3 [150/182] | Valid Loss: 0.6914 | Elapse: 12.04s\n"
                    ]
                },
                {
                    "name": "stderr",
                    "output_type": "stream",
                    "text": [
                        "----------------------------------------------------------------------------------------------------\n",
                        "Epoch 3 - Average Loss: (train) 0.4546; (valid) 0.7238 | Time: 113.96s\n"
                    ]
                },
                {
                    "name": "stdout",
                    "output_type": "stream",
                    "text": [
                        "Epoch 3 [181/182] | Valid Loss: 0.7238 | Elapse: 14.49s\n"
                    ]
                },
                {
                    "data": {
                        "application/vnd.jupyter.widget-view+json": {
                            "model_id": "57898c72395f4fc1aa9e930d97ea5e21",
                            "version_major": 2,
                            "version_minor": 0
                        },
                        "text/plain": [
                            "Train [3]:   0%|          | 0/749 [00:00<?, ?batch/s]"
                        ]
                    },
                    "metadata": {},
                    "output_type": "display_data"
                },
                {
                    "name": "stdout",
                    "output_type": "stream",
                    "text": [
                        "Epoch 4 [0/749] | Train Loss: 0.4459 Grad: 284835.0625 LR: 5.8622e-05 | Elapse: 0.14s\n",
                        "Epoch 4 [50/749] | Train Loss: 0.4046 Grad: 26246.2070 LR: 5.6704e-05 | Elapse: 6.75s\n",
                        "Epoch 4 [100/749] | Train Loss: 0.3816 Grad: 34857.7812 LR: 5.4776e-05 | Elapse: 13.38s\n",
                        "Epoch 4 [150/749] | Train Loss: 0.3789 Grad: 46209.4648 LR: 5.2841e-05 | Elapse: 20.01s\n",
                        "Epoch 4 [200/749] | Train Loss: 0.3764 Grad: 30613.9180 LR: 5.0901e-05 | Elapse: 26.64s\n",
                        "Epoch 4 [250/749] | Train Loss: 0.3730 Grad: 36988.2695 LR: 4.8960e-05 | Elapse: 33.26s\n",
                        "Epoch 4 [300/749] | Train Loss: 0.3672 Grad: 51677.2695 LR: 4.7021e-05 | Elapse: 39.91s\n",
                        "Epoch 4 [350/749] | Train Loss: 0.3641 Grad: 52135.4102 LR: 4.5086e-05 | Elapse: 46.56s\n",
                        "Epoch 4 [400/749] | Train Loss: 0.3589 Grad: 41924.5938 LR: 4.3159e-05 | Elapse: 53.20s\n",
                        "Epoch 4 [450/749] | Train Loss: 0.3530 Grad: 38939.4336 LR: 4.1242e-05 | Elapse: 59.82s\n",
                        "Epoch 4 [500/749] | Train Loss: 0.3445 Grad: 14528.4385 LR: 3.9338e-05 | Elapse: 66.45s\n",
                        "Epoch 4 [550/749] | Train Loss: 0.3407 Grad: 36503.3281 LR: 3.7450e-05 | Elapse: 73.10s\n",
                        "Epoch 4 [600/749] | Train Loss: 0.3376 Grad: 26031.0723 LR: 3.5581e-05 | Elapse: 79.74s\n",
                        "Epoch 4 [650/749] | Train Loss: 0.3335 Grad: 17601.9180 LR: 3.3735e-05 | Elapse: 86.37s\n",
                        "Epoch 4 [700/749] | Train Loss: 0.3288 Grad: 33619.3477 LR: 3.1912e-05 | Elapse: 93.01s\n",
                        "Epoch 4 [748/749] | Train Loss: 0.3244 Grad: 32949.4688 LR: 3.0188e-05 | Elapse: 99.38s\n"
                    ]
                },
                {
                    "data": {
                        "application/vnd.jupyter.widget-view+json": {
                            "model_id": "ce2c8b0882114774987b7955f34f345e",
                            "version_major": 2,
                            "version_minor": 0
                        },
                        "text/plain": [
                            "Valid [3]:   0%|          | 0/182 [00:00<?, ?batch/s]"
                        ]
                    },
                    "metadata": {},
                    "output_type": "display_data"
                },
                {
                    "name": "stdout",
                    "output_type": "stream",
                    "text": [
                        "Epoch 4 [0/182] | Valid Loss: 0.6787 | Elapse: 0.08s\n",
                        "Epoch 4 [50/182] | Valid Loss: 0.6846 | Elapse: 4.06s\n",
                        "Epoch 4 [100/182] | Valid Loss: 0.6755 | Elapse: 8.03s\n",
                        "Epoch 4 [150/182] | Valid Loss: 0.7210 | Elapse: 12.01s\n"
                    ]
                },
                {
                    "name": "stderr",
                    "output_type": "stream",
                    "text": [
                        "----------------------------------------------------------------------------------------------------\n",
                        "Epoch 4 - Average Loss: (train) 0.3244; (valid) 0.7619 | Time: 113.86s\n"
                    ]
                },
                {
                    "name": "stdout",
                    "output_type": "stream",
                    "text": [
                        "Epoch 4 [181/182] | Valid Loss: 0.7619 | Elapse: 14.47s\n"
                    ]
                },
                {
                    "data": {
                        "application/vnd.jupyter.widget-view+json": {
                            "model_id": "e7d5daa1ed2748438f7e39e761b7cf32",
                            "version_major": 2,
                            "version_minor": 0
                        },
                        "text/plain": [
                            "Train [4]:   0%|          | 0/749 [00:00<?, ?batch/s]"
                        ]
                    },
                    "metadata": {},
                    "output_type": "display_data"
                },
                {
                    "name": "stdout",
                    "output_type": "stream",
                    "text": [
                        "Epoch 5 [0/749] | Train Loss: 0.3473 Grad: inf LR: 3.0153e-05 | Elapse: 0.14s\n",
                        "Epoch 5 [50/749] | Train Loss: 0.3250 Grad: 52458.4453 LR: 2.8387e-05 | Elapse: 6.84s\n",
                        "Epoch 5 [100/749] | Train Loss: 0.2923 Grad: 62419.8398 LR: 2.6654e-05 | Elapse: 13.47s\n",
                        "Epoch 5 [150/749] | Train Loss: 0.2895 Grad: 105539.2422 LR: 2.4956e-05 | Elapse: 20.11s\n",
                        "Epoch 5 [200/749] | Train Loss: 0.2836 Grad: 67377.9375 LR: 2.3296e-05 | Elapse: 26.75s\n",
                        "Epoch 5 [250/749] | Train Loss: 0.2821 Grad: 38324.9336 LR: 2.1676e-05 | Elapse: 33.39s\n",
                        "Epoch 5 [300/749] | Train Loss: 0.2757 Grad: 113197.0234 LR: 2.0099e-05 | Elapse: 40.07s\n",
                        "Epoch 5 [350/749] | Train Loss: 0.2750 Grad: 69589.8438 LR: 1.8567e-05 | Elapse: 46.70s\n",
                        "Epoch 5 [400/749] | Train Loss: 0.2713 Grad: 72966.4062 LR: 1.7083e-05 | Elapse: 53.33s\n",
                        "Epoch 5 [450/749] | Train Loss: 0.2669 Grad: 34866.7656 LR: 1.5648e-05 | Elapse: 59.96s\n",
                        "Epoch 5 [500/749] | Train Loss: 0.2619 Grad: 15432.8535 LR: 1.4265e-05 | Elapse: 66.61s\n",
                        "Epoch 5 [550/749] | Train Loss: 0.2621 Grad: 34613.5742 LR: 1.2936e-05 | Elapse: 73.26s\n",
                        "Epoch 5 [600/749] | Train Loss: 0.2603 Grad: 29962.3457 LR: 1.1663e-05 | Elapse: 79.89s\n",
                        "Epoch 5 [650/749] | Train Loss: 0.2564 Grad: 45149.1523 LR: 1.0448e-05 | Elapse: 86.52s\n",
                        "Epoch 5 [700/749] | Train Loss: 0.2539 Grad: 70968.6328 LR: 9.2926e-06 | Elapse: 93.15s\n",
                        "Epoch 5 [748/749] | Train Loss: 0.2514 Grad: 82296.9219 LR: 8.2410e-06 | Elapse: 99.53s\n"
                    ]
                },
                {
                    "data": {
                        "application/vnd.jupyter.widget-view+json": {
                            "model_id": "e993752022b14a8c86e04e17c3b452e3",
                            "version_major": 2,
                            "version_minor": 0
                        },
                        "text/plain": [
                            "Valid [4]:   0%|          | 0/182 [00:00<?, ?batch/s]"
                        ]
                    },
                    "metadata": {},
                    "output_type": "display_data"
                },
                {
                    "name": "stdout",
                    "output_type": "stream",
                    "text": [
                        "Epoch 5 [0/182] | Valid Loss: 0.7699 | Elapse: 0.08s\n",
                        "Epoch 5 [50/182] | Valid Loss: 0.6735 | Elapse: 4.05s\n",
                        "Epoch 5 [100/182] | Valid Loss: 0.6607 | Elapse: 8.03s\n",
                        "Epoch 5 [150/182] | Valid Loss: 0.7195 | Elapse: 12.01s\n"
                    ]
                },
                {
                    "name": "stderr",
                    "output_type": "stream",
                    "text": [
                        "----------------------------------------------------------------------------------------------------\n",
                        "Epoch 5 - Average Loss: (train) 0.2514; (valid) 0.7674 | Time: 114.00s\n"
                    ]
                },
                {
                    "name": "stdout",
                    "output_type": "stream",
                    "text": [
                        "Epoch 5 [181/182] | Valid Loss: 0.7674 | Elapse: 14.47s\n"
                    ]
                },
                {
                    "data": {
                        "application/vnd.jupyter.widget-view+json": {
                            "model_id": "d94b093acb4e4a30b518413da61d4138",
                            "version_major": 2,
                            "version_minor": 0
                        },
                        "text/plain": [
                            "Train [5]:   0%|          | 0/749 [00:00<?, ?batch/s]"
                        ]
                    },
                    "metadata": {},
                    "output_type": "display_data"
                },
                {
                    "name": "stdout",
                    "output_type": "stream",
                    "text": [
                        "Epoch 6 [0/749] | Train Loss: 0.3370 Grad: inf LR: 8.2197e-06 | Elapse: 0.14s\n",
                        "Epoch 6 [50/749] | Train Loss: 0.2673 Grad: 66530.5312 LR: 7.1874e-06 | Elapse: 6.76s\n",
                        "Epoch 6 [100/749] | Train Loss: 0.2422 Grad: 30375.3691 LR: 6.2196e-06 | Elapse: 13.38s\n",
                        "Epoch 6 [150/749] | Train Loss: 0.2373 Grad: 90746.2578 LR: 5.3180e-06 | Elapse: 20.00s\n",
                        "Epoch 6 [200/749] | Train Loss: 0.2332 Grad: 105557.1562 LR: 4.4837e-06 | Elapse: 26.65s\n",
                        "Epoch 6 [250/749] | Train Loss: 0.2298 Grad: 56844.7773 LR: 3.7181e-06 | Elapse: 33.28s\n",
                        "Epoch 6 [300/749] | Train Loss: 0.2266 Grad: 54806.0000 LR: 3.0224e-06 | Elapse: 39.95s\n",
                        "Epoch 6 [350/749] | Train Loss: 0.2277 Grad: 55004.8242 LR: 2.3975e-06 | Elapse: 46.60s\n",
                        "Epoch 6 [400/749] | Train Loss: 0.2265 Grad: 63005.7422 LR: 1.8444e-06 | Elapse: 53.24s\n",
                        "Epoch 6 [450/749] | Train Loss: 0.2229 Grad: 46305.7656 LR: 1.3640e-06 | Elapse: 59.87s\n",
                        "Epoch 6 [500/749] | Train Loss: 0.2200 Grad: 25211.1152 LR: 9.5701e-07 | Elapse: 66.54s\n",
                        "Epoch 6 [550/749] | Train Loss: 0.2234 Grad: 57879.7734 LR: 6.2398e-07 | Elapse: 73.19s\n",
                        "Epoch 6 [600/749] | Train Loss: 0.2232 Grad: 41987.9102 LR: 3.6545e-07 | Elapse: 79.82s\n",
                        "Epoch 6 [650/749] | Train Loss: 0.2222 Grad: 60758.7305 LR: 1.8179e-07 | Elapse: 86.45s\n",
                        "Epoch 6 [700/749] | Train Loss: 0.2208 Grad: 48369.5000 LR: 7.3301e-08 | Elapse: 93.09s\n",
                        "Epoch 6 [748/749] | Train Loss: 0.2185 Grad: 74243.2500 LR: 4.0015e-08 | Elapse: 99.48s\n"
                    ]
                },
                {
                    "data": {
                        "application/vnd.jupyter.widget-view+json": {
                            "model_id": "568db467ea564a6d8852da4637e6348e",
                            "version_major": 2,
                            "version_minor": 0
                        },
                        "text/plain": [
                            "Valid [5]:   0%|          | 0/182 [00:00<?, ?batch/s]"
                        ]
                    },
                    "metadata": {},
                    "output_type": "display_data"
                },
                {
                    "name": "stdout",
                    "output_type": "stream",
                    "text": [
                        "Epoch 6 [0/182] | Valid Loss: 0.7416 | Elapse: 0.09s\n",
                        "Epoch 6 [50/182] | Valid Loss: 0.6826 | Elapse: 4.06s\n",
                        "Epoch 6 [100/182] | Valid Loss: 0.6668 | Elapse: 8.04s\n",
                        "Epoch 6 [150/182] | Valid Loss: 0.7262 | Elapse: 12.04s\n"
                    ]
                },
                {
                    "name": "stderr",
                    "output_type": "stream",
                    "text": [
                        "----------------------------------------------------------------------------------------------------\n",
                        "Epoch 6 - Average Loss: (train) 0.2185; (valid) 0.7747 | Time: 113.99s\n"
                    ]
                },
                {
                    "name": "stdout",
                    "output_type": "stream",
                    "text": [
                        "Epoch 6 [181/182] | Valid Loss: 0.7747 | Elapse: 14.50s\n"
                    ]
                },
                {
                    "name": "stderr",
                    "output_type": "stream",
                    "text": [
                        "====================================================================================================\n",
                        "Fold 3 Valid Loss: (Easy) 0.6384 | (Hard) 0.7304\n",
                        "Elapse: 11.42 min \n",
                        "====================================================================================================\n",
                        "- Second Stage \n",
                        "Use Checkpoint: DualEncoder_B0_fold_3_stage_1.pth\n"
                    ]
                },
                {
                    "data": {
                        "application/vnd.jupyter.widget-view+json": {
                            "model_id": "540ea60c0e004e4b8df5597c023e0c56",
                            "version_major": 2,
                            "version_minor": 0
                        },
                        "text/plain": [
                            "Train [0]:   0%|          | 0/324 [00:00<?, ?batch/s]"
                        ]
                    },
                    "metadata": {},
                    "output_type": "display_data"
                },
                {
                    "name": "stderr",
                    "output_type": "stream",
                    "text": [
                        "/home/shiyi/miniconda3/envs/kaggle/lib/python3.11/site-packages/torch/optim/lr_scheduler.py:143: UserWarning: Detected call of `lr_scheduler.step()` before `optimizer.step()`. In PyTorch 1.1.0 and later, you should call them in the opposite order: `optimizer.step()` before `lr_scheduler.step()`.  Failure to do this will result in PyTorch skipping the first value of the learning rate schedule. See more details at https://pytorch.org/docs/stable/optim.html#how-to-adjust-learning-rate\n",
                        "  warnings.warn(\"Detected call of `lr_scheduler.step()` before `optimizer.step()`. \"\n"
                    ]
                },
                {
                    "name": "stdout",
                    "output_type": "stream",
                    "text": [
                        "Epoch 1 [0/324] | Train Loss: 0.9952 Grad: nan LR: 4.0063e-06 | Elapse: 0.14s\n",
                        "Epoch 1 [50/324] | Train Loss: 0.9646 Grad: 129233.3672 LR: 1.9551e-05 | Elapse: 6.80s\n",
                        "Epoch 1 [100/324] | Train Loss: 0.8718 Grad: 121823.2109 LR: 5.5350e-05 | Elapse: 13.45s\n",
                        "Epoch 1 [150/324] | Train Loss: 0.7776 Grad: 32976.3203 LR: 8.9058e-05 | Elapse: 20.09s\n",
                        "Epoch 1 [200/324] | Train Loss: 0.7128 Grad: 28756.0527 LR: 9.9995e-05 | Elapse: 26.74s\n",
                        "Epoch 1 [250/324] | Train Loss: 0.6617 Grad: 20276.7539 LR: 9.9733e-05 | Elapse: 33.40s\n",
                        "Epoch 1 [300/324] | Train Loss: 0.6250 Grad: 31337.4023 LR: 9.9070e-05 | Elapse: 40.06s\n",
                        "Epoch 1 [323/324] | Train Loss: 0.6109 Grad: 28721.6133 LR: 9.8632e-05 | Elapse: 43.11s\n"
                    ]
                },
                {
                    "data": {
                        "application/vnd.jupyter.widget-view+json": {
                            "model_id": "356df925a92f4ea1906c0228eb3bfd86",
                            "version_major": 2,
                            "version_minor": 0
                        },
                        "text/plain": [
                            "Valid [0]:   0%|          | 0/182 [00:00<?, ?batch/s]"
                        ]
                    },
                    "metadata": {},
                    "output_type": "display_data"
                },
                {
                    "name": "stdout",
                    "output_type": "stream",
                    "text": [
                        "Epoch 1 [0/182] | Valid Loss: 0.7726 | Elapse: 0.08s\n",
                        "Epoch 1 [50/182] | Valid Loss: 0.8413 | Elapse: 4.04s\n",
                        "Epoch 1 [100/182] | Valid Loss: 0.8347 | Elapse: 7.98s\n",
                        "Epoch 1 [150/182] | Valid Loss: 0.7642 | Elapse: 11.95s\n"
                    ]
                },
                {
                    "name": "stderr",
                    "output_type": "stream",
                    "text": [
                        "----------------------------------------------------------------------------------------------------\n",
                        "Epoch 1 - Average Loss: (train) 0.6109; (valid) 0.7108 | Time: 57.51s\n",
                        "Best model found in epoch 1 | valid loss: 0.7108\n"
                    ]
                },
                {
                    "name": "stdout",
                    "output_type": "stream",
                    "text": [
                        "Epoch 1 [181/182] | Valid Loss: 0.7108 | Elapse: 14.39s\n"
                    ]
                },
                {
                    "data": {
                        "application/vnd.jupyter.widget-view+json": {
                            "model_id": "62d4fa267f724e148cce82efb43fce8e",
                            "version_major": 2,
                            "version_minor": 0
                        },
                        "text/plain": [
                            "Train [1]:   0%|          | 0/324 [00:00<?, ?batch/s]"
                        ]
                    },
                    "metadata": {},
                    "output_type": "display_data"
                },
                {
                    "name": "stdout",
                    "output_type": "stream",
                    "text": [
                        "Epoch 2 [0/324] | Train Loss: 0.5112 Grad: 239129.8750 LR: 9.8611e-05 | Elapse: 0.14s\n",
                        "Epoch 2 [50/324] | Train Loss: 0.4223 Grad: 71824.0312 LR: 9.7366e-05 | Elapse: 6.74s\n",
                        "Epoch 2 [100/324] | Train Loss: 0.4135 Grad: 98452.8594 LR: 9.5740e-05 | Elapse: 13.35s\n",
                        "Epoch 2 [150/324] | Train Loss: 0.3977 Grad: 81767.7422 LR: 9.3746e-05 | Elapse: 19.95s\n",
                        "Epoch 2 [200/324] | Train Loss: 0.3864 Grad: 78742.2422 LR: 9.1399e-05 | Elapse: 26.57s\n",
                        "Epoch 2 [250/324] | Train Loss: 0.3768 Grad: 68433.6094 LR: 8.8719e-05 | Elapse: 33.18s\n",
                        "Epoch 2 [300/324] | Train Loss: 0.3710 Grad: 87942.2969 LR: 8.5727e-05 | Elapse: 39.80s\n",
                        "Epoch 2 [323/324] | Train Loss: 0.3689 Grad: 94870.3047 LR: 8.4253e-05 | Elapse: 42.85s\n"
                    ]
                },
                {
                    "data": {
                        "application/vnd.jupyter.widget-view+json": {
                            "model_id": "e937357f51ae4414a566693a01687f0d",
                            "version_major": 2,
                            "version_minor": 0
                        },
                        "text/plain": [
                            "Valid [1]:   0%|          | 0/182 [00:00<?, ?batch/s]"
                        ]
                    },
                    "metadata": {},
                    "output_type": "display_data"
                },
                {
                    "name": "stdout",
                    "output_type": "stream",
                    "text": [
                        "Epoch 2 [0/182] | Valid Loss: 0.6750 | Elapse: 0.08s\n",
                        "Epoch 2 [50/182] | Valid Loss: 0.8372 | Elapse: 4.04s\n",
                        "Epoch 2 [100/182] | Valid Loss: 0.8318 | Elapse: 8.01s\n",
                        "Epoch 2 [150/182] | Valid Loss: 0.7567 | Elapse: 11.98s\n"
                    ]
                },
                {
                    "name": "stderr",
                    "output_type": "stream",
                    "text": [
                        "----------------------------------------------------------------------------------------------------\n",
                        "Epoch 2 - Average Loss: (train) 0.3689; (valid) 0.7000 | Time: 57.27s\n",
                        "Best model found in epoch 2 | valid loss: 0.7000\n"
                    ]
                },
                {
                    "name": "stdout",
                    "output_type": "stream",
                    "text": [
                        "Epoch 2 [181/182] | Valid Loss: 0.7000 | Elapse: 14.42s\n"
                    ]
                },
                {
                    "data": {
                        "application/vnd.jupyter.widget-view+json": {
                            "model_id": "48ca74140e374f5c8211503965d4f5b8",
                            "version_major": 2,
                            "version_minor": 0
                        },
                        "text/plain": [
                            "Train [2]:   0%|          | 0/324 [00:00<?, ?batch/s]"
                        ]
                    },
                    "metadata": {},
                    "output_type": "display_data"
                },
                {
                    "name": "stdout",
                    "output_type": "stream",
                    "text": [
                        "Epoch 3 [0/324] | Train Loss: 0.3995 Grad: inf LR: 8.4188e-05 | Elapse: 0.13s\n",
                        "Epoch 3 [50/324] | Train Loss: 0.3418 Grad: 53521.9297 LR: 8.0779e-05 | Elapse: 6.81s\n",
                        "Epoch 3 [100/324] | Train Loss: 0.3368 Grad: 106938.4844 LR: 7.7124e-05 | Elapse: 13.43s\n",
                        "Epoch 3 [150/324] | Train Loss: 0.3247 Grad: 90333.6875 LR: 7.3249e-05 | Elapse: 20.04s\n",
                        "Epoch 3 [200/324] | Train Loss: 0.3168 Grad: 67625.3281 LR: 6.9188e-05 | Elapse: 26.67s\n",
                        "Epoch 3 [250/324] | Train Loss: 0.3100 Grad: 57416.4609 LR: 6.4972e-05 | Elapse: 33.29s\n",
                        "Epoch 3 [300/324] | Train Loss: 0.3047 Grad: 101205.1016 LR: 6.0636e-05 | Elapse: 39.90s\n",
                        "Epoch 3 [323/324] | Train Loss: 0.3025 Grad: 101631.6406 LR: 5.8611e-05 | Elapse: 42.94s\n"
                    ]
                },
                {
                    "data": {
                        "application/vnd.jupyter.widget-view+json": {
                            "model_id": "73c51bd8a3aa458184f110c1b286e79e",
                            "version_major": 2,
                            "version_minor": 0
                        },
                        "text/plain": [
                            "Valid [2]:   0%|          | 0/182 [00:00<?, ?batch/s]"
                        ]
                    },
                    "metadata": {},
                    "output_type": "display_data"
                },
                {
                    "name": "stdout",
                    "output_type": "stream",
                    "text": [
                        "Epoch 3 [0/182] | Valid Loss: 0.6691 | Elapse: 0.08s\n",
                        "Epoch 3 [50/182] | Valid Loss: 0.8544 | Elapse: 4.04s\n",
                        "Epoch 3 [100/182] | Valid Loss: 0.8499 | Elapse: 8.01s\n",
                        "Epoch 3 [150/182] | Valid Loss: 0.7672 | Elapse: 11.99s\n"
                    ]
                },
                {
                    "name": "stderr",
                    "output_type": "stream",
                    "text": [
                        "----------------------------------------------------------------------------------------------------\n",
                        "Epoch 3 - Average Loss: (train) 0.3025; (valid) 0.7071 | Time: 57.39s\n"
                    ]
                },
                {
                    "name": "stdout",
                    "output_type": "stream",
                    "text": [
                        "Epoch 3 [181/182] | Valid Loss: 0.7071 | Elapse: 14.44s\n"
                    ]
                },
                {
                    "data": {
                        "application/vnd.jupyter.widget-view+json": {
                            "model_id": "d42d153836304a77a78040188a766a5f",
                            "version_major": 2,
                            "version_minor": 0
                        },
                        "text/plain": [
                            "Train [3]:   0%|          | 0/324 [00:00<?, ?batch/s]"
                        ]
                    },
                    "metadata": {},
                    "output_type": "display_data"
                },
                {
                    "name": "stdout",
                    "output_type": "stream",
                    "text": [
                        "Epoch 4 [0/324] | Train Loss: 0.3712 Grad: 257249.5000 LR: 5.8522e-05 | Elapse: 0.14s\n",
                        "Epoch 4 [50/324] | Train Loss: 0.2799 Grad: 57833.7188 LR: 5.4072e-05 | Elapse: 6.77s\n",
                        "Epoch 4 [100/324] | Train Loss: 0.2759 Grad: 127865.5703 LR: 4.9589e-05 | Elapse: 13.39s\n",
                        "Epoch 4 [150/324] | Train Loss: 0.2677 Grad: 77849.8125 LR: 4.5110e-05 | Elapse: 20.00s\n",
                        "Epoch 4 [200/324] | Train Loss: 0.2620 Grad: 57727.3906 LR: 4.0670e-05 | Elapse: 26.64s\n",
                        "Epoch 4 [250/324] | Train Loss: 0.2579 Grad: 65793.2812 LR: 3.6306e-05 | Elapse: 33.28s\n",
                        "Epoch 4 [300/324] | Train Loss: 0.2544 Grad: 63155.7969 LR: 3.2052e-05 | Elapse: 39.98s\n",
                        "Epoch 4 [323/324] | Train Loss: 0.2532 Grad: 94631.9141 LR: 3.0142e-05 | Elapse: 43.05s\n"
                    ]
                },
                {
                    "data": {
                        "application/vnd.jupyter.widget-view+json": {
                            "model_id": "5ee754f089d340e282189b55d574003f",
                            "version_major": 2,
                            "version_minor": 0
                        },
                        "text/plain": [
                            "Valid [3]:   0%|          | 0/182 [00:00<?, ?batch/s]"
                        ]
                    },
                    "metadata": {},
                    "output_type": "display_data"
                },
                {
                    "name": "stdout",
                    "output_type": "stream",
                    "text": [
                        "Epoch 4 [0/182] | Valid Loss: 0.7080 | Elapse: 0.08s\n",
                        "Epoch 4 [50/182] | Valid Loss: 0.8796 | Elapse: 4.05s\n",
                        "Epoch 4 [100/182] | Valid Loss: 0.8831 | Elapse: 8.03s\n",
                        "Epoch 4 [150/182] | Valid Loss: 0.7941 | Elapse: 12.02s\n"
                    ]
                },
                {
                    "name": "stderr",
                    "output_type": "stream",
                    "text": [
                        "----------------------------------------------------------------------------------------------------\n",
                        "Epoch 4 - Average Loss: (train) 0.2532; (valid) 0.7299 | Time: 57.52s\n"
                    ]
                },
                {
                    "name": "stdout",
                    "output_type": "stream",
                    "text": [
                        "Epoch 4 [181/182] | Valid Loss: 0.7299 | Elapse: 14.46s\n"
                    ]
                },
                {
                    "data": {
                        "application/vnd.jupyter.widget-view+json": {
                            "model_id": "13580bb2d4774db38462bc180d4b6ffb",
                            "version_major": 2,
                            "version_minor": 0
                        },
                        "text/plain": [
                            "Train [4]:   0%|          | 0/324 [00:00<?, ?batch/s]"
                        ]
                    },
                    "metadata": {},
                    "output_type": "display_data"
                },
                {
                    "name": "stdout",
                    "output_type": "stream",
                    "text": [
                        "Epoch 5 [0/324] | Train Loss: 0.2461 Grad: 174370.9688 LR: 3.0059e-05 | Elapse: 0.14s\n",
                        "Epoch 5 [50/324] | Train Loss: 0.2349 Grad: 57409.5938 LR: 2.6031e-05 | Elapse: 6.78s\n",
                        "Epoch 5 [100/324] | Train Loss: 0.2367 Grad: 72315.8125 LR: 2.2197e-05 | Elapse: 13.45s\n",
                        "Epoch 5 [150/324] | Train Loss: 0.2327 Grad: 72660.7656 LR: 1.8586e-05 | Elapse: 20.06s\n",
                        "Epoch 5 [200/324] | Train Loss: 0.2284 Grad: 58242.4336 LR: 1.5229e-05 | Elapse: 26.72s\n",
                        "Epoch 5 [250/324] | Train Loss: 0.2271 Grad: 71444.3984 LR: 1.2152e-05 | Elapse: 33.35s\n",
                        "Epoch 5 [300/324] | Train Loss: 0.2254 Grad: 76081.6406 LR: 9.3796e-06 | Elapse: 39.99s\n",
                        "Epoch 5 [323/324] | Train Loss: 0.2252 Grad: 74935.8281 LR: 8.2131e-06 | Elapse: 43.03s\n"
                    ]
                },
                {
                    "data": {
                        "application/vnd.jupyter.widget-view+json": {
                            "model_id": "3c9f2707ea644494a85fcbce39057d00",
                            "version_major": 2,
                            "version_minor": 0
                        },
                        "text/plain": [
                            "Valid [4]:   0%|          | 0/182 [00:00<?, ?batch/s]"
                        ]
                    },
                    "metadata": {},
                    "output_type": "display_data"
                },
                {
                    "name": "stdout",
                    "output_type": "stream",
                    "text": [
                        "Epoch 5 [0/182] | Valid Loss: 0.6517 | Elapse: 0.08s\n",
                        "Epoch 5 [50/182] | Valid Loss: 0.8498 | Elapse: 4.03s\n",
                        "Epoch 5 [100/182] | Valid Loss: 0.8562 | Elapse: 7.98s\n",
                        "Epoch 5 [150/182] | Valid Loss: 0.7721 | Elapse: 11.94s\n"
                    ]
                },
                {
                    "name": "stderr",
                    "output_type": "stream",
                    "text": [
                        "----------------------------------------------------------------------------------------------------\n",
                        "Epoch 5 - Average Loss: (train) 0.2252; (valid) 0.7111 | Time: 57.42s\n"
                    ]
                },
                {
                    "name": "stdout",
                    "output_type": "stream",
                    "text": [
                        "Epoch 5 [181/182] | Valid Loss: 0.7111 | Elapse: 14.38s\n"
                    ]
                },
                {
                    "data": {
                        "application/vnd.jupyter.widget-view+json": {
                            "model_id": "6f6d9e3664134f19adb877937907b0ed",
                            "version_major": 2,
                            "version_minor": 0
                        },
                        "text/plain": [
                            "Train [5]:   0%|          | 0/324 [00:00<?, ?batch/s]"
                        ]
                    },
                    "metadata": {},
                    "output_type": "display_data"
                },
                {
                    "name": "stdout",
                    "output_type": "stream",
                    "text": [
                        "Epoch 6 [0/324] | Train Loss: 0.2532 Grad: 160906.2500 LR: 8.1640e-06 | Elapse: 0.14s\n",
                        "Epoch 6 [50/324] | Train Loss: 0.2202 Grad: 60496.3203 LR: 5.8835e-06 | Elapse: 6.76s\n",
                        "Epoch 6 [100/324] | Train Loss: 0.2212 Grad: 95117.5312 LR: 3.9586e-06 | Elapse: 13.38s\n",
                        "Epoch 6 [150/324] | Train Loss: 0.2170 Grad: 76106.9531 LR: 2.4048e-06 | Elapse: 20.00s\n",
                        "Epoch 6 [200/324] | Train Loss: 0.2125 Grad: 54996.3867 LR: 1.2345e-06 | Elapse: 26.65s\n",
                        "Epoch 6 [250/324] | Train Loss: 0.2118 Grad: 50792.0000 LR: 4.5711e-07 | Elapse: 33.27s\n",
                        "Epoch 6 [300/324] | Train Loss: 0.2097 Grad: 59763.1758 LR: 7.8992e-08 | Elapse: 39.89s\n",
                        "Epoch 6 [323/324] | Train Loss: 0.2097 Grad: 73581.0234 LR: 4.0081e-08 | Elapse: 42.93s\n"
                    ]
                },
                {
                    "data": {
                        "application/vnd.jupyter.widget-view+json": {
                            "model_id": "6b64afa088544d68b67c21ba5912b2ae",
                            "version_major": 2,
                            "version_minor": 0
                        },
                        "text/plain": [
                            "Valid [5]:   0%|          | 0/182 [00:00<?, ?batch/s]"
                        ]
                    },
                    "metadata": {},
                    "output_type": "display_data"
                },
                {
                    "name": "stdout",
                    "output_type": "stream",
                    "text": [
                        "Epoch 6 [0/182] | Valid Loss: 0.6470 | Elapse: 0.08s\n",
                        "Epoch 6 [50/182] | Valid Loss: 0.8329 | Elapse: 4.04s\n",
                        "Epoch 6 [100/182] | Valid Loss: 0.8388 | Elapse: 8.00s\n",
                        "Epoch 6 [150/182] | Valid Loss: 0.7577 | Elapse: 11.99s\n"
                    ]
                },
                {
                    "name": "stderr",
                    "output_type": "stream",
                    "text": [
                        "----------------------------------------------------------------------------------------------------\n",
                        "Epoch 6 - Average Loss: (train) 0.2097; (valid) 0.6988 | Time: 57.36s\n",
                        "Best model found in epoch 6 | valid loss: 0.6988\n"
                    ]
                },
                {
                    "name": "stdout",
                    "output_type": "stream",
                    "text": [
                        "Epoch 6 [181/182] | Valid Loss: 0.6988 | Elapse: 14.43s\n"
                    ]
                },
                {
                    "name": "stderr",
                    "output_type": "stream",
                    "text": [
                        "====================================================================================================\n",
                        "Fold 3 Valid Loss: (Easy) 0.8303 | (Hard) 0.4156\n",
                        "Elapse: 5.75 min \n",
                        "====================================================================================================\n",
                        "====================================================================================================\n",
                        "Fold: 4 || Valid size 2711 \n",
                        "====================================================================================================\n",
                        "- First Stage \n"
                    ]
                },
                {
                    "data": {
                        "application/vnd.jupyter.widget-view+json": {
                            "model_id": "716ece8941604597be409c8254a400c9",
                            "version_major": 2,
                            "version_minor": 0
                        },
                        "text/plain": [
                            "Train [0]:   0%|          | 0/761 [00:00<?, ?batch/s]"
                        ]
                    },
                    "metadata": {},
                    "output_type": "display_data"
                },
                {
                    "name": "stdout",
                    "output_type": "stream",
                    "text": [
                        "Epoch 1 [0/761] | Train Loss: 1.7744 Grad: 268335.5000 LR: 4.0011e-06 | Elapse: 0.14s\n",
                        "Epoch 1 [50/761] | Train Loss: 1.7151 Grad: 273082.4375 LR: 6.9377e-06 | Elapse: 6.72s\n",
                        "Epoch 1 [100/761] | Train Loss: 1.6884 Grad: 181015.1562 LR: 1.5178e-05 | Elapse: 13.32s\n",
                        "Epoch 1 [150/761] | Train Loss: 1.6348 Grad: 241440.9375 LR: 2.7752e-05 | Elapse: 19.91s\n",
                        "Epoch 1 [200/761] | Train Loss: 1.5748 Grad: 97363.9609 LR: 4.3180e-05 | Elapse: 26.52s\n",
                        "Epoch 1 [250/761] | Train Loss: 1.5073 Grad: 114795.8906 LR: 5.9646e-05 | Elapse: 33.16s\n",
                        "Epoch 1 [300/761] | Train Loss: 1.4420 Grad: 57060.7188 LR: 7.5212e-05 | Elapse: 39.78s\n",
                        "Epoch 1 [350/761] | Train Loss: 1.3798 Grad: 56633.0039 LR: 8.8046e-05 | Elapse: 46.38s\n",
                        "Epoch 1 [400/761] | Train Loss: 1.3237 Grad: 83438.7266 LR: 9.6638e-05 | Elapse: 52.99s\n",
                        "Epoch 1 [450/761] | Train Loss: 1.2717 Grad: 104026.0469 LR: 9.9976e-05 | Elapse: 59.62s\n",
                        "Epoch 1 [500/761] | Train Loss: 1.2250 Grad: 71134.5000 LR: 9.9970e-05 | Elapse: 66.24s\n",
                        "Epoch 1 [550/761] | Train Loss: 1.1898 Grad: 55444.6094 LR: 9.9867e-05 | Elapse: 72.92s\n",
                        "Epoch 1 [600/761] | Train Loss: 1.1522 Grad: 59686.0195 LR: 9.9692e-05 | Elapse: 79.51s\n",
                        "Epoch 1 [650/761] | Train Loss: 1.1255 Grad: 79908.0625 LR: 9.9443e-05 | Elapse: 86.17s\n",
                        "Epoch 1 [700/761] | Train Loss: 1.0993 Grad: 60772.1758 LR: 9.9123e-05 | Elapse: 92.85s\n",
                        "Epoch 1 [750/761] | Train Loss: 1.0681 Grad: 79909.3125 LR: 9.8731e-05 | Elapse: 99.56s\n",
                        "Epoch 1 [760/761] | Train Loss: 1.0624 Grad: 105933.7188 LR: 9.8644e-05 | Elapse: 100.91s\n"
                    ]
                },
                {
                    "data": {
                        "application/vnd.jupyter.widget-view+json": {
                            "model_id": "b4bcf71b55724f098fe6af31b8e93bf5",
                            "version_major": 2,
                            "version_minor": 0
                        },
                        "text/plain": [
                            "Valid [0]:   0%|          | 0/170 [00:00<?, ?batch/s]"
                        ]
                    },
                    "metadata": {},
                    "output_type": "display_data"
                },
                {
                    "name": "stdout",
                    "output_type": "stream",
                    "text": [
                        "Epoch 1 [0/170] | Valid Loss: 0.7793 | Elapse: 0.08s\n",
                        "Epoch 1 [50/170] | Valid Loss: 0.8057 | Elapse: 4.06s\n",
                        "Epoch 1 [100/170] | Valid Loss: 0.8050 | Elapse: 8.02s\n",
                        "Epoch 1 [150/170] | Valid Loss: 0.7793 | Elapse: 12.01s\n"
                    ]
                },
                {
                    "name": "stderr",
                    "output_type": "stream",
                    "text": [
                        "----------------------------------------------------------------------------------------------------\n",
                        "Epoch 1 - Average Loss: (train) 1.0624; (valid) 0.7739 | Time: 114.44s\n",
                        "Best model found in epoch 1 | valid loss: 0.7739\n"
                    ]
                },
                {
                    "name": "stdout",
                    "output_type": "stream",
                    "text": [
                        "Epoch 1 [169/170] | Valid Loss: 0.7739 | Elapse: 13.52s\n"
                    ]
                },
                {
                    "data": {
                        "application/vnd.jupyter.widget-view+json": {
                            "model_id": "68bd1c4d2b654d4ab23465fb735f85e6",
                            "version_major": 2,
                            "version_minor": 0
                        },
                        "text/plain": [
                            "Train [1]:   0%|          | 0/761 [00:00<?, ?batch/s]"
                        ]
                    },
                    "metadata": {},
                    "output_type": "display_data"
                },
                {
                    "name": "stdout",
                    "output_type": "stream",
                    "text": [
                        "Epoch 2 [0/761] | Train Loss: 0.6693 Grad: inf LR: 9.8635e-05 | Elapse: 0.13s\n",
                        "Epoch 2 [50/761] | Train Loss: 0.7160 Grad: 64834.2031 LR: 9.8156e-05 | Elapse: 6.79s\n",
                        "Epoch 2 [100/761] | Train Loss: 0.7233 Grad: 79435.7578 LR: 9.7607e-05 | Elapse: 13.43s\n",
                        "Epoch 2 [150/761] | Train Loss: 0.7266 Grad: 78992.9922 LR: 9.6988e-05 | Elapse: 20.05s\n",
                        "Epoch 2 [200/761] | Train Loss: 0.7293 Grad: 76581.2656 LR: 9.6301e-05 | Elapse: 26.69s\n",
                        "Epoch 2 [250/761] | Train Loss: 0.7182 Grad: 68559.9922 LR: 9.5546e-05 | Elapse: 33.35s\n",
                        "Epoch 2 [300/761] | Train Loss: 0.7063 Grad: 72835.0156 LR: 9.4725e-05 | Elapse: 39.98s\n",
                        "Epoch 2 [350/761] | Train Loss: 0.6992 Grad: 80852.6953 LR: 9.3838e-05 | Elapse: 46.61s\n",
                        "Epoch 2 [400/761] | Train Loss: 0.6909 Grad: 62256.9727 LR: 9.2887e-05 | Elapse: 53.24s\n",
                        "Epoch 2 [450/761] | Train Loss: 0.6770 Grad: 114685.5000 LR: 9.1874e-05 | Elapse: 59.86s\n",
                        "Epoch 2 [500/761] | Train Loss: 0.6622 Grad: 68315.4531 LR: 9.0799e-05 | Elapse: 66.48s\n",
                        "Epoch 2 [550/761] | Train Loss: 0.6527 Grad: 48203.7773 LR: 8.9665e-05 | Elapse: 73.15s\n",
                        "Epoch 2 [600/761] | Train Loss: 0.6398 Grad: 47443.9219 LR: 8.8473e-05 | Elapse: 79.77s\n",
                        "Epoch 2 [650/761] | Train Loss: 0.6315 Grad: 130536.1953 LR: 8.7225e-05 | Elapse: 86.39s\n",
                        "Epoch 2 [700/761] | Train Loss: 0.6241 Grad: 67141.2109 LR: 8.5923e-05 | Elapse: 93.12s\n",
                        "Epoch 2 [750/761] | Train Loss: 0.6126 Grad: 60218.2617 LR: 8.4568e-05 | Elapse: 99.79s\n",
                        "Epoch 2 [760/761] | Train Loss: 0.6099 Grad: 56302.4570 LR: 8.4291e-05 | Elapse: 101.12s\n"
                    ]
                },
                {
                    "data": {
                        "application/vnd.jupyter.widget-view+json": {
                            "model_id": "bc2421a665c6413bb1bac2484c237182",
                            "version_major": 2,
                            "version_minor": 0
                        },
                        "text/plain": [
                            "Valid [1]:   0%|          | 0/170 [00:00<?, ?batch/s]"
                        ]
                    },
                    "metadata": {},
                    "output_type": "display_data"
                },
                {
                    "name": "stdout",
                    "output_type": "stream",
                    "text": [
                        "Epoch 2 [0/170] | Valid Loss: 0.6419 | Elapse: 0.08s\n",
                        "Epoch 2 [50/170] | Valid Loss: 0.7578 | Elapse: 4.06s\n",
                        "Epoch 2 [100/170] | Valid Loss: 0.7510 | Elapse: 8.03s\n",
                        "Epoch 2 [150/170] | Valid Loss: 0.7410 | Elapse: 12.01s\n"
                    ]
                },
                {
                    "name": "stderr",
                    "output_type": "stream",
                    "text": [
                        "----------------------------------------------------------------------------------------------------\n",
                        "Epoch 2 - Average Loss: (train) 0.6099; (valid) 0.7452 | Time: 114.60s\n",
                        "Best model found in epoch 2 | valid loss: 0.7452\n"
                    ]
                },
                {
                    "name": "stdout",
                    "output_type": "stream",
                    "text": [
                        "Epoch 2 [169/170] | Valid Loss: 0.7452 | Elapse: 13.48s\n"
                    ]
                },
                {
                    "data": {
                        "application/vnd.jupyter.widget-view+json": {
                            "model_id": "968d302eeb50454e84b31f478f8aad03",
                            "version_major": 2,
                            "version_minor": 0
                        },
                        "text/plain": [
                            "Train [2]:   0%|          | 0/761 [00:00<?, ?batch/s]"
                        ]
                    },
                    "metadata": {},
                    "output_type": "display_data"
                },
                {
                    "name": "stdout",
                    "output_type": "stream",
                    "text": [
                        "Epoch 3 [0/761] | Train Loss: 0.4817 Grad: inf LR: 8.4263e-05 | Elapse: 0.13s\n",
                        "Epoch 3 [50/761] | Train Loss: 0.5217 Grad: 60569.9219 LR: 8.2846e-05 | Elapse: 6.79s\n",
                        "Epoch 3 [100/761] | Train Loss: 0.5229 Grad: 83025.5703 LR: 8.1382e-05 | Elapse: 13.43s\n",
                        "Epoch 3 [150/761] | Train Loss: 0.5240 Grad: 87888.0859 LR: 7.9872e-05 | Elapse: 20.05s\n",
                        "Epoch 3 [200/761] | Train Loss: 0.5282 Grad: 90967.3516 LR: 7.8318e-05 | Elapse: 26.67s\n",
                        "Epoch 3 [250/761] | Train Loss: 0.5204 Grad: 57600.1562 LR: 7.6723e-05 | Elapse: 33.33s\n",
                        "Epoch 3 [300/761] | Train Loss: 0.5112 Grad: 88015.5703 LR: 7.5089e-05 | Elapse: 39.94s\n",
                        "Epoch 3 [350/761] | Train Loss: 0.5060 Grad: 63909.3789 LR: 7.3419e-05 | Elapse: 46.55s\n",
                        "Epoch 3 [400/761] | Train Loss: 0.5005 Grad: 84511.7734 LR: 7.1714e-05 | Elapse: 53.16s\n",
                        "Epoch 3 [450/761] | Train Loss: 0.4910 Grad: 104414.3359 LR: 6.9977e-05 | Elapse: 59.76s\n",
                        "Epoch 3 [500/761] | Train Loss: 0.4794 Grad: 65001.9141 LR: 6.8212e-05 | Elapse: 66.37s\n",
                        "Epoch 3 [550/761] | Train Loss: 0.4716 Grad: 51898.6055 LR: 6.6419e-05 | Elapse: 72.97s\n",
                        "Epoch 3 [600/761] | Train Loss: 0.4633 Grad: 55617.5078 LR: 6.4603e-05 | Elapse: 79.58s\n",
                        "Epoch 3 [650/761] | Train Loss: 0.4579 Grad: 125263.4219 LR: 6.2766e-05 | Elapse: 86.18s\n",
                        "Epoch 3 [700/761] | Train Loss: 0.4535 Grad: 91417.5781 LR: 6.0909e-05 | Elapse: 92.80s\n",
                        "Epoch 3 [750/761] | Train Loss: 0.4448 Grad: 55592.8359 LR: 5.9037e-05 | Elapse: 99.42s\n",
                        "Epoch 3 [760/761] | Train Loss: 0.4435 Grad: 96369.1328 LR: 5.8661e-05 | Elapse: 100.75s\n"
                    ]
                },
                {
                    "data": {
                        "application/vnd.jupyter.widget-view+json": {
                            "model_id": "f4e543b584114ccf94277be7c36c9075",
                            "version_major": 2,
                            "version_minor": 0
                        },
                        "text/plain": [
                            "Valid [2]:   0%|          | 0/170 [00:00<?, ?batch/s]"
                        ]
                    },
                    "metadata": {},
                    "output_type": "display_data"
                },
                {
                    "name": "stdout",
                    "output_type": "stream",
                    "text": [
                        "Epoch 3 [0/170] | Valid Loss: 0.6577 | Elapse: 0.08s\n",
                        "Epoch 3 [50/170] | Valid Loss: 0.7661 | Elapse: 4.03s\n",
                        "Epoch 3 [100/170] | Valid Loss: 0.7396 | Elapse: 7.99s\n",
                        "Epoch 3 [150/170] | Valid Loss: 0.7625 | Elapse: 11.95s\n"
                    ]
                },
                {
                    "name": "stderr",
                    "output_type": "stream",
                    "text": [
                        "----------------------------------------------------------------------------------------------------\n",
                        "Epoch 3 - Average Loss: (train) 0.4435; (valid) 0.7748 | Time: 114.17s\n"
                    ]
                },
                {
                    "name": "stdout",
                    "output_type": "stream",
                    "text": [
                        "Epoch 3 [169/170] | Valid Loss: 0.7748 | Elapse: 13.42s\n"
                    ]
                },
                {
                    "data": {
                        "application/vnd.jupyter.widget-view+json": {
                            "model_id": "f76194dbc1d647bca8546261672c8784",
                            "version_major": 2,
                            "version_minor": 0
                        },
                        "text/plain": [
                            "Train [3]:   0%|          | 0/761 [00:00<?, ?batch/s]"
                        ]
                    },
                    "metadata": {},
                    "output_type": "display_data"
                },
                {
                    "name": "stdout",
                    "output_type": "stream",
                    "text": [
                        "Epoch 4 [0/761] | Train Loss: 0.5777 Grad: nan LR: 5.8624e-05 | Elapse: 0.13s\n",
                        "Epoch 4 [50/761] | Train Loss: 0.4062 Grad: 57974.6797 LR: 5.6736e-05 | Elapse: 6.72s\n",
                        "Epoch 4 [100/761] | Train Loss: 0.3928 Grad: 73298.2422 LR: 5.4838e-05 | Elapse: 13.32s\n",
                        "Epoch 4 [150/761] | Train Loss: 0.3934 Grad: 128529.4453 LR: 5.2934e-05 | Elapse: 19.93s\n",
                        "Epoch 4 [200/761] | Train Loss: 0.3878 Grad: 50503.1562 LR: 5.1025e-05 | Elapse: 26.54s\n",
                        "Epoch 4 [250/761] | Train Loss: 0.3773 Grad: 50765.8906 LR: 4.9114e-05 | Elapse: 33.15s\n",
                        "Epoch 4 [300/761] | Train Loss: 0.3688 Grad: 91513.2500 LR: 4.7205e-05 | Elapse: 39.75s\n",
                        "Epoch 4 [350/761] | Train Loss: 0.3635 Grad: 101690.1797 LR: 4.5301e-05 | Elapse: 46.38s\n",
                        "Epoch 4 [400/761] | Train Loss: 0.3573 Grad: 61843.1680 LR: 4.3403e-05 | Elapse: 52.99s\n",
                        "Epoch 4 [450/761] | Train Loss: 0.3502 Grad: 98804.1641 LR: 4.1514e-05 | Elapse: 59.60s\n",
                        "Epoch 4 [500/761] | Train Loss: 0.3409 Grad: 80172.5078 LR: 3.9638e-05 | Elapse: 66.20s\n",
                        "Epoch 4 [550/761] | Train Loss: 0.3353 Grad: 31172.5078 LR: 3.7778e-05 | Elapse: 72.81s\n",
                        "Epoch 4 [600/761] | Train Loss: 0.3297 Grad: 50954.7969 LR: 3.5935e-05 | Elapse: 79.44s\n",
                        "Epoch 4 [650/761] | Train Loss: 0.3270 Grad: 67543.9844 LR: 3.4112e-05 | Elapse: 86.04s\n",
                        "Epoch 4 [700/761] | Train Loss: 0.3250 Grad: 78822.4141 LR: 3.2313e-05 | Elapse: 92.67s\n",
                        "Epoch 4 [750/761] | Train Loss: 0.3197 Grad: 75479.2500 LR: 3.0540e-05 | Elapse: 99.34s\n",
                        "Epoch 4 [760/761] | Train Loss: 0.3185 Grad: 58335.8672 LR: 3.0189e-05 | Elapse: 100.67s\n"
                    ]
                },
                {
                    "data": {
                        "application/vnd.jupyter.widget-view+json": {
                            "model_id": "78ed8cab8d8e4ce4bd802b2aae86447b",
                            "version_major": 2,
                            "version_minor": 0
                        },
                        "text/plain": [
                            "Valid [3]:   0%|          | 0/170 [00:00<?, ?batch/s]"
                        ]
                    },
                    "metadata": {},
                    "output_type": "display_data"
                },
                {
                    "name": "stdout",
                    "output_type": "stream",
                    "text": [
                        "Epoch 4 [0/170] | Valid Loss: 0.5599 | Elapse: 0.08s\n",
                        "Epoch 4 [50/170] | Valid Loss: 0.7991 | Elapse: 4.04s\n",
                        "Epoch 4 [100/170] | Valid Loss: 0.7701 | Elapse: 7.99s\n",
                        "Epoch 4 [150/170] | Valid Loss: 0.8176 | Elapse: 11.96s\n"
                    ]
                },
                {
                    "name": "stderr",
                    "output_type": "stream",
                    "text": [
                        "----------------------------------------------------------------------------------------------------\n",
                        "Epoch 4 - Average Loss: (train) 0.3185; (valid) 0.8398 | Time: 114.10s\n"
                    ]
                },
                {
                    "name": "stdout",
                    "output_type": "stream",
                    "text": [
                        "Epoch 4 [169/170] | Valid Loss: 0.8398 | Elapse: 13.42s\n"
                    ]
                },
                {
                    "data": {
                        "application/vnd.jupyter.widget-view+json": {
                            "model_id": "6bd42aadb71c4ad28c89ce12d2cea25a",
                            "version_major": 2,
                            "version_minor": 0
                        },
                        "text/plain": [
                            "Train [4]:   0%|          | 0/761 [00:00<?, ?batch/s]"
                        ]
                    },
                    "metadata": {},
                    "output_type": "display_data"
                },
                {
                    "name": "stdout",
                    "output_type": "stream",
                    "text": [
                        "Epoch 5 [0/761] | Train Loss: 0.5467 Grad: nan LR: 3.0154e-05 | Elapse: 0.14s\n",
                        "Epoch 5 [50/761] | Train Loss: 0.2978 Grad: 28340.7266 LR: 2.8416e-05 | Elapse: 6.75s\n",
                        "Epoch 5 [100/761] | Train Loss: 0.2809 Grad: 36799.0664 LR: 2.6709e-05 | Elapse: 13.35s\n",
                        "Epoch 5 [150/761] | Train Loss: 0.2802 Grad: 50882.1211 LR: 2.5037e-05 | Elapse: 19.97s\n",
                        "Epoch 5 [200/761] | Train Loss: 0.2744 Grad: 25815.9844 LR: 2.3401e-05 | Elapse: 26.58s\n",
                        "Epoch 5 [250/761] | Train Loss: 0.2687 Grad: 26003.3008 LR: 2.1804e-05 | Elapse: 33.19s\n",
                        "Epoch 5 [300/761] | Train Loss: 0.2634 Grad: 42847.4531 LR: 2.0248e-05 | Elapse: 39.79s\n",
                        "Epoch 5 [350/761] | Train Loss: 0.2626 Grad: 39912.6602 LR: 1.8735e-05 | Elapse: 46.47s\n",
                        "Epoch 5 [400/761] | Train Loss: 0.2602 Grad: 29946.0605 LR: 1.7269e-05 | Elapse: 53.09s\n",
                        "Epoch 5 [450/761] | Train Loss: 0.2555 Grad: 20152.7324 LR: 1.5850e-05 | Elapse: 59.69s\n",
                        "Epoch 5 [500/761] | Train Loss: 0.2496 Grad: 26374.8750 LR: 1.4481e-05 | Elapse: 66.33s\n",
                        "Epoch 5 [550/761] | Train Loss: 0.2464 Grad: 15856.0264 LR: 1.3164e-05 | Elapse: 72.96s\n",
                        "Epoch 5 [600/761] | Train Loss: 0.2431 Grad: 29926.2305 LR: 1.1901e-05 | Elapse: 79.58s\n",
                        "Epoch 5 [650/761] | Train Loss: 0.2426 Grad: 39759.5039 LR: 1.0693e-05 | Elapse: 86.21s\n",
                        "Epoch 5 [700/761] | Train Loss: 0.2434 Grad: 35180.1836 LR: 9.5431e-06 | Elapse: 92.86s\n",
                        "Epoch 5 [750/761] | Train Loss: 0.2416 Grad: 40505.2227 LR: 8.4523e-06 | Elapse: 99.51s\n",
                        "Epoch 5 [760/761] | Train Loss: 0.2412 Grad: 29704.0410 LR: 8.2413e-06 | Elapse: 100.83s\n"
                    ]
                },
                {
                    "data": {
                        "application/vnd.jupyter.widget-view+json": {
                            "model_id": "3067a64ff76d47a1b659a44487dc6b81",
                            "version_major": 2,
                            "version_minor": 0
                        },
                        "text/plain": [
                            "Valid [4]:   0%|          | 0/170 [00:00<?, ?batch/s]"
                        ]
                    },
                    "metadata": {},
                    "output_type": "display_data"
                },
                {
                    "name": "stdout",
                    "output_type": "stream",
                    "text": [
                        "Epoch 5 [0/170] | Valid Loss: 0.5269 | Elapse: 0.08s\n",
                        "Epoch 5 [50/170] | Valid Loss: 0.7892 | Elapse: 4.03s\n",
                        "Epoch 5 [100/170] | Valid Loss: 0.7720 | Elapse: 7.98s\n",
                        "Epoch 5 [150/170] | Valid Loss: 0.8262 | Elapse: 11.94s\n"
                    ]
                },
                {
                    "name": "stderr",
                    "output_type": "stream",
                    "text": [
                        "----------------------------------------------------------------------------------------------------\n",
                        "Epoch 5 - Average Loss: (train) 0.2412; (valid) 0.8467 | Time: 114.25s\n"
                    ]
                },
                {
                    "name": "stdout",
                    "output_type": "stream",
                    "text": [
                        "Epoch 5 [169/170] | Valid Loss: 0.8467 | Elapse: 13.41s\n"
                    ]
                },
                {
                    "data": {
                        "application/vnd.jupyter.widget-view+json": {
                            "model_id": "36c7f33357cc45fa995778b011d1f4df",
                            "version_major": 2,
                            "version_minor": 0
                        },
                        "text/plain": [
                            "Train [5]:   0%|          | 0/761 [00:00<?, ?batch/s]"
                        ]
                    },
                    "metadata": {},
                    "output_type": "display_data"
                },
                {
                    "name": "stdout",
                    "output_type": "stream",
                    "text": [
                        "Epoch 6 [0/761] | Train Loss: 0.6300 Grad: nan LR: 8.2204e-06 | Elapse: 0.13s\n",
                        "Epoch 6 [50/761] | Train Loss: 0.2672 Grad: 62932.1914 LR: 7.2038e-06 | Elapse: 6.74s\n",
                        "Epoch 6 [100/761] | Train Loss: 0.2422 Grad: 66457.0625 LR: 6.2498e-06 | Elapse: 13.37s\n",
                        "Epoch 6 [150/761] | Train Loss: 0.2388 Grad: 68485.8516 LR: 5.3597e-06 | Elapse: 20.01s\n",
                        "Epoch 6 [200/761] | Train Loss: 0.2339 Grad: 52682.1758 LR: 4.5348e-06 | Elapse: 26.64s\n",
                        "Epoch 6 [250/761] | Train Loss: 0.2313 Grad: 74143.3125 LR: 3.7764e-06 | Elapse: 33.28s\n",
                        "Epoch 6 [300/761] | Train Loss: 0.2267 Grad: 104696.0547 LR: 3.0856e-06 | Elapse: 39.89s\n",
                        "Epoch 6 [350/761] | Train Loss: 0.2253 Grad: 55169.9297 LR: 2.4633e-06 | Elapse: 46.52s\n",
                        "Epoch 6 [400/761] | Train Loss: 0.2244 Grad: 83910.2578 LR: 1.9106e-06 | Elapse: 53.18s\n",
                        "Epoch 6 [450/761] | Train Loss: 0.2212 Grad: 41229.9492 LR: 1.4281e-06 | Elapse: 59.78s\n",
                        "Epoch 6 [500/761] | Train Loss: 0.2176 Grad: 63626.6914 LR: 1.0165e-06 | Elapse: 66.38s\n",
                        "Epoch 6 [550/761] | Train Loss: 0.2160 Grad: 37819.9375 LR: 6.7662e-07 | Elapse: 72.98s\n",
                        "Epoch 6 [600/761] | Train Loss: 0.2139 Grad: 53791.0156 LR: 4.0878e-07 | Elapse: 79.59s\n",
                        "Epoch 6 [650/761] | Train Loss: 0.2147 Grad: 40183.1914 LR: 2.1342e-07 | Elapse: 86.21s\n",
                        "Epoch 6 [700/761] | Train Loss: 0.2161 Grad: 25893.3301 LR: 9.0832e-08 | Elapse: 92.85s\n",
                        "Epoch 6 [750/761] | Train Loss: 0.2154 Grad: 32510.1895 LR: 4.1183e-08 | Elapse: 99.49s\n",
                        "Epoch 6 [760/761] | Train Loss: 0.2148 Grad: 21578.9883 LR: 4.0015e-08 | Elapse: 100.82s\n"
                    ]
                },
                {
                    "data": {
                        "application/vnd.jupyter.widget-view+json": {
                            "model_id": "a2244e1c117f469f8008fef28eeb9d85",
                            "version_major": 2,
                            "version_minor": 0
                        },
                        "text/plain": [
                            "Valid [5]:   0%|          | 0/170 [00:00<?, ?batch/s]"
                        ]
                    },
                    "metadata": {},
                    "output_type": "display_data"
                },
                {
                    "name": "stdout",
                    "output_type": "stream",
                    "text": [
                        "Epoch 6 [0/170] | Valid Loss: 0.5177 | Elapse: 0.08s\n",
                        "Epoch 6 [50/170] | Valid Loss: 0.7554 | Elapse: 4.03s\n",
                        "Epoch 6 [100/170] | Valid Loss: 0.7409 | Elapse: 7.99s\n",
                        "Epoch 6 [150/170] | Valid Loss: 0.8142 | Elapse: 11.96s\n"
                    ]
                },
                {
                    "name": "stderr",
                    "output_type": "stream",
                    "text": [
                        "----------------------------------------------------------------------------------------------------\n",
                        "Epoch 6 - Average Loss: (train) 0.2148; (valid) 0.8368 | Time: 114.25s\n"
                    ]
                },
                {
                    "name": "stdout",
                    "output_type": "stream",
                    "text": [
                        "Epoch 6 [169/170] | Valid Loss: 0.8368 | Elapse: 13.42s\n"
                    ]
                },
                {
                    "name": "stderr",
                    "output_type": "stream",
                    "text": [
                        "====================================================================================================\n",
                        "Fold 4 Valid Loss: (Easy) 0.7488 | (Hard) 0.7380\n",
                        "Elapse: 11.45 min \n",
                        "====================================================================================================\n",
                        "- Second Stage \n",
                        "Use Checkpoint: DualEncoder_B0_fold_4_stage_1.pth\n"
                    ]
                },
                {
                    "data": {
                        "application/vnd.jupyter.widget-view+json": {
                            "model_id": "39c29fc3d491404593641846604a2884",
                            "version_major": 2,
                            "version_minor": 0
                        },
                        "text/plain": [
                            "Train [0]:   0%|          | 0/327 [00:00<?, ?batch/s]"
                        ]
                    },
                    "metadata": {},
                    "output_type": "display_data"
                },
                {
                    "name": "stderr",
                    "output_type": "stream",
                    "text": [
                        "/home/shiyi/miniconda3/envs/kaggle/lib/python3.11/site-packages/torch/optim/lr_scheduler.py:143: UserWarning: Detected call of `lr_scheduler.step()` before `optimizer.step()`. In PyTorch 1.1.0 and later, you should call them in the opposite order: `optimizer.step()` before `lr_scheduler.step()`.  Failure to do this will result in PyTorch skipping the first value of the learning rate schedule. See more details at https://pytorch.org/docs/stable/optim.html#how-to-adjust-learning-rate\n",
                        "  warnings.warn(\"Detected call of `lr_scheduler.step()` before `optimizer.step()`. \"\n"
                    ]
                },
                {
                    "name": "stdout",
                    "output_type": "stream",
                    "text": [
                        "Epoch 1 [0/327] | Train Loss: 0.8388 Grad: nan LR: 4.0062e-06 | Elapse: 0.13s\n",
                        "Epoch 1 [50/327] | Train Loss: 0.9498 Grad: 52660.1016 LR: 1.9282e-05 | Elapse: 6.78s\n",
                        "Epoch 1 [100/327] | Train Loss: 0.8509 Grad: 40554.0039 LR: 5.4625e-05 | Elapse: 13.38s\n",
                        "Epoch 1 [150/327] | Train Loss: 0.7541 Grad: 40146.4570 LR: 8.8359e-05 | Elapse: 19.99s\n",
                        "Epoch 1 [200/327] | Train Loss: 0.6913 Grad: 31336.4082 LR: 9.9997e-05 | Elapse: 26.61s\n",
                        "Epoch 1 [250/327] | Train Loss: 0.6509 Grad: 24048.8359 LR: 9.9754e-05 | Elapse: 33.23s\n",
                        "Epoch 1 [300/327] | Train Loss: 0.6164 Grad: 25539.8555 LR: 9.9117e-05 | Elapse: 39.89s\n",
                        "Epoch 1 [326/327] | Train Loss: 0.6006 Grad: 24716.7344 LR: 9.8632e-05 | Elapse: 43.33s\n"
                    ]
                },
                {
                    "data": {
                        "application/vnd.jupyter.widget-view+json": {
                            "model_id": "9d745327798d44f2ad49130087a5a99c",
                            "version_major": 2,
                            "version_minor": 0
                        },
                        "text/plain": [
                            "Valid [0]:   0%|          | 0/170 [00:00<?, ?batch/s]"
                        ]
                    },
                    "metadata": {},
                    "output_type": "display_data"
                },
                {
                    "name": "stdout",
                    "output_type": "stream",
                    "text": [
                        "Epoch 1 [0/170] | Valid Loss: 0.6756 | Elapse: 0.08s\n",
                        "Epoch 1 [50/170] | Valid Loss: 0.9045 | Elapse: 4.04s\n",
                        "Epoch 1 [100/170] | Valid Loss: 0.9034 | Elapse: 8.00s\n",
                        "Epoch 1 [150/170] | Valid Loss: 0.7807 | Elapse: 11.98s\n"
                    ]
                },
                {
                    "name": "stderr",
                    "output_type": "stream",
                    "text": [
                        "----------------------------------------------------------------------------------------------------\n",
                        "Epoch 1 - Average Loss: (train) 0.6006; (valid) 0.7383 | Time: 56.78s\n",
                        "Best model found in epoch 1 | valid loss: 0.7383\n"
                    ]
                },
                {
                    "name": "stdout",
                    "output_type": "stream",
                    "text": [
                        "Epoch 1 [169/170] | Valid Loss: 0.7383 | Elapse: 13.45s\n"
                    ]
                },
                {
                    "data": {
                        "application/vnd.jupyter.widget-view+json": {
                            "model_id": "89ede5f05d2446a8ba22fb600b454d3f",
                            "version_major": 2,
                            "version_minor": 0
                        },
                        "text/plain": [
                            "Train [1]:   0%|          | 0/327 [00:00<?, ?batch/s]"
                        ]
                    },
                    "metadata": {},
                    "output_type": "display_data"
                },
                {
                    "name": "stdout",
                    "output_type": "stream",
                    "text": [
                        "Epoch 2 [0/327] | Train Loss: 0.4510 Grad: 240607.5312 LR: 9.8611e-05 | Elapse: 0.14s\n",
                        "Epoch 2 [50/327] | Train Loss: 0.4151 Grad: 64791.3906 LR: 9.7380e-05 | Elapse: 6.77s\n",
                        "Epoch 2 [100/327] | Train Loss: 0.4067 Grad: 78195.8438 LR: 9.5774e-05 | Elapse: 13.37s\n",
                        "Epoch 2 [150/327] | Train Loss: 0.3905 Grad: 82608.0312 LR: 9.3806e-05 | Elapse: 19.99s\n",
                        "Epoch 2 [200/327] | Train Loss: 0.3782 Grad: 75312.4062 LR: 9.1492e-05 | Elapse: 26.61s\n",
                        "Epoch 2 [250/327] | Train Loss: 0.3737 Grad: 70185.5781 LR: 8.8850e-05 | Elapse: 33.23s\n",
                        "Epoch 2 [300/327] | Train Loss: 0.3705 Grad: 82434.7422 LR: 8.5901e-05 | Elapse: 39.85s\n",
                        "Epoch 2 [326/327] | Train Loss: 0.3682 Grad: 76854.5391 LR: 8.4254e-05 | Elapse: 43.30s\n"
                    ]
                },
                {
                    "data": {
                        "application/vnd.jupyter.widget-view+json": {
                            "model_id": "dd1ec267a6e74804a85c14c6e43af836",
                            "version_major": 2,
                            "version_minor": 0
                        },
                        "text/plain": [
                            "Valid [1]:   0%|          | 0/170 [00:00<?, ?batch/s]"
                        ]
                    },
                    "metadata": {},
                    "output_type": "display_data"
                },
                {
                    "name": "stdout",
                    "output_type": "stream",
                    "text": [
                        "Epoch 2 [0/170] | Valid Loss: 0.7627 | Elapse: 0.08s\n",
                        "Epoch 2 [50/170] | Valid Loss: 0.9093 | Elapse: 4.04s\n",
                        "Epoch 2 [100/170] | Valid Loss: 0.9003 | Elapse: 8.00s\n",
                        "Epoch 2 [150/170] | Valid Loss: 0.7710 | Elapse: 11.97s\n"
                    ]
                },
                {
                    "name": "stderr",
                    "output_type": "stream",
                    "text": [
                        "----------------------------------------------------------------------------------------------------\n",
                        "Epoch 2 - Average Loss: (train) 0.3682; (valid) 0.7261 | Time: 56.74s\n",
                        "Best model found in epoch 2 | valid loss: 0.7261\n"
                    ]
                },
                {
                    "name": "stdout",
                    "output_type": "stream",
                    "text": [
                        "Epoch 2 [169/170] | Valid Loss: 0.7261 | Elapse: 13.44s\n"
                    ]
                },
                {
                    "data": {
                        "application/vnd.jupyter.widget-view+json": {
                            "model_id": "928cdaf81e674fd4836d40b7a26326d0",
                            "version_major": 2,
                            "version_minor": 0
                        },
                        "text/plain": [
                            "Train [2]:   0%|          | 0/327 [00:00<?, ?batch/s]"
                        ]
                    },
                    "metadata": {},
                    "output_type": "display_data"
                },
                {
                    "name": "stdout",
                    "output_type": "stream",
                    "text": [
                        "Epoch 3 [0/327] | Train Loss: 0.3788 Grad: 187386.4062 LR: 8.4189e-05 | Elapse: 0.14s\n",
                        "Epoch 3 [50/327] | Train Loss: 0.3318 Grad: 54236.0742 LR: 8.0813e-05 | Elapse: 6.78s\n",
                        "Epoch 3 [100/327] | Train Loss: 0.3285 Grad: 76439.2734 LR: 7.7194e-05 | Elapse: 13.40s\n",
                        "Epoch 3 [150/327] | Train Loss: 0.3179 Grad: 89366.6641 LR: 7.3360e-05 | Elapse: 20.07s\n",
                        "Epoch 3 [200/327] | Train Loss: 0.3084 Grad: 58765.1875 LR: 6.9341e-05 | Elapse: 26.70s\n",
                        "Epoch 3 [250/327] | Train Loss: 0.3052 Grad: 68094.2578 LR: 6.5170e-05 | Elapse: 33.35s\n",
                        "Epoch 3 [300/327] | Train Loss: 0.3037 Grad: 78899.3516 LR: 6.0879e-05 | Elapse: 39.98s\n",
                        "Epoch 3 [326/327] | Train Loss: 0.3028 Grad: 80562.1406 LR: 5.8611e-05 | Elapse: 43.44s\n"
                    ]
                },
                {
                    "data": {
                        "application/vnd.jupyter.widget-view+json": {
                            "model_id": "e60131309f904024a0a7317e4caed68a",
                            "version_major": 2,
                            "version_minor": 0
                        },
                        "text/plain": [
                            "Valid [2]:   0%|          | 0/170 [00:00<?, ?batch/s]"
                        ]
                    },
                    "metadata": {},
                    "output_type": "display_data"
                },
                {
                    "name": "stdout",
                    "output_type": "stream",
                    "text": [
                        "Epoch 3 [0/170] | Valid Loss: 0.8171 | Elapse: 0.08s\n",
                        "Epoch 3 [50/170] | Valid Loss: 0.9445 | Elapse: 4.05s\n",
                        "Epoch 3 [100/170] | Valid Loss: 0.9403 | Elapse: 8.01s\n",
                        "Epoch 3 [150/170] | Valid Loss: 0.7990 | Elapse: 11.98s\n"
                    ]
                },
                {
                    "name": "stderr",
                    "output_type": "stream",
                    "text": [
                        "----------------------------------------------------------------------------------------------------\n",
                        "Epoch 3 - Average Loss: (train) 0.3028; (valid) 0.7509 | Time: 56.89s\n"
                    ]
                },
                {
                    "name": "stdout",
                    "output_type": "stream",
                    "text": [
                        "Epoch 3 [169/170] | Valid Loss: 0.7509 | Elapse: 13.44s\n"
                    ]
                },
                {
                    "data": {
                        "application/vnd.jupyter.widget-view+json": {
                            "model_id": "f0503522173a4acc89a78c9ba1e2203a",
                            "version_major": 2,
                            "version_minor": 0
                        },
                        "text/plain": [
                            "Train [3]:   0%|          | 0/327 [00:00<?, ?batch/s]"
                        ]
                    },
                    "metadata": {},
                    "output_type": "display_data"
                },
                {
                    "name": "stdout",
                    "output_type": "stream",
                    "text": [
                        "Epoch 4 [0/327] | Train Loss: 0.3095 Grad: 157728.4219 LR: 5.8524e-05 | Elapse: 0.14s\n",
                        "Epoch 4 [50/327] | Train Loss: 0.2767 Grad: 109397.3594 LR: 5.4115e-05 | Elapse: 6.76s\n",
                        "Epoch 4 [100/327] | Train Loss: 0.2763 Grad: 70220.5000 LR: 4.9673e-05 | Elapse: 13.38s\n",
                        "Epoch 4 [150/327] | Train Loss: 0.2678 Grad: 74617.6875 LR: 4.5234e-05 | Elapse: 20.06s\n",
                        "Epoch 4 [200/327] | Train Loss: 0.2597 Grad: 90233.1406 LR: 4.0834e-05 | Elapse: 26.70s\n",
                        "Epoch 4 [250/327] | Train Loss: 0.2573 Grad: 68446.8203 LR: 3.6505e-05 | Elapse: 33.33s\n",
                        "Epoch 4 [300/327] | Train Loss: 0.2564 Grad: 74842.4453 LR: 3.2284e-05 | Elapse: 39.95s\n",
                        "Epoch 4 [326/327] | Train Loss: 0.2555 Grad: 82770.1562 LR: 3.0142e-05 | Elapse: 43.39s\n"
                    ]
                },
                {
                    "data": {
                        "application/vnd.jupyter.widget-view+json": {
                            "model_id": "2b450bc845f84e8eaaadc78b85508b12",
                            "version_major": 2,
                            "version_minor": 0
                        },
                        "text/plain": [
                            "Valid [3]:   0%|          | 0/170 [00:00<?, ?batch/s]"
                        ]
                    },
                    "metadata": {},
                    "output_type": "display_data"
                },
                {
                    "name": "stdout",
                    "output_type": "stream",
                    "text": [
                        "Epoch 4 [0/170] | Valid Loss: 0.8195 | Elapse: 0.08s\n",
                        "Epoch 4 [50/170] | Valid Loss: 0.9364 | Elapse: 4.06s\n",
                        "Epoch 4 [100/170] | Valid Loss: 0.9269 | Elapse: 8.01s\n",
                        "Epoch 4 [150/170] | Valid Loss: 0.7894 | Elapse: 11.99s\n"
                    ]
                },
                {
                    "name": "stderr",
                    "output_type": "stream",
                    "text": [
                        "----------------------------------------------------------------------------------------------------\n",
                        "Epoch 4 - Average Loss: (train) 0.2555; (valid) 0.7426 | Time: 56.86s\n"
                    ]
                },
                {
                    "name": "stdout",
                    "output_type": "stream",
                    "text": [
                        "Epoch 4 [169/170] | Valid Loss: 0.7426 | Elapse: 13.46s\n"
                    ]
                },
                {
                    "data": {
                        "application/vnd.jupyter.widget-view+json": {
                            "model_id": "7020bbba3c8641babd786f1cee7ccc0f",
                            "version_major": 2,
                            "version_minor": 0
                        },
                        "text/plain": [
                            "Train [4]:   0%|          | 0/327 [00:00<?, ?batch/s]"
                        ]
                    },
                    "metadata": {},
                    "output_type": "display_data"
                },
                {
                    "name": "stdout",
                    "output_type": "stream",
                    "text": [
                        "Epoch 5 [0/327] | Train Loss: 0.2345 Grad: 145288.0781 LR: 3.0061e-05 | Elapse: 0.14s\n",
                        "Epoch 5 [50/327] | Train Loss: 0.2346 Grad: 44753.5156 LR: 2.6069e-05 | Elapse: 6.75s\n",
                        "Epoch 5 [100/327] | Train Loss: 0.2364 Grad: 65878.5156 LR: 2.2266e-05 | Elapse: 13.39s\n",
                        "Epoch 5 [150/327] | Train Loss: 0.2314 Grad: 64109.0078 LR: 1.8683e-05 | Elapse: 20.09s\n",
                        "Epoch 5 [200/327] | Train Loss: 0.2244 Grad: 53804.9883 LR: 1.5348e-05 | Elapse: 26.71s\n",
                        "Epoch 5 [250/327] | Train Loss: 0.2242 Grad: 65636.0312 LR: 1.2287e-05 | Elapse: 33.34s\n",
                        "Epoch 5 [300/327] | Train Loss: 0.2241 Grad: 64553.7344 LR: 9.5248e-06 | Elapse: 39.98s\n",
                        "Epoch 5 [326/327] | Train Loss: 0.2247 Grad: 117116.3906 LR: 8.2135e-06 | Elapse: 43.46s\n"
                    ]
                },
                {
                    "data": {
                        "application/vnd.jupyter.widget-view+json": {
                            "model_id": "accc19d885da4f01a6816593ee02e01d",
                            "version_major": 2,
                            "version_minor": 0
                        },
                        "text/plain": [
                            "Valid [4]:   0%|          | 0/170 [00:00<?, ?batch/s]"
                        ]
                    },
                    "metadata": {},
                    "output_type": "display_data"
                },
                {
                    "name": "stdout",
                    "output_type": "stream",
                    "text": [
                        "Epoch 5 [0/170] | Valid Loss: 0.8399 | Elapse: 0.08s\n",
                        "Epoch 5 [50/170] | Valid Loss: 0.9709 | Elapse: 4.05s\n",
                        "Epoch 5 [100/170] | Valid Loss: 0.9603 | Elapse: 8.00s\n",
                        "Epoch 5 [150/170] | Valid Loss: 0.8157 | Elapse: 11.98s\n"
                    ]
                },
                {
                    "name": "stderr",
                    "output_type": "stream",
                    "text": [
                        "----------------------------------------------------------------------------------------------------\n",
                        "Epoch 5 - Average Loss: (train) 0.2247; (valid) 0.7672 | Time: 56.93s\n"
                    ]
                },
                {
                    "name": "stdout",
                    "output_type": "stream",
                    "text": [
                        "Epoch 5 [169/170] | Valid Loss: 0.7672 | Elapse: 13.45s\n"
                    ]
                },
                {
                    "data": {
                        "application/vnd.jupyter.widget-view+json": {
                            "model_id": "3cef1dc7054b4d748ad91b0ca6d416e1",
                            "version_major": 2,
                            "version_minor": 0
                        },
                        "text/plain": [
                            "Train [5]:   0%|          | 0/327 [00:00<?, ?batch/s]"
                        ]
                    },
                    "metadata": {},
                    "output_type": "display_data"
                },
                {
                    "name": "stdout",
                    "output_type": "stream",
                    "text": [
                        "Epoch 6 [0/327] | Train Loss: 0.1833 Grad: 132188.1250 LR: 8.1649e-06 | Elapse: 0.14s\n",
                        "Epoch 6 [50/327] | Train Loss: 0.2145 Grad: 44954.2227 LR: 5.9036e-06 | Elapse: 6.74s\n",
                        "Epoch 6 [100/327] | Train Loss: 0.2149 Grad: 61611.2539 LR: 3.9913e-06 | Elapse: 13.41s\n",
                        "Epoch 6 [150/327] | Train Loss: 0.2132 Grad: 83828.1875 LR: 2.4430e-06 | Elapse: 20.05s\n",
                        "Epoch 6 [200/327] | Train Loss: 0.2090 Grad: 53283.6836 LR: 1.2709e-06 | Elapse: 26.67s\n",
                        "Epoch 6 [250/327] | Train Loss: 0.2090 Grad: 61853.1094 LR: 4.8428e-07 | Elapse: 33.29s\n",
                        "Epoch 6 [300/327] | Train Loss: 0.2106 Grad: 77720.3359 LR: 8.9430e-08 | Elapse: 39.91s\n",
                        "Epoch 6 [326/327] | Train Loss: 0.2119 Grad: 120237.5703 LR: 4.0079e-08 | Elapse: 43.36s\n"
                    ]
                },
                {
                    "data": {
                        "application/vnd.jupyter.widget-view+json": {
                            "model_id": "409d4ecffb5941e0bdeedfebc71d97c1",
                            "version_major": 2,
                            "version_minor": 0
                        },
                        "text/plain": [
                            "Valid [5]:   0%|          | 0/170 [00:00<?, ?batch/s]"
                        ]
                    },
                    "metadata": {},
                    "output_type": "display_data"
                },
                {
                    "name": "stdout",
                    "output_type": "stream",
                    "text": [
                        "Epoch 6 [0/170] | Valid Loss: 0.8177 | Elapse: 0.09s\n",
                        "Epoch 6 [50/170] | Valid Loss: 0.9560 | Elapse: 4.06s\n",
                        "Epoch 6 [100/170] | Valid Loss: 0.9446 | Elapse: 8.02s\n",
                        "Epoch 6 [150/170] | Valid Loss: 0.8029 | Elapse: 12.00s\n"
                    ]
                },
                {
                    "name": "stderr",
                    "output_type": "stream",
                    "text": [
                        "----------------------------------------------------------------------------------------------------\n",
                        "Epoch 6 - Average Loss: (train) 0.2119; (valid) 0.7560 | Time: 56.84s\n"
                    ]
                },
                {
                    "name": "stdout",
                    "output_type": "stream",
                    "text": [
                        "Epoch 6 [169/170] | Valid Loss: 0.7560 | Elapse: 13.47s\n"
                    ]
                },
                {
                    "name": "stderr",
                    "output_type": "stream",
                    "text": [
                        "====================================================================================================\n",
                        "Fold 4 Valid Loss: (Easy) 0.9007 | (Hard) 0.3828\n",
                        "Elapse: 5.70 min \n",
                        "====================================================================================================\n",
                        "====================================================================================================\n",
                        "Training Complete!\n",
                        "CV Result (Stage=1): 0.6734097003936768\n",
                        "CV Result (Stage=2): 0.6629504561424255\n",
                        "Elapse: 87.43 min \n",
                        "====================================================================================================\n"
                    ]
                }
            ],
            "source": [
                "hms_predictor.train_model(train_easy, train_hard, all_specs, all_eegs)"
            ]
        },
        {
            "cell_type": "code",
            "execution_count": null,
            "metadata": {},
            "outputs": [],
            "source": [
                "# # Config EfficientNet \n",
                "# ModelConfig.EPOCHS = 6\n",
                "# ModelConfig.BATCH_SIZE = 16\n",
                "# ModelConfig.GRADIENT_ACCUMULATION_STEPS = 2\n",
                "# ModelConfig.MODEL_BACKBONE = 'tf_efficientnet_b2'\n",
                "# ModelConfig.MODEL_NAME = \"ENet_b2_xymask_rebalance\"\n",
                "# ModelConfig.USE_KAGGLE_SPECTROGRAMS = True\n",
                "# ModelConfig.USE_EEG_SPECTROGRAMS = True\n",
                "# ModelConfig.REGULARIZATION = None\n",
                "# ModelConfig.AUGMENT = True\n",
                "# ModelConfig.AUGMENTATIONS = ['xy_masking']\n",
                "\n",
                "# hms_predictor = HMSPredictor(paths.OUTPUT_DIR, ModelConfig, k_fold=5)"
            ]
        },
        {
            "cell_type": "code",
            "execution_count": null,
            "metadata": {},
            "outputs": [],
            "source": [
                "# # Config ViTMAE\n",
                "# ModelConfig.EPOCHS = 6\n",
                "# ModelConfig.MODEL_BACKBONE = 'vit_mae_base'\n",
                "# ModelConfig.MODEL_NAME = \"ViTMAE_base_mlp_dropout_020\"\n",
                "# ModelConfig.AUGMENT = True\n",
                "# ModelConfig.USE_KAGGLE_SPECTROGRAMS = True\n",
                "# ModelConfig.USE_EEG_SPECTROGRAMS = True\n",
                "# ModelConfig.REGULARIZATION = None\n",
                "# ModelConfig.AUGMENTATIONS = ['xy_masking']\n",
                "# ModelConfig.MAE_PRETRAINED_WEIGHTS = \"./outputs/vit_mae_pretraining/ViTMAE_PreTrained_Best.pth\"\n",
                "# ModelConfig.MAE_HIDDEN_DROPOUT_PROB = 0.1\n",
                "# ModelConfig.MAE_ATTENTION_DROPOUT_PROB = 0.1\n",
                "# ModelConfig.DROP_RATE = 0.2\n",
                "\n",
                "# hms_predictor = HMSPredictor(paths.OUTPUT_DIR, ModelConfig, k_fold=5)"
            ]
        },
        {
            "cell_type": "code",
            "execution_count": 6,
            "metadata": {},
            "outputs": [],
            "source": [
                "pd.set_option('display.max_columns', None)\n",
                "KL_CRITERION = nn.KLDivLoss(reduction='batchmean')\n",
                "SOFTMAX = nn.Softmax(dim=1)\n",
                "\n",
                "TARGET2ID = {\n",
                "    'Seizure': 0,\n",
                "    'LPD': 1,\n",
                "    'GPD': 2,\n",
                "    'LRDA': 3,\n",
                "    'GRDA': 4,\n",
                "    'Other': 5\n",
                "}\n",
                "\n",
                "from kl_divergence import score as kaggle_score \n",
                "\n",
                "def calc_kaggle_score(oof_df):\n",
                "    submission_df = oof_df[['eeg_id']+TARGETS_PRED].copy()\n",
                "    submission_df.columns = ['eeg_id'] + TARGETS\n",
                "    solution_df = oof_df[['eeg_id']+TARGETS].copy()\n",
                "    return kaggle_score(solution_df, submission_df, 'eeg_id')\n",
                "\n",
                "def analyze_oof(oof_csv):\n",
                "\n",
                "    oof_df = pd.read_csv(oof_csv)\n",
                "    oof_df['target_pred'] = oof_df[TARGETS_PRED].apply(lambda x: np.argmax(x), axis=1)\n",
                "    oof_df['target_id'] = oof_df[TARGETS].apply(lambda x: np.argmax(x), axis=1)\n",
                "    \n",
                "    oof_df[\"kl_loss\"] = oof_df.apply(\n",
                "    lambda row: \n",
                "        KL_CRITERION(\n",
                "            F.log_softmax(\n",
                "                    torch.tensor(row[TARGETS_PRED].values.astype(np.float32)).unsqueeze(0)\n",
                "                , dim=1\n",
                "                ), \n",
                "            torch.tensor(row[TARGETS].values.astype(np.float32))\n",
                "            ).numpy(),\n",
                "    axis=1)\n",
                "\n",
                "    oof_df[\"kl_loss\"] = oof_df['kl_loss'].astype(np.float32)\n",
                "\n",
                "    oof_df[TARGETS_PRED] = SOFTMAX( torch.tensor(oof_df[TARGETS_PRED].values.astype(np.float32)))\n",
                "\n",
                "    oof_df.head()\n",
                "\n",
                "    return oof_df"
            ]
        },
        {
            "cell_type": "code",
            "execution_count": 9,
            "metadata": {},
            "outputs": [
                {
                    "name": "stdout",
                    "output_type": "stream",
                    "text": [
                        "CSV Path:  ./outputs/ViTMAE_base_mlp_dropout_020/ViTMAE_base_mlp_dropout_020_oof_2.csv\n",
                        "Kaggle Score:  0.7274326789978072\n",
                        "Average KL Loss:  0.72743267\n"
                    ]
                },
                {
                    "data": {
                        "text/html": [
                            "<div>\n",
                            "<style scoped>\n",
                            "    .dataframe tbody tr th:only-of-type {\n",
                            "        vertical-align: middle;\n",
                            "    }\n",
                            "\n",
                            "    .dataframe tbody tr th {\n",
                            "        vertical-align: top;\n",
                            "    }\n",
                            "\n",
                            "    .dataframe thead th {\n",
                            "        text-align: right;\n",
                            "    }\n",
                            "</style>\n",
                            "<table border=\"1\" class=\"dataframe\">\n",
                            "  <thead>\n",
                            "    <tr style=\"text-align: right;\">\n",
                            "      <th></th>\n",
                            "      <th>eeg_id</th>\n",
                            "      <th>seizure_vote</th>\n",
                            "      <th>lpd_vote</th>\n",
                            "      <th>gpd_vote</th>\n",
                            "      <th>lrda_vote</th>\n",
                            "      <th>grda_vote</th>\n",
                            "      <th>other_vote</th>\n",
                            "      <th>spectrogram_id</th>\n",
                            "      <th>min</th>\n",
                            "      <th>max</th>\n",
                            "      <th>patient_id</th>\n",
                            "      <th>target</th>\n",
                            "      <th>fold</th>\n",
                            "      <th>easy_or_hard</th>\n",
                            "      <th>seizure_pred</th>\n",
                            "      <th>lpd_pred</th>\n",
                            "      <th>gpd_pred</th>\n",
                            "      <th>lrda_pred</th>\n",
                            "      <th>grda_pred</th>\n",
                            "      <th>other_pred</th>\n",
                            "      <th>target_pred</th>\n",
                            "      <th>target_id</th>\n",
                            "      <th>kl_loss</th>\n",
                            "    </tr>\n",
                            "  </thead>\n",
                            "  <tbody>\n",
                            "    <tr>\n",
                            "      <th>0</th>\n",
                            "      <td>642382</td>\n",
                            "      <td>0.0</td>\n",
                            "      <td>0.0</td>\n",
                            "      <td>0.0</td>\n",
                            "      <td>0.0</td>\n",
                            "      <td>0.0</td>\n",
                            "      <td>1.0</td>\n",
                            "      <td>14960202</td>\n",
                            "      <td>1008.0</td>\n",
                            "      <td>1032.0</td>\n",
                            "      <td>5955</td>\n",
                            "      <td>Other</td>\n",
                            "      <td>0</td>\n",
                            "      <td>easy</td>\n",
                            "      <td>0.013910</td>\n",
                            "      <td>0.082543</td>\n",
                            "      <td>0.013405</td>\n",
                            "      <td>0.127947</td>\n",
                            "      <td>0.057605</td>\n",
                            "      <td>0.704590</td>\n",
                            "      <td>5</td>\n",
                            "      <td>5</td>\n",
                            "      <td>0.350139</td>\n",
                            "    </tr>\n",
                            "    <tr>\n",
                            "      <th>1</th>\n",
                            "      <td>751790</td>\n",
                            "      <td>0.0</td>\n",
                            "      <td>0.0</td>\n",
                            "      <td>1.0</td>\n",
                            "      <td>0.0</td>\n",
                            "      <td>0.0</td>\n",
                            "      <td>0.0</td>\n",
                            "      <td>618728447</td>\n",
                            "      <td>908.0</td>\n",
                            "      <td>908.0</td>\n",
                            "      <td>38549</td>\n",
                            "      <td>GPD</td>\n",
                            "      <td>0</td>\n",
                            "      <td>easy</td>\n",
                            "      <td>0.016607</td>\n",
                            "      <td>0.097068</td>\n",
                            "      <td>0.874290</td>\n",
                            "      <td>0.000336</td>\n",
                            "      <td>0.001736</td>\n",
                            "      <td>0.009963</td>\n",
                            "      <td>2</td>\n",
                            "      <td>2</td>\n",
                            "      <td>0.134343</td>\n",
                            "    </tr>\n",
                            "    <tr>\n",
                            "      <th>2</th>\n",
                            "      <td>778705</td>\n",
                            "      <td>0.0</td>\n",
                            "      <td>0.0</td>\n",
                            "      <td>0.0</td>\n",
                            "      <td>0.0</td>\n",
                            "      <td>0.0</td>\n",
                            "      <td>1.0</td>\n",
                            "      <td>52296320</td>\n",
                            "      <td>0.0</td>\n",
                            "      <td>0.0</td>\n",
                            "      <td>40955</td>\n",
                            "      <td>Other</td>\n",
                            "      <td>0</td>\n",
                            "      <td>easy</td>\n",
                            "      <td>0.006676</td>\n",
                            "      <td>0.065797</td>\n",
                            "      <td>0.013164</td>\n",
                            "      <td>0.115063</td>\n",
                            "      <td>0.064591</td>\n",
                            "      <td>0.734710</td>\n",
                            "      <td>5</td>\n",
                            "      <td>5</td>\n",
                            "      <td>0.308280</td>\n",
                            "    </tr>\n",
                            "    <tr>\n",
                            "      <th>3</th>\n",
                            "      <td>1629671</td>\n",
                            "      <td>1.0</td>\n",
                            "      <td>0.0</td>\n",
                            "      <td>0.0</td>\n",
                            "      <td>0.0</td>\n",
                            "      <td>0.0</td>\n",
                            "      <td>0.0</td>\n",
                            "      <td>2036345030</td>\n",
                            "      <td>0.0</td>\n",
                            "      <td>160.0</td>\n",
                            "      <td>37481</td>\n",
                            "      <td>Seizure</td>\n",
                            "      <td>0</td>\n",
                            "      <td>easy</td>\n",
                            "      <td>0.589812</td>\n",
                            "      <td>0.138810</td>\n",
                            "      <td>0.006264</td>\n",
                            "      <td>0.103276</td>\n",
                            "      <td>0.009317</td>\n",
                            "      <td>0.152521</td>\n",
                            "      <td>0</td>\n",
                            "      <td>0</td>\n",
                            "      <td>0.527951</td>\n",
                            "    </tr>\n",
                            "    <tr>\n",
                            "      <th>4</th>\n",
                            "      <td>2061593</td>\n",
                            "      <td>0.0</td>\n",
                            "      <td>0.0</td>\n",
                            "      <td>0.0</td>\n",
                            "      <td>0.0</td>\n",
                            "      <td>0.0</td>\n",
                            "      <td>1.0</td>\n",
                            "      <td>320962633</td>\n",
                            "      <td>1450.0</td>\n",
                            "      <td>1450.0</td>\n",
                            "      <td>23828</td>\n",
                            "      <td>Other</td>\n",
                            "      <td>0</td>\n",
                            "      <td>easy</td>\n",
                            "      <td>0.001519</td>\n",
                            "      <td>0.011499</td>\n",
                            "      <td>0.004044</td>\n",
                            "      <td>0.033051</td>\n",
                            "      <td>0.080098</td>\n",
                            "      <td>0.869789</td>\n",
                            "      <td>5</td>\n",
                            "      <td>5</td>\n",
                            "      <td>0.139505</td>\n",
                            "    </tr>\n",
                            "  </tbody>\n",
                            "</table>\n",
                            "</div>"
                        ],
                        "text/plain": [
                            "    eeg_id  seizure_vote  lpd_vote  gpd_vote  lrda_vote  grda_vote  \\\n",
                            "0   642382           0.0       0.0       0.0        0.0        0.0   \n",
                            "1   751790           0.0       0.0       1.0        0.0        0.0   \n",
                            "2   778705           0.0       0.0       0.0        0.0        0.0   \n",
                            "3  1629671           1.0       0.0       0.0        0.0        0.0   \n",
                            "4  2061593           0.0       0.0       0.0        0.0        0.0   \n",
                            "\n",
                            "   other_vote  spectrogram_id     min     max  patient_id   target  fold  \\\n",
                            "0         1.0        14960202  1008.0  1032.0        5955    Other     0   \n",
                            "1         0.0       618728447   908.0   908.0       38549      GPD     0   \n",
                            "2         1.0        52296320     0.0     0.0       40955    Other     0   \n",
                            "3         0.0      2036345030     0.0   160.0       37481  Seizure     0   \n",
                            "4         1.0       320962633  1450.0  1450.0       23828    Other     0   \n",
                            "\n",
                            "  easy_or_hard  seizure_pred  lpd_pred  gpd_pred  lrda_pred  grda_pred  \\\n",
                            "0         easy      0.013910  0.082543  0.013405   0.127947   0.057605   \n",
                            "1         easy      0.016607  0.097068  0.874290   0.000336   0.001736   \n",
                            "2         easy      0.006676  0.065797  0.013164   0.115063   0.064591   \n",
                            "3         easy      0.589812  0.138810  0.006264   0.103276   0.009317   \n",
                            "4         easy      0.001519  0.011499  0.004044   0.033051   0.080098   \n",
                            "\n",
                            "   other_pred  target_pred  target_id   kl_loss  \n",
                            "0    0.704590            5          5  0.350139  \n",
                            "1    0.009963            2          2  0.134343  \n",
                            "2    0.734710            5          5  0.308280  \n",
                            "3    0.152521            0          0  0.527951  \n",
                            "4    0.869789            5          5  0.139505  "
                        ]
                    },
                    "execution_count": 9,
                    "metadata": {},
                    "output_type": "execute_result"
                }
            ],
            "source": [
                "# csv_path = f'./outputs/{ModelConfig.MODEL_NAME}/{ModelConfig.MODEL_NAME}_oof_2.csv'\n",
                "csv_path = f'./outputs/ViTMAE_base_mlp_dropout_020/ViTMAE_base_mlp_dropout_020_oof_2.csv' \n",
                "print(\"CSV Path: \", csv_path)\n",
                "\n",
                "oof_df = analyze_oof(csv_path)\n",
                "\n",
                "print(\"Kaggle Score: \", calc_kaggle_score(oof_df))\n",
                "print(\"Average KL Loss: \", oof_df[\"kl_loss\"].mean())\n",
                "\n",
                "oof_df.head()"
            ]
        },
        {
            "cell_type": "code",
            "execution_count": 10,
            "metadata": {},
            "outputs": [
                {
                    "data": {
                        "image/png": "[encoded data removed]",
                        "text/plain": [
                            "<Figure size 600x600 with 2 Axes>"
                        ]
                    },
                    "metadata": {},
                    "output_type": "display_data"
                }
            ],
            "source": [
                "plot_oof = oof_df.copy()\n",
                "\n",
                "# plot confusion matrix\n",
                "from sklearn.metrics import confusion_matrix\n",
                "import seaborn as sns\n",
                "\n",
                "cm = confusion_matrix(plot_oof['target_id'], plot_oof['target_pred']) # (y_true, y_pred)\n",
                "cm = cm / cm.sum(axis=1)[:, np.newaxis]\n",
                "\n",
                "fig = plt.figure(figsize=(6, 6))\n",
                "sns.heatmap(cm, annot=True, cmap='Blues', xticklabels=TARGET2ID.keys(), yticklabels=TARGET2ID.keys())\n",
                "plt.xlabel('Predicted', fontsize=12)\n",
                "plt.ylabel('True', fontsize=12)\n",
                "plt.title(csv_path.split('/')[-1].split('.')[0], fontsize=12)\n",
                "fig.tight_layout()\n",
                "fig.savefig(f\"./outputs/{csv_path.split('/')[-1].split('.')[0]}_CM.png\")\n",
                "plt.show()"
            ]
        },
        {
            "cell_type": "code",
            "execution_count": null,
            "metadata": {},
            "outputs": [],
            "source": [
                "# new figure\n",
                "fig, axes = plt.subplots(6, 5, figsize=(18, 16), sharex=True, sharey=True)\n",
                "\n",
                "plot_oof = oof_df[oof_df['kl_loss'] > 0.2]\n",
                "\n",
                "for row in range(axes.shape[0]):\n",
                "    row_selects = plot_oof[plot_oof['target_id']==row]\n",
                "    target_label = BRAIN_ACTIVITY[row]\n",
                "    for col in range(axes.shape[1]):\n",
                "        ax = axes[row, col]\n",
                "        idx = np.random.choice(row_selects.index)\n",
                "        df_rows = plot_oof.loc[idx]\n",
                "        ax.plot(df_rows[TARGETS].values , label='True')\n",
                "        ax.plot(df_rows[TARGETS_PRED].values, label='Pred')\n",
                "        ax.set_title(f\"{idx} | KL: {df_rows['kl_loss']:.4f} \") #\n",
                "        ax.set_xticks(range(6))\n",
                "        ax.set_xticklabels(BRAIN_ACTIVITY)\n",
                "        ax.grid(True)\n",
                "        ax.legend()\n",
                "        if col == 0:\n",
                "            ax.set_ylabel(target_label, fontsize=12)\n",
                "       \n",
                "fig.tight_layout()\n",
                "plt.show()\n",
                "\n",
                "\n"
            ]
        },
        {
            "cell_type": "code",
            "execution_count": null,
            "metadata": {},
            "outputs": [],
            "source": []
        },
        {
            "cell_type": "code",
            "execution_count": null,
            "metadata": {},
            "outputs": [],
            "source": []
        }
    ],
    "metadata": {
        "kernelspec": {
            "display_name": "kaggle",
            "language": "python",
            "name": "python3"
        },
        "language_info": {
            "codemirror_mode": {
                "name": "ipython",
                "version": 3
            },
            "file_extension": ".py",
            "mimetype": "text/x-python",
            "name": "python",
            "nbconvert_exporter": "python",
            "pygments_lexer": "ipython3",
            "version": "3.11.6"
        }
    },
    "nbformat": 4,
    "nbformat_minor": 2
}
