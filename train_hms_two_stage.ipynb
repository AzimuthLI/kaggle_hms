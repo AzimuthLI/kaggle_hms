{
    "cells": [
        {
            "cell_type": "code",
            "execution_count": 1,
            "metadata": {},
            "outputs": [
                {
                    "name": "stderr",
                    "output_type": "stream",
                    "text": [
                        "/home/shiyi/miniconda3/envs/kaggle/lib/python3.11/site-packages/transformers/utils/generic.py:441: UserWarning: torch.utils._pytree._register_pytree_node is deprecated. Please use torch.utils._pytree.register_pytree_node instead.\n",
                        "  _torch_pytree._register_pytree_node(\n"
                    ]
                }
            ],
            "source": [
                "import pandas as pd \n",
                "import numpy as np \n",
                "from scipy.stats import entropy\n",
                "import matplotlib.pyplot as plt\n",
                "\n",
                "from engine_hms_trainer import *\n",
                "from engine_hms_model import CustomModel, JobConfig, ModelConfig\n",
                "\n",
                "import torch\n",
                "from torch import nn\n",
                "import torch.nn.functional as F"
            ]
        },
        {
            "cell_type": "code",
            "execution_count": 2,
            "metadata": {},
            "outputs": [
                {
                    "name": "stderr",
                    "output_type": "stream",
                    "text": [
                        "****************************************************************************************************\n",
                        "Script Start: Sun Mar 10 00:46:23 2024\n",
                        "Initializing HMS Predictor...\n",
                        "Model Name: ENet_b2_xymask\n",
                        "Drop Rate: 0.15\n",
                        "Drop Path Rate: 0.25\n",
                        "Augment: True\n",
                        "Augmentations: ['xy_masking']\n",
                        "Enropy Split: 5.5\n",
                        "Device: cuda\n",
                        "Output Dir: ./outputs/\n",
                        "****************************************************************************************************\n"
                    ]
                }
            ],
            "source": [
                "seed_everything(JobConfig.SEED)\n",
                "\n",
                "ModelConfig.EPOCHS = 6\n",
                "ModelConfig.USE_EEG_SPECTROGRAMS = False\n",
                "ModelConfig.MODEL_BACKBONE = 'tf_efficientnet_b2'\n",
                "ModelConfig.MODEL_NAME = \"ENet_b2_xymask\"\n",
                "ModelConfig.AUGMENT = True\n",
                "ModelConfig.USE_KAGGLE_SPECTROGRAMS = True\n",
                "ModelConfig.USE_EEG_SPECTROGRAMS = True\n",
                "\n",
                "ModelConfig.AUGMENTATIONS = ['xy_masking']\n",
                "\n",
                "hms_predictor = HMSPredictor(JobConfig, ModelConfig)"
            ]
        },
        {
            "cell_type": "code",
            "execution_count": 3,
            "metadata": {},
            "outputs": [
                {
                    "name": "stdout",
                    "output_type": "stream",
                    "text": [
                        "(12440, 14)\n",
                        "(5536, 14)\n",
                        "0\n",
                        "0\n"
                    ]
                },
                {
                    "data": {
                        "text/html": [
                            "<div>\n",
                            "<style scoped>\n",
                            "    .dataframe tbody tr th:only-of-type {\n",
                            "        vertical-align: middle;\n",
                            "    }\n",
                            "\n",
                            "    .dataframe tbody tr th {\n",
                            "        vertical-align: top;\n",
                            "    }\n",
                            "\n",
                            "    .dataframe thead th {\n",
                            "        text-align: right;\n",
                            "    }\n",
                            "</style>\n",
                            "<table border=\"1\" class=\"dataframe\">\n",
                            "  <thead>\n",
                            "    <tr style=\"text-align: right;\">\n",
                            "      <th></th>\n",
                            "      <th>eeg_id</th>\n",
                            "      <th>spectrogram_id</th>\n",
                            "      <th>min</th>\n",
                            "      <th>max</th>\n",
                            "      <th>patient_id</th>\n",
                            "      <th>target</th>\n",
                            "      <th>total_votes</th>\n",
                            "      <th>entropy</th>\n",
                            "      <th>seizure_vote</th>\n",
                            "      <th>lpd_vote</th>\n",
                            "      <th>gpd_vote</th>\n",
                            "      <th>lrda_vote</th>\n",
                            "      <th>grda_vote</th>\n",
                            "      <th>other_vote</th>\n",
                            "    </tr>\n",
                            "  </thead>\n",
                            "  <tbody>\n",
                            "    <tr>\n",
                            "      <th>0</th>\n",
                            "      <td>642382</td>\n",
                            "      <td>14960202</td>\n",
                            "      <td>1008.0</td>\n",
                            "      <td>1032.0</td>\n",
                            "      <td>5955</td>\n",
                            "      <td>Other</td>\n",
                            "      <td>2</td>\n",
                            "      <td>7.802343</td>\n",
                            "      <td>0.0</td>\n",
                            "      <td>0.0</td>\n",
                            "      <td>0.0</td>\n",
                            "      <td>0.0</td>\n",
                            "      <td>0.0</td>\n",
                            "      <td>1.0</td>\n",
                            "    </tr>\n",
                            "    <tr>\n",
                            "      <th>1</th>\n",
                            "      <td>751790</td>\n",
                            "      <td>618728447</td>\n",
                            "      <td>908.0</td>\n",
                            "      <td>908.0</td>\n",
                            "      <td>38549</td>\n",
                            "      <td>GPD</td>\n",
                            "      <td>1</td>\n",
                            "      <td>7.802343</td>\n",
                            "      <td>0.0</td>\n",
                            "      <td>0.0</td>\n",
                            "      <td>1.0</td>\n",
                            "      <td>0.0</td>\n",
                            "      <td>0.0</td>\n",
                            "      <td>0.0</td>\n",
                            "    </tr>\n",
                            "    <tr>\n",
                            "      <th>2</th>\n",
                            "      <td>778705</td>\n",
                            "      <td>52296320</td>\n",
                            "      <td>0.0</td>\n",
                            "      <td>0.0</td>\n",
                            "      <td>40955</td>\n",
                            "      <td>Other</td>\n",
                            "      <td>2</td>\n",
                            "      <td>7.686820</td>\n",
                            "      <td>0.0</td>\n",
                            "      <td>0.0</td>\n",
                            "      <td>0.0</td>\n",
                            "      <td>0.0</td>\n",
                            "      <td>0.0</td>\n",
                            "      <td>1.0</td>\n",
                            "    </tr>\n",
                            "    <tr>\n",
                            "      <th>3</th>\n",
                            "      <td>1629671</td>\n",
                            "      <td>2036345030</td>\n",
                            "      <td>0.0</td>\n",
                            "      <td>160.0</td>\n",
                            "      <td>37481</td>\n",
                            "      <td>Seizure</td>\n",
                            "      <td>51</td>\n",
                            "      <td>7.619243</td>\n",
                            "      <td>1.0</td>\n",
                            "      <td>0.0</td>\n",
                            "      <td>0.0</td>\n",
                            "      <td>0.0</td>\n",
                            "      <td>0.0</td>\n",
                            "      <td>0.0</td>\n",
                            "    </tr>\n",
                            "    <tr>\n",
                            "      <th>4</th>\n",
                            "      <td>2061593</td>\n",
                            "      <td>320962633</td>\n",
                            "      <td>1450.0</td>\n",
                            "      <td>1450.0</td>\n",
                            "      <td>23828</td>\n",
                            "      <td>Other</td>\n",
                            "      <td>1</td>\n",
                            "      <td>7.802343</td>\n",
                            "      <td>0.0</td>\n",
                            "      <td>0.0</td>\n",
                            "      <td>0.0</td>\n",
                            "      <td>0.0</td>\n",
                            "      <td>0.0</td>\n",
                            "      <td>1.0</td>\n",
                            "    </tr>\n",
                            "  </tbody>\n",
                            "</table>\n",
                            "</div>"
                        ],
                        "text/plain": [
                            "    eeg_id  spectrogram_id     min     max  patient_id   target  total_votes  \\\n",
                            "0   642382        14960202  1008.0  1032.0        5955    Other            2   \n",
                            "1   751790       618728447   908.0   908.0       38549      GPD            1   \n",
                            "2   778705        52296320     0.0     0.0       40955    Other            2   \n",
                            "3  1629671      2036345030     0.0   160.0       37481  Seizure           51   \n",
                            "4  2061593       320962633  1450.0  1450.0       23828    Other            1   \n",
                            "\n",
                            "    entropy  seizure_vote  lpd_vote  gpd_vote  lrda_vote  grda_vote  \\\n",
                            "0  7.802343           0.0       0.0       0.0        0.0        0.0   \n",
                            "1  7.802343           0.0       0.0       1.0        0.0        0.0   \n",
                            "2  7.686820           0.0       0.0       0.0        0.0        0.0   \n",
                            "3  7.619243           1.0       0.0       0.0        0.0        0.0   \n",
                            "4  7.802343           0.0       0.0       0.0        0.0        0.0   \n",
                            "\n",
                            "   other_vote  \n",
                            "0         1.0  \n",
                            "1         0.0  \n",
                            "2         1.0  \n",
                            "3         0.0  \n",
                            "4         1.0  "
                        ]
                    },
                    "metadata": {},
                    "output_type": "display_data"
                },
                {
                    "name": "stdout",
                    "output_type": "stream",
                    "text": [
                        " \n"
                    ]
                },
                {
                    "data": {
                        "text/html": [
                            "<div>\n",
                            "<style scoped>\n",
                            "    .dataframe tbody tr th:only-of-type {\n",
                            "        vertical-align: middle;\n",
                            "    }\n",
                            "\n",
                            "    .dataframe tbody tr th {\n",
                            "        vertical-align: top;\n",
                            "    }\n",
                            "\n",
                            "    .dataframe thead th {\n",
                            "        text-align: right;\n",
                            "    }\n",
                            "</style>\n",
                            "<table border=\"1\" class=\"dataframe\">\n",
                            "  <thead>\n",
                            "    <tr style=\"text-align: right;\">\n",
                            "      <th></th>\n",
                            "      <th>eeg_id</th>\n",
                            "      <th>spectrogram_id</th>\n",
                            "      <th>min</th>\n",
                            "      <th>max</th>\n",
                            "      <th>patient_id</th>\n",
                            "      <th>target</th>\n",
                            "      <th>total_votes</th>\n",
                            "      <th>entropy</th>\n",
                            "      <th>seizure_vote</th>\n",
                            "      <th>lpd_vote</th>\n",
                            "      <th>gpd_vote</th>\n",
                            "      <th>lrda_vote</th>\n",
                            "      <th>grda_vote</th>\n",
                            "      <th>other_vote</th>\n",
                            "    </tr>\n",
                            "  </thead>\n",
                            "  <tbody>\n",
                            "    <tr>\n",
                            "      <th>0</th>\n",
                            "      <td>568657</td>\n",
                            "      <td>789577333</td>\n",
                            "      <td>0.0</td>\n",
                            "      <td>16.0</td>\n",
                            "      <td>20654</td>\n",
                            "      <td>Other</td>\n",
                            "      <td>48</td>\n",
                            "      <td>3.341757</td>\n",
                            "      <td>0.000000</td>\n",
                            "      <td>0.000000</td>\n",
                            "      <td>0.250000</td>\n",
                            "      <td>0.000000</td>\n",
                            "      <td>0.166667</td>\n",
                            "      <td>0.583333</td>\n",
                            "    </tr>\n",
                            "    <tr>\n",
                            "      <th>1</th>\n",
                            "      <td>582999</td>\n",
                            "      <td>1552638400</td>\n",
                            "      <td>0.0</td>\n",
                            "      <td>38.0</td>\n",
                            "      <td>20230</td>\n",
                            "      <td>LPD</td>\n",
                            "      <td>154</td>\n",
                            "      <td>3.550549</td>\n",
                            "      <td>0.000000</td>\n",
                            "      <td>0.857143</td>\n",
                            "      <td>0.000000</td>\n",
                            "      <td>0.071429</td>\n",
                            "      <td>0.000000</td>\n",
                            "      <td>0.071429</td>\n",
                            "    </tr>\n",
                            "    <tr>\n",
                            "      <th>2</th>\n",
                            "      <td>1895581</td>\n",
                            "      <td>128369999</td>\n",
                            "      <td>1138.0</td>\n",
                            "      <td>1138.0</td>\n",
                            "      <td>47999</td>\n",
                            "      <td>Other</td>\n",
                            "      <td>13</td>\n",
                            "      <td>3.565051</td>\n",
                            "      <td>0.076923</td>\n",
                            "      <td>0.000000</td>\n",
                            "      <td>0.000000</td>\n",
                            "      <td>0.000000</td>\n",
                            "      <td>0.076923</td>\n",
                            "      <td>0.846154</td>\n",
                            "    </tr>\n",
                            "    <tr>\n",
                            "      <th>3</th>\n",
                            "      <td>2482631</td>\n",
                            "      <td>978166025</td>\n",
                            "      <td>1902.0</td>\n",
                            "      <td>1944.0</td>\n",
                            "      <td>20606</td>\n",
                            "      <td>Other</td>\n",
                            "      <td>105</td>\n",
                            "      <td>1.431066</td>\n",
                            "      <td>0.000000</td>\n",
                            "      <td>0.000000</td>\n",
                            "      <td>0.133333</td>\n",
                            "      <td>0.066667</td>\n",
                            "      <td>0.133333</td>\n",
                            "      <td>0.666667</td>\n",
                            "    </tr>\n",
                            "    <tr>\n",
                            "      <th>4</th>\n",
                            "      <td>2521897</td>\n",
                            "      <td>673742515</td>\n",
                            "      <td>0.0</td>\n",
                            "      <td>4.0</td>\n",
                            "      <td>62117</td>\n",
                            "      <td>Other</td>\n",
                            "      <td>24</td>\n",
                            "      <td>1.516203</td>\n",
                            "      <td>0.000000</td>\n",
                            "      <td>0.000000</td>\n",
                            "      <td>0.083333</td>\n",
                            "      <td>0.083333</td>\n",
                            "      <td>0.333333</td>\n",
                            "      <td>0.500000</td>\n",
                            "    </tr>\n",
                            "  </tbody>\n",
                            "</table>\n",
                            "</div>"
                        ],
                        "text/plain": [
                            "    eeg_id  spectrogram_id     min     max  patient_id target  total_votes  \\\n",
                            "0   568657       789577333     0.0    16.0       20654  Other           48   \n",
                            "1   582999      1552638400     0.0    38.0       20230    LPD          154   \n",
                            "2  1895581       128369999  1138.0  1138.0       47999  Other           13   \n",
                            "3  2482631       978166025  1902.0  1944.0       20606  Other          105   \n",
                            "4  2521897       673742515     0.0     4.0       62117  Other           24   \n",
                            "\n",
                            "    entropy  seizure_vote  lpd_vote  gpd_vote  lrda_vote  grda_vote  \\\n",
                            "0  3.341757      0.000000  0.000000  0.250000   0.000000   0.166667   \n",
                            "1  3.550549      0.000000  0.857143  0.000000   0.071429   0.000000   \n",
                            "2  3.565051      0.076923  0.000000  0.000000   0.000000   0.076923   \n",
                            "3  1.431066      0.000000  0.000000  0.133333   0.066667   0.133333   \n",
                            "4  1.516203      0.000000  0.000000  0.083333   0.083333   0.333333   \n",
                            "\n",
                            "   other_vote  \n",
                            "0    0.583333  \n",
                            "1    0.071429  \n",
                            "2    0.846154  \n",
                            "3    0.666667  \n",
                            "4    0.500000  "
                        ]
                    },
                    "metadata": {},
                    "output_type": "display_data"
                }
            ],
            "source": [
                "train_easy, train_hard, all_specs, all_eegs = hms_predictor.load_train_data()\n",
                "\n",
                "print(train_easy.shape)\n",
                "print(train_hard.shape)\n",
                "\n",
                "# check if contain NaN\n",
                "print(train_easy.isnull().sum().sum())\n",
                "print(train_hard.isnull().sum().sum())\n",
                "\n",
                "display(train_easy.head())\n",
                "print(\" \")\n",
                "display(train_hard.head())"
            ]
        },
        {
            "cell_type": "code",
            "execution_count": 4,
            "metadata": {},
            "outputs": [
                {
                    "name": "stderr",
                    "output_type": "stream",
                    "text": [
                        "====================================================================================================\n",
                        "Fold: 0 || Valid size 3596 \n",
                        "====================================================================================================\n",
                        "- First Stage \n"
                    ]
                },
                {
                    "data": {
                        "application/vnd.jupyter.widget-view+json": {
                            "model_id": "948998dc6b414c7a96a4cd76f5f50a92",
                            "version_major": 2,
                            "version_minor": 0
                        },
                        "text/plain": [
                            "Train:   0%|          | 0/622 [00:00<?, ?batch/s]"
                        ]
                    },
                    "metadata": {},
                    "output_type": "display_data"
                },
                {
                    "name": "stdout",
                    "output_type": "stream",
                    "text": [
                        "Epoch: [1][0/622]Elapsed 1.08s | Loss: 0.8220 Grad: 67731.3828 LR: 4.0000e-06\n",
                        "Epoch: [1][50/622]Elapsed 8.17s | Loss: 0.8346 Grad: 85699.5469 LR: 5.0647e-06\n",
                        "Epoch: [1][100/622]Elapsed 15.29s | Loss: 0.8281 Grad: 70401.9922 LR: 8.2116e-06\n",
                        "Epoch: [1][150/622]Elapsed 22.41s | Loss: 0.8233 Grad: 75559.6250 LR: 1.3301e-05\n",
                        "Epoch: [1][200/622]Elapsed 29.53s | Loss: 0.8153 Grad: 72208.4922 LR: 2.0107e-05\n",
                        "Epoch: [1][250/622]Elapsed 36.67s | Loss: 0.8045 Grad: 70698.4688 LR: 2.8328e-05\n",
                        "Epoch: [1][300/622]Elapsed 43.82s | Loss: 0.7909 Grad: 78792.6719 LR: 3.7599e-05\n",
                        "Epoch: [1][350/622]Elapsed 51.00s | Loss: 0.7736 Grad: 118346.3359 LR: 4.7509e-05\n",
                        "Epoch: [1][400/622]Elapsed 58.20s | Loss: 0.7534 Grad: 59210.1992 LR: 5.7619e-05\n",
                        "Epoch: [1][450/622]Elapsed 65.43s | Loss: 0.7316 Grad: 76243.6875 LR: 6.7479e-05\n",
                        "Epoch: [1][500/622]Elapsed 72.67s | Loss: 0.7124 Grad: 71753.1094 LR: 7.6652e-05\n",
                        "Epoch: [1][550/622]Elapsed 79.88s | Loss: 0.6960 Grad: 73817.9453 LR: 8.4732e-05\n",
                        "Epoch: [1][600/622]Elapsed 87.10s | Loss: 0.6765 Grad: 24822.8223 LR: 9.1359e-05\n",
                        "Epoch: [1][621/622]Elapsed 90.22s | Loss: 0.6699 Grad: 59613.3633 LR: 9.3737e-05\n"
                    ]
                },
                {
                    "data": {
                        "application/vnd.jupyter.widget-view+json": {
                            "model_id": "21b8498d92dc41b7b83855f5b21d5227",
                            "version_major": 2,
                            "version_minor": 0
                        },
                        "text/plain": [
                            "Valid:   0%|          | 0/225 [00:00<?, ?batch/s]"
                        ]
                    },
                    "metadata": {},
                    "output_type": "display_data"
                },
                {
                    "name": "stdout",
                    "output_type": "stream",
                    "text": [
                        "Epoch: [1][0/225]Elapsed 0.10s | Loss: 0.3521\n",
                        "Epoch: [1][50/225]Elapsed 4.94s | Loss: 0.5367\n",
                        "Epoch: [1][100/225]Elapsed 9.77s | Loss: 0.5370\n",
                        "Epoch: [1][150/225]Elapsed 14.60s | Loss: 0.5320\n",
                        "Epoch: [1][200/225]Elapsed 19.46s | Loss: 0.4840\n"
                    ]
                },
                {
                    "name": "stderr",
                    "output_type": "stream",
                    "text": [
                        "----------------------------------------------------------------------------------------------------\n",
                        "Epoch 1 - Average Train Loss: 0.6699 | Average Valid Loss: 0.4670 | Time: 112.17s\n",
                        "Best model found in epoch 1 | valid loss: 0.4670\n"
                    ]
                },
                {
                    "data": {
                        "application/vnd.jupyter.widget-view+json": {
                            "model_id": "049c671ecb9941ba90b053a3464fa548",
                            "version_major": 2,
                            "version_minor": 0
                        },
                        "text/plain": [
                            "Train:   0%|          | 0/622 [00:00<?, ?batch/s]"
                        ]
                    },
                    "metadata": {},
                    "output_type": "display_data"
                },
                {
                    "name": "stdout",
                    "output_type": "stream",
                    "text": [
                        "Epoch: [2][0/622]Elapsed 0.10s | Loss: 0.3647 Grad: 149451.5312 LR: 9.3737e-05\n",
                        "Epoch: [2][50/622]Elapsed 7.37s | Loss: 0.4326 Grad: 62924.1523 LR: 9.7777e-05\n",
                        "Epoch: [2][100/622]Elapsed 14.72s | Loss: 0.4220 Grad: 90355.3750 LR: 9.9786e-05\n",
                        "Epoch: [2][150/622]Elapsed 22.11s | Loss: 0.4204 Grad: 49365.2891 LR: 9.9996e-05\n",
                        "Epoch: [2][200/622]Elapsed 29.49s | Loss: 0.4184 Grad: 37034.8984 LR: 9.9967e-05\n",
                        "Epoch: [2][250/622]Elapsed 36.86s | Loss: 0.4110 Grad: 31872.4395 LR: 9.9911e-05\n",
                        "Epoch: [2][300/622]Elapsed 44.22s | Loss: 0.4057 Grad: 60893.3438 LR: 9.9828e-05\n",
                        "Epoch: [2][350/622]Elapsed 51.61s | Loss: 0.4026 Grad: 48400.3359 LR: 9.9717e-05\n",
                        "Epoch: [2][400/622]Elapsed 58.95s | Loss: 0.3955 Grad: 23087.1836 LR: 9.9579e-05\n",
                        "Epoch: [2][450/622]Elapsed 66.30s | Loss: 0.3881 Grad: 44029.6172 LR: 9.9415e-05\n",
                        "Epoch: [2][500/622]Elapsed 73.65s | Loss: 0.3848 Grad: 27803.1016 LR: 9.9223e-05\n",
                        "Epoch: [2][550/622]Elapsed 81.00s | Loss: 0.3841 Grad: 50971.1719 LR: 9.9004e-05\n",
                        "Epoch: [2][600/622]Elapsed 88.35s | Loss: 0.3800 Grad: 25000.5918 LR: 9.8758e-05\n",
                        "Epoch: [2][621/622]Elapsed 91.50s | Loss: 0.3786 Grad: 48185.0586 LR: 9.8642e-05\n"
                    ]
                },
                {
                    "data": {
                        "application/vnd.jupyter.widget-view+json": {
                            "model_id": "ba3a515e2af042d5b5261f76ec03396c",
                            "version_major": 2,
                            "version_minor": 0
                        },
                        "text/plain": [
                            "Valid:   0%|          | 0/225 [00:00<?, ?batch/s]"
                        ]
                    },
                    "metadata": {},
                    "output_type": "display_data"
                },
                {
                    "name": "stdout",
                    "output_type": "stream",
                    "text": [
                        "Epoch: [2][0/225]Elapsed 0.10s | Loss: 0.3426\n",
                        "Epoch: [2][50/225]Elapsed 4.94s | Loss: 0.4441\n",
                        "Epoch: [2][100/225]Elapsed 9.77s | Loss: 0.4462\n",
                        "Epoch: [2][150/225]Elapsed 14.59s | Loss: 0.4484\n",
                        "Epoch: [2][200/225]Elapsed 19.44s | Loss: 0.4165\n"
                    ]
                },
                {
                    "name": "stderr",
                    "output_type": "stream",
                    "text": [
                        "----------------------------------------------------------------------------------------------------\n",
                        "Epoch 2 - Average Train Loss: 0.3786 | Average Valid Loss: 0.4081 | Time: 113.43s\n",
                        "Best model found in epoch 2 | valid loss: 0.4081\n"
                    ]
                },
                {
                    "data": {
                        "application/vnd.jupyter.widget-view+json": {
                            "model_id": "1de6bca2d1ce4c5e9ff47ae4973daff2",
                            "version_major": 2,
                            "version_minor": 0
                        },
                        "text/plain": [
                            "Train:   0%|          | 0/622 [00:00<?, ?batch/s]"
                        ]
                    },
                    "metadata": {},
                    "output_type": "display_data"
                },
                {
                    "name": "stdout",
                    "output_type": "stream",
                    "text": [
                        "Epoch: [3][0/622]Elapsed 0.10s | Loss: 0.2989 Grad: 131582.7969 LR: 9.8642e-05\n",
                        "Epoch: [3][50/622]Elapsed 7.46s | Loss: 0.3011 Grad: 49325.7539 LR: 9.8358e-05\n",
                        "Epoch: [3][100/622]Elapsed 14.90s | Loss: 0.2977 Grad: 122732.9766 LR: 9.8048e-05\n",
                        "Epoch: [3][150/622]Elapsed 22.33s | Loss: 0.3050 Grad: 43385.8242 LR: 9.7711e-05\n",
                        "Epoch: [3][200/622]Elapsed 29.76s | Loss: 0.3069 Grad: 29812.1562 LR: 9.7349e-05\n",
                        "Epoch: [3][250/622]Elapsed 37.22s | Loss: 0.3058 Grad: 25272.7148 LR: 9.6960e-05\n",
                        "Epoch: [3][300/622]Elapsed 44.64s | Loss: 0.3033 Grad: 29568.8418 LR: 9.6546e-05\n",
                        "Epoch: [3][350/622]Elapsed 52.06s | Loss: 0.3062 Grad: 48146.9766 LR: 9.6106e-05\n",
                        "Epoch: [3][400/622]Elapsed 59.48s | Loss: 0.3002 Grad: 22185.4883 LR: 9.5642e-05\n",
                        "Epoch: [3][450/622]Elapsed 66.91s | Loss: 0.2960 Grad: 30812.9062 LR: 9.5152e-05\n",
                        "Epoch: [3][500/622]Elapsed 74.34s | Loss: 0.2942 Grad: 29210.2734 LR: 9.4638e-05\n",
                        "Epoch: [3][550/622]Elapsed 81.75s | Loss: 0.2951 Grad: 42554.5703 LR: 9.4099e-05\n",
                        "Epoch: [3][600/622]Elapsed 89.16s | Loss: 0.2934 Grad: 23726.4590 LR: 9.3536e-05\n",
                        "Epoch: [3][621/622]Elapsed 92.34s | Loss: 0.2932 Grad: 40696.4375 LR: 9.3281e-05\n"
                    ]
                },
                {
                    "data": {
                        "application/vnd.jupyter.widget-view+json": {
                            "model_id": "dcc52582b6f94b9da28773d01f2badf9",
                            "version_major": 2,
                            "version_minor": 0
                        },
                        "text/plain": [
                            "Valid:   0%|          | 0/225 [00:00<?, ?batch/s]"
                        ]
                    },
                    "metadata": {},
                    "output_type": "display_data"
                },
                {
                    "name": "stdout",
                    "output_type": "stream",
                    "text": [
                        "Epoch: [3][0/225]Elapsed 0.10s | Loss: 0.3156\n",
                        "Epoch: [3][50/225]Elapsed 4.93s | Loss: 0.4314\n",
                        "Epoch: [3][100/225]Elapsed 9.75s | Loss: 0.4339\n",
                        "Epoch: [3][150/225]Elapsed 14.53s | Loss: 0.4356\n",
                        "Epoch: [3][200/225]Elapsed 19.32s | Loss: 0.4217\n"
                    ]
                },
                {
                    "name": "stderr",
                    "output_type": "stream",
                    "text": [
                        "----------------------------------------------------------------------------------------------------\n",
                        "Epoch 3 - Average Train Loss: 0.2932 | Average Valid Loss: 0.4177 | Time: 114.13s\n"
                    ]
                },
                {
                    "data": {
                        "application/vnd.jupyter.widget-view+json": {
                            "model_id": "7e3e10063df440c3b2c85e7d2a497206",
                            "version_major": 2,
                            "version_minor": 0
                        },
                        "text/plain": [
                            "Train:   0%|          | 0/622 [00:00<?, ?batch/s]"
                        ]
                    },
                    "metadata": {},
                    "output_type": "display_data"
                },
                {
                    "name": "stdout",
                    "output_type": "stream",
                    "text": [
                        "Epoch: [4][0/622]Elapsed 0.10s | Loss: 0.1849 Grad: 130271.0078 LR: 9.3281e-05\n",
                        "Epoch: [4][50/622]Elapsed 7.51s | Loss: 0.2529 Grad: 26867.1777 LR: 9.2683e-05\n",
                        "Epoch: [4][100/622]Elapsed 14.97s | Loss: 0.2470 Grad: 44417.0742 LR: 9.2063e-05\n",
                        "Epoch: [4][150/622]Elapsed 22.42s | Loss: 0.2523 Grad: 58387.7734 LR: 9.1420e-05\n",
                        "Epoch: [4][200/622]Elapsed 29.87s | Loss: 0.2543 Grad: 34293.4531 LR: 9.0754e-05\n",
                        "Epoch: [4][250/622]Elapsed 37.30s | Loss: 0.2529 Grad: 18504.4902 LR: 9.0065e-05\n",
                        "Epoch: [4][300/622]Elapsed 44.72s | Loss: 0.2527 Grad: 30702.2910 LR: 8.9355e-05\n",
                        "Epoch: [4][350/622]Elapsed 52.14s | Loss: 0.2541 Grad: 48462.7578 LR: 8.8624e-05\n",
                        "Epoch: [4][400/622]Elapsed 59.55s | Loss: 0.2486 Grad: 24215.0137 LR: 8.7871e-05\n",
                        "Epoch: [4][450/622]Elapsed 66.98s | Loss: 0.2434 Grad: 47173.6484 LR: 8.7097e-05\n",
                        "Epoch: [4][500/622]Elapsed 74.42s | Loss: 0.2423 Grad: 41595.6172 LR: 8.6303e-05\n",
                        "Epoch: [4][550/622]Elapsed 81.85s | Loss: 0.2441 Grad: 39099.7305 LR: 8.5490e-05\n",
                        "Epoch: [4][600/622]Elapsed 89.25s | Loss: 0.2420 Grad: 25067.5039 LR: 8.4657e-05\n",
                        "Epoch: [4][621/622]Elapsed 92.42s | Loss: 0.2416 Grad: 74163.2188 LR: 8.4284e-05\n"
                    ]
                },
                {
                    "data": {
                        "application/vnd.jupyter.widget-view+json": {
                            "model_id": "841c2594e02c43018de0e66720ede1af",
                            "version_major": 2,
                            "version_minor": 0
                        },
                        "text/plain": [
                            "Valid:   0%|          | 0/225 [00:00<?, ?batch/s]"
                        ]
                    },
                    "metadata": {},
                    "output_type": "display_data"
                },
                {
                    "name": "stdout",
                    "output_type": "stream",
                    "text": [
                        "Epoch: [4][0/225]Elapsed 0.10s | Loss: 0.3225\n",
                        "Epoch: [4][50/225]Elapsed 4.88s | Loss: 0.4401\n",
                        "Epoch: [4][100/225]Elapsed 9.69s | Loss: 0.4433\n",
                        "Epoch: [4][150/225]Elapsed 14.50s | Loss: 0.4436\n",
                        "Epoch: [4][200/225]Elapsed 19.32s | Loss: 0.4325\n"
                    ]
                },
                {
                    "name": "stderr",
                    "output_type": "stream",
                    "text": [
                        "----------------------------------------------------------------------------------------------------\n",
                        "Epoch 4 - Average Train Loss: 0.2416 | Average Valid Loss: 0.4282 | Time: 114.22s\n"
                    ]
                },
                {
                    "data": {
                        "application/vnd.jupyter.widget-view+json": {
                            "model_id": "27d356c34400446a92595f95d2bf9f6f",
                            "version_major": 2,
                            "version_minor": 0
                        },
                        "text/plain": [
                            "Train:   0%|          | 0/622 [00:00<?, ?batch/s]"
                        ]
                    },
                    "metadata": {},
                    "output_type": "display_data"
                },
                {
                    "name": "stdout",
                    "output_type": "stream",
                    "text": [
                        "Epoch: [5][0/622]Elapsed 0.10s | Loss: 0.2198 Grad: 162993.0312 LR: 8.4284e-05\n",
                        "Epoch: [5][50/622]Elapsed 7.54s | Loss: 0.2117 Grad: 29758.4648 LR: 8.3424e-05\n",
                        "Epoch: [5][100/622]Elapsed 15.01s | Loss: 0.2048 Grad: 38943.4805 LR: 8.2546e-05\n",
                        "Epoch: [5][150/622]Elapsed 22.52s | Loss: 0.2131 Grad: 39602.3359 LR: 8.1650e-05\n",
                        "Epoch: [5][200/622]Elapsed 29.98s | Loss: 0.2162 Grad: 28816.3398 LR: 8.0736e-05\n",
                        "Epoch: [5][250/622]Elapsed 37.42s | Loss: 0.2138 Grad: 25072.4902 LR: 7.9806e-05\n",
                        "Epoch: [5][300/622]Elapsed 44.85s | Loss: 0.2114 Grad: 27906.9082 LR: 7.8859e-05\n",
                        "Epoch: [5][350/622]Elapsed 52.29s | Loss: 0.2114 Grad: 36871.9375 LR: 7.7897e-05\n",
                        "Epoch: [5][400/622]Elapsed 59.70s | Loss: 0.2077 Grad: 57041.8750 LR: 7.6920e-05\n",
                        "Epoch: [5][450/622]Elapsed 67.12s | Loss: 0.2052 Grad: 57072.8672 LR: 7.5927e-05\n",
                        "Epoch: [5][500/622]Elapsed 74.51s | Loss: 0.2049 Grad: 25914.4160 LR: 7.4921e-05\n",
                        "Epoch: [5][550/622]Elapsed 81.91s | Loss: 0.2063 Grad: 51203.0312 LR: 7.3901e-05\n",
                        "Epoch: [5][600/622]Elapsed 89.35s | Loss: 0.2042 Grad: 22442.1016 LR: 7.2868e-05\n",
                        "Epoch: [5][621/622]Elapsed 92.55s | Loss: 0.2042 Grad: 62547.2383 LR: 7.2409e-05\n"
                    ]
                },
                {
                    "data": {
                        "application/vnd.jupyter.widget-view+json": {
                            "model_id": "777cb0fd5a90459386ac1d683c4a51ac",
                            "version_major": 2,
                            "version_minor": 0
                        },
                        "text/plain": [
                            "Valid:   0%|          | 0/225 [00:00<?, ?batch/s]"
                        ]
                    },
                    "metadata": {},
                    "output_type": "display_data"
                },
                {
                    "name": "stdout",
                    "output_type": "stream",
                    "text": [
                        "Epoch: [5][0/225]Elapsed 0.11s | Loss: 0.2984\n",
                        "Epoch: [5][50/225]Elapsed 4.93s | Loss: 0.4490\n",
                        "Epoch: [5][100/225]Elapsed 9.74s | Loss: 0.4495\n",
                        "Epoch: [5][150/225]Elapsed 14.54s | Loss: 0.4525\n",
                        "Epoch: [5][200/225]Elapsed 19.36s | Loss: 0.4454\n"
                    ]
                },
                {
                    "name": "stderr",
                    "output_type": "stream",
                    "text": [
                        "----------------------------------------------------------------------------------------------------\n",
                        "Epoch 5 - Average Train Loss: 0.2042 | Average Valid Loss: 0.4425 | Time: 114.40s\n"
                    ]
                },
                {
                    "data": {
                        "application/vnd.jupyter.widget-view+json": {
                            "model_id": "6b544692b1a14a328cfe598d5a221988",
                            "version_major": 2,
                            "version_minor": 0
                        },
                        "text/plain": [
                            "Train:   0%|          | 0/622 [00:00<?, ?batch/s]"
                        ]
                    },
                    "metadata": {},
                    "output_type": "display_data"
                },
                {
                    "name": "stdout",
                    "output_type": "stream",
                    "text": [
                        "Epoch: [6][0/622]Elapsed 0.11s | Loss: 0.1971 Grad: 229036.6875 LR: 7.2409e-05\n",
                        "Epoch: [6][50/622]Elapsed 7.48s | Loss: 0.1824 Grad: 27124.2637 LR: 7.1358e-05\n",
                        "Epoch: [6][100/622]Elapsed 14.95s | Loss: 0.1768 Grad: 35226.4492 LR: 7.0296e-05\n",
                        "Epoch: [6][150/622]Elapsed 22.39s | Loss: 0.1812 Grad: 41538.5352 LR: 6.9222e-05\n",
                        "Epoch: [6][200/622]Elapsed 29.83s | Loss: 0.1840 Grad: 54086.1914 LR: 6.8138e-05\n",
                        "Epoch: [6][250/622]Elapsed 37.27s | Loss: 0.1838 Grad: 35163.1992 LR: 6.7044e-05\n",
                        "Epoch: [6][300/622]Elapsed 44.70s | Loss: 0.1813 Grad: 40802.1211 LR: 6.5940e-05\n",
                        "Epoch: [6][350/622]Elapsed 52.13s | Loss: 0.1803 Grad: 55207.8281 LR: 6.4828e-05\n",
                        "Epoch: [6][400/622]Elapsed 59.57s | Loss: 0.1754 Grad: 28926.9434 LR: 6.3708e-05\n",
                        "Epoch: [6][450/622]Elapsed 67.01s | Loss: 0.1727 Grad: 31264.4414 LR: 6.2581e-05\n",
                        "Epoch: [6][500/622]Elapsed 74.44s | Loss: 0.1712 Grad: 17770.4707 LR: 6.1446e-05\n",
                        "Epoch: [6][550/622]Elapsed 81.87s | Loss: 0.1712 Grad: 43745.3125 LR: 6.0305e-05\n",
                        "Epoch: [6][600/622]Elapsed 89.28s | Loss: 0.1694 Grad: 27927.1973 LR: 5.9159e-05\n",
                        "Epoch: [6][621/622]Elapsed 92.47s | Loss: 0.1697 Grad: 64045.5859 LR: 5.8653e-05\n"
                    ]
                },
                {
                    "data": {
                        "application/vnd.jupyter.widget-view+json": {
                            "model_id": "4359305f287f4129ba540a7bc084eb37",
                            "version_major": 2,
                            "version_minor": 0
                        },
                        "text/plain": [
                            "Valid:   0%|          | 0/225 [00:00<?, ?batch/s]"
                        ]
                    },
                    "metadata": {},
                    "output_type": "display_data"
                },
                {
                    "name": "stdout",
                    "output_type": "stream",
                    "text": [
                        "Epoch: [6][0/225]Elapsed 0.10s | Loss: 0.3582\n",
                        "Epoch: [6][50/225]Elapsed 4.90s | Loss: 0.4707\n",
                        "Epoch: [6][100/225]Elapsed 9.69s | Loss: 0.4787\n",
                        "Epoch: [6][150/225]Elapsed 14.48s | Loss: 0.4782\n",
                        "Epoch: [6][200/225]Elapsed 19.29s | Loss: 0.4763\n"
                    ]
                },
                {
                    "name": "stderr",
                    "output_type": "stream",
                    "text": [
                        "----------------------------------------------------------------------------------------------------\n",
                        "Epoch 6 - Average Train Loss: 0.1697 | Average Valid Loss: 0.4742 | Time: 114.23s\n",
                        "====================================================================================================\n",
                        "Fold 0 Valid Loss: \n",
                        "Easy: 0.8951 | Hard: 0.6388\n",
                        "Elapse: 11.40 min \n",
                        "====================================================================================================\n",
                        "- Second Stage \n",
                        "Use Checkpoint: ENet_b2_xymask_fold_0_stage_1.pth\n"
                    ]
                },
                {
                    "data": {
                        "application/vnd.jupyter.widget-view+json": {
                            "model_id": "aa78d65c9c4c442a8016485cd0c1cf4e",
                            "version_major": 2,
                            "version_minor": 0
                        },
                        "text/plain": [
                            "Train:   0%|          | 0/276 [00:00<?, ?batch/s]"
                        ]
                    },
                    "metadata": {},
                    "output_type": "display_data"
                },
                {
                    "name": "stdout",
                    "output_type": "stream",
                    "text": [
                        "Epoch: [1][0/276]Elapsed 0.10s | Loss: 0.6521 Grad: nan LR: 4.0000e-06\n"
                    ]
                },
                {
                    "name": "stderr",
                    "output_type": "stream",
                    "text": [
                        "/home/shiyi/miniconda3/envs/kaggle/lib/python3.11/site-packages/torch/optim/lr_scheduler.py:143: UserWarning: Detected call of `lr_scheduler.step()` before `optimizer.step()`. In PyTorch 1.1.0 and later, you should call them in the opposite order: `optimizer.step()` before `lr_scheduler.step()`.  Failure to do this will result in PyTorch skipping the first value of the learning rate schedule. See more details at https://pytorch.org/docs/stable/optim.html#how-to-adjust-learning-rate\n",
                        "  warnings.warn(\"Detected call of `lr_scheduler.step()` before `optimizer.step()`. \"\n"
                    ]
                },
                {
                    "name": "stdout",
                    "output_type": "stream",
                    "text": [
                        "Epoch: [1][50/276]Elapsed 7.44s | Loss: 0.4548 Grad: 94100.8594 LR: 9.3614e-06\n",
                        "Epoch: [1][100/276]Elapsed 14.91s | Loss: 0.4342 Grad: 79477.4922 LR: 2.4248e-05\n",
                        "Epoch: [1][150/276]Elapsed 22.38s | Loss: 0.4065 Grad: 46323.3906 LR: 4.5334e-05\n",
                        "Epoch: [1][200/276]Elapsed 29.85s | Loss: 0.3745 Grad: 29432.5996 LR: 6.7909e-05\n",
                        "Epoch: [1][250/276]Elapsed 37.30s | Loss: 0.3482 Grad: 25979.0859 LR: 8.6930e-05\n",
                        "Epoch: [1][275/276]Elapsed 41.11s | Loss: 0.3374 Grad: 36008.8477 LR: 9.3946e-05\n"
                    ]
                },
                {
                    "data": {
                        "application/vnd.jupyter.widget-view+json": {
                            "model_id": "f73943c2887a409686193b3f6d6a5b0f",
                            "version_major": 2,
                            "version_minor": 0
                        },
                        "text/plain": [
                            "Valid:   0%|          | 0/225 [00:00<?, ?batch/s]"
                        ]
                    },
                    "metadata": {},
                    "output_type": "display_data"
                },
                {
                    "name": "stdout",
                    "output_type": "stream",
                    "text": [
                        "Epoch: [1][0/225]Elapsed 0.11s | Loss: 0.4283\n",
                        "Epoch: [1][50/225]Elapsed 4.92s | Loss: 0.4450\n",
                        "Epoch: [1][100/225]Elapsed 9.72s | Loss: 0.4483\n",
                        "Epoch: [1][150/225]Elapsed 14.54s | Loss: 0.4443\n",
                        "Epoch: [1][200/225]Elapsed 19.35s | Loss: 0.3965\n"
                    ]
                },
                {
                    "name": "stderr",
                    "output_type": "stream",
                    "text": [
                        "----------------------------------------------------------------------------------------------------\n",
                        "Epoch 1 - Average Train Loss: 0.3374 | Average Valid Loss: 0.3787 | Time: 62.94s\n",
                        "Best model found in epoch 1 | valid loss: 0.3787\n"
                    ]
                },
                {
                    "data": {
                        "application/vnd.jupyter.widget-view+json": {
                            "model_id": "7852eacdc235431ba344287a3f2cb6ea",
                            "version_major": 2,
                            "version_minor": 0
                        },
                        "text/plain": [
                            "Train:   0%|          | 0/276 [00:00<?, ?batch/s]"
                        ]
                    },
                    "metadata": {},
                    "output_type": "display_data"
                },
                {
                    "name": "stdout",
                    "output_type": "stream",
                    "text": [
                        "Epoch: [2][0/276]Elapsed 0.10s | Loss: 0.3010 Grad: nan LR: 9.3946e-05\n",
                        "Epoch: [2][50/276]Elapsed 7.49s | Loss: 0.2283 Grad: 73792.9531 LR: 9.9978e-05\n",
                        "Epoch: [2][100/276]Elapsed 14.97s | Loss: 0.2174 Grad: 110963.1953 LR: 9.9939e-05\n",
                        "Epoch: [2][150/276]Elapsed 22.42s | Loss: 0.2149 Grad: 54119.9414 LR: 9.9740e-05\n",
                        "Epoch: [2][200/276]Elapsed 29.88s | Loss: 0.2120 Grad: 64724.0703 LR: 9.9403e-05\n",
                        "Epoch: [2][250/276]Elapsed 37.34s | Loss: 0.2079 Grad: 41688.7227 LR: 9.8929e-05\n",
                        "Epoch: [2][275/276]Elapsed 41.12s | Loss: 0.2067 Grad: 74235.5156 LR: 9.8628e-05\n"
                    ]
                },
                {
                    "data": {
                        "application/vnd.jupyter.widget-view+json": {
                            "model_id": "503ae5e9a7b941e8b354536b89bbd088",
                            "version_major": 2,
                            "version_minor": 0
                        },
                        "text/plain": [
                            "Valid:   0%|          | 0/225 [00:00<?, ?batch/s]"
                        ]
                    },
                    "metadata": {},
                    "output_type": "display_data"
                },
                {
                    "name": "stdout",
                    "output_type": "stream",
                    "text": [
                        "Epoch: [2][0/225]Elapsed 0.11s | Loss: 0.3390\n",
                        "Epoch: [2][50/225]Elapsed 4.93s | Loss: 0.4379\n",
                        "Epoch: [2][100/225]Elapsed 9.74s | Loss: 0.4382\n",
                        "Epoch: [2][150/225]Elapsed 14.55s | Loss: 0.4350\n",
                        "Epoch: [2][200/225]Elapsed 19.38s | Loss: 0.3841\n"
                    ]
                },
                {
                    "name": "stderr",
                    "output_type": "stream",
                    "text": [
                        "----------------------------------------------------------------------------------------------------\n",
                        "Epoch 2 - Average Train Loss: 0.2067 | Average Valid Loss: 0.3651 | Time: 62.98s\n",
                        "Best model found in epoch 2 | valid loss: 0.3651\n"
                    ]
                },
                {
                    "data": {
                        "application/vnd.jupyter.widget-view+json": {
                            "model_id": "c4a8c8dd72cd4e9696e0839829a5f02b",
                            "version_major": 2,
                            "version_minor": 0
                        },
                        "text/plain": [
                            "Train:   0%|          | 0/276 [00:00<?, ?batch/s]"
                        ]
                    },
                    "metadata": {},
                    "output_type": "display_data"
                },
                {
                    "name": "stdout",
                    "output_type": "stream",
                    "text": [
                        "Epoch: [3][0/276]Elapsed 0.10s | Loss: 0.2917 Grad: 189928.5938 LR: 9.8628e-05\n",
                        "Epoch: [3][50/276]Elapsed 7.51s | Loss: 0.1907 Grad: 45940.3477 LR: 9.7948e-05\n",
                        "Epoch: [3][100/276]Elapsed 15.00s | Loss: 0.1847 Grad: 69405.4219 LR: 9.7135e-05\n",
                        "Epoch: [3][150/276]Elapsed 22.44s | Loss: 0.1843 Grad: 48978.7695 LR: 9.6191e-05\n",
                        "Epoch: [3][200/276]Elapsed 29.87s | Loss: 0.1826 Grad: 32440.0586 LR: 9.5119e-05\n",
                        "Epoch: [3][250/276]Elapsed 37.29s | Loss: 0.1800 Grad: 35709.1992 LR: 9.3922e-05\n",
                        "Epoch: [3][275/276]Elapsed 41.06s | Loss: 0.1791 Grad: 77738.2109 LR: 9.3251e-05\n"
                    ]
                },
                {
                    "data": {
                        "application/vnd.jupyter.widget-view+json": {
                            "model_id": "3e2be81d61104d7f81f6481538f0f727",
                            "version_major": 2,
                            "version_minor": 0
                        },
                        "text/plain": [
                            "Valid:   0%|          | 0/225 [00:00<?, ?batch/s]"
                        ]
                    },
                    "metadata": {},
                    "output_type": "display_data"
                },
                {
                    "name": "stdout",
                    "output_type": "stream",
                    "text": [
                        "Epoch: [3][0/225]Elapsed 0.10s | Loss: 0.3279\n",
                        "Epoch: [3][50/225]Elapsed 4.91s | Loss: 0.4229\n",
                        "Epoch: [3][100/225]Elapsed 9.72s | Loss: 0.4236\n",
                        "Epoch: [3][150/225]Elapsed 14.53s | Loss: 0.4205\n",
                        "Epoch: [3][200/225]Elapsed 19.36s | Loss: 0.3712\n"
                    ]
                },
                {
                    "name": "stderr",
                    "output_type": "stream",
                    "text": [
                        "----------------------------------------------------------------------------------------------------\n",
                        "Epoch 3 - Average Train Loss: 0.1791 | Average Valid Loss: 0.3526 | Time: 62.90s\n",
                        "Best model found in epoch 3 | valid loss: 0.3526\n"
                    ]
                },
                {
                    "data": {
                        "application/vnd.jupyter.widget-view+json": {
                            "model_id": "eccb876aa0534a46a82293894cd758f6",
                            "version_major": 2,
                            "version_minor": 0
                        },
                        "text/plain": [
                            "Train:   0%|          | 0/276 [00:00<?, ?batch/s]"
                        ]
                    },
                    "metadata": {},
                    "output_type": "display_data"
                },
                {
                    "name": "stdout",
                    "output_type": "stream",
                    "text": [
                        "Epoch: [4][0/276]Elapsed 0.11s | Loss: 0.1955 Grad: 124167.5781 LR: 9.3251e-05\n",
                        "Epoch: [4][50/276]Elapsed 7.48s | Loss: 0.1677 Grad: 130851.2500 LR: 9.1870e-05\n",
                        "Epoch: [4][100/276]Elapsed 14.92s | Loss: 0.1654 Grad: 141889.1250 LR: 9.0373e-05\n",
                        "Epoch: [4][150/276]Elapsed 22.38s | Loss: 0.1646 Grad: 102266.6250 LR: 8.8763e-05\n",
                        "Epoch: [4][200/276]Elapsed 29.82s | Loss: 0.1639 Grad: 57032.6875 LR: 8.7047e-05\n",
                        "Epoch: [4][250/276]Elapsed 37.25s | Loss: 0.1617 Grad: 77901.7109 LR: 8.5227e-05\n",
                        "Epoch: [4][275/276]Elapsed 41.06s | Loss: 0.1612 Grad: 119717.8359 LR: 8.4242e-05\n"
                    ]
                },
                {
                    "data": {
                        "application/vnd.jupyter.widget-view+json": {
                            "model_id": "574e218f825b4cf3a5758d07907837bb",
                            "version_major": 2,
                            "version_minor": 0
                        },
                        "text/plain": [
                            "Valid:   0%|          | 0/225 [00:00<?, ?batch/s]"
                        ]
                    },
                    "metadata": {},
                    "output_type": "display_data"
                },
                {
                    "name": "stdout",
                    "output_type": "stream",
                    "text": [
                        "Epoch: [4][0/225]Elapsed 0.10s | Loss: 0.3233\n",
                        "Epoch: [4][50/225]Elapsed 4.92s | Loss: 0.4179\n",
                        "Epoch: [4][100/225]Elapsed 9.75s | Loss: 0.4181\n",
                        "Epoch: [4][150/225]Elapsed 14.58s | Loss: 0.4152\n",
                        "Epoch: [4][200/225]Elapsed 19.41s | Loss: 0.3667\n"
                    ]
                },
                {
                    "name": "stderr",
                    "output_type": "stream",
                    "text": [
                        "----------------------------------------------------------------------------------------------------\n",
                        "Epoch 4 - Average Train Loss: 0.1612 | Average Valid Loss: 0.3483 | Time: 62.96s\n",
                        "Best model found in epoch 4 | valid loss: 0.3483\n"
                    ]
                },
                {
                    "data": {
                        "application/vnd.jupyter.widget-view+json": {
                            "model_id": "3e8b59d19f364631ac551d05693fa0a8",
                            "version_major": 2,
                            "version_minor": 0
                        },
                        "text/plain": [
                            "Train:   0%|          | 0/276 [00:00<?, ?batch/s]"
                        ]
                    },
                    "metadata": {},
                    "output_type": "display_data"
                },
                {
                    "name": "stdout",
                    "output_type": "stream",
                    "text": [
                        "Epoch: [5][0/276]Elapsed 0.10s | Loss: 0.1618 Grad: 83491.6250 LR: 8.4242e-05\n",
                        "Epoch: [5][50/276]Elapsed 7.49s | Loss: 0.1542 Grad: 91924.5938 LR: 8.2275e-05\n",
                        "Epoch: [5][100/276]Elapsed 14.95s | Loss: 0.1488 Grad: 103052.4688 LR: 8.0220e-05\n",
                        "Epoch: [5][150/276]Elapsed 22.44s | Loss: 0.1489 Grad: 74675.7109 LR: 7.8080e-05\n",
                        "Epoch: [5][200/276]Elapsed 29.85s | Loss: 0.1483 Grad: 52619.8203 LR: 7.5863e-05\n",
                        "Epoch: [5][250/276]Elapsed 37.27s | Loss: 0.1469 Grad: 66618.9922 LR: 7.3573e-05\n",
                        "Epoch: [5][275/276]Elapsed 41.04s | Loss: 0.1464 Grad: 117523.7812 LR: 7.2357e-05\n"
                    ]
                },
                {
                    "data": {
                        "application/vnd.jupyter.widget-view+json": {
                            "model_id": "7a502c61e4e444a7b4c1750ddbedcdac",
                            "version_major": 2,
                            "version_minor": 0
                        },
                        "text/plain": [
                            "Valid:   0%|          | 0/225 [00:00<?, ?batch/s]"
                        ]
                    },
                    "metadata": {},
                    "output_type": "display_data"
                },
                {
                    "name": "stdout",
                    "output_type": "stream",
                    "text": [
                        "Epoch: [5][0/225]Elapsed 0.11s | Loss: 0.3316\n",
                        "Epoch: [5][50/225]Elapsed 4.94s | Loss: 0.4296\n",
                        "Epoch: [5][100/225]Elapsed 9.75s | Loss: 0.4273\n",
                        "Epoch: [5][150/225]Elapsed 14.56s | Loss: 0.4233\n",
                        "Epoch: [5][200/225]Elapsed 19.38s | Loss: 0.3738\n"
                    ]
                },
                {
                    "name": "stderr",
                    "output_type": "stream",
                    "text": [
                        "----------------------------------------------------------------------------------------------------\n",
                        "Epoch 5 - Average Train Loss: 0.1464 | Average Valid Loss: 0.3549 | Time: 62.91s\n"
                    ]
                },
                {
                    "data": {
                        "application/vnd.jupyter.widget-view+json": {
                            "model_id": "7942636d36174e99ac2917b07d4c7b7e",
                            "version_major": 2,
                            "version_minor": 0
                        },
                        "text/plain": [
                            "Train:   0%|          | 0/276 [00:00<?, ?batch/s]"
                        ]
                    },
                    "metadata": {},
                    "output_type": "display_data"
                },
                {
                    "name": "stdout",
                    "output_type": "stream",
                    "text": [
                        "Epoch: [6][0/276]Elapsed 0.10s | Loss: 0.1440 Grad: 76021.1562 LR: 7.2357e-05\n",
                        "Epoch: [6][50/276]Elapsed 7.49s | Loss: 0.1365 Grad: 77988.0078 LR: 6.9971e-05\n",
                        "Epoch: [6][100/276]Elapsed 14.97s | Loss: 0.1362 Grad: 129757.1172 LR: 6.7529e-05\n",
                        "Epoch: [6][150/276]Elapsed 22.44s | Loss: 0.1367 Grad: 106577.1016 LR: 6.5039e-05\n",
                        "Epoch: [6][200/276]Elapsed 29.89s | Loss: 0.1365 Grad: 72352.9766 LR: 6.2507e-05\n",
                        "Epoch: [6][250/276]Elapsed 37.34s | Loss: 0.1341 Grad: 110907.5156 LR: 5.9941e-05\n",
                        "Epoch: [6][275/276]Elapsed 41.12s | Loss: 0.1339 Grad: 55976.5547 LR: 5.8595e-05\n"
                    ]
                },
                {
                    "data": {
                        "application/vnd.jupyter.widget-view+json": {
                            "model_id": "799920d1c0cc44c1b32d06ee894942c2",
                            "version_major": 2,
                            "version_minor": 0
                        },
                        "text/plain": [
                            "Valid:   0%|          | 0/225 [00:00<?, ?batch/s]"
                        ]
                    },
                    "metadata": {},
                    "output_type": "display_data"
                },
                {
                    "name": "stdout",
                    "output_type": "stream",
                    "text": [
                        "Epoch: [6][0/225]Elapsed 0.10s | Loss: 0.2966\n",
                        "Epoch: [6][50/225]Elapsed 4.91s | Loss: 0.4231\n",
                        "Epoch: [6][100/225]Elapsed 9.72s | Loss: 0.4216\n",
                        "Epoch: [6][150/225]Elapsed 14.54s | Loss: 0.4169\n",
                        "Epoch: [6][200/225]Elapsed 19.37s | Loss: 0.3681\n"
                    ]
                },
                {
                    "name": "stderr",
                    "output_type": "stream",
                    "text": [
                        "----------------------------------------------------------------------------------------------------\n",
                        "Epoch 6 - Average Train Loss: 0.1339 | Average Valid Loss: 0.3495 | Time: 62.98s\n",
                        "====================================================================================================\n",
                        "Fold 0 Valid Loss: \n",
                        "Easy: 0.8287 | Hard: 0.3999\n",
                        "Elapse: 17.70 min \n",
                        "====================================================================================================\n",
                        "====================================================================================================\n",
                        "Fold: 1 || Valid size 3595 \n",
                        "====================================================================================================\n",
                        "- First Stage \n"
                    ]
                },
                {
                    "data": {
                        "application/vnd.jupyter.widget-view+json": {
                            "model_id": "60caf2f41d7d4a7a8e90451a17dea3d1",
                            "version_major": 2,
                            "version_minor": 0
                        },
                        "text/plain": [
                            "Train:   0%|          | 0/622 [00:00<?, ?batch/s]"
                        ]
                    },
                    "metadata": {},
                    "output_type": "display_data"
                },
                {
                    "name": "stdout",
                    "output_type": "stream",
                    "text": [
                        "Epoch: [1][0/622]Elapsed 0.10s | Loss: 0.8383 Grad: 79178.3672 LR: 4.0000e-06\n",
                        "Epoch: [1][50/622]Elapsed 7.43s | Loss: 0.8258 Grad: 52341.9453 LR: 5.0647e-06\n",
                        "Epoch: [1][100/622]Elapsed 14.86s | Loss: 0.8205 Grad: 75250.2812 LR: 8.2116e-06\n",
                        "Epoch: [1][150/622]Elapsed 22.31s | Loss: 0.8140 Grad: 91786.8750 LR: 1.3301e-05\n",
                        "Epoch: [1][200/622]Elapsed 29.75s | Loss: 0.8066 Grad: 84235.8203 LR: 2.0107e-05\n",
                        "Epoch: [1][250/622]Elapsed 37.17s | Loss: 0.7937 Grad: 39432.7109 LR: 2.8328e-05\n",
                        "Epoch: [1][300/622]Elapsed 44.58s | Loss: 0.7810 Grad: 44135.5938 LR: 3.7599e-05\n",
                        "Epoch: [1][350/622]Elapsed 51.97s | Loss: 0.7629 Grad: 54122.6562 LR: 4.7509e-05\n",
                        "Epoch: [1][400/622]Elapsed 59.38s | Loss: 0.7434 Grad: 95066.4609 LR: 5.7619e-05\n",
                        "Epoch: [1][450/622]Elapsed 66.77s | Loss: 0.7228 Grad: 52241.8828 LR: 6.7479e-05\n",
                        "Epoch: [1][500/622]Elapsed 74.16s | Loss: 0.7049 Grad: 46159.8555 LR: 7.6652e-05\n",
                        "Epoch: [1][550/622]Elapsed 81.56s | Loss: 0.6864 Grad: 81157.5078 LR: 8.4732e-05\n",
                        "Epoch: [1][600/622]Elapsed 88.96s | Loss: 0.6687 Grad: 50010.0703 LR: 9.1359e-05\n",
                        "Epoch: [1][621/622]Elapsed 92.13s | Loss: 0.6622 Grad: 164735.9531 LR: 9.3737e-05\n"
                    ]
                },
                {
                    "data": {
                        "application/vnd.jupyter.widget-view+json": {
                            "model_id": "24e3e4d9b928430db9d00a810d8ba5cd",
                            "version_major": 2,
                            "version_minor": 0
                        },
                        "text/plain": [
                            "Valid:   0%|          | 0/225 [00:00<?, ?batch/s]"
                        ]
                    },
                    "metadata": {},
                    "output_type": "display_data"
                },
                {
                    "name": "stdout",
                    "output_type": "stream",
                    "text": [
                        "Epoch: [1][0/225]Elapsed 0.10s | Loss: 0.4669\n",
                        "Epoch: [1][50/225]Elapsed 4.89s | Loss: 0.5039\n",
                        "Epoch: [1][100/225]Elapsed 9.68s | Loss: 0.5290\n",
                        "Epoch: [1][150/225]Elapsed 14.47s | Loss: 0.5342\n",
                        "Epoch: [1][200/225]Elapsed 19.29s | Loss: 0.4900\n"
                    ]
                },
                {
                    "name": "stderr",
                    "output_type": "stream",
                    "text": [
                        "----------------------------------------------------------------------------------------------------\n",
                        "Epoch 1 - Average Train Loss: 0.6622 | Average Valid Loss: 0.4750 | Time: 113.90s\n",
                        "Best model found in epoch 1 | valid loss: 0.4750\n"
                    ]
                },
                {
                    "data": {
                        "application/vnd.jupyter.widget-view+json": {
                            "model_id": "f79f24ce1772475f8bdfd2bc061ab2bf",
                            "version_major": 2,
                            "version_minor": 0
                        },
                        "text/plain": [
                            "Train:   0%|          | 0/622 [00:00<?, ?batch/s]"
                        ]
                    },
                    "metadata": {},
                    "output_type": "display_data"
                },
                {
                    "name": "stdout",
                    "output_type": "stream",
                    "text": [
                        "Epoch: [2][0/622]Elapsed 0.10s | Loss: 0.4490 Grad: 187277.1562 LR: 9.3737e-05\n",
                        "Epoch: [2][50/622]Elapsed 7.54s | Loss: 0.4302 Grad: 85278.2031 LR: 9.7777e-05\n",
                        "Epoch: [2][100/622]Elapsed 15.01s | Loss: 0.4135 Grad: 61995.9531 LR: 9.9786e-05\n",
                        "Epoch: [2][150/622]Elapsed 22.50s | Loss: 0.4132 Grad: 62129.7383 LR: 9.9996e-05\n",
                        "Epoch: [2][200/622]Elapsed 29.96s | Loss: 0.4079 Grad: 82348.5078 LR: 9.9967e-05\n",
                        "Epoch: [2][250/622]Elapsed 37.39s | Loss: 0.4015 Grad: 81442.2031 LR: 9.9911e-05\n",
                        "Epoch: [2][300/622]Elapsed 44.83s | Loss: 0.4008 Grad: 111012.2812 LR: 9.9828e-05\n",
                        "Epoch: [2][350/622]Elapsed 52.27s | Loss: 0.3963 Grad: 70084.2188 LR: 9.9717e-05\n",
                        "Epoch: [2][400/622]Elapsed 59.68s | Loss: 0.3922 Grad: 91746.7344 LR: 9.9579e-05\n",
                        "Epoch: [2][450/622]Elapsed 67.09s | Loss: 0.3873 Grad: 61504.5586 LR: 9.9415e-05\n",
                        "Epoch: [2][500/622]Elapsed 74.49s | Loss: 0.3827 Grad: 117298.9531 LR: 9.9223e-05\n",
                        "Epoch: [2][550/622]Elapsed 81.89s | Loss: 0.3796 Grad: 35407.4570 LR: 9.9004e-05\n",
                        "Epoch: [2][600/622]Elapsed 89.30s | Loss: 0.3762 Grad: 38024.6992 LR: 9.8758e-05\n",
                        "Epoch: [2][621/622]Elapsed 92.48s | Loss: 0.3754 Grad: 63390.5312 LR: 9.8642e-05\n"
                    ]
                },
                {
                    "data": {
                        "application/vnd.jupyter.widget-view+json": {
                            "model_id": "0fe541aee3a1430e86041271491ae04f",
                            "version_major": 2,
                            "version_minor": 0
                        },
                        "text/plain": [
                            "Valid:   0%|          | 0/225 [00:00<?, ?batch/s]"
                        ]
                    },
                    "metadata": {},
                    "output_type": "display_data"
                },
                {
                    "name": "stdout",
                    "output_type": "stream",
                    "text": [
                        "Epoch: [2][0/225]Elapsed 0.11s | Loss: 0.4865\n",
                        "Epoch: [2][50/225]Elapsed 4.91s | Loss: 0.4300\n",
                        "Epoch: [2][100/225]Elapsed 9.71s | Loss: 0.4448\n",
                        "Epoch: [2][150/225]Elapsed 14.51s | Loss: 0.4502\n",
                        "Epoch: [2][200/225]Elapsed 19.32s | Loss: 0.4295\n"
                    ]
                },
                {
                    "name": "stderr",
                    "output_type": "stream",
                    "text": [
                        "----------------------------------------------------------------------------------------------------\n",
                        "Epoch 2 - Average Train Loss: 0.3754 | Average Valid Loss: 0.4224 | Time: 114.27s\n",
                        "Best model found in epoch 2 | valid loss: 0.4224\n"
                    ]
                },
                {
                    "data": {
                        "application/vnd.jupyter.widget-view+json": {
                            "model_id": "fbf13f6326eb4ee180eb929ff84a3f2f",
                            "version_major": 2,
                            "version_minor": 0
                        },
                        "text/plain": [
                            "Train:   0%|          | 0/622 [00:00<?, ?batch/s]"
                        ]
                    },
                    "metadata": {},
                    "output_type": "display_data"
                },
                {
                    "name": "stdout",
                    "output_type": "stream",
                    "text": [
                        "Epoch: [3][0/622]Elapsed 0.10s | Loss: 0.3772 Grad: inf LR: 9.8642e-05\n",
                        "Epoch: [3][50/622]Elapsed 7.45s | Loss: 0.3044 Grad: 33182.0586 LR: 9.8358e-05\n",
                        "Epoch: [3][100/622]Elapsed 14.88s | Loss: 0.2966 Grad: 21168.6035 LR: 9.8048e-05\n",
                        "Epoch: [3][150/622]Elapsed 22.33s | Loss: 0.3041 Grad: 45705.2656 LR: 9.7711e-05\n",
                        "Epoch: [3][200/622]Elapsed 29.78s | Loss: 0.3028 Grad: 54556.9180 LR: 9.7349e-05\n",
                        "Epoch: [3][250/622]Elapsed 37.22s | Loss: 0.3027 Grad: 49356.9922 LR: 9.6960e-05\n",
                        "Epoch: [3][300/622]Elapsed 44.66s | Loss: 0.3043 Grad: 51116.7031 LR: 9.6546e-05\n",
                        "Epoch: [3][350/622]Elapsed 52.07s | Loss: 0.3043 Grad: 20133.2734 LR: 9.6106e-05\n",
                        "Epoch: [3][400/622]Elapsed 59.50s | Loss: 0.3010 Grad: 58608.6016 LR: 9.5642e-05\n",
                        "Epoch: [3][450/622]Elapsed 66.89s | Loss: 0.2974 Grad: 51655.5508 LR: 9.5152e-05\n",
                        "Epoch: [3][500/622]Elapsed 74.29s | Loss: 0.2951 Grad: 71698.7656 LR: 9.4638e-05\n",
                        "Epoch: [3][550/622]Elapsed 81.69s | Loss: 0.2944 Grad: 22604.4746 LR: 9.4099e-05\n",
                        "Epoch: [3][600/622]Elapsed 89.07s | Loss: 0.2925 Grad: 36029.2695 LR: 9.3536e-05\n",
                        "Epoch: [3][621/622]Elapsed 92.24s | Loss: 0.2926 Grad: 70284.7344 LR: 9.3281e-05\n"
                    ]
                },
                {
                    "data": {
                        "application/vnd.jupyter.widget-view+json": {
                            "model_id": "db665317972a4ebaa50b2287ff5afca7",
                            "version_major": 2,
                            "version_minor": 0
                        },
                        "text/plain": [
                            "Valid:   0%|          | 0/225 [00:00<?, ?batch/s]"
                        ]
                    },
                    "metadata": {},
                    "output_type": "display_data"
                },
                {
                    "name": "stdout",
                    "output_type": "stream",
                    "text": [
                        "Epoch: [3][0/225]Elapsed 0.10s | Loss: 0.4712\n",
                        "Epoch: [3][50/225]Elapsed 4.90s | Loss: 0.4197\n",
                        "Epoch: [3][100/225]Elapsed 9.70s | Loss: 0.4292\n",
                        "Epoch: [3][150/225]Elapsed 14.50s | Loss: 0.4313\n",
                        "Epoch: [3][200/225]Elapsed 19.31s | Loss: 0.4171\n"
                    ]
                },
                {
                    "name": "stderr",
                    "output_type": "stream",
                    "text": [
                        "----------------------------------------------------------------------------------------------------\n",
                        "Epoch 3 - Average Train Loss: 0.2926 | Average Valid Loss: 0.4127 | Time: 114.02s\n",
                        "Best model found in epoch 3 | valid loss: 0.4127\n"
                    ]
                },
                {
                    "data": {
                        "application/vnd.jupyter.widget-view+json": {
                            "model_id": "3bae43deca114e18b07b56fdffcff6b9",
                            "version_major": 2,
                            "version_minor": 0
                        },
                        "text/plain": [
                            "Train:   0%|          | 0/622 [00:00<?, ?batch/s]"
                        ]
                    },
                    "metadata": {},
                    "output_type": "display_data"
                },
                {
                    "name": "stdout",
                    "output_type": "stream",
                    "text": [
                        "Epoch: [4][0/622]Elapsed 0.10s | Loss: 0.3196 Grad: nan LR: 9.3281e-05\n",
                        "Epoch: [4][50/622]Elapsed 7.46s | Loss: 0.2490 Grad: 101750.0859 LR: 9.2683e-05\n",
                        "Epoch: [4][100/622]Elapsed 14.91s | Loss: 0.2493 Grad: 23026.6270 LR: 9.2063e-05\n",
                        "Epoch: [4][150/622]Elapsed 22.37s | Loss: 0.2584 Grad: 41077.5625 LR: 9.1420e-05\n",
                        "Epoch: [4][200/622]Elapsed 29.81s | Loss: 0.2563 Grad: 100050.3359 LR: 9.0754e-05\n",
                        "Epoch: [4][250/622]Elapsed 37.25s | Loss: 0.2545 Grad: 44140.0977 LR: 9.0065e-05\n",
                        "Epoch: [4][300/622]Elapsed 44.69s | Loss: 0.2555 Grad: 63526.9570 LR: 8.9355e-05\n",
                        "Epoch: [4][350/622]Elapsed 52.11s | Loss: 0.2544 Grad: 27388.1836 LR: 8.8624e-05\n",
                        "Epoch: [4][400/622]Elapsed 59.53s | Loss: 0.2514 Grad: 66402.0781 LR: 8.7871e-05\n",
                        "Epoch: [4][450/622]Elapsed 66.96s | Loss: 0.2490 Grad: 46465.7539 LR: 8.7097e-05\n",
                        "Epoch: [4][500/622]Elapsed 74.40s | Loss: 0.2475 Grad: 64375.0156 LR: 8.6303e-05\n",
                        "Epoch: [4][550/622]Elapsed 81.84s | Loss: 0.2462 Grad: 20649.5156 LR: 8.5490e-05\n",
                        "Epoch: [4][600/622]Elapsed 89.27s | Loss: 0.2439 Grad: 70250.7422 LR: 8.4657e-05\n",
                        "Epoch: [4][621/622]Elapsed 92.47s | Loss: 0.2437 Grad: 93769.5781 LR: 8.4284e-05\n"
                    ]
                },
                {
                    "data": {
                        "application/vnd.jupyter.widget-view+json": {
                            "model_id": "039a488849344cb7a5c11d164d5aac12",
                            "version_major": 2,
                            "version_minor": 0
                        },
                        "text/plain": [
                            "Valid:   0%|          | 0/225 [00:00<?, ?batch/s]"
                        ]
                    },
                    "metadata": {},
                    "output_type": "display_data"
                },
                {
                    "name": "stdout",
                    "output_type": "stream",
                    "text": [
                        "Epoch: [4][0/225]Elapsed 0.11s | Loss: 0.5776\n",
                        "Epoch: [4][50/225]Elapsed 4.92s | Loss: 0.4338\n",
                        "Epoch: [4][100/225]Elapsed 9.73s | Loss: 0.4424\n",
                        "Epoch: [4][150/225]Elapsed 14.54s | Loss: 0.4448\n",
                        "Epoch: [4][200/225]Elapsed 19.36s | Loss: 0.4263\n"
                    ]
                },
                {
                    "name": "stderr",
                    "output_type": "stream",
                    "text": [
                        "----------------------------------------------------------------------------------------------------\n",
                        "Epoch 4 - Average Train Loss: 0.2437 | Average Valid Loss: 0.4230 | Time: 114.30s\n"
                    ]
                },
                {
                    "data": {
                        "application/vnd.jupyter.widget-view+json": {
                            "model_id": "8afece4df410470f8ae0adf2d70b5642",
                            "version_major": 2,
                            "version_minor": 0
                        },
                        "text/plain": [
                            "Train:   0%|          | 0/622 [00:00<?, ?batch/s]"
                        ]
                    },
                    "metadata": {},
                    "output_type": "display_data"
                },
                {
                    "name": "stdout",
                    "output_type": "stream",
                    "text": [
                        "Epoch: [5][0/622]Elapsed 0.10s | Loss: 0.3860 Grad: nan LR: 8.4284e-05\n",
                        "Epoch: [5][50/622]Elapsed 7.48s | Loss: 0.2166 Grad: 78436.1641 LR: 8.3424e-05\n",
                        "Epoch: [5][100/622]Elapsed 14.93s | Loss: 0.2151 Grad: 15394.2139 LR: 8.2546e-05\n",
                        "Epoch: [5][150/622]Elapsed 22.37s | Loss: 0.2187 Grad: 46252.4727 LR: 8.1650e-05\n",
                        "Epoch: [5][200/622]Elapsed 29.81s | Loss: 0.2167 Grad: 70281.3125 LR: 8.0736e-05\n",
                        "Epoch: [5][250/622]Elapsed 37.22s | Loss: 0.2146 Grad: 32124.1230 LR: 7.9806e-05\n",
                        "Epoch: [5][300/622]Elapsed 44.63s | Loss: 0.2143 Grad: 67650.8984 LR: 7.8859e-05\n",
                        "Epoch: [5][350/622]Elapsed 52.01s | Loss: 0.2147 Grad: 18733.2305 LR: 7.7897e-05\n",
                        "Epoch: [5][400/622]Elapsed 59.40s | Loss: 0.2129 Grad: 36449.6328 LR: 7.6920e-05\n",
                        "Epoch: [5][450/622]Elapsed 66.80s | Loss: 0.2113 Grad: 50128.6406 LR: 7.5927e-05\n",
                        "Epoch: [5][500/622]Elapsed 74.19s | Loss: 0.2097 Grad: 70481.4375 LR: 7.4921e-05\n",
                        "Epoch: [5][550/622]Elapsed 81.57s | Loss: 0.2092 Grad: 38415.9297 LR: 7.3901e-05\n",
                        "Epoch: [5][600/622]Elapsed 88.94s | Loss: 0.2071 Grad: 50307.4297 LR: 7.2868e-05\n",
                        "Epoch: [5][621/622]Elapsed 92.10s | Loss: 0.2065 Grad: 78353.6484 LR: 7.2409e-05\n"
                    ]
                },
                {
                    "data": {
                        "application/vnd.jupyter.widget-view+json": {
                            "model_id": "e3edd7ee834948df9efa1741fc68b522",
                            "version_major": 2,
                            "version_minor": 0
                        },
                        "text/plain": [
                            "Valid:   0%|          | 0/225 [00:00<?, ?batch/s]"
                        ]
                    },
                    "metadata": {},
                    "output_type": "display_data"
                },
                {
                    "name": "stdout",
                    "output_type": "stream",
                    "text": [
                        "Epoch: [5][0/225]Elapsed 0.10s | Loss: 0.5431\n",
                        "Epoch: [5][50/225]Elapsed 4.91s | Loss: 0.4396\n",
                        "Epoch: [5][100/225]Elapsed 9.72s | Loss: 0.4463\n",
                        "Epoch: [5][150/225]Elapsed 14.52s | Loss: 0.4474\n",
                        "Epoch: [5][200/225]Elapsed 19.33s | Loss: 0.4313\n"
                    ]
                },
                {
                    "name": "stderr",
                    "output_type": "stream",
                    "text": [
                        "----------------------------------------------------------------------------------------------------\n",
                        "Epoch 5 - Average Train Loss: 0.2065 | Average Valid Loss: 0.4284 | Time: 113.90s\n"
                    ]
                },
                {
                    "data": {
                        "application/vnd.jupyter.widget-view+json": {
                            "model_id": "1d606fc2701147dab954a5dab4faeab3",
                            "version_major": 2,
                            "version_minor": 0
                        },
                        "text/plain": [
                            "Train:   0%|          | 0/622 [00:00<?, ?batch/s]"
                        ]
                    },
                    "metadata": {},
                    "output_type": "display_data"
                },
                {
                    "name": "stdout",
                    "output_type": "stream",
                    "text": [
                        "Epoch: [6][0/622]Elapsed 0.10s | Loss: 0.3112 Grad: nan LR: 7.2409e-05\n",
                        "Epoch: [6][50/622]Elapsed 7.46s | Loss: 0.1840 Grad: 55764.0703 LR: 7.1358e-05\n",
                        "Epoch: [6][100/622]Elapsed 14.94s | Loss: 0.1784 Grad: 19264.1113 LR: 7.0296e-05\n",
                        "Epoch: [6][150/622]Elapsed 22.40s | Loss: 0.1816 Grad: 39981.3672 LR: 6.9222e-05\n",
                        "Epoch: [6][200/622]Elapsed 29.85s | Loss: 0.1801 Grad: 54573.6250 LR: 6.8138e-05\n",
                        "Epoch: [6][250/622]Elapsed 37.31s | Loss: 0.1792 Grad: 63990.4805 LR: 6.7044e-05\n",
                        "Epoch: [6][300/622]Elapsed 44.73s | Loss: 0.1776 Grad: 69162.8281 LR: 6.5940e-05\n",
                        "Epoch: [6][350/622]Elapsed 52.14s | Loss: 0.1782 Grad: 35841.6953 LR: 6.4828e-05\n",
                        "Epoch: [6][400/622]Elapsed 59.56s | Loss: 0.1771 Grad: 65838.2656 LR: 6.3708e-05\n",
                        "Epoch: [6][450/622]Elapsed 66.97s | Loss: 0.1762 Grad: 40035.4141 LR: 6.2581e-05\n",
                        "Epoch: [6][500/622]Elapsed 74.37s | Loss: 0.1749 Grad: 84028.4297 LR: 6.1446e-05\n",
                        "Epoch: [6][550/622]Elapsed 81.80s | Loss: 0.1744 Grad: 47432.7422 LR: 6.0305e-05\n",
                        "Epoch: [6][600/622]Elapsed 89.17s | Loss: 0.1733 Grad: 38058.9961 LR: 5.9159e-05\n",
                        "Epoch: [6][621/622]Elapsed 92.32s | Loss: 0.1733 Grad: 61186.4062 LR: 5.8653e-05\n"
                    ]
                },
                {
                    "data": {
                        "application/vnd.jupyter.widget-view+json": {
                            "model_id": "22b95914815f4d539691b4f758a28e01",
                            "version_major": 2,
                            "version_minor": 0
                        },
                        "text/plain": [
                            "Valid:   0%|          | 0/225 [00:00<?, ?batch/s]"
                        ]
                    },
                    "metadata": {},
                    "output_type": "display_data"
                },
                {
                    "name": "stdout",
                    "output_type": "stream",
                    "text": [
                        "Epoch: [6][0/225]Elapsed 0.10s | Loss: 0.5345\n",
                        "Epoch: [6][50/225]Elapsed 4.91s | Loss: 0.4558\n",
                        "Epoch: [6][100/225]Elapsed 9.72s | Loss: 0.4592\n",
                        "Epoch: [6][150/225]Elapsed 14.52s | Loss: 0.4609\n",
                        "Epoch: [6][200/225]Elapsed 19.34s | Loss: 0.4518\n"
                    ]
                },
                {
                    "name": "stderr",
                    "output_type": "stream",
                    "text": [
                        "----------------------------------------------------------------------------------------------------\n",
                        "Epoch 6 - Average Train Loss: 0.1733 | Average Valid Loss: 0.4539 | Time: 114.13s\n",
                        "====================================================================================================\n",
                        "Fold 1 Valid Loss: \n",
                        "Easy: 0.8578 | Hard: 0.7527\n",
                        "Elapse: 29.12 min \n",
                        "====================================================================================================\n",
                        "- Second Stage \n",
                        "Use Checkpoint: ENet_b2_xymask_fold_1_stage_1.pth\n"
                    ]
                },
                {
                    "data": {
                        "application/vnd.jupyter.widget-view+json": {
                            "model_id": "4665e2b2fef34509a84bd9c60175e9c0",
                            "version_major": 2,
                            "version_minor": 0
                        },
                        "text/plain": [
                            "Train:   0%|          | 0/276 [00:00<?, ?batch/s]"
                        ]
                    },
                    "metadata": {},
                    "output_type": "display_data"
                },
                {
                    "name": "stdout",
                    "output_type": "stream",
                    "text": [
                        "Epoch: [1][0/276]Elapsed 0.10s | Loss: 0.4653 Grad: nan LR: 4.0000e-06\n"
                    ]
                },
                {
                    "name": "stderr",
                    "output_type": "stream",
                    "text": [
                        "/home/shiyi/miniconda3/envs/kaggle/lib/python3.11/site-packages/torch/optim/lr_scheduler.py:143: UserWarning: Detected call of `lr_scheduler.step()` before `optimizer.step()`. In PyTorch 1.1.0 and later, you should call them in the opposite order: `optimizer.step()` before `lr_scheduler.step()`.  Failure to do this will result in PyTorch skipping the first value of the learning rate schedule. See more details at https://pytorch.org/docs/stable/optim.html#how-to-adjust-learning-rate\n",
                        "  warnings.warn(\"Detected call of `lr_scheduler.step()` before `optimizer.step()`. \"\n"
                    ]
                },
                {
                    "name": "stdout",
                    "output_type": "stream",
                    "text": [
                        "Epoch: [1][50/276]Elapsed 7.39s | Loss: 0.4687 Grad: 103882.9062 LR: 9.3614e-06\n",
                        "Epoch: [1][100/276]Elapsed 14.81s | Loss: 0.4338 Grad: 84685.9141 LR: 2.4248e-05\n",
                        "Epoch: [1][150/276]Elapsed 22.20s | Loss: 0.3955 Grad: 41306.9180 LR: 4.5334e-05\n",
                        "Epoch: [1][200/276]Elapsed 29.62s | Loss: 0.3672 Grad: 54102.8750 LR: 6.7909e-05\n",
                        "Epoch: [1][250/276]Elapsed 37.02s | Loss: 0.3413 Grad: 35566.1250 LR: 8.6930e-05\n",
                        "Epoch: [1][275/276]Elapsed 40.78s | Loss: 0.3304 Grad: 33490.4336 LR: 9.3946e-05\n"
                    ]
                },
                {
                    "data": {
                        "application/vnd.jupyter.widget-view+json": {
                            "model_id": "425cb378a2244b458b20fac175ed1739",
                            "version_major": 2,
                            "version_minor": 0
                        },
                        "text/plain": [
                            "Valid:   0%|          | 0/225 [00:00<?, ?batch/s]"
                        ]
                    },
                    "metadata": {},
                    "output_type": "display_data"
                },
                {
                    "name": "stdout",
                    "output_type": "stream",
                    "text": [
                        "Epoch: [1][0/225]Elapsed 0.10s | Loss: 0.6134\n",
                        "Epoch: [1][50/225]Elapsed 4.90s | Loss: 0.4732\n",
                        "Epoch: [1][100/225]Elapsed 9.71s | Loss: 0.4831\n",
                        "Epoch: [1][150/225]Elapsed 14.51s | Loss: 0.4827\n",
                        "Epoch: [1][200/225]Elapsed 19.33s | Loss: 0.4219\n"
                    ]
                },
                {
                    "name": "stderr",
                    "output_type": "stream",
                    "text": [
                        "----------------------------------------------------------------------------------------------------\n",
                        "Epoch 1 - Average Train Loss: 0.3304 | Average Valid Loss: 0.4009 | Time: 62.59s\n",
                        "Best model found in epoch 1 | valid loss: 0.4009\n"
                    ]
                },
                {
                    "data": {
                        "application/vnd.jupyter.widget-view+json": {
                            "model_id": "e2a1c28700994abfb94a6d28f87ef18b",
                            "version_major": 2,
                            "version_minor": 0
                        },
                        "text/plain": [
                            "Train:   0%|          | 0/276 [00:00<?, ?batch/s]"
                        ]
                    },
                    "metadata": {},
                    "output_type": "display_data"
                },
                {
                    "name": "stdout",
                    "output_type": "stream",
                    "text": [
                        "Epoch: [2][0/276]Elapsed 0.10s | Loss: 0.2503 Grad: 131172.5781 LR: 9.3946e-05\n",
                        "Epoch: [2][50/276]Elapsed 7.46s | Loss: 0.2217 Grad: 61921.0859 LR: 9.9978e-05\n",
                        "Epoch: [2][100/276]Elapsed 14.91s | Loss: 0.2103 Grad: 52253.5586 LR: 9.9939e-05\n",
                        "Epoch: [2][150/276]Elapsed 22.34s | Loss: 0.2060 Grad: 54038.9492 LR: 9.9740e-05\n",
                        "Epoch: [2][200/276]Elapsed 29.78s | Loss: 0.2047 Grad: 70464.2109 LR: 9.9403e-05\n",
                        "Epoch: [2][250/276]Elapsed 37.20s | Loss: 0.2003 Grad: 57072.2188 LR: 9.8929e-05\n",
                        "Epoch: [2][275/276]Elapsed 40.97s | Loss: 0.1982 Grad: 70537.1719 LR: 9.8628e-05\n"
                    ]
                },
                {
                    "data": {
                        "application/vnd.jupyter.widget-view+json": {
                            "model_id": "ac8fef6b46af4c778b7925b45915a21d",
                            "version_major": 2,
                            "version_minor": 0
                        },
                        "text/plain": [
                            "Valid:   0%|          | 0/225 [00:00<?, ?batch/s]"
                        ]
                    },
                    "metadata": {},
                    "output_type": "display_data"
                },
                {
                    "name": "stdout",
                    "output_type": "stream",
                    "text": [
                        "Epoch: [2][0/225]Elapsed 0.10s | Loss: 0.6013\n",
                        "Epoch: [2][50/225]Elapsed 4.91s | Loss: 0.4488\n",
                        "Epoch: [2][100/225]Elapsed 9.72s | Loss: 0.4622\n",
                        "Epoch: [2][150/225]Elapsed 14.52s | Loss: 0.4648\n",
                        "Epoch: [2][200/225]Elapsed 19.35s | Loss: 0.4041\n"
                    ]
                },
                {
                    "name": "stderr",
                    "output_type": "stream",
                    "text": [
                        "----------------------------------------------------------------------------------------------------\n",
                        "Epoch 2 - Average Train Loss: 0.1982 | Average Valid Loss: 0.3826 | Time: 62.79s\n",
                        "Best model found in epoch 2 | valid loss: 0.3826\n"
                    ]
                },
                {
                    "data": {
                        "application/vnd.jupyter.widget-view+json": {
                            "model_id": "c822572ec54447ffaa7df488496a07d0",
                            "version_major": 2,
                            "version_minor": 0
                        },
                        "text/plain": [
                            "Train:   0%|          | 0/276 [00:00<?, ?batch/s]"
                        ]
                    },
                    "metadata": {},
                    "output_type": "display_data"
                },
                {
                    "name": "stdout",
                    "output_type": "stream",
                    "text": [
                        "Epoch: [3][0/276]Elapsed 0.11s | Loss: 0.2055 Grad: 106657.0781 LR: 9.8628e-05\n",
                        "Epoch: [3][50/276]Elapsed 7.49s | Loss: 0.1825 Grad: 141512.7344 LR: 9.7948e-05\n",
                        "Epoch: [3][100/276]Elapsed 14.93s | Loss: 0.1778 Grad: 92359.7500 LR: 9.7135e-05\n",
                        "Epoch: [3][150/276]Elapsed 22.37s | Loss: 0.1766 Grad: 86413.5234 LR: 9.6191e-05\n",
                        "Epoch: [3][200/276]Elapsed 29.83s | Loss: 0.1777 Grad: 85443.1094 LR: 9.5119e-05\n",
                        "Epoch: [3][250/276]Elapsed 37.24s | Loss: 0.1766 Grad: 97945.0078 LR: 9.3922e-05\n",
                        "Epoch: [3][275/276]Elapsed 41.01s | Loss: 0.1751 Grad: 66420.7266 LR: 9.3251e-05\n"
                    ]
                },
                {
                    "data": {
                        "application/vnd.jupyter.widget-view+json": {
                            "model_id": "9d3990965d304fcbbf35b3aaaf41087b",
                            "version_major": 2,
                            "version_minor": 0
                        },
                        "text/plain": [
                            "Valid:   0%|          | 0/225 [00:00<?, ?batch/s]"
                        ]
                    },
                    "metadata": {},
                    "output_type": "display_data"
                },
                {
                    "name": "stdout",
                    "output_type": "stream",
                    "text": [
                        "Epoch: [3][0/225]Elapsed 0.10s | Loss: 0.5344\n",
                        "Epoch: [3][50/225]Elapsed 4.91s | Loss: 0.4332\n",
                        "Epoch: [3][100/225]Elapsed 9.71s | Loss: 0.4514\n",
                        "Epoch: [3][150/225]Elapsed 14.52s | Loss: 0.4537\n",
                        "Epoch: [3][200/225]Elapsed 19.33s | Loss: 0.3948\n"
                    ]
                },
                {
                    "name": "stderr",
                    "output_type": "stream",
                    "text": [
                        "----------------------------------------------------------------------------------------------------\n",
                        "Epoch 3 - Average Train Loss: 0.1751 | Average Valid Loss: 0.3740 | Time: 62.82s\n",
                        "Best model found in epoch 3 | valid loss: 0.3740\n"
                    ]
                },
                {
                    "data": {
                        "application/vnd.jupyter.widget-view+json": {
                            "model_id": "b580a35ce3054d998ede903951dcb776",
                            "version_major": 2,
                            "version_minor": 0
                        },
                        "text/plain": [
                            "Train:   0%|          | 0/276 [00:00<?, ?batch/s]"
                        ]
                    },
                    "metadata": {},
                    "output_type": "display_data"
                },
                {
                    "name": "stdout",
                    "output_type": "stream",
                    "text": [
                        "Epoch: [4][0/276]Elapsed 0.10s | Loss: 0.2259 Grad: 117783.5234 LR: 9.3251e-05\n",
                        "Epoch: [4][50/276]Elapsed 7.47s | Loss: 0.1680 Grad: 83320.7500 LR: 9.1870e-05\n",
                        "Epoch: [4][100/276]Elapsed 14.92s | Loss: 0.1632 Grad: 117717.6172 LR: 9.0373e-05\n",
                        "Epoch: [4][150/276]Elapsed 22.37s | Loss: 0.1614 Grad: 79086.1484 LR: 8.8763e-05\n",
                        "Epoch: [4][200/276]Elapsed 29.78s | Loss: 0.1613 Grad: 119830.4609 LR: 8.7047e-05\n",
                        "Epoch: [4][250/276]Elapsed 37.21s | Loss: 0.1603 Grad: 64011.4766 LR: 8.5227e-05\n",
                        "Epoch: [4][275/276]Elapsed 40.98s | Loss: 0.1592 Grad: 92795.0469 LR: 8.4242e-05\n"
                    ]
                },
                {
                    "data": {
                        "application/vnd.jupyter.widget-view+json": {
                            "model_id": "49cb4ff593ce4a9eba02eaa3d3909738",
                            "version_major": 2,
                            "version_minor": 0
                        },
                        "text/plain": [
                            "Valid:   0%|          | 0/225 [00:00<?, ?batch/s]"
                        ]
                    },
                    "metadata": {},
                    "output_type": "display_data"
                },
                {
                    "name": "stdout",
                    "output_type": "stream",
                    "text": [
                        "Epoch: [4][0/225]Elapsed 0.10s | Loss: 0.5568\n",
                        "Epoch: [4][50/225]Elapsed 4.91s | Loss: 0.4394\n",
                        "Epoch: [4][100/225]Elapsed 9.72s | Loss: 0.4580\n",
                        "Epoch: [4][150/225]Elapsed 14.55s | Loss: 0.4621\n",
                        "Epoch: [4][200/225]Elapsed 19.38s | Loss: 0.4010\n"
                    ]
                },
                {
                    "name": "stderr",
                    "output_type": "stream",
                    "text": [
                        "----------------------------------------------------------------------------------------------------\n",
                        "Epoch 4 - Average Train Loss: 0.1592 | Average Valid Loss: 0.3796 | Time: 62.83s\n"
                    ]
                },
                {
                    "data": {
                        "application/vnd.jupyter.widget-view+json": {
                            "model_id": "a1cdad2dc5d548b6a77936acada28c07",
                            "version_major": 2,
                            "version_minor": 0
                        },
                        "text/plain": [
                            "Train:   0%|          | 0/276 [00:00<?, ?batch/s]"
                        ]
                    },
                    "metadata": {},
                    "output_type": "display_data"
                },
                {
                    "name": "stdout",
                    "output_type": "stream",
                    "text": [
                        "Epoch: [5][0/276]Elapsed 0.11s | Loss: 0.1747 Grad: 116743.9844 LR: 8.4242e-05\n",
                        "Epoch: [5][50/276]Elapsed 7.52s | Loss: 0.1582 Grad: 87591.1953 LR: 8.2275e-05\n",
                        "Epoch: [5][100/276]Elapsed 14.97s | Loss: 0.1512 Grad: 84993.4062 LR: 8.0220e-05\n",
                        "Epoch: [5][150/276]Elapsed 22.41s | Loss: 0.1477 Grad: 83281.9141 LR: 7.8080e-05\n",
                        "Epoch: [5][200/276]Elapsed 29.84s | Loss: 0.1483 Grad: 81496.0625 LR: 7.5863e-05\n",
                        "Epoch: [5][250/276]Elapsed 37.27s | Loss: 0.1469 Grad: 88470.6875 LR: 7.3573e-05\n",
                        "Epoch: [5][275/276]Elapsed 41.04s | Loss: 0.1454 Grad: 109368.1641 LR: 7.2357e-05\n"
                    ]
                },
                {
                    "data": {
                        "application/vnd.jupyter.widget-view+json": {
                            "model_id": "33b69981632044b39413e1080744632b",
                            "version_major": 2,
                            "version_minor": 0
                        },
                        "text/plain": [
                            "Valid:   0%|          | 0/225 [00:00<?, ?batch/s]"
                        ]
                    },
                    "metadata": {},
                    "output_type": "display_data"
                },
                {
                    "name": "stdout",
                    "output_type": "stream",
                    "text": [
                        "Epoch: [5][0/225]Elapsed 0.10s | Loss: 0.5513\n",
                        "Epoch: [5][50/225]Elapsed 4.91s | Loss: 0.4351\n",
                        "Epoch: [5][100/225]Elapsed 9.73s | Loss: 0.4555\n",
                        "Epoch: [5][150/225]Elapsed 14.54s | Loss: 0.4615\n",
                        "Epoch: [5][200/225]Elapsed 19.35s | Loss: 0.4010\n"
                    ]
                },
                {
                    "name": "stderr",
                    "output_type": "stream",
                    "text": [
                        "----------------------------------------------------------------------------------------------------\n",
                        "Epoch 5 - Average Train Loss: 0.1454 | Average Valid Loss: 0.3797 | Time: 62.86s\n"
                    ]
                },
                {
                    "data": {
                        "application/vnd.jupyter.widget-view+json": {
                            "model_id": "89a10b425aab4835a6a2a21f4d7406af",
                            "version_major": 2,
                            "version_minor": 0
                        },
                        "text/plain": [
                            "Train:   0%|          | 0/276 [00:00<?, ?batch/s]"
                        ]
                    },
                    "metadata": {},
                    "output_type": "display_data"
                },
                {
                    "name": "stdout",
                    "output_type": "stream",
                    "text": [
                        "Epoch: [6][0/276]Elapsed 0.10s | Loss: 0.1687 Grad: 112033.3281 LR: 7.2357e-05\n",
                        "Epoch: [6][50/276]Elapsed 7.47s | Loss: 0.1388 Grad: 100386.8828 LR: 6.9971e-05\n",
                        "Epoch: [6][100/276]Elapsed 14.90s | Loss: 0.1326 Grad: 52016.5234 LR: 6.7529e-05\n",
                        "Epoch: [6][150/276]Elapsed 22.35s | Loss: 0.1313 Grad: 35140.4023 LR: 6.5039e-05\n",
                        "Epoch: [6][200/276]Elapsed 29.80s | Loss: 0.1320 Grad: 43564.1523 LR: 6.2507e-05\n",
                        "Epoch: [6][250/276]Elapsed 37.22s | Loss: 0.1318 Grad: 33908.1055 LR: 5.9941e-05\n",
                        "Epoch: [6][275/276]Elapsed 40.99s | Loss: 0.1313 Grad: 50782.8203 LR: 5.8595e-05\n"
                    ]
                },
                {
                    "data": {
                        "application/vnd.jupyter.widget-view+json": {
                            "model_id": "200bb8029b9b4395a9cf2476c938d6af",
                            "version_major": 2,
                            "version_minor": 0
                        },
                        "text/plain": [
                            "Valid:   0%|          | 0/225 [00:00<?, ?batch/s]"
                        ]
                    },
                    "metadata": {},
                    "output_type": "display_data"
                },
                {
                    "name": "stdout",
                    "output_type": "stream",
                    "text": [
                        "Epoch: [6][0/225]Elapsed 0.11s | Loss: 0.5456\n",
                        "Epoch: [6][50/225]Elapsed 4.93s | Loss: 0.4307\n",
                        "Epoch: [6][100/225]Elapsed 9.74s | Loss: 0.4506\n",
                        "Epoch: [6][150/225]Elapsed 14.54s | Loss: 0.4568\n",
                        "Epoch: [6][200/225]Elapsed 19.35s | Loss: 0.3973\n"
                    ]
                },
                {
                    "name": "stderr",
                    "output_type": "stream",
                    "text": [
                        "----------------------------------------------------------------------------------------------------\n",
                        "Epoch 6 - Average Train Loss: 0.1313 | Average Valid Loss: 0.3766 | Time: 62.81s\n",
                        "====================================================================================================\n",
                        "Fold 1 Valid Loss: \n",
                        "Easy: 0.9005 | Hard: 0.4055\n",
                        "Elapse: 35.41 min \n",
                        "====================================================================================================\n",
                        "====================================================================================================\n",
                        "Fold: 2 || Valid size 3595 \n",
                        "====================================================================================================\n",
                        "- First Stage \n"
                    ]
                },
                {
                    "data": {
                        "application/vnd.jupyter.widget-view+json": {
                            "model_id": "5c8a3439e4464f4c833534752175cf82",
                            "version_major": 2,
                            "version_minor": 0
                        },
                        "text/plain": [
                            "Train:   0%|          | 0/622 [00:00<?, ?batch/s]"
                        ]
                    },
                    "metadata": {},
                    "output_type": "display_data"
                },
                {
                    "name": "stdout",
                    "output_type": "stream",
                    "text": [
                        "Epoch: [1][0/622]Elapsed 0.11s | Loss: 0.8127 Grad: 66017.9922 LR: 4.0000e-06\n",
                        "Epoch: [1][50/622]Elapsed 7.49s | Loss: 0.8317 Grad: 68348.2734 LR: 5.0647e-06\n",
                        "Epoch: [1][100/622]Elapsed 14.95s | Loss: 0.8265 Grad: 72459.4219 LR: 8.2116e-06\n",
                        "Epoch: [1][150/622]Elapsed 22.45s | Loss: 0.8194 Grad: 74472.0234 LR: 1.3301e-05\n",
                        "Epoch: [1][200/622]Elapsed 29.89s | Loss: 0.8124 Grad: 98583.0859 LR: 2.0107e-05\n",
                        "Epoch: [1][250/622]Elapsed 37.34s | Loss: 0.8013 Grad: 69353.2500 LR: 2.8328e-05\n",
                        "Epoch: [1][300/622]Elapsed 44.76s | Loss: 0.7890 Grad: 92803.4844 LR: 3.7599e-05\n",
                        "Epoch: [1][350/622]Elapsed 52.19s | Loss: 0.7730 Grad: 53064.4766 LR: 4.7509e-05\n",
                        "Epoch: [1][400/622]Elapsed 59.62s | Loss: 0.7557 Grad: 28716.3223 LR: 5.7619e-05\n",
                        "Epoch: [1][450/622]Elapsed 67.07s | Loss: 0.7382 Grad: 34427.3320 LR: 6.7479e-05\n",
                        "Epoch: [1][500/622]Elapsed 74.52s | Loss: 0.7213 Grad: 31233.0430 LR: 7.6652e-05\n",
                        "Epoch: [1][550/622]Elapsed 81.96s | Loss: 0.7048 Grad: 41050.9336 LR: 8.4732e-05\n",
                        "Epoch: [1][600/622]Elapsed 89.38s | Loss: 0.6877 Grad: 41506.7539 LR: 9.1359e-05\n",
                        "Epoch: [1][621/622]Elapsed 92.57s | Loss: 0.6802 Grad: 46458.7539 LR: 9.3737e-05\n"
                    ]
                },
                {
                    "data": {
                        "application/vnd.jupyter.widget-view+json": {
                            "model_id": "ff54c2a264674e7998562c29db6a4dac",
                            "version_major": 2,
                            "version_minor": 0
                        },
                        "text/plain": [
                            "Valid:   0%|          | 0/225 [00:00<?, ?batch/s]"
                        ]
                    },
                    "metadata": {},
                    "output_type": "display_data"
                },
                {
                    "name": "stdout",
                    "output_type": "stream",
                    "text": [
                        "Epoch: [1][0/225]Elapsed 0.11s | Loss: 0.5596\n",
                        "Epoch: [1][50/225]Elapsed 4.96s | Loss: 0.4736\n",
                        "Epoch: [1][100/225]Elapsed 9.80s | Loss: 0.4664\n",
                        "Epoch: [1][150/225]Elapsed 14.66s | Loss: 0.4737\n",
                        "Epoch: [1][200/225]Elapsed 19.53s | Loss: 0.4363\n"
                    ]
                },
                {
                    "name": "stderr",
                    "output_type": "stream",
                    "text": [
                        "----------------------------------------------------------------------------------------------------\n",
                        "Epoch 1 - Average Train Loss: 0.6802 | Average Valid Loss: 0.4211 | Time: 114.59s\n",
                        "Best model found in epoch 1 | valid loss: 0.4211\n"
                    ]
                },
                {
                    "data": {
                        "application/vnd.jupyter.widget-view+json": {
                            "model_id": "4ed4e69c9ba54749bdf645007cbed897",
                            "version_major": 2,
                            "version_minor": 0
                        },
                        "text/plain": [
                            "Train:   0%|          | 0/622 [00:00<?, ?batch/s]"
                        ]
                    },
                    "metadata": {},
                    "output_type": "display_data"
                },
                {
                    "name": "stdout",
                    "output_type": "stream",
                    "text": [
                        "Epoch: [2][0/622]Elapsed 0.10s | Loss: 0.3970 Grad: 75662.5000 LR: 9.3737e-05\n",
                        "Epoch: [2][50/622]Elapsed 7.49s | Loss: 0.4350 Grad: 51029.7773 LR: 9.7777e-05\n",
                        "Epoch: [2][100/622]Elapsed 14.98s | Loss: 0.4240 Grad: 58605.9023 LR: 9.9786e-05\n",
                        "Epoch: [2][150/622]Elapsed 22.46s | Loss: 0.4268 Grad: 37219.4062 LR: 9.9996e-05\n",
                        "Epoch: [2][200/622]Elapsed 29.93s | Loss: 0.4204 Grad: 33071.9180 LR: 9.9967e-05\n",
                        "Epoch: [2][250/622]Elapsed 37.39s | Loss: 0.4173 Grad: 72890.7109 LR: 9.9911e-05\n",
                        "Epoch: [2][300/622]Elapsed 44.85s | Loss: 0.4141 Grad: 42119.5859 LR: 9.9828e-05\n",
                        "Epoch: [2][350/622]Elapsed 52.28s | Loss: 0.4135 Grad: 23933.9609 LR: 9.9717e-05\n",
                        "Epoch: [2][400/622]Elapsed 59.72s | Loss: 0.4088 Grad: 62980.0781 LR: 9.9579e-05\n",
                        "Epoch: [2][450/622]Elapsed 67.19s | Loss: 0.4030 Grad: 36049.7461 LR: 9.9415e-05\n",
                        "Epoch: [2][500/622]Elapsed 74.62s | Loss: 0.3974 Grad: 37652.3594 LR: 9.9223e-05\n",
                        "Epoch: [2][550/622]Elapsed 82.02s | Loss: 0.3943 Grad: 45082.7656 LR: 9.9004e-05\n",
                        "Epoch: [2][600/622]Elapsed 89.42s | Loss: 0.3904 Grad: 54643.5586 LR: 9.8758e-05\n",
                        "Epoch: [2][621/622]Elapsed 92.59s | Loss: 0.3894 Grad: 67081.8594 LR: 9.8642e-05\n"
                    ]
                },
                {
                    "data": {
                        "application/vnd.jupyter.widget-view+json": {
                            "model_id": "8da52d306efe43eba8f98e6d962b9d00",
                            "version_major": 2,
                            "version_minor": 0
                        },
                        "text/plain": [
                            "Valid:   0%|          | 0/225 [00:00<?, ?batch/s]"
                        ]
                    },
                    "metadata": {},
                    "output_type": "display_data"
                },
                {
                    "name": "stdout",
                    "output_type": "stream",
                    "text": [
                        "Epoch: [2][0/225]Elapsed 0.10s | Loss: 0.4158\n",
                        "Epoch: [2][50/225]Elapsed 4.94s | Loss: 0.3883\n",
                        "Epoch: [2][100/225]Elapsed 9.77s | Loss: 0.3852\n",
                        "Epoch: [2][150/225]Elapsed 14.61s | Loss: 0.3915\n",
                        "Epoch: [2][200/225]Elapsed 19.46s | Loss: 0.3767\n"
                    ]
                },
                {
                    "name": "stderr",
                    "output_type": "stream",
                    "text": [
                        "----------------------------------------------------------------------------------------------------\n",
                        "Epoch 2 - Average Train Loss: 0.3894 | Average Valid Loss: 0.3687 | Time: 114.53s\n",
                        "Best model found in epoch 2 | valid loss: 0.3687\n"
                    ]
                },
                {
                    "data": {
                        "application/vnd.jupyter.widget-view+json": {
                            "model_id": "e50af329942c49539631903ef398634e",
                            "version_major": 2,
                            "version_minor": 0
                        },
                        "text/plain": [
                            "Train:   0%|          | 0/622 [00:00<?, ?batch/s]"
                        ]
                    },
                    "metadata": {},
                    "output_type": "display_data"
                },
                {
                    "name": "stdout",
                    "output_type": "stream",
                    "text": [
                        "Epoch: [3][0/622]Elapsed 0.12s | Loss: 0.2546 Grad: 105360.5469 LR: 9.8642e-05\n",
                        "Epoch: [3][50/622]Elapsed 7.52s | Loss: 0.3112 Grad: 76941.4531 LR: 9.8358e-05\n",
                        "Epoch: [3][100/622]Elapsed 14.99s | Loss: 0.3073 Grad: 76430.6484 LR: 9.8048e-05\n",
                        "Epoch: [3][150/622]Elapsed 22.45s | Loss: 0.3102 Grad: 119234.8516 LR: 9.7711e-05\n",
                        "Epoch: [3][200/622]Elapsed 29.91s | Loss: 0.3079 Grad: 68940.2656 LR: 9.7349e-05\n",
                        "Epoch: [3][250/622]Elapsed 37.34s | Loss: 0.3064 Grad: 52626.4844 LR: 9.6960e-05\n",
                        "Epoch: [3][300/622]Elapsed 44.78s | Loss: 0.3068 Grad: 45359.5078 LR: 9.6546e-05\n",
                        "Epoch: [3][350/622]Elapsed 52.21s | Loss: 0.3089 Grad: 32666.1816 LR: 9.6106e-05\n",
                        "Epoch: [3][400/622]Elapsed 59.64s | Loss: 0.3074 Grad: 57764.5469 LR: 9.5642e-05\n",
                        "Epoch: [3][450/622]Elapsed 67.08s | Loss: 0.3039 Grad: 28773.7305 LR: 9.5152e-05\n",
                        "Epoch: [3][500/622]Elapsed 74.52s | Loss: 0.3022 Grad: 41403.0781 LR: 9.4638e-05\n",
                        "Epoch: [3][550/622]Elapsed 81.96s | Loss: 0.3024 Grad: 41821.1914 LR: 9.4099e-05\n",
                        "Epoch: [3][600/622]Elapsed 89.39s | Loss: 0.3011 Grad: 62612.6914 LR: 9.3536e-05\n",
                        "Epoch: [3][621/622]Elapsed 92.59s | Loss: 0.3006 Grad: 68454.5703 LR: 9.3281e-05\n"
                    ]
                },
                {
                    "data": {
                        "application/vnd.jupyter.widget-view+json": {
                            "model_id": "d9d21601a6f74a48b53a43dbed9972db",
                            "version_major": 2,
                            "version_minor": 0
                        },
                        "text/plain": [
                            "Valid:   0%|          | 0/225 [00:00<?, ?batch/s]"
                        ]
                    },
                    "metadata": {},
                    "output_type": "display_data"
                },
                {
                    "name": "stdout",
                    "output_type": "stream",
                    "text": [
                        "Epoch: [3][0/225]Elapsed 0.10s | Loss: 0.3538\n",
                        "Epoch: [3][50/225]Elapsed 4.94s | Loss: 0.3821\n",
                        "Epoch: [3][100/225]Elapsed 9.77s | Loss: 0.3813\n",
                        "Epoch: [3][150/225]Elapsed 14.63s | Loss: 0.3853\n",
                        "Epoch: [3][200/225]Elapsed 19.48s | Loss: 0.3789\n"
                    ]
                },
                {
                    "name": "stderr",
                    "output_type": "stream",
                    "text": [
                        "----------------------------------------------------------------------------------------------------\n",
                        "Epoch 3 - Average Train Loss: 0.3006 | Average Valid Loss: 0.3738 | Time: 114.56s\n"
                    ]
                },
                {
                    "data": {
                        "application/vnd.jupyter.widget-view+json": {
                            "model_id": "0863e47231d843738f016e7c7943063d",
                            "version_major": 2,
                            "version_minor": 0
                        },
                        "text/plain": [
                            "Train:   0%|          | 0/622 [00:00<?, ?batch/s]"
                        ]
                    },
                    "metadata": {},
                    "output_type": "display_data"
                },
                {
                    "name": "stdout",
                    "output_type": "stream",
                    "text": [
                        "Epoch: [4][0/622]Elapsed 0.10s | Loss: 0.2009 Grad: 90538.6484 LR: 9.3281e-05\n",
                        "Epoch: [4][50/622]Elapsed 7.55s | Loss: 0.2534 Grad: 44837.6680 LR: 9.2683e-05\n",
                        "Epoch: [4][100/622]Elapsed 15.07s | Loss: 0.2509 Grad: 54825.6875 LR: 9.2063e-05\n",
                        "Epoch: [4][150/622]Elapsed 22.59s | Loss: 0.2565 Grad: 43202.9922 LR: 9.1420e-05\n",
                        "Epoch: [4][200/622]Elapsed 30.09s | Loss: 0.2518 Grad: 33261.8477 LR: 9.0754e-05\n",
                        "Epoch: [4][250/622]Elapsed 37.58s | Loss: 0.2488 Grad: 38315.3164 LR: 9.0065e-05\n",
                        "Epoch: [4][300/622]Elapsed 45.05s | Loss: 0.2471 Grad: 31465.1562 LR: 8.9355e-05\n",
                        "Epoch: [4][350/622]Elapsed 52.49s | Loss: 0.2495 Grad: 33799.1328 LR: 8.8624e-05\n",
                        "Epoch: [4][400/622]Elapsed 59.93s | Loss: 0.2482 Grad: 60333.3711 LR: 8.7871e-05\n",
                        "Epoch: [4][450/622]Elapsed 67.38s | Loss: 0.2445 Grad: 40508.5352 LR: 8.7097e-05\n",
                        "Epoch: [4][500/622]Elapsed 74.83s | Loss: 0.2445 Grad: 53494.6484 LR: 8.6303e-05\n",
                        "Epoch: [4][550/622]Elapsed 82.25s | Loss: 0.2439 Grad: 40743.1211 LR: 8.5490e-05\n",
                        "Epoch: [4][600/622]Elapsed 89.67s | Loss: 0.2433 Grad: 86364.8672 LR: 8.4657e-05\n",
                        "Epoch: [4][621/622]Elapsed 92.85s | Loss: 0.2431 Grad: 91144.5078 LR: 8.4284e-05\n"
                    ]
                },
                {
                    "data": {
                        "application/vnd.jupyter.widget-view+json": {
                            "model_id": "c24363ad0b15458ebf7bc16b379d69fe",
                            "version_major": 2,
                            "version_minor": 0
                        },
                        "text/plain": [
                            "Valid:   0%|          | 0/225 [00:00<?, ?batch/s]"
                        ]
                    },
                    "metadata": {},
                    "output_type": "display_data"
                },
                {
                    "name": "stdout",
                    "output_type": "stream",
                    "text": [
                        "Epoch: [4][0/225]Elapsed 0.10s | Loss: 0.3199\n",
                        "Epoch: [4][50/225]Elapsed 4.94s | Loss: 0.3609\n",
                        "Epoch: [4][100/225]Elapsed 9.78s | Loss: 0.3659\n",
                        "Epoch: [4][150/225]Elapsed 14.62s | Loss: 0.3724\n",
                        "Epoch: [4][200/225]Elapsed 19.48s | Loss: 0.3759\n"
                    ]
                },
                {
                    "name": "stderr",
                    "output_type": "stream",
                    "text": [
                        "----------------------------------------------------------------------------------------------------\n",
                        "Epoch 4 - Average Train Loss: 0.2431 | Average Valid Loss: 0.3754 | Time: 114.82s\n"
                    ]
                },
                {
                    "data": {
                        "application/vnd.jupyter.widget-view+json": {
                            "model_id": "f12f972e2c32436b9c6b27d64a524656",
                            "version_major": 2,
                            "version_minor": 0
                        },
                        "text/plain": [
                            "Train:   0%|          | 0/622 [00:00<?, ?batch/s]"
                        ]
                    },
                    "metadata": {},
                    "output_type": "display_data"
                },
                {
                    "name": "stdout",
                    "output_type": "stream",
                    "text": [
                        "Epoch: [5][0/622]Elapsed 0.10s | Loss: 0.1981 Grad: 198554.0938 LR: 8.4284e-05\n",
                        "Epoch: [5][50/622]Elapsed 7.50s | Loss: 0.2207 Grad: 37496.2070 LR: 8.3424e-05\n",
                        "Epoch: [5][100/622]Elapsed 14.97s | Loss: 0.2112 Grad: 54275.2812 LR: 8.2546e-05\n",
                        "Epoch: [5][150/622]Elapsed 22.45s | Loss: 0.2183 Grad: 52562.2812 LR: 8.1650e-05\n",
                        "Epoch: [5][200/622]Elapsed 29.90s | Loss: 0.2127 Grad: 38994.7266 LR: 8.0736e-05\n",
                        "Epoch: [5][250/622]Elapsed 37.37s | Loss: 0.2120 Grad: 42478.5234 LR: 7.9806e-05\n",
                        "Epoch: [5][300/622]Elapsed 44.85s | Loss: 0.2115 Grad: 20147.0664 LR: 7.8859e-05\n",
                        "Epoch: [5][350/622]Elapsed 52.31s | Loss: 0.2122 Grad: 16879.9023 LR: 7.7897e-05\n",
                        "Epoch: [5][400/622]Elapsed 59.77s | Loss: 0.2093 Grad: 24413.4160 LR: 7.6920e-05\n",
                        "Epoch: [5][450/622]Elapsed 67.23s | Loss: 0.2071 Grad: 13162.5928 LR: 7.5927e-05\n",
                        "Epoch: [5][500/622]Elapsed 74.66s | Loss: 0.2076 Grad: 23222.6367 LR: 7.4921e-05\n",
                        "Epoch: [5][550/622]Elapsed 82.11s | Loss: 0.2072 Grad: 16897.6035 LR: 7.3901e-05\n",
                        "Epoch: [5][600/622]Elapsed 89.55s | Loss: 0.2061 Grad: 23404.6445 LR: 7.2868e-05\n",
                        "Epoch: [5][621/622]Elapsed 92.75s | Loss: 0.2061 Grad: 47122.3164 LR: 7.2409e-05\n"
                    ]
                },
                {
                    "data": {
                        "application/vnd.jupyter.widget-view+json": {
                            "model_id": "51f55e7bccbb4512a9e5e86050955715",
                            "version_major": 2,
                            "version_minor": 0
                        },
                        "text/plain": [
                            "Valid:   0%|          | 0/225 [00:00<?, ?batch/s]"
                        ]
                    },
                    "metadata": {},
                    "output_type": "display_data"
                },
                {
                    "name": "stdout",
                    "output_type": "stream",
                    "text": [
                        "Epoch: [5][0/225]Elapsed 0.10s | Loss: 0.3384\n",
                        "Epoch: [5][50/225]Elapsed 4.96s | Loss: 0.3898\n",
                        "Epoch: [5][100/225]Elapsed 9.81s | Loss: 0.3903\n",
                        "Epoch: [5][150/225]Elapsed 14.68s | Loss: 0.3953\n",
                        "Epoch: [5][200/225]Elapsed 19.55s | Loss: 0.4040\n"
                    ]
                },
                {
                    "name": "stderr",
                    "output_type": "stream",
                    "text": [
                        "----------------------------------------------------------------------------------------------------\n",
                        "Epoch 5 - Average Train Loss: 0.2061 | Average Valid Loss: 0.4036 | Time: 114.80s\n"
                    ]
                },
                {
                    "data": {
                        "application/vnd.jupyter.widget-view+json": {
                            "model_id": "36810208a95849f28f1802e587d8059c",
                            "version_major": 2,
                            "version_minor": 0
                        },
                        "text/plain": [
                            "Train:   0%|          | 0/622 [00:00<?, ?batch/s]"
                        ]
                    },
                    "metadata": {},
                    "output_type": "display_data"
                },
                {
                    "name": "stdout",
                    "output_type": "stream",
                    "text": [
                        "Epoch: [6][0/622]Elapsed 0.10s | Loss: 0.1894 Grad: nan LR: 7.2409e-05\n",
                        "Epoch: [6][50/622]Elapsed 7.54s | Loss: 0.1861 Grad: 39798.6562 LR: 7.1358e-05\n",
                        "Epoch: [6][100/622]Elapsed 15.04s | Loss: 0.1779 Grad: 72093.7031 LR: 7.0296e-05\n",
                        "Epoch: [6][150/622]Elapsed 22.54s | Loss: 0.1794 Grad: 37994.3633 LR: 6.9222e-05\n",
                        "Epoch: [6][200/622]Elapsed 30.03s | Loss: 0.1795 Grad: 35655.0820 LR: 6.8138e-05\n",
                        "Epoch: [6][250/622]Elapsed 37.52s | Loss: 0.1774 Grad: 34273.1016 LR: 6.7044e-05\n",
                        "Epoch: [6][300/622]Elapsed 45.00s | Loss: 0.1749 Grad: 58288.3047 LR: 6.5940e-05\n",
                        "Epoch: [6][350/622]Elapsed 52.46s | Loss: 0.1760 Grad: 32811.5039 LR: 6.4828e-05\n",
                        "Epoch: [6][400/622]Elapsed 59.90s | Loss: 0.1735 Grad: 84955.0234 LR: 6.3708e-05\n",
                        "Epoch: [6][450/622]Elapsed 67.35s | Loss: 0.1716 Grad: 35493.5117 LR: 6.2581e-05\n",
                        "Epoch: [6][500/622]Elapsed 74.79s | Loss: 0.1722 Grad: 45364.0508 LR: 6.1446e-05\n",
                        "Epoch: [6][550/622]Elapsed 82.20s | Loss: 0.1725 Grad: 53184.8477 LR: 6.0305e-05\n",
                        "Epoch: [6][600/622]Elapsed 89.61s | Loss: 0.1721 Grad: 58511.3711 LR: 5.9159e-05\n",
                        "Epoch: [6][621/622]Elapsed 92.79s | Loss: 0.1721 Grad: 74096.3516 LR: 5.8653e-05\n"
                    ]
                },
                {
                    "data": {
                        "application/vnd.jupyter.widget-view+json": {
                            "model_id": "762f5476f46b4aad905078eebc3e2997",
                            "version_major": 2,
                            "version_minor": 0
                        },
                        "text/plain": [
                            "Valid:   0%|          | 0/225 [00:00<?, ?batch/s]"
                        ]
                    },
                    "metadata": {},
                    "output_type": "display_data"
                },
                {
                    "name": "stdout",
                    "output_type": "stream",
                    "text": [
                        "Epoch: [6][0/225]Elapsed 0.10s | Loss: 0.3307\n",
                        "Epoch: [6][50/225]Elapsed 4.94s | Loss: 0.3883\n",
                        "Epoch: [6][100/225]Elapsed 9.77s | Loss: 0.3911\n",
                        "Epoch: [6][150/225]Elapsed 14.60s | Loss: 0.3999\n",
                        "Epoch: [6][200/225]Elapsed 19.47s | Loss: 0.4120\n"
                    ]
                },
                {
                    "name": "stderr",
                    "output_type": "stream",
                    "text": [
                        "----------------------------------------------------------------------------------------------------\n",
                        "Epoch 6 - Average Train Loss: 0.1721 | Average Valid Loss: 0.4133 | Time: 114.76s\n",
                        "====================================================================================================\n",
                        "Fold 2 Valid Loss: \n",
                        "Easy: 0.7837 | Hard: 0.6334\n",
                        "Elapse: 46.88 min \n",
                        "====================================================================================================\n",
                        "- Second Stage \n",
                        "Use Checkpoint: ENet_b2_xymask_fold_2_stage_1.pth\n"
                    ]
                },
                {
                    "data": {
                        "application/vnd.jupyter.widget-view+json": {
                            "model_id": "370f5451f7fb43f19f9044c0f8be26fd",
                            "version_major": 2,
                            "version_minor": 0
                        },
                        "text/plain": [
                            "Train:   0%|          | 0/276 [00:00<?, ?batch/s]"
                        ]
                    },
                    "metadata": {},
                    "output_type": "display_data"
                },
                {
                    "name": "stdout",
                    "output_type": "stream",
                    "text": [
                        "Epoch: [1][0/276]Elapsed 0.11s | Loss: 0.4824 Grad: nan LR: 4.0000e-06\n"
                    ]
                },
                {
                    "name": "stderr",
                    "output_type": "stream",
                    "text": [
                        "/home/shiyi/miniconda3/envs/kaggle/lib/python3.11/site-packages/torch/optim/lr_scheduler.py:143: UserWarning: Detected call of `lr_scheduler.step()` before `optimizer.step()`. In PyTorch 1.1.0 and later, you should call them in the opposite order: `optimizer.step()` before `lr_scheduler.step()`.  Failure to do this will result in PyTorch skipping the first value of the learning rate schedule. See more details at https://pytorch.org/docs/stable/optim.html#how-to-adjust-learning-rate\n",
                        "  warnings.warn(\"Detected call of `lr_scheduler.step()` before `optimizer.step()`. \"\n"
                    ]
                },
                {
                    "name": "stdout",
                    "output_type": "stream",
                    "text": [
                        "Epoch: [1][50/276]Elapsed 7.52s | Loss: 0.4612 Grad: 84924.9922 LR: 9.3614e-06\n",
                        "Epoch: [1][100/276]Elapsed 15.02s | Loss: 0.4328 Grad: 55997.1836 LR: 2.4248e-05\n",
                        "Epoch: [1][150/276]Elapsed 22.53s | Loss: 0.3984 Grad: 48680.0781 LR: 4.5334e-05\n",
                        "Epoch: [1][200/276]Elapsed 30.01s | Loss: 0.3689 Grad: 47521.5234 LR: 6.7909e-05\n",
                        "Epoch: [1][250/276]Elapsed 37.52s | Loss: 0.3425 Grad: 21533.0117 LR: 8.6930e-05\n",
                        "Epoch: [1][275/276]Elapsed 41.32s | Loss: 0.3312 Grad: 44582.5742 LR: 9.3946e-05\n"
                    ]
                },
                {
                    "data": {
                        "application/vnd.jupyter.widget-view+json": {
                            "model_id": "d189e0dc8d9548e1aaf4edaeffb89b77",
                            "version_major": 2,
                            "version_minor": 0
                        },
                        "text/plain": [
                            "Valid:   0%|          | 0/225 [00:00<?, ?batch/s]"
                        ]
                    },
                    "metadata": {},
                    "output_type": "display_data"
                },
                {
                    "name": "stdout",
                    "output_type": "stream",
                    "text": [
                        "Epoch: [1][0/225]Elapsed 0.10s | Loss: 0.3548\n",
                        "Epoch: [1][50/225]Elapsed 4.95s | Loss: 0.4029\n",
                        "Epoch: [1][100/225]Elapsed 9.79s | Loss: 0.4024\n",
                        "Epoch: [1][150/225]Elapsed 14.65s | Loss: 0.4088\n",
                        "Epoch: [1][200/225]Elapsed 19.53s | Loss: 0.3728\n"
                    ]
                },
                {
                    "name": "stderr",
                    "output_type": "stream",
                    "text": [
                        "----------------------------------------------------------------------------------------------------\n",
                        "Epoch 1 - Average Train Loss: 0.3312 | Average Valid Loss: 0.3572 | Time: 63.35s\n",
                        "Best model found in epoch 1 | valid loss: 0.3572\n"
                    ]
                },
                {
                    "data": {
                        "application/vnd.jupyter.widget-view+json": {
                            "model_id": "f441ea4ecc45414987f05a18b9acdda6",
                            "version_major": 2,
                            "version_minor": 0
                        },
                        "text/plain": [
                            "Train:   0%|          | 0/276 [00:00<?, ?batch/s]"
                        ]
                    },
                    "metadata": {},
                    "output_type": "display_data"
                },
                {
                    "name": "stdout",
                    "output_type": "stream",
                    "text": [
                        "Epoch: [2][0/276]Elapsed 0.12s | Loss: 0.1911 Grad: 109278.9766 LR: 9.3946e-05\n",
                        "Epoch: [2][50/276]Elapsed 7.54s | Loss: 0.2133 Grad: 104015.5078 LR: 9.9978e-05\n",
                        "Epoch: [2][100/276]Elapsed 15.04s | Loss: 0.2082 Grad: 75965.9375 LR: 9.9939e-05\n",
                        "Epoch: [2][150/276]Elapsed 22.56s | Loss: 0.2083 Grad: 63193.3867 LR: 9.9740e-05\n",
                        "Epoch: [2][200/276]Elapsed 30.07s | Loss: 0.2054 Grad: 62500.8516 LR: 9.9403e-05\n",
                        "Epoch: [2][250/276]Elapsed 37.55s | Loss: 0.2015 Grad: 42973.2930 LR: 9.8929e-05\n",
                        "Epoch: [2][275/276]Elapsed 41.34s | Loss: 0.1993 Grad: 54689.9492 LR: 9.8628e-05\n"
                    ]
                },
                {
                    "data": {
                        "application/vnd.jupyter.widget-view+json": {
                            "model_id": "fae194d031c64e718d2c1d6007a71f35",
                            "version_major": 2,
                            "version_minor": 0
                        },
                        "text/plain": [
                            "Valid:   0%|          | 0/225 [00:00<?, ?batch/s]"
                        ]
                    },
                    "metadata": {},
                    "output_type": "display_data"
                },
                {
                    "name": "stdout",
                    "output_type": "stream",
                    "text": [
                        "Epoch: [2][0/225]Elapsed 0.10s | Loss: 0.3839\n",
                        "Epoch: [2][50/225]Elapsed 4.95s | Loss: 0.3966\n",
                        "Epoch: [2][100/225]Elapsed 9.79s | Loss: 0.3963\n",
                        "Epoch: [2][150/225]Elapsed 14.62s | Loss: 0.4008\n",
                        "Epoch: [2][200/225]Elapsed 19.47s | Loss: 0.3606\n"
                    ]
                },
                {
                    "name": "stderr",
                    "output_type": "stream",
                    "text": [
                        "----------------------------------------------------------------------------------------------------\n",
                        "Epoch 2 - Average Train Loss: 0.1993 | Average Valid Loss: 0.3433 | Time: 63.30s\n",
                        "Best model found in epoch 2 | valid loss: 0.3433\n"
                    ]
                },
                {
                    "data": {
                        "application/vnd.jupyter.widget-view+json": {
                            "model_id": "cc26f11ab298415c895c61eba7896d7d",
                            "version_major": 2,
                            "version_minor": 0
                        },
                        "text/plain": [
                            "Train:   0%|          | 0/276 [00:00<?, ?batch/s]"
                        ]
                    },
                    "metadata": {},
                    "output_type": "display_data"
                },
                {
                    "name": "stdout",
                    "output_type": "stream",
                    "text": [
                        "Epoch: [3][0/276]Elapsed 0.10s | Loss: 0.1709 Grad: 103908.8750 LR: 9.8628e-05\n",
                        "Epoch: [3][50/276]Elapsed 7.59s | Loss: 0.1841 Grad: 109054.4141 LR: 9.7948e-05\n",
                        "Epoch: [3][100/276]Elapsed 15.11s | Loss: 0.1789 Grad: 111116.6875 LR: 9.7135e-05\n",
                        "Epoch: [3][150/276]Elapsed 22.60s | Loss: 0.1794 Grad: 78453.7109 LR: 9.6191e-05\n",
                        "Epoch: [3][200/276]Elapsed 30.13s | Loss: 0.1786 Grad: 120105.6250 LR: 9.5119e-05\n",
                        "Epoch: [3][250/276]Elapsed 37.60s | Loss: 0.1764 Grad: 36199.4023 LR: 9.3922e-05\n",
                        "Epoch: [3][275/276]Elapsed 41.40s | Loss: 0.1752 Grad: 69640.3438 LR: 9.3251e-05\n"
                    ]
                },
                {
                    "data": {
                        "application/vnd.jupyter.widget-view+json": {
                            "model_id": "78fcbffcf7f744cc922595a319592884",
                            "version_major": 2,
                            "version_minor": 0
                        },
                        "text/plain": [
                            "Valid:   0%|          | 0/225 [00:00<?, ?batch/s]"
                        ]
                    },
                    "metadata": {},
                    "output_type": "display_data"
                },
                {
                    "name": "stdout",
                    "output_type": "stream",
                    "text": [
                        "Epoch: [3][0/225]Elapsed 0.10s | Loss: 0.3822\n",
                        "Epoch: [3][50/225]Elapsed 4.97s | Loss: 0.4006\n",
                        "Epoch: [3][100/225]Elapsed 9.82s | Loss: 0.4007\n",
                        "Epoch: [3][150/225]Elapsed 14.68s | Loss: 0.4062\n",
                        "Epoch: [3][200/225]Elapsed 19.55s | Loss: 0.3653\n"
                    ]
                },
                {
                    "name": "stderr",
                    "output_type": "stream",
                    "text": [
                        "----------------------------------------------------------------------------------------------------\n",
                        "Epoch 3 - Average Train Loss: 0.1752 | Average Valid Loss: 0.3474 | Time: 63.45s\n"
                    ]
                },
                {
                    "data": {
                        "application/vnd.jupyter.widget-view+json": {
                            "model_id": "eb02f7e4f40e4aa9b89067819011a82c",
                            "version_major": 2,
                            "version_minor": 0
                        },
                        "text/plain": [
                            "Train:   0%|          | 0/276 [00:00<?, ?batch/s]"
                        ]
                    },
                    "metadata": {},
                    "output_type": "display_data"
                },
                {
                    "name": "stdout",
                    "output_type": "stream",
                    "text": [
                        "Epoch: [4][0/276]Elapsed 0.10s | Loss: 0.1922 Grad: 108421.4219 LR: 9.3251e-05\n",
                        "Epoch: [4][50/276]Elapsed 7.53s | Loss: 0.1674 Grad: 93813.2344 LR: 9.1870e-05\n",
                        "Epoch: [4][100/276]Elapsed 15.02s | Loss: 0.1628 Grad: 73969.1484 LR: 9.0373e-05\n",
                        "Epoch: [4][150/276]Elapsed 22.51s | Loss: 0.1628 Grad: 43275.7305 LR: 8.8763e-05\n",
                        "Epoch: [4][200/276]Elapsed 29.97s | Loss: 0.1619 Grad: 41092.0312 LR: 8.7047e-05\n",
                        "Epoch: [4][250/276]Elapsed 37.44s | Loss: 0.1594 Grad: 34679.8789 LR: 8.5227e-05\n",
                        "Epoch: [4][275/276]Elapsed 41.23s | Loss: 0.1581 Grad: 72619.4688 LR: 8.4242e-05\n"
                    ]
                },
                {
                    "data": {
                        "application/vnd.jupyter.widget-view+json": {
                            "model_id": "b5fd0f2b49b6476aa762e79d14599fa2",
                            "version_major": 2,
                            "version_minor": 0
                        },
                        "text/plain": [
                            "Valid:   0%|          | 0/225 [00:00<?, ?batch/s]"
                        ]
                    },
                    "metadata": {},
                    "output_type": "display_data"
                },
                {
                    "name": "stdout",
                    "output_type": "stream",
                    "text": [
                        "Epoch: [4][0/225]Elapsed 0.10s | Loss: 0.3907\n",
                        "Epoch: [4][50/225]Elapsed 4.95s | Loss: 0.3921\n",
                        "Epoch: [4][100/225]Elapsed 9.79s | Loss: 0.3951\n",
                        "Epoch: [4][150/225]Elapsed 14.63s | Loss: 0.3997\n",
                        "Epoch: [4][200/225]Elapsed 19.50s | Loss: 0.3615\n"
                    ]
                },
                {
                    "name": "stderr",
                    "output_type": "stream",
                    "text": [
                        "----------------------------------------------------------------------------------------------------\n",
                        "Epoch 4 - Average Train Loss: 0.1581 | Average Valid Loss: 0.3444 | Time: 63.22s\n"
                    ]
                },
                {
                    "data": {
                        "application/vnd.jupyter.widget-view+json": {
                            "model_id": "95e36e0dbd3a447282401fd360ee757b",
                            "version_major": 2,
                            "version_minor": 0
                        },
                        "text/plain": [
                            "Train:   0%|          | 0/276 [00:00<?, ?batch/s]"
                        ]
                    },
                    "metadata": {},
                    "output_type": "display_data"
                },
                {
                    "name": "stdout",
                    "output_type": "stream",
                    "text": [
                        "Epoch: [5][0/276]Elapsed 0.10s | Loss: 0.1354 Grad: 82398.8516 LR: 8.4242e-05\n",
                        "Epoch: [5][50/276]Elapsed 7.56s | Loss: 0.1491 Grad: 128636.2891 LR: 8.2275e-05\n",
                        "Epoch: [5][100/276]Elapsed 15.07s | Loss: 0.1475 Grad: 102229.3281 LR: 8.0220e-05\n",
                        "Epoch: [5][150/276]Elapsed 22.55s | Loss: 0.1483 Grad: 125854.2422 LR: 7.8080e-05\n",
                        "Epoch: [5][200/276]Elapsed 30.03s | Loss: 0.1473 Grad: 133146.2344 LR: 7.5863e-05\n",
                        "Epoch: [5][250/276]Elapsed 37.51s | Loss: 0.1449 Grad: 64801.0352 LR: 7.3573e-05\n",
                        "Epoch: [5][275/276]Elapsed 41.30s | Loss: 0.1440 Grad: 126286.7578 LR: 7.2357e-05\n"
                    ]
                },
                {
                    "data": {
                        "application/vnd.jupyter.widget-view+json": {
                            "model_id": "39846cd02f094fa48c5198d823669c68",
                            "version_major": 2,
                            "version_minor": 0
                        },
                        "text/plain": [
                            "Valid:   0%|          | 0/225 [00:00<?, ?batch/s]"
                        ]
                    },
                    "metadata": {},
                    "output_type": "display_data"
                },
                {
                    "name": "stdout",
                    "output_type": "stream",
                    "text": [
                        "Epoch: [5][0/225]Elapsed 0.10s | Loss: 0.3830\n",
                        "Epoch: [5][50/225]Elapsed 4.95s | Loss: 0.3893\n",
                        "Epoch: [5][100/225]Elapsed 9.81s | Loss: 0.3914\n",
                        "Epoch: [5][150/225]Elapsed 14.67s | Loss: 0.3963\n",
                        "Epoch: [5][200/225]Elapsed 19.54s | Loss: 0.3572\n"
                    ]
                },
                {
                    "name": "stderr",
                    "output_type": "stream",
                    "text": [
                        "----------------------------------------------------------------------------------------------------\n",
                        "Epoch 5 - Average Train Loss: 0.1440 | Average Valid Loss: 0.3401 | Time: 63.34s\n",
                        "Best model found in epoch 5 | valid loss: 0.3401\n"
                    ]
                },
                {
                    "data": {
                        "application/vnd.jupyter.widget-view+json": {
                            "model_id": "a3afe09b1d9a47349bc58a53e0570d62",
                            "version_major": 2,
                            "version_minor": 0
                        },
                        "text/plain": [
                            "Train:   0%|          | 0/276 [00:00<?, ?batch/s]"
                        ]
                    },
                    "metadata": {},
                    "output_type": "display_data"
                },
                {
                    "name": "stdout",
                    "output_type": "stream",
                    "text": [
                        "Epoch: [6][0/276]Elapsed 0.10s | Loss: 0.1434 Grad: 97462.6797 LR: 7.2357e-05\n",
                        "Epoch: [6][50/276]Elapsed 7.58s | Loss: 0.1366 Grad: 45513.9766 LR: 6.9971e-05\n",
                        "Epoch: [6][100/276]Elapsed 15.12s | Loss: 0.1343 Grad: 46694.1328 LR: 6.7529e-05\n",
                        "Epoch: [6][150/276]Elapsed 22.63s | Loss: 0.1345 Grad: 32006.2383 LR: 6.5039e-05\n",
                        "Epoch: [6][200/276]Elapsed 30.10s | Loss: 0.1335 Grad: 61134.9844 LR: 6.2507e-05\n",
                        "Epoch: [6][250/276]Elapsed 37.59s | Loss: 0.1320 Grad: 32261.8496 LR: 5.9941e-05\n",
                        "Epoch: [6][275/276]Elapsed 41.41s | Loss: 0.1314 Grad: 59639.2930 LR: 5.8595e-05\n"
                    ]
                },
                {
                    "data": {
                        "application/vnd.jupyter.widget-view+json": {
                            "model_id": "debfb51e12cd4a2c8babc123e9d3048c",
                            "version_major": 2,
                            "version_minor": 0
                        },
                        "text/plain": [
                            "Valid:   0%|          | 0/225 [00:00<?, ?batch/s]"
                        ]
                    },
                    "metadata": {},
                    "output_type": "display_data"
                },
                {
                    "name": "stdout",
                    "output_type": "stream",
                    "text": [
                        "Epoch: [6][0/225]Elapsed 0.11s | Loss: 0.3931\n",
                        "Epoch: [6][50/225]Elapsed 4.97s | Loss: 0.3910\n",
                        "Epoch: [6][100/225]Elapsed 9.82s | Loss: 0.3919\n",
                        "Epoch: [6][150/225]Elapsed 14.66s | Loss: 0.3971\n",
                        "Epoch: [6][200/225]Elapsed 19.52s | Loss: 0.3591\n"
                    ]
                },
                {
                    "name": "stderr",
                    "output_type": "stream",
                    "text": [
                        "----------------------------------------------------------------------------------------------------\n",
                        "Epoch 6 - Average Train Loss: 0.1314 | Average Valid Loss: 0.3420 | Time: 63.42s\n",
                        "====================================================================================================\n",
                        "Fold 2 Valid Loss: \n",
                        "Easy: 0.7975 | Hard: 0.4165\n",
                        "Elapse: 53.23 min \n",
                        "====================================================================================================\n",
                        "====================================================================================================\n",
                        "Fold: 3 || Valid size 3595 \n",
                        "====================================================================================================\n",
                        "- First Stage \n"
                    ]
                },
                {
                    "data": {
                        "application/vnd.jupyter.widget-view+json": {
                            "model_id": "4d665dce2dca47dab490d16023c2e10e",
                            "version_major": 2,
                            "version_minor": 0
                        },
                        "text/plain": [
                            "Train:   0%|          | 0/622 [00:00<?, ?batch/s]"
                        ]
                    },
                    "metadata": {},
                    "output_type": "display_data"
                },
                {
                    "name": "stdout",
                    "output_type": "stream",
                    "text": [
                        "Epoch: [1][0/622]Elapsed 0.11s | Loss: 0.8071 Grad: 56704.1289 LR: 4.0000e-06\n",
                        "Epoch: [1][50/622]Elapsed 7.50s | Loss: 0.8234 Grad: 75440.8750 LR: 5.0647e-06\n",
                        "Epoch: [1][100/622]Elapsed 14.99s | Loss: 0.8150 Grad: 75474.0234 LR: 8.2116e-06\n",
                        "Epoch: [1][150/622]Elapsed 22.48s | Loss: 0.8091 Grad: 68174.7812 LR: 1.3301e-05\n",
                        "Epoch: [1][200/622]Elapsed 29.95s | Loss: 0.8017 Grad: 84182.1875 LR: 2.0107e-05\n",
                        "Epoch: [1][250/622]Elapsed 37.39s | Loss: 0.7907 Grad: 92148.8281 LR: 2.8328e-05\n",
                        "Epoch: [1][300/622]Elapsed 44.81s | Loss: 0.7772 Grad: 87734.5312 LR: 3.7599e-05\n",
                        "Epoch: [1][350/622]Elapsed 52.22s | Loss: 0.7612 Grad: 87133.2500 LR: 4.7509e-05\n",
                        "Epoch: [1][400/622]Elapsed 59.65s | Loss: 0.7440 Grad: 119156.2266 LR: 5.7619e-05\n",
                        "Epoch: [1][450/622]Elapsed 67.07s | Loss: 0.7253 Grad: 166985.7031 LR: 6.7479e-05\n",
                        "Epoch: [1][500/622]Elapsed 74.48s | Loss: 0.7087 Grad: 136173.6719 LR: 7.6652e-05\n",
                        "Epoch: [1][550/622]Elapsed 81.88s | Loss: 0.6922 Grad: 65353.2070 LR: 8.4732e-05\n",
                        "Epoch: [1][600/622]Elapsed 89.28s | Loss: 0.6758 Grad: 76789.2188 LR: 9.1359e-05\n",
                        "Epoch: [1][621/622]Elapsed 92.46s | Loss: 0.6685 Grad: 142268.2656 LR: 9.3737e-05\n"
                    ]
                },
                {
                    "data": {
                        "application/vnd.jupyter.widget-view+json": {
                            "model_id": "565add0300a4443c9a50eb85c9cccb4f",
                            "version_major": 2,
                            "version_minor": 0
                        },
                        "text/plain": [
                            "Valid:   0%|          | 0/225 [00:00<?, ?batch/s]"
                        ]
                    },
                    "metadata": {},
                    "output_type": "display_data"
                },
                {
                    "name": "stdout",
                    "output_type": "stream",
                    "text": [
                        "Epoch: [1][0/225]Elapsed 0.10s | Loss: 0.2988\n",
                        "Epoch: [1][50/225]Elapsed 4.90s | Loss: 0.4660\n",
                        "Epoch: [1][100/225]Elapsed 9.70s | Loss: 0.4710\n",
                        "Epoch: [1][150/225]Elapsed 14.51s | Loss: 0.4720\n",
                        "Epoch: [1][200/225]Elapsed 19.32s | Loss: 0.4376\n"
                    ]
                },
                {
                    "name": "stderr",
                    "output_type": "stream",
                    "text": [
                        "----------------------------------------------------------------------------------------------------\n",
                        "Epoch 1 - Average Train Loss: 0.6685 | Average Valid Loss: 0.4246 | Time: 114.25s\n",
                        "Best model found in epoch 1 | valid loss: 0.4246\n"
                    ]
                },
                {
                    "data": {
                        "application/vnd.jupyter.widget-view+json": {
                            "model_id": "0d8381388302406c914127c794c3b4bb",
                            "version_major": 2,
                            "version_minor": 0
                        },
                        "text/plain": [
                            "Train:   0%|          | 0/622 [00:00<?, ?batch/s]"
                        ]
                    },
                    "metadata": {},
                    "output_type": "display_data"
                },
                {
                    "name": "stdout",
                    "output_type": "stream",
                    "text": [
                        "Epoch: [2][0/622]Elapsed 0.10s | Loss: 0.4770 Grad: 145457.9062 LR: 9.3737e-05\n",
                        "Epoch: [2][50/622]Elapsed 7.47s | Loss: 0.4209 Grad: 117690.2266 LR: 9.7777e-05\n",
                        "Epoch: [2][100/622]Elapsed 14.93s | Loss: 0.4157 Grad: 77470.2422 LR: 9.9786e-05\n",
                        "Epoch: [2][150/622]Elapsed 22.38s | Loss: 0.4207 Grad: 98309.1797 LR: 9.9996e-05\n",
                        "Epoch: [2][200/622]Elapsed 29.83s | Loss: 0.4175 Grad: 128676.2188 LR: 9.9967e-05\n",
                        "Epoch: [2][250/622]Elapsed 37.27s | Loss: 0.4072 Grad: 52364.8672 LR: 9.9911e-05\n",
                        "Epoch: [2][300/622]Elapsed 44.72s | Loss: 0.4042 Grad: 46445.9648 LR: 9.9828e-05\n",
                        "Epoch: [2][350/622]Elapsed 52.17s | Loss: 0.4005 Grad: 40351.7148 LR: 9.9717e-05\n",
                        "Epoch: [2][400/622]Elapsed 59.61s | Loss: 0.3949 Grad: 47483.0625 LR: 9.9579e-05\n",
                        "Epoch: [2][450/622]Elapsed 67.05s | Loss: 0.3884 Grad: 55190.8242 LR: 9.9415e-05\n",
                        "Epoch: [2][500/622]Elapsed 74.49s | Loss: 0.3871 Grad: 44608.3398 LR: 9.9223e-05\n",
                        "Epoch: [2][550/622]Elapsed 81.94s | Loss: 0.3848 Grad: 32893.2266 LR: 9.9004e-05\n",
                        "Epoch: [2][600/622]Elapsed 89.41s | Loss: 0.3818 Grad: 30003.2207 LR: 9.8758e-05\n",
                        "Epoch: [2][621/622]Elapsed 92.61s | Loss: 0.3808 Grad: 52525.8867 LR: 9.8642e-05\n"
                    ]
                },
                {
                    "data": {
                        "application/vnd.jupyter.widget-view+json": {
                            "model_id": "a3b091abf89c4e9691c1f929245350c8",
                            "version_major": 2,
                            "version_minor": 0
                        },
                        "text/plain": [
                            "Valid:   0%|          | 0/225 [00:00<?, ?batch/s]"
                        ]
                    },
                    "metadata": {},
                    "output_type": "display_data"
                },
                {
                    "name": "stdout",
                    "output_type": "stream",
                    "text": [
                        "Epoch: [2][0/225]Elapsed 0.11s | Loss: 0.2530\n",
                        "Epoch: [2][50/225]Elapsed 4.97s | Loss: 0.3735\n",
                        "Epoch: [2][100/225]Elapsed 9.81s | Loss: 0.3785\n",
                        "Epoch: [2][150/225]Elapsed 14.65s | Loss: 0.3803\n",
                        "Epoch: [2][200/225]Elapsed 19.50s | Loss: 0.3588\n"
                    ]
                },
                {
                    "name": "stderr",
                    "output_type": "stream",
                    "text": [
                        "----------------------------------------------------------------------------------------------------\n",
                        "Epoch 2 - Average Train Loss: 0.3808 | Average Valid Loss: 0.3506 | Time: 114.63s\n",
                        "Best model found in epoch 2 | valid loss: 0.3506\n"
                    ]
                },
                {
                    "data": {
                        "application/vnd.jupyter.widget-view+json": {
                            "model_id": "d85668afbf0345eba73b9ec96a0a5c68",
                            "version_major": 2,
                            "version_minor": 0
                        },
                        "text/plain": [
                            "Train:   0%|          | 0/622 [00:00<?, ?batch/s]"
                        ]
                    },
                    "metadata": {},
                    "output_type": "display_data"
                },
                {
                    "name": "stdout",
                    "output_type": "stream",
                    "text": [
                        "Epoch: [3][0/622]Elapsed 0.10s | Loss: 0.3984 Grad: inf LR: 9.8642e-05\n",
                        "Epoch: [3][50/622]Elapsed 7.56s | Loss: 0.3023 Grad: 93618.9609 LR: 9.8358e-05\n",
                        "Epoch: [3][100/622]Elapsed 15.08s | Loss: 0.3007 Grad: 65372.0703 LR: 9.8048e-05\n",
                        "Epoch: [3][150/622]Elapsed 22.58s | Loss: 0.3106 Grad: 112553.7031 LR: 9.7711e-05\n",
                        "Epoch: [3][200/622]Elapsed 30.06s | Loss: 0.3068 Grad: 132056.0938 LR: 9.7349e-05\n",
                        "Epoch: [3][250/622]Elapsed 37.53s | Loss: 0.3038 Grad: 109304.5859 LR: 9.6960e-05\n",
                        "Epoch: [3][300/622]Elapsed 45.01s | Loss: 0.3035 Grad: 70801.0625 LR: 9.6546e-05\n",
                        "Epoch: [3][350/622]Elapsed 52.47s | Loss: 0.3010 Grad: 67069.2266 LR: 9.6106e-05\n",
                        "Epoch: [3][400/622]Elapsed 59.94s | Loss: 0.2987 Grad: 72745.7500 LR: 9.5642e-05\n",
                        "Epoch: [3][450/622]Elapsed 67.39s | Loss: 0.2946 Grad: 94386.5469 LR: 9.5152e-05\n",
                        "Epoch: [3][500/622]Elapsed 74.85s | Loss: 0.2944 Grad: 119895.8125 LR: 9.4638e-05\n",
                        "Epoch: [3][550/622]Elapsed 82.30s | Loss: 0.2948 Grad: 35075.1602 LR: 9.4099e-05\n",
                        "Epoch: [3][600/622]Elapsed 89.75s | Loss: 0.2940 Grad: 35195.4102 LR: 9.3536e-05\n",
                        "Epoch: [3][621/622]Elapsed 92.95s | Loss: 0.2935 Grad: 65381.7891 LR: 9.3281e-05\n"
                    ]
                },
                {
                    "data": {
                        "application/vnd.jupyter.widget-view+json": {
                            "model_id": "fc55767ad612457f84dfc941b20a658e",
                            "version_major": 2,
                            "version_minor": 0
                        },
                        "text/plain": [
                            "Valid:   0%|          | 0/225 [00:00<?, ?batch/s]"
                        ]
                    },
                    "metadata": {},
                    "output_type": "display_data"
                },
                {
                    "name": "stdout",
                    "output_type": "stream",
                    "text": [
                        "Epoch: [3][0/225]Elapsed 0.10s | Loss: 0.2456\n",
                        "Epoch: [3][50/225]Elapsed 4.94s | Loss: 0.3657\n",
                        "Epoch: [3][100/225]Elapsed 9.77s | Loss: 0.3629\n",
                        "Epoch: [3][150/225]Elapsed 14.66s | Loss: 0.3661\n",
                        "Epoch: [3][200/225]Elapsed 19.52s | Loss: 0.3530\n"
                    ]
                },
                {
                    "name": "stderr",
                    "output_type": "stream",
                    "text": [
                        "----------------------------------------------------------------------------------------------------\n",
                        "Epoch 3 - Average Train Loss: 0.2935 | Average Valid Loss: 0.3487 | Time: 114.97s\n",
                        "Best model found in epoch 3 | valid loss: 0.3487\n"
                    ]
                },
                {
                    "data": {
                        "application/vnd.jupyter.widget-view+json": {
                            "model_id": "0b24c82523ec4fc7934a6accdfa09659",
                            "version_major": 2,
                            "version_minor": 0
                        },
                        "text/plain": [
                            "Train:   0%|          | 0/622 [00:00<?, ?batch/s]"
                        ]
                    },
                    "metadata": {},
                    "output_type": "display_data"
                },
                {
                    "name": "stdout",
                    "output_type": "stream",
                    "text": [
                        "Epoch: [4][0/622]Elapsed 0.11s | Loss: 0.2957 Grad: 154701.5000 LR: 9.3281e-05\n",
                        "Epoch: [4][50/622]Elapsed 7.55s | Loss: 0.2424 Grad: inf LR: 9.2683e-05\n",
                        "Epoch: [4][100/622]Elapsed 15.06s | Loss: 0.2429 Grad: 58698.2461 LR: 9.2063e-05\n",
                        "Epoch: [4][150/622]Elapsed 22.56s | Loss: 0.2534 Grad: 59409.7227 LR: 9.1420e-05\n",
                        "Epoch: [4][200/622]Elapsed 30.02s | Loss: 0.2509 Grad: 53636.1758 LR: 9.0754e-05\n",
                        "Epoch: [4][250/622]Elapsed 37.49s | Loss: 0.2482 Grad: 41638.5156 LR: 9.0065e-05\n",
                        "Epoch: [4][300/622]Elapsed 44.94s | Loss: 0.2497 Grad: 66006.9766 LR: 8.9355e-05\n",
                        "Epoch: [4][350/622]Elapsed 52.39s | Loss: 0.2478 Grad: 20101.9414 LR: 8.8624e-05\n",
                        "Epoch: [4][400/622]Elapsed 59.84s | Loss: 0.2452 Grad: 40179.1016 LR: 8.7871e-05\n",
                        "Epoch: [4][450/622]Elapsed 67.28s | Loss: 0.2408 Grad: 53568.3828 LR: 8.7097e-05\n",
                        "Epoch: [4][500/622]Elapsed 74.73s | Loss: 0.2410 Grad: 46518.4336 LR: 8.6303e-05\n",
                        "Epoch: [4][550/622]Elapsed 82.16s | Loss: 0.2423 Grad: 34593.3047 LR: 8.5490e-05\n",
                        "Epoch: [4][600/622]Elapsed 89.61s | Loss: 0.2424 Grad: 28437.0430 LR: 8.4657e-05\n",
                        "Epoch: [4][621/622]Elapsed 92.80s | Loss: 0.2424 Grad: 50561.6289 LR: 8.4284e-05\n"
                    ]
                },
                {
                    "data": {
                        "application/vnd.jupyter.widget-view+json": {
                            "model_id": "34e546a1976643e7929474399d643fac",
                            "version_major": 2,
                            "version_minor": 0
                        },
                        "text/plain": [
                            "Valid:   0%|          | 0/225 [00:00<?, ?batch/s]"
                        ]
                    },
                    "metadata": {},
                    "output_type": "display_data"
                },
                {
                    "name": "stdout",
                    "output_type": "stream",
                    "text": [
                        "Epoch: [4][0/225]Elapsed 0.10s | Loss: 0.2725\n",
                        "Epoch: [4][50/225]Elapsed 4.94s | Loss: 0.3526\n",
                        "Epoch: [4][100/225]Elapsed 9.78s | Loss: 0.3527\n",
                        "Epoch: [4][150/225]Elapsed 14.63s | Loss: 0.3558\n",
                        "Epoch: [4][200/225]Elapsed 19.48s | Loss: 0.3500\n"
                    ]
                },
                {
                    "name": "stderr",
                    "output_type": "stream",
                    "text": [
                        "----------------------------------------------------------------------------------------------------\n",
                        "Epoch 4 - Average Train Loss: 0.2424 | Average Valid Loss: 0.3484 | Time: 114.77s\n",
                        "Best model found in epoch 4 | valid loss: 0.3484\n"
                    ]
                },
                {
                    "data": {
                        "application/vnd.jupyter.widget-view+json": {
                            "model_id": "fe76130041f2405491720b7040e834a4",
                            "version_major": 2,
                            "version_minor": 0
                        },
                        "text/plain": [
                            "Train:   0%|          | 0/622 [00:00<?, ?batch/s]"
                        ]
                    },
                    "metadata": {},
                    "output_type": "display_data"
                },
                {
                    "name": "stdout",
                    "output_type": "stream",
                    "text": [
                        "Epoch: [5][0/622]Elapsed 0.10s | Loss: 0.2856 Grad: 171627.5156 LR: 8.4284e-05\n",
                        "Epoch: [5][50/622]Elapsed 7.54s | Loss: 0.2040 Grad: 55848.5000 LR: 8.3424e-05\n",
                        "Epoch: [5][100/622]Elapsed 15.04s | Loss: 0.2084 Grad: 38147.0859 LR: 8.2546e-05\n",
                        "Epoch: [5][150/622]Elapsed 22.54s | Loss: 0.2186 Grad: 72684.2188 LR: 8.1650e-05\n",
                        "Epoch: [5][200/622]Elapsed 30.03s | Loss: 0.2167 Grad: 102063.4531 LR: 8.0736e-05\n",
                        "Epoch: [5][250/622]Elapsed 37.50s | Loss: 0.2137 Grad: 58165.6797 LR: 7.9806e-05\n",
                        "Epoch: [5][300/622]Elapsed 44.99s | Loss: 0.2140 Grad: 54450.4883 LR: 7.8859e-05\n",
                        "Epoch: [5][350/622]Elapsed 52.48s | Loss: 0.2119 Grad: 48258.2656 LR: 7.7897e-05\n",
                        "Epoch: [5][400/622]Elapsed 59.94s | Loss: 0.2087 Grad: 69021.2734 LR: 7.6920e-05\n",
                        "Epoch: [5][450/622]Elapsed 67.44s | Loss: 0.2044 Grad: 37591.9492 LR: 7.5927e-05\n",
                        "Epoch: [5][500/622]Elapsed 74.92s | Loss: 0.2036 Grad: 53541.8164 LR: 7.4921e-05\n",
                        "Epoch: [5][550/622]Elapsed 82.36s | Loss: 0.2033 Grad: 42071.5039 LR: 7.3901e-05\n",
                        "Epoch: [5][600/622]Elapsed 89.84s | Loss: 0.2041 Grad: 16530.0215 LR: 7.2868e-05\n",
                        "Epoch: [5][621/622]Elapsed 93.04s | Loss: 0.2038 Grad: 22041.5996 LR: 7.2409e-05\n"
                    ]
                },
                {
                    "data": {
                        "application/vnd.jupyter.widget-view+json": {
                            "model_id": "91e9a316517c48c2a65691f37dcf0c4c",
                            "version_major": 2,
                            "version_minor": 0
                        },
                        "text/plain": [
                            "Valid:   0%|          | 0/225 [00:00<?, ?batch/s]"
                        ]
                    },
                    "metadata": {},
                    "output_type": "display_data"
                },
                {
                    "name": "stdout",
                    "output_type": "stream",
                    "text": [
                        "Epoch: [5][0/225]Elapsed 0.10s | Loss: 0.2570\n",
                        "Epoch: [5][50/225]Elapsed 4.95s | Loss: 0.3709\n",
                        "Epoch: [5][100/225]Elapsed 9.80s | Loss: 0.3679\n",
                        "Epoch: [5][150/225]Elapsed 14.66s | Loss: 0.3737\n",
                        "Epoch: [5][200/225]Elapsed 19.51s | Loss: 0.3749\n"
                    ]
                },
                {
                    "name": "stderr",
                    "output_type": "stream",
                    "text": [
                        "----------------------------------------------------------------------------------------------------\n",
                        "Epoch 5 - Average Train Loss: 0.2038 | Average Valid Loss: 0.3760 | Time: 115.05s\n"
                    ]
                },
                {
                    "data": {
                        "application/vnd.jupyter.widget-view+json": {
                            "model_id": "3553d96bee33485b820334d6fbe0fe64",
                            "version_major": 2,
                            "version_minor": 0
                        },
                        "text/plain": [
                            "Train:   0%|          | 0/622 [00:00<?, ?batch/s]"
                        ]
                    },
                    "metadata": {},
                    "output_type": "display_data"
                },
                {
                    "name": "stdout",
                    "output_type": "stream",
                    "text": [
                        "Epoch: [6][0/622]Elapsed 0.10s | Loss: 0.2827 Grad: nan LR: 7.2409e-05\n",
                        "Epoch: [6][50/622]Elapsed 7.51s | Loss: 0.1802 Grad: 97031.4062 LR: 7.1358e-05\n",
                        "Epoch: [6][100/622]Elapsed 14.97s | Loss: 0.1752 Grad: 42230.3750 LR: 7.0296e-05\n",
                        "Epoch: [6][150/622]Elapsed 22.43s | Loss: 0.1841 Grad: 96973.6641 LR: 6.9222e-05\n",
                        "Epoch: [6][200/622]Elapsed 29.88s | Loss: 0.1813 Grad: 64364.3438 LR: 6.8138e-05\n",
                        "Epoch: [6][250/622]Elapsed 37.31s | Loss: 0.1783 Grad: 42403.8594 LR: 6.7044e-05\n",
                        "Epoch: [6][300/622]Elapsed 44.77s | Loss: 0.1784 Grad: 38584.8867 LR: 6.5940e-05\n",
                        "Epoch: [6][350/622]Elapsed 52.22s | Loss: 0.1761 Grad: 22076.9805 LR: 6.4828e-05\n",
                        "Epoch: [6][400/622]Elapsed 59.66s | Loss: 0.1741 Grad: 25429.3086 LR: 6.3708e-05\n",
                        "Epoch: [6][450/622]Elapsed 67.10s | Loss: 0.1715 Grad: 29830.8711 LR: 6.2581e-05\n",
                        "Epoch: [6][500/622]Elapsed 74.53s | Loss: 0.1714 Grad: 32679.3965 LR: 6.1446e-05\n",
                        "Epoch: [6][550/622]Elapsed 81.98s | Loss: 0.1708 Grad: 26406.1992 LR: 6.0305e-05\n",
                        "Epoch: [6][600/622]Elapsed 89.44s | Loss: 0.1711 Grad: 20461.9258 LR: 5.9159e-05\n",
                        "Epoch: [6][621/622]Elapsed 92.64s | Loss: 0.1710 Grad: 34687.0547 LR: 5.8653e-05\n"
                    ]
                },
                {
                    "data": {
                        "application/vnd.jupyter.widget-view+json": {
                            "model_id": "89cfce6b515241f1b8c648cce55bf631",
                            "version_major": 2,
                            "version_minor": 0
                        },
                        "text/plain": [
                            "Valid:   0%|          | 0/225 [00:00<?, ?batch/s]"
                        ]
                    },
                    "metadata": {},
                    "output_type": "display_data"
                },
                {
                    "name": "stdout",
                    "output_type": "stream",
                    "text": [
                        "Epoch: [6][0/225]Elapsed 0.11s | Loss: 0.2943\n",
                        "Epoch: [6][50/225]Elapsed 4.96s | Loss: 0.3814\n",
                        "Epoch: [6][100/225]Elapsed 9.81s | Loss: 0.3790\n",
                        "Epoch: [6][150/225]Elapsed 14.66s | Loss: 0.3816\n",
                        "Epoch: [6][200/225]Elapsed 19.50s | Loss: 0.3871\n"
                    ]
                },
                {
                    "name": "stderr",
                    "output_type": "stream",
                    "text": [
                        "----------------------------------------------------------------------------------------------------\n",
                        "Epoch 6 - Average Train Loss: 0.1710 | Average Valid Loss: 0.3900 | Time: 114.64s\n",
                        "====================================================================================================\n",
                        "Fold 3 Valid Loss: \n",
                        "Easy: 0.7112 | Hard: 0.6645\n",
                        "Elapse: 64.71 min \n",
                        "====================================================================================================\n",
                        "- Second Stage \n",
                        "Use Checkpoint: ENet_b2_xymask_fold_3_stage_1.pth\n"
                    ]
                },
                {
                    "data": {
                        "application/vnd.jupyter.widget-view+json": {
                            "model_id": "90a9d02a6b7e4ef9b053924902b86e07",
                            "version_major": 2,
                            "version_minor": 0
                        },
                        "text/plain": [
                            "Train:   0%|          | 0/276 [00:00<?, ?batch/s]"
                        ]
                    },
                    "metadata": {},
                    "output_type": "display_data"
                },
                {
                    "name": "stdout",
                    "output_type": "stream",
                    "text": [
                        "Epoch: [1][0/276]Elapsed 0.11s | Loss: 0.5797 Grad: nan LR: 4.0000e-06\n"
                    ]
                },
                {
                    "name": "stderr",
                    "output_type": "stream",
                    "text": [
                        "/home/shiyi/miniconda3/envs/kaggle/lib/python3.11/site-packages/torch/optim/lr_scheduler.py:143: UserWarning: Detected call of `lr_scheduler.step()` before `optimizer.step()`. In PyTorch 1.1.0 and later, you should call them in the opposite order: `optimizer.step()` before `lr_scheduler.step()`.  Failure to do this will result in PyTorch skipping the first value of the learning rate schedule. See more details at https://pytorch.org/docs/stable/optim.html#how-to-adjust-learning-rate\n",
                        "  warnings.warn(\"Detected call of `lr_scheduler.step()` before `optimizer.step()`. \"\n"
                    ]
                },
                {
                    "name": "stdout",
                    "output_type": "stream",
                    "text": [
                        "Epoch: [1][50/276]Elapsed 7.49s | Loss: 0.4571 Grad: 70549.6641 LR: 9.3614e-06\n",
                        "Epoch: [1][100/276]Elapsed 15.01s | Loss: 0.4154 Grad: 84844.7422 LR: 2.4248e-05\n",
                        "Epoch: [1][150/276]Elapsed 22.52s | Loss: 0.3857 Grad: 56504.3047 LR: 4.5334e-05\n",
                        "Epoch: [1][200/276]Elapsed 30.00s | Loss: 0.3585 Grad: 28563.4355 LR: 6.7909e-05\n",
                        "Epoch: [1][250/276]Elapsed 37.45s | Loss: 0.3359 Grad: 29991.5254 LR: 8.6930e-05\n",
                        "Epoch: [1][275/276]Elapsed 41.24s | Loss: 0.3246 Grad: 41186.2891 LR: 9.3946e-05\n"
                    ]
                },
                {
                    "data": {
                        "application/vnd.jupyter.widget-view+json": {
                            "model_id": "65f150e6ca044b47b48b407b19a9c6db",
                            "version_major": 2,
                            "version_minor": 0
                        },
                        "text/plain": [
                            "Valid:   0%|          | 0/225 [00:00<?, ?batch/s]"
                        ]
                    },
                    "metadata": {},
                    "output_type": "display_data"
                },
                {
                    "name": "stdout",
                    "output_type": "stream",
                    "text": [
                        "Epoch: [1][0/225]Elapsed 0.10s | Loss: 0.3141\n",
                        "Epoch: [1][50/225]Elapsed 4.93s | Loss: 0.4091\n",
                        "Epoch: [1][100/225]Elapsed 9.78s | Loss: 0.4115\n",
                        "Epoch: [1][150/225]Elapsed 14.61s | Loss: 0.4130\n",
                        "Epoch: [1][200/225]Elapsed 19.45s | Loss: 0.3694\n"
                    ]
                },
                {
                    "name": "stderr",
                    "output_type": "stream",
                    "text": [
                        "----------------------------------------------------------------------------------------------------\n",
                        "Epoch 1 - Average Train Loss: 0.3246 | Average Valid Loss: 0.3522 | Time: 63.19s\n",
                        "Best model found in epoch 1 | valid loss: 0.3522\n"
                    ]
                },
                {
                    "data": {
                        "application/vnd.jupyter.widget-view+json": {
                            "model_id": "ba0b7c09a525438f94bb81ed949b00ac",
                            "version_major": 2,
                            "version_minor": 0
                        },
                        "text/plain": [
                            "Train:   0%|          | 0/276 [00:00<?, ?batch/s]"
                        ]
                    },
                    "metadata": {},
                    "output_type": "display_data"
                },
                {
                    "name": "stdout",
                    "output_type": "stream",
                    "text": [
                        "Epoch: [2][0/276]Elapsed 0.11s | Loss: 0.2711 Grad: nan LR: 9.3946e-05\n",
                        "Epoch: [2][50/276]Elapsed 7.55s | Loss: 0.2161 Grad: 77163.2891 LR: 9.9978e-05\n",
                        "Epoch: [2][100/276]Elapsed 15.06s | Loss: 0.2059 Grad: 64753.1133 LR: 9.9939e-05\n",
                        "Epoch: [2][150/276]Elapsed 22.56s | Loss: 0.2035 Grad: 54975.5977 LR: 9.9740e-05\n",
                        "Epoch: [2][200/276]Elapsed 30.03s | Loss: 0.2028 Grad: 46310.9219 LR: 9.9403e-05\n",
                        "Epoch: [2][250/276]Elapsed 37.50s | Loss: 0.2002 Grad: 65514.8906 LR: 9.8929e-05\n",
                        "Epoch: [2][275/276]Elapsed 41.30s | Loss: 0.1980 Grad: 64819.8828 LR: 9.8628e-05\n"
                    ]
                },
                {
                    "data": {
                        "application/vnd.jupyter.widget-view+json": {
                            "model_id": "2487db9d652d48b7821a14279fb60342",
                            "version_major": 2,
                            "version_minor": 0
                        },
                        "text/plain": [
                            "Valid:   0%|          | 0/225 [00:00<?, ?batch/s]"
                        ]
                    },
                    "metadata": {},
                    "output_type": "display_data"
                },
                {
                    "name": "stdout",
                    "output_type": "stream",
                    "text": [
                        "Epoch: [2][0/225]Elapsed 0.11s | Loss: 0.3168\n",
                        "Epoch: [2][50/225]Elapsed 4.96s | Loss: 0.4021\n",
                        "Epoch: [2][100/225]Elapsed 9.80s | Loss: 0.4042\n",
                        "Epoch: [2][150/225]Elapsed 14.65s | Loss: 0.4062\n",
                        "Epoch: [2][200/225]Elapsed 19.51s | Loss: 0.3609\n"
                    ]
                },
                {
                    "name": "stderr",
                    "output_type": "stream",
                    "text": [
                        "----------------------------------------------------------------------------------------------------\n",
                        "Epoch 2 - Average Train Loss: 0.1980 | Average Valid Loss: 0.3428 | Time: 63.32s\n",
                        "Best model found in epoch 2 | valid loss: 0.3428\n"
                    ]
                },
                {
                    "data": {
                        "application/vnd.jupyter.widget-view+json": {
                            "model_id": "ca8976d779584569abd06ebd1a2fbfe9",
                            "version_major": 2,
                            "version_minor": 0
                        },
                        "text/plain": [
                            "Train:   0%|          | 0/276 [00:00<?, ?batch/s]"
                        ]
                    },
                    "metadata": {},
                    "output_type": "display_data"
                },
                {
                    "name": "stdout",
                    "output_type": "stream",
                    "text": [
                        "Epoch: [3][0/276]Elapsed 0.11s | Loss: 0.2317 Grad: 140241.0938 LR: 9.8628e-05\n",
                        "Epoch: [3][50/276]Elapsed 7.56s | Loss: 0.1877 Grad: 50625.4688 LR: 9.7948e-05\n",
                        "Epoch: [3][100/276]Elapsed 15.07s | Loss: 0.1797 Grad: 57760.6875 LR: 9.7135e-05\n",
                        "Epoch: [3][150/276]Elapsed 22.60s | Loss: 0.1766 Grad: 65319.6055 LR: 9.6191e-05\n",
                        "Epoch: [3][200/276]Elapsed 30.09s | Loss: 0.1766 Grad: 54260.6055 LR: 9.5119e-05\n",
                        "Epoch: [3][250/276]Elapsed 37.57s | Loss: 0.1757 Grad: 54563.5430 LR: 9.3922e-05\n",
                        "Epoch: [3][275/276]Elapsed 41.38s | Loss: 0.1742 Grad: 60723.7070 LR: 9.3251e-05\n"
                    ]
                },
                {
                    "data": {
                        "application/vnd.jupyter.widget-view+json": {
                            "model_id": "6926da9beeeb4c2a98829aa2b61dbc1f",
                            "version_major": 2,
                            "version_minor": 0
                        },
                        "text/plain": [
                            "Valid:   0%|          | 0/225 [00:00<?, ?batch/s]"
                        ]
                    },
                    "metadata": {},
                    "output_type": "display_data"
                },
                {
                    "name": "stdout",
                    "output_type": "stream",
                    "text": [
                        "Epoch: [3][0/225]Elapsed 0.10s | Loss: 0.3253\n",
                        "Epoch: [3][50/225]Elapsed 4.93s | Loss: 0.3896\n",
                        "Epoch: [3][100/225]Elapsed 9.83s | Loss: 0.3911\n",
                        "Epoch: [3][150/225]Elapsed 14.67s | Loss: 0.3922\n",
                        "Epoch: [3][200/225]Elapsed 19.56s | Loss: 0.3489\n"
                    ]
                },
                {
                    "name": "stderr",
                    "output_type": "stream",
                    "text": [
                        "----------------------------------------------------------------------------------------------------\n",
                        "Epoch 3 - Average Train Loss: 0.1742 | Average Valid Loss: 0.3315 | Time: 63.44s\n",
                        "Best model found in epoch 3 | valid loss: 0.3315\n"
                    ]
                },
                {
                    "data": {
                        "application/vnd.jupyter.widget-view+json": {
                            "model_id": "99342720f3cc47358cfa7f1721496ab6",
                            "version_major": 2,
                            "version_minor": 0
                        },
                        "text/plain": [
                            "Train:   0%|          | 0/276 [00:00<?, ?batch/s]"
                        ]
                    },
                    "metadata": {},
                    "output_type": "display_data"
                },
                {
                    "name": "stdout",
                    "output_type": "stream",
                    "text": [
                        "Epoch: [4][0/276]Elapsed 0.10s | Loss: 0.1979 Grad: 95085.6719 LR: 9.3251e-05\n",
                        "Epoch: [4][50/276]Elapsed 7.56s | Loss: 0.1650 Grad: 60790.2500 LR: 9.1870e-05\n",
                        "Epoch: [4][100/276]Elapsed 15.10s | Loss: 0.1601 Grad: 48807.8203 LR: 9.0373e-05\n",
                        "Epoch: [4][150/276]Elapsed 22.63s | Loss: 0.1584 Grad: 59000.0742 LR: 8.8763e-05\n",
                        "Epoch: [4][200/276]Elapsed 30.14s | Loss: 0.1586 Grad: 62465.8711 LR: 8.7047e-05\n",
                        "Epoch: [4][250/276]Elapsed 37.63s | Loss: 0.1585 Grad: 57982.9570 LR: 8.5227e-05\n",
                        "Epoch: [4][275/276]Elapsed 41.41s | Loss: 0.1573 Grad: 48590.3477 LR: 8.4242e-05\n"
                    ]
                },
                {
                    "data": {
                        "application/vnd.jupyter.widget-view+json": {
                            "model_id": "4ad97b7434b64a32aef2e8d5abb4762e",
                            "version_major": 2,
                            "version_minor": 0
                        },
                        "text/plain": [
                            "Valid:   0%|          | 0/225 [00:00<?, ?batch/s]"
                        ]
                    },
                    "metadata": {},
                    "output_type": "display_data"
                },
                {
                    "name": "stdout",
                    "output_type": "stream",
                    "text": [
                        "Epoch: [4][0/225]Elapsed 0.11s | Loss: 0.3168\n",
                        "Epoch: [4][50/225]Elapsed 4.92s | Loss: 0.3827\n",
                        "Epoch: [4][100/225]Elapsed 9.75s | Loss: 0.3825\n",
                        "Epoch: [4][150/225]Elapsed 14.56s | Loss: 0.3849\n",
                        "Epoch: [4][200/225]Elapsed 19.39s | Loss: 0.3430\n"
                    ]
                },
                {
                    "name": "stderr",
                    "output_type": "stream",
                    "text": [
                        "----------------------------------------------------------------------------------------------------\n",
                        "Epoch 4 - Average Train Loss: 0.1573 | Average Valid Loss: 0.3263 | Time: 63.28s\n",
                        "Best model found in epoch 4 | valid loss: 0.3263\n"
                    ]
                },
                {
                    "data": {
                        "application/vnd.jupyter.widget-view+json": {
                            "model_id": "a1ce05e1a9c94f22be76da230c475c06",
                            "version_major": 2,
                            "version_minor": 0
                        },
                        "text/plain": [
                            "Train:   0%|          | 0/276 [00:00<?, ?batch/s]"
                        ]
                    },
                    "metadata": {},
                    "output_type": "display_data"
                },
                {
                    "name": "stdout",
                    "output_type": "stream",
                    "text": [
                        "Epoch: [5][0/276]Elapsed 0.11s | Loss: 0.1883 Grad: 97296.0312 LR: 8.4242e-05\n",
                        "Epoch: [5][50/276]Elapsed 7.57s | Loss: 0.1549 Grad: 43064.0430 LR: 8.2275e-05\n",
                        "Epoch: [5][100/276]Elapsed 15.09s | Loss: 0.1499 Grad: 55266.4453 LR: 8.0220e-05\n",
                        "Epoch: [5][150/276]Elapsed 22.59s | Loss: 0.1472 Grad: 61549.3398 LR: 7.8080e-05\n",
                        "Epoch: [5][200/276]Elapsed 30.05s | Loss: 0.1471 Grad: 42641.9102 LR: 7.5863e-05\n",
                        "Epoch: [5][250/276]Elapsed 37.52s | Loss: 0.1467 Grad: 46273.5820 LR: 7.3573e-05\n",
                        "Epoch: [5][275/276]Elapsed 41.31s | Loss: 0.1457 Grad: 55570.3203 LR: 7.2357e-05\n"
                    ]
                },
                {
                    "data": {
                        "application/vnd.jupyter.widget-view+json": {
                            "model_id": "2e087219397041d891c0515396b3cf92",
                            "version_major": 2,
                            "version_minor": 0
                        },
                        "text/plain": [
                            "Valid:   0%|          | 0/225 [00:00<?, ?batch/s]"
                        ]
                    },
                    "metadata": {},
                    "output_type": "display_data"
                },
                {
                    "name": "stdout",
                    "output_type": "stream",
                    "text": [
                        "Epoch: [5][0/225]Elapsed 0.11s | Loss: 0.3283\n",
                        "Epoch: [5][50/225]Elapsed 4.93s | Loss: 0.3791\n",
                        "Epoch: [5][100/225]Elapsed 9.74s | Loss: 0.3784\n",
                        "Epoch: [5][150/225]Elapsed 14.55s | Loss: 0.3809\n",
                        "Epoch: [5][200/225]Elapsed 19.40s | Loss: 0.3407\n"
                    ]
                },
                {
                    "name": "stderr",
                    "output_type": "stream",
                    "text": [
                        "----------------------------------------------------------------------------------------------------\n",
                        "Epoch 5 - Average Train Loss: 0.1457 | Average Valid Loss: 0.3246 | Time: 63.18s\n",
                        "Best model found in epoch 5 | valid loss: 0.3246\n"
                    ]
                },
                {
                    "data": {
                        "application/vnd.jupyter.widget-view+json": {
                            "model_id": "f7e6c95ad8884026b37e7ac42ff46961",
                            "version_major": 2,
                            "version_minor": 0
                        },
                        "text/plain": [
                            "Train:   0%|          | 0/276 [00:00<?, ?batch/s]"
                        ]
                    },
                    "metadata": {},
                    "output_type": "display_data"
                },
                {
                    "name": "stdout",
                    "output_type": "stream",
                    "text": [
                        "Epoch: [6][0/276]Elapsed 0.10s | Loss: 0.1826 Grad: inf LR: 7.2357e-05\n",
                        "Epoch: [6][50/276]Elapsed 7.54s | Loss: 0.1408 Grad: 51472.8164 LR: 6.9971e-05\n",
                        "Epoch: [6][100/276]Elapsed 15.04s | Loss: 0.1347 Grad: 72920.0938 LR: 6.7529e-05\n",
                        "Epoch: [6][150/276]Elapsed 22.52s | Loss: 0.1340 Grad: 39224.4062 LR: 6.5039e-05\n",
                        "Epoch: [6][200/276]Elapsed 29.98s | Loss: 0.1338 Grad: 44018.0234 LR: 6.2507e-05\n",
                        "Epoch: [6][250/276]Elapsed 37.43s | Loss: 0.1343 Grad: 77152.1328 LR: 5.9941e-05\n",
                        "Epoch: [6][275/276]Elapsed 41.22s | Loss: 0.1336 Grad: 45919.6172 LR: 5.8595e-05\n"
                    ]
                },
                {
                    "data": {
                        "application/vnd.jupyter.widget-view+json": {
                            "model_id": "1f8fd22195664bd2b587822abd7b6117",
                            "version_major": 2,
                            "version_minor": 0
                        },
                        "text/plain": [
                            "Valid:   0%|          | 0/225 [00:00<?, ?batch/s]"
                        ]
                    },
                    "metadata": {},
                    "output_type": "display_data"
                },
                {
                    "name": "stdout",
                    "output_type": "stream",
                    "text": [
                        "Epoch: [6][0/225]Elapsed 0.10s | Loss: 0.3300\n",
                        "Epoch: [6][50/225]Elapsed 4.92s | Loss: 0.3788\n",
                        "Epoch: [6][100/225]Elapsed 9.76s | Loss: 0.3787\n",
                        "Epoch: [6][150/225]Elapsed 14.58s | Loss: 0.3819\n",
                        "Epoch: [6][200/225]Elapsed 19.42s | Loss: 0.3420\n"
                    ]
                },
                {
                    "name": "stderr",
                    "output_type": "stream",
                    "text": [
                        "----------------------------------------------------------------------------------------------------\n",
                        "Epoch 6 - Average Train Loss: 0.1336 | Average Valid Loss: 0.3261 | Time: 63.14s\n",
                        "====================================================================================================\n",
                        "Fold 3 Valid Loss: \n",
                        "Easy: 0.7617 | Hard: 0.3960\n",
                        "Elapse: 71.04 min \n",
                        "====================================================================================================\n",
                        "====================================================================================================\n",
                        "Fold: 4 || Valid size 3595 \n",
                        "====================================================================================================\n",
                        "- First Stage \n"
                    ]
                },
                {
                    "data": {
                        "application/vnd.jupyter.widget-view+json": {
                            "model_id": "ee34543e82ce4196886786e3927ebcb5",
                            "version_major": 2,
                            "version_minor": 0
                        },
                        "text/plain": [
                            "Train:   0%|          | 0/622 [00:00<?, ?batch/s]"
                        ]
                    },
                    "metadata": {},
                    "output_type": "display_data"
                },
                {
                    "name": "stdout",
                    "output_type": "stream",
                    "text": [
                        "Epoch: [1][0/622]Elapsed 0.10s | Loss: 0.8062 Grad: 64099.4883 LR: 4.0000e-06\n",
                        "Epoch: [1][50/622]Elapsed 7.46s | Loss: 0.8166 Grad: 64757.6211 LR: 5.0647e-06\n",
                        "Epoch: [1][100/622]Elapsed 14.95s | Loss: 0.8108 Grad: 68396.2109 LR: 8.2116e-06\n",
                        "Epoch: [1][150/622]Elapsed 22.46s | Loss: 0.8050 Grad: 67837.3672 LR: 1.3301e-05\n",
                        "Epoch: [1][200/622]Elapsed 29.94s | Loss: 0.7990 Grad: 83437.7266 LR: 2.0107e-05\n",
                        "Epoch: [1][250/622]Elapsed 37.42s | Loss: 0.7874 Grad: 130117.7578 LR: 2.8328e-05\n",
                        "Epoch: [1][300/622]Elapsed 44.90s | Loss: 0.7765 Grad: 62074.4766 LR: 3.7599e-05\n",
                        "Epoch: [1][350/622]Elapsed 52.36s | Loss: 0.7621 Grad: 54183.6914 LR: 4.7509e-05\n",
                        "Epoch: [1][400/622]Elapsed 59.82s | Loss: 0.7455 Grad: 70138.4531 LR: 5.7619e-05\n",
                        "Epoch: [1][450/622]Elapsed 67.36s | Loss: 0.7277 Grad: 60115.5977 LR: 6.7479e-05\n",
                        "Epoch: [1][500/622]Elapsed 74.80s | Loss: 0.7119 Grad: 74453.3828 LR: 7.6652e-05\n",
                        "Epoch: [1][550/622]Elapsed 82.24s | Loss: 0.6976 Grad: 51040.0156 LR: 8.4732e-05\n",
                        "Epoch: [1][600/622]Elapsed 89.67s | Loss: 0.6833 Grad: 78118.5312 LR: 9.1359e-05\n",
                        "Epoch: [1][621/622]Elapsed 92.86s | Loss: 0.6764 Grad: 80129.6953 LR: 9.3737e-05\n"
                    ]
                },
                {
                    "data": {
                        "application/vnd.jupyter.widget-view+json": {
                            "model_id": "831849a86b394458add990443bb864fb",
                            "version_major": 2,
                            "version_minor": 0
                        },
                        "text/plain": [
                            "Valid:   0%|          | 0/225 [00:00<?, ?batch/s]"
                        ]
                    },
                    "metadata": {},
                    "output_type": "display_data"
                },
                {
                    "name": "stdout",
                    "output_type": "stream",
                    "text": [
                        "Epoch: [1][0/225]Elapsed 0.10s | Loss: 0.3510\n",
                        "Epoch: [1][50/225]Elapsed 4.94s | Loss: 0.4206\n",
                        "Epoch: [1][100/225]Elapsed 9.77s | Loss: 0.4339\n",
                        "Epoch: [1][150/225]Elapsed 14.60s | Loss: 0.4369\n",
                        "Epoch: [1][200/225]Elapsed 19.43s | Loss: 0.4102\n"
                    ]
                },
                {
                    "name": "stderr",
                    "output_type": "stream",
                    "text": [
                        "----------------------------------------------------------------------------------------------------\n",
                        "Epoch 1 - Average Train Loss: 0.6764 | Average Valid Loss: 0.4033 | Time: 114.79s\n",
                        "Best model found in epoch 1 | valid loss: 0.4033\n"
                    ]
                },
                {
                    "data": {
                        "application/vnd.jupyter.widget-view+json": {
                            "model_id": "3df059bd59354e9a9901b183622b53f5",
                            "version_major": 2,
                            "version_minor": 0
                        },
                        "text/plain": [
                            "Train:   0%|          | 0/622 [00:00<?, ?batch/s]"
                        ]
                    },
                    "metadata": {},
                    "output_type": "display_data"
                },
                {
                    "name": "stdout",
                    "output_type": "stream",
                    "text": [
                        "Epoch: [2][0/622]Elapsed 0.10s | Loss: 0.5581 Grad: 130524.3203 LR: 9.3737e-05\n",
                        "Epoch: [2][50/622]Elapsed 7.55s | Loss: 0.4550 Grad: 26739.1973 LR: 9.7777e-05\n",
                        "Epoch: [2][100/622]Elapsed 15.06s | Loss: 0.4478 Grad: 41193.5508 LR: 9.9786e-05\n",
                        "Epoch: [2][150/622]Elapsed 22.58s | Loss: 0.4527 Grad: 58263.7109 LR: 9.9996e-05\n",
                        "Epoch: [2][200/622]Elapsed 30.07s | Loss: 0.4406 Grad: 60475.2500 LR: 9.9967e-05\n",
                        "Epoch: [2][250/622]Elapsed 37.54s | Loss: 0.4336 Grad: 36338.0977 LR: 9.9911e-05\n",
                        "Epoch: [2][300/622]Elapsed 45.01s | Loss: 0.4290 Grad: 41001.0625 LR: 9.9828e-05\n",
                        "Epoch: [2][350/622]Elapsed 52.47s | Loss: 0.4229 Grad: 40961.1641 LR: 9.9717e-05\n",
                        "Epoch: [2][400/622]Elapsed 59.92s | Loss: 0.4157 Grad: 73939.8125 LR: 9.9579e-05\n",
                        "Epoch: [2][450/622]Elapsed 67.37s | Loss: 0.4094 Grad: 25970.1621 LR: 9.9415e-05\n",
                        "Epoch: [2][500/622]Elapsed 74.80s | Loss: 0.4045 Grad: 51672.7227 LR: 9.9223e-05\n",
                        "Epoch: [2][550/622]Elapsed 82.22s | Loss: 0.4018 Grad: 28320.7012 LR: 9.9004e-05\n",
                        "Epoch: [2][600/622]Elapsed 89.67s | Loss: 0.3982 Grad: 28841.5352 LR: 9.8758e-05\n",
                        "Epoch: [2][621/622]Elapsed 92.87s | Loss: 0.3963 Grad: 52536.2734 LR: 9.8642e-05\n"
                    ]
                },
                {
                    "data": {
                        "application/vnd.jupyter.widget-view+json": {
                            "model_id": "9467b6f4a24c46d3b3fd12cf0ff7f0c2",
                            "version_major": 2,
                            "version_minor": 0
                        },
                        "text/plain": [
                            "Valid:   0%|          | 0/225 [00:00<?, ?batch/s]"
                        ]
                    },
                    "metadata": {},
                    "output_type": "display_data"
                },
                {
                    "name": "stdout",
                    "output_type": "stream",
                    "text": [
                        "Epoch: [2][0/225]Elapsed 0.10s | Loss: 0.3242\n",
                        "Epoch: [2][50/225]Elapsed 4.94s | Loss: 0.3646\n",
                        "Epoch: [2][100/225]Elapsed 9.76s | Loss: 0.3756\n",
                        "Epoch: [2][150/225]Elapsed 14.60s | Loss: 0.3777\n",
                        "Epoch: [2][200/225]Elapsed 19.45s | Loss: 0.3650\n"
                    ]
                },
                {
                    "name": "stderr",
                    "output_type": "stream",
                    "text": [
                        "----------------------------------------------------------------------------------------------------\n",
                        "Epoch 2 - Average Train Loss: 0.3963 | Average Valid Loss: 0.3666 | Time: 114.82s\n",
                        "Best model found in epoch 2 | valid loss: 0.3666\n"
                    ]
                },
                {
                    "data": {
                        "application/vnd.jupyter.widget-view+json": {
                            "model_id": "66b3e2378bed48ef8b971bcd34cf0ccc",
                            "version_major": 2,
                            "version_minor": 0
                        },
                        "text/plain": [
                            "Train:   0%|          | 0/622 [00:00<?, ?batch/s]"
                        ]
                    },
                    "metadata": {},
                    "output_type": "display_data"
                },
                {
                    "name": "stdout",
                    "output_type": "stream",
                    "text": [
                        "Epoch: [3][0/622]Elapsed 0.10s | Loss: 0.4644 Grad: 241798.8438 LR: 9.8642e-05\n",
                        "Epoch: [3][50/622]Elapsed 7.54s | Loss: 0.3166 Grad: 49238.7109 LR: 9.8358e-05\n",
                        "Epoch: [3][100/622]Elapsed 15.02s | Loss: 0.3159 Grad: 41999.6797 LR: 9.8048e-05\n",
                        "Epoch: [3][150/622]Elapsed 22.48s | Loss: 0.3286 Grad: 83208.7969 LR: 9.7711e-05\n",
                        "Epoch: [3][200/622]Elapsed 29.95s | Loss: 0.3230 Grad: 39225.8320 LR: 9.7349e-05\n",
                        "Epoch: [3][250/622]Elapsed 37.41s | Loss: 0.3187 Grad: 31834.4570 LR: 9.6960e-05\n",
                        "Epoch: [3][300/622]Elapsed 44.88s | Loss: 0.3176 Grad: 43387.1562 LR: 9.6546e-05\n",
                        "Epoch: [3][350/622]Elapsed 52.33s | Loss: 0.3173 Grad: 34426.2969 LR: 9.6106e-05\n",
                        "Epoch: [3][400/622]Elapsed 59.79s | Loss: 0.3116 Grad: 47810.3945 LR: 9.5642e-05\n",
                        "Epoch: [3][450/622]Elapsed 67.25s | Loss: 0.3086 Grad: 48099.4805 LR: 9.5152e-05\n",
                        "Epoch: [3][500/622]Elapsed 74.68s | Loss: 0.3069 Grad: 56328.7188 LR: 9.4638e-05\n",
                        "Epoch: [3][550/622]Elapsed 82.10s | Loss: 0.3065 Grad: 34446.9453 LR: 9.4099e-05\n",
                        "Epoch: [3][600/622]Elapsed 89.53s | Loss: 0.3056 Grad: 43223.5820 LR: 9.3536e-05\n",
                        "Epoch: [3][621/622]Elapsed 92.73s | Loss: 0.3046 Grad: 51179.5273 LR: 9.3281e-05\n"
                    ]
                },
                {
                    "data": {
                        "application/vnd.jupyter.widget-view+json": {
                            "model_id": "3ebc9bc8012e4290a3dfa2114f1d52dd",
                            "version_major": 2,
                            "version_minor": 0
                        },
                        "text/plain": [
                            "Valid:   0%|          | 0/225 [00:00<?, ?batch/s]"
                        ]
                    },
                    "metadata": {},
                    "output_type": "display_data"
                },
                {
                    "name": "stdout",
                    "output_type": "stream",
                    "text": [
                        "Epoch: [3][0/225]Elapsed 0.10s | Loss: 0.3509\n",
                        "Epoch: [3][50/225]Elapsed 4.96s | Loss: 0.3453\n",
                        "Epoch: [3][100/225]Elapsed 9.79s | Loss: 0.3538\n",
                        "Epoch: [3][150/225]Elapsed 14.64s | Loss: 0.3539\n",
                        "Epoch: [3][200/225]Elapsed 19.51s | Loss: 0.3513\n"
                    ]
                },
                {
                    "name": "stderr",
                    "output_type": "stream",
                    "text": [
                        "----------------------------------------------------------------------------------------------------\n",
                        "Epoch 3 - Average Train Loss: 0.3046 | Average Valid Loss: 0.3552 | Time: 114.73s\n",
                        "Best model found in epoch 3 | valid loss: 0.3552\n"
                    ]
                },
                {
                    "data": {
                        "application/vnd.jupyter.widget-view+json": {
                            "model_id": "67f1be544ba44fdfa04488ca6d45b561",
                            "version_major": 2,
                            "version_minor": 0
                        },
                        "text/plain": [
                            "Train:   0%|          | 0/622 [00:00<?, ?batch/s]"
                        ]
                    },
                    "metadata": {},
                    "output_type": "display_data"
                },
                {
                    "name": "stdout",
                    "output_type": "stream",
                    "text": [
                        "Epoch: [4][0/622]Elapsed 0.11s | Loss: 0.3716 Grad: inf LR: 9.3281e-05\n",
                        "Epoch: [4][50/622]Elapsed 7.55s | Loss: 0.2592 Grad: 39982.3281 LR: 9.2683e-05\n",
                        "Epoch: [4][100/622]Elapsed 15.02s | Loss: 0.2568 Grad: 43399.5469 LR: 9.2063e-05\n",
                        "Epoch: [4][150/622]Elapsed 22.49s | Loss: 0.2720 Grad: 72681.0000 LR: 9.1420e-05\n",
                        "Epoch: [4][200/622]Elapsed 29.95s | Loss: 0.2677 Grad: 55051.9336 LR: 9.0754e-05\n",
                        "Epoch: [4][250/622]Elapsed 37.39s | Loss: 0.2655 Grad: 30065.7852 LR: 9.0065e-05\n",
                        "Epoch: [4][300/622]Elapsed 44.84s | Loss: 0.2635 Grad: 28986.1855 LR: 8.9355e-05\n",
                        "Epoch: [4][350/622]Elapsed 52.28s | Loss: 0.2626 Grad: 38871.4297 LR: 8.8624e-05\n",
                        "Epoch: [4][400/622]Elapsed 59.68s | Loss: 0.2585 Grad: 51782.9766 LR: 8.7871e-05\n",
                        "Epoch: [4][450/622]Elapsed 67.12s | Loss: 0.2553 Grad: 39287.0977 LR: 8.7097e-05\n",
                        "Epoch: [4][500/622]Elapsed 74.56s | Loss: 0.2537 Grad: 68903.0859 LR: 8.6303e-05\n",
                        "Epoch: [4][550/622]Elapsed 82.01s | Loss: 0.2535 Grad: 43316.2656 LR: 8.5490e-05\n",
                        "Epoch: [4][600/622]Elapsed 89.44s | Loss: 0.2527 Grad: 32701.0430 LR: 8.4657e-05\n",
                        "Epoch: [4][621/622]Elapsed 92.64s | Loss: 0.2515 Grad: 67625.7500 LR: 8.4284e-05\n"
                    ]
                },
                {
                    "data": {
                        "application/vnd.jupyter.widget-view+json": {
                            "model_id": "3962e51b2c1247b88bd7be9d78f71e29",
                            "version_major": 2,
                            "version_minor": 0
                        },
                        "text/plain": [
                            "Valid:   0%|          | 0/225 [00:00<?, ?batch/s]"
                        ]
                    },
                    "metadata": {},
                    "output_type": "display_data"
                },
                {
                    "name": "stdout",
                    "output_type": "stream",
                    "text": [
                        "Epoch: [4][0/225]Elapsed 0.10s | Loss: 0.3536\n",
                        "Epoch: [4][50/225]Elapsed 4.93s | Loss: 0.3441\n",
                        "Epoch: [4][100/225]Elapsed 9.76s | Loss: 0.3529\n",
                        "Epoch: [4][150/225]Elapsed 14.59s | Loss: 0.3543\n",
                        "Epoch: [4][200/225]Elapsed 19.43s | Loss: 0.3607\n"
                    ]
                },
                {
                    "name": "stderr",
                    "output_type": "stream",
                    "text": [
                        "----------------------------------------------------------------------------------------------------\n",
                        "Epoch 4 - Average Train Loss: 0.2515 | Average Valid Loss: 0.3685 | Time: 114.57s\n"
                    ]
                },
                {
                    "data": {
                        "application/vnd.jupyter.widget-view+json": {
                            "model_id": "b2a05f5e3bfb4f1294a0076f27a8cd74",
                            "version_major": 2,
                            "version_minor": 0
                        },
                        "text/plain": [
                            "Train:   0%|          | 0/622 [00:00<?, ?batch/s]"
                        ]
                    },
                    "metadata": {},
                    "output_type": "display_data"
                },
                {
                    "name": "stdout",
                    "output_type": "stream",
                    "text": [
                        "Epoch: [5][0/622]Elapsed 0.10s | Loss: 0.4106 Grad: nan LR: 8.4284e-05\n",
                        "Epoch: [5][50/622]Elapsed 7.55s | Loss: 0.2286 Grad: 31240.6348 LR: 8.3424e-05\n",
                        "Epoch: [5][100/622]Elapsed 15.07s | Loss: 0.2214 Grad: 50218.8359 LR: 8.2546e-05\n",
                        "Epoch: [5][150/622]Elapsed 22.57s | Loss: 0.2280 Grad: 48293.3633 LR: 8.1650e-05\n",
                        "Epoch: [5][200/622]Elapsed 30.05s | Loss: 0.2246 Grad: 46123.1484 LR: 8.0736e-05\n",
                        "Epoch: [5][250/622]Elapsed 37.51s | Loss: 0.2222 Grad: 37696.8281 LR: 7.9806e-05\n",
                        "Epoch: [5][300/622]Elapsed 44.96s | Loss: 0.2197 Grad: 37286.2188 LR: 7.8859e-05\n",
                        "Epoch: [5][350/622]Elapsed 52.41s | Loss: 0.2181 Grad: 35065.7109 LR: 7.7897e-05\n",
                        "Epoch: [5][400/622]Elapsed 59.85s | Loss: 0.2138 Grad: 51238.9414 LR: 7.6920e-05\n",
                        "Epoch: [5][450/622]Elapsed 67.27s | Loss: 0.2110 Grad: 34550.2500 LR: 7.5927e-05\n",
                        "Epoch: [5][500/622]Elapsed 74.69s | Loss: 0.2098 Grad: 44126.2031 LR: 7.4921e-05\n",
                        "Epoch: [5][550/622]Elapsed 82.09s | Loss: 0.2105 Grad: 47607.3906 LR: 7.3901e-05\n",
                        "Epoch: [5][600/622]Elapsed 89.50s | Loss: 0.2102 Grad: 57355.5469 LR: 7.2868e-05\n",
                        "Epoch: [5][621/622]Elapsed 92.68s | Loss: 0.2098 Grad: 36864.7617 LR: 7.2409e-05\n"
                    ]
                },
                {
                    "data": {
                        "application/vnd.jupyter.widget-view+json": {
                            "model_id": "208b9657263645d3bf462ec34311529d",
                            "version_major": 2,
                            "version_minor": 0
                        },
                        "text/plain": [
                            "Valid:   0%|          | 0/225 [00:00<?, ?batch/s]"
                        ]
                    },
                    "metadata": {},
                    "output_type": "display_data"
                },
                {
                    "name": "stdout",
                    "output_type": "stream",
                    "text": [
                        "Epoch: [5][0/225]Elapsed 0.10s | Loss: 0.3456\n",
                        "Epoch: [5][50/225]Elapsed 4.94s | Loss: 0.3315\n",
                        "Epoch: [5][100/225]Elapsed 9.78s | Loss: 0.3382\n",
                        "Epoch: [5][150/225]Elapsed 14.62s | Loss: 0.3407\n",
                        "Epoch: [5][200/225]Elapsed 19.46s | Loss: 0.3518\n"
                    ]
                },
                {
                    "name": "stderr",
                    "output_type": "stream",
                    "text": [
                        "----------------------------------------------------------------------------------------------------\n",
                        "Epoch 5 - Average Train Loss: 0.2098 | Average Valid Loss: 0.3619 | Time: 114.63s\n"
                    ]
                },
                {
                    "data": {
                        "application/vnd.jupyter.widget-view+json": {
                            "model_id": "553b1117f4274515a5c4bda7f7d8c5c2",
                            "version_major": 2,
                            "version_minor": 0
                        },
                        "text/plain": [
                            "Train:   0%|          | 0/622 [00:00<?, ?batch/s]"
                        ]
                    },
                    "metadata": {},
                    "output_type": "display_data"
                },
                {
                    "name": "stdout",
                    "output_type": "stream",
                    "text": [
                        "Epoch: [6][0/622]Elapsed 0.10s | Loss: 0.5590 Grad: nan LR: 7.2409e-05\n",
                        "Epoch: [6][50/622]Elapsed 7.50s | Loss: 0.2009 Grad: 86461.4688 LR: 7.1358e-05\n",
                        "Epoch: [6][100/622]Elapsed 15.00s | Loss: 0.1926 Grad: 69057.2734 LR: 7.0296e-05\n",
                        "Epoch: [6][150/622]Elapsed 22.46s | Loss: 0.1959 Grad: 58490.1211 LR: 6.9222e-05\n",
                        "Epoch: [6][200/622]Elapsed 29.94s | Loss: 0.1914 Grad: 41005.5078 LR: 6.8138e-05\n",
                        "Epoch: [6][250/622]Elapsed 37.38s | Loss: 0.1906 Grad: 36226.3125 LR: 6.7044e-05\n",
                        "Epoch: [6][300/622]Elapsed 44.81s | Loss: 0.1900 Grad: 31871.2930 LR: 6.5940e-05\n",
                        "Epoch: [6][350/622]Elapsed 52.22s | Loss: 0.1881 Grad: 27824.7773 LR: 6.4828e-05\n",
                        "Epoch: [6][400/622]Elapsed 59.64s | Loss: 0.1849 Grad: 57660.2070 LR: 6.3708e-05\n",
                        "Epoch: [6][450/622]Elapsed 67.07s | Loss: 0.1820 Grad: 60556.5977 LR: 6.2581e-05\n",
                        "Epoch: [6][500/622]Elapsed 74.49s | Loss: 0.1808 Grad: 42580.4648 LR: 6.1446e-05\n",
                        "Epoch: [6][550/622]Elapsed 81.91s | Loss: 0.1807 Grad: 34584.0781 LR: 6.0305e-05\n",
                        "Epoch: [6][600/622]Elapsed 89.34s | Loss: 0.1798 Grad: 39788.4531 LR: 5.9159e-05\n",
                        "Epoch: [6][621/622]Elapsed 92.51s | Loss: 0.1793 Grad: 60955.4180 LR: 5.8653e-05\n"
                    ]
                },
                {
                    "data": {
                        "application/vnd.jupyter.widget-view+json": {
                            "model_id": "415b944aadcb4a2aaa1da3c879235c36",
                            "version_major": 2,
                            "version_minor": 0
                        },
                        "text/plain": [
                            "Valid:   0%|          | 0/225 [00:00<?, ?batch/s]"
                        ]
                    },
                    "metadata": {},
                    "output_type": "display_data"
                },
                {
                    "name": "stdout",
                    "output_type": "stream",
                    "text": [
                        "Epoch: [6][0/225]Elapsed 0.10s | Loss: 0.3349\n",
                        "Epoch: [6][50/225]Elapsed 4.94s | Loss: 0.3431\n",
                        "Epoch: [6][100/225]Elapsed 9.78s | Loss: 0.3539\n",
                        "Epoch: [6][150/225]Elapsed 14.62s | Loss: 0.3566\n",
                        "Epoch: [6][200/225]Elapsed 19.46s | Loss: 0.3792\n"
                    ]
                },
                {
                    "name": "stderr",
                    "output_type": "stream",
                    "text": [
                        "----------------------------------------------------------------------------------------------------\n",
                        "Epoch 6 - Average Train Loss: 0.1793 | Average Valid Loss: 0.3928 | Time: 114.47s\n",
                        "====================================================================================================\n",
                        "Fold 4 Valid Loss: \n",
                        "Easy: 0.7140 | Hard: 0.7024\n",
                        "Elapse: 82.52 min \n",
                        "====================================================================================================\n",
                        "- Second Stage \n",
                        "Use Checkpoint: ENet_b2_xymask_fold_4_stage_1.pth\n"
                    ]
                },
                {
                    "data": {
                        "application/vnd.jupyter.widget-view+json": {
                            "model_id": "aa4e78e252bf4582ac2cd4269a956d27",
                            "version_major": 2,
                            "version_minor": 0
                        },
                        "text/plain": [
                            "Train:   0%|          | 0/276 [00:00<?, ?batch/s]"
                        ]
                    },
                    "metadata": {},
                    "output_type": "display_data"
                },
                {
                    "name": "stdout",
                    "output_type": "stream",
                    "text": [
                        "Epoch: [1][0/276]Elapsed 0.10s | Loss: 0.6478 Grad: nan LR: 4.0000e-06\n"
                    ]
                },
                {
                    "name": "stderr",
                    "output_type": "stream",
                    "text": [
                        "/home/shiyi/miniconda3/envs/kaggle/lib/python3.11/site-packages/torch/optim/lr_scheduler.py:143: UserWarning: Detected call of `lr_scheduler.step()` before `optimizer.step()`. In PyTorch 1.1.0 and later, you should call them in the opposite order: `optimizer.step()` before `lr_scheduler.step()`.  Failure to do this will result in PyTorch skipping the first value of the learning rate schedule. See more details at https://pytorch.org/docs/stable/optim.html#how-to-adjust-learning-rate\n",
                        "  warnings.warn(\"Detected call of `lr_scheduler.step()` before `optimizer.step()`. \"\n"
                    ]
                },
                {
                    "name": "stdout",
                    "output_type": "stream",
                    "text": [
                        "Epoch: [1][50/276]Elapsed 7.47s | Loss: 0.4755 Grad: 73264.0547 LR: 9.3614e-06\n",
                        "Epoch: [1][100/276]Elapsed 14.95s | Loss: 0.4353 Grad: 60728.8359 LR: 2.4248e-05\n",
                        "Epoch: [1][150/276]Elapsed 22.41s | Loss: 0.4069 Grad: 42559.7852 LR: 4.5334e-05\n",
                        "Epoch: [1][200/276]Elapsed 29.87s | Loss: 0.3775 Grad: 22504.7949 LR: 6.7909e-05\n",
                        "Epoch: [1][250/276]Elapsed 37.31s | Loss: 0.3518 Grad: 29975.4609 LR: 8.6930e-05\n",
                        "Epoch: [1][275/276]Elapsed 41.09s | Loss: 0.3400 Grad: 34761.2227 LR: 9.3946e-05\n"
                    ]
                },
                {
                    "data": {
                        "application/vnd.jupyter.widget-view+json": {
                            "model_id": "00d248dd644e452880839f40db1f46a5",
                            "version_major": 2,
                            "version_minor": 0
                        },
                        "text/plain": [
                            "Valid:   0%|          | 0/225 [00:00<?, ?batch/s]"
                        ]
                    },
                    "metadata": {},
                    "output_type": "display_data"
                },
                {
                    "name": "stdout",
                    "output_type": "stream",
                    "text": [
                        "Epoch: [1][0/225]Elapsed 0.10s | Loss: 0.3445\n",
                        "Epoch: [1][50/225]Elapsed 4.95s | Loss: 0.3856\n",
                        "Epoch: [1][100/225]Elapsed 9.80s | Loss: 0.3824\n",
                        "Epoch: [1][150/225]Elapsed 14.66s | Loss: 0.3882\n",
                        "Epoch: [1][200/225]Elapsed 19.55s | Loss: 0.3500\n"
                    ]
                },
                {
                    "name": "stderr",
                    "output_type": "stream",
                    "text": [
                        "----------------------------------------------------------------------------------------------------\n",
                        "Epoch 1 - Average Train Loss: 0.3400 | Average Valid Loss: 0.3379 | Time: 63.14s\n",
                        "Best model found in epoch 1 | valid loss: 0.3379\n"
                    ]
                },
                {
                    "data": {
                        "application/vnd.jupyter.widget-view+json": {
                            "model_id": "a67939ff831949fabd966d8fd559ea68",
                            "version_major": 2,
                            "version_minor": 0
                        },
                        "text/plain": [
                            "Train:   0%|          | 0/276 [00:00<?, ?batch/s]"
                        ]
                    },
                    "metadata": {},
                    "output_type": "display_data"
                },
                {
                    "name": "stdout",
                    "output_type": "stream",
                    "text": [
                        "Epoch: [2][0/276]Elapsed 0.11s | Loss: 0.2406 Grad: 115981.2266 LR: 9.3946e-05\n",
                        "Epoch: [2][50/276]Elapsed 7.54s | Loss: 0.2181 Grad: 77954.6094 LR: 9.9978e-05\n",
                        "Epoch: [2][100/276]Elapsed 15.01s | Loss: 0.2122 Grad: 44986.3750 LR: 9.9939e-05\n",
                        "Epoch: [2][150/276]Elapsed 22.48s | Loss: 0.2100 Grad: 35845.9648 LR: 9.9740e-05\n",
                        "Epoch: [2][200/276]Elapsed 29.96s | Loss: 0.2069 Grad: 27692.3320 LR: 9.9403e-05\n",
                        "Epoch: [2][250/276]Elapsed 37.43s | Loss: 0.2032 Grad: 40004.0781 LR: 9.8929e-05\n",
                        "Epoch: [2][275/276]Elapsed 41.23s | Loss: 0.2018 Grad: 70791.1797 LR: 9.8628e-05\n"
                    ]
                },
                {
                    "data": {
                        "application/vnd.jupyter.widget-view+json": {
                            "model_id": "ee394cb525ac424fadd18eac8a298e6e",
                            "version_major": 2,
                            "version_minor": 0
                        },
                        "text/plain": [
                            "Valid:   0%|          | 0/225 [00:00<?, ?batch/s]"
                        ]
                    },
                    "metadata": {},
                    "output_type": "display_data"
                },
                {
                    "name": "stdout",
                    "output_type": "stream",
                    "text": [
                        "Epoch: [2][0/225]Elapsed 0.11s | Loss: 0.3264\n",
                        "Epoch: [2][50/225]Elapsed 4.96s | Loss: 0.3772\n",
                        "Epoch: [2][100/225]Elapsed 9.80s | Loss: 0.3752\n",
                        "Epoch: [2][150/225]Elapsed 14.65s | Loss: 0.3801\n",
                        "Epoch: [2][200/225]Elapsed 19.50s | Loss: 0.3406\n"
                    ]
                },
                {
                    "name": "stderr",
                    "output_type": "stream",
                    "text": [
                        "----------------------------------------------------------------------------------------------------\n",
                        "Epoch 2 - Average Train Loss: 0.2018 | Average Valid Loss: 0.3272 | Time: 63.24s\n",
                        "Best model found in epoch 2 | valid loss: 0.3272\n"
                    ]
                },
                {
                    "data": {
                        "application/vnd.jupyter.widget-view+json": {
                            "model_id": "b7aa678f4e0944ee983b2b1f4d0802ae",
                            "version_major": 2,
                            "version_minor": 0
                        },
                        "text/plain": [
                            "Train:   0%|          | 0/276 [00:00<?, ?batch/s]"
                        ]
                    },
                    "metadata": {},
                    "output_type": "display_data"
                },
                {
                    "name": "stdout",
                    "output_type": "stream",
                    "text": [
                        "Epoch: [3][0/276]Elapsed 0.12s | Loss: 0.2082 Grad: 100684.0938 LR: 9.8628e-05\n",
                        "Epoch: [3][50/276]Elapsed 7.57s | Loss: 0.1883 Grad: 100948.7969 LR: 9.7948e-05\n",
                        "Epoch: [3][100/276]Elapsed 15.10s | Loss: 0.1818 Grad: 43117.1562 LR: 9.7135e-05\n",
                        "Epoch: [3][150/276]Elapsed 22.58s | Loss: 0.1807 Grad: 49223.4688 LR: 9.6191e-05\n",
                        "Epoch: [3][200/276]Elapsed 30.05s | Loss: 0.1795 Grad: 34724.5000 LR: 9.5119e-05\n",
                        "Epoch: [3][250/276]Elapsed 37.52s | Loss: 0.1788 Grad: 40839.2070 LR: 9.3922e-05\n",
                        "Epoch: [3][275/276]Elapsed 41.32s | Loss: 0.1774 Grad: 52842.1133 LR: 9.3251e-05\n"
                    ]
                },
                {
                    "data": {
                        "application/vnd.jupyter.widget-view+json": {
                            "model_id": "522704e86cc641b8ba8fd5f3642ca89a",
                            "version_major": 2,
                            "version_minor": 0
                        },
                        "text/plain": [
                            "Valid:   0%|          | 0/225 [00:00<?, ?batch/s]"
                        ]
                    },
                    "metadata": {},
                    "output_type": "display_data"
                },
                {
                    "name": "stdout",
                    "output_type": "stream",
                    "text": [
                        "Epoch: [3][0/225]Elapsed 0.10s | Loss: 0.3086\n",
                        "Epoch: [3][50/225]Elapsed 4.96s | Loss: 0.3617\n",
                        "Epoch: [3][100/225]Elapsed 9.82s | Loss: 0.3623\n",
                        "Epoch: [3][150/225]Elapsed 14.68s | Loss: 0.3671\n",
                        "Epoch: [3][200/225]Elapsed 19.56s | Loss: 0.3301\n"
                    ]
                },
                {
                    "name": "stderr",
                    "output_type": "stream",
                    "text": [
                        "----------------------------------------------------------------------------------------------------\n",
                        "Epoch 3 - Average Train Loss: 0.1774 | Average Valid Loss: 0.3175 | Time: 63.39s\n",
                        "Best model found in epoch 3 | valid loss: 0.3175\n"
                    ]
                },
                {
                    "data": {
                        "application/vnd.jupyter.widget-view+json": {
                            "model_id": "fdadabfee5c54b4e88af2420450019df",
                            "version_major": 2,
                            "version_minor": 0
                        },
                        "text/plain": [
                            "Train:   0%|          | 0/276 [00:00<?, ?batch/s]"
                        ]
                    },
                    "metadata": {},
                    "output_type": "display_data"
                },
                {
                    "name": "stdout",
                    "output_type": "stream",
                    "text": [
                        "Epoch: [4][0/276]Elapsed 0.12s | Loss: 0.1751 Grad: 88973.1016 LR: 9.3251e-05\n",
                        "Epoch: [4][50/276]Elapsed 7.56s | Loss: 0.1718 Grad: 104837.1797 LR: 9.1870e-05\n",
                        "Epoch: [4][100/276]Elapsed 15.05s | Loss: 0.1679 Grad: 63472.2344 LR: 9.0373e-05\n",
                        "Epoch: [4][150/276]Elapsed 22.53s | Loss: 0.1658 Grad: 37884.9727 LR: 8.8763e-05\n",
                        "Epoch: [4][200/276]Elapsed 30.00s | Loss: 0.1646 Grad: 29160.5352 LR: 8.7047e-05\n",
                        "Epoch: [4][250/276]Elapsed 37.44s | Loss: 0.1621 Grad: 29004.7734 LR: 8.5227e-05\n",
                        "Epoch: [4][275/276]Elapsed 41.25s | Loss: 0.1613 Grad: 49365.8945 LR: 8.4242e-05\n"
                    ]
                },
                {
                    "data": {
                        "application/vnd.jupyter.widget-view+json": {
                            "model_id": "1002500b3ef7403d99e9f117713d185a",
                            "version_major": 2,
                            "version_minor": 0
                        },
                        "text/plain": [
                            "Valid:   0%|          | 0/225 [00:00<?, ?batch/s]"
                        ]
                    },
                    "metadata": {},
                    "output_type": "display_data"
                },
                {
                    "name": "stdout",
                    "output_type": "stream",
                    "text": [
                        "Epoch: [4][0/225]Elapsed 0.11s | Loss: 0.3341\n",
                        "Epoch: [4][50/225]Elapsed 4.97s | Loss: 0.3680\n",
                        "Epoch: [4][100/225]Elapsed 9.82s | Loss: 0.3655\n",
                        "Epoch: [4][150/225]Elapsed 14.66s | Loss: 0.3706\n",
                        "Epoch: [4][200/225]Elapsed 19.51s | Loss: 0.3331\n"
                    ]
                },
                {
                    "name": "stderr",
                    "output_type": "stream",
                    "text": [
                        "----------------------------------------------------------------------------------------------------\n",
                        "Epoch 4 - Average Train Loss: 0.1613 | Average Valid Loss: 0.3202 | Time: 63.26s\n"
                    ]
                },
                {
                    "data": {
                        "application/vnd.jupyter.widget-view+json": {
                            "model_id": "e7d2adab2e504bd1b5e3658f3a04af55",
                            "version_major": 2,
                            "version_minor": 0
                        },
                        "text/plain": [
                            "Train:   0%|          | 0/276 [00:00<?, ?batch/s]"
                        ]
                    },
                    "metadata": {},
                    "output_type": "display_data"
                },
                {
                    "name": "stdout",
                    "output_type": "stream",
                    "text": [
                        "Epoch: [5][0/276]Elapsed 0.10s | Loss: 0.2052 Grad: 114942.8828 LR: 8.4242e-05\n",
                        "Epoch: [5][50/276]Elapsed 7.55s | Loss: 0.1584 Grad: 159977.8750 LR: 8.2275e-05\n",
                        "Epoch: [5][100/276]Elapsed 15.06s | Loss: 0.1531 Grad: 92996.0312 LR: 8.0220e-05\n",
                        "Epoch: [5][150/276]Elapsed 22.58s | Loss: 0.1517 Grad: 87903.6641 LR: 7.8080e-05\n",
                        "Epoch: [5][200/276]Elapsed 30.06s | Loss: 0.1497 Grad: 76490.6094 LR: 7.5863e-05\n",
                        "Epoch: [5][250/276]Elapsed 37.52s | Loss: 0.1482 Grad: 94272.1094 LR: 7.3573e-05\n",
                        "Epoch: [5][275/276]Elapsed 41.31s | Loss: 0.1470 Grad: 130012.3203 LR: 7.2357e-05\n"
                    ]
                },
                {
                    "data": {
                        "application/vnd.jupyter.widget-view+json": {
                            "model_id": "f7c73ccb2e464da2ab99d63a40616f27",
                            "version_major": 2,
                            "version_minor": 0
                        },
                        "text/plain": [
                            "Valid:   0%|          | 0/225 [00:00<?, ?batch/s]"
                        ]
                    },
                    "metadata": {},
                    "output_type": "display_data"
                },
                {
                    "name": "stdout",
                    "output_type": "stream",
                    "text": [
                        "Epoch: [5][0/225]Elapsed 0.10s | Loss: 0.3320\n",
                        "Epoch: [5][50/225]Elapsed 4.94s | Loss: 0.3766\n",
                        "Epoch: [5][100/225]Elapsed 9.83s | Loss: 0.3732\n",
                        "Epoch: [5][150/225]Elapsed 14.71s | Loss: 0.3801\n",
                        "Epoch: [5][200/225]Elapsed 19.57s | Loss: 0.3408\n"
                    ]
                },
                {
                    "name": "stderr",
                    "output_type": "stream",
                    "text": [
                        "----------------------------------------------------------------------------------------------------\n",
                        "Epoch 5 - Average Train Loss: 0.1470 | Average Valid Loss: 0.3270 | Time: 63.37s\n"
                    ]
                },
                {
                    "data": {
                        "application/vnd.jupyter.widget-view+json": {
                            "model_id": "48c27bc6b8304d8fa86a2deb0cad053e",
                            "version_major": 2,
                            "version_minor": 0
                        },
                        "text/plain": [
                            "Train:   0%|          | 0/276 [00:00<?, ?batch/s]"
                        ]
                    },
                    "metadata": {},
                    "output_type": "display_data"
                },
                {
                    "name": "stdout",
                    "output_type": "stream",
                    "text": [
                        "Epoch: [6][0/276]Elapsed 0.10s | Loss: 0.1284 Grad: 106348.1250 LR: 7.2357e-05\n",
                        "Epoch: [6][50/276]Elapsed 7.53s | Loss: 0.1407 Grad: 93076.1172 LR: 6.9971e-05\n",
                        "Epoch: [6][100/276]Elapsed 15.01s | Loss: 0.1366 Grad: 55417.1328 LR: 6.7529e-05\n",
                        "Epoch: [6][150/276]Elapsed 22.49s | Loss: 0.1379 Grad: 100059.5703 LR: 6.5039e-05\n",
                        "Epoch: [6][200/276]Elapsed 29.95s | Loss: 0.1370 Grad: 56523.1875 LR: 6.2507e-05\n",
                        "Epoch: [6][250/276]Elapsed 37.41s | Loss: 0.1353 Grad: 77437.1172 LR: 5.9941e-05\n",
                        "Epoch: [6][275/276]Elapsed 41.20s | Loss: 0.1346 Grad: 159898.2812 LR: 5.8595e-05\n"
                    ]
                },
                {
                    "data": {
                        "application/vnd.jupyter.widget-view+json": {
                            "model_id": "1d0b4db7201c4bfaadbbbb93da7830f8",
                            "version_major": 2,
                            "version_minor": 0
                        },
                        "text/plain": [
                            "Valid:   0%|          | 0/225 [00:00<?, ?batch/s]"
                        ]
                    },
                    "metadata": {},
                    "output_type": "display_data"
                },
                {
                    "name": "stdout",
                    "output_type": "stream",
                    "text": [
                        "Epoch: [6][0/225]Elapsed 0.10s | Loss: 0.3241\n",
                        "Epoch: [6][50/225]Elapsed 4.94s | Loss: 0.3623\n",
                        "Epoch: [6][100/225]Elapsed 9.78s | Loss: 0.3599\n",
                        "Epoch: [6][150/225]Elapsed 14.62s | Loss: 0.3651\n",
                        "Epoch: [6][200/225]Elapsed 19.46s | Loss: 0.3297\n"
                    ]
                },
                {
                    "name": "stderr",
                    "output_type": "stream",
                    "text": [
                        "----------------------------------------------------------------------------------------------------\n",
                        "Epoch 6 - Average Train Loss: 0.1346 | Average Valid Loss: 0.3172 | Time: 63.15s\n",
                        "Best model found in epoch 6 | valid loss: 0.3172\n",
                        "====================================================================================================\n",
                        "Fold 4 Valid Loss: \n",
                        "Easy: 0.7334 | Hard: 0.4122\n",
                        "Elapse: 88.86 min \n",
                        "====================================================================================================\n"
                    ]
                },
                {
                    "ename": "IndexError",
                    "evalue": "invalid index of a 0-dim tensor. Use `tensor.item()` in Python or `tensor.item<T>()` in C++ to convert a 0-dim tensor to a number",
                    "output_type": "error",
                    "traceback": [
                        "\u001b[0;31m---------------------------------------------------------------------------\u001b[0m",
                        "\u001b[0;31mIndexError\u001b[0m                                Traceback (most recent call last)",
                        "Cell \u001b[0;32mIn[4], line 1\u001b[0m\n\u001b[0;32m----> 1\u001b[0m \u001b[43mhms_predictor\u001b[49m\u001b[38;5;241;43m.\u001b[39;49m\u001b[43mtrain_folds\u001b[49m\u001b[43m(\u001b[49m\u001b[43mtrain_easy\u001b[49m\u001b[43m,\u001b[49m\u001b[43m \u001b[49m\u001b[43mtrain_hard\u001b[49m\u001b[43m,\u001b[49m\u001b[43m \u001b[49m\u001b[43mall_specs\u001b[49m\u001b[43m,\u001b[49m\u001b[43m \u001b[49m\u001b[43mall_eegs\u001b[49m\u001b[43m)\u001b[49m\n",
                        "File \u001b[0;32m~/kaggle_hms/engine_hms_trainer.py:454\u001b[0m, in \u001b[0;36mHMSPredictor.train_folds\u001b[0;34m(self, train_easy, train_hard, all_specs, all_eegs)\u001b[0m\n\u001b[1;32m    452\u001b[0m \u001b[38;5;28;01mfor\u001b[39;00m i, oof_df \u001b[38;5;129;01min\u001b[39;00m \u001b[38;5;28menumerate\u001b[39m([oof_df1, oof_df2]):\n\u001b[1;32m    453\u001b[0m     cv_results \u001b[38;5;241m=\u001b[39m evaluate_oof(oof_df)\n\u001b[0;32m--> 454\u001b[0m     info \u001b[38;5;241m+\u001b[39m\u001b[38;5;241m=\u001b[39m \u001b[38;5;124mf\u001b[39m\u001b[38;5;124m\"\u001b[39m\u001b[38;5;124mCV Result (Stage=\u001b[39m\u001b[38;5;132;01m{\u001b[39;00mi\u001b[38;5;241m+\u001b[39m\u001b[38;5;241m1\u001b[39m\u001b[38;5;132;01m}\u001b[39;00m\u001b[38;5;124m): \u001b[39m\u001b[38;5;132;01m{\u001b[39;00m\u001b[43mcv_results\u001b[49m\u001b[43m[\u001b[49m\u001b[38;5;241;43m0\u001b[39;49m\u001b[43m]\u001b[49m\u001b[38;5;132;01m}\u001b[39;00m\u001b[38;5;124m (torch) | \u001b[39m\u001b[38;5;132;01m{\u001b[39;00mcv_results[\u001b[38;5;241m1\u001b[39m]\u001b[38;5;132;01m}\u001b[39;00m\u001b[38;5;124m (kaggle)\u001b[39m\u001b[38;5;130;01m\\n\u001b[39;00m\u001b[38;5;124m\"\u001b[39m\n\u001b[1;32m    456\u001b[0m info \u001b[38;5;241m+\u001b[39m\u001b[38;5;241m=\u001b[39m \u001b[38;5;124mf\u001b[39m\u001b[38;5;124m\"\u001b[39m\u001b[38;5;124mElapse: \u001b[39m\u001b[38;5;132;01m{\u001b[39;00m(time()\u001b[38;5;241m-\u001b[39mtik_total)\u001b[38;5;250m \u001b[39m\u001b[38;5;241m/\u001b[39m\u001b[38;5;250m \u001b[39m\u001b[38;5;241m60\u001b[39m\u001b[38;5;132;01m:\u001b[39;00m\u001b[38;5;124m.2f\u001b[39m\u001b[38;5;132;01m}\u001b[39;00m\u001b[38;5;124m min \u001b[39m\u001b[38;5;130;01m\\n\u001b[39;00m\u001b[38;5;132;01m{\u001b[39;00m\u001b[38;5;124m'\u001b[39m\u001b[38;5;124m=\u001b[39m\u001b[38;5;124m'\u001b[39m\u001b[38;5;241m*\u001b[39m\u001b[38;5;241m100\u001b[39m\u001b[38;5;132;01m}\u001b[39;00m\u001b[38;5;124m\"\u001b[39m\n\u001b[1;32m    457\u001b[0m \u001b[38;5;28mself\u001b[39m\u001b[38;5;241m.\u001b[39mlogger\u001b[38;5;241m.\u001b[39minfo(info)\n",
                        "\u001b[0;31mIndexError\u001b[0m: invalid index of a 0-dim tensor. Use `tensor.item()` in Python or `tensor.item<T>()` in C++ to convert a 0-dim tensor to a number"
                    ]
                }
            ],
            "source": [
                "hms_predictor.train_folds(train_easy, train_hard, all_specs, all_eegs)"
            ]
        },
        {
            "cell_type": "code",
            "execution_count": null,
            "metadata": {},
            "outputs": [],
            "source": [
                "dataset = CustomDataset(train_easy, TARGETS, ModelConfig, all_specs, all_eegs, mode='test')\n",
                "\n",
                "X, y = dataset[0]\n",
                "print(X.shape, y.shape)\n",
                "\n",
                "model = CustomModel(ModelConfig, num_classes=6, pretrained=True)\n",
                "y_pred = model(X.unsqueeze(0))\n",
                "\n",
                "print(y_pred.shape)"
            ]
        },
        {
            "cell_type": "code",
            "execution_count": null,
            "metadata": {},
            "outputs": [],
            "source": [
                "from kl_divergence import score as kl_score\n",
                "\n",
                "\n",
                "def calc_kl_div(p, q, criterion):\n",
                "    \n",
                "    p = torch.tensor(p.astype(np.float32)).unsqueeze(0)\n",
                "    q = torch.tensor(q.astype(np.float32)).unsqueeze(0)\n",
                "    return criterion(F.log_softmax(p, dim=1), q).item()\n",
                "\n",
                "def calc_kaggle_score(solution, submission):\n",
                "    solution = solution.to_frame().T\n",
                "    solution[TARGETS] = solution[TARGETS].astype(np.float32)\n",
                "    submission = submission.to_frame().T\n",
                "    submission.columns = ['eeg_id'] + TARGETS\n",
                "    submission[TARGETS] = submission[TARGETS].astype(np.float32)\n",
                "    \n",
                "    return kl_score(solution, submission, 'eeg_id')"
            ]
        },
        {
            "cell_type": "code",
            "execution_count": null,
            "metadata": {},
            "outputs": [],
            "source": [
                "def evaluate_oof(oof_csv_path):\n",
                "    oof_df = pd.read_csv(oof_csv_path)\n",
                "    softmax = nn.Softmax(dim=1)\n",
                "    criterion = nn.KLDivLoss(reduction=\"batchmean\")\n",
                "\n",
                "    oof_df[\"kl_loss\"] = oof_df.apply(lambda row: \n",
                "        calc_kl_div(row[TARGETS_PRED].values, row[TARGETS].values, criterion), axis=1\n",
                "        )\n",
                "\n",
                "    kl_loss_all = criterion(\n",
                "        F.log_softmax(torch.tensor(oof_df[TARGETS_PRED].values.astype(np.float32)), dim=1),\n",
                "        torch.tensor(oof_df[TARGETS].values.astype(np.float32)),\n",
                "        )\n",
                "\n",
                "    print(f\"KL Loss All: {kl_loss_all}\")\n",
                "    print(f\"KL Loss Mean: {oof_df['kl_loss'].mean()}\")\n",
                "\n",
                "    y_pred = oof_df[TARGETS].values.astype(np.float32)\n",
                "    oof_df[TARGETS_PRED] = softmax(torch.tensor(y_pred)).numpy()\n",
                "\n",
                "    solution = oof_df[['eeg_id'] + TARGETS].copy()\n",
                "    submission = oof_df[['eeg_id'] + TARGETS_PRED].copy()\n",
                "    submission.columns = ['eeg_id'] + TARGETS\n",
                "\n",
                "    kaggle_score_all = kl_score(solution, submission, 'eeg_id')\n",
                "    \n",
                "    oof_df['kaggle_score'] = oof_df.apply(lambda row:\n",
                "        calc_kaggle_score(row[['eeg_id'] + TARGETS], row[['eeg_id'] + TARGETS_PRED]), axis=1\n",
                "        )\n",
                "\n",
                "    print(f\"Kaggle Score All: {kaggle_score_all}\")\n",
                "    print(f\"Kaggle Score Mean: {oof_df['kaggle_score'].mean()}\")\n",
                "\n",
                "    return oof_df, kl_loss_all, kaggle_score_all\n"
            ]
        },
        {
            "cell_type": "code",
            "execution_count": null,
            "metadata": {},
            "outputs": [],
            "source": [
                "oof_1, kl_loss_all, kaggle_score_all = evaluate_oof(f\"{JobConfig.OUTPUT_DIR}/oof_1.csv\")\n",
                "oof_2, kl_loss_all, kaggle_score_all = evaluate_oof(f\"{JobConfig.OUTPUT_DIR}/oof_2.csv\")"
            ]
        },
        {
            "cell_type": "code",
            "execution_count": null,
            "metadata": {},
            "outputs": [],
            "source": [
                "fig, axes = plt.subplots(4, 4, figsize=(10, 10), sharex=True, sharey=True)\n",
                "\n",
                "# rows = oof_df.iloc[-len(axes.ravel()):, :]\n",
                "rows = oof_1.sample(len(axes.ravel()))\n",
                "\n",
                "for i, (idx, row) in enumerate(rows.iterrows()):\n",
                "\n",
                "    ax = axes.ravel()[i]\n",
                "    ax.plot(row[TARGETS].values, label='True')\n",
                "    ax.plot(row[TARGETS_PRED].values, label='Pred')\n",
                "    ax.set_title(f\"{idx} | {row['target']} | KL: {row['kl_loss']:.4f}\")\n",
                "    ax.set_xticks(range(6))\n",
                "    ax.set_xticklabels(BRAIN_ACTIVITY)\n",
                "    ax.grid(True)\n",
                "    ax.legend()\n",
                "\n",
                "fig.tight_layout()\n",
                "fig.savefig(f\"{JobConfig.OUTPUT_DIR}/oof_examples_1.png\")\n",
                "plt.show()"
            ]
        },
        {
            "cell_type": "code",
            "execution_count": null,
            "metadata": {},
            "outputs": [],
            "source": [
                "fig, axes = plt.subplots(4, 4, figsize=(10, 10), sharex=True, sharey=True)\n",
                "\n",
                "# rows = oof_2.iloc[5:5+len(axes.ravel()), :]\n",
                "rows = oof_2.sample(len(axes.ravel()))\n",
                "\n",
                "for i, (idx, row) in enumerate(rows.iterrows()):\n",
                "\n",
                "    ax = axes.ravel()[i]\n",
                "    y_true = row[TARGETS].values\n",
                "    y_pred = row[TARGETS_PRED].values\n",
                "    y_norm = (y_true - y_true.min()) / (y_true.max() - y_true.min())\n",
                "\n",
                "    ax.plot(row[TARGETS].values, label='True')\n",
                "    ax.plot(row[TARGETS_PRED].values, label='Pred')\n",
                "    ax.plot(y_norm, \"b:\", label='True Norm')\n",
                "\n",
                "    ax.set_title(f\"{idx} | {row['target']} | KL: {row['kl_loss']:.4f}\")\n",
                "    ax.set_xticks(range(6))\n",
                "    ax.set_xticklabels(BRAIN_ACTIVITY)\n",
                "    ax.grid(True)\n",
                "    ax.legend()\n",
                "\n",
                "fig.tight_layout()\n",
                "fig.savefig(f\"{JobConfig.OUTPUT_DIR}/oof_examples_2.png\")\n",
                "plt.show()"
            ]
        },
        {
            "cell_type": "code",
            "execution_count": null,
            "metadata": {},
            "outputs": [],
            "source": [
                "row = oof_2.loc[6]\n",
                "\n",
                "min_pred = row[TARGETS_PRED].min()\n",
                "max_pred = row[TARGETS_PRED].max()\n",
                "print(min_pred, max_pred)\n",
                "\n",
                "print(row[TARGETS_PRED])\n",
                "\n",
                "targets_norm = (row[TARGETS] - row[TARGETS].min()) / (row[TARGETS].max() - row[TARGETS].min())\n",
                "\n",
                "targets_norm = targets_norm / targets_norm.sum()\n",
                "\n",
                "print(targets_norm)"
            ]
        },
        {
            "cell_type": "code",
            "execution_count": null,
            "metadata": {},
            "outputs": [],
            "source": []
        },
        {
            "cell_type": "code",
            "execution_count": null,
            "metadata": {},
            "outputs": [],
            "source": []
        }
    ],
    "metadata": {
        "kernelspec": {
            "display_name": "kaggle",
            "language": "python",
            "name": "python3"
        },
        "language_info": {
            "codemirror_mode": {
                "name": "ipython",
                "version": 3
            },
            "file_extension": ".py",
            "mimetype": "text/x-python",
            "name": "python",
            "nbconvert_exporter": "python",
            "pygments_lexer": "ipython3",
            "version": "3.11.6"
        }
    },
    "nbformat": 4,
    "nbformat_minor": 2
}
