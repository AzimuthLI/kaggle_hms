{
    "cells": [
        {
            "cell_type": "code",
            "execution_count": 1,
            "metadata": {},
            "outputs": [
                {
                    "name": "stderr",
                    "output_type": "stream",
                    "text": [
                        "/home/shiyi/miniconda3/envs/kaggle/lib/python3.11/site-packages/transformers/utils/generic.py:441: UserWarning: torch.utils._pytree._register_pytree_node is deprecated. Please use torch.utils._pytree.register_pytree_node instead.\n",
                        "  _torch_pytree._register_pytree_node(\n",
                        "/home/shiyi/miniconda3/envs/kaggle/lib/python3.11/site-packages/transformers/utils/generic.py:309: UserWarning: torch.utils._pytree._register_pytree_node is deprecated. Please use torch.utils._pytree.register_pytree_node instead.\n",
                        "  _torch_pytree._register_pytree_node(\n"
                    ]
                }
            ],
            "source": [
                "import os\n",
                "import pandas as pd \n",
                "import numpy as np \n",
                "import matplotlib.pyplot as plt\n",
                "from sklearn.metrics import confusion_matrix\n",
                "import seaborn as sns\n",
                "import gc\n",
                "\n",
                "from kl_divergence import score as kaggle_score \n",
                "from engine_hms_trainer import (\n",
                "    seed_everything, gen_non_overlap_samples, calc_entropy, evaluate_oof, get_logger, \n",
                "    Trainer, TARGETS, TARGETS_PRED, BRAIN_ACTIVITY\n",
                "    )\n",
                "from engine_hms_model import (\n",
                "    KagglePaths, LocalPaths, ModelConfig, CustomDataset, CustomEfficientNET, CustomVITMAE, DualEncoderModel, \n",
                ")\n",
                "\n",
                "import torch\n",
                "from torch import nn\n",
                "import torch.nn.functional as F\n",
                "from torch.utils.data import DataLoader, Dataset\n",
                "\n",
                "from time import ctime, time\n",
                "from sklearn.model_selection import KFold\n",
                "\n",
                "import warnings\n",
                "# warnings.filterwarnings('ignore')\n",
                "\n",
                "pd.set_option('display.max_columns', None)"
            ]
        },
        {
            "cell_type": "code",
            "execution_count": 2,
            "metadata": {},
            "outputs": [
                {
                    "name": "stdout",
                    "output_type": "stream",
                    "text": [
                        "Output Dir:  ./outputs/\n"
                    ]
                }
            ],
            "source": [
                "PATHS = KagglePaths if os.path.exists(KagglePaths.OUTPUT_DIR) else LocalPaths\n",
                "print(\"Output Dir: \", PATHS.OUTPUT_DIR)\n",
                "\n",
                "ALL_SPECS = np.load(PATHS.PRE_LOADED_SPECTROGRAMS, allow_pickle=True).item()\n",
                "ALL_EEGS = np.load(PATHS.PRE_LOADED_EEGS, allow_pickle=True).item()\n",
                "\n",
                "seed_everything(ModelConfig.SEED)"
            ]
        },
        {
            "cell_type": "code",
            "execution_count": 3,
            "metadata": {},
            "outputs": [],
            "source": [
                "def prepare_k_fold(df, k_folds=5):\n",
                "\n",
                "    kf = KFold(n_splits=k_folds, shuffle=True, random_state=ModelConfig.SEED)\n",
                "    unique_spec_id = df['spectrogram_id'].unique()\n",
                "    df['fold'] = k_folds\n",
                "\n",
                "    for fold, (train_index, valid_index) in enumerate(kf.split(unique_spec_id)):\n",
                "        df.loc[df['spectrogram_id'].isin(unique_spec_id[valid_index]), 'fold'] = fold\n",
                "\n",
                "    return df\n",
                "\n",
                "\n",
                "def train_fold(model, fold_id, train_folds, valid_folds, logger, stage=1, checkpoint=None):\n",
                "\n",
                "    train_dataset = CustomDataset(\n",
                "        train_folds, TARGETS, ModelConfig, ALL_SPECS, ALL_EEGS, mode=\"train\")\n",
                "\n",
                "    valid_dataset = CustomDataset(\n",
                "        valid_folds, TARGETS, ModelConfig, ALL_SPECS, ALL_EEGS, mode=\"valid\")\n",
                "\n",
                "    # ======== DATALOADERS ==========\n",
                "    loader_kwargs = {\n",
                "        \"batch_size\": ModelConfig.BATCH_SIZE,\n",
                "        \"num_workers\": ModelConfig.NUM_WORKERS,\n",
                "        \"pin_memory\": True,\n",
                "        \"shuffle\": False,\n",
                "    }\n",
                "    train_loader = DataLoader(train_dataset, drop_last=True, **loader_kwargs)\n",
                "    valid_loader = DataLoader(valid_dataset, drop_last=False, **loader_kwargs)\n",
                "\n",
                "    trainer = Trainer(model, ModelConfig, logger)\n",
                "    best_weights, best_preds, loss_records = trainer.train(\n",
                "        train_loader, valid_loader, from_checkpoint=checkpoint)\n",
                "\n",
                "    save_model_name = f\"{ModelConfig.MODEL_NAME}_fold_{fold_id}_stage_{stage}.pth\"\n",
                "    torch.save(best_weights, os.path.join(PATHS.OUTPUT_DIR, save_model_name))\n",
                "\n",
                "    del train_dataset, valid_dataset, train_loader, valid_loader\n",
                "    torch.cuda.empty_cache()\n",
                "    gc.collect()\n",
                "\n",
                "    return best_preds, loss_records\n",
                "\n",
                "def get_model(pretrained=True):\n",
                "    backbone = ModelConfig.MODEL_BACKBONE\n",
                "\n",
                "    if \"efficientnet\" in backbone:\n",
                "        return CustomEfficientNET(ModelConfig, num_classes=6, pretrained=pretrained)\n",
                "    elif \"vit\" in backbone:\n",
                "        return CustomVITMAE(ModelConfig, num_classes=6, pretrained=pretrained)\n",
                "    elif \"dual\" in backbone:\n",
                "        return DualEncoderModel(ModelConfig, num_classes=6, pretrained=pretrained)\n",
                "    else:\n",
                "        return None"
            ]
        },
        {
            "cell_type": "code",
            "execution_count": 4,
            "metadata": {},
            "outputs": [],
            "source": [
                "TARGET2ID = {'Seizure': 0, 'LPD': 1, 'GPD': 2, 'LRDA': 3, 'GRDA': 4, 'Other': 5}\n",
                "\n",
                "def calc_kaggle_score(oof_df):\n",
                "    submission_df = oof_df[['eeg_id']+TARGETS_PRED].copy()\n",
                "    submission_df.columns = ['eeg_id'] + TARGETS\n",
                "    solution_df = oof_df[['eeg_id']+TARGETS].copy()\n",
                "    return kaggle_score(solution_df, submission_df, 'eeg_id')\n",
                "\n",
                "def analyze_oof(oof_csv):\n",
                "\n",
                "    kl_criteria = nn.KLDivLoss(reduction='batchmean')\n",
                "    softmax = nn.Softmax(dim=1)\n",
                "\n",
                "    oof_df = pd.read_csv(oof_csv)\n",
                "    oof_df['target_pred'] = oof_df[TARGETS_PRED].apply(lambda x: np.argmax(x), axis=1)\n",
                "    oof_df['target_id'] = oof_df[TARGETS].apply(lambda x: np.argmax(x), axis=1)\n",
                "    \n",
                "    oof_df[\"kl_loss\"] = oof_df.apply(\n",
                "    lambda row: \n",
                "        kl_criteria(\n",
                "            F.log_softmax(\n",
                "                    torch.tensor(row[TARGETS_PRED].values.astype(np.float32)).unsqueeze(0)\n",
                "                , dim=1\n",
                "                ), \n",
                "            torch.tensor(row[TARGETS].values.astype(np.float32))\n",
                "            ).numpy(),\n",
                "    axis=1)\n",
                "\n",
                "    oof_df[\"kl_loss\"] = oof_df['kl_loss'].astype(np.float32)\n",
                "\n",
                "    oof_df[TARGETS_PRED] = softmax( torch.tensor(oof_df[TARGETS_PRED].values.astype(np.float32)) )\n",
                "\n",
                "    oof_df.head()\n",
                "\n",
                "    return oof_df"
            ]
        },
        {
            "cell_type": "code",
            "execution_count": 5,
            "metadata": {},
            "outputs": [
                {
                    "name": "stdout",
                    "output_type": "stream",
                    "text": [
                        "targets:  ['seizure_vote', 'lpd_vote', 'gpd_vote', 'lrda_vote', 'grda_vote', 'other_vote']\n",
                        "train_all.shape =  (20183, 12)\n",
                        "train_all nan_count:  0\n"
                    ]
                },
                {
                    "data": {
                        "text/html": [
                            "<div>\n",
                            "<style scoped>\n",
                            "    .dataframe tbody tr th:only-of-type {\n",
                            "        vertical-align: middle;\n",
                            "    }\n",
                            "\n",
                            "    .dataframe tbody tr th {\n",
                            "        vertical-align: top;\n",
                            "    }\n",
                            "\n",
                            "    .dataframe thead th {\n",
                            "        text-align: right;\n",
                            "    }\n",
                            "</style>\n",
                            "<table border=\"1\" class=\"dataframe\">\n",
                            "  <thead>\n",
                            "    <tr style=\"text-align: right;\">\n",
                            "      <th></th>\n",
                            "      <th>eeg_id</th>\n",
                            "      <th>seizure_vote</th>\n",
                            "      <th>lpd_vote</th>\n",
                            "      <th>gpd_vote</th>\n",
                            "      <th>lrda_vote</th>\n",
                            "      <th>grda_vote</th>\n",
                            "      <th>other_vote</th>\n",
                            "      <th>spectrogram_id</th>\n",
                            "      <th>min</th>\n",
                            "      <th>max</th>\n",
                            "      <th>patient_id</th>\n",
                            "      <th>target</th>\n",
                            "    </tr>\n",
                            "  </thead>\n",
                            "  <tbody>\n",
                            "    <tr>\n",
                            "      <th>0</th>\n",
                            "      <td>568657</td>\n",
                            "      <td>0.0</td>\n",
                            "      <td>0.000000</td>\n",
                            "      <td>0.25</td>\n",
                            "      <td>0.000000</td>\n",
                            "      <td>0.166667</td>\n",
                            "      <td>0.583333</td>\n",
                            "      <td>789577333</td>\n",
                            "      <td>0.0</td>\n",
                            "      <td>16.0</td>\n",
                            "      <td>20654</td>\n",
                            "      <td>Other</td>\n",
                            "    </tr>\n",
                            "    <tr>\n",
                            "      <th>1</th>\n",
                            "      <td>582999</td>\n",
                            "      <td>0.0</td>\n",
                            "      <td>0.857143</td>\n",
                            "      <td>0.00</td>\n",
                            "      <td>0.071429</td>\n",
                            "      <td>0.000000</td>\n",
                            "      <td>0.071429</td>\n",
                            "      <td>1552638400</td>\n",
                            "      <td>0.0</td>\n",
                            "      <td>38.0</td>\n",
                            "      <td>20230</td>\n",
                            "      <td>LPD</td>\n",
                            "    </tr>\n",
                            "    <tr>\n",
                            "      <th>2</th>\n",
                            "      <td>642382</td>\n",
                            "      <td>0.0</td>\n",
                            "      <td>0.000000</td>\n",
                            "      <td>0.00</td>\n",
                            "      <td>0.000000</td>\n",
                            "      <td>0.000000</td>\n",
                            "      <td>1.000000</td>\n",
                            "      <td>14960202</td>\n",
                            "      <td>1008.0</td>\n",
                            "      <td>1032.0</td>\n",
                            "      <td>5955</td>\n",
                            "      <td>Other</td>\n",
                            "    </tr>\n",
                            "    <tr>\n",
                            "      <th>3</th>\n",
                            "      <td>751790</td>\n",
                            "      <td>0.0</td>\n",
                            "      <td>0.000000</td>\n",
                            "      <td>1.00</td>\n",
                            "      <td>0.000000</td>\n",
                            "      <td>0.000000</td>\n",
                            "      <td>0.000000</td>\n",
                            "      <td>618728447</td>\n",
                            "      <td>908.0</td>\n",
                            "      <td>908.0</td>\n",
                            "      <td>38549</td>\n",
                            "      <td>GPD</td>\n",
                            "    </tr>\n",
                            "    <tr>\n",
                            "      <th>4</th>\n",
                            "      <td>778705</td>\n",
                            "      <td>0.0</td>\n",
                            "      <td>0.000000</td>\n",
                            "      <td>0.00</td>\n",
                            "      <td>0.000000</td>\n",
                            "      <td>0.000000</td>\n",
                            "      <td>1.000000</td>\n",
                            "      <td>52296320</td>\n",
                            "      <td>0.0</td>\n",
                            "      <td>0.0</td>\n",
                            "      <td>40955</td>\n",
                            "      <td>Other</td>\n",
                            "    </tr>\n",
                            "  </tbody>\n",
                            "</table>\n",
                            "</div>"
                        ],
                        "text/plain": [
                            "   eeg_id  seizure_vote  lpd_vote  gpd_vote  lrda_vote  grda_vote  other_vote  \\\n",
                            "0  568657           0.0  0.000000      0.25   0.000000   0.166667    0.583333   \n",
                            "1  582999           0.0  0.857143      0.00   0.071429   0.000000    0.071429   \n",
                            "2  642382           0.0  0.000000      0.00   0.000000   0.000000    1.000000   \n",
                            "3  751790           0.0  0.000000      1.00   0.000000   0.000000    0.000000   \n",
                            "4  778705           0.0  0.000000      0.00   0.000000   0.000000    1.000000   \n",
                            "\n",
                            "   spectrogram_id     min     max  patient_id target  \n",
                            "0       789577333     0.0    16.0       20654  Other  \n",
                            "1      1552638400     0.0    38.0       20230    LPD  \n",
                            "2        14960202  1008.0  1032.0        5955  Other  \n",
                            "3       618728447   908.0   908.0       38549    GPD  \n",
                            "4        52296320     0.0     0.0       40955  Other  "
                        ]
                    },
                    "metadata": {},
                    "output_type": "display_data"
                },
                {
                    "name": "stdout",
                    "output_type": "stream",
                    "text": [
                        " \n",
                        "train_hard.shape =  (6187, 12)\n",
                        "train_hard nan_count:  0\n"
                    ]
                },
                {
                    "data": {
                        "text/html": [
                            "<div>\n",
                            "<style scoped>\n",
                            "    .dataframe tbody tr th:only-of-type {\n",
                            "        vertical-align: middle;\n",
                            "    }\n",
                            "\n",
                            "    .dataframe tbody tr th {\n",
                            "        vertical-align: top;\n",
                            "    }\n",
                            "\n",
                            "    .dataframe thead th {\n",
                            "        text-align: right;\n",
                            "    }\n",
                            "</style>\n",
                            "<table border=\"1\" class=\"dataframe\">\n",
                            "  <thead>\n",
                            "    <tr style=\"text-align: right;\">\n",
                            "      <th></th>\n",
                            "      <th>eeg_id</th>\n",
                            "      <th>seizure_vote</th>\n",
                            "      <th>lpd_vote</th>\n",
                            "      <th>gpd_vote</th>\n",
                            "      <th>lrda_vote</th>\n",
                            "      <th>grda_vote</th>\n",
                            "      <th>other_vote</th>\n",
                            "      <th>spectrogram_id</th>\n",
                            "      <th>min</th>\n",
                            "      <th>max</th>\n",
                            "      <th>patient_id</th>\n",
                            "      <th>target</th>\n",
                            "    </tr>\n",
                            "  </thead>\n",
                            "  <tbody>\n",
                            "    <tr>\n",
                            "      <th>0</th>\n",
                            "      <td>568657</td>\n",
                            "      <td>0.000000</td>\n",
                            "      <td>0.000000</td>\n",
                            "      <td>0.250000</td>\n",
                            "      <td>0.000000</td>\n",
                            "      <td>0.166667</td>\n",
                            "      <td>0.583333</td>\n",
                            "      <td>789577333</td>\n",
                            "      <td>0.0</td>\n",
                            "      <td>16.0</td>\n",
                            "      <td>20654</td>\n",
                            "      <td>Other</td>\n",
                            "    </tr>\n",
                            "    <tr>\n",
                            "      <th>1</th>\n",
                            "      <td>582999</td>\n",
                            "      <td>0.000000</td>\n",
                            "      <td>0.857143</td>\n",
                            "      <td>0.000000</td>\n",
                            "      <td>0.071429</td>\n",
                            "      <td>0.000000</td>\n",
                            "      <td>0.071429</td>\n",
                            "      <td>1552638400</td>\n",
                            "      <td>0.0</td>\n",
                            "      <td>38.0</td>\n",
                            "      <td>20230</td>\n",
                            "      <td>LPD</td>\n",
                            "    </tr>\n",
                            "    <tr>\n",
                            "      <th>2</th>\n",
                            "      <td>1895581</td>\n",
                            "      <td>0.076923</td>\n",
                            "      <td>0.000000</td>\n",
                            "      <td>0.000000</td>\n",
                            "      <td>0.000000</td>\n",
                            "      <td>0.076923</td>\n",
                            "      <td>0.846154</td>\n",
                            "      <td>128369999</td>\n",
                            "      <td>1138.0</td>\n",
                            "      <td>1138.0</td>\n",
                            "      <td>47999</td>\n",
                            "      <td>Other</td>\n",
                            "    </tr>\n",
                            "    <tr>\n",
                            "      <th>3</th>\n",
                            "      <td>2482631</td>\n",
                            "      <td>0.000000</td>\n",
                            "      <td>0.000000</td>\n",
                            "      <td>0.133333</td>\n",
                            "      <td>0.066667</td>\n",
                            "      <td>0.133333</td>\n",
                            "      <td>0.666667</td>\n",
                            "      <td>978166025</td>\n",
                            "      <td>1902.0</td>\n",
                            "      <td>1944.0</td>\n",
                            "      <td>20606</td>\n",
                            "      <td>Other</td>\n",
                            "    </tr>\n",
                            "    <tr>\n",
                            "      <th>4</th>\n",
                            "      <td>2521897</td>\n",
                            "      <td>0.000000</td>\n",
                            "      <td>0.000000</td>\n",
                            "      <td>0.083333</td>\n",
                            "      <td>0.083333</td>\n",
                            "      <td>0.333333</td>\n",
                            "      <td>0.500000</td>\n",
                            "      <td>673742515</td>\n",
                            "      <td>0.0</td>\n",
                            "      <td>4.0</td>\n",
                            "      <td>62117</td>\n",
                            "      <td>Other</td>\n",
                            "    </tr>\n",
                            "  </tbody>\n",
                            "</table>\n",
                            "</div>"
                        ],
                        "text/plain": [
                            "    eeg_id  seizure_vote  lpd_vote  gpd_vote  lrda_vote  grda_vote  \\\n",
                            "0   568657      0.000000  0.000000  0.250000   0.000000   0.166667   \n",
                            "1   582999      0.000000  0.857143  0.000000   0.071429   0.000000   \n",
                            "2  1895581      0.076923  0.000000  0.000000   0.000000   0.076923   \n",
                            "3  2482631      0.000000  0.000000  0.133333   0.066667   0.133333   \n",
                            "4  2521897      0.000000  0.000000  0.083333   0.083333   0.333333   \n",
                            "\n",
                            "   other_vote  spectrogram_id     min     max  patient_id target  \n",
                            "0    0.583333       789577333     0.0    16.0       20654  Other  \n",
                            "1    0.071429      1552638400     0.0    38.0       20230    LPD  \n",
                            "2    0.846154       128369999  1138.0  1138.0       47999  Other  \n",
                            "3    0.666667       978166025  1902.0  1944.0       20606  Other  \n",
                            "4    0.500000       673742515     0.0     4.0       62117  Other  "
                        ]
                    },
                    "metadata": {},
                    "output_type": "display_data"
                }
            ],
            "source": [
                "# train_easy, train_hard, all_specs, all_eegs = load_kaggle_data(\n",
                "#     paths.TRAIN_CSV, paths.PRE_LOADED_SPECTOGRAMS, paths.PRE_LOADED_EEGS, split_entropy=ModelConfig.SPLIT_ENTROPY)\n",
                "\n",
                "train_csv = pd.read_csv(PATHS.TRAIN_CSV)\n",
                "targets = train_csv.columns[-6:]\n",
                "\n",
                "print(\"targets: \", targets.to_list())\n",
                "\n",
                "train_csv['entropy'] = train_csv.apply(calc_entropy, axis=1, tgt_list=targets)\n",
                "train_csv['total_votes'] = train_csv[targets].sum(axis=1)\n",
                "\n",
                "hard_csv = train_csv[train_csv['entropy'] < ModelConfig.SPLIT_ENTROPY].copy().reset_index(drop=True)\n",
                "\n",
                "train_all = gen_non_overlap_samples(train_csv, targets)\n",
                "train_hard = gen_non_overlap_samples(hard_csv, targets)\n",
                "\n",
                "print(\"train_all.shape = \", train_all.shape)\n",
                "print(\"train_all nan_count: \", train_all.isnull().sum().sum())\n",
                "display(train_all.head())\n",
                "\n",
                "print(\" \")\n",
                "\n",
                "print(\"train_hard.shape = \", train_hard.shape)\n",
                "print(\"train_hard nan_count: \", train_hard.isnull().sum().sum())\n",
                "display(train_hard.head())"
            ]
        },
        {
            "cell_type": "code",
            "execution_count": 6,
            "metadata": {},
            "outputs": [],
            "source": [
                "# # EfficientNet_B2_resplit (CV=0.5330731377333943)\n",
                "# ModelConfig.EPOCHS = 6\n",
                "# ModelConfig.BATCH_SIZE = 16\n",
                "# ModelConfig.GRADIENT_ACCUMULATION_STEPS = 1\n",
                "# ModelConfig.MODEL_BACKBONE = 'tf_efficientnet_b2'\n",
                "# ModelConfig.MODEL_NAME = \"EfficientNet_B2_resplit\"\n",
                "# ModelConfig.USE_KAGGLE_SPECTROGRAMS = True\n",
                "# ModelConfig.USE_EEG_SPECTROGRAMS = True\n",
                "# ModelConfig.REGULARIZATION = None\n",
                "# ModelConfig.AUGMENT = True\n",
                "# ModelConfig.AUGMENTATIONS = ['xy_masking']\n",
                "\n",
                "# config DualEncoder\n",
                "ModelConfig.EPOCHS = 6\n",
                "ModelConfig.BATCH_SIZE = 16\n",
                "ModelConfig.GRADIENT_ACCUMULATION_STEPS = 1\n",
                "ModelConfig.MODEL_BACKBONE = 'dual_encoder'\n",
                "ModelConfig.MODEL_NAME = \"DualEncoder_B0\"\n",
                "ModelConfig.USE_KAGGLE_SPECTROGRAMS = True\n",
                "ModelConfig.USE_EEG_SPECTROGRAMS = True\n",
                "ModelConfig.REGULARIZATION = None\n",
                "ModelConfig.AUGMENT = False\n",
                "ModelConfig.AUGMENTATIONS = []\n",
                "ModelConfig.DUAL_ENCODER_BACKBONE = 'tf_efficientnet_b0'\n",
                "\n",
                "# # Config ViTMAE\n",
                "# ModelConfig.EPOCHS = 6\n",
                "# ModelConfig.MODEL_BACKBONE = 'vit_mae_base'\n",
                "# ModelConfig.MODEL_NAME = \"ViTMAE_base_mlp_dropout_020\"\n",
                "# ModelConfig.AUGMENT = True\n",
                "# ModelConfig.USE_KAGGLE_SPECTROGRAMS = True\n",
                "# ModelConfig.USE_EEG_SPECTROGRAMS = True\n",
                "# ModelConfig.REGULARIZATION = None\n",
                "# ModelConfig.AUGMENTATIONS = ['xy_masking']\n",
                "# ModelConfig.MAE_PRETRAINED_WEIGHTS = \"./outputs/vit_mae_pretraining/ViTMAE_PreTrained_Best.pth\"\n",
                "# ModelConfig.MAE_HIDDEN_DROPOUT_PROB = 0.1\n",
                "# ModelConfig.MAE_ATTENTION_DROPOUT_PROB = 0.1\n",
                "# ModelConfig.DROP_RATE = 0.2\n"
            ]
        },
        {
            "cell_type": "code",
            "execution_count": 7,
            "metadata": {},
            "outputs": [
                {
                    "name": "stderr",
                    "output_type": "stream",
                    "text": [
                        "****************************************************************************************************\n",
                        "Script Start: Sat Mar 23 18:00:44 2024\n",
                        "Model Configurations:\n",
                        "SEED: 20\n",
                        "SPLIT_ENTROPY: 5.5\n",
                        "MODEL_NAME: DualEncoder_B0\n",
                        "MODEL_BACKBONE: dual_encoder\n",
                        "BATCH_SIZE: 16\n",
                        "EPOCHS: 6\n",
                        "GRADIENT_ACCUMULATION_STEPS: 1\n",
                        "DROP_RATE: 0.15\n",
                        "DROP_PATH_RATE: 0.25\n",
                        "WEIGHT_DECAY: 0.01\n",
                        "REGULARIZATION: None\n",
                        "USE_KAGGLE_SPECTROGRAMS: True\n",
                        "USE_EEG_SPECTROGRAMS: True\n",
                        "AMP: True\n",
                        "AUGMENT: False\n",
                        "AUGMENTATIONS: []\n",
                        "PRINT_FREQ: 50\n",
                        "FREEZE: False\n",
                        "NUM_FROZEN_LAYERS: 0\n",
                        "NUM_WORKERS: 0\n",
                        "MAX_GRAD_NORM: 10000000.0\n",
                        "DUAL_ENCODER_BACKBONE: tf_efficientnet_b0\n",
                        "MAE_PRETRAINED_WEIGHTS: facebook/vit-mae-base\n",
                        "MAE_HIDDEN_DROPOUT_PROB: 0.05\n",
                        "MAE_ATTENTION_DROPOUT_PROB: 0.05\n",
                        "****************************************************************************************************\n",
                        "====================================================================================================\n",
                        "Fold: 0 || Valid size 3988 \n",
                        "====================================================================================================\n",
                        "- First Stage -\n"
                    ]
                },
                {
                    "data": {
                        "application/vnd.jupyter.widget-view+json": {
                            "model_id": "1bce23f096ac486d9b290e5302164119",
                            "version_major": 2,
                            "version_minor": 0
                        },
                        "text/plain": [
                            "Train [0]:   0%|          | 0/1012 [00:00<?, ?batch/s]"
                        ]
                    },
                    "metadata": {},
                    "output_type": "display_data"
                },
                {
                    "name": "stdout",
                    "output_type": "stream",
                    "text": [
                        "Epoch 1 [0/1012] | Train Loss: 1.5269 Grad: 241474.4844 LR: 4.0006e-06 | Elapse: 1.10s\n",
                        "Epoch 1 [50/1012] | Train Loss: 1.4466 Grad: 203728.8750 LR: 5.6668e-06 | Elapse: 7.47s\n",
                        "Epoch 1 [100/1012] | Train Loss: 1.4225 Grad: 112987.8828 LR: 1.0427e-05 | Elapse: 13.83s\n",
                        "Epoch 1 [150/1012] | Train Loss: 1.3855 Grad: 100398.3438 LR: 1.7962e-05 | Elapse: 20.21s\n",
                        "Epoch 1 [200/1012] | Train Loss: 1.3467 Grad: 117997.4531 LR: 2.7771e-05 | Elapse: 26.58s\n",
                        "Epoch 1 [250/1012] | Train Loss: 1.3100 Grad: 106078.2812 LR: 3.9197e-05 | Elapse: 32.96s\n",
                        "Epoch 1 [300/1012] | Train Loss: 1.2691 Grad: 100609.9375 LR: 5.1478e-05 | Elapse: 39.36s\n",
                        "Epoch 1 [350/1012] | Train Loss: 1.2337 Grad: 170535.4531 LR: 6.3793e-05 | Elapse: 45.75s\n",
                        "Epoch 1 [400/1012] | Train Loss: 1.1970 Grad: 131293.7656 LR: 7.5322e-05 | Elapse: 52.15s\n",
                        "Epoch 1 [450/1012] | Train Loss: 1.1580 Grad: 80844.4062 LR: 8.5293e-05 | Elapse: 58.56s\n",
                        "Epoch 1 [500/1012] | Train Loss: 1.1234 Grad: 106347.7734 LR: 9.3041e-05 | Elapse: 64.97s\n",
                        "Epoch 1 [550/1012] | Train Loss: 1.0918 Grad: 139010.8438 LR: 9.8049e-05 | Elapse: 71.38s\n",
                        "Epoch 1 [600/1012] | Train Loss: 1.0639 Grad: 121357.2188 LR: 9.9983e-05 | Elapse: 77.79s\n",
                        "Epoch 1 [650/1012] | Train Loss: 1.0415 Grad: 106402.7031 LR: 9.9983e-05 | Elapse: 84.21s\n",
                        "Epoch 1 [700/1012] | Train Loss: 1.0183 Grad: 89071.1172 LR: 9.9926e-05 | Elapse: 90.65s\n",
                        "Epoch 1 [750/1012] | Train Loss: 1.0002 Grad: 102920.7812 LR: 9.9827e-05 | Elapse: 97.09s\n",
                        "Epoch 1 [800/1012] | Train Loss: 0.9847 Grad: 120216.1719 LR: 9.9687e-05 | Elapse: 103.53s\n",
                        "Epoch 1 [850/1012] | Train Loss: 0.9687 Grad: 95577.3047 LR: 9.9506e-05 | Elapse: 109.95s\n",
                        "Epoch 1 [900/1012] | Train Loss: 0.9534 Grad: 118361.8516 LR: 9.9284e-05 | Elapse: 116.38s\n",
                        "Epoch 1 [950/1012] | Train Loss: 0.9408 Grad: 95187.7266 LR: 9.9021e-05 | Elapse: 122.85s\n",
                        "Epoch 1 [1000/1012] | Train Loss: 0.9274 Grad: 112980.0938 LR: 9.8718e-05 | Elapse: 129.29s\n",
                        "Epoch 1 [1011/1012] | Train Loss: 0.9246 Grad: 107200.0078 LR: 9.8646e-05 | Elapse: 130.71s\n"
                    ]
                },
                {
                    "data": {
                        "application/vnd.jupyter.widget-view+json": {
                            "model_id": "f61a9410580a4915bee4d7060a8110e1",
                            "version_major": 2,
                            "version_minor": 0
                        },
                        "text/plain": [
                            "Valid [0]:   0%|          | 0/250 [00:00<?, ?batch/s]"
                        ]
                    },
                    "metadata": {},
                    "output_type": "display_data"
                },
                {
                    "name": "stdout",
                    "output_type": "stream",
                    "text": [
                        "Epoch 1 [0/250] | Valid Loss: 0.4351 | Elapse: 0.11s\n",
                        "Epoch 1 [50/250] | Valid Loss: 0.6504 | Elapse: 3.92s\n",
                        "Epoch 1 [100/250] | Valid Loss: 0.6401 | Elapse: 7.75s\n",
                        "Epoch 1 [150/250] | Valid Loss: 0.6542 | Elapse: 11.58s\n",
                        "Epoch 1 [200/250] | Valid Loss: 0.6551 | Elapse: 15.40s\n"
                    ]
                },
                {
                    "name": "stderr",
                    "output_type": "stream",
                    "text": [
                        "----------------------------------------------------------------------------------------------------\n",
                        "Epoch 1 - Average Loss: (train) 0.9246; (valid) 0.6588 | Time: 149.84s\n",
                        "Best model found in epoch 1 | valid loss: 0.6588\n"
                    ]
                },
                {
                    "name": "stdout",
                    "output_type": "stream",
                    "text": [
                        "Epoch 1 [249/250] | Valid Loss: 0.6588 | Elapse: 19.13s\n"
                    ]
                },
                {
                    "data": {
                        "application/vnd.jupyter.widget-view+json": {
                            "model_id": "79562123ce8a4805831250dd4f000c50",
                            "version_major": 2,
                            "version_minor": 0
                        },
                        "text/plain": [
                            "Train [1]:   0%|          | 0/1012 [00:00<?, ?batch/s]"
                        ]
                    },
                    "metadata": {},
                    "output_type": "display_data"
                },
                {
                    "name": "stdout",
                    "output_type": "stream",
                    "text": [
                        "Epoch 2 [0/1012] | Train Loss: 0.5908 Grad: 192384.7969 LR: 9.8639e-05 | Elapse: 0.14s\n",
                        "Epoch 2 [50/1012] | Train Loss: 0.6821 Grad: 108863.8672 LR: 9.8287e-05 | Elapse: 6.62s\n",
                        "Epoch 2 [100/1012] | Train Loss: 0.6533 Grad: 79211.2891 LR: 9.7894e-05 | Elapse: 13.08s\n",
                        "Epoch 2 [150/1012] | Train Loss: 0.6543 Grad: 137010.5156 LR: 9.7461e-05 | Elapse: 19.56s\n",
                        "Epoch 2 [200/1012] | Train Loss: 0.6508 Grad: 128135.1719 LR: 9.6990e-05 | Elapse: 26.05s\n",
                        "Epoch 2 [250/1012] | Train Loss: 0.6558 Grad: 88031.6797 LR: 9.6479e-05 | Elapse: 32.54s\n",
                        "Epoch 2 [300/1012] | Train Loss: 0.6488 Grad: 111980.4609 LR: 9.5931e-05 | Elapse: 39.02s\n",
                        "Epoch 2 [350/1012] | Train Loss: 0.6461 Grad: 94424.3359 LR: 9.5344e-05 | Elapse: 45.55s\n",
                        "Epoch 2 [400/1012] | Train Loss: 0.6436 Grad: 54542.1406 LR: 9.4720e-05 | Elapse: 52.05s\n",
                        "Epoch 2 [450/1012] | Train Loss: 0.6389 Grad: 34936.9805 LR: 9.4059e-05 | Elapse: 58.54s\n",
                        "Epoch 2 [500/1012] | Train Loss: 0.6311 Grad: 52182.7891 LR: 9.3361e-05 | Elapse: 65.03s\n",
                        "Epoch 2 [550/1012] | Train Loss: 0.6237 Grad: 46817.7773 LR: 9.2628e-05 | Elapse: 71.55s\n",
                        "Epoch 2 [600/1012] | Train Loss: 0.6140 Grad: 72672.2500 LR: 9.1860e-05 | Elapse: 78.04s\n",
                        "Epoch 2 [650/1012] | Train Loss: 0.6106 Grad: 47952.6445 LR: 9.1057e-05 | Elapse: 84.55s\n",
                        "Epoch 2 [700/1012] | Train Loss: 0.6032 Grad: 43403.6641 LR: 9.0220e-05 | Elapse: 91.03s\n",
                        "Epoch 2 [750/1012] | Train Loss: 0.6001 Grad: 50252.1953 LR: 8.9350e-05 | Elapse: 97.53s\n",
                        "Epoch 2 [800/1012] | Train Loss: 0.5975 Grad: 52228.6719 LR: 8.8447e-05 | Elapse: 104.05s\n",
                        "Epoch 2 [850/1012] | Train Loss: 0.5947 Grad: 48449.8750 LR: 8.7513e-05 | Elapse: 110.54s\n",
                        "Epoch 2 [900/1012] | Train Loss: 0.5906 Grad: 58741.5156 LR: 8.6547e-05 | Elapse: 117.08s\n",
                        "Epoch 2 [950/1012] | Train Loss: 0.5874 Grad: 59613.2500 LR: 8.5552e-05 | Elapse: 123.60s\n",
                        "Epoch 2 [1000/1012] | Train Loss: 0.5828 Grad: 60886.6875 LR: 8.4527e-05 | Elapse: 130.10s\n",
                        "Epoch 2 [1011/1012] | Train Loss: 0.5820 Grad: 46696.7227 LR: 8.4297e-05 | Elapse: 131.52s\n"
                    ]
                },
                {
                    "data": {
                        "application/vnd.jupyter.widget-view+json": {
                            "model_id": "8ced27c5b5c141ddb4f440fb05d42d53",
                            "version_major": 2,
                            "version_minor": 0
                        },
                        "text/plain": [
                            "Valid [1]:   0%|          | 0/250 [00:00<?, ?batch/s]"
                        ]
                    },
                    "metadata": {},
                    "output_type": "display_data"
                },
                {
                    "name": "stdout",
                    "output_type": "stream",
                    "text": [
                        "Epoch 2 [0/250] | Valid Loss: 0.4646 | Elapse: 0.08s\n",
                        "Epoch 2 [50/250] | Valid Loss: 0.5687 | Elapse: 3.92s\n",
                        "Epoch 2 [100/250] | Valid Loss: 0.5439 | Elapse: 7.76s\n",
                        "Epoch 2 [150/250] | Valid Loss: 0.5568 | Elapse: 11.60s\n",
                        "Epoch 2 [200/250] | Valid Loss: 0.5549 | Elapse: 15.46s\n"
                    ]
                },
                {
                    "name": "stderr",
                    "output_type": "stream",
                    "text": [
                        "----------------------------------------------------------------------------------------------------\n",
                        "Epoch 2 - Average Loss: (train) 0.5820; (valid) 0.5634 | Time: 150.71s\n",
                        "Best model found in epoch 2 | valid loss: 0.5634\n"
                    ]
                },
                {
                    "name": "stdout",
                    "output_type": "stream",
                    "text": [
                        "Epoch 2 [249/250] | Valid Loss: 0.5634 | Elapse: 19.19s\n"
                    ]
                },
                {
                    "data": {
                        "application/vnd.jupyter.widget-view+json": {
                            "model_id": "940592a537464bf0977c38cfc547f02f",
                            "version_major": 2,
                            "version_minor": 0
                        },
                        "text/plain": [
                            "Train [2]:   0%|          | 0/1012 [00:00<?, ?batch/s]"
                        ]
                    },
                    "metadata": {},
                    "output_type": "display_data"
                },
                {
                    "name": "stdout",
                    "output_type": "stream",
                    "text": [
                        "Epoch 3 [0/1012] | Train Loss: 0.3717 Grad: 201866.8906 LR: 8.4277e-05 | Elapse: 0.13s\n",
                        "Epoch 3 [50/1012] | Train Loss: 0.5163 Grad: 103259.0234 LR: 8.3216e-05 | Elapse: 6.63s\n",
                        "Epoch 3 [100/1012] | Train Loss: 0.4883 Grad: 66700.7188 LR: 8.2129e-05 | Elapse: 13.12s\n",
                        "Epoch 3 [150/1012] | Train Loss: 0.4943 Grad: 146065.4688 LR: 8.1015e-05 | Elapse: 19.61s\n",
                        "Epoch 3 [200/1012] | Train Loss: 0.4935 Grad: 117844.5547 LR: 7.9875e-05 | Elapse: 26.10s\n",
                        "Epoch 3 [250/1012] | Train Loss: 0.4992 Grad: 94047.8438 LR: 7.8711e-05 | Elapse: 32.60s\n",
                        "Epoch 3 [300/1012] | Train Loss: 0.4932 Grad: 106712.2500 LR: 7.7523e-05 | Elapse: 39.10s\n",
                        "Epoch 3 [350/1012] | Train Loss: 0.4949 Grad: 97626.4766 LR: 7.6312e-05 | Elapse: 45.61s\n",
                        "Epoch 3 [400/1012] | Train Loss: 0.4914 Grad: 63897.5977 LR: 7.5080e-05 | Elapse: 52.11s\n",
                        "Epoch 3 [450/1012] | Train Loss: 0.4874 Grad: 45258.3867 LR: 7.3826e-05 | Elapse: 58.61s\n",
                        "Epoch 3 [500/1012] | Train Loss: 0.4832 Grad: 53472.1992 LR: 7.2554e-05 | Elapse: 65.10s\n",
                        "Epoch 3 [550/1012] | Train Loss: 0.4787 Grad: 48257.9766 LR: 7.1262e-05 | Elapse: 71.58s\n",
                        "Epoch 3 [600/1012] | Train Loss: 0.4718 Grad: 63443.2188 LR: 6.9953e-05 | Elapse: 78.07s\n",
                        "Epoch 3 [650/1012] | Train Loss: 0.4695 Grad: 51712.7539 LR: 6.8628e-05 | Elapse: 84.58s\n",
                        "Epoch 3 [700/1012] | Train Loss: 0.4633 Grad: 40199.0430 LR: 6.7287e-05 | Elapse: 91.08s\n",
                        "Epoch 3 [750/1012] | Train Loss: 0.4606 Grad: 65727.5859 LR: 6.5932e-05 | Elapse: 97.57s\n",
                        "Epoch 3 [800/1012] | Train Loss: 0.4592 Grad: 78352.9141 LR: 6.4563e-05 | Elapse: 104.05s\n",
                        "Epoch 3 [850/1012] | Train Loss: 0.4562 Grad: 53497.4531 LR: 6.3183e-05 | Elapse: 110.55s\n",
                        "Epoch 3 [900/1012] | Train Loss: 0.4530 Grad: 47053.3359 LR: 6.1792e-05 | Elapse: 117.04s\n",
                        "Epoch 3 [950/1012] | Train Loss: 0.4503 Grad: 51664.7773 LR: 6.0391e-05 | Elapse: 123.54s\n",
                        "Epoch 3 [1000/1012] | Train Loss: 0.4469 Grad: 83974.8516 LR: 5.8982e-05 | Elapse: 130.04s\n",
                        "Epoch 3 [1011/1012] | Train Loss: 0.4464 Grad: 43596.0898 LR: 5.8671e-05 | Elapse: 131.47s\n"
                    ]
                },
                {
                    "data": {
                        "application/vnd.jupyter.widget-view+json": {
                            "model_id": "35122f5fa4c14f8db9542344d6a22be6",
                            "version_major": 2,
                            "version_minor": 0
                        },
                        "text/plain": [
                            "Valid [2]:   0%|          | 0/250 [00:00<?, ?batch/s]"
                        ]
                    },
                    "metadata": {},
                    "output_type": "display_data"
                },
                {
                    "name": "stdout",
                    "output_type": "stream",
                    "text": [
                        "Epoch 3 [0/250] | Valid Loss: 0.4926 | Elapse: 0.09s\n",
                        "Epoch 3 [50/250] | Valid Loss: 0.5758 | Elapse: 3.94s\n",
                        "Epoch 3 [100/250] | Valid Loss: 0.5470 | Elapse: 7.77s\n",
                        "Epoch 3 [150/250] | Valid Loss: 0.5603 | Elapse: 11.61s\n",
                        "Epoch 3 [200/250] | Valid Loss: 0.5568 | Elapse: 15.44s\n"
                    ]
                },
                {
                    "name": "stderr",
                    "output_type": "stream",
                    "text": [
                        "----------------------------------------------------------------------------------------------------\n",
                        "Epoch 3 - Average Loss: (train) 0.4464; (valid) 0.5691 | Time: 150.63s\n"
                    ]
                },
                {
                    "name": "stdout",
                    "output_type": "stream",
                    "text": [
                        "Epoch 3 [249/250] | Valid Loss: 0.5691 | Elapse: 19.15s\n"
                    ]
                },
                {
                    "data": {
                        "application/vnd.jupyter.widget-view+json": {
                            "model_id": "1fc1ab60361f4e3b9650c1e431159636",
                            "version_major": 2,
                            "version_minor": 0
                        },
                        "text/plain": [
                            "Train [3]:   0%|          | 0/1012 [00:00<?, ?batch/s]"
                        ]
                    },
                    "metadata": {},
                    "output_type": "display_data"
                },
                {
                    "name": "stdout",
                    "output_type": "stream",
                    "text": [
                        "Epoch 4 [0/1012] | Train Loss: 0.3268 Grad: 263183.5312 LR: 5.8642e-05 | Elapse: 0.13s\n",
                        "Epoch 4 [50/1012] | Train Loss: 0.3924 Grad: 64401.1016 LR: 5.7224e-05 | Elapse: 6.66s\n",
                        "Epoch 4 [100/1012] | Train Loss: 0.3689 Grad: 29090.4863 LR: 5.5799e-05 | Elapse: 13.14s\n",
                        "Epoch 4 [150/1012] | Train Loss: 0.3765 Grad: 91094.3984 LR: 5.4370e-05 | Elapse: 19.62s\n",
                        "Epoch 4 [200/1012] | Train Loss: 0.3750 Grad: 90345.4844 LR: 5.2938e-05 | Elapse: 26.10s\n",
                        "Epoch 4 [250/1012] | Train Loss: 0.3757 Grad: 43208.8477 LR: 5.1502e-05 | Elapse: 32.58s\n",
                        "Epoch 4 [300/1012] | Train Loss: 0.3726 Grad: 50919.8594 LR: 5.0066e-05 | Elapse: 39.05s\n",
                        "Epoch 4 [350/1012] | Train Loss: 0.3740 Grad: 89388.1250 LR: 4.8630e-05 | Elapse: 45.52s\n",
                        "Epoch 4 [400/1012] | Train Loss: 0.3707 Grad: 71116.9531 LR: 4.7194e-05 | Elapse: 52.03s\n",
                        "Epoch 4 [450/1012] | Train Loss: 0.3674 Grad: 61729.5039 LR: 4.5761e-05 | Elapse: 58.51s\n",
                        "Epoch 4 [500/1012] | Train Loss: 0.3655 Grad: 84174.6562 LR: 4.4332e-05 | Elapse: 65.00s\n",
                        "Epoch 4 [550/1012] | Train Loss: 0.3614 Grad: 52802.4258 LR: 4.2907e-05 | Elapse: 71.47s\n",
                        "Epoch 4 [600/1012] | Train Loss: 0.3554 Grad: 57314.1445 LR: 4.1488e-05 | Elapse: 77.95s\n",
                        "Epoch 4 [650/1012] | Train Loss: 0.3542 Grad: 46130.0039 LR: 4.0076e-05 | Elapse: 84.42s\n",
                        "Epoch 4 [700/1012] | Train Loss: 0.3497 Grad: 55131.3281 LR: 3.8673e-05 | Elapse: 90.91s\n",
                        "Epoch 4 [750/1012] | Train Loss: 0.3481 Grad: 83056.9844 LR: 3.7279e-05 | Elapse: 97.39s\n",
                        "Epoch 4 [800/1012] | Train Loss: 0.3470 Grad: 43760.5898 LR: 3.5895e-05 | Elapse: 103.86s\n",
                        "Epoch 4 [850/1012] | Train Loss: 0.3453 Grad: 56966.9062 LR: 3.4523e-05 | Elapse: 110.34s\n",
                        "Epoch 4 [900/1012] | Train Loss: 0.3429 Grad: 48160.5938 LR: 3.3164e-05 | Elapse: 116.84s\n",
                        "Epoch 4 [950/1012] | Train Loss: 0.3407 Grad: 45465.3359 LR: 3.1818e-05 | Elapse: 123.33s\n",
                        "Epoch 4 [1000/1012] | Train Loss: 0.3382 Grad: 54877.0000 LR: 3.0488e-05 | Elapse: 129.82s\n",
                        "Epoch 4 [1011/1012] | Train Loss: 0.3379 Grad: 49372.2812 LR: 3.0198e-05 | Elapse: 131.24s\n"
                    ]
                },
                {
                    "data": {
                        "application/vnd.jupyter.widget-view+json": {
                            "model_id": "cc89f997252742ac8cd0bb3d7734b878",
                            "version_major": 2,
                            "version_minor": 0
                        },
                        "text/plain": [
                            "Valid [3]:   0%|          | 0/250 [00:00<?, ?batch/s]"
                        ]
                    },
                    "metadata": {},
                    "output_type": "display_data"
                },
                {
                    "name": "stdout",
                    "output_type": "stream",
                    "text": [
                        "Epoch 4 [0/250] | Valid Loss: 0.6356 | Elapse: 0.08s\n",
                        "Epoch 4 [50/250] | Valid Loss: 0.5957 | Elapse: 3.93s\n",
                        "Epoch 4 [100/250] | Valid Loss: 0.5600 | Elapse: 7.78s\n",
                        "Epoch 4 [150/250] | Valid Loss: 0.5767 | Elapse: 11.62s\n",
                        "Epoch 4 [200/250] | Valid Loss: 0.5715 | Elapse: 15.47s\n"
                    ]
                },
                {
                    "name": "stderr",
                    "output_type": "stream",
                    "text": [
                        "----------------------------------------------------------------------------------------------------\n",
                        "Epoch 4 - Average Loss: (train) 0.3379; (valid) 0.5833 | Time: 150.44s\n"
                    ]
                },
                {
                    "name": "stdout",
                    "output_type": "stream",
                    "text": [
                        "Epoch 4 [249/250] | Valid Loss: 0.5833 | Elapse: 19.19s\n"
                    ]
                },
                {
                    "data": {
                        "application/vnd.jupyter.widget-view+json": {
                            "model_id": "13149d7c385c4929b20cd3f0cabdaeb5",
                            "version_major": 2,
                            "version_minor": 0
                        },
                        "text/plain": [
                            "Train [4]:   0%|          | 0/1012 [00:00<?, ?batch/s]"
                        ]
                    },
                    "metadata": {},
                    "output_type": "display_data"
                },
                {
                    "name": "stdout",
                    "output_type": "stream",
                    "text": [
                        "Epoch 5 [0/1012] | Train Loss: 0.2850 Grad: 215969.5312 LR: 3.0171e-05 | Elapse: 0.13s\n",
                        "Epoch 5 [50/1012] | Train Loss: 0.3054 Grad: 63792.7617 LR: 2.8861e-05 | Elapse: 6.59s\n",
                        "Epoch 5 [100/1012] | Train Loss: 0.2831 Grad: 37851.4219 LR: 2.7568e-05 | Elapse: 13.05s\n",
                        "Epoch 5 [150/1012] | Train Loss: 0.2945 Grad: 58996.7969 LR: 2.6294e-05 | Elapse: 19.54s\n",
                        "Epoch 5 [200/1012] | Train Loss: 0.2955 Grad: 71823.6562 LR: 2.5040e-05 | Elapse: 26.03s\n",
                        "Epoch 5 [250/1012] | Train Loss: 0.2974 Grad: 45505.1406 LR: 2.3806e-05 | Elapse: 32.50s\n",
                        "Epoch 5 [300/1012] | Train Loss: 0.2933 Grad: 50690.7734 LR: 2.2594e-05 | Elapse: 38.98s\n",
                        "Epoch 5 [350/1012] | Train Loss: 0.2937 Grad: 87154.3594 LR: 2.1404e-05 | Elapse: 45.45s\n",
                        "Epoch 5 [400/1012] | Train Loss: 0.2912 Grad: 66548.8125 LR: 2.0239e-05 | Elapse: 51.92s\n",
                        "Epoch 5 [450/1012] | Train Loss: 0.2898 Grad: 45093.2930 LR: 1.9097e-05 | Elapse: 58.43s\n",
                        "Epoch 5 [500/1012] | Train Loss: 0.2874 Grad: 70329.7656 LR: 1.7982e-05 | Elapse: 64.90s\n",
                        "Epoch 5 [550/1012] | Train Loss: 0.2858 Grad: 58891.1133 LR: 1.6892e-05 | Elapse: 71.37s\n",
                        "Epoch 5 [600/1012] | Train Loss: 0.2815 Grad: 59738.2188 LR: 1.5830e-05 | Elapse: 77.85s\n",
                        "Epoch 5 [650/1012] | Train Loss: 0.2797 Grad: 36475.0117 LR: 1.4797e-05 | Elapse: 84.38s\n",
                        "Epoch 5 [700/1012] | Train Loss: 0.2771 Grad: 35266.2461 LR: 1.3792e-05 | Elapse: 90.86s\n",
                        "Epoch 5 [750/1012] | Train Loss: 0.2760 Grad: 68585.2109 LR: 1.2818e-05 | Elapse: 97.39s\n",
                        "Epoch 5 [800/1012] | Train Loss: 0.2766 Grad: 33712.7656 LR: 1.1874e-05 | Elapse: 103.87s\n",
                        "Epoch 5 [850/1012] | Train Loss: 0.2758 Grad: 48278.1211 LR: 1.0961e-05 | Elapse: 110.35s\n",
                        "Epoch 5 [900/1012] | Train Loss: 0.2747 Grad: 42138.2617 LR: 1.0081e-05 | Elapse: 116.84s\n",
                        "Epoch 5 [950/1012] | Train Loss: 0.2742 Grad: 36579.1992 LR: 9.2343e-06 | Elapse: 123.31s\n",
                        "Epoch 5 [1000/1012] | Train Loss: 0.2726 Grad: 70163.3047 LR: 8.4209e-06 | Elapse: 129.79s\n",
                        "Epoch 5 [1011/1012] | Train Loss: 0.2727 Grad: 53880.6758 LR: 8.2465e-06 | Elapse: 131.21s\n"
                    ]
                },
                {
                    "data": {
                        "application/vnd.jupyter.widget-view+json": {
                            "model_id": "21c03a73554c4905b2d5612de81eacf8",
                            "version_major": 2,
                            "version_minor": 0
                        },
                        "text/plain": [
                            "Valid [4]:   0%|          | 0/250 [00:00<?, ?batch/s]"
                        ]
                    },
                    "metadata": {},
                    "output_type": "display_data"
                },
                {
                    "name": "stdout",
                    "output_type": "stream",
                    "text": [
                        "Epoch 5 [0/250] | Valid Loss: 0.5541 | Elapse: 0.08s\n",
                        "Epoch 5 [50/250] | Valid Loss: 0.6018 | Elapse: 3.93s\n",
                        "Epoch 5 [100/250] | Valid Loss: 0.5693 | Elapse: 7.78s\n",
                        "Epoch 5 [150/250] | Valid Loss: 0.5834 | Elapse: 11.64s\n",
                        "Epoch 5 [200/250] | Valid Loss: 0.5762 | Elapse: 15.48s\n"
                    ]
                },
                {
                    "name": "stderr",
                    "output_type": "stream",
                    "text": [
                        "----------------------------------------------------------------------------------------------------\n",
                        "Epoch 5 - Average Loss: (train) 0.2727; (valid) 0.5876 | Time: 150.42s\n"
                    ]
                },
                {
                    "name": "stdout",
                    "output_type": "stream",
                    "text": [
                        "Epoch 5 [249/250] | Valid Loss: 0.5876 | Elapse: 19.20s\n"
                    ]
                },
                {
                    "data": {
                        "application/vnd.jupyter.widget-view+json": {
                            "model_id": "63c72aab87964ebe8f2f8a66c73be94c",
                            "version_major": 2,
                            "version_minor": 0
                        },
                        "text/plain": [
                            "Train [5]:   0%|          | 0/1012 [00:00<?, ?batch/s]"
                        ]
                    },
                    "metadata": {},
                    "output_type": "display_data"
                },
                {
                    "name": "stdout",
                    "output_type": "stream",
                    "text": [
                        "Epoch 6 [0/1012] | Train Loss: 0.2473 Grad: 192066.3281 LR: 8.2308e-06 | Elapse: 0.14s\n",
                        "Epoch 6 [50/1012] | Train Loss: 0.2711 Grad: 48358.2734 LR: 7.4601e-06 | Elapse: 6.63s\n",
                        "Epoch 6 [100/1012] | Train Loss: 0.2507 Grad: 28087.6895 LR: 6.7246e-06 | Elapse: 13.15s\n",
                        "Epoch 6 [150/1012] | Train Loss: 0.2598 Grad: 74936.1875 LR: 6.0248e-06 | Elapse: 19.66s\n",
                        "Epoch 6 [200/1012] | Train Loss: 0.2609 Grad: 83430.1641 LR: 5.3614e-06 | Elapse: 26.21s\n",
                        "Epoch 6 [250/1012] | Train Loss: 0.2642 Grad: 46141.0508 LR: 4.7349e-06 | Elapse: 32.72s\n",
                        "Epoch 6 [300/1012] | Train Loss: 0.2608 Grad: 40309.1328 LR: 4.1458e-06 | Elapse: 39.22s\n",
                        "Epoch 6 [350/1012] | Train Loss: 0.2614 Grad: 87430.3594 LR: 3.5946e-06 | Elapse: 45.71s\n",
                        "Epoch 6 [400/1012] | Train Loss: 0.2612 Grad: 78191.1172 LR: 3.0817e-06 | Elapse: 52.18s\n",
                        "Epoch 6 [450/1012] | Train Loss: 0.2606 Grad: 36579.9688 LR: 2.6077e-06 | Elapse: 58.67s\n",
                        "Epoch 6 [500/1012] | Train Loss: 0.2599 Grad: 65679.5938 LR: 2.1728e-06 | Elapse: 65.18s\n",
                        "Epoch 6 [550/1012] | Train Loss: 0.2580 Grad: 47228.4727 LR: 1.7774e-06 | Elapse: 71.68s\n",
                        "Epoch 6 [600/1012] | Train Loss: 0.2545 Grad: 44117.5234 LR: 1.4219e-06 | Elapse: 78.18s\n",
                        "Epoch 6 [650/1012] | Train Loss: 0.2542 Grad: 31664.5508 LR: 1.1065e-06 | Elapse: 84.67s\n",
                        "Epoch 6 [700/1012] | Train Loss: 0.2522 Grad: 36341.2656 LR: 8.3157e-07 | Elapse: 91.16s\n",
                        "Epoch 6 [750/1012] | Train Loss: 0.2518 Grad: 75935.7812 LR: 5.9726e-07 | Elapse: 97.63s\n",
                        "Epoch 6 [800/1012] | Train Loss: 0.2527 Grad: 39583.9141 LR: 4.0377e-07 | Elapse: 104.14s\n",
                        "Epoch 6 [850/1012] | Train Loss: 0.2523 Grad: 56214.6641 LR: 2.5128e-07 | Elapse: 110.61s\n",
                        "Epoch 6 [900/1012] | Train Loss: 0.2516 Grad: 40087.6133 LR: 1.3990e-07 | Elapse: 117.08s\n",
                        "Epoch 6 [950/1012] | Train Loss: 0.2513 Grad: 54094.2969 LR: 6.9729e-08 | Elapse: 123.55s\n",
                        "Epoch 6 [1000/1012] | Train Loss: 0.2507 Grad: 71653.5312 LR: 4.0826e-08 | Elapse: 130.04s\n",
                        "Epoch 6 [1011/1012] | Train Loss: 0.2511 Grad: 41507.6445 LR: 4.0008e-08 | Elapse: 131.46s\n"
                    ]
                },
                {
                    "data": {
                        "application/vnd.jupyter.widget-view+json": {
                            "model_id": "22aa75467a304395a67b75b7d3b29ead",
                            "version_major": 2,
                            "version_minor": 0
                        },
                        "text/plain": [
                            "Valid [5]:   0%|          | 0/250 [00:00<?, ?batch/s]"
                        ]
                    },
                    "metadata": {},
                    "output_type": "display_data"
                },
                {
                    "name": "stdout",
                    "output_type": "stream",
                    "text": [
                        "Epoch 6 [0/250] | Valid Loss: 0.5954 | Elapse: 0.09s\n",
                        "Epoch 6 [50/250] | Valid Loss: 0.6075 | Elapse: 3.93s\n",
                        "Epoch 6 [100/250] | Valid Loss: 0.5767 | Elapse: 7.78s\n",
                        "Epoch 6 [150/250] | Valid Loss: 0.5907 | Elapse: 11.62s\n",
                        "Epoch 6 [200/250] | Valid Loss: 0.5842 | Elapse: 15.46s\n"
                    ]
                },
                {
                    "name": "stderr",
                    "output_type": "stream",
                    "text": [
                        "----------------------------------------------------------------------------------------------------\n",
                        "Epoch 6 - Average Loss: (train) 0.2511; (valid) 0.5961 | Time: 150.65s\n"
                    ]
                },
                {
                    "name": "stdout",
                    "output_type": "stream",
                    "text": [
                        "Epoch 6 [249/250] | Valid Loss: 0.5961 | Elapse: 19.18s\n"
                    ]
                },
                {
                    "name": "stderr",
                    "output_type": "stream",
                    "text": [
                        "====================================================================================================\n",
                        "Fold 0 Valid Loss: 0.5633618235588074\n",
                        "Elapse: 15.07 min \n",
                        "====================================================================================================\n",
                        "- Second Stage -\n",
                        "Use Checkpoint: DualEncoder_B0_fold_0_stage_1.pth\n"
                    ]
                },
                {
                    "data": {
                        "application/vnd.jupyter.widget-view+json": {
                            "model_id": "0cd977ce2ced4eb6a5d54efbabb93345",
                            "version_major": 2,
                            "version_minor": 0
                        },
                        "text/plain": [
                            "Train [0]:   0%|          | 0/386 [00:00<?, ?batch/s]"
                        ]
                    },
                    "metadata": {},
                    "output_type": "display_data"
                },
                {
                    "name": "stderr",
                    "output_type": "stream",
                    "text": [
                        "/home/shiyi/miniconda3/envs/kaggle/lib/python3.11/site-packages/torch/optim/lr_scheduler.py:143: UserWarning: Detected call of `lr_scheduler.step()` before `optimizer.step()`. In PyTorch 1.1.0 and later, you should call them in the opposite order: `optimizer.step()` before `lr_scheduler.step()`.  Failure to do this will result in PyTorch skipping the first value of the learning rate schedule. See more details at https://pytorch.org/docs/stable/optim.html#how-to-adjust-learning-rate\n",
                        "  warnings.warn(\"Detected call of `lr_scheduler.step()` before `optimizer.step()`. \"\n"
                    ]
                },
                {
                    "name": "stdout",
                    "output_type": "stream",
                    "text": [
                        "Epoch 1 [0/386] | Train Loss: 0.4304 Grad: nan LR: 4.0045e-06 | Elapse: 0.13s\n",
                        "Epoch 1 [50/386] | Train Loss: 0.4491 Grad: 86177.8203 LR: 1.5127e-05 | Elapse: 6.63s\n",
                        "Epoch 1 [100/386] | Train Loss: 0.4339 Grad: 63918.6680 LR: 4.2708e-05 | Elapse: 13.13s\n",
                        "Epoch 1 [150/386] | Train Loss: 0.4152 Grad: 52564.1133 LR: 7.4436e-05 | Elapse: 19.61s\n",
                        "Epoch 1 [200/386] | Train Loss: 0.3995 Grad: 62075.3594 LR: 9.6150e-05 | Elapse: 26.10s\n",
                        "Epoch 1 [250/386] | Train Loss: 0.3909 Grad: 46776.7266 LR: 9.9976e-05 | Elapse: 32.60s\n",
                        "Epoch 1 [300/386] | Train Loss: 0.3838 Grad: 39989.8945 LR: 9.9719e-05 | Elapse: 39.10s\n",
                        "Epoch 1 [350/386] | Train Loss: 0.3741 Grad: 35438.6094 LR: 9.9179e-05 | Elapse: 45.61s\n",
                        "Epoch 1 [385/386] | Train Loss: 0.3706 Grad: 44290.9102 LR: 9.8635e-05 | Elapse: 50.16s\n"
                    ]
                },
                {
                    "data": {
                        "application/vnd.jupyter.widget-view+json": {
                            "model_id": "9716029ac4ea438fb7c1af22fd970e8b",
                            "version_major": 2,
                            "version_minor": 0
                        },
                        "text/plain": [
                            "Valid [0]:   0%|          | 0/250 [00:00<?, ?batch/s]"
                        ]
                    },
                    "metadata": {},
                    "output_type": "display_data"
                },
                {
                    "name": "stdout",
                    "output_type": "stream",
                    "text": [
                        "Epoch 1 [0/250] | Valid Loss: 0.7094 | Elapse: 0.08s\n",
                        "Epoch 1 [50/250] | Valid Loss: 0.6041 | Elapse: 3.94s\n",
                        "Epoch 1 [100/250] | Valid Loss: 0.5719 | Elapse: 7.80s\n",
                        "Epoch 1 [150/250] | Valid Loss: 0.5728 | Elapse: 11.66s\n",
                        "Epoch 1 [200/250] | Valid Loss: 0.5693 | Elapse: 15.52s\n"
                    ]
                },
                {
                    "name": "stderr",
                    "output_type": "stream",
                    "text": [
                        "----------------------------------------------------------------------------------------------------\n",
                        "Epoch 1 - Average Loss: (train) 0.3706; (valid) 0.5721 | Time: 69.40s\n",
                        "Best model found in epoch 1 | valid loss: 0.5721\n"
                    ]
                },
                {
                    "name": "stdout",
                    "output_type": "stream",
                    "text": [
                        "Epoch 1 [249/250] | Valid Loss: 0.5721 | Elapse: 19.23s\n"
                    ]
                },
                {
                    "data": {
                        "application/vnd.jupyter.widget-view+json": {
                            "model_id": "48406c1ad0894e7a96fb5a8079a9db28",
                            "version_major": 2,
                            "version_minor": 0
                        },
                        "text/plain": [
                            "Train [1]:   0%|          | 0/386 [00:00<?, ?batch/s]"
                        ]
                    },
                    "metadata": {},
                    "output_type": "display_data"
                },
                {
                    "name": "stdout",
                    "output_type": "stream",
                    "text": [
                        "Epoch 2 [0/386] | Train Loss: 0.3334 Grad: 241537.9062 LR: 9.8618e-05 | Elapse: 0.13s\n",
                        "Epoch 2 [50/386] | Train Loss: 0.3137 Grad: 72060.1484 LR: 9.7601e-05 | Elapse: 6.61s\n",
                        "Epoch 2 [100/386] | Train Loss: 0.3121 Grad: 67776.5000 LR: 9.6314e-05 | Elapse: 13.09s\n",
                        "Epoch 2 [150/386] | Train Loss: 0.3060 Grad: 74883.8750 LR: 9.4765e-05 | Elapse: 19.57s\n",
                        "Epoch 2 [200/386] | Train Loss: 0.2966 Grad: 70584.2422 LR: 9.2961e-05 | Elapse: 26.06s\n",
                        "Epoch 2 [250/386] | Train Loss: 0.2911 Grad: 87067.6406 LR: 9.0914e-05 | Elapse: 32.57s\n",
                        "Epoch 2 [300/386] | Train Loss: 0.2872 Grad: 65460.9609 LR: 8.8634e-05 | Elapse: 39.06s\n",
                        "Epoch 2 [350/386] | Train Loss: 0.2808 Grad: 51499.0781 LR: 8.6135e-05 | Elapse: 45.56s\n",
                        "Epoch 2 [385/386] | Train Loss: 0.2785 Grad: 89867.1719 LR: 8.4264e-05 | Elapse: 50.10s\n"
                    ]
                },
                {
                    "data": {
                        "application/vnd.jupyter.widget-view+json": {
                            "model_id": "b4c1b8a7bd1a40f69161178f4d10cc5d",
                            "version_major": 2,
                            "version_minor": 0
                        },
                        "text/plain": [
                            "Valid [1]:   0%|          | 0/250 [00:00<?, ?batch/s]"
                        ]
                    },
                    "metadata": {},
                    "output_type": "display_data"
                },
                {
                    "name": "stdout",
                    "output_type": "stream",
                    "text": [
                        "Epoch 2 [0/250] | Valid Loss: 0.6319 | Elapse: 0.08s\n",
                        "Epoch 2 [50/250] | Valid Loss: 0.5751 | Elapse: 3.93s\n",
                        "Epoch 2 [100/250] | Valid Loss: 0.5435 | Elapse: 7.78s\n",
                        "Epoch 2 [150/250] | Valid Loss: 0.5447 | Elapse: 11.62s\n",
                        "Epoch 2 [200/250] | Valid Loss: 0.5464 | Elapse: 15.46s\n"
                    ]
                },
                {
                    "name": "stderr",
                    "output_type": "stream",
                    "text": [
                        "----------------------------------------------------------------------------------------------------\n",
                        "Epoch 2 - Average Loss: (train) 0.2785; (valid) 0.5512 | Time: 69.28s\n",
                        "Best model found in epoch 2 | valid loss: 0.5512\n"
                    ]
                },
                {
                    "name": "stdout",
                    "output_type": "stream",
                    "text": [
                        "Epoch 2 [249/250] | Valid Loss: 0.5512 | Elapse: 19.17s\n"
                    ]
                },
                {
                    "data": {
                        "application/vnd.jupyter.widget-view+json": {
                            "model_id": "0b4258b969ce4bbe9ec6db6330a0ed33",
                            "version_major": 2,
                            "version_minor": 0
                        },
                        "text/plain": [
                            "Train [2]:   0%|          | 0/386 [00:00<?, ?batch/s]"
                        ]
                    },
                    "metadata": {},
                    "output_type": "display_data"
                },
                {
                    "name": "stdout",
                    "output_type": "stream",
                    "text": [
                        "Epoch 3 [0/386] | Train Loss: 0.2496 Grad: 194992.6562 LR: 8.4209e-05 | Elapse: 0.13s\n",
                        "Epoch 3 [50/386] | Train Loss: 0.2436 Grad: 62185.6367 LR: 8.1367e-05 | Elapse: 6.63s\n",
                        "Epoch 3 [100/386] | Train Loss: 0.2416 Grad: 68445.6641 LR: 7.8347e-05 | Elapse: 13.13s\n",
                        "Epoch 3 [150/386] | Train Loss: 0.2375 Grad: 67835.0000 LR: 7.5166e-05 | Elapse: 19.62s\n",
                        "Epoch 3 [200/386] | Train Loss: 0.2326 Grad: 64167.9180 LR: 7.1843e-05 | Elapse: 26.12s\n",
                        "Epoch 3 [250/386] | Train Loss: 0.2298 Grad: 79599.5391 LR: 6.8396e-05 | Elapse: 32.62s\n",
                        "Epoch 3 [300/386] | Train Loss: 0.2273 Grad: 83151.3438 LR: 6.4844e-05 | Elapse: 39.14s\n",
                        "Epoch 3 [350/386] | Train Loss: 0.2232 Grad: 46052.5820 LR: 6.1209e-05 | Elapse: 45.66s\n",
                        "Epoch 3 [385/386] | Train Loss: 0.2209 Grad: 60501.2969 LR: 5.8625e-05 | Elapse: 50.22s\n"
                    ]
                },
                {
                    "data": {
                        "application/vnd.jupyter.widget-view+json": {
                            "model_id": "71e9657c728a423bb68eb3d1c87dfa6f",
                            "version_major": 2,
                            "version_minor": 0
                        },
                        "text/plain": [
                            "Valid [2]:   0%|          | 0/250 [00:00<?, ?batch/s]"
                        ]
                    },
                    "metadata": {},
                    "output_type": "display_data"
                },
                {
                    "name": "stdout",
                    "output_type": "stream",
                    "text": [
                        "Epoch 3 [0/250] | Valid Loss: 0.5797 | Elapse: 0.09s\n",
                        "Epoch 3 [50/250] | Valid Loss: 0.5466 | Elapse: 3.94s\n",
                        "Epoch 3 [100/250] | Valid Loss: 0.5185 | Elapse: 7.80s\n",
                        "Epoch 3 [150/250] | Valid Loss: 0.5181 | Elapse: 11.65s\n",
                        "Epoch 3 [200/250] | Valid Loss: 0.5221 | Elapse: 15.50s\n"
                    ]
                },
                {
                    "name": "stderr",
                    "output_type": "stream",
                    "text": [
                        "----------------------------------------------------------------------------------------------------\n",
                        "Epoch 3 - Average Loss: (train) 0.2209; (valid) 0.5261 | Time: 69.43s\n",
                        "Best model found in epoch 3 | valid loss: 0.5261\n"
                    ]
                },
                {
                    "name": "stdout",
                    "output_type": "stream",
                    "text": [
                        "Epoch 3 [249/250] | Valid Loss: 0.5261 | Elapse: 19.21s\n"
                    ]
                },
                {
                    "data": {
                        "application/vnd.jupyter.widget-view+json": {
                            "model_id": "838b32d76d3849589e18c7326220a21d",
                            "version_major": 2,
                            "version_minor": 0
                        },
                        "text/plain": [
                            "Train [3]:   0%|          | 0/386 [00:00<?, ?batch/s]"
                        ]
                    },
                    "metadata": {},
                    "output_type": "display_data"
                },
                {
                    "name": "stdout",
                    "output_type": "stream",
                    "text": [
                        "Epoch 4 [0/386] | Train Loss: 0.2124 Grad: 145899.2344 LR: 5.8551e-05 | Elapse: 0.13s\n",
                        "Epoch 4 [50/386] | Train Loss: 0.2007 Grad: 144180.9844 LR: 5.4819e-05 | Elapse: 6.61s\n",
                        "Epoch 4 [100/386] | Train Loss: 0.1995 Grad: 140559.2344 LR: 5.1059e-05 | Elapse: 13.09s\n",
                        "Epoch 4 [150/386] | Train Loss: 0.1955 Grad: 68518.8359 LR: 4.7294e-05 | Elapse: 19.63s\n",
                        "Epoch 4 [200/386] | Train Loss: 0.1923 Grad: 60620.1641 LR: 4.3545e-05 | Elapse: 26.11s\n",
                        "Epoch 4 [250/386] | Train Loss: 0.1902 Grad: 84522.7422 LR: 3.9832e-05 | Elapse: 32.61s\n",
                        "Epoch 4 [300/386] | Train Loss: 0.1887 Grad: 70064.4141 LR: 3.6177e-05 | Elapse: 39.11s\n",
                        "Epoch 4 [350/386] | Train Loss: 0.1863 Grad: 38023.4023 LR: 3.2601e-05 | Elapse: 45.61s\n",
                        "Epoch 4 [385/386] | Train Loss: 0.1857 Grad: 56406.2383 LR: 3.0155e-05 | Elapse: 50.17s\n"
                    ]
                },
                {
                    "data": {
                        "application/vnd.jupyter.widget-view+json": {
                            "model_id": "6a2bd783c10d4019a8a159d19b3ad76d",
                            "version_major": 2,
                            "version_minor": 0
                        },
                        "text/plain": [
                            "Valid [3]:   0%|          | 0/250 [00:00<?, ?batch/s]"
                        ]
                    },
                    "metadata": {},
                    "output_type": "display_data"
                },
                {
                    "name": "stdout",
                    "output_type": "stream",
                    "text": [
                        "Epoch 4 [0/250] | Valid Loss: 0.5780 | Elapse: 0.08s\n",
                        "Epoch 4 [50/250] | Valid Loss: 0.5424 | Elapse: 3.94s\n",
                        "Epoch 4 [100/250] | Valid Loss: 0.5150 | Elapse: 7.81s\n",
                        "Epoch 4 [150/250] | Valid Loss: 0.5149 | Elapse: 11.66s\n",
                        "Epoch 4 [200/250] | Valid Loss: 0.5207 | Elapse: 15.51s\n"
                    ]
                },
                {
                    "name": "stderr",
                    "output_type": "stream",
                    "text": [
                        "----------------------------------------------------------------------------------------------------\n",
                        "Epoch 4 - Average Loss: (train) 0.1857; (valid) 0.5249 | Time: 69.41s\n",
                        "Best model found in epoch 4 | valid loss: 0.5249\n"
                    ]
                },
                {
                    "name": "stdout",
                    "output_type": "stream",
                    "text": [
                        "Epoch 4 [249/250] | Valid Loss: 0.5249 | Elapse: 19.23s\n"
                    ]
                },
                {
                    "data": {
                        "application/vnd.jupyter.widget-view+json": {
                            "model_id": "9f9e3202944d4d758a05fddc06e1d457",
                            "version_major": 2,
                            "version_minor": 0
                        },
                        "text/plain": [
                            "Train [4]:   0%|          | 0/386 [00:00<?, ?batch/s]"
                        ]
                    },
                    "metadata": {},
                    "output_type": "display_data"
                },
                {
                    "name": "stdout",
                    "output_type": "stream",
                    "text": [
                        "Epoch 5 [0/386] | Train Loss: 0.1791 Grad: 140993.7031 LR: 3.0086e-05 | Elapse: 0.14s\n",
                        "Epoch 5 [50/386] | Train Loss: 0.1698 Grad: 101827.2812 LR: 2.6692e-05 | Elapse: 6.61s\n",
                        "Epoch 5 [100/386] | Train Loss: 0.1691 Grad: 102996.9688 LR: 2.3430e-05 | Elapse: 13.10s\n",
                        "Epoch 5 [150/386] | Train Loss: 0.1688 Grad: 110186.4297 LR: 2.0319e-05 | Elapse: 19.58s\n",
                        "Epoch 5 [200/386] | Train Loss: 0.1647 Grad: 95256.1562 LR: 1.7377e-05 | Elapse: 26.07s\n",
                        "Epoch 5 [250/386] | Train Loss: 0.1632 Grad: 109889.8047 LR: 1.4620e-05 | Elapse: 32.60s\n",
                        "Epoch 5 [300/386] | Train Loss: 0.1634 Grad: 134442.7656 LR: 1.2064e-05 | Elapse: 39.09s\n",
                        "Epoch 5 [350/386] | Train Loss: 0.1617 Grad: 63648.1055 LR: 9.7239e-06 | Elapse: 45.59s\n",
                        "Epoch 5 [385/386] | Train Loss: 0.1615 Grad: 105740.5781 LR: 8.2210e-06 | Elapse: 50.16s\n"
                    ]
                },
                {
                    "data": {
                        "application/vnd.jupyter.widget-view+json": {
                            "model_id": "8b33013a77904a00ad22791ae393722f",
                            "version_major": 2,
                            "version_minor": 0
                        },
                        "text/plain": [
                            "Valid [4]:   0%|          | 0/250 [00:00<?, ?batch/s]"
                        ]
                    },
                    "metadata": {},
                    "output_type": "display_data"
                },
                {
                    "name": "stdout",
                    "output_type": "stream",
                    "text": [
                        "Epoch 5 [0/250] | Valid Loss: 0.5840 | Elapse: 0.08s\n",
                        "Epoch 5 [50/250] | Valid Loss: 0.5316 | Elapse: 3.94s\n",
                        "Epoch 5 [100/250] | Valid Loss: 0.5060 | Elapse: 7.79s\n",
                        "Epoch 5 [150/250] | Valid Loss: 0.5049 | Elapse: 11.64s\n",
                        "Epoch 5 [200/250] | Valid Loss: 0.5106 | Elapse: 15.48s\n"
                    ]
                },
                {
                    "name": "stderr",
                    "output_type": "stream",
                    "text": [
                        "----------------------------------------------------------------------------------------------------\n",
                        "Epoch 5 - Average Loss: (train) 0.1615; (valid) 0.5158 | Time: 69.35s\n",
                        "Best model found in epoch 5 | valid loss: 0.5158\n"
                    ]
                },
                {
                    "name": "stdout",
                    "output_type": "stream",
                    "text": [
                        "Epoch 5 [249/250] | Valid Loss: 0.5158 | Elapse: 19.19s\n"
                    ]
                },
                {
                    "data": {
                        "application/vnd.jupyter.widget-view+json": {
                            "model_id": "316a8170949b4534a3c54f3436b53e65",
                            "version_major": 2,
                            "version_minor": 0
                        },
                        "text/plain": [
                            "Train [5]:   0%|          | 0/386 [00:00<?, ?batch/s]"
                        ]
                    },
                    "metadata": {},
                    "output_type": "display_data"
                },
                {
                    "name": "stdout",
                    "output_type": "stream",
                    "text": [
                        "Epoch 6 [0/386] | Train Loss: 0.1203 Grad: 112808.1797 LR: 8.1797e-06 | Elapse: 0.13s\n",
                        "Epoch 6 [50/386] | Train Loss: 0.1523 Grad: 169290.8125 LR: 6.2402e-06 | Elapse: 6.63s\n",
                        "Epoch 6 [100/386] | Train Loss: 0.1516 Grad: 132955.9844 LR: 4.5492e-06 | Elapse: 13.12s\n",
                        "Epoch 6 [150/386] | Train Loss: 0.1529 Grad: 126197.7500 LR: 3.1163e-06 | Elapse: 19.61s\n",
                        "Epoch 6 [200/386] | Train Loss: 0.1518 Grad: 84944.3828 LR: 1.9497e-06 | Elapse: 26.10s\n",
                        "Epoch 6 [250/386] | Train Loss: 0.1526 Grad: 117521.5391 LR: 1.0559e-06 | Elapse: 32.58s\n",
                        "Epoch 6 [300/386] | Train Loss: 0.1527 Grad: 111553.5156 LR: 4.4002e-07 | Elapse: 39.06s\n",
                        "Epoch 6 [350/386] | Train Loss: 0.1522 Grad: 101505.3906 LR: 1.0561e-07 | Elapse: 45.55s\n",
                        "Epoch 6 [385/386] | Train Loss: 0.1528 Grad: 111558.1250 LR: 4.0057e-08 | Elapse: 50.09s\n"
                    ]
                },
                {
                    "data": {
                        "application/vnd.jupyter.widget-view+json": {
                            "model_id": "80b992bac16d4cbcb7a9a8c4ade220d7",
                            "version_major": 2,
                            "version_minor": 0
                        },
                        "text/plain": [
                            "Valid [5]:   0%|          | 0/250 [00:00<?, ?batch/s]"
                        ]
                    },
                    "metadata": {},
                    "output_type": "display_data"
                },
                {
                    "name": "stdout",
                    "output_type": "stream",
                    "text": [
                        "Epoch 6 [0/250] | Valid Loss: 0.5871 | Elapse: 0.08s\n",
                        "Epoch 6 [50/250] | Valid Loss: 0.5332 | Elapse: 3.93s\n",
                        "Epoch 6 [100/250] | Valid Loss: 0.5076 | Elapse: 7.78s\n",
                        "Epoch 6 [150/250] | Valid Loss: 0.5062 | Elapse: 11.63s\n",
                        "Epoch 6 [200/250] | Valid Loss: 0.5115 | Elapse: 15.48s\n"
                    ]
                },
                {
                    "name": "stderr",
                    "output_type": "stream",
                    "text": [
                        "----------------------------------------------------------------------------------------------------\n",
                        "Epoch 6 - Average Loss: (train) 0.1528; (valid) 0.5168 | Time: 69.29s\n"
                    ]
                },
                {
                    "name": "stdout",
                    "output_type": "stream",
                    "text": [
                        "Epoch 6 [249/250] | Valid Loss: 0.5168 | Elapse: 19.19s\n"
                    ]
                },
                {
                    "name": "stderr",
                    "output_type": "stream",
                    "text": [
                        "====================================================================================================\n",
                        "Fold 0 Valid Loss: 0.515838086605072\n",
                        "Elapse: 6.95 min \n",
                        "====================================================================================================\n",
                        "====================================================================================================\n",
                        "Fold: 1 || Valid size 3886 \n",
                        "====================================================================================================\n",
                        "- First Stage -\n"
                    ]
                },
                {
                    "data": {
                        "application/vnd.jupyter.widget-view+json": {
                            "model_id": "918eba7a5b8741ecbf9833dfa5c6f9c5",
                            "version_major": 2,
                            "version_minor": 0
                        },
                        "text/plain": [
                            "Train [0]:   0%|          | 0/1018 [00:00<?, ?batch/s]"
                        ]
                    },
                    "metadata": {},
                    "output_type": "display_data"
                },
                {
                    "name": "stdout",
                    "output_type": "stream",
                    "text": [
                        "Epoch 1 [0/1018] | Train Loss: 1.5227 Grad: 214486.6094 LR: 4.0006e-06 | Elapse: 0.16s\n",
                        "Epoch 1 [50/1018] | Train Loss: 1.4324 Grad: 178454.2500 LR: 5.6473e-06 | Elapse: 6.68s\n",
                        "Epoch 1 [100/1018] | Train Loss: 1.3980 Grad: 154175.2344 LR: 1.0353e-05 | Elapse: 13.18s\n",
                        "Epoch 1 [150/1018] | Train Loss: 1.3591 Grad: 210233.2344 LR: 1.7806e-05 | Elapse: 19.68s\n",
                        "Epoch 1 [200/1018] | Train Loss: 1.3240 Grad: 174229.2969 LR: 2.7516e-05 | Elapse: 26.17s\n",
                        "Epoch 1 [250/1018] | Train Loss: 1.2899 Grad: 59152.1094 LR: 3.8842e-05 | Elapse: 32.65s\n",
                        "Epoch 1 [300/1018] | Train Loss: 1.2582 Grad: 53783.0352 LR: 5.1036e-05 | Elapse: 39.15s\n",
                        "Epoch 1 [350/1018] | Train Loss: 1.2236 Grad: 53635.2422 LR: 6.3293e-05 | Elapse: 45.64s\n",
                        "Epoch 1 [400/1018] | Train Loss: 1.1859 Grad: 67358.0859 LR: 7.4805e-05 | Elapse: 52.19s\n",
                        "Epoch 1 [450/1018] | Train Loss: 1.1483 Grad: 62408.8555 LR: 8.4813e-05 | Elapse: 58.69s\n",
                        "Epoch 1 [500/1018] | Train Loss: 1.1159 Grad: 67940.3047 LR: 9.2655e-05 | Elapse: 65.20s\n",
                        "Epoch 1 [550/1018] | Train Loss: 1.0888 Grad: 148264.0781 LR: 9.7814e-05 | Elapse: 71.70s\n",
                        "Epoch 1 [600/1018] | Train Loss: 1.0629 Grad: 32078.5527 LR: 9.9951e-05 | Elapse: 78.24s\n",
                        "Epoch 1 [650/1018] | Train Loss: 1.0396 Grad: 24378.7324 LR: 9.9986e-05 | Elapse: 84.74s\n",
                        "Epoch 1 [700/1018] | Train Loss: 1.0170 Grad: 20742.8906 LR: 9.9932e-05 | Elapse: 91.24s\n",
                        "Epoch 1 [750/1018] | Train Loss: 1.0019 Grad: 33566.8789 LR: 9.9837e-05 | Elapse: 97.73s\n",
                        "Epoch 1 [800/1018] | Train Loss: 0.9839 Grad: 25695.7305 LR: 9.9702e-05 | Elapse: 104.27s\n",
                        "Epoch 1 [850/1018] | Train Loss: 0.9702 Grad: 30668.0586 LR: 9.9526e-05 | Elapse: 110.76s\n",
                        "Epoch 1 [900/1018] | Train Loss: 0.9562 Grad: 31077.6094 LR: 9.9310e-05 | Elapse: 117.27s\n",
                        "Epoch 1 [950/1018] | Train Loss: 0.9425 Grad: 28448.4629 LR: 9.9053e-05 | Elapse: 123.75s\n",
                        "Epoch 1 [1000/1018] | Train Loss: 0.9291 Grad: 22748.7949 LR: 9.8756e-05 | Elapse: 130.24s\n",
                        "Epoch 1 [1017/1018] | Train Loss: 0.9249 Grad: 20826.7520 LR: 9.8646e-05 | Elapse: 132.46s\n"
                    ]
                },
                {
                    "data": {
                        "application/vnd.jupyter.widget-view+json": {
                            "model_id": "64ba03fecc82499d807868ac3edf518f",
                            "version_major": 2,
                            "version_minor": 0
                        },
                        "text/plain": [
                            "Valid [0]:   0%|          | 0/243 [00:00<?, ?batch/s]"
                        ]
                    },
                    "metadata": {},
                    "output_type": "display_data"
                },
                {
                    "name": "stdout",
                    "output_type": "stream",
                    "text": [
                        "Epoch 1 [0/243] | Valid Loss: 0.7359 | Elapse: 0.09s\n",
                        "Epoch 1 [50/243] | Valid Loss: 0.5750 | Elapse: 3.94s\n",
                        "Epoch 1 [100/243] | Valid Loss: 0.5907 | Elapse: 7.79s\n",
                        "Epoch 1 [150/243] | Valid Loss: 0.5910 | Elapse: 11.64s\n",
                        "Epoch 1 [200/243] | Valid Loss: 0.6031 | Elapse: 15.49s\n"
                    ]
                },
                {
                    "name": "stderr",
                    "output_type": "stream",
                    "text": [
                        "----------------------------------------------------------------------------------------------------\n",
                        "Epoch 1 - Average Loss: (train) 0.9249; (valid) 0.6019 | Time: 151.22s\n",
                        "Best model found in epoch 1 | valid loss: 0.6019\n"
                    ]
                },
                {
                    "name": "stdout",
                    "output_type": "stream",
                    "text": [
                        "Epoch 1 [242/243] | Valid Loss: 0.6019 | Elapse: 18.75s\n"
                    ]
                },
                {
                    "data": {
                        "application/vnd.jupyter.widget-view+json": {
                            "model_id": "4ca5258dbee546d5b5e960e6d05272d7",
                            "version_major": 2,
                            "version_minor": 0
                        },
                        "text/plain": [
                            "Train [1]:   0%|          | 0/1018 [00:00<?, ?batch/s]"
                        ]
                    },
                    "metadata": {},
                    "output_type": "display_data"
                },
                {
                    "name": "stdout",
                    "output_type": "stream",
                    "text": [
                        "Epoch 2 [0/1018] | Train Loss: 0.5262 Grad: 170744.4688 LR: 9.8640e-05 | Elapse: 0.13s\n",
                        "Epoch 2 [50/1018] | Train Loss: 0.6741 Grad: 142059.3438 LR: 9.8289e-05 | Elapse: 6.68s\n",
                        "Epoch 2 [100/1018] | Train Loss: 0.6618 Grad: 85903.2344 LR: 9.7899e-05 | Elapse: 13.26s\n",
                        "Epoch 2 [150/1018] | Train Loss: 0.6680 Grad: 76153.3203 LR: 9.7469e-05 | Elapse: 19.80s\n",
                        "Epoch 2 [200/1018] | Train Loss: 0.6679 Grad: 261582.7656 LR: 9.7001e-05 | Elapse: 26.29s\n",
                        "Epoch 2 [250/1018] | Train Loss: 0.6634 Grad: 87522.7812 LR: 9.6495e-05 | Elapse: 32.78s\n",
                        "Epoch 2 [300/1018] | Train Loss: 0.6606 Grad: 48967.7344 LR: 9.5951e-05 | Elapse: 39.27s\n",
                        "Epoch 2 [350/1018] | Train Loss: 0.6503 Grad: 40749.4727 LR: 9.5369e-05 | Elapse: 45.79s\n",
                        "Epoch 2 [400/1018] | Train Loss: 0.6453 Grad: 92755.4453 LR: 9.4750e-05 | Elapse: 52.28s\n",
                        "Epoch 2 [450/1018] | Train Loss: 0.6380 Grad: 48778.4336 LR: 9.4095e-05 | Elapse: 58.76s\n",
                        "Epoch 2 [500/1018] | Train Loss: 0.6313 Grad: 49550.5625 LR: 9.3404e-05 | Elapse: 65.34s\n",
                        "Epoch 2 [550/1018] | Train Loss: 0.6271 Grad: 61442.8008 LR: 9.2677e-05 | Elapse: 71.89s\n",
                        "Epoch 2 [600/1018] | Train Loss: 0.6183 Grad: 44914.4531 LR: 9.1915e-05 | Elapse: 78.39s\n",
                        "Epoch 2 [650/1018] | Train Loss: 0.6117 Grad: 63931.8828 LR: 9.1120e-05 | Elapse: 84.89s\n",
                        "Epoch 2 [700/1018] | Train Loss: 0.6060 Grad: 33088.7656 LR: 9.0290e-05 | Elapse: 91.39s\n",
                        "Epoch 2 [750/1018] | Train Loss: 0.6048 Grad: 56422.7695 LR: 8.9428e-05 | Elapse: 97.92s\n",
                        "Epoch 2 [800/1018] | Train Loss: 0.6001 Grad: 46916.1016 LR: 8.8534e-05 | Elapse: 104.70s\n",
                        "Epoch 2 [850/1018] | Train Loss: 0.5994 Grad: 56155.6328 LR: 8.7608e-05 | Elapse: 111.64s\n",
                        "Epoch 2 [900/1018] | Train Loss: 0.5959 Grad: 68797.6719 LR: 8.6651e-05 | Elapse: 118.38s\n",
                        "Epoch 2 [950/1018] | Train Loss: 0.5914 Grad: 52513.5117 LR: 8.5665e-05 | Elapse: 124.91s\n",
                        "Epoch 2 [1000/1018] | Train Loss: 0.5880 Grad: 36676.7891 LR: 8.4649e-05 | Elapse: 131.45s\n",
                        "Epoch 2 [1017/1018] | Train Loss: 0.5865 Grad: 38581.3867 LR: 8.4298e-05 | Elapse: 133.69s\n"
                    ]
                },
                {
                    "data": {
                        "application/vnd.jupyter.widget-view+json": {
                            "model_id": "7cd13cbc6a734bffa9844f8f8838590f",
                            "version_major": 2,
                            "version_minor": 0
                        },
                        "text/plain": [
                            "Valid [1]:   0%|          | 0/243 [00:00<?, ?batch/s]"
                        ]
                    },
                    "metadata": {},
                    "output_type": "display_data"
                },
                {
                    "name": "stdout",
                    "output_type": "stream",
                    "text": [
                        "Epoch 2 [0/243] | Valid Loss: 0.7881 | Elapse: 0.09s\n",
                        "Epoch 2 [50/243] | Valid Loss: 0.5536 | Elapse: 3.97s\n",
                        "Epoch 2 [100/243] | Valid Loss: 0.5537 | Elapse: 7.84s\n",
                        "Epoch 2 [150/243] | Valid Loss: 0.5490 | Elapse: 11.71s\n",
                        "Epoch 2 [200/243] | Valid Loss: 0.5608 | Elapse: 15.58s\n"
                    ]
                },
                {
                    "name": "stderr",
                    "output_type": "stream",
                    "text": [
                        "----------------------------------------------------------------------------------------------------\n",
                        "Epoch 2 - Average Loss: (train) 0.5865; (valid) 0.5598 | Time: 152.52s\n",
                        "Best model found in epoch 2 | valid loss: 0.5598\n"
                    ]
                },
                {
                    "name": "stdout",
                    "output_type": "stream",
                    "text": [
                        "Epoch 2 [242/243] | Valid Loss: 0.5598 | Elapse: 18.83s\n"
                    ]
                },
                {
                    "data": {
                        "application/vnd.jupyter.widget-view+json": {
                            "model_id": "5778c33430b947e8834766071f3f3f37",
                            "version_major": 2,
                            "version_minor": 0
                        },
                        "text/plain": [
                            "Train [2]:   0%|          | 0/1018 [00:00<?, ?batch/s]"
                        ]
                    },
                    "metadata": {},
                    "output_type": "display_data"
                },
                {
                    "name": "stdout",
                    "output_type": "stream",
                    "text": [
                        "Epoch 3 [0/1018] | Train Loss: 0.3755 Grad: 166252.0312 LR: 8.4277e-05 | Elapse: 0.13s\n",
                        "Epoch 3 [50/1018] | Train Loss: 0.5161 Grad: 152798.2656 LR: 8.3223e-05 | Elapse: 6.63s\n",
                        "Epoch 3 [100/1018] | Train Loss: 0.5078 Grad: 48901.7070 LR: 8.2142e-05 | Elapse: 13.14s\n",
                        "Epoch 3 [150/1018] | Train Loss: 0.5087 Grad: 35944.9375 LR: 8.1035e-05 | Elapse: 19.87s\n",
                        "Epoch 3 [200/1018] | Train Loss: 0.5092 Grad: 120382.4531 LR: 7.9903e-05 | Elapse: 26.38s\n",
                        "Epoch 3 [250/1018] | Train Loss: 0.5096 Grad: 46172.7227 LR: 7.8746e-05 | Elapse: 32.89s\n",
                        "Epoch 3 [300/1018] | Train Loss: 0.5074 Grad: 38869.2617 LR: 7.7566e-05 | Elapse: 39.40s\n",
                        "Epoch 3 [350/1018] | Train Loss: 0.4996 Grad: 39984.4688 LR: 7.6363e-05 | Elapse: 45.93s\n",
                        "Epoch 3 [400/1018] | Train Loss: 0.4951 Grad: 52344.9648 LR: 7.5139e-05 | Elapse: 52.44s\n",
                        "Epoch 3 [450/1018] | Train Loss: 0.4915 Grad: 37662.5625 LR: 7.3894e-05 | Elapse: 58.95s\n",
                        "Epoch 3 [500/1018] | Train Loss: 0.4870 Grad: 54508.2852 LR: 7.2629e-05 | Elapse: 65.46s\n",
                        "Epoch 3 [550/1018] | Train Loss: 0.4839 Grad: 64098.6992 LR: 7.1347e-05 | Elapse: 71.98s\n",
                        "Epoch 3 [600/1018] | Train Loss: 0.4777 Grad: 52606.2578 LR: 7.0047e-05 | Elapse: 78.51s\n",
                        "Epoch 3 [650/1018] | Train Loss: 0.4723 Grad: 66189.6875 LR: 6.8730e-05 | Elapse: 85.13s\n",
                        "Epoch 3 [700/1018] | Train Loss: 0.4667 Grad: 41906.2148 LR: 6.7398e-05 | Elapse: 91.65s\n",
                        "Epoch 3 [750/1018] | Train Loss: 0.4665 Grad: 56940.6211 LR: 6.6052e-05 | Elapse: 98.15s\n",
                        "Epoch 3 [800/1018] | Train Loss: 0.4626 Grad: 46274.9648 LR: 6.4693e-05 | Elapse: 104.64s\n",
                        "Epoch 3 [850/1018] | Train Loss: 0.4613 Grad: 67088.3672 LR: 6.3322e-05 | Elapse: 111.16s\n",
                        "Epoch 3 [900/1018] | Train Loss: 0.4585 Grad: 72365.0078 LR: 6.1940e-05 | Elapse: 117.72s\n",
                        "Epoch 3 [950/1018] | Train Loss: 0.4548 Grad: 55927.6797 LR: 6.0549e-05 | Elapse: 124.21s\n",
                        "Epoch 3 [1000/1018] | Train Loss: 0.4516 Grad: 46752.3555 LR: 5.9149e-05 | Elapse: 130.69s\n",
                        "Epoch 3 [1017/1018] | Train Loss: 0.4504 Grad: 38522.8828 LR: 5.8671e-05 | Elapse: 132.90s\n"
                    ]
                },
                {
                    "data": {
                        "application/vnd.jupyter.widget-view+json": {
                            "model_id": "36899f8c8adb47fea3025bc2e8b0a31c",
                            "version_major": 2,
                            "version_minor": 0
                        },
                        "text/plain": [
                            "Valid [2]:   0%|          | 0/243 [00:00<?, ?batch/s]"
                        ]
                    },
                    "metadata": {},
                    "output_type": "display_data"
                },
                {
                    "name": "stdout",
                    "output_type": "stream",
                    "text": [
                        "Epoch 3 [0/243] | Valid Loss: 0.9135 | Elapse: 0.08s\n",
                        "Epoch 3 [50/243] | Valid Loss: 0.5572 | Elapse: 3.93s\n",
                        "Epoch 3 [100/243] | Valid Loss: 0.5637 | Elapse: 7.77s\n",
                        "Epoch 3 [150/243] | Valid Loss: 0.5567 | Elapse: 11.62s\n",
                        "Epoch 3 [200/243] | Valid Loss: 0.5719 | Elapse: 15.47s\n"
                    ]
                },
                {
                    "name": "stderr",
                    "output_type": "stream",
                    "text": [
                        "----------------------------------------------------------------------------------------------------\n",
                        "Epoch 3 - Average Loss: (train) 0.4504; (valid) 0.5709 | Time: 151.59s\n"
                    ]
                },
                {
                    "name": "stdout",
                    "output_type": "stream",
                    "text": [
                        "Epoch 3 [242/243] | Valid Loss: 0.5709 | Elapse: 18.69s\n"
                    ]
                },
                {
                    "data": {
                        "application/vnd.jupyter.widget-view+json": {
                            "model_id": "7854b3824d814f2aa8ae26ac97a8c09f",
                            "version_major": 2,
                            "version_minor": 0
                        },
                        "text/plain": [
                            "Train [3]:   0%|          | 0/1018 [00:00<?, ?batch/s]"
                        ]
                    },
                    "metadata": {},
                    "output_type": "display_data"
                },
                {
                    "name": "stdout",
                    "output_type": "stream",
                    "text": [
                        "Epoch 4 [0/1018] | Train Loss: 0.2371 Grad: 129337.6250 LR: 5.8643e-05 | Elapse: 0.13s\n",
                        "Epoch 4 [50/1018] | Train Loss: 0.3895 Grad: 126501.7812 LR: 5.7233e-05 | Elapse: 6.64s\n",
                        "Epoch 4 [100/1018] | Train Loss: 0.3864 Grad: 116628.3125 LR: 5.5817e-05 | Elapse: 13.18s\n",
                        "Epoch 4 [150/1018] | Train Loss: 0.3811 Grad: 93369.2422 LR: 5.4396e-05 | Elapse: 19.68s\n",
                        "Epoch 4 [200/1018] | Train Loss: 0.3850 Grad: 243135.3594 LR: 5.2972e-05 | Elapse: 26.25s\n",
                        "Epoch 4 [250/1018] | Train Loss: 0.3812 Grad: 96231.4219 LR: 5.1545e-05 | Elapse: 32.74s\n",
                        "Epoch 4 [300/1018] | Train Loss: 0.3796 Grad: 44899.0820 LR: 5.0117e-05 | Elapse: 39.23s\n",
                        "Epoch 4 [350/1018] | Train Loss: 0.3741 Grad: 30838.5156 LR: 4.8689e-05 | Elapse: 45.71s\n",
                        "Epoch 4 [400/1018] | Train Loss: 0.3700 Grad: 47069.8320 LR: 4.7262e-05 | Elapse: 52.20s\n",
                        "Epoch 4 [450/1018] | Train Loss: 0.3668 Grad: 31755.2852 LR: 4.5838e-05 | Elapse: 58.72s\n",
                        "Epoch 4 [500/1018] | Train Loss: 0.3659 Grad: 52822.5156 LR: 4.4416e-05 | Elapse: 65.26s\n",
                        "Epoch 4 [550/1018] | Train Loss: 0.3644 Grad: 54878.3945 LR: 4.3000e-05 | Elapse: 71.77s\n",
                        "Epoch 4 [600/1018] | Train Loss: 0.3598 Grad: 51446.0352 LR: 4.1589e-05 | Elapse: 78.34s\n",
                        "Epoch 4 [650/1018] | Train Loss: 0.3559 Grad: 82952.7188 LR: 4.0185e-05 | Elapse: 84.90s\n",
                        "Epoch 4 [700/1018] | Train Loss: 0.3518 Grad: 39106.7031 LR: 3.8789e-05 | Elapse: 91.48s\n",
                        "Epoch 4 [750/1018] | Train Loss: 0.3511 Grad: 53912.4492 LR: 3.7402e-05 | Elapse: 97.98s\n",
                        "Epoch 4 [800/1018] | Train Loss: 0.3497 Grad: 52555.6172 LR: 3.6025e-05 | Elapse: 104.50s\n",
                        "Epoch 4 [850/1018] | Train Loss: 0.3490 Grad: 91347.4688 LR: 3.4660e-05 | Elapse: 111.08s\n",
                        "Epoch 4 [900/1018] | Train Loss: 0.3466 Grad: 73352.2500 LR: 3.3308e-05 | Elapse: 117.62s\n",
                        "Epoch 4 [950/1018] | Train Loss: 0.3437 Grad: 52843.5195 LR: 3.1969e-05 | Elapse: 124.10s\n",
                        "Epoch 4 [1000/1018] | Train Loss: 0.3418 Grad: 58763.2227 LR: 3.0644e-05 | Elapse: 130.57s\n",
                        "Epoch 4 [1017/1018] | Train Loss: 0.3411 Grad: 50922.0625 LR: 3.0198e-05 | Elapse: 132.78s\n"
                    ]
                },
                {
                    "data": {
                        "application/vnd.jupyter.widget-view+json": {
                            "model_id": "7afc967544fa43be96e7b730781734ac",
                            "version_major": 2,
                            "version_minor": 0
                        },
                        "text/plain": [
                            "Valid [3]:   0%|          | 0/243 [00:00<?, ?batch/s]"
                        ]
                    },
                    "metadata": {},
                    "output_type": "display_data"
                },
                {
                    "name": "stdout",
                    "output_type": "stream",
                    "text": [
                        "Epoch 4 [0/243] | Valid Loss: 0.8248 | Elapse: 0.09s\n",
                        "Epoch 4 [50/243] | Valid Loss: 0.5732 | Elapse: 3.95s\n",
                        "Epoch 4 [100/243] | Valid Loss: 0.5792 | Elapse: 7.79s\n",
                        "Epoch 4 [150/243] | Valid Loss: 0.5725 | Elapse: 11.64s\n",
                        "Epoch 4 [200/243] | Valid Loss: 0.5841 | Elapse: 15.48s\n"
                    ]
                },
                {
                    "name": "stderr",
                    "output_type": "stream",
                    "text": [
                        "----------------------------------------------------------------------------------------------------\n",
                        "Epoch 4 - Average Loss: (train) 0.3411; (valid) 0.5843 | Time: 151.49s\n"
                    ]
                },
                {
                    "name": "stdout",
                    "output_type": "stream",
                    "text": [
                        "Epoch 4 [242/243] | Valid Loss: 0.5843 | Elapse: 18.70s\n"
                    ]
                },
                {
                    "data": {
                        "application/vnd.jupyter.widget-view+json": {
                            "model_id": "9e261e0e1c8b4fcbb41140ecd75c0469",
                            "version_major": 2,
                            "version_minor": 0
                        },
                        "text/plain": [
                            "Train [4]:   0%|          | 0/1018 [00:00<?, ?batch/s]"
                        ]
                    },
                    "metadata": {},
                    "output_type": "display_data"
                },
                {
                    "name": "stdout",
                    "output_type": "stream",
                    "text": [
                        "Epoch 5 [0/1018] | Train Loss: 0.2180 Grad: 154307.2656 LR: 3.0171e-05 | Elapse: 0.13s\n",
                        "Epoch 5 [50/1018] | Train Loss: 0.3052 Grad: 129569.4141 LR: 2.8869e-05 | Elapse: 6.65s\n",
                        "Epoch 5 [100/1018] | Train Loss: 0.2983 Grad: 118823.1328 LR: 2.7584e-05 | Elapse: 13.12s\n",
                        "Epoch 5 [150/1018] | Train Loss: 0.2965 Grad: 89896.5547 LR: 2.6317e-05 | Elapse: 19.61s\n",
                        "Epoch 5 [200/1018] | Train Loss: 0.2978 Grad: 116827.9531 LR: 2.5070e-05 | Elapse: 26.08s\n",
                        "Epoch 5 [250/1018] | Train Loss: 0.2930 Grad: 40027.8477 LR: 2.3842e-05 | Elapse: 32.56s\n",
                        "Epoch 5 [300/1018] | Train Loss: 0.2918 Grad: 36676.6641 LR: 2.2637e-05 | Elapse: 39.05s\n",
                        "Epoch 5 [350/1018] | Train Loss: 0.2899 Grad: 36880.8047 LR: 2.1453e-05 | Elapse: 45.53s\n",
                        "Epoch 5 [400/1018] | Train Loss: 0.2883 Grad: 50893.4258 LR: 2.0293e-05 | Elapse: 52.04s\n",
                        "Epoch 5 [450/1018] | Train Loss: 0.2874 Grad: 37410.8828 LR: 1.9157e-05 | Elapse: 58.52s\n",
                        "Epoch 5 [500/1018] | Train Loss: 0.2877 Grad: 55093.3242 LR: 1.8047e-05 | Elapse: 65.02s\n",
                        "Epoch 5 [550/1018] | Train Loss: 0.2862 Grad: 55105.3789 LR: 1.6962e-05 | Elapse: 71.49s\n",
                        "Epoch 5 [600/1018] | Train Loss: 0.2834 Grad: 36608.9961 LR: 1.5905e-05 | Elapse: 78.00s\n",
                        "Epoch 5 [650/1018] | Train Loss: 0.2810 Grad: 60366.5000 LR: 1.4875e-05 | Elapse: 84.59s\n",
                        "Epoch 5 [700/1018] | Train Loss: 0.2787 Grad: 45835.3320 LR: 1.3874e-05 | Elapse: 91.12s\n",
                        "Epoch 5 [750/1018] | Train Loss: 0.2789 Grad: 39094.3867 LR: 1.2903e-05 | Elapse: 97.61s\n",
                        "Epoch 5 [800/1018] | Train Loss: 0.2783 Grad: 42980.6992 LR: 1.1962e-05 | Elapse: 104.10s\n",
                        "Epoch 5 [850/1018] | Train Loss: 0.2785 Grad: 66274.0000 LR: 1.1052e-05 | Elapse: 110.59s\n",
                        "Epoch 5 [900/1018] | Train Loss: 0.2774 Grad: 54922.1680 LR: 1.0173e-05 | Elapse: 117.07s\n",
                        "Epoch 5 [950/1018] | Train Loss: 0.2756 Grad: 48615.4414 LR: 9.3277e-06 | Elapse: 123.61s\n",
                        "Epoch 5 [1000/1018] | Train Loss: 0.2747 Grad: 41212.3945 LR: 8.5152e-06 | Elapse: 130.13s\n",
                        "Epoch 5 [1017/1018] | Train Loss: 0.2744 Grad: 51415.0742 LR: 8.2466e-06 | Elapse: 132.36s\n"
                    ]
                },
                {
                    "data": {
                        "application/vnd.jupyter.widget-view+json": {
                            "model_id": "31996e2895434313851b4c48c299c199",
                            "version_major": 2,
                            "version_minor": 0
                        },
                        "text/plain": [
                            "Valid [4]:   0%|          | 0/243 [00:00<?, ?batch/s]"
                        ]
                    },
                    "metadata": {},
                    "output_type": "display_data"
                },
                {
                    "name": "stdout",
                    "output_type": "stream",
                    "text": [
                        "Epoch 5 [0/243] | Valid Loss: 0.8393 | Elapse: 0.08s\n",
                        "Epoch 5 [50/243] | Valid Loss: 0.5803 | Elapse: 3.92s\n",
                        "Epoch 5 [100/243] | Valid Loss: 0.5817 | Elapse: 7.76s\n",
                        "Epoch 5 [150/243] | Valid Loss: 0.5706 | Elapse: 11.61s\n",
                        "Epoch 5 [200/243] | Valid Loss: 0.5802 | Elapse: 15.45s\n"
                    ]
                },
                {
                    "name": "stderr",
                    "output_type": "stream",
                    "text": [
                        "----------------------------------------------------------------------------------------------------\n",
                        "Epoch 5 - Average Loss: (train) 0.2744; (valid) 0.5768 | Time: 151.03s\n"
                    ]
                },
                {
                    "name": "stdout",
                    "output_type": "stream",
                    "text": [
                        "Epoch 5 [242/243] | Valid Loss: 0.5768 | Elapse: 18.67s\n"
                    ]
                },
                {
                    "data": {
                        "application/vnd.jupyter.widget-view+json": {
                            "model_id": "c26f27d6268947f1bb82eec504e969d6",
                            "version_major": 2,
                            "version_minor": 0
                        },
                        "text/plain": [
                            "Train [5]:   0%|          | 0/1018 [00:00<?, ?batch/s]"
                        ]
                    },
                    "metadata": {},
                    "output_type": "display_data"
                },
                {
                    "name": "stdout",
                    "output_type": "stream",
                    "text": [
                        "Epoch 6 [0/1018] | Train Loss: 0.1523 Grad: 126880.3438 LR: 8.2310e-06 | Elapse: 0.13s\n",
                        "Epoch 6 [50/1018] | Train Loss: 0.2633 Grad: 116275.1875 LR: 7.4647e-06 | Elapse: 6.64s\n",
                        "Epoch 6 [100/1018] | Train Loss: 0.2562 Grad: 56074.7930 LR: 6.7332e-06 | Elapse: 13.13s\n",
                        "Epoch 6 [150/1018] | Train Loss: 0.2572 Grad: 70438.3906 LR: 6.0370e-06 | Elapse: 19.63s\n",
                        "Epoch 6 [200/1018] | Train Loss: 0.2605 Grad: 101186.5391 LR: 5.3768e-06 | Elapse: 26.12s\n",
                        "Epoch 6 [250/1018] | Train Loss: 0.2562 Grad: 59005.8281 LR: 4.7530e-06 | Elapse: 32.64s\n",
                        "Epoch 6 [300/1018] | Train Loss: 0.2569 Grad: 29804.8262 LR: 4.1661e-06 | Elapse: 39.24s\n",
                        "Epoch 6 [350/1018] | Train Loss: 0.2547 Grad: 36295.8125 LR: 3.6167e-06 | Elapse: 45.73s\n",
                        "Epoch 6 [400/1018] | Train Loss: 0.2538 Grad: 46271.2734 LR: 3.1052e-06 | Elapse: 52.23s\n",
                        "Epoch 6 [450/1018] | Train Loss: 0.2509 Grad: 41320.7930 LR: 2.6319e-06 | Elapse: 58.71s\n",
                        "Epoch 6 [500/1018] | Train Loss: 0.2513 Grad: 55821.7773 LR: 2.1974e-06 | Elapse: 65.19s\n",
                        "Epoch 6 [550/1018] | Train Loss: 0.2505 Grad: 47531.1289 LR: 1.8019e-06 | Elapse: 71.68s\n",
                        "Epoch 6 [600/1018] | Train Loss: 0.2492 Grad: 57175.4219 LR: 1.4458e-06 | Elapse: 78.16s\n",
                        "Epoch 6 [650/1018] | Train Loss: 0.2488 Grad: 64728.8086 LR: 1.1293e-06 | Elapse: 84.69s\n",
                        "Epoch 6 [700/1018] | Train Loss: 0.2474 Grad: 30419.0547 LR: 8.5279e-07 | Elapse: 91.21s\n",
                        "Epoch 6 [750/1018] | Train Loss: 0.2481 Grad: 38423.4609 LR: 6.1638e-07 | Elapse: 97.69s\n",
                        "Epoch 6 [800/1018] | Train Loss: 0.2482 Grad: 51266.4258 LR: 4.2031e-07 | Elapse: 104.17s\n",
                        "Epoch 6 [850/1018] | Train Loss: 0.2487 Grad: 56533.0820 LR: 2.6474e-07 | Elapse: 110.65s\n",
                        "Epoch 6 [900/1018] | Train Loss: 0.2481 Grad: 66641.5078 LR: 1.4978e-07 | Elapse: 117.14s\n",
                        "Epoch 6 [950/1018] | Train Loss: 0.2474 Grad: 51789.8242 LR: 7.5548e-08 | Elapse: 123.62s\n",
                        "Epoch 6 [1000/1018] | Train Loss: 0.2470 Grad: 39816.8711 LR: 4.2089e-08 | Elapse: 130.10s\n",
                        "Epoch 6 [1017/1018] | Train Loss: 0.2473 Grad: 49989.4453 LR: 4.0008e-08 | Elapse: 132.30s\n"
                    ]
                },
                {
                    "data": {
                        "application/vnd.jupyter.widget-view+json": {
                            "model_id": "ff6b39a5bf6d465897a6be99bd403fd4",
                            "version_major": 2,
                            "version_minor": 0
                        },
                        "text/plain": [
                            "Valid [5]:   0%|          | 0/243 [00:00<?, ?batch/s]"
                        ]
                    },
                    "metadata": {},
                    "output_type": "display_data"
                },
                {
                    "name": "stdout",
                    "output_type": "stream",
                    "text": [
                        "Epoch 6 [0/243] | Valid Loss: 0.7990 | Elapse: 0.08s\n",
                        "Epoch 6 [50/243] | Valid Loss: 0.5830 | Elapse: 3.89s\n",
                        "Epoch 6 [100/243] | Valid Loss: 0.5820 | Elapse: 7.70s\n",
                        "Epoch 6 [150/243] | Valid Loss: 0.5718 | Elapse: 11.51s\n",
                        "Epoch 6 [200/243] | Valid Loss: 0.5808 | Elapse: 15.32s\n"
                    ]
                },
                {
                    "name": "stderr",
                    "output_type": "stream",
                    "text": [
                        "----------------------------------------------------------------------------------------------------\n",
                        "Epoch 6 - Average Loss: (train) 0.2473; (valid) 0.5766 | Time: 150.82s\n"
                    ]
                },
                {
                    "name": "stdout",
                    "output_type": "stream",
                    "text": [
                        "Epoch 6 [242/243] | Valid Loss: 0.5766 | Elapse: 18.51s\n"
                    ]
                },
                {
                    "name": "stderr",
                    "output_type": "stream",
                    "text": [
                        "====================================================================================================\n",
                        "Fold 1 Valid Loss: 0.559755802154541\n",
                        "Elapse: 15.15 min \n",
                        "====================================================================================================\n",
                        "- Second Stage -\n",
                        "Use Checkpoint: DualEncoder_B0_fold_1_stage_1.pth\n"
                    ]
                },
                {
                    "data": {
                        "application/vnd.jupyter.widget-view+json": {
                            "model_id": "fdb644d3a3564633a1b3455810188cc3",
                            "version_major": 2,
                            "version_minor": 0
                        },
                        "text/plain": [
                            "Train [0]:   0%|          | 0/386 [00:00<?, ?batch/s]"
                        ]
                    },
                    "metadata": {},
                    "output_type": "display_data"
                },
                {
                    "name": "stderr",
                    "output_type": "stream",
                    "text": [
                        "/home/shiyi/miniconda3/envs/kaggle/lib/python3.11/site-packages/torch/optim/lr_scheduler.py:143: UserWarning: Detected call of `lr_scheduler.step()` before `optimizer.step()`. In PyTorch 1.1.0 and later, you should call them in the opposite order: `optimizer.step()` before `lr_scheduler.step()`.  Failure to do this will result in PyTorch skipping the first value of the learning rate schedule. See more details at https://pytorch.org/docs/stable/optim.html#how-to-adjust-learning-rate\n",
                        "  warnings.warn(\"Detected call of `lr_scheduler.step()` before `optimizer.step()`. \"\n"
                    ]
                },
                {
                    "name": "stdout",
                    "output_type": "stream",
                    "text": [
                        "Epoch 1 [0/386] | Train Loss: 0.5522 Grad: nan LR: 4.0045e-06 | Elapse: 0.13s\n",
                        "Epoch 1 [50/386] | Train Loss: 0.4321 Grad: 108045.9922 LR: 1.5127e-05 | Elapse: 6.58s\n",
                        "Epoch 1 [100/386] | Train Loss: 0.4192 Grad: 76220.7734 LR: 4.2708e-05 | Elapse: 13.03s\n",
                        "Epoch 1 [150/386] | Train Loss: 0.3959 Grad: 49297.0781 LR: 7.4436e-05 | Elapse: 19.48s\n",
                        "Epoch 1 [200/386] | Train Loss: 0.3847 Grad: 43663.9492 LR: 9.6150e-05 | Elapse: 25.98s\n",
                        "Epoch 1 [250/386] | Train Loss: 0.3797 Grad: 58262.7344 LR: 9.9976e-05 | Elapse: 32.44s\n",
                        "Epoch 1 [300/386] | Train Loss: 0.3740 Grad: 46097.9570 LR: 9.9719e-05 | Elapse: 38.91s\n",
                        "Epoch 1 [350/386] | Train Loss: 0.3689 Grad: 42112.7852 LR: 9.9179e-05 | Elapse: 45.37s\n",
                        "Epoch 1 [385/386] | Train Loss: 0.3661 Grad: 36906.0820 LR: 9.8635e-05 | Elapse: 49.90s\n"
                    ]
                },
                {
                    "data": {
                        "application/vnd.jupyter.widget-view+json": {
                            "model_id": "e72555a681b34919b4fd9f2160f9e8c6",
                            "version_major": 2,
                            "version_minor": 0
                        },
                        "text/plain": [
                            "Valid [0]:   0%|          | 0/243 [00:00<?, ?batch/s]"
                        ]
                    },
                    "metadata": {},
                    "output_type": "display_data"
                },
                {
                    "name": "stdout",
                    "output_type": "stream",
                    "text": [
                        "Epoch 1 [0/243] | Valid Loss: 0.7552 | Elapse: 0.09s\n",
                        "Epoch 1 [50/243] | Valid Loss: 0.5278 | Elapse: 3.91s\n",
                        "Epoch 1 [100/243] | Valid Loss: 0.5564 | Elapse: 7.73s\n",
                        "Epoch 1 [150/243] | Valid Loss: 0.5535 | Elapse: 11.56s\n",
                        "Epoch 1 [200/243] | Valid Loss: 0.5610 | Elapse: 15.36s\n"
                    ]
                },
                {
                    "name": "stderr",
                    "output_type": "stream",
                    "text": [
                        "----------------------------------------------------------------------------------------------------\n",
                        "Epoch 1 - Average Loss: (train) 0.3661; (valid) 0.5592 | Time: 68.46s\n",
                        "Best model found in epoch 1 | valid loss: 0.5592\n"
                    ]
                },
                {
                    "name": "stdout",
                    "output_type": "stream",
                    "text": [
                        "Epoch 1 [242/243] | Valid Loss: 0.5592 | Elapse: 18.56s\n"
                    ]
                },
                {
                    "data": {
                        "application/vnd.jupyter.widget-view+json": {
                            "model_id": "4ba872c34c3342a39a98576694aecf36",
                            "version_major": 2,
                            "version_minor": 0
                        },
                        "text/plain": [
                            "Train [1]:   0%|          | 0/386 [00:00<?, ?batch/s]"
                        ]
                    },
                    "metadata": {},
                    "output_type": "display_data"
                },
                {
                    "name": "stdout",
                    "output_type": "stream",
                    "text": [
                        "Epoch 2 [0/386] | Train Loss: 0.2875 Grad: 167292.6562 LR: 9.8618e-05 | Elapse: 0.13s\n",
                        "Epoch 2 [50/386] | Train Loss: 0.3200 Grad: 76973.9844 LR: 9.7601e-05 | Elapse: 6.61s\n",
                        "Epoch 2 [100/386] | Train Loss: 0.3179 Grad: 99059.0469 LR: 9.6314e-05 | Elapse: 13.07s\n",
                        "Epoch 2 [150/386] | Train Loss: 0.3042 Grad: 75088.3281 LR: 9.4765e-05 | Elapse: 19.52s\n",
                        "Epoch 2 [200/386] | Train Loss: 0.2937 Grad: 53108.1641 LR: 9.2961e-05 | Elapse: 25.98s\n",
                        "Epoch 2 [250/386] | Train Loss: 0.2868 Grad: 81218.2500 LR: 9.0914e-05 | Elapse: 32.45s\n",
                        "Epoch 2 [300/386] | Train Loss: 0.2825 Grad: 85826.4141 LR: 8.8634e-05 | Elapse: 38.94s\n",
                        "Epoch 2 [350/386] | Train Loss: 0.2793 Grad: 65770.9219 LR: 8.6135e-05 | Elapse: 45.43s\n",
                        "Epoch 2 [385/386] | Train Loss: 0.2771 Grad: 93750.1094 LR: 8.4264e-05 | Elapse: 50.01s\n"
                    ]
                },
                {
                    "data": {
                        "application/vnd.jupyter.widget-view+json": {
                            "model_id": "c44d4cd771f84d96b451f83a7a8548c4",
                            "version_major": 2,
                            "version_minor": 0
                        },
                        "text/plain": [
                            "Valid [1]:   0%|          | 0/243 [00:00<?, ?batch/s]"
                        ]
                    },
                    "metadata": {},
                    "output_type": "display_data"
                },
                {
                    "name": "stdout",
                    "output_type": "stream",
                    "text": [
                        "Epoch 2 [0/243] | Valid Loss: 0.7309 | Elapse: 0.08s\n",
                        "Epoch 2 [50/243] | Valid Loss: 0.5079 | Elapse: 3.92s\n",
                        "Epoch 2 [100/243] | Valid Loss: 0.5428 | Elapse: 7.73s\n",
                        "Epoch 2 [150/243] | Valid Loss: 0.5435 | Elapse: 11.55s\n",
                        "Epoch 2 [200/243] | Valid Loss: 0.5557 | Elapse: 15.36s\n"
                    ]
                },
                {
                    "name": "stderr",
                    "output_type": "stream",
                    "text": [
                        "----------------------------------------------------------------------------------------------------\n",
                        "Epoch 2 - Average Loss: (train) 0.2771; (valid) 0.5545 | Time: 68.56s\n",
                        "Best model found in epoch 2 | valid loss: 0.5545\n"
                    ]
                },
                {
                    "name": "stdout",
                    "output_type": "stream",
                    "text": [
                        "Epoch 2 [242/243] | Valid Loss: 0.5545 | Elapse: 18.54s\n"
                    ]
                },
                {
                    "data": {
                        "application/vnd.jupyter.widget-view+json": {
                            "model_id": "b3d10f685ae642908e14a73342a2b52e",
                            "version_major": 2,
                            "version_minor": 0
                        },
                        "text/plain": [
                            "Train [2]:   0%|          | 0/386 [00:00<?, ?batch/s]"
                        ]
                    },
                    "metadata": {},
                    "output_type": "display_data"
                },
                {
                    "name": "stdout",
                    "output_type": "stream",
                    "text": [
                        "Epoch 3 [0/386] | Train Loss: 0.2076 Grad: 128167.0703 LR: 8.4209e-05 | Elapse: 0.13s\n",
                        "Epoch 3 [50/386] | Train Loss: 0.2493 Grad: 60956.7852 LR: 8.1367e-05 | Elapse: 6.57s\n",
                        "Epoch 3 [100/386] | Train Loss: 0.2462 Grad: 80417.6328 LR: 7.8347e-05 | Elapse: 13.03s\n",
                        "Epoch 3 [150/386] | Train Loss: 0.2364 Grad: 81798.7891 LR: 7.5166e-05 | Elapse: 19.48s\n",
                        "Epoch 3 [200/386] | Train Loss: 0.2303 Grad: 52654.9805 LR: 7.1843e-05 | Elapse: 25.98s\n",
                        "Epoch 3 [250/386] | Train Loss: 0.2275 Grad: 72548.1250 LR: 6.8396e-05 | Elapse: 32.45s\n",
                        "Epoch 3 [300/386] | Train Loss: 0.2235 Grad: 70820.8125 LR: 6.4844e-05 | Elapse: 38.93s\n",
                        "Epoch 3 [350/386] | Train Loss: 0.2205 Grad: 63856.0742 LR: 6.1209e-05 | Elapse: 45.39s\n",
                        "Epoch 3 [385/386] | Train Loss: 0.2193 Grad: 53907.4727 LR: 5.8625e-05 | Elapse: 49.92s\n"
                    ]
                },
                {
                    "data": {
                        "application/vnd.jupyter.widget-view+json": {
                            "model_id": "1cda2c3a58c549ab8f380ef9b6384770",
                            "version_major": 2,
                            "version_minor": 0
                        },
                        "text/plain": [
                            "Valid [2]:   0%|          | 0/243 [00:00<?, ?batch/s]"
                        ]
                    },
                    "metadata": {},
                    "output_type": "display_data"
                },
                {
                    "name": "stdout",
                    "output_type": "stream",
                    "text": [
                        "Epoch 3 [0/243] | Valid Loss: 0.6859 | Elapse: 0.08s\n",
                        "Epoch 3 [50/243] | Valid Loss: 0.4941 | Elapse: 3.91s\n",
                        "Epoch 3 [100/243] | Valid Loss: 0.5219 | Elapse: 7.72s\n",
                        "Epoch 3 [150/243] | Valid Loss: 0.5210 | Elapse: 11.53s\n",
                        "Epoch 3 [200/243] | Valid Loss: 0.5352 | Elapse: 15.34s\n"
                    ]
                },
                {
                    "name": "stderr",
                    "output_type": "stream",
                    "text": [
                        "----------------------------------------------------------------------------------------------------\n",
                        "Epoch 3 - Average Loss: (train) 0.2193; (valid) 0.5341 | Time: 68.45s\n",
                        "Best model found in epoch 3 | valid loss: 0.5341\n"
                    ]
                },
                {
                    "name": "stdout",
                    "output_type": "stream",
                    "text": [
                        "Epoch 3 [242/243] | Valid Loss: 0.5341 | Elapse: 18.53s\n"
                    ]
                },
                {
                    "data": {
                        "application/vnd.jupyter.widget-view+json": {
                            "model_id": "8d5daa715e2b4aa085017185e9c8a9ec",
                            "version_major": 2,
                            "version_minor": 0
                        },
                        "text/plain": [
                            "Train [3]:   0%|          | 0/386 [00:00<?, ?batch/s]"
                        ]
                    },
                    "metadata": {},
                    "output_type": "display_data"
                },
                {
                    "name": "stdout",
                    "output_type": "stream",
                    "text": [
                        "Epoch 4 [0/386] | Train Loss: 0.1743 Grad: 137256.4219 LR: 5.8551e-05 | Elapse: 0.14s\n",
                        "Epoch 4 [50/386] | Train Loss: 0.2027 Grad: 54373.2812 LR: 5.4819e-05 | Elapse: 6.59s\n",
                        "Epoch 4 [100/386] | Train Loss: 0.1999 Grad: 63737.1602 LR: 5.1059e-05 | Elapse: 13.05s\n",
                        "Epoch 4 [150/386] | Train Loss: 0.1946 Grad: 68056.2266 LR: 4.7294e-05 | Elapse: 19.63s\n",
                        "Epoch 4 [200/386] | Train Loss: 0.1903 Grad: 45580.0781 LR: 4.3545e-05 | Elapse: 26.11s\n",
                        "Epoch 4 [250/386] | Train Loss: 0.1883 Grad: 69082.7891 LR: 3.9832e-05 | Elapse: 32.58s\n",
                        "Epoch 4 [300/386] | Train Loss: 0.1871 Grad: 60590.6758 LR: 3.6177e-05 | Elapse: 39.04s\n",
                        "Epoch 4 [350/386] | Train Loss: 0.1851 Grad: 51110.7422 LR: 3.2601e-05 | Elapse: 45.51s\n",
                        "Epoch 4 [385/386] | Train Loss: 0.1844 Grad: 57422.5820 LR: 3.0155e-05 | Elapse: 50.04s\n"
                    ]
                },
                {
                    "data": {
                        "application/vnd.jupyter.widget-view+json": {
                            "model_id": "45b84a7378724b148dffbd8c30f19b78",
                            "version_major": 2,
                            "version_minor": 0
                        },
                        "text/plain": [
                            "Valid [3]:   0%|          | 0/243 [00:00<?, ?batch/s]"
                        ]
                    },
                    "metadata": {},
                    "output_type": "display_data"
                },
                {
                    "name": "stdout",
                    "output_type": "stream",
                    "text": [
                        "Epoch 4 [0/243] | Valid Loss: 0.6824 | Elapse: 0.08s\n",
                        "Epoch 4 [50/243] | Valid Loss: 0.4920 | Elapse: 3.90s\n",
                        "Epoch 4 [100/243] | Valid Loss: 0.5117 | Elapse: 7.72s\n",
                        "Epoch 4 [150/243] | Valid Loss: 0.5097 | Elapse: 11.54s\n",
                        "Epoch 4 [200/243] | Valid Loss: 0.5244 | Elapse: 15.40s\n"
                    ]
                },
                {
                    "name": "stderr",
                    "output_type": "stream",
                    "text": [
                        "----------------------------------------------------------------------------------------------------\n",
                        "Epoch 4 - Average Loss: (train) 0.1844; (valid) 0.5233 | Time: 68.68s\n",
                        "Best model found in epoch 4 | valid loss: 0.5233\n"
                    ]
                },
                {
                    "name": "stdout",
                    "output_type": "stream",
                    "text": [
                        "Epoch 4 [242/243] | Valid Loss: 0.5233 | Elapse: 18.63s\n"
                    ]
                },
                {
                    "data": {
                        "application/vnd.jupyter.widget-view+json": {
                            "model_id": "e69a6495295d405d82d118df9dfb58fd",
                            "version_major": 2,
                            "version_minor": 0
                        },
                        "text/plain": [
                            "Train [4]:   0%|          | 0/386 [00:00<?, ?batch/s]"
                        ]
                    },
                    "metadata": {},
                    "output_type": "display_data"
                },
                {
                    "name": "stdout",
                    "output_type": "stream",
                    "text": [
                        "Epoch 5 [0/386] | Train Loss: 0.1717 Grad: 128331.5391 LR: 3.0086e-05 | Elapse: 0.13s\n",
                        "Epoch 5 [50/386] | Train Loss: 0.1761 Grad: 125889.6641 LR: 2.6692e-05 | Elapse: 6.65s\n",
                        "Epoch 5 [100/386] | Train Loss: 0.1729 Grad: 91437.4609 LR: 2.3430e-05 | Elapse: 13.18s\n",
                        "Epoch 5 [150/386] | Train Loss: 0.1695 Grad: 92775.7578 LR: 2.0319e-05 | Elapse: 19.66s\n",
                        "Epoch 5 [200/386] | Train Loss: 0.1655 Grad: 114663.7578 LR: 1.7377e-05 | Elapse: 26.15s\n",
                        "Epoch 5 [250/386] | Train Loss: 0.1647 Grad: 143654.5156 LR: 1.4620e-05 | Elapse: 32.68s\n",
                        "Epoch 5 [300/386] | Train Loss: 0.1630 Grad: 131709.1719 LR: 1.2064e-05 | Elapse: 39.19s\n",
                        "Epoch 5 [350/386] | Train Loss: 0.1632 Grad: 123467.2109 LR: 9.7239e-06 | Elapse: 45.67s\n",
                        "Epoch 5 [385/386] | Train Loss: 0.1625 Grad: 132137.1250 LR: 8.2210e-06 | Elapse: 50.21s\n"
                    ]
                },
                {
                    "data": {
                        "application/vnd.jupyter.widget-view+json": {
                            "model_id": "e7b1f3e5897f47249e4b43f0328c5c75",
                            "version_major": 2,
                            "version_minor": 0
                        },
                        "text/plain": [
                            "Valid [4]:   0%|          | 0/243 [00:00<?, ?batch/s]"
                        ]
                    },
                    "metadata": {},
                    "output_type": "display_data"
                },
                {
                    "name": "stdout",
                    "output_type": "stream",
                    "text": [
                        "Epoch 5 [0/243] | Valid Loss: 0.6636 | Elapse: 0.08s\n",
                        "Epoch 5 [50/243] | Valid Loss: 0.4804 | Elapse: 3.92s\n",
                        "Epoch 5 [100/243] | Valid Loss: 0.5012 | Elapse: 7.76s\n",
                        "Epoch 5 [150/243] | Valid Loss: 0.4971 | Elapse: 11.59s\n",
                        "Epoch 5 [200/243] | Valid Loss: 0.5112 | Elapse: 15.40s\n"
                    ]
                },
                {
                    "name": "stderr",
                    "output_type": "stream",
                    "text": [
                        "----------------------------------------------------------------------------------------------------\n",
                        "Epoch 5 - Average Loss: (train) 0.1625; (valid) 0.5107 | Time: 68.81s\n",
                        "Best model found in epoch 5 | valid loss: 0.5107\n"
                    ]
                },
                {
                    "name": "stdout",
                    "output_type": "stream",
                    "text": [
                        "Epoch 5 [242/243] | Valid Loss: 0.5107 | Elapse: 18.59s\n"
                    ]
                },
                {
                    "data": {
                        "application/vnd.jupyter.widget-view+json": {
                            "model_id": "1205315400e24fab9dddb1a3ff2723b8",
                            "version_major": 2,
                            "version_minor": 0
                        },
                        "text/plain": [
                            "Train [5]:   0%|          | 0/386 [00:00<?, ?batch/s]"
                        ]
                    },
                    "metadata": {},
                    "output_type": "display_data"
                },
                {
                    "name": "stdout",
                    "output_type": "stream",
                    "text": [
                        "Epoch 6 [0/386] | Train Loss: 0.1059 Grad: 97147.0469 LR: 8.1797e-06 | Elapse: 0.14s\n",
                        "Epoch 6 [50/386] | Train Loss: 0.1519 Grad: 102345.5234 LR: 6.2402e-06 | Elapse: 6.67s\n",
                        "Epoch 6 [100/386] | Train Loss: 0.1556 Grad: 114089.2891 LR: 4.5492e-06 | Elapse: 13.20s\n",
                        "Epoch 6 [150/386] | Train Loss: 0.1542 Grad: 108915.1406 LR: 3.1163e-06 | Elapse: 19.73s\n",
                        "Epoch 6 [200/386] | Train Loss: 0.1519 Grad: 103427.5781 LR: 1.9497e-06 | Elapse: 26.25s\n",
                        "Epoch 6 [250/386] | Train Loss: 0.1512 Grad: 117660.5859 LR: 1.0559e-06 | Elapse: 32.75s\n",
                        "Epoch 6 [300/386] | Train Loss: 0.1508 Grad: 87680.4453 LR: 4.4002e-07 | Elapse: 39.26s\n",
                        "Epoch 6 [350/386] | Train Loss: 0.1504 Grad: 92209.2734 LR: 1.0561e-07 | Elapse: 45.73s\n",
                        "Epoch 6 [385/386] | Train Loss: 0.1504 Grad: 127752.9141 LR: 4.0057e-08 | Elapse: 50.28s\n"
                    ]
                },
                {
                    "data": {
                        "application/vnd.jupyter.widget-view+json": {
                            "model_id": "260d86f98e1141fdbe28716f2293d414",
                            "version_major": 2,
                            "version_minor": 0
                        },
                        "text/plain": [
                            "Valid [5]:   0%|          | 0/243 [00:00<?, ?batch/s]"
                        ]
                    },
                    "metadata": {},
                    "output_type": "display_data"
                },
                {
                    "name": "stdout",
                    "output_type": "stream",
                    "text": [
                        "Epoch 6 [0/243] | Valid Loss: 0.6453 | Elapse: 0.08s\n",
                        "Epoch 6 [50/243] | Valid Loss: 0.4754 | Elapse: 3.90s\n",
                        "Epoch 6 [100/243] | Valid Loss: 0.4945 | Elapse: 7.72s\n",
                        "Epoch 6 [150/243] | Valid Loss: 0.4901 | Elapse: 11.54s\n",
                        "Epoch 6 [200/243] | Valid Loss: 0.5048 | Elapse: 15.36s\n"
                    ]
                },
                {
                    "name": "stderr",
                    "output_type": "stream",
                    "text": [
                        "----------------------------------------------------------------------------------------------------\n",
                        "Epoch 6 - Average Loss: (train) 0.1504; (valid) 0.5045 | Time: 68.83s\n",
                        "Best model found in epoch 6 | valid loss: 0.5045\n"
                    ]
                },
                {
                    "name": "stdout",
                    "output_type": "stream",
                    "text": [
                        "Epoch 6 [242/243] | Valid Loss: 0.5045 | Elapse: 18.55s\n"
                    ]
                },
                {
                    "name": "stderr",
                    "output_type": "stream",
                    "text": [
                        "====================================================================================================\n",
                        "Fold 1 Valid Loss: 0.5044715404510498\n",
                        "Elapse: 6.88 min \n",
                        "====================================================================================================\n",
                        "====================================================================================================\n",
                        "Fold: 2 || Valid size 4124 \n",
                        "====================================================================================================\n",
                        "- First Stage -\n"
                    ]
                },
                {
                    "data": {
                        "application/vnd.jupyter.widget-view+json": {
                            "model_id": "2dcce199a6d54c4fa9cd62cc243e766a",
                            "version_major": 2,
                            "version_minor": 0
                        },
                        "text/plain": [
                            "Train [0]:   0%|          | 0/1003 [00:00<?, ?batch/s]"
                        ]
                    },
                    "metadata": {},
                    "output_type": "display_data"
                },
                {
                    "name": "stdout",
                    "output_type": "stream",
                    "text": [
                        "Epoch 1 [0/1003] | Train Loss: 1.4538 Grad: 250157.5625 LR: 4.0007e-06 | Elapse: 0.14s\n",
                        "Epoch 1 [50/1003] | Train Loss: 1.4418 Grad: 167903.9062 LR: 5.6967e-06 | Elapse: 6.62s\n",
                        "Epoch 1 [100/1003] | Train Loss: 1.4263 Grad: 278957.2500 LR: 1.0540e-05 | Elapse: 13.07s\n",
                        "Epoch 1 [150/1003] | Train Loss: 1.3888 Grad: 101987.3906 LR: 1.8201e-05 | Elapse: 19.52s\n",
                        "Epoch 1 [200/1003] | Train Loss: 1.3451 Grad: 98246.8047 LR: 2.8160e-05 | Elapse: 25.99s\n",
                        "Epoch 1 [250/1003] | Train Loss: 1.3090 Grad: 146690.8594 LR: 3.9738e-05 | Elapse: 32.46s\n",
                        "Epoch 1 [300/1003] | Train Loss: 1.2735 Grad: 200370.2969 LR: 5.2151e-05 | Elapse: 38.93s\n",
                        "Epoch 1 [350/1003] | Train Loss: 1.2376 Grad: 109907.8125 LR: 6.4553e-05 | Elapse: 45.43s\n",
                        "Epoch 1 [400/1003] | Train Loss: 1.1977 Grad: 144838.6250 LR: 7.6101e-05 | Elapse: 51.95s\n",
                        "Epoch 1 [450/1003] | Train Loss: 1.1561 Grad: 121857.5391 LR: 8.6012e-05 | Elapse: 58.44s\n",
                        "Epoch 1 [500/1003] | Train Loss: 1.1209 Grad: 72806.7891 LR: 9.3611e-05 | Elapse: 64.94s\n",
                        "Epoch 1 [550/1003] | Train Loss: 1.0899 Grad: 122132.5781 LR: 9.8382e-05 | Elapse: 71.45s\n",
                        "Epoch 1 [600/1003] | Train Loss: 1.0627 Grad: 41586.1016 LR: 1.0000e-04 | Elapse: 77.91s\n",
                        "Epoch 1 [650/1003] | Train Loss: 1.0400 Grad: 55333.2695 LR: 9.9979e-05 | Elapse: 84.38s\n",
                        "Epoch 1 [700/1003] | Train Loss: 1.0179 Grad: 64882.8555 LR: 9.9916e-05 | Elapse: 90.88s\n",
                        "Epoch 1 [750/1003] | Train Loss: 0.9987 Grad: 74273.4062 LR: 9.9810e-05 | Elapse: 97.38s\n",
                        "Epoch 1 [800/1003] | Train Loss: 0.9844 Grad: 48876.7461 LR: 9.9663e-05 | Elapse: 103.84s\n",
                        "Epoch 1 [850/1003] | Train Loss: 0.9695 Grad: 43232.0469 LR: 9.9475e-05 | Elapse: 110.30s\n",
                        "Epoch 1 [900/1003] | Train Loss: 0.9533 Grad: 58589.3750 LR: 9.9244e-05 | Elapse: 116.76s\n",
                        "Epoch 1 [950/1003] | Train Loss: 0.9389 Grad: 51773.0078 LR: 9.8972e-05 | Elapse: 123.21s\n",
                        "Epoch 1 [1000/1003] | Train Loss: 0.9261 Grad: 74465.5234 LR: 9.8659e-05 | Elapse: 129.67s\n",
                        "Epoch 1 [1002/1003] | Train Loss: 0.9255 Grad: 53001.9375 LR: 9.8646e-05 | Elapse: 129.93s\n"
                    ]
                },
                {
                    "data": {
                        "application/vnd.jupyter.widget-view+json": {
                            "model_id": "0e6fa0a0de1b48818c71a0c0e7512e2e",
                            "version_major": 2,
                            "version_minor": 0
                        },
                        "text/plain": [
                            "Valid [0]:   0%|          | 0/258 [00:00<?, ?batch/s]"
                        ]
                    },
                    "metadata": {},
                    "output_type": "display_data"
                },
                {
                    "name": "stdout",
                    "output_type": "stream",
                    "text": [
                        "Epoch 1 [0/258] | Valid Loss: 0.6134 | Elapse: 0.09s\n",
                        "Epoch 1 [50/258] | Valid Loss: 0.6286 | Elapse: 3.89s\n",
                        "Epoch 1 [100/258] | Valid Loss: 0.6185 | Elapse: 7.68s\n",
                        "Epoch 1 [150/258] | Valid Loss: 0.6377 | Elapse: 11.47s\n",
                        "Epoch 1 [200/258] | Valid Loss: 0.6380 | Elapse: 15.26s\n",
                        "Epoch 1 [250/258] | Valid Loss: 0.6476 | Elapse: 19.06s\n"
                    ]
                },
                {
                    "name": "stderr",
                    "output_type": "stream",
                    "text": [
                        "----------------------------------------------------------------------------------------------------\n",
                        "Epoch 1 - Average Loss: (train) 0.9255; (valid) 0.6463 | Time: 149.54s\n",
                        "Best model found in epoch 1 | valid loss: 0.6463\n"
                    ]
                },
                {
                    "name": "stdout",
                    "output_type": "stream",
                    "text": [
                        "Epoch 1 [257/258] | Valid Loss: 0.6463 | Elapse: 19.60s\n"
                    ]
                },
                {
                    "data": {
                        "application/vnd.jupyter.widget-view+json": {
                            "model_id": "b74cac43e1d94b96bec821ac0073146d",
                            "version_major": 2,
                            "version_minor": 0
                        },
                        "text/plain": [
                            "Train [1]:   0%|          | 0/1003 [00:00<?, ?batch/s]"
                        ]
                    },
                    "metadata": {},
                    "output_type": "display_data"
                },
                {
                    "name": "stdout",
                    "output_type": "stream",
                    "text": [
                        "Epoch 2 [0/1003] | Train Loss: 0.5104 Grad: 178541.8594 LR: 9.8639e-05 | Elapse: 0.14s\n",
                        "Epoch 2 [50/1003] | Train Loss: 0.6967 Grad: 123012.6094 LR: 9.8283e-05 | Elapse: 6.59s\n",
                        "Epoch 2 [100/1003] | Train Loss: 0.6759 Grad: 84762.9219 LR: 9.7886e-05 | Elapse: 13.03s\n",
                        "Epoch 2 [150/1003] | Train Loss: 0.6731 Grad: 102212.1797 LR: 9.7449e-05 | Elapse: 19.51s\n",
                        "Epoch 2 [200/1003] | Train Loss: 0.6690 Grad: 82634.0938 LR: 9.6972e-05 | Elapse: 26.00s\n",
                        "Epoch 2 [250/1003] | Train Loss: 0.6703 Grad: 116386.0781 LR: 9.6455e-05 | Elapse: 32.48s\n",
                        "Epoch 2 [300/1003] | Train Loss: 0.6691 Grad: 145127.1562 LR: 9.5900e-05 | Elapse: 38.95s\n",
                        "Epoch 2 [350/1003] | Train Loss: 0.6670 Grad: 122365.6016 LR: 9.5306e-05 | Elapse: 45.41s\n",
                        "Epoch 2 [400/1003] | Train Loss: 0.6569 Grad: 107923.3047 LR: 9.4673e-05 | Elapse: 51.88s\n",
                        "Epoch 2 [450/1003] | Train Loss: 0.6506 Grad: 89082.2266 LR: 9.4004e-05 | Elapse: 58.35s\n",
                        "Epoch 2 [500/1003] | Train Loss: 0.6425 Grad: 59601.3945 LR: 9.3297e-05 | Elapse: 64.82s\n",
                        "Epoch 2 [550/1003] | Train Loss: 0.6333 Grad: 84938.3516 LR: 9.2553e-05 | Elapse: 71.34s\n",
                        "Epoch 2 [600/1003] | Train Loss: 0.6245 Grad: 41177.7539 LR: 9.1774e-05 | Elapse: 77.82s\n",
                        "Epoch 2 [650/1003] | Train Loss: 0.6192 Grad: 60851.9727 LR: 9.0960e-05 | Elapse: 84.34s\n",
                        "Epoch 2 [700/1003] | Train Loss: 0.6125 Grad: 51299.4180 LR: 9.0112e-05 | Elapse: 90.83s\n",
                        "Epoch 2 [750/1003] | Train Loss: 0.6075 Grad: 92594.4453 LR: 8.9230e-05 | Elapse: 97.34s\n",
                        "Epoch 2 [800/1003] | Train Loss: 0.6057 Grad: 39046.0938 LR: 8.8314e-05 | Elapse: 103.84s\n",
                        "Epoch 2 [850/1003] | Train Loss: 0.6019 Grad: 49654.9531 LR: 8.7367e-05 | Elapse: 110.33s\n",
                        "Epoch 2 [900/1003] | Train Loss: 0.5956 Grad: 59798.6289 LR: 8.6388e-05 | Elapse: 116.80s\n",
                        "Epoch 2 [950/1003] | Train Loss: 0.5919 Grad: 59286.7109 LR: 8.5379e-05 | Elapse: 123.27s\n",
                        "Epoch 2 [1000/1003] | Train Loss: 0.5880 Grad: 78423.2656 LR: 8.4339e-05 | Elapse: 129.73s\n",
                        "Epoch 2 [1002/1003] | Train Loss: 0.5879 Grad: 51480.1250 LR: 8.4297e-05 | Elapse: 129.99s\n"
                    ]
                },
                {
                    "data": {
                        "application/vnd.jupyter.widget-view+json": {
                            "model_id": "9423ac786ea34ce98b83e636970af051",
                            "version_major": 2,
                            "version_minor": 0
                        },
                        "text/plain": [
                            "Valid [1]:   0%|          | 0/258 [00:00<?, ?batch/s]"
                        ]
                    },
                    "metadata": {},
                    "output_type": "display_data"
                },
                {
                    "name": "stdout",
                    "output_type": "stream",
                    "text": [
                        "Epoch 2 [0/258] | Valid Loss: 0.4565 | Elapse: 0.09s\n",
                        "Epoch 2 [50/258] | Valid Loss: 0.5662 | Elapse: 3.89s\n",
                        "Epoch 2 [100/258] | Valid Loss: 0.5583 | Elapse: 7.70s\n",
                        "Epoch 2 [150/258] | Valid Loss: 0.5817 | Elapse: 11.49s\n",
                        "Epoch 2 [200/258] | Valid Loss: 0.5776 | Elapse: 15.29s\n",
                        "Epoch 2 [250/258] | Valid Loss: 0.5857 | Elapse: 19.09s\n"
                    ]
                },
                {
                    "name": "stderr",
                    "output_type": "stream",
                    "text": [
                        "----------------------------------------------------------------------------------------------------\n",
                        "Epoch 2 - Average Loss: (train) 0.5879; (valid) 0.5843 | Time: 149.60s\n",
                        "Best model found in epoch 2 | valid loss: 0.5843\n"
                    ]
                },
                {
                    "name": "stdout",
                    "output_type": "stream",
                    "text": [
                        "Epoch 2 [257/258] | Valid Loss: 0.5843 | Elapse: 19.60s\n"
                    ]
                },
                {
                    "data": {
                        "application/vnd.jupyter.widget-view+json": {
                            "model_id": "bb93bf2e24314c89bd1553e987406620",
                            "version_major": 2,
                            "version_minor": 0
                        },
                        "text/plain": [
                            "Train [2]:   0%|          | 0/1003 [00:00<?, ?batch/s]"
                        ]
                    },
                    "metadata": {},
                    "output_type": "display_data"
                },
                {
                    "name": "stdout",
                    "output_type": "stream",
                    "text": [
                        "Epoch 3 [0/1003] | Train Loss: 0.3997 Grad: 174735.7969 LR: 8.4276e-05 | Elapse: 0.13s\n",
                        "Epoch 3 [50/1003] | Train Loss: 0.5583 Grad: 154513.9062 LR: 8.3206e-05 | Elapse: 6.58s\n",
                        "Epoch 3 [100/1003] | Train Loss: 0.5321 Grad: 90241.7266 LR: 8.2109e-05 | Elapse: 13.09s\n",
                        "Epoch 3 [150/1003] | Train Loss: 0.5266 Grad: 74925.0391 LR: 8.0984e-05 | Elapse: 19.61s\n",
                        "Epoch 3 [200/1003] | Train Loss: 0.5210 Grad: 83668.0703 LR: 7.9833e-05 | Elapse: 26.06s\n",
                        "Epoch 3 [250/1003] | Train Loss: 0.5243 Grad: 63119.2031 LR: 7.8658e-05 | Elapse: 32.57s\n",
                        "Epoch 3 [300/1003] | Train Loss: 0.5218 Grad: 53537.3828 LR: 7.7458e-05 | Elapse: 39.06s\n",
                        "Epoch 3 [350/1003] | Train Loss: 0.5212 Grad: 50695.4648 LR: 7.6235e-05 | Elapse: 45.63s\n",
                        "Epoch 3 [400/1003] | Train Loss: 0.5122 Grad: 69571.0469 LR: 7.4990e-05 | Elapse: 52.13s\n",
                        "Epoch 3 [450/1003] | Train Loss: 0.5068 Grad: 40947.2344 LR: 7.3724e-05 | Elapse: 58.62s\n",
                        "Epoch 3 [500/1003] | Train Loss: 0.5004 Grad: 31621.5469 LR: 7.2438e-05 | Elapse: 65.08s\n",
                        "Epoch 3 [550/1003] | Train Loss: 0.4925 Grad: 45396.4727 LR: 7.1133e-05 | Elapse: 71.55s\n",
                        "Epoch 3 [600/1003] | Train Loss: 0.4855 Grad: 36592.6562 LR: 6.9811e-05 | Elapse: 78.03s\n",
                        "Epoch 3 [650/1003] | Train Loss: 0.4805 Grad: 47388.0859 LR: 6.8472e-05 | Elapse: 84.54s\n",
                        "Epoch 3 [700/1003] | Train Loss: 0.4739 Grad: 50804.0703 LR: 6.7117e-05 | Elapse: 91.02s\n",
                        "Epoch 3 [750/1003] | Train Loss: 0.4692 Grad: 71437.4531 LR: 6.5748e-05 | Elapse: 97.52s\n",
                        "Epoch 3 [800/1003] | Train Loss: 0.4672 Grad: 78059.8828 LR: 6.4366e-05 | Elapse: 103.98s\n",
                        "Epoch 3 [850/1003] | Train Loss: 0.4634 Grad: 62306.0859 LR: 6.2971e-05 | Elapse: 110.48s\n",
                        "Epoch 3 [900/1003] | Train Loss: 0.4573 Grad: 50831.2305 LR: 6.1566e-05 | Elapse: 116.94s\n",
                        "Epoch 3 [950/1003] | Train Loss: 0.4543 Grad: 61728.6641 LR: 6.0151e-05 | Elapse: 123.46s\n",
                        "Epoch 3 [1000/1003] | Train Loss: 0.4508 Grad: 98981.2891 LR: 5.8727e-05 | Elapse: 130.01s\n",
                        "Epoch 3 [1002/1003] | Train Loss: 0.4507 Grad: 47224.6562 LR: 5.8670e-05 | Elapse: 130.26s\n"
                    ]
                },
                {
                    "data": {
                        "application/vnd.jupyter.widget-view+json": {
                            "model_id": "a7ef7ae605fd46e6b3f4a79a628054dc",
                            "version_major": 2,
                            "version_minor": 0
                        },
                        "text/plain": [
                            "Valid [2]:   0%|          | 0/258 [00:00<?, ?batch/s]"
                        ]
                    },
                    "metadata": {},
                    "output_type": "display_data"
                },
                {
                    "name": "stdout",
                    "output_type": "stream",
                    "text": [
                        "Epoch 3 [0/258] | Valid Loss: 0.3407 | Elapse: 0.09s\n",
                        "Epoch 3 [50/258] | Valid Loss: 0.5651 | Elapse: 3.89s\n",
                        "Epoch 3 [100/258] | Valid Loss: 0.5597 | Elapse: 7.69s\n",
                        "Epoch 3 [150/258] | Valid Loss: 0.5806 | Elapse: 11.48s\n",
                        "Epoch 3 [200/258] | Valid Loss: 0.5751 | Elapse: 15.28s\n",
                        "Epoch 3 [250/258] | Valid Loss: 0.5853 | Elapse: 19.09s\n"
                    ]
                },
                {
                    "name": "stderr",
                    "output_type": "stream",
                    "text": [
                        "----------------------------------------------------------------------------------------------------\n",
                        "Epoch 3 - Average Loss: (train) 0.4507; (valid) 0.5848 | Time: 149.87s\n"
                    ]
                },
                {
                    "name": "stdout",
                    "output_type": "stream",
                    "text": [
                        "Epoch 3 [257/258] | Valid Loss: 0.5848 | Elapse: 19.60s\n"
                    ]
                },
                {
                    "data": {
                        "application/vnd.jupyter.widget-view+json": {
                            "model_id": "c39703d6bf0a46fd911844387db043ec",
                            "version_major": 2,
                            "version_minor": 0
                        },
                        "text/plain": [
                            "Train [3]:   0%|          | 0/1003 [00:00<?, ?batch/s]"
                        ]
                    },
                    "metadata": {},
                    "output_type": "display_data"
                },
                {
                    "name": "stdout",
                    "output_type": "stream",
                    "text": [
                        "Epoch 4 [0/1003] | Train Loss: 0.3190 Grad: 188406.8750 LR: 5.8642e-05 | Elapse: 0.14s\n",
                        "Epoch 4 [50/1003] | Train Loss: 0.4489 Grad: 79789.5234 LR: 5.7211e-05 | Elapse: 6.58s\n",
                        "Epoch 4 [100/1003] | Train Loss: 0.4123 Grad: 52512.5156 LR: 5.5773e-05 | Elapse: 13.07s\n",
                        "Epoch 4 [150/1003] | Train Loss: 0.4049 Grad: 37197.8516 LR: 5.4331e-05 | Elapse: 19.57s\n",
                        "Epoch 4 [200/1003] | Train Loss: 0.3991 Grad: 42189.4219 LR: 5.2886e-05 | Elapse: 26.05s\n",
                        "Epoch 4 [250/1003] | Train Loss: 0.3990 Grad: 46874.7422 LR: 5.1437e-05 | Elapse: 32.58s\n",
                        "Epoch 4 [300/1003] | Train Loss: 0.3974 Grad: 45589.0469 LR: 4.9988e-05 | Elapse: 39.05s\n",
                        "Epoch 4 [350/1003] | Train Loss: 0.3970 Grad: 75029.8984 LR: 4.8539e-05 | Elapse: 45.56s\n",
                        "Epoch 4 [400/1003] | Train Loss: 0.3897 Grad: 57559.6836 LR: 4.7091e-05 | Elapse: 52.05s\n",
                        "Epoch 4 [450/1003] | Train Loss: 0.3862 Grad: 41216.4492 LR: 4.5645e-05 | Elapse: 58.56s\n",
                        "Epoch 4 [500/1003] | Train Loss: 0.3816 Grad: 43700.9258 LR: 4.4203e-05 | Elapse: 65.06s\n",
                        "Epoch 4 [550/1003] | Train Loss: 0.3758 Grad: 53900.0312 LR: 4.2766e-05 | Elapse: 71.55s\n",
                        "Epoch 4 [600/1003] | Train Loss: 0.3718 Grad: 50460.6680 LR: 4.1335e-05 | Elapse: 78.02s\n",
                        "Epoch 4 [650/1003] | Train Loss: 0.3680 Grad: 52703.5391 LR: 3.9912e-05 | Elapse: 84.51s\n",
                        "Epoch 4 [700/1003] | Train Loss: 0.3631 Grad: 53745.4492 LR: 3.8497e-05 | Elapse: 91.04s\n",
                        "Epoch 4 [750/1003] | Train Loss: 0.3599 Grad: 52255.3828 LR: 3.7091e-05 | Elapse: 97.52s\n",
                        "Epoch 4 [800/1003] | Train Loss: 0.3588 Grad: 49997.1250 LR: 3.5697e-05 | Elapse: 104.00s\n",
                        "Epoch 4 [850/1003] | Train Loss: 0.3556 Grad: 51916.8828 LR: 3.4314e-05 | Elapse: 110.48s\n",
                        "Epoch 4 [900/1003] | Train Loss: 0.3516 Grad: 42821.5156 LR: 3.2945e-05 | Elapse: 116.97s\n",
                        "Epoch 4 [950/1003] | Train Loss: 0.3494 Grad: 109165.0625 LR: 3.1590e-05 | Elapse: 123.43s\n",
                        "Epoch 4 [1000/1003] | Train Loss: 0.3462 Grad: 83899.6719 LR: 3.0251e-05 | Elapse: 129.92s\n",
                        "Epoch 4 [1002/1003] | Train Loss: 0.3462 Grad: 39362.0469 LR: 3.0197e-05 | Elapse: 130.18s\n"
                    ]
                },
                {
                    "data": {
                        "application/vnd.jupyter.widget-view+json": {
                            "model_id": "233a37f216ed40eead593585b3fab610",
                            "version_major": 2,
                            "version_minor": 0
                        },
                        "text/plain": [
                            "Valid [3]:   0%|          | 0/258 [00:00<?, ?batch/s]"
                        ]
                    },
                    "metadata": {},
                    "output_type": "display_data"
                },
                {
                    "name": "stdout",
                    "output_type": "stream",
                    "text": [
                        "Epoch 4 [0/258] | Valid Loss: 0.3505 | Elapse: 0.08s\n",
                        "Epoch 4 [50/258] | Valid Loss: 0.5794 | Elapse: 3.89s\n",
                        "Epoch 4 [100/258] | Valid Loss: 0.5771 | Elapse: 7.70s\n",
                        "Epoch 4 [150/258] | Valid Loss: 0.5994 | Elapse: 11.51s\n",
                        "Epoch 4 [200/258] | Valid Loss: 0.5957 | Elapse: 15.32s\n",
                        "Epoch 4 [250/258] | Valid Loss: 0.6052 | Elapse: 19.13s\n"
                    ]
                },
                {
                    "name": "stderr",
                    "output_type": "stream",
                    "text": [
                        "----------------------------------------------------------------------------------------------------\n",
                        "Epoch 4 - Average Loss: (train) 0.3462; (valid) 0.6048 | Time: 149.84s\n"
                    ]
                },
                {
                    "name": "stdout",
                    "output_type": "stream",
                    "text": [
                        "Epoch 4 [257/258] | Valid Loss: 0.6048 | Elapse: 19.65s\n"
                    ]
                },
                {
                    "data": {
                        "application/vnd.jupyter.widget-view+json": {
                            "model_id": "701aa47bc7e14f2bad4e2d1b279f8813",
                            "version_major": 2,
                            "version_minor": 0
                        },
                        "text/plain": [
                            "Train [4]:   0%|          | 0/1003 [00:00<?, ?batch/s]"
                        ]
                    },
                    "metadata": {},
                    "output_type": "display_data"
                },
                {
                    "name": "stdout",
                    "output_type": "stream",
                    "text": [
                        "Epoch 5 [0/1003] | Train Loss: 0.2452 Grad: 218957.4844 LR: 3.0171e-05 | Elapse: 0.14s\n",
                        "Epoch 5 [50/1003] | Train Loss: 0.3672 Grad: inf LR: 2.8849e-05 | Elapse: 6.61s\n",
                        "Epoch 5 [100/1003] | Train Loss: 0.3320 Grad: 56751.5977 LR: 2.7545e-05 | Elapse: 13.07s\n",
                        "Epoch 5 [150/1003] | Train Loss: 0.3212 Grad: 34902.9766 LR: 2.6260e-05 | Elapse: 19.53s\n",
                        "Epoch 5 [200/1003] | Train Loss: 0.3180 Grad: 51098.0039 LR: 2.4995e-05 | Elapse: 26.02s\n",
                        "Epoch 5 [250/1003] | Train Loss: 0.3160 Grad: 61435.3672 LR: 2.3751e-05 | Elapse: 32.50s\n",
                        "Epoch 5 [300/1003] | Train Loss: 0.3144 Grad: 53097.6133 LR: 2.2529e-05 | Elapse: 39.00s\n",
                        "Epoch 5 [350/1003] | Train Loss: 0.3157 Grad: 63547.5742 LR: 2.1330e-05 | Elapse: 45.48s\n",
                        "Epoch 5 [400/1003] | Train Loss: 0.3097 Grad: 57088.7148 LR: 2.0155e-05 | Elapse: 52.01s\n",
                        "Epoch 5 [450/1003] | Train Loss: 0.3059 Grad: 60005.7031 LR: 1.9006e-05 | Elapse: 58.50s\n",
                        "Epoch 5 [500/1003] | Train Loss: 0.3032 Grad: 51465.5273 LR: 1.7882e-05 | Elapse: 65.01s\n",
                        "Epoch 5 [550/1003] | Train Loss: 0.2980 Grad: 85028.9297 LR: 1.6786e-05 | Elapse: 71.51s\n",
                        "Epoch 5 [600/1003] | Train Loss: 0.2949 Grad: 36479.8672 LR: 1.5717e-05 | Elapse: 77.99s\n",
                        "Epoch 5 [650/1003] | Train Loss: 0.2916 Grad: 53199.2266 LR: 1.4678e-05 | Elapse: 84.50s\n",
                        "Epoch 5 [700/1003] | Train Loss: 0.2889 Grad: 64654.2188 LR: 1.3668e-05 | Elapse: 91.01s\n",
                        "Epoch 5 [750/1003] | Train Loss: 0.2868 Grad: 54730.8203 LR: 1.2689e-05 | Elapse: 97.53s\n",
                        "Epoch 5 [800/1003] | Train Loss: 0.2860 Grad: 50245.0586 LR: 1.1741e-05 | Elapse: 104.04s\n",
                        "Epoch 5 [850/1003] | Train Loss: 0.2841 Grad: 47072.1289 LR: 1.0825e-05 | Elapse: 110.58s\n",
                        "Epoch 5 [900/1003] | Train Loss: 0.2810 Grad: 53986.3945 LR: 9.9420e-06 | Elapse: 117.12s\n",
                        "Epoch 5 [950/1003] | Train Loss: 0.2803 Grad: 65878.9297 LR: 9.0929e-06 | Elapse: 123.58s\n",
                        "Epoch 5 [1000/1003] | Train Loss: 0.2791 Grad: 80280.4062 LR: 8.2783e-06 | Elapse: 130.05s\n",
                        "Epoch 5 [1002/1003] | Train Loss: 0.2790 Grad: 43159.9180 LR: 8.2464e-06 | Elapse: 130.31s\n"
                    ]
                },
                {
                    "data": {
                        "application/vnd.jupyter.widget-view+json": {
                            "model_id": "ba47b46632494f45ac9c27322b9ac216",
                            "version_major": 2,
                            "version_minor": 0
                        },
                        "text/plain": [
                            "Valid [4]:   0%|          | 0/258 [00:00<?, ?batch/s]"
                        ]
                    },
                    "metadata": {},
                    "output_type": "display_data"
                },
                {
                    "name": "stdout",
                    "output_type": "stream",
                    "text": [
                        "Epoch 5 [0/258] | Valid Loss: 0.3283 | Elapse: 0.08s\n",
                        "Epoch 5 [50/258] | Valid Loss: 0.5941 | Elapse: 3.88s\n",
                        "Epoch 5 [100/258] | Valid Loss: 0.5921 | Elapse: 7.69s\n",
                        "Epoch 5 [150/258] | Valid Loss: 0.6152 | Elapse: 11.49s\n",
                        "Epoch 5 [200/258] | Valid Loss: 0.6121 | Elapse: 15.29s\n",
                        "Epoch 5 [250/258] | Valid Loss: 0.6200 | Elapse: 19.09s\n"
                    ]
                },
                {
                    "name": "stderr",
                    "output_type": "stream",
                    "text": [
                        "----------------------------------------------------------------------------------------------------\n",
                        "Epoch 5 - Average Loss: (train) 0.2790; (valid) 0.6192 | Time: 149.92s\n"
                    ]
                },
                {
                    "name": "stdout",
                    "output_type": "stream",
                    "text": [
                        "Epoch 5 [257/258] | Valid Loss: 0.6192 | Elapse: 19.60s\n"
                    ]
                },
                {
                    "data": {
                        "application/vnd.jupyter.widget-view+json": {
                            "model_id": "6e7114159cb542ffa6b0665628886ab7",
                            "version_major": 2,
                            "version_minor": 0
                        },
                        "text/plain": [
                            "Train [5]:   0%|          | 0/1003 [00:00<?, ?batch/s]"
                        ]
                    },
                    "metadata": {},
                    "output_type": "display_data"
                },
                {
                    "name": "stdout",
                    "output_type": "stream",
                    "text": [
                        "Epoch 6 [0/1003] | Train Loss: 0.2125 Grad: 161274.1562 LR: 8.2305e-06 | Elapse: 0.19s\n",
                        "Epoch 6 [50/1003] | Train Loss: 0.3372 Grad: 75510.4766 LR: 7.4531e-06 | Elapse: 6.69s\n",
                        "Epoch 6 [100/1003] | Train Loss: 0.2949 Grad: 67636.1328 LR: 6.7114e-06 | Elapse: 13.15s\n",
                        "Epoch 6 [150/1003] | Train Loss: 0.2865 Grad: 40958.2852 LR: 6.0062e-06 | Elapse: 19.62s\n",
                        "Epoch 6 [200/1003] | Train Loss: 0.2837 Grad: 37185.8867 LR: 5.3380e-06 | Elapse: 26.07s\n",
                        "Epoch 6 [250/1003] | Train Loss: 0.2823 Grad: 59669.3242 LR: 4.7074e-06 | Elapse: 32.52s\n",
                        "Epoch 6 [300/1003] | Train Loss: 0.2824 Grad: 35825.6445 LR: 4.1149e-06 | Elapse: 39.03s\n",
                        "Epoch 6 [350/1003] | Train Loss: 0.2818 Grad: 51612.2812 LR: 3.5610e-06 | Elapse: 45.49s\n",
                        "Epoch 6 [400/1003] | Train Loss: 0.2755 Grad: 48074.3516 LR: 3.0462e-06 | Elapse: 51.98s\n",
                        "Epoch 6 [450/1003] | Train Loss: 0.2726 Grad: 33318.0586 LR: 2.5709e-06 | Elapse: 58.52s\n",
                        "Epoch 6 [500/1003] | Train Loss: 0.2696 Grad: 46147.6758 LR: 2.1355e-06 | Elapse: 65.02s\n",
                        "Epoch 6 [550/1003] | Train Loss: 0.2666 Grad: 53563.3477 LR: 1.7404e-06 | Elapse: 71.48s\n",
                        "Epoch 6 [600/1003] | Train Loss: 0.2642 Grad: 40439.4180 LR: 1.3859e-06 | Elapse: 77.97s\n",
                        "Epoch 6 [650/1003] | Train Loss: 0.2629 Grad: 48886.5117 LR: 1.0723e-06 | Elapse: 84.44s\n",
                        "Epoch 6 [700/1003] | Train Loss: 0.2603 Grad: 46467.8750 LR: 7.9981e-07 | Elapse: 90.93s\n",
                        "Epoch 6 [750/1003] | Train Loss: 0.2592 Grad: 61460.4531 LR: 5.6876e-07 | Elapse: 97.42s\n",
                        "Epoch 6 [800/1003] | Train Loss: 0.2594 Grad: 57381.6602 LR: 3.7929e-07 | Elapse: 103.90s\n",
                        "Epoch 6 [850/1003] | Train Loss: 0.2584 Grad: 49688.0664 LR: 2.3158e-07 | Elapse: 110.39s\n",
                        "Epoch 6 [900/1003] | Train Loss: 0.2561 Grad: 38078.9766 LR: 1.2574e-07 | Elapse: 116.87s\n",
                        "Epoch 6 [950/1003] | Train Loss: 0.2553 Grad: 39724.6836 LR: 6.1867e-08 | Elapse: 123.36s\n",
                        "Epoch 6 [1000/1003] | Train Loss: 0.2544 Grad: 102585.5703 LR: 4.0008e-08 | Elapse: 129.83s\n",
                        "Epoch 6 [1002/1003] | Train Loss: 0.2544 Grad: 18870.8359 LR: 4.0008e-08 | Elapse: 130.09s\n"
                    ]
                },
                {
                    "data": {
                        "application/vnd.jupyter.widget-view+json": {
                            "model_id": "316af0fb95e84dac9d166501ad26c23e",
                            "version_major": 2,
                            "version_minor": 0
                        },
                        "text/plain": [
                            "Valid [5]:   0%|          | 0/258 [00:00<?, ?batch/s]"
                        ]
                    },
                    "metadata": {},
                    "output_type": "display_data"
                },
                {
                    "name": "stdout",
                    "output_type": "stream",
                    "text": [
                        "Epoch 6 [0/258] | Valid Loss: 0.3517 | Elapse: 0.09s\n",
                        "Epoch 6 [50/258] | Valid Loss: 0.5926 | Elapse: 3.91s\n",
                        "Epoch 6 [100/258] | Valid Loss: 0.5902 | Elapse: 7.71s\n",
                        "Epoch 6 [150/258] | Valid Loss: 0.6153 | Elapse: 11.50s\n",
                        "Epoch 6 [200/258] | Valid Loss: 0.6117 | Elapse: 15.32s\n",
                        "Epoch 6 [250/258] | Valid Loss: 0.6204 | Elapse: 19.11s\n"
                    ]
                },
                {
                    "name": "stderr",
                    "output_type": "stream",
                    "text": [
                        "----------------------------------------------------------------------------------------------------\n",
                        "Epoch 6 - Average Loss: (train) 0.2544; (valid) 0.6196 | Time: 149.72s\n"
                    ]
                },
                {
                    "name": "stdout",
                    "output_type": "stream",
                    "text": [
                        "Epoch 6 [257/258] | Valid Loss: 0.6196 | Elapse: 19.62s\n"
                    ]
                },
                {
                    "name": "stderr",
                    "output_type": "stream",
                    "text": [
                        "====================================================================================================\n",
                        "Fold 2 Valid Loss: 0.5843146443367004\n",
                        "Elapse: 14.98 min \n",
                        "====================================================================================================\n",
                        "- Second Stage -\n",
                        "Use Checkpoint: DualEncoder_B0_fold_2_stage_1.pth\n"
                    ]
                },
                {
                    "data": {
                        "application/vnd.jupyter.widget-view+json": {
                            "model_id": "e2dd92692a634f91b5f36418f0f581a1",
                            "version_major": 2,
                            "version_minor": 0
                        },
                        "text/plain": [
                            "Train [0]:   0%|          | 0/386 [00:00<?, ?batch/s]"
                        ]
                    },
                    "metadata": {},
                    "output_type": "display_data"
                },
                {
                    "name": "stderr",
                    "output_type": "stream",
                    "text": [
                        "/home/shiyi/miniconda3/envs/kaggle/lib/python3.11/site-packages/torch/optim/lr_scheduler.py:143: UserWarning: Detected call of `lr_scheduler.step()` before `optimizer.step()`. In PyTorch 1.1.0 and later, you should call them in the opposite order: `optimizer.step()` before `lr_scheduler.step()`.  Failure to do this will result in PyTorch skipping the first value of the learning rate schedule. See more details at https://pytorch.org/docs/stable/optim.html#how-to-adjust-learning-rate\n",
                        "  warnings.warn(\"Detected call of `lr_scheduler.step()` before `optimizer.step()`. \"\n"
                    ]
                },
                {
                    "name": "stdout",
                    "output_type": "stream",
                    "text": [
                        "Epoch 1 [0/386] | Train Loss: 0.5927 Grad: nan LR: 4.0045e-06 | Elapse: 0.13s\n",
                        "Epoch 1 [50/386] | Train Loss: 0.4572 Grad: 97016.3047 LR: 1.5127e-05 | Elapse: 6.59s\n",
                        "Epoch 1 [100/386] | Train Loss: 0.4381 Grad: 61281.2344 LR: 4.2708e-05 | Elapse: 13.07s\n",
                        "Epoch 1 [150/386] | Train Loss: 0.4177 Grad: 40127.3672 LR: 7.4436e-05 | Elapse: 19.54s\n",
                        "Epoch 1 [200/386] | Train Loss: 0.4039 Grad: 58915.2539 LR: 9.6150e-05 | Elapse: 26.01s\n",
                        "Epoch 1 [250/386] | Train Loss: 0.3954 Grad: 45258.1367 LR: 9.9976e-05 | Elapse: 32.49s\n",
                        "Epoch 1 [300/386] | Train Loss: 0.3858 Grad: 41039.6836 LR: 9.9719e-05 | Elapse: 39.01s\n",
                        "Epoch 1 [350/386] | Train Loss: 0.3772 Grad: 39681.6484 LR: 9.9179e-05 | Elapse: 45.51s\n",
                        "Epoch 1 [385/386] | Train Loss: 0.3744 Grad: 54463.2461 LR: 9.8635e-05 | Elapse: 50.06s\n"
                    ]
                },
                {
                    "data": {
                        "application/vnd.jupyter.widget-view+json": {
                            "model_id": "4887d53084304573a688f9938effd664",
                            "version_major": 2,
                            "version_minor": 0
                        },
                        "text/plain": [
                            "Valid [0]:   0%|          | 0/258 [00:00<?, ?batch/s]"
                        ]
                    },
                    "metadata": {},
                    "output_type": "display_data"
                },
                {
                    "name": "stdout",
                    "output_type": "stream",
                    "text": [
                        "Epoch 1 [0/258] | Valid Loss: 0.4602 | Elapse: 0.08s\n",
                        "Epoch 1 [50/258] | Valid Loss: 0.6137 | Elapse: 3.88s\n",
                        "Epoch 1 [100/258] | Valid Loss: 0.5957 | Elapse: 7.68s\n",
                        "Epoch 1 [150/258] | Valid Loss: 0.6040 | Elapse: 11.50s\n",
                        "Epoch 1 [200/258] | Valid Loss: 0.5995 | Elapse: 15.31s\n",
                        "Epoch 1 [250/258] | Valid Loss: 0.6008 | Elapse: 19.12s\n"
                    ]
                },
                {
                    "name": "stderr",
                    "output_type": "stream",
                    "text": [
                        "----------------------------------------------------------------------------------------------------\n",
                        "Epoch 1 - Average Loss: (train) 0.3744; (valid) 0.6003 | Time: 69.70s\n",
                        "Best model found in epoch 1 | valid loss: 0.6003\n"
                    ]
                },
                {
                    "name": "stdout",
                    "output_type": "stream",
                    "text": [
                        "Epoch 1 [257/258] | Valid Loss: 0.6003 | Elapse: 19.64s\n"
                    ]
                },
                {
                    "data": {
                        "application/vnd.jupyter.widget-view+json": {
                            "model_id": "3b7cd75aebe64967a5cbb3f174bc5b2c",
                            "version_major": 2,
                            "version_minor": 0
                        },
                        "text/plain": [
                            "Train [1]:   0%|          | 0/386 [00:00<?, ?batch/s]"
                        ]
                    },
                    "metadata": {},
                    "output_type": "display_data"
                },
                {
                    "name": "stdout",
                    "output_type": "stream",
                    "text": [
                        "Epoch 2 [0/386] | Train Loss: 0.3700 Grad: 209799.4062 LR: 9.8618e-05 | Elapse: 0.14s\n",
                        "Epoch 2 [50/386] | Train Loss: 0.3261 Grad: 56813.8359 LR: 9.7601e-05 | Elapse: 6.60s\n",
                        "Epoch 2 [100/386] | Train Loss: 0.3171 Grad: 77510.6328 LR: 9.6314e-05 | Elapse: 13.10s\n",
                        "Epoch 2 [150/386] | Train Loss: 0.3084 Grad: 78772.0234 LR: 9.4765e-05 | Elapse: 19.56s\n",
                        "Epoch 2 [200/386] | Train Loss: 0.2989 Grad: 76314.6484 LR: 9.2961e-05 | Elapse: 26.09s\n",
                        "Epoch 2 [250/386] | Train Loss: 0.2927 Grad: 82247.7891 LR: 9.0914e-05 | Elapse: 32.56s\n",
                        "Epoch 2 [300/386] | Train Loss: 0.2880 Grad: 72932.6875 LR: 8.8634e-05 | Elapse: 39.07s\n",
                        "Epoch 2 [350/386] | Train Loss: 0.2824 Grad: 52756.9648 LR: 8.6135e-05 | Elapse: 45.58s\n",
                        "Epoch 2 [385/386] | Train Loss: 0.2806 Grad: 86798.8906 LR: 8.4264e-05 | Elapse: 50.10s\n"
                    ]
                },
                {
                    "data": {
                        "application/vnd.jupyter.widget-view+json": {
                            "model_id": "e02df9335f0f483083bf3adf0c7d4ee2",
                            "version_major": 2,
                            "version_minor": 0
                        },
                        "text/plain": [
                            "Valid [1]:   0%|          | 0/258 [00:00<?, ?batch/s]"
                        ]
                    },
                    "metadata": {},
                    "output_type": "display_data"
                },
                {
                    "name": "stdout",
                    "output_type": "stream",
                    "text": [
                        "Epoch 2 [0/258] | Valid Loss: 0.4345 | Elapse: 0.08s\n",
                        "Epoch 2 [50/258] | Valid Loss: 0.5822 | Elapse: 3.89s\n",
                        "Epoch 2 [100/258] | Valid Loss: 0.5728 | Elapse: 7.69s\n",
                        "Epoch 2 [150/258] | Valid Loss: 0.5874 | Elapse: 11.50s\n",
                        "Epoch 2 [200/258] | Valid Loss: 0.5839 | Elapse: 15.32s\n",
                        "Epoch 2 [250/258] | Valid Loss: 0.5863 | Elapse: 19.12s\n"
                    ]
                },
                {
                    "name": "stderr",
                    "output_type": "stream",
                    "text": [
                        "----------------------------------------------------------------------------------------------------\n",
                        "Epoch 2 - Average Loss: (train) 0.2806; (valid) 0.5853 | Time: 69.75s\n",
                        "Best model found in epoch 2 | valid loss: 0.5853\n"
                    ]
                },
                {
                    "name": "stdout",
                    "output_type": "stream",
                    "text": [
                        "Epoch 2 [257/258] | Valid Loss: 0.5853 | Elapse: 19.64s\n"
                    ]
                },
                {
                    "data": {
                        "application/vnd.jupyter.widget-view+json": {
                            "model_id": "6e8a81f2b86748c8b12ca6864c8b3b89",
                            "version_major": 2,
                            "version_minor": 0
                        },
                        "text/plain": [
                            "Train [2]:   0%|          | 0/386 [00:00<?, ?batch/s]"
                        ]
                    },
                    "metadata": {},
                    "output_type": "display_data"
                },
                {
                    "name": "stdout",
                    "output_type": "stream",
                    "text": [
                        "Epoch 3 [0/386] | Train Loss: 0.2956 Grad: 195673.7031 LR: 8.4209e-05 | Elapse: 0.13s\n",
                        "Epoch 3 [50/386] | Train Loss: 0.2606 Grad: 94319.0078 LR: 8.1367e-05 | Elapse: 6.62s\n",
                        "Epoch 3 [100/386] | Train Loss: 0.2522 Grad: 59297.0078 LR: 7.8347e-05 | Elapse: 13.09s\n",
                        "Epoch 3 [150/386] | Train Loss: 0.2442 Grad: 71857.8047 LR: 7.5166e-05 | Elapse: 19.59s\n",
                        "Epoch 3 [200/386] | Train Loss: 0.2361 Grad: 50757.5859 LR: 7.1843e-05 | Elapse: 26.06s\n",
                        "Epoch 3 [250/386] | Train Loss: 0.2331 Grad: 84803.2578 LR: 6.8396e-05 | Elapse: 32.55s\n",
                        "Epoch 3 [300/386] | Train Loss: 0.2301 Grad: 80817.1406 LR: 6.4844e-05 | Elapse: 39.04s\n",
                        "Epoch 3 [350/386] | Train Loss: 0.2266 Grad: 54953.4102 LR: 6.1209e-05 | Elapse: 45.54s\n",
                        "Epoch 3 [385/386] | Train Loss: 0.2249 Grad: 87430.7344 LR: 5.8625e-05 | Elapse: 50.07s\n"
                    ]
                },
                {
                    "data": {
                        "application/vnd.jupyter.widget-view+json": {
                            "model_id": "9e9f0641293a4ebc9fdbd05c6f4638a1",
                            "version_major": 2,
                            "version_minor": 0
                        },
                        "text/plain": [
                            "Valid [2]:   0%|          | 0/258 [00:00<?, ?batch/s]"
                        ]
                    },
                    "metadata": {},
                    "output_type": "display_data"
                },
                {
                    "name": "stdout",
                    "output_type": "stream",
                    "text": [
                        "Epoch 3 [0/258] | Valid Loss: 0.4034 | Elapse: 0.08s\n",
                        "Epoch 3 [50/258] | Valid Loss: 0.5708 | Elapse: 3.89s\n",
                        "Epoch 3 [100/258] | Valid Loss: 0.5642 | Elapse: 7.70s\n",
                        "Epoch 3 [150/258] | Valid Loss: 0.5803 | Elapse: 11.50s\n",
                        "Epoch 3 [200/258] | Valid Loss: 0.5785 | Elapse: 15.30s\n",
                        "Epoch 3 [250/258] | Valid Loss: 0.5807 | Elapse: 19.10s\n"
                    ]
                },
                {
                    "name": "stderr",
                    "output_type": "stream",
                    "text": [
                        "----------------------------------------------------------------------------------------------------\n",
                        "Epoch 3 - Average Loss: (train) 0.2249; (valid) 0.5793 | Time: 69.70s\n",
                        "Best model found in epoch 3 | valid loss: 0.5793\n"
                    ]
                },
                {
                    "name": "stdout",
                    "output_type": "stream",
                    "text": [
                        "Epoch 3 [257/258] | Valid Loss: 0.5793 | Elapse: 19.62s\n"
                    ]
                },
                {
                    "data": {
                        "application/vnd.jupyter.widget-view+json": {
                            "model_id": "53766898641b4122953ac02913db914d",
                            "version_major": 2,
                            "version_minor": 0
                        },
                        "text/plain": [
                            "Train [3]:   0%|          | 0/386 [00:00<?, ?batch/s]"
                        ]
                    },
                    "metadata": {},
                    "output_type": "display_data"
                },
                {
                    "name": "stdout",
                    "output_type": "stream",
                    "text": [
                        "Epoch 4 [0/386] | Train Loss: 0.2081 Grad: 132829.2969 LR: 5.8551e-05 | Elapse: 0.14s\n",
                        "Epoch 4 [50/386] | Train Loss: 0.2056 Grad: 117087.2422 LR: 5.4819e-05 | Elapse: 6.64s\n",
                        "Epoch 4 [100/386] | Train Loss: 0.2029 Grad: 155647.6719 LR: 5.1059e-05 | Elapse: 13.14s\n",
                        "Epoch 4 [150/386] | Train Loss: 0.2009 Grad: 78132.3984 LR: 4.7294e-05 | Elapse: 19.64s\n",
                        "Epoch 4 [200/386] | Train Loss: 0.1966 Grad: 60631.1836 LR: 4.3545e-05 | Elapse: 26.22s\n",
                        "Epoch 4 [250/386] | Train Loss: 0.1949 Grad: 61156.2148 LR: 3.9832e-05 | Elapse: 32.71s\n",
                        "Epoch 4 [300/386] | Train Loss: 0.1923 Grad: 53701.0391 LR: 3.6177e-05 | Elapse: 39.21s\n",
                        "Epoch 4 [350/386] | Train Loss: 0.1902 Grad: 53676.0781 LR: 3.2601e-05 | Elapse: 45.73s\n",
                        "Epoch 4 [385/386] | Train Loss: 0.1890 Grad: 73026.0312 LR: 3.0155e-05 | Elapse: 50.30s\n"
                    ]
                },
                {
                    "data": {
                        "application/vnd.jupyter.widget-view+json": {
                            "model_id": "3da6d85dd2634d74bec457d516700d75",
                            "version_major": 2,
                            "version_minor": 0
                        },
                        "text/plain": [
                            "Valid [3]:   0%|          | 0/258 [00:00<?, ?batch/s]"
                        ]
                    },
                    "metadata": {},
                    "output_type": "display_data"
                },
                {
                    "name": "stdout",
                    "output_type": "stream",
                    "text": [
                        "Epoch 4 [0/258] | Valid Loss: 0.4216 | Elapse: 0.08s\n",
                        "Epoch 4 [50/258] | Valid Loss: 0.5600 | Elapse: 3.89s\n",
                        "Epoch 4 [100/258] | Valid Loss: 0.5519 | Elapse: 7.71s\n",
                        "Epoch 4 [150/258] | Valid Loss: 0.5708 | Elapse: 11.51s\n",
                        "Epoch 4 [200/258] | Valid Loss: 0.5688 | Elapse: 15.32s\n",
                        "Epoch 4 [250/258] | Valid Loss: 0.5699 | Elapse: 19.13s\n"
                    ]
                },
                {
                    "name": "stderr",
                    "output_type": "stream",
                    "text": [
                        "----------------------------------------------------------------------------------------------------\n",
                        "Epoch 4 - Average Loss: (train) 0.1890; (valid) 0.5688 | Time: 69.95s\n",
                        "Best model found in epoch 4 | valid loss: 0.5688\n"
                    ]
                },
                {
                    "name": "stdout",
                    "output_type": "stream",
                    "text": [
                        "Epoch 4 [257/258] | Valid Loss: 0.5688 | Elapse: 19.64s\n"
                    ]
                },
                {
                    "data": {
                        "application/vnd.jupyter.widget-view+json": {
                            "model_id": "084a5b4883994eaa96793ceea1c1be17",
                            "version_major": 2,
                            "version_minor": 0
                        },
                        "text/plain": [
                            "Train [4]:   0%|          | 0/386 [00:00<?, ?batch/s]"
                        ]
                    },
                    "metadata": {},
                    "output_type": "display_data"
                },
                {
                    "name": "stdout",
                    "output_type": "stream",
                    "text": [
                        "Epoch 5 [0/386] | Train Loss: 0.2018 Grad: 225164.0625 LR: 3.0086e-05 | Elapse: 0.13s\n",
                        "Epoch 5 [50/386] | Train Loss: 0.1699 Grad: 114994.9375 LR: 2.6692e-05 | Elapse: 6.61s\n",
                        "Epoch 5 [100/386] | Train Loss: 0.1710 Grad: 133934.0000 LR: 2.3430e-05 | Elapse: 13.08s\n",
                        "Epoch 5 [150/386] | Train Loss: 0.1721 Grad: 112435.6094 LR: 2.0319e-05 | Elapse: 19.58s\n",
                        "Epoch 5 [200/386] | Train Loss: 0.1687 Grad: 92566.5469 LR: 1.7377e-05 | Elapse: 26.07s\n",
                        "Epoch 5 [250/386] | Train Loss: 0.1672 Grad: 120263.1016 LR: 1.4620e-05 | Elapse: 32.62s\n",
                        "Epoch 5 [300/386] | Train Loss: 0.1664 Grad: 158332.0469 LR: 1.2064e-05 | Elapse: 39.14s\n",
                        "Epoch 5 [350/386] | Train Loss: 0.1647 Grad: 108396.8047 LR: 9.7239e-06 | Elapse: 45.62s\n",
                        "Epoch 5 [385/386] | Train Loss: 0.1644 Grad: 89017.1797 LR: 8.2210e-06 | Elapse: 50.20s\n"
                    ]
                },
                {
                    "data": {
                        "application/vnd.jupyter.widget-view+json": {
                            "model_id": "2e33f738ee4846b084f4f832b14858ce",
                            "version_major": 2,
                            "version_minor": 0
                        },
                        "text/plain": [
                            "Valid [4]:   0%|          | 0/258 [00:00<?, ?batch/s]"
                        ]
                    },
                    "metadata": {},
                    "output_type": "display_data"
                },
                {
                    "name": "stdout",
                    "output_type": "stream",
                    "text": [
                        "Epoch 5 [0/258] | Valid Loss: 0.4267 | Elapse: 0.08s\n",
                        "Epoch 5 [50/258] | Valid Loss: 0.5358 | Elapse: 3.90s\n",
                        "Epoch 5 [100/258] | Valid Loss: 0.5297 | Elapse: 7.70s\n",
                        "Epoch 5 [150/258] | Valid Loss: 0.5486 | Elapse: 11.49s\n",
                        "Epoch 5 [200/258] | Valid Loss: 0.5488 | Elapse: 15.29s\n",
                        "Epoch 5 [250/258] | Valid Loss: 0.5515 | Elapse: 19.09s\n"
                    ]
                },
                {
                    "name": "stderr",
                    "output_type": "stream",
                    "text": [
                        "----------------------------------------------------------------------------------------------------\n",
                        "Epoch 5 - Average Loss: (train) 0.1644; (valid) 0.5507 | Time: 69.81s\n",
                        "Best model found in epoch 5 | valid loss: 0.5507\n"
                    ]
                },
                {
                    "name": "stdout",
                    "output_type": "stream",
                    "text": [
                        "Epoch 5 [257/258] | Valid Loss: 0.5507 | Elapse: 19.60s\n"
                    ]
                },
                {
                    "data": {
                        "application/vnd.jupyter.widget-view+json": {
                            "model_id": "abbe547d93f246418b5b8c0a493fd02b",
                            "version_major": 2,
                            "version_minor": 0
                        },
                        "text/plain": [
                            "Train [5]:   0%|          | 0/386 [00:00<?, ?batch/s]"
                        ]
                    },
                    "metadata": {},
                    "output_type": "display_data"
                },
                {
                    "name": "stdout",
                    "output_type": "stream",
                    "text": [
                        "Epoch 6 [0/386] | Train Loss: 0.1431 Grad: 105394.3594 LR: 8.1797e-06 | Elapse: 0.14s\n",
                        "Epoch 6 [50/386] | Train Loss: 0.1565 Grad: 108362.9141 LR: 6.2402e-06 | Elapse: 6.59s\n",
                        "Epoch 6 [100/386] | Train Loss: 0.1605 Grad: 43342.7461 LR: 4.5492e-06 | Elapse: 13.07s\n",
                        "Epoch 6 [150/386] | Train Loss: 0.1602 Grad: 55987.6445 LR: 3.1163e-06 | Elapse: 19.53s\n",
                        "Epoch 6 [200/386] | Train Loss: 0.1584 Grad: 42076.8750 LR: 1.9497e-06 | Elapse: 26.01s\n",
                        "Epoch 6 [250/386] | Train Loss: 0.1571 Grad: 51791.3008 LR: 1.0559e-06 | Elapse: 32.47s\n",
                        "Epoch 6 [300/386] | Train Loss: 0.1557 Grad: 60738.0508 LR: 4.4002e-07 | Elapse: 38.96s\n",
                        "Epoch 6 [350/386] | Train Loss: 0.1550 Grad: 55208.8750 LR: 1.0561e-07 | Elapse: 45.43s\n",
                        "Epoch 6 [385/386] | Train Loss: 0.1551 Grad: 61579.9453 LR: 4.0057e-08 | Elapse: 49.98s\n"
                    ]
                },
                {
                    "data": {
                        "application/vnd.jupyter.widget-view+json": {
                            "model_id": "5a92456e6bba4512bcc81b1ab52fde82",
                            "version_major": 2,
                            "version_minor": 0
                        },
                        "text/plain": [
                            "Valid [5]:   0%|          | 0/258 [00:00<?, ?batch/s]"
                        ]
                    },
                    "metadata": {},
                    "output_type": "display_data"
                },
                {
                    "name": "stdout",
                    "output_type": "stream",
                    "text": [
                        "Epoch 6 [0/258] | Valid Loss: 0.4239 | Elapse: 0.08s\n",
                        "Epoch 6 [50/258] | Valid Loss: 0.5358 | Elapse: 3.90s\n",
                        "Epoch 6 [100/258] | Valid Loss: 0.5305 | Elapse: 7.71s\n",
                        "Epoch 6 [150/258] | Valid Loss: 0.5509 | Elapse: 11.52s\n",
                        "Epoch 6 [200/258] | Valid Loss: 0.5512 | Elapse: 15.33s\n",
                        "Epoch 6 [250/258] | Valid Loss: 0.5539 | Elapse: 19.14s\n"
                    ]
                },
                {
                    "name": "stderr",
                    "output_type": "stream",
                    "text": [
                        "----------------------------------------------------------------------------------------------------\n",
                        "Epoch 6 - Average Loss: (train) 0.1551; (valid) 0.5529 | Time: 69.64s\n"
                    ]
                },
                {
                    "name": "stdout",
                    "output_type": "stream",
                    "text": [
                        "Epoch 6 [257/258] | Valid Loss: 0.5529 | Elapse: 19.65s\n"
                    ]
                },
                {
                    "name": "stderr",
                    "output_type": "stream",
                    "text": [
                        "====================================================================================================\n",
                        "Fold 2 Valid Loss: 0.5507166981697083\n",
                        "Elapse: 6.99 min \n",
                        "====================================================================================================\n",
                        "====================================================================================================\n",
                        "Fold: 3 || Valid size 3846 \n",
                        "====================================================================================================\n",
                        "- First Stage -\n"
                    ]
                },
                {
                    "data": {
                        "application/vnd.jupyter.widget-view+json": {
                            "model_id": "27a438d5cdb34f94a31cca3d1184a522",
                            "version_major": 2,
                            "version_minor": 0
                        },
                        "text/plain": [
                            "Train [0]:   0%|          | 0/1021 [00:00<?, ?batch/s]"
                        ]
                    },
                    "metadata": {},
                    "output_type": "display_data"
                },
                {
                    "name": "stdout",
                    "output_type": "stream",
                    "text": [
                        "Epoch 1 [0/1021] | Train Loss: 1.3321 Grad: 208525.5469 LR: 4.0006e-06 | Elapse: 0.17s\n",
                        "Epoch 1 [50/1021] | Train Loss: 1.4013 Grad: 123593.3203 LR: 5.6377e-06 | Elapse: 6.64s\n",
                        "Epoch 1 [100/1021] | Train Loss: 1.3869 Grad: 98205.2578 LR: 1.0316e-05 | Elapse: 13.08s\n",
                        "Epoch 1 [150/1021] | Train Loss: 1.3525 Grad: 103137.5078 LR: 1.7729e-05 | Elapse: 19.54s\n",
                        "Epoch 1 [200/1021] | Train Loss: 1.3150 Grad: 147383.6094 LR: 2.7391e-05 | Elapse: 25.99s\n",
                        "Epoch 1 [250/1021] | Train Loss: 1.2838 Grad: 119219.8438 LR: 3.8666e-05 | Elapse: 32.44s\n",
                        "Epoch 1 [300/1021] | Train Loss: 1.2522 Grad: 59978.8438 LR: 5.0817e-05 | Elapse: 38.88s\n",
                        "Epoch 1 [350/1021] | Train Loss: 1.2211 Grad: 52853.5586 LR: 6.3045e-05 | Elapse: 45.32s\n",
                        "Epoch 1 [400/1021] | Train Loss: 1.1881 Grad: 58800.1992 LR: 7.4548e-05 | Elapse: 51.77s\n",
                        "Epoch 1 [450/1021] | Train Loss: 1.1515 Grad: 53926.4102 LR: 8.4572e-05 | Elapse: 58.22s\n",
                        "Epoch 1 [500/1021] | Train Loss: 1.1202 Grad: 54671.4258 LR: 9.2460e-05 | Elapse: 64.70s\n",
                        "Epoch 1 [550/1021] | Train Loss: 1.0937 Grad: 86482.1484 LR: 9.7693e-05 | Elapse: 71.15s\n",
                        "Epoch 1 [600/1021] | Train Loss: 1.0675 Grad: 66507.1016 LR: 9.9929e-05 | Elapse: 77.60s\n",
                        "Epoch 1 [650/1021] | Train Loss: 1.0438 Grad: 42707.0508 LR: 9.9987e-05 | Elapse: 84.05s\n",
                        "Epoch 1 [700/1021] | Train Loss: 1.0185 Grad: 25632.6348 LR: 9.9935e-05 | Elapse: 90.50s\n",
                        "Epoch 1 [750/1021] | Train Loss: 1.0022 Grad: 57638.5078 LR: 9.9842e-05 | Elapse: 96.94s\n",
                        "Epoch 1 [800/1021] | Train Loss: 0.9880 Grad: 29064.2969 LR: 9.9709e-05 | Elapse: 103.39s\n",
                        "Epoch 1 [850/1021] | Train Loss: 0.9739 Grad: 20802.6914 LR: 9.9536e-05 | Elapse: 109.85s\n",
                        "Epoch 1 [900/1021] | Train Loss: 0.9589 Grad: 35606.5469 LR: 9.9322e-05 | Elapse: 116.31s\n",
                        "Epoch 1 [950/1021] | Train Loss: 0.9447 Grad: 32650.6758 LR: 9.9068e-05 | Elapse: 122.76s\n",
                        "Epoch 1 [1000/1021] | Train Loss: 0.9323 Grad: 32997.4766 LR: 9.8775e-05 | Elapse: 129.21s\n",
                        "Epoch 1 [1020/1021] | Train Loss: 0.9274 Grad: 26971.6855 LR: 9.8646e-05 | Elapse: 131.79s\n"
                    ]
                },
                {
                    "data": {
                        "application/vnd.jupyter.widget-view+json": {
                            "model_id": "640bf2c215944ab9be2969fef62bd6ce",
                            "version_major": 2,
                            "version_minor": 0
                        },
                        "text/plain": [
                            "Valid [0]:   0%|          | 0/241 [00:00<?, ?batch/s]"
                        ]
                    },
                    "metadata": {},
                    "output_type": "display_data"
                },
                {
                    "name": "stdout",
                    "output_type": "stream",
                    "text": [
                        "Epoch 1 [0/241] | Valid Loss: 0.8080 | Elapse: 0.08s\n",
                        "Epoch 1 [50/241] | Valid Loss: 0.6554 | Elapse: 3.89s\n",
                        "Epoch 1 [100/241] | Valid Loss: 0.6604 | Elapse: 7.69s\n",
                        "Epoch 1 [150/241] | Valid Loss: 0.6618 | Elapse: 11.50s\n",
                        "Epoch 1 [200/241] | Valid Loss: 0.6647 | Elapse: 15.30s\n"
                    ]
                },
                {
                    "name": "stderr",
                    "output_type": "stream",
                    "text": [
                        "----------------------------------------------------------------------------------------------------\n",
                        "Epoch 1 - Average Loss: (train) 0.9274; (valid) 0.6677 | Time: 150.13s\n",
                        "Best model found in epoch 1 | valid loss: 0.6677\n"
                    ]
                },
                {
                    "name": "stdout",
                    "output_type": "stream",
                    "text": [
                        "Epoch 1 [240/241] | Valid Loss: 0.6677 | Elapse: 18.34s\n"
                    ]
                },
                {
                    "data": {
                        "application/vnd.jupyter.widget-view+json": {
                            "model_id": "3a385398d3554d19940ed29304ce1fe2",
                            "version_major": 2,
                            "version_minor": 0
                        },
                        "text/plain": [
                            "Train [1]:   0%|          | 0/1021 [00:00<?, ?batch/s]"
                        ]
                    },
                    "metadata": {},
                    "output_type": "display_data"
                },
                {
                    "name": "stdout",
                    "output_type": "stream",
                    "text": [
                        "Epoch 2 [0/1021] | Train Loss: 0.5986 Grad: 231884.3906 LR: 9.8640e-05 | Elapse: 0.13s\n",
                        "Epoch 2 [50/1021] | Train Loss: 0.7086 Grad: 107222.9141 LR: 9.8290e-05 | Elapse: 6.55s\n",
                        "Epoch 2 [100/1021] | Train Loss: 0.6737 Grad: 46575.0781 LR: 9.7901e-05 | Elapse: 12.98s\n",
                        "Epoch 2 [150/1021] | Train Loss: 0.6729 Grad: 88275.9141 LR: 9.7473e-05 | Elapse: 19.41s\n",
                        "Epoch 2 [200/1021] | Train Loss: 0.6628 Grad: 51711.9648 LR: 9.7007e-05 | Elapse: 25.87s\n",
                        "Epoch 2 [250/1021] | Train Loss: 0.6695 Grad: 55092.6602 LR: 9.6503e-05 | Elapse: 32.31s\n",
                        "Epoch 2 [300/1021] | Train Loss: 0.6681 Grad: 63668.5195 LR: 9.5961e-05 | Elapse: 38.75s\n",
                        "Epoch 2 [350/1021] | Train Loss: 0.6593 Grad: 36129.7852 LR: 9.5381e-05 | Elapse: 45.19s\n",
                        "Epoch 2 [400/1021] | Train Loss: 0.6569 Grad: 54276.3047 LR: 9.4765e-05 | Elapse: 51.65s\n",
                        "Epoch 2 [450/1021] | Train Loss: 0.6490 Grad: 50733.1484 LR: 9.4113e-05 | Elapse: 58.13s\n",
                        "Epoch 2 [500/1021] | Train Loss: 0.6420 Grad: 52631.8789 LR: 9.3424e-05 | Elapse: 64.64s\n",
                        "Epoch 2 [550/1021] | Train Loss: 0.6373 Grad: 74253.7266 LR: 9.2701e-05 | Elapse: 71.08s\n",
                        "Epoch 2 [600/1021] | Train Loss: 0.6284 Grad: 42617.7188 LR: 9.1943e-05 | Elapse: 77.60s\n",
                        "Epoch 2 [650/1021] | Train Loss: 0.6218 Grad: 79249.9141 LR: 9.1151e-05 | Elapse: 84.04s\n",
                        "Epoch 2 [700/1021] | Train Loss: 0.6121 Grad: 44108.4961 LR: 9.0325e-05 | Elapse: 90.52s\n",
                        "Epoch 2 [750/1021] | Train Loss: 0.6098 Grad: 114205.5938 LR: 8.9467e-05 | Elapse: 96.99s\n",
                        "Epoch 2 [800/1021] | Train Loss: 0.6089 Grad: 60209.2695 LR: 8.8576e-05 | Elapse: 103.44s\n",
                        "Epoch 2 [850/1021] | Train Loss: 0.6062 Grad: 39759.6836 LR: 8.7655e-05 | Elapse: 109.89s\n",
                        "Epoch 2 [900/1021] | Train Loss: 0.6007 Grad: 89506.5312 LR: 8.6703e-05 | Elapse: 116.34s\n",
                        "Epoch 2 [950/1021] | Train Loss: 0.5964 Grad: 66105.6484 LR: 8.5721e-05 | Elapse: 122.79s\n",
                        "Epoch 2 [1000/1021] | Train Loss: 0.5917 Grad: 54847.6211 LR: 8.4710e-05 | Elapse: 129.25s\n",
                        "Epoch 2 [1020/1021] | Train Loss: 0.5899 Grad: 59332.7148 LR: 8.4298e-05 | Elapse: 131.84s\n"
                    ]
                },
                {
                    "data": {
                        "application/vnd.jupyter.widget-view+json": {
                            "model_id": "4121abd0e03041629ce4c910eece4f27",
                            "version_major": 2,
                            "version_minor": 0
                        },
                        "text/plain": [
                            "Valid [1]:   0%|          | 0/241 [00:00<?, ?batch/s]"
                        ]
                    },
                    "metadata": {},
                    "output_type": "display_data"
                },
                {
                    "name": "stdout",
                    "output_type": "stream",
                    "text": [
                        "Epoch 2 [0/241] | Valid Loss: 0.6859 | Elapse: 0.08s\n",
                        "Epoch 2 [50/241] | Valid Loss: 0.6050 | Elapse: 3.88s\n",
                        "Epoch 2 [100/241] | Valid Loss: 0.6137 | Elapse: 7.69s\n",
                        "Epoch 2 [150/241] | Valid Loss: 0.6182 | Elapse: 11.49s\n",
                        "Epoch 2 [200/241] | Valid Loss: 0.6228 | Elapse: 15.29s\n"
                    ]
                },
                {
                    "name": "stderr",
                    "output_type": "stream",
                    "text": [
                        "----------------------------------------------------------------------------------------------------\n",
                        "Epoch 2 - Average Loss: (train) 0.5899; (valid) 0.6284 | Time: 150.13s\n",
                        "Best model found in epoch 2 | valid loss: 0.6284\n"
                    ]
                },
                {
                    "name": "stdout",
                    "output_type": "stream",
                    "text": [
                        "Epoch 2 [240/241] | Valid Loss: 0.6284 | Elapse: 18.29s\n"
                    ]
                },
                {
                    "data": {
                        "application/vnd.jupyter.widget-view+json": {
                            "model_id": "2b2d0becfc46455a95bc0eb77553616f",
                            "version_major": 2,
                            "version_minor": 0
                        },
                        "text/plain": [
                            "Train [2]:   0%|          | 0/1021 [00:00<?, ?batch/s]"
                        ]
                    },
                    "metadata": {},
                    "output_type": "display_data"
                },
                {
                    "name": "stdout",
                    "output_type": "stream",
                    "text": [
                        "Epoch 3 [0/1021] | Train Loss: 0.4335 Grad: inf LR: 8.4277e-05 | Elapse: 0.13s\n",
                        "Epoch 3 [50/1021] | Train Loss: 0.5704 Grad: 102152.4219 LR: 8.3226e-05 | Elapse: 6.57s\n",
                        "Epoch 3 [100/1021] | Train Loss: 0.5202 Grad: 69240.0781 LR: 8.2149e-05 | Elapse: 12.99s\n",
                        "Epoch 3 [150/1021] | Train Loss: 0.5212 Grad: 94771.7578 LR: 8.1045e-05 | Elapse: 19.44s\n",
                        "Epoch 3 [200/1021] | Train Loss: 0.5132 Grad: 62446.0664 LR: 7.9916e-05 | Elapse: 25.87s\n",
                        "Epoch 3 [250/1021] | Train Loss: 0.5175 Grad: 72835.9062 LR: 7.8763e-05 | Elapse: 32.31s\n",
                        "Epoch 3 [300/1021] | Train Loss: 0.5185 Grad: 55629.6289 LR: 7.7587e-05 | Elapse: 38.75s\n",
                        "Epoch 3 [350/1021] | Train Loss: 0.5122 Grad: 37979.3984 LR: 7.6388e-05 | Elapse: 45.18s\n",
                        "Epoch 3 [400/1021] | Train Loss: 0.5121 Grad: 62826.2695 LR: 7.5168e-05 | Elapse: 51.63s\n",
                        "Epoch 3 [450/1021] | Train Loss: 0.5047 Grad: 51369.4258 LR: 7.3927e-05 | Elapse: 58.07s\n",
                        "Epoch 3 [500/1021] | Train Loss: 0.4982 Grad: 43754.9375 LR: 7.2667e-05 | Elapse: 64.52s\n",
                        "Epoch 3 [550/1021] | Train Loss: 0.4959 Grad: 62321.3516 LR: 7.1389e-05 | Elapse: 70.96s\n",
                        "Epoch 3 [600/1021] | Train Loss: 0.4875 Grad: 46200.6289 LR: 7.0093e-05 | Elapse: 77.41s\n",
                        "Epoch 3 [650/1021] | Train Loss: 0.4822 Grad: 85564.9062 LR: 6.8781e-05 | Elapse: 83.86s\n",
                        "Epoch 3 [700/1021] | Train Loss: 0.4733 Grad: 44430.7617 LR: 6.7454e-05 | Elapse: 90.32s\n",
                        "Epoch 3 [750/1021] | Train Loss: 0.4714 Grad: 83759.1250 LR: 6.6112e-05 | Elapse: 96.80s\n",
                        "Epoch 3 [800/1021] | Train Loss: 0.4700 Grad: 60848.5508 LR: 6.4758e-05 | Elapse: 103.25s\n",
                        "Epoch 3 [850/1021] | Train Loss: 0.4678 Grad: 38035.9023 LR: 6.3391e-05 | Elapse: 109.71s\n",
                        "Epoch 3 [900/1021] | Train Loss: 0.4626 Grad: 72254.3984 LR: 6.2014e-05 | Elapse: 116.15s\n",
                        "Epoch 3 [950/1021] | Train Loss: 0.4588 Grad: 90306.0156 LR: 6.0627e-05 | Elapse: 122.59s\n",
                        "Epoch 3 [1000/1021] | Train Loss: 0.4545 Grad: 53206.1562 LR: 5.9231e-05 | Elapse: 129.06s\n",
                        "Epoch 3 [1020/1021] | Train Loss: 0.4532 Grad: 59677.0430 LR: 5.8671e-05 | Elapse: 131.63s\n"
                    ]
                },
                {
                    "data": {
                        "application/vnd.jupyter.widget-view+json": {
                            "model_id": "160e3596cf7f4abead067f69a3bdb837",
                            "version_major": 2,
                            "version_minor": 0
                        },
                        "text/plain": [
                            "Valid [2]:   0%|          | 0/241 [00:00<?, ?batch/s]"
                        ]
                    },
                    "metadata": {},
                    "output_type": "display_data"
                },
                {
                    "name": "stdout",
                    "output_type": "stream",
                    "text": [
                        "Epoch 3 [0/241] | Valid Loss: 0.6140 | Elapse: 0.08s\n",
                        "Epoch 3 [50/241] | Valid Loss: 0.5991 | Elapse: 3.88s\n",
                        "Epoch 3 [100/241] | Valid Loss: 0.6058 | Elapse: 7.68s\n",
                        "Epoch 3 [150/241] | Valid Loss: 0.6119 | Elapse: 11.48s\n",
                        "Epoch 3 [200/241] | Valid Loss: 0.6207 | Elapse: 15.29s\n"
                    ]
                },
                {
                    "name": "stderr",
                    "output_type": "stream",
                    "text": [
                        "----------------------------------------------------------------------------------------------------\n",
                        "Epoch 3 - Average Loss: (train) 0.4532; (valid) 0.6278 | Time: 149.92s\n",
                        "Best model found in epoch 3 | valid loss: 0.6278\n"
                    ]
                },
                {
                    "name": "stdout",
                    "output_type": "stream",
                    "text": [
                        "Epoch 3 [240/241] | Valid Loss: 0.6278 | Elapse: 18.29s\n"
                    ]
                },
                {
                    "data": {
                        "application/vnd.jupyter.widget-view+json": {
                            "model_id": "f1d551957790467b9d6374feb7f768d9",
                            "version_major": 2,
                            "version_minor": 0
                        },
                        "text/plain": [
                            "Train [3]:   0%|          | 0/1021 [00:00<?, ?batch/s]"
                        ]
                    },
                    "metadata": {},
                    "output_type": "display_data"
                },
                {
                    "name": "stdout",
                    "output_type": "stream",
                    "text": [
                        "Epoch 4 [0/1021] | Train Loss: 0.4662 Grad: 283127.6875 LR: 5.8643e-05 | Elapse: 0.13s\n",
                        "Epoch 4 [50/1021] | Train Loss: 0.4322 Grad: 101869.5859 LR: 5.7237e-05 | Elapse: 6.59s\n",
                        "Epoch 4 [100/1021] | Train Loss: 0.3933 Grad: 70471.9766 LR: 5.5825e-05 | Elapse: 13.04s\n",
                        "Epoch 4 [150/1021] | Train Loss: 0.3913 Grad: 93355.6641 LR: 5.4409e-05 | Elapse: 19.51s\n",
                        "Epoch 4 [200/1021] | Train Loss: 0.3852 Grad: 59629.5391 LR: 5.2989e-05 | Elapse: 26.00s\n",
                        "Epoch 4 [250/1021] | Train Loss: 0.3859 Grad: 78526.2500 LR: 5.1566e-05 | Elapse: 32.44s\n",
                        "Epoch 4 [300/1021] | Train Loss: 0.3896 Grad: 63410.5508 LR: 5.0142e-05 | Elapse: 38.87s\n",
                        "Epoch 4 [350/1021] | Train Loss: 0.3843 Grad: 47969.4766 LR: 4.8719e-05 | Elapse: 45.32s\n",
                        "Epoch 4 [400/1021] | Train Loss: 0.3828 Grad: 99032.8359 LR: 4.7296e-05 | Elapse: 51.76s\n",
                        "Epoch 4 [450/1021] | Train Loss: 0.3780 Grad: 41699.3984 LR: 4.5875e-05 | Elapse: 58.22s\n",
                        "Epoch 4 [500/1021] | Train Loss: 0.3737 Grad: 66354.6328 LR: 4.4458e-05 | Elapse: 64.66s\n",
                        "Epoch 4 [550/1021] | Train Loss: 0.3728 Grad: 48804.8203 LR: 4.3046e-05 | Elapse: 71.10s\n",
                        "Epoch 4 [600/1021] | Train Loss: 0.3657 Grad: 62801.6602 LR: 4.1639e-05 | Elapse: 77.55s\n",
                        "Epoch 4 [650/1021] | Train Loss: 0.3615 Grad: 76232.6719 LR: 4.0238e-05 | Elapse: 83.99s\n",
                        "Epoch 4 [700/1021] | Train Loss: 0.3555 Grad: 38777.2383 LR: 3.8846e-05 | Elapse: 90.49s\n",
                        "Epoch 4 [750/1021] | Train Loss: 0.3542 Grad: 84039.0312 LR: 3.7463e-05 | Elapse: 96.93s\n",
                        "Epoch 4 [800/1021] | Train Loss: 0.3538 Grad: 57021.4648 LR: 3.6090e-05 | Elapse: 103.38s\n",
                        "Epoch 4 [850/1021] | Train Loss: 0.3512 Grad: 42527.4531 LR: 3.4728e-05 | Elapse: 109.81s\n",
                        "Epoch 4 [900/1021] | Train Loss: 0.3485 Grad: 55323.8047 LR: 3.3379e-05 | Elapse: 116.25s\n",
                        "Epoch 4 [950/1021] | Train Loss: 0.3461 Grad: 68977.0859 LR: 3.2043e-05 | Elapse: 122.73s\n",
                        "Epoch 4 [1000/1021] | Train Loss: 0.3439 Grad: 50264.7383 LR: 3.0722e-05 | Elapse: 129.23s\n",
                        "Epoch 4 [1020/1021] | Train Loss: 0.3432 Grad: 61999.5039 LR: 3.0198e-05 | Elapse: 131.80s\n"
                    ]
                },
                {
                    "data": {
                        "application/vnd.jupyter.widget-view+json": {
                            "model_id": "e2d92782e3c9435682e480a5f1823cef",
                            "version_major": 2,
                            "version_minor": 0
                        },
                        "text/plain": [
                            "Valid [3]:   0%|          | 0/241 [00:00<?, ?batch/s]"
                        ]
                    },
                    "metadata": {},
                    "output_type": "display_data"
                },
                {
                    "name": "stdout",
                    "output_type": "stream",
                    "text": [
                        "Epoch 4 [0/241] | Valid Loss: 0.6527 | Elapse: 0.08s\n",
                        "Epoch 4 [50/241] | Valid Loss: 0.6161 | Elapse: 3.88s\n",
                        "Epoch 4 [100/241] | Valid Loss: 0.6213 | Elapse: 7.69s\n",
                        "Epoch 4 [150/241] | Valid Loss: 0.6285 | Elapse: 11.49s\n",
                        "Epoch 4 [200/241] | Valid Loss: 0.6390 | Elapse: 15.29s\n"
                    ]
                },
                {
                    "name": "stderr",
                    "output_type": "stream",
                    "text": [
                        "----------------------------------------------------------------------------------------------------\n",
                        "Epoch 4 - Average Loss: (train) 0.3432; (valid) 0.6465 | Time: 150.09s\n"
                    ]
                },
                {
                    "name": "stdout",
                    "output_type": "stream",
                    "text": [
                        "Epoch 4 [240/241] | Valid Loss: 0.6465 | Elapse: 18.28s\n"
                    ]
                },
                {
                    "data": {
                        "application/vnd.jupyter.widget-view+json": {
                            "model_id": "95ba1a79722c4d618e698ca5832317ad",
                            "version_major": 2,
                            "version_minor": 0
                        },
                        "text/plain": [
                            "Train [4]:   0%|          | 0/1021 [00:00<?, ?batch/s]"
                        ]
                    },
                    "metadata": {},
                    "output_type": "display_data"
                },
                {
                    "name": "stdout",
                    "output_type": "stream",
                    "text": [
                        "Epoch 5 [0/1021] | Train Loss: 0.3116 Grad: nan LR: 3.0172e-05 | Elapse: 0.13s\n",
                        "Epoch 5 [50/1021] | Train Loss: 0.3362 Grad: 101773.3594 LR: 2.8873e-05 | Elapse: 6.57s\n",
                        "Epoch 5 [100/1021] | Train Loss: 0.3049 Grad: 84808.7344 LR: 2.7592e-05 | Elapse: 13.04s\n",
                        "Epoch 5 [150/1021] | Train Loss: 0.3049 Grad: 98597.7188 LR: 2.6328e-05 | Elapse: 19.49s\n",
                        "Epoch 5 [200/1021] | Train Loss: 0.3032 Grad: 61785.3867 LR: 2.5084e-05 | Elapse: 25.97s\n",
                        "Epoch 5 [250/1021] | Train Loss: 0.3018 Grad: 102733.0391 LR: 2.3860e-05 | Elapse: 32.44s\n",
                        "Epoch 5 [300/1021] | Train Loss: 0.3058 Grad: 69005.6719 LR: 2.2658e-05 | Elapse: 38.92s\n",
                        "Epoch 5 [350/1021] | Train Loss: 0.3014 Grad: 41536.3594 LR: 2.1478e-05 | Elapse: 45.38s\n",
                        "Epoch 5 [400/1021] | Train Loss: 0.3014 Grad: 56176.4023 LR: 2.0320e-05 | Elapse: 51.85s\n",
                        "Epoch 5 [450/1021] | Train Loss: 0.2980 Grad: 40593.8516 LR: 1.9187e-05 | Elapse: 58.33s\n",
                        "Epoch 5 [500/1021] | Train Loss: 0.2953 Grad: 45728.8164 LR: 1.8079e-05 | Elapse: 64.81s\n",
                        "Epoch 5 [550/1021] | Train Loss: 0.2948 Grad: 41066.5469 LR: 1.6997e-05 | Elapse: 71.24s\n",
                        "Epoch 5 [600/1021] | Train Loss: 0.2895 Grad: 32961.0820 LR: 1.5942e-05 | Elapse: 77.69s\n",
                        "Epoch 5 [650/1021] | Train Loss: 0.2866 Grad: 62887.1211 LR: 1.4914e-05 | Elapse: 84.20s\n",
                        "Epoch 5 [700/1021] | Train Loss: 0.2826 Grad: 36820.2344 LR: 1.3915e-05 | Elapse: 90.67s\n",
                        "Epoch 5 [750/1021] | Train Loss: 0.2821 Grad: 87524.9844 LR: 1.2945e-05 | Elapse: 97.12s\n",
                        "Epoch 5 [800/1021] | Train Loss: 0.2825 Grad: 108402.6641 LR: 1.2005e-05 | Elapse: 103.57s\n",
                        "Epoch 5 [850/1021] | Train Loss: 0.2804 Grad: 49270.9805 LR: 1.1096e-05 | Elapse: 110.03s\n",
                        "Epoch 5 [900/1021] | Train Loss: 0.2785 Grad: 53437.8164 LR: 1.0219e-05 | Elapse: 116.49s\n",
                        "Epoch 5 [950/1021] | Train Loss: 0.2769 Grad: 72243.4141 LR: 9.3741e-06 | Elapse: 122.98s\n",
                        "Epoch 5 [1000/1021] | Train Loss: 0.2759 Grad: 86507.6875 LR: 8.5621e-06 | Elapse: 129.47s\n",
                        "Epoch 5 [1020/1021] | Train Loss: 0.2758 Grad: 59813.6953 LR: 8.2467e-06 | Elapse: 132.05s\n"
                    ]
                },
                {
                    "data": {
                        "application/vnd.jupyter.widget-view+json": {
                            "model_id": "105ee8e775f44bf3baadc408ac915b7f",
                            "version_major": 2,
                            "version_minor": 0
                        },
                        "text/plain": [
                            "Valid [4]:   0%|          | 0/241 [00:00<?, ?batch/s]"
                        ]
                    },
                    "metadata": {},
                    "output_type": "display_data"
                },
                {
                    "name": "stdout",
                    "output_type": "stream",
                    "text": [
                        "Epoch 5 [0/241] | Valid Loss: 0.6078 | Elapse: 0.09s\n",
                        "Epoch 5 [50/241] | Valid Loss: 0.6112 | Elapse: 3.88s\n",
                        "Epoch 5 [100/241] | Valid Loss: 0.6199 | Elapse: 7.68s\n",
                        "Epoch 5 [150/241] | Valid Loss: 0.6266 | Elapse: 11.47s\n",
                        "Epoch 5 [200/241] | Valid Loss: 0.6327 | Elapse: 15.27s\n"
                    ]
                },
                {
                    "name": "stderr",
                    "output_type": "stream",
                    "text": [
                        "----------------------------------------------------------------------------------------------------\n",
                        "Epoch 5 - Average Loss: (train) 0.2758; (valid) 0.6385 | Time: 150.31s\n"
                    ]
                },
                {
                    "name": "stdout",
                    "output_type": "stream",
                    "text": [
                        "Epoch 5 [240/241] | Valid Loss: 0.6385 | Elapse: 18.25s\n"
                    ]
                },
                {
                    "data": {
                        "application/vnd.jupyter.widget-view+json": {
                            "model_id": "af89b480d7b14c7592866e6925cb7b11",
                            "version_major": 2,
                            "version_minor": 0
                        },
                        "text/plain": [
                            "Train [5]:   0%|          | 0/1021 [00:00<?, ?batch/s]"
                        ]
                    },
                    "metadata": {},
                    "output_type": "display_data"
                },
                {
                    "name": "stdout",
                    "output_type": "stream",
                    "text": [
                        "Epoch 6 [0/1021] | Train Loss: 0.2977 Grad: inf LR: 8.2310e-06 | Elapse: 0.13s\n",
                        "Epoch 6 [50/1021] | Train Loss: 0.2929 Grad: 122377.2266 LR: 7.4670e-06 | Elapse: 6.59s\n",
                        "Epoch 6 [100/1021] | Train Loss: 0.2629 Grad: 49061.9844 LR: 6.7375e-06 | Elapse: 13.04s\n",
                        "Epoch 6 [150/1021] | Train Loss: 0.2625 Grad: 99078.8516 LR: 6.0431e-06 | Elapse: 19.47s\n",
                        "Epoch 6 [200/1021] | Train Loss: 0.2586 Grad: 33556.7578 LR: 5.3844e-06 | Elapse: 26.07s\n",
                        "Epoch 6 [250/1021] | Train Loss: 0.2578 Grad: 66478.4531 LR: 4.7619e-06 | Elapse: 32.53s\n",
                        "Epoch 6 [300/1021] | Train Loss: 0.2631 Grad: 69248.1406 LR: 4.1762e-06 | Elapse: 39.00s\n",
                        "Epoch 6 [350/1021] | Train Loss: 0.2608 Grad: 59798.3086 LR: 3.6277e-06 | Elapse: 45.48s\n",
                        "Epoch 6 [400/1021] | Train Loss: 0.2617 Grad: 111240.7422 LR: 3.1168e-06 | Elapse: 51.92s\n",
                        "Epoch 6 [450/1021] | Train Loss: 0.2602 Grad: 18646.4199 LR: 2.6440e-06 | Elapse: 58.37s\n",
                        "Epoch 6 [500/1021] | Train Loss: 0.2597 Grad: 17836.9043 LR: 2.2097e-06 | Elapse: 64.83s\n",
                        "Epoch 6 [550/1021] | Train Loss: 0.2593 Grad: 19251.3223 LR: 1.8141e-06 | Elapse: 71.28s\n",
                        "Epoch 6 [600/1021] | Train Loss: 0.2558 Grad: 16223.3320 LR: 1.4577e-06 | Elapse: 77.73s\n",
                        "Epoch 6 [650/1021] | Train Loss: 0.2547 Grad: 35954.1602 LR: 1.1407e-06 | Elapse: 84.19s\n",
                        "Epoch 6 [700/1021] | Train Loss: 0.2517 Grad: 23197.9648 LR: 8.6340e-07 | Elapse: 90.66s\n",
                        "Epoch 6 [750/1021] | Train Loss: 0.2523 Grad: 41465.8242 LR: 6.2598e-07 | Elapse: 97.11s\n",
                        "Epoch 6 [800/1021] | Train Loss: 0.2524 Grad: 27084.8164 LR: 4.2864e-07 | Elapse: 103.56s\n",
                        "Epoch 6 [850/1021] | Train Loss: 0.2515 Grad: 34785.1641 LR: 2.7156e-07 | Elapse: 110.04s\n",
                        "Epoch 6 [900/1021] | Train Loss: 0.2507 Grad: 25541.3594 LR: 1.5486e-07 | Elapse: 116.50s\n",
                        "Epoch 6 [950/1021] | Train Loss: 0.2498 Grad: 22212.1113 LR: 7.8625e-08 | Elapse: 122.95s\n",
                        "Epoch 6 [1000/1021] | Train Loss: 0.2488 Grad: 24886.6133 LR: 4.2929e-08 | Elapse: 129.43s\n",
                        "Epoch 6 [1020/1021] | Train Loss: 0.2490 Grad: 27471.2598 LR: 4.0008e-08 | Elapse: 132.01s\n"
                    ]
                },
                {
                    "data": {
                        "application/vnd.jupyter.widget-view+json": {
                            "model_id": "e21773d4f2de46729b1786e8ad4f8e44",
                            "version_major": 2,
                            "version_minor": 0
                        },
                        "text/plain": [
                            "Valid [5]:   0%|          | 0/241 [00:00<?, ?batch/s]"
                        ]
                    },
                    "metadata": {},
                    "output_type": "display_data"
                },
                {
                    "name": "stdout",
                    "output_type": "stream",
                    "text": [
                        "Epoch 6 [0/241] | Valid Loss: 0.6345 | Elapse: 0.08s\n",
                        "Epoch 6 [50/241] | Valid Loss: 0.6188 | Elapse: 3.90s\n",
                        "Epoch 6 [100/241] | Valid Loss: 0.6267 | Elapse: 7.72s\n",
                        "Epoch 6 [150/241] | Valid Loss: 0.6327 | Elapse: 11.53s\n",
                        "Epoch 6 [200/241] | Valid Loss: 0.6407 | Elapse: 15.35s\n"
                    ]
                },
                {
                    "name": "stderr",
                    "output_type": "stream",
                    "text": [
                        "----------------------------------------------------------------------------------------------------\n",
                        "Epoch 6 - Average Loss: (train) 0.2490; (valid) 0.6466 | Time: 150.38s\n"
                    ]
                },
                {
                    "name": "stdout",
                    "output_type": "stream",
                    "text": [
                        "Epoch 6 [240/241] | Valid Loss: 0.6466 | Elapse: 18.36s\n"
                    ]
                },
                {
                    "name": "stderr",
                    "output_type": "stream",
                    "text": [
                        "====================================================================================================\n",
                        "Fold 3 Valid Loss: 0.6277803182601929\n",
                        "Elapse: 15.03 min \n",
                        "====================================================================================================\n",
                        "- Second Stage -\n",
                        "Use Checkpoint: DualEncoder_B0_fold_3_stage_1.pth\n"
                    ]
                },
                {
                    "data": {
                        "application/vnd.jupyter.widget-view+json": {
                            "model_id": "61738a7ce9044b4f8d5d51b5335b837e",
                            "version_major": 2,
                            "version_minor": 0
                        },
                        "text/plain": [
                            "Train [0]:   0%|          | 0/386 [00:00<?, ?batch/s]"
                        ]
                    },
                    "metadata": {},
                    "output_type": "display_data"
                },
                {
                    "name": "stderr",
                    "output_type": "stream",
                    "text": [
                        "/home/shiyi/miniconda3/envs/kaggle/lib/python3.11/site-packages/torch/optim/lr_scheduler.py:143: UserWarning: Detected call of `lr_scheduler.step()` before `optimizer.step()`. In PyTorch 1.1.0 and later, you should call them in the opposite order: `optimizer.step()` before `lr_scheduler.step()`.  Failure to do this will result in PyTorch skipping the first value of the learning rate schedule. See more details at https://pytorch.org/docs/stable/optim.html#how-to-adjust-learning-rate\n",
                        "  warnings.warn(\"Detected call of `lr_scheduler.step()` before `optimizer.step()`. \"\n"
                    ]
                },
                {
                    "name": "stdout",
                    "output_type": "stream",
                    "text": [
                        "Epoch 1 [0/386] | Train Loss: 0.3746 Grad: nan LR: 4.0045e-06 | Elapse: 0.14s\n",
                        "Epoch 1 [50/386] | Train Loss: 0.4577 Grad: 76847.3438 LR: 1.5127e-05 | Elapse: 6.77s\n",
                        "Epoch 1 [100/386] | Train Loss: 0.4349 Grad: 63758.3164 LR: 4.2708e-05 | Elapse: 13.27s\n",
                        "Epoch 1 [150/386] | Train Loss: 0.4119 Grad: 87752.5703 LR: 7.4436e-05 | Elapse: 19.77s\n",
                        "Epoch 1 [200/386] | Train Loss: 0.3998 Grad: 53160.0039 LR: 9.6150e-05 | Elapse: 26.28s\n",
                        "Epoch 1 [250/386] | Train Loss: 0.3909 Grad: 43112.1133 LR: 9.9976e-05 | Elapse: 32.81s\n",
                        "Epoch 1 [300/386] | Train Loss: 0.3844 Grad: 39542.2578 LR: 9.9719e-05 | Elapse: 39.30s\n",
                        "Epoch 1 [350/386] | Train Loss: 0.3757 Grad: 33216.8828 LR: 9.9179e-05 | Elapse: 45.83s\n",
                        "Epoch 1 [385/386] | Train Loss: 0.3725 Grad: 58246.5039 LR: 9.8635e-05 | Elapse: 50.38s\n"
                    ]
                },
                {
                    "data": {
                        "application/vnd.jupyter.widget-view+json": {
                            "model_id": "7cb18acdd4c049e6a1a55d3f9bfc462a",
                            "version_major": 2,
                            "version_minor": 0
                        },
                        "text/plain": [
                            "Valid [0]:   0%|          | 0/241 [00:00<?, ?batch/s]"
                        ]
                    },
                    "metadata": {},
                    "output_type": "display_data"
                },
                {
                    "name": "stdout",
                    "output_type": "stream",
                    "text": [
                        "Epoch 1 [0/241] | Valid Loss: 0.5754 | Elapse: 0.08s\n",
                        "Epoch 1 [50/241] | Valid Loss: 0.5847 | Elapse: 3.90s\n",
                        "Epoch 1 [100/241] | Valid Loss: 0.5876 | Elapse: 7.72s\n",
                        "Epoch 1 [150/241] | Valid Loss: 0.5871 | Elapse: 11.54s\n",
                        "Epoch 1 [200/241] | Valid Loss: 0.5871 | Elapse: 15.35s\n"
                    ]
                },
                {
                    "name": "stderr",
                    "output_type": "stream",
                    "text": [
                        "----------------------------------------------------------------------------------------------------\n",
                        "Epoch 1 - Average Loss: (train) 0.3725; (valid) 0.5884 | Time: 68.75s\n",
                        "Best model found in epoch 1 | valid loss: 0.5884\n"
                    ]
                },
                {
                    "name": "stdout",
                    "output_type": "stream",
                    "text": [
                        "Epoch 1 [240/241] | Valid Loss: 0.5884 | Elapse: 18.36s\n"
                    ]
                },
                {
                    "data": {
                        "application/vnd.jupyter.widget-view+json": {
                            "model_id": "bdaf94c5dbdb4103b13a37f0e6535707",
                            "version_major": 2,
                            "version_minor": 0
                        },
                        "text/plain": [
                            "Train [1]:   0%|          | 0/386 [00:00<?, ?batch/s]"
                        ]
                    },
                    "metadata": {},
                    "output_type": "display_data"
                },
                {
                    "name": "stdout",
                    "output_type": "stream",
                    "text": [
                        "Epoch 2 [0/386] | Train Loss: 0.3669 Grad: 208394.0312 LR: 9.8618e-05 | Elapse: 0.14s\n",
                        "Epoch 2 [50/386] | Train Loss: 0.3291 Grad: 48018.4102 LR: 9.7601e-05 | Elapse: 6.63s\n",
                        "Epoch 2 [100/386] | Train Loss: 0.3241 Grad: 96524.7656 LR: 9.6314e-05 | Elapse: 13.13s\n",
                        "Epoch 2 [150/386] | Train Loss: 0.3124 Grad: 66098.5000 LR: 9.4765e-05 | Elapse: 19.63s\n",
                        "Epoch 2 [200/386] | Train Loss: 0.2996 Grad: 54279.1758 LR: 9.2961e-05 | Elapse: 26.12s\n",
                        "Epoch 2 [250/386] | Train Loss: 0.2937 Grad: 81899.1094 LR: 9.0914e-05 | Elapse: 32.59s\n",
                        "Epoch 2 [300/386] | Train Loss: 0.2885 Grad: 71565.8750 LR: 8.8634e-05 | Elapse: 39.08s\n",
                        "Epoch 2 [350/386] | Train Loss: 0.2833 Grad: 65276.7852 LR: 8.6135e-05 | Elapse: 45.57s\n",
                        "Epoch 2 [385/386] | Train Loss: 0.2809 Grad: 96989.3906 LR: 8.4264e-05 | Elapse: 50.12s\n"
                    ]
                },
                {
                    "data": {
                        "application/vnd.jupyter.widget-view+json": {
                            "model_id": "e4f29d6c27ca404b885dad2bdef91005",
                            "version_major": 2,
                            "version_minor": 0
                        },
                        "text/plain": [
                            "Valid [1]:   0%|          | 0/241 [00:00<?, ?batch/s]"
                        ]
                    },
                    "metadata": {},
                    "output_type": "display_data"
                },
                {
                    "name": "stdout",
                    "output_type": "stream",
                    "text": [
                        "Epoch 2 [0/241] | Valid Loss: 0.4978 | Elapse: 0.08s\n",
                        "Epoch 2 [50/241] | Valid Loss: 0.5636 | Elapse: 3.93s\n",
                        "Epoch 2 [100/241] | Valid Loss: 0.5719 | Elapse: 7.76s\n",
                        "Epoch 2 [150/241] | Valid Loss: 0.5766 | Elapse: 11.59s\n",
                        "Epoch 2 [200/241] | Valid Loss: 0.5782 | Elapse: 15.42s\n"
                    ]
                },
                {
                    "name": "stderr",
                    "output_type": "stream",
                    "text": [
                        "----------------------------------------------------------------------------------------------------\n",
                        "Epoch 2 - Average Loss: (train) 0.2809; (valid) 0.5806 | Time: 68.56s\n",
                        "Best model found in epoch 2 | valid loss: 0.5806\n"
                    ]
                },
                {
                    "name": "stdout",
                    "output_type": "stream",
                    "text": [
                        "Epoch 2 [240/241] | Valid Loss: 0.5806 | Elapse: 18.44s\n"
                    ]
                },
                {
                    "data": {
                        "application/vnd.jupyter.widget-view+json": {
                            "model_id": "02b0eeac722f4a9180f03b6c910b16bd",
                            "version_major": 2,
                            "version_minor": 0
                        },
                        "text/plain": [
                            "Train [2]:   0%|          | 0/386 [00:00<?, ?batch/s]"
                        ]
                    },
                    "metadata": {},
                    "output_type": "display_data"
                },
                {
                    "name": "stdout",
                    "output_type": "stream",
                    "text": [
                        "Epoch 3 [0/386] | Train Loss: 0.2654 Grad: 180655.0312 LR: 8.4209e-05 | Elapse: 0.13s\n",
                        "Epoch 3 [50/386] | Train Loss: 0.2484 Grad: 57019.6016 LR: 8.1367e-05 | Elapse: 6.62s\n",
                        "Epoch 3 [100/386] | Train Loss: 0.2496 Grad: 66614.2812 LR: 7.8347e-05 | Elapse: 13.14s\n",
                        "Epoch 3 [150/386] | Train Loss: 0.2418 Grad: 94841.1875 LR: 7.5166e-05 | Elapse: 19.67s\n",
                        "Epoch 3 [200/386] | Train Loss: 0.2344 Grad: 28664.0898 LR: 7.1843e-05 | Elapse: 26.16s\n",
                        "Epoch 3 [250/386] | Train Loss: 0.2301 Grad: 33420.4609 LR: 6.8396e-05 | Elapse: 32.67s\n",
                        "Epoch 3 [300/386] | Train Loss: 0.2277 Grad: 35123.2969 LR: 6.4844e-05 | Elapse: 39.17s\n",
                        "Epoch 3 [350/386] | Train Loss: 0.2231 Grad: 33062.6445 LR: 6.1209e-05 | Elapse: 45.65s\n",
                        "Epoch 3 [385/386] | Train Loss: 0.2212 Grad: 49098.9766 LR: 5.8625e-05 | Elapse: 50.20s\n"
                    ]
                },
                {
                    "data": {
                        "application/vnd.jupyter.widget-view+json": {
                            "model_id": "148293416bb147169e62ef05ecd04a66",
                            "version_major": 2,
                            "version_minor": 0
                        },
                        "text/plain": [
                            "Valid [2]:   0%|          | 0/241 [00:00<?, ?batch/s]"
                        ]
                    },
                    "metadata": {},
                    "output_type": "display_data"
                },
                {
                    "name": "stdout",
                    "output_type": "stream",
                    "text": [
                        "Epoch 3 [0/241] | Valid Loss: 0.4719 | Elapse: 0.08s\n",
                        "Epoch 3 [50/241] | Valid Loss: 0.5577 | Elapse: 3.91s\n",
                        "Epoch 3 [100/241] | Valid Loss: 0.5637 | Elapse: 7.73s\n",
                        "Epoch 3 [150/241] | Valid Loss: 0.5695 | Elapse: 11.56s\n",
                        "Epoch 3 [200/241] | Valid Loss: 0.5711 | Elapse: 15.38s\n"
                    ]
                },
                {
                    "name": "stderr",
                    "output_type": "stream",
                    "text": [
                        "----------------------------------------------------------------------------------------------------\n",
                        "Epoch 3 - Average Loss: (train) 0.2212; (valid) 0.5729 | Time: 68.60s\n",
                        "Best model found in epoch 3 | valid loss: 0.5729\n"
                    ]
                },
                {
                    "name": "stdout",
                    "output_type": "stream",
                    "text": [
                        "Epoch 3 [240/241] | Valid Loss: 0.5729 | Elapse: 18.39s\n"
                    ]
                },
                {
                    "data": {
                        "application/vnd.jupyter.widget-view+json": {
                            "model_id": "687e2aea42c14b078c68bb4461a188ff",
                            "version_major": 2,
                            "version_minor": 0
                        },
                        "text/plain": [
                            "Train [3]:   0%|          | 0/386 [00:00<?, ?batch/s]"
                        ]
                    },
                    "metadata": {},
                    "output_type": "display_data"
                },
                {
                    "name": "stdout",
                    "output_type": "stream",
                    "text": [
                        "Epoch 4 [0/386] | Train Loss: 0.1807 Grad: 134056.7656 LR: 5.8551e-05 | Elapse: 0.13s\n",
                        "Epoch 4 [50/386] | Train Loss: 0.1947 Grad: 80607.8594 LR: 5.4819e-05 | Elapse: 6.68s\n",
                        "Epoch 4 [100/386] | Train Loss: 0.1962 Grad: 67275.0703 LR: 5.1059e-05 | Elapse: 13.16s\n",
                        "Epoch 4 [150/386] | Train Loss: 0.1937 Grad: 55750.7812 LR: 4.7294e-05 | Elapse: 19.64s\n",
                        "Epoch 4 [200/386] | Train Loss: 0.1888 Grad: 64781.0898 LR: 4.3545e-05 | Elapse: 26.19s\n",
                        "Epoch 4 [250/386] | Train Loss: 0.1873 Grad: 71263.6719 LR: 3.9832e-05 | Elapse: 32.73s\n",
                        "Epoch 4 [300/386] | Train Loss: 0.1863 Grad: 74343.4844 LR: 3.6177e-05 | Elapse: 39.23s\n",
                        "Epoch 4 [350/386] | Train Loss: 0.1841 Grad: 27340.5215 LR: 3.2601e-05 | Elapse: 45.71s\n",
                        "Epoch 4 [385/386] | Train Loss: 0.1829 Grad: 71676.0391 LR: 3.0155e-05 | Elapse: 50.26s\n"
                    ]
                },
                {
                    "data": {
                        "application/vnd.jupyter.widget-view+json": {
                            "model_id": "d1a717669792490f90930a26cfae8d44",
                            "version_major": 2,
                            "version_minor": 0
                        },
                        "text/plain": [
                            "Valid [3]:   0%|          | 0/241 [00:00<?, ?batch/s]"
                        ]
                    },
                    "metadata": {},
                    "output_type": "display_data"
                },
                {
                    "name": "stdout",
                    "output_type": "stream",
                    "text": [
                        "Epoch 4 [0/241] | Valid Loss: 0.4708 | Elapse: 0.08s\n",
                        "Epoch 4 [50/241] | Valid Loss: 0.5574 | Elapse: 3.92s\n",
                        "Epoch 4 [100/241] | Valid Loss: 0.5663 | Elapse: 7.74s\n",
                        "Epoch 4 [150/241] | Valid Loss: 0.5750 | Elapse: 11.57s\n",
                        "Epoch 4 [200/241] | Valid Loss: 0.5779 | Elapse: 15.39s\n"
                    ]
                },
                {
                    "name": "stderr",
                    "output_type": "stream",
                    "text": [
                        "----------------------------------------------------------------------------------------------------\n",
                        "Epoch 4 - Average Loss: (train) 0.1829; (valid) 0.5796 | Time: 68.67s\n"
                    ]
                },
                {
                    "name": "stdout",
                    "output_type": "stream",
                    "text": [
                        "Epoch 4 [240/241] | Valid Loss: 0.5796 | Elapse: 18.41s\n"
                    ]
                },
                {
                    "data": {
                        "application/vnd.jupyter.widget-view+json": {
                            "model_id": "3976e1cf88d24c7bbdc5c3a205e3b55a",
                            "version_major": 2,
                            "version_minor": 0
                        },
                        "text/plain": [
                            "Train [4]:   0%|          | 0/386 [00:00<?, ?batch/s]"
                        ]
                    },
                    "metadata": {},
                    "output_type": "display_data"
                },
                {
                    "name": "stdout",
                    "output_type": "stream",
                    "text": [
                        "Epoch 5 [0/386] | Train Loss: 0.1367 Grad: 109255.5938 LR: 3.0086e-05 | Elapse: 0.13s\n",
                        "Epoch 5 [50/386] | Train Loss: 0.1742 Grad: 46444.7305 LR: 2.6692e-05 | Elapse: 6.61s\n",
                        "Epoch 5 [100/386] | Train Loss: 0.1726 Grad: 50005.0820 LR: 2.3430e-05 | Elapse: 13.20s\n",
                        "Epoch 5 [150/386] | Train Loss: 0.1709 Grad: 53306.1758 LR: 2.0319e-05 | Elapse: 19.76s\n",
                        "Epoch 5 [200/386] | Train Loss: 0.1677 Grad: 45267.3477 LR: 1.7377e-05 | Elapse: 26.24s\n",
                        "Epoch 5 [250/386] | Train Loss: 0.1666 Grad: 65404.0469 LR: 1.4620e-05 | Elapse: 32.72s\n",
                        "Epoch 5 [300/386] | Train Loss: 0.1646 Grad: 58791.1484 LR: 1.2064e-05 | Elapse: 39.19s\n",
                        "Epoch 5 [350/386] | Train Loss: 0.1637 Grad: 61176.6406 LR: 9.7239e-06 | Elapse: 45.68s\n",
                        "Epoch 5 [385/386] | Train Loss: 0.1629 Grad: 57806.5078 LR: 8.2210e-06 | Elapse: 50.27s\n"
                    ]
                },
                {
                    "data": {
                        "application/vnd.jupyter.widget-view+json": {
                            "model_id": "f2204c5955a74f26b803c58269ab1ebc",
                            "version_major": 2,
                            "version_minor": 0
                        },
                        "text/plain": [
                            "Valid [4]:   0%|          | 0/241 [00:00<?, ?batch/s]"
                        ]
                    },
                    "metadata": {},
                    "output_type": "display_data"
                },
                {
                    "name": "stdout",
                    "output_type": "stream",
                    "text": [
                        "Epoch 5 [0/241] | Valid Loss: 0.5058 | Elapse: 0.08s\n",
                        "Epoch 5 [50/241] | Valid Loss: 0.5309 | Elapse: 3.90s\n",
                        "Epoch 5 [100/241] | Valid Loss: 0.5441 | Elapse: 7.72s\n",
                        "Epoch 5 [150/241] | Valid Loss: 0.5524 | Elapse: 11.53s\n",
                        "Epoch 5 [200/241] | Valid Loss: 0.5558 | Elapse: 15.36s\n"
                    ]
                },
                {
                    "name": "stderr",
                    "output_type": "stream",
                    "text": [
                        "----------------------------------------------------------------------------------------------------\n",
                        "Epoch 5 - Average Loss: (train) 0.1629; (valid) 0.5583 | Time: 68.64s\n",
                        "Best model found in epoch 5 | valid loss: 0.5583\n"
                    ]
                },
                {
                    "name": "stdout",
                    "output_type": "stream",
                    "text": [
                        "Epoch 5 [240/241] | Valid Loss: 0.5583 | Elapse: 18.36s\n"
                    ]
                },
                {
                    "data": {
                        "application/vnd.jupyter.widget-view+json": {
                            "model_id": "edee88a77e024ac4876ddff3d237f1dd",
                            "version_major": 2,
                            "version_minor": 0
                        },
                        "text/plain": [
                            "Train [5]:   0%|          | 0/386 [00:00<?, ?batch/s]"
                        ]
                    },
                    "metadata": {},
                    "output_type": "display_data"
                },
                {
                    "name": "stdout",
                    "output_type": "stream",
                    "text": [
                        "Epoch 6 [0/386] | Train Loss: 0.1270 Grad: 106948.0859 LR: 8.1797e-06 | Elapse: 0.14s\n",
                        "Epoch 6 [50/386] | Train Loss: 0.1539 Grad: 68955.4141 LR: 6.2402e-06 | Elapse: 6.61s\n",
                        "Epoch 6 [100/386] | Train Loss: 0.1577 Grad: 88730.2344 LR: 4.5492e-06 | Elapse: 13.09s\n",
                        "Epoch 6 [150/386] | Train Loss: 0.1557 Grad: 68034.2109 LR: 3.1163e-06 | Elapse: 19.59s\n",
                        "Epoch 6 [200/386] | Train Loss: 0.1524 Grad: 42421.0938 LR: 1.9497e-06 | Elapse: 26.07s\n",
                        "Epoch 6 [250/386] | Train Loss: 0.1522 Grad: 72574.3281 LR: 1.0559e-06 | Elapse: 32.56s\n",
                        "Epoch 6 [300/386] | Train Loss: 0.1513 Grad: 66506.4141 LR: 4.4002e-07 | Elapse: 39.03s\n",
                        "Epoch 6 [350/386] | Train Loss: 0.1508 Grad: 62334.1484 LR: 1.0561e-07 | Elapse: 45.54s\n",
                        "Epoch 6 [385/386] | Train Loss: 0.1508 Grad: 58652.3672 LR: 4.0057e-08 | Elapse: 50.14s\n"
                    ]
                },
                {
                    "data": {
                        "application/vnd.jupyter.widget-view+json": {
                            "model_id": "cac94ff44d404932902fc258ce3fda47",
                            "version_major": 2,
                            "version_minor": 0
                        },
                        "text/plain": [
                            "Valid [5]:   0%|          | 0/241 [00:00<?, ?batch/s]"
                        ]
                    },
                    "metadata": {},
                    "output_type": "display_data"
                },
                {
                    "name": "stdout",
                    "output_type": "stream",
                    "text": [
                        "Epoch 6 [0/241] | Valid Loss: 0.4907 | Elapse: 0.08s\n",
                        "Epoch 6 [50/241] | Valid Loss: 0.5344 | Elapse: 3.90s\n",
                        "Epoch 6 [100/241] | Valid Loss: 0.5470 | Elapse: 7.72s\n",
                        "Epoch 6 [150/241] | Valid Loss: 0.5564 | Elapse: 11.55s\n",
                        "Epoch 6 [200/241] | Valid Loss: 0.5609 | Elapse: 15.37s\n"
                    ]
                },
                {
                    "name": "stderr",
                    "output_type": "stream",
                    "text": [
                        "----------------------------------------------------------------------------------------------------\n",
                        "Epoch 6 - Average Loss: (train) 0.1508; (valid) 0.5637 | Time: 68.54s\n"
                    ]
                },
                {
                    "name": "stdout",
                    "output_type": "stream",
                    "text": [
                        "Epoch 6 [240/241] | Valid Loss: 0.5637 | Elapse: 18.38s\n"
                    ]
                },
                {
                    "name": "stderr",
                    "output_type": "stream",
                    "text": [
                        "====================================================================================================\n",
                        "Fold 3 Valid Loss: 0.558314859867096\n",
                        "Elapse: 6.87 min \n",
                        "====================================================================================================\n",
                        "====================================================================================================\n",
                        "Fold: 4 || Valid size 4339 \n",
                        "====================================================================================================\n",
                        "- First Stage -\n"
                    ]
                },
                {
                    "data": {
                        "application/vnd.jupyter.widget-view+json": {
                            "model_id": "6c22c89eaac44a0ab53c7601210416dc",
                            "version_major": 2,
                            "version_minor": 0
                        },
                        "text/plain": [
                            "Train [0]:   0%|          | 0/990 [00:00<?, ?batch/s]"
                        ]
                    },
                    "metadata": {},
                    "output_type": "display_data"
                },
                {
                    "name": "stdout",
                    "output_type": "stream",
                    "text": [
                        "Epoch 1 [0/990] | Train Loss: 1.5650 Grad: 217447.9844 LR: 4.0007e-06 | Elapse: 0.14s\n",
                        "Epoch 1 [50/990] | Train Loss: 1.5166 Grad: 188114.5781 LR: 5.7414e-06 | Elapse: 6.63s\n",
                        "Epoch 1 [100/990] | Train Loss: 1.4985 Grad: 173522.6875 LR: 1.0709e-05 | Elapse: 13.12s\n",
                        "Epoch 1 [150/990] | Train Loss: 1.4572 Grad: 194080.0625 LR: 1.8557e-05 | Elapse: 19.60s\n",
                        "Epoch 1 [200/990] | Train Loss: 1.4103 Grad: 85016.0938 LR: 2.8738e-05 | Elapse: 26.07s\n",
                        "Epoch 1 [250/990] | Train Loss: 1.3635 Grad: 90996.8125 LR: 4.0541e-05 | Elapse: 32.55s\n",
                        "Epoch 1 [300/990] | Train Loss: 1.3168 Grad: 122674.6875 LR: 5.3144e-05 | Elapse: 39.07s\n",
                        "Epoch 1 [350/990] | Train Loss: 1.2690 Grad: 110407.9609 LR: 6.5667e-05 | Elapse: 45.58s\n",
                        "Epoch 1 [400/990] | Train Loss: 1.2175 Grad: 81617.9375 LR: 7.7237e-05 | Elapse: 52.07s\n",
                        "Epoch 1 [450/990] | Train Loss: 1.1776 Grad: 63926.7383 LR: 8.7046e-05 | Elapse: 58.57s\n",
                        "Epoch 1 [500/990] | Train Loss: 1.1395 Grad: 83038.9531 LR: 9.4411e-05 | Elapse: 65.06s\n",
                        "Epoch 1 [550/990] | Train Loss: 1.1077 Grad: 53311.8906 LR: 9.8817e-05 | Elapse: 71.54s\n",
                        "Epoch 1 [600/990] | Train Loss: 1.0781 Grad: 54866.5352 LR: 9.9999e-05 | Elapse: 78.03s\n",
                        "Epoch 1 [650/990] | Train Loss: 1.0540 Grad: 54391.0547 LR: 9.9971e-05 | Elapse: 84.50s\n",
                        "Epoch 1 [700/990] | Train Loss: 1.0300 Grad: 74209.9609 LR: 9.9899e-05 | Elapse: 91.01s\n",
                        "Epoch 1 [750/990] | Train Loss: 1.0111 Grad: 103318.8203 LR: 9.9785e-05 | Elapse: 97.51s\n",
                        "Epoch 1 [800/990] | Train Loss: 0.9944 Grad: 89222.9375 LR: 9.9627e-05 | Elapse: 104.00s\n",
                        "Epoch 1 [850/990] | Train Loss: 0.9796 Grad: 66151.6797 LR: 9.9427e-05 | Elapse: 110.47s\n",
                        "Epoch 1 [900/990] | Train Loss: 0.9619 Grad: 63355.5820 LR: 9.9184e-05 | Elapse: 116.95s\n",
                        "Epoch 1 [950/990] | Train Loss: 0.9477 Grad: 64134.8359 LR: 9.8898e-05 | Elapse: 123.47s\n",
                        "Epoch 1 [989/990] | Train Loss: 0.9355 Grad: 47346.4883 LR: 9.8646e-05 | Elapse: 128.53s\n"
                    ]
                },
                {
                    "data": {
                        "application/vnd.jupyter.widget-view+json": {
                            "model_id": "1e16078fa22f4387a6cfd638fb1ab904",
                            "version_major": 2,
                            "version_minor": 0
                        },
                        "text/plain": [
                            "Valid [0]:   0%|          | 0/272 [00:00<?, ?batch/s]"
                        ]
                    },
                    "metadata": {},
                    "output_type": "display_data"
                },
                {
                    "name": "stdout",
                    "output_type": "stream",
                    "text": [
                        "Epoch 1 [0/272] | Valid Loss: 0.8960 | Elapse: 0.08s\n",
                        "Epoch 1 [50/272] | Valid Loss: 0.6377 | Elapse: 3.91s\n",
                        "Epoch 1 [100/272] | Valid Loss: 0.6813 | Elapse: 7.73s\n",
                        "Epoch 1 [150/272] | Valid Loss: 0.6728 | Elapse: 11.56s\n",
                        "Epoch 1 [200/272] | Valid Loss: 0.6734 | Elapse: 15.38s\n",
                        "Epoch 1 [250/272] | Valid Loss: 0.6731 | Elapse: 19.20s\n"
                    ]
                },
                {
                    "name": "stderr",
                    "output_type": "stream",
                    "text": [
                        "----------------------------------------------------------------------------------------------------\n",
                        "Epoch 1 - Average Loss: (train) 0.9355; (valid) 0.6722 | Time: 149.34s\n",
                        "Best model found in epoch 1 | valid loss: 0.6722\n"
                    ]
                },
                {
                    "name": "stdout",
                    "output_type": "stream",
                    "text": [
                        "Epoch 1 [271/272] | Valid Loss: 0.6722 | Elapse: 20.79s\n"
                    ]
                },
                {
                    "data": {
                        "application/vnd.jupyter.widget-view+json": {
                            "model_id": "d88cc363c84f41a89879a74f7e5957dc",
                            "version_major": 2,
                            "version_minor": 0
                        },
                        "text/plain": [
                            "Train [1]:   0%|          | 0/990 [00:00<?, ?batch/s]"
                        ]
                    },
                    "metadata": {},
                    "output_type": "display_data"
                },
                {
                    "name": "stdout",
                    "output_type": "stream",
                    "text": [
                        "Epoch 2 [0/990] | Train Loss: 0.5503 Grad: 193199.6094 LR: 9.8639e-05 | Elapse: 0.13s\n",
                        "Epoch 2 [50/990] | Train Loss: 0.7009 Grad: 76034.7109 LR: 9.8278e-05 | Elapse: 6.64s\n",
                        "Epoch 2 [100/990] | Train Loss: 0.6775 Grad: 47633.0234 LR: 9.7875e-05 | Elapse: 13.10s\n",
                        "Epoch 2 [150/990] | Train Loss: 0.6660 Grad: 60151.3555 LR: 9.7431e-05 | Elapse: 19.57s\n",
                        "Epoch 2 [200/990] | Train Loss: 0.6541 Grad: 52788.2422 LR: 9.6946e-05 | Elapse: 26.10s\n",
                        "Epoch 2 [250/990] | Train Loss: 0.6550 Grad: 69007.2344 LR: 9.6420e-05 | Elapse: 32.60s\n",
                        "Epoch 2 [300/990] | Train Loss: 0.6545 Grad: 66906.0703 LR: 9.5854e-05 | Elapse: 39.14s\n",
                        "Epoch 2 [350/990] | Train Loss: 0.6448 Grad: 55564.8242 LR: 9.5249e-05 | Elapse: 45.63s\n",
                        "Epoch 2 [400/990] | Train Loss: 0.6373 Grad: 40870.6484 LR: 9.4604e-05 | Elapse: 52.13s\n",
                        "Epoch 2 [450/990] | Train Loss: 0.6331 Grad: 54290.9766 LR: 9.3922e-05 | Elapse: 58.60s\n",
                        "Epoch 2 [500/990] | Train Loss: 0.6233 Grad: 81191.0469 LR: 9.3201e-05 | Elapse: 65.06s\n",
                        "Epoch 2 [550/990] | Train Loss: 0.6165 Grad: 72055.8828 LR: 9.2443e-05 | Elapse: 71.59s\n",
                        "Epoch 2 [600/990] | Train Loss: 0.6074 Grad: 38534.3633 LR: 9.1648e-05 | Elapse: 78.14s\n",
                        "Epoch 2 [650/990] | Train Loss: 0.6029 Grad: 41811.3047 LR: 9.0818e-05 | Elapse: 84.61s\n",
                        "Epoch 2 [700/990] | Train Loss: 0.5960 Grad: 62293.2422 LR: 8.9952e-05 | Elapse: 91.08s\n",
                        "Epoch 2 [750/990] | Train Loss: 0.5937 Grad: 65210.9180 LR: 8.9051e-05 | Elapse: 97.56s\n",
                        "Epoch 2 [800/990] | Train Loss: 0.5910 Grad: 91315.9766 LR: 8.8117e-05 | Elapse: 104.06s\n",
                        "Epoch 2 [850/990] | Train Loss: 0.5896 Grad: 65108.5312 LR: 8.7151e-05 | Elapse: 110.53s\n",
                        "Epoch 2 [900/990] | Train Loss: 0.5847 Grad: 59673.9570 LR: 8.6152e-05 | Elapse: 117.00s\n",
                        "Epoch 2 [950/990] | Train Loss: 0.5811 Grad: 43536.6953 LR: 8.5122e-05 | Elapse: 123.47s\n",
                        "Epoch 2 [989/990] | Train Loss: 0.5777 Grad: 42250.5938 LR: 8.4297e-05 | Elapse: 128.52s\n"
                    ]
                },
                {
                    "data": {
                        "application/vnd.jupyter.widget-view+json": {
                            "model_id": "77815655c54b417189dd0266bfe1e635",
                            "version_major": 2,
                            "version_minor": 0
                        },
                        "text/plain": [
                            "Valid [1]:   0%|          | 0/272 [00:00<?, ?batch/s]"
                        ]
                    },
                    "metadata": {},
                    "output_type": "display_data"
                },
                {
                    "name": "stdout",
                    "output_type": "stream",
                    "text": [
                        "Epoch 2 [0/272] | Valid Loss: 0.8861 | Elapse: 0.08s\n",
                        "Epoch 2 [50/272] | Valid Loss: 0.6048 | Elapse: 3.91s\n",
                        "Epoch 2 [100/272] | Valid Loss: 0.6528 | Elapse: 7.75s\n",
                        "Epoch 2 [150/272] | Valid Loss: 0.6388 | Elapse: 11.58s\n",
                        "Epoch 2 [200/272] | Valid Loss: 0.6434 | Elapse: 15.41s\n",
                        "Epoch 2 [250/272] | Valid Loss: 0.6414 | Elapse: 19.24s\n"
                    ]
                },
                {
                    "name": "stderr",
                    "output_type": "stream",
                    "text": [
                        "----------------------------------------------------------------------------------------------------\n",
                        "Epoch 2 - Average Loss: (train) 0.5777; (valid) 0.6391 | Time: 149.32s\n",
                        "Best model found in epoch 2 | valid loss: 0.6391\n"
                    ]
                },
                {
                    "name": "stdout",
                    "output_type": "stream",
                    "text": [
                        "Epoch 2 [271/272] | Valid Loss: 0.6391 | Elapse: 20.79s\n"
                    ]
                },
                {
                    "data": {
                        "application/vnd.jupyter.widget-view+json": {
                            "model_id": "69a0468e54c6470cbdbdfcd26c003d0b",
                            "version_major": 2,
                            "version_minor": 0
                        },
                        "text/plain": [
                            "Train [2]:   0%|          | 0/990 [00:00<?, ?batch/s]"
                        ]
                    },
                    "metadata": {},
                    "output_type": "display_data"
                },
                {
                    "name": "stdout",
                    "output_type": "stream",
                    "text": [
                        "Epoch 3 [0/990] | Train Loss: 0.3055 Grad: 115892.2500 LR: 8.4276e-05 | Elapse: 0.13s\n",
                        "Epoch 3 [50/990] | Train Loss: 0.5556 Grad: 69394.9453 LR: 8.3192e-05 | Elapse: 6.59s\n",
                        "Epoch 3 [100/990] | Train Loss: 0.5161 Grad: 39540.1562 LR: 8.2079e-05 | Elapse: 13.06s\n",
                        "Epoch 3 [150/990] | Train Loss: 0.5112 Grad: 66857.6172 LR: 8.0939e-05 | Elapse: 19.53s\n",
                        "Epoch 3 [200/990] | Train Loss: 0.5035 Grad: 43239.0156 LR: 7.9772e-05 | Elapse: 26.05s\n",
                        "Epoch 3 [250/990] | Train Loss: 0.5026 Grad: 64784.5312 LR: 7.8579e-05 | Elapse: 32.59s\n",
                        "Epoch 3 [300/990] | Train Loss: 0.5004 Grad: 63395.3008 LR: 7.7362e-05 | Elapse: 39.10s\n",
                        "Epoch 3 [350/990] | Train Loss: 0.4945 Grad: 71731.8203 LR: 7.6121e-05 | Elapse: 45.57s\n",
                        "Epoch 3 [400/990] | Train Loss: 0.4854 Grad: 46474.4336 LR: 7.4857e-05 | Elapse: 52.04s\n",
                        "Epoch 3 [450/990] | Train Loss: 0.4827 Grad: 60879.5938 LR: 7.3572e-05 | Elapse: 58.51s\n",
                        "Epoch 3 [500/990] | Train Loss: 0.4777 Grad: 63769.7266 LR: 7.2267e-05 | Elapse: 64.99s\n",
                        "Epoch 3 [550/990] | Train Loss: 0.4723 Grad: 63543.7031 LR: 7.0943e-05 | Elapse: 71.45s\n",
                        "Epoch 3 [600/990] | Train Loss: 0.4652 Grad: 40764.2891 LR: 6.9600e-05 | Elapse: 77.93s\n",
                        "Epoch 3 [650/990] | Train Loss: 0.4612 Grad: 43031.6484 LR: 6.8241e-05 | Elapse: 84.41s\n",
                        "Epoch 3 [700/990] | Train Loss: 0.4550 Grad: 60071.5391 LR: 6.6866e-05 | Elapse: 90.88s\n",
                        "Epoch 3 [750/990] | Train Loss: 0.4528 Grad: 69702.5078 LR: 6.5476e-05 | Elapse: 97.36s\n",
                        "Epoch 3 [800/990] | Train Loss: 0.4506 Grad: 88217.5859 LR: 6.4073e-05 | Elapse: 103.82s\n",
                        "Epoch 3 [850/990] | Train Loss: 0.4494 Grad: 53829.5820 LR: 6.2658e-05 | Elapse: 110.30s\n",
                        "Epoch 3 [900/990] | Train Loss: 0.4455 Grad: 67954.9766 LR: 6.1232e-05 | Elapse: 116.76s\n",
                        "Epoch 3 [950/990] | Train Loss: 0.4421 Grad: 43895.7148 LR: 5.9796e-05 | Elapse: 123.23s\n",
                        "Epoch 3 [989/990] | Train Loss: 0.4392 Grad: 45603.0117 LR: 5.8670e-05 | Elapse: 128.27s\n"
                    ]
                },
                {
                    "data": {
                        "application/vnd.jupyter.widget-view+json": {
                            "model_id": "d3c28809b1df48dea6a223ed12ebb5ec",
                            "version_major": 2,
                            "version_minor": 0
                        },
                        "text/plain": [
                            "Valid [2]:   0%|          | 0/272 [00:00<?, ?batch/s]"
                        ]
                    },
                    "metadata": {},
                    "output_type": "display_data"
                },
                {
                    "name": "stdout",
                    "output_type": "stream",
                    "text": [
                        "Epoch 3 [0/272] | Valid Loss: 1.0301 | Elapse: 0.08s\n",
                        "Epoch 3 [50/272] | Valid Loss: 0.5989 | Elapse: 3.91s\n",
                        "Epoch 3 [100/272] | Valid Loss: 0.6632 | Elapse: 7.74s\n",
                        "Epoch 3 [150/272] | Valid Loss: 0.6466 | Elapse: 11.56s\n",
                        "Epoch 3 [200/272] | Valid Loss: 0.6538 | Elapse: 15.40s\n",
                        "Epoch 3 [250/272] | Valid Loss: 0.6504 | Elapse: 19.22s\n"
                    ]
                },
                {
                    "name": "stderr",
                    "output_type": "stream",
                    "text": [
                        "----------------------------------------------------------------------------------------------------\n",
                        "Epoch 3 - Average Loss: (train) 0.4392; (valid) 0.6485 | Time: 149.05s\n"
                    ]
                },
                {
                    "name": "stdout",
                    "output_type": "stream",
                    "text": [
                        "Epoch 3 [271/272] | Valid Loss: 0.6485 | Elapse: 20.77s\n"
                    ]
                },
                {
                    "data": {
                        "application/vnd.jupyter.widget-view+json": {
                            "model_id": "f47bb96701e74662bf55d4de80660c0f",
                            "version_major": 2,
                            "version_minor": 0
                        },
                        "text/plain": [
                            "Train [3]:   0%|          | 0/990 [00:00<?, ?batch/s]"
                        ]
                    },
                    "metadata": {},
                    "output_type": "display_data"
                },
                {
                    "name": "stdout",
                    "output_type": "stream",
                    "text": [
                        "Epoch 4 [0/990] | Train Loss: 0.3269 Grad: 196775.3281 LR: 5.8641e-05 | Elapse: 0.13s\n",
                        "Epoch 4 [50/990] | Train Loss: 0.4291 Grad: 122225.0625 LR: 5.7191e-05 | Elapse: 6.59s\n",
                        "Epoch 4 [100/990] | Train Loss: 0.3978 Grad: 47874.8086 LR: 5.5735e-05 | Elapse: 13.19s\n",
                        "Epoch 4 [150/990] | Train Loss: 0.3885 Grad: 66629.3906 LR: 5.4274e-05 | Elapse: 19.70s\n",
                        "Epoch 4 [200/990] | Train Loss: 0.3851 Grad: 51038.6719 LR: 5.2809e-05 | Elapse: 26.19s\n",
                        "Epoch 4 [250/990] | Train Loss: 0.3821 Grad: 77867.2188 LR: 5.1342e-05 | Elapse: 32.67s\n",
                        "Epoch 4 [300/990] | Train Loss: 0.3817 Grad: 81698.5469 LR: 4.9873e-05 | Elapse: 39.19s\n",
                        "Epoch 4 [350/990] | Train Loss: 0.3738 Grad: 55519.8672 LR: 4.8405e-05 | Elapse: 45.65s\n",
                        "Epoch 4 [400/990] | Train Loss: 0.3648 Grad: 61362.0781 LR: 4.6938e-05 | Elapse: 52.22s\n",
                        "Epoch 4 [450/990] | Train Loss: 0.3633 Grad: 45523.5391 LR: 4.5474e-05 | Elapse: 58.70s\n",
                        "Epoch 4 [500/990] | Train Loss: 0.3616 Grad: 54431.6914 LR: 4.4014e-05 | Elapse: 65.19s\n",
                        "Epoch 4 [550/990] | Train Loss: 0.3572 Grad: 65638.8125 LR: 4.2558e-05 | Elapse: 71.66s\n",
                        "Epoch 4 [600/990] | Train Loss: 0.3519 Grad: 43318.1602 LR: 4.1110e-05 | Elapse: 78.14s\n",
                        "Epoch 4 [650/990] | Train Loss: 0.3492 Grad: 68678.6641 LR: 3.9669e-05 | Elapse: 84.69s\n",
                        "Epoch 4 [700/990] | Train Loss: 0.3443 Grad: 60190.1875 LR: 3.8237e-05 | Elapse: 91.15s\n",
                        "Epoch 4 [750/990] | Train Loss: 0.3425 Grad: 47340.5703 LR: 3.6815e-05 | Elapse: 97.64s\n",
                        "Epoch 4 [800/990] | Train Loss: 0.3416 Grad: 75260.2812 LR: 3.5404e-05 | Elapse: 104.13s\n",
                        "Epoch 4 [850/990] | Train Loss: 0.3404 Grad: 82864.2891 LR: 3.4007e-05 | Elapse: 110.62s\n",
                        "Epoch 4 [900/990] | Train Loss: 0.3377 Grad: 57348.3789 LR: 3.2623e-05 | Elapse: 117.11s\n",
                        "Epoch 4 [950/990] | Train Loss: 0.3361 Grad: 51511.7305 LR: 3.1254e-05 | Elapse: 123.58s\n",
                        "Epoch 4 [989/990] | Train Loss: 0.3342 Grad: 63103.9062 LR: 3.0197e-05 | Elapse: 128.62s\n"
                    ]
                },
                {
                    "data": {
                        "application/vnd.jupyter.widget-view+json": {
                            "model_id": "e57b133ffec84a69bce35fca2461dae5",
                            "version_major": 2,
                            "version_minor": 0
                        },
                        "text/plain": [
                            "Valid [3]:   0%|          | 0/272 [00:00<?, ?batch/s]"
                        ]
                    },
                    "metadata": {},
                    "output_type": "display_data"
                },
                {
                    "name": "stdout",
                    "output_type": "stream",
                    "text": [
                        "Epoch 4 [0/272] | Valid Loss: 1.1875 | Elapse: 0.08s\n",
                        "Epoch 4 [50/272] | Valid Loss: 0.5975 | Elapse: 3.90s\n",
                        "Epoch 4 [100/272] | Valid Loss: 0.6654 | Elapse: 7.72s\n",
                        "Epoch 4 [150/272] | Valid Loss: 0.6546 | Elapse: 11.54s\n",
                        "Epoch 4 [200/272] | Valid Loss: 0.6638 | Elapse: 15.37s\n",
                        "Epoch 4 [250/272] | Valid Loss: 0.6590 | Elapse: 19.19s\n"
                    ]
                },
                {
                    "name": "stderr",
                    "output_type": "stream",
                    "text": [
                        "----------------------------------------------------------------------------------------------------\n",
                        "Epoch 4 - Average Loss: (train) 0.3342; (valid) 0.6575 | Time: 149.37s\n"
                    ]
                },
                {
                    "name": "stdout",
                    "output_type": "stream",
                    "text": [
                        "Epoch 4 [271/272] | Valid Loss: 0.6575 | Elapse: 20.74s\n"
                    ]
                },
                {
                    "data": {
                        "application/vnd.jupyter.widget-view+json": {
                            "model_id": "09a8b84d81de439c8d94dbecaeba7702",
                            "version_major": 2,
                            "version_minor": 0
                        },
                        "text/plain": [
                            "Train [4]:   0%|          | 0/990 [00:00<?, ?batch/s]"
                        ]
                    },
                    "metadata": {},
                    "output_type": "display_data"
                },
                {
                    "name": "stdout",
                    "output_type": "stream",
                    "text": [
                        "Epoch 5 [0/990] | Train Loss: 0.1910 Grad: 159165.7031 LR: 3.0170e-05 | Elapse: 0.13s\n",
                        "Epoch 5 [50/990] | Train Loss: 0.3495 Grad: 44385.9883 LR: 2.8831e-05 | Elapse: 6.60s\n",
                        "Epoch 5 [100/990] | Train Loss: 0.3181 Grad: 26248.8281 LR: 2.7510e-05 | Elapse: 13.06s\n",
                        "Epoch 5 [150/990] | Train Loss: 0.3072 Grad: 28315.5059 LR: 2.6209e-05 | Elapse: 19.52s\n",
                        "Epoch 5 [200/990] | Train Loss: 0.3036 Grad: 20951.1934 LR: 2.4928e-05 | Elapse: 25.99s\n",
                        "Epoch 5 [250/990] | Train Loss: 0.2999 Grad: 27422.3320 LR: 2.3669e-05 | Elapse: 32.46s\n",
                        "Epoch 5 [300/990] | Train Loss: 0.3009 Grad: 25341.8066 LR: 2.2433e-05 | Elapse: 38.96s\n",
                        "Epoch 5 [350/990] | Train Loss: 0.2971 Grad: 35183.7891 LR: 2.1220e-05 | Elapse: 45.49s\n",
                        "Epoch 5 [400/990] | Train Loss: 0.2902 Grad: 25963.5508 LR: 2.0033e-05 | Elapse: 51.98s\n",
                        "Epoch 5 [450/990] | Train Loss: 0.2892 Grad: 21082.7988 LR: 1.8871e-05 | Elapse: 58.53s\n",
                        "Epoch 5 [500/990] | Train Loss: 0.2869 Grad: 41560.1445 LR: 1.7736e-05 | Elapse: 65.00s\n",
                        "Epoch 5 [550/990] | Train Loss: 0.2838 Grad: 25723.6992 LR: 1.6629e-05 | Elapse: 71.50s\n",
                        "Epoch 5 [600/990] | Train Loss: 0.2803 Grad: 21178.8145 LR: 1.5551e-05 | Elapse: 77.99s\n",
                        "Epoch 5 [650/990] | Train Loss: 0.2784 Grad: 28314.4531 LR: 1.4503e-05 | Elapse: 84.51s\n",
                        "Epoch 5 [700/990] | Train Loss: 0.2750 Grad: 20723.0137 LR: 1.3485e-05 | Elapse: 90.97s\n",
                        "Epoch 5 [750/990] | Train Loss: 0.2747 Grad: 21446.0859 LR: 1.2499e-05 | Elapse: 97.44s\n",
                        "Epoch 5 [800/990] | Train Loss: 0.2743 Grad: 35109.2188 LR: 1.1545e-05 | Elapse: 103.95s\n",
                        "Epoch 5 [850/990] | Train Loss: 0.2734 Grad: 28388.4668 LR: 1.0624e-05 | Elapse: 110.45s\n",
                        "Epoch 5 [900/990] | Train Loss: 0.2720 Grad: 40044.1055 LR: 9.7378e-06 | Elapse: 116.92s\n",
                        "Epoch 5 [950/990] | Train Loss: 0.2709 Grad: 24486.9199 LR: 8.8860e-06 | Elapse: 123.39s\n",
                        "Epoch 5 [989/990] | Train Loss: 0.2702 Grad: 29751.3809 LR: 8.2462e-06 | Elapse: 128.43s\n"
                    ]
                },
                {
                    "data": {
                        "application/vnd.jupyter.widget-view+json": {
                            "model_id": "783ecb8302f641ada5216b1e6c34f746",
                            "version_major": 2,
                            "version_minor": 0
                        },
                        "text/plain": [
                            "Valid [4]:   0%|          | 0/272 [00:00<?, ?batch/s]"
                        ]
                    },
                    "metadata": {},
                    "output_type": "display_data"
                },
                {
                    "name": "stdout",
                    "output_type": "stream",
                    "text": [
                        "Epoch 5 [0/272] | Valid Loss: 1.2219 | Elapse: 0.08s\n",
                        "Epoch 5 [50/272] | Valid Loss: 0.5889 | Elapse: 3.91s\n",
                        "Epoch 5 [100/272] | Valid Loss: 0.6517 | Elapse: 7.77s\n",
                        "Epoch 5 [150/272] | Valid Loss: 0.6487 | Elapse: 11.64s\n",
                        "Epoch 5 [200/272] | Valid Loss: 0.6570 | Elapse: 15.46s\n",
                        "Epoch 5 [250/272] | Valid Loss: 0.6562 | Elapse: 19.29s\n"
                    ]
                },
                {
                    "name": "stderr",
                    "output_type": "stream",
                    "text": [
                        "----------------------------------------------------------------------------------------------------\n",
                        "Epoch 5 - Average Loss: (train) 0.2702; (valid) 0.6548 | Time: 149.28s\n"
                    ]
                },
                {
                    "name": "stdout",
                    "output_type": "stream",
                    "text": [
                        "Epoch 5 [271/272] | Valid Loss: 0.6548 | Elapse: 20.84s\n"
                    ]
                },
                {
                    "data": {
                        "application/vnd.jupyter.widget-view+json": {
                            "model_id": "e97879777f3f4908b97f0ec13dd5e53f",
                            "version_major": 2,
                            "version_minor": 0
                        },
                        "text/plain": [
                            "Train [5]:   0%|          | 0/990 [00:00<?, ?batch/s]"
                        ]
                    },
                    "metadata": {},
                    "output_type": "display_data"
                },
                {
                    "name": "stdout",
                    "output_type": "stream",
                    "text": [
                        "Epoch 6 [0/990] | Train Loss: 0.1881 Grad: 204002.8281 LR: 8.2301e-06 | Elapse: 0.13s\n",
                        "Epoch 6 [50/990] | Train Loss: 0.2949 Grad: 33120.3203 LR: 7.4427e-06 | Elapse: 6.58s\n",
                        "Epoch 6 [100/990] | Train Loss: 0.2679 Grad: 22918.0000 LR: 6.6921e-06 | Elapse: 13.11s\n",
                        "Epoch 6 [150/990] | Train Loss: 0.2629 Grad: 29442.1758 LR: 5.9788e-06 | Elapse: 19.57s\n",
                        "Epoch 6 [200/990] | Train Loss: 0.2590 Grad: 18422.8711 LR: 5.3036e-06 | Elapse: 26.03s\n",
                        "Epoch 6 [250/990] | Train Loss: 0.2572 Grad: 46641.8203 LR: 4.6670e-06 | Elapse: 32.50s\n",
                        "Epoch 6 [300/990] | Train Loss: 0.2608 Grad: 30011.4121 LR: 4.0696e-06 | Elapse: 38.96s\n",
                        "Epoch 6 [350/990] | Train Loss: 0.2570 Grad: 27714.0176 LR: 3.5118e-06 | Elapse: 45.43s\n",
                        "Epoch 6 [400/990] | Train Loss: 0.2516 Grad: 27606.8047 LR: 2.9942e-06 | Elapse: 51.90s\n",
                        "Epoch 6 [450/990] | Train Loss: 0.2524 Grad: 23795.9336 LR: 2.5171e-06 | Elapse: 58.36s\n",
                        "Epoch 6 [500/990] | Train Loss: 0.2516 Grad: 24024.5664 LR: 2.0811e-06 | Elapse: 64.81s\n",
                        "Epoch 6 [550/990] | Train Loss: 0.2494 Grad: 19826.9590 LR: 1.6865e-06 | Elapse: 71.27s\n",
                        "Epoch 6 [600/990] | Train Loss: 0.2477 Grad: 21522.9707 LR: 1.3336e-06 | Elapse: 77.73s\n",
                        "Epoch 6 [650/990] | Train Loss: 0.2472 Grad: 38242.5117 LR: 1.0227e-06 | Elapse: 84.21s\n",
                        "Epoch 6 [700/990] | Train Loss: 0.2446 Grad: 23430.5469 LR: 7.5410e-07 | Elapse: 90.73s\n",
                        "Epoch 6 [750/990] | Train Loss: 0.2458 Grad: 12976.1348 LR: 5.2804e-07 | Elapse: 97.22s\n",
                        "Epoch 6 [800/990] | Train Loss: 0.2463 Grad: 23555.7148 LR: 3.4471e-07 | Elapse: 103.70s\n",
                        "Epoch 6 [850/990] | Train Loss: 0.2462 Grad: 33461.0664 LR: 2.0426e-07 | Elapse: 110.20s\n",
                        "Epoch 6 [900/990] | Train Loss: 0.2459 Grad: 23913.1094 LR: 1.0682e-07 | Elapse: 116.70s\n",
                        "Epoch 6 [950/990] | Train Loss: 0.2457 Grad: 28910.4121 LR: 5.2461e-08 | Elapse: 123.15s\n",
                        "Epoch 6 [989/990] | Train Loss: 0.2454 Grad: 22826.4492 LR: 4.0009e-08 | Elapse: 128.20s\n"
                    ]
                },
                {
                    "data": {
                        "application/vnd.jupyter.widget-view+json": {
                            "model_id": "769e94036f7e4450889bcebb78d6e718",
                            "version_major": 2,
                            "version_minor": 0
                        },
                        "text/plain": [
                            "Valid [5]:   0%|          | 0/272 [00:00<?, ?batch/s]"
                        ]
                    },
                    "metadata": {},
                    "output_type": "display_data"
                },
                {
                    "name": "stdout",
                    "output_type": "stream",
                    "text": [
                        "Epoch 6 [0/272] | Valid Loss: 1.2270 | Elapse: 0.08s\n",
                        "Epoch 6 [50/272] | Valid Loss: 0.5981 | Elapse: 3.90s\n",
                        "Epoch 6 [100/272] | Valid Loss: 0.6568 | Elapse: 7.72s\n",
                        "Epoch 6 [150/272] | Valid Loss: 0.6549 | Elapse: 11.54s\n",
                        "Epoch 6 [200/272] | Valid Loss: 0.6642 | Elapse: 15.36s\n",
                        "Epoch 6 [250/272] | Valid Loss: 0.6638 | Elapse: 19.18s\n"
                    ]
                },
                {
                    "name": "stderr",
                    "output_type": "stream",
                    "text": [
                        "----------------------------------------------------------------------------------------------------\n",
                        "Epoch 6 - Average Loss: (train) 0.2454; (valid) 0.6625 | Time: 148.93s\n"
                    ]
                },
                {
                    "name": "stdout",
                    "output_type": "stream",
                    "text": [
                        "Epoch 6 [271/272] | Valid Loss: 0.6625 | Elapse: 20.72s\n"
                    ]
                },
                {
                    "name": "stderr",
                    "output_type": "stream",
                    "text": [
                        "====================================================================================================\n",
                        "Fold 4 Valid Loss: 0.6390752792358398\n",
                        "Elapse: 14.93 min \n",
                        "====================================================================================================\n",
                        "- Second Stage -\n",
                        "Use Checkpoint: DualEncoder_B0_fold_4_stage_1.pth\n"
                    ]
                },
                {
                    "data": {
                        "application/vnd.jupyter.widget-view+json": {
                            "model_id": "252146ede1004ebcb193e29b76ab870d",
                            "version_major": 2,
                            "version_minor": 0
                        },
                        "text/plain": [
                            "Train [0]:   0%|          | 0/386 [00:00<?, ?batch/s]"
                        ]
                    },
                    "metadata": {},
                    "output_type": "display_data"
                },
                {
                    "name": "stderr",
                    "output_type": "stream",
                    "text": [
                        "/home/shiyi/miniconda3/envs/kaggle/lib/python3.11/site-packages/torch/optim/lr_scheduler.py:143: UserWarning: Detected call of `lr_scheduler.step()` before `optimizer.step()`. In PyTorch 1.1.0 and later, you should call them in the opposite order: `optimizer.step()` before `lr_scheduler.step()`.  Failure to do this will result in PyTorch skipping the first value of the learning rate schedule. See more details at https://pytorch.org/docs/stable/optim.html#how-to-adjust-learning-rate\n",
                        "  warnings.warn(\"Detected call of `lr_scheduler.step()` before `optimizer.step()`. \"\n"
                    ]
                },
                {
                    "name": "stdout",
                    "output_type": "stream",
                    "text": [
                        "Epoch 1 [0/386] | Train Loss: 0.3253 Grad: inf LR: 4.0045e-06 | Elapse: 0.15s\n",
                        "Epoch 1 [50/386] | Train Loss: 0.4706 Grad: 93249.0781 LR: 1.5127e-05 | Elapse: 6.65s\n",
                        "Epoch 1 [100/386] | Train Loss: 0.4304 Grad: 54722.6094 LR: 4.2708e-05 | Elapse: 13.12s\n",
                        "Epoch 1 [150/386] | Train Loss: 0.4063 Grad: 54403.0039 LR: 7.4436e-05 | Elapse: 19.59s\n",
                        "Epoch 1 [200/386] | Train Loss: 0.3925 Grad: 39763.3867 LR: 9.6150e-05 | Elapse: 26.16s\n",
                        "Epoch 1 [250/386] | Train Loss: 0.3854 Grad: 72904.8672 LR: 9.9976e-05 | Elapse: 32.70s\n",
                        "Epoch 1 [300/386] | Train Loss: 0.3782 Grad: 49006.7109 LR: 9.9719e-05 | Elapse: 39.17s\n",
                        "Epoch 1 [350/386] | Train Loss: 0.3702 Grad: 33452.5781 LR: 9.9179e-05 | Elapse: 45.65s\n",
                        "Epoch 1 [385/386] | Train Loss: 0.3661 Grad: 59895.2422 LR: 9.8635e-05 | Elapse: 50.18s\n"
                    ]
                },
                {
                    "data": {
                        "application/vnd.jupyter.widget-view+json": {
                            "model_id": "f6fdce0ff6eb44ceb2d8c447e7742063",
                            "version_major": 2,
                            "version_minor": 0
                        },
                        "text/plain": [
                            "Valid [0]:   0%|          | 0/272 [00:00<?, ?batch/s]"
                        ]
                    },
                    "metadata": {},
                    "output_type": "display_data"
                },
                {
                    "name": "stdout",
                    "output_type": "stream",
                    "text": [
                        "Epoch 1 [0/272] | Valid Loss: 1.0514 | Elapse: 0.08s\n",
                        "Epoch 1 [50/272] | Valid Loss: 0.6205 | Elapse: 3.91s\n",
                        "Epoch 1 [100/272] | Valid Loss: 0.6546 | Elapse: 7.74s\n",
                        "Epoch 1 [150/272] | Valid Loss: 0.6425 | Elapse: 11.58s\n",
                        "Epoch 1 [200/272] | Valid Loss: 0.6436 | Elapse: 15.42s\n",
                        "Epoch 1 [250/272] | Valid Loss: 0.6363 | Elapse: 19.25s\n"
                    ]
                },
                {
                    "name": "stderr",
                    "output_type": "stream",
                    "text": [
                        "----------------------------------------------------------------------------------------------------\n",
                        "Epoch 1 - Average Loss: (train) 0.3661; (valid) 0.6380 | Time: 70.99s\n",
                        "Best model found in epoch 1 | valid loss: 0.6380\n"
                    ]
                },
                {
                    "name": "stdout",
                    "output_type": "stream",
                    "text": [
                        "Epoch 1 [271/272] | Valid Loss: 0.6380 | Elapse: 20.80s\n"
                    ]
                },
                {
                    "data": {
                        "application/vnd.jupyter.widget-view+json": {
                            "model_id": "a5d2dd43aace4a2b9c4c3214084280c9",
                            "version_major": 2,
                            "version_minor": 0
                        },
                        "text/plain": [
                            "Train [1]:   0%|          | 0/386 [00:00<?, ?batch/s]"
                        ]
                    },
                    "metadata": {},
                    "output_type": "display_data"
                },
                {
                    "name": "stdout",
                    "output_type": "stream",
                    "text": [
                        "Epoch 2 [0/386] | Train Loss: 0.2904 Grad: 197716.1562 LR: 9.8618e-05 | Elapse: 0.13s\n",
                        "Epoch 2 [50/386] | Train Loss: 0.3350 Grad: 87055.3516 LR: 9.7601e-05 | Elapse: 6.61s\n",
                        "Epoch 2 [100/386] | Train Loss: 0.3219 Grad: 93342.4453 LR: 9.6314e-05 | Elapse: 13.15s\n",
                        "Epoch 2 [150/386] | Train Loss: 0.3069 Grad: 101347.7031 LR: 9.4765e-05 | Elapse: 19.67s\n",
                        "Epoch 2 [200/386] | Train Loss: 0.2971 Grad: 76068.4141 LR: 9.2961e-05 | Elapse: 26.20s\n",
                        "Epoch 2 [250/386] | Train Loss: 0.2914 Grad: 95928.8672 LR: 9.0914e-05 | Elapse: 32.76s\n",
                        "Epoch 2 [300/386] | Train Loss: 0.2870 Grad: 119464.3516 LR: 8.8634e-05 | Elapse: 39.33s\n",
                        "Epoch 2 [350/386] | Train Loss: 0.2809 Grad: 68966.8516 LR: 8.6135e-05 | Elapse: 45.87s\n",
                        "Epoch 2 [385/386] | Train Loss: 0.2774 Grad: 82159.8828 LR: 8.4264e-05 | Elapse: 50.42s\n"
                    ]
                },
                {
                    "data": {
                        "application/vnd.jupyter.widget-view+json": {
                            "model_id": "622514d6a649487b988a4d7cd62a4251",
                            "version_major": 2,
                            "version_minor": 0
                        },
                        "text/plain": [
                            "Valid [1]:   0%|          | 0/272 [00:00<?, ?batch/s]"
                        ]
                    },
                    "metadata": {},
                    "output_type": "display_data"
                },
                {
                    "name": "stdout",
                    "output_type": "stream",
                    "text": [
                        "Epoch 2 [0/272] | Valid Loss: 0.9275 | Elapse: 0.08s\n",
                        "Epoch 2 [50/272] | Valid Loss: 0.5725 | Elapse: 3.92s\n",
                        "Epoch 2 [100/272] | Valid Loss: 0.6254 | Elapse: 7.76s\n",
                        "Epoch 2 [150/272] | Valid Loss: 0.6170 | Elapse: 11.60s\n",
                        "Epoch 2 [200/272] | Valid Loss: 0.6182 | Elapse: 15.45s\n",
                        "Epoch 2 [250/272] | Valid Loss: 0.6129 | Elapse: 19.29s\n"
                    ]
                },
                {
                    "name": "stderr",
                    "output_type": "stream",
                    "text": [
                        "----------------------------------------------------------------------------------------------------\n",
                        "Epoch 2 - Average Loss: (train) 0.2774; (valid) 0.6153 | Time: 71.27s\n",
                        "Best model found in epoch 2 | valid loss: 0.6153\n"
                    ]
                },
                {
                    "name": "stdout",
                    "output_type": "stream",
                    "text": [
                        "Epoch 2 [271/272] | Valid Loss: 0.6153 | Elapse: 20.84s\n"
                    ]
                },
                {
                    "data": {
                        "application/vnd.jupyter.widget-view+json": {
                            "model_id": "6b05c34b573144f6b7ecf05e0381124c",
                            "version_major": 2,
                            "version_minor": 0
                        },
                        "text/plain": [
                            "Train [2]:   0%|          | 0/386 [00:00<?, ?batch/s]"
                        ]
                    },
                    "metadata": {},
                    "output_type": "display_data"
                },
                {
                    "name": "stdout",
                    "output_type": "stream",
                    "text": [
                        "Epoch 3 [0/386] | Train Loss: 0.2618 Grad: 181928.7031 LR: 8.4209e-05 | Elapse: 0.13s\n",
                        "Epoch 3 [50/386] | Train Loss: 0.2552 Grad: 61634.8125 LR: 8.1367e-05 | Elapse: 6.62s\n",
                        "Epoch 3 [100/386] | Train Loss: 0.2505 Grad: 68380.3750 LR: 7.8347e-05 | Elapse: 13.11s\n",
                        "Epoch 3 [150/386] | Train Loss: 0.2412 Grad: 61100.3711 LR: 7.5166e-05 | Elapse: 19.61s\n",
                        "Epoch 3 [200/386] | Train Loss: 0.2343 Grad: 54314.4727 LR: 7.1843e-05 | Elapse: 26.10s\n",
                        "Epoch 3 [250/386] | Train Loss: 0.2304 Grad: 99017.3281 LR: 6.8396e-05 | Elapse: 32.60s\n",
                        "Epoch 3 [300/386] | Train Loss: 0.2276 Grad: 72928.7188 LR: 6.4844e-05 | Elapse: 39.09s\n",
                        "Epoch 3 [350/386] | Train Loss: 0.2243 Grad: 50888.1055 LR: 6.1209e-05 | Elapse: 45.58s\n",
                        "Epoch 3 [385/386] | Train Loss: 0.2223 Grad: 77472.6484 LR: 5.8625e-05 | Elapse: 50.16s\n"
                    ]
                },
                {
                    "data": {
                        "application/vnd.jupyter.widget-view+json": {
                            "model_id": "4c6a84ff1ef94eb3bc393688a3bff528",
                            "version_major": 2,
                            "version_minor": 0
                        },
                        "text/plain": [
                            "Valid [2]:   0%|          | 0/272 [00:00<?, ?batch/s]"
                        ]
                    },
                    "metadata": {},
                    "output_type": "display_data"
                },
                {
                    "name": "stdout",
                    "output_type": "stream",
                    "text": [
                        "Epoch 3 [0/272] | Valid Loss: 0.9781 | Elapse: 0.08s\n",
                        "Epoch 3 [50/272] | Valid Loss: 0.5773 | Elapse: 3.93s\n",
                        "Epoch 3 [100/272] | Valid Loss: 0.6311 | Elapse: 7.78s\n",
                        "Epoch 3 [150/272] | Valid Loss: 0.6196 | Elapse: 11.62s\n",
                        "Epoch 3 [200/272] | Valid Loss: 0.6245 | Elapse: 15.46s\n",
                        "Epoch 3 [250/272] | Valid Loss: 0.6184 | Elapse: 19.30s\n"
                    ]
                },
                {
                    "name": "stderr",
                    "output_type": "stream",
                    "text": [
                        "----------------------------------------------------------------------------------------------------\n",
                        "Epoch 3 - Average Loss: (train) 0.2223; (valid) 0.6214 | Time: 71.01s\n"
                    ]
                },
                {
                    "name": "stdout",
                    "output_type": "stream",
                    "text": [
                        "Epoch 3 [271/272] | Valid Loss: 0.6214 | Elapse: 20.85s\n"
                    ]
                },
                {
                    "data": {
                        "application/vnd.jupyter.widget-view+json": {
                            "model_id": "5c83b8bc8e184500af627bb13293c0af",
                            "version_major": 2,
                            "version_minor": 0
                        },
                        "text/plain": [
                            "Train [3]:   0%|          | 0/386 [00:00<?, ?batch/s]"
                        ]
                    },
                    "metadata": {},
                    "output_type": "display_data"
                },
                {
                    "name": "stdout",
                    "output_type": "stream",
                    "text": [
                        "Epoch 4 [0/386] | Train Loss: 0.2032 Grad: 131743.5781 LR: 5.8551e-05 | Elapse: 0.13s\n",
                        "Epoch 4 [50/386] | Train Loss: 0.2011 Grad: 61110.8867 LR: 5.4819e-05 | Elapse: 6.60s\n",
                        "Epoch 4 [100/386] | Train Loss: 0.1992 Grad: 61485.2891 LR: 5.1059e-05 | Elapse: 13.08s\n",
                        "Epoch 4 [150/386] | Train Loss: 0.1948 Grad: 69882.5234 LR: 4.7294e-05 | Elapse: 19.59s\n",
                        "Epoch 4 [200/386] | Train Loss: 0.1911 Grad: 40830.9688 LR: 4.3545e-05 | Elapse: 26.16s\n",
                        "Epoch 4 [250/386] | Train Loss: 0.1892 Grad: 75224.3438 LR: 3.9832e-05 | Elapse: 32.64s\n",
                        "Epoch 4 [300/386] | Train Loss: 0.1876 Grad: 61840.0078 LR: 3.6177e-05 | Elapse: 39.15s\n",
                        "Epoch 4 [350/386] | Train Loss: 0.1852 Grad: 41329.4805 LR: 3.2601e-05 | Elapse: 45.65s\n",
                        "Epoch 4 [385/386] | Train Loss: 0.1838 Grad: 75603.7578 LR: 3.0155e-05 | Elapse: 50.21s\n"
                    ]
                },
                {
                    "data": {
                        "application/vnd.jupyter.widget-view+json": {
                            "model_id": "9605ec51563b4293a4ed6c3fa6a33417",
                            "version_major": 2,
                            "version_minor": 0
                        },
                        "text/plain": [
                            "Valid [3]:   0%|          | 0/272 [00:00<?, ?batch/s]"
                        ]
                    },
                    "metadata": {},
                    "output_type": "display_data"
                },
                {
                    "name": "stdout",
                    "output_type": "stream",
                    "text": [
                        "Epoch 4 [0/272] | Valid Loss: 1.0062 | Elapse: 0.08s\n",
                        "Epoch 4 [50/272] | Valid Loss: 0.5781 | Elapse: 3.92s\n",
                        "Epoch 4 [100/272] | Valid Loss: 0.6287 | Elapse: 7.75s\n",
                        "Epoch 4 [150/272] | Valid Loss: 0.6193 | Elapse: 11.58s\n",
                        "Epoch 4 [200/272] | Valid Loss: 0.6232 | Elapse: 15.41s\n",
                        "Epoch 4 [250/272] | Valid Loss: 0.6184 | Elapse: 19.24s\n"
                    ]
                },
                {
                    "name": "stderr",
                    "output_type": "stream",
                    "text": [
                        "----------------------------------------------------------------------------------------------------\n",
                        "Epoch 4 - Average Loss: (train) 0.1838; (valid) 0.6217 | Time: 71.01s\n"
                    ]
                },
                {
                    "name": "stdout",
                    "output_type": "stream",
                    "text": [
                        "Epoch 4 [271/272] | Valid Loss: 0.6217 | Elapse: 20.80s\n"
                    ]
                },
                {
                    "data": {
                        "application/vnd.jupyter.widget-view+json": {
                            "model_id": "6a717bcdd64041629c7a8652a313700d",
                            "version_major": 2,
                            "version_minor": 0
                        },
                        "text/plain": [
                            "Train [4]:   0%|          | 0/386 [00:00<?, ?batch/s]"
                        ]
                    },
                    "metadata": {},
                    "output_type": "display_data"
                },
                {
                    "name": "stdout",
                    "output_type": "stream",
                    "text": [
                        "Epoch 5 [0/386] | Train Loss: 0.1496 Grad: 106699.3750 LR: 3.0086e-05 | Elapse: 0.13s\n",
                        "Epoch 5 [50/386] | Train Loss: 0.1714 Grad: 78019.9375 LR: 2.6692e-05 | Elapse: 6.63s\n",
                        "Epoch 5 [100/386] | Train Loss: 0.1701 Grad: 52346.8789 LR: 2.3430e-05 | Elapse: 13.10s\n",
                        "Epoch 5 [150/386] | Train Loss: 0.1686 Grad: 70543.6797 LR: 2.0319e-05 | Elapse: 19.57s\n",
                        "Epoch 5 [200/386] | Train Loss: 0.1663 Grad: 53744.1328 LR: 1.7377e-05 | Elapse: 26.11s\n",
                        "Epoch 5 [250/386] | Train Loss: 0.1655 Grad: 69792.7109 LR: 1.4620e-05 | Elapse: 32.63s\n",
                        "Epoch 5 [300/386] | Train Loss: 0.1648 Grad: 74212.0469 LR: 1.2064e-05 | Elapse: 39.12s\n",
                        "Epoch 5 [350/386] | Train Loss: 0.1632 Grad: 48308.3828 LR: 9.7239e-06 | Elapse: 45.60s\n",
                        "Epoch 5 [385/386] | Train Loss: 0.1629 Grad: 85773.9766 LR: 8.2210e-06 | Elapse: 50.14s\n"
                    ]
                },
                {
                    "data": {
                        "application/vnd.jupyter.widget-view+json": {
                            "model_id": "cff64dc732fe4759a62c53e51acfbcef",
                            "version_major": 2,
                            "version_minor": 0
                        },
                        "text/plain": [
                            "Valid [4]:   0%|          | 0/272 [00:00<?, ?batch/s]"
                        ]
                    },
                    "metadata": {},
                    "output_type": "display_data"
                },
                {
                    "name": "stdout",
                    "output_type": "stream",
                    "text": [
                        "Epoch 5 [0/272] | Valid Loss: 0.9822 | Elapse: 0.08s\n",
                        "Epoch 5 [50/272] | Valid Loss: 0.5466 | Elapse: 3.90s\n",
                        "Epoch 5 [100/272] | Valid Loss: 0.6012 | Elapse: 7.73s\n",
                        "Epoch 5 [150/272] | Valid Loss: 0.5906 | Elapse: 11.55s\n",
                        "Epoch 5 [200/272] | Valid Loss: 0.5954 | Elapse: 15.37s\n",
                        "Epoch 5 [250/272] | Valid Loss: 0.5911 | Elapse: 19.19s\n"
                    ]
                },
                {
                    "name": "stderr",
                    "output_type": "stream",
                    "text": [
                        "----------------------------------------------------------------------------------------------------\n",
                        "Epoch 5 - Average Loss: (train) 0.1629; (valid) 0.5948 | Time: 70.89s\n",
                        "Best model found in epoch 5 | valid loss: 0.5948\n"
                    ]
                },
                {
                    "name": "stdout",
                    "output_type": "stream",
                    "text": [
                        "Epoch 5 [271/272] | Valid Loss: 0.5948 | Elapse: 20.74s\n"
                    ]
                },
                {
                    "data": {
                        "application/vnd.jupyter.widget-view+json": {
                            "model_id": "946f77a2699446ada346148756e47bb8",
                            "version_major": 2,
                            "version_minor": 0
                        },
                        "text/plain": [
                            "Train [5]:   0%|          | 0/386 [00:00<?, ?batch/s]"
                        ]
                    },
                    "metadata": {},
                    "output_type": "display_data"
                },
                {
                    "name": "stdout",
                    "output_type": "stream",
                    "text": [
                        "Epoch 6 [0/386] | Train Loss: 0.1492 Grad: 183152.8750 LR: 8.1797e-06 | Elapse: 0.13s\n",
                        "Epoch 6 [50/386] | Train Loss: 0.1568 Grad: 61193.7930 LR: 6.2402e-06 | Elapse: 6.61s\n",
                        "Epoch 6 [100/386] | Train Loss: 0.1593 Grad: 84309.5547 LR: 4.5492e-06 | Elapse: 13.09s\n",
                        "Epoch 6 [150/386] | Train Loss: 0.1593 Grad: 58685.5469 LR: 3.1163e-06 | Elapse: 19.61s\n",
                        "Epoch 6 [200/386] | Train Loss: 0.1555 Grad: 49319.6328 LR: 1.9497e-06 | Elapse: 26.21s\n",
                        "Epoch 6 [250/386] | Train Loss: 0.1555 Grad: 83058.8984 LR: 1.0559e-06 | Elapse: 32.79s\n",
                        "Epoch 6 [300/386] | Train Loss: 0.1554 Grad: 77451.8125 LR: 4.4002e-07 | Elapse: 39.31s\n",
                        "Epoch 6 [350/386] | Train Loss: 0.1539 Grad: 56179.5352 LR: 1.0561e-07 | Elapse: 45.84s\n",
                        "Epoch 6 [385/386] | Train Loss: 0.1534 Grad: 61783.3203 LR: 4.0057e-08 | Elapse: 50.37s\n"
                    ]
                },
                {
                    "data": {
                        "application/vnd.jupyter.widget-view+json": {
                            "model_id": "938d780792d3433799ff5726e1253e41",
                            "version_major": 2,
                            "version_minor": 0
                        },
                        "text/plain": [
                            "Valid [5]:   0%|          | 0/272 [00:00<?, ?batch/s]"
                        ]
                    },
                    "metadata": {},
                    "output_type": "display_data"
                },
                {
                    "name": "stdout",
                    "output_type": "stream",
                    "text": [
                        "Epoch 6 [0/272] | Valid Loss: 0.9667 | Elapse: 0.08s\n",
                        "Epoch 6 [50/272] | Valid Loss: 0.5370 | Elapse: 3.91s\n",
                        "Epoch 6 [100/272] | Valid Loss: 0.5946 | Elapse: 7.75s\n",
                        "Epoch 6 [150/272] | Valid Loss: 0.5852 | Elapse: 11.58s\n",
                        "Epoch 6 [200/272] | Valid Loss: 0.5906 | Elapse: 15.41s\n",
                        "Epoch 6 [250/272] | Valid Loss: 0.5861 | Elapse: 19.24s\n"
                    ]
                },
                {
                    "name": "stderr",
                    "output_type": "stream",
                    "text": [
                        "----------------------------------------------------------------------------------------------------\n",
                        "Epoch 6 - Average Loss: (train) 0.1534; (valid) 0.5898 | Time: 71.17s\n",
                        "Best model found in epoch 6 | valid loss: 0.5898\n"
                    ]
                },
                {
                    "name": "stdout",
                    "output_type": "stream",
                    "text": [
                        "Epoch 6 [271/272] | Valid Loss: 0.5898 | Elapse: 20.79s\n"
                    ]
                },
                {
                    "name": "stderr",
                    "output_type": "stream",
                    "text": [
                        "====================================================================================================\n",
                        "Fold 4 Valid Loss: 0.5898432731628418\n",
                        "Elapse: 7.12 min \n",
                        "====================================================================================================\n"
                    ]
                }
            ],
            "source": [
                "logger = get_logger(PATHS.OUTPUT_DIR, f\"{ModelConfig.MODEL_NAME}_train.log\")\n",
                "\n",
                "logger.info(f\"{'*' * 100}\")\n",
                "logger.info(f\"Script Start: {ctime()}\")\n",
                "logger.info(f\"Model Configurations:\")\n",
                "for key, value in ModelConfig.__dict__.items():\n",
                "    if not key.startswith(\"__\"):\n",
                "        logger.info(f\"{key}: {value}\")\n",
                "logger.info(f\"{'*' * 100}\")\n",
                "\n",
                "k_folds = 5\n",
                "train_all = prepare_k_fold(train_all, k_folds=k_folds)\n",
                "\n",
                "oof_stage_1, oof_stage_2 = pd.DataFrame(), pd.DataFrame()\n",
                "loss_history_1, loss_history_2 = [], []\n",
                "\n",
                "for fold in range(k_folds):\n",
                "    tik = time()\n",
                "    model = get_model(pretrained=True)\n",
                "\n",
                "    valid_folds = train_all[train_all['fold'] == fold].reset_index(drop=True)\n",
                "    train_folds = train_all[train_all['fold'] != fold].reset_index(drop=True)\n",
                "\n",
                "    # STAGE 1\n",
                "    logger.info(f\"{'=' * 100}\\nFold: {fold} || Valid size {valid_folds.shape[0]} \\n{'=' * 100}\")\n",
                "    logger.info(f\"- First Stage -\")\n",
                "    valid_predicts, loss_records = train_fold(\n",
                "        model, fold, train_folds, valid_folds, logger, stage=1, checkpoint=None)\n",
                "\n",
                "    loss_history_1.append(loss_records)\n",
                "    valid_folds[TARGETS_PRED] = valid_predicts\n",
                "    oof_stage_1 = pd.concat([oof_stage_1, valid_folds], axis=0).reset_index(drop=True)\n",
                "    kl_loss_torch = evaluate_oof(valid_folds)\n",
                "    info = f\"{'=' * 100}\\nFold {fold} Valid Loss: {kl_loss_torch}\\n\"\n",
                "    info += f\"Elapse: {(time() - tik) / 60:.2f} min \\n{'=' * 100}\"\n",
                "    logger.info(info)\n",
                "    oof_stage_1.to_csv(os.path.join(PATHS.OUTPUT_DIR, f\"{ModelConfig.MODEL_NAME}_oof_1.csv\"), index=False)\n",
                "\n",
                "    # STAGE 2\n",
                "    tik = time()\n",
                "    logger.info(f\"- Second Stage -\")\n",
                "    check_point = os.path.join(\n",
                "        PATHS.OUTPUT_DIR,\n",
                "        f\"{ModelConfig.MODEL_NAME}_fold_{fold}_stage_1.pth\"\n",
                "    )\n",
                "    logger.info(f\"Use Checkpoint: {check_point.split('/')[-1]}\")\n",
                "\n",
                "    model = get_model(pretrained=True)\n",
                "    valid_predicts, loss_records = train_fold(\n",
                "        model, fold, train_hard, valid_folds, logger, stage=2, checkpoint=check_point)\n",
                "\n",
                "    loss_history_2.append(loss_records)\n",
                "    valid_folds[TARGETS_PRED] = valid_predicts\n",
                "    oof_stage_2 = pd.concat([oof_stage_2, valid_folds], axis=0).reset_index(drop=True)\n",
                "    kl_loss_torch = evaluate_oof(valid_folds)\n",
                "    info = f\"{'=' * 100}\\nFold {fold} Valid Loss: {kl_loss_torch}\\n\"\n",
                "    info += f\"Elapse: {(time() - tik) / 60:.2f} min \\n{'=' * 100}\"\n",
                "    logger.info(info)\n",
                "    oof_stage_2.to_csv(os.path.join(PATHS.OUTPUT_DIR, f\"{ModelConfig.MODEL_NAME}_oof_2.csv\"), index=False)"
            ]
        },
        {
            "cell_type": "code",
            "execution_count": 10,
            "metadata": {},
            "outputs": [
                {
                    "name": "stdout",
                    "output_type": "stream",
                    "text": [
                        "CSV Path:  ./outputs/DualEncoder_B0_resplit/DualEncoder_B0_oof_1.csv\n",
                        "Kaggle Score:  0.5955013134555588\n",
                        "Average KL Loss:  0.5955013\n"
                    ]
                },
                {
                    "data": {
                        "text/html": [
                            "<div>\n",
                            "<style scoped>\n",
                            "    .dataframe tbody tr th:only-of-type {\n",
                            "        vertical-align: middle;\n",
                            "    }\n",
                            "\n",
                            "    .dataframe tbody tr th {\n",
                            "        vertical-align: top;\n",
                            "    }\n",
                            "\n",
                            "    .dataframe thead th {\n",
                            "        text-align: right;\n",
                            "    }\n",
                            "</style>\n",
                            "<table border=\"1\" class=\"dataframe\">\n",
                            "  <thead>\n",
                            "    <tr style=\"text-align: right;\">\n",
                            "      <th></th>\n",
                            "      <th>eeg_id</th>\n",
                            "      <th>seizure_vote</th>\n",
                            "      <th>lpd_vote</th>\n",
                            "      <th>gpd_vote</th>\n",
                            "      <th>lrda_vote</th>\n",
                            "      <th>grda_vote</th>\n",
                            "      <th>other_vote</th>\n",
                            "      <th>spectrogram_id</th>\n",
                            "      <th>min</th>\n",
                            "      <th>max</th>\n",
                            "      <th>patient_id</th>\n",
                            "      <th>target</th>\n",
                            "      <th>fold</th>\n",
                            "      <th>seizure_pred</th>\n",
                            "      <th>lpd_pred</th>\n",
                            "      <th>gpd_pred</th>\n",
                            "      <th>lrda_pred</th>\n",
                            "      <th>grda_pred</th>\n",
                            "      <th>other_pred</th>\n",
                            "      <th>target_pred</th>\n",
                            "      <th>target_id</th>\n",
                            "      <th>kl_loss</th>\n",
                            "    </tr>\n",
                            "  </thead>\n",
                            "  <tbody>\n",
                            "    <tr>\n",
                            "      <th>0</th>\n",
                            "      <td>751790</td>\n",
                            "      <td>0.0</td>\n",
                            "      <td>0.000000</td>\n",
                            "      <td>1.000000</td>\n",
                            "      <td>0.000000</td>\n",
                            "      <td>0.000000</td>\n",
                            "      <td>0.000000</td>\n",
                            "      <td>618728447</td>\n",
                            "      <td>908.0</td>\n",
                            "      <td>908.0</td>\n",
                            "      <td>38549</td>\n",
                            "      <td>GPD</td>\n",
                            "      <td>0</td>\n",
                            "      <td>0.021025</td>\n",
                            "      <td>0.011856</td>\n",
                            "      <td>0.964310</td>\n",
                            "      <td>0.000062</td>\n",
                            "      <td>0.000105</td>\n",
                            "      <td>0.002642</td>\n",
                            "      <td>2</td>\n",
                            "      <td>2</td>\n",
                            "      <td>0.036343</td>\n",
                            "    </tr>\n",
                            "    <tr>\n",
                            "      <th>1</th>\n",
                            "      <td>2366870</td>\n",
                            "      <td>0.0</td>\n",
                            "      <td>0.333333</td>\n",
                            "      <td>0.000000</td>\n",
                            "      <td>0.000000</td>\n",
                            "      <td>0.000000</td>\n",
                            "      <td>0.666667</td>\n",
                            "      <td>1232582129</td>\n",
                            "      <td>0.0</td>\n",
                            "      <td>30.0</td>\n",
                            "      <td>23633</td>\n",
                            "      <td>Other</td>\n",
                            "      <td>0</td>\n",
                            "      <td>0.004015</td>\n",
                            "      <td>0.045656</td>\n",
                            "      <td>0.047630</td>\n",
                            "      <td>0.032451</td>\n",
                            "      <td>0.051732</td>\n",
                            "      <td>0.818517</td>\n",
                            "      <td>5</td>\n",
                            "      <td>5</td>\n",
                            "      <td>0.525868</td>\n",
                            "    </tr>\n",
                            "    <tr>\n",
                            "      <th>2</th>\n",
                            "      <td>2482631</td>\n",
                            "      <td>0.0</td>\n",
                            "      <td>0.000000</td>\n",
                            "      <td>0.133333</td>\n",
                            "      <td>0.066667</td>\n",
                            "      <td>0.133333</td>\n",
                            "      <td>0.666667</td>\n",
                            "      <td>978166025</td>\n",
                            "      <td>1902.0</td>\n",
                            "      <td>1944.0</td>\n",
                            "      <td>20606</td>\n",
                            "      <td>Other</td>\n",
                            "      <td>0</td>\n",
                            "      <td>0.016618</td>\n",
                            "      <td>0.235307</td>\n",
                            "      <td>0.068014</td>\n",
                            "      <td>0.293101</td>\n",
                            "      <td>0.154040</td>\n",
                            "      <td>0.232920</td>\n",
                            "      <td>3</td>\n",
                            "      <td>5</td>\n",
                            "      <td>0.672847</td>\n",
                            "    </tr>\n",
                            "    <tr>\n",
                            "      <th>3</th>\n",
                            "      <td>2521897</td>\n",
                            "      <td>0.0</td>\n",
                            "      <td>0.000000</td>\n",
                            "      <td>0.083333</td>\n",
                            "      <td>0.083333</td>\n",
                            "      <td>0.333333</td>\n",
                            "      <td>0.500000</td>\n",
                            "      <td>673742515</td>\n",
                            "      <td>0.0</td>\n",
                            "      <td>4.0</td>\n",
                            "      <td>62117</td>\n",
                            "      <td>Other</td>\n",
                            "      <td>0</td>\n",
                            "      <td>0.005226</td>\n",
                            "      <td>0.004967</td>\n",
                            "      <td>0.021028</td>\n",
                            "      <td>0.049649</td>\n",
                            "      <td>0.391016</td>\n",
                            "      <td>0.528115</td>\n",
                            "      <td>5</td>\n",
                            "      <td>5</td>\n",
                            "      <td>0.077351</td>\n",
                            "    </tr>\n",
                            "    <tr>\n",
                            "      <th>4</th>\n",
                            "      <td>3108700</td>\n",
                            "      <td>0.0</td>\n",
                            "      <td>0.000000</td>\n",
                            "      <td>0.000000</td>\n",
                            "      <td>0.000000</td>\n",
                            "      <td>0.000000</td>\n",
                            "      <td>1.000000</td>\n",
                            "      <td>223960986</td>\n",
                            "      <td>0.0</td>\n",
                            "      <td>0.0</td>\n",
                            "      <td>55677</td>\n",
                            "      <td>Other</td>\n",
                            "      <td>0</td>\n",
                            "      <td>0.002851</td>\n",
                            "      <td>0.000924</td>\n",
                            "      <td>0.000323</td>\n",
                            "      <td>0.001427</td>\n",
                            "      <td>0.003769</td>\n",
                            "      <td>0.990706</td>\n",
                            "      <td>5</td>\n",
                            "      <td>5</td>\n",
                            "      <td>0.009337</td>\n",
                            "    </tr>\n",
                            "  </tbody>\n",
                            "</table>\n",
                            "</div>"
                        ],
                        "text/plain": [
                            "    eeg_id  seizure_vote  lpd_vote  gpd_vote  lrda_vote  grda_vote  \\\n",
                            "0   751790           0.0  0.000000  1.000000   0.000000   0.000000   \n",
                            "1  2366870           0.0  0.333333  0.000000   0.000000   0.000000   \n",
                            "2  2482631           0.0  0.000000  0.133333   0.066667   0.133333   \n",
                            "3  2521897           0.0  0.000000  0.083333   0.083333   0.333333   \n",
                            "4  3108700           0.0  0.000000  0.000000   0.000000   0.000000   \n",
                            "\n",
                            "   other_vote  spectrogram_id     min     max  patient_id target  fold  \\\n",
                            "0    0.000000       618728447   908.0   908.0       38549    GPD     0   \n",
                            "1    0.666667      1232582129     0.0    30.0       23633  Other     0   \n",
                            "2    0.666667       978166025  1902.0  1944.0       20606  Other     0   \n",
                            "3    0.500000       673742515     0.0     4.0       62117  Other     0   \n",
                            "4    1.000000       223960986     0.0     0.0       55677  Other     0   \n",
                            "\n",
                            "   seizure_pred  lpd_pred  gpd_pred  lrda_pred  grda_pred  other_pred  \\\n",
                            "0      0.021025  0.011856  0.964310   0.000062   0.000105    0.002642   \n",
                            "1      0.004015  0.045656  0.047630   0.032451   0.051732    0.818517   \n",
                            "2      0.016618  0.235307  0.068014   0.293101   0.154040    0.232920   \n",
                            "3      0.005226  0.004967  0.021028   0.049649   0.391016    0.528115   \n",
                            "4      0.002851  0.000924  0.000323   0.001427   0.003769    0.990706   \n",
                            "\n",
                            "   target_pred  target_id   kl_loss  \n",
                            "0            2          2  0.036343  \n",
                            "1            5          5  0.525868  \n",
                            "2            3          5  0.672847  \n",
                            "3            5          5  0.077351  \n",
                            "4            5          5  0.009337  "
                        ]
                    },
                    "metadata": {},
                    "output_type": "display_data"
                },
                {
                    "data": {
                        "image/png": "[encoded data removed]",
                        "text/plain": [
                            "<Figure size 600x600 with 2 Axes>"
                        ]
                    },
                    "metadata": {},
                    "output_type": "display_data"
                }
            ],
            "source": [
                "csv_path = f'./outputs/DualEncoder_B0_resplit/{ModelConfig.MODEL_NAME}_oof_1.csv'\n",
                "print(\"CSV Path: \", csv_path)\n",
                "\n",
                "oof_df = analyze_oof(csv_path)\n",
                "\n",
                "print(\"Kaggle Score: \", calc_kaggle_score(oof_df))\n",
                "print(\"Average KL Loss: \", oof_df[\"kl_loss\"].mean())\n",
                "\n",
                "display(oof_df.head())\n",
                "\n",
                "# plot confusion matrix\n",
                "cm = confusion_matrix(oof_df['target_id'], oof_df['target_pred']) # (y_true, y_pred)\n",
                "cm = cm / cm.sum(axis=1)[:, np.newaxis]\n",
                "\n",
                "fig = plt.figure(figsize=(6, 6))\n",
                "sns.heatmap(cm, annot=True, cmap='Blues', xticklabels=TARGET2ID.keys(), yticklabels=TARGET2ID.keys())\n",
                "plt.xlabel('Predicted', fontsize=12)\n",
                "plt.ylabel('True', fontsize=12)\n",
                "plt.title(csv_path.split('/')[-1].split('.')[0], fontsize=12)\n",
                "fig.tight_layout()\n",
                "fig.savefig(f\"./outputs/{csv_path.split('/')[-1].split('.')[0]}_CM.png\")\n",
                "plt.show()"
            ]
        },
        {
            "cell_type": "code",
            "execution_count": null,
            "metadata": {},
            "outputs": [],
            "source": [
                "# check distribution of targets\n",
                "fig, axes = plt.subplots(1, 2, figsize=(10, 5))\n",
                "train_all[\"target\"].value_counts().plot(kind=\"bar\", ax=axes[0])\n",
                "train_hard[\"target\"].value_counts().plot(kind=\"bar\", ax=axes[1])\n",
                "axes[0].set_title(\"Easy\")\n",
                "axes[1].set_title(\"Hard\")\n",
                "fig.tight_layout()\n",
                "plt.show()"
            ]
        },
        {
            "cell_type": "code",
            "execution_count": null,
            "metadata": {},
            "outputs": [],
            "source": [
                "# hms_predictor = HMSPredictor(paths.OUTPUT_DIR, ModelConfig, k_fold=5)"
            ]
        },
        {
            "cell_type": "code",
            "execution_count": null,
            "metadata": {},
            "outputs": [],
            "source": [
                "# hms_predictor.train_model(train_easy, train_hard, all_specs, all_eegs)"
            ]
        },
        {
            "cell_type": "code",
            "execution_count": null,
            "metadata": {},
            "outputs": [],
            "source": [
                "\n",
                "\n",
                "# hms_predictor = HMSPredictor(paths.OUTPUT_DIR, ModelConfig, k_fold=5)"
            ]
        },
        {
            "cell_type": "code",
            "execution_count": null,
            "metadata": {},
            "outputs": [],
            "source": [
                "# new figure\n",
                "fig, axes = plt.subplots(6, 5, figsize=(18, 16), sharex=True, sharey=True)\n",
                "\n",
                "plot_oof = oof_df[oof_df['kl_loss'] > 0.2]\n",
                "\n",
                "for row in range(axes.shape[0]):\n",
                "    row_selects = plot_oof[plot_oof['target_id']==row]\n",
                "    target_label = BRAIN_ACTIVITY[row]\n",
                "    for col in range(axes.shape[1]):\n",
                "        ax = axes[row, col]\n",
                "        idx = np.random.choice(row_selects.index)\n",
                "        df_rows = plot_oof.loc[idx]\n",
                "        ax.plot(df_rows[TARGETS].values , label='True')\n",
                "        ax.plot(df_rows[TARGETS_PRED].values, label='Pred')\n",
                "        ax.set_title(f\"{idx} | KL: {df_rows['kl_loss']:.4f} \") #\n",
                "        ax.set_xticks(range(6))\n",
                "        ax.set_xticklabels(BRAIN_ACTIVITY)\n",
                "        ax.grid(True)\n",
                "        ax.legend()\n",
                "        if col == 0:\n",
                "            ax.set_ylabel(target_label, fontsize=12)\n",
                "       \n",
                "fig.tight_layout()\n",
                "plt.show()\n",
                "\n",
                "\n"
            ]
        },
        {
            "cell_type": "code",
            "execution_count": null,
            "metadata": {},
            "outputs": [],
            "source": []
        },
        {
            "cell_type": "code",
            "execution_count": null,
            "metadata": {},
            "outputs": [],
            "source": []
        }
    ],
    "metadata": {
        "kernelspec": {
            "display_name": "kaggle",
            "language": "python",
            "name": "python3"
        },
        "language_info": {
            "codemirror_mode": {
                "name": "ipython",
                "version": 3
            },
            "file_extension": ".py",
            "mimetype": "text/x-python",
            "name": "python",
            "nbconvert_exporter": "python",
            "pygments_lexer": "ipython3",
            "version": "3.11.6"
        }
    },
    "nbformat": 4,
    "nbformat_minor": 2
}
