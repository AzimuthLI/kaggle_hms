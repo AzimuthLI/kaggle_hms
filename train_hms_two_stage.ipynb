{
    "cells": [
        {
            "cell_type": "code",
            "execution_count": 1,
            "metadata": {},
            "outputs": [
                {
                    "name": "stderr",
                    "output_type": "stream",
                    "text": [
                        "/home/shiyi/miniconda3/envs/kaggle/lib/python3.11/site-packages/transformers/utils/generic.py:441: UserWarning: torch.utils._pytree._register_pytree_node is deprecated. Please use torch.utils._pytree.register_pytree_node instead.\n",
                        "  _torch_pytree._register_pytree_node(\n"
                    ]
                }
            ],
            "source": [
                "import pandas as pd \n",
                "import numpy as np \n",
                "from scipy.stats import entropy\n",
                "import matplotlib.pyplot as plt\n",
                "\n",
                "from engine_hms_trainer import *\n",
                "from engine_hms_model import CustomModel, JobConfig, ModelConfig\n",
                "\n",
                "import torch\n",
                "from torch import nn\n",
                "import torch.nn.functional as F"
            ]
        },
        {
            "cell_type": "code",
            "execution_count": 2,
            "metadata": {},
            "outputs": [
                {
                    "name": "stderr",
                    "output_type": "stream",
                    "text": [
                        "****************************************************************************************************\n",
                        "Script Start: Sun Mar 10 21:04:11 2024\n",
                        "Initializing HMS Predictor...\n",
                        "Model Name: ENet_b2_xymasking_regularized\n",
                        "Drop Rate: 0.15\n",
                        "Drop Path Rate: 0.25\n",
                        "Augment: True\n",
                        "Augmentations: ['xy_masking']\n",
                        "Regularization: 0.05\n",
                        "Enropy Split: 5.5\n",
                        "Device: cuda\n",
                        "Output Dir: ./outputs/\n",
                        "****************************************************************************************************\n"
                    ]
                }
            ],
            "source": [
                "seed_everything(JobConfig.SEED)\n",
                "\n",
                "ModelConfig.EPOCHS = 6\n",
                "ModelConfig.MODEL_BACKBONE = 'tf_efficientnet_b2'\n",
                "ModelConfig.MODEL_NAME = \"ENet_b2_xymasking_regularized\"\n",
                "ModelConfig.AUGMENT = True\n",
                "ModelConfig.USE_KAGGLE_SPECTROGRAMS = True\n",
                "ModelConfig.USE_EEG_SPECTROGRAMS = True\n",
                "ModelConfig.REGULARIZATION = 0.05\n",
                "ModelConfig.AUGMENTATIONS = ['xy_masking']\n",
                "\n",
                "hms_predictor = HMSPredictor(JobConfig, ModelConfig)"
            ]
        },
        {
            "cell_type": "code",
            "execution_count": 3,
            "metadata": {},
            "outputs": [
                {
                    "name": "stdout",
                    "output_type": "stream",
                    "text": [
                        "(12440, 14)\n",
                        "(5536, 14)\n",
                        "0\n",
                        "0\n"
                    ]
                },
                {
                    "data": {
                        "text/html": [
                            "<div>\n",
                            "<style scoped>\n",
                            "    .dataframe tbody tr th:only-of-type {\n",
                            "        vertical-align: middle;\n",
                            "    }\n",
                            "\n",
                            "    .dataframe tbody tr th {\n",
                            "        vertical-align: top;\n",
                            "    }\n",
                            "\n",
                            "    .dataframe thead th {\n",
                            "        text-align: right;\n",
                            "    }\n",
                            "</style>\n",
                            "<table border=\"1\" class=\"dataframe\">\n",
                            "  <thead>\n",
                            "    <tr style=\"text-align: right;\">\n",
                            "      <th></th>\n",
                            "      <th>eeg_id</th>\n",
                            "      <th>spectrogram_id</th>\n",
                            "      <th>min</th>\n",
                            "      <th>max</th>\n",
                            "      <th>patient_id</th>\n",
                            "      <th>target</th>\n",
                            "      <th>total_votes</th>\n",
                            "      <th>entropy</th>\n",
                            "      <th>seizure_vote</th>\n",
                            "      <th>lpd_vote</th>\n",
                            "      <th>gpd_vote</th>\n",
                            "      <th>lrda_vote</th>\n",
                            "      <th>grda_vote</th>\n",
                            "      <th>other_vote</th>\n",
                            "    </tr>\n",
                            "  </thead>\n",
                            "  <tbody>\n",
                            "    <tr>\n",
                            "      <th>0</th>\n",
                            "      <td>642382</td>\n",
                            "      <td>14960202</td>\n",
                            "      <td>1008.0</td>\n",
                            "      <td>1032.0</td>\n",
                            "      <td>5955</td>\n",
                            "      <td>Other</td>\n",
                            "      <td>2</td>\n",
                            "      <td>7.802343</td>\n",
                            "      <td>0.0</td>\n",
                            "      <td>0.0</td>\n",
                            "      <td>0.0</td>\n",
                            "      <td>0.0</td>\n",
                            "      <td>0.0</td>\n",
                            "      <td>1.0</td>\n",
                            "    </tr>\n",
                            "    <tr>\n",
                            "      <th>1</th>\n",
                            "      <td>751790</td>\n",
                            "      <td>618728447</td>\n",
                            "      <td>908.0</td>\n",
                            "      <td>908.0</td>\n",
                            "      <td>38549</td>\n",
                            "      <td>GPD</td>\n",
                            "      <td>1</td>\n",
                            "      <td>7.802343</td>\n",
                            "      <td>0.0</td>\n",
                            "      <td>0.0</td>\n",
                            "      <td>1.0</td>\n",
                            "      <td>0.0</td>\n",
                            "      <td>0.0</td>\n",
                            "      <td>0.0</td>\n",
                            "    </tr>\n",
                            "    <tr>\n",
                            "      <th>2</th>\n",
                            "      <td>778705</td>\n",
                            "      <td>52296320</td>\n",
                            "      <td>0.0</td>\n",
                            "      <td>0.0</td>\n",
                            "      <td>40955</td>\n",
                            "      <td>Other</td>\n",
                            "      <td>2</td>\n",
                            "      <td>7.686820</td>\n",
                            "      <td>0.0</td>\n",
                            "      <td>0.0</td>\n",
                            "      <td>0.0</td>\n",
                            "      <td>0.0</td>\n",
                            "      <td>0.0</td>\n",
                            "      <td>1.0</td>\n",
                            "    </tr>\n",
                            "    <tr>\n",
                            "      <th>3</th>\n",
                            "      <td>1629671</td>\n",
                            "      <td>2036345030</td>\n",
                            "      <td>0.0</td>\n",
                            "      <td>160.0</td>\n",
                            "      <td>37481</td>\n",
                            "      <td>Seizure</td>\n",
                            "      <td>51</td>\n",
                            "      <td>7.619243</td>\n",
                            "      <td>1.0</td>\n",
                            "      <td>0.0</td>\n",
                            "      <td>0.0</td>\n",
                            "      <td>0.0</td>\n",
                            "      <td>0.0</td>\n",
                            "      <td>0.0</td>\n",
                            "    </tr>\n",
                            "    <tr>\n",
                            "      <th>4</th>\n",
                            "      <td>2061593</td>\n",
                            "      <td>320962633</td>\n",
                            "      <td>1450.0</td>\n",
                            "      <td>1450.0</td>\n",
                            "      <td>23828</td>\n",
                            "      <td>Other</td>\n",
                            "      <td>1</td>\n",
                            "      <td>7.802343</td>\n",
                            "      <td>0.0</td>\n",
                            "      <td>0.0</td>\n",
                            "      <td>0.0</td>\n",
                            "      <td>0.0</td>\n",
                            "      <td>0.0</td>\n",
                            "      <td>1.0</td>\n",
                            "    </tr>\n",
                            "  </tbody>\n",
                            "</table>\n",
                            "</div>"
                        ],
                        "text/plain": [
                            "    eeg_id  spectrogram_id     min     max  patient_id   target  total_votes  \\\n",
                            "0   642382        14960202  1008.0  1032.0        5955    Other            2   \n",
                            "1   751790       618728447   908.0   908.0       38549      GPD            1   \n",
                            "2   778705        52296320     0.0     0.0       40955    Other            2   \n",
                            "3  1629671      2036345030     0.0   160.0       37481  Seizure           51   \n",
                            "4  2061593       320962633  1450.0  1450.0       23828    Other            1   \n",
                            "\n",
                            "    entropy  seizure_vote  lpd_vote  gpd_vote  lrda_vote  grda_vote  \\\n",
                            "0  7.802343           0.0       0.0       0.0        0.0        0.0   \n",
                            "1  7.802343           0.0       0.0       1.0        0.0        0.0   \n",
                            "2  7.686820           0.0       0.0       0.0        0.0        0.0   \n",
                            "3  7.619243           1.0       0.0       0.0        0.0        0.0   \n",
                            "4  7.802343           0.0       0.0       0.0        0.0        0.0   \n",
                            "\n",
                            "   other_vote  \n",
                            "0         1.0  \n",
                            "1         0.0  \n",
                            "2         1.0  \n",
                            "3         0.0  \n",
                            "4         1.0  "
                        ]
                    },
                    "metadata": {},
                    "output_type": "display_data"
                },
                {
                    "name": "stdout",
                    "output_type": "stream",
                    "text": [
                        " \n"
                    ]
                },
                {
                    "data": {
                        "text/html": [
                            "<div>\n",
                            "<style scoped>\n",
                            "    .dataframe tbody tr th:only-of-type {\n",
                            "        vertical-align: middle;\n",
                            "    }\n",
                            "\n",
                            "    .dataframe tbody tr th {\n",
                            "        vertical-align: top;\n",
                            "    }\n",
                            "\n",
                            "    .dataframe thead th {\n",
                            "        text-align: right;\n",
                            "    }\n",
                            "</style>\n",
                            "<table border=\"1\" class=\"dataframe\">\n",
                            "  <thead>\n",
                            "    <tr style=\"text-align: right;\">\n",
                            "      <th></th>\n",
                            "      <th>eeg_id</th>\n",
                            "      <th>spectrogram_id</th>\n",
                            "      <th>min</th>\n",
                            "      <th>max</th>\n",
                            "      <th>patient_id</th>\n",
                            "      <th>target</th>\n",
                            "      <th>total_votes</th>\n",
                            "      <th>entropy</th>\n",
                            "      <th>seizure_vote</th>\n",
                            "      <th>lpd_vote</th>\n",
                            "      <th>gpd_vote</th>\n",
                            "      <th>lrda_vote</th>\n",
                            "      <th>grda_vote</th>\n",
                            "      <th>other_vote</th>\n",
                            "    </tr>\n",
                            "  </thead>\n",
                            "  <tbody>\n",
                            "    <tr>\n",
                            "      <th>0</th>\n",
                            "      <td>568657</td>\n",
                            "      <td>789577333</td>\n",
                            "      <td>0.0</td>\n",
                            "      <td>16.0</td>\n",
                            "      <td>20654</td>\n",
                            "      <td>Other</td>\n",
                            "      <td>48</td>\n",
                            "      <td>3.341757</td>\n",
                            "      <td>0.000000</td>\n",
                            "      <td>0.000000</td>\n",
                            "      <td>0.250000</td>\n",
                            "      <td>0.000000</td>\n",
                            "      <td>0.166667</td>\n",
                            "      <td>0.583333</td>\n",
                            "    </tr>\n",
                            "    <tr>\n",
                            "      <th>1</th>\n",
                            "      <td>582999</td>\n",
                            "      <td>1552638400</td>\n",
                            "      <td>0.0</td>\n",
                            "      <td>38.0</td>\n",
                            "      <td>20230</td>\n",
                            "      <td>LPD</td>\n",
                            "      <td>154</td>\n",
                            "      <td>3.550549</td>\n",
                            "      <td>0.000000</td>\n",
                            "      <td>0.857143</td>\n",
                            "      <td>0.000000</td>\n",
                            "      <td>0.071429</td>\n",
                            "      <td>0.000000</td>\n",
                            "      <td>0.071429</td>\n",
                            "    </tr>\n",
                            "    <tr>\n",
                            "      <th>2</th>\n",
                            "      <td>1895581</td>\n",
                            "      <td>128369999</td>\n",
                            "      <td>1138.0</td>\n",
                            "      <td>1138.0</td>\n",
                            "      <td>47999</td>\n",
                            "      <td>Other</td>\n",
                            "      <td>13</td>\n",
                            "      <td>3.565051</td>\n",
                            "      <td>0.076923</td>\n",
                            "      <td>0.000000</td>\n",
                            "      <td>0.000000</td>\n",
                            "      <td>0.000000</td>\n",
                            "      <td>0.076923</td>\n",
                            "      <td>0.846154</td>\n",
                            "    </tr>\n",
                            "    <tr>\n",
                            "      <th>3</th>\n",
                            "      <td>2482631</td>\n",
                            "      <td>978166025</td>\n",
                            "      <td>1902.0</td>\n",
                            "      <td>1944.0</td>\n",
                            "      <td>20606</td>\n",
                            "      <td>Other</td>\n",
                            "      <td>105</td>\n",
                            "      <td>1.431066</td>\n",
                            "      <td>0.000000</td>\n",
                            "      <td>0.000000</td>\n",
                            "      <td>0.133333</td>\n",
                            "      <td>0.066667</td>\n",
                            "      <td>0.133333</td>\n",
                            "      <td>0.666667</td>\n",
                            "    </tr>\n",
                            "    <tr>\n",
                            "      <th>4</th>\n",
                            "      <td>2521897</td>\n",
                            "      <td>673742515</td>\n",
                            "      <td>0.0</td>\n",
                            "      <td>4.0</td>\n",
                            "      <td>62117</td>\n",
                            "      <td>Other</td>\n",
                            "      <td>24</td>\n",
                            "      <td>1.516203</td>\n",
                            "      <td>0.000000</td>\n",
                            "      <td>0.000000</td>\n",
                            "      <td>0.083333</td>\n",
                            "      <td>0.083333</td>\n",
                            "      <td>0.333333</td>\n",
                            "      <td>0.500000</td>\n",
                            "    </tr>\n",
                            "  </tbody>\n",
                            "</table>\n",
                            "</div>"
                        ],
                        "text/plain": [
                            "    eeg_id  spectrogram_id     min     max  patient_id target  total_votes  \\\n",
                            "0   568657       789577333     0.0    16.0       20654  Other           48   \n",
                            "1   582999      1552638400     0.0    38.0       20230    LPD          154   \n",
                            "2  1895581       128369999  1138.0  1138.0       47999  Other           13   \n",
                            "3  2482631       978166025  1902.0  1944.0       20606  Other          105   \n",
                            "4  2521897       673742515     0.0     4.0       62117  Other           24   \n",
                            "\n",
                            "    entropy  seizure_vote  lpd_vote  gpd_vote  lrda_vote  grda_vote  \\\n",
                            "0  3.341757      0.000000  0.000000  0.250000   0.000000   0.166667   \n",
                            "1  3.550549      0.000000  0.857143  0.000000   0.071429   0.000000   \n",
                            "2  3.565051      0.076923  0.000000  0.000000   0.000000   0.076923   \n",
                            "3  1.431066      0.000000  0.000000  0.133333   0.066667   0.133333   \n",
                            "4  1.516203      0.000000  0.000000  0.083333   0.083333   0.333333   \n",
                            "\n",
                            "   other_vote  \n",
                            "0    0.583333  \n",
                            "1    0.071429  \n",
                            "2    0.846154  \n",
                            "3    0.666667  \n",
                            "4    0.500000  "
                        ]
                    },
                    "metadata": {},
                    "output_type": "display_data"
                }
            ],
            "source": [
                "train_easy, train_hard, all_specs, all_eegs = hms_predictor.load_train_data()\n",
                "\n",
                "print(train_easy.shape)\n",
                "print(train_hard.shape)\n",
                "\n",
                "# check if contain NaN\n",
                "print(train_easy.isnull().sum().sum())\n",
                "print(train_hard.isnull().sum().sum())\n",
                "\n",
                "display(train_easy.head())\n",
                "print(\" \")\n",
                "display(train_hard.head())"
            ]
        },
        {
            "cell_type": "code",
            "execution_count": 4,
            "metadata": {},
            "outputs": [
                {
                    "name": "stderr",
                    "output_type": "stream",
                    "text": [
                        "====================================================================================================\n",
                        "Fold: 0 || Valid size 3596 \n",
                        "====================================================================================================\n",
                        "- First Stage \n"
                    ]
                },
                {
                    "data": {
                        "application/vnd.jupyter.widget-view+json": {
                            "model_id": "98d8a0e3001c4704b182652451b32041",
                            "version_major": 2,
                            "version_minor": 0
                        },
                        "text/plain": [
                            "Train:   0%|          | 0/622 [00:00<?, ?batch/s]"
                        ]
                    },
                    "metadata": {},
                    "output_type": "display_data"
                },
                {
                    "name": "stdout",
                    "output_type": "stream",
                    "text": [
                        "Epoch: [1][0/622]Elapsed 1.08s | Loss: 0.8221 Grad: 67759.5938 LR: 4.0000e-06\n",
                        "Epoch: [1][50/622]Elapsed 8.19s | Loss: 0.8347 Grad: 85776.9141 LR: 5.0647e-06\n",
                        "Epoch: [1][100/622]Elapsed 15.28s | Loss: 0.8282 Grad: 70398.4844 LR: 8.2116e-06\n",
                        "Epoch: [1][150/622]Elapsed 22.38s | Loss: 0.8234 Grad: 75172.6094 LR: 1.3301e-05\n",
                        "Epoch: [1][200/622]Elapsed 29.50s | Loss: 0.8154 Grad: 72303.0234 LR: 2.0107e-05\n",
                        "Epoch: [1][250/622]Elapsed 36.63s | Loss: 0.8048 Grad: 70600.3047 LR: 2.8328e-05\n",
                        "Epoch: [1][300/622]Elapsed 43.78s | Loss: 0.7915 Grad: 77726.5234 LR: 3.7599e-05\n",
                        "Epoch: [1][350/622]Elapsed 50.93s | Loss: 0.7748 Grad: 114699.8047 LR: 4.7509e-05\n",
                        "Epoch: [1][400/622]Elapsed 58.08s | Loss: 0.7554 Grad: 57983.6250 LR: 5.7619e-05\n",
                        "Epoch: [1][450/622]Elapsed 65.26s | Loss: 0.7347 Grad: 74722.4062 LR: 6.7479e-05\n",
                        "Epoch: [1][500/622]Elapsed 72.46s | Loss: 0.7165 Grad: 70013.5781 LR: 7.6652e-05\n",
                        "Epoch: [1][550/622]Elapsed 79.70s | Loss: 0.7009 Grad: 70525.8594 LR: 8.4732e-05\n",
                        "Epoch: [1][600/622]Elapsed 86.92s | Loss: 0.6826 Grad: 49392.5234 LR: 9.1359e-05\n",
                        "Epoch: [1][621/622]Elapsed 90.04s | Loss: 0.6764 Grad: 111639.1016 LR: 9.3737e-05\n"
                    ]
                },
                {
                    "data": {
                        "application/vnd.jupyter.widget-view+json": {
                            "model_id": "222f2a990f014e53a36d59aa794f0557",
                            "version_major": 2,
                            "version_minor": 0
                        },
                        "text/plain": [
                            "Valid:   0%|          | 0/225 [00:00<?, ?batch/s]"
                        ]
                    },
                    "metadata": {},
                    "output_type": "display_data"
                },
                {
                    "name": "stdout",
                    "output_type": "stream",
                    "text": [
                        "Epoch: [1][0/225]Elapsed 0.10s | Loss: 0.3753\n",
                        "Epoch: [1][50/225]Elapsed 4.91s | Loss: 0.5451\n",
                        "Epoch: [1][100/225]Elapsed 9.74s | Loss: 0.5455\n",
                        "Epoch: [1][150/225]Elapsed 14.56s | Loss: 0.5408\n",
                        "Epoch: [1][200/225]Elapsed 19.40s | Loss: 0.4920\n"
                    ]
                },
                {
                    "name": "stderr",
                    "output_type": "stream",
                    "text": [
                        "----------------------------------------------------------------------------------------------------\n",
                        "Epoch 1 - Average Train Loss: 0.6764 | Average Valid Loss: 0.4747 | Time: 111.93s\n",
                        "Best model found in epoch 1 | valid loss: 0.4747\n"
                    ]
                },
                {
                    "data": {
                        "application/vnd.jupyter.widget-view+json": {
                            "model_id": "11939cc5ff304d95b54b3feab6308c4a",
                            "version_major": 2,
                            "version_minor": 0
                        },
                        "text/plain": [
                            "Train:   0%|          | 0/622 [00:00<?, ?batch/s]"
                        ]
                    },
                    "metadata": {},
                    "output_type": "display_data"
                },
                {
                    "name": "stdout",
                    "output_type": "stream",
                    "text": [
                        "Epoch: [2][0/622]Elapsed 0.12s | Loss: 0.3876 Grad: 134640.5469 LR: 9.3737e-05\n",
                        "Epoch: [2][50/622]Elapsed 7.41s | Loss: 0.4541 Grad: 57929.2383 LR: 9.7777e-05\n",
                        "Epoch: [2][100/622]Elapsed 14.70s | Loss: 0.4441 Grad: 86795.0234 LR: 9.9786e-05\n",
                        "Epoch: [2][150/622]Elapsed 22.03s | Loss: 0.4428 Grad: 93855.8281 LR: 9.9996e-05\n",
                        "Epoch: [2][200/622]Elapsed 29.35s | Loss: 0.4411 Grad: 74381.1875 LR: 9.9967e-05\n",
                        "Epoch: [2][250/622]Elapsed 36.65s | Loss: 0.4344 Grad: 64519.0156 LR: 9.9911e-05\n",
                        "Epoch: [2][300/622]Elapsed 43.98s | Loss: 0.4297 Grad: 116668.5547 LR: 9.9828e-05\n",
                        "Epoch: [2][350/622]Elapsed 51.31s | Loss: 0.4269 Grad: 89636.9922 LR: 9.9717e-05\n",
                        "Epoch: [2][400/622]Elapsed 58.64s | Loss: 0.4205 Grad: 45553.0898 LR: 9.9579e-05\n",
                        "Epoch: [2][450/622]Elapsed 65.95s | Loss: 0.4141 Grad: 40900.9805 LR: 9.9415e-05\n",
                        "Epoch: [2][500/622]Elapsed 73.27s | Loss: 0.4110 Grad: 26506.7910 LR: 9.9223e-05\n",
                        "Epoch: [2][550/622]Elapsed 80.61s | Loss: 0.4103 Grad: 47036.3477 LR: 9.9004e-05\n",
                        "Epoch: [2][600/622]Elapsed 87.97s | Loss: 0.4066 Grad: 24021.1797 LR: 9.8758e-05\n",
                        "Epoch: [2][621/622]Elapsed 91.13s | Loss: 0.4053 Grad: 49041.7656 LR: 9.8642e-05\n"
                    ]
                },
                {
                    "data": {
                        "application/vnd.jupyter.widget-view+json": {
                            "model_id": "9457591b72044ece9cfcc147e0b41bb0",
                            "version_major": 2,
                            "version_minor": 0
                        },
                        "text/plain": [
                            "Valid:   0%|          | 0/225 [00:00<?, ?batch/s]"
                        ]
                    },
                    "metadata": {},
                    "output_type": "display_data"
                },
                {
                    "name": "stdout",
                    "output_type": "stream",
                    "text": [
                        "Epoch: [2][0/225]Elapsed 0.11s | Loss: 0.3628\n",
                        "Epoch: [2][50/225]Elapsed 4.94s | Loss: 0.4572\n",
                        "Epoch: [2][100/225]Elapsed 9.77s | Loss: 0.4590\n",
                        "Epoch: [2][150/225]Elapsed 14.59s | Loss: 0.4600\n",
                        "Epoch: [2][200/225]Elapsed 19.42s | Loss: 0.4258\n"
                    ]
                },
                {
                    "name": "stderr",
                    "output_type": "stream",
                    "text": [
                        "----------------------------------------------------------------------------------------------------\n",
                        "Epoch 2 - Average Train Loss: 0.4053 | Average Valid Loss: 0.4160 | Time: 113.03s\n",
                        "Best model found in epoch 2 | valid loss: 0.4160\n"
                    ]
                },
                {
                    "data": {
                        "application/vnd.jupyter.widget-view+json": {
                            "model_id": "880203b9f5c3427f9a671023cafaf9d5",
                            "version_major": 2,
                            "version_minor": 0
                        },
                        "text/plain": [
                            "Train:   0%|          | 0/622 [00:00<?, ?batch/s]"
                        ]
                    },
                    "metadata": {},
                    "output_type": "display_data"
                },
                {
                    "name": "stdout",
                    "output_type": "stream",
                    "text": [
                        "Epoch: [3][0/622]Elapsed 0.10s | Loss: 0.3368 Grad: 122108.3594 LR: 9.8642e-05\n",
                        "Epoch: [3][50/622]Elapsed 7.45s | Loss: 0.3356 Grad: 46974.6406 LR: 9.8358e-05\n",
                        "Epoch: [3][100/622]Elapsed 14.88s | Loss: 0.3327 Grad: 110191.8047 LR: 9.8048e-05\n",
                        "Epoch: [3][150/622]Elapsed 22.32s | Loss: 0.3392 Grad: 41000.6602 LR: 9.7711e-05\n",
                        "Epoch: [3][200/622]Elapsed 29.73s | Loss: 0.3411 Grad: 30088.9941 LR: 9.7349e-05\n",
                        "Epoch: [3][250/622]Elapsed 37.14s | Loss: 0.3402 Grad: 25114.0234 LR: 9.6960e-05\n",
                        "Epoch: [3][300/622]Elapsed 44.53s | Loss: 0.3378 Grad: 27425.8555 LR: 9.6546e-05\n",
                        "Epoch: [3][350/622]Elapsed 51.91s | Loss: 0.3406 Grad: 44168.6875 LR: 9.6106e-05\n",
                        "Epoch: [3][400/622]Elapsed 59.27s | Loss: 0.3352 Grad: 21572.1660 LR: 9.5642e-05\n",
                        "Epoch: [3][450/622]Elapsed 66.64s | Loss: 0.3317 Grad: 29025.2539 LR: 9.5152e-05\n",
                        "Epoch: [3][500/622]Elapsed 73.99s | Loss: 0.3301 Grad: 28332.9512 LR: 9.4638e-05\n",
                        "Epoch: [3][550/622]Elapsed 81.36s | Loss: 0.3310 Grad: 35894.1875 LR: 9.4099e-05\n",
                        "Epoch: [3][600/622]Elapsed 88.72s | Loss: 0.3294 Grad: 23388.0234 LR: 9.3536e-05\n",
                        "Epoch: [3][621/622]Elapsed 91.89s | Loss: 0.3292 Grad: 37213.7422 LR: 9.3281e-05\n"
                    ]
                },
                {
                    "data": {
                        "application/vnd.jupyter.widget-view+json": {
                            "model_id": "8326b3b628b64cebab5572cfd30c64ce",
                            "version_major": 2,
                            "version_minor": 0
                        },
                        "text/plain": [
                            "Valid:   0%|          | 0/225 [00:00<?, ?batch/s]"
                        ]
                    },
                    "metadata": {},
                    "output_type": "display_data"
                },
                {
                    "name": "stdout",
                    "output_type": "stream",
                    "text": [
                        "Epoch: [3][0/225]Elapsed 0.10s | Loss: 0.3446\n",
                        "Epoch: [3][50/225]Elapsed 4.94s | Loss: 0.4414\n",
                        "Epoch: [3][100/225]Elapsed 9.76s | Loss: 0.4439\n",
                        "Epoch: [3][150/225]Elapsed 14.57s | Loss: 0.4451\n",
                        "Epoch: [3][200/225]Elapsed 19.40s | Loss: 0.4289\n"
                    ]
                },
                {
                    "name": "stderr",
                    "output_type": "stream",
                    "text": [
                        "----------------------------------------------------------------------------------------------------\n",
                        "Epoch 3 - Average Train Loss: 0.3292 | Average Valid Loss: 0.4234 | Time: 113.78s\n"
                    ]
                },
                {
                    "data": {
                        "application/vnd.jupyter.widget-view+json": {
                            "model_id": "990fad647d2b482dabf283b65307513c",
                            "version_major": 2,
                            "version_minor": 0
                        },
                        "text/plain": [
                            "Train:   0%|          | 0/622 [00:00<?, ?batch/s]"
                        ]
                    },
                    "metadata": {},
                    "output_type": "display_data"
                },
                {
                    "name": "stdout",
                    "output_type": "stream",
                    "text": [
                        "Epoch: [4][0/622]Elapsed 0.10s | Loss: 0.2395 Grad: 127062.9531 LR: 9.3281e-05\n",
                        "Epoch: [4][50/622]Elapsed 7.42s | Loss: 0.2924 Grad: 54743.0156 LR: 9.2683e-05\n",
                        "Epoch: [4][100/622]Elapsed 14.81s | Loss: 0.2875 Grad: 82322.2344 LR: 9.2063e-05\n",
                        "Epoch: [4][150/622]Elapsed 22.21s | Loss: 0.2924 Grad: 107097.0859 LR: 9.1420e-05\n",
                        "Epoch: [4][200/622]Elapsed 29.62s | Loss: 0.2942 Grad: 65296.2422 LR: 9.0754e-05\n",
                        "Epoch: [4][250/622]Elapsed 37.03s | Loss: 0.2927 Grad: 38420.3477 LR: 9.0065e-05\n",
                        "Epoch: [4][300/622]Elapsed 44.42s | Loss: 0.2926 Grad: 56653.7969 LR: 8.9355e-05\n",
                        "Epoch: [4][350/622]Elapsed 51.79s | Loss: 0.2939 Grad: 89634.9141 LR: 8.8624e-05\n",
                        "Epoch: [4][400/622]Elapsed 59.15s | Loss: 0.2891 Grad: 36383.5938 LR: 8.7871e-05\n",
                        "Epoch: [4][450/622]Elapsed 66.50s | Loss: 0.2849 Grad: 43564.6875 LR: 8.7097e-05\n",
                        "Epoch: [4][500/622]Elapsed 73.85s | Loss: 0.2839 Grad: 35692.6367 LR: 8.6303e-05\n",
                        "Epoch: [4][550/622]Elapsed 81.20s | Loss: 0.2857 Grad: 33745.6836 LR: 8.5490e-05\n",
                        "Epoch: [4][600/622]Elapsed 88.54s | Loss: 0.2838 Grad: 22386.9512 LR: 8.4657e-05\n",
                        "Epoch: [4][621/622]Elapsed 91.69s | Loss: 0.2834 Grad: 60338.5352 LR: 8.4284e-05\n"
                    ]
                },
                {
                    "data": {
                        "application/vnd.jupyter.widget-view+json": {
                            "model_id": "759d69c632b94f65a1282c286ff16054",
                            "version_major": 2,
                            "version_minor": 0
                        },
                        "text/plain": [
                            "Valid:   0%|          | 0/225 [00:00<?, ?batch/s]"
                        ]
                    },
                    "metadata": {},
                    "output_type": "display_data"
                },
                {
                    "name": "stdout",
                    "output_type": "stream",
                    "text": [
                        "Epoch: [4][0/225]Elapsed 0.10s | Loss: 0.3483\n",
                        "Epoch: [4][50/225]Elapsed 5.06s | Loss: 0.4455\n",
                        "Epoch: [4][100/225]Elapsed 9.88s | Loss: 0.4492\n",
                        "Epoch: [4][150/225]Elapsed 14.70s | Loss: 0.4487\n",
                        "Epoch: [4][200/225]Elapsed 19.51s | Loss: 0.4356\n"
                    ]
                },
                {
                    "name": "stderr",
                    "output_type": "stream",
                    "text": [
                        "----------------------------------------------------------------------------------------------------\n",
                        "Epoch 4 - Average Train Loss: 0.2834 | Average Valid Loss: 0.4300 | Time: 113.68s\n"
                    ]
                },
                {
                    "data": {
                        "application/vnd.jupyter.widget-view+json": {
                            "model_id": "db89720998624f67958f578cda5e9b25",
                            "version_major": 2,
                            "version_minor": 0
                        },
                        "text/plain": [
                            "Train:   0%|          | 0/622 [00:00<?, ?batch/s]"
                        ]
                    },
                    "metadata": {},
                    "output_type": "display_data"
                },
                {
                    "name": "stdout",
                    "output_type": "stream",
                    "text": [
                        "Epoch: [5][0/622]Elapsed 0.12s | Loss: 0.2845 Grad: 157769.3438 LR: 8.4284e-05\n",
                        "Epoch: [5][50/622]Elapsed 7.42s | Loss: 0.2562 Grad: 26149.1016 LR: 8.3424e-05\n",
                        "Epoch: [5][100/622]Elapsed 14.81s | Loss: 0.2504 Grad: 41737.1328 LR: 8.2546e-05\n",
                        "Epoch: [5][150/622]Elapsed 22.22s | Loss: 0.2587 Grad: 37339.7031 LR: 8.1650e-05\n",
                        "Epoch: [5][200/622]Elapsed 29.60s | Loss: 0.2616 Grad: 23621.0723 LR: 8.0736e-05\n",
                        "Epoch: [5][250/622]Elapsed 37.00s | Loss: 0.2597 Grad: 24032.1152 LR: 7.9806e-05\n",
                        "Epoch: [5][300/622]Elapsed 44.39s | Loss: 0.2578 Grad: 26139.4629 LR: 7.8859e-05\n",
                        "Epoch: [5][350/622]Elapsed 51.78s | Loss: 0.2581 Grad: 34564.6289 LR: 7.7897e-05\n",
                        "Epoch: [5][400/622]Elapsed 59.18s | Loss: 0.2548 Grad: 49651.1758 LR: 7.6920e-05\n",
                        "Epoch: [5][450/622]Elapsed 66.57s | Loss: 0.2531 Grad: 44647.3125 LR: 7.5927e-05\n",
                        "Epoch: [5][500/622]Elapsed 73.97s | Loss: 0.2530 Grad: 33632.9883 LR: 7.4921e-05\n",
                        "Epoch: [5][550/622]Elapsed 81.36s | Loss: 0.2539 Grad: 42921.1367 LR: 7.3901e-05\n",
                        "Epoch: [5][600/622]Elapsed 88.74s | Loss: 0.2519 Grad: 22673.1035 LR: 7.2868e-05\n",
                        "Epoch: [5][621/622]Elapsed 91.91s | Loss: 0.2519 Grad: 55076.5703 LR: 7.2409e-05\n"
                    ]
                },
                {
                    "data": {
                        "application/vnd.jupyter.widget-view+json": {
                            "model_id": "a8818314e5384bb187b373af522529fb",
                            "version_major": 2,
                            "version_minor": 0
                        },
                        "text/plain": [
                            "Valid:   0%|          | 0/225 [00:00<?, ?batch/s]"
                        ]
                    },
                    "metadata": {},
                    "output_type": "display_data"
                },
                {
                    "name": "stdout",
                    "output_type": "stream",
                    "text": [
                        "Epoch: [5][0/225]Elapsed 0.10s | Loss: 0.3211\n",
                        "Epoch: [5][50/225]Elapsed 4.92s | Loss: 0.4469\n",
                        "Epoch: [5][100/225]Elapsed 9.74s | Loss: 0.4492\n",
                        "Epoch: [5][150/225]Elapsed 14.54s | Loss: 0.4502\n",
                        "Epoch: [5][200/225]Elapsed 19.37s | Loss: 0.4392\n"
                    ]
                },
                {
                    "name": "stderr",
                    "output_type": "stream",
                    "text": [
                        "----------------------------------------------------------------------------------------------------\n",
                        "Epoch 5 - Average Train Loss: 0.2519 | Average Valid Loss: 0.4339 | Time: 113.78s\n"
                    ]
                },
                {
                    "data": {
                        "application/vnd.jupyter.widget-view+json": {
                            "model_id": "a468823c56364505b6cda1256dff2f98",
                            "version_major": 2,
                            "version_minor": 0
                        },
                        "text/plain": [
                            "Train:   0%|          | 0/622 [00:00<?, ?batch/s]"
                        ]
                    },
                    "metadata": {},
                    "output_type": "display_data"
                },
                {
                    "name": "stdout",
                    "output_type": "stream",
                    "text": [
                        "Epoch: [6][0/622]Elapsed 0.10s | Loss: 0.2589 Grad: 207724.1719 LR: 7.2409e-05\n",
                        "Epoch: [6][50/622]Elapsed 7.46s | Loss: 0.2311 Grad: 55201.3047 LR: 7.1358e-05\n",
                        "Epoch: [6][100/622]Elapsed 14.93s | Loss: 0.2254 Grad: 71398.8203 LR: 7.0296e-05\n",
                        "Epoch: [6][150/622]Elapsed 22.38s | Loss: 0.2302 Grad: 35944.9766 LR: 6.9222e-05\n",
                        "Epoch: [6][200/622]Elapsed 29.81s | Loss: 0.2326 Grad: 45300.2383 LR: 6.8138e-05\n",
                        "Epoch: [6][250/622]Elapsed 37.24s | Loss: 0.2321 Grad: 31103.1289 LR: 6.7044e-05\n",
                        "Epoch: [6][300/622]Elapsed 44.65s | Loss: 0.2302 Grad: 37393.8633 LR: 6.5940e-05\n",
                        "Epoch: [6][350/622]Elapsed 52.06s | Loss: 0.2294 Grad: 54497.0430 LR: 6.4828e-05\n",
                        "Epoch: [6][400/622]Elapsed 59.47s | Loss: 0.2252 Grad: 29435.9180 LR: 6.3708e-05\n",
                        "Epoch: [6][450/622]Elapsed 66.92s | Loss: 0.2234 Grad: 28272.6660 LR: 6.2581e-05\n",
                        "Epoch: [6][500/622]Elapsed 74.31s | Loss: 0.2224 Grad: 17294.7363 LR: 6.1446e-05\n",
                        "Epoch: [6][550/622]Elapsed 81.72s | Loss: 0.2224 Grad: 34787.5039 LR: 6.0305e-05\n",
                        "Epoch: [6][600/622]Elapsed 89.11s | Loss: 0.2210 Grad: 27394.2129 LR: 5.9159e-05\n",
                        "Epoch: [6][621/622]Elapsed 92.29s | Loss: 0.2213 Grad: 61445.6836 LR: 5.8653e-05\n"
                    ]
                },
                {
                    "data": {
                        "application/vnd.jupyter.widget-view+json": {
                            "model_id": "4eb1604ffddd455bb57506bd3ad4ffbe",
                            "version_major": 2,
                            "version_minor": 0
                        },
                        "text/plain": [
                            "Valid:   0%|          | 0/225 [00:00<?, ?batch/s]"
                        ]
                    },
                    "metadata": {},
                    "output_type": "display_data"
                },
                {
                    "name": "stdout",
                    "output_type": "stream",
                    "text": [
                        "Epoch: [6][0/225]Elapsed 0.11s | Loss: 0.3583\n",
                        "Epoch: [6][50/225]Elapsed 4.94s | Loss: 0.4570\n",
                        "Epoch: [6][100/225]Elapsed 9.76s | Loss: 0.4636\n",
                        "Epoch: [6][150/225]Elapsed 14.58s | Loss: 0.4613\n",
                        "Epoch: [6][200/225]Elapsed 19.43s | Loss: 0.4561\n"
                    ]
                },
                {
                    "name": "stderr",
                    "output_type": "stream",
                    "text": [
                        "----------------------------------------------------------------------------------------------------\n",
                        "Epoch 6 - Average Train Loss: 0.2213 | Average Valid Loss: 0.4523 | Time: 114.20s\n",
                        "====================================================================================================\n",
                        "Fold 0 Valid Loss: (Easy) 0.8624 | (Hard) 0.5922\n",
                        "Elapse: 11.36 min \n",
                        "====================================================================================================\n",
                        "- Second Stage \n",
                        "Use Checkpoint: ENet_b2_xymasking_regularized_fold_0_stage_1.pth\n"
                    ]
                },
                {
                    "data": {
                        "application/vnd.jupyter.widget-view+json": {
                            "model_id": "110ea64939354340945ecc8e64fc1033",
                            "version_major": 2,
                            "version_minor": 0
                        },
                        "text/plain": [
                            "Train:   0%|          | 0/276 [00:00<?, ?batch/s]"
                        ]
                    },
                    "metadata": {},
                    "output_type": "display_data"
                },
                {
                    "name": "stdout",
                    "output_type": "stream",
                    "text": [
                        "Epoch: [1][0/276]Elapsed 0.10s | Loss: 0.5161 Grad: inf LR: 4.0000e-06\n"
                    ]
                },
                {
                    "name": "stderr",
                    "output_type": "stream",
                    "text": [
                        "/home/shiyi/miniconda3/envs/kaggle/lib/python3.11/site-packages/torch/optim/lr_scheduler.py:143: UserWarning: Detected call of `lr_scheduler.step()` before `optimizer.step()`. In PyTorch 1.1.0 and later, you should call them in the opposite order: `optimizer.step()` before `lr_scheduler.step()`.  Failure to do this will result in PyTorch skipping the first value of the learning rate schedule. See more details at https://pytorch.org/docs/stable/optim.html#how-to-adjust-learning-rate\n",
                        "  warnings.warn(\"Detected call of `lr_scheduler.step()` before `optimizer.step()`. \"\n"
                    ]
                },
                {
                    "name": "stdout",
                    "output_type": "stream",
                    "text": [
                        "Epoch: [1][50/276]Elapsed 7.46s | Loss: 0.4027 Grad: 82342.7500 LR: 9.3614e-06\n",
                        "Epoch: [1][100/276]Elapsed 14.95s | Loss: 0.3818 Grad: 61007.3711 LR: 2.4248e-05\n",
                        "Epoch: [1][150/276]Elapsed 22.41s | Loss: 0.3596 Grad: 36772.1484 LR: 4.5334e-05\n",
                        "Epoch: [1][200/276]Elapsed 29.85s | Loss: 0.3371 Grad: 28614.8027 LR: 6.7909e-05\n",
                        "Epoch: [1][250/276]Elapsed 37.31s | Loss: 0.3191 Grad: 23968.0957 LR: 8.6930e-05\n",
                        "Epoch: [1][275/276]Elapsed 41.09s | Loss: 0.3123 Grad: 34309.7969 LR: 9.3946e-05\n"
                    ]
                },
                {
                    "data": {
                        "application/vnd.jupyter.widget-view+json": {
                            "model_id": "443366b9d5d844d2b8e5f700f9fa340f",
                            "version_major": 2,
                            "version_minor": 0
                        },
                        "text/plain": [
                            "Valid:   0%|          | 0/225 [00:00<?, ?batch/s]"
                        ]
                    },
                    "metadata": {},
                    "output_type": "display_data"
                },
                {
                    "name": "stdout",
                    "output_type": "stream",
                    "text": [
                        "Epoch: [1][0/225]Elapsed 0.11s | Loss: 0.4352\n",
                        "Epoch: [1][50/225]Elapsed 4.94s | Loss: 0.4681\n",
                        "Epoch: [1][100/225]Elapsed 9.76s | Loss: 0.4729\n",
                        "Epoch: [1][150/225]Elapsed 14.58s | Loss: 0.4675\n",
                        "Epoch: [1][200/225]Elapsed 19.41s | Loss: 0.4176\n"
                    ]
                },
                {
                    "name": "stderr",
                    "output_type": "stream",
                    "text": [
                        "----------------------------------------------------------------------------------------------------\n",
                        "Epoch 1 - Average Train Loss: 0.3123 | Average Valid Loss: 0.3989 | Time: 62.99s\n",
                        "Best model found in epoch 1 | valid loss: 0.3989\n"
                    ]
                },
                {
                    "data": {
                        "application/vnd.jupyter.widget-view+json": {
                            "model_id": "970da493aaaf4048a1b6f5b3e78cd83c",
                            "version_major": 2,
                            "version_minor": 0
                        },
                        "text/plain": [
                            "Train:   0%|          | 0/276 [00:00<?, ?batch/s]"
                        ]
                    },
                    "metadata": {},
                    "output_type": "display_data"
                },
                {
                    "name": "stdout",
                    "output_type": "stream",
                    "text": [
                        "Epoch: [2][0/276]Elapsed 0.11s | Loss: 0.3027 Grad: 112014.0547 LR: 9.3946e-05\n",
                        "Epoch: [2][50/276]Elapsed 7.53s | Loss: 0.2416 Grad: 78912.8359 LR: 9.9978e-05\n",
                        "Epoch: [2][100/276]Elapsed 15.00s | Loss: 0.2316 Grad: 85281.5469 LR: 9.9939e-05\n",
                        "Epoch: [2][150/276]Elapsed 22.47s | Loss: 0.2299 Grad: 56059.5859 LR: 9.9740e-05\n",
                        "Epoch: [2][200/276]Elapsed 29.93s | Loss: 0.2277 Grad: 54994.7656 LR: 9.9403e-05\n",
                        "Epoch: [2][250/276]Elapsed 37.39s | Loss: 0.2244 Grad: 35820.3281 LR: 9.8929e-05\n",
                        "Epoch: [2][275/276]Elapsed 41.19s | Loss: 0.2231 Grad: 65394.6094 LR: 9.8628e-05\n"
                    ]
                },
                {
                    "data": {
                        "application/vnd.jupyter.widget-view+json": {
                            "model_id": "71ee56fdcaa54855834ce2041533b1e3",
                            "version_major": 2,
                            "version_minor": 0
                        },
                        "text/plain": [
                            "Valid:   0%|          | 0/225 [00:00<?, ?batch/s]"
                        ]
                    },
                    "metadata": {},
                    "output_type": "display_data"
                },
                {
                    "name": "stdout",
                    "output_type": "stream",
                    "text": [
                        "Epoch: [2][0/225]Elapsed 0.10s | Loss: 0.3722\n",
                        "Epoch: [2][50/225]Elapsed 4.93s | Loss: 0.4593\n",
                        "Epoch: [2][100/225]Elapsed 9.75s | Loss: 0.4602\n",
                        "Epoch: [2][150/225]Elapsed 14.57s | Loss: 0.4564\n",
                        "Epoch: [2][200/225]Elapsed 19.41s | Loss: 0.4044\n"
                    ]
                },
                {
                    "name": "stderr",
                    "output_type": "stream",
                    "text": [
                        "----------------------------------------------------------------------------------------------------\n",
                        "Epoch 2 - Average Train Loss: 0.2231 | Average Valid Loss: 0.3851 | Time: 63.09s\n",
                        "Best model found in epoch 2 | valid loss: 0.3851\n"
                    ]
                },
                {
                    "data": {
                        "application/vnd.jupyter.widget-view+json": {
                            "model_id": "d1a0c04fd26e4c38a26d568f0e5e2748",
                            "version_major": 2,
                            "version_minor": 0
                        },
                        "text/plain": [
                            "Train:   0%|          | 0/276 [00:00<?, ?batch/s]"
                        ]
                    },
                    "metadata": {},
                    "output_type": "display_data"
                },
                {
                    "name": "stdout",
                    "output_type": "stream",
                    "text": [
                        "Epoch: [3][0/276]Elapsed 0.10s | Loss: 0.2881 Grad: 137321.2031 LR: 9.8628e-05\n",
                        "Epoch: [3][50/276]Elapsed 7.52s | Loss: 0.2088 Grad: 79847.6562 LR: 9.7948e-05\n",
                        "Epoch: [3][100/276]Elapsed 14.98s | Loss: 0.2032 Grad: 111834.8516 LR: 9.7135e-05\n",
                        "Epoch: [3][150/276]Elapsed 22.46s | Loss: 0.2031 Grad: 47467.9180 LR: 9.6191e-05\n",
                        "Epoch: [3][200/276]Elapsed 29.89s | Loss: 0.2017 Grad: 28996.3086 LR: 9.5119e-05\n",
                        "Epoch: [3][250/276]Elapsed 37.35s | Loss: 0.1993 Grad: 33562.1016 LR: 9.3922e-05\n",
                        "Epoch: [3][275/276]Elapsed 41.12s | Loss: 0.1983 Grad: 71319.6484 LR: 9.3251e-05\n"
                    ]
                },
                {
                    "data": {
                        "application/vnd.jupyter.widget-view+json": {
                            "model_id": "e67aae1810c14edeacd825bb025819cc",
                            "version_major": 2,
                            "version_minor": 0
                        },
                        "text/plain": [
                            "Valid:   0%|          | 0/225 [00:00<?, ?batch/s]"
                        ]
                    },
                    "metadata": {},
                    "output_type": "display_data"
                },
                {
                    "name": "stdout",
                    "output_type": "stream",
                    "text": [
                        "Epoch: [3][0/225]Elapsed 0.10s | Loss: 0.3681\n",
                        "Epoch: [3][50/225]Elapsed 4.94s | Loss: 0.4474\n",
                        "Epoch: [3][100/225]Elapsed 9.77s | Loss: 0.4479\n",
                        "Epoch: [3][150/225]Elapsed 14.59s | Loss: 0.4442\n",
                        "Epoch: [3][200/225]Elapsed 19.42s | Loss: 0.3939\n"
                    ]
                },
                {
                    "name": "stderr",
                    "output_type": "stream",
                    "text": [
                        "----------------------------------------------------------------------------------------------------\n",
                        "Epoch 3 - Average Train Loss: 0.1983 | Average Valid Loss: 0.3749 | Time: 63.02s\n",
                        "Best model found in epoch 3 | valid loss: 0.3749\n"
                    ]
                },
                {
                    "data": {
                        "application/vnd.jupyter.widget-view+json": {
                            "model_id": "c51f66bc51dc47028c99c590ffe79b85",
                            "version_major": 2,
                            "version_minor": 0
                        },
                        "text/plain": [
                            "Train:   0%|          | 0/276 [00:00<?, ?batch/s]"
                        ]
                    },
                    "metadata": {},
                    "output_type": "display_data"
                },
                {
                    "name": "stdout",
                    "output_type": "stream",
                    "text": [
                        "Epoch: [4][0/276]Elapsed 0.10s | Loss: 0.1959 Grad: 104084.6797 LR: 9.3251e-05\n",
                        "Epoch: [4][50/276]Elapsed 7.49s | Loss: 0.1870 Grad: 111419.5078 LR: 9.1870e-05\n",
                        "Epoch: [4][100/276]Elapsed 14.95s | Loss: 0.1841 Grad: 110376.7578 LR: 9.0373e-05\n",
                        "Epoch: [4][150/276]Elapsed 22.42s | Loss: 0.1833 Grad: 98583.4453 LR: 8.8763e-05\n",
                        "Epoch: [4][200/276]Elapsed 29.85s | Loss: 0.1831 Grad: 48400.2656 LR: 8.7047e-05\n",
                        "Epoch: [4][250/276]Elapsed 37.28s | Loss: 0.1813 Grad: 65226.2812 LR: 8.5227e-05\n",
                        "Epoch: [4][275/276]Elapsed 41.06s | Loss: 0.1808 Grad: 108772.2812 LR: 8.4242e-05\n"
                    ]
                },
                {
                    "data": {
                        "application/vnd.jupyter.widget-view+json": {
                            "model_id": "966b5b8dcce445aabe2af2c1b9e09bf1",
                            "version_major": 2,
                            "version_minor": 0
                        },
                        "text/plain": [
                            "Valid:   0%|          | 0/225 [00:00<?, ?batch/s]"
                        ]
                    },
                    "metadata": {},
                    "output_type": "display_data"
                },
                {
                    "name": "stdout",
                    "output_type": "stream",
                    "text": [
                        "Epoch: [4][0/225]Elapsed 0.10s | Loss: 0.3602\n",
                        "Epoch: [4][50/225]Elapsed 4.92s | Loss: 0.4433\n",
                        "Epoch: [4][100/225]Elapsed 9.75s | Loss: 0.4431\n",
                        "Epoch: [4][150/225]Elapsed 14.57s | Loss: 0.4395\n",
                        "Epoch: [4][200/225]Elapsed 19.42s | Loss: 0.3896\n"
                    ]
                },
                {
                    "name": "stderr",
                    "output_type": "stream",
                    "text": [
                        "----------------------------------------------------------------------------------------------------\n",
                        "Epoch 4 - Average Train Loss: 0.1808 | Average Valid Loss: 0.3707 | Time: 62.99s\n",
                        "Best model found in epoch 4 | valid loss: 0.3707\n"
                    ]
                },
                {
                    "data": {
                        "application/vnd.jupyter.widget-view+json": {
                            "model_id": "b6519592b8b346f388052466a984779b",
                            "version_major": 2,
                            "version_minor": 0
                        },
                        "text/plain": [
                            "Train:   0%|          | 0/276 [00:00<?, ?batch/s]"
                        ]
                    },
                    "metadata": {},
                    "output_type": "display_data"
                },
                {
                    "name": "stdout",
                    "output_type": "stream",
                    "text": [
                        "Epoch: [5][0/276]Elapsed 0.10s | Loss: 0.1671 Grad: 73255.0938 LR: 8.4242e-05\n",
                        "Epoch: [5][50/276]Elapsed 7.47s | Loss: 0.1734 Grad: 91843.0469 LR: 8.2275e-05\n",
                        "Epoch: [5][100/276]Elapsed 14.95s | Loss: 0.1689 Grad: 83368.4219 LR: 8.0220e-05\n",
                        "Epoch: [5][150/276]Elapsed 22.40s | Loss: 0.1696 Grad: 68683.5938 LR: 7.8080e-05\n",
                        "Epoch: [5][200/276]Elapsed 29.86s | Loss: 0.1695 Grad: 55079.6836 LR: 7.5863e-05\n",
                        "Epoch: [5][250/276]Elapsed 37.29s | Loss: 0.1683 Grad: 64409.8398 LR: 7.3573e-05\n",
                        "Epoch: [5][275/276]Elapsed 41.07s | Loss: 0.1678 Grad: 110484.5078 LR: 7.2357e-05\n"
                    ]
                },
                {
                    "data": {
                        "application/vnd.jupyter.widget-view+json": {
                            "model_id": "1badb9ec1cf14306b25e993c3b8e2471",
                            "version_major": 2,
                            "version_minor": 0
                        },
                        "text/plain": [
                            "Valid:   0%|          | 0/225 [00:00<?, ?batch/s]"
                        ]
                    },
                    "metadata": {},
                    "output_type": "display_data"
                },
                {
                    "name": "stdout",
                    "output_type": "stream",
                    "text": [
                        "Epoch: [5][0/225]Elapsed 0.11s | Loss: 0.3750\n",
                        "Epoch: [5][50/225]Elapsed 4.93s | Loss: 0.4535\n",
                        "Epoch: [5][100/225]Elapsed 9.75s | Loss: 0.4511\n",
                        "Epoch: [5][150/225]Elapsed 14.56s | Loss: 0.4467\n",
                        "Epoch: [5][200/225]Elapsed 19.39s | Loss: 0.3964\n"
                    ]
                },
                {
                    "name": "stderr",
                    "output_type": "stream",
                    "text": [
                        "----------------------------------------------------------------------------------------------------\n",
                        "Epoch 5 - Average Train Loss: 0.1678 | Average Valid Loss: 0.3772 | Time: 62.95s\n"
                    ]
                },
                {
                    "data": {
                        "application/vnd.jupyter.widget-view+json": {
                            "model_id": "815d050448bd4f76a292bf832b19add3",
                            "version_major": 2,
                            "version_minor": 0
                        },
                        "text/plain": [
                            "Train:   0%|          | 0/276 [00:00<?, ?batch/s]"
                        ]
                    },
                    "metadata": {},
                    "output_type": "display_data"
                },
                {
                    "name": "stdout",
                    "output_type": "stream",
                    "text": [
                        "Epoch: [6][0/276]Elapsed 0.10s | Loss: 0.1575 Grad: 69541.6641 LR: 7.2357e-05\n",
                        "Epoch: [6][50/276]Elapsed 7.52s | Loss: 0.1597 Grad: 91453.9609 LR: 6.9971e-05\n",
                        "Epoch: [6][100/276]Elapsed 14.99s | Loss: 0.1590 Grad: 41748.3516 LR: 6.7529e-05\n",
                        "Epoch: [6][150/276]Elapsed 22.49s | Loss: 0.1592 Grad: 44972.4219 LR: 6.5039e-05\n",
                        "Epoch: [6][200/276]Elapsed 29.95s | Loss: 0.1591 Grad: 31805.9805 LR: 6.2507e-05\n",
                        "Epoch: [6][250/276]Elapsed 37.41s | Loss: 0.1569 Grad: 44812.0273 LR: 5.9941e-05\n",
                        "Epoch: [6][275/276]Elapsed 41.20s | Loss: 0.1565 Grad: 53095.1875 LR: 5.8595e-05\n"
                    ]
                },
                {
                    "data": {
                        "application/vnd.jupyter.widget-view+json": {
                            "model_id": "8ace68383c074211954ad0b6a433f24b",
                            "version_major": 2,
                            "version_minor": 0
                        },
                        "text/plain": [
                            "Valid:   0%|          | 0/225 [00:00<?, ?batch/s]"
                        ]
                    },
                    "metadata": {},
                    "output_type": "display_data"
                },
                {
                    "name": "stdout",
                    "output_type": "stream",
                    "text": [
                        "Epoch: [6][0/225]Elapsed 0.10s | Loss: 0.3457\n",
                        "Epoch: [6][50/225]Elapsed 4.94s | Loss: 0.4483\n",
                        "Epoch: [6][100/225]Elapsed 9.78s | Loss: 0.4460\n",
                        "Epoch: [6][150/225]Elapsed 14.61s | Loss: 0.4413\n",
                        "Epoch: [6][200/225]Elapsed 19.45s | Loss: 0.3915\n"
                    ]
                },
                {
                    "name": "stderr",
                    "output_type": "stream",
                    "text": [
                        "----------------------------------------------------------------------------------------------------\n",
                        "Epoch 6 - Average Train Loss: 0.1565 | Average Valid Loss: 0.3728 | Time: 63.15s\n",
                        "====================================================================================================\n",
                        "Fold 0 Valid Loss: (Easy) 0.8315 | (Hard) 0.3958\n",
                        "Elapse: 6.31 min \n",
                        "====================================================================================================\n",
                        "====================================================================================================\n",
                        "Fold: 1 || Valid size 3595 \n",
                        "====================================================================================================\n",
                        "- First Stage \n"
                    ]
                },
                {
                    "data": {
                        "application/vnd.jupyter.widget-view+json": {
                            "model_id": "41b819cff8fb4efd9e1ec4cb05abbed3",
                            "version_major": 2,
                            "version_minor": 0
                        },
                        "text/plain": [
                            "Train:   0%|          | 0/622 [00:00<?, ?batch/s]"
                        ]
                    },
                    "metadata": {},
                    "output_type": "display_data"
                },
                {
                    "name": "stdout",
                    "output_type": "stream",
                    "text": [
                        "Epoch: [1][0/622]Elapsed 0.11s | Loss: 0.8383 Grad: 79158.1094 LR: 4.0000e-06\n",
                        "Epoch: [1][50/622]Elapsed 7.45s | Loss: 0.8259 Grad: 52531.4102 LR: 5.0647e-06\n",
                        "Epoch: [1][100/622]Elapsed 14.90s | Loss: 0.8205 Grad: 75132.8984 LR: 8.2116e-06\n",
                        "Epoch: [1][150/622]Elapsed 22.34s | Loss: 0.8141 Grad: 91490.2188 LR: 1.3301e-05\n",
                        "Epoch: [1][200/622]Elapsed 29.80s | Loss: 0.8067 Grad: 83789.4688 LR: 2.0107e-05\n",
                        "Epoch: [1][250/622]Elapsed 37.25s | Loss: 0.7940 Grad: 38833.7344 LR: 2.8328e-05\n",
                        "Epoch: [1][300/622]Elapsed 44.69s | Loss: 0.7817 Grad: 42801.6445 LR: 3.7599e-05\n",
                        "Epoch: [1][350/622]Elapsed 52.13s | Loss: 0.7642 Grad: 53166.4062 LR: 4.7509e-05\n",
                        "Epoch: [1][400/622]Elapsed 59.57s | Loss: 0.7456 Grad: 90187.9297 LR: 5.7619e-05\n",
                        "Epoch: [1][450/622]Elapsed 66.97s | Loss: 0.7261 Grad: 50625.6367 LR: 6.7479e-05\n",
                        "Epoch: [1][500/622]Elapsed 74.36s | Loss: 0.7091 Grad: 44992.9023 LR: 7.6652e-05\n",
                        "Epoch: [1][550/622]Elapsed 81.78s | Loss: 0.6914 Grad: 79865.7969 LR: 8.4732e-05\n",
                        "Epoch: [1][600/622]Elapsed 89.19s | Loss: 0.6747 Grad: 48526.6211 LR: 9.1359e-05\n",
                        "Epoch: [1][621/622]Elapsed 92.36s | Loss: 0.6686 Grad: 126066.0625 LR: 9.3737e-05\n"
                    ]
                },
                {
                    "data": {
                        "application/vnd.jupyter.widget-view+json": {
                            "model_id": "6970461ae0154ad3b8232f7e7ee3595a",
                            "version_major": 2,
                            "version_minor": 0
                        },
                        "text/plain": [
                            "Valid:   0%|          | 0/225 [00:00<?, ?batch/s]"
                        ]
                    },
                    "metadata": {},
                    "output_type": "display_data"
                },
                {
                    "name": "stdout",
                    "output_type": "stream",
                    "text": [
                        "Epoch: [1][0/225]Elapsed 0.10s | Loss: 0.4972\n",
                        "Epoch: [1][50/225]Elapsed 4.93s | Loss: 0.5204\n",
                        "Epoch: [1][100/225]Elapsed 9.74s | Loss: 0.5437\n",
                        "Epoch: [1][150/225]Elapsed 14.56s | Loss: 0.5485\n",
                        "Epoch: [1][200/225]Elapsed 19.38s | Loss: 0.5030\n"
                    ]
                },
                {
                    "name": "stderr",
                    "output_type": "stream",
                    "text": [
                        "----------------------------------------------------------------------------------------------------\n",
                        "Epoch 1 - Average Train Loss: 0.6686 | Average Valid Loss: 0.4872 | Time: 114.23s\n",
                        "Best model found in epoch 1 | valid loss: 0.4872\n"
                    ]
                },
                {
                    "data": {
                        "application/vnd.jupyter.widget-view+json": {
                            "model_id": "0bbf20b427e74572a40aab566ae4d5f3",
                            "version_major": 2,
                            "version_minor": 0
                        },
                        "text/plain": [
                            "Train:   0%|          | 0/622 [00:00<?, ?batch/s]"
                        ]
                    },
                    "metadata": {},
                    "output_type": "display_data"
                },
                {
                    "name": "stdout",
                    "output_type": "stream",
                    "text": [
                        "Epoch: [2][0/622]Elapsed 0.11s | Loss: 0.4686 Grad: 202639.8125 LR: 9.3737e-05\n",
                        "Epoch: [2][50/622]Elapsed 7.47s | Loss: 0.4499 Grad: 79498.2188 LR: 9.7777e-05\n",
                        "Epoch: [2][100/622]Elapsed 14.94s | Loss: 0.4353 Grad: 55546.8164 LR: 9.9786e-05\n",
                        "Epoch: [2][150/622]Elapsed 22.40s | Loss: 0.4355 Grad: 56933.4414 LR: 9.9996e-05\n",
                        "Epoch: [2][200/622]Elapsed 29.81s | Loss: 0.4309 Grad: 74504.2891 LR: 9.9967e-05\n",
                        "Epoch: [2][250/622]Elapsed 37.19s | Loss: 0.4251 Grad: 74611.7656 LR: 9.9911e-05\n",
                        "Epoch: [2][300/622]Elapsed 44.58s | Loss: 0.4247 Grad: 100883.1484 LR: 9.9828e-05\n",
                        "Epoch: [2][350/622]Elapsed 51.98s | Loss: 0.4208 Grad: 60962.7188 LR: 9.9717e-05\n",
                        "Epoch: [2][400/622]Elapsed 59.37s | Loss: 0.4172 Grad: 72757.6562 LR: 9.9579e-05\n",
                        "Epoch: [2][450/622]Elapsed 66.76s | Loss: 0.4128 Grad: 52201.3477 LR: 9.9415e-05\n",
                        "Epoch: [2][500/622]Elapsed 74.13s | Loss: 0.4087 Grad: 113845.2422 LR: 9.9223e-05\n",
                        "Epoch: [2][550/622]Elapsed 81.50s | Loss: 0.4059 Grad: 33698.1133 LR: 9.9004e-05\n",
                        "Epoch: [2][600/622]Elapsed 88.88s | Loss: 0.4029 Grad: 72801.9766 LR: 9.8758e-05\n",
                        "Epoch: [2][621/622]Elapsed 92.04s | Loss: 0.4022 Grad: 119347.9297 LR: 9.8642e-05\n"
                    ]
                },
                {
                    "data": {
                        "application/vnd.jupyter.widget-view+json": {
                            "model_id": "d66708c4b7304a2780be9aef7f0d85fb",
                            "version_major": 2,
                            "version_minor": 0
                        },
                        "text/plain": [
                            "Valid:   0%|          | 0/225 [00:00<?, ?batch/s]"
                        ]
                    },
                    "metadata": {},
                    "output_type": "display_data"
                },
                {
                    "name": "stdout",
                    "output_type": "stream",
                    "text": [
                        "Epoch: [2][0/225]Elapsed 0.10s | Loss: 0.5055\n",
                        "Epoch: [2][50/225]Elapsed 4.94s | Loss: 0.4528\n",
                        "Epoch: [2][100/225]Elapsed 9.79s | Loss: 0.4676\n",
                        "Epoch: [2][150/225]Elapsed 14.60s | Loss: 0.4720\n",
                        "Epoch: [2][200/225]Elapsed 19.42s | Loss: 0.4459\n"
                    ]
                },
                {
                    "name": "stderr",
                    "output_type": "stream",
                    "text": [
                        "----------------------------------------------------------------------------------------------------\n",
                        "Epoch 2 - Average Train Loss: 0.4022 | Average Valid Loss: 0.4369 | Time: 113.94s\n",
                        "Best model found in epoch 2 | valid loss: 0.4369\n"
                    ]
                },
                {
                    "data": {
                        "application/vnd.jupyter.widget-view+json": {
                            "model_id": "ea13002a2f7f43449e2c7c986fd879c3",
                            "version_major": 2,
                            "version_minor": 0
                        },
                        "text/plain": [
                            "Train:   0%|          | 0/622 [00:00<?, ?batch/s]"
                        ]
                    },
                    "metadata": {},
                    "output_type": "display_data"
                },
                {
                    "name": "stdout",
                    "output_type": "stream",
                    "text": [
                        "Epoch: [3][0/622]Elapsed 0.10s | Loss: 0.4023 Grad: 112001.5469 LR: 9.8642e-05\n",
                        "Epoch: [3][50/622]Elapsed 7.44s | Loss: 0.3363 Grad: 59236.0352 LR: 9.8358e-05\n",
                        "Epoch: [3][100/622]Elapsed 14.88s | Loss: 0.3296 Grad: 39492.2305 LR: 9.8048e-05\n",
                        "Epoch: [3][150/622]Elapsed 22.32s | Loss: 0.3371 Grad: 83009.4766 LR: 9.7711e-05\n",
                        "Epoch: [3][200/622]Elapsed 29.76s | Loss: 0.3366 Grad: 104183.4922 LR: 9.7349e-05\n",
                        "Epoch: [3][250/622]Elapsed 37.22s | Loss: 0.3364 Grad: 93108.0391 LR: 9.6960e-05\n",
                        "Epoch: [3][300/622]Elapsed 44.64s | Loss: 0.3378 Grad: 43324.7266 LR: 9.6546e-05\n",
                        "Epoch: [3][350/622]Elapsed 52.07s | Loss: 0.3377 Grad: 17566.2656 LR: 9.6106e-05\n",
                        "Epoch: [3][400/622]Elapsed 59.47s | Loss: 0.3348 Grad: 56850.0547 LR: 9.5642e-05\n",
                        "Epoch: [3][450/622]Elapsed 66.86s | Loss: 0.3318 Grad: 46391.8984 LR: 9.5152e-05\n",
                        "Epoch: [3][500/622]Elapsed 74.24s | Loss: 0.3298 Grad: 66163.0859 LR: 9.4638e-05\n",
                        "Epoch: [3][550/622]Elapsed 81.66s | Loss: 0.3294 Grad: 21924.1250 LR: 9.4099e-05\n",
                        "Epoch: [3][600/622]Elapsed 89.03s | Loss: 0.3278 Grad: 31511.3633 LR: 9.3536e-05\n",
                        "Epoch: [3][621/622]Elapsed 92.20s | Loss: 0.3278 Grad: 69395.9844 LR: 9.3281e-05\n"
                    ]
                },
                {
                    "data": {
                        "application/vnd.jupyter.widget-view+json": {
                            "model_id": "ad377e0db0164f9984601d538b01c9f0",
                            "version_major": 2,
                            "version_minor": 0
                        },
                        "text/plain": [
                            "Valid:   0%|          | 0/225 [00:00<?, ?batch/s]"
                        ]
                    },
                    "metadata": {},
                    "output_type": "display_data"
                },
                {
                    "name": "stdout",
                    "output_type": "stream",
                    "text": [
                        "Epoch: [3][0/225]Elapsed 0.11s | Loss: 0.4903\n",
                        "Epoch: [3][50/225]Elapsed 4.93s | Loss: 0.4474\n",
                        "Epoch: [3][100/225]Elapsed 9.75s | Loss: 0.4559\n",
                        "Epoch: [3][150/225]Elapsed 14.58s | Loss: 0.4572\n",
                        "Epoch: [3][200/225]Elapsed 19.40s | Loss: 0.4375\n"
                    ]
                },
                {
                    "name": "stderr",
                    "output_type": "stream",
                    "text": [
                        "----------------------------------------------------------------------------------------------------\n",
                        "Epoch 3 - Average Train Loss: 0.3278 | Average Valid Loss: 0.4310 | Time: 114.08s\n",
                        "Best model found in epoch 3 | valid loss: 0.4310\n"
                    ]
                },
                {
                    "data": {
                        "application/vnd.jupyter.widget-view+json": {
                            "model_id": "671914b84334495eb082068c615a57dc",
                            "version_major": 2,
                            "version_minor": 0
                        },
                        "text/plain": [
                            "Train:   0%|          | 0/622 [00:00<?, ?batch/s]"
                        ]
                    },
                    "metadata": {},
                    "output_type": "display_data"
                },
                {
                    "name": "stdout",
                    "output_type": "stream",
                    "text": [
                        "Epoch: [4][0/622]Elapsed 0.10s | Loss: 0.3508 Grad: inf LR: 9.3281e-05\n",
                        "Epoch: [4][50/622]Elapsed 7.46s | Loss: 0.2873 Grad: 83328.3047 LR: 9.2683e-05\n",
                        "Epoch: [4][100/622]Elapsed 14.91s | Loss: 0.2890 Grad: 43193.2109 LR: 9.2063e-05\n",
                        "Epoch: [4][150/622]Elapsed 22.35s | Loss: 0.2969 Grad: 74651.0938 LR: 9.1420e-05\n",
                        "Epoch: [4][200/622]Elapsed 29.78s | Loss: 0.2953 Grad: 96063.3359 LR: 9.0754e-05\n",
                        "Epoch: [4][250/622]Elapsed 37.20s | Loss: 0.2935 Grad: 39696.0234 LR: 9.0065e-05\n",
                        "Epoch: [4][300/622]Elapsed 44.64s | Loss: 0.2946 Grad: 55424.0312 LR: 8.9355e-05\n",
                        "Epoch: [4][350/622]Elapsed 52.06s | Loss: 0.2939 Grad: 23965.0332 LR: 8.8624e-05\n",
                        "Epoch: [4][400/622]Elapsed 59.46s | Loss: 0.2914 Grad: 64090.7227 LR: 8.7871e-05\n",
                        "Epoch: [4][450/622]Elapsed 66.86s | Loss: 0.2894 Grad: 40600.9492 LR: 8.7097e-05\n",
                        "Epoch: [4][500/622]Elapsed 74.26s | Loss: 0.2883 Grad: 59428.5469 LR: 8.6303e-05\n",
                        "Epoch: [4][550/622]Elapsed 81.65s | Loss: 0.2872 Grad: 17141.1797 LR: 8.5490e-05\n",
                        "Epoch: [4][600/622]Elapsed 89.02s | Loss: 0.2850 Grad: 50392.3594 LR: 8.4657e-05\n",
                        "Epoch: [4][621/622]Elapsed 92.22s | Loss: 0.2849 Grad: 79825.2734 LR: 8.4284e-05\n"
                    ]
                },
                {
                    "data": {
                        "application/vnd.jupyter.widget-view+json": {
                            "model_id": "834083c997a7494fb3921a48b1416f1c",
                            "version_major": 2,
                            "version_minor": 0
                        },
                        "text/plain": [
                            "Valid:   0%|          | 0/225 [00:00<?, ?batch/s]"
                        ]
                    },
                    "metadata": {},
                    "output_type": "display_data"
                },
                {
                    "name": "stdout",
                    "output_type": "stream",
                    "text": [
                        "Epoch: [4][0/225]Elapsed 0.10s | Loss: 0.5709\n",
                        "Epoch: [4][50/225]Elapsed 4.95s | Loss: 0.4575\n",
                        "Epoch: [4][100/225]Elapsed 9.77s | Loss: 0.4648\n",
                        "Epoch: [4][150/225]Elapsed 14.59s | Loss: 0.4651\n",
                        "Epoch: [4][200/225]Elapsed 19.41s | Loss: 0.4407\n"
                    ]
                },
                {
                    "name": "stderr",
                    "output_type": "stream",
                    "text": [
                        "----------------------------------------------------------------------------------------------------\n",
                        "Epoch 4 - Average Train Loss: 0.2849 | Average Valid Loss: 0.4349 | Time: 114.11s\n"
                    ]
                },
                {
                    "data": {
                        "application/vnd.jupyter.widget-view+json": {
                            "model_id": "d70e419ced8c4f97a41c76242de1daf9",
                            "version_major": 2,
                            "version_minor": 0
                        },
                        "text/plain": [
                            "Train:   0%|          | 0/622 [00:00<?, ?batch/s]"
                        ]
                    },
                    "metadata": {},
                    "output_type": "display_data"
                },
                {
                    "name": "stdout",
                    "output_type": "stream",
                    "text": [
                        "Epoch: [5][0/622]Elapsed 0.10s | Loss: 0.4192 Grad: nan LR: 8.4284e-05\n",
                        "Epoch: [5][50/622]Elapsed 7.47s | Loss: 0.2582 Grad: 65800.6797 LR: 8.3424e-05\n",
                        "Epoch: [5][100/622]Elapsed 14.93s | Loss: 0.2594 Grad: 14772.6123 LR: 8.2546e-05\n",
                        "Epoch: [5][150/622]Elapsed 22.37s | Loss: 0.2628 Grad: 43556.4648 LR: 8.1650e-05\n",
                        "Epoch: [5][200/622]Elapsed 29.82s | Loss: 0.2616 Grad: 62910.5547 LR: 8.0736e-05\n",
                        "Epoch: [5][250/622]Elapsed 37.25s | Loss: 0.2595 Grad: 29560.4121 LR: 7.9806e-05\n",
                        "Epoch: [5][300/622]Elapsed 44.69s | Loss: 0.2594 Grad: 54934.1875 LR: 7.8859e-05\n",
                        "Epoch: [5][350/622]Elapsed 52.12s | Loss: 0.2602 Grad: 18609.8359 LR: 7.7897e-05\n",
                        "Epoch: [5][400/622]Elapsed 59.56s | Loss: 0.2587 Grad: 32712.0645 LR: 7.6920e-05\n",
                        "Epoch: [5][450/622]Elapsed 67.00s | Loss: 0.2574 Grad: 39968.8477 LR: 7.5927e-05\n",
                        "Epoch: [5][500/622]Elapsed 74.43s | Loss: 0.2559 Grad: 90518.7734 LR: 7.4921e-05\n",
                        "Epoch: [5][550/622]Elapsed 81.85s | Loss: 0.2555 Grad: 33688.4727 LR: 7.3901e-05\n",
                        "Epoch: [5][600/622]Elapsed 89.25s | Loss: 0.2536 Grad: 44891.1914 LR: 7.2868e-05\n",
                        "Epoch: [5][621/622]Elapsed 92.42s | Loss: 0.2532 Grad: 58802.1016 LR: 7.2409e-05\n"
                    ]
                },
                {
                    "data": {
                        "application/vnd.jupyter.widget-view+json": {
                            "model_id": "528657860a594fffa6e1d4f01eb452ec",
                            "version_major": 2,
                            "version_minor": 0
                        },
                        "text/plain": [
                            "Valid:   0%|          | 0/225 [00:00<?, ?batch/s]"
                        ]
                    },
                    "metadata": {},
                    "output_type": "display_data"
                },
                {
                    "name": "stdout",
                    "output_type": "stream",
                    "text": [
                        "Epoch: [5][0/225]Elapsed 0.10s | Loss: 0.5340\n",
                        "Epoch: [5][50/225]Elapsed 4.93s | Loss: 0.4493\n",
                        "Epoch: [5][100/225]Elapsed 9.76s | Loss: 0.4525\n",
                        "Epoch: [5][150/225]Elapsed 14.58s | Loss: 0.4525\n",
                        "Epoch: [5][200/225]Elapsed 19.42s | Loss: 0.4315\n"
                    ]
                },
                {
                    "name": "stderr",
                    "output_type": "stream",
                    "text": [
                        "----------------------------------------------------------------------------------------------------\n",
                        "Epoch 5 - Average Train Loss: 0.2532 | Average Valid Loss: 0.4262 | Time: 114.32s\n",
                        "Best model found in epoch 5 | valid loss: 0.4262\n"
                    ]
                },
                {
                    "data": {
                        "application/vnd.jupyter.widget-view+json": {
                            "model_id": "fcb841cbb79a4116b8ec327f803bf264",
                            "version_major": 2,
                            "version_minor": 0
                        },
                        "text/plain": [
                            "Train:   0%|          | 0/622 [00:00<?, ?batch/s]"
                        ]
                    },
                    "metadata": {},
                    "output_type": "display_data"
                },
                {
                    "name": "stdout",
                    "output_type": "stream",
                    "text": [
                        "Epoch: [6][0/622]Elapsed 0.10s | Loss: 0.3622 Grad: inf LR: 7.2409e-05\n",
                        "Epoch: [6][50/622]Elapsed 7.49s | Loss: 0.2340 Grad: 48858.1523 LR: 7.1358e-05\n",
                        "Epoch: [6][100/622]Elapsed 14.95s | Loss: 0.2282 Grad: 16625.6523 LR: 7.0296e-05\n",
                        "Epoch: [6][150/622]Elapsed 22.42s | Loss: 0.2315 Grad: 35127.7773 LR: 6.9222e-05\n",
                        "Epoch: [6][200/622]Elapsed 29.87s | Loss: 0.2307 Grad: 44569.7500 LR: 6.8138e-05\n",
                        "Epoch: [6][250/622]Elapsed 37.30s | Loss: 0.2294 Grad: 59300.6758 LR: 6.7044e-05\n",
                        "Epoch: [6][300/622]Elapsed 44.71s | Loss: 0.2284 Grad: 64844.1484 LR: 6.5940e-05\n",
                        "Epoch: [6][350/622]Elapsed 52.11s | Loss: 0.2290 Grad: 35126.9102 LR: 6.4828e-05\n",
                        "Epoch: [6][400/622]Elapsed 59.51s | Loss: 0.2279 Grad: 58181.5078 LR: 6.3708e-05\n",
                        "Epoch: [6][450/622]Elapsed 66.93s | Loss: 0.2273 Grad: 34408.4219 LR: 6.2581e-05\n",
                        "Epoch: [6][500/622]Elapsed 74.34s | Loss: 0.2263 Grad: 61449.5352 LR: 6.1446e-05\n",
                        "Epoch: [6][550/622]Elapsed 81.74s | Loss: 0.2258 Grad: 38461.6953 LR: 6.0305e-05\n",
                        "Epoch: [6][600/622]Elapsed 89.12s | Loss: 0.2248 Grad: 33047.4023 LR: 5.9159e-05\n",
                        "Epoch: [6][621/622]Elapsed 92.29s | Loss: 0.2248 Grad: 57350.8438 LR: 5.8653e-05\n"
                    ]
                },
                {
                    "data": {
                        "application/vnd.jupyter.widget-view+json": {
                            "model_id": "82d416bfd83c4de3b5e0e92290d1b18f",
                            "version_major": 2,
                            "version_minor": 0
                        },
                        "text/plain": [
                            "Valid:   0%|          | 0/225 [00:00<?, ?batch/s]"
                        ]
                    },
                    "metadata": {},
                    "output_type": "display_data"
                },
                {
                    "name": "stdout",
                    "output_type": "stream",
                    "text": [
                        "Epoch: [6][0/225]Elapsed 0.10s | Loss: 0.5375\n",
                        "Epoch: [6][50/225]Elapsed 4.92s | Loss: 0.4631\n",
                        "Epoch: [6][100/225]Elapsed 9.74s | Loss: 0.4626\n",
                        "Epoch: [6][150/225]Elapsed 14.57s | Loss: 0.4639\n",
                        "Epoch: [6][200/225]Elapsed 19.41s | Loss: 0.4446\n"
                    ]
                },
                {
                    "name": "stderr",
                    "output_type": "stream",
                    "text": [
                        "----------------------------------------------------------------------------------------------------\n",
                        "Epoch 6 - Average Train Loss: 0.2248 | Average Valid Loss: 0.4417 | Time: 114.18s\n",
                        "====================================================================================================\n",
                        "Fold 1 Valid Loss: (Easy) 0.8300 | (Hard) 0.6859\n",
                        "Elapse: 11.42 min \n",
                        "====================================================================================================\n",
                        "- Second Stage \n",
                        "Use Checkpoint: ENet_b2_xymasking_regularized_fold_1_stage_1.pth\n"
                    ]
                },
                {
                    "data": {
                        "application/vnd.jupyter.widget-view+json": {
                            "model_id": "bf1b122137ee4335933a353f9930eaec",
                            "version_major": 2,
                            "version_minor": 0
                        },
                        "text/plain": [
                            "Train:   0%|          | 0/276 [00:00<?, ?batch/s]"
                        ]
                    },
                    "metadata": {},
                    "output_type": "display_data"
                },
                {
                    "name": "stdout",
                    "output_type": "stream",
                    "text": [
                        "Epoch: [1][0/276]Elapsed 0.11s | Loss: 0.4016 Grad: nan LR: 4.0000e-06\n"
                    ]
                },
                {
                    "name": "stderr",
                    "output_type": "stream",
                    "text": [
                        "/home/shiyi/miniconda3/envs/kaggle/lib/python3.11/site-packages/torch/optim/lr_scheduler.py:143: UserWarning: Detected call of `lr_scheduler.step()` before `optimizer.step()`. In PyTorch 1.1.0 and later, you should call them in the opposite order: `optimizer.step()` before `lr_scheduler.step()`.  Failure to do this will result in PyTorch skipping the first value of the learning rate schedule. See more details at https://pytorch.org/docs/stable/optim.html#how-to-adjust-learning-rate\n",
                        "  warnings.warn(\"Detected call of `lr_scheduler.step()` before `optimizer.step()`. \"\n"
                    ]
                },
                {
                    "name": "stdout",
                    "output_type": "stream",
                    "text": [
                        "Epoch: [1][50/276]Elapsed 7.44s | Loss: 0.4054 Grad: 75051.7969 LR: 9.3614e-06\n",
                        "Epoch: [1][100/276]Elapsed 14.91s | Loss: 0.3800 Grad: 63275.6602 LR: 2.4248e-05\n",
                        "Epoch: [1][150/276]Elapsed 22.41s | Loss: 0.3506 Grad: 36675.5898 LR: 4.5334e-05\n",
                        "Epoch: [1][200/276]Elapsed 29.89s | Loss: 0.3305 Grad: 44761.0703 LR: 6.7909e-05\n",
                        "Epoch: [1][250/276]Elapsed 37.34s | Loss: 0.3132 Grad: 26917.4688 LR: 8.6930e-05\n",
                        "Epoch: [1][275/276]Elapsed 41.14s | Loss: 0.3058 Grad: 27793.4375 LR: 9.3946e-05\n"
                    ]
                },
                {
                    "data": {
                        "application/vnd.jupyter.widget-view+json": {
                            "model_id": "cea72b9555234317981087e40d80ed79",
                            "version_major": 2,
                            "version_minor": 0
                        },
                        "text/plain": [
                            "Valid:   0%|          | 0/225 [00:00<?, ?batch/s]"
                        ]
                    },
                    "metadata": {},
                    "output_type": "display_data"
                },
                {
                    "name": "stdout",
                    "output_type": "stream",
                    "text": [
                        "Epoch: [1][0/225]Elapsed 0.10s | Loss: 0.6141\n",
                        "Epoch: [1][50/225]Elapsed 4.95s | Loss: 0.4883\n",
                        "Epoch: [1][100/225]Elapsed 9.78s | Loss: 0.4932\n",
                        "Epoch: [1][150/225]Elapsed 14.62s | Loss: 0.4931\n",
                        "Epoch: [1][200/225]Elapsed 19.46s | Loss: 0.4327\n"
                    ]
                },
                {
                    "name": "stderr",
                    "output_type": "stream",
                    "text": [
                        "----------------------------------------------------------------------------------------------------\n",
                        "Epoch 1 - Average Train Loss: 0.3058 | Average Valid Loss: 0.4117 | Time: 63.09s\n",
                        "Best model found in epoch 1 | valid loss: 0.4117\n"
                    ]
                },
                {
                    "data": {
                        "application/vnd.jupyter.widget-view+json": {
                            "model_id": "215aef3843fa48278d3872c36ed683fe",
                            "version_major": 2,
                            "version_minor": 0
                        },
                        "text/plain": [
                            "Train:   0%|          | 0/276 [00:00<?, ?batch/s]"
                        ]
                    },
                    "metadata": {},
                    "output_type": "display_data"
                },
                {
                    "name": "stdout",
                    "output_type": "stream",
                    "text": [
                        "Epoch: [2][0/276]Elapsed 0.11s | Loss: 0.2557 Grad: 119306.7266 LR: 9.3946e-05\n",
                        "Epoch: [2][50/276]Elapsed 7.53s | Loss: 0.2340 Grad: 102418.6172 LR: 9.9978e-05\n",
                        "Epoch: [2][100/276]Elapsed 15.04s | Loss: 0.2253 Grad: 50715.6680 LR: 9.9939e-05\n",
                        "Epoch: [2][150/276]Elapsed 22.52s | Loss: 0.2220 Grad: 51788.3984 LR: 9.9740e-05\n",
                        "Epoch: [2][200/276]Elapsed 29.99s | Loss: 0.2210 Grad: 57535.4531 LR: 9.9403e-05\n",
                        "Epoch: [2][250/276]Elapsed 37.42s | Loss: 0.2175 Grad: 51505.0977 LR: 9.8929e-05\n",
                        "Epoch: [2][275/276]Elapsed 41.20s | Loss: 0.2155 Grad: 63634.1016 LR: 9.8628e-05\n"
                    ]
                },
                {
                    "data": {
                        "application/vnd.jupyter.widget-view+json": {
                            "model_id": "56f95d2252f041f2aea251780033910d",
                            "version_major": 2,
                            "version_minor": 0
                        },
                        "text/plain": [
                            "Valid:   0%|          | 0/225 [00:00<?, ?batch/s]"
                        ]
                    },
                    "metadata": {},
                    "output_type": "display_data"
                },
                {
                    "name": "stdout",
                    "output_type": "stream",
                    "text": [
                        "Epoch: [2][0/225]Elapsed 0.10s | Loss: 0.6251\n",
                        "Epoch: [2][50/225]Elapsed 4.96s | Loss: 0.4676\n",
                        "Epoch: [2][100/225]Elapsed 9.82s | Loss: 0.4776\n",
                        "Epoch: [2][150/225]Elapsed 14.67s | Loss: 0.4802\n",
                        "Epoch: [2][200/225]Elapsed 19.51s | Loss: 0.4200\n"
                    ]
                },
                {
                    "name": "stderr",
                    "output_type": "stream",
                    "text": [
                        "----------------------------------------------------------------------------------------------------\n",
                        "Epoch 2 - Average Train Loss: 0.2155 | Average Valid Loss: 0.3983 | Time: 63.21s\n",
                        "Best model found in epoch 2 | valid loss: 0.3983\n"
                    ]
                },
                {
                    "data": {
                        "application/vnd.jupyter.widget-view+json": {
                            "model_id": "0d1416b43e544d17bbd8559a115efa70",
                            "version_major": 2,
                            "version_minor": 0
                        },
                        "text/plain": [
                            "Train:   0%|          | 0/276 [00:00<?, ?batch/s]"
                        ]
                    },
                    "metadata": {},
                    "output_type": "display_data"
                },
                {
                    "name": "stdout",
                    "output_type": "stream",
                    "text": [
                        "Epoch: [3][0/276]Elapsed 0.10s | Loss: 0.2195 Grad: 91370.0078 LR: 9.8628e-05\n",
                        "Epoch: [3][50/276]Elapsed 7.53s | Loss: 0.2017 Grad: 89750.0781 LR: 9.7948e-05\n",
                        "Epoch: [3][100/276]Elapsed 15.00s | Loss: 0.1980 Grad: 73570.4062 LR: 9.7135e-05\n",
                        "Epoch: [3][150/276]Elapsed 22.46s | Loss: 0.1968 Grad: 71318.2266 LR: 9.6191e-05\n",
                        "Epoch: [3][200/276]Elapsed 29.93s | Loss: 0.1975 Grad: 84870.2344 LR: 9.5119e-05\n",
                        "Epoch: [3][250/276]Elapsed 37.39s | Loss: 0.1967 Grad: 101720.3828 LR: 9.3922e-05\n",
                        "Epoch: [3][275/276]Elapsed 41.18s | Loss: 0.1951 Grad: 130811.1875 LR: 9.3251e-05\n"
                    ]
                },
                {
                    "data": {
                        "application/vnd.jupyter.widget-view+json": {
                            "model_id": "e2002e157d7c4bada12f3fbb663e75e3",
                            "version_major": 2,
                            "version_minor": 0
                        },
                        "text/plain": [
                            "Valid:   0%|          | 0/225 [00:00<?, ?batch/s]"
                        ]
                    },
                    "metadata": {},
                    "output_type": "display_data"
                },
                {
                    "name": "stdout",
                    "output_type": "stream",
                    "text": [
                        "Epoch: [3][0/225]Elapsed 0.10s | Loss: 0.5689\n",
                        "Epoch: [3][50/225]Elapsed 4.95s | Loss: 0.4566\n",
                        "Epoch: [3][100/225]Elapsed 9.80s | Loss: 0.4710\n",
                        "Epoch: [3][150/225]Elapsed 14.66s | Loss: 0.4734\n",
                        "Epoch: [3][200/225]Elapsed 19.58s | Loss: 0.4142\n"
                    ]
                },
                {
                    "name": "stderr",
                    "output_type": "stream",
                    "text": [
                        "----------------------------------------------------------------------------------------------------\n",
                        "Epoch 3 - Average Train Loss: 0.1951 | Average Valid Loss: 0.3930 | Time: 63.26s\n",
                        "Best model found in epoch 3 | valid loss: 0.3930\n"
                    ]
                },
                {
                    "data": {
                        "application/vnd.jupyter.widget-view+json": {
                            "model_id": "6891e15a14a74ccf9d194e4e1a595c05",
                            "version_major": 2,
                            "version_minor": 0
                        },
                        "text/plain": [
                            "Train:   0%|          | 0/276 [00:00<?, ?batch/s]"
                        ]
                    },
                    "metadata": {},
                    "output_type": "display_data"
                },
                {
                    "name": "stdout",
                    "output_type": "stream",
                    "text": [
                        "Epoch: [4][0/276]Elapsed 0.12s | Loss: 0.2336 Grad: 111647.8438 LR: 9.3251e-05\n",
                        "Epoch: [4][50/276]Elapsed 7.55s | Loss: 0.1892 Grad: 63541.4062 LR: 9.1870e-05\n",
                        "Epoch: [4][100/276]Elapsed 15.06s | Loss: 0.1851 Grad: 85824.4141 LR: 9.0373e-05\n",
                        "Epoch: [4][150/276]Elapsed 22.56s | Loss: 0.1827 Grad: 74715.2344 LR: 8.8763e-05\n",
                        "Epoch: [4][200/276]Elapsed 30.05s | Loss: 0.1821 Grad: 107296.3359 LR: 8.7047e-05\n",
                        "Epoch: [4][250/276]Elapsed 37.53s | Loss: 0.1811 Grad: 54290.9219 LR: 8.5227e-05\n",
                        "Epoch: [4][275/276]Elapsed 41.35s | Loss: 0.1799 Grad: 97321.1562 LR: 8.4242e-05\n"
                    ]
                },
                {
                    "data": {
                        "application/vnd.jupyter.widget-view+json": {
                            "model_id": "37a1a211a53a4e14b359888ace23e191",
                            "version_major": 2,
                            "version_minor": 0
                        },
                        "text/plain": [
                            "Valid:   0%|          | 0/225 [00:00<?, ?batch/s]"
                        ]
                    },
                    "metadata": {},
                    "output_type": "display_data"
                },
                {
                    "name": "stdout",
                    "output_type": "stream",
                    "text": [
                        "Epoch: [4][0/225]Elapsed 0.10s | Loss: 0.6014\n",
                        "Epoch: [4][50/225]Elapsed 4.97s | Loss: 0.4622\n",
                        "Epoch: [4][100/225]Elapsed 9.82s | Loss: 0.4778\n",
                        "Epoch: [4][150/225]Elapsed 14.65s | Loss: 0.4813\n",
                        "Epoch: [4][200/225]Elapsed 19.51s | Loss: 0.4204\n"
                    ]
                },
                {
                    "name": "stderr",
                    "output_type": "stream",
                    "text": [
                        "----------------------------------------------------------------------------------------------------\n",
                        "Epoch 4 - Average Train Loss: 0.1799 | Average Valid Loss: 0.3986 | Time: 63.35s\n"
                    ]
                },
                {
                    "data": {
                        "application/vnd.jupyter.widget-view+json": {
                            "model_id": "0f7cd8eeef08454bb4ab82d3efec9087",
                            "version_major": 2,
                            "version_minor": 0
                        },
                        "text/plain": [
                            "Train:   0%|          | 0/276 [00:00<?, ?batch/s]"
                        ]
                    },
                    "metadata": {},
                    "output_type": "display_data"
                },
                {
                    "name": "stdout",
                    "output_type": "stream",
                    "text": [
                        "Epoch: [5][0/276]Elapsed 0.10s | Loss: 0.1812 Grad: 107305.5703 LR: 8.4242e-05\n",
                        "Epoch: [5][50/276]Elapsed 7.53s | Loss: 0.1776 Grad: 68681.7266 LR: 8.2275e-05\n",
                        "Epoch: [5][100/276]Elapsed 15.00s | Loss: 0.1716 Grad: 79622.2812 LR: 8.0220e-05\n",
                        "Epoch: [5][150/276]Elapsed 22.48s | Loss: 0.1688 Grad: 95421.9609 LR: 7.8080e-05\n",
                        "Epoch: [5][200/276]Elapsed 30.06s | Loss: 0.1692 Grad: 84722.3047 LR: 7.5863e-05\n",
                        "Epoch: [5][250/276]Elapsed 37.64s | Loss: 0.1680 Grad: 73421.9844 LR: 7.3573e-05\n",
                        "Epoch: [5][275/276]Elapsed 41.44s | Loss: 0.1665 Grad: 89013.8594 LR: 7.2357e-05\n"
                    ]
                },
                {
                    "data": {
                        "application/vnd.jupyter.widget-view+json": {
                            "model_id": "c60b313ca1314ec5989fdf484778a9ce",
                            "version_major": 2,
                            "version_minor": 0
                        },
                        "text/plain": [
                            "Valid:   0%|          | 0/225 [00:00<?, ?batch/s]"
                        ]
                    },
                    "metadata": {},
                    "output_type": "display_data"
                },
                {
                    "name": "stdout",
                    "output_type": "stream",
                    "text": [
                        "Epoch: [5][0/225]Elapsed 0.11s | Loss: 0.5792\n",
                        "Epoch: [5][50/225]Elapsed 5.40s | Loss: 0.4537\n",
                        "Epoch: [5][100/225]Elapsed 10.65s | Loss: 0.4714\n",
                        "Epoch: [5][150/225]Elapsed 15.45s | Loss: 0.4764\n",
                        "Epoch: [5][200/225]Elapsed 20.26s | Loss: 0.4166\n"
                    ]
                },
                {
                    "name": "stderr",
                    "output_type": "stream",
                    "text": [
                        "----------------------------------------------------------------------------------------------------\n",
                        "Epoch 5 - Average Train Loss: 0.1665 | Average Valid Loss: 0.3955 | Time: 64.17s\n"
                    ]
                },
                {
                    "data": {
                        "application/vnd.jupyter.widget-view+json": {
                            "model_id": "cdfd73f759f544e3bd85fe1520c06324",
                            "version_major": 2,
                            "version_minor": 0
                        },
                        "text/plain": [
                            "Train:   0%|          | 0/276 [00:00<?, ?batch/s]"
                        ]
                    },
                    "metadata": {},
                    "output_type": "display_data"
                },
                {
                    "name": "stdout",
                    "output_type": "stream",
                    "text": [
                        "Epoch: [6][0/276]Elapsed 0.10s | Loss: 0.1850 Grad: 98850.4062 LR: 7.2357e-05\n",
                        "Epoch: [6][50/276]Elapsed 7.53s | Loss: 0.1598 Grad: 82490.7188 LR: 6.9971e-05\n",
                        "Epoch: [6][100/276]Elapsed 14.98s | Loss: 0.1552 Grad: 43016.8555 LR: 6.7529e-05\n",
                        "Epoch: [6][150/276]Elapsed 22.42s | Loss: 0.1541 Grad: 34888.7578 LR: 6.5039e-05\n",
                        "Epoch: [6][200/276]Elapsed 29.87s | Loss: 0.1544 Grad: 46137.1328 LR: 6.2507e-05\n",
                        "Epoch: [6][250/276]Elapsed 37.31s | Loss: 0.1543 Grad: 31722.1035 LR: 5.9941e-05\n",
                        "Epoch: [6][275/276]Elapsed 41.09s | Loss: 0.1537 Grad: 41027.7930 LR: 5.8595e-05\n"
                    ]
                },
                {
                    "data": {
                        "application/vnd.jupyter.widget-view+json": {
                            "model_id": "2ce3a676e5dc4e99b61c0514087b9f30",
                            "version_major": 2,
                            "version_minor": 0
                        },
                        "text/plain": [
                            "Valid:   0%|          | 0/225 [00:00<?, ?batch/s]"
                        ]
                    },
                    "metadata": {},
                    "output_type": "display_data"
                },
                {
                    "name": "stdout",
                    "output_type": "stream",
                    "text": [
                        "Epoch: [6][0/225]Elapsed 0.11s | Loss: 0.5685\n",
                        "Epoch: [6][50/225]Elapsed 4.96s | Loss: 0.4480\n",
                        "Epoch: [6][100/225]Elapsed 9.80s | Loss: 0.4655\n",
                        "Epoch: [6][150/225]Elapsed 14.65s | Loss: 0.4697\n",
                        "Epoch: [6][200/225]Elapsed 19.51s | Loss: 0.4116\n"
                    ]
                },
                {
                    "name": "stderr",
                    "output_type": "stream",
                    "text": [
                        "----------------------------------------------------------------------------------------------------\n",
                        "Epoch 6 - Average Train Loss: 0.1537 | Average Valid Loss: 0.3911 | Time: 63.10s\n",
                        "Best model found in epoch 6 | valid loss: 0.3911\n",
                        "====================================================================================================\n",
                        "Fold 1 Valid Loss: (Easy) 0.8823 | (Hard) 0.3985\n",
                        "Elapse: 6.34 min \n",
                        "====================================================================================================\n",
                        "====================================================================================================\n",
                        "Fold: 2 || Valid size 3595 \n",
                        "====================================================================================================\n",
                        "- First Stage \n"
                    ]
                },
                {
                    "data": {
                        "application/vnd.jupyter.widget-view+json": {
                            "model_id": "cba6b2dea5bb4ad4b251534f609da52d",
                            "version_major": 2,
                            "version_minor": 0
                        },
                        "text/plain": [
                            "Train:   0%|          | 0/622 [00:00<?, ?batch/s]"
                        ]
                    },
                    "metadata": {},
                    "output_type": "display_data"
                },
                {
                    "name": "stdout",
                    "output_type": "stream",
                    "text": [
                        "Epoch: [1][0/622]Elapsed 0.11s | Loss: 0.8128 Grad: 66046.0391 LR: 4.0000e-06\n",
                        "Epoch: [1][50/622]Elapsed 7.69s | Loss: 0.8317 Grad: 68226.0156 LR: 5.0647e-06\n",
                        "Epoch: [1][100/622]Elapsed 15.28s | Loss: 0.8266 Grad: 72304.0938 LR: 8.2116e-06\n",
                        "Epoch: [1][150/622]Elapsed 22.88s | Loss: 0.8195 Grad: 74520.5859 LR: 1.3301e-05\n",
                        "Epoch: [1][200/622]Elapsed 30.51s | Loss: 0.8125 Grad: 97709.8906 LR: 2.0107e-05\n",
                        "Epoch: [1][250/622]Elapsed 38.14s | Loss: 0.8016 Grad: 69091.5078 LR: 2.8328e-05\n",
                        "Epoch: [1][300/622]Elapsed 45.61s | Loss: 0.7896 Grad: 92098.1719 LR: 3.7599e-05\n",
                        "Epoch: [1][350/622]Elapsed 52.99s | Loss: 0.7742 Grad: 51662.9688 LR: 4.7509e-05\n",
                        "Epoch: [1][400/622]Elapsed 60.38s | Loss: 0.7577 Grad: 27606.9473 LR: 5.7619e-05\n",
                        "Epoch: [1][450/622]Elapsed 67.76s | Loss: 0.7411 Grad: 32942.7109 LR: 6.7479e-05\n",
                        "Epoch: [1][500/622]Elapsed 75.14s | Loss: 0.7249 Grad: 29058.8027 LR: 7.6652e-05\n",
                        "Epoch: [1][550/622]Elapsed 82.53s | Loss: 0.7092 Grad: 39712.4414 LR: 8.4732e-05\n",
                        "Epoch: [1][600/622]Elapsed 89.89s | Loss: 0.6930 Grad: 36485.3086 LR: 9.1359e-05\n",
                        "Epoch: [1][621/622]Elapsed 93.08s | Loss: 0.6860 Grad: 43253.4766 LR: 9.3737e-05\n"
                    ]
                },
                {
                    "data": {
                        "application/vnd.jupyter.widget-view+json": {
                            "model_id": "c922533c69a4468494699a291345a3c5",
                            "version_major": 2,
                            "version_minor": 0
                        },
                        "text/plain": [
                            "Valid:   0%|          | 0/225 [00:00<?, ?batch/s]"
                        ]
                    },
                    "metadata": {},
                    "output_type": "display_data"
                },
                {
                    "name": "stdout",
                    "output_type": "stream",
                    "text": [
                        "Epoch: [1][0/225]Elapsed 0.11s | Loss: 0.5695\n",
                        "Epoch: [1][50/225]Elapsed 5.19s | Loss: 0.4911\n",
                        "Epoch: [1][100/225]Elapsed 10.03s | Loss: 0.4845\n",
                        "Epoch: [1][150/225]Elapsed 14.86s | Loss: 0.4911\n",
                        "Epoch: [1][200/225]Elapsed 19.70s | Loss: 0.4515\n"
                    ]
                },
                {
                    "name": "stderr",
                    "output_type": "stream",
                    "text": [
                        "----------------------------------------------------------------------------------------------------\n",
                        "Epoch 1 - Average Train Loss: 0.6860 | Average Valid Loss: 0.4358 | Time: 115.26s\n",
                        "Best model found in epoch 1 | valid loss: 0.4358\n"
                    ]
                },
                {
                    "data": {
                        "application/vnd.jupyter.widget-view+json": {
                            "model_id": "9b06464ac85344b59a5a279bdb6ca902",
                            "version_major": 2,
                            "version_minor": 0
                        },
                        "text/plain": [
                            "Train:   0%|          | 0/622 [00:00<?, ?batch/s]"
                        ]
                    },
                    "metadata": {},
                    "output_type": "display_data"
                },
                {
                    "name": "stdout",
                    "output_type": "stream",
                    "text": [
                        "Epoch: [2][0/622]Elapsed 0.10s | Loss: 0.4188 Grad: 73430.1016 LR: 9.3737e-05\n",
                        "Epoch: [2][50/622]Elapsed 7.42s | Loss: 0.4564 Grad: 46988.2891 LR: 9.7777e-05\n",
                        "Epoch: [2][100/622]Elapsed 14.83s | Loss: 0.4464 Grad: 43813.9453 LR: 9.9786e-05\n",
                        "Epoch: [2][150/622]Elapsed 22.25s | Loss: 0.4491 Grad: 35164.9180 LR: 9.9996e-05\n",
                        "Epoch: [2][200/622]Elapsed 29.68s | Loss: 0.4436 Grad: 31796.0840 LR: 9.9967e-05\n",
                        "Epoch: [2][250/622]Elapsed 37.10s | Loss: 0.4408 Grad: 63739.9844 LR: 9.9911e-05\n",
                        "Epoch: [2][300/622]Elapsed 44.53s | Loss: 0.4379 Grad: 39971.8477 LR: 9.9828e-05\n",
                        "Epoch: [2][350/622]Elapsed 51.99s | Loss: 0.4373 Grad: 24935.0293 LR: 9.9717e-05\n",
                        "Epoch: [2][400/622]Elapsed 59.40s | Loss: 0.4331 Grad: 59055.4062 LR: 9.9579e-05\n",
                        "Epoch: [2][450/622]Elapsed 66.83s | Loss: 0.4277 Grad: 33894.8555 LR: 9.9415e-05\n",
                        "Epoch: [2][500/622]Elapsed 74.26s | Loss: 0.4227 Grad: 34445.3711 LR: 9.9223e-05\n",
                        "Epoch: [2][550/622]Elapsed 81.69s | Loss: 0.4200 Grad: 40410.0469 LR: 9.9004e-05\n",
                        "Epoch: [2][600/622]Elapsed 89.09s | Loss: 0.4164 Grad: 59092.8086 LR: 9.8758e-05\n",
                        "Epoch: [2][621/622]Elapsed 92.28s | Loss: 0.4154 Grad: 59319.3516 LR: 9.8642e-05\n"
                    ]
                },
                {
                    "data": {
                        "application/vnd.jupyter.widget-view+json": {
                            "model_id": "6333e96345104a9591607ac811c5aeb9",
                            "version_major": 2,
                            "version_minor": 0
                        },
                        "text/plain": [
                            "Valid:   0%|          | 0/225 [00:00<?, ?batch/s]"
                        ]
                    },
                    "metadata": {},
                    "output_type": "display_data"
                },
                {
                    "name": "stdout",
                    "output_type": "stream",
                    "text": [
                        "Epoch: [2][0/225]Elapsed 0.10s | Loss: 0.4303\n",
                        "Epoch: [2][50/225]Elapsed 4.94s | Loss: 0.4119\n",
                        "Epoch: [2][100/225]Elapsed 9.76s | Loss: 0.4095\n",
                        "Epoch: [2][150/225]Elapsed 14.59s | Loss: 0.4142\n",
                        "Epoch: [2][200/225]Elapsed 19.43s | Loss: 0.3951\n"
                    ]
                },
                {
                    "name": "stderr",
                    "output_type": "stream",
                    "text": [
                        "----------------------------------------------------------------------------------------------------\n",
                        "Epoch 2 - Average Train Loss: 0.4154 | Average Valid Loss: 0.3859 | Time: 114.19s\n",
                        "Best model found in epoch 2 | valid loss: 0.3859\n"
                    ]
                },
                {
                    "data": {
                        "application/vnd.jupyter.widget-view+json": {
                            "model_id": "fac8b21d9f0f463687d83a51fd592f69",
                            "version_major": 2,
                            "version_minor": 0
                        },
                        "text/plain": [
                            "Train:   0%|          | 0/622 [00:00<?, ?batch/s]"
                        ]
                    },
                    "metadata": {},
                    "output_type": "display_data"
                },
                {
                    "name": "stdout",
                    "output_type": "stream",
                    "text": [
                        "Epoch: [3][0/622]Elapsed 0.11s | Loss: 0.2881 Grad: 89959.3828 LR: 9.8642e-05\n",
                        "Epoch: [3][50/622]Elapsed 7.52s | Loss: 0.3453 Grad: 70237.3125 LR: 9.8358e-05\n",
                        "Epoch: [3][100/622]Elapsed 15.02s | Loss: 0.3419 Grad: 78598.0469 LR: 9.8048e-05\n",
                        "Epoch: [3][150/622]Elapsed 22.46s | Loss: 0.3437 Grad: 105334.4609 LR: 9.7711e-05\n",
                        "Epoch: [3][200/622]Elapsed 29.92s | Loss: 0.3420 Grad: 68843.6562 LR: 9.7349e-05\n",
                        "Epoch: [3][250/622]Elapsed 37.38s | Loss: 0.3407 Grad: 47342.5703 LR: 9.6960e-05\n",
                        "Epoch: [3][300/622]Elapsed 44.91s | Loss: 0.3415 Grad: 80684.5781 LR: 9.6546e-05\n",
                        "Epoch: [3][350/622]Elapsed 52.46s | Loss: 0.3432 Grad: 65496.7266 LR: 9.6106e-05\n",
                        "Epoch: [3][400/622]Elapsed 59.90s | Loss: 0.3419 Grad: 107429.2500 LR: 9.5642e-05\n",
                        "Epoch: [3][450/622]Elapsed 67.32s | Loss: 0.3387 Grad: 54632.8867 LR: 9.5152e-05\n",
                        "Epoch: [3][500/622]Elapsed 74.76s | Loss: 0.3372 Grad: 79255.6719 LR: 9.4638e-05\n",
                        "Epoch: [3][550/622]Elapsed 82.20s | Loss: 0.3376 Grad: 84995.2969 LR: 9.4099e-05\n",
                        "Epoch: [3][600/622]Elapsed 89.64s | Loss: 0.3365 Grad: 52375.8125 LR: 9.3536e-05\n",
                        "Epoch: [3][621/622]Elapsed 92.84s | Loss: 0.3361 Grad: 58171.3359 LR: 9.3281e-05\n"
                    ]
                },
                {
                    "data": {
                        "application/vnd.jupyter.widget-view+json": {
                            "model_id": "417eaa7fe11b42aabdf829db28b41824",
                            "version_major": 2,
                            "version_minor": 0
                        },
                        "text/plain": [
                            "Valid:   0%|          | 0/225 [00:00<?, ?batch/s]"
                        ]
                    },
                    "metadata": {},
                    "output_type": "display_data"
                },
                {
                    "name": "stdout",
                    "output_type": "stream",
                    "text": [
                        "Epoch: [3][0/225]Elapsed 0.10s | Loss: 0.3924\n",
                        "Epoch: [3][50/225]Elapsed 4.95s | Loss: 0.4120\n",
                        "Epoch: [3][100/225]Elapsed 9.79s | Loss: 0.4111\n",
                        "Epoch: [3][150/225]Elapsed 14.63s | Loss: 0.4131\n",
                        "Epoch: [3][200/225]Elapsed 19.48s | Loss: 0.3997\n"
                    ]
                },
                {
                    "name": "stderr",
                    "output_type": "stream",
                    "text": [
                        "----------------------------------------------------------------------------------------------------\n",
                        "Epoch 3 - Average Train Loss: 0.3361 | Average Valid Loss: 0.3932 | Time: 114.81s\n"
                    ]
                },
                {
                    "data": {
                        "application/vnd.jupyter.widget-view+json": {
                            "model_id": "64f0ba985bc04dabbc0fdb5459d667b7",
                            "version_major": 2,
                            "version_minor": 0
                        },
                        "text/plain": [
                            "Train:   0%|          | 0/622 [00:00<?, ?batch/s]"
                        ]
                    },
                    "metadata": {},
                    "output_type": "display_data"
                },
                {
                    "name": "stdout",
                    "output_type": "stream",
                    "text": [
                        "Epoch: [4][0/622]Elapsed 0.10s | Loss: 0.2561 Grad: 99968.0703 LR: 9.3281e-05\n",
                        "Epoch: [4][50/622]Elapsed 7.54s | Loss: 0.2948 Grad: 74926.5391 LR: 9.2683e-05\n",
                        "Epoch: [4][100/622]Elapsed 15.07s | Loss: 0.2923 Grad: 109156.3672 LR: 9.2063e-05\n",
                        "Epoch: [4][150/622]Elapsed 22.68s | Loss: 0.2967 Grad: 92943.8750 LR: 9.1420e-05\n",
                        "Epoch: [4][200/622]Elapsed 30.19s | Loss: 0.2926 Grad: 62764.7578 LR: 9.0754e-05\n",
                        "Epoch: [4][250/622]Elapsed 37.71s | Loss: 0.2901 Grad: 70058.4062 LR: 9.0065e-05\n",
                        "Epoch: [4][300/622]Elapsed 45.15s | Loss: 0.2886 Grad: 54229.7305 LR: 8.9355e-05\n",
                        "Epoch: [4][350/622]Elapsed 52.58s | Loss: 0.2907 Grad: 56368.3672 LR: 8.8624e-05\n",
                        "Epoch: [4][400/622]Elapsed 60.02s | Loss: 0.2894 Grad: 107289.3672 LR: 8.7871e-05\n",
                        "Epoch: [4][450/622]Elapsed 67.43s | Loss: 0.2862 Grad: 83178.8750 LR: 8.7097e-05\n",
                        "Epoch: [4][500/622]Elapsed 74.87s | Loss: 0.2864 Grad: 53299.7305 LR: 8.6303e-05\n",
                        "Epoch: [4][550/622]Elapsed 82.29s | Loss: 0.2859 Grad: 36402.0430 LR: 8.5490e-05\n",
                        "Epoch: [4][600/622]Elapsed 89.71s | Loss: 0.2857 Grad: 89964.7500 LR: 8.4657e-05\n",
                        "Epoch: [4][621/622]Elapsed 92.88s | Loss: 0.2853 Grad: 72688.6953 LR: 8.4284e-05\n"
                    ]
                },
                {
                    "data": {
                        "application/vnd.jupyter.widget-view+json": {
                            "model_id": "58ba4365815740aab50609e973d4d8c2",
                            "version_major": 2,
                            "version_minor": 0
                        },
                        "text/plain": [
                            "Valid:   0%|          | 0/225 [00:00<?, ?batch/s]"
                        ]
                    },
                    "metadata": {},
                    "output_type": "display_data"
                },
                {
                    "name": "stdout",
                    "output_type": "stream",
                    "text": [
                        "Epoch: [4][0/225]Elapsed 0.11s | Loss: 0.3456\n",
                        "Epoch: [4][50/225]Elapsed 4.93s | Loss: 0.3929\n",
                        "Epoch: [4][100/225]Elapsed 9.74s | Loss: 0.3963\n",
                        "Epoch: [4][150/225]Elapsed 14.54s | Loss: 0.4005\n",
                        "Epoch: [4][200/225]Elapsed 19.37s | Loss: 0.3944\n"
                    ]
                },
                {
                    "name": "stderr",
                    "output_type": "stream",
                    "text": [
                        "----------------------------------------------------------------------------------------------------\n",
                        "Epoch 4 - Average Train Loss: 0.2853 | Average Valid Loss: 0.3906 | Time: 114.73s\n"
                    ]
                },
                {
                    "data": {
                        "application/vnd.jupyter.widget-view+json": {
                            "model_id": "a3d55afdec8148ce94e296a0a3b966b8",
                            "version_major": 2,
                            "version_minor": 0
                        },
                        "text/plain": [
                            "Train:   0%|          | 0/622 [00:00<?, ?batch/s]"
                        ]
                    },
                    "metadata": {},
                    "output_type": "display_data"
                },
                {
                    "name": "stdout",
                    "output_type": "stream",
                    "text": [
                        "Epoch: [5][0/622]Elapsed 0.10s | Loss: 0.2441 Grad: 137094.2031 LR: 8.4284e-05\n",
                        "Epoch: [5][50/622]Elapsed 7.49s | Loss: 0.2628 Grad: 56588.2617 LR: 8.3424e-05\n",
                        "Epoch: [5][100/622]Elapsed 14.97s | Loss: 0.2562 Grad: 88446.6406 LR: 8.2546e-05\n",
                        "Epoch: [5][150/622]Elapsed 22.45s | Loss: 0.2627 Grad: 80484.4297 LR: 8.1650e-05\n",
                        "Epoch: [5][200/622]Elapsed 29.93s | Loss: 0.2580 Grad: 72883.6953 LR: 8.0736e-05\n",
                        "Epoch: [5][250/622]Elapsed 37.40s | Loss: 0.2571 Grad: 87915.1328 LR: 7.9806e-05\n",
                        "Epoch: [5][300/622]Elapsed 44.84s | Loss: 0.2568 Grad: 35048.8945 LR: 7.8859e-05\n",
                        "Epoch: [5][350/622]Elapsed 52.27s | Loss: 0.2574 Grad: 31129.7930 LR: 7.7897e-05\n",
                        "Epoch: [5][400/622]Elapsed 59.71s | Loss: 0.2550 Grad: 42705.0352 LR: 7.6920e-05\n",
                        "Epoch: [5][450/622]Elapsed 67.16s | Loss: 0.2531 Grad: 30426.4824 LR: 7.5927e-05\n",
                        "Epoch: [5][500/622]Elapsed 74.58s | Loss: 0.2539 Grad: 34987.6836 LR: 7.4921e-05\n",
                        "Epoch: [5][550/622]Elapsed 82.00s | Loss: 0.2538 Grad: 27747.1406 LR: 7.3901e-05\n",
                        "Epoch: [5][600/622]Elapsed 89.42s | Loss: 0.2528 Grad: 50085.0156 LR: 7.2868e-05\n",
                        "Epoch: [5][621/622]Elapsed 92.60s | Loss: 0.2526 Grad: 83873.3594 LR: 7.2409e-05\n"
                    ]
                },
                {
                    "data": {
                        "application/vnd.jupyter.widget-view+json": {
                            "model_id": "f8bfc56a1cc64fc492fb467fa3bf2dcc",
                            "version_major": 2,
                            "version_minor": 0
                        },
                        "text/plain": [
                            "Valid:   0%|          | 0/225 [00:00<?, ?batch/s]"
                        ]
                    },
                    "metadata": {},
                    "output_type": "display_data"
                },
                {
                    "name": "stdout",
                    "output_type": "stream",
                    "text": [
                        "Epoch: [5][0/225]Elapsed 0.10s | Loss: 0.3287\n",
                        "Epoch: [5][50/225]Elapsed 4.90s | Loss: 0.4112\n",
                        "Epoch: [5][100/225]Elapsed 9.70s | Loss: 0.4112\n",
                        "Epoch: [5][150/225]Elapsed 14.51s | Loss: 0.4141\n",
                        "Epoch: [5][200/225]Elapsed 19.32s | Loss: 0.4113\n"
                    ]
                },
                {
                    "name": "stderr",
                    "output_type": "stream",
                    "text": [
                        "----------------------------------------------------------------------------------------------------\n",
                        "Epoch 5 - Average Train Loss: 0.2526 | Average Valid Loss: 0.4077 | Time: 114.40s\n"
                    ]
                },
                {
                    "data": {
                        "application/vnd.jupyter.widget-view+json": {
                            "model_id": "ae7871db69ed4a89ab783acbf107d3ab",
                            "version_major": 2,
                            "version_minor": 0
                        },
                        "text/plain": [
                            "Train:   0%|          | 0/622 [00:00<?, ?batch/s]"
                        ]
                    },
                    "metadata": {},
                    "output_type": "display_data"
                },
                {
                    "name": "stdout",
                    "output_type": "stream",
                    "text": [
                        "Epoch: [6][0/622]Elapsed 0.10s | Loss: 0.2220 Grad: inf LR: 7.2409e-05\n",
                        "Epoch: [6][50/622]Elapsed 7.47s | Loss: 0.2278 Grad: 63433.8828 LR: 7.1358e-05\n",
                        "Epoch: [6][100/622]Elapsed 14.93s | Loss: 0.2250 Grad: 114993.3750 LR: 7.0296e-05\n",
                        "Epoch: [6][150/622]Elapsed 22.43s | Loss: 0.2273 Grad: 71642.6406 LR: 6.9222e-05\n",
                        "Epoch: [6][200/622]Elapsed 30.02s | Loss: 0.2279 Grad: 69376.9922 LR: 6.8138e-05\n",
                        "Epoch: [6][250/622]Elapsed 37.49s | Loss: 0.2271 Grad: 62211.8750 LR: 6.7044e-05\n",
                        "Epoch: [6][300/622]Elapsed 44.95s | Loss: 0.2251 Grad: 50644.0195 LR: 6.5940e-05\n",
                        "Epoch: [6][350/622]Elapsed 52.40s | Loss: 0.2264 Grad: 29989.2480 LR: 6.4828e-05\n",
                        "Epoch: [6][400/622]Elapsed 59.90s | Loss: 0.2240 Grad: 70087.8203 LR: 6.3708e-05\n",
                        "Epoch: [6][450/622]Elapsed 67.33s | Loss: 0.2225 Grad: 29710.6445 LR: 6.2581e-05\n",
                        "Epoch: [6][500/622]Elapsed 74.75s | Loss: 0.2233 Grad: 40070.1836 LR: 6.1446e-05\n",
                        "Epoch: [6][550/622]Elapsed 82.16s | Loss: 0.2238 Grad: 42524.0547 LR: 6.0305e-05\n",
                        "Epoch: [6][600/622]Elapsed 89.56s | Loss: 0.2234 Grad: 54247.2383 LR: 5.9159e-05\n",
                        "Epoch: [6][621/622]Elapsed 92.72s | Loss: 0.2233 Grad: 66926.6016 LR: 5.8653e-05\n"
                    ]
                },
                {
                    "data": {
                        "application/vnd.jupyter.widget-view+json": {
                            "model_id": "42e4d7f391544453b2c6dd240ad59a02",
                            "version_major": 2,
                            "version_minor": 0
                        },
                        "text/plain": [
                            "Valid:   0%|          | 0/225 [00:00<?, ?batch/s]"
                        ]
                    },
                    "metadata": {},
                    "output_type": "display_data"
                },
                {
                    "name": "stdout",
                    "output_type": "stream",
                    "text": [
                        "Epoch: [6][0/225]Elapsed 0.11s | Loss: 0.3399\n",
                        "Epoch: [6][50/225]Elapsed 4.92s | Loss: 0.4031\n",
                        "Epoch: [6][100/225]Elapsed 9.73s | Loss: 0.4057\n",
                        "Epoch: [6][150/225]Elapsed 14.53s | Loss: 0.4107\n",
                        "Epoch: [6][200/225]Elapsed 19.35s | Loss: 0.4112\n"
                    ]
                },
                {
                    "name": "stderr",
                    "output_type": "stream",
                    "text": [
                        "----------------------------------------------------------------------------------------------------\n",
                        "Epoch 6 - Average Train Loss: 0.2233 | Average Valid Loss: 0.4092 | Time: 114.56s\n",
                        "====================================================================================================\n",
                        "Fold 2 Valid Loss: (Easy) 0.7717 | (Hard) 0.5921\n",
                        "Elapse: 11.47 min \n",
                        "====================================================================================================\n",
                        "- Second Stage \n",
                        "Use Checkpoint: ENet_b2_xymasking_regularized_fold_2_stage_1.pth\n"
                    ]
                },
                {
                    "data": {
                        "application/vnd.jupyter.widget-view+json": {
                            "model_id": "f23b41c248d14c6983ac04ae641c9eff",
                            "version_major": 2,
                            "version_minor": 0
                        },
                        "text/plain": [
                            "Train:   0%|          | 0/276 [00:00<?, ?batch/s]"
                        ]
                    },
                    "metadata": {},
                    "output_type": "display_data"
                },
                {
                    "name": "stdout",
                    "output_type": "stream",
                    "text": [
                        "Epoch: [1][0/276]Elapsed 0.10s | Loss: 0.4126 Grad: nan LR: 4.0000e-06\n"
                    ]
                },
                {
                    "name": "stderr",
                    "output_type": "stream",
                    "text": [
                        "/home/shiyi/miniconda3/envs/kaggle/lib/python3.11/site-packages/torch/optim/lr_scheduler.py:143: UserWarning: Detected call of `lr_scheduler.step()` before `optimizer.step()`. In PyTorch 1.1.0 and later, you should call them in the opposite order: `optimizer.step()` before `lr_scheduler.step()`.  Failure to do this will result in PyTorch skipping the first value of the learning rate schedule. See more details at https://pytorch.org/docs/stable/optim.html#how-to-adjust-learning-rate\n",
                        "  warnings.warn(\"Detected call of `lr_scheduler.step()` before `optimizer.step()`. \"\n"
                    ]
                },
                {
                    "name": "stdout",
                    "output_type": "stream",
                    "text": [
                        "Epoch: [1][50/276]Elapsed 7.47s | Loss: 0.4005 Grad: 60329.0078 LR: 9.3614e-06\n",
                        "Epoch: [1][100/276]Elapsed 14.93s | Loss: 0.3758 Grad: 42237.3789 LR: 2.4248e-05\n",
                        "Epoch: [1][150/276]Elapsed 22.39s | Loss: 0.3494 Grad: 37713.8438 LR: 4.5334e-05\n",
                        "Epoch: [1][200/276]Elapsed 29.84s | Loss: 0.3286 Grad: 34128.4844 LR: 6.7909e-05\n",
                        "Epoch: [1][250/276]Elapsed 37.29s | Loss: 0.3109 Grad: 19578.7500 LR: 8.6930e-05\n",
                        "Epoch: [1][275/276]Elapsed 41.06s | Loss: 0.3032 Grad: 42286.1875 LR: 9.3946e-05\n"
                    ]
                },
                {
                    "data": {
                        "application/vnd.jupyter.widget-view+json": {
                            "model_id": "d36b72a03e7448bc938ced44770f4465",
                            "version_major": 2,
                            "version_minor": 0
                        },
                        "text/plain": [
                            "Valid:   0%|          | 0/225 [00:00<?, ?batch/s]"
                        ]
                    },
                    "metadata": {},
                    "output_type": "display_data"
                },
                {
                    "name": "stdout",
                    "output_type": "stream",
                    "text": [
                        "Epoch: [1][0/225]Elapsed 0.10s | Loss: 0.3885\n",
                        "Epoch: [1][50/225]Elapsed 4.92s | Loss: 0.4313\n",
                        "Epoch: [1][100/225]Elapsed 9.73s | Loss: 0.4304\n",
                        "Epoch: [1][150/225]Elapsed 14.54s | Loss: 0.4371\n",
                        "Epoch: [1][200/225]Elapsed 19.36s | Loss: 0.3964\n"
                    ]
                },
                {
                    "name": "stderr",
                    "output_type": "stream",
                    "text": [
                        "----------------------------------------------------------------------------------------------------\n",
                        "Epoch 1 - Average Train Loss: 0.3032 | Average Valid Loss: 0.3799 | Time: 62.89s\n",
                        "Best model found in epoch 1 | valid loss: 0.3799\n"
                    ]
                },
                {
                    "data": {
                        "application/vnd.jupyter.widget-view+json": {
                            "model_id": "a5a772e07215430bba4c9b8d487e7a7a",
                            "version_major": 2,
                            "version_minor": 0
                        },
                        "text/plain": [
                            "Train:   0%|          | 0/276 [00:00<?, ?batch/s]"
                        ]
                    },
                    "metadata": {},
                    "output_type": "display_data"
                },
                {
                    "name": "stdout",
                    "output_type": "stream",
                    "text": [
                        "Epoch: [2][0/276]Elapsed 0.10s | Loss: 0.2166 Grad: 103307.0625 LR: 9.3946e-05\n",
                        "Epoch: [2][50/276]Elapsed 7.49s | Loss: 0.2273 Grad: 104654.4609 LR: 9.9978e-05\n",
                        "Epoch: [2][100/276]Elapsed 14.95s | Loss: 0.2237 Grad: 111968.2266 LR: 9.9939e-05\n",
                        "Epoch: [2][150/276]Elapsed 22.40s | Loss: 0.2243 Grad: 127680.3438 LR: 9.9740e-05\n",
                        "Epoch: [2][200/276]Elapsed 29.84s | Loss: 0.2215 Grad: 89686.5781 LR: 9.9403e-05\n",
                        "Epoch: [2][250/276]Elapsed 37.28s | Loss: 0.2181 Grad: 79052.5312 LR: 9.8929e-05\n",
                        "Epoch: [2][275/276]Elapsed 41.06s | Loss: 0.2161 Grad: 96524.5391 LR: 9.8628e-05\n"
                    ]
                },
                {
                    "data": {
                        "application/vnd.jupyter.widget-view+json": {
                            "model_id": "dbc90d00a3c64c27874283a2924d4b4c",
                            "version_major": 2,
                            "version_minor": 0
                        },
                        "text/plain": [
                            "Valid:   0%|          | 0/225 [00:00<?, ?batch/s]"
                        ]
                    },
                    "metadata": {},
                    "output_type": "display_data"
                },
                {
                    "name": "stdout",
                    "output_type": "stream",
                    "text": [
                        "Epoch: [2][0/225]Elapsed 0.10s | Loss: 0.4193\n",
                        "Epoch: [2][50/225]Elapsed 4.91s | Loss: 0.4239\n",
                        "Epoch: [2][100/225]Elapsed 9.72s | Loss: 0.4232\n",
                        "Epoch: [2][150/225]Elapsed 14.54s | Loss: 0.4281\n",
                        "Epoch: [2][200/225]Elapsed 19.36s | Loss: 0.3855\n"
                    ]
                },
                {
                    "name": "stderr",
                    "output_type": "stream",
                    "text": [
                        "----------------------------------------------------------------------------------------------------\n",
                        "Epoch 2 - Average Train Loss: 0.2161 | Average Valid Loss: 0.3680 | Time: 62.90s\n",
                        "Best model found in epoch 2 | valid loss: 0.3680\n"
                    ]
                },
                {
                    "data": {
                        "application/vnd.jupyter.widget-view+json": {
                            "model_id": "2d0b303b492444cfb2fc6dedcfc0f7ab",
                            "version_major": 2,
                            "version_minor": 0
                        },
                        "text/plain": [
                            "Train:   0%|          | 0/276 [00:00<?, ?batch/s]"
                        ]
                    },
                    "metadata": {},
                    "output_type": "display_data"
                },
                {
                    "name": "stdout",
                    "output_type": "stream",
                    "text": [
                        "Epoch: [3][0/276]Elapsed 0.10s | Loss: 0.1959 Grad: 92328.6797 LR: 9.8628e-05\n",
                        "Epoch: [3][50/276]Elapsed 7.49s | Loss: 0.2019 Grad: 87683.0703 LR: 9.7948e-05\n",
                        "Epoch: [3][100/276]Elapsed 14.95s | Loss: 0.1976 Grad: 92484.4375 LR: 9.7135e-05\n",
                        "Epoch: [3][150/276]Elapsed 22.39s | Loss: 0.1979 Grad: 77758.9141 LR: 9.6191e-05\n",
                        "Epoch: [3][200/276]Elapsed 29.82s | Loss: 0.1973 Grad: 49590.7148 LR: 9.5119e-05\n",
                        "Epoch: [3][250/276]Elapsed 37.23s | Loss: 0.1951 Grad: 31714.2871 LR: 9.3922e-05\n",
                        "Epoch: [3][275/276]Elapsed 41.00s | Loss: 0.1939 Grad: 62319.5977 LR: 9.3251e-05\n"
                    ]
                },
                {
                    "data": {
                        "application/vnd.jupyter.widget-view+json": {
                            "model_id": "a50cf9518b6846feade440f0e0beb6fb",
                            "version_major": 2,
                            "version_minor": 0
                        },
                        "text/plain": [
                            "Valid:   0%|          | 0/225 [00:00<?, ?batch/s]"
                        ]
                    },
                    "metadata": {},
                    "output_type": "display_data"
                },
                {
                    "name": "stdout",
                    "output_type": "stream",
                    "text": [
                        "Epoch: [3][0/225]Elapsed 0.10s | Loss: 0.4221\n",
                        "Epoch: [3][50/225]Elapsed 4.91s | Loss: 0.4269\n",
                        "Epoch: [3][100/225]Elapsed 9.72s | Loss: 0.4263\n",
                        "Epoch: [3][150/225]Elapsed 14.53s | Loss: 0.4319\n",
                        "Epoch: [3][200/225]Elapsed 19.35s | Loss: 0.3893\n"
                    ]
                },
                {
                    "name": "stderr",
                    "output_type": "stream",
                    "text": [
                        "----------------------------------------------------------------------------------------------------\n",
                        "Epoch 3 - Average Train Loss: 0.1939 | Average Valid Loss: 0.3714 | Time: 62.83s\n"
                    ]
                },
                {
                    "data": {
                        "application/vnd.jupyter.widget-view+json": {
                            "model_id": "352f014eb9b74fc5b0ea1a38b02c0767",
                            "version_major": 2,
                            "version_minor": 0
                        },
                        "text/plain": [
                            "Train:   0%|          | 0/276 [00:00<?, ?batch/s]"
                        ]
                    },
                    "metadata": {},
                    "output_type": "display_data"
                },
                {
                    "name": "stdout",
                    "output_type": "stream",
                    "text": [
                        "Epoch: [4][0/276]Elapsed 0.10s | Loss: 0.2098 Grad: 84611.8516 LR: 9.3251e-05\n",
                        "Epoch: [4][50/276]Elapsed 7.48s | Loss: 0.1855 Grad: 76040.2500 LR: 9.1870e-05\n",
                        "Epoch: [4][100/276]Elapsed 14.91s | Loss: 0.1828 Grad: 70294.7344 LR: 9.0373e-05\n",
                        "Epoch: [4][150/276]Elapsed 22.35s | Loss: 0.1827 Grad: 92194.9141 LR: 8.8763e-05\n",
                        "Epoch: [4][200/276]Elapsed 29.78s | Loss: 0.1819 Grad: 68562.7500 LR: 8.7047e-05\n",
                        "Epoch: [4][250/276]Elapsed 37.19s | Loss: 0.1792 Grad: 63279.1641 LR: 8.5227e-05\n",
                        "Epoch: [4][275/276]Elapsed 40.96s | Loss: 0.1779 Grad: 148717.0156 LR: 8.4242e-05\n"
                    ]
                },
                {
                    "data": {
                        "application/vnd.jupyter.widget-view+json": {
                            "model_id": "f50981771ac441e6be208c00cb5138f5",
                            "version_major": 2,
                            "version_minor": 0
                        },
                        "text/plain": [
                            "Valid:   0%|          | 0/225 [00:00<?, ?batch/s]"
                        ]
                    },
                    "metadata": {},
                    "output_type": "display_data"
                },
                {
                    "name": "stdout",
                    "output_type": "stream",
                    "text": [
                        "Epoch: [4][0/225]Elapsed 0.10s | Loss: 0.4271\n",
                        "Epoch: [4][50/225]Elapsed 4.91s | Loss: 0.4231\n",
                        "Epoch: [4][100/225]Elapsed 9.72s | Loss: 0.4250\n",
                        "Epoch: [4][150/225]Elapsed 14.53s | Loss: 0.4295\n",
                        "Epoch: [4][200/225]Elapsed 19.37s | Loss: 0.3887\n"
                    ]
                },
                {
                    "name": "stderr",
                    "output_type": "stream",
                    "text": [
                        "----------------------------------------------------------------------------------------------------\n",
                        "Epoch 4 - Average Train Loss: 0.1779 | Average Valid Loss: 0.3713 | Time: 62.80s\n"
                    ]
                },
                {
                    "data": {
                        "application/vnd.jupyter.widget-view+json": {
                            "model_id": "3538b3f4c2ed4cb6a646a84cb833a42c",
                            "version_major": 2,
                            "version_minor": 0
                        },
                        "text/plain": [
                            "Train:   0%|          | 0/276 [00:00<?, ?batch/s]"
                        ]
                    },
                    "metadata": {},
                    "output_type": "display_data"
                },
                {
                    "name": "stdout",
                    "output_type": "stream",
                    "text": [
                        "Epoch: [5][0/276]Elapsed 0.10s | Loss: 0.1546 Grad: 102110.0234 LR: 8.4242e-05\n",
                        "Epoch: [5][50/276]Elapsed 7.47s | Loss: 0.1687 Grad: 100745.1719 LR: 8.2275e-05\n",
                        "Epoch: [5][100/276]Elapsed 14.92s | Loss: 0.1676 Grad: 89602.1797 LR: 8.0220e-05\n",
                        "Epoch: [5][150/276]Elapsed 22.37s | Loss: 0.1685 Grad: 65928.7812 LR: 7.8080e-05\n",
                        "Epoch: [5][200/276]Elapsed 29.80s | Loss: 0.1677 Grad: 114546.6953 LR: 7.5863e-05\n",
                        "Epoch: [5][250/276]Elapsed 37.23s | Loss: 0.1656 Grad: 67155.1953 LR: 7.3573e-05\n",
                        "Epoch: [5][275/276]Elapsed 41.02s | Loss: 0.1647 Grad: 114515.9531 LR: 7.2357e-05\n"
                    ]
                },
                {
                    "data": {
                        "application/vnd.jupyter.widget-view+json": {
                            "model_id": "3fc55a9695184052a4294db8b2350f15",
                            "version_major": 2,
                            "version_minor": 0
                        },
                        "text/plain": [
                            "Valid:   0%|          | 0/225 [00:00<?, ?batch/s]"
                        ]
                    },
                    "metadata": {},
                    "output_type": "display_data"
                },
                {
                    "name": "stdout",
                    "output_type": "stream",
                    "text": [
                        "Epoch: [5][0/225]Elapsed 0.10s | Loss: 0.4144\n",
                        "Epoch: [5][50/225]Elapsed 4.91s | Loss: 0.4120\n",
                        "Epoch: [5][100/225]Elapsed 9.72s | Loss: 0.4143\n",
                        "Epoch: [5][150/225]Elapsed 14.53s | Loss: 0.4194\n",
                        "Epoch: [5][200/225]Elapsed 19.35s | Loss: 0.3790\n"
                    ]
                },
                {
                    "name": "stderr",
                    "output_type": "stream",
                    "text": [
                        "----------------------------------------------------------------------------------------------------\n",
                        "Epoch 5 - Average Train Loss: 0.1647 | Average Valid Loss: 0.3621 | Time: 62.84s\n",
                        "Best model found in epoch 5 | valid loss: 0.3621\n"
                    ]
                },
                {
                    "data": {
                        "application/vnd.jupyter.widget-view+json": {
                            "model_id": "be3e5da5aa7c43609a9bc1cf6b167de7",
                            "version_major": 2,
                            "version_minor": 0
                        },
                        "text/plain": [
                            "Train:   0%|          | 0/276 [00:00<?, ?batch/s]"
                        ]
                    },
                    "metadata": {},
                    "output_type": "display_data"
                },
                {
                    "name": "stdout",
                    "output_type": "stream",
                    "text": [
                        "Epoch: [6][0/276]Elapsed 0.10s | Loss: 0.1653 Grad: 84360.8672 LR: 7.2357e-05\n",
                        "Epoch: [6][50/276]Elapsed 7.55s | Loss: 0.1584 Grad: 84387.0000 LR: 6.9971e-05\n",
                        "Epoch: [6][100/276]Elapsed 15.05s | Loss: 0.1566 Grad: 90069.8203 LR: 6.7529e-05\n",
                        "Epoch: [6][150/276]Elapsed 22.54s | Loss: 0.1563 Grad: 57023.3867 LR: 6.5039e-05\n",
                        "Epoch: [6][200/276]Elapsed 30.03s | Loss: 0.1553 Grad: 92074.7344 LR: 6.2507e-05\n",
                        "Epoch: [6][250/276]Elapsed 37.51s | Loss: 0.1538 Grad: 74824.9609 LR: 5.9941e-05\n",
                        "Epoch: [6][275/276]Elapsed 41.30s | Loss: 0.1530 Grad: 109172.1094 LR: 5.8595e-05\n"
                    ]
                },
                {
                    "data": {
                        "application/vnd.jupyter.widget-view+json": {
                            "model_id": "082e7cd60442435a95ab74a3c7986c33",
                            "version_major": 2,
                            "version_minor": 0
                        },
                        "text/plain": [
                            "Valid:   0%|          | 0/225 [00:00<?, ?batch/s]"
                        ]
                    },
                    "metadata": {},
                    "output_type": "display_data"
                },
                {
                    "name": "stdout",
                    "output_type": "stream",
                    "text": [
                        "Epoch: [6][0/225]Elapsed 0.10s | Loss: 0.4185\n",
                        "Epoch: [6][50/225]Elapsed 4.92s | Loss: 0.4109\n",
                        "Epoch: [6][100/225]Elapsed 9.73s | Loss: 0.4115\n",
                        "Epoch: [6][150/225]Elapsed 14.55s | Loss: 0.4173\n",
                        "Epoch: [6][200/225]Elapsed 19.39s | Loss: 0.3788\n"
                    ]
                },
                {
                    "name": "stderr",
                    "output_type": "stream",
                    "text": [
                        "----------------------------------------------------------------------------------------------------\n",
                        "Epoch 6 - Average Train Loss: 0.1530 | Average Valid Loss: 0.3620 | Time: 63.17s\n",
                        "Best model found in epoch 6 | valid loss: 0.3620\n",
                        "====================================================================================================\n",
                        "Fold 2 Valid Loss: (Easy) 0.7918 | (Hard) 0.4190\n",
                        "Elapse: 6.30 min \n",
                        "====================================================================================================\n",
                        "====================================================================================================\n",
                        "Fold: 3 || Valid size 3595 \n",
                        "====================================================================================================\n",
                        "- First Stage \n"
                    ]
                },
                {
                    "data": {
                        "application/vnd.jupyter.widget-view+json": {
                            "model_id": "9c43b0706d1548678498db2bd27a1e4b",
                            "version_major": 2,
                            "version_minor": 0
                        },
                        "text/plain": [
                            "Train:   0%|          | 0/622 [00:00<?, ?batch/s]"
                        ]
                    },
                    "metadata": {},
                    "output_type": "display_data"
                },
                {
                    "name": "stdout",
                    "output_type": "stream",
                    "text": [
                        "Epoch: [1][0/622]Elapsed 0.11s | Loss: 0.8071 Grad: 56681.9375 LR: 4.0000e-06\n",
                        "Epoch: [1][50/622]Elapsed 7.47s | Loss: 0.8235 Grad: 75427.5547 LR: 5.0647e-06\n",
                        "Epoch: [1][100/622]Elapsed 15.00s | Loss: 0.8151 Grad: 75355.6016 LR: 8.2116e-06\n",
                        "Epoch: [1][150/622]Elapsed 22.53s | Loss: 0.8092 Grad: 68175.9766 LR: 1.3301e-05\n",
                        "Epoch: [1][200/622]Elapsed 30.04s | Loss: 0.8019 Grad: 84742.8828 LR: 2.0107e-05\n",
                        "Epoch: [1][250/622]Elapsed 37.52s | Loss: 0.7911 Grad: 91319.9766 LR: 2.8328e-05\n",
                        "Epoch: [1][300/622]Elapsed 44.99s | Loss: 0.7780 Grad: 86660.9141 LR: 3.7599e-05\n",
                        "Epoch: [1][350/622]Elapsed 52.45s | Loss: 0.7626 Grad: 85013.7266 LR: 4.7509e-05\n",
                        "Epoch: [1][400/622]Elapsed 59.90s | Loss: 0.7463 Grad: 112828.6406 LR: 5.7619e-05\n",
                        "Epoch: [1][450/622]Elapsed 67.34s | Loss: 0.7284 Grad: 161642.7031 LR: 6.7479e-05\n",
                        "Epoch: [1][500/622]Elapsed 74.77s | Loss: 0.7124 Grad: 129863.7812 LR: 7.6652e-05\n",
                        "Epoch: [1][550/622]Elapsed 82.21s | Loss: 0.6967 Grad: 62008.5352 LR: 8.4732e-05\n",
                        "Epoch: [1][600/622]Elapsed 89.64s | Loss: 0.6811 Grad: 76707.2344 LR: 9.1359e-05\n",
                        "Epoch: [1][621/622]Elapsed 92.82s | Loss: 0.6743 Grad: 143995.5625 LR: 9.3737e-05\n"
                    ]
                },
                {
                    "data": {
                        "application/vnd.jupyter.widget-view+json": {
                            "model_id": "7a4a6f4d000a490fbeedc3bc67a49409",
                            "version_major": 2,
                            "version_minor": 0
                        },
                        "text/plain": [
                            "Valid:   0%|          | 0/225 [00:00<?, ?batch/s]"
                        ]
                    },
                    "metadata": {},
                    "output_type": "display_data"
                },
                {
                    "name": "stdout",
                    "output_type": "stream",
                    "text": [
                        "Epoch: [1][0/225]Elapsed 0.10s | Loss: 0.3210\n",
                        "Epoch: [1][50/225]Elapsed 4.90s | Loss: 0.4854\n",
                        "Epoch: [1][100/225]Elapsed 9.70s | Loss: 0.4903\n",
                        "Epoch: [1][150/225]Elapsed 14.50s | Loss: 0.4915\n",
                        "Epoch: [1][200/225]Elapsed 19.29s | Loss: 0.4550\n"
                    ]
                },
                {
                    "name": "stderr",
                    "output_type": "stream",
                    "text": [
                        "----------------------------------------------------------------------------------------------------\n",
                        "Epoch 1 - Average Train Loss: 0.6743 | Average Valid Loss: 0.4412 | Time: 114.59s\n",
                        "Best model found in epoch 1 | valid loss: 0.4412\n"
                    ]
                },
                {
                    "data": {
                        "application/vnd.jupyter.widget-view+json": {
                            "model_id": "229bd7ef5845425e837492d75fcb5e3f",
                            "version_major": 2,
                            "version_minor": 0
                        },
                        "text/plain": [
                            "Train:   0%|          | 0/622 [00:00<?, ?batch/s]"
                        ]
                    },
                    "metadata": {},
                    "output_type": "display_data"
                },
                {
                    "name": "stdout",
                    "output_type": "stream",
                    "text": [
                        "Epoch: [2][0/622]Elapsed 0.10s | Loss: 0.4925 Grad: 142003.3281 LR: 9.3737e-05\n",
                        "Epoch: [2][50/622]Elapsed 7.53s | Loss: 0.4414 Grad: 108199.6016 LR: 9.7777e-05\n",
                        "Epoch: [2][100/622]Elapsed 15.03s | Loss: 0.4378 Grad: 75036.5547 LR: 9.9786e-05\n",
                        "Epoch: [2][150/622]Elapsed 22.52s | Loss: 0.4425 Grad: 85748.9375 LR: 9.9996e-05\n",
                        "Epoch: [2][200/622]Elapsed 30.00s | Loss: 0.4397 Grad: 117653.7031 LR: 9.9967e-05\n",
                        "Epoch: [2][250/622]Elapsed 37.48s | Loss: 0.4302 Grad: 96392.5469 LR: 9.9911e-05\n",
                        "Epoch: [2][300/622]Elapsed 44.95s | Loss: 0.4277 Grad: 87809.4844 LR: 9.9828e-05\n",
                        "Epoch: [2][350/622]Elapsed 52.40s | Loss: 0.4245 Grad: 80133.6641 LR: 9.9717e-05\n",
                        "Epoch: [2][400/622]Elapsed 59.85s | Loss: 0.4195 Grad: 94259.6953 LR: 9.9579e-05\n",
                        "Epoch: [2][450/622]Elapsed 67.31s | Loss: 0.4137 Grad: 100417.7812 LR: 9.9415e-05\n",
                        "Epoch: [2][500/622]Elapsed 74.75s | Loss: 0.4128 Grad: 43856.7578 LR: 9.9223e-05\n",
                        "Epoch: [2][550/622]Elapsed 82.17s | Loss: 0.4105 Grad: 33022.3555 LR: 9.9004e-05\n",
                        "Epoch: [2][600/622]Elapsed 89.63s | Loss: 0.4078 Grad: 29235.6465 LR: 9.8758e-05\n",
                        "Epoch: [2][621/622]Elapsed 92.83s | Loss: 0.4070 Grad: 51983.1094 LR: 9.8642e-05\n"
                    ]
                },
                {
                    "data": {
                        "application/vnd.jupyter.widget-view+json": {
                            "model_id": "b70cc263157249edbfe32387a85d9a2c",
                            "version_major": 2,
                            "version_minor": 0
                        },
                        "text/plain": [
                            "Valid:   0%|          | 0/225 [00:00<?, ?batch/s]"
                        ]
                    },
                    "metadata": {},
                    "output_type": "display_data"
                },
                {
                    "name": "stdout",
                    "output_type": "stream",
                    "text": [
                        "Epoch: [2][0/225]Elapsed 0.11s | Loss: 0.2977\n",
                        "Epoch: [2][50/225]Elapsed 4.90s | Loss: 0.4042\n",
                        "Epoch: [2][100/225]Elapsed 9.70s | Loss: 0.4095\n",
                        "Epoch: [2][150/225]Elapsed 14.50s | Loss: 0.4100\n",
                        "Epoch: [2][200/225]Elapsed 19.30s | Loss: 0.3839\n"
                    ]
                },
                {
                    "name": "stderr",
                    "output_type": "stream",
                    "text": [
                        "----------------------------------------------------------------------------------------------------\n",
                        "Epoch 2 - Average Train Loss: 0.4070 | Average Valid Loss: 0.3741 | Time: 114.62s\n",
                        "Best model found in epoch 2 | valid loss: 0.3741\n"
                    ]
                },
                {
                    "data": {
                        "application/vnd.jupyter.widget-view+json": {
                            "model_id": "840a789c0a3242eaaf8e12208c59daa4",
                            "version_major": 2,
                            "version_minor": 0
                        },
                        "text/plain": [
                            "Train:   0%|          | 0/622 [00:00<?, ?batch/s]"
                        ]
                    },
                    "metadata": {},
                    "output_type": "display_data"
                },
                {
                    "name": "stdout",
                    "output_type": "stream",
                    "text": [
                        "Epoch: [3][0/622]Elapsed 0.11s | Loss: 0.4241 Grad: inf LR: 9.8642e-05\n",
                        "Epoch: [3][50/622]Elapsed 7.54s | Loss: 0.3365 Grad: 87448.8672 LR: 9.8358e-05\n",
                        "Epoch: [3][100/622]Elapsed 15.04s | Loss: 0.3349 Grad: 59634.7422 LR: 9.8048e-05\n",
                        "Epoch: [3][150/622]Elapsed 22.56s | Loss: 0.3441 Grad: 96537.9297 LR: 9.7711e-05\n",
                        "Epoch: [3][200/622]Elapsed 30.02s | Loss: 0.3409 Grad: 116119.0469 LR: 9.7349e-05\n",
                        "Epoch: [3][250/622]Elapsed 37.48s | Loss: 0.3378 Grad: 94611.9141 LR: 9.6960e-05\n",
                        "Epoch: [3][300/622]Elapsed 44.94s | Loss: 0.3374 Grad: 32601.0527 LR: 9.6546e-05\n",
                        "Epoch: [3][350/622]Elapsed 52.38s | Loss: 0.3354 Grad: 37633.7188 LR: 9.6106e-05\n",
                        "Epoch: [3][400/622]Elapsed 59.80s | Loss: 0.3333 Grad: 37113.2031 LR: 9.5642e-05\n",
                        "Epoch: [3][450/622]Elapsed 67.23s | Loss: 0.3297 Grad: 45700.6289 LR: 9.5152e-05\n",
                        "Epoch: [3][500/622]Elapsed 74.65s | Loss: 0.3299 Grad: 49161.8516 LR: 9.4638e-05\n",
                        "Epoch: [3][550/622]Elapsed 82.07s | Loss: 0.3304 Grad: 32452.8320 LR: 9.4099e-05\n",
                        "Epoch: [3][600/622]Elapsed 89.49s | Loss: 0.3297 Grad: 31184.5488 LR: 9.3536e-05\n",
                        "Epoch: [3][621/622]Elapsed 92.67s | Loss: 0.3292 Grad: 57118.2852 LR: 9.3281e-05\n"
                    ]
                },
                {
                    "data": {
                        "application/vnd.jupyter.widget-view+json": {
                            "model_id": "ff2188b891e74610b263c0d24fd102d4",
                            "version_major": 2,
                            "version_minor": 0
                        },
                        "text/plain": [
                            "Valid:   0%|          | 0/225 [00:00<?, ?batch/s]"
                        ]
                    },
                    "metadata": {},
                    "output_type": "display_data"
                },
                {
                    "name": "stdout",
                    "output_type": "stream",
                    "text": [
                        "Epoch: [3][0/225]Elapsed 0.10s | Loss: 0.2881\n",
                        "Epoch: [3][50/225]Elapsed 4.90s | Loss: 0.3992\n",
                        "Epoch: [3][100/225]Elapsed 9.69s | Loss: 0.3977\n",
                        "Epoch: [3][150/225]Elapsed 14.50s | Loss: 0.3999\n",
                        "Epoch: [3][200/225]Elapsed 19.31s | Loss: 0.3793\n"
                    ]
                },
                {
                    "name": "stderr",
                    "output_type": "stream",
                    "text": [
                        "----------------------------------------------------------------------------------------------------\n",
                        "Epoch 3 - Average Train Loss: 0.3292 | Average Valid Loss: 0.3722 | Time: 114.45s\n",
                        "Best model found in epoch 3 | valid loss: 0.3722\n"
                    ]
                },
                {
                    "data": {
                        "application/vnd.jupyter.widget-view+json": {
                            "model_id": "78f098f521844301b5b8cc37972c2022",
                            "version_major": 2,
                            "version_minor": 0
                        },
                        "text/plain": [
                            "Train:   0%|          | 0/622 [00:00<?, ?batch/s]"
                        ]
                    },
                    "metadata": {},
                    "output_type": "display_data"
                },
                {
                    "name": "stdout",
                    "output_type": "stream",
                    "text": [
                        "Epoch: [4][0/622]Elapsed 0.10s | Loss: 0.3340 Grad: 144102.5156 LR: 9.3281e-05\n",
                        "Epoch: [4][50/622]Elapsed 7.51s | Loss: 0.2840 Grad: 92824.4922 LR: 9.2683e-05\n",
                        "Epoch: [4][100/622]Elapsed 14.99s | Loss: 0.2840 Grad: 94238.6406 LR: 9.2063e-05\n",
                        "Epoch: [4][150/622]Elapsed 22.47s | Loss: 0.2937 Grad: 99510.3750 LR: 9.1420e-05\n",
                        "Epoch: [4][200/622]Elapsed 29.94s | Loss: 0.2918 Grad: 98769.4219 LR: 9.0754e-05\n",
                        "Epoch: [4][250/622]Elapsed 37.40s | Loss: 0.2891 Grad: 36087.4648 LR: 9.0065e-05\n",
                        "Epoch: [4][300/622]Elapsed 44.88s | Loss: 0.2908 Grad: 55202.4961 LR: 8.9355e-05\n",
                        "Epoch: [4][350/622]Elapsed 52.32s | Loss: 0.2891 Grad: 20939.6992 LR: 8.8624e-05\n",
                        "Epoch: [4][400/622]Elapsed 59.76s | Loss: 0.2870 Grad: 40792.0625 LR: 8.7871e-05\n",
                        "Epoch: [4][450/622]Elapsed 67.17s | Loss: 0.2832 Grad: 51698.8203 LR: 8.7097e-05\n",
                        "Epoch: [4][500/622]Elapsed 74.59s | Loss: 0.2836 Grad: 39727.1719 LR: 8.6303e-05\n",
                        "Epoch: [4][550/622]Elapsed 82.03s | Loss: 0.2848 Grad: 34145.7344 LR: 8.5490e-05\n",
                        "Epoch: [4][600/622]Elapsed 89.44s | Loss: 0.2846 Grad: 23065.2285 LR: 8.4657e-05\n",
                        "Epoch: [4][621/622]Elapsed 92.63s | Loss: 0.2845 Grad: 47958.9844 LR: 8.4284e-05\n"
                    ]
                },
                {
                    "data": {
                        "application/vnd.jupyter.widget-view+json": {
                            "model_id": "290d451b87654690b94711d11e5a0d48",
                            "version_major": 2,
                            "version_minor": 0
                        },
                        "text/plain": [
                            "Valid:   0%|          | 0/225 [00:00<?, ?batch/s]"
                        ]
                    },
                    "metadata": {},
                    "output_type": "display_data"
                },
                {
                    "name": "stdout",
                    "output_type": "stream",
                    "text": [
                        "Epoch: [4][0/225]Elapsed 0.11s | Loss: 0.3168\n",
                        "Epoch: [4][50/225]Elapsed 4.91s | Loss: 0.3872\n",
                        "Epoch: [4][100/225]Elapsed 9.71s | Loss: 0.3871\n",
                        "Epoch: [4][150/225]Elapsed 14.51s | Loss: 0.3891\n",
                        "Epoch: [4][200/225]Elapsed 19.32s | Loss: 0.3756\n"
                    ]
                },
                {
                    "name": "stderr",
                    "output_type": "stream",
                    "text": [
                        "----------------------------------------------------------------------------------------------------\n",
                        "Epoch 4 - Average Train Loss: 0.2845 | Average Valid Loss: 0.3711 | Time: 114.43s\n",
                        "Best model found in epoch 4 | valid loss: 0.3711\n"
                    ]
                },
                {
                    "data": {
                        "application/vnd.jupyter.widget-view+json": {
                            "model_id": "10f17484eac74a07b7363a71e98e7fcc",
                            "version_major": 2,
                            "version_minor": 0
                        },
                        "text/plain": [
                            "Train:   0%|          | 0/622 [00:00<?, ?batch/s]"
                        ]
                    },
                    "metadata": {},
                    "output_type": "display_data"
                },
                {
                    "name": "stdout",
                    "output_type": "stream",
                    "text": [
                        "Epoch: [5][0/622]Elapsed 0.10s | Loss: 0.3361 Grad: 170578.5469 LR: 8.4284e-05\n",
                        "Epoch: [5][50/622]Elapsed 7.55s | Loss: 0.2494 Grad: 92229.4844 LR: 8.3424e-05\n",
                        "Epoch: [5][100/622]Elapsed 15.03s | Loss: 0.2550 Grad: 39197.8164 LR: 8.2546e-05\n",
                        "Epoch: [5][150/622]Elapsed 22.63s | Loss: 0.2636 Grad: 59729.1719 LR: 8.1650e-05\n",
                        "Epoch: [5][200/622]Elapsed 30.09s | Loss: 0.2621 Grad: 98212.9297 LR: 8.0736e-05\n",
                        "Epoch: [5][250/622]Elapsed 37.54s | Loss: 0.2598 Grad: 51410.2773 LR: 7.9806e-05\n",
                        "Epoch: [5][300/622]Elapsed 44.99s | Loss: 0.2601 Grad: 46727.7695 LR: 7.8859e-05\n",
                        "Epoch: [5][350/622]Elapsed 52.44s | Loss: 0.2581 Grad: 39333.8555 LR: 7.7897e-05\n",
                        "Epoch: [5][400/622]Elapsed 59.88s | Loss: 0.2554 Grad: 58909.5586 LR: 7.6920e-05\n",
                        "Epoch: [5][450/622]Elapsed 67.29s | Loss: 0.2518 Grad: 40708.9336 LR: 7.5927e-05\n",
                        "Epoch: [5][500/622]Elapsed 74.70s | Loss: 0.2515 Grad: 47923.7891 LR: 7.4921e-05\n",
                        "Epoch: [5][550/622]Elapsed 82.12s | Loss: 0.2510 Grad: 32817.4453 LR: 7.3901e-05\n",
                        "Epoch: [5][600/622]Elapsed 89.53s | Loss: 0.2517 Grad: 31809.7578 LR: 7.2868e-05\n",
                        "Epoch: [5][621/622]Elapsed 92.71s | Loss: 0.2515 Grad: 42947.6094 LR: 7.2409e-05\n"
                    ]
                },
                {
                    "data": {
                        "application/vnd.jupyter.widget-view+json": {
                            "model_id": "1033606ad04f4e40b14fcfdbd21be3a7",
                            "version_major": 2,
                            "version_minor": 0
                        },
                        "text/plain": [
                            "Valid:   0%|          | 0/225 [00:00<?, ?batch/s]"
                        ]
                    },
                    "metadata": {},
                    "output_type": "display_data"
                },
                {
                    "name": "stdout",
                    "output_type": "stream",
                    "text": [
                        "Epoch: [5][0/225]Elapsed 0.10s | Loss: 0.3108\n",
                        "Epoch: [5][50/225]Elapsed 4.88s | Loss: 0.3949\n",
                        "Epoch: [5][100/225]Elapsed 9.65s | Loss: 0.3942\n",
                        "Epoch: [5][150/225]Elapsed 14.43s | Loss: 0.3979\n",
                        "Epoch: [5][200/225]Elapsed 19.21s | Loss: 0.3873\n"
                    ]
                },
                {
                    "name": "stderr",
                    "output_type": "stream",
                    "text": [
                        "----------------------------------------------------------------------------------------------------\n",
                        "Epoch 5 - Average Train Loss: 0.2515 | Average Valid Loss: 0.3836 | Time: 114.39s\n"
                    ]
                },
                {
                    "data": {
                        "application/vnd.jupyter.widget-view+json": {
                            "model_id": "6ceef6b3cc8646149d97ed1db7f131ae",
                            "version_major": 2,
                            "version_minor": 0
                        },
                        "text/plain": [
                            "Train:   0%|          | 0/622 [00:00<?, ?batch/s]"
                        ]
                    },
                    "metadata": {},
                    "output_type": "display_data"
                },
                {
                    "name": "stdout",
                    "output_type": "stream",
                    "text": [
                        "Epoch: [6][0/622]Elapsed 0.10s | Loss: 0.3335 Grad: nan LR: 7.2409e-05\n",
                        "Epoch: [6][50/622]Elapsed 7.51s | Loss: 0.2295 Grad: 65706.7891 LR: 7.1358e-05\n",
                        "Epoch: [6][100/622]Elapsed 15.01s | Loss: 0.2261 Grad: 39899.6328 LR: 7.0296e-05\n",
                        "Epoch: [6][150/622]Elapsed 22.48s | Loss: 0.2332 Grad: 89253.2500 LR: 6.9222e-05\n",
                        "Epoch: [6][200/622]Elapsed 29.96s | Loss: 0.2304 Grad: 57811.9492 LR: 6.8138e-05\n",
                        "Epoch: [6][250/622]Elapsed 37.42s | Loss: 0.2283 Grad: 37294.6016 LR: 6.7044e-05\n",
                        "Epoch: [6][300/622]Elapsed 44.87s | Loss: 0.2283 Grad: 31144.8770 LR: 6.5940e-05\n",
                        "Epoch: [6][350/622]Elapsed 52.32s | Loss: 0.2264 Grad: 22796.5508 LR: 6.4828e-05\n",
                        "Epoch: [6][400/622]Elapsed 59.77s | Loss: 0.2248 Grad: 25940.8809 LR: 6.3708e-05\n",
                        "Epoch: [6][450/622]Elapsed 67.20s | Loss: 0.2225 Grad: 27759.6777 LR: 6.2581e-05\n",
                        "Epoch: [6][500/622]Elapsed 74.63s | Loss: 0.2229 Grad: 29006.5645 LR: 6.1446e-05\n",
                        "Epoch: [6][550/622]Elapsed 82.04s | Loss: 0.2222 Grad: 22640.0645 LR: 6.0305e-05\n",
                        "Epoch: [6][600/622]Elapsed 89.44s | Loss: 0.2225 Grad: 21000.3555 LR: 5.9159e-05\n",
                        "Epoch: [6][621/622]Elapsed 92.63s | Loss: 0.2224 Grad: 30891.5176 LR: 5.8653e-05\n"
                    ]
                },
                {
                    "data": {
                        "application/vnd.jupyter.widget-view+json": {
                            "model_id": "c4fcf4571b0c44a78f6a97484224767c",
                            "version_major": 2,
                            "version_minor": 0
                        },
                        "text/plain": [
                            "Valid:   0%|          | 0/225 [00:00<?, ?batch/s]"
                        ]
                    },
                    "metadata": {},
                    "output_type": "display_data"
                },
                {
                    "name": "stdout",
                    "output_type": "stream",
                    "text": [
                        "Epoch: [6][0/225]Elapsed 0.10s | Loss: 0.3335\n",
                        "Epoch: [6][50/225]Elapsed 4.88s | Loss: 0.4057\n",
                        "Epoch: [6][100/225]Elapsed 9.66s | Loss: 0.4057\n",
                        "Epoch: [6][150/225]Elapsed 14.44s | Loss: 0.4074\n",
                        "Epoch: [6][200/225]Elapsed 19.22s | Loss: 0.3996\n"
                    ]
                },
                {
                    "name": "stderr",
                    "output_type": "stream",
                    "text": [
                        "----------------------------------------------------------------------------------------------------\n",
                        "Epoch 6 - Average Train Loss: 0.2224 | Average Valid Loss: 0.3971 | Time: 114.31s\n",
                        "====================================================================================================\n",
                        "Fold 3 Valid Loss: (Easy) 0.7104 | (Hard) 0.6014\n",
                        "Elapse: 11.46 min \n",
                        "====================================================================================================\n",
                        "- Second Stage \n",
                        "Use Checkpoint: ENet_b2_xymasking_regularized_fold_3_stage_1.pth\n"
                    ]
                },
                {
                    "data": {
                        "application/vnd.jupyter.widget-view+json": {
                            "model_id": "7c00fe2f53dc4903ba7b7d95a7bb5dd3",
                            "version_major": 2,
                            "version_minor": 0
                        },
                        "text/plain": [
                            "Train:   0%|          | 0/276 [00:00<?, ?batch/s]"
                        ]
                    },
                    "metadata": {},
                    "output_type": "display_data"
                },
                {
                    "name": "stdout",
                    "output_type": "stream",
                    "text": [
                        "Epoch: [1][0/276]Elapsed 0.10s | Loss: 0.4914 Grad: nan LR: 4.0000e-06\n"
                    ]
                },
                {
                    "name": "stderr",
                    "output_type": "stream",
                    "text": [
                        "/home/shiyi/miniconda3/envs/kaggle/lib/python3.11/site-packages/torch/optim/lr_scheduler.py:143: UserWarning: Detected call of `lr_scheduler.step()` before `optimizer.step()`. In PyTorch 1.1.0 and later, you should call them in the opposite order: `optimizer.step()` before `lr_scheduler.step()`.  Failure to do this will result in PyTorch skipping the first value of the learning rate schedule. See more details at https://pytorch.org/docs/stable/optim.html#how-to-adjust-learning-rate\n",
                        "  warnings.warn(\"Detected call of `lr_scheduler.step()` before `optimizer.step()`. \"\n"
                    ]
                },
                {
                    "name": "stdout",
                    "output_type": "stream",
                    "text": [
                        "Epoch: [1][50/276]Elapsed 7.46s | Loss: 0.4076 Grad: 52081.0625 LR: 9.3614e-06\n",
                        "Epoch: [1][100/276]Elapsed 14.95s | Loss: 0.3746 Grad: 59001.4258 LR: 2.4248e-05\n",
                        "Epoch: [1][150/276]Elapsed 22.43s | Loss: 0.3505 Grad: 33746.2891 LR: 4.5334e-05\n",
                        "Epoch: [1][200/276]Elapsed 29.89s | Loss: 0.3300 Grad: 27624.1074 LR: 6.7909e-05\n",
                        "Epoch: [1][250/276]Elapsed 37.34s | Loss: 0.3137 Grad: 23597.0312 LR: 8.6930e-05\n",
                        "Epoch: [1][275/276]Elapsed 41.13s | Loss: 0.3057 Grad: 34472.6133 LR: 9.3946e-05\n"
                    ]
                },
                {
                    "data": {
                        "application/vnd.jupyter.widget-view+json": {
                            "model_id": "20d19529b23f4a019bf8ce52fc3ae18c",
                            "version_major": 2,
                            "version_minor": 0
                        },
                        "text/plain": [
                            "Valid:   0%|          | 0/225 [00:00<?, ?batch/s]"
                        ]
                    },
                    "metadata": {},
                    "output_type": "display_data"
                },
                {
                    "name": "stdout",
                    "output_type": "stream",
                    "text": [
                        "Epoch: [1][0/225]Elapsed 0.11s | Loss: 0.3532\n",
                        "Epoch: [1][50/225]Elapsed 4.89s | Loss: 0.4348\n",
                        "Epoch: [1][100/225]Elapsed 9.68s | Loss: 0.4407\n",
                        "Epoch: [1][150/225]Elapsed 14.46s | Loss: 0.4423\n",
                        "Epoch: [1][200/225]Elapsed 19.25s | Loss: 0.3955\n"
                    ]
                },
                {
                    "name": "stderr",
                    "output_type": "stream",
                    "text": [
                        "----------------------------------------------------------------------------------------------------\n",
                        "Epoch 1 - Average Train Loss: 0.3057 | Average Valid Loss: 0.3773 | Time: 62.84s\n",
                        "Best model found in epoch 1 | valid loss: 0.3773\n"
                    ]
                },
                {
                    "data": {
                        "application/vnd.jupyter.widget-view+json": {
                            "model_id": "ef6dc6c625fd4424bf09e1b65f3e5f7f",
                            "version_major": 2,
                            "version_minor": 0
                        },
                        "text/plain": [
                            "Train:   0%|          | 0/276 [00:00<?, ?batch/s]"
                        ]
                    },
                    "metadata": {},
                    "output_type": "display_data"
                },
                {
                    "name": "stdout",
                    "output_type": "stream",
                    "text": [
                        "Epoch: [2][0/276]Elapsed 0.10s | Loss: 0.2783 Grad: inf LR: 9.3946e-05\n",
                        "Epoch: [2][50/276]Elapsed 7.55s | Loss: 0.2316 Grad: 54934.4297 LR: 9.9978e-05\n",
                        "Epoch: [2][100/276]Elapsed 15.07s | Loss: 0.2233 Grad: 59994.3047 LR: 9.9939e-05\n",
                        "Epoch: [2][150/276]Elapsed 22.57s | Loss: 0.2213 Grad: 47690.7852 LR: 9.9740e-05\n",
                        "Epoch: [2][200/276]Elapsed 30.04s | Loss: 0.2205 Grad: 41387.6797 LR: 9.9403e-05\n",
                        "Epoch: [2][250/276]Elapsed 37.50s | Loss: 0.2180 Grad: 55251.9141 LR: 9.8929e-05\n",
                        "Epoch: [2][275/276]Elapsed 41.29s | Loss: 0.2158 Grad: 66260.8281 LR: 9.8628e-05\n"
                    ]
                },
                {
                    "data": {
                        "application/vnd.jupyter.widget-view+json": {
                            "model_id": "a430995152bf4cc3b370b80f7bffde8e",
                            "version_major": 2,
                            "version_minor": 0
                        },
                        "text/plain": [
                            "Valid:   0%|          | 0/225 [00:00<?, ?batch/s]"
                        ]
                    },
                    "metadata": {},
                    "output_type": "display_data"
                },
                {
                    "name": "stdout",
                    "output_type": "stream",
                    "text": [
                        "Epoch: [2][0/225]Elapsed 0.10s | Loss: 0.3515\n",
                        "Epoch: [2][50/225]Elapsed 4.89s | Loss: 0.4257\n",
                        "Epoch: [2][100/225]Elapsed 9.67s | Loss: 0.4311\n",
                        "Epoch: [2][150/225]Elapsed 14.45s | Loss: 0.4333\n",
                        "Epoch: [2][200/225]Elapsed 19.23s | Loss: 0.3862\n"
                    ]
                },
                {
                    "name": "stderr",
                    "output_type": "stream",
                    "text": [
                        "----------------------------------------------------------------------------------------------------\n",
                        "Epoch 2 - Average Train Loss: 0.2158 | Average Valid Loss: 0.3677 | Time: 62.99s\n",
                        "Best model found in epoch 2 | valid loss: 0.3677\n"
                    ]
                },
                {
                    "data": {
                        "application/vnd.jupyter.widget-view+json": {
                            "model_id": "1e14ed95396a48dcbc2e565ebaf49cf8",
                            "version_major": 2,
                            "version_minor": 0
                        },
                        "text/plain": [
                            "Train:   0%|          | 0/276 [00:00<?, ?batch/s]"
                        ]
                    },
                    "metadata": {},
                    "output_type": "display_data"
                },
                {
                    "name": "stdout",
                    "output_type": "stream",
                    "text": [
                        "Epoch: [3][0/276]Elapsed 0.10s | Loss: 0.2499 Grad: 132886.4375 LR: 9.8628e-05\n",
                        "Epoch: [3][50/276]Elapsed 7.55s | Loss: 0.2067 Grad: 51808.4844 LR: 9.7948e-05\n",
                        "Epoch: [3][100/276]Elapsed 15.07s | Loss: 0.1994 Grad: 51422.5977 LR: 9.7135e-05\n",
                        "Epoch: [3][150/276]Elapsed 22.59s | Loss: 0.1962 Grad: 58891.8672 LR: 9.6191e-05\n",
                        "Epoch: [3][200/276]Elapsed 30.08s | Loss: 0.1962 Grad: 40505.0117 LR: 9.5119e-05\n",
                        "Epoch: [3][250/276]Elapsed 37.55s | Loss: 0.1953 Grad: 41967.5000 LR: 9.3922e-05\n",
                        "Epoch: [3][275/276]Elapsed 41.34s | Loss: 0.1937 Grad: 57312.7266 LR: 9.3251e-05\n"
                    ]
                },
                {
                    "data": {
                        "application/vnd.jupyter.widget-view+json": {
                            "model_id": "814610da691e4644b41fec2a02eb499e",
                            "version_major": 2,
                            "version_minor": 0
                        },
                        "text/plain": [
                            "Valid:   0%|          | 0/225 [00:00<?, ?batch/s]"
                        ]
                    },
                    "metadata": {},
                    "output_type": "display_data"
                },
                {
                    "name": "stdout",
                    "output_type": "stream",
                    "text": [
                        "Epoch: [3][0/225]Elapsed 0.10s | Loss: 0.3594\n",
                        "Epoch: [3][50/225]Elapsed 4.90s | Loss: 0.4110\n",
                        "Epoch: [3][100/225]Elapsed 9.68s | Loss: 0.4163\n",
                        "Epoch: [3][150/225]Elapsed 14.45s | Loss: 0.4176\n",
                        "Epoch: [3][200/225]Elapsed 19.24s | Loss: 0.3729\n"
                    ]
                },
                {
                    "name": "stderr",
                    "output_type": "stream",
                    "text": [
                        "----------------------------------------------------------------------------------------------------\n",
                        "Epoch 3 - Average Train Loss: 0.1937 | Average Valid Loss: 0.3553 | Time: 63.05s\n",
                        "Best model found in epoch 3 | valid loss: 0.3553\n"
                    ]
                },
                {
                    "data": {
                        "application/vnd.jupyter.widget-view+json": {
                            "model_id": "6466d400099c4d42a9cce0f9959805c4",
                            "version_major": 2,
                            "version_minor": 0
                        },
                        "text/plain": [
                            "Train:   0%|          | 0/276 [00:00<?, ?batch/s]"
                        ]
                    },
                    "metadata": {},
                    "output_type": "display_data"
                },
                {
                    "name": "stdout",
                    "output_type": "stream",
                    "text": [
                        "Epoch: [4][0/276]Elapsed 0.10s | Loss: 0.2216 Grad: 106404.8672 LR: 9.3251e-05\n",
                        "Epoch: [4][50/276]Elapsed 7.53s | Loss: 0.1865 Grad: 54526.3789 LR: 9.1870e-05\n",
                        "Epoch: [4][100/276]Elapsed 15.03s | Loss: 0.1812 Grad: 48116.0742 LR: 9.0373e-05\n",
                        "Epoch: [4][150/276]Elapsed 22.55s | Loss: 0.1797 Grad: 51689.0938 LR: 8.8763e-05\n",
                        "Epoch: [4][200/276]Elapsed 30.06s | Loss: 0.1798 Grad: 53267.5508 LR: 8.7047e-05\n",
                        "Epoch: [4][250/276]Elapsed 37.54s | Loss: 0.1793 Grad: 55354.0547 LR: 8.5227e-05\n",
                        "Epoch: [4][275/276]Elapsed 41.35s | Loss: 0.1781 Grad: 49070.4727 LR: 8.4242e-05\n"
                    ]
                },
                {
                    "data": {
                        "application/vnd.jupyter.widget-view+json": {
                            "model_id": "cc92cf07d76549c195bef7cbdefa6c13",
                            "version_major": 2,
                            "version_minor": 0
                        },
                        "text/plain": [
                            "Valid:   0%|          | 0/225 [00:00<?, ?batch/s]"
                        ]
                    },
                    "metadata": {},
                    "output_type": "display_data"
                },
                {
                    "name": "stdout",
                    "output_type": "stream",
                    "text": [
                        "Epoch: [4][0/225]Elapsed 0.11s | Loss: 0.3523\n",
                        "Epoch: [4][50/225]Elapsed 4.89s | Loss: 0.4043\n",
                        "Epoch: [4][100/225]Elapsed 9.67s | Loss: 0.4084\n",
                        "Epoch: [4][150/225]Elapsed 14.46s | Loss: 0.4109\n",
                        "Epoch: [4][200/225]Elapsed 19.26s | Loss: 0.3678\n"
                    ]
                },
                {
                    "name": "stderr",
                    "output_type": "stream",
                    "text": [
                        "----------------------------------------------------------------------------------------------------\n",
                        "Epoch 4 - Average Train Loss: 0.1781 | Average Valid Loss: 0.3509 | Time: 63.09s\n",
                        "Best model found in epoch 4 | valid loss: 0.3509\n"
                    ]
                },
                {
                    "data": {
                        "application/vnd.jupyter.widget-view+json": {
                            "model_id": "0b05fcd6c2ad40a4af3e4795a7a8f34d",
                            "version_major": 2,
                            "version_minor": 0
                        },
                        "text/plain": [
                            "Train:   0%|          | 0/276 [00:00<?, ?batch/s]"
                        ]
                    },
                    "metadata": {},
                    "output_type": "display_data"
                },
                {
                    "name": "stdout",
                    "output_type": "stream",
                    "text": [
                        "Epoch: [5][0/276]Elapsed 0.10s | Loss: 0.2086 Grad: 109730.6797 LR: 8.4242e-05\n",
                        "Epoch: [5][50/276]Elapsed 7.56s | Loss: 0.1772 Grad: 45801.2461 LR: 8.2275e-05\n",
                        "Epoch: [5][100/276]Elapsed 15.09s | Loss: 0.1714 Grad: 47489.1523 LR: 8.0220e-05\n",
                        "Epoch: [5][150/276]Elapsed 22.60s | Loss: 0.1684 Grad: 47065.4688 LR: 7.8080e-05\n",
                        "Epoch: [5][200/276]Elapsed 30.11s | Loss: 0.1683 Grad: 48507.8203 LR: 7.5863e-05\n",
                        "Epoch: [5][250/276]Elapsed 37.60s | Loss: 0.1676 Grad: 44410.2617 LR: 7.3573e-05\n",
                        "Epoch: [5][275/276]Elapsed 41.40s | Loss: 0.1667 Grad: 51129.4297 LR: 7.2357e-05\n"
                    ]
                },
                {
                    "data": {
                        "application/vnd.jupyter.widget-view+json": {
                            "model_id": "aee13aa3227b4bc0950271f49c82be7e",
                            "version_major": 2,
                            "version_minor": 0
                        },
                        "text/plain": [
                            "Valid:   0%|          | 0/225 [00:00<?, ?batch/s]"
                        ]
                    },
                    "metadata": {},
                    "output_type": "display_data"
                },
                {
                    "name": "stdout",
                    "output_type": "stream",
                    "text": [
                        "Epoch: [5][0/225]Elapsed 0.11s | Loss: 0.3604\n",
                        "Epoch: [5][50/225]Elapsed 4.89s | Loss: 0.3988\n",
                        "Epoch: [5][100/225]Elapsed 9.67s | Loss: 0.4026\n",
                        "Epoch: [5][150/225]Elapsed 14.45s | Loss: 0.4051\n",
                        "Epoch: [5][200/225]Elapsed 19.24s | Loss: 0.3640\n"
                    ]
                },
                {
                    "name": "stderr",
                    "output_type": "stream",
                    "text": [
                        "----------------------------------------------------------------------------------------------------\n",
                        "Epoch 5 - Average Train Loss: 0.1667 | Average Valid Loss: 0.3476 | Time: 63.10s\n",
                        "Best model found in epoch 5 | valid loss: 0.3476\n"
                    ]
                },
                {
                    "data": {
                        "application/vnd.jupyter.widget-view+json": {
                            "model_id": "eb8711c4ae56436ea83888ce6b4189b3",
                            "version_major": 2,
                            "version_minor": 0
                        },
                        "text/plain": [
                            "Train:   0%|          | 0/276 [00:00<?, ?batch/s]"
                        ]
                    },
                    "metadata": {},
                    "output_type": "display_data"
                },
                {
                    "name": "stdout",
                    "output_type": "stream",
                    "text": [
                        "Epoch: [6][0/276]Elapsed 0.12s | Loss: 0.2185 Grad: inf LR: 7.2357e-05\n",
                        "Epoch: [6][50/276]Elapsed 7.57s | Loss: 0.1635 Grad: 42386.9375 LR: 6.9971e-05\n",
                        "Epoch: [6][100/276]Elapsed 15.07s | Loss: 0.1574 Grad: 57240.2266 LR: 6.7529e-05\n",
                        "Epoch: [6][150/276]Elapsed 22.58s | Loss: 0.1563 Grad: 37466.2891 LR: 6.5039e-05\n",
                        "Epoch: [6][200/276]Elapsed 30.06s | Loss: 0.1563 Grad: 43469.8164 LR: 6.2507e-05\n",
                        "Epoch: [6][250/276]Elapsed 37.56s | Loss: 0.1563 Grad: 54923.1406 LR: 5.9941e-05\n",
                        "Epoch: [6][275/276]Elapsed 41.36s | Loss: 0.1555 Grad: 39737.1992 LR: 5.8595e-05\n"
                    ]
                },
                {
                    "data": {
                        "application/vnd.jupyter.widget-view+json": {
                            "model_id": "ffabfcaa64864510b6185d3da0bd492e",
                            "version_major": 2,
                            "version_minor": 0
                        },
                        "text/plain": [
                            "Valid:   0%|          | 0/225 [00:00<?, ?batch/s]"
                        ]
                    },
                    "metadata": {},
                    "output_type": "display_data"
                },
                {
                    "name": "stdout",
                    "output_type": "stream",
                    "text": [
                        "Epoch: [6][0/225]Elapsed 0.10s | Loss: 0.3589\n",
                        "Epoch: [6][50/225]Elapsed 4.88s | Loss: 0.4011\n",
                        "Epoch: [6][100/225]Elapsed 9.66s | Loss: 0.4051\n",
                        "Epoch: [6][150/225]Elapsed 14.45s | Loss: 0.4082\n",
                        "Epoch: [6][200/225]Elapsed 19.23s | Loss: 0.3670\n"
                    ]
                },
                {
                    "name": "stderr",
                    "output_type": "stream",
                    "text": [
                        "----------------------------------------------------------------------------------------------------\n",
                        "Epoch 6 - Average Train Loss: 0.1555 | Average Valid Loss: 0.3507 | Time: 63.05s\n",
                        "====================================================================================================\n",
                        "Fold 3 Valid Loss: (Easy) 0.7635 | (Hard) 0.3915\n",
                        "Elapse: 6.31 min \n",
                        "====================================================================================================\n",
                        "====================================================================================================\n",
                        "Fold: 4 || Valid size 3595 \n",
                        "====================================================================================================\n",
                        "- First Stage \n"
                    ]
                },
                {
                    "data": {
                        "application/vnd.jupyter.widget-view+json": {
                            "model_id": "2ef8d4b19b0c40dbbf573eed7fb3cf8f",
                            "version_major": 2,
                            "version_minor": 0
                        },
                        "text/plain": [
                            "Train:   0%|          | 0/622 [00:00<?, ?batch/s]"
                        ]
                    },
                    "metadata": {},
                    "output_type": "display_data"
                },
                {
                    "name": "stdout",
                    "output_type": "stream",
                    "text": [
                        "Epoch: [1][0/622]Elapsed 0.11s | Loss: 0.8064 Grad: 64061.0078 LR: 4.0000e-06\n",
                        "Epoch: [1][50/622]Elapsed 7.50s | Loss: 0.8167 Grad: 64793.3594 LR: 5.0647e-06\n",
                        "Epoch: [1][100/622]Elapsed 15.00s | Loss: 0.8110 Grad: 68399.2422 LR: 8.2116e-06\n",
                        "Epoch: [1][150/622]Elapsed 22.51s | Loss: 0.8051 Grad: 68088.0859 LR: 1.3301e-05\n",
                        "Epoch: [1][200/622]Elapsed 29.99s | Loss: 0.7993 Grad: 83308.2188 LR: 2.0107e-05\n",
                        "Epoch: [1][250/622]Elapsed 37.45s | Loss: 0.7879 Grad: 127577.2500 LR: 2.8328e-05\n",
                        "Epoch: [1][300/622]Elapsed 44.91s | Loss: 0.7774 Grad: 60354.3398 LR: 3.7599e-05\n",
                        "Epoch: [1][350/622]Elapsed 52.34s | Loss: 0.7636 Grad: 52143.8320 LR: 4.7509e-05\n",
                        "Epoch: [1][400/622]Elapsed 59.78s | Loss: 0.7477 Grad: 68086.3750 LR: 5.7619e-05\n",
                        "Epoch: [1][450/622]Elapsed 67.23s | Loss: 0.7309 Grad: 58977.1641 LR: 6.7479e-05\n",
                        "Epoch: [1][500/622]Elapsed 74.66s | Loss: 0.7159 Grad: 71876.6562 LR: 7.6652e-05\n",
                        "Epoch: [1][550/622]Elapsed 82.11s | Loss: 0.7022 Grad: 50506.0781 LR: 8.4732e-05\n",
                        "Epoch: [1][600/622]Elapsed 89.55s | Loss: 0.6886 Grad: 75308.4609 LR: 9.1359e-05\n",
                        "Epoch: [1][621/622]Elapsed 92.75s | Loss: 0.6822 Grad: 77477.4609 LR: 9.3737e-05\n"
                    ]
                },
                {
                    "data": {
                        "application/vnd.jupyter.widget-view+json": {
                            "model_id": "ae6faa5aa1624845b35940450969d7d4",
                            "version_major": 2,
                            "version_minor": 0
                        },
                        "text/plain": [
                            "Valid:   0%|          | 0/225 [00:00<?, ?batch/s]"
                        ]
                    },
                    "metadata": {},
                    "output_type": "display_data"
                },
                {
                    "name": "stdout",
                    "output_type": "stream",
                    "text": [
                        "Epoch: [1][0/225]Elapsed 0.11s | Loss: 0.3707\n",
                        "Epoch: [1][50/225]Elapsed 4.92s | Loss: 0.4399\n",
                        "Epoch: [1][100/225]Elapsed 9.73s | Loss: 0.4524\n",
                        "Epoch: [1][150/225]Elapsed 14.54s | Loss: 0.4551\n",
                        "Epoch: [1][200/225]Elapsed 19.36s | Loss: 0.4258\n"
                    ]
                },
                {
                    "name": "stderr",
                    "output_type": "stream",
                    "text": [
                        "----------------------------------------------------------------------------------------------------\n",
                        "Epoch 1 - Average Train Loss: 0.6822 | Average Valid Loss: 0.4177 | Time: 114.59s\n",
                        "Best model found in epoch 1 | valid loss: 0.4177\n"
                    ]
                },
                {
                    "data": {
                        "application/vnd.jupyter.widget-view+json": {
                            "model_id": "03376a15cfa64c8b82de6c0d68c4262f",
                            "version_major": 2,
                            "version_minor": 0
                        },
                        "text/plain": [
                            "Train:   0%|          | 0/622 [00:00<?, ?batch/s]"
                        ]
                    },
                    "metadata": {},
                    "output_type": "display_data"
                },
                {
                    "name": "stdout",
                    "output_type": "stream",
                    "text": [
                        "Epoch: [2][0/622]Elapsed 0.11s | Loss: 0.5644 Grad: 126046.0938 LR: 9.3737e-05\n",
                        "Epoch: [2][50/622]Elapsed 7.54s | Loss: 0.4729 Grad: 25402.2656 LR: 9.7777e-05\n",
                        "Epoch: [2][100/622]Elapsed 15.04s | Loss: 0.4670 Grad: 41572.3711 LR: 9.9786e-05\n",
                        "Epoch: [2][150/622]Elapsed 22.51s | Loss: 0.4720 Grad: 57585.6211 LR: 9.9996e-05\n",
                        "Epoch: [2][200/622]Elapsed 30.00s | Loss: 0.4610 Grad: 55915.7422 LR: 9.9967e-05\n",
                        "Epoch: [2][250/622]Elapsed 37.45s | Loss: 0.4547 Grad: 32823.9258 LR: 9.9911e-05\n",
                        "Epoch: [2][300/622]Elapsed 44.90s | Loss: 0.4509 Grad: 37385.5078 LR: 9.9828e-05\n",
                        "Epoch: [2][350/622]Elapsed 52.34s | Loss: 0.4454 Grad: 38437.6133 LR: 9.9717e-05\n",
                        "Epoch: [2][400/622]Elapsed 59.77s | Loss: 0.4389 Grad: 66606.9531 LR: 9.9579e-05\n",
                        "Epoch: [2][450/622]Elapsed 67.19s | Loss: 0.4333 Grad: 26378.1367 LR: 9.9415e-05\n",
                        "Epoch: [2][500/622]Elapsed 74.62s | Loss: 0.4289 Grad: 46952.6680 LR: 9.9223e-05\n",
                        "Epoch: [2][550/622]Elapsed 82.04s | Loss: 0.4264 Grad: 26605.4102 LR: 9.9004e-05\n",
                        "Epoch: [2][600/622]Elapsed 89.48s | Loss: 0.4232 Grad: 28225.7363 LR: 9.8758e-05\n",
                        "Epoch: [2][621/622]Elapsed 92.66s | Loss: 0.4215 Grad: 44108.7305 LR: 9.8642e-05\n"
                    ]
                },
                {
                    "data": {
                        "application/vnd.jupyter.widget-view+json": {
                            "model_id": "30b31fe418014fff9b2ad9d04129ec7a",
                            "version_major": 2,
                            "version_minor": 0
                        },
                        "text/plain": [
                            "Valid:   0%|          | 0/225 [00:00<?, ?batch/s]"
                        ]
                    },
                    "metadata": {},
                    "output_type": "display_data"
                },
                {
                    "name": "stdout",
                    "output_type": "stream",
                    "text": [
                        "Epoch: [2][0/225]Elapsed 0.11s | Loss: 0.3615\n",
                        "Epoch: [2][50/225]Elapsed 4.92s | Loss: 0.3967\n",
                        "Epoch: [2][100/225]Elapsed 9.73s | Loss: 0.4063\n",
                        "Epoch: [2][150/225]Elapsed 14.53s | Loss: 0.4084\n",
                        "Epoch: [2][200/225]Elapsed 19.35s | Loss: 0.3906\n"
                    ]
                },
                {
                    "name": "stderr",
                    "output_type": "stream",
                    "text": [
                        "----------------------------------------------------------------------------------------------------\n",
                        "Epoch 2 - Average Train Loss: 0.4215 | Average Valid Loss: 0.3893 | Time: 114.49s\n",
                        "Best model found in epoch 2 | valid loss: 0.3893\n"
                    ]
                },
                {
                    "data": {
                        "application/vnd.jupyter.widget-view+json": {
                            "model_id": "2307713d8542484eb068fa4edf93f6d8",
                            "version_major": 2,
                            "version_minor": 0
                        },
                        "text/plain": [
                            "Train:   0%|          | 0/622 [00:00<?, ?batch/s]"
                        ]
                    },
                    "metadata": {},
                    "output_type": "display_data"
                },
                {
                    "name": "stdout",
                    "output_type": "stream",
                    "text": [
                        "Epoch: [3][0/622]Elapsed 0.10s | Loss: 0.4914 Grad: 216018.9062 LR: 9.8642e-05\n",
                        "Epoch: [3][50/622]Elapsed 7.53s | Loss: 0.3514 Grad: 92759.4375 LR: 9.8358e-05\n",
                        "Epoch: [3][100/622]Elapsed 15.03s | Loss: 0.3505 Grad: 77074.5781 LR: 9.8048e-05\n",
                        "Epoch: [3][150/622]Elapsed 22.51s | Loss: 0.3612 Grad: 70239.0078 LR: 9.7711e-05\n",
                        "Epoch: [3][200/622]Elapsed 29.97s | Loss: 0.3559 Grad: 32633.0410 LR: 9.7349e-05\n",
                        "Epoch: [3][250/622]Elapsed 37.43s | Loss: 0.3519 Grad: 30817.7168 LR: 9.6960e-05\n",
                        "Epoch: [3][300/622]Elapsed 44.88s | Loss: 0.3511 Grad: 38716.0117 LR: 9.6546e-05\n",
                        "Epoch: [3][350/622]Elapsed 52.34s | Loss: 0.3508 Grad: 32475.0938 LR: 9.6106e-05\n",
                        "Epoch: [3][400/622]Elapsed 59.80s | Loss: 0.3456 Grad: 40082.5117 LR: 9.5642e-05\n",
                        "Epoch: [3][450/622]Elapsed 67.24s | Loss: 0.3428 Grad: 47680.5625 LR: 9.5152e-05\n",
                        "Epoch: [3][500/622]Elapsed 74.68s | Loss: 0.3412 Grad: 48697.9336 LR: 9.4638e-05\n",
                        "Epoch: [3][550/622]Elapsed 82.11s | Loss: 0.3408 Grad: 30796.3965 LR: 9.4099e-05\n",
                        "Epoch: [3][600/622]Elapsed 89.54s | Loss: 0.3399 Grad: 37196.9688 LR: 9.3536e-05\n",
                        "Epoch: [3][621/622]Elapsed 92.73s | Loss: 0.3391 Grad: 51754.7109 LR: 9.3281e-05\n"
                    ]
                },
                {
                    "data": {
                        "application/vnd.jupyter.widget-view+json": {
                            "model_id": "3a774cd888944dc3939e48dc19c90aea",
                            "version_major": 2,
                            "version_minor": 0
                        },
                        "text/plain": [
                            "Valid:   0%|          | 0/225 [00:00<?, ?batch/s]"
                        ]
                    },
                    "metadata": {},
                    "output_type": "display_data"
                },
                {
                    "name": "stdout",
                    "output_type": "stream",
                    "text": [
                        "Epoch: [3][0/225]Elapsed 0.10s | Loss: 0.3865\n",
                        "Epoch: [3][50/225]Elapsed 4.91s | Loss: 0.3726\n",
                        "Epoch: [3][100/225]Elapsed 9.71s | Loss: 0.3811\n",
                        "Epoch: [3][150/225]Elapsed 14.51s | Loss: 0.3816\n",
                        "Epoch: [3][200/225]Elapsed 19.33s | Loss: 0.3709\n"
                    ]
                },
                {
                    "name": "stderr",
                    "output_type": "stream",
                    "text": [
                        "----------------------------------------------------------------------------------------------------\n",
                        "Epoch 3 - Average Train Loss: 0.3391 | Average Valid Loss: 0.3713 | Time: 114.54s\n",
                        "Best model found in epoch 3 | valid loss: 0.3713\n"
                    ]
                },
                {
                    "data": {
                        "application/vnd.jupyter.widget-view+json": {
                            "model_id": "19ad98f5a179489aa1382a34b9a9685e",
                            "version_major": 2,
                            "version_minor": 0
                        },
                        "text/plain": [
                            "Train:   0%|          | 0/622 [00:00<?, ?batch/s]"
                        ]
                    },
                    "metadata": {},
                    "output_type": "display_data"
                },
                {
                    "name": "stdout",
                    "output_type": "stream",
                    "text": [
                        "Epoch: [4][0/622]Elapsed 0.10s | Loss: 0.3933 Grad: inf LR: 9.3281e-05\n",
                        "Epoch: [4][50/622]Elapsed 7.54s | Loss: 0.2988 Grad: 78865.7266 LR: 9.2683e-05\n",
                        "Epoch: [4][100/622]Elapsed 15.03s | Loss: 0.2971 Grad: 38417.6875 LR: 9.2063e-05\n",
                        "Epoch: [4][150/622]Elapsed 22.52s | Loss: 0.3112 Grad: 69769.7031 LR: 9.1420e-05\n",
                        "Epoch: [4][200/622]Elapsed 30.00s | Loss: 0.3074 Grad: 43266.7891 LR: 9.0754e-05\n",
                        "Epoch: [4][250/622]Elapsed 37.47s | Loss: 0.3051 Grad: 30268.7402 LR: 9.0065e-05\n",
                        "Epoch: [4][300/622]Elapsed 44.93s | Loss: 0.3035 Grad: 31173.2520 LR: 8.9355e-05\n",
                        "Epoch: [4][350/622]Elapsed 52.37s | Loss: 0.3028 Grad: 40134.3594 LR: 8.8624e-05\n",
                        "Epoch: [4][400/622]Elapsed 59.82s | Loss: 0.2994 Grad: 42471.0859 LR: 8.7871e-05\n",
                        "Epoch: [4][450/622]Elapsed 67.29s | Loss: 0.2965 Grad: 38743.5781 LR: 8.7097e-05\n",
                        "Epoch: [4][500/622]Elapsed 74.73s | Loss: 0.2949 Grad: 44534.4453 LR: 8.6303e-05\n",
                        "Epoch: [4][550/622]Elapsed 82.17s | Loss: 0.2947 Grad: 37375.7891 LR: 8.5490e-05\n",
                        "Epoch: [4][600/622]Elapsed 89.59s | Loss: 0.2938 Grad: 30137.4844 LR: 8.4657e-05\n",
                        "Epoch: [4][621/622]Elapsed 92.78s | Loss: 0.2928 Grad: 60059.9336 LR: 8.4284e-05\n"
                    ]
                },
                {
                    "data": {
                        "application/vnd.jupyter.widget-view+json": {
                            "model_id": "e0169905cc59498782e19d3df0a5e097",
                            "version_major": 2,
                            "version_minor": 0
                        },
                        "text/plain": [
                            "Valid:   0%|          | 0/225 [00:00<?, ?batch/s]"
                        ]
                    },
                    "metadata": {},
                    "output_type": "display_data"
                },
                {
                    "name": "stdout",
                    "output_type": "stream",
                    "text": [
                        "Epoch: [4][0/225]Elapsed 0.10s | Loss: 0.3761\n",
                        "Epoch: [4][50/225]Elapsed 4.92s | Loss: 0.3772\n",
                        "Epoch: [4][100/225]Elapsed 9.73s | Loss: 0.3843\n",
                        "Epoch: [4][150/225]Elapsed 14.53s | Loss: 0.3863\n",
                        "Epoch: [4][200/225]Elapsed 19.35s | Loss: 0.3813\n"
                    ]
                },
                {
                    "name": "stderr",
                    "output_type": "stream",
                    "text": [
                        "----------------------------------------------------------------------------------------------------\n",
                        "Epoch 4 - Average Train Loss: 0.2928 | Average Valid Loss: 0.3845 | Time: 114.62s\n"
                    ]
                },
                {
                    "data": {
                        "application/vnd.jupyter.widget-view+json": {
                            "model_id": "e351fdec3d2c46a895a5ab2b8441f810",
                            "version_major": 2,
                            "version_minor": 0
                        },
                        "text/plain": [
                            "Train:   0%|          | 0/622 [00:00<?, ?batch/s]"
                        ]
                    },
                    "metadata": {},
                    "output_type": "display_data"
                },
                {
                    "name": "stdout",
                    "output_type": "stream",
                    "text": [
                        "Epoch: [5][0/622]Elapsed 0.11s | Loss: 0.4358 Grad: nan LR: 8.4284e-05\n",
                        "Epoch: [5][50/622]Elapsed 7.54s | Loss: 0.2699 Grad: 27891.8535 LR: 8.3424e-05\n",
                        "Epoch: [5][100/622]Elapsed 15.04s | Loss: 0.2664 Grad: 36372.7109 LR: 8.2546e-05\n",
                        "Epoch: [5][150/622]Elapsed 22.54s | Loss: 0.2738 Grad: 44308.2305 LR: 8.1650e-05\n",
                        "Epoch: [5][200/622]Elapsed 30.03s | Loss: 0.2711 Grad: 34494.0664 LR: 8.0736e-05\n",
                        "Epoch: [5][250/622]Elapsed 37.49s | Loss: 0.2683 Grad: 31820.2012 LR: 7.9806e-05\n",
                        "Epoch: [5][300/622]Elapsed 44.95s | Loss: 0.2657 Grad: 29989.5527 LR: 7.8859e-05\n",
                        "Epoch: [5][350/622]Elapsed 52.46s | Loss: 0.2643 Grad: 31635.4199 LR: 7.7897e-05\n",
                        "Epoch: [5][400/622]Elapsed 59.93s | Loss: 0.2606 Grad: 37056.6250 LR: 7.6920e-05\n",
                        "Epoch: [5][450/622]Elapsed 67.35s | Loss: 0.2583 Grad: 35950.8125 LR: 7.5927e-05\n",
                        "Epoch: [5][500/622]Elapsed 74.77s | Loss: 0.2571 Grad: 41355.3945 LR: 7.4921e-05\n",
                        "Epoch: [5][550/622]Elapsed 82.20s | Loss: 0.2575 Grad: 50405.0977 LR: 7.3901e-05\n",
                        "Epoch: [5][600/622]Elapsed 89.63s | Loss: 0.2571 Grad: 37897.4727 LR: 7.2868e-05\n",
                        "Epoch: [5][621/622]Elapsed 92.84s | Loss: 0.2569 Grad: 33418.5938 LR: 7.2409e-05\n"
                    ]
                },
                {
                    "data": {
                        "application/vnd.jupyter.widget-view+json": {
                            "model_id": "06f311ddc15f4c04999c5ea67e958412",
                            "version_major": 2,
                            "version_minor": 0
                        },
                        "text/plain": [
                            "Valid:   0%|          | 0/225 [00:00<?, ?batch/s]"
                        ]
                    },
                    "metadata": {},
                    "output_type": "display_data"
                },
                {
                    "name": "stdout",
                    "output_type": "stream",
                    "text": [
                        "Epoch: [5][0/225]Elapsed 0.11s | Loss: 0.3592\n",
                        "Epoch: [5][50/225]Elapsed 4.94s | Loss: 0.3537\n",
                        "Epoch: [5][100/225]Elapsed 9.75s | Loss: 0.3622\n",
                        "Epoch: [5][150/225]Elapsed 14.59s | Loss: 0.3658\n",
                        "Epoch: [5][200/225]Elapsed 19.48s | Loss: 0.3638\n"
                    ]
                },
                {
                    "name": "stderr",
                    "output_type": "stream",
                    "text": [
                        "----------------------------------------------------------------------------------------------------\n",
                        "Epoch 5 - Average Train Loss: 0.2569 | Average Valid Loss: 0.3682 | Time: 114.81s\n",
                        "Best model found in epoch 5 | valid loss: 0.3682\n"
                    ]
                },
                {
                    "data": {
                        "application/vnd.jupyter.widget-view+json": {
                            "model_id": "6704b8396f7b4ec59e84c95933e4cd51",
                            "version_major": 2,
                            "version_minor": 0
                        },
                        "text/plain": [
                            "Train:   0%|          | 0/622 [00:00<?, ?batch/s]"
                        ]
                    },
                    "metadata": {},
                    "output_type": "display_data"
                },
                {
                    "name": "stdout",
                    "output_type": "stream",
                    "text": [
                        "Epoch: [6][0/622]Elapsed 0.10s | Loss: 0.5477 Grad: nan LR: 7.2409e-05\n",
                        "Epoch: [6][50/622]Elapsed 7.54s | Loss: 0.2488 Grad: 70518.7969 LR: 7.1358e-05\n",
                        "Epoch: [6][100/622]Elapsed 15.03s | Loss: 0.2432 Grad: 63162.6719 LR: 7.0296e-05\n",
                        "Epoch: [6][150/622]Elapsed 22.50s | Loss: 0.2468 Grad: 49200.3281 LR: 6.9222e-05\n",
                        "Epoch: [6][200/622]Elapsed 29.95s | Loss: 0.2422 Grad: 32411.5703 LR: 6.8138e-05\n",
                        "Epoch: [6][250/622]Elapsed 37.39s | Loss: 0.2409 Grad: 33370.3203 LR: 6.7044e-05\n",
                        "Epoch: [6][300/622]Elapsed 44.83s | Loss: 0.2405 Grad: 32139.3984 LR: 6.5940e-05\n",
                        "Epoch: [6][350/622]Elapsed 52.26s | Loss: 0.2384 Grad: 24262.8008 LR: 6.4828e-05\n",
                        "Epoch: [6][400/622]Elapsed 59.69s | Loss: 0.2355 Grad: 63933.6250 LR: 6.3708e-05\n",
                        "Epoch: [6][450/622]Elapsed 67.11s | Loss: 0.2330 Grad: 50096.5234 LR: 6.2581e-05\n",
                        "Epoch: [6][500/622]Elapsed 74.54s | Loss: 0.2319 Grad: 45208.4766 LR: 6.1446e-05\n",
                        "Epoch: [6][550/622]Elapsed 81.97s | Loss: 0.2319 Grad: 27614.0137 LR: 6.0305e-05\n",
                        "Epoch: [6][600/622]Elapsed 89.39s | Loss: 0.2310 Grad: 34806.1250 LR: 5.9159e-05\n",
                        "Epoch: [6][621/622]Elapsed 92.59s | Loss: 0.2306 Grad: 51542.8516 LR: 5.8653e-05\n"
                    ]
                },
                {
                    "data": {
                        "application/vnd.jupyter.widget-view+json": {
                            "model_id": "a5a15b53963e4c80810a66949ce4a6fb",
                            "version_major": 2,
                            "version_minor": 0
                        },
                        "text/plain": [
                            "Valid:   0%|          | 0/225 [00:00<?, ?batch/s]"
                        ]
                    },
                    "metadata": {},
                    "output_type": "display_data"
                },
                {
                    "name": "stdout",
                    "output_type": "stream",
                    "text": [
                        "Epoch: [6][0/225]Elapsed 0.10s | Loss: 0.3604\n",
                        "Epoch: [6][50/225]Elapsed 4.92s | Loss: 0.3625\n",
                        "Epoch: [6][100/225]Elapsed 9.73s | Loss: 0.3747\n",
                        "Epoch: [6][150/225]Elapsed 14.55s | Loss: 0.3784\n",
                        "Epoch: [6][200/225]Elapsed 19.38s | Loss: 0.3842\n"
                    ]
                },
                {
                    "name": "stderr",
                    "output_type": "stream",
                    "text": [
                        "----------------------------------------------------------------------------------------------------\n",
                        "Epoch 6 - Average Train Loss: 0.2306 | Average Valid Loss: 0.3912 | Time: 114.45s\n",
                        "====================================================================================================\n",
                        "Fold 4 Valid Loss: (Easy) 0.6664 | (Hard) 0.6624\n",
                        "Elapse: 11.47 min \n",
                        "====================================================================================================\n",
                        "- Second Stage \n",
                        "Use Checkpoint: ENet_b2_xymasking_regularized_fold_4_stage_1.pth\n"
                    ]
                },
                {
                    "data": {
                        "application/vnd.jupyter.widget-view+json": {
                            "model_id": "dff42cd2cd914c8291c73cd499a6436d",
                            "version_major": 2,
                            "version_minor": 0
                        },
                        "text/plain": [
                            "Train:   0%|          | 0/276 [00:00<?, ?batch/s]"
                        ]
                    },
                    "metadata": {},
                    "output_type": "display_data"
                },
                {
                    "name": "stdout",
                    "output_type": "stream",
                    "text": [
                        "Epoch: [1][0/276]Elapsed 0.11s | Loss: 0.5297 Grad: nan LR: 4.0000e-06\n"
                    ]
                },
                {
                    "name": "stderr",
                    "output_type": "stream",
                    "text": [
                        "/home/shiyi/miniconda3/envs/kaggle/lib/python3.11/site-packages/torch/optim/lr_scheduler.py:143: UserWarning: Detected call of `lr_scheduler.step()` before `optimizer.step()`. In PyTorch 1.1.0 and later, you should call them in the opposite order: `optimizer.step()` before `lr_scheduler.step()`.  Failure to do this will result in PyTorch skipping the first value of the learning rate schedule. See more details at https://pytorch.org/docs/stable/optim.html#how-to-adjust-learning-rate\n",
                        "  warnings.warn(\"Detected call of `lr_scheduler.step()` before `optimizer.step()`. \"\n"
                    ]
                },
                {
                    "name": "stdout",
                    "output_type": "stream",
                    "text": [
                        "Epoch: [1][50/276]Elapsed 7.49s | Loss: 0.4098 Grad: 59904.8633 LR: 9.3614e-06\n",
                        "Epoch: [1][100/276]Elapsed 15.00s | Loss: 0.3807 Grad: 41834.5195 LR: 2.4248e-05\n",
                        "Epoch: [1][150/276]Elapsed 22.51s | Loss: 0.3575 Grad: 35087.8359 LR: 4.5334e-05\n",
                        "Epoch: [1][200/276]Elapsed 30.01s | Loss: 0.3362 Grad: 18159.8203 LR: 6.7909e-05\n",
                        "Epoch: [1][250/276]Elapsed 37.49s | Loss: 0.3191 Grad: 23251.2285 LR: 8.6930e-05\n",
                        "Epoch: [1][275/276]Elapsed 41.30s | Loss: 0.3114 Grad: 35215.0078 LR: 9.3946e-05\n"
                    ]
                },
                {
                    "data": {
                        "application/vnd.jupyter.widget-view+json": {
                            "model_id": "a9257dd56c81428ebabe87ae4ae9a411",
                            "version_major": 2,
                            "version_minor": 0
                        },
                        "text/plain": [
                            "Valid:   0%|          | 0/225 [00:00<?, ?batch/s]"
                        ]
                    },
                    "metadata": {},
                    "output_type": "display_data"
                },
                {
                    "name": "stdout",
                    "output_type": "stream",
                    "text": [
                        "Epoch: [1][0/225]Elapsed 0.10s | Loss: 0.3577\n",
                        "Epoch: [1][50/225]Elapsed 4.93s | Loss: 0.4154\n",
                        "Epoch: [1][100/225]Elapsed 9.75s | Loss: 0.4148\n",
                        "Epoch: [1][150/225]Elapsed 14.57s | Loss: 0.4202\n",
                        "Epoch: [1][200/225]Elapsed 19.39s | Loss: 0.3776\n"
                    ]
                },
                {
                    "name": "stderr",
                    "output_type": "stream",
                    "text": [
                        "----------------------------------------------------------------------------------------------------\n",
                        "Epoch 1 - Average Train Loss: 0.3114 | Average Valid Loss: 0.3638 | Time: 63.19s\n",
                        "Best model found in epoch 1 | valid loss: 0.3638\n"
                    ]
                },
                {
                    "data": {
                        "application/vnd.jupyter.widget-view+json": {
                            "model_id": "e2f2ddf68e0d4e1ea6aefe10eac20a05",
                            "version_major": 2,
                            "version_minor": 0
                        },
                        "text/plain": [
                            "Train:   0%|          | 0/276 [00:00<?, ?batch/s]"
                        ]
                    },
                    "metadata": {},
                    "output_type": "display_data"
                },
                {
                    "name": "stdout",
                    "output_type": "stream",
                    "text": [
                        "Epoch: [2][0/276]Elapsed 0.10s | Loss: 0.2482 Grad: 98170.6875 LR: 9.3946e-05\n",
                        "Epoch: [2][50/276]Elapsed 7.57s | Loss: 0.2314 Grad: 141291.9844 LR: 9.9978e-05\n",
                        "Epoch: [2][100/276]Elapsed 15.08s | Loss: 0.2285 Grad: 40251.2070 LR: 9.9939e-05\n",
                        "Epoch: [2][150/276]Elapsed 22.60s | Loss: 0.2265 Grad: 34137.3359 LR: 9.9740e-05\n",
                        "Epoch: [2][200/276]Elapsed 30.08s | Loss: 0.2240 Grad: 27190.9941 LR: 9.9403e-05\n",
                        "Epoch: [2][250/276]Elapsed 37.56s | Loss: 0.2204 Grad: 36539.2344 LR: 9.8929e-05\n",
                        "Epoch: [2][275/276]Elapsed 41.38s | Loss: 0.2192 Grad: 58187.1367 LR: 9.8628e-05\n"
                    ]
                },
                {
                    "data": {
                        "application/vnd.jupyter.widget-view+json": {
                            "model_id": "96cae541156944a390e47fbdfcde0d5b",
                            "version_major": 2,
                            "version_minor": 0
                        },
                        "text/plain": [
                            "Valid:   0%|          | 0/225 [00:00<?, ?batch/s]"
                        ]
                    },
                    "metadata": {},
                    "output_type": "display_data"
                },
                {
                    "name": "stdout",
                    "output_type": "stream",
                    "text": [
                        "Epoch: [2][0/225]Elapsed 0.11s | Loss: 0.3483\n",
                        "Epoch: [2][50/225]Elapsed 4.93s | Loss: 0.4068\n",
                        "Epoch: [2][100/225]Elapsed 9.78s | Loss: 0.4064\n",
                        "Epoch: [2][150/225]Elapsed 14.58s | Loss: 0.4112\n",
                        "Epoch: [2][200/225]Elapsed 19.40s | Loss: 0.3684\n"
                    ]
                },
                {
                    "name": "stderr",
                    "output_type": "stream",
                    "text": [
                        "----------------------------------------------------------------------------------------------------\n",
                        "Epoch 2 - Average Train Loss: 0.2192 | Average Valid Loss: 0.3538 | Time: 63.28s\n",
                        "Best model found in epoch 2 | valid loss: 0.3538\n"
                    ]
                },
                {
                    "data": {
                        "application/vnd.jupyter.widget-view+json": {
                            "model_id": "dfe8c005ade24a268c49b65b88ed70c4",
                            "version_major": 2,
                            "version_minor": 0
                        },
                        "text/plain": [
                            "Train:   0%|          | 0/276 [00:00<?, ?batch/s]"
                        ]
                    },
                    "metadata": {},
                    "output_type": "display_data"
                },
                {
                    "name": "stdout",
                    "output_type": "stream",
                    "text": [
                        "Epoch: [3][0/276]Elapsed 0.10s | Loss: 0.2235 Grad: 87243.9062 LR: 9.8628e-05\n",
                        "Epoch: [3][50/276]Elapsed 7.55s | Loss: 0.2045 Grad: 103060.2812 LR: 9.7948e-05\n",
                        "Epoch: [3][100/276]Elapsed 15.08s | Loss: 0.2007 Grad: 81523.5703 LR: 9.7135e-05\n",
                        "Epoch: [3][150/276]Elapsed 22.60s | Loss: 0.1999 Grad: 86186.5547 LR: 9.6191e-05\n",
                        "Epoch: [3][200/276]Elapsed 30.07s | Loss: 0.1984 Grad: 64042.3828 LR: 9.5119e-05\n",
                        "Epoch: [3][250/276]Elapsed 37.57s | Loss: 0.1974 Grad: 74504.4219 LR: 9.3922e-05\n",
                        "Epoch: [3][275/276]Elapsed 41.38s | Loss: 0.1960 Grad: 92086.8047 LR: 9.3251e-05\n"
                    ]
                },
                {
                    "data": {
                        "application/vnd.jupyter.widget-view+json": {
                            "model_id": "7ce130e94fda4fc3b58392c539d7dd12",
                            "version_major": 2,
                            "version_minor": 0
                        },
                        "text/plain": [
                            "Valid:   0%|          | 0/225 [00:00<?, ?batch/s]"
                        ]
                    },
                    "metadata": {},
                    "output_type": "display_data"
                },
                {
                    "name": "stdout",
                    "output_type": "stream",
                    "text": [
                        "Epoch: [3][0/225]Elapsed 0.11s | Loss: 0.3256\n",
                        "Epoch: [3][50/225]Elapsed 4.94s | Loss: 0.3903\n",
                        "Epoch: [3][100/225]Elapsed 9.77s | Loss: 0.3917\n",
                        "Epoch: [3][150/225]Elapsed 14.59s | Loss: 0.3962\n",
                        "Epoch: [3][200/225]Elapsed 19.43s | Loss: 0.3563\n"
                    ]
                },
                {
                    "name": "stderr",
                    "output_type": "stream",
                    "text": [
                        "----------------------------------------------------------------------------------------------------\n",
                        "Epoch 3 - Average Train Loss: 0.1960 | Average Valid Loss: 0.3427 | Time: 63.30s\n",
                        "Best model found in epoch 3 | valid loss: 0.3427\n"
                    ]
                },
                {
                    "data": {
                        "application/vnd.jupyter.widget-view+json": {
                            "model_id": "9708467c91874a55b6ba3fe35846415b",
                            "version_major": 2,
                            "version_minor": 0
                        },
                        "text/plain": [
                            "Train:   0%|          | 0/276 [00:00<?, ?batch/s]"
                        ]
                    },
                    "metadata": {},
                    "output_type": "display_data"
                },
                {
                    "name": "stdout",
                    "output_type": "stream",
                    "text": [
                        "Epoch: [4][0/276]Elapsed 0.10s | Loss: 0.1861 Grad: 77468.9375 LR: 9.3251e-05\n",
                        "Epoch: [4][50/276]Elapsed 7.58s | Loss: 0.1913 Grad: 105753.5469 LR: 9.1870e-05\n",
                        "Epoch: [4][100/276]Elapsed 15.09s | Loss: 0.1878 Grad: 59374.4727 LR: 9.0373e-05\n",
                        "Epoch: [4][150/276]Elapsed 22.62s | Loss: 0.1855 Grad: 66068.0078 LR: 8.8763e-05\n",
                        "Epoch: [4][200/276]Elapsed 30.11s | Loss: 0.1841 Grad: 28814.9258 LR: 8.7047e-05\n",
                        "Epoch: [4][250/276]Elapsed 37.61s | Loss: 0.1816 Grad: 27604.5840 LR: 8.5227e-05\n",
                        "Epoch: [4][275/276]Elapsed 41.42s | Loss: 0.1809 Grad: 47479.3594 LR: 8.4242e-05\n"
                    ]
                },
                {
                    "data": {
                        "application/vnd.jupyter.widget-view+json": {
                            "model_id": "fbf78c8131a3425c87a5ad2c2f1f6037",
                            "version_major": 2,
                            "version_minor": 0
                        },
                        "text/plain": [
                            "Valid:   0%|          | 0/225 [00:00<?, ?batch/s]"
                        ]
                    },
                    "metadata": {},
                    "output_type": "display_data"
                },
                {
                    "name": "stdout",
                    "output_type": "stream",
                    "text": [
                        "Epoch: [4][0/225]Elapsed 0.10s | Loss: 0.3530\n",
                        "Epoch: [4][50/225]Elapsed 4.92s | Loss: 0.3960\n",
                        "Epoch: [4][100/225]Elapsed 9.74s | Loss: 0.3943\n",
                        "Epoch: [4][150/225]Elapsed 14.56s | Loss: 0.3996\n",
                        "Epoch: [4][200/225]Elapsed 19.39s | Loss: 0.3595\n"
                    ]
                },
                {
                    "name": "stderr",
                    "output_type": "stream",
                    "text": [
                        "----------------------------------------------------------------------------------------------------\n",
                        "Epoch 4 - Average Train Loss: 0.1809 | Average Valid Loss: 0.3457 | Time: 63.29s\n"
                    ]
                },
                {
                    "data": {
                        "application/vnd.jupyter.widget-view+json": {
                            "model_id": "cb77e11a391c4a68b6320a409a844d3c",
                            "version_major": 2,
                            "version_minor": 0
                        },
                        "text/plain": [
                            "Train:   0%|          | 0/276 [00:00<?, ?batch/s]"
                        ]
                    },
                    "metadata": {},
                    "output_type": "display_data"
                },
                {
                    "name": "stdout",
                    "output_type": "stream",
                    "text": [
                        "Epoch: [5][0/276]Elapsed 0.11s | Loss: 0.2130 Grad: 96472.9297 LR: 8.4242e-05\n",
                        "Epoch: [5][50/276]Elapsed 7.59s | Loss: 0.1773 Grad: 114481.2109 LR: 8.2275e-05\n",
                        "Epoch: [5][100/276]Elapsed 15.11s | Loss: 0.1735 Grad: 86380.8594 LR: 8.0220e-05\n",
                        "Epoch: [5][150/276]Elapsed 22.64s | Loss: 0.1719 Grad: 87120.5625 LR: 7.8080e-05\n",
                        "Epoch: [5][200/276]Elapsed 30.15s | Loss: 0.1703 Grad: 61511.5977 LR: 7.5863e-05\n",
                        "Epoch: [5][250/276]Elapsed 37.65s | Loss: 0.1690 Grad: 88478.9922 LR: 7.3573e-05\n",
                        "Epoch: [5][275/276]Elapsed 41.45s | Loss: 0.1678 Grad: 142737.7656 LR: 7.2357e-05\n"
                    ]
                },
                {
                    "data": {
                        "application/vnd.jupyter.widget-view+json": {
                            "model_id": "9eb7a6695ef849778000a13134031b25",
                            "version_major": 2,
                            "version_minor": 0
                        },
                        "text/plain": [
                            "Valid:   0%|          | 0/225 [00:00<?, ?batch/s]"
                        ]
                    },
                    "metadata": {},
                    "output_type": "display_data"
                },
                {
                    "name": "stdout",
                    "output_type": "stream",
                    "text": [
                        "Epoch: [5][0/225]Elapsed 0.11s | Loss: 0.3527\n",
                        "Epoch: [5][50/225]Elapsed 4.91s | Loss: 0.4014\n",
                        "Epoch: [5][100/225]Elapsed 9.72s | Loss: 0.3993\n",
                        "Epoch: [5][150/225]Elapsed 14.52s | Loss: 0.4052\n",
                        "Epoch: [5][200/225]Elapsed 19.33s | Loss: 0.3638\n"
                    ]
                },
                {
                    "name": "stderr",
                    "output_type": "stream",
                    "text": [
                        "----------------------------------------------------------------------------------------------------\n",
                        "Epoch 5 - Average Train Loss: 0.1678 | Average Valid Loss: 0.3492 | Time: 63.26s\n"
                    ]
                },
                {
                    "data": {
                        "application/vnd.jupyter.widget-view+json": {
                            "model_id": "34472c9b7f604cd9898083db4e456731",
                            "version_major": 2,
                            "version_minor": 0
                        },
                        "text/plain": [
                            "Train:   0%|          | 0/276 [00:00<?, ?batch/s]"
                        ]
                    },
                    "metadata": {},
                    "output_type": "display_data"
                },
                {
                    "name": "stdout",
                    "output_type": "stream",
                    "text": [
                        "Epoch: [6][0/276]Elapsed 0.10s | Loss: 0.1456 Grad: 84348.5547 LR: 7.2357e-05\n",
                        "Epoch: [6][50/276]Elapsed 7.58s | Loss: 0.1621 Grad: 71455.9062 LR: 6.9971e-05\n",
                        "Epoch: [6][100/276]Elapsed 15.13s | Loss: 0.1588 Grad: 59666.8164 LR: 6.7529e-05\n",
                        "Epoch: [6][150/276]Elapsed 22.68s | Loss: 0.1596 Grad: 96081.8984 LR: 6.5039e-05\n",
                        "Epoch: [6][200/276]Elapsed 30.18s | Loss: 0.1588 Grad: 52496.0664 LR: 6.2507e-05\n",
                        "Epoch: [6][250/276]Elapsed 37.68s | Loss: 0.1571 Grad: 81130.6094 LR: 5.9941e-05\n",
                        "Epoch: [6][275/276]Elapsed 41.49s | Loss: 0.1565 Grad: 164283.5781 LR: 5.8595e-05\n"
                    ]
                },
                {
                    "data": {
                        "application/vnd.jupyter.widget-view+json": {
                            "model_id": "df8af8f3ed0f4fbabcf026505f2ca51c",
                            "version_major": 2,
                            "version_minor": 0
                        },
                        "text/plain": [
                            "Valid:   0%|          | 0/225 [00:00<?, ?batch/s]"
                        ]
                    },
                    "metadata": {},
                    "output_type": "display_data"
                },
                {
                    "name": "stdout",
                    "output_type": "stream",
                    "text": [
                        "Epoch: [6][0/225]Elapsed 0.10s | Loss: 0.3514\n",
                        "Epoch: [6][50/225]Elapsed 4.92s | Loss: 0.3884\n",
                        "Epoch: [6][100/225]Elapsed 9.74s | Loss: 0.3872\n",
                        "Epoch: [6][150/225]Elapsed 14.56s | Loss: 0.3921\n",
                        "Epoch: [6][200/225]Elapsed 19.38s | Loss: 0.3541\n"
                    ]
                },
                {
                    "name": "stderr",
                    "output_type": "stream",
                    "text": [
                        "----------------------------------------------------------------------------------------------------\n",
                        "Epoch 6 - Average Train Loss: 0.1565 | Average Valid Loss: 0.3406 | Time: 63.36s\n",
                        "Best model found in epoch 6 | valid loss: 0.3406\n",
                        "====================================================================================================\n",
                        "Fold 4 Valid Loss: (Easy) 0.7402 | (Hard) 0.4020\n",
                        "Elapse: 6.33 min \n",
                        "====================================================================================================\n",
                        "====================================================================================================\n",
                        "Training Complete!\n",
                        "CV Result (Stage=1): 0.7246476499242523\n",
                        "CV Result (Stage=2): 0.678525046121371\n",
                        "Elapse: 88.80 min \n",
                        "====================================================================================================\n"
                    ]
                }
            ],
            "source": [
                "hms_predictor.train_folds(train_easy, train_hard, all_specs, all_eegs)"
            ]
        },
        {
            "cell_type": "code",
            "execution_count": null,
            "metadata": {},
            "outputs": [],
            "source": [
                "dataset = CustomDataset(train_easy, TARGETS, ModelConfig, all_specs, all_eegs, mode='test')\n",
                "\n",
                "X, y = dataset[0]\n",
                "print(X.shape, y.shape)\n",
                "\n",
                "model = CustomModel(ModelConfig, num_classes=6, pretrained=True)\n",
                "y_pred = model(X.unsqueeze(0))\n",
                "\n",
                "print(y_pred.shape)"
            ]
        },
        {
            "cell_type": "code",
            "execution_count": null,
            "metadata": {},
            "outputs": [],
            "source": [
                "oof_df1 = pd.read_csv(\"./outputs/ENet_b2_xymasking_cutmix/oof_1.csv\")\n",
                "oof_df2 = pd.read_csv(\"./outputs/ENet_b2_xymasking_cutmix/oof_2.csv\")\n",
                "\n",
                "cv_1 = evaluate_oof(oof_df1)\n",
                "cv_2 = evaluate_oof(oof_df2)\n",
                "\n",
                "print(cv_1)\n",
                "print(cv_2)"
            ]
        },
        {
            "cell_type": "code",
            "execution_count": null,
            "metadata": {},
            "outputs": [],
            "source": [
                "from kl_divergence import score as kl_score\n",
                "\n",
                "\n",
                "def calc_kl_div(p, q, criterion):\n",
                "    \n",
                "    p = torch.tensor(p.astype(np.float32)).unsqueeze(0)\n",
                "    q = torch.tensor(q.astype(np.float32)).unsqueeze(0)\n",
                "    return criterion(F.log_softmax(p, dim=1), q).item()\n",
                "\n",
                "def calc_kaggle_score(solution, submission):\n",
                "    solution = solution.to_frame().T\n",
                "    solution[TARGETS] = solution[TARGETS].astype(np.float32)\n",
                "    submission = submission.to_frame().T\n",
                "    submission.columns = ['eeg_id'] + TARGETS\n",
                "    submission[TARGETS] = submission[TARGETS].astype(np.float32)\n",
                "    \n",
                "    return kl_score(solution, submission, 'eeg_id')"
            ]
        },
        {
            "cell_type": "code",
            "execution_count": null,
            "metadata": {},
            "outputs": [],
            "source": [
                "def evaluate_oof(oof_csv_path):\n",
                "    oof_df = pd.read_csv(oof_csv_path)\n",
                "    softmax = nn.Softmax(dim=1)\n",
                "    criterion = nn.KLDivLoss(reduction=\"batchmean\")\n",
                "\n",
                "    oof_df[\"kl_loss\"] = oof_df.apply(lambda row: \n",
                "        calc_kl_div(row[TARGETS_PRED].values, row[TARGETS].values, criterion), axis=1\n",
                "        )\n",
                "\n",
                "    kl_loss_all = criterion(\n",
                "        F.log_softmax(torch.tensor(oof_df[TARGETS_PRED].values.astype(np.float32)), dim=1),\n",
                "        torch.tensor(oof_df[TARGETS].values.astype(np.float32)),\n",
                "        )\n",
                "\n",
                "    print(f\"KL Loss All: {kl_loss_all}\")\n",
                "    print(f\"KL Loss Mean: {oof_df['kl_loss'].mean()}\")\n",
                "\n",
                "    y_pred = oof_df[TARGETS].values.astype(np.float32)\n",
                "    oof_df[TARGETS_PRED] = softmax(torch.tensor(y_pred)).numpy()\n",
                "\n",
                "    solution = oof_df[['eeg_id'] + TARGETS].copy()\n",
                "    submission = oof_df[['eeg_id'] + TARGETS_PRED].copy()\n",
                "    submission.columns = ['eeg_id'] + TARGETS\n",
                "\n",
                "    kaggle_score_all = kl_score(solution, submission, 'eeg_id')\n",
                "    \n",
                "    oof_df['kaggle_score'] = oof_df.apply(lambda row:\n",
                "        calc_kaggle_score(row[['eeg_id'] + TARGETS], row[['eeg_id'] + TARGETS_PRED]), axis=1\n",
                "        )\n",
                "\n",
                "    print(f\"Kaggle Score All: {kaggle_score_all}\")\n",
                "    print(f\"Kaggle Score Mean: {oof_df['kaggle_score'].mean()}\")\n",
                "\n",
                "    return oof_df, kl_loss_all, kaggle_score_all\n"
            ]
        },
        {
            "cell_type": "code",
            "execution_count": null,
            "metadata": {},
            "outputs": [],
            "source": [
                "oof_1, kl_loss_all, kaggle_score_all = evaluate_oof(f\"{JobConfig.OUTPUT_DIR}/oof_1.csv\")\n",
                "oof_2, kl_loss_all, kaggle_score_all = evaluate_oof(f\"{JobConfig.OUTPUT_DIR}/oof_2.csv\")"
            ]
        },
        {
            "cell_type": "code",
            "execution_count": null,
            "metadata": {},
            "outputs": [],
            "source": [
                "fig, axes = plt.subplots(4, 4, figsize=(10, 10), sharex=True, sharey=True)\n",
                "\n",
                "# rows = oof_df.iloc[-len(axes.ravel()):, :]\n",
                "rows = oof_1.sample(len(axes.ravel()))\n",
                "\n",
                "for i, (idx, row) in enumerate(rows.iterrows()):\n",
                "\n",
                "    ax = axes.ravel()[i]\n",
                "    ax.plot(row[TARGETS].values, label='True')\n",
                "    ax.plot(row[TARGETS_PRED].values, label='Pred')\n",
                "    ax.set_title(f\"{idx} | {row['target']} | KL: {row['kl_loss']:.4f}\")\n",
                "    ax.set_xticks(range(6))\n",
                "    ax.set_xticklabels(BRAIN_ACTIVITY)\n",
                "    ax.grid(True)\n",
                "    ax.legend()\n",
                "\n",
                "fig.tight_layout()\n",
                "fig.savefig(f\"{JobConfig.OUTPUT_DIR}/oof_examples_1.png\")\n",
                "plt.show()"
            ]
        },
        {
            "cell_type": "code",
            "execution_count": null,
            "metadata": {},
            "outputs": [],
            "source": [
                "fig, axes = plt.subplots(4, 4, figsize=(10, 10), sharex=True, sharey=True)\n",
                "\n",
                "# rows = oof_2.iloc[5:5+len(axes.ravel()), :]\n",
                "rows = oof_2.sample(len(axes.ravel()))\n",
                "\n",
                "for i, (idx, row) in enumerate(rows.iterrows()):\n",
                "\n",
                "    ax = axes.ravel()[i]\n",
                "    y_true = row[TARGETS].values\n",
                "    y_pred = row[TARGETS_PRED].values\n",
                "    y_norm = (y_true - y_true.min()) / (y_true.max() - y_true.min())\n",
                "\n",
                "    ax.plot(row[TARGETS].values, label='True')\n",
                "    ax.plot(row[TARGETS_PRED].values, label='Pred')\n",
                "    ax.plot(y_norm, \"b:\", label='True Norm')\n",
                "\n",
                "    ax.set_title(f\"{idx} | {row['target']} | KL: {row['kl_loss']:.4f}\")\n",
                "    ax.set_xticks(range(6))\n",
                "    ax.set_xticklabels(BRAIN_ACTIVITY)\n",
                "    ax.grid(True)\n",
                "    ax.legend()\n",
                "\n",
                "fig.tight_layout()\n",
                "fig.savefig(f\"{JobConfig.OUTPUT_DIR}/oof_examples_2.png\")\n",
                "plt.show()"
            ]
        },
        {
            "cell_type": "code",
            "execution_count": null,
            "metadata": {},
            "outputs": [],
            "source": [
                "row = oof_2.loc[6]\n",
                "\n",
                "min_pred = row[TARGETS_PRED].min()\n",
                "max_pred = row[TARGETS_PRED].max()\n",
                "print(min_pred, max_pred)\n",
                "\n",
                "print(row[TARGETS_PRED])\n",
                "\n",
                "targets_norm = (row[TARGETS] - row[TARGETS].min()) / (row[TARGETS].max() - row[TARGETS].min())\n",
                "\n",
                "targets_norm = targets_norm / targets_norm.sum()\n",
                "\n",
                "print(targets_norm)"
            ]
        },
        {
            "cell_type": "code",
            "execution_count": null,
            "metadata": {},
            "outputs": [],
            "source": []
        },
        {
            "cell_type": "code",
            "execution_count": null,
            "metadata": {},
            "outputs": [],
            "source": []
        }
    ],
    "metadata": {
        "kernelspec": {
            "display_name": "kaggle",
            "language": "python",
            "name": "python3"
        },
        "language_info": {
            "codemirror_mode": {
                "name": "ipython",
                "version": 3
            },
            "file_extension": ".py",
            "mimetype": "text/x-python",
            "name": "python",
            "nbconvert_exporter": "python",
            "pygments_lexer": "ipython3",
            "version": "3.11.6"
        }
    },
    "nbformat": 4,
    "nbformat_minor": 2
}
