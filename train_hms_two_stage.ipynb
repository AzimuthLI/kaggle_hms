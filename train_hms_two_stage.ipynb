{
    "cells": [
        {
            "cell_type": "code",
            "execution_count": 1,
            "metadata": {},
            "outputs": [
                {
                    "name": "stderr",
                    "output_type": "stream",
                    "text": [
                        "/home/shiyi/miniconda3/envs/kaggle/lib/python3.11/site-packages/transformers/utils/generic.py:441: UserWarning: torch.utils._pytree._register_pytree_node is deprecated. Please use torch.utils._pytree.register_pytree_node instead.\n",
                        "  _torch_pytree._register_pytree_node(\n",
                        "/home/shiyi/miniconda3/envs/kaggle/lib/python3.11/site-packages/transformers/utils/generic.py:309: UserWarning: torch.utils._pytree._register_pytree_node is deprecated. Please use torch.utils._pytree.register_pytree_node instead.\n",
                        "  _torch_pytree._register_pytree_node(\n"
                    ]
                }
            ],
            "source": [
                "import os\n",
                "import pandas as pd \n",
                "import numpy as np \n",
                "import matplotlib.pyplot as plt\n",
                "from sklearn.metrics import confusion_matrix\n",
                "import seaborn as sns\n",
                "import gc\n",
                "\n",
                "from kl_divergence import score as kaggle_score \n",
                "from engine_hms_trainer import (\n",
                "    seed_everything, gen_non_overlap_samples, calc_entropy, evaluate_oof, get_logger, \n",
                "    Trainer, TARGETS, TARGETS_PRED, BRAIN_ACTIVITY\n",
                "    )\n",
                "from engine_hms_model import (\n",
                "    KagglePaths, LocalPaths, ModelConfig, CustomDataset, CustomEfficientNET, CustomVITMAE, DualEncoderModel, \n",
                ")\n",
                "\n",
                "import torch\n",
                "from torch import nn\n",
                "import torch.nn.functional as F\n",
                "from torch.utils.data import DataLoader, Dataset\n",
                "\n",
                "from time import ctime, time\n",
                "from sklearn.model_selection import KFold\n",
                "\n",
                "import warnings\n",
                "# warnings.filterwarnings('ignore')\n",
                "\n",
                "pd.set_option('display.max_columns', None)"
            ]
        },
        {
            "cell_type": "code",
            "execution_count": 2,
            "metadata": {},
            "outputs": [
                {
                    "name": "stdout",
                    "output_type": "stream",
                    "text": [
                        "Output Dir:  ./outputs/\n"
                    ]
                }
            ],
            "source": [
                "PATHS = KagglePaths if os.path.exists(KagglePaths.OUTPUT_DIR) else LocalPaths\n",
                "print(\"Output Dir: \", PATHS.OUTPUT_DIR)\n",
                "\n",
                "ALL_SPECS = np.load(PATHS.PRE_LOADED_SPECTROGRAMS, allow_pickle=True).item()\n",
                "ALL_EEGS = np.load(PATHS.PRE_LOADED_EEGS, allow_pickle=True).item()\n",
                "\n",
                "seed_everything(ModelConfig.SEED)"
            ]
        },
        {
            "cell_type": "code",
            "execution_count": 3,
            "metadata": {},
            "outputs": [],
            "source": [
                "def prepare_k_fold(df, k_folds=5):\n",
                "\n",
                "    kf = KFold(n_splits=k_folds, shuffle=True, random_state=ModelConfig.SEED)\n",
                "    unique_spec_id = df['spectrogram_id'].unique()\n",
                "    df['fold'] = k_folds\n",
                "\n",
                "    for fold, (train_index, valid_index) in enumerate(kf.split(unique_spec_id)):\n",
                "        df.loc[df['spectrogram_id'].isin(unique_spec_id[valid_index]), 'fold'] = fold\n",
                "\n",
                "    return df\n",
                "\n",
                "\n",
                "def train_fold(model, fold_id, train_folds, valid_folds, logger, stage=1, checkpoint=None):\n",
                "\n",
                "    train_dataset = CustomDataset(\n",
                "        train_folds, TARGETS, ModelConfig, ALL_SPECS, ALL_EEGS, mode=\"train\")\n",
                "\n",
                "    valid_dataset = CustomDataset(\n",
                "        valid_folds, TARGETS, ModelConfig, ALL_SPECS, ALL_EEGS, mode=\"valid\")\n",
                "\n",
                "    # ======== DATALOADERS ==========\n",
                "    loader_kwargs = {\n",
                "        \"batch_size\": ModelConfig.BATCH_SIZE,\n",
                "        \"num_workers\": ModelConfig.NUM_WORKERS,\n",
                "        \"pin_memory\": True,\n",
                "        \"shuffle\": False,\n",
                "    }\n",
                "    train_loader = DataLoader(train_dataset, drop_last=True, **loader_kwargs)\n",
                "    valid_loader = DataLoader(valid_dataset, drop_last=False, **loader_kwargs)\n",
                "\n",
                "    trainer = Trainer(model, ModelConfig, logger)\n",
                "    best_weights, best_preds, loss_records = trainer.train(\n",
                "        train_loader, valid_loader, from_checkpoint=checkpoint)\n",
                "\n",
                "    save_model_name = f\"{ModelConfig.MODEL_NAME}_fold_{fold_id}_stage_{stage}.pth\"\n",
                "    torch.save(best_weights, os.path.join(PATHS.OUTPUT_DIR, save_model_name))\n",
                "\n",
                "    del train_dataset, valid_dataset, train_loader, valid_loader\n",
                "    torch.cuda.empty_cache()\n",
                "    gc.collect()\n",
                "\n",
                "    return best_preds, loss_records\n",
                "\n",
                "def get_model(pretrained=True):\n",
                "    \n",
                "    backbone = ModelConfig.MODEL_BACKBONE\n",
                "\n",
                "    if \"efficientnet\" in backbone:\n",
                "        return CustomEfficientNET(ModelConfig, num_classes=6, pretrained=pretrained)\n",
                "    elif \"vit\" in backbone:\n",
                "        return CustomVITMAE(ModelConfig, num_classes=6, pretrained=pretrained)\n",
                "    elif \"dual\" in backbone:\n",
                "        return DualEncoderModel(ModelConfig, num_classes=6, pretrained=pretrained)\n",
                "    else:\n",
                "        return None"
            ]
        },
        {
            "cell_type": "code",
            "execution_count": 4,
            "metadata": {},
            "outputs": [],
            "source": [
                "TARGET2ID = {'Seizure': 0, 'LPD': 1, 'GPD': 2, 'LRDA': 3, 'GRDA': 4, 'Other': 5}\n",
                "\n",
                "def calc_kaggle_score(oof_df):\n",
                "    submission_df = oof_df[['eeg_id']+TARGETS_PRED].copy()\n",
                "    submission_df.columns = ['eeg_id'] + TARGETS\n",
                "    solution_df = oof_df[['eeg_id']+TARGETS].copy()\n",
                "    return kaggle_score(solution_df, submission_df, 'eeg_id')\n",
                "\n",
                "def analyze_oof(oof_csv):\n",
                "\n",
                "    kl_criteria = nn.KLDivLoss(reduction='batchmean')\n",
                "    softmax = nn.Softmax(dim=1)\n",
                "\n",
                "    oof_df = pd.read_csv(oof_csv)\n",
                "    oof_df['target_pred'] = oof_df[TARGETS_PRED].apply(lambda x: np.argmax(x), axis=1)\n",
                "    oof_df['target_id'] = oof_df[TARGETS].apply(lambda x: np.argmax(x), axis=1)\n",
                "    \n",
                "    oof_df[\"kl_loss\"] = oof_df.apply(\n",
                "    lambda row: \n",
                "        kl_criteria(\n",
                "            F.log_softmax(\n",
                "                    torch.tensor(row[TARGETS_PRED].values.astype(np.float32)).unsqueeze(0)\n",
                "                , dim=1\n",
                "                ), \n",
                "            torch.tensor(row[TARGETS].values.astype(np.float32))\n",
                "            ).numpy(),\n",
                "    axis=1)\n",
                "\n",
                "    oof_df[\"kl_loss\"] = oof_df['kl_loss'].astype(np.float32)\n",
                "\n",
                "    oof_df[TARGETS_PRED] = softmax( torch.tensor(oof_df[TARGETS_PRED].values.astype(np.float32)) )\n",
                "\n",
                "    oof_df.head()\n",
                "\n",
                "    return oof_df"
            ]
        },
        {
            "cell_type": "code",
            "execution_count": 5,
            "metadata": {},
            "outputs": [
                {
                    "name": "stdout",
                    "output_type": "stream",
                    "text": [
                        "targets:  ['seizure_vote', 'lpd_vote', 'gpd_vote', 'lrda_vote', 'grda_vote', 'other_vote']\n",
                        "train_all.shape =  (20183, 12)\n",
                        "train_all nan_count:  0\n"
                    ]
                },
                {
                    "data": {
                        "text/html": [
                            "<div>\n",
                            "<style scoped>\n",
                            "    .dataframe tbody tr th:only-of-type {\n",
                            "        vertical-align: middle;\n",
                            "    }\n",
                            "\n",
                            "    .dataframe tbody tr th {\n",
                            "        vertical-align: top;\n",
                            "    }\n",
                            "\n",
                            "    .dataframe thead th {\n",
                            "        text-align: right;\n",
                            "    }\n",
                            "</style>\n",
                            "<table border=\"1\" class=\"dataframe\">\n",
                            "  <thead>\n",
                            "    <tr style=\"text-align: right;\">\n",
                            "      <th></th>\n",
                            "      <th>eeg_id</th>\n",
                            "      <th>seizure_vote</th>\n",
                            "      <th>lpd_vote</th>\n",
                            "      <th>gpd_vote</th>\n",
                            "      <th>lrda_vote</th>\n",
                            "      <th>grda_vote</th>\n",
                            "      <th>other_vote</th>\n",
                            "      <th>spectrogram_id</th>\n",
                            "      <th>min</th>\n",
                            "      <th>max</th>\n",
                            "      <th>patient_id</th>\n",
                            "      <th>target</th>\n",
                            "    </tr>\n",
                            "  </thead>\n",
                            "  <tbody>\n",
                            "    <tr>\n",
                            "      <th>0</th>\n",
                            "      <td>568657</td>\n",
                            "      <td>0.0</td>\n",
                            "      <td>0.000000</td>\n",
                            "      <td>0.25</td>\n",
                            "      <td>0.000000</td>\n",
                            "      <td>0.166667</td>\n",
                            "      <td>0.583333</td>\n",
                            "      <td>789577333</td>\n",
                            "      <td>0.0</td>\n",
                            "      <td>16.0</td>\n",
                            "      <td>20654</td>\n",
                            "      <td>Other</td>\n",
                            "    </tr>\n",
                            "    <tr>\n",
                            "      <th>1</th>\n",
                            "      <td>582999</td>\n",
                            "      <td>0.0</td>\n",
                            "      <td>0.857143</td>\n",
                            "      <td>0.00</td>\n",
                            "      <td>0.071429</td>\n",
                            "      <td>0.000000</td>\n",
                            "      <td>0.071429</td>\n",
                            "      <td>1552638400</td>\n",
                            "      <td>0.0</td>\n",
                            "      <td>38.0</td>\n",
                            "      <td>20230</td>\n",
                            "      <td>LPD</td>\n",
                            "    </tr>\n",
                            "    <tr>\n",
                            "      <th>2</th>\n",
                            "      <td>642382</td>\n",
                            "      <td>0.0</td>\n",
                            "      <td>0.000000</td>\n",
                            "      <td>0.00</td>\n",
                            "      <td>0.000000</td>\n",
                            "      <td>0.000000</td>\n",
                            "      <td>1.000000</td>\n",
                            "      <td>14960202</td>\n",
                            "      <td>1008.0</td>\n",
                            "      <td>1032.0</td>\n",
                            "      <td>5955</td>\n",
                            "      <td>Other</td>\n",
                            "    </tr>\n",
                            "    <tr>\n",
                            "      <th>3</th>\n",
                            "      <td>751790</td>\n",
                            "      <td>0.0</td>\n",
                            "      <td>0.000000</td>\n",
                            "      <td>1.00</td>\n",
                            "      <td>0.000000</td>\n",
                            "      <td>0.000000</td>\n",
                            "      <td>0.000000</td>\n",
                            "      <td>618728447</td>\n",
                            "      <td>908.0</td>\n",
                            "      <td>908.0</td>\n",
                            "      <td>38549</td>\n",
                            "      <td>GPD</td>\n",
                            "    </tr>\n",
                            "    <tr>\n",
                            "      <th>4</th>\n",
                            "      <td>778705</td>\n",
                            "      <td>0.0</td>\n",
                            "      <td>0.000000</td>\n",
                            "      <td>0.00</td>\n",
                            "      <td>0.000000</td>\n",
                            "      <td>0.000000</td>\n",
                            "      <td>1.000000</td>\n",
                            "      <td>52296320</td>\n",
                            "      <td>0.0</td>\n",
                            "      <td>0.0</td>\n",
                            "      <td>40955</td>\n",
                            "      <td>Other</td>\n",
                            "    </tr>\n",
                            "  </tbody>\n",
                            "</table>\n",
                            "</div>"
                        ],
                        "text/plain": [
                            "   eeg_id  seizure_vote  lpd_vote  gpd_vote  lrda_vote  grda_vote  other_vote  \\\n",
                            "0  568657           0.0  0.000000      0.25   0.000000   0.166667    0.583333   \n",
                            "1  582999           0.0  0.857143      0.00   0.071429   0.000000    0.071429   \n",
                            "2  642382           0.0  0.000000      0.00   0.000000   0.000000    1.000000   \n",
                            "3  751790           0.0  0.000000      1.00   0.000000   0.000000    0.000000   \n",
                            "4  778705           0.0  0.000000      0.00   0.000000   0.000000    1.000000   \n",
                            "\n",
                            "   spectrogram_id     min     max  patient_id target  \n",
                            "0       789577333     0.0    16.0       20654  Other  \n",
                            "1      1552638400     0.0    38.0       20230    LPD  \n",
                            "2        14960202  1008.0  1032.0        5955  Other  \n",
                            "3       618728447   908.0   908.0       38549    GPD  \n",
                            "4        52296320     0.0     0.0       40955  Other  "
                        ]
                    },
                    "metadata": {},
                    "output_type": "display_data"
                },
                {
                    "name": "stdout",
                    "output_type": "stream",
                    "text": [
                        " \n",
                        "train_hard.shape =  (6187, 12)\n",
                        "train_hard nan_count:  0\n"
                    ]
                },
                {
                    "data": {
                        "text/html": [
                            "<div>\n",
                            "<style scoped>\n",
                            "    .dataframe tbody tr th:only-of-type {\n",
                            "        vertical-align: middle;\n",
                            "    }\n",
                            "\n",
                            "    .dataframe tbody tr th {\n",
                            "        vertical-align: top;\n",
                            "    }\n",
                            "\n",
                            "    .dataframe thead th {\n",
                            "        text-align: right;\n",
                            "    }\n",
                            "</style>\n",
                            "<table border=\"1\" class=\"dataframe\">\n",
                            "  <thead>\n",
                            "    <tr style=\"text-align: right;\">\n",
                            "      <th></th>\n",
                            "      <th>eeg_id</th>\n",
                            "      <th>seizure_vote</th>\n",
                            "      <th>lpd_vote</th>\n",
                            "      <th>gpd_vote</th>\n",
                            "      <th>lrda_vote</th>\n",
                            "      <th>grda_vote</th>\n",
                            "      <th>other_vote</th>\n",
                            "      <th>spectrogram_id</th>\n",
                            "      <th>min</th>\n",
                            "      <th>max</th>\n",
                            "      <th>patient_id</th>\n",
                            "      <th>target</th>\n",
                            "    </tr>\n",
                            "  </thead>\n",
                            "  <tbody>\n",
                            "    <tr>\n",
                            "      <th>0</th>\n",
                            "      <td>568657</td>\n",
                            "      <td>0.000000</td>\n",
                            "      <td>0.000000</td>\n",
                            "      <td>0.250000</td>\n",
                            "      <td>0.000000</td>\n",
                            "      <td>0.166667</td>\n",
                            "      <td>0.583333</td>\n",
                            "      <td>789577333</td>\n",
                            "      <td>0.0</td>\n",
                            "      <td>16.0</td>\n",
                            "      <td>20654</td>\n",
                            "      <td>Other</td>\n",
                            "    </tr>\n",
                            "    <tr>\n",
                            "      <th>1</th>\n",
                            "      <td>582999</td>\n",
                            "      <td>0.000000</td>\n",
                            "      <td>0.857143</td>\n",
                            "      <td>0.000000</td>\n",
                            "      <td>0.071429</td>\n",
                            "      <td>0.000000</td>\n",
                            "      <td>0.071429</td>\n",
                            "      <td>1552638400</td>\n",
                            "      <td>0.0</td>\n",
                            "      <td>38.0</td>\n",
                            "      <td>20230</td>\n",
                            "      <td>LPD</td>\n",
                            "    </tr>\n",
                            "    <tr>\n",
                            "      <th>2</th>\n",
                            "      <td>1895581</td>\n",
                            "      <td>0.076923</td>\n",
                            "      <td>0.000000</td>\n",
                            "      <td>0.000000</td>\n",
                            "      <td>0.000000</td>\n",
                            "      <td>0.076923</td>\n",
                            "      <td>0.846154</td>\n",
                            "      <td>128369999</td>\n",
                            "      <td>1138.0</td>\n",
                            "      <td>1138.0</td>\n",
                            "      <td>47999</td>\n",
                            "      <td>Other</td>\n",
                            "    </tr>\n",
                            "    <tr>\n",
                            "      <th>3</th>\n",
                            "      <td>2482631</td>\n",
                            "      <td>0.000000</td>\n",
                            "      <td>0.000000</td>\n",
                            "      <td>0.133333</td>\n",
                            "      <td>0.066667</td>\n",
                            "      <td>0.133333</td>\n",
                            "      <td>0.666667</td>\n",
                            "      <td>978166025</td>\n",
                            "      <td>1902.0</td>\n",
                            "      <td>1944.0</td>\n",
                            "      <td>20606</td>\n",
                            "      <td>Other</td>\n",
                            "    </tr>\n",
                            "    <tr>\n",
                            "      <th>4</th>\n",
                            "      <td>2521897</td>\n",
                            "      <td>0.000000</td>\n",
                            "      <td>0.000000</td>\n",
                            "      <td>0.083333</td>\n",
                            "      <td>0.083333</td>\n",
                            "      <td>0.333333</td>\n",
                            "      <td>0.500000</td>\n",
                            "      <td>673742515</td>\n",
                            "      <td>0.0</td>\n",
                            "      <td>4.0</td>\n",
                            "      <td>62117</td>\n",
                            "      <td>Other</td>\n",
                            "    </tr>\n",
                            "  </tbody>\n",
                            "</table>\n",
                            "</div>"
                        ],
                        "text/plain": [
                            "    eeg_id  seizure_vote  lpd_vote  gpd_vote  lrda_vote  grda_vote  \\\n",
                            "0   568657      0.000000  0.000000  0.250000   0.000000   0.166667   \n",
                            "1   582999      0.000000  0.857143  0.000000   0.071429   0.000000   \n",
                            "2  1895581      0.076923  0.000000  0.000000   0.000000   0.076923   \n",
                            "3  2482631      0.000000  0.000000  0.133333   0.066667   0.133333   \n",
                            "4  2521897      0.000000  0.000000  0.083333   0.083333   0.333333   \n",
                            "\n",
                            "   other_vote  spectrogram_id     min     max  patient_id target  \n",
                            "0    0.583333       789577333     0.0    16.0       20654  Other  \n",
                            "1    0.071429      1552638400     0.0    38.0       20230    LPD  \n",
                            "2    0.846154       128369999  1138.0  1138.0       47999  Other  \n",
                            "3    0.666667       978166025  1902.0  1944.0       20606  Other  \n",
                            "4    0.500000       673742515     0.0     4.0       62117  Other  "
                        ]
                    },
                    "metadata": {},
                    "output_type": "display_data"
                }
            ],
            "source": [
                "# train_easy, train_hard, all_specs, all_eegs = load_kaggle_data(\n",
                "#     paths.TRAIN_CSV, paths.PRE_LOADED_SPECTOGRAMS, paths.PRE_LOADED_EEGS, split_entropy=ModelConfig.SPLIT_ENTROPY)\n",
                "\n",
                "train_csv = pd.read_csv(PATHS.TRAIN_CSV)\n",
                "targets = train_csv.columns[-6:]\n",
                "\n",
                "print(\"targets: \", targets.to_list())\n",
                "\n",
                "train_csv['entropy'] = train_csv.apply(calc_entropy, axis=1, tgt_list=targets)\n",
                "train_csv['total_votes'] = train_csv[targets].sum(axis=1)\n",
                "\n",
                "hard_csv = train_csv[train_csv['entropy'] < ModelConfig.SPLIT_ENTROPY].copy().reset_index(drop=True)\n",
                "\n",
                "train_all = gen_non_overlap_samples(train_csv, targets)\n",
                "train_hard = gen_non_overlap_samples(hard_csv, targets)\n",
                "\n",
                "print(\"train_all.shape = \", train_all.shape)\n",
                "print(\"train_all nan_count: \", train_all.isnull().sum().sum())\n",
                "display(train_all.head())\n",
                "\n",
                "print(\" \")\n",
                "\n",
                "print(\"train_hard.shape = \", train_hard.shape)\n",
                "print(\"train_hard nan_count: \", train_hard.isnull().sum().sum())\n",
                "display(train_hard.head())"
            ]
        },
        {
            "cell_type": "code",
            "execution_count": 6,
            "metadata": {},
            "outputs": [],
            "source": [
                "# # EfficientNet_B2_resplit (CV=0.5330731377333943)\n",
                "# ModelConfig.EPOCHS = 6\n",
                "# ModelConfig.BATCH_SIZE = 16\n",
                "# ModelConfig.GRADIENT_ACCUMULATION_STEPS = 1\n",
                "# ModelConfig.MODEL_BACKBONE = 'tf_efficientnet_b2'\n",
                "# ModelConfig.MODEL_NAME = \"EfficientNet_B2_resplit\"\n",
                "# ModelConfig.USE_KAGGLE_SPECTROGRAMS = True\n",
                "# ModelConfig.USE_EEG_SPECTROGRAMS = True\n",
                "# ModelConfig.REGULARIZATION = None\n",
                "# ModelConfig.AUGMENT = True\n",
                "# ModelConfig.AUGMENTATIONS = ['xy_masking']\n",
                "\n",
                "# # config DualEncoder\n",
                "# ModelConfig.EPOCHS = 6\n",
                "# ModelConfig.BATCH_SIZE = 16\n",
                "# ModelConfig.GRADIENT_ACCUMULATION_STEPS = 1\n",
                "# ModelConfig.MODEL_BACKBONE = 'dual_encoder'\n",
                "# ModelConfig.MODEL_NAME = \"DualEncoder_B0\"\n",
                "# ModelConfig.USE_KAGGLE_SPECTROGRAMS = True\n",
                "# ModelConfig.USE_EEG_SPECTROGRAMS = True\n",
                "# ModelConfig.REGULARIZATION = None\n",
                "# ModelConfig.AUGMENT = False\n",
                "# ModelConfig.AUGMENTATIONS = []\n",
                "# ModelConfig.DUAL_ENCODER_BACKBONE = 'tf_efficientnet_b0'\n",
                "\n",
                "# Config ViTMAE\n",
                "ModelConfig.EPOCHS = 10\n",
                "ModelConfig.BATCH_SIZE = 16\n",
                "ModelConfig.GRADIENT_ACCUMULATION_STEPS = 1\n",
                "ModelConfig.MODEL_BACKBONE = 'vit_mae_base'\n",
                "ModelConfig.MODEL_NAME = \"MAE_Raw_Backbone\"\n",
                "ModelConfig.AUGMENT = True\n",
                "ModelConfig.USE_KAGGLE_SPECTROGRAMS = True\n",
                "ModelConfig.USE_EEG_SPECTROGRAMS = True\n",
                "ModelConfig.REGULARIZATION = None\n",
                "ModelConfig.AUGMENTATIONS = ['xy_masking']\n",
                "ModelConfig.MAE_PRETRAINED_WEIGHTS = \"facebook/vit-mae-base\" #\"./outputs/vit_mae_pretraining/ViTMAE_PreTrained_Best.pth\"\n",
                "ModelConfig.MAE_HIDDEN_DROPOUT_PROB = 0.1\n",
                "ModelConfig.MAE_ATTENTION_DROPOUT_PROB = 0.1\n",
                "ModelConfig.DROP_RATE = 0.2"
            ]
        },
        {
            "cell_type": "code",
            "execution_count": 7,
            "metadata": {},
            "outputs": [
                {
                    "name": "stderr",
                    "output_type": "stream",
                    "text": [
                        "****************************************************************************************************\n",
                        "Script Start: Sun Mar 24 21:38:42 2024\n",
                        "Model Configurations:\n",
                        "SEED: 20\n",
                        "SPLIT_ENTROPY: 5.5\n",
                        "MODEL_NAME: MAE_Raw_Backbone\n",
                        "MODEL_BACKBONE: vit_mae_base\n",
                        "BATCH_SIZE: 16\n",
                        "EPOCHS: 10\n",
                        "GRADIENT_ACCUMULATION_STEPS: 1\n",
                        "DROP_RATE: 0.2\n",
                        "DROP_PATH_RATE: 0.25\n",
                        "WEIGHT_DECAY: 0.01\n",
                        "REGULARIZATION: None\n",
                        "USE_KAGGLE_SPECTROGRAMS: True\n",
                        "USE_EEG_SPECTROGRAMS: True\n",
                        "AMP: True\n",
                        "AUGMENT: True\n",
                        "AUGMENTATIONS: ['xy_masking']\n",
                        "PRINT_FREQ: 50\n",
                        "FREEZE: False\n",
                        "NUM_FROZEN_LAYERS: 0\n",
                        "NUM_WORKERS: 0\n",
                        "MAX_GRAD_NORM: 10000000.0\n",
                        "DUAL_ENCODER_BACKBONE: tf_efficientnet_b2\n",
                        "MAE_PRETRAINED_WEIGHTS: facebook/vit-mae-base\n",
                        "MAE_HIDDEN_DROPOUT_PROB: 0.1\n",
                        "MAE_ATTENTION_DROPOUT_PROB: 0.1\n",
                        "****************************************************************************************************\n"
                    ]
                },
                {
                    "name": "stdout",
                    "output_type": "stream",
                    "text": [
                        "Loading pretrained weights from facebook/vit-mae-base\n"
                    ]
                },
                {
                    "name": "stderr",
                    "output_type": "stream",
                    "text": [
                        "====================================================================================================\n",
                        "Fold: 0 || Valid size 3988 \n",
                        "====================================================================================================\n",
                        "- First Stage -\n"
                    ]
                },
                {
                    "data": {
                        "application/vnd.jupyter.widget-view+json": {
                            "model_id": "66dc949c803d4610b1beced3e5e64967",
                            "version_major": 2,
                            "version_minor": 0
                        },
                        "text/plain": [
                            "Train [0]:   0%|          | 0/1012 [00:00<?, ?batch/s]"
                        ]
                    },
                    "metadata": {},
                    "output_type": "display_data"
                },
                {
                    "name": "stdout",
                    "output_type": "stream",
                    "text": [
                        "Epoch 1 [0/1012] | Train Loss: 1.5125 Grad: 79802.0547 LR: 4.0002e-06 | Elapse: 0.83s\n",
                        "Epoch 1 [50/1012] | Train Loss: 1.4284 Grad: 65676.4297 LR: 4.6015e-06 | Elapse: 4.78s\n",
                        "Epoch 1 [100/1012] | Train Loss: 1.3814 Grad: 75379.9766 LR: 6.3447e-06 | Elapse: 8.64s\n",
                        "Epoch 1 [150/1012] | Train Loss: 1.3388 Grad: 76271.6484 LR: 9.1878e-06 | Elapse: 12.50s\n",
                        "Epoch 1 [200/1012] | Train Loss: 1.3152 Grad: 214073.9219 LR: 1.3062e-05 | Elapse: 16.38s\n",
                        "Epoch 1 [250/1012] | Train Loss: 1.3098 Grad: 109115.9844 LR: 1.7875e-05 | Elapse: 20.23s\n",
                        "Epoch 1 [300/1012] | Train Loss: 1.3053 Grad: 87156.0078 LR: 2.3509e-05 | Elapse: 24.09s\n",
                        "Epoch 1 [350/1012] | Train Loss: 1.2991 Grad: 223324.6875 LR: 2.9831e-05 | Elapse: 27.99s\n",
                        "Epoch 1 [400/1012] | Train Loss: 1.2883 Grad: 222923.6562 LR: 3.6686e-05 | Elapse: 31.86s\n",
                        "Epoch 1 [450/1012] | Train Loss: 1.2690 Grad: 159761.4062 LR: 4.3910e-05 | Elapse: 35.74s\n",
                        "Epoch 1 [500/1012] | Train Loss: 1.2511 Grad: 216466.3906 LR: 5.1329e-05 | Elapse: 39.73s\n",
                        "Epoch 1 [550/1012] | Train Loss: 1.2328 Grad: 252351.8906 LR: 5.8764e-05 | Elapse: 43.65s\n",
                        "Epoch 1 [600/1012] | Train Loss: 1.2194 Grad: 255393.6250 LR: 6.6036e-05 | Elapse: 47.54s\n",
                        "Epoch 1 [650/1012] | Train Loss: 1.2066 Grad: 279656.0312 LR: 7.2970e-05 | Elapse: 51.55s\n",
                        "Epoch 1 [700/1012] | Train Loss: 1.1934 Grad: 259240.1406 LR: 7.9399e-05 | Elapse: 55.48s\n",
                        "Epoch 1 [750/1012] | Train Loss: 1.1824 Grad: 150123.3438 LR: 8.5168e-05 | Elapse: 59.37s\n",
                        "Epoch 1 [800/1012] | Train Loss: 1.1702 Grad: 152410.5625 LR: 9.0138e-05 | Elapse: 63.27s\n",
                        "Epoch 1 [850/1012] | Train Loss: 1.1575 Grad: 149331.3281 LR: 9.4189e-05 | Elapse: 67.18s\n",
                        "Epoch 1 [900/1012] | Train Loss: 1.1441 Grad: 160229.5781 LR: 9.7223e-05 | Elapse: 71.09s\n",
                        "Epoch 1 [950/1012] | Train Loss: 1.1352 Grad: 177966.9531 LR: 9.9168e-05 | Elapse: 75.34s\n",
                        "Epoch 1 [1000/1012] | Train Loss: 1.1256 Grad: 149678.4219 LR: 9.9977e-05 | Elapse: 79.26s\n",
                        "Epoch 1 [1011/1012] | Train Loss: 1.1238 Grad: 194180.0156 LR: 1.0000e-04 | Elapse: 80.11s\n"
                    ]
                },
                {
                    "data": {
                        "application/vnd.jupyter.widget-view+json": {
                            "model_id": "fc2d1b2c58f34badb5b73201affa1321",
                            "version_major": 2,
                            "version_minor": 0
                        },
                        "text/plain": [
                            "Valid [0]:   0%|          | 0/250 [00:00<?, ?batch/s]"
                        ]
                    },
                    "metadata": {},
                    "output_type": "display_data"
                },
                {
                    "name": "stdout",
                    "output_type": "stream",
                    "text": [
                        "Epoch 1 [0/250] | Valid Loss: 0.7482 | Elapse: 0.06s\n",
                        "Epoch 1 [50/250] | Valid Loss: 1.0247 | Elapse: 2.52s\n",
                        "Epoch 1 [100/250] | Valid Loss: 1.0317 | Elapse: 5.12s\n",
                        "Epoch 1 [150/250] | Valid Loss: 1.0570 | Elapse: 7.81s\n",
                        "Epoch 1 [200/250] | Valid Loss: 1.0538 | Elapse: 10.43s\n"
                    ]
                },
                {
                    "name": "stderr",
                    "output_type": "stream",
                    "text": [
                        "----------------------------------------------------------------------------------------------------\n",
                        "Epoch 1 - Average Loss: (train) 1.1238; (valid) 1.0551 | Time: 93.08s\n",
                        "Best model found in epoch 1 | valid loss: 1.0551\n"
                    ]
                },
                {
                    "name": "stdout",
                    "output_type": "stream",
                    "text": [
                        "Epoch 1 [249/250] | Valid Loss: 1.0551 | Elapse: 12.96s\n"
                    ]
                },
                {
                    "data": {
                        "application/vnd.jupyter.widget-view+json": {
                            "model_id": "8fad203fd09d491b9221bf26fa62e463",
                            "version_major": 2,
                            "version_minor": 0
                        },
                        "text/plain": [
                            "Train [1]:   0%|          | 0/1012 [00:00<?, ?batch/s]"
                        ]
                    },
                    "metadata": {},
                    "output_type": "display_data"
                },
                {
                    "name": "stdout",
                    "output_type": "stream",
                    "text": [
                        "Epoch 2 [0/1012] | Train Loss: 1.1442 Grad: 182002.3750 LR: 1.0000e-04 | Elapse: 0.09s\n",
                        "Epoch 2 [50/1012] | Train Loss: 0.9354 Grad: 194359.6875 LR: 9.9992e-05 | Elapse: 4.02s\n",
                        "Epoch 2 [100/1012] | Train Loss: 0.9133 Grad: 183987.7656 LR: 9.9969e-05 | Elapse: 7.90s\n",
                        "Epoch 2 [150/1012] | Train Loss: 0.9078 Grad: 167776.8750 LR: 9.9931e-05 | Elapse: 11.79s\n",
                        "Epoch 2 [200/1012] | Train Loss: 0.8991 Grad: 160814.9219 LR: 9.9879e-05 | Elapse: 15.70s\n",
                        "Epoch 2 [250/1012] | Train Loss: 0.9043 Grad: 178336.5781 LR: 9.9811e-05 | Elapse: 19.57s\n",
                        "Epoch 2 [300/1012] | Train Loss: 0.9005 Grad: 114207.6328 LR: 9.9729e-05 | Elapse: 23.46s\n",
                        "Epoch 2 [350/1012] | Train Loss: 0.9018 Grad: 272780.3438 LR: 9.9632e-05 | Elapse: 27.39s\n",
                        "Epoch 2 [400/1012] | Train Loss: 0.8991 Grad: 240732.9062 LR: 9.9520e-05 | Elapse: 31.31s\n",
                        "Epoch 2 [450/1012] | Train Loss: 0.8982 Grad: 126988.8984 LR: 9.9394e-05 | Elapse: 35.25s\n",
                        "Epoch 2 [500/1012] | Train Loss: 0.8928 Grad: 232624.3281 LR: 9.9253e-05 | Elapse: 39.22s\n",
                        "Epoch 2 [550/1012] | Train Loss: 0.8918 Grad: 237269.1094 LR: 9.9097e-05 | Elapse: 43.11s\n",
                        "Epoch 2 [600/1012] | Train Loss: 0.8865 Grad: 175860.5469 LR: 9.8926e-05 | Elapse: 47.01s\n",
                        "Epoch 2 [650/1012] | Train Loss: 0.8835 Grad: 246285.6562 LR: 9.8741e-05 | Elapse: 50.88s\n",
                        "Epoch 2 [700/1012] | Train Loss: 0.8779 Grad: 215147.8438 LR: 9.8542e-05 | Elapse: 54.79s\n",
                        "Epoch 2 [750/1012] | Train Loss: 0.8772 Grad: 242252.4062 LR: 9.8328e-05 | Elapse: 58.67s\n",
                        "Epoch 2 [800/1012] | Train Loss: 0.8752 Grad: 146767.2969 LR: 9.8100e-05 | Elapse: 62.55s\n",
                        "Epoch 2 [850/1012] | Train Loss: 0.8712 Grad: 125511.4922 LR: 9.7857e-05 | Elapse: 66.40s\n",
                        "Epoch 2 [900/1012] | Train Loss: 0.8656 Grad: 181689.2188 LR: 9.7600e-05 | Elapse: 70.28s\n",
                        "Epoch 2 [950/1012] | Train Loss: 0.8620 Grad: 168052.5625 LR: 9.7330e-05 | Elapse: 74.15s\n",
                        "Epoch 2 [1000/1012] | Train Loss: 0.8587 Grad: 146665.1562 LR: 9.7045e-05 | Elapse: 78.01s\n",
                        "Epoch 2 [1011/1012] | Train Loss: 0.8588 Grad: 156732.8438 LR: 9.6980e-05 | Elapse: 78.86s\n"
                    ]
                },
                {
                    "data": {
                        "application/vnd.jupyter.widget-view+json": {
                            "model_id": "814bc081d8024ebdbe108eccc98815d2",
                            "version_major": 2,
                            "version_minor": 0
                        },
                        "text/plain": [
                            "Valid [1]:   0%|          | 0/250 [00:00<?, ?batch/s]"
                        ]
                    },
                    "metadata": {},
                    "output_type": "display_data"
                },
                {
                    "name": "stdout",
                    "output_type": "stream",
                    "text": [
                        "Epoch 2 [0/250] | Valid Loss: 0.5244 | Elapse: 0.05s\n",
                        "Epoch 2 [50/250] | Valid Loss: 0.8153 | Elapse: 2.50s\n",
                        "Epoch 2 [100/250] | Valid Loss: 0.7986 | Elapse: 5.06s\n",
                        "Epoch 2 [150/250] | Valid Loss: 0.8286 | Elapse: 7.65s\n",
                        "Epoch 2 [200/250] | Valid Loss: 0.8290 | Elapse: 10.28s\n"
                    ]
                },
                {
                    "name": "stderr",
                    "output_type": "stream",
                    "text": [
                        "----------------------------------------------------------------------------------------------------\n",
                        "Epoch 2 - Average Loss: (train) 0.8588; (valid) 0.8345 | Time: 91.69s\n",
                        "Best model found in epoch 2 | valid loss: 0.8345\n"
                    ]
                },
                {
                    "name": "stdout",
                    "output_type": "stream",
                    "text": [
                        "Epoch 2 [249/250] | Valid Loss: 0.8345 | Elapse: 12.83s\n"
                    ]
                },
                {
                    "data": {
                        "application/vnd.jupyter.widget-view+json": {
                            "model_id": "0cbf5d1553d34e99ac505d591969a870",
                            "version_major": 2,
                            "version_minor": 0
                        },
                        "text/plain": [
                            "Train [2]:   0%|          | 0/1012 [00:00<?, ?batch/s]"
                        ]
                    },
                    "metadata": {},
                    "output_type": "display_data"
                },
                {
                    "name": "stdout",
                    "output_type": "stream",
                    "text": [
                        "Epoch 3 [0/1012] | Train Loss: 0.8240 Grad: 151112.9375 LR: 9.6974e-05 | Elapse: 0.09s\n",
                        "Epoch 3 [50/1012] | Train Loss: 0.7776 Grad: 173345.1250 LR: 9.6672e-05 | Elapse: 4.01s\n",
                        "Epoch 3 [100/1012] | Train Loss: 0.7620 Grad: 184619.9688 LR: 9.6355e-05 | Elapse: 7.96s\n",
                        "Epoch 3 [150/1012] | Train Loss: 0.7631 Grad: 165777.6875 LR: 9.6025e-05 | Elapse: 12.03s\n",
                        "Epoch 3 [200/1012] | Train Loss: 0.7612 Grad: 228454.7812 LR: 9.5682e-05 | Elapse: 15.95s\n",
                        "Epoch 3 [250/1012] | Train Loss: 0.7672 Grad: 318554.0938 LR: 9.5325e-05 | Elapse: 19.87s\n",
                        "Epoch 3 [300/1012] | Train Loss: 0.7611 Grad: 126689.0469 LR: 9.4954e-05 | Elapse: 23.83s\n",
                        "Epoch 3 [350/1012] | Train Loss: 0.7628 Grad: 326258.2812 LR: 9.4570e-05 | Elapse: 27.76s\n",
                        "Epoch 3 [400/1012] | Train Loss: 0.7645 Grad: 225351.7969 LR: 9.4172e-05 | Elapse: 31.65s\n",
                        "Epoch 3 [450/1012] | Train Loss: 0.7667 Grad: 121762.7266 LR: 9.3762e-05 | Elapse: 35.54s\n",
                        "Epoch 3 [500/1012] | Train Loss: 0.7629 Grad: 327517.3125 LR: 9.3338e-05 | Elapse: 39.47s\n",
                        "Epoch 3 [550/1012] | Train Loss: 0.7617 Grad: 146336.2344 LR: 9.2902e-05 | Elapse: 43.35s\n",
                        "Epoch 3 [600/1012] | Train Loss: 0.7572 Grad: 179451.0312 LR: 9.2453e-05 | Elapse: 47.30s\n",
                        "Epoch 3 [650/1012] | Train Loss: 0.7556 Grad: 160560.7969 LR: 9.1991e-05 | Elapse: 51.27s\n",
                        "Epoch 3 [700/1012] | Train Loss: 0.7520 Grad: 138920.5000 LR: 9.1517e-05 | Elapse: 55.22s\n",
                        "Epoch 3 [750/1012] | Train Loss: 0.7531 Grad: 218667.8125 LR: 9.1030e-05 | Elapse: 59.16s\n",
                        "Epoch 3 [800/1012] | Train Loss: 0.7555 Grad: 144234.3281 LR: 9.0532e-05 | Elapse: 63.10s\n",
                        "Epoch 3 [850/1012] | Train Loss: 0.7544 Grad: 140914.9375 LR: 9.0021e-05 | Elapse: 67.05s\n",
                        "Epoch 3 [900/1012] | Train Loss: 0.7511 Grad: 253523.0312 LR: 8.9498e-05 | Elapse: 71.01s\n",
                        "Epoch 3 [950/1012] | Train Loss: 0.7502 Grad: 129327.2422 LR: 8.8964e-05 | Elapse: 74.98s\n",
                        "Epoch 3 [1000/1012] | Train Loss: 0.7487 Grad: 154844.4062 LR: 8.8417e-05 | Elapse: 78.97s\n",
                        "Epoch 3 [1011/1012] | Train Loss: 0.7485 Grad: 134144.7344 LR: 8.8296e-05 | Elapse: 79.83s\n"
                    ]
                },
                {
                    "data": {
                        "application/vnd.jupyter.widget-view+json": {
                            "model_id": "b7b238c7cfe243aeb1635d5045a2a4e1",
                            "version_major": 2,
                            "version_minor": 0
                        },
                        "text/plain": [
                            "Valid [2]:   0%|          | 0/250 [00:00<?, ?batch/s]"
                        ]
                    },
                    "metadata": {},
                    "output_type": "display_data"
                },
                {
                    "name": "stdout",
                    "output_type": "stream",
                    "text": [
                        "Epoch 3 [0/250] | Valid Loss: 0.4874 | Elapse: 0.06s\n",
                        "Epoch 3 [50/250] | Valid Loss: 0.7312 | Elapse: 2.52s\n",
                        "Epoch 3 [100/250] | Valid Loss: 0.7179 | Elapse: 5.07s\n",
                        "Epoch 3 [150/250] | Valid Loss: 0.7352 | Elapse: 7.72s\n",
                        "Epoch 3 [200/250] | Valid Loss: 0.7351 | Elapse: 10.40s\n"
                    ]
                },
                {
                    "name": "stderr",
                    "output_type": "stream",
                    "text": [
                        "----------------------------------------------------------------------------------------------------\n",
                        "Epoch 3 - Average Loss: (train) 0.7485; (valid) 0.7424 | Time: 92.79s\n",
                        "Best model found in epoch 3 | valid loss: 0.7424\n"
                    ]
                },
                {
                    "name": "stdout",
                    "output_type": "stream",
                    "text": [
                        "Epoch 3 [249/250] | Valid Loss: 0.7424 | Elapse: 12.95s\n"
                    ]
                },
                {
                    "data": {
                        "application/vnd.jupyter.widget-view+json": {
                            "model_id": "9d18edbeaff444ad9906b96a79dcd1b1",
                            "version_major": 2,
                            "version_minor": 0
                        },
                        "text/plain": [
                            "Train [3]:   0%|          | 0/1012 [00:00<?, ?batch/s]"
                        ]
                    },
                    "metadata": {},
                    "output_type": "display_data"
                },
                {
                    "name": "stdout",
                    "output_type": "stream",
                    "text": [
                        "Epoch 4 [0/1012] | Train Loss: 0.6775 Grad: 147934.2031 LR: 8.8285e-05 | Elapse: 0.09s\n",
                        "Epoch 4 [50/1012] | Train Loss: 0.7184 Grad: 150223.8125 LR: 8.7725e-05 | Elapse: 3.98s\n",
                        "Epoch 4 [100/1012] | Train Loss: 0.6959 Grad: 163287.1094 LR: 8.7153e-05 | Elapse: 7.89s\n",
                        "Epoch 4 [150/1012] | Train Loss: 0.7026 Grad: 160452.4375 LR: 8.6571e-05 | Elapse: 11.77s\n",
                        "Epoch 4 [200/1012] | Train Loss: 0.7035 Grad: 141274.0781 LR: 8.5977e-05 | Elapse: 15.65s\n",
                        "Epoch 4 [250/1012] | Train Loss: 0.7084 Grad: 215513.6406 LR: 8.5373e-05 | Elapse: 19.58s\n",
                        "Epoch 4 [300/1012] | Train Loss: 0.7025 Grad: 167843.5000 LR: 8.4759e-05 | Elapse: 23.50s\n",
                        "Epoch 4 [350/1012] | Train Loss: 0.7065 Grad: 311005.9375 LR: 8.4134e-05 | Elapse: 27.47s\n",
                        "Epoch 4 [400/1012] | Train Loss: 0.7046 Grad: 263872.5938 LR: 8.3499e-05 | Elapse: 31.38s\n",
                        "Epoch 4 [450/1012] | Train Loss: 0.7036 Grad: 136995.4531 LR: 8.2854e-05 | Elapse: 35.26s\n",
                        "Epoch 4 [500/1012] | Train Loss: 0.7009 Grad: 181344.1250 LR: 8.2199e-05 | Elapse: 39.19s\n",
                        "Epoch 4 [550/1012] | Train Loss: 0.7014 Grad: 151541.4844 LR: 8.1535e-05 | Elapse: 43.21s\n",
                        "Epoch 4 [600/1012] | Train Loss: 0.6972 Grad: 188510.6094 LR: 8.0861e-05 | Elapse: 47.20s\n",
                        "Epoch 4 [650/1012] | Train Loss: 0.6948 Grad: 173933.8594 LR: 8.0179e-05 | Elapse: 51.23s\n",
                        "Epoch 4 [700/1012] | Train Loss: 0.6914 Grad: 126076.6250 LR: 7.9487e-05 | Elapse: 55.16s\n",
                        "Epoch 4 [750/1012] | Train Loss: 0.6916 Grad: 273009.5312 LR: 7.8786e-05 | Elapse: 59.07s\n",
                        "Epoch 4 [800/1012] | Train Loss: 0.6935 Grad: 167163.9219 LR: 7.8077e-05 | Elapse: 63.03s\n",
                        "Epoch 4 [850/1012] | Train Loss: 0.6922 Grad: 177158.5469 LR: 7.7360e-05 | Elapse: 66.94s\n",
                        "Epoch 4 [900/1012] | Train Loss: 0.6904 Grad: 225086.2969 LR: 7.6634e-05 | Elapse: 70.85s\n",
                        "Epoch 4 [950/1012] | Train Loss: 0.6881 Grad: 172613.6406 LR: 7.5900e-05 | Elapse: 74.76s\n",
                        "Epoch 4 [1000/1012] | Train Loss: 0.6873 Grad: 177236.2500 LR: 7.5159e-05 | Elapse: 78.67s\n",
                        "Epoch 4 [1011/1012] | Train Loss: 0.6871 Grad: 162778.9531 LR: 7.4995e-05 | Elapse: 79.53s\n"
                    ]
                },
                {
                    "data": {
                        "application/vnd.jupyter.widget-view+json": {
                            "model_id": "d93c31d6de304f4a837c03f9beb98f46",
                            "version_major": 2,
                            "version_minor": 0
                        },
                        "text/plain": [
                            "Valid [3]:   0%|          | 0/250 [00:00<?, ?batch/s]"
                        ]
                    },
                    "metadata": {},
                    "output_type": "display_data"
                },
                {
                    "name": "stdout",
                    "output_type": "stream",
                    "text": [
                        "Epoch 4 [0/250] | Valid Loss: 0.5923 | Elapse: 0.05s\n",
                        "Epoch 4 [50/250] | Valid Loss: 0.7021 | Elapse: 2.52s\n",
                        "Epoch 4 [100/250] | Valid Loss: 0.6803 | Elapse: 5.09s\n",
                        "Epoch 4 [150/250] | Valid Loss: 0.7021 | Elapse: 7.70s\n",
                        "Epoch 4 [200/250] | Valid Loss: 0.7083 | Elapse: 10.35s\n"
                    ]
                },
                {
                    "name": "stderr",
                    "output_type": "stream",
                    "text": [
                        "----------------------------------------------------------------------------------------------------\n",
                        "Epoch 4 - Average Loss: (train) 0.6871; (valid) 0.7084 | Time: 92.44s\n",
                        "Best model found in epoch 4 | valid loss: 0.7084\n"
                    ]
                },
                {
                    "name": "stdout",
                    "output_type": "stream",
                    "text": [
                        "Epoch 4 [249/250] | Valid Loss: 0.7084 | Elapse: 12.91s\n"
                    ]
                },
                {
                    "data": {
                        "application/vnd.jupyter.widget-view+json": {
                            "model_id": "8792b768314d42c1a9c477c3328b6675",
                            "version_major": 2,
                            "version_minor": 0
                        },
                        "text/plain": [
                            "Train [4]:   0%|          | 0/1012 [00:00<?, ?batch/s]"
                        ]
                    },
                    "metadata": {},
                    "output_type": "display_data"
                },
                {
                    "name": "stdout",
                    "output_type": "stream",
                    "text": [
                        "Epoch 5 [0/1012] | Train Loss: 0.7220 Grad: 165059.8906 LR: 7.4980e-05 | Elapse: 0.09s\n",
                        "Epoch 5 [50/1012] | Train Loss: 0.6391 Grad: 184516.2031 LR: 7.4230e-05 | Elapse: 4.01s\n",
                        "Epoch 5 [100/1012] | Train Loss: 0.6300 Grad: 190006.2031 LR: 7.3472e-05 | Elapse: 7.94s\n",
                        "Epoch 5 [150/1012] | Train Loss: 0.6397 Grad: 240793.0312 LR: 7.2707e-05 | Elapse: 11.86s\n",
                        "Epoch 5 [200/1012] | Train Loss: 0.6366 Grad: 171070.3906 LR: 7.1936e-05 | Elapse: 15.82s\n",
                        "Epoch 5 [250/1012] | Train Loss: 0.6439 Grad: 185492.5000 LR: 7.1158e-05 | Elapse: 19.78s\n",
                        "Epoch 5 [300/1012] | Train Loss: 0.6408 Grad: 182857.8281 LR: 7.0374e-05 | Elapse: 23.71s\n",
                        "Epoch 5 [350/1012] | Train Loss: 0.6421 Grad: 412434.6562 LR: 6.9584e-05 | Elapse: 27.61s\n",
                        "Epoch 5 [400/1012] | Train Loss: 0.6403 Grad: 334224.2812 LR: 6.8788e-05 | Elapse: 31.50s\n",
                        "Epoch 5 [450/1012] | Train Loss: 0.6430 Grad: 170524.6875 LR: 6.7986e-05 | Elapse: 35.42s\n",
                        "Epoch 5 [500/1012] | Train Loss: 0.6391 Grad: 131612.5469 LR: 6.7179e-05 | Elapse: 39.36s\n",
                        "Epoch 5 [550/1012] | Train Loss: 0.6383 Grad: 206454.0938 LR: 6.6367e-05 | Elapse: 43.29s\n",
                        "Epoch 5 [600/1012] | Train Loss: 0.6364 Grad: 190111.5469 LR: 6.5550e-05 | Elapse: 47.21s\n",
                        "Epoch 5 [650/1012] | Train Loss: 0.6350 Grad: 156081.3750 LR: 6.4728e-05 | Elapse: 51.14s\n",
                        "Epoch 5 [700/1012] | Train Loss: 0.6318 Grad: 163415.4219 LR: 6.3902e-05 | Elapse: 55.08s\n",
                        "Epoch 5 [750/1012] | Train Loss: 0.6356 Grad: 190686.5312 LR: 6.3072e-05 | Elapse: 59.00s\n",
                        "Epoch 5 [800/1012] | Train Loss: 0.6373 Grad: 151790.8594 LR: 6.2238e-05 | Elapse: 62.92s\n",
                        "Epoch 5 [850/1012] | Train Loss: 0.6363 Grad: 175236.9688 LR: 6.1401e-05 | Elapse: 66.82s\n",
                        "Epoch 5 [900/1012] | Train Loss: 0.6344 Grad: 198646.7188 LR: 6.0560e-05 | Elapse: 70.72s\n",
                        "Epoch 5 [950/1012] | Train Loss: 0.6317 Grad: 150349.6250 LR: 5.9716e-05 | Elapse: 74.69s\n",
                        "Epoch 5 [1000/1012] | Train Loss: 0.6312 Grad: 204189.1250 LR: 5.8869e-05 | Elapse: 78.68s\n",
                        "Epoch 5 [1011/1012] | Train Loss: 0.6313 Grad: 192952.6719 LR: 5.8682e-05 | Elapse: 79.56s\n"
                    ]
                },
                {
                    "data": {
                        "application/vnd.jupyter.widget-view+json": {
                            "model_id": "bf7d1d64c2504815a061c58092a47608",
                            "version_major": 2,
                            "version_minor": 0
                        },
                        "text/plain": [
                            "Valid [4]:   0%|          | 0/250 [00:00<?, ?batch/s]"
                        ]
                    },
                    "metadata": {},
                    "output_type": "display_data"
                },
                {
                    "name": "stdout",
                    "output_type": "stream",
                    "text": [
                        "Epoch 5 [0/250] | Valid Loss: 0.5747 | Elapse: 0.06s\n",
                        "Epoch 5 [50/250] | Valid Loss: 0.6803 | Elapse: 2.54s\n",
                        "Epoch 5 [100/250] | Valid Loss: 0.6436 | Elapse: 5.14s\n",
                        "Epoch 5 [150/250] | Valid Loss: 0.6607 | Elapse: 7.80s\n",
                        "Epoch 5 [200/250] | Valid Loss: 0.6627 | Elapse: 10.44s\n"
                    ]
                },
                {
                    "name": "stderr",
                    "output_type": "stream",
                    "text": [
                        "----------------------------------------------------------------------------------------------------\n",
                        "Epoch 5 - Average Loss: (train) 0.6313; (valid) 0.6683 | Time: 92.54s\n",
                        "Best model found in epoch 5 | valid loss: 0.6683\n"
                    ]
                },
                {
                    "name": "stdout",
                    "output_type": "stream",
                    "text": [
                        "Epoch 5 [249/250] | Valid Loss: 0.6683 | Elapse: 12.98s\n"
                    ]
                },
                {
                    "data": {
                        "application/vnd.jupyter.widget-view+json": {
                            "model_id": "4834ed394db348cfbcdb3bf079a3da47",
                            "version_major": 2,
                            "version_minor": 0
                        },
                        "text/plain": [
                            "Train [5]:   0%|          | 0/1012 [00:00<?, ?batch/s]"
                        ]
                    },
                    "metadata": {},
                    "output_type": "display_data"
                },
                {
                    "name": "stdout",
                    "output_type": "stream",
                    "text": [
                        "Epoch 6 [0/1012] | Train Loss: 0.5534 Grad: 178304.3906 LR: 5.8665e-05 | Elapse: 0.10s\n",
                        "Epoch 6 [50/1012] | Train Loss: 0.5980 Grad: 209538.9688 LR: 5.7815e-05 | Elapse: 4.04s\n",
                        "Epoch 6 [100/1012] | Train Loss: 0.5866 Grad: 171145.1719 LR: 5.6962e-05 | Elapse: 8.07s\n",
                        "Epoch 6 [150/1012] | Train Loss: 0.5881 Grad: 228381.4219 LR: 5.6108e-05 | Elapse: 11.99s\n",
                        "Epoch 6 [200/1012] | Train Loss: 0.5911 Grad: 151072.5938 LR: 5.5251e-05 | Elapse: 15.92s\n",
                        "Epoch 6 [250/1012] | Train Loss: 0.5945 Grad: 203445.9844 LR: 5.4393e-05 | Elapse: 19.82s\n",
                        "Epoch 6 [300/1012] | Train Loss: 0.5904 Grad: 201766.0000 LR: 5.3534e-05 | Elapse: 23.71s\n",
                        "Epoch 6 [350/1012] | Train Loss: 0.5935 Grad: 302832.1562 LR: 5.2674e-05 | Elapse: 27.62s\n",
                        "Epoch 6 [400/1012] | Train Loss: 0.5912 Grad: 221019.3438 LR: 5.1813e-05 | Elapse: 31.55s\n",
                        "Epoch 6 [450/1012] | Train Loss: 0.5927 Grad: 200448.6562 LR: 5.0951e-05 | Elapse: 35.48s\n",
                        "Epoch 6 [500/1012] | Train Loss: 0.5902 Grad: 209379.8906 LR: 5.0089e-05 | Elapse: 39.42s\n",
                        "Epoch 6 [550/1012] | Train Loss: 0.5910 Grad: 207702.0156 LR: 4.9227e-05 | Elapse: 43.34s\n",
                        "Epoch 6 [600/1012] | Train Loss: 0.5908 Grad: 225357.7656 LR: 4.8365e-05 | Elapse: 47.27s\n",
                        "Epoch 6 [650/1012] | Train Loss: 0.5897 Grad: 139964.8125 LR: 4.7504e-05 | Elapse: 51.20s\n",
                        "Epoch 6 [700/1012] | Train Loss: 0.5857 Grad: 95755.9531 LR: 4.6644e-05 | Elapse: 55.14s\n",
                        "Epoch 6 [750/1012] | Train Loss: 0.5880 Grad: 269130.0312 LR: 4.5784e-05 | Elapse: 59.06s\n",
                        "Epoch 6 [800/1012] | Train Loss: 0.5897 Grad: 183861.3281 LR: 4.4926e-05 | Elapse: 63.00s\n",
                        "Epoch 6 [850/1012] | Train Loss: 0.5902 Grad: 158794.3906 LR: 4.4069e-05 | Elapse: 66.93s\n",
                        "Epoch 6 [900/1012] | Train Loss: 0.5881 Grad: 186529.2812 LR: 4.3214e-05 | Elapse: 70.86s\n",
                        "Epoch 6 [950/1012] | Train Loss: 0.5871 Grad: 118934.3984 LR: 4.2362e-05 | Elapse: 74.79s\n",
                        "Epoch 6 [1000/1012] | Train Loss: 0.5855 Grad: 207528.4688 LR: 4.1511e-05 | Elapse: 78.72s\n",
                        "Epoch 6 [1011/1012] | Train Loss: 0.5858 Grad: 162664.8906 LR: 4.1324e-05 | Elapse: 79.58s\n"
                    ]
                },
                {
                    "data": {
                        "application/vnd.jupyter.widget-view+json": {
                            "model_id": "7ead806235bf4f02963118f8e0c10016",
                            "version_major": 2,
                            "version_minor": 0
                        },
                        "text/plain": [
                            "Valid [5]:   0%|          | 0/250 [00:00<?, ?batch/s]"
                        ]
                    },
                    "metadata": {},
                    "output_type": "display_data"
                },
                {
                    "name": "stdout",
                    "output_type": "stream",
                    "text": [
                        "Epoch 6 [0/250] | Valid Loss: 0.3731 | Elapse: 0.05s\n",
                        "Epoch 6 [50/250] | Valid Loss: 0.6553 | Elapse: 2.53s\n",
                        "Epoch 6 [100/250] | Valid Loss: 0.6241 | Elapse: 5.14s\n",
                        "Epoch 6 [150/250] | Valid Loss: 0.6486 | Elapse: 7.79s\n",
                        "Epoch 6 [200/250] | Valid Loss: 0.6550 | Elapse: 10.45s\n"
                    ]
                },
                {
                    "name": "stderr",
                    "output_type": "stream",
                    "text": [
                        "----------------------------------------------------------------------------------------------------\n",
                        "Epoch 6 - Average Loss: (train) 0.5858; (valid) 0.6616 | Time: 92.60s\n",
                        "Best model found in epoch 6 | valid loss: 0.6616\n"
                    ]
                },
                {
                    "name": "stdout",
                    "output_type": "stream",
                    "text": [
                        "Epoch 6 [249/250] | Valid Loss: 0.6616 | Elapse: 13.02s\n"
                    ]
                },
                {
                    "data": {
                        "application/vnd.jupyter.widget-view+json": {
                            "model_id": "2ee6f7df94334681aa38569f673a56f0",
                            "version_major": 2,
                            "version_minor": 0
                        },
                        "text/plain": [
                            "Train [6]:   0%|          | 0/1012 [00:00<?, ?batch/s]"
                        ]
                    },
                    "metadata": {},
                    "output_type": "display_data"
                },
                {
                    "name": "stdout",
                    "output_type": "stream",
                    "text": [
                        "Epoch 7 [0/1012] | Train Loss: 0.6870 Grad: 227348.7344 LR: 4.1307e-05 | Elapse: 0.09s\n",
                        "Epoch 7 [50/1012] | Train Loss: 0.5641 Grad: 222305.6719 LR: 4.0460e-05 | Elapse: 4.00s\n",
                        "Epoch 7 [100/1012] | Train Loss: 0.5531 Grad: 140020.7188 LR: 3.9615e-05 | Elapse: 7.90s\n",
                        "Epoch 7 [150/1012] | Train Loss: 0.5557 Grad: 213525.4688 LR: 3.8774e-05 | Elapse: 11.82s\n",
                        "Epoch 7 [200/1012] | Train Loss: 0.5531 Grad: 190577.4219 LR: 3.7935e-05 | Elapse: 15.75s\n",
                        "Epoch 7 [250/1012] | Train Loss: 0.5568 Grad: 144256.9219 LR: 3.7101e-05 | Elapse: 19.66s\n",
                        "Epoch 7 [300/1012] | Train Loss: 0.5509 Grad: 245319.9219 LR: 3.6270e-05 | Elapse: 23.57s\n",
                        "Epoch 7 [350/1012] | Train Loss: 0.5538 Grad: 253422.7656 LR: 3.5444e-05 | Elapse: 27.54s\n",
                        "Epoch 7 [400/1012] | Train Loss: 0.5534 Grad: 211798.8125 LR: 3.4621e-05 | Elapse: 31.44s\n",
                        "Epoch 7 [450/1012] | Train Loss: 0.5544 Grad: 212313.3281 LR: 3.3804e-05 | Elapse: 35.35s\n",
                        "Epoch 7 [500/1012] | Train Loss: 0.5506 Grad: 159108.4531 LR: 3.2991e-05 | Elapse: 39.26s\n",
                        "Epoch 7 [550/1012] | Train Loss: 0.5504 Grad: 123199.1172 LR: 3.2183e-05 | Elapse: 43.16s\n",
                        "Epoch 7 [600/1012] | Train Loss: 0.5485 Grad: 244072.9531 LR: 3.1380e-05 | Elapse: 47.08s\n",
                        "Epoch 7 [650/1012] | Train Loss: 0.5473 Grad: 136305.8750 LR: 3.0583e-05 | Elapse: 50.99s\n",
                        "Epoch 7 [700/1012] | Train Loss: 0.5456 Grad: 170414.0938 LR: 2.9792e-05 | Elapse: 54.91s\n",
                        "Epoch 7 [750/1012] | Train Loss: 0.5467 Grad: 195062.7969 LR: 2.9007e-05 | Elapse: 58.87s\n",
                        "Epoch 7 [800/1012] | Train Loss: 0.5489 Grad: 156507.9375 LR: 2.8228e-05 | Elapse: 62.79s\n",
                        "Epoch 7 [850/1012] | Train Loss: 0.5496 Grad: 147395.4219 LR: 2.7456e-05 | Elapse: 66.71s\n",
                        "Epoch 7 [900/1012] | Train Loss: 0.5483 Grad: 150197.1406 LR: 2.6690e-05 | Elapse: 70.64s\n",
                        "Epoch 7 [950/1012] | Train Loss: 0.5460 Grad: 159915.6719 LR: 2.5931e-05 | Elapse: 74.56s\n",
                        "Epoch 7 [1000/1012] | Train Loss: 0.5436 Grad: 215744.0625 LR: 2.5179e-05 | Elapse: 78.47s\n",
                        "Epoch 7 [1011/1012] | Train Loss: 0.5434 Grad: 143637.3906 LR: 2.5015e-05 | Elapse: 79.32s\n"
                    ]
                },
                {
                    "data": {
                        "application/vnd.jupyter.widget-view+json": {
                            "model_id": "17414c0544ef440589a1979b3c4076c4",
                            "version_major": 2,
                            "version_minor": 0
                        },
                        "text/plain": [
                            "Valid [6]:   0%|          | 0/250 [00:00<?, ?batch/s]"
                        ]
                    },
                    "metadata": {},
                    "output_type": "display_data"
                },
                {
                    "name": "stdout",
                    "output_type": "stream",
                    "text": [
                        "Epoch 7 [0/250] | Valid Loss: 0.4107 | Elapse: 0.05s\n",
                        "Epoch 7 [50/250] | Valid Loss: 0.6428 | Elapse: 2.55s\n",
                        "Epoch 7 [100/250] | Valid Loss: 0.5980 | Elapse: 5.18s\n",
                        "Epoch 7 [150/250] | Valid Loss: 0.6251 | Elapse: 7.85s\n",
                        "Epoch 7 [200/250] | Valid Loss: 0.6282 | Elapse: 10.54s\n"
                    ]
                },
                {
                    "name": "stderr",
                    "output_type": "stream",
                    "text": [
                        "----------------------------------------------------------------------------------------------------\n",
                        "Epoch 7 - Average Loss: (train) 0.5434; (valid) 0.6393 | Time: 92.44s\n",
                        "Best model found in epoch 7 | valid loss: 0.6393\n"
                    ]
                },
                {
                    "name": "stdout",
                    "output_type": "stream",
                    "text": [
                        "Epoch 7 [249/250] | Valid Loss: 0.6393 | Elapse: 13.11s\n"
                    ]
                },
                {
                    "data": {
                        "application/vnd.jupyter.widget-view+json": {
                            "model_id": "6945746d6a7a4546b055d3e639f753a2",
                            "version_major": 2,
                            "version_minor": 0
                        },
                        "text/plain": [
                            "Train [7]:   0%|          | 0/1012 [00:00<?, ?batch/s]"
                        ]
                    },
                    "metadata": {},
                    "output_type": "display_data"
                },
                {
                    "name": "stdout",
                    "output_type": "stream",
                    "text": [
                        "Epoch 8 [0/1012] | Train Loss: 0.4807 Grad: 171862.3281 LR: 2.5000e-05 | Elapse: 0.09s\n",
                        "Epoch 8 [50/1012] | Train Loss: 0.4923 Grad: 215642.7500 LR: 2.4258e-05 | Elapse: 3.99s\n",
                        "Epoch 8 [100/1012] | Train Loss: 0.4852 Grad: 130688.1953 LR: 2.3523e-05 | Elapse: 7.91s\n",
                        "Epoch 8 [150/1012] | Train Loss: 0.4988 Grad: 268166.5312 LR: 2.2796e-05 | Elapse: 11.81s\n",
                        "Epoch 8 [200/1012] | Train Loss: 0.5053 Grad: 210994.1094 LR: 2.2077e-05 | Elapse: 15.71s\n",
                        "Epoch 8 [250/1012] | Train Loss: 0.5148 Grad: 158641.8438 LR: 2.1367e-05 | Elapse: 19.61s\n",
                        "Epoch 8 [300/1012] | Train Loss: 0.5164 Grad: 184391.4375 LR: 2.0665e-05 | Elapse: 23.51s\n",
                        "Epoch 8 [350/1012] | Train Loss: 0.5168 Grad: 274303.5312 LR: 1.9972e-05 | Elapse: 27.41s\n",
                        "Epoch 8 [400/1012] | Train Loss: 0.5136 Grad: 260164.1719 LR: 1.9287e-05 | Elapse: 31.32s\n",
                        "Epoch 8 [450/1012] | Train Loss: 0.5156 Grad: 241211.5156 LR: 1.8612e-05 | Elapse: 35.23s\n",
                        "Epoch 8 [500/1012] | Train Loss: 0.5157 Grad: 208914.9844 LR: 1.7946e-05 | Elapse: 39.13s\n",
                        "Epoch 8 [550/1012] | Train Loss: 0.5159 Grad: 185031.4531 LR: 1.7290e-05 | Elapse: 43.03s\n",
                        "Epoch 8 [600/1012] | Train Loss: 0.5142 Grad: 287554.8750 LR: 1.6644e-05 | Elapse: 46.94s\n",
                        "Epoch 8 [650/1012] | Train Loss: 0.5126 Grad: 125335.2812 LR: 1.6007e-05 | Elapse: 50.84s\n",
                        "Epoch 8 [700/1012] | Train Loss: 0.5086 Grad: 147792.0000 LR: 1.5380e-05 | Elapse: 54.75s\n",
                        "Epoch 8 [750/1012] | Train Loss: 0.5105 Grad: 190353.6562 LR: 1.4764e-05 | Elapse: 58.64s\n",
                        "Epoch 8 [800/1012] | Train Loss: 0.5112 Grad: 190493.1719 LR: 1.4159e-05 | Elapse: 62.55s\n",
                        "Epoch 8 [850/1012] | Train Loss: 0.5138 Grad: 181226.1562 LR: 1.3563e-05 | Elapse: 66.49s\n",
                        "Epoch 8 [900/1012] | Train Loss: 0.5128 Grad: 169164.3750 LR: 1.2979e-05 | Elapse: 70.42s\n",
                        "Epoch 8 [950/1012] | Train Loss: 0.5121 Grad: 220637.2188 LR: 1.2406e-05 | Elapse: 74.32s\n",
                        "Epoch 8 [1000/1012] | Train Loss: 0.5113 Grad: 239019.4688 LR: 1.1844e-05 | Elapse: 78.22s\n",
                        "Epoch 8 [1011/1012] | Train Loss: 0.5112 Grad: 169469.1250 LR: 1.1722e-05 | Elapse: 79.11s\n"
                    ]
                },
                {
                    "data": {
                        "application/vnd.jupyter.widget-view+json": {
                            "model_id": "9ffba88c84354af78f52ebbd82abd248",
                            "version_major": 2,
                            "version_minor": 0
                        },
                        "text/plain": [
                            "Valid [7]:   0%|          | 0/250 [00:00<?, ?batch/s]"
                        ]
                    },
                    "metadata": {},
                    "output_type": "display_data"
                },
                {
                    "name": "stdout",
                    "output_type": "stream",
                    "text": [
                        "Epoch 8 [0/250] | Valid Loss: 0.3415 | Elapse: 0.05s\n",
                        "Epoch 8 [50/250] | Valid Loss: 0.5998 | Elapse: 2.57s\n",
                        "Epoch 8 [100/250] | Valid Loss: 0.5604 | Elapse: 5.22s\n",
                        "Epoch 8 [150/250] | Valid Loss: 0.5896 | Elapse: 7.91s\n",
                        "Epoch 8 [200/250] | Valid Loss: 0.5947 | Elapse: 10.59s\n"
                    ]
                },
                {
                    "name": "stderr",
                    "output_type": "stream",
                    "text": [
                        "----------------------------------------------------------------------------------------------------\n",
                        "Epoch 8 - Average Loss: (train) 0.5112; (valid) 0.6053 | Time: 92.26s\n",
                        "Best model found in epoch 8 | valid loss: 0.6053\n"
                    ]
                },
                {
                    "name": "stdout",
                    "output_type": "stream",
                    "text": [
                        "Epoch 8 [249/250] | Valid Loss: 0.6053 | Elapse: 13.16s\n"
                    ]
                },
                {
                    "data": {
                        "application/vnd.jupyter.widget-view+json": {
                            "model_id": "2891b484359f45e6984d6664e731b04f",
                            "version_major": 2,
                            "version_minor": 0
                        },
                        "text/plain": [
                            "Train [8]:   0%|          | 0/1012 [00:00<?, ?batch/s]"
                        ]
                    },
                    "metadata": {},
                    "output_type": "display_data"
                },
                {
                    "name": "stdout",
                    "output_type": "stream",
                    "text": [
                        "Epoch 9 [0/1012] | Train Loss: 0.6418 Grad: 203070.1094 LR: 1.1711e-05 | Elapse: 0.09s\n",
                        "Epoch 9 [50/1012] | Train Loss: 0.5005 Grad: 283883.2812 LR: 1.1163e-05 | Elapse: 3.99s\n",
                        "Epoch 9 [100/1012] | Train Loss: 0.4802 Grad: 170721.3594 LR: 1.0627e-05 | Elapse: 7.89s\n",
                        "Epoch 9 [150/1012] | Train Loss: 0.4804 Grad: 295339.9062 LR: 1.0102e-05 | Elapse: 11.81s\n",
                        "Epoch 9 [200/1012] | Train Loss: 0.4911 Grad: 216396.2969 LR: 9.5894e-06 | Elapse: 15.74s\n",
                        "Epoch 9 [250/1012] | Train Loss: 0.4959 Grad: 182622.9688 LR: 9.0887e-06 | Elapse: 19.66s\n",
                        "Epoch 9 [300/1012] | Train Loss: 0.4930 Grad: 159273.8750 LR: 8.6001e-06 | Elapse: 23.56s\n",
                        "Epoch 9 [350/1012] | Train Loss: 0.4917 Grad: 328482.5312 LR: 8.1239e-06 | Elapse: 27.46s\n",
                        "Epoch 9 [400/1012] | Train Loss: 0.4896 Grad: 243548.8594 LR: 7.6602e-06 | Elapse: 31.36s\n",
                        "Epoch 9 [450/1012] | Train Loss: 0.4907 Grad: 158606.5469 LR: 7.2090e-06 | Elapse: 35.26s\n",
                        "Epoch 9 [500/1012] | Train Loss: 0.4908 Grad: 170921.6094 LR: 6.7706e-06 | Elapse: 39.19s\n",
                        "Epoch 9 [550/1012] | Train Loss: 0.4911 Grad: 212624.1250 LR: 6.3450e-06 | Elapse: 43.12s\n",
                        "Epoch 9 [600/1012] | Train Loss: 0.4880 Grad: 205226.8281 LR: 5.9324e-06 | Elapse: 47.05s\n",
                        "Epoch 9 [650/1012] | Train Loss: 0.4865 Grad: 105425.7109 LR: 5.5330e-06 | Elapse: 51.05s\n",
                        "Epoch 9 [700/1012] | Train Loss: 0.4836 Grad: 158503.3281 LR: 5.1467e-06 | Elapse: 54.99s\n",
                        "Epoch 9 [750/1012] | Train Loss: 0.4848 Grad: 236541.4531 LR: 4.7739e-06 | Elapse: 58.91s\n",
                        "Epoch 9 [800/1012] | Train Loss: 0.4865 Grad: 202216.7031 LR: 4.4144e-06 | Elapse: 62.81s\n",
                        "Epoch 9 [850/1012] | Train Loss: 0.4875 Grad: 182000.8594 LR: 4.0686e-06 | Elapse: 66.71s\n",
                        "Epoch 9 [900/1012] | Train Loss: 0.4863 Grad: 164127.7500 LR: 3.7364e-06 | Elapse: 70.62s\n",
                        "Epoch 9 [950/1012] | Train Loss: 0.4855 Grad: 230707.3281 LR: 3.4180e-06 | Elapse: 74.53s\n",
                        "Epoch 9 [1000/1012] | Train Loss: 0.4855 Grad: 214764.0312 LR: 3.1134e-06 | Elapse: 78.43s\n",
                        "Epoch 9 [1011/1012] | Train Loss: 0.4855 Grad: 166418.7656 LR: 3.0483e-06 | Elapse: 79.29s\n"
                    ]
                },
                {
                    "data": {
                        "application/vnd.jupyter.widget-view+json": {
                            "model_id": "1dbd8f5e3de947029d407d0f8cf23803",
                            "version_major": 2,
                            "version_minor": 0
                        },
                        "text/plain": [
                            "Valid [8]:   0%|          | 0/250 [00:00<?, ?batch/s]"
                        ]
                    },
                    "metadata": {},
                    "output_type": "display_data"
                },
                {
                    "name": "stdout",
                    "output_type": "stream",
                    "text": [
                        "Epoch 9 [0/250] | Valid Loss: 0.3836 | Elapse: 0.05s\n",
                        "Epoch 9 [50/250] | Valid Loss: 0.6011 | Elapse: 2.55s\n",
                        "Epoch 9 [100/250] | Valid Loss: 0.5703 | Elapse: 5.17s\n",
                        "Epoch 9 [150/250] | Valid Loss: 0.5945 | Elapse: 7.82s\n",
                        "Epoch 9 [200/250] | Valid Loss: 0.5984 | Elapse: 10.48s\n"
                    ]
                },
                {
                    "name": "stderr",
                    "output_type": "stream",
                    "text": [
                        "----------------------------------------------------------------------------------------------------\n",
                        "Epoch 9 - Average Loss: (train) 0.4855; (valid) 0.6070 | Time: 92.35s\n"
                    ]
                },
                {
                    "name": "stdout",
                    "output_type": "stream",
                    "text": [
                        "Epoch 9 [249/250] | Valid Loss: 0.6070 | Elapse: 13.06s\n"
                    ]
                },
                {
                    "data": {
                        "application/vnd.jupyter.widget-view+json": {
                            "model_id": "485ce267218748b08b278efb14bbc176",
                            "version_major": 2,
                            "version_minor": 0
                        },
                        "text/plain": [
                            "Train [9]:   0%|          | 0/1012 [00:00<?, ?batch/s]"
                        ]
                    },
                    "metadata": {},
                    "output_type": "display_data"
                },
                {
                    "name": "stdout",
                    "output_type": "stream",
                    "text": [
                        "Epoch 10 [0/1012] | Train Loss: 0.3928 Grad: 166350.4219 LR: 3.0424e-06 | Elapse: 0.09s\n",
                        "Epoch 10 [50/1012] | Train Loss: 0.4588 Grad: 231253.0312 LR: 2.7551e-06 | Elapse: 4.03s\n",
                        "Epoch 10 [100/1012] | Train Loss: 0.4472 Grad: 112167.7109 LR: 2.4819e-06 | Elapse: 7.95s\n",
                        "Epoch 10 [150/1012] | Train Loss: 0.4593 Grad: 309293.6875 LR: 2.2229e-06 | Elapse: 11.85s\n",
                        "Epoch 10 [200/1012] | Train Loss: 0.4639 Grad: 218580.2656 LR: 1.9780e-06 | Elapse: 15.77s\n",
                        "Epoch 10 [250/1012] | Train Loss: 0.4710 Grad: 173891.1250 LR: 1.7475e-06 | Elapse: 19.67s\n",
                        "Epoch 10 [300/1012] | Train Loss: 0.4691 Grad: 171920.5156 LR: 1.5313e-06 | Elapse: 23.60s\n",
                        "Epoch 10 [350/1012] | Train Loss: 0.4693 Grad: 236323.5000 LR: 1.3295e-06 | Elapse: 27.52s\n",
                        "Epoch 10 [400/1012] | Train Loss: 0.4675 Grad: 224256.7969 LR: 1.1422e-06 | Elapse: 31.49s\n",
                        "Epoch 10 [450/1012] | Train Loss: 0.4697 Grad: 157495.7812 LR: 9.6949e-07 | Elapse: 35.43s\n",
                        "Epoch 10 [500/1012] | Train Loss: 0.4674 Grad: 150591.2031 LR: 8.1133e-07 | Elapse: 39.34s\n",
                        "Epoch 10 [550/1012] | Train Loss: 0.4663 Grad: 213819.0938 LR: 6.6780e-07 | Elapse: 43.28s\n",
                        "Epoch 10 [600/1012] | Train Loss: 0.4661 Grad: 256704.5469 LR: 5.3896e-07 | Elapse: 47.22s\n",
                        "Epoch 10 [650/1012] | Train Loss: 0.4646 Grad: 131512.8438 LR: 4.2483e-07 | Elapse: 51.17s\n",
                        "Epoch 10 [700/1012] | Train Loss: 0.4631 Grad: 154345.0938 LR: 3.2545e-07 | Elapse: 55.09s\n",
                        "Epoch 10 [750/1012] | Train Loss: 0.4637 Grad: 137612.2188 LR: 2.4085e-07 | Elapse: 59.09s\n",
                        "Epoch 10 [800/1012] | Train Loss: 0.4675 Grad: 151159.0625 LR: 1.7106e-07 | Elapse: 63.01s\n",
                        "Epoch 10 [850/1012] | Train Loss: 0.4694 Grad: 131610.9375 LR: 1.1609e-07 | Elapse: 66.95s\n",
                        "Epoch 10 [900/1012] | Train Loss: 0.4687 Grad: 177458.4688 LR: 7.5971e-08 | Elapse: 70.90s\n",
                        "Epoch 10 [950/1012] | Train Loss: 0.4681 Grad: 144291.4844 LR: 5.0703e-08 | Elapse: 74.85s\n",
                        "Epoch 10 [1000/1012] | Train Loss: 0.4672 Grad: 270899.4062 LR: 4.0297e-08 | Elapse: 78.82s\n",
                        "Epoch 10 [1011/1012] | Train Loss: 0.4677 Grad: 172716.4062 LR: 4.0003e-08 | Elapse: 79.69s\n"
                    ]
                },
                {
                    "data": {
                        "application/vnd.jupyter.widget-view+json": {
                            "model_id": "f839bc9ee9f64a48885300aafcdb0c95",
                            "version_major": 2,
                            "version_minor": 0
                        },
                        "text/plain": [
                            "Valid [9]:   0%|          | 0/250 [00:00<?, ?batch/s]"
                        ]
                    },
                    "metadata": {},
                    "output_type": "display_data"
                },
                {
                    "name": "stdout",
                    "output_type": "stream",
                    "text": [
                        "Epoch 10 [0/250] | Valid Loss: 0.5256 | Elapse: 0.06s\n",
                        "Epoch 10 [50/250] | Valid Loss: 0.6521 | Elapse: 2.57s\n",
                        "Epoch 10 [100/250] | Valid Loss: 0.6071 | Elapse: 5.29s\n",
                        "Epoch 10 [150/250] | Valid Loss: 0.6252 | Elapse: 7.96s\n",
                        "Epoch 10 [200/250] | Valid Loss: 0.6324 | Elapse: 10.63s\n"
                    ]
                },
                {
                    "name": "stderr",
                    "output_type": "stream",
                    "text": [
                        "----------------------------------------------------------------------------------------------------\n",
                        "Epoch 10 - Average Loss: (train) 0.4677; (valid) 0.6386 | Time: 92.91s\n"
                    ]
                },
                {
                    "name": "stdout",
                    "output_type": "stream",
                    "text": [
                        "Epoch 10 [249/250] | Valid Loss: 0.6386 | Elapse: 13.22s\n"
                    ]
                },
                {
                    "name": "stderr",
                    "output_type": "stream",
                    "text": [
                        "====================================================================================================\n",
                        "Fold 0 Valid Loss: 0.6052629351615906\n",
                        "Elapse: 15.45 min \n",
                        "====================================================================================================\n",
                        "- Second Stage -\n",
                        "Use Checkpoint: MAE_Raw_Backbone_fold_0_stage_1.pth\n"
                    ]
                },
                {
                    "name": "stdout",
                    "output_type": "stream",
                    "text": [
                        "Loading pretrained weights from facebook/vit-mae-base\n"
                    ]
                },
                {
                    "data": {
                        "application/vnd.jupyter.widget-view+json": {
                            "model_id": "e4b35dcc7b7142debaf2c9e5cd884b26",
                            "version_major": 2,
                            "version_minor": 0
                        },
                        "text/plain": [
                            "Train [0]:   0%|          | 0/386 [00:00<?, ?batch/s]"
                        ]
                    },
                    "metadata": {},
                    "output_type": "display_data"
                },
                {
                    "name": "stdout",
                    "output_type": "stream",
                    "text": [
                        "Epoch 1 [0/386] | Train Loss: 0.4518 Grad: 159648.0781 LR: 4.0016e-06 | Elapse: 0.09s\n",
                        "Epoch 1 [50/386] | Train Loss: 0.4192 Grad: 124809.5859 LR: 8.0969e-06 | Elapse: 4.10s\n",
                        "Epoch 1 [100/386] | Train Loss: 0.4064 Grad: 93410.3906 LR: 1.9400e-05 | Elapse: 8.02s\n",
                        "Epoch 1 [150/386] | Train Loss: 0.3916 Grad: 143528.8594 LR: 3.6054e-05 | Elapse: 11.94s\n",
                        "Epoch 1 [200/386] | Train Loss: 0.3875 Grad: 144099.1562 LR: 5.5327e-05 | Elapse: 15.90s\n",
                        "Epoch 1 [250/386] | Train Loss: 0.3897 Grad: 105585.0156 LR: 7.4053e-05 | Elapse: 19.81s\n",
                        "Epoch 1 [300/386] | Train Loss: 0.3901 Grad: 110158.7422 LR: 8.9159e-05 | Elapse: 23.73s\n",
                        "Epoch 1 [350/386] | Train Loss: 0.3916 Grad: 107431.1797 LR: 9.8164e-05 | Elapse: 27.65s\n",
                        "Epoch 1 [385/386] | Train Loss: 0.3919 Grad: 164218.5156 LR: 1.0000e-04 | Elapse: 30.38s\n"
                    ]
                },
                {
                    "data": {
                        "application/vnd.jupyter.widget-view+json": {
                            "model_id": "e9d18fd281484fdba32b16fbd8dcae52",
                            "version_major": 2,
                            "version_minor": 0
                        },
                        "text/plain": [
                            "Valid [0]:   0%|          | 0/250 [00:00<?, ?batch/s]"
                        ]
                    },
                    "metadata": {},
                    "output_type": "display_data"
                },
                {
                    "name": "stdout",
                    "output_type": "stream",
                    "text": [
                        "Epoch 1 [0/250] | Valid Loss: 0.6584 | Elapse: 0.05s\n",
                        "Epoch 1 [50/250] | Valid Loss: 0.7606 | Elapse: 2.55s\n",
                        "Epoch 1 [100/250] | Valid Loss: 0.7448 | Elapse: 5.17s\n",
                        "Epoch 1 [150/250] | Valid Loss: 0.7520 | Elapse: 7.86s\n",
                        "Epoch 1 [200/250] | Valid Loss: 0.7592 | Elapse: 10.54s\n"
                    ]
                },
                {
                    "name": "stderr",
                    "output_type": "stream",
                    "text": [
                        "----------------------------------------------------------------------------------------------------\n",
                        "Epoch 1 - Average Loss: (train) 0.3919; (valid) 0.7596 | Time: 43.51s\n",
                        "Best model found in epoch 1 | valid loss: 0.7596\n"
                    ]
                },
                {
                    "name": "stdout",
                    "output_type": "stream",
                    "text": [
                        "Epoch 1 [249/250] | Valid Loss: 0.7596 | Elapse: 13.13s\n"
                    ]
                },
                {
                    "data": {
                        "application/vnd.jupyter.widget-view+json": {
                            "model_id": "5a651978473b4098804326123c98e158",
                            "version_major": 2,
                            "version_minor": 0
                        },
                        "text/plain": [
                            "Train [1]:   0%|          | 0/386 [00:00<?, ?batch/s]"
                        ]
                    },
                    "metadata": {},
                    "output_type": "display_data"
                },
                {
                    "name": "stdout",
                    "output_type": "stream",
                    "text": [
                        "Epoch 2 [0/386] | Train Loss: 0.5319 Grad: 136073.5469 LR: 1.0000e-04 | Elapse: 0.09s\n",
                        "Epoch 2 [50/386] | Train Loss: 0.4240 Grad: 97194.1641 LR: 9.9945e-05 | Elapse: 4.05s\n",
                        "Epoch 2 [100/386] | Train Loss: 0.4162 Grad: 112830.6172 LR: 9.9788e-05 | Elapse: 8.02s\n",
                        "Epoch 2 [150/386] | Train Loss: 0.4105 Grad: 104376.8516 LR: 9.9529e-05 | Elapse: 11.96s\n",
                        "Epoch 2 [200/386] | Train Loss: 0.4050 Grad: 116874.8359 LR: 9.9168e-05 | Elapse: 15.92s\n",
                        "Epoch 2 [250/386] | Train Loss: 0.4061 Grad: 101701.2109 LR: 9.8708e-05 | Elapse: 19.87s\n",
                        "Epoch 2 [300/386] | Train Loss: 0.4064 Grad: 124621.4844 LR: 9.8148e-05 | Elapse: 23.90s\n",
                        "Epoch 2 [350/386] | Train Loss: 0.4041 Grad: 110414.2344 LR: 9.7489e-05 | Elapse: 27.83s\n",
                        "Epoch 2 [385/386] | Train Loss: 0.4009 Grad: 92245.2109 LR: 9.6970e-05 | Elapse: 30.59s\n"
                    ]
                },
                {
                    "data": {
                        "application/vnd.jupyter.widget-view+json": {
                            "model_id": "5c822a1978c84c0590e71ce5f2f875f0",
                            "version_major": 2,
                            "version_minor": 0
                        },
                        "text/plain": [
                            "Valid [1]:   0%|          | 0/250 [00:00<?, ?batch/s]"
                        ]
                    },
                    "metadata": {},
                    "output_type": "display_data"
                },
                {
                    "name": "stdout",
                    "output_type": "stream",
                    "text": [
                        "Epoch 2 [0/250] | Valid Loss: 0.7080 | Elapse: 0.05s\n",
                        "Epoch 2 [50/250] | Valid Loss: 0.7437 | Elapse: 2.54s\n",
                        "Epoch 2 [100/250] | Valid Loss: 0.7127 | Elapse: 5.15s\n",
                        "Epoch 2 [150/250] | Valid Loss: 0.7278 | Elapse: 7.78s\n",
                        "Epoch 2 [200/250] | Valid Loss: 0.7258 | Elapse: 10.45s\n"
                    ]
                },
                {
                    "name": "stderr",
                    "output_type": "stream",
                    "text": [
                        "----------------------------------------------------------------------------------------------------\n",
                        "Epoch 2 - Average Loss: (train) 0.4009; (valid) 0.7288 | Time: 43.64s\n",
                        "Best model found in epoch 2 | valid loss: 0.7288\n"
                    ]
                },
                {
                    "name": "stdout",
                    "output_type": "stream",
                    "text": [
                        "Epoch 2 [249/250] | Valid Loss: 0.7288 | Elapse: 13.05s\n"
                    ]
                },
                {
                    "data": {
                        "application/vnd.jupyter.widget-view+json": {
                            "model_id": "3e3c1edb0b704d899089485731e1a927",
                            "version_major": 2,
                            "version_minor": 0
                        },
                        "text/plain": [
                            "Train [2]:   0%|          | 0/386 [00:00<?, ?batch/s]"
                        ]
                    },
                    "metadata": {},
                    "output_type": "display_data"
                },
                {
                    "name": "stdout",
                    "output_type": "stream",
                    "text": [
                        "Epoch 3 [0/386] | Train Loss: 0.3905 Grad: 110467.2891 LR: 9.6955e-05 | Elapse: 0.09s\n",
                        "Epoch 3 [50/386] | Train Loss: 0.3797 Grad: 104962.6562 LR: 9.6130e-05 | Elapse: 4.08s\n",
                        "Epoch 3 [100/386] | Train Loss: 0.3837 Grad: 84193.0703 LR: 9.5212e-05 | Elapse: 8.10s\n",
                        "Epoch 3 [150/386] | Train Loss: 0.3737 Grad: 110671.0469 LR: 9.4201e-05 | Elapse: 12.07s\n",
                        "Epoch 3 [200/386] | Train Loss: 0.3741 Grad: 116697.3203 LR: 9.3099e-05 | Elapse: 16.02s\n",
                        "Epoch 3 [250/386] | Train Loss: 0.3764 Grad: 102106.6172 LR: 9.1910e-05 | Elapse: 19.99s\n",
                        "Epoch 3 [300/386] | Train Loss: 0.3760 Grad: 129823.7344 LR: 9.0635e-05 | Elapse: 24.08s\n",
                        "Epoch 3 [350/386] | Train Loss: 0.3744 Grad: 94343.5078 LR: 8.9276e-05 | Elapse: 28.02s\n",
                        "Epoch 3 [385/386] | Train Loss: 0.3721 Grad: 110961.6562 LR: 8.8278e-05 | Elapse: 30.79s\n"
                    ]
                },
                {
                    "data": {
                        "application/vnd.jupyter.widget-view+json": {
                            "model_id": "a01707ced3784bb48dc6ce050d246a47",
                            "version_major": 2,
                            "version_minor": 0
                        },
                        "text/plain": [
                            "Valid [2]:   0%|          | 0/250 [00:00<?, ?batch/s]"
                        ]
                    },
                    "metadata": {},
                    "output_type": "display_data"
                },
                {
                    "name": "stdout",
                    "output_type": "stream",
                    "text": [
                        "Epoch 3 [0/250] | Valid Loss: 0.7367 | Elapse: 0.05s\n",
                        "Epoch 3 [50/250] | Valid Loss: 0.7324 | Elapse: 2.54s\n",
                        "Epoch 3 [100/250] | Valid Loss: 0.7192 | Elapse: 5.15s\n",
                        "Epoch 3 [150/250] | Valid Loss: 0.7368 | Elapse: 7.82s\n",
                        "Epoch 3 [200/250] | Valid Loss: 0.7404 | Elapse: 10.49s\n"
                    ]
                },
                {
                    "name": "stderr",
                    "output_type": "stream",
                    "text": [
                        "----------------------------------------------------------------------------------------------------\n",
                        "Epoch 3 - Average Loss: (train) 0.3721; (valid) 0.7380 | Time: 44.01s\n"
                    ]
                },
                {
                    "name": "stdout",
                    "output_type": "stream",
                    "text": [
                        "Epoch 3 [249/250] | Valid Loss: 0.7380 | Elapse: 13.22s\n"
                    ]
                },
                {
                    "data": {
                        "application/vnd.jupyter.widget-view+json": {
                            "model_id": "22a2800278b4497f808ba74bb6801a50",
                            "version_major": 2,
                            "version_minor": 0
                        },
                        "text/plain": [
                            "Train [3]:   0%|          | 0/386 [00:00<?, ?batch/s]"
                        ]
                    },
                    "metadata": {},
                    "output_type": "display_data"
                },
                {
                    "name": "stdout",
                    "output_type": "stream",
                    "text": [
                        "Epoch 4 [0/386] | Train Loss: 0.3382 Grad: 96683.8828 LR: 8.8249e-05 | Elapse: 0.10s\n",
                        "Epoch 4 [50/386] | Train Loss: 0.3615 Grad: 129748.5859 LR: 8.6754e-05 | Elapse: 4.15s\n",
                        "Epoch 4 [100/386] | Train Loss: 0.3593 Grad: 68414.1719 LR: 8.5185e-05 | Elapse: 8.10s\n",
                        "Epoch 4 [150/386] | Train Loss: 0.3544 Grad: 87029.4766 LR: 8.3544e-05 | Elapse: 12.07s\n",
                        "Epoch 4 [200/386] | Train Loss: 0.3488 Grad: 100760.5078 LR: 8.1834e-05 | Elapse: 16.02s\n",
                        "Epoch 4 [250/386] | Train Loss: 0.3525 Grad: 129699.0547 LR: 8.0059e-05 | Elapse: 19.93s\n",
                        "Epoch 4 [300/386] | Train Loss: 0.3531 Grad: 103881.0703 LR: 7.8223e-05 | Elapse: 23.84s\n",
                        "Epoch 4 [350/386] | Train Loss: 0.3523 Grad: 117242.5938 LR: 7.6329e-05 | Elapse: 27.90s\n",
                        "Epoch 4 [385/386] | Train Loss: 0.3497 Grad: 103605.7500 LR: 7.4971e-05 | Elapse: 30.72s\n"
                    ]
                },
                {
                    "data": {
                        "application/vnd.jupyter.widget-view+json": {
                            "model_id": "c4447a2e51904459962d97ef9265bdab",
                            "version_major": 2,
                            "version_minor": 0
                        },
                        "text/plain": [
                            "Valid [3]:   0%|          | 0/250 [00:00<?, ?batch/s]"
                        ]
                    },
                    "metadata": {},
                    "output_type": "display_data"
                },
                {
                    "name": "stdout",
                    "output_type": "stream",
                    "text": [
                        "Epoch 4 [0/250] | Valid Loss: 0.7585 | Elapse: 0.06s\n",
                        "Epoch 4 [50/250] | Valid Loss: 0.7278 | Elapse: 2.55s\n",
                        "Epoch 4 [100/250] | Valid Loss: 0.7050 | Elapse: 5.14s\n",
                        "Epoch 4 [150/250] | Valid Loss: 0.7255 | Elapse: 7.81s\n",
                        "Epoch 4 [200/250] | Valid Loss: 0.7271 | Elapse: 10.49s\n"
                    ]
                },
                {
                    "name": "stderr",
                    "output_type": "stream",
                    "text": [
                        "----------------------------------------------------------------------------------------------------\n",
                        "Epoch 4 - Average Loss: (train) 0.3497; (valid) 0.7269 | Time: 43.81s\n",
                        "Best model found in epoch 4 | valid loss: 0.7269\n"
                    ]
                },
                {
                    "name": "stdout",
                    "output_type": "stream",
                    "text": [
                        "Epoch 4 [249/250] | Valid Loss: 0.7269 | Elapse: 13.09s\n"
                    ]
                },
                {
                    "data": {
                        "application/vnd.jupyter.widget-view+json": {
                            "model_id": "2b34ab4d9e984927b294703ecf884523",
                            "version_major": 2,
                            "version_minor": 0
                        },
                        "text/plain": [
                            "Train [4]:   0%|          | 0/386 [00:00<?, ?batch/s]"
                        ]
                    },
                    "metadata": {},
                    "output_type": "display_data"
                },
                {
                    "name": "stdout",
                    "output_type": "stream",
                    "text": [
                        "Epoch 5 [0/386] | Train Loss: 0.4546 Grad: 172553.2031 LR: 7.4932e-05 | Elapse: 0.10s\n",
                        "Epoch 5 [50/386] | Train Loss: 0.3486 Grad: 79516.5234 LR: 7.2948e-05 | Elapse: 4.04s\n",
                        "Epoch 5 [100/386] | Train Loss: 0.3419 Grad: 113094.6484 LR: 7.0917e-05 | Elapse: 7.96s\n",
                        "Epoch 5 [150/386] | Train Loss: 0.3378 Grad: 90618.3594 LR: 6.8843e-05 | Elapse: 11.97s\n",
                        "Epoch 5 [200/386] | Train Loss: 0.3338 Grad: 126591.4297 LR: 6.6731e-05 | Elapse: 15.87s\n",
                        "Epoch 5 [250/386] | Train Loss: 0.3354 Grad: 108673.5625 LR: 6.4585e-05 | Elapse: 19.76s\n",
                        "Epoch 5 [300/386] | Train Loss: 0.3370 Grad: 92611.4531 LR: 6.2409e-05 | Elapse: 23.65s\n",
                        "Epoch 5 [350/386] | Train Loss: 0.3349 Grad: 81587.7422 LR: 6.0208e-05 | Elapse: 27.57s\n",
                        "Epoch 5 [385/386] | Train Loss: 0.3327 Grad: 118576.4688 LR: 5.8654e-05 | Elapse: 30.30s\n"
                    ]
                },
                {
                    "data": {
                        "application/vnd.jupyter.widget-view+json": {
                            "model_id": "91230fe751a94add99608f25100e9aa9",
                            "version_major": 2,
                            "version_minor": 0
                        },
                        "text/plain": [
                            "Valid [4]:   0%|          | 0/250 [00:00<?, ?batch/s]"
                        ]
                    },
                    "metadata": {},
                    "output_type": "display_data"
                },
                {
                    "name": "stdout",
                    "output_type": "stream",
                    "text": [
                        "Epoch 5 [0/250] | Valid Loss: 0.6021 | Elapse: 0.05s\n",
                        "Epoch 5 [50/250] | Valid Loss: 0.7534 | Elapse: 2.51s\n",
                        "Epoch 5 [100/250] | Valid Loss: 0.7137 | Elapse: 5.09s\n",
                        "Epoch 5 [150/250] | Valid Loss: 0.7267 | Elapse: 7.75s\n",
                        "Epoch 5 [200/250] | Valid Loss: 0.7362 | Elapse: 10.42s\n"
                    ]
                },
                {
                    "name": "stderr",
                    "output_type": "stream",
                    "text": [
                        "----------------------------------------------------------------------------------------------------\n",
                        "Epoch 5 - Average Loss: (train) 0.3327; (valid) 0.7318 | Time: 43.29s\n"
                    ]
                },
                {
                    "name": "stdout",
                    "output_type": "stream",
                    "text": [
                        "Epoch 5 [249/250] | Valid Loss: 0.7318 | Elapse: 13.00s\n"
                    ]
                },
                {
                    "data": {
                        "application/vnd.jupyter.widget-view+json": {
                            "model_id": "3fba73e1884447b9b334d9a0564617a7",
                            "version_major": 2,
                            "version_minor": 0
                        },
                        "text/plain": [
                            "Train [5]:   0%|          | 0/386 [00:00<?, ?batch/s]"
                        ]
                    },
                    "metadata": {},
                    "output_type": "display_data"
                },
                {
                    "name": "stdout",
                    "output_type": "stream",
                    "text": [
                        "Epoch 6 [0/386] | Train Loss: 0.4324 Grad: 156065.3438 LR: 5.8610e-05 | Elapse: 0.09s\n",
                        "Epoch 6 [50/386] | Train Loss: 0.3198 Grad: 102992.2891 LR: 5.6376e-05 | Elapse: 4.03s\n",
                        "Epoch 6 [100/386] | Train Loss: 0.3180 Grad: 70003.5312 LR: 5.4128e-05 | Elapse: 7.94s\n",
                        "Epoch 6 [150/386] | Train Loss: 0.3099 Grad: 95309.3125 LR: 5.1873e-05 | Elapse: 11.85s\n",
                        "Epoch 6 [200/386] | Train Loss: 0.3091 Grad: 107903.6328 LR: 4.9613e-05 | Elapse: 15.76s\n",
                        "Epoch 6 [250/386] | Train Loss: 0.3082 Grad: 103040.2422 LR: 4.7355e-05 | Elapse: 19.68s\n",
                        "Epoch 6 [300/386] | Train Loss: 0.3102 Grad: 94987.4297 LR: 4.5101e-05 | Elapse: 23.59s\n",
                        "Epoch 6 [350/386] | Train Loss: 0.3091 Grad: 135933.2344 LR: 4.2858e-05 | Elapse: 27.49s\n",
                        "Epoch 6 [385/386] | Train Loss: 0.3075 Grad: 119420.3906 LR: 4.1297e-05 | Elapse: 30.24s\n"
                    ]
                },
                {
                    "data": {
                        "application/vnd.jupyter.widget-view+json": {
                            "model_id": "c4ee49ce9a9b4311937b07f5e5bb5d09",
                            "version_major": 2,
                            "version_minor": 0
                        },
                        "text/plain": [
                            "Valid [5]:   0%|          | 0/250 [00:00<?, ?batch/s]"
                        ]
                    },
                    "metadata": {},
                    "output_type": "display_data"
                },
                {
                    "name": "stdout",
                    "output_type": "stream",
                    "text": [
                        "Epoch 6 [0/250] | Valid Loss: 0.5174 | Elapse: 0.05s\n",
                        "Epoch 6 [50/250] | Valid Loss: 0.6912 | Elapse: 2.54s\n",
                        "Epoch 6 [100/250] | Valid Loss: 0.6556 | Elapse: 5.13s\n",
                        "Epoch 6 [150/250] | Valid Loss: 0.6742 | Elapse: 7.78s\n",
                        "Epoch 6 [200/250] | Valid Loss: 0.6732 | Elapse: 10.48s\n"
                    ]
                },
                {
                    "name": "stderr",
                    "output_type": "stream",
                    "text": [
                        "----------------------------------------------------------------------------------------------------\n",
                        "Epoch 6 - Average Loss: (train) 0.3075; (valid) 0.6680 | Time: 43.30s\n",
                        "Best model found in epoch 6 | valid loss: 0.6680\n"
                    ]
                },
                {
                    "name": "stdout",
                    "output_type": "stream",
                    "text": [
                        "Epoch 6 [249/250] | Valid Loss: 0.6680 | Elapse: 13.06s\n"
                    ]
                },
                {
                    "data": {
                        "application/vnd.jupyter.widget-view+json": {
                            "model_id": "6fc4afde148d464599e9f757934906a8",
                            "version_major": 2,
                            "version_minor": 0
                        },
                        "text/plain": [
                            "Train [6]:   0%|          | 0/386 [00:00<?, ?batch/s]"
                        ]
                    },
                    "metadata": {},
                    "output_type": "display_data"
                },
                {
                    "name": "stdout",
                    "output_type": "stream",
                    "text": [
                        "Epoch 7 [0/386] | Train Loss: 0.3299 Grad: 147548.0625 LR: 4.1252e-05 | Elapse: 0.09s\n",
                        "Epoch 7 [50/386] | Train Loss: 0.2980 Grad: 117422.1641 LR: 3.9037e-05 | Elapse: 4.03s\n",
                        "Epoch 7 [100/386] | Train Loss: 0.2991 Grad: 82150.3906 LR: 3.6844e-05 | Elapse: 8.00s\n",
                        "Epoch 7 [150/386] | Train Loss: 0.2917 Grad: 129864.7266 LR: 3.4679e-05 | Elapse: 11.97s\n",
                        "Epoch 7 [200/386] | Train Loss: 0.2898 Grad: 105932.6484 LR: 3.2544e-05 | Elapse: 15.93s\n",
                        "Epoch 7 [250/386] | Train Loss: 0.2909 Grad: 106092.8984 LR: 3.0446e-05 | Elapse: 19.86s\n",
                        "Epoch 7 [300/386] | Train Loss: 0.2919 Grad: 99615.1172 LR: 2.8387e-05 | Elapse: 23.77s\n",
                        "Epoch 7 [350/386] | Train Loss: 0.2903 Grad: 110964.7734 LR: 2.6372e-05 | Elapse: 27.69s\n",
                        "Epoch 7 [385/386] | Train Loss: 0.2893 Grad: 185390.7344 LR: 2.4991e-05 | Elapse: 30.44s\n"
                    ]
                },
                {
                    "data": {
                        "application/vnd.jupyter.widget-view+json": {
                            "model_id": "6f41a33538cc4c12a9eb6603ce394371",
                            "version_major": 2,
                            "version_minor": 0
                        },
                        "text/plain": [
                            "Valid [6]:   0%|          | 0/250 [00:00<?, ?batch/s]"
                        ]
                    },
                    "metadata": {},
                    "output_type": "display_data"
                },
                {
                    "name": "stdout",
                    "output_type": "stream",
                    "text": [
                        "Epoch 7 [0/250] | Valid Loss: 0.5051 | Elapse: 0.05s\n",
                        "Epoch 7 [50/250] | Valid Loss: 0.6663 | Elapse: 2.52s\n",
                        "Epoch 7 [100/250] | Valid Loss: 0.6389 | Elapse: 5.12s\n",
                        "Epoch 7 [150/250] | Valid Loss: 0.6606 | Elapse: 7.77s\n",
                        "Epoch 7 [200/250] | Valid Loss: 0.6619 | Elapse: 10.46s\n"
                    ]
                },
                {
                    "name": "stderr",
                    "output_type": "stream",
                    "text": [
                        "----------------------------------------------------------------------------------------------------\n",
                        "Epoch 7 - Average Loss: (train) 0.2893; (valid) 0.6642 | Time: 43.51s\n",
                        "Best model found in epoch 7 | valid loss: 0.6642\n"
                    ]
                },
                {
                    "name": "stdout",
                    "output_type": "stream",
                    "text": [
                        "Epoch 7 [249/250] | Valid Loss: 0.6642 | Elapse: 13.07s\n"
                    ]
                },
                {
                    "data": {
                        "application/vnd.jupyter.widget-view+json": {
                            "model_id": "ecf56c9c2e424ad387ed6c22922d0432",
                            "version_major": 2,
                            "version_minor": 0
                        },
                        "text/plain": [
                            "Train [7]:   0%|          | 0/386 [00:00<?, ?batch/s]"
                        ]
                    },
                    "metadata": {},
                    "output_type": "display_data"
                },
                {
                    "name": "stdout",
                    "output_type": "stream",
                    "text": [
                        "Epoch 8 [0/386] | Train Loss: 0.2700 Grad: 105623.7812 LR: 2.4952e-05 | Elapse: 0.10s\n",
                        "Epoch 8 [50/386] | Train Loss: 0.2828 Grad: 93922.7109 LR: 2.3023e-05 | Elapse: 4.11s\n",
                        "Epoch 8 [100/386] | Train Loss: 0.2891 Grad: 65618.5703 LR: 2.1149e-05 | Elapse: 8.04s\n",
                        "Epoch 8 [150/386] | Train Loss: 0.2797 Grad: 98537.2734 LR: 1.9335e-05 | Elapse: 11.98s\n",
                        "Epoch 8 [200/386] | Train Loss: 0.2759 Grad: 137334.4531 LR: 1.7583e-05 | Elapse: 15.99s\n",
                        "Epoch 8 [250/386] | Train Loss: 0.2751 Grad: 109079.9375 LR: 1.5897e-05 | Elapse: 19.92s\n",
                        "Epoch 8 [300/386] | Train Loss: 0.2756 Grad: 107242.6484 LR: 1.4282e-05 | Elapse: 23.85s\n",
                        "Epoch 8 [350/386] | Train Loss: 0.2735 Grad: 79324.2812 LR: 1.2739e-05 | Elapse: 27.78s\n",
                        "Epoch 8 [385/386] | Train Loss: 0.2730 Grad: 134146.3750 LR: 1.1704e-05 | Elapse: 30.55s\n"
                    ]
                },
                {
                    "data": {
                        "application/vnd.jupyter.widget-view+json": {
                            "model_id": "bffcb291e50944c4bda676b228559906",
                            "version_major": 2,
                            "version_minor": 0
                        },
                        "text/plain": [
                            "Valid [7]:   0%|          | 0/250 [00:00<?, ?batch/s]"
                        ]
                    },
                    "metadata": {},
                    "output_type": "display_data"
                },
                {
                    "name": "stdout",
                    "output_type": "stream",
                    "text": [
                        "Epoch 8 [0/250] | Valid Loss: 0.4805 | Elapse: 0.06s\n",
                        "Epoch 8 [50/250] | Valid Loss: 0.6319 | Elapse: 2.54s\n",
                        "Epoch 8 [100/250] | Valid Loss: 0.6047 | Elapse: 5.14s\n",
                        "Epoch 8 [150/250] | Valid Loss: 0.6242 | Elapse: 7.88s\n",
                        "Epoch 8 [200/250] | Valid Loss: 0.6279 | Elapse: 10.55s\n"
                    ]
                },
                {
                    "name": "stderr",
                    "output_type": "stream",
                    "text": [
                        "----------------------------------------------------------------------------------------------------\n",
                        "Epoch 8 - Average Loss: (train) 0.2730; (valid) 0.6296 | Time: 43.69s\n",
                        "Best model found in epoch 8 | valid loss: 0.6296\n"
                    ]
                },
                {
                    "name": "stdout",
                    "output_type": "stream",
                    "text": [
                        "Epoch 8 [249/250] | Valid Loss: 0.6296 | Elapse: 13.14s\n"
                    ]
                },
                {
                    "data": {
                        "application/vnd.jupyter.widget-view+json": {
                            "model_id": "7f9111f356d24c2f9edca0cf71fb69c3",
                            "version_major": 2,
                            "version_minor": 0
                        },
                        "text/plain": [
                            "Train [8]:   0%|          | 0/386 [00:00<?, ?batch/s]"
                        ]
                    },
                    "metadata": {},
                    "output_type": "display_data"
                },
                {
                    "name": "stdout",
                    "output_type": "stream",
                    "text": [
                        "Epoch 9 [0/386] | Train Loss: 0.3117 Grad: 158466.5156 LR: 1.1675e-05 | Elapse: 0.09s\n",
                        "Epoch 9 [50/386] | Train Loss: 0.2598 Grad: 125396.6406 LR: 1.0265e-05 | Elapse: 4.11s\n",
                        "Epoch 9 [100/386] | Train Loss: 0.2640 Grad: 70547.7578 LR: 8.9367e-06 | Elapse: 8.05s\n",
                        "Epoch 9 [150/386] | Train Loss: 0.2581 Grad: 92411.6328 LR: 7.6921e-06 | Elapse: 12.17s\n",
                        "Epoch 9 [200/386] | Train Loss: 0.2599 Grad: 125344.4531 LR: 6.5341e-06 | Elapse: 16.11s\n",
                        "Epoch 9 [250/386] | Train Loss: 0.2618 Grad: 118307.9766 LR: 5.4649e-06 | Elapse: 20.17s\n",
                        "Epoch 9 [300/386] | Train Loss: 0.2628 Grad: 107837.3438 LR: 4.4869e-06 | Elapse: 24.12s\n",
                        "Epoch 9 [350/386] | Train Loss: 0.2614 Grad: 69980.8828 LR: 3.6019e-06 | Elapse: 28.01s\n",
                        "Epoch 9 [385/386] | Train Loss: 0.2602 Grad: 96922.0547 LR: 3.0387e-06 | Elapse: 30.75s\n"
                    ]
                },
                {
                    "data": {
                        "application/vnd.jupyter.widget-view+json": {
                            "model_id": "977ebc60e07446048b6e90a50ca580ff",
                            "version_major": 2,
                            "version_minor": 0
                        },
                        "text/plain": [
                            "Valid [8]:   0%|          | 0/250 [00:00<?, ?batch/s]"
                        ]
                    },
                    "metadata": {},
                    "output_type": "display_data"
                },
                {
                    "name": "stdout",
                    "output_type": "stream",
                    "text": [
                        "Epoch 9 [0/250] | Valid Loss: 0.6140 | Elapse: 0.05s\n",
                        "Epoch 9 [50/250] | Valid Loss: 0.6530 | Elapse: 2.53s\n",
                        "Epoch 9 [100/250] | Valid Loss: 0.6147 | Elapse: 5.16s\n",
                        "Epoch 9 [150/250] | Valid Loss: 0.6373 | Elapse: 7.83s\n",
                        "Epoch 9 [200/250] | Valid Loss: 0.6429 | Elapse: 10.50s\n"
                    ]
                },
                {
                    "name": "stderr",
                    "output_type": "stream",
                    "text": [
                        "----------------------------------------------------------------------------------------------------\n",
                        "Epoch 9 - Average Loss: (train) 0.2602; (valid) 0.6396 | Time: 43.84s\n"
                    ]
                },
                {
                    "name": "stdout",
                    "output_type": "stream",
                    "text": [
                        "Epoch 9 [249/250] | Valid Loss: 0.6396 | Elapse: 13.09s\n"
                    ]
                },
                {
                    "data": {
                        "application/vnd.jupyter.widget-view+json": {
                            "model_id": "53a0356243c9447ea2cbeb24319a2994",
                            "version_major": 2,
                            "version_minor": 0
                        },
                        "text/plain": [
                            "Train [9]:   0%|          | 0/386 [00:00<?, ?batch/s]"
                        ]
                    },
                    "metadata": {},
                    "output_type": "display_data"
                },
                {
                    "name": "stdout",
                    "output_type": "stream",
                    "text": [
                        "Epoch 10 [0/386] | Train Loss: 0.2996 Grad: 122562.9297 LR: 3.0233e-06 | Elapse: 0.09s\n",
                        "Epoch 10 [50/386] | Train Loss: 0.2537 Grad: 109665.7344 LR: 2.3025e-06 | Elapse: 4.21s\n",
                        "Epoch 10 [100/386] | Train Loss: 0.2566 Grad: 69146.8906 LR: 1.6793e-06 | Elapse: 8.14s\n",
                        "Epoch 10 [150/386] | Train Loss: 0.2486 Grad: 82610.3906 LR: 1.1549e-06 | Elapse: 12.21s\n",
                        "Epoch 10 [200/386] | Train Loss: 0.2489 Grad: 109258.1797 LR: 7.3030e-07 | Elapse: 16.13s\n",
                        "Epoch 10 [250/386] | Train Loss: 0.2520 Grad: 176786.5156 LR: 4.0651e-07 | Elapse: 20.04s\n",
                        "Epoch 10 [300/386] | Train Loss: 0.2523 Grad: 121193.3906 LR: 1.8413e-07 | Elapse: 23.94s\n",
                        "Epoch 10 [350/386] | Train Loss: 0.2510 Grad: 116145.8281 LR: 6.3623e-08 | Elapse: 27.87s\n",
                        "Epoch 10 [385/386] | Train Loss: 0.2508 Grad: 106270.4609 LR: 4.0020e-08 | Elapse: 30.63s\n"
                    ]
                },
                {
                    "data": {
                        "application/vnd.jupyter.widget-view+json": {
                            "model_id": "8d67e8668f9647b0b10c2391b704b609",
                            "version_major": 2,
                            "version_minor": 0
                        },
                        "text/plain": [
                            "Valid [9]:   0%|          | 0/250 [00:00<?, ?batch/s]"
                        ]
                    },
                    "metadata": {},
                    "output_type": "display_data"
                },
                {
                    "name": "stdout",
                    "output_type": "stream",
                    "text": [
                        "Epoch 10 [0/250] | Valid Loss: 0.6326 | Elapse: 0.05s\n",
                        "Epoch 10 [50/250] | Valid Loss: 0.6292 | Elapse: 2.53s\n",
                        "Epoch 10 [100/250] | Valid Loss: 0.6058 | Elapse: 5.18s\n",
                        "Epoch 10 [150/250] | Valid Loss: 0.6266 | Elapse: 7.85s\n",
                        "Epoch 10 [200/250] | Valid Loss: 0.6359 | Elapse: 10.51s\n"
                    ]
                },
                {
                    "name": "stderr",
                    "output_type": "stream",
                    "text": [
                        "----------------------------------------------------------------------------------------------------\n",
                        "Epoch 10 - Average Loss: (train) 0.2508; (valid) 0.6387 | Time: 43.72s\n"
                    ]
                },
                {
                    "name": "stdout",
                    "output_type": "stream",
                    "text": [
                        "Epoch 10 [249/250] | Valid Loss: 0.6387 | Elapse: 13.08s\n"
                    ]
                },
                {
                    "name": "stderr",
                    "output_type": "stream",
                    "text": [
                        "====================================================================================================\n",
                        "Fold 0 Valid Loss: 0.6296060085296631\n",
                        "Elapse: 7.29 min \n",
                        "====================================================================================================\n"
                    ]
                },
                {
                    "name": "stdout",
                    "output_type": "stream",
                    "text": [
                        "Loading pretrained weights from facebook/vit-mae-base\n"
                    ]
                },
                {
                    "name": "stderr",
                    "output_type": "stream",
                    "text": [
                        "====================================================================================================\n",
                        "Fold: 1 || Valid size 3886 \n",
                        "====================================================================================================\n",
                        "- First Stage -\n"
                    ]
                },
                {
                    "data": {
                        "application/vnd.jupyter.widget-view+json": {
                            "model_id": "6bbf2afe976a4f94a78ba35a0aaeca9d",
                            "version_major": 2,
                            "version_minor": 0
                        },
                        "text/plain": [
                            "Train [0]:   0%|          | 0/1018 [00:00<?, ?batch/s]"
                        ]
                    },
                    "metadata": {},
                    "output_type": "display_data"
                },
                {
                    "name": "stdout",
                    "output_type": "stream",
                    "text": [
                        "Epoch 1 [0/1018] | Train Loss: 1.5691 Grad: 98571.4062 LR: 4.0002e-06 | Elapse: 0.10s\n",
                        "Epoch 1 [50/1018] | Train Loss: 1.4183 Grad: 82737.9844 LR: 4.5944e-06 | Elapse: 4.07s\n",
                        "Epoch 1 [100/1018] | Train Loss: 1.3647 Grad: 61774.0977 LR: 6.3173e-06 | Elapse: 7.94s\n",
                        "Epoch 1 [150/1018] | Train Loss: 1.3281 Grad: 82110.9297 LR: 9.1278e-06 | Elapse: 11.82s\n",
                        "Epoch 1 [200/1018] | Train Loss: 1.3077 Grad: 336448.4688 LR: 1.2959e-05 | Elapse: 15.70s\n",
                        "Epoch 1 [250/1018] | Train Loss: 1.3017 Grad: 119016.4141 LR: 1.7720e-05 | Elapse: 19.58s\n",
                        "Epoch 1 [300/1018] | Train Loss: 1.2959 Grad: 159577.5469 LR: 2.3297e-05 | Elapse: 23.48s\n",
                        "Epoch 1 [350/1018] | Train Loss: 1.2924 Grad: 127410.1172 LR: 2.9557e-05 | Elapse: 27.40s\n",
                        "Epoch 1 [400/1018] | Train Loss: 1.2838 Grad: 220597.8750 LR: 3.6352e-05 | Elapse: 31.32s\n",
                        "Epoch 1 [450/1018] | Train Loss: 1.2760 Grad: 111362.7891 LR: 4.3519e-05 | Elapse: 35.26s\n",
                        "Epoch 1 [500/1018] | Train Loss: 1.2667 Grad: 184464.6562 LR: 5.0888e-05 | Elapse: 39.20s\n",
                        "Epoch 1 [550/1018] | Train Loss: 1.2500 Grad: 195839.9375 LR: 5.8284e-05 | Elapse: 43.12s\n",
                        "Epoch 1 [600/1018] | Train Loss: 1.2392 Grad: 132201.2812 LR: 6.5530e-05 | Elapse: 47.04s\n",
                        "Epoch 1 [650/1018] | Train Loss: 1.2289 Grad: 171928.0938 LR: 7.2454e-05 | Elapse: 50.94s\n",
                        "Epoch 1 [700/1018] | Train Loss: 1.2183 Grad: 183800.3750 LR: 7.8890e-05 | Elapse: 54.84s\n",
                        "Epoch 1 [750/1018] | Train Loss: 1.2073 Grad: 220103.4531 LR: 8.4687e-05 | Elapse: 58.73s\n",
                        "Epoch 1 [800/1018] | Train Loss: 1.1979 Grad: 134059.7969 LR: 8.9706e-05 | Elapse: 62.62s\n",
                        "Epoch 1 [850/1018] | Train Loss: 1.1867 Grad: 204014.3281 LR: 9.3826e-05 | Elapse: 66.51s\n",
                        "Epoch 1 [900/1018] | Train Loss: 1.1751 Grad: 194779.3125 LR: 9.6951e-05 | Elapse: 70.40s\n",
                        "Epoch 1 [950/1018] | Train Loss: 1.1629 Grad: 169698.6406 LR: 9.9006e-05 | Elapse: 74.28s\n",
                        "Epoch 1 [1000/1018] | Train Loss: 1.1528 Grad: 112273.2656 LR: 9.9941e-05 | Elapse: 78.28s\n",
                        "Epoch 1 [1017/1018] | Train Loss: 1.1499 Grad: 155104.9062 LR: 1.0000e-04 | Elapse: 79.63s\n"
                    ]
                },
                {
                    "data": {
                        "application/vnd.jupyter.widget-view+json": {
                            "model_id": "b088c099fe5a4eab91fb939af7c29d9a",
                            "version_major": 2,
                            "version_minor": 0
                        },
                        "text/plain": [
                            "Valid [0]:   0%|          | 0/243 [00:00<?, ?batch/s]"
                        ]
                    },
                    "metadata": {},
                    "output_type": "display_data"
                },
                {
                    "name": "stdout",
                    "output_type": "stream",
                    "text": [
                        "Epoch 1 [0/243] | Valid Loss: 0.8868 | Elapse: 0.05s\n",
                        "Epoch 1 [50/243] | Valid Loss: 0.9248 | Elapse: 2.55s\n",
                        "Epoch 1 [100/243] | Valid Loss: 0.9188 | Elapse: 5.13s\n",
                        "Epoch 1 [150/243] | Valid Loss: 0.9228 | Elapse: 7.78s\n",
                        "Epoch 1 [200/243] | Valid Loss: 0.9295 | Elapse: 10.43s\n"
                    ]
                },
                {
                    "name": "stderr",
                    "output_type": "stream",
                    "text": [
                        "----------------------------------------------------------------------------------------------------\n",
                        "Epoch 1 - Average Loss: (train) 1.1499; (valid) 0.9289 | Time: 92.30s\n",
                        "Best model found in epoch 1 | valid loss: 0.9289\n"
                    ]
                },
                {
                    "name": "stdout",
                    "output_type": "stream",
                    "text": [
                        "Epoch 1 [242/243] | Valid Loss: 0.9289 | Elapse: 12.67s\n"
                    ]
                },
                {
                    "data": {
                        "application/vnd.jupyter.widget-view+json": {
                            "model_id": "81804bf376b7419fba63a24f8b81e662",
                            "version_major": 2,
                            "version_minor": 0
                        },
                        "text/plain": [
                            "Train [1]:   0%|          | 0/1018 [00:00<?, ?batch/s]"
                        ]
                    },
                    "metadata": {},
                    "output_type": "display_data"
                },
                {
                    "name": "stdout",
                    "output_type": "stream",
                    "text": [
                        "Epoch 2 [0/1018] | Train Loss: 0.9776 Grad: 122075.6562 LR: 1.0000e-04 | Elapse: 0.09s\n",
                        "Epoch 2 [50/1018] | Train Loss: 0.9200 Grad: 231567.3594 LR: 9.9992e-05 | Elapse: 4.10s\n",
                        "Epoch 2 [100/1018] | Train Loss: 0.9459 Grad: 123784.5156 LR: 9.9969e-05 | Elapse: 8.01s\n",
                        "Epoch 2 [150/1018] | Train Loss: 0.9366 Grad: 185001.4531 LR: 9.9932e-05 | Elapse: 11.93s\n",
                        "Epoch 2 [200/1018] | Train Loss: 0.9373 Grad: 319231.6562 LR: 9.9880e-05 | Elapse: 15.95s\n",
                        "Epoch 2 [250/1018] | Train Loss: 0.9364 Grad: 150839.2500 LR: 9.9814e-05 | Elapse: 19.90s\n",
                        "Epoch 2 [300/1018] | Train Loss: 0.9240 Grad: 144175.5938 LR: 9.9732e-05 | Elapse: 23.85s\n",
                        "Epoch 2 [350/1018] | Train Loss: 0.9193 Grad: 211284.5156 LR: 9.9636e-05 | Elapse: 27.78s\n",
                        "Epoch 2 [400/1018] | Train Loss: 0.9150 Grad: 185406.4375 LR: 9.9526e-05 | Elapse: 31.71s\n",
                        "Epoch 2 [450/1018] | Train Loss: 0.9121 Grad: 169078.0781 LR: 9.9401e-05 | Elapse: 35.65s\n",
                        "Epoch 2 [500/1018] | Train Loss: 0.9079 Grad: 177825.2500 LR: 9.9261e-05 | Elapse: 39.55s\n",
                        "Epoch 2 [550/1018] | Train Loss: 0.9058 Grad: 200182.7812 LR: 9.9107e-05 | Elapse: 43.52s\n",
                        "Epoch 2 [600/1018] | Train Loss: 0.9006 Grad: 186491.2031 LR: 9.8939e-05 | Elapse: 47.58s\n",
                        "Epoch 2 [650/1018] | Train Loss: 0.8946 Grad: 172985.7031 LR: 9.8756e-05 | Elapse: 51.57s\n",
                        "Epoch 2 [700/1018] | Train Loss: 0.8914 Grad: 147881.0000 LR: 9.8559e-05 | Elapse: 55.47s\n",
                        "Epoch 2 [750/1018] | Train Loss: 0.8874 Grad: 199257.7969 LR: 9.8348e-05 | Elapse: 59.38s\n",
                        "Epoch 2 [800/1018] | Train Loss: 0.8844 Grad: 190291.2344 LR: 9.8122e-05 | Elapse: 63.28s\n",
                        "Epoch 2 [850/1018] | Train Loss: 0.8819 Grad: 233563.3750 LR: 9.7882e-05 | Elapse: 67.18s\n",
                        "Epoch 2 [900/1018] | Train Loss: 0.8779 Grad: 180824.1094 LR: 9.7628e-05 | Elapse: 71.09s\n",
                        "Epoch 2 [950/1018] | Train Loss: 0.8729 Grad: 142616.8750 LR: 9.7361e-05 | Elapse: 75.05s\n",
                        "Epoch 2 [1000/1018] | Train Loss: 0.8707 Grad: 158211.8125 LR: 9.7079e-05 | Elapse: 79.09s\n",
                        "Epoch 2 [1017/1018] | Train Loss: 0.8701 Grad: 174242.5312 LR: 9.6980e-05 | Elapse: 80.42s\n"
                    ]
                },
                {
                    "data": {
                        "application/vnd.jupyter.widget-view+json": {
                            "model_id": "6244e4e61d2841d3b74d9cb9d68d6327",
                            "version_major": 2,
                            "version_minor": 0
                        },
                        "text/plain": [
                            "Valid [1]:   0%|          | 0/243 [00:00<?, ?batch/s]"
                        ]
                    },
                    "metadata": {},
                    "output_type": "display_data"
                },
                {
                    "name": "stdout",
                    "output_type": "stream",
                    "text": [
                        "Epoch 2 [0/243] | Valid Loss: 0.9249 | Elapse: 0.06s\n",
                        "Epoch 2 [50/243] | Valid Loss: 0.7058 | Elapse: 2.56s\n",
                        "Epoch 2 [100/243] | Valid Loss: 0.7338 | Elapse: 5.17s\n",
                        "Epoch 2 [150/243] | Valid Loss: 0.7383 | Elapse: 7.82s\n",
                        "Epoch 2 [200/243] | Valid Loss: 0.7502 | Elapse: 10.48s\n"
                    ]
                },
                {
                    "name": "stderr",
                    "output_type": "stream",
                    "text": [
                        "----------------------------------------------------------------------------------------------------\n",
                        "Epoch 2 - Average Loss: (train) 0.8701; (valid) 0.7512 | Time: 93.13s\n",
                        "Best model found in epoch 2 | valid loss: 0.7512\n"
                    ]
                },
                {
                    "name": "stdout",
                    "output_type": "stream",
                    "text": [
                        "Epoch 2 [242/243] | Valid Loss: 0.7512 | Elapse: 12.71s\n"
                    ]
                },
                {
                    "data": {
                        "application/vnd.jupyter.widget-view+json": {
                            "model_id": "b3fa9ec72e734f6a9517895ce5efc113",
                            "version_major": 2,
                            "version_minor": 0
                        },
                        "text/plain": [
                            "Train [2]:   0%|          | 0/1018 [00:00<?, ?batch/s]"
                        ]
                    },
                    "metadata": {},
                    "output_type": "display_data"
                },
                {
                    "name": "stdout",
                    "output_type": "stream",
                    "text": [
                        "Epoch 3 [0/1018] | Train Loss: 0.6458 Grad: 155475.4062 LR: 9.6974e-05 | Elapse: 0.09s\n",
                        "Epoch 3 [50/1018] | Train Loss: 0.7836 Grad: 242159.2188 LR: 9.6674e-05 | Elapse: 4.07s\n",
                        "Epoch 3 [100/1018] | Train Loss: 0.7683 Grad: 216869.6562 LR: 9.6359e-05 | Elapse: 8.10s\n",
                        "Epoch 3 [150/1018] | Train Loss: 0.7715 Grad: 146375.5000 LR: 9.6032e-05 | Elapse: 12.06s\n",
                        "Epoch 3 [200/1018] | Train Loss: 0.7718 Grad: 303384.3438 LR: 9.5690e-05 | Elapse: 16.02s\n",
                        "Epoch 3 [250/1018] | Train Loss: 0.7764 Grad: 172903.3125 LR: 9.5335e-05 | Elapse: 19.95s\n",
                        "Epoch 3 [300/1018] | Train Loss: 0.7687 Grad: 148141.2031 LR: 9.4967e-05 | Elapse: 23.88s\n",
                        "Epoch 3 [350/1018] | Train Loss: 0.7652 Grad: 224722.5469 LR: 9.4586e-05 | Elapse: 27.81s\n",
                        "Epoch 3 [400/1018] | Train Loss: 0.7662 Grad: 234101.4688 LR: 9.4191e-05 | Elapse: 31.73s\n",
                        "Epoch 3 [450/1018] | Train Loss: 0.7651 Grad: 124084.3750 LR: 9.3784e-05 | Elapse: 35.64s\n",
                        "Epoch 3 [500/1018] | Train Loss: 0.7663 Grad: 153005.5469 LR: 9.3364e-05 | Elapse: 39.56s\n",
                        "Epoch 3 [550/1018] | Train Loss: 0.7682 Grad: 255900.3906 LR: 9.2931e-05 | Elapse: 43.48s\n",
                        "Epoch 3 [600/1018] | Train Loss: 0.7679 Grad: 287092.5938 LR: 9.2485e-05 | Elapse: 47.37s\n",
                        "Epoch 3 [650/1018] | Train Loss: 0.7663 Grad: 222041.8750 LR: 9.2027e-05 | Elapse: 51.28s\n",
                        "Epoch 3 [700/1018] | Train Loss: 0.7652 Grad: 205449.8594 LR: 9.1557e-05 | Elapse: 55.18s\n",
                        "Epoch 3 [750/1018] | Train Loss: 0.7646 Grad: 174919.5938 LR: 9.1074e-05 | Elapse: 59.08s\n",
                        "Epoch 3 [800/1018] | Train Loss: 0.7636 Grad: 128496.9453 LR: 9.0579e-05 | Elapse: 62.98s\n",
                        "Epoch 3 [850/1018] | Train Loss: 0.7626 Grad: 191567.4688 LR: 9.0073e-05 | Elapse: 66.88s\n",
                        "Epoch 3 [900/1018] | Train Loss: 0.7610 Grad: 171118.4375 LR: 8.9554e-05 | Elapse: 70.81s\n",
                        "Epoch 3 [950/1018] | Train Loss: 0.7572 Grad: 148575.9375 LR: 8.9024e-05 | Elapse: 74.71s\n",
                        "Epoch 3 [1000/1018] | Train Loss: 0.7564 Grad: 125687.9062 LR: 8.8483e-05 | Elapse: 78.62s\n",
                        "Epoch 3 [1017/1018] | Train Loss: 0.7563 Grad: 144194.3438 LR: 8.8296e-05 | Elapse: 79.96s\n"
                    ]
                },
                {
                    "data": {
                        "application/vnd.jupyter.widget-view+json": {
                            "model_id": "db725ab0da6648f49724ee138f382771",
                            "version_major": 2,
                            "version_minor": 0
                        },
                        "text/plain": [
                            "Valid [2]:   0%|          | 0/243 [00:00<?, ?batch/s]"
                        ]
                    },
                    "metadata": {},
                    "output_type": "display_data"
                },
                {
                    "name": "stdout",
                    "output_type": "stream",
                    "text": [
                        "Epoch 3 [0/243] | Valid Loss: 0.6474 | Elapse: 0.05s\n",
                        "Epoch 3 [50/243] | Valid Loss: 0.6934 | Elapse: 2.53s\n",
                        "Epoch 3 [100/243] | Valid Loss: 0.7056 | Elapse: 5.14s\n",
                        "Epoch 3 [150/243] | Valid Loss: 0.6979 | Elapse: 7.80s\n",
                        "Epoch 3 [200/243] | Valid Loss: 0.7055 | Elapse: 10.46s\n"
                    ]
                },
                {
                    "name": "stderr",
                    "output_type": "stream",
                    "text": [
                        "----------------------------------------------------------------------------------------------------\n",
                        "Epoch 3 - Average Loss: (train) 0.7563; (valid) 0.7053 | Time: 92.63s\n",
                        "Best model found in epoch 3 | valid loss: 0.7053\n"
                    ]
                },
                {
                    "name": "stdout",
                    "output_type": "stream",
                    "text": [
                        "Epoch 3 [242/243] | Valid Loss: 0.7053 | Elapse: 12.67s\n"
                    ]
                },
                {
                    "data": {
                        "application/vnd.jupyter.widget-view+json": {
                            "model_id": "66409f66dd2a450aa8516d6b9c628324",
                            "version_major": 2,
                            "version_minor": 0
                        },
                        "text/plain": [
                            "Train [3]:   0%|          | 0/1018 [00:00<?, ?batch/s]"
                        ]
                    },
                    "metadata": {},
                    "output_type": "display_data"
                },
                {
                    "name": "stdout",
                    "output_type": "stream",
                    "text": [
                        "Epoch 4 [0/1018] | Train Loss: 0.7005 Grad: 153673.6875 LR: 8.8285e-05 | Elapse: 0.09s\n",
                        "Epoch 4 [50/1018] | Train Loss: 0.7000 Grad: 223932.0156 LR: 8.7728e-05 | Elapse: 4.03s\n",
                        "Epoch 4 [100/1018] | Train Loss: 0.6858 Grad: 191908.0469 LR: 8.7160e-05 | Elapse: 7.97s\n",
                        "Epoch 4 [150/1018] | Train Loss: 0.6984 Grad: 138376.6406 LR: 8.6581e-05 | Elapse: 11.91s\n",
                        "Epoch 4 [200/1018] | Train Loss: 0.7028 Grad: 202089.2969 LR: 8.5992e-05 | Elapse: 15.84s\n",
                        "Epoch 4 [250/1018] | Train Loss: 0.7036 Grad: 159241.9219 LR: 8.5391e-05 | Elapse: 19.78s\n",
                        "Epoch 4 [300/1018] | Train Loss: 0.6970 Grad: 223868.9844 LR: 8.4781e-05 | Elapse: 23.75s\n",
                        "Epoch 4 [350/1018] | Train Loss: 0.6981 Grad: 208536.7656 LR: 8.4160e-05 | Elapse: 27.69s\n",
                        "Epoch 4 [400/1018] | Train Loss: 0.6964 Grad: 216941.1250 LR: 8.3529e-05 | Elapse: 31.63s\n",
                        "Epoch 4 [450/1018] | Train Loss: 0.6981 Grad: 158706.9844 LR: 8.2889e-05 | Elapse: 35.57s\n",
                        "Epoch 4 [500/1018] | Train Loss: 0.6981 Grad: 205469.7500 LR: 8.2238e-05 | Elapse: 39.51s\n",
                        "Epoch 4 [550/1018] | Train Loss: 0.7015 Grad: 166811.7969 LR: 8.1579e-05 | Elapse: 43.50s\n",
                        "Epoch 4 [600/1018] | Train Loss: 0.7021 Grad: 201957.0469 LR: 8.0909e-05 | Elapse: 47.45s\n",
                        "Epoch 4 [650/1018] | Train Loss: 0.7013 Grad: 200320.4844 LR: 8.0231e-05 | Elapse: 51.39s\n",
                        "Epoch 4 [700/1018] | Train Loss: 0.6998 Grad: 147054.9531 LR: 7.9544e-05 | Elapse: 55.34s\n",
                        "Epoch 4 [750/1018] | Train Loss: 0.6987 Grad: 181298.5312 LR: 7.8849e-05 | Elapse: 59.27s\n",
                        "Epoch 4 [800/1018] | Train Loss: 0.6977 Grad: 172627.6719 LR: 7.8144e-05 | Elapse: 63.21s\n",
                        "Epoch 4 [850/1018] | Train Loss: 0.6984 Grad: 220640.5781 LR: 7.7432e-05 | Elapse: 67.14s\n",
                        "Epoch 4 [900/1018] | Train Loss: 0.6967 Grad: 203221.2188 LR: 7.6711e-05 | Elapse: 71.08s\n",
                        "Epoch 4 [950/1018] | Train Loss: 0.6951 Grad: 169394.7344 LR: 7.5983e-05 | Elapse: 75.01s\n",
                        "Epoch 4 [1000/1018] | Train Loss: 0.6948 Grad: 141064.5469 LR: 7.5247e-05 | Elapse: 78.94s\n",
                        "Epoch 4 [1017/1018] | Train Loss: 0.6946 Grad: 99563.6875 LR: 7.4995e-05 | Elapse: 80.28s\n"
                    ]
                },
                {
                    "data": {
                        "application/vnd.jupyter.widget-view+json": {
                            "model_id": "c8948d331b834254a0bd2c1109eed9b0",
                            "version_major": 2,
                            "version_minor": 0
                        },
                        "text/plain": [
                            "Valid [3]:   0%|          | 0/243 [00:00<?, ?batch/s]"
                        ]
                    },
                    "metadata": {},
                    "output_type": "display_data"
                },
                {
                    "name": "stdout",
                    "output_type": "stream",
                    "text": [
                        "Epoch 4 [0/243] | Valid Loss: 0.8304 | Elapse: 0.05s\n",
                        "Epoch 4 [50/243] | Valid Loss: 0.6327 | Elapse: 2.53s\n",
                        "Epoch 4 [100/243] | Valid Loss: 0.6381 | Elapse: 5.11s\n",
                        "Epoch 4 [150/243] | Valid Loss: 0.6317 | Elapse: 7.76s\n",
                        "Epoch 4 [200/243] | Valid Loss: 0.6402 | Elapse: 10.42s\n"
                    ]
                },
                {
                    "name": "stderr",
                    "output_type": "stream",
                    "text": [
                        "----------------------------------------------------------------------------------------------------\n",
                        "Epoch 4 - Average Loss: (train) 0.6946; (valid) 0.6414 | Time: 92.94s\n",
                        "Best model found in epoch 4 | valid loss: 0.6414\n"
                    ]
                },
                {
                    "name": "stdout",
                    "output_type": "stream",
                    "text": [
                        "Epoch 4 [242/243] | Valid Loss: 0.6414 | Elapse: 12.66s\n"
                    ]
                },
                {
                    "data": {
                        "application/vnd.jupyter.widget-view+json": {
                            "model_id": "776fdfe406dc45aca56e797af6c66663",
                            "version_major": 2,
                            "version_minor": 0
                        },
                        "text/plain": [
                            "Train [4]:   0%|          | 0/1018 [00:00<?, ?batch/s]"
                        ]
                    },
                    "metadata": {},
                    "output_type": "display_data"
                },
                {
                    "name": "stdout",
                    "output_type": "stream",
                    "text": [
                        "Epoch 5 [0/1018] | Train Loss: 0.7828 Grad: 202863.0469 LR: 7.4980e-05 | Elapse: 0.09s\n",
                        "Epoch 5 [50/1018] | Train Loss: 0.6617 Grad: 200607.5938 LR: 7.4234e-05 | Elapse: 4.06s\n",
                        "Epoch 5 [100/1018] | Train Loss: 0.6298 Grad: 201430.3750 LR: 7.3481e-05 | Elapse: 7.97s\n",
                        "Epoch 5 [150/1018] | Train Loss: 0.6461 Grad: 141878.0312 LR: 7.2721e-05 | Elapse: 11.87s\n",
                        "Epoch 5 [200/1018] | Train Loss: 0.6457 Grad: 160669.9219 LR: 7.1954e-05 | Elapse: 15.78s\n",
                        "Epoch 5 [250/1018] | Train Loss: 0.6465 Grad: 204572.1094 LR: 7.1181e-05 | Elapse: 19.68s\n",
                        "Epoch 5 [300/1018] | Train Loss: 0.6406 Grad: 186970.7812 LR: 7.0402e-05 | Elapse: 23.58s\n",
                        "Epoch 5 [350/1018] | Train Loss: 0.6378 Grad: 161117.7969 LR: 6.9617e-05 | Elapse: 27.48s\n",
                        "Epoch 5 [400/1018] | Train Loss: 0.6360 Grad: 193719.6406 LR: 6.8825e-05 | Elapse: 31.38s\n",
                        "Epoch 5 [450/1018] | Train Loss: 0.6387 Grad: 156160.6875 LR: 6.8029e-05 | Elapse: 35.28s\n",
                        "Epoch 5 [500/1018] | Train Loss: 0.6394 Grad: 213546.0312 LR: 6.7227e-05 | Elapse: 39.18s\n",
                        "Epoch 5 [550/1018] | Train Loss: 0.6429 Grad: 170391.9688 LR: 6.6420e-05 | Elapse: 43.07s\n",
                        "Epoch 5 [600/1018] | Train Loss: 0.6428 Grad: 223306.1562 LR: 6.5608e-05 | Elapse: 46.97s\n",
                        "Epoch 5 [650/1018] | Train Loss: 0.6412 Grad: 219093.3906 LR: 6.4792e-05 | Elapse: 50.87s\n",
                        "Epoch 5 [700/1018] | Train Loss: 0.6406 Grad: 223822.7656 LR: 6.3971e-05 | Elapse: 54.77s\n",
                        "Epoch 5 [750/1018] | Train Loss: 0.6403 Grad: 169193.5312 LR: 6.3146e-05 | Elapse: 58.73s\n",
                        "Epoch 5 [800/1018] | Train Loss: 0.6400 Grad: 216728.0625 LR: 6.2317e-05 | Elapse: 62.75s\n",
                        "Epoch 5 [850/1018] | Train Loss: 0.6420 Grad: 155146.2656 LR: 6.1485e-05 | Elapse: 66.68s\n",
                        "Epoch 5 [900/1018] | Train Loss: 0.6411 Grad: 224360.1406 LR: 6.0649e-05 | Elapse: 70.61s\n",
                        "Epoch 5 [950/1018] | Train Loss: 0.6394 Grad: 156158.3438 LR: 5.9811e-05 | Elapse: 74.54s\n",
                        "Epoch 5 [1000/1018] | Train Loss: 0.6385 Grad: 180338.7656 LR: 5.8969e-05 | Elapse: 78.44s\n",
                        "Epoch 5 [1017/1018] | Train Loss: 0.6383 Grad: 129073.1875 LR: 5.8682e-05 | Elapse: 79.77s\n"
                    ]
                },
                {
                    "data": {
                        "application/vnd.jupyter.widget-view+json": {
                            "model_id": "13154ad5f4844509b1266462b8f6bfcf",
                            "version_major": 2,
                            "version_minor": 0
                        },
                        "text/plain": [
                            "Valid [4]:   0%|          | 0/243 [00:00<?, ?batch/s]"
                        ]
                    },
                    "metadata": {},
                    "output_type": "display_data"
                },
                {
                    "name": "stdout",
                    "output_type": "stream",
                    "text": [
                        "Epoch 5 [0/243] | Valid Loss: 0.9221 | Elapse: 0.05s\n",
                        "Epoch 5 [50/243] | Valid Loss: 0.6300 | Elapse: 2.52s\n",
                        "Epoch 5 [100/243] | Valid Loss: 0.6405 | Elapse: 5.12s\n",
                        "Epoch 5 [150/243] | Valid Loss: 0.6406 | Elapse: 7.77s\n",
                        "Epoch 5 [200/243] | Valid Loss: 0.6485 | Elapse: 10.46s\n"
                    ]
                },
                {
                    "name": "stderr",
                    "output_type": "stream",
                    "text": [
                        "----------------------------------------------------------------------------------------------------\n",
                        "Epoch 5 - Average Loss: (train) 0.6383; (valid) 0.6463 | Time: 92.47s\n"
                    ]
                },
                {
                    "name": "stdout",
                    "output_type": "stream",
                    "text": [
                        "Epoch 5 [242/243] | Valid Loss: 0.6463 | Elapse: 12.69s\n"
                    ]
                },
                {
                    "data": {
                        "application/vnd.jupyter.widget-view+json": {
                            "model_id": "0113a3baf6164697ba32786226d34578",
                            "version_major": 2,
                            "version_minor": 0
                        },
                        "text/plain": [
                            "Train [5]:   0%|          | 0/1018 [00:00<?, ?batch/s]"
                        ]
                    },
                    "metadata": {},
                    "output_type": "display_data"
                },
                {
                    "name": "stdout",
                    "output_type": "stream",
                    "text": [
                        "Epoch 6 [0/1018] | Train Loss: 0.4783 Grad: 153118.6562 LR: 5.8665e-05 | Elapse: 0.09s\n",
                        "Epoch 6 [50/1018] | Train Loss: 0.6190 Grad: 297005.5000 LR: 5.7820e-05 | Elapse: 4.00s\n",
                        "Epoch 6 [100/1018] | Train Loss: 0.6008 Grad: 180754.1875 LR: 5.6972e-05 | Elapse: 7.91s\n",
                        "Epoch 6 [150/1018] | Train Loss: 0.6014 Grad: 190234.8906 LR: 5.6123e-05 | Elapse: 11.83s\n",
                        "Epoch 6 [200/1018] | Train Loss: 0.6015 Grad: 178233.9688 LR: 5.5272e-05 | Elapse: 15.76s\n",
                        "Epoch 6 [250/1018] | Train Loss: 0.6044 Grad: 165382.1875 LR: 5.4419e-05 | Elapse: 19.71s\n",
                        "Epoch 6 [300/1018] | Train Loss: 0.5978 Grad: 245462.9531 LR: 5.3565e-05 | Elapse: 23.63s\n",
                        "Epoch 6 [350/1018] | Train Loss: 0.5936 Grad: 168154.5938 LR: 5.2709e-05 | Elapse: 27.56s\n",
                        "Epoch 6 [400/1018] | Train Loss: 0.5928 Grad: 178005.9688 LR: 5.1853e-05 | Elapse: 31.47s\n",
                        "Epoch 6 [450/1018] | Train Loss: 0.5987 Grad: 161792.2656 LR: 5.0997e-05 | Elapse: 35.38s\n",
                        "Epoch 6 [500/1018] | Train Loss: 0.5999 Grad: 135660.7188 LR: 5.0140e-05 | Elapse: 39.31s\n",
                        "Epoch 6 [550/1018] | Train Loss: 0.6012 Grad: 211206.7344 LR: 4.9283e-05 | Elapse: 43.25s\n",
                        "Epoch 6 [600/1018] | Train Loss: 0.6000 Grad: 197591.5938 LR: 4.8426e-05 | Elapse: 47.20s\n",
                        "Epoch 6 [650/1018] | Train Loss: 0.6000 Grad: 223451.7656 LR: 4.7570e-05 | Elapse: 51.17s\n",
                        "Epoch 6 [700/1018] | Train Loss: 0.5980 Grad: 131968.0000 LR: 4.6715e-05 | Elapse: 55.12s\n",
                        "Epoch 6 [750/1018] | Train Loss: 0.5981 Grad: 163752.0312 LR: 4.5860e-05 | Elapse: 59.05s\n",
                        "Epoch 6 [800/1018] | Train Loss: 0.5953 Grad: 164191.5625 LR: 4.5007e-05 | Elapse: 63.00s\n",
                        "Epoch 6 [850/1018] | Train Loss: 0.5969 Grad: 187030.7188 LR: 4.4155e-05 | Elapse: 66.94s\n",
                        "Epoch 6 [900/1018] | Train Loss: 0.5971 Grad: 167428.9062 LR: 4.3305e-05 | Elapse: 70.88s\n",
                        "Epoch 6 [950/1018] | Train Loss: 0.5952 Grad: 188483.9062 LR: 4.2457e-05 | Elapse: 74.81s\n",
                        "Epoch 6 [1000/1018] | Train Loss: 0.5942 Grad: 222643.7500 LR: 4.1611e-05 | Elapse: 78.75s\n",
                        "Epoch 6 [1017/1018] | Train Loss: 0.5940 Grad: 174574.9844 LR: 4.1324e-05 | Elapse: 80.09s\n"
                    ]
                },
                {
                    "data": {
                        "application/vnd.jupyter.widget-view+json": {
                            "model_id": "34d8d03b92544e549b05195d31f4b217",
                            "version_major": 2,
                            "version_minor": 0
                        },
                        "text/plain": [
                            "Valid [5]:   0%|          | 0/243 [00:00<?, ?batch/s]"
                        ]
                    },
                    "metadata": {},
                    "output_type": "display_data"
                },
                {
                    "name": "stdout",
                    "output_type": "stream",
                    "text": [
                        "Epoch 6 [0/243] | Valid Loss: 1.0425 | Elapse: 0.06s\n",
                        "Epoch 6 [50/243] | Valid Loss: 0.5919 | Elapse: 2.52s\n",
                        "Epoch 6 [100/243] | Valid Loss: 0.6085 | Elapse: 5.10s\n",
                        "Epoch 6 [150/243] | Valid Loss: 0.6075 | Elapse: 7.74s\n",
                        "Epoch 6 [200/243] | Valid Loss: 0.6171 | Elapse: 10.40s\n"
                    ]
                },
                {
                    "name": "stderr",
                    "output_type": "stream",
                    "text": [
                        "----------------------------------------------------------------------------------------------------\n",
                        "Epoch 6 - Average Loss: (train) 0.5940; (valid) 0.6143 | Time: 92.72s\n",
                        "Best model found in epoch 6 | valid loss: 0.6143\n"
                    ]
                },
                {
                    "name": "stdout",
                    "output_type": "stream",
                    "text": [
                        "Epoch 6 [242/243] | Valid Loss: 0.6143 | Elapse: 12.63s\n"
                    ]
                },
                {
                    "data": {
                        "application/vnd.jupyter.widget-view+json": {
                            "model_id": "9ee4d69012434c5f81944be4bea4a0c4",
                            "version_major": 2,
                            "version_minor": 0
                        },
                        "text/plain": [
                            "Train [6]:   0%|          | 0/1018 [00:00<?, ?batch/s]"
                        ]
                    },
                    "metadata": {},
                    "output_type": "display_data"
                },
                {
                    "name": "stdout",
                    "output_type": "stream",
                    "text": [
                        "Epoch 7 [0/1018] | Train Loss: 0.3648 Grad: 131179.0156 LR: 4.1307e-05 | Elapse: 0.10s\n",
                        "Epoch 7 [50/1018] | Train Loss: 0.5868 Grad: 254807.6094 LR: 4.0465e-05 | Elapse: 4.12s\n",
                        "Epoch 7 [100/1018] | Train Loss: 0.5744 Grad: 144247.5156 LR: 3.9625e-05 | Elapse: 8.03s\n",
                        "Epoch 7 [150/1018] | Train Loss: 0.5609 Grad: 190032.7188 LR: 3.8789e-05 | Elapse: 11.97s\n",
                        "Epoch 7 [200/1018] | Train Loss: 0.5569 Grad: 262691.2188 LR: 3.7955e-05 | Elapse: 15.92s\n",
                        "Epoch 7 [250/1018] | Train Loss: 0.5628 Grad: 158238.5625 LR: 3.7126e-05 | Elapse: 19.87s\n",
                        "Epoch 7 [300/1018] | Train Loss: 0.5538 Grad: 175380.2656 LR: 3.6300e-05 | Elapse: 23.82s\n",
                        "Epoch 7 [350/1018] | Train Loss: 0.5496 Grad: 140136.7031 LR: 3.5478e-05 | Elapse: 27.78s\n",
                        "Epoch 7 [400/1018] | Train Loss: 0.5523 Grad: 226082.3281 LR: 3.4660e-05 | Elapse: 31.75s\n",
                        "Epoch 7 [450/1018] | Train Loss: 0.5534 Grad: 218146.1250 LR: 3.3847e-05 | Elapse: 35.66s\n",
                        "Epoch 7 [500/1018] | Train Loss: 0.5533 Grad: 184091.0625 LR: 3.3039e-05 | Elapse: 39.56s\n",
                        "Epoch 7 [550/1018] | Train Loss: 0.5557 Grad: 167873.4531 LR: 3.2235e-05 | Elapse: 43.46s\n",
                        "Epoch 7 [600/1018] | Train Loss: 0.5555 Grad: 224811.3125 LR: 3.1437e-05 | Elapse: 47.49s\n",
                        "Epoch 7 [650/1018] | Train Loss: 0.5562 Grad: 228505.7812 LR: 3.0644e-05 | Elapse: 51.47s\n",
                        "Epoch 7 [700/1018] | Train Loss: 0.5526 Grad: 139949.1250 LR: 2.9857e-05 | Elapse: 55.40s\n",
                        "Epoch 7 [750/1018] | Train Loss: 0.5542 Grad: 182078.1406 LR: 2.9076e-05 | Elapse: 59.34s\n",
                        "Epoch 7 [800/1018] | Train Loss: 0.5534 Grad: 146875.3594 LR: 2.8301e-05 | Elapse: 63.26s\n",
                        "Epoch 7 [850/1018] | Train Loss: 0.5561 Grad: 163150.0938 LR: 2.7533e-05 | Elapse: 67.20s\n",
                        "Epoch 7 [900/1018] | Train Loss: 0.5546 Grad: 177133.4844 LR: 2.6771e-05 | Elapse: 71.15s\n",
                        "Epoch 7 [950/1018] | Train Loss: 0.5529 Grad: 226693.3594 LR: 2.6016e-05 | Elapse: 75.13s\n",
                        "Epoch 7 [1000/1018] | Train Loss: 0.5521 Grad: 191841.3594 LR: 2.5268e-05 | Elapse: 79.19s\n",
                        "Epoch 7 [1017/1018] | Train Loss: 0.5516 Grad: 130298.8047 LR: 2.5015e-05 | Elapse: 80.52s\n"
                    ]
                },
                {
                    "data": {
                        "application/vnd.jupyter.widget-view+json": {
                            "model_id": "22d012001d9c455db22d308681ffc253",
                            "version_major": 2,
                            "version_minor": 0
                        },
                        "text/plain": [
                            "Valid [6]:   0%|          | 0/243 [00:00<?, ?batch/s]"
                        ]
                    },
                    "metadata": {},
                    "output_type": "display_data"
                },
                {
                    "name": "stdout",
                    "output_type": "stream",
                    "text": [
                        "Epoch 7 [0/243] | Valid Loss: 0.8532 | Elapse: 0.05s\n",
                        "Epoch 7 [50/243] | Valid Loss: 0.5886 | Elapse: 2.53s\n",
                        "Epoch 7 [100/243] | Valid Loss: 0.5931 | Elapse: 5.14s\n",
                        "Epoch 7 [150/243] | Valid Loss: 0.5901 | Elapse: 7.80s\n",
                        "Epoch 7 [200/243] | Valid Loss: 0.6023 | Elapse: 10.45s\n"
                    ]
                },
                {
                    "name": "stderr",
                    "output_type": "stream",
                    "text": [
                        "----------------------------------------------------------------------------------------------------\n",
                        "Epoch 7 - Average Loss: (train) 0.5516; (valid) 0.6047 | Time: 93.19s\n",
                        "Best model found in epoch 7 | valid loss: 0.6047\n"
                    ]
                },
                {
                    "name": "stdout",
                    "output_type": "stream",
                    "text": [
                        "Epoch 7 [242/243] | Valid Loss: 0.6047 | Elapse: 12.67s\n"
                    ]
                },
                {
                    "data": {
                        "application/vnd.jupyter.widget-view+json": {
                            "model_id": "187eef73b75b41d9bec621b5c2adb2c0",
                            "version_major": 2,
                            "version_minor": 0
                        },
                        "text/plain": [
                            "Train [7]:   0%|          | 0/1018 [00:00<?, ?batch/s]"
                        ]
                    },
                    "metadata": {},
                    "output_type": "display_data"
                },
                {
                    "name": "stdout",
                    "output_type": "stream",
                    "text": [
                        "Epoch 8 [0/1018] | Train Loss: 0.4494 Grad: 146510.9375 LR: 2.5000e-05 | Elapse: 0.09s\n",
                        "Epoch 8 [50/1018] | Train Loss: 0.5400 Grad: 271326.6562 LR: 2.4262e-05 | Elapse: 4.04s\n",
                        "Epoch 8 [100/1018] | Train Loss: 0.5207 Grad: 140316.9531 LR: 2.3532e-05 | Elapse: 8.05s\n",
                        "Epoch 8 [150/1018] | Train Loss: 0.5216 Grad: 224622.0625 LR: 2.2809e-05 | Elapse: 11.98s\n",
                        "Epoch 8 [200/1018] | Train Loss: 0.5226 Grad: 300585.1562 LR: 2.2094e-05 | Elapse: 15.91s\n",
                        "Epoch 8 [250/1018] | Train Loss: 0.5250 Grad: 204976.7656 LR: 2.1388e-05 | Elapse: 19.84s\n",
                        "Epoch 8 [300/1018] | Train Loss: 0.5166 Grad: 189292.5156 LR: 2.0690e-05 | Elapse: 23.78s\n",
                        "Epoch 8 [350/1018] | Train Loss: 0.5120 Grad: 208392.7656 LR: 2.0000e-05 | Elapse: 27.71s\n",
                        "Epoch 8 [400/1018] | Train Loss: 0.5130 Grad: 153063.8281 LR: 1.9320e-05 | Elapse: 31.63s\n",
                        "Epoch 8 [450/1018] | Train Loss: 0.5126 Grad: 137710.7188 LR: 1.8648e-05 | Elapse: 35.53s\n",
                        "Epoch 8 [500/1018] | Train Loss: 0.5132 Grad: 182969.2656 LR: 1.7985e-05 | Elapse: 39.44s\n",
                        "Epoch 8 [550/1018] | Train Loss: 0.5157 Grad: 208190.3594 LR: 1.7332e-05 | Elapse: 43.34s\n",
                        "Epoch 8 [600/1018] | Train Loss: 0.5171 Grad: 212545.1094 LR: 1.6689e-05 | Elapse: 47.24s\n",
                        "Epoch 8 [650/1018] | Train Loss: 0.5168 Grad: 195375.5469 LR: 1.6055e-05 | Elapse: 51.14s\n",
                        "Epoch 8 [700/1018] | Train Loss: 0.5139 Grad: 130661.7109 LR: 1.5432e-05 | Elapse: 55.04s\n",
                        "Epoch 8 [750/1018] | Train Loss: 0.5147 Grad: 171642.1094 LR: 1.4818e-05 | Elapse: 58.97s\n",
                        "Epoch 8 [800/1018] | Train Loss: 0.5145 Grad: 161607.5156 LR: 1.4215e-05 | Elapse: 62.87s\n",
                        "Epoch 8 [850/1018] | Train Loss: 0.5166 Grad: 173834.3281 LR: 1.3623e-05 | Elapse: 66.80s\n",
                        "Epoch 8 [900/1018] | Train Loss: 0.5154 Grad: 145377.6719 LR: 1.3041e-05 | Elapse: 70.71s\n",
                        "Epoch 8 [950/1018] | Train Loss: 0.5144 Grad: 245580.7812 LR: 1.2470e-05 | Elapse: 74.63s\n",
                        "Epoch 8 [1000/1018] | Train Loss: 0.5141 Grad: 217250.7500 LR: 1.1910e-05 | Elapse: 78.55s\n",
                        "Epoch 8 [1017/1018] | Train Loss: 0.5147 Grad: 163371.1719 LR: 1.1722e-05 | Elapse: 79.87s\n"
                    ]
                },
                {
                    "data": {
                        "application/vnd.jupyter.widget-view+json": {
                            "model_id": "a7ca4ff868c24022a4b3f45604769ea9",
                            "version_major": 2,
                            "version_minor": 0
                        },
                        "text/plain": [
                            "Valid [7]:   0%|          | 0/243 [00:00<?, ?batch/s]"
                        ]
                    },
                    "metadata": {},
                    "output_type": "display_data"
                },
                {
                    "name": "stdout",
                    "output_type": "stream",
                    "text": [
                        "Epoch 8 [0/243] | Valid Loss: 0.7302 | Elapse: 0.05s\n",
                        "Epoch 8 [50/243] | Valid Loss: 0.5729 | Elapse: 2.53s\n",
                        "Epoch 8 [100/243] | Valid Loss: 0.5927 | Elapse: 5.13s\n",
                        "Epoch 8 [150/243] | Valid Loss: 0.5911 | Elapse: 7.77s\n",
                        "Epoch 8 [200/243] | Valid Loss: 0.6017 | Elapse: 10.43s\n"
                    ]
                },
                {
                    "name": "stderr",
                    "output_type": "stream",
                    "text": [
                        "----------------------------------------------------------------------------------------------------\n",
                        "Epoch 8 - Average Loss: (train) 0.5147; (valid) 0.6000 | Time: 92.53s\n",
                        "Best model found in epoch 8 | valid loss: 0.6000\n"
                    ]
                },
                {
                    "name": "stdout",
                    "output_type": "stream",
                    "text": [
                        "Epoch 8 [242/243] | Valid Loss: 0.6000 | Elapse: 12.65s\n"
                    ]
                },
                {
                    "data": {
                        "application/vnd.jupyter.widget-view+json": {
                            "model_id": "0df44b3183ab4bf7b6a27c25d529bb21",
                            "version_major": 2,
                            "version_minor": 0
                        },
                        "text/plain": [
                            "Train [8]:   0%|          | 0/1018 [00:00<?, ?batch/s]"
                        ]
                    },
                    "metadata": {},
                    "output_type": "display_data"
                },
                {
                    "name": "stdout",
                    "output_type": "stream",
                    "text": [
                        "Epoch 9 [0/1018] | Train Loss: 0.4735 Grad: 201237.5938 LR: 1.1711e-05 | Elapse: 0.09s\n",
                        "Epoch 9 [50/1018] | Train Loss: 0.4862 Grad: 258479.7344 LR: 1.1166e-05 | Elapse: 4.01s\n",
                        "Epoch 9 [100/1018] | Train Loss: 0.4749 Grad: 204842.6406 LR: 1.0633e-05 | Elapse: 7.91s\n",
                        "Epoch 9 [150/1018] | Train Loss: 0.4752 Grad: 292063.9688 LR: 1.0111e-05 | Elapse: 11.81s\n",
                        "Epoch 9 [200/1018] | Train Loss: 0.4773 Grad: 239296.3281 LR: 9.6015e-06 | Elapse: 15.90s\n",
                        "Epoch 9 [250/1018] | Train Loss: 0.4825 Grad: 153039.6250 LR: 9.1034e-06 | Elapse: 19.83s\n",
                        "Epoch 9 [300/1018] | Train Loss: 0.4791 Grad: 127251.8047 LR: 8.6173e-06 | Elapse: 23.76s\n",
                        "Epoch 9 [350/1018] | Train Loss: 0.4749 Grad: 143483.4062 LR: 8.1434e-06 | Elapse: 27.68s\n",
                        "Epoch 9 [400/1018] | Train Loss: 0.4751 Grad: 175806.3594 LR: 7.6818e-06 | Elapse: 31.58s\n",
                        "Epoch 9 [450/1018] | Train Loss: 0.4761 Grad: 125765.9531 LR: 7.2327e-06 | Elapse: 35.49s\n",
                        "Epoch 9 [500/1018] | Train Loss: 0.4797 Grad: 190197.6250 LR: 6.7962e-06 | Elapse: 39.40s\n",
                        "Epoch 9 [550/1018] | Train Loss: 0.4815 Grad: 184959.5938 LR: 6.3723e-06 | Elapse: 43.37s\n",
                        "Epoch 9 [600/1018] | Train Loss: 0.4820 Grad: 200289.4844 LR: 5.9613e-06 | Elapse: 47.35s\n",
                        "Epoch 9 [650/1018] | Train Loss: 0.4811 Grad: 201284.0625 LR: 5.5632e-06 | Elapse: 51.28s\n",
                        "Epoch 9 [700/1018] | Train Loss: 0.4780 Grad: 104338.0391 LR: 5.1782e-06 | Elapse: 55.19s\n",
                        "Epoch 9 [750/1018] | Train Loss: 0.4777 Grad: 137854.7344 LR: 4.8064e-06 | Elapse: 59.09s\n",
                        "Epoch 9 [800/1018] | Train Loss: 0.4783 Grad: 200786.1094 LR: 4.4478e-06 | Elapse: 62.99s\n",
                        "Epoch 9 [850/1018] | Train Loss: 0.4807 Grad: 212948.2188 LR: 4.1027e-06 | Elapse: 66.90s\n",
                        "Epoch 9 [900/1018] | Train Loss: 0.4811 Grad: 229892.2812 LR: 3.7711e-06 | Elapse: 70.80s\n",
                        "Epoch 9 [950/1018] | Train Loss: 0.4811 Grad: 249847.4688 LR: 3.4530e-06 | Elapse: 74.70s\n",
                        "Epoch 9 [1000/1018] | Train Loss: 0.4810 Grad: 146058.5156 LR: 3.1487e-06 | Elapse: 78.61s\n",
                        "Epoch 9 [1017/1018] | Train Loss: 0.4815 Grad: 160958.7500 LR: 3.0483e-06 | Elapse: 79.94s\n"
                    ]
                },
                {
                    "data": {
                        "application/vnd.jupyter.widget-view+json": {
                            "model_id": "b480931bd98348b4af5f963474a1be6c",
                            "version_major": 2,
                            "version_minor": 0
                        },
                        "text/plain": [
                            "Valid [8]:   0%|          | 0/243 [00:00<?, ?batch/s]"
                        ]
                    },
                    "metadata": {},
                    "output_type": "display_data"
                },
                {
                    "name": "stdout",
                    "output_type": "stream",
                    "text": [
                        "Epoch 9 [0/243] | Valid Loss: 0.4995 | Elapse: 0.06s\n",
                        "Epoch 9 [50/243] | Valid Loss: 0.5448 | Elapse: 2.52s\n",
                        "Epoch 9 [100/243] | Valid Loss: 0.5651 | Elapse: 5.07s\n",
                        "Epoch 9 [150/243] | Valid Loss: 0.5705 | Elapse: 7.66s\n",
                        "Epoch 9 [200/243] | Valid Loss: 0.5816 | Elapse: 10.33s\n"
                    ]
                },
                {
                    "name": "stderr",
                    "output_type": "stream",
                    "text": [
                        "----------------------------------------------------------------------------------------------------\n",
                        "Epoch 9 - Average Loss: (train) 0.4815; (valid) 0.5802 | Time: 92.50s\n",
                        "Best model found in epoch 9 | valid loss: 0.5802\n"
                    ]
                },
                {
                    "name": "stdout",
                    "output_type": "stream",
                    "text": [
                        "Epoch 9 [242/243] | Valid Loss: 0.5802 | Elapse: 12.56s\n"
                    ]
                },
                {
                    "data": {
                        "application/vnd.jupyter.widget-view+json": {
                            "model_id": "f02791864e0440e0bef1daf3846c36b8",
                            "version_major": 2,
                            "version_minor": 0
                        },
                        "text/plain": [
                            "Train [9]:   0%|          | 0/1018 [00:00<?, ?batch/s]"
                        ]
                    },
                    "metadata": {},
                    "output_type": "display_data"
                },
                {
                    "name": "stdout",
                    "output_type": "stream",
                    "text": [
                        "Epoch 10 [0/1018] | Train Loss: 0.4231 Grad: 250378.6719 LR: 3.0425e-06 | Elapse: 0.09s\n",
                        "Epoch 10 [50/1018] | Train Loss: 0.4871 Grad: 303997.0312 LR: 2.7568e-06 | Elapse: 4.01s\n",
                        "Epoch 10 [100/1018] | Train Loss: 0.4763 Grad: 186468.1094 LR: 2.4851e-06 | Elapse: 7.94s\n",
                        "Epoch 10 [150/1018] | Train Loss: 0.4744 Grad: 264332.8750 LR: 2.2274e-06 | Elapse: 11.83s\n",
                        "Epoch 10 [200/1018] | Train Loss: 0.4691 Grad: 200144.0156 LR: 1.9837e-06 | Elapse: 15.73s\n",
                        "Epoch 10 [250/1018] | Train Loss: 0.4756 Grad: 234524.2656 LR: 1.7541e-06 | Elapse: 19.65s\n",
                        "Epoch 10 [300/1018] | Train Loss: 0.4706 Grad: 158072.7344 LR: 1.5387e-06 | Elapse: 23.62s\n",
                        "Epoch 10 [350/1018] | Train Loss: 0.4659 Grad: 149769.6094 LR: 1.3376e-06 | Elapse: 27.55s\n",
                        "Epoch 10 [400/1018] | Train Loss: 0.4663 Grad: 184609.4219 LR: 1.1508e-06 | Elapse: 31.46s\n",
                        "Epoch 10 [450/1018] | Train Loss: 0.4669 Grad: 117031.1641 LR: 9.7833e-07 | Elapse: 35.38s\n",
                        "Epoch 10 [500/1018] | Train Loss: 0.4684 Grad: 229971.9531 LR: 8.2028e-07 | Elapse: 39.35s\n",
                        "Epoch 10 [550/1018] | Train Loss: 0.4713 Grad: 204482.0781 LR: 6.7670e-07 | Elapse: 43.27s\n",
                        "Epoch 10 [600/1018] | Train Loss: 0.4721 Grad: 204688.5312 LR: 5.4762e-07 | Elapse: 47.18s\n",
                        "Epoch 10 [650/1018] | Train Loss: 0.4719 Grad: 180645.3438 LR: 4.3308e-07 | Elapse: 51.09s\n",
                        "Epoch 10 [700/1018] | Train Loss: 0.4709 Grad: 152158.0000 LR: 3.3311e-07 | Elapse: 54.99s\n",
                        "Epoch 10 [750/1018] | Train Loss: 0.4707 Grad: 170214.5000 LR: 2.4775e-07 | Elapse: 58.89s\n",
                        "Epoch 10 [800/1018] | Train Loss: 0.4710 Grad: 117955.7344 LR: 1.7702e-07 | Elapse: 62.79s\n",
                        "Epoch 10 [850/1018] | Train Loss: 0.4744 Grad: 237269.9375 LR: 1.2094e-07 | Elapse: 66.69s\n",
                        "Epoch 10 [900/1018] | Train Loss: 0.4739 Grad: 189364.9219 LR: 7.9532e-08 | Elapse: 70.59s\n",
                        "Epoch 10 [950/1018] | Train Loss: 0.4736 Grad: 318135.7812 LR: 5.2798e-08 | Elapse: 74.52s\n",
                        "Epoch 10 [1000/1018] | Train Loss: 0.4737 Grad: 237682.4531 LR: 4.0752e-08 | Elapse: 78.43s\n",
                        "Epoch 10 [1017/1018] | Train Loss: 0.4733 Grad: 124625.5625 LR: 4.0003e-08 | Elapse: 79.75s\n"
                    ]
                },
                {
                    "data": {
                        "application/vnd.jupyter.widget-view+json": {
                            "model_id": "545f001ec88a49d0aea8622fc9d7a07b",
                            "version_major": 2,
                            "version_minor": 0
                        },
                        "text/plain": [
                            "Valid [9]:   0%|          | 0/243 [00:00<?, ?batch/s]"
                        ]
                    },
                    "metadata": {},
                    "output_type": "display_data"
                },
                {
                    "name": "stdout",
                    "output_type": "stream",
                    "text": [
                        "Epoch 10 [0/243] | Valid Loss: 0.7819 | Elapse: 0.05s\n",
                        "Epoch 10 [50/243] | Valid Loss: 0.5495 | Elapse: 2.52s\n",
                        "Epoch 10 [100/243] | Valid Loss: 0.5734 | Elapse: 5.09s\n",
                        "Epoch 10 [150/243] | Valid Loss: 0.5729 | Elapse: 7.67s\n",
                        "Epoch 10 [200/243] | Valid Loss: 0.5813 | Elapse: 10.31s\n"
                    ]
                },
                {
                    "name": "stderr",
                    "output_type": "stream",
                    "text": [
                        "----------------------------------------------------------------------------------------------------\n",
                        "Epoch 10 - Average Loss: (train) 0.4733; (valid) 0.5757 | Time: 92.29s\n",
                        "Best model found in epoch 10 | valid loss: 0.5757\n"
                    ]
                },
                {
                    "name": "stdout",
                    "output_type": "stream",
                    "text": [
                        "Epoch 10 [242/243] | Valid Loss: 0.5757 | Elapse: 12.54s\n"
                    ]
                },
                {
                    "name": "stderr",
                    "output_type": "stream",
                    "text": [
                        "====================================================================================================\n",
                        "Fold 1 Valid Loss: 0.5756641030311584\n",
                        "Elapse: 15.46 min \n",
                        "====================================================================================================\n",
                        "- Second Stage -\n",
                        "Use Checkpoint: MAE_Raw_Backbone_fold_1_stage_1.pth\n"
                    ]
                },
                {
                    "name": "stdout",
                    "output_type": "stream",
                    "text": [
                        "Loading pretrained weights from facebook/vit-mae-base\n"
                    ]
                },
                {
                    "data": {
                        "application/vnd.jupyter.widget-view+json": {
                            "model_id": "651888206b4e436eae0d95712a4f2b7a",
                            "version_major": 2,
                            "version_minor": 0
                        },
                        "text/plain": [
                            "Train [0]:   0%|          | 0/386 [00:00<?, ?batch/s]"
                        ]
                    },
                    "metadata": {},
                    "output_type": "display_data"
                },
                {
                    "name": "stdout",
                    "output_type": "stream",
                    "text": [
                        "Epoch 1 [0/386] | Train Loss: 0.4709 Grad: 247091.6719 LR: 4.0016e-06 | Elapse: 0.09s\n",
                        "Epoch 1 [50/386] | Train Loss: 0.4190 Grad: 152269.4531 LR: 8.0969e-06 | Elapse: 3.99s\n",
                        "Epoch 1 [100/386] | Train Loss: 0.4044 Grad: 72171.1250 LR: 1.9400e-05 | Elapse: 7.94s\n",
                        "Epoch 1 [150/386] | Train Loss: 0.3871 Grad: 106391.5078 LR: 3.6054e-05 | Elapse: 11.84s\n",
                        "Epoch 1 [200/386] | Train Loss: 0.3846 Grad: 126969.8750 LR: 5.5327e-05 | Elapse: 15.77s\n",
                        "Epoch 1 [250/386] | Train Loss: 0.3871 Grad: 131064.3594 LR: 7.4053e-05 | Elapse: 19.68s\n",
                        "Epoch 1 [300/386] | Train Loss: 0.3890 Grad: 112243.3984 LR: 8.9159e-05 | Elapse: 23.63s\n",
                        "Epoch 1 [350/386] | Train Loss: 0.3925 Grad: 118394.1328 LR: 9.8164e-05 | Elapse: 27.55s\n",
                        "Epoch 1 [385/386] | Train Loss: 0.3916 Grad: 156637.3594 LR: 1.0000e-04 | Elapse: 30.27s\n"
                    ]
                },
                {
                    "data": {
                        "application/vnd.jupyter.widget-view+json": {
                            "model_id": "aa070a7bbba44de88abfb6dceda7f988",
                            "version_major": 2,
                            "version_minor": 0
                        },
                        "text/plain": [
                            "Valid [0]:   0%|          | 0/243 [00:00<?, ?batch/s]"
                        ]
                    },
                    "metadata": {},
                    "output_type": "display_data"
                },
                {
                    "name": "stdout",
                    "output_type": "stream",
                    "text": [
                        "Epoch 1 [0/243] | Valid Loss: 0.9761 | Elapse: 0.06s\n",
                        "Epoch 1 [50/243] | Valid Loss: 0.6572 | Elapse: 2.57s\n",
                        "Epoch 1 [100/243] | Valid Loss: 0.6898 | Elapse: 5.16s\n",
                        "Epoch 1 [150/243] | Valid Loss: 0.6895 | Elapse: 7.81s\n",
                        "Epoch 1 [200/243] | Valid Loss: 0.6970 | Elapse: 10.46s\n"
                    ]
                },
                {
                    "name": "stderr",
                    "output_type": "stream",
                    "text": [
                        "----------------------------------------------------------------------------------------------------\n",
                        "Epoch 1 - Average Loss: (train) 0.3916; (valid) 0.6936 | Time: 42.95s\n",
                        "Best model found in epoch 1 | valid loss: 0.6936\n"
                    ]
                },
                {
                    "name": "stdout",
                    "output_type": "stream",
                    "text": [
                        "Epoch 1 [242/243] | Valid Loss: 0.6936 | Elapse: 12.68s\n"
                    ]
                },
                {
                    "data": {
                        "application/vnd.jupyter.widget-view+json": {
                            "model_id": "ea8b1a37ec054552addf2600e32efe1f",
                            "version_major": 2,
                            "version_minor": 0
                        },
                        "text/plain": [
                            "Train [1]:   0%|          | 0/386 [00:00<?, ?batch/s]"
                        ]
                    },
                    "metadata": {},
                    "output_type": "display_data"
                },
                {
                    "name": "stdout",
                    "output_type": "stream",
                    "text": [
                        "Epoch 2 [0/386] | Train Loss: 0.4102 Grad: 117583.2422 LR: 1.0000e-04 | Elapse: 0.09s\n",
                        "Epoch 2 [50/386] | Train Loss: 0.4054 Grad: 94574.0625 LR: 9.9945e-05 | Elapse: 4.01s\n",
                        "Epoch 2 [100/386] | Train Loss: 0.4022 Grad: 89733.9141 LR: 9.9788e-05 | Elapse: 7.92s\n",
                        "Epoch 2 [150/386] | Train Loss: 0.3945 Grad: 102417.6016 LR: 9.9529e-05 | Elapse: 11.80s\n",
                        "Epoch 2 [200/386] | Train Loss: 0.3907 Grad: 116488.7812 LR: 9.9168e-05 | Elapse: 15.68s\n",
                        "Epoch 2 [250/386] | Train Loss: 0.3971 Grad: 98366.9297 LR: 9.8708e-05 | Elapse: 19.57s\n",
                        "Epoch 2 [300/386] | Train Loss: 0.3963 Grad: 133069.0781 LR: 9.8148e-05 | Elapse: 23.45s\n",
                        "Epoch 2 [350/386] | Train Loss: 0.3943 Grad: 100687.1562 LR: 9.7489e-05 | Elapse: 27.41s\n",
                        "Epoch 2 [385/386] | Train Loss: 0.3918 Grad: 112814.8984 LR: 9.6970e-05 | Elapse: 30.16s\n"
                    ]
                },
                {
                    "data": {
                        "application/vnd.jupyter.widget-view+json": {
                            "model_id": "bf15231bd26f475690ed563cb9e0cfea",
                            "version_major": 2,
                            "version_minor": 0
                        },
                        "text/plain": [
                            "Valid [1]:   0%|          | 0/243 [00:00<?, ?batch/s]"
                        ]
                    },
                    "metadata": {},
                    "output_type": "display_data"
                },
                {
                    "name": "stdout",
                    "output_type": "stream",
                    "text": [
                        "Epoch 2 [0/243] | Valid Loss: 1.0485 | Elapse: 0.05s\n",
                        "Epoch 2 [50/243] | Valid Loss: 0.6657 | Elapse: 2.50s\n",
                        "Epoch 2 [100/243] | Valid Loss: 0.7014 | Elapse: 5.06s\n",
                        "Epoch 2 [150/243] | Valid Loss: 0.7033 | Elapse: 7.68s\n",
                        "Epoch 2 [200/243] | Valid Loss: 0.7208 | Elapse: 10.33s\n"
                    ]
                },
                {
                    "name": "stderr",
                    "output_type": "stream",
                    "text": [
                        "----------------------------------------------------------------------------------------------------\n",
                        "Epoch 2 - Average Loss: (train) 0.3918; (valid) 0.7183 | Time: 42.70s\n"
                    ]
                },
                {
                    "name": "stdout",
                    "output_type": "stream",
                    "text": [
                        "Epoch 2 [242/243] | Valid Loss: 0.7183 | Elapse: 12.54s\n"
                    ]
                },
                {
                    "data": {
                        "application/vnd.jupyter.widget-view+json": {
                            "model_id": "f35050f7fadf4656957da6e863a8cf99",
                            "version_major": 2,
                            "version_minor": 0
                        },
                        "text/plain": [
                            "Train [2]:   0%|          | 0/386 [00:00<?, ?batch/s]"
                        ]
                    },
                    "metadata": {},
                    "output_type": "display_data"
                },
                {
                    "name": "stdout",
                    "output_type": "stream",
                    "text": [
                        "Epoch 3 [0/386] | Train Loss: 0.3560 Grad: 110543.7656 LR: 9.6955e-05 | Elapse: 0.09s\n",
                        "Epoch 3 [50/386] | Train Loss: 0.3861 Grad: 60032.4531 LR: 9.6130e-05 | Elapse: 4.01s\n",
                        "Epoch 3 [100/386] | Train Loss: 0.3905 Grad: 85850.4688 LR: 9.5212e-05 | Elapse: 7.92s\n",
                        "Epoch 3 [150/386] | Train Loss: 0.3805 Grad: 86460.6484 LR: 9.4201e-05 | Elapse: 11.81s\n",
                        "Epoch 3 [200/386] | Train Loss: 0.3791 Grad: 146634.7031 LR: 9.3099e-05 | Elapse: 15.70s\n",
                        "Epoch 3 [250/386] | Train Loss: 0.3836 Grad: 120502.6797 LR: 9.1910e-05 | Elapse: 19.60s\n",
                        "Epoch 3 [300/386] | Train Loss: 0.3828 Grad: 96487.8516 LR: 9.0635e-05 | Elapse: 23.52s\n",
                        "Epoch 3 [350/386] | Train Loss: 0.3802 Grad: 90071.3125 LR: 8.9276e-05 | Elapse: 27.45s\n",
                        "Epoch 3 [385/386] | Train Loss: 0.3778 Grad: 111992.5000 LR: 8.8278e-05 | Elapse: 30.20s\n"
                    ]
                },
                {
                    "data": {
                        "application/vnd.jupyter.widget-view+json": {
                            "model_id": "a3a187e0700e4a90bb1b0178489a4737",
                            "version_major": 2,
                            "version_minor": 0
                        },
                        "text/plain": [
                            "Valid [2]:   0%|          | 0/243 [00:00<?, ?batch/s]"
                        ]
                    },
                    "metadata": {},
                    "output_type": "display_data"
                },
                {
                    "name": "stdout",
                    "output_type": "stream",
                    "text": [
                        "Epoch 3 [0/243] | Valid Loss: 1.0042 | Elapse: 0.05s\n",
                        "Epoch 3 [50/243] | Valid Loss: 0.6915 | Elapse: 2.51s\n",
                        "Epoch 3 [100/243] | Valid Loss: 0.7332 | Elapse: 5.10s\n",
                        "Epoch 3 [150/243] | Valid Loss: 0.7258 | Elapse: 7.75s\n",
                        "Epoch 3 [200/243] | Valid Loss: 0.7438 | Elapse: 10.43s\n"
                    ]
                },
                {
                    "name": "stderr",
                    "output_type": "stream",
                    "text": [
                        "----------------------------------------------------------------------------------------------------\n",
                        "Epoch 3 - Average Loss: (train) 0.3778; (valid) 0.7439 | Time: 42.86s\n"
                    ]
                },
                {
                    "name": "stdout",
                    "output_type": "stream",
                    "text": [
                        "Epoch 3 [242/243] | Valid Loss: 0.7439 | Elapse: 12.66s\n"
                    ]
                },
                {
                    "data": {
                        "application/vnd.jupyter.widget-view+json": {
                            "model_id": "ea6fe6cc09544430abc2e8d3392ad8c5",
                            "version_major": 2,
                            "version_minor": 0
                        },
                        "text/plain": [
                            "Train [3]:   0%|          | 0/386 [00:00<?, ?batch/s]"
                        ]
                    },
                    "metadata": {},
                    "output_type": "display_data"
                },
                {
                    "name": "stdout",
                    "output_type": "stream",
                    "text": [
                        "Epoch 4 [0/386] | Train Loss: 0.3791 Grad: 120154.2422 LR: 8.8249e-05 | Elapse: 0.09s\n",
                        "Epoch 4 [50/386] | Train Loss: 0.3723 Grad: 83761.1562 LR: 8.6754e-05 | Elapse: 4.01s\n",
                        "Epoch 4 [100/386] | Train Loss: 0.3626 Grad: 65640.9922 LR: 8.5185e-05 | Elapse: 7.94s\n",
                        "Epoch 4 [150/386] | Train Loss: 0.3533 Grad: 102247.5703 LR: 8.3544e-05 | Elapse: 11.83s\n",
                        "Epoch 4 [200/386] | Train Loss: 0.3508 Grad: 106881.6250 LR: 8.1834e-05 | Elapse: 15.73s\n",
                        "Epoch 4 [250/386] | Train Loss: 0.3532 Grad: 124254.8672 LR: 8.0059e-05 | Elapse: 19.62s\n",
                        "Epoch 4 [300/386] | Train Loss: 0.3543 Grad: 80306.8672 LR: 7.8223e-05 | Elapse: 23.53s\n",
                        "Epoch 4 [350/386] | Train Loss: 0.3538 Grad: 122522.7031 LR: 7.6329e-05 | Elapse: 27.45s\n",
                        "Epoch 4 [385/386] | Train Loss: 0.3514 Grad: 117509.6641 LR: 7.4971e-05 | Elapse: 30.20s\n"
                    ]
                },
                {
                    "data": {
                        "application/vnd.jupyter.widget-view+json": {
                            "model_id": "bb48983646774372993c1cc93cff6af8",
                            "version_major": 2,
                            "version_minor": 0
                        },
                        "text/plain": [
                            "Valid [3]:   0%|          | 0/243 [00:00<?, ?batch/s]"
                        ]
                    },
                    "metadata": {},
                    "output_type": "display_data"
                },
                {
                    "name": "stdout",
                    "output_type": "stream",
                    "text": [
                        "Epoch 4 [0/243] | Valid Loss: 0.8382 | Elapse: 0.05s\n",
                        "Epoch 4 [50/243] | Valid Loss: 0.6683 | Elapse: 2.51s\n",
                        "Epoch 4 [100/243] | Valid Loss: 0.7008 | Elapse: 5.09s\n",
                        "Epoch 4 [150/243] | Valid Loss: 0.6931 | Elapse: 7.73s\n",
                        "Epoch 4 [200/243] | Valid Loss: 0.7118 | Elapse: 10.39s\n"
                    ]
                },
                {
                    "name": "stderr",
                    "output_type": "stream",
                    "text": [
                        "----------------------------------------------------------------------------------------------------\n",
                        "Epoch 4 - Average Loss: (train) 0.3514; (valid) 0.7080 | Time: 42.83s\n"
                    ]
                },
                {
                    "name": "stdout",
                    "output_type": "stream",
                    "text": [
                        "Epoch 4 [242/243] | Valid Loss: 0.7080 | Elapse: 12.62s\n"
                    ]
                },
                {
                    "data": {
                        "application/vnd.jupyter.widget-view+json": {
                            "model_id": "1a365181f4854ef6b2d2a7a5ce631f4f",
                            "version_major": 2,
                            "version_minor": 0
                        },
                        "text/plain": [
                            "Train [4]:   0%|          | 0/386 [00:00<?, ?batch/s]"
                        ]
                    },
                    "metadata": {},
                    "output_type": "display_data"
                },
                {
                    "name": "stdout",
                    "output_type": "stream",
                    "text": [
                        "Epoch 5 [0/386] | Train Loss: 0.4066 Grad: 143364.0781 LR: 7.4932e-05 | Elapse: 0.09s\n",
                        "Epoch 5 [50/386] | Train Loss: 0.3495 Grad: 98782.6094 LR: 7.2948e-05 | Elapse: 4.02s\n",
                        "Epoch 5 [100/386] | Train Loss: 0.3402 Grad: 74363.2891 LR: 7.0917e-05 | Elapse: 7.99s\n",
                        "Epoch 5 [150/386] | Train Loss: 0.3303 Grad: 94750.7266 LR: 6.8843e-05 | Elapse: 11.91s\n",
                        "Epoch 5 [200/386] | Train Loss: 0.3289 Grad: 130169.1016 LR: 6.6731e-05 | Elapse: 15.83s\n",
                        "Epoch 5 [250/386] | Train Loss: 0.3320 Grad: 112706.2344 LR: 6.4585e-05 | Elapse: 19.74s\n",
                        "Epoch 5 [300/386] | Train Loss: 0.3329 Grad: 61049.5273 LR: 6.2409e-05 | Elapse: 23.65s\n",
                        "Epoch 5 [350/386] | Train Loss: 0.3314 Grad: 123358.4922 LR: 6.0208e-05 | Elapse: 27.55s\n",
                        "Epoch 5 [385/386] | Train Loss: 0.3306 Grad: 133679.9688 LR: 5.8654e-05 | Elapse: 30.30s\n"
                    ]
                },
                {
                    "data": {
                        "application/vnd.jupyter.widget-view+json": {
                            "model_id": "0ec6e0bfd3ef42358ba166334926ffc6",
                            "version_major": 2,
                            "version_minor": 0
                        },
                        "text/plain": [
                            "Valid [4]:   0%|          | 0/243 [00:00<?, ?batch/s]"
                        ]
                    },
                    "metadata": {},
                    "output_type": "display_data"
                },
                {
                    "name": "stdout",
                    "output_type": "stream",
                    "text": [
                        "Epoch 5 [0/243] | Valid Loss: 0.9332 | Elapse: 0.05s\n",
                        "Epoch 5 [50/243] | Valid Loss: 0.6377 | Elapse: 2.51s\n",
                        "Epoch 5 [100/243] | Valid Loss: 0.6662 | Elapse: 5.09s\n",
                        "Epoch 5 [150/243] | Valid Loss: 0.6642 | Elapse: 7.74s\n",
                        "Epoch 5 [200/243] | Valid Loss: 0.6854 | Elapse: 10.38s\n"
                    ]
                },
                {
                    "name": "stderr",
                    "output_type": "stream",
                    "text": [
                        "----------------------------------------------------------------------------------------------------\n",
                        "Epoch 5 - Average Loss: (train) 0.3306; (valid) 0.6871 | Time: 42.90s\n",
                        "Best model found in epoch 5 | valid loss: 0.6871\n"
                    ]
                },
                {
                    "name": "stdout",
                    "output_type": "stream",
                    "text": [
                        "Epoch 5 [242/243] | Valid Loss: 0.6871 | Elapse: 12.60s\n"
                    ]
                },
                {
                    "data": {
                        "application/vnd.jupyter.widget-view+json": {
                            "model_id": "d2a574947ede43faa0f5a0f33ceab9bc",
                            "version_major": 2,
                            "version_minor": 0
                        },
                        "text/plain": [
                            "Train [5]:   0%|          | 0/386 [00:00<?, ?batch/s]"
                        ]
                    },
                    "metadata": {},
                    "output_type": "display_data"
                },
                {
                    "name": "stdout",
                    "output_type": "stream",
                    "text": [
                        "Epoch 6 [0/386] | Train Loss: 0.3248 Grad: 117605.9766 LR: 5.8610e-05 | Elapse: 0.09s\n",
                        "Epoch 6 [50/386] | Train Loss: 0.3239 Grad: 99586.2969 LR: 5.6376e-05 | Elapse: 4.03s\n",
                        "Epoch 6 [100/386] | Train Loss: 0.3186 Grad: 73078.5938 LR: 5.4128e-05 | Elapse: 7.92s\n",
                        "Epoch 6 [150/386] | Train Loss: 0.3107 Grad: 104960.2812 LR: 5.1873e-05 | Elapse: 11.81s\n",
                        "Epoch 6 [200/386] | Train Loss: 0.3118 Grad: 116480.6719 LR: 4.9613e-05 | Elapse: 15.70s\n",
                        "Epoch 6 [250/386] | Train Loss: 0.3121 Grad: 97170.5391 LR: 4.7355e-05 | Elapse: 19.59s\n",
                        "Epoch 6 [300/386] | Train Loss: 0.3111 Grad: 112050.0547 LR: 4.5101e-05 | Elapse: 23.51s\n",
                        "Epoch 6 [350/386] | Train Loss: 0.3082 Grad: 115740.7734 LR: 4.2858e-05 | Elapse: 27.40s\n",
                        "Epoch 6 [385/386] | Train Loss: 0.3064 Grad: 106779.7891 LR: 4.1297e-05 | Elapse: 30.13s\n"
                    ]
                },
                {
                    "data": {
                        "application/vnd.jupyter.widget-view+json": {
                            "model_id": "63c03efb4c9a48f19fa6beb6250db426",
                            "version_major": 2,
                            "version_minor": 0
                        },
                        "text/plain": [
                            "Valid [5]:   0%|          | 0/243 [00:00<?, ?batch/s]"
                        ]
                    },
                    "metadata": {},
                    "output_type": "display_data"
                },
                {
                    "name": "stdout",
                    "output_type": "stream",
                    "text": [
                        "Epoch 6 [0/243] | Valid Loss: 0.9514 | Elapse: 0.05s\n",
                        "Epoch 6 [50/243] | Valid Loss: 0.6398 | Elapse: 2.50s\n",
                        "Epoch 6 [100/243] | Valid Loss: 0.6712 | Elapse: 5.09s\n",
                        "Epoch 6 [150/243] | Valid Loss: 0.6573 | Elapse: 7.72s\n",
                        "Epoch 6 [200/243] | Valid Loss: 0.6721 | Elapse: 10.38s\n"
                    ]
                },
                {
                    "name": "stderr",
                    "output_type": "stream",
                    "text": [
                        "----------------------------------------------------------------------------------------------------\n",
                        "Epoch 6 - Average Loss: (train) 0.3064; (valid) 0.6736 | Time: 42.73s\n",
                        "Best model found in epoch 6 | valid loss: 0.6736\n"
                    ]
                },
                {
                    "name": "stdout",
                    "output_type": "stream",
                    "text": [
                        "Epoch 6 [242/243] | Valid Loss: 0.6736 | Elapse: 12.60s\n"
                    ]
                },
                {
                    "data": {
                        "application/vnd.jupyter.widget-view+json": {
                            "model_id": "e967435afce946369f6ab5eb760ff6d4",
                            "version_major": 2,
                            "version_minor": 0
                        },
                        "text/plain": [
                            "Train [6]:   0%|          | 0/386 [00:00<?, ?batch/s]"
                        ]
                    },
                    "metadata": {},
                    "output_type": "display_data"
                },
                {
                    "name": "stdout",
                    "output_type": "stream",
                    "text": [
                        "Epoch 7 [0/386] | Train Loss: 0.4274 Grad: 220360.2969 LR: 4.1252e-05 | Elapse: 0.09s\n",
                        "Epoch 7 [50/386] | Train Loss: 0.2971 Grad: 107961.6562 LR: 3.9037e-05 | Elapse: 4.02s\n",
                        "Epoch 7 [100/386] | Train Loss: 0.2963 Grad: 85625.5781 LR: 3.6844e-05 | Elapse: 7.95s\n",
                        "Epoch 7 [150/386] | Train Loss: 0.2898 Grad: 107199.9453 LR: 3.4679e-05 | Elapse: 11.88s\n",
                        "Epoch 7 [200/386] | Train Loss: 0.2882 Grad: 119593.2969 LR: 3.2544e-05 | Elapse: 15.81s\n",
                        "Epoch 7 [250/386] | Train Loss: 0.2905 Grad: 164720.9375 LR: 3.0446e-05 | Elapse: 19.74s\n",
                        "Epoch 7 [300/386] | Train Loss: 0.2913 Grad: 111530.4531 LR: 2.8387e-05 | Elapse: 23.67s\n",
                        "Epoch 7 [350/386] | Train Loss: 0.2899 Grad: 91138.3047 LR: 2.6372e-05 | Elapse: 27.59s\n",
                        "Epoch 7 [385/386] | Train Loss: 0.2884 Grad: 121744.7188 LR: 2.4991e-05 | Elapse: 30.32s\n"
                    ]
                },
                {
                    "data": {
                        "application/vnd.jupyter.widget-view+json": {
                            "model_id": "2e5cfbbfb2db410f81ba87ff3dd8e2c9",
                            "version_major": 2,
                            "version_minor": 0
                        },
                        "text/plain": [
                            "Valid [6]:   0%|          | 0/243 [00:00<?, ?batch/s]"
                        ]
                    },
                    "metadata": {},
                    "output_type": "display_data"
                },
                {
                    "name": "stdout",
                    "output_type": "stream",
                    "text": [
                        "Epoch 7 [0/243] | Valid Loss: 0.7536 | Elapse: 0.05s\n",
                        "Epoch 7 [50/243] | Valid Loss: 0.6155 | Elapse: 2.51s\n",
                        "Epoch 7 [100/243] | Valid Loss: 0.6493 | Elapse: 5.10s\n",
                        "Epoch 7 [150/243] | Valid Loss: 0.6447 | Elapse: 7.73s\n",
                        "Epoch 7 [200/243] | Valid Loss: 0.6639 | Elapse: 10.39s\n"
                    ]
                },
                {
                    "name": "stderr",
                    "output_type": "stream",
                    "text": [
                        "----------------------------------------------------------------------------------------------------\n",
                        "Epoch 7 - Average Loss: (train) 0.2884; (valid) 0.6660 | Time: 42.93s\n",
                        "Best model found in epoch 7 | valid loss: 0.6660\n"
                    ]
                },
                {
                    "name": "stdout",
                    "output_type": "stream",
                    "text": [
                        "Epoch 7 [242/243] | Valid Loss: 0.6660 | Elapse: 12.61s\n"
                    ]
                },
                {
                    "data": {
                        "application/vnd.jupyter.widget-view+json": {
                            "model_id": "a7cb772cd991422f83033877d829edd4",
                            "version_major": 2,
                            "version_minor": 0
                        },
                        "text/plain": [
                            "Train [7]:   0%|          | 0/386 [00:00<?, ?batch/s]"
                        ]
                    },
                    "metadata": {},
                    "output_type": "display_data"
                },
                {
                    "name": "stdout",
                    "output_type": "stream",
                    "text": [
                        "Epoch 8 [0/386] | Train Loss: 0.2519 Grad: 107320.2734 LR: 2.4952e-05 | Elapse: 0.09s\n",
                        "Epoch 8 [50/386] | Train Loss: 0.2796 Grad: 106565.2422 LR: 2.3023e-05 | Elapse: 4.00s\n",
                        "Epoch 8 [100/386] | Train Loss: 0.2813 Grad: 132189.3906 LR: 2.1149e-05 | Elapse: 7.90s\n",
                        "Epoch 8 [150/386] | Train Loss: 0.2723 Grad: 113163.1641 LR: 1.9335e-05 | Elapse: 11.80s\n",
                        "Epoch 8 [200/386] | Train Loss: 0.2713 Grad: 106844.2500 LR: 1.7583e-05 | Elapse: 15.80s\n",
                        "Epoch 8 [250/386] | Train Loss: 0.2724 Grad: 128686.3828 LR: 1.5897e-05 | Elapse: 19.69s\n",
                        "Epoch 8 [300/386] | Train Loss: 0.2728 Grad: 93514.8594 LR: 1.4282e-05 | Elapse: 23.59s\n",
                        "Epoch 8 [350/386] | Train Loss: 0.2720 Grad: 120448.8516 LR: 1.2739e-05 | Elapse: 27.52s\n",
                        "Epoch 8 [385/386] | Train Loss: 0.2695 Grad: 109789.4844 LR: 1.1704e-05 | Elapse: 30.24s\n"
                    ]
                },
                {
                    "data": {
                        "application/vnd.jupyter.widget-view+json": {
                            "model_id": "27053a67788c4ec3a8d7ac6904fe3af1",
                            "version_major": 2,
                            "version_minor": 0
                        },
                        "text/plain": [
                            "Valid [7]:   0%|          | 0/243 [00:00<?, ?batch/s]"
                        ]
                    },
                    "metadata": {},
                    "output_type": "display_data"
                },
                {
                    "name": "stdout",
                    "output_type": "stream",
                    "text": [
                        "Epoch 8 [0/243] | Valid Loss: 1.0119 | Elapse: 0.06s\n",
                        "Epoch 8 [50/243] | Valid Loss: 0.5817 | Elapse: 2.54s\n",
                        "Epoch 8 [100/243] | Valid Loss: 0.6056 | Elapse: 5.14s\n",
                        "Epoch 8 [150/243] | Valid Loss: 0.6018 | Elapse: 7.79s\n",
                        "Epoch 8 [200/243] | Valid Loss: 0.6185 | Elapse: 10.46s\n"
                    ]
                },
                {
                    "name": "stderr",
                    "output_type": "stream",
                    "text": [
                        "----------------------------------------------------------------------------------------------------\n",
                        "Epoch 8 - Average Loss: (train) 0.2695; (valid) 0.6197 | Time: 42.93s\n",
                        "Best model found in epoch 8 | valid loss: 0.6197\n"
                    ]
                },
                {
                    "name": "stdout",
                    "output_type": "stream",
                    "text": [
                        "Epoch 8 [242/243] | Valid Loss: 0.6197 | Elapse: 12.68s\n"
                    ]
                },
                {
                    "data": {
                        "application/vnd.jupyter.widget-view+json": {
                            "model_id": "6e182d0041d640639037ccf3857b0fe7",
                            "version_major": 2,
                            "version_minor": 0
                        },
                        "text/plain": [
                            "Train [8]:   0%|          | 0/386 [00:00<?, ?batch/s]"
                        ]
                    },
                    "metadata": {},
                    "output_type": "display_data"
                },
                {
                    "name": "stdout",
                    "output_type": "stream",
                    "text": [
                        "Epoch 9 [0/386] | Train Loss: 0.2466 Grad: 136091.6562 LR: 1.1675e-05 | Elapse: 0.09s\n",
                        "Epoch 9 [50/386] | Train Loss: 0.2584 Grad: 81391.1094 LR: 1.0265e-05 | Elapse: 4.11s\n",
                        "Epoch 9 [100/386] | Train Loss: 0.2591 Grad: 112963.0625 LR: 8.9367e-06 | Elapse: 8.14s\n",
                        "Epoch 9 [150/386] | Train Loss: 0.2541 Grad: 131901.0469 LR: 7.6921e-06 | Elapse: 12.03s\n",
                        "Epoch 9 [200/386] | Train Loss: 0.2518 Grad: 107904.5000 LR: 6.5341e-06 | Elapse: 15.93s\n",
                        "Epoch 9 [250/386] | Train Loss: 0.2541 Grad: 132106.4219 LR: 5.4649e-06 | Elapse: 19.90s\n",
                        "Epoch 9 [300/386] | Train Loss: 0.2566 Grad: 94237.7891 LR: 4.4869e-06 | Elapse: 23.79s\n",
                        "Epoch 9 [350/386] | Train Loss: 0.2561 Grad: 86519.0938 LR: 3.6019e-06 | Elapse: 27.72s\n",
                        "Epoch 9 [385/386] | Train Loss: 0.2553 Grad: 123795.9531 LR: 3.0387e-06 | Elapse: 30.45s\n"
                    ]
                },
                {
                    "data": {
                        "application/vnd.jupyter.widget-view+json": {
                            "model_id": "fdcef69d66184a599c43007a4621d03c",
                            "version_major": 2,
                            "version_minor": 0
                        },
                        "text/plain": [
                            "Valid [8]:   0%|          | 0/243 [00:00<?, ?batch/s]"
                        ]
                    },
                    "metadata": {},
                    "output_type": "display_data"
                },
                {
                    "name": "stdout",
                    "output_type": "stream",
                    "text": [
                        "Epoch 9 [0/243] | Valid Loss: 0.8514 | Elapse: 0.05s\n",
                        "Epoch 9 [50/243] | Valid Loss: 0.5661 | Elapse: 2.52s\n",
                        "Epoch 9 [100/243] | Valid Loss: 0.5957 | Elapse: 5.09s\n",
                        "Epoch 9 [150/243] | Valid Loss: 0.5907 | Elapse: 7.71s\n",
                        "Epoch 9 [200/243] | Valid Loss: 0.6125 | Elapse: 10.35s\n"
                    ]
                },
                {
                    "name": "stderr",
                    "output_type": "stream",
                    "text": [
                        "----------------------------------------------------------------------------------------------------\n",
                        "Epoch 9 - Average Loss: (train) 0.2553; (valid) 0.6097 | Time: 43.02s\n",
                        "Best model found in epoch 9 | valid loss: 0.6097\n"
                    ]
                },
                {
                    "name": "stdout",
                    "output_type": "stream",
                    "text": [
                        "Epoch 9 [242/243] | Valid Loss: 0.6097 | Elapse: 12.57s\n"
                    ]
                },
                {
                    "data": {
                        "application/vnd.jupyter.widget-view+json": {
                            "model_id": "1ea2757dda534772b4875cf0eb816ab3",
                            "version_major": 2,
                            "version_minor": 0
                        },
                        "text/plain": [
                            "Train [9]:   0%|          | 0/386 [00:00<?, ?batch/s]"
                        ]
                    },
                    "metadata": {},
                    "output_type": "display_data"
                },
                {
                    "name": "stdout",
                    "output_type": "stream",
                    "text": [
                        "Epoch 10 [0/386] | Train Loss: 0.3058 Grad: 134027.9062 LR: 3.0233e-06 | Elapse: 0.10s\n",
                        "Epoch 10 [50/386] | Train Loss: 0.2540 Grad: 102464.6719 LR: 2.3025e-06 | Elapse: 4.02s\n",
                        "Epoch 10 [100/386] | Train Loss: 0.2577 Grad: 91564.4062 LR: 1.6793e-06 | Elapse: 7.91s\n",
                        "Epoch 10 [150/386] | Train Loss: 0.2510 Grad: 112413.7422 LR: 1.1549e-06 | Elapse: 11.79s\n",
                        "Epoch 10 [200/386] | Train Loss: 0.2522 Grad: 101575.1328 LR: 7.3030e-07 | Elapse: 15.69s\n",
                        "Epoch 10 [250/386] | Train Loss: 0.2531 Grad: 119618.4141 LR: 4.0651e-07 | Elapse: 19.57s\n",
                        "Epoch 10 [300/386] | Train Loss: 0.2547 Grad: 82185.2109 LR: 1.8413e-07 | Elapse: 23.48s\n",
                        "Epoch 10 [350/386] | Train Loss: 0.2538 Grad: 104088.6016 LR: 6.3623e-08 | Elapse: 27.40s\n",
                        "Epoch 10 [385/386] | Train Loss: 0.2528 Grad: 114830.1797 LR: 4.0020e-08 | Elapse: 30.15s\n"
                    ]
                },
                {
                    "data": {
                        "application/vnd.jupyter.widget-view+json": {
                            "model_id": "25e205a82e06420e9e2f7b93dd03af1c",
                            "version_major": 2,
                            "version_minor": 0
                        },
                        "text/plain": [
                            "Valid [9]:   0%|          | 0/243 [00:00<?, ?batch/s]"
                        ]
                    },
                    "metadata": {},
                    "output_type": "display_data"
                },
                {
                    "name": "stdout",
                    "output_type": "stream",
                    "text": [
                        "Epoch 10 [0/243] | Valid Loss: 0.7941 | Elapse: 0.05s\n",
                        "Epoch 10 [50/243] | Valid Loss: 0.5853 | Elapse: 2.51s\n",
                        "Epoch 10 [100/243] | Valid Loss: 0.5972 | Elapse: 5.09s\n",
                        "Epoch 10 [150/243] | Valid Loss: 0.5876 | Elapse: 7.74s\n",
                        "Epoch 10 [200/243] | Valid Loss: 0.6045 | Elapse: 10.39s\n"
                    ]
                },
                {
                    "name": "stderr",
                    "output_type": "stream",
                    "text": [
                        "----------------------------------------------------------------------------------------------------\n",
                        "Epoch 10 - Average Loss: (train) 0.2528; (valid) 0.6045 | Time: 42.76s\n",
                        "Best model found in epoch 10 | valid loss: 0.6045\n"
                    ]
                },
                {
                    "name": "stdout",
                    "output_type": "stream",
                    "text": [
                        "Epoch 10 [242/243] | Valid Loss: 0.6045 | Elapse: 12.61s\n"
                    ]
                },
                {
                    "name": "stderr",
                    "output_type": "stream",
                    "text": [
                        "====================================================================================================\n",
                        "Fold 1 Valid Loss: 0.604499340057373\n",
                        "Elapse: 7.16 min \n",
                        "====================================================================================================\n"
                    ]
                },
                {
                    "name": "stdout",
                    "output_type": "stream",
                    "text": [
                        "Loading pretrained weights from facebook/vit-mae-base\n"
                    ]
                },
                {
                    "name": "stderr",
                    "output_type": "stream",
                    "text": [
                        "====================================================================================================\n",
                        "Fold: 2 || Valid size 4124 \n",
                        "====================================================================================================\n",
                        "- First Stage -\n"
                    ]
                },
                {
                    "data": {
                        "application/vnd.jupyter.widget-view+json": {
                            "model_id": "8b1baa2497e540dcab15c3f3bc37e0a9",
                            "version_major": 2,
                            "version_minor": 0
                        },
                        "text/plain": [
                            "Train [0]:   0%|          | 0/1003 [00:00<?, ?batch/s]"
                        ]
                    },
                    "metadata": {},
                    "output_type": "display_data"
                },
                {
                    "name": "stdout",
                    "output_type": "stream",
                    "text": [
                        "Epoch 1 [0/1003] | Train Loss: 1.5047 Grad: 129490.4219 LR: 4.0002e-06 | Elapse: 0.11s\n",
                        "Epoch 1 [50/1003] | Train Loss: 1.4357 Grad: 73938.6250 LR: 4.6123e-06 | Elapse: 4.14s\n",
                        "Epoch 1 [100/1003] | Train Loss: 1.3972 Grad: 108124.2109 LR: 6.3866e-06 | Elapse: 8.11s\n",
                        "Epoch 1 [150/1003] | Train Loss: 1.3619 Grad: 92907.7500 LR: 9.2796e-06 | Elapse: 12.08s\n",
                        "Epoch 1 [200/1003] | Train Loss: 1.3336 Grad: 95492.5078 LR: 1.3220e-05 | Elapse: 16.06s\n",
                        "Epoch 1 [250/1003] | Train Loss: 1.3244 Grad: 124871.4062 LR: 1.8112e-05 | Elapse: 20.03s\n",
                        "Epoch 1 [300/1003] | Train Loss: 1.3185 Grad: 100251.6094 LR: 2.3835e-05 | Elapse: 24.00s\n",
                        "Epoch 1 [350/1003] | Train Loss: 1.3076 Grad: 157563.0156 LR: 3.0249e-05 | Elapse: 27.97s\n",
                        "Epoch 1 [400/1003] | Train Loss: 1.2955 Grad: 238519.5781 LR: 3.7196e-05 | Elapse: 31.94s\n",
                        "Epoch 1 [450/1003] | Train Loss: 1.2789 Grad: 157389.8125 LR: 4.4506e-05 | Elapse: 35.91s\n",
                        "Epoch 1 [500/1003] | Train Loss: 1.2600 Grad: 195003.1719 LR: 5.2000e-05 | Elapse: 39.88s\n",
                        "Epoch 1 [550/1003] | Train Loss: 1.2420 Grad: 137824.0000 LR: 5.9494e-05 | Elapse: 43.84s\n",
                        "Epoch 1 [600/1003] | Train Loss: 1.2309 Grad: 118974.0469 LR: 6.6804e-05 | Elapse: 47.82s\n",
                        "Epoch 1 [650/1003] | Train Loss: 1.2169 Grad: 204976.5625 LR: 7.3751e-05 | Elapse: 51.85s\n",
                        "Epoch 1 [700/1003] | Train Loss: 1.2038 Grad: 169296.6406 LR: 8.0165e-05 | Elapse: 55.90s\n",
                        "Epoch 1 [750/1003] | Train Loss: 1.1921 Grad: 193232.0625 LR: 8.5888e-05 | Elapse: 59.91s\n",
                        "Epoch 1 [800/1003] | Train Loss: 1.1813 Grad: 162649.2344 LR: 9.0780e-05 | Elapse: 63.97s\n",
                        "Epoch 1 [850/1003] | Train Loss: 1.1731 Grad: 103642.4531 LR: 9.4720e-05 | Elapse: 67.99s\n",
                        "Epoch 1 [900/1003] | Train Loss: 1.1609 Grad: 225667.0312 LR: 9.7613e-05 | Elapse: 71.97s\n",
                        "Epoch 1 [950/1003] | Train Loss: 1.1490 Grad: 213130.3750 LR: 9.9388e-05 | Elapse: 75.98s\n",
                        "Epoch 1 [1000/1003] | Train Loss: 1.1406 Grad: 224039.7500 LR: 1.0000e-04 | Elapse: 80.12s\n",
                        "Epoch 1 [1002/1003] | Train Loss: 1.1406 Grad: 159087.7812 LR: 1.0000e-04 | Elapse: 80.28s\n"
                    ]
                },
                {
                    "data": {
                        "application/vnd.jupyter.widget-view+json": {
                            "model_id": "617a18c7420a408689a349136858433d",
                            "version_major": 2,
                            "version_minor": 0
                        },
                        "text/plain": [
                            "Valid [0]:   0%|          | 0/258 [00:00<?, ?batch/s]"
                        ]
                    },
                    "metadata": {},
                    "output_type": "display_data"
                },
                {
                    "name": "stdout",
                    "output_type": "stream",
                    "text": [
                        "Epoch 1 [0/258] | Valid Loss: 0.9930 | Elapse: 0.05s\n",
                        "Epoch 1 [50/258] | Valid Loss: 0.9161 | Elapse: 2.60s\n",
                        "Epoch 1 [100/258] | Valid Loss: 0.9352 | Elapse: 5.24s\n",
                        "Epoch 1 [150/258] | Valid Loss: 0.9531 | Elapse: 7.91s\n",
                        "Epoch 1 [200/258] | Valid Loss: 0.9539 | Elapse: 10.59s\n",
                        "Epoch 1 [250/258] | Valid Loss: 0.9535 | Elapse: 13.28s\n"
                    ]
                },
                {
                    "name": "stderr",
                    "output_type": "stream",
                    "text": [
                        "----------------------------------------------------------------------------------------------------\n",
                        "Epoch 1 - Average Loss: (train) 1.1406; (valid) 0.9534 | Time: 93.93s\n",
                        "Best model found in epoch 1 | valid loss: 0.9534\n"
                    ]
                },
                {
                    "name": "stdout",
                    "output_type": "stream",
                    "text": [
                        "Epoch 1 [257/258] | Valid Loss: 0.9534 | Elapse: 13.64s\n"
                    ]
                },
                {
                    "data": {
                        "application/vnd.jupyter.widget-view+json": {
                            "model_id": "3c20482ae7e34779bad0e2a898b760a1",
                            "version_major": 2,
                            "version_minor": 0
                        },
                        "text/plain": [
                            "Train [1]:   0%|          | 0/1003 [00:00<?, ?batch/s]"
                        ]
                    },
                    "metadata": {},
                    "output_type": "display_data"
                },
                {
                    "name": "stdout",
                    "output_type": "stream",
                    "text": [
                        "Epoch 2 [0/1003] | Train Loss: 0.8438 Grad: 155923.7969 LR: 1.0000e-04 | Elapse: 0.09s\n",
                        "Epoch 2 [50/1003] | Train Loss: 0.9517 Grad: 204618.4531 LR: 9.9992e-05 | Elapse: 4.02s\n",
                        "Epoch 2 [100/1003] | Train Loss: 0.9285 Grad: 163833.3125 LR: 9.9969e-05 | Elapse: 7.95s\n",
                        "Epoch 2 [150/1003] | Train Loss: 0.9245 Grad: 192607.8281 LR: 9.9930e-05 | Elapse: 11.88s\n",
                        "Epoch 2 [200/1003] | Train Loss: 0.9205 Grad: 278431.7500 LR: 9.9877e-05 | Elapse: 15.81s\n",
                        "Epoch 2 [250/1003] | Train Loss: 0.9242 Grad: 183476.7188 LR: 9.9808e-05 | Elapse: 19.73s\n",
                        "Epoch 2 [300/1003] | Train Loss: 0.9167 Grad: 109584.3516 LR: 9.9724e-05 | Elapse: 23.65s\n",
                        "Epoch 2 [350/1003] | Train Loss: 0.9143 Grad: 99094.4297 LR: 9.9625e-05 | Elapse: 27.58s\n",
                        "Epoch 2 [400/1003] | Train Loss: 0.9073 Grad: 100973.3125 LR: 9.9512e-05 | Elapse: 31.53s\n",
                        "Epoch 2 [450/1003] | Train Loss: 0.9006 Grad: 85072.9375 LR: 9.9383e-05 | Elapse: 35.47s\n",
                        "Epoch 2 [500/1003] | Train Loss: 0.8969 Grad: 103557.4141 LR: 9.9239e-05 | Elapse: 39.40s\n",
                        "Epoch 2 [550/1003] | Train Loss: 0.8939 Grad: 62704.2031 LR: 9.9081e-05 | Elapse: 43.36s\n",
                        "Epoch 2 [600/1003] | Train Loss: 0.8886 Grad: 75726.4141 LR: 9.8907e-05 | Elapse: 47.33s\n",
                        "Epoch 2 [650/1003] | Train Loss: 0.8863 Grad: 95929.5547 LR: 9.8719e-05 | Elapse: 51.26s\n",
                        "Epoch 2 [700/1003] | Train Loss: 0.8811 Grad: 90326.8984 LR: 9.8516e-05 | Elapse: 55.26s\n",
                        "Epoch 2 [750/1003] | Train Loss: 0.8775 Grad: 130972.4531 LR: 9.8298e-05 | Elapse: 59.23s\n",
                        "Epoch 2 [800/1003] | Train Loss: 0.8750 Grad: 84337.7422 LR: 9.8066e-05 | Elapse: 63.23s\n",
                        "Epoch 2 [850/1003] | Train Loss: 0.8726 Grad: 84877.9609 LR: 9.7819e-05 | Elapse: 67.26s\n",
                        "Epoch 2 [900/1003] | Train Loss: 0.8681 Grad: 86203.2734 LR: 9.7558e-05 | Elapse: 71.27s\n",
                        "Epoch 2 [950/1003] | Train Loss: 0.8636 Grad: 112009.2812 LR: 9.7282e-05 | Elapse: 75.26s\n",
                        "Epoch 2 [1000/1003] | Train Loss: 0.8608 Grad: 141482.2031 LR: 9.6992e-05 | Elapse: 79.32s\n",
                        "Epoch 2 [1002/1003] | Train Loss: 0.8611 Grad: 84342.7891 LR: 9.6980e-05 | Elapse: 79.48s\n"
                    ]
                },
                {
                    "data": {
                        "application/vnd.jupyter.widget-view+json": {
                            "model_id": "f3579213b04945128bd4f0e25f5282d7",
                            "version_major": 2,
                            "version_minor": 0
                        },
                        "text/plain": [
                            "Valid [1]:   0%|          | 0/258 [00:00<?, ?batch/s]"
                        ]
                    },
                    "metadata": {},
                    "output_type": "display_data"
                },
                {
                    "name": "stdout",
                    "output_type": "stream",
                    "text": [
                        "Epoch 2 [0/258] | Valid Loss: 0.6556 | Elapse: 0.05s\n",
                        "Epoch 2 [50/258] | Valid Loss: 0.8679 | Elapse: 2.56s\n",
                        "Epoch 2 [100/258] | Valid Loss: 0.8730 | Elapse: 5.27s\n",
                        "Epoch 2 [150/258] | Valid Loss: 0.8848 | Elapse: 7.98s\n",
                        "Epoch 2 [200/258] | Valid Loss: 0.8912 | Elapse: 10.64s\n",
                        "Epoch 2 [250/258] | Valid Loss: 0.8970 | Elapse: 13.36s\n"
                    ]
                },
                {
                    "name": "stderr",
                    "output_type": "stream",
                    "text": [
                        "----------------------------------------------------------------------------------------------------\n",
                        "Epoch 2 - Average Loss: (train) 0.8611; (valid) 0.8955 | Time: 93.20s\n",
                        "Best model found in epoch 2 | valid loss: 0.8955\n"
                    ]
                },
                {
                    "name": "stdout",
                    "output_type": "stream",
                    "text": [
                        "Epoch 2 [257/258] | Valid Loss: 0.8955 | Elapse: 13.72s\n"
                    ]
                },
                {
                    "data": {
                        "application/vnd.jupyter.widget-view+json": {
                            "model_id": "9989bbf009184837a27a506a46f9fc87",
                            "version_major": 2,
                            "version_minor": 0
                        },
                        "text/plain": [
                            "Train [2]:   0%|          | 0/1003 [00:00<?, ?batch/s]"
                        ]
                    },
                    "metadata": {},
                    "output_type": "display_data"
                },
                {
                    "name": "stdout",
                    "output_type": "stream",
                    "text": [
                        "Epoch 3 [0/1003] | Train Loss: 0.7813 Grad: 181806.7812 LR: 9.6974e-05 | Elapse: 0.09s\n",
                        "Epoch 3 [50/1003] | Train Loss: 0.7754 Grad: 184615.9062 LR: 9.6669e-05 | Elapse: 4.12s\n",
                        "Epoch 3 [100/1003] | Train Loss: 0.7678 Grad: 179936.9375 LR: 9.6350e-05 | Elapse: 8.09s\n",
                        "Epoch 3 [150/1003] | Train Loss: 0.7691 Grad: 120990.5234 LR: 9.6016e-05 | Elapse: 12.05s\n",
                        "Epoch 3 [200/1003] | Train Loss: 0.7736 Grad: 134923.3594 LR: 9.5669e-05 | Elapse: 16.02s\n",
                        "Epoch 3 [250/1003] | Train Loss: 0.7755 Grad: 240363.2656 LR: 9.5308e-05 | Elapse: 20.08s\n",
                        "Epoch 3 [300/1003] | Train Loss: 0.7731 Grad: 177860.0156 LR: 9.4933e-05 | Elapse: 24.26s\n",
                        "Epoch 3 [350/1003] | Train Loss: 0.7755 Grad: 166737.1406 LR: 9.4545e-05 | Elapse: 28.22s\n",
                        "Epoch 3 [400/1003] | Train Loss: 0.7725 Grad: 273010.3438 LR: 9.4143e-05 | Elapse: 32.25s\n",
                        "Epoch 3 [450/1003] | Train Loss: 0.7704 Grad: 196963.5781 LR: 9.3728e-05 | Elapse: 36.18s\n",
                        "Epoch 3 [500/1003] | Train Loss: 0.7682 Grad: 228480.1094 LR: 9.3300e-05 | Elapse: 40.10s\n",
                        "Epoch 3 [550/1003] | Train Loss: 0.7676 Grad: 125934.0469 LR: 9.2858e-05 | Elapse: 44.02s\n",
                        "Epoch 3 [600/1003] | Train Loss: 0.7649 Grad: 164481.1406 LR: 9.2404e-05 | Elapse: 48.16s\n",
                        "Epoch 3 [650/1003] | Train Loss: 0.7645 Grad: 204759.0312 LR: 9.1936e-05 | Elapse: 52.09s\n",
                        "Epoch 3 [700/1003] | Train Loss: 0.7623 Grad: 214694.6719 LR: 9.1456e-05 | Elapse: 56.04s\n",
                        "Epoch 3 [750/1003] | Train Loss: 0.7605 Grad: 290553.0938 LR: 9.0964e-05 | Elapse: 59.99s\n",
                        "Epoch 3 [800/1003] | Train Loss: 0.7605 Grad: 177350.8906 LR: 9.0459e-05 | Elapse: 64.01s\n",
                        "Epoch 3 [850/1003] | Train Loss: 0.7592 Grad: 129130.8828 LR: 8.9942e-05 | Elapse: 67.97s\n",
                        "Epoch 3 [900/1003] | Train Loss: 0.7571 Grad: 154591.2812 LR: 8.9412e-05 | Elapse: 72.05s\n",
                        "Epoch 3 [950/1003] | Train Loss: 0.7551 Grad: 132541.9688 LR: 8.8871e-05 | Elapse: 76.01s\n",
                        "Epoch 3 [1000/1003] | Train Loss: 0.7537 Grad: 244611.1094 LR: 8.8318e-05 | Elapse: 79.95s\n",
                        "Epoch 3 [1002/1003] | Train Loss: 0.7538 Grad: 177159.2500 LR: 8.8296e-05 | Elapse: 80.11s\n"
                    ]
                },
                {
                    "data": {
                        "application/vnd.jupyter.widget-view+json": {
                            "model_id": "b157b3a48dad4d94a791bedf6f636c9f",
                            "version_major": 2,
                            "version_minor": 0
                        },
                        "text/plain": [
                            "Valid [2]:   0%|          | 0/258 [00:00<?, ?batch/s]"
                        ]
                    },
                    "metadata": {},
                    "output_type": "display_data"
                },
                {
                    "name": "stdout",
                    "output_type": "stream",
                    "text": [
                        "Epoch 3 [0/258] | Valid Loss: 0.8158 | Elapse: 0.05s\n",
                        "Epoch 3 [50/258] | Valid Loss: 0.8670 | Elapse: 2.56s\n",
                        "Epoch 3 [100/258] | Valid Loss: 0.8431 | Elapse: 5.20s\n",
                        "Epoch 3 [150/258] | Valid Loss: 0.8608 | Elapse: 7.87s\n",
                        "Epoch 3 [200/258] | Valid Loss: 0.8575 | Elapse: 10.54s\n",
                        "Epoch 3 [250/258] | Valid Loss: 0.8540 | Elapse: 13.22s\n"
                    ]
                },
                {
                    "name": "stderr",
                    "output_type": "stream",
                    "text": [
                        "----------------------------------------------------------------------------------------------------\n",
                        "Epoch 3 - Average Loss: (train) 0.7538; (valid) 0.8529 | Time: 93.70s\n",
                        "Best model found in epoch 3 | valid loss: 0.8529\n"
                    ]
                },
                {
                    "name": "stdout",
                    "output_type": "stream",
                    "text": [
                        "Epoch 3 [257/258] | Valid Loss: 0.8529 | Elapse: 13.58s\n"
                    ]
                },
                {
                    "data": {
                        "application/vnd.jupyter.widget-view+json": {
                            "model_id": "ed45b23f486a4defa2794b39ab5d5256",
                            "version_major": 2,
                            "version_minor": 0
                        },
                        "text/plain": [
                            "Train [3]:   0%|          | 0/1003 [00:00<?, ?batch/s]"
                        ]
                    },
                    "metadata": {},
                    "output_type": "display_data"
                },
                {
                    "name": "stdout",
                    "output_type": "stream",
                    "text": [
                        "Epoch 4 [0/1003] | Train Loss: 0.6580 Grad: 145589.5312 LR: 8.8285e-05 | Elapse: 0.09s\n",
                        "Epoch 4 [50/1003] | Train Loss: 0.7263 Grad: 210968.0312 LR: 8.7719e-05 | Elapse: 4.16s\n",
                        "Epoch 4 [100/1003] | Train Loss: 0.7024 Grad: 169631.5312 LR: 8.7143e-05 | Elapse: 8.16s\n",
                        "Epoch 4 [150/1003] | Train Loss: 0.7002 Grad: 141923.6562 LR: 8.6555e-05 | Elapse: 12.10s\n",
                        "Epoch 4 [200/1003] | Train Loss: 0.6979 Grad: 146445.9219 LR: 8.5956e-05 | Elapse: 16.14s\n",
                        "Epoch 4 [250/1003] | Train Loss: 0.7001 Grad: 155413.5781 LR: 8.5346e-05 | Elapse: 20.22s\n",
                        "Epoch 4 [300/1003] | Train Loss: 0.6897 Grad: 208421.9375 LR: 8.4725e-05 | Elapse: 24.32s\n",
                        "Epoch 4 [350/1003] | Train Loss: 0.6919 Grad: 200868.0625 LR: 8.4094e-05 | Elapse: 28.25s\n",
                        "Epoch 4 [400/1003] | Train Loss: 0.6902 Grad: 299572.5000 LR: 8.3453e-05 | Elapse: 32.18s\n",
                        "Epoch 4 [450/1003] | Train Loss: 0.6932 Grad: 150327.1250 LR: 8.2801e-05 | Elapse: 36.13s\n",
                        "Epoch 4 [500/1003] | Train Loss: 0.6907 Grad: 175077.2031 LR: 8.2140e-05 | Elapse: 40.06s\n",
                        "Epoch 4 [550/1003] | Train Loss: 0.6918 Grad: 136943.9844 LR: 8.1469e-05 | Elapse: 44.02s\n",
                        "Epoch 4 [600/1003] | Train Loss: 0.6927 Grad: 166329.5781 LR: 8.0788e-05 | Elapse: 47.98s\n",
                        "Epoch 4 [650/1003] | Train Loss: 0.6914 Grad: 179846.6562 LR: 8.0098e-05 | Elapse: 51.93s\n",
                        "Epoch 4 [700/1003] | Train Loss: 0.6906 Grad: 144408.2031 LR: 7.9399e-05 | Elapse: 55.91s\n",
                        "Epoch 4 [750/1003] | Train Loss: 0.6886 Grad: 316885.9375 LR: 7.8691e-05 | Elapse: 59.88s\n",
                        "Epoch 4 [800/1003] | Train Loss: 0.6912 Grad: 132282.9531 LR: 7.7974e-05 | Elapse: 63.94s\n",
                        "Epoch 4 [850/1003] | Train Loss: 0.6904 Grad: 179321.7188 LR: 7.7249e-05 | Elapse: 68.04s\n",
                        "Epoch 4 [900/1003] | Train Loss: 0.6895 Grad: 176432.1875 LR: 7.6516e-05 | Elapse: 72.19s\n",
                        "Epoch 4 [950/1003] | Train Loss: 0.6879 Grad: 183093.9219 LR: 7.5774e-05 | Elapse: 76.18s\n",
                        "Epoch 4 [1000/1003] | Train Loss: 0.6858 Grad: 228963.5625 LR: 7.5025e-05 | Elapse: 80.15s\n",
                        "Epoch 4 [1002/1003] | Train Loss: 0.6859 Grad: 169504.5938 LR: 7.4995e-05 | Elapse: 80.31s\n"
                    ]
                },
                {
                    "data": {
                        "application/vnd.jupyter.widget-view+json": {
                            "model_id": "32a494a59c494a568b6ab742c0b30267",
                            "version_major": 2,
                            "version_minor": 0
                        },
                        "text/plain": [
                            "Valid [3]:   0%|          | 0/258 [00:00<?, ?batch/s]"
                        ]
                    },
                    "metadata": {},
                    "output_type": "display_data"
                },
                {
                    "name": "stdout",
                    "output_type": "stream",
                    "text": [
                        "Epoch 4 [0/258] | Valid Loss: 0.7237 | Elapse: 0.05s\n",
                        "Epoch 4 [50/258] | Valid Loss: 0.6859 | Elapse: 2.55s\n",
                        "Epoch 4 [100/258] | Valid Loss: 0.6734 | Elapse: 5.28s\n",
                        "Epoch 4 [150/258] | Valid Loss: 0.6945 | Elapse: 7.94s\n",
                        "Epoch 4 [200/258] | Valid Loss: 0.6922 | Elapse: 10.66s\n",
                        "Epoch 4 [250/258] | Valid Loss: 0.6919 | Elapse: 13.35s\n"
                    ]
                },
                {
                    "name": "stderr",
                    "output_type": "stream",
                    "text": [
                        "----------------------------------------------------------------------------------------------------\n",
                        "Epoch 4 - Average Loss: (train) 0.6859; (valid) 0.6934 | Time: 94.02s\n",
                        "Best model found in epoch 4 | valid loss: 0.6934\n"
                    ]
                },
                {
                    "name": "stdout",
                    "output_type": "stream",
                    "text": [
                        "Epoch 4 [257/258] | Valid Loss: 0.6934 | Elapse: 13.71s\n"
                    ]
                },
                {
                    "data": {
                        "application/vnd.jupyter.widget-view+json": {
                            "model_id": "2052bd0e5f1549d2933110e858f0fa45",
                            "version_major": 2,
                            "version_minor": 0
                        },
                        "text/plain": [
                            "Train [4]:   0%|          | 0/1003 [00:00<?, ?batch/s]"
                        ]
                    },
                    "metadata": {},
                    "output_type": "display_data"
                },
                {
                    "name": "stdout",
                    "output_type": "stream",
                    "text": [
                        "Epoch 5 [0/1003] | Train Loss: 0.4339 Grad: 121004.9844 LR: 7.4980e-05 | Elapse: 0.09s\n",
                        "Epoch 5 [50/1003] | Train Loss: 0.6494 Grad: 190909.5156 LR: 7.4223e-05 | Elapse: 4.15s\n",
                        "Epoch 5 [100/1003] | Train Loss: 0.6345 Grad: 196345.6719 LR: 7.3458e-05 | Elapse: 8.10s\n",
                        "Epoch 5 [150/1003] | Train Loss: 0.6268 Grad: 215229.9531 LR: 7.2686e-05 | Elapse: 12.05s\n",
                        "Epoch 5 [200/1003] | Train Loss: 0.6377 Grad: 120330.7266 LR: 7.1908e-05 | Elapse: 15.99s\n",
                        "Epoch 5 [250/1003] | Train Loss: 0.6406 Grad: 156706.7656 LR: 7.1123e-05 | Elapse: 19.95s\n",
                        "Epoch 5 [300/1003] | Train Loss: 0.6315 Grad: 248396.3125 LR: 7.0331e-05 | Elapse: 23.91s\n",
                        "Epoch 5 [350/1003] | Train Loss: 0.6364 Grad: 229703.6719 LR: 6.9534e-05 | Elapse: 27.84s\n",
                        "Epoch 5 [400/1003] | Train Loss: 0.6348 Grad: 258642.6406 LR: 6.8730e-05 | Elapse: 31.79s\n",
                        "Epoch 5 [450/1003] | Train Loss: 0.6371 Grad: 147916.4375 LR: 6.7921e-05 | Elapse: 35.76s\n",
                        "Epoch 5 [500/1003] | Train Loss: 0.6364 Grad: 136440.5312 LR: 6.7106e-05 | Elapse: 39.70s\n",
                        "Epoch 5 [550/1003] | Train Loss: 0.6366 Grad: 131257.1406 LR: 6.6286e-05 | Elapse: 43.63s\n",
                        "Epoch 5 [600/1003] | Train Loss: 0.6368 Grad: 174043.8594 LR: 6.5461e-05 | Elapse: 47.57s\n",
                        "Epoch 5 [650/1003] | Train Loss: 0.6362 Grad: 128461.0078 LR: 6.4632e-05 | Elapse: 51.50s\n",
                        "Epoch 5 [700/1003] | Train Loss: 0.6346 Grad: 186167.1875 LR: 6.3798e-05 | Elapse: 55.43s\n",
                        "Epoch 5 [750/1003] | Train Loss: 0.6346 Grad: 312866.7500 LR: 6.2960e-05 | Elapse: 59.36s\n",
                        "Epoch 5 [800/1003] | Train Loss: 0.6356 Grad: 181397.7656 LR: 6.2118e-05 | Elapse: 63.29s\n",
                        "Epoch 5 [850/1003] | Train Loss: 0.6365 Grad: 152859.1406 LR: 6.1272e-05 | Elapse: 67.25s\n",
                        "Epoch 5 [900/1003] | Train Loss: 0.6341 Grad: 194869.0625 LR: 6.0423e-05 | Elapse: 71.20s\n",
                        "Epoch 5 [950/1003] | Train Loss: 0.6327 Grad: 140037.2031 LR: 5.9571e-05 | Elapse: 75.16s\n",
                        "Epoch 5 [1000/1003] | Train Loss: 0.6306 Grad: 200613.1094 LR: 5.8716e-05 | Elapse: 79.09s\n",
                        "Epoch 5 [1002/1003] | Train Loss: 0.6307 Grad: 164879.0000 LR: 5.8682e-05 | Elapse: 79.25s\n"
                    ]
                },
                {
                    "data": {
                        "application/vnd.jupyter.widget-view+json": {
                            "model_id": "950dc8f398b74d808ac6ebce908ceacd",
                            "version_major": 2,
                            "version_minor": 0
                        },
                        "text/plain": [
                            "Valid [4]:   0%|          | 0/258 [00:00<?, ?batch/s]"
                        ]
                    },
                    "metadata": {},
                    "output_type": "display_data"
                },
                {
                    "name": "stdout",
                    "output_type": "stream",
                    "text": [
                        "Epoch 5 [0/258] | Valid Loss: 0.7088 | Elapse: 0.06s\n",
                        "Epoch 5 [50/258] | Valid Loss: 0.6721 | Elapse: 2.58s\n",
                        "Epoch 5 [100/258] | Valid Loss: 0.6545 | Elapse: 5.19s\n",
                        "Epoch 5 [150/258] | Valid Loss: 0.6769 | Elapse: 7.85s\n",
                        "Epoch 5 [200/258] | Valid Loss: 0.6788 | Elapse: 10.52s\n",
                        "Epoch 5 [250/258] | Valid Loss: 0.6821 | Elapse: 13.22s\n"
                    ]
                },
                {
                    "name": "stderr",
                    "output_type": "stream",
                    "text": [
                        "----------------------------------------------------------------------------------------------------\n",
                        "Epoch 5 - Average Loss: (train) 0.6307; (valid) 0.6826 | Time: 92.84s\n",
                        "Best model found in epoch 5 | valid loss: 0.6826\n"
                    ]
                },
                {
                    "name": "stdout",
                    "output_type": "stream",
                    "text": [
                        "Epoch 5 [257/258] | Valid Loss: 0.6826 | Elapse: 13.58s\n"
                    ]
                },
                {
                    "data": {
                        "application/vnd.jupyter.widget-view+json": {
                            "model_id": "56049e2f46544413a6cf5a890addc2f2",
                            "version_major": 2,
                            "version_minor": 0
                        },
                        "text/plain": [
                            "Train [5]:   0%|          | 0/1003 [00:00<?, ?batch/s]"
                        ]
                    },
                    "metadata": {},
                    "output_type": "display_data"
                },
                {
                    "name": "stdout",
                    "output_type": "stream",
                    "text": [
                        "Epoch 6 [0/1003] | Train Loss: 0.5327 Grad: 153226.2188 LR: 5.8665e-05 | Elapse: 0.09s\n",
                        "Epoch 6 [50/1003] | Train Loss: 0.6016 Grad: 196508.3906 LR: 5.7807e-05 | Elapse: 4.08s\n",
                        "Epoch 6 [100/1003] | Train Loss: 0.5998 Grad: 186528.8750 LR: 5.6947e-05 | Elapse: 8.03s\n",
                        "Epoch 6 [150/1003] | Train Loss: 0.5931 Grad: 194990.2031 LR: 5.6084e-05 | Elapse: 11.96s\n",
                        "Epoch 6 [200/1003] | Train Loss: 0.6006 Grad: 109454.1875 LR: 5.5220e-05 | Elapse: 15.89s\n",
                        "Epoch 6 [250/1003] | Train Loss: 0.5997 Grad: 205336.2188 LR: 5.4354e-05 | Elapse: 19.81s\n",
                        "Epoch 6 [300/1003] | Train Loss: 0.5930 Grad: 199876.7188 LR: 5.3487e-05 | Elapse: 23.83s\n",
                        "Epoch 6 [350/1003] | Train Loss: 0.5965 Grad: 180809.7500 LR: 5.2619e-05 | Elapse: 27.81s\n",
                        "Epoch 6 [400/1003] | Train Loss: 0.5948 Grad: 175686.6094 LR: 5.1750e-05 | Elapse: 31.83s\n",
                        "Epoch 6 [450/1003] | Train Loss: 0.5943 Grad: 113207.7031 LR: 5.0881e-05 | Elapse: 35.79s\n",
                        "Epoch 6 [500/1003] | Train Loss: 0.5938 Grad: 154170.3594 LR: 5.0011e-05 | Elapse: 39.73s\n",
                        "Epoch 6 [550/1003] | Train Loss: 0.5918 Grad: 209339.1562 LR: 4.9142e-05 | Elapse: 43.67s\n",
                        "Epoch 6 [600/1003] | Train Loss: 0.5913 Grad: 151965.5625 LR: 4.8272e-05 | Elapse: 47.60s\n",
                        "Epoch 6 [650/1003] | Train Loss: 0.5913 Grad: 117951.7812 LR: 4.7403e-05 | Elapse: 51.54s\n",
                        "Epoch 6 [700/1003] | Train Loss: 0.5889 Grad: 214579.5781 LR: 4.6535e-05 | Elapse: 55.47s\n",
                        "Epoch 6 [750/1003] | Train Loss: 0.5893 Grad: 206613.5938 LR: 4.5668e-05 | Elapse: 59.41s\n",
                        "Epoch 6 [800/1003] | Train Loss: 0.5918 Grad: 159318.6406 LR: 4.4803e-05 | Elapse: 63.48s\n",
                        "Epoch 6 [850/1003] | Train Loss: 0.5918 Grad: 152879.0625 LR: 4.3938e-05 | Elapse: 67.43s\n",
                        "Epoch 6 [900/1003] | Train Loss: 0.5911 Grad: 177680.1094 LR: 4.3076e-05 | Elapse: 71.40s\n",
                        "Epoch 6 [950/1003] | Train Loss: 0.5906 Grad: 202362.8906 LR: 4.2216e-05 | Elapse: 75.37s\n",
                        "Epoch 6 [1000/1003] | Train Loss: 0.5892 Grad: 212513.1406 LR: 4.1358e-05 | Elapse: 79.37s\n",
                        "Epoch 6 [1002/1003] | Train Loss: 0.5894 Grad: 181585.7500 LR: 4.1324e-05 | Elapse: 79.53s\n"
                    ]
                },
                {
                    "data": {
                        "application/vnd.jupyter.widget-view+json": {
                            "model_id": "b33ce6e78a5c405697b7dc5153da1a23",
                            "version_major": 2,
                            "version_minor": 0
                        },
                        "text/plain": [
                            "Valid [5]:   0%|          | 0/258 [00:00<?, ?batch/s]"
                        ]
                    },
                    "metadata": {},
                    "output_type": "display_data"
                },
                {
                    "name": "stdout",
                    "output_type": "stream",
                    "text": [
                        "Epoch 6 [0/258] | Valid Loss: 0.6660 | Elapse: 0.05s\n",
                        "Epoch 6 [50/258] | Valid Loss: 0.6653 | Elapse: 2.64s\n",
                        "Epoch 6 [100/258] | Valid Loss: 0.6405 | Elapse: 5.28s\n",
                        "Epoch 6 [150/258] | Valid Loss: 0.6548 | Elapse: 7.97s\n",
                        "Epoch 6 [200/258] | Valid Loss: 0.6518 | Elapse: 10.69s\n",
                        "Epoch 6 [250/258] | Valid Loss: 0.6529 | Elapse: 13.38s\n"
                    ]
                },
                {
                    "name": "stderr",
                    "output_type": "stream",
                    "text": [
                        "----------------------------------------------------------------------------------------------------\n",
                        "Epoch 6 - Average Loss: (train) 0.5894; (valid) 0.6542 | Time: 93.28s\n",
                        "Best model found in epoch 6 | valid loss: 0.6542\n"
                    ]
                },
                {
                    "name": "stdout",
                    "output_type": "stream",
                    "text": [
                        "Epoch 6 [257/258] | Valid Loss: 0.6542 | Elapse: 13.74s\n"
                    ]
                },
                {
                    "data": {
                        "application/vnd.jupyter.widget-view+json": {
                            "model_id": "271cea0cdb0b43ceb24436028d2bee90",
                            "version_major": 2,
                            "version_minor": 0
                        },
                        "text/plain": [
                            "Train [6]:   0%|          | 0/1003 [00:00<?, ?batch/s]"
                        ]
                    },
                    "metadata": {},
                    "output_type": "display_data"
                },
                {
                    "name": "stdout",
                    "output_type": "stream",
                    "text": [
                        "Epoch 7 [0/1003] | Train Loss: 0.4560 Grad: 187887.7344 LR: 4.1307e-05 | Elapse: 0.09s\n",
                        "Epoch 7 [50/1003] | Train Loss: 0.5467 Grad: 201926.4844 LR: 4.0452e-05 | Elapse: 4.06s\n",
                        "Epoch 7 [100/1003] | Train Loss: 0.5403 Grad: 270734.6875 LR: 3.9600e-05 | Elapse: 8.02s\n",
                        "Epoch 7 [150/1003] | Train Loss: 0.5406 Grad: 210764.8125 LR: 3.8751e-05 | Elapse: 11.99s\n",
                        "Epoch 7 [200/1003] | Train Loss: 0.5468 Grad: 155335.8906 LR: 3.7905e-05 | Elapse: 15.98s\n",
                        "Epoch 7 [250/1003] | Train Loss: 0.5506 Grad: 186093.1562 LR: 3.7063e-05 | Elapse: 20.01s\n",
                        "Epoch 7 [300/1003] | Train Loss: 0.5428 Grad: 207892.4688 LR: 3.6225e-05 | Elapse: 23.98s\n",
                        "Epoch 7 [350/1003] | Train Loss: 0.5458 Grad: 150105.3594 LR: 3.5391e-05 | Elapse: 27.93s\n",
                        "Epoch 7 [400/1003] | Train Loss: 0.5435 Grad: 277278.9062 LR: 3.4562e-05 | Elapse: 31.91s\n",
                        "Epoch 7 [450/1003] | Train Loss: 0.5443 Grad: 119422.9766 LR: 3.3737e-05 | Elapse: 35.87s\n",
                        "Epoch 7 [500/1003] | Train Loss: 0.5463 Grad: 151371.5000 LR: 3.2918e-05 | Elapse: 39.83s\n",
                        "Epoch 7 [550/1003] | Train Loss: 0.5462 Grad: 221448.3281 LR: 3.2103e-05 | Elapse: 43.79s\n",
                        "Epoch 7 [600/1003] | Train Loss: 0.5474 Grad: 215947.3750 LR: 3.1294e-05 | Elapse: 47.74s\n",
                        "Epoch 7 [650/1003] | Train Loss: 0.5471 Grad: 152519.9062 LR: 3.0490e-05 | Elapse: 51.68s\n",
                        "Epoch 7 [700/1003] | Train Loss: 0.5445 Grad: 161328.3906 LR: 2.9693e-05 | Elapse: 55.61s\n",
                        "Epoch 7 [750/1003] | Train Loss: 0.5453 Grad: 250319.1094 LR: 2.8901e-05 | Elapse: 59.55s\n",
                        "Epoch 7 [800/1003] | Train Loss: 0.5474 Grad: 164255.8906 LR: 2.8116e-05 | Elapse: 63.48s\n",
                        "Epoch 7 [850/1003] | Train Loss: 0.5477 Grad: 184124.9531 LR: 2.7338e-05 | Elapse: 67.42s\n",
                        "Epoch 7 [900/1003] | Train Loss: 0.5475 Grad: 155157.2656 LR: 2.6567e-05 | Elapse: 71.36s\n",
                        "Epoch 7 [950/1003] | Train Loss: 0.5481 Grad: 212739.7969 LR: 2.5802e-05 | Elapse: 75.34s\n",
                        "Epoch 7 [1000/1003] | Train Loss: 0.5466 Grad: 213398.5469 LR: 2.5045e-05 | Elapse: 79.30s\n",
                        "Epoch 7 [1002/1003] | Train Loss: 0.5467 Grad: 154569.5000 LR: 2.5015e-05 | Elapse: 79.46s\n"
                    ]
                },
                {
                    "data": {
                        "application/vnd.jupyter.widget-view+json": {
                            "model_id": "c87cf9b3145440b9b82e5c1f3ca03afb",
                            "version_major": 2,
                            "version_minor": 0
                        },
                        "text/plain": [
                            "Valid [6]:   0%|          | 0/258 [00:00<?, ?batch/s]"
                        ]
                    },
                    "metadata": {},
                    "output_type": "display_data"
                },
                {
                    "name": "stdout",
                    "output_type": "stream",
                    "text": [
                        "Epoch 7 [0/258] | Valid Loss: 0.6556 | Elapse: 0.05s\n",
                        "Epoch 7 [50/258] | Valid Loss: 0.6159 | Elapse: 2.61s\n",
                        "Epoch 7 [100/258] | Valid Loss: 0.6000 | Elapse: 5.26s\n",
                        "Epoch 7 [150/258] | Valid Loss: 0.6191 | Elapse: 8.00s\n",
                        "Epoch 7 [200/258] | Valid Loss: 0.6182 | Elapse: 10.68s\n",
                        "Epoch 7 [250/258] | Valid Loss: 0.6209 | Elapse: 13.38s\n"
                    ]
                },
                {
                    "name": "stderr",
                    "output_type": "stream",
                    "text": [
                        "----------------------------------------------------------------------------------------------------\n",
                        "Epoch 7 - Average Loss: (train) 0.5467; (valid) 0.6220 | Time: 93.20s\n",
                        "Best model found in epoch 7 | valid loss: 0.6220\n"
                    ]
                },
                {
                    "name": "stdout",
                    "output_type": "stream",
                    "text": [
                        "Epoch 7 [257/258] | Valid Loss: 0.6220 | Elapse: 13.74s\n"
                    ]
                },
                {
                    "data": {
                        "application/vnd.jupyter.widget-view+json": {
                            "model_id": "c11c007c1aa746559aac88c951586cbf",
                            "version_major": 2,
                            "version_minor": 0
                        },
                        "text/plain": [
                            "Train [7]:   0%|          | 0/1003 [00:00<?, ?batch/s]"
                        ]
                    },
                    "metadata": {},
                    "output_type": "display_data"
                },
                {
                    "name": "stdout",
                    "output_type": "stream",
                    "text": [
                        "Epoch 8 [0/1003] | Train Loss: 0.3822 Grad: 171752.5781 LR: 2.5000e-05 | Elapse: 0.09s\n",
                        "Epoch 8 [50/1003] | Train Loss: 0.5168 Grad: 315205.9688 LR: 2.4251e-05 | Elapse: 4.07s\n",
                        "Epoch 8 [100/1003] | Train Loss: 0.5218 Grad: 206636.1094 LR: 2.3510e-05 | Elapse: 8.03s\n",
                        "Epoch 8 [150/1003] | Train Loss: 0.5171 Grad: 107878.9375 LR: 2.2776e-05 | Elapse: 11.98s\n",
                        "Epoch 8 [200/1003] | Train Loss: 0.5245 Grad: 147357.9062 LR: 2.2051e-05 | Elapse: 15.94s\n",
                        "Epoch 8 [250/1003] | Train Loss: 0.5298 Grad: 221702.7969 LR: 2.1335e-05 | Elapse: 19.87s\n",
                        "Epoch 8 [300/1003] | Train Loss: 0.5195 Grad: 223758.9531 LR: 2.0627e-05 | Elapse: 23.83s\n",
                        "Epoch 8 [350/1003] | Train Loss: 0.5213 Grad: 268971.5938 LR: 1.9928e-05 | Elapse: 27.79s\n",
                        "Epoch 8 [400/1003] | Train Loss: 0.5184 Grad: 243947.7188 LR: 1.9238e-05 | Elapse: 31.79s\n",
                        "Epoch 8 [450/1003] | Train Loss: 0.5168 Grad: 182908.0000 LR: 1.8558e-05 | Elapse: 35.87s\n",
                        "Epoch 8 [500/1003] | Train Loss: 0.5205 Grad: 173014.4062 LR: 1.7887e-05 | Elapse: 39.83s\n",
                        "Epoch 8 [550/1003] | Train Loss: 0.5189 Grad: 191017.7344 LR: 1.7226e-05 | Elapse: 43.79s\n",
                        "Epoch 8 [600/1003] | Train Loss: 0.5172 Grad: 223183.2500 LR: 1.6574e-05 | Elapse: 47.72s\n",
                        "Epoch 8 [650/1003] | Train Loss: 0.5164 Grad: 159425.8438 LR: 1.5933e-05 | Elapse: 51.66s\n",
                        "Epoch 8 [700/1003] | Train Loss: 0.5134 Grad: 230808.0938 LR: 1.5302e-05 | Elapse: 55.61s\n",
                        "Epoch 8 [750/1003] | Train Loss: 0.5129 Grad: 280138.9688 LR: 1.4682e-05 | Elapse: 59.64s\n",
                        "Epoch 8 [800/1003] | Train Loss: 0.5149 Grad: 184460.6094 LR: 1.4072e-05 | Elapse: 63.62s\n",
                        "Epoch 8 [850/1003] | Train Loss: 0.5159 Grad: 255280.3750 LR: 1.3473e-05 | Elapse: 67.57s\n",
                        "Epoch 8 [900/1003] | Train Loss: 0.5145 Grad: 175379.3438 LR: 1.2886e-05 | Elapse: 71.57s\n",
                        "Epoch 8 [950/1003] | Train Loss: 0.5140 Grad: 161080.9219 LR: 1.2309e-05 | Elapse: 75.49s\n",
                        "Epoch 8 [1000/1003] | Train Loss: 0.5122 Grad: 309150.2500 LR: 1.1744e-05 | Elapse: 79.43s\n",
                        "Epoch 8 [1002/1003] | Train Loss: 0.5122 Grad: 153521.6719 LR: 1.1722e-05 | Elapse: 79.59s\n"
                    ]
                },
                {
                    "data": {
                        "application/vnd.jupyter.widget-view+json": {
                            "model_id": "c096ed354fcc41609ce1bd77211ea3ce",
                            "version_major": 2,
                            "version_minor": 0
                        },
                        "text/plain": [
                            "Valid [7]:   0%|          | 0/258 [00:00<?, ?batch/s]"
                        ]
                    },
                    "metadata": {},
                    "output_type": "display_data"
                },
                {
                    "name": "stdout",
                    "output_type": "stream",
                    "text": [
                        "Epoch 8 [0/258] | Valid Loss: 0.5934 | Elapse: 0.05s\n",
                        "Epoch 8 [50/258] | Valid Loss: 0.6643 | Elapse: 2.53s\n",
                        "Epoch 8 [100/258] | Valid Loss: 0.6370 | Elapse: 5.19s\n",
                        "Epoch 8 [150/258] | Valid Loss: 0.6597 | Elapse: 7.82s\n",
                        "Epoch 8 [200/258] | Valid Loss: 0.6551 | Elapse: 10.50s\n",
                        "Epoch 8 [250/258] | Valid Loss: 0.6569 | Elapse: 13.20s\n"
                    ]
                },
                {
                    "name": "stderr",
                    "output_type": "stream",
                    "text": [
                        "----------------------------------------------------------------------------------------------------\n",
                        "Epoch 8 - Average Loss: (train) 0.5122; (valid) 0.6560 | Time: 93.15s\n"
                    ]
                },
                {
                    "name": "stdout",
                    "output_type": "stream",
                    "text": [
                        "Epoch 8 [257/258] | Valid Loss: 0.6560 | Elapse: 13.56s\n"
                    ]
                },
                {
                    "data": {
                        "application/vnd.jupyter.widget-view+json": {
                            "model_id": "432bb3d60b274e63b7d441e8b5d1ac01",
                            "version_major": 2,
                            "version_minor": 0
                        },
                        "text/plain": [
                            "Train [8]:   0%|          | 0/1003 [00:00<?, ?batch/s]"
                        ]
                    },
                    "metadata": {},
                    "output_type": "display_data"
                },
                {
                    "name": "stdout",
                    "output_type": "stream",
                    "text": [
                        "Epoch 9 [0/1003] | Train Loss: 0.3320 Grad: 128002.2578 LR: 1.1711e-05 | Elapse: 0.09s\n",
                        "Epoch 9 [50/1003] | Train Loss: 0.4782 Grad: 422927.6562 LR: 1.1158e-05 | Elapse: 4.04s\n",
                        "Epoch 9 [100/1003] | Train Loss: 0.4688 Grad: 231189.7812 LR: 1.0617e-05 | Elapse: 8.05s\n",
                        "Epoch 9 [150/1003] | Train Loss: 0.4769 Grad: 170733.6250 LR: 1.0088e-05 | Elapse: 12.07s\n",
                        "Epoch 9 [200/1003] | Train Loss: 0.4837 Grad: 110480.6953 LR: 9.5710e-06 | Elapse: 15.99s\n",
                        "Epoch 9 [250/1003] | Train Loss: 0.4923 Grad: 179170.9844 LR: 9.0663e-06 | Elapse: 19.93s\n",
                        "Epoch 9 [300/1003] | Train Loss: 0.4846 Grad: 256557.2812 LR: 8.5740e-06 | Elapse: 24.02s\n",
                        "Epoch 9 [350/1003] | Train Loss: 0.4849 Grad: 123592.7969 LR: 8.0942e-06 | Elapse: 27.99s\n",
                        "Epoch 9 [400/1003] | Train Loss: 0.4810 Grad: 159522.8281 LR: 7.6272e-06 | Elapse: 32.02s\n",
                        "Epoch 9 [450/1003] | Train Loss: 0.4806 Grad: 174644.9844 LR: 7.1730e-06 | Elapse: 35.97s\n",
                        "Epoch 9 [500/1003] | Train Loss: 0.4822 Grad: 150956.2344 LR: 6.7317e-06 | Elapse: 39.94s\n",
                        "Epoch 9 [550/1003] | Train Loss: 0.4822 Grad: 186509.5938 LR: 6.3036e-06 | Elapse: 43.91s\n",
                        "Epoch 9 [600/1003] | Train Loss: 0.4801 Grad: 254411.4219 LR: 5.8886e-06 | Elapse: 47.97s\n",
                        "Epoch 9 [650/1003] | Train Loss: 0.4797 Grad: 151236.8906 LR: 5.4871e-06 | Elapse: 52.07s\n",
                        "Epoch 9 [700/1003] | Train Loss: 0.4779 Grad: 291006.6250 LR: 5.0990e-06 | Elapse: 56.12s\n",
                        "Epoch 9 [750/1003] | Train Loss: 0.4793 Grad: 260105.2969 LR: 4.7246e-06 | Elapse: 60.29s\n",
                        "Epoch 9 [800/1003] | Train Loss: 0.4810 Grad: 172824.1094 LR: 4.3638e-06 | Elapse: 64.27s\n",
                        "Epoch 9 [850/1003] | Train Loss: 0.4826 Grad: 273432.8125 LR: 4.0169e-06 | Elapse: 68.21s\n",
                        "Epoch 9 [900/1003] | Train Loss: 0.4820 Grad: 272687.3750 LR: 3.6839e-06 | Elapse: 72.16s\n",
                        "Epoch 9 [950/1003] | Train Loss: 0.4821 Grad: 260862.1562 LR: 3.3650e-06 | Elapse: 76.11s\n",
                        "Epoch 9 [1000/1003] | Train Loss: 0.4812 Grad: 259467.2969 LR: 3.0601e-06 | Elapse: 80.09s\n",
                        "Epoch 9 [1002/1003] | Train Loss: 0.4814 Grad: 183208.1094 LR: 3.0482e-06 | Elapse: 80.25s\n"
                    ]
                },
                {
                    "data": {
                        "application/vnd.jupyter.widget-view+json": {
                            "model_id": "32f6ee789f42484a81b89ffb644e7aed",
                            "version_major": 2,
                            "version_minor": 0
                        },
                        "text/plain": [
                            "Valid [8]:   0%|          | 0/258 [00:00<?, ?batch/s]"
                        ]
                    },
                    "metadata": {},
                    "output_type": "display_data"
                },
                {
                    "name": "stdout",
                    "output_type": "stream",
                    "text": [
                        "Epoch 9 [0/258] | Valid Loss: 0.7516 | Elapse: 0.05s\n",
                        "Epoch 9 [50/258] | Valid Loss: 0.6084 | Elapse: 2.57s\n",
                        "Epoch 9 [100/258] | Valid Loss: 0.5991 | Elapse: 5.23s\n",
                        "Epoch 9 [150/258] | Valid Loss: 0.6185 | Elapse: 7.90s\n",
                        "Epoch 9 [200/258] | Valid Loss: 0.6198 | Elapse: 10.59s\n",
                        "Epoch 9 [250/258] | Valid Loss: 0.6295 | Elapse: 13.28s\n"
                    ]
                },
                {
                    "name": "stderr",
                    "output_type": "stream",
                    "text": [
                        "----------------------------------------------------------------------------------------------------\n",
                        "Epoch 9 - Average Loss: (train) 0.4814; (valid) 0.6285 | Time: 93.89s\n"
                    ]
                },
                {
                    "name": "stdout",
                    "output_type": "stream",
                    "text": [
                        "Epoch 9 [257/258] | Valid Loss: 0.6285 | Elapse: 13.64s\n"
                    ]
                },
                {
                    "data": {
                        "application/vnd.jupyter.widget-view+json": {
                            "model_id": "5d20e2ec061a42b18e359f60720eac21",
                            "version_major": 2,
                            "version_minor": 0
                        },
                        "text/plain": [
                            "Train [9]:   0%|          | 0/1003 [00:00<?, ?batch/s]"
                        ]
                    },
                    "metadata": {},
                    "output_type": "display_data"
                },
                {
                    "name": "stdout",
                    "output_type": "stream",
                    "text": [
                        "Epoch 10 [0/1003] | Train Loss: 0.2531 Grad: 148895.1719 LR: 3.0423e-06 | Elapse: 0.09s\n",
                        "Epoch 10 [50/1003] | Train Loss: 0.4641 Grad: 279049.4062 LR: 2.7525e-06 | Elapse: 4.11s\n",
                        "Epoch 10 [100/1003] | Train Loss: 0.4591 Grad: 203907.5469 LR: 2.4771e-06 | Elapse: 8.20s\n",
                        "Epoch 10 [150/1003] | Train Loss: 0.4587 Grad: 163645.0781 LR: 2.2160e-06 | Elapse: 12.43s\n",
                        "Epoch 10 [200/1003] | Train Loss: 0.4644 Grad: 157820.0938 LR: 1.9694e-06 | Elapse: 16.38s\n",
                        "Epoch 10 [250/1003] | Train Loss: 0.4720 Grad: 254956.3750 LR: 1.7374e-06 | Elapse: 20.33s\n",
                        "Epoch 10 [300/1003] | Train Loss: 0.4650 Grad: 214026.1562 LR: 1.5200e-06 | Elapse: 24.41s\n",
                        "Epoch 10 [350/1003] | Train Loss: 0.4670 Grad: 169417.8594 LR: 1.3173e-06 | Elapse: 28.37s\n",
                        "Epoch 10 [400/1003] | Train Loss: 0.4639 Grad: 265840.0312 LR: 1.1293e-06 | Elapse: 32.37s\n",
                        "Epoch 10 [450/1003] | Train Loss: 0.4634 Grad: 142481.9688 LR: 9.5612e-07 | Elapse: 36.40s\n",
                        "Epoch 10 [500/1003] | Train Loss: 0.4675 Grad: 222841.6719 LR: 7.9780e-07 | Elapse: 40.47s\n",
                        "Epoch 10 [550/1003] | Train Loss: 0.4648 Grad: 205656.2812 LR: 6.5438e-07 | Elapse: 44.51s\n",
                        "Epoch 10 [600/1003] | Train Loss: 0.4647 Grad: 174862.0938 LR: 5.2592e-07 | Elapse: 48.56s\n",
                        "Epoch 10 [650/1003] | Train Loss: 0.4653 Grad: 149427.9375 LR: 4.1244e-07 | Elapse: 52.69s\n",
                        "Epoch 10 [700/1003] | Train Loss: 0.4644 Grad: 280607.3125 LR: 3.1398e-07 | Elapse: 56.76s\n",
                        "Epoch 10 [750/1003] | Train Loss: 0.4658 Grad: 327269.6562 LR: 2.3057e-07 | Elapse: 60.87s\n",
                        "Epoch 10 [800/1003] | Train Loss: 0.4681 Grad: 204276.7031 LR: 1.6223e-07 | Elapse: 64.96s\n",
                        "Epoch 10 [850/1003] | Train Loss: 0.4700 Grad: 294890.0000 LR: 1.0900e-07 | Elapse: 68.96s\n",
                        "Epoch 10 [900/1003] | Train Loss: 0.4693 Grad: 225020.2656 LR: 7.0873e-08 | Elapse: 72.91s\n",
                        "Epoch 10 [950/1003] | Train Loss: 0.4698 Grad: 152217.8438 LR: 4.7872e-08 | Elapse: 76.85s\n",
                        "Epoch 10 [1000/1003] | Train Loss: 0.4683 Grad: 279620.0312 LR: 4.0003e-08 | Elapse: 80.79s\n",
                        "Epoch 10 [1002/1003] | Train Loss: 0.4683 Grad: 108138.8125 LR: 4.0003e-08 | Elapse: 80.95s\n"
                    ]
                },
                {
                    "data": {
                        "application/vnd.jupyter.widget-view+json": {
                            "model_id": "9dc7bfee5495427fb5c25b258c3edf46",
                            "version_major": 2,
                            "version_minor": 0
                        },
                        "text/plain": [
                            "Valid [9]:   0%|          | 0/258 [00:00<?, ?batch/s]"
                        ]
                    },
                    "metadata": {},
                    "output_type": "display_data"
                },
                {
                    "name": "stdout",
                    "output_type": "stream",
                    "text": [
                        "Epoch 10 [0/258] | Valid Loss: 0.6131 | Elapse: 0.05s\n",
                        "Epoch 10 [50/258] | Valid Loss: 0.5958 | Elapse: 2.56s\n",
                        "Epoch 10 [100/258] | Valid Loss: 0.5893 | Elapse: 5.20s\n",
                        "Epoch 10 [150/258] | Valid Loss: 0.6092 | Elapse: 7.87s\n",
                        "Epoch 10 [200/258] | Valid Loss: 0.6088 | Elapse: 10.54s\n",
                        "Epoch 10 [250/258] | Valid Loss: 0.6135 | Elapse: 13.22s\n"
                    ]
                },
                {
                    "name": "stderr",
                    "output_type": "stream",
                    "text": [
                        "----------------------------------------------------------------------------------------------------\n",
                        "Epoch 10 - Average Loss: (train) 0.4683; (valid) 0.6149 | Time: 94.54s\n",
                        "Best model found in epoch 10 | valid loss: 0.6149\n"
                    ]
                },
                {
                    "name": "stdout",
                    "output_type": "stream",
                    "text": [
                        "Epoch 10 [257/258] | Valid Loss: 0.6149 | Elapse: 13.59s\n"
                    ]
                },
                {
                    "name": "stderr",
                    "output_type": "stream",
                    "text": [
                        "====================================================================================================\n",
                        "Fold 2 Valid Loss: 0.6149138808250427\n",
                        "Elapse: 15.61 min \n",
                        "====================================================================================================\n",
                        "- Second Stage -\n",
                        "Use Checkpoint: MAE_Raw_Backbone_fold_2_stage_1.pth\n"
                    ]
                },
                {
                    "name": "stdout",
                    "output_type": "stream",
                    "text": [
                        "Loading pretrained weights from facebook/vit-mae-base\n"
                    ]
                },
                {
                    "data": {
                        "application/vnd.jupyter.widget-view+json": {
                            "model_id": "eb68d4d303bb4d23a9f458c34231ff6b",
                            "version_major": 2,
                            "version_minor": 0
                        },
                        "text/plain": [
                            "Train [0]:   0%|          | 0/386 [00:00<?, ?batch/s]"
                        ]
                    },
                    "metadata": {},
                    "output_type": "display_data"
                },
                {
                    "name": "stdout",
                    "output_type": "stream",
                    "text": [
                        "Epoch 1 [0/386] | Train Loss: 0.3640 Grad: 165822.5781 LR: 4.0016e-06 | Elapse: 0.09s\n",
                        "Epoch 1 [50/386] | Train Loss: 0.4042 Grad: 127436.6250 LR: 8.0969e-06 | Elapse: 4.05s\n",
                        "Epoch 1 [100/386] | Train Loss: 0.4000 Grad: 76784.0547 LR: 1.9400e-05 | Elapse: 8.03s\n",
                        "Epoch 1 [150/386] | Train Loss: 0.3904 Grad: 97636.8750 LR: 3.6054e-05 | Elapse: 11.97s\n",
                        "Epoch 1 [200/386] | Train Loss: 0.3889 Grad: 149097.0156 LR: 5.5327e-05 | Elapse: 15.90s\n",
                        "Epoch 1 [250/386] | Train Loss: 0.3934 Grad: 153245.5469 LR: 7.4053e-05 | Elapse: 19.83s\n",
                        "Epoch 1 [300/386] | Train Loss: 0.3952 Grad: 111891.8438 LR: 8.9159e-05 | Elapse: 23.77s\n",
                        "Epoch 1 [350/386] | Train Loss: 0.3972 Grad: 111908.2109 LR: 9.8164e-05 | Elapse: 27.78s\n",
                        "Epoch 1 [385/386] | Train Loss: 0.3967 Grad: 121462.9531 LR: 1.0000e-04 | Elapse: 30.56s\n"
                    ]
                },
                {
                    "data": {
                        "application/vnd.jupyter.widget-view+json": {
                            "model_id": "50898cb1eb844df1b8ea81f3bf33253a",
                            "version_major": 2,
                            "version_minor": 0
                        },
                        "text/plain": [
                            "Valid [0]:   0%|          | 0/258 [00:00<?, ?batch/s]"
                        ]
                    },
                    "metadata": {},
                    "output_type": "display_data"
                },
                {
                    "name": "stdout",
                    "output_type": "stream",
                    "text": [
                        "Epoch 1 [0/258] | Valid Loss: 0.6727 | Elapse: 0.06s\n",
                        "Epoch 1 [50/258] | Valid Loss: 0.7136 | Elapse: 2.59s\n",
                        "Epoch 1 [100/258] | Valid Loss: 0.7006 | Elapse: 5.24s\n",
                        "Epoch 1 [150/258] | Valid Loss: 0.7206 | Elapse: 7.94s\n",
                        "Epoch 1 [200/258] | Valid Loss: 0.7145 | Elapse: 10.65s\n",
                        "Epoch 1 [250/258] | Valid Loss: 0.7118 | Elapse: 13.35s\n"
                    ]
                },
                {
                    "name": "stderr",
                    "output_type": "stream",
                    "text": [
                        "----------------------------------------------------------------------------------------------------\n",
                        "Epoch 1 - Average Loss: (train) 0.3967; (valid) 0.7105 | Time: 44.28s\n",
                        "Best model found in epoch 1 | valid loss: 0.7105\n"
                    ]
                },
                {
                    "name": "stdout",
                    "output_type": "stream",
                    "text": [
                        "Epoch 1 [257/258] | Valid Loss: 0.7105 | Elapse: 13.72s\n"
                    ]
                },
                {
                    "data": {
                        "application/vnd.jupyter.widget-view+json": {
                            "model_id": "8c3f5523ea21426c92d93605ef294f8c",
                            "version_major": 2,
                            "version_minor": 0
                        },
                        "text/plain": [
                            "Train [1]:   0%|          | 0/386 [00:00<?, ?batch/s]"
                        ]
                    },
                    "metadata": {},
                    "output_type": "display_data"
                },
                {
                    "name": "stdout",
                    "output_type": "stream",
                    "text": [
                        "Epoch 2 [0/386] | Train Loss: 0.3992 Grad: 128801.8359 LR: 1.0000e-04 | Elapse: 0.09s\n",
                        "Epoch 2 [50/386] | Train Loss: 0.4074 Grad: 88864.6016 LR: 9.9945e-05 | Elapse: 4.10s\n",
                        "Epoch 2 [100/386] | Train Loss: 0.4117 Grad: 95373.4141 LR: 9.9788e-05 | Elapse: 8.09s\n",
                        "Epoch 2 [150/386] | Train Loss: 0.3997 Grad: 129922.0391 LR: 9.9529e-05 | Elapse: 12.05s\n",
                        "Epoch 2 [200/386] | Train Loss: 0.3969 Grad: 162730.6406 LR: 9.9168e-05 | Elapse: 16.07s\n",
                        "Epoch 2 [250/386] | Train Loss: 0.3984 Grad: 112358.2031 LR: 9.8708e-05 | Elapse: 20.02s\n",
                        "Epoch 2 [300/386] | Train Loss: 0.3975 Grad: 126086.3750 LR: 9.8148e-05 | Elapse: 24.01s\n",
                        "Epoch 2 [350/386] | Train Loss: 0.3976 Grad: 98427.7578 LR: 9.7489e-05 | Elapse: 28.00s\n",
                        "Epoch 2 [385/386] | Train Loss: 0.3951 Grad: 115673.2578 LR: 9.6970e-05 | Elapse: 30.78s\n"
                    ]
                },
                {
                    "data": {
                        "application/vnd.jupyter.widget-view+json": {
                            "model_id": "52914c63e81c42289a454ed4ce13a098",
                            "version_major": 2,
                            "version_minor": 0
                        },
                        "text/plain": [
                            "Valid [1]:   0%|          | 0/258 [00:00<?, ?batch/s]"
                        ]
                    },
                    "metadata": {},
                    "output_type": "display_data"
                },
                {
                    "name": "stdout",
                    "output_type": "stream",
                    "text": [
                        "Epoch 2 [0/258] | Valid Loss: 0.7112 | Elapse: 0.05s\n",
                        "Epoch 2 [50/258] | Valid Loss: 0.7335 | Elapse: 2.55s\n",
                        "Epoch 2 [100/258] | Valid Loss: 0.7055 | Elapse: 5.19s\n",
                        "Epoch 2 [150/258] | Valid Loss: 0.7243 | Elapse: 7.88s\n",
                        "Epoch 2 [200/258] | Valid Loss: 0.7200 | Elapse: 10.67s\n",
                        "Epoch 2 [250/258] | Valid Loss: 0.7204 | Elapse: 13.38s\n"
                    ]
                },
                {
                    "name": "stderr",
                    "output_type": "stream",
                    "text": [
                        "----------------------------------------------------------------------------------------------------\n",
                        "Epoch 2 - Average Loss: (train) 0.3951; (valid) 0.7221 | Time: 44.53s\n"
                    ]
                },
                {
                    "name": "stdout",
                    "output_type": "stream",
                    "text": [
                        "Epoch 2 [257/258] | Valid Loss: 0.7221 | Elapse: 13.75s\n"
                    ]
                },
                {
                    "data": {
                        "application/vnd.jupyter.widget-view+json": {
                            "model_id": "92aa2423a7b442e799f2be504972fbca",
                            "version_major": 2,
                            "version_minor": 0
                        },
                        "text/plain": [
                            "Train [2]:   0%|          | 0/386 [00:00<?, ?batch/s]"
                        ]
                    },
                    "metadata": {},
                    "output_type": "display_data"
                },
                {
                    "name": "stdout",
                    "output_type": "stream",
                    "text": [
                        "Epoch 3 [0/386] | Train Loss: 0.4481 Grad: 132250.8281 LR: 9.6955e-05 | Elapse: 0.10s\n",
                        "Epoch 3 [50/386] | Train Loss: 0.3793 Grad: 106004.6250 LR: 9.6130e-05 | Elapse: 4.10s\n",
                        "Epoch 3 [100/386] | Train Loss: 0.3816 Grad: 88366.5469 LR: 9.5212e-05 | Elapse: 8.15s\n",
                        "Epoch 3 [150/386] | Train Loss: 0.3764 Grad: 90767.7422 LR: 9.4201e-05 | Elapse: 12.21s\n",
                        "Epoch 3 [200/386] | Train Loss: 0.3741 Grad: 155682.9375 LR: 9.3099e-05 | Elapse: 16.15s\n",
                        "Epoch 3 [250/386] | Train Loss: 0.3769 Grad: 112779.9219 LR: 9.1910e-05 | Elapse: 20.14s\n",
                        "Epoch 3 [300/386] | Train Loss: 0.3786 Grad: 110869.8672 LR: 9.0635e-05 | Elapse: 24.08s\n",
                        "Epoch 3 [350/386] | Train Loss: 0.3778 Grad: 92941.1875 LR: 8.9276e-05 | Elapse: 28.09s\n",
                        "Epoch 3 [385/386] | Train Loss: 0.3754 Grad: 89639.7891 LR: 8.8278e-05 | Elapse: 30.84s\n"
                    ]
                },
                {
                    "data": {
                        "application/vnd.jupyter.widget-view+json": {
                            "model_id": "405574b98f084aa8b9a64727a5419c2b",
                            "version_major": 2,
                            "version_minor": 0
                        },
                        "text/plain": [
                            "Valid [2]:   0%|          | 0/258 [00:00<?, ?batch/s]"
                        ]
                    },
                    "metadata": {},
                    "output_type": "display_data"
                },
                {
                    "name": "stdout",
                    "output_type": "stream",
                    "text": [
                        "Epoch 3 [0/258] | Valid Loss: 0.7560 | Elapse: 0.05s\n",
                        "Epoch 3 [50/258] | Valid Loss: 0.7429 | Elapse: 2.48s\n",
                        "Epoch 3 [100/258] | Valid Loss: 0.7182 | Elapse: 5.02s\n",
                        "Epoch 3 [150/258] | Valid Loss: 0.7371 | Elapse: 7.63s\n",
                        "Epoch 3 [200/258] | Valid Loss: 0.7337 | Elapse: 10.26s\n",
                        "Epoch 3 [250/258] | Valid Loss: 0.7290 | Elapse: 12.88s\n"
                    ]
                },
                {
                    "name": "stderr",
                    "output_type": "stream",
                    "text": [
                        "----------------------------------------------------------------------------------------------------\n",
                        "Epoch 3 - Average Loss: (train) 0.3754; (valid) 0.7282 | Time: 44.09s\n"
                    ]
                },
                {
                    "name": "stdout",
                    "output_type": "stream",
                    "text": [
                        "Epoch 3 [257/258] | Valid Loss: 0.7282 | Elapse: 13.24s\n"
                    ]
                },
                {
                    "data": {
                        "application/vnd.jupyter.widget-view+json": {
                            "model_id": "0c4efca3f79c4999bde8eda6331a9b51",
                            "version_major": 2,
                            "version_minor": 0
                        },
                        "text/plain": [
                            "Train [3]:   0%|          | 0/386 [00:00<?, ?batch/s]"
                        ]
                    },
                    "metadata": {},
                    "output_type": "display_data"
                },
                {
                    "name": "stdout",
                    "output_type": "stream",
                    "text": [
                        "Epoch 4 [0/386] | Train Loss: 0.4705 Grad: 146470.7969 LR: 8.8249e-05 | Elapse: 0.09s\n",
                        "Epoch 4 [50/386] | Train Loss: 0.3686 Grad: 116213.5156 LR: 8.6754e-05 | Elapse: 4.17s\n",
                        "Epoch 4 [100/386] | Train Loss: 0.3647 Grad: 98749.2344 LR: 8.5185e-05 | Elapse: 8.12s\n",
                        "Epoch 4 [150/386] | Train Loss: 0.3568 Grad: 106854.1250 LR: 8.3544e-05 | Elapse: 12.03s\n",
                        "Epoch 4 [200/386] | Train Loss: 0.3532 Grad: 105886.0000 LR: 8.1834e-05 | Elapse: 15.94s\n",
                        "Epoch 4 [250/386] | Train Loss: 0.3565 Grad: 97242.6016 LR: 8.0059e-05 | Elapse: 19.86s\n",
                        "Epoch 4 [300/386] | Train Loss: 0.3586 Grad: 101702.2188 LR: 7.8223e-05 | Elapse: 23.77s\n",
                        "Epoch 4 [350/386] | Train Loss: 0.3554 Grad: 99248.8359 LR: 7.6329e-05 | Elapse: 27.79s\n",
                        "Epoch 4 [385/386] | Train Loss: 0.3528 Grad: 98526.6953 LR: 7.4971e-05 | Elapse: 30.55s\n"
                    ]
                },
                {
                    "data": {
                        "application/vnd.jupyter.widget-view+json": {
                            "model_id": "469229a09f1a446d96fa550d41f0ec93",
                            "version_major": 2,
                            "version_minor": 0
                        },
                        "text/plain": [
                            "Valid [3]:   0%|          | 0/258 [00:00<?, ?batch/s]"
                        ]
                    },
                    "metadata": {},
                    "output_type": "display_data"
                },
                {
                    "name": "stdout",
                    "output_type": "stream",
                    "text": [
                        "Epoch 4 [0/258] | Valid Loss: 0.7020 | Elapse: 0.05s\n",
                        "Epoch 4 [50/258] | Valid Loss: 0.7218 | Elapse: 2.52s\n",
                        "Epoch 4 [100/258] | Valid Loss: 0.7035 | Elapse: 5.10s\n",
                        "Epoch 4 [150/258] | Valid Loss: 0.7218 | Elapse: 7.73s\n",
                        "Epoch 4 [200/258] | Valid Loss: 0.7218 | Elapse: 10.38s\n",
                        "Epoch 4 [250/258] | Valid Loss: 0.7119 | Elapse: 13.07s\n"
                    ]
                },
                {
                    "name": "stderr",
                    "output_type": "stream",
                    "text": [
                        "----------------------------------------------------------------------------------------------------\n",
                        "Epoch 4 - Average Loss: (train) 0.3528; (valid) 0.7109 | Time: 43.99s\n"
                    ]
                },
                {
                    "name": "stdout",
                    "output_type": "stream",
                    "text": [
                        "Epoch 4 [257/258] | Valid Loss: 0.7109 | Elapse: 13.43s\n"
                    ]
                },
                {
                    "data": {
                        "application/vnd.jupyter.widget-view+json": {
                            "model_id": "9ae29e055d7c4a22924efb9d76caf10c",
                            "version_major": 2,
                            "version_minor": 0
                        },
                        "text/plain": [
                            "Train [4]:   0%|          | 0/386 [00:00<?, ?batch/s]"
                        ]
                    },
                    "metadata": {},
                    "output_type": "display_data"
                },
                {
                    "name": "stdout",
                    "output_type": "stream",
                    "text": [
                        "Epoch 5 [0/386] | Train Loss: 0.3386 Grad: 136596.5781 LR: 7.4932e-05 | Elapse: 0.09s\n",
                        "Epoch 5 [50/386] | Train Loss: 0.3473 Grad: 114119.6484 LR: 7.2948e-05 | Elapse: 4.08s\n",
                        "Epoch 5 [100/386] | Train Loss: 0.3402 Grad: 65295.2695 LR: 7.0917e-05 | Elapse: 8.02s\n",
                        "Epoch 5 [150/386] | Train Loss: 0.3349 Grad: 89961.6719 LR: 6.8843e-05 | Elapse: 11.99s\n",
                        "Epoch 5 [200/386] | Train Loss: 0.3310 Grad: 97040.0312 LR: 6.6731e-05 | Elapse: 15.93s\n",
                        "Epoch 5 [250/386] | Train Loss: 0.3324 Grad: 101474.6250 LR: 6.4585e-05 | Elapse: 19.87s\n",
                        "Epoch 5 [300/386] | Train Loss: 0.3343 Grad: 97111.8984 LR: 6.2409e-05 | Elapse: 23.77s\n",
                        "Epoch 5 [350/386] | Train Loss: 0.3334 Grad: 139832.8281 LR: 6.0208e-05 | Elapse: 27.68s\n",
                        "Epoch 5 [385/386] | Train Loss: 0.3319 Grad: 128788.9609 LR: 5.8654e-05 | Elapse: 30.40s\n"
                    ]
                },
                {
                    "data": {
                        "application/vnd.jupyter.widget-view+json": {
                            "model_id": "c0f8a2da8a4b43cea96ffcedc966d36f",
                            "version_major": 2,
                            "version_minor": 0
                        },
                        "text/plain": [
                            "Valid [4]:   0%|          | 0/258 [00:00<?, ?batch/s]"
                        ]
                    },
                    "metadata": {},
                    "output_type": "display_data"
                },
                {
                    "name": "stdout",
                    "output_type": "stream",
                    "text": [
                        "Epoch 5 [0/258] | Valid Loss: 0.6498 | Elapse: 0.05s\n",
                        "Epoch 5 [50/258] | Valid Loss: 0.6667 | Elapse: 2.49s\n",
                        "Epoch 5 [100/258] | Valid Loss: 0.6537 | Elapse: 5.04s\n",
                        "Epoch 5 [150/258] | Valid Loss: 0.6763 | Elapse: 7.61s\n",
                        "Epoch 5 [200/258] | Valid Loss: 0.6730 | Elapse: 10.22s\n",
                        "Epoch 5 [250/258] | Valid Loss: 0.6724 | Elapse: 12.88s\n"
                    ]
                },
                {
                    "name": "stderr",
                    "output_type": "stream",
                    "text": [
                        "----------------------------------------------------------------------------------------------------\n",
                        "Epoch 5 - Average Loss: (train) 0.3319; (valid) 0.6712 | Time: 43.65s\n",
                        "Best model found in epoch 5 | valid loss: 0.6712\n"
                    ]
                },
                {
                    "name": "stdout",
                    "output_type": "stream",
                    "text": [
                        "Epoch 5 [257/258] | Valid Loss: 0.6712 | Elapse: 13.24s\n"
                    ]
                },
                {
                    "data": {
                        "application/vnd.jupyter.widget-view+json": {
                            "model_id": "6e37e48159414d1d90799befe50e261e",
                            "version_major": 2,
                            "version_minor": 0
                        },
                        "text/plain": [
                            "Train [5]:   0%|          | 0/386 [00:00<?, ?batch/s]"
                        ]
                    },
                    "metadata": {},
                    "output_type": "display_data"
                },
                {
                    "name": "stdout",
                    "output_type": "stream",
                    "text": [
                        "Epoch 6 [0/386] | Train Loss: 0.3569 Grad: 160515.5781 LR: 5.8610e-05 | Elapse: 0.09s\n",
                        "Epoch 6 [50/386] | Train Loss: 0.3323 Grad: 70946.1875 LR: 5.6376e-05 | Elapse: 3.97s\n",
                        "Epoch 6 [100/386] | Train Loss: 0.3238 Grad: 96675.0234 LR: 5.4128e-05 | Elapse: 7.87s\n",
                        "Epoch 6 [150/386] | Train Loss: 0.3148 Grad: 108905.9688 LR: 5.1873e-05 | Elapse: 11.76s\n",
                        "Epoch 6 [200/386] | Train Loss: 0.3117 Grad: 110642.8047 LR: 4.9613e-05 | Elapse: 15.66s\n",
                        "Epoch 6 [250/386] | Train Loss: 0.3138 Grad: 124540.3828 LR: 4.7355e-05 | Elapse: 19.57s\n",
                        "Epoch 6 [300/386] | Train Loss: 0.3147 Grad: 114116.5312 LR: 4.5101e-05 | Elapse: 23.52s\n",
                        "Epoch 6 [350/386] | Train Loss: 0.3129 Grad: 105952.8203 LR: 4.2858e-05 | Elapse: 27.52s\n",
                        "Epoch 6 [385/386] | Train Loss: 0.3106 Grad: 125629.8984 LR: 4.1297e-05 | Elapse: 30.30s\n"
                    ]
                },
                {
                    "data": {
                        "application/vnd.jupyter.widget-view+json": {
                            "model_id": "718250e913a84f6eb314f1c8eb742c7c",
                            "version_major": 2,
                            "version_minor": 0
                        },
                        "text/plain": [
                            "Valid [5]:   0%|          | 0/258 [00:00<?, ?batch/s]"
                        ]
                    },
                    "metadata": {},
                    "output_type": "display_data"
                },
                {
                    "name": "stdout",
                    "output_type": "stream",
                    "text": [
                        "Epoch 6 [0/258] | Valid Loss: 0.5570 | Elapse: 0.05s\n",
                        "Epoch 6 [50/258] | Valid Loss: 0.6789 | Elapse: 2.48s\n",
                        "Epoch 6 [100/258] | Valid Loss: 0.6517 | Elapse: 5.02s\n",
                        "Epoch 6 [150/258] | Valid Loss: 0.6750 | Elapse: 7.59s\n",
                        "Epoch 6 [200/258] | Valid Loss: 0.6672 | Elapse: 10.21s\n",
                        "Epoch 6 [250/258] | Valid Loss: 0.6705 | Elapse: 12.83s\n"
                    ]
                },
                {
                    "name": "stderr",
                    "output_type": "stream",
                    "text": [
                        "----------------------------------------------------------------------------------------------------\n",
                        "Epoch 6 - Average Loss: (train) 0.3106; (valid) 0.6696 | Time: 43.49s\n",
                        "Best model found in epoch 6 | valid loss: 0.6696\n"
                    ]
                },
                {
                    "name": "stdout",
                    "output_type": "stream",
                    "text": [
                        "Epoch 6 [257/258] | Valid Loss: 0.6696 | Elapse: 13.19s\n"
                    ]
                },
                {
                    "data": {
                        "application/vnd.jupyter.widget-view+json": {
                            "model_id": "6f428098592e4a948b2aebff2d4cd4f9",
                            "version_major": 2,
                            "version_minor": 0
                        },
                        "text/plain": [
                            "Train [6]:   0%|          | 0/386 [00:00<?, ?batch/s]"
                        ]
                    },
                    "metadata": {},
                    "output_type": "display_data"
                },
                {
                    "name": "stdout",
                    "output_type": "stream",
                    "text": [
                        "Epoch 7 [0/386] | Train Loss: 0.3406 Grad: 110229.2031 LR: 4.1252e-05 | Elapse: 0.09s\n",
                        "Epoch 7 [50/386] | Train Loss: 0.2838 Grad: 96837.8203 LR: 3.9037e-05 | Elapse: 4.04s\n",
                        "Epoch 7 [100/386] | Train Loss: 0.2837 Grad: 86764.7266 LR: 3.6844e-05 | Elapse: 7.91s\n",
                        "Epoch 7 [150/386] | Train Loss: 0.2844 Grad: 94892.8906 LR: 3.4679e-05 | Elapse: 11.79s\n",
                        "Epoch 7 [200/386] | Train Loss: 0.2850 Grad: 115473.3438 LR: 3.2544e-05 | Elapse: 15.70s\n",
                        "Epoch 7 [250/386] | Train Loss: 0.2866 Grad: 122160.5703 LR: 3.0446e-05 | Elapse: 19.59s\n",
                        "Epoch 7 [300/386] | Train Loss: 0.2882 Grad: 104543.1406 LR: 2.8387e-05 | Elapse: 23.47s\n",
                        "Epoch 7 [350/386] | Train Loss: 0.2864 Grad: 92075.8984 LR: 2.6372e-05 | Elapse: 27.36s\n",
                        "Epoch 7 [385/386] | Train Loss: 0.2857 Grad: 170397.2344 LR: 2.4991e-05 | Elapse: 30.11s\n"
                    ]
                },
                {
                    "data": {
                        "application/vnd.jupyter.widget-view+json": {
                            "model_id": "8165f61a46964d7da4cd654c6568719e",
                            "version_major": 2,
                            "version_minor": 0
                        },
                        "text/plain": [
                            "Valid [6]:   0%|          | 0/258 [00:00<?, ?batch/s]"
                        ]
                    },
                    "metadata": {},
                    "output_type": "display_data"
                },
                {
                    "name": "stdout",
                    "output_type": "stream",
                    "text": [
                        "Epoch 7 [0/258] | Valid Loss: 0.6514 | Elapse: 0.05s\n",
                        "Epoch 7 [50/258] | Valid Loss: 0.7155 | Elapse: 2.48s\n",
                        "Epoch 7 [100/258] | Valid Loss: 0.6907 | Elapse: 5.02s\n",
                        "Epoch 7 [150/258] | Valid Loss: 0.7054 | Elapse: 7.62s\n",
                        "Epoch 7 [200/258] | Valid Loss: 0.6925 | Elapse: 10.24s\n",
                        "Epoch 7 [250/258] | Valid Loss: 0.6908 | Elapse: 12.86s\n"
                    ]
                },
                {
                    "name": "stderr",
                    "output_type": "stream",
                    "text": [
                        "----------------------------------------------------------------------------------------------------\n",
                        "Epoch 7 - Average Loss: (train) 0.2857; (valid) 0.6884 | Time: 43.34s\n"
                    ]
                },
                {
                    "name": "stdout",
                    "output_type": "stream",
                    "text": [
                        "Epoch 7 [257/258] | Valid Loss: 0.6884 | Elapse: 13.22s\n"
                    ]
                },
                {
                    "data": {
                        "application/vnd.jupyter.widget-view+json": {
                            "model_id": "c631453c423e4bcf939dc151e4355286",
                            "version_major": 2,
                            "version_minor": 0
                        },
                        "text/plain": [
                            "Train [7]:   0%|          | 0/386 [00:00<?, ?batch/s]"
                        ]
                    },
                    "metadata": {},
                    "output_type": "display_data"
                },
                {
                    "name": "stdout",
                    "output_type": "stream",
                    "text": [
                        "Epoch 8 [0/386] | Train Loss: 0.2788 Grad: 145894.0469 LR: 2.4952e-05 | Elapse: 0.09s\n",
                        "Epoch 8 [50/386] | Train Loss: 0.2688 Grad: 117830.8828 LR: 2.3023e-05 | Elapse: 4.00s\n",
                        "Epoch 8 [100/386] | Train Loss: 0.2710 Grad: 116811.0078 LR: 2.1149e-05 | Elapse: 7.98s\n",
                        "Epoch 8 [150/386] | Train Loss: 0.2658 Grad: 105251.6641 LR: 1.9335e-05 | Elapse: 12.11s\n",
                        "Epoch 8 [200/386] | Train Loss: 0.2642 Grad: 101706.5000 LR: 1.7583e-05 | Elapse: 16.31s\n",
                        "Epoch 8 [250/386] | Train Loss: 0.2661 Grad: 118653.8516 LR: 1.5897e-05 | Elapse: 20.26s\n",
                        "Epoch 8 [300/386] | Train Loss: 0.2686 Grad: 108342.6094 LR: 1.4282e-05 | Elapse: 24.18s\n",
                        "Epoch 8 [350/386] | Train Loss: 0.2685 Grad: 116808.7969 LR: 1.2739e-05 | Elapse: 28.10s\n",
                        "Epoch 8 [385/386] | Train Loss: 0.2674 Grad: 105975.7031 LR: 1.1704e-05 | Elapse: 30.84s\n"
                    ]
                },
                {
                    "data": {
                        "application/vnd.jupyter.widget-view+json": {
                            "model_id": "96ce5ee60a6f42ab956d67d994145a10",
                            "version_major": 2,
                            "version_minor": 0
                        },
                        "text/plain": [
                            "Valid [7]:   0%|          | 0/258 [00:00<?, ?batch/s]"
                        ]
                    },
                    "metadata": {},
                    "output_type": "display_data"
                },
                {
                    "name": "stdout",
                    "output_type": "stream",
                    "text": [
                        "Epoch 8 [0/258] | Valid Loss: 0.5977 | Elapse: 0.05s\n",
                        "Epoch 8 [50/258] | Valid Loss: 0.6653 | Elapse: 2.50s\n",
                        "Epoch 8 [100/258] | Valid Loss: 0.6566 | Elapse: 5.06s\n",
                        "Epoch 8 [150/258] | Valid Loss: 0.6819 | Elapse: 7.69s\n",
                        "Epoch 8 [200/258] | Valid Loss: 0.6709 | Elapse: 10.32s\n",
                        "Epoch 8 [250/258] | Valid Loss: 0.6675 | Elapse: 12.96s\n"
                    ]
                },
                {
                    "name": "stderr",
                    "output_type": "stream",
                    "text": [
                        "----------------------------------------------------------------------------------------------------\n",
                        "Epoch 8 - Average Loss: (train) 0.2674; (valid) 0.6641 | Time: 44.16s\n",
                        "Best model found in epoch 8 | valid loss: 0.6641\n"
                    ]
                },
                {
                    "name": "stdout",
                    "output_type": "stream",
                    "text": [
                        "Epoch 8 [257/258] | Valid Loss: 0.6641 | Elapse: 13.31s\n"
                    ]
                },
                {
                    "data": {
                        "application/vnd.jupyter.widget-view+json": {
                            "model_id": "08118f2d034e4a80bc369653ebbb6c1b",
                            "version_major": 2,
                            "version_minor": 0
                        },
                        "text/plain": [
                            "Train [8]:   0%|          | 0/386 [00:00<?, ?batch/s]"
                        ]
                    },
                    "metadata": {},
                    "output_type": "display_data"
                },
                {
                    "name": "stdout",
                    "output_type": "stream",
                    "text": [
                        "Epoch 9 [0/386] | Train Loss: 0.3659 Grad: 152162.2656 LR: 1.1675e-05 | Elapse: 0.09s\n",
                        "Epoch 9 [50/386] | Train Loss: 0.2569 Grad: 95803.0312 LR: 1.0265e-05 | Elapse: 3.98s\n",
                        "Epoch 9 [100/386] | Train Loss: 0.2624 Grad: 106002.4141 LR: 8.9367e-06 | Elapse: 7.87s\n",
                        "Epoch 9 [150/386] | Train Loss: 0.2550 Grad: 113593.3906 LR: 7.6921e-06 | Elapse: 11.79s\n",
                        "Epoch 9 [200/386] | Train Loss: 0.2542 Grad: 141738.9531 LR: 6.5341e-06 | Elapse: 15.70s\n",
                        "Epoch 9 [250/386] | Train Loss: 0.2552 Grad: 132714.1406 LR: 5.4649e-06 | Elapse: 19.59s\n",
                        "Epoch 9 [300/386] | Train Loss: 0.2573 Grad: 95858.0000 LR: 4.4869e-06 | Elapse: 23.55s\n",
                        "Epoch 9 [350/386] | Train Loss: 0.2560 Grad: 102344.5234 LR: 3.6019e-06 | Elapse: 27.48s\n",
                        "Epoch 9 [385/386] | Train Loss: 0.2562 Grad: 106731.3281 LR: 3.0387e-06 | Elapse: 30.21s\n"
                    ]
                },
                {
                    "data": {
                        "application/vnd.jupyter.widget-view+json": {
                            "model_id": "6c042372122048c1a851d899b84b60cd",
                            "version_major": 2,
                            "version_minor": 0
                        },
                        "text/plain": [
                            "Valid [8]:   0%|          | 0/258 [00:00<?, ?batch/s]"
                        ]
                    },
                    "metadata": {},
                    "output_type": "display_data"
                },
                {
                    "name": "stdout",
                    "output_type": "stream",
                    "text": [
                        "Epoch 9 [0/258] | Valid Loss: 0.5432 | Elapse: 0.05s\n",
                        "Epoch 9 [50/258] | Valid Loss: 0.6424 | Elapse: 2.55s\n",
                        "Epoch 9 [100/258] | Valid Loss: 0.6205 | Elapse: 5.17s\n",
                        "Epoch 9 [150/258] | Valid Loss: 0.6433 | Elapse: 7.84s\n",
                        "Epoch 9 [200/258] | Valid Loss: 0.6428 | Elapse: 10.51s\n",
                        "Epoch 9 [250/258] | Valid Loss: 0.6422 | Elapse: 13.19s\n"
                    ]
                },
                {
                    "name": "stderr",
                    "output_type": "stream",
                    "text": [
                        "----------------------------------------------------------------------------------------------------\n",
                        "Epoch 9 - Average Loss: (train) 0.2562; (valid) 0.6408 | Time: 43.76s\n",
                        "Best model found in epoch 9 | valid loss: 0.6408\n"
                    ]
                },
                {
                    "name": "stdout",
                    "output_type": "stream",
                    "text": [
                        "Epoch 9 [257/258] | Valid Loss: 0.6408 | Elapse: 13.55s\n"
                    ]
                },
                {
                    "data": {
                        "application/vnd.jupyter.widget-view+json": {
                            "model_id": "c4dbacc5fc0d4112bb5e6de0d0a9735f",
                            "version_major": 2,
                            "version_minor": 0
                        },
                        "text/plain": [
                            "Train [9]:   0%|          | 0/386 [00:00<?, ?batch/s]"
                        ]
                    },
                    "metadata": {},
                    "output_type": "display_data"
                },
                {
                    "name": "stdout",
                    "output_type": "stream",
                    "text": [
                        "Epoch 10 [0/386] | Train Loss: 0.3736 Grad: 180853.0156 LR: 3.0233e-06 | Elapse: 0.09s\n",
                        "Epoch 10 [50/386] | Train Loss: 0.2537 Grad: 87631.1250 LR: 2.3025e-06 | Elapse: 4.03s\n",
                        "Epoch 10 [100/386] | Train Loss: 0.2539 Grad: 72722.0469 LR: 1.6793e-06 | Elapse: 7.94s\n",
                        "Epoch 10 [150/386] | Train Loss: 0.2454 Grad: 109175.3594 LR: 1.1549e-06 | Elapse: 11.88s\n",
                        "Epoch 10 [200/386] | Train Loss: 0.2451 Grad: 125145.5391 LR: 7.3030e-07 | Elapse: 15.83s\n",
                        "Epoch 10 [250/386] | Train Loss: 0.2483 Grad: 129754.1172 LR: 4.0651e-07 | Elapse: 19.77s\n",
                        "Epoch 10 [300/386] | Train Loss: 0.2504 Grad: 130269.3984 LR: 1.8413e-07 | Elapse: 23.79s\n",
                        "Epoch 10 [350/386] | Train Loss: 0.2501 Grad: 129623.2344 LR: 6.3623e-08 | Elapse: 28.20s\n",
                        "Epoch 10 [385/386] | Train Loss: 0.2492 Grad: 137988.4219 LR: 4.0020e-08 | Elapse: 31.34s\n"
                    ]
                },
                {
                    "data": {
                        "application/vnd.jupyter.widget-view+json": {
                            "model_id": "75d22a54b7464c2aa07e77df7191625d",
                            "version_major": 2,
                            "version_minor": 0
                        },
                        "text/plain": [
                            "Valid [9]:   0%|          | 0/258 [00:00<?, ?batch/s]"
                        ]
                    },
                    "metadata": {},
                    "output_type": "display_data"
                },
                {
                    "name": "stdout",
                    "output_type": "stream",
                    "text": [
                        "Epoch 10 [0/258] | Valid Loss: 0.4740 | Elapse: 0.06s\n",
                        "Epoch 10 [50/258] | Valid Loss: 0.6536 | Elapse: 2.54s\n",
                        "Epoch 10 [100/258] | Valid Loss: 0.6301 | Elapse: 5.13s\n",
                        "Epoch 10 [150/258] | Valid Loss: 0.6494 | Elapse: 7.84s\n",
                        "Epoch 10 [200/258] | Valid Loss: 0.6435 | Elapse: 10.54s\n",
                        "Epoch 10 [250/258] | Valid Loss: 0.6430 | Elapse: 13.24s\n"
                    ]
                },
                {
                    "name": "stderr",
                    "output_type": "stream",
                    "text": [
                        "----------------------------------------------------------------------------------------------------\n",
                        "Epoch 10 - Average Loss: (train) 0.2492; (valid) 0.6419 | Time: 44.94s\n"
                    ]
                },
                {
                    "name": "stdout",
                    "output_type": "stream",
                    "text": [
                        "Epoch 10 [257/258] | Valid Loss: 0.6419 | Elapse: 13.60s\n"
                    ]
                },
                {
                    "name": "stderr",
                    "output_type": "stream",
                    "text": [
                        "====================================================================================================\n",
                        "Fold 2 Valid Loss: 0.6408082842826843\n",
                        "Elapse: 7.35 min \n",
                        "====================================================================================================\n"
                    ]
                },
                {
                    "name": "stdout",
                    "output_type": "stream",
                    "text": [
                        "Loading pretrained weights from facebook/vit-mae-base\n"
                    ]
                },
                {
                    "name": "stderr",
                    "output_type": "stream",
                    "text": [
                        "====================================================================================================\n",
                        "Fold: 3 || Valid size 3846 \n",
                        "====================================================================================================\n",
                        "- First Stage -\n"
                    ]
                },
                {
                    "data": {
                        "application/vnd.jupyter.widget-view+json": {
                            "model_id": "305646157b4948c9833f065fc271a93b",
                            "version_major": 2,
                            "version_minor": 0
                        },
                        "text/plain": [
                            "Train [0]:   0%|          | 0/1021 [00:00<?, ?batch/s]"
                        ]
                    },
                    "metadata": {},
                    "output_type": "display_data"
                },
                {
                    "name": "stdout",
                    "output_type": "stream",
                    "text": [
                        "Epoch 1 [0/1021] | Train Loss: 1.4363 Grad: 90275.3672 LR: 4.0002e-06 | Elapse: 0.10s\n",
                        "Epoch 1 [50/1021] | Train Loss: 1.4082 Grad: 142910.4844 LR: 4.5910e-06 | Elapse: 4.18s\n",
                        "Epoch 1 [100/1021] | Train Loss: 1.3700 Grad: 56706.1914 LR: 6.3038e-06 | Elapse: 8.15s\n",
                        "Epoch 1 [150/1021] | Train Loss: 1.3433 Grad: 124111.7656 LR: 9.0983e-06 | Elapse: 12.16s\n",
                        "Epoch 1 [200/1021] | Train Loss: 1.3228 Grad: 96501.2422 LR: 1.2908e-05 | Elapse: 16.05s\n",
                        "Epoch 1 [250/1021] | Train Loss: 1.3134 Grad: 78630.9688 LR: 1.7643e-05 | Elapse: 20.03s\n",
                        "Epoch 1 [300/1021] | Train Loss: 1.3059 Grad: 145312.9375 LR: 2.3192e-05 | Elapse: 23.94s\n",
                        "Epoch 1 [350/1021] | Train Loss: 1.3006 Grad: 123290.8672 LR: 2.9422e-05 | Elapse: 27.97s\n",
                        "Epoch 1 [400/1021] | Train Loss: 1.2900 Grad: 130184.0938 LR: 3.6186e-05 | Elapse: 31.89s\n",
                        "Epoch 1 [450/1021] | Train Loss: 1.2795 Grad: 163638.5938 LR: 4.3325e-05 | Elapse: 35.87s\n",
                        "Epoch 1 [500/1021] | Train Loss: 1.2665 Grad: 148163.2188 LR: 5.0670e-05 | Elapse: 39.78s\n",
                        "Epoch 1 [550/1021] | Train Loss: 1.2517 Grad: 236340.7969 LR: 5.8045e-05 | Elapse: 43.71s\n",
                        "Epoch 1 [600/1021] | Train Loss: 1.2395 Grad: 125146.3438 LR: 6.5278e-05 | Elapse: 47.61s\n",
                        "Epoch 1 [650/1021] | Train Loss: 1.2298 Grad: 293274.4375 LR: 7.2196e-05 | Elapse: 51.51s\n",
                        "Epoch 1 [700/1021] | Train Loss: 1.2164 Grad: 142676.8750 LR: 7.8637e-05 | Elapse: 55.44s\n",
                        "Epoch 1 [750/1021] | Train Loss: 1.2036 Grad: 393436.3125 LR: 8.4446e-05 | Elapse: 59.33s\n",
                        "Epoch 1 [800/1021] | Train Loss: 1.1931 Grad: 236799.6562 LR: 8.9488e-05 | Elapse: 63.24s\n",
                        "Epoch 1 [850/1021] | Train Loss: 1.1819 Grad: 159131.5781 LR: 9.3643e-05 | Elapse: 67.15s\n",
                        "Epoch 1 [900/1021] | Train Loss: 1.1698 Grad: 253765.0469 LR: 9.6812e-05 | Elapse: 71.05s\n",
                        "Epoch 1 [950/1021] | Train Loss: 1.1586 Grad: 170253.0625 LR: 9.8920e-05 | Elapse: 74.97s\n",
                        "Epoch 1 [1000/1021] | Train Loss: 1.1494 Grad: 114048.7891 LR: 9.9918e-05 | Elapse: 78.92s\n",
                        "Epoch 1 [1020/1021] | Train Loss: 1.1451 Grad: 114623.6250 LR: 1.0000e-04 | Elapse: 80.49s\n"
                    ]
                },
                {
                    "data": {
                        "application/vnd.jupyter.widget-view+json": {
                            "model_id": "34d476b1151d44568711c7d86d639180",
                            "version_major": 2,
                            "version_minor": 0
                        },
                        "text/plain": [
                            "Valid [0]:   0%|          | 0/241 [00:00<?, ?batch/s]"
                        ]
                    },
                    "metadata": {},
                    "output_type": "display_data"
                },
                {
                    "name": "stdout",
                    "output_type": "stream",
                    "text": [
                        "Epoch 1 [0/241] | Valid Loss: 0.8273 | Elapse: 0.06s\n",
                        "Epoch 1 [50/241] | Valid Loss: 0.9299 | Elapse: 2.51s\n",
                        "Epoch 1 [100/241] | Valid Loss: 0.9606 | Elapse: 5.07s\n",
                        "Epoch 1 [150/241] | Valid Loss: 0.9591 | Elapse: 7.68s\n",
                        "Epoch 1 [200/241] | Valid Loss: 0.9604 | Elapse: 10.31s\n"
                    ]
                },
                {
                    "name": "stderr",
                    "output_type": "stream",
                    "text": [
                        "----------------------------------------------------------------------------------------------------\n",
                        "Epoch 1 - Average Loss: (train) 1.1451; (valid) 0.9565 | Time: 92.88s\n",
                        "Best model found in epoch 1 | valid loss: 0.9565\n"
                    ]
                },
                {
                    "name": "stdout",
                    "output_type": "stream",
                    "text": [
                        "Epoch 1 [240/241] | Valid Loss: 0.9565 | Elapse: 12.39s\n"
                    ]
                },
                {
                    "data": {
                        "application/vnd.jupyter.widget-view+json": {
                            "model_id": "f85f5b093d7748c496476ef60c3029f7",
                            "version_major": 2,
                            "version_minor": 0
                        },
                        "text/plain": [
                            "Train [1]:   0%|          | 0/1021 [00:00<?, ?batch/s]"
                        ]
                    },
                    "metadata": {},
                    "output_type": "display_data"
                },
                {
                    "name": "stdout",
                    "output_type": "stream",
                    "text": [
                        "Epoch 2 [0/1021] | Train Loss: 0.8810 Grad: 147849.2031 LR: 1.0000e-04 | Elapse: 0.09s\n",
                        "Epoch 2 [50/1021] | Train Loss: 0.9545 Grad: 496942.7188 LR: 9.9992e-05 | Elapse: 3.99s\n",
                        "Epoch 2 [100/1021] | Train Loss: 0.9482 Grad: 203668.1562 LR: 9.9970e-05 | Elapse: 7.93s\n",
                        "Epoch 2 [150/1021] | Train Loss: 0.9500 Grad: 147336.9062 LR: 9.9933e-05 | Elapse: 11.83s\n",
                        "Epoch 2 [200/1021] | Train Loss: 0.9281 Grad: 117946.1875 LR: 9.9881e-05 | Elapse: 15.74s\n",
                        "Epoch 2 [250/1021] | Train Loss: 0.9315 Grad: 152349.1875 LR: 9.9815e-05 | Elapse: 19.66s\n",
                        "Epoch 2 [300/1021] | Train Loss: 0.9186 Grad: 138629.7656 LR: 9.9734e-05 | Elapse: 23.56s\n",
                        "Epoch 2 [350/1021] | Train Loss: 0.9134 Grad: 157279.7031 LR: 9.9639e-05 | Elapse: 27.46s\n",
                        "Epoch 2 [400/1021] | Train Loss: 0.9095 Grad: 192181.0625 LR: 9.9529e-05 | Elapse: 31.38s\n",
                        "Epoch 2 [450/1021] | Train Loss: 0.9061 Grad: 193060.8281 LR: 9.9404e-05 | Elapse: 35.31s\n",
                        "Epoch 2 [500/1021] | Train Loss: 0.9036 Grad: 186141.6719 LR: 9.9266e-05 | Elapse: 39.23s\n",
                        "Epoch 2 [550/1021] | Train Loss: 0.9013 Grad: 262206.9375 LR: 9.9113e-05 | Elapse: 43.14s\n",
                        "Epoch 2 [600/1021] | Train Loss: 0.8950 Grad: 192318.8125 LR: 9.8945e-05 | Elapse: 47.06s\n",
                        "Epoch 2 [650/1021] | Train Loss: 0.8918 Grad: 301191.6562 LR: 9.8763e-05 | Elapse: 51.01s\n",
                        "Epoch 2 [700/1021] | Train Loss: 0.8843 Grad: 214495.5938 LR: 9.8567e-05 | Elapse: 54.93s\n",
                        "Epoch 2 [750/1021] | Train Loss: 0.8787 Grad: 279620.2812 LR: 9.8357e-05 | Elapse: 58.83s\n",
                        "Epoch 2 [800/1021] | Train Loss: 0.8769 Grad: 158785.0469 LR: 9.8133e-05 | Elapse: 62.77s\n",
                        "Epoch 2 [850/1021] | Train Loss: 0.8725 Grad: 178068.5000 LR: 9.7895e-05 | Elapse: 66.67s\n",
                        "Epoch 2 [900/1021] | Train Loss: 0.8689 Grad: 138525.8750 LR: 9.7642e-05 | Elapse: 70.58s\n",
                        "Epoch 2 [950/1021] | Train Loss: 0.8641 Grad: 197132.5156 LR: 9.7376e-05 | Elapse: 74.49s\n",
                        "Epoch 2 [1000/1021] | Train Loss: 0.8602 Grad: 215471.2969 LR: 9.7096e-05 | Elapse: 78.43s\n",
                        "Epoch 2 [1020/1021] | Train Loss: 0.8584 Grad: 127950.3828 LR: 9.6980e-05 | Elapse: 79.99s\n"
                    ]
                },
                {
                    "data": {
                        "application/vnd.jupyter.widget-view+json": {
                            "model_id": "75a3b5abe2774140b21d112c4704f8b9",
                            "version_major": 2,
                            "version_minor": 0
                        },
                        "text/plain": [
                            "Valid [1]:   0%|          | 0/241 [00:00<?, ?batch/s]"
                        ]
                    },
                    "metadata": {},
                    "output_type": "display_data"
                },
                {
                    "name": "stdout",
                    "output_type": "stream",
                    "text": [
                        "Epoch 2 [0/241] | Valid Loss: 0.9206 | Elapse: 0.05s\n",
                        "Epoch 2 [50/241] | Valid Loss: 0.8165 | Elapse: 2.52s\n",
                        "Epoch 2 [100/241] | Valid Loss: 0.8439 | Elapse: 5.10s\n",
                        "Epoch 2 [150/241] | Valid Loss: 0.8459 | Elapse: 7.72s\n",
                        "Epoch 2 [200/241] | Valid Loss: 0.8611 | Elapse: 10.35s\n"
                    ]
                },
                {
                    "name": "stderr",
                    "output_type": "stream",
                    "text": [
                        "----------------------------------------------------------------------------------------------------\n",
                        "Epoch 2 - Average Loss: (train) 0.8584; (valid) 0.8560 | Time: 92.44s\n",
                        "Best model found in epoch 2 | valid loss: 0.8560\n"
                    ]
                },
                {
                    "name": "stdout",
                    "output_type": "stream",
                    "text": [
                        "Epoch 2 [240/241] | Valid Loss: 0.8560 | Elapse: 12.44s\n"
                    ]
                },
                {
                    "data": {
                        "application/vnd.jupyter.widget-view+json": {
                            "model_id": "a754aa06c8de4699b496811edbf6a5bb",
                            "version_major": 2,
                            "version_minor": 0
                        },
                        "text/plain": [
                            "Train [2]:   0%|          | 0/1021 [00:00<?, ?batch/s]"
                        ]
                    },
                    "metadata": {},
                    "output_type": "display_data"
                },
                {
                    "name": "stdout",
                    "output_type": "stream",
                    "text": [
                        "Epoch 3 [0/1021] | Train Loss: 0.7351 Grad: 175439.2812 LR: 9.6974e-05 | Elapse: 0.09s\n",
                        "Epoch 3 [50/1021] | Train Loss: 0.7848 Grad: 342702.7812 LR: 9.6675e-05 | Elapse: 4.05s\n",
                        "Epoch 3 [100/1021] | Train Loss: 0.7772 Grad: 173192.6094 LR: 9.6361e-05 | Elapse: 7.98s\n",
                        "Epoch 3 [150/1021] | Train Loss: 0.7747 Grad: 168898.7500 LR: 9.6035e-05 | Elapse: 11.90s\n",
                        "Epoch 3 [200/1021] | Train Loss: 0.7644 Grad: 143679.1562 LR: 9.5694e-05 | Elapse: 15.82s\n",
                        "Epoch 3 [250/1021] | Train Loss: 0.7712 Grad: 140676.2344 LR: 9.5341e-05 | Elapse: 19.72s\n",
                        "Epoch 3 [300/1021] | Train Loss: 0.7617 Grad: 203133.1562 LR: 9.4974e-05 | Elapse: 23.64s\n",
                        "Epoch 3 [350/1021] | Train Loss: 0.7638 Grad: 205033.7031 LR: 9.4594e-05 | Elapse: 27.59s\n",
                        "Epoch 3 [400/1021] | Train Loss: 0.7658 Grad: 160468.7656 LR: 9.4201e-05 | Elapse: 31.49s\n",
                        "Epoch 3 [450/1021] | Train Loss: 0.7668 Grad: 232901.5312 LR: 9.3795e-05 | Elapse: 35.45s\n",
                        "Epoch 3 [500/1021] | Train Loss: 0.7644 Grad: 205314.3906 LR: 9.3376e-05 | Elapse: 39.35s\n",
                        "Epoch 3 [550/1021] | Train Loss: 0.7666 Grad: 261742.6562 LR: 9.2945e-05 | Elapse: 43.26s\n",
                        "Epoch 3 [600/1021] | Train Loss: 0.7625 Grad: 169183.3125 LR: 9.2501e-05 | Elapse: 47.15s\n",
                        "Epoch 3 [650/1021] | Train Loss: 0.7613 Grad: 291084.1250 LR: 9.2045e-05 | Elapse: 51.05s\n",
                        "Epoch 3 [700/1021] | Train Loss: 0.7568 Grad: 149311.8750 LR: 9.1576e-05 | Elapse: 54.96s\n",
                        "Epoch 3 [750/1021] | Train Loss: 0.7547 Grad: 237931.9688 LR: 9.1096e-05 | Elapse: 58.86s\n",
                        "Epoch 3 [800/1021] | Train Loss: 0.7561 Grad: 160838.2031 LR: 9.0603e-05 | Elapse: 62.78s\n",
                        "Epoch 3 [850/1021] | Train Loss: 0.7558 Grad: 175941.5625 LR: 9.0098e-05 | Elapse: 66.71s\n",
                        "Epoch 3 [900/1021] | Train Loss: 0.7549 Grad: 128025.4531 LR: 8.9582e-05 | Elapse: 70.67s\n",
                        "Epoch 3 [950/1021] | Train Loss: 0.7521 Grad: 203936.1094 LR: 8.9054e-05 | Elapse: 74.57s\n",
                        "Epoch 3 [1000/1021] | Train Loss: 0.7507 Grad: 165905.3438 LR: 8.8515e-05 | Elapse: 78.47s\n",
                        "Epoch 3 [1020/1021] | Train Loss: 0.7497 Grad: 107614.8594 LR: 8.8296e-05 | Elapse: 80.04s\n"
                    ]
                },
                {
                    "data": {
                        "application/vnd.jupyter.widget-view+json": {
                            "model_id": "2e53e9f1861c406881fdfd1ffdd652c2",
                            "version_major": 2,
                            "version_minor": 0
                        },
                        "text/plain": [
                            "Valid [2]:   0%|          | 0/241 [00:00<?, ?batch/s]"
                        ]
                    },
                    "metadata": {},
                    "output_type": "display_data"
                },
                {
                    "name": "stdout",
                    "output_type": "stream",
                    "text": [
                        "Epoch 3 [0/241] | Valid Loss: 0.8517 | Elapse: 0.05s\n",
                        "Epoch 3 [50/241] | Valid Loss: 0.7312 | Elapse: 2.51s\n",
                        "Epoch 3 [100/241] | Valid Loss: 0.7350 | Elapse: 5.06s\n",
                        "Epoch 3 [150/241] | Valid Loss: 0.7414 | Elapse: 7.66s\n",
                        "Epoch 3 [200/241] | Valid Loss: 0.7568 | Elapse: 10.29s\n"
                    ]
                },
                {
                    "name": "stderr",
                    "output_type": "stream",
                    "text": [
                        "----------------------------------------------------------------------------------------------------\n",
                        "Epoch 3 - Average Loss: (train) 0.7497; (valid) 0.7541 | Time: 92.42s\n",
                        "Best model found in epoch 3 | valid loss: 0.7541\n"
                    ]
                },
                {
                    "name": "stdout",
                    "output_type": "stream",
                    "text": [
                        "Epoch 3 [240/241] | Valid Loss: 0.7541 | Elapse: 12.38s\n"
                    ]
                },
                {
                    "data": {
                        "application/vnd.jupyter.widget-view+json": {
                            "model_id": "733680955dba4dbda747b23accaab98b",
                            "version_major": 2,
                            "version_minor": 0
                        },
                        "text/plain": [
                            "Train [3]:   0%|          | 0/1021 [00:00<?, ?batch/s]"
                        ]
                    },
                    "metadata": {},
                    "output_type": "display_data"
                },
                {
                    "name": "stdout",
                    "output_type": "stream",
                    "text": [
                        "Epoch 4 [0/1021] | Train Loss: 0.6777 Grad: 158634.4375 LR: 8.8285e-05 | Elapse: 0.09s\n",
                        "Epoch 4 [50/1021] | Train Loss: 0.7013 Grad: 265486.0312 LR: 8.7730e-05 | Elapse: 4.01s\n",
                        "Epoch 4 [100/1021] | Train Loss: 0.6827 Grad: 186150.7031 LR: 8.7164e-05 | Elapse: 7.91s\n",
                        "Epoch 4 [150/1021] | Train Loss: 0.6861 Grad: 136492.8750 LR: 8.6586e-05 | Elapse: 11.83s\n",
                        "Epoch 4 [200/1021] | Train Loss: 0.6844 Grad: 145497.0000 LR: 8.5999e-05 | Elapse: 15.79s\n",
                        "Epoch 4 [250/1021] | Train Loss: 0.6908 Grad: 136117.4688 LR: 8.5400e-05 | Elapse: 19.76s\n",
                        "Epoch 4 [300/1021] | Train Loss: 0.6828 Grad: 171582.3281 LR: 8.4792e-05 | Elapse: 23.69s\n",
                        "Epoch 4 [350/1021] | Train Loss: 0.6812 Grad: 158153.8281 LR: 8.4173e-05 | Elapse: 27.60s\n",
                        "Epoch 4 [400/1021] | Train Loss: 0.6867 Grad: 184483.2188 LR: 8.3544e-05 | Elapse: 31.51s\n",
                        "Epoch 4 [450/1021] | Train Loss: 0.6874 Grad: 210490.4219 LR: 8.2906e-05 | Elapse: 35.46s\n",
                        "Epoch 4 [500/1021] | Train Loss: 0.6875 Grad: 172960.1875 LR: 8.2258e-05 | Elapse: 39.38s\n",
                        "Epoch 4 [550/1021] | Train Loss: 0.6923 Grad: 276003.3438 LR: 8.1600e-05 | Elapse: 43.29s\n",
                        "Epoch 4 [600/1021] | Train Loss: 0.6906 Grad: 184640.5781 LR: 8.0933e-05 | Elapse: 47.23s\n",
                        "Epoch 4 [650/1021] | Train Loss: 0.6892 Grad: 253547.8281 LR: 8.0257e-05 | Elapse: 51.16s\n",
                        "Epoch 4 [700/1021] | Train Loss: 0.6853 Grad: 113707.8438 LR: 7.9573e-05 | Elapse: 55.08s\n",
                        "Epoch 4 [750/1021] | Train Loss: 0.6842 Grad: 183562.8438 LR: 7.8879e-05 | Elapse: 58.98s\n",
                        "Epoch 4 [800/1021] | Train Loss: 0.6857 Grad: 173974.7500 LR: 7.8178e-05 | Elapse: 62.94s\n",
                        "Epoch 4 [850/1021] | Train Loss: 0.6859 Grad: 167302.5625 LR: 7.7468e-05 | Elapse: 66.87s\n",
                        "Epoch 4 [900/1021] | Train Loss: 0.6848 Grad: 244047.2812 LR: 7.6750e-05 | Elapse: 70.83s\n",
                        "Epoch 4 [950/1021] | Train Loss: 0.6826 Grad: 204079.0781 LR: 7.6024e-05 | Elapse: 74.76s\n",
                        "Epoch 4 [1000/1021] | Train Loss: 0.6819 Grad: 188090.7031 LR: 7.5291e-05 | Elapse: 78.71s\n",
                        "Epoch 4 [1020/1021] | Train Loss: 0.6817 Grad: 114193.2031 LR: 7.4995e-05 | Elapse: 80.28s\n"
                    ]
                },
                {
                    "data": {
                        "application/vnd.jupyter.widget-view+json": {
                            "model_id": "3c26cb6109e84a6fbcf61c72c630c906",
                            "version_major": 2,
                            "version_minor": 0
                        },
                        "text/plain": [
                            "Valid [3]:   0%|          | 0/241 [00:00<?, ?batch/s]"
                        ]
                    },
                    "metadata": {},
                    "output_type": "display_data"
                },
                {
                    "name": "stdout",
                    "output_type": "stream",
                    "text": [
                        "Epoch 4 [0/241] | Valid Loss: 0.7284 | Elapse: 0.05s\n",
                        "Epoch 4 [50/241] | Valid Loss: 0.6905 | Elapse: 2.51s\n",
                        "Epoch 4 [100/241] | Valid Loss: 0.6979 | Elapse: 5.08s\n",
                        "Epoch 4 [150/241] | Valid Loss: 0.7015 | Elapse: 7.71s\n",
                        "Epoch 4 [200/241] | Valid Loss: 0.7094 | Elapse: 10.35s\n"
                    ]
                },
                {
                    "name": "stderr",
                    "output_type": "stream",
                    "text": [
                        "----------------------------------------------------------------------------------------------------\n",
                        "Epoch 4 - Average Loss: (train) 0.6817; (valid) 0.7102 | Time: 92.72s\n",
                        "Best model found in epoch 4 | valid loss: 0.7102\n"
                    ]
                },
                {
                    "name": "stdout",
                    "output_type": "stream",
                    "text": [
                        "Epoch 4 [240/241] | Valid Loss: 0.7102 | Elapse: 12.44s\n"
                    ]
                },
                {
                    "data": {
                        "application/vnd.jupyter.widget-view+json": {
                            "model_id": "aa857ca066514f23816f0e62623623d6",
                            "version_major": 2,
                            "version_minor": 0
                        },
                        "text/plain": [
                            "Train [4]:   0%|          | 0/1021 [00:00<?, ?batch/s]"
                        ]
                    },
                    "metadata": {},
                    "output_type": "display_data"
                },
                {
                    "name": "stdout",
                    "output_type": "stream",
                    "text": [
                        "Epoch 5 [0/1021] | Train Loss: 0.5287 Grad: 116040.0859 LR: 7.4980e-05 | Elapse: 0.09s\n",
                        "Epoch 5 [50/1021] | Train Loss: 0.6425 Grad: 282623.6562 LR: 7.4237e-05 | Elapse: 4.03s\n",
                        "Epoch 5 [100/1021] | Train Loss: 0.6245 Grad: 180928.3125 LR: 7.3486e-05 | Elapse: 7.96s\n",
                        "Epoch 5 [150/1021] | Train Loss: 0.6340 Grad: 258129.9688 LR: 7.2728e-05 | Elapse: 11.94s\n",
                        "Epoch 5 [200/1021] | Train Loss: 0.6313 Grad: 171548.7031 LR: 7.1964e-05 | Elapse: 15.83s\n",
                        "Epoch 5 [250/1021] | Train Loss: 0.6372 Grad: 157538.8594 LR: 7.1193e-05 | Elapse: 19.72s\n",
                        "Epoch 5 [300/1021] | Train Loss: 0.6278 Grad: 168760.5312 LR: 7.0416e-05 | Elapse: 23.62s\n",
                        "Epoch 5 [350/1021] | Train Loss: 0.6283 Grad: 164481.3438 LR: 6.9633e-05 | Elapse: 27.52s\n",
                        "Epoch 5 [400/1021] | Train Loss: 0.6263 Grad: 146960.1562 LR: 6.8844e-05 | Elapse: 31.41s\n",
                        "Epoch 5 [450/1021] | Train Loss: 0.6288 Grad: 190671.3438 LR: 6.8050e-05 | Elapse: 35.30s\n",
                        "Epoch 5 [500/1021] | Train Loss: 0.6286 Grad: 206232.1875 LR: 6.7251e-05 | Elapse: 39.21s\n",
                        "Epoch 5 [550/1021] | Train Loss: 0.6339 Grad: 223187.2812 LR: 6.6446e-05 | Elapse: 43.14s\n",
                        "Epoch 5 [600/1021] | Train Loss: 0.6350 Grad: 205869.9375 LR: 6.5637e-05 | Elapse: 47.06s\n",
                        "Epoch 5 [650/1021] | Train Loss: 0.6335 Grad: 350592.0938 LR: 6.4823e-05 | Elapse: 50.99s\n",
                        "Epoch 5 [700/1021] | Train Loss: 0.6295 Grad: 185450.5156 LR: 6.4005e-05 | Elapse: 54.92s\n",
                        "Epoch 5 [750/1021] | Train Loss: 0.6305 Grad: 142434.6719 LR: 6.3183e-05 | Elapse: 58.85s\n",
                        "Epoch 5 [800/1021] | Train Loss: 0.6323 Grad: 160081.5156 LR: 6.2356e-05 | Elapse: 62.75s\n",
                        "Epoch 5 [850/1021] | Train Loss: 0.6352 Grad: 167219.0625 LR: 6.1527e-05 | Elapse: 66.73s\n",
                        "Epoch 5 [900/1021] | Train Loss: 0.6322 Grad: 176505.5000 LR: 6.0694e-05 | Elapse: 70.67s\n",
                        "Epoch 5 [950/1021] | Train Loss: 0.6299 Grad: 197921.6406 LR: 5.9858e-05 | Elapse: 74.62s\n",
                        "Epoch 5 [1000/1021] | Train Loss: 0.6285 Grad: 207670.2969 LR: 5.9018e-05 | Elapse: 78.60s\n",
                        "Epoch 5 [1020/1021] | Train Loss: 0.6290 Grad: 123111.7734 LR: 5.8682e-05 | Elapse: 80.15s\n"
                    ]
                },
                {
                    "data": {
                        "application/vnd.jupyter.widget-view+json": {
                            "model_id": "d3dbc19c6f7c47cc9ad681c0b030988e",
                            "version_major": 2,
                            "version_minor": 0
                        },
                        "text/plain": [
                            "Valid [4]:   0%|          | 0/241 [00:00<?, ?batch/s]"
                        ]
                    },
                    "metadata": {},
                    "output_type": "display_data"
                },
                {
                    "name": "stdout",
                    "output_type": "stream",
                    "text": [
                        "Epoch 5 [0/241] | Valid Loss: 0.7662 | Elapse: 0.05s\n",
                        "Epoch 5 [50/241] | Valid Loss: 0.6927 | Elapse: 2.51s\n",
                        "Epoch 5 [100/241] | Valid Loss: 0.6851 | Elapse: 5.07s\n",
                        "Epoch 5 [150/241] | Valid Loss: 0.6834 | Elapse: 7.75s\n",
                        "Epoch 5 [200/241] | Valid Loss: 0.6939 | Elapse: 10.47s\n"
                    ]
                },
                {
                    "name": "stderr",
                    "output_type": "stream",
                    "text": [
                        "----------------------------------------------------------------------------------------------------\n",
                        "Epoch 5 - Average Loss: (train) 0.6290; (valid) 0.6964 | Time: 92.84s\n",
                        "Best model found in epoch 5 | valid loss: 0.6964\n"
                    ]
                },
                {
                    "name": "stdout",
                    "output_type": "stream",
                    "text": [
                        "Epoch 5 [240/241] | Valid Loss: 0.6964 | Elapse: 12.69s\n"
                    ]
                },
                {
                    "data": {
                        "application/vnd.jupyter.widget-view+json": {
                            "model_id": "5adc295fd95c45feb4d1c75bbe4a94d6",
                            "version_major": 2,
                            "version_minor": 0
                        },
                        "text/plain": [
                            "Train [5]:   0%|          | 0/1021 [00:00<?, ?batch/s]"
                        ]
                    },
                    "metadata": {},
                    "output_type": "display_data"
                },
                {
                    "name": "stdout",
                    "output_type": "stream",
                    "text": [
                        "Epoch 6 [0/1021] | Train Loss: 0.5565 Grad: 131663.6562 LR: 5.8665e-05 | Elapse: 0.10s\n",
                        "Epoch 6 [50/1021] | Train Loss: 0.6101 Grad: 88688.6875 LR: 5.7823e-05 | Elapse: 4.41s\n",
                        "Epoch 6 [100/1021] | Train Loss: 0.5849 Grad: 160819.9219 LR: 5.6978e-05 | Elapse: 8.91s\n",
                        "Epoch 6 [150/1021] | Train Loss: 0.5920 Grad: 204461.7031 LR: 5.6131e-05 | Elapse: 13.35s\n",
                        "Epoch 6 [200/1021] | Train Loss: 0.5915 Grad: 158938.7969 LR: 5.5282e-05 | Elapse: 17.42s\n",
                        "Epoch 6 [250/1021] | Train Loss: 0.5953 Grad: 144141.6562 LR: 5.4431e-05 | Elapse: 21.41s\n",
                        "Epoch 6 [300/1021] | Train Loss: 0.5866 Grad: 187924.0625 LR: 5.3580e-05 | Elapse: 25.34s\n",
                        "Epoch 6 [350/1021] | Train Loss: 0.5849 Grad: 215752.8906 LR: 5.2727e-05 | Elapse: 29.29s\n",
                        "Epoch 6 [400/1021] | Train Loss: 0.5837 Grad: 144610.3438 LR: 5.1874e-05 | Elapse: 33.25s\n",
                        "Epoch 6 [450/1021] | Train Loss: 0.5837 Grad: 251339.9219 LR: 5.1020e-05 | Elapse: 37.18s\n",
                        "Epoch 6 [500/1021] | Train Loss: 0.5824 Grad: 206292.7344 LR: 5.0165e-05 | Elapse: 41.12s\n",
                        "Epoch 6 [550/1021] | Train Loss: 0.5852 Grad: 238960.1094 LR: 4.9311e-05 | Elapse: 45.09s\n",
                        "Epoch 6 [600/1021] | Train Loss: 0.5842 Grad: 173028.3750 LR: 4.8457e-05 | Elapse: 49.02s\n",
                        "Epoch 6 [650/1021] | Train Loss: 0.5832 Grad: 325203.5000 LR: 4.7603e-05 | Elapse: 52.95s\n",
                        "Epoch 6 [700/1021] | Train Loss: 0.5780 Grad: 147859.8906 LR: 4.6750e-05 | Elapse: 56.88s\n",
                        "Epoch 6 [750/1021] | Train Loss: 0.5775 Grad: 118534.4219 LR: 4.5898e-05 | Elapse: 60.77s\n",
                        "Epoch 6 [800/1021] | Train Loss: 0.5810 Grad: 167673.1406 LR: 4.5047e-05 | Elapse: 64.76s\n",
                        "Epoch 6 [850/1021] | Train Loss: 0.5825 Grad: 146710.6094 LR: 4.4198e-05 | Elapse: 68.88s\n",
                        "Epoch 6 [900/1021] | Train Loss: 0.5824 Grad: 165165.1719 LR: 4.3350e-05 | Elapse: 72.91s\n",
                        "Epoch 6 [950/1021] | Train Loss: 0.5800 Grad: 244903.0625 LR: 4.2504e-05 | Elapse: 77.00s\n",
                        "Epoch 6 [1000/1021] | Train Loss: 0.5792 Grad: 227741.5469 LR: 4.1661e-05 | Elapse: 80.93s\n",
                        "Epoch 6 [1020/1021] | Train Loss: 0.5788 Grad: 121489.3281 LR: 4.1324e-05 | Elapse: 82.50s\n"
                    ]
                },
                {
                    "data": {
                        "application/vnd.jupyter.widget-view+json": {
                            "model_id": "32288a9170194ea89b6c75c2499b4ec7",
                            "version_major": 2,
                            "version_minor": 0
                        },
                        "text/plain": [
                            "Valid [5]:   0%|          | 0/241 [00:00<?, ?batch/s]"
                        ]
                    },
                    "metadata": {},
                    "output_type": "display_data"
                },
                {
                    "name": "stdout",
                    "output_type": "stream",
                    "text": [
                        "Epoch 6 [0/241] | Valid Loss: 0.6016 | Elapse: 0.05s\n",
                        "Epoch 6 [50/241] | Valid Loss: 0.6180 | Elapse: 2.58s\n",
                        "Epoch 6 [100/241] | Valid Loss: 0.6078 | Elapse: 5.22s\n",
                        "Epoch 6 [150/241] | Valid Loss: 0.6236 | Elapse: 7.88s\n",
                        "Epoch 6 [200/241] | Valid Loss: 0.6433 | Elapse: 10.57s\n"
                    ]
                },
                {
                    "name": "stderr",
                    "output_type": "stream",
                    "text": [
                        "----------------------------------------------------------------------------------------------------\n",
                        "Epoch 6 - Average Loss: (train) 0.5788; (valid) 0.6438 | Time: 95.18s\n",
                        "Best model found in epoch 6 | valid loss: 0.6438\n"
                    ]
                },
                {
                    "name": "stdout",
                    "output_type": "stream",
                    "text": [
                        "Epoch 6 [240/241] | Valid Loss: 0.6438 | Elapse: 12.68s\n"
                    ]
                },
                {
                    "data": {
                        "application/vnd.jupyter.widget-view+json": {
                            "model_id": "ac8d67f3516a40b083c2913223235beb",
                            "version_major": 2,
                            "version_minor": 0
                        },
                        "text/plain": [
                            "Train [6]:   0%|          | 0/1021 [00:00<?, ?batch/s]"
                        ]
                    },
                    "metadata": {},
                    "output_type": "display_data"
                },
                {
                    "name": "stdout",
                    "output_type": "stream",
                    "text": [
                        "Epoch 7 [0/1021] | Train Loss: 0.5172 Grad: 166335.8281 LR: 4.1307e-05 | Elapse: 0.09s\n",
                        "Epoch 7 [50/1021] | Train Loss: 0.5694 Grad: 126256.5234 LR: 4.0467e-05 | Elapse: 4.05s\n",
                        "Epoch 7 [100/1021] | Train Loss: 0.5510 Grad: 188768.0156 LR: 3.9630e-05 | Elapse: 7.96s\n",
                        "Epoch 7 [150/1021] | Train Loss: 0.5515 Grad: 209837.3125 LR: 3.8796e-05 | Elapse: 11.92s\n",
                        "Epoch 7 [200/1021] | Train Loss: 0.5507 Grad: 135381.8281 LR: 3.7965e-05 | Elapse: 15.87s\n",
                        "Epoch 7 [250/1021] | Train Loss: 0.5533 Grad: 182590.4219 LR: 3.7138e-05 | Elapse: 19.87s\n",
                        "Epoch 7 [300/1021] | Train Loss: 0.5440 Grad: 214677.7656 LR: 3.6314e-05 | Elapse: 23.83s\n",
                        "Epoch 7 [350/1021] | Train Loss: 0.5415 Grad: 122599.5312 LR: 3.5495e-05 | Elapse: 27.78s\n",
                        "Epoch 7 [400/1021] | Train Loss: 0.5428 Grad: 190017.1250 LR: 3.4679e-05 | Elapse: 31.79s\n",
                        "Epoch 7 [450/1021] | Train Loss: 0.5418 Grad: 227674.9844 LR: 3.3869e-05 | Elapse: 35.78s\n",
                        "Epoch 7 [500/1021] | Train Loss: 0.5427 Grad: 147763.4219 LR: 3.3062e-05 | Elapse: 39.72s\n",
                        "Epoch 7 [550/1021] | Train Loss: 0.5456 Grad: 200159.9219 LR: 3.2261e-05 | Elapse: 43.73s\n",
                        "Epoch 7 [600/1021] | Train Loss: 0.5438 Grad: 200062.0781 LR: 3.1465e-05 | Elapse: 47.69s\n",
                        "Epoch 7 [650/1021] | Train Loss: 0.5441 Grad: 421583.5000 LR: 3.0675e-05 | Elapse: 51.64s\n",
                        "Epoch 7 [700/1021] | Train Loss: 0.5399 Grad: 162061.3125 LR: 2.9890e-05 | Elapse: 55.61s\n",
                        "Epoch 7 [750/1021] | Train Loss: 0.5403 Grad: 119836.0078 LR: 2.9111e-05 | Elapse: 59.57s\n",
                        "Epoch 7 [800/1021] | Train Loss: 0.5417 Grad: 193700.3281 LR: 2.8338e-05 | Elapse: 63.51s\n",
                        "Epoch 7 [850/1021] | Train Loss: 0.5442 Grad: 147026.1719 LR: 2.7571e-05 | Elapse: 67.45s\n",
                        "Epoch 7 [900/1021] | Train Loss: 0.5436 Grad: 150513.2812 LR: 2.6811e-05 | Elapse: 71.42s\n",
                        "Epoch 7 [950/1021] | Train Loss: 0.5404 Grad: 317664.1562 LR: 2.6058e-05 | Elapse: 75.42s\n",
                        "Epoch 7 [1000/1021] | Train Loss: 0.5395 Grad: 331602.9688 LR: 2.5312e-05 | Elapse: 79.38s\n",
                        "Epoch 7 [1020/1021] | Train Loss: 0.5396 Grad: 251055.1406 LR: 2.5015e-05 | Elapse: 81.00s\n"
                    ]
                },
                {
                    "data": {
                        "application/vnd.jupyter.widget-view+json": {
                            "model_id": "2fa2bf4e1949411a81dda81cf2b9e732",
                            "version_major": 2,
                            "version_minor": 0
                        },
                        "text/plain": [
                            "Valid [6]:   0%|          | 0/241 [00:00<?, ?batch/s]"
                        ]
                    },
                    "metadata": {},
                    "output_type": "display_data"
                },
                {
                    "name": "stdout",
                    "output_type": "stream",
                    "text": [
                        "Epoch 7 [0/241] | Valid Loss: 0.5954 | Elapse: 0.05s\n",
                        "Epoch 7 [50/241] | Valid Loss: 0.6395 | Elapse: 2.56s\n",
                        "Epoch 7 [100/241] | Valid Loss: 0.6293 | Elapse: 5.16s\n",
                        "Epoch 7 [150/241] | Valid Loss: 0.6270 | Elapse: 7.82s\n",
                        "Epoch 7 [200/241] | Valid Loss: 0.6418 | Elapse: 10.51s\n"
                    ]
                },
                {
                    "name": "stderr",
                    "output_type": "stream",
                    "text": [
                        "----------------------------------------------------------------------------------------------------\n",
                        "Epoch 7 - Average Loss: (train) 0.5396; (valid) 0.6465 | Time: 93.65s\n"
                    ]
                },
                {
                    "name": "stdout",
                    "output_type": "stream",
                    "text": [
                        "Epoch 7 [240/241] | Valid Loss: 0.6465 | Elapse: 12.64s\n"
                    ]
                },
                {
                    "data": {
                        "application/vnd.jupyter.widget-view+json": {
                            "model_id": "5a6ccf5ea3ae4f878a7aa7a2f3612c70",
                            "version_major": 2,
                            "version_minor": 0
                        },
                        "text/plain": [
                            "Train [7]:   0%|          | 0/1021 [00:00<?, ?batch/s]"
                        ]
                    },
                    "metadata": {},
                    "output_type": "display_data"
                },
                {
                    "name": "stdout",
                    "output_type": "stream",
                    "text": [
                        "Epoch 8 [0/1021] | Train Loss: 0.5236 Grad: 163475.0000 LR: 2.5000e-05 | Elapse: 0.09s\n",
                        "Epoch 8 [50/1021] | Train Loss: 0.5123 Grad: 113468.5859 LR: 2.4264e-05 | Elapse: 4.06s\n",
                        "Epoch 8 [100/1021] | Train Loss: 0.4948 Grad: 155307.0781 LR: 2.3536e-05 | Elapse: 8.11s\n",
                        "Epoch 8 [150/1021] | Train Loss: 0.4973 Grad: 235042.1094 LR: 2.2815e-05 | Elapse: 12.10s\n",
                        "Epoch 8 [200/1021] | Train Loss: 0.5013 Grad: 175497.6719 LR: 2.2103e-05 | Elapse: 16.06s\n",
                        "Epoch 8 [250/1021] | Train Loss: 0.5084 Grad: 183663.0156 LR: 2.1398e-05 | Elapse: 20.01s\n",
                        "Epoch 8 [300/1021] | Train Loss: 0.4999 Grad: 221374.6406 LR: 2.0702e-05 | Elapse: 24.05s\n",
                        "Epoch 8 [350/1021] | Train Loss: 0.4949 Grad: 149998.6875 LR: 2.0014e-05 | Elapse: 28.00s\n",
                        "Epoch 8 [400/1021] | Train Loss: 0.4963 Grad: 172797.8594 LR: 1.9335e-05 | Elapse: 31.93s\n",
                        "Epoch 8 [450/1021] | Train Loss: 0.4974 Grad: 276556.0938 LR: 1.8666e-05 | Elapse: 35.88s\n",
                        "Epoch 8 [500/1021] | Train Loss: 0.4984 Grad: 183716.3438 LR: 1.8005e-05 | Elapse: 39.78s\n",
                        "Epoch 8 [550/1021] | Train Loss: 0.5018 Grad: 179375.9062 LR: 1.7354e-05 | Elapse: 43.70s\n",
                        "Epoch 8 [600/1021] | Train Loss: 0.5011 Grad: 191969.4844 LR: 1.6712e-05 | Elapse: 47.61s\n",
                        "Epoch 8 [650/1021] | Train Loss: 0.5009 Grad: 268400.7812 LR: 1.6080e-05 | Elapse: 51.52s\n",
                        "Epoch 8 [700/1021] | Train Loss: 0.4963 Grad: 166359.5625 LR: 1.5457e-05 | Elapse: 55.53s\n",
                        "Epoch 8 [750/1021] | Train Loss: 0.4975 Grad: 133531.6406 LR: 1.4845e-05 | Elapse: 59.45s\n",
                        "Epoch 8 [800/1021] | Train Loss: 0.4985 Grad: 143868.4688 LR: 1.4244e-05 | Elapse: 63.37s\n",
                        "Epoch 8 [850/1021] | Train Loss: 0.5005 Grad: 224727.5469 LR: 1.3652e-05 | Elapse: 67.30s\n",
                        "Epoch 8 [900/1021] | Train Loss: 0.5003 Grad: 173350.7188 LR: 1.3071e-05 | Elapse: 71.30s\n",
                        "Epoch 8 [950/1021] | Train Loss: 0.5000 Grad: 262456.5000 LR: 1.2502e-05 | Elapse: 75.33s\n",
                        "Epoch 8 [1000/1021] | Train Loss: 0.4997 Grad: 200393.6406 LR: 1.1943e-05 | Elapse: 79.26s\n",
                        "Epoch 8 [1020/1021] | Train Loss: 0.4990 Grad: 153038.7500 LR: 1.1722e-05 | Elapse: 80.83s\n"
                    ]
                },
                {
                    "data": {
                        "application/vnd.jupyter.widget-view+json": {
                            "model_id": "bd177ad151bb46ba88da6295456e59e0",
                            "version_major": 2,
                            "version_minor": 0
                        },
                        "text/plain": [
                            "Valid [7]:   0%|          | 0/241 [00:00<?, ?batch/s]"
                        ]
                    },
                    "metadata": {},
                    "output_type": "display_data"
                },
                {
                    "name": "stdout",
                    "output_type": "stream",
                    "text": [
                        "Epoch 8 [0/241] | Valid Loss: 0.6835 | Elapse: 0.05s\n",
                        "Epoch 8 [50/241] | Valid Loss: 0.6266 | Elapse: 2.51s\n",
                        "Epoch 8 [100/241] | Valid Loss: 0.6267 | Elapse: 5.07s\n",
                        "Epoch 8 [150/241] | Valid Loss: 0.6252 | Elapse: 7.69s\n",
                        "Epoch 8 [200/241] | Valid Loss: 0.6357 | Elapse: 10.33s\n"
                    ]
                },
                {
                    "name": "stderr",
                    "output_type": "stream",
                    "text": [
                        "----------------------------------------------------------------------------------------------------\n",
                        "Epoch 8 - Average Loss: (train) 0.4990; (valid) 0.6428 | Time: 93.24s\n",
                        "Best model found in epoch 8 | valid loss: 0.6428\n"
                    ]
                },
                {
                    "name": "stdout",
                    "output_type": "stream",
                    "text": [
                        "Epoch 8 [240/241] | Valid Loss: 0.6428 | Elapse: 12.41s\n"
                    ]
                },
                {
                    "data": {
                        "application/vnd.jupyter.widget-view+json": {
                            "model_id": "4b34745aeefb480781f8ccdffca50649",
                            "version_major": 2,
                            "version_minor": 0
                        },
                        "text/plain": [
                            "Train [8]:   0%|          | 0/1021 [00:00<?, ?batch/s]"
                        ]
                    },
                    "metadata": {},
                    "output_type": "display_data"
                },
                {
                    "name": "stdout",
                    "output_type": "stream",
                    "text": [
                        "Epoch 9 [0/1021] | Train Loss: 0.5940 Grad: 224162.3125 LR: 1.1711e-05 | Elapse: 0.09s\n",
                        "Epoch 9 [50/1021] | Train Loss: 0.4841 Grad: 118066.2109 LR: 1.1168e-05 | Elapse: 4.06s\n",
                        "Epoch 9 [100/1021] | Train Loss: 0.4648 Grad: 188271.9688 LR: 1.0636e-05 | Elapse: 8.01s\n",
                        "Epoch 9 [150/1021] | Train Loss: 0.4706 Grad: 245447.3125 LR: 1.0116e-05 | Elapse: 11.93s\n",
                        "Epoch 9 [200/1021] | Train Loss: 0.4729 Grad: 202911.0625 LR: 9.6074e-06 | Elapse: 15.85s\n",
                        "Epoch 9 [250/1021] | Train Loss: 0.4804 Grad: 249330.3281 LR: 9.1107e-06 | Elapse: 19.77s\n",
                        "Epoch 9 [300/1021] | Train Loss: 0.4740 Grad: 218882.1406 LR: 8.6258e-06 | Elapse: 23.69s\n",
                        "Epoch 9 [350/1021] | Train Loss: 0.4703 Grad: 133204.1875 LR: 8.1531e-06 | Elapse: 27.63s\n",
                        "Epoch 9 [400/1021] | Train Loss: 0.4709 Grad: 190790.6406 LR: 7.6926e-06 | Elapse: 31.54s\n",
                        "Epoch 9 [450/1021] | Train Loss: 0.4725 Grad: 278265.5625 LR: 7.2445e-06 | Elapse: 35.48s\n",
                        "Epoch 9 [500/1021] | Train Loss: 0.4727 Grad: 197265.8438 LR: 6.8089e-06 | Elapse: 39.44s\n",
                        "Epoch 9 [550/1021] | Train Loss: 0.4746 Grad: 218844.9844 LR: 6.3859e-06 | Elapse: 43.46s\n",
                        "Epoch 9 [600/1021] | Train Loss: 0.4730 Grad: 232515.9219 LR: 5.9756e-06 | Elapse: 47.91s\n",
                        "Epoch 9 [650/1021] | Train Loss: 0.4720 Grad: 304956.1250 LR: 5.5782e-06 | Elapse: 51.98s\n",
                        "Epoch 9 [700/1021] | Train Loss: 0.4690 Grad: 192635.9375 LR: 5.1938e-06 | Elapse: 55.94s\n",
                        "Epoch 9 [750/1021] | Train Loss: 0.4701 Grad: 167512.7031 LR: 4.8225e-06 | Elapse: 59.89s\n",
                        "Epoch 9 [800/1021] | Train Loss: 0.4727 Grad: 153853.5312 LR: 4.4644e-06 | Elapse: 63.79s\n",
                        "Epoch 9 [850/1021] | Train Loss: 0.4742 Grad: 144258.8125 LR: 4.1197e-06 | Elapse: 67.70s\n",
                        "Epoch 9 [900/1021] | Train Loss: 0.4748 Grad: 233439.5469 LR: 3.7883e-06 | Elapse: 71.59s\n",
                        "Epoch 9 [950/1021] | Train Loss: 0.4733 Grad: 340143.3125 LR: 3.4704e-06 | Elapse: 75.48s\n",
                        "Epoch 9 [1000/1021] | Train Loss: 0.4729 Grad: 248887.9219 LR: 3.1662e-06 | Elapse: 79.40s\n",
                        "Epoch 9 [1020/1021] | Train Loss: 0.4734 Grad: 117820.4141 LR: 3.0483e-06 | Elapse: 80.97s\n"
                    ]
                },
                {
                    "data": {
                        "application/vnd.jupyter.widget-view+json": {
                            "model_id": "1d8f19db0978456a9706ba9373f3f3ef",
                            "version_major": 2,
                            "version_minor": 0
                        },
                        "text/plain": [
                            "Valid [8]:   0%|          | 0/241 [00:00<?, ?batch/s]"
                        ]
                    },
                    "metadata": {},
                    "output_type": "display_data"
                },
                {
                    "name": "stdout",
                    "output_type": "stream",
                    "text": [
                        "Epoch 9 [0/241] | Valid Loss: 0.7471 | Elapse: 0.05s\n",
                        "Epoch 9 [50/241] | Valid Loss: 0.6274 | Elapse: 2.49s\n",
                        "Epoch 9 [100/241] | Valid Loss: 0.6331 | Elapse: 5.04s\n",
                        "Epoch 9 [150/241] | Valid Loss: 0.6348 | Elapse: 7.65s\n",
                        "Epoch 9 [200/241] | Valid Loss: 0.6411 | Elapse: 10.32s\n"
                    ]
                },
                {
                    "name": "stderr",
                    "output_type": "stream",
                    "text": [
                        "----------------------------------------------------------------------------------------------------\n",
                        "Epoch 9 - Average Loss: (train) 0.4734; (valid) 0.6476 | Time: 93.48s\n"
                    ]
                },
                {
                    "name": "stdout",
                    "output_type": "stream",
                    "text": [
                        "Epoch 9 [240/241] | Valid Loss: 0.6476 | Elapse: 12.51s\n"
                    ]
                },
                {
                    "data": {
                        "application/vnd.jupyter.widget-view+json": {
                            "model_id": "462bf7038e72478fa84c988a8b7d1911",
                            "version_major": 2,
                            "version_minor": 0
                        },
                        "text/plain": [
                            "Train [9]:   0%|          | 0/1021 [00:00<?, ?batch/s]"
                        ]
                    },
                    "metadata": {},
                    "output_type": "display_data"
                },
                {
                    "name": "stdout",
                    "output_type": "stream",
                    "text": [
                        "Epoch 10 [0/1021] | Train Loss: 0.4545 Grad: 183815.8906 LR: 3.0425e-06 | Elapse: 0.09s\n",
                        "Epoch 10 [50/1021] | Train Loss: 0.4618 Grad: 119827.2578 LR: 2.7577e-06 | Elapse: 4.09s\n",
                        "Epoch 10 [100/1021] | Train Loss: 0.4465 Grad: 328485.6875 LR: 2.4867e-06 | Elapse: 8.05s\n",
                        "Epoch 10 [150/1021] | Train Loss: 0.4527 Grad: 306012.2500 LR: 2.2296e-06 | Elapse: 11.99s\n",
                        "Epoch 10 [200/1021] | Train Loss: 0.4537 Grad: 159751.7344 LR: 1.9865e-06 | Elapse: 15.99s\n",
                        "Epoch 10 [250/1021] | Train Loss: 0.4613 Grad: 194009.4062 LR: 1.7574e-06 | Elapse: 19.93s\n",
                        "Epoch 10 [300/1021] | Train Loss: 0.4543 Grad: 192733.7812 LR: 1.5424e-06 | Elapse: 23.86s\n",
                        "Epoch 10 [350/1021] | Train Loss: 0.4484 Grad: 132581.4844 LR: 1.3416e-06 | Elapse: 27.80s\n",
                        "Epoch 10 [400/1021] | Train Loss: 0.4498 Grad: 184919.3125 LR: 1.1550e-06 | Elapse: 31.74s\n",
                        "Epoch 10 [450/1021] | Train Loss: 0.4522 Grad: 329899.1250 LR: 9.8272e-07 | Elapse: 35.71s\n",
                        "Epoch 10 [500/1021] | Train Loss: 0.4554 Grad: 197923.1562 LR: 8.2474e-07 | Elapse: 39.64s\n",
                        "Epoch 10 [550/1021] | Train Loss: 0.4582 Grad: 221626.1562 LR: 6.8113e-07 | Elapse: 43.54s\n",
                        "Epoch 10 [600/1021] | Train Loss: 0.4562 Grad: 194414.5625 LR: 5.5193e-07 | Elapse: 47.47s\n",
                        "Epoch 10 [650/1021] | Train Loss: 0.4564 Grad: 306210.7500 LR: 4.3720e-07 | Elapse: 51.47s\n",
                        "Epoch 10 [700/1021] | Train Loss: 0.4538 Grad: 172991.4219 LR: 3.3695e-07 | Elapse: 55.40s\n",
                        "Epoch 10 [750/1021] | Train Loss: 0.4545 Grad: 146272.5781 LR: 2.5122e-07 | Elapse: 59.31s\n",
                        "Epoch 10 [800/1021] | Train Loss: 0.4578 Grad: 289194.5000 LR: 1.8003e-07 | Elapse: 63.24s\n",
                        "Epoch 10 [850/1021] | Train Loss: 0.4586 Grad: 230216.4531 LR: 1.2340e-07 | Elapse: 67.19s\n",
                        "Epoch 10 [900/1021] | Train Loss: 0.4587 Grad: 162409.2656 LR: 8.1358e-08 | Elapse: 71.11s\n",
                        "Epoch 10 [950/1021] | Train Loss: 0.4580 Grad: 266172.8125 LR: 5.3906e-08 | Elapse: 75.05s\n",
                        "Epoch 10 [1000/1021] | Train Loss: 0.4581 Grad: 223708.3594 LR: 4.1054e-08 | Elapse: 79.04s\n",
                        "Epoch 10 [1020/1021] | Train Loss: 0.4584 Grad: 217015.7031 LR: 4.0003e-08 | Elapse: 80.60s\n"
                    ]
                },
                {
                    "data": {
                        "application/vnd.jupyter.widget-view+json": {
                            "model_id": "5fe92f6a9fa645b7a601b938ad662e2f",
                            "version_major": 2,
                            "version_minor": 0
                        },
                        "text/plain": [
                            "Valid [9]:   0%|          | 0/241 [00:00<?, ?batch/s]"
                        ]
                    },
                    "metadata": {},
                    "output_type": "display_data"
                },
                {
                    "name": "stdout",
                    "output_type": "stream",
                    "text": [
                        "Epoch 10 [0/241] | Valid Loss: 0.7764 | Elapse: 0.05s\n",
                        "Epoch 10 [50/241] | Valid Loss: 0.6199 | Elapse: 2.52s\n",
                        "Epoch 10 [100/241] | Valid Loss: 0.6261 | Elapse: 5.13s\n",
                        "Epoch 10 [150/241] | Valid Loss: 0.6172 | Elapse: 7.78s\n",
                        "Epoch 10 [200/241] | Valid Loss: 0.6277 | Elapse: 10.43s\n"
                    ]
                },
                {
                    "name": "stderr",
                    "output_type": "stream",
                    "text": [
                        "----------------------------------------------------------------------------------------------------\n",
                        "Epoch 10 - Average Loss: (train) 0.4584; (valid) 0.6326 | Time: 93.12s\n",
                        "Best model found in epoch 10 | valid loss: 0.6326\n"
                    ]
                },
                {
                    "name": "stdout",
                    "output_type": "stream",
                    "text": [
                        "Epoch 10 [240/241] | Valid Loss: 0.6326 | Elapse: 12.52s\n"
                    ]
                },
                {
                    "name": "stderr",
                    "output_type": "stream",
                    "text": [
                        "====================================================================================================\n",
                        "Fold 3 Valid Loss: 0.6325550675392151\n",
                        "Elapse: 15.55 min \n",
                        "====================================================================================================\n",
                        "- Second Stage -\n",
                        "Use Checkpoint: MAE_Raw_Backbone_fold_3_stage_1.pth\n"
                    ]
                },
                {
                    "name": "stdout",
                    "output_type": "stream",
                    "text": [
                        "Loading pretrained weights from facebook/vit-mae-base\n"
                    ]
                },
                {
                    "data": {
                        "application/vnd.jupyter.widget-view+json": {
                            "model_id": "ac06de1ac21640a898aa110acfaf85f4",
                            "version_major": 2,
                            "version_minor": 0
                        },
                        "text/plain": [
                            "Train [0]:   0%|          | 0/386 [00:00<?, ?batch/s]"
                        ]
                    },
                    "metadata": {},
                    "output_type": "display_data"
                },
                {
                    "name": "stdout",
                    "output_type": "stream",
                    "text": [
                        "Epoch 1 [0/386] | Train Loss: 0.6220 Grad: 221509.0625 LR: 4.0016e-06 | Elapse: 0.09s\n",
                        "Epoch 1 [50/386] | Train Loss: 0.4191 Grad: 137667.0625 LR: 8.0969e-06 | Elapse: 4.05s\n",
                        "Epoch 1 [100/386] | Train Loss: 0.3970 Grad: 64971.5898 LR: 1.9400e-05 | Elapse: 8.00s\n",
                        "Epoch 1 [150/386] | Train Loss: 0.3814 Grad: 102780.5000 LR: 3.6054e-05 | Elapse: 11.95s\n",
                        "Epoch 1 [200/386] | Train Loss: 0.3805 Grad: 117790.5859 LR: 5.5327e-05 | Elapse: 15.91s\n",
                        "Epoch 1 [250/386] | Train Loss: 0.3850 Grad: 118148.0312 LR: 7.4053e-05 | Elapse: 19.95s\n",
                        "Epoch 1 [300/386] | Train Loss: 0.3879 Grad: 89300.2578 LR: 8.9159e-05 | Elapse: 23.90s\n",
                        "Epoch 1 [350/386] | Train Loss: 0.3901 Grad: 131095.2656 LR: 9.8164e-05 | Elapse: 27.85s\n",
                        "Epoch 1 [385/386] | Train Loss: 0.3896 Grad: 172516.1875 LR: 1.0000e-04 | Elapse: 30.59s\n"
                    ]
                },
                {
                    "data": {
                        "application/vnd.jupyter.widget-view+json": {
                            "model_id": "8638ba604d1245198c706d820eba6bcc",
                            "version_major": 2,
                            "version_minor": 0
                        },
                        "text/plain": [
                            "Valid [0]:   0%|          | 0/241 [00:00<?, ?batch/s]"
                        ]
                    },
                    "metadata": {},
                    "output_type": "display_data"
                },
                {
                    "name": "stdout",
                    "output_type": "stream",
                    "text": [
                        "Epoch 1 [0/241] | Valid Loss: 0.7195 | Elapse: 0.06s\n",
                        "Epoch 1 [50/241] | Valid Loss: 0.7123 | Elapse: 2.53s\n",
                        "Epoch 1 [100/241] | Valid Loss: 0.7388 | Elapse: 5.14s\n",
                        "Epoch 1 [150/241] | Valid Loss: 0.7384 | Elapse: 7.80s\n",
                        "Epoch 1 [200/241] | Valid Loss: 0.7430 | Elapse: 10.45s\n"
                    ]
                },
                {
                    "name": "stderr",
                    "output_type": "stream",
                    "text": [
                        "----------------------------------------------------------------------------------------------------\n",
                        "Epoch 1 - Average Loss: (train) 0.3896; (valid) 0.7400 | Time: 43.14s\n",
                        "Best model found in epoch 1 | valid loss: 0.7400\n"
                    ]
                },
                {
                    "name": "stdout",
                    "output_type": "stream",
                    "text": [
                        "Epoch 1 [240/241] | Valid Loss: 0.7400 | Elapse: 12.54s\n"
                    ]
                },
                {
                    "data": {
                        "application/vnd.jupyter.widget-view+json": {
                            "model_id": "464fe7c1441b4d7899678e4a57adbf10",
                            "version_major": 2,
                            "version_minor": 0
                        },
                        "text/plain": [
                            "Train [1]:   0%|          | 0/386 [00:00<?, ?batch/s]"
                        ]
                    },
                    "metadata": {},
                    "output_type": "display_data"
                },
                {
                    "name": "stdout",
                    "output_type": "stream",
                    "text": [
                        "Epoch 2 [0/386] | Train Loss: 0.4433 Grad: 145535.8750 LR: 1.0000e-04 | Elapse: 0.09s\n",
                        "Epoch 2 [50/386] | Train Loss: 0.4170 Grad: 94874.7500 LR: 9.9945e-05 | Elapse: 4.06s\n",
                        "Epoch 2 [100/386] | Train Loss: 0.4049 Grad: 97570.1875 LR: 9.9788e-05 | Elapse: 8.01s\n",
                        "Epoch 2 [150/386] | Train Loss: 0.3984 Grad: 86033.1328 LR: 9.9529e-05 | Elapse: 11.96s\n",
                        "Epoch 2 [200/386] | Train Loss: 0.3949 Grad: 112388.7500 LR: 9.9168e-05 | Elapse: 15.92s\n",
                        "Epoch 2 [250/386] | Train Loss: 0.3972 Grad: 98733.0547 LR: 9.8708e-05 | Elapse: 20.05s\n",
                        "Epoch 2 [300/386] | Train Loss: 0.3964 Grad: 136093.8906 LR: 9.8148e-05 | Elapse: 24.00s\n",
                        "Epoch 2 [350/386] | Train Loss: 0.3937 Grad: 108089.9453 LR: 9.7489e-05 | Elapse: 28.03s\n",
                        "Epoch 2 [385/386] | Train Loss: 0.3925 Grad: 101796.6797 LR: 9.6970e-05 | Elapse: 30.82s\n"
                    ]
                },
                {
                    "data": {
                        "application/vnd.jupyter.widget-view+json": {
                            "model_id": "e35fa8fb7f0a496897d607f6276ede81",
                            "version_major": 2,
                            "version_minor": 0
                        },
                        "text/plain": [
                            "Valid [1]:   0%|          | 0/241 [00:00<?, ?batch/s]"
                        ]
                    },
                    "metadata": {},
                    "output_type": "display_data"
                },
                {
                    "name": "stdout",
                    "output_type": "stream",
                    "text": [
                        "Epoch 2 [0/241] | Valid Loss: 0.6309 | Elapse: 0.06s\n",
                        "Epoch 2 [50/241] | Valid Loss: 0.7085 | Elapse: 2.59s\n",
                        "Epoch 2 [100/241] | Valid Loss: 0.7277 | Elapse: 5.34s\n",
                        "Epoch 2 [150/241] | Valid Loss: 0.7310 | Elapse: 8.08s\n",
                        "Epoch 2 [200/241] | Valid Loss: 0.7348 | Elapse: 10.83s\n"
                    ]
                },
                {
                    "name": "stderr",
                    "output_type": "stream",
                    "text": [
                        "----------------------------------------------------------------------------------------------------\n",
                        "Epoch 2 - Average Loss: (train) 0.3925; (valid) 0.7241 | Time: 43.73s\n",
                        "Best model found in epoch 2 | valid loss: 0.7241\n"
                    ]
                },
                {
                    "name": "stdout",
                    "output_type": "stream",
                    "text": [
                        "Epoch 2 [240/241] | Valid Loss: 0.7241 | Elapse: 12.91s\n"
                    ]
                },
                {
                    "data": {
                        "application/vnd.jupyter.widget-view+json": {
                            "model_id": "a9930b34d5b14ed1a57f2c20d76f47ab",
                            "version_major": 2,
                            "version_minor": 0
                        },
                        "text/plain": [
                            "Train [2]:   0%|          | 0/386 [00:00<?, ?batch/s]"
                        ]
                    },
                    "metadata": {},
                    "output_type": "display_data"
                },
                {
                    "name": "stdout",
                    "output_type": "stream",
                    "text": [
                        "Epoch 3 [0/386] | Train Loss: 0.4663 Grad: 128333.5625 LR: 9.6955e-05 | Elapse: 0.09s\n",
                        "Epoch 3 [50/386] | Train Loss: 0.3930 Grad: 102024.7344 LR: 9.6130e-05 | Elapse: 4.06s\n",
                        "Epoch 3 [100/386] | Train Loss: 0.3827 Grad: 71872.8203 LR: 9.5212e-05 | Elapse: 8.11s\n",
                        "Epoch 3 [150/386] | Train Loss: 0.3756 Grad: 101338.9141 LR: 9.4201e-05 | Elapse: 12.03s\n",
                        "Epoch 3 [200/386] | Train Loss: 0.3738 Grad: 116596.6406 LR: 9.3099e-05 | Elapse: 15.97s\n",
                        "Epoch 3 [250/386] | Train Loss: 0.3792 Grad: 100444.4766 LR: 9.1910e-05 | Elapse: 19.90s\n",
                        "Epoch 3 [300/386] | Train Loss: 0.3797 Grad: 82952.1641 LR: 9.0635e-05 | Elapse: 23.82s\n",
                        "Epoch 3 [350/386] | Train Loss: 0.3759 Grad: 102853.6484 LR: 8.9276e-05 | Elapse: 27.74s\n",
                        "Epoch 3 [385/386] | Train Loss: 0.3731 Grad: 102307.1172 LR: 8.8278e-05 | Elapse: 30.50s\n"
                    ]
                },
                {
                    "data": {
                        "application/vnd.jupyter.widget-view+json": {
                            "model_id": "3180c8ce8b3546d3a117191402f855f4",
                            "version_major": 2,
                            "version_minor": 0
                        },
                        "text/plain": [
                            "Valid [2]:   0%|          | 0/241 [00:00<?, ?batch/s]"
                        ]
                    },
                    "metadata": {},
                    "output_type": "display_data"
                },
                {
                    "name": "stdout",
                    "output_type": "stream",
                    "text": [
                        "Epoch 3 [0/241] | Valid Loss: 0.7144 | Elapse: 0.05s\n",
                        "Epoch 3 [50/241] | Valid Loss: 0.7184 | Elapse: 2.53s\n",
                        "Epoch 3 [100/241] | Valid Loss: 0.7491 | Elapse: 5.15s\n",
                        "Epoch 3 [150/241] | Valid Loss: 0.7501 | Elapse: 7.77s\n",
                        "Epoch 3 [200/241] | Valid Loss: 0.7542 | Elapse: 10.43s\n"
                    ]
                },
                {
                    "name": "stderr",
                    "output_type": "stream",
                    "text": [
                        "----------------------------------------------------------------------------------------------------\n",
                        "Epoch 3 - Average Loss: (train) 0.3731; (valid) 0.7456 | Time: 43.04s\n"
                    ]
                },
                {
                    "name": "stdout",
                    "output_type": "stream",
                    "text": [
                        "Epoch 3 [240/241] | Valid Loss: 0.7456 | Elapse: 12.54s\n"
                    ]
                },
                {
                    "data": {
                        "application/vnd.jupyter.widget-view+json": {
                            "model_id": "751281b648974b9d908acba091bbb2ec",
                            "version_major": 2,
                            "version_minor": 0
                        },
                        "text/plain": [
                            "Train [3]:   0%|          | 0/386 [00:00<?, ?batch/s]"
                        ]
                    },
                    "metadata": {},
                    "output_type": "display_data"
                },
                {
                    "name": "stdout",
                    "output_type": "stream",
                    "text": [
                        "Epoch 4 [0/386] | Train Loss: 0.4849 Grad: 136731.9062 LR: 8.8249e-05 | Elapse: 0.10s\n",
                        "Epoch 4 [50/386] | Train Loss: 0.3611 Grad: 90710.1719 LR: 8.6754e-05 | Elapse: 4.06s\n",
                        "Epoch 4 [100/386] | Train Loss: 0.3553 Grad: 78257.0078 LR: 8.5185e-05 | Elapse: 8.07s\n",
                        "Epoch 4 [150/386] | Train Loss: 0.3487 Grad: 107450.1484 LR: 8.3544e-05 | Elapse: 12.12s\n",
                        "Epoch 4 [200/386] | Train Loss: 0.3461 Grad: 122261.1641 LR: 8.1834e-05 | Elapse: 16.14s\n",
                        "Epoch 4 [250/386] | Train Loss: 0.3521 Grad: 104965.2500 LR: 8.0059e-05 | Elapse: 20.10s\n",
                        "Epoch 4 [300/386] | Train Loss: 0.3526 Grad: 104952.2891 LR: 7.8223e-05 | Elapse: 24.16s\n",
                        "Epoch 4 [350/386] | Train Loss: 0.3517 Grad: 99641.4453 LR: 7.6329e-05 | Elapse: 28.24s\n",
                        "Epoch 4 [385/386] | Train Loss: 0.3509 Grad: 142066.1875 LR: 7.4971e-05 | Elapse: 30.98s\n"
                    ]
                },
                {
                    "data": {
                        "application/vnd.jupyter.widget-view+json": {
                            "model_id": "3f5149f956cd42499ac4e384666f2b0e",
                            "version_major": 2,
                            "version_minor": 0
                        },
                        "text/plain": [
                            "Valid [3]:   0%|          | 0/241 [00:00<?, ?batch/s]"
                        ]
                    },
                    "metadata": {},
                    "output_type": "display_data"
                },
                {
                    "name": "stdout",
                    "output_type": "stream",
                    "text": [
                        "Epoch 4 [0/241] | Valid Loss: 0.7872 | Elapse: 0.05s\n",
                        "Epoch 4 [50/241] | Valid Loss: 0.7227 | Elapse: 2.53s\n",
                        "Epoch 4 [100/241] | Valid Loss: 0.7400 | Elapse: 5.16s\n",
                        "Epoch 4 [150/241] | Valid Loss: 0.7441 | Elapse: 7.83s\n",
                        "Epoch 4 [200/241] | Valid Loss: 0.7570 | Elapse: 10.50s\n"
                    ]
                },
                {
                    "name": "stderr",
                    "output_type": "stream",
                    "text": [
                        "----------------------------------------------------------------------------------------------------\n",
                        "Epoch 4 - Average Loss: (train) 0.3509; (valid) 0.7443 | Time: 43.60s\n"
                    ]
                },
                {
                    "name": "stdout",
                    "output_type": "stream",
                    "text": [
                        "Epoch 4 [240/241] | Valid Loss: 0.7443 | Elapse: 12.61s\n"
                    ]
                },
                {
                    "data": {
                        "application/vnd.jupyter.widget-view+json": {
                            "model_id": "7509ea25185142018cdf84f0446f9e9c",
                            "version_major": 2,
                            "version_minor": 0
                        },
                        "text/plain": [
                            "Train [4]:   0%|          | 0/386 [00:00<?, ?batch/s]"
                        ]
                    },
                    "metadata": {},
                    "output_type": "display_data"
                },
                {
                    "name": "stdout",
                    "output_type": "stream",
                    "text": [
                        "Epoch 5 [0/386] | Train Loss: 0.3937 Grad: 120369.0859 LR: 7.4932e-05 | Elapse: 0.09s\n",
                        "Epoch 5 [50/386] | Train Loss: 0.3451 Grad: 109155.8594 LR: 7.2948e-05 | Elapse: 4.08s\n",
                        "Epoch 5 [100/386] | Train Loss: 0.3412 Grad: 90925.4453 LR: 7.0917e-05 | Elapse: 8.04s\n",
                        "Epoch 5 [150/386] | Train Loss: 0.3329 Grad: 114328.1562 LR: 6.8843e-05 | Elapse: 12.03s\n",
                        "Epoch 5 [200/386] | Train Loss: 0.3297 Grad: 98542.9922 LR: 6.6731e-05 | Elapse: 15.98s\n",
                        "Epoch 5 [250/386] | Train Loss: 0.3286 Grad: 128210.6562 LR: 6.4585e-05 | Elapse: 19.95s\n",
                        "Epoch 5 [300/386] | Train Loss: 0.3321 Grad: 89360.6719 LR: 6.2409e-05 | Elapse: 23.92s\n",
                        "Epoch 5 [350/386] | Train Loss: 0.3311 Grad: 122589.4297 LR: 6.0208e-05 | Elapse: 27.93s\n",
                        "Epoch 5 [385/386] | Train Loss: 0.3303 Grad: 203909.2188 LR: 5.8654e-05 | Elapse: 30.67s\n"
                    ]
                },
                {
                    "data": {
                        "application/vnd.jupyter.widget-view+json": {
                            "model_id": "bea38b7f35664af29244d7e844f6246b",
                            "version_major": 2,
                            "version_minor": 0
                        },
                        "text/plain": [
                            "Valid [4]:   0%|          | 0/241 [00:00<?, ?batch/s]"
                        ]
                    },
                    "metadata": {},
                    "output_type": "display_data"
                },
                {
                    "name": "stdout",
                    "output_type": "stream",
                    "text": [
                        "Epoch 5 [0/241] | Valid Loss: 0.5824 | Elapse: 0.05s\n",
                        "Epoch 5 [50/241] | Valid Loss: 0.7043 | Elapse: 2.51s\n",
                        "Epoch 5 [100/241] | Valid Loss: 0.7333 | Elapse: 5.10s\n",
                        "Epoch 5 [150/241] | Valid Loss: 0.7280 | Elapse: 7.75s\n",
                        "Epoch 5 [200/241] | Valid Loss: 0.7355 | Elapse: 10.42s\n"
                    ]
                },
                {
                    "name": "stderr",
                    "output_type": "stream",
                    "text": [
                        "----------------------------------------------------------------------------------------------------\n",
                        "Epoch 5 - Average Loss: (train) 0.3303; (valid) 0.7288 | Time: 43.19s\n"
                    ]
                },
                {
                    "name": "stdout",
                    "output_type": "stream",
                    "text": [
                        "Epoch 5 [240/241] | Valid Loss: 0.7288 | Elapse: 12.52s\n"
                    ]
                },
                {
                    "data": {
                        "application/vnd.jupyter.widget-view+json": {
                            "model_id": "a3f39476eb8740ebbd0e8d5ff9c7c340",
                            "version_major": 2,
                            "version_minor": 0
                        },
                        "text/plain": [
                            "Train [5]:   0%|          | 0/386 [00:00<?, ?batch/s]"
                        ]
                    },
                    "metadata": {},
                    "output_type": "display_data"
                },
                {
                    "name": "stdout",
                    "output_type": "stream",
                    "text": [
                        "Epoch 6 [0/386] | Train Loss: 0.4079 Grad: 172868.0000 LR: 5.8610e-05 | Elapse: 0.09s\n",
                        "Epoch 6 [50/386] | Train Loss: 0.3179 Grad: 114432.4062 LR: 5.6376e-05 | Elapse: 4.15s\n",
                        "Epoch 6 [100/386] | Train Loss: 0.3176 Grad: 59733.9258 LR: 5.4128e-05 | Elapse: 8.14s\n",
                        "Epoch 6 [150/386] | Train Loss: 0.3112 Grad: 94319.9531 LR: 5.1873e-05 | Elapse: 12.09s\n",
                        "Epoch 6 [200/386] | Train Loss: 0.3116 Grad: 106172.7812 LR: 4.9613e-05 | Elapse: 16.07s\n",
                        "Epoch 6 [250/386] | Train Loss: 0.3104 Grad: 133347.6875 LR: 4.7355e-05 | Elapse: 20.12s\n",
                        "Epoch 6 [300/386] | Train Loss: 0.3113 Grad: 96517.4766 LR: 4.5101e-05 | Elapse: 24.12s\n",
                        "Epoch 6 [350/386] | Train Loss: 0.3091 Grad: 105609.4688 LR: 4.2858e-05 | Elapse: 28.09s\n",
                        "Epoch 6 [385/386] | Train Loss: 0.3076 Grad: 103209.4141 LR: 4.1297e-05 | Elapse: 30.86s\n"
                    ]
                },
                {
                    "data": {
                        "application/vnd.jupyter.widget-view+json": {
                            "model_id": "0a91651e068b4d88bb5317d95509d086",
                            "version_major": 2,
                            "version_minor": 0
                        },
                        "text/plain": [
                            "Valid [5]:   0%|          | 0/241 [00:00<?, ?batch/s]"
                        ]
                    },
                    "metadata": {},
                    "output_type": "display_data"
                },
                {
                    "name": "stdout",
                    "output_type": "stream",
                    "text": [
                        "Epoch 6 [0/241] | Valid Loss: 0.5612 | Elapse: 0.05s\n",
                        "Epoch 6 [50/241] | Valid Loss: 0.6606 | Elapse: 2.58s\n",
                        "Epoch 6 [100/241] | Valid Loss: 0.6767 | Elapse: 5.23s\n",
                        "Epoch 6 [150/241] | Valid Loss: 0.6879 | Elapse: 7.94s\n",
                        "Epoch 6 [200/241] | Valid Loss: 0.6978 | Elapse: 10.71s\n"
                    ]
                },
                {
                    "name": "stderr",
                    "output_type": "stream",
                    "text": [
                        "----------------------------------------------------------------------------------------------------\n",
                        "Epoch 6 - Average Loss: (train) 0.3076; (valid) 0.6918 | Time: 43.70s\n",
                        "Best model found in epoch 6 | valid loss: 0.6918\n"
                    ]
                },
                {
                    "name": "stdout",
                    "output_type": "stream",
                    "text": [
                        "Epoch 6 [240/241] | Valid Loss: 0.6918 | Elapse: 12.84s\n"
                    ]
                },
                {
                    "data": {
                        "application/vnd.jupyter.widget-view+json": {
                            "model_id": "3ec4d0d343904ab0abafe8273c57f15c",
                            "version_major": 2,
                            "version_minor": 0
                        },
                        "text/plain": [
                            "Train [6]:   0%|          | 0/386 [00:00<?, ?batch/s]"
                        ]
                    },
                    "metadata": {},
                    "output_type": "display_data"
                },
                {
                    "name": "stdout",
                    "output_type": "stream",
                    "text": [
                        "Epoch 7 [0/386] | Train Loss: 0.3034 Grad: 96293.4531 LR: 4.1252e-05 | Elapse: 0.09s\n",
                        "Epoch 7 [50/386] | Train Loss: 0.2815 Grad: 82714.2266 LR: 3.9037e-05 | Elapse: 4.04s\n",
                        "Epoch 7 [100/386] | Train Loss: 0.2867 Grad: 99107.8281 LR: 3.6844e-05 | Elapse: 7.98s\n",
                        "Epoch 7 [150/386] | Train Loss: 0.2790 Grad: 114743.2109 LR: 3.4679e-05 | Elapse: 11.92s\n",
                        "Epoch 7 [200/386] | Train Loss: 0.2820 Grad: 95333.2344 LR: 3.2544e-05 | Elapse: 15.95s\n",
                        "Epoch 7 [250/386] | Train Loss: 0.2852 Grad: 162682.9062 LR: 3.0446e-05 | Elapse: 19.88s\n",
                        "Epoch 7 [300/386] | Train Loss: 0.2868 Grad: 91692.4609 LR: 2.8387e-05 | Elapse: 23.83s\n",
                        "Epoch 7 [350/386] | Train Loss: 0.2866 Grad: 88475.2734 LR: 2.6372e-05 | Elapse: 27.76s\n",
                        "Epoch 7 [385/386] | Train Loss: 0.2844 Grad: 195381.4844 LR: 2.4991e-05 | Elapse: 30.55s\n"
                    ]
                },
                {
                    "data": {
                        "application/vnd.jupyter.widget-view+json": {
                            "model_id": "19cf976b9df44233a7373cc4898a2a13",
                            "version_major": 2,
                            "version_minor": 0
                        },
                        "text/plain": [
                            "Valid [6]:   0%|          | 0/241 [00:00<?, ?batch/s]"
                        ]
                    },
                    "metadata": {},
                    "output_type": "display_data"
                },
                {
                    "name": "stdout",
                    "output_type": "stream",
                    "text": [
                        "Epoch 7 [0/241] | Valid Loss: 0.6040 | Elapse: 0.06s\n",
                        "Epoch 7 [50/241] | Valid Loss: 0.6563 | Elapse: 2.67s\n",
                        "Epoch 7 [100/241] | Valid Loss: 0.6852 | Elapse: 5.27s\n",
                        "Epoch 7 [150/241] | Valid Loss: 0.6916 | Elapse: 7.99s\n",
                        "Epoch 7 [200/241] | Valid Loss: 0.7008 | Elapse: 10.64s\n"
                    ]
                },
                {
                    "name": "stderr",
                    "output_type": "stream",
                    "text": [
                        "----------------------------------------------------------------------------------------------------\n",
                        "Epoch 7 - Average Loss: (train) 0.2844; (valid) 0.6953 | Time: 43.30s\n"
                    ]
                },
                {
                    "name": "stdout",
                    "output_type": "stream",
                    "text": [
                        "Epoch 7 [240/241] | Valid Loss: 0.6953 | Elapse: 12.74s\n"
                    ]
                },
                {
                    "data": {
                        "application/vnd.jupyter.widget-view+json": {
                            "model_id": "dce1ff29a4df4862b72e63e7988aef9d",
                            "version_major": 2,
                            "version_minor": 0
                        },
                        "text/plain": [
                            "Train [7]:   0%|          | 0/386 [00:00<?, ?batch/s]"
                        ]
                    },
                    "metadata": {},
                    "output_type": "display_data"
                },
                {
                    "name": "stdout",
                    "output_type": "stream",
                    "text": [
                        "Epoch 8 [0/386] | Train Loss: 0.2673 Grad: 107955.3359 LR: 2.4952e-05 | Elapse: 0.09s\n",
                        "Epoch 8 [50/386] | Train Loss: 0.2672 Grad: 83231.0234 LR: 2.3023e-05 | Elapse: 4.05s\n",
                        "Epoch 8 [100/386] | Train Loss: 0.2728 Grad: 86733.1484 LR: 2.1149e-05 | Elapse: 8.10s\n",
                        "Epoch 8 [150/386] | Train Loss: 0.2707 Grad: 108303.1562 LR: 1.9335e-05 | Elapse: 12.04s\n",
                        "Epoch 8 [200/386] | Train Loss: 0.2687 Grad: 121662.0234 LR: 1.7583e-05 | Elapse: 16.10s\n",
                        "Epoch 8 [250/386] | Train Loss: 0.2708 Grad: 149187.2500 LR: 1.5897e-05 | Elapse: 20.25s\n",
                        "Epoch 8 [300/386] | Train Loss: 0.2721 Grad: 103548.4688 LR: 1.4282e-05 | Elapse: 24.30s\n",
                        "Epoch 8 [350/386] | Train Loss: 0.2712 Grad: 107475.9062 LR: 1.2739e-05 | Elapse: 28.30s\n",
                        "Epoch 8 [385/386] | Train Loss: 0.2691 Grad: 117959.7578 LR: 1.1704e-05 | Elapse: 31.43s\n"
                    ]
                },
                {
                    "data": {
                        "application/vnd.jupyter.widget-view+json": {
                            "model_id": "9a84f55ac9194198afcae0a49ee204e2",
                            "version_major": 2,
                            "version_minor": 0
                        },
                        "text/plain": [
                            "Valid [7]:   0%|          | 0/241 [00:00<?, ?batch/s]"
                        ]
                    },
                    "metadata": {},
                    "output_type": "display_data"
                },
                {
                    "name": "stdout",
                    "output_type": "stream",
                    "text": [
                        "Epoch 8 [0/241] | Valid Loss: 0.5622 | Elapse: 0.06s\n",
                        "Epoch 8 [50/241] | Valid Loss: 0.6431 | Elapse: 2.72s\n",
                        "Epoch 8 [100/241] | Valid Loss: 0.6662 | Elapse: 5.38s\n",
                        "Epoch 8 [150/241] | Valid Loss: 0.6662 | Elapse: 8.09s\n",
                        "Epoch 8 [200/241] | Valid Loss: 0.6755 | Elapse: 10.75s\n"
                    ]
                },
                {
                    "name": "stderr",
                    "output_type": "stream",
                    "text": [
                        "----------------------------------------------------------------------------------------------------\n",
                        "Epoch 8 - Average Loss: (train) 0.2691; (valid) 0.6732 | Time: 44.28s\n",
                        "Best model found in epoch 8 | valid loss: 0.6732\n"
                    ]
                },
                {
                    "name": "stdout",
                    "output_type": "stream",
                    "text": [
                        "Epoch 8 [240/241] | Valid Loss: 0.6732 | Elapse: 12.84s\n"
                    ]
                },
                {
                    "data": {
                        "application/vnd.jupyter.widget-view+json": {
                            "model_id": "4132ca6dc6d240a998c1837afa25c216",
                            "version_major": 2,
                            "version_minor": 0
                        },
                        "text/plain": [
                            "Train [8]:   0%|          | 0/386 [00:00<?, ?batch/s]"
                        ]
                    },
                    "metadata": {},
                    "output_type": "display_data"
                },
                {
                    "name": "stdout",
                    "output_type": "stream",
                    "text": [
                        "Epoch 9 [0/386] | Train Loss: 0.2150 Grad: 92360.5703 LR: 1.1675e-05 | Elapse: 0.09s\n",
                        "Epoch 9 [50/386] | Train Loss: 0.2619 Grad: 86048.7891 LR: 1.0265e-05 | Elapse: 4.12s\n",
                        "Epoch 9 [100/386] | Train Loss: 0.2582 Grad: 119249.7188 LR: 8.9367e-06 | Elapse: 8.17s\n",
                        "Epoch 9 [150/386] | Train Loss: 0.2526 Grad: 97815.0312 LR: 7.6921e-06 | Elapse: 12.07s\n",
                        "Epoch 9 [200/386] | Train Loss: 0.2526 Grad: 90021.1562 LR: 6.5341e-06 | Elapse: 16.02s\n",
                        "Epoch 9 [250/386] | Train Loss: 0.2558 Grad: 146743.7188 LR: 5.4649e-06 | Elapse: 19.95s\n",
                        "Epoch 9 [300/386] | Train Loss: 0.2581 Grad: 94714.8125 LR: 4.4869e-06 | Elapse: 23.92s\n",
                        "Epoch 9 [350/386] | Train Loss: 0.2581 Grad: 88479.7188 LR: 3.6019e-06 | Elapse: 27.86s\n",
                        "Epoch 9 [385/386] | Train Loss: 0.2565 Grad: 100196.2656 LR: 3.0387e-06 | Elapse: 30.63s\n"
                    ]
                },
                {
                    "data": {
                        "application/vnd.jupyter.widget-view+json": {
                            "model_id": "15f68935b6b84ede87dccfacede583da",
                            "version_major": 2,
                            "version_minor": 0
                        },
                        "text/plain": [
                            "Valid [8]:   0%|          | 0/241 [00:00<?, ?batch/s]"
                        ]
                    },
                    "metadata": {},
                    "output_type": "display_data"
                },
                {
                    "name": "stdout",
                    "output_type": "stream",
                    "text": [
                        "Epoch 9 [0/241] | Valid Loss: 0.5943 | Elapse: 0.06s\n",
                        "Epoch 9 [50/241] | Valid Loss: 0.6268 | Elapse: 2.52s\n",
                        "Epoch 9 [100/241] | Valid Loss: 0.6555 | Elapse: 5.11s\n",
                        "Epoch 9 [150/241] | Valid Loss: 0.6557 | Elapse: 7.82s\n",
                        "Epoch 9 [200/241] | Valid Loss: 0.6609 | Elapse: 10.47s\n"
                    ]
                },
                {
                    "name": "stderr",
                    "output_type": "stream",
                    "text": [
                        "----------------------------------------------------------------------------------------------------\n",
                        "Epoch 9 - Average Loss: (train) 0.2565; (valid) 0.6554 | Time: 43.24s\n",
                        "Best model found in epoch 9 | valid loss: 0.6554\n"
                    ]
                },
                {
                    "name": "stdout",
                    "output_type": "stream",
                    "text": [
                        "Epoch 9 [240/241] | Valid Loss: 0.6554 | Elapse: 12.61s\n"
                    ]
                },
                {
                    "data": {
                        "application/vnd.jupyter.widget-view+json": {
                            "model_id": "0e32fb6daf2d4829b6dc6925d7f27b6d",
                            "version_major": 2,
                            "version_minor": 0
                        },
                        "text/plain": [
                            "Train [9]:   0%|          | 0/386 [00:00<?, ?batch/s]"
                        ]
                    },
                    "metadata": {},
                    "output_type": "display_data"
                },
                {
                    "name": "stdout",
                    "output_type": "stream",
                    "text": [
                        "Epoch 10 [0/386] | Train Loss: 0.2594 Grad: 124375.2969 LR: 3.0233e-06 | Elapse: 0.10s\n",
                        "Epoch 10 [50/386] | Train Loss: 0.2390 Grad: 83235.3984 LR: 2.3025e-06 | Elapse: 4.09s\n",
                        "Epoch 10 [100/386] | Train Loss: 0.2460 Grad: 114168.2422 LR: 1.6793e-06 | Elapse: 8.04s\n",
                        "Epoch 10 [150/386] | Train Loss: 0.2452 Grad: 94686.0156 LR: 1.1549e-06 | Elapse: 12.16s\n",
                        "Epoch 10 [200/386] | Train Loss: 0.2461 Grad: 99092.2734 LR: 7.3030e-07 | Elapse: 16.16s\n",
                        "Epoch 10 [250/386] | Train Loss: 0.2489 Grad: 124247.4297 LR: 4.0651e-07 | Elapse: 20.11s\n",
                        "Epoch 10 [300/386] | Train Loss: 0.2525 Grad: 116688.2500 LR: 1.8413e-07 | Elapse: 24.05s\n",
                        "Epoch 10 [350/386] | Train Loss: 0.2516 Grad: 101775.1797 LR: 6.3623e-08 | Elapse: 28.02s\n",
                        "Epoch 10 [385/386] | Train Loss: 0.2502 Grad: 142379.6406 LR: 4.0020e-08 | Elapse: 30.78s\n"
                    ]
                },
                {
                    "data": {
                        "application/vnd.jupyter.widget-view+json": {
                            "model_id": "1f207c0c705943749d55cfc8e7c3088f",
                            "version_major": 2,
                            "version_minor": 0
                        },
                        "text/plain": [
                            "Valid [9]:   0%|          | 0/241 [00:00<?, ?batch/s]"
                        ]
                    },
                    "metadata": {},
                    "output_type": "display_data"
                },
                {
                    "name": "stdout",
                    "output_type": "stream",
                    "text": [
                        "Epoch 10 [0/241] | Valid Loss: 0.6354 | Elapse: 0.06s\n",
                        "Epoch 10 [50/241] | Valid Loss: 0.6222 | Elapse: 2.51s\n",
                        "Epoch 10 [100/241] | Valid Loss: 0.6462 | Elapse: 5.08s\n",
                        "Epoch 10 [150/241] | Valid Loss: 0.6479 | Elapse: 7.75s\n",
                        "Epoch 10 [200/241] | Valid Loss: 0.6544 | Elapse: 10.43s\n"
                    ]
                },
                {
                    "name": "stderr",
                    "output_type": "stream",
                    "text": [
                        "----------------------------------------------------------------------------------------------------\n",
                        "Epoch 10 - Average Loss: (train) 0.2502; (valid) 0.6537 | Time: 43.31s\n",
                        "Best model found in epoch 10 | valid loss: 0.6537\n"
                    ]
                },
                {
                    "name": "stdout",
                    "output_type": "stream",
                    "text": [
                        "Epoch 10 [240/241] | Valid Loss: 0.6537 | Elapse: 12.53s\n"
                    ]
                },
                {
                    "name": "stderr",
                    "output_type": "stream",
                    "text": [
                        "====================================================================================================\n",
                        "Fold 3 Valid Loss: 0.6537440419197083\n",
                        "Elapse: 7.26 min \n",
                        "====================================================================================================\n"
                    ]
                },
                {
                    "name": "stdout",
                    "output_type": "stream",
                    "text": [
                        "Loading pretrained weights from facebook/vit-mae-base\n"
                    ]
                },
                {
                    "name": "stderr",
                    "output_type": "stream",
                    "text": [
                        "====================================================================================================\n",
                        "Fold: 4 || Valid size 4339 \n",
                        "====================================================================================================\n",
                        "- First Stage -\n"
                    ]
                },
                {
                    "data": {
                        "application/vnd.jupyter.widget-view+json": {
                            "model_id": "b4af65c62dc64902968d55a7772143f1",
                            "version_major": 2,
                            "version_minor": 0
                        },
                        "text/plain": [
                            "Train [0]:   0%|          | 0/990 [00:00<?, ?batch/s]"
                        ]
                    },
                    "metadata": {},
                    "output_type": "display_data"
                },
                {
                    "name": "stdout",
                    "output_type": "stream",
                    "text": [
                        "Epoch 1 [0/990] | Train Loss: 1.4701 Grad: 88817.3984 LR: 4.0002e-06 | Elapse: 0.09s\n",
                        "Epoch 1 [50/990] | Train Loss: 1.4053 Grad: 69525.5078 LR: 4.6285e-06 | Elapse: 4.18s\n",
                        "Epoch 1 [100/990] | Train Loss: 1.3586 Grad: 59331.6719 LR: 6.4492e-06 | Elapse: 8.47s\n",
                        "Epoch 1 [150/990] | Train Loss: 1.3278 Grad: 94178.1797 LR: 9.4166e-06 | Elapse: 12.59s\n",
                        "Epoch 1 [200/990] | Train Loss: 1.3091 Grad: 64111.8906 LR: 1.3456e-05 | Elapse: 16.56s\n",
                        "Epoch 1 [250/990] | Train Loss: 1.3010 Grad: 103154.3828 LR: 1.8466e-05 | Elapse: 20.71s\n",
                        "Epoch 1 [300/990] | Train Loss: 1.2933 Grad: 166377.8750 LR: 2.4319e-05 | Elapse: 24.65s\n",
                        "Epoch 1 [350/990] | Train Loss: 1.2868 Grad: 123099.9141 LR: 3.0870e-05 | Elapse: 28.66s\n",
                        "Epoch 1 [400/990] | Train Loss: 1.2690 Grad: 97279.7969 LR: 3.7952e-05 | Elapse: 32.63s\n",
                        "Epoch 1 [450/990] | Train Loss: 1.2569 Grad: 227352.8125 LR: 4.5388e-05 | Elapse: 36.60s\n",
                        "Epoch 1 [500/990] | Train Loss: 1.2423 Grad: 146161.5469 LR: 5.2991e-05 | Elapse: 40.60s\n",
                        "Epoch 1 [550/990] | Train Loss: 1.2291 Grad: 217051.5781 LR: 6.0569e-05 | Elapse: 44.64s\n",
                        "Epoch 1 [600/990] | Train Loss: 1.2154 Grad: 156284.7969 LR: 6.7930e-05 | Elapse: 48.68s\n",
                        "Epoch 1 [650/990] | Train Loss: 1.2031 Grad: 230739.0781 LR: 7.4891e-05 | Elapse: 52.78s\n",
                        "Epoch 1 [700/990] | Train Loss: 1.1906 Grad: 308415.8750 LR: 8.1276e-05 | Elapse: 56.99s\n",
                        "Epoch 1 [750/990] | Train Loss: 1.1824 Grad: 151998.1250 LR: 8.6924e-05 | Elapse: 61.06s\n",
                        "Epoch 1 [800/990] | Train Loss: 1.1716 Grad: 194070.1250 LR: 9.1692e-05 | Elapse: 65.06s\n",
                        "Epoch 1 [850/990] | Train Loss: 1.1620 Grad: 141192.1406 LR: 9.5462e-05 | Elapse: 69.06s\n",
                        "Epoch 1 [900/990] | Train Loss: 1.1497 Grad: 159003.4062 LR: 9.8137e-05 | Elapse: 73.02s\n",
                        "Epoch 1 [950/990] | Train Loss: 1.1397 Grad: 160578.3125 LR: 9.9651e-05 | Elapse: 77.00s\n",
                        "Epoch 1 [989/990] | Train Loss: 1.1314 Grad: 184429.5781 LR: 1.0000e-04 | Elapse: 80.13s\n"
                    ]
                },
                {
                    "data": {
                        "application/vnd.jupyter.widget-view+json": {
                            "model_id": "6e24b5e9a08b44d9a04394194ff26cd1",
                            "version_major": 2,
                            "version_minor": 0
                        },
                        "text/plain": [
                            "Valid [0]:   0%|          | 0/272 [00:00<?, ?batch/s]"
                        ]
                    },
                    "metadata": {},
                    "output_type": "display_data"
                },
                {
                    "name": "stdout",
                    "output_type": "stream",
                    "text": [
                        "Epoch 1 [0/272] | Valid Loss: 1.2341 | Elapse: 0.05s\n",
                        "Epoch 1 [50/272] | Valid Loss: 0.9763 | Elapse: 2.75s\n",
                        "Epoch 1 [100/272] | Valid Loss: 0.9871 | Elapse: 5.48s\n",
                        "Epoch 1 [150/272] | Valid Loss: 0.9997 | Elapse: 8.22s\n",
                        "Epoch 1 [200/272] | Valid Loss: 1.0025 | Elapse: 10.96s\n",
                        "Epoch 1 [250/272] | Valid Loss: 0.9992 | Elapse: 13.68s\n"
                    ]
                },
                {
                    "name": "stderr",
                    "output_type": "stream",
                    "text": [
                        "----------------------------------------------------------------------------------------------------\n",
                        "Epoch 1 - Average Loss: (train) 1.1314; (valid) 0.9974 | Time: 94.92s\n",
                        "Best model found in epoch 1 | valid loss: 0.9974\n"
                    ]
                },
                {
                    "name": "stdout",
                    "output_type": "stream",
                    "text": [
                        "Epoch 1 [271/272] | Valid Loss: 0.9974 | Elapse: 14.79s\n"
                    ]
                },
                {
                    "data": {
                        "application/vnd.jupyter.widget-view+json": {
                            "model_id": "ab36e13f5a4d47f8b3784f4fab0122c0",
                            "version_major": 2,
                            "version_minor": 0
                        },
                        "text/plain": [
                            "Train [1]:   0%|          | 0/990 [00:00<?, ?batch/s]"
                        ]
                    },
                    "metadata": {},
                    "output_type": "display_data"
                },
                {
                    "name": "stdout",
                    "output_type": "stream",
                    "text": [
                        "Epoch 2 [0/990] | Train Loss: 0.9670 Grad: 167132.8750 LR: 1.0000e-04 | Elapse: 0.09s\n",
                        "Epoch 2 [50/990] | Train Loss: 0.9627 Grad: 232798.5781 LR: 9.9992e-05 | Elapse: 4.11s\n",
                        "Epoch 2 [100/990] | Train Loss: 0.9344 Grad: 223020.7812 LR: 9.9968e-05 | Elapse: 8.09s\n",
                        "Epoch 2 [150/990] | Train Loss: 0.9214 Grad: 186785.4219 LR: 9.9928e-05 | Elapse: 12.01s\n",
                        "Epoch 2 [200/990] | Train Loss: 0.9134 Grad: 164550.5312 LR: 9.9873e-05 | Elapse: 15.93s\n",
                        "Epoch 2 [250/990] | Train Loss: 0.9113 Grad: 158510.1719 LR: 9.9803e-05 | Elapse: 19.85s\n",
                        "Epoch 2 [300/990] | Train Loss: 0.9004 Grad: 208182.0156 LR: 9.9717e-05 | Elapse: 23.77s\n",
                        "Epoch 2 [350/990] | Train Loss: 0.8972 Grad: 140974.5469 LR: 9.9616e-05 | Elapse: 27.69s\n",
                        "Epoch 2 [400/990] | Train Loss: 0.8915 Grad: 164831.0625 LR: 9.9499e-05 | Elapse: 31.62s\n",
                        "Epoch 2 [450/990] | Train Loss: 0.8882 Grad: 271265.9062 LR: 9.9367e-05 | Elapse: 35.55s\n",
                        "Epoch 2 [500/990] | Train Loss: 0.8837 Grad: 214223.1562 LR: 9.9219e-05 | Elapse: 39.47s\n",
                        "Epoch 2 [550/990] | Train Loss: 0.8829 Grad: 134589.6875 LR: 9.9056e-05 | Elapse: 43.41s\n",
                        "Epoch 2 [600/990] | Train Loss: 0.8783 Grad: 163284.4688 LR: 9.8878e-05 | Elapse: 47.36s\n",
                        "Epoch 2 [650/990] | Train Loss: 0.8753 Grad: 245903.0469 LR: 9.8685e-05 | Elapse: 51.30s\n",
                        "Epoch 2 [700/990] | Train Loss: 0.8708 Grad: 141337.0938 LR: 9.8477e-05 | Elapse: 55.21s\n",
                        "Epoch 2 [750/990] | Train Loss: 0.8701 Grad: 199897.9531 LR: 9.8253e-05 | Elapse: 59.13s\n",
                        "Epoch 2 [800/990] | Train Loss: 0.8680 Grad: 247348.4688 LR: 9.8015e-05 | Elapse: 63.04s\n",
                        "Epoch 2 [850/990] | Train Loss: 0.8662 Grad: 247834.0469 LR: 9.7762e-05 | Elapse: 66.96s\n",
                        "Epoch 2 [900/990] | Train Loss: 0.8612 Grad: 204788.9375 LR: 9.7494e-05 | Elapse: 70.88s\n",
                        "Epoch 2 [950/990] | Train Loss: 0.8574 Grad: 228377.8125 LR: 9.7211e-05 | Elapse: 74.81s\n",
                        "Epoch 2 [989/990] | Train Loss: 0.8547 Grad: 169965.7812 LR: 9.6980e-05 | Elapse: 77.96s\n"
                    ]
                },
                {
                    "data": {
                        "application/vnd.jupyter.widget-view+json": {
                            "model_id": "28ec0807f03046d0afd44a127725a577",
                            "version_major": 2,
                            "version_minor": 0
                        },
                        "text/plain": [
                            "Valid [1]:   0%|          | 0/272 [00:00<?, ?batch/s]"
                        ]
                    },
                    "metadata": {},
                    "output_type": "display_data"
                },
                {
                    "name": "stdout",
                    "output_type": "stream",
                    "text": [
                        "Epoch 2 [0/272] | Valid Loss: 1.3205 | Elapse: 0.06s\n",
                        "Epoch 2 [50/272] | Valid Loss: 0.8959 | Elapse: 2.64s\n",
                        "Epoch 2 [100/272] | Valid Loss: 0.9072 | Elapse: 5.25s\n",
                        "Epoch 2 [150/272] | Valid Loss: 0.9059 | Elapse: 7.85s\n",
                        "Epoch 2 [200/272] | Valid Loss: 0.9036 | Elapse: 10.54s\n",
                        "Epoch 2 [250/272] | Valid Loss: 0.9003 | Elapse: 13.23s\n"
                    ]
                },
                {
                    "name": "stderr",
                    "output_type": "stream",
                    "text": [
                        "----------------------------------------------------------------------------------------------------\n",
                        "Epoch 2 - Average Loss: (train) 0.8547; (valid) 0.8994 | Time: 92.29s\n",
                        "Best model found in epoch 2 | valid loss: 0.8994\n"
                    ]
                },
                {
                    "name": "stdout",
                    "output_type": "stream",
                    "text": [
                        "Epoch 2 [271/272] | Valid Loss: 0.8994 | Elapse: 14.32s\n"
                    ]
                },
                {
                    "data": {
                        "application/vnd.jupyter.widget-view+json": {
                            "model_id": "7769bdd5c09b4e73929d995dda173207",
                            "version_major": 2,
                            "version_minor": 0
                        },
                        "text/plain": [
                            "Train [2]:   0%|          | 0/990 [00:00<?, ?batch/s]"
                        ]
                    },
                    "metadata": {},
                    "output_type": "display_data"
                },
                {
                    "name": "stdout",
                    "output_type": "stream",
                    "text": [
                        "Epoch 3 [0/990] | Train Loss: 0.8876 Grad: 187306.6094 LR: 9.6974e-05 | Elapse: 0.09s\n",
                        "Epoch 3 [50/990] | Train Loss: 0.7781 Grad: 253690.1406 LR: 9.6665e-05 | Elapse: 4.02s\n",
                        "Epoch 3 [100/990] | Train Loss: 0.7640 Grad: 309139.2188 LR: 9.6341e-05 | Elapse: 7.95s\n",
                        "Epoch 3 [150/990] | Train Loss: 0.7582 Grad: 165346.7031 LR: 9.6003e-05 | Elapse: 11.88s\n",
                        "Epoch 3 [200/990] | Train Loss: 0.7620 Grad: 141501.8906 LR: 9.5650e-05 | Elapse: 15.81s\n",
                        "Epoch 3 [250/990] | Train Loss: 0.7616 Grad: 140506.1875 LR: 9.5284e-05 | Elapse: 19.75s\n",
                        "Epoch 3 [300/990] | Train Loss: 0.7530 Grad: 219185.0938 LR: 9.4903e-05 | Elapse: 23.66s\n",
                        "Epoch 3 [350/990] | Train Loss: 0.7530 Grad: 163490.4219 LR: 9.4508e-05 | Elapse: 27.58s\n",
                        "Epoch 3 [400/990] | Train Loss: 0.7499 Grad: 200154.5781 LR: 9.4100e-05 | Elapse: 31.50s\n",
                        "Epoch 3 [450/990] | Train Loss: 0.7501 Grad: 167245.2969 LR: 9.3678e-05 | Elapse: 35.44s\n",
                        "Epoch 3 [500/990] | Train Loss: 0.7445 Grad: 207152.3750 LR: 9.3242e-05 | Elapse: 39.36s\n",
                        "Epoch 3 [550/990] | Train Loss: 0.7447 Grad: 170896.3750 LR: 9.2793e-05 | Elapse: 43.26s\n",
                        "Epoch 3 [600/990] | Train Loss: 0.7454 Grad: 149929.2656 LR: 9.2331e-05 | Elapse: 47.18s\n",
                        "Epoch 3 [650/990] | Train Loss: 0.7452 Grad: 231161.7969 LR: 9.1855e-05 | Elapse: 51.12s\n",
                        "Epoch 3 [700/990] | Train Loss: 0.7408 Grad: 214132.4688 LR: 9.1366e-05 | Elapse: 55.05s\n",
                        "Epoch 3 [750/990] | Train Loss: 0.7429 Grad: 212366.0938 LR: 9.0865e-05 | Elapse: 59.00s\n",
                        "Epoch 3 [800/990] | Train Loss: 0.7442 Grad: 165034.5938 LR: 9.0351e-05 | Elapse: 62.93s\n",
                        "Epoch 3 [850/990] | Train Loss: 0.7451 Grad: 273080.8750 LR: 8.9824e-05 | Elapse: 66.84s\n",
                        "Epoch 3 [900/990] | Train Loss: 0.7432 Grad: 151673.2344 LR: 8.9285e-05 | Elapse: 70.77s\n",
                        "Epoch 3 [950/990] | Train Loss: 0.7421 Grad: 169652.2969 LR: 8.8734e-05 | Elapse: 74.69s\n",
                        "Epoch 3 [989/990] | Train Loss: 0.7414 Grad: 154236.0469 LR: 8.8296e-05 | Elapse: 77.79s\n"
                    ]
                },
                {
                    "data": {
                        "application/vnd.jupyter.widget-view+json": {
                            "model_id": "d6c62e54bd614a24add349dafb4aa081",
                            "version_major": 2,
                            "version_minor": 0
                        },
                        "text/plain": [
                            "Valid [2]:   0%|          | 0/272 [00:00<?, ?batch/s]"
                        ]
                    },
                    "metadata": {},
                    "output_type": "display_data"
                },
                {
                    "name": "stdout",
                    "output_type": "stream",
                    "text": [
                        "Epoch 3 [0/272] | Valid Loss: 1.1007 | Elapse: 0.06s\n",
                        "Epoch 3 [50/272] | Valid Loss: 0.7691 | Elapse: 2.55s\n",
                        "Epoch 3 [100/272] | Valid Loss: 0.7847 | Elapse: 5.22s\n",
                        "Epoch 3 [150/272] | Valid Loss: 0.7825 | Elapse: 7.89s\n",
                        "Epoch 3 [200/272] | Valid Loss: 0.7775 | Elapse: 10.57s\n",
                        "Epoch 3 [250/272] | Valid Loss: 0.7718 | Elapse: 13.25s\n"
                    ]
                },
                {
                    "name": "stderr",
                    "output_type": "stream",
                    "text": [
                        "----------------------------------------------------------------------------------------------------\n",
                        "Epoch 3 - Average Loss: (train) 0.7414; (valid) 0.7751 | Time: 92.13s\n",
                        "Best model found in epoch 3 | valid loss: 0.7751\n"
                    ]
                },
                {
                    "name": "stdout",
                    "output_type": "stream",
                    "text": [
                        "Epoch 3 [271/272] | Valid Loss: 0.7751 | Elapse: 14.34s\n"
                    ]
                },
                {
                    "data": {
                        "application/vnd.jupyter.widget-view+json": {
                            "model_id": "46abcc5d910c46de9b598111d76d61cd",
                            "version_major": 2,
                            "version_minor": 0
                        },
                        "text/plain": [
                            "Train [3]:   0%|          | 0/990 [00:00<?, ?batch/s]"
                        ]
                    },
                    "metadata": {},
                    "output_type": "display_data"
                },
                {
                    "name": "stdout",
                    "output_type": "stream",
                    "text": [
                        "Epoch 4 [0/990] | Train Loss: 0.5769 Grad: 134329.1875 LR: 8.8284e-05 | Elapse: 0.09s\n",
                        "Epoch 4 [50/990] | Train Loss: 0.7167 Grad: 168034.0625 LR: 8.7711e-05 | Elapse: 4.06s\n",
                        "Epoch 4 [100/990] | Train Loss: 0.6763 Grad: 149787.7656 LR: 8.7127e-05 | Elapse: 8.07s\n",
                        "Epoch 4 [150/990] | Train Loss: 0.6874 Grad: 157148.9375 LR: 8.6531e-05 | Elapse: 12.07s\n",
                        "Epoch 4 [200/990] | Train Loss: 0.6939 Grad: 184275.1250 LR: 8.5924e-05 | Elapse: 16.06s\n",
                        "Epoch 4 [250/990] | Train Loss: 0.6928 Grad: 168330.2656 LR: 8.5305e-05 | Elapse: 20.01s\n",
                        "Epoch 4 [300/990] | Train Loss: 0.6843 Grad: 220266.0625 LR: 8.4676e-05 | Elapse: 23.95s\n",
                        "Epoch 4 [350/990] | Train Loss: 0.6815 Grad: 204949.6875 LR: 8.4035e-05 | Elapse: 28.00s\n",
                        "Epoch 4 [400/990] | Train Loss: 0.6782 Grad: 115168.0469 LR: 8.3384e-05 | Elapse: 32.09s\n",
                        "Epoch 4 [450/990] | Train Loss: 0.6790 Grad: 171048.2500 LR: 8.2723e-05 | Elapse: 36.02s\n",
                        "Epoch 4 [500/990] | Train Loss: 0.6780 Grad: 169636.2969 LR: 8.2052e-05 | Elapse: 39.97s\n",
                        "Epoch 4 [550/990] | Train Loss: 0.6791 Grad: 172538.8281 LR: 8.1371e-05 | Elapse: 43.92s\n",
                        "Epoch 4 [600/990] | Train Loss: 0.6810 Grad: 156033.2344 LR: 8.0680e-05 | Elapse: 47.95s\n",
                        "Epoch 4 [650/990] | Train Loss: 0.6808 Grad: 158114.4375 LR: 7.9979e-05 | Elapse: 51.93s\n",
                        "Epoch 4 [700/990] | Train Loss: 0.6774 Grad: 150780.7344 LR: 7.9269e-05 | Elapse: 55.95s\n",
                        "Epoch 4 [750/990] | Train Loss: 0.6796 Grad: 208327.9062 LR: 7.8550e-05 | Elapse: 59.91s\n",
                        "Epoch 4 [800/990] | Train Loss: 0.6809 Grad: 167190.2344 LR: 7.7822e-05 | Elapse: 63.87s\n",
                        "Epoch 4 [850/990] | Train Loss: 0.6811 Grad: 259148.5781 LR: 7.7086e-05 | Elapse: 67.82s\n",
                        "Epoch 4 [900/990] | Train Loss: 0.6800 Grad: 180953.6094 LR: 7.6341e-05 | Elapse: 71.79s\n",
                        "Epoch 4 [950/990] | Train Loss: 0.6784 Grad: 179831.9531 LR: 7.5588e-05 | Elapse: 75.74s\n",
                        "Epoch 4 [989/990] | Train Loss: 0.6776 Grad: 132834.4688 LR: 7.4995e-05 | Elapse: 78.96s\n"
                    ]
                },
                {
                    "data": {
                        "application/vnd.jupyter.widget-view+json": {
                            "model_id": "df2aeeb360154c5ab93e2ca505d8a5ab",
                            "version_major": 2,
                            "version_minor": 0
                        },
                        "text/plain": [
                            "Valid [3]:   0%|          | 0/272 [00:00<?, ?batch/s]"
                        ]
                    },
                    "metadata": {},
                    "output_type": "display_data"
                },
                {
                    "name": "stdout",
                    "output_type": "stream",
                    "text": [
                        "Epoch 4 [0/272] | Valid Loss: 0.8453 | Elapse: 0.06s\n",
                        "Epoch 4 [50/272] | Valid Loss: 0.6640 | Elapse: 2.57s\n",
                        "Epoch 4 [100/272] | Valid Loss: 0.6896 | Elapse: 5.19s\n",
                        "Epoch 4 [150/272] | Valid Loss: 0.6934 | Elapse: 7.86s\n",
                        "Epoch 4 [200/272] | Valid Loss: 0.6888 | Elapse: 10.52s\n",
                        "Epoch 4 [250/272] | Valid Loss: 0.6863 | Elapse: 13.20s\n"
                    ]
                },
                {
                    "name": "stderr",
                    "output_type": "stream",
                    "text": [
                        "----------------------------------------------------------------------------------------------------\n",
                        "Epoch 4 - Average Loss: (train) 0.6776; (valid) 0.6886 | Time: 93.24s\n",
                        "Best model found in epoch 4 | valid loss: 0.6886\n"
                    ]
                },
                {
                    "name": "stdout",
                    "output_type": "stream",
                    "text": [
                        "Epoch 4 [271/272] | Valid Loss: 0.6886 | Elapse: 14.28s\n"
                    ]
                },
                {
                    "data": {
                        "application/vnd.jupyter.widget-view+json": {
                            "model_id": "b91a740f331847d1a1d970da1a1127ee",
                            "version_major": 2,
                            "version_minor": 0
                        },
                        "text/plain": [
                            "Train [4]:   0%|          | 0/990 [00:00<?, ?batch/s]"
                        ]
                    },
                    "metadata": {},
                    "output_type": "display_data"
                },
                {
                    "name": "stdout",
                    "output_type": "stream",
                    "text": [
                        "Epoch 5 [0/990] | Train Loss: 0.4744 Grad: 120962.2500 LR: 7.4979e-05 | Elapse: 0.09s\n",
                        "Epoch 5 [50/990] | Train Loss: 0.6462 Grad: 175331.4844 LR: 7.4212e-05 | Elapse: 4.02s\n",
                        "Epoch 5 [100/990] | Train Loss: 0.6261 Grad: 199904.5156 LR: 7.3437e-05 | Elapse: 7.94s\n",
                        "Epoch 5 [150/990] | Train Loss: 0.6309 Grad: 126027.0781 LR: 7.2655e-05 | Elapse: 11.86s\n",
                        "Epoch 5 [200/990] | Train Loss: 0.6370 Grad: 189915.6562 LR: 7.1866e-05 | Elapse: 15.78s\n",
                        "Epoch 5 [250/990] | Train Loss: 0.6375 Grad: 212644.0781 LR: 7.1071e-05 | Elapse: 19.70s\n",
                        "Epoch 5 [300/990] | Train Loss: 0.6311 Grad: 264665.1875 LR: 7.0268e-05 | Elapse: 23.62s\n",
                        "Epoch 5 [350/990] | Train Loss: 0.6268 Grad: 131271.3281 LR: 6.9459e-05 | Elapse: 27.53s\n",
                        "Epoch 5 [400/990] | Train Loss: 0.6268 Grad: 140256.8594 LR: 6.8645e-05 | Elapse: 31.45s\n",
                        "Epoch 5 [450/990] | Train Loss: 0.6278 Grad: 180548.7812 LR: 6.7824e-05 | Elapse: 35.41s\n",
                        "Epoch 5 [500/990] | Train Loss: 0.6254 Grad: 178807.6875 LR: 6.6998e-05 | Elapse: 39.35s\n",
                        "Epoch 5 [550/990] | Train Loss: 0.6275 Grad: 219279.7500 LR: 6.6167e-05 | Elapse: 43.30s\n",
                        "Epoch 5 [600/990] | Train Loss: 0.6290 Grad: 149509.8750 LR: 6.5331e-05 | Elapse: 47.25s\n",
                        "Epoch 5 [650/990] | Train Loss: 0.6282 Grad: 211918.4062 LR: 6.4489e-05 | Elapse: 51.17s\n",
                        "Epoch 5 [700/990] | Train Loss: 0.6249 Grad: 179973.8281 LR: 6.3644e-05 | Elapse: 55.12s\n",
                        "Epoch 5 [750/990] | Train Loss: 0.6281 Grad: 185559.2188 LR: 6.2794e-05 | Elapse: 59.07s\n",
                        "Epoch 5 [800/990] | Train Loss: 0.6297 Grad: 210341.4062 LR: 6.1940e-05 | Elapse: 63.02s\n",
                        "Epoch 5 [850/990] | Train Loss: 0.6313 Grad: 169800.6094 LR: 6.1083e-05 | Elapse: 67.00s\n",
                        "Epoch 5 [900/990] | Train Loss: 0.6303 Grad: 202375.8906 LR: 6.0222e-05 | Elapse: 70.92s\n",
                        "Epoch 5 [950/990] | Train Loss: 0.6301 Grad: 190764.5156 LR: 5.9358e-05 | Elapse: 74.84s\n",
                        "Epoch 5 [989/990] | Train Loss: 0.6288 Grad: 142445.3438 LR: 5.8682e-05 | Elapse: 77.90s\n"
                    ]
                },
                {
                    "data": {
                        "application/vnd.jupyter.widget-view+json": {
                            "model_id": "752be5a6f0ec401d98256b3828bd7e39",
                            "version_major": 2,
                            "version_minor": 0
                        },
                        "text/plain": [
                            "Valid [4]:   0%|          | 0/272 [00:00<?, ?batch/s]"
                        ]
                    },
                    "metadata": {},
                    "output_type": "display_data"
                },
                {
                    "name": "stdout",
                    "output_type": "stream",
                    "text": [
                        "Epoch 5 [0/272] | Valid Loss: 0.7928 | Elapse: 0.05s\n",
                        "Epoch 5 [50/272] | Valid Loss: 0.6509 | Elapse: 2.54s\n",
                        "Epoch 5 [100/272] | Valid Loss: 0.6748 | Elapse: 5.13s\n",
                        "Epoch 5 [150/272] | Valid Loss: 0.6797 | Elapse: 7.77s\n",
                        "Epoch 5 [200/272] | Valid Loss: 0.6784 | Elapse: 10.43s\n",
                        "Epoch 5 [250/272] | Valid Loss: 0.6758 | Elapse: 13.09s\n"
                    ]
                },
                {
                    "name": "stderr",
                    "output_type": "stream",
                    "text": [
                        "----------------------------------------------------------------------------------------------------\n",
                        "Epoch 5 - Average Loss: (train) 0.6288; (valid) 0.6759 | Time: 92.07s\n",
                        "Best model found in epoch 5 | valid loss: 0.6759\n"
                    ]
                },
                {
                    "name": "stdout",
                    "output_type": "stream",
                    "text": [
                        "Epoch 5 [271/272] | Valid Loss: 0.6759 | Elapse: 14.17s\n"
                    ]
                },
                {
                    "data": {
                        "application/vnd.jupyter.widget-view+json": {
                            "model_id": "57d11036fd5b43908831ae5968aaa866",
                            "version_major": 2,
                            "version_minor": 0
                        },
                        "text/plain": [
                            "Train [5]:   0%|          | 0/990 [00:00<?, ?batch/s]"
                        ]
                    },
                    "metadata": {},
                    "output_type": "display_data"
                },
                {
                    "name": "stdout",
                    "output_type": "stream",
                    "text": [
                        "Epoch 6 [0/990] | Train Loss: 0.3961 Grad: 120322.1875 LR: 5.8664e-05 | Elapse: 0.09s\n",
                        "Epoch 6 [50/990] | Train Loss: 0.5814 Grad: 197941.2656 LR: 5.7795e-05 | Elapse: 4.05s\n",
                        "Epoch 6 [100/990] | Train Loss: 0.5765 Grad: 205586.7344 LR: 5.6924e-05 | Elapse: 8.00s\n",
                        "Epoch 6 [150/990] | Train Loss: 0.5820 Grad: 150896.2500 LR: 5.6050e-05 | Elapse: 11.95s\n",
                        "Epoch 6 [200/990] | Train Loss: 0.5880 Grad: 175672.3750 LR: 5.5174e-05 | Elapse: 15.89s\n",
                        "Epoch 6 [250/990] | Train Loss: 0.5889 Grad: 157737.9219 LR: 5.4297e-05 | Elapse: 19.89s\n",
                        "Epoch 6 [300/990] | Train Loss: 0.5794 Grad: 179888.4844 LR: 5.3419e-05 | Elapse: 23.80s\n",
                        "Epoch 6 [350/990] | Train Loss: 0.5772 Grad: 136673.6719 LR: 5.2539e-05 | Elapse: 27.71s\n",
                        "Epoch 6 [400/990] | Train Loss: 0.5771 Grad: 158194.8438 LR: 5.1659e-05 | Elapse: 31.62s\n",
                        "Epoch 6 [450/990] | Train Loss: 0.5797 Grad: 216565.3750 LR: 5.0778e-05 | Elapse: 35.54s\n",
                        "Epoch 6 [500/990] | Train Loss: 0.5797 Grad: 297839.0312 LR: 4.9897e-05 | Elapse: 39.47s\n",
                        "Epoch 6 [550/990] | Train Loss: 0.5817 Grad: 180571.8438 LR: 4.9016e-05 | Elapse: 43.38s\n",
                        "Epoch 6 [600/990] | Train Loss: 0.5828 Grad: 149080.2656 LR: 4.8135e-05 | Elapse: 47.30s\n",
                        "Epoch 6 [650/990] | Train Loss: 0.5840 Grad: 204530.2500 LR: 4.7255e-05 | Elapse: 51.28s\n",
                        "Epoch 6 [700/990] | Train Loss: 0.5810 Grad: 135434.2812 LR: 4.6375e-05 | Elapse: 55.19s\n",
                        "Epoch 6 [750/990] | Train Loss: 0.5835 Grad: 226272.4375 LR: 4.5497e-05 | Elapse: 59.11s\n",
                        "Epoch 6 [800/990] | Train Loss: 0.5852 Grad: 212554.7656 LR: 4.4620e-05 | Elapse: 63.03s\n",
                        "Epoch 6 [850/990] | Train Loss: 0.5866 Grad: 194292.9219 LR: 4.3745e-05 | Elapse: 66.95s\n",
                        "Epoch 6 [900/990] | Train Loss: 0.5848 Grad: 199701.7188 LR: 4.2872e-05 | Elapse: 70.86s\n",
                        "Epoch 6 [950/990] | Train Loss: 0.5836 Grad: 154036.9219 LR: 4.2001e-05 | Elapse: 74.78s\n",
                        "Epoch 6 [989/990] | Train Loss: 0.5817 Grad: 157282.6562 LR: 4.1324e-05 | Elapse: 77.83s\n"
                    ]
                },
                {
                    "data": {
                        "application/vnd.jupyter.widget-view+json": {
                            "model_id": "e8101c8f7f4c48efa7782cb72cafb167",
                            "version_major": 2,
                            "version_minor": 0
                        },
                        "text/plain": [
                            "Valid [5]:   0%|          | 0/272 [00:00<?, ?batch/s]"
                        ]
                    },
                    "metadata": {},
                    "output_type": "display_data"
                },
                {
                    "name": "stdout",
                    "output_type": "stream",
                    "text": [
                        "Epoch 6 [0/272] | Valid Loss: 0.8006 | Elapse: 0.05s\n",
                        "Epoch 6 [50/272] | Valid Loss: 0.6279 | Elapse: 2.54s\n",
                        "Epoch 6 [100/272] | Valid Loss: 0.6778 | Elapse: 5.15s\n",
                        "Epoch 6 [150/272] | Valid Loss: 0.6808 | Elapse: 7.78s\n",
                        "Epoch 6 [200/272] | Valid Loss: 0.6835 | Elapse: 10.44s\n",
                        "Epoch 6 [250/272] | Valid Loss: 0.6780 | Elapse: 13.12s\n"
                    ]
                },
                {
                    "name": "stderr",
                    "output_type": "stream",
                    "text": [
                        "----------------------------------------------------------------------------------------------------\n",
                        "Epoch 6 - Average Loss: (train) 0.5817; (valid) 0.6785 | Time: 92.04s\n"
                    ]
                },
                {
                    "name": "stdout",
                    "output_type": "stream",
                    "text": [
                        "Epoch 6 [271/272] | Valid Loss: 0.6785 | Elapse: 14.20s\n"
                    ]
                },
                {
                    "data": {
                        "application/vnd.jupyter.widget-view+json": {
                            "model_id": "96abff55fc9b4d00935728a84fae4bf4",
                            "version_major": 2,
                            "version_minor": 0
                        },
                        "text/plain": [
                            "Train [6]:   0%|          | 0/990 [00:00<?, ?batch/s]"
                        ]
                    },
                    "metadata": {},
                    "output_type": "display_data"
                },
                {
                    "name": "stdout",
                    "output_type": "stream",
                    "text": [
                        "Epoch 7 [0/990] | Train Loss: 0.3757 Grad: 156223.4062 LR: 4.1306e-05 | Elapse: 0.10s\n",
                        "Epoch 7 [50/990] | Train Loss: 0.5640 Grad: 289766.8125 LR: 4.0440e-05 | Elapse: 4.08s\n",
                        "Epoch 7 [100/990] | Train Loss: 0.5391 Grad: 138546.1094 LR: 3.9577e-05 | Elapse: 8.05s\n",
                        "Epoch 7 [150/990] | Train Loss: 0.5376 Grad: 230191.2812 LR: 3.8717e-05 | Elapse: 11.96s\n",
                        "Epoch 7 [200/990] | Train Loss: 0.5410 Grad: 156285.3594 LR: 3.7860e-05 | Elapse: 15.90s\n",
                        "Epoch 7 [250/990] | Train Loss: 0.5467 Grad: 199935.1875 LR: 3.7008e-05 | Elapse: 19.85s\n",
                        "Epoch 7 [300/990] | Train Loss: 0.5369 Grad: 231657.1250 LR: 3.6159e-05 | Elapse: 23.80s\n",
                        "Epoch 7 [350/990] | Train Loss: 0.5348 Grad: 244812.2344 LR: 3.5315e-05 | Elapse: 27.76s\n",
                        "Epoch 7 [400/990] | Train Loss: 0.5345 Grad: 104811.5781 LR: 3.4475e-05 | Elapse: 31.80s\n",
                        "Epoch 7 [450/990] | Train Loss: 0.5361 Grad: 129058.1406 LR: 3.3640e-05 | Elapse: 35.73s\n",
                        "Epoch 7 [500/990] | Train Loss: 0.5374 Grad: 179874.9062 LR: 3.2810e-05 | Elapse: 39.65s\n",
                        "Epoch 7 [550/990] | Train Loss: 0.5400 Grad: 226824.2656 LR: 3.1985e-05 | Elapse: 43.62s\n",
                        "Epoch 7 [600/990] | Train Loss: 0.5401 Grad: 156057.1875 LR: 3.1167e-05 | Elapse: 47.55s\n",
                        "Epoch 7 [650/990] | Train Loss: 0.5419 Grad: 196523.4531 LR: 3.0353e-05 | Elapse: 51.47s\n",
                        "Epoch 7 [700/990] | Train Loss: 0.5397 Grad: 193007.1875 LR: 2.9547e-05 | Elapse: 55.39s\n",
                        "Epoch 7 [750/990] | Train Loss: 0.5421 Grad: 189932.1562 LR: 2.8746e-05 | Elapse: 59.39s\n",
                        "Epoch 7 [800/990] | Train Loss: 0.5427 Grad: 238978.5781 LR: 2.7952e-05 | Elapse: 63.30s\n",
                        "Epoch 7 [850/990] | Train Loss: 0.5438 Grad: 206832.4219 LR: 2.7165e-05 | Elapse: 67.25s\n",
                        "Epoch 7 [900/990] | Train Loss: 0.5428 Grad: 227993.5000 LR: 2.6385e-05 | Elapse: 71.26s\n",
                        "Epoch 7 [950/990] | Train Loss: 0.5431 Grad: 176040.6406 LR: 2.5612e-05 | Elapse: 75.39s\n",
                        "Epoch 7 [989/990] | Train Loss: 0.5418 Grad: 131463.6094 LR: 2.5015e-05 | Elapse: 78.57s\n"
                    ]
                },
                {
                    "data": {
                        "application/vnd.jupyter.widget-view+json": {
                            "model_id": "33dfbca07b794aa79d849041a9efe908",
                            "version_major": 2,
                            "version_minor": 0
                        },
                        "text/plain": [
                            "Valid [6]:   0%|          | 0/272 [00:00<?, ?batch/s]"
                        ]
                    },
                    "metadata": {},
                    "output_type": "display_data"
                },
                {
                    "name": "stdout",
                    "output_type": "stream",
                    "text": [
                        "Epoch 7 [0/272] | Valid Loss: 0.9073 | Elapse: 0.05s\n",
                        "Epoch 7 [50/272] | Valid Loss: 0.6303 | Elapse: 2.55s\n",
                        "Epoch 7 [100/272] | Valid Loss: 0.6791 | Elapse: 5.17s\n",
                        "Epoch 7 [150/272] | Valid Loss: 0.6789 | Elapse: 7.83s\n",
                        "Epoch 7 [200/272] | Valid Loss: 0.6753 | Elapse: 10.50s\n",
                        "Epoch 7 [250/272] | Valid Loss: 0.6681 | Elapse: 13.17s\n"
                    ]
                },
                {
                    "name": "stderr",
                    "output_type": "stream",
                    "text": [
                        "----------------------------------------------------------------------------------------------------\n",
                        "Epoch 7 - Average Loss: (train) 0.5418; (valid) 0.6662 | Time: 92.84s\n",
                        "Best model found in epoch 7 | valid loss: 0.6662\n"
                    ]
                },
                {
                    "name": "stdout",
                    "output_type": "stream",
                    "text": [
                        "Epoch 7 [271/272] | Valid Loss: 0.6662 | Elapse: 14.26s\n"
                    ]
                },
                {
                    "data": {
                        "application/vnd.jupyter.widget-view+json": {
                            "model_id": "9828f97c983d4ca78f3b2983aa27b914",
                            "version_major": 2,
                            "version_minor": 0
                        },
                        "text/plain": [
                            "Train [7]:   0%|          | 0/990 [00:00<?, ?batch/s]"
                        ]
                    },
                    "metadata": {},
                    "output_type": "display_data"
                },
                {
                    "name": "stdout",
                    "output_type": "stream",
                    "text": [
                        "Epoch 8 [0/990] | Train Loss: 0.3280 Grad: 138855.0469 LR: 2.4999e-05 | Elapse: 0.09s\n",
                        "Epoch 8 [50/990] | Train Loss: 0.5372 Grad: 277347.0000 LR: 2.4241e-05 | Elapse: 4.18s\n",
                        "Epoch 8 [100/990] | Train Loss: 0.5121 Grad: 144035.0312 LR: 2.3490e-05 | Elapse: 8.12s\n",
                        "Epoch 8 [150/990] | Train Loss: 0.5064 Grad: 263542.0312 LR: 2.2747e-05 | Elapse: 12.07s\n",
                        "Epoch 8 [200/990] | Train Loss: 0.5095 Grad: 188230.8281 LR: 2.2013e-05 | Elapse: 16.05s\n",
                        "Epoch 8 [250/990] | Train Loss: 0.5107 Grad: 175672.0312 LR: 2.1288e-05 | Elapse: 20.18s\n",
                        "Epoch 8 [300/990] | Train Loss: 0.5033 Grad: 296142.6875 LR: 2.0571e-05 | Elapse: 24.18s\n",
                        "Epoch 8 [350/990] | Train Loss: 0.4968 Grad: 231464.4531 LR: 1.9864e-05 | Elapse: 28.10s\n",
                        "Epoch 8 [400/990] | Train Loss: 0.4960 Grad: 143003.8438 LR: 1.9166e-05 | Elapse: 32.02s\n",
                        "Epoch 8 [450/990] | Train Loss: 0.4976 Grad: 216834.4531 LR: 1.8478e-05 | Elapse: 35.98s\n",
                        "Epoch 8 [500/990] | Train Loss: 0.4988 Grad: 229065.5938 LR: 1.7799e-05 | Elapse: 39.92s\n",
                        "Epoch 8 [550/990] | Train Loss: 0.5015 Grad: 186542.4062 LR: 1.7131e-05 | Elapse: 43.84s\n",
                        "Epoch 8 [600/990] | Train Loss: 0.5021 Grad: 142070.9219 LR: 1.6472e-05 | Elapse: 47.76s\n",
                        "Epoch 8 [650/990] | Train Loss: 0.5024 Grad: 263233.2188 LR: 1.5824e-05 | Elapse: 51.71s\n",
                        "Epoch 8 [700/990] | Train Loss: 0.5018 Grad: 242159.1562 LR: 1.5187e-05 | Elapse: 55.67s\n",
                        "Epoch 8 [750/990] | Train Loss: 0.5039 Grad: 265733.7812 LR: 1.4561e-05 | Elapse: 59.62s\n",
                        "Epoch 8 [800/990] | Train Loss: 0.5070 Grad: 245699.3281 LR: 1.3945e-05 | Elapse: 63.57s\n",
                        "Epoch 8 [850/990] | Train Loss: 0.5068 Grad: 245890.2031 LR: 1.3341e-05 | Elapse: 67.52s\n",
                        "Epoch 8 [900/990] | Train Loss: 0.5052 Grad: 177156.9688 LR: 1.2748e-05 | Elapse: 71.45s\n",
                        "Epoch 8 [950/990] | Train Loss: 0.5040 Grad: 172965.3594 LR: 1.2167e-05 | Elapse: 75.38s\n",
                        "Epoch 8 [989/990] | Train Loss: 0.5036 Grad: 205311.2344 LR: 1.1722e-05 | Elapse: 78.43s\n"
                    ]
                },
                {
                    "data": {
                        "application/vnd.jupyter.widget-view+json": {
                            "model_id": "40b732283edf41489b4fbd51352f0a25",
                            "version_major": 2,
                            "version_minor": 0
                        },
                        "text/plain": [
                            "Valid [7]:   0%|          | 0/272 [00:00<?, ?batch/s]"
                        ]
                    },
                    "metadata": {},
                    "output_type": "display_data"
                },
                {
                    "name": "stdout",
                    "output_type": "stream",
                    "text": [
                        "Epoch 8 [0/272] | Valid Loss: 0.7055 | Elapse: 0.06s\n",
                        "Epoch 8 [50/272] | Valid Loss: 0.6172 | Elapse: 2.55s\n",
                        "Epoch 8 [100/272] | Valid Loss: 0.6569 | Elapse: 5.17s\n",
                        "Epoch 8 [150/272] | Valid Loss: 0.6569 | Elapse: 7.85s\n",
                        "Epoch 8 [200/272] | Valid Loss: 0.6598 | Elapse: 10.53s\n",
                        "Epoch 8 [250/272] | Valid Loss: 0.6527 | Elapse: 13.21s\n"
                    ]
                },
                {
                    "name": "stderr",
                    "output_type": "stream",
                    "text": [
                        "----------------------------------------------------------------------------------------------------\n",
                        "Epoch 8 - Average Loss: (train) 0.5036; (valid) 0.6531 | Time: 92.73s\n",
                        "Best model found in epoch 8 | valid loss: 0.6531\n"
                    ]
                },
                {
                    "name": "stdout",
                    "output_type": "stream",
                    "text": [
                        "Epoch 8 [271/272] | Valid Loss: 0.6531 | Elapse: 14.29s\n"
                    ]
                },
                {
                    "data": {
                        "application/vnd.jupyter.widget-view+json": {
                            "model_id": "ce8f27af762446fd9365c6f8ab32afe7",
                            "version_major": 2,
                            "version_minor": 0
                        },
                        "text/plain": [
                            "Train [8]:   0%|          | 0/990 [00:00<?, ?batch/s]"
                        ]
                    },
                    "metadata": {},
                    "output_type": "display_data"
                },
                {
                    "name": "stdout",
                    "output_type": "stream",
                    "text": [
                        "Epoch 9 [0/990] | Train Loss: 0.2886 Grad: 128482.0469 LR: 1.1710e-05 | Elapse: 0.10s\n",
                        "Epoch 9 [50/990] | Train Loss: 0.4769 Grad: 263021.5312 LR: 1.1151e-05 | Elapse: 4.13s\n",
                        "Epoch 9 [100/990] | Train Loss: 0.4737 Grad: 140035.6719 LR: 1.0603e-05 | Elapse: 8.07s\n",
                        "Epoch 9 [150/990] | Train Loss: 0.4741 Grad: 153263.4531 LR: 1.0067e-05 | Elapse: 12.00s\n",
                        "Epoch 9 [200/990] | Train Loss: 0.4813 Grad: 226666.4375 LR: 9.5439e-06 | Elapse: 15.97s\n",
                        "Epoch 9 [250/990] | Train Loss: 0.4831 Grad: 166838.8438 LR: 9.0333e-06 | Elapse: 19.93s\n",
                        "Epoch 9 [300/990] | Train Loss: 0.4739 Grad: 270566.2500 LR: 8.5355e-06 | Elapse: 23.89s\n",
                        "Epoch 9 [350/990] | Train Loss: 0.4674 Grad: 171416.4062 LR: 8.0505e-06 | Elapse: 27.89s\n",
                        "Epoch 9 [400/990] | Train Loss: 0.4667 Grad: 107316.5000 LR: 7.5786e-06 | Elapse: 31.84s\n",
                        "Epoch 9 [450/990] | Train Loss: 0.4687 Grad: 157612.6562 LR: 7.1199e-06 | Elapse: 35.88s\n",
                        "Epoch 9 [500/990] | Train Loss: 0.4708 Grad: 164100.2344 LR: 6.6745e-06 | Elapse: 39.85s\n",
                        "Epoch 9 [550/990] | Train Loss: 0.4721 Grad: 266138.2188 LR: 6.2426e-06 | Elapse: 43.87s\n",
                        "Epoch 9 [600/990] | Train Loss: 0.4724 Grad: 134417.9375 LR: 5.8243e-06 | Elapse: 47.83s\n",
                        "Epoch 9 [650/990] | Train Loss: 0.4731 Grad: 292778.8125 LR: 5.4197e-06 | Elapse: 51.78s\n",
                        "Epoch 9 [700/990] | Train Loss: 0.4712 Grad: 215278.5625 LR: 5.0290e-06 | Elapse: 55.76s\n",
                        "Epoch 9 [750/990] | Train Loss: 0.4732 Grad: 229608.6250 LR: 4.6522e-06 | Elapse: 59.74s\n",
                        "Epoch 9 [800/990] | Train Loss: 0.4753 Grad: 214650.5469 LR: 4.2896e-06 | Elapse: 63.67s\n",
                        "Epoch 9 [850/990] | Train Loss: 0.4780 Grad: 187399.8750 LR: 3.9412e-06 | Elapse: 67.67s\n",
                        "Epoch 9 [900/990] | Train Loss: 0.4778 Grad: 174668.3594 LR: 3.6071e-06 | Elapse: 71.64s\n",
                        "Epoch 9 [950/990] | Train Loss: 0.4786 Grad: 190109.9844 LR: 3.2874e-06 | Elapse: 75.61s\n",
                        "Epoch 9 [989/990] | Train Loss: 0.4777 Grad: 132062.9531 LR: 3.0481e-06 | Elapse: 78.70s\n"
                    ]
                },
                {
                    "data": {
                        "application/vnd.jupyter.widget-view+json": {
                            "model_id": "f3a1f26e33c34238b6afe5247c0e88f2",
                            "version_major": 2,
                            "version_minor": 0
                        },
                        "text/plain": [
                            "Valid [8]:   0%|          | 0/272 [00:00<?, ?batch/s]"
                        ]
                    },
                    "metadata": {},
                    "output_type": "display_data"
                },
                {
                    "name": "stdout",
                    "output_type": "stream",
                    "text": [
                        "Epoch 9 [0/272] | Valid Loss: 0.7904 | Elapse: 0.05s\n",
                        "Epoch 9 [50/272] | Valid Loss: 0.6053 | Elapse: 2.54s\n",
                        "Epoch 9 [100/272] | Valid Loss: 0.6515 | Elapse: 5.17s\n",
                        "Epoch 9 [150/272] | Valid Loss: 0.6514 | Elapse: 7.83s\n",
                        "Epoch 9 [200/272] | Valid Loss: 0.6462 | Elapse: 10.50s\n",
                        "Epoch 9 [250/272] | Valid Loss: 0.6410 | Elapse: 13.19s\n"
                    ]
                },
                {
                    "name": "stderr",
                    "output_type": "stream",
                    "text": [
                        "----------------------------------------------------------------------------------------------------\n",
                        "Epoch 9 - Average Loss: (train) 0.4777; (valid) 0.6447 | Time: 92.98s\n",
                        "Best model found in epoch 9 | valid loss: 0.6447\n"
                    ]
                },
                {
                    "name": "stdout",
                    "output_type": "stream",
                    "text": [
                        "Epoch 9 [271/272] | Valid Loss: 0.6447 | Elapse: 14.28s\n"
                    ]
                },
                {
                    "data": {
                        "application/vnd.jupyter.widget-view+json": {
                            "model_id": "00c12d03dbab44868b250160586d6f8b",
                            "version_major": 2,
                            "version_minor": 0
                        },
                        "text/plain": [
                            "Train [9]:   0%|          | 0/990 [00:00<?, ?batch/s]"
                        ]
                    },
                    "metadata": {},
                    "output_type": "display_data"
                },
                {
                    "name": "stdout",
                    "output_type": "stream",
                    "text": [
                        "Epoch 10 [0/990] | Train Loss: 0.4545 Grad: 284739.8750 LR: 3.0421e-06 | Elapse: 0.09s\n",
                        "Epoch 10 [50/990] | Train Loss: 0.4676 Grad: 285213.0625 LR: 2.7487e-06 | Elapse: 4.13s\n",
                        "Epoch 10 [100/990] | Train Loss: 0.4571 Grad: 180187.0781 LR: 2.4699e-06 | Elapse: 8.11s\n",
                        "Epoch 10 [150/990] | Train Loss: 0.4584 Grad: 215514.9688 LR: 2.2059e-06 | Elapse: 12.04s\n",
                        "Epoch 10 [200/990] | Train Loss: 0.4650 Grad: 176593.9375 LR: 1.9568e-06 | Elapse: 16.00s\n",
                        "Epoch 10 [250/990] | Train Loss: 0.4703 Grad: 183632.7656 LR: 1.7226e-06 | Elapse: 19.97s\n",
                        "Epoch 10 [300/990] | Train Loss: 0.4631 Grad: 278570.3438 LR: 1.5034e-06 | Elapse: 23.93s\n",
                        "Epoch 10 [350/990] | Train Loss: 0.4583 Grad: 171005.9375 LR: 1.2993e-06 | Elapse: 27.90s\n",
                        "Epoch 10 [400/990] | Train Loss: 0.4572 Grad: 181653.7500 LR: 1.1103e-06 | Elapse: 31.81s\n",
                        "Epoch 10 [450/990] | Train Loss: 0.4612 Grad: 140977.7812 LR: 9.3655e-07 | Elapse: 35.75s\n",
                        "Epoch 10 [500/990] | Train Loss: 0.4621 Grad: 162085.6562 LR: 7.7804e-07 | Elapse: 39.69s\n",
                        "Epoch 10 [550/990] | Train Loss: 0.4630 Grad: 190587.6406 LR: 6.3483e-07 | Elapse: 43.62s\n",
                        "Epoch 10 [600/990] | Train Loss: 0.4638 Grad: 150411.3281 LR: 5.0698e-07 | Elapse: 47.54s\n",
                        "Epoch 10 [650/990] | Train Loss: 0.4651 Grad: 241104.2812 LR: 3.9451e-07 | Elapse: 51.45s\n",
                        "Epoch 10 [700/990] | Train Loss: 0.4630 Grad: 219670.3125 LR: 2.9747e-07 | Elapse: 55.37s\n",
                        "Epoch 10 [750/990] | Train Loss: 0.4654 Grad: 234238.1562 LR: 2.1588e-07 | Elapse: 59.31s\n",
                        "Epoch 10 [800/990] | Train Loss: 0.4678 Grad: 209621.8438 LR: 1.4977e-07 | Elapse: 63.26s\n",
                        "Epoch 10 [850/990] | Train Loss: 0.4684 Grad: 201698.4531 LR: 9.9154e-08 | Elapse: 67.22s\n",
                        "Epoch 10 [900/990] | Train Loss: 0.4686 Grad: 167627.0312 LR: 6.4057e-08 | Elapse: 71.23s\n",
                        "Epoch 10 [950/990] | Train Loss: 0.4690 Grad: 209131.0000 LR: 4.4486e-08 | Elapse: 75.19s\n",
                        "Epoch 10 [989/990] | Train Loss: 0.4679 Grad: 191434.5312 LR: 4.0003e-08 | Elapse: 78.28s\n"
                    ]
                },
                {
                    "data": {
                        "application/vnd.jupyter.widget-view+json": {
                            "model_id": "cfe9b2c68f374354bb202ec8bdab9ebc",
                            "version_major": 2,
                            "version_minor": 0
                        },
                        "text/plain": [
                            "Valid [9]:   0%|          | 0/272 [00:00<?, ?batch/s]"
                        ]
                    },
                    "metadata": {},
                    "output_type": "display_data"
                },
                {
                    "name": "stdout",
                    "output_type": "stream",
                    "text": [
                        "Epoch 10 [0/272] | Valid Loss: 0.9058 | Elapse: 0.05s\n",
                        "Epoch 10 [50/272] | Valid Loss: 0.6073 | Elapse: 2.55s\n",
                        "Epoch 10 [100/272] | Valid Loss: 0.6336 | Elapse: 5.15s\n",
                        "Epoch 10 [150/272] | Valid Loss: 0.6415 | Elapse: 7.82s\n",
                        "Epoch 10 [200/272] | Valid Loss: 0.6450 | Elapse: 10.49s\n",
                        "Epoch 10 [250/272] | Valid Loss: 0.6347 | Elapse: 13.16s\n"
                    ]
                },
                {
                    "name": "stderr",
                    "output_type": "stream",
                    "text": [
                        "----------------------------------------------------------------------------------------------------\n",
                        "Epoch 10 - Average Loss: (train) 0.4679; (valid) 0.6328 | Time: 92.52s\n",
                        "Best model found in epoch 10 | valid loss: 0.6328\n"
                    ]
                },
                {
                    "name": "stdout",
                    "output_type": "stream",
                    "text": [
                        "Epoch 10 [271/272] | Valid Loss: 0.6328 | Elapse: 14.24s\n"
                    ]
                },
                {
                    "name": "stderr",
                    "output_type": "stream",
                    "text": [
                        "====================================================================================================\n",
                        "Fold 4 Valid Loss: 0.6328229904174805\n",
                        "Elapse: 15.48 min \n",
                        "====================================================================================================\n",
                        "- Second Stage -\n",
                        "Use Checkpoint: MAE_Raw_Backbone_fold_4_stage_1.pth\n"
                    ]
                },
                {
                    "name": "stdout",
                    "output_type": "stream",
                    "text": [
                        "Loading pretrained weights from facebook/vit-mae-base\n"
                    ]
                },
                {
                    "data": {
                        "application/vnd.jupyter.widget-view+json": {
                            "model_id": "111dac00e8e74d21af1143ca9b475ee8",
                            "version_major": 2,
                            "version_minor": 0
                        },
                        "text/plain": [
                            "Train [0]:   0%|          | 0/386 [00:00<?, ?batch/s]"
                        ]
                    },
                    "metadata": {},
                    "output_type": "display_data"
                },
                {
                    "name": "stdout",
                    "output_type": "stream",
                    "text": [
                        "Epoch 1 [0/386] | Train Loss: 0.4937 Grad: 184849.2500 LR: 4.0016e-06 | Elapse: 0.10s\n",
                        "Epoch 1 [50/386] | Train Loss: 0.4403 Grad: 116118.5547 LR: 8.0969e-06 | Elapse: 4.19s\n",
                        "Epoch 1 [100/386] | Train Loss: 0.4151 Grad: 84410.7266 LR: 1.9400e-05 | Elapse: 8.15s\n",
                        "Epoch 1 [150/386] | Train Loss: 0.3995 Grad: 105158.4453 LR: 3.6054e-05 | Elapse: 12.15s\n",
                        "Epoch 1 [200/386] | Train Loss: 0.3944 Grad: 164309.0156 LR: 5.5327e-05 | Elapse: 16.19s\n",
                        "Epoch 1 [250/386] | Train Loss: 0.3967 Grad: 132441.5469 LR: 7.4053e-05 | Elapse: 20.17s\n",
                        "Epoch 1 [300/386] | Train Loss: 0.3961 Grad: 115547.5547 LR: 8.9159e-05 | Elapse: 24.13s\n",
                        "Epoch 1 [350/386] | Train Loss: 0.3973 Grad: 137874.7500 LR: 9.8164e-05 | Elapse: 28.08s\n",
                        "Epoch 1 [385/386] | Train Loss: 0.3969 Grad: 97469.4609 LR: 1.0000e-04 | Elapse: 30.85s\n"
                    ]
                },
                {
                    "data": {
                        "application/vnd.jupyter.widget-view+json": {
                            "model_id": "f56e95acda794fa7bec303cb8e25c51c",
                            "version_major": 2,
                            "version_minor": 0
                        },
                        "text/plain": [
                            "Valid [0]:   0%|          | 0/272 [00:00<?, ?batch/s]"
                        ]
                    },
                    "metadata": {},
                    "output_type": "display_data"
                },
                {
                    "name": "stdout",
                    "output_type": "stream",
                    "text": [
                        "Epoch 1 [0/272] | Valid Loss: 1.2037 | Elapse: 0.05s\n",
                        "Epoch 1 [50/272] | Valid Loss: 0.7059 | Elapse: 2.54s\n",
                        "Epoch 1 [100/272] | Valid Loss: 0.7331 | Elapse: 5.17s\n",
                        "Epoch 1 [150/272] | Valid Loss: 0.7258 | Elapse: 7.83s\n",
                        "Epoch 1 [200/272] | Valid Loss: 0.7223 | Elapse: 10.50s\n",
                        "Epoch 1 [250/272] | Valid Loss: 0.7103 | Elapse: 13.17s\n"
                    ]
                },
                {
                    "name": "stderr",
                    "output_type": "stream",
                    "text": [
                        "----------------------------------------------------------------------------------------------------\n",
                        "Epoch 1 - Average Loss: (train) 0.3969; (valid) 0.7108 | Time: 45.10s\n",
                        "Best model found in epoch 1 | valid loss: 0.7108\n"
                    ]
                },
                {
                    "name": "stdout",
                    "output_type": "stream",
                    "text": [
                        "Epoch 1 [271/272] | Valid Loss: 0.7108 | Elapse: 14.25s\n"
                    ]
                },
                {
                    "data": {
                        "application/vnd.jupyter.widget-view+json": {
                            "model_id": "eccf2a86ef4c48f7b83e6261b9b02079",
                            "version_major": 2,
                            "version_minor": 0
                        },
                        "text/plain": [
                            "Train [1]:   0%|          | 0/386 [00:00<?, ?batch/s]"
                        ]
                    },
                    "metadata": {},
                    "output_type": "display_data"
                },
                {
                    "name": "stdout",
                    "output_type": "stream",
                    "text": [
                        "Epoch 2 [0/386] | Train Loss: 0.4845 Grad: 158968.2188 LR: 1.0000e-04 | Elapse: 0.09s\n",
                        "Epoch 2 [50/386] | Train Loss: 0.4126 Grad: 91838.9062 LR: 9.9945e-05 | Elapse: 4.05s\n",
                        "Epoch 2 [100/386] | Train Loss: 0.4069 Grad: 68078.8906 LR: 9.9788e-05 | Elapse: 7.98s\n",
                        "Epoch 2 [150/386] | Train Loss: 0.3966 Grad: 81967.2266 LR: 9.9529e-05 | Elapse: 11.94s\n",
                        "Epoch 2 [200/386] | Train Loss: 0.3957 Grad: 107527.2656 LR: 9.9168e-05 | Elapse: 15.88s\n",
                        "Epoch 2 [250/386] | Train Loss: 0.3980 Grad: 88938.6484 LR: 9.8708e-05 | Elapse: 19.87s\n",
                        "Epoch 2 [300/386] | Train Loss: 0.3973 Grad: 91862.7422 LR: 9.8148e-05 | Elapse: 23.89s\n",
                        "Epoch 2 [350/386] | Train Loss: 0.3942 Grad: 91001.9141 LR: 9.7489e-05 | Elapse: 27.86s\n",
                        "Epoch 2 [385/386] | Train Loss: 0.3936 Grad: 131243.0938 LR: 9.6970e-05 | Elapse: 30.63s\n"
                    ]
                },
                {
                    "data": {
                        "application/vnd.jupyter.widget-view+json": {
                            "model_id": "a97afc9fb6a14205ac9439afbd10784f",
                            "version_major": 2,
                            "version_minor": 0
                        },
                        "text/plain": [
                            "Valid [1]:   0%|          | 0/272 [00:00<?, ?batch/s]"
                        ]
                    },
                    "metadata": {},
                    "output_type": "display_data"
                },
                {
                    "name": "stdout",
                    "output_type": "stream",
                    "text": [
                        "Epoch 2 [0/272] | Valid Loss: 1.2671 | Elapse: 0.05s\n",
                        "Epoch 2 [50/272] | Valid Loss: 0.7539 | Elapse: 2.55s\n",
                        "Epoch 2 [100/272] | Valid Loss: 0.7796 | Elapse: 5.18s\n",
                        "Epoch 2 [150/272] | Valid Loss: 0.7942 | Elapse: 7.86s\n",
                        "Epoch 2 [200/272] | Valid Loss: 0.7936 | Elapse: 10.52s\n",
                        "Epoch 2 [250/272] | Valid Loss: 0.7849 | Elapse: 13.20s\n"
                    ]
                },
                {
                    "name": "stderr",
                    "output_type": "stream",
                    "text": [
                        "----------------------------------------------------------------------------------------------------\n",
                        "Epoch 2 - Average Loss: (train) 0.3936; (valid) 0.7860 | Time: 44.92s\n"
                    ]
                },
                {
                    "name": "stdout",
                    "output_type": "stream",
                    "text": [
                        "Epoch 2 [271/272] | Valid Loss: 0.7860 | Elapse: 14.29s\n"
                    ]
                },
                {
                    "data": {
                        "application/vnd.jupyter.widget-view+json": {
                            "model_id": "9bc80b4cac5a46f2873caaccf7771e16",
                            "version_major": 2,
                            "version_minor": 0
                        },
                        "text/plain": [
                            "Train [2]:   0%|          | 0/386 [00:00<?, ?batch/s]"
                        ]
                    },
                    "metadata": {},
                    "output_type": "display_data"
                },
                {
                    "name": "stdout",
                    "output_type": "stream",
                    "text": [
                        "Epoch 3 [0/386] | Train Loss: 0.4217 Grad: 128613.7656 LR: 9.6955e-05 | Elapse: 0.09s\n",
                        "Epoch 3 [50/386] | Train Loss: 0.3942 Grad: 92843.7188 LR: 9.6130e-05 | Elapse: 4.05s\n",
                        "Epoch 3 [100/386] | Train Loss: 0.3800 Grad: 89983.9922 LR: 9.5212e-05 | Elapse: 7.97s\n",
                        "Epoch 3 [150/386] | Train Loss: 0.3736 Grad: 96716.6875 LR: 9.4201e-05 | Elapse: 11.92s\n",
                        "Epoch 3 [200/386] | Train Loss: 0.3751 Grad: 118863.1094 LR: 9.3099e-05 | Elapse: 15.87s\n",
                        "Epoch 3 [250/386] | Train Loss: 0.3808 Grad: 114417.1016 LR: 9.1910e-05 | Elapse: 19.82s\n",
                        "Epoch 3 [300/386] | Train Loss: 0.3813 Grad: 95354.8047 LR: 9.0635e-05 | Elapse: 23.74s\n",
                        "Epoch 3 [350/386] | Train Loss: 0.3787 Grad: 119864.1719 LR: 8.9276e-05 | Elapse: 27.66s\n",
                        "Epoch 3 [385/386] | Train Loss: 0.3766 Grad: 119901.9688 LR: 8.8278e-05 | Elapse: 30.41s\n"
                    ]
                },
                {
                    "data": {
                        "application/vnd.jupyter.widget-view+json": {
                            "model_id": "d7c60d8854344055b60cb5bef72b6ee7",
                            "version_major": 2,
                            "version_minor": 0
                        },
                        "text/plain": [
                            "Valid [2]:   0%|          | 0/272 [00:00<?, ?batch/s]"
                        ]
                    },
                    "metadata": {},
                    "output_type": "display_data"
                },
                {
                    "name": "stdout",
                    "output_type": "stream",
                    "text": [
                        "Epoch 3 [0/272] | Valid Loss: 1.1881 | Elapse: 0.05s\n",
                        "Epoch 3 [50/272] | Valid Loss: 0.7059 | Elapse: 2.54s\n",
                        "Epoch 3 [100/272] | Valid Loss: 0.7269 | Elapse: 5.15s\n",
                        "Epoch 3 [150/272] | Valid Loss: 0.7262 | Elapse: 7.80s\n",
                        "Epoch 3 [200/272] | Valid Loss: 0.7254 | Elapse: 10.46s\n",
                        "Epoch 3 [250/272] | Valid Loss: 0.7146 | Elapse: 13.13s\n"
                    ]
                },
                {
                    "name": "stderr",
                    "output_type": "stream",
                    "text": [
                        "----------------------------------------------------------------------------------------------------\n",
                        "Epoch 3 - Average Loss: (train) 0.3766; (valid) 0.7155 | Time: 44.62s\n"
                    ]
                },
                {
                    "name": "stdout",
                    "output_type": "stream",
                    "text": [
                        "Epoch 3 [271/272] | Valid Loss: 0.7155 | Elapse: 14.21s\n"
                    ]
                },
                {
                    "data": {
                        "application/vnd.jupyter.widget-view+json": {
                            "model_id": "6df09a95d17c40de89d624cbc02e7766",
                            "version_major": 2,
                            "version_minor": 0
                        },
                        "text/plain": [
                            "Train [3]:   0%|          | 0/386 [00:00<?, ?batch/s]"
                        ]
                    },
                    "metadata": {},
                    "output_type": "display_data"
                },
                {
                    "name": "stdout",
                    "output_type": "stream",
                    "text": [
                        "Epoch 4 [0/386] | Train Loss: 0.4111 Grad: 118661.6016 LR: 8.8249e-05 | Elapse: 0.09s\n",
                        "Epoch 4 [50/386] | Train Loss: 0.3730 Grad: 60351.9531 LR: 8.6754e-05 | Elapse: 4.04s\n",
                        "Epoch 4 [100/386] | Train Loss: 0.3629 Grad: 70833.4141 LR: 8.5185e-05 | Elapse: 7.95s\n",
                        "Epoch 4 [150/386] | Train Loss: 0.3548 Grad: 105829.7188 LR: 8.3544e-05 | Elapse: 11.86s\n",
                        "Epoch 4 [200/386] | Train Loss: 0.3539 Grad: 127575.9922 LR: 8.1834e-05 | Elapse: 15.78s\n",
                        "Epoch 4 [250/386] | Train Loss: 0.3592 Grad: 141734.0000 LR: 8.0059e-05 | Elapse: 19.70s\n",
                        "Epoch 4 [300/386] | Train Loss: 0.3595 Grad: 94388.5078 LR: 7.8223e-05 | Elapse: 23.62s\n",
                        "Epoch 4 [350/386] | Train Loss: 0.3570 Grad: 111000.3750 LR: 7.6329e-05 | Elapse: 27.57s\n",
                        "Epoch 4 [385/386] | Train Loss: 0.3549 Grad: 132581.6406 LR: 7.4971e-05 | Elapse: 30.31s\n"
                    ]
                },
                {
                    "data": {
                        "application/vnd.jupyter.widget-view+json": {
                            "model_id": "55706bbfde354d7194d86283ee6e8b3d",
                            "version_major": 2,
                            "version_minor": 0
                        },
                        "text/plain": [
                            "Valid [3]:   0%|          | 0/272 [00:00<?, ?batch/s]"
                        ]
                    },
                    "metadata": {},
                    "output_type": "display_data"
                },
                {
                    "name": "stdout",
                    "output_type": "stream",
                    "text": [
                        "Epoch 4 [0/272] | Valid Loss: 1.2272 | Elapse: 0.05s\n",
                        "Epoch 4 [50/272] | Valid Loss: 0.6871 | Elapse: 2.54s\n",
                        "Epoch 4 [100/272] | Valid Loss: 0.7342 | Elapse: 5.15s\n",
                        "Epoch 4 [150/272] | Valid Loss: 0.7369 | Elapse: 7.81s\n",
                        "Epoch 4 [200/272] | Valid Loss: 0.7296 | Elapse: 10.48s\n",
                        "Epoch 4 [250/272] | Valid Loss: 0.7209 | Elapse: 13.14s\n"
                    ]
                },
                {
                    "name": "stderr",
                    "output_type": "stream",
                    "text": [
                        "----------------------------------------------------------------------------------------------------\n",
                        "Epoch 4 - Average Loss: (train) 0.3549; (valid) 0.7240 | Time: 44.54s\n"
                    ]
                },
                {
                    "name": "stdout",
                    "output_type": "stream",
                    "text": [
                        "Epoch 4 [271/272] | Valid Loss: 0.7240 | Elapse: 14.23s\n"
                    ]
                },
                {
                    "data": {
                        "application/vnd.jupyter.widget-view+json": {
                            "model_id": "92fe626ed4124f37b23f4b7251ae57f9",
                            "version_major": 2,
                            "version_minor": 0
                        },
                        "text/plain": [
                            "Train [4]:   0%|          | 0/386 [00:00<?, ?batch/s]"
                        ]
                    },
                    "metadata": {},
                    "output_type": "display_data"
                },
                {
                    "name": "stdout",
                    "output_type": "stream",
                    "text": [
                        "Epoch 5 [0/386] | Train Loss: 0.3977 Grad: 143214.4688 LR: 7.4932e-05 | Elapse: 0.09s\n",
                        "Epoch 5 [50/386] | Train Loss: 0.3370 Grad: 116032.0469 LR: 7.2948e-05 | Elapse: 4.01s\n",
                        "Epoch 5 [100/386] | Train Loss: 0.3365 Grad: 76227.6641 LR: 7.0917e-05 | Elapse: 7.99s\n",
                        "Epoch 5 [150/386] | Train Loss: 0.3347 Grad: 102883.3672 LR: 6.8843e-05 | Elapse: 11.91s\n",
                        "Epoch 5 [200/386] | Train Loss: 0.3319 Grad: 140248.7812 LR: 6.6731e-05 | Elapse: 15.86s\n",
                        "Epoch 5 [250/386] | Train Loss: 0.3350 Grad: 145209.5625 LR: 6.4585e-05 | Elapse: 19.84s\n",
                        "Epoch 5 [300/386] | Train Loss: 0.3354 Grad: 74642.8203 LR: 6.2409e-05 | Elapse: 23.82s\n",
                        "Epoch 5 [350/386] | Train Loss: 0.3331 Grad: 97431.2422 LR: 6.0208e-05 | Elapse: 27.77s\n",
                        "Epoch 5 [385/386] | Train Loss: 0.3317 Grad: 143278.2031 LR: 5.8654e-05 | Elapse: 30.52s\n"
                    ]
                },
                {
                    "data": {
                        "application/vnd.jupyter.widget-view+json": {
                            "model_id": "84d4caae786e42aea88b3bf9846784d7",
                            "version_major": 2,
                            "version_minor": 0
                        },
                        "text/plain": [
                            "Valid [4]:   0%|          | 0/272 [00:00<?, ?batch/s]"
                        ]
                    },
                    "metadata": {},
                    "output_type": "display_data"
                },
                {
                    "name": "stdout",
                    "output_type": "stream",
                    "text": [
                        "Epoch 5 [0/272] | Valid Loss: 1.0661 | Elapse: 0.05s\n",
                        "Epoch 5 [50/272] | Valid Loss: 0.6877 | Elapse: 2.54s\n",
                        "Epoch 5 [100/272] | Valid Loss: 0.7277 | Elapse: 5.16s\n",
                        "Epoch 5 [150/272] | Valid Loss: 0.7178 | Elapse: 7.81s\n",
                        "Epoch 5 [200/272] | Valid Loss: 0.7130 | Elapse: 10.49s\n",
                        "Epoch 5 [250/272] | Valid Loss: 0.7030 | Elapse: 13.17s\n"
                    ]
                },
                {
                    "name": "stderr",
                    "output_type": "stream",
                    "text": [
                        "----------------------------------------------------------------------------------------------------\n",
                        "Epoch 5 - Average Loss: (train) 0.3317; (valid) 0.7045 | Time: 44.78s\n",
                        "Best model found in epoch 5 | valid loss: 0.7045\n"
                    ]
                },
                {
                    "name": "stdout",
                    "output_type": "stream",
                    "text": [
                        "Epoch 5 [271/272] | Valid Loss: 0.7045 | Elapse: 14.25s\n"
                    ]
                },
                {
                    "data": {
                        "application/vnd.jupyter.widget-view+json": {
                            "model_id": "73a7971afb7f4645954857522956c84b",
                            "version_major": 2,
                            "version_minor": 0
                        },
                        "text/plain": [
                            "Train [5]:   0%|          | 0/386 [00:00<?, ?batch/s]"
                        ]
                    },
                    "metadata": {},
                    "output_type": "display_data"
                },
                {
                    "name": "stdout",
                    "output_type": "stream",
                    "text": [
                        "Epoch 6 [0/386] | Train Loss: 0.3461 Grad: 133237.7812 LR: 5.8610e-05 | Elapse: 0.09s\n",
                        "Epoch 6 [50/386] | Train Loss: 0.3236 Grad: 114858.3750 LR: 5.6376e-05 | Elapse: 4.09s\n",
                        "Epoch 6 [100/386] | Train Loss: 0.3197 Grad: 72114.3438 LR: 5.4128e-05 | Elapse: 8.08s\n",
                        "Epoch 6 [150/386] | Train Loss: 0.3137 Grad: 96099.9453 LR: 5.1873e-05 | Elapse: 12.06s\n",
                        "Epoch 6 [200/386] | Train Loss: 0.3122 Grad: 111896.6562 LR: 4.9613e-05 | Elapse: 16.04s\n",
                        "Epoch 6 [250/386] | Train Loss: 0.3123 Grad: 113217.0078 LR: 4.7355e-05 | Elapse: 19.99s\n",
                        "Epoch 6 [300/386] | Train Loss: 0.3152 Grad: 91318.5781 LR: 4.5101e-05 | Elapse: 23.96s\n",
                        "Epoch 6 [350/386] | Train Loss: 0.3134 Grad: 142111.1719 LR: 4.2858e-05 | Elapse: 27.92s\n",
                        "Epoch 6 [385/386] | Train Loss: 0.3118 Grad: 150014.5000 LR: 4.1297e-05 | Elapse: 30.67s\n"
                    ]
                },
                {
                    "data": {
                        "application/vnd.jupyter.widget-view+json": {
                            "model_id": "b14233c99b004b958fa0ac9b9a5abeb1",
                            "version_major": 2,
                            "version_minor": 0
                        },
                        "text/plain": [
                            "Valid [5]:   0%|          | 0/272 [00:00<?, ?batch/s]"
                        ]
                    },
                    "metadata": {},
                    "output_type": "display_data"
                },
                {
                    "name": "stdout",
                    "output_type": "stream",
                    "text": [
                        "Epoch 6 [0/272] | Valid Loss: 1.0012 | Elapse: 0.05s\n",
                        "Epoch 6 [50/272] | Valid Loss: 0.6937 | Elapse: 2.57s\n",
                        "Epoch 6 [100/272] | Valid Loss: 0.7311 | Elapse: 5.21s\n",
                        "Epoch 6 [150/272] | Valid Loss: 0.7287 | Elapse: 7.90s\n",
                        "Epoch 6 [200/272] | Valid Loss: 0.7270 | Elapse: 10.60s\n",
                        "Epoch 6 [250/272] | Valid Loss: 0.7179 | Elapse: 13.30s\n"
                    ]
                },
                {
                    "name": "stderr",
                    "output_type": "stream",
                    "text": [
                        "----------------------------------------------------------------------------------------------------\n",
                        "Epoch 6 - Average Loss: (train) 0.3118; (valid) 0.7164 | Time: 45.07s\n"
                    ]
                },
                {
                    "name": "stdout",
                    "output_type": "stream",
                    "text": [
                        "Epoch 6 [271/272] | Valid Loss: 0.7164 | Elapse: 14.40s\n"
                    ]
                },
                {
                    "data": {
                        "application/vnd.jupyter.widget-view+json": {
                            "model_id": "54f13a132f0d4131b2ce6fade18058e3",
                            "version_major": 2,
                            "version_minor": 0
                        },
                        "text/plain": [
                            "Train [6]:   0%|          | 0/386 [00:00<?, ?batch/s]"
                        ]
                    },
                    "metadata": {},
                    "output_type": "display_data"
                },
                {
                    "name": "stdout",
                    "output_type": "stream",
                    "text": [
                        "Epoch 7 [0/386] | Train Loss: 0.2630 Grad: 91532.7500 LR: 4.1252e-05 | Elapse: 0.09s\n",
                        "Epoch 7 [50/386] | Train Loss: 0.3074 Grad: 94906.1953 LR: 3.9037e-05 | Elapse: 4.02s\n",
                        "Epoch 7 [100/386] | Train Loss: 0.3058 Grad: 90003.6250 LR: 3.6844e-05 | Elapse: 7.96s\n",
                        "Epoch 7 [150/386] | Train Loss: 0.2977 Grad: 84338.7734 LR: 3.4679e-05 | Elapse: 11.94s\n",
                        "Epoch 7 [200/386] | Train Loss: 0.2974 Grad: 126147.0312 LR: 3.2544e-05 | Elapse: 15.89s\n",
                        "Epoch 7 [250/386] | Train Loss: 0.2995 Grad: 151904.8438 LR: 3.0446e-05 | Elapse: 19.81s\n",
                        "Epoch 7 [300/386] | Train Loss: 0.3003 Grad: 95222.2891 LR: 2.8387e-05 | Elapse: 23.74s\n",
                        "Epoch 7 [350/386] | Train Loss: 0.2976 Grad: 96456.7266 LR: 2.6372e-05 | Elapse: 27.66s\n",
                        "Epoch 7 [385/386] | Train Loss: 0.2953 Grad: 126405.7734 LR: 2.4991e-05 | Elapse: 30.41s\n"
                    ]
                },
                {
                    "data": {
                        "application/vnd.jupyter.widget-view+json": {
                            "model_id": "52fa5ec735dd4c3a9d36f25e5d52ef99",
                            "version_major": 2,
                            "version_minor": 0
                        },
                        "text/plain": [
                            "Valid [6]:   0%|          | 0/272 [00:00<?, ?batch/s]"
                        ]
                    },
                    "metadata": {},
                    "output_type": "display_data"
                },
                {
                    "name": "stdout",
                    "output_type": "stream",
                    "text": [
                        "Epoch 7 [0/272] | Valid Loss: 1.0757 | Elapse: 0.05s\n",
                        "Epoch 7 [50/272] | Valid Loss: 0.6691 | Elapse: 2.54s\n",
                        "Epoch 7 [100/272] | Valid Loss: 0.7088 | Elapse: 5.16s\n",
                        "Epoch 7 [150/272] | Valid Loss: 0.7016 | Elapse: 7.89s\n",
                        "Epoch 7 [200/272] | Valid Loss: 0.7053 | Elapse: 10.57s\n",
                        "Epoch 7 [250/272] | Valid Loss: 0.6978 | Elapse: 13.24s\n"
                    ]
                },
                {
                    "name": "stderr",
                    "output_type": "stream",
                    "text": [
                        "----------------------------------------------------------------------------------------------------\n",
                        "Epoch 7 - Average Loss: (train) 0.2953; (valid) 0.7005 | Time: 44.74s\n",
                        "Best model found in epoch 7 | valid loss: 0.7005\n"
                    ]
                },
                {
                    "name": "stdout",
                    "output_type": "stream",
                    "text": [
                        "Epoch 7 [271/272] | Valid Loss: 0.7005 | Elapse: 14.33s\n"
                    ]
                },
                {
                    "data": {
                        "application/vnd.jupyter.widget-view+json": {
                            "model_id": "8cb63b9e0500486fad10aaabbd78242e",
                            "version_major": 2,
                            "version_minor": 0
                        },
                        "text/plain": [
                            "Train [7]:   0%|          | 0/386 [00:00<?, ?batch/s]"
                        ]
                    },
                    "metadata": {},
                    "output_type": "display_data"
                },
                {
                    "name": "stdout",
                    "output_type": "stream",
                    "text": [
                        "Epoch 8 [0/386] | Train Loss: 0.3395 Grad: 177291.3281 LR: 2.4952e-05 | Elapse: 0.09s\n",
                        "Epoch 8 [50/386] | Train Loss: 0.2843 Grad: 122546.5547 LR: 2.3023e-05 | Elapse: 4.19s\n",
                        "Epoch 8 [100/386] | Train Loss: 0.2807 Grad: 56557.8008 LR: 2.1149e-05 | Elapse: 8.15s\n",
                        "Epoch 8 [150/386] | Train Loss: 0.2756 Grad: 108201.8281 LR: 1.9335e-05 | Elapse: 12.08s\n",
                        "Epoch 8 [200/386] | Train Loss: 0.2763 Grad: 75181.1406 LR: 1.7583e-05 | Elapse: 16.00s\n",
                        "Epoch 8 [250/386] | Train Loss: 0.2756 Grad: 120350.3359 LR: 1.5897e-05 | Elapse: 19.92s\n",
                        "Epoch 8 [300/386] | Train Loss: 0.2759 Grad: 125965.4062 LR: 1.4282e-05 | Elapse: 23.83s\n",
                        "Epoch 8 [350/386] | Train Loss: 0.2736 Grad: 84620.0859 LR: 1.2739e-05 | Elapse: 27.76s\n",
                        "Epoch 8 [385/386] | Train Loss: 0.2718 Grad: 130125.8359 LR: 1.1704e-05 | Elapse: 30.52s\n"
                    ]
                },
                {
                    "data": {
                        "application/vnd.jupyter.widget-view+json": {
                            "model_id": "c620086de3764672bd7c7ff5c18115d5",
                            "version_major": 2,
                            "version_minor": 0
                        },
                        "text/plain": [
                            "Valid [7]:   0%|          | 0/272 [00:00<?, ?batch/s]"
                        ]
                    },
                    "metadata": {},
                    "output_type": "display_data"
                },
                {
                    "name": "stdout",
                    "output_type": "stream",
                    "text": [
                        "Epoch 8 [0/272] | Valid Loss: 0.9227 | Elapse: 0.05s\n",
                        "Epoch 8 [50/272] | Valid Loss: 0.6490 | Elapse: 2.54s\n",
                        "Epoch 8 [100/272] | Valid Loss: 0.6853 | Elapse: 5.12s\n",
                        "Epoch 8 [150/272] | Valid Loss: 0.6784 | Elapse: 7.78s\n",
                        "Epoch 8 [200/272] | Valid Loss: 0.6816 | Elapse: 10.46s\n",
                        "Epoch 8 [250/272] | Valid Loss: 0.6728 | Elapse: 13.14s\n"
                    ]
                },
                {
                    "name": "stderr",
                    "output_type": "stream",
                    "text": [
                        "----------------------------------------------------------------------------------------------------\n",
                        "Epoch 8 - Average Loss: (train) 0.2718; (valid) 0.6762 | Time: 44.75s\n",
                        "Best model found in epoch 8 | valid loss: 0.6762\n"
                    ]
                },
                {
                    "name": "stdout",
                    "output_type": "stream",
                    "text": [
                        "Epoch 8 [271/272] | Valid Loss: 0.6762 | Elapse: 14.23s\n"
                    ]
                },
                {
                    "data": {
                        "application/vnd.jupyter.widget-view+json": {
                            "model_id": "2df6aac7d5e64ed093b1c7ec50717b5b",
                            "version_major": 2,
                            "version_minor": 0
                        },
                        "text/plain": [
                            "Train [8]:   0%|          | 0/386 [00:00<?, ?batch/s]"
                        ]
                    },
                    "metadata": {},
                    "output_type": "display_data"
                },
                {
                    "name": "stdout",
                    "output_type": "stream",
                    "text": [
                        "Epoch 9 [0/386] | Train Loss: 0.2882 Grad: 110403.8906 LR: 1.1675e-05 | Elapse: 0.09s\n",
                        "Epoch 9 [50/386] | Train Loss: 0.2709 Grad: 97149.5781 LR: 1.0265e-05 | Elapse: 4.07s\n",
                        "Epoch 9 [100/386] | Train Loss: 0.2718 Grad: 76520.3359 LR: 8.9367e-06 | Elapse: 8.01s\n",
                        "Epoch 9 [150/386] | Train Loss: 0.2641 Grad: 86782.6016 LR: 7.6921e-06 | Elapse: 11.95s\n",
                        "Epoch 9 [200/386] | Train Loss: 0.2641 Grad: 118255.5312 LR: 6.5341e-06 | Elapse: 15.91s\n",
                        "Epoch 9 [250/386] | Train Loss: 0.2656 Grad: 143535.8281 LR: 5.4649e-06 | Elapse: 19.88s\n",
                        "Epoch 9 [300/386] | Train Loss: 0.2663 Grad: 91912.2891 LR: 4.4869e-06 | Elapse: 23.85s\n",
                        "Epoch 9 [350/386] | Train Loss: 0.2643 Grad: 101592.8828 LR: 3.6019e-06 | Elapse: 27.82s\n",
                        "Epoch 9 [385/386] | Train Loss: 0.2627 Grad: 120610.2812 LR: 3.0387e-06 | Elapse: 30.60s\n"
                    ]
                },
                {
                    "data": {
                        "application/vnd.jupyter.widget-view+json": {
                            "model_id": "ddac3f0c964b475b905deb9bdbbc49b5",
                            "version_major": 2,
                            "version_minor": 0
                        },
                        "text/plain": [
                            "Valid [8]:   0%|          | 0/272 [00:00<?, ?batch/s]"
                        ]
                    },
                    "metadata": {},
                    "output_type": "display_data"
                },
                {
                    "name": "stdout",
                    "output_type": "stream",
                    "text": [
                        "Epoch 9 [0/272] | Valid Loss: 0.9927 | Elapse: 0.05s\n",
                        "Epoch 9 [50/272] | Valid Loss: 0.6262 | Elapse: 2.56s\n",
                        "Epoch 9 [100/272] | Valid Loss: 0.6664 | Elapse: 5.21s\n",
                        "Epoch 9 [150/272] | Valid Loss: 0.6506 | Elapse: 7.89s\n",
                        "Epoch 9 [200/272] | Valid Loss: 0.6545 | Elapse: 10.58s\n",
                        "Epoch 9 [250/272] | Valid Loss: 0.6480 | Elapse: 13.27s\n"
                    ]
                },
                {
                    "name": "stderr",
                    "output_type": "stream",
                    "text": [
                        "----------------------------------------------------------------------------------------------------\n",
                        "Epoch 9 - Average Loss: (train) 0.2627; (valid) 0.6528 | Time: 44.97s\n",
                        "Best model found in epoch 9 | valid loss: 0.6528\n"
                    ]
                },
                {
                    "name": "stdout",
                    "output_type": "stream",
                    "text": [
                        "Epoch 9 [271/272] | Valid Loss: 0.6528 | Elapse: 14.36s\n"
                    ]
                },
                {
                    "data": {
                        "application/vnd.jupyter.widget-view+json": {
                            "model_id": "da735e78c6a14cbe899dd6ddf587448b",
                            "version_major": 2,
                            "version_minor": 0
                        },
                        "text/plain": [
                            "Train [9]:   0%|          | 0/386 [00:00<?, ?batch/s]"
                        ]
                    },
                    "metadata": {},
                    "output_type": "display_data"
                },
                {
                    "name": "stdout",
                    "output_type": "stream",
                    "text": [
                        "Epoch 10 [0/386] | Train Loss: 0.2070 Grad: 82213.0078 LR: 3.0233e-06 | Elapse: 0.09s\n",
                        "Epoch 10 [50/386] | Train Loss: 0.2464 Grad: 100495.7969 LR: 2.3025e-06 | Elapse: 4.04s\n",
                        "Epoch 10 [100/386] | Train Loss: 0.2541 Grad: 72519.9531 LR: 1.6793e-06 | Elapse: 7.98s\n",
                        "Epoch 10 [150/386] | Train Loss: 0.2475 Grad: 111256.1797 LR: 1.1549e-06 | Elapse: 11.91s\n",
                        "Epoch 10 [200/386] | Train Loss: 0.2490 Grad: 100028.1094 LR: 7.3030e-07 | Elapse: 15.85s\n",
                        "Epoch 10 [250/386] | Train Loss: 0.2512 Grad: 133476.5312 LR: 4.0651e-07 | Elapse: 19.78s\n",
                        "Epoch 10 [300/386] | Train Loss: 0.2534 Grad: 121460.5078 LR: 1.8413e-07 | Elapse: 23.72s\n",
                        "Epoch 10 [350/386] | Train Loss: 0.2531 Grad: 104620.9141 LR: 6.3623e-08 | Elapse: 27.65s\n",
                        "Epoch 10 [385/386] | Train Loss: 0.2537 Grad: 147852.0000 LR: 4.0020e-08 | Elapse: 30.48s\n"
                    ]
                },
                {
                    "data": {
                        "application/vnd.jupyter.widget-view+json": {
                            "model_id": "e4162d4acd7e4b169ca48ca0abf2b13a",
                            "version_major": 2,
                            "version_minor": 0
                        },
                        "text/plain": [
                            "Valid [9]:   0%|          | 0/272 [00:00<?, ?batch/s]"
                        ]
                    },
                    "metadata": {},
                    "output_type": "display_data"
                },
                {
                    "name": "stdout",
                    "output_type": "stream",
                    "text": [
                        "Epoch 10 [0/272] | Valid Loss: 1.0149 | Elapse: 0.05s\n",
                        "Epoch 10 [50/272] | Valid Loss: 0.6246 | Elapse: 2.57s\n",
                        "Epoch 10 [100/272] | Valid Loss: 0.6616 | Elapse: 5.19s\n",
                        "Epoch 10 [150/272] | Valid Loss: 0.6578 | Elapse: 7.87s\n",
                        "Epoch 10 [200/272] | Valid Loss: 0.6614 | Elapse: 10.56s\n",
                        "Epoch 10 [250/272] | Valid Loss: 0.6527 | Elapse: 13.25s\n"
                    ]
                },
                {
                    "name": "stderr",
                    "output_type": "stream",
                    "text": [
                        "----------------------------------------------------------------------------------------------------\n",
                        "Epoch 10 - Average Loss: (train) 0.2537; (valid) 0.6561 | Time: 44.82s\n"
                    ]
                },
                {
                    "name": "stdout",
                    "output_type": "stream",
                    "text": [
                        "Epoch 10 [271/272] | Valid Loss: 0.6561 | Elapse: 14.34s\n"
                    ]
                },
                {
                    "name": "stderr",
                    "output_type": "stream",
                    "text": [
                        "====================================================================================================\n",
                        "Fold 4 Valid Loss: 0.6528093218803406\n",
                        "Elapse: 7.49 min \n",
                        "====================================================================================================\n"
                    ]
                }
            ],
            "source": [
                "logger = get_logger(PATHS.OUTPUT_DIR, f\"{ModelConfig.MODEL_NAME}_train.log\")\n",
                "\n",
                "logger.info(f\"{'*' * 100}\")\n",
                "logger.info(f\"Script Start: {ctime()}\")\n",
                "logger.info(f\"Model Configurations:\")\n",
                "for key, value in ModelConfig.__dict__.items():\n",
                "    if not key.startswith(\"__\"):\n",
                "        logger.info(f\"{key}: {value}\")\n",
                "logger.info(f\"{'*' * 100}\")\n",
                "\n",
                "k_folds = 5\n",
                "train_all = prepare_k_fold(train_all, k_folds=k_folds)\n",
                "\n",
                "oof_stage_1, oof_stage_2 = pd.DataFrame(), pd.DataFrame()\n",
                "loss_history_1, loss_history_2 = [], []\n",
                "\n",
                "for fold in range(k_folds):\n",
                "    tik = time()\n",
                "\n",
                "    model = get_model(pretrained=True)\n",
                "    # model = CustomVITMAE(ModelConfig, num_classes=6, pretrained=False)\n",
                "\n",
                "    valid_folds = train_all[train_all['fold'] == fold].reset_index(drop=True)\n",
                "    train_folds = train_all[train_all['fold'] != fold].reset_index(drop=True)\n",
                "\n",
                "    # STAGE 1\n",
                "    logger.info(f\"{'=' * 100}\\nFold: {fold} || Valid size {valid_folds.shape[0]} \\n{'=' * 100}\")\n",
                "    logger.info(f\"- First Stage -\")\n",
                "    valid_predicts, loss_records = train_fold(\n",
                "        model, fold, train_folds, valid_folds, logger, stage=1, checkpoint=None)\n",
                "\n",
                "    loss_history_1.append(loss_records)\n",
                "    valid_folds[TARGETS_PRED] = valid_predicts\n",
                "    oof_stage_1 = pd.concat([oof_stage_1, valid_folds], axis=0).reset_index(drop=True)\n",
                "    kl_loss_torch = evaluate_oof(valid_folds)\n",
                "    info = f\"{'=' * 100}\\nFold {fold} Valid Loss: {kl_loss_torch}\\n\"\n",
                "    info += f\"Elapse: {(time() - tik) / 60:.2f} min \\n{'=' * 100}\"\n",
                "    logger.info(info)\n",
                "    oof_stage_1.to_csv(os.path.join(PATHS.OUTPUT_DIR, f\"{ModelConfig.MODEL_NAME}_oof_1.csv\"), index=False)\n",
                "\n",
                "    # STAGE 2\n",
                "    tik = time()\n",
                "    logger.info(f\"- Second Stage -\")\n",
                "    check_point = os.path.join(\n",
                "        PATHS.OUTPUT_DIR,\n",
                "        f\"{ModelConfig.MODEL_NAME}_fold_{fold}_stage_1.pth\"\n",
                "    )\n",
                "    logger.info(f\"Use Checkpoint: {check_point.split('/')[-1]}\")\n",
                "\n",
                "    model = get_model(pretrained=True)\n",
                "    valid_predicts, loss_records = train_fold(\n",
                "        model, fold, train_hard, valid_folds, logger, stage=2, checkpoint=check_point)\n",
                "\n",
                "    loss_history_2.append(loss_records)\n",
                "    valid_folds[TARGETS_PRED] = valid_predicts\n",
                "    oof_stage_2 = pd.concat([oof_stage_2, valid_folds], axis=0).reset_index(drop=True)\n",
                "    kl_loss_torch = evaluate_oof(valid_folds)\n",
                "    info = f\"{'=' * 100}\\nFold {fold} Valid Loss: {kl_loss_torch}\\n\"\n",
                "    info += f\"Elapse: {(time() - tik) / 60:.2f} min \\n{'=' * 100}\"\n",
                "    logger.info(info)\n",
                "    oof_stage_2.to_csv(os.path.join(PATHS.OUTPUT_DIR, f\"{ModelConfig.MODEL_NAME}_oof_2.csv\"), index=False)"
            ]
        },
        {
            "cell_type": "code",
            "execution_count": 8,
            "metadata": {},
            "outputs": [
                {
                    "name": "stdout",
                    "output_type": "stream",
                    "text": [
                        "CSV Path:  ./outputs/MAE_Raw_Backbone_oof_2.csv\n",
                        "Kaggle Score:  0.636648925551153\n",
                        "Average KL Loss:  0.6366489\n"
                    ]
                },
                {
                    "data": {
                        "text/html": [
                            "<div>\n",
                            "<style scoped>\n",
                            "    .dataframe tbody tr th:only-of-type {\n",
                            "        vertical-align: middle;\n",
                            "    }\n",
                            "\n",
                            "    .dataframe tbody tr th {\n",
                            "        vertical-align: top;\n",
                            "    }\n",
                            "\n",
                            "    .dataframe thead th {\n",
                            "        text-align: right;\n",
                            "    }\n",
                            "</style>\n",
                            "<table border=\"1\" class=\"dataframe\">\n",
                            "  <thead>\n",
                            "    <tr style=\"text-align: right;\">\n",
                            "      <th></th>\n",
                            "      <th>eeg_id</th>\n",
                            "      <th>seizure_vote</th>\n",
                            "      <th>lpd_vote</th>\n",
                            "      <th>gpd_vote</th>\n",
                            "      <th>lrda_vote</th>\n",
                            "      <th>grda_vote</th>\n",
                            "      <th>other_vote</th>\n",
                            "      <th>spectrogram_id</th>\n",
                            "      <th>min</th>\n",
                            "      <th>max</th>\n",
                            "      <th>patient_id</th>\n",
                            "      <th>target</th>\n",
                            "      <th>fold</th>\n",
                            "      <th>seizure_pred</th>\n",
                            "      <th>lpd_pred</th>\n",
                            "      <th>gpd_pred</th>\n",
                            "      <th>lrda_pred</th>\n",
                            "      <th>grda_pred</th>\n",
                            "      <th>other_pred</th>\n",
                            "      <th>target_pred</th>\n",
                            "      <th>target_id</th>\n",
                            "      <th>kl_loss</th>\n",
                            "    </tr>\n",
                            "  </thead>\n",
                            "  <tbody>\n",
                            "    <tr>\n",
                            "      <th>0</th>\n",
                            "      <td>751790</td>\n",
                            "      <td>0.0</td>\n",
                            "      <td>0.000000</td>\n",
                            "      <td>1.000000</td>\n",
                            "      <td>0.000000</td>\n",
                            "      <td>0.000000</td>\n",
                            "      <td>0.000000</td>\n",
                            "      <td>618728447</td>\n",
                            "      <td>908.0</td>\n",
                            "      <td>908.0</td>\n",
                            "      <td>38549</td>\n",
                            "      <td>GPD</td>\n",
                            "      <td>0</td>\n",
                            "      <td>0.009115</td>\n",
                            "      <td>0.244486</td>\n",
                            "      <td>0.728229</td>\n",
                            "      <td>0.001914</td>\n",
                            "      <td>0.005274</td>\n",
                            "      <td>0.010982</td>\n",
                            "      <td>2</td>\n",
                            "      <td>2</td>\n",
                            "      <td>0.317139</td>\n",
                            "    </tr>\n",
                            "    <tr>\n",
                            "      <th>1</th>\n",
                            "      <td>2366870</td>\n",
                            "      <td>0.0</td>\n",
                            "      <td>0.333333</td>\n",
                            "      <td>0.000000</td>\n",
                            "      <td>0.000000</td>\n",
                            "      <td>0.000000</td>\n",
                            "      <td>0.666667</td>\n",
                            "      <td>1232582129</td>\n",
                            "      <td>0.0</td>\n",
                            "      <td>30.0</td>\n",
                            "      <td>23633</td>\n",
                            "      <td>Other</td>\n",
                            "      <td>0</td>\n",
                            "      <td>0.008895</td>\n",
                            "      <td>0.033997</td>\n",
                            "      <td>0.011221</td>\n",
                            "      <td>0.079538</td>\n",
                            "      <td>0.031858</td>\n",
                            "      <td>0.834490</td>\n",
                            "      <td>5</td>\n",
                            "      <td>5</td>\n",
                            "      <td>0.611268</td>\n",
                            "    </tr>\n",
                            "    <tr>\n",
                            "      <th>2</th>\n",
                            "      <td>2482631</td>\n",
                            "      <td>0.0</td>\n",
                            "      <td>0.000000</td>\n",
                            "      <td>0.133333</td>\n",
                            "      <td>0.066667</td>\n",
                            "      <td>0.133333</td>\n",
                            "      <td>0.666667</td>\n",
                            "      <td>978166025</td>\n",
                            "      <td>1902.0</td>\n",
                            "      <td>1944.0</td>\n",
                            "      <td>20606</td>\n",
                            "      <td>Other</td>\n",
                            "      <td>0</td>\n",
                            "      <td>0.072089</td>\n",
                            "      <td>0.072067</td>\n",
                            "      <td>0.165616</td>\n",
                            "      <td>0.149918</td>\n",
                            "      <td>0.236840</td>\n",
                            "      <td>0.303471</td>\n",
                            "      <td>5</td>\n",
                            "      <td>5</td>\n",
                            "      <td>0.365131</td>\n",
                            "    </tr>\n",
                            "    <tr>\n",
                            "      <th>3</th>\n",
                            "      <td>2521897</td>\n",
                            "      <td>0.0</td>\n",
                            "      <td>0.000000</td>\n",
                            "      <td>0.083333</td>\n",
                            "      <td>0.083333</td>\n",
                            "      <td>0.333333</td>\n",
                            "      <td>0.500000</td>\n",
                            "      <td>673742515</td>\n",
                            "      <td>0.0</td>\n",
                            "      <td>4.0</td>\n",
                            "      <td>62117</td>\n",
                            "      <td>Other</td>\n",
                            "      <td>0</td>\n",
                            "      <td>0.002635</td>\n",
                            "      <td>0.045136</td>\n",
                            "      <td>0.048785</td>\n",
                            "      <td>0.072229</td>\n",
                            "      <td>0.298655</td>\n",
                            "      <td>0.532560</td>\n",
                            "      <td>5</td>\n",
                            "      <td>5</td>\n",
                            "      <td>0.061610</td>\n",
                            "    </tr>\n",
                            "    <tr>\n",
                            "      <th>4</th>\n",
                            "      <td>3108700</td>\n",
                            "      <td>0.0</td>\n",
                            "      <td>0.000000</td>\n",
                            "      <td>0.000000</td>\n",
                            "      <td>0.000000</td>\n",
                            "      <td>0.000000</td>\n",
                            "      <td>1.000000</td>\n",
                            "      <td>223960986</td>\n",
                            "      <td>0.0</td>\n",
                            "      <td>0.0</td>\n",
                            "      <td>55677</td>\n",
                            "      <td>Other</td>\n",
                            "      <td>0</td>\n",
                            "      <td>0.001068</td>\n",
                            "      <td>0.003339</td>\n",
                            "      <td>0.007631</td>\n",
                            "      <td>0.017613</td>\n",
                            "      <td>0.025774</td>\n",
                            "      <td>0.944574</td>\n",
                            "      <td>5</td>\n",
                            "      <td>5</td>\n",
                            "      <td>0.057021</td>\n",
                            "    </tr>\n",
                            "  </tbody>\n",
                            "</table>\n",
                            "</div>"
                        ],
                        "text/plain": [
                            "    eeg_id  seizure_vote  lpd_vote  gpd_vote  lrda_vote  grda_vote  \\\n",
                            "0   751790           0.0  0.000000  1.000000   0.000000   0.000000   \n",
                            "1  2366870           0.0  0.333333  0.000000   0.000000   0.000000   \n",
                            "2  2482631           0.0  0.000000  0.133333   0.066667   0.133333   \n",
                            "3  2521897           0.0  0.000000  0.083333   0.083333   0.333333   \n",
                            "4  3108700           0.0  0.000000  0.000000   0.000000   0.000000   \n",
                            "\n",
                            "   other_vote  spectrogram_id     min     max  patient_id target  fold  \\\n",
                            "0    0.000000       618728447   908.0   908.0       38549    GPD     0   \n",
                            "1    0.666667      1232582129     0.0    30.0       23633  Other     0   \n",
                            "2    0.666667       978166025  1902.0  1944.0       20606  Other     0   \n",
                            "3    0.500000       673742515     0.0     4.0       62117  Other     0   \n",
                            "4    1.000000       223960986     0.0     0.0       55677  Other     0   \n",
                            "\n",
                            "   seizure_pred  lpd_pred  gpd_pred  lrda_pred  grda_pred  other_pred  \\\n",
                            "0      0.009115  0.244486  0.728229   0.001914   0.005274    0.010982   \n",
                            "1      0.008895  0.033997  0.011221   0.079538   0.031858    0.834490   \n",
                            "2      0.072089  0.072067  0.165616   0.149918   0.236840    0.303471   \n",
                            "3      0.002635  0.045136  0.048785   0.072229   0.298655    0.532560   \n",
                            "4      0.001068  0.003339  0.007631   0.017613   0.025774    0.944574   \n",
                            "\n",
                            "   target_pred  target_id   kl_loss  \n",
                            "0            2          2  0.317139  \n",
                            "1            5          5  0.611268  \n",
                            "2            5          5  0.365131  \n",
                            "3            5          5  0.061610  \n",
                            "4            5          5  0.057021  "
                        ]
                    },
                    "metadata": {},
                    "output_type": "display_data"
                },
                {
                    "data": {
                        "image/png": "[encoded data removed]",
                        "text/plain": [
                            "<Figure size 600x600 with 2 Axes>"
                        ]
                    },
                    "metadata": {},
                    "output_type": "display_data"
                }
            ],
            "source": [
                "csv_path = f'./outputs/{ModelConfig.MODEL_NAME}_oof_2.csv'\n",
                "print(\"CSV Path: \", csv_path)\n",
                "\n",
                "oof_df = analyze_oof(csv_path)\n",
                "\n",
                "print(\"Kaggle Score: \", calc_kaggle_score(oof_df))\n",
                "print(\"Average KL Loss: \", oof_df[\"kl_loss\"].mean())\n",
                "\n",
                "display(oof_df.head())\n",
                "\n",
                "# plot confusion matrix\n",
                "cm = confusion_matrix(oof_df['target_id'], oof_df['target_pred']) # (y_true, y_pred)\n",
                "cm = cm / cm.sum(axis=1)[:, np.newaxis]\n",
                "\n",
                "fig = plt.figure(figsize=(6, 6))\n",
                "sns.heatmap(cm, annot=True, cmap='Blues', xticklabels=TARGET2ID.keys(), yticklabels=TARGET2ID.keys())\n",
                "plt.xlabel('Predicted', fontsize=12)\n",
                "plt.ylabel('True', fontsize=12)\n",
                "plt.title(csv_path.split('/')[-1].split('.')[0], fontsize=12)\n",
                "fig.tight_layout()\n",
                "fig.savefig(f\"./outputs/{csv_path.split('/')[-1].split('.')[0]}_CM.png\")\n",
                "plt.show()"
            ]
        },
        {
            "cell_type": "code",
            "execution_count": 9,
            "metadata": {},
            "outputs": [
                {
                    "data": {
                        "image/png": "[encoded data removed]",
                        "text/plain": [
                            "<Figure size 1000x500 with 2 Axes>"
                        ]
                    },
                    "metadata": {},
                    "output_type": "display_data"
                }
            ],
            "source": [
                "# check distribution of targets\n",
                "fig, axes = plt.subplots(1, 2, figsize=(10, 5))\n",
                "train_all[\"target\"].value_counts().plot(kind=\"bar\", ax=axes[0])\n",
                "train_hard[\"target\"].value_counts().plot(kind=\"bar\", ax=axes[1])\n",
                "axes[0].set_title(\"Easy\")\n",
                "axes[1].set_title(\"Hard\")\n",
                "fig.tight_layout()\n",
                "plt.show()"
            ]
        },
        {
            "cell_type": "code",
            "execution_count": null,
            "metadata": {},
            "outputs": [],
            "source": [
                "# hms_predictor = HMSPredictor(paths.OUTPUT_DIR, ModelConfig, k_fold=5)"
            ]
        },
        {
            "cell_type": "code",
            "execution_count": null,
            "metadata": {},
            "outputs": [],
            "source": [
                "# hms_predictor.train_model(train_easy, train_hard, all_specs, all_eegs)"
            ]
        },
        {
            "cell_type": "code",
            "execution_count": null,
            "metadata": {},
            "outputs": [],
            "source": [
                "\n",
                "\n",
                "# hms_predictor = HMSPredictor(paths.OUTPUT_DIR, ModelConfig, k_fold=5)"
            ]
        },
        {
            "cell_type": "code",
            "execution_count": null,
            "metadata": {},
            "outputs": [],
            "source": [
                "# new figure\n",
                "fig, axes = plt.subplots(6, 5, figsize=(18, 16), sharex=True, sharey=True)\n",
                "\n",
                "plot_oof = oof_df[oof_df['kl_loss'] > 0.2]\n",
                "\n",
                "for row in range(axes.shape[0]):\n",
                "    row_selects = plot_oof[plot_oof['target_id']==row]\n",
                "    target_label = BRAIN_ACTIVITY[row]\n",
                "    for col in range(axes.shape[1]):\n",
                "        ax = axes[row, col]\n",
                "        idx = np.random.choice(row_selects.index)\n",
                "        df_rows = plot_oof.loc[idx]\n",
                "        ax.plot(df_rows[TARGETS].values , label='True')\n",
                "        ax.plot(df_rows[TARGETS_PRED].values, label='Pred')\n",
                "        ax.set_title(f\"{idx} | KL: {df_rows['kl_loss']:.4f} \") #\n",
                "        ax.set_xticks(range(6))\n",
                "        ax.set_xticklabels(BRAIN_ACTIVITY)\n",
                "        ax.grid(True)\n",
                "        ax.legend()\n",
                "        if col == 0:\n",
                "            ax.set_ylabel(target_label, fontsize=12)\n",
                "       \n",
                "fig.tight_layout()\n",
                "plt.show()\n",
                "\n",
                "\n"
            ]
        },
        {
            "cell_type": "code",
            "execution_count": null,
            "metadata": {},
            "outputs": [],
            "source": []
        },
        {
            "cell_type": "code",
            "execution_count": null,
            "metadata": {},
            "outputs": [],
            "source": []
        }
    ],
    "metadata": {
        "kernelspec": {
            "display_name": "kaggle",
            "language": "python",
            "name": "python3"
        },
        "language_info": {
            "codemirror_mode": {
                "name": "ipython",
                "version": 3
            },
            "file_extension": ".py",
            "mimetype": "text/x-python",
            "name": "python",
            "nbconvert_exporter": "python",
            "pygments_lexer": "ipython3",
            "version": "3.11.6"
        }
    },
    "nbformat": 4,
    "nbformat_minor": 2
}
