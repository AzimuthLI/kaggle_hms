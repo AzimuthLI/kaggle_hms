{
    "cells": [
        {
            "cell_type": "code",
            "execution_count": 1,
            "metadata": {},
            "outputs": [
                {
                    "name": "stderr",
                    "output_type": "stream",
                    "text": [
                        "/home/shiyi/miniconda3/envs/kaggle/lib/python3.11/site-packages/transformers/utils/generic.py:441: UserWarning: torch.utils._pytree._register_pytree_node is deprecated. Please use torch.utils._pytree.register_pytree_node instead.\n",
                        "  _torch_pytree._register_pytree_node(\n"
                    ]
                }
            ],
            "source": [
                "import pandas as pd \n",
                "import numpy as np \n",
                "from scipy.stats import entropy\n",
                "import matplotlib.pyplot as plt\n",
                "\n",
                "from engine_hms_trainer import *\n",
                "from engine_hms_model import CustomModel, JobConfig, ModelConfig\n",
                "\n",
                "import torch\n",
                "from torch import nn\n",
                "import torch.nn.functional as F"
            ]
        },
        {
            "cell_type": "code",
            "execution_count": 2,
            "metadata": {},
            "outputs": [
                {
                    "name": "stderr",
                    "output_type": "stream",
                    "text": [
                        "****************************************************************************************************\n",
                        "Script Start: Sun Mar 10 00:46:23 2024\n",
                        "Initializing HMS Predictor...\n",
                        "Model Name: ENet_b2_xymask\n",
                        "Drop Rate: 0.15\n",
                        "Drop Path Rate: 0.25\n",
                        "Augment: True\n",
                        "Augmentations: ['xy_masking']\n",
                        "Enropy Split: 5.5\n",
                        "Device: cuda\n",
                        "Output Dir: ./outputs/\n",
                        "****************************************************************************************************\n"
                    ]
                }
            ],
            "source": [
                "seed_everything(JobConfig.SEED)\n",
                "\n",
                "ModelConfig.EPOCHS = 6\n",
                "ModelConfig.USE_EEG_SPECTROGRAMS = False\n",
                "ModelConfig.MODEL_BACKBONE = 'tf_efficientnet_b2'\n",
                "ModelConfig.MODEL_NAME = \"ENet_b2_xymask\"\n",
                "ModelConfig.AUGMENT = True\n",
                "ModelConfig.USE_KAGGLE_SPECTROGRAMS = True\n",
                "ModelConfig.USE_EEG_SPECTROGRAMS = True\n",
                "\n",
                "ModelConfig.AUGMENTATIONS = ['xy_masking']\n",
                "\n",
                "hms_predictor = HMSPredictor(JobConfig, ModelConfig)"
            ]
        },
        {
            "cell_type": "code",
            "execution_count": 3,
            "metadata": {},
            "outputs": [
                {
                    "name": "stdout",
                    "output_type": "stream",
                    "text": [
                        "(12440, 14)\n",
                        "(5536, 14)\n",
                        "0\n",
                        "0\n"
                    ]
                },
                {
                    "data": {
                        "text/html": [
                            "<div>\n",
                            "<style scoped>\n",
                            "    .dataframe tbody tr th:only-of-type {\n",
                            "        vertical-align: middle;\n",
                            "    }\n",
                            "\n",
                            "    .dataframe tbody tr th {\n",
                            "        vertical-align: top;\n",
                            "    }\n",
                            "\n",
                            "    .dataframe thead th {\n",
                            "        text-align: right;\n",
                            "    }\n",
                            "</style>\n",
                            "<table border=\"1\" class=\"dataframe\">\n",
                            "  <thead>\n",
                            "    <tr style=\"text-align: right;\">\n",
                            "      <th></th>\n",
                            "      <th>eeg_id</th>\n",
                            "      <th>spectrogram_id</th>\n",
                            "      <th>min</th>\n",
                            "      <th>max</th>\n",
                            "      <th>patient_id</th>\n",
                            "      <th>target</th>\n",
                            "      <th>total_votes</th>\n",
                            "      <th>entropy</th>\n",
                            "      <th>seizure_vote</th>\n",
                            "      <th>lpd_vote</th>\n",
                            "      <th>gpd_vote</th>\n",
                            "      <th>lrda_vote</th>\n",
                            "      <th>grda_vote</th>\n",
                            "      <th>other_vote</th>\n",
                            "    </tr>\n",
                            "  </thead>\n",
                            "  <tbody>\n",
                            "    <tr>\n",
                            "      <th>0</th>\n",
                            "      <td>642382</td>\n",
                            "      <td>14960202</td>\n",
                            "      <td>1008.0</td>\n",
                            "      <td>1032.0</td>\n",
                            "      <td>5955</td>\n",
                            "      <td>Other</td>\n",
                            "      <td>2</td>\n",
                            "      <td>7.802343</td>\n",
                            "      <td>0.0</td>\n",
                            "      <td>0.0</td>\n",
                            "      <td>0.0</td>\n",
                            "      <td>0.0</td>\n",
                            "      <td>0.0</td>\n",
                            "      <td>1.0</td>\n",
                            "    </tr>\n",
                            "    <tr>\n",
                            "      <th>1</th>\n",
                            "      <td>751790</td>\n",
                            "      <td>618728447</td>\n",
                            "      <td>908.0</td>\n",
                            "      <td>908.0</td>\n",
                            "      <td>38549</td>\n",
                            "      <td>GPD</td>\n",
                            "      <td>1</td>\n",
                            "      <td>7.802343</td>\n",
                            "      <td>0.0</td>\n",
                            "      <td>0.0</td>\n",
                            "      <td>1.0</td>\n",
                            "      <td>0.0</td>\n",
                            "      <td>0.0</td>\n",
                            "      <td>0.0</td>\n",
                            "    </tr>\n",
                            "    <tr>\n",
                            "      <th>2</th>\n",
                            "      <td>778705</td>\n",
                            "      <td>52296320</td>\n",
                            "      <td>0.0</td>\n",
                            "      <td>0.0</td>\n",
                            "      <td>40955</td>\n",
                            "      <td>Other</td>\n",
                            "      <td>2</td>\n",
                            "      <td>7.686820</td>\n",
                            "      <td>0.0</td>\n",
                            "      <td>0.0</td>\n",
                            "      <td>0.0</td>\n",
                            "      <td>0.0</td>\n",
                            "      <td>0.0</td>\n",
                            "      <td>1.0</td>\n",
                            "    </tr>\n",
                            "    <tr>\n",
                            "      <th>3</th>\n",
                            "      <td>1629671</td>\n",
                            "      <td>2036345030</td>\n",
                            "      <td>0.0</td>\n",
                            "      <td>160.0</td>\n",
                            "      <td>37481</td>\n",
                            "      <td>Seizure</td>\n",
                            "      <td>51</td>\n",
                            "      <td>7.619243</td>\n",
                            "      <td>1.0</td>\n",
                            "      <td>0.0</td>\n",
                            "      <td>0.0</td>\n",
                            "      <td>0.0</td>\n",
                            "      <td>0.0</td>\n",
                            "      <td>0.0</td>\n",
                            "    </tr>\n",
                            "    <tr>\n",
                            "      <th>4</th>\n",
                            "      <td>2061593</td>\n",
                            "      <td>320962633</td>\n",
                            "      <td>1450.0</td>\n",
                            "      <td>1450.0</td>\n",
                            "      <td>23828</td>\n",
                            "      <td>Other</td>\n",
                            "      <td>1</td>\n",
                            "      <td>7.802343</td>\n",
                            "      <td>0.0</td>\n",
                            "      <td>0.0</td>\n",
                            "      <td>0.0</td>\n",
                            "      <td>0.0</td>\n",
                            "      <td>0.0</td>\n",
                            "      <td>1.0</td>\n",
                            "    </tr>\n",
                            "  </tbody>\n",
                            "</table>\n",
                            "</div>"
                        ],
                        "text/plain": [
                            "    eeg_id  spectrogram_id     min     max  patient_id   target  total_votes  \\\n",
                            "0   642382        14960202  1008.0  1032.0        5955    Other            2   \n",
                            "1   751790       618728447   908.0   908.0       38549      GPD            1   \n",
                            "2   778705        52296320     0.0     0.0       40955    Other            2   \n",
                            "3  1629671      2036345030     0.0   160.0       37481  Seizure           51   \n",
                            "4  2061593       320962633  1450.0  1450.0       23828    Other            1   \n",
                            "\n",
                            "    entropy  seizure_vote  lpd_vote  gpd_vote  lrda_vote  grda_vote  \\\n",
                            "0  7.802343           0.0       0.0       0.0        0.0        0.0   \n",
                            "1  7.802343           0.0       0.0       1.0        0.0        0.0   \n",
                            "2  7.686820           0.0       0.0       0.0        0.0        0.0   \n",
                            "3  7.619243           1.0       0.0       0.0        0.0        0.0   \n",
                            "4  7.802343           0.0       0.0       0.0        0.0        0.0   \n",
                            "\n",
                            "   other_vote  \n",
                            "0         1.0  \n",
                            "1         0.0  \n",
                            "2         1.0  \n",
                            "3         0.0  \n",
                            "4         1.0  "
                        ]
                    },
                    "metadata": {},
                    "output_type": "display_data"
                },
                {
                    "name": "stdout",
                    "output_type": "stream",
                    "text": [
                        " \n"
                    ]
                },
                {
                    "data": {
                        "text/html": [
                            "<div>\n",
                            "<style scoped>\n",
                            "    .dataframe tbody tr th:only-of-type {\n",
                            "        vertical-align: middle;\n",
                            "    }\n",
                            "\n",
                            "    .dataframe tbody tr th {\n",
                            "        vertical-align: top;\n",
                            "    }\n",
                            "\n",
                            "    .dataframe thead th {\n",
                            "        text-align: right;\n",
                            "    }\n",
                            "</style>\n",
                            "<table border=\"1\" class=\"dataframe\">\n",
                            "  <thead>\n",
                            "    <tr style=\"text-align: right;\">\n",
                            "      <th></th>\n",
                            "      <th>eeg_id</th>\n",
                            "      <th>spectrogram_id</th>\n",
                            "      <th>min</th>\n",
                            "      <th>max</th>\n",
                            "      <th>patient_id</th>\n",
                            "      <th>target</th>\n",
                            "      <th>total_votes</th>\n",
                            "      <th>entropy</th>\n",
                            "      <th>seizure_vote</th>\n",
                            "      <th>lpd_vote</th>\n",
                            "      <th>gpd_vote</th>\n",
                            "      <th>lrda_vote</th>\n",
                            "      <th>grda_vote</th>\n",
                            "      <th>other_vote</th>\n",
                            "    </tr>\n",
                            "  </thead>\n",
                            "  <tbody>\n",
                            "    <tr>\n",
                            "      <th>0</th>\n",
                            "      <td>568657</td>\n",
                            "      <td>789577333</td>\n",
                            "      <td>0.0</td>\n",
                            "      <td>16.0</td>\n",
                            "      <td>20654</td>\n",
                            "      <td>Other</td>\n",
                            "      <td>48</td>\n",
                            "      <td>3.341757</td>\n",
                            "      <td>0.000000</td>\n",
                            "      <td>0.000000</td>\n",
                            "      <td>0.250000</td>\n",
                            "      <td>0.000000</td>\n",
                            "      <td>0.166667</td>\n",
                            "      <td>0.583333</td>\n",
                            "    </tr>\n",
                            "    <tr>\n",
                            "      <th>1</th>\n",
                            "      <td>582999</td>\n",
                            "      <td>1552638400</td>\n",
                            "      <td>0.0</td>\n",
                            "      <td>38.0</td>\n",
                            "      <td>20230</td>\n",
                            "      <td>LPD</td>\n",
                            "      <td>154</td>\n",
                            "      <td>3.550549</td>\n",
                            "      <td>0.000000</td>\n",
                            "      <td>0.857143</td>\n",
                            "      <td>0.000000</td>\n",
                            "      <td>0.071429</td>\n",
                            "      <td>0.000000</td>\n",
                            "      <td>0.071429</td>\n",
                            "    </tr>\n",
                            "    <tr>\n",
                            "      <th>2</th>\n",
                            "      <td>1895581</td>\n",
                            "      <td>128369999</td>\n",
                            "      <td>1138.0</td>\n",
                            "      <td>1138.0</td>\n",
                            "      <td>47999</td>\n",
                            "      <td>Other</td>\n",
                            "      <td>13</td>\n",
                            "      <td>3.565051</td>\n",
                            "      <td>0.076923</td>\n",
                            "      <td>0.000000</td>\n",
                            "      <td>0.000000</td>\n",
                            "      <td>0.000000</td>\n",
                            "      <td>0.076923</td>\n",
                            "      <td>0.846154</td>\n",
                            "    </tr>\n",
                            "    <tr>\n",
                            "      <th>3</th>\n",
                            "      <td>2482631</td>\n",
                            "      <td>978166025</td>\n",
                            "      <td>1902.0</td>\n",
                            "      <td>1944.0</td>\n",
                            "      <td>20606</td>\n",
                            "      <td>Other</td>\n",
                            "      <td>105</td>\n",
                            "      <td>1.431066</td>\n",
                            "      <td>0.000000</td>\n",
                            "      <td>0.000000</td>\n",
                            "      <td>0.133333</td>\n",
                            "      <td>0.066667</td>\n",
                            "      <td>0.133333</td>\n",
                            "      <td>0.666667</td>\n",
                            "    </tr>\n",
                            "    <tr>\n",
                            "      <th>4</th>\n",
                            "      <td>2521897</td>\n",
                            "      <td>673742515</td>\n",
                            "      <td>0.0</td>\n",
                            "      <td>4.0</td>\n",
                            "      <td>62117</td>\n",
                            "      <td>Other</td>\n",
                            "      <td>24</td>\n",
                            "      <td>1.516203</td>\n",
                            "      <td>0.000000</td>\n",
                            "      <td>0.000000</td>\n",
                            "      <td>0.083333</td>\n",
                            "      <td>0.083333</td>\n",
                            "      <td>0.333333</td>\n",
                            "      <td>0.500000</td>\n",
                            "    </tr>\n",
                            "  </tbody>\n",
                            "</table>\n",
                            "</div>"
                        ],
                        "text/plain": [
                            "    eeg_id  spectrogram_id     min     max  patient_id target  total_votes  \\\n",
                            "0   568657       789577333     0.0    16.0       20654  Other           48   \n",
                            "1   582999      1552638400     0.0    38.0       20230    LPD          154   \n",
                            "2  1895581       128369999  1138.0  1138.0       47999  Other           13   \n",
                            "3  2482631       978166025  1902.0  1944.0       20606  Other          105   \n",
                            "4  2521897       673742515     0.0     4.0       62117  Other           24   \n",
                            "\n",
                            "    entropy  seizure_vote  lpd_vote  gpd_vote  lrda_vote  grda_vote  \\\n",
                            "0  3.341757      0.000000  0.000000  0.250000   0.000000   0.166667   \n",
                            "1  3.550549      0.000000  0.857143  0.000000   0.071429   0.000000   \n",
                            "2  3.565051      0.076923  0.000000  0.000000   0.000000   0.076923   \n",
                            "3  1.431066      0.000000  0.000000  0.133333   0.066667   0.133333   \n",
                            "4  1.516203      0.000000  0.000000  0.083333   0.083333   0.333333   \n",
                            "\n",
                            "   other_vote  \n",
                            "0    0.583333  \n",
                            "1    0.071429  \n",
                            "2    0.846154  \n",
                            "3    0.666667  \n",
                            "4    0.500000  "
                        ]
                    },
                    "metadata": {},
                    "output_type": "display_data"
                }
            ],
            "source": [
                "train_easy, train_hard, all_specs, all_eegs = hms_predictor.load_train_data()\n",
                "\n",
                "print(train_easy.shape)\n",
                "print(train_hard.shape)\n",
                "\n",
                "# check if contain NaN\n",
                "print(train_easy.isnull().sum().sum())\n",
                "print(train_hard.isnull().sum().sum())\n",
                "\n",
                "display(train_easy.head())\n",
                "print(\" \")\n",
                "display(train_hard.head())"
            ]
        },
        {
            "cell_type": "code",
            "execution_count": 4,
            "metadata": {},
            "outputs": [
                {
                    "name": "stderr",
                    "output_type": "stream",
                    "text": [
                        "====================================================================================================\n",
                        "Fold: 0 || Valid size 3596 \n",
                        "====================================================================================================\n",
                        "- First Stage \n"
                    ]
                },
                {
                    "data": {
                        "application/vnd.jupyter.widget-view+json": {
                            "model_id": "948998dc6b414c7a96a4cd76f5f50a92",
                            "version_major": 2,
                            "version_minor": 0
                        },
                        "text/plain": [
                            "Train:   0%|          | 0/622 [00:00<?, ?batch/s]"
                        ]
                    },
                    "metadata": {},
                    "output_type": "display_data"
                },
                {
                    "name": "stdout",
                    "output_type": "stream",
                    "text": [
                        "Epoch: [1][0/622]Elapsed 1.08s | Loss: 0.8220 Grad: 67731.3828 LR: 4.0000e-06\n",
                        "Epoch: [1][50/622]Elapsed 8.17s | Loss: 0.8346 Grad: 85699.5469 LR: 5.0647e-06\n",
                        "Epoch: [1][100/622]Elapsed 15.29s | Loss: 0.8281 Grad: 70401.9922 LR: 8.2116e-06\n",
                        "Epoch: [1][150/622]Elapsed 22.41s | Loss: 0.8233 Grad: 75559.6250 LR: 1.3301e-05\n",
                        "Epoch: [1][200/622]Elapsed 29.53s | Loss: 0.8153 Grad: 72208.4922 LR: 2.0107e-05\n",
                        "Epoch: [1][250/622]Elapsed 36.67s | Loss: 0.8045 Grad: 70698.4688 LR: 2.8328e-05\n",
                        "Epoch: [1][300/622]Elapsed 43.82s | Loss: 0.7909 Grad: 78792.6719 LR: 3.7599e-05\n",
                        "Epoch: [1][350/622]Elapsed 51.00s | Loss: 0.7736 Grad: 118346.3359 LR: 4.7509e-05\n",
                        "Epoch: [1][400/622]Elapsed 58.20s | Loss: 0.7534 Grad: 59210.1992 LR: 5.7619e-05\n",
                        "Epoch: [1][450/622]Elapsed 65.43s | Loss: 0.7316 Grad: 76243.6875 LR: 6.7479e-05\n",
                        "Epoch: [1][500/622]Elapsed 72.67s | Loss: 0.7124 Grad: 71753.1094 LR: 7.6652e-05\n",
                        "Epoch: [1][550/622]Elapsed 79.88s | Loss: 0.6960 Grad: 73817.9453 LR: 8.4732e-05\n",
                        "Epoch: [1][600/622]Elapsed 87.10s | Loss: 0.6765 Grad: 24822.8223 LR: 9.1359e-05\n",
                        "Epoch: [1][621/622]Elapsed 90.22s | Loss: 0.6699 Grad: 59613.3633 LR: 9.3737e-05\n"
                    ]
                },
                {
                    "data": {
                        "application/vnd.jupyter.widget-view+json": {
                            "model_id": "21b8498d92dc41b7b83855f5b21d5227",
                            "version_major": 2,
                            "version_minor": 0
                        },
                        "text/plain": [
                            "Valid:   0%|          | 0/225 [00:00<?, ?batch/s]"
                        ]
                    },
                    "metadata": {},
                    "output_type": "display_data"
                },
                {
                    "name": "stdout",
                    "output_type": "stream",
                    "text": [
                        "Epoch: [1][0/225]Elapsed 0.10s | Loss: 0.3521\n",
                        "Epoch: [1][50/225]Elapsed 4.94s | Loss: 0.5367\n",
                        "Epoch: [1][100/225]Elapsed 9.77s | Loss: 0.5370\n",
                        "Epoch: [1][150/225]Elapsed 14.60s | Loss: 0.5320\n",
                        "Epoch: [1][200/225]Elapsed 19.46s | Loss: 0.4840\n"
                    ]
                },
                {
                    "name": "stderr",
                    "output_type": "stream",
                    "text": [
                        "----------------------------------------------------------------------------------------------------\n",
                        "Epoch 1 - Average Train Loss: 0.6699 | Average Valid Loss: 0.4670 | Time: 112.17s\n",
                        "Best model found in epoch 1 | valid loss: 0.4670\n"
                    ]
                },
                {
                    "data": {
                        "application/vnd.jupyter.widget-view+json": {
                            "model_id": "049c671ecb9941ba90b053a3464fa548",
                            "version_major": 2,
                            "version_minor": 0
                        },
                        "text/plain": [
                            "Train:   0%|          | 0/622 [00:00<?, ?batch/s]"
                        ]
                    },
                    "metadata": {},
                    "output_type": "display_data"
                },
                {
                    "name": "stdout",
                    "output_type": "stream",
                    "text": [
                        "Epoch: [2][0/622]Elapsed 0.10s | Loss: 0.3647 Grad: 149451.5312 LR: 9.3737e-05\n",
                        "Epoch: [2][50/622]Elapsed 7.37s | Loss: 0.4326 Grad: 62924.1523 LR: 9.7777e-05\n",
                        "Epoch: [2][100/622]Elapsed 14.72s | Loss: 0.4220 Grad: 90355.3750 LR: 9.9786e-05\n",
                        "Epoch: [2][150/622]Elapsed 22.11s | Loss: 0.4204 Grad: 49365.2891 LR: 9.9996e-05\n",
                        "Epoch: [2][200/622]Elapsed 29.49s | Loss: 0.4184 Grad: 37034.8984 LR: 9.9967e-05\n",
                        "Epoch: [2][250/622]Elapsed 36.86s | Loss: 0.4110 Grad: 31872.4395 LR: 9.9911e-05\n",
                        "Epoch: [2][300/622]Elapsed 44.22s | Loss: 0.4057 Grad: 60893.3438 LR: 9.9828e-05\n",
                        "Epoch: [2][350/622]Elapsed 51.61s | Loss: 0.4026 Grad: 48400.3359 LR: 9.9717e-05\n",
                        "Epoch: [2][400/622]Elapsed 58.95s | Loss: 0.3955 Grad: 23087.1836 LR: 9.9579e-05\n",
                        "Epoch: [2][450/622]Elapsed 66.30s | Loss: 0.3881 Grad: 44029.6172 LR: 9.9415e-05\n",
                        "Epoch: [2][500/622]Elapsed 73.65s | Loss: 0.3848 Grad: 27803.1016 LR: 9.9223e-05\n",
                        "Epoch: [2][550/622]Elapsed 81.00s | Loss: 0.3841 Grad: 50971.1719 LR: 9.9004e-05\n",
                        "Epoch: [2][600/622]Elapsed 88.35s | Loss: 0.3800 Grad: 25000.5918 LR: 9.8758e-05\n",
                        "Epoch: [2][621/622]Elapsed 91.50s | Loss: 0.3786 Grad: 48185.0586 LR: 9.8642e-05\n"
                    ]
                },
                {
                    "data": {
                        "application/vnd.jupyter.widget-view+json": {
                            "model_id": "ba3a515e2af042d5b5261f76ec03396c",
                            "version_major": 2,
                            "version_minor": 0
                        },
                        "text/plain": [
                            "Valid:   0%|          | 0/225 [00:00<?, ?batch/s]"
                        ]
                    },
                    "metadata": {},
                    "output_type": "display_data"
                },
                {
                    "name": "stdout",
                    "output_type": "stream",
                    "text": [
                        "Epoch: [2][0/225]Elapsed 0.10s | Loss: 0.3426\n",
                        "Epoch: [2][50/225]Elapsed 4.94s | Loss: 0.4441\n",
                        "Epoch: [2][100/225]Elapsed 9.77s | Loss: 0.4462\n",
                        "Epoch: [2][150/225]Elapsed 14.59s | Loss: 0.4484\n",
                        "Epoch: [2][200/225]Elapsed 19.44s | Loss: 0.4165\n"
                    ]
                },
                {
                    "name": "stderr",
                    "output_type": "stream",
                    "text": [
                        "----------------------------------------------------------------------------------------------------\n",
                        "Epoch 2 - Average Train Loss: 0.3786 | Average Valid Loss: 0.4081 | Time: 113.43s\n",
                        "Best model found in epoch 2 | valid loss: 0.4081\n"
                    ]
                },
                {
                    "data": {
                        "application/vnd.jupyter.widget-view+json": {
                            "model_id": "1de6bca2d1ce4c5e9ff47ae4973daff2",
                            "version_major": 2,
                            "version_minor": 0
                        },
                        "text/plain": [
                            "Train:   0%|          | 0/622 [00:00<?, ?batch/s]"
                        ]
                    },
                    "metadata": {},
                    "output_type": "display_data"
                },
                {
                    "name": "stdout",
                    "output_type": "stream",
                    "text": [
                        "Epoch: [3][0/622]Elapsed 0.10s | Loss: 0.2989 Grad: 131582.7969 LR: 9.8642e-05\n",
                        "Epoch: [3][50/622]Elapsed 7.46s | Loss: 0.3011 Grad: 49325.7539 LR: 9.8358e-05\n",
                        "Epoch: [3][100/622]Elapsed 14.90s | Loss: 0.2977 Grad: 122732.9766 LR: 9.8048e-05\n",
                        "Epoch: [3][150/622]Elapsed 22.33s | Loss: 0.3050 Grad: 43385.8242 LR: 9.7711e-05\n",
                        "Epoch: [3][200/622]Elapsed 29.76s | Loss: 0.3069 Grad: 29812.1562 LR: 9.7349e-05\n",
                        "Epoch: [3][250/622]Elapsed 37.22s | Loss: 0.3058 Grad: 25272.7148 LR: 9.6960e-05\n",
                        "Epoch: [3][300/622]Elapsed 44.64s | Loss: 0.3033 Grad: 29568.8418 LR: 9.6546e-05\n",
                        "Epoch: [3][350/622]Elapsed 52.06s | Loss: 0.3062 Grad: 48146.9766 LR: 9.6106e-05\n",
                        "Epoch: [3][400/622]Elapsed 59.48s | Loss: 0.3002 Grad: 22185.4883 LR: 9.5642e-05\n",
                        "Epoch: [3][450/622]Elapsed 66.91s | Loss: 0.2960 Grad: 30812.9062 LR: 9.5152e-05\n",
                        "Epoch: [3][500/622]Elapsed 74.34s | Loss: 0.2942 Grad: 29210.2734 LR: 9.4638e-05\n",
                        "Epoch: [3][550/622]Elapsed 81.75s | Loss: 0.2951 Grad: 42554.5703 LR: 9.4099e-05\n",
                        "Epoch: [3][600/622]Elapsed 89.16s | Loss: 0.2934 Grad: 23726.4590 LR: 9.3536e-05\n",
                        "Epoch: [3][621/622]Elapsed 92.34s | Loss: 0.2932 Grad: 40696.4375 LR: 9.3281e-05\n"
                    ]
                },
                {
                    "data": {
                        "application/vnd.jupyter.widget-view+json": {
                            "model_id": "dcc52582b6f94b9da28773d01f2badf9",
                            "version_major": 2,
                            "version_minor": 0
                        },
                        "text/plain": [
                            "Valid:   0%|          | 0/225 [00:00<?, ?batch/s]"
                        ]
                    },
                    "metadata": {},
                    "output_type": "display_data"
                },
                {
                    "name": "stdout",
                    "output_type": "stream",
                    "text": [
                        "Epoch: [3][0/225]Elapsed 0.10s | Loss: 0.3156\n",
                        "Epoch: [3][50/225]Elapsed 4.93s | Loss: 0.4314\n",
                        "Epoch: [3][100/225]Elapsed 9.75s | Loss: 0.4339\n",
                        "Epoch: [3][150/225]Elapsed 14.53s | Loss: 0.4356\n",
                        "Epoch: [3][200/225]Elapsed 19.32s | Loss: 0.4217\n"
                    ]
                },
                {
                    "name": "stderr",
                    "output_type": "stream",
                    "text": [
                        "----------------------------------------------------------------------------------------------------\n",
                        "Epoch 3 - Average Train Loss: 0.2932 | Average Valid Loss: 0.4177 | Time: 114.13s\n"
                    ]
                },
                {
                    "data": {
                        "application/vnd.jupyter.widget-view+json": {
                            "model_id": "7e3e10063df440c3b2c85e7d2a497206",
                            "version_major": 2,
                            "version_minor": 0
                        },
                        "text/plain": [
                            "Train:   0%|          | 0/622 [00:00<?, ?batch/s]"
                        ]
                    },
                    "metadata": {},
                    "output_type": "display_data"
                },
                {
                    "name": "stdout",
                    "output_type": "stream",
                    "text": [
                        "Epoch: [4][0/622]Elapsed 0.10s | Loss: 0.1849 Grad: 130271.0078 LR: 9.3281e-05\n",
                        "Epoch: [4][50/622]Elapsed 7.51s | Loss: 0.2529 Grad: 26867.1777 LR: 9.2683e-05\n",
                        "Epoch: [4][100/622]Elapsed 14.97s | Loss: 0.2470 Grad: 44417.0742 LR: 9.2063e-05\n",
                        "Epoch: [4][150/622]Elapsed 22.42s | Loss: 0.2523 Grad: 58387.7734 LR: 9.1420e-05\n",
                        "Epoch: [4][200/622]Elapsed 29.87s | Loss: 0.2543 Grad: 34293.4531 LR: 9.0754e-05\n",
                        "Epoch: [4][250/622]Elapsed 37.30s | Loss: 0.2529 Grad: 18504.4902 LR: 9.0065e-05\n",
                        "Epoch: [4][300/622]Elapsed 44.72s | Loss: 0.2527 Grad: 30702.2910 LR: 8.9355e-05\n",
                        "Epoch: [4][350/622]Elapsed 52.14s | Loss: 0.2541 Grad: 48462.7578 LR: 8.8624e-05\n",
                        "Epoch: [4][400/622]Elapsed 59.55s | Loss: 0.2486 Grad: 24215.0137 LR: 8.7871e-05\n",
                        "Epoch: [4][450/622]Elapsed 66.98s | Loss: 0.2434 Grad: 47173.6484 LR: 8.7097e-05\n",
                        "Epoch: [4][500/622]Elapsed 74.42s | Loss: 0.2423 Grad: 41595.6172 LR: 8.6303e-05\n",
                        "Epoch: [4][550/622]Elapsed 81.85s | Loss: 0.2441 Grad: 39099.7305 LR: 8.5490e-05\n",
                        "Epoch: [4][600/622]Elapsed 89.25s | Loss: 0.2420 Grad: 25067.5039 LR: 8.4657e-05\n",
                        "Epoch: [4][621/622]Elapsed 92.42s | Loss: 0.2416 Grad: 74163.2188 LR: 8.4284e-05\n"
                    ]
                },
                {
                    "data": {
                        "application/vnd.jupyter.widget-view+json": {
                            "model_id": "841c2594e02c43018de0e66720ede1af",
                            "version_major": 2,
                            "version_minor": 0
                        },
                        "text/plain": [
                            "Valid:   0%|          | 0/225 [00:00<?, ?batch/s]"
                        ]
                    },
                    "metadata": {},
                    "output_type": "display_data"
                },
                {
                    "name": "stdout",
                    "output_type": "stream",
                    "text": [
                        "Epoch: [4][0/225]Elapsed 0.10s | Loss: 0.3225\n",
                        "Epoch: [4][50/225]Elapsed 4.88s | Loss: 0.4401\n",
                        "Epoch: [4][100/225]Elapsed 9.69s | Loss: 0.4433\n",
                        "Epoch: [4][150/225]Elapsed 14.50s | Loss: 0.4436\n",
                        "Epoch: [4][200/225]Elapsed 19.32s | Loss: 0.4325\n"
                    ]
                },
                {
                    "name": "stderr",
                    "output_type": "stream",
                    "text": [
                        "----------------------------------------------------------------------------------------------------\n",
                        "Epoch 4 - Average Train Loss: 0.2416 | Average Valid Loss: 0.4282 | Time: 114.22s\n"
                    ]
                },
                {
                    "data": {
                        "application/vnd.jupyter.widget-view+json": {
                            "model_id": "27d356c34400446a92595f95d2bf9f6f",
                            "version_major": 2,
                            "version_minor": 0
                        },
                        "text/plain": [
                            "Train:   0%|          | 0/622 [00:00<?, ?batch/s]"
                        ]
                    },
                    "metadata": {},
                    "output_type": "display_data"
                },
                {
                    "name": "stdout",
                    "output_type": "stream",
                    "text": [
                        "Epoch: [5][0/622]Elapsed 0.10s | Loss: 0.2198 Grad: 162993.0312 LR: 8.4284e-05\n",
                        "Epoch: [5][50/622]Elapsed 7.54s | Loss: 0.2117 Grad: 29758.4648 LR: 8.3424e-05\n",
                        "Epoch: [5][100/622]Elapsed 15.01s | Loss: 0.2048 Grad: 38943.4805 LR: 8.2546e-05\n",
                        "Epoch: [5][150/622]Elapsed 22.52s | Loss: 0.2131 Grad: 39602.3359 LR: 8.1650e-05\n",
                        "Epoch: [5][200/622]Elapsed 29.98s | Loss: 0.2162 Grad: 28816.3398 LR: 8.0736e-05\n",
                        "Epoch: [5][250/622]Elapsed 37.42s | Loss: 0.2138 Grad: 25072.4902 LR: 7.9806e-05\n",
                        "Epoch: [5][300/622]Elapsed 44.85s | Loss: 0.2114 Grad: 27906.9082 LR: 7.8859e-05\n",
                        "Epoch: [5][350/622]Elapsed 52.29s | Loss: 0.2114 Grad: 36871.9375 LR: 7.7897e-05\n",
                        "Epoch: [5][400/622]Elapsed 59.70s | Loss: 0.2077 Grad: 57041.8750 LR: 7.6920e-05\n",
                        "Epoch: [5][450/622]Elapsed 67.12s | Loss: 0.2052 Grad: 57072.8672 LR: 7.5927e-05\n",
                        "Epoch: [5][500/622]Elapsed 74.51s | Loss: 0.2049 Grad: 25914.4160 LR: 7.4921e-05\n",
                        "Epoch: [5][550/622]Elapsed 81.91s | Loss: 0.2063 Grad: 51203.0312 LR: 7.3901e-05\n",
                        "Epoch: [5][600/622]Elapsed 89.35s | Loss: 0.2042 Grad: 22442.1016 LR: 7.2868e-05\n",
                        "Epoch: [5][621/622]Elapsed 92.55s | Loss: 0.2042 Grad: 62547.2383 LR: 7.2409e-05\n"
                    ]
                },
                {
                    "data": {
                        "application/vnd.jupyter.widget-view+json": {
                            "model_id": "777cb0fd5a90459386ac1d683c4a51ac",
                            "version_major": 2,
                            "version_minor": 0
                        },
                        "text/plain": [
                            "Valid:   0%|          | 0/225 [00:00<?, ?batch/s]"
                        ]
                    },
                    "metadata": {},
                    "output_type": "display_data"
                },
                {
                    "name": "stdout",
                    "output_type": "stream",
                    "text": [
                        "Epoch: [5][0/225]Elapsed 0.11s | Loss: 0.2984\n",
                        "Epoch: [5][50/225]Elapsed 4.93s | Loss: 0.4490\n",
                        "Epoch: [5][100/225]Elapsed 9.74s | Loss: 0.4495\n",
                        "Epoch: [5][150/225]Elapsed 14.54s | Loss: 0.4525\n",
                        "Epoch: [5][200/225]Elapsed 19.36s | Loss: 0.4454\n"
                    ]
                },
                {
                    "name": "stderr",
                    "output_type": "stream",
                    "text": [
                        "----------------------------------------------------------------------------------------------------\n",
                        "Epoch 5 - Average Train Loss: 0.2042 | Average Valid Loss: 0.4425 | Time: 114.40s\n"
                    ]
                },
                {
                    "data": {
                        "application/vnd.jupyter.widget-view+json": {
                            "model_id": "6b544692b1a14a328cfe598d5a221988",
                            "version_major": 2,
                            "version_minor": 0
                        },
                        "text/plain": [
                            "Train:   0%|          | 0/622 [00:00<?, ?batch/s]"
                        ]
                    },
                    "metadata": {},
                    "output_type": "display_data"
                },
                {
                    "name": "stdout",
                    "output_type": "stream",
                    "text": [
                        "Epoch: [6][0/622]Elapsed 0.11s | Loss: 0.1971 Grad: 229036.6875 LR: 7.2409e-05\n",
                        "Epoch: [6][50/622]Elapsed 7.48s | Loss: 0.1824 Grad: 27124.2637 LR: 7.1358e-05\n",
                        "Epoch: [6][100/622]Elapsed 14.95s | Loss: 0.1768 Grad: 35226.4492 LR: 7.0296e-05\n",
                        "Epoch: [6][150/622]Elapsed 22.39s | Loss: 0.1812 Grad: 41538.5352 LR: 6.9222e-05\n",
                        "Epoch: [6][200/622]Elapsed 29.83s | Loss: 0.1840 Grad: 54086.1914 LR: 6.8138e-05\n",
                        "Epoch: [6][250/622]Elapsed 37.27s | Loss: 0.1838 Grad: 35163.1992 LR: 6.7044e-05\n",
                        "Epoch: [6][300/622]Elapsed 44.70s | Loss: 0.1813 Grad: 40802.1211 LR: 6.5940e-05\n",
                        "Epoch: [6][350/622]Elapsed 52.13s | Loss: 0.1803 Grad: 55207.8281 LR: 6.4828e-05\n",
                        "Epoch: [6][400/622]Elapsed 59.57s | Loss: 0.1754 Grad: 28926.9434 LR: 6.3708e-05\n",
                        "Epoch: [6][450/622]Elapsed 67.01s | Loss: 0.1727 Grad: 31264.4414 LR: 6.2581e-05\n",
                        "Epoch: [6][500/622]Elapsed 74.44s | Loss: 0.1712 Grad: 17770.4707 LR: 6.1446e-05\n",
                        "Epoch: [6][550/622]Elapsed 81.87s | Loss: 0.1712 Grad: 43745.3125 LR: 6.0305e-05\n",
                        "Epoch: [6][600/622]Elapsed 89.28s | Loss: 0.1694 Grad: 27927.1973 LR: 5.9159e-05\n",
                        "Epoch: [6][621/622]Elapsed 92.47s | Loss: 0.1697 Grad: 64045.5859 LR: 5.8653e-05\n"
                    ]
                },
                {
                    "data": {
                        "application/vnd.jupyter.widget-view+json": {
                            "model_id": "4359305f287f4129ba540a7bc084eb37",
                            "version_major": 2,
                            "version_minor": 0
                        },
                        "text/plain": [
                            "Valid:   0%|          | 0/225 [00:00<?, ?batch/s]"
                        ]
                    },
                    "metadata": {},
                    "output_type": "display_data"
                },
                {
                    "name": "stdout",
                    "output_type": "stream",
                    "text": [
                        "Epoch: [6][0/225]Elapsed 0.10s | Loss: 0.3582\n",
                        "Epoch: [6][50/225]Elapsed 4.90s | Loss: 0.4707\n",
                        "Epoch: [6][100/225]Elapsed 9.69s | Loss: 0.4787\n",
                        "Epoch: [6][150/225]Elapsed 14.48s | Loss: 0.4782\n",
                        "Epoch: [6][200/225]Elapsed 19.29s | Loss: 0.4763\n"
                    ]
                },
                {
                    "name": "stderr",
                    "output_type": "stream",
                    "text": [
                        "----------------------------------------------------------------------------------------------------\n",
                        "Epoch 6 - Average Train Loss: 0.1697 | Average Valid Loss: 0.4742 | Time: 114.23s\n",
                        "====================================================================================================\n",
                        "Fold 0 Valid Loss: \n",
                        "Easy: 0.8951 | Hard: 0.6388\n",
                        "Elapse: 11.40 min \n",
                        "====================================================================================================\n",
                        "- Second Stage \n",
                        "Use Checkpoint: ENet_b2_xymask_fold_0_stage_1.pth\n"
                    ]
                },
                {
                    "data": {
                        "application/vnd.jupyter.widget-view+json": {
                            "model_id": "aa78d65c9c4c442a8016485cd0c1cf4e",
                            "version_major": 2,
                            "version_minor": 0
                        },
                        "text/plain": [
                            "Train:   0%|          | 0/276 [00:00<?, ?batch/s]"
                        ]
                    },
                    "metadata": {},
                    "output_type": "display_data"
                },
                {
                    "name": "stdout",
                    "output_type": "stream",
                    "text": [
                        "Epoch: [1][0/276]Elapsed 0.10s | Loss: 0.6521 Grad: nan LR: 4.0000e-06\n"
                    ]
                },
                {
                    "name": "stderr",
                    "output_type": "stream",
                    "text": [
                        "/home/shiyi/miniconda3/envs/kaggle/lib/python3.11/site-packages/torch/optim/lr_scheduler.py:143: UserWarning: Detected call of `lr_scheduler.step()` before `optimizer.step()`. In PyTorch 1.1.0 and later, you should call them in the opposite order: `optimizer.step()` before `lr_scheduler.step()`.  Failure to do this will result in PyTorch skipping the first value of the learning rate schedule. See more details at https://pytorch.org/docs/stable/optim.html#how-to-adjust-learning-rate\n",
                        "  warnings.warn(\"Detected call of `lr_scheduler.step()` before `optimizer.step()`. \"\n"
                    ]
                },
                {
                    "name": "stdout",
                    "output_type": "stream",
                    "text": [
                        "Epoch: [1][50/276]Elapsed 7.44s | Loss: 0.4548 Grad: 94100.8594 LR: 9.3614e-06\n",
                        "Epoch: [1][100/276]Elapsed 14.91s | Loss: 0.4342 Grad: 79477.4922 LR: 2.4248e-05\n",
                        "Epoch: [1][150/276]Elapsed 22.38s | Loss: 0.4065 Grad: 46323.3906 LR: 4.5334e-05\n",
                        "Epoch: [1][200/276]Elapsed 29.85s | Loss: 0.3745 Grad: 29432.5996 LR: 6.7909e-05\n",
                        "Epoch: [1][250/276]Elapsed 37.30s | Loss: 0.3482 Grad: 25979.0859 LR: 8.6930e-05\n",
                        "Epoch: [1][275/276]Elapsed 41.11s | Loss: 0.3374 Grad: 36008.8477 LR: 9.3946e-05\n"
                    ]
                },
                {
                    "data": {
                        "application/vnd.jupyter.widget-view+json": {
                            "model_id": "f73943c2887a409686193b3f6d6a5b0f",
                            "version_major": 2,
                            "version_minor": 0
                        },
                        "text/plain": [
                            "Valid:   0%|          | 0/225 [00:00<?, ?batch/s]"
                        ]
                    },
                    "metadata": {},
                    "output_type": "display_data"
                },
                {
                    "name": "stdout",
                    "output_type": "stream",
                    "text": [
                        "Epoch: [1][0/225]Elapsed 0.11s | Loss: 0.4283\n",
                        "Epoch: [1][50/225]Elapsed 4.92s | Loss: 0.4450\n",
                        "Epoch: [1][100/225]Elapsed 9.72s | Loss: 0.4483\n",
                        "Epoch: [1][150/225]Elapsed 14.54s | Loss: 0.4443\n",
                        "Epoch: [1][200/225]Elapsed 19.35s | Loss: 0.3965\n"
                    ]
                },
                {
                    "name": "stderr",
                    "output_type": "stream",
                    "text": [
                        "----------------------------------------------------------------------------------------------------\n",
                        "Epoch 1 - Average Train Loss: 0.3374 | Average Valid Loss: 0.3787 | Time: 62.94s\n",
                        "Best model found in epoch 1 | valid loss: 0.3787\n"
                    ]
                },
                {
                    "data": {
                        "application/vnd.jupyter.widget-view+json": {
                            "model_id": "7852eacdc235431ba344287a3f2cb6ea",
                            "version_major": 2,
                            "version_minor": 0
                        },
                        "text/plain": [
                            "Train:   0%|          | 0/276 [00:00<?, ?batch/s]"
                        ]
                    },
                    "metadata": {},
                    "output_type": "display_data"
                },
                {
                    "name": "stdout",
                    "output_type": "stream",
                    "text": [
                        "Epoch: [2][0/276]Elapsed 0.10s | Loss: 0.3010 Grad: nan LR: 9.3946e-05\n",
                        "Epoch: [2][50/276]Elapsed 7.49s | Loss: 0.2283 Grad: 73792.9531 LR: 9.9978e-05\n",
                        "Epoch: [2][100/276]Elapsed 14.97s | Loss: 0.2174 Grad: 110963.1953 LR: 9.9939e-05\n",
                        "Epoch: [2][150/276]Elapsed 22.42s | Loss: 0.2149 Grad: 54119.9414 LR: 9.9740e-05\n",
                        "Epoch: [2][200/276]Elapsed 29.88s | Loss: 0.2120 Grad: 64724.0703 LR: 9.9403e-05\n",
                        "Epoch: [2][250/276]Elapsed 37.34s | Loss: 0.2079 Grad: 41688.7227 LR: 9.8929e-05\n",
                        "Epoch: [2][275/276]Elapsed 41.12s | Loss: 0.2067 Grad: 74235.5156 LR: 9.8628e-05\n"
                    ]
                },
                {
                    "data": {
                        "application/vnd.jupyter.widget-view+json": {
                            "model_id": "503ae5e9a7b941e8b354536b89bbd088",
                            "version_major": 2,
                            "version_minor": 0
                        },
                        "text/plain": [
                            "Valid:   0%|          | 0/225 [00:00<?, ?batch/s]"
                        ]
                    },
                    "metadata": {},
                    "output_type": "display_data"
                },
                {
                    "name": "stdout",
                    "output_type": "stream",
                    "text": [
                        "Epoch: [2][0/225]Elapsed 0.11s | Loss: 0.3390\n",
                        "Epoch: [2][50/225]Elapsed 4.93s | Loss: 0.4379\n",
                        "Epoch: [2][100/225]Elapsed 9.74s | Loss: 0.4382\n",
                        "Epoch: [2][150/225]Elapsed 14.55s | Loss: 0.4350\n",
                        "Epoch: [2][200/225]Elapsed 19.38s | Loss: 0.3841\n"
                    ]
                },
                {
                    "name": "stderr",
                    "output_type": "stream",
                    "text": [
                        "----------------------------------------------------------------------------------------------------\n",
                        "Epoch 2 - Average Train Loss: 0.2067 | Average Valid Loss: 0.3651 | Time: 62.98s\n",
                        "Best model found in epoch 2 | valid loss: 0.3651\n"
                    ]
                },
                {
                    "data": {
                        "application/vnd.jupyter.widget-view+json": {
                            "model_id": "c4a8c8dd72cd4e9696e0839829a5f02b",
                            "version_major": 2,
                            "version_minor": 0
                        },
                        "text/plain": [
                            "Train:   0%|          | 0/276 [00:00<?, ?batch/s]"
                        ]
                    },
                    "metadata": {},
                    "output_type": "display_data"
                },
                {
                    "name": "stdout",
                    "output_type": "stream",
                    "text": [
                        "Epoch: [3][0/276]Elapsed 0.10s | Loss: 0.2917 Grad: 189928.5938 LR: 9.8628e-05\n",
                        "Epoch: [3][50/276]Elapsed 7.51s | Loss: 0.1907 Grad: 45940.3477 LR: 9.7948e-05\n",
                        "Epoch: [3][100/276]Elapsed 15.00s | Loss: 0.1847 Grad: 69405.4219 LR: 9.7135e-05\n",
                        "Epoch: [3][150/276]Elapsed 22.44s | Loss: 0.1843 Grad: 48978.7695 LR: 9.6191e-05\n",
                        "Epoch: [3][200/276]Elapsed 29.87s | Loss: 0.1826 Grad: 32440.0586 LR: 9.5119e-05\n",
                        "Epoch: [3][250/276]Elapsed 37.29s | Loss: 0.1800 Grad: 35709.1992 LR: 9.3922e-05\n",
                        "Epoch: [3][275/276]Elapsed 41.06s | Loss: 0.1791 Grad: 77738.2109 LR: 9.3251e-05\n"
                    ]
                },
                {
                    "data": {
                        "application/vnd.jupyter.widget-view+json": {
                            "model_id": "3e2be81d61104d7f81f6481538f0f727",
                            "version_major": 2,
                            "version_minor": 0
                        },
                        "text/plain": [
                            "Valid:   0%|          | 0/225 [00:00<?, ?batch/s]"
                        ]
                    },
                    "metadata": {},
                    "output_type": "display_data"
                },
                {
                    "name": "stdout",
                    "output_type": "stream",
                    "text": [
                        "Epoch: [3][0/225]Elapsed 0.10s | Loss: 0.3279\n",
                        "Epoch: [3][50/225]Elapsed 4.91s | Loss: 0.4229\n",
                        "Epoch: [3][100/225]Elapsed 9.72s | Loss: 0.4236\n",
                        "Epoch: [3][150/225]Elapsed 14.53s | Loss: 0.4205\n",
                        "Epoch: [3][200/225]Elapsed 19.36s | Loss: 0.3712\n"
                    ]
                },
                {
                    "name": "stderr",
                    "output_type": "stream",
                    "text": [
                        "----------------------------------------------------------------------------------------------------\n",
                        "Epoch 3 - Average Train Loss: 0.1791 | Average Valid Loss: 0.3526 | Time: 62.90s\n",
                        "Best model found in epoch 3 | valid loss: 0.3526\n"
                    ]
                },
                {
                    "data": {
                        "application/vnd.jupyter.widget-view+json": {
                            "model_id": "eccb876aa0534a46a82293894cd758f6",
                            "version_major": 2,
                            "version_minor": 0
                        },
                        "text/plain": [
                            "Train:   0%|          | 0/276 [00:00<?, ?batch/s]"
                        ]
                    },
                    "metadata": {},
                    "output_type": "display_data"
                },
                {
                    "name": "stdout",
                    "output_type": "stream",
                    "text": [
                        "Epoch: [4][0/276]Elapsed 0.11s | Loss: 0.1955 Grad: 124167.5781 LR: 9.3251e-05\n",
                        "Epoch: [4][50/276]Elapsed 7.48s | Loss: 0.1677 Grad: 130851.2500 LR: 9.1870e-05\n",
                        "Epoch: [4][100/276]Elapsed 14.92s | Loss: 0.1654 Grad: 141889.1250 LR: 9.0373e-05\n",
                        "Epoch: [4][150/276]Elapsed 22.38s | Loss: 0.1646 Grad: 102266.6250 LR: 8.8763e-05\n",
                        "Epoch: [4][200/276]Elapsed 29.82s | Loss: 0.1639 Grad: 57032.6875 LR: 8.7047e-05\n",
                        "Epoch: [4][250/276]Elapsed 37.25s | Loss: 0.1617 Grad: 77901.7109 LR: 8.5227e-05\n",
                        "Epoch: [4][275/276]Elapsed 41.06s | Loss: 0.1612 Grad: 119717.8359 LR: 8.4242e-05\n"
                    ]
                },
                {
                    "data": {
                        "application/vnd.jupyter.widget-view+json": {
                            "model_id": "574e218f825b4cf3a5758d07907837bb",
                            "version_major": 2,
                            "version_minor": 0
                        },
                        "text/plain": [
                            "Valid:   0%|          | 0/225 [00:00<?, ?batch/s]"
                        ]
                    },
                    "metadata": {},
                    "output_type": "display_data"
                },
                {
                    "name": "stdout",
                    "output_type": "stream",
                    "text": [
                        "Epoch: [4][0/225]Elapsed 0.10s | Loss: 0.3233\n",
                        "Epoch: [4][50/225]Elapsed 4.92s | Loss: 0.4179\n",
                        "Epoch: [4][100/225]Elapsed 9.75s | Loss: 0.4181\n",
                        "Epoch: [4][150/225]Elapsed 14.58s | Loss: 0.4152\n",
                        "Epoch: [4][200/225]Elapsed 19.41s | Loss: 0.3667\n"
                    ]
                },
                {
                    "name": "stderr",
                    "output_type": "stream",
                    "text": [
                        "----------------------------------------------------------------------------------------------------\n",
                        "Epoch 4 - Average Train Loss: 0.1612 | Average Valid Loss: 0.3483 | Time: 62.96s\n",
                        "Best model found in epoch 4 | valid loss: 0.3483\n"
                    ]
                },
                {
                    "data": {
                        "application/vnd.jupyter.widget-view+json": {
                            "model_id": "3e8b59d19f364631ac551d05693fa0a8",
                            "version_major": 2,
                            "version_minor": 0
                        },
                        "text/plain": [
                            "Train:   0%|          | 0/276 [00:00<?, ?batch/s]"
                        ]
                    },
                    "metadata": {},
                    "output_type": "display_data"
                },
                {
                    "name": "stdout",
                    "output_type": "stream",
                    "text": [
                        "Epoch: [5][0/276]Elapsed 0.10s | Loss: 0.1618 Grad: 83491.6250 LR: 8.4242e-05\n",
                        "Epoch: [5][50/276]Elapsed 7.49s | Loss: 0.1542 Grad: 91924.5938 LR: 8.2275e-05\n",
                        "Epoch: [5][100/276]Elapsed 14.95s | Loss: 0.1488 Grad: 103052.4688 LR: 8.0220e-05\n",
                        "Epoch: [5][150/276]Elapsed 22.44s | Loss: 0.1489 Grad: 74675.7109 LR: 7.8080e-05\n",
                        "Epoch: [5][200/276]Elapsed 29.85s | Loss: 0.1483 Grad: 52619.8203 LR: 7.5863e-05\n",
                        "Epoch: [5][250/276]Elapsed 37.27s | Loss: 0.1469 Grad: 66618.9922 LR: 7.3573e-05\n",
                        "Epoch: [5][275/276]Elapsed 41.04s | Loss: 0.1464 Grad: 117523.7812 LR: 7.2357e-05\n"
                    ]
                },
                {
                    "data": {
                        "application/vnd.jupyter.widget-view+json": {
                            "model_id": "7a502c61e4e444a7b4c1750ddbedcdac",
                            "version_major": 2,
                            "version_minor": 0
                        },
                        "text/plain": [
                            "Valid:   0%|          | 0/225 [00:00<?, ?batch/s]"
                        ]
                    },
                    "metadata": {},
                    "output_type": "display_data"
                },
                {
                    "name": "stdout",
                    "output_type": "stream",
                    "text": [
                        "Epoch: [5][0/225]Elapsed 0.11s | Loss: 0.3316\n",
                        "Epoch: [5][50/225]Elapsed 4.94s | Loss: 0.4296\n",
                        "Epoch: [5][100/225]Elapsed 9.75s | Loss: 0.4273\n",
                        "Epoch: [5][150/225]Elapsed 14.56s | Loss: 0.4233\n",
                        "Epoch: [5][200/225]Elapsed 19.38s | Loss: 0.3738\n"
                    ]
                },
                {
                    "name": "stderr",
                    "output_type": "stream",
                    "text": [
                        "----------------------------------------------------------------------------------------------------\n",
                        "Epoch 5 - Average Train Loss: 0.1464 | Average Valid Loss: 0.3549 | Time: 62.91s\n"
                    ]
                },
                {
                    "data": {
                        "application/vnd.jupyter.widget-view+json": {
                            "model_id": "7942636d36174e99ac2917b07d4c7b7e",
                            "version_major": 2,
                            "version_minor": 0
                        },
                        "text/plain": [
                            "Train:   0%|          | 0/276 [00:00<?, ?batch/s]"
                        ]
                    },
                    "metadata": {},
                    "output_type": "display_data"
                },
                {
                    "name": "stdout",
                    "output_type": "stream",
                    "text": [
                        "Epoch: [6][0/276]Elapsed 0.10s | Loss: 0.1440 Grad: 76021.1562 LR: 7.2357e-05\n",
                        "Epoch: [6][50/276]Elapsed 7.49s | Loss: 0.1365 Grad: 77988.0078 LR: 6.9971e-05\n",
                        "Epoch: [6][100/276]Elapsed 14.97s | Loss: 0.1362 Grad: 129757.1172 LR: 6.7529e-05\n",
                        "Epoch: [6][150/276]Elapsed 22.44s | Loss: 0.1367 Grad: 106577.1016 LR: 6.5039e-05\n",
                        "Epoch: [6][200/276]Elapsed 29.89s | Loss: 0.1365 Grad: 72352.9766 LR: 6.2507e-05\n",
                        "Epoch: [6][250/276]Elapsed 37.34s | Loss: 0.1341 Grad: 110907.5156 LR: 5.9941e-05\n",
                        "Epoch: [6][275/276]Elapsed 41.12s | Loss: 0.1339 Grad: 55976.5547 LR: 5.8595e-05\n"
                    ]
                },
                {
                    "data": {
                        "application/vnd.jupyter.widget-view+json": {
                            "model_id": "799920d1c0cc44c1b32d06ee894942c2",
                            "version_major": 2,
                            "version_minor": 0
                        },
                        "text/plain": [
                            "Valid:   0%|          | 0/225 [00:00<?, ?batch/s]"
                        ]
                    },
                    "metadata": {},
                    "output_type": "display_data"
                },
                {
                    "name": "stdout",
                    "output_type": "stream",
                    "text": [
                        "Epoch: [6][0/225]Elapsed 0.10s | Loss: 0.2966\n",
                        "Epoch: [6][50/225]Elapsed 4.91s | Loss: 0.4231\n",
                        "Epoch: [6][100/225]Elapsed 9.72s | Loss: 0.4216\n",
                        "Epoch: [6][150/225]Elapsed 14.54s | Loss: 0.4169\n",
                        "Epoch: [6][200/225]Elapsed 19.37s | Loss: 0.3681\n"
                    ]
                },
                {
                    "name": "stderr",
                    "output_type": "stream",
                    "text": [
                        "----------------------------------------------------------------------------------------------------\n",
                        "Epoch 6 - Average Train Loss: 0.1339 | Average Valid Loss: 0.3495 | Time: 62.98s\n",
                        "====================================================================================================\n",
                        "Fold 0 Valid Loss: \n",
                        "Easy: 0.8287 | Hard: 0.3999\n",
                        "Elapse: 17.70 min \n",
                        "====================================================================================================\n",
                        "====================================================================================================\n",
                        "Fold: 1 || Valid size 3595 \n",
                        "====================================================================================================\n",
                        "- First Stage \n"
                    ]
                },
                {
                    "data": {
                        "application/vnd.jupyter.widget-view+json": {
                            "model_id": "60caf2f41d7d4a7a8e90451a17dea3d1",
                            "version_major": 2,
                            "version_minor": 0
                        },
                        "text/plain": [
                            "Train:   0%|          | 0/622 [00:00<?, ?batch/s]"
                        ]
                    },
                    "metadata": {},
                    "output_type": "display_data"
                },
                {
                    "name": "stdout",
                    "output_type": "stream",
                    "text": [
                        "Epoch: [1][0/622]Elapsed 0.10s | Loss: 0.8383 Grad: 79178.3672 LR: 4.0000e-06\n",
                        "Epoch: [1][50/622]Elapsed 7.43s | Loss: 0.8258 Grad: 52341.9453 LR: 5.0647e-06\n",
                        "Epoch: [1][100/622]Elapsed 14.86s | Loss: 0.8205 Grad: 75250.2812 LR: 8.2116e-06\n",
                        "Epoch: [1][150/622]Elapsed 22.31s | Loss: 0.8140 Grad: 91786.8750 LR: 1.3301e-05\n",
                        "Epoch: [1][200/622]Elapsed 29.75s | Loss: 0.8066 Grad: 84235.8203 LR: 2.0107e-05\n",
                        "Epoch: [1][250/622]Elapsed 37.17s | Loss: 0.7937 Grad: 39432.7109 LR: 2.8328e-05\n",
                        "Epoch: [1][300/622]Elapsed 44.58s | Loss: 0.7810 Grad: 44135.5938 LR: 3.7599e-05\n",
                        "Epoch: [1][350/622]Elapsed 51.97s | Loss: 0.7629 Grad: 54122.6562 LR: 4.7509e-05\n",
                        "Epoch: [1][400/622]Elapsed 59.38s | Loss: 0.7434 Grad: 95066.4609 LR: 5.7619e-05\n",
                        "Epoch: [1][450/622]Elapsed 66.77s | Loss: 0.7228 Grad: 52241.8828 LR: 6.7479e-05\n",
                        "Epoch: [1][500/622]Elapsed 74.16s | Loss: 0.7049 Grad: 46159.8555 LR: 7.6652e-05\n",
                        "Epoch: [1][550/622]Elapsed 81.56s | Loss: 0.6864 Grad: 81157.5078 LR: 8.4732e-05\n",
                        "Epoch: [1][600/622]Elapsed 88.96s | Loss: 0.6687 Grad: 50010.0703 LR: 9.1359e-05\n",
                        "Epoch: [1][621/622]Elapsed 92.13s | Loss: 0.6622 Grad: 164735.9531 LR: 9.3737e-05\n"
                    ]
                },
                {
                    "data": {
                        "application/vnd.jupyter.widget-view+json": {
                            "model_id": "24e3e4d9b928430db9d00a810d8ba5cd",
                            "version_major": 2,
                            "version_minor": 0
                        },
                        "text/plain": [
                            "Valid:   0%|          | 0/225 [00:00<?, ?batch/s]"
                        ]
                    },
                    "metadata": {},
                    "output_type": "display_data"
                },
                {
                    "name": "stdout",
                    "output_type": "stream",
                    "text": [
                        "Epoch: [1][0/225]Elapsed 0.10s | Loss: 0.4669\n",
                        "Epoch: [1][50/225]Elapsed 4.89s | Loss: 0.5039\n",
                        "Epoch: [1][100/225]Elapsed 9.68s | Loss: 0.5290\n",
                        "Epoch: [1][150/225]Elapsed 14.47s | Loss: 0.5342\n",
                        "Epoch: [1][200/225]Elapsed 19.29s | Loss: 0.4900\n"
                    ]
                },
                {
                    "name": "stderr",
                    "output_type": "stream",
                    "text": [
                        "----------------------------------------------------------------------------------------------------\n",
                        "Epoch 1 - Average Train Loss: 0.6622 | Average Valid Loss: 0.4750 | Time: 113.90s\n",
                        "Best model found in epoch 1 | valid loss: 0.4750\n"
                    ]
                },
                {
                    "data": {
                        "application/vnd.jupyter.widget-view+json": {
                            "model_id": "f79f24ce1772475f8bdfd2bc061ab2bf",
                            "version_major": 2,
                            "version_minor": 0
                        },
                        "text/plain": [
                            "Train:   0%|          | 0/622 [00:00<?, ?batch/s]"
                        ]
                    },
                    "metadata": {},
                    "output_type": "display_data"
                },
                {
                    "name": "stdout",
                    "output_type": "stream",
                    "text": [
                        "Epoch: [2][0/622]Elapsed 0.10s | Loss: 0.4490 Grad: 187277.1562 LR: 9.3737e-05\n",
                        "Epoch: [2][50/622]Elapsed 7.54s | Loss: 0.4302 Grad: 85278.2031 LR: 9.7777e-05\n",
                        "Epoch: [2][100/622]Elapsed 15.01s | Loss: 0.4135 Grad: 61995.9531 LR: 9.9786e-05\n",
                        "Epoch: [2][150/622]Elapsed 22.50s | Loss: 0.4132 Grad: 62129.7383 LR: 9.9996e-05\n",
                        "Epoch: [2][200/622]Elapsed 29.96s | Loss: 0.4079 Grad: 82348.5078 LR: 9.9967e-05\n",
                        "Epoch: [2][250/622]Elapsed 37.39s | Loss: 0.4015 Grad: 81442.2031 LR: 9.9911e-05\n",
                        "Epoch: [2][300/622]Elapsed 44.83s | Loss: 0.4008 Grad: 111012.2812 LR: 9.9828e-05\n",
                        "Epoch: [2][350/622]Elapsed 52.27s | Loss: 0.3963 Grad: 70084.2188 LR: 9.9717e-05\n",
                        "Epoch: [2][400/622]Elapsed 59.68s | Loss: 0.3922 Grad: 91746.7344 LR: 9.9579e-05\n",
                        "Epoch: [2][450/622]Elapsed 67.09s | Loss: 0.3873 Grad: 61504.5586 LR: 9.9415e-05\n",
                        "Epoch: [2][500/622]Elapsed 74.49s | Loss: 0.3827 Grad: 117298.9531 LR: 9.9223e-05\n"
                    ]
                }
            ],
            "source": [
                "hms_predictor.train_folds(train_easy, train_hard, all_specs, all_eegs)"
            ]
        },
        {
            "cell_type": "code",
            "execution_count": null,
            "metadata": {},
            "outputs": [],
            "source": [
                "dataset = CustomDataset(train_easy, TARGETS, ModelConfig, all_specs, all_eegs, mode='test')\n",
                "\n",
                "X, y = dataset[0]\n",
                "print(X.shape, y.shape)\n",
                "\n",
                "model = CustomModel(ModelConfig, num_classes=6, pretrained=True)\n",
                "y_pred = model(X.unsqueeze(0))\n",
                "\n",
                "print(y_pred.shape)"
            ]
        },
        {
            "cell_type": "code",
            "execution_count": null,
            "metadata": {},
            "outputs": [],
            "source": [
                "from kl_divergence import score as kl_score\n",
                "\n",
                "\n",
                "def calc_kl_div(p, q, criterion):\n",
                "    \n",
                "    p = torch.tensor(p.astype(np.float32)).unsqueeze(0)\n",
                "    q = torch.tensor(q.astype(np.float32)).unsqueeze(0)\n",
                "    return criterion(F.log_softmax(p, dim=1), q).item()\n",
                "\n",
                "def calc_kaggle_score(solution, submission):\n",
                "    solution = solution.to_frame().T\n",
                "    solution[TARGETS] = solution[TARGETS].astype(np.float32)\n",
                "    submission = submission.to_frame().T\n",
                "    submission.columns = ['eeg_id'] + TARGETS\n",
                "    submission[TARGETS] = submission[TARGETS].astype(np.float32)\n",
                "    \n",
                "    return kl_score(solution, submission, 'eeg_id')"
            ]
        },
        {
            "cell_type": "code",
            "execution_count": null,
            "metadata": {},
            "outputs": [],
            "source": [
                "def evaluate_oof(oof_csv_path):\n",
                "    oof_df = pd.read_csv(oof_csv_path)\n",
                "    softmax = nn.Softmax(dim=1)\n",
                "    criterion = nn.KLDivLoss(reduction=\"batchmean\")\n",
                "\n",
                "    oof_df[\"kl_loss\"] = oof_df.apply(lambda row: \n",
                "        calc_kl_div(row[TARGETS_PRED].values, row[TARGETS].values, criterion), axis=1\n",
                "        )\n",
                "\n",
                "    kl_loss_all = criterion(\n",
                "        F.log_softmax(torch.tensor(oof_df[TARGETS_PRED].values.astype(np.float32)), dim=1),\n",
                "        torch.tensor(oof_df[TARGETS].values.astype(np.float32)),\n",
                "        )\n",
                "\n",
                "    print(f\"KL Loss All: {kl_loss_all}\")\n",
                "    print(f\"KL Loss Mean: {oof_df['kl_loss'].mean()}\")\n",
                "\n",
                "    y_pred = oof_df[TARGETS].values.astype(np.float32)\n",
                "    oof_df[TARGETS_PRED] = softmax(torch.tensor(y_pred)).numpy()\n",
                "\n",
                "    solution = oof_df[['eeg_id'] + TARGETS].copy()\n",
                "    submission = oof_df[['eeg_id'] + TARGETS_PRED].copy()\n",
                "    submission.columns = ['eeg_id'] + TARGETS\n",
                "\n",
                "    kaggle_score_all = kl_score(solution, submission, 'eeg_id')\n",
                "    \n",
                "    oof_df['kaggle_score'] = oof_df.apply(lambda row:\n",
                "        calc_kaggle_score(row[['eeg_id'] + TARGETS], row[['eeg_id'] + TARGETS_PRED]), axis=1\n",
                "        )\n",
                "\n",
                "    print(f\"Kaggle Score All: {kaggle_score_all}\")\n",
                "    print(f\"Kaggle Score Mean: {oof_df['kaggle_score'].mean()}\")\n",
                "\n",
                "    return oof_df, kl_loss_all, kaggle_score_all\n"
            ]
        },
        {
            "cell_type": "code",
            "execution_count": null,
            "metadata": {},
            "outputs": [],
            "source": [
                "oof_1, kl_loss_all, kaggle_score_all = evaluate_oof(f\"{JobConfig.OUTPUT_DIR}/oof_1.csv\")\n",
                "oof_2, kl_loss_all, kaggle_score_all = evaluate_oof(f\"{JobConfig.OUTPUT_DIR}/oof_2.csv\")"
            ]
        },
        {
            "cell_type": "code",
            "execution_count": null,
            "metadata": {},
            "outputs": [],
            "source": [
                "fig, axes = plt.subplots(4, 4, figsize=(10, 10), sharex=True, sharey=True)\n",
                "\n",
                "# rows = oof_df.iloc[-len(axes.ravel()):, :]\n",
                "rows = oof_1.sample(len(axes.ravel()))\n",
                "\n",
                "for i, (idx, row) in enumerate(rows.iterrows()):\n",
                "\n",
                "    ax = axes.ravel()[i]\n",
                "    ax.plot(row[TARGETS].values, label='True')\n",
                "    ax.plot(row[TARGETS_PRED].values, label='Pred')\n",
                "    ax.set_title(f\"{idx} | {row['target']} | KL: {row['kl_loss']:.4f}\")\n",
                "    ax.set_xticks(range(6))\n",
                "    ax.set_xticklabels(BRAIN_ACTIVITY)\n",
                "    ax.grid(True)\n",
                "    ax.legend()\n",
                "\n",
                "fig.tight_layout()\n",
                "fig.savefig(f\"{JobConfig.OUTPUT_DIR}/oof_examples_1.png\")\n",
                "plt.show()"
            ]
        },
        {
            "cell_type": "code",
            "execution_count": null,
            "metadata": {},
            "outputs": [],
            "source": [
                "fig, axes = plt.subplots(4, 4, figsize=(10, 10), sharex=True, sharey=True)\n",
                "\n",
                "# rows = oof_2.iloc[5:5+len(axes.ravel()), :]\n",
                "rows = oof_2.sample(len(axes.ravel()))\n",
                "\n",
                "for i, (idx, row) in enumerate(rows.iterrows()):\n",
                "\n",
                "    ax = axes.ravel()[i]\n",
                "    y_true = row[TARGETS].values\n",
                "    y_pred = row[TARGETS_PRED].values\n",
                "    y_norm = (y_true - y_true.min()) / (y_true.max() - y_true.min())\n",
                "\n",
                "    ax.plot(row[TARGETS].values, label='True')\n",
                "    ax.plot(row[TARGETS_PRED].values, label='Pred')\n",
                "    ax.plot(y_norm, \"b:\", label='True Norm')\n",
                "\n",
                "    ax.set_title(f\"{idx} | {row['target']} | KL: {row['kl_loss']:.4f}\")\n",
                "    ax.set_xticks(range(6))\n",
                "    ax.set_xticklabels(BRAIN_ACTIVITY)\n",
                "    ax.grid(True)\n",
                "    ax.legend()\n",
                "\n",
                "fig.tight_layout()\n",
                "fig.savefig(f\"{JobConfig.OUTPUT_DIR}/oof_examples_2.png\")\n",
                "plt.show()"
            ]
        },
        {
            "cell_type": "code",
            "execution_count": null,
            "metadata": {},
            "outputs": [],
            "source": [
                "row = oof_2.loc[6]\n",
                "\n",
                "min_pred = row[TARGETS_PRED].min()\n",
                "max_pred = row[TARGETS_PRED].max()\n",
                "print(min_pred, max_pred)\n",
                "\n",
                "print(row[TARGETS_PRED])\n",
                "\n",
                "targets_norm = (row[TARGETS] - row[TARGETS].min()) / (row[TARGETS].max() - row[TARGETS].min())\n",
                "\n",
                "targets_norm = targets_norm / targets_norm.sum()\n",
                "\n",
                "print(targets_norm)"
            ]
        },
        {
            "cell_type": "code",
            "execution_count": null,
            "metadata": {},
            "outputs": [],
            "source": []
        },
        {
            "cell_type": "code",
            "execution_count": null,
            "metadata": {},
            "outputs": [],
            "source": []
        }
    ],
    "metadata": {
        "kernelspec": {
            "display_name": "kaggle",
            "language": "python",
            "name": "python3"
        },
        "language_info": {
            "codemirror_mode": {
                "name": "ipython",
                "version": 3
            },
            "file_extension": ".py",
            "mimetype": "text/x-python",
            "name": "python",
            "nbconvert_exporter": "python",
            "pygments_lexer": "ipython3",
            "version": "3.11.6"
        }
    },
    "nbformat": 4,
    "nbformat_minor": 2
}
