{
    "cells": [
        {
            "cell_type": "code",
            "execution_count": 1,
            "metadata": {},
            "outputs": [
                {
                    "name": "stderr",
                    "output_type": "stream",
                    "text": [
                        "/home/shiyi/miniconda3/envs/kaggle/lib/python3.11/site-packages/transformers/utils/generic.py:441: UserWarning: torch.utils._pytree._register_pytree_node is deprecated. Please use torch.utils._pytree.register_pytree_node instead.\n",
                        "  _torch_pytree._register_pytree_node(\n",
                        "/home/shiyi/miniconda3/envs/kaggle/lib/python3.11/site-packages/transformers/utils/generic.py:309: UserWarning: torch.utils._pytree._register_pytree_node is deprecated. Please use torch.utils._pytree.register_pytree_node instead.\n",
                        "  _torch_pytree._register_pytree_node(\n"
                    ]
                }
            ],
            "source": [
                "import pandas as pd \n",
                "import numpy as np \n",
                "import matplotlib.pyplot as plt\n",
                "\n",
                "from engine_hms_trainer import *\n",
                "from engine_hms_model import KagglePaths, LocalPaths, ModelConfig\n",
                "\n",
                "import torch\n",
                "from torch import nn\n",
                "import torch.nn.functional as F\n",
                "\n",
                "import warnings\n",
                "warnings.filterwarnings('ignore')"
            ]
        },
        {
            "cell_type": "code",
            "execution_count": 2,
            "metadata": {},
            "outputs": [
                {
                    "name": "stdout",
                    "output_type": "stream",
                    "text": [
                        "Output Dir:  ./outputs/\n"
                    ]
                }
            ],
            "source": [
                "paths = KagglePaths if os.path.exists(KagglePaths.OUTPUT_DIR) else LocalPaths\n",
                "print(\"Output Dir: \", paths.OUTPUT_DIR)"
            ]
        },
        {
            "cell_type": "code",
            "execution_count": 3,
            "metadata": {},
            "outputs": [
                {
                    "name": "stdout",
                    "output_type": "stream",
                    "text": [
                        "(13996, 12)\n",
                        "(6187, 12)\n",
                        "0\n",
                        "0\n"
                    ]
                },
                {
                    "data": {
                        "text/html": [
                            "<div>\n",
                            "<style scoped>\n",
                            "    .dataframe tbody tr th:only-of-type {\n",
                            "        vertical-align: middle;\n",
                            "    }\n",
                            "\n",
                            "    .dataframe tbody tr th {\n",
                            "        vertical-align: top;\n",
                            "    }\n",
                            "\n",
                            "    .dataframe thead th {\n",
                            "        text-align: right;\n",
                            "    }\n",
                            "</style>\n",
                            "<table border=\"1\" class=\"dataframe\">\n",
                            "  <thead>\n",
                            "    <tr style=\"text-align: right;\">\n",
                            "      <th></th>\n",
                            "      <th>eeg_id</th>\n",
                            "      <th>seizure_vote</th>\n",
                            "      <th>lpd_vote</th>\n",
                            "      <th>gpd_vote</th>\n",
                            "      <th>lrda_vote</th>\n",
                            "      <th>grda_vote</th>\n",
                            "      <th>other_vote</th>\n",
                            "      <th>spectrogram_id</th>\n",
                            "      <th>min</th>\n",
                            "      <th>max</th>\n",
                            "      <th>patient_id</th>\n",
                            "      <th>target</th>\n",
                            "    </tr>\n",
                            "  </thead>\n",
                            "  <tbody>\n",
                            "    <tr>\n",
                            "      <th>0</th>\n",
                            "      <td>642382</td>\n",
                            "      <td>0.0</td>\n",
                            "      <td>0.0</td>\n",
                            "      <td>0.0</td>\n",
                            "      <td>0.0</td>\n",
                            "      <td>0.0</td>\n",
                            "      <td>1.0</td>\n",
                            "      <td>14960202</td>\n",
                            "      <td>1008.0</td>\n",
                            "      <td>1032.0</td>\n",
                            "      <td>5955</td>\n",
                            "      <td>Other</td>\n",
                            "    </tr>\n",
                            "    <tr>\n",
                            "      <th>1</th>\n",
                            "      <td>751790</td>\n",
                            "      <td>0.0</td>\n",
                            "      <td>0.0</td>\n",
                            "      <td>1.0</td>\n",
                            "      <td>0.0</td>\n",
                            "      <td>0.0</td>\n",
                            "      <td>0.0</td>\n",
                            "      <td>618728447</td>\n",
                            "      <td>908.0</td>\n",
                            "      <td>908.0</td>\n",
                            "      <td>38549</td>\n",
                            "      <td>GPD</td>\n",
                            "    </tr>\n",
                            "    <tr>\n",
                            "      <th>2</th>\n",
                            "      <td>778705</td>\n",
                            "      <td>0.0</td>\n",
                            "      <td>0.0</td>\n",
                            "      <td>0.0</td>\n",
                            "      <td>0.0</td>\n",
                            "      <td>0.0</td>\n",
                            "      <td>1.0</td>\n",
                            "      <td>52296320</td>\n",
                            "      <td>0.0</td>\n",
                            "      <td>0.0</td>\n",
                            "      <td>40955</td>\n",
                            "      <td>Other</td>\n",
                            "    </tr>\n",
                            "    <tr>\n",
                            "      <th>3</th>\n",
                            "      <td>1629671</td>\n",
                            "      <td>1.0</td>\n",
                            "      <td>0.0</td>\n",
                            "      <td>0.0</td>\n",
                            "      <td>0.0</td>\n",
                            "      <td>0.0</td>\n",
                            "      <td>0.0</td>\n",
                            "      <td>2036345030</td>\n",
                            "      <td>0.0</td>\n",
                            "      <td>160.0</td>\n",
                            "      <td>37481</td>\n",
                            "      <td>Seizure</td>\n",
                            "    </tr>\n",
                            "    <tr>\n",
                            "      <th>4</th>\n",
                            "      <td>2061593</td>\n",
                            "      <td>0.0</td>\n",
                            "      <td>0.0</td>\n",
                            "      <td>0.0</td>\n",
                            "      <td>0.0</td>\n",
                            "      <td>0.0</td>\n",
                            "      <td>1.0</td>\n",
                            "      <td>320962633</td>\n",
                            "      <td>1450.0</td>\n",
                            "      <td>1450.0</td>\n",
                            "      <td>23828</td>\n",
                            "      <td>Other</td>\n",
                            "    </tr>\n",
                            "  </tbody>\n",
                            "</table>\n",
                            "</div>"
                        ],
                        "text/plain": [
                            "    eeg_id  seizure_vote  lpd_vote  gpd_vote  lrda_vote  grda_vote  \\\n",
                            "0   642382           0.0       0.0       0.0        0.0        0.0   \n",
                            "1   751790           0.0       0.0       1.0        0.0        0.0   \n",
                            "2   778705           0.0       0.0       0.0        0.0        0.0   \n",
                            "3  1629671           1.0       0.0       0.0        0.0        0.0   \n",
                            "4  2061593           0.0       0.0       0.0        0.0        0.0   \n",
                            "\n",
                            "   other_vote  spectrogram_id     min     max  patient_id   target  \n",
                            "0         1.0        14960202  1008.0  1032.0        5955    Other  \n",
                            "1         0.0       618728447   908.0   908.0       38549      GPD  \n",
                            "2         1.0        52296320     0.0     0.0       40955    Other  \n",
                            "3         0.0      2036345030     0.0   160.0       37481  Seizure  \n",
                            "4         1.0       320962633  1450.0  1450.0       23828    Other  "
                        ]
                    },
                    "metadata": {},
                    "output_type": "display_data"
                },
                {
                    "name": "stdout",
                    "output_type": "stream",
                    "text": [
                        " \n"
                    ]
                },
                {
                    "data": {
                        "text/html": [
                            "<div>\n",
                            "<style scoped>\n",
                            "    .dataframe tbody tr th:only-of-type {\n",
                            "        vertical-align: middle;\n",
                            "    }\n",
                            "\n",
                            "    .dataframe tbody tr th {\n",
                            "        vertical-align: top;\n",
                            "    }\n",
                            "\n",
                            "    .dataframe thead th {\n",
                            "        text-align: right;\n",
                            "    }\n",
                            "</style>\n",
                            "<table border=\"1\" class=\"dataframe\">\n",
                            "  <thead>\n",
                            "    <tr style=\"text-align: right;\">\n",
                            "      <th></th>\n",
                            "      <th>eeg_id</th>\n",
                            "      <th>seizure_vote</th>\n",
                            "      <th>lpd_vote</th>\n",
                            "      <th>gpd_vote</th>\n",
                            "      <th>lrda_vote</th>\n",
                            "      <th>grda_vote</th>\n",
                            "      <th>other_vote</th>\n",
                            "      <th>spectrogram_id</th>\n",
                            "      <th>min</th>\n",
                            "      <th>max</th>\n",
                            "      <th>patient_id</th>\n",
                            "      <th>target</th>\n",
                            "    </tr>\n",
                            "  </thead>\n",
                            "  <tbody>\n",
                            "    <tr>\n",
                            "      <th>0</th>\n",
                            "      <td>568657</td>\n",
                            "      <td>0.000000</td>\n",
                            "      <td>0.000000</td>\n",
                            "      <td>0.250000</td>\n",
                            "      <td>0.000000</td>\n",
                            "      <td>0.166667</td>\n",
                            "      <td>0.583333</td>\n",
                            "      <td>789577333</td>\n",
                            "      <td>0.0</td>\n",
                            "      <td>16.0</td>\n",
                            "      <td>20654</td>\n",
                            "      <td>Other</td>\n",
                            "    </tr>\n",
                            "    <tr>\n",
                            "      <th>1</th>\n",
                            "      <td>582999</td>\n",
                            "      <td>0.000000</td>\n",
                            "      <td>0.857143</td>\n",
                            "      <td>0.000000</td>\n",
                            "      <td>0.071429</td>\n",
                            "      <td>0.000000</td>\n",
                            "      <td>0.071429</td>\n",
                            "      <td>1552638400</td>\n",
                            "      <td>0.0</td>\n",
                            "      <td>38.0</td>\n",
                            "      <td>20230</td>\n",
                            "      <td>LPD</td>\n",
                            "    </tr>\n",
                            "    <tr>\n",
                            "      <th>2</th>\n",
                            "      <td>1895581</td>\n",
                            "      <td>0.076923</td>\n",
                            "      <td>0.000000</td>\n",
                            "      <td>0.000000</td>\n",
                            "      <td>0.000000</td>\n",
                            "      <td>0.076923</td>\n",
                            "      <td>0.846154</td>\n",
                            "      <td>128369999</td>\n",
                            "      <td>1138.0</td>\n",
                            "      <td>1138.0</td>\n",
                            "      <td>47999</td>\n",
                            "      <td>Other</td>\n",
                            "    </tr>\n",
                            "    <tr>\n",
                            "      <th>3</th>\n",
                            "      <td>2482631</td>\n",
                            "      <td>0.000000</td>\n",
                            "      <td>0.000000</td>\n",
                            "      <td>0.133333</td>\n",
                            "      <td>0.066667</td>\n",
                            "      <td>0.133333</td>\n",
                            "      <td>0.666667</td>\n",
                            "      <td>978166025</td>\n",
                            "      <td>1902.0</td>\n",
                            "      <td>1944.0</td>\n",
                            "      <td>20606</td>\n",
                            "      <td>Other</td>\n",
                            "    </tr>\n",
                            "    <tr>\n",
                            "      <th>4</th>\n",
                            "      <td>2521897</td>\n",
                            "      <td>0.000000</td>\n",
                            "      <td>0.000000</td>\n",
                            "      <td>0.083333</td>\n",
                            "      <td>0.083333</td>\n",
                            "      <td>0.333333</td>\n",
                            "      <td>0.500000</td>\n",
                            "      <td>673742515</td>\n",
                            "      <td>0.0</td>\n",
                            "      <td>4.0</td>\n",
                            "      <td>62117</td>\n",
                            "      <td>Other</td>\n",
                            "    </tr>\n",
                            "  </tbody>\n",
                            "</table>\n",
                            "</div>"
                        ],
                        "text/plain": [
                            "    eeg_id  seizure_vote  lpd_vote  gpd_vote  lrda_vote  grda_vote  \\\n",
                            "0   568657      0.000000  0.000000  0.250000   0.000000   0.166667   \n",
                            "1   582999      0.000000  0.857143  0.000000   0.071429   0.000000   \n",
                            "2  1895581      0.076923  0.000000  0.000000   0.000000   0.076923   \n",
                            "3  2482631      0.000000  0.000000  0.133333   0.066667   0.133333   \n",
                            "4  2521897      0.000000  0.000000  0.083333   0.083333   0.333333   \n",
                            "\n",
                            "   other_vote  spectrogram_id     min     max  patient_id target  \n",
                            "0    0.583333       789577333     0.0    16.0       20654  Other  \n",
                            "1    0.071429      1552638400     0.0    38.0       20230    LPD  \n",
                            "2    0.846154       128369999  1138.0  1138.0       47999  Other  \n",
                            "3    0.666667       978166025  1902.0  1944.0       20606  Other  \n",
                            "4    0.500000       673742515     0.0     4.0       62117  Other  "
                        ]
                    },
                    "metadata": {},
                    "output_type": "display_data"
                }
            ],
            "source": [
                "train_easy, train_hard, all_specs, all_eegs = load_kaggle_data(\n",
                "    paths.TRAIN_CSV, paths.PRE_LOADED_SPECTOGRAMS, paths.PRE_LOADED_EEGS, split_entropy=ModelConfig.SPLIT_ENTROPY)\n",
                "\n",
                "print(train_easy.shape)\n",
                "print(train_hard.shape)\n",
                "\n",
                "# check if contain NaN\n",
                "print(train_easy.isnull().sum().sum())\n",
                "print(train_hard.isnull().sum().sum())\n",
                "\n",
                "display(train_easy.head())\n",
                "print(\" \")\n",
                "display(train_hard.head())"
            ]
        },
        {
            "cell_type": "code",
            "execution_count": 4,
            "metadata": {},
            "outputs": [
                {
                    "data": {
                        "image/png": "[encoded data removed]",
                        "text/plain": [
                            "<Figure size 1000x500 with 2 Axes>"
                        ]
                    },
                    "metadata": {},
                    "output_type": "display_data"
                }
            ],
            "source": [
                "# check distribution of targets\n",
                "fig, axes = plt.subplots(1, 2, figsize=(10, 5))\n",
                "train_easy[\"target\"].value_counts().plot(kind=\"bar\", ax=axes[0])\n",
                "train_hard[\"target\"].value_counts().plot(kind=\"bar\", ax=axes[1])\n",
                "axes[0].set_title(\"Easy\")\n",
                "axes[1].set_title(\"Hard\")\n",
                "fig.tight_layout()\n",
                "plt.show()"
            ]
        },
        {
            "cell_type": "code",
            "execution_count": 5,
            "metadata": {},
            "outputs": [
                {
                    "name": "stdout",
                    "output_type": "stream",
                    "text": [
                        "Hard after adding easy:  (8995, 12)\n"
                    ]
                },
                {
                    "data": {
                        "image/png": "[encoded data removed]",
                        "text/plain": [
                            "<Figure size 1000x500 with 2 Axes>"
                        ]
                    },
                    "metadata": {},
                    "output_type": "display_data"
                }
            ],
            "source": [
                "# Rebalance hard samples by Randomly sample from easy and add to hard.\n",
                "# tgt_to_sample = ['Seizure', 'LRDA', 'GRDA']\n",
                "# sample_ratio = 0.5 # 50% of easy to add to hard for each target label\n",
                "\n",
                "# for tgt in tgt_to_sample:\n",
                "#     easy_sample = train_easy[train_easy[\"target\"] == tgt].sample(frac=sample_ratio)\n",
                "#     train_hard = pd.concat([train_hard, easy_sample], axis=0)\n",
                "\n",
                "# print(\"Hard after adding easy: \", train_hard.shape)\n",
                "\n",
                "# # check distribution of targets\n",
                "# fig, axes = plt.subplots(1, 2, figsize=(10, 5))\n",
                "# train_easy[\"target\"].value_counts().plot(kind=\"bar\", ax=axes[0])\n",
                "# train_hard[\"target\"].value_counts().plot(kind=\"bar\", ax=axes[1])\n",
                "# axes[0].set_title(\"Easy\")\n",
                "# axes[1].set_title(\"Hard\")\n",
                "# fig.tight_layout()\n",
                "# plt.show()"
            ]
        },
        {
            "cell_type": "code",
            "execution_count": 6,
            "metadata": {},
            "outputs": [
                {
                    "name": "stderr",
                    "output_type": "stream",
                    "text": [
                        "****************************************************************************************************\n",
                        "Script Start: Sat Mar 16 13:23:15 2024\n",
                        "Model Configurations:\n",
                        "SEED: 20\n",
                        "SPLIT_ENTROPY: 5.5\n",
                        "MODEL_NAME: ENet_b2_xymask_rebalance\n",
                        "MODEL_BACKBONE: tf_efficientnet_b2\n",
                        "BATCH_SIZE: 16\n",
                        "EPOCHS: 6\n",
                        "GRADIENT_ACCUMULATION_STEPS: 2\n",
                        "DROP_RATE: 0.15\n",
                        "DROP_PATH_RATE: 0.25\n",
                        "WEIGHT_DECAY: 0.01\n",
                        "REGULARIZATION: None\n",
                        "USE_KAGGLE_SPECTROGRAMS: True\n",
                        "USE_EEG_SPECTROGRAMS: True\n",
                        "AMP: True\n",
                        "AUGMENT: True\n",
                        "AUGMENTATIONS: ['xy_masking']\n",
                        "PRINT_FREQ: 50\n",
                        "FREEZE: False\n",
                        "NUM_FROZEN_LAYERS: 0\n",
                        "NUM_WORKERS: 0\n",
                        "MAX_GRAD_NORM: 10000000.0\n",
                        "MAE_PRETRAINED_WEIGHTS: facebook/vit-mae-base\n",
                        "MAE_HIDDEN_DROPOUT_PROB: 0.05\n",
                        "MAE_ATTENTION_DROPOUT_PROB: 0.05\n",
                        "****************************************************************************************************\n"
                    ]
                }
            ],
            "source": [
                "# Config EfficientNet \n",
                "ModelConfig.EPOCHS = 6\n",
                "ModelConfig.BATCH_SIZE = 16\n",
                "ModelConfig.GRADIENT_ACCUMULATION_STEPS = 2\n",
                "ModelConfig.MODEL_BACKBONE = 'tf_efficientnet_b2'\n",
                "ModelConfig.MODEL_NAME = \"ENet_b2_xymask_rebalance\"\n",
                "ModelConfig.USE_KAGGLE_SPECTROGRAMS = True\n",
                "ModelConfig.USE_EEG_SPECTROGRAMS = True\n",
                "ModelConfig.REGULARIZATION = None\n",
                "ModelConfig.AUGMENT = True\n",
                "ModelConfig.AUGMENTATIONS = ['xy_masking']\n",
                "\n",
                "hms_predictor = HMSPredictor(paths.OUTPUT_DIR, ModelConfig, k_fold=5)"
            ]
        },
        {
            "cell_type": "code",
            "execution_count": 7,
            "metadata": {},
            "outputs": [],
            "source": [
                "# # Config ViTMAE\n",
                "# ModelConfig.EPOCHS = 6\n",
                "# ModelConfig.MODEL_BACKBONE = 'vit_mae_base'\n",
                "# ModelConfig.MODEL_NAME = \"ViTMAE_base_mlp_dropout_020\"\n",
                "# ModelConfig.AUGMENT = True\n",
                "# ModelConfig.USE_KAGGLE_SPECTROGRAMS = True\n",
                "# ModelConfig.USE_EEG_SPECTROGRAMS = True\n",
                "# ModelConfig.REGULARIZATION = None\n",
                "# ModelConfig.AUGMENTATIONS = ['xy_masking']\n",
                "# ModelConfig.MAE_PRETRAINED_WEIGHTS = \"./outputs/vit_mae_pretraining/ViTMAE_PreTrained_Best.pth\"\n",
                "# ModelConfig.MAE_HIDDEN_DROPOUT_PROB = 0.1\n",
                "# ModelConfig.MAE_ATTENTION_DROPOUT_PROB = 0.1\n",
                "# ModelConfig.DROP_RATE = 0.2\n",
                "\n",
                "# hms_predictor = HMSPredictor(paths.OUTPUT_DIR, ModelConfig, k_fold=5)"
            ]
        },
        {
            "cell_type": "code",
            "execution_count": 8,
            "metadata": {},
            "outputs": [
                {
                    "name": "stderr",
                    "output_type": "stream",
                    "text": [
                        "Train Easy: (13996, 12) | Train Hard: (8995, 12)\n",
                        "====================================================================================================\n",
                        "Fold: 0 || Valid size 7795 \n",
                        "====================================================================================================\n",
                        "- First Stage \n"
                    ]
                },
                {
                    "data": {
                        "application/vnd.jupyter.widget-view+json": {
                            "model_id": "15b5121b241f4a7eaf77497f516252a8",
                            "version_major": 2,
                            "version_minor": 0
                        },
                        "text/plain": [
                            "Train [0]:   0%|          | 0/566 [00:00<?, ?batch/s]"
                        ]
                    },
                    "metadata": {},
                    "output_type": "display_data"
                },
                {
                    "name": "stdout",
                    "output_type": "stream",
                    "text": [
                        "Epoch 1 [0/566] | Train Loss: 0.8913 Grad: 82335.9375 LR: 4.0000e-06 | Elapse: 1.11s\n",
                        "Epoch 1 [50/566] | Train Loss: 0.8325 Grad: 89566.4062 LR: 5.2855e-06 | Elapse: 9.01s\n",
                        "Epoch 1 [100/566] | Train Loss: 0.8112 Grad: 66099.8438 LR: 9.0731e-06 | Elapse: 16.89s\n",
                        "Epoch 1 [150/566] | Train Loss: 0.8221 Grad: 66461.1172 LR: 1.5160e-05 | Elapse: 24.76s\n",
                        "Epoch 1 [200/566] | Train Loss: 0.7971 Grad: 66164.1562 LR: 2.3220e-05 | Elapse: 32.64s\n",
                        "Epoch 1 [250/566] | Train Loss: 0.6789 Grad: 84561.7812 LR: 3.2822e-05 | Elapse: 40.52s\n",
                        "Epoch 1 [300/566] | Train Loss: 0.6268 Grad: 82354.3203 LR: 4.3451e-05 | Elapse: 48.41s\n",
                        "Epoch 1 [350/566] | Train Loss: 0.7238 Grad: 127325.7656 LR: 5.4537e-05 | Elapse: 56.34s\n",
                        "Epoch 1 [400/566] | Train Loss: 0.7548 Grad: 83071.8359 LR: 6.5488e-05 | Elapse: 64.24s\n",
                        "Epoch 1 [450/566] | Train Loss: 0.6783 Grad: 65331.4531 LR: 7.5717e-05 | Elapse: 72.16s\n",
                        "Epoch 1 [500/566] | Train Loss: 0.4390 Grad: 46140.0039 LR: 8.4675e-05 | Elapse: 80.08s\n",
                        "Epoch 1 [550/566] | Train Loss: 0.5017 Grad: 80240.0859 LR: 9.1883e-05 | Elapse: 88.01s\n",
                        "Epoch 1 [565/566] | Train Loss: 0.4198 Grad: 114811.9062 LR: 9.3754e-05 | Elapse: 90.40s\n"
                    ]
                },
                {
                    "data": {
                        "application/vnd.jupyter.widget-view+json": {
                            "model_id": "72637e96f2e2484d8d8475daf2ff2f3b",
                            "version_major": 2,
                            "version_minor": 0
                        },
                        "text/plain": [
                            "Valid [0]:   0%|          | 0/488 [00:00<?, ?batch/s]"
                        ]
                    },
                    "metadata": {},
                    "output_type": "display_data"
                },
                {
                    "name": "stdout",
                    "output_type": "stream",
                    "text": [
                        "Epoch 1 [0/488] | Valid Loss: 0.5106 | Elapse: 0.07s\n",
                        "Epoch 1 [50/488] | Valid Loss: 0.3884 | Elapse: 3.27s\n",
                        "Epoch 1 [100/488] | Valid Loss: 0.5399 | Elapse: 6.46s\n",
                        "Epoch 1 [150/488] | Valid Loss: 0.7148 | Elapse: 9.68s\n",
                        "Epoch 1 [200/488] | Valid Loss: 0.5488 | Elapse: 12.91s\n",
                        "Epoch 1 [250/488] | Valid Loss: 0.5365 | Elapse: 16.12s\n",
                        "Epoch 1 [300/488] | Valid Loss: 0.4644 | Elapse: 19.35s\n",
                        "Epoch 1 [350/488] | Valid Loss: 0.3047 | Elapse: 22.55s\n",
                        "Epoch 1 [400/488] | Valid Loss: 0.2881 | Elapse: 25.76s\n",
                        "Epoch 1 [450/488] | Valid Loss: 0.3552 | Elapse: 28.97s\n"
                    ]
                },
                {
                    "name": "stderr",
                    "output_type": "stream",
                    "text": [
                        "----------------------------------------------------------------------------------------------------\n",
                        "Epoch 1 - Average Loss: (train) 0.6882; (valid) 0.4550 | Time: 121.80s\n",
                        "Best model found in epoch 1 | valid loss: 0.4550\n"
                    ]
                },
                {
                    "name": "stdout",
                    "output_type": "stream",
                    "text": [
                        "Epoch 1 [487/488] | Valid Loss: 0.9957 | Elapse: 31.40s\n"
                    ]
                },
                {
                    "data": {
                        "application/vnd.jupyter.widget-view+json": {
                            "model_id": "43d756e721fb4c7d88481b8ded11bf44",
                            "version_major": 2,
                            "version_minor": 0
                        },
                        "text/plain": [
                            "Train [1]:   0%|          | 0/566 [00:00<?, ?batch/s]"
                        ]
                    },
                    "metadata": {},
                    "output_type": "display_data"
                },
                {
                    "name": "stdout",
                    "output_type": "stream",
                    "text": [
                        "Epoch 2 [0/566] | Train Loss: 0.6059 Grad: 149768.1562 LR: 9.3754e-05 | Elapse: 0.16s\n",
                        "Epoch 2 [50/566] | Train Loss: 0.4537 Grad: 64932.8789 LR: 9.8078e-05 | Elapse: 8.12s\n",
                        "Epoch 2 [100/566] | Train Loss: 0.3519 Grad: 31865.7969 LR: 9.9935e-05 | Elapse: 16.10s\n",
                        "Epoch 2 [150/566] | Train Loss: 0.3938 Grad: 43635.2578 LR: 9.9990e-05 | Elapse: 24.09s\n",
                        "Epoch 2 [200/566] | Train Loss: 0.2518 Grad: 23865.8027 LR: 9.9948e-05 | Elapse: 32.08s\n",
                        "Epoch 2 [250/566] | Train Loss: 0.5095 Grad: 44664.7227 LR: 9.9873e-05 | Elapse: 40.08s\n",
                        "Epoch 2 [300/566] | Train Loss: 0.3001 Grad: 29023.5000 LR: 9.9765e-05 | Elapse: 48.09s\n",
                        "Epoch 2 [350/566] | Train Loss: 0.4370 Grad: 36423.5195 LR: 9.9624e-05 | Elapse: 56.10s\n",
                        "Epoch 2 [400/566] | Train Loss: 0.3200 Grad: 23878.5391 LR: 9.9450e-05 | Elapse: 64.12s\n",
                        "Epoch 2 [450/566] | Train Loss: 0.4966 Grad: 50979.8477 LR: 9.9244e-05 | Elapse: 72.14s\n",
                        "Epoch 2 [500/566] | Train Loss: 0.2864 Grad: 42927.0234 LR: 9.9006e-05 | Elapse: 80.16s\n",
                        "Epoch 2 [550/566] | Train Loss: 0.3461 Grad: 38546.9570 LR: 9.8734e-05 | Elapse: 88.17s\n",
                        "Epoch 2 [565/566] | Train Loss: 0.3076 Grad: 57276.4883 LR: 9.8641e-05 | Elapse: 90.57s\n"
                    ]
                },
                {
                    "data": {
                        "application/vnd.jupyter.widget-view+json": {
                            "model_id": "0e9e2c56e5b94978b125b36699caaf1e",
                            "version_major": 2,
                            "version_minor": 0
                        },
                        "text/plain": [
                            "Valid [1]:   0%|          | 0/488 [00:00<?, ?batch/s]"
                        ]
                    },
                    "metadata": {},
                    "output_type": "display_data"
                },
                {
                    "name": "stdout",
                    "output_type": "stream",
                    "text": [
                        "Epoch 2 [0/488] | Valid Loss: 0.3828 | Elapse: 0.07s\n",
                        "Epoch 2 [50/488] | Valid Loss: 0.1830 | Elapse: 3.28s\n",
                        "Epoch 2 [100/488] | Valid Loss: 0.3860 | Elapse: 6.56s\n",
                        "Epoch 2 [150/488] | Valid Loss: 0.6098 | Elapse: 9.78s\n",
                        "Epoch 2 [200/488] | Valid Loss: 0.3175 | Elapse: 13.02s\n",
                        "Epoch 2 [250/488] | Valid Loss: 0.3466 | Elapse: 16.24s\n",
                        "Epoch 2 [300/488] | Valid Loss: 0.2362 | Elapse: 19.47s\n",
                        "Epoch 2 [350/488] | Valid Loss: 0.2688 | Elapse: 22.73s\n",
                        "Epoch 2 [400/488] | Valid Loss: 0.2640 | Elapse: 25.96s\n",
                        "Epoch 2 [450/488] | Valid Loss: 0.2898 | Elapse: 29.19s\n"
                    ]
                },
                {
                    "name": "stderr",
                    "output_type": "stream",
                    "text": [
                        "----------------------------------------------------------------------------------------------------\n",
                        "Epoch 2 - Average Loss: (train) 0.4196; (valid) 0.3544 | Time: 122.11s\n",
                        "Best model found in epoch 2 | valid loss: 0.3544\n"
                    ]
                },
                {
                    "name": "stdout",
                    "output_type": "stream",
                    "text": [
                        "Epoch 2 [487/488] | Valid Loss: 0.5724 | Elapse: 31.53s\n"
                    ]
                },
                {
                    "data": {
                        "application/vnd.jupyter.widget-view+json": {
                            "model_id": "347bbbc517f744dd8a07533b287b6d12",
                            "version_major": 2,
                            "version_minor": 0
                        },
                        "text/plain": [
                            "Train [2]:   0%|          | 0/566 [00:00<?, ?batch/s]"
                        ]
                    },
                    "metadata": {},
                    "output_type": "display_data"
                },
                {
                    "name": "stdout",
                    "output_type": "stream",
                    "text": [
                        "Epoch 3 [0/566] | Train Loss: 0.3597 Grad: 157367.9375 LR: 9.8641e-05 | Elapse: 0.16s\n",
                        "Epoch 3 [50/566] | Train Loss: 0.3435 Grad: 68304.5078 LR: 9.8327e-05 | Elapse: 8.15s\n",
                        "Epoch 3 [100/566] | Train Loss: 0.3323 Grad: 66477.5625 LR: 9.7982e-05 | Elapse: 16.15s\n",
                        "Epoch 3 [150/566] | Train Loss: 0.3035 Grad: 87906.1172 LR: 9.7605e-05 | Elapse: 24.15s\n",
                        "Epoch 3 [200/566] | Train Loss: 0.1514 Grad: 23094.6523 LR: 9.7197e-05 | Elapse: 32.18s\n",
                        "Epoch 3 [250/566] | Train Loss: 0.4212 Grad: 44004.7148 LR: 9.6757e-05 | Elapse: 40.21s\n",
                        "Epoch 3 [300/566] | Train Loss: 0.1772 Grad: 27787.3301 LR: 9.6286e-05 | Elapse: 48.23s\n",
                        "Epoch 3 [350/566] | Train Loss: 0.3567 Grad: 45284.0469 LR: 9.5785e-05 | Elapse: 56.24s\n",
                        "Epoch 3 [400/566] | Train Loss: 0.3003 Grad: 43936.4766 LR: 9.5254e-05 | Elapse: 64.25s\n",
                        "Epoch 3 [450/566] | Train Loss: 0.3639 Grad: 46654.4375 LR: 9.4693e-05 | Elapse: 72.27s\n",
                        "Epoch 3 [500/566] | Train Loss: 0.2599 Grad: 39178.6875 LR: 9.4102e-05 | Elapse: 80.27s\n",
                        "Epoch 3 [550/566] | Train Loss: 0.3512 Grad: 53100.5977 LR: 9.3483e-05 | Elapse: 88.28s\n",
                        "Epoch 3 [565/566] | Train Loss: 0.2132 Grad: 63698.8867 LR: 9.3278e-05 | Elapse: 90.68s\n"
                    ]
                },
                {
                    "data": {
                        "application/vnd.jupyter.widget-view+json": {
                            "model_id": "3703cae727b14049b2c1f5a44060a247",
                            "version_major": 2,
                            "version_minor": 0
                        },
                        "text/plain": [
                            "Valid [2]:   0%|          | 0/488 [00:00<?, ?batch/s]"
                        ]
                    },
                    "metadata": {},
                    "output_type": "display_data"
                },
                {
                    "name": "stdout",
                    "output_type": "stream",
                    "text": [
                        "Epoch 3 [0/488] | Valid Loss: 0.3243 | Elapse: 0.07s\n",
                        "Epoch 3 [50/488] | Valid Loss: 0.1559 | Elapse: 3.28s\n",
                        "Epoch 3 [100/488] | Valid Loss: 0.3124 | Elapse: 6.48s\n",
                        "Epoch 3 [150/488] | Valid Loss: 0.5540 | Elapse: 9.69s\n",
                        "Epoch 3 [200/488] | Valid Loss: 0.2643 | Elapse: 12.91s\n",
                        "Epoch 3 [250/488] | Valid Loss: 0.3259 | Elapse: 16.13s\n",
                        "Epoch 3 [300/488] | Valid Loss: 0.1601 | Elapse: 19.35s\n",
                        "Epoch 3 [350/488] | Valid Loss: 0.2832 | Elapse: 22.56s\n",
                        "Epoch 3 [400/488] | Valid Loss: 0.2922 | Elapse: 25.76s\n",
                        "Epoch 3 [450/488] | Valid Loss: 0.3134 | Elapse: 28.98s\n"
                    ]
                },
                {
                    "name": "stderr",
                    "output_type": "stream",
                    "text": [
                        "----------------------------------------------------------------------------------------------------\n",
                        "Epoch 3 - Average Loss: (train) 0.3304; (valid) 0.3520 | Time: 122.00s\n",
                        "Best model found in epoch 3 | valid loss: 0.3520\n"
                    ]
                },
                {
                    "name": "stdout",
                    "output_type": "stream",
                    "text": [
                        "Epoch 3 [487/488] | Valid Loss: 0.3596 | Elapse: 31.32s\n"
                    ]
                },
                {
                    "data": {
                        "application/vnd.jupyter.widget-view+json": {
                            "model_id": "8d39741aa7d54e3aaf49fd83e574a610",
                            "version_major": 2,
                            "version_minor": 0
                        },
                        "text/plain": [
                            "Train [3]:   0%|          | 0/566 [00:00<?, ?batch/s]"
                        ]
                    },
                    "metadata": {},
                    "output_type": "display_data"
                },
                {
                    "name": "stdout",
                    "output_type": "stream",
                    "text": [
                        "Epoch 4 [0/566] | Train Loss: 0.3308 Grad: 163572.5000 LR: 9.3278e-05 | Elapse: 0.16s\n",
                        "Epoch 4 [50/566] | Train Loss: 0.2782 Grad: 35620.8828 LR: 9.2621e-05 | Elapse: 8.13s\n",
                        "Epoch 4 [100/566] | Train Loss: 0.2849 Grad: 38602.8711 LR: 9.1935e-05 | Elapse: 16.15s\n",
                        "Epoch 4 [150/566] | Train Loss: 0.2584 Grad: 43066.6523 LR: 9.1222e-05 | Elapse: 24.18s\n",
                        "Epoch 4 [200/566] | Train Loss: 0.1618 Grad: 33835.0742 LR: 9.0481e-05 | Elapse: 32.21s\n",
                        "Epoch 4 [250/566] | Train Loss: 0.3240 Grad: 50736.3516 LR: 8.9714e-05 | Elapse: 40.25s\n",
                        "Epoch 4 [300/566] | Train Loss: 0.1366 Grad: 25654.6211 LR: 8.8921e-05 | Elapse: 48.28s\n",
                        "Epoch 4 [350/566] | Train Loss: 0.2823 Grad: 47347.9883 LR: 8.8101e-05 | Elapse: 56.31s\n",
                        "Epoch 4 [400/566] | Train Loss: 0.3083 Grad: 41606.1484 LR: 8.7257e-05 | Elapse: 64.34s\n",
                        "Epoch 4 [450/566] | Train Loss: 0.2627 Grad: 36289.0391 LR: 8.6388e-05 | Elapse: 72.36s\n",
                        "Epoch 4 [500/566] | Train Loss: 0.2472 Grad: 49802.9766 LR: 8.5495e-05 | Elapse: 80.41s\n",
                        "Epoch 4 [550/566] | Train Loss: 0.2051 Grad: 27855.1230 LR: 8.4579e-05 | Elapse: 88.44s\n",
                        "Epoch 4 [565/566] | Train Loss: 0.1846 Grad: 97018.7344 LR: 8.4281e-05 | Elapse: 90.85s\n"
                    ]
                },
                {
                    "data": {
                        "application/vnd.jupyter.widget-view+json": {
                            "model_id": "2a801401b2b1414c8c2d586eca59eb18",
                            "version_major": 2,
                            "version_minor": 0
                        },
                        "text/plain": [
                            "Valid [3]:   0%|          | 0/488 [00:00<?, ?batch/s]"
                        ]
                    },
                    "metadata": {},
                    "output_type": "display_data"
                },
                {
                    "name": "stdout",
                    "output_type": "stream",
                    "text": [
                        "Epoch 4 [0/488] | Valid Loss: 0.3163 | Elapse: 0.07s\n",
                        "Epoch 4 [50/488] | Valid Loss: 0.1371 | Elapse: 3.28s\n",
                        "Epoch 4 [100/488] | Valid Loss: 0.2781 | Elapse: 6.48s\n",
                        "Epoch 4 [150/488] | Valid Loss: 0.4795 | Elapse: 9.69s\n",
                        "Epoch 4 [200/488] | Valid Loss: 0.2688 | Elapse: 12.91s\n",
                        "Epoch 4 [250/488] | Valid Loss: 0.2888 | Elapse: 16.13s\n",
                        "Epoch 4 [300/488] | Valid Loss: 0.1622 | Elapse: 19.36s\n",
                        "Epoch 4 [350/488] | Valid Loss: 0.2858 | Elapse: 22.57s\n",
                        "Epoch 4 [400/488] | Valid Loss: 0.2643 | Elapse: 25.79s\n",
                        "Epoch 4 [450/488] | Valid Loss: 0.3328 | Elapse: 29.01s\n"
                    ]
                },
                {
                    "name": "stderr",
                    "output_type": "stream",
                    "text": [
                        "----------------------------------------------------------------------------------------------------\n",
                        "Epoch 4 - Average Loss: (train) 0.2792; (valid) 0.3417 | Time: 122.20s\n",
                        "Best model found in epoch 4 | valid loss: 0.3417\n"
                    ]
                },
                {
                    "name": "stdout",
                    "output_type": "stream",
                    "text": [
                        "Epoch 4 [487/488] | Valid Loss: 0.2851 | Elapse: 31.35s\n"
                    ]
                },
                {
                    "data": {
                        "application/vnd.jupyter.widget-view+json": {
                            "model_id": "73e08f4e825c4ab1b89c67e4c62873c4",
                            "version_major": 2,
                            "version_minor": 0
                        },
                        "text/plain": [
                            "Train [4]:   0%|          | 0/566 [00:00<?, ?batch/s]"
                        ]
                    },
                    "metadata": {},
                    "output_type": "display_data"
                },
                {
                    "name": "stdout",
                    "output_type": "stream",
                    "text": [
                        "Epoch 5 [0/566] | Train Loss: 0.2535 Grad: nan LR: 8.4281e-05 | Elapse: 0.16s\n",
                        "Epoch 5 [50/566] | Train Loss: 0.2384 Grad: 37583.6367 LR: 8.3335e-05 | Elapse: 8.17s\n",
                        "Epoch 5 [100/566] | Train Loss: 0.2082 Grad: 33464.0625 LR: 8.2366e-05 | Elapse: 16.19s\n",
                        "Epoch 5 [150/566] | Train Loss: 0.2070 Grad: 81590.2344 LR: 8.1377e-05 | Elapse: 24.26s\n",
                        "Epoch 5 [200/566] | Train Loss: 0.1010 Grad: 25909.6152 LR: 8.0366e-05 | Elapse: 32.32s\n",
                        "Epoch 5 [250/566] | Train Loss: 0.2900 Grad: 35199.9727 LR: 7.9336e-05 | Elapse: 40.39s\n",
                        "Epoch 5 [300/566] | Train Loss: 0.0907 Grad: 24233.6562 LR: 7.8286e-05 | Elapse: 48.45s\n",
                        "Epoch 5 [350/566] | Train Loss: 0.2505 Grad: 56628.5547 LR: 7.7218e-05 | Elapse: 56.48s\n",
                        "Epoch 5 [400/566] | Train Loss: 0.1821 Grad: 55883.4766 LR: 7.6131e-05 | Elapse: 64.50s\n",
                        "Epoch 5 [450/566] | Train Loss: 0.3038 Grad: 50045.4609 LR: 7.5028e-05 | Elapse: 72.52s\n",
                        "Epoch 5 [500/566] | Train Loss: 0.1907 Grad: 43528.5742 LR: 7.3908e-05 | Elapse: 80.53s\n",
                        "Epoch 5 [550/566] | Train Loss: 0.2162 Grad: 68759.2969 LR: 7.2772e-05 | Elapse: 88.54s\n",
                        "Epoch 5 [565/566] | Train Loss: 0.1118 Grad: 78873.2266 LR: 7.2405e-05 | Elapse: 90.95s\n"
                    ]
                },
                {
                    "data": {
                        "application/vnd.jupyter.widget-view+json": {
                            "model_id": "fe07a53671294109b35e1983c624a518",
                            "version_major": 2,
                            "version_minor": 0
                        },
                        "text/plain": [
                            "Valid [4]:   0%|          | 0/488 [00:00<?, ?batch/s]"
                        ]
                    },
                    "metadata": {},
                    "output_type": "display_data"
                },
                {
                    "name": "stdout",
                    "output_type": "stream",
                    "text": [
                        "Epoch 5 [0/488] | Valid Loss: 0.2914 | Elapse: 0.07s\n",
                        "Epoch 5 [50/488] | Valid Loss: 0.1565 | Elapse: 3.28s\n",
                        "Epoch 5 [100/488] | Valid Loss: 0.2604 | Elapse: 6.48s\n",
                        "Epoch 5 [150/488] | Valid Loss: 0.4571 | Elapse: 9.69s\n",
                        "Epoch 5 [200/488] | Valid Loss: 0.2296 | Elapse: 12.92s\n",
                        "Epoch 5 [250/488] | Valid Loss: 0.3006 | Elapse: 16.19s\n",
                        "Epoch 5 [300/488] | Valid Loss: 0.1233 | Elapse: 19.45s\n",
                        "Epoch 5 [350/488] | Valid Loss: 0.3082 | Elapse: 22.71s\n",
                        "Epoch 5 [400/488] | Valid Loss: 0.2814 | Elapse: 25.96s\n",
                        "Epoch 5 [450/488] | Valid Loss: 0.3503 | Elapse: 29.22s\n"
                    ]
                },
                {
                    "name": "stderr",
                    "output_type": "stream",
                    "text": [
                        "----------------------------------------------------------------------------------------------------\n",
                        "Epoch 5 - Average Loss: (train) 0.2314; (valid) 0.3582 | Time: 122.54s\n"
                    ]
                },
                {
                    "name": "stdout",
                    "output_type": "stream",
                    "text": [
                        "Epoch 5 [487/488] | Valid Loss: 0.1956 | Elapse: 31.59s\n"
                    ]
                },
                {
                    "data": {
                        "application/vnd.jupyter.widget-view+json": {
                            "model_id": "0e8d75583e5140bf916bbac4606b5980",
                            "version_major": 2,
                            "version_minor": 0
                        },
                        "text/plain": [
                            "Train [5]:   0%|          | 0/566 [00:00<?, ?batch/s]"
                        ]
                    },
                    "metadata": {},
                    "output_type": "display_data"
                },
                {
                    "name": "stdout",
                    "output_type": "stream",
                    "text": [
                        "Epoch 6 [0/566] | Train Loss: 0.2969 Grad: nan LR: 7.2405e-05 | Elapse: 0.16s\n",
                        "Epoch 6 [50/566] | Train Loss: 0.2730 Grad: 51985.2578 LR: 7.1249e-05 | Elapse: 8.18s\n",
                        "Epoch 6 [100/566] | Train Loss: 0.2281 Grad: 32296.6934 LR: 7.0080e-05 | Elapse: 16.20s\n",
                        "Epoch 6 [150/566] | Train Loss: 0.1550 Grad: 47894.1094 LR: 6.8897e-05 | Elapse: 24.25s\n",
                        "Epoch 6 [200/566] | Train Loss: 0.1654 Grad: 57566.4297 LR: 6.7702e-05 | Elapse: 32.31s\n",
                        "Epoch 6 [250/566] | Train Loss: 0.3377 Grad: 65653.2422 LR: 6.6495e-05 | Elapse: 40.39s\n",
                        "Epoch 6 [300/566] | Train Loss: 0.1062 Grad: 35192.7266 LR: 6.5277e-05 | Elapse: 48.45s\n",
                        "Epoch 6 [350/566] | Train Loss: 0.1483 Grad: 46057.5742 LR: 6.4049e-05 | Elapse: 56.51s\n",
                        "Epoch 6 [400/566] | Train Loss: 0.2272 Grad: 55896.4102 LR: 6.2812e-05 | Elapse: 64.59s\n",
                        "Epoch 6 [450/566] | Train Loss: 0.2129 Grad: 48980.0586 LR: 6.1566e-05 | Elapse: 72.65s\n",
                        "Epoch 6 [500/566] | Train Loss: 0.1785 Grad: 54125.6523 LR: 6.0313e-05 | Elapse: 80.74s\n",
                        "Epoch 6 [550/566] | Train Loss: 0.1400 Grad: 39959.3555 LR: 5.9053e-05 | Elapse: 88.82s\n",
                        "Epoch 6 [565/566] | Train Loss: 0.1098 Grad: 88704.4062 LR: 5.8648e-05 | Elapse: 91.26s\n"
                    ]
                },
                {
                    "data": {
                        "application/vnd.jupyter.widget-view+json": {
                            "model_id": "f659c793400c47dba6d417f73e8396c9",
                            "version_major": 2,
                            "version_minor": 0
                        },
                        "text/plain": [
                            "Valid [5]:   0%|          | 0/488 [00:00<?, ?batch/s]"
                        ]
                    },
                    "metadata": {},
                    "output_type": "display_data"
                },
                {
                    "name": "stdout",
                    "output_type": "stream",
                    "text": [
                        "Epoch 6 [0/488] | Valid Loss: 0.2978 | Elapse: 0.08s\n",
                        "Epoch 6 [50/488] | Valid Loss: 0.1681 | Elapse: 3.36s\n",
                        "Epoch 6 [100/488] | Valid Loss: 0.2548 | Elapse: 6.62s\n",
                        "Epoch 6 [150/488] | Valid Loss: 0.5272 | Elapse: 9.88s\n",
                        "Epoch 6 [200/488] | Valid Loss: 0.2377 | Elapse: 13.14s\n",
                        "Epoch 6 [250/488] | Valid Loss: 0.3126 | Elapse: 16.43s\n",
                        "Epoch 6 [300/488] | Valid Loss: 0.1408 | Elapse: 19.70s\n",
                        "Epoch 6 [350/488] | Valid Loss: 0.3443 | Elapse: 22.96s\n",
                        "Epoch 6 [400/488] | Valid Loss: 0.2799 | Elapse: 26.23s\n",
                        "Epoch 6 [450/488] | Valid Loss: 0.4342 | Elapse: 29.49s\n"
                    ]
                },
                {
                    "name": "stderr",
                    "output_type": "stream",
                    "text": [
                        "----------------------------------------------------------------------------------------------------\n",
                        "Epoch 6 - Average Loss: (train) 0.1998; (valid) 0.3649 | Time: 123.13s\n"
                    ]
                },
                {
                    "name": "stdout",
                    "output_type": "stream",
                    "text": [
                        "Epoch 6 [487/488] | Valid Loss: 0.2306 | Elapse: 31.86s\n"
                    ]
                },
                {
                    "name": "stderr",
                    "output_type": "stream",
                    "text": [
                        "====================================================================================================\n",
                        "Fold 0 Valid Loss: (Easy) 0.6493 | (Hard) 0.7421\n",
                        "Elapse: 12.25 min \n",
                        "====================================================================================================\n",
                        "- Second Stage \n",
                        "Use Checkpoint: ENet_b2_xymask_rebalance_fold_0_stage_1.pth\n"
                    ]
                },
                {
                    "data": {
                        "application/vnd.jupyter.widget-view+json": {
                            "model_id": "8d44febf78c747d9a6ce5054a11c8925",
                            "version_major": 2,
                            "version_minor": 0
                        },
                        "text/plain": [
                            "Train [0]:   0%|          | 0/383 [00:00<?, ?batch/s]"
                        ]
                    },
                    "metadata": {},
                    "output_type": "display_data"
                },
                {
                    "name": "stdout",
                    "output_type": "stream",
                    "text": [
                        "Epoch 1 [0/383] | Train Loss: 0.5488 Grad: nan LR: 4.0000e-06 | Elapse: 0.16s\n",
                        "Epoch 1 [50/383] | Train Loss: 0.4195 Grad: 39475.5977 LR: 6.8003e-06 | Elapse: 8.19s\n",
                        "Epoch 1 [100/383] | Train Loss: 0.4410 Grad: 31079.3691 LR: 1.4875e-05 | Elapse: 16.23s\n",
                        "Epoch 1 [150/383] | Train Loss: 0.2816 Grad: 22473.8320 LR: 2.7281e-05 | Elapse: 24.30s\n",
                        "Epoch 1 [200/383] | Train Loss: 0.3105 Grad: 23064.7305 LR: 4.2571e-05 | Elapse: 32.45s\n",
                        "Epoch 1 [250/383] | Train Loss: 0.8686 Grad: 29238.9590 LR: 5.8962e-05 | Elapse: 40.58s\n",
                        "Epoch 1 [300/383] | Train Loss: 0.1417 Grad: 8220.7109 LR: 7.4540e-05 | Elapse: 48.66s\n",
                        "Epoch 1 [350/383] | Train Loss: 1.2154 Grad: 20006.3750 LR: 8.7488e-05 | Elapse: 56.74s\n",
                        "Epoch 1 [382/383] | Train Loss: 0.4270 Grad: 8732.3721 LR: 9.3679e-05 | Elapse: 61.91s\n"
                    ]
                },
                {
                    "data": {
                        "application/vnd.jupyter.widget-view+json": {
                            "model_id": "33535720d25f46d7b0d670bbad1e0ad4",
                            "version_major": 2,
                            "version_minor": 0
                        },
                        "text/plain": [
                            "Valid [0]:   0%|          | 0/488 [00:00<?, ?batch/s]"
                        ]
                    },
                    "metadata": {},
                    "output_type": "display_data"
                },
                {
                    "name": "stdout",
                    "output_type": "stream",
                    "text": [
                        "Epoch 1 [0/488] | Valid Loss: 0.6772 | Elapse: 0.07s\n",
                        "Epoch 1 [50/488] | Valid Loss: 0.6300 | Elapse: 3.37s\n",
                        "Epoch 1 [100/488] | Valid Loss: 0.6021 | Elapse: 6.64s\n",
                        "Epoch 1 [150/488] | Valid Loss: 0.7235 | Elapse: 9.92s\n",
                        "Epoch 1 [200/488] | Valid Loss: 0.6864 | Elapse: 13.20s\n",
                        "Epoch 1 [250/488] | Valid Loss: 0.6938 | Elapse: 16.48s\n",
                        "Epoch 1 [300/488] | Valid Loss: 0.7293 | Elapse: 19.76s\n",
                        "Epoch 1 [350/488] | Valid Loss: 0.4137 | Elapse: 23.02s\n",
                        "Epoch 1 [400/488] | Valid Loss: 0.4688 | Elapse: 26.30s\n",
                        "Epoch 1 [450/488] | Valid Loss: 0.4119 | Elapse: 29.57s\n"
                    ]
                },
                {
                    "name": "stderr",
                    "output_type": "stream",
                    "text": [
                        "----------------------------------------------------------------------------------------------------\n",
                        "Epoch 1 - Average Loss: (train) 0.5072; (valid) 0.6148 | Time: 93.87s\n",
                        "Best model found in epoch 1 | valid loss: 0.6148\n"
                    ]
                },
                {
                    "name": "stdout",
                    "output_type": "stream",
                    "text": [
                        "Epoch 1 [487/488] | Valid Loss: 0.4419 | Elapse: 31.96s\n"
                    ]
                },
                {
                    "data": {
                        "application/vnd.jupyter.widget-view+json": {
                            "model_id": "ae31a8960dc147369f71f06cc5d0d8a3",
                            "version_major": 2,
                            "version_minor": 0
                        },
                        "text/plain": [
                            "Train [1]:   0%|          | 0/383 [00:00<?, ?batch/s]"
                        ]
                    },
                    "metadata": {},
                    "output_type": "display_data"
                },
                {
                    "name": "stdout",
                    "output_type": "stream",
                    "text": [
                        "Epoch 2 [0/383] | Train Loss: 0.5380 Grad: 83634.5391 LR: 9.3679e-05 | Elapse: 0.17s\n",
                        "Epoch 2 [50/383] | Train Loss: 0.3619 Grad: 74522.3750 LR: 9.9261e-05 | Elapse: 8.23s\n",
                        "Epoch 2 [100/383] | Train Loss: 0.3230 Grad: 75224.2578 LR: 9.9991e-05 | Elapse: 16.29s\n",
                        "Epoch 2 [150/383] | Train Loss: 0.2042 Grad: 78994.4219 LR: 9.9920e-05 | Elapse: 24.35s\n",
                        "Epoch 2 [200/383] | Train Loss: 0.2551 Grad: 88347.1641 LR: 9.9777e-05 | Elapse: 32.45s\n",
                        "Epoch 2 [250/383] | Train Loss: 0.6469 Grad: 104149.9375 LR: 9.9562e-05 | Elapse: 40.53s\n",
                        "Epoch 2 [300/383] | Train Loss: 0.1318 Grad: 56459.1875 LR: 9.9276e-05 | Elapse: 48.64s\n",
                        "Epoch 2 [350/383] | Train Loss: 1.1024 Grad: 92365.9844 LR: 9.8919e-05 | Elapse: 56.74s\n",
                        "Epoch 2 [382/383] | Train Loss: 0.2613 Grad: 15521.2705 LR: 9.8653e-05 | Elapse: 61.91s\n"
                    ]
                },
                {
                    "data": {
                        "application/vnd.jupyter.widget-view+json": {
                            "model_id": "1112d767b75c47b48828a3c320770a0b",
                            "version_major": 2,
                            "version_minor": 0
                        },
                        "text/plain": [
                            "Valid [1]:   0%|          | 0/488 [00:00<?, ?batch/s]"
                        ]
                    },
                    "metadata": {},
                    "output_type": "display_data"
                },
                {
                    "name": "stdout",
                    "output_type": "stream",
                    "text": [
                        "Epoch 2 [0/488] | Valid Loss: 0.6890 | Elapse: 0.08s\n",
                        "Epoch 2 [50/488] | Valid Loss: 0.6765 | Elapse: 3.35s\n",
                        "Epoch 2 [100/488] | Valid Loss: 0.6212 | Elapse: 6.61s\n",
                        "Epoch 2 [150/488] | Valid Loss: 0.7908 | Elapse: 9.88s\n",
                        "Epoch 2 [200/488] | Valid Loss: 0.6267 | Elapse: 13.16s\n",
                        "Epoch 2 [250/488] | Valid Loss: 0.8079 | Elapse: 16.43s\n",
                        "Epoch 2 [300/488] | Valid Loss: 0.6822 | Elapse: 19.71s\n",
                        "Epoch 2 [350/488] | Valid Loss: 0.5076 | Elapse: 22.98s\n",
                        "Epoch 2 [400/488] | Valid Loss: 0.5863 | Elapse: 26.24s\n",
                        "Epoch 2 [450/488] | Valid Loss: 0.5075 | Elapse: 29.51s\n"
                    ]
                },
                {
                    "name": "stderr",
                    "output_type": "stream",
                    "text": [
                        "----------------------------------------------------------------------------------------------------\n",
                        "Epoch 2 - Average Loss: (train) 0.4278; (valid) 0.6671 | Time: 93.81s\n"
                    ]
                },
                {
                    "name": "stdout",
                    "output_type": "stream",
                    "text": [
                        "Epoch 2 [487/488] | Valid Loss: 0.3603 | Elapse: 31.89s\n"
                    ]
                },
                {
                    "data": {
                        "application/vnd.jupyter.widget-view+json": {
                            "model_id": "62515671fa994bd3983bf0cc4ada6378",
                            "version_major": 2,
                            "version_minor": 0
                        },
                        "text/plain": [
                            "Train [2]:   0%|          | 0/383 [00:00<?, ?batch/s]"
                        ]
                    },
                    "metadata": {},
                    "output_type": "display_data"
                },
                {
                    "name": "stdout",
                    "output_type": "stream",
                    "text": [
                        "Epoch 3 [0/383] | Train Loss: 0.6627 Grad: inf LR: 9.8653e-05 | Elapse: 0.16s\n",
                        "Epoch 3 [50/383] | Train Loss: 0.2706 Grad: 30879.4395 LR: 9.8180e-05 | Elapse: 8.22s\n",
                        "Epoch 3 [100/383] | Train Loss: 0.2940 Grad: 47724.6172 LR: 9.7638e-05 | Elapse: 16.29s\n",
                        "Epoch 3 [150/383] | Train Loss: 0.2242 Grad: 36933.1914 LR: 9.7027e-05 | Elapse: 24.37s\n",
                        "Epoch 3 [200/383] | Train Loss: 0.2284 Grad: 42692.9219 LR: 9.6349e-05 | Elapse: 32.46s\n",
                        "Epoch 3 [250/383] | Train Loss: 0.5525 Grad: 44435.2188 LR: 9.5603e-05 | Elapse: 40.56s\n",
                        "Epoch 3 [300/383] | Train Loss: 0.1462 Grad: 20106.8320 LR: 9.4792e-05 | Elapse: 48.67s\n",
                        "Epoch 3 [350/383] | Train Loss: 1.0619 Grad: 92494.2422 LR: 9.3917e-05 | Elapse: 56.79s\n",
                        "Epoch 3 [382/383] | Train Loss: 0.4389 Grad: 56242.2422 LR: 9.3323e-05 | Elapse: 61.97s\n"
                    ]
                },
                {
                    "data": {
                        "application/vnd.jupyter.widget-view+json": {
                            "model_id": "8695278eb0d74b47bb21317ddbab72f5",
                            "version_major": 2,
                            "version_minor": 0
                        },
                        "text/plain": [
                            "Valid [2]:   0%|          | 0/488 [00:00<?, ?batch/s]"
                        ]
                    },
                    "metadata": {},
                    "output_type": "display_data"
                },
                {
                    "name": "stdout",
                    "output_type": "stream",
                    "text": [
                        "Epoch 3 [0/488] | Valid Loss: 0.6271 | Elapse: 0.07s\n",
                        "Epoch 3 [50/488] | Valid Loss: 0.5997 | Elapse: 3.34s\n",
                        "Epoch 3 [100/488] | Valid Loss: 0.4762 | Elapse: 6.60s\n",
                        "Epoch 3 [150/488] | Valid Loss: 0.6981 | Elapse: 9.89s\n",
                        "Epoch 3 [200/488] | Valid Loss: 0.6506 | Elapse: 13.16s\n",
                        "Epoch 3 [250/488] | Valid Loss: 0.6237 | Elapse: 16.44s\n",
                        "Epoch 3 [300/488] | Valid Loss: 0.5968 | Elapse: 19.72s\n",
                        "Epoch 3 [350/488] | Valid Loss: 0.4534 | Elapse: 23.00s\n",
                        "Epoch 3 [400/488] | Valid Loss: 0.5331 | Elapse: 26.27s\n",
                        "Epoch 3 [450/488] | Valid Loss: 0.3904 | Elapse: 29.54s\n"
                    ]
                },
                {
                    "name": "stderr",
                    "output_type": "stream",
                    "text": [
                        "----------------------------------------------------------------------------------------------------\n",
                        "Epoch 3 - Average Loss: (train) 0.4053; (valid) 0.5907 | Time: 93.90s\n",
                        "Best model found in epoch 3 | valid loss: 0.5907\n"
                    ]
                },
                {
                    "name": "stdout",
                    "output_type": "stream",
                    "text": [
                        "Epoch 3 [487/488] | Valid Loss: 0.5022 | Elapse: 31.92s\n"
                    ]
                },
                {
                    "data": {
                        "application/vnd.jupyter.widget-view+json": {
                            "model_id": "2a1e53df98234eee8ffa30a7875e3641",
                            "version_major": 2,
                            "version_minor": 0
                        },
                        "text/plain": [
                            "Train [3]:   0%|          | 0/383 [00:00<?, ?batch/s]"
                        ]
                    },
                    "metadata": {},
                    "output_type": "display_data"
                },
                {
                    "name": "stdout",
                    "output_type": "stream",
                    "text": [
                        "Epoch 4 [0/383] | Train Loss: 0.4990 Grad: 126185.3203 LR: 9.3323e-05 | Elapse: 0.16s\n",
                        "Epoch 4 [50/383] | Train Loss: 0.2715 Grad: 81492.8047 LR: 9.2344e-05 | Elapse: 8.20s\n",
                        "Epoch 4 [100/383] | Train Loss: 0.2650 Grad: 128021.0625 LR: 9.1304e-05 | Elapse: 16.24s\n",
                        "Epoch 4 [150/383] | Train Loss: 0.1791 Grad: 56599.0195 LR: 9.0205e-05 | Elapse: 24.33s\n",
                        "Epoch 4 [200/383] | Train Loss: 0.2185 Grad: 35827.4102 LR: 8.9048e-05 | Elapse: 32.42s\n",
                        "Epoch 4 [250/383] | Train Loss: 0.5527 Grad: 47969.9570 LR: 8.7834e-05 | Elapse: 40.52s\n",
                        "Epoch 4 [300/383] | Train Loss: 0.1477 Grad: 13025.3223 LR: 8.6566e-05 | Elapse: 48.64s\n",
                        "Epoch 4 [350/383] | Train Loss: 0.9588 Grad: 30189.5625 LR: 8.5246e-05 | Elapse: 56.74s\n",
                        "Epoch 4 [382/383] | Train Loss: 0.5366 Grad: 19498.5547 LR: 8.4374e-05 | Elapse: 61.90s\n"
                    ]
                },
                {
                    "data": {
                        "application/vnd.jupyter.widget-view+json": {
                            "model_id": "7ad5095ee4d34f4d9490a1e49157c480",
                            "version_major": 2,
                            "version_minor": 0
                        },
                        "text/plain": [
                            "Valid [3]:   0%|          | 0/488 [00:00<?, ?batch/s]"
                        ]
                    },
                    "metadata": {},
                    "output_type": "display_data"
                },
                {
                    "name": "stdout",
                    "output_type": "stream",
                    "text": [
                        "Epoch 4 [0/488] | Valid Loss: 0.5718 | Elapse: 0.07s\n",
                        "Epoch 4 [50/488] | Valid Loss: 0.4605 | Elapse: 3.35s\n",
                        "Epoch 4 [100/488] | Valid Loss: 0.4374 | Elapse: 6.61s\n",
                        "Epoch 4 [150/488] | Valid Loss: 0.6777 | Elapse: 9.87s\n",
                        "Epoch 4 [200/488] | Valid Loss: 0.5230 | Elapse: 13.15s\n",
                        "Epoch 4 [250/488] | Valid Loss: 0.4967 | Elapse: 16.43s\n",
                        "Epoch 4 [300/488] | Valid Loss: 0.5270 | Elapse: 19.71s\n",
                        "Epoch 4 [350/488] | Valid Loss: 0.3537 | Elapse: 22.98s\n",
                        "Epoch 4 [400/488] | Valid Loss: 0.3709 | Elapse: 26.24s\n",
                        "Epoch 4 [450/488] | Valid Loss: 0.3130 | Elapse: 29.51s\n"
                    ]
                },
                {
                    "name": "stderr",
                    "output_type": "stream",
                    "text": [
                        "----------------------------------------------------------------------------------------------------\n",
                        "Epoch 4 - Average Loss: (train) 0.3710; (valid) 0.4800 | Time: 93.79s\n",
                        "Best model found in epoch 4 | valid loss: 0.4800\n"
                    ]
                },
                {
                    "name": "stdout",
                    "output_type": "stream",
                    "text": [
                        "Epoch 4 [487/488] | Valid Loss: 0.6104 | Elapse: 31.89s\n"
                    ]
                },
                {
                    "data": {
                        "application/vnd.jupyter.widget-view+json": {
                            "model_id": "ac6754a7e21b45dd84c83f251fb7b825",
                            "version_major": 2,
                            "version_minor": 0
                        },
                        "text/plain": [
                            "Train [4]:   0%|          | 0/383 [00:00<?, ?batch/s]"
                        ]
                    },
                    "metadata": {},
                    "output_type": "display_data"
                },
                {
                    "name": "stdout",
                    "output_type": "stream",
                    "text": [
                        "Epoch 5 [0/383] | Train Loss: 0.3343 Grad: 107834.7500 LR: 8.4374e-05 | Elapse: 0.16s\n",
                        "Epoch 5 [50/383] | Train Loss: 0.2496 Grad: 33378.3438 LR: 8.2971e-05 | Elapse: 8.19s\n",
                        "Epoch 5 [100/383] | Train Loss: 0.2203 Grad: 37532.3008 LR: 8.1520e-05 | Elapse: 16.22s\n",
                        "Epoch 5 [150/383] | Train Loss: 0.1629 Grad: 26648.2598 LR: 8.0024e-05 | Elapse: 24.28s\n",
                        "Epoch 5 [200/383] | Train Loss: 0.1805 Grad: 41936.2891 LR: 7.8485e-05 | Elapse: 32.37s\n",
                        "Epoch 5 [250/383] | Train Loss: 0.4463 Grad: 47182.9258 LR: 7.6905e-05 | Elapse: 40.42s\n",
                        "Epoch 5 [300/383] | Train Loss: 0.1408 Grad: 24669.1465 LR: 7.5286e-05 | Elapse: 48.51s\n",
                        "Epoch 5 [350/383] | Train Loss: 0.9302 Grad: 45433.2500 LR: 7.3630e-05 | Elapse: 56.57s\n",
                        "Epoch 5 [382/383] | Train Loss: 0.4881 Grad: 21311.6562 LR: 7.2553e-05 | Elapse: 61.72s\n"
                    ]
                },
                {
                    "data": {
                        "application/vnd.jupyter.widget-view+json": {
                            "model_id": "7484ff8336514bbe99b053815feb4551",
                            "version_major": 2,
                            "version_minor": 0
                        },
                        "text/plain": [
                            "Valid [4]:   0%|          | 0/488 [00:00<?, ?batch/s]"
                        ]
                    },
                    "metadata": {},
                    "output_type": "display_data"
                },
                {
                    "name": "stdout",
                    "output_type": "stream",
                    "text": [
                        "Epoch 5 [0/488] | Valid Loss: 0.5353 | Elapse: 0.07s\n",
                        "Epoch 5 [50/488] | Valid Loss: 0.4536 | Elapse: 3.34s\n",
                        "Epoch 5 [100/488] | Valid Loss: 0.4068 | Elapse: 6.59s\n",
                        "Epoch 5 [150/488] | Valid Loss: 0.6656 | Elapse: 9.88s\n",
                        "Epoch 5 [200/488] | Valid Loss: 0.4931 | Elapse: 13.17s\n",
                        "Epoch 5 [250/488] | Valid Loss: 0.4890 | Elapse: 16.45s\n",
                        "Epoch 5 [300/488] | Valid Loss: 0.5508 | Elapse: 19.73s\n",
                        "Epoch 5 [350/488] | Valid Loss: 0.4108 | Elapse: 22.99s\n",
                        "Epoch 5 [400/488] | Valid Loss: 0.3778 | Elapse: 26.25s\n",
                        "Epoch 5 [450/488] | Valid Loss: 0.3229 | Elapse: 29.52s\n"
                    ]
                },
                {
                    "name": "stderr",
                    "output_type": "stream",
                    "text": [
                        "----------------------------------------------------------------------------------------------------\n",
                        "Epoch 5 - Average Loss: (train) 0.3409; (valid) 0.4801 | Time: 93.65s\n"
                    ]
                },
                {
                    "name": "stdout",
                    "output_type": "stream",
                    "text": [
                        "Epoch 5 [487/488] | Valid Loss: 0.5371 | Elapse: 31.92s\n"
                    ]
                },
                {
                    "data": {
                        "application/vnd.jupyter.widget-view+json": {
                            "model_id": "bb7a117b78764607b81bc72d29a934d0",
                            "version_major": 2,
                            "version_minor": 0
                        },
                        "text/plain": [
                            "Train [5]:   0%|          | 0/383 [00:00<?, ?batch/s]"
                        ]
                    },
                    "metadata": {},
                    "output_type": "display_data"
                },
                {
                    "name": "stdout",
                    "output_type": "stream",
                    "text": [
                        "Epoch 6 [0/383] | Train Loss: 0.3741 Grad: 156289.1875 LR: 7.2553e-05 | Elapse: 0.17s\n",
                        "Epoch 6 [50/383] | Train Loss: 0.2262 Grad: 34747.8086 LR: 7.0843e-05 | Elapse: 8.19s\n",
                        "Epoch 6 [100/383] | Train Loss: 0.2158 Grad: 45870.0430 LR: 6.9103e-05 | Elapse: 16.22s\n",
                        "Epoch 6 [150/383] | Train Loss: 0.1994 Grad: 31781.3926 LR: 6.7335e-05 | Elapse: 24.29s\n",
                        "Epoch 6 [200/383] | Train Loss: 0.2044 Grad: 33819.4766 LR: 6.5543e-05 | Elapse: 32.37s\n",
                        "Epoch 6 [250/383] | Train Loss: 0.3902 Grad: 35067.5742 LR: 6.3728e-05 | Elapse: 40.46s\n",
                        "Epoch 6 [300/383] | Train Loss: 0.1194 Grad: 9902.1338 LR: 6.1893e-05 | Elapse: 48.57s\n",
                        "Epoch 6 [350/383] | Train Loss: 0.8443 Grad: 41122.9023 LR: 6.0041e-05 | Elapse: 56.65s\n",
                        "Epoch 6 [382/383] | Train Loss: 0.4045 Grad: 11590.5000 LR: 5.8848e-05 | Elapse: 61.80s\n"
                    ]
                },
                {
                    "data": {
                        "application/vnd.jupyter.widget-view+json": {
                            "model_id": "93bc3cefa0994936b5e2ae64ae2c8ada",
                            "version_major": 2,
                            "version_minor": 0
                        },
                        "text/plain": [
                            "Valid [5]:   0%|          | 0/488 [00:00<?, ?batch/s]"
                        ]
                    },
                    "metadata": {},
                    "output_type": "display_data"
                },
                {
                    "name": "stdout",
                    "output_type": "stream",
                    "text": [
                        "Epoch 6 [0/488] | Valid Loss: 0.4710 | Elapse: 0.07s\n",
                        "Epoch 6 [50/488] | Valid Loss: 0.3971 | Elapse: 3.34s\n",
                        "Epoch 6 [100/488] | Valid Loss: 0.3483 | Elapse: 6.60s\n",
                        "Epoch 6 [150/488] | Valid Loss: 0.6376 | Elapse: 9.87s\n",
                        "Epoch 6 [200/488] | Valid Loss: 0.4739 | Elapse: 13.16s\n",
                        "Epoch 6 [250/488] | Valid Loss: 0.4497 | Elapse: 16.44s\n",
                        "Epoch 6 [300/488] | Valid Loss: 0.4788 | Elapse: 19.72s\n",
                        "Epoch 6 [350/488] | Valid Loss: 0.3789 | Elapse: 22.99s\n",
                        "Epoch 6 [400/488] | Valid Loss: 0.3465 | Elapse: 26.27s\n",
                        "Epoch 6 [450/488] | Valid Loss: 0.2800 | Elapse: 29.55s\n"
                    ]
                },
                {
                    "name": "stderr",
                    "output_type": "stream",
                    "text": [
                        "----------------------------------------------------------------------------------------------------\n",
                        "Epoch 6 - Average Loss: (train) 0.3153; (valid) 0.4438 | Time: 93.73s\n",
                        "Best model found in epoch 6 | valid loss: 0.4438\n"
                    ]
                },
                {
                    "name": "stdout",
                    "output_type": "stream",
                    "text": [
                        "Epoch 6 [487/488] | Valid Loss: 0.5760 | Elapse: 31.93s\n"
                    ]
                },
                {
                    "name": "stderr",
                    "output_type": "stream",
                    "text": [
                        "====================================================================================================\n",
                        "Fold 0 Valid Loss: (Easy) 0.9838 | (Hard) 0.7218\n",
                        "Elapse: 9.39 min \n",
                        "====================================================================================================\n",
                        "====================================================================================================\n",
                        "Fold: 1 || Valid size 4711 \n",
                        "====================================================================================================\n",
                        "- First Stage \n"
                    ]
                },
                {
                    "data": {
                        "application/vnd.jupyter.widget-view+json": {
                            "model_id": "79d8407fe873466dae48b7f3655b5d51",
                            "version_major": 2,
                            "version_minor": 0
                        },
                        "text/plain": [
                            "Train [0]:   0%|          | 0/688 [00:00<?, ?batch/s]"
                        ]
                    },
                    "metadata": {},
                    "output_type": "display_data"
                },
                {
                    "name": "stdout",
                    "output_type": "stream",
                    "text": [
                        "Epoch 1 [0/688] | Train Loss: 0.8409 Grad: 71220.0000 LR: 4.0000e-06 | Elapse: 0.16s\n",
                        "Epoch 1 [50/688] | Train Loss: 0.8025 Grad: 81704.2656 LR: 4.8704e-06 | Elapse: 8.18s\n",
                        "Epoch 1 [100/688] | Train Loss: 0.7881 Grad: 64925.7461 LR: 7.4499e-06 | Elapse: 16.20s\n",
                        "Epoch 1 [150/688] | Train Loss: 0.7712 Grad: 60367.9180 LR: 1.1645e-05 | Elapse: 24.25s\n",
                        "Epoch 1 [200/688] | Train Loss: 0.7887 Grad: 67073.4844 LR: 1.7304e-05 | Elapse: 32.32s\n",
                        "Epoch 1 [250/688] | Train Loss: 0.7668 Grad: 64851.9727 LR: 2.4221e-05 | Elapse: 40.40s\n",
                        "Epoch 1 [300/688] | Train Loss: 0.7195 Grad: 72263.7500 LR: 3.2145e-05 | Elapse: 48.46s\n",
                        "Epoch 1 [350/688] | Train Loss: 0.6017 Grad: 60503.9531 LR: 4.0789e-05 | Elapse: 56.51s\n",
                        "Epoch 1 [400/688] | Train Loss: 0.5964 Grad: 82935.5547 LR: 4.9840e-05 | Elapse: 64.55s\n",
                        "Epoch 1 [450/688] | Train Loss: 0.4793 Grad: 82125.9062 LR: 5.8969e-05 | Elapse: 72.61s\n",
                        "Epoch 1 [500/688] | Train Loss: 0.5686 Grad: 82534.2578 LR: 6.7846e-05 | Elapse: 80.66s\n",
                        "Epoch 1 [550/688] | Train Loss: 0.5150 Grad: 60111.3281 LR: 7.6148e-05 | Elapse: 88.71s\n",
                        "Epoch 1 [600/688] | Train Loss: 0.4569 Grad: 63534.3320 LR: 8.3574e-05 | Elapse: 96.76s\n",
                        "Epoch 1 [650/688] | Train Loss: 0.3275 Grad: 45047.7734 LR: 8.9855e-05 | Elapse: 104.84s\n",
                        "Epoch 1 [687/688] | Train Loss: 0.5759 Grad: 113999.3984 LR: 9.3721e-05 | Elapse: 110.83s\n"
                    ]
                },
                {
                    "data": {
                        "application/vnd.jupyter.widget-view+json": {
                            "model_id": "f30dfdcd7b8d4599b038a7dd02685204",
                            "version_major": 2,
                            "version_minor": 0
                        },
                        "text/plain": [
                            "Valid [0]:   0%|          | 0/295 [00:00<?, ?batch/s]"
                        ]
                    },
                    "metadata": {},
                    "output_type": "display_data"
                },
                {
                    "name": "stdout",
                    "output_type": "stream",
                    "text": [
                        "Epoch 1 [0/295] | Valid Loss: 0.5366 | Elapse: 0.07s\n",
                        "Epoch 1 [50/295] | Valid Loss: 0.3317 | Elapse: 3.32s\n",
                        "Epoch 1 [100/295] | Valid Loss: 0.2861 | Elapse: 6.56s\n",
                        "Epoch 1 [150/295] | Valid Loss: 0.2753 | Elapse: 9.81s\n",
                        "Epoch 1 [200/295] | Valid Loss: 0.3484 | Elapse: 13.07s\n",
                        "Epoch 1 [250/295] | Valid Loss: 0.3468 | Elapse: 16.32s\n"
                    ]
                },
                {
                    "name": "stderr",
                    "output_type": "stream",
                    "text": [
                        "----------------------------------------------------------------------------------------------------\n",
                        "Epoch 1 - Average Loss: (train) 0.6679; (valid) 0.3798 | Time: 130.08s\n",
                        "Best model found in epoch 1 | valid loss: 0.3798\n"
                    ]
                },
                {
                    "name": "stdout",
                    "output_type": "stream",
                    "text": [
                        "Epoch 1 [294/295] | Valid Loss: 0.5705 | Elapse: 19.24s\n"
                    ]
                },
                {
                    "data": {
                        "application/vnd.jupyter.widget-view+json": {
                            "model_id": "0bede69399ce44ad80ae67f2dddd46cd",
                            "version_major": 2,
                            "version_minor": 0
                        },
                        "text/plain": [
                            "Train [1]:   0%|          | 0/688 [00:00<?, ?batch/s]"
                        ]
                    },
                    "metadata": {},
                    "output_type": "display_data"
                },
                {
                    "name": "stdout",
                    "output_type": "stream",
                    "text": [
                        "Epoch 2 [0/688] | Train Loss: 0.4399 Grad: 172080.5781 LR: 9.3721e-05 | Elapse: 0.17s\n",
                        "Epoch 2 [50/688] | Train Loss: 0.4818 Grad: 50891.2070 LR: 9.7464e-05 | Elapse: 8.18s\n",
                        "Epoch 2 [100/688] | Train Loss: 0.4417 Grad: 54731.5234 LR: 9.9558e-05 | Elapse: 16.22s\n",
                        "Epoch 2 [150/688] | Train Loss: 0.4900 Grad: 38331.9492 LR: 9.9999e-05 | Elapse: 24.29s\n",
                        "Epoch 2 [200/688] | Train Loss: 0.4112 Grad: 58304.0430 LR: 9.9981e-05 | Elapse: 32.36s\n",
                        "Epoch 2 [250/688] | Train Loss: 0.3914 Grad: 28676.3301 LR: 9.9942e-05 | Elapse: 40.43s\n",
                        "Epoch 2 [300/688] | Train Loss: 0.5258 Grad: 48519.9141 LR: 9.9879e-05 | Elapse: 48.48s\n",
                        "Epoch 2 [350/688] | Train Loss: 0.2606 Grad: 38528.5703 LR: 9.9795e-05 | Elapse: 56.55s\n",
                        "Epoch 2 [400/688] | Train Loss: 0.3170 Grad: 34395.2383 LR: 9.9688e-05 | Elapse: 64.59s\n",
                        "Epoch 2 [450/688] | Train Loss: 0.2413 Grad: 42293.6797 LR: 9.9559e-05 | Elapse: 72.65s\n",
                        "Epoch 2 [500/688] | Train Loss: 0.5112 Grad: 32763.4258 LR: 9.9408e-05 | Elapse: 80.70s\n",
                        "Epoch 2 [550/688] | Train Loss: 0.3922 Grad: 39785.7969 LR: 9.9235e-05 | Elapse: 88.75s\n",
                        "Epoch 2 [600/688] | Train Loss: 0.1962 Grad: 26466.3555 LR: 9.9040e-05 | Elapse: 96.80s\n",
                        "Epoch 2 [650/688] | Train Loss: 0.1079 Grad: 10744.9736 LR: 9.8823e-05 | Elapse: 104.85s\n",
                        "Epoch 2 [687/688] | Train Loss: 0.3862 Grad: 78285.2578 LR: 9.8643e-05 | Elapse: 110.81s\n"
                    ]
                },
                {
                    "data": {
                        "application/vnd.jupyter.widget-view+json": {
                            "model_id": "5bcd76a878f54538ae3d6dd3b1bdb877",
                            "version_major": 2,
                            "version_minor": 0
                        },
                        "text/plain": [
                            "Valid [1]:   0%|          | 0/295 [00:00<?, ?batch/s]"
                        ]
                    },
                    "metadata": {},
                    "output_type": "display_data"
                },
                {
                    "name": "stdout",
                    "output_type": "stream",
                    "text": [
                        "Epoch 2 [0/295] | Valid Loss: 0.4111 | Elapse: 0.08s\n",
                        "Epoch 2 [50/295] | Valid Loss: 0.3360 | Elapse: 3.32s\n",
                        "Epoch 2 [100/295] | Valid Loss: 0.2497 | Elapse: 6.57s\n",
                        "Epoch 2 [150/295] | Valid Loss: 0.2364 | Elapse: 9.82s\n",
                        "Epoch 2 [200/295] | Valid Loss: 0.3966 | Elapse: 13.09s\n",
                        "Epoch 2 [250/295] | Valid Loss: 0.4789 | Elapse: 16.35s\n"
                    ]
                },
                {
                    "name": "stderr",
                    "output_type": "stream",
                    "text": [
                        "----------------------------------------------------------------------------------------------------\n",
                        "Epoch 2 - Average Loss: (train) 0.3992; (valid) 0.3329 | Time: 130.00s\n",
                        "Best model found in epoch 2 | valid loss: 0.3329\n"
                    ]
                },
                {
                    "name": "stdout",
                    "output_type": "stream",
                    "text": [
                        "Epoch 2 [294/295] | Valid Loss: 0.2357 | Elapse: 19.19s\n"
                    ]
                },
                {
                    "data": {
                        "application/vnd.jupyter.widget-view+json": {
                            "model_id": "ec3955b459054dfdbdfbe015211e549b",
                            "version_major": 2,
                            "version_minor": 0
                        },
                        "text/plain": [
                            "Train [2]:   0%|          | 0/688 [00:00<?, ?batch/s]"
                        ]
                    },
                    "metadata": {},
                    "output_type": "display_data"
                },
                {
                    "name": "stdout",
                    "output_type": "stream",
                    "text": [
                        "Epoch 3 [0/688] | Train Loss: 0.3121 Grad: 135267.0312 LR: 9.8643e-05 | Elapse: 0.17s\n",
                        "Epoch 3 [50/688] | Train Loss: 0.2683 Grad: 36894.7422 LR: 9.8388e-05 | Elapse: 8.18s\n",
                        "Epoch 3 [100/688] | Train Loss: 0.3230 Grad: 37597.2109 LR: 9.8111e-05 | Elapse: 16.22s\n",
                        "Epoch 3 [150/688] | Train Loss: 0.3451 Grad: 51368.1094 LR: 9.7812e-05 | Elapse: 24.28s\n",
                        "Epoch 3 [200/688] | Train Loss: 0.2801 Grad: 36699.9570 LR: 9.7492e-05 | Elapse: 32.36s\n",
                        "Epoch 3 [250/688] | Train Loss: 0.3690 Grad: 34367.5039 LR: 9.7151e-05 | Elapse: 40.45s\n",
                        "Epoch 3 [300/688] | Train Loss: 0.4886 Grad: 42318.4727 LR: 9.6789e-05 | Elapse: 48.50s\n",
                        "Epoch 3 [350/688] | Train Loss: 0.2450 Grad: 33141.7852 LR: 9.6406e-05 | Elapse: 56.54s\n",
                        "Epoch 3 [400/688] | Train Loss: 0.2793 Grad: 50016.8867 LR: 9.6002e-05 | Elapse: 64.59s\n",
                        "Epoch 3 [450/688] | Train Loss: 0.1972 Grad: 42943.0859 LR: 9.5578e-05 | Elapse: 72.64s\n",
                        "Epoch 3 [500/688] | Train Loss: 0.3794 Grad: 34947.5508 LR: 9.5133e-05 | Elapse: 80.70s\n",
                        "Epoch 3 [550/688] | Train Loss: 0.3216 Grad: 43548.0430 LR: 9.4669e-05 | Elapse: 88.75s\n",
                        "Epoch 3 [600/688] | Train Loss: 0.2722 Grad: 39175.6367 LR: 9.4184e-05 | Elapse: 96.84s\n",
                        "Epoch 3 [650/688] | Train Loss: 0.0986 Grad: 18403.5781 LR: 9.3679e-05 | Elapse: 104.90s\n",
                        "Epoch 3 [687/688] | Train Loss: 0.2502 Grad: 76093.4922 LR: 9.3283e-05 | Elapse: 110.86s\n"
                    ]
                },
                {
                    "data": {
                        "application/vnd.jupyter.widget-view+json": {
                            "model_id": "0d720a4b10dc464ca02276c0c3deae9b",
                            "version_major": 2,
                            "version_minor": 0
                        },
                        "text/plain": [
                            "Valid [2]:   0%|          | 0/295 [00:00<?, ?batch/s]"
                        ]
                    },
                    "metadata": {},
                    "output_type": "display_data"
                },
                {
                    "name": "stdout",
                    "output_type": "stream",
                    "text": [
                        "Epoch 3 [0/295] | Valid Loss: 0.3866 | Elapse: 0.07s\n",
                        "Epoch 3 [50/295] | Valid Loss: 0.3077 | Elapse: 3.31s\n",
                        "Epoch 3 [100/295] | Valid Loss: 0.2360 | Elapse: 6.55s\n",
                        "Epoch 3 [150/295] | Valid Loss: 0.2549 | Elapse: 9.81s\n",
                        "Epoch 3 [200/295] | Valid Loss: 0.3931 | Elapse: 13.06s\n",
                        "Epoch 3 [250/295] | Valid Loss: 0.4566 | Elapse: 16.31s\n"
                    ]
                },
                {
                    "name": "stderr",
                    "output_type": "stream",
                    "text": [
                        "----------------------------------------------------------------------------------------------------\n",
                        "Epoch 3 - Average Loss: (train) 0.3174; (valid) 0.3139 | Time: 130.00s\n",
                        "Best model found in epoch 3 | valid loss: 0.3139\n"
                    ]
                },
                {
                    "name": "stdout",
                    "output_type": "stream",
                    "text": [
                        "Epoch 3 [294/295] | Valid Loss: 0.1031 | Elapse: 19.14s\n"
                    ]
                },
                {
                    "data": {
                        "application/vnd.jupyter.widget-view+json": {
                            "model_id": "7bcc1ee6593a485c9164d4170029aeef",
                            "version_major": 2,
                            "version_minor": 0
                        },
                        "text/plain": [
                            "Train [3]:   0%|          | 0/688 [00:00<?, ?batch/s]"
                        ]
                    },
                    "metadata": {},
                    "output_type": "display_data"
                },
                {
                    "name": "stdout",
                    "output_type": "stream",
                    "text": [
                        "Epoch 4 [0/688] | Train Loss: 0.2646 Grad: inf LR: 9.3283e-05 | Elapse: 0.16s\n",
                        "Epoch 4 [50/688] | Train Loss: 0.2624 Grad: 34648.7891 LR: 9.2744e-05 | Elapse: 8.17s\n",
                        "Epoch 4 [100/688] | Train Loss: 0.3059 Grad: 54376.6172 LR: 9.2186e-05 | Elapse: 16.20s\n",
                        "Epoch 4 [150/688] | Train Loss: 0.3415 Grad: 35977.5117 LR: 9.1610e-05 | Elapse: 24.27s\n",
                        "Epoch 4 [200/688] | Train Loss: 0.1965 Grad: 35169.1484 LR: 9.1014e-05 | Elapse: 32.33s\n",
                        "Epoch 4 [250/688] | Train Loss: 0.3355 Grad: 49362.1562 LR: 9.0401e-05 | Elapse: 40.38s\n",
                        "Epoch 4 [300/688] | Train Loss: 0.4510 Grad: 54174.8789 LR: 8.9769e-05 | Elapse: 48.43s\n",
                        "Epoch 4 [350/688] | Train Loss: 0.1767 Grad: 42072.9375 LR: 8.9120e-05 | Elapse: 56.48s\n",
                        "Epoch 4 [400/688] | Train Loss: 0.2595 Grad: 54916.9570 LR: 8.8453e-05 | Elapse: 64.54s\n",
                        "Epoch 4 [450/688] | Train Loss: 0.1365 Grad: 22141.6895 LR: 8.7769e-05 | Elapse: 72.59s\n",
                        "Epoch 4 [500/688] | Train Loss: 0.2826 Grad: 35159.4375 LR: 8.7068e-05 | Elapse: 80.63s\n",
                        "Epoch 4 [550/688] | Train Loss: 0.2446 Grad: 27088.4863 LR: 8.6351e-05 | Elapse: 88.74s\n",
                        "Epoch 4 [600/688] | Train Loss: 0.1349 Grad: 26540.5996 LR: 8.5617e-05 | Elapse: 96.80s\n",
                        "Epoch 4 [650/688] | Train Loss: 0.0760 Grad: 18458.2773 LR: 8.4868e-05 | Elapse: 104.84s\n",
                        "Epoch 4 [687/688] | Train Loss: 0.2039 Grad: 63931.7500 LR: 8.4288e-05 | Elapse: 110.80s\n"
                    ]
                },
                {
                    "data": {
                        "application/vnd.jupyter.widget-view+json": {
                            "model_id": "0cb497daec994c46b313ef980154227c",
                            "version_major": 2,
                            "version_minor": 0
                        },
                        "text/plain": [
                            "Valid [3]:   0%|          | 0/295 [00:00<?, ?batch/s]"
                        ]
                    },
                    "metadata": {},
                    "output_type": "display_data"
                },
                {
                    "name": "stdout",
                    "output_type": "stream",
                    "text": [
                        "Epoch 4 [0/295] | Valid Loss: 0.3241 | Elapse: 0.07s\n",
                        "Epoch 4 [50/295] | Valid Loss: 0.2278 | Elapse: 3.32s\n",
                        "Epoch 4 [100/295] | Valid Loss: 0.2617 | Elapse: 6.57s\n",
                        "Epoch 4 [150/295] | Valid Loss: 0.1946 | Elapse: 9.83s\n",
                        "Epoch 4 [200/295] | Valid Loss: 0.4155 | Elapse: 13.10s\n",
                        "Epoch 4 [250/295] | Valid Loss: 0.4659 | Elapse: 16.35s\n"
                    ]
                },
                {
                    "name": "stderr",
                    "output_type": "stream",
                    "text": [
                        "----------------------------------------------------------------------------------------------------\n",
                        "Epoch 4 - Average Loss: (train) 0.2678; (valid) 0.3178 | Time: 129.98s\n"
                    ]
                },
                {
                    "name": "stdout",
                    "output_type": "stream",
                    "text": [
                        "Epoch 4 [294/295] | Valid Loss: 0.0553 | Elapse: 19.18s\n"
                    ]
                },
                {
                    "data": {
                        "application/vnd.jupyter.widget-view+json": {
                            "model_id": "3829a5ab7a70481fa49685f937fcae8b",
                            "version_major": 2,
                            "version_minor": 0
                        },
                        "text/plain": [
                            "Train [4]:   0%|          | 0/688 [00:00<?, ?batch/s]"
                        ]
                    },
                    "metadata": {},
                    "output_type": "display_data"
                },
                {
                    "name": "stdout",
                    "output_type": "stream",
                    "text": [
                        "Epoch 5 [0/688] | Train Loss: 0.2457 Grad: nan LR: 8.4288e-05 | Elapse: 0.16s\n",
                        "Epoch 5 [50/688] | Train Loss: 0.1984 Grad: 32504.8066 LR: 8.3511e-05 | Elapse: 8.20s\n",
                        "Epoch 5 [100/688] | Train Loss: 0.2038 Grad: 28805.3535 LR: 8.2719e-05 | Elapse: 16.26s\n",
                        "Epoch 5 [150/688] | Train Loss: 0.2860 Grad: 49099.0977 LR: 8.1913e-05 | Elapse: 24.36s\n",
                        "Epoch 5 [200/688] | Train Loss: 0.1998 Grad: 46830.6250 LR: 8.1092e-05 | Elapse: 32.47s\n",
                        "Epoch 5 [250/688] | Train Loss: 0.2763 Grad: 32190.9121 LR: 8.0258e-05 | Elapse: 40.56s\n",
                        "Epoch 5 [300/688] | Train Loss: 0.4205 Grad: 46399.0703 LR: 7.9410e-05 | Elapse: 48.65s\n",
                        "Epoch 5 [350/688] | Train Loss: 0.1501 Grad: 36419.4375 LR: 7.8549e-05 | Elapse: 56.72s\n",
                        "Epoch 5 [400/688] | Train Loss: 0.2546 Grad: 42669.7734 LR: 7.7675e-05 | Elapse: 64.78s\n",
                        "Epoch 5 [450/688] | Train Loss: 0.1417 Grad: 25238.7188 LR: 7.6789e-05 | Elapse: 72.86s\n",
                        "Epoch 5 [500/688] | Train Loss: 0.3515 Grad: 57127.5703 LR: 7.5890e-05 | Elapse: 80.95s\n",
                        "Epoch 5 [550/688] | Train Loss: 0.3418 Grad: 61806.9297 LR: 7.4981e-05 | Elapse: 89.01s\n",
                        "Epoch 5 [600/688] | Train Loss: 0.1357 Grad: 26876.7207 LR: 7.4060e-05 | Elapse: 97.08s\n",
                        "Epoch 5 [650/688] | Train Loss: 0.0587 Grad: 18405.2305 LR: 7.3128e-05 | Elapse: 105.15s\n",
                        "Epoch 5 [687/688] | Train Loss: 0.1603 Grad: 79960.7109 LR: 7.2413e-05 | Elapse: 111.11s\n"
                    ]
                },
                {
                    "data": {
                        "application/vnd.jupyter.widget-view+json": {
                            "model_id": "e7f08a3ad92a49578e8922937181e870",
                            "version_major": 2,
                            "version_minor": 0
                        },
                        "text/plain": [
                            "Valid [4]:   0%|          | 0/295 [00:00<?, ?batch/s]"
                        ]
                    },
                    "metadata": {},
                    "output_type": "display_data"
                },
                {
                    "name": "stdout",
                    "output_type": "stream",
                    "text": [
                        "Epoch 5 [0/295] | Valid Loss: 0.3162 | Elapse: 0.08s\n",
                        "Epoch 5 [50/295] | Valid Loss: 0.2796 | Elapse: 3.32s\n",
                        "Epoch 5 [100/295] | Valid Loss: 0.2171 | Elapse: 6.57s\n",
                        "Epoch 5 [150/295] | Valid Loss: 0.2151 | Elapse: 9.83s\n",
                        "Epoch 5 [200/295] | Valid Loss: 0.5359 | Elapse: 13.09s\n",
                        "Epoch 5 [250/295] | Valid Loss: 0.6103 | Elapse: 16.35s\n"
                    ]
                },
                {
                    "name": "stderr",
                    "output_type": "stream",
                    "text": [
                        "----------------------------------------------------------------------------------------------------\n",
                        "Epoch 5 - Average Loss: (train) 0.2276; (valid) 0.3353 | Time: 130.30s\n"
                    ]
                },
                {
                    "name": "stdout",
                    "output_type": "stream",
                    "text": [
                        "Epoch 5 [294/295] | Valid Loss: 0.0389 | Elapse: 19.18s\n"
                    ]
                },
                {
                    "data": {
                        "application/vnd.jupyter.widget-view+json": {
                            "model_id": "60c6eb9868ea4419a8408d9c166c765f",
                            "version_major": 2,
                            "version_minor": 0
                        },
                        "text/plain": [
                            "Train [5]:   0%|          | 0/688 [00:00<?, ?batch/s]"
                        ]
                    },
                    "metadata": {},
                    "output_type": "display_data"
                },
                {
                    "name": "stdout",
                    "output_type": "stream",
                    "text": [
                        "Epoch 6 [0/688] | Train Loss: 0.1931 Grad: nan LR: 7.2413e-05 | Elapse: 0.17s\n",
                        "Epoch 6 [50/688] | Train Loss: 0.1779 Grad: 34677.2383 LR: 7.1464e-05 | Elapse: 8.20s\n",
                        "Epoch 6 [100/688] | Train Loss: 0.1655 Grad: 34516.6719 LR: 7.0505e-05 | Elapse: 16.26s\n",
                        "Epoch 6 [150/688] | Train Loss: 0.2329 Grad: 52485.1758 LR: 6.9536e-05 | Elapse: 24.37s\n",
                        "Epoch 6 [200/688] | Train Loss: 0.1716 Grad: 51253.6445 LR: 6.8559e-05 | Elapse: 32.48s\n",
                        "Epoch 6 [250/688] | Train Loss: 0.3768 Grad: 90223.1719 LR: 6.7574e-05 | Elapse: 40.60s\n",
                        "Epoch 6 [300/688] | Train Loss: 0.2731 Grad: 41225.1758 LR: 6.6581e-05 | Elapse: 48.68s\n",
                        "Epoch 6 [350/688] | Train Loss: 0.1451 Grad: 30153.9648 LR: 6.5580e-05 | Elapse: 56.76s\n",
                        "Epoch 6 [400/688] | Train Loss: 0.2546 Grad: 61953.8750 LR: 6.4573e-05 | Elapse: 64.85s\n",
                        "Epoch 6 [450/688] | Train Loss: 0.1132 Grad: 40490.9727 LR: 6.3559e-05 | Elapse: 72.92s\n",
                        "Epoch 6 [500/688] | Train Loss: 0.2059 Grad: 56715.4102 LR: 6.2539e-05 | Elapse: 80.99s\n",
                        "Epoch 6 [550/688] | Train Loss: 0.1712 Grad: 43718.1133 LR: 6.1513e-05 | Elapse: 89.06s\n",
                        "Epoch 6 [600/688] | Train Loss: 0.1216 Grad: 34612.8047 LR: 6.0483e-05 | Elapse: 97.16s\n",
                        "Epoch 6 [650/688] | Train Loss: 0.0578 Grad: 16447.6465 LR: 5.9447e-05 | Elapse: 105.17s\n",
                        "Epoch 6 [687/688] | Train Loss: 0.1702 Grad: 74366.5469 LR: 5.8657e-05 | Elapse: 111.11s\n"
                    ]
                },
                {
                    "data": {
                        "application/vnd.jupyter.widget-view+json": {
                            "model_id": "140113a064a24ae7abdd5948ee8d9d39",
                            "version_major": 2,
                            "version_minor": 0
                        },
                        "text/plain": [
                            "Valid [5]:   0%|          | 0/295 [00:00<?, ?batch/s]"
                        ]
                    },
                    "metadata": {},
                    "output_type": "display_data"
                },
                {
                    "name": "stdout",
                    "output_type": "stream",
                    "text": [
                        "Epoch 6 [0/295] | Valid Loss: 0.2893 | Elapse: 0.07s\n",
                        "Epoch 6 [50/295] | Valid Loss: 0.2994 | Elapse: 3.26s\n",
                        "Epoch 6 [100/295] | Valid Loss: 0.2726 | Elapse: 6.44s\n",
                        "Epoch 6 [150/295] | Valid Loss: 0.2034 | Elapse: 9.64s\n",
                        "Epoch 6 [200/295] | Valid Loss: 0.4773 | Elapse: 12.84s\n",
                        "Epoch 6 [250/295] | Valid Loss: 0.6879 | Elapse: 16.03s\n"
                    ]
                },
                {
                    "name": "stderr",
                    "output_type": "stream",
                    "text": [
                        "----------------------------------------------------------------------------------------------------\n",
                        "Epoch 6 - Average Loss: (train) 0.1883; (valid) 0.3537 | Time: 129.93s\n"
                    ]
                },
                {
                    "name": "stdout",
                    "output_type": "stream",
                    "text": [
                        "Epoch 6 [294/295] | Valid Loss: 0.0360 | Elapse: 18.81s\n"
                    ]
                },
                {
                    "name": "stderr",
                    "output_type": "stream",
                    "text": [
                        "====================================================================================================\n",
                        "Fold 1 Valid Loss: (Easy) 0.6064 | (Hard) 0.6645\n",
                        "Elapse: 13.01 min \n",
                        "====================================================================================================\n",
                        "- Second Stage \n",
                        "Use Checkpoint: ENet_b2_xymask_rebalance_fold_1_stage_1.pth\n"
                    ]
                },
                {
                    "data": {
                        "application/vnd.jupyter.widget-view+json": {
                            "model_id": "c5af059532bc4815b69c6daf4a3b0959",
                            "version_major": 2,
                            "version_minor": 0
                        },
                        "text/plain": [
                            "Train [0]:   0%|          | 0/454 [00:00<?, ?batch/s]"
                        ]
                    },
                    "metadata": {},
                    "output_type": "display_data"
                },
                {
                    "name": "stdout",
                    "output_type": "stream",
                    "text": [
                        "Epoch 1 [0/454] | Train Loss: 0.6201 Grad: nan LR: 4.0000e-06 | Elapse: 0.16s\n",
                        "Epoch 1 [50/454] | Train Loss: 0.2423 Grad: 56514.1875 LR: 5.9959e-06 | Elapse: 8.14s\n",
                        "Epoch 1 [100/454] | Train Loss: 0.2363 Grad: 49327.6055 LR: 1.1818e-05 | Elapse: 16.13s\n",
                        "Epoch 1 [150/454] | Train Loss: 0.3041 Grad: 53963.4883 LR: 2.0981e-05 | Elapse: 24.12s\n",
                        "Epoch 1 [200/454] | Train Loss: 0.4429 Grad: 102084.0234 LR: 3.2724e-05 | Elapse: 32.15s\n",
                        "Epoch 1 [250/454] | Train Loss: 0.2052 Grad: 31549.6230 LR: 4.6070e-05 | Elapse: 40.17s\n",
                        "Epoch 1 [300/454] | Train Loss: 1.2988 Grad: 52833.1641 LR: 5.9909e-05 | Elapse: 48.17s\n",
                        "Epoch 1 [350/454] | Train Loss: 0.1377 Grad: 18267.6133 LR: 7.3091e-05 | Elapse: 56.17s\n",
                        "Epoch 1 [400/454] | Train Loss: 1.6854 Grad: 57570.0117 LR: 8.4518e-05 | Elapse: 64.18s\n",
                        "Epoch 1 [450/454] | Train Loss: 0.2979 Grad: 17326.2344 LR: 9.3241e-05 | Elapse: 72.17s\n",
                        "Epoch 1 [453/454] | Train Loss: 0.2553 Grad: 27818.8203 LR: 9.3799e-05 | Elapse: 72.65s\n"
                    ]
                },
                {
                    "data": {
                        "application/vnd.jupyter.widget-view+json": {
                            "model_id": "163fbf40834e4bf6b16c6e00cf1e86ae",
                            "version_major": 2,
                            "version_minor": 0
                        },
                        "text/plain": [
                            "Valid [0]:   0%|          | 0/295 [00:00<?, ?batch/s]"
                        ]
                    },
                    "metadata": {},
                    "output_type": "display_data"
                },
                {
                    "name": "stdout",
                    "output_type": "stream",
                    "text": [
                        "Epoch 1 [0/295] | Valid Loss: 0.7473 | Elapse: 0.07s\n",
                        "Epoch 1 [50/295] | Valid Loss: 0.7646 | Elapse: 3.26s\n",
                        "Epoch 1 [100/295] | Valid Loss: 0.7546 | Elapse: 6.44s\n",
                        "Epoch 1 [150/295] | Valid Loss: 0.8196 | Elapse: 9.65s\n",
                        "Epoch 1 [200/295] | Valid Loss: 0.5129 | Elapse: 12.86s\n",
                        "Epoch 1 [250/295] | Valid Loss: 0.5786 | Elapse: 16.05s\n"
                    ]
                },
                {
                    "name": "stderr",
                    "output_type": "stream",
                    "text": [
                        "----------------------------------------------------------------------------------------------------\n",
                        "Epoch 1 - Average Loss: (train) 0.4582; (valid) 0.7158 | Time: 91.49s\n",
                        "Best model found in epoch 1 | valid loss: 0.7158\n"
                    ]
                },
                {
                    "name": "stdout",
                    "output_type": "stream",
                    "text": [
                        "Epoch 1 [294/295] | Valid Loss: 0.1597 | Elapse: 18.84s\n"
                    ]
                },
                {
                    "data": {
                        "application/vnd.jupyter.widget-view+json": {
                            "model_id": "29911ec825e94e66a4ea105f5011f9d1",
                            "version_major": 2,
                            "version_minor": 0
                        },
                        "text/plain": [
                            "Train [1]:   0%|          | 0/454 [00:00<?, ?batch/s]"
                        ]
                    },
                    "metadata": {},
                    "output_type": "display_data"
                },
                {
                    "name": "stdout",
                    "output_type": "stream",
                    "text": [
                        "Epoch 2 [0/454] | Train Loss: 0.7892 Grad: 129604.3125 LR: 9.3799e-05 | Elapse: 0.16s\n",
                        "Epoch 2 [50/454] | Train Loss: 0.3342 Grad: 38605.0547 LR: 9.8795e-05 | Elapse: 8.15s\n",
                        "Epoch 2 [100/454] | Train Loss: 0.2065 Grad: 28582.3809 LR: 9.9999e-05 | Elapse: 16.13s\n",
                        "Epoch 2 [150/454] | Train Loss: 0.2323 Grad: 37120.7500 LR: 9.9962e-05 | Elapse: 24.15s\n",
                        "Epoch 2 [200/454] | Train Loss: 0.3120 Grad: 45729.7539 LR: 9.9873e-05 | Elapse: 32.20s\n",
                        "Epoch 2 [250/454] | Train Loss: 0.2329 Grad: 35940.3125 LR: 9.9734e-05 | Elapse: 40.20s\n",
                        "Epoch 2 [300/454] | Train Loss: 0.9045 Grad: 76483.2344 LR: 9.9543e-05 | Elapse: 48.19s\n",
                        "Epoch 2 [350/454] | Train Loss: 0.1460 Grad: 29627.3145 LR: 9.9302e-05 | Elapse: 56.19s\n",
                        "Epoch 2 [400/454] | Train Loss: 1.4065 Grad: 56061.4414 LR: 9.9010e-05 | Elapse: 64.21s\n",
                        "Epoch 2 [450/454] | Train Loss: 0.5352 Grad: 39129.2109 LR: 9.8668e-05 | Elapse: 72.20s\n",
                        "Epoch 2 [453/454] | Train Loss: 0.3000 Grad: 35472.9688 LR: 9.8638e-05 | Elapse: 72.68s\n"
                    ]
                },
                {
                    "data": {
                        "application/vnd.jupyter.widget-view+json": {
                            "model_id": "3722a1c6236d40b3b973f7d2e0c19375",
                            "version_major": 2,
                            "version_minor": 0
                        },
                        "text/plain": [
                            "Valid [1]:   0%|          | 0/295 [00:00<?, ?batch/s]"
                        ]
                    },
                    "metadata": {},
                    "output_type": "display_data"
                },
                {
                    "name": "stdout",
                    "output_type": "stream",
                    "text": [
                        "Epoch 2 [0/295] | Valid Loss: 0.7574 | Elapse: 0.07s\n",
                        "Epoch 2 [50/295] | Valid Loss: 0.6761 | Elapse: 3.25s\n",
                        "Epoch 2 [100/295] | Valid Loss: 0.7743 | Elapse: 6.43s\n",
                        "Epoch 2 [150/295] | Valid Loss: 0.9398 | Elapse: 9.62s\n",
                        "Epoch 2 [200/295] | Valid Loss: 0.6745 | Elapse: 12.82s\n",
                        "Epoch 2 [250/295] | Valid Loss: 0.6383 | Elapse: 16.01s\n"
                    ]
                },
                {
                    "name": "stderr",
                    "output_type": "stream",
                    "text": [
                        "----------------------------------------------------------------------------------------------------\n",
                        "Epoch 2 - Average Loss: (train) 0.4002; (valid) 0.7041 | Time: 91.49s\n",
                        "Best model found in epoch 2 | valid loss: 0.7041\n"
                    ]
                },
                {
                    "name": "stdout",
                    "output_type": "stream",
                    "text": [
                        "Epoch 2 [294/295] | Valid Loss: 0.1353 | Elapse: 18.80s\n"
                    ]
                },
                {
                    "data": {
                        "application/vnd.jupyter.widget-view+json": {
                            "model_id": "f1f9fda84498420f84350e6e9a25d8fb",
                            "version_major": 2,
                            "version_minor": 0
                        },
                        "text/plain": [
                            "Train [2]:   0%|          | 0/454 [00:00<?, ?batch/s]"
                        ]
                    },
                    "metadata": {},
                    "output_type": "display_data"
                },
                {
                    "name": "stdout",
                    "output_type": "stream",
                    "text": [
                        "Epoch 3 [0/454] | Train Loss: 0.7231 Grad: inf LR: 9.8638e-05 | Elapse: 0.17s\n",
                        "Epoch 3 [50/454] | Train Loss: 0.2495 Grad: 21732.7617 LR: 9.8242e-05 | Elapse: 8.17s\n",
                        "Epoch 3 [100/454] | Train Loss: 0.1502 Grad: 9907.8223 LR: 9.7796e-05 | Elapse: 16.19s\n",
                        "Epoch 3 [150/454] | Train Loss: 0.2252 Grad: 20688.5059 LR: 9.7302e-05 | Elapse: 24.20s\n",
                        "Epoch 3 [200/454] | Train Loss: 0.2998 Grad: 23079.1680 LR: 9.6758e-05 | Elapse: 32.20s\n",
                        "Epoch 3 [250/454] | Train Loss: 0.1758 Grad: 15697.0117 LR: 9.6167e-05 | Elapse: 40.21s\n",
                        "Epoch 3 [300/454] | Train Loss: 0.6617 Grad: 31214.5000 LR: 9.5529e-05 | Elapse: 48.22s\n",
                        "Epoch 3 [350/454] | Train Loss: 0.1458 Grad: 14601.0098 LR: 9.4844e-05 | Elapse: 56.22s\n",
                        "Epoch 3 [400/454] | Train Loss: 1.2018 Grad: 45657.7422 LR: 9.4112e-05 | Elapse: 64.25s\n",
                        "Epoch 3 [450/454] | Train Loss: 0.5115 Grad: 20484.8984 LR: 9.3336e-05 | Elapse: 72.24s\n",
                        "Epoch 3 [453/454] | Train Loss: 0.4721 Grad: 36638.1953 LR: 9.3272e-05 | Elapse: 72.73s\n"
                    ]
                },
                {
                    "data": {
                        "application/vnd.jupyter.widget-view+json": {
                            "model_id": "275e1b8540a445979275a8b83162f281",
                            "version_major": 2,
                            "version_minor": 0
                        },
                        "text/plain": [
                            "Valid [2]:   0%|          | 0/295 [00:00<?, ?batch/s]"
                        ]
                    },
                    "metadata": {},
                    "output_type": "display_data"
                },
                {
                    "name": "stdout",
                    "output_type": "stream",
                    "text": [
                        "Epoch 3 [0/295] | Valid Loss: 0.6238 | Elapse: 0.07s\n",
                        "Epoch 3 [50/295] | Valid Loss: 0.5888 | Elapse: 3.26s\n",
                        "Epoch 3 [100/295] | Valid Loss: 0.5794 | Elapse: 6.44s\n",
                        "Epoch 3 [150/295] | Valid Loss: 0.5614 | Elapse: 9.64s\n",
                        "Epoch 3 [200/295] | Valid Loss: 0.3991 | Elapse: 12.84s\n",
                        "Epoch 3 [250/295] | Valid Loss: 0.4378 | Elapse: 16.02s\n"
                    ]
                },
                {
                    "name": "stderr",
                    "output_type": "stream",
                    "text": [
                        "----------------------------------------------------------------------------------------------------\n",
                        "Epoch 3 - Average Loss: (train) 0.3770; (valid) 0.5066 | Time: 91.55s\n",
                        "Best model found in epoch 3 | valid loss: 0.5066\n"
                    ]
                },
                {
                    "name": "stdout",
                    "output_type": "stream",
                    "text": [
                        "Epoch 3 [294/295] | Valid Loss: 0.4773 | Elapse: 18.82s\n"
                    ]
                },
                {
                    "data": {
                        "application/vnd.jupyter.widget-view+json": {
                            "model_id": "28b78e7ef857467f98143c17e4a7a70a",
                            "version_major": 2,
                            "version_minor": 0
                        },
                        "text/plain": [
                            "Train [3]:   0%|          | 0/454 [00:00<?, ?batch/s]"
                        ]
                    },
                    "metadata": {},
                    "output_type": "display_data"
                },
                {
                    "name": "stdout",
                    "output_type": "stream",
                    "text": [
                        "Epoch 4 [0/454] | Train Loss: 0.5276 Grad: 109475.3984 LR: 9.3272e-05 | Elapse: 0.16s\n",
                        "Epoch 4 [50/454] | Train Loss: 0.1989 Grad: 15569.7158 LR: 9.2447e-05 | Elapse: 8.15s\n",
                        "Epoch 4 [100/454] | Train Loss: 0.1438 Grad: 14981.8594 LR: 9.1580e-05 | Elapse: 16.14s\n",
                        "Epoch 4 [150/454] | Train Loss: 0.2174 Grad: 23755.5527 LR: 9.0669e-05 | Elapse: 24.16s\n",
                        "Epoch 4 [200/454] | Train Loss: 0.3208 Grad: 24888.1934 LR: 8.9717e-05 | Elapse: 32.16s\n",
                        "Epoch 4 [250/454] | Train Loss: 0.2004 Grad: 17239.7910 LR: 8.8724e-05 | Elapse: 40.17s\n",
                        "Epoch 4 [300/454] | Train Loss: 0.5427 Grad: 37432.6680 LR: 8.7691e-05 | Elapse: 48.17s\n",
                        "Epoch 4 [350/454] | Train Loss: 0.1313 Grad: 11971.6182 LR: 8.6619e-05 | Elapse: 56.21s\n",
                        "Epoch 4 [400/454] | Train Loss: 1.1683 Grad: 61153.0430 LR: 8.5510e-05 | Elapse: 64.20s\n",
                        "Epoch 4 [450/454] | Train Loss: 0.4728 Grad: 17183.4688 LR: 8.4365e-05 | Elapse: 72.22s\n",
                        "Epoch 4 [453/454] | Train Loss: 0.3491 Grad: 27482.6660 LR: 8.4272e-05 | Elapse: 72.70s\n"
                    ]
                },
                {
                    "data": {
                        "application/vnd.jupyter.widget-view+json": {
                            "model_id": "64f0a4011d8b47429454a2d238f501b2",
                            "version_major": 2,
                            "version_minor": 0
                        },
                        "text/plain": [
                            "Valid [3]:   0%|          | 0/295 [00:00<?, ?batch/s]"
                        ]
                    },
                    "metadata": {},
                    "output_type": "display_data"
                },
                {
                    "name": "stdout",
                    "output_type": "stream",
                    "text": [
                        "Epoch 4 [0/295] | Valid Loss: 0.5459 | Elapse: 0.07s\n",
                        "Epoch 4 [50/295] | Valid Loss: 0.5174 | Elapse: 3.26s\n",
                        "Epoch 4 [100/295] | Valid Loss: 0.5120 | Elapse: 6.44s\n",
                        "Epoch 4 [150/295] | Valid Loss: 0.5145 | Elapse: 9.63s\n",
                        "Epoch 4 [200/295] | Valid Loss: 0.3636 | Elapse: 12.83s\n",
                        "Epoch 4 [250/295] | Valid Loss: 0.4802 | Elapse: 16.02s\n"
                    ]
                },
                {
                    "name": "stderr",
                    "output_type": "stream",
                    "text": [
                        "----------------------------------------------------------------------------------------------------\n",
                        "Epoch 4 - Average Loss: (train) 0.3314; (valid) 0.4794 | Time: 91.51s\n",
                        "Best model found in epoch 4 | valid loss: 0.4794\n"
                    ]
                },
                {
                    "name": "stdout",
                    "output_type": "stream",
                    "text": [
                        "Epoch 4 [294/295] | Valid Loss: 0.3125 | Elapse: 18.81s\n"
                    ]
                },
                {
                    "data": {
                        "application/vnd.jupyter.widget-view+json": {
                            "model_id": "49923f5847c24167a090c4ffbb6db55f",
                            "version_major": 2,
                            "version_minor": 0
                        },
                        "text/plain": [
                            "Train [4]:   0%|          | 0/454 [00:00<?, ?batch/s]"
                        ]
                    },
                    "metadata": {},
                    "output_type": "display_data"
                },
                {
                    "name": "stdout",
                    "output_type": "stream",
                    "text": [
                        "Epoch 5 [0/454] | Train Loss: 0.4561 Grad: 132488.1094 LR: 8.4272e-05 | Elapse: 0.16s\n",
                        "Epoch 5 [50/454] | Train Loss: 0.1418 Grad: 25312.7246 LR: 8.3088e-05 | Elapse: 8.18s\n",
                        "Epoch 5 [100/454] | Train Loss: 0.1547 Grad: 26374.3555 LR: 8.1871e-05 | Elapse: 16.18s\n",
                        "Epoch 5 [150/454] | Train Loss: 0.1825 Grad: 27354.1660 LR: 8.0621e-05 | Elapse: 24.20s\n",
                        "Epoch 5 [200/454] | Train Loss: 0.2476 Grad: 51436.9180 LR: 7.9339e-05 | Elapse: 32.21s\n",
                        "Epoch 5 [250/454] | Train Loss: 0.1671 Grad: 32822.9883 LR: 7.8028e-05 | Elapse: 40.22s\n",
                        "Epoch 5 [300/454] | Train Loss: 0.4877 Grad: 30709.1914 LR: 7.6688e-05 | Elapse: 48.25s\n",
                        "Epoch 5 [350/454] | Train Loss: 0.1442 Grad: 9649.1172 LR: 7.5320e-05 | Elapse: 56.25s\n",
                        "Epoch 5 [400/454] | Train Loss: 0.9597 Grad: 56833.0938 LR: 7.3926e-05 | Elapse: 64.28s\n",
                        "Epoch 5 [450/454] | Train Loss: 0.3981 Grad: 18757.1211 LR: 7.2508e-05 | Elapse: 72.32s\n",
                        "Epoch 5 [453/454] | Train Loss: 0.2175 Grad: 20203.3262 LR: 7.2394e-05 | Elapse: 72.80s\n"
                    ]
                },
                {
                    "data": {
                        "application/vnd.jupyter.widget-view+json": {
                            "model_id": "b984c6759dab410abd7cd3b618f208e7",
                            "version_major": 2,
                            "version_minor": 0
                        },
                        "text/plain": [
                            "Valid [4]:   0%|          | 0/295 [00:00<?, ?batch/s]"
                        ]
                    },
                    "metadata": {},
                    "output_type": "display_data"
                },
                {
                    "name": "stdout",
                    "output_type": "stream",
                    "text": [
                        "Epoch 5 [0/295] | Valid Loss: 0.6050 | Elapse: 0.07s\n",
                        "Epoch 5 [50/295] | Valid Loss: 0.5733 | Elapse: 3.26s\n",
                        "Epoch 5 [100/295] | Valid Loss: 0.5626 | Elapse: 6.45s\n",
                        "Epoch 5 [150/295] | Valid Loss: 0.5527 | Elapse: 9.65s\n",
                        "Epoch 5 [200/295] | Valid Loss: 0.4405 | Elapse: 12.86s\n",
                        "Epoch 5 [250/295] | Valid Loss: 0.5932 | Elapse: 16.06s\n"
                    ]
                },
                {
                    "name": "stderr",
                    "output_type": "stream",
                    "text": [
                        "----------------------------------------------------------------------------------------------------\n",
                        "Epoch 5 - Average Loss: (train) 0.2919; (valid) 0.5597 | Time: 91.66s\n"
                    ]
                },
                {
                    "name": "stdout",
                    "output_type": "stream",
                    "text": [
                        "Epoch 5 [294/295] | Valid Loss: 0.2114 | Elapse: 18.85s\n"
                    ]
                },
                {
                    "data": {
                        "application/vnd.jupyter.widget-view+json": {
                            "model_id": "34316bd112ea4b4a969af95fcad2d447",
                            "version_major": 2,
                            "version_minor": 0
                        },
                        "text/plain": [
                            "Train [5]:   0%|          | 0/454 [00:00<?, ?batch/s]"
                        ]
                    },
                    "metadata": {},
                    "output_type": "display_data"
                },
                {
                    "name": "stdout",
                    "output_type": "stream",
                    "text": [
                        "Epoch 6 [0/454] | Train Loss: 0.4220 Grad: 149922.6406 LR: 7.2394e-05 | Elapse: 0.17s\n",
                        "Epoch 6 [50/454] | Train Loss: 0.1445 Grad: 12702.3828 LR: 7.0951e-05 | Elapse: 8.14s\n",
                        "Epoch 6 [100/454] | Train Loss: 0.1341 Grad: 13667.0684 LR: 6.9486e-05 | Elapse: 16.13s\n",
                        "Epoch 6 [150/454] | Train Loss: 0.1990 Grad: 25311.3926 LR: 6.8002e-05 | Elapse: 24.15s\n",
                        "Epoch 6 [200/454] | Train Loss: 0.2419 Grad: 28707.0488 LR: 6.6499e-05 | Elapse: 32.15s\n",
                        "Epoch 6 [250/454] | Train Loss: 0.1839 Grad: 22320.1348 LR: 6.4979e-05 | Elapse: 40.15s\n",
                        "Epoch 6 [300/454] | Train Loss: 0.5133 Grad: 55572.0234 LR: 6.3444e-05 | Elapse: 48.15s\n",
                        "Epoch 6 [350/454] | Train Loss: 0.1195 Grad: 8810.1045 LR: 6.1895e-05 | Elapse: 56.15s\n",
                        "Epoch 6 [400/454] | Train Loss: 1.1197 Grad: 102833.8594 LR: 6.0334e-05 | Elapse: 64.24s\n",
                        "Epoch 6 [450/454] | Train Loss: 0.2607 Grad: 25973.4062 LR: 5.8762e-05 | Elapse: 72.22s\n",
                        "Epoch 6 [453/454] | Train Loss: 0.1675 Grad: 47641.9062 LR: 5.8636e-05 | Elapse: 72.70s\n"
                    ]
                },
                {
                    "data": {
                        "application/vnd.jupyter.widget-view+json": {
                            "model_id": "279bf4b8f8534e9eac585be0b3535223",
                            "version_major": 2,
                            "version_minor": 0
                        },
                        "text/plain": [
                            "Valid [5]:   0%|          | 0/295 [00:00<?, ?batch/s]"
                        ]
                    },
                    "metadata": {},
                    "output_type": "display_data"
                },
                {
                    "name": "stdout",
                    "output_type": "stream",
                    "text": [
                        "Epoch 6 [0/295] | Valid Loss: 0.5662 | Elapse: 0.08s\n",
                        "Epoch 6 [50/295] | Valid Loss: 0.5722 | Elapse: 3.28s\n",
                        "Epoch 6 [100/295] | Valid Loss: 0.5575 | Elapse: 6.46s\n",
                        "Epoch 6 [150/295] | Valid Loss: 0.5737 | Elapse: 9.66s\n",
                        "Epoch 6 [200/295] | Valid Loss: 0.4412 | Elapse: 12.85s\n",
                        "Epoch 6 [250/295] | Valid Loss: 0.7393 | Elapse: 16.04s\n"
                    ]
                },
                {
                    "name": "stderr",
                    "output_type": "stream",
                    "text": [
                        "----------------------------------------------------------------------------------------------------\n",
                        "Epoch 6 - Average Loss: (train) 0.2586; (valid) 0.5694 | Time: 91.52s\n"
                    ]
                },
                {
                    "name": "stdout",
                    "output_type": "stream",
                    "text": [
                        "Epoch 6 [294/295] | Valid Loss: 0.1613 | Elapse: 18.82s\n"
                    ]
                },
                {
                    "name": "stderr",
                    "output_type": "stream",
                    "text": [
                        "====================================================================================================\n",
                        "Fold 1 Valid Loss: (Easy) 1.0661 | (Hard) 0.7744\n",
                        "Elapse: 9.16 min \n",
                        "====================================================================================================\n",
                        "====================================================================================================\n",
                        "Fold: 2 || Valid size 3815 \n",
                        "====================================================================================================\n",
                        "- First Stage \n"
                    ]
                },
                {
                    "data": {
                        "application/vnd.jupyter.widget-view+json": {
                            "model_id": "cdbd56ddadae43dfb47d9095c5d37bb6",
                            "version_major": 2,
                            "version_minor": 0
                        },
                        "text/plain": [
                            "Train [0]:   0%|          | 0/733 [00:00<?, ?batch/s]"
                        ]
                    },
                    "metadata": {},
                    "output_type": "display_data"
                },
                {
                    "name": "stdout",
                    "output_type": "stream",
                    "text": [
                        "Epoch 1 [0/733] | Train Loss: 0.8393 Grad: 116106.3828 LR: 4.0000e-06 | Elapse: 0.18s\n",
                        "Epoch 1 [50/733] | Train Loss: 0.8320 Grad: 83671.7734 LR: 4.7668e-06 | Elapse: 8.17s\n",
                        "Epoch 1 [100/733] | Train Loss: 0.8011 Grad: 69897.3047 LR: 7.0428e-06 | Elapse: 16.18s\n",
                        "Epoch 1 [150/733] | Train Loss: 0.7493 Grad: 75416.1641 LR: 1.0755e-05 | Elapse: 24.20s\n",
                        "Epoch 1 [200/733] | Train Loss: 0.7899 Grad: 60360.8086 LR: 1.5785e-05 | Elapse: 32.21s\n",
                        "Epoch 1 [250/733] | Train Loss: 0.7929 Grad: 65274.7266 LR: 2.1973e-05 | Elapse: 40.20s\n",
                        "Epoch 1 [300/733] | Train Loss: 0.7603 Grad: 62976.6445 LR: 2.9120e-05 | Elapse: 48.19s\n",
                        "Epoch 1 [350/733] | Train Loss: 0.5585 Grad: 88462.0938 LR: 3.6997e-05 | Elapse: 56.20s\n",
                        "Epoch 1 [400/733] | Train Loss: 0.6048 Grad: 69056.6719 LR: 4.5354e-05 | Elapse: 64.21s\n",
                        "Epoch 1 [450/733] | Train Loss: 0.6299 Grad: 121435.9609 LR: 5.3924e-05 | Elapse: 72.20s\n",
                        "Epoch 1 [500/733] | Train Loss: 0.5117 Grad: 63225.0117 LR: 6.2432e-05 | Elapse: 80.19s\n",
                        "Epoch 1 [550/733] | Train Loss: 0.6571 Grad: 100792.6797 LR: 7.0607e-05 | Elapse: 88.23s\n",
                        "Epoch 1 [600/733] | Train Loss: 0.4917 Grad: 49994.4961 LR: 7.8187e-05 | Elapse: 96.32s\n",
                        "Epoch 1 [650/733] | Train Loss: 0.5766 Grad: 74976.7188 LR: 8.4930e-05 | Elapse: 104.40s\n",
                        "Epoch 1 [700/733] | Train Loss: 0.5383 Grad: 76369.0625 LR: 9.0622e-05 | Elapse: 112.41s\n",
                        "Epoch 1 [732/733] | Train Loss: 0.4602 Grad: 109136.0625 LR: 9.3626e-05 | Elapse: 117.52s\n"
                    ]
                },
                {
                    "data": {
                        "application/vnd.jupyter.widget-view+json": {
                            "model_id": "919bfa61236b41f984009e626e475d2e",
                            "version_major": 2,
                            "version_minor": 0
                        },
                        "text/plain": [
                            "Valid [0]:   0%|          | 0/239 [00:00<?, ?batch/s]"
                        ]
                    },
                    "metadata": {},
                    "output_type": "display_data"
                },
                {
                    "name": "stdout",
                    "output_type": "stream",
                    "text": [
                        "Epoch 1 [0/239] | Valid Loss: 0.2916 | Elapse: 0.08s\n",
                        "Epoch 1 [50/239] | Valid Loss: 0.4124 | Elapse: 3.26s\n",
                        "Epoch 1 [100/239] | Valid Loss: 0.3322 | Elapse: 6.43s\n",
                        "Epoch 1 [150/239] | Valid Loss: 0.2262 | Elapse: 9.62s\n",
                        "Epoch 1 [200/239] | Valid Loss: 0.2540 | Elapse: 12.80s\n"
                    ]
                },
                {
                    "name": "stderr",
                    "output_type": "stream",
                    "text": [
                        "----------------------------------------------------------------------------------------------------\n",
                        "Epoch 1 - Average Loss: (train) 0.6679; (valid) 0.3903 | Time: 132.72s\n",
                        "Best model found in epoch 1 | valid loss: 0.3903\n"
                    ]
                },
                {
                    "name": "stdout",
                    "output_type": "stream",
                    "text": [
                        "Epoch 1 [238/239] | Valid Loss: 0.9935 | Elapse: 15.19s\n"
                    ]
                },
                {
                    "data": {
                        "application/vnd.jupyter.widget-view+json": {
                            "model_id": "6de8c7051b78493ca9f3a2c9c489b3fa",
                            "version_major": 2,
                            "version_minor": 0
                        },
                        "text/plain": [
                            "Train [1]:   0%|          | 0/733 [00:00<?, ?batch/s]"
                        ]
                    },
                    "metadata": {},
                    "output_type": "display_data"
                },
                {
                    "name": "stdout",
                    "output_type": "stream",
                    "text": [
                        "Epoch 2 [0/733] | Train Loss: 0.4648 Grad: 195115.6562 LR: 9.3626e-05 | Elapse: 0.16s\n",
                        "Epoch 2 [50/733] | Train Loss: 0.4274 Grad: 80501.7344 LR: 9.7217e-05 | Elapse: 8.18s\n",
                        "Epoch 2 [100/733] | Train Loss: 0.4412 Grad: 121671.6875 LR: 9.9362e-05 | Elapse: 16.18s\n",
                        "Epoch 2 [150/733] | Train Loss: 0.4334 Grad: 102837.1797 LR: 1.0000e-04 | Elapse: 24.23s\n",
                        "Epoch 2 [200/733] | Train Loss: 0.4885 Grad: 58362.9258 LR: 9.9988e-05 | Elapse: 32.24s\n",
                        "Epoch 2 [250/733] | Train Loss: 0.3790 Grad: 46600.4844 LR: 9.9957e-05 | Elapse: 40.21s\n",
                        "Epoch 2 [300/733] | Train Loss: 0.4360 Grad: 36264.1641 LR: 9.9906e-05 | Elapse: 48.25s\n",
                        "Epoch 2 [350/733] | Train Loss: 0.2563 Grad: 34223.4531 LR: 9.9836e-05 | Elapse: 56.26s\n",
                        "Epoch 2 [400/733] | Train Loss: 0.5308 Grad: 46065.9219 LR: 9.9746e-05 | Elapse: 64.25s\n",
                        "Epoch 2 [450/733] | Train Loss: 0.4546 Grad: 39472.9883 LR: 9.9636e-05 | Elapse: 72.24s\n",
                        "Epoch 2 [500/733] | Train Loss: 0.3045 Grad: 34574.2617 LR: 9.9507e-05 | Elapse: 80.24s\n",
                        "Epoch 2 [550/733] | Train Loss: 0.3697 Grad: 39675.5625 LR: 9.9358e-05 | Elapse: 88.23s\n",
                        "Epoch 2 [600/733] | Train Loss: 0.3470 Grad: 33407.6367 LR: 9.9190e-05 | Elapse: 96.21s\n",
                        "Epoch 2 [650/733] | Train Loss: 0.5007 Grad: 43556.9648 LR: 9.9002e-05 | Elapse: 104.18s\n",
                        "Epoch 2 [700/733] | Train Loss: 0.4171 Grad: 34503.2773 LR: 9.8795e-05 | Elapse: 112.20s\n",
                        "Epoch 2 [732/733] | Train Loss: 0.3669 Grad: 42416.3711 LR: 9.8653e-05 | Elapse: 117.31s\n"
                    ]
                },
                {
                    "data": {
                        "application/vnd.jupyter.widget-view+json": {
                            "model_id": "90c1814f3035466988f58bd8e294d5a1",
                            "version_major": 2,
                            "version_minor": 0
                        },
                        "text/plain": [
                            "Valid [1]:   0%|          | 0/239 [00:00<?, ?batch/s]"
                        ]
                    },
                    "metadata": {},
                    "output_type": "display_data"
                },
                {
                    "name": "stdout",
                    "output_type": "stream",
                    "text": [
                        "Epoch 2 [0/239] | Valid Loss: 0.1671 | Elapse: 0.07s\n",
                        "Epoch 2 [50/239] | Valid Loss: 0.2157 | Elapse: 3.24s\n",
                        "Epoch 2 [100/239] | Valid Loss: 0.2123 | Elapse: 6.41s\n",
                        "Epoch 2 [150/239] | Valid Loss: 0.1962 | Elapse: 9.59s\n",
                        "Epoch 2 [200/239] | Valid Loss: 0.2865 | Elapse: 12.77s\n"
                    ]
                },
                {
                    "name": "stderr",
                    "output_type": "stream",
                    "text": [
                        "----------------------------------------------------------------------------------------------------\n",
                        "Epoch 2 - Average Loss: (train) 0.3939; (valid) 0.3318 | Time: 132.47s\n",
                        "Best model found in epoch 2 | valid loss: 0.3318\n"
                    ]
                },
                {
                    "name": "stdout",
                    "output_type": "stream",
                    "text": [
                        "Epoch 2 [238/239] | Valid Loss: 0.6909 | Elapse: 15.15s\n"
                    ]
                },
                {
                    "data": {
                        "application/vnd.jupyter.widget-view+json": {
                            "model_id": "83f1379cf3df41f894791c37904db809",
                            "version_major": 2,
                            "version_minor": 0
                        },
                        "text/plain": [
                            "Train [2]:   0%|          | 0/733 [00:00<?, ?batch/s]"
                        ]
                    },
                    "metadata": {},
                    "output_type": "display_data"
                },
                {
                    "name": "stdout",
                    "output_type": "stream",
                    "text": [
                        "Epoch 3 [0/733] | Train Loss: 0.3041 Grad: 134294.7500 LR: 9.8653e-05 | Elapse: 0.16s\n",
                        "Epoch 3 [50/733] | Train Loss: 0.2794 Grad: 72171.1172 LR: 9.8415e-05 | Elapse: 8.11s\n",
                        "Epoch 3 [100/733] | Train Loss: 0.3090 Grad: 86279.2422 LR: 9.8157e-05 | Elapse: 16.08s\n",
                        "Epoch 3 [150/733] | Train Loss: 0.3258 Grad: 68022.0234 LR: 9.7881e-05 | Elapse: 24.08s\n",
                        "Epoch 3 [200/733] | Train Loss: 0.4013 Grad: 84496.2969 LR: 9.7586e-05 | Elapse: 32.13s\n",
                        "Epoch 3 [250/733] | Train Loss: 0.2944 Grad: 38286.9570 LR: 9.7272e-05 | Elapse: 40.14s\n",
                        "Epoch 3 [300/733] | Train Loss: 0.2651 Grad: 21932.6016 LR: 9.6940e-05 | Elapse: 48.13s\n",
                        "Epoch 3 [350/733] | Train Loss: 0.2136 Grad: 24022.0723 LR: 9.6589e-05 | Elapse: 56.14s\n",
                        "Epoch 3 [400/733] | Train Loss: 0.5094 Grad: 44991.8633 LR: 9.6219e-05 | Elapse: 64.16s\n",
                        "Epoch 3 [450/733] | Train Loss: 0.2677 Grad: 51576.3984 LR: 9.5832e-05 | Elapse: 72.15s\n",
                        "Epoch 3 [500/733] | Train Loss: 0.1904 Grad: 29063.4355 LR: 9.5426e-05 | Elapse: 80.14s\n",
                        "Epoch 3 [550/733] | Train Loss: 0.2798 Grad: 38419.7852 LR: 9.5003e-05 | Elapse: 88.12s\n",
                        "Epoch 3 [600/733] | Train Loss: 0.2468 Grad: 31267.9355 LR: 9.4562e-05 | Elapse: 96.10s\n",
                        "Epoch 3 [650/733] | Train Loss: 0.4241 Grad: 57741.6719 LR: 9.4103e-05 | Elapse: 104.08s\n",
                        "Epoch 3 [700/733] | Train Loss: 0.3091 Grad: 50130.5977 LR: 9.3627e-05 | Elapse: 112.05s\n",
                        "Epoch 3 [732/733] | Train Loss: 0.4084 Grad: 47479.8789 LR: 9.3314e-05 | Elapse: 117.16s\n"
                    ]
                },
                {
                    "data": {
                        "application/vnd.jupyter.widget-view+json": {
                            "model_id": "0ebacf8b492342899483a4cbdce0d6bc",
                            "version_major": 2,
                            "version_minor": 0
                        },
                        "text/plain": [
                            "Valid [2]:   0%|          | 0/239 [00:00<?, ?batch/s]"
                        ]
                    },
                    "metadata": {},
                    "output_type": "display_data"
                },
                {
                    "name": "stdout",
                    "output_type": "stream",
                    "text": [
                        "Epoch 3 [0/239] | Valid Loss: 0.1209 | Elapse: 0.07s\n",
                        "Epoch 3 [50/239] | Valid Loss: 0.1824 | Elapse: 3.23s\n",
                        "Epoch 3 [100/239] | Valid Loss: 0.2208 | Elapse: 6.40s\n",
                        "Epoch 3 [150/239] | Valid Loss: 0.1778 | Elapse: 9.59s\n",
                        "Epoch 3 [200/239] | Valid Loss: 0.3067 | Elapse: 12.77s\n"
                    ]
                },
                {
                    "name": "stderr",
                    "output_type": "stream",
                    "text": [
                        "----------------------------------------------------------------------------------------------------\n",
                        "Epoch 3 - Average Loss: (train) 0.3137; (valid) 0.3213 | Time: 132.32s\n",
                        "Best model found in epoch 3 | valid loss: 0.3213\n"
                    ]
                },
                {
                    "name": "stdout",
                    "output_type": "stream",
                    "text": [
                        "Epoch 3 [238/239] | Valid Loss: 0.5086 | Elapse: 15.15s\n"
                    ]
                },
                {
                    "data": {
                        "application/vnd.jupyter.widget-view+json": {
                            "model_id": "7b0a5f5046e44f86be0cc56b35952f3a",
                            "version_major": 2,
                            "version_minor": 0
                        },
                        "text/plain": [
                            "Train [3]:   0%|          | 0/733 [00:00<?, ?batch/s]"
                        ]
                    },
                    "metadata": {},
                    "output_type": "display_data"
                },
                {
                    "name": "stdout",
                    "output_type": "stream",
                    "text": [
                        "Epoch 4 [0/733] | Train Loss: 0.2500 Grad: 163470.5156 LR: 9.3314e-05 | Elapse: 0.17s\n",
                        "Epoch 4 [50/733] | Train Loss: 0.2158 Grad: 26538.6836 LR: 9.2810e-05 | Elapse: 8.12s\n",
                        "Epoch 4 [100/733] | Train Loss: 0.2623 Grad: 47749.6875 LR: 9.2289e-05 | Elapse: 16.10s\n",
                        "Epoch 4 [150/733] | Train Loss: 0.2687 Grad: 37344.3516 LR: 9.1752e-05 | Elapse: 24.13s\n",
                        "Epoch 4 [200/733] | Train Loss: 0.3198 Grad: 50604.8594 LR: 9.1198e-05 | Elapse: 32.14s\n",
                        "Epoch 4 [250/733] | Train Loss: 0.2212 Grad: 33349.6562 LR: 9.0627e-05 | Elapse: 40.12s\n",
                        "Epoch 4 [300/733] | Train Loss: 0.2628 Grad: 27379.3008 LR: 9.0041e-05 | Elapse: 48.12s\n",
                        "Epoch 4 [350/733] | Train Loss: 0.1765 Grad: 36868.9062 LR: 8.9439e-05 | Elapse: 56.12s\n",
                        "Epoch 4 [400/733] | Train Loss: 0.3844 Grad: 53360.3477 LR: 8.8822e-05 | Elapse: 64.13s\n",
                        "Epoch 4 [450/733] | Train Loss: 0.2071 Grad: 44056.3984 LR: 8.8189e-05 | Elapse: 72.13s\n",
                        "Epoch 4 [500/733] | Train Loss: 0.1599 Grad: 26102.7539 LR: 8.7542e-05 | Elapse: 80.14s\n",
                        "Epoch 4 [550/733] | Train Loss: 0.2011 Grad: 36704.6680 LR: 8.6879e-05 | Elapse: 88.14s\n",
                        "Epoch 4 [600/733] | Train Loss: 0.2865 Grad: 67125.2344 LR: 8.6202e-05 | Elapse: 96.17s\n",
                        "Epoch 4 [650/733] | Train Loss: 0.3288 Grad: 62675.8438 LR: 8.5511e-05 | Elapse: 104.18s\n",
                        "Epoch 4 [700/733] | Train Loss: 0.2672 Grad: 65943.0156 LR: 8.4806e-05 | Elapse: 112.16s\n",
                        "Epoch 4 [732/733] | Train Loss: 0.3188 Grad: 53402.3359 LR: 8.4347e-05 | Elapse: 117.29s\n"
                    ]
                },
                {
                    "data": {
                        "application/vnd.jupyter.widget-view+json": {
                            "model_id": "831ee7305b414cccbeb2c7ac7bf61a74",
                            "version_major": 2,
                            "version_minor": 0
                        },
                        "text/plain": [
                            "Valid [3]:   0%|          | 0/239 [00:00<?, ?batch/s]"
                        ]
                    },
                    "metadata": {},
                    "output_type": "display_data"
                },
                {
                    "name": "stdout",
                    "output_type": "stream",
                    "text": [
                        "Epoch 4 [0/239] | Valid Loss: 0.0970 | Elapse: 0.07s\n",
                        "Epoch 4 [50/239] | Valid Loss: 0.1600 | Elapse: 3.23s\n",
                        "Epoch 4 [100/239] | Valid Loss: 0.2516 | Elapse: 6.40s\n",
                        "Epoch 4 [150/239] | Valid Loss: 0.2403 | Elapse: 9.58s\n",
                        "Epoch 4 [200/239] | Valid Loss: 0.3429 | Elapse: 12.75s\n"
                    ]
                },
                {
                    "name": "stderr",
                    "output_type": "stream",
                    "text": [
                        "----------------------------------------------------------------------------------------------------\n",
                        "Epoch 4 - Average Loss: (train) 0.2608; (valid) 0.3341 | Time: 132.44s\n"
                    ]
                },
                {
                    "name": "stdout",
                    "output_type": "stream",
                    "text": [
                        "Epoch 4 [238/239] | Valid Loss: 0.3472 | Elapse: 15.14s\n"
                    ]
                },
                {
                    "data": {
                        "application/vnd.jupyter.widget-view+json": {
                            "model_id": "092647bafcae4550b942b3eeb81ea5b2",
                            "version_major": 2,
                            "version_minor": 0
                        },
                        "text/plain": [
                            "Train [4]:   0%|          | 0/733 [00:00<?, ?batch/s]"
                        ]
                    },
                    "metadata": {},
                    "output_type": "display_data"
                },
                {
                    "name": "stdout",
                    "output_type": "stream",
                    "text": [
                        "Epoch 5 [0/733] | Train Loss: 0.1986 Grad: 185380.2031 LR: 8.4347e-05 | Elapse: 0.16s\n",
                        "Epoch 5 [50/733] | Train Loss: 0.2059 Grad: 32977.5352 LR: 8.3620e-05 | Elapse: 8.24s\n",
                        "Epoch 5 [100/733] | Train Loss: 0.2116 Grad: 46047.0742 LR: 8.2879e-05 | Elapse: 16.26s\n",
                        "Epoch 5 [150/733] | Train Loss: 0.2786 Grad: 48159.5312 LR: 8.2125e-05 | Elapse: 24.27s\n",
                        "Epoch 5 [200/733] | Train Loss: 0.2588 Grad: 58547.3242 LR: 8.1359e-05 | Elapse: 32.29s\n",
                        "Epoch 5 [250/733] | Train Loss: 0.1947 Grad: 46112.8008 LR: 8.0580e-05 | Elapse: 40.28s\n",
                        "Epoch 5 [300/733] | Train Loss: 0.2199 Grad: 25568.4434 LR: 7.9790e-05 | Elapse: 48.27s\n",
                        "Epoch 5 [350/733] | Train Loss: 0.1483 Grad: 26762.6484 LR: 7.8987e-05 | Elapse: 56.27s\n",
                        "Epoch 5 [400/733] | Train Loss: 0.3557 Grad: 45060.8633 LR: 7.8173e-05 | Elapse: 64.27s\n",
                        "Epoch 5 [450/733] | Train Loss: 0.1541 Grad: 42926.9570 LR: 7.7348e-05 | Elapse: 72.27s\n",
                        "Epoch 5 [500/733] | Train Loss: 0.1614 Grad: 29387.0254 LR: 7.6513e-05 | Elapse: 80.25s\n",
                        "Epoch 5 [550/733] | Train Loss: 0.2052 Grad: 48027.7109 LR: 7.5667e-05 | Elapse: 88.23s\n",
                        "Epoch 5 [600/733] | Train Loss: 0.2443 Grad: 38145.7070 LR: 7.4810e-05 | Elapse: 96.22s\n",
                        "Epoch 5 [650/733] | Train Loss: 0.3514 Grad: 75053.3047 LR: 7.3945e-05 | Elapse: 104.21s\n",
                        "Epoch 5 [700/733] | Train Loss: 0.1730 Grad: 47487.3945 LR: 7.3069e-05 | Elapse: 112.20s\n",
                        "Epoch 5 [732/733] | Train Loss: 0.2800 Grad: 65042.1875 LR: 7.2504e-05 | Elapse: 117.31s\n"
                    ]
                },
                {
                    "data": {
                        "application/vnd.jupyter.widget-view+json": {
                            "model_id": "f74297cc0df241a790fde8e0e5852f94",
                            "version_major": 2,
                            "version_minor": 0
                        },
                        "text/plain": [
                            "Valid [4]:   0%|          | 0/239 [00:00<?, ?batch/s]"
                        ]
                    },
                    "metadata": {},
                    "output_type": "display_data"
                },
                {
                    "name": "stdout",
                    "output_type": "stream",
                    "text": [
                        "Epoch 5 [0/239] | Valid Loss: 0.0859 | Elapse: 0.07s\n",
                        "Epoch 5 [50/239] | Valid Loss: 0.1431 | Elapse: 3.24s\n",
                        "Epoch 5 [100/239] | Valid Loss: 0.2591 | Elapse: 6.41s\n",
                        "Epoch 5 [150/239] | Valid Loss: 0.2235 | Elapse: 9.59s\n",
                        "Epoch 5 [200/239] | Valid Loss: 0.3525 | Elapse: 12.77s\n"
                    ]
                },
                {
                    "name": "stderr",
                    "output_type": "stream",
                    "text": [
                        "----------------------------------------------------------------------------------------------------\n",
                        "Epoch 5 - Average Loss: (train) 0.2212; (valid) 0.3495 | Time: 132.48s\n"
                    ]
                },
                {
                    "name": "stdout",
                    "output_type": "stream",
                    "text": [
                        "Epoch 5 [238/239] | Valid Loss: 0.2169 | Elapse: 15.16s\n"
                    ]
                },
                {
                    "data": {
                        "application/vnd.jupyter.widget-view+json": {
                            "model_id": "1f303c6e72144c02806418af91706f1e",
                            "version_major": 2,
                            "version_minor": 0
                        },
                        "text/plain": [
                            "Train [5]:   0%|          | 0/733 [00:00<?, ?batch/s]"
                        ]
                    },
                    "metadata": {},
                    "output_type": "display_data"
                },
                {
                    "name": "stdout",
                    "output_type": "stream",
                    "text": [
                        "Epoch 6 [0/733] | Train Loss: 0.1551 Grad: 198139.5625 LR: 7.2504e-05 | Elapse: 0.16s\n",
                        "Epoch 6 [50/733] | Train Loss: 0.1664 Grad: 36723.0742 LR: 7.1614e-05 | Elapse: 8.11s\n",
                        "Epoch 6 [100/733] | Train Loss: 0.2966 Grad: 49617.4922 LR: 7.0716e-05 | Elapse: 16.09s\n",
                        "Epoch 6 [150/733] | Train Loss: 0.2197 Grad: 38653.4141 LR: 6.9809e-05 | Elapse: 24.09s\n",
                        "Epoch 6 [200/733] | Train Loss: 0.3308 Grad: 78373.1953 LR: 6.8894e-05 | Elapse: 32.12s\n",
                        "Epoch 6 [250/733] | Train Loss: 0.1410 Grad: 43317.5977 LR: 6.7972e-05 | Elapse: 40.11s\n",
                        "Epoch 6 [300/733] | Train Loss: 0.2585 Grad: 53710.0547 LR: 6.7043e-05 | Elapse: 48.10s\n",
                        "Epoch 6 [350/733] | Train Loss: 0.1271 Grad: 31365.2207 LR: 6.6108e-05 | Elapse: 56.14s\n",
                        "Epoch 6 [400/733] | Train Loss: 0.2699 Grad: 54385.3711 LR: 6.5166e-05 | Elapse: 64.19s\n",
                        "Epoch 6 [450/733] | Train Loss: 0.1567 Grad: 46847.1484 LR: 6.4218e-05 | Elapse: 72.18s\n",
                        "Epoch 6 [500/733] | Train Loss: 0.1593 Grad: 47977.1484 LR: 6.3264e-05 | Elapse: 80.16s\n",
                        "Epoch 6 [550/733] | Train Loss: 0.0850 Grad: 23302.2051 LR: 6.2305e-05 | Elapse: 88.15s\n",
                        "Epoch 6 [600/733] | Train Loss: 0.1702 Grad: 36938.7695 LR: 6.1342e-05 | Elapse: 96.15s\n",
                        "Epoch 6 [650/733] | Train Loss: 0.2933 Grad: 89195.6172 LR: 6.0373e-05 | Elapse: 104.13s\n",
                        "Epoch 6 [700/733] | Train Loss: 0.1275 Grad: 32872.8398 LR: 5.9401e-05 | Elapse: 112.11s\n",
                        "Epoch 6 [732/733] | Train Loss: 0.2738 Grad: 67934.5234 LR: 5.8777e-05 | Elapse: 117.22s\n"
                    ]
                },
                {
                    "data": {
                        "application/vnd.jupyter.widget-view+json": {
                            "model_id": "e16841e3363d489bbfe6a5f219b3d17d",
                            "version_major": 2,
                            "version_minor": 0
                        },
                        "text/plain": [
                            "Valid [5]:   0%|          | 0/239 [00:00<?, ?batch/s]"
                        ]
                    },
                    "metadata": {},
                    "output_type": "display_data"
                },
                {
                    "name": "stdout",
                    "output_type": "stream",
                    "text": [
                        "Epoch 6 [0/239] | Valid Loss: 0.0846 | Elapse: 0.07s\n",
                        "Epoch 6 [50/239] | Valid Loss: 0.1518 | Elapse: 3.23s\n",
                        "Epoch 6 [100/239] | Valid Loss: 0.3048 | Elapse: 6.39s\n",
                        "Epoch 6 [150/239] | Valid Loss: 0.2240 | Elapse: 9.57s\n",
                        "Epoch 6 [200/239] | Valid Loss: 0.3983 | Elapse: 12.75s\n"
                    ]
                },
                {
                    "name": "stderr",
                    "output_type": "stream",
                    "text": [
                        "----------------------------------------------------------------------------------------------------\n",
                        "Epoch 6 - Average Loss: (train) 0.1891; (valid) 0.3581 | Time: 132.36s\n"
                    ]
                },
                {
                    "name": "stdout",
                    "output_type": "stream",
                    "text": [
                        "Epoch 6 [238/239] | Valid Loss: 0.1958 | Elapse: 15.13s\n"
                    ]
                },
                {
                    "name": "stderr",
                    "output_type": "stream",
                    "text": [
                        "====================================================================================================\n",
                        "Fold 2 Valid Loss: (Easy) 0.6229 | (Hard) 0.6712\n",
                        "Elapse: 13.26 min \n",
                        "====================================================================================================\n",
                        "- Second Stage \n",
                        "Use Checkpoint: ENet_b2_xymask_rebalance_fold_2_stage_1.pth\n"
                    ]
                },
                {
                    "data": {
                        "application/vnd.jupyter.widget-view+json": {
                            "model_id": "4f8547ac193348d4ad8af454722662f0",
                            "version_major": 2,
                            "version_minor": 0
                        },
                        "text/plain": [
                            "Train [0]:   0%|          | 0/464 [00:00<?, ?batch/s]"
                        ]
                    },
                    "metadata": {},
                    "output_type": "display_data"
                },
                {
                    "name": "stdout",
                    "output_type": "stream",
                    "text": [
                        "Epoch 1 [0/464] | Train Loss: 0.4736 Grad: nan LR: 4.0000e-06 | Elapse: 0.16s\n",
                        "Epoch 1 [50/464] | Train Loss: 0.2954 Grad: 53027.2500 LR: 5.9111e-06 | Elapse: 8.16s\n",
                        "Epoch 1 [100/464] | Train Loss: 0.3590 Grad: 62922.2539 LR: 1.1492e-05 | Elapse: 16.15s\n",
                        "Epoch 1 [150/464] | Train Loss: 0.2755 Grad: 47850.0664 LR: 2.0299e-05 | Elapse: 24.15s\n",
                        "Epoch 1 [200/464] | Train Loss: 0.1935 Grad: 26278.3789 LR: 3.1630e-05 | Elapse: 32.15s\n",
                        "Epoch 1 [250/464] | Train Loss: 0.2924 Grad: 36337.6211 LR: 4.4582e-05 | Elapse: 40.16s\n",
                        "Epoch 1 [300/464] | Train Loss: 1.4107 Grad: 63957.1523 LR: 5.8126e-05 | Elapse: 48.17s\n",
                        "Epoch 1 [350/464] | Train Loss: 0.1700 Grad: 24730.6562 LR: 7.1182e-05 | Elapse: 56.17s\n",
                        "Epoch 1 [400/464] | Train Loss: 1.9454 Grad: 70963.8125 LR: 8.2710e-05 | Elapse: 64.18s\n",
                        "Epoch 1 [450/464] | Train Loss: 0.3863 Grad: 20126.9473 LR: 9.1793e-05 | Elapse: 72.17s\n",
                        "Epoch 1 [463/464] | Train Loss: 0.2134 Grad: 25889.0039 LR: 9.3794e-05 | Elapse: 74.25s\n"
                    ]
                },
                {
                    "data": {
                        "application/vnd.jupyter.widget-view+json": {
                            "model_id": "6bc2432de5d348f890c26695d1618c4a",
                            "version_major": 2,
                            "version_minor": 0
                        },
                        "text/plain": [
                            "Valid [0]:   0%|          | 0/239 [00:00<?, ?batch/s]"
                        ]
                    },
                    "metadata": {},
                    "output_type": "display_data"
                },
                {
                    "name": "stdout",
                    "output_type": "stream",
                    "text": [
                        "Epoch 1 [0/239] | Valid Loss: 0.7929 | Elapse: 0.07s\n",
                        "Epoch 1 [50/239] | Valid Loss: 0.7661 | Elapse: 3.24s\n",
                        "Epoch 1 [100/239] | Valid Loss: 0.9552 | Elapse: 6.42s\n",
                        "Epoch 1 [150/239] | Valid Loss: 0.5684 | Elapse: 9.61s\n",
                        "Epoch 1 [200/239] | Valid Loss: 0.5929 | Elapse: 12.80s\n"
                    ]
                },
                {
                    "name": "stderr",
                    "output_type": "stream",
                    "text": [
                        "----------------------------------------------------------------------------------------------------\n",
                        "Epoch 1 - Average Loss: (train) 0.4324; (valid) 0.7059 | Time: 89.44s\n",
                        "Best model found in epoch 1 | valid loss: 0.7059\n"
                    ]
                },
                {
                    "name": "stdout",
                    "output_type": "stream",
                    "text": [
                        "Epoch 1 [238/239] | Valid Loss: 0.1620 | Elapse: 15.19s\n"
                    ]
                },
                {
                    "data": {
                        "application/vnd.jupyter.widget-view+json": {
                            "model_id": "04024ba3a98f49c4af0e0c0ebbb87c12",
                            "version_major": 2,
                            "version_minor": 0
                        },
                        "text/plain": [
                            "Train [1]:   0%|          | 0/464 [00:00<?, ?batch/s]"
                        ]
                    },
                    "metadata": {},
                    "output_type": "display_data"
                },
                {
                    "name": "stdout",
                    "output_type": "stream",
                    "text": [
                        "Epoch 2 [0/464] | Train Loss: 0.7850 Grad: 112799.9766 LR: 9.3794e-05 | Elapse: 0.16s\n",
                        "Epoch 2 [50/464] | Train Loss: 0.3264 Grad: 97054.3672 LR: 9.8725e-05 | Elapse: 8.13s\n",
                        "Epoch 2 [100/464] | Train Loss: 0.2251 Grad: 86342.1250 LR: 9.9999e-05 | Elapse: 16.13s\n",
                        "Epoch 2 [150/464] | Train Loss: 0.1898 Grad: 91751.0391 LR: 9.9966e-05 | Elapse: 24.17s\n",
                        "Epoch 2 [200/464] | Train Loss: 0.2270 Grad: 37363.0508 LR: 9.9883e-05 | Elapse: 32.20s\n",
                        "Epoch 2 [250/464] | Train Loss: 0.1906 Grad: 37558.6445 LR: 9.9751e-05 | Elapse: 40.22s\n",
                        "Epoch 2 [300/464] | Train Loss: 1.1749 Grad: 85000.3906 LR: 9.9571e-05 | Elapse: 48.21s\n",
                        "Epoch 2 [350/464] | Train Loss: 0.1376 Grad: 24851.7207 LR: 9.9342e-05 | Elapse: 56.20s\n",
                        "Epoch 2 [400/464] | Train Loss: 1.6332 Grad: 148637.6719 LR: 9.9064e-05 | Elapse: 64.21s\n",
                        "Epoch 2 [450/464] | Train Loss: 0.2210 Grad: 13597.5781 LR: 9.8738e-05 | Elapse: 72.22s\n",
                        "Epoch 2 [463/464] | Train Loss: 0.2702 Grad: 57847.9570 LR: 9.8638e-05 | Elapse: 74.30s\n"
                    ]
                },
                {
                    "data": {
                        "application/vnd.jupyter.widget-view+json": {
                            "model_id": "e484852d9ba04e7e8b1c92fb4f519c4b",
                            "version_major": 2,
                            "version_minor": 0
                        },
                        "text/plain": [
                            "Valid [1]:   0%|          | 0/239 [00:00<?, ?batch/s]"
                        ]
                    },
                    "metadata": {},
                    "output_type": "display_data"
                },
                {
                    "name": "stdout",
                    "output_type": "stream",
                    "text": [
                        "Epoch 2 [0/239] | Valid Loss: 0.7847 | Elapse: 0.07s\n",
                        "Epoch 2 [50/239] | Valid Loss: 0.7456 | Elapse: 3.25s\n",
                        "Epoch 2 [100/239] | Valid Loss: 0.9879 | Elapse: 6.42s\n",
                        "Epoch 2 [150/239] | Valid Loss: 0.5939 | Elapse: 9.61s\n",
                        "Epoch 2 [200/239] | Valid Loss: 0.5957 | Elapse: 12.81s\n"
                    ]
                },
                {
                    "name": "stderr",
                    "output_type": "stream",
                    "text": [
                        "----------------------------------------------------------------------------------------------------\n",
                        "Epoch 2 - Average Loss: (train) 0.3739; (valid) 0.7943 | Time: 89.51s\n"
                    ]
                },
                {
                    "name": "stdout",
                    "output_type": "stream",
                    "text": [
                        "Epoch 2 [238/239] | Valid Loss: 0.1616 | Elapse: 15.20s\n"
                    ]
                },
                {
                    "data": {
                        "application/vnd.jupyter.widget-view+json": {
                            "model_id": "a79a124fe8364a7090688378ae4c8369",
                            "version_major": 2,
                            "version_minor": 0
                        },
                        "text/plain": [
                            "Train [2]:   0%|          | 0/464 [00:00<?, ?batch/s]"
                        ]
                    },
                    "metadata": {},
                    "output_type": "display_data"
                },
                {
                    "name": "stdout",
                    "output_type": "stream",
                    "text": [
                        "Epoch 3 [0/464] | Train Loss: 0.7742 Grad: 206083.1406 LR: 9.8638e-05 | Elapse: 0.16s\n",
                        "Epoch 3 [50/464] | Train Loss: 0.2658 Grad: 17280.8926 LR: 9.8251e-05 | Elapse: 8.12s\n",
                        "Epoch 3 [100/464] | Train Loss: 0.1884 Grad: 11879.0107 LR: 9.7817e-05 | Elapse: 16.12s\n",
                        "Epoch 3 [150/464] | Train Loss: 0.1931 Grad: 16411.4922 LR: 9.7335e-05 | Elapse: 24.17s\n",
                        "Epoch 3 [200/464] | Train Loss: 0.1988 Grad: 16971.0820 LR: 9.6808e-05 | Elapse: 32.18s\n",
                        "Epoch 3 [250/464] | Train Loss: 0.1782 Grad: 15249.9043 LR: 9.6234e-05 | Elapse: 40.21s\n",
                        "Epoch 3 [300/464] | Train Loss: 1.0894 Grad: 49541.1250 LR: 9.5615e-05 | Elapse: 48.22s\n",
                        "Epoch 3 [350/464] | Train Loss: 0.1469 Grad: 8781.5352 LR: 9.4951e-05 | Elapse: 56.25s\n",
                        "Epoch 3 [400/464] | Train Loss: 1.5157 Grad: 87631.4844 LR: 9.4242e-05 | Elapse: 64.28s\n",
                        "Epoch 3 [450/464] | Train Loss: 0.1818 Grad: 6066.7935 LR: 9.3491e-05 | Elapse: 72.30s\n",
                        "Epoch 3 [463/464] | Train Loss: 0.1590 Grad: 10418.9434 LR: 9.3273e-05 | Elapse: 74.38s\n"
                    ]
                },
                {
                    "data": {
                        "application/vnd.jupyter.widget-view+json": {
                            "model_id": "fa57d8fb44eb4b628b468cd99699c028",
                            "version_major": 2,
                            "version_minor": 0
                        },
                        "text/plain": [
                            "Valid [2]:   0%|          | 0/239 [00:00<?, ?batch/s]"
                        ]
                    },
                    "metadata": {},
                    "output_type": "display_data"
                },
                {
                    "name": "stdout",
                    "output_type": "stream",
                    "text": [
                        "Epoch 3 [0/239] | Valid Loss: 0.9941 | Elapse: 0.07s\n",
                        "Epoch 3 [50/239] | Valid Loss: 0.7655 | Elapse: 3.29s\n",
                        "Epoch 3 [100/239] | Valid Loss: 1.0267 | Elapse: 6.47s\n",
                        "Epoch 3 [150/239] | Valid Loss: 0.8078 | Elapse: 9.66s\n",
                        "Epoch 3 [200/239] | Valid Loss: 0.7072 | Elapse: 12.86s\n"
                    ]
                },
                {
                    "name": "stderr",
                    "output_type": "stream",
                    "text": [
                        "----------------------------------------------------------------------------------------------------\n",
                        "Epoch 3 - Average Loss: (train) 0.3469; (valid) 0.9196 | Time: 89.64s\n"
                    ]
                },
                {
                    "name": "stdout",
                    "output_type": "stream",
                    "text": [
                        "Epoch 3 [238/239] | Valid Loss: 0.1485 | Elapse: 15.25s\n"
                    ]
                },
                {
                    "data": {
                        "application/vnd.jupyter.widget-view+json": {
                            "model_id": "d1b614b1fdae4003a0e30875bd4357d2",
                            "version_major": 2,
                            "version_minor": 0
                        },
                        "text/plain": [
                            "Train [3]:   0%|          | 0/464 [00:00<?, ?batch/s]"
                        ]
                    },
                    "metadata": {},
                    "output_type": "display_data"
                },
                {
                    "name": "stdout",
                    "output_type": "stream",
                    "text": [
                        "Epoch 4 [0/464] | Train Loss: 0.8378 Grad: nan LR: 9.3273e-05 | Elapse: 0.16s\n",
                        "Epoch 4 [50/464] | Train Loss: 0.1829 Grad: 17242.4980 LR: 9.2466e-05 | Elapse: 8.12s\n",
                        "Epoch 4 [100/464] | Train Loss: 0.2252 Grad: 22579.8535 LR: 9.1619e-05 | Elapse: 16.10s\n",
                        "Epoch 4 [150/464] | Train Loss: 0.1787 Grad: 12973.3936 LR: 9.0730e-05 | Elapse: 24.10s\n",
                        "Epoch 4 [200/464] | Train Loss: 0.1804 Grad: 21106.5801 LR: 8.9801e-05 | Elapse: 32.13s\n",
                        "Epoch 4 [250/464] | Train Loss: 0.1555 Grad: 13694.1758 LR: 8.8833e-05 | Elapse: 40.14s\n",
                        "Epoch 4 [300/464] | Train Loss: 0.7869 Grad: 85244.2109 LR: 8.7827e-05 | Elapse: 48.15s\n",
                        "Epoch 4 [350/464] | Train Loss: 0.1320 Grad: 6625.1387 LR: 8.6784e-05 | Elapse: 56.15s\n",
                        "Epoch 4 [400/464] | Train Loss: 1.5136 Grad: 54348.6758 LR: 8.5705e-05 | Elapse: 64.16s\n",
                        "Epoch 4 [450/464] | Train Loss: 0.2199 Grad: 7914.3843 LR: 8.4591e-05 | Elapse: 72.17s\n",
                        "Epoch 4 [463/464] | Train Loss: 0.2437 Grad: 17342.1777 LR: 8.4273e-05 | Elapse: 74.28s\n"
                    ]
                },
                {
                    "data": {
                        "application/vnd.jupyter.widget-view+json": {
                            "model_id": "4df87af7387646959dc2e8a7254145c1",
                            "version_major": 2,
                            "version_minor": 0
                        },
                        "text/plain": [
                            "Valid [3]:   0%|          | 0/239 [00:00<?, ?batch/s]"
                        ]
                    },
                    "metadata": {},
                    "output_type": "display_data"
                },
                {
                    "name": "stdout",
                    "output_type": "stream",
                    "text": [
                        "Epoch 4 [0/239] | Valid Loss: 0.7339 | Elapse: 0.07s\n",
                        "Epoch 4 [50/239] | Valid Loss: 0.6483 | Elapse: 3.24s\n",
                        "Epoch 4 [100/239] | Valid Loss: 0.7970 | Elapse: 6.43s\n",
                        "Epoch 4 [150/239] | Valid Loss: 0.4924 | Elapse: 9.62s\n",
                        "Epoch 4 [200/239] | Valid Loss: 0.4988 | Elapse: 12.82s\n"
                    ]
                },
                {
                    "name": "stderr",
                    "output_type": "stream",
                    "text": [
                        "----------------------------------------------------------------------------------------------------\n",
                        "Epoch 4 - Average Loss: (train) 0.3101; (valid) 0.6469 | Time: 89.50s\n",
                        "Best model found in epoch 4 | valid loss: 0.6469\n"
                    ]
                },
                {
                    "name": "stdout",
                    "output_type": "stream",
                    "text": [
                        "Epoch 4 [238/239] | Valid Loss: 0.2121 | Elapse: 15.21s\n"
                    ]
                },
                {
                    "data": {
                        "application/vnd.jupyter.widget-view+json": {
                            "model_id": "a47475694df94671bf12dc6422c0af5b",
                            "version_major": 2,
                            "version_minor": 0
                        },
                        "text/plain": [
                            "Train [4]:   0%|          | 0/464 [00:00<?, ?batch/s]"
                        ]
                    },
                    "metadata": {},
                    "output_type": "display_data"
                },
                {
                    "name": "stdout",
                    "output_type": "stream",
                    "text": [
                        "Epoch 5 [0/464] | Train Loss: 0.5001 Grad: 186523.9844 LR: 8.4273e-05 | Elapse: 0.16s\n",
                        "Epoch 5 [50/464] | Train Loss: 0.1485 Grad: 12331.5996 LR: 8.3115e-05 | Elapse: 8.15s\n",
                        "Epoch 5 [100/464] | Train Loss: 0.1686 Grad: 15635.7119 LR: 8.1925e-05 | Elapse: 16.14s\n",
                        "Epoch 5 [150/464] | Train Loss: 0.1504 Grad: 12528.4102 LR: 8.0704e-05 | Elapse: 24.16s\n",
                        "Epoch 5 [200/464] | Train Loss: 0.1973 Grad: 24143.0098 LR: 7.9452e-05 | Elapse: 32.21s\n",
                        "Epoch 5 [250/464] | Train Loss: 0.1515 Grad: 12366.5967 LR: 7.8172e-05 | Elapse: 40.23s\n",
                        "Epoch 5 [300/464] | Train Loss: 0.5919 Grad: 68348.1562 LR: 7.6864e-05 | Elapse: 48.22s\n",
                        "Epoch 5 [350/464] | Train Loss: 0.1367 Grad: 7844.8247 LR: 7.5529e-05 | Elapse: 56.23s\n",
                        "Epoch 5 [400/464] | Train Loss: 0.9498 Grad: 50228.1797 LR: 7.4170e-05 | Elapse: 64.23s\n",
                        "Epoch 5 [450/464] | Train Loss: 0.1675 Grad: 6959.8081 LR: 7.2786e-05 | Elapse: 72.21s\n",
                        "Epoch 5 [463/464] | Train Loss: 0.1723 Grad: 13851.3770 LR: 7.2395e-05 | Elapse: 74.29s\n"
                    ]
                },
                {
                    "data": {
                        "application/vnd.jupyter.widget-view+json": {
                            "model_id": "4667ea3504954947887ffcde2dcdc19d",
                            "version_major": 2,
                            "version_minor": 0
                        },
                        "text/plain": [
                            "Valid [4]:   0%|          | 0/239 [00:00<?, ?batch/s]"
                        ]
                    },
                    "metadata": {},
                    "output_type": "display_data"
                },
                {
                    "name": "stdout",
                    "output_type": "stream",
                    "text": [
                        "Epoch 5 [0/239] | Valid Loss: 0.8104 | Elapse: 0.07s\n",
                        "Epoch 5 [50/239] | Valid Loss: 0.7267 | Elapse: 3.24s\n",
                        "Epoch 5 [100/239] | Valid Loss: 0.9003 | Elapse: 6.43s\n",
                        "Epoch 5 [150/239] | Valid Loss: 0.5491 | Elapse: 9.63s\n",
                        "Epoch 5 [200/239] | Valid Loss: 0.5460 | Elapse: 12.83s\n"
                    ]
                },
                {
                    "name": "stderr",
                    "output_type": "stream",
                    "text": [
                        "----------------------------------------------------------------------------------------------------\n",
                        "Epoch 5 - Average Loss: (train) 0.2760; (valid) 0.7007 | Time: 89.51s\n"
                    ]
                },
                {
                    "name": "stdout",
                    "output_type": "stream",
                    "text": [
                        "Epoch 5 [238/239] | Valid Loss: 0.1564 | Elapse: 15.22s\n"
                    ]
                },
                {
                    "data": {
                        "application/vnd.jupyter.widget-view+json": {
                            "model_id": "dae9d2ce83e4497ca3067e77c431bee6",
                            "version_major": 2,
                            "version_minor": 0
                        },
                        "text/plain": [
                            "Train [5]:   0%|          | 0/464 [00:00<?, ?batch/s]"
                        ]
                    },
                    "metadata": {},
                    "output_type": "display_data"
                },
                {
                    "name": "stdout",
                    "output_type": "stream",
                    "text": [
                        "Epoch 6 [0/464] | Train Loss: 0.4884 Grad: nan LR: 7.2395e-05 | Elapse: 0.16s\n",
                        "Epoch 6 [50/464] | Train Loss: 0.1398 Grad: 16053.5146 LR: 7.0983e-05 | Elapse: 8.16s\n",
                        "Epoch 6 [100/464] | Train Loss: 0.1651 Grad: 17762.6270 LR: 6.9551e-05 | Elapse: 16.19s\n",
                        "Epoch 6 [150/464] | Train Loss: 0.1865 Grad: 19687.6836 LR: 6.8100e-05 | Elapse: 24.23s\n",
                        "Epoch 6 [200/464] | Train Loss: 0.1775 Grad: 15459.6445 LR: 6.6630e-05 | Elapse: 32.26s\n",
                        "Epoch 6 [250/464] | Train Loss: 0.1470 Grad: 15504.5771 LR: 6.5145e-05 | Elapse: 40.26s\n",
                        "Epoch 6 [300/464] | Train Loss: 0.3870 Grad: 90914.5547 LR: 6.3644e-05 | Elapse: 48.26s\n",
                        "Epoch 6 [350/464] | Train Loss: 0.1089 Grad: 6311.0415 LR: 6.2131e-05 | Elapse: 56.25s\n",
                        "Epoch 6 [400/464] | Train Loss: 0.7470 Grad: 31133.0820 LR: 6.0605e-05 | Elapse: 64.24s\n",
                        "Epoch 6 [450/464] | Train Loss: 0.1403 Grad: 11357.1484 LR: 5.9069e-05 | Elapse: 72.24s\n",
                        "Epoch 6 [463/464] | Train Loss: 0.2140 Grad: 38436.3047 LR: 5.8637e-05 | Elapse: 74.32s\n"
                    ]
                },
                {
                    "data": {
                        "application/vnd.jupyter.widget-view+json": {
                            "model_id": "dc9a2fa767b946f1ada20c9391085a1f",
                            "version_major": 2,
                            "version_minor": 0
                        },
                        "text/plain": [
                            "Valid [5]:   0%|          | 0/239 [00:00<?, ?batch/s]"
                        ]
                    },
                    "metadata": {},
                    "output_type": "display_data"
                },
                {
                    "name": "stdout",
                    "output_type": "stream",
                    "text": [
                        "Epoch 6 [0/239] | Valid Loss: 0.7770 | Elapse: 0.07s\n",
                        "Epoch 6 [50/239] | Valid Loss: 0.7183 | Elapse: 3.25s\n",
                        "Epoch 6 [100/239] | Valid Loss: 0.8515 | Elapse: 6.43s\n",
                        "Epoch 6 [150/239] | Valid Loss: 0.5068 | Elapse: 9.64s\n",
                        "Epoch 6 [200/239] | Valid Loss: 0.5005 | Elapse: 12.86s\n"
                    ]
                },
                {
                    "name": "stderr",
                    "output_type": "stream",
                    "text": [
                        "----------------------------------------------------------------------------------------------------\n",
                        "Epoch 6 - Average Loss: (train) 0.2431; (valid) 0.6466 | Time: 89.58s\n",
                        "Best model found in epoch 6 | valid loss: 0.6466\n"
                    ]
                },
                {
                    "name": "stdout",
                    "output_type": "stream",
                    "text": [
                        "Epoch 6 [238/239] | Valid Loss: 0.1593 | Elapse: 15.25s\n"
                    ]
                },
                {
                    "name": "stderr",
                    "output_type": "stream",
                    "text": [
                        "====================================================================================================\n",
                        "Fold 2 Valid Loss: (Easy) 1.4421 | (Hard) 1.0770\n",
                        "Elapse: 8.96 min \n",
                        "====================================================================================================\n",
                        "====================================================================================================\n",
                        "Fold: 3 || Valid size 3550 \n",
                        "====================================================================================================\n",
                        "- First Stage \n"
                    ]
                },
                {
                    "data": {
                        "application/vnd.jupyter.widget-view+json": {
                            "model_id": "875dbcff670a4249a5dd705ded8d0ca4",
                            "version_major": 2,
                            "version_minor": 0
                        },
                        "text/plain": [
                            "Train [0]:   0%|          | 0/749 [00:00<?, ?batch/s]"
                        ]
                    },
                    "metadata": {},
                    "output_type": "display_data"
                },
                {
                    "name": "stdout",
                    "output_type": "stream",
                    "text": [
                        "Epoch 1 [0/749] | Train Loss: 0.8556 Grad: 66776.9375 LR: 4.0000e-06 | Elapse: 0.17s\n",
                        "Epoch 1 [50/749] | Train Loss: 0.8249 Grad: 74457.5391 LR: 4.7344e-06 | Elapse: 8.16s\n",
                        "Epoch 1 [100/749] | Train Loss: 0.8051 Grad: 73797.3281 LR: 6.9152e-06 | Elapse: 16.17s\n",
                        "Epoch 1 [150/749] | Train Loss: 0.7457 Grad: 69727.9531 LR: 1.0476e-05 | Elapse: 24.18s\n",
                        "Epoch 1 [200/749] | Train Loss: 0.7989 Grad: 53609.4375 LR: 1.5307e-05 | Elapse: 32.24s\n",
                        "Epoch 1 [250/749] | Train Loss: 0.8089 Grad: 71236.2031 LR: 2.1261e-05 | Elapse: 40.25s\n",
                        "Epoch 1 [300/749] | Train Loss: 0.7394 Grad: 75419.7031 LR: 2.8155e-05 | Elapse: 48.28s\n",
                        "Epoch 1 [350/749] | Train Loss: 0.7003 Grad: 65604.5156 LR: 3.5780e-05 | Elapse: 56.29s\n",
                        "Epoch 1 [400/749] | Train Loss: 0.6922 Grad: 92012.8672 LR: 4.3901e-05 | Elapse: 64.30s\n",
                        "Epoch 1 [450/749] | Train Loss: 0.7139 Grad: 125285.6484 LR: 5.2269e-05 | Elapse: 72.31s\n",
                        "Epoch 1 [500/749] | Train Loss: 0.6186 Grad: 135234.8750 LR: 6.0629e-05 | Elapse: 80.34s\n",
                        "Epoch 1 [550/749] | Train Loss: 0.5898 Grad: 87435.0391 LR: 6.8726e-05 | Elapse: 88.37s\n",
                        "Epoch 1 [600/749] | Train Loss: 0.3941 Grad: 53858.8594 LR: 7.6310e-05 | Elapse: 96.39s\n",
                        "Epoch 1 [650/749] | Train Loss: 0.3403 Grad: 25189.6973 LR: 8.3150e-05 | Elapse: 104.41s\n",
                        "Epoch 1 [700/749] | Train Loss: 0.6217 Grad: 40157.3398 LR: 8.9038e-05 | Elapse: 112.44s\n",
                        "Epoch 1 [748/749] | Train Loss: 0.3587 Grad: 26813.0078 LR: 9.3625e-05 | Elapse: 120.13s\n"
                    ]
                },
                {
                    "data": {
                        "application/vnd.jupyter.widget-view+json": {
                            "model_id": "99cd57e7c57c46879054708971201957",
                            "version_major": 2,
                            "version_minor": 0
                        },
                        "text/plain": [
                            "Valid [0]:   0%|          | 0/222 [00:00<?, ?batch/s]"
                        ]
                    },
                    "metadata": {},
                    "output_type": "display_data"
                },
                {
                    "name": "stdout",
                    "output_type": "stream",
                    "text": [
                        "Epoch 1 [0/222] | Valid Loss: 0.4798 | Elapse: 0.07s\n",
                        "Epoch 1 [50/222] | Valid Loss: 0.4335 | Elapse: 3.27s\n",
                        "Epoch 1 [100/222] | Valid Loss: 0.4268 | Elapse: 6.47s\n",
                        "Epoch 1 [150/222] | Valid Loss: 0.2778 | Elapse: 9.68s\n",
                        "Epoch 1 [200/222] | Valid Loss: 0.5701 | Elapse: 12.90s\n"
                    ]
                },
                {
                    "name": "stderr",
                    "output_type": "stream",
                    "text": [
                        "----------------------------------------------------------------------------------------------------\n",
                        "Epoch 1 - Average Loss: (train) 0.6632; (valid) 0.4111 | Time: 134.47s\n",
                        "Best model found in epoch 1 | valid loss: 0.4111\n"
                    ]
                },
                {
                    "name": "stdout",
                    "output_type": "stream",
                    "text": [
                        "Epoch 1 [221/222] | Valid Loss: 0.5950 | Elapse: 14.33s\n"
                    ]
                },
                {
                    "data": {
                        "application/vnd.jupyter.widget-view+json": {
                            "model_id": "c96fe850a41a47a6b394ab77439dbd93",
                            "version_major": 2,
                            "version_minor": 0
                        },
                        "text/plain": [
                            "Train [1]:   0%|          | 0/749 [00:00<?, ?batch/s]"
                        ]
                    },
                    "metadata": {},
                    "output_type": "display_data"
                },
                {
                    "name": "stdout",
                    "output_type": "stream",
                    "text": [
                        "Epoch 2 [0/749] | Train Loss: 0.4439 Grad: inf LR: 9.3625e-05 | Elapse: 0.16s\n",
                        "Epoch 2 [50/749] | Train Loss: 0.4471 Grad: 162216.1406 LR: 9.7154e-05 | Elapse: 8.17s\n",
                        "Epoch 2 [100/749] | Train Loss: 0.4079 Grad: 71054.0625 LR: 9.9300e-05 | Elapse: 16.21s\n",
                        "Epoch 2 [150/749] | Train Loss: 0.4165 Grad: 33792.7930 LR: 1.0000e-04 | Elapse: 24.27s\n",
                        "Epoch 2 [200/749] | Train Loss: 0.5042 Grad: 42624.5703 LR: 9.9990e-05 | Elapse: 32.36s\n",
                        "Epoch 2 [250/749] | Train Loss: 0.4558 Grad: 63379.8320 LR: 9.9961e-05 | Elapse: 40.40s\n",
                        "Epoch 2 [300/749] | Train Loss: 0.4465 Grad: 27377.7891 LR: 9.9914e-05 | Elapse: 48.43s\n",
                        "Epoch 2 [350/749] | Train Loss: 0.3951 Grad: 38942.0781 LR: 9.9847e-05 | Elapse: 56.46s\n",
                        "Epoch 2 [400/749] | Train Loss: 0.4899 Grad: 72410.0078 LR: 9.9762e-05 | Elapse: 64.49s\n",
                        "Epoch 2 [450/749] | Train Loss: 0.5907 Grad: 67155.0391 LR: 9.9658e-05 | Elapse: 72.51s\n",
                        "Epoch 2 [500/749] | Train Loss: 0.3602 Grad: 37854.2109 LR: 9.9536e-05 | Elapse: 80.54s\n",
                        "Epoch 2 [550/749] | Train Loss: 0.4724 Grad: 42592.1758 LR: 9.9395e-05 | Elapse: 88.57s\n",
                        "Epoch 2 [600/749] | Train Loss: 0.2924 Grad: 39677.4219 LR: 9.9235e-05 | Elapse: 96.59s\n",
                        "Epoch 2 [650/749] | Train Loss: 0.2108 Grad: 23391.3730 LR: 9.9056e-05 | Elapse: 104.62s\n",
                        "Epoch 2 [700/749] | Train Loss: 0.5373 Grad: 54750.6758 LR: 9.8859e-05 | Elapse: 112.64s\n",
                        "Epoch 2 [748/749] | Train Loss: 0.3299 Grad: 34612.2578 LR: 9.8653e-05 | Elapse: 120.35s\n"
                    ]
                },
                {
                    "data": {
                        "application/vnd.jupyter.widget-view+json": {
                            "model_id": "cdb14b03aede4512b5139d2e3df4fa1b",
                            "version_major": 2,
                            "version_minor": 0
                        },
                        "text/plain": [
                            "Valid [1]:   0%|          | 0/222 [00:00<?, ?batch/s]"
                        ]
                    },
                    "metadata": {},
                    "output_type": "display_data"
                },
                {
                    "name": "stdout",
                    "output_type": "stream",
                    "text": [
                        "Epoch 2 [0/222] | Valid Loss: 0.3620 | Elapse: 0.07s\n",
                        "Epoch 2 [50/222] | Valid Loss: 0.3790 | Elapse: 3.27s\n",
                        "Epoch 2 [100/222] | Valid Loss: 0.3472 | Elapse: 6.47s\n",
                        "Epoch 2 [150/222] | Valid Loss: 0.2847 | Elapse: 9.68s\n",
                        "Epoch 2 [200/222] | Valid Loss: 0.3864 | Elapse: 12.90s\n"
                    ]
                },
                {
                    "name": "stderr",
                    "output_type": "stream",
                    "text": [
                        "----------------------------------------------------------------------------------------------------\n",
                        "Epoch 2 - Average Loss: (train) 0.3923; (valid) 0.3251 | Time: 134.61s\n",
                        "Best model found in epoch 2 | valid loss: 0.3251\n"
                    ]
                },
                {
                    "name": "stdout",
                    "output_type": "stream",
                    "text": [
                        "Epoch 2 [221/222] | Valid Loss: 0.3171 | Elapse: 14.25s\n"
                    ]
                },
                {
                    "data": {
                        "application/vnd.jupyter.widget-view+json": {
                            "model_id": "925636a7fd10485dbe5fa5a5c9e88f28",
                            "version_major": 2,
                            "version_minor": 0
                        },
                        "text/plain": [
                            "Train [2]:   0%|          | 0/749 [00:00<?, ?batch/s]"
                        ]
                    },
                    "metadata": {},
                    "output_type": "display_data"
                },
                {
                    "name": "stdout",
                    "output_type": "stream",
                    "text": [
                        "Epoch 3 [0/749] | Train Loss: 0.3110 Grad: 159561.0469 LR: 9.8653e-05 | Elapse: 0.16s\n",
                        "Epoch 3 [50/749] | Train Loss: 0.2185 Grad: 56574.2773 LR: 9.8420e-05 | Elapse: 8.16s\n",
                        "Epoch 3 [100/749] | Train Loss: 0.3669 Grad: 43609.6289 LR: 9.8169e-05 | Elapse: 16.16s\n",
                        "Epoch 3 [150/749] | Train Loss: 0.3349 Grad: 38814.5195 LR: 9.7899e-05 | Elapse: 24.20s\n",
                        "Epoch 3 [200/749] | Train Loss: 0.3744 Grad: 49089.9727 LR: 9.7612e-05 | Elapse: 32.24s\n",
                        "Epoch 3 [250/749] | Train Loss: 0.3890 Grad: 73330.6328 LR: 9.7306e-05 | Elapse: 40.28s\n",
                        "Epoch 3 [300/749] | Train Loss: 0.4228 Grad: 40304.3242 LR: 9.6983e-05 | Elapse: 48.30s\n",
                        "Epoch 3 [350/749] | Train Loss: 0.3436 Grad: 60526.6641 LR: 9.6642e-05 | Elapse: 56.31s\n",
                        "Epoch 3 [400/749] | Train Loss: 0.3632 Grad: 62568.8906 LR: 9.6284e-05 | Elapse: 64.32s\n",
                        "Epoch 3 [450/749] | Train Loss: 0.5315 Grad: 49720.4688 LR: 9.5908e-05 | Elapse: 72.34s\n",
                        "Epoch 3 [500/749] | Train Loss: 0.2425 Grad: 42907.8672 LR: 9.5515e-05 | Elapse: 80.38s\n",
                        "Epoch 3 [550/749] | Train Loss: 0.3263 Grad: 49866.7500 LR: 9.5104e-05 | Elapse: 88.42s\n",
                        "Epoch 3 [600/749] | Train Loss: 0.3179 Grad: 52738.3438 LR: 9.4677e-05 | Elapse: 96.45s\n",
                        "Epoch 3 [650/749] | Train Loss: 0.1987 Grad: 32871.2148 LR: 9.4233e-05 | Elapse: 104.47s\n",
                        "Epoch 3 [700/749] | Train Loss: 0.4527 Grad: 52807.1719 LR: 9.3772e-05 | Elapse: 112.50s\n",
                        "Epoch 3 [748/749] | Train Loss: 0.2526 Grad: 39242.4219 LR: 9.3314e-05 | Elapse: 120.20s\n"
                    ]
                },
                {
                    "data": {
                        "application/vnd.jupyter.widget-view+json": {
                            "model_id": "d6cb03587aa948d7b7d71d01294effd9",
                            "version_major": 2,
                            "version_minor": 0
                        },
                        "text/plain": [
                            "Valid [2]:   0%|          | 0/222 [00:00<?, ?batch/s]"
                        ]
                    },
                    "metadata": {},
                    "output_type": "display_data"
                },
                {
                    "name": "stdout",
                    "output_type": "stream",
                    "text": [
                        "Epoch 3 [0/222] | Valid Loss: 0.3757 | Elapse: 0.07s\n",
                        "Epoch 3 [50/222] | Valid Loss: 0.3752 | Elapse: 3.27s\n",
                        "Epoch 3 [100/222] | Valid Loss: 0.3949 | Elapse: 6.47s\n",
                        "Epoch 3 [150/222] | Valid Loss: 0.3033 | Elapse: 9.68s\n",
                        "Epoch 3 [200/222] | Valid Loss: 0.2516 | Elapse: 12.91s\n"
                    ]
                },
                {
                    "name": "stderr",
                    "output_type": "stream",
                    "text": [
                        "----------------------------------------------------------------------------------------------------\n",
                        "Epoch 3 - Average Loss: (train) 0.3133; (valid) 0.2945 | Time: 134.46s\n",
                        "Best model found in epoch 3 | valid loss: 0.2945\n"
                    ]
                },
                {
                    "name": "stdout",
                    "output_type": "stream",
                    "text": [
                        "Epoch 3 [221/222] | Valid Loss: 0.2327 | Elapse: 14.26s\n"
                    ]
                },
                {
                    "data": {
                        "application/vnd.jupyter.widget-view+json": {
                            "model_id": "b1ddb3b391554288b5375f6500815931",
                            "version_major": 2,
                            "version_minor": 0
                        },
                        "text/plain": [
                            "Train [3]:   0%|          | 0/749 [00:00<?, ?batch/s]"
                        ]
                    },
                    "metadata": {},
                    "output_type": "display_data"
                },
                {
                    "name": "stdout",
                    "output_type": "stream",
                    "text": [
                        "Epoch 4 [0/749] | Train Loss: 0.2350 Grad: inf LR: 9.3314e-05 | Elapse: 0.16s\n",
                        "Epoch 4 [50/749] | Train Loss: 0.2181 Grad: 32957.9180 LR: 9.2821e-05 | Elapse: 8.16s\n",
                        "Epoch 4 [100/749] | Train Loss: 0.2494 Grad: 30432.6895 LR: 9.2311e-05 | Elapse: 16.21s\n",
                        "Epoch 4 [150/749] | Train Loss: 0.2816 Grad: 36350.2695 LR: 9.1786e-05 | Elapse: 24.26s\n",
                        "Epoch 4 [200/749] | Train Loss: 0.3649 Grad: 51090.1680 LR: 9.1245e-05 | Elapse: 32.32s\n",
                        "Epoch 4 [250/749] | Train Loss: 0.2834 Grad: 48203.6289 LR: 9.0689e-05 | Elapse: 40.35s\n",
                        "Epoch 4 [300/749] | Train Loss: 0.3628 Grad: 38978.5977 LR: 9.0117e-05 | Elapse: 48.36s\n",
                        "Epoch 4 [350/749] | Train Loss: 0.3540 Grad: 71270.3047 LR: 8.9530e-05 | Elapse: 56.37s\n",
                        "Epoch 4 [400/749] | Train Loss: 0.2271 Grad: 41861.7031 LR: 8.8928e-05 | Elapse: 64.43s\n",
                        "Epoch 4 [450/749] | Train Loss: 0.4485 Grad: 61892.8359 LR: 8.8312e-05 | Elapse: 72.46s\n",
                        "Epoch 4 [500/749] | Train Loss: 0.2224 Grad: 45479.6250 LR: 8.7681e-05 | Elapse: 80.48s\n",
                        "Epoch 4 [550/749] | Train Loss: 0.3142 Grad: 71631.8516 LR: 8.7036e-05 | Elapse: 88.52s\n",
                        "Epoch 4 [600/749] | Train Loss: 0.2217 Grad: 35221.6602 LR: 8.6377e-05 | Elapse: 96.53s\n",
                        "Epoch 4 [650/749] | Train Loss: 0.1708 Grad: 33717.2578 LR: 8.5704e-05 | Elapse: 104.55s\n",
                        "Epoch 4 [700/749] | Train Loss: 0.4010 Grad: 84905.8203 LR: 8.5018e-05 | Elapse: 112.57s\n",
                        "Epoch 4 [748/749] | Train Loss: 0.2500 Grad: 45612.4062 LR: 8.4347e-05 | Elapse: 120.29s\n"
                    ]
                },
                {
                    "data": {
                        "application/vnd.jupyter.widget-view+json": {
                            "model_id": "4390c62f86b54543b6377fc8ee69e049",
                            "version_major": 2,
                            "version_minor": 0
                        },
                        "text/plain": [
                            "Valid [3]:   0%|          | 0/222 [00:00<?, ?batch/s]"
                        ]
                    },
                    "metadata": {},
                    "output_type": "display_data"
                },
                {
                    "name": "stdout",
                    "output_type": "stream",
                    "text": [
                        "Epoch 4 [0/222] | Valid Loss: 0.3545 | Elapse: 0.07s\n",
                        "Epoch 4 [50/222] | Valid Loss: 0.3788 | Elapse: 3.26s\n",
                        "Epoch 4 [100/222] | Valid Loss: 0.3856 | Elapse: 6.46s\n",
                        "Epoch 4 [150/222] | Valid Loss: 0.3588 | Elapse: 9.67s\n",
                        "Epoch 4 [200/222] | Valid Loss: 0.1855 | Elapse: 12.89s\n"
                    ]
                },
                {
                    "name": "stderr",
                    "output_type": "stream",
                    "text": [
                        "----------------------------------------------------------------------------------------------------\n",
                        "Epoch 4 - Average Loss: (train) 0.2616; (valid) 0.2970 | Time: 134.53s\n"
                    ]
                },
                {
                    "name": "stdout",
                    "output_type": "stream",
                    "text": [
                        "Epoch 4 [221/222] | Valid Loss: 0.2119 | Elapse: 14.24s\n"
                    ]
                },
                {
                    "data": {
                        "application/vnd.jupyter.widget-view+json": {
                            "model_id": "c4bf63425f264d689c373650ebf9fd0e",
                            "version_major": 2,
                            "version_minor": 0
                        },
                        "text/plain": [
                            "Train [4]:   0%|          | 0/749 [00:00<?, ?batch/s]"
                        ]
                    },
                    "metadata": {},
                    "output_type": "display_data"
                },
                {
                    "name": "stdout",
                    "output_type": "stream",
                    "text": [
                        "Epoch 5 [0/749] | Train Loss: 0.2056 Grad: 142589.6719 LR: 8.4347e-05 | Elapse: 0.16s\n",
                        "Epoch 5 [50/749] | Train Loss: 0.1835 Grad: 29369.9336 LR: 8.3635e-05 | Elapse: 8.17s\n",
                        "Epoch 5 [100/749] | Train Loss: 0.2911 Grad: 47902.0273 LR: 8.2910e-05 | Elapse: 16.17s\n",
                        "Epoch 5 [150/749] | Train Loss: 0.2314 Grad: 42230.8984 LR: 8.2173e-05 | Elapse: 24.22s\n",
                        "Epoch 5 [200/749] | Train Loss: 0.2839 Grad: 44221.3633 LR: 8.1424e-05 | Elapse: 32.28s\n",
                        "Epoch 5 [250/749] | Train Loss: 0.2388 Grad: 57833.5195 LR: 8.0663e-05 | Elapse: 40.31s\n",
                        "Epoch 5 [300/749] | Train Loss: 0.3464 Grad: 50817.0781 LR: 7.9891e-05 | Elapse: 48.33s\n",
                        "Epoch 5 [350/749] | Train Loss: 0.1594 Grad: 33071.4688 LR: 7.9107e-05 | Elapse: 56.36s\n",
                        "Epoch 5 [400/749] | Train Loss: 0.1997 Grad: 50075.6758 LR: 7.8313e-05 | Elapse: 64.38s\n",
                        "Epoch 5 [450/749] | Train Loss: 0.4757 Grad: 58751.0703 LR: 7.7507e-05 | Elapse: 72.41s\n",
                        "Epoch 5 [500/749] | Train Loss: 0.1537 Grad: 33608.0039 LR: 7.6691e-05 | Elapse: 80.44s\n",
                        "Epoch 5 [550/749] | Train Loss: 0.1839 Grad: 32119.7266 LR: 7.5866e-05 | Elapse: 88.48s\n",
                        "Epoch 5 [600/749] | Train Loss: 0.2043 Grad: 60135.8320 LR: 7.5030e-05 | Elapse: 96.51s\n",
                        "Epoch 5 [650/749] | Train Loss: 0.1126 Grad: 26618.9004 LR: 7.4185e-05 | Elapse: 104.54s\n",
                        "Epoch 5 [700/749] | Train Loss: 0.2569 Grad: 42618.3164 LR: 7.3331e-05 | Elapse: 112.57s\n",
                        "Epoch 5 [748/749] | Train Loss: 0.3130 Grad: 55105.2930 LR: 7.2503e-05 | Elapse: 120.28s\n"
                    ]
                },
                {
                    "data": {
                        "application/vnd.jupyter.widget-view+json": {
                            "model_id": "25e4ea47033c47319de05a3245adc465",
                            "version_major": 2,
                            "version_minor": 0
                        },
                        "text/plain": [
                            "Valid [4]:   0%|          | 0/222 [00:00<?, ?batch/s]"
                        ]
                    },
                    "metadata": {},
                    "output_type": "display_data"
                },
                {
                    "name": "stdout",
                    "output_type": "stream",
                    "text": [
                        "Epoch 5 [0/222] | Valid Loss: 0.3637 | Elapse: 0.07s\n",
                        "Epoch 5 [50/222] | Valid Loss: 0.4693 | Elapse: 3.27s\n",
                        "Epoch 5 [100/222] | Valid Loss: 0.4438 | Elapse: 6.47s\n",
                        "Epoch 5 [150/222] | Valid Loss: 0.3798 | Elapse: 9.68s\n",
                        "Epoch 5 [200/222] | Valid Loss: 0.1085 | Elapse: 12.90s\n"
                    ]
                },
                {
                    "name": "stderr",
                    "output_type": "stream",
                    "text": [
                        "----------------------------------------------------------------------------------------------------\n",
                        "Epoch 5 - Average Loss: (train) 0.2228; (valid) 0.3037 | Time: 134.54s\n"
                    ]
                },
                {
                    "name": "stdout",
                    "output_type": "stream",
                    "text": [
                        "Epoch 5 [221/222] | Valid Loss: 0.1464 | Elapse: 14.25s\n"
                    ]
                },
                {
                    "data": {
                        "application/vnd.jupyter.widget-view+json": {
                            "model_id": "8e0bb7dd12b84363a487c66162f0c4d3",
                            "version_major": 2,
                            "version_minor": 0
                        },
                        "text/plain": [
                            "Train [5]:   0%|          | 0/749 [00:00<?, ?batch/s]"
                        ]
                    },
                    "metadata": {},
                    "output_type": "display_data"
                },
                {
                    "name": "stdout",
                    "output_type": "stream",
                    "text": [
                        "Epoch 6 [0/749] | Train Loss: 0.2380 Grad: inf LR: 7.2503e-05 | Elapse: 0.16s\n",
                        "Epoch 6 [50/749] | Train Loss: 0.1887 Grad: 41048.0156 LR: 7.1632e-05 | Elapse: 8.17s\n",
                        "Epoch 6 [100/749] | Train Loss: 0.1998 Grad: 51998.8633 LR: 7.0753e-05 | Elapse: 16.18s\n",
                        "Epoch 6 [150/749] | Train Loss: 0.2185 Grad: 56790.5117 LR: 6.9866e-05 | Elapse: 24.23s\n",
                        "Epoch 6 [200/749] | Train Loss: 0.2602 Grad: 58137.2422 LR: 6.8972e-05 | Elapse: 32.26s\n",
                        "Epoch 6 [250/749] | Train Loss: 0.2747 Grad: 81222.6328 LR: 6.8070e-05 | Elapse: 40.27s\n",
                        "Epoch 6 [300/749] | Train Loss: 0.2158 Grad: 49435.4727 LR: 6.7162e-05 | Elapse: 48.29s\n",
                        "Epoch 6 [350/749] | Train Loss: 0.1685 Grad: 37877.7617 LR: 6.6247e-05 | Elapse: 56.31s\n",
                        "Epoch 6 [400/749] | Train Loss: 0.1909 Grad: 52417.6719 LR: 6.5326e-05 | Elapse: 64.35s\n",
                        "Epoch 6 [450/749] | Train Loss: 0.3389 Grad: 52450.0117 LR: 6.4399e-05 | Elapse: 72.37s\n",
                        "Epoch 6 [500/749] | Train Loss: 0.0828 Grad: 28561.7383 LR: 6.3467e-05 | Elapse: 80.40s\n",
                        "Epoch 6 [550/749] | Train Loss: 0.2066 Grad: 64266.5898 LR: 6.2530e-05 | Elapse: 88.44s\n",
                        "Epoch 6 [600/749] | Train Loss: 0.1705 Grad: 48961.9141 LR: 6.1588e-05 | Elapse: 96.47s\n",
                        "Epoch 6 [650/749] | Train Loss: 0.1660 Grad: 36276.5195 LR: 6.0641e-05 | Elapse: 104.50s\n",
                        "Epoch 6 [700/749] | Train Loss: 0.2339 Grad: 62470.0273 LR: 5.9691e-05 | Elapse: 112.52s\n",
                        "Epoch 6 [748/749] | Train Loss: 0.3197 Grad: 64460.2266 LR: 5.8775e-05 | Elapse: 120.22s\n"
                    ]
                },
                {
                    "data": {
                        "application/vnd.jupyter.widget-view+json": {
                            "model_id": "22c7de508e9446c0855372f62895478d",
                            "version_major": 2,
                            "version_minor": 0
                        },
                        "text/plain": [
                            "Valid [5]:   0%|          | 0/222 [00:00<?, ?batch/s]"
                        ]
                    },
                    "metadata": {},
                    "output_type": "display_data"
                },
                {
                    "name": "stdout",
                    "output_type": "stream",
                    "text": [
                        "Epoch 6 [0/222] | Valid Loss: 0.3171 | Elapse: 0.07s\n",
                        "Epoch 6 [50/222] | Valid Loss: 0.5042 | Elapse: 3.26s\n",
                        "Epoch 6 [100/222] | Valid Loss: 0.4329 | Elapse: 6.46s\n",
                        "Epoch 6 [150/222] | Valid Loss: 0.4032 | Elapse: 9.67s\n",
                        "Epoch 6 [200/222] | Valid Loss: 0.0688 | Elapse: 12.89s\n"
                    ]
                },
                {
                    "name": "stderr",
                    "output_type": "stream",
                    "text": [
                        "----------------------------------------------------------------------------------------------------\n",
                        "Epoch 6 - Average Loss: (train) 0.1872; (valid) 0.3143 | Time: 134.46s\n"
                    ]
                },
                {
                    "name": "stdout",
                    "output_type": "stream",
                    "text": [
                        "Epoch 6 [221/222] | Valid Loss: 0.1849 | Elapse: 14.24s\n"
                    ]
                },
                {
                    "name": "stderr",
                    "output_type": "stream",
                    "text": [
                        "====================================================================================================\n",
                        "Fold 3 Valid Loss: (Easy) 0.6015 | (Hard) 0.5728\n",
                        "Elapse: 13.46 min \n",
                        "====================================================================================================\n",
                        "- Second Stage \n",
                        "Use Checkpoint: ENet_b2_xymask_rebalance_fold_3_stage_1.pth\n"
                    ]
                },
                {
                    "data": {
                        "application/vnd.jupyter.widget-view+json": {
                            "model_id": "7b0756b44e8943ae91d6569fdd285dfe",
                            "version_major": 2,
                            "version_minor": 0
                        },
                        "text/plain": [
                            "Train [0]:   0%|          | 0/466 [00:00<?, ?batch/s]"
                        ]
                    },
                    "metadata": {},
                    "output_type": "display_data"
                },
                {
                    "name": "stdout",
                    "output_type": "stream",
                    "text": [
                        "Epoch 1 [0/466] | Train Loss: 0.5227 Grad: nan LR: 4.0000e-06 | Elapse: 0.16s\n",
                        "Epoch 1 [50/466] | Train Loss: 0.2702 Grad: 61188.4766 LR: 5.8947e-06 | Elapse: 8.17s\n",
                        "Epoch 1 [100/466] | Train Loss: 0.3306 Grad: 63933.1133 LR: 1.1429e-05 | Elapse: 16.18s\n",
                        "Epoch 1 [150/466] | Train Loss: 0.2385 Grad: 41981.9961 LR: 2.0167e-05 | Elapse: 24.20s\n",
                        "Epoch 1 [200/466] | Train Loss: 0.2068 Grad: 39411.4883 LR: 3.1418e-05 | Elapse: 32.22s\n",
                        "Epoch 1 [250/466] | Train Loss: 0.3062 Grad: 46693.3125 LR: 4.4293e-05 | Elapse: 40.23s\n",
                        "Epoch 1 [300/466] | Train Loss: 0.2632 Grad: 41899.4102 LR: 5.7777e-05 | Elapse: 48.24s\n",
                        "Epoch 1 [350/466] | Train Loss: 1.0645 Grad: 50867.9766 LR: 7.0805e-05 | Elapse: 56.27s\n",
                        "Epoch 1 [400/466] | Train Loss: 1.6574 Grad: 61690.3359 LR: 8.2349e-05 | Elapse: 64.30s\n",
                        "Epoch 1 [450/466] | Train Loss: 0.5137 Grad: 20731.1914 LR: 9.1496e-05 | Elapse: 72.33s\n",
                        "Epoch 1 [465/466] | Train Loss: 0.4030 Grad: 27570.7441 LR: 9.3793e-05 | Elapse: 74.74s\n"
                    ]
                },
                {
                    "data": {
                        "application/vnd.jupyter.widget-view+json": {
                            "model_id": "0c71daa561ae4424ad33b0e4d2b6ad39",
                            "version_major": 2,
                            "version_minor": 0
                        },
                        "text/plain": [
                            "Valid [0]:   0%|          | 0/222 [00:00<?, ?batch/s]"
                        ]
                    },
                    "metadata": {},
                    "output_type": "display_data"
                },
                {
                    "name": "stdout",
                    "output_type": "stream",
                    "text": [
                        "Epoch 1 [0/222] | Valid Loss: 0.7463 | Elapse: 0.07s\n",
                        "Epoch 1 [50/222] | Valid Loss: 0.7323 | Elapse: 3.27s\n",
                        "Epoch 1 [100/222] | Valid Loss: 0.7700 | Elapse: 6.47s\n",
                        "Epoch 1 [150/222] | Valid Loss: 0.5342 | Elapse: 9.69s\n",
                        "Epoch 1 [200/222] | Valid Loss: 0.8610 | Elapse: 12.92s\n"
                    ]
                },
                {
                    "name": "stderr",
                    "output_type": "stream",
                    "text": [
                        "----------------------------------------------------------------------------------------------------\n",
                        "Epoch 1 - Average Loss: (train) 0.4437; (valid) 0.6959 | Time: 89.02s\n",
                        "Best model found in epoch 1 | valid loss: 0.6959\n"
                    ]
                },
                {
                    "name": "stdout",
                    "output_type": "stream",
                    "text": [
                        "Epoch 1 [221/222] | Valid Loss: 0.3319 | Elapse: 14.27s\n"
                    ]
                },
                {
                    "data": {
                        "application/vnd.jupyter.widget-view+json": {
                            "model_id": "69ab2359847649548d81f7c21b40a872",
                            "version_major": 2,
                            "version_minor": 0
                        },
                        "text/plain": [
                            "Train [1]:   0%|          | 0/466 [00:00<?, ?batch/s]"
                        ]
                    },
                    "metadata": {},
                    "output_type": "display_data"
                },
                {
                    "name": "stdout",
                    "output_type": "stream",
                    "text": [
                        "Epoch 2 [0/466] | Train Loss: 0.6496 Grad: 92438.0312 LR: 9.3793e-05 | Elapse: 0.16s\n",
                        "Epoch 2 [50/466] | Train Loss: 0.3101 Grad: 69597.8281 LR: 9.8711e-05 | Elapse: 8.20s\n",
                        "Epoch 2 [100/466] | Train Loss: 0.2193 Grad: 71816.7500 LR: 9.9999e-05 | Elapse: 16.21s\n",
                        "Epoch 2 [150/466] | Train Loss: 0.1837 Grad: 71846.2812 LR: 9.9966e-05 | Elapse: 24.25s\n",
                        "Epoch 2 [200/466] | Train Loss: 0.1855 Grad: 64205.7344 LR: 9.9885e-05 | Elapse: 32.31s\n",
                        "Epoch 2 [250/466] | Train Loss: 0.2577 Grad: 70500.0781 LR: 9.9755e-05 | Elapse: 40.35s\n",
                        "Epoch 2 [300/466] | Train Loss: 0.2580 Grad: 92034.3750 LR: 9.9576e-05 | Elapse: 48.38s\n",
                        "Epoch 2 [350/466] | Train Loss: 0.9156 Grad: 71392.0234 LR: 9.9349e-05 | Elapse: 56.40s\n",
                        "Epoch 2 [400/466] | Train Loss: 1.4553 Grad: 106658.6875 LR: 9.9074e-05 | Elapse: 64.45s\n",
                        "Epoch 2 [450/466] | Train Loss: 0.5110 Grad: 37952.8594 LR: 9.8752e-05 | Elapse: 72.47s\n",
                        "Epoch 2 [465/466] | Train Loss: 0.3623 Grad: 50704.1367 LR: 9.8638e-05 | Elapse: 74.88s\n"
                    ]
                },
                {
                    "data": {
                        "application/vnd.jupyter.widget-view+json": {
                            "model_id": "37eece5cf66f4018b4b91798f6a8a0c3",
                            "version_major": 2,
                            "version_minor": 0
                        },
                        "text/plain": [
                            "Valid [1]:   0%|          | 0/222 [00:00<?, ?batch/s]"
                        ]
                    },
                    "metadata": {},
                    "output_type": "display_data"
                },
                {
                    "name": "stdout",
                    "output_type": "stream",
                    "text": [
                        "Epoch 2 [0/222] | Valid Loss: 0.7435 | Elapse: 0.07s\n",
                        "Epoch 2 [50/222] | Valid Loss: 0.7694 | Elapse: 3.27s\n",
                        "Epoch 2 [100/222] | Valid Loss: 0.7639 | Elapse: 6.48s\n",
                        "Epoch 2 [150/222] | Valid Loss: 0.6018 | Elapse: 9.70s\n",
                        "Epoch 2 [200/222] | Valid Loss: 0.8980 | Elapse: 12.94s\n"
                    ]
                },
                {
                    "name": "stderr",
                    "output_type": "stream",
                    "text": [
                        "----------------------------------------------------------------------------------------------------\n",
                        "Epoch 2 - Average Loss: (train) 0.3677; (valid) 0.7048 | Time: 89.17s\n"
                    ]
                },
                {
                    "name": "stdout",
                    "output_type": "stream",
                    "text": [
                        "Epoch 2 [221/222] | Valid Loss: 0.2590 | Elapse: 14.29s\n"
                    ]
                },
                {
                    "data": {
                        "application/vnd.jupyter.widget-view+json": {
                            "model_id": "c2dc7c56af0145d6addb53aaeff9d019",
                            "version_major": 2,
                            "version_minor": 0
                        },
                        "text/plain": [
                            "Train [2]:   0%|          | 0/466 [00:00<?, ?batch/s]"
                        ]
                    },
                    "metadata": {},
                    "output_type": "display_data"
                },
                {
                    "name": "stdout",
                    "output_type": "stream",
                    "text": [
                        "Epoch 3 [0/466] | Train Loss: 0.6443 Grad: 150351.9688 LR: 9.8638e-05 | Elapse: 0.16s\n",
                        "Epoch 3 [50/466] | Train Loss: 0.2457 Grad: 64873.8555 LR: 9.8253e-05 | Elapse: 8.16s\n",
                        "Epoch 3 [100/466] | Train Loss: 0.2191 Grad: 56171.1758 LR: 9.7821e-05 | Elapse: 16.17s\n",
                        "Epoch 3 [150/466] | Train Loss: 0.1748 Grad: 48340.8203 LR: 9.7342e-05 | Elapse: 24.20s\n",
                        "Epoch 3 [200/466] | Train Loss: 0.2145 Grad: 75656.7891 LR: 9.6817e-05 | Elapse: 32.25s\n",
                        "Epoch 3 [250/466] | Train Loss: 0.2587 Grad: 70054.4922 LR: 9.6247e-05 | Elapse: 40.29s\n",
                        "Epoch 3 [300/466] | Train Loss: 0.2485 Grad: 81589.8438 LR: 9.5631e-05 | Elapse: 48.31s\n",
                        "Epoch 3 [350/466] | Train Loss: 0.8594 Grad: 157252.8125 LR: 9.4971e-05 | Elapse: 56.32s\n",
                        "Epoch 3 [400/466] | Train Loss: 1.1489 Grad: 196402.6094 LR: 9.4268e-05 | Elapse: 64.37s\n",
                        "Epoch 3 [450/466] | Train Loss: 0.5410 Grad: 39977.1406 LR: 9.3521e-05 | Elapse: 72.38s\n",
                        "Epoch 3 [465/466] | Train Loss: 0.4810 Grad: 74456.1172 LR: 9.3273e-05 | Elapse: 74.81s\n"
                    ]
                },
                {
                    "data": {
                        "application/vnd.jupyter.widget-view+json": {
                            "model_id": "8ced74addab84e9c83509a8e289133b3",
                            "version_major": 2,
                            "version_minor": 0
                        },
                        "text/plain": [
                            "Valid [2]:   0%|          | 0/222 [00:00<?, ?batch/s]"
                        ]
                    },
                    "metadata": {},
                    "output_type": "display_data"
                },
                {
                    "name": "stdout",
                    "output_type": "stream",
                    "text": [
                        "Epoch 3 [0/222] | Valid Loss: 0.6982 | Elapse: 0.07s\n",
                        "Epoch 3 [50/222] | Valid Loss: 0.6167 | Elapse: 3.30s\n",
                        "Epoch 3 [100/222] | Valid Loss: 0.6059 | Elapse: 6.51s\n",
                        "Epoch 3 [150/222] | Valid Loss: 0.5494 | Elapse: 9.73s\n",
                        "Epoch 3 [200/222] | Valid Loss: 0.6608 | Elapse: 12.96s\n"
                    ]
                },
                {
                    "name": "stderr",
                    "output_type": "stream",
                    "text": [
                        "----------------------------------------------------------------------------------------------------\n",
                        "Epoch 3 - Average Loss: (train) 0.3623; (valid) 0.6059 | Time: 89.13s\n",
                        "Best model found in epoch 3 | valid loss: 0.6059\n"
                    ]
                },
                {
                    "name": "stdout",
                    "output_type": "stream",
                    "text": [
                        "Epoch 3 [221/222] | Valid Loss: 0.2903 | Elapse: 14.32s\n"
                    ]
                },
                {
                    "data": {
                        "application/vnd.jupyter.widget-view+json": {
                            "model_id": "3b7971b02dc94d1eb5be45b49ea7def0",
                            "version_major": 2,
                            "version_minor": 0
                        },
                        "text/plain": [
                            "Train [3]:   0%|          | 0/466 [00:00<?, ?batch/s]"
                        ]
                    },
                    "metadata": {},
                    "output_type": "display_data"
                },
                {
                    "name": "stdout",
                    "output_type": "stream",
                    "text": [
                        "Epoch 4 [0/466] | Train Loss: 0.7754 Grad: 136029.3281 LR: 9.3273e-05 | Elapse: 0.17s\n",
                        "Epoch 4 [50/466] | Train Loss: 0.2271 Grad: 17451.7383 LR: 9.2470e-05 | Elapse: 8.16s\n",
                        "Epoch 4 [100/466] | Train Loss: 0.2057 Grad: 19783.2266 LR: 9.1626e-05 | Elapse: 16.16s\n",
                        "Epoch 4 [150/466] | Train Loss: 0.1780 Grad: 17327.5449 LR: 9.0742e-05 | Elapse: 24.19s\n",
                        "Epoch 4 [200/466] | Train Loss: 0.1929 Grad: 15265.6953 LR: 8.9818e-05 | Elapse: 32.21s\n",
                        "Epoch 4 [250/466] | Train Loss: 0.2103 Grad: 17982.9297 LR: 8.8855e-05 | Elapse: 40.22s\n",
                        "Epoch 4 [300/466] | Train Loss: 0.2587 Grad: 19816.0059 LR: 8.7854e-05 | Elapse: 48.25s\n",
                        "Epoch 4 [350/466] | Train Loss: 0.8621 Grad: 67801.3828 LR: 8.6816e-05 | Elapse: 56.28s\n",
                        "Epoch 4 [400/466] | Train Loss: 1.1869 Grad: 55010.2930 LR: 8.5743e-05 | Elapse: 64.29s\n",
                        "Epoch 4 [450/466] | Train Loss: 0.5156 Grad: 21915.4180 LR: 8.4635e-05 | Elapse: 72.30s\n",
                        "Epoch 4 [465/466] | Train Loss: 0.3961 Grad: 41329.1562 LR: 8.4273e-05 | Elapse: 74.70s\n"
                    ]
                },
                {
                    "data": {
                        "application/vnd.jupyter.widget-view+json": {
                            "model_id": "a5dfa7aa7ebd4e3c9ec52fec162e9541",
                            "version_major": 2,
                            "version_minor": 0
                        },
                        "text/plain": [
                            "Valid [3]:   0%|          | 0/222 [00:00<?, ?batch/s]"
                        ]
                    },
                    "metadata": {},
                    "output_type": "display_data"
                },
                {
                    "name": "stdout",
                    "output_type": "stream",
                    "text": [
                        "Epoch 4 [0/222] | Valid Loss: 0.7625 | Elapse: 0.07s\n",
                        "Epoch 4 [50/222] | Valid Loss: 0.6398 | Elapse: 3.27s\n",
                        "Epoch 4 [100/222] | Valid Loss: 0.5709 | Elapse: 6.47s\n",
                        "Epoch 4 [150/222] | Valid Loss: 0.4972 | Elapse: 9.68s\n",
                        "Epoch 4 [200/222] | Valid Loss: 0.6221 | Elapse: 12.91s\n"
                    ]
                },
                {
                    "name": "stderr",
                    "output_type": "stream",
                    "text": [
                        "----------------------------------------------------------------------------------------------------\n",
                        "Epoch 4 - Average Loss: (train) 0.3348; (valid) 0.5850 | Time: 88.97s\n",
                        "Best model found in epoch 4 | valid loss: 0.5850\n"
                    ]
                },
                {
                    "name": "stdout",
                    "output_type": "stream",
                    "text": [
                        "Epoch 4 [221/222] | Valid Loss: 0.3382 | Elapse: 14.26s\n"
                    ]
                },
                {
                    "data": {
                        "application/vnd.jupyter.widget-view+json": {
                            "model_id": "fbbc57a48ebe4ae1bfe7d79913d2933f",
                            "version_major": 2,
                            "version_minor": 0
                        },
                        "text/plain": [
                            "Train [4]:   0%|          | 0/466 [00:00<?, ?batch/s]"
                        ]
                    },
                    "metadata": {},
                    "output_type": "display_data"
                },
                {
                    "name": "stdout",
                    "output_type": "stream",
                    "text": [
                        "Epoch 5 [0/466] | Train Loss: 0.5194 Grad: 150857.9062 LR: 8.4273e-05 | Elapse: 0.16s\n",
                        "Epoch 5 [50/466] | Train Loss: 0.1516 Grad: 6411.6958 LR: 8.3120e-05 | Elapse: 8.15s\n",
                        "Epoch 5 [100/466] | Train Loss: 0.1540 Grad: 6448.1172 LR: 8.1936e-05 | Elapse: 16.16s\n",
                        "Epoch 5 [150/466] | Train Loss: 0.1472 Grad: 6729.2500 LR: 8.0720e-05 | Elapse: 24.20s\n",
                        "Epoch 5 [200/466] | Train Loss: 0.1711 Grad: 6811.1084 LR: 7.9474e-05 | Elapse: 32.27s\n",
                        "Epoch 5 [250/466] | Train Loss: 0.1944 Grad: 8608.9375 LR: 7.8200e-05 | Elapse: 40.33s\n",
                        "Epoch 5 [300/466] | Train Loss: 0.2304 Grad: 9481.3564 LR: 7.6898e-05 | Elapse: 48.36s\n",
                        "Epoch 5 [350/466] | Train Loss: 0.7191 Grad: 37943.0664 LR: 7.5570e-05 | Elapse: 56.39s\n",
                        "Epoch 5 [400/466] | Train Loss: 0.8765 Grad: 20308.1270 LR: 7.4217e-05 | Elapse: 64.42s\n",
                        "Epoch 5 [450/466] | Train Loss: 0.4588 Grad: 12252.5254 LR: 7.2840e-05 | Elapse: 72.45s\n",
                        "Epoch 5 [465/466] | Train Loss: 0.4953 Grad: 44291.1328 LR: 7.2395e-05 | Elapse: 74.86s\n"
                    ]
                },
                {
                    "data": {
                        "application/vnd.jupyter.widget-view+json": {
                            "model_id": "a848c798828d4969a8d9d46cbbb66a5d",
                            "version_major": 2,
                            "version_minor": 0
                        },
                        "text/plain": [
                            "Valid [4]:   0%|          | 0/222 [00:00<?, ?batch/s]"
                        ]
                    },
                    "metadata": {},
                    "output_type": "display_data"
                },
                {
                    "name": "stdout",
                    "output_type": "stream",
                    "text": [
                        "Epoch 5 [0/222] | Valid Loss: 0.9208 | Elapse: 0.07s\n",
                        "Epoch 5 [50/222] | Valid Loss: 0.6261 | Elapse: 3.28s\n",
                        "Epoch 5 [100/222] | Valid Loss: 0.5734 | Elapse: 6.48s\n",
                        "Epoch 5 [150/222] | Valid Loss: 0.4754 | Elapse: 9.69s\n",
                        "Epoch 5 [200/222] | Valid Loss: 0.6194 | Elapse: 12.93s\n"
                    ]
                },
                {
                    "name": "stderr",
                    "output_type": "stream",
                    "text": [
                        "----------------------------------------------------------------------------------------------------\n",
                        "Epoch 5 - Average Loss: (train) 0.3048; (valid) 0.5792 | Time: 89.15s\n",
                        "Best model found in epoch 5 | valid loss: 0.5792\n"
                    ]
                },
                {
                    "name": "stdout",
                    "output_type": "stream",
                    "text": [
                        "Epoch 5 [221/222] | Valid Loss: 0.3555 | Elapse: 14.28s\n"
                    ]
                },
                {
                    "data": {
                        "application/vnd.jupyter.widget-view+json": {
                            "model_id": "3f2363afb1d04f9b8db74856f665e2d2",
                            "version_major": 2,
                            "version_minor": 0
                        },
                        "text/plain": [
                            "Train [5]:   0%|          | 0/466 [00:00<?, ?batch/s]"
                        ]
                    },
                    "metadata": {},
                    "output_type": "display_data"
                },
                {
                    "name": "stdout",
                    "output_type": "stream",
                    "text": [
                        "Epoch 6 [0/466] | Train Loss: 0.5453 Grad: nan LR: 7.2395e-05 | Elapse: 0.17s\n",
                        "Epoch 6 [50/466] | Train Loss: 0.1317 Grad: 12418.3535 LR: 7.0990e-05 | Elapse: 8.17s\n",
                        "Epoch 6 [100/466] | Train Loss: 0.1779 Grad: 15943.3027 LR: 6.9564e-05 | Elapse: 16.20s\n",
                        "Epoch 6 [150/466] | Train Loss: 0.1390 Grad: 18528.6484 LR: 6.8119e-05 | Elapse: 24.26s\n",
                        "Epoch 6 [200/466] | Train Loss: 0.1731 Grad: 14736.8770 LR: 6.6656e-05 | Elapse: 32.31s\n",
                        "Epoch 6 [250/466] | Train Loss: 0.1772 Grad: 17024.0059 LR: 6.5177e-05 | Elapse: 40.34s\n",
                        "Epoch 6 [300/466] | Train Loss: 0.2024 Grad: 22079.5469 LR: 6.3684e-05 | Elapse: 48.37s\n",
                        "Epoch 6 [350/466] | Train Loss: 0.8510 Grad: 97396.1641 LR: 6.2177e-05 | Elapse: 56.39s\n",
                        "Epoch 6 [400/466] | Train Loss: 0.8327 Grad: 61379.2500 LR: 6.0658e-05 | Elapse: 64.42s\n",
                        "Epoch 6 [450/466] | Train Loss: 0.2594 Grad: 8195.0117 LR: 5.9129e-05 | Elapse: 72.43s\n",
                        "Epoch 6 [465/466] | Train Loss: 0.3223 Grad: 31632.9648 LR: 5.8637e-05 | Elapse: 74.83s\n"
                    ]
                },
                {
                    "data": {
                        "application/vnd.jupyter.widget-view+json": {
                            "model_id": "6c3108fdc7804763be0b7ce6c40f75c6",
                            "version_major": 2,
                            "version_minor": 0
                        },
                        "text/plain": [
                            "Valid [5]:   0%|          | 0/222 [00:00<?, ?batch/s]"
                        ]
                    },
                    "metadata": {},
                    "output_type": "display_data"
                },
                {
                    "name": "stdout",
                    "output_type": "stream",
                    "text": [
                        "Epoch 6 [0/222] | Valid Loss: 1.0250 | Elapse: 0.07s\n",
                        "Epoch 6 [50/222] | Valid Loss: 0.6264 | Elapse: 3.27s\n",
                        "Epoch 6 [100/222] | Valid Loss: 0.5799 | Elapse: 6.48s\n",
                        "Epoch 6 [150/222] | Valid Loss: 0.4304 | Elapse: 9.71s\n",
                        "Epoch 6 [200/222] | Valid Loss: 0.6758 | Elapse: 12.95s\n"
                    ]
                },
                {
                    "name": "stderr",
                    "output_type": "stream",
                    "text": [
                        "----------------------------------------------------------------------------------------------------\n",
                        "Epoch 6 - Average Loss: (train) 0.2775; (valid) 0.5698 | Time: 89.14s\n",
                        "Best model found in epoch 6 | valid loss: 0.5698\n"
                    ]
                },
                {
                    "name": "stdout",
                    "output_type": "stream",
                    "text": [
                        "Epoch 6 [221/222] | Valid Loss: 0.3141 | Elapse: 14.31s\n"
                    ]
                },
                {
                    "name": "stderr",
                    "output_type": "stream",
                    "text": [
                        "====================================================================================================\n",
                        "Fold 3 Valid Loss: (Easy) 1.2024 | (Hard) 1.0577\n",
                        "Elapse: 8.92 min \n",
                        "====================================================================================================\n",
                        "====================================================================================================\n",
                        "Fold: 4 || Valid size 3120 \n",
                        "====================================================================================================\n",
                        "- First Stage \n"
                    ]
                },
                {
                    "data": {
                        "application/vnd.jupyter.widget-view+json": {
                            "model_id": "c36be200046c41a0b9d9269a714bba0e",
                            "version_major": 2,
                            "version_minor": 0
                        },
                        "text/plain": [
                            "Train [0]:   0%|          | 0/761 [00:00<?, ?batch/s]"
                        ]
                    },
                    "metadata": {},
                    "output_type": "display_data"
                },
                {
                    "name": "stdout",
                    "output_type": "stream",
                    "text": [
                        "Epoch 1 [0/761] | Train Loss: 0.8269 Grad: 66934.6250 LR: 4.0000e-06 | Elapse: 0.17s\n",
                        "Epoch 1 [50/761] | Train Loss: 0.8123 Grad: 68634.3516 LR: 4.7115e-06 | Elapse: 8.22s\n",
                        "Epoch 1 [100/761] | Train Loss: 0.7674 Grad: 92524.1094 LR: 6.8247e-06 | Elapse: 16.20s\n",
                        "Epoch 1 [150/761] | Train Loss: 0.7242 Grad: 77282.6016 LR: 1.0277e-05 | Elapse: 24.18s\n",
                        "Epoch 1 [200/761] | Train Loss: 0.7795 Grad: 95162.8125 LR: 1.4966e-05 | Elapse: 32.18s\n",
                        "Epoch 1 [250/761] | Train Loss: 0.7949 Grad: 130864.3516 LR: 2.0754e-05 | Elapse: 40.17s\n",
                        "Epoch 1 [300/761] | Train Loss: 0.7058 Grad: 99643.3359 LR: 2.7467e-05 | Elapse: 48.15s\n",
                        "Epoch 1 [350/761] | Train Loss: 0.7077 Grad: 35693.8672 LR: 3.4908e-05 | Elapse: 56.12s\n",
                        "Epoch 1 [400/761] | Train Loss: 0.7027 Grad: 68186.1484 LR: 4.2855e-05 | Elapse: 64.10s\n",
                        "Epoch 1 [450/761] | Train Loss: 0.8104 Grad: 130771.2812 LR: 5.1073e-05 | Elapse: 72.08s\n",
                        "Epoch 1 [500/761] | Train Loss: 0.5371 Grad: 46974.2188 LR: 5.9319e-05 | Elapse: 80.06s\n",
                        "Epoch 1 [550/761] | Train Loss: 0.5206 Grad: 57082.3516 LR: 6.7348e-05 | Elapse: 88.05s\n",
                        "Epoch 1 [600/761] | Train Loss: 0.4340 Grad: 42879.6641 LR: 7.4922e-05 | Elapse: 96.03s\n",
                        "Epoch 1 [650/761] | Train Loss: 0.3899 Grad: 82150.0938 LR: 8.1816e-05 | Elapse: 104.01s\n",
                        "Epoch 1 [700/761] | Train Loss: 0.4957 Grad: 64363.0039 LR: 8.7827e-05 | Elapse: 112.00s\n",
                        "Epoch 1 [750/761] | Train Loss: 0.4734 Grad: 77473.2500 LR: 9.2776e-05 | Elapse: 120.00s\n",
                        "Epoch 1 [760/761] | Train Loss: 0.4210 Grad: 72085.2734 LR: 9.3624e-05 | Elapse: 121.60s\n"
                    ]
                },
                {
                    "data": {
                        "application/vnd.jupyter.widget-view+json": {
                            "model_id": "69b144459ce34f7fb1b3331822052d81",
                            "version_major": 2,
                            "version_minor": 0
                        },
                        "text/plain": [
                            "Valid [0]:   0%|          | 0/195 [00:00<?, ?batch/s]"
                        ]
                    },
                    "metadata": {},
                    "output_type": "display_data"
                },
                {
                    "name": "stdout",
                    "output_type": "stream",
                    "text": [
                        "Epoch 1 [0/195] | Valid Loss: 0.4029 | Elapse: 0.07s\n",
                        "Epoch 1 [50/195] | Valid Loss: 0.4879 | Elapse: 3.22s\n",
                        "Epoch 1 [100/195] | Valid Loss: 0.3471 | Elapse: 6.39s\n",
                        "Epoch 1 [150/195] | Valid Loss: 0.8079 | Elapse: 9.57s\n"
                    ]
                },
                {
                    "name": "stderr",
                    "output_type": "stream",
                    "text": [
                        "----------------------------------------------------------------------------------------------------\n",
                        "Epoch 1 - Average Loss: (train) 0.6542; (valid) 0.5616 | Time: 133.97s\n",
                        "Best model found in epoch 1 | valid loss: 0.5616\n"
                    ]
                },
                {
                    "name": "stdout",
                    "output_type": "stream",
                    "text": [
                        "Epoch 1 [194/195] | Valid Loss: 0.7253 | Elapse: 12.37s\n"
                    ]
                },
                {
                    "data": {
                        "application/vnd.jupyter.widget-view+json": {
                            "model_id": "cf1a844c8b124f17960a3a8309c1f8a6",
                            "version_major": 2,
                            "version_minor": 0
                        },
                        "text/plain": [
                            "Train [1]:   0%|          | 0/761 [00:00<?, ?batch/s]"
                        ]
                    },
                    "metadata": {},
                    "output_type": "display_data"
                },
                {
                    "name": "stdout",
                    "output_type": "stream",
                    "text": [
                        "Epoch 2 [0/761] | Train Loss: 0.4234 Grad: 150785.9375 LR: 9.3624e-05 | Elapse: 0.16s\n",
                        "Epoch 2 [50/761] | Train Loss: 0.4494 Grad: 77226.7109 LR: 9.7108e-05 | Elapse: 8.14s\n",
                        "Epoch 2 [100/761] | Train Loss: 0.4069 Grad: 77219.6719 LR: 9.9254e-05 | Elapse: 16.13s\n",
                        "Epoch 2 [150/761] | Train Loss: 0.4328 Grad: 66408.6641 LR: 1.0000e-04 | Elapse: 24.13s\n",
                        "Epoch 2 [200/761] | Train Loss: 0.5760 Grad: 96931.4453 LR: 9.9991e-05 | Elapse: 32.13s\n",
                        "Epoch 2 [250/761] | Train Loss: 0.3848 Grad: 143835.0156 LR: 9.9964e-05 | Elapse: 40.12s\n",
                        "Epoch 2 [300/761] | Train Loss: 0.4739 Grad: 73506.4844 LR: 9.9919e-05 | Elapse: 48.10s\n",
                        "Epoch 2 [350/761] | Train Loss: 0.3825 Grad: 68702.0312 LR: 9.9856e-05 | Elapse: 56.07s\n",
                        "Epoch 2 [400/761] | Train Loss: 0.5037 Grad: inf LR: 9.9774e-05 | Elapse: 64.05s\n",
                        "Epoch 2 [450/761] | Train Loss: 0.5301 Grad: 45315.6758 LR: 9.9674e-05 | Elapse: 72.03s\n",
                        "Epoch 2 [500/761] | Train Loss: 0.3328 Grad: 46860.1484 LR: 9.9556e-05 | Elapse: 80.06s\n",
                        "Epoch 2 [550/761] | Train Loss: 0.1953 Grad: 37916.6992 LR: 9.9420e-05 | Elapse: 88.07s\n",
                        "Epoch 2 [600/761] | Train Loss: 0.3080 Grad: 35425.1367 LR: 9.9266e-05 | Elapse: 96.05s\n",
                        "Epoch 2 [650/761] | Train Loss: 0.3178 Grad: 57339.1797 LR: 9.9094e-05 | Elapse: 104.03s\n",
                        "Epoch 2 [700/761] | Train Loss: 0.2487 Grad: 29196.5703 LR: 9.8904e-05 | Elapse: 112.10s\n",
                        "Epoch 2 [750/761] | Train Loss: 0.3261 Grad: 26230.6582 LR: 9.8696e-05 | Elapse: 120.11s\n",
                        "Epoch 2 [760/761] | Train Loss: 0.3588 Grad: 54824.4141 LR: 9.8653e-05 | Elapse: 121.72s\n"
                    ]
                },
                {
                    "data": {
                        "application/vnd.jupyter.widget-view+json": {
                            "model_id": "7af221cee6fc49ae95c5d435f596ef20",
                            "version_major": 2,
                            "version_minor": 0
                        },
                        "text/plain": [
                            "Valid [1]:   0%|          | 0/195 [00:00<?, ?batch/s]"
                        ]
                    },
                    "metadata": {},
                    "output_type": "display_data"
                },
                {
                    "name": "stdout",
                    "output_type": "stream",
                    "text": [
                        "Epoch 2 [0/195] | Valid Loss: 0.2562 | Elapse: 0.08s\n",
                        "Epoch 2 [50/195] | Valid Loss: 0.3920 | Elapse: 3.26s\n",
                        "Epoch 2 [100/195] | Valid Loss: 0.2891 | Elapse: 6.42s\n",
                        "Epoch 2 [150/195] | Valid Loss: 0.7846 | Elapse: 9.60s\n"
                    ]
                },
                {
                    "name": "stderr",
                    "output_type": "stream",
                    "text": [
                        "----------------------------------------------------------------------------------------------------\n",
                        "Epoch 2 - Average Loss: (train) 0.3894; (valid) 0.4327 | Time: 134.11s\n",
                        "Best model found in epoch 2 | valid loss: 0.4327\n"
                    ]
                },
                {
                    "name": "stdout",
                    "output_type": "stream",
                    "text": [
                        "Epoch 2 [194/195] | Valid Loss: 0.5419 | Elapse: 12.39s\n"
                    ]
                },
                {
                    "data": {
                        "application/vnd.jupyter.widget-view+json": {
                            "model_id": "9e666737c4c34dba991517a889a5ce2d",
                            "version_major": 2,
                            "version_minor": 0
                        },
                        "text/plain": [
                            "Train [2]:   0%|          | 0/761 [00:00<?, ?batch/s]"
                        ]
                    },
                    "metadata": {},
                    "output_type": "display_data"
                },
                {
                    "name": "stdout",
                    "output_type": "stream",
                    "text": [
                        "Epoch 3 [0/761] | Train Loss: 0.3092 Grad: 137707.3438 LR: 9.8653e-05 | Elapse: 0.17s\n",
                        "Epoch 3 [50/761] | Train Loss: 0.3143 Grad: 66361.3516 LR: 9.8424e-05 | Elapse: 8.14s\n",
                        "Epoch 3 [100/761] | Train Loss: 0.2902 Grad: 74420.1094 LR: 9.8177e-05 | Elapse: 16.11s\n",
                        "Epoch 3 [150/761] | Train Loss: 0.3374 Grad: 79869.5547 LR: 9.7912e-05 | Elapse: 24.14s\n",
                        "Epoch 3 [200/761] | Train Loss: 0.4383 Grad: 111184.6719 LR: 9.7630e-05 | Elapse: 32.17s\n",
                        "Epoch 3 [250/761] | Train Loss: 0.3888 Grad: 52034.6602 LR: 9.7331e-05 | Elapse: 40.22s\n",
                        "Epoch 3 [300/761] | Train Loss: 0.4264 Grad: 36639.7852 LR: 9.7015e-05 | Elapse: 48.22s\n",
                        "Epoch 3 [350/761] | Train Loss: 0.3007 Grad: 34953.4961 LR: 9.6681e-05 | Elapse: 56.22s\n",
                        "Epoch 3 [400/761] | Train Loss: 0.4370 Grad: 61897.3242 LR: 9.6330e-05 | Elapse: 64.21s\n",
                        "Epoch 3 [450/761] | Train Loss: 0.5025 Grad: 55901.7188 LR: 9.5962e-05 | Elapse: 72.18s\n",
                        "Epoch 3 [500/761] | Train Loss: 0.3093 Grad: 55499.4531 LR: 9.5578e-05 | Elapse: 80.14s\n",
                        "Epoch 3 [550/761] | Train Loss: 0.1036 Grad: 18246.0586 LR: 9.5177e-05 | Elapse: 88.11s\n",
                        "Epoch 3 [600/761] | Train Loss: 0.2525 Grad: 36577.8086 LR: 9.4759e-05 | Elapse: 96.09s\n",
                        "Epoch 3 [650/761] | Train Loss: 0.1848 Grad: 31733.4102 LR: 9.4325e-05 | Elapse: 104.06s\n",
                        "Epoch 3 [700/761] | Train Loss: 0.1912 Grad: 35910.0078 LR: 9.3875e-05 | Elapse: 112.05s\n",
                        "Epoch 3 [750/761] | Train Loss: 0.2444 Grad: 29929.5195 LR: 9.3409e-05 | Elapse: 120.05s\n",
                        "Epoch 3 [760/761] | Train Loss: 0.3278 Grad: 44106.2695 LR: 9.3313e-05 | Elapse: 121.65s\n"
                    ]
                },
                {
                    "data": {
                        "application/vnd.jupyter.widget-view+json": {
                            "model_id": "36c206aaa9e3436abfc9923cd2ff0140",
                            "version_major": 2,
                            "version_minor": 0
                        },
                        "text/plain": [
                            "Valid [2]:   0%|          | 0/195 [00:00<?, ?batch/s]"
                        ]
                    },
                    "metadata": {},
                    "output_type": "display_data"
                },
                {
                    "name": "stdout",
                    "output_type": "stream",
                    "text": [
                        "Epoch 3 [0/195] | Valid Loss: 0.2574 | Elapse: 0.07s\n",
                        "Epoch 3 [50/195] | Valid Loss: 0.4220 | Elapse: 3.22s\n",
                        "Epoch 3 [100/195] | Valid Loss: 0.2807 | Elapse: 6.37s\n",
                        "Epoch 3 [150/195] | Valid Loss: 0.7944 | Elapse: 9.55s\n"
                    ]
                },
                {
                    "name": "stderr",
                    "output_type": "stream",
                    "text": [
                        "----------------------------------------------------------------------------------------------------\n",
                        "Epoch 3 - Average Loss: (train) 0.3088; (valid) 0.4029 | Time: 134.01s\n",
                        "Best model found in epoch 3 | valid loss: 0.4029\n"
                    ]
                },
                {
                    "name": "stdout",
                    "output_type": "stream",
                    "text": [
                        "Epoch 3 [194/195] | Valid Loss: 0.5549 | Elapse: 12.35s\n"
                    ]
                },
                {
                    "data": {
                        "application/vnd.jupyter.widget-view+json": {
                            "model_id": "01ade9a83dba492e83b27439c0fb550e",
                            "version_major": 2,
                            "version_minor": 0
                        },
                        "text/plain": [
                            "Train [3]:   0%|          | 0/761 [00:00<?, ?batch/s]"
                        ]
                    },
                    "metadata": {},
                    "output_type": "display_data"
                },
                {
                    "name": "stdout",
                    "output_type": "stream",
                    "text": [
                        "Epoch 4 [0/761] | Train Loss: 0.3263 Grad: 154274.4219 LR: 9.3313e-05 | Elapse: 0.17s\n",
                        "Epoch 4 [50/761] | Train Loss: 0.2231 Grad: 39355.6641 LR: 9.2828e-05 | Elapse: 8.13s\n",
                        "Epoch 4 [100/761] | Train Loss: 0.2764 Grad: 41452.6367 LR: 9.2328e-05 | Elapse: 16.10s\n",
                        "Epoch 4 [150/761] | Train Loss: 0.2856 Grad: 36168.7461 LR: 9.1811e-05 | Elapse: 24.10s\n",
                        "Epoch 4 [200/761] | Train Loss: 0.3597 Grad: 56421.5977 LR: 9.1280e-05 | Elapse: 32.10s\n",
                        "Epoch 4 [250/761] | Train Loss: 0.2745 Grad: 35638.7500 LR: 9.0733e-05 | Elapse: 40.10s\n",
                        "Epoch 4 [300/761] | Train Loss: 0.2771 Grad: 33959.0312 LR: 9.0172e-05 | Elapse: 48.11s\n",
                        "Epoch 4 [350/761] | Train Loss: 0.2662 Grad: 47395.1289 LR: 8.9595e-05 | Elapse: 56.09s\n",
                        "Epoch 4 [400/761] | Train Loss: 0.3395 Grad: 55951.1914 LR: 8.9005e-05 | Elapse: 64.08s\n",
                        "Epoch 4 [450/761] | Train Loss: 0.4073 Grad: 86195.2656 LR: 8.8400e-05 | Elapse: 72.08s\n",
                        "Epoch 4 [500/761] | Train Loss: 0.1607 Grad: 33418.0430 LR: 8.7781e-05 | Elapse: 80.06s\n",
                        "Epoch 4 [550/761] | Train Loss: 0.1294 Grad: 26199.9297 LR: 8.7149e-05 | Elapse: 88.03s\n",
                        "Epoch 4 [600/761] | Train Loss: 0.2381 Grad: 43933.4297 LR: 8.6502e-05 | Elapse: 96.04s\n",
                        "Epoch 4 [650/761] | Train Loss: 0.1747 Grad: 46726.5273 LR: 8.5843e-05 | Elapse: 104.04s\n",
                        "Epoch 4 [700/761] | Train Loss: 0.2172 Grad: 49165.2109 LR: 8.5170e-05 | Elapse: 112.08s\n",
                        "Epoch 4 [750/761] | Train Loss: 0.2602 Grad: 31169.0371 LR: 8.4485e-05 | Elapse: 120.11s\n",
                        "Epoch 4 [760/761] | Train Loss: 0.3288 Grad: 54601.7305 LR: 8.4346e-05 | Elapse: 121.71s\n"
                    ]
                },
                {
                    "data": {
                        "application/vnd.jupyter.widget-view+json": {
                            "model_id": "c69358a2e6834e5288b501b53e23a1ed",
                            "version_major": 2,
                            "version_minor": 0
                        },
                        "text/plain": [
                            "Valid [3]:   0%|          | 0/195 [00:00<?, ?batch/s]"
                        ]
                    },
                    "metadata": {},
                    "output_type": "display_data"
                },
                {
                    "name": "stdout",
                    "output_type": "stream",
                    "text": [
                        "Epoch 4 [0/195] | Valid Loss: 0.1610 | Elapse: 0.07s\n",
                        "Epoch 4 [50/195] | Valid Loss: 0.5091 | Elapse: 3.22s\n",
                        "Epoch 4 [100/195] | Valid Loss: 0.2806 | Elapse: 6.38s\n",
                        "Epoch 4 [150/195] | Valid Loss: 0.8531 | Elapse: 9.56s\n"
                    ]
                },
                {
                    "name": "stderr",
                    "output_type": "stream",
                    "text": [
                        "----------------------------------------------------------------------------------------------------\n",
                        "Epoch 4 - Average Loss: (train) 0.2540; (valid) 0.3659 | Time: 134.06s\n",
                        "Best model found in epoch 4 | valid loss: 0.3659\n"
                    ]
                },
                {
                    "name": "stdout",
                    "output_type": "stream",
                    "text": [
                        "Epoch 4 [194/195] | Valid Loss: 0.4624 | Elapse: 12.35s\n"
                    ]
                },
                {
                    "data": {
                        "application/vnd.jupyter.widget-view+json": {
                            "model_id": "1d4528402b574f52b6d40706f7979dc5",
                            "version_major": 2,
                            "version_minor": 0
                        },
                        "text/plain": [
                            "Train [4]:   0%|          | 0/761 [00:00<?, ?batch/s]"
                        ]
                    },
                    "metadata": {},
                    "output_type": "display_data"
                },
                {
                    "name": "stdout",
                    "output_type": "stream",
                    "text": [
                        "Epoch 5 [0/761] | Train Loss: 0.2233 Grad: 169310.9375 LR: 8.4346e-05 | Elapse: 0.16s\n",
                        "Epoch 5 [50/761] | Train Loss: 0.1874 Grad: 75910.9453 LR: 8.3646e-05 | Elapse: 8.14s\n",
                        "Epoch 5 [100/761] | Train Loss: 0.2013 Grad: 57235.7266 LR: 8.2933e-05 | Elapse: 16.14s\n",
                        "Epoch 5 [150/761] | Train Loss: 0.2223 Grad: 41716.1289 LR: 8.2208e-05 | Elapse: 24.15s\n",
                        "Epoch 5 [200/761] | Train Loss: 0.2276 Grad: 43367.1953 LR: 8.1471e-05 | Elapse: 32.15s\n",
                        "Epoch 5 [250/761] | Train Loss: 0.2834 Grad: 53768.7656 LR: 8.0723e-05 | Elapse: 40.15s\n",
                        "Epoch 5 [300/761] | Train Loss: 0.3121 Grad: 61204.3398 LR: 7.9964e-05 | Elapse: 48.17s\n",
                        "Epoch 5 [350/761] | Train Loss: 0.2661 Grad: 80397.0234 LR: 7.9194e-05 | Elapse: 56.17s\n",
                        "Epoch 5 [400/761] | Train Loss: 0.2619 Grad: 60874.5000 LR: 7.8413e-05 | Elapse: 64.17s\n",
                        "Epoch 5 [450/761] | Train Loss: 0.2964 Grad: 61724.9727 LR: 7.7622e-05 | Elapse: 72.16s\n",
                        "Epoch 5 [500/761] | Train Loss: 0.1576 Grad: 51047.5430 LR: 7.6820e-05 | Elapse: 80.18s\n",
                        "Epoch 5 [550/761] | Train Loss: 0.0834 Grad: 15779.3633 LR: 7.6009e-05 | Elapse: 88.22s\n",
                        "Epoch 5 [600/761] | Train Loss: 0.2592 Grad: 42797.6836 LR: 7.5188e-05 | Elapse: 96.23s\n",
                        "Epoch 5 [650/761] | Train Loss: 0.0980 Grad: 38819.1133 LR: 7.4359e-05 | Elapse: 104.23s\n",
                        "Epoch 5 [700/761] | Train Loss: 0.1616 Grad: 27466.6836 LR: 7.3520e-05 | Elapse: 112.25s\n",
                        "Epoch 5 [750/761] | Train Loss: 0.1449 Grad: 25206.6562 LR: 7.2673e-05 | Elapse: 120.32s\n",
                        "Epoch 5 [760/761] | Train Loss: 0.2867 Grad: 54749.0039 LR: 7.2502e-05 | Elapse: 121.95s\n"
                    ]
                },
                {
                    "data": {
                        "application/vnd.jupyter.widget-view+json": {
                            "model_id": "efad8f8589164005b3b763ebec7b080b",
                            "version_major": 2,
                            "version_minor": 0
                        },
                        "text/plain": [
                            "Valid [4]:   0%|          | 0/195 [00:00<?, ?batch/s]"
                        ]
                    },
                    "metadata": {},
                    "output_type": "display_data"
                },
                {
                    "name": "stdout",
                    "output_type": "stream",
                    "text": [
                        "Epoch 5 [0/195] | Valid Loss: 0.1585 | Elapse: 0.07s\n",
                        "Epoch 5 [50/195] | Valid Loss: 0.4902 | Elapse: 3.27s\n",
                        "Epoch 5 [100/195] | Valid Loss: 0.3261 | Elapse: 6.47s\n",
                        "Epoch 5 [150/195] | Valid Loss: 0.7683 | Elapse: 9.70s\n"
                    ]
                },
                {
                    "name": "stderr",
                    "output_type": "stream",
                    "text": [
                        "----------------------------------------------------------------------------------------------------\n",
                        "Epoch 5 - Average Loss: (train) 0.2140; (valid) 0.3453 | Time: 134.49s\n",
                        "Best model found in epoch 5 | valid loss: 0.3453\n"
                    ]
                },
                {
                    "name": "stdout",
                    "output_type": "stream",
                    "text": [
                        "Epoch 5 [194/195] | Valid Loss: 0.4393 | Elapse: 12.53s\n"
                    ]
                },
                {
                    "data": {
                        "application/vnd.jupyter.widget-view+json": {
                            "model_id": "80259a07da26460fbbcbcbb18689367b",
                            "version_major": 2,
                            "version_minor": 0
                        },
                        "text/plain": [
                            "Train [5]:   0%|          | 0/761 [00:00<?, ?batch/s]"
                        ]
                    },
                    "metadata": {},
                    "output_type": "display_data"
                },
                {
                    "name": "stdout",
                    "output_type": "stream",
                    "text": [
                        "Epoch 6 [0/761] | Train Loss: 0.2817 Grad: inf LR: 7.2502e-05 | Elapse: 0.16s\n",
                        "Epoch 6 [50/761] | Train Loss: 0.1255 Grad: 53707.0039 LR: 7.1645e-05 | Elapse: 8.15s\n",
                        "Epoch 6 [100/761] | Train Loss: 0.1918 Grad: 74881.8359 LR: 7.0780e-05 | Elapse: 16.16s\n",
                        "Epoch 6 [150/761] | Train Loss: 0.2268 Grad: 40853.8555 LR: 6.9907e-05 | Elapse: 24.17s\n",
                        "Epoch 6 [200/761] | Train Loss: 0.1959 Grad: 40929.9766 LR: 6.9027e-05 | Elapse: 32.19s\n",
                        "Epoch 6 [250/761] | Train Loss: 0.1520 Grad: 45302.8125 LR: 6.8140e-05 | Elapse: 40.25s\n",
                        "Epoch 6 [300/761] | Train Loss: 0.1996 Grad: 51936.8984 LR: 6.7247e-05 | Elapse: 48.28s\n",
                        "Epoch 6 [350/761] | Train Loss: 0.1982 Grad: 49913.7812 LR: 6.6347e-05 | Elapse: 56.31s\n",
                        "Epoch 6 [400/761] | Train Loss: 0.1215 Grad: 26623.1914 LR: 6.5441e-05 | Elapse: 64.36s\n",
                        "Epoch 6 [450/761] | Train Loss: 0.2523 Grad: 55087.7969 LR: 6.4530e-05 | Elapse: 72.40s\n",
                        "Epoch 6 [500/761] | Train Loss: 0.1846 Grad: 66764.4297 LR: 6.3613e-05 | Elapse: 80.44s\n",
                        "Epoch 6 [550/761] | Train Loss: 0.1012 Grad: 24764.9102 LR: 6.2692e-05 | Elapse: 88.49s\n",
                        "Epoch 6 [600/761] | Train Loss: 0.2341 Grad: 49807.3359 LR: 6.1765e-05 | Elapse: 96.51s\n",
                        "Epoch 6 [650/761] | Train Loss: 0.1069 Grad: 42425.5156 LR: 6.0835e-05 | Elapse: 104.53s\n",
                        "Epoch 6 [700/761] | Train Loss: 0.1057 Grad: 30017.5098 LR: 5.9900e-05 | Elapse: 112.56s\n",
                        "Epoch 6 [750/761] | Train Loss: 0.2779 Grad: 53349.3867 LR: 5.8962e-05 | Elapse: 120.61s\n",
                        "Epoch 6 [760/761] | Train Loss: 0.3316 Grad: 50473.6016 LR: 5.8774e-05 | Elapse: 122.21s\n"
                    ]
                },
                {
                    "data": {
                        "application/vnd.jupyter.widget-view+json": {
                            "model_id": "d1bf483e51504243810ff2768bab6f8a",
                            "version_major": 2,
                            "version_minor": 0
                        },
                        "text/plain": [
                            "Valid [5]:   0%|          | 0/195 [00:00<?, ?batch/s]"
                        ]
                    },
                    "metadata": {},
                    "output_type": "display_data"
                },
                {
                    "name": "stdout",
                    "output_type": "stream",
                    "text": [
                        "Epoch 6 [0/195] | Valid Loss: 0.2082 | Elapse: 0.08s\n",
                        "Epoch 6 [50/195] | Valid Loss: 0.5349 | Elapse: 3.31s\n",
                        "Epoch 6 [100/195] | Valid Loss: 0.3452 | Elapse: 6.50s\n",
                        "Epoch 6 [150/195] | Valid Loss: 0.7416 | Elapse: 9.71s\n"
                    ]
                },
                {
                    "name": "stderr",
                    "output_type": "stream",
                    "text": [
                        "----------------------------------------------------------------------------------------------------\n",
                        "Epoch 6 - Average Loss: (train) 0.1805; (valid) 0.3401 | Time: 134.75s\n",
                        "Best model found in epoch 6 | valid loss: 0.3401\n"
                    ]
                },
                {
                    "name": "stdout",
                    "output_type": "stream",
                    "text": [
                        "Epoch 6 [194/195] | Valid Loss: 0.4211 | Elapse: 12.54s\n"
                    ]
                },
                {
                    "name": "stderr",
                    "output_type": "stream",
                    "text": [
                        "====================================================================================================\n",
                        "Fold 4 Valid Loss: (Easy) 0.7568 | (Hard) 0.5740\n",
                        "Elapse: 13.43 min \n",
                        "====================================================================================================\n",
                        "- Second Stage \n",
                        "Use Checkpoint: ENet_b2_xymask_rebalance_fold_4_stage_1.pth\n"
                    ]
                },
                {
                    "data": {
                        "application/vnd.jupyter.widget-view+json": {
                            "model_id": "7627930be530421aa236825c76d39212",
                            "version_major": 2,
                            "version_minor": 0
                        },
                        "text/plain": [
                            "Train [0]:   0%|          | 0/480 [00:00<?, ?batch/s]"
                        ]
                    },
                    "metadata": {},
                    "output_type": "display_data"
                },
                {
                    "name": "stdout",
                    "output_type": "stream",
                    "text": [
                        "Epoch 1 [0/480] | Train Loss: 0.5251 Grad: inf LR: 4.0000e-06 | Elapse: 0.16s\n",
                        "Epoch 1 [50/480] | Train Loss: 0.3294 Grad: 60376.1211 LR: 5.7861e-06 | Elapse: 8.19s\n",
                        "Epoch 1 [100/480] | Train Loss: 0.4183 Grad: 75808.1797 LR: 1.1012e-05 | Elapse: 16.22s\n",
                        "Epoch 1 [150/480] | Train Loss: 0.3207 Grad: 44228.6211 LR: 1.9288e-05 | Elapse: 24.26s\n",
                        "Epoch 1 [200/480] | Train Loss: 0.1700 Grad: 34545.7812 LR: 2.9998e-05 | Elapse: 32.29s\n",
                        "Epoch 1 [250/480] | Train Loss: 0.3701 Grad: 47142.5508 LR: 4.2346e-05 | Elapse: 40.31s\n",
                        "Epoch 1 [300/480] | Train Loss: 0.2847 Grad: 29020.1387 LR: 5.5412e-05 | Elapse: 48.33s\n",
                        "Epoch 1 [350/480] | Train Loss: 0.1826 Grad: 28147.9336 LR: 6.8225e-05 | Elapse: 56.36s\n",
                        "Epoch 1 [400/480] | Train Loss: 0.7616 Grad: 58568.9180 LR: 7.9830e-05 | Elapse: 64.38s\n",
                        "Epoch 1 [450/480] | Train Loss: 0.0802 Grad: 9679.6426 LR: 8.9364e-05 | Elapse: 72.46s\n",
                        "Epoch 1 [479/480] | Train Loss: 1.2577 Grad: 106389.8438 LR: 9.3786e-05 | Elapse: 77.12s\n"
                    ]
                },
                {
                    "data": {
                        "application/vnd.jupyter.widget-view+json": {
                            "model_id": "880eadd9f9fb4828b135b02e70eb1afe",
                            "version_major": 2,
                            "version_minor": 0
                        },
                        "text/plain": [
                            "Valid [0]:   0%|          | 0/195 [00:00<?, ?batch/s]"
                        ]
                    },
                    "metadata": {},
                    "output_type": "display_data"
                },
                {
                    "name": "stdout",
                    "output_type": "stream",
                    "text": [
                        "Epoch 1 [0/195] | Valid Loss: 0.5679 | Elapse: 0.07s\n",
                        "Epoch 1 [50/195] | Valid Loss: 0.5800 | Elapse: 3.27s\n",
                        "Epoch 1 [100/195] | Valid Loss: 0.6340 | Elapse: 6.47s\n",
                        "Epoch 1 [150/195] | Valid Loss: 0.8748 | Elapse: 9.70s\n"
                    ]
                },
                {
                    "name": "stderr",
                    "output_type": "stream",
                    "text": [
                        "----------------------------------------------------------------------------------------------------\n",
                        "Epoch 1 - Average Loss: (train) 0.3729; (valid) 0.6146 | Time: 89.65s\n",
                        "Best model found in epoch 1 | valid loss: 0.6146\n"
                    ]
                },
                {
                    "name": "stdout",
                    "output_type": "stream",
                    "text": [
                        "Epoch 1 [194/195] | Valid Loss: 0.7342 | Elapse: 12.53s\n"
                    ]
                },
                {
                    "data": {
                        "application/vnd.jupyter.widget-view+json": {
                            "model_id": "904d0e5f698e48fe9f963b3ff0bb8003",
                            "version_major": 2,
                            "version_minor": 0
                        },
                        "text/plain": [
                            "Train [1]:   0%|          | 0/480 [00:00<?, ?batch/s]"
                        ]
                    },
                    "metadata": {},
                    "output_type": "display_data"
                },
                {
                    "name": "stdout",
                    "output_type": "stream",
                    "text": [
                        "Epoch 2 [0/480] | Train Loss: 0.6750 Grad: 176255.7500 LR: 9.3786e-05 | Elapse: 0.16s\n",
                        "Epoch 2 [50/480] | Train Loss: 0.2564 Grad: 119718.1328 LR: 9.8615e-05 | Elapse: 8.17s\n",
                        "Epoch 2 [100/480] | Train Loss: 0.2098 Grad: 88303.6562 LR: 1.0000e-04 | Elapse: 16.18s\n",
                        "Epoch 2 [150/480] | Train Loss: 0.1856 Grad: 73128.1797 LR: 9.9971e-05 | Elapse: 24.23s\n",
                        "Epoch 2 [200/480] | Train Loss: 0.2167 Grad: 79273.2031 LR: 9.9897e-05 | Elapse: 32.33s\n",
                        "Epoch 2 [250/480] | Train Loss: 0.2956 Grad: 90871.3281 LR: 9.9777e-05 | Elapse: 40.37s\n",
                        "Epoch 2 [300/480] | Train Loss: 0.2419 Grad: 86359.8438 LR: 9.9611e-05 | Elapse: 48.39s\n",
                        "Epoch 2 [350/480] | Train Loss: 0.1546 Grad: 72202.4609 LR: 9.9400e-05 | Elapse: 56.41s\n",
                        "Epoch 2 [400/480] | Train Loss: 0.6594 Grad: 71882.3906 LR: 9.9143e-05 | Elapse: 64.42s\n",
                        "Epoch 2 [450/480] | Train Loss: 0.0626 Grad: 16824.4590 LR: 9.8841e-05 | Elapse: 72.47s\n",
                        "Epoch 2 [479/480] | Train Loss: 1.4710 Grad: 129581.3281 LR: 9.8639e-05 | Elapse: 77.15s\n"
                    ]
                },
                {
                    "data": {
                        "application/vnd.jupyter.widget-view+json": {
                            "model_id": "a77f431a4eca44808cdfa02676e9c04f",
                            "version_major": 2,
                            "version_minor": 0
                        },
                        "text/plain": [
                            "Valid [1]:   0%|          | 0/195 [00:00<?, ?batch/s]"
                        ]
                    },
                    "metadata": {},
                    "output_type": "display_data"
                },
                {
                    "name": "stdout",
                    "output_type": "stream",
                    "text": [
                        "Epoch 2 [0/195] | Valid Loss: 0.5736 | Elapse: 0.07s\n",
                        "Epoch 2 [50/195] | Valid Loss: 0.7695 | Elapse: 3.35s\n",
                        "Epoch 2 [100/195] | Valid Loss: 0.6984 | Elapse: 6.55s\n",
                        "Epoch 2 [150/195] | Valid Loss: 0.9564 | Elapse: 9.78s\n"
                    ]
                },
                {
                    "name": "stderr",
                    "output_type": "stream",
                    "text": [
                        "----------------------------------------------------------------------------------------------------\n",
                        "Epoch 2 - Average Loss: (train) 0.3004; (valid) 0.7340 | Time: 89.76s\n"
                    ]
                },
                {
                    "name": "stdout",
                    "output_type": "stream",
                    "text": [
                        "Epoch 2 [194/195] | Valid Loss: 1.1729 | Elapse: 12.61s\n"
                    ]
                },
                {
                    "data": {
                        "application/vnd.jupyter.widget-view+json": {
                            "model_id": "a48af9db787c46b8b946897d117e30c3",
                            "version_major": 2,
                            "version_minor": 0
                        },
                        "text/plain": [
                            "Train [2]:   0%|          | 0/480 [00:00<?, ?batch/s]"
                        ]
                    },
                    "metadata": {},
                    "output_type": "display_data"
                },
                {
                    "name": "stdout",
                    "output_type": "stream",
                    "text": [
                        "Epoch 3 [0/480] | Train Loss: 0.8306 Grad: 222422.8594 LR: 9.8639e-05 | Elapse: 0.16s\n",
                        "Epoch 3 [50/480] | Train Loss: 0.2076 Grad: 31395.6055 LR: 9.8265e-05 | Elapse: 8.20s\n",
                        "Epoch 3 [100/480] | Train Loss: 0.2056 Grad: 36029.2812 LR: 9.7848e-05 | Elapse: 16.21s\n",
                        "Epoch 3 [150/480] | Train Loss: 0.2028 Grad: 31927.5762 LR: 9.7386e-05 | Elapse: 24.24s\n",
                        "Epoch 3 [200/480] | Train Loss: 0.1734 Grad: 31142.4531 LR: 9.6881e-05 | Elapse: 32.27s\n",
                        "Epoch 3 [250/480] | Train Loss: 0.2546 Grad: 39727.9727 LR: 9.6333e-05 | Elapse: 40.29s\n",
                        "Epoch 3 [300/480] | Train Loss: 0.2408 Grad: 44945.7930 LR: 9.5743e-05 | Elapse: 48.29s\n",
                        "Epoch 3 [350/480] | Train Loss: 0.1390 Grad: 31981.4551 LR: 9.5110e-05 | Elapse: 56.31s\n",
                        "Epoch 3 [400/480] | Train Loss: 0.6007 Grad: 82858.8984 LR: 9.4436e-05 | Elapse: 64.33s\n",
                        "Epoch 3 [450/480] | Train Loss: 0.0758 Grad: 15142.6445 LR: 9.3722e-05 | Elapse: 72.34s\n",
                        "Epoch 3 [479/480] | Train Loss: 1.5674 Grad: 105764.4453 LR: 9.3274e-05 | Elapse: 77.00s\n"
                    ]
                },
                {
                    "data": {
                        "application/vnd.jupyter.widget-view+json": {
                            "model_id": "01b7dbca2b8545869402fb2daf4be487",
                            "version_major": 2,
                            "version_minor": 0
                        },
                        "text/plain": [
                            "Valid [2]:   0%|          | 0/195 [00:00<?, ?batch/s]"
                        ]
                    },
                    "metadata": {},
                    "output_type": "display_data"
                },
                {
                    "name": "stdout",
                    "output_type": "stream",
                    "text": [
                        "Epoch 3 [0/195] | Valid Loss: 0.6203 | Elapse: 0.07s\n",
                        "Epoch 3 [50/195] | Valid Loss: 0.7840 | Elapse: 3.26s\n",
                        "Epoch 3 [100/195] | Valid Loss: 0.7267 | Elapse: 6.46s\n",
                        "Epoch 3 [150/195] | Valid Loss: 0.9759 | Elapse: 9.67s\n"
                    ]
                },
                {
                    "name": "stderr",
                    "output_type": "stream",
                    "text": [
                        "----------------------------------------------------------------------------------------------------\n",
                        "Epoch 3 - Average Loss: (train) 0.2808; (valid) 0.7636 | Time: 89.50s\n"
                    ]
                },
                {
                    "name": "stdout",
                    "output_type": "stream",
                    "text": [
                        "Epoch 3 [194/195] | Valid Loss: 1.1969 | Elapse: 12.49s\n"
                    ]
                },
                {
                    "data": {
                        "application/vnd.jupyter.widget-view+json": {
                            "model_id": "0367e1481f6c4735bc1307812bc99e03",
                            "version_major": 2,
                            "version_minor": 0
                        },
                        "text/plain": [
                            "Train [3]:   0%|          | 0/480 [00:00<?, ?batch/s]"
                        ]
                    },
                    "metadata": {},
                    "output_type": "display_data"
                },
                {
                    "name": "stdout",
                    "output_type": "stream",
                    "text": [
                        "Epoch 4 [0/480] | Train Loss: 0.7062 Grad: nan LR: 9.3274e-05 | Elapse: 0.16s\n",
                        "Epoch 4 [50/480] | Train Loss: 0.1569 Grad: 30512.5352 LR: 9.2495e-05 | Elapse: 8.15s\n",
                        "Epoch 4 [100/480] | Train Loss: 0.1791 Grad: 32383.0879 LR: 9.1678e-05 | Elapse: 16.17s\n",
                        "Epoch 4 [150/480] | Train Loss: 0.1615 Grad: 26329.7246 LR: 9.0822e-05 | Elapse: 24.21s\n",
                        "Epoch 4 [200/480] | Train Loss: 0.1703 Grad: 40516.8047 LR: 8.9929e-05 | Elapse: 32.23s\n",
                        "Epoch 4 [250/480] | Train Loss: 0.2354 Grad: 42615.4531 LR: 8.8999e-05 | Elapse: 40.24s\n",
                        "Epoch 4 [300/480] | Train Loss: 0.2178 Grad: 45831.4688 LR: 8.8033e-05 | Elapse: 48.27s\n",
                        "Epoch 4 [350/480] | Train Loss: 0.1109 Grad: 31066.0996 LR: 8.7032e-05 | Elapse: 56.29s\n",
                        "Epoch 4 [400/480] | Train Loss: 0.4447 Grad: 82415.4609 LR: 8.5998e-05 | Elapse: 64.32s\n",
                        "Epoch 4 [450/480] | Train Loss: 0.0858 Grad: 13736.4111 LR: 8.4930e-05 | Elapse: 72.36s\n",
                        "Epoch 4 [479/480] | Train Loss: 1.2276 Grad: 101810.0469 LR: 8.4274e-05 | Elapse: 77.03s\n"
                    ]
                },
                {
                    "data": {
                        "application/vnd.jupyter.widget-view+json": {
                            "model_id": "f0e549007358411583d79a90e9e3b55e",
                            "version_major": 2,
                            "version_minor": 0
                        },
                        "text/plain": [
                            "Valid [3]:   0%|          | 0/195 [00:00<?, ?batch/s]"
                        ]
                    },
                    "metadata": {},
                    "output_type": "display_data"
                },
                {
                    "name": "stdout",
                    "output_type": "stream",
                    "text": [
                        "Epoch 4 [0/195] | Valid Loss: 0.5195 | Elapse: 0.07s\n",
                        "Epoch 4 [50/195] | Valid Loss: 0.6840 | Elapse: 3.27s\n",
                        "Epoch 4 [100/195] | Valid Loss: 0.6526 | Elapse: 6.47s\n",
                        "Epoch 4 [150/195] | Valid Loss: 0.9464 | Elapse: 9.69s\n"
                    ]
                },
                {
                    "name": "stderr",
                    "output_type": "stream",
                    "text": [
                        "----------------------------------------------------------------------------------------------------\n",
                        "Epoch 4 - Average Loss: (train) 0.2514; (valid) 0.6829 | Time: 89.56s\n"
                    ]
                },
                {
                    "name": "stdout",
                    "output_type": "stream",
                    "text": [
                        "Epoch 4 [194/195] | Valid Loss: 1.1006 | Elapse: 12.52s\n"
                    ]
                },
                {
                    "data": {
                        "application/vnd.jupyter.widget-view+json": {
                            "model_id": "b9a7a5c8ec0d4cc491c6bbd59a5b3da2",
                            "version_major": 2,
                            "version_minor": 0
                        },
                        "text/plain": [
                            "Train [4]:   0%|          | 0/480 [00:00<?, ?batch/s]"
                        ]
                    },
                    "metadata": {},
                    "output_type": "display_data"
                },
                {
                    "name": "stdout",
                    "output_type": "stream",
                    "text": [
                        "Epoch 5 [0/480] | Train Loss: 0.6586 Grad: nan LR: 8.4274e-05 | Elapse: 0.16s\n",
                        "Epoch 5 [50/480] | Train Loss: 0.1200 Grad: 14147.8672 LR: 8.3156e-05 | Elapse: 8.18s\n",
                        "Epoch 5 [100/480] | Train Loss: 0.1275 Grad: 11241.4980 LR: 8.2007e-05 | Elapse: 16.19s\n",
                        "Epoch 5 [150/480] | Train Loss: 0.1756 Grad: 19339.1367 LR: 8.0829e-05 | Elapse: 24.22s\n",
                        "Epoch 5 [200/480] | Train Loss: 0.1384 Grad: 14462.7637 LR: 7.9622e-05 | Elapse: 32.25s\n",
                        "Epoch 5 [250/480] | Train Loss: 0.2234 Grad: 19952.5625 LR: 7.8389e-05 | Elapse: 40.27s\n",
                        "Epoch 5 [300/480] | Train Loss: 0.2188 Grad: 24220.5703 LR: 7.7129e-05 | Elapse: 48.30s\n",
                        "Epoch 5 [350/480] | Train Loss: 0.1149 Grad: 15994.3506 LR: 7.5845e-05 | Elapse: 56.32s\n",
                        "Epoch 5 [400/480] | Train Loss: 0.3219 Grad: 36421.4414 LR: 7.4536e-05 | Elapse: 64.33s\n",
                        "Epoch 5 [450/480] | Train Loss: 0.0791 Grad: 6657.8193 LR: 7.3206e-05 | Elapse: 72.35s\n",
                        "Epoch 5 [479/480] | Train Loss: 0.9714 Grad: 104331.8594 LR: 7.2397e-05 | Elapse: 77.01s\n"
                    ]
                },
                {
                    "data": {
                        "application/vnd.jupyter.widget-view+json": {
                            "model_id": "abae714b58e74fc49667f8463e4e0e8e",
                            "version_major": 2,
                            "version_minor": 0
                        },
                        "text/plain": [
                            "Valid [4]:   0%|          | 0/195 [00:00<?, ?batch/s]"
                        ]
                    },
                    "metadata": {},
                    "output_type": "display_data"
                },
                {
                    "name": "stdout",
                    "output_type": "stream",
                    "text": [
                        "Epoch 5 [0/195] | Valid Loss: 0.4815 | Elapse: 0.07s\n",
                        "Epoch 5 [50/195] | Valid Loss: 0.6379 | Elapse: 3.26s\n",
                        "Epoch 5 [100/195] | Valid Loss: 0.6246 | Elapse: 6.46s\n",
                        "Epoch 5 [150/195] | Valid Loss: 0.8851 | Elapse: 9.68s\n"
                    ]
                },
                {
                    "name": "stderr",
                    "output_type": "stream",
                    "text": [
                        "----------------------------------------------------------------------------------------------------\n",
                        "Epoch 5 - Average Loss: (train) 0.2252; (valid) 0.6429 | Time: 89.52s\n"
                    ]
                },
                {
                    "name": "stdout",
                    "output_type": "stream",
                    "text": [
                        "Epoch 5 [194/195] | Valid Loss: 1.0442 | Elapse: 12.50s\n"
                    ]
                },
                {
                    "data": {
                        "application/vnd.jupyter.widget-view+json": {
                            "model_id": "968849c5e28b4695b670dd6e7a65e7d4",
                            "version_major": 2,
                            "version_minor": 0
                        },
                        "text/plain": [
                            "Train [5]:   0%|          | 0/480 [00:00<?, ?batch/s]"
                        ]
                    },
                    "metadata": {},
                    "output_type": "display_data"
                },
                {
                    "name": "stdout",
                    "output_type": "stream",
                    "text": [
                        "Epoch 6 [0/480] | Train Loss: 0.4555 Grad: nan LR: 7.2397e-05 | Elapse: 0.16s\n",
                        "Epoch 6 [50/480] | Train Loss: 0.1064 Grad: 28479.4023 LR: 7.1033e-05 | Elapse: 8.15s\n",
                        "Epoch 6 [100/480] | Train Loss: 0.1323 Grad: 35206.2656 LR: 6.9649e-05 | Elapse: 16.15s\n",
                        "Epoch 6 [150/480] | Train Loss: 0.1378 Grad: 35769.3672 LR: 6.8248e-05 | Elapse: 24.18s\n",
                        "Epoch 6 [200/480] | Train Loss: 0.1036 Grad: 24266.0742 LR: 6.6829e-05 | Elapse: 32.23s\n",
                        "Epoch 6 [250/480] | Train Loss: 0.2178 Grad: 33853.7266 LR: 6.5396e-05 | Elapse: 40.26s\n",
                        "Epoch 6 [300/480] | Train Loss: 0.1894 Grad: 44288.8164 LR: 6.3948e-05 | Elapse: 48.28s\n",
                        "Epoch 6 [350/480] | Train Loss: 0.0929 Grad: 32232.6875 LR: 6.2487e-05 | Elapse: 56.31s\n",
                        "Epoch 6 [400/480] | Train Loss: 0.3841 Grad: 82944.3594 LR: 6.1015e-05 | Elapse: 64.33s\n",
                        "Epoch 6 [450/480] | Train Loss: 0.0850 Grad: 13334.9492 LR: 5.9533e-05 | Elapse: 72.36s\n",
                        "Epoch 6 [479/480] | Train Loss: 0.6993 Grad: 62967.1328 LR: 5.8639e-05 | Elapse: 77.01s\n"
                    ]
                },
                {
                    "data": {
                        "application/vnd.jupyter.widget-view+json": {
                            "model_id": "88c31fbe14b145a3acd8a84221979d12",
                            "version_major": 2,
                            "version_minor": 0
                        },
                        "text/plain": [
                            "Valid [5]:   0%|          | 0/195 [00:00<?, ?batch/s]"
                        ]
                    },
                    "metadata": {},
                    "output_type": "display_data"
                },
                {
                    "name": "stdout",
                    "output_type": "stream",
                    "text": [
                        "Epoch 6 [0/195] | Valid Loss: 0.4391 | Elapse: 0.07s\n",
                        "Epoch 6 [50/195] | Valid Loss: 0.5669 | Elapse: 3.27s\n",
                        "Epoch 6 [100/195] | Valid Loss: 0.5853 | Elapse: 6.46s\n",
                        "Epoch 6 [150/195] | Valid Loss: 0.8747 | Elapse: 9.67s\n"
                    ]
                },
                {
                    "name": "stderr",
                    "output_type": "stream",
                    "text": [
                        "----------------------------------------------------------------------------------------------------\n",
                        "Epoch 6 - Average Loss: (train) 0.1982; (valid) 0.5942 | Time: 89.50s\n",
                        "Best model found in epoch 6 | valid loss: 0.5942\n"
                    ]
                },
                {
                    "name": "stdout",
                    "output_type": "stream",
                    "text": [
                        "Epoch 6 [194/195] | Valid Loss: 0.9153 | Elapse: 12.49s\n"
                    ]
                },
                {
                    "name": "stderr",
                    "output_type": "stream",
                    "text": [
                        "====================================================================================================\n",
                        "Fold 4 Valid Loss: (Easy) 1.1541 | (Hard) 1.2358\n",
                        "Elapse: 8.97 min \n",
                        "====================================================================================================\n",
                        "====================================================================================================\n",
                        "Training Complete!\n",
                        "CV Result (Stage=1): 0.6501944661140442\n",
                        "CV Result (Stage=2): 1.049248218536377\n",
                        "Elapse: 110.83 min \n",
                        "====================================================================================================\n"
                    ]
                }
            ],
            "source": [
                "hms_predictor.train_model(train_easy, train_hard, all_specs, all_eegs)"
            ]
        },
        {
            "cell_type": "code",
            "execution_count": 9,
            "metadata": {},
            "outputs": [],
            "source": [
                "pd.set_option('display.max_columns', None)\n",
                "KL_CRITERION = nn.KLDivLoss(reduction='batchmean')\n",
                "SOFTMAX = nn.Softmax(dim=1)\n",
                "\n",
                "TARGET2ID = {\n",
                "    'Seizure': 0,\n",
                "    'LPD': 1,\n",
                "    'GPD': 2,\n",
                "    'LRDA': 3,\n",
                "    'GRDA': 4,\n",
                "    'Other': 5\n",
                "}\n",
                "\n",
                "from kl_divergence import score as kaggle_score \n",
                "\n",
                "def calc_kaggle_score(oof_df):\n",
                "    submission_df = oof_df[['eeg_id']+TARGETS_PRED].copy()\n",
                "    submission_df.columns = ['eeg_id'] + TARGETS\n",
                "    solution_df = oof_df[['eeg_id']+TARGETS].copy()\n",
                "    return kaggle_score(solution_df, submission_df, 'eeg_id')\n",
                "\n",
                "def analyze_oof(oof_csv):\n",
                "\n",
                "    oof_df = pd.read_csv(oof_csv)\n",
                "    oof_df['target_pred'] = oof_df[TARGETS_PRED].apply(lambda x: np.argmax(x), axis=1)\n",
                "    oof_df['target_id'] = oof_df[TARGETS].apply(lambda x: np.argmax(x), axis=1)\n",
                "    \n",
                "    oof_df[\"kl_loss\"] = oof_df.apply(\n",
                "    lambda row: \n",
                "        KL_CRITERION(\n",
                "            F.log_softmax(\n",
                "                    torch.tensor(row[TARGETS_PRED].astype(np.float32)).unsqueeze(0)\n",
                "                , dim=1\n",
                "                ), \n",
                "            torch.tensor(row[TARGETS].astype(np.float32))\n",
                "            ).numpy(),\n",
                "    axis=1)\n",
                "\n",
                "    oof_df[\"kl_loss\"] = oof_df['kl_loss'].astype(np.float32)\n",
                "\n",
                "    oof_df[TARGETS_PRED] = SOFTMAX( torch.tensor(oof_df[TARGETS_PRED].values.astype(np.float32)))\n",
                "\n",
                "    oof_df.head()\n",
                "\n",
                "    return oof_df"
            ]
        },
        {
            "cell_type": "code",
            "execution_count": 12,
            "metadata": {},
            "outputs": [
                {
                    "name": "stdout",
                    "output_type": "stream",
                    "text": [
                        "CSV Path:  ./outputs/ENet_b2_xymask_rebalance/ENet_b2_xymask_rebalance_oof_2.csv\n",
                        "Kaggle Score:  1.0492485351173886\n",
                        "Average KL Loss:  1.0492486\n"
                    ]
                },
                {
                    "data": {
                        "text/html": [
                            "<div>\n",
                            "<style scoped>\n",
                            "    .dataframe tbody tr th:only-of-type {\n",
                            "        vertical-align: middle;\n",
                            "    }\n",
                            "\n",
                            "    .dataframe tbody tr th {\n",
                            "        vertical-align: top;\n",
                            "    }\n",
                            "\n",
                            "    .dataframe thead th {\n",
                            "        text-align: right;\n",
                            "    }\n",
                            "</style>\n",
                            "<table border=\"1\" class=\"dataframe\">\n",
                            "  <thead>\n",
                            "    <tr style=\"text-align: right;\">\n",
                            "      <th></th>\n",
                            "      <th>eeg_id</th>\n",
                            "      <th>seizure_vote</th>\n",
                            "      <th>lpd_vote</th>\n",
                            "      <th>gpd_vote</th>\n",
                            "      <th>lrda_vote</th>\n",
                            "      <th>grda_vote</th>\n",
                            "      <th>other_vote</th>\n",
                            "      <th>spectrogram_id</th>\n",
                            "      <th>min</th>\n",
                            "      <th>max</th>\n",
                            "      <th>patient_id</th>\n",
                            "      <th>target</th>\n",
                            "      <th>fold</th>\n",
                            "      <th>easy_or_hard</th>\n",
                            "      <th>seizure_pred</th>\n",
                            "      <th>lpd_pred</th>\n",
                            "      <th>gpd_pred</th>\n",
                            "      <th>lrda_pred</th>\n",
                            "      <th>grda_pred</th>\n",
                            "      <th>other_pred</th>\n",
                            "      <th>target_pred</th>\n",
                            "      <th>target_id</th>\n",
                            "      <th>kl_loss</th>\n",
                            "    </tr>\n",
                            "  </thead>\n",
                            "  <tbody>\n",
                            "    <tr>\n",
                            "      <th>0</th>\n",
                            "      <td>642382</td>\n",
                            "      <td>0.0</td>\n",
                            "      <td>0.0</td>\n",
                            "      <td>0.0</td>\n",
                            "      <td>0.0</td>\n",
                            "      <td>0.0</td>\n",
                            "      <td>1.0</td>\n",
                            "      <td>14960202</td>\n",
                            "      <td>1008.0</td>\n",
                            "      <td>1032.0</td>\n",
                            "      <td>5955</td>\n",
                            "      <td>Other</td>\n",
                            "      <td>0</td>\n",
                            "      <td>easy</td>\n",
                            "      <td>0.161081</td>\n",
                            "      <td>0.042829</td>\n",
                            "      <td>0.034509</td>\n",
                            "      <td>0.099984</td>\n",
                            "      <td>0.220525</td>\n",
                            "      <td>0.441073</td>\n",
                            "      <td>5</td>\n",
                            "      <td>5</td>\n",
                            "      <td>0.818546</td>\n",
                            "    </tr>\n",
                            "    <tr>\n",
                            "      <th>1</th>\n",
                            "      <td>751790</td>\n",
                            "      <td>0.0</td>\n",
                            "      <td>0.0</td>\n",
                            "      <td>1.0</td>\n",
                            "      <td>0.0</td>\n",
                            "      <td>0.0</td>\n",
                            "      <td>0.0</td>\n",
                            "      <td>618728447</td>\n",
                            "      <td>908.0</td>\n",
                            "      <td>908.0</td>\n",
                            "      <td>38549</td>\n",
                            "      <td>GPD</td>\n",
                            "      <td>0</td>\n",
                            "      <td>easy</td>\n",
                            "      <td>0.325969</td>\n",
                            "      <td>0.067681</td>\n",
                            "      <td>0.472389</td>\n",
                            "      <td>0.020182</td>\n",
                            "      <td>0.085396</td>\n",
                            "      <td>0.028383</td>\n",
                            "      <td>2</td>\n",
                            "      <td>2</td>\n",
                            "      <td>0.749953</td>\n",
                            "    </tr>\n",
                            "    <tr>\n",
                            "      <th>2</th>\n",
                            "      <td>778705</td>\n",
                            "      <td>0.0</td>\n",
                            "      <td>0.0</td>\n",
                            "      <td>0.0</td>\n",
                            "      <td>0.0</td>\n",
                            "      <td>0.0</td>\n",
                            "      <td>1.0</td>\n",
                            "      <td>52296320</td>\n",
                            "      <td>0.0</td>\n",
                            "      <td>0.0</td>\n",
                            "      <td>40955</td>\n",
                            "      <td>Other</td>\n",
                            "      <td>0</td>\n",
                            "      <td>easy</td>\n",
                            "      <td>0.147572</td>\n",
                            "      <td>0.046473</td>\n",
                            "      <td>0.122398</td>\n",
                            "      <td>0.070027</td>\n",
                            "      <td>0.271748</td>\n",
                            "      <td>0.341783</td>\n",
                            "      <td>5</td>\n",
                            "      <td>5</td>\n",
                            "      <td>1.073580</td>\n",
                            "    </tr>\n",
                            "    <tr>\n",
                            "      <th>3</th>\n",
                            "      <td>1629671</td>\n",
                            "      <td>1.0</td>\n",
                            "      <td>0.0</td>\n",
                            "      <td>0.0</td>\n",
                            "      <td>0.0</td>\n",
                            "      <td>0.0</td>\n",
                            "      <td>0.0</td>\n",
                            "      <td>2036345030</td>\n",
                            "      <td>0.0</td>\n",
                            "      <td>160.0</td>\n",
                            "      <td>37481</td>\n",
                            "      <td>Seizure</td>\n",
                            "      <td>0</td>\n",
                            "      <td>easy</td>\n",
                            "      <td>0.459751</td>\n",
                            "      <td>0.037513</td>\n",
                            "      <td>0.034907</td>\n",
                            "      <td>0.147111</td>\n",
                            "      <td>0.223673</td>\n",
                            "      <td>0.097046</td>\n",
                            "      <td>0</td>\n",
                            "      <td>0</td>\n",
                            "      <td>0.777071</td>\n",
                            "    </tr>\n",
                            "    <tr>\n",
                            "      <th>4</th>\n",
                            "      <td>2061593</td>\n",
                            "      <td>0.0</td>\n",
                            "      <td>0.0</td>\n",
                            "      <td>0.0</td>\n",
                            "      <td>0.0</td>\n",
                            "      <td>0.0</td>\n",
                            "      <td>1.0</td>\n",
                            "      <td>320962633</td>\n",
                            "      <td>1450.0</td>\n",
                            "      <td>1450.0</td>\n",
                            "      <td>23828</td>\n",
                            "      <td>Other</td>\n",
                            "      <td>0</td>\n",
                            "      <td>easy</td>\n",
                            "      <td>0.156780</td>\n",
                            "      <td>0.013970</td>\n",
                            "      <td>0.007885</td>\n",
                            "      <td>0.095101</td>\n",
                            "      <td>0.278646</td>\n",
                            "      <td>0.447618</td>\n",
                            "      <td>5</td>\n",
                            "      <td>5</td>\n",
                            "      <td>0.803814</td>\n",
                            "    </tr>\n",
                            "  </tbody>\n",
                            "</table>\n",
                            "</div>"
                        ],
                        "text/plain": [
                            "    eeg_id  seizure_vote  lpd_vote  gpd_vote  lrda_vote  grda_vote  \\\n",
                            "0   642382           0.0       0.0       0.0        0.0        0.0   \n",
                            "1   751790           0.0       0.0       1.0        0.0        0.0   \n",
                            "2   778705           0.0       0.0       0.0        0.0        0.0   \n",
                            "3  1629671           1.0       0.0       0.0        0.0        0.0   \n",
                            "4  2061593           0.0       0.0       0.0        0.0        0.0   \n",
                            "\n",
                            "   other_vote  spectrogram_id     min     max  patient_id   target  fold  \\\n",
                            "0         1.0        14960202  1008.0  1032.0        5955    Other     0   \n",
                            "1         0.0       618728447   908.0   908.0       38549      GPD     0   \n",
                            "2         1.0        52296320     0.0     0.0       40955    Other     0   \n",
                            "3         0.0      2036345030     0.0   160.0       37481  Seizure     0   \n",
                            "4         1.0       320962633  1450.0  1450.0       23828    Other     0   \n",
                            "\n",
                            "  easy_or_hard  seizure_pred  lpd_pred  gpd_pred  lrda_pred  grda_pred  \\\n",
                            "0         easy      0.161081  0.042829  0.034509   0.099984   0.220525   \n",
                            "1         easy      0.325969  0.067681  0.472389   0.020182   0.085396   \n",
                            "2         easy      0.147572  0.046473  0.122398   0.070027   0.271748   \n",
                            "3         easy      0.459751  0.037513  0.034907   0.147111   0.223673   \n",
                            "4         easy      0.156780  0.013970  0.007885   0.095101   0.278646   \n",
                            "\n",
                            "   other_pred  target_pred  target_id   kl_loss  \n",
                            "0    0.441073            5          5  0.818546  \n",
                            "1    0.028383            2          2  0.749953  \n",
                            "2    0.341783            5          5  1.073580  \n",
                            "3    0.097046            0          0  0.777071  \n",
                            "4    0.447618            5          5  0.803814  "
                        ]
                    },
                    "execution_count": 12,
                    "metadata": {},
                    "output_type": "execute_result"
                }
            ],
            "source": [
                "csv_path = f'./outputs/{ModelConfig.MODEL_NAME}/{ModelConfig.MODEL_NAME}_oof_2.csv'\n",
                "print(\"CSV Path: \", csv_path)\n",
                "\n",
                "oof_df = analyze_oof(csv_path)\n",
                "\n",
                "print(\"Kaggle Score: \", calc_kaggle_score(oof_df))\n",
                "print(\"Average KL Loss: \", oof_df[\"kl_loss\"].mean())\n",
                "\n",
                "oof_df.head()"
            ]
        },
        {
            "cell_type": "code",
            "execution_count": 13,
            "metadata": {},
            "outputs": [
                {
                    "data": {
                        "image/png": "[encoded data removed]",
                        "text/plain": [
                            "<Figure size 600x600 with 2 Axes>"
                        ]
                    },
                    "metadata": {},
                    "output_type": "display_data"
                }
            ],
            "source": [
                "plot_oof = oof_df.copy()\n",
                "\n",
                "# plot confusion matrix\n",
                "from sklearn.metrics import confusion_matrix\n",
                "import seaborn as sns\n",
                "\n",
                "cm = confusion_matrix(plot_oof['target_id'], plot_oof['target_pred']) # (y_true, y_pred)\n",
                "cm = cm / cm.sum(axis=1)[:, np.newaxis]\n",
                "\n",
                "fig = plt.figure(figsize=(6, 6))\n",
                "sns.heatmap(cm, annot=True, cmap='Blues', xticklabels=TARGET2ID.keys(), yticklabels=TARGET2ID.keys())\n",
                "plt.xlabel('Predicted', fontsize=12)\n",
                "plt.ylabel('True', fontsize=12)\n",
                "plt.title(csv_path.split('/')[-1].split('.')[0], fontsize=12)\n",
                "fig.tight_layout()\n",
                "fig.savefig(f\"./outputs/{ModelConfig.MODEL_NAME}/{csv_path.split('/')[-1].split('.')[0]}_CM.png\")\n",
                "plt.show()"
            ]
        },
        {
            "cell_type": "code",
            "execution_count": null,
            "metadata": {},
            "outputs": [],
            "source": [
                "oof_df[\"kl_loss\"].plot(kind='hist', bins=100, title='KL Loss Distribution', figsize=(8, 5))\n",
                "print(oof_df[\"kl_loss\"].mean())\n",
                "plt.show()"
            ]
        },
        {
            "cell_type": "code",
            "execution_count": null,
            "metadata": {},
            "outputs": [],
            "source": [
                "# new figure\n",
                "fig, axes = plt.subplots(6, 5, figsize=(18, 16), sharex=True, sharey=True)\n",
                "\n",
                "plot_oof = oof_df[oof_df['kl_loss'] > 2]\n",
                "\n",
                "for row in range(axes.shape[0]):\n",
                "    row_selects = plot_oof[plot_oof['target_id']==row]\n",
                "    target_label = BRAIN_ACTIVITY[row]\n",
                "    for col in range(axes.shape[1]):\n",
                "        ax = axes[row, col]\n",
                "        idx = np.random.choice(row_selects.index)\n",
                "        df_rows = plot_oof.loc[idx]\n",
                "        ax.plot(df_rows[TARGETS].values , label='True')\n",
                "        ax.plot(df_rows[TARGETS_PRED].values, label='Pred')\n",
                "        ax.set_title(f\"{idx} | KL: {df_rows['kl_loss']:.4f} \") #\n",
                "        ax.set_xticks(range(6))\n",
                "        ax.set_xticklabels(BRAIN_ACTIVITY)\n",
                "        ax.grid(True)\n",
                "        ax.legend()\n",
                "        if col == 0:\n",
                "            ax.set_ylabel(target_label, fontsize=12)\n",
                "       \n",
                "fig.tight_layout()\n",
                "plt.show()"
            ]
        },
        {
            "cell_type": "code",
            "execution_count": null,
            "metadata": {},
            "outputs": [],
            "source": []
        },
        {
            "cell_type": "code",
            "execution_count": null,
            "metadata": {},
            "outputs": [],
            "source": [
                "csv_path = './outputs/ENet_b2_xymasking_remove_less/ENet_b2_xymasking_remove_less_oof_2.csv'\n",
                "\n",
                "oof_df = pd.read_csv(csv_path)\n",
                "\n",
                "oof_df[\"kl_loss\"] = oof_df.apply(\n",
                "    lambda row: \n",
                "        KL_CRITERION(\n",
                "            F.log_softmax(\n",
                "                SOFTMAX(\n",
                "                    torch.tensor(row[TARGETS_PRED].astype(np.float32)).unsqueeze(0)\n",
                "                    )\n",
                "                ), \n",
                "            torch.tensor(row[TARGETS].astype(np.float32))\n",
                "            ).numpy(),\n",
                "    axis=1)\n",
                "\n",
                "oof_df[\"kl_loss\"] = oof_df['kl_loss'].astype(np.float32)\n",
                "\n",
                "# y_pred = oof_df[TARGETS_PRED].values.astype(np.float32)\n",
                "# y_pred_smax = SOFTMAX(torch.tensor(y_pred)).numpy()\n",
                "# oof_df[TARGETS_PRED] = y_pred_smax\n",
                "\n",
                "oof_df['target_pred'] = oof_df[TARGETS_PRED].apply(lambda x: np.argmax(x), axis=1)\n",
                "oof_df['target_id'] = oof_df['target'].map(TARGET2ID)\n",
                "\n",
                "oof_df.head()"
            ]
        },
        {
            "cell_type": "code",
            "execution_count": null,
            "metadata": {},
            "outputs": [],
            "source": [
                "oof_df[\"kl_loss\"].plot(kind='hist', bins=100, title='KL Loss Distribution', figsize=(8, 5))\n",
                "print(oof_df[\"kl_loss\"].mean())\n",
                "plt.show()"
            ]
        },
        {
            "cell_type": "code",
            "execution_count": null,
            "metadata": {},
            "outputs": [],
            "source": [
                "KL_CRITERION(\n",
                "    torch.log(\n",
                "        SOFTMAX(\n",
                "            torch.tensor(oof_df[TARGETS_PRED].values.astype(np.float32))\n",
                "            )\n",
                "        ), \n",
                "    torch.tensor(oof_df[TARGETS].values.astype(np.float32))\n",
                "    ).numpy(),"
            ]
        },
        {
            "cell_type": "code",
            "execution_count": null,
            "metadata": {},
            "outputs": [],
            "source": [
                "plot_oof = oof_df.copy()\n",
                "\n",
                "# plot confusion matrix\n",
                "from sklearn.metrics import confusion_matrix\n",
                "import seaborn as sns\n",
                "\n",
                "cm = confusion_matrix(plot_oof['target_id'], plot_oof['target_pred']) # (y_true, y_pred)\n",
                "cm = cm / cm.sum(axis=1)[:, np.newaxis]\n",
                "\n",
                "fig = plt.figure(figsize=(6, 6))\n",
                "sns.heatmap(cm, annot=True, cmap='Blues', xticklabels=TARGET2ID.keys(), yticklabels=TARGET2ID.keys())\n",
                "plt.xlabel('Predicted', fontsize=12)\n",
                "plt.ylabel('True', fontsize=12)\n",
                "plt.show()"
            ]
        },
        {
            "cell_type": "code",
            "execution_count": null,
            "metadata": {},
            "outputs": [],
            "source": [
                "# new figure\n",
                "fig, axes = plt.subplots(6, 5, figsize=(18, 16), sharex=True, sharey=True)\n",
                "\n",
                "plot_oof = oof_df[oof_df['kl_loss'] > 0.2]\n",
                "\n",
                "for row in range(axes.shape[0]):\n",
                "    row_selects = plot_oof[plot_oof['target_id']==row]\n",
                "    target_label = BRAIN_ACTIVITY[row]\n",
                "    for col in range(axes.shape[1]):\n",
                "        ax = axes[row, col]\n",
                "        idx = np.random.choice(row_selects.index)\n",
                "        df_rows = plot_oof.loc[idx]\n",
                "        ax.plot(df_rows[TARGETS].values , label='True')\n",
                "        ax.plot(df_rows[TARGETS_PRED].values, label='Pred')\n",
                "        ax.set_title(f\"{idx} | KL: {df_rows['kl_loss']:.4f} \") #\n",
                "        ax.set_xticks(range(6))\n",
                "        ax.set_xticklabels(BRAIN_ACTIVITY)\n",
                "        ax.grid(True)\n",
                "        ax.legend()\n",
                "        if col == 0:\n",
                "            ax.set_ylabel(target_label, fontsize=12)\n",
                "       \n",
                "fig.tight_layout()\n",
                "plt.show()\n",
                "\n",
                "\n"
            ]
        },
        {
            "cell_type": "code",
            "execution_count": null,
            "metadata": {},
            "outputs": [],
            "source": [
                "oof_df[oof_df['eeg_id'] == 11127485]"
            ]
        },
        {
            "cell_type": "code",
            "execution_count": null,
            "metadata": {},
            "outputs": [],
            "source": [
                "oof_df[oof_df['eeg_id'].duplicated()] #oof_df.shape #.groupby('eeg_id')['patient_id'].agg(['nunique', 'count']).sort_values(by='count', ascending=False).head(10)"
            ]
        },
        {
            "cell_type": "code",
            "execution_count": null,
            "metadata": {},
            "outputs": [],
            "source": [
                "score_kaggle = oof_df2.loc[:10].apply(lambda row: calc_kaggle_score(row[['eeg_id']+TARGETS], row[['eeg_id']+TARGETS_PRED]), axis=1)\n",
                "score_kaggle"
            ]
        },
        {
            "cell_type": "code",
            "execution_count": null,
            "metadata": {},
            "outputs": [],
            "source": [
                "submission_df = oof_df2[['eeg_id']+TARGETS_PRED].copy()\n",
                "submission_df.columns = ['eeg_id'] + TARGETS\n",
                "\n",
                "solution_df = oof_df2[['eeg_id']+TARGETS].copy()\n",
                "\n",
                "score_value = kaggle_score(solution_df, submission_df, 'eeg_id')\n",
                "\n",
                "score_value"
            ]
        },
        {
            "cell_type": "code",
            "execution_count": null,
            "metadata": {},
            "outputs": [],
            "source": [
                "# oof_df1, cv_1 = analyze_oof(\"./outputs/ENet_b2_xymasking_remove_less/ENet_b2_xymasking_remove_less_oof_1.csv\")\n",
                "# print(cv_1)\n",
                "# oof_df1.head()"
            ]
        },
        {
            "cell_type": "code",
            "execution_count": null,
            "metadata": {},
            "outputs": [],
            "source": []
        },
        {
            "cell_type": "code",
            "execution_count": null,
            "metadata": {},
            "outputs": [],
            "source": []
        }
    ],
    "metadata": {
        "kernelspec": {
            "display_name": "kaggle",
            "language": "python",
            "name": "python3"
        },
        "language_info": {
            "codemirror_mode": {
                "name": "ipython",
                "version": 3
            },
            "file_extension": ".py",
            "mimetype": "text/x-python",
            "name": "python",
            "nbconvert_exporter": "python",
            "pygments_lexer": "ipython3",
            "version": "3.11.6"
        }
    },
    "nbformat": 4,
    "nbformat_minor": 2
}
