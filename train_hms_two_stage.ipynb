{
    "cells": [
        {
            "cell_type": "code",
            "execution_count": null,
            "metadata": {},
            "outputs": [],
            "source": [
                "import pandas as pd \n",
                "import numpy as np \n",
                "from scipy.stats import entropy\n",
                "import matplotlib.pyplot as plt\n",
                "\n",
                "from engine_hms_trainer import *\n",
                "from engine_hms_model import CustomModel, JobConfig, ModelConfig\n",
                "\n",
                "import torch\n",
                "from torch import nn\n",
                "import torch.nn.functional as F\n",
                "\n",
                "import warnings\n",
                "warnings.filterwarnings('ignore')"
            ]
        },
        {
            "cell_type": "code",
            "execution_count": null,
            "metadata": {},
            "outputs": [],
            "source": [
                "seed_everything(JobConfig.SEED)\n",
                "\n",
                "ModelConfig.EPOCHS = 6\n",
                "ModelConfig.MODEL_BACKBONE = 'tf_efficientnet_b2'\n",
                "ModelConfig.MODEL_NAME = \"ENet_b2_softmax\"\n",
                "ModelConfig.AUGMENT = True\n",
                "ModelConfig.USE_KAGGLE_SPECTROGRAMS = True\n",
                "ModelConfig.USE_EEG_SPECTROGRAMS = True\n",
                "ModelConfig.REGULARIZATION = None\n",
                "ModelConfig.AUGMENTATIONS = ['xy_masking']\n",
                "\n",
                "hms_predictor = HMSPredictor(JobConfig, ModelConfig)"
            ]
        },
        {
            "cell_type": "code",
            "execution_count": null,
            "metadata": {},
            "outputs": [],
            "source": [
                "train_easy, train_hard, all_specs, all_eegs = hms_predictor.load_train_data()\n",
                "\n",
                "print(train_easy.shape)\n",
                "print(train_hard.shape)\n",
                "\n",
                "# check if contain NaN\n",
                "print(train_easy.isnull().sum().sum())\n",
                "print(train_hard.isnull().sum().sum())\n",
                "\n",
                "display(train_easy.head())\n",
                "print(\" \")\n",
                "display(train_hard.head())"
            ]
        },
        {
            "cell_type": "code",
            "execution_count": null,
            "metadata": {},
            "outputs": [],
            "source": [
                "hms_predictor.train_folds(train_easy, train_hard, all_specs, all_eegs)"
            ]
        },
        {
            "cell_type": "code",
            "execution_count": null,
            "metadata": {},
            "outputs": [],
            "source": [
                "dataset = CustomDataset(train_easy, TARGETS, ModelConfig, all_specs, all_eegs, mode='test')\n",
                "\n",
                "X, y = dataset[0]\n",
                "print(X.shape, y.shape)\n",
                "\n",
                "model = CustomModel(ModelConfig, num_classes=6, pretrained=True)\n",
                "y_pred = model(X.unsqueeze(0))\n",
                "\n",
                "print(y_pred.shape)"
            ]
        },
        {
            "cell_type": "code",
            "execution_count": null,
            "metadata": {},
            "outputs": [],
            "source": [
                "pd.set_option('display.max_columns', None)\n",
                "KL_CRITERION = nn.KLDivLoss(reduction='batchmean')\n",
                "SOFTMAX = nn.Softmax(dim=1)"
            ]
        },
        {
            "cell_type": "code",
            "execution_count": null,
            "metadata": {},
            "outputs": [],
            "source": [
                "TARGET2ID = {\n",
                "    'Seizure': 0,\n",
                "    'LPD': 1,\n",
                "    'GPD': 2,\n",
                "    'LRDA': 3,\n",
                "    'GRDA': 4,\n",
                "    'Other': 5\n",
                "}\n",
                "\n",
                "from kl_divergence import score as kaggle_score \n",
                "\n",
                "def calc_kaggle_score(solution, submission):\n",
                "    solution = solution.to_frame().T\n",
                "    solution[TARGETS] = solution[TARGETS].astype(np.float32)\n",
                "    submission = submission.to_frame().T\n",
                "    submission.columns = ['eeg_id'] + TARGETS\n",
                "    submission[TARGETS] = submission[TARGETS].astype(np.float32)\n",
                "    \n",
                "    return kaggle_score(solution, submission, 'eeg_id')\n",
                "\n",
                "\n",
                "def calc_kl_div(p, q):\n",
                "    p = torch.tensor(p.astype(np.float32)).unsqueeze(0)\n",
                "    q = torch.tensor(q.astype(np.float32)).unsqueeze(0)\n",
                "    kl_score = KL_CRITERION(F.log_softmax(p, dim=1), q)\n",
                "    return kl_score.item()\n",
                "\n",
                "# def analyze_oof(oof_csv_path):\n",
                "    \n",
                "#     oof_df = pd.read_csv(oof_csv_path)\n",
                "#     oof_df\n",
                "    \n",
                "    # y_pred = oof_df[TARGETS].values.astype(np.float32)\n",
                "    # y_pred_smax = SOFTMAX(torch.tensor(y_pred)).numpy()\n",
                "    # oof_df[TARGETS_PRED] = y_pred_smax #- y_pred_smax.min(axis=1)[:, np.newaxis]\n",
                "    # oof_df[TARGETS_PRED] = oof_df[TARGETS_PRED].div(oof_df[TARGETS_PRED].sum(axis=1), axis=0)\n",
                "    \n",
                "    # y_pred = oof_df[TARGETS].values.astype(np.float32)\n",
                "    # y_pred_min = y_pred.min(axis=1)[:, np.newaxis]\n",
                "    # y_pred_max = y_pred.max(axis=1)[:, np.newaxis]\n",
                "    # y_pred_norm = (y_pred - y_pred_min) / (y_pred_max - y_pred_min)  \n",
                "    \n",
                "    # oof_df[TARGETS_PRED] = y_pred_norm\n",
                "    # oof_df[TARGETS_PRED] = oof_df[TARGETS_PRED].div(oof_df[TARGETS_PRED].sum(axis=1), axis=0)\n",
                "    \n",
                "    # cv = evaluate_oof(oof_df)\n",
                "\n",
                "    # oof_df[\"kl_loss\"] = oof_df.apply(lambda row: calc_kl_div(row[TARGETS_PRED].values, row[TARGETS].values), axis=1)\n",
                "\n",
                "    # print(f\"KL Loss Mean: {oof_df['kl_loss'].mean()}\")\n",
                "\n",
                "    # oof_df['target_pred'] = oof_df[TARGETS_PRED].apply(lambda x: np.argmax(x), axis=1)\n",
                "    # oof_df['target_id'] = oof_df['target'].map(TARGET2ID)\n",
                "    # cv=0\n",
                "    # return oof_df, cv\n"
            ]
        },
        {
            "cell_type": "code",
            "execution_count": null,
            "metadata": {},
            "outputs": [],
            "source": [
                "fig, axes = plt.subplots(1, 2, figsize=(10, 5))\n",
                "\n",
                "oof_df = pd.read_csv(\"./outputs/ENet_b2_xymasking_remove_less/ENet_b2_xymasking_remove_less_oof_2.csv\")\n",
                "display_rows = oof_df[TARGETS].nunique(axis=1)>2\n",
                "display(oof_df[display_rows].head(10))\n",
                "\n",
                "display(oof_df[oof_df['eeg_id'] == 4279600028])\n",
                "\n",
                "# plot_idx = 20163 #np.random.choice(oof_df[display_rows].index, 1)                 \n",
                "# y_pred = oof_df[TARGETS].values.astype(np.float32)\n",
                "\n",
                "# print(plot_idx, oof_df.loc[plot_idx][TARGETS].values)\n",
                "\n",
                "# y_pred_smax = SOFTMAX(torch.tensor(y_pred)).numpy()\n",
                "# oof_df[TARGETS_PRED] = y_pred_smax\n",
                "# axes[0].plot(oof_df.loc[plot_idx][TARGETS].values, label='True')\n",
                "# axes[0].plot(oof_df.loc[plot_idx][TARGETS_PRED].values , label='Pred')\n",
                "# print(f\"Softmax pred: {oof_df.loc[plot_idx][TARGETS_PRED].values }\")\n",
                "\n",
                "# y_pred_new = (y_pred - y_pred.min(axis=1)[:, np.newaxis]) / (y_pred.max(axis=1)[:, np.newaxis] - y_pred.min(axis=1)[:, np.newaxis])\n",
                "# y_pred_norm = y_pred_new / y_pred_new.sum(axis=1)[:, np.newaxis]\n",
                "# oof_df[TARGETS_PRED] = y_pred_norm\n",
                "# axes[1].plot(oof_df.loc[plot_idx][TARGETS].values , label='True')\n",
                "# axes[1].plot(oof_df.loc[plot_idx][TARGETS_PRED].values , label='Pred')\n",
                "# print(f\"Normalized pred: {oof_df.loc[plot_idx][TARGETS_PRED].values }\")\n",
                "\n",
                "\n",
                "# for ax in axes:\n",
                "#     ax.legend()\n",
                "#     ax.grid(True)\n",
                "\n",
                "# plt.show()\n",
                "\n",
                "\n"
            ]
        },
        {
            "cell_type": "code",
            "execution_count": null,
            "metadata": {},
            "outputs": [],
            "source": [
                "oof_df[oof_df['eeg_id'] == 11127485]"
            ]
        },
        {
            "cell_type": "code",
            "execution_count": null,
            "metadata": {},
            "outputs": [],
            "source": [
                "oof_df[oof_df['eeg_id'].duplicated()] #oof_df.shape #.groupby('eeg_id')['patient_id'].agg(['nunique', 'count']).sort_values(by='count', ascending=False).head(10)"
            ]
        },
        {
            "cell_type": "code",
            "execution_count": null,
            "metadata": {},
            "outputs": [],
            "source": [
                "score_kaggle = oof_df2.loc[:10].apply(lambda row: calc_kaggle_score(row[['eeg_id']+TARGETS], row[['eeg_id']+TARGETS_PRED]), axis=1)\n",
                "score_kaggle"
            ]
        },
        {
            "cell_type": "code",
            "execution_count": null,
            "metadata": {},
            "outputs": [],
            "source": [
                "submission_df = oof_df2[['eeg_id']+TARGETS_PRED].copy()\n",
                "submission_df.columns = ['eeg_id'] + TARGETS\n",
                "\n",
                "solution_df = oof_df2[['eeg_id']+TARGETS].copy()\n",
                "\n",
                "score_value = kaggle_score(solution_df, submission_df, 'eeg_id')\n",
                "\n",
                "score_value"
            ]
        },
        {
            "cell_type": "code",
            "execution_count": null,
            "metadata": {},
            "outputs": [],
            "source": [
                "# oof_df1, cv_1 = analyze_oof(\"./outputs/ENet_b2_xymasking_remove_less/ENet_b2_xymasking_remove_less_oof_1.csv\")\n",
                "# print(cv_1)\n",
                "# oof_df1.head()"
            ]
        },
        {
            "cell_type": "code",
            "execution_count": null,
            "metadata": {},
            "outputs": [],
            "source": [
                "plot_oof = oof_df2.copy()\n",
                "\n",
                "# plot confusion matrix\n",
                "from sklearn.metrics import confusion_matrix\n",
                "import seaborn as sns\n",
                "\n",
                "cm = confusion_matrix(plot_oof['target_id'], plot_oof['target_pred']) # (y_true, y_pred)\n",
                "cm = cm / cm.sum(axis=1)[:, np.newaxis]\n",
                "\n",
                "fig = plt.figure(figsize=(10, 8))\n",
                "sns.heatmap(cm, annot=True, cmap='Blues', xticklabels=TARGET2ID.keys(), yticklabels=TARGET2ID.keys())\n",
                "plt.xlabel('Predicted', fontsize=12)\n",
                "plt.ylabel('True', fontsize=12)\n",
                "plt.show()"
            ]
        },
        {
            "cell_type": "code",
            "execution_count": null,
            "metadata": {},
            "outputs": [],
            "source": [
                "# new figure\n",
                "fig, axes = plt.subplots(6, 5, figsize=(18, 16), sharex=True, sharey=True)\n",
                "\n",
                "for row in range(axes.shape[0]):\n",
                "    row_selects = plot_oof[plot_oof['target_id']==row]\n",
                "    target_label = BRAIN_ACTIVITY[row]\n",
                "    for col in range(axes.shape[1]):\n",
                "        ax = axes[row, col]\n",
                "        idx = np.random.choice(row_selects.index)\n",
                "        df_rows = plot_oof.loc[idx]\n",
                "        ax.plot(df_rows[TARGETS].values , label='True')\n",
                "        ax.plot(df_rows[TARGETS_PRED].values, label='Pred')\n",
                "        ax.set_title(f\"{idx} | KL: {df_rows['kl_loss']:.4f}\")\n",
                "        ax.set_xticks(range(6))\n",
                "        ax.set_xticklabels(BRAIN_ACTIVITY)\n",
                "        ax.grid(True)\n",
                "        ax.legend()\n",
                "        if col == 0:\n",
                "            ax.set_ylabel(target_label, fontsize=12)\n",
                "       \n",
                "fig.tight_layout()\n",
                "plt.show()"
            ]
        },
        {
            "cell_type": "code",
            "execution_count": null,
            "metadata": {},
            "outputs": [],
            "source": []
        },
        {
            "cell_type": "code",
            "execution_count": null,
            "metadata": {},
            "outputs": [],
            "source": []
        }
    ],
    "metadata": {
        "kernelspec": {
            "display_name": "kaggle",
            "language": "python",
            "name": "python3"
        },
        "language_info": {
            "codemirror_mode": {
                "name": "ipython",
                "version": 3
            },
            "file_extension": ".py",
            "mimetype": "text/x-python",
            "name": "python",
            "nbconvert_exporter": "python",
            "pygments_lexer": "ipython3",
            "version": "3.11.6"
        }
    },
    "nbformat": 4,
    "nbformat_minor": 2
}
