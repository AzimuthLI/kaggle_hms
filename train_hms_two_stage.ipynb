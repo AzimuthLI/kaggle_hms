{
    "cells": [
        {
            "cell_type": "code",
            "execution_count": 1,
            "metadata": {},
            "outputs": [
                {
                    "name": "stderr",
                    "output_type": "stream",
                    "text": [
                        "/home/shiyi/miniconda3/envs/kaggle/lib/python3.11/site-packages/transformers/utils/generic.py:441: UserWarning: torch.utils._pytree._register_pytree_node is deprecated. Please use torch.utils._pytree.register_pytree_node instead.\n",
                        "  _torch_pytree._register_pytree_node(\n"
                    ]
                }
            ],
            "source": [
                "import pandas as pd \n",
                "import numpy as np \n",
                "from scipy.stats import entropy\n",
                "import matplotlib.pyplot as plt\n",
                "\n",
                "from engine_hms_trainer import *\n",
                "from engine_hms_model import CustomModel, JobConfig, ModelConfig\n",
                "\n",
                "import torch\n",
                "from torch import nn\n",
                "import torch.nn.functional as F\n",
                "\n",
                "import warnings\n",
                "warnings.filterwarnings('ignore')"
            ]
        },
        {
            "cell_type": "code",
            "execution_count": 2,
            "metadata": {},
            "outputs": [
                {
                    "name": "stderr",
                    "output_type": "stream",
                    "text": [
                        "****************************************************************************************************\n",
                        "Script Start: Tue Mar 12 00:27:04 2024\n",
                        "Initializing HMS Predictor...\n",
                        "Model Name: ENet_b2_softmax\n",
                        "Drop Rate: 0.15\n",
                        "Drop Path Rate: 0.25\n",
                        "Augment: True\n",
                        "Augmentations: ['xy_masking']\n",
                        "Enropy Split: 5.5\n",
                        "Device: cuda\n",
                        "Output Dir: ./outputs/\n",
                        "****************************************************************************************************\n"
                    ]
                }
            ],
            "source": [
                "seed_everything(JobConfig.SEED)\n",
                "\n",
                "ModelConfig.EPOCHS = 6\n",
                "ModelConfig.MODEL_BACKBONE = 'tf_efficientnet_b2'\n",
                "ModelConfig.MODEL_NAME = \"ENet_b2_softmax\"\n",
                "ModelConfig.AUGMENT = True\n",
                "ModelConfig.USE_KAGGLE_SPECTROGRAMS = True\n",
                "ModelConfig.USE_EEG_SPECTROGRAMS = True\n",
                "ModelConfig.REGULARIZATION = None\n",
                "ModelConfig.AUGMENTATIONS = ['xy_masking']\n",
                "\n",
                "hms_predictor = HMSPredictor(JobConfig, ModelConfig)"
            ]
        },
        {
            "cell_type": "code",
            "execution_count": 3,
            "metadata": {},
            "outputs": [
                {
                    "name": "stdout",
                    "output_type": "stream",
                    "text": [
                        "(13996, 12)\n",
                        "(6187, 12)\n",
                        "0\n",
                        "0\n"
                    ]
                },
                {
                    "data": {
                        "text/html": [
                            "<div>\n",
                            "<style scoped>\n",
                            "    .dataframe tbody tr th:only-of-type {\n",
                            "        vertical-align: middle;\n",
                            "    }\n",
                            "\n",
                            "    .dataframe tbody tr th {\n",
                            "        vertical-align: top;\n",
                            "    }\n",
                            "\n",
                            "    .dataframe thead th {\n",
                            "        text-align: right;\n",
                            "    }\n",
                            "</style>\n",
                            "<table border=\"1\" class=\"dataframe\">\n",
                            "  <thead>\n",
                            "    <tr style=\"text-align: right;\">\n",
                            "      <th></th>\n",
                            "      <th>eeg_id</th>\n",
                            "      <th>seizure_vote</th>\n",
                            "      <th>lpd_vote</th>\n",
                            "      <th>gpd_vote</th>\n",
                            "      <th>lrda_vote</th>\n",
                            "      <th>grda_vote</th>\n",
                            "      <th>other_vote</th>\n",
                            "      <th>spectrogram_id</th>\n",
                            "      <th>min</th>\n",
                            "      <th>max</th>\n",
                            "      <th>patient_id</th>\n",
                            "      <th>target</th>\n",
                            "    </tr>\n",
                            "  </thead>\n",
                            "  <tbody>\n",
                            "    <tr>\n",
                            "      <th>0</th>\n",
                            "      <td>642382</td>\n",
                            "      <td>0.0</td>\n",
                            "      <td>0.0</td>\n",
                            "      <td>0.0</td>\n",
                            "      <td>0.0</td>\n",
                            "      <td>0.0</td>\n",
                            "      <td>1.0</td>\n",
                            "      <td>14960202</td>\n",
                            "      <td>1008.0</td>\n",
                            "      <td>1032.0</td>\n",
                            "      <td>5955</td>\n",
                            "      <td>Other</td>\n",
                            "    </tr>\n",
                            "    <tr>\n",
                            "      <th>1</th>\n",
                            "      <td>751790</td>\n",
                            "      <td>0.0</td>\n",
                            "      <td>0.0</td>\n",
                            "      <td>1.0</td>\n",
                            "      <td>0.0</td>\n",
                            "      <td>0.0</td>\n",
                            "      <td>0.0</td>\n",
                            "      <td>618728447</td>\n",
                            "      <td>908.0</td>\n",
                            "      <td>908.0</td>\n",
                            "      <td>38549</td>\n",
                            "      <td>GPD</td>\n",
                            "    </tr>\n",
                            "    <tr>\n",
                            "      <th>2</th>\n",
                            "      <td>778705</td>\n",
                            "      <td>0.0</td>\n",
                            "      <td>0.0</td>\n",
                            "      <td>0.0</td>\n",
                            "      <td>0.0</td>\n",
                            "      <td>0.0</td>\n",
                            "      <td>1.0</td>\n",
                            "      <td>52296320</td>\n",
                            "      <td>0.0</td>\n",
                            "      <td>0.0</td>\n",
                            "      <td>40955</td>\n",
                            "      <td>Other</td>\n",
                            "    </tr>\n",
                            "    <tr>\n",
                            "      <th>3</th>\n",
                            "      <td>1629671</td>\n",
                            "      <td>1.0</td>\n",
                            "      <td>0.0</td>\n",
                            "      <td>0.0</td>\n",
                            "      <td>0.0</td>\n",
                            "      <td>0.0</td>\n",
                            "      <td>0.0</td>\n",
                            "      <td>2036345030</td>\n",
                            "      <td>0.0</td>\n",
                            "      <td>160.0</td>\n",
                            "      <td>37481</td>\n",
                            "      <td>Seizure</td>\n",
                            "    </tr>\n",
                            "    <tr>\n",
                            "      <th>4</th>\n",
                            "      <td>2061593</td>\n",
                            "      <td>0.0</td>\n",
                            "      <td>0.0</td>\n",
                            "      <td>0.0</td>\n",
                            "      <td>0.0</td>\n",
                            "      <td>0.0</td>\n",
                            "      <td>1.0</td>\n",
                            "      <td>320962633</td>\n",
                            "      <td>1450.0</td>\n",
                            "      <td>1450.0</td>\n",
                            "      <td>23828</td>\n",
                            "      <td>Other</td>\n",
                            "    </tr>\n",
                            "  </tbody>\n",
                            "</table>\n",
                            "</div>"
                        ],
                        "text/plain": [
                            "    eeg_id  seizure_vote  lpd_vote  gpd_vote  lrda_vote  grda_vote  \\\n",
                            "0   642382           0.0       0.0       0.0        0.0        0.0   \n",
                            "1   751790           0.0       0.0       1.0        0.0        0.0   \n",
                            "2   778705           0.0       0.0       0.0        0.0        0.0   \n",
                            "3  1629671           1.0       0.0       0.0        0.0        0.0   \n",
                            "4  2061593           0.0       0.0       0.0        0.0        0.0   \n",
                            "\n",
                            "   other_vote  spectrogram_id     min     max  patient_id   target  \n",
                            "0         1.0        14960202  1008.0  1032.0        5955    Other  \n",
                            "1         0.0       618728447   908.0   908.0       38549      GPD  \n",
                            "2         1.0        52296320     0.0     0.0       40955    Other  \n",
                            "3         0.0      2036345030     0.0   160.0       37481  Seizure  \n",
                            "4         1.0       320962633  1450.0  1450.0       23828    Other  "
                        ]
                    },
                    "metadata": {},
                    "output_type": "display_data"
                },
                {
                    "name": "stdout",
                    "output_type": "stream",
                    "text": [
                        " \n"
                    ]
                },
                {
                    "data": {
                        "text/html": [
                            "<div>\n",
                            "<style scoped>\n",
                            "    .dataframe tbody tr th:only-of-type {\n",
                            "        vertical-align: middle;\n",
                            "    }\n",
                            "\n",
                            "    .dataframe tbody tr th {\n",
                            "        vertical-align: top;\n",
                            "    }\n",
                            "\n",
                            "    .dataframe thead th {\n",
                            "        text-align: right;\n",
                            "    }\n",
                            "</style>\n",
                            "<table border=\"1\" class=\"dataframe\">\n",
                            "  <thead>\n",
                            "    <tr style=\"text-align: right;\">\n",
                            "      <th></th>\n",
                            "      <th>eeg_id</th>\n",
                            "      <th>seizure_vote</th>\n",
                            "      <th>lpd_vote</th>\n",
                            "      <th>gpd_vote</th>\n",
                            "      <th>lrda_vote</th>\n",
                            "      <th>grda_vote</th>\n",
                            "      <th>other_vote</th>\n",
                            "      <th>spectrogram_id</th>\n",
                            "      <th>min</th>\n",
                            "      <th>max</th>\n",
                            "      <th>patient_id</th>\n",
                            "      <th>target</th>\n",
                            "    </tr>\n",
                            "  </thead>\n",
                            "  <tbody>\n",
                            "    <tr>\n",
                            "      <th>0</th>\n",
                            "      <td>568657</td>\n",
                            "      <td>0.000000</td>\n",
                            "      <td>0.000000</td>\n",
                            "      <td>0.250000</td>\n",
                            "      <td>0.000000</td>\n",
                            "      <td>0.166667</td>\n",
                            "      <td>0.583333</td>\n",
                            "      <td>789577333</td>\n",
                            "      <td>0.0</td>\n",
                            "      <td>16.0</td>\n",
                            "      <td>20654</td>\n",
                            "      <td>Other</td>\n",
                            "    </tr>\n",
                            "    <tr>\n",
                            "      <th>1</th>\n",
                            "      <td>582999</td>\n",
                            "      <td>0.000000</td>\n",
                            "      <td>0.857143</td>\n",
                            "      <td>0.000000</td>\n",
                            "      <td>0.071429</td>\n",
                            "      <td>0.000000</td>\n",
                            "      <td>0.071429</td>\n",
                            "      <td>1552638400</td>\n",
                            "      <td>0.0</td>\n",
                            "      <td>38.0</td>\n",
                            "      <td>20230</td>\n",
                            "      <td>LPD</td>\n",
                            "    </tr>\n",
                            "    <tr>\n",
                            "      <th>2</th>\n",
                            "      <td>1895581</td>\n",
                            "      <td>0.076923</td>\n",
                            "      <td>0.000000</td>\n",
                            "      <td>0.000000</td>\n",
                            "      <td>0.000000</td>\n",
                            "      <td>0.076923</td>\n",
                            "      <td>0.846154</td>\n",
                            "      <td>128369999</td>\n",
                            "      <td>1138.0</td>\n",
                            "      <td>1138.0</td>\n",
                            "      <td>47999</td>\n",
                            "      <td>Other</td>\n",
                            "    </tr>\n",
                            "    <tr>\n",
                            "      <th>3</th>\n",
                            "      <td>2482631</td>\n",
                            "      <td>0.000000</td>\n",
                            "      <td>0.000000</td>\n",
                            "      <td>0.133333</td>\n",
                            "      <td>0.066667</td>\n",
                            "      <td>0.133333</td>\n",
                            "      <td>0.666667</td>\n",
                            "      <td>978166025</td>\n",
                            "      <td>1902.0</td>\n",
                            "      <td>1944.0</td>\n",
                            "      <td>20606</td>\n",
                            "      <td>Other</td>\n",
                            "    </tr>\n",
                            "    <tr>\n",
                            "      <th>4</th>\n",
                            "      <td>2521897</td>\n",
                            "      <td>0.000000</td>\n",
                            "      <td>0.000000</td>\n",
                            "      <td>0.083333</td>\n",
                            "      <td>0.083333</td>\n",
                            "      <td>0.333333</td>\n",
                            "      <td>0.500000</td>\n",
                            "      <td>673742515</td>\n",
                            "      <td>0.0</td>\n",
                            "      <td>4.0</td>\n",
                            "      <td>62117</td>\n",
                            "      <td>Other</td>\n",
                            "    </tr>\n",
                            "  </tbody>\n",
                            "</table>\n",
                            "</div>"
                        ],
                        "text/plain": [
                            "    eeg_id  seizure_vote  lpd_vote  gpd_vote  lrda_vote  grda_vote  \\\n",
                            "0   568657      0.000000  0.000000  0.250000   0.000000   0.166667   \n",
                            "1   582999      0.000000  0.857143  0.000000   0.071429   0.000000   \n",
                            "2  1895581      0.076923  0.000000  0.000000   0.000000   0.076923   \n",
                            "3  2482631      0.000000  0.000000  0.133333   0.066667   0.133333   \n",
                            "4  2521897      0.000000  0.000000  0.083333   0.083333   0.333333   \n",
                            "\n",
                            "   other_vote  spectrogram_id     min     max  patient_id target  \n",
                            "0    0.583333       789577333     0.0    16.0       20654  Other  \n",
                            "1    0.071429      1552638400     0.0    38.0       20230    LPD  \n",
                            "2    0.846154       128369999  1138.0  1138.0       47999  Other  \n",
                            "3    0.666667       978166025  1902.0  1944.0       20606  Other  \n",
                            "4    0.500000       673742515     0.0     4.0       62117  Other  "
                        ]
                    },
                    "metadata": {},
                    "output_type": "display_data"
                }
            ],
            "source": [
                "train_easy, train_hard, all_specs, all_eegs = hms_predictor.load_train_data()\n",
                "\n",
                "print(train_easy.shape)\n",
                "print(train_hard.shape)\n",
                "\n",
                "# check if contain NaN\n",
                "print(train_easy.isnull().sum().sum())\n",
                "print(train_hard.isnull().sum().sum())\n",
                "\n",
                "display(train_easy.head())\n",
                "print(\" \")\n",
                "display(train_hard.head())"
            ]
        },
        {
            "cell_type": "code",
            "execution_count": 4,
            "metadata": {},
            "outputs": [
                {
                    "name": "stderr",
                    "output_type": "stream",
                    "text": [
                        "====================================================================================================\n",
                        "Fold: 0 || Valid size 6867 \n",
                        "====================================================================================================\n",
                        "- First Stage \n"
                    ]
                },
                {
                    "data": {
                        "application/vnd.jupyter.widget-view+json": {
                            "model_id": "3a12a1797d3548dbb33e87a96e05b3ed",
                            "version_major": 2,
                            "version_minor": 0
                        },
                        "text/plain": [
                            "Train:   0%|          | 0/566 [00:00<?, ?batch/s]"
                        ]
                    },
                    "metadata": {},
                    "output_type": "display_data"
                },
                {
                    "name": "stdout",
                    "output_type": "stream",
                    "text": [
                        "Epoch: [1][0/566]Elapsed 1.08s | Loss: 0.8913 Grad: 82335.9375 LR: 4.0000e-06\n",
                        "Epoch: [1][50/566]Elapsed 8.26s | Loss: 0.8351 Grad: 89566.4062 LR: 5.2855e-06\n",
                        "Epoch: [1][100/566]Elapsed 15.37s | Loss: 0.8311 Grad: 66099.8438 LR: 9.0731e-06\n",
                        "Epoch: [1][150/566]Elapsed 22.49s | Loss: 0.8228 Grad: 66461.1172 LR: 1.5160e-05\n",
                        "Epoch: [1][200/566]Elapsed 29.64s | Loss: 0.8144 Grad: 66164.1562 LR: 2.3220e-05\n",
                        "Epoch: [1][250/566]Elapsed 36.84s | Loss: 0.8011 Grad: 84473.6641 LR: 3.2822e-05\n",
                        "Epoch: [1][300/566]Elapsed 44.01s | Loss: 0.7835 Grad: 82215.5156 LR: 4.3451e-05\n",
                        "Epoch: [1][350/566]Elapsed 51.23s | Loss: 0.7649 Grad: 126950.2734 LR: 5.4537e-05\n",
                        "Epoch: [1][400/566]Elapsed 58.45s | Loss: 0.7442 Grad: 83707.9219 LR: 6.5488e-05\n",
                        "Epoch: [1][450/566]Elapsed 65.68s | Loss: 0.7274 Grad: 65775.3047 LR: 7.5717e-05\n",
                        "Epoch: [1][500/566]Elapsed 72.90s | Loss: 0.7098 Grad: 46049.0469 LR: 8.4675e-05\n",
                        "Epoch: [1][550/566]Elapsed 80.14s | Loss: 0.6924 Grad: 79884.2500 LR: 9.1883e-05\n",
                        "Epoch: [1][565/566]Elapsed 82.38s | Loss: 0.6882 Grad: 112415.0625 LR: 9.3754e-05\n"
                    ]
                },
                {
                    "data": {
                        "application/vnd.jupyter.widget-view+json": {
                            "model_id": "4b1e5eb9b9a34fbc80706761e5818cac",
                            "version_major": 2,
                            "version_minor": 0
                        },
                        "text/plain": [
                            "Valid:   0%|          | 0/430 [00:00<?, ?batch/s]"
                        ]
                    },
                    "metadata": {},
                    "output_type": "display_data"
                },
                {
                    "name": "stdout",
                    "output_type": "stream",
                    "text": [
                        "Epoch: [1][0/430]Elapsed 0.10s | Loss: 0.5094\n",
                        "Epoch: [1][50/430]Elapsed 4.91s | Loss: 0.4667\n",
                        "Epoch: [1][100/430]Elapsed 9.73s | Loss: 0.4697\n",
                        "Epoch: [1][150/430]Elapsed 14.56s | Loss: 0.4741\n",
                        "Epoch: [1][200/430]Elapsed 19.40s | Loss: 0.4835\n",
                        "Epoch: [1][250/430]Elapsed 24.23s | Loss: 0.4873\n",
                        "Epoch: [1][300/430]Elapsed 29.07s | Loss: 0.4904\n",
                        "Epoch: [1][350/430]Elapsed 33.91s | Loss: 0.4694\n",
                        "Epoch: [1][400/430]Elapsed 38.75s | Loss: 0.4566\n"
                    ]
                },
                {
                    "name": "stderr",
                    "output_type": "stream",
                    "text": [
                        "----------------------------------------------------------------------------------------------------\n",
                        "Epoch 1 - Average Train Loss: 0.6882 | Average Valid Loss: 0.4502 | Time: 124.09s\n",
                        "Best model found in epoch 1 | valid loss: 0.4502\n"
                    ]
                },
                {
                    "data": {
                        "application/vnd.jupyter.widget-view+json": {
                            "model_id": "63c71ac81b0247e8b5ed3c44a6aa65b5",
                            "version_major": 2,
                            "version_minor": 0
                        },
                        "text/plain": [
                            "Train:   0%|          | 0/566 [00:00<?, ?batch/s]"
                        ]
                    },
                    "metadata": {},
                    "output_type": "display_data"
                },
                {
                    "name": "stdout",
                    "output_type": "stream",
                    "text": [
                        "Epoch: [2][0/566]Elapsed 0.10s | Loss: 0.6063 Grad: 151282.5469 LR: 9.3754e-05\n",
                        "Epoch: [2][50/566]Elapsed 7.44s | Loss: 0.4830 Grad: 64462.5391 LR: 9.8078e-05\n",
                        "Epoch: [2][100/566]Elapsed 14.87s | Loss: 0.4808 Grad: 32324.8516 LR: 9.9935e-05\n",
                        "Epoch: [2][150/566]Elapsed 22.30s | Loss: 0.4708 Grad: 43021.0000 LR: 9.9990e-05\n",
                        "Epoch: [2][200/566]Elapsed 29.73s | Loss: 0.4579 Grad: 23893.7305 LR: 9.9948e-05\n",
                        "Epoch: [2][250/566]Elapsed 37.13s | Loss: 0.4513 Grad: 44021.8477 LR: 9.9873e-05\n",
                        "Epoch: [2][300/566]Elapsed 44.50s | Loss: 0.4436 Grad: 28781.0312 LR: 9.9765e-05\n",
                        "Epoch: [2][350/566]Elapsed 51.85s | Loss: 0.4378 Grad: 36214.8945 LR: 9.9624e-05\n",
                        "Epoch: [2][400/566]Elapsed 59.22s | Loss: 0.4318 Grad: 23733.2129 LR: 9.9450e-05\n",
                        "Epoch: [2][450/566]Elapsed 66.58s | Loss: 0.4290 Grad: 51727.7188 LR: 9.9244e-05\n",
                        "Epoch: [2][500/566]Elapsed 73.92s | Loss: 0.4245 Grad: 43724.2930 LR: 9.9006e-05\n",
                        "Epoch: [2][550/566]Elapsed 81.29s | Loss: 0.4197 Grad: 38395.3438 LR: 9.8734e-05\n",
                        "Epoch: [2][565/566]Elapsed 83.56s | Loss: 0.4197 Grad: 57667.3477 LR: 9.8641e-05\n"
                    ]
                },
                {
                    "data": {
                        "application/vnd.jupyter.widget-view+json": {
                            "model_id": "2649dc224a3746f38daf80e38b6ce4d8",
                            "version_major": 2,
                            "version_minor": 0
                        },
                        "text/plain": [
                            "Valid:   0%|          | 0/430 [00:00<?, ?batch/s]"
                        ]
                    },
                    "metadata": {},
                    "output_type": "display_data"
                },
                {
                    "name": "stdout",
                    "output_type": "stream",
                    "text": [
                        "Epoch: [2][0/430]Elapsed 0.10s | Loss: 0.3813\n",
                        "Epoch: [2][50/430]Elapsed 4.91s | Loss: 0.3417\n",
                        "Epoch: [2][100/430]Elapsed 9.71s | Loss: 0.3394\n",
                        "Epoch: [2][150/430]Elapsed 14.52s | Loss: 0.3469\n",
                        "Epoch: [2][200/430]Elapsed 19.33s | Loss: 0.3580\n",
                        "Epoch: [2][250/430]Elapsed 24.14s | Loss: 0.3632\n",
                        "Epoch: [2][300/430]Elapsed 28.97s | Loss: 0.3656\n",
                        "Epoch: [2][350/430]Elapsed 33.80s | Loss: 0.3584\n",
                        "Epoch: [2][400/430]Elapsed 38.64s | Loss: 0.3529\n"
                    ]
                },
                {
                    "name": "stderr",
                    "output_type": "stream",
                    "text": [
                        "----------------------------------------------------------------------------------------------------\n",
                        "Epoch 2 - Average Train Loss: 0.4197 | Average Valid Loss: 0.3505 | Time: 125.13s\n",
                        "Best model found in epoch 2 | valid loss: 0.3505\n"
                    ]
                },
                {
                    "data": {
                        "application/vnd.jupyter.widget-view+json": {
                            "model_id": "2da93a70898242b89f736ecf9778334a",
                            "version_major": 2,
                            "version_minor": 0
                        },
                        "text/plain": [
                            "Train:   0%|          | 0/566 [00:00<?, ?batch/s]"
                        ]
                    },
                    "metadata": {},
                    "output_type": "display_data"
                },
                {
                    "name": "stdout",
                    "output_type": "stream",
                    "text": [
                        "Epoch: [3][0/566]Elapsed 0.10s | Loss: 0.3596 Grad: 157310.9062 LR: 9.8641e-05\n",
                        "Epoch: [3][50/566]Elapsed 7.49s | Loss: 0.3618 Grad: 68617.8672 LR: 9.8327e-05\n",
                        "Epoch: [3][100/566]Elapsed 14.94s | Loss: 0.3618 Grad: 65525.3867 LR: 9.7982e-05\n",
                        "Epoch: [3][150/566]Elapsed 22.37s | Loss: 0.3579 Grad: 87869.8906 LR: 9.7605e-05\n",
                        "Epoch: [3][200/566]Elapsed 29.80s | Loss: 0.3490 Grad: 23252.5586 LR: 9.7197e-05\n",
                        "Epoch: [3][250/566]Elapsed 37.21s | Loss: 0.3474 Grad: 43197.0742 LR: 9.6757e-05\n",
                        "Epoch: [3][300/566]Elapsed 44.61s | Loss: 0.3393 Grad: 27452.0098 LR: 9.6286e-05\n",
                        "Epoch: [3][350/566]Elapsed 52.00s | Loss: 0.3366 Grad: 45454.8516 LR: 9.5785e-05\n",
                        "Epoch: [3][400/566]Elapsed 59.37s | Loss: 0.3348 Grad: 44996.8750 LR: 9.5254e-05\n",
                        "Epoch: [3][450/566]Elapsed 66.74s | Loss: 0.3349 Grad: 46607.2930 LR: 9.4693e-05\n",
                        "Epoch: [3][500/566]Elapsed 74.10s | Loss: 0.3320 Grad: 39195.6133 LR: 9.4102e-05\n",
                        "Epoch: [3][550/566]Elapsed 81.46s | Loss: 0.3298 Grad: 52473.4453 LR: 9.3483e-05\n",
                        "Epoch: [3][565/566]Elapsed 83.74s | Loss: 0.3304 Grad: 64547.1836 LR: 9.3278e-05\n"
                    ]
                },
                {
                    "data": {
                        "application/vnd.jupyter.widget-view+json": {
                            "model_id": "1be881130c974f708da8d304052865e8",
                            "version_major": 2,
                            "version_minor": 0
                        },
                        "text/plain": [
                            "Valid:   0%|          | 0/430 [00:00<?, ?batch/s]"
                        ]
                    },
                    "metadata": {},
                    "output_type": "display_data"
                },
                {
                    "name": "stdout",
                    "output_type": "stream",
                    "text": [
                        "Epoch: [3][0/430]Elapsed 0.10s | Loss: 0.3239\n",
                        "Epoch: [3][50/430]Elapsed 4.89s | Loss: 0.3300\n",
                        "Epoch: [3][100/430]Elapsed 9.68s | Loss: 0.3200\n",
                        "Epoch: [3][150/430]Elapsed 14.48s | Loss: 0.3289\n",
                        "Epoch: [3][200/430]Elapsed 19.28s | Loss: 0.3384\n",
                        "Epoch: [3][250/430]Elapsed 24.09s | Loss: 0.3420\n",
                        "Epoch: [3][300/430]Elapsed 28.92s | Loss: 0.3450\n",
                        "Epoch: [3][350/430]Elapsed 33.74s | Loss: 0.3449\n",
                        "Epoch: [3][400/430]Elapsed 38.56s | Loss: 0.3453\n"
                    ]
                },
                {
                    "name": "stderr",
                    "output_type": "stream",
                    "text": [
                        "----------------------------------------------------------------------------------------------------\n",
                        "Epoch 3 - Average Train Loss: 0.3304 | Average Valid Loss: 0.3460 | Time: 125.23s\n",
                        "Best model found in epoch 3 | valid loss: 0.3460\n"
                    ]
                },
                {
                    "data": {
                        "application/vnd.jupyter.widget-view+json": {
                            "model_id": "0cac8d7fee6147e2b7ede83a585844c4",
                            "version_major": 2,
                            "version_minor": 0
                        },
                        "text/plain": [
                            "Train:   0%|          | 0/566 [00:00<?, ?batch/s]"
                        ]
                    },
                    "metadata": {},
                    "output_type": "display_data"
                },
                {
                    "name": "stdout",
                    "output_type": "stream",
                    "text": [
                        "Epoch: [4][0/566]Elapsed 0.10s | Loss: 0.3315 Grad: 164238.5938 LR: 9.3278e-05\n",
                        "Epoch: [4][50/566]Elapsed 7.51s | Loss: 0.3182 Grad: 35668.6602 LR: 9.2621e-05\n",
                        "Epoch: [4][100/566]Elapsed 14.98s | Loss: 0.3128 Grad: 38008.3281 LR: 9.1935e-05\n",
                        "Epoch: [4][150/566]Elapsed 22.44s | Loss: 0.3065 Grad: 43127.7695 LR: 9.1222e-05\n",
                        "Epoch: [4][200/566]Elapsed 29.87s | Loss: 0.3006 Grad: 34148.3477 LR: 9.0481e-05\n",
                        "Epoch: [4][250/566]Elapsed 37.27s | Loss: 0.2969 Grad: 49629.0430 LR: 8.9714e-05\n",
                        "Epoch: [4][300/566]Elapsed 44.68s | Loss: 0.2900 Grad: 25426.4355 LR: 8.8921e-05\n",
                        "Epoch: [4][350/566]Elapsed 52.08s | Loss: 0.2869 Grad: 47233.3945 LR: 8.8101e-05\n",
                        "Epoch: [4][400/566]Elapsed 59.46s | Loss: 0.2839 Grad: 42342.5703 LR: 8.7257e-05\n",
                        "Epoch: [4][450/566]Elapsed 66.83s | Loss: 0.2835 Grad: 36267.5234 LR: 8.6388e-05\n",
                        "Epoch: [4][500/566]Elapsed 74.19s | Loss: 0.2813 Grad: 49990.8320 LR: 8.5495e-05\n",
                        "Epoch: [4][550/566]Elapsed 81.56s | Loss: 0.2791 Grad: 27511.8711 LR: 8.4579e-05\n",
                        "Epoch: [4][565/566]Elapsed 83.84s | Loss: 0.2793 Grad: 96185.8984 LR: 8.4281e-05\n"
                    ]
                },
                {
                    "data": {
                        "application/vnd.jupyter.widget-view+json": {
                            "model_id": "2cb10da130264ed8b199d6031b7ec337",
                            "version_major": 2,
                            "version_minor": 0
                        },
                        "text/plain": [
                            "Valid:   0%|          | 0/430 [00:00<?, ?batch/s]"
                        ]
                    },
                    "metadata": {},
                    "output_type": "display_data"
                },
                {
                    "name": "stdout",
                    "output_type": "stream",
                    "text": [
                        "Epoch: [4][0/430]Elapsed 0.10s | Loss: 0.3143\n",
                        "Epoch: [4][50/430]Elapsed 4.89s | Loss: 0.3161\n",
                        "Epoch: [4][100/430]Elapsed 9.68s | Loss: 0.3041\n",
                        "Epoch: [4][150/430]Elapsed 14.49s | Loss: 0.3121\n",
                        "Epoch: [4][200/430]Elapsed 19.30s | Loss: 0.3196\n",
                        "Epoch: [4][250/430]Elapsed 24.10s | Loss: 0.3219\n",
                        "Epoch: [4][300/430]Elapsed 28.92s | Loss: 0.3238\n",
                        "Epoch: [4][350/430]Elapsed 33.74s | Loss: 0.3281\n",
                        "Epoch: [4][400/430]Elapsed 38.57s | Loss: 0.3323\n"
                    ]
                },
                {
                    "name": "stderr",
                    "output_type": "stream",
                    "text": [
                        "----------------------------------------------------------------------------------------------------\n",
                        "Epoch 4 - Average Train Loss: 0.2793 | Average Valid Loss: 0.3350 | Time: 125.32s\n",
                        "Best model found in epoch 4 | valid loss: 0.3350\n"
                    ]
                },
                {
                    "data": {
                        "application/vnd.jupyter.widget-view+json": {
                            "model_id": "61576fb3cc3e4fada1722f8d7ca735ca",
                            "version_major": 2,
                            "version_minor": 0
                        },
                        "text/plain": [
                            "Train:   0%|          | 0/566 [00:00<?, ?batch/s]"
                        ]
                    },
                    "metadata": {},
                    "output_type": "display_data"
                },
                {
                    "name": "stdout",
                    "output_type": "stream",
                    "text": [
                        "Epoch: [5][0/566]Elapsed 0.10s | Loss: 0.2529 Grad: nan LR: 8.4281e-05\n",
                        "Epoch: [5][50/566]Elapsed 7.54s | Loss: 0.2649 Grad: 37201.7148 LR: 8.3335e-05\n",
                        "Epoch: [5][100/566]Elapsed 15.03s | Loss: 0.2570 Grad: 33205.7344 LR: 8.2366e-05\n",
                        "Epoch: [5][150/566]Elapsed 22.50s | Loss: 0.2545 Grad: 80655.9141 LR: 8.1377e-05\n",
                        "Epoch: [5][200/566]Elapsed 29.96s | Loss: 0.2493 Grad: 25770.5996 LR: 8.0366e-05\n",
                        "Epoch: [5][250/566]Elapsed 37.41s | Loss: 0.2487 Grad: 34441.9805 LR: 7.9336e-05\n",
                        "Epoch: [5][300/566]Elapsed 44.85s | Loss: 0.2422 Grad: 23901.8262 LR: 7.8286e-05\n",
                        "Epoch: [5][350/566]Elapsed 52.27s | Loss: 0.2381 Grad: 57933.0234 LR: 7.7218e-05\n",
                        "Epoch: [5][400/566]Elapsed 59.66s | Loss: 0.2348 Grad: 56164.4141 LR: 7.6131e-05\n",
                        "Epoch: [5][450/566]Elapsed 67.05s | Loss: 0.2351 Grad: 50615.3672 LR: 7.5028e-05\n",
                        "Epoch: [5][500/566]Elapsed 74.41s | Loss: 0.2320 Grad: 43271.2578 LR: 7.3908e-05\n",
                        "Epoch: [5][550/566]Elapsed 81.79s | Loss: 0.2312 Grad: 68364.3125 LR: 7.2772e-05\n",
                        "Epoch: [5][565/566]Elapsed 84.08s | Loss: 0.2314 Grad: 78936.4609 LR: 7.2405e-05\n"
                    ]
                },
                {
                    "data": {
                        "application/vnd.jupyter.widget-view+json": {
                            "model_id": "fbd72552cf164c2e847d1300ec77ccb4",
                            "version_major": 2,
                            "version_minor": 0
                        },
                        "text/plain": [
                            "Valid:   0%|          | 0/430 [00:00<?, ?batch/s]"
                        ]
                    },
                    "metadata": {},
                    "output_type": "display_data"
                },
                {
                    "name": "stdout",
                    "output_type": "stream",
                    "text": [
                        "Epoch: [5][0/430]Elapsed 0.10s | Loss: 0.2885\n",
                        "Epoch: [5][50/430]Elapsed 4.89s | Loss: 0.3257\n",
                        "Epoch: [5][100/430]Elapsed 9.68s | Loss: 0.3074\n",
                        "Epoch: [5][150/430]Elapsed 14.49s | Loss: 0.3145\n",
                        "Epoch: [5][200/430]Elapsed 19.30s | Loss: 0.3198\n",
                        "Epoch: [5][250/430]Elapsed 24.12s | Loss: 0.3208\n",
                        "Epoch: [5][300/430]Elapsed 28.93s | Loss: 0.3215\n",
                        "Epoch: [5][350/430]Elapsed 33.76s | Loss: 0.3325\n",
                        "Epoch: [5][400/430]Elapsed 38.59s | Loss: 0.3424\n"
                    ]
                },
                {
                    "name": "stderr",
                    "output_type": "stream",
                    "text": [
                        "----------------------------------------------------------------------------------------------------\n",
                        "Epoch 5 - Average Train Loss: 0.2314 | Average Valid Loss: 0.3482 | Time: 125.59s\n"
                    ]
                },
                {
                    "data": {
                        "application/vnd.jupyter.widget-view+json": {
                            "model_id": "d77f9fece8e74532bc2683ca398318d2",
                            "version_major": 2,
                            "version_minor": 0
                        },
                        "text/plain": [
                            "Train:   0%|          | 0/566 [00:00<?, ?batch/s]"
                        ]
                    },
                    "metadata": {},
                    "output_type": "display_data"
                },
                {
                    "name": "stdout",
                    "output_type": "stream",
                    "text": [
                        "Epoch: [6][0/566]Elapsed 0.10s | Loss: 0.2989 Grad: nan LR: 7.2405e-05\n",
                        "Epoch: [6][50/566]Elapsed 7.52s | Loss: 0.2354 Grad: 52157.2617 LR: 7.1249e-05\n",
                        "Epoch: [6][100/566]Elapsed 14.98s | Loss: 0.2258 Grad: 32308.8633 LR: 7.0080e-05\n",
                        "Epoch: [6][150/566]Elapsed 22.41s | Loss: 0.2197 Grad: 47915.2969 LR: 6.8897e-05\n",
                        "Epoch: [6][200/566]Elapsed 29.84s | Loss: 0.2161 Grad: 57871.3555 LR: 6.7702e-05\n",
                        "Epoch: [6][250/566]Elapsed 37.24s | Loss: 0.2136 Grad: 65771.9844 LR: 6.6495e-05\n",
                        "Epoch: [6][300/566]Elapsed 44.64s | Loss: 0.2102 Grad: 34740.7500 LR: 6.5277e-05\n",
                        "Epoch: [6][350/566]Elapsed 52.04s | Loss: 0.2062 Grad: 45309.0938 LR: 6.4049e-05\n",
                        "Epoch: [6][400/566]Elapsed 59.43s | Loss: 0.2034 Grad: 56066.4688 LR: 6.2812e-05\n",
                        "Epoch: [6][450/566]Elapsed 66.81s | Loss: 0.2031 Grad: 50089.8398 LR: 6.1566e-05\n",
                        "Epoch: [6][500/566]Elapsed 74.20s | Loss: 0.2006 Grad: 55623.7422 LR: 6.0313e-05\n",
                        "Epoch: [6][550/566]Elapsed 81.57s | Loss: 0.1999 Grad: 39691.4727 LR: 5.9053e-05\n",
                        "Epoch: [6][565/566]Elapsed 83.84s | Loss: 0.1997 Grad: 89945.8438 LR: 5.8648e-05\n"
                    ]
                },
                {
                    "data": {
                        "application/vnd.jupyter.widget-view+json": {
                            "model_id": "fd4e184302e646bd9068f9d68bb73ae9",
                            "version_major": 2,
                            "version_minor": 0
                        },
                        "text/plain": [
                            "Valid:   0%|          | 0/430 [00:00<?, ?batch/s]"
                        ]
                    },
                    "metadata": {},
                    "output_type": "display_data"
                },
                {
                    "name": "stdout",
                    "output_type": "stream",
                    "text": [
                        "Epoch: [6][0/430]Elapsed 0.10s | Loss: 0.2968\n",
                        "Epoch: [6][50/430]Elapsed 4.89s | Loss: 0.3256\n",
                        "Epoch: [6][100/430]Elapsed 9.68s | Loss: 0.3094\n",
                        "Epoch: [6][150/430]Elapsed 14.47s | Loss: 0.3207\n",
                        "Epoch: [6][200/430]Elapsed 19.28s | Loss: 0.3221\n",
                        "Epoch: [6][250/430]Elapsed 24.09s | Loss: 0.3209\n",
                        "Epoch: [6][300/430]Elapsed 28.92s | Loss: 0.3217\n",
                        "Epoch: [6][350/430]Elapsed 33.74s | Loss: 0.3357\n",
                        "Epoch: [6][400/430]Elapsed 38.57s | Loss: 0.3479\n"
                    ]
                },
                {
                    "name": "stderr",
                    "output_type": "stream",
                    "text": [
                        "----------------------------------------------------------------------------------------------------\n",
                        "Epoch 6 - Average Train Loss: 0.1997 | Average Valid Loss: 0.3558 | Time: 125.34s\n",
                        "====================================================================================================\n",
                        "Fold 0 Valid Loss: (Easy) 1.2257 | (Hard) 0.7583\n",
                        "Elapse: 12.53 min \n",
                        "====================================================================================================\n",
                        "- Second Stage \n",
                        "Use Checkpoint: ENet_b2_softmax_fold_0_stage_1.pth\n"
                    ]
                },
                {
                    "data": {
                        "application/vnd.jupyter.widget-view+json": {
                            "model_id": "f5917743579145ea91bac7826d30c80f",
                            "version_major": 2,
                            "version_minor": 0
                        },
                        "text/plain": [
                            "Train:   0%|          | 0/265 [00:00<?, ?batch/s]"
                        ]
                    },
                    "metadata": {},
                    "output_type": "display_data"
                },
                {
                    "name": "stdout",
                    "output_type": "stream",
                    "text": [
                        "Epoch: [1][0/265]Elapsed 0.10s | Loss: 0.3945 Grad: nan LR: 4.0000e-06\n",
                        "Epoch: [1][50/265]Elapsed 7.45s | Loss: 0.4674 Grad: 48771.8594 LR: 9.8092e-06\n",
                        "Epoch: [1][100/265]Elapsed 14.89s | Loss: 0.4363 Grad: 54715.4297 LR: 2.5831e-05\n",
                        "Epoch: [1][150/265]Elapsed 22.32s | Loss: 0.4046 Grad: 50625.6680 LR: 4.8186e-05\n",
                        "Epoch: [1][200/265]Elapsed 29.74s | Loss: 0.3736 Grad: 25776.2188 LR: 7.1465e-05\n",
                        "Epoch: [1][250/265]Elapsed 37.16s | Loss: 0.3487 Grad: 30632.9434 LR: 9.0032e-05\n",
                        "Epoch: [1][264/265]Elapsed 39.25s | Loss: 0.3417 Grad: 24517.6035 LR: 9.3727e-05\n"
                    ]
                },
                {
                    "data": {
                        "application/vnd.jupyter.widget-view+json": {
                            "model_id": "1e62397595e543aab19be1bf8fd86445",
                            "version_major": 2,
                            "version_minor": 0
                        },
                        "text/plain": [
                            "Valid:   0%|          | 0/430 [00:00<?, ?batch/s]"
                        ]
                    },
                    "metadata": {},
                    "output_type": "display_data"
                },
                {
                    "name": "stdout",
                    "output_type": "stream",
                    "text": [
                        "Epoch: [1][0/430]Elapsed 0.10s | Loss: 0.3227\n",
                        "Epoch: [1][50/430]Elapsed 4.89s | Loss: 0.3861\n",
                        "Epoch: [1][100/430]Elapsed 9.68s | Loss: 0.3778\n",
                        "Epoch: [1][150/430]Elapsed 14.48s | Loss: 0.3831\n",
                        "Epoch: [1][200/430]Elapsed 19.29s | Loss: 0.3737\n",
                        "Epoch: [1][250/430]Elapsed 24.10s | Loss: 0.3696\n",
                        "Epoch: [1][300/430]Elapsed 28.91s | Loss: 0.3662\n",
                        "Epoch: [1][350/430]Elapsed 33.71s | Loss: 0.3492\n",
                        "Epoch: [1][400/430]Elapsed 38.53s | Loss: 0.3334\n"
                    ]
                },
                {
                    "name": "stderr",
                    "output_type": "stream",
                    "text": [
                        "----------------------------------------------------------------------------------------------------\n",
                        "Epoch 1 - Average Train Loss: 0.3417 | Average Valid Loss: 0.3257 | Time: 80.76s\n",
                        "Best model found in epoch 1 | valid loss: 0.3257\n"
                    ]
                },
                {
                    "data": {
                        "application/vnd.jupyter.widget-view+json": {
                            "model_id": "59061370f7b94446a801e88b56a1a169",
                            "version_major": 2,
                            "version_minor": 0
                        },
                        "text/plain": [
                            "Train:   0%|          | 0/265 [00:00<?, ?batch/s]"
                        ]
                    },
                    "metadata": {},
                    "output_type": "display_data"
                },
                {
                    "name": "stdout",
                    "output_type": "stream",
                    "text": [
                        "Epoch: [2][0/265]Elapsed 0.10s | Loss: 0.1874 Grad: 104293.8828 LR: 9.3727e-05\n",
                        "Epoch: [2][50/265]Elapsed 7.58s | Loss: 0.2216 Grad: 58832.2930 LR: 9.9991e-05\n",
                        "Epoch: [2][100/265]Elapsed 15.09s | Loss: 0.2228 Grad: 44881.9062 LR: 9.9931e-05\n",
                        "Epoch: [2][150/265]Elapsed 22.59s | Loss: 0.2225 Grad: 59647.8945 LR: 9.9711e-05\n",
                        "Epoch: [2][200/265]Elapsed 30.05s | Loss: 0.2204 Grad: 54149.3242 LR: 9.9342e-05\n",
                        "Epoch: [2][250/265]Elapsed 37.50s | Loss: 0.2162 Grad: 41220.6836 LR: 9.8824e-05\n",
                        "Epoch: [2][264/265]Elapsed 39.60s | Loss: 0.2151 Grad: 43226.6094 LR: 9.8653e-05\n"
                    ]
                },
                {
                    "data": {
                        "application/vnd.jupyter.widget-view+json": {
                            "model_id": "8d2bb43bf04b4e3caaac8490d03dbd10",
                            "version_major": 2,
                            "version_minor": 0
                        },
                        "text/plain": [
                            "Valid:   0%|          | 0/430 [00:00<?, ?batch/s]"
                        ]
                    },
                    "metadata": {},
                    "output_type": "display_data"
                },
                {
                    "name": "stdout",
                    "output_type": "stream",
                    "text": [
                        "Epoch: [2][0/430]Elapsed 0.10s | Loss: 0.3323\n",
                        "Epoch: [2][50/430]Elapsed 4.90s | Loss: 0.3811\n",
                        "Epoch: [2][100/430]Elapsed 9.69s | Loss: 0.3760\n",
                        "Epoch: [2][150/430]Elapsed 14.49s | Loss: 0.3803\n",
                        "Epoch: [2][200/430]Elapsed 19.30s | Loss: 0.3733\n",
                        "Epoch: [2][250/430]Elapsed 24.12s | Loss: 0.3696\n",
                        "Epoch: [2][300/430]Elapsed 28.93s | Loss: 0.3664\n",
                        "Epoch: [2][350/430]Elapsed 33.74s | Loss: 0.3467\n",
                        "Epoch: [2][400/430]Elapsed 38.55s | Loss: 0.3287\n"
                    ]
                },
                {
                    "name": "stderr",
                    "output_type": "stream",
                    "text": [
                        "----------------------------------------------------------------------------------------------------\n",
                        "Epoch 2 - Average Train Loss: 0.2151 | Average Valid Loss: 0.3201 | Time: 81.10s\n",
                        "Best model found in epoch 2 | valid loss: 0.3201\n"
                    ]
                },
                {
                    "data": {
                        "application/vnd.jupyter.widget-view+json": {
                            "model_id": "f2856694911148be88fec091bced24e8",
                            "version_major": 2,
                            "version_minor": 0
                        },
                        "text/plain": [
                            "Train:   0%|          | 0/265 [00:00<?, ?batch/s]"
                        ]
                    },
                    "metadata": {},
                    "output_type": "display_data"
                },
                {
                    "name": "stdout",
                    "output_type": "stream",
                    "text": [
                        "Epoch: [3][0/265]Elapsed 0.10s | Loss: 0.1708 Grad: 98020.0938 LR: 9.8653e-05\n",
                        "Epoch: [3][50/265]Elapsed 7.60s | Loss: 0.1934 Grad: 81771.1641 LR: 9.7947e-05\n",
                        "Epoch: [3][100/265]Elapsed 15.13s | Loss: 0.1937 Grad: 39989.6133 LR: 9.7097e-05\n",
                        "Epoch: [3][150/265]Elapsed 22.62s | Loss: 0.1940 Grad: 52781.4844 LR: 9.6106e-05\n",
                        "Epoch: [3][200/265]Elapsed 30.10s | Loss: 0.1937 Grad: 36180.5586 LR: 9.4975e-05\n",
                        "Epoch: [3][250/265]Elapsed 37.53s | Loss: 0.1910 Grad: 35075.8281 LR: 9.3710e-05\n",
                        "Epoch: [3][264/265]Elapsed 39.62s | Loss: 0.1899 Grad: 43564.4492 LR: 9.3331e-05\n"
                    ]
                },
                {
                    "data": {
                        "application/vnd.jupyter.widget-view+json": {
                            "model_id": "3950809372eb4a2bbe8c836038723962",
                            "version_major": 2,
                            "version_minor": 0
                        },
                        "text/plain": [
                            "Valid:   0%|          | 0/430 [00:00<?, ?batch/s]"
                        ]
                    },
                    "metadata": {},
                    "output_type": "display_data"
                },
                {
                    "name": "stdout",
                    "output_type": "stream",
                    "text": [
                        "Epoch: [3][0/430]Elapsed 0.10s | Loss: 0.3382\n",
                        "Epoch: [3][50/430]Elapsed 4.89s | Loss: 0.3838\n",
                        "Epoch: [3][100/430]Elapsed 9.68s | Loss: 0.3786\n",
                        "Epoch: [3][150/430]Elapsed 14.50s | Loss: 0.3826\n",
                        "Epoch: [3][200/430]Elapsed 19.31s | Loss: 0.3762\n",
                        "Epoch: [3][250/430]Elapsed 24.13s | Loss: 0.3728\n",
                        "Epoch: [3][300/430]Elapsed 28.94s | Loss: 0.3701\n",
                        "Epoch: [3][350/430]Elapsed 33.75s | Loss: 0.3498\n",
                        "Epoch: [3][400/430]Elapsed 38.57s | Loss: 0.3313\n"
                    ]
                },
                {
                    "name": "stderr",
                    "output_type": "stream",
                    "text": [
                        "----------------------------------------------------------------------------------------------------\n",
                        "Epoch 3 - Average Train Loss: 0.1899 | Average Valid Loss: 0.3223 | Time: 81.17s\n"
                    ]
                },
                {
                    "data": {
                        "application/vnd.jupyter.widget-view+json": {
                            "model_id": "437638447cb949b59b78e4c5497c798f",
                            "version_major": 2,
                            "version_minor": 0
                        },
                        "text/plain": [
                            "Train:   0%|          | 0/265 [00:00<?, ?batch/s]"
                        ]
                    },
                    "metadata": {},
                    "output_type": "display_data"
                },
                {
                    "name": "stdout",
                    "output_type": "stream",
                    "text": [
                        "Epoch: [4][0/265]Elapsed 0.10s | Loss: 0.1496 Grad: 87580.9453 LR: 9.3331e-05\n",
                        "Epoch: [4][50/265]Elapsed 7.57s | Loss: 0.1763 Grad: 94908.8359 LR: 9.1898e-05\n",
                        "Epoch: [4][100/265]Elapsed 15.07s | Loss: 0.1762 Grad: 66062.6953 LR: 9.0338e-05\n",
                        "Epoch: [4][150/265]Elapsed 22.53s | Loss: 0.1777 Grad: 108225.5781 LR: 8.8657e-05\n",
                        "Epoch: [4][200/265]Elapsed 29.98s | Loss: 0.1764 Grad: 46900.0000 LR: 8.6860e-05\n",
                        "Epoch: [4][250/265]Elapsed 37.42s | Loss: 0.1744 Grad: 43983.8125 LR: 8.4952e-05\n",
                        "Epoch: [4][264/265]Elapsed 39.51s | Loss: 0.1733 Grad: 38384.8086 LR: 8.4398e-05\n"
                    ]
                },
                {
                    "data": {
                        "application/vnd.jupyter.widget-view+json": {
                            "model_id": "4ac6d49394714918b66c7234abcbaf5e",
                            "version_major": 2,
                            "version_minor": 0
                        },
                        "text/plain": [
                            "Valid:   0%|          | 0/430 [00:00<?, ?batch/s]"
                        ]
                    },
                    "metadata": {},
                    "output_type": "display_data"
                },
                {
                    "name": "stdout",
                    "output_type": "stream",
                    "text": [
                        "Epoch: [4][0/430]Elapsed 0.10s | Loss: 0.3493\n",
                        "Epoch: [4][50/430]Elapsed 4.90s | Loss: 0.3792\n",
                        "Epoch: [4][100/430]Elapsed 9.69s | Loss: 0.3733\n",
                        "Epoch: [4][150/430]Elapsed 14.50s | Loss: 0.3774\n",
                        "Epoch: [4][200/430]Elapsed 19.32s | Loss: 0.3706\n",
                        "Epoch: [4][250/430]Elapsed 24.13s | Loss: 0.3677\n",
                        "Epoch: [4][300/430]Elapsed 28.94s | Loss: 0.3645\n",
                        "Epoch: [4][350/430]Elapsed 33.75s | Loss: 0.3443\n",
                        "Epoch: [4][400/430]Elapsed 38.59s | Loss: 0.3260\n"
                    ]
                },
                {
                    "name": "stderr",
                    "output_type": "stream",
                    "text": [
                        "----------------------------------------------------------------------------------------------------\n",
                        "Epoch 4 - Average Train Loss: 0.1733 | Average Valid Loss: 0.3174 | Time: 81.07s\n",
                        "Best model found in epoch 4 | valid loss: 0.3174\n"
                    ]
                },
                {
                    "data": {
                        "application/vnd.jupyter.widget-view+json": {
                            "model_id": "bf8cbf3907084e7aa09d36cb3fd7565e",
                            "version_major": 2,
                            "version_minor": 0
                        },
                        "text/plain": [
                            "Train:   0%|          | 0/265 [00:00<?, ?batch/s]"
                        ]
                    },
                    "metadata": {},
                    "output_type": "display_data"
                },
                {
                    "name": "stdout",
                    "output_type": "stream",
                    "text": [
                        "Epoch: [5][0/265]Elapsed 0.10s | Loss: 0.1265 Grad: 93969.8906 LR: 8.4398e-05\n",
                        "Epoch: [5][50/265]Elapsed 7.56s | Loss: 0.1558 Grad: 57849.7969 LR: 8.2356e-05\n",
                        "Epoch: [5][100/265]Elapsed 15.06s | Loss: 0.1560 Grad: 68695.8047 LR: 8.0217e-05\n",
                        "Epoch: [5][150/265]Elapsed 22.51s | Loss: 0.1592 Grad: 42124.0391 LR: 7.7987e-05\n",
                        "Epoch: [5][200/265]Elapsed 29.95s | Loss: 0.1592 Grad: 35896.7773 LR: 7.5672e-05\n",
                        "Epoch: [5][250/265]Elapsed 37.37s | Loss: 0.1571 Grad: 40321.9375 LR: 7.3280e-05\n",
                        "Epoch: [5][264/265]Elapsed 39.46s | Loss: 0.1563 Grad: 45408.3047 LR: 7.2598e-05\n"
                    ]
                },
                {
                    "data": {
                        "application/vnd.jupyter.widget-view+json": {
                            "model_id": "4863a393362347bbba56ee0b5913e91a",
                            "version_major": 2,
                            "version_minor": 0
                        },
                        "text/plain": [
                            "Valid:   0%|          | 0/430 [00:00<?, ?batch/s]"
                        ]
                    },
                    "metadata": {},
                    "output_type": "display_data"
                },
                {
                    "name": "stdout",
                    "output_type": "stream",
                    "text": [
                        "Epoch: [5][0/430]Elapsed 0.10s | Loss: 0.3426\n",
                        "Epoch: [5][50/430]Elapsed 4.90s | Loss: 0.3873\n",
                        "Epoch: [5][100/430]Elapsed 9.70s | Loss: 0.3821\n",
                        "Epoch: [5][150/430]Elapsed 14.51s | Loss: 0.3860\n",
                        "Epoch: [5][200/430]Elapsed 19.33s | Loss: 0.3776\n",
                        "Epoch: [5][250/430]Elapsed 24.14s | Loss: 0.3743\n",
                        "Epoch: [5][300/430]Elapsed 28.96s | Loss: 0.3708\n",
                        "Epoch: [5][350/430]Elapsed 33.77s | Loss: 0.3501\n",
                        "Epoch: [5][400/430]Elapsed 38.59s | Loss: 0.3310\n"
                    ]
                },
                {
                    "name": "stderr",
                    "output_type": "stream",
                    "text": [
                        "----------------------------------------------------------------------------------------------------\n",
                        "Epoch 5 - Average Train Loss: 0.1563 | Average Valid Loss: 0.3221 | Time: 81.00s\n"
                    ]
                },
                {
                    "data": {
                        "application/vnd.jupyter.widget-view+json": {
                            "model_id": "c3a6767196674deb90e73ec01c7d014a",
                            "version_major": 2,
                            "version_minor": 0
                        },
                        "text/plain": [
                            "Train:   0%|          | 0/265 [00:00<?, ?batch/s]"
                        ]
                    },
                    "metadata": {},
                    "output_type": "display_data"
                },
                {
                    "name": "stdout",
                    "output_type": "stream",
                    "text": [
                        "Epoch: [6][0/265]Elapsed 0.10s | Loss: 0.1098 Grad: 96570.5547 LR: 7.2598e-05\n",
                        "Epoch: [6][50/265]Elapsed 7.57s | Loss: 0.1480 Grad: 64460.5117 LR: 7.0118e-05\n",
                        "Epoch: [6][100/265]Elapsed 15.08s | Loss: 0.1470 Grad: 44540.9102 LR: 6.7577e-05\n",
                        "Epoch: [6][150/265]Elapsed 22.55s | Loss: 0.1479 Grad: 50012.2148 LR: 6.4984e-05\n",
                        "Epoch: [6][200/265]Elapsed 30.02s | Loss: 0.1472 Grad: 48980.5117 LR: 6.2345e-05\n",
                        "Epoch: [6][250/265]Elapsed 37.51s | Loss: 0.1448 Grad: 35120.7148 LR: 5.9670e-05\n",
                        "Epoch: [6][264/265]Elapsed 39.62s | Loss: 0.1440 Grad: 47404.4648 LR: 5.8915e-05\n"
                    ]
                },
                {
                    "data": {
                        "application/vnd.jupyter.widget-view+json": {
                            "model_id": "d02d876e37714379817e23d129857024",
                            "version_major": 2,
                            "version_minor": 0
                        },
                        "text/plain": [
                            "Valid:   0%|          | 0/430 [00:00<?, ?batch/s]"
                        ]
                    },
                    "metadata": {},
                    "output_type": "display_data"
                },
                {
                    "name": "stdout",
                    "output_type": "stream",
                    "text": [
                        "Epoch: [6][0/430]Elapsed 0.10s | Loss: 0.3555\n",
                        "Epoch: [6][50/430]Elapsed 4.89s | Loss: 0.3842\n",
                        "Epoch: [6][100/430]Elapsed 9.68s | Loss: 0.3786\n",
                        "Epoch: [6][150/430]Elapsed 14.48s | Loss: 0.3824\n",
                        "Epoch: [6][200/430]Elapsed 19.31s | Loss: 0.3745\n",
                        "Epoch: [6][250/430]Elapsed 24.12s | Loss: 0.3716\n",
                        "Epoch: [6][300/430]Elapsed 28.94s | Loss: 0.3680\n",
                        "Epoch: [6][350/430]Elapsed 33.75s | Loss: 0.3476\n",
                        "Epoch: [6][400/430]Elapsed 38.56s | Loss: 0.3289\n"
                    ]
                },
                {
                    "name": "stderr",
                    "output_type": "stream",
                    "text": [
                        "----------------------------------------------------------------------------------------------------\n",
                        "Epoch 6 - Average Train Loss: 0.1440 | Average Valid Loss: 0.3203 | Time: 81.12s\n",
                        "====================================================================================================\n",
                        "Fold 0 Valid Loss: (Easy) 1.3068 | (Hard) 0.7462\n",
                        "Elapse: 8.11 min \n",
                        "====================================================================================================\n",
                        "====================================================================================================\n",
                        "Fold: 1 || Valid size 4196 \n",
                        "====================================================================================================\n",
                        "- First Stage \n"
                    ]
                },
                {
                    "data": {
                        "application/vnd.jupyter.widget-view+json": {
                            "model_id": "0fc50f16c8b14a4cbaf487d70fcd900b",
                            "version_major": 2,
                            "version_minor": 0
                        },
                        "text/plain": [
                            "Train:   0%|          | 0/688 [00:00<?, ?batch/s]"
                        ]
                    },
                    "metadata": {},
                    "output_type": "display_data"
                },
                {
                    "name": "stdout",
                    "output_type": "stream",
                    "text": [
                        "Epoch: [1][0/688]Elapsed 0.10s | Loss: 0.8406 Grad: 74531.7266 LR: 4.0000e-06\n",
                        "Epoch: [1][50/688]Elapsed 7.51s | Loss: 0.8189 Grad: 70712.8047 LR: 4.8704e-06\n",
                        "Epoch: [1][100/688]Elapsed 15.03s | Loss: 0.8164 Grad: 72728.4453 LR: 7.4499e-06\n",
                        "Epoch: [1][150/688]Elapsed 22.52s | Loss: 0.8064 Grad: 54411.1055 LR: 1.1645e-05\n",
                        "Epoch: [1][200/688]Elapsed 29.98s | Loss: 0.7997 Grad: 80660.9766 LR: 1.7304e-05\n",
                        "Epoch: [1][250/688]Elapsed 37.42s | Loss: 0.7930 Grad: 74737.5938 LR: 2.4221e-05\n",
                        "Epoch: [1][300/688]Elapsed 44.88s | Loss: 0.7835 Grad: 83652.4531 LR: 3.2145e-05\n",
                        "Epoch: [1][350/688]Elapsed 52.31s | Loss: 0.7703 Grad: 81831.9453 LR: 4.0789e-05\n",
                        "Epoch: [1][400/688]Elapsed 59.73s | Loss: 0.7554 Grad: 97862.4453 LR: 4.9840e-05\n",
                        "Epoch: [1][450/688]Elapsed 67.13s | Loss: 0.7401 Grad: 82845.8984 LR: 5.8969e-05\n",
                        "Epoch: [1][500/688]Elapsed 74.53s | Loss: 0.7251 Grad: 66698.5781 LR: 6.7846e-05\n",
                        "Epoch: [1][550/688]Elapsed 81.91s | Loss: 0.7114 Grad: 55430.0234 LR: 7.6148e-05\n",
                        "Epoch: [1][600/688]Elapsed 89.29s | Loss: 0.6974 Grad: 61620.3008 LR: 8.3574e-05\n",
                        "Epoch: [1][650/688]Elapsed 96.69s | Loss: 0.6823 Grad: 46100.2031 LR: 8.9855e-05\n",
                        "Epoch: [1][687/688]Elapsed 102.20s | Loss: 0.6716 Grad: 94972.0781 LR: 9.3721e-05\n"
                    ]
                },
                {
                    "data": {
                        "application/vnd.jupyter.widget-view+json": {
                            "model_id": "a674ce359fc2488798e4f0eb3636b801",
                            "version_major": 2,
                            "version_minor": 0
                        },
                        "text/plain": [
                            "Valid:   0%|          | 0/263 [00:00<?, ?batch/s]"
                        ]
                    },
                    "metadata": {},
                    "output_type": "display_data"
                },
                {
                    "name": "stdout",
                    "output_type": "stream",
                    "text": [
                        "Epoch: [1][0/263]Elapsed 0.10s | Loss: 0.5842\n",
                        "Epoch: [1][50/263]Elapsed 4.91s | Loss: 0.4523\n",
                        "Epoch: [1][100/263]Elapsed 9.69s | Loss: 0.4495\n",
                        "Epoch: [1][150/263]Elapsed 14.49s | Loss: 0.4400\n",
                        "Epoch: [1][200/263]Elapsed 19.30s | Loss: 0.4215\n",
                        "Epoch: [1][250/263]Elapsed 24.12s | Loss: 0.4004\n"
                    ]
                },
                {
                    "name": "stderr",
                    "output_type": "stream",
                    "text": [
                        "----------------------------------------------------------------------------------------------------\n",
                        "Epoch 1 - Average Train Loss: 0.6716 | Average Valid Loss: 0.3983 | Time: 127.64s\n",
                        "Best model found in epoch 1 | valid loss: 0.3983\n"
                    ]
                },
                {
                    "data": {
                        "application/vnd.jupyter.widget-view+json": {
                            "model_id": "7e7474cba50447348248e9b1f0bbb6c7",
                            "version_major": 2,
                            "version_minor": 0
                        },
                        "text/plain": [
                            "Train:   0%|          | 0/688 [00:00<?, ?batch/s]"
                        ]
                    },
                    "metadata": {},
                    "output_type": "display_data"
                },
                {
                    "name": "stdout",
                    "output_type": "stream",
                    "text": [
                        "Epoch: [2][0/688]Elapsed 0.10s | Loss: 0.5052 Grad: 130737.2656 LR: 9.3721e-05\n",
                        "Epoch: [2][50/688]Elapsed 7.47s | Loss: 0.4616 Grad: 109811.2500 LR: 9.7464e-05\n",
                        "Epoch: [2][100/688]Elapsed 14.91s | Loss: 0.4575 Grad: 112770.5859 LR: 9.9558e-05\n",
                        "Epoch: [2][150/688]Elapsed 22.36s | Loss: 0.4535 Grad: 39551.0742 LR: 9.9999e-05\n",
                        "Epoch: [2][200/688]Elapsed 29.77s | Loss: 0.4502 Grad: 42857.2109 LR: 9.9981e-05\n",
                        "Epoch: [2][250/688]Elapsed 37.18s | Loss: 0.4391 Grad: 54987.8945 LR: 9.9942e-05\n",
                        "Epoch: [2][300/688]Elapsed 44.57s | Loss: 0.4364 Grad: 47460.8750 LR: 9.9879e-05\n",
                        "Epoch: [2][350/688]Elapsed 51.96s | Loss: 0.4306 Grad: 33226.6758 LR: 9.9795e-05\n",
                        "Epoch: [2][400/688]Elapsed 59.34s | Loss: 0.4255 Grad: 36875.5195 LR: 9.9688e-05\n",
                        "Epoch: [2][450/688]Elapsed 66.72s | Loss: 0.4210 Grad: 23142.6602 LR: 9.9559e-05\n",
                        "Epoch: [2][500/688]Elapsed 74.09s | Loss: 0.4169 Grad: 43178.3398 LR: 9.9408e-05\n",
                        "Epoch: [2][550/688]Elapsed 81.45s | Loss: 0.4152 Grad: 59953.7461 LR: 9.9235e-05\n",
                        "Epoch: [2][600/688]Elapsed 88.83s | Loss: 0.4111 Grad: 27379.8438 LR: 9.9040e-05\n",
                        "Epoch: [2][650/688]Elapsed 96.18s | Loss: 0.4085 Grad: 26508.1777 LR: 9.8823e-05\n",
                        "Epoch: [2][687/688]Elapsed 101.69s | Loss: 0.4054 Grad: 86292.9609 LR: 9.8643e-05\n"
                    ]
                },
                {
                    "data": {
                        "application/vnd.jupyter.widget-view+json": {
                            "model_id": "34b02afc2c0f4dd98a54afb4e66360b1",
                            "version_major": 2,
                            "version_minor": 0
                        },
                        "text/plain": [
                            "Valid:   0%|          | 0/263 [00:00<?, ?batch/s]"
                        ]
                    },
                    "metadata": {},
                    "output_type": "display_data"
                },
                {
                    "name": "stdout",
                    "output_type": "stream",
                    "text": [
                        "Epoch: [2][0/263]Elapsed 0.10s | Loss: 0.3681\n",
                        "Epoch: [2][50/263]Elapsed 4.89s | Loss: 0.3551\n",
                        "Epoch: [2][100/263]Elapsed 9.68s | Loss: 0.3539\n",
                        "Epoch: [2][150/263]Elapsed 14.48s | Loss: 0.3410\n",
                        "Epoch: [2][200/263]Elapsed 19.28s | Loss: 0.3344\n",
                        "Epoch: [2][250/263]Elapsed 24.08s | Loss: 0.3267\n"
                    ]
                },
                {
                    "name": "stderr",
                    "output_type": "stream",
                    "text": [
                        "----------------------------------------------------------------------------------------------------\n",
                        "Epoch 2 - Average Train Loss: 0.4054 | Average Valid Loss: 0.3271 | Time: 127.05s\n",
                        "Best model found in epoch 2 | valid loss: 0.3271\n"
                    ]
                },
                {
                    "data": {
                        "application/vnd.jupyter.widget-view+json": {
                            "model_id": "9c6af68dcf944d0996c1ad65d57b2d43",
                            "version_major": 2,
                            "version_minor": 0
                        },
                        "text/plain": [
                            "Train:   0%|          | 0/688 [00:00<?, ?batch/s]"
                        ]
                    },
                    "metadata": {},
                    "output_type": "display_data"
                },
                {
                    "name": "stdout",
                    "output_type": "stream",
                    "text": [
                        "Epoch: [3][0/688]Elapsed 0.10s | Loss: 0.3479 Grad: inf LR: 9.8643e-05\n",
                        "Epoch: [3][50/688]Elapsed 7.44s | Loss: 0.3318 Grad: 65168.9570 LR: 9.8388e-05\n",
                        "Epoch: [3][100/688]Elapsed 14.84s | Loss: 0.3336 Grad: 40010.4219 LR: 9.8111e-05\n",
                        "Epoch: [3][150/688]Elapsed 22.25s | Loss: 0.3324 Grad: 39962.8281 LR: 9.7812e-05\n",
                        "Epoch: [3][200/688]Elapsed 29.62s | Loss: 0.3319 Grad: 38123.3516 LR: 9.7492e-05\n",
                        "Epoch: [3][250/688]Elapsed 36.99s | Loss: 0.3269 Grad: 40945.0781 LR: 9.7151e-05\n",
                        "Epoch: [3][300/688]Elapsed 44.38s | Loss: 0.3264 Grad: 37662.4727 LR: 9.6789e-05\n",
                        "Epoch: [3][350/688]Elapsed 51.75s | Loss: 0.3243 Grad: 31962.1289 LR: 9.6406e-05\n",
                        "Epoch: [3][400/688]Elapsed 59.11s | Loss: 0.3235 Grad: 47424.5039 LR: 9.6002e-05\n",
                        "Epoch: [3][450/688]Elapsed 66.48s | Loss: 0.3221 Grad: 40248.9414 LR: 9.5578e-05\n",
                        "Epoch: [3][500/688]Elapsed 73.85s | Loss: 0.3216 Grad: 67533.1172 LR: 9.5133e-05\n",
                        "Epoch: [3][550/688]Elapsed 81.23s | Loss: 0.3224 Grad: 60062.9180 LR: 9.4669e-05\n",
                        "Epoch: [3][600/688]Elapsed 88.57s | Loss: 0.3216 Grad: 32914.5938 LR: 9.4184e-05\n",
                        "Epoch: [3][650/688]Elapsed 95.93s | Loss: 0.3199 Grad: 17108.6855 LR: 9.3679e-05\n",
                        "Epoch: [3][687/688]Elapsed 101.43s | Loss: 0.3181 Grad: 67737.6250 LR: 9.3283e-05\n"
                    ]
                },
                {
                    "data": {
                        "application/vnd.jupyter.widget-view+json": {
                            "model_id": "c58f5d1db802449e9fb8418a2104afbb",
                            "version_major": 2,
                            "version_minor": 0
                        },
                        "text/plain": [
                            "Valid:   0%|          | 0/263 [00:00<?, ?batch/s]"
                        ]
                    },
                    "metadata": {},
                    "output_type": "display_data"
                },
                {
                    "name": "stdout",
                    "output_type": "stream",
                    "text": [
                        "Epoch: [3][0/263]Elapsed 0.10s | Loss: 0.2997\n",
                        "Epoch: [3][50/263]Elapsed 4.89s | Loss: 0.3435\n",
                        "Epoch: [3][100/263]Elapsed 9.67s | Loss: 0.3345\n",
                        "Epoch: [3][150/263]Elapsed 14.47s | Loss: 0.3231\n",
                        "Epoch: [3][200/263]Elapsed 19.27s | Loss: 0.3169\n",
                        "Epoch: [3][250/263]Elapsed 24.06s | Loss: 0.3153\n"
                    ]
                },
                {
                    "name": "stderr",
                    "output_type": "stream",
                    "text": [
                        "----------------------------------------------------------------------------------------------------\n",
                        "Epoch 3 - Average Train Loss: 0.3181 | Average Valid Loss: 0.3148 | Time: 126.76s\n",
                        "Best model found in epoch 3 | valid loss: 0.3148\n"
                    ]
                },
                {
                    "data": {
                        "application/vnd.jupyter.widget-view+json": {
                            "model_id": "0df4417fe06542e8a64cfd0c94357c4f",
                            "version_major": 2,
                            "version_minor": 0
                        },
                        "text/plain": [
                            "Train:   0%|          | 0/688 [00:00<?, ?batch/s]"
                        ]
                    },
                    "metadata": {},
                    "output_type": "display_data"
                },
                {
                    "name": "stdout",
                    "output_type": "stream",
                    "text": [
                        "Epoch: [4][0/688]Elapsed 0.10s | Loss: 0.2321 Grad: inf LR: 9.3283e-05\n",
                        "Epoch: [4][50/688]Elapsed 7.45s | Loss: 0.2717 Grad: 24189.2832 LR: 9.2744e-05\n",
                        "Epoch: [4][100/688]Elapsed 14.87s | Loss: 0.2768 Grad: 42063.4688 LR: 9.2186e-05\n",
                        "Epoch: [4][150/688]Elapsed 22.28s | Loss: 0.2749 Grad: 40737.9766 LR: 9.1610e-05\n",
                        "Epoch: [4][200/688]Elapsed 29.67s | Loss: 0.2776 Grad: 24503.3438 LR: 9.1014e-05\n",
                        "Epoch: [4][250/688]Elapsed 37.05s | Loss: 0.2726 Grad: 35992.7422 LR: 9.0401e-05\n",
                        "Epoch: [4][300/688]Elapsed 44.42s | Loss: 0.2741 Grad: 40333.6211 LR: 8.9769e-05\n",
                        "Epoch: [4][350/688]Elapsed 51.80s | Loss: 0.2716 Grad: 28250.0723 LR: 8.9120e-05\n",
                        "Epoch: [4][400/688]Elapsed 59.16s | Loss: 0.2697 Grad: 38805.6523 LR: 8.8453e-05\n",
                        "Epoch: [4][450/688]Elapsed 66.52s | Loss: 0.2691 Grad: 29226.6699 LR: 8.7769e-05\n",
                        "Epoch: [4][500/688]Elapsed 73.88s | Loss: 0.2679 Grad: 51128.7695 LR: 8.7068e-05\n",
                        "Epoch: [4][550/688]Elapsed 81.25s | Loss: 0.2697 Grad: 54394.5273 LR: 8.6351e-05\n",
                        "Epoch: [4][600/688]Elapsed 88.63s | Loss: 0.2687 Grad: 45313.6445 LR: 8.5617e-05\n",
                        "Epoch: [4][650/688]Elapsed 96.00s | Loss: 0.2681 Grad: 21363.5547 LR: 8.4868e-05\n",
                        "Epoch: [4][687/688]Elapsed 101.54s | Loss: 0.2667 Grad: 56127.6797 LR: 8.4288e-05\n"
                    ]
                },
                {
                    "data": {
                        "application/vnd.jupyter.widget-view+json": {
                            "model_id": "6b80a750134544638bce1c952e292c3d",
                            "version_major": 2,
                            "version_minor": 0
                        },
                        "text/plain": [
                            "Valid:   0%|          | 0/263 [00:00<?, ?batch/s]"
                        ]
                    },
                    "metadata": {},
                    "output_type": "display_data"
                },
                {
                    "name": "stdout",
                    "output_type": "stream",
                    "text": [
                        "Epoch: [4][0/263]Elapsed 0.10s | Loss: 0.2374\n",
                        "Epoch: [4][50/263]Elapsed 4.89s | Loss: 0.3398\n",
                        "Epoch: [4][100/263]Elapsed 9.68s | Loss: 0.3332\n",
                        "Epoch: [4][150/263]Elapsed 14.48s | Loss: 0.3219\n",
                        "Epoch: [4][200/263]Elapsed 19.29s | Loss: 0.3171\n",
                        "Epoch: [4][250/263]Elapsed 24.08s | Loss: 0.3215\n"
                    ]
                },
                {
                    "name": "stderr",
                    "output_type": "stream",
                    "text": [
                        "----------------------------------------------------------------------------------------------------\n",
                        "Epoch 4 - Average Train Loss: 0.2667 | Average Valid Loss: 0.3225 | Time: 126.89s\n"
                    ]
                },
                {
                    "data": {
                        "application/vnd.jupyter.widget-view+json": {
                            "model_id": "d180925a57db458ea32f7fa61ee22e7d",
                            "version_major": 2,
                            "version_minor": 0
                        },
                        "text/plain": [
                            "Train:   0%|          | 0/688 [00:00<?, ?batch/s]"
                        ]
                    },
                    "metadata": {},
                    "output_type": "display_data"
                },
                {
                    "name": "stdout",
                    "output_type": "stream",
                    "text": [
                        "Epoch: [5][0/688]Elapsed 0.10s | Loss: 0.2473 Grad: inf LR: 8.4288e-05\n",
                        "Epoch: [5][50/688]Elapsed 7.51s | Loss: 0.2431 Grad: 29467.2051 LR: 8.3511e-05\n",
                        "Epoch: [5][100/688]Elapsed 14.95s | Loss: 0.2384 Grad: 47329.5078 LR: 8.2719e-05\n",
                        "Epoch: [5][150/688]Elapsed 22.38s | Loss: 0.2369 Grad: 36409.3477 LR: 8.1913e-05\n",
                        "Epoch: [5][200/688]Elapsed 29.81s | Loss: 0.2357 Grad: 28232.3887 LR: 8.1092e-05\n",
                        "Epoch: [5][250/688]Elapsed 37.21s | Loss: 0.2335 Grad: 62563.2891 LR: 8.0258e-05\n",
                        "Epoch: [5][300/688]Elapsed 44.61s | Loss: 0.2333 Grad: 29941.5059 LR: 7.9410e-05\n",
                        "Epoch: [5][350/688]Elapsed 52.00s | Loss: 0.2303 Grad: 18555.4023 LR: 7.8549e-05\n",
                        "Epoch: [5][400/688]Elapsed 59.40s | Loss: 0.2283 Grad: 42669.3281 LR: 7.7675e-05\n",
                        "Epoch: [5][450/688]Elapsed 66.76s | Loss: 0.2282 Grad: 31571.1094 LR: 7.6789e-05\n",
                        "Epoch: [5][500/688]Elapsed 74.14s | Loss: 0.2280 Grad: 50000.6562 LR: 7.5890e-05\n",
                        "Epoch: [5][550/688]Elapsed 81.50s | Loss: 0.2289 Grad: 81524.3359 LR: 7.4981e-05\n",
                        "Epoch: [5][600/688]Elapsed 88.87s | Loss: 0.2273 Grad: 33811.0586 LR: 7.4060e-05\n",
                        "Epoch: [5][650/688]Elapsed 96.23s | Loss: 0.2261 Grad: 14957.9443 LR: 7.3128e-05\n",
                        "Epoch: [5][687/688]Elapsed 101.73s | Loss: 0.2246 Grad: 70460.7344 LR: 7.2413e-05\n"
                    ]
                },
                {
                    "data": {
                        "application/vnd.jupyter.widget-view+json": {
                            "model_id": "b9ede0eb0f1f4a30aad3fa761e886651",
                            "version_major": 2,
                            "version_minor": 0
                        },
                        "text/plain": [
                            "Valid:   0%|          | 0/263 [00:00<?, ?batch/s]"
                        ]
                    },
                    "metadata": {},
                    "output_type": "display_data"
                },
                {
                    "name": "stdout",
                    "output_type": "stream",
                    "text": [
                        "Epoch: [5][0/263]Elapsed 0.10s | Loss: 0.1815\n",
                        "Epoch: [5][50/263]Elapsed 4.89s | Loss: 0.3408\n",
                        "Epoch: [5][100/263]Elapsed 9.67s | Loss: 0.3330\n",
                        "Epoch: [5][150/263]Elapsed 14.47s | Loss: 0.3220\n",
                        "Epoch: [5][200/263]Elapsed 19.27s | Loss: 0.3212\n",
                        "Epoch: [5][250/263]Elapsed 24.06s | Loss: 0.3303\n"
                    ]
                },
                {
                    "name": "stderr",
                    "output_type": "stream",
                    "text": [
                        "----------------------------------------------------------------------------------------------------\n",
                        "Epoch 5 - Average Train Loss: 0.2246 | Average Valid Loss: 0.3322 | Time: 127.06s\n"
                    ]
                },
                {
                    "data": {
                        "application/vnd.jupyter.widget-view+json": {
                            "model_id": "5df18410eb51452bb4c39e6b3e3ed967",
                            "version_major": 2,
                            "version_minor": 0
                        },
                        "text/plain": [
                            "Train:   0%|          | 0/688 [00:00<?, ?batch/s]"
                        ]
                    },
                    "metadata": {},
                    "output_type": "display_data"
                },
                {
                    "name": "stdout",
                    "output_type": "stream",
                    "text": [
                        "Epoch: [6][0/688]Elapsed 0.11s | Loss: 0.1914 Grad: inf LR: 7.2413e-05\n",
                        "Epoch: [6][50/688]Elapsed 7.47s | Loss: 0.2036 Grad: 40596.8750 LR: 7.1464e-05\n",
                        "Epoch: [6][100/688]Elapsed 14.89s | Loss: 0.2006 Grad: 29874.7617 LR: 7.0505e-05\n",
                        "Epoch: [6][150/688]Elapsed 22.30s | Loss: 0.1941 Grad: 26758.8672 LR: 6.9536e-05\n",
                        "Epoch: [6][200/688]Elapsed 29.71s | Loss: 0.1950 Grad: 45151.2188 LR: 6.8559e-05\n",
                        "Epoch: [6][250/688]Elapsed 37.10s | Loss: 0.1904 Grad: 32084.9648 LR: 6.7574e-05\n",
                        "Epoch: [6][300/688]Elapsed 44.48s | Loss: 0.1909 Grad: 37906.6797 LR: 6.6581e-05\n",
                        "Epoch: [6][350/688]Elapsed 51.84s | Loss: 0.1879 Grad: 20038.9434 LR: 6.5580e-05\n",
                        "Epoch: [6][400/688]Elapsed 59.21s | Loss: 0.1870 Grad: 32596.9297 LR: 6.4573e-05\n",
                        "Epoch: [6][450/688]Elapsed 66.59s | Loss: 0.1870 Grad: 35736.1719 LR: 6.3559e-05\n",
                        "Epoch: [6][500/688]Elapsed 73.98s | Loss: 0.1866 Grad: 62429.0586 LR: 6.2539e-05\n",
                        "Epoch: [6][550/688]Elapsed 81.37s | Loss: 0.1886 Grad: 49791.7383 LR: 6.1513e-05\n",
                        "Epoch: [6][600/688]Elapsed 88.74s | Loss: 0.1879 Grad: 61505.2617 LR: 6.0483e-05\n",
                        "Epoch: [6][650/688]Elapsed 96.12s | Loss: 0.1873 Grad: 15597.1807 LR: 5.9447e-05\n",
                        "Epoch: [6][687/688]Elapsed 101.63s | Loss: 0.1868 Grad: 62991.9609 LR: 5.8657e-05\n"
                    ]
                },
                {
                    "data": {
                        "application/vnd.jupyter.widget-view+json": {
                            "model_id": "941719c295e04e0dbf4be682fae4b6da",
                            "version_major": 2,
                            "version_minor": 0
                        },
                        "text/plain": [
                            "Valid:   0%|          | 0/263 [00:00<?, ?batch/s]"
                        ]
                    },
                    "metadata": {},
                    "output_type": "display_data"
                },
                {
                    "name": "stdout",
                    "output_type": "stream",
                    "text": [
                        "Epoch: [6][0/263]Elapsed 0.10s | Loss: 0.1363\n",
                        "Epoch: [6][50/263]Elapsed 4.89s | Loss: 0.3527\n",
                        "Epoch: [6][100/263]Elapsed 9.67s | Loss: 0.3392\n",
                        "Epoch: [6][150/263]Elapsed 14.47s | Loss: 0.3271\n",
                        "Epoch: [6][200/263]Elapsed 19.27s | Loss: 0.3273\n",
                        "Epoch: [6][250/263]Elapsed 24.07s | Loss: 0.3368\n"
                    ]
                },
                {
                    "name": "stderr",
                    "output_type": "stream",
                    "text": [
                        "----------------------------------------------------------------------------------------------------\n",
                        "Epoch 6 - Average Train Loss: 0.1868 | Average Valid Loss: 0.3384 | Time: 126.98s\n",
                        "====================================================================================================\n",
                        "Fold 1 Valid Loss: (Easy) 1.2245 | (Hard) 0.7744\n",
                        "Elapse: 12.71 min \n",
                        "====================================================================================================\n",
                        "- Second Stage \n",
                        "Use Checkpoint: ENet_b2_softmax_fold_1_stage_1.pth\n"
                    ]
                },
                {
                    "data": {
                        "application/vnd.jupyter.widget-view+json": {
                            "model_id": "2f5e34e2e1cb4d9280faa6feb851b2d6",
                            "version_major": 2,
                            "version_minor": 0
                        },
                        "text/plain": [
                            "Train:   0%|          | 0/310 [00:00<?, ?batch/s]"
                        ]
                    },
                    "metadata": {},
                    "output_type": "display_data"
                },
                {
                    "name": "stdout",
                    "output_type": "stream",
                    "text": [
                        "Epoch: [1][0/310]Elapsed 0.10s | Loss: 0.6365 Grad: nan LR: 4.0000e-06\n",
                        "Epoch: [1][50/310]Elapsed 7.43s | Loss: 0.4429 Grad: 77706.9375 LR: 8.2610e-06\n",
                        "Epoch: [1][100/310]Elapsed 14.87s | Loss: 0.4230 Grad: 83468.4219 LR: 2.0288e-05\n",
                        "Epoch: [1][150/310]Elapsed 22.31s | Loss: 0.3927 Grad: 37790.1992 LR: 3.7945e-05\n",
                        "Epoch: [1][200/310]Elapsed 29.70s | Loss: 0.3656 Grad: 32330.3711 LR: 5.8097e-05\n",
                        "Epoch: [1][250/310]Elapsed 37.12s | Loss: 0.3422 Grad: 35759.5195 LR: 7.7167e-05\n",
                        "Epoch: [1][300/310]Elapsed 44.52s | Loss: 0.3232 Grad: 20875.6484 LR: 9.1768e-05\n",
                        "Epoch: [1][309/310]Elapsed 45.94s | Loss: 0.3200 Grad: 40429.9102 LR: 9.3905e-05\n"
                    ]
                },
                {
                    "data": {
                        "application/vnd.jupyter.widget-view+json": {
                            "model_id": "9234df5510174169b09d2faf7f859263",
                            "version_major": 2,
                            "version_minor": 0
                        },
                        "text/plain": [
                            "Valid:   0%|          | 0/263 [00:00<?, ?batch/s]"
                        ]
                    },
                    "metadata": {},
                    "output_type": "display_data"
                },
                {
                    "name": "stdout",
                    "output_type": "stream",
                    "text": [
                        "Epoch: [1][0/263]Elapsed 0.10s | Loss: 0.3368\n",
                        "Epoch: [1][50/263]Elapsed 4.90s | Loss: 0.4358\n",
                        "Epoch: [1][100/263]Elapsed 9.70s | Loss: 0.4292\n",
                        "Epoch: [1][150/263]Elapsed 14.52s | Loss: 0.4123\n",
                        "Epoch: [1][200/263]Elapsed 19.34s | Loss: 0.3809\n",
                        "Epoch: [1][250/263]Elapsed 24.14s | Loss: 0.3455\n"
                    ]
                },
                {
                    "name": "stderr",
                    "output_type": "stream",
                    "text": [
                        "----------------------------------------------------------------------------------------------------\n",
                        "Epoch 1 - Average Train Loss: 0.3200 | Average Valid Loss: 0.3393 | Time: 71.35s\n",
                        "Best model found in epoch 1 | valid loss: 0.3393\n"
                    ]
                },
                {
                    "data": {
                        "application/vnd.jupyter.widget-view+json": {
                            "model_id": "c3576eb469ba46958d798c3e303ec68f",
                            "version_major": 2,
                            "version_minor": 0
                        },
                        "text/plain": [
                            "Train:   0%|          | 0/310 [00:00<?, ?batch/s]"
                        ]
                    },
                    "metadata": {},
                    "output_type": "display_data"
                },
                {
                    "name": "stdout",
                    "output_type": "stream",
                    "text": [
                        "Epoch: [2][0/310]Elapsed 0.11s | Loss: 0.2758 Grad: 113386.7891 LR: 9.3905e-05\n",
                        "Epoch: [2][50/310]Elapsed 7.51s | Loss: 0.2266 Grad: 85519.6172 LR: 9.9827e-05\n",
                        "Epoch: [2][100/310]Elapsed 14.96s | Loss: 0.2280 Grad: 40952.6016 LR: 9.9965e-05\n",
                        "Epoch: [2][150/310]Elapsed 22.38s | Loss: 0.2223 Grad: 47693.6797 LR: 9.9822e-05\n",
                        "Epoch: [2][200/310]Elapsed 29.77s | Loss: 0.2175 Grad: 38967.9727 LR: 9.9569e-05\n",
                        "Epoch: [2][250/310]Elapsed 37.16s | Loss: 0.2136 Grad: 58909.9961 LR: 9.9208e-05\n",
                        "Epoch: [2][300/310]Elapsed 44.55s | Loss: 0.2102 Grad: 46141.7852 LR: 9.8738e-05\n",
                        "Epoch: [2][309/310]Elapsed 45.94s | Loss: 0.2096 Grad: 55421.6172 LR: 9.8631e-05\n"
                    ]
                },
                {
                    "data": {
                        "application/vnd.jupyter.widget-view+json": {
                            "model_id": "19e7014d2efb4003b4dbaf1ba150ae81",
                            "version_major": 2,
                            "version_minor": 0
                        },
                        "text/plain": [
                            "Valid:   0%|          | 0/263 [00:00<?, ?batch/s]"
                        ]
                    },
                    "metadata": {},
                    "output_type": "display_data"
                },
                {
                    "name": "stdout",
                    "output_type": "stream",
                    "text": [
                        "Epoch: [2][0/263]Elapsed 0.10s | Loss: 0.3550\n",
                        "Epoch: [2][50/263]Elapsed 4.90s | Loss: 0.4265\n",
                        "Epoch: [2][100/263]Elapsed 9.69s | Loss: 0.4245\n",
                        "Epoch: [2][150/263]Elapsed 14.50s | Loss: 0.4054\n",
                        "Epoch: [2][200/263]Elapsed 19.31s | Loss: 0.3727\n",
                        "Epoch: [2][250/263]Elapsed 24.12s | Loss: 0.3349\n"
                    ]
                },
                {
                    "name": "stderr",
                    "output_type": "stream",
                    "text": [
                        "----------------------------------------------------------------------------------------------------\n",
                        "Epoch 2 - Average Train Loss: 0.2096 | Average Valid Loss: 0.3283 | Time: 71.33s\n",
                        "Best model found in epoch 2 | valid loss: 0.3283\n"
                    ]
                },
                {
                    "data": {
                        "application/vnd.jupyter.widget-view+json": {
                            "model_id": "abb5a56e0fbe40448ff0319a1b35b42e",
                            "version_major": 2,
                            "version_minor": 0
                        },
                        "text/plain": [
                            "Train:   0%|          | 0/310 [00:00<?, ?batch/s]"
                        ]
                    },
                    "metadata": {},
                    "output_type": "display_data"
                },
                {
                    "name": "stdout",
                    "output_type": "stream",
                    "text": [
                        "Epoch: [3][0/310]Elapsed 0.10s | Loss: 0.2430 Grad: 108894.0938 LR: 9.8631e-05\n",
                        "Epoch: [3][50/310]Elapsed 7.45s | Loss: 0.1954 Grad: 67884.6719 LR: 9.8033e-05\n",
                        "Epoch: [3][100/310]Elapsed 14.87s | Loss: 0.1985 Grad: 38472.7773 LR: 9.7329e-05\n",
                        "Epoch: [3][150/310]Elapsed 22.29s | Loss: 0.1963 Grad: 33775.5078 LR: 9.6521e-05\n",
                        "Epoch: [3][200/310]Elapsed 29.71s | Loss: 0.1924 Grad: 32277.8770 LR: 9.5610e-05\n",
                        "Epoch: [3][250/310]Elapsed 37.11s | Loss: 0.1896 Grad: 44961.3398 LR: 9.4599e-05\n",
                        "Epoch: [3][300/310]Elapsed 44.49s | Loss: 0.1865 Grad: 39797.4688 LR: 9.3490e-05\n",
                        "Epoch: [3][309/310]Elapsed 45.90s | Loss: 0.1862 Grad: 63072.5000 LR: 9.3257e-05\n"
                    ]
                },
                {
                    "data": {
                        "application/vnd.jupyter.widget-view+json": {
                            "model_id": "fec053747e224f51b6166bdae2c9bd7e",
                            "version_major": 2,
                            "version_minor": 0
                        },
                        "text/plain": [
                            "Valid:   0%|          | 0/263 [00:00<?, ?batch/s]"
                        ]
                    },
                    "metadata": {},
                    "output_type": "display_data"
                },
                {
                    "name": "stdout",
                    "output_type": "stream",
                    "text": [
                        "Epoch: [3][0/263]Elapsed 0.10s | Loss: 0.3685\n",
                        "Epoch: [3][50/263]Elapsed 4.89s | Loss: 0.4274\n",
                        "Epoch: [3][100/263]Elapsed 9.67s | Loss: 0.4260\n",
                        "Epoch: [3][150/263]Elapsed 14.48s | Loss: 0.4058\n",
                        "Epoch: [3][200/263]Elapsed 19.30s | Loss: 0.3725\n",
                        "Epoch: [3][250/263]Elapsed 24.11s | Loss: 0.3345\n"
                    ]
                },
                {
                    "name": "stderr",
                    "output_type": "stream",
                    "text": [
                        "----------------------------------------------------------------------------------------------------\n",
                        "Epoch 3 - Average Train Loss: 0.1862 | Average Valid Loss: 0.3280 | Time: 71.29s\n",
                        "Best model found in epoch 3 | valid loss: 0.3280\n"
                    ]
                },
                {
                    "data": {
                        "application/vnd.jupyter.widget-view+json": {
                            "model_id": "25fea33f5dc145ddb3abad900c36542e",
                            "version_major": 2,
                            "version_minor": 0
                        },
                        "text/plain": [
                            "Train:   0%|          | 0/310 [00:00<?, ?batch/s]"
                        ]
                    },
                    "metadata": {},
                    "output_type": "display_data"
                },
                {
                    "name": "stdout",
                    "output_type": "stream",
                    "text": [
                        "Epoch: [4][0/310]Elapsed 0.10s | Loss: 0.2182 Grad: 126815.1719 LR: 9.3257e-05\n",
                        "Epoch: [4][50/310]Elapsed 7.48s | Loss: 0.1757 Grad: 52514.2344 LR: 9.2034e-05\n",
                        "Epoch: [4][100/310]Elapsed 14.93s | Loss: 0.1770 Grad: 38758.7539 LR: 9.0718e-05\n",
                        "Epoch: [4][150/310]Elapsed 22.37s | Loss: 0.1730 Grad: 30819.3555 LR: 8.9312e-05\n",
                        "Epoch: [4][200/310]Elapsed 29.79s | Loss: 0.1706 Grad: 47425.3594 LR: 8.7820e-05\n",
                        "Epoch: [4][250/310]Elapsed 37.21s | Loss: 0.1684 Grad: 39959.8906 LR: 8.6245e-05\n",
                        "Epoch: [4][300/310]Elapsed 44.64s | Loss: 0.1673 Grad: 35065.0312 LR: 8.4590e-05\n",
                        "Epoch: [4][309/310]Elapsed 46.05s | Loss: 0.1669 Grad: 70122.0156 LR: 8.4250e-05\n"
                    ]
                },
                {
                    "data": {
                        "application/vnd.jupyter.widget-view+json": {
                            "model_id": "b156c45a609b46d9bd5056809a53f355",
                            "version_major": 2,
                            "version_minor": 0
                        },
                        "text/plain": [
                            "Valid:   0%|          | 0/263 [00:00<?, ?batch/s]"
                        ]
                    },
                    "metadata": {},
                    "output_type": "display_data"
                },
                {
                    "name": "stdout",
                    "output_type": "stream",
                    "text": [
                        "Epoch: [4][0/263]Elapsed 0.11s | Loss: 0.3893\n",
                        "Epoch: [4][50/263]Elapsed 4.90s | Loss: 0.4349\n",
                        "Epoch: [4][100/263]Elapsed 9.70s | Loss: 0.4328\n",
                        "Epoch: [4][150/263]Elapsed 14.51s | Loss: 0.4124\n",
                        "Epoch: [4][200/263]Elapsed 19.33s | Loss: 0.3782\n",
                        "Epoch: [4][250/263]Elapsed 24.18s | Loss: 0.3389\n"
                    ]
                },
                {
                    "name": "stderr",
                    "output_type": "stream",
                    "text": [
                        "----------------------------------------------------------------------------------------------------\n",
                        "Epoch 4 - Average Train Loss: 0.1669 | Average Valid Loss: 0.3320 | Time: 71.51s\n"
                    ]
                },
                {
                    "data": {
                        "application/vnd.jupyter.widget-view+json": {
                            "model_id": "db448ea4a59d40fd88658edf7e2a8c44",
                            "version_major": 2,
                            "version_minor": 0
                        },
                        "text/plain": [
                            "Train:   0%|          | 0/310 [00:00<?, ?batch/s]"
                        ]
                    },
                    "metadata": {},
                    "output_type": "display_data"
                },
                {
                    "name": "stdout",
                    "output_type": "stream",
                    "text": [
                        "Epoch: [5][0/310]Elapsed 0.12s | Loss: 0.1881 Grad: 91558.4375 LR: 8.4250e-05\n",
                        "Epoch: [5][50/310]Elapsed 7.50s | Loss: 0.1566 Grad: 27493.2715 LR: 8.2504e-05\n",
                        "Epoch: [5][100/310]Elapsed 14.94s | Loss: 0.1635 Grad: 56233.0820 LR: 8.0687e-05\n",
                        "Epoch: [5][150/310]Elapsed 22.39s | Loss: 0.1606 Grad: 35594.5625 LR: 7.8802e-05\n",
                        "Epoch: [5][200/310]Elapsed 29.80s | Loss: 0.1582 Grad: 41896.4180 LR: 7.6854e-05\n",
                        "Epoch: [5][250/310]Elapsed 37.19s | Loss: 0.1565 Grad: 37542.0781 LR: 7.4847e-05\n",
                        "Epoch: [5][300/310]Elapsed 44.57s | Loss: 0.1543 Grad: 37370.3164 LR: 7.2786e-05\n",
                        "Epoch: [5][309/310]Elapsed 45.97s | Loss: 0.1540 Grad: 59833.8047 LR: 7.2367e-05\n"
                    ]
                },
                {
                    "data": {
                        "application/vnd.jupyter.widget-view+json": {
                            "model_id": "0b88469c389144f6899dca8f6aa540a4",
                            "version_major": 2,
                            "version_minor": 0
                        },
                        "text/plain": [
                            "Valid:   0%|          | 0/263 [00:00<?, ?batch/s]"
                        ]
                    },
                    "metadata": {},
                    "output_type": "display_data"
                },
                {
                    "name": "stdout",
                    "output_type": "stream",
                    "text": [
                        "Epoch: [5][0/263]Elapsed 0.10s | Loss: 0.3797\n",
                        "Epoch: [5][50/263]Elapsed 4.89s | Loss: 0.4337\n",
                        "Epoch: [5][100/263]Elapsed 9.67s | Loss: 0.4302\n",
                        "Epoch: [5][150/263]Elapsed 14.47s | Loss: 0.4097\n",
                        "Epoch: [5][200/263]Elapsed 19.28s | Loss: 0.3761\n",
                        "Epoch: [5][250/263]Elapsed 24.09s | Loss: 0.3367\n"
                    ]
                },
                {
                    "name": "stderr",
                    "output_type": "stream",
                    "text": [
                        "----------------------------------------------------------------------------------------------------\n",
                        "Epoch 5 - Average Train Loss: 0.1540 | Average Valid Loss: 0.3299 | Time: 71.33s\n"
                    ]
                },
                {
                    "data": {
                        "application/vnd.jupyter.widget-view+json": {
                            "model_id": "49e5bde4907a4ef0b7c9eee53df8e5f6",
                            "version_major": 2,
                            "version_minor": 0
                        },
                        "text/plain": [
                            "Train:   0%|          | 0/310 [00:00<?, ?batch/s]"
                        ]
                    },
                    "metadata": {},
                    "output_type": "display_data"
                },
                {
                    "name": "stdout",
                    "output_type": "stream",
                    "text": [
                        "Epoch: [6][0/310]Elapsed 0.10s | Loss: 0.1968 Grad: 106311.6172 LR: 7.2367e-05\n",
                        "Epoch: [6][50/310]Elapsed 7.47s | Loss: 0.1444 Grad: 77516.4219 LR: 7.0246e-05\n",
                        "Epoch: [6][100/310]Elapsed 14.91s | Loss: 0.1500 Grad: 45552.2539 LR: 6.8080e-05\n",
                        "Epoch: [6][150/310]Elapsed 22.34s | Loss: 0.1468 Grad: 26878.0020 LR: 6.5874e-05\n",
                        "Epoch: [6][200/310]Elapsed 29.75s | Loss: 0.1454 Grad: 36101.4844 LR: 6.3634e-05\n",
                        "Epoch: [6][250/310]Elapsed 37.14s | Loss: 0.1433 Grad: 40890.4531 LR: 6.1364e-05\n",
                        "Epoch: [6][300/310]Elapsed 44.52s | Loss: 0.1422 Grad: 43224.8555 LR: 5.9068e-05\n",
                        "Epoch: [6][309/310]Elapsed 45.93s | Loss: 0.1420 Grad: 54778.7930 LR: 5.8607e-05\n"
                    ]
                },
                {
                    "data": {
                        "application/vnd.jupyter.widget-view+json": {
                            "model_id": "2e46213fc2834573b28fdf09cd0656e1",
                            "version_major": 2,
                            "version_minor": 0
                        },
                        "text/plain": [
                            "Valid:   0%|          | 0/263 [00:00<?, ?batch/s]"
                        ]
                    },
                    "metadata": {},
                    "output_type": "display_data"
                },
                {
                    "name": "stdout",
                    "output_type": "stream",
                    "text": [
                        "Epoch: [6][0/263]Elapsed 0.10s | Loss: 0.3738\n",
                        "Epoch: [6][50/263]Elapsed 4.90s | Loss: 0.4303\n",
                        "Epoch: [6][100/263]Elapsed 9.69s | Loss: 0.4293\n",
                        "Epoch: [6][150/263]Elapsed 14.50s | Loss: 0.4086\n",
                        "Epoch: [6][200/263]Elapsed 19.32s | Loss: 0.3755\n",
                        "Epoch: [6][250/263]Elapsed 24.13s | Loss: 0.3360\n"
                    ]
                },
                {
                    "name": "stderr",
                    "output_type": "stream",
                    "text": [
                        "----------------------------------------------------------------------------------------------------\n",
                        "Epoch 6 - Average Train Loss: 0.1420 | Average Valid Loss: 0.3290 | Time: 71.34s\n",
                        "====================================================================================================\n",
                        "Fold 1 Valid Loss: (Easy) 1.3164 | (Hard) 0.7747\n",
                        "Elapse: 7.14 min \n",
                        "====================================================================================================\n",
                        "====================================================================================================\n",
                        "Fold: 2 || Valid size 3358 \n",
                        "====================================================================================================\n",
                        "- First Stage \n"
                    ]
                },
                {
                    "data": {
                        "application/vnd.jupyter.widget-view+json": {
                            "model_id": "71b470f0d65f4c85a63fd2367d842950",
                            "version_major": 2,
                            "version_minor": 0
                        },
                        "text/plain": [
                            "Train:   0%|          | 0/733 [00:00<?, ?batch/s]"
                        ]
                    },
                    "metadata": {},
                    "output_type": "display_data"
                },
                {
                    "name": "stdout",
                    "output_type": "stream",
                    "text": [
                        "Epoch: [1][0/733]Elapsed 0.10s | Loss: 0.8214 Grad: 74181.2422 LR: 4.0000e-06\n",
                        "Epoch: [1][50/733]Elapsed 7.44s | Loss: 0.8174 Grad: 73121.2188 LR: 4.7668e-06\n",
                        "Epoch: [1][100/733]Elapsed 14.89s | Loss: 0.8150 Grad: 62215.3320 LR: 7.0428e-06\n",
                        "Epoch: [1][150/733]Elapsed 22.33s | Loss: 0.8064 Grad: 74477.3359 LR: 1.0755e-05\n",
                        "Epoch: [1][200/733]Elapsed 29.76s | Loss: 0.8016 Grad: 72003.1016 LR: 1.5785e-05\n",
                        "Epoch: [1][250/733]Elapsed 37.14s | Loss: 0.7940 Grad: 172083.0781 LR: 2.1973e-05\n",
                        "Epoch: [1][300/733]Elapsed 44.53s | Loss: 0.7836 Grad: 72253.1875 LR: 2.9120e-05\n",
                        "Epoch: [1][350/733]Elapsed 51.92s | Loss: 0.7699 Grad: 80833.6953 LR: 3.6997e-05\n",
                        "Epoch: [1][400/733]Elapsed 59.30s | Loss: 0.7578 Grad: 64234.5508 LR: 4.5354e-05\n",
                        "Epoch: [1][450/733]Elapsed 66.68s | Loss: 0.7437 Grad: 45924.4375 LR: 5.3924e-05\n",
                        "Epoch: [1][500/733]Elapsed 74.05s | Loss: 0.7288 Grad: 62324.6719 LR: 6.2432e-05\n",
                        "Epoch: [1][550/733]Elapsed 81.44s | Loss: 0.7157 Grad: 76871.4375 LR: 7.0607e-05\n",
                        "Epoch: [1][600/733]Elapsed 88.82s | Loss: 0.7024 Grad: 75946.5156 LR: 7.8187e-05\n",
                        "Epoch: [1][650/733]Elapsed 96.17s | Loss: 0.6879 Grad: 96534.8906 LR: 8.4930e-05\n",
                        "Epoch: [1][700/733]Elapsed 103.53s | Loss: 0.6745 Grad: 74265.0547 LR: 9.0622e-05\n",
                        "Epoch: [1][732/733]Elapsed 108.25s | Loss: 0.6662 Grad: 118618.2500 LR: 9.3626e-05\n"
                    ]
                },
                {
                    "data": {
                        "application/vnd.jupyter.widget-view+json": {
                            "model_id": "acb2efb3855240b2948fdb1358ca5bfc",
                            "version_major": 2,
                            "version_minor": 0
                        },
                        "text/plain": [
                            "Valid:   0%|          | 0/210 [00:00<?, ?batch/s]"
                        ]
                    },
                    "metadata": {},
                    "output_type": "display_data"
                },
                {
                    "name": "stdout",
                    "output_type": "stream",
                    "text": [
                        "Epoch: [1][0/210]Elapsed 0.10s | Loss: 0.3094\n",
                        "Epoch: [1][50/210]Elapsed 4.88s | Loss: 0.4230\n",
                        "Epoch: [1][100/210]Elapsed 9.66s | Loss: 0.4285\n",
                        "Epoch: [1][150/210]Elapsed 14.46s | Loss: 0.4212\n",
                        "Epoch: [1][200/210]Elapsed 19.26s | Loss: 0.3966\n"
                    ]
                },
                {
                    "name": "stderr",
                    "output_type": "stream",
                    "text": [
                        "----------------------------------------------------------------------------------------------------\n",
                        "Epoch 1 - Average Train Loss: 0.6662 | Average Valid Loss: 0.3947 | Time: 128.60s\n",
                        "Best model found in epoch 1 | valid loss: 0.3947\n"
                    ]
                },
                {
                    "data": {
                        "application/vnd.jupyter.widget-view+json": {
                            "model_id": "37a347fcbe1f45d69c3eb2b7be7983b5",
                            "version_major": 2,
                            "version_minor": 0
                        },
                        "text/plain": [
                            "Train:   0%|          | 0/733 [00:00<?, ?batch/s]"
                        ]
                    },
                    "metadata": {},
                    "output_type": "display_data"
                },
                {
                    "name": "stdout",
                    "output_type": "stream",
                    "text": [
                        "Epoch: [2][0/733]Elapsed 0.10s | Loss: 0.4797 Grad: 164734.0625 LR: 9.3626e-05\n",
                        "Epoch: [2][50/733]Elapsed 7.45s | Loss: 0.4459 Grad: 89611.3047 LR: 9.7217e-05\n",
                        "Epoch: [2][100/733]Elapsed 14.87s | Loss: 0.4462 Grad: 77558.9297 LR: 9.9362e-05\n",
                        "Epoch: [2][150/733]Elapsed 22.31s | Loss: 0.4415 Grad: 42957.9336 LR: 1.0000e-04\n",
                        "Epoch: [2][200/733]Elapsed 29.72s | Loss: 0.4466 Grad: 45429.6562 LR: 9.9988e-05\n",
                        "Epoch: [2][250/733]Elapsed 37.12s | Loss: 0.4409 Grad: 56429.8555 LR: 9.9957e-05\n",
                        "Epoch: [2][300/733]Elapsed 44.52s | Loss: 0.4372 Grad: 26658.7715 LR: 9.9906e-05\n",
                        "Epoch: [2][350/733]Elapsed 51.97s | Loss: 0.4294 Grad: 43640.8203 LR: 9.9836e-05\n",
                        "Epoch: [2][400/733]Elapsed 59.36s | Loss: 0.4253 Grad: 65912.9453 LR: 9.9746e-05\n",
                        "Epoch: [2][450/733]Elapsed 66.73s | Loss: 0.4215 Grad: 39467.3359 LR: 9.9636e-05\n",
                        "Epoch: [2][500/733]Elapsed 74.10s | Loss: 0.4157 Grad: 30469.5840 LR: 9.9507e-05\n",
                        "Epoch: [2][550/733]Elapsed 81.48s | Loss: 0.4145 Grad: 47568.7188 LR: 9.9358e-05\n",
                        "Epoch: [2][600/733]Elapsed 88.82s | Loss: 0.4121 Grad: 28076.0898 LR: 9.9190e-05\n",
                        "Epoch: [2][650/733]Elapsed 96.18s | Loss: 0.4096 Grad: 45324.2500 LR: 9.9002e-05\n",
                        "Epoch: [2][700/733]Elapsed 103.53s | Loss: 0.4067 Grad: 40430.0078 LR: 9.8795e-05\n",
                        "Epoch: [2][732/733]Elapsed 108.24s | Loss: 0.4047 Grad: 52371.2578 LR: 9.8653e-05\n"
                    ]
                },
                {
                    "data": {
                        "application/vnd.jupyter.widget-view+json": {
                            "model_id": "92033f9f4e1f45339b60ec97ab68ee57",
                            "version_major": 2,
                            "version_minor": 0
                        },
                        "text/plain": [
                            "Valid:   0%|          | 0/210 [00:00<?, ?batch/s]"
                        ]
                    },
                    "metadata": {},
                    "output_type": "display_data"
                },
                {
                    "name": "stdout",
                    "output_type": "stream",
                    "text": [
                        "Epoch: [2][0/210]Elapsed 0.10s | Loss: 0.1787\n",
                        "Epoch: [2][50/210]Elapsed 4.89s | Loss: 0.3137\n",
                        "Epoch: [2][100/210]Elapsed 9.67s | Loss: 0.3287\n",
                        "Epoch: [2][150/210]Elapsed 14.46s | Loss: 0.3263\n",
                        "Epoch: [2][200/210]Elapsed 19.25s | Loss: 0.3256\n"
                    ]
                },
                {
                    "name": "stderr",
                    "output_type": "stream",
                    "text": [
                        "----------------------------------------------------------------------------------------------------\n",
                        "Epoch 2 - Average Train Loss: 0.4047 | Average Valid Loss: 0.3282 | Time: 128.59s\n",
                        "Best model found in epoch 2 | valid loss: 0.3282\n"
                    ]
                },
                {
                    "data": {
                        "application/vnd.jupyter.widget-view+json": {
                            "model_id": "c2b8453518f34b1094bf105d345c3f21",
                            "version_major": 2,
                            "version_minor": 0
                        },
                        "text/plain": [
                            "Train:   0%|          | 0/733 [00:00<?, ?batch/s]"
                        ]
                    },
                    "metadata": {},
                    "output_type": "display_data"
                },
                {
                    "name": "stdout",
                    "output_type": "stream",
                    "text": [
                        "Epoch: [3][0/733]Elapsed 0.10s | Loss: 0.3186 Grad: inf LR: 9.8653e-05\n",
                        "Epoch: [3][50/733]Elapsed 7.43s | Loss: 0.3265 Grad: 38944.1094 LR: 9.8415e-05\n",
                        "Epoch: [3][100/733]Elapsed 14.87s | Loss: 0.3278 Grad: 36412.1094 LR: 9.8157e-05\n",
                        "Epoch: [3][150/733]Elapsed 22.33s | Loss: 0.3300 Grad: 49546.1992 LR: 9.7881e-05\n",
                        "Epoch: [3][200/733]Elapsed 29.76s | Loss: 0.3356 Grad: 68158.2188 LR: 9.7586e-05\n",
                        "Epoch: [3][250/733]Elapsed 37.16s | Loss: 0.3345 Grad: 48659.8984 LR: 9.7272e-05\n",
                        "Epoch: [3][300/733]Elapsed 44.53s | Loss: 0.3319 Grad: 49699.8789 LR: 9.6940e-05\n",
                        "Epoch: [3][350/733]Elapsed 51.91s | Loss: 0.3263 Grad: 21035.3242 LR: 9.6589e-05\n",
                        "Epoch: [3][400/733]Elapsed 59.28s | Loss: 0.3231 Grad: 39007.8242 LR: 9.6219e-05\n",
                        "Epoch: [3][450/733]Elapsed 66.63s | Loss: 0.3203 Grad: 40147.8672 LR: 9.5832e-05\n",
                        "Epoch: [3][500/733]Elapsed 74.00s | Loss: 0.3174 Grad: 34478.2031 LR: 9.5426e-05\n",
                        "Epoch: [3][550/733]Elapsed 81.37s | Loss: 0.3194 Grad: 70955.2500 LR: 9.5003e-05\n",
                        "Epoch: [3][600/733]Elapsed 88.72s | Loss: 0.3200 Grad: 35003.7422 LR: 9.4562e-05\n",
                        "Epoch: [3][650/733]Elapsed 96.07s | Loss: 0.3186 Grad: 43216.5547 LR: 9.4103e-05\n",
                        "Epoch: [3][700/733]Elapsed 103.42s | Loss: 0.3179 Grad: 23177.9805 LR: 9.3627e-05\n",
                        "Epoch: [3][732/733]Elapsed 108.15s | Loss: 0.3166 Grad: 33046.8008 LR: 9.3314e-05\n"
                    ]
                },
                {
                    "data": {
                        "application/vnd.jupyter.widget-view+json": {
                            "model_id": "e30e29333a194f31a489704e9dc6db58",
                            "version_major": 2,
                            "version_minor": 0
                        },
                        "text/plain": [
                            "Valid:   0%|          | 0/210 [00:00<?, ?batch/s]"
                        ]
                    },
                    "metadata": {},
                    "output_type": "display_data"
                },
                {
                    "name": "stdout",
                    "output_type": "stream",
                    "text": [
                        "Epoch: [3][0/210]Elapsed 0.10s | Loss: 0.1061\n",
                        "Epoch: [3][50/210]Elapsed 4.89s | Loss: 0.3039\n",
                        "Epoch: [3][100/210]Elapsed 9.67s | Loss: 0.3241\n",
                        "Epoch: [3][150/210]Elapsed 14.47s | Loss: 0.3218\n",
                        "Epoch: [3][200/210]Elapsed 19.27s | Loss: 0.3267\n"
                    ]
                },
                {
                    "name": "stderr",
                    "output_type": "stream",
                    "text": [
                        "----------------------------------------------------------------------------------------------------\n",
                        "Epoch 3 - Average Train Loss: 0.3166 | Average Valid Loss: 0.3311 | Time: 128.52s\n"
                    ]
                },
                {
                    "data": {
                        "application/vnd.jupyter.widget-view+json": {
                            "model_id": "1e1fe6eb122c415b83c47197746aad3d",
                            "version_major": 2,
                            "version_minor": 0
                        },
                        "text/plain": [
                            "Train:   0%|          | 0/733 [00:00<?, ?batch/s]"
                        ]
                    },
                    "metadata": {},
                    "output_type": "display_data"
                },
                {
                    "name": "stdout",
                    "output_type": "stream",
                    "text": [
                        "Epoch: [4][0/733]Elapsed 0.10s | Loss: 0.3326 Grad: inf LR: 9.3314e-05\n",
                        "Epoch: [4][50/733]Elapsed 7.46s | Loss: 0.2741 Grad: 22978.2715 LR: 9.2810e-05\n",
                        "Epoch: [4][100/733]Elapsed 14.87s | Loss: 0.2748 Grad: 36810.1367 LR: 9.2289e-05\n",
                        "Epoch: [4][150/733]Elapsed 22.30s | Loss: 0.2764 Grad: 35560.8242 LR: 9.1752e-05\n",
                        "Epoch: [4][200/733]Elapsed 29.71s | Loss: 0.2810 Grad: 50284.4023 LR: 9.1198e-05\n",
                        "Epoch: [4][250/733]Elapsed 37.11s | Loss: 0.2813 Grad: 52317.7305 LR: 9.0627e-05\n",
                        "Epoch: [4][300/733]Elapsed 44.47s | Loss: 0.2789 Grad: 29874.0020 LR: 9.0041e-05\n",
                        "Epoch: [4][350/733]Elapsed 51.86s | Loss: 0.2732 Grad: 31830.5371 LR: 8.9439e-05\n",
                        "Epoch: [4][400/733]Elapsed 59.23s | Loss: 0.2712 Grad: 52670.3164 LR: 8.8822e-05\n",
                        "Epoch: [4][450/733]Elapsed 66.58s | Loss: 0.2688 Grad: 30771.7246 LR: 8.8189e-05\n",
                        "Epoch: [4][500/733]Elapsed 73.93s | Loss: 0.2655 Grad: 39762.6992 LR: 8.7542e-05\n",
                        "Epoch: [4][550/733]Elapsed 81.27s | Loss: 0.2661 Grad: 48136.9727 LR: 8.6879e-05\n",
                        "Epoch: [4][600/733]Elapsed 88.65s | Loss: 0.2667 Grad: 37296.6680 LR: 8.6202e-05\n",
                        "Epoch: [4][650/733]Elapsed 96.00s | Loss: 0.2657 Grad: 63950.2969 LR: 8.5511e-05\n",
                        "Epoch: [4][700/733]Elapsed 103.35s | Loss: 0.2646 Grad: 51545.2227 LR: 8.4806e-05\n",
                        "Epoch: [4][732/733]Elapsed 108.07s | Loss: 0.2645 Grad: 75470.9297 LR: 8.4347e-05\n"
                    ]
                },
                {
                    "data": {
                        "application/vnd.jupyter.widget-view+json": {
                            "model_id": "a64efd0a83344cc8a04dd6f96bd38c0a",
                            "version_major": 2,
                            "version_minor": 0
                        },
                        "text/plain": [
                            "Valid:   0%|          | 0/210 [00:00<?, ?batch/s]"
                        ]
                    },
                    "metadata": {},
                    "output_type": "display_data"
                },
                {
                    "name": "stdout",
                    "output_type": "stream",
                    "text": [
                        "Epoch: [4][0/210]Elapsed 0.10s | Loss: 0.0745\n",
                        "Epoch: [4][50/210]Elapsed 4.88s | Loss: 0.3012\n",
                        "Epoch: [4][100/210]Elapsed 9.67s | Loss: 0.3196\n",
                        "Epoch: [4][150/210]Elapsed 14.46s | Loss: 0.3188\n",
                        "Epoch: [4][200/210]Elapsed 19.25s | Loss: 0.3320\n"
                    ]
                },
                {
                    "name": "stderr",
                    "output_type": "stream",
                    "text": [
                        "----------------------------------------------------------------------------------------------------\n",
                        "Epoch 4 - Average Train Loss: 0.2645 | Average Valid Loss: 0.3378 | Time: 128.41s\n"
                    ]
                },
                {
                    "data": {
                        "application/vnd.jupyter.widget-view+json": {
                            "model_id": "7e47ba1dac0340788af73c25914614d8",
                            "version_major": 2,
                            "version_minor": 0
                        },
                        "text/plain": [
                            "Train:   0%|          | 0/733 [00:00<?, ?batch/s]"
                        ]
                    },
                    "metadata": {},
                    "output_type": "display_data"
                },
                {
                    "name": "stdout",
                    "output_type": "stream",
                    "text": [
                        "Epoch: [5][0/733]Elapsed 0.10s | Loss: 0.3197 Grad: inf LR: 8.4347e-05\n",
                        "Epoch: [5][50/733]Elapsed 7.45s | Loss: 0.2377 Grad: 23427.3711 LR: 8.3620e-05\n",
                        "Epoch: [5][100/733]Elapsed 14.85s | Loss: 0.2375 Grad: 53149.9648 LR: 8.2879e-05\n",
                        "Epoch: [5][150/733]Elapsed 22.26s | Loss: 0.2375 Grad: 35428.6797 LR: 8.2125e-05\n",
                        "Epoch: [5][200/733]Elapsed 29.67s | Loss: 0.2415 Grad: 49358.4258 LR: 8.1359e-05\n",
                        "Epoch: [5][250/733]Elapsed 37.08s | Loss: 0.2416 Grad: 58666.2266 LR: 8.0580e-05\n",
                        "Epoch: [5][300/733]Elapsed 44.46s | Loss: 0.2386 Grad: 46081.1875 LR: 7.9790e-05\n",
                        "Epoch: [5][350/733]Elapsed 51.84s | Loss: 0.2345 Grad: 28790.2500 LR: 7.8987e-05\n",
                        "Epoch: [5][400/733]Elapsed 59.22s | Loss: 0.2311 Grad: 40822.7344 LR: 7.8173e-05\n",
                        "Epoch: [5][450/733]Elapsed 66.61s | Loss: 0.2297 Grad: 31868.6953 LR: 7.7348e-05\n",
                        "Epoch: [5][500/733]Elapsed 73.96s | Loss: 0.2273 Grad: 27547.2891 LR: 7.6513e-05\n",
                        "Epoch: [5][550/733]Elapsed 81.34s | Loss: 0.2280 Grad: 50149.1953 LR: 7.5667e-05\n",
                        "Epoch: [5][600/733]Elapsed 88.71s | Loss: 0.2289 Grad: 49369.0117 LR: 7.4810e-05\n",
                        "Epoch: [5][650/733]Elapsed 96.07s | Loss: 0.2277 Grad: 67766.3906 LR: 7.3945e-05\n",
                        "Epoch: [5][700/733]Elapsed 103.43s | Loss: 0.2270 Grad: 44315.7031 LR: 7.3069e-05\n",
                        "Epoch: [5][732/733]Elapsed 108.16s | Loss: 0.2265 Grad: 39387.6523 LR: 7.2504e-05\n"
                    ]
                },
                {
                    "data": {
                        "application/vnd.jupyter.widget-view+json": {
                            "model_id": "b1dae5975b0a465d94cce24818b3837b",
                            "version_major": 2,
                            "version_minor": 0
                        },
                        "text/plain": [
                            "Valid:   0%|          | 0/210 [00:00<?, ?batch/s]"
                        ]
                    },
                    "metadata": {},
                    "output_type": "display_data"
                },
                {
                    "name": "stdout",
                    "output_type": "stream",
                    "text": [
                        "Epoch: [5][0/210]Elapsed 0.10s | Loss: 0.0832\n",
                        "Epoch: [5][50/210]Elapsed 4.88s | Loss: 0.3021\n",
                        "Epoch: [5][100/210]Elapsed 9.66s | Loss: 0.3262\n",
                        "Epoch: [5][150/210]Elapsed 14.46s | Loss: 0.3228\n",
                        "Epoch: [5][200/210]Elapsed 19.25s | Loss: 0.3432\n"
                    ]
                },
                {
                    "name": "stderr",
                    "output_type": "stream",
                    "text": [
                        "----------------------------------------------------------------------------------------------------\n",
                        "Epoch 5 - Average Train Loss: 0.2265 | Average Valid Loss: 0.3508 | Time: 128.50s\n"
                    ]
                },
                {
                    "data": {
                        "application/vnd.jupyter.widget-view+json": {
                            "model_id": "e9a0137908604cb2b31173e3835c4987",
                            "version_major": 2,
                            "version_minor": 0
                        },
                        "text/plain": [
                            "Train:   0%|          | 0/733 [00:00<?, ?batch/s]"
                        ]
                    },
                    "metadata": {},
                    "output_type": "display_data"
                },
                {
                    "name": "stdout",
                    "output_type": "stream",
                    "text": [
                        "Epoch: [6][0/733]Elapsed 0.10s | Loss: 0.3515 Grad: nan LR: 7.2504e-05\n",
                        "Epoch: [6][50/733]Elapsed 7.43s | Loss: 0.2082 Grad: 25812.9961 LR: 7.1614e-05\n",
                        "Epoch: [6][100/733]Elapsed 14.86s | Loss: 0.2014 Grad: 53655.3242 LR: 7.0716e-05\n",
                        "Epoch: [6][150/733]Elapsed 22.28s | Loss: 0.2012 Grad: 41863.4297 LR: 6.9809e-05\n",
                        "Epoch: [6][200/733]Elapsed 29.70s | Loss: 0.2024 Grad: 45217.8711 LR: 6.8894e-05\n",
                        "Epoch: [6][250/733]Elapsed 37.10s | Loss: 0.2017 Grad: 49997.7617 LR: 6.7972e-05\n",
                        "Epoch: [6][300/733]Elapsed 44.49s | Loss: 0.2006 Grad: 50993.7383 LR: 6.7043e-05\n",
                        "Epoch: [6][350/733]Elapsed 51.87s | Loss: 0.1978 Grad: 31906.2832 LR: 6.6108e-05\n",
                        "Epoch: [6][400/733]Elapsed 59.25s | Loss: 0.1948 Grad: 51596.0195 LR: 6.5166e-05\n",
                        "Epoch: [6][450/733]Elapsed 66.60s | Loss: 0.1927 Grad: 25645.2285 LR: 6.4218e-05\n",
                        "Epoch: [6][500/733]Elapsed 73.97s | Loss: 0.1921 Grad: 40477.5586 LR: 6.3264e-05\n",
                        "Epoch: [6][550/733]Elapsed 81.34s | Loss: 0.1926 Grad: 39207.1289 LR: 6.2305e-05\n",
                        "Epoch: [6][600/733]Elapsed 88.71s | Loss: 0.1928 Grad: 39885.9414 LR: 6.1342e-05\n",
                        "Epoch: [6][650/733]Elapsed 96.06s | Loss: 0.1925 Grad: 49852.8203 LR: 6.0373e-05\n",
                        "Epoch: [6][700/733]Elapsed 103.42s | Loss: 0.1910 Grad: 32100.3867 LR: 5.9401e-05\n",
                        "Epoch: [6][732/733]Elapsed 108.14s | Loss: 0.1908 Grad: 88759.6250 LR: 5.8777e-05\n"
                    ]
                },
                {
                    "data": {
                        "application/vnd.jupyter.widget-view+json": {
                            "model_id": "36aaa61c8a554030ab2ae314955af65a",
                            "version_major": 2,
                            "version_minor": 0
                        },
                        "text/plain": [
                            "Valid:   0%|          | 0/210 [00:00<?, ?batch/s]"
                        ]
                    },
                    "metadata": {},
                    "output_type": "display_data"
                },
                {
                    "name": "stdout",
                    "output_type": "stream",
                    "text": [
                        "Epoch: [6][0/210]Elapsed 0.10s | Loss: 0.0665\n",
                        "Epoch: [6][50/210]Elapsed 4.88s | Loss: 0.2926\n",
                        "Epoch: [6][100/210]Elapsed 9.67s | Loss: 0.3225\n",
                        "Epoch: [6][150/210]Elapsed 14.47s | Loss: 0.3230\n",
                        "Epoch: [6][200/210]Elapsed 19.28s | Loss: 0.3499\n"
                    ]
                },
                {
                    "name": "stderr",
                    "output_type": "stream",
                    "text": [
                        "----------------------------------------------------------------------------------------------------\n",
                        "Epoch 6 - Average Train Loss: 0.1908 | Average Valid Loss: 0.3574 | Time: 128.51s\n",
                        "====================================================================================================\n",
                        "Fold 2 Valid Loss: (Easy) 1.2598 | (Hard) 0.8028\n",
                        "Elapse: 12.86 min \n",
                        "====================================================================================================\n",
                        "- Second Stage \n",
                        "Use Checkpoint: ENet_b2_softmax_fold_2_stage_1.pth\n"
                    ]
                },
                {
                    "data": {
                        "application/vnd.jupyter.widget-view+json": {
                            "model_id": "d8f164d1df7a40ce98a993ae7dd1a203",
                            "version_major": 2,
                            "version_minor": 0
                        },
                        "text/plain": [
                            "Train:   0%|          | 0/318 [00:00<?, ?batch/s]"
                        ]
                    },
                    "metadata": {},
                    "output_type": "display_data"
                },
                {
                    "name": "stdout",
                    "output_type": "stream",
                    "text": [
                        "Epoch: [1][0/318]Elapsed 0.11s | Loss: 0.4385 Grad: nan LR: 4.0000e-06\n",
                        "Epoch: [1][50/318]Elapsed 7.43s | Loss: 0.4443 Grad: 69490.9219 LR: 8.0513e-06\n",
                        "Epoch: [1][100/318]Elapsed 14.85s | Loss: 0.4225 Grad: 95447.1250 LR: 1.9521e-05\n",
                        "Epoch: [1][150/318]Elapsed 22.29s | Loss: 0.3900 Grad: 49819.4023 LR: 3.6474e-05\n",
                        "Epoch: [1][200/318]Elapsed 29.72s | Loss: 0.3663 Grad: 55341.6094 LR: 5.6047e-05\n",
                        "Epoch: [1][250/318]Elapsed 37.09s | Loss: 0.3443 Grad: 32865.5781 LR: 7.4937e-05\n",
                        "Epoch: [1][300/318]Elapsed 44.47s | Loss: 0.3244 Grad: 33529.0742 LR: 8.9956e-05\n",
                        "Epoch: [1][317/318]Elapsed 47.05s | Loss: 0.3192 Grad: 43288.6211 LR: 9.3896e-05\n"
                    ]
                },
                {
                    "data": {
                        "application/vnd.jupyter.widget-view+json": {
                            "model_id": "8ab9a65ca69e491ba537e68923f17cee",
                            "version_major": 2,
                            "version_minor": 0
                        },
                        "text/plain": [
                            "Valid:   0%|          | 0/210 [00:00<?, ?batch/s]"
                        ]
                    },
                    "metadata": {},
                    "output_type": "display_data"
                },
                {
                    "name": "stdout",
                    "output_type": "stream",
                    "text": [
                        "Epoch: [1][0/210]Elapsed 0.10s | Loss: 0.2803\n",
                        "Epoch: [1][50/210]Elapsed 4.89s | Loss: 0.3798\n",
                        "Epoch: [1][100/210]Elapsed 9.68s | Loss: 0.4080\n",
                        "Epoch: [1][150/210]Elapsed 14.48s | Loss: 0.3822\n",
                        "Epoch: [1][200/210]Elapsed 19.28s | Loss: 0.3403\n"
                    ]
                },
                {
                    "name": "stderr",
                    "output_type": "stream",
                    "text": [
                        "----------------------------------------------------------------------------------------------------\n",
                        "Epoch 1 - Average Train Loss: 0.3192 | Average Valid Loss: 0.3353 | Time: 67.37s\n",
                        "Best model found in epoch 1 | valid loss: 0.3353\n"
                    ]
                },
                {
                    "data": {
                        "application/vnd.jupyter.widget-view+json": {
                            "model_id": "b3ae5520afcb422da643e3e27efc0aed",
                            "version_major": 2,
                            "version_minor": 0
                        },
                        "text/plain": [
                            "Train:   0%|          | 0/318 [00:00<?, ?batch/s]"
                        ]
                    },
                    "metadata": {},
                    "output_type": "display_data"
                },
                {
                    "name": "stdout",
                    "output_type": "stream",
                    "text": [
                        "Epoch: [2][0/318]Elapsed 0.10s | Loss: 0.2185 Grad: 97036.8672 LR: 9.3896e-05\n",
                        "Epoch: [2][50/318]Elapsed 7.48s | Loss: 0.2234 Grad: 48677.0469 LR: 9.9779e-05\n",
                        "Epoch: [2][100/318]Elapsed 14.92s | Loss: 0.2204 Grad: 68623.3047 LR: 9.9969e-05\n",
                        "Epoch: [2][150/318]Elapsed 22.34s | Loss: 0.2171 Grad: 57083.8477 LR: 9.9837e-05\n",
                        "Epoch: [2][200/318]Elapsed 29.77s | Loss: 0.2154 Grad: 46265.6523 LR: 9.9600e-05\n",
                        "Epoch: [2][250/318]Elapsed 37.21s | Loss: 0.2119 Grad: 38310.4805 LR: 9.9260e-05\n",
                        "Epoch: [2][300/318]Elapsed 44.64s | Loss: 0.2075 Grad: 49277.4570 LR: 9.8816e-05\n",
                        "Epoch: [2][317/318]Elapsed 47.23s | Loss: 0.2067 Grad: 54748.8711 LR: 9.8632e-05\n"
                    ]
                },
                {
                    "data": {
                        "application/vnd.jupyter.widget-view+json": {
                            "model_id": "0d36c1fa59db4acfbf1063eeb801ab9d",
                            "version_major": 2,
                            "version_minor": 0
                        },
                        "text/plain": [
                            "Valid:   0%|          | 0/210 [00:00<?, ?batch/s]"
                        ]
                    },
                    "metadata": {},
                    "output_type": "display_data"
                },
                {
                    "name": "stdout",
                    "output_type": "stream",
                    "text": [
                        "Epoch: [2][0/210]Elapsed 0.11s | Loss: 0.2888\n",
                        "Epoch: [2][50/210]Elapsed 4.91s | Loss: 0.3863\n",
                        "Epoch: [2][100/210]Elapsed 9.71s | Loss: 0.4129\n",
                        "Epoch: [2][150/210]Elapsed 14.52s | Loss: 0.3832\n",
                        "Epoch: [2][200/210]Elapsed 19.32s | Loss: 0.3357\n"
                    ]
                },
                {
                    "name": "stderr",
                    "output_type": "stream",
                    "text": [
                        "----------------------------------------------------------------------------------------------------\n",
                        "Epoch 2 - Average Train Loss: 0.2067 | Average Valid Loss: 0.3300 | Time: 67.61s\n",
                        "Best model found in epoch 2 | valid loss: 0.3300\n"
                    ]
                },
                {
                    "data": {
                        "application/vnd.jupyter.widget-view+json": {
                            "model_id": "f92885956af24074937577fb42b6eef8",
                            "version_major": 2,
                            "version_minor": 0
                        },
                        "text/plain": [
                            "Train:   0%|          | 0/318 [00:00<?, ?batch/s]"
                        ]
                    },
                    "metadata": {},
                    "output_type": "display_data"
                },
                {
                    "name": "stdout",
                    "output_type": "stream",
                    "text": [
                        "Epoch: [3][0/318]Elapsed 0.10s | Loss: 0.1826 Grad: 128270.9844 LR: 9.8632e-05\n",
                        "Epoch: [3][50/318]Elapsed 7.47s | Loss: 0.1927 Grad: 96267.2344 LR: 9.8050e-05\n",
                        "Epoch: [3][100/318]Elapsed 14.91s | Loss: 0.1924 Grad: 84300.6641 LR: 9.7367e-05\n",
                        "Epoch: [3][150/318]Elapsed 22.34s | Loss: 0.1901 Grad: 91905.8438 LR: 9.6586e-05\n",
                        "Epoch: [3][200/318]Elapsed 29.75s | Loss: 0.1869 Grad: 40612.1133 LR: 9.5707e-05\n",
                        "Epoch: [3][250/318]Elapsed 37.17s | Loss: 0.1861 Grad: 29785.5938 LR: 9.4733e-05\n",
                        "Epoch: [3][300/318]Elapsed 44.56s | Loss: 0.1844 Grad: 53489.3594 LR: 9.3665e-05\n",
                        "Epoch: [3][317/318]Elapsed 47.14s | Loss: 0.1835 Grad: 66084.5625 LR: 9.3258e-05\n"
                    ]
                },
                {
                    "data": {
                        "application/vnd.jupyter.widget-view+json": {
                            "model_id": "a5f1ae8b84754c619b74179033bd35dd",
                            "version_major": 2,
                            "version_minor": 0
                        },
                        "text/plain": [
                            "Valid:   0%|          | 0/210 [00:00<?, ?batch/s]"
                        ]
                    },
                    "metadata": {},
                    "output_type": "display_data"
                },
                {
                    "name": "stdout",
                    "output_type": "stream",
                    "text": [
                        "Epoch: [3][0/210]Elapsed 0.10s | Loss: 0.3011\n",
                        "Epoch: [3][50/210]Elapsed 4.89s | Loss: 0.3878\n",
                        "Epoch: [3][100/210]Elapsed 9.67s | Loss: 0.4127\n",
                        "Epoch: [3][150/210]Elapsed 14.47s | Loss: 0.3849\n",
                        "Epoch: [3][200/210]Elapsed 19.27s | Loss: 0.3366\n"
                    ]
                },
                {
                    "name": "stderr",
                    "output_type": "stream",
                    "text": [
                        "----------------------------------------------------------------------------------------------------\n",
                        "Epoch 3 - Average Train Loss: 0.1835 | Average Valid Loss: 0.3304 | Time: 67.45s\n"
                    ]
                },
                {
                    "data": {
                        "application/vnd.jupyter.widget-view+json": {
                            "model_id": "f86366ec416048f9939cd8b6ab3a8bc5",
                            "version_major": 2,
                            "version_minor": 0
                        },
                        "text/plain": [
                            "Train:   0%|          | 0/318 [00:00<?, ?batch/s]"
                        ]
                    },
                    "metadata": {},
                    "output_type": "display_data"
                },
                {
                    "name": "stdout",
                    "output_type": "stream",
                    "text": [
                        "Epoch: [4][0/318]Elapsed 0.10s | Loss: 0.2174 Grad: 139415.9375 LR: 9.3258e-05\n",
                        "Epoch: [4][50/318]Elapsed 7.46s | Loss: 0.1718 Grad: 93115.2344 LR: 9.2067e-05\n",
                        "Epoch: [4][100/318]Elapsed 14.91s | Loss: 0.1716 Grad: 72302.5703 LR: 9.0787e-05\n",
                        "Epoch: [4][150/318]Elapsed 22.34s | Loss: 0.1713 Grad: 90902.1484 LR: 8.9423e-05\n",
                        "Epoch: [4][200/318]Elapsed 29.78s | Loss: 0.1691 Grad: 83445.1328 LR: 8.7976e-05\n",
                        "Epoch: [4][250/318]Elapsed 37.17s | Loss: 0.1682 Grad: 27490.3672 LR: 8.6449e-05\n",
                        "Epoch: [4][300/318]Elapsed 44.57s | Loss: 0.1662 Grad: 51709.8008 LR: 8.4847e-05\n",
                        "Epoch: [4][317/318]Elapsed 47.15s | Loss: 0.1658 Grad: 52526.0234 LR: 8.4252e-05\n"
                    ]
                },
                {
                    "data": {
                        "application/vnd.jupyter.widget-view+json": {
                            "model_id": "01827785983a45aea0ba9edd6e72a8d3",
                            "version_major": 2,
                            "version_minor": 0
                        },
                        "text/plain": [
                            "Valid:   0%|          | 0/210 [00:00<?, ?batch/s]"
                        ]
                    },
                    "metadata": {},
                    "output_type": "display_data"
                },
                {
                    "name": "stdout",
                    "output_type": "stream",
                    "text": [
                        "Epoch: [4][0/210]Elapsed 0.10s | Loss: 0.3127\n",
                        "Epoch: [4][50/210]Elapsed 4.88s | Loss: 0.3956\n",
                        "Epoch: [4][100/210]Elapsed 9.68s | Loss: 0.4234\n",
                        "Epoch: [4][150/210]Elapsed 14.49s | Loss: 0.3934\n",
                        "Epoch: [4][200/210]Elapsed 19.29s | Loss: 0.3428\n"
                    ]
                },
                {
                    "name": "stderr",
                    "output_type": "stream",
                    "text": [
                        "----------------------------------------------------------------------------------------------------\n",
                        "Epoch 4 - Average Train Loss: 0.1658 | Average Valid Loss: 0.3365 | Time: 67.48s\n"
                    ]
                },
                {
                    "data": {
                        "application/vnd.jupyter.widget-view+json": {
                            "model_id": "829e1253f99a4706a77cf177002be2df",
                            "version_major": 2,
                            "version_minor": 0
                        },
                        "text/plain": [
                            "Train:   0%|          | 0/318 [00:00<?, ?batch/s]"
                        ]
                    },
                    "metadata": {},
                    "output_type": "display_data"
                },
                {
                    "name": "stdout",
                    "output_type": "stream",
                    "text": [
                        "Epoch: [5][0/318]Elapsed 0.10s | Loss: 0.1488 Grad: 121422.0391 LR: 8.4252e-05\n",
                        "Epoch: [5][50/318]Elapsed 7.46s | Loss: 0.1556 Grad: 73779.3750 LR: 8.2551e-05\n",
                        "Epoch: [5][100/318]Elapsed 14.90s | Loss: 0.1560 Grad: 74641.5781 LR: 8.0782e-05\n",
                        "Epoch: [5][150/318]Elapsed 22.30s | Loss: 0.1551 Grad: 127690.0078 LR: 7.8949e-05\n",
                        "Epoch: [5][200/318]Elapsed 29.69s | Loss: 0.1534 Grad: 75647.5312 LR: 7.7055e-05\n",
                        "Epoch: [5][250/318]Elapsed 37.06s | Loss: 0.1540 Grad: 32006.9414 LR: 7.5105e-05\n",
                        "Epoch: [5][300/318]Elapsed 44.43s | Loss: 0.1522 Grad: 51830.0273 LR: 7.3102e-05\n",
                        "Epoch: [5][317/318]Elapsed 47.01s | Loss: 0.1516 Grad: 62217.2969 LR: 7.2369e-05\n"
                    ]
                },
                {
                    "data": {
                        "application/vnd.jupyter.widget-view+json": {
                            "model_id": "59e43c29aad8449790be37728878df23",
                            "version_major": 2,
                            "version_minor": 0
                        },
                        "text/plain": [
                            "Valid:   0%|          | 0/210 [00:00<?, ?batch/s]"
                        ]
                    },
                    "metadata": {},
                    "output_type": "display_data"
                },
                {
                    "name": "stdout",
                    "output_type": "stream",
                    "text": [
                        "Epoch: [5][0/210]Elapsed 0.10s | Loss: 0.3054\n",
                        "Epoch: [5][50/210]Elapsed 4.89s | Loss: 0.3839\n",
                        "Epoch: [5][100/210]Elapsed 9.67s | Loss: 0.4121\n",
                        "Epoch: [5][150/210]Elapsed 14.47s | Loss: 0.3844\n",
                        "Epoch: [5][200/210]Elapsed 19.27s | Loss: 0.3365\n"
                    ]
                },
                {
                    "name": "stderr",
                    "output_type": "stream",
                    "text": [
                        "----------------------------------------------------------------------------------------------------\n",
                        "Epoch 5 - Average Train Loss: 0.1516 | Average Valid Loss: 0.3303 | Time: 67.33s\n"
                    ]
                },
                {
                    "data": {
                        "application/vnd.jupyter.widget-view+json": {
                            "model_id": "ad090745c08546db8e42946c4b7b8ba5",
                            "version_major": 2,
                            "version_minor": 0
                        },
                        "text/plain": [
                            "Train:   0%|          | 0/318 [00:00<?, ?batch/s]"
                        ]
                    },
                    "metadata": {},
                    "output_type": "display_data"
                },
                {
                    "name": "stdout",
                    "output_type": "stream",
                    "text": [
                        "Epoch: [6][0/318]Elapsed 0.10s | Loss: 0.1490 Grad: 141816.9219 LR: 7.2369e-05\n",
                        "Epoch: [6][50/318]Elapsed 7.45s | Loss: 0.1447 Grad: 62669.0547 LR: 7.0302e-05\n",
                        "Epoch: [6][100/318]Elapsed 14.88s | Loss: 0.1438 Grad: 59712.4375 LR: 6.8192e-05\n",
                        "Epoch: [6][150/318]Elapsed 22.29s | Loss: 0.1418 Grad: 75762.0938 LR: 6.6044e-05\n",
                        "Epoch: [6][200/318]Elapsed 29.71s | Loss: 0.1422 Grad: 118089.7812 LR: 6.3863e-05\n",
                        "Epoch: [6][250/318]Elapsed 37.12s | Loss: 0.1421 Grad: 37949.9883 LR: 6.1653e-05\n",
                        "Epoch: [6][300/318]Elapsed 44.51s | Loss: 0.1414 Grad: 33205.5039 LR: 5.9418e-05\n",
                        "Epoch: [6][317/318]Elapsed 47.09s | Loss: 0.1406 Grad: 66565.8359 LR: 5.8609e-05\n"
                    ]
                },
                {
                    "data": {
                        "application/vnd.jupyter.widget-view+json": {
                            "model_id": "97f295ed66784691a783662ee9dc5a9d",
                            "version_major": 2,
                            "version_minor": 0
                        },
                        "text/plain": [
                            "Valid:   0%|          | 0/210 [00:00<?, ?batch/s]"
                        ]
                    },
                    "metadata": {},
                    "output_type": "display_data"
                },
                {
                    "name": "stdout",
                    "output_type": "stream",
                    "text": [
                        "Epoch: [6][0/210]Elapsed 0.10s | Loss: 0.3056\n",
                        "Epoch: [6][50/210]Elapsed 4.89s | Loss: 0.3751\n",
                        "Epoch: [6][100/210]Elapsed 9.67s | Loss: 0.4043\n",
                        "Epoch: [6][150/210]Elapsed 14.47s | Loss: 0.3779\n",
                        "Epoch: [6][200/210]Elapsed 19.26s | Loss: 0.3314\n"
                    ]
                },
                {
                    "name": "stderr",
                    "output_type": "stream",
                    "text": [
                        "----------------------------------------------------------------------------------------------------\n",
                        "Epoch 6 - Average Train Loss: 0.1406 | Average Valid Loss: 0.3255 | Time: 67.39s\n",
                        "Best model found in epoch 6 | valid loss: 0.3255\n",
                        "====================================================================================================\n",
                        "Fold 2 Valid Loss: (Easy) 1.3247 | (Hard) 0.7744\n",
                        "Elapse: 6.75 min \n",
                        "====================================================================================================\n",
                        "====================================================================================================\n",
                        "Fold: 3 || Valid size 3010 \n",
                        "====================================================================================================\n",
                        "- First Stage \n"
                    ]
                },
                {
                    "data": {
                        "application/vnd.jupyter.widget-view+json": {
                            "model_id": "33ce45bb651249fdaa18469ae6d0c747",
                            "version_major": 2,
                            "version_minor": 0
                        },
                        "text/plain": [
                            "Train:   0%|          | 0/749 [00:00<?, ?batch/s]"
                        ]
                    },
                    "metadata": {},
                    "output_type": "display_data"
                },
                {
                    "name": "stdout",
                    "output_type": "stream",
                    "text": [
                        "Epoch: [1][0/749]Elapsed 0.11s | Loss: 0.8443 Grad: 62065.5625 LR: 4.0000e-06\n",
                        "Epoch: [1][50/749]Elapsed 7.41s | Loss: 0.8348 Grad: 66491.8359 LR: 4.7344e-06\n",
                        "Epoch: [1][100/749]Elapsed 14.83s | Loss: 0.8316 Grad: 104127.9453 LR: 6.9152e-06\n",
                        "Epoch: [1][150/749]Elapsed 22.26s | Loss: 0.8228 Grad: 73949.0234 LR: 1.0476e-05\n",
                        "Epoch: [1][200/749]Elapsed 29.66s | Loss: 0.8165 Grad: 69461.5781 LR: 1.5307e-05\n",
                        "Epoch: [1][250/749]Elapsed 37.06s | Loss: 0.8091 Grad: 70936.3906 LR: 2.1261e-05\n",
                        "Epoch: [1][300/749]Elapsed 44.46s | Loss: 0.7993 Grad: 87829.5312 LR: 2.8155e-05\n",
                        "Epoch: [1][350/749]Elapsed 51.85s | Loss: 0.7858 Grad: 73047.7344 LR: 3.5780e-05\n",
                        "Epoch: [1][400/749]Elapsed 59.22s | Loss: 0.7727 Grad: 66794.3828 LR: 4.3901e-05\n",
                        "Epoch: [1][450/749]Elapsed 66.60s | Loss: 0.7588 Grad: 78453.6016 LR: 5.2269e-05\n",
                        "Epoch: [1][500/749]Elapsed 73.97s | Loss: 0.7425 Grad: 82612.5391 LR: 6.0629e-05\n",
                        "Epoch: [1][550/749]Elapsed 81.32s | Loss: 0.7259 Grad: 63993.6445 LR: 6.8726e-05\n",
                        "Epoch: [1][600/749]Elapsed 88.68s | Loss: 0.7125 Grad: 44325.1016 LR: 7.6310e-05\n",
                        "Epoch: [1][650/749]Elapsed 96.02s | Loss: 0.6986 Grad: 49588.6641 LR: 8.3150e-05\n",
                        "Epoch: [1][700/749]Elapsed 103.39s | Loss: 0.6839 Grad: 79324.9453 LR: 8.9038e-05\n",
                        "Epoch: [1][748/749]Elapsed 110.46s | Loss: 0.6700 Grad: 33845.5195 LR: 9.3625e-05\n"
                    ]
                },
                {
                    "data": {
                        "application/vnd.jupyter.widget-view+json": {
                            "model_id": "117968d0b86843219d471bf62333ec89",
                            "version_major": 2,
                            "version_minor": 0
                        },
                        "text/plain": [
                            "Valid:   0%|          | 0/189 [00:00<?, ?batch/s]"
                        ]
                    },
                    "metadata": {},
                    "output_type": "display_data"
                },
                {
                    "name": "stdout",
                    "output_type": "stream",
                    "text": [
                        "Epoch: [1][0/189]Elapsed 0.10s | Loss: 0.4548\n",
                        "Epoch: [1][50/189]Elapsed 4.89s | Loss: 0.4452\n",
                        "Epoch: [1][100/189]Elapsed 9.66s | Loss: 0.4376\n",
                        "Epoch: [1][150/189]Elapsed 14.46s | Loss: 0.4187\n"
                    ]
                },
                {
                    "name": "stderr",
                    "output_type": "stream",
                    "text": [
                        "----------------------------------------------------------------------------------------------------\n",
                        "Epoch 1 - Average Train Loss: 0.6700 | Average Valid Loss: 0.4018 | Time: 128.78s\n",
                        "Best model found in epoch 1 | valid loss: 0.4018\n"
                    ]
                },
                {
                    "data": {
                        "application/vnd.jupyter.widget-view+json": {
                            "model_id": "f3ebb29f7a6644c8a599970c59cb5f40",
                            "version_major": 2,
                            "version_minor": 0
                        },
                        "text/plain": [
                            "Train:   0%|          | 0/749 [00:00<?, ?batch/s]"
                        ]
                    },
                    "metadata": {},
                    "output_type": "display_data"
                },
                {
                    "name": "stdout",
                    "output_type": "stream",
                    "text": [
                        "Epoch: [2][0/749]Elapsed 0.10s | Loss: 0.4442 Grad: 154438.6250 LR: 9.3625e-05\n",
                        "Epoch: [2][50/749]Elapsed 7.45s | Loss: 0.4464 Grad: 50914.6328 LR: 9.7154e-05\n",
                        "Epoch: [2][100/749]Elapsed 14.89s | Loss: 0.4453 Grad: 34358.7188 LR: 9.9300e-05\n",
                        "Epoch: [2][150/749]Elapsed 22.31s | Loss: 0.4406 Grad: 49629.4453 LR: 1.0000e-04\n",
                        "Epoch: [2][200/749]Elapsed 29.73s | Loss: 0.4385 Grad: 41514.2266 LR: 9.9990e-05\n",
                        "Epoch: [2][250/749]Elapsed 37.12s | Loss: 0.4350 Grad: 33837.6133 LR: 9.9961e-05\n",
                        "Epoch: [2][300/749]Elapsed 44.53s | Loss: 0.4291 Grad: 29344.1543 LR: 9.9914e-05\n",
                        "Epoch: [2][350/749]Elapsed 51.93s | Loss: 0.4251 Grad: 41700.7305 LR: 9.9847e-05\n",
                        "Epoch: [2][400/749]Elapsed 59.34s | Loss: 0.4203 Grad: 80260.3984 LR: 9.9762e-05\n",
                        "Epoch: [2][450/749]Elapsed 66.71s | Loss: 0.4169 Grad: 50547.7461 LR: 9.9658e-05\n",
                        "Epoch: [2][500/749]Elapsed 74.08s | Loss: 0.4106 Grad: 37148.0469 LR: 9.9536e-05\n",
                        "Epoch: [2][550/749]Elapsed 81.45s | Loss: 0.4051 Grad: 60973.4492 LR: 9.9395e-05\n",
                        "Epoch: [2][600/749]Elapsed 88.80s | Loss: 0.4025 Grad: 42669.2305 LR: 9.9235e-05\n",
                        "Epoch: [2][650/749]Elapsed 96.15s | Loss: 0.4006 Grad: 22867.7734 LR: 9.9056e-05\n",
                        "Epoch: [2][700/749]Elapsed 103.50s | Loss: 0.3971 Grad: 69616.4531 LR: 9.8859e-05\n",
                        "Epoch: [2][748/749]Elapsed 110.57s | Loss: 0.3936 Grad: 53299.4102 LR: 9.8653e-05\n"
                    ]
                },
                {
                    "data": {
                        "application/vnd.jupyter.widget-view+json": {
                            "model_id": "3aee52a1156148be81eb96a56d936412",
                            "version_major": 2,
                            "version_minor": 0
                        },
                        "text/plain": [
                            "Valid:   0%|          | 0/189 [00:00<?, ?batch/s]"
                        ]
                    },
                    "metadata": {},
                    "output_type": "display_data"
                },
                {
                    "name": "stdout",
                    "output_type": "stream",
                    "text": [
                        "Epoch: [2][0/189]Elapsed 0.10s | Loss: 0.4138\n",
                        "Epoch: [2][50/189]Elapsed 4.88s | Loss: 0.3412\n",
                        "Epoch: [2][100/189]Elapsed 9.66s | Loss: 0.3389\n",
                        "Epoch: [2][150/189]Elapsed 14.45s | Loss: 0.3372\n"
                    ]
                },
                {
                    "name": "stderr",
                    "output_type": "stream",
                    "text": [
                        "----------------------------------------------------------------------------------------------------\n",
                        "Epoch 2 - Average Train Loss: 0.3936 | Average Valid Loss: 0.3369 | Time: 128.82s\n",
                        "Best model found in epoch 2 | valid loss: 0.3369\n"
                    ]
                },
                {
                    "data": {
                        "application/vnd.jupyter.widget-view+json": {
                            "model_id": "5ce808c865bf49c6b2ff9fe7d50772c9",
                            "version_major": 2,
                            "version_minor": 0
                        },
                        "text/plain": [
                            "Train:   0%|          | 0/749 [00:00<?, ?batch/s]"
                        ]
                    },
                    "metadata": {},
                    "output_type": "display_data"
                },
                {
                    "name": "stdout",
                    "output_type": "stream",
                    "text": [
                        "Epoch: [3][0/749]Elapsed 0.10s | Loss: 0.3004 Grad: 103953.2422 LR: 9.8653e-05\n",
                        "Epoch: [3][50/749]Elapsed 7.43s | Loss: 0.3219 Grad: 28022.5566 LR: 9.8420e-05\n",
                        "Epoch: [3][100/749]Elapsed 14.82s | Loss: 0.3243 Grad: 43800.9688 LR: 9.8169e-05\n",
                        "Epoch: [3][150/749]Elapsed 22.22s | Loss: 0.3275 Grad: 37013.2109 LR: 9.7899e-05\n",
                        "Epoch: [3][200/749]Elapsed 29.61s | Loss: 0.3291 Grad: 39752.3438 LR: 9.7612e-05\n",
                        "Epoch: [3][250/749]Elapsed 36.96s | Loss: 0.3298 Grad: 43206.5273 LR: 9.7306e-05\n",
                        "Epoch: [3][300/749]Elapsed 44.33s | Loss: 0.3272 Grad: 39322.1211 LR: 9.6983e-05\n",
                        "Epoch: [3][350/749]Elapsed 51.69s | Loss: 0.3264 Grad: 33549.9648 LR: 9.6642e-05\n",
                        "Epoch: [3][400/749]Elapsed 59.04s | Loss: 0.3236 Grad: 60077.4219 LR: 9.6284e-05\n",
                        "Epoch: [3][450/749]Elapsed 66.39s | Loss: 0.3217 Grad: 79090.4375 LR: 9.5908e-05\n",
                        "Epoch: [3][500/749]Elapsed 73.74s | Loss: 0.3167 Grad: 40275.9961 LR: 9.5515e-05\n",
                        "Epoch: [3][550/749]Elapsed 81.09s | Loss: 0.3140 Grad: 64572.8516 LR: 9.5104e-05\n",
                        "Epoch: [3][600/749]Elapsed 88.44s | Loss: 0.3138 Grad: 86021.7266 LR: 9.4677e-05\n",
                        "Epoch: [3][650/749]Elapsed 95.79s | Loss: 0.3140 Grad: 26104.5117 LR: 9.4233e-05\n",
                        "Epoch: [3][700/749]Elapsed 103.14s | Loss: 0.3127 Grad: 59777.2969 LR: 9.3772e-05\n",
                        "Epoch: [3][748/749]Elapsed 110.20s | Loss: 0.3105 Grad: 87870.6562 LR: 9.3314e-05\n"
                    ]
                },
                {
                    "data": {
                        "application/vnd.jupyter.widget-view+json": {
                            "model_id": "9a2a46f17cc647fa8b0d836e5af665a1",
                            "version_major": 2,
                            "version_minor": 0
                        },
                        "text/plain": [
                            "Valid:   0%|          | 0/189 [00:00<?, ?batch/s]"
                        ]
                    },
                    "metadata": {},
                    "output_type": "display_data"
                },
                {
                    "name": "stdout",
                    "output_type": "stream",
                    "text": [
                        "Epoch: [3][0/189]Elapsed 0.11s | Loss: 0.4073\n",
                        "Epoch: [3][50/189]Elapsed 4.89s | Loss: 0.3285\n",
                        "Epoch: [3][100/189]Elapsed 9.68s | Loss: 0.3229\n",
                        "Epoch: [3][150/189]Elapsed 14.47s | Loss: 0.3285\n"
                    ]
                },
                {
                    "name": "stderr",
                    "output_type": "stream",
                    "text": [
                        "----------------------------------------------------------------------------------------------------\n",
                        "Epoch 3 - Average Train Loss: 0.3105 | Average Valid Loss: 0.3311 | Time: 128.47s\n",
                        "Best model found in epoch 3 | valid loss: 0.3311\n"
                    ]
                },
                {
                    "data": {
                        "application/vnd.jupyter.widget-view+json": {
                            "model_id": "d48fed8b1ffe41e4acad8a44785ee81f",
                            "version_major": 2,
                            "version_minor": 0
                        },
                        "text/plain": [
                            "Train:   0%|          | 0/749 [00:00<?, ?batch/s]"
                        ]
                    },
                    "metadata": {},
                    "output_type": "display_data"
                },
                {
                    "name": "stdout",
                    "output_type": "stream",
                    "text": [
                        "Epoch: [4][0/749]Elapsed 0.11s | Loss: 0.2575 Grad: nan LR: 9.3314e-05\n",
                        "Epoch: [4][50/749]Elapsed 7.41s | Loss: 0.2680 Grad: 28880.8008 LR: 9.2821e-05\n",
                        "Epoch: [4][100/749]Elapsed 14.83s | Loss: 0.2713 Grad: 44550.5078 LR: 9.2311e-05\n",
                        "Epoch: [4][150/749]Elapsed 22.26s | Loss: 0.2698 Grad: 31753.1836 LR: 9.1786e-05\n",
                        "Epoch: [4][200/749]Elapsed 29.64s | Loss: 0.2735 Grad: 54276.8359 LR: 9.1245e-05\n",
                        "Epoch: [4][250/749]Elapsed 37.00s | Loss: 0.2750 Grad: 31824.2637 LR: 9.0689e-05\n",
                        "Epoch: [4][300/749]Elapsed 44.37s | Loss: 0.2715 Grad: 60433.1875 LR: 9.0117e-05\n",
                        "Epoch: [4][350/749]Elapsed 51.73s | Loss: 0.2716 Grad: 39854.8906 LR: 8.9530e-05\n",
                        "Epoch: [4][400/749]Elapsed 59.09s | Loss: 0.2686 Grad: 50361.0469 LR: 8.8928e-05\n",
                        "Epoch: [4][450/749]Elapsed 66.45s | Loss: 0.2673 Grad: 57647.8398 LR: 8.8312e-05\n",
                        "Epoch: [4][500/749]Elapsed 73.83s | Loss: 0.2633 Grad: 72325.3281 LR: 8.7681e-05\n",
                        "Epoch: [4][550/749]Elapsed 81.23s | Loss: 0.2608 Grad: 46145.2617 LR: 8.7036e-05\n",
                        "Epoch: [4][600/749]Elapsed 88.58s | Loss: 0.2623 Grad: 30887.0410 LR: 8.6377e-05\n",
                        "Epoch: [4][650/749]Elapsed 95.95s | Loss: 0.2627 Grad: 25063.9766 LR: 8.5704e-05\n",
                        "Epoch: [4][700/749]Elapsed 103.35s | Loss: 0.2612 Grad: 57532.7305 LR: 8.5018e-05\n",
                        "Epoch: [4][748/749]Elapsed 110.42s | Loss: 0.2601 Grad: 41229.6875 LR: 8.4347e-05\n"
                    ]
                },
                {
                    "data": {
                        "application/vnd.jupyter.widget-view+json": {
                            "model_id": "d651ca1e856d4ac7948bc4a8e4035879",
                            "version_major": 2,
                            "version_minor": 0
                        },
                        "text/plain": [
                            "Valid:   0%|          | 0/189 [00:00<?, ?batch/s]"
                        ]
                    },
                    "metadata": {},
                    "output_type": "display_data"
                },
                {
                    "name": "stdout",
                    "output_type": "stream",
                    "text": [
                        "Epoch: [4][0/189]Elapsed 0.10s | Loss: 0.3627\n",
                        "Epoch: [4][50/189]Elapsed 4.87s | Loss: 0.3086\n",
                        "Epoch: [4][100/189]Elapsed 9.65s | Loss: 0.3039\n",
                        "Epoch: [4][150/189]Elapsed 14.43s | Loss: 0.3162\n"
                    ]
                },
                {
                    "name": "stderr",
                    "output_type": "stream",
                    "text": [
                        "----------------------------------------------------------------------------------------------------\n",
                        "Epoch 4 - Average Train Loss: 0.2601 | Average Valid Loss: 0.3276 | Time: 128.65s\n",
                        "Best model found in epoch 4 | valid loss: 0.3276\n"
                    ]
                },
                {
                    "data": {
                        "application/vnd.jupyter.widget-view+json": {
                            "model_id": "2b2698f5f7ce49b1b85cfa9d76112c30",
                            "version_major": 2,
                            "version_minor": 0
                        },
                        "text/plain": [
                            "Train:   0%|          | 0/749 [00:00<?, ?batch/s]"
                        ]
                    },
                    "metadata": {},
                    "output_type": "display_data"
                },
                {
                    "name": "stdout",
                    "output_type": "stream",
                    "text": [
                        "Epoch: [5][0/749]Elapsed 0.10s | Loss: 0.2991 Grad: inf LR: 8.4347e-05\n",
                        "Epoch: [5][50/749]Elapsed 7.42s | Loss: 0.2425 Grad: 33623.7227 LR: 8.3635e-05\n",
                        "Epoch: [5][100/749]Elapsed 14.83s | Loss: 0.2366 Grad: 32240.6660 LR: 8.2910e-05\n",
                        "Epoch: [5][150/749]Elapsed 22.28s | Loss: 0.2345 Grad: 39326.2539 LR: 8.2173e-05\n",
                        "Epoch: [5][200/749]Elapsed 29.67s | Loss: 0.2374 Grad: 31360.1348 LR: 8.1424e-05\n",
                        "Epoch: [5][250/749]Elapsed 37.07s | Loss: 0.2351 Grad: 45214.6289 LR: 8.0663e-05\n",
                        "Epoch: [5][300/749]Elapsed 44.46s | Loss: 0.2293 Grad: 100436.7734 LR: 7.9891e-05\n",
                        "Epoch: [5][350/749]Elapsed 51.84s | Loss: 0.2284 Grad: 44393.4688 LR: 7.9107e-05\n",
                        "Epoch: [5][400/749]Elapsed 59.22s | Loss: 0.2262 Grad: 40282.2734 LR: 7.8313e-05\n",
                        "Epoch: [5][450/749]Elapsed 66.58s | Loss: 0.2240 Grad: 93106.9141 LR: 7.7507e-05\n",
                        "Epoch: [5][500/749]Elapsed 73.93s | Loss: 0.2214 Grad: 53630.0469 LR: 7.6691e-05\n",
                        "Epoch: [5][550/749]Elapsed 81.29s | Loss: 0.2200 Grad: 39265.6055 LR: 7.5866e-05\n",
                        "Epoch: [5][600/749]Elapsed 88.62s | Loss: 0.2202 Grad: 34343.6289 LR: 7.5030e-05\n",
                        "Epoch: [5][650/749]Elapsed 95.94s | Loss: 0.2193 Grad: 32287.0684 LR: 7.4185e-05\n",
                        "Epoch: [5][700/749]Elapsed 103.28s | Loss: 0.2178 Grad: 58570.0859 LR: 7.3331e-05\n",
                        "Epoch: [5][748/749]Elapsed 110.36s | Loss: 0.2172 Grad: 49768.0312 LR: 7.2503e-05\n"
                    ]
                },
                {
                    "data": {
                        "application/vnd.jupyter.widget-view+json": {
                            "model_id": "30b5cf682a3547f0931366124dde7cdc",
                            "version_major": 2,
                            "version_minor": 0
                        },
                        "text/plain": [
                            "Valid:   0%|          | 0/189 [00:00<?, ?batch/s]"
                        ]
                    },
                    "metadata": {},
                    "output_type": "display_data"
                },
                {
                    "name": "stdout",
                    "output_type": "stream",
                    "text": [
                        "Epoch: [5][0/189]Elapsed 0.10s | Loss: 0.3233\n",
                        "Epoch: [5][50/189]Elapsed 4.88s | Loss: 0.3202\n",
                        "Epoch: [5][100/189]Elapsed 9.66s | Loss: 0.3145\n",
                        "Epoch: [5][150/189]Elapsed 14.46s | Loss: 0.3274\n"
                    ]
                },
                {
                    "name": "stderr",
                    "output_type": "stream",
                    "text": [
                        "----------------------------------------------------------------------------------------------------\n",
                        "Epoch 5 - Average Train Loss: 0.2172 | Average Valid Loss: 0.3409 | Time: 128.61s\n"
                    ]
                },
                {
                    "data": {
                        "application/vnd.jupyter.widget-view+json": {
                            "model_id": "03ed52562ab949f3a5f6487620557306",
                            "version_major": 2,
                            "version_minor": 0
                        },
                        "text/plain": [
                            "Train:   0%|          | 0/749 [00:00<?, ?batch/s]"
                        ]
                    },
                    "metadata": {},
                    "output_type": "display_data"
                },
                {
                    "name": "stdout",
                    "output_type": "stream",
                    "text": [
                        "Epoch: [6][0/749]Elapsed 0.10s | Loss: 0.2815 Grad: 168985.5156 LR: 7.2503e-05\n",
                        "Epoch: [6][50/749]Elapsed 7.40s | Loss: 0.2004 Grad: 44054.4961 LR: 7.1632e-05\n",
                        "Epoch: [6][100/749]Elapsed 14.79s | Loss: 0.1982 Grad: 41765.3164 LR: 7.0753e-05\n",
                        "Epoch: [6][150/749]Elapsed 22.24s | Loss: 0.1981 Grad: 60740.3164 LR: 6.9866e-05\n",
                        "Epoch: [6][200/749]Elapsed 29.64s | Loss: 0.1978 Grad: 36795.9609 LR: 6.8972e-05\n",
                        "Epoch: [6][250/749]Elapsed 37.03s | Loss: 0.1973 Grad: 83674.3516 LR: 6.8070e-05\n",
                        "Epoch: [6][300/749]Elapsed 44.39s | Loss: 0.1942 Grad: 50613.8125 LR: 6.7162e-05\n",
                        "Epoch: [6][350/749]Elapsed 51.76s | Loss: 0.1952 Grad: 48248.6562 LR: 6.6247e-05\n",
                        "Epoch: [6][400/749]Elapsed 59.13s | Loss: 0.1938 Grad: 32461.5137 LR: 6.5326e-05\n",
                        "Epoch: [6][450/749]Elapsed 66.49s | Loss: 0.1924 Grad: 55405.6914 LR: 6.4399e-05\n",
                        "Epoch: [6][500/749]Elapsed 73.85s | Loss: 0.1895 Grad: 19213.2188 LR: 6.3467e-05\n",
                        "Epoch: [6][550/749]Elapsed 81.21s | Loss: 0.1873 Grad: 48477.0469 LR: 6.2530e-05\n",
                        "Epoch: [6][600/749]Elapsed 88.56s | Loss: 0.1872 Grad: 58120.6523 LR: 6.1588e-05\n",
                        "Epoch: [6][650/749]Elapsed 95.91s | Loss: 0.1866 Grad: 36815.0078 LR: 6.0641e-05\n",
                        "Epoch: [6][700/749]Elapsed 103.26s | Loss: 0.1851 Grad: 38800.5234 LR: 5.9691e-05\n",
                        "Epoch: [6][748/749]Elapsed 110.32s | Loss: 0.1840 Grad: 68816.4375 LR: 5.8775e-05\n"
                    ]
                },
                {
                    "data": {
                        "application/vnd.jupyter.widget-view+json": {
                            "model_id": "e1e104bcb5af4203bc55d027c3a3622d",
                            "version_major": 2,
                            "version_minor": 0
                        },
                        "text/plain": [
                            "Valid:   0%|          | 0/189 [00:00<?, ?batch/s]"
                        ]
                    },
                    "metadata": {},
                    "output_type": "display_data"
                },
                {
                    "name": "stdout",
                    "output_type": "stream",
                    "text": [
                        "Epoch: [6][0/189]Elapsed 0.11s | Loss: 0.3217\n",
                        "Epoch: [6][50/189]Elapsed 4.88s | Loss: 0.3346\n",
                        "Epoch: [6][100/189]Elapsed 9.65s | Loss: 0.3255\n",
                        "Epoch: [6][150/189]Elapsed 14.44s | Loss: 0.3436\n"
                    ]
                },
                {
                    "name": "stderr",
                    "output_type": "stream",
                    "text": [
                        "----------------------------------------------------------------------------------------------------\n",
                        "Epoch 6 - Average Train Loss: 0.1840 | Average Valid Loss: 0.3613 | Time: 128.55s\n",
                        "====================================================================================================\n",
                        "Fold 3 Valid Loss: (Easy) 1.2200 | (Hard) 0.7924\n",
                        "Elapse: 12.87 min \n",
                        "====================================================================================================\n",
                        "- Second Stage \n",
                        "Use Checkpoint: ENet_b2_softmax_fold_3_stage_1.pth\n"
                    ]
                },
                {
                    "data": {
                        "application/vnd.jupyter.widget-view+json": {
                            "model_id": "55ca7351134b4a658065770b037b69d9",
                            "version_major": 2,
                            "version_minor": 0
                        },
                        "text/plain": [
                            "Train:   0%|          | 0/324 [00:00<?, ?batch/s]"
                        ]
                    },
                    "metadata": {},
                    "output_type": "display_data"
                },
                {
                    "name": "stdout",
                    "output_type": "stream",
                    "text": [
                        "Epoch: [1][0/324]Elapsed 0.10s | Loss: 0.4526 Grad: nan LR: 4.0000e-06\n",
                        "Epoch: [1][50/324]Elapsed 7.39s | Loss: 0.4533 Grad: 79645.5391 LR: 7.9039e-06\n",
                        "Epoch: [1][100/324]Elapsed 14.81s | Loss: 0.4308 Grad: 66197.2188 LR: 1.8981e-05\n",
                        "Epoch: [1][150/324]Elapsed 22.24s | Loss: 0.3967 Grad: 41006.1445 LR: 3.5428e-05\n",
                        "Epoch: [1][200/324]Elapsed 29.62s | Loss: 0.3700 Grad: 34861.7695 LR: 5.4572e-05\n",
                        "Epoch: [1][250/324]Elapsed 36.99s | Loss: 0.3475 Grad: 20517.6172 LR: 7.3297e-05\n",
                        "Epoch: [1][300/324]Elapsed 44.35s | Loss: 0.3288 Grad: 29689.1172 LR: 8.8558e-05\n",
                        "Epoch: [1][323/324]Elapsed 47.80s | Loss: 0.3210 Grad: 61745.7578 LR: 9.3890e-05\n"
                    ]
                },
                {
                    "data": {
                        "application/vnd.jupyter.widget-view+json": {
                            "model_id": "745533dee32f4b239d6492ea14956871",
                            "version_major": 2,
                            "version_minor": 0
                        },
                        "text/plain": [
                            "Valid:   0%|          | 0/189 [00:00<?, ?batch/s]"
                        ]
                    },
                    "metadata": {},
                    "output_type": "display_data"
                },
                {
                    "name": "stdout",
                    "output_type": "stream",
                    "text": [
                        "Epoch: [1][0/189]Elapsed 0.10s | Loss: 0.4725\n",
                        "Epoch: [1][50/189]Elapsed 4.88s | Loss: 0.4509\n",
                        "Epoch: [1][100/189]Elapsed 9.66s | Loss: 0.4500\n",
                        "Epoch: [1][150/189]Elapsed 14.46s | Loss: 0.4115\n"
                    ]
                },
                {
                    "name": "stderr",
                    "output_type": "stream",
                    "text": [
                        "----------------------------------------------------------------------------------------------------\n",
                        "Epoch 1 - Average Train Loss: 0.3210 | Average Valid Loss: 0.3762 | Time: 66.03s\n",
                        "Best model found in epoch 1 | valid loss: 0.3762\n"
                    ]
                },
                {
                    "data": {
                        "application/vnd.jupyter.widget-view+json": {
                            "model_id": "abcdf3c5bcbf43d0ac894ab2a19b0ea2",
                            "version_major": 2,
                            "version_minor": 0
                        },
                        "text/plain": [
                            "Train:   0%|          | 0/324 [00:00<?, ?batch/s]"
                        ]
                    },
                    "metadata": {},
                    "output_type": "display_data"
                },
                {
                    "name": "stdout",
                    "output_type": "stream",
                    "text": [
                        "Epoch: [2][0/324]Elapsed 0.10s | Loss: 0.2186 Grad: 118986.4297 LR: 9.3890e-05\n",
                        "Epoch: [2][50/324]Elapsed 7.44s | Loss: 0.2247 Grad: 86594.4609 LR: 9.9741e-05\n",
                        "Epoch: [2][100/324]Elapsed 14.89s | Loss: 0.2218 Grad: 63423.4062 LR: 9.9972e-05\n",
                        "Epoch: [2][150/324]Elapsed 22.30s | Loss: 0.2163 Grad: 45982.3203 LR: 9.9847e-05\n",
                        "Epoch: [2][200/324]Elapsed 29.72s | Loss: 0.2134 Grad: 39784.3789 LR: 9.9621e-05\n",
                        "Epoch: [2][250/324]Elapsed 37.15s | Loss: 0.2091 Grad: 34620.3867 LR: 9.9296e-05\n",
                        "Epoch: [2][300/324]Elapsed 44.56s | Loss: 0.2057 Grad: 51217.0117 LR: 9.8871e-05\n",
                        "Epoch: [2][323/324]Elapsed 48.02s | Loss: 0.2040 Grad: 68246.7812 LR: 9.8632e-05\n"
                    ]
                },
                {
                    "data": {
                        "application/vnd.jupyter.widget-view+json": {
                            "model_id": "48136d12ca70455ebf9a110e4076ce1c",
                            "version_major": 2,
                            "version_minor": 0
                        },
                        "text/plain": [
                            "Valid:   0%|          | 0/189 [00:00<?, ?batch/s]"
                        ]
                    },
                    "metadata": {},
                    "output_type": "display_data"
                },
                {
                    "name": "stdout",
                    "output_type": "stream",
                    "text": [
                        "Epoch: [2][0/189]Elapsed 0.10s | Loss: 0.4370\n",
                        "Epoch: [2][50/189]Elapsed 4.89s | Loss: 0.4403\n",
                        "Epoch: [2][100/189]Elapsed 9.66s | Loss: 0.4415\n",
                        "Epoch: [2][150/189]Elapsed 14.46s | Loss: 0.4004\n"
                    ]
                },
                {
                    "name": "stderr",
                    "output_type": "stream",
                    "text": [
                        "----------------------------------------------------------------------------------------------------\n",
                        "Epoch 2 - Average Train Loss: 0.2040 | Average Valid Loss: 0.3616 | Time: 66.23s\n",
                        "Best model found in epoch 2 | valid loss: 0.3616\n"
                    ]
                },
                {
                    "data": {
                        "application/vnd.jupyter.widget-view+json": {
                            "model_id": "6904525f4d094671aaafb3f6eb089800",
                            "version_major": 2,
                            "version_minor": 0
                        },
                        "text/plain": [
                            "Train:   0%|          | 0/324 [00:00<?, ?batch/s]"
                        ]
                    },
                    "metadata": {},
                    "output_type": "display_data"
                },
                {
                    "name": "stdout",
                    "output_type": "stream",
                    "text": [
                        "Epoch: [3][0/324]Elapsed 0.11s | Loss: 0.1820 Grad: 111651.8125 LR: 9.8632e-05\n",
                        "Epoch: [3][50/324]Elapsed 7.45s | Loss: 0.1947 Grad: 46688.2344 LR: 9.8062e-05\n",
                        "Epoch: [3][100/324]Elapsed 14.87s | Loss: 0.1915 Grad: 48902.4609 LR: 9.7395e-05\n",
                        "Epoch: [3][150/324]Elapsed 22.28s | Loss: 0.1876 Grad: 37885.6172 LR: 9.6633e-05\n",
                        "Epoch: [3][200/324]Elapsed 29.67s | Loss: 0.1857 Grad: 41090.6367 LR: 9.5776e-05\n",
                        "Epoch: [3][250/324]Elapsed 37.05s | Loss: 0.1834 Grad: 37293.2188 LR: 9.4828e-05\n",
                        "Epoch: [3][300/324]Elapsed 44.41s | Loss: 0.1816 Grad: 37826.8711 LR: 9.3789e-05\n",
                        "Epoch: [3][323/324]Elapsed 47.86s | Loss: 0.1806 Grad: 68196.5156 LR: 9.3259e-05\n"
                    ]
                },
                {
                    "data": {
                        "application/vnd.jupyter.widget-view+json": {
                            "model_id": "079ed30e81954b5d97241e0e1cb746d4",
                            "version_major": 2,
                            "version_minor": 0
                        },
                        "text/plain": [
                            "Valid:   0%|          | 0/189 [00:00<?, ?batch/s]"
                        ]
                    },
                    "metadata": {},
                    "output_type": "display_data"
                },
                {
                    "name": "stdout",
                    "output_type": "stream",
                    "text": [
                        "Epoch: [3][0/189]Elapsed 0.10s | Loss: 0.4174\n",
                        "Epoch: [3][50/189]Elapsed 4.88s | Loss: 0.4364\n",
                        "Epoch: [3][100/189]Elapsed 9.66s | Loss: 0.4398\n",
                        "Epoch: [3][150/189]Elapsed 14.45s | Loss: 0.3980\n"
                    ]
                },
                {
                    "name": "stderr",
                    "output_type": "stream",
                    "text": [
                        "----------------------------------------------------------------------------------------------------\n",
                        "Epoch 3 - Average Train Loss: 0.1806 | Average Valid Loss: 0.3590 | Time: 66.06s\n",
                        "Best model found in epoch 3 | valid loss: 0.3590\n"
                    ]
                },
                {
                    "data": {
                        "application/vnd.jupyter.widget-view+json": {
                            "model_id": "9dd97ce8a6e74e4e8edfb10aa9c42c46",
                            "version_major": 2,
                            "version_minor": 0
                        },
                        "text/plain": [
                            "Train:   0%|          | 0/324 [00:00<?, ?batch/s]"
                        ]
                    },
                    "metadata": {},
                    "output_type": "display_data"
                },
                {
                    "name": "stdout",
                    "output_type": "stream",
                    "text": [
                        "Epoch: [4][0/324]Elapsed 0.10s | Loss: 0.1684 Grad: 101129.4219 LR: 9.3259e-05\n",
                        "Epoch: [4][50/324]Elapsed 7.44s | Loss: 0.1731 Grad: 68021.7891 LR: 9.2091e-05\n",
                        "Epoch: [4][100/324]Elapsed 14.85s | Loss: 0.1734 Grad: 42301.3750 LR: 9.0837e-05\n",
                        "Epoch: [4][150/324]Elapsed 22.25s | Loss: 0.1716 Grad: 36174.5000 LR: 8.9502e-05\n",
                        "Epoch: [4][200/324]Elapsed 29.65s | Loss: 0.1706 Grad: 40957.1797 LR: 8.8087e-05\n",
                        "Epoch: [4][250/324]Elapsed 37.03s | Loss: 0.1689 Grad: 31565.1074 LR: 8.6595e-05\n",
                        "Epoch: [4][300/324]Elapsed 44.40s | Loss: 0.1666 Grad: 46013.2695 LR: 8.5030e-05\n",
                        "Epoch: [4][323/324]Elapsed 47.86s | Loss: 0.1660 Grad: 83229.5547 LR: 8.4253e-05\n"
                    ]
                },
                {
                    "data": {
                        "application/vnd.jupyter.widget-view+json": {
                            "model_id": "be428abd56fd4e0394b907f2b8c636d4",
                            "version_major": 2,
                            "version_minor": 0
                        },
                        "text/plain": [
                            "Valid:   0%|          | 0/189 [00:00<?, ?batch/s]"
                        ]
                    },
                    "metadata": {},
                    "output_type": "display_data"
                },
                {
                    "name": "stdout",
                    "output_type": "stream",
                    "text": [
                        "Epoch: [4][0/189]Elapsed 0.10s | Loss: 0.4044\n",
                        "Epoch: [4][50/189]Elapsed 4.89s | Loss: 0.4308\n",
                        "Epoch: [4][100/189]Elapsed 9.68s | Loss: 0.4313\n",
                        "Epoch: [4][150/189]Elapsed 14.48s | Loss: 0.3900\n"
                    ]
                },
                {
                    "name": "stderr",
                    "output_type": "stream",
                    "text": [
                        "----------------------------------------------------------------------------------------------------\n",
                        "Epoch 4 - Average Train Loss: 0.1660 | Average Valid Loss: 0.3519 | Time: 66.10s\n",
                        "Best model found in epoch 4 | valid loss: 0.3519\n"
                    ]
                },
                {
                    "data": {
                        "application/vnd.jupyter.widget-view+json": {
                            "model_id": "8d07ec79dd34487e83aecfef6fd78153",
                            "version_major": 2,
                            "version_minor": 0
                        },
                        "text/plain": [
                            "Train:   0%|          | 0/324 [00:00<?, ?batch/s]"
                        ]
                    },
                    "metadata": {},
                    "output_type": "display_data"
                },
                {
                    "name": "stdout",
                    "output_type": "stream",
                    "text": [
                        "Epoch: [5][0/324]Elapsed 0.10s | Loss: 0.1719 Grad: 139602.1562 LR: 8.4253e-05\n",
                        "Epoch: [5][50/324]Elapsed 7.45s | Loss: 0.1574 Grad: 52489.1367 LR: 8.2584e-05\n",
                        "Epoch: [5][100/324]Elapsed 14.87s | Loss: 0.1593 Grad: 34086.5000 LR: 8.0850e-05\n",
                        "Epoch: [5][150/324]Elapsed 22.30s | Loss: 0.1589 Grad: 38039.7812 LR: 7.9054e-05\n",
                        "Epoch: [5][200/324]Elapsed 29.69s | Loss: 0.1571 Grad: 30732.8828 LR: 7.7199e-05\n",
                        "Epoch: [5][250/324]Elapsed 37.09s | Loss: 0.1542 Grad: 33786.0547 LR: 7.5289e-05\n",
                        "Epoch: [5][300/324]Elapsed 44.45s | Loss: 0.1525 Grad: 55630.9531 LR: 7.3329e-05\n",
                        "Epoch: [5][323/324]Elapsed 47.91s | Loss: 0.1520 Grad: 55447.0469 LR: 7.2371e-05\n"
                    ]
                },
                {
                    "data": {
                        "application/vnd.jupyter.widget-view+json": {
                            "model_id": "10d78b16864644158fcdf2da794b0f62",
                            "version_major": 2,
                            "version_minor": 0
                        },
                        "text/plain": [
                            "Valid:   0%|          | 0/189 [00:00<?, ?batch/s]"
                        ]
                    },
                    "metadata": {},
                    "output_type": "display_data"
                },
                {
                    "name": "stdout",
                    "output_type": "stream",
                    "text": [
                        "Epoch: [5][0/189]Elapsed 0.10s | Loss: 0.4258\n",
                        "Epoch: [5][50/189]Elapsed 4.88s | Loss: 0.4436\n",
                        "Epoch: [5][100/189]Elapsed 9.67s | Loss: 0.4435\n",
                        "Epoch: [5][150/189]Elapsed 14.47s | Loss: 0.3997\n"
                    ]
                },
                {
                    "name": "stderr",
                    "output_type": "stream",
                    "text": [
                        "----------------------------------------------------------------------------------------------------\n",
                        "Epoch 5 - Average Train Loss: 0.1520 | Average Valid Loss: 0.3601 | Time: 66.16s\n"
                    ]
                },
                {
                    "data": {
                        "application/vnd.jupyter.widget-view+json": {
                            "model_id": "4447b7a83d14427390e722783abd24c4",
                            "version_major": 2,
                            "version_minor": 0
                        },
                        "text/plain": [
                            "Train:   0%|          | 0/324 [00:00<?, ?batch/s]"
                        ]
                    },
                    "metadata": {},
                    "output_type": "display_data"
                },
                {
                    "name": "stdout",
                    "output_type": "stream",
                    "text": [
                        "Epoch: [6][0/324]Elapsed 0.10s | Loss: 0.1552 Grad: 105585.6875 LR: 7.2371e-05\n",
                        "Epoch: [6][50/324]Elapsed 7.43s | Loss: 0.1461 Grad: 73748.0547 LR: 7.0342e-05\n",
                        "Epoch: [6][100/324]Elapsed 14.84s | Loss: 0.1436 Grad: 35656.1797 LR: 6.8273e-05\n",
                        "Epoch: [6][150/324]Elapsed 22.22s | Loss: 0.1415 Grad: 45571.9883 LR: 6.6166e-05\n",
                        "Epoch: [6][200/324]Elapsed 29.61s | Loss: 0.1407 Grad: 33772.1797 LR: 6.4027e-05\n",
                        "Epoch: [6][250/324]Elapsed 36.99s | Loss: 0.1401 Grad: 38997.7773 LR: 6.1860e-05\n",
                        "Epoch: [6][300/324]Elapsed 44.36s | Loss: 0.1385 Grad: 33038.4219 LR: 5.9669e-05\n",
                        "Epoch: [6][323/324]Elapsed 47.81s | Loss: 0.1381 Grad: 79346.0859 LR: 5.8611e-05\n"
                    ]
                },
                {
                    "data": {
                        "application/vnd.jupyter.widget-view+json": {
                            "model_id": "5b7f755911814969a2d47a25cda9e2cc",
                            "version_major": 2,
                            "version_minor": 0
                        },
                        "text/plain": [
                            "Valid:   0%|          | 0/189 [00:00<?, ?batch/s]"
                        ]
                    },
                    "metadata": {},
                    "output_type": "display_data"
                },
                {
                    "name": "stdout",
                    "output_type": "stream",
                    "text": [
                        "Epoch: [6][0/189]Elapsed 0.10s | Loss: 0.4379\n",
                        "Epoch: [6][50/189]Elapsed 4.88s | Loss: 0.4437\n",
                        "Epoch: [6][100/189]Elapsed 9.67s | Loss: 0.4431\n",
                        "Epoch: [6][150/189]Elapsed 14.46s | Loss: 0.3998\n"
                    ]
                },
                {
                    "name": "stderr",
                    "output_type": "stream",
                    "text": [
                        "----------------------------------------------------------------------------------------------------\n",
                        "Epoch 6 - Average Train Loss: 0.1381 | Average Valid Loss: 0.3601 | Time: 66.02s\n",
                        "====================================================================================================\n",
                        "Fold 3 Valid Loss: (Easy) 1.3547 | (Hard) 0.7943\n",
                        "Elapse: 6.62 min \n",
                        "====================================================================================================\n",
                        "====================================================================================================\n",
                        "Fold: 4 || Valid size 2752 \n",
                        "====================================================================================================\n",
                        "- First Stage \n"
                    ]
                },
                {
                    "data": {
                        "application/vnd.jupyter.widget-view+json": {
                            "model_id": "26accf164f6d46c2b3fd8f03625a98db",
                            "version_major": 2,
                            "version_minor": 0
                        },
                        "text/plain": [
                            "Train:   0%|          | 0/761 [00:00<?, ?batch/s]"
                        ]
                    },
                    "metadata": {},
                    "output_type": "display_data"
                },
                {
                    "name": "stdout",
                    "output_type": "stream",
                    "text": [
                        "Epoch: [1][0/761]Elapsed 0.11s | Loss: 0.8452 Grad: 103693.2266 LR: 4.0000e-06\n",
                        "Epoch: [1][50/761]Elapsed 7.42s | Loss: 0.8173 Grad: 81460.1328 LR: 4.7115e-06\n",
                        "Epoch: [1][100/761]Elapsed 14.85s | Loss: 0.8173 Grad: 86790.3281 LR: 6.8247e-06\n",
                        "Epoch: [1][150/761]Elapsed 22.26s | Loss: 0.8092 Grad: 72119.8281 LR: 1.0277e-05\n",
                        "Epoch: [1][200/761]Elapsed 29.67s | Loss: 0.8033 Grad: 65138.2305 LR: 1.4966e-05\n",
                        "Epoch: [1][250/761]Elapsed 37.08s | Loss: 0.7969 Grad: 110595.1562 LR: 2.0754e-05\n",
                        "Epoch: [1][300/761]Elapsed 44.46s | Loss: 0.7878 Grad: 97906.0547 LR: 2.7467e-05\n",
                        "Epoch: [1][350/761]Elapsed 51.83s | Loss: 0.7762 Grad: 41681.8633 LR: 3.4908e-05\n",
                        "Epoch: [1][400/761]Elapsed 59.20s | Loss: 0.7636 Grad: 35099.6172 LR: 4.2855e-05\n",
                        "Epoch: [1][450/761]Elapsed 66.59s | Loss: 0.7505 Grad: 88579.2656 LR: 5.1073e-05\n",
                        "Epoch: [1][500/761]Elapsed 73.96s | Loss: 0.7351 Grad: 70680.0156 LR: 5.9319e-05\n",
                        "Epoch: [1][550/761]Elapsed 81.33s | Loss: 0.7198 Grad: 57714.5234 LR: 6.7348e-05\n",
                        "Epoch: [1][600/761]Elapsed 88.69s | Loss: 0.7049 Grad: 63694.3281 LR: 7.4922e-05\n",
                        "Epoch: [1][650/761]Elapsed 96.05s | Loss: 0.6902 Grad: 95018.3906 LR: 8.1816e-05\n",
                        "Epoch: [1][700/761]Elapsed 103.41s | Loss: 0.6761 Grad: 41253.7227 LR: 8.7827e-05\n",
                        "Epoch: [1][750/761]Elapsed 110.78s | Loss: 0.6591 Grad: 46217.6875 LR: 9.2776e-05\n",
                        "Epoch: [1][760/761]Elapsed 112.28s | Loss: 0.6561 Grad: 47768.7891 LR: 9.3624e-05\n"
                    ]
                },
                {
                    "data": {
                        "application/vnd.jupyter.widget-view+json": {
                            "model_id": "5257ca4d781a433f9d34b0e5a4c51898",
                            "version_major": 2,
                            "version_minor": 0
                        },
                        "text/plain": [
                            "Valid:   0%|          | 0/172 [00:00<?, ?batch/s]"
                        ]
                    },
                    "metadata": {},
                    "output_type": "display_data"
                },
                {
                    "name": "stdout",
                    "output_type": "stream",
                    "text": [
                        "Epoch: [1][0/172]Elapsed 0.10s | Loss: 0.3046\n",
                        "Epoch: [1][50/172]Elapsed 4.89s | Loss: 0.4872\n",
                        "Epoch: [1][100/172]Elapsed 9.67s | Loss: 0.4804\n",
                        "Epoch: [1][150/172]Elapsed 14.46s | Loss: 0.4518\n"
                    ]
                },
                {
                    "name": "stderr",
                    "output_type": "stream",
                    "text": [
                        "----------------------------------------------------------------------------------------------------\n",
                        "Epoch 1 - Average Train Loss: 0.6561 | Average Valid Loss: 0.4433 | Time: 129.00s\n",
                        "Best model found in epoch 1 | valid loss: 0.4433\n"
                    ]
                },
                {
                    "data": {
                        "application/vnd.jupyter.widget-view+json": {
                            "model_id": "cccf8b25cbf54a6185d5e83948a76797",
                            "version_major": 2,
                            "version_minor": 0
                        },
                        "text/plain": [
                            "Train:   0%|          | 0/761 [00:00<?, ?batch/s]"
                        ]
                    },
                    "metadata": {},
                    "output_type": "display_data"
                },
                {
                    "name": "stdout",
                    "output_type": "stream",
                    "text": [
                        "Epoch: [2][0/761]Elapsed 0.10s | Loss: 0.4057 Grad: 120277.7578 LR: 9.3624e-05\n",
                        "Epoch: [2][50/761]Elapsed 7.44s | Loss: 0.4404 Grad: 56157.9336 LR: 9.7108e-05\n",
                        "Epoch: [2][100/761]Elapsed 14.83s | Loss: 0.4400 Grad: 74031.4922 LR: 9.9254e-05\n",
                        "Epoch: [2][150/761]Elapsed 22.21s | Loss: 0.4431 Grad: 31951.4629 LR: 1.0000e-04\n",
                        "Epoch: [2][200/761]Elapsed 29.62s | Loss: 0.4448 Grad: 52189.8320 LR: 9.9991e-05\n",
                        "Epoch: [2][250/761]Elapsed 37.02s | Loss: 0.4388 Grad: 33845.4609 LR: 9.9964e-05\n",
                        "Epoch: [2][300/761]Elapsed 44.41s | Loss: 0.4321 Grad: 41930.2734 LR: 9.9919e-05\n",
                        "Epoch: [2][350/761]Elapsed 51.79s | Loss: 0.4275 Grad: 36327.3789 LR: 9.9856e-05\n",
                        "Epoch: [2][400/761]Elapsed 59.16s | Loss: 0.4216 Grad: 49771.8125 LR: 9.9774e-05\n",
                        "Epoch: [2][450/761]Elapsed 66.53s | Loss: 0.4166 Grad: 42859.0234 LR: 9.9674e-05\n",
                        "Epoch: [2][500/761]Elapsed 73.90s | Loss: 0.4104 Grad: 42368.2812 LR: 9.9556e-05\n",
                        "Epoch: [2][550/761]Elapsed 81.26s | Loss: 0.4075 Grad: 52862.7773 LR: 9.9420e-05\n",
                        "Epoch: [2][600/761]Elapsed 88.64s | Loss: 0.4027 Grad: 35920.3359 LR: 9.9266e-05\n",
                        "Epoch: [2][650/761]Elapsed 96.01s | Loss: 0.3990 Grad: 28807.5742 LR: 9.9094e-05\n",
                        "Epoch: [2][700/761]Elapsed 103.36s | Loss: 0.3956 Grad: 37627.4883 LR: 9.8904e-05\n",
                        "Epoch: [2][750/761]Elapsed 110.74s | Loss: 0.3892 Grad: 28220.3633 LR: 9.8696e-05\n",
                        "Epoch: [2][760/761]Elapsed 112.24s | Loss: 0.3882 Grad: 33449.2539 LR: 9.8653e-05\n"
                    ]
                },
                {
                    "data": {
                        "application/vnd.jupyter.widget-view+json": {
                            "model_id": "6342be64a61241f18124e8291541c61a",
                            "version_major": 2,
                            "version_minor": 0
                        },
                        "text/plain": [
                            "Valid:   0%|          | 0/172 [00:00<?, ?batch/s]"
                        ]
                    },
                    "metadata": {},
                    "output_type": "display_data"
                },
                {
                    "name": "stdout",
                    "output_type": "stream",
                    "text": [
                        "Epoch: [2][0/172]Elapsed 0.10s | Loss: 0.2725\n",
                        "Epoch: [2][50/172]Elapsed 4.90s | Loss: 0.3892\n",
                        "Epoch: [2][100/172]Elapsed 9.68s | Loss: 0.3806\n",
                        "Epoch: [2][150/172]Elapsed 14.48s | Loss: 0.3686\n"
                    ]
                },
                {
                    "name": "stderr",
                    "output_type": "stream",
                    "text": [
                        "----------------------------------------------------------------------------------------------------\n",
                        "Epoch 2 - Average Train Loss: 0.3882 | Average Valid Loss: 0.3668 | Time: 128.98s\n",
                        "Best model found in epoch 2 | valid loss: 0.3668\n"
                    ]
                },
                {
                    "data": {
                        "application/vnd.jupyter.widget-view+json": {
                            "model_id": "438ef283ebeb474ebedc7cc1e5b0f78c",
                            "version_major": 2,
                            "version_minor": 0
                        },
                        "text/plain": [
                            "Train:   0%|          | 0/761 [00:00<?, ?batch/s]"
                        ]
                    },
                    "metadata": {},
                    "output_type": "display_data"
                },
                {
                    "name": "stdout",
                    "output_type": "stream",
                    "text": [
                        "Epoch: [3][0/761]Elapsed 0.10s | Loss: 0.2874 Grad: 189051.2500 LR: 9.8653e-05\n",
                        "Epoch: [3][50/761]Elapsed 7.40s | Loss: 0.3325 Grad: 54705.9648 LR: 9.8424e-05\n",
                        "Epoch: [3][100/761]Elapsed 14.79s | Loss: 0.3289 Grad: 40203.1172 LR: 9.8177e-05\n",
                        "Epoch: [3][150/761]Elapsed 22.20s | Loss: 0.3319 Grad: 52712.0195 LR: 9.7912e-05\n",
                        "Epoch: [3][200/761]Elapsed 29.61s | Loss: 0.3363 Grad: 61037.6055 LR: 9.7630e-05\n",
                        "Epoch: [3][250/761]Elapsed 37.01s | Loss: 0.3378 Grad: 56966.9844 LR: 9.7331e-05\n",
                        "Epoch: [3][300/761]Elapsed 44.42s | Loss: 0.3335 Grad: 53576.3867 LR: 9.7015e-05\n",
                        "Epoch: [3][350/761]Elapsed 51.79s | Loss: 0.3322 Grad: 35039.8320 LR: 9.6681e-05\n",
                        "Epoch: [3][400/761]Elapsed 59.16s | Loss: 0.3299 Grad: 79868.8047 LR: 9.6330e-05\n",
                        "Epoch: [3][450/761]Elapsed 66.52s | Loss: 0.3282 Grad: 60505.5664 LR: 9.5962e-05\n",
                        "Epoch: [3][500/761]Elapsed 73.88s | Loss: 0.3235 Grad: 42304.0391 LR: 9.5578e-05\n",
                        "Epoch: [3][550/761]Elapsed 81.25s | Loss: 0.3220 Grad: 19785.4199 LR: 9.5177e-05\n",
                        "Epoch: [3][600/761]Elapsed 88.59s | Loss: 0.3189 Grad: 34506.6484 LR: 9.4759e-05\n",
                        "Epoch: [3][650/761]Elapsed 95.94s | Loss: 0.3172 Grad: 41840.1211 LR: 9.4325e-05\n",
                        "Epoch: [3][700/761]Elapsed 103.28s | Loss: 0.3146 Grad: 34187.8086 LR: 9.3875e-05\n",
                        "Epoch: [3][750/761]Elapsed 110.62s | Loss: 0.3103 Grad: 26950.4355 LR: 9.3409e-05\n",
                        "Epoch: [3][760/761]Elapsed 112.11s | Loss: 0.3098 Grad: 43068.1562 LR: 9.3313e-05\n"
                    ]
                },
                {
                    "data": {
                        "application/vnd.jupyter.widget-view+json": {
                            "model_id": "b9bafae4c2cc4ed49df87c50d213d446",
                            "version_major": 2,
                            "version_minor": 0
                        },
                        "text/plain": [
                            "Valid:   0%|          | 0/172 [00:00<?, ?batch/s]"
                        ]
                    },
                    "metadata": {},
                    "output_type": "display_data"
                },
                {
                    "name": "stdout",
                    "output_type": "stream",
                    "text": [
                        "Epoch: [3][0/172]Elapsed 0.10s | Loss: 0.2301\n",
                        "Epoch: [3][50/172]Elapsed 4.87s | Loss: 0.3767\n",
                        "Epoch: [3][100/172]Elapsed 9.64s | Loss: 0.3676\n",
                        "Epoch: [3][150/172]Elapsed 14.43s | Loss: 0.3688\n"
                    ]
                },
                {
                    "name": "stderr",
                    "output_type": "stream",
                    "text": [
                        "----------------------------------------------------------------------------------------------------\n",
                        "Epoch 3 - Average Train Loss: 0.3098 | Average Valid Loss: 0.3708 | Time: 128.79s\n"
                    ]
                },
                {
                    "data": {
                        "application/vnd.jupyter.widget-view+json": {
                            "model_id": "75519f8b00024108899d24b2e7b8d5bf",
                            "version_major": 2,
                            "version_minor": 0
                        },
                        "text/plain": [
                            "Train:   0%|          | 0/761 [00:00<?, ?batch/s]"
                        ]
                    },
                    "metadata": {},
                    "output_type": "display_data"
                },
                {
                    "name": "stdout",
                    "output_type": "stream",
                    "text": [
                        "Epoch: [4][0/761]Elapsed 0.10s | Loss: 0.1994 Grad: 185895.7344 LR: 9.3313e-05\n",
                        "Epoch: [4][50/761]Elapsed 7.40s | Loss: 0.2751 Grad: 71944.9688 LR: 9.2828e-05\n",
                        "Epoch: [4][100/761]Elapsed 14.79s | Loss: 0.2722 Grad: 128316.2656 LR: 9.2328e-05\n",
                        "Epoch: [4][150/761]Elapsed 22.19s | Loss: 0.2772 Grad: 39311.7383 LR: 9.1811e-05\n",
                        "Epoch: [4][200/761]Elapsed 29.57s | Loss: 0.2808 Grad: 42280.3203 LR: 9.1280e-05\n",
                        "Epoch: [4][250/761]Elapsed 36.95s | Loss: 0.2809 Grad: 47805.4727 LR: 9.0733e-05\n",
                        "Epoch: [4][300/761]Elapsed 44.33s | Loss: 0.2754 Grad: 42674.9805 LR: 9.0172e-05\n",
                        "Epoch: [4][350/761]Elapsed 51.69s | Loss: 0.2742 Grad: 31426.1113 LR: 8.9595e-05\n",
                        "Epoch: [4][400/761]Elapsed 59.08s | Loss: 0.2721 Grad: 46587.1641 LR: 8.9005e-05\n",
                        "Epoch: [4][450/761]Elapsed 66.45s | Loss: 0.2707 Grad: 70994.0312 LR: 8.8400e-05\n",
                        "Epoch: [4][500/761]Elapsed 73.79s | Loss: 0.2664 Grad: 47345.1797 LR: 8.7781e-05\n",
                        "Epoch: [4][550/761]Elapsed 81.12s | Loss: 0.2654 Grad: 29898.4492 LR: 8.7149e-05\n",
                        "Epoch: [4][600/761]Elapsed 88.46s | Loss: 0.2624 Grad: 43403.8477 LR: 8.6502e-05\n",
                        "Epoch: [4][650/761]Elapsed 95.83s | Loss: 0.2611 Grad: 72467.9609 LR: 8.5843e-05\n",
                        "Epoch: [4][700/761]Elapsed 103.22s | Loss: 0.2594 Grad: 39937.1016 LR: 8.5170e-05\n",
                        "Epoch: [4][750/761]Elapsed 110.57s | Loss: 0.2564 Grad: 40463.9453 LR: 8.4485e-05\n",
                        "Epoch: [4][760/761]Elapsed 112.07s | Loss: 0.2561 Grad: 54947.8555 LR: 8.4346e-05\n"
                    ]
                },
                {
                    "data": {
                        "application/vnd.jupyter.widget-view+json": {
                            "model_id": "0f241e21e50645b3aa3e6d985bd380bd",
                            "version_major": 2,
                            "version_minor": 0
                        },
                        "text/plain": [
                            "Valid:   0%|          | 0/172 [00:00<?, ?batch/s]"
                        ]
                    },
                    "metadata": {},
                    "output_type": "display_data"
                },
                {
                    "name": "stdout",
                    "output_type": "stream",
                    "text": [
                        "Epoch: [4][0/172]Elapsed 0.10s | Loss: 0.1996\n",
                        "Epoch: [4][50/172]Elapsed 4.88s | Loss: 0.3671\n",
                        "Epoch: [4][100/172]Elapsed 9.65s | Loss: 0.3600\n",
                        "Epoch: [4][150/172]Elapsed 14.45s | Loss: 0.3651\n"
                    ]
                },
                {
                    "name": "stderr",
                    "output_type": "stream",
                    "text": [
                        "----------------------------------------------------------------------------------------------------\n",
                        "Epoch 4 - Average Train Loss: 0.2561 | Average Valid Loss: 0.3663 | Time: 128.78s\n",
                        "Best model found in epoch 4 | valid loss: 0.3663\n"
                    ]
                },
                {
                    "data": {
                        "application/vnd.jupyter.widget-view+json": {
                            "model_id": "117569c175d942f0b929b51c2767c591",
                            "version_major": 2,
                            "version_minor": 0
                        },
                        "text/plain": [
                            "Train:   0%|          | 0/761 [00:00<?, ?batch/s]"
                        ]
                    },
                    "metadata": {},
                    "output_type": "display_data"
                },
                {
                    "name": "stdout",
                    "output_type": "stream",
                    "text": [
                        "Epoch: [5][0/761]Elapsed 0.10s | Loss: 0.3092 Grad: nan LR: 8.4346e-05\n",
                        "Epoch: [5][50/761]Elapsed 7.40s | Loss: 0.2438 Grad: 29731.0605 LR: 8.3646e-05\n",
                        "Epoch: [5][100/761]Elapsed 14.79s | Loss: 0.2387 Grad: 45930.2891 LR: 8.2933e-05\n",
                        "Epoch: [5][150/761]Elapsed 22.20s | Loss: 0.2448 Grad: 35315.5078 LR: 8.2208e-05\n",
                        "Epoch: [5][200/761]Elapsed 29.59s | Loss: 0.2468 Grad: 39172.3008 LR: 8.1471e-05\n",
                        "Epoch: [5][250/761]Elapsed 37.00s | Loss: 0.2447 Grad: 31818.7695 LR: 8.0723e-05\n",
                        "Epoch: [5][300/761]Elapsed 44.40s | Loss: 0.2398 Grad: 52856.6133 LR: 7.9964e-05\n",
                        "Epoch: [5][350/761]Elapsed 51.79s | Loss: 0.2389 Grad: 30665.8828 LR: 7.9194e-05\n",
                        "Epoch: [5][400/761]Elapsed 59.16s | Loss: 0.2369 Grad: 52474.5430 LR: 7.8413e-05\n",
                        "Epoch: [5][450/761]Elapsed 66.52s | Loss: 0.2353 Grad: 75534.9844 LR: 7.7622e-05\n",
                        "Epoch: [5][500/761]Elapsed 73.88s | Loss: 0.2314 Grad: 41885.2773 LR: 7.6820e-05\n",
                        "Epoch: [5][550/761]Elapsed 81.21s | Loss: 0.2303 Grad: 29827.7109 LR: 7.6009e-05\n",
                        "Epoch: [5][600/761]Elapsed 88.54s | Loss: 0.2273 Grad: 44141.9023 LR: 7.5188e-05\n",
                        "Epoch: [5][650/761]Elapsed 95.92s | Loss: 0.2246 Grad: 32103.9590 LR: 7.4359e-05\n",
                        "Epoch: [5][700/761]Elapsed 103.29s | Loss: 0.2240 Grad: 39534.8203 LR: 7.3520e-05\n",
                        "Epoch: [5][750/761]Elapsed 110.65s | Loss: 0.2212 Grad: 34097.1992 LR: 7.2673e-05\n",
                        "Epoch: [5][760/761]Elapsed 112.15s | Loss: 0.2208 Grad: 46095.0781 LR: 7.2502e-05\n"
                    ]
                },
                {
                    "data": {
                        "application/vnd.jupyter.widget-view+json": {
                            "model_id": "66e07f90813248f5a48458c9e72c2e75",
                            "version_major": 2,
                            "version_minor": 0
                        },
                        "text/plain": [
                            "Valid:   0%|          | 0/172 [00:00<?, ?batch/s]"
                        ]
                    },
                    "metadata": {},
                    "output_type": "display_data"
                },
                {
                    "name": "stdout",
                    "output_type": "stream",
                    "text": [
                        "Epoch: [5][0/172]Elapsed 0.10s | Loss: 0.1909\n",
                        "Epoch: [5][50/172]Elapsed 4.88s | Loss: 0.3775\n",
                        "Epoch: [5][100/172]Elapsed 9.65s | Loss: 0.3704\n",
                        "Epoch: [5][150/172]Elapsed 14.43s | Loss: 0.3798\n"
                    ]
                },
                {
                    "name": "stderr",
                    "output_type": "stream",
                    "text": [
                        "----------------------------------------------------------------------------------------------------\n",
                        "Epoch 5 - Average Train Loss: 0.2208 | Average Valid Loss: 0.3818 | Time: 128.84s\n"
                    ]
                },
                {
                    "data": {
                        "application/vnd.jupyter.widget-view+json": {
                            "model_id": "09a8cbefa8aa4b45886310a8f89f892c",
                            "version_major": 2,
                            "version_minor": 0
                        },
                        "text/plain": [
                            "Train:   0%|          | 0/761 [00:00<?, ?batch/s]"
                        ]
                    },
                    "metadata": {},
                    "output_type": "display_data"
                },
                {
                    "name": "stdout",
                    "output_type": "stream",
                    "text": [
                        "Epoch: [6][0/761]Elapsed 0.10s | Loss: 0.2130 Grad: inf LR: 7.2502e-05\n",
                        "Epoch: [6][50/761]Elapsed 7.42s | Loss: 0.2037 Grad: 62949.1328 LR: 7.1645e-05\n",
                        "Epoch: [6][100/761]Elapsed 14.81s | Loss: 0.2013 Grad: 74274.4375 LR: 7.0780e-05\n",
                        "Epoch: [6][150/761]Elapsed 22.20s | Loss: 0.2039 Grad: 37865.2734 LR: 6.9907e-05\n",
                        "Epoch: [6][200/761]Elapsed 29.59s | Loss: 0.2035 Grad: 61465.4688 LR: 6.9027e-05\n",
                        "Epoch: [6][250/761]Elapsed 36.98s | Loss: 0.2025 Grad: 51700.8398 LR: 6.8140e-05\n",
                        "Epoch: [6][300/761]Elapsed 44.38s | Loss: 0.1989 Grad: 44508.4180 LR: 6.7247e-05\n",
                        "Epoch: [6][350/761]Elapsed 51.75s | Loss: 0.1979 Grad: 56053.8164 LR: 6.6347e-05\n",
                        "Epoch: [6][400/761]Elapsed 59.12s | Loss: 0.1973 Grad: 62756.1328 LR: 6.5441e-05\n",
                        "Epoch: [6][450/761]Elapsed 66.51s | Loss: 0.1960 Grad: 48443.9570 LR: 6.4530e-05\n",
                        "Epoch: [6][500/761]Elapsed 73.88s | Loss: 0.1925 Grad: 38567.4961 LR: 6.3613e-05\n",
                        "Epoch: [6][550/761]Elapsed 81.25s | Loss: 0.1912 Grad: 25228.8242 LR: 6.2692e-05\n",
                        "Epoch: [6][600/761]Elapsed 88.62s | Loss: 0.1897 Grad: 49623.6562 LR: 6.1765e-05\n",
                        "Epoch: [6][650/761]Elapsed 96.00s | Loss: 0.1891 Grad: 80623.5625 LR: 6.0835e-05\n",
                        "Epoch: [6][700/761]Elapsed 103.38s | Loss: 0.1878 Grad: 42282.0469 LR: 5.9900e-05\n",
                        "Epoch: [6][750/761]Elapsed 110.75s | Loss: 0.1859 Grad: 28130.3438 LR: 5.8962e-05\n",
                        "Epoch: [6][760/761]Elapsed 112.25s | Loss: 0.1857 Grad: 48204.4180 LR: 5.8774e-05\n"
                    ]
                },
                {
                    "data": {
                        "application/vnd.jupyter.widget-view+json": {
                            "model_id": "30092e52c9234d1cb301d0d6e899dcc0",
                            "version_major": 2,
                            "version_minor": 0
                        },
                        "text/plain": [
                            "Valid:   0%|          | 0/172 [00:00<?, ?batch/s]"
                        ]
                    },
                    "metadata": {},
                    "output_type": "display_data"
                },
                {
                    "name": "stdout",
                    "output_type": "stream",
                    "text": [
                        "Epoch: [6][0/172]Elapsed 0.10s | Loss: 0.1617\n",
                        "Epoch: [6][50/172]Elapsed 4.88s | Loss: 0.3986\n",
                        "Epoch: [6][100/172]Elapsed 9.65s | Loss: 0.3919\n",
                        "Epoch: [6][150/172]Elapsed 14.44s | Loss: 0.4077\n"
                    ]
                },
                {
                    "name": "stderr",
                    "output_type": "stream",
                    "text": [
                        "----------------------------------------------------------------------------------------------------\n",
                        "Epoch 6 - Average Train Loss: 0.1857 | Average Valid Loss: 0.4129 | Time: 128.94s\n",
                        "====================================================================================================\n",
                        "Fold 4 Valid Loss: (Easy) 1.2406 | (Hard) 0.7875\n",
                        "Elapse: 12.90 min \n",
                        "====================================================================================================\n",
                        "- Second Stage \n",
                        "Use Checkpoint: ENet_b2_softmax_fold_4_stage_1.pth\n"
                    ]
                },
                {
                    "data": {
                        "application/vnd.jupyter.widget-view+json": {
                            "model_id": "20576c8cb74c406688d78c48811dbd8f",
                            "version_major": 2,
                            "version_minor": 0
                        },
                        "text/plain": [
                            "Train:   0%|          | 0/327 [00:00<?, ?batch/s]"
                        ]
                    },
                    "metadata": {},
                    "output_type": "display_data"
                },
                {
                    "name": "stdout",
                    "output_type": "stream",
                    "text": [
                        "Epoch: [1][0/327]Elapsed 0.10s | Loss: 0.4344 Grad: nan LR: 4.0000e-06\n",
                        "Epoch: [1][50/327]Elapsed 7.39s | Loss: 0.4408 Grad: 52379.8008 LR: 7.8332e-06\n",
                        "Epoch: [1][100/327]Elapsed 14.79s | Loss: 0.4300 Grad: 74402.3984 LR: 1.8721e-05\n",
                        "Epoch: [1][150/327]Elapsed 22.19s | Loss: 0.3971 Grad: 48125.9922 LR: 3.4923e-05\n",
                        "Epoch: [1][200/327]Elapsed 29.59s | Loss: 0.3679 Grad: 34124.8594 LR: 5.3854e-05\n",
                        "Epoch: [1][250/327]Elapsed 36.99s | Loss: 0.3465 Grad: 45339.1953 LR: 7.2488e-05\n",
                        "Epoch: [1][300/327]Elapsed 44.39s | Loss: 0.3296 Grad: 34812.1641 LR: 8.7850e-05\n",
                        "Epoch: [1][326/327]Elapsed 48.26s | Loss: 0.3222 Grad: 30320.2129 LR: 9.3697e-05\n"
                    ]
                },
                {
                    "data": {
                        "application/vnd.jupyter.widget-view+json": {
                            "model_id": "2ed082eb3aa74c21a4afd33db7a46a01",
                            "version_major": 2,
                            "version_minor": 0
                        },
                        "text/plain": [
                            "Valid:   0%|          | 0/172 [00:00<?, ?batch/s]"
                        ]
                    },
                    "metadata": {},
                    "output_type": "display_data"
                },
                {
                    "name": "stdout",
                    "output_type": "stream",
                    "text": [
                        "Epoch: [1][0/172]Elapsed 0.10s | Loss: 0.3076\n",
                        "Epoch: [1][50/172]Elapsed 4.89s | Loss: 0.4441\n",
                        "Epoch: [1][100/172]Elapsed 9.66s | Loss: 0.4431\n",
                        "Epoch: [1][150/172]Elapsed 14.47s | Loss: 0.3890\n"
                    ]
                },
                {
                    "name": "stderr",
                    "output_type": "stream",
                    "text": [
                        "----------------------------------------------------------------------------------------------------\n",
                        "Epoch 1 - Average Train Loss: 0.3222 | Average Valid Loss: 0.3660 | Time: 64.98s\n",
                        "Best model found in epoch 1 | valid loss: 0.3660\n"
                    ]
                },
                {
                    "data": {
                        "application/vnd.jupyter.widget-view+json": {
                            "model_id": "a4f0d62ee5a542d78bab9e05b170934c",
                            "version_major": 2,
                            "version_minor": 0
                        },
                        "text/plain": [
                            "Train:   0%|          | 0/327 [00:00<?, ?batch/s]"
                        ]
                    },
                    "metadata": {},
                    "output_type": "display_data"
                },
                {
                    "name": "stdout",
                    "output_type": "stream",
                    "text": [
                        "Epoch: [2][0/327]Elapsed 0.10s | Loss: 0.2944 Grad: 137844.0781 LR: 9.3697e-05\n",
                        "Epoch: [2][50/327]Elapsed 7.46s | Loss: 0.2242 Grad: 44584.0117 LR: 9.9678e-05\n",
                        "Epoch: [2][100/327]Elapsed 14.87s | Loss: 0.2216 Grad: 62580.0977 LR: 9.9975e-05\n",
                        "Epoch: [2][150/327]Elapsed 22.28s | Loss: 0.2171 Grad: 42802.9883 LR: 9.9855e-05\n",
                        "Epoch: [2][200/327]Elapsed 29.66s | Loss: 0.2134 Grad: 36199.3008 LR: 9.9637e-05\n",
                        "Epoch: [2][250/327]Elapsed 37.04s | Loss: 0.2106 Grad: 62430.9961 LR: 9.9320e-05\n",
                        "Epoch: [2][300/327]Elapsed 44.40s | Loss: 0.2085 Grad: 44606.4336 LR: 9.8906e-05\n",
                        "Epoch: [2][326/327]Elapsed 48.24s | Loss: 0.2077 Grad: 52838.8750 LR: 9.8653e-05\n"
                    ]
                },
                {
                    "data": {
                        "application/vnd.jupyter.widget-view+json": {
                            "model_id": "2dad8b82329f47d5aa29208dc5054c0a",
                            "version_major": 2,
                            "version_minor": 0
                        },
                        "text/plain": [
                            "Valid:   0%|          | 0/172 [00:00<?, ?batch/s]"
                        ]
                    },
                    "metadata": {},
                    "output_type": "display_data"
                },
                {
                    "name": "stdout",
                    "output_type": "stream",
                    "text": [
                        "Epoch: [2][0/172]Elapsed 0.10s | Loss: 0.3176\n",
                        "Epoch: [2][50/172]Elapsed 4.88s | Loss: 0.4563\n",
                        "Epoch: [2][100/172]Elapsed 9.67s | Loss: 0.4522\n",
                        "Epoch: [2][150/172]Elapsed 14.46s | Loss: 0.3890\n"
                    ]
                },
                {
                    "name": "stderr",
                    "output_type": "stream",
                    "text": [
                        "----------------------------------------------------------------------------------------------------\n",
                        "Epoch 2 - Average Train Loss: 0.2077 | Average Valid Loss: 0.3632 | Time: 64.96s\n",
                        "Best model found in epoch 2 | valid loss: 0.3632\n"
                    ]
                },
                {
                    "data": {
                        "application/vnd.jupyter.widget-view+json": {
                            "model_id": "9a2031c4888942ef89470b668be1c23d",
                            "version_major": 2,
                            "version_minor": 0
                        },
                        "text/plain": [
                            "Train:   0%|          | 0/327 [00:00<?, ?batch/s]"
                        ]
                    },
                    "metadata": {},
                    "output_type": "display_data"
                },
                {
                    "name": "stdout",
                    "output_type": "stream",
                    "text": [
                        "Epoch: [3][0/327]Elapsed 0.11s | Loss: 0.2443 Grad: 99370.5469 LR: 9.8653e-05\n",
                        "Epoch: [3][50/327]Elapsed 7.43s | Loss: 0.1913 Grad: 113250.2812 LR: 9.8092e-05\n",
                        "Epoch: [3][100/327]Elapsed 14.85s | Loss: 0.1904 Grad: 74074.9062 LR: 9.7437e-05\n",
                        "Epoch: [3][150/327]Elapsed 22.25s | Loss: 0.1885 Grad: 36594.2070 LR: 9.6687e-05\n",
                        "Epoch: [3][200/327]Elapsed 29.66s | Loss: 0.1854 Grad: 47812.6914 LR: 9.5845e-05\n",
                        "Epoch: [3][250/327]Elapsed 37.07s | Loss: 0.1840 Grad: 44183.7383 LR: 9.4913e-05\n",
                        "Epoch: [3][300/327]Elapsed 44.45s | Loss: 0.1834 Grad: 40474.4375 LR: 9.3892e-05\n",
                        "Epoch: [3][326/327]Elapsed 48.31s | Loss: 0.1827 Grad: 51567.3828 LR: 9.3326e-05\n"
                    ]
                },
                {
                    "data": {
                        "application/vnd.jupyter.widget-view+json": {
                            "model_id": "3fd81c576a3b48dea595c418dd3aa97f",
                            "version_major": 2,
                            "version_minor": 0
                        },
                        "text/plain": [
                            "Valid:   0%|          | 0/172 [00:00<?, ?batch/s]"
                        ]
                    },
                    "metadata": {},
                    "output_type": "display_data"
                },
                {
                    "name": "stdout",
                    "output_type": "stream",
                    "text": [
                        "Epoch: [3][0/172]Elapsed 0.10s | Loss: 0.3288\n",
                        "Epoch: [3][50/172]Elapsed 4.87s | Loss: 0.4612\n",
                        "Epoch: [3][100/172]Elapsed 9.64s | Loss: 0.4592\n",
                        "Epoch: [3][150/172]Elapsed 14.43s | Loss: 0.3932\n"
                    ]
                },
                {
                    "name": "stderr",
                    "output_type": "stream",
                    "text": [
                        "----------------------------------------------------------------------------------------------------\n",
                        "Epoch 3 - Average Train Loss: 0.1827 | Average Valid Loss: 0.3665 | Time: 64.99s\n"
                    ]
                },
                {
                    "data": {
                        "application/vnd.jupyter.widget-view+json": {
                            "model_id": "6734f64f3df148a78d8ef1a19bab7847",
                            "version_major": 2,
                            "version_minor": 0
                        },
                        "text/plain": [
                            "Train:   0%|          | 0/327 [00:00<?, ?batch/s]"
                        ]
                    },
                    "metadata": {},
                    "output_type": "display_data"
                },
                {
                    "name": "stdout",
                    "output_type": "stream",
                    "text": [
                        "Epoch: [4][0/327]Elapsed 0.10s | Loss: 0.2465 Grad: 142798.0000 LR: 9.3326e-05\n",
                        "Epoch: [4][50/327]Elapsed 7.46s | Loss: 0.1742 Grad: 128308.0547 LR: 9.2174e-05\n",
                        "Epoch: [4][100/327]Elapsed 14.88s | Loss: 0.1728 Grad: 68101.8906 LR: 9.0938e-05\n",
                        "Epoch: [4][150/327]Elapsed 22.29s | Loss: 0.1695 Grad: 60274.7461 LR: 8.9622e-05\n",
                        "Epoch: [4][200/327]Elapsed 29.70s | Loss: 0.1676 Grad: 55564.3438 LR: 8.8227e-05\n",
                        "Epoch: [4][250/327]Elapsed 37.10s | Loss: 0.1666 Grad: 85133.4297 LR: 8.6756e-05\n",
                        "Epoch: [4][300/327]Elapsed 44.49s | Loss: 0.1662 Grad: 79222.9844 LR: 8.5213e-05\n",
                        "Epoch: [4][326/327]Elapsed 48.35s | Loss: 0.1656 Grad: 102929.9609 LR: 8.4383e-05\n"
                    ]
                },
                {
                    "data": {
                        "application/vnd.jupyter.widget-view+json": {
                            "model_id": "4c6c9dcb496947e882ef9eac0b9d63f5",
                            "version_major": 2,
                            "version_minor": 0
                        },
                        "text/plain": [
                            "Valid:   0%|          | 0/172 [00:00<?, ?batch/s]"
                        ]
                    },
                    "metadata": {},
                    "output_type": "display_data"
                },
                {
                    "name": "stdout",
                    "output_type": "stream",
                    "text": [
                        "Epoch: [4][0/172]Elapsed 0.10s | Loss: 0.3394\n",
                        "Epoch: [4][50/172]Elapsed 4.88s | Loss: 0.4619\n",
                        "Epoch: [4][100/172]Elapsed 9.65s | Loss: 0.4618\n",
                        "Epoch: [4][150/172]Elapsed 14.44s | Loss: 0.3945\n"
                    ]
                },
                {
                    "name": "stderr",
                    "output_type": "stream",
                    "text": [
                        "----------------------------------------------------------------------------------------------------\n",
                        "Epoch 4 - Average Train Loss: 0.1656 | Average Valid Loss: 0.3682 | Time: 65.05s\n"
                    ]
                },
                {
                    "data": {
                        "application/vnd.jupyter.widget-view+json": {
                            "model_id": "9b95df72e134460eb60a4fd6da2d27b6",
                            "version_major": 2,
                            "version_minor": 0
                        },
                        "text/plain": [
                            "Train:   0%|          | 0/327 [00:00<?, ?batch/s]"
                        ]
                    },
                    "metadata": {},
                    "output_type": "display_data"
                },
                {
                    "name": "stdout",
                    "output_type": "stream",
                    "text": [
                        "Epoch: [5][0/327]Elapsed 0.10s | Loss: 0.1924 Grad: 159896.6094 LR: 8.4383e-05\n",
                        "Epoch: [5][50/327]Elapsed 7.46s | Loss: 0.1546 Grad: 75223.1562 LR: 8.2735e-05\n",
                        "Epoch: [5][100/327]Elapsed 14.88s | Loss: 0.1551 Grad: 51268.0430 LR: 8.1023e-05\n",
                        "Epoch: [5][150/327]Elapsed 22.30s | Loss: 0.1552 Grad: 31919.2598 LR: 7.9249e-05\n",
                        "Epoch: [5][200/327]Elapsed 29.69s | Loss: 0.1535 Grad: 49954.4844 LR: 7.7418e-05\n",
                        "Epoch: [5][250/327]Elapsed 37.08s | Loss: 0.1521 Grad: 48700.6328 LR: 7.5532e-05\n",
                        "Epoch: [5][300/327]Elapsed 44.46s | Loss: 0.1521 Grad: 52968.4766 LR: 7.3596e-05\n",
                        "Epoch: [5][326/327]Elapsed 48.31s | Loss: 0.1517 Grad: 40042.7734 LR: 7.2570e-05\n"
                    ]
                },
                {
                    "data": {
                        "application/vnd.jupyter.widget-view+json": {
                            "model_id": "0feea2f2a9734b5bafe491d5c1b6cf6c",
                            "version_major": 2,
                            "version_minor": 0
                        },
                        "text/plain": [
                            "Valid:   0%|          | 0/172 [00:00<?, ?batch/s]"
                        ]
                    },
                    "metadata": {},
                    "output_type": "display_data"
                },
                {
                    "name": "stdout",
                    "output_type": "stream",
                    "text": [
                        "Epoch: [5][0/172]Elapsed 0.10s | Loss: 0.3404\n",
                        "Epoch: [5][50/172]Elapsed 4.87s | Loss: 0.4505\n",
                        "Epoch: [5][100/172]Elapsed 9.64s | Loss: 0.4503\n",
                        "Epoch: [5][150/172]Elapsed 14.43s | Loss: 0.3864\n"
                    ]
                },
                {
                    "name": "stderr",
                    "output_type": "stream",
                    "text": [
                        "----------------------------------------------------------------------------------------------------\n",
                        "Epoch 5 - Average Train Loss: 0.1517 | Average Valid Loss: 0.3610 | Time: 64.99s\n",
                        "Best model found in epoch 5 | valid loss: 0.3610\n"
                    ]
                },
                {
                    "data": {
                        "application/vnd.jupyter.widget-view+json": {
                            "model_id": "156d3ff3b58f47b78fd61522ecd5b110",
                            "version_major": 2,
                            "version_minor": 0
                        },
                        "text/plain": [
                            "Train:   0%|          | 0/327 [00:00<?, ?batch/s]"
                        ]
                    },
                    "metadata": {},
                    "output_type": "display_data"
                },
                {
                    "name": "stdout",
                    "output_type": "stream",
                    "text": [
                        "Epoch: [6][0/327]Elapsed 0.10s | Loss: 0.1869 Grad: 109072.1172 LR: 7.2570e-05\n",
                        "Epoch: [6][50/327]Elapsed 7.44s | Loss: 0.1459 Grad: 123091.3906 LR: 7.0565e-05\n",
                        "Epoch: [6][100/327]Elapsed 14.85s | Loss: 0.1461 Grad: 65367.1523 LR: 6.8518e-05\n",
                        "Epoch: [6][150/327]Elapsed 22.24s | Loss: 0.1431 Grad: 86602.8672 LR: 6.6436e-05\n",
                        "Epoch: [6][200/327]Elapsed 29.64s | Loss: 0.1413 Grad: 62389.5820 LR: 6.4320e-05\n",
                        "Epoch: [6][250/327]Elapsed 37.03s | Loss: 0.1405 Grad: 77254.1328 LR: 6.2177e-05\n",
                        "Epoch: [6][300/327]Elapsed 44.40s | Loss: 0.1404 Grad: 73069.2578 LR: 6.0009e-05\n",
                        "Epoch: [6][326/327]Elapsed 48.26s | Loss: 0.1402 Grad: 53084.2227 LR: 5.8874e-05\n"
                    ]
                },
                {
                    "data": {
                        "application/vnd.jupyter.widget-view+json": {
                            "model_id": "4b47aa24df3b443aa04d73e506b068df",
                            "version_major": 2,
                            "version_minor": 0
                        },
                        "text/plain": [
                            "Valid:   0%|          | 0/172 [00:00<?, ?batch/s]"
                        ]
                    },
                    "metadata": {},
                    "output_type": "display_data"
                },
                {
                    "name": "stdout",
                    "output_type": "stream",
                    "text": [
                        "Epoch: [6][0/172]Elapsed 0.11s | Loss: 0.3525\n",
                        "Epoch: [6][50/172]Elapsed 4.89s | Loss: 0.4534\n",
                        "Epoch: [6][100/172]Elapsed 9.67s | Loss: 0.4514\n",
                        "Epoch: [6][150/172]Elapsed 14.46s | Loss: 0.3866\n"
                    ]
                },
                {
                    "name": "stderr",
                    "output_type": "stream",
                    "text": [
                        "----------------------------------------------------------------------------------------------------\n",
                        "Epoch 6 - Average Train Loss: 0.1402 | Average Valid Loss: 0.3607 | Time: 64.97s\n",
                        "Best model found in epoch 6 | valid loss: 0.3607\n",
                        "====================================================================================================\n",
                        "Fold 4 Valid Loss: (Easy) 1.3599 | (Hard) 0.7802\n",
                        "Elapse: 6.51 min \n",
                        "====================================================================================================\n",
                        "====================================================================================================\n",
                        "Training Complete!\n",
                        "CV Result (Stage=1): 1.0932680659068026\n",
                        "CV Result (Stage=2): 1.1551236888571517\n",
                        "Elapse: 99.02 min \n",
                        "====================================================================================================\n"
                    ]
                }
            ],
            "source": [
                "hms_predictor.train_folds(train_easy, train_hard, all_specs, all_eegs)"
            ]
        },
        {
            "cell_type": "code",
            "execution_count": null,
            "metadata": {},
            "outputs": [],
            "source": [
                "dataset = CustomDataset(train_easy, TARGETS, ModelConfig, all_specs, all_eegs, mode='test')\n",
                "\n",
                "X, y = dataset[0]\n",
                "print(X.shape, y.shape)\n",
                "\n",
                "model = CustomModel(ModelConfig, num_classes=6, pretrained=True)\n",
                "y_pred = model(X.unsqueeze(0))\n",
                "\n",
                "print(y_pred.shape)"
            ]
        },
        {
            "cell_type": "code",
            "execution_count": 5,
            "metadata": {},
            "outputs": [],
            "source": [
                "pd.set_option('display.max_columns', None)\n",
                "KL_CRITERION = nn.KLDivLoss(reduction='batchmean')\n",
                "SOFTMAX = nn.Softmax(dim=1)"
            ]
        },
        {
            "cell_type": "code",
            "execution_count": 8,
            "metadata": {},
            "outputs": [],
            "source": [
                "TARGET2ID = {\n",
                "    'Seizure': 0,\n",
                "    'LPD': 1,\n",
                "    'GPD': 2,\n",
                "    'LRDA': 3,\n",
                "    'GRDA': 4,\n",
                "    'Other': 5\n",
                "}\n",
                "\n",
                "from kl_divergence import score as kaggle_score \n",
                "\n",
                "def calc_kaggle_score(solution, submission):\n",
                "    solution = solution.to_frame().T\n",
                "    solution[TARGETS] = solution[TARGETS].astype(np.float32)\n",
                "    submission = submission.to_frame().T\n",
                "    submission.columns = ['eeg_id'] + TARGETS\n",
                "    submission[TARGETS] = submission[TARGETS].astype(np.float32)\n",
                "    \n",
                "    return kaggle_score(solution, submission, 'eeg_id')\n",
                "\n",
                "\n",
                "def calc_kl_div(p, q):\n",
                "    p = torch.tensor(p.astype(np.float32)).unsqueeze(0)\n",
                "    q = torch.tensor(q.astype(np.float32)).unsqueeze(0)\n",
                "    kl_score = KL_CRITERION(F.log_softmax(p, dim=1), q)\n",
                "    return kl_score.item()\n",
                "\n",
                "# def analyze_oof(oof_csv_path):\n",
                "    \n",
                "#     oof_df = pd.read_csv(oof_csv_path)\n",
                "#     oof_df\n",
                "    \n",
                "    # y_pred = oof_df[TARGETS].values.astype(np.float32)\n",
                "    # y_pred_smax = SOFTMAX(torch.tensor(y_pred)).numpy()\n",
                "    # oof_df[TARGETS_PRED] = y_pred_smax #- y_pred_smax.min(axis=1)[:, np.newaxis]\n",
                "    # oof_df[TARGETS_PRED] = oof_df[TARGETS_PRED].div(oof_df[TARGETS_PRED].sum(axis=1), axis=0)\n",
                "    \n",
                "    # y_pred = oof_df[TARGETS].values.astype(np.float32)\n",
                "    # y_pred_min = y_pred.min(axis=1)[:, np.newaxis]\n",
                "    # y_pred_max = y_pred.max(axis=1)[:, np.newaxis]\n",
                "    # y_pred_norm = (y_pred - y_pred_min) / (y_pred_max - y_pred_min)  \n",
                "    \n",
                "    # oof_df[TARGETS_PRED] = y_pred_norm\n",
                "    # oof_df[TARGETS_PRED] = oof_df[TARGETS_PRED].div(oof_df[TARGETS_PRED].sum(axis=1), axis=0)\n",
                "    \n",
                "    # cv = evaluate_oof(oof_df)\n",
                "\n",
                "    # oof_df[\"kl_loss\"] = oof_df.apply(lambda row: calc_kl_div(row[TARGETS_PRED].values, row[TARGETS].values), axis=1)\n",
                "\n",
                "    # print(f\"KL Loss Mean: {oof_df['kl_loss'].mean()}\")\n",
                "\n",
                "    # oof_df['target_pred'] = oof_df[TARGETS_PRED].apply(lambda x: np.argmax(x), axis=1)\n",
                "    # oof_df['target_id'] = oof_df['target'].map(TARGET2ID)\n",
                "    # cv=0\n",
                "    # return oof_df, cv\n"
            ]
        },
        {
            "cell_type": "code",
            "execution_count": 21,
            "metadata": {},
            "outputs": [
                {
                    "data": {
                        "text/html": [
                            "<div>\n",
                            "<style scoped>\n",
                            "    .dataframe tbody tr th:only-of-type {\n",
                            "        vertical-align: middle;\n",
                            "    }\n",
                            "\n",
                            "    .dataframe tbody tr th {\n",
                            "        vertical-align: top;\n",
                            "    }\n",
                            "\n",
                            "    .dataframe thead th {\n",
                            "        text-align: right;\n",
                            "    }\n",
                            "</style>\n",
                            "<table border=\"1\" class=\"dataframe\">\n",
                            "  <thead>\n",
                            "    <tr style=\"text-align: right;\">\n",
                            "      <th></th>\n",
                            "      <th>eeg_id</th>\n",
                            "      <th>seizure_vote</th>\n",
                            "      <th>lpd_vote</th>\n",
                            "      <th>gpd_vote</th>\n",
                            "      <th>lrda_vote</th>\n",
                            "      <th>grda_vote</th>\n",
                            "      <th>other_vote</th>\n",
                            "      <th>spectrogram_id</th>\n",
                            "      <th>min</th>\n",
                            "      <th>max</th>\n",
                            "      <th>patient_id</th>\n",
                            "      <th>target</th>\n",
                            "      <th>fold</th>\n",
                            "      <th>easy_or_hard</th>\n",
                            "      <th>seizure_pred</th>\n",
                            "      <th>lpd_pred</th>\n",
                            "      <th>gpd_pred</th>\n",
                            "      <th>lrda_pred</th>\n",
                            "      <th>grda_pred</th>\n",
                            "      <th>other_pred</th>\n",
                            "      <th>target_pred</th>\n",
                            "      <th>target_id</th>\n",
                            "      <th>kl_loss</th>\n",
                            "    </tr>\n",
                            "  </thead>\n",
                            "  <tbody>\n",
                            "    <tr>\n",
                            "      <th>0</th>\n",
                            "      <td>642382</td>\n",
                            "      <td>0.0</td>\n",
                            "      <td>0.0</td>\n",
                            "      <td>0.0</td>\n",
                            "      <td>0.0</td>\n",
                            "      <td>0.0</td>\n",
                            "      <td>1.0</td>\n",
                            "      <td>14960202</td>\n",
                            "      <td>1008.0</td>\n",
                            "      <td>1032.0</td>\n",
                            "      <td>5955</td>\n",
                            "      <td>Other</td>\n",
                            "      <td>0</td>\n",
                            "      <td>easy</td>\n",
                            "      <td>0.002103</td>\n",
                            "      <td>0.008571</td>\n",
                            "      <td>0.005173</td>\n",
                            "      <td>0.075630</td>\n",
                            "      <td>0.217002</td>\n",
                            "      <td>0.691521</td>\n",
                            "      <td>5</td>\n",
                            "      <td>5</td>\n",
                            "      <td>0.061477035</td>\n",
                            "    </tr>\n",
                            "    <tr>\n",
                            "      <th>1</th>\n",
                            "      <td>751790</td>\n",
                            "      <td>0.0</td>\n",
                            "      <td>0.0</td>\n",
                            "      <td>1.0</td>\n",
                            "      <td>0.0</td>\n",
                            "      <td>0.0</td>\n",
                            "      <td>0.0</td>\n",
                            "      <td>618728447</td>\n",
                            "      <td>908.0</td>\n",
                            "      <td>908.0</td>\n",
                            "      <td>38549</td>\n",
                            "      <td>GPD</td>\n",
                            "      <td>0</td>\n",
                            "      <td>easy</td>\n",
                            "      <td>0.051318</td>\n",
                            "      <td>0.155683</td>\n",
                            "      <td>0.708977</td>\n",
                            "      <td>0.006309</td>\n",
                            "      <td>0.023461</td>\n",
                            "      <td>0.054252</td>\n",
                            "      <td>2</td>\n",
                            "      <td>2</td>\n",
                            "      <td>0.05732215</td>\n",
                            "    </tr>\n",
                            "    <tr>\n",
                            "      <th>2</th>\n",
                            "      <td>778705</td>\n",
                            "      <td>0.0</td>\n",
                            "      <td>0.0</td>\n",
                            "      <td>0.0</td>\n",
                            "      <td>0.0</td>\n",
                            "      <td>0.0</td>\n",
                            "      <td>1.0</td>\n",
                            "      <td>52296320</td>\n",
                            "      <td>0.0</td>\n",
                            "      <td>0.0</td>\n",
                            "      <td>40955</td>\n",
                            "      <td>Other</td>\n",
                            "      <td>0</td>\n",
                            "      <td>easy</td>\n",
                            "      <td>0.009024</td>\n",
                            "      <td>0.022724</td>\n",
                            "      <td>0.069691</td>\n",
                            "      <td>0.043819</td>\n",
                            "      <td>0.337039</td>\n",
                            "      <td>0.517704</td>\n",
                            "      <td>5</td>\n",
                            "      <td>5</td>\n",
                            "      <td>0.10972535</td>\n",
                            "    </tr>\n",
                            "    <tr>\n",
                            "      <th>3</th>\n",
                            "      <td>1629671</td>\n",
                            "      <td>1.0</td>\n",
                            "      <td>0.0</td>\n",
                            "      <td>0.0</td>\n",
                            "      <td>0.0</td>\n",
                            "      <td>0.0</td>\n",
                            "      <td>0.0</td>\n",
                            "      <td>2036345030</td>\n",
                            "      <td>0.0</td>\n",
                            "      <td>160.0</td>\n",
                            "      <td>37481</td>\n",
                            "      <td>Seizure</td>\n",
                            "      <td>0</td>\n",
                            "      <td>easy</td>\n",
                            "      <td>0.713691</td>\n",
                            "      <td>0.038252</td>\n",
                            "      <td>0.020301</td>\n",
                            "      <td>0.080113</td>\n",
                            "      <td>0.024297</td>\n",
                            "      <td>0.123346</td>\n",
                            "      <td>0</td>\n",
                            "      <td>0</td>\n",
                            "      <td>0.05621757</td>\n",
                            "    </tr>\n",
                            "    <tr>\n",
                            "      <th>4</th>\n",
                            "      <td>2061593</td>\n",
                            "      <td>0.0</td>\n",
                            "      <td>0.0</td>\n",
                            "      <td>0.0</td>\n",
                            "      <td>0.0</td>\n",
                            "      <td>0.0</td>\n",
                            "      <td>1.0</td>\n",
                            "      <td>320962633</td>\n",
                            "      <td>1450.0</td>\n",
                            "      <td>1450.0</td>\n",
                            "      <td>23828</td>\n",
                            "      <td>Other</td>\n",
                            "      <td>0</td>\n",
                            "      <td>easy</td>\n",
                            "      <td>0.000569</td>\n",
                            "      <td>0.001458</td>\n",
                            "      <td>0.000661</td>\n",
                            "      <td>0.045209</td>\n",
                            "      <td>0.098018</td>\n",
                            "      <td>0.854085</td>\n",
                            "      <td>5</td>\n",
                            "      <td>5</td>\n",
                            "      <td>0.026287457</td>\n",
                            "    </tr>\n",
                            "  </tbody>\n",
                            "</table>\n",
                            "</div>"
                        ],
                        "text/plain": [
                            "    eeg_id  seizure_vote  lpd_vote  gpd_vote  lrda_vote  grda_vote  \\\n",
                            "0   642382           0.0       0.0       0.0        0.0        0.0   \n",
                            "1   751790           0.0       0.0       1.0        0.0        0.0   \n",
                            "2   778705           0.0       0.0       0.0        0.0        0.0   \n",
                            "3  1629671           1.0       0.0       0.0        0.0        0.0   \n",
                            "4  2061593           0.0       0.0       0.0        0.0        0.0   \n",
                            "\n",
                            "   other_vote  spectrogram_id     min     max  patient_id   target  fold  \\\n",
                            "0         1.0        14960202  1008.0  1032.0        5955    Other     0   \n",
                            "1         0.0       618728447   908.0   908.0       38549      GPD     0   \n",
                            "2         1.0        52296320     0.0     0.0       40955    Other     0   \n",
                            "3         0.0      2036345030     0.0   160.0       37481  Seizure     0   \n",
                            "4         1.0       320962633  1450.0  1450.0       23828    Other     0   \n",
                            "\n",
                            "  easy_or_hard  seizure_pred  lpd_pred  gpd_pred  lrda_pred  grda_pred  \\\n",
                            "0         easy      0.002103  0.008571  0.005173   0.075630   0.217002   \n",
                            "1         easy      0.051318  0.155683  0.708977   0.006309   0.023461   \n",
                            "2         easy      0.009024  0.022724  0.069691   0.043819   0.337039   \n",
                            "3         easy      0.713691  0.038252  0.020301   0.080113   0.024297   \n",
                            "4         easy      0.000569  0.001458  0.000661   0.045209   0.098018   \n",
                            "\n",
                            "   other_pred  target_pred  target_id      kl_loss  \n",
                            "0    0.691521            5          5  0.061477035  \n",
                            "1    0.054252            2          2   0.05732215  \n",
                            "2    0.517704            5          5   0.10972535  \n",
                            "3    0.123346            0          0   0.05621757  \n",
                            "4    0.854085            5          5  0.026287457  "
                        ]
                    },
                    "execution_count": 21,
                    "metadata": {},
                    "output_type": "execute_result"
                }
            ],
            "source": [
                "oof_df = pd.read_csv('./outputs/ENet_b2_softmax_oof_2.csv')\n",
                "oof_df['target_pred'] = oof_df[TARGETS_PRED].apply(lambda x: np.argmax(x), axis=1)\n",
                "oof_df['target_id'] = oof_df['target'].map(TARGET2ID)\n",
                "oof_df[\"kl_loss\"] = oof_df.apply(\n",
                "    lambda row: \n",
                "        KL_CRITERION(torch.log(torch.tensor(row[TARGETS_PRED].astype(np.float32))), torch.tensor(row[TARGETS].astype(np.float32))).numpy(),\n",
                "    axis=1)\n",
                "oof_df.head()"
            ]
        },
        {
            "cell_type": "code",
            "execution_count": 22,
            "metadata": {},
            "outputs": [
                {
                    "data": {
                        "image/png": "[encoded data removed]",
                        "text/plain": [
                            "<Figure size 600x600 with 2 Axes>"
                        ]
                    },
                    "metadata": {},
                    "output_type": "display_data"
                }
            ],
            "source": [
                "plot_oof = oof_df.copy()\n",
                "\n",
                "# plot confusion matrix\n",
                "from sklearn.metrics import confusion_matrix\n",
                "import seaborn as sns\n",
                "\n",
                "cm = confusion_matrix(plot_oof['target_id'], plot_oof['target_pred']) # (y_true, y_pred)\n",
                "cm = cm / cm.sum(axis=1)[:, np.newaxis]\n",
                "\n",
                "fig = plt.figure(figsize=(6, 6))\n",
                "sns.heatmap(cm, annot=True, cmap='Blues', xticklabels=TARGET2ID.keys(), yticklabels=TARGET2ID.keys())\n",
                "plt.xlabel('Predicted', fontsize=12)\n",
                "plt.ylabel('True', fontsize=12)\n",
                "plt.show()"
            ]
        },
        {
            "cell_type": "code",
            "execution_count": 23,
            "metadata": {},
            "outputs": [
                {
                    "data": {
                        "image/png": "[encoded data removed]",
                        "text/plain": [
                            "<Figure size 1800x1600 with 30 Axes>"
                        ]
                    },
                    "metadata": {},
                    "output_type": "display_data"
                }
            ],
            "source": [
                "# new figure\n",
                "fig, axes = plt.subplots(6, 5, figsize=(18, 16), sharex=True, sharey=True)\n",
                "\n",
                "for row in range(axes.shape[0]):\n",
                "    row_selects = plot_oof[plot_oof['target_id']==row]\n",
                "    target_label = BRAIN_ACTIVITY[row]\n",
                "    for col in range(axes.shape[1]):\n",
                "        ax = axes[row, col]\n",
                "        idx = np.random.choice(row_selects.index)\n",
                "        df_rows = plot_oof.loc[idx]\n",
                "        ax.plot(df_rows[TARGETS].values , label='True')\n",
                "        ax.plot(df_rows[TARGETS_PRED].values, label='Pred')\n",
                "        ax.set_title(f\"{idx} | KL: {df_rows['kl_loss']:.4f} \") #\n",
                "        ax.set_xticks(range(6))\n",
                "        ax.set_xticklabels(BRAIN_ACTIVITY)\n",
                "        ax.grid(True)\n",
                "        ax.legend()\n",
                "        if col == 0:\n",
                "            ax.set_ylabel(target_label, fontsize=12)\n",
                "       \n",
                "fig.tight_layout()\n",
                "plt.show()"
            ]
        },
        {
            "cell_type": "code",
            "execution_count": 24,
            "metadata": {},
            "outputs": [
                {
                    "data": {
                        "text/html": [
                            "<div>\n",
                            "<style scoped>\n",
                            "    .dataframe tbody tr th:only-of-type {\n",
                            "        vertical-align: middle;\n",
                            "    }\n",
                            "\n",
                            "    .dataframe tbody tr th {\n",
                            "        vertical-align: top;\n",
                            "    }\n",
                            "\n",
                            "    .dataframe thead th {\n",
                            "        text-align: right;\n",
                            "    }\n",
                            "</style>\n",
                            "<table border=\"1\" class=\"dataframe\">\n",
                            "  <thead>\n",
                            "    <tr style=\"text-align: right;\">\n",
                            "      <th></th>\n",
                            "      <th>eeg_id</th>\n",
                            "      <th>spectrogram_id</th>\n",
                            "      <th>min</th>\n",
                            "      <th>max</th>\n",
                            "      <th>patient_id</th>\n",
                            "      <th>target</th>\n",
                            "      <th>total_votes</th>\n",
                            "      <th>entropy</th>\n",
                            "      <th>seizure_vote</th>\n",
                            "      <th>lpd_vote</th>\n",
                            "      <th>gpd_vote</th>\n",
                            "      <th>lrda_vote</th>\n",
                            "      <th>grda_vote</th>\n",
                            "      <th>other_vote</th>\n",
                            "      <th>fold</th>\n",
                            "      <th>easy_or_hard</th>\n",
                            "      <th>seizure_pred</th>\n",
                            "      <th>lpd_pred</th>\n",
                            "      <th>gpd_pred</th>\n",
                            "      <th>lrda_pred</th>\n",
                            "      <th>grda_pred</th>\n",
                            "      <th>other_pred</th>\n",
                            "      <th>target_pred</th>\n",
                            "      <th>target_id</th>\n",
                            "    </tr>\n",
                            "  </thead>\n",
                            "  <tbody>\n",
                            "    <tr>\n",
                            "      <th>0</th>\n",
                            "      <td>778705</td>\n",
                            "      <td>52296320</td>\n",
                            "      <td>0.0</td>\n",
                            "      <td>0.0</td>\n",
                            "      <td>40955</td>\n",
                            "      <td>Other</td>\n",
                            "      <td>2</td>\n",
                            "      <td>7.686820</td>\n",
                            "      <td>0.0</td>\n",
                            "      <td>0.0</td>\n",
                            "      <td>0.0</td>\n",
                            "      <td>0.0</td>\n",
                            "      <td>0.0</td>\n",
                            "      <td>1.0</td>\n",
                            "      <td>0.0</td>\n",
                            "      <td>easy</td>\n",
                            "      <td>0.129563</td>\n",
                            "      <td>0.129563</td>\n",
                            "      <td>0.129563</td>\n",
                            "      <td>0.129563</td>\n",
                            "      <td>0.129563</td>\n",
                            "      <td>0.352187</td>\n",
                            "      <td>5</td>\n",
                            "      <td>5</td>\n",
                            "    </tr>\n",
                            "    <tr>\n",
                            "      <th>1</th>\n",
                            "      <td>4559645</td>\n",
                            "      <td>1902315832</td>\n",
                            "      <td>2436.0</td>\n",
                            "      <td>2436.0</td>\n",
                            "      <td>22195</td>\n",
                            "      <td>GRDA</td>\n",
                            "      <td>1</td>\n",
                            "      <td>7.802343</td>\n",
                            "      <td>0.0</td>\n",
                            "      <td>0.0</td>\n",
                            "      <td>0.0</td>\n",
                            "      <td>0.0</td>\n",
                            "      <td>1.0</td>\n",
                            "      <td>0.0</td>\n",
                            "      <td>0.0</td>\n",
                            "      <td>easy</td>\n",
                            "      <td>0.129563</td>\n",
                            "      <td>0.129563</td>\n",
                            "      <td>0.129563</td>\n",
                            "      <td>0.129563</td>\n",
                            "      <td>0.352187</td>\n",
                            "      <td>0.129563</td>\n",
                            "      <td>4</td>\n",
                            "      <td>4</td>\n",
                            "    </tr>\n",
                            "    <tr>\n",
                            "      <th>2</th>\n",
                            "      <td>9980241</td>\n",
                            "      <td>437709580</td>\n",
                            "      <td>0.0</td>\n",
                            "      <td>72.0</td>\n",
                            "      <td>36557</td>\n",
                            "      <td>Seizure</td>\n",
                            "      <td>21</td>\n",
                            "      <td>7.619243</td>\n",
                            "      <td>1.0</td>\n",
                            "      <td>0.0</td>\n",
                            "      <td>0.0</td>\n",
                            "      <td>0.0</td>\n",
                            "      <td>0.0</td>\n",
                            "      <td>0.0</td>\n",
                            "      <td>0.0</td>\n",
                            "      <td>easy</td>\n",
                            "      <td>0.352187</td>\n",
                            "      <td>0.129563</td>\n",
                            "      <td>0.129563</td>\n",
                            "      <td>0.129563</td>\n",
                            "      <td>0.129563</td>\n",
                            "      <td>0.129563</td>\n",
                            "      <td>0</td>\n",
                            "      <td>0</td>\n",
                            "    </tr>\n",
                            "    <tr>\n",
                            "      <th>3</th>\n",
                            "      <td>10249311</td>\n",
                            "      <td>498849051</td>\n",
                            "      <td>0.0</td>\n",
                            "      <td>0.0</td>\n",
                            "      <td>47284</td>\n",
                            "      <td>Other</td>\n",
                            "      <td>1</td>\n",
                            "      <td>7.802343</td>\n",
                            "      <td>0.0</td>\n",
                            "      <td>0.0</td>\n",
                            "      <td>0.0</td>\n",
                            "      <td>0.0</td>\n",
                            "      <td>0.0</td>\n",
                            "      <td>1.0</td>\n",
                            "      <td>0.0</td>\n",
                            "      <td>easy</td>\n",
                            "      <td>0.129563</td>\n",
                            "      <td>0.129563</td>\n",
                            "      <td>0.129563</td>\n",
                            "      <td>0.129563</td>\n",
                            "      <td>0.129563</td>\n",
                            "      <td>0.352187</td>\n",
                            "      <td>5</td>\n",
                            "      <td>5</td>\n",
                            "    </tr>\n",
                            "    <tr>\n",
                            "      <th>4</th>\n",
                            "      <td>19529277</td>\n",
                            "      <td>122348896</td>\n",
                            "      <td>0.0</td>\n",
                            "      <td>82.0</td>\n",
                            "      <td>49187</td>\n",
                            "      <td>Seizure</td>\n",
                            "      <td>57</td>\n",
                            "      <td>7.619243</td>\n",
                            "      <td>1.0</td>\n",
                            "      <td>0.0</td>\n",
                            "      <td>0.0</td>\n",
                            "      <td>0.0</td>\n",
                            "      <td>0.0</td>\n",
                            "      <td>0.0</td>\n",
                            "      <td>0.0</td>\n",
                            "      <td>easy</td>\n",
                            "      <td>0.352187</td>\n",
                            "      <td>0.129563</td>\n",
                            "      <td>0.129563</td>\n",
                            "      <td>0.129563</td>\n",
                            "      <td>0.129563</td>\n",
                            "      <td>0.129563</td>\n",
                            "      <td>0</td>\n",
                            "      <td>0</td>\n",
                            "    </tr>\n",
                            "  </tbody>\n",
                            "</table>\n",
                            "</div>"
                        ],
                        "text/plain": [
                            "     eeg_id  spectrogram_id     min     max  patient_id   target  total_votes  \\\n",
                            "0    778705        52296320     0.0     0.0       40955    Other            2   \n",
                            "1   4559645      1902315832  2436.0  2436.0       22195     GRDA            1   \n",
                            "2   9980241       437709580     0.0    72.0       36557  Seizure           21   \n",
                            "3  10249311       498849051     0.0     0.0       47284    Other            1   \n",
                            "4  19529277       122348896     0.0    82.0       49187  Seizure           57   \n",
                            "\n",
                            "    entropy  seizure_vote  lpd_vote  gpd_vote  lrda_vote  grda_vote  \\\n",
                            "0  7.686820           0.0       0.0       0.0        0.0        0.0   \n",
                            "1  7.802343           0.0       0.0       0.0        0.0        1.0   \n",
                            "2  7.619243           1.0       0.0       0.0        0.0        0.0   \n",
                            "3  7.802343           0.0       0.0       0.0        0.0        0.0   \n",
                            "4  7.619243           1.0       0.0       0.0        0.0        0.0   \n",
                            "\n",
                            "   other_vote  fold easy_or_hard  seizure_pred  lpd_pred  gpd_pred  lrda_pred  \\\n",
                            "0         1.0   0.0         easy      0.129563  0.129563  0.129563   0.129563   \n",
                            "1         0.0   0.0         easy      0.129563  0.129563  0.129563   0.129563   \n",
                            "2         0.0   0.0         easy      0.352187  0.129563  0.129563   0.129563   \n",
                            "3         1.0   0.0         easy      0.129563  0.129563  0.129563   0.129563   \n",
                            "4         0.0   0.0         easy      0.352187  0.129563  0.129563   0.129563   \n",
                            "\n",
                            "   grda_pred  other_pred  target_pred  target_id  \n",
                            "0   0.129563    0.352187            5          5  \n",
                            "1   0.352187    0.129563            4          4  \n",
                            "2   0.129563    0.129563            0          0  \n",
                            "3   0.129563    0.352187            5          5  \n",
                            "4   0.129563    0.129563            0          0  "
                        ]
                    },
                    "execution_count": 24,
                    "metadata": {},
                    "output_type": "execute_result"
                }
            ],
            "source": [
                "oof_df = pd.read_csv(\"./outputs/ENet_b2_xymasking_regularized_005/ENet_b2_xymasking_regularized_oof_2.csv\")\n",
                "y_pred = oof_df[TARGETS].values.astype(np.float32)\n",
                "y_pred_smax = SOFTMAX(torch.tensor(y_pred)).numpy()\n",
                "oof_df[TARGETS_PRED] = y_pred_smax\n",
                "oof_df['target_pred'] = oof_df[TARGETS_PRED].apply(lambda x: np.argmax(x), axis=1)\n",
                "oof_df['target_id'] = oof_df['target'].map(TARGET2ID)\n",
                "oof_df.head()"
            ]
        },
        {
            "cell_type": "code",
            "execution_count": 25,
            "metadata": {},
            "outputs": [
                {
                    "data": {
                        "image/png": "[encoded data removed]",
                        "text/plain": [
                            "<Figure size 600x600 with 2 Axes>"
                        ]
                    },
                    "metadata": {},
                    "output_type": "display_data"
                }
            ],
            "source": [
                "plot_oof = oof_df.copy()\n",
                "\n",
                "# plot confusion matrix\n",
                "from sklearn.metrics import confusion_matrix\n",
                "import seaborn as sns\n",
                "\n",
                "cm = confusion_matrix(plot_oof['target_id'], plot_oof['target_pred']) # (y_true, y_pred)\n",
                "cm = cm / cm.sum(axis=1)[:, np.newaxis]\n",
                "\n",
                "fig = plt.figure(figsize=(6, 6))\n",
                "sns.heatmap(cm, annot=True, cmap='Blues', xticklabels=TARGET2ID.keys(), yticklabels=TARGET2ID.keys())\n",
                "plt.xlabel('Predicted', fontsize=12)\n",
                "plt.ylabel('True', fontsize=12)\n",
                "plt.show()"
            ]
        },
        {
            "cell_type": "code",
            "execution_count": null,
            "metadata": {},
            "outputs": [],
            "source": [
                "from scipy.special import softmax\n",
                "\n",
                "fig, axes = plt.subplots(1, 2, figsize=(10, 5))\n",
                "\n",
                "oof_df = pd.read_csv(\"./outputs/ENet_b2_xymasking_remove_less/ENet_b2_xymasking_remove_less_oof_2.csv\")\n",
                "display_rows = oof_df[TARGETS].nunique(axis=1)>2\n",
                "\n",
                "oof_df[TARGETS] = softmax( oof_df[TARGETS].astype(np.float32), axis=1)\n",
                "display(oof_df.head(10))\n",
                "\n",
                "display(oof_df[oof_df['eeg_id'] == 4279600028])\n",
                "\n",
                "# plot_idx = 20163 #np.random.choice(oof_df[display_rows].index, 1)                 \n",
                "# y_pred = oof_df[TARGETS].values.astype(np.float32)\n",
                "\n",
                "# print(plot_idx, oof_df.loc[plot_idx][TARGETS].values)\n",
                "\n",
                "# y_pred_smax = SOFTMAX(torch.tensor(y_pred)).numpy()\n",
                "# oof_df[TARGETS_PRED] = y_pred_smax\n",
                "# axes[0].plot(oof_df.loc[plot_idx][TARGETS].values, label='True')\n",
                "# axes[0].plot(oof_df.loc[plot_idx][TARGETS_PRED].values , label='Pred')\n",
                "# print(f\"Softmax pred: {oof_df.loc[plot_idx][TARGETS_PRED].values }\")\n",
                "\n",
                "# y_pred_new = (y_pred - y_pred.min(axis=1)[:, np.newaxis]) / (y_pred.max(axis=1)[:, np.newaxis] - y_pred.min(axis=1)[:, np.newaxis])\n",
                "# y_pred_norm = y_pred_new / y_pred_new.sum(axis=1)[:, np.newaxis]\n",
                "# oof_df[TARGETS_PRED] = y_pred_norm\n",
                "# axes[1].plot(oof_df.loc[plot_idx][TARGETS].values , label='True')\n",
                "# axes[1].plot(oof_df.loc[plot_idx][TARGETS_PRED].values , label='Pred')\n",
                "# print(f\"Normalized pred: {oof_df.loc[plot_idx][TARGETS_PRED].values }\")\n",
                "\n",
                "\n",
                "# for ax in axes:\n",
                "#     ax.legend()\n",
                "#     ax.grid(True)\n",
                "\n",
                "# plt.show()\n",
                "\n",
                "\n"
            ]
        },
        {
            "cell_type": "code",
            "execution_count": null,
            "metadata": {},
            "outputs": [],
            "source": [
                "oof_df[oof_df['eeg_id'] == 11127485]"
            ]
        },
        {
            "cell_type": "code",
            "execution_count": null,
            "metadata": {},
            "outputs": [],
            "source": [
                "oof_df[oof_df['eeg_id'].duplicated()] #oof_df.shape #.groupby('eeg_id')['patient_id'].agg(['nunique', 'count']).sort_values(by='count', ascending=False).head(10)"
            ]
        },
        {
            "cell_type": "code",
            "execution_count": null,
            "metadata": {},
            "outputs": [],
            "source": [
                "score_kaggle = oof_df2.loc[:10].apply(lambda row: calc_kaggle_score(row[['eeg_id']+TARGETS], row[['eeg_id']+TARGETS_PRED]), axis=1)\n",
                "score_kaggle"
            ]
        },
        {
            "cell_type": "code",
            "execution_count": null,
            "metadata": {},
            "outputs": [],
            "source": [
                "submission_df = oof_df2[['eeg_id']+TARGETS_PRED].copy()\n",
                "submission_df.columns = ['eeg_id'] + TARGETS\n",
                "\n",
                "solution_df = oof_df2[['eeg_id']+TARGETS].copy()\n",
                "\n",
                "score_value = kaggle_score(solution_df, submission_df, 'eeg_id')\n",
                "\n",
                "score_value"
            ]
        },
        {
            "cell_type": "code",
            "execution_count": null,
            "metadata": {},
            "outputs": [],
            "source": [
                "# oof_df1, cv_1 = analyze_oof(\"./outputs/ENet_b2_xymasking_remove_less/ENet_b2_xymasking_remove_less_oof_1.csv\")\n",
                "# print(cv_1)\n",
                "# oof_df1.head()"
            ]
        },
        {
            "cell_type": "code",
            "execution_count": null,
            "metadata": {},
            "outputs": [],
            "source": []
        },
        {
            "cell_type": "code",
            "execution_count": null,
            "metadata": {},
            "outputs": [],
            "source": []
        }
    ],
    "metadata": {
        "kernelspec": {
            "display_name": "kaggle",
            "language": "python",
            "name": "python3"
        },
        "language_info": {
            "codemirror_mode": {
                "name": "ipython",
                "version": 3
            },
            "file_extension": ".py",
            "mimetype": "text/x-python",
            "name": "python",
            "nbconvert_exporter": "python",
            "pygments_lexer": "ipython3",
            "version": "3.11.6"
        }
    },
    "nbformat": 4,
    "nbformat_minor": 2
}
