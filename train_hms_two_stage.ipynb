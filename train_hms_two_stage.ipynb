{
    "cells": [
        {
            "cell_type": "code",
            "execution_count": 1,
            "metadata": {},
            "outputs": [
                {
                    "name": "stderr",
                    "output_type": "stream",
                    "text": [
                        "/home/shiyi/miniconda3/envs/kaggle/lib/python3.11/site-packages/transformers/utils/generic.py:441: UserWarning: torch.utils._pytree._register_pytree_node is deprecated. Please use torch.utils._pytree.register_pytree_node instead.\n",
                        "  _torch_pytree._register_pytree_node(\n",
                        "/home/shiyi/miniconda3/envs/kaggle/lib/python3.11/site-packages/transformers/utils/generic.py:309: UserWarning: torch.utils._pytree._register_pytree_node is deprecated. Please use torch.utils._pytree.register_pytree_node instead.\n",
                        "  _torch_pytree._register_pytree_node(\n"
                    ]
                }
            ],
            "source": [
                "import pandas as pd \n",
                "import numpy as np \n",
                "import matplotlib.pyplot as plt\n",
                "\n",
                "from engine_hms_trainer import *\n",
                "from engine_hms_model import KagglePaths, LocalPaths, ModelConfig\n",
                "\n",
                "import torch\n",
                "from torch import nn\n",
                "import torch.nn.functional as F\n",
                "\n",
                "import warnings\n",
                "warnings.filterwarnings('ignore')"
            ]
        },
        {
            "cell_type": "code",
            "execution_count": 2,
            "metadata": {},
            "outputs": [
                {
                    "name": "stdout",
                    "output_type": "stream",
                    "text": [
                        "Output Dir:  ./outputs/\n"
                    ]
                }
            ],
            "source": [
                "paths = KagglePaths if os.path.exists(KagglePaths.OUTPUT_DIR) else LocalPaths\n",
                "print(\"Output Dir: \", paths.OUTPUT_DIR)"
            ]
        },
        {
            "cell_type": "code",
            "execution_count": 3,
            "metadata": {},
            "outputs": [
                {
                    "name": "stdout",
                    "output_type": "stream",
                    "text": [
                        "(13996, 12)\n",
                        "(6187, 12)\n",
                        "0\n",
                        "0\n"
                    ]
                },
                {
                    "data": {
                        "text/html": [
                            "<div>\n",
                            "<style scoped>\n",
                            "    .dataframe tbody tr th:only-of-type {\n",
                            "        vertical-align: middle;\n",
                            "    }\n",
                            "\n",
                            "    .dataframe tbody tr th {\n",
                            "        vertical-align: top;\n",
                            "    }\n",
                            "\n",
                            "    .dataframe thead th {\n",
                            "        text-align: right;\n",
                            "    }\n",
                            "</style>\n",
                            "<table border=\"1\" class=\"dataframe\">\n",
                            "  <thead>\n",
                            "    <tr style=\"text-align: right;\">\n",
                            "      <th></th>\n",
                            "      <th>eeg_id</th>\n",
                            "      <th>seizure_vote</th>\n",
                            "      <th>lpd_vote</th>\n",
                            "      <th>gpd_vote</th>\n",
                            "      <th>lrda_vote</th>\n",
                            "      <th>grda_vote</th>\n",
                            "      <th>other_vote</th>\n",
                            "      <th>spectrogram_id</th>\n",
                            "      <th>min</th>\n",
                            "      <th>max</th>\n",
                            "      <th>patient_id</th>\n",
                            "      <th>target</th>\n",
                            "    </tr>\n",
                            "  </thead>\n",
                            "  <tbody>\n",
                            "    <tr>\n",
                            "      <th>0</th>\n",
                            "      <td>642382</td>\n",
                            "      <td>0.0</td>\n",
                            "      <td>0.0</td>\n",
                            "      <td>0.0</td>\n",
                            "      <td>0.0</td>\n",
                            "      <td>0.0</td>\n",
                            "      <td>1.0</td>\n",
                            "      <td>14960202</td>\n",
                            "      <td>1008.0</td>\n",
                            "      <td>1032.0</td>\n",
                            "      <td>5955</td>\n",
                            "      <td>Other</td>\n",
                            "    </tr>\n",
                            "    <tr>\n",
                            "      <th>1</th>\n",
                            "      <td>751790</td>\n",
                            "      <td>0.0</td>\n",
                            "      <td>0.0</td>\n",
                            "      <td>1.0</td>\n",
                            "      <td>0.0</td>\n",
                            "      <td>0.0</td>\n",
                            "      <td>0.0</td>\n",
                            "      <td>618728447</td>\n",
                            "      <td>908.0</td>\n",
                            "      <td>908.0</td>\n",
                            "      <td>38549</td>\n",
                            "      <td>GPD</td>\n",
                            "    </tr>\n",
                            "    <tr>\n",
                            "      <th>2</th>\n",
                            "      <td>778705</td>\n",
                            "      <td>0.0</td>\n",
                            "      <td>0.0</td>\n",
                            "      <td>0.0</td>\n",
                            "      <td>0.0</td>\n",
                            "      <td>0.0</td>\n",
                            "      <td>1.0</td>\n",
                            "      <td>52296320</td>\n",
                            "      <td>0.0</td>\n",
                            "      <td>0.0</td>\n",
                            "      <td>40955</td>\n",
                            "      <td>Other</td>\n",
                            "    </tr>\n",
                            "    <tr>\n",
                            "      <th>3</th>\n",
                            "      <td>1629671</td>\n",
                            "      <td>1.0</td>\n",
                            "      <td>0.0</td>\n",
                            "      <td>0.0</td>\n",
                            "      <td>0.0</td>\n",
                            "      <td>0.0</td>\n",
                            "      <td>0.0</td>\n",
                            "      <td>2036345030</td>\n",
                            "      <td>0.0</td>\n",
                            "      <td>160.0</td>\n",
                            "      <td>37481</td>\n",
                            "      <td>Seizure</td>\n",
                            "    </tr>\n",
                            "    <tr>\n",
                            "      <th>4</th>\n",
                            "      <td>2061593</td>\n",
                            "      <td>0.0</td>\n",
                            "      <td>0.0</td>\n",
                            "      <td>0.0</td>\n",
                            "      <td>0.0</td>\n",
                            "      <td>0.0</td>\n",
                            "      <td>1.0</td>\n",
                            "      <td>320962633</td>\n",
                            "      <td>1450.0</td>\n",
                            "      <td>1450.0</td>\n",
                            "      <td>23828</td>\n",
                            "      <td>Other</td>\n",
                            "    </tr>\n",
                            "  </tbody>\n",
                            "</table>\n",
                            "</div>"
                        ],
                        "text/plain": [
                            "    eeg_id  seizure_vote  lpd_vote  gpd_vote  lrda_vote  grda_vote  \\\n",
                            "0   642382           0.0       0.0       0.0        0.0        0.0   \n",
                            "1   751790           0.0       0.0       1.0        0.0        0.0   \n",
                            "2   778705           0.0       0.0       0.0        0.0        0.0   \n",
                            "3  1629671           1.0       0.0       0.0        0.0        0.0   \n",
                            "4  2061593           0.0       0.0       0.0        0.0        0.0   \n",
                            "\n",
                            "   other_vote  spectrogram_id     min     max  patient_id   target  \n",
                            "0         1.0        14960202  1008.0  1032.0        5955    Other  \n",
                            "1         0.0       618728447   908.0   908.0       38549      GPD  \n",
                            "2         1.0        52296320     0.0     0.0       40955    Other  \n",
                            "3         0.0      2036345030     0.0   160.0       37481  Seizure  \n",
                            "4         1.0       320962633  1450.0  1450.0       23828    Other  "
                        ]
                    },
                    "metadata": {},
                    "output_type": "display_data"
                },
                {
                    "name": "stdout",
                    "output_type": "stream",
                    "text": [
                        " \n"
                    ]
                },
                {
                    "data": {
                        "text/html": [
                            "<div>\n",
                            "<style scoped>\n",
                            "    .dataframe tbody tr th:only-of-type {\n",
                            "        vertical-align: middle;\n",
                            "    }\n",
                            "\n",
                            "    .dataframe tbody tr th {\n",
                            "        vertical-align: top;\n",
                            "    }\n",
                            "\n",
                            "    .dataframe thead th {\n",
                            "        text-align: right;\n",
                            "    }\n",
                            "</style>\n",
                            "<table border=\"1\" class=\"dataframe\">\n",
                            "  <thead>\n",
                            "    <tr style=\"text-align: right;\">\n",
                            "      <th></th>\n",
                            "      <th>eeg_id</th>\n",
                            "      <th>seizure_vote</th>\n",
                            "      <th>lpd_vote</th>\n",
                            "      <th>gpd_vote</th>\n",
                            "      <th>lrda_vote</th>\n",
                            "      <th>grda_vote</th>\n",
                            "      <th>other_vote</th>\n",
                            "      <th>spectrogram_id</th>\n",
                            "      <th>min</th>\n",
                            "      <th>max</th>\n",
                            "      <th>patient_id</th>\n",
                            "      <th>target</th>\n",
                            "    </tr>\n",
                            "  </thead>\n",
                            "  <tbody>\n",
                            "    <tr>\n",
                            "      <th>0</th>\n",
                            "      <td>568657</td>\n",
                            "      <td>0.000000</td>\n",
                            "      <td>0.000000</td>\n",
                            "      <td>0.250000</td>\n",
                            "      <td>0.000000</td>\n",
                            "      <td>0.166667</td>\n",
                            "      <td>0.583333</td>\n",
                            "      <td>789577333</td>\n",
                            "      <td>0.0</td>\n",
                            "      <td>16.0</td>\n",
                            "      <td>20654</td>\n",
                            "      <td>Other</td>\n",
                            "    </tr>\n",
                            "    <tr>\n",
                            "      <th>1</th>\n",
                            "      <td>582999</td>\n",
                            "      <td>0.000000</td>\n",
                            "      <td>0.857143</td>\n",
                            "      <td>0.000000</td>\n",
                            "      <td>0.071429</td>\n",
                            "      <td>0.000000</td>\n",
                            "      <td>0.071429</td>\n",
                            "      <td>1552638400</td>\n",
                            "      <td>0.0</td>\n",
                            "      <td>38.0</td>\n",
                            "      <td>20230</td>\n",
                            "      <td>LPD</td>\n",
                            "    </tr>\n",
                            "    <tr>\n",
                            "      <th>2</th>\n",
                            "      <td>1895581</td>\n",
                            "      <td>0.076923</td>\n",
                            "      <td>0.000000</td>\n",
                            "      <td>0.000000</td>\n",
                            "      <td>0.000000</td>\n",
                            "      <td>0.076923</td>\n",
                            "      <td>0.846154</td>\n",
                            "      <td>128369999</td>\n",
                            "      <td>1138.0</td>\n",
                            "      <td>1138.0</td>\n",
                            "      <td>47999</td>\n",
                            "      <td>Other</td>\n",
                            "    </tr>\n",
                            "    <tr>\n",
                            "      <th>3</th>\n",
                            "      <td>2482631</td>\n",
                            "      <td>0.000000</td>\n",
                            "      <td>0.000000</td>\n",
                            "      <td>0.133333</td>\n",
                            "      <td>0.066667</td>\n",
                            "      <td>0.133333</td>\n",
                            "      <td>0.666667</td>\n",
                            "      <td>978166025</td>\n",
                            "      <td>1902.0</td>\n",
                            "      <td>1944.0</td>\n",
                            "      <td>20606</td>\n",
                            "      <td>Other</td>\n",
                            "    </tr>\n",
                            "    <tr>\n",
                            "      <th>4</th>\n",
                            "      <td>2521897</td>\n",
                            "      <td>0.000000</td>\n",
                            "      <td>0.000000</td>\n",
                            "      <td>0.083333</td>\n",
                            "      <td>0.083333</td>\n",
                            "      <td>0.333333</td>\n",
                            "      <td>0.500000</td>\n",
                            "      <td>673742515</td>\n",
                            "      <td>0.0</td>\n",
                            "      <td>4.0</td>\n",
                            "      <td>62117</td>\n",
                            "      <td>Other</td>\n",
                            "    </tr>\n",
                            "  </tbody>\n",
                            "</table>\n",
                            "</div>"
                        ],
                        "text/plain": [
                            "    eeg_id  seizure_vote  lpd_vote  gpd_vote  lrda_vote  grda_vote  \\\n",
                            "0   568657      0.000000  0.000000  0.250000   0.000000   0.166667   \n",
                            "1   582999      0.000000  0.857143  0.000000   0.071429   0.000000   \n",
                            "2  1895581      0.076923  0.000000  0.000000   0.000000   0.076923   \n",
                            "3  2482631      0.000000  0.000000  0.133333   0.066667   0.133333   \n",
                            "4  2521897      0.000000  0.000000  0.083333   0.083333   0.333333   \n",
                            "\n",
                            "   other_vote  spectrogram_id     min     max  patient_id target  \n",
                            "0    0.583333       789577333     0.0    16.0       20654  Other  \n",
                            "1    0.071429      1552638400     0.0    38.0       20230    LPD  \n",
                            "2    0.846154       128369999  1138.0  1138.0       47999  Other  \n",
                            "3    0.666667       978166025  1902.0  1944.0       20606  Other  \n",
                            "4    0.500000       673742515     0.0     4.0       62117  Other  "
                        ]
                    },
                    "metadata": {},
                    "output_type": "display_data"
                }
            ],
            "source": [
                "train_easy, train_hard, all_specs, all_eegs = load_kaggle_data(\n",
                "    paths.TRAIN_CSV, paths.PRE_LOADED_SPECTOGRAMS, paths.PRE_LOADED_EEGS, split_entropy=ModelConfig.SPLIT_ENTROPY)\n",
                "\n",
                "print(train_easy.shape)\n",
                "print(train_hard.shape)\n",
                "\n",
                "# check if contain NaN\n",
                "print(train_easy.isnull().sum().sum())\n",
                "print(train_hard.isnull().sum().sum())\n",
                "\n",
                "display(train_easy.head())\n",
                "print(\" \")\n",
                "display(train_hard.head())"
            ]
        },
        {
            "cell_type": "code",
            "execution_count": null,
            "metadata": {},
            "outputs": [],
            "source": [
                "# check distribution of targets\n",
                "fig, axes = plt.subplots(1, 2, figsize=(10, 5))\n",
                "train_easy[\"target\"].value_counts().plot(kind=\"bar\", ax=axes[0])\n",
                "train_hard[\"target\"].value_counts().plot(kind=\"bar\", ax=axes[1])\n",
                "axes[0].set_title(\"Easy\")\n",
                "axes[1].set_title(\"Hard\")\n",
                "fig.tight_layout()\n",
                "plt.show()"
            ]
        },
        {
            "cell_type": "code",
            "execution_count": null,
            "metadata": {},
            "outputs": [],
            "source": [
                "# # calculate class weights for loss function\n",
                "# class_weights = train_easy[\"target\"].value_counts(normalize=True).sort_index()\n",
                "# class_weights"
            ]
        },
        {
            "cell_type": "code",
            "execution_count": null,
            "metadata": {},
            "outputs": [],
            "source": [
                "# Rebalance hard samples by Randomly sample from easy and add to hard.\n",
                "# tgt_to_sample = ['Seizure', 'LRDA', 'GRDA']\n",
                "# sample_ratio = 0.5 # 50% of easy to add to hard for each target label\n",
                "\n",
                "# for tgt in tgt_to_sample:\n",
                "#     easy_sample = train_easy[train_easy[\"target\"] == tgt].sample(frac=sample_ratio)\n",
                "#     train_hard = pd.concat([train_hard, easy_sample], axis=0)\n",
                "\n",
                "# print(\"Hard after adding easy: \", train_hard.shape)\n",
                "\n",
                "# # check distribution of targets\n",
                "# fig, axes = plt.subplots(1, 2, figsize=(10, 5))\n",
                "# train_easy[\"target\"].value_counts().plot(kind=\"bar\", ax=axes[0])\n",
                "# train_hard[\"target\"].value_counts().plot(kind=\"bar\", ax=axes[1])\n",
                "# axes[0].set_title(\"Easy\")\n",
                "# axes[1].set_title(\"Hard\")\n",
                "# fig.tight_layout()\n",
                "# plt.show()"
            ]
        },
        {
            "cell_type": "code",
            "execution_count": 4,
            "metadata": {},
            "outputs": [
                {
                    "name": "stderr",
                    "output_type": "stream",
                    "text": [
                        "****************************************************************************************************\n",
                        "Script Start: Sun Mar 17 12:48:46 2024\n",
                        "Model Configurations:\n",
                        "SEED: 20\n",
                        "SPLIT_ENTROPY: 5.5\n",
                        "MODEL_NAME: DualEncoder_Default_debug\n",
                        "MODEL_BACKBONE: dual_encoder\n",
                        "BATCH_SIZE: 16\n",
                        "EPOCHS: 1\n",
                        "GRADIENT_ACCUMULATION_STEPS: 2\n",
                        "DROP_RATE: 0.15\n",
                        "DROP_PATH_RATE: 0.25\n",
                        "WEIGHT_DECAY: 0.01\n",
                        "REGULARIZATION: None\n",
                        "USE_KAGGLE_SPECTROGRAMS: True\n",
                        "USE_EEG_SPECTROGRAMS: True\n",
                        "AMP: True\n",
                        "AUGMENT: False\n",
                        "AUGMENTATIONS: []\n",
                        "PRINT_FREQ: 50\n",
                        "FREEZE: False\n",
                        "NUM_FROZEN_LAYERS: 0\n",
                        "NUM_WORKERS: 0\n",
                        "MAX_GRAD_NORM: 10000000.0\n",
                        "MAE_PRETRAINED_WEIGHTS: facebook/vit-mae-base\n",
                        "MAE_HIDDEN_DROPOUT_PROB: 0.05\n",
                        "MAE_ATTENTION_DROPOUT_PROB: 0.05\n",
                        "****************************************************************************************************\n"
                    ]
                }
            ],
            "source": [
                "# config DualEncoder\n",
                "ModelConfig.EPOCHS = 1\n",
                "ModelConfig.BATCH_SIZE = 16\n",
                "ModelConfig.GRADIENT_ACCUMULATION_STEPS = 2\n",
                "ModelConfig.MODEL_BACKBONE = 'dual_encoder'\n",
                "ModelConfig.MODEL_NAME = \"DualEncoder_Default_debug\"\n",
                "ModelConfig.USE_KAGGLE_SPECTROGRAMS = True\n",
                "ModelConfig.USE_EEG_SPECTROGRAMS = True\n",
                "ModelConfig.REGULARIZATION = None\n",
                "ModelConfig.AUGMENT = False\n",
                "ModelConfig.AUGMENTATIONS = []\n",
                "\n",
                "hms_predictor = HMSPredictor(paths.OUTPUT_DIR, ModelConfig, k_fold=5)"
            ]
        },
        {
            "cell_type": "code",
            "execution_count": null,
            "metadata": {},
            "outputs": [],
            "source": [
                "# # Config EfficientNet \n",
                "# ModelConfig.EPOCHS = 6\n",
                "# ModelConfig.BATCH_SIZE = 16\n",
                "# ModelConfig.GRADIENT_ACCUMULATION_STEPS = 2\n",
                "# ModelConfig.MODEL_BACKBONE = 'tf_efficientnet_b2'\n",
                "# ModelConfig.MODEL_NAME = \"ENet_b2_xymask_rebalance\"\n",
                "# ModelConfig.USE_KAGGLE_SPECTROGRAMS = True\n",
                "# ModelConfig.USE_EEG_SPECTROGRAMS = True\n",
                "# ModelConfig.REGULARIZATION = None\n",
                "# ModelConfig.AUGMENT = True\n",
                "# ModelConfig.AUGMENTATIONS = ['xy_masking']\n",
                "\n",
                "# hms_predictor = HMSPredictor(paths.OUTPUT_DIR, ModelConfig, k_fold=5)"
            ]
        },
        {
            "cell_type": "code",
            "execution_count": null,
            "metadata": {},
            "outputs": [],
            "source": [
                "# # Config ViTMAE\n",
                "# ModelConfig.EPOCHS = 6\n",
                "# ModelConfig.MODEL_BACKBONE = 'vit_mae_base'\n",
                "# ModelConfig.MODEL_NAME = \"ViTMAE_base_mlp_dropout_020\"\n",
                "# ModelConfig.AUGMENT = True\n",
                "# ModelConfig.USE_KAGGLE_SPECTROGRAMS = True\n",
                "# ModelConfig.USE_EEG_SPECTROGRAMS = True\n",
                "# ModelConfig.REGULARIZATION = None\n",
                "# ModelConfig.AUGMENTATIONS = ['xy_masking']\n",
                "# ModelConfig.MAE_PRETRAINED_WEIGHTS = \"./outputs/vit_mae_pretraining/ViTMAE_PreTrained_Best.pth\"\n",
                "# ModelConfig.MAE_HIDDEN_DROPOUT_PROB = 0.1\n",
                "# ModelConfig.MAE_ATTENTION_DROPOUT_PROB = 0.1\n",
                "# ModelConfig.DROP_RATE = 0.2\n",
                "\n",
                "# hms_predictor = HMSPredictor(paths.OUTPUT_DIR, ModelConfig, k_fold=5)"
            ]
        },
        {
            "cell_type": "code",
            "execution_count": 5,
            "metadata": {},
            "outputs": [
                {
                    "name": "stderr",
                    "output_type": "stream",
                    "text": [
                        "Train Easy: (13996, 12) | Train Hard: (6187, 12)\n",
                        "====================================================================================================\n",
                        "Fold: 0 || Valid size 6867 \n",
                        "====================================================================================================\n",
                        "- First Stage \n"
                    ]
                },
                {
                    "data": {
                        "application/vnd.jupyter.widget-view+json": {
                            "model_id": "f6c489c0ac1b4772a38e6cc5908bde0b",
                            "version_major": 2,
                            "version_minor": 0
                        },
                        "text/plain": [
                            "Train [0]:   0%|          | 0/566 [00:00<?, ?batch/s]"
                        ]
                    },
                    "metadata": {},
                    "output_type": "display_data"
                },
                {
                    "name": "stdout",
                    "output_type": "stream",
                    "text": [
                        "Epoch 1 [0/566] | Train Loss: 0.8966 Grad: 109557.5703 LR: 4.0000e-06 | Elapse: 1.21s\n",
                        "Epoch 1 [50/566] | Train Loss: 0.8335 Grad: 103439.2969 LR: 4.4438e-05 | Elapse: 9.35s\n",
                        "Epoch 1 [100/566] | Train Loss: 0.6111 Grad: 108406.6797 LR: 9.7617e-05 | Elapse: 17.38s\n",
                        "Epoch 1 [150/566] | Train Loss: 0.5655 Grad: 92268.1875 LR: 9.9643e-05 | Elapse: 25.41s\n",
                        "Epoch 1 [200/566] | Train Loss: 0.4285 Grad: 95468.2734 LR: 9.8138e-05 | Elapse: 33.46s\n",
                        "Epoch 1 [250/566] | Train Loss: 0.5289 Grad: 115599.2109 LR: 9.5492e-05 | Elapse: 41.53s\n",
                        "Epoch 1 [300/566] | Train Loss: 0.3450 Grad: 111204.5000 LR: 9.1766e-05 | Elapse: 49.60s\n",
                        "Epoch 1 [350/566] | Train Loss: 0.5016 Grad: 60511.2383 LR: 8.7051e-05 | Elapse: 57.68s\n",
                        "Epoch 1 [400/566] | Train Loss: 0.4430 Grad: 57837.9805 LR: 8.1457e-05 | Elapse: 65.84s\n",
                        "Epoch 1 [450/566] | Train Loss: 0.4506 Grad: 61915.1562 LR: 7.5117e-05 | Elapse: 74.09s\n",
                        "Epoch 1 [500/566] | Train Loss: 0.4052 Grad: 57430.7070 LR: 6.8181e-05 | Elapse: 82.20s\n",
                        "Epoch 1 [550/566] | Train Loss: 0.3834 Grad: 56670.6328 LR: 6.0815e-05 | Elapse: 90.33s\n",
                        "Epoch 1 [565/566] | Train Loss: 0.3095 Grad: 77318.9297 LR: 5.8395e-05 | Elapse: 92.77s\n"
                    ]
                },
                {
                    "data": {
                        "application/vnd.jupyter.widget-view+json": {
                            "model_id": "50dbc0c1948340888926fdd5ed4b6d27",
                            "version_major": 2,
                            "version_minor": 0
                        },
                        "text/plain": [
                            "Valid [0]:   0%|          | 0/430 [00:00<?, ?batch/s]"
                        ]
                    },
                    "metadata": {},
                    "output_type": "display_data"
                },
                {
                    "name": "stdout",
                    "output_type": "stream",
                    "text": [
                        "Epoch 1 [0/430] | Valid Loss: 0.3798 | Elapse: 0.07s\n",
                        "Epoch 1 [50/430] | Valid Loss: 0.2669 | Elapse: 3.36s\n",
                        "Epoch 1 [100/430] | Valid Loss: 0.2998 | Elapse: 6.66s\n",
                        "Epoch 1 [150/430] | Valid Loss: 0.6240 | Elapse: 9.96s\n",
                        "Epoch 1 [200/430] | Valid Loss: 0.3500 | Elapse: 13.27s\n",
                        "Epoch 1 [250/430] | Valid Loss: 0.4212 | Elapse: 16.57s\n",
                        "Epoch 1 [300/430] | Valid Loss: 0.4175 | Elapse: 19.89s\n",
                        "Epoch 1 [350/430] | Valid Loss: 0.3526 | Elapse: 23.19s\n",
                        "Epoch 1 [400/430] | Valid Loss: 0.4065 | Elapse: 26.49s\n"
                    ]
                },
                {
                    "name": "stderr",
                    "output_type": "stream",
                    "text": [
                        "----------------------------------------------------------------------------------------------------\n",
                        "Epoch 1 - Average Loss: (train) 0.5203; (valid) 0.3740 | Time: 121.26s\n",
                        "Best model found in epoch 1 | valid loss: 0.3740\n"
                    ]
                },
                {
                    "name": "stdout",
                    "output_type": "stream",
                    "text": [
                        "Epoch 1 [429/430] | Valid Loss: 0.2537 | Elapse: 28.48s\n"
                    ]
                },
                {
                    "name": "stderr",
                    "output_type": "stream",
                    "text": [
                        "====================================================================================================\n",
                        "Fold 0 Valid Loss: (Easy) 0.7814 | (Hard) 0.6625\n",
                        "Elapse: 2.06 min \n",
                        "====================================================================================================\n",
                        "- Second Stage \n",
                        "Use Checkpoint: DualEncoder_Default_debug_fold_0_stage_1.pth\n"
                    ]
                },
                {
                    "data": {
                        "application/vnd.jupyter.widget-view+json": {
                            "model_id": "9137ccd81cad48cfab9ad154ab01119d",
                            "version_major": 2,
                            "version_minor": 0
                        },
                        "text/plain": [
                            "Train [0]:   0%|          | 0/265 [00:00<?, ?batch/s]"
                        ]
                    },
                    "metadata": {},
                    "output_type": "display_data"
                },
                {
                    "name": "stdout",
                    "output_type": "stream",
                    "text": [
                        "Epoch 1 [0/265] | Train Loss: 0.2617 Grad: 92056.1484 LR: 4.0000e-06 | Elapse: 0.16s\n",
                        "Epoch 1 [50/265] | Train Loss: 0.2484 Grad: 76894.3047 LR: 9.9909e-05 | Elapse: 8.43s\n",
                        "Epoch 1 [100/265] | Train Loss: 0.2311 Grad: 57956.8594 LR: 9.7420e-05 | Elapse: 16.61s\n",
                        "Epoch 1 [150/265] | Train Loss: 0.2482 Grad: 74206.3125 LR: 8.9747e-05 | Elapse: 24.80s\n",
                        "Epoch 1 [200/265] | Train Loss: 0.1944 Grad: 51076.0156 LR: 7.7805e-05 | Elapse: 32.99s\n",
                        "Epoch 1 [250/265] | Train Loss: 0.2664 Grad: 76703.8359 LR: 6.2876e-05 | Elapse: 41.20s\n",
                        "Epoch 1 [264/265] | Train Loss: 0.3239 Grad: 83093.7734 LR: 5.8375e-05 | Elapse: 43.50s\n"
                    ]
                },
                {
                    "data": {
                        "application/vnd.jupyter.widget-view+json": {
                            "model_id": "3c0119e9e2cb495d840411f21155ee6f",
                            "version_major": 2,
                            "version_minor": 0
                        },
                        "text/plain": [
                            "Valid [0]:   0%|          | 0/430 [00:00<?, ?batch/s]"
                        ]
                    },
                    "metadata": {},
                    "output_type": "display_data"
                },
                {
                    "name": "stdout",
                    "output_type": "stream",
                    "text": [
                        "Epoch 1 [0/430] | Valid Loss: 0.3635 | Elapse: 0.07s\n",
                        "Epoch 1 [50/430] | Valid Loss: 0.2777 | Elapse: 3.40s\n",
                        "Epoch 1 [100/430] | Valid Loss: 0.4322 | Elapse: 6.72s\n",
                        "Epoch 1 [150/430] | Valid Loss: 0.5098 | Elapse: 10.06s\n",
                        "Epoch 1 [200/430] | Valid Loss: 0.3519 | Elapse: 13.40s\n",
                        "Epoch 1 [250/430] | Valid Loss: 0.5134 | Elapse: 16.75s\n",
                        "Epoch 1 [300/430] | Valid Loss: 0.3355 | Elapse: 20.10s\n",
                        "Epoch 1 [350/430] | Valid Loss: 0.3009 | Elapse: 23.43s\n",
                        "Epoch 1 [400/430] | Valid Loss: 0.1747 | Elapse: 26.78s\n"
                    ]
                },
                {
                    "name": "stderr",
                    "output_type": "stream",
                    "text": [
                        "----------------------------------------------------------------------------------------------------\n",
                        "Epoch 1 - Average Loss: (train) 0.2555; (valid) 0.3597 | Time: 72.18s\n",
                        "Best model found in epoch 1 | valid loss: 0.3597\n"
                    ]
                },
                {
                    "name": "stdout",
                    "output_type": "stream",
                    "text": [
                        "Epoch 1 [429/430] | Valid Loss: 0.2183 | Elapse: 28.68s\n"
                    ]
                },
                {
                    "name": "stderr",
                    "output_type": "stream",
                    "text": [
                        "====================================================================================================\n",
                        "Fold 0 Valid Loss: (Easy) 0.8303 | (Hard) 0.4363\n",
                        "Elapse: 1.22 min \n",
                        "====================================================================================================\n",
                        "====================================================================================================\n",
                        "Fold: 1 || Valid size 4196 \n",
                        "====================================================================================================\n",
                        "- First Stage \n"
                    ]
                },
                {
                    "data": {
                        "application/vnd.jupyter.widget-view+json": {
                            "model_id": "755003d0da394783b008a074e0aace72",
                            "version_major": 2,
                            "version_minor": 0
                        },
                        "text/plain": [
                            "Train [0]:   0%|          | 0/688 [00:00<?, ?batch/s]"
                        ]
                    },
                    "metadata": {},
                    "output_type": "display_data"
                },
                {
                    "name": "stdout",
                    "output_type": "stream",
                    "text": [
                        "Epoch 1 [0/688] | Train Loss: 0.8819 Grad: 127948.0547 LR: 4.0000e-06 | Elapse: 0.16s\n",
                        "Epoch 1 [50/688] | Train Loss: 0.7863 Grad: 118378.9141 LR: 3.2762e-05 | Elapse: 8.35s\n",
                        "Epoch 1 [100/688] | Train Loss: 0.6299 Grad: 75709.8359 LR: 8.4578e-05 | Elapse: 16.54s\n",
                        "Epoch 1 [150/688] | Train Loss: 0.6520 Grad: 96585.7344 LR: 9.9967e-05 | Elapse: 24.76s\n",
                        "Epoch 1 [200/688] | Train Loss: 0.6093 Grad: 115520.2188 LR: 9.9334e-05 | Elapse: 32.99s\n",
                        "Epoch 1 [250/688] | Train Loss: 0.5108 Grad: 113027.7969 LR: 9.7910e-05 | Elapse: 41.24s\n",
                        "Epoch 1 [300/688] | Train Loss: 0.5340 Grad: 139691.5625 LR: 9.5716e-05 | Elapse: 49.47s\n",
                        "Epoch 1 [350/688] | Train Loss: 0.2850 Grad: 84591.6875 LR: 9.2788e-05 | Elapse: 57.70s\n",
                        "Epoch 1 [400/688] | Train Loss: 0.3241 Grad: 46687.4570 LR: 8.9173e-05 | Elapse: 65.91s\n",
                        "Epoch 1 [450/688] | Train Loss: 0.3016 Grad: 58521.9180 LR: 8.4928e-05 | Elapse: 74.13s\n",
                        "Epoch 1 [500/688] | Train Loss: 0.4988 Grad: 61526.7578 LR: 8.0123e-05 | Elapse: 82.39s\n",
                        "Epoch 1 [550/688] | Train Loss: 0.3983 Grad: 61539.0195 LR: 7.4834e-05 | Elapse: 90.62s\n",
                        "Epoch 1 [600/688] | Train Loss: 0.3067 Grad: 57028.2344 LR: 6.9147e-05 | Elapse: 98.85s\n",
                        "Epoch 1 [650/688] | Train Loss: 0.1472 Grad: 32184.3105 LR: 6.3152e-05 | Elapse: 107.07s\n",
                        "Epoch 1 [687/688] | Train Loss: 0.3903 Grad: 111361.9375 LR: 5.8449e-05 | Elapse: 113.16s\n"
                    ]
                },
                {
                    "data": {
                        "application/vnd.jupyter.widget-view+json": {
                            "model_id": "4c100937396f492da8753d61e24ecc28",
                            "version_major": 2,
                            "version_minor": 0
                        },
                        "text/plain": [
                            "Valid [0]:   0%|          | 0/263 [00:00<?, ?batch/s]"
                        ]
                    },
                    "metadata": {},
                    "output_type": "display_data"
                },
                {
                    "name": "stdout",
                    "output_type": "stream",
                    "text": [
                        "Epoch 1 [0/263] | Valid Loss: 0.4278 | Elapse: 0.07s\n",
                        "Epoch 1 [50/263] | Valid Loss: 0.3037 | Elapse: 3.38s\n",
                        "Epoch 1 [100/263] | Valid Loss: 0.2965 | Elapse: 6.67s\n",
                        "Epoch 1 [150/263] | Valid Loss: 0.2233 | Elapse: 9.99s\n",
                        "Epoch 1 [200/263] | Valid Loss: 0.2914 | Elapse: 13.31s\n",
                        "Epoch 1 [250/263] | Valid Loss: 0.2933 | Elapse: 16.61s\n"
                    ]
                },
                {
                    "name": "stderr",
                    "output_type": "stream",
                    "text": [
                        "----------------------------------------------------------------------------------------------------\n",
                        "Epoch 1 - Average Loss: (train) 0.5088; (valid) 0.3338 | Time: 130.64s\n",
                        "Best model found in epoch 1 | valid loss: 0.3338\n"
                    ]
                },
                {
                    "name": "stdout",
                    "output_type": "stream",
                    "text": [
                        "Epoch 1 [262/263] | Valid Loss: 0.3405 | Elapse: 17.47s\n"
                    ]
                },
                {
                    "name": "stderr",
                    "output_type": "stream",
                    "text": [
                        "====================================================================================================\n",
                        "Fold 1 Valid Loss: (Easy) 0.6865 | (Hard) 0.6214\n",
                        "Elapse: 2.19 min \n",
                        "====================================================================================================\n",
                        "- Second Stage \n",
                        "Use Checkpoint: DualEncoder_Default_debug_fold_1_stage_1.pth\n"
                    ]
                },
                {
                    "data": {
                        "application/vnd.jupyter.widget-view+json": {
                            "model_id": "a4416c3cfd77412c869adc2e8d1aa83b",
                            "version_major": 2,
                            "version_minor": 0
                        },
                        "text/plain": [
                            "Train [0]:   0%|          | 0/310 [00:00<?, ?batch/s]"
                        ]
                    },
                    "metadata": {},
                    "output_type": "display_data"
                },
                {
                    "name": "stdout",
                    "output_type": "stream",
                    "text": [
                        "Epoch 1 [0/310] | Train Loss: 0.4615 Grad: 139412.0781 LR: 4.0000e-06 | Elapse: 0.18s\n",
                        "Epoch 1 [50/310] | Train Loss: 0.2437 Grad: 97553.4609 LR: 9.3569e-05 | Elapse: 8.41s\n",
                        "Epoch 1 [100/310] | Train Loss: 0.2114 Grad: 51952.2500 LR: 9.8738e-05 | Elapse: 16.62s\n",
                        "Epoch 1 [150/310] | Train Loss: 0.1937 Grad: 53921.4258 LR: 9.3720e-05 | Elapse: 24.83s\n",
                        "Epoch 1 [200/310] | Train Loss: 0.1755 Grad: 55898.0195 LR: 8.5262e-05 | Elapse: 33.07s\n",
                        "Epoch 1 [250/310] | Train Loss: 0.2345 Grad: 68282.8984 LR: 7.4029e-05 | Elapse: 41.29s\n",
                        "Epoch 1 [300/310] | Train Loss: 0.1928 Grad: 53330.5859 LR: 6.0906e-05 | Elapse: 49.51s\n",
                        "Epoch 1 [309/310] | Train Loss: 0.2861 Grad: 91376.3672 LR: 5.8144e-05 | Elapse: 50.99s\n"
                    ]
                },
                {
                    "data": {
                        "application/vnd.jupyter.widget-view+json": {
                            "model_id": "3a3094d656ed4ab48e1a74ead3ebd4e3",
                            "version_major": 2,
                            "version_minor": 0
                        },
                        "text/plain": [
                            "Valid [0]:   0%|          | 0/263 [00:00<?, ?batch/s]"
                        ]
                    },
                    "metadata": {},
                    "output_type": "display_data"
                },
                {
                    "name": "stdout",
                    "output_type": "stream",
                    "text": [
                        "Epoch 1 [0/263] | Valid Loss: 0.4747 | Elapse: 0.07s\n",
                        "Epoch 1 [50/263] | Valid Loss: 0.3919 | Elapse: 3.37s\n",
                        "Epoch 1 [100/263] | Valid Loss: 0.3038 | Elapse: 6.67s\n",
                        "Epoch 1 [150/263] | Valid Loss: 0.2909 | Elapse: 9.99s\n",
                        "Epoch 1 [200/263] | Valid Loss: 0.1478 | Elapse: 13.30s\n",
                        "Epoch 1 [250/263] | Valid Loss: 0.1978 | Elapse: 16.61s\n"
                    ]
                },
                {
                    "name": "stderr",
                    "output_type": "stream",
                    "text": [
                        "----------------------------------------------------------------------------------------------------\n",
                        "Epoch 1 - Average Loss: (train) 0.2475; (valid) nan | Time: 68.36s\n"
                    ]
                },
                {
                    "name": "stdout",
                    "output_type": "stream",
                    "text": [
                        "Epoch 1 [262/263] | Valid Loss: 0.2378 | Elapse: 17.37s\n"
                    ]
                },
                {
                    "name": "stderr",
                    "output_type": "stream",
                    "text": [
                        "====================================================================================================\n",
                        "Fold 1 Valid Loss: (Easy) nan | (Hard) nan\n",
                        "Elapse: 1.15 min \n",
                        "====================================================================================================\n",
                        "====================================================================================================\n",
                        "Fold: 2 || Valid size 3358 \n",
                        "====================================================================================================\n",
                        "- First Stage \n"
                    ]
                },
                {
                    "data": {
                        "application/vnd.jupyter.widget-view+json": {
                            "model_id": "10bfcdc2e5cc45abb06d0a8efa33390c",
                            "version_major": 2,
                            "version_minor": 0
                        },
                        "text/plain": [
                            "Train [0]:   0%|          | 0/733 [00:00<?, ?batch/s]"
                        ]
                    },
                    "metadata": {},
                    "output_type": "display_data"
                },
                {
                    "name": "stdout",
                    "output_type": "stream",
                    "text": [
                        "Epoch 1 [0/733] | Train Loss: 0.8153 Grad: 119326.4844 LR: 4.0000e-06 | Elapse: 0.18s\n",
                        "Epoch 1 [50/733] | Train Loss: 0.7748 Grad: 103382.2031 LR: 2.9644e-05 | Elapse: 8.49s\n"
                    ]
                },
                {
                    "ename": "KeyboardInterrupt",
                    "evalue": "",
                    "output_type": "error",
                    "traceback": [
                        "\u001b[0;31m---------------------------------------------------------------------------\u001b[0m",
                        "\u001b[0;31mKeyboardInterrupt\u001b[0m                         Traceback (most recent call last)",
                        "Cell \u001b[0;32mIn[5], line 1\u001b[0m\n\u001b[0;32m----> 1\u001b[0m \u001b[43mhms_predictor\u001b[49m\u001b[38;5;241;43m.\u001b[39;49m\u001b[43mtrain_model\u001b[49m\u001b[43m(\u001b[49m\u001b[43mtrain_easy\u001b[49m\u001b[43m,\u001b[49m\u001b[43m \u001b[49m\u001b[43mtrain_hard\u001b[49m\u001b[43m,\u001b[49m\u001b[43m \u001b[49m\u001b[43mall_specs\u001b[49m\u001b[43m,\u001b[49m\u001b[43m \u001b[49m\u001b[43mall_eegs\u001b[49m\u001b[43m)\u001b[49m\n",
                        "File \u001b[0;32m~/kaggle_hms/engine_hms_trainer.py:343\u001b[0m, in \u001b[0;36mHMSPredictor.train_model\u001b[0;34m(self, train_easy, train_hard, all_specs, all_eegs)\u001b[0m\n\u001b[1;32m    341\u001b[0m \u001b[38;5;28mself\u001b[39m\u001b[38;5;241m.\u001b[39mlogger\u001b[38;5;241m.\u001b[39minfo(\u001b[38;5;124mf\u001b[39m\u001b[38;5;124m\"\u001b[39m\u001b[38;5;132;01m{\u001b[39;00m\u001b[38;5;124m'\u001b[39m\u001b[38;5;124m=\u001b[39m\u001b[38;5;124m'\u001b[39m\u001b[38;5;250m \u001b[39m\u001b[38;5;241m*\u001b[39m\u001b[38;5;250m \u001b[39m\u001b[38;5;241m100\u001b[39m\u001b[38;5;132;01m}\u001b[39;00m\u001b[38;5;130;01m\\n\u001b[39;00m\u001b[38;5;124mFold: \u001b[39m\u001b[38;5;132;01m{\u001b[39;00mfold\u001b[38;5;132;01m}\u001b[39;00m\u001b[38;5;124m || Valid size \u001b[39m\u001b[38;5;132;01m{\u001b[39;00mvalid_folds\u001b[38;5;241m.\u001b[39mshape[\u001b[38;5;241m0\u001b[39m]\u001b[38;5;132;01m}\u001b[39;00m\u001b[38;5;124m \u001b[39m\u001b[38;5;130;01m\\n\u001b[39;00m\u001b[38;5;132;01m{\u001b[39;00m\u001b[38;5;124m'\u001b[39m\u001b[38;5;124m=\u001b[39m\u001b[38;5;124m'\u001b[39m\u001b[38;5;250m \u001b[39m\u001b[38;5;241m*\u001b[39m\u001b[38;5;250m \u001b[39m\u001b[38;5;241m100\u001b[39m\u001b[38;5;132;01m}\u001b[39;00m\u001b[38;5;124m\"\u001b[39m)\n\u001b[1;32m    342\u001b[0m \u001b[38;5;28mself\u001b[39m\u001b[38;5;241m.\u001b[39mlogger\u001b[38;5;241m.\u001b[39minfo(\u001b[38;5;124mf\u001b[39m\u001b[38;5;124m\"\u001b[39m\u001b[38;5;124m- First Stage \u001b[39m\u001b[38;5;124m\"\u001b[39m)\n\u001b[0;32m--> 343\u001b[0m valid_predicts, loss_records \u001b[38;5;241m=\u001b[39m \u001b[38;5;28;43mself\u001b[39;49m\u001b[38;5;241;43m.\u001b[39;49m\u001b[43m_train_fold\u001b[49m\u001b[43m(\u001b[49m\n\u001b[1;32m    344\u001b[0m \u001b[43m    \u001b[49m\u001b[43mfold\u001b[49m\u001b[43m,\u001b[49m\u001b[43m \u001b[49m\u001b[43mtrain_folds_easy\u001b[49m\u001b[43m,\u001b[49m\u001b[43m \u001b[49m\u001b[43mvalid_folds\u001b[49m\u001b[43m,\u001b[49m\u001b[43m \u001b[49m\u001b[43mall_specs\u001b[49m\u001b[43m,\u001b[49m\u001b[43m \u001b[49m\u001b[43mall_eegs\u001b[49m\u001b[43m,\u001b[49m\u001b[43m \u001b[49m\u001b[43mstage\u001b[49m\u001b[38;5;241;43m=\u001b[39;49m\u001b[38;5;241;43m1\u001b[39;49m\u001b[43m,\u001b[49m\u001b[43m \u001b[49m\u001b[43mcheckpoint\u001b[49m\u001b[38;5;241;43m=\u001b[39;49m\u001b[38;5;28;43;01mNone\u001b[39;49;00m\u001b[43m)\u001b[49m\n\u001b[1;32m    346\u001b[0m loss_history_1\u001b[38;5;241m.\u001b[39mappend(loss_records)\n\u001b[1;32m    347\u001b[0m valid_folds[TARGETS_PRED] \u001b[38;5;241m=\u001b[39m valid_predicts\n",
                        "File \u001b[0;32m~/kaggle_hms/engine_hms_trainer.py:402\u001b[0m, in \u001b[0;36mHMSPredictor._train_fold\u001b[0;34m(self, fold_id, train_folds, valid_folds, all_specs, all_eegs, stage, checkpoint)\u001b[0m\n\u001b[1;32m    399\u001b[0m valid_loader \u001b[38;5;241m=\u001b[39m DataLoader(valid_dataset, drop_last\u001b[38;5;241m=\u001b[39m\u001b[38;5;28;01mFalse\u001b[39;00m, \u001b[38;5;241m*\u001b[39m\u001b[38;5;241m*\u001b[39mloader_kwargs)\n\u001b[1;32m    401\u001b[0m trainer \u001b[38;5;241m=\u001b[39m Trainer(model, \u001b[38;5;28mself\u001b[39m\u001b[38;5;241m.\u001b[39mmodel_config, \u001b[38;5;28mself\u001b[39m\u001b[38;5;241m.\u001b[39mlogger)\n\u001b[0;32m--> 402\u001b[0m best_weights, best_preds, loss_records \u001b[38;5;241m=\u001b[39m \u001b[43mtrainer\u001b[49m\u001b[38;5;241;43m.\u001b[39;49m\u001b[43mtrain\u001b[49m\u001b[43m(\u001b[49m\u001b[43mtrain_loader\u001b[49m\u001b[43m,\u001b[49m\u001b[43m \u001b[49m\u001b[43mvalid_loader\u001b[49m\u001b[43m,\u001b[49m\u001b[43m \u001b[49m\u001b[43mfrom_checkpoint\u001b[49m\u001b[38;5;241;43m=\u001b[39;49m\u001b[43mcheckpoint\u001b[49m\u001b[43m)\u001b[49m\n\u001b[1;32m    404\u001b[0m save_model_name \u001b[38;5;241m=\u001b[39m \u001b[38;5;124mf\u001b[39m\u001b[38;5;124m\"\u001b[39m\u001b[38;5;132;01m{\u001b[39;00m\u001b[38;5;28mself\u001b[39m\u001b[38;5;241m.\u001b[39mmodel_name\u001b[38;5;132;01m}\u001b[39;00m\u001b[38;5;124m_fold_\u001b[39m\u001b[38;5;132;01m{\u001b[39;00mfold_id\u001b[38;5;132;01m}\u001b[39;00m\u001b[38;5;124m_stage_\u001b[39m\u001b[38;5;132;01m{\u001b[39;00mstage\u001b[38;5;132;01m}\u001b[39;00m\u001b[38;5;124m.pth\u001b[39m\u001b[38;5;124m\"\u001b[39m\n\u001b[1;32m    405\u001b[0m torch\u001b[38;5;241m.\u001b[39msave(best_weights, os\u001b[38;5;241m.\u001b[39mpath\u001b[38;5;241m.\u001b[39mjoin(\u001b[38;5;28mself\u001b[39m\u001b[38;5;241m.\u001b[39moutput_dir, save_model_name))\n",
                        "File \u001b[0;32m~/kaggle_hms/engine_hms_trainer.py:159\u001b[0m, in \u001b[0;36mTrainer.train\u001b[0;34m(self, train_loader, valid_loader, from_checkpoint)\u001b[0m\n\u001b[1;32m    156\u001b[0m \u001b[38;5;28;01mfor\u001b[39;00m epoch \u001b[38;5;129;01min\u001b[39;00m \u001b[38;5;28mrange\u001b[39m(\u001b[38;5;28mself\u001b[39m\u001b[38;5;241m.\u001b[39mconfig\u001b[38;5;241m.\u001b[39mEPOCHS):\n\u001b[1;32m    157\u001b[0m     start_epoch \u001b[38;5;241m=\u001b[39m time()\n\u001b[0;32m--> 159\u001b[0m     train_loss, _ \u001b[38;5;241m=\u001b[39m \u001b[38;5;28;43mself\u001b[39;49m\u001b[38;5;241;43m.\u001b[39;49m\u001b[43m_train_or_valid_epoch\u001b[49m\u001b[43m(\u001b[49m\u001b[43mepoch\u001b[49m\u001b[43m,\u001b[49m\u001b[43m \u001b[49m\u001b[43mtrain_loader\u001b[49m\u001b[43m,\u001b[49m\u001b[43m \u001b[49m\u001b[43mis_train\u001b[49m\u001b[38;5;241;43m=\u001b[39;49m\u001b[38;5;28;43;01mTrue\u001b[39;49;00m\u001b[43m)\u001b[49m\n\u001b[1;32m    160\u001b[0m     valid_loss, valid_preds \u001b[38;5;241m=\u001b[39m \u001b[38;5;28mself\u001b[39m\u001b[38;5;241m.\u001b[39m_train_or_valid_epoch(epoch, valid_loader, is_train\u001b[38;5;241m=\u001b[39m\u001b[38;5;28;01mFalse\u001b[39;00m)\n\u001b[1;32m    162\u001b[0m     loss_records[\u001b[38;5;124m\"\u001b[39m\u001b[38;5;124mtrain\u001b[39m\u001b[38;5;124m\"\u001b[39m]\u001b[38;5;241m.\u001b[39mappend(train_loss)\n",
                        "File \u001b[0;32m~/kaggle_hms/engine_hms_trainer.py:190\u001b[0m, in \u001b[0;36mTrainer._train_or_valid_epoch\u001b[0;34m(self, epoch_id, dataloader, is_train)\u001b[0m\n\u001b[1;32m    188\u001b[0m start \u001b[38;5;241m=\u001b[39m time()\n\u001b[1;32m    189\u001b[0m pbar \u001b[38;5;241m=\u001b[39m tqdm(dataloader, total\u001b[38;5;241m=\u001b[39m\u001b[38;5;28mlen\u001b[39m(dataloader), unit\u001b[38;5;241m=\u001b[39m\u001b[38;5;124m\"\u001b[39m\u001b[38;5;124mbatch\u001b[39m\u001b[38;5;124m\"\u001b[39m, desc\u001b[38;5;241m=\u001b[39m\u001b[38;5;124mf\u001b[39m\u001b[38;5;124m\"\u001b[39m\u001b[38;5;132;01m{\u001b[39;00mmode\u001b[38;5;132;01m}\u001b[39;00m\u001b[38;5;124m [\u001b[39m\u001b[38;5;132;01m{\u001b[39;00mepoch_id\u001b[38;5;132;01m}\u001b[39;00m\u001b[38;5;124m]\u001b[39m\u001b[38;5;124m\"\u001b[39m)\n\u001b[0;32m--> 190\u001b[0m \u001b[43m\u001b[49m\u001b[38;5;28;43;01mfor\u001b[39;49;00m\u001b[43m \u001b[49m\u001b[43mstep\u001b[49m\u001b[43m,\u001b[49m\u001b[43m \u001b[49m\u001b[43m(\u001b[49m\u001b[43mX\u001b[49m\u001b[43m,\u001b[49m\u001b[43m \u001b[49m\u001b[43my\u001b[49m\u001b[43m)\u001b[49m\u001b[43m \u001b[49m\u001b[38;5;129;43;01min\u001b[39;49;00m\u001b[43m \u001b[49m\u001b[38;5;28;43menumerate\u001b[39;49m\u001b[43m(\u001b[49m\u001b[43mpbar\u001b[49m\u001b[43m)\u001b[49m\u001b[43m:\u001b[49m\n\u001b[1;32m    191\u001b[0m \u001b[43m    \u001b[49m\u001b[43mX\u001b[49m\u001b[43m,\u001b[49m\u001b[43m \u001b[49m\u001b[43my\u001b[49m\u001b[43m \u001b[49m\u001b[38;5;241;43m=\u001b[39;49m\u001b[43m \u001b[49m\u001b[43mX\u001b[49m\u001b[38;5;241;43m.\u001b[39;49m\u001b[43mto\u001b[49m\u001b[43m(\u001b[49m\u001b[38;5;28;43mself\u001b[39;49m\u001b[38;5;241;43m.\u001b[39;49m\u001b[43mdevice\u001b[49m\u001b[43m)\u001b[49m\u001b[43m,\u001b[49m\u001b[43m \u001b[49m\u001b[43my\u001b[49m\u001b[38;5;241;43m.\u001b[39;49m\u001b[43mto\u001b[49m\u001b[43m(\u001b[49m\u001b[38;5;28;43mself\u001b[39;49m\u001b[38;5;241;43m.\u001b[39;49m\u001b[43mdevice\u001b[49m\u001b[43m)\u001b[49m\n\u001b[1;32m    193\u001b[0m \u001b[43m    \u001b[49m\u001b[38;5;28;43;01mif\u001b[39;49;00m\u001b[43m \u001b[49m\u001b[43mis_train\u001b[49m\u001b[43m:\u001b[49m\n",
                        "File \u001b[0;32m~/miniconda3/envs/kaggle/lib/python3.11/site-packages/tqdm/notebook.py:250\u001b[0m, in \u001b[0;36mtqdm_notebook.__iter__\u001b[0;34m(self)\u001b[0m\n\u001b[1;32m    248\u001b[0m \u001b[38;5;28;01mtry\u001b[39;00m:\n\u001b[1;32m    249\u001b[0m     it \u001b[38;5;241m=\u001b[39m \u001b[38;5;28msuper\u001b[39m(tqdm_notebook, \u001b[38;5;28mself\u001b[39m)\u001b[38;5;241m.\u001b[39m\u001b[38;5;21m__iter__\u001b[39m()\n\u001b[0;32m--> 250\u001b[0m \u001b[43m    \u001b[49m\u001b[38;5;28;43;01mfor\u001b[39;49;00m\u001b[43m \u001b[49m\u001b[43mobj\u001b[49m\u001b[43m \u001b[49m\u001b[38;5;129;43;01min\u001b[39;49;00m\u001b[43m \u001b[49m\u001b[43mit\u001b[49m\u001b[43m:\u001b[49m\n\u001b[1;32m    251\u001b[0m \u001b[43m        \u001b[49m\u001b[38;5;66;43;03m# return super(tqdm...) will not catch exception\u001b[39;49;00m\n\u001b[1;32m    252\u001b[0m \u001b[43m        \u001b[49m\u001b[38;5;28;43;01myield\u001b[39;49;00m\u001b[43m \u001b[49m\u001b[43mobj\u001b[49m\n\u001b[1;32m    253\u001b[0m \u001b[38;5;66;03m# NB: except ... [ as ...] breaks IPython async KeyboardInterrupt\u001b[39;00m\n",
                        "File \u001b[0;32m~/miniconda3/envs/kaggle/lib/python3.11/site-packages/tqdm/std.py:1181\u001b[0m, in \u001b[0;36mtqdm.__iter__\u001b[0;34m(self)\u001b[0m\n\u001b[1;32m   1178\u001b[0m time \u001b[38;5;241m=\u001b[39m \u001b[38;5;28mself\u001b[39m\u001b[38;5;241m.\u001b[39m_time\n\u001b[1;32m   1180\u001b[0m \u001b[38;5;28;01mtry\u001b[39;00m:\n\u001b[0;32m-> 1181\u001b[0m \u001b[43m    \u001b[49m\u001b[38;5;28;43;01mfor\u001b[39;49;00m\u001b[43m \u001b[49m\u001b[43mobj\u001b[49m\u001b[43m \u001b[49m\u001b[38;5;129;43;01min\u001b[39;49;00m\u001b[43m \u001b[49m\u001b[43miterable\u001b[49m\u001b[43m:\u001b[49m\n\u001b[1;32m   1182\u001b[0m \u001b[43m        \u001b[49m\u001b[38;5;28;43;01myield\u001b[39;49;00m\u001b[43m \u001b[49m\u001b[43mobj\u001b[49m\n\u001b[1;32m   1183\u001b[0m \u001b[43m        \u001b[49m\u001b[38;5;66;43;03m# Update and possibly print the progressbar.\u001b[39;49;00m\n\u001b[1;32m   1184\u001b[0m \u001b[43m        \u001b[49m\u001b[38;5;66;43;03m# Note: does not call self.update(1) for speed optimisation.\u001b[39;49;00m\n",
                        "File \u001b[0;32m~/miniconda3/envs/kaggle/lib/python3.11/site-packages/torch/utils/data/dataloader.py:631\u001b[0m, in \u001b[0;36m_BaseDataLoaderIter.__next__\u001b[0;34m(self)\u001b[0m\n\u001b[1;32m    628\u001b[0m \u001b[38;5;28;01mif\u001b[39;00m \u001b[38;5;28mself\u001b[39m\u001b[38;5;241m.\u001b[39m_sampler_iter \u001b[38;5;129;01mis\u001b[39;00m \u001b[38;5;28;01mNone\u001b[39;00m:\n\u001b[1;32m    629\u001b[0m     \u001b[38;5;66;03m# TODO(https://github.com/pytorch/pytorch/issues/76750)\u001b[39;00m\n\u001b[1;32m    630\u001b[0m     \u001b[38;5;28mself\u001b[39m\u001b[38;5;241m.\u001b[39m_reset()  \u001b[38;5;66;03m# type: ignore[call-arg]\u001b[39;00m\n\u001b[0;32m--> 631\u001b[0m data \u001b[38;5;241m=\u001b[39m \u001b[38;5;28;43mself\u001b[39;49m\u001b[38;5;241;43m.\u001b[39;49m\u001b[43m_next_data\u001b[49m\u001b[43m(\u001b[49m\u001b[43m)\u001b[49m\n\u001b[1;32m    632\u001b[0m \u001b[38;5;28mself\u001b[39m\u001b[38;5;241m.\u001b[39m_num_yielded \u001b[38;5;241m+\u001b[39m\u001b[38;5;241m=\u001b[39m \u001b[38;5;241m1\u001b[39m\n\u001b[1;32m    633\u001b[0m \u001b[38;5;28;01mif\u001b[39;00m \u001b[38;5;28mself\u001b[39m\u001b[38;5;241m.\u001b[39m_dataset_kind \u001b[38;5;241m==\u001b[39m _DatasetKind\u001b[38;5;241m.\u001b[39mIterable \u001b[38;5;129;01mand\u001b[39;00m \\\n\u001b[1;32m    634\u001b[0m         \u001b[38;5;28mself\u001b[39m\u001b[38;5;241m.\u001b[39m_IterableDataset_len_called \u001b[38;5;129;01mis\u001b[39;00m \u001b[38;5;129;01mnot\u001b[39;00m \u001b[38;5;28;01mNone\u001b[39;00m \u001b[38;5;129;01mand\u001b[39;00m \\\n\u001b[1;32m    635\u001b[0m         \u001b[38;5;28mself\u001b[39m\u001b[38;5;241m.\u001b[39m_num_yielded \u001b[38;5;241m>\u001b[39m \u001b[38;5;28mself\u001b[39m\u001b[38;5;241m.\u001b[39m_IterableDataset_len_called:\n",
                        "File \u001b[0;32m~/miniconda3/envs/kaggle/lib/python3.11/site-packages/torch/utils/data/dataloader.py:675\u001b[0m, in \u001b[0;36m_SingleProcessDataLoaderIter._next_data\u001b[0;34m(self)\u001b[0m\n\u001b[1;32m    673\u001b[0m \u001b[38;5;28;01mdef\u001b[39;00m \u001b[38;5;21m_next_data\u001b[39m(\u001b[38;5;28mself\u001b[39m):\n\u001b[1;32m    674\u001b[0m     index \u001b[38;5;241m=\u001b[39m \u001b[38;5;28mself\u001b[39m\u001b[38;5;241m.\u001b[39m_next_index()  \u001b[38;5;66;03m# may raise StopIteration\u001b[39;00m\n\u001b[0;32m--> 675\u001b[0m     data \u001b[38;5;241m=\u001b[39m \u001b[38;5;28;43mself\u001b[39;49m\u001b[38;5;241;43m.\u001b[39;49m\u001b[43m_dataset_fetcher\u001b[49m\u001b[38;5;241;43m.\u001b[39;49m\u001b[43mfetch\u001b[49m\u001b[43m(\u001b[49m\u001b[43mindex\u001b[49m\u001b[43m)\u001b[49m  \u001b[38;5;66;03m# may raise StopIteration\u001b[39;00m\n\u001b[1;32m    676\u001b[0m     \u001b[38;5;28;01mif\u001b[39;00m \u001b[38;5;28mself\u001b[39m\u001b[38;5;241m.\u001b[39m_pin_memory:\n\u001b[1;32m    677\u001b[0m         data \u001b[38;5;241m=\u001b[39m _utils\u001b[38;5;241m.\u001b[39mpin_memory\u001b[38;5;241m.\u001b[39mpin_memory(data, \u001b[38;5;28mself\u001b[39m\u001b[38;5;241m.\u001b[39m_pin_memory_device)\n",
                        "File \u001b[0;32m~/miniconda3/envs/kaggle/lib/python3.11/site-packages/torch/utils/data/_utils/fetch.py:51\u001b[0m, in \u001b[0;36m_MapDatasetFetcher.fetch\u001b[0;34m(self, possibly_batched_index)\u001b[0m\n\u001b[1;32m     49\u001b[0m         data \u001b[38;5;241m=\u001b[39m \u001b[38;5;28mself\u001b[39m\u001b[38;5;241m.\u001b[39mdataset\u001b[38;5;241m.\u001b[39m__getitems__(possibly_batched_index)\n\u001b[1;32m     50\u001b[0m     \u001b[38;5;28;01melse\u001b[39;00m:\n\u001b[0;32m---> 51\u001b[0m         data \u001b[38;5;241m=\u001b[39m \u001b[43m[\u001b[49m\u001b[38;5;28;43mself\u001b[39;49m\u001b[38;5;241;43m.\u001b[39;49m\u001b[43mdataset\u001b[49m\u001b[43m[\u001b[49m\u001b[43midx\u001b[49m\u001b[43m]\u001b[49m\u001b[43m \u001b[49m\u001b[38;5;28;43;01mfor\u001b[39;49;00m\u001b[43m \u001b[49m\u001b[43midx\u001b[49m\u001b[43m \u001b[49m\u001b[38;5;129;43;01min\u001b[39;49;00m\u001b[43m \u001b[49m\u001b[43mpossibly_batched_index\u001b[49m\u001b[43m]\u001b[49m\n\u001b[1;32m     52\u001b[0m \u001b[38;5;28;01melse\u001b[39;00m:\n\u001b[1;32m     53\u001b[0m     data \u001b[38;5;241m=\u001b[39m \u001b[38;5;28mself\u001b[39m\u001b[38;5;241m.\u001b[39mdataset[possibly_batched_index]\n",
                        "File \u001b[0;32m~/miniconda3/envs/kaggle/lib/python3.11/site-packages/torch/utils/data/_utils/fetch.py:51\u001b[0m, in \u001b[0;36m<listcomp>\u001b[0;34m(.0)\u001b[0m\n\u001b[1;32m     49\u001b[0m         data \u001b[38;5;241m=\u001b[39m \u001b[38;5;28mself\u001b[39m\u001b[38;5;241m.\u001b[39mdataset\u001b[38;5;241m.\u001b[39m__getitems__(possibly_batched_index)\n\u001b[1;32m     50\u001b[0m     \u001b[38;5;28;01melse\u001b[39;00m:\n\u001b[0;32m---> 51\u001b[0m         data \u001b[38;5;241m=\u001b[39m [\u001b[38;5;28;43mself\u001b[39;49m\u001b[38;5;241;43m.\u001b[39;49m\u001b[43mdataset\u001b[49m\u001b[43m[\u001b[49m\u001b[43midx\u001b[49m\u001b[43m]\u001b[49m \u001b[38;5;28;01mfor\u001b[39;00m idx \u001b[38;5;129;01min\u001b[39;00m possibly_batched_index]\n\u001b[1;32m     52\u001b[0m \u001b[38;5;28;01melse\u001b[39;00m:\n\u001b[1;32m     53\u001b[0m     data \u001b[38;5;241m=\u001b[39m \u001b[38;5;28mself\u001b[39m\u001b[38;5;241m.\u001b[39mdataset[possibly_batched_index]\n",
                        "File \u001b[0;32m~/kaggle_hms/engine_hms_model.py:232\u001b[0m, in \u001b[0;36mCustomDataset.__getitem__\u001b[0;34m(self, index)\u001b[0m\n\u001b[1;32m    230\u001b[0m \u001b[38;5;28;01mdef\u001b[39;00m \u001b[38;5;21m__getitem__\u001b[39m(\u001b[38;5;28mself\u001b[39m, index):\n\u001b[0;32m--> 232\u001b[0m     X, y \u001b[38;5;241m=\u001b[39m \u001b[38;5;28;43mself\u001b[39;49m\u001b[38;5;241;43m.\u001b[39;49m\u001b[43m__data_generation\u001b[49m\u001b[43m(\u001b[49m\u001b[43mindex\u001b[49m\u001b[43m)\u001b[49m\n\u001b[1;32m    234\u001b[0m     \u001b[38;5;28;01mif\u001b[39;00m \u001b[38;5;28mself\u001b[39m\u001b[38;5;241m.\u001b[39mmode \u001b[38;5;241m==\u001b[39m \u001b[38;5;124m'\u001b[39m\u001b[38;5;124mtrain\u001b[39m\u001b[38;5;124m'\u001b[39m \u001b[38;5;129;01mand\u001b[39;00m \u001b[38;5;28mself\u001b[39m\u001b[38;5;241m.\u001b[39mconfig\u001b[38;5;241m.\u001b[39mAUGMENT:\n\u001b[1;32m    235\u001b[0m         X, y \u001b[38;5;241m=\u001b[39m \u001b[38;5;28mself\u001b[39m\u001b[38;5;241m.\u001b[39m__transform(X, y)\n",
                        "File \u001b[0;32m~/kaggle_hms/engine_hms_model.py:253\u001b[0m, in \u001b[0;36mCustomDataset.__data_generation\u001b[0;34m(self, index)\u001b[0m\n\u001b[1;32m    250\u001b[0m img \u001b[38;5;241m=\u001b[39m np\u001b[38;5;241m.\u001b[39mzeros((\u001b[38;5;241m128\u001b[39m, \u001b[38;5;241m256\u001b[39m), dtype\u001b[38;5;241m=\u001b[39m\u001b[38;5;124m'\u001b[39m\u001b[38;5;124mfloat32\u001b[39m\u001b[38;5;124m'\u001b[39m)\n\u001b[1;32m    252\u001b[0m spectrogram \u001b[38;5;241m=\u001b[39m \u001b[38;5;28mself\u001b[39m\u001b[38;5;241m.\u001b[39mspectrograms[row[\u001b[38;5;124m'\u001b[39m\u001b[38;5;124mspectrogram_id\u001b[39m\u001b[38;5;124m'\u001b[39m]][r:r\u001b[38;5;241m+\u001b[39m\u001b[38;5;241m300\u001b[39m, region\u001b[38;5;241m*\u001b[39m\u001b[38;5;241m100\u001b[39m:(region\u001b[38;5;241m+\u001b[39m\u001b[38;5;241m1\u001b[39m)\u001b[38;5;241m*\u001b[39m\u001b[38;5;241m100\u001b[39m]\u001b[38;5;241m.\u001b[39mT\n\u001b[0;32m--> 253\u001b[0m spectrogram \u001b[38;5;241m=\u001b[39m \u001b[43mtransform_spectrogram\u001b[49m\u001b[43m(\u001b[49m\u001b[43mspectrogram\u001b[49m\u001b[43m)\u001b[49m\n\u001b[1;32m    255\u001b[0m img[\u001b[38;5;241m14\u001b[39m:\u001b[38;5;241m-\u001b[39m\u001b[38;5;241m14\u001b[39m, :] \u001b[38;5;241m=\u001b[39m spectrogram[:, \u001b[38;5;241m22\u001b[39m:\u001b[38;5;241m-\u001b[39m\u001b[38;5;241m22\u001b[39m] \u001b[38;5;241m/\u001b[39m \u001b[38;5;241m2.0\u001b[39m\n\u001b[1;32m    256\u001b[0m img_list\u001b[38;5;241m.\u001b[39mappend(img)\n",
                        "File \u001b[0;32m~/kaggle_hms/engine_hms_model.py:198\u001b[0m, in \u001b[0;36mtransform_spectrogram\u001b[0;34m(spectrogram)\u001b[0m\n\u001b[1;32m    196\u001b[0m ep \u001b[38;5;241m=\u001b[39m \u001b[38;5;241m1e-6\u001b[39m\n\u001b[1;32m    197\u001b[0m mu \u001b[38;5;241m=\u001b[39m np\u001b[38;5;241m.\u001b[39mnanmean(spectrogram\u001b[38;5;241m.\u001b[39mflatten())\n\u001b[0;32m--> 198\u001b[0m std \u001b[38;5;241m=\u001b[39m \u001b[43mnp\u001b[49m\u001b[38;5;241;43m.\u001b[39;49m\u001b[43mnanstd\u001b[49m\u001b[43m(\u001b[49m\u001b[43mspectrogram\u001b[49m\u001b[38;5;241;43m.\u001b[39;49m\u001b[43mflatten\u001b[49m\u001b[43m(\u001b[49m\u001b[43m)\u001b[49m\u001b[43m)\u001b[49m\n\u001b[1;32m    199\u001b[0m spectrogram \u001b[38;5;241m=\u001b[39m (spectrogram\u001b[38;5;241m-\u001b[39mmu) \u001b[38;5;241m/\u001b[39m (std\u001b[38;5;241m+\u001b[39mep)\n\u001b[1;32m    200\u001b[0m spectrogram \u001b[38;5;241m=\u001b[39m np\u001b[38;5;241m.\u001b[39mnan_to_num(spectrogram, nan\u001b[38;5;241m=\u001b[39m\u001b[38;5;241m0.0\u001b[39m)\n",
                        "File \u001b[0;32m~/miniconda3/envs/kaggle/lib/python3.11/site-packages/numpy/lib/nanfunctions.py:1879\u001b[0m, in \u001b[0;36mnanstd\u001b[0;34m(a, axis, dtype, out, ddof, keepdims, where)\u001b[0m\n\u001b[1;32m   1778\u001b[0m \u001b[38;5;129m@array_function_dispatch\u001b[39m(_nanstd_dispatcher)\n\u001b[1;32m   1779\u001b[0m \u001b[38;5;28;01mdef\u001b[39;00m \u001b[38;5;21mnanstd\u001b[39m(a, axis\u001b[38;5;241m=\u001b[39m\u001b[38;5;28;01mNone\u001b[39;00m, dtype\u001b[38;5;241m=\u001b[39m\u001b[38;5;28;01mNone\u001b[39;00m, out\u001b[38;5;241m=\u001b[39m\u001b[38;5;28;01mNone\u001b[39;00m, ddof\u001b[38;5;241m=\u001b[39m\u001b[38;5;241m0\u001b[39m, keepdims\u001b[38;5;241m=\u001b[39mnp\u001b[38;5;241m.\u001b[39m_NoValue,\n\u001b[1;32m   1780\u001b[0m            \u001b[38;5;241m*\u001b[39m, where\u001b[38;5;241m=\u001b[39mnp\u001b[38;5;241m.\u001b[39m_NoValue):\n\u001b[1;32m   1781\u001b[0m \u001b[38;5;250m    \u001b[39m\u001b[38;5;124;03m\"\"\"\u001b[39;00m\n\u001b[1;32m   1782\u001b[0m \u001b[38;5;124;03m    Compute the standard deviation along the specified axis, while\u001b[39;00m\n\u001b[1;32m   1783\u001b[0m \u001b[38;5;124;03m    ignoring NaNs.\u001b[39;00m\n\u001b[0;32m   (...)\u001b[0m\n\u001b[1;32m   1877\u001b[0m \n\u001b[1;32m   1878\u001b[0m \u001b[38;5;124;03m    \"\"\"\u001b[39;00m\n\u001b[0;32m-> 1879\u001b[0m     var \u001b[38;5;241m=\u001b[39m \u001b[43mnanvar\u001b[49m\u001b[43m(\u001b[49m\u001b[43ma\u001b[49m\u001b[43m,\u001b[49m\u001b[43m \u001b[49m\u001b[43maxis\u001b[49m\u001b[38;5;241;43m=\u001b[39;49m\u001b[43maxis\u001b[49m\u001b[43m,\u001b[49m\u001b[43m \u001b[49m\u001b[43mdtype\u001b[49m\u001b[38;5;241;43m=\u001b[39;49m\u001b[43mdtype\u001b[49m\u001b[43m,\u001b[49m\u001b[43m \u001b[49m\u001b[43mout\u001b[49m\u001b[38;5;241;43m=\u001b[39;49m\u001b[43mout\u001b[49m\u001b[43m,\u001b[49m\u001b[43m \u001b[49m\u001b[43mddof\u001b[49m\u001b[38;5;241;43m=\u001b[39;49m\u001b[43mddof\u001b[49m\u001b[43m,\u001b[49m\n\u001b[1;32m   1880\u001b[0m \u001b[43m                 \u001b[49m\u001b[43mkeepdims\u001b[49m\u001b[38;5;241;43m=\u001b[39;49m\u001b[43mkeepdims\u001b[49m\u001b[43m,\u001b[49m\u001b[43m \u001b[49m\u001b[43mwhere\u001b[49m\u001b[38;5;241;43m=\u001b[39;49m\u001b[43mwhere\u001b[49m\u001b[43m)\u001b[49m\n\u001b[1;32m   1881\u001b[0m     \u001b[38;5;28;01mif\u001b[39;00m \u001b[38;5;28misinstance\u001b[39m(var, np\u001b[38;5;241m.\u001b[39mndarray):\n\u001b[1;32m   1882\u001b[0m         std \u001b[38;5;241m=\u001b[39m np\u001b[38;5;241m.\u001b[39msqrt(var, out\u001b[38;5;241m=\u001b[39mvar)\n",
                        "File \u001b[0;32m~/miniconda3/envs/kaggle/lib/python3.11/site-packages/numpy/lib/nanfunctions.py:1713\u001b[0m, in \u001b[0;36mnanvar\u001b[0;34m(a, axis, dtype, out, ddof, keepdims, where)\u001b[0m\n\u001b[1;32m   1617\u001b[0m \u001b[38;5;129m@array_function_dispatch\u001b[39m(_nanvar_dispatcher)\n\u001b[1;32m   1618\u001b[0m \u001b[38;5;28;01mdef\u001b[39;00m \u001b[38;5;21mnanvar\u001b[39m(a, axis\u001b[38;5;241m=\u001b[39m\u001b[38;5;28;01mNone\u001b[39;00m, dtype\u001b[38;5;241m=\u001b[39m\u001b[38;5;28;01mNone\u001b[39;00m, out\u001b[38;5;241m=\u001b[39m\u001b[38;5;28;01mNone\u001b[39;00m, ddof\u001b[38;5;241m=\u001b[39m\u001b[38;5;241m0\u001b[39m, keepdims\u001b[38;5;241m=\u001b[39mnp\u001b[38;5;241m.\u001b[39m_NoValue,\n\u001b[1;32m   1619\u001b[0m            \u001b[38;5;241m*\u001b[39m, where\u001b[38;5;241m=\u001b[39mnp\u001b[38;5;241m.\u001b[39m_NoValue):\n\u001b[1;32m   1620\u001b[0m \u001b[38;5;250m    \u001b[39m\u001b[38;5;124;03m\"\"\"\u001b[39;00m\n\u001b[1;32m   1621\u001b[0m \u001b[38;5;124;03m    Compute the variance along the specified axis, while ignoring NaNs.\u001b[39;00m\n\u001b[1;32m   1622\u001b[0m \n\u001b[0;32m   (...)\u001b[0m\n\u001b[1;32m   1711\u001b[0m \n\u001b[1;32m   1712\u001b[0m \u001b[38;5;124;03m    \"\"\"\u001b[39;00m\n\u001b[0;32m-> 1713\u001b[0m     arr, mask \u001b[38;5;241m=\u001b[39m \u001b[43m_replace_nan\u001b[49m\u001b[43m(\u001b[49m\u001b[43ma\u001b[49m\u001b[43m,\u001b[49m\u001b[43m \u001b[49m\u001b[38;5;241;43m0\u001b[39;49m\u001b[43m)\u001b[49m\n\u001b[1;32m   1714\u001b[0m     \u001b[38;5;28;01mif\u001b[39;00m mask \u001b[38;5;129;01mis\u001b[39;00m \u001b[38;5;28;01mNone\u001b[39;00m:\n\u001b[1;32m   1715\u001b[0m         \u001b[38;5;28;01mreturn\u001b[39;00m np\u001b[38;5;241m.\u001b[39mvar(arr, axis\u001b[38;5;241m=\u001b[39maxis, dtype\u001b[38;5;241m=\u001b[39mdtype, out\u001b[38;5;241m=\u001b[39mout, ddof\u001b[38;5;241m=\u001b[39mddof,\n\u001b[1;32m   1716\u001b[0m                       keepdims\u001b[38;5;241m=\u001b[39mkeepdims, where\u001b[38;5;241m=\u001b[39mwhere)\n",
                        "File \u001b[0;32m~/miniconda3/envs/kaggle/lib/python3.11/site-packages/numpy/lib/nanfunctions.py:108\u001b[0m, in \u001b[0;36m_replace_nan\u001b[0;34m(a, val)\u001b[0m\n\u001b[1;32m    106\u001b[0m \u001b[38;5;28;01mif\u001b[39;00m mask \u001b[38;5;129;01mis\u001b[39;00m \u001b[38;5;129;01mnot\u001b[39;00m \u001b[38;5;28;01mNone\u001b[39;00m:\n\u001b[1;32m    107\u001b[0m     a \u001b[38;5;241m=\u001b[39m np\u001b[38;5;241m.\u001b[39marray(a, subok\u001b[38;5;241m=\u001b[39m\u001b[38;5;28;01mTrue\u001b[39;00m, copy\u001b[38;5;241m=\u001b[39m\u001b[38;5;28;01mTrue\u001b[39;00m)\n\u001b[0;32m--> 108\u001b[0m     \u001b[43mnp\u001b[49m\u001b[38;5;241;43m.\u001b[39;49m\u001b[43mcopyto\u001b[49m\u001b[43m(\u001b[49m\u001b[43ma\u001b[49m\u001b[43m,\u001b[49m\u001b[43m \u001b[49m\u001b[43mval\u001b[49m\u001b[43m,\u001b[49m\u001b[43m \u001b[49m\u001b[43mwhere\u001b[49m\u001b[38;5;241;43m=\u001b[39;49m\u001b[43mmask\u001b[49m\u001b[43m)\u001b[49m\n\u001b[1;32m    110\u001b[0m \u001b[38;5;28;01mreturn\u001b[39;00m a, mask\n",
                        "\u001b[0;31mKeyboardInterrupt\u001b[0m: "
                    ]
                }
            ],
            "source": [
                "hms_predictor.train_model(train_easy, train_hard, all_specs, all_eegs)"
            ]
        },
        {
            "cell_type": "code",
            "execution_count": 11,
            "metadata": {},
            "outputs": [
                {
                    "data": {
                        "text/html": [
                            "<div>\n",
                            "<style scoped>\n",
                            "    .dataframe tbody tr th:only-of-type {\n",
                            "        vertical-align: middle;\n",
                            "    }\n",
                            "\n",
                            "    .dataframe tbody tr th {\n",
                            "        vertical-align: top;\n",
                            "    }\n",
                            "\n",
                            "    .dataframe thead th {\n",
                            "        text-align: right;\n",
                            "    }\n",
                            "</style>\n",
                            "<table border=\"1\" class=\"dataframe\">\n",
                            "  <thead>\n",
                            "    <tr style=\"text-align: right;\">\n",
                            "      <th></th>\n",
                            "      <th>eeg_id</th>\n",
                            "      <th>seizure_vote</th>\n",
                            "      <th>lpd_vote</th>\n",
                            "      <th>gpd_vote</th>\n",
                            "      <th>lrda_vote</th>\n",
                            "      <th>grda_vote</th>\n",
                            "      <th>other_vote</th>\n",
                            "      <th>spectrogram_id</th>\n",
                            "      <th>min</th>\n",
                            "      <th>max</th>\n",
                            "      <th>patient_id</th>\n",
                            "      <th>target</th>\n",
                            "      <th>fold</th>\n",
                            "      <th>easy_or_hard</th>\n",
                            "      <th>seizure_pred</th>\n",
                            "      <th>lpd_pred</th>\n",
                            "      <th>gpd_pred</th>\n",
                            "      <th>lrda_pred</th>\n",
                            "      <th>grda_pred</th>\n",
                            "      <th>other_pred</th>\n",
                            "    </tr>\n",
                            "  </thead>\n",
                            "  <tbody>\n",
                            "    <tr>\n",
                            "      <th>6867</th>\n",
                            "      <td>645361232</td>\n",
                            "      <td>0.000000</td>\n",
                            "      <td>0.000000</td>\n",
                            "      <td>0.000</td>\n",
                            "      <td>0.000000</td>\n",
                            "      <td>0.0000</td>\n",
                            "      <td>1.000000</td>\n",
                            "      <td>48279765</td>\n",
                            "      <td>0.0</td>\n",
                            "      <td>0.0</td>\n",
                            "      <td>28415</td>\n",
                            "      <td>Other</td>\n",
                            "      <td>1</td>\n",
                            "      <td>easy</td>\n",
                            "      <td>NaN</td>\n",
                            "      <td>NaN</td>\n",
                            "      <td>NaN</td>\n",
                            "      <td>NaN</td>\n",
                            "      <td>NaN</td>\n",
                            "      <td>NaN</td>\n",
                            "    </tr>\n",
                            "    <tr>\n",
                            "      <th>6868</th>\n",
                            "      <td>645492748</td>\n",
                            "      <td>0.000000</td>\n",
                            "      <td>0.000000</td>\n",
                            "      <td>0.000</td>\n",
                            "      <td>0.000000</td>\n",
                            "      <td>0.0000</td>\n",
                            "      <td>1.000000</td>\n",
                            "      <td>2089310044</td>\n",
                            "      <td>774.0</td>\n",
                            "      <td>774.0</td>\n",
                            "      <td>61174</td>\n",
                            "      <td>Other</td>\n",
                            "      <td>1</td>\n",
                            "      <td>easy</td>\n",
                            "      <td>NaN</td>\n",
                            "      <td>NaN</td>\n",
                            "      <td>NaN</td>\n",
                            "      <td>NaN</td>\n",
                            "      <td>NaN</td>\n",
                            "      <td>NaN</td>\n",
                            "    </tr>\n",
                            "    <tr>\n",
                            "      <th>6869</th>\n",
                            "      <td>645544044</td>\n",
                            "      <td>1.000000</td>\n",
                            "      <td>0.000000</td>\n",
                            "      <td>0.000</td>\n",
                            "      <td>0.000000</td>\n",
                            "      <td>0.0000</td>\n",
                            "      <td>0.000000</td>\n",
                            "      <td>2041731724</td>\n",
                            "      <td>0.0</td>\n",
                            "      <td>34.0</td>\n",
                            "      <td>14297</td>\n",
                            "      <td>Seizure</td>\n",
                            "      <td>1</td>\n",
                            "      <td>easy</td>\n",
                            "      <td>NaN</td>\n",
                            "      <td>NaN</td>\n",
                            "      <td>NaN</td>\n",
                            "      <td>NaN</td>\n",
                            "      <td>NaN</td>\n",
                            "      <td>NaN</td>\n",
                            "    </tr>\n",
                            "    <tr>\n",
                            "      <th>6870</th>\n",
                            "      <td>645934941</td>\n",
                            "      <td>0.000000</td>\n",
                            "      <td>0.000000</td>\n",
                            "      <td>0.000</td>\n",
                            "      <td>0.000000</td>\n",
                            "      <td>0.0000</td>\n",
                            "      <td>1.000000</td>\n",
                            "      <td>997872679</td>\n",
                            "      <td>296.0</td>\n",
                            "      <td>346.0</td>\n",
                            "      <td>11154</td>\n",
                            "      <td>Other</td>\n",
                            "      <td>1</td>\n",
                            "      <td>easy</td>\n",
                            "      <td>NaN</td>\n",
                            "      <td>NaN</td>\n",
                            "      <td>NaN</td>\n",
                            "      <td>NaN</td>\n",
                            "      <td>NaN</td>\n",
                            "      <td>NaN</td>\n",
                            "    </tr>\n",
                            "    <tr>\n",
                            "      <th>6871</th>\n",
                            "      <td>646148494</td>\n",
                            "      <td>0.000000</td>\n",
                            "      <td>1.000000</td>\n",
                            "      <td>0.000</td>\n",
                            "      <td>0.000000</td>\n",
                            "      <td>0.0000</td>\n",
                            "      <td>0.000000</td>\n",
                            "      <td>1871919869</td>\n",
                            "      <td>428.0</td>\n",
                            "      <td>428.0</td>\n",
                            "      <td>2641</td>\n",
                            "      <td>LPD</td>\n",
                            "      <td>1</td>\n",
                            "      <td>easy</td>\n",
                            "      <td>NaN</td>\n",
                            "      <td>NaN</td>\n",
                            "      <td>NaN</td>\n",
                            "      <td>NaN</td>\n",
                            "      <td>NaN</td>\n",
                            "      <td>NaN</td>\n",
                            "    </tr>\n",
                            "    <tr>\n",
                            "      <th>...</th>\n",
                            "      <td>...</td>\n",
                            "      <td>...</td>\n",
                            "      <td>...</td>\n",
                            "      <td>...</td>\n",
                            "      <td>...</td>\n",
                            "      <td>...</td>\n",
                            "      <td>...</td>\n",
                            "      <td>...</td>\n",
                            "      <td>...</td>\n",
                            "      <td>...</td>\n",
                            "      <td>...</td>\n",
                            "      <td>...</td>\n",
                            "      <td>...</td>\n",
                            "      <td>...</td>\n",
                            "      <td>...</td>\n",
                            "      <td>...</td>\n",
                            "      <td>...</td>\n",
                            "      <td>...</td>\n",
                            "      <td>...</td>\n",
                            "      <td>...</td>\n",
                            "    </tr>\n",
                            "    <tr>\n",
                            "      <th>11058</th>\n",
                            "      <td>4244523369</td>\n",
                            "      <td>0.000000</td>\n",
                            "      <td>0.250000</td>\n",
                            "      <td>0.625</td>\n",
                            "      <td>0.000000</td>\n",
                            "      <td>0.0000</td>\n",
                            "      <td>0.125000</td>\n",
                            "      <td>1740857415</td>\n",
                            "      <td>728.0</td>\n",
                            "      <td>768.0</td>\n",
                            "      <td>35627</td>\n",
                            "      <td>GPD</td>\n",
                            "      <td>1</td>\n",
                            "      <td>hard</td>\n",
                            "      <td>NaN</td>\n",
                            "      <td>NaN</td>\n",
                            "      <td>NaN</td>\n",
                            "      <td>NaN</td>\n",
                            "      <td>NaN</td>\n",
                            "      <td>NaN</td>\n",
                            "    </tr>\n",
                            "    <tr>\n",
                            "      <th>11059</th>\n",
                            "      <td>4244523369</td>\n",
                            "      <td>0.333333</td>\n",
                            "      <td>0.000000</td>\n",
                            "      <td>0.000</td>\n",
                            "      <td>0.333333</td>\n",
                            "      <td>0.0000</td>\n",
                            "      <td>0.333333</td>\n",
                            "      <td>1740857415</td>\n",
                            "      <td>624.0</td>\n",
                            "      <td>648.0</td>\n",
                            "      <td>35627</td>\n",
                            "      <td>Seizure</td>\n",
                            "      <td>1</td>\n",
                            "      <td>hard</td>\n",
                            "      <td>NaN</td>\n",
                            "      <td>NaN</td>\n",
                            "      <td>NaN</td>\n",
                            "      <td>NaN</td>\n",
                            "      <td>NaN</td>\n",
                            "      <td>NaN</td>\n",
                            "    </tr>\n",
                            "    <tr>\n",
                            "      <th>11060</th>\n",
                            "      <td>4270940368</td>\n",
                            "      <td>0.000000</td>\n",
                            "      <td>0.214286</td>\n",
                            "      <td>0.000</td>\n",
                            "      <td>0.000000</td>\n",
                            "      <td>0.0000</td>\n",
                            "      <td>0.785714</td>\n",
                            "      <td>1305056139</td>\n",
                            "      <td>142.0</td>\n",
                            "      <td>142.0</td>\n",
                            "      <td>54113</td>\n",
                            "      <td>Other</td>\n",
                            "      <td>1</td>\n",
                            "      <td>hard</td>\n",
                            "      <td>NaN</td>\n",
                            "      <td>NaN</td>\n",
                            "      <td>NaN</td>\n",
                            "      <td>NaN</td>\n",
                            "      <td>NaN</td>\n",
                            "      <td>NaN</td>\n",
                            "    </tr>\n",
                            "    <tr>\n",
                            "      <th>11061</th>\n",
                            "      <td>4271864856</td>\n",
                            "      <td>0.000000</td>\n",
                            "      <td>0.307692</td>\n",
                            "      <td>0.000</td>\n",
                            "      <td>0.000000</td>\n",
                            "      <td>0.0000</td>\n",
                            "      <td>0.692308</td>\n",
                            "      <td>1407693286</td>\n",
                            "      <td>0.0</td>\n",
                            "      <td>0.0</td>\n",
                            "      <td>23369</td>\n",
                            "      <td>Other</td>\n",
                            "      <td>1</td>\n",
                            "      <td>hard</td>\n",
                            "      <td>NaN</td>\n",
                            "      <td>NaN</td>\n",
                            "      <td>NaN</td>\n",
                            "      <td>NaN</td>\n",
                            "      <td>NaN</td>\n",
                            "      <td>NaN</td>\n",
                            "    </tr>\n",
                            "    <tr>\n",
                            "      <th>11062</th>\n",
                            "      <td>4285859110</td>\n",
                            "      <td>0.000000</td>\n",
                            "      <td>0.000000</td>\n",
                            "      <td>0.000</td>\n",
                            "      <td>0.000000</td>\n",
                            "      <td>0.4375</td>\n",
                            "      <td>0.562500</td>\n",
                            "      <td>528052087</td>\n",
                            "      <td>354.0</td>\n",
                            "      <td>354.0</td>\n",
                            "      <td>64704</td>\n",
                            "      <td>Other</td>\n",
                            "      <td>1</td>\n",
                            "      <td>hard</td>\n",
                            "      <td>NaN</td>\n",
                            "      <td>NaN</td>\n",
                            "      <td>NaN</td>\n",
                            "      <td>NaN</td>\n",
                            "      <td>NaN</td>\n",
                            "      <td>NaN</td>\n",
                            "    </tr>\n",
                            "  </tbody>\n",
                            "</table>\n",
                            "<p>4196 rows × 20 columns</p>\n",
                            "</div>"
                        ],
                        "text/plain": [
                            "           eeg_id  seizure_vote  lpd_vote  gpd_vote  lrda_vote  grda_vote  \\\n",
                            "6867    645361232      0.000000  0.000000     0.000   0.000000     0.0000   \n",
                            "6868    645492748      0.000000  0.000000     0.000   0.000000     0.0000   \n",
                            "6869    645544044      1.000000  0.000000     0.000   0.000000     0.0000   \n",
                            "6870    645934941      0.000000  0.000000     0.000   0.000000     0.0000   \n",
                            "6871    646148494      0.000000  1.000000     0.000   0.000000     0.0000   \n",
                            "...           ...           ...       ...       ...        ...        ...   \n",
                            "11058  4244523369      0.000000  0.250000     0.625   0.000000     0.0000   \n",
                            "11059  4244523369      0.333333  0.000000     0.000   0.333333     0.0000   \n",
                            "11060  4270940368      0.000000  0.214286     0.000   0.000000     0.0000   \n",
                            "11061  4271864856      0.000000  0.307692     0.000   0.000000     0.0000   \n",
                            "11062  4285859110      0.000000  0.000000     0.000   0.000000     0.4375   \n",
                            "\n",
                            "       other_vote  spectrogram_id    min    max  patient_id   target  fold  \\\n",
                            "6867     1.000000        48279765    0.0    0.0       28415    Other     1   \n",
                            "6868     1.000000      2089310044  774.0  774.0       61174    Other     1   \n",
                            "6869     0.000000      2041731724    0.0   34.0       14297  Seizure     1   \n",
                            "6870     1.000000       997872679  296.0  346.0       11154    Other     1   \n",
                            "6871     0.000000      1871919869  428.0  428.0        2641      LPD     1   \n",
                            "...           ...             ...    ...    ...         ...      ...   ...   \n",
                            "11058    0.125000      1740857415  728.0  768.0       35627      GPD     1   \n",
                            "11059    0.333333      1740857415  624.0  648.0       35627  Seizure     1   \n",
                            "11060    0.785714      1305056139  142.0  142.0       54113    Other     1   \n",
                            "11061    0.692308      1407693286    0.0    0.0       23369    Other     1   \n",
                            "11062    0.562500       528052087  354.0  354.0       64704    Other     1   \n",
                            "\n",
                            "      easy_or_hard  seizure_pred  lpd_pred  gpd_pred  lrda_pred  grda_pred  \\\n",
                            "6867          easy           NaN       NaN       NaN        NaN        NaN   \n",
                            "6868          easy           NaN       NaN       NaN        NaN        NaN   \n",
                            "6869          easy           NaN       NaN       NaN        NaN        NaN   \n",
                            "6870          easy           NaN       NaN       NaN        NaN        NaN   \n",
                            "6871          easy           NaN       NaN       NaN        NaN        NaN   \n",
                            "...            ...           ...       ...       ...        ...        ...   \n",
                            "11058         hard           NaN       NaN       NaN        NaN        NaN   \n",
                            "11059         hard           NaN       NaN       NaN        NaN        NaN   \n",
                            "11060         hard           NaN       NaN       NaN        NaN        NaN   \n",
                            "11061         hard           NaN       NaN       NaN        NaN        NaN   \n",
                            "11062         hard           NaN       NaN       NaN        NaN        NaN   \n",
                            "\n",
                            "       other_pred  \n",
                            "6867          NaN  \n",
                            "6868          NaN  \n",
                            "6869          NaN  \n",
                            "6870          NaN  \n",
                            "6871          NaN  \n",
                            "...           ...  \n",
                            "11058         NaN  \n",
                            "11059         NaN  \n",
                            "11060         NaN  \n",
                            "11061         NaN  \n",
                            "11062         NaN  \n",
                            "\n",
                            "[4196 rows x 20 columns]"
                        ]
                    },
                    "execution_count": 11,
                    "metadata": {},
                    "output_type": "execute_result"
                }
            ],
            "source": [
                "oof_df = pd.read_csv(\"./outputs/DualEncoder_Default_debug_oof_2.csv\")\n",
                "\n",
                "oof_df[oof_df.isnull().any(axis=1)]"
            ]
        },
        {
            "cell_type": "code",
            "execution_count": null,
            "metadata": {},
            "outputs": [],
            "source": []
        },
        {
            "cell_type": "code",
            "execution_count": null,
            "metadata": {},
            "outputs": [],
            "source": [
                "pd.set_option('display.max_columns', None)\n",
                "KL_CRITERION = nn.KLDivLoss(reduction='batchmean')\n",
                "SOFTMAX = nn.Softmax(dim=1)\n",
                "\n",
                "TARGET2ID = {\n",
                "    'Seizure': 0,\n",
                "    'LPD': 1,\n",
                "    'GPD': 2,\n",
                "    'LRDA': 3,\n",
                "    'GRDA': 4,\n",
                "    'Other': 5\n",
                "}\n",
                "\n",
                "from kl_divergence import score as kaggle_score \n",
                "\n",
                "def calc_kaggle_score(oof_df):\n",
                "    submission_df = oof_df[['eeg_id']+TARGETS_PRED].copy()\n",
                "    submission_df.columns = ['eeg_id'] + TARGETS\n",
                "    solution_df = oof_df[['eeg_id']+TARGETS].copy()\n",
                "    return kaggle_score(solution_df, submission_df, 'eeg_id')\n",
                "\n",
                "def analyze_oof(oof_csv):\n",
                "\n",
                "    oof_df = pd.read_csv(oof_csv)\n",
                "    oof_df['target_pred'] = oof_df[TARGETS_PRED].apply(lambda x: np.argmax(x), axis=1)\n",
                "    oof_df['target_id'] = oof_df[TARGETS].apply(lambda x: np.argmax(x), axis=1)\n",
                "    \n",
                "    oof_df[\"kl_loss\"] = oof_df.apply(\n",
                "    lambda row: \n",
                "        KL_CRITERION(\n",
                "            F.log_softmax(\n",
                "                    torch.tensor(row[TARGETS_PRED].astype(np.float32)).unsqueeze(0)\n",
                "                , dim=1\n",
                "                ), \n",
                "            torch.tensor(row[TARGETS].astype(np.float32))\n",
                "            ).numpy(),\n",
                "    axis=1)\n",
                "\n",
                "    oof_df[\"kl_loss\"] = oof_df['kl_loss'].astype(np.float32)\n",
                "\n",
                "    oof_df[TARGETS_PRED] = SOFTMAX( torch.tensor(oof_df[TARGETS_PRED].values.astype(np.float32)))\n",
                "\n",
                "    oof_df.head()\n",
                "\n",
                "    return oof_df"
            ]
        },
        {
            "cell_type": "code",
            "execution_count": null,
            "metadata": {},
            "outputs": [],
            "source": [
                "csv_path = f'./outputs/{ModelConfig.MODEL_NAME}_oof_2.csv'\n",
                "print(\"CSV Path: \", csv_path)\n",
                "\n",
                "oof_df = analyze_oof(csv_path)\n",
                "\n",
                "print(\"Kaggle Score: \", calc_kaggle_score(oof_df))\n",
                "print(\"Average KL Loss: \", oof_df[\"kl_loss\"].mean())\n",
                "\n",
                "oof_df.head()"
            ]
        },
        {
            "cell_type": "code",
            "execution_count": null,
            "metadata": {},
            "outputs": [],
            "source": [
                "plot_oof = oof_df.copy()\n",
                "\n",
                "# plot confusion matrix\n",
                "from sklearn.metrics import confusion_matrix\n",
                "import seaborn as sns\n",
                "\n",
                "cm = confusion_matrix(plot_oof['target_id'], plot_oof['target_pred']) # (y_true, y_pred)\n",
                "cm = cm / cm.sum(axis=1)[:, np.newaxis]\n",
                "\n",
                "fig = plt.figure(figsize=(6, 6))\n",
                "sns.heatmap(cm, annot=True, cmap='Blues', xticklabels=TARGET2ID.keys(), yticklabels=TARGET2ID.keys())\n",
                "plt.xlabel('Predicted', fontsize=12)\n",
                "plt.ylabel('True', fontsize=12)\n",
                "plt.title(csv_path.split('/')[-1].split('.')[0], fontsize=12)\n",
                "fig.tight_layout()\n",
                "fig.savefig(f\"./outputs/{ModelConfig.MODEL_NAME}/{csv_path.split('/')[-1].split('.')[0]}_CM.png\")\n",
                "plt.show()"
            ]
        },
        {
            "cell_type": "code",
            "execution_count": null,
            "metadata": {},
            "outputs": [],
            "source": [
                "oof_df[\"kl_loss\"].plot(kind='hist', bins=100, title='KL Loss Distribution', figsize=(8, 5))\n",
                "print(oof_df[\"kl_loss\"].mean())\n",
                "plt.show()"
            ]
        },
        {
            "cell_type": "code",
            "execution_count": null,
            "metadata": {},
            "outputs": [],
            "source": [
                "# new figure\n",
                "fig, axes = plt.subplots(6, 5, figsize=(18, 16), sharex=True, sharey=True)\n",
                "\n",
                "plot_oof = oof_df[oof_df['kl_loss'] > 2]\n",
                "\n",
                "for row in range(axes.shape[0]):\n",
                "    row_selects = plot_oof[plot_oof['target_id']==row]\n",
                "    target_label = BRAIN_ACTIVITY[row]\n",
                "    for col in range(axes.shape[1]):\n",
                "        ax = axes[row, col]\n",
                "        idx = np.random.choice(row_selects.index)\n",
                "        df_rows = plot_oof.loc[idx]\n",
                "        ax.plot(df_rows[TARGETS].values , label='True')\n",
                "        ax.plot(df_rows[TARGETS_PRED].values, label='Pred')\n",
                "        ax.set_title(f\"{idx} | KL: {df_rows['kl_loss']:.4f} \") #\n",
                "        ax.set_xticks(range(6))\n",
                "        ax.set_xticklabels(BRAIN_ACTIVITY)\n",
                "        ax.grid(True)\n",
                "        ax.legend()\n",
                "        if col == 0:\n",
                "            ax.set_ylabel(target_label, fontsize=12)\n",
                "       \n",
                "fig.tight_layout()\n",
                "plt.show()"
            ]
        },
        {
            "cell_type": "code",
            "execution_count": null,
            "metadata": {},
            "outputs": [],
            "source": []
        },
        {
            "cell_type": "code",
            "execution_count": null,
            "metadata": {},
            "outputs": [],
            "source": [
                "csv_path = './outputs/ENet_b2_xymasking_remove_less/ENet_b2_xymasking_remove_less_oof_2.csv'\n",
                "\n",
                "oof_df = pd.read_csv(csv_path)\n",
                "\n",
                "oof_df[\"kl_loss\"] = oof_df.apply(\n",
                "    lambda row: \n",
                "        KL_CRITERION(\n",
                "            F.log_softmax(\n",
                "                SOFTMAX(\n",
                "                    torch.tensor(row[TARGETS_PRED].astype(np.float32)).unsqueeze(0)\n",
                "                    )\n",
                "                ), \n",
                "            torch.tensor(row[TARGETS].astype(np.float32))\n",
                "            ).numpy(),\n",
                "    axis=1)\n",
                "\n",
                "oof_df[\"kl_loss\"] = oof_df['kl_loss'].astype(np.float32)\n",
                "\n",
                "# y_pred = oof_df[TARGETS_PRED].values.astype(np.float32)\n",
                "# y_pred_smax = SOFTMAX(torch.tensor(y_pred)).numpy()\n",
                "# oof_df[TARGETS_PRED] = y_pred_smax\n",
                "\n",
                "oof_df['target_pred'] = oof_df[TARGETS_PRED].apply(lambda x: np.argmax(x), axis=1)\n",
                "oof_df['target_id'] = oof_df['target'].map(TARGET2ID)\n",
                "\n",
                "oof_df.head()"
            ]
        },
        {
            "cell_type": "code",
            "execution_count": null,
            "metadata": {},
            "outputs": [],
            "source": [
                "oof_df[\"kl_loss\"].plot(kind='hist', bins=100, title='KL Loss Distribution', figsize=(8, 5))\n",
                "print(oof_df[\"kl_loss\"].mean())\n",
                "plt.show()"
            ]
        },
        {
            "cell_type": "code",
            "execution_count": null,
            "metadata": {},
            "outputs": [],
            "source": [
                "KL_CRITERION(\n",
                "    torch.log(\n",
                "        SOFTMAX(\n",
                "            torch.tensor(oof_df[TARGETS_PRED].values.astype(np.float32))\n",
                "            )\n",
                "        ), \n",
                "    torch.tensor(oof_df[TARGETS].values.astype(np.float32))\n",
                "    ).numpy(),"
            ]
        },
        {
            "cell_type": "code",
            "execution_count": null,
            "metadata": {},
            "outputs": [],
            "source": [
                "plot_oof = oof_df.copy()\n",
                "\n",
                "# plot confusion matrix\n",
                "from sklearn.metrics import confusion_matrix\n",
                "import seaborn as sns\n",
                "\n",
                "cm = confusion_matrix(plot_oof['target_id'], plot_oof['target_pred']) # (y_true, y_pred)\n",
                "cm = cm / cm.sum(axis=1)[:, np.newaxis]\n",
                "\n",
                "fig = plt.figure(figsize=(6, 6))\n",
                "sns.heatmap(cm, annot=True, cmap='Blues', xticklabels=TARGET2ID.keys(), yticklabels=TARGET2ID.keys())\n",
                "plt.xlabel('Predicted', fontsize=12)\n",
                "plt.ylabel('True', fontsize=12)\n",
                "plt.show()"
            ]
        },
        {
            "cell_type": "code",
            "execution_count": null,
            "metadata": {},
            "outputs": [],
            "source": [
                "# new figure\n",
                "fig, axes = plt.subplots(6, 5, figsize=(18, 16), sharex=True, sharey=True)\n",
                "\n",
                "plot_oof = oof_df[oof_df['kl_loss'] > 0.2]\n",
                "\n",
                "for row in range(axes.shape[0]):\n",
                "    row_selects = plot_oof[plot_oof['target_id']==row]\n",
                "    target_label = BRAIN_ACTIVITY[row]\n",
                "    for col in range(axes.shape[1]):\n",
                "        ax = axes[row, col]\n",
                "        idx = np.random.choice(row_selects.index)\n",
                "        df_rows = plot_oof.loc[idx]\n",
                "        ax.plot(df_rows[TARGETS].values , label='True')\n",
                "        ax.plot(df_rows[TARGETS_PRED].values, label='Pred')\n",
                "        ax.set_title(f\"{idx} | KL: {df_rows['kl_loss']:.4f} \") #\n",
                "        ax.set_xticks(range(6))\n",
                "        ax.set_xticklabels(BRAIN_ACTIVITY)\n",
                "        ax.grid(True)\n",
                "        ax.legend()\n",
                "        if col == 0:\n",
                "            ax.set_ylabel(target_label, fontsize=12)\n",
                "       \n",
                "fig.tight_layout()\n",
                "plt.show()\n",
                "\n",
                "\n"
            ]
        },
        {
            "cell_type": "code",
            "execution_count": null,
            "metadata": {},
            "outputs": [],
            "source": [
                "oof_df[oof_df['eeg_id'] == 11127485]"
            ]
        },
        {
            "cell_type": "code",
            "execution_count": null,
            "metadata": {},
            "outputs": [],
            "source": [
                "oof_df[oof_df['eeg_id'].duplicated()] #oof_df.shape #.groupby('eeg_id')['patient_id'].agg(['nunique', 'count']).sort_values(by='count', ascending=False).head(10)"
            ]
        },
        {
            "cell_type": "code",
            "execution_count": null,
            "metadata": {},
            "outputs": [],
            "source": [
                "score_kaggle = oof_df2.loc[:10].apply(lambda row: calc_kaggle_score(row[['eeg_id']+TARGETS], row[['eeg_id']+TARGETS_PRED]), axis=1)\n",
                "score_kaggle"
            ]
        },
        {
            "cell_type": "code",
            "execution_count": null,
            "metadata": {},
            "outputs": [],
            "source": [
                "submission_df = oof_df2[['eeg_id']+TARGETS_PRED].copy()\n",
                "submission_df.columns = ['eeg_id'] + TARGETS\n",
                "\n",
                "solution_df = oof_df2[['eeg_id']+TARGETS].copy()\n",
                "\n",
                "score_value = kaggle_score(solution_df, submission_df, 'eeg_id')\n",
                "\n",
                "score_value"
            ]
        },
        {
            "cell_type": "code",
            "execution_count": null,
            "metadata": {},
            "outputs": [],
            "source": [
                "# oof_df1, cv_1 = analyze_oof(\"./outputs/ENet_b2_xymasking_remove_less/ENet_b2_xymasking_remove_less_oof_1.csv\")\n",
                "# print(cv_1)\n",
                "# oof_df1.head()"
            ]
        },
        {
            "cell_type": "code",
            "execution_count": null,
            "metadata": {},
            "outputs": [],
            "source": []
        },
        {
            "cell_type": "code",
            "execution_count": null,
            "metadata": {},
            "outputs": [],
            "source": []
        }
    ],
    "metadata": {
        "kernelspec": {
            "display_name": "kaggle",
            "language": "python",
            "name": "python3"
        },
        "language_info": {
            "codemirror_mode": {
                "name": "ipython",
                "version": 3
            },
            "file_extension": ".py",
            "mimetype": "text/x-python",
            "name": "python",
            "nbconvert_exporter": "python",
            "pygments_lexer": "ipython3",
            "version": "3.11.6"
        }
    },
    "nbformat": 4,
    "nbformat_minor": 2
}
