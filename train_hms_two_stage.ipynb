{
    "cells": [
        {
            "cell_type": "code",
            "execution_count": 1,
            "metadata": {},
            "outputs": [
                {
                    "name": "stderr",
                    "output_type": "stream",
                    "text": [
                        "/home/shiyi/miniconda3/envs/kaggle/lib/python3.11/site-packages/transformers/utils/generic.py:441: UserWarning: torch.utils._pytree._register_pytree_node is deprecated. Please use torch.utils._pytree.register_pytree_node instead.\n",
                        "  _torch_pytree._register_pytree_node(\n"
                    ]
                }
            ],
            "source": [
                "import pandas as pd \n",
                "import numpy as np \n",
                "from scipy.stats import entropy\n",
                "import matplotlib.pyplot as plt\n",
                "\n",
                "from engine_hms_trainer import *\n",
                "from engine_hms_model import CustomModel, JobConfig, ModelConfig\n",
                "\n",
                "import torch\n",
                "from torch import nn\n",
                "import torch.nn.functional as F"
            ]
        },
        {
            "cell_type": "code",
            "execution_count": 2,
            "metadata": {},
            "outputs": [
                {
                    "name": "stderr",
                    "output_type": "stream",
                    "text": [
                        "****************************************************************************************************\n",
                        "Script Start: Sun Mar 10 12:00:34 2024\n",
                        "Initializing HMS Predictor...\n",
                        "Model Name: ENet_b2_xymasking_cutmix\n",
                        "Drop Rate: 0.15\n",
                        "Drop Path Rate: 0.25\n",
                        "Augment: True\n",
                        "Augmentations: ['xy_masking', 'cutmix']\n",
                        "Enropy Split: 5.5\n",
                        "Device: cuda\n",
                        "Output Dir: ./outputs/\n",
                        "****************************************************************************************************\n"
                    ]
                }
            ],
            "source": [
                "seed_everything(JobConfig.SEED)\n",
                "\n",
                "ModelConfig.EPOCHS = 6\n",
                "ModelConfig.USE_EEG_SPECTROGRAMS = False\n",
                "ModelConfig.MODEL_BACKBONE = 'tf_efficientnet_b2'\n",
                "ModelConfig.MODEL_NAME = \"ENet_b2_xymasking_cutmix\"\n",
                "ModelConfig.AUGMENT = True\n",
                "ModelConfig.USE_KAGGLE_SPECTROGRAMS = True\n",
                "ModelConfig.USE_EEG_SPECTROGRAMS = True\n",
                "\n",
                "ModelConfig.AUGMENTATIONS = ['xy_masking', 'cutmix']\n",
                "\n",
                "hms_predictor = HMSPredictor(JobConfig, ModelConfig)"
            ]
        },
        {
            "cell_type": "code",
            "execution_count": 3,
            "metadata": {},
            "outputs": [],
            "source": [
                "train_easy, train_hard, all_specs, all_eegs = hms_predictor.load_train_data()\n",
                "\n",
                "print(train_easy.shape)\n",
                "print(train_hard.shape)\n",
                "\n",
                "# check if contain NaN\n",
                "print(train_easy.isnull().sum().sum())\n",
                "print(train_hard.isnull().sum().sum())\n",
                "\n",
                "display(train_easy.head())\n",
                "print(\" \")\n",
                "display(train_hard.head())"
            ]
        },
        {
            "cell_type": "code",
            "execution_count": null,
            "metadata": {},
            "outputs": [],
            "source": [
                "hms_predictor.train_folds(train_easy, train_hard, all_specs, all_eegs)"
            ]
        },
        {
            "cell_type": "code",
            "execution_count": null,
            "metadata": {},
            "outputs": [],
            "source": [
                "dataset = CustomDataset(train_easy, TARGETS, ModelConfig, all_specs, all_eegs, mode='test')\n",
                "\n",
                "X, y = dataset[0]\n",
                "print(X.shape, y.shape)\n",
                "\n",
                "model = CustomModel(ModelConfig, num_classes=6, pretrained=True)\n",
                "y_pred = model(X.unsqueeze(0))\n",
                "\n",
                "print(y_pred.shape)"
            ]
        },
        {
            "cell_type": "code",
            "execution_count": null,
            "metadata": {},
            "outputs": [],
            "source": [
                "oof_df1 = pd.read_csv(\"./outputs/ENet_b2_cross_entropy/oof_1.csv\")\n",
                "oof_df2 = pd.read_csv(\"./outputs/ENet_b2_cross_entropy/oof_2.csv\")\n",
                "\n",
                "cv_1 = evaluate_oof(oof_df1)\n",
                "cv_2 = evaluate_oof(oof_df2)\n",
                "\n",
                "print(cv_1)\n",
                "print(cv_2)"
            ]
        },
        {
            "cell_type": "code",
            "execution_count": null,
            "metadata": {},
            "outputs": [],
            "source": [
                "from kl_divergence import score as kl_score\n",
                "\n",
                "\n",
                "def calc_kl_div(p, q, criterion):\n",
                "    \n",
                "    p = torch.tensor(p.astype(np.float32)).unsqueeze(0)\n",
                "    q = torch.tensor(q.astype(np.float32)).unsqueeze(0)\n",
                "    return criterion(F.log_softmax(p, dim=1), q).item()\n",
                "\n",
                "def calc_kaggle_score(solution, submission):\n",
                "    solution = solution.to_frame().T\n",
                "    solution[TARGETS] = solution[TARGETS].astype(np.float32)\n",
                "    submission = submission.to_frame().T\n",
                "    submission.columns = ['eeg_id'] + TARGETS\n",
                "    submission[TARGETS] = submission[TARGETS].astype(np.float32)\n",
                "    \n",
                "    return kl_score(solution, submission, 'eeg_id')"
            ]
        },
        {
            "cell_type": "code",
            "execution_count": null,
            "metadata": {},
            "outputs": [],
            "source": [
                "def evaluate_oof(oof_csv_path):\n",
                "    oof_df = pd.read_csv(oof_csv_path)\n",
                "    softmax = nn.Softmax(dim=1)\n",
                "    criterion = nn.KLDivLoss(reduction=\"batchmean\")\n",
                "\n",
                "    oof_df[\"kl_loss\"] = oof_df.apply(lambda row: \n",
                "        calc_kl_div(row[TARGETS_PRED].values, row[TARGETS].values, criterion), axis=1\n",
                "        )\n",
                "\n",
                "    kl_loss_all = criterion(\n",
                "        F.log_softmax(torch.tensor(oof_df[TARGETS_PRED].values.astype(np.float32)), dim=1),\n",
                "        torch.tensor(oof_df[TARGETS].values.astype(np.float32)),\n",
                "        )\n",
                "\n",
                "    print(f\"KL Loss All: {kl_loss_all}\")\n",
                "    print(f\"KL Loss Mean: {oof_df['kl_loss'].mean()}\")\n",
                "\n",
                "    y_pred = oof_df[TARGETS].values.astype(np.float32)\n",
                "    oof_df[TARGETS_PRED] = softmax(torch.tensor(y_pred)).numpy()\n",
                "\n",
                "    solution = oof_df[['eeg_id'] + TARGETS].copy()\n",
                "    submission = oof_df[['eeg_id'] + TARGETS_PRED].copy()\n",
                "    submission.columns = ['eeg_id'] + TARGETS\n",
                "\n",
                "    kaggle_score_all = kl_score(solution, submission, 'eeg_id')\n",
                "    \n",
                "    oof_df['kaggle_score'] = oof_df.apply(lambda row:\n",
                "        calc_kaggle_score(row[['eeg_id'] + TARGETS], row[['eeg_id'] + TARGETS_PRED]), axis=1\n",
                "        )\n",
                "\n",
                "    print(f\"Kaggle Score All: {kaggle_score_all}\")\n",
                "    print(f\"Kaggle Score Mean: {oof_df['kaggle_score'].mean()}\")\n",
                "\n",
                "    return oof_df, kl_loss_all, kaggle_score_all\n"
            ]
        },
        {
            "cell_type": "code",
            "execution_count": null,
            "metadata": {},
            "outputs": [],
            "source": [
                "oof_1, kl_loss_all, kaggle_score_all = evaluate_oof(f\"{JobConfig.OUTPUT_DIR}/oof_1.csv\")\n",
                "oof_2, kl_loss_all, kaggle_score_all = evaluate_oof(f\"{JobConfig.OUTPUT_DIR}/oof_2.csv\")"
            ]
        },
        {
            "cell_type": "code",
            "execution_count": null,
            "metadata": {},
            "outputs": [],
            "source": [
                "fig, axes = plt.subplots(4, 4, figsize=(10, 10), sharex=True, sharey=True)\n",
                "\n",
                "# rows = oof_df.iloc[-len(axes.ravel()):, :]\n",
                "rows = oof_1.sample(len(axes.ravel()))\n",
                "\n",
                "for i, (idx, row) in enumerate(rows.iterrows()):\n",
                "\n",
                "    ax = axes.ravel()[i]\n",
                "    ax.plot(row[TARGETS].values, label='True')\n",
                "    ax.plot(row[TARGETS_PRED].values, label='Pred')\n",
                "    ax.set_title(f\"{idx} | {row['target']} | KL: {row['kl_loss']:.4f}\")\n",
                "    ax.set_xticks(range(6))\n",
                "    ax.set_xticklabels(BRAIN_ACTIVITY)\n",
                "    ax.grid(True)\n",
                "    ax.legend()\n",
                "\n",
                "fig.tight_layout()\n",
                "fig.savefig(f\"{JobConfig.OUTPUT_DIR}/oof_examples_1.png\")\n",
                "plt.show()"
            ]
        },
        {
            "cell_type": "code",
            "execution_count": null,
            "metadata": {},
            "outputs": [],
            "source": [
                "fig, axes = plt.subplots(4, 4, figsize=(10, 10), sharex=True, sharey=True)\n",
                "\n",
                "# rows = oof_2.iloc[5:5+len(axes.ravel()), :]\n",
                "rows = oof_2.sample(len(axes.ravel()))\n",
                "\n",
                "for i, (idx, row) in enumerate(rows.iterrows()):\n",
                "\n",
                "    ax = axes.ravel()[i]\n",
                "    y_true = row[TARGETS].values\n",
                "    y_pred = row[TARGETS_PRED].values\n",
                "    y_norm = (y_true - y_true.min()) / (y_true.max() - y_true.min())\n",
                "\n",
                "    ax.plot(row[TARGETS].values, label='True')\n",
                "    ax.plot(row[TARGETS_PRED].values, label='Pred')\n",
                "    ax.plot(y_norm, \"b:\", label='True Norm')\n",
                "\n",
                "    ax.set_title(f\"{idx} | {row['target']} | KL: {row['kl_loss']:.4f}\")\n",
                "    ax.set_xticks(range(6))\n",
                "    ax.set_xticklabels(BRAIN_ACTIVITY)\n",
                "    ax.grid(True)\n",
                "    ax.legend()\n",
                "\n",
                "fig.tight_layout()\n",
                "fig.savefig(f\"{JobConfig.OUTPUT_DIR}/oof_examples_2.png\")\n",
                "plt.show()"
            ]
        },
        {
            "cell_type": "code",
            "execution_count": null,
            "metadata": {},
            "outputs": [],
            "source": [
                "row = oof_2.loc[6]\n",
                "\n",
                "min_pred = row[TARGETS_PRED].min()\n",
                "max_pred = row[TARGETS_PRED].max()\n",
                "print(min_pred, max_pred)\n",
                "\n",
                "print(row[TARGETS_PRED])\n",
                "\n",
                "targets_norm = (row[TARGETS] - row[TARGETS].min()) / (row[TARGETS].max() - row[TARGETS].min())\n",
                "\n",
                "targets_norm = targets_norm / targets_norm.sum()\n",
                "\n",
                "print(targets_norm)"
            ]
        },
        {
            "cell_type": "code",
            "execution_count": null,
            "metadata": {},
            "outputs": [],
            "source": []
        },
        {
            "cell_type": "code",
            "execution_count": null,
            "metadata": {},
            "outputs": [],
            "source": []
        }
    ],
    "metadata": {
        "kernelspec": {
            "display_name": "kaggle",
            "language": "python",
            "name": "python3"
        },
        "language_info": {
            "codemirror_mode": {
                "name": "ipython",
                "version": 3
            },
            "file_extension": ".py",
            "mimetype": "text/x-python",
            "name": "python",
            "nbconvert_exporter": "python",
            "pygments_lexer": "ipython3",
            "version": "3.11.6"
        }
    },
    "nbformat": 4,
    "nbformat_minor": 2
}
