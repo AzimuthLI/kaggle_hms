{
 "cells": [
  {
   "cell_type": "code",
   "execution_count": null,
   "metadata": {},
   "outputs": [],
   "source": [
    "import os, gc, random\n",
    "import numpy as np\n",
    "import pandas as pd \n",
    "from pathlib import Path\n",
    "import matplotlib.pyplot as plt\n",
    "from typing import List, Dict\n",
    "from tqdm.notebook import tqdm\n",
    "from time import time, ctime\n",
    "\n",
    "from sklearn.model_selection import KFold, GroupKFold\n",
    "\n",
    "import torch\n",
    "from torch import nn\n",
    "from torch.nn import functional as F\n",
    "from torch.utils.data import DataLoader, Dataset\n",
    "from torchvision.transforms import v2\n",
    "from torch.optim.lr_scheduler import OneCycleLR,  CosineAnnealingWarmRestarts\n",
    "from torch.optim import Adam, AdamW\n",
    "from torch.cuda.amp import autocast, GradScaler\n",
    "\n",
    "from scipy.stats import entropy\n",
    "from scipy.special import rel_entr, softmax"
   ]
  },
  {
   "cell_type": "code",
   "execution_count": null,
   "metadata": {},
   "outputs": [],
   "source": [
    "class KagglePaths:\n",
    "    OUTPUT_DIR = \"/kaggle/working/\"\n",
    "    PRE_LOADED_EEGS = '/kaggle/input/brain-eeg-spectrograms/eeg_specs.npy'\n",
    "    PRE_LOADED_SPECTROGRAMS = '/kaggle/input/brain-spectrograms/specs.npy'\n",
    "    TRAIN_CSV = \"/kaggle/input/hms-harmful-brain-activity-classification/train.csv\"\n",
    "    TRAIN_EEGS = \"/kaggle/input/hms-harmful-brain-activity-classification/train_eegs/\"\n",
    "    TRAIN_SPECTROGRAMS = \"/kaggle/input/hms-harmful-brain-activity-classification/train_spectrograms/\"\n",
    "    TEST_CSV = \"/kaggle/input/hms-harmful-brain-activity-classification/test.csv\"\n",
    "    TEST_SPECTROGRAMS = \"/kaggle/input/hms-harmful-brain-activity-classification/test_spectrograms/\"\n",
    "    TEST_EEGS = \"/kaggle/input/hms-harmful-brain-activity-classification/test_eegs/\"\n",
    "\n",
    "class LocalPaths:\n",
    "    OUTPUT_DIR = \"./outputs/\"\n",
    "    PRE_LOADED_EEGS = './inputs/brain-eeg-spectrograms/eeg_specs.npy'\n",
    "    PRE_LOADED_SPECTROGRAMS = './inputs/brain-spectrograms/specs.npy'\n",
    "    TRAIN_CSV = \"./inputs/hms-harmful-brain-activity-classification/train.csv\"\n",
    "    TRAIN_EEGS = \"./inputs/hms-harmful-brain-activity-classification/train_eegs\"\n",
    "    TRAIN_SPECTROGRAMS = \"./inputs/hms-harmful-brain-activity-classification/train_spectrograms\"\n",
    "    TEST_CSV = \"./inputs/hms-harmful-brain-activity-classification/test.csv\"\n",
    "    TEST_SPECTROGRAMS = \"./inputs/hms-harmful-brain-activity-classification/test_spectrograms\"\n",
    "    TEST_EEGS = \"./inputs/hms-harmful-brain-activity-classification/test_eegs\"\n",
    "\n",
    "PATHS = KagglePaths if os.path.exists(\"/kaggle\") else LocalPaths\n",
    "\n",
    "print(\"Output Dir: \", PATHS.OUTPUT_DIR)\n",
    "\n",
    "EEG_FEAT_ALL = [\n",
    "    'Fp1', 'F3', 'C3', 'P3', \n",
    "    'F7', 'T3', 'T5', 'O1', \n",
    "    'Fz', 'Cz', 'Pz', 'Fp2', \n",
    "    'F4', 'C4', 'P4', 'F8', \n",
    "    'T4', 'T6', 'O2', 'EKG'\n",
    "    ]\n",
    "\n",
    "EEG_FEAT_USE =  ['Fp1','T3','C3','O1','Fp2','C4','T4','O2']\n",
    "EEG_FEAT_INDEX = {x:y for x,y in zip(EEG_FEAT_USE, range(len(EEG_FEAT_USE)))}\n",
    "\n",
    "BRAIN_ACTIVITY = ['seizure', 'lpd', 'gpd', 'lrda', 'grda', 'other']\n",
    "TARGETS = [f\"{lb}_vote\" for lb in BRAIN_ACTIVITY]\n",
    "TARGETS_PRED = [f\"{lb}_pred\" for lb in BRAIN_ACTIVITY]\n",
    "\n",
    "print(EEG_FEAT_INDEX)"
   ]
  },
  {
   "cell_type": "code",
   "execution_count": null,
   "metadata": {},
   "outputs": [],
   "source": [
    "def get_logger(log_dir, logger_name=\"train_model.log\"):\n",
    "    from logging import getLogger, INFO, StreamHandler, FileHandler, Formatter\n",
    "    logger_file = os.path.join(log_dir, logger_name)\n",
    "    logger = getLogger(__name__)\n",
    "    logger.setLevel(INFO)\n",
    "    handler1 = StreamHandler()\n",
    "    handler1.setFormatter(Formatter(\"%(message)s\"))\n",
    "    handler2 = FileHandler(filename=logger_file, mode=\"a+\")\n",
    "    handler2.setFormatter(Formatter(\"%(message)s\"))\n",
    "    logger.addHandler(handler1)\n",
    "    logger.addHandler(handler2)\n",
    "    return logger\n",
    "\n",
    "\n",
    "def seed_everything(seed: int):\n",
    "    random.seed(seed)\n",
    "    np.random.seed(seed)\n",
    "    torch.manual_seed(seed)\n",
    "    os.environ['PYTHONHASHSEED'] = str(seed)"
   ]
  },
  {
   "cell_type": "code",
   "execution_count": null,
   "metadata": {},
   "outputs": [],
   "source": [
    "class ModelConfig:\n",
    "    SEED = 20\n",
    "    SPLIT_ENTROPY = 5.5\n",
    "    MODEL_NAME = \"ResnetGRU_v2_Vstack_Filter_05_20_20_60_30_Normalized\"\n",
    "    MODEL_BACKBONE = \"reset_gru\"\n",
    "    BATCH_SIZE = 32\n",
    "    EPOCHS = 20\n",
    "    EARLY_STOP_ROUNDS = 5\n",
    "    GRADIENT_ACCUMULATION_STEPS = 1\n",
    "    DROP_RATE = 0.15 # default: 0.1\n",
    "    DROP_PATH_RATE = 0.25 # default: 0.2\n",
    "    WEIGHT_DECAY = 0.01\n",
    "    AMP = True\n",
    "    PRINT_FREQ = 100\n",
    "    NUM_WORKERS = 0 \n",
    "    MAX_GRAD_NORM = 1e7\n",
    "    REGULARIZATION = 0.15\n",
    "    RESNET_GRU_BANDPASS = (0.5, 20) #(0.5, 20)\n",
    "    RESNET_GRU_LOWPASS = 20\n",
    "    RESNET_GRU_NOTCH = (60, 30) # (Freq, Quality)\n",
    "    RESNET_GRU_IN_CHANNELS = 8\n",
    "    RESNET_GRU_KERNELS = [3, 5, 7, 9, 11]\n",
    "    RESNET_GRU_FIXED_KERNEL_SIZE = 5\n",
    "    RESNET_GRU_DOWNSAMPLE = 5\n",
    "    RESNET_GRU_HIDDEN_SIZE = 304 \n",
    "    RESNET_GRU_DILATED = False\n",
    "    "
   ]
  },
  {
   "cell_type": "code",
   "execution_count": null,
   "metadata": {},
   "outputs": [],
   "source": [
    "seed_everything(ModelConfig.SEED)\n",
    "logger = get_logger(PATHS.OUTPUT_DIR, f\"{ModelConfig.MODEL_NAME}_train.log\")"
   ]
  },
  {
   "cell_type": "markdown",
   "metadata": {},
   "source": [
    "# Load Data"
   ]
  },
  {
   "cell_type": "code",
   "execution_count": null,
   "metadata": {},
   "outputs": [],
   "source": [
    "def eeg_from_parquet(parquet_path: str, use_feature=EEG_FEAT_USE, display: bool = False) -> np.ndarray:\n",
    "    # === Extract full length EEG Sequence ===\n",
    "    # fill missing values with mean\n",
    "    # first fill missing values with mean of each column\n",
    "    # then if all values are missing, fill with 0\n",
    "    eeg = pd.read_parquet(parquet_path, columns=use_feature)\n",
    "    eeg = eeg.fillna(eeg.mean(skipna=True)).fillna(0)\n",
    "    data = eeg.values.astype(np.float32)\n",
    "    \n",
    "    # rows = len(eeg)\n",
    "    # offset = (rows - 10_000) // 2 # 50 * 200 = 10_000\n",
    "    # data = data[offset:offset+10_000, :]\n",
    "\n",
    "    if display:\n",
    "        fig, ax = plt.subplots(len(use_feature), 1, figsize=(10, 2*len(use_feature)), sharex=True)\n",
    "        \n",
    "        for i, feat in enumerate(use_feature):\n",
    "            ax[i].plot(data[:, i], label=feat)\n",
    "            ax[i].legend()\n",
    "            ax[i].grid()\n",
    "       \n",
    "        name = parquet_path.split('/')[-1].split('.')[0]\n",
    "        ax[0].set_title(f'EEG {name}',size=16)\n",
    "        fig.tight_layout()\n",
    "        plt.show()    \n",
    "    return data"
   ]
  },
  {
   "cell_type": "code",
   "execution_count": null,
   "metadata": {},
   "outputs": [],
   "source": [
    "%%time\n",
    "CREATE_EEGS = True\n",
    "ALL_EEG_SIGNALS = {}\n",
    "eeg_paths = list(Path(PATHS.TRAIN_EEGS).glob('*.parquet'))\n",
    "preload_eegs_path = Path('./inputs/eegs_full.npy')\n",
    "\n",
    "if CREATE_EEGS:\n",
    "    count = 0\n",
    "    for parquet_path in tqdm(eeg_paths, total=len(eeg_paths)):\n",
    "        eeg_id = int(parquet_path.stem)\n",
    "        eeg_path = str(parquet_path)\n",
    "        data = eeg_from_parquet(eeg_path, display=False)\n",
    "        ALL_EEG_SIGNALS[eeg_id] = data\n",
    "        count += 1\n",
    "    np.save(\"./inputs/eegs_full.npy\", ALL_EEG_SIGNALS)\n",
    "else:\n",
    "    ALL_EEG_SIGNALS = np.load(preload_eegs_path, allow_pickle=True).item()"
   ]
  },
  {
   "cell_type": "code",
   "execution_count": null,
   "metadata": {},
   "outputs": [],
   "source": [
    "def gen_non_overlap_samples(df_csv, targets):\n",
    "    # Reference Discussion:\n",
    "    # https://www.kaggle.com/competitions/hms-harmful-brain-activity-classification/discussion/467021\n",
    "\n",
    "    tgt_list = targets.tolist()\n",
    "    brain_activity = ['seizure', 'lpd', 'gpd', 'lrda', 'grda', 'other']\n",
    "\n",
    "    agg_dict = {\n",
    "        'spectrogram_id': 'first',\n",
    "        'spectrogram_label_offset_seconds': ['min', 'max'],\n",
    "        'patient_id': 'first',\n",
    "        'expert_consensus': 'first'\n",
    "    }\n",
    "\n",
    "    groupby = df_csv.groupby(['eeg_id'] + tgt_list)\n",
    "    train = groupby.agg(agg_dict)\n",
    "    train = train.reset_index()\n",
    "    train.columns = ['_'.join(col).strip() for col in train.columns.values]\n",
    "    train.columns = [\"eeg_id\"] + tgt_list + ['spectrogram_id', 'min', 'max', 'patient_id', 'target']\n",
    "\n",
    "    # df_eeg_offsets = groupby.agg({'eeg_label_offset_seconds': lambda x: x.tolist()}).reset_index()\n",
    "    # df_eeg_offsets.columns = [\"eeg_id\"] + tgt_list + ['eeg_offset_list']\n",
    "    # df_eeg_offsets['n_segments'] = df_eeg_offsets['eeg_offset_list'].apply(len)\n",
    "\n",
    "    # train = train.merge(df_eeg_offsets, on=['eeg_id']+tgt_list, how='left')\n",
    "    \n",
    "    train['total_votes'] = train[tgt_list].sum(axis=1)\n",
    "    train[tgt_list] = train[tgt_list].div(train['total_votes'], axis=0)\n",
    "    \n",
    "    return train"
   ]
  },
  {
   "cell_type": "code",
   "execution_count": null,
   "metadata": {},
   "outputs": [],
   "source": [
    "# Original Split \n",
    "\n",
    "train_csv = pd.read_csv(PATHS.TRAIN_CSV)\n",
    "targets = train_csv.columns[-6:]\n",
    "\n",
    "print(\"targets: \", targets.to_list())\n",
    "\n",
    "train_csv['total_votes'] = train_csv[targets].sum(axis=1)\n",
    "train_csv[targets] = train_csv[targets].astype('float32')\n",
    "\n",
    "targets_prob = [f\"{t.split('_')[0]}_prob\" for t in targets]\n",
    "train_csv[targets_prob] = train_csv[targets].div(train_csv['total_votes'], axis=0)\n",
    "\n",
    "hard_csv = train_csv[train_csv['total_votes'] >= 6].copy().reset_index(drop=True)\n",
    "\n",
    "train_all = gen_non_overlap_samples(train_csv, targets)\n",
    "train_hard = gen_non_overlap_samples(hard_csv, targets)\n",
    "\n",
    "# def get_offset_seconds(x):\n",
    "#     tmp = x['eeg_offset_list']\n",
    "#     if x['target'] == 'Other':\n",
    "#         return [tmp[len(tmp)//2]]\n",
    "#     else:\n",
    "#         rand_idx = np.random.randint(0, len(tmp), len(tmp)//2)\n",
    "#         return [tmp[idx] for idx in set(rand_idx)]\n",
    "    \n",
    "# train_all['offset_seconds'] = train_all[['target', 'eeg_offset_list']].apply(get_offset_seconds, axis=1)\n",
    "# train_hard['offset_seconds'] = train_hard[['target', 'eeg_offset_list']].apply(get_offset_seconds, axis=1)\n",
    "\n",
    "print(\"train_all.shape = \", train_all.shape)\n",
    "print(\"train_all nan_count: \", train_all.isnull().sum().sum())\n",
    "display(train_all.head())\n",
    "\n",
    "print(\" \")\n",
    "\n",
    "print(\"train_hard.shape = \", train_hard.shape)\n",
    "print(\"train_hard nan_count: \", train_hard.isnull().sum().sum())\n",
    "display(train_hard.head())"
   ]
  },
  {
   "cell_type": "code",
   "execution_count": null,
   "metadata": {},
   "outputs": [],
   "source": [
    "train_all[train_all['offset_seconds'].apply(len) == 0] "
   ]
  },
  {
   "cell_type": "markdown",
   "metadata": {},
   "source": [
    "# Dataset"
   ]
  },
  {
   "cell_type": "code",
   "execution_count": null,
   "metadata": {},
   "outputs": [],
   "source": [
    "from scipy.signal import butter, lfilter, iirnotch \n",
    "from scipy.fft import fft, fftfreq\n",
    "\n",
    "def plot_fft(ax, data, title, fs=200):\n",
    "    n = len(data)\n",
    "    yf = fft(data)\n",
    "    xf = fftfreq(n, 1/fs)\n",
    "    ax.plot(xf[:n//2], 2.0/n * np.abs(yf[0:n//2]))\n",
    "    ax.set_title(title)\n",
    "    ax.grid()\n",
    "\n",
    "def bandpass_filter(data, lowcut=0.5, highcut=20, fs=200, order=2):\n",
    "    low = 2 * lowcut / fs \n",
    "    high = 2 * highcut / fs\n",
    "    b, a = butter(order, [low, high], btype='band')\n",
    "    y = lfilter(b, a, data, axis=0)\n",
    "    return y\n",
    "\n",
    "def butter_lowpass_filter(data, cutoff_freq=20, sampling_rate=200, order=4):\n",
    "    nyquist = 0.5 * sampling_rate\n",
    "    normal_cutoff = cutoff_freq / nyquist\n",
    "    b, a = butter(order, normal_cutoff, btype='low', analog=False)\n",
    "    filtered_data = lfilter(b, a, data, axis=0)\n",
    "    return filtered_data\n",
    "\n",
    "def notch_filter(data, fs=200, f0=60, Q=30):\n",
    "    b, a = iirnotch(f0, Q, fs)\n",
    "    y = lfilter(b, a, data, axis=0)\n",
    "    return y\n",
    "\n",
    "def filter_eeg(eeg_seq, bandpass=(0.5, 20), lowpass=20, notch=(60, 30), fs=200):\n",
    "\n",
    "    if bandpass is not None:\n",
    "        eeg_seq = bandpass_filter(eeg_seq, lowcut=bandpass[0], highcut=bandpass[1], fs=fs, order=2)\n",
    "    if lowpass is not None:\n",
    "        eeg_seq = butter_lowpass_filter(eeg_seq, cutoff_freq=lowpass, sampling_rate=fs, order=4)\n",
    "    if notch is not None:\n",
    "        eeg_seq = notch_filter(eeg_seq, fs=fs, f0=notch[0], Q=notch[1])\n",
    "\n",
    "    return eeg_seq"
   ]
  },
  {
   "cell_type": "code",
   "execution_count": null,
   "metadata": {},
   "outputs": [],
   "source": [
    "class EEGSeqDataset(Dataset):\n",
    "    def __init__(self, df, config, eegs, mode='train', verbose=False):\n",
    "        self.df = df\n",
    "        self.mode = mode\n",
    "        self.eegs = eegs\n",
    "        self.verbose = verbose\n",
    "        self.downsample = config.RESNET_GRU_DOWNSAMPLE\n",
    "        self.bandpass = config.RESNET_GRU_BANDPASS\n",
    "        self.lowpass = config.RESNET_GRU_LOWPASS\n",
    "        self.notch = config.RESNET_GRU_NOTCH\n",
    "    \n",
    "    def __len__(self):\n",
    "        return len(self.df)\n",
    "\n",
    "    def __getitem__(self, idx):\n",
    "        \n",
    "        X, y_prob = self.__data_generation(idx)\n",
    "        \n",
    "        if self.downsample is not None:\n",
    "            X = X[::self.downsample, :]\n",
    "        \n",
    "        return torch.tensor(X, dtype=torch.float32), torch.tensor(y_prob, dtype=torch.float32)\n",
    "    \n",
    "    def __data_generation(self, index):\n",
    "        row = self.df.iloc[index]\n",
    "        \n",
    "        if self.verbose:\n",
    "            print(f\"Row {index}\", row[['eeg_id', 'target']].tolist())\n",
    "\n",
    "        X = np.zeros((10_000, 8), dtype='float32')\n",
    "\n",
    "        # if self.mode == 'train':\n",
    "        #     offset_seconds = row['offset_seconds']\n",
    "        #     if len(offset_seconds) == 0:\n",
    "        #         offset_sec = 0\n",
    "        #     else:\n",
    "        #         offset_sec = int(random.choice(offset_seconds))\n",
    "        # else:\n",
    "        #     offset_sec = 0\n",
    "        # data = self.eegs[row.eeg_id][offset_sec*200:offset_sec*200+10_000, :]\n",
    "        \n",
    "        data = self.eegs[row.eeg_id][:, :]\n",
    "\n",
    "        # === Feature engineering ===\n",
    "        X[:,0] = data[:,EEG_FEAT_INDEX['Fp1']] - data[:,EEG_FEAT_INDEX['T3']]\n",
    "        X[:,1] = data[:,EEG_FEAT_INDEX['T3']] - data[:,EEG_FEAT_INDEX['O1']]\n",
    "\n",
    "        X[:,2] = data[:,EEG_FEAT_INDEX['Fp1']] - data[:,EEG_FEAT_INDEX['C3']]\n",
    "        X[:,3] = data[:,EEG_FEAT_INDEX['C3']] - data[:,EEG_FEAT_INDEX['O1']]\n",
    "\n",
    "        X[:,4] = data[:,EEG_FEAT_INDEX['Fp2']] - data[:,EEG_FEAT_INDEX['C4']]\n",
    "        X[:,5] = data[:,EEG_FEAT_INDEX['C4']] - data[:,EEG_FEAT_INDEX['O2']]\n",
    "\n",
    "        X[:,6] = data[:,EEG_FEAT_INDEX['Fp2']] - data[:,EEG_FEAT_INDEX['T4']]\n",
    "        X[:,7] = data[:,EEG_FEAT_INDEX['T4']] - data[:,EEG_FEAT_INDEX['O2']]\n",
    "\n",
    "        # === Standarize ===\n",
    "        X = np.clip(X, -1024, 1024)\n",
    "        X = np.nan_to_num(X, nan=0) / 32.0\n",
    "\n",
    "        # === Butter Low-pass Filter ===\n",
    "        # ??? change to bandpass filter (low=0.5, hight=20, order=2) ???\n",
    "        X = filter_eeg(X, bandpass=self.bandpass, lowpass=self.lowpass, notch=self.notch, fs=200)\n",
    "        \n",
    "        if self.mode != 'test':\n",
    "            y_prob = row[TARGETS].values.astype(np.float32)\n",
    "        else:\n",
    "            y_prob = np.zeros(6, dtype='float32')\n",
    "\n",
    "        return X, y_prob "
   ]
  },
  {
   "cell_type": "code",
   "execution_count": null,
   "metadata": {},
   "outputs": [],
   "source": [
    "# row = train_all.iloc[132]\n",
    "# print(row[['eeg_id', 'min', 'max', 'target']].tolist())\n",
    "\n",
    "# eeg_seq = ALL_EEG_SIGNALS[row.eeg_id]#[:, EEG_FEAT_INDEX['Fp1']]\n",
    "# print(\"eeg_seq.shape: \", eeg_seq.shape)\n",
    "\n",
    "# diff_raw = eeg_seq[:, EEG_FEAT_INDEX['Fp1']] - eeg_seq[:, EEG_FEAT_INDEX['T3']]\n",
    "# diff_filt = filter_eeg(diff_raw, bandpass=(0.25, 40), lowpass=None, notch=None, fs=200)\n",
    "# diff_low = filter_eeg(diff_raw, bandpass=(0.25, 40), lowpass=40, notch=None, fs=200)\n",
    "# diff_notch = filter_eeg(diff_raw, bandpass=(0.25, 40), lowpass=None, notch=(60, 30), fs=200)\n",
    "\n",
    "# fig, axes = plt.subplots(1, 4, figsize=(12, 3))\n",
    "# titles = ['Raw', 'Bandpass', 'Lowpass', 'Notch']\n",
    "# for i, data in enumerate([diff_raw, diff_filt, diff_low, diff_notch]):\n",
    "#     plot_fft(axes[i], data, titles[i])\n",
    "#     axes[i].grid(True)\n",
    "# fig.tight_layout()\n",
    "# plt.show()\n",
    "\n",
    "\n",
    "# fig, ax = plt.subplots(1, 1, figsize=(12, 3))\n",
    "# x_slice = np.arange(2000, 4000, 5)\n",
    "# ax.plot(diff_raw[x_slice], label='Raw')\n",
    "# ax.plot(diff_filt[x_slice], label='Bandpass')\n",
    "# ax.plot(diff_low[x_slice], label='Lowpass')\n",
    "# ax.plot(diff_notch[x_slice], label='Notch')\n",
    "# ax.legend()\n",
    "# fig.tight_layout()\n",
    "# plt.show()\n"
   ]
  },
  {
   "cell_type": "code",
   "execution_count": null,
   "metadata": {},
   "outputs": [],
   "source": [
    "# visualize the dataset\n",
    "train_dataset = EEGSeqDataset(train_all, ModelConfig, ALL_EEG_SIGNALS, mode=\"train\", verbose=False)\n",
    "train_loader = DataLoader(train_dataset, drop_last=True, batch_size=16, num_workers=4, pin_memory=True, shuffle=False)\n",
    "\n",
    "for batch in train_loader:\n",
    "    X, y = batch\n",
    "    print(f\"X shape: {X.shape}\")\n",
    "    print(f\"y shape: {y.shape}\")\n",
    "    \n",
    "    fig, axes = plt.subplots(4, 1, figsize=(20, 20))\n",
    "    ax_idx = 0\n",
    "    for item in range(4): #np.random.choice(range(X.shape[0]), 4):\n",
    "        offset = 0\n",
    "        for col in range(X.shape[-1]):\n",
    "            if col != 0:\n",
    "                offset -= X[item,:,col].min()\n",
    "            axes[ax_idx].plot(np.arange(X.shape[1]), X[item,:,col]+offset, label=f'feature {col+1}')\n",
    "            offset += X[item,:,col].max()\n",
    "        print(y[item])\n",
    "        # axes[ax_idx].set_title(f'Weight = {weights[item]}',size=14)\n",
    "        axes[ax_idx].legend()\n",
    "        ax_idx += 1\n",
    "    fig.tight_layout()\n",
    "    plt.show()\n",
    "    break\n",
    "\n",
    "del train_dataset, train_loader\n",
    "torch.cuda.empty_cache()\n",
    "gc.collect()"
   ]
  },
  {
   "cell_type": "markdown",
   "metadata": {},
   "source": [
    "# Model"
   ]
  },
  {
   "cell_type": "code",
   "execution_count": null,
   "metadata": {},
   "outputs": [],
   "source": [
    "class ResNet_1D_Block(nn.Module):\n",
    "    def __init__(self, in_channels, out_channels, kernel_size, stride, padding, downsampling, dropout=0.0, dilation=1):\n",
    "        super(ResNet_1D_Block, self).__init__()\n",
    "        self.block = nn.Sequential(\n",
    "            nn.BatchNorm1d(num_features=in_channels),\n",
    "            nn.Hardswish(), #nn.ReLU(),\n",
    "            nn.Dropout(p=dropout),\n",
    "            nn.Conv1d(in_channels, out_channels, kernel_size, stride, padding, dilation=dilation, bias=False),\n",
    "            nn.BatchNorm1d(num_features=out_channels),\n",
    "            nn.Hardswish(), #nn.ReLU(),\n",
    "            nn.Dropout(p=dropout),\n",
    "            nn.Conv1d(out_channels, out_channels, kernel_size, stride, padding, dilation=dilation, bias=False),\n",
    "        )\n",
    "        \n",
    "        self.downsampling = downsampling\n",
    "\n",
    "    def forward(self, x):\n",
    "        identity = x\n",
    "        out = self.block(x)\n",
    "        \n",
    "        if self.downsampling is not None:\n",
    "            identity = self.downsampling(identity)\n",
    "            out = self.downsampling(out)\n",
    "            \n",
    "        out += identity\n",
    "        return out\n",
    "\n",
    "class SelfAttentionPooling(nn.Module):\n",
    "    \"\"\"\n",
    "    Implementation of SelfAttentionPooling \n",
    "    Original Paper: Self-Attention Encoding and Pooling for Speaker Recognition\n",
    "    https://arxiv.org/pdf/2008.01077v1.pdf\n",
    "    \"\"\"\n",
    "    def __init__(self, input_dim):\n",
    "        super(SelfAttentionPooling, self).__init__()\n",
    "        self.W = nn.Linear(input_dim, 1)\n",
    "        self.softmax = nn.Softmax(dim=1)\n",
    "        \n",
    "    def forward(self, batch_rep):\n",
    "        \"\"\"\n",
    "        input:\n",
    "            batch_rep : size (N, T, H), N: batch size, T: sequence length, H: Hidden dimension\n",
    "        attention_weight:\n",
    "            att_w : size (N, T, 1)\n",
    "        return:\n",
    "            utter_rep: size (N, H)\n",
    "        \"\"\"\n",
    "        att_w = self.softmax(self.W(batch_rep).squeeze(-1)).unsqueeze(-1)\n",
    "        utter_rep = torch.sum(batch_rep * att_w, dim=1)\n",
    "\n",
    "        return utter_rep\n",
    "\n",
    "class ResNetGRU(nn.Module):\n",
    "    def __init__(self, config=ModelConfig, num_classes=6):\n",
    "        super(ResNetGRU, self).__init__()\n",
    "\n",
    "        self.planes = 24\n",
    "        self.kernels = config.RESNET_GRU_KERNELS\n",
    "        self.in_channels = config.RESNET_GRU_IN_CHANNELS\n",
    "        self.use_dilation = config.RESNET_GRU_DILATED\n",
    "\n",
    "        self.conv_in_size = self.planes * len(self.kernels)\n",
    "\n",
    "        fixed_kernel_size = config.RESNET_GRU_FIXED_KERNEL_SIZE\n",
    "        rnn_hidden_size = 128\n",
    "        hidden_size = self.conv_in_size + rnn_hidden_size*2 #config.RESNET_GRU_HIDDEN_SIZE\n",
    "\n",
    "        # Define the separate convolutional layers\n",
    "        self.parallel_conv = self._make_parallel_conv_layers()\n",
    "        # Define the ResNet part of the model\n",
    "        self.resnet_part = self._make_resnet_part(fixed_kernel_size, n_blocks=9)\n",
    "        # Define the GRU part of the model\n",
    "        self.rnn = nn.GRU(input_size=self.in_channels, hidden_size=rnn_hidden_size, num_layers=1, bidirectional=True)\n",
    "        \n",
    "        # Define the pooling layers\n",
    "        self.pooling_resnet = SelfAttentionPooling(self.conv_in_size)\n",
    "        self.pooling_rnn = SelfAttentionPooling(rnn_hidden_size * 2)\n",
    "        \n",
    "        # Define the final fully connected layer\n",
    "        self.fc = nn.Linear(in_features=hidden_size, out_features=num_classes)\n",
    "\n",
    "    def _make_parallel_conv_layers(self):\n",
    "        \n",
    "        return nn.ModuleList([\n",
    "            nn.Conv1d(\n",
    "                in_channels=self.in_channels, \n",
    "                out_channels=self.planes, \n",
    "                kernel_size=kernel_size,\n",
    "                stride=1, \n",
    "                padding=kernel_size//2, \n",
    "                bias=False\n",
    "            ) for kernel_size in self.kernels\n",
    "        ])\n",
    "\n",
    "    def _make_resnet_part(self, fixed_kernel_size, n_blocks=9):\n",
    "        # prepare resnet layers\n",
    "        if self.use_dilation:\n",
    "            dilation_rates = [1, 2, 2, 2, 2, 4, 4, 4, 4] #[1] * n_blocks\n",
    "        else:\n",
    "            dilation_rates = [1] * n_blocks\n",
    "        paddings = [fixed_kernel_size//2 * rate for rate in dilation_rates]\n",
    "        \n",
    "        ds_layer = nn.MaxPool1d(kernel_size=2, stride=2, padding=0)\n",
    "        ds_layers = [ds_layer if i % 2 == 0 else None for i in range(n_blocks-1)] + [None]\n",
    "        \n",
    "        resnet_layers = [\n",
    "            ResNet_1D_Block(\n",
    "                in_channels=self.conv_in_size,\n",
    "                out_channels=self.conv_in_size, \n",
    "                kernel_size=fixed_kernel_size, \n",
    "                stride=1, \n",
    "                padding=paddings[i], \n",
    "                downsampling=ds_layers[i],\n",
    "                dropout=0.0,\n",
    "                dilation=dilation_rates[i])\n",
    "            for i in range(n_blocks)\n",
    "        ]\n",
    "        \n",
    "        # return the resnet encoder\n",
    "        return nn.Sequential(\n",
    "            nn.BatchNorm1d(num_features=self.conv_in_size),\n",
    "            nn.SiLU(), #nn.ReLU(inplace=False),\n",
    "            nn.Conv1d( # -> downsample by stride=2\n",
    "                in_channels=self.conv_in_size, \n",
    "                out_channels=self.conv_in_size,\n",
    "                kernel_size=fixed_kernel_size, \n",
    "                stride=1, \n",
    "                padding=fixed_kernel_size//2, \n",
    "                bias=False\n",
    "            ), \n",
    "            *resnet_layers,\n",
    "            nn.BatchNorm1d(num_features=self.conv_in_size),\n",
    "            nn.SiLU(), #nn.ReLU(inplace=False),\n",
    "            nn.AvgPool1d(kernel_size=5, stride=5, padding=0)\n",
    "        )\n",
    "    \n",
    "    def forward(self, x):\n",
    "        \n",
    "        x = x.permute(0, 2, 1)\n",
    "\n",
    "        cov_sep = [conv(x) for conv in self.parallel_conv]\n",
    "        cov_out = torch.cat(cov_sep, dim=1) # Vstack -> (N, sum(C_i), L)\n",
    "        \n",
    "        # - pass through the resnet part\n",
    "        resnet_out = self.resnet_part(cov_out)\n",
    "        out_1 = self.pooling_resnet(resnet_out.permute(0, 2, 1))\n",
    "        \n",
    "        # - extract features using rnn\n",
    "        rnn_out, _ = self.rnn(x.permute(0, 2, 1))\n",
    "        out_2 = self.pooling_rnn(rnn_out)\n",
    "\n",
    "        # - concat features and pass to FC\n",
    "        feat = torch.cat([out_1, out_2], dim=1) \n",
    "        result = self.fc(feat)  \n",
    "        \n",
    "        return result\n"
   ]
  },
  {
   "cell_type": "code",
   "execution_count": null,
   "metadata": {},
   "outputs": [],
   "source": [
    "train_dataset = EEGSeqDataset(train_all, ModelConfig, ALL_EEG_SIGNALS, mode=\"train\")\n",
    "train_loader = DataLoader(train_dataset, drop_last=True, batch_size=4, num_workers=4, pin_memory=True, shuffle=False)\n",
    "\n",
    "model = ResNetGRU(config=ModelConfig, num_classes=6)\n",
    "\n",
    "for i, batch in enumerate(train_loader):\n",
    "    X, y = batch\n",
    "\n",
    "    print(f\"X shape: {X.shape}\")\n",
    "    print(f\"y shape: {y.shape}\")\n",
    "    \n",
    "    y_pred = model(X)\n",
    "    print(y_pred.shape)\n",
    "    break \n",
    "\n",
    "del model, train_dataset, train_loader, X, y\n",
    "gc.collect()"
   ]
  },
  {
   "cell_type": "code",
   "execution_count": null,
   "metadata": {},
   "outputs": [],
   "source": [
    "!nvidia-smi"
   ]
  },
  {
   "cell_type": "markdown",
   "metadata": {},
   "source": [
    "# Train"
   ]
  },
  {
   "cell_type": "code",
   "execution_count": null,
   "metadata": {},
   "outputs": [],
   "source": [
    "import warnings\n",
    "warnings.filterwarnings(\"ignore\")\n",
    "\n",
    "class AverageMeter(object):\n",
    "    \"\"\"Computes and stores the average and current value\"\"\"\n",
    "\n",
    "    def __init__(self):\n",
    "        self.reset()\n",
    "\n",
    "    def reset(self):\n",
    "        self.val = 0\n",
    "        self.avg = 0\n",
    "        self.sum = 0\n",
    "        self.count = 0\n",
    "\n",
    "    def update(self, val, n=1):\n",
    "        self.val = val\n",
    "        self.sum += val * n\n",
    "        self.count += n\n",
    "        self.avg = self.sum / self.count\n",
    "        \n",
    "class Trainer:\n",
    "\n",
    "    def __init__(self, model, config, logger):\n",
    "\n",
    "        self.model = model\n",
    "        self.logger = logger\n",
    "        self.config = config\n",
    "        \n",
    "        self.early_stop_rounds = config.EARLY_STOP_ROUNDS\n",
    "        self.early_stop_counter = 0\n",
    "        \n",
    "        self.device = torch.device(\"cuda\" if torch.cuda.is_available() else \"cpu\")\n",
    "        self.kl_div_loss = nn.KLDivLoss(reduction='batchmean')\n",
    "        self.ce_loss = nn.CrossEntropyLoss()\n",
    "        self.gamma = config.REGULARIZATION\n",
    "        \n",
    "        # self.criterion = nn.KLDivLoss(reduction=\"batchmean\")\n",
    "    \n",
    "    def criterion(self, y_pred, y_true, weights=None, mode='train'):\n",
    "        kl_loss = self.kl_div_loss(F.log_softmax(y_pred, dim=1), y_true)\n",
    "        if (self.gamma is not None) & (mode == 'train'):\n",
    "            softmax_probs = F.softmax(y_pred, dim=1)  # Compute softmax probabilities\n",
    "            entropy_loss = -(softmax_probs * torch.log(softmax_probs + 1e-9)).sum(dim=1).mean(dim=0) # Compute entropy, add epsilon to avoid log(0)\n",
    "            return kl_loss - self.gamma * entropy_loss\n",
    "        else:\n",
    "            return kl_loss\n",
    "        \n",
    "    def train(self, train_loader, valid_loader, from_checkpoint=None):\n",
    "\n",
    "        self.optimizer = AdamW(self.model.parameters(), lr=8e-3, weight_decay=self.config.WEIGHT_DECAY)\n",
    "\n",
    "        # CosineAnnealingWarmRestarts( \n",
    "        #     self.optimizer,\n",
    "        #     T_0=20,\n",
    "        #     eta_min=1e-6,\n",
    "        #     T_mult=1,\n",
    "        #     last_epoch=-1\n",
    "        # )\n",
    "        self.scheduler =  OneCycleLR(\n",
    "            self.optimizer,\n",
    "            max_lr=1e-4,\n",
    "            epochs=self.config.EPOCHS,\n",
    "            steps_per_epoch=len(train_loader),\n",
    "            pct_start=0.1,\n",
    "            anneal_strategy=\"cos\",\n",
    "            final_div_factor=100,\n",
    "        )\n",
    "\n",
    "        if from_checkpoint is not None:\n",
    "            self.model.load_state_dict(torch.load(from_checkpoint, map_location=self.device))\n",
    "\n",
    "        self.model.to(self.device)\n",
    "        best_weights, best_preds, best_loss = None, None, float(\"inf\")\n",
    "        loss_records = {\"train\": [], \"valid\": []}\n",
    "\n",
    "        for epoch in range(self.config.EPOCHS):\n",
    "            start_epoch = time()\n",
    "\n",
    "            train_loss, _ = self._train_or_valid_epoch(epoch, train_loader, is_train=True)\n",
    "            valid_loss, valid_preds = self._train_or_valid_epoch(epoch, valid_loader, is_train=False)\n",
    "\n",
    "            loss_records[\"train\"].append(train_loss)\n",
    "            loss_records[\"valid\"].append(valid_loss)\n",
    "\n",
    "            elapsed = time() - start_epoch\n",
    "\n",
    "            info = f\"{'-' * 100}\\nEpoch {epoch + 1} - \"\n",
    "            info += f\"Average Loss: (train) {train_loss:.4f}; (valid) {valid_loss:.4f} | Time: {elapsed:.2f}s\"\n",
    "            self.logger.info(info)\n",
    "\n",
    "            if valid_loss < best_loss:\n",
    "                best_loss = valid_loss\n",
    "                best_weights = self.model.state_dict()\n",
    "                best_preds = valid_preds\n",
    "                self.logger.info(f\"Best model found in epoch {epoch + 1} | valid loss: {best_loss:.4f}\")\n",
    "                self.early_stop_counter = 0\n",
    "            \n",
    "            else:\n",
    "                self.early_stop_counter += 1\n",
    "                if self.early_stop_counter >= self.early_stop_rounds:\n",
    "                    self.logger.info(f\"Early stopping at epoch {epoch + 1}\")\n",
    "                    break\n",
    "\n",
    "        return best_weights, best_preds, loss_records\n",
    "\n",
    "    def _train_or_valid_epoch(self, epoch_id, dataloader, is_train=True):\n",
    "\n",
    "        self.model.train() if is_train else self.model.eval()\n",
    "        mode = \"Train\" if is_train else \"Valid\"\n",
    "\n",
    "        len_loader = len(dataloader)\n",
    "        scaler = GradScaler(enabled=self.config.AMP)\n",
    "        loss_meter, predicts_record = AverageMeter(), []\n",
    "\n",
    "        start = time()\n",
    "        pbar = tqdm(dataloader, total=len(dataloader), unit=\"batch\", desc=f\"{mode} [{epoch_id}]\")\n",
    "        for step, (X, y) in enumerate(pbar):\n",
    "            X, y = X.to(self.device), y.to(self.device)\n",
    "\n",
    "            if is_train:\n",
    "                with autocast(enabled=self.config.AMP):\n",
    "                    y_pred = self.model(X)\n",
    "                    loss = self.criterion(y_pred, y)\n",
    "                if self.config.GRADIENT_ACCUMULATION_STEPS > 1:\n",
    "                    loss = loss / self.config.GRADIENT_ACCUMULATION_STEPS\n",
    "                scaler.scale(loss).backward()\n",
    "                grad_norm = torch.nn.utils.clip_grad_norm_(self.model.parameters(), self.config.MAX_GRAD_NORM)\n",
    "                if (step + 1) % self.config.GRADIENT_ACCUMULATION_STEPS == 0:\n",
    "                    scaler.step(self.optimizer)\n",
    "                    scaler.update()\n",
    "                    self.optimizer.zero_grad()\n",
    "                    self.scheduler.step()\n",
    "            else:\n",
    "                with torch.no_grad():\n",
    "                    y_pred = self.model(X)\n",
    "                    loss = self.criterion(y_pred, y, mode='valid')\n",
    "                if self.config.GRADIENT_ACCUMULATION_STEPS > 1:\n",
    "                    loss = loss / self.config.GRADIENT_ACCUMULATION_STEPS\n",
    "                \n",
    "                predicts_record.append(y_pred.to('cpu').numpy())\n",
    "            \n",
    "            loss_meter.update(loss.item(), y.size(0))\n",
    "            end = time()\n",
    "\n",
    "            if (step % self.config.PRINT_FREQ == 0) or (step == (len_loader - 1)):\n",
    "                lr = self.scheduler.get_last_lr()[0]\n",
    "                info = f\"Epoch {epoch_id + 1} [{step}/{len_loader}] | {mode} Loss: {loss_meter.avg:.4f}\"\n",
    "                if is_train:\n",
    "                    info += f\" Grad: {grad_norm:.4f} LR: {lr:.4e}\"\n",
    "                info += f\" | Elapse: {end - start:.2f}s\"\n",
    "                print(info)\n",
    "\n",
    "        if not is_train:\n",
    "            predicts_record = np.concatenate(predicts_record)\n",
    "            \n",
    "        return loss_meter.avg, predicts_record\n"
   ]
  },
  {
   "cell_type": "code",
   "execution_count": null,
   "metadata": {},
   "outputs": [],
   "source": [
    "def train_fold(model, fold_id, train_folds, valid_folds, logger, stage=1, checkpoint=None):\n",
    "\n",
    "    train_dataset = EEGSeqDataset(train_folds, ModelConfig, ALL_EEG_SIGNALS, mode=\"train\")\n",
    "    valid_dataset = EEGSeqDataset(valid_folds, ModelConfig, ALL_EEG_SIGNALS, mode=\"valid\")\n",
    "\n",
    "    # ======== DATALOADERS ==========\n",
    "    loader_kwargs = {\n",
    "        \"batch_size\": ModelConfig.BATCH_SIZE,\n",
    "        \"num_workers\": ModelConfig.NUM_WORKERS,\n",
    "        \"pin_memory\": True,\n",
    "        \"shuffle\": False,\n",
    "    }\n",
    "\n",
    "    train_loader = DataLoader(train_dataset, drop_last=True, collate_fn=None, **loader_kwargs)\n",
    "    valid_loader = DataLoader(valid_dataset, drop_last=False, collate_fn=None, **loader_kwargs)\n",
    "\n",
    "    if checkpoint is not None:\n",
    "        print(f\"Loading model from checkpoint: {checkpoint}\")\n",
    "\n",
    "    trainer = Trainer(model, ModelConfig, logger)\n",
    "    best_weights, best_preds, loss_records = trainer.train(\n",
    "        train_loader, valid_loader, from_checkpoint=checkpoint)\n",
    "\n",
    "    save_model_name = f\"{ModelConfig.MODEL_NAME}_fold_{fold_id}_stage_{stage}.pth\"\n",
    "    torch.save(best_weights, os.path.join(PATHS.OUTPUT_DIR, save_model_name))\n",
    "\n",
    "    del train_dataset, valid_dataset, train_loader, valid_loader\n",
    "    torch.cuda.empty_cache()\n",
    "    gc.collect()\n",
    "\n",
    "    return best_preds, loss_records\n",
    "\n",
    "def evaluate_oof(oof_df):\n",
    "    '''\n",
    "    Evaluate the out-of-fold dataframe using KL Divergence (torch and kaggle)\n",
    "    '''\n",
    "    kl_loss = nn.KLDivLoss(reduction=\"batchmean\")\n",
    "    labels = torch.tensor(oof_df[TARGETS].values.astype('float32'))\n",
    "    preds = F.log_softmax(\n",
    "        torch.tensor(oof_df[TARGETS_PRED].values.astype('float32'), requires_grad=False),\n",
    "        dim=1\n",
    "    )\n",
    "    kl_torch = kl_loss(preds, labels).item()\n",
    "\n",
    "    return kl_torch\n",
    "\n",
    "def prepare_k_fold(df, k_folds=5):\n",
    "\n",
    "    kf = KFold(n_splits=k_folds, shuffle=True, random_state=ModelConfig.SEED)\n",
    "    unique_spec_id = df['spectrogram_id'].unique()\n",
    "    df['fold'] = k_folds\n",
    "\n",
    "    for fold, (train_index, valid_index) in enumerate(kf.split(unique_spec_id)):\n",
    "        df.loc[df['spectrogram_id'].isin(unique_spec_id[valid_index]), 'fold'] = fold\n",
    "\n",
    "    return df"
   ]
  },
  {
   "cell_type": "code",
   "execution_count": 22,
   "metadata": {},
   "outputs": [],
   "source": [
    "from kl_divergence import score as kaggle_score \n",
    "from sklearn.metrics import confusion_matrix\n",
    "import seaborn as sns\n",
    "\n",
    "TARGET2ID = {'Seizure': 0, 'LPD': 1, 'GPD': 2, 'LRDA': 3, 'GRDA': 4, 'Other': 5}\n",
    "\n",
    "def calc_kaggle_score(oof_df):\n",
    "    submission_df = oof_df[['eeg_id']+TARGETS_PRED].copy()\n",
    "    submission_df.columns = ['eeg_id'] + TARGETS\n",
    "    solution_df = oof_df[['eeg_id']+TARGETS].copy()\n",
    "    return kaggle_score(solution_df, submission_df, 'eeg_id')\n",
    "\n",
    "def analyze_oof(oof_csv):\n",
    "\n",
    "    kl_criteria = nn.KLDivLoss(reduction='batchmean')\n",
    "    softmax = nn.Softmax(dim=1)\n",
    "\n",
    "    oof_df = pd.read_csv(oof_csv)\n",
    "    oof_df['target_pred'] = oof_df[TARGETS_PRED].apply(lambda x: np.argmax(x), axis=1)\n",
    "    oof_df['target_id'] = oof_df[TARGETS].apply(lambda x: np.argmax(x), axis=1)\n",
    "    \n",
    "    oof_df[\"kl_loss\"] = oof_df.apply(\n",
    "    lambda row: \n",
    "        kl_criteria(\n",
    "            F.log_softmax(\n",
    "                    torch.tensor(row[TARGETS_PRED].values.astype(np.float32)).unsqueeze(0)\n",
    "                , dim=1\n",
    "                ), \n",
    "            torch.tensor(row[TARGETS].values.astype(np.float32))\n",
    "            ).numpy(),\n",
    "    axis=1)\n",
    "\n",
    "    oof_df[\"kl_loss\"] = oof_df['kl_loss'].astype(np.float32)\n",
    "\n",
    "    oof_df[TARGETS_PRED] = softmax( torch.tensor(oof_df[TARGETS_PRED].values.astype(np.float32)) )\n",
    "\n",
    "    oof_df.head()\n",
    "\n",
    "    return oof_df"
   ]
  },
  {
   "cell_type": "code",
   "execution_count": 24,
   "metadata": {},
   "outputs": [
    {
     "name": "stderr",
     "output_type": "stream",
     "text": [
      "****************************************************************************************************\n",
      "Script Start: Sat Apr  6 23:44:12 2024\n",
      "Model Configurations:\n",
      "SEED: 20\n",
      "SPLIT_ENTROPY: 5.5\n",
      "MODEL_NAME: ResnetGRU_v2_Vstack_Filter_05_20_20_60_30_Normalized\n",
      "MODEL_BACKBONE: reset_gru\n",
      "BATCH_SIZE: 32\n",
      "EPOCHS: 20\n",
      "EARLY_STOP_ROUNDS: 5\n",
      "GRADIENT_ACCUMULATION_STEPS: 1\n",
      "DROP_RATE: 0.15\n",
      "DROP_PATH_RATE: 0.25\n",
      "WEIGHT_DECAY: 0.01\n",
      "AMP: True\n",
      "PRINT_FREQ: 100\n",
      "NUM_WORKERS: 0\n",
      "MAX_GRAD_NORM: 10000000.0\n",
      "REGULARIZATION: None\n",
      "RESNET_GRU_BANDPASS: (0.5, 20)\n",
      "RESNET_GRU_LOWPASS: 20\n",
      "RESNET_GRU_NOTCH: (60, 30)\n",
      "RESNET_GRU_IN_CHANNELS: 8\n",
      "RESNET_GRU_KERNELS: [3, 5, 7, 9, 11]\n",
      "RESNET_GRU_FIXED_KERNEL_SIZE: 5\n",
      "RESNET_GRU_DOWNSAMPLE: 5\n",
      "RESNET_GRU_HIDDEN_SIZE: 304\n",
      "RESNET_GRU_DILATED: False\n",
      "****************************************************************************************************\n",
      "- Stage 2 | Train: 5215; Valid: 1277 | Reg = 0.2 -\n"
     ]
    },
    {
     "name": "stdout",
     "output_type": "stream",
     "text": [
      "Loading model from checkpoint: outputs/ResnetGRU_v2_Vstack_Filter_05_20_20_60_30_Normalized_fold_0_stage_1.pth\n"
     ]
    },
    {
     "data": {
      "application/vnd.jupyter.widget-view+json": {
       "model_id": "1e8ef2ccfe79403ca062cccf889957fc",
       "version_major": 2,
       "version_minor": 0
      },
      "text/plain": [
       "Train [0]:   0%|          | 0/162 [00:00<?, ?batch/s]"
      ]
     },
     "metadata": {},
     "output_type": "display_data"
    },
    {
     "name": "stdout",
     "output_type": "stream",
     "text": [
      "Epoch 1 [0/162] | Train Loss: 0.2301 Grad: 1341501.8750 LR: 4.0023e-06 | Elapse: 0.11s\n",
      "Epoch 1 [100/162] | Train Loss: 0.1275 Grad: 417967.6875 LR: 2.5357e-05 | Elapse: 10.03s\n",
      "Epoch 1 [161/162] | Train Loss: 0.1129 Grad: 208554.8281 LR: 5.2233e-05 | Elapse: 16.06s\n"
     ]
    },
    {
     "data": {
      "application/vnd.jupyter.widget-view+json": {
       "model_id": "0d4e9cd7b9fb4c9f9bcd4d18dd18fa3e",
       "version_major": 2,
       "version_minor": 0
      },
      "text/plain": [
       "Valid [0]:   0%|          | 0/40 [00:00<?, ?batch/s]"
      ]
     },
     "metadata": {},
     "output_type": "display_data"
    },
    {
     "name": "stdout",
     "output_type": "stream",
     "text": [
      "Epoch 1 [0/40] | Valid Loss: 0.3930 | Elapse: 0.10s\n"
     ]
    },
    {
     "name": "stderr",
     "output_type": "stream",
     "text": [
      "----------------------------------------------------------------------------------------------------\n",
      "Epoch 1 - Average Loss: (train) 0.1129; (valid) 0.4271 | Time: 19.76s\n",
      "Best model found in epoch 1 | valid loss: 0.4271\n"
     ]
    },
    {
     "name": "stdout",
     "output_type": "stream",
     "text": [
      "Epoch 1 [39/40] | Valid Loss: 0.4271 | Elapse: 3.70s\n"
     ]
    },
    {
     "data": {
      "application/vnd.jupyter.widget-view+json": {
       "model_id": "a60cc0ec6dc845649269f51327442fab",
       "version_major": 2,
       "version_minor": 0
      },
      "text/plain": [
       "Train [1]:   0%|          | 0/162 [00:00<?, ?batch/s]"
      ]
     },
     "metadata": {},
     "output_type": "display_data"
    },
    {
     "name": "stdout",
     "output_type": "stream",
     "text": [
      "Epoch 2 [0/162] | Train Loss: 0.0116 Grad: 300951.2812 LR: 5.2700e-05 | Elapse: 0.10s\n",
      "Epoch 2 [100/162] | Train Loss: 0.0534 Grad: 287319.0938 LR: 9.2056e-05 | Elapse: 10.01s\n",
      "Epoch 2 [161/162] | Train Loss: 0.0506 Grad: 241645.5312 LR: 1.0000e-04 | Elapse: 16.05s\n"
     ]
    },
    {
     "data": {
      "application/vnd.jupyter.widget-view+json": {
       "model_id": "bda6bbb3858946cdb6784c437ffdab0e",
       "version_major": 2,
       "version_minor": 0
      },
      "text/plain": [
       "Valid [1]:   0%|          | 0/40 [00:00<?, ?batch/s]"
      ]
     },
     "metadata": {},
     "output_type": "display_data"
    },
    {
     "name": "stdout",
     "output_type": "stream",
     "text": [
      "Epoch 2 [0/40] | Valid Loss: 0.4319 | Elapse: 0.10s\n"
     ]
    },
    {
     "name": "stderr",
     "output_type": "stream",
     "text": [
      "----------------------------------------------------------------------------------------------------\n",
      "Epoch 2 - Average Loss: (train) 0.0506; (valid) 0.4270 | Time: 19.76s\n",
      "Best model found in epoch 2 | valid loss: 0.4270\n"
     ]
    },
    {
     "name": "stdout",
     "output_type": "stream",
     "text": [
      "Epoch 2 [39/40] | Valid Loss: 0.4270 | Elapse: 3.71s\n"
     ]
    },
    {
     "data": {
      "application/vnd.jupyter.widget-view+json": {
       "model_id": "35d9d5d0289b4e729b8c359592e090a3",
       "version_major": 2,
       "version_minor": 0
      },
      "text/plain": [
       "Train [2]:   0%|          | 0/162 [00:00<?, ?batch/s]"
      ]
     },
     "metadata": {},
     "output_type": "display_data"
    },
    {
     "name": "stdout",
     "output_type": "stream",
     "text": [
      "Epoch 3 [0/162] | Train Loss: -0.0096 Grad: 220587.2344 LR: 1.0000e-04 | Elapse: 0.10s\n",
      "Epoch 3 [100/162] | Train Loss: 0.0214 Grad: 294426.5000 LR: 9.9699e-05 | Elapse: 9.97s\n",
      "Epoch 3 [161/162] | Train Loss: 0.0179 Grad: 177267.7812 LR: 9.9231e-05 | Elapse: 15.98s\n"
     ]
    },
    {
     "data": {
      "application/vnd.jupyter.widget-view+json": {
       "model_id": "994457918af24de09e8a5c0cdacb2301",
       "version_major": 2,
       "version_minor": 0
      },
      "text/plain": [
       "Valid [2]:   0%|          | 0/40 [00:00<?, ?batch/s]"
      ]
     },
     "metadata": {},
     "output_type": "display_data"
    },
    {
     "name": "stdout",
     "output_type": "stream",
     "text": [
      "Epoch 3 [0/40] | Valid Loss: 0.3719 | Elapse: 0.10s\n"
     ]
    },
    {
     "name": "stderr",
     "output_type": "stream",
     "text": [
      "----------------------------------------------------------------------------------------------------\n",
      "Epoch 3 - Average Loss: (train) 0.0179; (valid) 0.4071 | Time: 19.70s\n",
      "Best model found in epoch 3 | valid loss: 0.4071\n"
     ]
    },
    {
     "name": "stdout",
     "output_type": "stream",
     "text": [
      "Epoch 3 [39/40] | Valid Loss: 0.4071 | Elapse: 3.71s\n"
     ]
    },
    {
     "data": {
      "application/vnd.jupyter.widget-view+json": {
       "model_id": "4e736cb609c543aaaa6178b873c11210",
       "version_major": 2,
       "version_minor": 0
      },
      "text/plain": [
       "Train [3]:   0%|          | 0/162 [00:00<?, ?batch/s]"
      ]
     },
     "metadata": {},
     "output_type": "display_data"
    },
    {
     "name": "stdout",
     "output_type": "stream",
     "text": [
      "Epoch 4 [0/162] | Train Loss: -0.0392 Grad: 187071.4688 LR: 9.9222e-05 | Elapse: 0.10s\n",
      "Epoch 4 [100/162] | Train Loss: 0.0004 Grad: 231185.2188 LR: 9.7992e-05 | Elapse: 9.96s\n",
      "Epoch 4 [161/162] | Train Loss: 0.0001 Grad: 135300.9844 LR: 9.6967e-05 | Elapse: 15.96s\n"
     ]
    },
    {
     "data": {
      "application/vnd.jupyter.widget-view+json": {
       "model_id": "7187d7228d8e44e18f00d7e7ddc487f6",
       "version_major": 2,
       "version_minor": 0
      },
      "text/plain": [
       "Valid [3]:   0%|          | 0/40 [00:00<?, ?batch/s]"
      ]
     },
     "metadata": {},
     "output_type": "display_data"
    },
    {
     "name": "stdout",
     "output_type": "stream",
     "text": [
      "Epoch 4 [0/40] | Valid Loss: 0.3711 | Elapse: 0.10s\n"
     ]
    },
    {
     "name": "stderr",
     "output_type": "stream",
     "text": [
      "----------------------------------------------------------------------------------------------------\n",
      "Epoch 4 - Average Loss: (train) 0.0001; (valid) 0.4186 | Time: 19.67s\n"
     ]
    },
    {
     "name": "stdout",
     "output_type": "stream",
     "text": [
      "Epoch 4 [39/40] | Valid Loss: 0.4186 | Elapse: 3.71s\n"
     ]
    },
    {
     "data": {
      "application/vnd.jupyter.widget-view+json": {
       "model_id": "ad3e63cf36e5428ba059c376a111edc1",
       "version_major": 2,
       "version_minor": 0
      },
      "text/plain": [
       "Train [4]:   0%|          | 0/162 [00:00<?, ?batch/s]"
      ]
     },
     "metadata": {},
     "output_type": "display_data"
    },
    {
     "name": "stdout",
     "output_type": "stream",
     "text": [
      "Epoch 5 [0/162] | Train Loss: -0.0521 Grad: 149109.0625 LR: 9.6949e-05 | Elapse: 0.10s\n",
      "Epoch 5 [100/162] | Train Loss: -0.0113 Grad: 191243.2344 LR: 9.4828e-05 | Elapse: 9.97s\n",
      "Epoch 5 [161/162] | Train Loss: -0.0118 Grad: 133959.0312 LR: 9.3277e-05 | Elapse: 15.98s\n"
     ]
    },
    {
     "data": {
      "application/vnd.jupyter.widget-view+json": {
       "model_id": "e73467321655438c80e78704c6ea8dd9",
       "version_major": 2,
       "version_minor": 0
      },
      "text/plain": [
       "Valid [4]:   0%|          | 0/40 [00:00<?, ?batch/s]"
      ]
     },
     "metadata": {},
     "output_type": "display_data"
    },
    {
     "name": "stdout",
     "output_type": "stream",
     "text": [
      "Epoch 5 [0/40] | Valid Loss: 0.3542 | Elapse: 0.10s\n"
     ]
    },
    {
     "name": "stderr",
     "output_type": "stream",
     "text": [
      "----------------------------------------------------------------------------------------------------\n",
      "Epoch 5 - Average Loss: (train) -0.0118; (valid) 0.4077 | Time: 19.70s\n"
     ]
    },
    {
     "name": "stdout",
     "output_type": "stream",
     "text": [
      "Epoch 5 [39/40] | Valid Loss: 0.4077 | Elapse: 3.71s\n"
     ]
    },
    {
     "data": {
      "application/vnd.jupyter.widget-view+json": {
       "model_id": "879d9ca144e14f26b5bbc656d0af1aec",
       "version_major": 2,
       "version_minor": 0
      },
      "text/plain": [
       "Train [5]:   0%|          | 0/162 [00:00<?, ?batch/s]"
      ]
     },
     "metadata": {},
     "output_type": "display_data"
    },
    {
     "name": "stdout",
     "output_type": "stream",
     "text": [
      "Epoch 6 [0/162] | Train Loss: -0.0690 Grad: 114816.6406 LR: 9.3250e-05 | Elapse: 0.10s\n",
      "Epoch 6 [100/162] | Train Loss: -0.0257 Grad: 152110.4062 LR: 9.0302e-05 | Elapse: 9.97s\n",
      "Epoch 6 [161/162] | Train Loss: -0.0285 Grad: 342313.6562 LR: 8.8272e-05 | Elapse: 15.98s\n"
     ]
    },
    {
     "data": {
      "application/vnd.jupyter.widget-view+json": {
       "model_id": "0e812febe2a44d39883990f7a4c0f647",
       "version_major": 2,
       "version_minor": 0
      },
      "text/plain": [
       "Valid [5]:   0%|          | 0/40 [00:00<?, ?batch/s]"
      ]
     },
     "metadata": {},
     "output_type": "display_data"
    },
    {
     "name": "stdout",
     "output_type": "stream",
     "text": [
      "Epoch 6 [0/40] | Valid Loss: 0.3744 | Elapse: 0.10s\n"
     ]
    },
    {
     "name": "stderr",
     "output_type": "stream",
     "text": [
      "----------------------------------------------------------------------------------------------------\n",
      "Epoch 6 - Average Loss: (train) -0.0285; (valid) 0.4146 | Time: 19.70s\n"
     ]
    },
    {
     "name": "stdout",
     "output_type": "stream",
     "text": [
      "Epoch 6 [39/40] | Valid Loss: 0.4146 | Elapse: 3.71s\n"
     ]
    },
    {
     "data": {
      "application/vnd.jupyter.widget-view+json": {
       "model_id": "869b1750ac914f7e98dab6efe80119d9",
       "version_major": 2,
       "version_minor": 0
      },
      "text/plain": [
       "Train [6]:   0%|          | 0/162 [00:00<?, ?batch/s]"
      ]
     },
     "metadata": {},
     "output_type": "display_data"
    },
    {
     "name": "stdout",
     "output_type": "stream",
     "text": [
      "Epoch 7 [0/162] | Train Loss: -0.0749 Grad: 108748.0547 LR: 8.8238e-05 | Elapse: 0.10s\n",
      "Epoch 7 [100/162] | Train Loss: -0.0384 Grad: 220981.6719 LR: 8.4553e-05 | Elapse: 9.95s\n",
      "Epoch 7 [161/162] | Train Loss: -0.0418 Grad: 168694.1719 LR: 8.2105e-05 | Elapse: 15.95s\n"
     ]
    },
    {
     "data": {
      "application/vnd.jupyter.widget-view+json": {
       "model_id": "e8fef4c8029b4d25aad481c656811116",
       "version_major": 2,
       "version_minor": 0
      },
      "text/plain": [
       "Valid [6]:   0%|          | 0/40 [00:00<?, ?batch/s]"
      ]
     },
     "metadata": {},
     "output_type": "display_data"
    },
    {
     "name": "stdout",
     "output_type": "stream",
     "text": [
      "Epoch 7 [0/40] | Valid Loss: 0.3502 | Elapse: 0.10s\n"
     ]
    },
    {
     "name": "stderr",
     "output_type": "stream",
     "text": [
      "----------------------------------------------------------------------------------------------------\n",
      "Epoch 7 - Average Loss: (train) -0.0418; (valid) 0.4327 | Time: 19.67s\n"
     ]
    },
    {
     "name": "stdout",
     "output_type": "stream",
     "text": [
      "Epoch 7 [39/40] | Valid Loss: 0.4327 | Elapse: 3.71s\n"
     ]
    },
    {
     "data": {
      "application/vnd.jupyter.widget-view+json": {
       "model_id": "98cbf5f03d8144c1b4e851b1171022ad",
       "version_major": 2,
       "version_minor": 0
      },
      "text/plain": [
       "Train [7]:   0%|          | 0/162 [00:00<?, ?batch/s]"
      ]
     },
     "metadata": {},
     "output_type": "display_data"
    },
    {
     "name": "stdout",
     "output_type": "stream",
     "text": [
      "Epoch 8 [0/162] | Train Loss: -0.0767 Grad: 140662.9375 LR: 8.2064e-05 | Elapse: 0.10s\n",
      "Epoch 8 [100/162] | Train Loss: -0.0471 Grad: 224700.3438 LR: 7.7754e-05 | Elapse: 9.96s\n",
      "Epoch 8 [161/162] | Train Loss: -0.0506 Grad: 123958.4375 LR: 7.4963e-05 | Elapse: 15.97s\n"
     ]
    },
    {
     "data": {
      "application/vnd.jupyter.widget-view+json": {
       "model_id": "9641b8bcf9d04695be3c1205cabf1abd",
       "version_major": 2,
       "version_minor": 0
      },
      "text/plain": [
       "Valid [7]:   0%|          | 0/40 [00:00<?, ?batch/s]"
      ]
     },
     "metadata": {},
     "output_type": "display_data"
    },
    {
     "name": "stdout",
     "output_type": "stream",
     "text": [
      "Epoch 8 [0/40] | Valid Loss: 0.3718 | Elapse: 0.10s\n"
     ]
    },
    {
     "name": "stderr",
     "output_type": "stream",
     "text": [
      "----------------------------------------------------------------------------------------------------\n",
      "Epoch 8 - Average Loss: (train) -0.0506; (valid) 0.4214 | Time: 19.68s\n",
      "Early stopping at epoch 8\n",
      "====================================================================================================\n",
      "Fold 0 Valid Loss: 0.4070611894130707\n",
      "Elapse: 2.63 min \n",
      "====================================================================================================\n"
     ]
    },
    {
     "name": "stdout",
     "output_type": "stream",
     "text": [
      "Epoch 8 [39/40] | Valid Loss: 0.4214 | Elapse: 3.71s\n"
     ]
    },
    {
     "name": "stderr",
     "output_type": "stream",
     "text": [
      "Fold 0 Elapse: 2.63 min\n",
      "- Stage 2 | Train: 5248; Valid: 1244 | Reg = 0.2 -\n"
     ]
    },
    {
     "name": "stdout",
     "output_type": "stream",
     "text": [
      "Loading model from checkpoint: outputs/ResnetGRU_v2_Vstack_Filter_05_20_20_60_30_Normalized_fold_1_stage_1.pth\n"
     ]
    },
    {
     "data": {
      "application/vnd.jupyter.widget-view+json": {
       "model_id": "1f6223976d6a4e15b48ed4cd9d749323",
       "version_major": 2,
       "version_minor": 0
      },
      "text/plain": [
       "Train [0]:   0%|          | 0/164 [00:00<?, ?batch/s]"
      ]
     },
     "metadata": {},
     "output_type": "display_data"
    },
    {
     "name": "stdout",
     "output_type": "stream",
     "text": [
      "Epoch 1 [0/164] | Train Loss: 0.1561 Grad: 348455.7188 LR: 4.0022e-06 | Elapse: 0.11s\n",
      "Epoch 1 [100/164] | Train Loss: 0.1710 Grad: 293488.8750 LR: 2.4879e-05 | Elapse: 10.01s\n",
      "Epoch 1 [163/164] | Train Loss: 0.1453 Grad: 260240.0312 LR: 5.2231e-05 | Elapse: 16.24s\n"
     ]
    },
    {
     "data": {
      "application/vnd.jupyter.widget-view+json": {
       "model_id": "e3077caa6d6942939a8acfaa81d51b33",
       "version_major": 2,
       "version_minor": 0
      },
      "text/plain": [
       "Valid [0]:   0%|          | 0/39 [00:00<?, ?batch/s]"
      ]
     },
     "metadata": {},
     "output_type": "display_data"
    },
    {
     "name": "stdout",
     "output_type": "stream",
     "text": [
      "Epoch 1 [0/39] | Valid Loss: 0.3753 | Elapse: 0.10s\n"
     ]
    },
    {
     "name": "stderr",
     "output_type": "stream",
     "text": [
      "----------------------------------------------------------------------------------------------------\n",
      "Epoch 1 - Average Loss: (train) 0.1453; (valid) 0.4255 | Time: 19.87s\n",
      "Best model found in epoch 1 | valid loss: 0.4255\n"
     ]
    },
    {
     "name": "stdout",
     "output_type": "stream",
     "text": [
      "Epoch 1 [38/39] | Valid Loss: 0.4255 | Elapse: 3.62s\n"
     ]
    },
    {
     "data": {
      "application/vnd.jupyter.widget-view+json": {
       "model_id": "707f0f2f227848d4884d54c9430c6c41",
       "version_major": 2,
       "version_minor": 0
      },
      "text/plain": [
       "Train [1]:   0%|          | 0/164 [00:00<?, ?batch/s]"
      ]
     },
     "metadata": {},
     "output_type": "display_data"
    },
    {
     "name": "stdout",
     "output_type": "stream",
     "text": [
      "Epoch 2 [0/164] | Train Loss: 0.0660 Grad: 201749.2812 LR: 5.2692e-05 | Elapse: 0.10s\n",
      "Epoch 2 [100/164] | Train Loss: 0.0884 Grad: 239460.4375 LR: 9.1734e-05 | Elapse: 9.98s\n",
      "Epoch 2 [163/164] | Train Loss: 0.0777 Grad: 189415.7969 LR: 1.0000e-04 | Elapse: 16.21s\n"
     ]
    },
    {
     "data": {
      "application/vnd.jupyter.widget-view+json": {
       "model_id": "d163fbfecd12442297131becb5ba9aa3",
       "version_major": 2,
       "version_minor": 0
      },
      "text/plain": [
       "Valid [1]:   0%|          | 0/39 [00:00<?, ?batch/s]"
      ]
     },
     "metadata": {},
     "output_type": "display_data"
    },
    {
     "name": "stdout",
     "output_type": "stream",
     "text": [
      "Epoch 2 [0/39] | Valid Loss: 0.3645 | Elapse: 0.10s\n"
     ]
    },
    {
     "name": "stderr",
     "output_type": "stream",
     "text": [
      "----------------------------------------------------------------------------------------------------\n",
      "Epoch 2 - Average Loss: (train) 0.0777; (valid) 0.4093 | Time: 19.84s\n",
      "Best model found in epoch 2 | valid loss: 0.4093\n"
     ]
    },
    {
     "name": "stdout",
     "output_type": "stream",
     "text": [
      "Epoch 2 [38/39] | Valid Loss: 0.4093 | Elapse: 3.62s\n"
     ]
    },
    {
     "data": {
      "application/vnd.jupyter.widget-view+json": {
       "model_id": "fb50a7bca5e24ede924fbdb3c8f3e2ef",
       "version_major": 2,
       "version_minor": 0
      },
      "text/plain": [
       "Train [2]:   0%|          | 0/164 [00:00<?, ?batch/s]"
      ]
     },
     "metadata": {},
     "output_type": "display_data"
    },
    {
     "name": "stdout",
     "output_type": "stream",
     "text": [
      "Epoch 3 [0/164] | Train Loss: 0.0458 Grad: 203458.6094 LR: 1.0000e-04 | Elapse: 0.10s\n",
      "Epoch 3 [100/164] | Train Loss: 0.0465 Grad: 152300.3750 LR: 9.9706e-05 | Elapse: 10.03s\n",
      "Epoch 3 [163/164] | Train Loss: 0.0400 Grad: 219552.7812 LR: 9.9231e-05 | Elapse: 16.30s\n"
     ]
    },
    {
     "data": {
      "application/vnd.jupyter.widget-view+json": {
       "model_id": "8068325a7fd54c2cbbe2e0e4937dda8c",
       "version_major": 2,
       "version_minor": 0
      },
      "text/plain": [
       "Valid [2]:   0%|          | 0/39 [00:00<?, ?batch/s]"
      ]
     },
     "metadata": {},
     "output_type": "display_data"
    },
    {
     "name": "stdout",
     "output_type": "stream",
     "text": [
      "Epoch 3 [0/39] | Valid Loss: 0.3627 | Elapse: 0.10s\n"
     ]
    },
    {
     "name": "stderr",
     "output_type": "stream",
     "text": [
      "----------------------------------------------------------------------------------------------------\n",
      "Epoch 3 - Average Loss: (train) 0.0400; (valid) 0.4118 | Time: 19.93s\n"
     ]
    },
    {
     "name": "stdout",
     "output_type": "stream",
     "text": [
      "Epoch 3 [38/39] | Valid Loss: 0.4118 | Elapse: 3.63s\n"
     ]
    },
    {
     "data": {
      "application/vnd.jupyter.widget-view+json": {
       "model_id": "283bd3bc7d684f2c8ec30467c1ee61b0",
       "version_major": 2,
       "version_minor": 0
      },
      "text/plain": [
       "Train [3]:   0%|          | 0/164 [00:00<?, ?batch/s]"
      ]
     },
     "metadata": {},
     "output_type": "display_data"
    },
    {
     "name": "stdout",
     "output_type": "stream",
     "text": [
      "Epoch 4 [0/164] | Train Loss: -0.0011 Grad: 190450.8125 LR: 9.9222e-05 | Elapse: 0.10s\n",
      "Epoch 4 [100/164] | Train Loss: 0.0184 Grad: 193391.5156 LR: 9.8011e-05 | Elapse: 10.06s\n",
      "Epoch 4 [163/164] | Train Loss: 0.0128 Grad: 191615.1094 LR: 9.6968e-05 | Elapse: 16.33s\n"
     ]
    },
    {
     "data": {
      "application/vnd.jupyter.widget-view+json": {
       "model_id": "b33edf2e9f684fb393a38f83ce464cf8",
       "version_major": 2,
       "version_minor": 0
      },
      "text/plain": [
       "Valid [3]:   0%|          | 0/39 [00:00<?, ?batch/s]"
      ]
     },
     "metadata": {},
     "output_type": "display_data"
    },
    {
     "name": "stdout",
     "output_type": "stream",
     "text": [
      "Epoch 4 [0/39] | Valid Loss: 0.3686 | Elapse: 0.10s\n"
     ]
    },
    {
     "name": "stderr",
     "output_type": "stream",
     "text": [
      "----------------------------------------------------------------------------------------------------\n",
      "Epoch 4 - Average Loss: (train) 0.0128; (valid) 0.4143 | Time: 19.96s\n"
     ]
    },
    {
     "name": "stdout",
     "output_type": "stream",
     "text": [
      "Epoch 4 [38/39] | Valid Loss: 0.4143 | Elapse: 3.63s\n"
     ]
    },
    {
     "data": {
      "application/vnd.jupyter.widget-view+json": {
       "model_id": "27614554845f474594c8d7c89b3be437",
       "version_major": 2,
       "version_minor": 0
      },
      "text/plain": [
       "Train [4]:   0%|          | 0/164 [00:00<?, ?batch/s]"
      ]
     },
     "metadata": {},
     "output_type": "display_data"
    },
    {
     "name": "stdout",
     "output_type": "stream",
     "text": [
      "Epoch 5 [0/164] | Train Loss: -0.0204 Grad: 161533.7500 LR: 9.6949e-05 | Elapse: 0.10s\n",
      "Epoch 5 [100/164] | Train Loss: -0.0006 Grad: 234850.5781 LR: 9.4857e-05 | Elapse: 9.98s\n",
      "Epoch 5 [163/164] | Train Loss: -0.0029 Grad: 236423.5938 LR: 9.3277e-05 | Elapse: 16.19s\n"
     ]
    },
    {
     "data": {
      "application/vnd.jupyter.widget-view+json": {
       "model_id": "1d6944a604a14476819b55a55e8a648c",
       "version_major": 2,
       "version_minor": 0
      },
      "text/plain": [
       "Valid [4]:   0%|          | 0/39 [00:00<?, ?batch/s]"
      ]
     },
     "metadata": {},
     "output_type": "display_data"
    },
    {
     "name": "stdout",
     "output_type": "stream",
     "text": [
      "Epoch 5 [0/39] | Valid Loss: 0.3502 | Elapse: 0.10s\n"
     ]
    },
    {
     "name": "stderr",
     "output_type": "stream",
     "text": [
      "----------------------------------------------------------------------------------------------------\n",
      "Epoch 5 - Average Loss: (train) -0.0029; (valid) 0.4150 | Time: 19.82s\n"
     ]
    },
    {
     "name": "stdout",
     "output_type": "stream",
     "text": [
      "Epoch 5 [38/39] | Valid Loss: 0.4150 | Elapse: 3.63s\n"
     ]
    },
    {
     "data": {
      "application/vnd.jupyter.widget-view+json": {
       "model_id": "a900a7ccba0845f2874eca71952fc25b",
       "version_major": 2,
       "version_minor": 0
      },
      "text/plain": [
       "Train [5]:   0%|          | 0/164 [00:00<?, ?batch/s]"
      ]
     },
     "metadata": {},
     "output_type": "display_data"
    },
    {
     "name": "stdout",
     "output_type": "stream",
     "text": [
      "Epoch 6 [0/164] | Train Loss: -0.0228 Grad: 153229.0156 LR: 9.3251e-05 | Elapse: 0.10s\n",
      "Epoch 6 [100/164] | Train Loss: -0.0079 Grad: 181432.3906 LR: 9.0342e-05 | Elapse: 9.99s\n",
      "Epoch 6 [163/164] | Train Loss: -0.0125 Grad: 148336.5781 LR: 8.8273e-05 | Elapse: 16.22s\n"
     ]
    },
    {
     "data": {
      "application/vnd.jupyter.widget-view+json": {
       "model_id": "9e4cdfc24b354d8ebded377d86f50246",
       "version_major": 2,
       "version_minor": 0
      },
      "text/plain": [
       "Valid [5]:   0%|          | 0/39 [00:00<?, ?batch/s]"
      ]
     },
     "metadata": {},
     "output_type": "display_data"
    },
    {
     "name": "stdout",
     "output_type": "stream",
     "text": [
      "Epoch 6 [0/39] | Valid Loss: 0.3571 | Elapse: 0.10s\n"
     ]
    },
    {
     "name": "stderr",
     "output_type": "stream",
     "text": [
      "----------------------------------------------------------------------------------------------------\n",
      "Epoch 6 - Average Loss: (train) -0.0125; (valid) 0.4203 | Time: 19.84s\n"
     ]
    },
    {
     "name": "stdout",
     "output_type": "stream",
     "text": [
      "Epoch 6 [38/39] | Valid Loss: 0.4203 | Elapse: 3.62s\n"
     ]
    },
    {
     "data": {
      "application/vnd.jupyter.widget-view+json": {
       "model_id": "b286d234979f4438a97bfaf49b2431b2",
       "version_major": 2,
       "version_minor": 0
      },
      "text/plain": [
       "Train [6]:   0%|          | 0/164 [00:00<?, ?batch/s]"
      ]
     },
     "metadata": {},
     "output_type": "display_data"
    },
    {
     "name": "stdout",
     "output_type": "stream",
     "text": [
      "Epoch 7 [0/164] | Train Loss: -0.0513 Grad: 160649.1719 LR: 8.8238e-05 | Elapse: 0.10s\n",
      "Epoch 7 [100/164] | Train Loss: -0.0229 Grad: 273481.8750 LR: 8.4601e-05 | Elapse: 10.01s\n",
      "Epoch 7 [163/164] | Train Loss: -0.0270 Grad: 208186.0312 LR: 8.2106e-05 | Elapse: 16.25s\n"
     ]
    },
    {
     "data": {
      "application/vnd.jupyter.widget-view+json": {
       "model_id": "57cd4b78a96542b1a49bef4d1bedadba",
       "version_major": 2,
       "version_minor": 0
      },
      "text/plain": [
       "Valid [6]:   0%|          | 0/39 [00:00<?, ?batch/s]"
      ]
     },
     "metadata": {},
     "output_type": "display_data"
    },
    {
     "name": "stdout",
     "output_type": "stream",
     "text": [
      "Epoch 7 [0/39] | Valid Loss: 0.3526 | Elapse: 0.10s\n"
     ]
    },
    {
     "name": "stderr",
     "output_type": "stream",
     "text": [
      "----------------------------------------------------------------------------------------------------\n",
      "Epoch 7 - Average Loss: (train) -0.0270; (valid) 0.4220 | Time: 19.87s\n",
      "Early stopping at epoch 7\n",
      "====================================================================================================\n",
      "Fold 1 Valid Loss: 0.40928131341934204\n",
      "Elapse: 2.32 min \n",
      "====================================================================================================\n"
     ]
    },
    {
     "name": "stdout",
     "output_type": "stream",
     "text": [
      "Epoch 7 [38/39] | Valid Loss: 0.4220 | Elapse: 3.61s\n"
     ]
    },
    {
     "name": "stderr",
     "output_type": "stream",
     "text": [
      "Fold 1 Elapse: 2.32 min\n",
      "- Stage 2 | Train: 5070; Valid: 1422 | Reg = 0.2 -\n"
     ]
    },
    {
     "name": "stdout",
     "output_type": "stream",
     "text": [
      "Loading model from checkpoint: outputs/ResnetGRU_v2_Vstack_Filter_05_20_20_60_30_Normalized_fold_2_stage_1.pth\n"
     ]
    },
    {
     "data": {
      "application/vnd.jupyter.widget-view+json": {
       "model_id": "7d5c5b2b9c3e4309bdf822a7562a6887",
       "version_major": 2,
       "version_minor": 0
      },
      "text/plain": [
       "Train [0]:   0%|          | 0/158 [00:00<?, ?batch/s]"
      ]
     },
     "metadata": {},
     "output_type": "display_data"
    },
    {
     "name": "stdout",
     "output_type": "stream",
     "text": [
      "Epoch 1 [0/158] | Train Loss: 0.1443 Grad: 342099.6562 LR: 4.0024e-06 | Elapse: 0.11s\n",
      "Epoch 1 [100/158] | Train Loss: 0.1718 Grad: 451266.7188 LR: 2.6361e-05 | Elapse: 10.01s\n",
      "Epoch 1 [157/158] | Train Loss: 0.1453 Grad: 263898.1562 LR: 5.2239e-05 | Elapse: 15.65s\n"
     ]
    },
    {
     "data": {
      "application/vnd.jupyter.widget-view+json": {
       "model_id": "b3ddd72413144acf976569518b188479",
       "version_major": 2,
       "version_minor": 0
      },
      "text/plain": [
       "Valid [0]:   0%|          | 0/45 [00:00<?, ?batch/s]"
      ]
     },
     "metadata": {},
     "output_type": "display_data"
    },
    {
     "name": "stdout",
     "output_type": "stream",
     "text": [
      "Epoch 1 [0/45] | Valid Loss: 0.3327 | Elapse: 0.10s\n"
     ]
    },
    {
     "name": "stderr",
     "output_type": "stream",
     "text": [
      "----------------------------------------------------------------------------------------------------\n",
      "Epoch 1 - Average Loss: (train) 0.1453; (valid) 0.4113 | Time: 19.78s\n",
      "Best model found in epoch 1 | valid loss: 0.4113\n"
     ]
    },
    {
     "name": "stdout",
     "output_type": "stream",
     "text": [
      "Epoch 1 [44/45] | Valid Loss: 0.4113 | Elapse: 4.12s\n"
     ]
    },
    {
     "data": {
      "application/vnd.jupyter.widget-view+json": {
       "model_id": "1e5e162934e14db086d24f2f37c5cd2b",
       "version_major": 2,
       "version_minor": 0
      },
      "text/plain": [
       "Train [1]:   0%|          | 0/158 [00:00<?, ?batch/s]"
      ]
     },
     "metadata": {},
     "output_type": "display_data"
    },
    {
     "name": "stdout",
     "output_type": "stream",
     "text": [
      "Epoch 2 [0/158] | Train Loss: 0.0655 Grad: 230695.9844 LR: 5.2718e-05 | Elapse: 0.10s\n",
      "Epoch 2 [100/158] | Train Loss: 0.0933 Grad: 213591.6406 LR: 9.2706e-05 | Elapse: 9.99s\n",
      "Epoch 2 [157/158] | Train Loss: 0.0814 Grad: 211467.8594 LR: 1.0000e-04 | Elapse: 15.63s\n"
     ]
    },
    {
     "data": {
      "application/vnd.jupyter.widget-view+json": {
       "model_id": "a71140cfab9e4aa3b68e11183f2d1e66",
       "version_major": 2,
       "version_minor": 0
      },
      "text/plain": [
       "Valid [1]:   0%|          | 0/45 [00:00<?, ?batch/s]"
      ]
     },
     "metadata": {},
     "output_type": "display_data"
    },
    {
     "name": "stdout",
     "output_type": "stream",
     "text": [
      "Epoch 2 [0/45] | Valid Loss: 0.3469 | Elapse: 0.10s\n"
     ]
    },
    {
     "name": "stderr",
     "output_type": "stream",
     "text": [
      "----------------------------------------------------------------------------------------------------\n",
      "Epoch 2 - Average Loss: (train) 0.0814; (valid) 0.4178 | Time: 19.75s\n"
     ]
    },
    {
     "name": "stdout",
     "output_type": "stream",
     "text": [
      "Epoch 2 [44/45] | Valid Loss: 0.4178 | Elapse: 4.12s\n"
     ]
    },
    {
     "data": {
      "application/vnd.jupyter.widget-view+json": {
       "model_id": "dcfba1b0777f4ca7802dc6a8ce8bf458",
       "version_major": 2,
       "version_minor": 0
      },
      "text/plain": [
       "Train [2]:   0%|          | 0/158 [00:00<?, ?batch/s]"
      ]
     },
     "metadata": {},
     "output_type": "display_data"
    },
    {
     "name": "stdout",
     "output_type": "stream",
     "text": [
      "Epoch 3 [0/158] | Train Loss: 0.0283 Grad: 161698.4844 LR: 1.0000e-04 | Elapse: 0.10s\n",
      "Epoch 3 [100/158] | Train Loss: 0.0498 Grad: 159215.9375 LR: 9.9683e-05 | Elapse: 9.99s\n",
      "Epoch 3 [157/158] | Train Loss: 0.0421 Grad: 145639.5938 LR: 9.9231e-05 | Elapse: 15.64s\n"
     ]
    },
    {
     "data": {
      "application/vnd.jupyter.widget-view+json": {
       "model_id": "dc21a59aefb744caa63537f972d5fcea",
       "version_major": 2,
       "version_minor": 0
      },
      "text/plain": [
       "Valid [2]:   0%|          | 0/45 [00:00<?, ?batch/s]"
      ]
     },
     "metadata": {},
     "output_type": "display_data"
    },
    {
     "name": "stdout",
     "output_type": "stream",
     "text": [
      "Epoch 3 [0/45] | Valid Loss: 0.3263 | Elapse: 0.10s\n"
     ]
    },
    {
     "name": "stderr",
     "output_type": "stream",
     "text": [
      "----------------------------------------------------------------------------------------------------\n",
      "Epoch 3 - Average Loss: (train) 0.0421; (valid) 0.4238 | Time: 19.77s\n"
     ]
    },
    {
     "name": "stdout",
     "output_type": "stream",
     "text": [
      "Epoch 3 [44/45] | Valid Loss: 0.4238 | Elapse: 4.12s\n"
     ]
    },
    {
     "data": {
      "application/vnd.jupyter.widget-view+json": {
       "model_id": "a26b0bfa2dc14f68acccfba26b1489c4",
       "version_major": 2,
       "version_minor": 0
      },
      "text/plain": [
       "Train [3]:   0%|          | 0/158 [00:00<?, ?batch/s]"
      ]
     },
     "metadata": {},
     "output_type": "display_data"
    },
    {
     "name": "stdout",
     "output_type": "stream",
     "text": [
      "Epoch 4 [0/158] | Train Loss: -0.0082 Grad: 137965.3750 LR: 9.9221e-05 | Elapse: 0.11s\n",
      "Epoch 4 [100/158] | Train Loss: 0.0287 Grad: 182930.0000 LR: 9.7953e-05 | Elapse: 10.04s\n",
      "Epoch 4 [157/158] | Train Loss: 0.0215 Grad: 211547.4531 LR: 9.6967e-05 | Elapse: 15.70s\n"
     ]
    },
    {
     "data": {
      "application/vnd.jupyter.widget-view+json": {
       "model_id": "1dc71daffe544aee951818d8057bd9fc",
       "version_major": 2,
       "version_minor": 0
      },
      "text/plain": [
       "Valid [3]:   0%|          | 0/45 [00:00<?, ?batch/s]"
      ]
     },
     "metadata": {},
     "output_type": "display_data"
    },
    {
     "name": "stdout",
     "output_type": "stream",
     "text": [
      "Epoch 4 [0/45] | Valid Loss: 0.3239 | Elapse: 0.10s\n"
     ]
    },
    {
     "name": "stderr",
     "output_type": "stream",
     "text": [
      "----------------------------------------------------------------------------------------------------\n",
      "Epoch 4 - Average Loss: (train) 0.0215; (valid) 0.4129 | Time: 19.83s\n"
     ]
    },
    {
     "name": "stdout",
     "output_type": "stream",
     "text": [
      "Epoch 4 [44/45] | Valid Loss: 0.4129 | Elapse: 4.13s\n"
     ]
    },
    {
     "data": {
      "application/vnd.jupyter.widget-view+json": {
       "model_id": "0edcd601d5b54edcbc7567ba1525ad5d",
       "version_major": 2,
       "version_minor": 0
      },
      "text/plain": [
       "Train [4]:   0%|          | 0/158 [00:00<?, ?batch/s]"
      ]
     },
     "metadata": {},
     "output_type": "display_data"
    },
    {
     "name": "stdout",
     "output_type": "stream",
     "text": [
      "Epoch 5 [0/158] | Train Loss: -0.0237 Grad: 142882.4531 LR: 9.6948e-05 | Elapse: 0.10s\n",
      "Epoch 5 [100/158] | Train Loss: 0.0087 Grad: 128822.1797 LR: 9.4766e-05 | Elapse: 10.02s\n",
      "Epoch 5 [157/158] | Train Loss: 0.0036 Grad: 229787.9062 LR: 9.3276e-05 | Elapse: 15.68s\n"
     ]
    },
    {
     "data": {
      "application/vnd.jupyter.widget-view+json": {
       "model_id": "e09d53dfd2bc4e82a8c32df5fe1e3aed",
       "version_major": 2,
       "version_minor": 0
      },
      "text/plain": [
       "Valid [4]:   0%|          | 0/45 [00:00<?, ?batch/s]"
      ]
     },
     "metadata": {},
     "output_type": "display_data"
    },
    {
     "name": "stdout",
     "output_type": "stream",
     "text": [
      "Epoch 5 [0/45] | Valid Loss: 0.3271 | Elapse: 0.10s\n"
     ]
    },
    {
     "name": "stderr",
     "output_type": "stream",
     "text": [
      "----------------------------------------------------------------------------------------------------\n",
      "Epoch 5 - Average Loss: (train) 0.0036; (valid) 0.4167 | Time: 19.81s\n"
     ]
    },
    {
     "name": "stdout",
     "output_type": "stream",
     "text": [
      "Epoch 5 [44/45] | Valid Loss: 0.4167 | Elapse: 4.13s\n"
     ]
    },
    {
     "data": {
      "application/vnd.jupyter.widget-view+json": {
       "model_id": "d2dca7cbc1994ae38e90c35940cb6607",
       "version_major": 2,
       "version_minor": 0
      },
      "text/plain": [
       "Train [5]:   0%|          | 0/158 [00:00<?, ?batch/s]"
      ]
     },
     "metadata": {},
     "output_type": "display_data"
    },
    {
     "name": "stdout",
     "output_type": "stream",
     "text": [
      "Epoch 6 [0/158] | Train Loss: -0.0243 Grad: 168302.9531 LR: 9.3249e-05 | Elapse: 0.10s\n",
      "Epoch 6 [100/158] | Train Loss: -0.0050 Grad: 120276.2656 LR: 9.0220e-05 | Elapse: 10.02s\n",
      "Epoch 6 [157/158] | Train Loss: -0.0104 Grad: 166148.0781 LR: 8.8271e-05 | Elapse: 15.68s\n"
     ]
    },
    {
     "data": {
      "application/vnd.jupyter.widget-view+json": {
       "model_id": "0010f39a3e3148c0959c7407eb1fc053",
       "version_major": 2,
       "version_minor": 0
      },
      "text/plain": [
       "Valid [5]:   0%|          | 0/45 [00:00<?, ?batch/s]"
      ]
     },
     "metadata": {},
     "output_type": "display_data"
    },
    {
     "name": "stdout",
     "output_type": "stream",
     "text": [
      "Epoch 6 [0/45] | Valid Loss: 0.3156 | Elapse: 0.10s\n"
     ]
    },
    {
     "name": "stderr",
     "output_type": "stream",
     "text": [
      "----------------------------------------------------------------------------------------------------\n",
      "Epoch 6 - Average Loss: (train) -0.0104; (valid) 0.4091 | Time: 19.82s\n",
      "Best model found in epoch 6 | valid loss: 0.4091\n"
     ]
    },
    {
     "name": "stdout",
     "output_type": "stream",
     "text": [
      "Epoch 6 [44/45] | Valid Loss: 0.4091 | Elapse: 4.14s\n"
     ]
    },
    {
     "data": {
      "application/vnd.jupyter.widget-view+json": {
       "model_id": "b080746b870a4c1895a86a8d24b31f2b",
       "version_major": 2,
       "version_minor": 0
      },
      "text/plain": [
       "Train [6]:   0%|          | 0/158 [00:00<?, ?batch/s]"
      ]
     },
     "metadata": {},
     "output_type": "display_data"
    },
    {
     "name": "stdout",
     "output_type": "stream",
     "text": [
      "Epoch 7 [0/158] | Train Loss: -0.0462 Grad: 140026.8594 LR: 8.8236e-05 | Elapse: 0.10s\n",
      "Epoch 7 [100/158] | Train Loss: -0.0183 Grad: 214689.2500 LR: 8.4452e-05 | Elapse: 10.03s\n",
      "Epoch 7 [157/158] | Train Loss: -0.0208 Grad: 113912.5469 LR: 8.2104e-05 | Elapse: 15.68s\n"
     ]
    },
    {
     "data": {
      "application/vnd.jupyter.widget-view+json": {
       "model_id": "501e58b99ac6409abc4365e962bbefad",
       "version_major": 2,
       "version_minor": 0
      },
      "text/plain": [
       "Valid [6]:   0%|          | 0/45 [00:00<?, ?batch/s]"
      ]
     },
     "metadata": {},
     "output_type": "display_data"
    },
    {
     "name": "stdout",
     "output_type": "stream",
     "text": [
      "Epoch 7 [0/45] | Valid Loss: 0.2893 | Elapse: 0.10s\n"
     ]
    },
    {
     "name": "stderr",
     "output_type": "stream",
     "text": [
      "----------------------------------------------------------------------------------------------------\n",
      "Epoch 7 - Average Loss: (train) -0.0208; (valid) 0.3913 | Time: 19.82s\n",
      "Best model found in epoch 7 | valid loss: 0.3913\n"
     ]
    },
    {
     "name": "stdout",
     "output_type": "stream",
     "text": [
      "Epoch 7 [44/45] | Valid Loss: 0.3913 | Elapse: 4.14s\n"
     ]
    },
    {
     "data": {
      "application/vnd.jupyter.widget-view+json": {
       "model_id": "f55e7adb741f41508dfcd6c2751fe096",
       "version_major": 2,
       "version_minor": 0
      },
      "text/plain": [
       "Train [7]:   0%|          | 0/158 [00:00<?, ?batch/s]"
      ]
     },
     "metadata": {},
     "output_type": "display_data"
    },
    {
     "name": "stdout",
     "output_type": "stream",
     "text": [
      "Epoch 8 [0/158] | Train Loss: -0.0596 Grad: 136450.7812 LR: 8.2062e-05 | Elapse: 0.10s\n",
      "Epoch 8 [100/158] | Train Loss: -0.0322 Grad: 112427.7891 LR: 7.7638e-05 | Elapse: 10.01s\n",
      "Epoch 8 [157/158] | Train Loss: -0.0348 Grad: 172993.5469 LR: 7.4962e-05 | Elapse: 15.66s\n"
     ]
    },
    {
     "data": {
      "application/vnd.jupyter.widget-view+json": {
       "model_id": "21fc03cddf1b445081e7ff6bb4db49a0",
       "version_major": 2,
       "version_minor": 0
      },
      "text/plain": [
       "Valid [7]:   0%|          | 0/45 [00:00<?, ?batch/s]"
      ]
     },
     "metadata": {},
     "output_type": "display_data"
    },
    {
     "name": "stdout",
     "output_type": "stream",
     "text": [
      "Epoch 8 [0/45] | Valid Loss: 0.2755 | Elapse: 0.10s\n"
     ]
    },
    {
     "name": "stderr",
     "output_type": "stream",
     "text": [
      "----------------------------------------------------------------------------------------------------\n",
      "Epoch 8 - Average Loss: (train) -0.0348; (valid) 0.3855 | Time: 19.80s\n",
      "Best model found in epoch 8 | valid loss: 0.3855\n"
     ]
    },
    {
     "name": "stdout",
     "output_type": "stream",
     "text": [
      "Epoch 8 [44/45] | Valid Loss: 0.3855 | Elapse: 4.14s\n"
     ]
    },
    {
     "data": {
      "application/vnd.jupyter.widget-view+json": {
       "model_id": "2f21fac5cf5444f0ab9f09ca8a9abd04",
       "version_major": 2,
       "version_minor": 0
      },
      "text/plain": [
       "Train [8]:   0%|          | 0/158 [00:00<?, ?batch/s]"
      ]
     },
     "metadata": {},
     "output_type": "display_data"
    },
    {
     "name": "stdout",
     "output_type": "stream",
     "text": [
      "Epoch 9 [0/158] | Train Loss: -0.0653 Grad: 166284.2812 LR: 7.4914e-05 | Elapse: 0.10s\n",
      "Epoch 9 [100/158] | Train Loss: -0.0414 Grad: 192084.9375 LR: 6.9985e-05 | Elapse: 10.04s\n",
      "Epoch 9 [157/158] | Train Loss: -0.0436 Grad: 122131.5234 LR: 6.7062e-05 | Elapse: 15.71s\n"
     ]
    },
    {
     "data": {
      "application/vnd.jupyter.widget-view+json": {
       "model_id": "884c9c03db8b4e068f940790dad6a206",
       "version_major": 2,
       "version_minor": 0
      },
      "text/plain": [
       "Valid [8]:   0%|          | 0/45 [00:00<?, ?batch/s]"
      ]
     },
     "metadata": {},
     "output_type": "display_data"
    },
    {
     "name": "stdout",
     "output_type": "stream",
     "text": [
      "Epoch 9 [0/45] | Valid Loss: 0.2960 | Elapse: 0.10s\n"
     ]
    },
    {
     "name": "stderr",
     "output_type": "stream",
     "text": [
      "----------------------------------------------------------------------------------------------------\n",
      "Epoch 9 - Average Loss: (train) -0.0436; (valid) 0.3952 | Time: 19.85s\n"
     ]
    },
    {
     "name": "stdout",
     "output_type": "stream",
     "text": [
      "Epoch 9 [44/45] | Valid Loss: 0.3952 | Elapse: 4.14s\n"
     ]
    },
    {
     "data": {
      "application/vnd.jupyter.widget-view+json": {
       "model_id": "c4651680a0dc47879c8ae2bf2b8bac38",
       "version_major": 2,
       "version_minor": 0
      },
      "text/plain": [
       "Train [9]:   0%|          | 0/158 [00:00<?, ?batch/s]"
      ]
     },
     "metadata": {},
     "output_type": "display_data"
    },
    {
     "name": "stdout",
     "output_type": "stream",
     "text": [
      "Epoch 10 [0/158] | Train Loss: -0.0835 Grad: 119627.0156 LR: 6.7010e-05 | Elapse: 0.10s\n",
      "Epoch 10 [100/158] | Train Loss: -0.0529 Grad: 158803.7031 LR: 6.1725e-05 | Elapse: 10.05s\n",
      "Epoch 10 [157/158] | Train Loss: -0.0545 Grad: 141877.2344 LR: 5.8645e-05 | Elapse: 15.71s\n"
     ]
    },
    {
     "data": {
      "application/vnd.jupyter.widget-view+json": {
       "model_id": "c2b950e0b0f747e39dd9c04e5f6751c9",
       "version_major": 2,
       "version_minor": 0
      },
      "text/plain": [
       "Valid [9]:   0%|          | 0/45 [00:00<?, ?batch/s]"
      ]
     },
     "metadata": {},
     "output_type": "display_data"
    },
    {
     "name": "stdout",
     "output_type": "stream",
     "text": [
      "Epoch 10 [0/45] | Valid Loss: 0.3302 | Elapse: 0.10s\n"
     ]
    },
    {
     "name": "stderr",
     "output_type": "stream",
     "text": [
      "----------------------------------------------------------------------------------------------------\n",
      "Epoch 10 - Average Loss: (train) -0.0545; (valid) 0.3962 | Time: 19.85s\n"
     ]
    },
    {
     "name": "stdout",
     "output_type": "stream",
     "text": [
      "Epoch 10 [44/45] | Valid Loss: 0.3962 | Elapse: 4.14s\n"
     ]
    },
    {
     "data": {
      "application/vnd.jupyter.widget-view+json": {
       "model_id": "a215fd0b54404ab4aa37852d9d22094f",
       "version_major": 2,
       "version_minor": 0
      },
      "text/plain": [
       "Train [10]:   0%|          | 0/158 [00:00<?, ?batch/s]"
      ]
     },
     "metadata": {},
     "output_type": "display_data"
    },
    {
     "name": "stdout",
     "output_type": "stream",
     "text": [
      "Epoch 11 [0/158] | Train Loss: -0.0607 Grad: 212022.7969 LR: 5.8590e-05 | Elapse: 0.10s\n",
      "Epoch 11 [100/158] | Train Loss: -0.0627 Grad: 109874.4141 LR: 5.3110e-05 | Elapse: 10.03s\n",
      "Epoch 11 [157/158] | Train Loss: -0.0638 Grad: 89026.4375 LR: 4.9965e-05 | Elapse: 15.68s\n"
     ]
    },
    {
     "data": {
      "application/vnd.jupyter.widget-view+json": {
       "model_id": "125c65d2957349aa8fb711d8856175ad",
       "version_major": 2,
       "version_minor": 0
      },
      "text/plain": [
       "Valid [10]:   0%|          | 0/45 [00:00<?, ?batch/s]"
      ]
     },
     "metadata": {},
     "output_type": "display_data"
    },
    {
     "name": "stdout",
     "output_type": "stream",
     "text": [
      "Epoch 11 [0/45] | Valid Loss: 0.3265 | Elapse: 0.10s\n"
     ]
    },
    {
     "name": "stderr",
     "output_type": "stream",
     "text": [
      "----------------------------------------------------------------------------------------------------\n",
      "Epoch 11 - Average Loss: (train) -0.0638; (valid) 0.4059 | Time: 19.80s\n"
     ]
    },
    {
     "name": "stdout",
     "output_type": "stream",
     "text": [
      "Epoch 11 [44/45] | Valid Loss: 0.4059 | Elapse: 4.13s\n"
     ]
    },
    {
     "data": {
      "application/vnd.jupyter.widget-view+json": {
       "model_id": "1339a88bcace410f912b9abbfc57e667",
       "version_major": 2,
       "version_minor": 0
      },
      "text/plain": [
       "Train [11]:   0%|          | 0/158 [00:00<?, ?batch/s]"
      ]
     },
     "metadata": {},
     "output_type": "display_data"
    },
    {
     "name": "stdout",
     "output_type": "stream",
     "text": [
      "Epoch 12 [0/158] | Train Loss: -0.0667 Grad: 125734.0469 LR: 4.9910e-05 | Elapse: 0.10s\n",
      "Epoch 12 [100/158] | Train Loss: -0.0713 Grad: 107682.2188 LR: 4.4401e-05 | Elapse: 10.00s\n",
      "Epoch 12 [157/158] | Train Loss: -0.0716 Grad: 88025.4297 LR: 4.1287e-05 | Elapse: 15.64s\n"
     ]
    },
    {
     "data": {
      "application/vnd.jupyter.widget-view+json": {
       "model_id": "02f0957433b342278d6023b5dfe620de",
       "version_major": 2,
       "version_minor": 0
      },
      "text/plain": [
       "Valid [11]:   0%|          | 0/45 [00:00<?, ?batch/s]"
      ]
     },
     "metadata": {},
     "output_type": "display_data"
    },
    {
     "name": "stdout",
     "output_type": "stream",
     "text": [
      "Epoch 12 [0/45] | Valid Loss: 0.3288 | Elapse: 0.10s\n"
     ]
    },
    {
     "name": "stderr",
     "output_type": "stream",
     "text": [
      "----------------------------------------------------------------------------------------------------\n",
      "Epoch 12 - Average Loss: (train) -0.0716; (valid) 0.4022 | Time: 19.76s\n"
     ]
    },
    {
     "name": "stdout",
     "output_type": "stream",
     "text": [
      "Epoch 12 [44/45] | Valid Loss: 0.4022 | Elapse: 4.12s\n"
     ]
    },
    {
     "data": {
      "application/vnd.jupyter.widget-view+json": {
       "model_id": "330c1f1f8c444b01a474e1e652b22255",
       "version_major": 2,
       "version_minor": 0
      },
      "text/plain": [
       "Train [12]:   0%|          | 0/158 [00:00<?, ?batch/s]"
      ]
     },
     "metadata": {},
     "output_type": "display_data"
    },
    {
     "name": "stdout",
     "output_type": "stream",
     "text": [
      "Epoch 13 [0/158] | Train Loss: -0.0875 Grad: 106796.6719 LR: 4.1232e-05 | Elapse: 0.10s\n",
      "Epoch 13 [100/158] | Train Loss: -0.0769 Grad: 76809.3984 LR: 3.5862e-05 | Elapse: 9.99s\n",
      "Epoch 13 [157/158] | Train Loss: -0.0774 Grad: 102842.4766 LR: 3.2874e-05 | Elapse: 15.63s\n"
     ]
    },
    {
     "data": {
      "application/vnd.jupyter.widget-view+json": {
       "model_id": "c0ad0b5eaba14f5196f2a8c43bac3cc0",
       "version_major": 2,
       "version_minor": 0
      },
      "text/plain": [
       "Valid [12]:   0%|          | 0/45 [00:00<?, ?batch/s]"
      ]
     },
     "metadata": {},
     "output_type": "display_data"
    },
    {
     "name": "stdout",
     "output_type": "stream",
     "text": [
      "Epoch 13 [0/45] | Valid Loss: 0.3604 | Elapse: 0.10s\n"
     ]
    },
    {
     "name": "stderr",
     "output_type": "stream",
     "text": [
      "----------------------------------------------------------------------------------------------------\n",
      "Epoch 13 - Average Loss: (train) -0.0774; (valid) 0.4077 | Time: 19.78s\n",
      "Early stopping at epoch 13\n",
      "====================================================================================================\n",
      "Fold 2 Valid Loss: 0.3854878842830658\n",
      "Elapse: 4.29 min \n",
      "====================================================================================================\n"
     ]
    },
    {
     "name": "stdout",
     "output_type": "stream",
     "text": [
      "Epoch 13 [44/45] | Valid Loss: 0.4077 | Elapse: 4.15s\n"
     ]
    },
    {
     "name": "stderr",
     "output_type": "stream",
     "text": [
      "Fold 2 Elapse: 4.29 min\n",
      "- Stage 2 | Train: 5266; Valid: 1226 | Reg = 0.2 -\n"
     ]
    },
    {
     "name": "stdout",
     "output_type": "stream",
     "text": [
      "Loading model from checkpoint: outputs/ResnetGRU_v2_Vstack_Filter_05_20_20_60_30_Normalized_fold_3_stage_1.pth\n"
     ]
    },
    {
     "data": {
      "application/vnd.jupyter.widget-view+json": {
       "model_id": "1b93571758d84bc6b31a8538d053d4ac",
       "version_major": 2,
       "version_minor": 0
      },
      "text/plain": [
       "Train [0]:   0%|          | 0/164 [00:00<?, ?batch/s]"
      ]
     },
     "metadata": {},
     "output_type": "display_data"
    },
    {
     "name": "stdout",
     "output_type": "stream",
     "text": [
      "Epoch 1 [0/164] | Train Loss: 0.1896 Grad: 382419.0625 LR: 4.0022e-06 | Elapse: 0.11s\n",
      "Epoch 1 [100/164] | Train Loss: 0.1595 Grad: 293448.5000 LR: 2.4879e-05 | Elapse: 10.13s\n",
      "Epoch 1 [163/164] | Train Loss: 0.1319 Grad: 219974.9375 LR: 5.2231e-05 | Elapse: 16.45s\n"
     ]
    },
    {
     "data": {
      "application/vnd.jupyter.widget-view+json": {
       "model_id": "1c1beafce16244e8beeef0d885d12d26",
       "version_major": 2,
       "version_minor": 0
      },
      "text/plain": [
       "Valid [0]:   0%|          | 0/39 [00:00<?, ?batch/s]"
      ]
     },
     "metadata": {},
     "output_type": "display_data"
    },
    {
     "name": "stdout",
     "output_type": "stream",
     "text": [
      "Epoch 1 [0/39] | Valid Loss: 0.4923 | Elapse: 0.10s\n"
     ]
    },
    {
     "name": "stderr",
     "output_type": "stream",
     "text": [
      "----------------------------------------------------------------------------------------------------\n",
      "Epoch 1 - Average Loss: (train) 0.1319; (valid) 0.4362 | Time: 20.06s\n",
      "Best model found in epoch 1 | valid loss: 0.4362\n"
     ]
    },
    {
     "name": "stdout",
     "output_type": "stream",
     "text": [
      "Epoch 1 [38/39] | Valid Loss: 0.4362 | Elapse: 3.61s\n"
     ]
    },
    {
     "data": {
      "application/vnd.jupyter.widget-view+json": {
       "model_id": "d5a563ac6cc0466fb355577e76c684dd",
       "version_major": 2,
       "version_minor": 0
      },
      "text/plain": [
       "Train [1]:   0%|          | 0/164 [00:00<?, ?batch/s]"
      ]
     },
     "metadata": {},
     "output_type": "display_data"
    },
    {
     "name": "stdout",
     "output_type": "stream",
     "text": [
      "Epoch 2 [0/164] | Train Loss: 0.0723 Grad: 260126.5000 LR: 5.2692e-05 | Elapse: 0.10s\n",
      "Epoch 2 [100/164] | Train Loss: 0.0812 Grad: 257746.7188 LR: 9.1734e-05 | Elapse: 10.11s\n",
      "Epoch 2 [163/164] | Train Loss: 0.0709 Grad: 203656.3281 LR: 1.0000e-04 | Elapse: 16.41s\n"
     ]
    },
    {
     "data": {
      "application/vnd.jupyter.widget-view+json": {
       "model_id": "77c59ab3cb964bd1bfb15ac40afaa89e",
       "version_major": 2,
       "version_minor": 0
      },
      "text/plain": [
       "Valid [1]:   0%|          | 0/39 [00:00<?, ?batch/s]"
      ]
     },
     "metadata": {},
     "output_type": "display_data"
    },
    {
     "name": "stdout",
     "output_type": "stream",
     "text": [
      "Epoch 2 [0/39] | Valid Loss: 0.4345 | Elapse: 0.10s\n"
     ]
    },
    {
     "name": "stderr",
     "output_type": "stream",
     "text": [
      "----------------------------------------------------------------------------------------------------\n",
      "Epoch 2 - Average Loss: (train) 0.0709; (valid) 0.4223 | Time: 20.01s\n",
      "Best model found in epoch 2 | valid loss: 0.4223\n"
     ]
    },
    {
     "name": "stdout",
     "output_type": "stream",
     "text": [
      "Epoch 2 [38/39] | Valid Loss: 0.4223 | Elapse: 3.60s\n"
     ]
    },
    {
     "data": {
      "application/vnd.jupyter.widget-view+json": {
       "model_id": "116f20552b764f6180df6d03db70c3dd",
       "version_major": 2,
       "version_minor": 0
      },
      "text/plain": [
       "Train [2]:   0%|          | 0/164 [00:00<?, ?batch/s]"
      ]
     },
     "metadata": {},
     "output_type": "display_data"
    },
    {
     "name": "stdout",
     "output_type": "stream",
     "text": [
      "Epoch 3 [0/164] | Train Loss: 0.0159 Grad: 218330.9062 LR: 1.0000e-04 | Elapse: 0.10s\n",
      "Epoch 3 [100/164] | Train Loss: 0.0402 Grad: 220019.6094 LR: 9.9706e-05 | Elapse: 10.15s\n",
      "Epoch 3 [163/164] | Train Loss: 0.0327 Grad: 197471.7500 LR: 9.9231e-05 | Elapse: 16.47s\n"
     ]
    },
    {
     "data": {
      "application/vnd.jupyter.widget-view+json": {
       "model_id": "b907be730e1c4cdba42a05392a9d78af",
       "version_major": 2,
       "version_minor": 0
      },
      "text/plain": [
       "Valid [2]:   0%|          | 0/39 [00:00<?, ?batch/s]"
      ]
     },
     "metadata": {},
     "output_type": "display_data"
    },
    {
     "name": "stdout",
     "output_type": "stream",
     "text": [
      "Epoch 3 [0/39] | Valid Loss: 0.4270 | Elapse: 0.10s\n"
     ]
    },
    {
     "name": "stderr",
     "output_type": "stream",
     "text": [
      "----------------------------------------------------------------------------------------------------\n",
      "Epoch 3 - Average Loss: (train) 0.0327; (valid) 0.4049 | Time: 20.07s\n",
      "Best model found in epoch 3 | valid loss: 0.4049\n"
     ]
    },
    {
     "name": "stdout",
     "output_type": "stream",
     "text": [
      "Epoch 3 [38/39] | Valid Loss: 0.4049 | Elapse: 3.60s\n"
     ]
    },
    {
     "data": {
      "application/vnd.jupyter.widget-view+json": {
       "model_id": "6b02ab397ce84c428663225e54d11dd0",
       "version_major": 2,
       "version_minor": 0
      },
      "text/plain": [
       "Train [3]:   0%|          | 0/164 [00:00<?, ?batch/s]"
      ]
     },
     "metadata": {},
     "output_type": "display_data"
    },
    {
     "name": "stdout",
     "output_type": "stream",
     "text": [
      "Epoch 4 [0/164] | Train Loss: -0.0068 Grad: 191319.3750 LR: 9.9222e-05 | Elapse: 0.10s\n",
      "Epoch 4 [100/164] | Train Loss: 0.0174 Grad: 190423.0312 LR: 9.8011e-05 | Elapse: 10.11s\n",
      "Epoch 4 [163/164] | Train Loss: 0.0112 Grad: 224385.8125 LR: 9.6968e-05 | Elapse: 16.42s\n"
     ]
    },
    {
     "data": {
      "application/vnd.jupyter.widget-view+json": {
       "model_id": "63069b0df0f44377a522cc2e2075d974",
       "version_major": 2,
       "version_minor": 0
      },
      "text/plain": [
       "Valid [3]:   0%|          | 0/39 [00:00<?, ?batch/s]"
      ]
     },
     "metadata": {},
     "output_type": "display_data"
    },
    {
     "name": "stdout",
     "output_type": "stream",
     "text": [
      "Epoch 4 [0/39] | Valid Loss: 0.4683 | Elapse: 0.10s\n"
     ]
    },
    {
     "name": "stderr",
     "output_type": "stream",
     "text": [
      "----------------------------------------------------------------------------------------------------\n",
      "Epoch 4 - Average Loss: (train) 0.0112; (valid) 0.4197 | Time: 20.02s\n"
     ]
    },
    {
     "name": "stdout",
     "output_type": "stream",
     "text": [
      "Epoch 4 [38/39] | Valid Loss: 0.4197 | Elapse: 3.60s\n"
     ]
    },
    {
     "data": {
      "application/vnd.jupyter.widget-view+json": {
       "model_id": "2d132f1e20c94db5b4309e94287d06f8",
       "version_major": 2,
       "version_minor": 0
      },
      "text/plain": [
       "Train [4]:   0%|          | 0/164 [00:00<?, ?batch/s]"
      ]
     },
     "metadata": {},
     "output_type": "display_data"
    },
    {
     "name": "stdout",
     "output_type": "stream",
     "text": [
      "Epoch 5 [0/164] | Train Loss: -0.0317 Grad: 169913.3594 LR: 9.6949e-05 | Elapse: 0.10s\n",
      "Epoch 5 [100/164] | Train Loss: 0.0016 Grad: 251048.9531 LR: 9.4857e-05 | Elapse: 10.12s\n",
      "Epoch 5 [163/164] | Train Loss: -0.0046 Grad: 136287.1406 LR: 9.3277e-05 | Elapse: 16.44s\n"
     ]
    },
    {
     "data": {
      "application/vnd.jupyter.widget-view+json": {
       "model_id": "640559e827634941a0f7167c39872e79",
       "version_major": 2,
       "version_minor": 0
      },
      "text/plain": [
       "Valid [4]:   0%|          | 0/39 [00:00<?, ?batch/s]"
      ]
     },
     "metadata": {},
     "output_type": "display_data"
    },
    {
     "name": "stdout",
     "output_type": "stream",
     "text": [
      "Epoch 5 [0/39] | Valid Loss: 0.4261 | Elapse: 0.10s\n"
     ]
    },
    {
     "name": "stderr",
     "output_type": "stream",
     "text": [
      "----------------------------------------------------------------------------------------------------\n",
      "Epoch 5 - Average Loss: (train) -0.0046; (valid) 0.4180 | Time: 20.05s\n"
     ]
    },
    {
     "name": "stdout",
     "output_type": "stream",
     "text": [
      "Epoch 5 [38/39] | Valid Loss: 0.4180 | Elapse: 3.60s\n"
     ]
    },
    {
     "data": {
      "application/vnd.jupyter.widget-view+json": {
       "model_id": "5432496e30ab40748352216167984fc7",
       "version_major": 2,
       "version_minor": 0
      },
      "text/plain": [
       "Train [5]:   0%|          | 0/164 [00:00<?, ?batch/s]"
      ]
     },
     "metadata": {},
     "output_type": "display_data"
    },
    {
     "name": "stdout",
     "output_type": "stream",
     "text": [
      "Epoch 6 [0/164] | Train Loss: -0.0196 Grad: 179183.4062 LR: 9.3251e-05 | Elapse: 0.10s\n",
      "Epoch 6 [100/164] | Train Loss: -0.0157 Grad: 188963.0156 LR: 9.0342e-05 | Elapse: 10.15s\n",
      "Epoch 6 [163/164] | Train Loss: -0.0198 Grad: 136569.5781 LR: 8.8273e-05 | Elapse: 16.47s\n"
     ]
    },
    {
     "data": {
      "application/vnd.jupyter.widget-view+json": {
       "model_id": "5948eac048c34b0f91a2c268816f4a1f",
       "version_major": 2,
       "version_minor": 0
      },
      "text/plain": [
       "Valid [5]:   0%|          | 0/39 [00:00<?, ?batch/s]"
      ]
     },
     "metadata": {},
     "output_type": "display_data"
    },
    {
     "name": "stdout",
     "output_type": "stream",
     "text": [
      "Epoch 6 [0/39] | Valid Loss: 0.4611 | Elapse: 0.10s\n"
     ]
    },
    {
     "name": "stderr",
     "output_type": "stream",
     "text": [
      "----------------------------------------------------------------------------------------------------\n",
      "Epoch 6 - Average Loss: (train) -0.0198; (valid) 0.4245 | Time: 20.07s\n"
     ]
    },
    {
     "name": "stdout",
     "output_type": "stream",
     "text": [
      "Epoch 6 [38/39] | Valid Loss: 0.4245 | Elapse: 3.60s\n"
     ]
    },
    {
     "data": {
      "application/vnd.jupyter.widget-view+json": {
       "model_id": "a3fa78c4914f4edeabfd65cf27cbf1e4",
       "version_major": 2,
       "version_minor": 0
      },
      "text/plain": [
       "Train [6]:   0%|          | 0/164 [00:00<?, ?batch/s]"
      ]
     },
     "metadata": {},
     "output_type": "display_data"
    },
    {
     "name": "stdout",
     "output_type": "stream",
     "text": [
      "Epoch 7 [0/164] | Train Loss: -0.0453 Grad: 185233.7500 LR: 8.8238e-05 | Elapse: 0.10s\n",
      "Epoch 7 [100/164] | Train Loss: -0.0275 Grad: 131715.2031 LR: 8.4601e-05 | Elapse: 10.13s\n",
      "Epoch 7 [163/164] | Train Loss: -0.0298 Grad: 158688.2812 LR: 8.2106e-05 | Elapse: 16.44s\n"
     ]
    },
    {
     "data": {
      "application/vnd.jupyter.widget-view+json": {
       "model_id": "9e6dd8786285480da8dd85997d473e46",
       "version_major": 2,
       "version_minor": 0
      },
      "text/plain": [
       "Valid [6]:   0%|          | 0/39 [00:00<?, ?batch/s]"
      ]
     },
     "metadata": {},
     "output_type": "display_data"
    },
    {
     "name": "stdout",
     "output_type": "stream",
     "text": [
      "Epoch 7 [0/39] | Valid Loss: 0.4694 | Elapse: 0.10s\n"
     ]
    },
    {
     "name": "stderr",
     "output_type": "stream",
     "text": [
      "----------------------------------------------------------------------------------------------------\n",
      "Epoch 7 - Average Loss: (train) -0.0298; (valid) 0.4265 | Time: 20.06s\n"
     ]
    },
    {
     "name": "stdout",
     "output_type": "stream",
     "text": [
      "Epoch 7 [38/39] | Valid Loss: 0.4265 | Elapse: 3.61s\n"
     ]
    },
    {
     "data": {
      "application/vnd.jupyter.widget-view+json": {
       "model_id": "a14f26587347498b8ff14efc13d53caf",
       "version_major": 2,
       "version_minor": 0
      },
      "text/plain": [
       "Train [7]:   0%|          | 0/164 [00:00<?, ?batch/s]"
      ]
     },
     "metadata": {},
     "output_type": "display_data"
    },
    {
     "name": "stdout",
     "output_type": "stream",
     "text": [
      "Epoch 8 [0/164] | Train Loss: -0.0632 Grad: 128500.2812 LR: 8.2065e-05 | Elapse: 0.10s\n",
      "Epoch 8 [100/164] | Train Loss: -0.0401 Grad: 130477.8750 LR: 7.7810e-05 | Elapse: 10.11s\n",
      "Epoch 8 [163/164] | Train Loss: -0.0442 Grad: 127944.2422 LR: 7.4964e-05 | Elapse: 16.42s\n"
     ]
    },
    {
     "data": {
      "application/vnd.jupyter.widget-view+json": {
       "model_id": "293660a066614d39a50b716ede0ed888",
       "version_major": 2,
       "version_minor": 0
      },
      "text/plain": [
       "Valid [7]:   0%|          | 0/39 [00:00<?, ?batch/s]"
      ]
     },
     "metadata": {},
     "output_type": "display_data"
    },
    {
     "name": "stdout",
     "output_type": "stream",
     "text": [
      "Epoch 8 [0/39] | Valid Loss: 0.5111 | Elapse: 0.10s\n"
     ]
    },
    {
     "name": "stderr",
     "output_type": "stream",
     "text": [
      "----------------------------------------------------------------------------------------------------\n",
      "Epoch 8 - Average Loss: (train) -0.0442; (valid) 0.4133 | Time: 20.02s\n",
      "Early stopping at epoch 8\n",
      "====================================================================================================\n",
      "Fold 3 Valid Loss: 0.4049282371997833\n",
      "Elapse: 2.68 min \n",
      "====================================================================================================\n"
     ]
    },
    {
     "name": "stdout",
     "output_type": "stream",
     "text": [
      "Epoch 8 [38/39] | Valid Loss: 0.4133 | Elapse: 3.60s\n"
     ]
    },
    {
     "name": "stderr",
     "output_type": "stream",
     "text": [
      "Fold 3 Elapse: 2.68 min\n",
      "- Stage 2 | Train: 5169; Valid: 1323 | Reg = 0.2 -\n"
     ]
    },
    {
     "name": "stdout",
     "output_type": "stream",
     "text": [
      "Loading model from checkpoint: outputs/ResnetGRU_v2_Vstack_Filter_05_20_20_60_30_Normalized_fold_4_stage_1.pth\n"
     ]
    },
    {
     "data": {
      "application/vnd.jupyter.widget-view+json": {
       "model_id": "14a269f5a65543b087a129586d3539de",
       "version_major": 2,
       "version_minor": 0
      },
      "text/plain": [
       "Train [0]:   0%|          | 0/161 [00:00<?, ?batch/s]"
      ]
     },
     "metadata": {},
     "output_type": "display_data"
    },
    {
     "name": "stdout",
     "output_type": "stream",
     "text": [
      "Epoch 1 [0/161] | Train Loss: 0.0906 Grad: 371371.5000 LR: 4.0023e-06 | Elapse: 0.11s\n",
      "Epoch 1 [100/161] | Train Loss: 0.1490 Grad: 332485.1562 LR: 2.5602e-05 | Elapse: 10.08s\n",
      "Epoch 1 [160/161] | Train Loss: 0.1267 Grad: 291067.3438 LR: 5.2235e-05 | Elapse: 16.05s\n"
     ]
    },
    {
     "data": {
      "application/vnd.jupyter.widget-view+json": {
       "model_id": "f2d6d3e72c724a1c94df0b6db817a7cd",
       "version_major": 2,
       "version_minor": 0
      },
      "text/plain": [
       "Valid [0]:   0%|          | 0/42 [00:00<?, ?batch/s]"
      ]
     },
     "metadata": {},
     "output_type": "display_data"
    },
    {
     "name": "stdout",
     "output_type": "stream",
     "text": [
      "Epoch 1 [0/42] | Valid Loss: 0.5104 | Elapse: 0.10s\n"
     ]
    },
    {
     "name": "stderr",
     "output_type": "stream",
     "text": [
      "----------------------------------------------------------------------------------------------------\n",
      "Epoch 1 - Average Loss: (train) 0.1267; (valid) 0.4113 | Time: 19.92s\n",
      "Best model found in epoch 1 | valid loss: 0.4113\n"
     ]
    },
    {
     "name": "stdout",
     "output_type": "stream",
     "text": [
      "Epoch 1 [41/42] | Valid Loss: 0.4113 | Elapse: 3.87s\n"
     ]
    },
    {
     "data": {
      "application/vnd.jupyter.widget-view+json": {
       "model_id": "c89b0782e2a746d2ad8e12c13fd36628",
       "version_major": 2,
       "version_minor": 0
      },
      "text/plain": [
       "Train [1]:   0%|          | 0/161 [00:00<?, ?batch/s]"
      ]
     },
     "metadata": {},
     "output_type": "display_data"
    },
    {
     "name": "stdout",
     "output_type": "stream",
     "text": [
      "Epoch 2 [0/161] | Train Loss: 0.0152 Grad: 187093.3281 LR: 5.2705e-05 | Elapse: 0.10s\n",
      "Epoch 2 [100/161] | Train Loss: 0.0710 Grad: 221137.3594 LR: 9.2218e-05 | Elapse: 10.05s\n",
      "Epoch 2 [160/161] | Train Loss: 0.0619 Grad: 227268.0312 LR: 1.0000e-04 | Elapse: 16.02s\n"
     ]
    },
    {
     "data": {
      "application/vnd.jupyter.widget-view+json": {
       "model_id": "22a2a60de1094277b39d311c8e6db6aa",
       "version_major": 2,
       "version_minor": 0
      },
      "text/plain": [
       "Valid [1]:   0%|          | 0/42 [00:00<?, ?batch/s]"
      ]
     },
     "metadata": {},
     "output_type": "display_data"
    },
    {
     "name": "stdout",
     "output_type": "stream",
     "text": [
      "Epoch 2 [0/42] | Valid Loss: 0.5399 | Elapse: 0.10s\n"
     ]
    },
    {
     "name": "stderr",
     "output_type": "stream",
     "text": [
      "----------------------------------------------------------------------------------------------------\n",
      "Epoch 2 - Average Loss: (train) 0.0619; (valid) 0.4076 | Time: 19.88s\n",
      "Best model found in epoch 2 | valid loss: 0.4076\n"
     ]
    },
    {
     "name": "stdout",
     "output_type": "stream",
     "text": [
      "Epoch 2 [41/42] | Valid Loss: 0.4076 | Elapse: 3.86s\n"
     ]
    },
    {
     "data": {
      "application/vnd.jupyter.widget-view+json": {
       "model_id": "38f7e126baa2416abdfeb70268fc7689",
       "version_major": 2,
       "version_minor": 0
      },
      "text/plain": [
       "Train [2]:   0%|          | 0/161 [00:00<?, ?batch/s]"
      ]
     },
     "metadata": {},
     "output_type": "display_data"
    },
    {
     "name": "stdout",
     "output_type": "stream",
     "text": [
      "Epoch 3 [0/161] | Train Loss: 0.0107 Grad: 188398.2812 LR: 1.0000e-04 | Elapse: 0.10s\n",
      "Epoch 3 [100/161] | Train Loss: 0.0323 Grad: 187855.5625 LR: 9.9695e-05 | Elapse: 10.03s\n",
      "Epoch 3 [160/161] | Train Loss: 0.0268 Grad: 180547.2969 LR: 9.9231e-05 | Elapse: 15.97s\n"
     ]
    },
    {
     "data": {
      "application/vnd.jupyter.widget-view+json": {
       "model_id": "2caf99b884244fbe94f856cd826709a5",
       "version_major": 2,
       "version_minor": 0
      },
      "text/plain": [
       "Valid [2]:   0%|          | 0/42 [00:00<?, ?batch/s]"
      ]
     },
     "metadata": {},
     "output_type": "display_data"
    },
    {
     "name": "stdout",
     "output_type": "stream",
     "text": [
      "Epoch 3 [0/42] | Valid Loss: 0.5431 | Elapse: 0.10s\n"
     ]
    },
    {
     "name": "stderr",
     "output_type": "stream",
     "text": [
      "----------------------------------------------------------------------------------------------------\n",
      "Epoch 3 - Average Loss: (train) 0.0268; (valid) 0.4084 | Time: 19.84s\n"
     ]
    },
    {
     "name": "stdout",
     "output_type": "stream",
     "text": [
      "Epoch 3 [41/42] | Valid Loss: 0.4084 | Elapse: 3.86s\n"
     ]
    },
    {
     "data": {
      "application/vnd.jupyter.widget-view+json": {
       "model_id": "0c7194bea39749eda25c6d37717ad524",
       "version_major": 2,
       "version_minor": 0
      },
      "text/plain": [
       "Train [3]:   0%|          | 0/161 [00:00<?, ?batch/s]"
      ]
     },
     "metadata": {},
     "output_type": "display_data"
    },
    {
     "name": "stdout",
     "output_type": "stream",
     "text": [
      "Epoch 4 [0/161] | Train Loss: -0.0276 Grad: 145875.9844 LR: 9.9222e-05 | Elapse: 0.10s\n",
      "Epoch 4 [100/161] | Train Loss: 0.0113 Grad: 152068.9062 LR: 9.7982e-05 | Elapse: 10.03s\n",
      "Epoch 4 [160/161] | Train Loss: 0.0062 Grad: 241710.2344 LR: 9.6967e-05 | Elapse: 15.98s\n"
     ]
    },
    {
     "data": {
      "application/vnd.jupyter.widget-view+json": {
       "model_id": "f6246d73f5e94ae1b8737eea6ce310fd",
       "version_major": 2,
       "version_minor": 0
      },
      "text/plain": [
       "Valid [3]:   0%|          | 0/42 [00:00<?, ?batch/s]"
      ]
     },
     "metadata": {},
     "output_type": "display_data"
    },
    {
     "name": "stdout",
     "output_type": "stream",
     "text": [
      "Epoch 4 [0/42] | Valid Loss: 0.5830 | Elapse: 0.10s\n"
     ]
    },
    {
     "name": "stderr",
     "output_type": "stream",
     "text": [
      "----------------------------------------------------------------------------------------------------\n",
      "Epoch 4 - Average Loss: (train) 0.0062; (valid) 0.4110 | Time: 19.84s\n"
     ]
    },
    {
     "name": "stdout",
     "output_type": "stream",
     "text": [
      "Epoch 4 [41/42] | Valid Loss: 0.4110 | Elapse: 3.86s\n"
     ]
    },
    {
     "data": {
      "application/vnd.jupyter.widget-view+json": {
       "model_id": "39ca429ce35d44f58fee4ef3f173dbcc",
       "version_major": 2,
       "version_minor": 0
      },
      "text/plain": [
       "Train [4]:   0%|          | 0/161 [00:00<?, ?batch/s]"
      ]
     },
     "metadata": {},
     "output_type": "display_data"
    },
    {
     "name": "stdout",
     "output_type": "stream",
     "text": [
      "Epoch 5 [0/161] | Train Loss: -0.0270 Grad: 178581.8906 LR: 9.6949e-05 | Elapse: 0.10s\n",
      "Epoch 5 [100/161] | Train Loss: -0.0070 Grad: 205974.2500 LR: 9.4813e-05 | Elapse: 10.03s\n",
      "Epoch 5 [160/161] | Train Loss: -0.0118 Grad: 197538.0469 LR: 9.3277e-05 | Elapse: 15.97s\n"
     ]
    },
    {
     "data": {
      "application/vnd.jupyter.widget-view+json": {
       "model_id": "5ff7cae464194477ac2d8ae936c04fb3",
       "version_major": 2,
       "version_minor": 0
      },
      "text/plain": [
       "Valid [4]:   0%|          | 0/42 [00:00<?, ?batch/s]"
      ]
     },
     "metadata": {},
     "output_type": "display_data"
    },
    {
     "name": "stdout",
     "output_type": "stream",
     "text": [
      "Epoch 5 [0/42] | Valid Loss: 0.5780 | Elapse: 0.10s\n"
     ]
    },
    {
     "name": "stderr",
     "output_type": "stream",
     "text": [
      "----------------------------------------------------------------------------------------------------\n",
      "Epoch 5 - Average Loss: (train) -0.0118; (valid) 0.4189 | Time: 19.84s\n"
     ]
    },
    {
     "name": "stdout",
     "output_type": "stream",
     "text": [
      "Epoch 5 [41/42] | Valid Loss: 0.4189 | Elapse: 3.87s\n"
     ]
    },
    {
     "data": {
      "application/vnd.jupyter.widget-view+json": {
       "model_id": "3e0d9d8b594b4d8da9e94ad9f455e1fd",
       "version_major": 2,
       "version_minor": 0
      },
      "text/plain": [
       "Train [5]:   0%|          | 0/161 [00:00<?, ?batch/s]"
      ]
     },
     "metadata": {},
     "output_type": "display_data"
    },
    {
     "name": "stdout",
     "output_type": "stream",
     "text": [
      "Epoch 6 [0/161] | Train Loss: -0.0332 Grad: 200052.5625 LR: 9.3250e-05 | Elapse: 0.10s\n",
      "Epoch 6 [100/161] | Train Loss: -0.0208 Grad: 136281.3438 LR: 9.0282e-05 | Elapse: 10.01s\n",
      "Epoch 6 [160/161] | Train Loss: -0.0243 Grad: 138190.3906 LR: 8.8272e-05 | Elapse: 15.95s\n"
     ]
    },
    {
     "data": {
      "application/vnd.jupyter.widget-view+json": {
       "model_id": "a914005bce294329b141203849a085e7",
       "version_major": 2,
       "version_minor": 0
      },
      "text/plain": [
       "Valid [5]:   0%|          | 0/42 [00:00<?, ?batch/s]"
      ]
     },
     "metadata": {},
     "output_type": "display_data"
    },
    {
     "name": "stdout",
     "output_type": "stream",
     "text": [
      "Epoch 6 [0/42] | Valid Loss: 0.5908 | Elapse: 0.10s\n"
     ]
    },
    {
     "name": "stderr",
     "output_type": "stream",
     "text": [
      "----------------------------------------------------------------------------------------------------\n",
      "Epoch 6 - Average Loss: (train) -0.0243; (valid) 0.4074 | Time: 19.82s\n",
      "Best model found in epoch 6 | valid loss: 0.4074\n"
     ]
    },
    {
     "name": "stdout",
     "output_type": "stream",
     "text": [
      "Epoch 6 [41/42] | Valid Loss: 0.4074 | Elapse: 3.86s\n"
     ]
    },
    {
     "data": {
      "application/vnd.jupyter.widget-view+json": {
       "model_id": "00cc27d2ae9f49b48019b2bf552257d7",
       "version_major": 2,
       "version_minor": 0
      },
      "text/plain": [
       "Train [6]:   0%|          | 0/161 [00:00<?, ?batch/s]"
      ]
     },
     "metadata": {},
     "output_type": "display_data"
    },
    {
     "name": "stdout",
     "output_type": "stream",
     "text": [
      "Epoch 7 [0/161] | Train Loss: -0.0538 Grad: 136303.6094 LR: 8.8237e-05 | Elapse: 0.10s\n",
      "Epoch 7 [100/161] | Train Loss: -0.0353 Grad: 106480.9688 LR: 8.4528e-05 | Elapse: 10.01s\n",
      "Epoch 7 [160/161] | Train Loss: -0.0364 Grad: 111008.4219 LR: 8.2105e-05 | Elapse: 15.95s\n"
     ]
    },
    {
     "data": {
      "application/vnd.jupyter.widget-view+json": {
       "model_id": "e9afe160181d46fa93d0378ac9bdb839",
       "version_major": 2,
       "version_minor": 0
      },
      "text/plain": [
       "Valid [6]:   0%|          | 0/42 [00:00<?, ?batch/s]"
      ]
     },
     "metadata": {},
     "output_type": "display_data"
    },
    {
     "name": "stdout",
     "output_type": "stream",
     "text": [
      "Epoch 7 [0/42] | Valid Loss: 0.5587 | Elapse: 0.10s\n"
     ]
    },
    {
     "name": "stderr",
     "output_type": "stream",
     "text": [
      "----------------------------------------------------------------------------------------------------\n",
      "Epoch 7 - Average Loss: (train) -0.0364; (valid) 0.4101 | Time: 19.82s\n"
     ]
    },
    {
     "name": "stdout",
     "output_type": "stream",
     "text": [
      "Epoch 7 [41/42] | Valid Loss: 0.4101 | Elapse: 3.87s\n"
     ]
    },
    {
     "data": {
      "application/vnd.jupyter.widget-view+json": {
       "model_id": "a55b8e2c66d44ba6a6689c061a6234e2",
       "version_major": 2,
       "version_minor": 0
      },
      "text/plain": [
       "Train [7]:   0%|          | 0/161 [00:00<?, ?batch/s]"
      ]
     },
     "metadata": {},
     "output_type": "display_data"
    },
    {
     "name": "stdout",
     "output_type": "stream",
     "text": [
      "Epoch 8 [0/161] | Train Loss: -0.0731 Grad: 110793.2266 LR: 8.2063e-05 | Elapse: 0.10s\n",
      "Epoch 8 [100/161] | Train Loss: -0.0464 Grad: 117960.8125 LR: 7.7725e-05 | Elapse: 10.02s\n",
      "Epoch 8 [160/161] | Train Loss: -0.0483 Grad: 123862.5078 LR: 7.4963e-05 | Elapse: 15.97s\n"
     ]
    },
    {
     "data": {
      "application/vnd.jupyter.widget-view+json": {
       "model_id": "912f33e91dbb46e6881293999d70b6cb",
       "version_major": 2,
       "version_minor": 0
      },
      "text/plain": [
       "Valid [7]:   0%|          | 0/42 [00:00<?, ?batch/s]"
      ]
     },
     "metadata": {},
     "output_type": "display_data"
    },
    {
     "name": "stdout",
     "output_type": "stream",
     "text": [
      "Epoch 8 [0/42] | Valid Loss: 0.5641 | Elapse: 0.10s\n"
     ]
    },
    {
     "name": "stderr",
     "output_type": "stream",
     "text": [
      "----------------------------------------------------------------------------------------------------\n",
      "Epoch 8 - Average Loss: (train) -0.0483; (valid) 0.4023 | Time: 19.83s\n",
      "Best model found in epoch 8 | valid loss: 0.4023\n"
     ]
    },
    {
     "name": "stdout",
     "output_type": "stream",
     "text": [
      "Epoch 8 [41/42] | Valid Loss: 0.4023 | Elapse: 3.87s\n"
     ]
    },
    {
     "data": {
      "application/vnd.jupyter.widget-view+json": {
       "model_id": "39195a89e86748e68ca58d2f5f38cefd",
       "version_major": 2,
       "version_minor": 0
      },
      "text/plain": [
       "Train [8]:   0%|          | 0/161 [00:00<?, ?batch/s]"
      ]
     },
     "metadata": {},
     "output_type": "display_data"
    },
    {
     "name": "stdout",
     "output_type": "stream",
     "text": [
      "Epoch 9 [0/161] | Train Loss: -0.0760 Grad: 112058.4766 LR: 7.4916e-05 | Elapse: 0.10s\n",
      "Epoch 9 [100/161] | Train Loss: -0.0567 Grad: 116133.3516 LR: 7.0081e-05 | Elapse: 10.03s\n",
      "Epoch 9 [160/161] | Train Loss: -0.0581 Grad: 112845.5859 LR: 6.7063e-05 | Elapse: 15.97s\n"
     ]
    },
    {
     "data": {
      "application/vnd.jupyter.widget-view+json": {
       "model_id": "0bc2b0d239304571815f43bf6b53023b",
       "version_major": 2,
       "version_minor": 0
      },
      "text/plain": [
       "Valid [8]:   0%|          | 0/42 [00:00<?, ?batch/s]"
      ]
     },
     "metadata": {},
     "output_type": "display_data"
    },
    {
     "name": "stdout",
     "output_type": "stream",
     "text": [
      "Epoch 9 [0/42] | Valid Loss: 0.5279 | Elapse: 0.10s\n"
     ]
    },
    {
     "name": "stderr",
     "output_type": "stream",
     "text": [
      "----------------------------------------------------------------------------------------------------\n",
      "Epoch 9 - Average Loss: (train) -0.0581; (valid) 0.4035 | Time: 19.84s\n"
     ]
    },
    {
     "name": "stdout",
     "output_type": "stream",
     "text": [
      "Epoch 9 [41/42] | Valid Loss: 0.4035 | Elapse: 3.87s\n"
     ]
    },
    {
     "data": {
      "application/vnd.jupyter.widget-view+json": {
       "model_id": "ca98cd1349714c6799337ffcd230f37c",
       "version_major": 2,
       "version_minor": 0
      },
      "text/plain": [
       "Train [9]:   0%|          | 0/161 [00:00<?, ?batch/s]"
      ]
     },
     "metadata": {},
     "output_type": "display_data"
    },
    {
     "name": "stdout",
     "output_type": "stream",
     "text": [
      "Epoch 10 [0/161] | Train Loss: -0.0883 Grad: 88579.8594 LR: 6.7012e-05 | Elapse: 0.10s\n",
      "Epoch 10 [100/161] | Train Loss: -0.0645 Grad: 162720.9844 LR: 6.1827e-05 | Elapse: 10.03s\n",
      "Epoch 10 [160/161] | Train Loss: -0.0660 Grad: 125196.5312 LR: 5.8646e-05 | Elapse: 15.98s\n"
     ]
    },
    {
     "data": {
      "application/vnd.jupyter.widget-view+json": {
       "model_id": "23ead7426e3e411881bea28e587b4232",
       "version_major": 2,
       "version_minor": 0
      },
      "text/plain": [
       "Valid [9]:   0%|          | 0/42 [00:00<?, ?batch/s]"
      ]
     },
     "metadata": {},
     "output_type": "display_data"
    },
    {
     "name": "stdout",
     "output_type": "stream",
     "text": [
      "Epoch 10 [0/42] | Valid Loss: 0.5125 | Elapse: 0.10s\n"
     ]
    },
    {
     "name": "stderr",
     "output_type": "stream",
     "text": [
      "----------------------------------------------------------------------------------------------------\n",
      "Epoch 10 - Average Loss: (train) -0.0660; (valid) 0.4049 | Time: 19.85s\n"
     ]
    },
    {
     "name": "stdout",
     "output_type": "stream",
     "text": [
      "Epoch 10 [41/42] | Valid Loss: 0.4049 | Elapse: 3.87s\n"
     ]
    },
    {
     "data": {
      "application/vnd.jupyter.widget-view+json": {
       "model_id": "263754675fcd4a42a1b6510dcfc48146",
       "version_major": 2,
       "version_minor": 0
      },
      "text/plain": [
       "Train [10]:   0%|          | 0/161 [00:00<?, ?batch/s]"
      ]
     },
     "metadata": {},
     "output_type": "display_data"
    },
    {
     "name": "stdout",
     "output_type": "stream",
     "text": [
      "Epoch 11 [0/161] | Train Loss: -0.0794 Grad: 104415.9375 LR: 5.8592e-05 | Elapse: 0.10s\n",
      "Epoch 11 [100/161] | Train Loss: -0.0726 Grad: 142375.1406 LR: 5.3215e-05 | Elapse: 9.87s\n",
      "Epoch 11 [160/161] | Train Loss: -0.0734 Grad: 89555.8047 LR: 4.9966e-05 | Elapse: 15.72s\n"
     ]
    },
    {
     "data": {
      "application/vnd.jupyter.widget-view+json": {
       "model_id": "afeb1693699246ddb30345a53618b5e9",
       "version_major": 2,
       "version_minor": 0
      },
      "text/plain": [
       "Valid [10]:   0%|          | 0/42 [00:00<?, ?batch/s]"
      ]
     },
     "metadata": {},
     "output_type": "display_data"
    },
    {
     "name": "stdout",
     "output_type": "stream",
     "text": [
      "Epoch 11 [0/42] | Valid Loss: 0.5597 | Elapse: 0.10s\n"
     ]
    },
    {
     "name": "stderr",
     "output_type": "stream",
     "text": [
      "----------------------------------------------------------------------------------------------------\n",
      "Epoch 11 - Average Loss: (train) -0.0734; (valid) 0.4104 | Time: 19.51s\n"
     ]
    },
    {
     "name": "stdout",
     "output_type": "stream",
     "text": [
      "Epoch 11 [41/42] | Valid Loss: 0.4104 | Elapse: 3.79s\n"
     ]
    },
    {
     "data": {
      "application/vnd.jupyter.widget-view+json": {
       "model_id": "837fe23a072d4120812386afddaa09b2",
       "version_major": 2,
       "version_minor": 0
      },
      "text/plain": [
       "Train [11]:   0%|          | 0/161 [00:00<?, ?batch/s]"
      ]
     },
     "metadata": {},
     "output_type": "display_data"
    },
    {
     "name": "stdout",
     "output_type": "stream",
     "text": [
      "Epoch 12 [0/161] | Train Loss: -0.0891 Grad: 97061.4688 LR: 4.9912e-05 | Elapse: 0.10s\n",
      "Epoch 12 [100/161] | Train Loss: -0.0794 Grad: 100993.2188 LR: 4.4505e-05 | Elapse: 9.86s\n",
      "Epoch 12 [160/161] | Train Loss: -0.0799 Grad: 81971.7578 LR: 4.1288e-05 | Elapse: 15.71s\n"
     ]
    },
    {
     "data": {
      "application/vnd.jupyter.widget-view+json": {
       "model_id": "07d54acac24842c99ba09f038cfb1bff",
       "version_major": 2,
       "version_minor": 0
      },
      "text/plain": [
       "Valid [11]:   0%|          | 0/42 [00:00<?, ?batch/s]"
      ]
     },
     "metadata": {},
     "output_type": "display_data"
    },
    {
     "name": "stdout",
     "output_type": "stream",
     "text": [
      "Epoch 12 [0/42] | Valid Loss: 0.5162 | Elapse: 0.10s\n"
     ]
    },
    {
     "name": "stderr",
     "output_type": "stream",
     "text": [
      "----------------------------------------------------------------------------------------------------\n",
      "Epoch 12 - Average Loss: (train) -0.0799; (valid) 0.3971 | Time: 19.51s\n",
      "Best model found in epoch 12 | valid loss: 0.3971\n"
     ]
    },
    {
     "name": "stdout",
     "output_type": "stream",
     "text": [
      "Epoch 12 [41/42] | Valid Loss: 0.3971 | Elapse: 3.80s\n"
     ]
    },
    {
     "data": {
      "application/vnd.jupyter.widget-view+json": {
       "model_id": "0cac578c024145d2b5d4997bf46d7acf",
       "version_major": 2,
       "version_minor": 0
      },
      "text/plain": [
       "Train [12]:   0%|          | 0/161 [00:00<?, ?batch/s]"
      ]
     },
     "metadata": {},
     "output_type": "display_data"
    },
    {
     "name": "stdout",
     "output_type": "stream",
     "text": [
      "Epoch 13 [0/161] | Train Loss: -0.0990 Grad: 101625.8047 LR: 4.1234e-05 | Elapse: 0.10s\n",
      "Epoch 13 [100/161] | Train Loss: -0.0845 Grad: 86026.7188 LR: 3.5963e-05 | Elapse: 9.85s\n",
      "Epoch 13 [160/161] | Train Loss: -0.0857 Grad: 100102.4766 LR: 3.2875e-05 | Elapse: 15.69s\n"
     ]
    },
    {
     "data": {
      "application/vnd.jupyter.widget-view+json": {
       "model_id": "a9c800fb1ef84b34a69e380dd8703c51",
       "version_major": 2,
       "version_minor": 0
      },
      "text/plain": [
       "Valid [12]:   0%|          | 0/42 [00:00<?, ?batch/s]"
      ]
     },
     "metadata": {},
     "output_type": "display_data"
    },
    {
     "name": "stdout",
     "output_type": "stream",
     "text": [
      "Epoch 13 [0/42] | Valid Loss: 0.5606 | Elapse: 0.10s\n"
     ]
    },
    {
     "name": "stderr",
     "output_type": "stream",
     "text": [
      "----------------------------------------------------------------------------------------------------\n",
      "Epoch 13 - Average Loss: (train) -0.0857; (valid) 0.4064 | Time: 19.47s\n"
     ]
    },
    {
     "name": "stdout",
     "output_type": "stream",
     "text": [
      "Epoch 13 [41/42] | Valid Loss: 0.4064 | Elapse: 3.77s\n"
     ]
    },
    {
     "data": {
      "application/vnd.jupyter.widget-view+json": {
       "model_id": "625af9c0a2f74af1b72041d41a716481",
       "version_major": 2,
       "version_minor": 0
      },
      "text/plain": [
       "Train [13]:   0%|          | 0/161 [00:00<?, ?batch/s]"
      ]
     },
     "metadata": {},
     "output_type": "display_data"
    },
    {
     "name": "stdout",
     "output_type": "stream",
     "text": [
      "Epoch 14 [0/161] | Train Loss: -0.0905 Grad: 123599.8438 LR: 3.2824e-05 | Elapse: 0.10s\n",
      "Epoch 14 [100/161] | Train Loss: -0.0876 Grad: 85881.5234 LR: 2.7848e-05 | Elapse: 9.84s\n",
      "Epoch 14 [160/161] | Train Loss: -0.0889 Grad: 90172.1797 LR: 2.4983e-05 | Elapse: 15.68s\n"
     ]
    },
    {
     "data": {
      "application/vnd.jupyter.widget-view+json": {
       "model_id": "d0d763dacf144f64bc1041160b73e9f4",
       "version_major": 2,
       "version_minor": 0
      },
      "text/plain": [
       "Valid [13]:   0%|          | 0/42 [00:00<?, ?batch/s]"
      ]
     },
     "metadata": {},
     "output_type": "display_data"
    },
    {
     "name": "stdout",
     "output_type": "stream",
     "text": [
      "Epoch 14 [0/42] | Valid Loss: 0.5759 | Elapse: 0.10s\n"
     ]
    },
    {
     "name": "stderr",
     "output_type": "stream",
     "text": [
      "----------------------------------------------------------------------------------------------------\n",
      "Epoch 14 - Average Loss: (train) -0.0889; (valid) 0.4095 | Time: 19.45s\n"
     ]
    },
    {
     "name": "stdout",
     "output_type": "stream",
     "text": [
      "Epoch 14 [41/42] | Valid Loss: 0.4095 | Elapse: 3.77s\n"
     ]
    },
    {
     "data": {
      "application/vnd.jupyter.widget-view+json": {
       "model_id": "b2dc5ec2f9034bfbb636d658a7988b73",
       "version_major": 2,
       "version_minor": 0
      },
      "text/plain": [
       "Train [14]:   0%|          | 0/161 [00:00<?, ?batch/s]"
      ]
     },
     "metadata": {},
     "output_type": "display_data"
    },
    {
     "name": "stdout",
     "output_type": "stream",
     "text": [
      "Epoch 15 [0/161] | Train Loss: -0.0918 Grad: 111460.2969 LR: 2.4936e-05 | Elapse: 0.10s\n",
      "Epoch 15 [100/161] | Train Loss: -0.0922 Grad: 82625.2266 LR: 2.0406e-05 | Elapse: 9.83s\n",
      "Epoch 15 [160/161] | Train Loss: -0.0936 Grad: 72339.0078 LR: 1.7852e-05 | Elapse: 15.72s\n"
     ]
    },
    {
     "data": {
      "application/vnd.jupyter.widget-view+json": {
       "model_id": "4f03bbbed9324686aa3cdb4112231050",
       "version_major": 2,
       "version_minor": 0
      },
      "text/plain": [
       "Valid [14]:   0%|          | 0/42 [00:00<?, ?batch/s]"
      ]
     },
     "metadata": {},
     "output_type": "display_data"
    },
    {
     "name": "stdout",
     "output_type": "stream",
     "text": [
      "Epoch 15 [0/42] | Valid Loss: 0.5520 | Elapse: 0.10s\n"
     ]
    },
    {
     "name": "stderr",
     "output_type": "stream",
     "text": [
      "----------------------------------------------------------------------------------------------------\n",
      "Epoch 15 - Average Loss: (train) -0.0936; (valid) 0.4042 | Time: 19.54s\n"
     ]
    },
    {
     "name": "stdout",
     "output_type": "stream",
     "text": [
      "Epoch 15 [41/42] | Valid Loss: 0.4042 | Elapse: 3.82s\n"
     ]
    },
    {
     "data": {
      "application/vnd.jupyter.widget-view+json": {
       "model_id": "15e4db1360614635a9e39117e3a19148",
       "version_major": 2,
       "version_minor": 0
      },
      "text/plain": [
       "Train [15]:   0%|          | 0/161 [00:00<?, ?batch/s]"
      ]
     },
     "metadata": {},
     "output_type": "display_data"
    },
    {
     "name": "stdout",
     "output_type": "stream",
     "text": [
      "Epoch 16 [0/161] | Train Loss: -0.0944 Grad: 94664.5000 LR: 1.7811e-05 | Elapse: 0.10s\n",
      "Epoch 16 [100/161] | Train Loss: -0.0977 Grad: 68758.0625 LR: 1.3865e-05 | Elapse: 9.90s\n",
      "Epoch 16 [160/161] | Train Loss: -0.0994 Grad: 68247.5859 LR: 1.1698e-05 | Elapse: 15.78s\n"
     ]
    },
    {
     "data": {
      "application/vnd.jupyter.widget-view+json": {
       "model_id": "cbf4a5a6d97244ef8a5c5da469895cf5",
       "version_major": 2,
       "version_minor": 0
      },
      "text/plain": [
       "Valid [15]:   0%|          | 0/42 [00:00<?, ?batch/s]"
      ]
     },
     "metadata": {},
     "output_type": "display_data"
    },
    {
     "name": "stdout",
     "output_type": "stream",
     "text": [
      "Epoch 16 [0/42] | Valid Loss: 0.5190 | Elapse: 0.10s\n"
     ]
    },
    {
     "name": "stderr",
     "output_type": "stream",
     "text": [
      "----------------------------------------------------------------------------------------------------\n",
      "Epoch 16 - Average Loss: (train) -0.0994; (valid) 0.4009 | Time: 19.59s\n"
     ]
    },
    {
     "name": "stdout",
     "output_type": "stream",
     "text": [
      "Epoch 16 [41/42] | Valid Loss: 0.4009 | Elapse: 3.82s\n"
     ]
    },
    {
     "data": {
      "application/vnd.jupyter.widget-view+json": {
       "model_id": "1b350e00787d4d9789381d7ccbdad521",
       "version_major": 2,
       "version_minor": 0
      },
      "text/plain": [
       "Train [16]:   0%|          | 0/161 [00:00<?, ?batch/s]"
      ]
     },
     "metadata": {},
     "output_type": "display_data"
    },
    {
     "name": "stdout",
     "output_type": "stream",
     "text": [
      "Epoch 17 [0/161] | Train Loss: -0.1021 Grad: 92672.2266 LR: 1.1664e-05 | Elapse: 0.10s\n",
      "Epoch 17 [100/161] | Train Loss: -0.1021 Grad: 63732.2422 LR: 8.4218e-06 | Elapse: 9.90s\n",
      "Epoch 17 [160/161] | Train Loss: -0.1034 Grad: 75050.6016 LR: 6.7090e-06 | Elapse: 15.77s\n"
     ]
    },
    {
     "data": {
      "application/vnd.jupyter.widget-view+json": {
       "model_id": "c92e7e44aad84d26b522b62ac98398ae",
       "version_major": 2,
       "version_minor": 0
      },
      "text/plain": [
       "Valid [16]:   0%|          | 0/42 [00:00<?, ?batch/s]"
      ]
     },
     "metadata": {},
     "output_type": "display_data"
    },
    {
     "name": "stdout",
     "output_type": "stream",
     "text": [
      "Epoch 17 [0/42] | Valid Loss: 0.5143 | Elapse: 0.10s\n"
     ]
    },
    {
     "name": "stderr",
     "output_type": "stream",
     "text": [
      "----------------------------------------------------------------------------------------------------\n",
      "Epoch 17 - Average Loss: (train) -0.1034; (valid) 0.4009 | Time: 19.58s\n",
      "Early stopping at epoch 17\n",
      "====================================================================================================\n",
      "Fold 4 Valid Loss: 0.39711377024650574\n",
      "Elapse: 5.59 min \n",
      "====================================================================================================\n"
     ]
    },
    {
     "name": "stdout",
     "output_type": "stream",
     "text": [
      "Epoch 17 [41/42] | Valid Loss: 0.4009 | Elapse: 3.81s\n"
     ]
    },
    {
     "name": "stderr",
     "output_type": "stream",
     "text": [
      "Fold 4 Elapse: 5.59 min\n"
     ]
    },
    {
     "ename": "KeyError",
     "evalue": "\"None of [Index(['seizure_vote', 'lpd_vote', 'gpd_vote', 'lrda_vote', 'grda_vote',\\n       'other_vote'],\\n      dtype='object')] are in the [columns]\"",
     "output_type": "error",
     "traceback": [
      "\u001b[0;31m---------------------------------------------------------------------------\u001b[0m",
      "\u001b[0;31mKeyError\u001b[0m                                  Traceback (most recent call last)",
      "Cell \u001b[0;32mIn[24], line 82\u001b[0m\n\u001b[1;32m     79\u001b[0m     logger\u001b[38;5;241m.\u001b[39minfo(\u001b[38;5;124mf\u001b[39m\u001b[38;5;124m\"\u001b[39m\u001b[38;5;124mFold \u001b[39m\u001b[38;5;132;01m{\u001b[39;00mfold\u001b[38;5;132;01m}\u001b[39;00m\u001b[38;5;124m Elapse: \u001b[39m\u001b[38;5;132;01m{\u001b[39;00m(time()\u001b[38;5;250m \u001b[39m\u001b[38;5;241m-\u001b[39m\u001b[38;5;250m \u001b[39mtik_total)\u001b[38;5;250m \u001b[39m\u001b[38;5;241m/\u001b[39m\u001b[38;5;250m \u001b[39m\u001b[38;5;241m60\u001b[39m\u001b[38;5;132;01m:\u001b[39;00m\u001b[38;5;124m.2f\u001b[39m\u001b[38;5;132;01m}\u001b[39;00m\u001b[38;5;124m min\u001b[39m\u001b[38;5;124m\"\u001b[39m)\n\u001b[1;32m     81\u001b[0m info \u001b[38;5;241m=\u001b[39m \u001b[38;5;124mf\u001b[39m\u001b[38;5;124m\"\u001b[39m\u001b[38;5;132;01m{\u001b[39;00m\u001b[38;5;124m'\u001b[39m\u001b[38;5;124m=\u001b[39m\u001b[38;5;124m'\u001b[39m\u001b[38;5;250m \u001b[39m\u001b[38;5;241m*\u001b[39m\u001b[38;5;250m \u001b[39m\u001b[38;5;241m100\u001b[39m\u001b[38;5;132;01m}\u001b[39;00m\u001b[38;5;130;01m\\n\u001b[39;00m\u001b[38;5;124mTraining Complete!\u001b[39m\u001b[38;5;130;01m\\n\u001b[39;00m\u001b[38;5;124m\"\u001b[39m\n\u001b[0;32m---> 82\u001b[0m cv_results_1 \u001b[38;5;241m=\u001b[39m \u001b[43mevaluate_oof\u001b[49m\u001b[43m(\u001b[49m\u001b[43moof_stage_1\u001b[49m\u001b[43m)\u001b[49m\n\u001b[1;32m     83\u001b[0m cv_results_2 \u001b[38;5;241m=\u001b[39m evaluate_oof(oof_stage_2)\n\u001b[1;32m     84\u001b[0m info \u001b[38;5;241m+\u001b[39m\u001b[38;5;241m=\u001b[39m \u001b[38;5;124mf\u001b[39m\u001b[38;5;124m\"\u001b[39m\u001b[38;5;124mCV Result: Stage 1: \u001b[39m\u001b[38;5;132;01m{\u001b[39;00mcv_results_1\u001b[38;5;132;01m}\u001b[39;00m\u001b[38;5;124m | Stage 2: \u001b[39m\u001b[38;5;132;01m{\u001b[39;00mcv_results_2\u001b[38;5;132;01m}\u001b[39;00m\u001b[38;5;130;01m\\n\u001b[39;00m\u001b[38;5;124m\"\u001b[39m\n",
      "Cell \u001b[0;32mIn[19], line 38\u001b[0m, in \u001b[0;36mevaluate_oof\u001b[0;34m(oof_df)\u001b[0m\n\u001b[1;32m     34\u001b[0m \u001b[38;5;250m\u001b[39m\u001b[38;5;124;03m'''\u001b[39;00m\n\u001b[1;32m     35\u001b[0m \u001b[38;5;124;03mEvaluate the out-of-fold dataframe using KL Divergence (torch and kaggle)\u001b[39;00m\n\u001b[1;32m     36\u001b[0m \u001b[38;5;124;03m'''\u001b[39;00m\n\u001b[1;32m     37\u001b[0m kl_loss \u001b[38;5;241m=\u001b[39m nn\u001b[38;5;241m.\u001b[39mKLDivLoss(reduction\u001b[38;5;241m=\u001b[39m\u001b[38;5;124m\"\u001b[39m\u001b[38;5;124mbatchmean\u001b[39m\u001b[38;5;124m\"\u001b[39m)\n\u001b[0;32m---> 38\u001b[0m labels \u001b[38;5;241m=\u001b[39m torch\u001b[38;5;241m.\u001b[39mtensor(\u001b[43moof_df\u001b[49m\u001b[43m[\u001b[49m\u001b[43mTARGETS\u001b[49m\u001b[43m]\u001b[49m\u001b[38;5;241m.\u001b[39mvalues\u001b[38;5;241m.\u001b[39mastype(\u001b[38;5;124m'\u001b[39m\u001b[38;5;124mfloat32\u001b[39m\u001b[38;5;124m'\u001b[39m))\n\u001b[1;32m     39\u001b[0m preds \u001b[38;5;241m=\u001b[39m F\u001b[38;5;241m.\u001b[39mlog_softmax(\n\u001b[1;32m     40\u001b[0m     torch\u001b[38;5;241m.\u001b[39mtensor(oof_df[TARGETS_PRED]\u001b[38;5;241m.\u001b[39mvalues\u001b[38;5;241m.\u001b[39mastype(\u001b[38;5;124m'\u001b[39m\u001b[38;5;124mfloat32\u001b[39m\u001b[38;5;124m'\u001b[39m), requires_grad\u001b[38;5;241m=\u001b[39m\u001b[38;5;28;01mFalse\u001b[39;00m),\n\u001b[1;32m     41\u001b[0m     dim\u001b[38;5;241m=\u001b[39m\u001b[38;5;241m1\u001b[39m\n\u001b[1;32m     42\u001b[0m )\n\u001b[1;32m     43\u001b[0m kl_torch \u001b[38;5;241m=\u001b[39m kl_loss(preds, labels)\u001b[38;5;241m.\u001b[39mitem()\n",
      "File \u001b[0;32m~/miniconda3/envs/kaggle/lib/python3.11/site-packages/pandas/core/frame.py:4096\u001b[0m, in \u001b[0;36mDataFrame.__getitem__\u001b[0;34m(self, key)\u001b[0m\n\u001b[1;32m   4094\u001b[0m     \u001b[38;5;28;01mif\u001b[39;00m is_iterator(key):\n\u001b[1;32m   4095\u001b[0m         key \u001b[38;5;241m=\u001b[39m \u001b[38;5;28mlist\u001b[39m(key)\n\u001b[0;32m-> 4096\u001b[0m     indexer \u001b[38;5;241m=\u001b[39m \u001b[38;5;28;43mself\u001b[39;49m\u001b[38;5;241;43m.\u001b[39;49m\u001b[43mcolumns\u001b[49m\u001b[38;5;241;43m.\u001b[39;49m\u001b[43m_get_indexer_strict\u001b[49m\u001b[43m(\u001b[49m\u001b[43mkey\u001b[49m\u001b[43m,\u001b[49m\u001b[43m \u001b[49m\u001b[38;5;124;43m\"\u001b[39;49m\u001b[38;5;124;43mcolumns\u001b[39;49m\u001b[38;5;124;43m\"\u001b[39;49m\u001b[43m)\u001b[49m[\u001b[38;5;241m1\u001b[39m]\n\u001b[1;32m   4098\u001b[0m \u001b[38;5;66;03m# take() does not accept boolean indexers\u001b[39;00m\n\u001b[1;32m   4099\u001b[0m \u001b[38;5;28;01mif\u001b[39;00m \u001b[38;5;28mgetattr\u001b[39m(indexer, \u001b[38;5;124m\"\u001b[39m\u001b[38;5;124mdtype\u001b[39m\u001b[38;5;124m\"\u001b[39m, \u001b[38;5;28;01mNone\u001b[39;00m) \u001b[38;5;241m==\u001b[39m \u001b[38;5;28mbool\u001b[39m:\n",
      "File \u001b[0;32m~/miniconda3/envs/kaggle/lib/python3.11/site-packages/pandas/core/indexes/base.py:6200\u001b[0m, in \u001b[0;36mIndex._get_indexer_strict\u001b[0;34m(self, key, axis_name)\u001b[0m\n\u001b[1;32m   6197\u001b[0m \u001b[38;5;28;01melse\u001b[39;00m:\n\u001b[1;32m   6198\u001b[0m     keyarr, indexer, new_indexer \u001b[38;5;241m=\u001b[39m \u001b[38;5;28mself\u001b[39m\u001b[38;5;241m.\u001b[39m_reindex_non_unique(keyarr)\n\u001b[0;32m-> 6200\u001b[0m \u001b[38;5;28;43mself\u001b[39;49m\u001b[38;5;241;43m.\u001b[39;49m\u001b[43m_raise_if_missing\u001b[49m\u001b[43m(\u001b[49m\u001b[43mkeyarr\u001b[49m\u001b[43m,\u001b[49m\u001b[43m \u001b[49m\u001b[43mindexer\u001b[49m\u001b[43m,\u001b[49m\u001b[43m \u001b[49m\u001b[43maxis_name\u001b[49m\u001b[43m)\u001b[49m\n\u001b[1;32m   6202\u001b[0m keyarr \u001b[38;5;241m=\u001b[39m \u001b[38;5;28mself\u001b[39m\u001b[38;5;241m.\u001b[39mtake(indexer)\n\u001b[1;32m   6203\u001b[0m \u001b[38;5;28;01mif\u001b[39;00m \u001b[38;5;28misinstance\u001b[39m(key, Index):\n\u001b[1;32m   6204\u001b[0m     \u001b[38;5;66;03m# GH 42790 - Preserve name from an Index\u001b[39;00m\n",
      "File \u001b[0;32m~/miniconda3/envs/kaggle/lib/python3.11/site-packages/pandas/core/indexes/base.py:6249\u001b[0m, in \u001b[0;36mIndex._raise_if_missing\u001b[0;34m(self, key, indexer, axis_name)\u001b[0m\n\u001b[1;32m   6247\u001b[0m \u001b[38;5;28;01mif\u001b[39;00m nmissing:\n\u001b[1;32m   6248\u001b[0m     \u001b[38;5;28;01mif\u001b[39;00m nmissing \u001b[38;5;241m==\u001b[39m \u001b[38;5;28mlen\u001b[39m(indexer):\n\u001b[0;32m-> 6249\u001b[0m         \u001b[38;5;28;01mraise\u001b[39;00m \u001b[38;5;167;01mKeyError\u001b[39;00m(\u001b[38;5;124mf\u001b[39m\u001b[38;5;124m\"\u001b[39m\u001b[38;5;124mNone of [\u001b[39m\u001b[38;5;132;01m{\u001b[39;00mkey\u001b[38;5;132;01m}\u001b[39;00m\u001b[38;5;124m] are in the [\u001b[39m\u001b[38;5;132;01m{\u001b[39;00maxis_name\u001b[38;5;132;01m}\u001b[39;00m\u001b[38;5;124m]\u001b[39m\u001b[38;5;124m\"\u001b[39m)\n\u001b[1;32m   6251\u001b[0m     not_found \u001b[38;5;241m=\u001b[39m \u001b[38;5;28mlist\u001b[39m(ensure_index(key)[missing_mask\u001b[38;5;241m.\u001b[39mnonzero()[\u001b[38;5;241m0\u001b[39m]]\u001b[38;5;241m.\u001b[39munique())\n\u001b[1;32m   6252\u001b[0m     \u001b[38;5;28;01mraise\u001b[39;00m \u001b[38;5;167;01mKeyError\u001b[39;00m(\u001b[38;5;124mf\u001b[39m\u001b[38;5;124m\"\u001b[39m\u001b[38;5;132;01m{\u001b[39;00mnot_found\u001b[38;5;132;01m}\u001b[39;00m\u001b[38;5;124m not in index\u001b[39m\u001b[38;5;124m\"\u001b[39m)\n",
      "\u001b[0;31mKeyError\u001b[0m: \"None of [Index(['seizure_vote', 'lpd_vote', 'gpd_vote', 'lrda_vote', 'grda_vote',\\n       'other_vote'],\\n      dtype='object')] are in the [columns]\""
     ]
    }
   ],
   "source": [
    "# Major Train Loop\n",
    "# ================== Logger ==================\n",
    "logger.info(f\"{'*' * 100}\")\n",
    "logger.info(f\"Script Start: {ctime()}\")\n",
    "logger.info(f\"Model Configurations:\")\n",
    "for key, value in ModelConfig.__dict__.items():\n",
    "    if not key.startswith(\"__\"):\n",
    "        logger.info(f\"{key}: {value}\")\n",
    "logger.info(f\"{'*' * 100}\")\n",
    "\n",
    "# ================== Prepare Training ==================\n",
    "oof_stage_1, oof_stage_2 = pd.DataFrame(), pd.DataFrame()\n",
    "loss_history_1, loss_history_2 = [], []\n",
    "t_start = time()\n",
    "\n",
    "K_FOLDS = 5\n",
    "train_all = prepare_k_fold(train_all, k_folds=K_FOLDS)\n",
    "\n",
    "for fold in range(0, K_FOLDS):\n",
    "    tik_total = time()\n",
    "    \n",
    "\n",
    "    valid_folds = train_all[(train_all['fold'] == fold) ].reset_index(drop=True)\n",
    "    train_folds = train_all[(train_all['fold'] != fold) ].reset_index(drop=True)\n",
    "    train_size, valid_size = train_folds.shape[0], valid_folds.shape[0]\n",
    "\n",
    "    # ================== Stage 1: Train ====================\n",
    "    tik = time()\n",
    "    ## STAGE 1\n",
    "    model = ResNetGRU(config=ModelConfig, num_classes=6)\n",
    "\n",
    "    logger.info(f\"{'=' * 100}\\nFold: {fold}\\n{'=' * 100}\")\n",
    "    logger.info(f\"- Stage 1 | Train: {train_size}; Valid: {valid_size} -\")\n",
    "    valid_predicts, loss_records = train_fold(\n",
    "        model, fold, train_folds, valid_folds, logger, stage=1, checkpoint=None)\n",
    "\n",
    "    loss_history_1.append(loss_records)\n",
    "    valid_folds[TARGETS_PRED] = valid_predicts\n",
    "    kl_loss_torch = evaluate_oof(valid_folds)\n",
    "    info = f\"{'=' * 100}\\nFold {fold} Valid Loss: {kl_loss_torch}\\n\"\n",
    "    info += f\"Elapse: {(time() - tik) / 60:.2f} min \\n{'=' * 100}\"\n",
    "    logger.info(info)\n",
    "\n",
    "    oof_stage_1 = pd.concat([oof_stage_1, valid_folds], axis=0).reset_index(drop=True)\n",
    "    oof_stage_1.to_csv(os.path.join(PATHS.OUTPUT_DIR, f\"{ModelConfig.MODEL_NAME}_oof_1.csv\"), index=False)\n",
    "\n",
    "    # ================== Stage 2: Train ====================\n",
    "    tik = time()\n",
    "\n",
    "    ModelConfig.REGULARIZATION = 0.2 \n",
    "\n",
    "    model = ResNetGRU(config=ModelConfig, num_classes=6)\n",
    "    \n",
    "    train_folds_2 = train_hard[~train_hard['eeg_id'].isin(valid_folds['eeg_id'])].reset_index(drop=True)\n",
    "    valid_folds_2 = train_hard[ train_hard['eeg_id'].isin(valid_folds['eeg_id'])].reset_index(drop=True)\n",
    "    train_size = train_folds_2.shape[0]\n",
    "    valid_size = valid_folds_2.shape[0]\n",
    "    \n",
    "    ## STAGE 2\n",
    "    logger.info(f\"- Stage 2 | Train: {train_size}; Valid: {valid_size} | Reg = {ModelConfig.REGULARIZATION} -\")\n",
    "\n",
    "    # model_dir = \"/home/shiyi/kaggle_hms/outputs/ResnetGRU_Originalsplit/Reg015\"\n",
    "    # checkpoint = list(Path(model_dir).glob(f\"*_fold_{fold}_stage_1.pth\"))[0]\n",
    "    checkpoint = list(Path(PATHS.OUTPUT_DIR).glob(f\"{ModelConfig.MODEL_NAME}_fold_{fold}_stage_1.pth\"))[0]\n",
    "\n",
    "    valid_predicts, loss_records = train_fold(\n",
    "        model, fold, train_folds_2, valid_folds_2, logger, stage=2, checkpoint=checkpoint)\n",
    "    \n",
    "    loss_history_2.append(loss_records)\n",
    "    valid_folds_2[TARGETS_PRED] = valid_predicts\n",
    "    kl_loss_torch = evaluate_oof(valid_folds_2)\n",
    "    info = f\"{'=' * 100}\\nFold {fold} Valid Loss: {kl_loss_torch}\\n\"\n",
    "    info += f\"Elapse: {(time() - tik) / 60:.2f} min \\n{'=' * 100}\"\n",
    "    logger.info(info)\n",
    "\n",
    "    oof_stage_2 = pd.concat([oof_stage_2, valid_folds_2], axis=0).reset_index(drop=True)\n",
    "    oof_stage_2.to_csv(os.path.join(PATHS.OUTPUT_DIR, f\"{ModelConfig.MODEL_NAME}_oof_2.csv\"), index=False)\n",
    "\n",
    "    logger.info(f\"Fold {fold} Elapse: {(time() - tik_total) / 60:.2f} min\")\n",
    "\n",
    "info = f\"{'=' * 100}\\nTraining Complete!\\n\"\n",
    "cv_results_1 = evaluate_oof(oof_stage_1)\n",
    "cv_results_2 = evaluate_oof(oof_stage_2)\n",
    "info += f\"CV Result: Stage 1: {cv_results_1} | Stage 2: {cv_results_2}\\n\"\n",
    "info += f\"Elapse: {(time() - t_start) / 60:.2f} min \\n{'=' * 100}\"\n",
    "logger.info(info)"
   ]
  },
  {
   "cell_type": "code",
   "execution_count": 25,
   "metadata": {},
   "outputs": [
    {
     "name": "stderr",
     "output_type": "stream",
     "text": [
      "====================================================================================================\n",
      "Training Complete!\n",
      "CV Result: Stage 1: None | Stage 2: 0.40033119916915894\n",
      "Elapse: 20.79 min \n",
      "====================================================================================================\n"
     ]
    }
   ],
   "source": [
    "# nfo = f\"{'=' * 100}\\nTraining Complete!\\n\"\n",
    "# cv_results_1 = None \n",
    "# #evaluate_oof(oof_stage_1)\n",
    "# cv_results_2 = evaluate_oof(oof_stage_2)\n",
    "# info += f\"CV Result: Stage 1: {cv_results_1} | Stage 2: {cv_results_2}\\n\"\n",
    "# info += f\"Elapse: {(time() - t_start) / 60:.2f} min \\n{'=' * 100}\"\n",
    "# logger.info(info)"
   ]
  },
  {
   "cell_type": "code",
   "execution_count": null,
   "metadata": {},
   "outputs": [],
   "source": [
    "# plot loss history\n",
    "fig, (ax1, ax2) = plt.subplots(1, 2, figsize=(12, 5), sharey=False)\n",
    "\n",
    "for i, loss in enumerate(loss_history_1):\n",
    "    # ax1.plot(loss['train'], marker=\"*\", ls=\"-\", label=f\"Fold {i} Train\")\n",
    "    ax1.plot(loss['valid'], marker=\"o\", ls=\":\", label=f\"Fold {i} Valid\")\n",
    "\n",
    "for i, loss in enumerate(loss_history_2):\n",
    "    # ax2.plot(loss['train'], marker=\"*\", ls=\"-\", label=f\"Fold {i} Train\")\n",
    "    ax2.plot(loss['valid'], marker=\"o\", ls=\":\", label=f\"Fold {i} Valid\")\n",
    "\n",
    "ax1.set_title(\"Stage 1 Loss\")\n",
    "ax2.set_title(\"Stage 2 Loss\")\n",
    "\n",
    "for ax in (ax1, ax2):\n",
    "    ax.set_xlabel(\"Epochs\")\n",
    "    ax.set_ylabel(\"Loss\")\n",
    "    ax.legend()\n",
    "    ax.grid(True)\n",
    "\n",
    "fig.tight_layout()\n",
    "fig.savefig(Path(PATHS.OUTPUT_DIR) / f\"{ModelConfig.MODEL_NAME}_loss_history.png\")\n",
    "plt.show()"
   ]
  },
  {
   "cell_type": "code",
   "execution_count": null,
   "metadata": {},
   "outputs": [],
   "source": [
    "csv_path = f'./outputs/{ModelConfig.MODEL_NAME}_oof_1.csv'\n",
    "print(\"CSV Path: \", csv_path)\n",
    "\n",
    "oof_df = analyze_oof(csv_path)\n",
    "\n",
    "print(\"Kaggle Score: \", calc_kaggle_score(oof_df))\n",
    "print(\"Average KL Loss: \", oof_df[\"kl_loss\"].mean())\n",
    "\n",
    "display(oof_df.head())\n",
    "\n",
    "# plot confusion matrix\n",
    "cm = confusion_matrix(oof_df['target_id'], oof_df['target_pred']) # (y_true, y_pred)\n",
    "cm = cm / cm.sum(axis=1)[:, np.newaxis]\n",
    "\n",
    "fig = plt.figure(figsize=(6, 6))\n",
    "sns.heatmap(cm, annot=True, cmap='Blues', xticklabels=TARGET2ID.keys(), yticklabels=TARGET2ID.keys())\n",
    "plt.xlabel('Predicted', fontsize=12)\n",
    "plt.ylabel('True', fontsize=12)\n",
    "plt.title(csv_path.split('/')[-1].split('.')[0], fontsize=12)\n",
    "fig.tight_layout()\n",
    "fig.savefig(f\"./outputs/{csv_path.split('/')[-1].split('.')[0]}_CM.png\")\n",
    "plt.show()"
   ]
  },
  {
   "cell_type": "code",
   "execution_count": null,
   "metadata": {},
   "outputs": [],
   "source": [
    "csv_path = f'./outputs/{ModelConfig.MODEL_NAME}_oof_2.csv'\n",
    "print(\"CSV Path: \", csv_path)\n",
    "\n",
    "oof_df = analyze_oof(csv_path)\n",
    "\n",
    "print(\"Kaggle Score: \", calc_kaggle_score(oof_df))\n",
    "print(\"Average KL Loss: \", oof_df[\"kl_loss\"].mean())\n",
    "\n",
    "display(oof_df.head())\n",
    "\n",
    "# plot confusion matrix\n",
    "cm = confusion_matrix(oof_df['target_id'], oof_df['target_pred']) # (y_true, y_pred)\n",
    "cm = cm / cm.sum(axis=1)[:, np.newaxis]\n",
    "\n",
    "fig = plt.figure(figsize=(6, 6))\n",
    "sns.heatmap(cm, annot=True, cmap='Blues', xticklabels=TARGET2ID.keys(), yticklabels=TARGET2ID.keys())\n",
    "plt.xlabel('Predicted', fontsize=12)\n",
    "plt.ylabel('True', fontsize=12)\n",
    "plt.title(csv_path.split('/')[-1].split('.')[0], fontsize=12)\n",
    "fig.tight_layout()\n",
    "fig.savefig(f\"./outputs/{csv_path.split('/')[-1].split('.')[0]}_CM.png\")\n",
    "plt.show()"
   ]
  },
  {
   "cell_type": "code",
   "execution_count": null,
   "metadata": {},
   "outputs": [],
   "source": [
    "fig, axes = plt.subplots(5, 5, figsize=(15, 15), sharex=True, sharey=True)\n",
    "\n",
    "oof_samples = oof_df.loc[0:len(oof_df):250]\n",
    "\n",
    "for i, ax in enumerate(axes.flatten()):\n",
    "    row = oof_samples.iloc[i]\n",
    "    x = np.arange(6)\n",
    "    ax.plot(x, row[TARGETS].T, marker=\"o\", ls=\"-\", label=\"True\")\n",
    "    ax.plot(x, row[TARGETS_PRED].T, marker=\"*\", ls=\"--\", label=\"Predicted\")\n",
    "    ax.set_title(f\"{row['target']} | KL Loss: {row['kl_loss']:.4f}\")\n",
    "    ax.legend()\n",
    "    \n",
    "fig.tight_layout()\n",
    "fig.savefig(f\"./outputs/{csv_path.split('/')[-1].split('.')[0]}_samples.png\")\n",
    "plt.show()"
   ]
  },
  {
   "cell_type": "code",
   "execution_count": null,
   "metadata": {},
   "outputs": [],
   "source": []
  }
 ],
 "metadata": {
  "kernelspec": {
   "display_name": "kaggle",
   "language": "python",
   "name": "python3"
  },
  "language_info": {
   "codemirror_mode": {
    "name": "ipython",
    "version": 3
   },
   "file_extension": ".py",
   "mimetype": "text/x-python",
   "name": "python",
   "nbconvert_exporter": "python",
   "pygments_lexer": "ipython3",
   "version": "3.11.6"
  }
 },
 "nbformat": 4,
 "nbformat_minor": 2
}
