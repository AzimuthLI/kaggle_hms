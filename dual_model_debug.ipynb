{
 "cells": [
  {
   "cell_type": "code",
   "execution_count": null,
   "metadata": {},
   "outputs": [],
   "source": [
    "import pandas as pd \n",
    "import numpy as np \n",
    "import matplotlib.pyplot as plt\n",
    "\n",
    "from engine_hms_trainer import *\n",
    "from engine_hms_model import KagglePaths, LocalPaths, ModelConfig\n",
    "\n",
    "import torch\n",
    "from torch import nn\n",
    "import torch.nn.functional as F\n",
    "\n",
    "import warnings\n",
    "warnings.filterwarnings('ignore')\n",
    "\n",
    "paths = KagglePaths if os.path.exists(KagglePaths.OUTPUT_DIR) else LocalPaths\n",
    "print(\"Output Dir: \", paths.OUTPUT_DIR)\n",
    "\n",
    "DEVICE = torch.device(\"cuda\" if torch.cuda.is_available() else \"cpu\")\n",
    "print(DEVICE)"
   ]
  },
  {
   "cell_type": "code",
   "execution_count": null,
   "metadata": {},
   "outputs": [],
   "source": [
    "train_easy, train_hard, all_specs, all_eegs = load_kaggle_data(\n",
    "    paths.TRAIN_CSV, paths.PRE_LOADED_SPECTOGRAMS, paths.PRE_LOADED_EEGS, split_entropy=ModelConfig.SPLIT_ENTROPY)\n",
    "\n",
    "print(train_easy.shape)\n",
    "print(train_hard.shape)\n",
    "\n",
    "# check if contain NaN\n",
    "print(train_easy.isnull().sum().sum())\n",
    "print(train_hard.isnull().sum().sum())\n",
    "\n",
    "display(train_easy.head())\n",
    "print(\" \")\n",
    "display(train_hard.head())"
   ]
  },
  {
   "cell_type": "code",
   "execution_count": null,
   "metadata": {},
   "outputs": [],
   "source": [
    "ModelConfig.EPOCHS = 1\n",
    "ModelConfig.BATCH_SIZE = 16\n",
    "ModelConfig.GRADIENT_ACCUMULATION_STEPS = 2\n",
    "ModelConfig.MODEL_BACKBONE = 'dual_encoder'\n",
    "ModelConfig.MODEL_NAME = \"DualEncoder_Default_debug\"\n",
    "ModelConfig.USE_KAGGLE_SPECTROGRAMS = True\n",
    "ModelConfig.USE_EEG_SPECTROGRAMS = True\n",
    "ModelConfig.REGULARIZATION = None\n",
    "ModelConfig.AUGMENT = False\n",
    "ModelConfig.AUGMENTATIONS = []"
   ]
  },
  {
   "cell_type": "code",
   "execution_count": null,
   "metadata": {},
   "outputs": [],
   "source": [
    "valid_df_1 = train_easy.copy()\n",
    "valid_df_2 = train_hard.copy()\n",
    "valid_df = pd.concat([valid_df_1, valid_df_2], axis=0).reset_index(drop=True)\n",
    "\n",
    "dataset = CustomDataset( valid_df, TARGETS, ModelConfig, all_specs, all_eegs, mode=\"valid\" )\n",
    "\n",
    "loader_kwargs = {\n",
    "    \"batch_size\": ModelConfig.BATCH_SIZE,\n",
    "    \"num_workers\": ModelConfig.NUM_WORKERS,\n",
    "    \"pin_memory\": True,\n",
    "    \"shuffle\": False,\n",
    "}\n",
    "\n",
    "valid_loader = DataLoader(dataset, drop_last=False, **loader_kwargs)"
   ]
  },
  {
   "cell_type": "code",
   "execution_count": null,
   "metadata": {},
   "outputs": [],
   "source": [
    "model = DualEncoderModel(ModelConfig, num_classes=6, pretrained=False)"
   ]
  },
  {
   "cell_type": "code",
   "execution_count": null,
   "metadata": {},
   "outputs": [],
   "source": [
    "from logging import getLogger, INFO\n",
    "logger = getLogger(__name__)\n",
    "logger.setLevel(INFO)"
   ]
  },
  {
   "cell_type": "code",
   "execution_count": null,
   "metadata": {},
   "outputs": [],
   "source": [
    "trainer = Trainer(model, logger, ModelConfig)"
   ]
  },
  {
   "cell_type": "code",
   "execution_count": null,
   "metadata": {},
   "outputs": [],
   "source": [
    "valid_df_1.shape"
   ]
  },
  {
   "cell_type": "code",
   "execution_count": null,
   "metadata": {},
   "outputs": [],
   "source": [
    "len(valid_loader)"
   ]
  },
  {
   "cell_type": "code",
   "execution_count": null,
   "metadata": {},
   "outputs": [],
   "source": [
    "preds_list = []\n",
    "pbar = tqdm(valid_loader, total=len(valid_loader), unit=\"batch\")\n",
    "        \n",
    "for step, (x, y) in enumerate(pbar):\n",
    "    x = x.to(DEVICE)\n",
    "    y = y.to(DEVICE)\n",
    "    with torch.no_grad():\n",
    "        y_pred = model(x)\n",
    "        \n",
    "    preds_list.append(y_pred.to('cpu').numpy())"
   ]
  },
  {
   "cell_type": "code",
   "execution_count": null,
   "metadata": {},
   "outputs": [],
   "source": [
    "preds = np.concatenate(preds_list)\n",
    "preds.shape"
   ]
  },
  {
   "cell_type": "code",
   "execution_count": null,
   "metadata": {},
   "outputs": [],
   "source": [
    "valid_df[TARGETS_PRED] = preds \n",
    "valid_df"
   ]
  },
  {
   "cell_type": "code",
   "execution_count": null,
   "metadata": {},
   "outputs": [],
   "source": [
    "kl_loss = nn.KLDivLoss(reduction=\"batchmean\")\n",
    "labels = torch.tensor(valid_df[TARGETS].values.astype('float32'))\n",
    "model_preds = F.log_softmax(\n",
    "        torch.tensor(valid_df[TARGETS_PRED].values.astype('float32'))\n",
    "    )\n",
    "kl_torch = kl_loss(model_preds, labels).item()\n",
    "kl_torch"
   ]
  },
  {
   "cell_type": "code",
   "execution_count": null,
   "metadata": {},
   "outputs": [],
   "source": []
  }
 ],
 "metadata": {
  "kernelspec": {
   "display_name": "kaggle",
   "language": "python",
   "name": "python3"
  },
  "language_info": {
   "codemirror_mode": {
    "name": "ipython",
    "version": 3
   },
   "file_extension": ".py",
   "mimetype": "text/x-python",
   "name": "python",
   "nbconvert_exporter": "python",
   "pygments_lexer": "ipython3",
   "version": "3.11.6"
  }
 },
 "nbformat": 4,
 "nbformat_minor": 2
}
